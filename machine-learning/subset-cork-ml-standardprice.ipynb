{
 "cells": [
  {
   "cell_type": "code",
   "execution_count": 1,
   "id": "5342e164",
   "metadata": {},
   "outputs": [
    {
     "name": "stdout",
     "output_type": "stream",
     "text": [
      "Imported sci-kit learn and AutoML libraries!\n"
     ]
    }
   ],
   "source": [
    "import pandas as pd\n",
    "import numpy as np\n",
    "from sklearn.datasets import make_classification\n",
    "from sklearn.model_selection import train_test_split\n",
    "import os\n",
    "from supervised.automl import AutoML\n",
    "import category_encoders as ce\n",
    "import math\n",
    "\n",
    "# visualization\n",
    "import seaborn as sns\n",
    "import matplotlib.pyplot as plt\n",
    "\n",
    "from sklearn.metrics import accuracy_score\n",
    "from sklearn.metrics import mean_squared_error\n",
    "from sklearn.model_selection import train_test_split\n",
    "from sklearn.model_selection import cross_val_score, GridSearchCV\n",
    "from sklearn.linear_model import LogisticRegression\n",
    "from sklearn.tree import DecisionTreeClassifier\n",
    "from sklearn.ensemble import RandomForestClassifier\n",
    "from category_encoders import TargetEncoder\n",
    "from sklearn.metrics import median_absolute_error\n",
    "print('Imported sci-kit learn and AutoML libraries!')"
   ]
  },
  {
   "cell_type": "markdown",
   "id": "c2930a18",
   "metadata": {},
   "source": [
    "# Cork Prediction"
   ]
  },
  {
   "cell_type": "code",
   "execution_count": 2,
   "id": "fa05a057",
   "metadata": {},
   "outputs": [],
   "source": [
    "# new file containing rows with our focused area of Dublin found through exploratory analysis\n",
    "irl = pd.read_csv('cork-more-fixed.csv', index_col='Unnamed: 0')"
   ]
  },
  {
   "cell_type": "code",
   "execution_count": 3,
   "id": "c8559e63",
   "metadata": {},
   "outputs": [
    {
     "data": {
      "text/html": [
       "<div>\n",
       "<style scoped>\n",
       "    .dataframe tbody tr th:only-of-type {\n",
       "        vertical-align: middle;\n",
       "    }\n",
       "\n",
       "    .dataframe tbody tr th {\n",
       "        vertical-align: top;\n",
       "    }\n",
       "\n",
       "    .dataframe thead th {\n",
       "        text-align: right;\n",
       "    }\n",
       "</style>\n",
       "<table border=\"1\" class=\"dataframe\">\n",
       "  <thead>\n",
       "    <tr style=\"text-align: right;\">\n",
       "      <th></th>\n",
       "      <th>Address</th>\n",
       "      <th>County</th>\n",
       "      <th>Price (€)</th>\n",
       "      <th>VAT Exclusive</th>\n",
       "      <th>Description of Property</th>\n",
       "      <th>Property Size Description</th>\n",
       "      <th>Year</th>\n",
       "      <th>Month</th>\n",
       "      <th>Town</th>\n",
       "      <th>Apartment</th>\n",
       "      <th>Neighbourhood</th>\n",
       "      <th>PriceInflation</th>\n",
       "      <th>Eircode</th>\n",
       "      <th>Latitude</th>\n",
       "      <th>Longitude</th>\n",
       "      <th>DistanceCenter</th>\n",
       "      <th>DistanceSchool</th>\n",
       "      <th>DistancePark</th>\n",
       "      <th>DistanceCar</th>\n",
       "    </tr>\n",
       "  </thead>\n",
       "  <tbody>\n",
       "    <tr>\n",
       "      <th>94123</th>\n",
       "      <td>10 Deerpark Court, Friars Walk, Cork</td>\n",
       "      <td>Cork</td>\n",
       "      <td>280000.0</td>\n",
       "      <td>1</td>\n",
       "      <td>1</td>\n",
       "      <td>2</td>\n",
       "      <td>2014</td>\n",
       "      <td>1</td>\n",
       "      <td>Cork City</td>\n",
       "      <td>0</td>\n",
       "      <td>Friars Walk Cork City</td>\n",
       "      <td>529951.22</td>\n",
       "      <td>T12</td>\n",
       "      <td>51.891104</td>\n",
       "      <td>-8.474261</td>\n",
       "      <td>0.808257</td>\n",
       "      <td>0.371367</td>\n",
       "      <td>0.334321</td>\n",
       "      <td>0.607264</td>\n",
       "    </tr>\n",
       "    <tr>\n",
       "      <th>94124</th>\n",
       "      <td>30 Whitepoint Ave Cobh, Cork</td>\n",
       "      <td>Cork</td>\n",
       "      <td>370000.0</td>\n",
       "      <td>1</td>\n",
       "      <td>1</td>\n",
       "      <td>1</td>\n",
       "      <td>2014</td>\n",
       "      <td>1</td>\n",
       "      <td>Cork City</td>\n",
       "      <td>0</td>\n",
       "      <td>Whitepoint Ave Cobh Cork City</td>\n",
       "      <td>700292.68</td>\n",
       "      <td>T12</td>\n",
       "      <td>51.844802</td>\n",
       "      <td>-8.312442</td>\n",
       "      <td>12.501636</td>\n",
       "      <td>0.597510</td>\n",
       "      <td>5.440909</td>\n",
       "      <td>11.244529</td>\n",
       "    </tr>\n",
       "    <tr>\n",
       "      <th>94125</th>\n",
       "      <td>43 Richmond Hill, Cork</td>\n",
       "      <td>Cork</td>\n",
       "      <td>130000.0</td>\n",
       "      <td>1</td>\n",
       "      <td>1</td>\n",
       "      <td>1</td>\n",
       "      <td>2014</td>\n",
       "      <td>1</td>\n",
       "      <td>Cork City</td>\n",
       "      <td>0</td>\n",
       "      <td>Richmond Hill Cork City</td>\n",
       "      <td>246048.78</td>\n",
       "      <td>T12</td>\n",
       "      <td>51.903869</td>\n",
       "      <td>-8.471192</td>\n",
       "      <td>0.626745</td>\n",
       "      <td>0.323214</td>\n",
       "      <td>0.129914</td>\n",
       "      <td>0.238164</td>\n",
       "    </tr>\n",
       "    <tr>\n",
       "      <th>94126</th>\n",
       "      <td>Vermont, Ballyhooly Rd, Cork</td>\n",
       "      <td>Cork</td>\n",
       "      <td>155000.0</td>\n",
       "      <td>1</td>\n",
       "      <td>1</td>\n",
       "      <td>1</td>\n",
       "      <td>2014</td>\n",
       "      <td>1</td>\n",
       "      <td>Cork City</td>\n",
       "      <td>0</td>\n",
       "      <td>Ballyhooly Road Cork City</td>\n",
       "      <td>293365.85</td>\n",
       "      <td>T12</td>\n",
       "      <td>51.911380</td>\n",
       "      <td>-8.450581</td>\n",
       "      <td>2.096941</td>\n",
       "      <td>0.447549</td>\n",
       "      <td>0.669517</td>\n",
       "      <td>1.805214</td>\n",
       "    </tr>\n",
       "    <tr>\n",
       "      <th>94127</th>\n",
       "      <td>22 Fernwood, Wilton, Cork</td>\n",
       "      <td>Cork</td>\n",
       "      <td>210000.0</td>\n",
       "      <td>1</td>\n",
       "      <td>1</td>\n",
       "      <td>1</td>\n",
       "      <td>2014</td>\n",
       "      <td>1</td>\n",
       "      <td>Wilton</td>\n",
       "      <td>0</td>\n",
       "      <td>Wilton Cork City</td>\n",
       "      <td>397463.41</td>\n",
       "      <td>T12</td>\n",
       "      <td>51.882655</td>\n",
       "      <td>-8.507208</td>\n",
       "      <td>2.943974</td>\n",
       "      <td>0.503091</td>\n",
       "      <td>0.823622</td>\n",
       "      <td>2.329469</td>\n",
       "    </tr>\n",
       "  </tbody>\n",
       "</table>\n",
       "</div>"
      ],
      "text/plain": [
       "                                    Address County  Price (€)  VAT Exclusive  \\\n",
       "94123  10 Deerpark Court, Friars Walk, Cork   Cork   280000.0              1   \n",
       "94124          30 Whitepoint Ave Cobh, Cork   Cork   370000.0              1   \n",
       "94125                43 Richmond Hill, Cork   Cork   130000.0              1   \n",
       "94126          Vermont, Ballyhooly Rd, Cork   Cork   155000.0              1   \n",
       "94127             22 Fernwood, Wilton, Cork   Cork   210000.0              1   \n",
       "\n",
       "       Description of Property  Property Size Description  Year  Month  \\\n",
       "94123                        1                          2  2014      1   \n",
       "94124                        1                          1  2014      1   \n",
       "94125                        1                          1  2014      1   \n",
       "94126                        1                          1  2014      1   \n",
       "94127                        1                          1  2014      1   \n",
       "\n",
       "            Town  Apartment                  Neighbourhood  PriceInflation  \\\n",
       "94123  Cork City          0          Friars Walk Cork City       529951.22   \n",
       "94124  Cork City          0  Whitepoint Ave Cobh Cork City       700292.68   \n",
       "94125  Cork City          0        Richmond Hill Cork City       246048.78   \n",
       "94126  Cork City          0      Ballyhooly Road Cork City       293365.85   \n",
       "94127     Wilton          0               Wilton Cork City       397463.41   \n",
       "\n",
       "      Eircode   Latitude  Longitude  DistanceCenter  DistanceSchool  \\\n",
       "94123     T12  51.891104  -8.474261        0.808257        0.371367   \n",
       "94124     T12  51.844802  -8.312442       12.501636        0.597510   \n",
       "94125     T12  51.903869  -8.471192        0.626745        0.323214   \n",
       "94126     T12  51.911380  -8.450581        2.096941        0.447549   \n",
       "94127     T12  51.882655  -8.507208        2.943974        0.503091   \n",
       "\n",
       "       DistancePark  DistanceCar  \n",
       "94123      0.334321     0.607264  \n",
       "94124      5.440909    11.244529  \n",
       "94125      0.129914     0.238164  \n",
       "94126      0.669517     1.805214  \n",
       "94127      0.823622     2.329469  "
      ]
     },
     "execution_count": 3,
     "metadata": {},
     "output_type": "execute_result"
    }
   ],
   "source": [
    "irl.head()"
   ]
  },
  {
   "cell_type": "code",
   "execution_count": 4,
   "id": "d429f24f",
   "metadata": {},
   "outputs": [
    {
     "data": {
      "text/plain": [
       "(6453, 19)"
      ]
     },
     "execution_count": 4,
     "metadata": {},
     "output_type": "execute_result"
    }
   ],
   "source": [
    "irl.shape"
   ]
  },
  {
   "cell_type": "code",
   "execution_count": 5,
   "id": "caff117f",
   "metadata": {},
   "outputs": [],
   "source": [
    "irl.drop(columns = ['Address', 'County', 'PriceInflation', 'VAT Exclusive', 'Month'], inplace = True)"
   ]
  },
  {
   "cell_type": "code",
   "execution_count": 6,
   "id": "77f121eb",
   "metadata": {},
   "outputs": [],
   "source": [
    "# this function finds all values that fall within internationally accepted +-10% of actual prices in our predictions\n",
    "# we can modify the threshold as we feel the need to here\n",
    "def accuracy_threshold(test, pred, num):\n",
    "    test = np.array(test)\n",
    "    pred = np.array(pred)\n",
    "# get within x% of actual price , not within log price as this will be misleading / incorrect\n",
    "    test = np.exp(test)\n",
    "    pred = np.exp(pred)\n",
    "    count = 0\n",
    "    for i in range(len(pred)):\n",
    "        if test[i] != 0:  \n",
    "            ten = test[i] * num\n",
    "            res = test[i] - pred[i]\n",
    "        else:\n",
    "            res = 0\n",
    "            ten = 0\n",
    "        \n",
    "        if res < 0:\n",
    "            res = res * -1\n",
    "        else:\n",
    "            res = res\n",
    "            \n",
    "        if res <= ten:\n",
    "            count += 1\n",
    "        else:\n",
    "            continue\n",
    "    return (count / len(test))"
   ]
  },
  {
   "cell_type": "code",
   "execution_count": 7,
   "id": "7f74ea74",
   "metadata": {},
   "outputs": [],
   "source": [
    "encoder = TargetEncoder()\n",
    "irl['Town'] = encoder.fit_transform(irl['Town'], irl['Price (€)'])"
   ]
  },
  {
   "cell_type": "code",
   "execution_count": 8,
   "id": "78d29d8a",
   "metadata": {},
   "outputs": [
    {
     "data": {
      "text/html": [
       "<div>\n",
       "<style scoped>\n",
       "    .dataframe tbody tr th:only-of-type {\n",
       "        vertical-align: middle;\n",
       "    }\n",
       "\n",
       "    .dataframe tbody tr th {\n",
       "        vertical-align: top;\n",
       "    }\n",
       "\n",
       "    .dataframe thead th {\n",
       "        text-align: right;\n",
       "    }\n",
       "</style>\n",
       "<table border=\"1\" class=\"dataframe\">\n",
       "  <thead>\n",
       "    <tr style=\"text-align: right;\">\n",
       "      <th></th>\n",
       "      <th>Price (€)</th>\n",
       "      <th>Description of Property</th>\n",
       "      <th>Property Size Description</th>\n",
       "      <th>Year</th>\n",
       "      <th>Town</th>\n",
       "      <th>Apartment</th>\n",
       "      <th>Neighbourhood</th>\n",
       "      <th>Eircode</th>\n",
       "      <th>Latitude</th>\n",
       "      <th>Longitude</th>\n",
       "      <th>DistanceCenter</th>\n",
       "      <th>DistanceSchool</th>\n",
       "      <th>DistancePark</th>\n",
       "      <th>DistanceCar</th>\n",
       "    </tr>\n",
       "  </thead>\n",
       "  <tbody>\n",
       "    <tr>\n",
       "      <th>94123</th>\n",
       "      <td>280000.0</td>\n",
       "      <td>1</td>\n",
       "      <td>2</td>\n",
       "      <td>2014</td>\n",
       "      <td>238889.733351</td>\n",
       "      <td>0</td>\n",
       "      <td>Friars Walk Cork City</td>\n",
       "      <td>T12</td>\n",
       "      <td>51.891104</td>\n",
       "      <td>-8.474261</td>\n",
       "      <td>0.808257</td>\n",
       "      <td>0.371367</td>\n",
       "      <td>0.334321</td>\n",
       "      <td>0.607264</td>\n",
       "    </tr>\n",
       "  </tbody>\n",
       "</table>\n",
       "</div>"
      ],
      "text/plain": [
       "       Price (€)  Description of Property  Property Size Description  Year  \\\n",
       "94123   280000.0                        1                          2  2014   \n",
       "\n",
       "                Town  Apartment          Neighbourhood Eircode   Latitude  \\\n",
       "94123  238889.733351          0  Friars Walk Cork City     T12  51.891104   \n",
       "\n",
       "       Longitude  DistanceCenter  DistanceSchool  DistancePark  DistanceCar  \n",
       "94123  -8.474261        0.808257        0.371367      0.334321     0.607264  "
      ]
     },
     "execution_count": 8,
     "metadata": {},
     "output_type": "execute_result"
    }
   ],
   "source": [
    "irl.head(1)"
   ]
  },
  {
   "cell_type": "code",
   "execution_count": 9,
   "id": "07af19a0",
   "metadata": {},
   "outputs": [],
   "source": [
    "encoder = TargetEncoder()\n",
    "irl['Neighbourhood'] = encoder.fit_transform(irl['Neighbourhood'], irl['Price (€)'])"
   ]
  },
  {
   "cell_type": "code",
   "execution_count": 10,
   "id": "f80c9916",
   "metadata": {},
   "outputs": [],
   "source": [
    "irl['Neighbourhood'] = irl['Neighbourhood'].round()"
   ]
  },
  {
   "cell_type": "code",
   "execution_count": 11,
   "id": "5e0ff1b4",
   "metadata": {},
   "outputs": [],
   "source": [
    "encoder = TargetEncoder()\n",
    "irl['Eircode'] = encoder.fit_transform(irl['Eircode'], irl['Price (€)'])"
   ]
  },
  {
   "cell_type": "code",
   "execution_count": 12,
   "id": "2d29d9c7",
   "metadata": {},
   "outputs": [
    {
     "data": {
      "text/html": [
       "<div>\n",
       "<style scoped>\n",
       "    .dataframe tbody tr th:only-of-type {\n",
       "        vertical-align: middle;\n",
       "    }\n",
       "\n",
       "    .dataframe tbody tr th {\n",
       "        vertical-align: top;\n",
       "    }\n",
       "\n",
       "    .dataframe thead th {\n",
       "        text-align: right;\n",
       "    }\n",
       "</style>\n",
       "<table border=\"1\" class=\"dataframe\">\n",
       "  <thead>\n",
       "    <tr style=\"text-align: right;\">\n",
       "      <th></th>\n",
       "      <th>Price (€)</th>\n",
       "      <th>Description of Property</th>\n",
       "      <th>Property Size Description</th>\n",
       "      <th>Year</th>\n",
       "      <th>Town</th>\n",
       "      <th>Apartment</th>\n",
       "      <th>Neighbourhood</th>\n",
       "      <th>Eircode</th>\n",
       "      <th>Latitude</th>\n",
       "      <th>Longitude</th>\n",
       "      <th>DistanceCenter</th>\n",
       "      <th>DistanceSchool</th>\n",
       "      <th>DistancePark</th>\n",
       "      <th>DistanceCar</th>\n",
       "    </tr>\n",
       "  </thead>\n",
       "  <tbody>\n",
       "    <tr>\n",
       "      <th>94123</th>\n",
       "      <td>280000.0</td>\n",
       "      <td>1</td>\n",
       "      <td>2</td>\n",
       "      <td>2014</td>\n",
       "      <td>238889.733351</td>\n",
       "      <td>0</td>\n",
       "      <td>221996.0</td>\n",
       "      <td>248244.591934</td>\n",
       "      <td>51.891104</td>\n",
       "      <td>-8.474261</td>\n",
       "      <td>0.808257</td>\n",
       "      <td>0.371367</td>\n",
       "      <td>0.334321</td>\n",
       "      <td>0.607264</td>\n",
       "    </tr>\n",
       "    <tr>\n",
       "      <th>94124</th>\n",
       "      <td>370000.0</td>\n",
       "      <td>1</td>\n",
       "      <td>1</td>\n",
       "      <td>2014</td>\n",
       "      <td>238889.733351</td>\n",
       "      <td>0</td>\n",
       "      <td>342890.0</td>\n",
       "      <td>248244.591934</td>\n",
       "      <td>51.844802</td>\n",
       "      <td>-8.312442</td>\n",
       "      <td>12.501636</td>\n",
       "      <td>0.597510</td>\n",
       "      <td>5.440909</td>\n",
       "      <td>11.244529</td>\n",
       "    </tr>\n",
       "    <tr>\n",
       "      <th>94125</th>\n",
       "      <td>130000.0</td>\n",
       "      <td>1</td>\n",
       "      <td>1</td>\n",
       "      <td>2014</td>\n",
       "      <td>238889.733351</td>\n",
       "      <td>0</td>\n",
       "      <td>150351.0</td>\n",
       "      <td>248244.591934</td>\n",
       "      <td>51.903869</td>\n",
       "      <td>-8.471192</td>\n",
       "      <td>0.626745</td>\n",
       "      <td>0.323214</td>\n",
       "      <td>0.129914</td>\n",
       "      <td>0.238164</td>\n",
       "    </tr>\n",
       "    <tr>\n",
       "      <th>94126</th>\n",
       "      <td>155000.0</td>\n",
       "      <td>1</td>\n",
       "      <td>1</td>\n",
       "      <td>2014</td>\n",
       "      <td>238889.733351</td>\n",
       "      <td>0</td>\n",
       "      <td>273440.0</td>\n",
       "      <td>248244.591934</td>\n",
       "      <td>51.911380</td>\n",
       "      <td>-8.450581</td>\n",
       "      <td>2.096941</td>\n",
       "      <td>0.447549</td>\n",
       "      <td>0.669517</td>\n",
       "      <td>1.805214</td>\n",
       "    </tr>\n",
       "    <tr>\n",
       "      <th>94127</th>\n",
       "      <td>210000.0</td>\n",
       "      <td>1</td>\n",
       "      <td>1</td>\n",
       "      <td>2014</td>\n",
       "      <td>234741.592357</td>\n",
       "      <td>0</td>\n",
       "      <td>234742.0</td>\n",
       "      <td>248244.591934</td>\n",
       "      <td>51.882655</td>\n",
       "      <td>-8.507208</td>\n",
       "      <td>2.943974</td>\n",
       "      <td>0.503091</td>\n",
       "      <td>0.823622</td>\n",
       "      <td>2.329469</td>\n",
       "    </tr>\n",
       "  </tbody>\n",
       "</table>\n",
       "</div>"
      ],
      "text/plain": [
       "       Price (€)  Description of Property  Property Size Description  Year  \\\n",
       "94123   280000.0                        1                          2  2014   \n",
       "94124   370000.0                        1                          1  2014   \n",
       "94125   130000.0                        1                          1  2014   \n",
       "94126   155000.0                        1                          1  2014   \n",
       "94127   210000.0                        1                          1  2014   \n",
       "\n",
       "                Town  Apartment  Neighbourhood        Eircode   Latitude  \\\n",
       "94123  238889.733351          0       221996.0  248244.591934  51.891104   \n",
       "94124  238889.733351          0       342890.0  248244.591934  51.844802   \n",
       "94125  238889.733351          0       150351.0  248244.591934  51.903869   \n",
       "94126  238889.733351          0       273440.0  248244.591934  51.911380   \n",
       "94127  234741.592357          0       234742.0  248244.591934  51.882655   \n",
       "\n",
       "       Longitude  DistanceCenter  DistanceSchool  DistancePark  DistanceCar  \n",
       "94123  -8.474261        0.808257        0.371367      0.334321     0.607264  \n",
       "94124  -8.312442       12.501636        0.597510      5.440909    11.244529  \n",
       "94125  -8.471192        0.626745        0.323214      0.129914     0.238164  \n",
       "94126  -8.450581        2.096941        0.447549      0.669517     1.805214  \n",
       "94127  -8.507208        2.943974        0.503091      0.823622     2.329469  "
      ]
     },
     "execution_count": 12,
     "metadata": {},
     "output_type": "execute_result"
    }
   ],
   "source": [
    "irl.head()"
   ]
  },
  {
   "cell_type": "code",
   "execution_count": 13,
   "id": "d745bbde",
   "metadata": {},
   "outputs": [],
   "source": [
    "irl['LogPrice (€)'] = np.log(irl['Price (€)'])"
   ]
  },
  {
   "cell_type": "code",
   "execution_count": 14,
   "id": "70fc0455",
   "metadata": {},
   "outputs": [
    {
     "data": {
      "text/html": [
       "<div>\n",
       "<style scoped>\n",
       "    .dataframe tbody tr th:only-of-type {\n",
       "        vertical-align: middle;\n",
       "    }\n",
       "\n",
       "    .dataframe tbody tr th {\n",
       "        vertical-align: top;\n",
       "    }\n",
       "\n",
       "    .dataframe thead th {\n",
       "        text-align: right;\n",
       "    }\n",
       "</style>\n",
       "<table border=\"1\" class=\"dataframe\">\n",
       "  <thead>\n",
       "    <tr style=\"text-align: right;\">\n",
       "      <th></th>\n",
       "      <th>Price (€)</th>\n",
       "      <th>Description of Property</th>\n",
       "      <th>Property Size Description</th>\n",
       "      <th>Year</th>\n",
       "      <th>Town</th>\n",
       "      <th>Apartment</th>\n",
       "      <th>Neighbourhood</th>\n",
       "      <th>Eircode</th>\n",
       "      <th>Latitude</th>\n",
       "      <th>Longitude</th>\n",
       "      <th>DistanceCenter</th>\n",
       "      <th>DistanceSchool</th>\n",
       "      <th>DistancePark</th>\n",
       "      <th>DistanceCar</th>\n",
       "      <th>LogPrice (€)</th>\n",
       "    </tr>\n",
       "  </thead>\n",
       "  <tbody>\n",
       "    <tr>\n",
       "      <th>94123</th>\n",
       "      <td>280000.0</td>\n",
       "      <td>1</td>\n",
       "      <td>2</td>\n",
       "      <td>2014</td>\n",
       "      <td>238889.733351</td>\n",
       "      <td>0</td>\n",
       "      <td>221996.0</td>\n",
       "      <td>248244.591934</td>\n",
       "      <td>51.891104</td>\n",
       "      <td>-8.474261</td>\n",
       "      <td>0.808257</td>\n",
       "      <td>0.371367</td>\n",
       "      <td>0.334321</td>\n",
       "      <td>0.607264</td>\n",
       "      <td>12.542545</td>\n",
       "    </tr>\n",
       "  </tbody>\n",
       "</table>\n",
       "</div>"
      ],
      "text/plain": [
       "       Price (€)  Description of Property  Property Size Description  Year  \\\n",
       "94123   280000.0                        1                          2  2014   \n",
       "\n",
       "                Town  Apartment  Neighbourhood        Eircode   Latitude  \\\n",
       "94123  238889.733351          0       221996.0  248244.591934  51.891104   \n",
       "\n",
       "       Longitude  DistanceCenter  DistanceSchool  DistancePark  DistanceCar  \\\n",
       "94123  -8.474261        0.808257        0.371367      0.334321     0.607264   \n",
       "\n",
       "       LogPrice (€)  \n",
       "94123     12.542545  "
      ]
     },
     "execution_count": 14,
     "metadata": {},
     "output_type": "execute_result"
    }
   ],
   "source": [
    "irl.head(1)"
   ]
  },
  {
   "cell_type": "code",
   "execution_count": 15,
   "id": "b3a05305",
   "metadata": {},
   "outputs": [],
   "source": [
    "irl.drop(columns = ['Price (€)'], inplace = True)"
   ]
  },
  {
   "cell_type": "markdown",
   "id": "db0144e9",
   "metadata": {},
   "source": [
    "### Let's try predict a specific years values given some historical data\n",
    "We will look at using 3 years worth of data and use it to predict some data for a selected year, let's say 2021, now."
   ]
  },
  {
   "cell_type": "code",
   "execution_count": 16,
   "id": "9f08f8e1",
   "metadata": {},
   "outputs": [],
   "source": [
    "specific21 = irl[irl['Year'] > 2017]"
   ]
  },
  {
   "cell_type": "markdown",
   "id": "4aa43ad9",
   "metadata": {},
   "source": [
    "A regular train to test split will not suffice here as we need only the years 2018, 2019 and 2020 in our training data, while only using the houses associated with 2021 in our test data."
   ]
  },
  {
   "cell_type": "code",
   "execution_count": 17,
   "id": "41bbaeae",
   "metadata": {},
   "outputs": [
    {
     "data": {
      "text/html": [
       "<div>\n",
       "<style scoped>\n",
       "    .dataframe tbody tr th:only-of-type {\n",
       "        vertical-align: middle;\n",
       "    }\n",
       "\n",
       "    .dataframe tbody tr th {\n",
       "        vertical-align: top;\n",
       "    }\n",
       "\n",
       "    .dataframe thead th {\n",
       "        text-align: right;\n",
       "    }\n",
       "</style>\n",
       "<table border=\"1\" class=\"dataframe\">\n",
       "  <thead>\n",
       "    <tr style=\"text-align: right;\">\n",
       "      <th></th>\n",
       "      <th>Description of Property</th>\n",
       "      <th>Property Size Description</th>\n",
       "      <th>Year</th>\n",
       "      <th>Town</th>\n",
       "      <th>Apartment</th>\n",
       "      <th>Neighbourhood</th>\n",
       "      <th>Eircode</th>\n",
       "      <th>Latitude</th>\n",
       "      <th>Longitude</th>\n",
       "      <th>DistanceCenter</th>\n",
       "      <th>DistanceSchool</th>\n",
       "      <th>DistancePark</th>\n",
       "      <th>DistanceCar</th>\n",
       "      <th>LogPrice (€)</th>\n",
       "    </tr>\n",
       "  </thead>\n",
       "  <tbody>\n",
       "    <tr>\n",
       "      <th>101303</th>\n",
       "      <td>1</td>\n",
       "      <td>2</td>\n",
       "      <td>2021</td>\n",
       "      <td>238889.733351</td>\n",
       "      <td>0</td>\n",
       "      <td>211378.0</td>\n",
       "      <td>248244.591934</td>\n",
       "      <td>51.873131</td>\n",
       "      <td>-8.337650</td>\n",
       "      <td>9.675656</td>\n",
       "      <td>0.393688</td>\n",
       "      <td>1.967562</td>\n",
       "      <td>8.895109</td>\n",
       "      <td>11.976659</td>\n",
       "    </tr>\n",
       "    <tr>\n",
       "      <th>101304</th>\n",
       "      <td>1</td>\n",
       "      <td>2</td>\n",
       "      <td>2021</td>\n",
       "      <td>238889.733351</td>\n",
       "      <td>0</td>\n",
       "      <td>231068.0</td>\n",
       "      <td>248244.591934</td>\n",
       "      <td>51.917272</td>\n",
       "      <td>-8.445846</td>\n",
       "      <td>2.796181</td>\n",
       "      <td>1.003543</td>\n",
       "      <td>0.560057</td>\n",
       "      <td>2.487215</td>\n",
       "      <td>12.421184</td>\n",
       "    </tr>\n",
       "    <tr>\n",
       "      <th>101305</th>\n",
       "      <td>1</td>\n",
       "      <td>2</td>\n",
       "      <td>2021</td>\n",
       "      <td>131675.926848</td>\n",
       "      <td>0</td>\n",
       "      <td>131877.0</td>\n",
       "      <td>248244.591934</td>\n",
       "      <td>51.915242</td>\n",
       "      <td>-8.478741</td>\n",
       "      <td>1.930380</td>\n",
       "      <td>0.527584</td>\n",
       "      <td>0.319882</td>\n",
       "      <td>1.565576</td>\n",
       "      <td>12.028739</td>\n",
       "    </tr>\n",
       "    <tr>\n",
       "      <th>101306</th>\n",
       "      <td>1</td>\n",
       "      <td>2</td>\n",
       "      <td>2021</td>\n",
       "      <td>238889.733351</td>\n",
       "      <td>0</td>\n",
       "      <td>149467.0</td>\n",
       "      <td>248244.591934</td>\n",
       "      <td>51.907005</td>\n",
       "      <td>-8.461265</td>\n",
       "      <td>1.241596</td>\n",
       "      <td>0.372963</td>\n",
       "      <td>0.594080</td>\n",
       "      <td>0.938153</td>\n",
       "      <td>12.570716</td>\n",
       "    </tr>\n",
       "    <tr>\n",
       "      <th>101307</th>\n",
       "      <td>1</td>\n",
       "      <td>2</td>\n",
       "      <td>2021</td>\n",
       "      <td>238889.733351</td>\n",
       "      <td>0</td>\n",
       "      <td>248949.0</td>\n",
       "      <td>248244.591934</td>\n",
       "      <td>51.882794</td>\n",
       "      <td>-8.505025</td>\n",
       "      <td>2.814969</td>\n",
       "      <td>0.620525</td>\n",
       "      <td>0.678898</td>\n",
       "      <td>2.209840</td>\n",
       "      <td>12.367341</td>\n",
       "    </tr>\n",
       "  </tbody>\n",
       "</table>\n",
       "</div>"
      ],
      "text/plain": [
       "        Description of Property  Property Size Description  Year  \\\n",
       "101303                        1                          2  2021   \n",
       "101304                        1                          2  2021   \n",
       "101305                        1                          2  2021   \n",
       "101306                        1                          2  2021   \n",
       "101307                        1                          2  2021   \n",
       "\n",
       "                 Town  Apartment  Neighbourhood        Eircode   Latitude  \\\n",
       "101303  238889.733351          0       211378.0  248244.591934  51.873131   \n",
       "101304  238889.733351          0       231068.0  248244.591934  51.917272   \n",
       "101305  131675.926848          0       131877.0  248244.591934  51.915242   \n",
       "101306  238889.733351          0       149467.0  248244.591934  51.907005   \n",
       "101307  238889.733351          0       248949.0  248244.591934  51.882794   \n",
       "\n",
       "        Longitude  DistanceCenter  DistanceSchool  DistancePark  DistanceCar  \\\n",
       "101303  -8.337650        9.675656        0.393688      1.967562     8.895109   \n",
       "101304  -8.445846        2.796181        1.003543      0.560057     2.487215   \n",
       "101305  -8.478741        1.930380        0.527584      0.319882     1.565576   \n",
       "101306  -8.461265        1.241596        0.372963      0.594080     0.938153   \n",
       "101307  -8.505025        2.814969        0.620525      0.678898     2.209840   \n",
       "\n",
       "        LogPrice (€)  \n",
       "101303     11.976659  \n",
       "101304     12.421184  \n",
       "101305     12.028739  \n",
       "101306     12.570716  \n",
       "101307     12.367341  "
      ]
     },
     "execution_count": 17,
     "metadata": {},
     "output_type": "execute_result"
    }
   ],
   "source": [
    "specific21[specific21['Year'] == 2021].head()"
   ]
  },
  {
   "cell_type": "code",
   "execution_count": 18,
   "id": "eb10e6cf",
   "metadata": {},
   "outputs": [
    {
     "data": {
      "text/plain": [
       "3113"
      ]
     },
     "execution_count": 18,
     "metadata": {},
     "output_type": "execute_result"
    }
   ],
   "source": [
    "specific21.shape[0]"
   ]
  },
  {
   "cell_type": "code",
   "execution_count": 19,
   "id": "24fba876",
   "metadata": {},
   "outputs": [],
   "source": [
    "train_21 = specific21[specific21['Year'] < 2021]"
   ]
  },
  {
   "cell_type": "code",
   "execution_count": 20,
   "id": "20144683",
   "metadata": {},
   "outputs": [
    {
     "data": {
      "text/html": [
       "<div>\n",
       "<style scoped>\n",
       "    .dataframe tbody tr th:only-of-type {\n",
       "        vertical-align: middle;\n",
       "    }\n",
       "\n",
       "    .dataframe tbody tr th {\n",
       "        vertical-align: top;\n",
       "    }\n",
       "\n",
       "    .dataframe thead th {\n",
       "        text-align: right;\n",
       "    }\n",
       "</style>\n",
       "<table border=\"1\" class=\"dataframe\">\n",
       "  <thead>\n",
       "    <tr style=\"text-align: right;\">\n",
       "      <th></th>\n",
       "      <th>Description of Property</th>\n",
       "      <th>Property Size Description</th>\n",
       "      <th>Year</th>\n",
       "      <th>Town</th>\n",
       "      <th>Apartment</th>\n",
       "      <th>Neighbourhood</th>\n",
       "      <th>Eircode</th>\n",
       "      <th>Latitude</th>\n",
       "      <th>Longitude</th>\n",
       "      <th>DistanceCenter</th>\n",
       "      <th>DistanceSchool</th>\n",
       "      <th>DistancePark</th>\n",
       "      <th>DistanceCar</th>\n",
       "      <th>LogPrice (€)</th>\n",
       "    </tr>\n",
       "  </thead>\n",
       "  <tbody>\n",
       "    <tr>\n",
       "      <th>97516</th>\n",
       "      <td>1</td>\n",
       "      <td>1</td>\n",
       "      <td>2019</td>\n",
       "      <td>238889.733351</td>\n",
       "      <td>0</td>\n",
       "      <td>168643.0</td>\n",
       "      <td>248244.591934</td>\n",
       "      <td>51.905063</td>\n",
       "      <td>-8.481322</td>\n",
       "      <td>0.961035</td>\n",
       "      <td>0.146350</td>\n",
       "      <td>0.423376</td>\n",
       "      <td>0.511415</td>\n",
       "      <td>12.345835</td>\n",
       "    </tr>\n",
       "    <tr>\n",
       "      <th>97517</th>\n",
       "      <td>1</td>\n",
       "      <td>1</td>\n",
       "      <td>2019</td>\n",
       "      <td>238889.733351</td>\n",
       "      <td>0</td>\n",
       "      <td>422381.0</td>\n",
       "      <td>248244.591934</td>\n",
       "      <td>51.875108</td>\n",
       "      <td>-8.412160</td>\n",
       "      <td>4.884367</td>\n",
       "      <td>0.961080</td>\n",
       "      <td>1.431026</td>\n",
       "      <td>3.778074</td>\n",
       "      <td>12.860999</td>\n",
       "    </tr>\n",
       "    <tr>\n",
       "      <th>97518</th>\n",
       "      <td>1</td>\n",
       "      <td>1</td>\n",
       "      <td>2019</td>\n",
       "      <td>238889.733351</td>\n",
       "      <td>0</td>\n",
       "      <td>136372.0</td>\n",
       "      <td>248244.591934</td>\n",
       "      <td>51.919905</td>\n",
       "      <td>-8.490193</td>\n",
       "      <td>2.688469</td>\n",
       "      <td>0.421540</td>\n",
       "      <td>0.187103</td>\n",
       "      <td>2.266607</td>\n",
       "      <td>12.043554</td>\n",
       "    </tr>\n",
       "    <tr>\n",
       "      <th>97519</th>\n",
       "      <td>1</td>\n",
       "      <td>0</td>\n",
       "      <td>2019</td>\n",
       "      <td>238889.733351</td>\n",
       "      <td>0</td>\n",
       "      <td>149467.0</td>\n",
       "      <td>248244.591934</td>\n",
       "      <td>51.907005</td>\n",
       "      <td>-8.461265</td>\n",
       "      <td>1.241596</td>\n",
       "      <td>0.372963</td>\n",
       "      <td>0.594080</td>\n",
       "      <td>0.938153</td>\n",
       "      <td>12.287653</td>\n",
       "    </tr>\n",
       "    <tr>\n",
       "      <th>97520</th>\n",
       "      <td>1</td>\n",
       "      <td>0</td>\n",
       "      <td>2019</td>\n",
       "      <td>238889.733351</td>\n",
       "      <td>0</td>\n",
       "      <td>422381.0</td>\n",
       "      <td>248244.591934</td>\n",
       "      <td>51.875108</td>\n",
       "      <td>-8.412160</td>\n",
       "      <td>4.884367</td>\n",
       "      <td>0.961080</td>\n",
       "      <td>1.431026</td>\n",
       "      <td>3.778074</td>\n",
       "      <td>13.361380</td>\n",
       "    </tr>\n",
       "  </tbody>\n",
       "</table>\n",
       "</div>"
      ],
      "text/plain": [
       "       Description of Property  Property Size Description  Year  \\\n",
       "97516                        1                          1  2019   \n",
       "97517                        1                          1  2019   \n",
       "97518                        1                          1  2019   \n",
       "97519                        1                          0  2019   \n",
       "97520                        1                          0  2019   \n",
       "\n",
       "                Town  Apartment  Neighbourhood        Eircode   Latitude  \\\n",
       "97516  238889.733351          0       168643.0  248244.591934  51.905063   \n",
       "97517  238889.733351          0       422381.0  248244.591934  51.875108   \n",
       "97518  238889.733351          0       136372.0  248244.591934  51.919905   \n",
       "97519  238889.733351          0       149467.0  248244.591934  51.907005   \n",
       "97520  238889.733351          0       422381.0  248244.591934  51.875108   \n",
       "\n",
       "       Longitude  DistanceCenter  DistanceSchool  DistancePark  DistanceCar  \\\n",
       "97516  -8.481322        0.961035        0.146350      0.423376     0.511415   \n",
       "97517  -8.412160        4.884367        0.961080      1.431026     3.778074   \n",
       "97518  -8.490193        2.688469        0.421540      0.187103     2.266607   \n",
       "97519  -8.461265        1.241596        0.372963      0.594080     0.938153   \n",
       "97520  -8.412160        4.884367        0.961080      1.431026     3.778074   \n",
       "\n",
       "       LogPrice (€)  \n",
       "97516     12.345835  \n",
       "97517     12.860999  \n",
       "97518     12.043554  \n",
       "97519     12.287653  \n",
       "97520     13.361380  "
      ]
     },
     "execution_count": 20,
     "metadata": {},
     "output_type": "execute_result"
    }
   ],
   "source": [
    "#train_21 = train_21.sample(n = 80000)\n",
    "train_21.head()"
   ]
  },
  {
   "cell_type": "code",
   "execution_count": 21,
   "id": "b32af944",
   "metadata": {},
   "outputs": [],
   "source": [
    "test_21 = specific21[specific21['Year'] == 2021]"
   ]
  },
  {
   "cell_type": "code",
   "execution_count": 22,
   "id": "9e4fa5cf",
   "metadata": {},
   "outputs": [],
   "source": [
    "x_train_21 = train_21.loc[:, train_21.columns != 'LogPrice (€)']\n",
    "y_train_21 = train_21['LogPrice (€)']"
   ]
  },
  {
   "cell_type": "code",
   "execution_count": 23,
   "id": "30b4696d",
   "metadata": {},
   "outputs": [],
   "source": [
    "#x_train_21.drop(columns=['Year'], inplace = True)"
   ]
  },
  {
   "cell_type": "code",
   "execution_count": 24,
   "id": "5d9d83fe",
   "metadata": {},
   "outputs": [
    {
     "data": {
      "text/html": [
       "<div>\n",
       "<style scoped>\n",
       "    .dataframe tbody tr th:only-of-type {\n",
       "        vertical-align: middle;\n",
       "    }\n",
       "\n",
       "    .dataframe tbody tr th {\n",
       "        vertical-align: top;\n",
       "    }\n",
       "\n",
       "    .dataframe thead th {\n",
       "        text-align: right;\n",
       "    }\n",
       "</style>\n",
       "<table border=\"1\" class=\"dataframe\">\n",
       "  <thead>\n",
       "    <tr style=\"text-align: right;\">\n",
       "      <th></th>\n",
       "      <th>Description of Property</th>\n",
       "      <th>Property Size Description</th>\n",
       "      <th>Year</th>\n",
       "      <th>Town</th>\n",
       "      <th>Apartment</th>\n",
       "      <th>Neighbourhood</th>\n",
       "      <th>Eircode</th>\n",
       "      <th>Latitude</th>\n",
       "      <th>Longitude</th>\n",
       "      <th>DistanceCenter</th>\n",
       "      <th>DistanceSchool</th>\n",
       "      <th>DistancePark</th>\n",
       "      <th>DistanceCar</th>\n",
       "      <th>LogPrice (€)</th>\n",
       "    </tr>\n",
       "  </thead>\n",
       "  <tbody>\n",
       "    <tr>\n",
       "      <th>101303</th>\n",
       "      <td>1</td>\n",
       "      <td>2</td>\n",
       "      <td>2021</td>\n",
       "      <td>238889.733351</td>\n",
       "      <td>0</td>\n",
       "      <td>211378.0</td>\n",
       "      <td>248244.591934</td>\n",
       "      <td>51.873131</td>\n",
       "      <td>-8.337650</td>\n",
       "      <td>9.675656</td>\n",
       "      <td>0.393688</td>\n",
       "      <td>1.967562</td>\n",
       "      <td>8.895109</td>\n",
       "      <td>11.976659</td>\n",
       "    </tr>\n",
       "    <tr>\n",
       "      <th>101304</th>\n",
       "      <td>1</td>\n",
       "      <td>2</td>\n",
       "      <td>2021</td>\n",
       "      <td>238889.733351</td>\n",
       "      <td>0</td>\n",
       "      <td>231068.0</td>\n",
       "      <td>248244.591934</td>\n",
       "      <td>51.917272</td>\n",
       "      <td>-8.445846</td>\n",
       "      <td>2.796181</td>\n",
       "      <td>1.003543</td>\n",
       "      <td>0.560057</td>\n",
       "      <td>2.487215</td>\n",
       "      <td>12.421184</td>\n",
       "    </tr>\n",
       "    <tr>\n",
       "      <th>101305</th>\n",
       "      <td>1</td>\n",
       "      <td>2</td>\n",
       "      <td>2021</td>\n",
       "      <td>131675.926848</td>\n",
       "      <td>0</td>\n",
       "      <td>131877.0</td>\n",
       "      <td>248244.591934</td>\n",
       "      <td>51.915242</td>\n",
       "      <td>-8.478741</td>\n",
       "      <td>1.930380</td>\n",
       "      <td>0.527584</td>\n",
       "      <td>0.319882</td>\n",
       "      <td>1.565576</td>\n",
       "      <td>12.028739</td>\n",
       "    </tr>\n",
       "    <tr>\n",
       "      <th>101306</th>\n",
       "      <td>1</td>\n",
       "      <td>2</td>\n",
       "      <td>2021</td>\n",
       "      <td>238889.733351</td>\n",
       "      <td>0</td>\n",
       "      <td>149467.0</td>\n",
       "      <td>248244.591934</td>\n",
       "      <td>51.907005</td>\n",
       "      <td>-8.461265</td>\n",
       "      <td>1.241596</td>\n",
       "      <td>0.372963</td>\n",
       "      <td>0.594080</td>\n",
       "      <td>0.938153</td>\n",
       "      <td>12.570716</td>\n",
       "    </tr>\n",
       "    <tr>\n",
       "      <th>101307</th>\n",
       "      <td>1</td>\n",
       "      <td>2</td>\n",
       "      <td>2021</td>\n",
       "      <td>238889.733351</td>\n",
       "      <td>0</td>\n",
       "      <td>248949.0</td>\n",
       "      <td>248244.591934</td>\n",
       "      <td>51.882794</td>\n",
       "      <td>-8.505025</td>\n",
       "      <td>2.814969</td>\n",
       "      <td>0.620525</td>\n",
       "      <td>0.678898</td>\n",
       "      <td>2.209840</td>\n",
       "      <td>12.367341</td>\n",
       "    </tr>\n",
       "  </tbody>\n",
       "</table>\n",
       "</div>"
      ],
      "text/plain": [
       "        Description of Property  Property Size Description  Year  \\\n",
       "101303                        1                          2  2021   \n",
       "101304                        1                          2  2021   \n",
       "101305                        1                          2  2021   \n",
       "101306                        1                          2  2021   \n",
       "101307                        1                          2  2021   \n",
       "\n",
       "                 Town  Apartment  Neighbourhood        Eircode   Latitude  \\\n",
       "101303  238889.733351          0       211378.0  248244.591934  51.873131   \n",
       "101304  238889.733351          0       231068.0  248244.591934  51.917272   \n",
       "101305  131675.926848          0       131877.0  248244.591934  51.915242   \n",
       "101306  238889.733351          0       149467.0  248244.591934  51.907005   \n",
       "101307  238889.733351          0       248949.0  248244.591934  51.882794   \n",
       "\n",
       "        Longitude  DistanceCenter  DistanceSchool  DistancePark  DistanceCar  \\\n",
       "101303  -8.337650        9.675656        0.393688      1.967562     8.895109   \n",
       "101304  -8.445846        2.796181        1.003543      0.560057     2.487215   \n",
       "101305  -8.478741        1.930380        0.527584      0.319882     1.565576   \n",
       "101306  -8.461265        1.241596        0.372963      0.594080     0.938153   \n",
       "101307  -8.505025        2.814969        0.620525      0.678898     2.209840   \n",
       "\n",
       "        LogPrice (€)  \n",
       "101303     11.976659  \n",
       "101304     12.421184  \n",
       "101305     12.028739  \n",
       "101306     12.570716  \n",
       "101307     12.367341  "
      ]
     },
     "execution_count": 24,
     "metadata": {},
     "output_type": "execute_result"
    }
   ],
   "source": [
    "#test_21 = test_21.sample(n = 15000)\n",
    "test_21.head()"
   ]
  },
  {
   "cell_type": "code",
   "execution_count": 25,
   "id": "d0b79fe2",
   "metadata": {},
   "outputs": [],
   "source": [
    "x_test_21 = test_21.loc[:, test_21.columns != 'LogPrice (€)']\n",
    "y_test_21 = test_21['LogPrice (€)']"
   ]
  },
  {
   "cell_type": "code",
   "execution_count": 26,
   "id": "c0e493cb",
   "metadata": {},
   "outputs": [
    {
     "name": "stdout",
     "output_type": "stream",
     "text": [
      "AutoML directory: AutoML_1\n",
      "The task is regression with evaluation metric rmse\n",
      "AutoML will use algorithms: ['Baseline', 'Linear', 'Decision Tree', 'Random Forest', 'Xgboost', 'Neural Network']\n",
      "AutoML will ensemble available models\n",
      "AutoML steps: ['simple_algorithms', 'default_algorithms', 'ensemble']\n",
      "* Step simple_algorithms will try to check up to 3 models\n",
      "1_Baseline rmse 0.536044 trained in 0.93 seconds\n",
      "2_DecisionTree rmse 0.425967 trained in 30.12 seconds\n",
      "3_Linear rmse 0.412445 trained in 5.88 seconds\n",
      "* Step default_algorithms will try to check up to 3 models\n",
      "4_Default_Xgboost rmse 0.405341 trained in 6.68 seconds\n",
      "5_Default_NeuralNetwork rmse 0.422974 trained in 1.41 seconds\n",
      "6_Default_RandomForest rmse 0.411253 trained in 6.06 seconds\n",
      "* Step ensemble will try to check up to 1 model\n",
      "Ensemble rmse 0.399748 trained in 0.77 seconds\n",
      "AutoML fit time: 69.82 seconds\n",
      "AutoML best model: Ensemble\n"
     ]
    },
    {
     "data": {
      "text/plain": [
       "AutoML(explain_level=2, total_time_limit=300)"
      ]
     },
     "execution_count": 26,
     "metadata": {},
     "output_type": "execute_result"
    }
   ],
   "source": [
    "## explain_level gives information on feature importance when given value 1 or 2\n",
    "automl1 = AutoML(total_time_limit = 5 * 60, explain_level = 2)\n",
    "automl1.fit(x_train_21, y_train_21)"
   ]
  },
  {
   "cell_type": "code",
   "execution_count": 27,
   "id": "d4f2a436",
   "metadata": {},
   "outputs": [
    {
     "name": "stdout",
     "output_type": "stream",
     "text": [
      "MSE for AutoML 2021 is: 0.16717321912763\n"
     ]
    }
   ],
   "source": [
    "# calculated values\n",
    "y_predicted_21 = automl1.predict(x_test_21)\n",
    "  \n",
    "# Calculation of Mean Squared Error (MSE)\n",
    "mse = mean_squared_error(y_test_21, y_predicted_21)\n",
    "print('MSE for AutoML 2021 is: ' + str(mse))"
   ]
  },
  {
   "cell_type": "code",
   "execution_count": 28,
   "id": "718fee9e",
   "metadata": {},
   "outputs": [
    {
     "name": "stdout",
     "output_type": "stream",
     "text": [
      "RMSE for AutoML 2021 is: 0.40886821731167855\n"
     ]
    }
   ],
   "source": [
    "rmse = mean_squared_error(y_test_21, y_predicted_21, squared = False)\n",
    "print('RMSE for AutoML 2021 is: ' + str(rmse))"
   ]
  },
  {
   "cell_type": "code",
   "execution_count": 29,
   "id": "2131bd5d",
   "metadata": {},
   "outputs": [
    {
     "name": "stdout",
     "output_type": "stream",
     "text": [
      "Accuracy of properties at +- 10% of actual prices is 0.26525198938992045\n"
     ]
    }
   ],
   "source": [
    "acc = accuracy_threshold(y_test_21, y_predicted_21, 0.1)\n",
    "print('Accuracy of properties at +- 10% of actual prices is ' + str(acc))"
   ]
  },
  {
   "cell_type": "code",
   "execution_count": 30,
   "id": "9521e57c",
   "metadata": {},
   "outputs": [
    {
     "name": "stdout",
     "output_type": "stream",
     "text": [
      "Accuracy of properties at +- 20% of actual prices is 0.506631299734748\n"
     ]
    }
   ],
   "source": [
    "acc1 = accuracy_threshold(y_test_21, y_predicted_21, 0.20)\n",
    "print('Accuracy of properties at +- 20% of actual prices is ' + str(acc1))"
   ]
  },
  {
   "cell_type": "code",
   "execution_count": 31,
   "id": "5fe78f15",
   "metadata": {},
   "outputs": [
    {
     "name": "stdout",
     "output_type": "stream",
     "text": [
      "Median Absolute Error:\n",
      "\n",
      "0.20496827585556057\n"
     ]
    }
   ],
   "source": [
    "median_se = np.square(np.subtract(y_test_21, y_predicted_21)).median() \n",
    " \n",
    "med = math.sqrt(median_se)\n",
    "print(\"Median Absolute Error:\\n\")\n",
    "print(med)"
   ]
  },
  {
   "cell_type": "code",
   "execution_count": 32,
   "id": "b55c0957",
   "metadata": {},
   "outputs": [
    {
     "name": "stdout",
     "output_type": "stream",
     "text": [
      "MAPE for AutoML 2021 is: 0.023204984030492527\n"
     ]
    }
   ],
   "source": [
    "from sklearn.metrics import mean_absolute_percentage_error\n",
    "mape = mean_absolute_percentage_error(y_test_21, y_predicted_21)\n",
    "print(\"MAPE for AutoML 2021 is: \" + str(mape))"
   ]
  },
  {
   "cell_type": "code",
   "execution_count": 33,
   "id": "6e9ed327",
   "metadata": {},
   "outputs": [],
   "source": [
    "cnames=['Algorithm', 'Year', 'RMSE', 'MSE', 'MEDAE', 'Accuracy', 'MAPE']\n",
    "df11 = pd.DataFrame(columns=cnames)\n",
    "\n",
    "df11 = df11.append({'Algorithm': 'AutoML',\n",
    "            'Year': 2021,\n",
    "           'RMSE': rmse,\n",
    "           'MSE': mse,\n",
    "           'MEDAE': med,\n",
    "           'Accuracy': acc,\n",
    "           'MAPE': mape         \n",
    "          }, ignore_index=True)"
   ]
  },
  {
   "cell_type": "code",
   "execution_count": 34,
   "id": "bac5823b",
   "metadata": {},
   "outputs": [],
   "source": [
    "#cnames = ['Actual', 'Predicted']\n",
    "#dfreal1 = pd.DataFrame(columns = cnames)\n",
    "dfreal1 = pd.DataFrame(y_test_21.values)\n",
    "dfpred1 = pd.DataFrame(y_predicted_21)"
   ]
  },
  {
   "cell_type": "markdown",
   "id": "d081217e",
   "metadata": {},
   "source": [
    "### 2020 predictions"
   ]
  },
  {
   "cell_type": "code",
   "execution_count": 35,
   "id": "d6e48b79",
   "metadata": {},
   "outputs": [],
   "source": [
    "specific20 = irl[irl['Year'] > 2016]"
   ]
  },
  {
   "cell_type": "code",
   "execution_count": 36,
   "id": "315afd40",
   "metadata": {},
   "outputs": [],
   "source": [
    "test_20 = specific20[specific20['Year'] == 2020]\n",
    "train_20 = specific20[specific20['Year'] < 2020]"
   ]
  },
  {
   "cell_type": "code",
   "execution_count": 37,
   "id": "ef743c5f",
   "metadata": {},
   "outputs": [],
   "source": [
    "#train_20 = train_20.sample(n = 75000)"
   ]
  },
  {
   "cell_type": "code",
   "execution_count": 38,
   "id": "c9c2a103",
   "metadata": {},
   "outputs": [],
   "source": [
    "x_train_20 = train_20.loc[:, train_20.columns != 'LogPrice (€)']\n",
    "y_train_20 = train_20['LogPrice (€)']"
   ]
  },
  {
   "cell_type": "code",
   "execution_count": 39,
   "id": "23cef19c",
   "metadata": {},
   "outputs": [],
   "source": [
    "x_test_20 = test_20.loc[:, test_20.columns != 'LogPrice (€)']\n",
    "y_test_20 = test_20['LogPrice (€)']"
   ]
  },
  {
   "cell_type": "code",
   "execution_count": 40,
   "id": "489501e2",
   "metadata": {},
   "outputs": [
    {
     "name": "stdout",
     "output_type": "stream",
     "text": [
      "AutoML directory: AutoML_2\n",
      "The task is regression with evaluation metric rmse\n",
      "AutoML will use algorithms: ['Baseline', 'Linear', 'Decision Tree', 'Random Forest', 'Xgboost', 'Neural Network']\n",
      "AutoML will ensemble available models\n",
      "AutoML steps: ['simple_algorithms', 'default_algorithms', 'ensemble']\n",
      "* Step simple_algorithms will try to check up to 3 models\n",
      "1_Baseline rmse 0.519297 trained in 1.53 seconds\n",
      "2_DecisionTree rmse 0.435208 trained in 7.95 seconds\n",
      "3_Linear rmse 0.420307 trained in 6.05 seconds\n",
      "* Step default_algorithms will try to check up to 3 models\n",
      "4_Default_Xgboost rmse 0.426712 trained in 10.68 seconds\n",
      "5_Default_NeuralNetwork rmse 0.420829 trained in 2.78 seconds\n",
      "6_Default_RandomForest rmse 0.426453 trained in 7.53 seconds\n",
      "* Step ensemble will try to check up to 1 model\n",
      "Ensemble rmse 0.41361 trained in 0.9 seconds\n",
      "AutoML fit time: 60.29 seconds\n",
      "AutoML best model: Ensemble\n"
     ]
    },
    {
     "data": {
      "text/plain": [
       "AutoML(explain_level=2, total_time_limit=300)"
      ]
     },
     "execution_count": 40,
     "metadata": {},
     "output_type": "execute_result"
    }
   ],
   "source": [
    "automl2 = AutoML(total_time_limit = 5 * 60, explain_level = 2)\n",
    "automl2.fit(x_train_20, y_train_20)"
   ]
  },
  {
   "cell_type": "code",
   "execution_count": 41,
   "id": "614a3cad",
   "metadata": {},
   "outputs": [
    {
     "name": "stdout",
     "output_type": "stream",
     "text": [
      "MSE for AutoML 2020 is: 0.1563215262948508\n"
     ]
    }
   ],
   "source": [
    "# calculated values\n",
    "y_predicted_20 = automl2.predict(x_test_20)\n",
    "  \n",
    "# Calculation of Mean Squared Error (MSE)\n",
    "mse = mean_squared_error(y_test_20,y_predicted_20)\n",
    "print('MSE for AutoML 2020 is: ' + str(mse))"
   ]
  },
  {
   "cell_type": "code",
   "execution_count": 42,
   "id": "8e4a25f6",
   "metadata": {},
   "outputs": [
    {
     "name": "stdout",
     "output_type": "stream",
     "text": [
      "RMSE for AutoML 2020 is: 0.39537517157106716\n"
     ]
    }
   ],
   "source": [
    "rmse = mean_squared_error(y_test_20, y_predicted_20, squared=False)\n",
    "print('RMSE for AutoML 2020 is: ' + str(rmse))"
   ]
  },
  {
   "cell_type": "code",
   "execution_count": 43,
   "id": "720e2b2e",
   "metadata": {},
   "outputs": [
    {
     "name": "stdout",
     "output_type": "stream",
     "text": [
      "Accuracy of properties at +- 10% of actual prices is 0.29295774647887324\n"
     ]
    }
   ],
   "source": [
    "acc = accuracy_threshold(y_test_20, y_predicted_20, 0.1)\n",
    "print('Accuracy of properties at +- 10% of actual prices is ' + str(acc))"
   ]
  },
  {
   "cell_type": "code",
   "execution_count": 44,
   "id": "2c03aba3",
   "metadata": {},
   "outputs": [
    {
     "name": "stdout",
     "output_type": "stream",
     "text": [
      "Accuracy of properties at +- 20% of actual prices is 0.532394366197183\n"
     ]
    }
   ],
   "source": [
    "acc1 = accuracy_threshold(y_test_20, y_predicted_20, 0.2)\n",
    "print('Accuracy of properties at +- 20% of actual prices is ' + str(acc1))"
   ]
  },
  {
   "cell_type": "code",
   "execution_count": 45,
   "id": "a7924ad0",
   "metadata": {},
   "outputs": [
    {
     "name": "stdout",
     "output_type": "stream",
     "text": [
      "Median Absolute Error:\n",
      "\n",
      "0.1850253388751275\n"
     ]
    }
   ],
   "source": [
    "print(\"Median Absolute Error:\\n\")\n",
    "print(median_absolute_error(y_test_20, y_predicted_20))"
   ]
  },
  {
   "cell_type": "code",
   "execution_count": 46,
   "id": "18076ebd",
   "metadata": {},
   "outputs": [
    {
     "name": "stdout",
     "output_type": "stream",
     "text": [
      "MAPE for AutoML 2020 is: 0.02227011015108144\n"
     ]
    }
   ],
   "source": [
    "mape = mean_absolute_percentage_error(y_test_20, y_predicted_20)\n",
    "print(\"MAPE for AutoML 2020 is: \" + str(mape))"
   ]
  },
  {
   "cell_type": "code",
   "execution_count": 47,
   "id": "3ee1861f",
   "metadata": {},
   "outputs": [],
   "source": [
    "cnames = ['Algorithm', 'Year', 'RMSE', 'MSE', 'MEDAE', 'Accuracy', 'MAPE']\n",
    "df10 = pd.DataFrame(columns=cnames)\n",
    "\n",
    "df10 = df10.append({'Algorithm': 'AutoML',\n",
    "            'Year': 2020,\n",
    "           'RMSE': rmse,\n",
    "           'MSE': mse,\n",
    "           'MEDAE': med,\n",
    "           'Accuracy': acc,\n",
    "           'MAPE': mape\n",
    "          }, ignore_index=True)"
   ]
  },
  {
   "cell_type": "code",
   "execution_count": 48,
   "id": "16a86bf8",
   "metadata": {},
   "outputs": [
    {
     "data": {
      "text/html": [
       "<div>\n",
       "<style scoped>\n",
       "    .dataframe tbody tr th:only-of-type {\n",
       "        vertical-align: middle;\n",
       "    }\n",
       "\n",
       "    .dataframe tbody tr th {\n",
       "        vertical-align: top;\n",
       "    }\n",
       "\n",
       "    .dataframe thead th {\n",
       "        text-align: right;\n",
       "    }\n",
       "</style>\n",
       "<table border=\"1\" class=\"dataframe\">\n",
       "  <thead>\n",
       "    <tr style=\"text-align: right;\">\n",
       "      <th></th>\n",
       "      <th>Description of Property</th>\n",
       "      <th>Property Size Description</th>\n",
       "      <th>Year</th>\n",
       "      <th>Town</th>\n",
       "      <th>Apartment</th>\n",
       "      <th>Neighbourhood</th>\n",
       "      <th>Eircode</th>\n",
       "      <th>Latitude</th>\n",
       "      <th>Longitude</th>\n",
       "      <th>DistanceCenter</th>\n",
       "      <th>DistanceSchool</th>\n",
       "      <th>DistancePark</th>\n",
       "      <th>DistanceCar</th>\n",
       "    </tr>\n",
       "  </thead>\n",
       "  <tbody>\n",
       "    <tr>\n",
       "      <th>0</th>\n",
       "      <td>1</td>\n",
       "      <td>1</td>\n",
       "      <td>2020</td>\n",
       "      <td>238889.733351</td>\n",
       "      <td>1</td>\n",
       "      <td>322036.0</td>\n",
       "      <td>248244.591934</td>\n",
       "      <td>51.889884</td>\n",
       "      <td>-8.538672</td>\n",
       "      <td>4.629442</td>\n",
       "      <td>1.484108</td>\n",
       "      <td>1.068568</td>\n",
       "      <td>3.958792</td>\n",
       "    </tr>\n",
       "    <tr>\n",
       "      <th>1</th>\n",
       "      <td>1</td>\n",
       "      <td>1</td>\n",
       "      <td>2020</td>\n",
       "      <td>238889.733351</td>\n",
       "      <td>0</td>\n",
       "      <td>333240.0</td>\n",
       "      <td>248244.591934</td>\n",
       "      <td>51.878132</td>\n",
       "      <td>-8.436607</td>\n",
       "      <td>3.336313</td>\n",
       "      <td>0.451238</td>\n",
       "      <td>0.324759</td>\n",
       "      <td>2.083371</td>\n",
       "    </tr>\n",
       "    <tr>\n",
       "      <th>2</th>\n",
       "      <td>1</td>\n",
       "      <td>1</td>\n",
       "      <td>2020</td>\n",
       "      <td>234741.592357</td>\n",
       "      <td>0</td>\n",
       "      <td>234742.0</td>\n",
       "      <td>248244.591934</td>\n",
       "      <td>51.881036</td>\n",
       "      <td>-8.503579</td>\n",
       "      <td>2.864464</td>\n",
       "      <td>0.609113</td>\n",
       "      <td>0.567662</td>\n",
       "      <td>2.285724</td>\n",
       "    </tr>\n",
       "    <tr>\n",
       "      <th>3</th>\n",
       "      <td>1</td>\n",
       "      <td>1</td>\n",
       "      <td>2020</td>\n",
       "      <td>238889.733351</td>\n",
       "      <td>0</td>\n",
       "      <td>230892.0</td>\n",
       "      <td>248244.591934</td>\n",
       "      <td>51.915896</td>\n",
       "      <td>-8.451011</td>\n",
       "      <td>2.453867</td>\n",
       "      <td>0.701465</td>\n",
       "      <td>0.404339</td>\n",
       "      <td>2.129879</td>\n",
       "    </tr>\n",
       "    <tr>\n",
       "      <th>4</th>\n",
       "      <td>1</td>\n",
       "      <td>1</td>\n",
       "      <td>2020</td>\n",
       "      <td>238889.733351</td>\n",
       "      <td>0</td>\n",
       "      <td>136372.0</td>\n",
       "      <td>248244.591934</td>\n",
       "      <td>51.919905</td>\n",
       "      <td>-8.490193</td>\n",
       "      <td>2.688469</td>\n",
       "      <td>0.421540</td>\n",
       "      <td>0.187103</td>\n",
       "      <td>2.266607</td>\n",
       "    </tr>\n",
       "    <tr>\n",
       "      <th>...</th>\n",
       "      <td>...</td>\n",
       "      <td>...</td>\n",
       "      <td>...</td>\n",
       "      <td>...</td>\n",
       "      <td>...</td>\n",
       "      <td>...</td>\n",
       "      <td>...</td>\n",
       "      <td>...</td>\n",
       "      <td>...</td>\n",
       "      <td>...</td>\n",
       "      <td>...</td>\n",
       "      <td>...</td>\n",
       "      <td>...</td>\n",
       "    </tr>\n",
       "    <tr>\n",
       "      <th>705</th>\n",
       "      <td>1</td>\n",
       "      <td>2</td>\n",
       "      <td>2020</td>\n",
       "      <td>281978.748081</td>\n",
       "      <td>0</td>\n",
       "      <td>189891.0</td>\n",
       "      <td>248244.591934</td>\n",
       "      <td>51.869345</td>\n",
       "      <td>-8.442395</td>\n",
       "      <td>3.829340</td>\n",
       "      <td>0.431347</td>\n",
       "      <td>0.436788</td>\n",
       "      <td>1.957004</td>\n",
       "    </tr>\n",
       "    <tr>\n",
       "      <th>706</th>\n",
       "      <td>1</td>\n",
       "      <td>2</td>\n",
       "      <td>2020</td>\n",
       "      <td>326881.984495</td>\n",
       "      <td>0</td>\n",
       "      <td>375326.0</td>\n",
       "      <td>248244.591934</td>\n",
       "      <td>51.878748</td>\n",
       "      <td>-8.514920</td>\n",
       "      <td>3.627960</td>\n",
       "      <td>0.210651</td>\n",
       "      <td>1.378612</td>\n",
       "      <td>3.013648</td>\n",
       "    </tr>\n",
       "    <tr>\n",
       "      <th>707</th>\n",
       "      <td>1</td>\n",
       "      <td>2</td>\n",
       "      <td>2020</td>\n",
       "      <td>326881.984495</td>\n",
       "      <td>0</td>\n",
       "      <td>395513.0</td>\n",
       "      <td>248244.591934</td>\n",
       "      <td>51.880926</td>\n",
       "      <td>-8.518769</td>\n",
       "      <td>3.710962</td>\n",
       "      <td>0.506495</td>\n",
       "      <td>1.150036</td>\n",
       "      <td>3.071412</td>\n",
       "    </tr>\n",
       "    <tr>\n",
       "      <th>708</th>\n",
       "      <td>1</td>\n",
       "      <td>2</td>\n",
       "      <td>2020</td>\n",
       "      <td>326881.984495</td>\n",
       "      <td>0</td>\n",
       "      <td>339235.0</td>\n",
       "      <td>248244.591934</td>\n",
       "      <td>51.880079</td>\n",
       "      <td>-8.528767</td>\n",
       "      <td>4.354634</td>\n",
       "      <td>0.212325</td>\n",
       "      <td>0.464748</td>\n",
       "      <td>3.701578</td>\n",
       "    </tr>\n",
       "    <tr>\n",
       "      <th>709</th>\n",
       "      <td>1</td>\n",
       "      <td>2</td>\n",
       "      <td>2020</td>\n",
       "      <td>326881.984495</td>\n",
       "      <td>0</td>\n",
       "      <td>370539.0</td>\n",
       "      <td>248244.591934</td>\n",
       "      <td>51.875266</td>\n",
       "      <td>-8.527854</td>\n",
       "      <td>4.576080</td>\n",
       "      <td>0.327201</td>\n",
       "      <td>0.749449</td>\n",
       "      <td>3.946195</td>\n",
       "    </tr>\n",
       "  </tbody>\n",
       "</table>\n",
       "<p>710 rows × 13 columns</p>\n",
       "</div>"
      ],
      "text/plain": [
       "     Description of Property  Property Size Description  Year           Town  \\\n",
       "0                          1                          1  2020  238889.733351   \n",
       "1                          1                          1  2020  238889.733351   \n",
       "2                          1                          1  2020  234741.592357   \n",
       "3                          1                          1  2020  238889.733351   \n",
       "4                          1                          1  2020  238889.733351   \n",
       "..                       ...                        ...   ...            ...   \n",
       "705                        1                          2  2020  281978.748081   \n",
       "706                        1                          2  2020  326881.984495   \n",
       "707                        1                          2  2020  326881.984495   \n",
       "708                        1                          2  2020  326881.984495   \n",
       "709                        1                          2  2020  326881.984495   \n",
       "\n",
       "     Apartment  Neighbourhood        Eircode   Latitude  Longitude  \\\n",
       "0            1       322036.0  248244.591934  51.889884  -8.538672   \n",
       "1            0       333240.0  248244.591934  51.878132  -8.436607   \n",
       "2            0       234742.0  248244.591934  51.881036  -8.503579   \n",
       "3            0       230892.0  248244.591934  51.915896  -8.451011   \n",
       "4            0       136372.0  248244.591934  51.919905  -8.490193   \n",
       "..         ...            ...            ...        ...        ...   \n",
       "705          0       189891.0  248244.591934  51.869345  -8.442395   \n",
       "706          0       375326.0  248244.591934  51.878748  -8.514920   \n",
       "707          0       395513.0  248244.591934  51.880926  -8.518769   \n",
       "708          0       339235.0  248244.591934  51.880079  -8.528767   \n",
       "709          0       370539.0  248244.591934  51.875266  -8.527854   \n",
       "\n",
       "     DistanceCenter  DistanceSchool  DistancePark  DistanceCar  \n",
       "0          4.629442        1.484108      1.068568     3.958792  \n",
       "1          3.336313        0.451238      0.324759     2.083371  \n",
       "2          2.864464        0.609113      0.567662     2.285724  \n",
       "3          2.453867        0.701465      0.404339     2.129879  \n",
       "4          2.688469        0.421540      0.187103     2.266607  \n",
       "..              ...             ...           ...          ...  \n",
       "705        3.829340        0.431347      0.436788     1.957004  \n",
       "706        3.627960        0.210651      1.378612     3.013648  \n",
       "707        3.710962        0.506495      1.150036     3.071412  \n",
       "708        4.354634        0.212325      0.464748     3.701578  \n",
       "709        4.576080        0.327201      0.749449     3.946195  \n",
       "\n",
       "[710 rows x 13 columns]"
      ]
     },
     "execution_count": 48,
     "metadata": {},
     "output_type": "execute_result"
    }
   ],
   "source": [
    "x_test_20"
   ]
  },
  {
   "cell_type": "code",
   "execution_count": 49,
   "id": "d3e9a667",
   "metadata": {},
   "outputs": [],
   "source": [
    "#cnames = ['Actual', 'Predicted']\n",
    "#dfreal2 = pd.DataFrame(columns = cnames)\n",
    "dfreal2 = pd.DataFrame(y_test_20.values)\n",
    "dfpred2 = pd.DataFrame(y_predicted_20)\n",
    "#dfreal2 = pd.concat([z1, z2], ignore_index=True)"
   ]
  },
  {
   "cell_type": "markdown",
   "id": "74228ee8",
   "metadata": {},
   "source": [
    "### Multiple Linear Regression"
   ]
  },
  {
   "cell_type": "markdown",
   "id": "0c6586a2",
   "metadata": {},
   "source": [
    "Next, I will try implement some algorithms not specified in our autoML library which so far has only utilised XgBoost, Random Forest, Decison Tree and ensemble algorithms. I will attempt to implement other ML algorithms such as multiple linear regression and adaboost among others."
   ]
  },
  {
   "cell_type": "markdown",
   "id": "07c29198",
   "metadata": {},
   "source": [
    "There is a couple of different libraries we can use here for linear regression:\n",
    "- Sci-kit learn's linear model library\n",
    "- Statsmodel\n",
    "\n",
    "For the purpose of this I will remain consistent with the use of the sci-kit learn libraries."
   ]
  },
  {
   "cell_type": "code",
   "execution_count": 50,
   "id": "2b68d852",
   "metadata": {},
   "outputs": [],
   "source": [
    "from sklearn import linear_model"
   ]
  },
  {
   "cell_type": "markdown",
   "id": "130a989d",
   "metadata": {},
   "source": [
    "#### Let's try predict our 2021 values again using MLR"
   ]
  },
  {
   "cell_type": "code",
   "execution_count": 51,
   "id": "7d5c0fca",
   "metadata": {},
   "outputs": [
    {
     "data": {
      "text/plain": [
       "LinearRegression()"
      ]
     },
     "execution_count": 51,
     "metadata": {},
     "output_type": "execute_result"
    }
   ],
   "source": [
    "lm = linear_model.LinearRegression()\n",
    "lm.fit(x_train_21, y_train_21) # fitting the model"
   ]
  },
  {
   "cell_type": "code",
   "execution_count": 52,
   "id": "f263e379",
   "metadata": {},
   "outputs": [
    {
     "name": "stdout",
     "output_type": "stream",
     "text": [
      "MSE for MLR 2021 is: 0.16923068136895392\n"
     ]
    }
   ],
   "source": [
    "y_pred_21 = lm.predict(x_test_21)\n",
    "# Calculation of Mean Squared Error (MSE)\n",
    "mse = mean_squared_error(y_test_21,y_pred_21)\n",
    "print('MSE for MLR 2021 is: ' + str(mse))"
   ]
  },
  {
   "cell_type": "code",
   "execution_count": 53,
   "id": "73543343",
   "metadata": {},
   "outputs": [
    {
     "name": "stdout",
     "output_type": "stream",
     "text": [
      "Accuracy of properties at +- 10% of actual prices is 0.2546419098143236\n"
     ]
    }
   ],
   "source": [
    "acc = accuracy_threshold(y_test_21, y_pred_21, 0.1)\n",
    "print('Accuracy of properties at +- 10% of actual prices is ' + str(acc))"
   ]
  },
  {
   "cell_type": "code",
   "execution_count": 54,
   "id": "01de429f",
   "metadata": {},
   "outputs": [
    {
     "name": "stdout",
     "output_type": "stream",
     "text": [
      "Accuracy of properties at +- 20% of actual prices is 0.4827586206896552\n"
     ]
    }
   ],
   "source": [
    "acc1 = accuracy_threshold(y_test_21, y_pred_21, 0.20)\n",
    "print('Accuracy of properties at +- 20% of actual prices is ' + str(acc1))"
   ]
  },
  {
   "cell_type": "code",
   "execution_count": 55,
   "id": "f1dc8944",
   "metadata": {},
   "outputs": [
    {
     "name": "stdout",
     "output_type": "stream",
     "text": [
      "Median Absolute Error:\n",
      "\n",
      "0.2216109004776898\n"
     ]
    }
   ],
   "source": [
    "median_se = np.square(np.subtract(y_test_21,y_pred_21)).median() \n",
    " \n",
    "med = math.sqrt(median_se)\n",
    "print(\"Median Absolute Error:\\n\")\n",
    "print(med)"
   ]
  },
  {
   "cell_type": "code",
   "execution_count": 56,
   "id": "b1472e99",
   "metadata": {},
   "outputs": [
    {
     "name": "stdout",
     "output_type": "stream",
     "text": [
      "Root Mean Square Error:\n",
      "\n",
      "0.41137656881372586\n"
     ]
    }
   ],
   "source": [
    "mean = np.square(np.subtract(y_test_21,y_pred_21)).mean() \n",
    " \n",
    "mean = math.sqrt(mean)\n",
    "print(\"Root Mean Square Error:\\n\")\n",
    "print(mean)"
   ]
  },
  {
   "cell_type": "code",
   "execution_count": 57,
   "id": "c7dd3250",
   "metadata": {},
   "outputs": [
    {
     "name": "stdout",
     "output_type": "stream",
     "text": [
      "MAPE for MLR 2021 is: 0.02369173825546289\n"
     ]
    }
   ],
   "source": [
    "mape = mean_absolute_percentage_error(y_test_21, y_pred_21)\n",
    "print(\"MAPE for MLR 2021 is: \" + str(mape))"
   ]
  },
  {
   "cell_type": "code",
   "execution_count": 58,
   "id": "2b29c4f2",
   "metadata": {},
   "outputs": [],
   "source": [
    "cnames=['Algorithm', 'Year', 'RMSE', 'MSE', 'MEDAE', 'Accuracy', 'MAPE']\n",
    "df9 = pd.DataFrame(columns=cnames)\n",
    "\n",
    "df9 = df9.append({'Algorithm': 'MLR',\n",
    "            'Year': 2021,\n",
    "           'RMSE': mean,\n",
    "           'MSE': mse,\n",
    "           'MEDAE': med,\n",
    "           'Accuracy': acc,\n",
    "           'MAPE': mape       \n",
    "          }, ignore_index=True)"
   ]
  },
  {
   "cell_type": "markdown",
   "id": "f971bf25",
   "metadata": {},
   "source": [
    "### 2020 predictions"
   ]
  },
  {
   "cell_type": "code",
   "execution_count": 59,
   "id": "a14bd756",
   "metadata": {},
   "outputs": [
    {
     "data": {
      "text/plain": [
       "LinearRegression()"
      ]
     },
     "execution_count": 59,
     "metadata": {},
     "output_type": "execute_result"
    }
   ],
   "source": [
    "lm = linear_model.LinearRegression()\n",
    "lm.fit(x_train_20, y_train_20) # fitting the model"
   ]
  },
  {
   "cell_type": "code",
   "execution_count": 60,
   "id": "ebe7da38",
   "metadata": {},
   "outputs": [
    {
     "name": "stdout",
     "output_type": "stream",
     "text": [
      "MSE for MLR 2020 is: 0.16231310776963903\n"
     ]
    }
   ],
   "source": [
    "y_pred_20 = lm.predict(x_test_20)\n",
    "# Calculation of Mean Squared Error (MSE)\n",
    "mse = mean_squared_error(y_test_20, y_pred_20)\n",
    "print('MSE for MLR 2020 is: ' + str(mse))"
   ]
  },
  {
   "cell_type": "code",
   "execution_count": 61,
   "id": "94e183b3",
   "metadata": {},
   "outputs": [
    {
     "name": "stdout",
     "output_type": "stream",
     "text": [
      "Accuracy of properties at +- 10% of actual prices is 0.2859154929577465\n"
     ]
    }
   ],
   "source": [
    "acc = accuracy_threshold(y_test_20, y_pred_20, 0.1)\n",
    "print('Accuracy of properties at +- 10% of actual prices is ' + str(acc))"
   ]
  },
  {
   "cell_type": "code",
   "execution_count": 62,
   "id": "52735367",
   "metadata": {},
   "outputs": [
    {
     "name": "stdout",
     "output_type": "stream",
     "text": [
      "Accuracy of properties at +- 15% of actual prices is 0.4056338028169014\n"
     ]
    }
   ],
   "source": [
    "acc1 = accuracy_threshold(y_test_20, y_pred_20, 0.15)\n",
    "print('Accuracy of properties at +- 15% of actual prices is ' + str(acc1))"
   ]
  },
  {
   "cell_type": "code",
   "execution_count": 63,
   "id": "849311be",
   "metadata": {},
   "outputs": [
    {
     "name": "stdout",
     "output_type": "stream",
     "text": [
      "Median Absolute Error:\n",
      "\n",
      "0.17378340137786275\n"
     ]
    }
   ],
   "source": [
    "median_se = np.square(np.subtract(y_test_20, y_pred_20)).median() \n",
    " \n",
    "med = math.sqrt(median_se)\n",
    "print(\"Median Absolute Error:\\n\")\n",
    "print(med)"
   ]
  },
  {
   "cell_type": "code",
   "execution_count": 64,
   "id": "513d7076",
   "metadata": {},
   "outputs": [
    {
     "name": "stdout",
     "output_type": "stream",
     "text": [
      "Root Mean Square Error:\n",
      "\n",
      "0.40288100944278676\n"
     ]
    }
   ],
   "source": [
    "mean = np.square(np.subtract(y_test_20, y_pred_20)).mean() \n",
    " \n",
    "mean = math.sqrt(mean)\n",
    "print(\"Root Mean Square Error:\\n\")\n",
    "print(mean)"
   ]
  },
  {
   "cell_type": "code",
   "execution_count": 65,
   "id": "b604c388",
   "metadata": {},
   "outputs": [
    {
     "name": "stdout",
     "output_type": "stream",
     "text": [
      "MAPE for MLR 2020 is: 0.022618388838188393\n"
     ]
    }
   ],
   "source": [
    "mape = mean_absolute_percentage_error(y_test_20, y_pred_20)\n",
    "print(\"MAPE for MLR 2020 is: \" + str(mape))"
   ]
  },
  {
   "cell_type": "code",
   "execution_count": 66,
   "id": "0133f359",
   "metadata": {},
   "outputs": [],
   "source": [
    "cnames=['Algorithm', 'Year', 'RMSE', 'MSE', 'MEDAE', 'Accuracy', 'MAPE']\n",
    "df8 = pd.DataFrame(columns=cnames)\n",
    "\n",
    "df8 = df8.append({'Algorithm': 'MLR',\n",
    "            'Year': 2020,\n",
    "           'RMSE': mean,\n",
    "           'MSE': mse,\n",
    "           'MEDAE': med,\n",
    "           'Accuracy': acc,\n",
    "           'MAPE': mape       \n",
    "          }, ignore_index=True)"
   ]
  },
  {
   "cell_type": "markdown",
   "id": "47a04928",
   "metadata": {},
   "source": [
    "### Adaboost"
   ]
  },
  {
   "cell_type": "markdown",
   "id": "5daebee4",
   "metadata": {},
   "source": [
    "#### 2021 Predictions"
   ]
  },
  {
   "cell_type": "code",
   "execution_count": 67,
   "id": "e573a23c",
   "metadata": {},
   "outputs": [],
   "source": [
    "from sklearn.ensemble import AdaBoostRegressor\n",
    "from sklearn.datasets import make_regression"
   ]
  },
  {
   "cell_type": "code",
   "execution_count": 68,
   "id": "21cfd588",
   "metadata": {},
   "outputs": [],
   "source": [
    "model = AdaBoostRegressor()"
   ]
  },
  {
   "cell_type": "code",
   "execution_count": 69,
   "id": "9abf8264",
   "metadata": {},
   "outputs": [
    {
     "data": {
      "text/plain": [
       "AdaBoostRegressor()"
      ]
     },
     "execution_count": 69,
     "metadata": {},
     "output_type": "execute_result"
    }
   ],
   "source": [
    "model.fit(x_train_21, y_train_21)"
   ]
  },
  {
   "cell_type": "code",
   "execution_count": 70,
   "id": "ecb42e2c",
   "metadata": {},
   "outputs": [
    {
     "name": "stdout",
     "output_type": "stream",
     "text": [
      "MSE for AdaBoost 2021 is: 0.18075262105836698\n"
     ]
    }
   ],
   "source": [
    "y_pred_21 = model.predict(x_test_21)\n",
    "# Calculation of Mean Squared Error (MSE)\n",
    "mse = mean_squared_error(y_test_21,y_pred_21)\n",
    "print('MSE for AdaBoost 2021 is: ' + str(mse))"
   ]
  },
  {
   "cell_type": "code",
   "execution_count": 71,
   "id": "01b0ca20",
   "metadata": {},
   "outputs": [
    {
     "name": "stdout",
     "output_type": "stream",
     "text": [
      "Accuracy of properties at +- 10% of actual prices is 0.23607427055702918\n"
     ]
    }
   ],
   "source": [
    "acc = accuracy_threshold(y_test_21, y_pred_21, 0.1)\n",
    "print('Accuracy of properties at +- 10% of actual prices is ' + str(acc))"
   ]
  },
  {
   "cell_type": "code",
   "execution_count": 72,
   "id": "f6961e9e",
   "metadata": {},
   "outputs": [
    {
     "name": "stdout",
     "output_type": "stream",
     "text": [
      "Accuracy of properties at +- 20% of actual prices is 0.4416445623342175\n"
     ]
    }
   ],
   "source": [
    "acc1 = accuracy_threshold(y_test_21, y_pred_21, 0.20)\n",
    "print('Accuracy of properties at +- 20% of actual prices is ' + str(acc1))"
   ]
  },
  {
   "cell_type": "code",
   "execution_count": 73,
   "id": "38743392",
   "metadata": {},
   "outputs": [
    {
     "name": "stdout",
     "output_type": "stream",
     "text": [
      "Median Absolute Error:\n",
      "\n",
      "0.2438979007744658\n"
     ]
    }
   ],
   "source": [
    "median_se = np.square(np.subtract(y_test_21, y_pred_21)).median() \n",
    " \n",
    "med = math.sqrt(median_se)\n",
    "print(\"Median Absolute Error:\\n\")\n",
    "print(med)"
   ]
  },
  {
   "cell_type": "code",
   "execution_count": 74,
   "id": "ac047411",
   "metadata": {},
   "outputs": [
    {
     "name": "stdout",
     "output_type": "stream",
     "text": [
      "Root Mean Square Error:\n",
      "\n",
      "0.42515011591009444\n"
     ]
    }
   ],
   "source": [
    "mean = np.square(np.subtract(y_test_21, y_pred_21)).mean() \n",
    " \n",
    "mean = math.sqrt(mean)\n",
    "print(\"Root Mean Square Error:\\n\")\n",
    "print(mean)"
   ]
  },
  {
   "cell_type": "code",
   "execution_count": 75,
   "id": "95ff4f12",
   "metadata": {},
   "outputs": [
    {
     "name": "stdout",
     "output_type": "stream",
     "text": [
      "MAPE for AdaBoost 2021 is: 0.025188406934404124\n"
     ]
    }
   ],
   "source": [
    "mape = mean_absolute_percentage_error(y_test_21, y_pred_21)\n",
    "print(\"MAPE for AdaBoost 2021 is: \" + str(mape))"
   ]
  },
  {
   "cell_type": "code",
   "execution_count": 76,
   "id": "935683db",
   "metadata": {},
   "outputs": [],
   "source": [
    "cnames=['Algorithm', 'Year', 'RMSE', 'MSE', 'MEDAE', 'Accuracy', 'MAPE']\n",
    "df7 = pd.DataFrame(columns=cnames)\n",
    "\n",
    "df7 = df7.append({'Algorithm': 'AdaBoost',\n",
    "            'Year': 2021,\n",
    "           'RMSE': mean,\n",
    "           'MSE': mse,\n",
    "           'MEDAE': med,\n",
    "           'Accuracy': acc,\n",
    "           'MAPE': mape       \n",
    "          }, ignore_index=True)"
   ]
  },
  {
   "cell_type": "markdown",
   "id": "b8a62354",
   "metadata": {},
   "source": [
    "#### 2020 Predictions"
   ]
  },
  {
   "cell_type": "code",
   "execution_count": 77,
   "id": "91a5776a",
   "metadata": {},
   "outputs": [
    {
     "data": {
      "text/plain": [
       "AdaBoostRegressor()"
      ]
     },
     "execution_count": 77,
     "metadata": {},
     "output_type": "execute_result"
    }
   ],
   "source": [
    "model = AdaBoostRegressor()\n",
    "model.fit(x_train_20, y_train_20)"
   ]
  },
  {
   "cell_type": "code",
   "execution_count": 78,
   "id": "bcc35421",
   "metadata": {},
   "outputs": [
    {
     "name": "stdout",
     "output_type": "stream",
     "text": [
      "MSE for AdaBoost 2020 is: 0.17182840338648428\n"
     ]
    }
   ],
   "source": [
    "y_pred_20 = model.predict(x_test_20)\n",
    "# Calculation of Mean Squared Error (MSE)\n",
    "mse = mean_squared_error(y_test_20, y_pred_20)\n",
    "print('MSE for AdaBoost 2020 is: ' + str(mse))"
   ]
  },
  {
   "cell_type": "code",
   "execution_count": 79,
   "id": "641cd557",
   "metadata": {},
   "outputs": [
    {
     "name": "stdout",
     "output_type": "stream",
     "text": [
      "Accuracy of properties at +- 10% of actual prices is 0.28450704225352114\n"
     ]
    }
   ],
   "source": [
    "acc = accuracy_threshold(y_test_20, y_pred_20, 0.1)\n",
    "print('Accuracy of properties at +- 10% of actual prices is ' + str(acc))"
   ]
  },
  {
   "cell_type": "code",
   "execution_count": 80,
   "id": "ab81180d",
   "metadata": {},
   "outputs": [
    {
     "name": "stdout",
     "output_type": "stream",
     "text": [
      "Accuracy of properties at +- 20% of actual prices is 0.5056338028169014\n"
     ]
    }
   ],
   "source": [
    "acc1 = accuracy_threshold(y_test_20, y_pred_20, 0.20)\n",
    "print('Accuracy of properties at +- 20% of actual prices is ' + str(acc1))"
   ]
  },
  {
   "cell_type": "code",
   "execution_count": 81,
   "id": "a081be20",
   "metadata": {},
   "outputs": [
    {
     "name": "stdout",
     "output_type": "stream",
     "text": [
      "Median Absolute Error:\n",
      "\n",
      "0.21150993273906565\n"
     ]
    }
   ],
   "source": [
    "median_se = np.square(np.subtract(y_test_20, y_pred_20)).median() \n",
    " \n",
    "med = math.sqrt(median_se)\n",
    "print(\"Median Absolute Error:\\n\")\n",
    "print(med)"
   ]
  },
  {
   "cell_type": "code",
   "execution_count": 82,
   "id": "02c3cb6f",
   "metadata": {},
   "outputs": [
    {
     "name": "stdout",
     "output_type": "stream",
     "text": [
      "Root Mean Square Error:\n",
      "\n",
      "0.4145218973546327\n"
     ]
    }
   ],
   "source": [
    "mean = np.square(np.subtract(y_test_20, y_pred_20)).mean() \n",
    " \n",
    "mean = math.sqrt(mean)\n",
    "print(\"Root Mean Square Error:\\n\")\n",
    "print(mean)"
   ]
  },
  {
   "cell_type": "code",
   "execution_count": 83,
   "id": "dc3d5e41",
   "metadata": {},
   "outputs": [
    {
     "name": "stdout",
     "output_type": "stream",
     "text": [
      "MAPE for AdaBoost 2020 is: 0.024094421506991315\n"
     ]
    }
   ],
   "source": [
    "mape = mean_absolute_percentage_error(y_test_20, y_pred_20)\n",
    "print(\"MAPE for AdaBoost 2020 is: \" + str(mape))"
   ]
  },
  {
   "cell_type": "code",
   "execution_count": 84,
   "id": "99ce3cf8",
   "metadata": {},
   "outputs": [],
   "source": [
    "cnames=['Algorithm', 'Year', 'RMSE', 'MSE', 'MEDAE', 'Accuracy', 'MAPE']\n",
    "df6 = pd.DataFrame(columns = cnames)\n",
    "\n",
    "df6 = df6.append({'Algorithm': 'AdaBoost',\n",
    "            'Year': 2020,\n",
    "           'RMSE': mean,\n",
    "           'MSE': mse,\n",
    "           'MEDAE': med,\n",
    "           'Accuracy': acc,\n",
    "           'MAPE': mape       \n",
    "          }, ignore_index=True)"
   ]
  },
  {
   "cell_type": "markdown",
   "id": "5d5407fb",
   "metadata": {},
   "source": [
    "## Let's now try a selection of other algorithms on our data\n",
    "### LightGBM"
   ]
  },
  {
   "cell_type": "code",
   "execution_count": 85,
   "id": "8b71082c",
   "metadata": {},
   "outputs": [],
   "source": [
    "from sklearn.datasets import make_regression\n",
    "from lightgbm import LGBMRegressor"
   ]
  },
  {
   "cell_type": "markdown",
   "id": "e0e91f3e",
   "metadata": {},
   "source": [
    "### 2020 House Price Prediction Using LightGBM"
   ]
  },
  {
   "cell_type": "code",
   "execution_count": 86,
   "id": "74d6ecf3",
   "metadata": {},
   "outputs": [
    {
     "data": {
      "text/plain": [
       "LGBMRegressor()"
      ]
     },
     "execution_count": 86,
     "metadata": {},
     "output_type": "execute_result"
    }
   ],
   "source": [
    "model = LGBMRegressor()\n",
    "model.fit(x_train_20, y_train_20)"
   ]
  },
  {
   "cell_type": "code",
   "execution_count": 87,
   "id": "bef53552",
   "metadata": {},
   "outputs": [
    {
     "name": "stdout",
     "output_type": "stream",
     "text": [
      "MSE for LightGBM 2020 is: 0.18236490043581466\n"
     ]
    }
   ],
   "source": [
    "y_pred_20 = model.predict(x_test_20)\n",
    "# Calculation of Mean Squared Error (MSE)\n",
    "mse = mean_squared_error(y_test_20,y_pred_20)\n",
    "print('MSE for LightGBM 2020 is: ' + str(mse))"
   ]
  },
  {
   "cell_type": "code",
   "execution_count": 88,
   "id": "7df03eed",
   "metadata": {},
   "outputs": [
    {
     "name": "stdout",
     "output_type": "stream",
     "text": [
      "Accuracy of properties at +- 10% of actual prices is 0.2704225352112676\n"
     ]
    }
   ],
   "source": [
    "acc = accuracy_threshold(y_test_20, y_pred_20, 0.1)\n",
    "print('Accuracy of properties at +- 10% of actual prices is ' + str(acc))"
   ]
  },
  {
   "cell_type": "code",
   "execution_count": 89,
   "id": "931d8bdc",
   "metadata": {},
   "outputs": [
    {
     "name": "stdout",
     "output_type": "stream",
     "text": [
      "Accuracy of properties at +- 20% of actual prices is 0.48732394366197185\n"
     ]
    }
   ],
   "source": [
    "acc1 = accuracy_threshold(y_test_20, y_pred_20, 0.20)\n",
    "print('Accuracy of properties at +- 20% of actual prices is ' + str(acc1))"
   ]
  },
  {
   "cell_type": "code",
   "execution_count": 90,
   "id": "88f6e6bd",
   "metadata": {},
   "outputs": [
    {
     "name": "stdout",
     "output_type": "stream",
     "text": [
      "Median Absolute Error:\n",
      "\n",
      "0.20587175590130188\n"
     ]
    }
   ],
   "source": [
    "median_se = np.square(np.subtract(y_test_20,y_pred_20)).median() \n",
    " \n",
    "med = math.sqrt(median_se)\n",
    "print(\"Median Absolute Error:\\n\")\n",
    "print(med)"
   ]
  },
  {
   "cell_type": "code",
   "execution_count": 91,
   "id": "495a055a",
   "metadata": {},
   "outputs": [
    {
     "name": "stdout",
     "output_type": "stream",
     "text": [
      "Root Mean Square Error:\n",
      "\n",
      "0.42704203591194\n"
     ]
    }
   ],
   "source": [
    "mean = np.square(np.subtract(y_test_20,y_pred_20)).mean() \n",
    " \n",
    "mean = math.sqrt(mean)\n",
    "print(\"Root Mean Square Error:\\n\")\n",
    "print(mean)"
   ]
  },
  {
   "cell_type": "code",
   "execution_count": 92,
   "id": "0d02cce4",
   "metadata": {},
   "outputs": [
    {
     "name": "stdout",
     "output_type": "stream",
     "text": [
      "MAPE for LightGBM 2020 is: 0.02440406488680804\n"
     ]
    }
   ],
   "source": [
    "mape = mean_absolute_percentage_error(y_test_20, y_pred_20)\n",
    "print(\"MAPE for LightGBM 2020 is: \" + str(mape))"
   ]
  },
  {
   "cell_type": "code",
   "execution_count": 93,
   "id": "02a28f79",
   "metadata": {},
   "outputs": [],
   "source": [
    "cnames=['Algorithm', 'Year', 'RMSE', 'MSE', 'MEDAE', 'Accuracy', 'MAPE']\n",
    "df5 = pd.DataFrame(columns=cnames)\n",
    "\n",
    "df5 = df5.append({'Algorithm': 'LightGBM',\n",
    "            'Year': 2020,\n",
    "           'RMSE': mean,\n",
    "           'MSE': mse,\n",
    "           'MEDAE': med,\n",
    "           'Accuracy': acc,\n",
    "           'MAPE': mape       \n",
    "          }, ignore_index=True)"
   ]
  },
  {
   "cell_type": "markdown",
   "id": "2e9fa1fa",
   "metadata": {},
   "source": [
    "### 2021"
   ]
  },
  {
   "cell_type": "code",
   "execution_count": 94,
   "id": "ddcc332a",
   "metadata": {},
   "outputs": [
    {
     "data": {
      "text/plain": [
       "LGBMRegressor()"
      ]
     },
     "execution_count": 94,
     "metadata": {},
     "output_type": "execute_result"
    }
   ],
   "source": [
    "model = LGBMRegressor()\n",
    "model.fit(x_train_21, y_train_21)"
   ]
  },
  {
   "cell_type": "code",
   "execution_count": 95,
   "id": "a24e4f44",
   "metadata": {},
   "outputs": [
    {
     "name": "stdout",
     "output_type": "stream",
     "text": [
      "MSE for LightGBM 2021 is: 0.19553015520119715\n"
     ]
    }
   ],
   "source": [
    "y_pred_21 = model.predict(x_test_21)\n",
    "# Calculation of Mean Squared Error (MSE)\n",
    "mse = mean_squared_error(y_test_21,y_pred_21)\n",
    "print('MSE for LightGBM 2021 is: ' + str(mse))"
   ]
  },
  {
   "cell_type": "code",
   "execution_count": 96,
   "id": "09de1db0",
   "metadata": {},
   "outputs": [
    {
     "name": "stdout",
     "output_type": "stream",
     "text": [
      "Accuracy of properties at +- 10% of actual prices is 0.23342175066312998\n"
     ]
    }
   ],
   "source": [
    "acc = accuracy_threshold(y_test_21, y_pred_21, 0.1)\n",
    "print('Accuracy of properties at +- 10% of actual prices is ' + str(acc))"
   ]
  },
  {
   "cell_type": "code",
   "execution_count": 97,
   "id": "22412899",
   "metadata": {},
   "outputs": [
    {
     "name": "stdout",
     "output_type": "stream",
     "text": [
      "Accuracy of properties at +- 20% of actual prices is 0.4562334217506631\n"
     ]
    }
   ],
   "source": [
    "acc1 = accuracy_threshold(y_test_21, y_pred_21, 0.20)\n",
    "print('Accuracy of properties at +- 20% of actual prices is ' + str(acc1))"
   ]
  },
  {
   "cell_type": "code",
   "execution_count": 98,
   "id": "1af063f3",
   "metadata": {},
   "outputs": [
    {
     "name": "stdout",
     "output_type": "stream",
     "text": [
      "Median Absolute Error:\n",
      "\n",
      "0.2322436627410352\n"
     ]
    }
   ],
   "source": [
    "median_se = np.square(np.subtract(y_test_21, y_pred_21)).median() \n",
    " \n",
    "med = math.sqrt(median_se)\n",
    "print(\"Median Absolute Error:\\n\")\n",
    "print(med)"
   ]
  },
  {
   "cell_type": "code",
   "execution_count": 99,
   "id": "f6b3dde0",
   "metadata": {},
   "outputs": [
    {
     "name": "stdout",
     "output_type": "stream",
     "text": [
      "Root Mean Square Error:\n",
      "\n",
      "0.44218791842518396\n"
     ]
    }
   ],
   "source": [
    "mean = np.square(np.subtract(y_test_21, y_pred_21)).mean() \n",
    " \n",
    "mean = math.sqrt(mean)\n",
    "print(\"Root Mean Square Error:\\n\")\n",
    "print(mean)"
   ]
  },
  {
   "cell_type": "code",
   "execution_count": 100,
   "id": "f6d92791",
   "metadata": {},
   "outputs": [
    {
     "name": "stdout",
     "output_type": "stream",
     "text": [
      "MAPE for LightGBM 2021 is: 0.025475201789381455\n"
     ]
    }
   ],
   "source": [
    "mape = mean_absolute_percentage_error(y_test_21, y_pred_21)\n",
    "print(\"MAPE for LightGBM 2021 is: \" + str(mape))"
   ]
  },
  {
   "cell_type": "code",
   "execution_count": 101,
   "id": "0a2ce444",
   "metadata": {},
   "outputs": [],
   "source": [
    "cnames=['Algorithm', 'Year', 'RMSE', 'MSE', 'MEDAE', 'Accuracy', 'MAPE']\n",
    "df4 = pd.DataFrame(columns=cnames)\n",
    "\n",
    "df4 = df4.append({'Algorithm': 'LightGBM',\n",
    "            'Year': 2021,\n",
    "           'RMSE': mean,\n",
    "           'MSE': mse,\n",
    "           'MEDAE': med,\n",
    "           'Accuracy': acc,\n",
    "           'MAPE': mape       \n",
    "          }, ignore_index=True)"
   ]
  },
  {
   "cell_type": "markdown",
   "id": "776bcb52",
   "metadata": {},
   "source": [
    "### CatBoost\n",
    "\n",
    "#### 2021 Prediction"
   ]
  },
  {
   "cell_type": "code",
   "execution_count": 102,
   "id": "82d9ac87",
   "metadata": {},
   "outputs": [],
   "source": [
    "from catboost import CatBoostRegressor"
   ]
  },
  {
   "cell_type": "code",
   "execution_count": 103,
   "id": "c0b33685",
   "metadata": {},
   "outputs": [
    {
     "name": "stdout",
     "output_type": "stream",
     "text": [
      "Learning rate set to 0.046889\n",
      "0:\tlearn: 0.5071041\ttotal: 135ms\tremaining: 2m 14s\n",
      "1:\tlearn: 0.4993926\ttotal: 138ms\tremaining: 1m 8s\n",
      "2:\tlearn: 0.4924235\ttotal: 142ms\tremaining: 47.1s\n",
      "3:\tlearn: 0.4852840\ttotal: 145ms\tremaining: 36.1s\n",
      "4:\tlearn: 0.4788264\ttotal: 149ms\tremaining: 29.6s\n",
      "5:\tlearn: 0.4728276\ttotal: 152ms\tremaining: 25.2s\n",
      "6:\tlearn: 0.4671700\ttotal: 156ms\tremaining: 22.1s\n",
      "7:\tlearn: 0.4624447\ttotal: 159ms\tremaining: 19.8s\n",
      "8:\tlearn: 0.4577991\ttotal: 163ms\tremaining: 17.9s\n",
      "9:\tlearn: 0.4528546\ttotal: 166ms\tremaining: 16.5s\n",
      "10:\tlearn: 0.4484867\ttotal: 170ms\tremaining: 15.3s\n",
      "11:\tlearn: 0.4445916\ttotal: 173ms\tremaining: 14.3s\n",
      "12:\tlearn: 0.4406152\ttotal: 178ms\tremaining: 13.5s\n",
      "13:\tlearn: 0.4371495\ttotal: 182ms\tremaining: 12.8s\n",
      "14:\tlearn: 0.4344324\ttotal: 187ms\tremaining: 12.3s\n",
      "15:\tlearn: 0.4312943\ttotal: 191ms\tremaining: 11.7s\n",
      "16:\tlearn: 0.4286910\ttotal: 195ms\tremaining: 11.3s\n",
      "17:\tlearn: 0.4259026\ttotal: 200ms\tremaining: 10.9s\n",
      "18:\tlearn: 0.4234396\ttotal: 204ms\tremaining: 10.5s\n",
      "19:\tlearn: 0.4207474\ttotal: 208ms\tremaining: 10.2s\n",
      "20:\tlearn: 0.4181008\ttotal: 213ms\tremaining: 9.91s\n",
      "21:\tlearn: 0.4155485\ttotal: 217ms\tremaining: 9.64s\n",
      "22:\tlearn: 0.4135988\ttotal: 221ms\tremaining: 9.39s\n",
      "23:\tlearn: 0.4118674\ttotal: 225ms\tremaining: 9.15s\n",
      "24:\tlearn: 0.4106580\ttotal: 229ms\tremaining: 8.95s\n",
      "25:\tlearn: 0.4090671\ttotal: 234ms\tremaining: 8.76s\n",
      "26:\tlearn: 0.4073674\ttotal: 238ms\tremaining: 8.57s\n",
      "27:\tlearn: 0.4058433\ttotal: 242ms\tremaining: 8.4s\n",
      "28:\tlearn: 0.4045866\ttotal: 245ms\tremaining: 8.22s\n",
      "29:\tlearn: 0.4033690\ttotal: 249ms\tremaining: 8.05s\n",
      "30:\tlearn: 0.4018526\ttotal: 252ms\tremaining: 7.89s\n",
      "31:\tlearn: 0.4006602\ttotal: 256ms\tremaining: 7.75s\n",
      "32:\tlearn: 0.3998343\ttotal: 259ms\tremaining: 7.6s\n",
      "33:\tlearn: 0.3989849\ttotal: 263ms\tremaining: 7.47s\n",
      "34:\tlearn: 0.3980490\ttotal: 267ms\tremaining: 7.35s\n",
      "35:\tlearn: 0.3970600\ttotal: 270ms\tremaining: 7.24s\n",
      "36:\tlearn: 0.3962772\ttotal: 274ms\tremaining: 7.13s\n",
      "37:\tlearn: 0.3954729\ttotal: 277ms\tremaining: 7.02s\n",
      "38:\tlearn: 0.3948276\ttotal: 279ms\tremaining: 6.88s\n",
      "39:\tlearn: 0.3940551\ttotal: 283ms\tremaining: 6.79s\n",
      "40:\tlearn: 0.3929693\ttotal: 286ms\tremaining: 6.69s\n",
      "41:\tlearn: 0.3921900\ttotal: 290ms\tremaining: 6.61s\n",
      "42:\tlearn: 0.3914012\ttotal: 293ms\tremaining: 6.52s\n",
      "43:\tlearn: 0.3905168\ttotal: 297ms\tremaining: 6.44s\n",
      "44:\tlearn: 0.3900543\ttotal: 301ms\tremaining: 6.39s\n",
      "45:\tlearn: 0.3893428\ttotal: 305ms\tremaining: 6.32s\n",
      "46:\tlearn: 0.3887851\ttotal: 309ms\tremaining: 6.27s\n",
      "47:\tlearn: 0.3881939\ttotal: 314ms\tremaining: 6.22s\n",
      "48:\tlearn: 0.3877994\ttotal: 317ms\tremaining: 6.15s\n",
      "49:\tlearn: 0.3870323\ttotal: 320ms\tremaining: 6.09s\n",
      "50:\tlearn: 0.3864885\ttotal: 324ms\tremaining: 6.03s\n",
      "51:\tlearn: 0.3860047\ttotal: 328ms\tremaining: 5.97s\n",
      "52:\tlearn: 0.3855810\ttotal: 332ms\tremaining: 5.94s\n",
      "53:\tlearn: 0.3850115\ttotal: 336ms\tremaining: 5.89s\n",
      "54:\tlearn: 0.3843872\ttotal: 340ms\tremaining: 5.83s\n",
      "55:\tlearn: 0.3840098\ttotal: 343ms\tremaining: 5.79s\n",
      "56:\tlearn: 0.3836775\ttotal: 347ms\tremaining: 5.73s\n",
      "57:\tlearn: 0.3831816\ttotal: 350ms\tremaining: 5.69s\n",
      "58:\tlearn: 0.3828882\ttotal: 354ms\tremaining: 5.64s\n",
      "59:\tlearn: 0.3825989\ttotal: 357ms\tremaining: 5.59s\n",
      "60:\tlearn: 0.3822902\ttotal: 362ms\tremaining: 5.57s\n",
      "61:\tlearn: 0.3819417\ttotal: 366ms\tremaining: 5.53s\n",
      "62:\tlearn: 0.3815846\ttotal: 370ms\tremaining: 5.5s\n",
      "63:\tlearn: 0.3810497\ttotal: 374ms\tremaining: 5.47s\n",
      "64:\tlearn: 0.3807955\ttotal: 378ms\tremaining: 5.43s\n",
      "65:\tlearn: 0.3804557\ttotal: 381ms\tremaining: 5.39s\n",
      "66:\tlearn: 0.3799000\ttotal: 385ms\tremaining: 5.36s\n",
      "67:\tlearn: 0.3794995\ttotal: 388ms\tremaining: 5.32s\n",
      "68:\tlearn: 0.3791924\ttotal: 392ms\tremaining: 5.29s\n",
      "69:\tlearn: 0.3789451\ttotal: 395ms\tremaining: 5.25s\n",
      "70:\tlearn: 0.3785507\ttotal: 399ms\tremaining: 5.22s\n",
      "71:\tlearn: 0.3781848\ttotal: 403ms\tremaining: 5.19s\n",
      "72:\tlearn: 0.3779563\ttotal: 406ms\tremaining: 5.16s\n",
      "73:\tlearn: 0.3776235\ttotal: 410ms\tremaining: 5.12s\n",
      "74:\tlearn: 0.3772670\ttotal: 413ms\tremaining: 5.09s\n",
      "75:\tlearn: 0.3770370\ttotal: 416ms\tremaining: 5.06s\n",
      "76:\tlearn: 0.3766851\ttotal: 420ms\tremaining: 5.03s\n",
      "77:\tlearn: 0.3763058\ttotal: 423ms\tremaining: 5s\n",
      "78:\tlearn: 0.3760968\ttotal: 427ms\tremaining: 4.98s\n",
      "79:\tlearn: 0.3758378\ttotal: 430ms\tremaining: 4.95s\n",
      "80:\tlearn: 0.3756386\ttotal: 433ms\tremaining: 4.91s\n",
      "81:\tlearn: 0.3754679\ttotal: 436ms\tremaining: 4.88s\n",
      "82:\tlearn: 0.3753237\ttotal: 440ms\tremaining: 4.86s\n",
      "83:\tlearn: 0.3750532\ttotal: 443ms\tremaining: 4.83s\n",
      "84:\tlearn: 0.3747712\ttotal: 447ms\tremaining: 4.81s\n",
      "85:\tlearn: 0.3745022\ttotal: 450ms\tremaining: 4.78s\n",
      "86:\tlearn: 0.3742940\ttotal: 454ms\tremaining: 4.76s\n",
      "87:\tlearn: 0.3739209\ttotal: 457ms\tremaining: 4.74s\n",
      "88:\tlearn: 0.3736701\ttotal: 463ms\tremaining: 4.74s\n",
      "89:\tlearn: 0.3733963\ttotal: 469ms\tremaining: 4.75s\n",
      "90:\tlearn: 0.3730988\ttotal: 474ms\tremaining: 4.73s\n",
      "91:\tlearn: 0.3728517\ttotal: 479ms\tremaining: 4.72s\n",
      "92:\tlearn: 0.3726882\ttotal: 483ms\tremaining: 4.71s\n",
      "93:\tlearn: 0.3724600\ttotal: 487ms\tremaining: 4.7s\n",
      "94:\tlearn: 0.3722180\ttotal: 492ms\tremaining: 4.69s\n",
      "95:\tlearn: 0.3720176\ttotal: 498ms\tremaining: 4.69s\n",
      "96:\tlearn: 0.3717968\ttotal: 503ms\tremaining: 4.68s\n",
      "97:\tlearn: 0.3716054\ttotal: 507ms\tremaining: 4.66s\n",
      "98:\tlearn: 0.3713588\ttotal: 511ms\tremaining: 4.65s\n",
      "99:\tlearn: 0.3711334\ttotal: 516ms\tremaining: 4.64s\n",
      "100:\tlearn: 0.3709042\ttotal: 520ms\tremaining: 4.63s\n",
      "101:\tlearn: 0.3706234\ttotal: 524ms\tremaining: 4.62s\n",
      "102:\tlearn: 0.3704080\ttotal: 528ms\tremaining: 4.6s\n",
      "103:\tlearn: 0.3702121\ttotal: 532ms\tremaining: 4.58s\n",
      "104:\tlearn: 0.3699989\ttotal: 536ms\tremaining: 4.57s\n",
      "105:\tlearn: 0.3697717\ttotal: 540ms\tremaining: 4.56s\n",
      "106:\tlearn: 0.3696471\ttotal: 544ms\tremaining: 4.54s\n",
      "107:\tlearn: 0.3694345\ttotal: 547ms\tremaining: 4.52s\n",
      "108:\tlearn: 0.3692662\ttotal: 551ms\tremaining: 4.5s\n",
      "109:\tlearn: 0.3691257\ttotal: 555ms\tremaining: 4.49s\n",
      "110:\tlearn: 0.3689545\ttotal: 558ms\tremaining: 4.47s\n",
      "111:\tlearn: 0.3687809\ttotal: 561ms\tremaining: 4.45s\n",
      "112:\tlearn: 0.3685398\ttotal: 565ms\tremaining: 4.43s\n",
      "113:\tlearn: 0.3682954\ttotal: 569ms\tremaining: 4.42s\n",
      "114:\tlearn: 0.3681744\ttotal: 572ms\tremaining: 4.41s\n",
      "115:\tlearn: 0.3679813\ttotal: 576ms\tremaining: 4.39s\n",
      "116:\tlearn: 0.3677814\ttotal: 580ms\tremaining: 4.37s\n",
      "117:\tlearn: 0.3675216\ttotal: 583ms\tremaining: 4.36s\n",
      "118:\tlearn: 0.3673109\ttotal: 587ms\tremaining: 4.34s\n",
      "119:\tlearn: 0.3672014\ttotal: 590ms\tremaining: 4.33s\n",
      "120:\tlearn: 0.3669821\ttotal: 594ms\tremaining: 4.31s\n",
      "121:\tlearn: 0.3668549\ttotal: 597ms\tremaining: 4.3s\n",
      "122:\tlearn: 0.3665932\ttotal: 601ms\tremaining: 4.28s\n",
      "123:\tlearn: 0.3664975\ttotal: 604ms\tremaining: 4.27s\n",
      "124:\tlearn: 0.3664001\ttotal: 608ms\tremaining: 4.25s\n",
      "125:\tlearn: 0.3662463\ttotal: 611ms\tremaining: 4.24s\n",
      "126:\tlearn: 0.3660960\ttotal: 615ms\tremaining: 4.22s\n",
      "127:\tlearn: 0.3659373\ttotal: 618ms\tremaining: 4.21s\n",
      "128:\tlearn: 0.3657573\ttotal: 622ms\tremaining: 4.2s\n",
      "129:\tlearn: 0.3655530\ttotal: 625ms\tremaining: 4.18s\n",
      "130:\tlearn: 0.3651388\ttotal: 629ms\tremaining: 4.17s\n",
      "131:\tlearn: 0.3650232\ttotal: 632ms\tremaining: 4.16s\n",
      "132:\tlearn: 0.3648521\ttotal: 636ms\tremaining: 4.14s\n",
      "133:\tlearn: 0.3647594\ttotal: 640ms\tremaining: 4.13s\n",
      "134:\tlearn: 0.3645293\ttotal: 644ms\tremaining: 4.13s\n",
      "135:\tlearn: 0.3644209\ttotal: 648ms\tremaining: 4.12s\n",
      "136:\tlearn: 0.3642274\ttotal: 652ms\tremaining: 4.11s\n",
      "137:\tlearn: 0.3640766\ttotal: 657ms\tremaining: 4.1s\n",
      "138:\tlearn: 0.3638713\ttotal: 661ms\tremaining: 4.09s\n",
      "139:\tlearn: 0.3636122\ttotal: 665ms\tremaining: 4.08s\n",
      "140:\tlearn: 0.3634297\ttotal: 668ms\tremaining: 4.07s\n",
      "141:\tlearn: 0.3633055\ttotal: 672ms\tremaining: 4.06s\n",
      "142:\tlearn: 0.3631666\ttotal: 676ms\tremaining: 4.05s\n",
      "143:\tlearn: 0.3629805\ttotal: 679ms\tremaining: 4.04s\n",
      "144:\tlearn: 0.3627687\ttotal: 683ms\tremaining: 4.02s\n",
      "145:\tlearn: 0.3625620\ttotal: 686ms\tremaining: 4.01s\n",
      "146:\tlearn: 0.3624157\ttotal: 690ms\tremaining: 4s\n",
      "147:\tlearn: 0.3621588\ttotal: 694ms\tremaining: 4s\n",
      "148:\tlearn: 0.3619840\ttotal: 698ms\tremaining: 3.99s\n",
      "149:\tlearn: 0.3618483\ttotal: 701ms\tremaining: 3.97s\n",
      "150:\tlearn: 0.3617759\ttotal: 705ms\tremaining: 3.96s\n",
      "151:\tlearn: 0.3616739\ttotal: 708ms\tremaining: 3.95s\n",
      "152:\tlearn: 0.3615694\ttotal: 712ms\tremaining: 3.94s\n",
      "153:\tlearn: 0.3615006\ttotal: 716ms\tremaining: 3.93s\n",
      "154:\tlearn: 0.3612328\ttotal: 719ms\tremaining: 3.92s\n",
      "155:\tlearn: 0.3610274\ttotal: 723ms\tremaining: 3.91s\n",
      "156:\tlearn: 0.3607988\ttotal: 726ms\tremaining: 3.9s\n",
      "157:\tlearn: 0.3607029\ttotal: 730ms\tremaining: 3.89s\n",
      "158:\tlearn: 0.3605255\ttotal: 733ms\tremaining: 3.88s\n",
      "159:\tlearn: 0.3603662\ttotal: 736ms\tremaining: 3.87s\n",
      "160:\tlearn: 0.3601877\ttotal: 740ms\tremaining: 3.85s\n",
      "161:\tlearn: 0.3601221\ttotal: 743ms\tremaining: 3.85s\n",
      "162:\tlearn: 0.3599676\ttotal: 747ms\tremaining: 3.84s\n",
      "163:\tlearn: 0.3598348\ttotal: 751ms\tremaining: 3.83s\n",
      "164:\tlearn: 0.3597292\ttotal: 754ms\tremaining: 3.81s\n",
      "165:\tlearn: 0.3595278\ttotal: 758ms\tremaining: 3.81s\n",
      "166:\tlearn: 0.3594226\ttotal: 761ms\tremaining: 3.8s\n",
      "167:\tlearn: 0.3593512\ttotal: 764ms\tremaining: 3.79s\n",
      "168:\tlearn: 0.3591561\ttotal: 768ms\tremaining: 3.77s\n",
      "169:\tlearn: 0.3589950\ttotal: 771ms\tremaining: 3.77s\n",
      "170:\tlearn: 0.3588761\ttotal: 775ms\tremaining: 3.76s\n",
      "171:\tlearn: 0.3587635\ttotal: 778ms\tremaining: 3.75s\n",
      "172:\tlearn: 0.3586687\ttotal: 782ms\tremaining: 3.74s\n",
      "173:\tlearn: 0.3584435\ttotal: 785ms\tremaining: 3.73s\n",
      "174:\tlearn: 0.3583844\ttotal: 789ms\tremaining: 3.72s\n",
      "175:\tlearn: 0.3582373\ttotal: 792ms\tremaining: 3.71s\n",
      "176:\tlearn: 0.3581101\ttotal: 795ms\tremaining: 3.7s\n",
      "177:\tlearn: 0.3579767\ttotal: 799ms\tremaining: 3.69s\n",
      "178:\tlearn: 0.3578605\ttotal: 802ms\tremaining: 3.68s\n",
      "179:\tlearn: 0.3576930\ttotal: 806ms\tremaining: 3.67s\n",
      "180:\tlearn: 0.3575416\ttotal: 809ms\tremaining: 3.66s\n",
      "181:\tlearn: 0.3574880\ttotal: 813ms\tremaining: 3.65s\n"
     ]
    },
    {
     "name": "stdout",
     "output_type": "stream",
     "text": [
      "182:\tlearn: 0.3572919\ttotal: 817ms\tremaining: 3.65s\n",
      "183:\tlearn: 0.3571950\ttotal: 821ms\tremaining: 3.64s\n",
      "184:\tlearn: 0.3570580\ttotal: 824ms\tremaining: 3.63s\n",
      "185:\tlearn: 0.3569101\ttotal: 828ms\tremaining: 3.62s\n",
      "186:\tlearn: 0.3568488\ttotal: 831ms\tremaining: 3.61s\n",
      "187:\tlearn: 0.3567142\ttotal: 835ms\tremaining: 3.6s\n",
      "188:\tlearn: 0.3566183\ttotal: 838ms\tremaining: 3.6s\n",
      "189:\tlearn: 0.3564753\ttotal: 842ms\tremaining: 3.59s\n",
      "190:\tlearn: 0.3564180\ttotal: 845ms\tremaining: 3.58s\n",
      "191:\tlearn: 0.3563169\ttotal: 849ms\tremaining: 3.57s\n",
      "192:\tlearn: 0.3561916\ttotal: 852ms\tremaining: 3.56s\n",
      "193:\tlearn: 0.3560461\ttotal: 856ms\tremaining: 3.56s\n",
      "194:\tlearn: 0.3559300\ttotal: 859ms\tremaining: 3.55s\n",
      "195:\tlearn: 0.3558042\ttotal: 863ms\tremaining: 3.54s\n",
      "196:\tlearn: 0.3556145\ttotal: 867ms\tremaining: 3.54s\n",
      "197:\tlearn: 0.3554969\ttotal: 871ms\tremaining: 3.53s\n",
      "198:\tlearn: 0.3554393\ttotal: 875ms\tremaining: 3.52s\n",
      "199:\tlearn: 0.3553782\ttotal: 878ms\tremaining: 3.51s\n",
      "200:\tlearn: 0.3552844\ttotal: 883ms\tremaining: 3.51s\n",
      "201:\tlearn: 0.3551786\ttotal: 887ms\tremaining: 3.5s\n",
      "202:\tlearn: 0.3550868\ttotal: 891ms\tremaining: 3.5s\n",
      "203:\tlearn: 0.3549299\ttotal: 896ms\tremaining: 3.5s\n",
      "204:\tlearn: 0.3548296\ttotal: 901ms\tremaining: 3.49s\n",
      "205:\tlearn: 0.3547218\ttotal: 905ms\tremaining: 3.49s\n",
      "206:\tlearn: 0.3546029\ttotal: 910ms\tremaining: 3.48s\n",
      "207:\tlearn: 0.3544974\ttotal: 914ms\tremaining: 3.48s\n",
      "208:\tlearn: 0.3544659\ttotal: 919ms\tremaining: 3.48s\n",
      "209:\tlearn: 0.3543968\ttotal: 923ms\tremaining: 3.47s\n",
      "210:\tlearn: 0.3542656\ttotal: 927ms\tremaining: 3.47s\n",
      "211:\tlearn: 0.3540908\ttotal: 932ms\tremaining: 3.46s\n",
      "212:\tlearn: 0.3539620\ttotal: 937ms\tremaining: 3.46s\n",
      "213:\tlearn: 0.3539174\ttotal: 941ms\tremaining: 3.46s\n",
      "214:\tlearn: 0.3537832\ttotal: 945ms\tremaining: 3.45s\n",
      "215:\tlearn: 0.3536414\ttotal: 950ms\tremaining: 3.45s\n",
      "216:\tlearn: 0.3535638\ttotal: 956ms\tremaining: 3.45s\n",
      "217:\tlearn: 0.3534610\ttotal: 964ms\tremaining: 3.46s\n",
      "218:\tlearn: 0.3532710\ttotal: 972ms\tremaining: 3.46s\n",
      "219:\tlearn: 0.3532106\ttotal: 979ms\tremaining: 3.47s\n",
      "220:\tlearn: 0.3531400\ttotal: 987ms\tremaining: 3.48s\n",
      "221:\tlearn: 0.3530502\ttotal: 999ms\tremaining: 3.5s\n",
      "222:\tlearn: 0.3529247\ttotal: 1.01s\tremaining: 3.51s\n",
      "223:\tlearn: 0.3528181\ttotal: 1.02s\tremaining: 3.53s\n",
      "224:\tlearn: 0.3526784\ttotal: 1.03s\tremaining: 3.54s\n",
      "225:\tlearn: 0.3525611\ttotal: 1.03s\tremaining: 3.54s\n",
      "226:\tlearn: 0.3525213\ttotal: 1.08s\tremaining: 3.69s\n",
      "227:\tlearn: 0.3523439\ttotal: 1.09s\tremaining: 3.69s\n",
      "228:\tlearn: 0.3522623\ttotal: 1.1s\tremaining: 3.7s\n",
      "229:\tlearn: 0.3521533\ttotal: 1.11s\tremaining: 3.7s\n",
      "230:\tlearn: 0.3520929\ttotal: 1.11s\tremaining: 3.71s\n",
      "231:\tlearn: 0.3520319\ttotal: 1.14s\tremaining: 3.76s\n",
      "232:\tlearn: 0.3519187\ttotal: 1.14s\tremaining: 3.77s\n",
      "233:\tlearn: 0.3518701\ttotal: 1.15s\tremaining: 3.77s\n",
      "234:\tlearn: 0.3516996\ttotal: 1.16s\tremaining: 3.77s\n",
      "235:\tlearn: 0.3516076\ttotal: 1.17s\tremaining: 3.78s\n",
      "236:\tlearn: 0.3514066\ttotal: 1.18s\tremaining: 3.81s\n",
      "237:\tlearn: 0.3513290\ttotal: 1.19s\tremaining: 3.81s\n",
      "238:\tlearn: 0.3512802\ttotal: 1.2s\tremaining: 3.81s\n",
      "239:\tlearn: 0.3510947\ttotal: 1.2s\tremaining: 3.81s\n",
      "240:\tlearn: 0.3508359\ttotal: 1.21s\tremaining: 3.81s\n",
      "241:\tlearn: 0.3506622\ttotal: 1.23s\tremaining: 3.85s\n",
      "242:\tlearn: 0.3504625\ttotal: 1.24s\tremaining: 3.85s\n",
      "243:\tlearn: 0.3503570\ttotal: 1.26s\tremaining: 3.91s\n",
      "244:\tlearn: 0.3501937\ttotal: 1.27s\tremaining: 3.91s\n",
      "245:\tlearn: 0.3501508\ttotal: 1.28s\tremaining: 3.92s\n",
      "246:\tlearn: 0.3501252\ttotal: 1.29s\tremaining: 3.92s\n",
      "247:\tlearn: 0.3500571\ttotal: 1.3s\tremaining: 3.96s\n",
      "248:\tlearn: 0.3500210\ttotal: 1.31s\tremaining: 3.96s\n",
      "249:\tlearn: 0.3499672\ttotal: 1.33s\tremaining: 3.98s\n",
      "250:\tlearn: 0.3499348\ttotal: 1.34s\tremaining: 4s\n",
      "251:\tlearn: 0.3498929\ttotal: 1.35s\tremaining: 4s\n",
      "252:\tlearn: 0.3497970\ttotal: 1.35s\tremaining: 4s\n",
      "253:\tlearn: 0.3497109\ttotal: 1.36s\tremaining: 4s\n",
      "254:\tlearn: 0.3496871\ttotal: 1.37s\tremaining: 4.02s\n",
      "255:\tlearn: 0.3495528\ttotal: 1.38s\tremaining: 4.01s\n",
      "256:\tlearn: 0.3495366\ttotal: 1.39s\tremaining: 4.01s\n",
      "257:\tlearn: 0.3494590\ttotal: 1.4s\tremaining: 4.01s\n",
      "258:\tlearn: 0.3493942\ttotal: 1.41s\tremaining: 4.03s\n",
      "259:\tlearn: 0.3493677\ttotal: 1.42s\tremaining: 4.04s\n",
      "260:\tlearn: 0.3493254\ttotal: 1.43s\tremaining: 4.05s\n",
      "261:\tlearn: 0.3492789\ttotal: 1.44s\tremaining: 4.05s\n",
      "262:\tlearn: 0.3492280\ttotal: 1.45s\tremaining: 4.05s\n",
      "263:\tlearn: 0.3491677\ttotal: 1.45s\tremaining: 4.05s\n",
      "264:\tlearn: 0.3490552\ttotal: 1.46s\tremaining: 4.05s\n",
      "265:\tlearn: 0.3490088\ttotal: 1.47s\tremaining: 4.05s\n",
      "266:\tlearn: 0.3488370\ttotal: 1.48s\tremaining: 4.07s\n",
      "267:\tlearn: 0.3487220\ttotal: 1.49s\tremaining: 4.06s\n",
      "268:\tlearn: 0.3486774\ttotal: 1.5s\tremaining: 4.06s\n",
      "269:\tlearn: 0.3486573\ttotal: 1.5s\tremaining: 4.05s\n",
      "270:\tlearn: 0.3486231\ttotal: 1.51s\tremaining: 4.05s\n",
      "271:\tlearn: 0.3485342\ttotal: 1.52s\tremaining: 4.08s\n",
      "272:\tlearn: 0.3484917\ttotal: 1.53s\tremaining: 4.08s\n",
      "273:\tlearn: 0.3484184\ttotal: 1.54s\tremaining: 4.08s\n",
      "274:\tlearn: 0.3483196\ttotal: 1.55s\tremaining: 4.08s\n",
      "275:\tlearn: 0.3482973\ttotal: 1.55s\tremaining: 4.08s\n",
      "276:\tlearn: 0.3481987\ttotal: 1.56s\tremaining: 4.08s\n",
      "277:\tlearn: 0.3481178\ttotal: 1.57s\tremaining: 4.09s\n",
      "278:\tlearn: 0.3480044\ttotal: 1.58s\tremaining: 4.09s\n",
      "279:\tlearn: 0.3478864\ttotal: 1.6s\tremaining: 4.13s\n",
      "280:\tlearn: 0.3478460\ttotal: 1.61s\tremaining: 4.12s\n",
      "281:\tlearn: 0.3476863\ttotal: 1.62s\tremaining: 4.12s\n",
      "282:\tlearn: 0.3476036\ttotal: 1.63s\tremaining: 4.12s\n",
      "283:\tlearn: 0.3473987\ttotal: 1.64s\tremaining: 4.13s\n",
      "284:\tlearn: 0.3473217\ttotal: 1.65s\tremaining: 4.13s\n",
      "285:\tlearn: 0.3472806\ttotal: 1.65s\tremaining: 4.13s\n",
      "286:\tlearn: 0.3472625\ttotal: 1.66s\tremaining: 4.13s\n",
      "287:\tlearn: 0.3471410\ttotal: 1.67s\tremaining: 4.13s\n",
      "288:\tlearn: 0.3469705\ttotal: 1.68s\tremaining: 4.12s\n",
      "289:\tlearn: 0.3469221\ttotal: 1.68s\tremaining: 4.12s\n",
      "290:\tlearn: 0.3468832\ttotal: 1.69s\tremaining: 4.12s\n",
      "291:\tlearn: 0.3468616\ttotal: 1.7s\tremaining: 4.12s\n",
      "292:\tlearn: 0.3468372\ttotal: 1.71s\tremaining: 4.12s\n",
      "293:\tlearn: 0.3467415\ttotal: 1.71s\tremaining: 4.12s\n",
      "294:\tlearn: 0.3467055\ttotal: 1.72s\tremaining: 4.11s\n",
      "295:\tlearn: 0.3465770\ttotal: 1.73s\tremaining: 4.12s\n",
      "296:\tlearn: 0.3464845\ttotal: 1.74s\tremaining: 4.12s\n",
      "297:\tlearn: 0.3464505\ttotal: 1.75s\tremaining: 4.11s\n",
      "298:\tlearn: 0.3463200\ttotal: 1.76s\tremaining: 4.12s\n",
      "299:\tlearn: 0.3462689\ttotal: 1.76s\tremaining: 4.12s\n",
      "300:\tlearn: 0.3462229\ttotal: 1.77s\tremaining: 4.12s\n",
      "301:\tlearn: 0.3461363\ttotal: 1.78s\tremaining: 4.12s\n",
      "302:\tlearn: 0.3461020\ttotal: 1.79s\tremaining: 4.13s\n",
      "303:\tlearn: 0.3460631\ttotal: 1.8s\tremaining: 4.13s\n",
      "304:\tlearn: 0.3459697\ttotal: 1.81s\tremaining: 4.13s\n",
      "305:\tlearn: 0.3459217\ttotal: 1.82s\tremaining: 4.13s\n",
      "306:\tlearn: 0.3458327\ttotal: 1.83s\tremaining: 4.13s\n",
      "307:\tlearn: 0.3457596\ttotal: 1.83s\tremaining: 4.12s\n",
      "308:\tlearn: 0.3456485\ttotal: 1.84s\tremaining: 4.12s\n",
      "309:\tlearn: 0.3455951\ttotal: 1.85s\tremaining: 4.13s\n",
      "310:\tlearn: 0.3455746\ttotal: 1.86s\tremaining: 4.12s\n",
      "311:\tlearn: 0.3454536\ttotal: 1.87s\tremaining: 4.13s\n",
      "312:\tlearn: 0.3454328\ttotal: 1.88s\tremaining: 4.13s\n",
      "313:\tlearn: 0.3454102\ttotal: 1.9s\tremaining: 4.15s\n",
      "314:\tlearn: 0.3453793\ttotal: 1.91s\tremaining: 4.15s\n",
      "315:\tlearn: 0.3452537\ttotal: 1.92s\tremaining: 4.14s\n",
      "316:\tlearn: 0.3452425\ttotal: 1.93s\tremaining: 4.16s\n",
      "317:\tlearn: 0.3451932\ttotal: 1.94s\tremaining: 4.16s\n",
      "318:\tlearn: 0.3450876\ttotal: 1.95s\tremaining: 4.16s\n",
      "319:\tlearn: 0.3450776\ttotal: 1.95s\tremaining: 4.15s\n",
      "320:\tlearn: 0.3450163\ttotal: 1.96s\tremaining: 4.15s\n",
      "321:\tlearn: 0.3450006\ttotal: 1.99s\tremaining: 4.18s\n",
      "322:\tlearn: 0.3449220\ttotal: 2s\tremaining: 4.19s\n",
      "323:\tlearn: 0.3448370\ttotal: 2s\tremaining: 4.18s\n",
      "324:\tlearn: 0.3446508\ttotal: 2.01s\tremaining: 4.18s\n",
      "325:\tlearn: 0.3445401\ttotal: 2.02s\tremaining: 4.18s\n",
      "326:\tlearn: 0.3444647\ttotal: 2.03s\tremaining: 4.17s\n",
      "327:\tlearn: 0.3442878\ttotal: 2.04s\tremaining: 4.17s\n",
      "328:\tlearn: 0.3441942\ttotal: 2.04s\tremaining: 4.16s\n",
      "329:\tlearn: 0.3441638\ttotal: 2.06s\tremaining: 4.18s\n",
      "330:\tlearn: 0.3441084\ttotal: 2.06s\tremaining: 4.17s\n",
      "331:\tlearn: 0.3439871\ttotal: 2.07s\tremaining: 4.17s\n",
      "332:\tlearn: 0.3437588\ttotal: 2.08s\tremaining: 4.17s\n",
      "333:\tlearn: 0.3436595\ttotal: 2.09s\tremaining: 4.17s\n",
      "334:\tlearn: 0.3435809\ttotal: 2.1s\tremaining: 4.17s\n",
      "335:\tlearn: 0.3434878\ttotal: 2.11s\tremaining: 4.17s\n",
      "336:\tlearn: 0.3434179\ttotal: 2.12s\tremaining: 4.16s\n",
      "337:\tlearn: 0.3431999\ttotal: 2.12s\tremaining: 4.16s\n",
      "338:\tlearn: 0.3431824\ttotal: 2.13s\tremaining: 4.16s\n",
      "339:\tlearn: 0.3430746\ttotal: 2.14s\tremaining: 4.16s\n",
      "340:\tlearn: 0.3430504\ttotal: 2.15s\tremaining: 4.15s\n",
      "341:\tlearn: 0.3429434\ttotal: 2.16s\tremaining: 4.15s\n"
     ]
    },
    {
     "name": "stdout",
     "output_type": "stream",
     "text": [
      "342:\tlearn: 0.3428461\ttotal: 2.16s\tremaining: 4.14s\n",
      "343:\tlearn: 0.3427542\ttotal: 2.18s\tremaining: 4.16s\n",
      "344:\tlearn: 0.3426175\ttotal: 2.2s\tremaining: 4.17s\n",
      "345:\tlearn: 0.3425155\ttotal: 2.21s\tremaining: 4.17s\n",
      "346:\tlearn: 0.3423751\ttotal: 2.23s\tremaining: 4.19s\n",
      "347:\tlearn: 0.3422465\ttotal: 2.23s\tremaining: 4.18s\n",
      "348:\tlearn: 0.3420871\ttotal: 2.24s\tremaining: 4.18s\n",
      "349:\tlearn: 0.3419297\ttotal: 2.26s\tremaining: 4.2s\n",
      "350:\tlearn: 0.3418966\ttotal: 2.27s\tremaining: 4.19s\n",
      "351:\tlearn: 0.3417328\ttotal: 2.27s\tremaining: 4.18s\n",
      "352:\tlearn: 0.3416906\ttotal: 2.28s\tremaining: 4.18s\n",
      "353:\tlearn: 0.3415662\ttotal: 2.29s\tremaining: 4.18s\n",
      "354:\tlearn: 0.3414795\ttotal: 2.3s\tremaining: 4.18s\n",
      "355:\tlearn: 0.3413781\ttotal: 2.31s\tremaining: 4.18s\n",
      "356:\tlearn: 0.3413350\ttotal: 2.32s\tremaining: 4.18s\n",
      "357:\tlearn: 0.3411960\ttotal: 2.33s\tremaining: 4.17s\n",
      "358:\tlearn: 0.3410855\ttotal: 2.33s\tremaining: 4.17s\n",
      "359:\tlearn: 0.3410030\ttotal: 2.35s\tremaining: 4.17s\n",
      "360:\tlearn: 0.3409828\ttotal: 2.35s\tremaining: 4.16s\n",
      "361:\tlearn: 0.3408931\ttotal: 2.36s\tremaining: 4.16s\n",
      "362:\tlearn: 0.3407943\ttotal: 2.37s\tremaining: 4.15s\n",
      "363:\tlearn: 0.3406883\ttotal: 2.37s\tremaining: 4.15s\n",
      "364:\tlearn: 0.3405739\ttotal: 2.39s\tremaining: 4.16s\n",
      "365:\tlearn: 0.3404621\ttotal: 2.4s\tremaining: 4.16s\n",
      "366:\tlearn: 0.3403916\ttotal: 2.41s\tremaining: 4.16s\n",
      "367:\tlearn: 0.3403618\ttotal: 2.43s\tremaining: 4.18s\n",
      "368:\tlearn: 0.3403034\ttotal: 2.44s\tremaining: 4.17s\n",
      "369:\tlearn: 0.3402931\ttotal: 2.45s\tremaining: 4.17s\n",
      "370:\tlearn: 0.3402222\ttotal: 2.46s\tremaining: 4.17s\n",
      "371:\tlearn: 0.3401707\ttotal: 2.46s\tremaining: 4.16s\n",
      "372:\tlearn: 0.3400979\ttotal: 2.47s\tremaining: 4.16s\n",
      "373:\tlearn: 0.3399266\ttotal: 2.48s\tremaining: 4.15s\n",
      "374:\tlearn: 0.3398218\ttotal: 2.49s\tremaining: 4.15s\n",
      "375:\tlearn: 0.3398042\ttotal: 2.5s\tremaining: 4.14s\n",
      "376:\tlearn: 0.3396956\ttotal: 2.5s\tremaining: 4.14s\n",
      "377:\tlearn: 0.3396668\ttotal: 2.51s\tremaining: 4.13s\n",
      "378:\tlearn: 0.3395458\ttotal: 2.52s\tremaining: 4.13s\n",
      "379:\tlearn: 0.3394480\ttotal: 2.52s\tremaining: 4.12s\n",
      "380:\tlearn: 0.3392635\ttotal: 2.54s\tremaining: 4.13s\n",
      "381:\tlearn: 0.3392004\ttotal: 2.55s\tremaining: 4.12s\n",
      "382:\tlearn: 0.3391076\ttotal: 2.56s\tremaining: 4.12s\n",
      "383:\tlearn: 0.3389952\ttotal: 2.56s\tremaining: 4.11s\n",
      "384:\tlearn: 0.3389065\ttotal: 2.57s\tremaining: 4.11s\n",
      "385:\tlearn: 0.3387312\ttotal: 2.58s\tremaining: 4.11s\n",
      "386:\tlearn: 0.3387055\ttotal: 2.59s\tremaining: 4.1s\n",
      "387:\tlearn: 0.3386774\ttotal: 2.6s\tremaining: 4.09s\n",
      "388:\tlearn: 0.3385955\ttotal: 2.6s\tremaining: 4.09s\n",
      "389:\tlearn: 0.3385544\ttotal: 2.62s\tremaining: 4.09s\n",
      "390:\tlearn: 0.3384842\ttotal: 2.62s\tremaining: 4.08s\n",
      "391:\tlearn: 0.3383408\ttotal: 2.63s\tremaining: 4.08s\n",
      "392:\tlearn: 0.3383249\ttotal: 2.64s\tremaining: 4.07s\n",
      "393:\tlearn: 0.3382974\ttotal: 2.64s\tremaining: 4.07s\n",
      "394:\tlearn: 0.3382867\ttotal: 2.65s\tremaining: 4.06s\n",
      "395:\tlearn: 0.3381911\ttotal: 2.65s\tremaining: 4.05s\n",
      "396:\tlearn: 0.3381139\ttotal: 2.66s\tremaining: 4.04s\n",
      "397:\tlearn: 0.3380395\ttotal: 2.66s\tremaining: 4.03s\n",
      "398:\tlearn: 0.3379081\ttotal: 2.67s\tremaining: 4.02s\n",
      "399:\tlearn: 0.3378667\ttotal: 2.67s\tremaining: 4.01s\n",
      "400:\tlearn: 0.3378010\ttotal: 2.68s\tremaining: 4s\n",
      "401:\tlearn: 0.3377821\ttotal: 2.68s\tremaining: 3.99s\n",
      "402:\tlearn: 0.3376612\ttotal: 2.69s\tremaining: 3.98s\n",
      "403:\tlearn: 0.3375239\ttotal: 2.69s\tremaining: 3.97s\n",
      "404:\tlearn: 0.3374061\ttotal: 2.7s\tremaining: 3.96s\n",
      "405:\tlearn: 0.3373638\ttotal: 2.7s\tremaining: 3.95s\n",
      "406:\tlearn: 0.3372869\ttotal: 2.71s\tremaining: 3.94s\n",
      "407:\tlearn: 0.3371337\ttotal: 2.71s\tremaining: 3.93s\n",
      "408:\tlearn: 0.3369262\ttotal: 2.71s\tremaining: 3.92s\n",
      "409:\tlearn: 0.3368683\ttotal: 2.72s\tremaining: 3.91s\n",
      "410:\tlearn: 0.3368538\ttotal: 2.72s\tremaining: 3.9s\n",
      "411:\tlearn: 0.3367399\ttotal: 2.73s\tremaining: 3.89s\n",
      "412:\tlearn: 0.3366708\ttotal: 2.73s\tremaining: 3.88s\n",
      "413:\tlearn: 0.3365782\ttotal: 2.73s\tremaining: 3.87s\n",
      "414:\tlearn: 0.3365309\ttotal: 2.74s\tremaining: 3.86s\n",
      "415:\tlearn: 0.3364599\ttotal: 2.74s\tremaining: 3.85s\n",
      "416:\tlearn: 0.3363612\ttotal: 2.75s\tremaining: 3.84s\n",
      "417:\tlearn: 0.3361654\ttotal: 2.75s\tremaining: 3.83s\n",
      "418:\tlearn: 0.3360938\ttotal: 2.75s\tremaining: 3.82s\n",
      "419:\tlearn: 0.3360431\ttotal: 2.76s\tremaining: 3.81s\n",
      "420:\tlearn: 0.3359396\ttotal: 2.76s\tremaining: 3.8s\n",
      "421:\tlearn: 0.3358729\ttotal: 2.77s\tremaining: 3.79s\n",
      "422:\tlearn: 0.3357733\ttotal: 2.77s\tremaining: 3.78s\n",
      "423:\tlearn: 0.3357021\ttotal: 2.78s\tremaining: 3.77s\n",
      "424:\tlearn: 0.3355929\ttotal: 2.78s\tremaining: 3.76s\n",
      "425:\tlearn: 0.3355863\ttotal: 2.79s\tremaining: 3.75s\n",
      "426:\tlearn: 0.3355354\ttotal: 2.79s\tremaining: 3.74s\n",
      "427:\tlearn: 0.3354386\ttotal: 2.79s\tremaining: 3.73s\n",
      "428:\tlearn: 0.3353737\ttotal: 2.8s\tremaining: 3.72s\n",
      "429:\tlearn: 0.3353308\ttotal: 2.8s\tremaining: 3.71s\n",
      "430:\tlearn: 0.3352593\ttotal: 2.81s\tremaining: 3.7s\n",
      "431:\tlearn: 0.3352120\ttotal: 2.81s\tremaining: 3.69s\n",
      "432:\tlearn: 0.3350492\ttotal: 2.81s\tremaining: 3.69s\n",
      "433:\tlearn: 0.3349633\ttotal: 2.82s\tremaining: 3.68s\n",
      "434:\tlearn: 0.3348833\ttotal: 2.82s\tremaining: 3.67s\n",
      "435:\tlearn: 0.3348758\ttotal: 2.83s\tremaining: 3.66s\n",
      "436:\tlearn: 0.3348295\ttotal: 2.83s\tremaining: 3.65s\n",
      "437:\tlearn: 0.3347138\ttotal: 2.83s\tremaining: 3.64s\n",
      "438:\tlearn: 0.3346394\ttotal: 2.84s\tremaining: 3.63s\n",
      "439:\tlearn: 0.3345660\ttotal: 2.84s\tremaining: 3.62s\n",
      "440:\tlearn: 0.3344850\ttotal: 2.85s\tremaining: 3.61s\n",
      "441:\tlearn: 0.3343679\ttotal: 2.85s\tremaining: 3.6s\n",
      "442:\tlearn: 0.3342681\ttotal: 2.85s\tremaining: 3.59s\n",
      "443:\tlearn: 0.3341787\ttotal: 2.86s\tremaining: 3.58s\n",
      "444:\tlearn: 0.3340763\ttotal: 2.86s\tremaining: 3.57s\n",
      "445:\tlearn: 0.3339750\ttotal: 2.87s\tremaining: 3.56s\n",
      "446:\tlearn: 0.3338856\ttotal: 2.87s\tremaining: 3.55s\n",
      "447:\tlearn: 0.3338037\ttotal: 2.87s\tremaining: 3.54s\n",
      "448:\tlearn: 0.3337430\ttotal: 2.88s\tremaining: 3.53s\n",
      "449:\tlearn: 0.3336696\ttotal: 2.88s\tremaining: 3.52s\n",
      "450:\tlearn: 0.3335916\ttotal: 2.89s\tremaining: 3.51s\n",
      "451:\tlearn: 0.3335692\ttotal: 2.89s\tremaining: 3.5s\n",
      "452:\tlearn: 0.3334845\ttotal: 2.89s\tremaining: 3.49s\n",
      "453:\tlearn: 0.3333881\ttotal: 2.9s\tremaining: 3.48s\n",
      "454:\tlearn: 0.3333507\ttotal: 2.9s\tremaining: 3.48s\n",
      "455:\tlearn: 0.3332346\ttotal: 2.9s\tremaining: 3.47s\n",
      "456:\tlearn: 0.3331927\ttotal: 2.91s\tremaining: 3.46s\n",
      "457:\tlearn: 0.3331150\ttotal: 2.91s\tremaining: 3.45s\n",
      "458:\tlearn: 0.3330491\ttotal: 2.92s\tremaining: 3.44s\n",
      "459:\tlearn: 0.3329632\ttotal: 2.92s\tremaining: 3.43s\n",
      "460:\tlearn: 0.3328793\ttotal: 2.92s\tremaining: 3.42s\n",
      "461:\tlearn: 0.3327797\ttotal: 2.93s\tremaining: 3.41s\n",
      "462:\tlearn: 0.3327290\ttotal: 2.93s\tremaining: 3.4s\n",
      "463:\tlearn: 0.3326836\ttotal: 2.94s\tremaining: 3.4s\n",
      "464:\tlearn: 0.3325833\ttotal: 2.94s\tremaining: 3.39s\n",
      "465:\tlearn: 0.3325626\ttotal: 2.95s\tremaining: 3.38s\n",
      "466:\tlearn: 0.3324915\ttotal: 2.95s\tremaining: 3.37s\n",
      "467:\tlearn: 0.3324657\ttotal: 2.96s\tremaining: 3.36s\n",
      "468:\tlearn: 0.3324342\ttotal: 2.96s\tremaining: 3.35s\n",
      "469:\tlearn: 0.3324024\ttotal: 2.97s\tremaining: 3.35s\n",
      "470:\tlearn: 0.3323433\ttotal: 2.97s\tremaining: 3.34s\n",
      "471:\tlearn: 0.3323204\ttotal: 2.98s\tremaining: 3.33s\n",
      "472:\tlearn: 0.3322274\ttotal: 2.98s\tremaining: 3.32s\n",
      "473:\tlearn: 0.3321810\ttotal: 2.99s\tremaining: 3.31s\n",
      "474:\tlearn: 0.3321364\ttotal: 2.99s\tremaining: 3.31s\n",
      "475:\tlearn: 0.3320564\ttotal: 3s\tremaining: 3.3s\n",
      "476:\tlearn: 0.3319433\ttotal: 3s\tremaining: 3.29s\n",
      "477:\tlearn: 0.3319085\ttotal: 3s\tremaining: 3.28s\n",
      "478:\tlearn: 0.3318061\ttotal: 3.01s\tremaining: 3.27s\n",
      "479:\tlearn: 0.3316497\ttotal: 3.01s\tremaining: 3.27s\n",
      "480:\tlearn: 0.3315972\ttotal: 3.02s\tremaining: 3.26s\n",
      "481:\tlearn: 0.3314618\ttotal: 3.02s\tremaining: 3.25s\n",
      "482:\tlearn: 0.3313525\ttotal: 3.03s\tremaining: 3.24s\n",
      "483:\tlearn: 0.3312411\ttotal: 3.03s\tremaining: 3.23s\n",
      "484:\tlearn: 0.3312188\ttotal: 3.03s\tremaining: 3.22s\n",
      "485:\tlearn: 0.3311851\ttotal: 3.04s\tremaining: 3.21s\n",
      "486:\tlearn: 0.3310597\ttotal: 3.04s\tremaining: 3.21s\n",
      "487:\tlearn: 0.3309452\ttotal: 3.05s\tremaining: 3.2s\n",
      "488:\tlearn: 0.3307330\ttotal: 3.05s\tremaining: 3.19s\n",
      "489:\tlearn: 0.3306956\ttotal: 3.06s\tremaining: 3.18s\n",
      "490:\tlearn: 0.3306399\ttotal: 3.06s\tremaining: 3.17s\n",
      "491:\tlearn: 0.3305625\ttotal: 3.06s\tremaining: 3.17s\n",
      "492:\tlearn: 0.3304370\ttotal: 3.07s\tremaining: 3.16s\n",
      "493:\tlearn: 0.3304071\ttotal: 3.07s\tremaining: 3.15s\n",
      "494:\tlearn: 0.3303441\ttotal: 3.08s\tremaining: 3.14s\n",
      "495:\tlearn: 0.3303258\ttotal: 3.08s\tremaining: 3.13s\n",
      "496:\tlearn: 0.3301962\ttotal: 3.09s\tremaining: 3.12s\n",
      "497:\tlearn: 0.3301273\ttotal: 3.09s\tremaining: 3.12s\n",
      "498:\tlearn: 0.3300278\ttotal: 3.1s\tremaining: 3.11s\n",
      "499:\tlearn: 0.3299506\ttotal: 3.1s\tremaining: 3.1s\n",
      "500:\tlearn: 0.3299161\ttotal: 3.1s\tremaining: 3.09s\n",
      "501:\tlearn: 0.3298425\ttotal: 3.11s\tremaining: 3.08s\n",
      "502:\tlearn: 0.3297761\ttotal: 3.11s\tremaining: 3.08s\n",
      "503:\tlearn: 0.3297561\ttotal: 3.12s\tremaining: 3.07s\n",
      "504:\tlearn: 0.3296836\ttotal: 3.12s\tremaining: 3.06s\n",
      "505:\tlearn: 0.3296497\ttotal: 3.13s\tremaining: 3.05s\n",
      "506:\tlearn: 0.3296355\ttotal: 3.13s\tremaining: 3.04s\n",
      "507:\tlearn: 0.3296268\ttotal: 3.13s\tremaining: 3.03s\n",
      "508:\tlearn: 0.3295694\ttotal: 3.14s\tremaining: 3.03s\n",
      "509:\tlearn: 0.3294745\ttotal: 3.14s\tremaining: 3.02s\n",
      "510:\tlearn: 0.3294242\ttotal: 3.15s\tremaining: 3.01s\n",
      "511:\tlearn: 0.3293211\ttotal: 3.15s\tremaining: 3s\n",
      "512:\tlearn: 0.3292190\ttotal: 3.15s\tremaining: 2.99s\n"
     ]
    },
    {
     "name": "stdout",
     "output_type": "stream",
     "text": [
      "513:\tlearn: 0.3291982\ttotal: 3.16s\tremaining: 2.99s\n",
      "514:\tlearn: 0.3291110\ttotal: 3.16s\tremaining: 2.98s\n",
      "515:\tlearn: 0.3290627\ttotal: 3.17s\tremaining: 2.97s\n",
      "516:\tlearn: 0.3288657\ttotal: 3.17s\tremaining: 2.96s\n",
      "517:\tlearn: 0.3288118\ttotal: 3.17s\tremaining: 2.95s\n",
      "518:\tlearn: 0.3287833\ttotal: 3.18s\tremaining: 2.95s\n",
      "519:\tlearn: 0.3287567\ttotal: 3.18s\tremaining: 2.94s\n",
      "520:\tlearn: 0.3286576\ttotal: 3.19s\tremaining: 2.93s\n",
      "521:\tlearn: 0.3285114\ttotal: 3.19s\tremaining: 2.92s\n",
      "522:\tlearn: 0.3284709\ttotal: 3.2s\tremaining: 2.92s\n",
      "523:\tlearn: 0.3283835\ttotal: 3.2s\tremaining: 2.91s\n",
      "524:\tlearn: 0.3283647\ttotal: 3.21s\tremaining: 2.9s\n",
      "525:\tlearn: 0.3282784\ttotal: 3.21s\tremaining: 2.89s\n",
      "526:\tlearn: 0.3282444\ttotal: 3.21s\tremaining: 2.88s\n",
      "527:\tlearn: 0.3282216\ttotal: 3.22s\tremaining: 2.88s\n",
      "528:\tlearn: 0.3281662\ttotal: 3.22s\tremaining: 2.87s\n",
      "529:\tlearn: 0.3280703\ttotal: 3.23s\tremaining: 2.86s\n",
      "530:\tlearn: 0.3280350\ttotal: 3.23s\tremaining: 2.85s\n",
      "531:\tlearn: 0.3279465\ttotal: 3.23s\tremaining: 2.85s\n",
      "532:\tlearn: 0.3278672\ttotal: 3.24s\tremaining: 2.84s\n",
      "533:\tlearn: 0.3277604\ttotal: 3.24s\tremaining: 2.83s\n",
      "534:\tlearn: 0.3277343\ttotal: 3.25s\tremaining: 2.82s\n",
      "535:\tlearn: 0.3277036\ttotal: 3.25s\tremaining: 2.81s\n",
      "536:\tlearn: 0.3276909\ttotal: 3.26s\tremaining: 2.81s\n",
      "537:\tlearn: 0.3276467\ttotal: 3.26s\tremaining: 2.8s\n",
      "538:\tlearn: 0.3276339\ttotal: 3.27s\tremaining: 2.79s\n",
      "539:\tlearn: 0.3275309\ttotal: 3.27s\tremaining: 2.79s\n",
      "540:\tlearn: 0.3274241\ttotal: 3.27s\tremaining: 2.78s\n",
      "541:\tlearn: 0.3273478\ttotal: 3.28s\tremaining: 2.77s\n",
      "542:\tlearn: 0.3272755\ttotal: 3.28s\tremaining: 2.76s\n",
      "543:\tlearn: 0.3272360\ttotal: 3.29s\tremaining: 2.76s\n",
      "544:\tlearn: 0.3270914\ttotal: 3.29s\tremaining: 2.75s\n",
      "545:\tlearn: 0.3269707\ttotal: 3.3s\tremaining: 2.74s\n",
      "546:\tlearn: 0.3269346\ttotal: 3.3s\tremaining: 2.73s\n",
      "547:\tlearn: 0.3268786\ttotal: 3.31s\tremaining: 2.73s\n",
      "548:\tlearn: 0.3268533\ttotal: 3.31s\tremaining: 2.72s\n",
      "549:\tlearn: 0.3267629\ttotal: 3.31s\tremaining: 2.71s\n",
      "550:\tlearn: 0.3266560\ttotal: 3.32s\tremaining: 2.7s\n",
      "551:\tlearn: 0.3265752\ttotal: 3.32s\tremaining: 2.7s\n",
      "552:\tlearn: 0.3264889\ttotal: 3.33s\tremaining: 2.69s\n",
      "553:\tlearn: 0.3264710\ttotal: 3.33s\tremaining: 2.68s\n",
      "554:\tlearn: 0.3264307\ttotal: 3.34s\tremaining: 2.68s\n",
      "555:\tlearn: 0.3263790\ttotal: 3.34s\tremaining: 2.67s\n",
      "556:\tlearn: 0.3263162\ttotal: 3.35s\tremaining: 2.66s\n",
      "557:\tlearn: 0.3262546\ttotal: 3.35s\tremaining: 2.65s\n",
      "558:\tlearn: 0.3262344\ttotal: 3.35s\tremaining: 2.65s\n",
      "559:\tlearn: 0.3261666\ttotal: 3.36s\tremaining: 2.64s\n",
      "560:\tlearn: 0.3260312\ttotal: 3.36s\tremaining: 2.63s\n",
      "561:\tlearn: 0.3259656\ttotal: 3.37s\tremaining: 2.63s\n",
      "562:\tlearn: 0.3258489\ttotal: 3.37s\tremaining: 2.62s\n",
      "563:\tlearn: 0.3257934\ttotal: 3.38s\tremaining: 2.61s\n",
      "564:\tlearn: 0.3257500\ttotal: 3.38s\tremaining: 2.6s\n",
      "565:\tlearn: 0.3257031\ttotal: 3.39s\tremaining: 2.6s\n",
      "566:\tlearn: 0.3256798\ttotal: 3.39s\tremaining: 2.59s\n",
      "567:\tlearn: 0.3255595\ttotal: 3.4s\tremaining: 2.58s\n",
      "568:\tlearn: 0.3254765\ttotal: 3.4s\tremaining: 2.58s\n",
      "569:\tlearn: 0.3254544\ttotal: 3.4s\tremaining: 2.57s\n",
      "570:\tlearn: 0.3253897\ttotal: 3.41s\tremaining: 2.56s\n",
      "571:\tlearn: 0.3253035\ttotal: 3.42s\tremaining: 2.56s\n",
      "572:\tlearn: 0.3252675\ttotal: 3.42s\tremaining: 2.55s\n",
      "573:\tlearn: 0.3252153\ttotal: 3.44s\tremaining: 2.55s\n",
      "574:\tlearn: 0.3251669\ttotal: 3.44s\tremaining: 2.55s\n",
      "575:\tlearn: 0.3250395\ttotal: 3.45s\tremaining: 2.54s\n",
      "576:\tlearn: 0.3249462\ttotal: 3.46s\tremaining: 2.53s\n",
      "577:\tlearn: 0.3248942\ttotal: 3.46s\tremaining: 2.52s\n",
      "578:\tlearn: 0.3248174\ttotal: 3.46s\tremaining: 2.52s\n",
      "579:\tlearn: 0.3247813\ttotal: 3.47s\tremaining: 2.51s\n",
      "580:\tlearn: 0.3247596\ttotal: 3.47s\tremaining: 2.5s\n",
      "581:\tlearn: 0.3247259\ttotal: 3.48s\tremaining: 2.5s\n",
      "582:\tlearn: 0.3246489\ttotal: 3.48s\tremaining: 2.49s\n",
      "583:\tlearn: 0.3245766\ttotal: 3.49s\tremaining: 2.48s\n",
      "584:\tlearn: 0.3245193\ttotal: 3.49s\tremaining: 2.48s\n",
      "585:\tlearn: 0.3244454\ttotal: 3.5s\tremaining: 2.47s\n",
      "586:\tlearn: 0.3244203\ttotal: 3.5s\tremaining: 2.46s\n",
      "587:\tlearn: 0.3244068\ttotal: 3.5s\tremaining: 2.46s\n",
      "588:\tlearn: 0.3243460\ttotal: 3.51s\tremaining: 2.45s\n",
      "589:\tlearn: 0.3243011\ttotal: 3.51s\tremaining: 2.44s\n",
      "590:\tlearn: 0.3242600\ttotal: 3.52s\tremaining: 2.43s\n",
      "591:\tlearn: 0.3241288\ttotal: 3.52s\tremaining: 2.43s\n",
      "592:\tlearn: 0.3239664\ttotal: 3.52s\tremaining: 2.42s\n",
      "593:\tlearn: 0.3238968\ttotal: 3.53s\tremaining: 2.41s\n",
      "594:\tlearn: 0.3238563\ttotal: 3.53s\tremaining: 2.4s\n",
      "595:\tlearn: 0.3238310\ttotal: 3.53s\tremaining: 2.4s\n",
      "596:\tlearn: 0.3237601\ttotal: 3.54s\tremaining: 2.39s\n",
      "597:\tlearn: 0.3237307\ttotal: 3.54s\tremaining: 2.38s\n",
      "598:\tlearn: 0.3237156\ttotal: 3.54s\tremaining: 2.37s\n",
      "599:\tlearn: 0.3236475\ttotal: 3.55s\tremaining: 2.37s\n",
      "600:\tlearn: 0.3235092\ttotal: 3.55s\tremaining: 2.36s\n",
      "601:\tlearn: 0.3234226\ttotal: 3.56s\tremaining: 2.35s\n",
      "602:\tlearn: 0.3233836\ttotal: 3.56s\tremaining: 2.34s\n",
      "603:\tlearn: 0.3232553\ttotal: 3.56s\tremaining: 2.34s\n",
      "604:\tlearn: 0.3232058\ttotal: 3.57s\tremaining: 2.33s\n",
      "605:\tlearn: 0.3231037\ttotal: 3.57s\tremaining: 2.32s\n",
      "606:\tlearn: 0.3230325\ttotal: 3.57s\tremaining: 2.31s\n",
      "607:\tlearn: 0.3230195\ttotal: 3.58s\tremaining: 2.31s\n",
      "608:\tlearn: 0.3229472\ttotal: 3.58s\tremaining: 2.3s\n",
      "609:\tlearn: 0.3229139\ttotal: 3.58s\tremaining: 2.29s\n",
      "610:\tlearn: 0.3228668\ttotal: 3.59s\tremaining: 2.29s\n",
      "611:\tlearn: 0.3227706\ttotal: 3.59s\tremaining: 2.28s\n",
      "612:\tlearn: 0.3227085\ttotal: 3.6s\tremaining: 2.27s\n",
      "613:\tlearn: 0.3226189\ttotal: 3.6s\tremaining: 2.26s\n",
      "614:\tlearn: 0.3225664\ttotal: 3.6s\tremaining: 2.26s\n",
      "615:\tlearn: 0.3225375\ttotal: 3.61s\tremaining: 2.25s\n",
      "616:\tlearn: 0.3225233\ttotal: 3.61s\tremaining: 2.24s\n",
      "617:\tlearn: 0.3224489\ttotal: 3.62s\tremaining: 2.23s\n",
      "618:\tlearn: 0.3224403\ttotal: 3.62s\tremaining: 2.23s\n",
      "619:\tlearn: 0.3223776\ttotal: 3.62s\tremaining: 2.22s\n",
      "620:\tlearn: 0.3222918\ttotal: 3.63s\tremaining: 2.21s\n",
      "621:\tlearn: 0.3222511\ttotal: 3.63s\tremaining: 2.21s\n",
      "622:\tlearn: 0.3221947\ttotal: 3.63s\tremaining: 2.2s\n",
      "623:\tlearn: 0.3220930\ttotal: 3.64s\tremaining: 2.19s\n",
      "624:\tlearn: 0.3219891\ttotal: 3.64s\tremaining: 2.18s\n",
      "625:\tlearn: 0.3218867\ttotal: 3.64s\tremaining: 2.18s\n",
      "626:\tlearn: 0.3217798\ttotal: 3.65s\tremaining: 2.17s\n",
      "627:\tlearn: 0.3217341\ttotal: 3.65s\tremaining: 2.16s\n",
      "628:\tlearn: 0.3216996\ttotal: 3.65s\tremaining: 2.15s\n",
      "629:\tlearn: 0.3216645\ttotal: 3.66s\tremaining: 2.15s\n",
      "630:\tlearn: 0.3215305\ttotal: 3.66s\tremaining: 2.14s\n",
      "631:\tlearn: 0.3214638\ttotal: 3.67s\tremaining: 2.13s\n",
      "632:\tlearn: 0.3214028\ttotal: 3.67s\tremaining: 2.13s\n",
      "633:\tlearn: 0.3213606\ttotal: 3.67s\tremaining: 2.12s\n",
      "634:\tlearn: 0.3212666\ttotal: 3.68s\tremaining: 2.11s\n",
      "635:\tlearn: 0.3212103\ttotal: 3.68s\tremaining: 2.11s\n",
      "636:\tlearn: 0.3211417\ttotal: 3.69s\tremaining: 2.1s\n",
      "637:\tlearn: 0.3210942\ttotal: 3.69s\tremaining: 2.09s\n",
      "638:\tlearn: 0.3209726\ttotal: 3.7s\tremaining: 2.09s\n",
      "639:\tlearn: 0.3208625\ttotal: 3.7s\tremaining: 2.08s\n",
      "640:\tlearn: 0.3208024\ttotal: 3.71s\tremaining: 2.08s\n",
      "641:\tlearn: 0.3207388\ttotal: 3.71s\tremaining: 2.07s\n",
      "642:\tlearn: 0.3206237\ttotal: 3.71s\tremaining: 2.06s\n",
      "643:\tlearn: 0.3205439\ttotal: 3.72s\tremaining: 2.06s\n",
      "644:\tlearn: 0.3204722\ttotal: 3.72s\tremaining: 2.05s\n",
      "645:\tlearn: 0.3204458\ttotal: 3.73s\tremaining: 2.04s\n",
      "646:\tlearn: 0.3204289\ttotal: 3.73s\tremaining: 2.03s\n",
      "647:\tlearn: 0.3204157\ttotal: 3.73s\tremaining: 2.03s\n",
      "648:\tlearn: 0.3203475\ttotal: 3.74s\tremaining: 2.02s\n",
      "649:\tlearn: 0.3203068\ttotal: 3.74s\tremaining: 2.01s\n",
      "650:\tlearn: 0.3202674\ttotal: 3.74s\tremaining: 2.01s\n",
      "651:\tlearn: 0.3202601\ttotal: 3.75s\tremaining: 2s\n",
      "652:\tlearn: 0.3201732\ttotal: 3.75s\tremaining: 1.99s\n",
      "653:\tlearn: 0.3200298\ttotal: 3.75s\tremaining: 1.99s\n",
      "654:\tlearn: 0.3199667\ttotal: 3.76s\tremaining: 1.98s\n",
      "655:\tlearn: 0.3198865\ttotal: 3.76s\tremaining: 1.97s\n",
      "656:\tlearn: 0.3198710\ttotal: 3.77s\tremaining: 1.97s\n",
      "657:\tlearn: 0.3198427\ttotal: 3.77s\tremaining: 1.96s\n",
      "658:\tlearn: 0.3197757\ttotal: 3.77s\tremaining: 1.95s\n",
      "659:\tlearn: 0.3197557\ttotal: 3.78s\tremaining: 1.95s\n",
      "660:\tlearn: 0.3196811\ttotal: 3.78s\tremaining: 1.94s\n",
      "661:\tlearn: 0.3196301\ttotal: 3.78s\tremaining: 1.93s\n",
      "662:\tlearn: 0.3195777\ttotal: 3.79s\tremaining: 1.93s\n",
      "663:\tlearn: 0.3194894\ttotal: 3.79s\tremaining: 1.92s\n",
      "664:\tlearn: 0.3194112\ttotal: 3.79s\tremaining: 1.91s\n",
      "665:\tlearn: 0.3193786\ttotal: 3.8s\tremaining: 1.91s\n",
      "666:\tlearn: 0.3193259\ttotal: 3.8s\tremaining: 1.9s\n",
      "667:\tlearn: 0.3192335\ttotal: 3.81s\tremaining: 1.89s\n",
      "668:\tlearn: 0.3191267\ttotal: 3.81s\tremaining: 1.88s\n",
      "669:\tlearn: 0.3190906\ttotal: 3.81s\tremaining: 1.88s\n",
      "670:\tlearn: 0.3190302\ttotal: 3.82s\tremaining: 1.87s\n",
      "671:\tlearn: 0.3190227\ttotal: 3.82s\tremaining: 1.86s\n",
      "672:\tlearn: 0.3190168\ttotal: 3.82s\tremaining: 1.86s\n",
      "673:\tlearn: 0.3189633\ttotal: 3.83s\tremaining: 1.85s\n",
      "674:\tlearn: 0.3189396\ttotal: 3.83s\tremaining: 1.84s\n",
      "675:\tlearn: 0.3189027\ttotal: 3.83s\tremaining: 1.84s\n",
      "676:\tlearn: 0.3188649\ttotal: 3.84s\tremaining: 1.83s\n",
      "677:\tlearn: 0.3187001\ttotal: 3.84s\tremaining: 1.82s\n",
      "678:\tlearn: 0.3186484\ttotal: 3.85s\tremaining: 1.82s\n"
     ]
    },
    {
     "name": "stdout",
     "output_type": "stream",
     "text": [
      "679:\tlearn: 0.3186022\ttotal: 3.85s\tremaining: 1.81s\n",
      "680:\tlearn: 0.3185733\ttotal: 3.85s\tremaining: 1.8s\n",
      "681:\tlearn: 0.3184844\ttotal: 3.86s\tremaining: 1.8s\n",
      "682:\tlearn: 0.3184252\ttotal: 3.86s\tremaining: 1.79s\n",
      "683:\tlearn: 0.3183579\ttotal: 3.86s\tremaining: 1.78s\n",
      "684:\tlearn: 0.3182753\ttotal: 3.87s\tremaining: 1.78s\n",
      "685:\tlearn: 0.3181697\ttotal: 3.87s\tremaining: 1.77s\n",
      "686:\tlearn: 0.3181619\ttotal: 3.88s\tremaining: 1.76s\n",
      "687:\tlearn: 0.3181296\ttotal: 3.88s\tremaining: 1.76s\n",
      "688:\tlearn: 0.3180948\ttotal: 3.88s\tremaining: 1.75s\n",
      "689:\tlearn: 0.3179981\ttotal: 3.89s\tremaining: 1.75s\n",
      "690:\tlearn: 0.3179379\ttotal: 3.89s\tremaining: 1.74s\n",
      "691:\tlearn: 0.3178683\ttotal: 3.89s\tremaining: 1.73s\n",
      "692:\tlearn: 0.3178619\ttotal: 3.9s\tremaining: 1.73s\n",
      "693:\tlearn: 0.3178005\ttotal: 3.9s\tremaining: 1.72s\n",
      "694:\tlearn: 0.3177259\ttotal: 3.9s\tremaining: 1.71s\n",
      "695:\tlearn: 0.3176650\ttotal: 3.91s\tremaining: 1.71s\n",
      "696:\tlearn: 0.3176278\ttotal: 3.91s\tremaining: 1.7s\n",
      "697:\tlearn: 0.3176190\ttotal: 3.92s\tremaining: 1.7s\n",
      "698:\tlearn: 0.3176024\ttotal: 3.92s\tremaining: 1.69s\n",
      "699:\tlearn: 0.3175459\ttotal: 3.93s\tremaining: 1.68s\n",
      "700:\tlearn: 0.3175432\ttotal: 3.93s\tremaining: 1.68s\n",
      "701:\tlearn: 0.3174719\ttotal: 3.94s\tremaining: 1.67s\n",
      "702:\tlearn: 0.3174178\ttotal: 3.94s\tremaining: 1.67s\n",
      "703:\tlearn: 0.3173492\ttotal: 3.95s\tremaining: 1.66s\n",
      "704:\tlearn: 0.3172282\ttotal: 3.95s\tremaining: 1.65s\n",
      "705:\tlearn: 0.3171776\ttotal: 3.96s\tremaining: 1.65s\n",
      "706:\tlearn: 0.3171149\ttotal: 3.96s\tremaining: 1.64s\n",
      "707:\tlearn: 0.3169698\ttotal: 3.96s\tremaining: 1.63s\n",
      "708:\tlearn: 0.3168999\ttotal: 3.97s\tremaining: 1.63s\n",
      "709:\tlearn: 0.3168512\ttotal: 3.97s\tremaining: 1.62s\n",
      "710:\tlearn: 0.3167571\ttotal: 3.97s\tremaining: 1.61s\n",
      "711:\tlearn: 0.3167313\ttotal: 3.98s\tremaining: 1.61s\n",
      "712:\tlearn: 0.3167107\ttotal: 3.98s\tremaining: 1.6s\n",
      "713:\tlearn: 0.3166432\ttotal: 3.98s\tremaining: 1.59s\n",
      "714:\tlearn: 0.3165751\ttotal: 3.99s\tremaining: 1.59s\n",
      "715:\tlearn: 0.3165047\ttotal: 3.99s\tremaining: 1.58s\n",
      "716:\tlearn: 0.3164780\ttotal: 3.99s\tremaining: 1.58s\n",
      "717:\tlearn: 0.3163647\ttotal: 4s\tremaining: 1.57s\n",
      "718:\tlearn: 0.3163449\ttotal: 4s\tremaining: 1.56s\n",
      "719:\tlearn: 0.3163260\ttotal: 4.01s\tremaining: 1.56s\n",
      "720:\tlearn: 0.3162849\ttotal: 4.01s\tremaining: 1.55s\n",
      "721:\tlearn: 0.3161914\ttotal: 4.01s\tremaining: 1.54s\n",
      "722:\tlearn: 0.3161234\ttotal: 4.02s\tremaining: 1.54s\n",
      "723:\tlearn: 0.3160880\ttotal: 4.02s\tremaining: 1.53s\n",
      "724:\tlearn: 0.3160621\ttotal: 4.03s\tremaining: 1.53s\n",
      "725:\tlearn: 0.3160570\ttotal: 4.03s\tremaining: 1.52s\n",
      "726:\tlearn: 0.3160290\ttotal: 4.03s\tremaining: 1.51s\n",
      "727:\tlearn: 0.3159853\ttotal: 4.04s\tremaining: 1.51s\n",
      "728:\tlearn: 0.3159221\ttotal: 4.04s\tremaining: 1.5s\n",
      "729:\tlearn: 0.3158855\ttotal: 4.04s\tremaining: 1.5s\n",
      "730:\tlearn: 0.3158396\ttotal: 4.05s\tremaining: 1.49s\n",
      "731:\tlearn: 0.3158364\ttotal: 4.05s\tremaining: 1.48s\n",
      "732:\tlearn: 0.3157529\ttotal: 4.05s\tremaining: 1.48s\n",
      "733:\tlearn: 0.3157498\ttotal: 4.06s\tremaining: 1.47s\n",
      "734:\tlearn: 0.3156662\ttotal: 4.06s\tremaining: 1.46s\n",
      "735:\tlearn: 0.3155841\ttotal: 4.07s\tremaining: 1.46s\n",
      "736:\tlearn: 0.3154969\ttotal: 4.07s\tremaining: 1.45s\n",
      "737:\tlearn: 0.3153896\ttotal: 4.07s\tremaining: 1.45s\n",
      "738:\tlearn: 0.3153185\ttotal: 4.08s\tremaining: 1.44s\n",
      "739:\tlearn: 0.3152617\ttotal: 4.08s\tremaining: 1.43s\n",
      "740:\tlearn: 0.3152337\ttotal: 4.08s\tremaining: 1.43s\n",
      "741:\tlearn: 0.3151859\ttotal: 4.09s\tremaining: 1.42s\n",
      "742:\tlearn: 0.3151421\ttotal: 4.09s\tremaining: 1.42s\n",
      "743:\tlearn: 0.3151087\ttotal: 4.1s\tremaining: 1.41s\n",
      "744:\tlearn: 0.3151074\ttotal: 4.1s\tremaining: 1.4s\n",
      "745:\tlearn: 0.3149939\ttotal: 4.1s\tremaining: 1.4s\n",
      "746:\tlearn: 0.3149721\ttotal: 4.11s\tremaining: 1.39s\n",
      "747:\tlearn: 0.3149381\ttotal: 4.11s\tremaining: 1.38s\n",
      "748:\tlearn: 0.3148996\ttotal: 4.11s\tremaining: 1.38s\n",
      "749:\tlearn: 0.3148872\ttotal: 4.12s\tremaining: 1.37s\n",
      "750:\tlearn: 0.3148581\ttotal: 4.12s\tremaining: 1.37s\n",
      "751:\tlearn: 0.3148026\ttotal: 4.13s\tremaining: 1.36s\n",
      "752:\tlearn: 0.3147953\ttotal: 4.13s\tremaining: 1.35s\n",
      "753:\tlearn: 0.3147102\ttotal: 4.13s\tremaining: 1.35s\n",
      "754:\tlearn: 0.3146663\ttotal: 4.13s\tremaining: 1.34s\n",
      "755:\tlearn: 0.3145998\ttotal: 4.14s\tremaining: 1.33s\n",
      "756:\tlearn: 0.3145294\ttotal: 4.14s\tremaining: 1.33s\n",
      "757:\tlearn: 0.3145084\ttotal: 4.15s\tremaining: 1.32s\n",
      "758:\tlearn: 0.3144682\ttotal: 4.15s\tremaining: 1.32s\n",
      "759:\tlearn: 0.3144338\ttotal: 4.15s\tremaining: 1.31s\n",
      "760:\tlearn: 0.3143649\ttotal: 4.16s\tremaining: 1.3s\n",
      "761:\tlearn: 0.3143456\ttotal: 4.16s\tremaining: 1.3s\n",
      "762:\tlearn: 0.3143137\ttotal: 4.16s\tremaining: 1.29s\n",
      "763:\tlearn: 0.3142539\ttotal: 4.17s\tremaining: 1.29s\n",
      "764:\tlearn: 0.3142346\ttotal: 4.17s\tremaining: 1.28s\n",
      "765:\tlearn: 0.3141921\ttotal: 4.17s\tremaining: 1.27s\n",
      "766:\tlearn: 0.3141629\ttotal: 4.18s\tremaining: 1.27s\n",
      "767:\tlearn: 0.3141354\ttotal: 4.18s\tremaining: 1.26s\n",
      "768:\tlearn: 0.3141071\ttotal: 4.19s\tremaining: 1.26s\n",
      "769:\tlearn: 0.3140529\ttotal: 4.19s\tremaining: 1.25s\n",
      "770:\tlearn: 0.3140085\ttotal: 4.19s\tremaining: 1.25s\n",
      "771:\tlearn: 0.3139301\ttotal: 4.2s\tremaining: 1.24s\n",
      "772:\tlearn: 0.3139256\ttotal: 4.2s\tremaining: 1.23s\n",
      "773:\tlearn: 0.3138327\ttotal: 4.21s\tremaining: 1.23s\n",
      "774:\tlearn: 0.3138063\ttotal: 4.21s\tremaining: 1.22s\n",
      "775:\tlearn: 0.3137518\ttotal: 4.21s\tremaining: 1.22s\n",
      "776:\tlearn: 0.3137225\ttotal: 4.21s\tremaining: 1.21s\n",
      "777:\tlearn: 0.3136309\ttotal: 4.22s\tremaining: 1.2s\n",
      "778:\tlearn: 0.3135621\ttotal: 4.22s\tremaining: 1.2s\n",
      "779:\tlearn: 0.3134746\ttotal: 4.23s\tremaining: 1.19s\n",
      "780:\tlearn: 0.3134503\ttotal: 4.23s\tremaining: 1.19s\n",
      "781:\tlearn: 0.3134324\ttotal: 4.23s\tremaining: 1.18s\n",
      "782:\tlearn: 0.3133908\ttotal: 4.24s\tremaining: 1.17s\n",
      "783:\tlearn: 0.3132877\ttotal: 4.24s\tremaining: 1.17s\n",
      "784:\tlearn: 0.3132669\ttotal: 4.24s\tremaining: 1.16s\n",
      "785:\tlearn: 0.3131938\ttotal: 4.25s\tremaining: 1.16s\n",
      "786:\tlearn: 0.3131386\ttotal: 4.25s\tremaining: 1.15s\n",
      "787:\tlearn: 0.3131026\ttotal: 4.25s\tremaining: 1.14s\n",
      "788:\tlearn: 0.3130122\ttotal: 4.26s\tremaining: 1.14s\n",
      "789:\tlearn: 0.3129904\ttotal: 4.26s\tremaining: 1.13s\n",
      "790:\tlearn: 0.3129558\ttotal: 4.27s\tremaining: 1.13s\n",
      "791:\tlearn: 0.3129310\ttotal: 4.27s\tremaining: 1.12s\n",
      "792:\tlearn: 0.3129011\ttotal: 4.27s\tremaining: 1.11s\n",
      "793:\tlearn: 0.3128736\ttotal: 4.28s\tremaining: 1.11s\n",
      "794:\tlearn: 0.3128326\ttotal: 4.28s\tremaining: 1.1s\n",
      "795:\tlearn: 0.3128231\ttotal: 4.28s\tremaining: 1.1s\n",
      "796:\tlearn: 0.3127877\ttotal: 4.29s\tremaining: 1.09s\n",
      "797:\tlearn: 0.3127639\ttotal: 4.29s\tremaining: 1.09s\n",
      "798:\tlearn: 0.3127089\ttotal: 4.29s\tremaining: 1.08s\n",
      "799:\tlearn: 0.3127005\ttotal: 4.3s\tremaining: 1.07s\n",
      "800:\tlearn: 0.3126484\ttotal: 4.3s\tremaining: 1.07s\n",
      "801:\tlearn: 0.3125869\ttotal: 4.31s\tremaining: 1.06s\n",
      "802:\tlearn: 0.3125544\ttotal: 4.31s\tremaining: 1.06s\n",
      "803:\tlearn: 0.3125131\ttotal: 4.31s\tremaining: 1.05s\n",
      "804:\tlearn: 0.3124882\ttotal: 4.32s\tremaining: 1.04s\n",
      "805:\tlearn: 0.3124623\ttotal: 4.32s\tremaining: 1.04s\n",
      "806:\tlearn: 0.3124554\ttotal: 4.32s\tremaining: 1.03s\n",
      "807:\tlearn: 0.3124322\ttotal: 4.33s\tremaining: 1.03s\n",
      "808:\tlearn: 0.3123482\ttotal: 4.33s\tremaining: 1.02s\n",
      "809:\tlearn: 0.3123083\ttotal: 4.33s\tremaining: 1.02s\n",
      "810:\tlearn: 0.3122650\ttotal: 4.34s\tremaining: 1.01s\n",
      "811:\tlearn: 0.3121904\ttotal: 4.34s\tremaining: 1s\n",
      "812:\tlearn: 0.3121531\ttotal: 4.35s\tremaining: 1000ms\n",
      "813:\tlearn: 0.3121289\ttotal: 4.35s\tremaining: 994ms\n",
      "814:\tlearn: 0.3120936\ttotal: 4.35s\tremaining: 988ms\n",
      "815:\tlearn: 0.3120581\ttotal: 4.36s\tremaining: 982ms\n",
      "816:\tlearn: 0.3120441\ttotal: 4.36s\tremaining: 977ms\n",
      "817:\tlearn: 0.3120094\ttotal: 4.37s\tremaining: 971ms\n",
      "818:\tlearn: 0.3119532\ttotal: 4.37s\tremaining: 966ms\n",
      "819:\tlearn: 0.3119367\ttotal: 4.37s\tremaining: 960ms\n",
      "820:\tlearn: 0.3119343\ttotal: 4.38s\tremaining: 954ms\n",
      "821:\tlearn: 0.3118917\ttotal: 4.38s\tremaining: 948ms\n",
      "822:\tlearn: 0.3117810\ttotal: 4.38s\tremaining: 943ms\n",
      "823:\tlearn: 0.3117360\ttotal: 4.39s\tremaining: 937ms\n",
      "824:\tlearn: 0.3116881\ttotal: 4.39s\tremaining: 932ms\n",
      "825:\tlearn: 0.3116575\ttotal: 4.4s\tremaining: 926ms\n",
      "826:\tlearn: 0.3116391\ttotal: 4.4s\tremaining: 921ms\n",
      "827:\tlearn: 0.3115680\ttotal: 4.41s\tremaining: 915ms\n",
      "828:\tlearn: 0.3115195\ttotal: 4.41s\tremaining: 910ms\n",
      "829:\tlearn: 0.3114828\ttotal: 4.42s\tremaining: 905ms\n",
      "830:\tlearn: 0.3114703\ttotal: 4.42s\tremaining: 899ms\n",
      "831:\tlearn: 0.3113979\ttotal: 4.43s\tremaining: 894ms\n",
      "832:\tlearn: 0.3113732\ttotal: 4.43s\tremaining: 888ms\n",
      "833:\tlearn: 0.3113255\ttotal: 4.43s\tremaining: 882ms\n",
      "834:\tlearn: 0.3112917\ttotal: 4.44s\tremaining: 877ms\n",
      "835:\tlearn: 0.3112476\ttotal: 4.44s\tremaining: 871ms\n",
      "836:\tlearn: 0.3112100\ttotal: 4.45s\tremaining: 866ms\n",
      "837:\tlearn: 0.3111330\ttotal: 4.45s\tremaining: 860ms\n",
      "838:\tlearn: 0.3111109\ttotal: 4.45s\tremaining: 854ms\n",
      "839:\tlearn: 0.3110514\ttotal: 4.46s\tremaining: 849ms\n",
      "840:\tlearn: 0.3110223\ttotal: 4.46s\tremaining: 843ms\n",
      "841:\tlearn: 0.3109615\ttotal: 4.46s\tremaining: 838ms\n",
      "842:\tlearn: 0.3109301\ttotal: 4.47s\tremaining: 832ms\n",
      "843:\tlearn: 0.3108712\ttotal: 4.47s\tremaining: 826ms\n",
      "844:\tlearn: 0.3108480\ttotal: 4.47s\tremaining: 821ms\n",
      "845:\tlearn: 0.3108155\ttotal: 4.48s\tremaining: 815ms\n",
      "846:\tlearn: 0.3107791\ttotal: 4.48s\tremaining: 810ms\n",
      "847:\tlearn: 0.3107458\ttotal: 4.49s\tremaining: 804ms\n",
      "848:\tlearn: 0.3106830\ttotal: 4.49s\tremaining: 798ms\n",
      "849:\tlearn: 0.3106711\ttotal: 4.49s\tremaining: 793ms\n",
      "850:\tlearn: 0.3106504\ttotal: 4.5s\tremaining: 787ms\n",
      "851:\tlearn: 0.3106305\ttotal: 4.5s\tremaining: 782ms\n",
      "852:\tlearn: 0.3105940\ttotal: 4.5s\tremaining: 776ms\n",
      "853:\tlearn: 0.3105389\ttotal: 4.51s\tremaining: 770ms\n",
      "854:\tlearn: 0.3104842\ttotal: 4.51s\tremaining: 765ms\n",
      "855:\tlearn: 0.3104582\ttotal: 4.51s\tremaining: 759ms\n",
      "856:\tlearn: 0.3103764\ttotal: 4.52s\tremaining: 754ms\n"
     ]
    },
    {
     "name": "stdout",
     "output_type": "stream",
     "text": [
      "857:\tlearn: 0.3102903\ttotal: 4.52s\tremaining: 748ms\n",
      "858:\tlearn: 0.3102824\ttotal: 4.53s\tremaining: 743ms\n",
      "859:\tlearn: 0.3102186\ttotal: 4.53s\tremaining: 737ms\n",
      "860:\tlearn: 0.3101789\ttotal: 4.53s\tremaining: 732ms\n",
      "861:\tlearn: 0.3101448\ttotal: 4.54s\tremaining: 726ms\n",
      "862:\tlearn: 0.3101371\ttotal: 4.54s\tremaining: 721ms\n",
      "863:\tlearn: 0.3100648\ttotal: 4.54s\tremaining: 715ms\n",
      "864:\tlearn: 0.3100446\ttotal: 4.55s\tremaining: 710ms\n",
      "865:\tlearn: 0.3100001\ttotal: 4.55s\tremaining: 704ms\n",
      "866:\tlearn: 0.3099892\ttotal: 4.55s\tremaining: 699ms\n",
      "867:\tlearn: 0.3099750\ttotal: 4.56s\tremaining: 693ms\n",
      "868:\tlearn: 0.3099142\ttotal: 4.56s\tremaining: 688ms\n",
      "869:\tlearn: 0.3098870\ttotal: 4.56s\tremaining: 682ms\n",
      "870:\tlearn: 0.3098377\ttotal: 4.57s\tremaining: 677ms\n",
      "871:\tlearn: 0.3098120\ttotal: 4.57s\tremaining: 671ms\n",
      "872:\tlearn: 0.3097451\ttotal: 4.58s\tremaining: 666ms\n",
      "873:\tlearn: 0.3097005\ttotal: 4.58s\tremaining: 660ms\n",
      "874:\tlearn: 0.3096027\ttotal: 4.58s\tremaining: 655ms\n",
      "875:\tlearn: 0.3095753\ttotal: 4.59s\tremaining: 649ms\n",
      "876:\tlearn: 0.3095657\ttotal: 4.59s\tremaining: 644ms\n",
      "877:\tlearn: 0.3095487\ttotal: 4.59s\tremaining: 638ms\n",
      "878:\tlearn: 0.3095143\ttotal: 4.6s\tremaining: 633ms\n",
      "879:\tlearn: 0.3094333\ttotal: 4.6s\tremaining: 628ms\n",
      "880:\tlearn: 0.3093716\ttotal: 4.61s\tremaining: 622ms\n",
      "881:\tlearn: 0.3093283\ttotal: 4.61s\tremaining: 617ms\n",
      "882:\tlearn: 0.3092766\ttotal: 4.61s\tremaining: 611ms\n",
      "883:\tlearn: 0.3092320\ttotal: 4.62s\tremaining: 606ms\n",
      "884:\tlearn: 0.3092238\ttotal: 4.62s\tremaining: 600ms\n",
      "885:\tlearn: 0.3092183\ttotal: 4.62s\tremaining: 595ms\n",
      "886:\tlearn: 0.3091978\ttotal: 4.63s\tremaining: 590ms\n",
      "887:\tlearn: 0.3091412\ttotal: 4.63s\tremaining: 584ms\n",
      "888:\tlearn: 0.3090879\ttotal: 4.63s\tremaining: 579ms\n",
      "889:\tlearn: 0.3090458\ttotal: 4.64s\tremaining: 573ms\n",
      "890:\tlearn: 0.3090155\ttotal: 4.64s\tremaining: 568ms\n",
      "891:\tlearn: 0.3089788\ttotal: 4.65s\tremaining: 563ms\n",
      "892:\tlearn: 0.3089356\ttotal: 4.65s\tremaining: 558ms\n",
      "893:\tlearn: 0.3088935\ttotal: 4.66s\tremaining: 552ms\n",
      "894:\tlearn: 0.3088161\ttotal: 4.66s\tremaining: 547ms\n",
      "895:\tlearn: 0.3087712\ttotal: 4.67s\tremaining: 542ms\n",
      "896:\tlearn: 0.3087281\ttotal: 4.67s\tremaining: 536ms\n",
      "897:\tlearn: 0.3086472\ttotal: 4.68s\tremaining: 531ms\n",
      "898:\tlearn: 0.3086279\ttotal: 4.68s\tremaining: 526ms\n",
      "899:\tlearn: 0.3085780\ttotal: 4.69s\tremaining: 521ms\n",
      "900:\tlearn: 0.3085551\ttotal: 4.69s\tremaining: 515ms\n",
      "901:\tlearn: 0.3085481\ttotal: 4.69s\tremaining: 510ms\n",
      "902:\tlearn: 0.3085223\ttotal: 4.69s\tremaining: 504ms\n",
      "903:\tlearn: 0.3084989\ttotal: 4.7s\tremaining: 499ms\n",
      "904:\tlearn: 0.3084831\ttotal: 4.7s\tremaining: 494ms\n",
      "905:\tlearn: 0.3084809\ttotal: 4.71s\tremaining: 488ms\n",
      "906:\tlearn: 0.3084501\ttotal: 4.71s\tremaining: 483ms\n",
      "907:\tlearn: 0.3084201\ttotal: 4.71s\tremaining: 478ms\n",
      "908:\tlearn: 0.3083781\ttotal: 4.72s\tremaining: 472ms\n",
      "909:\tlearn: 0.3083271\ttotal: 4.72s\tremaining: 467ms\n",
      "910:\tlearn: 0.3082340\ttotal: 4.72s\tremaining: 462ms\n",
      "911:\tlearn: 0.3081253\ttotal: 4.73s\tremaining: 456ms\n",
      "912:\tlearn: 0.3080983\ttotal: 4.73s\tremaining: 451ms\n",
      "913:\tlearn: 0.3080605\ttotal: 4.74s\tremaining: 446ms\n",
      "914:\tlearn: 0.3080350\ttotal: 4.74s\tremaining: 440ms\n",
      "915:\tlearn: 0.3079545\ttotal: 4.74s\tremaining: 435ms\n",
      "916:\tlearn: 0.3079296\ttotal: 4.75s\tremaining: 430ms\n",
      "917:\tlearn: 0.3078873\ttotal: 4.75s\tremaining: 424ms\n",
      "918:\tlearn: 0.3077829\ttotal: 4.75s\tremaining: 419ms\n",
      "919:\tlearn: 0.3077530\ttotal: 4.76s\tremaining: 414ms\n",
      "920:\tlearn: 0.3077362\ttotal: 4.76s\tremaining: 408ms\n",
      "921:\tlearn: 0.3077042\ttotal: 4.76s\tremaining: 403ms\n",
      "922:\tlearn: 0.3076526\ttotal: 4.77s\tremaining: 398ms\n",
      "923:\tlearn: 0.3076465\ttotal: 4.77s\tremaining: 392ms\n",
      "924:\tlearn: 0.3076367\ttotal: 4.77s\tremaining: 387ms\n",
      "925:\tlearn: 0.3075970\ttotal: 4.78s\tremaining: 382ms\n",
      "926:\tlearn: 0.3075658\ttotal: 4.78s\tremaining: 377ms\n",
      "927:\tlearn: 0.3075347\ttotal: 4.79s\tremaining: 371ms\n",
      "928:\tlearn: 0.3074700\ttotal: 4.79s\tremaining: 366ms\n",
      "929:\tlearn: 0.3074435\ttotal: 4.79s\tremaining: 361ms\n",
      "930:\tlearn: 0.3074172\ttotal: 4.8s\tremaining: 356ms\n",
      "931:\tlearn: 0.3074109\ttotal: 4.8s\tremaining: 350ms\n",
      "932:\tlearn: 0.3073827\ttotal: 4.8s\tremaining: 345ms\n",
      "933:\tlearn: 0.3073406\ttotal: 4.81s\tremaining: 340ms\n",
      "934:\tlearn: 0.3073194\ttotal: 4.81s\tremaining: 334ms\n",
      "935:\tlearn: 0.3073016\ttotal: 4.81s\tremaining: 329ms\n",
      "936:\tlearn: 0.3072970\ttotal: 4.82s\tremaining: 324ms\n",
      "937:\tlearn: 0.3072087\ttotal: 4.82s\tremaining: 319ms\n",
      "938:\tlearn: 0.3071679\ttotal: 4.83s\tremaining: 313ms\n",
      "939:\tlearn: 0.3071206\ttotal: 4.83s\tremaining: 308ms\n",
      "940:\tlearn: 0.3070972\ttotal: 4.83s\tremaining: 303ms\n",
      "941:\tlearn: 0.3070894\ttotal: 4.84s\tremaining: 298ms\n",
      "942:\tlearn: 0.3070704\ttotal: 4.84s\tremaining: 293ms\n",
      "943:\tlearn: 0.3070432\ttotal: 4.84s\tremaining: 287ms\n",
      "944:\tlearn: 0.3070075\ttotal: 4.85s\tremaining: 282ms\n",
      "945:\tlearn: 0.3069708\ttotal: 4.85s\tremaining: 277ms\n",
      "946:\tlearn: 0.3069530\ttotal: 4.85s\tremaining: 272ms\n",
      "947:\tlearn: 0.3069310\ttotal: 4.86s\tremaining: 266ms\n",
      "948:\tlearn: 0.3068924\ttotal: 4.86s\tremaining: 261ms\n",
      "949:\tlearn: 0.3068693\ttotal: 4.87s\tremaining: 256ms\n",
      "950:\tlearn: 0.3068149\ttotal: 4.87s\tremaining: 251ms\n",
      "951:\tlearn: 0.3068032\ttotal: 4.88s\tremaining: 246ms\n",
      "952:\tlearn: 0.3067577\ttotal: 4.88s\tremaining: 241ms\n",
      "953:\tlearn: 0.3066688\ttotal: 4.88s\tremaining: 236ms\n",
      "954:\tlearn: 0.3066152\ttotal: 4.89s\tremaining: 230ms\n",
      "955:\tlearn: 0.3065094\ttotal: 4.9s\tremaining: 225ms\n",
      "956:\tlearn: 0.3063326\ttotal: 4.9s\tremaining: 220ms\n",
      "957:\tlearn: 0.3063246\ttotal: 4.9s\tremaining: 215ms\n",
      "958:\tlearn: 0.3063075\ttotal: 4.91s\tremaining: 210ms\n",
      "959:\tlearn: 0.3062830\ttotal: 4.91s\tremaining: 205ms\n",
      "960:\tlearn: 0.3062337\ttotal: 4.91s\tremaining: 199ms\n",
      "961:\tlearn: 0.3061717\ttotal: 4.92s\tremaining: 194ms\n",
      "962:\tlearn: 0.3061616\ttotal: 4.92s\tremaining: 189ms\n",
      "963:\tlearn: 0.3061291\ttotal: 4.92s\tremaining: 184ms\n",
      "964:\tlearn: 0.3060801\ttotal: 4.93s\tremaining: 179ms\n",
      "965:\tlearn: 0.3060492\ttotal: 4.93s\tremaining: 174ms\n",
      "966:\tlearn: 0.3059939\ttotal: 4.94s\tremaining: 168ms\n",
      "967:\tlearn: 0.3059071\ttotal: 4.94s\tremaining: 163ms\n",
      "968:\tlearn: 0.3058968\ttotal: 4.94s\tremaining: 158ms\n",
      "969:\tlearn: 0.3058111\ttotal: 4.95s\tremaining: 153ms\n",
      "970:\tlearn: 0.3057874\ttotal: 4.95s\tremaining: 148ms\n",
      "971:\tlearn: 0.3057596\ttotal: 4.96s\tremaining: 143ms\n",
      "972:\tlearn: 0.3057440\ttotal: 4.96s\tremaining: 138ms\n",
      "973:\tlearn: 0.3057089\ttotal: 4.96s\tremaining: 133ms\n",
      "974:\tlearn: 0.3056215\ttotal: 4.97s\tremaining: 127ms\n",
      "975:\tlearn: 0.3055809\ttotal: 4.97s\tremaining: 122ms\n",
      "976:\tlearn: 0.3055491\ttotal: 4.97s\tremaining: 117ms\n",
      "977:\tlearn: 0.3055404\ttotal: 4.98s\tremaining: 112ms\n",
      "978:\tlearn: 0.3055203\ttotal: 4.98s\tremaining: 107ms\n",
      "979:\tlearn: 0.3054444\ttotal: 4.99s\tremaining: 102ms\n",
      "980:\tlearn: 0.3054215\ttotal: 4.99s\tremaining: 96.7ms\n",
      "981:\tlearn: 0.3053498\ttotal: 4.99s\tremaining: 91.5ms\n",
      "982:\tlearn: 0.3052565\ttotal: 5s\tremaining: 86.4ms\n",
      "983:\tlearn: 0.3052052\ttotal: 5s\tremaining: 81.3ms\n",
      "984:\tlearn: 0.3051594\ttotal: 5s\tremaining: 76.2ms\n",
      "985:\tlearn: 0.3051407\ttotal: 5.01s\tremaining: 71.1ms\n",
      "986:\tlearn: 0.3051142\ttotal: 5.01s\tremaining: 66ms\n",
      "987:\tlearn: 0.3050234\ttotal: 5.01s\tremaining: 60.9ms\n",
      "988:\tlearn: 0.3049893\ttotal: 5.02s\tremaining: 55.8ms\n",
      "989:\tlearn: 0.3049723\ttotal: 5.02s\tremaining: 50.7ms\n",
      "990:\tlearn: 0.3049086\ttotal: 5.03s\tremaining: 45.6ms\n",
      "991:\tlearn: 0.3048924\ttotal: 5.03s\tremaining: 40.6ms\n",
      "992:\tlearn: 0.3048659\ttotal: 5.04s\tremaining: 35.5ms\n",
      "993:\tlearn: 0.3047635\ttotal: 5.04s\tremaining: 30.4ms\n",
      "994:\tlearn: 0.3047158\ttotal: 5.04s\tremaining: 25.3ms\n",
      "995:\tlearn: 0.3046945\ttotal: 5.05s\tremaining: 20.3ms\n",
      "996:\tlearn: 0.3046447\ttotal: 5.05s\tremaining: 15.2ms\n",
      "997:\tlearn: 0.3045953\ttotal: 5.05s\tremaining: 10.1ms\n",
      "998:\tlearn: 0.3045504\ttotal: 5.06s\tremaining: 5.06ms\n",
      "999:\tlearn: 0.3044965\ttotal: 5.06s\tremaining: 0us\n"
     ]
    },
    {
     "data": {
      "text/plain": [
       "<catboost.core.CatBoostRegressor at 0x21998fdaaf0>"
      ]
     },
     "execution_count": 103,
     "metadata": {},
     "output_type": "execute_result"
    }
   ],
   "source": [
    "model = CatBoostRegressor()\n",
    "model.fit(x_train_21, y_train_21)"
   ]
  },
  {
   "cell_type": "code",
   "execution_count": 104,
   "id": "2541db2b",
   "metadata": {},
   "outputs": [
    {
     "name": "stdout",
     "output_type": "stream",
     "text": [
      "MSE for CatBoost 2021 is: 0.20577581090342636\n"
     ]
    }
   ],
   "source": [
    "y_pred_21 = model.predict(x_test_21)\n",
    "# Calculation of Mean Squared Error (MSE)\n",
    "mse = mean_squared_error(y_test_21, y_pred_21)\n",
    "print('MSE for CatBoost 2021 is: ' + str(mse))"
   ]
  },
  {
   "cell_type": "code",
   "execution_count": 105,
   "id": "745d9507",
   "metadata": {},
   "outputs": [
    {
     "name": "stdout",
     "output_type": "stream",
     "text": [
      "Accuracy of properties at +- 10% of actual prices is 0.23209549071618038\n"
     ]
    }
   ],
   "source": [
    "acc = accuracy_threshold(y_test_21, y_pred_21, 0.1)\n",
    "print('Accuracy of properties at +- 10% of actual prices is ' + str(acc))"
   ]
  },
  {
   "cell_type": "code",
   "execution_count": 106,
   "id": "99227aa2",
   "metadata": {},
   "outputs": [
    {
     "name": "stdout",
     "output_type": "stream",
     "text": [
      "Median Absolute Error:\n",
      "\n",
      "0.22762517887824585\n"
     ]
    }
   ],
   "source": [
    "median_se = np.square(np.subtract(y_test_21, y_pred_21)).median() \n",
    " \n",
    "med = math.sqrt(median_se)\n",
    "print(\"Median Absolute Error:\\n\")\n",
    "print(med)"
   ]
  },
  {
   "cell_type": "code",
   "execution_count": 107,
   "id": "f51d9a36",
   "metadata": {},
   "outputs": [
    {
     "name": "stdout",
     "output_type": "stream",
     "text": [
      "Root Mean Square Error:\n",
      "\n",
      "0.45362518768629523\n"
     ]
    }
   ],
   "source": [
    "mean = np.square(np.subtract(y_test_21, y_pred_21)).mean() \n",
    " \n",
    "mean = math.sqrt(mean)\n",
    "print(\"Root Mean Square Error:\\n\")\n",
    "print(mean)"
   ]
  },
  {
   "cell_type": "code",
   "execution_count": 108,
   "id": "6cf9500d",
   "metadata": {},
   "outputs": [
    {
     "name": "stdout",
     "output_type": "stream",
     "text": [
      "MAPE for CatBoost 2021 is: 0.025704706374390755\n"
     ]
    }
   ],
   "source": [
    "mape = mean_absolute_percentage_error(y_test_21, y_pred_21)\n",
    "print(\"MAPE for CatBoost 2021 is: \" + str(mape))"
   ]
  },
  {
   "cell_type": "code",
   "execution_count": 109,
   "id": "e9b65a1c",
   "metadata": {},
   "outputs": [],
   "source": [
    "cnames=['Algorithm', 'Year', 'RMSE', 'MSE', 'MEDAE', 'Accuracy', 'MAPE']\n",
    "df3 = pd.DataFrame(columns=cnames)\n",
    "\n",
    "df3 = df3.append({'Algorithm': 'CatBoost',\n",
    "            'Year': 2021,\n",
    "           'RMSE': mean,\n",
    "           'MSE': mse,\n",
    "           'MEDAE': med,\n",
    "           'Accuracy': acc,\n",
    "           'MAPE': mape       \n",
    "          }, ignore_index=True)"
   ]
  },
  {
   "cell_type": "markdown",
   "id": "f395f049",
   "metadata": {},
   "source": [
    "#### 2020"
   ]
  },
  {
   "cell_type": "code",
   "execution_count": 110,
   "id": "3efced64",
   "metadata": {},
   "outputs": [
    {
     "name": "stdout",
     "output_type": "stream",
     "text": [
      "Learning rate set to 0.04756\n",
      "0:\tlearn: 0.5300458\ttotal: 3.99ms\tremaining: 3.98s\n",
      "1:\tlearn: 0.5210632\ttotal: 7.22ms\tremaining: 3.6s\n",
      "2:\tlearn: 0.5130502\ttotal: 10.8ms\tremaining: 3.6s\n",
      "3:\tlearn: 0.5056387\ttotal: 14.5ms\tremaining: 3.6s\n",
      "4:\tlearn: 0.4987996\ttotal: 18ms\tremaining: 3.57s\n",
      "5:\tlearn: 0.4924791\ttotal: 21.1ms\tremaining: 3.5s\n",
      "6:\tlearn: 0.4865976\ttotal: 24.9ms\tremaining: 3.53s\n",
      "7:\tlearn: 0.4812261\ttotal: 28.5ms\tremaining: 3.54s\n",
      "8:\tlearn: 0.4761490\ttotal: 33.3ms\tremaining: 3.67s\n",
      "9:\tlearn: 0.4710760\ttotal: 38.3ms\tremaining: 3.79s\n",
      "10:\tlearn: 0.4662651\ttotal: 42.3ms\tremaining: 3.8s\n",
      "11:\tlearn: 0.4618809\ttotal: 47.4ms\tremaining: 3.9s\n",
      "12:\tlearn: 0.4575113\ttotal: 52.3ms\tremaining: 3.97s\n",
      "13:\tlearn: 0.4536773\ttotal: 56.1ms\tremaining: 3.95s\n",
      "14:\tlearn: 0.4504378\ttotal: 60.3ms\tremaining: 3.96s\n",
      "15:\tlearn: 0.4470441\ttotal: 64.7ms\tremaining: 3.98s\n",
      "16:\tlearn: 0.4442680\ttotal: 69.2ms\tremaining: 4s\n",
      "17:\tlearn: 0.4415312\ttotal: 73.9ms\tremaining: 4.03s\n",
      "18:\tlearn: 0.4390263\ttotal: 78.3ms\tremaining: 4.04s\n",
      "19:\tlearn: 0.4365960\ttotal: 82.9ms\tremaining: 4.06s\n",
      "20:\tlearn: 0.4341099\ttotal: 87ms\tremaining: 4.05s\n",
      "21:\tlearn: 0.4319047\ttotal: 93.6ms\tremaining: 4.16s\n",
      "22:\tlearn: 0.4296832\ttotal: 99.1ms\tremaining: 4.21s\n",
      "23:\tlearn: 0.4278783\ttotal: 106ms\tremaining: 4.29s\n",
      "24:\tlearn: 0.4265302\ttotal: 109ms\tremaining: 4.27s\n",
      "25:\tlearn: 0.4248394\ttotal: 113ms\tremaining: 4.24s\n",
      "26:\tlearn: 0.4231878\ttotal: 117ms\tremaining: 4.21s\n",
      "27:\tlearn: 0.4218027\ttotal: 120ms\tremaining: 4.18s\n",
      "28:\tlearn: 0.4202199\ttotal: 124ms\tremaining: 4.16s\n",
      "29:\tlearn: 0.4187756\ttotal: 128ms\tremaining: 4.14s\n",
      "30:\tlearn: 0.4175154\ttotal: 132ms\tremaining: 4.12s\n",
      "31:\tlearn: 0.4164238\ttotal: 135ms\tremaining: 4.09s\n",
      "32:\tlearn: 0.4153519\ttotal: 139ms\tremaining: 4.07s\n",
      "33:\tlearn: 0.4143946\ttotal: 143ms\tremaining: 4.05s\n",
      "34:\tlearn: 0.4131229\ttotal: 146ms\tremaining: 4.04s\n",
      "35:\tlearn: 0.4120547\ttotal: 150ms\tremaining: 4.02s\n",
      "36:\tlearn: 0.4112056\ttotal: 154ms\tremaining: 4.01s\n",
      "37:\tlearn: 0.4103806\ttotal: 158ms\tremaining: 4s\n",
      "38:\tlearn: 0.4094058\ttotal: 163ms\tremaining: 4.01s\n",
      "39:\tlearn: 0.4087963\ttotal: 166ms\tremaining: 3.99s\n",
      "40:\tlearn: 0.4079998\ttotal: 170ms\tremaining: 3.98s\n",
      "41:\tlearn: 0.4073098\ttotal: 174ms\tremaining: 3.97s\n",
      "42:\tlearn: 0.4065641\ttotal: 178ms\tremaining: 3.96s\n",
      "43:\tlearn: 0.4057181\ttotal: 181ms\tremaining: 3.94s\n",
      "44:\tlearn: 0.4051901\ttotal: 185ms\tremaining: 3.93s\n",
      "45:\tlearn: 0.4046654\ttotal: 189ms\tremaining: 3.92s\n",
      "46:\tlearn: 0.4039599\ttotal: 193ms\tremaining: 3.91s\n",
      "47:\tlearn: 0.4034203\ttotal: 196ms\tremaining: 3.89s\n",
      "48:\tlearn: 0.4025770\ttotal: 201ms\tremaining: 3.9s\n",
      "49:\tlearn: 0.4018606\ttotal: 208ms\tremaining: 3.94s\n",
      "50:\tlearn: 0.4012286\ttotal: 213ms\tremaining: 3.96s\n",
      "51:\tlearn: 0.4007149\ttotal: 217ms\tremaining: 3.95s\n",
      "52:\tlearn: 0.4002033\ttotal: 221ms\tremaining: 3.95s\n",
      "53:\tlearn: 0.3997991\ttotal: 225ms\tremaining: 3.94s\n",
      "54:\tlearn: 0.3995888\ttotal: 227ms\tremaining: 3.9s\n",
      "55:\tlearn: 0.3989995\ttotal: 232ms\tremaining: 3.91s\n",
      "56:\tlearn: 0.3984358\ttotal: 236ms\tremaining: 3.9s\n",
      "57:\tlearn: 0.3980556\ttotal: 239ms\tremaining: 3.89s\n",
      "58:\tlearn: 0.3978492\ttotal: 243ms\tremaining: 3.88s\n",
      "59:\tlearn: 0.3973911\ttotal: 247ms\tremaining: 3.87s\n",
      "60:\tlearn: 0.3971102\ttotal: 250ms\tremaining: 3.85s\n",
      "61:\tlearn: 0.3964695\ttotal: 254ms\tremaining: 3.84s\n",
      "62:\tlearn: 0.3960692\ttotal: 259ms\tremaining: 3.85s\n",
      "63:\tlearn: 0.3955982\ttotal: 263ms\tremaining: 3.85s\n",
      "64:\tlearn: 0.3953112\ttotal: 267ms\tremaining: 3.83s\n",
      "65:\tlearn: 0.3947885\ttotal: 271ms\tremaining: 3.83s\n",
      "66:\tlearn: 0.3943589\ttotal: 276ms\tremaining: 3.84s\n",
      "67:\tlearn: 0.3939032\ttotal: 279ms\tremaining: 3.83s\n",
      "68:\tlearn: 0.3934888\ttotal: 283ms\tremaining: 3.82s\n",
      "69:\tlearn: 0.3932489\ttotal: 287ms\tremaining: 3.81s\n",
      "70:\tlearn: 0.3928390\ttotal: 290ms\tremaining: 3.8s\n",
      "71:\tlearn: 0.3923320\ttotal: 294ms\tremaining: 3.79s\n",
      "72:\tlearn: 0.3921328\ttotal: 297ms\tremaining: 3.78s\n",
      "73:\tlearn: 0.3918606\ttotal: 301ms\tremaining: 3.77s\n",
      "74:\tlearn: 0.3915403\ttotal: 305ms\tremaining: 3.76s\n",
      "75:\tlearn: 0.3912580\ttotal: 308ms\tremaining: 3.75s\n",
      "76:\tlearn: 0.3908446\ttotal: 312ms\tremaining: 3.74s\n",
      "77:\tlearn: 0.3904334\ttotal: 316ms\tremaining: 3.73s\n",
      "78:\tlearn: 0.3901092\ttotal: 319ms\tremaining: 3.72s\n",
      "79:\tlearn: 0.3898601\ttotal: 323ms\tremaining: 3.72s\n",
      "80:\tlearn: 0.3895613\ttotal: 327ms\tremaining: 3.71s\n",
      "81:\tlearn: 0.3892454\ttotal: 332ms\tremaining: 3.72s\n",
      "82:\tlearn: 0.3889318\ttotal: 336ms\tremaining: 3.71s\n",
      "83:\tlearn: 0.3886855\ttotal: 339ms\tremaining: 3.7s\n",
      "84:\tlearn: 0.3883842\ttotal: 343ms\tremaining: 3.69s\n",
      "85:\tlearn: 0.3881344\ttotal: 346ms\tremaining: 3.68s\n",
      "86:\tlearn: 0.3877117\ttotal: 350ms\tremaining: 3.67s\n",
      "87:\tlearn: 0.3873882\ttotal: 354ms\tremaining: 3.67s\n",
      "88:\tlearn: 0.3870933\ttotal: 357ms\tremaining: 3.66s\n",
      "89:\tlearn: 0.3869658\ttotal: 361ms\tremaining: 3.65s\n",
      "90:\tlearn: 0.3867632\ttotal: 365ms\tremaining: 3.64s\n",
      "91:\tlearn: 0.3866118\ttotal: 368ms\tremaining: 3.64s\n",
      "92:\tlearn: 0.3865150\ttotal: 373ms\tremaining: 3.64s\n",
      "93:\tlearn: 0.3862599\ttotal: 377ms\tremaining: 3.63s\n",
      "94:\tlearn: 0.3860710\ttotal: 380ms\tremaining: 3.62s\n",
      "95:\tlearn: 0.3858230\ttotal: 384ms\tremaining: 3.62s\n",
      "96:\tlearn: 0.3856688\ttotal: 388ms\tremaining: 3.61s\n",
      "97:\tlearn: 0.3853793\ttotal: 392ms\tremaining: 3.6s\n",
      "98:\tlearn: 0.3852327\ttotal: 395ms\tremaining: 3.6s\n",
      "99:\tlearn: 0.3850690\ttotal: 399ms\tremaining: 3.59s\n",
      "100:\tlearn: 0.3848216\ttotal: 404ms\tremaining: 3.59s\n",
      "101:\tlearn: 0.3847692\ttotal: 405ms\tremaining: 3.57s\n",
      "102:\tlearn: 0.3844858\ttotal: 409ms\tremaining: 3.56s\n",
      "103:\tlearn: 0.3842670\ttotal: 413ms\tremaining: 3.56s\n",
      "104:\tlearn: 0.3840713\ttotal: 417ms\tremaining: 3.55s\n",
      "105:\tlearn: 0.3839331\ttotal: 420ms\tremaining: 3.54s\n",
      "106:\tlearn: 0.3837479\ttotal: 424ms\tremaining: 3.54s\n",
      "107:\tlearn: 0.3835110\ttotal: 427ms\tremaining: 3.53s\n",
      "108:\tlearn: 0.3834310\ttotal: 432ms\tremaining: 3.53s\n",
      "109:\tlearn: 0.3832975\ttotal: 436ms\tremaining: 3.52s\n",
      "110:\tlearn: 0.3831255\ttotal: 440ms\tremaining: 3.52s\n",
      "111:\tlearn: 0.3828951\ttotal: 444ms\tremaining: 3.52s\n",
      "112:\tlearn: 0.3827028\ttotal: 448ms\tremaining: 3.52s\n",
      "113:\tlearn: 0.3824451\ttotal: 453ms\tremaining: 3.52s\n",
      "114:\tlearn: 0.3821234\ttotal: 457ms\tremaining: 3.52s\n",
      "115:\tlearn: 0.3819094\ttotal: 461ms\tremaining: 3.51s\n",
      "116:\tlearn: 0.3818833\ttotal: 463ms\tremaining: 3.49s\n",
      "117:\tlearn: 0.3816013\ttotal: 467ms\tremaining: 3.49s\n",
      "118:\tlearn: 0.3815005\ttotal: 471ms\tremaining: 3.49s\n",
      "119:\tlearn: 0.3813239\ttotal: 475ms\tremaining: 3.48s\n",
      "120:\tlearn: 0.3811997\ttotal: 479ms\tremaining: 3.48s\n",
      "121:\tlearn: 0.3809766\ttotal: 482ms\tremaining: 3.47s\n",
      "122:\tlearn: 0.3808788\ttotal: 486ms\tremaining: 3.46s\n",
      "123:\tlearn: 0.3806517\ttotal: 490ms\tremaining: 3.46s\n",
      "124:\tlearn: 0.3805008\ttotal: 493ms\tremaining: 3.45s\n",
      "125:\tlearn: 0.3803177\ttotal: 497ms\tremaining: 3.45s\n",
      "126:\tlearn: 0.3801412\ttotal: 501ms\tremaining: 3.45s\n",
      "127:\tlearn: 0.3799840\ttotal: 505ms\tremaining: 3.44s\n",
      "128:\tlearn: 0.3798488\ttotal: 509ms\tremaining: 3.43s\n",
      "129:\tlearn: 0.3796725\ttotal: 512ms\tremaining: 3.43s\n",
      "130:\tlearn: 0.3794571\ttotal: 516ms\tremaining: 3.42s\n",
      "131:\tlearn: 0.3792557\ttotal: 520ms\tremaining: 3.42s\n",
      "132:\tlearn: 0.3790700\ttotal: 523ms\tremaining: 3.41s\n",
      "133:\tlearn: 0.3788788\ttotal: 527ms\tremaining: 3.4s\n",
      "134:\tlearn: 0.3787393\ttotal: 531ms\tremaining: 3.4s\n",
      "135:\tlearn: 0.3784817\ttotal: 534ms\tremaining: 3.39s\n",
      "136:\tlearn: 0.3782891\ttotal: 540ms\tremaining: 3.4s\n",
      "137:\tlearn: 0.3780729\ttotal: 545ms\tremaining: 3.4s\n",
      "138:\tlearn: 0.3778878\ttotal: 549ms\tremaining: 3.4s\n",
      "139:\tlearn: 0.3776863\ttotal: 554ms\tremaining: 3.4s\n",
      "140:\tlearn: 0.3776355\ttotal: 558ms\tremaining: 3.4s\n",
      "141:\tlearn: 0.3775262\ttotal: 563ms\tremaining: 3.4s\n",
      "142:\tlearn: 0.3773646\ttotal: 568ms\tremaining: 3.41s\n",
      "143:\tlearn: 0.3772280\ttotal: 575ms\tremaining: 3.42s\n",
      "144:\tlearn: 0.3771120\ttotal: 582ms\tremaining: 3.43s\n",
      "145:\tlearn: 0.3769987\ttotal: 586ms\tremaining: 3.43s\n",
      "146:\tlearn: 0.3768867\ttotal: 589ms\tremaining: 3.42s\n",
      "147:\tlearn: 0.3767660\ttotal: 594ms\tremaining: 3.42s\n",
      "148:\tlearn: 0.3765285\ttotal: 598ms\tremaining: 3.42s\n",
      "149:\tlearn: 0.3763999\ttotal: 602ms\tremaining: 3.41s\n",
      "150:\tlearn: 0.3762870\ttotal: 607ms\tremaining: 3.41s\n",
      "151:\tlearn: 0.3761070\ttotal: 611ms\tremaining: 3.41s\n",
      "152:\tlearn: 0.3759224\ttotal: 615ms\tremaining: 3.4s\n",
      "153:\tlearn: 0.3756771\ttotal: 618ms\tremaining: 3.4s\n",
      "154:\tlearn: 0.3755339\ttotal: 622ms\tremaining: 3.39s\n",
      "155:\tlearn: 0.3753874\ttotal: 626ms\tremaining: 3.39s\n",
      "156:\tlearn: 0.3752829\ttotal: 629ms\tremaining: 3.38s\n",
      "157:\tlearn: 0.3751634\ttotal: 633ms\tremaining: 3.37s\n",
      "158:\tlearn: 0.3750256\ttotal: 637ms\tremaining: 3.37s\n",
      "159:\tlearn: 0.3749014\ttotal: 640ms\tremaining: 3.36s\n",
      "160:\tlearn: 0.3748282\ttotal: 644ms\tremaining: 3.35s\n",
      "161:\tlearn: 0.3746394\ttotal: 648ms\tremaining: 3.35s\n",
      "162:\tlearn: 0.3745182\ttotal: 651ms\tremaining: 3.34s\n",
      "163:\tlearn: 0.3744472\ttotal: 654ms\tremaining: 3.33s\n",
      "164:\tlearn: 0.3742852\ttotal: 658ms\tremaining: 3.33s\n",
      "165:\tlearn: 0.3741335\ttotal: 662ms\tremaining: 3.32s\n",
      "166:\tlearn: 0.3739941\ttotal: 665ms\tremaining: 3.32s\n",
      "167:\tlearn: 0.3738782\ttotal: 669ms\tremaining: 3.31s\n"
     ]
    },
    {
     "name": "stdout",
     "output_type": "stream",
     "text": [
      "168:\tlearn: 0.3737055\ttotal: 674ms\tremaining: 3.31s\n",
      "169:\tlearn: 0.3736051\ttotal: 678ms\tremaining: 3.31s\n",
      "170:\tlearn: 0.3733843\ttotal: 682ms\tremaining: 3.3s\n",
      "171:\tlearn: 0.3732072\ttotal: 685ms\tremaining: 3.3s\n",
      "172:\tlearn: 0.3730156\ttotal: 689ms\tremaining: 3.29s\n",
      "173:\tlearn: 0.3729820\ttotal: 691ms\tremaining: 3.28s\n",
      "174:\tlearn: 0.3729648\ttotal: 693ms\tremaining: 3.27s\n",
      "175:\tlearn: 0.3727776\ttotal: 697ms\tremaining: 3.26s\n",
      "176:\tlearn: 0.3725885\ttotal: 701ms\tremaining: 3.26s\n",
      "177:\tlearn: 0.3724270\ttotal: 706ms\tremaining: 3.26s\n",
      "178:\tlearn: 0.3722669\ttotal: 710ms\tremaining: 3.26s\n",
      "179:\tlearn: 0.3721161\ttotal: 717ms\tremaining: 3.27s\n",
      "180:\tlearn: 0.3719959\ttotal: 722ms\tremaining: 3.27s\n",
      "181:\tlearn: 0.3718652\ttotal: 726ms\tremaining: 3.26s\n",
      "182:\tlearn: 0.3717030\ttotal: 731ms\tremaining: 3.26s\n",
      "183:\tlearn: 0.3715256\ttotal: 735ms\tremaining: 3.26s\n",
      "184:\tlearn: 0.3714378\ttotal: 741ms\tremaining: 3.26s\n",
      "185:\tlearn: 0.3713052\ttotal: 745ms\tremaining: 3.26s\n",
      "186:\tlearn: 0.3712120\ttotal: 750ms\tremaining: 3.26s\n",
      "187:\tlearn: 0.3711075\ttotal: 755ms\tremaining: 3.26s\n",
      "188:\tlearn: 0.3709616\ttotal: 759ms\tremaining: 3.26s\n",
      "189:\tlearn: 0.3708389\ttotal: 764ms\tremaining: 3.26s\n",
      "190:\tlearn: 0.3706924\ttotal: 770ms\tremaining: 3.26s\n",
      "191:\tlearn: 0.3705710\ttotal: 775ms\tremaining: 3.26s\n",
      "192:\tlearn: 0.3704364\ttotal: 779ms\tremaining: 3.26s\n",
      "193:\tlearn: 0.3703501\ttotal: 785ms\tremaining: 3.26s\n",
      "194:\tlearn: 0.3701452\ttotal: 790ms\tremaining: 3.26s\n",
      "195:\tlearn: 0.3699866\ttotal: 795ms\tremaining: 3.26s\n",
      "196:\tlearn: 0.3698072\ttotal: 799ms\tremaining: 3.26s\n",
      "197:\tlearn: 0.3697202\ttotal: 804ms\tremaining: 3.26s\n",
      "198:\tlearn: 0.3695130\ttotal: 809ms\tremaining: 3.26s\n",
      "199:\tlearn: 0.3694301\ttotal: 814ms\tremaining: 3.26s\n",
      "200:\tlearn: 0.3693592\ttotal: 818ms\tremaining: 3.25s\n",
      "201:\tlearn: 0.3692589\ttotal: 823ms\tremaining: 3.25s\n",
      "202:\tlearn: 0.3691501\ttotal: 828ms\tremaining: 3.25s\n",
      "203:\tlearn: 0.3690562\ttotal: 832ms\tremaining: 3.25s\n",
      "204:\tlearn: 0.3689109\ttotal: 838ms\tremaining: 3.25s\n",
      "205:\tlearn: 0.3688255\ttotal: 843ms\tremaining: 3.25s\n",
      "206:\tlearn: 0.3687355\ttotal: 848ms\tremaining: 3.25s\n",
      "207:\tlearn: 0.3686056\ttotal: 853ms\tremaining: 3.25s\n",
      "208:\tlearn: 0.3684911\ttotal: 857ms\tremaining: 3.24s\n",
      "209:\tlearn: 0.3683792\ttotal: 862ms\tremaining: 3.24s\n",
      "210:\tlearn: 0.3682807\ttotal: 868ms\tremaining: 3.25s\n",
      "211:\tlearn: 0.3681890\ttotal: 875ms\tremaining: 3.25s\n",
      "212:\tlearn: 0.3680607\ttotal: 880ms\tremaining: 3.25s\n",
      "213:\tlearn: 0.3678089\ttotal: 886ms\tremaining: 3.25s\n",
      "214:\tlearn: 0.3677051\ttotal: 890ms\tremaining: 3.25s\n",
      "215:\tlearn: 0.3676057\ttotal: 895ms\tremaining: 3.25s\n",
      "216:\tlearn: 0.3674913\ttotal: 899ms\tremaining: 3.25s\n",
      "217:\tlearn: 0.3673802\ttotal: 904ms\tremaining: 3.24s\n",
      "218:\tlearn: 0.3672487\ttotal: 908ms\tremaining: 3.24s\n",
      "219:\tlearn: 0.3671105\ttotal: 913ms\tremaining: 3.24s\n",
      "220:\tlearn: 0.3669316\ttotal: 917ms\tremaining: 3.23s\n",
      "221:\tlearn: 0.3667846\ttotal: 920ms\tremaining: 3.22s\n",
      "222:\tlearn: 0.3666998\ttotal: 924ms\tremaining: 3.22s\n",
      "223:\tlearn: 0.3665933\ttotal: 927ms\tremaining: 3.21s\n",
      "224:\tlearn: 0.3665227\ttotal: 931ms\tremaining: 3.21s\n",
      "225:\tlearn: 0.3663604\ttotal: 934ms\tremaining: 3.2s\n",
      "226:\tlearn: 0.3662410\ttotal: 938ms\tremaining: 3.19s\n",
      "227:\tlearn: 0.3661814\ttotal: 943ms\tremaining: 3.19s\n",
      "228:\tlearn: 0.3660196\ttotal: 948ms\tremaining: 3.19s\n",
      "229:\tlearn: 0.3658949\ttotal: 952ms\tremaining: 3.19s\n",
      "230:\tlearn: 0.3657780\ttotal: 956ms\tremaining: 3.18s\n",
      "231:\tlearn: 0.3656252\ttotal: 959ms\tremaining: 3.17s\n",
      "232:\tlearn: 0.3655875\ttotal: 963ms\tremaining: 3.17s\n",
      "233:\tlearn: 0.3654654\ttotal: 966ms\tremaining: 3.16s\n",
      "234:\tlearn: 0.3654007\ttotal: 970ms\tremaining: 3.16s\n",
      "235:\tlearn: 0.3652830\ttotal: 973ms\tremaining: 3.15s\n",
      "236:\tlearn: 0.3652432\ttotal: 977ms\tremaining: 3.15s\n",
      "237:\tlearn: 0.3650733\ttotal: 981ms\tremaining: 3.14s\n",
      "238:\tlearn: 0.3649932\ttotal: 984ms\tremaining: 3.13s\n",
      "239:\tlearn: 0.3649359\ttotal: 988ms\tremaining: 3.13s\n",
      "240:\tlearn: 0.3648586\ttotal: 991ms\tremaining: 3.12s\n",
      "241:\tlearn: 0.3647360\ttotal: 995ms\tremaining: 3.12s\n",
      "242:\tlearn: 0.3646634\ttotal: 998ms\tremaining: 3.11s\n",
      "243:\tlearn: 0.3645600\ttotal: 1s\tremaining: 3.1s\n",
      "244:\tlearn: 0.3644283\ttotal: 1s\tremaining: 3.1s\n",
      "245:\tlearn: 0.3644079\ttotal: 1.01s\tremaining: 3.09s\n",
      "246:\tlearn: 0.3643175\ttotal: 1.01s\tremaining: 3.09s\n",
      "247:\tlearn: 0.3642615\ttotal: 1.02s\tremaining: 3.08s\n",
      "248:\tlearn: 0.3641833\ttotal: 1.02s\tremaining: 3.08s\n",
      "249:\tlearn: 0.3640809\ttotal: 1.02s\tremaining: 3.07s\n",
      "250:\tlearn: 0.3640255\ttotal: 1.03s\tremaining: 3.07s\n",
      "251:\tlearn: 0.3639117\ttotal: 1.03s\tremaining: 3.06s\n",
      "252:\tlearn: 0.3637104\ttotal: 1.04s\tremaining: 3.06s\n",
      "253:\tlearn: 0.3634504\ttotal: 1.04s\tremaining: 3.06s\n",
      "254:\tlearn: 0.3633916\ttotal: 1.04s\tremaining: 3.05s\n",
      "255:\tlearn: 0.3632660\ttotal: 1.05s\tremaining: 3.05s\n",
      "256:\tlearn: 0.3631101\ttotal: 1.05s\tremaining: 3.05s\n",
      "257:\tlearn: 0.3629329\ttotal: 1.06s\tremaining: 3.05s\n",
      "258:\tlearn: 0.3628512\ttotal: 1.06s\tremaining: 3.05s\n",
      "259:\tlearn: 0.3626942\ttotal: 1.07s\tremaining: 3.05s\n",
      "260:\tlearn: 0.3626336\ttotal: 1.08s\tremaining: 3.05s\n",
      "261:\tlearn: 0.3625687\ttotal: 1.08s\tremaining: 3.05s\n",
      "262:\tlearn: 0.3625057\ttotal: 1.08s\tremaining: 3.04s\n",
      "263:\tlearn: 0.3623695\ttotal: 1.09s\tremaining: 3.04s\n",
      "264:\tlearn: 0.3621157\ttotal: 1.09s\tremaining: 3.03s\n",
      "265:\tlearn: 0.3620263\ttotal: 1.1s\tremaining: 3.02s\n",
      "266:\tlearn: 0.3619758\ttotal: 1.1s\tremaining: 3.02s\n",
      "267:\tlearn: 0.3619143\ttotal: 1.1s\tremaining: 3.01s\n",
      "268:\tlearn: 0.3618539\ttotal: 1.11s\tremaining: 3.01s\n",
      "269:\tlearn: 0.3616891\ttotal: 1.11s\tremaining: 3s\n",
      "270:\tlearn: 0.3616012\ttotal: 1.11s\tremaining: 3s\n",
      "271:\tlearn: 0.3613423\ttotal: 1.12s\tremaining: 3s\n",
      "272:\tlearn: 0.3612688\ttotal: 1.12s\tremaining: 2.99s\n",
      "273:\tlearn: 0.3612368\ttotal: 1.13s\tremaining: 2.99s\n",
      "274:\tlearn: 0.3610991\ttotal: 1.13s\tremaining: 2.98s\n",
      "275:\tlearn: 0.3610303\ttotal: 1.13s\tremaining: 2.98s\n",
      "276:\tlearn: 0.3609784\ttotal: 1.14s\tremaining: 2.97s\n",
      "277:\tlearn: 0.3608935\ttotal: 1.14s\tremaining: 2.96s\n",
      "278:\tlearn: 0.3607850\ttotal: 1.15s\tremaining: 2.96s\n",
      "279:\tlearn: 0.3606506\ttotal: 1.15s\tremaining: 2.96s\n",
      "280:\tlearn: 0.3605047\ttotal: 1.15s\tremaining: 2.95s\n",
      "281:\tlearn: 0.3604544\ttotal: 1.16s\tremaining: 2.94s\n",
      "282:\tlearn: 0.3602778\ttotal: 1.16s\tremaining: 2.94s\n",
      "283:\tlearn: 0.3601921\ttotal: 1.16s\tremaining: 2.93s\n",
      "284:\tlearn: 0.3600990\ttotal: 1.17s\tremaining: 2.93s\n",
      "285:\tlearn: 0.3599996\ttotal: 1.17s\tremaining: 2.92s\n",
      "286:\tlearn: 0.3599297\ttotal: 1.17s\tremaining: 2.92s\n",
      "287:\tlearn: 0.3598439\ttotal: 1.18s\tremaining: 2.91s\n",
      "288:\tlearn: 0.3597364\ttotal: 1.18s\tremaining: 2.91s\n",
      "289:\tlearn: 0.3596037\ttotal: 1.19s\tremaining: 2.9s\n",
      "290:\tlearn: 0.3594695\ttotal: 1.19s\tremaining: 2.9s\n",
      "291:\tlearn: 0.3593886\ttotal: 1.19s\tremaining: 2.89s\n",
      "292:\tlearn: 0.3593222\ttotal: 1.2s\tremaining: 2.89s\n",
      "293:\tlearn: 0.3592313\ttotal: 1.2s\tremaining: 2.88s\n",
      "294:\tlearn: 0.3591511\ttotal: 1.21s\tremaining: 2.88s\n",
      "295:\tlearn: 0.3591117\ttotal: 1.21s\tremaining: 2.88s\n",
      "296:\tlearn: 0.3590298\ttotal: 1.21s\tremaining: 2.87s\n",
      "297:\tlearn: 0.3589964\ttotal: 1.22s\tremaining: 2.87s\n",
      "298:\tlearn: 0.3589389\ttotal: 1.22s\tremaining: 2.86s\n",
      "299:\tlearn: 0.3588258\ttotal: 1.22s\tremaining: 2.85s\n",
      "300:\tlearn: 0.3587466\ttotal: 1.23s\tremaining: 2.85s\n",
      "301:\tlearn: 0.3586659\ttotal: 1.23s\tremaining: 2.85s\n",
      "302:\tlearn: 0.3585281\ttotal: 1.24s\tremaining: 2.84s\n",
      "303:\tlearn: 0.3584591\ttotal: 1.24s\tremaining: 2.84s\n",
      "304:\tlearn: 0.3583887\ttotal: 1.24s\tremaining: 2.83s\n",
      "305:\tlearn: 0.3583481\ttotal: 1.25s\tremaining: 2.83s\n",
      "306:\tlearn: 0.3582936\ttotal: 1.25s\tremaining: 2.82s\n",
      "307:\tlearn: 0.3582195\ttotal: 1.25s\tremaining: 2.82s\n",
      "308:\tlearn: 0.3581130\ttotal: 1.26s\tremaining: 2.81s\n",
      "309:\tlearn: 0.3578884\ttotal: 1.26s\tremaining: 2.81s\n",
      "310:\tlearn: 0.3576487\ttotal: 1.27s\tremaining: 2.8s\n",
      "311:\tlearn: 0.3576174\ttotal: 1.27s\tremaining: 2.8s\n",
      "312:\tlearn: 0.3575925\ttotal: 1.27s\tremaining: 2.79s\n",
      "313:\tlearn: 0.3575502\ttotal: 1.28s\tremaining: 2.79s\n",
      "314:\tlearn: 0.3574380\ttotal: 1.28s\tremaining: 2.78s\n",
      "315:\tlearn: 0.3573968\ttotal: 1.28s\tremaining: 2.78s\n",
      "316:\tlearn: 0.3572632\ttotal: 1.29s\tremaining: 2.77s\n",
      "317:\tlearn: 0.3572180\ttotal: 1.29s\tremaining: 2.77s\n",
      "318:\tlearn: 0.3571423\ttotal: 1.3s\tremaining: 2.77s\n",
      "319:\tlearn: 0.3571300\ttotal: 1.3s\tremaining: 2.76s\n",
      "320:\tlearn: 0.3570012\ttotal: 1.3s\tremaining: 2.76s\n",
      "321:\tlearn: 0.3568516\ttotal: 1.31s\tremaining: 2.75s\n",
      "322:\tlearn: 0.3567942\ttotal: 1.31s\tremaining: 2.75s\n",
      "323:\tlearn: 0.3567091\ttotal: 1.31s\tremaining: 2.74s\n",
      "324:\tlearn: 0.3566247\ttotal: 1.32s\tremaining: 2.74s\n",
      "325:\tlearn: 0.3565905\ttotal: 1.32s\tremaining: 2.73s\n",
      "326:\tlearn: 0.3565345\ttotal: 1.32s\tremaining: 2.73s\n",
      "327:\tlearn: 0.3565124\ttotal: 1.33s\tremaining: 2.72s\n",
      "328:\tlearn: 0.3564597\ttotal: 1.33s\tremaining: 2.72s\n",
      "329:\tlearn: 0.3563897\ttotal: 1.33s\tremaining: 2.71s\n",
      "330:\tlearn: 0.3562703\ttotal: 1.34s\tremaining: 2.71s\n",
      "331:\tlearn: 0.3562592\ttotal: 1.34s\tremaining: 2.7s\n",
      "332:\tlearn: 0.3561556\ttotal: 1.35s\tremaining: 2.7s\n",
      "333:\tlearn: 0.3559004\ttotal: 1.35s\tremaining: 2.69s\n",
      "334:\tlearn: 0.3557658\ttotal: 1.35s\tremaining: 2.69s\n",
      "335:\tlearn: 0.3556634\ttotal: 1.36s\tremaining: 2.68s\n"
     ]
    },
    {
     "name": "stdout",
     "output_type": "stream",
     "text": [
      "336:\tlearn: 0.3555264\ttotal: 1.36s\tremaining: 2.68s\n",
      "337:\tlearn: 0.3554538\ttotal: 1.36s\tremaining: 2.67s\n",
      "338:\tlearn: 0.3552250\ttotal: 1.37s\tremaining: 2.67s\n",
      "339:\tlearn: 0.3551300\ttotal: 1.37s\tremaining: 2.67s\n",
      "340:\tlearn: 0.3550770\ttotal: 1.38s\tremaining: 2.66s\n",
      "341:\tlearn: 0.3550237\ttotal: 1.38s\tremaining: 2.66s\n",
      "342:\tlearn: 0.3549872\ttotal: 1.38s\tremaining: 2.65s\n",
      "343:\tlearn: 0.3549279\ttotal: 1.39s\tremaining: 2.65s\n",
      "344:\tlearn: 0.3548788\ttotal: 1.39s\tremaining: 2.64s\n",
      "345:\tlearn: 0.3548132\ttotal: 1.4s\tremaining: 2.64s\n",
      "346:\tlearn: 0.3546835\ttotal: 1.4s\tremaining: 2.63s\n",
      "347:\tlearn: 0.3544972\ttotal: 1.4s\tremaining: 2.63s\n",
      "348:\tlearn: 0.3543473\ttotal: 1.41s\tremaining: 2.63s\n",
      "349:\tlearn: 0.3543138\ttotal: 1.41s\tremaining: 2.62s\n",
      "350:\tlearn: 0.3541741\ttotal: 1.41s\tremaining: 2.62s\n",
      "351:\tlearn: 0.3540611\ttotal: 1.42s\tremaining: 2.61s\n",
      "352:\tlearn: 0.3539622\ttotal: 1.42s\tremaining: 2.61s\n",
      "353:\tlearn: 0.3539274\ttotal: 1.43s\tremaining: 2.6s\n",
      "354:\tlearn: 0.3538543\ttotal: 1.43s\tremaining: 2.6s\n",
      "355:\tlearn: 0.3536909\ttotal: 1.43s\tremaining: 2.59s\n",
      "356:\tlearn: 0.3536016\ttotal: 1.44s\tremaining: 2.59s\n",
      "357:\tlearn: 0.3534690\ttotal: 1.44s\tremaining: 2.58s\n",
      "358:\tlearn: 0.3532388\ttotal: 1.44s\tremaining: 2.58s\n",
      "359:\tlearn: 0.3531687\ttotal: 1.45s\tremaining: 2.58s\n",
      "360:\tlearn: 0.3531338\ttotal: 1.45s\tremaining: 2.57s\n",
      "361:\tlearn: 0.3530042\ttotal: 1.46s\tremaining: 2.56s\n",
      "362:\tlearn: 0.3529322\ttotal: 1.46s\tremaining: 2.56s\n",
      "363:\tlearn: 0.3528197\ttotal: 1.46s\tremaining: 2.56s\n",
      "364:\tlearn: 0.3527242\ttotal: 1.47s\tremaining: 2.55s\n",
      "365:\tlearn: 0.3526324\ttotal: 1.47s\tremaining: 2.55s\n",
      "366:\tlearn: 0.3524476\ttotal: 1.48s\tremaining: 2.54s\n",
      "367:\tlearn: 0.3523183\ttotal: 1.48s\tremaining: 2.54s\n",
      "368:\tlearn: 0.3522414\ttotal: 1.48s\tremaining: 2.53s\n",
      "369:\tlearn: 0.3521836\ttotal: 1.49s\tremaining: 2.53s\n",
      "370:\tlearn: 0.3520868\ttotal: 1.49s\tremaining: 2.52s\n",
      "371:\tlearn: 0.3520203\ttotal: 1.49s\tremaining: 2.52s\n",
      "372:\tlearn: 0.3518025\ttotal: 1.5s\tremaining: 2.52s\n",
      "373:\tlearn: 0.3516951\ttotal: 1.5s\tremaining: 2.51s\n",
      "374:\tlearn: 0.3516369\ttotal: 1.5s\tremaining: 2.51s\n",
      "375:\tlearn: 0.3515560\ttotal: 1.51s\tremaining: 2.5s\n",
      "376:\tlearn: 0.3514118\ttotal: 1.51s\tremaining: 2.5s\n",
      "377:\tlearn: 0.3512874\ttotal: 1.52s\tremaining: 2.5s\n",
      "378:\tlearn: 0.3512389\ttotal: 1.52s\tremaining: 2.49s\n",
      "379:\tlearn: 0.3511436\ttotal: 1.52s\tremaining: 2.49s\n",
      "380:\tlearn: 0.3511192\ttotal: 1.53s\tremaining: 2.48s\n",
      "381:\tlearn: 0.3510298\ttotal: 1.53s\tremaining: 2.48s\n",
      "382:\tlearn: 0.3509226\ttotal: 1.54s\tremaining: 2.48s\n",
      "383:\tlearn: 0.3508266\ttotal: 1.54s\tremaining: 2.48s\n",
      "384:\tlearn: 0.3507420\ttotal: 1.55s\tremaining: 2.48s\n",
      "385:\tlearn: 0.3507213\ttotal: 1.56s\tremaining: 2.48s\n",
      "386:\tlearn: 0.3506651\ttotal: 1.56s\tremaining: 2.47s\n",
      "387:\tlearn: 0.3505797\ttotal: 1.56s\tremaining: 2.47s\n",
      "388:\tlearn: 0.3505106\ttotal: 1.57s\tremaining: 2.47s\n",
      "389:\tlearn: 0.3504000\ttotal: 1.57s\tremaining: 2.46s\n",
      "390:\tlearn: 0.3502847\ttotal: 1.58s\tremaining: 2.46s\n",
      "391:\tlearn: 0.3501967\ttotal: 1.58s\tremaining: 2.45s\n",
      "392:\tlearn: 0.3501602\ttotal: 1.58s\tremaining: 2.45s\n",
      "393:\tlearn: 0.3500846\ttotal: 1.59s\tremaining: 2.44s\n",
      "394:\tlearn: 0.3500529\ttotal: 1.59s\tremaining: 2.44s\n",
      "395:\tlearn: 0.3500399\ttotal: 1.6s\tremaining: 2.44s\n",
      "396:\tlearn: 0.3500327\ttotal: 1.6s\tremaining: 2.43s\n",
      "397:\tlearn: 0.3498781\ttotal: 1.6s\tremaining: 2.43s\n",
      "398:\tlearn: 0.3497859\ttotal: 1.61s\tremaining: 2.42s\n",
      "399:\tlearn: 0.3497627\ttotal: 1.61s\tremaining: 2.42s\n",
      "400:\tlearn: 0.3496642\ttotal: 1.62s\tremaining: 2.42s\n",
      "401:\tlearn: 0.3495974\ttotal: 1.62s\tremaining: 2.41s\n",
      "402:\tlearn: 0.3495169\ttotal: 1.62s\tremaining: 2.41s\n",
      "403:\tlearn: 0.3494311\ttotal: 1.63s\tremaining: 2.4s\n",
      "404:\tlearn: 0.3493648\ttotal: 1.63s\tremaining: 2.4s\n",
      "405:\tlearn: 0.3492784\ttotal: 1.64s\tremaining: 2.39s\n",
      "406:\tlearn: 0.3492034\ttotal: 1.64s\tremaining: 2.39s\n",
      "407:\tlearn: 0.3491303\ttotal: 1.64s\tremaining: 2.38s\n",
      "408:\tlearn: 0.3490457\ttotal: 1.65s\tremaining: 2.38s\n",
      "409:\tlearn: 0.3489519\ttotal: 1.65s\tremaining: 2.38s\n",
      "410:\tlearn: 0.3489171\ttotal: 1.65s\tremaining: 2.37s\n",
      "411:\tlearn: 0.3488703\ttotal: 1.66s\tremaining: 2.37s\n",
      "412:\tlearn: 0.3488028\ttotal: 1.66s\tremaining: 2.36s\n",
      "413:\tlearn: 0.3486419\ttotal: 1.67s\tremaining: 2.36s\n",
      "414:\tlearn: 0.3485551\ttotal: 1.67s\tremaining: 2.35s\n",
      "415:\tlearn: 0.3484622\ttotal: 1.67s\tremaining: 2.35s\n",
      "416:\tlearn: 0.3484053\ttotal: 1.68s\tremaining: 2.34s\n",
      "417:\tlearn: 0.3482575\ttotal: 1.68s\tremaining: 2.34s\n",
      "418:\tlearn: 0.3481877\ttotal: 1.68s\tremaining: 2.33s\n",
      "419:\tlearn: 0.3479397\ttotal: 1.69s\tremaining: 2.33s\n",
      "420:\tlearn: 0.3478285\ttotal: 1.69s\tremaining: 2.33s\n",
      "421:\tlearn: 0.3477714\ttotal: 1.69s\tremaining: 2.32s\n",
      "422:\tlearn: 0.3475651\ttotal: 1.7s\tremaining: 2.32s\n",
      "423:\tlearn: 0.3474214\ttotal: 1.7s\tremaining: 2.31s\n",
      "424:\tlearn: 0.3472351\ttotal: 1.71s\tremaining: 2.31s\n",
      "425:\tlearn: 0.3471966\ttotal: 1.71s\tremaining: 2.3s\n",
      "426:\tlearn: 0.3471389\ttotal: 1.71s\tremaining: 2.3s\n",
      "427:\tlearn: 0.3471016\ttotal: 1.72s\tremaining: 2.29s\n",
      "428:\tlearn: 0.3470331\ttotal: 1.72s\tremaining: 2.29s\n",
      "429:\tlearn: 0.3469417\ttotal: 1.73s\tremaining: 2.29s\n",
      "430:\tlearn: 0.3469146\ttotal: 1.73s\tremaining: 2.29s\n",
      "431:\tlearn: 0.3469018\ttotal: 1.74s\tremaining: 2.29s\n",
      "432:\tlearn: 0.3468004\ttotal: 1.75s\tremaining: 2.29s\n",
      "433:\tlearn: 0.3467266\ttotal: 1.76s\tremaining: 2.29s\n",
      "434:\tlearn: 0.3465536\ttotal: 1.77s\tremaining: 2.3s\n",
      "435:\tlearn: 0.3464895\ttotal: 1.77s\tremaining: 2.3s\n",
      "436:\tlearn: 0.3463102\ttotal: 1.78s\tremaining: 2.3s\n",
      "437:\tlearn: 0.3462424\ttotal: 1.79s\tremaining: 2.3s\n",
      "438:\tlearn: 0.3461977\ttotal: 1.8s\tremaining: 2.3s\n",
      "439:\tlearn: 0.3460197\ttotal: 1.8s\tremaining: 2.3s\n",
      "440:\tlearn: 0.3459544\ttotal: 1.81s\tremaining: 2.3s\n",
      "441:\tlearn: 0.3458216\ttotal: 1.82s\tremaining: 2.29s\n",
      "442:\tlearn: 0.3457971\ttotal: 1.82s\tremaining: 2.29s\n",
      "443:\tlearn: 0.3457181\ttotal: 1.83s\tremaining: 2.29s\n",
      "444:\tlearn: 0.3456565\ttotal: 1.84s\tremaining: 2.29s\n",
      "445:\tlearn: 0.3456009\ttotal: 1.84s\tremaining: 2.29s\n",
      "446:\tlearn: 0.3455212\ttotal: 1.85s\tremaining: 2.29s\n",
      "447:\tlearn: 0.3453399\ttotal: 1.86s\tremaining: 2.29s\n",
      "448:\tlearn: 0.3452130\ttotal: 1.86s\tremaining: 2.29s\n",
      "449:\tlearn: 0.3451508\ttotal: 1.87s\tremaining: 2.29s\n",
      "450:\tlearn: 0.3450667\ttotal: 1.88s\tremaining: 2.29s\n",
      "451:\tlearn: 0.3450251\ttotal: 1.88s\tremaining: 2.29s\n",
      "452:\tlearn: 0.3449248\ttotal: 1.89s\tremaining: 2.28s\n",
      "453:\tlearn: 0.3448652\ttotal: 1.9s\tremaining: 2.28s\n",
      "454:\tlearn: 0.3448065\ttotal: 1.9s\tremaining: 2.28s\n",
      "455:\tlearn: 0.3447925\ttotal: 1.91s\tremaining: 2.28s\n",
      "456:\tlearn: 0.3447018\ttotal: 1.92s\tremaining: 2.28s\n",
      "457:\tlearn: 0.3445794\ttotal: 1.93s\tremaining: 2.28s\n",
      "458:\tlearn: 0.3445361\ttotal: 1.93s\tremaining: 2.28s\n",
      "459:\tlearn: 0.3444160\ttotal: 1.94s\tremaining: 2.28s\n",
      "460:\tlearn: 0.3443706\ttotal: 1.95s\tremaining: 2.28s\n",
      "461:\tlearn: 0.3443533\ttotal: 1.96s\tremaining: 2.28s\n",
      "462:\tlearn: 0.3442962\ttotal: 1.97s\tremaining: 2.28s\n",
      "463:\tlearn: 0.3441762\ttotal: 1.98s\tremaining: 2.28s\n",
      "464:\tlearn: 0.3441172\ttotal: 1.98s\tremaining: 2.28s\n",
      "465:\tlearn: 0.3440400\ttotal: 1.99s\tremaining: 2.28s\n",
      "466:\tlearn: 0.3439384\ttotal: 2s\tremaining: 2.28s\n",
      "467:\tlearn: 0.3439263\ttotal: 2.01s\tremaining: 2.28s\n",
      "468:\tlearn: 0.3437869\ttotal: 2.02s\tremaining: 2.28s\n",
      "469:\tlearn: 0.3437692\ttotal: 2.02s\tremaining: 2.28s\n",
      "470:\tlearn: 0.3436927\ttotal: 2.03s\tremaining: 2.28s\n",
      "471:\tlearn: 0.3436001\ttotal: 2.04s\tremaining: 2.28s\n",
      "472:\tlearn: 0.3435210\ttotal: 2.05s\tremaining: 2.28s\n",
      "473:\tlearn: 0.3434473\ttotal: 2.06s\tremaining: 2.28s\n",
      "474:\tlearn: 0.3433512\ttotal: 2.07s\tremaining: 2.28s\n",
      "475:\tlearn: 0.3432985\ttotal: 2.07s\tremaining: 2.28s\n",
      "476:\tlearn: 0.3432334\ttotal: 2.08s\tremaining: 2.28s\n",
      "477:\tlearn: 0.3431710\ttotal: 2.09s\tremaining: 2.28s\n",
      "478:\tlearn: 0.3431381\ttotal: 2.1s\tremaining: 2.28s\n",
      "479:\tlearn: 0.3430389\ttotal: 2.1s\tremaining: 2.28s\n",
      "480:\tlearn: 0.3429659\ttotal: 2.11s\tremaining: 2.28s\n",
      "481:\tlearn: 0.3428637\ttotal: 2.12s\tremaining: 2.28s\n",
      "482:\tlearn: 0.3427801\ttotal: 2.13s\tremaining: 2.28s\n",
      "483:\tlearn: 0.3426820\ttotal: 2.14s\tremaining: 2.28s\n",
      "484:\tlearn: 0.3425787\ttotal: 2.14s\tremaining: 2.27s\n",
      "485:\tlearn: 0.3424357\ttotal: 2.15s\tremaining: 2.27s\n",
      "486:\tlearn: 0.3423555\ttotal: 2.16s\tremaining: 2.27s\n",
      "487:\tlearn: 0.3423126\ttotal: 2.17s\tremaining: 2.27s\n",
      "488:\tlearn: 0.3423010\ttotal: 2.18s\tremaining: 2.27s\n",
      "489:\tlearn: 0.3422901\ttotal: 2.18s\tremaining: 2.27s\n",
      "490:\tlearn: 0.3421812\ttotal: 2.19s\tremaining: 2.27s\n",
      "491:\tlearn: 0.3421195\ttotal: 2.2s\tremaining: 2.27s\n",
      "492:\tlearn: 0.3420301\ttotal: 2.21s\tremaining: 2.27s\n",
      "493:\tlearn: 0.3419324\ttotal: 2.22s\tremaining: 2.27s\n",
      "494:\tlearn: 0.3419218\ttotal: 2.23s\tremaining: 2.27s\n",
      "495:\tlearn: 0.3418387\ttotal: 2.23s\tremaining: 2.27s\n",
      "496:\tlearn: 0.3417780\ttotal: 2.24s\tremaining: 2.27s\n",
      "497:\tlearn: 0.3417366\ttotal: 2.25s\tremaining: 2.27s\n"
     ]
    },
    {
     "name": "stdout",
     "output_type": "stream",
     "text": [
      "498:\tlearn: 0.3417334\ttotal: 2.25s\tremaining: 2.26s\n",
      "499:\tlearn: 0.3417041\ttotal: 2.27s\tremaining: 2.27s\n",
      "500:\tlearn: 0.3416048\ttotal: 2.27s\tremaining: 2.27s\n",
      "501:\tlearn: 0.3415983\ttotal: 2.28s\tremaining: 2.26s\n",
      "502:\tlearn: 0.3415190\ttotal: 2.29s\tremaining: 2.26s\n",
      "503:\tlearn: 0.3415059\ttotal: 2.29s\tremaining: 2.25s\n",
      "504:\tlearn: 0.3413787\ttotal: 2.3s\tremaining: 2.25s\n",
      "505:\tlearn: 0.3412418\ttotal: 2.3s\tremaining: 2.25s\n",
      "506:\tlearn: 0.3411662\ttotal: 2.31s\tremaining: 2.24s\n",
      "507:\tlearn: 0.3410970\ttotal: 2.31s\tremaining: 2.24s\n",
      "508:\tlearn: 0.3410676\ttotal: 2.31s\tremaining: 2.23s\n",
      "509:\tlearn: 0.3410412\ttotal: 2.32s\tremaining: 2.23s\n",
      "510:\tlearn: 0.3408978\ttotal: 2.33s\tremaining: 2.23s\n",
      "511:\tlearn: 0.3408187\ttotal: 2.33s\tremaining: 2.22s\n",
      "512:\tlearn: 0.3408089\ttotal: 2.33s\tremaining: 2.22s\n",
      "513:\tlearn: 0.3406986\ttotal: 2.34s\tremaining: 2.21s\n",
      "514:\tlearn: 0.3405472\ttotal: 2.34s\tremaining: 2.21s\n",
      "515:\tlearn: 0.3405434\ttotal: 2.35s\tremaining: 2.2s\n",
      "516:\tlearn: 0.3404673\ttotal: 2.35s\tremaining: 2.2s\n",
      "517:\tlearn: 0.3403855\ttotal: 2.36s\tremaining: 2.19s\n",
      "518:\tlearn: 0.3403603\ttotal: 2.36s\tremaining: 2.19s\n",
      "519:\tlearn: 0.3403418\ttotal: 2.37s\tremaining: 2.19s\n",
      "520:\tlearn: 0.3402380\ttotal: 2.37s\tremaining: 2.18s\n",
      "521:\tlearn: 0.3401919\ttotal: 2.38s\tremaining: 2.18s\n",
      "522:\tlearn: 0.3401162\ttotal: 2.38s\tremaining: 2.17s\n",
      "523:\tlearn: 0.3401004\ttotal: 2.39s\tremaining: 2.17s\n",
      "524:\tlearn: 0.3399035\ttotal: 2.39s\tremaining: 2.16s\n",
      "525:\tlearn: 0.3397825\ttotal: 2.39s\tremaining: 2.16s\n",
      "526:\tlearn: 0.3397020\ttotal: 2.4s\tremaining: 2.15s\n",
      "527:\tlearn: 0.3396033\ttotal: 2.41s\tremaining: 2.15s\n",
      "528:\tlearn: 0.3394757\ttotal: 2.41s\tremaining: 2.15s\n",
      "529:\tlearn: 0.3393773\ttotal: 2.42s\tremaining: 2.14s\n",
      "530:\tlearn: 0.3393305\ttotal: 2.42s\tremaining: 2.14s\n",
      "531:\tlearn: 0.3393050\ttotal: 2.43s\tremaining: 2.14s\n",
      "532:\tlearn: 0.3392666\ttotal: 2.43s\tremaining: 2.13s\n",
      "533:\tlearn: 0.3391633\ttotal: 2.44s\tremaining: 2.13s\n",
      "534:\tlearn: 0.3391114\ttotal: 2.44s\tremaining: 2.12s\n",
      "535:\tlearn: 0.3390797\ttotal: 2.45s\tremaining: 2.12s\n",
      "536:\tlearn: 0.3389555\ttotal: 2.45s\tremaining: 2.12s\n",
      "537:\tlearn: 0.3388543\ttotal: 2.46s\tremaining: 2.11s\n",
      "538:\tlearn: 0.3388004\ttotal: 2.46s\tremaining: 2.11s\n",
      "539:\tlearn: 0.3387081\ttotal: 2.47s\tremaining: 2.1s\n",
      "540:\tlearn: 0.3386057\ttotal: 2.47s\tremaining: 2.1s\n",
      "541:\tlearn: 0.3385895\ttotal: 2.48s\tremaining: 2.09s\n",
      "542:\tlearn: 0.3385727\ttotal: 2.48s\tremaining: 2.09s\n",
      "543:\tlearn: 0.3385701\ttotal: 2.49s\tremaining: 2.09s\n",
      "544:\tlearn: 0.3384998\ttotal: 2.5s\tremaining: 2.09s\n",
      "545:\tlearn: 0.3382962\ttotal: 2.51s\tremaining: 2.08s\n",
      "546:\tlearn: 0.3382179\ttotal: 2.52s\tremaining: 2.08s\n",
      "547:\tlearn: 0.3382125\ttotal: 2.52s\tremaining: 2.08s\n",
      "548:\tlearn: 0.3381937\ttotal: 2.53s\tremaining: 2.08s\n",
      "549:\tlearn: 0.3381153\ttotal: 2.53s\tremaining: 2.07s\n",
      "550:\tlearn: 0.3380020\ttotal: 2.54s\tremaining: 2.07s\n",
      "551:\tlearn: 0.3378771\ttotal: 2.54s\tremaining: 2.06s\n",
      "552:\tlearn: 0.3378378\ttotal: 2.55s\tremaining: 2.06s\n",
      "553:\tlearn: 0.3376480\ttotal: 2.55s\tremaining: 2.05s\n",
      "554:\tlearn: 0.3375851\ttotal: 2.56s\tremaining: 2.05s\n",
      "555:\tlearn: 0.3374445\ttotal: 2.56s\tremaining: 2.04s\n",
      "556:\tlearn: 0.3374195\ttotal: 2.56s\tremaining: 2.04s\n",
      "557:\tlearn: 0.3373125\ttotal: 2.57s\tremaining: 2.03s\n",
      "558:\tlearn: 0.3372496\ttotal: 2.57s\tremaining: 2.03s\n",
      "559:\tlearn: 0.3372086\ttotal: 2.58s\tremaining: 2.02s\n",
      "560:\tlearn: 0.3370990\ttotal: 2.58s\tremaining: 2.02s\n",
      "561:\tlearn: 0.3369950\ttotal: 2.59s\tremaining: 2.02s\n",
      "562:\tlearn: 0.3369860\ttotal: 2.59s\tremaining: 2.01s\n",
      "563:\tlearn: 0.3369107\ttotal: 2.59s\tremaining: 2s\n",
      "564:\tlearn: 0.3368398\ttotal: 2.6s\tremaining: 2s\n",
      "565:\tlearn: 0.3366746\ttotal: 2.6s\tremaining: 2s\n",
      "566:\tlearn: 0.3365593\ttotal: 2.6s\tremaining: 1.99s\n",
      "567:\tlearn: 0.3364374\ttotal: 2.61s\tremaining: 1.98s\n",
      "568:\tlearn: 0.3363281\ttotal: 2.61s\tremaining: 1.98s\n",
      "569:\tlearn: 0.3362875\ttotal: 2.62s\tremaining: 1.97s\n",
      "570:\tlearn: 0.3362302\ttotal: 2.62s\tremaining: 1.97s\n",
      "571:\tlearn: 0.3361364\ttotal: 2.62s\tremaining: 1.96s\n",
      "572:\tlearn: 0.3360440\ttotal: 2.63s\tremaining: 1.96s\n",
      "573:\tlearn: 0.3359338\ttotal: 2.63s\tremaining: 1.95s\n",
      "574:\tlearn: 0.3359242\ttotal: 2.63s\tremaining: 1.95s\n",
      "575:\tlearn: 0.3358583\ttotal: 2.64s\tremaining: 1.94s\n",
      "576:\tlearn: 0.3358212\ttotal: 2.64s\tremaining: 1.94s\n",
      "577:\tlearn: 0.3357638\ttotal: 2.65s\tremaining: 1.93s\n",
      "578:\tlearn: 0.3356208\ttotal: 2.65s\tremaining: 1.93s\n",
      "579:\tlearn: 0.3355068\ttotal: 2.65s\tremaining: 1.92s\n",
      "580:\tlearn: 0.3354289\ttotal: 2.66s\tremaining: 1.92s\n",
      "581:\tlearn: 0.3352932\ttotal: 2.66s\tremaining: 1.91s\n",
      "582:\tlearn: 0.3350947\ttotal: 2.67s\tremaining: 1.91s\n",
      "583:\tlearn: 0.3350048\ttotal: 2.67s\tremaining: 1.9s\n",
      "584:\tlearn: 0.3349905\ttotal: 2.67s\tremaining: 1.9s\n",
      "585:\tlearn: 0.3348903\ttotal: 2.68s\tremaining: 1.89s\n",
      "586:\tlearn: 0.3347534\ttotal: 2.68s\tremaining: 1.89s\n",
      "587:\tlearn: 0.3347076\ttotal: 2.68s\tremaining: 1.88s\n",
      "588:\tlearn: 0.3346428\ttotal: 2.69s\tremaining: 1.88s\n",
      "589:\tlearn: 0.3345848\ttotal: 2.69s\tremaining: 1.87s\n",
      "590:\tlearn: 0.3345216\ttotal: 2.7s\tremaining: 1.86s\n",
      "591:\tlearn: 0.3343287\ttotal: 2.7s\tremaining: 1.86s\n",
      "592:\tlearn: 0.3342189\ttotal: 2.7s\tremaining: 1.85s\n",
      "593:\tlearn: 0.3341521\ttotal: 2.71s\tremaining: 1.85s\n",
      "594:\tlearn: 0.3341108\ttotal: 2.71s\tremaining: 1.84s\n",
      "595:\tlearn: 0.3341027\ttotal: 2.71s\tremaining: 1.84s\n",
      "596:\tlearn: 0.3340608\ttotal: 2.72s\tremaining: 1.83s\n",
      "597:\tlearn: 0.3340056\ttotal: 2.72s\tremaining: 1.83s\n",
      "598:\tlearn: 0.3340029\ttotal: 2.72s\tremaining: 1.82s\n",
      "599:\tlearn: 0.3340006\ttotal: 2.73s\tremaining: 1.82s\n",
      "600:\tlearn: 0.3339136\ttotal: 2.73s\tremaining: 1.81s\n",
      "601:\tlearn: 0.3337788\ttotal: 2.73s\tremaining: 1.81s\n",
      "602:\tlearn: 0.3337460\ttotal: 2.74s\tremaining: 1.8s\n",
      "603:\tlearn: 0.3336401\ttotal: 2.74s\tremaining: 1.8s\n",
      "604:\tlearn: 0.3335624\ttotal: 2.75s\tremaining: 1.79s\n",
      "605:\tlearn: 0.3335264\ttotal: 2.75s\tremaining: 1.79s\n",
      "606:\tlearn: 0.3335238\ttotal: 2.75s\tremaining: 1.78s\n",
      "607:\tlearn: 0.3333914\ttotal: 2.76s\tremaining: 1.78s\n",
      "608:\tlearn: 0.3333602\ttotal: 2.76s\tremaining: 1.77s\n",
      "609:\tlearn: 0.3332740\ttotal: 2.77s\tremaining: 1.77s\n",
      "610:\tlearn: 0.3332108\ttotal: 2.77s\tremaining: 1.76s\n",
      "611:\tlearn: 0.3331555\ttotal: 2.77s\tremaining: 1.76s\n",
      "612:\tlearn: 0.3330535\ttotal: 2.78s\tremaining: 1.75s\n",
      "613:\tlearn: 0.3329841\ttotal: 2.78s\tremaining: 1.75s\n",
      "614:\tlearn: 0.3329239\ttotal: 2.79s\tremaining: 1.74s\n",
      "615:\tlearn: 0.3328501\ttotal: 2.79s\tremaining: 1.74s\n",
      "616:\tlearn: 0.3328116\ttotal: 2.79s\tremaining: 1.73s\n",
      "617:\tlearn: 0.3328096\ttotal: 2.8s\tremaining: 1.73s\n",
      "618:\tlearn: 0.3327251\ttotal: 2.8s\tremaining: 1.72s\n",
      "619:\tlearn: 0.3326811\ttotal: 2.8s\tremaining: 1.72s\n",
      "620:\tlearn: 0.3326075\ttotal: 2.81s\tremaining: 1.71s\n",
      "621:\tlearn: 0.3325351\ttotal: 2.81s\tremaining: 1.71s\n",
      "622:\tlearn: 0.3324803\ttotal: 2.82s\tremaining: 1.7s\n",
      "623:\tlearn: 0.3324594\ttotal: 2.82s\tremaining: 1.7s\n",
      "624:\tlearn: 0.3323417\ttotal: 2.82s\tremaining: 1.69s\n",
      "625:\tlearn: 0.3323103\ttotal: 2.83s\tremaining: 1.69s\n",
      "626:\tlearn: 0.3322810\ttotal: 2.83s\tremaining: 1.68s\n",
      "627:\tlearn: 0.3321194\ttotal: 2.83s\tremaining: 1.68s\n",
      "628:\tlearn: 0.3319499\ttotal: 2.84s\tremaining: 1.67s\n",
      "629:\tlearn: 0.3318684\ttotal: 2.84s\tremaining: 1.67s\n",
      "630:\tlearn: 0.3317433\ttotal: 2.85s\tremaining: 1.66s\n",
      "631:\tlearn: 0.3317056\ttotal: 2.85s\tremaining: 1.66s\n",
      "632:\tlearn: 0.3316796\ttotal: 2.85s\tremaining: 1.65s\n",
      "633:\tlearn: 0.3315541\ttotal: 2.86s\tremaining: 1.65s\n",
      "634:\tlearn: 0.3314862\ttotal: 2.86s\tremaining: 1.64s\n",
      "635:\tlearn: 0.3314442\ttotal: 2.86s\tremaining: 1.64s\n",
      "636:\tlearn: 0.3313311\ttotal: 2.87s\tremaining: 1.64s\n",
      "637:\tlearn: 0.3312205\ttotal: 2.87s\tremaining: 1.63s\n",
      "638:\tlearn: 0.3310715\ttotal: 2.88s\tremaining: 1.63s\n",
      "639:\tlearn: 0.3309764\ttotal: 2.88s\tremaining: 1.62s\n",
      "640:\tlearn: 0.3309258\ttotal: 2.88s\tremaining: 1.61s\n",
      "641:\tlearn: 0.3309120\ttotal: 2.89s\tremaining: 1.61s\n",
      "642:\tlearn: 0.3308597\ttotal: 2.89s\tremaining: 1.6s\n",
      "643:\tlearn: 0.3308572\ttotal: 2.9s\tremaining: 1.6s\n",
      "644:\tlearn: 0.3308188\ttotal: 2.9s\tremaining: 1.59s\n",
      "645:\tlearn: 0.3307191\ttotal: 2.9s\tremaining: 1.59s\n",
      "646:\tlearn: 0.3306493\ttotal: 2.91s\tremaining: 1.58s\n",
      "647:\tlearn: 0.3305689\ttotal: 2.91s\tremaining: 1.58s\n",
      "648:\tlearn: 0.3304554\ttotal: 2.91s\tremaining: 1.58s\n",
      "649:\tlearn: 0.3303985\ttotal: 2.92s\tremaining: 1.57s\n",
      "650:\tlearn: 0.3302746\ttotal: 2.92s\tremaining: 1.57s\n",
      "651:\tlearn: 0.3302357\ttotal: 2.92s\tremaining: 1.56s\n",
      "652:\tlearn: 0.3301847\ttotal: 2.93s\tremaining: 1.56s\n",
      "653:\tlearn: 0.3301544\ttotal: 2.93s\tremaining: 1.55s\n",
      "654:\tlearn: 0.3301005\ttotal: 2.94s\tremaining: 1.55s\n",
      "655:\tlearn: 0.3300519\ttotal: 2.94s\tremaining: 1.54s\n",
      "656:\tlearn: 0.3300308\ttotal: 2.94s\tremaining: 1.54s\n",
      "657:\tlearn: 0.3299821\ttotal: 2.95s\tremaining: 1.53s\n"
     ]
    },
    {
     "name": "stdout",
     "output_type": "stream",
     "text": [
      "658:\tlearn: 0.3298744\ttotal: 2.95s\tremaining: 1.53s\n",
      "659:\tlearn: 0.3298723\ttotal: 2.96s\tremaining: 1.52s\n",
      "660:\tlearn: 0.3298397\ttotal: 2.96s\tremaining: 1.52s\n",
      "661:\tlearn: 0.3297685\ttotal: 2.96s\tremaining: 1.51s\n",
      "662:\tlearn: 0.3296830\ttotal: 2.97s\tremaining: 1.51s\n",
      "663:\tlearn: 0.3295934\ttotal: 2.97s\tremaining: 1.5s\n",
      "664:\tlearn: 0.3295914\ttotal: 2.98s\tremaining: 1.5s\n",
      "665:\tlearn: 0.3295421\ttotal: 2.98s\tremaining: 1.49s\n",
      "666:\tlearn: 0.3294202\ttotal: 2.98s\tremaining: 1.49s\n",
      "667:\tlearn: 0.3293674\ttotal: 2.99s\tremaining: 1.49s\n",
      "668:\tlearn: 0.3292614\ttotal: 3s\tremaining: 1.48s\n",
      "669:\tlearn: 0.3291854\ttotal: 3s\tremaining: 1.48s\n",
      "670:\tlearn: 0.3290779\ttotal: 3.01s\tremaining: 1.47s\n",
      "671:\tlearn: 0.3289681\ttotal: 3.01s\tremaining: 1.47s\n",
      "672:\tlearn: 0.3288647\ttotal: 3.02s\tremaining: 1.47s\n",
      "673:\tlearn: 0.3288126\ttotal: 3.02s\tremaining: 1.46s\n",
      "674:\tlearn: 0.3288107\ttotal: 3.02s\tremaining: 1.46s\n",
      "675:\tlearn: 0.3287417\ttotal: 3.03s\tremaining: 1.45s\n",
      "676:\tlearn: 0.3286752\ttotal: 3.03s\tremaining: 1.45s\n",
      "677:\tlearn: 0.3285836\ttotal: 3.04s\tremaining: 1.44s\n",
      "678:\tlearn: 0.3285231\ttotal: 3.04s\tremaining: 1.44s\n",
      "679:\tlearn: 0.3284403\ttotal: 3.04s\tremaining: 1.43s\n",
      "680:\tlearn: 0.3284000\ttotal: 3.05s\tremaining: 1.43s\n",
      "681:\tlearn: 0.3282450\ttotal: 3.05s\tremaining: 1.42s\n",
      "682:\tlearn: 0.3281702\ttotal: 3.05s\tremaining: 1.42s\n",
      "683:\tlearn: 0.3280773\ttotal: 3.06s\tremaining: 1.41s\n",
      "684:\tlearn: 0.3279441\ttotal: 3.06s\tremaining: 1.41s\n",
      "685:\tlearn: 0.3278339\ttotal: 3.07s\tremaining: 1.4s\n",
      "686:\tlearn: 0.3277961\ttotal: 3.07s\tremaining: 1.4s\n",
      "687:\tlearn: 0.3276807\ttotal: 3.07s\tremaining: 1.39s\n",
      "688:\tlearn: 0.3276338\ttotal: 3.08s\tremaining: 1.39s\n",
      "689:\tlearn: 0.3276086\ttotal: 3.08s\tremaining: 1.38s\n",
      "690:\tlearn: 0.3275625\ttotal: 3.08s\tremaining: 1.38s\n",
      "691:\tlearn: 0.3274784\ttotal: 3.09s\tremaining: 1.37s\n",
      "692:\tlearn: 0.3274107\ttotal: 3.09s\tremaining: 1.37s\n",
      "693:\tlearn: 0.3273846\ttotal: 3.1s\tremaining: 1.36s\n",
      "694:\tlearn: 0.3273397\ttotal: 3.1s\tremaining: 1.36s\n",
      "695:\tlearn: 0.3273361\ttotal: 3.1s\tremaining: 1.35s\n",
      "696:\tlearn: 0.3272636\ttotal: 3.11s\tremaining: 1.35s\n",
      "697:\tlearn: 0.3272203\ttotal: 3.11s\tremaining: 1.35s\n",
      "698:\tlearn: 0.3271580\ttotal: 3.12s\tremaining: 1.34s\n",
      "699:\tlearn: 0.3270562\ttotal: 3.12s\tremaining: 1.34s\n",
      "700:\tlearn: 0.3269810\ttotal: 3.12s\tremaining: 1.33s\n",
      "701:\tlearn: 0.3269568\ttotal: 3.13s\tremaining: 1.33s\n",
      "702:\tlearn: 0.3268567\ttotal: 3.13s\tremaining: 1.32s\n",
      "703:\tlearn: 0.3268294\ttotal: 3.13s\tremaining: 1.32s\n",
      "704:\tlearn: 0.3267698\ttotal: 3.14s\tremaining: 1.31s\n",
      "705:\tlearn: 0.3267192\ttotal: 3.14s\tremaining: 1.31s\n",
      "706:\tlearn: 0.3266544\ttotal: 3.15s\tremaining: 1.3s\n",
      "707:\tlearn: 0.3265759\ttotal: 3.15s\tremaining: 1.3s\n",
      "708:\tlearn: 0.3265307\ttotal: 3.15s\tremaining: 1.29s\n",
      "709:\tlearn: 0.3264272\ttotal: 3.16s\tremaining: 1.29s\n",
      "710:\tlearn: 0.3263508\ttotal: 3.16s\tremaining: 1.28s\n",
      "711:\tlearn: 0.3262862\ttotal: 3.16s\tremaining: 1.28s\n",
      "712:\tlearn: 0.3262315\ttotal: 3.17s\tremaining: 1.27s\n",
      "713:\tlearn: 0.3261436\ttotal: 3.17s\tremaining: 1.27s\n",
      "714:\tlearn: 0.3260986\ttotal: 3.17s\tremaining: 1.26s\n",
      "715:\tlearn: 0.3260604\ttotal: 3.18s\tremaining: 1.26s\n",
      "716:\tlearn: 0.3259874\ttotal: 3.18s\tremaining: 1.26s\n",
      "717:\tlearn: 0.3259572\ttotal: 3.19s\tremaining: 1.25s\n",
      "718:\tlearn: 0.3259319\ttotal: 3.19s\tremaining: 1.25s\n",
      "719:\tlearn: 0.3258445\ttotal: 3.19s\tremaining: 1.24s\n",
      "720:\tlearn: 0.3257840\ttotal: 3.2s\tremaining: 1.24s\n",
      "721:\tlearn: 0.3257735\ttotal: 3.2s\tremaining: 1.23s\n",
      "722:\tlearn: 0.3257491\ttotal: 3.2s\tremaining: 1.23s\n",
      "723:\tlearn: 0.3256571\ttotal: 3.21s\tremaining: 1.22s\n",
      "724:\tlearn: 0.3256256\ttotal: 3.21s\tremaining: 1.22s\n",
      "725:\tlearn: 0.3255470\ttotal: 3.22s\tremaining: 1.21s\n",
      "726:\tlearn: 0.3254864\ttotal: 3.22s\tremaining: 1.21s\n",
      "727:\tlearn: 0.3254311\ttotal: 3.22s\tremaining: 1.2s\n",
      "728:\tlearn: 0.3253376\ttotal: 3.23s\tremaining: 1.2s\n",
      "729:\tlearn: 0.3252857\ttotal: 3.23s\tremaining: 1.2s\n",
      "730:\tlearn: 0.3252835\ttotal: 3.23s\tremaining: 1.19s\n",
      "731:\tlearn: 0.3252493\ttotal: 3.24s\tremaining: 1.19s\n",
      "732:\tlearn: 0.3252359\ttotal: 3.24s\tremaining: 1.18s\n",
      "733:\tlearn: 0.3252109\ttotal: 3.25s\tremaining: 1.18s\n",
      "734:\tlearn: 0.3251768\ttotal: 3.25s\tremaining: 1.17s\n",
      "735:\tlearn: 0.3250702\ttotal: 3.25s\tremaining: 1.17s\n",
      "736:\tlearn: 0.3250157\ttotal: 3.26s\tremaining: 1.16s\n",
      "737:\tlearn: 0.3249450\ttotal: 3.26s\tremaining: 1.16s\n",
      "738:\tlearn: 0.3249090\ttotal: 3.27s\tremaining: 1.15s\n",
      "739:\tlearn: 0.3248414\ttotal: 3.27s\tremaining: 1.15s\n",
      "740:\tlearn: 0.3247726\ttotal: 3.27s\tremaining: 1.14s\n",
      "741:\tlearn: 0.3246845\ttotal: 3.28s\tremaining: 1.14s\n",
      "742:\tlearn: 0.3246351\ttotal: 3.28s\tremaining: 1.13s\n",
      "743:\tlearn: 0.3246215\ttotal: 3.28s\tremaining: 1.13s\n",
      "744:\tlearn: 0.3245805\ttotal: 3.29s\tremaining: 1.13s\n",
      "745:\tlearn: 0.3244951\ttotal: 3.29s\tremaining: 1.12s\n",
      "746:\tlearn: 0.3244221\ttotal: 3.29s\tremaining: 1.12s\n",
      "747:\tlearn: 0.3243374\ttotal: 3.3s\tremaining: 1.11s\n",
      "748:\tlearn: 0.3242443\ttotal: 3.3s\tremaining: 1.11s\n",
      "749:\tlearn: 0.3241619\ttotal: 3.31s\tremaining: 1.1s\n",
      "750:\tlearn: 0.3240899\ttotal: 3.31s\tremaining: 1.1s\n",
      "751:\tlearn: 0.3240622\ttotal: 3.31s\tremaining: 1.09s\n",
      "752:\tlearn: 0.3240101\ttotal: 3.32s\tremaining: 1.09s\n",
      "753:\tlearn: 0.3239709\ttotal: 3.32s\tremaining: 1.08s\n",
      "754:\tlearn: 0.3239303\ttotal: 3.33s\tremaining: 1.08s\n",
      "755:\tlearn: 0.3239003\ttotal: 3.33s\tremaining: 1.07s\n",
      "756:\tlearn: 0.3238107\ttotal: 3.33s\tremaining: 1.07s\n",
      "757:\tlearn: 0.3237622\ttotal: 3.34s\tremaining: 1.07s\n",
      "758:\tlearn: 0.3236772\ttotal: 3.34s\tremaining: 1.06s\n",
      "759:\tlearn: 0.3236527\ttotal: 3.35s\tremaining: 1.06s\n",
      "760:\tlearn: 0.3236098\ttotal: 3.35s\tremaining: 1.05s\n",
      "761:\tlearn: 0.3235405\ttotal: 3.35s\tremaining: 1.05s\n",
      "762:\tlearn: 0.3234513\ttotal: 3.36s\tremaining: 1.04s\n",
      "763:\tlearn: 0.3234370\ttotal: 3.36s\tremaining: 1.04s\n",
      "764:\tlearn: 0.3233905\ttotal: 3.37s\tremaining: 1.03s\n",
      "765:\tlearn: 0.3233268\ttotal: 3.37s\tremaining: 1.03s\n",
      "766:\tlearn: 0.3233122\ttotal: 3.37s\tremaining: 1.02s\n",
      "767:\tlearn: 0.3232958\ttotal: 3.38s\tremaining: 1.02s\n",
      "768:\tlearn: 0.3232747\ttotal: 3.38s\tremaining: 1.01s\n",
      "769:\tlearn: 0.3231977\ttotal: 3.38s\tremaining: 1.01s\n",
      "770:\tlearn: 0.3231111\ttotal: 3.39s\tremaining: 1.01s\n",
      "771:\tlearn: 0.3230592\ttotal: 3.39s\tremaining: 1s\n",
      "772:\tlearn: 0.3229797\ttotal: 3.4s\tremaining: 997ms\n",
      "773:\tlearn: 0.3229141\ttotal: 3.4s\tremaining: 993ms\n",
      "774:\tlearn: 0.3228061\ttotal: 3.4s\tremaining: 988ms\n",
      "775:\tlearn: 0.3227418\ttotal: 3.41s\tremaining: 983ms\n",
      "776:\tlearn: 0.3226576\ttotal: 3.41s\tremaining: 979ms\n",
      "777:\tlearn: 0.3226459\ttotal: 3.41s\tremaining: 974ms\n",
      "778:\tlearn: 0.3226442\ttotal: 3.42s\tremaining: 970ms\n",
      "779:\tlearn: 0.3226016\ttotal: 3.42s\tremaining: 965ms\n",
      "780:\tlearn: 0.3225595\ttotal: 3.43s\tremaining: 961ms\n",
      "781:\tlearn: 0.3225023\ttotal: 3.43s\tremaining: 956ms\n",
      "782:\tlearn: 0.3225004\ttotal: 3.43s\tremaining: 952ms\n",
      "783:\tlearn: 0.3224453\ttotal: 3.44s\tremaining: 947ms\n",
      "784:\tlearn: 0.3223931\ttotal: 3.44s\tremaining: 942ms\n",
      "785:\tlearn: 0.3223803\ttotal: 3.44s\tremaining: 938ms\n",
      "786:\tlearn: 0.3223194\ttotal: 3.45s\tremaining: 933ms\n",
      "787:\tlearn: 0.3223042\ttotal: 3.45s\tremaining: 929ms\n",
      "788:\tlearn: 0.3222439\ttotal: 3.46s\tremaining: 925ms\n",
      "789:\tlearn: 0.3222141\ttotal: 3.46s\tremaining: 921ms\n",
      "790:\tlearn: 0.3222023\ttotal: 3.47s\tremaining: 917ms\n",
      "791:\tlearn: 0.3221259\ttotal: 3.47s\tremaining: 912ms\n",
      "792:\tlearn: 0.3221239\ttotal: 3.48s\tremaining: 908ms\n",
      "793:\tlearn: 0.3220784\ttotal: 3.48s\tremaining: 903ms\n",
      "794:\tlearn: 0.3220552\ttotal: 3.49s\tremaining: 900ms\n",
      "795:\tlearn: 0.3220346\ttotal: 3.49s\tremaining: 895ms\n",
      "796:\tlearn: 0.3219874\ttotal: 3.5s\tremaining: 891ms\n",
      "797:\tlearn: 0.3219862\ttotal: 3.5s\tremaining: 886ms\n",
      "798:\tlearn: 0.3219526\ttotal: 3.5s\tremaining: 882ms\n",
      "799:\tlearn: 0.3218905\ttotal: 3.51s\tremaining: 877ms\n",
      "800:\tlearn: 0.3218404\ttotal: 3.51s\tremaining: 873ms\n",
      "801:\tlearn: 0.3218144\ttotal: 3.52s\tremaining: 868ms\n",
      "802:\tlearn: 0.3217676\ttotal: 3.52s\tremaining: 864ms\n",
      "803:\tlearn: 0.3217182\ttotal: 3.52s\tremaining: 859ms\n",
      "804:\tlearn: 0.3216711\ttotal: 3.53s\tremaining: 855ms\n",
      "805:\tlearn: 0.3216370\ttotal: 3.53s\tremaining: 850ms\n",
      "806:\tlearn: 0.3215874\ttotal: 3.54s\tremaining: 846ms\n",
      "807:\tlearn: 0.3215630\ttotal: 3.54s\tremaining: 841ms\n",
      "808:\tlearn: 0.3214746\ttotal: 3.54s\tremaining: 836ms\n",
      "809:\tlearn: 0.3214523\ttotal: 3.55s\tremaining: 832ms\n",
      "810:\tlearn: 0.3213935\ttotal: 3.55s\tremaining: 828ms\n",
      "811:\tlearn: 0.3213273\ttotal: 3.56s\tremaining: 823ms\n",
      "812:\tlearn: 0.3212772\ttotal: 3.56s\tremaining: 819ms\n",
      "813:\tlearn: 0.3212748\ttotal: 3.56s\tremaining: 814ms\n",
      "814:\tlearn: 0.3212023\ttotal: 3.57s\tremaining: 810ms\n",
      "815:\tlearn: 0.3211644\ttotal: 3.57s\tremaining: 805ms\n",
      "816:\tlearn: 0.3211141\ttotal: 3.57s\tremaining: 801ms\n",
      "817:\tlearn: 0.3210891\ttotal: 3.58s\tremaining: 796ms\n",
      "818:\tlearn: 0.3210152\ttotal: 3.58s\tremaining: 791ms\n",
      "819:\tlearn: 0.3209731\ttotal: 3.58s\tremaining: 787ms\n",
      "820:\tlearn: 0.3209180\ttotal: 3.59s\tremaining: 782ms\n",
      "821:\tlearn: 0.3208268\ttotal: 3.59s\tremaining: 778ms\n",
      "822:\tlearn: 0.3208077\ttotal: 3.6s\tremaining: 773ms\n",
      "823:\tlearn: 0.3207524\ttotal: 3.6s\tremaining: 769ms\n"
     ]
    },
    {
     "name": "stdout",
     "output_type": "stream",
     "text": [
      "824:\tlearn: 0.3207351\ttotal: 3.6s\tremaining: 764ms\n",
      "825:\tlearn: 0.3207144\ttotal: 3.61s\tremaining: 760ms\n",
      "826:\tlearn: 0.3206711\ttotal: 3.61s\tremaining: 755ms\n",
      "827:\tlearn: 0.3205676\ttotal: 3.62s\tremaining: 751ms\n",
      "828:\tlearn: 0.3204992\ttotal: 3.62s\tremaining: 746ms\n",
      "829:\tlearn: 0.3203817\ttotal: 3.62s\tremaining: 742ms\n",
      "830:\tlearn: 0.3203042\ttotal: 3.63s\tremaining: 737ms\n",
      "831:\tlearn: 0.3202943\ttotal: 3.63s\tremaining: 733ms\n",
      "832:\tlearn: 0.3202577\ttotal: 3.63s\tremaining: 729ms\n",
      "833:\tlearn: 0.3202203\ttotal: 3.64s\tremaining: 724ms\n",
      "834:\tlearn: 0.3201834\ttotal: 3.64s\tremaining: 720ms\n",
      "835:\tlearn: 0.3201249\ttotal: 3.65s\tremaining: 715ms\n",
      "836:\tlearn: 0.3201017\ttotal: 3.65s\tremaining: 711ms\n",
      "837:\tlearn: 0.3200532\ttotal: 3.65s\tremaining: 706ms\n",
      "838:\tlearn: 0.3199947\ttotal: 3.66s\tremaining: 702ms\n",
      "839:\tlearn: 0.3199018\ttotal: 3.66s\tremaining: 697ms\n",
      "840:\tlearn: 0.3198474\ttotal: 3.66s\tremaining: 693ms\n",
      "841:\tlearn: 0.3197780\ttotal: 3.67s\tremaining: 688ms\n",
      "842:\tlearn: 0.3197453\ttotal: 3.67s\tremaining: 684ms\n",
      "843:\tlearn: 0.3197069\ttotal: 3.67s\tremaining: 679ms\n",
      "844:\tlearn: 0.3196935\ttotal: 3.68s\tremaining: 675ms\n",
      "845:\tlearn: 0.3196251\ttotal: 3.68s\tremaining: 671ms\n",
      "846:\tlearn: 0.3195584\ttotal: 3.69s\tremaining: 666ms\n",
      "847:\tlearn: 0.3195550\ttotal: 3.69s\tremaining: 662ms\n",
      "848:\tlearn: 0.3195234\ttotal: 3.69s\tremaining: 657ms\n",
      "849:\tlearn: 0.3193863\ttotal: 3.7s\tremaining: 653ms\n",
      "850:\tlearn: 0.3192967\ttotal: 3.7s\tremaining: 648ms\n",
      "851:\tlearn: 0.3192315\ttotal: 3.71s\tremaining: 644ms\n",
      "852:\tlearn: 0.3192132\ttotal: 3.71s\tremaining: 639ms\n",
      "853:\tlearn: 0.3191537\ttotal: 3.71s\tremaining: 635ms\n",
      "854:\tlearn: 0.3190644\ttotal: 3.72s\tremaining: 631ms\n",
      "855:\tlearn: 0.3190280\ttotal: 3.72s\tremaining: 626ms\n",
      "856:\tlearn: 0.3189240\ttotal: 3.73s\tremaining: 622ms\n",
      "857:\tlearn: 0.3188842\ttotal: 3.73s\tremaining: 617ms\n",
      "858:\tlearn: 0.3188474\ttotal: 3.73s\tremaining: 613ms\n",
      "859:\tlearn: 0.3188356\ttotal: 3.74s\tremaining: 608ms\n",
      "860:\tlearn: 0.3188214\ttotal: 3.74s\tremaining: 604ms\n",
      "861:\tlearn: 0.3187860\ttotal: 3.74s\tremaining: 600ms\n",
      "862:\tlearn: 0.3186972\ttotal: 3.75s\tremaining: 595ms\n",
      "863:\tlearn: 0.3186640\ttotal: 3.75s\tremaining: 591ms\n",
      "864:\tlearn: 0.3186454\ttotal: 3.75s\tremaining: 586ms\n",
      "865:\tlearn: 0.3185764\ttotal: 3.76s\tremaining: 582ms\n",
      "866:\tlearn: 0.3184644\ttotal: 3.76s\tremaining: 577ms\n",
      "867:\tlearn: 0.3183666\ttotal: 3.77s\tremaining: 573ms\n",
      "868:\tlearn: 0.3183579\ttotal: 3.77s\tremaining: 568ms\n",
      "869:\tlearn: 0.3182870\ttotal: 3.77s\tremaining: 564ms\n",
      "870:\tlearn: 0.3181962\ttotal: 3.78s\tremaining: 560ms\n",
      "871:\tlearn: 0.3181590\ttotal: 3.78s\tremaining: 555ms\n",
      "872:\tlearn: 0.3181247\ttotal: 3.79s\tremaining: 551ms\n",
      "873:\tlearn: 0.3180314\ttotal: 3.79s\tremaining: 546ms\n",
      "874:\tlearn: 0.3179784\ttotal: 3.79s\tremaining: 542ms\n",
      "875:\tlearn: 0.3178567\ttotal: 3.8s\tremaining: 538ms\n",
      "876:\tlearn: 0.3178532\ttotal: 3.8s\tremaining: 533ms\n",
      "877:\tlearn: 0.3177707\ttotal: 3.81s\tremaining: 529ms\n",
      "878:\tlearn: 0.3177411\ttotal: 3.81s\tremaining: 524ms\n",
      "879:\tlearn: 0.3176910\ttotal: 3.81s\tremaining: 520ms\n",
      "880:\tlearn: 0.3176405\ttotal: 3.82s\tremaining: 516ms\n",
      "881:\tlearn: 0.3175401\ttotal: 3.82s\tremaining: 511ms\n",
      "882:\tlearn: 0.3174931\ttotal: 3.82s\tremaining: 507ms\n",
      "883:\tlearn: 0.3174861\ttotal: 3.83s\tremaining: 502ms\n",
      "884:\tlearn: 0.3174229\ttotal: 3.83s\tremaining: 498ms\n",
      "885:\tlearn: 0.3173504\ttotal: 3.83s\tremaining: 494ms\n",
      "886:\tlearn: 0.3173482\ttotal: 3.84s\tremaining: 489ms\n",
      "887:\tlearn: 0.3172689\ttotal: 3.84s\tremaining: 485ms\n",
      "888:\tlearn: 0.3172215\ttotal: 3.85s\tremaining: 480ms\n",
      "889:\tlearn: 0.3171825\ttotal: 3.85s\tremaining: 476ms\n",
      "890:\tlearn: 0.3171590\ttotal: 3.85s\tremaining: 471ms\n",
      "891:\tlearn: 0.3171188\ttotal: 3.86s\tremaining: 467ms\n",
      "892:\tlearn: 0.3170630\ttotal: 3.86s\tremaining: 463ms\n",
      "893:\tlearn: 0.3169874\ttotal: 3.87s\tremaining: 458ms\n",
      "894:\tlearn: 0.3169301\ttotal: 3.87s\tremaining: 454ms\n",
      "895:\tlearn: 0.3168812\ttotal: 3.87s\tremaining: 450ms\n",
      "896:\tlearn: 0.3168263\ttotal: 3.88s\tremaining: 445ms\n",
      "897:\tlearn: 0.3167724\ttotal: 3.88s\tremaining: 441ms\n",
      "898:\tlearn: 0.3167512\ttotal: 3.88s\tremaining: 436ms\n",
      "899:\tlearn: 0.3166895\ttotal: 3.89s\tremaining: 432ms\n",
      "900:\tlearn: 0.3166577\ttotal: 3.89s\tremaining: 428ms\n",
      "901:\tlearn: 0.3166429\ttotal: 3.9s\tremaining: 423ms\n",
      "902:\tlearn: 0.3165566\ttotal: 3.9s\tremaining: 419ms\n",
      "903:\tlearn: 0.3165207\ttotal: 3.9s\tremaining: 415ms\n",
      "904:\tlearn: 0.3164755\ttotal: 3.91s\tremaining: 410ms\n",
      "905:\tlearn: 0.3163610\ttotal: 3.91s\tremaining: 406ms\n",
      "906:\tlearn: 0.3163093\ttotal: 3.92s\tremaining: 402ms\n",
      "907:\tlearn: 0.3162929\ttotal: 3.92s\tremaining: 397ms\n",
      "908:\tlearn: 0.3162646\ttotal: 3.92s\tremaining: 393ms\n",
      "909:\tlearn: 0.3162296\ttotal: 3.93s\tremaining: 388ms\n",
      "910:\tlearn: 0.3161800\ttotal: 3.93s\tremaining: 384ms\n",
      "911:\tlearn: 0.3161566\ttotal: 3.93s\tremaining: 380ms\n",
      "912:\tlearn: 0.3161334\ttotal: 3.94s\tremaining: 375ms\n",
      "913:\tlearn: 0.3161320\ttotal: 3.94s\tremaining: 371ms\n",
      "914:\tlearn: 0.3161161\ttotal: 3.95s\tremaining: 367ms\n",
      "915:\tlearn: 0.3160642\ttotal: 3.95s\tremaining: 363ms\n",
      "916:\tlearn: 0.3160049\ttotal: 3.96s\tremaining: 358ms\n",
      "917:\tlearn: 0.3159621\ttotal: 3.96s\tremaining: 354ms\n",
      "918:\tlearn: 0.3159467\ttotal: 3.97s\tremaining: 350ms\n",
      "919:\tlearn: 0.3159308\ttotal: 3.97s\tremaining: 345ms\n",
      "920:\tlearn: 0.3158721\ttotal: 3.98s\tremaining: 341ms\n",
      "921:\tlearn: 0.3157993\ttotal: 3.98s\tremaining: 337ms\n",
      "922:\tlearn: 0.3157531\ttotal: 3.99s\tremaining: 333ms\n",
      "923:\tlearn: 0.3157241\ttotal: 3.99s\tremaining: 328ms\n",
      "924:\tlearn: 0.3156519\ttotal: 4s\tremaining: 324ms\n",
      "925:\tlearn: 0.3155553\ttotal: 4s\tremaining: 320ms\n",
      "926:\tlearn: 0.3155118\ttotal: 4s\tremaining: 315ms\n",
      "927:\tlearn: 0.3154718\ttotal: 4.01s\tremaining: 311ms\n",
      "928:\tlearn: 0.3154329\ttotal: 4.01s\tremaining: 307ms\n",
      "929:\tlearn: 0.3154108\ttotal: 4.01s\tremaining: 302ms\n",
      "930:\tlearn: 0.3153835\ttotal: 4.02s\tremaining: 298ms\n",
      "931:\tlearn: 0.3153220\ttotal: 4.02s\tremaining: 293ms\n",
      "932:\tlearn: 0.3152917\ttotal: 4.03s\tremaining: 289ms\n",
      "933:\tlearn: 0.3152523\ttotal: 4.03s\tremaining: 285ms\n",
      "934:\tlearn: 0.3151821\ttotal: 4.03s\tremaining: 280ms\n",
      "935:\tlearn: 0.3151639\ttotal: 4.04s\tremaining: 276ms\n",
      "936:\tlearn: 0.3151165\ttotal: 4.04s\tremaining: 272ms\n",
      "937:\tlearn: 0.3150862\ttotal: 4.04s\tremaining: 267ms\n",
      "938:\tlearn: 0.3150504\ttotal: 4.05s\tremaining: 263ms\n",
      "939:\tlearn: 0.3149857\ttotal: 4.05s\tremaining: 259ms\n",
      "940:\tlearn: 0.3149272\ttotal: 4.06s\tremaining: 254ms\n",
      "941:\tlearn: 0.3148843\ttotal: 4.06s\tremaining: 250ms\n",
      "942:\tlearn: 0.3148717\ttotal: 4.06s\tremaining: 246ms\n",
      "943:\tlearn: 0.3148701\ttotal: 4.07s\tremaining: 241ms\n",
      "944:\tlearn: 0.3148476\ttotal: 4.07s\tremaining: 237ms\n",
      "945:\tlearn: 0.3148029\ttotal: 4.08s\tremaining: 233ms\n",
      "946:\tlearn: 0.3147727\ttotal: 4.08s\tremaining: 228ms\n",
      "947:\tlearn: 0.3147002\ttotal: 4.08s\tremaining: 224ms\n",
      "948:\tlearn: 0.3146172\ttotal: 4.09s\tremaining: 220ms\n",
      "949:\tlearn: 0.3145528\ttotal: 4.09s\tremaining: 215ms\n",
      "950:\tlearn: 0.3144968\ttotal: 4.09s\tremaining: 211ms\n",
      "951:\tlearn: 0.3144829\ttotal: 4.1s\tremaining: 207ms\n",
      "952:\tlearn: 0.3144494\ttotal: 4.1s\tremaining: 202ms\n",
      "953:\tlearn: 0.3144124\ttotal: 4.11s\tremaining: 198ms\n",
      "954:\tlearn: 0.3143543\ttotal: 4.11s\tremaining: 194ms\n",
      "955:\tlearn: 0.3142783\ttotal: 4.11s\tremaining: 189ms\n",
      "956:\tlearn: 0.3142509\ttotal: 4.12s\tremaining: 185ms\n",
      "957:\tlearn: 0.3142027\ttotal: 4.12s\tremaining: 181ms\n",
      "958:\tlearn: 0.3141762\ttotal: 4.12s\tremaining: 176ms\n",
      "959:\tlearn: 0.3141057\ttotal: 4.13s\tremaining: 172ms\n",
      "960:\tlearn: 0.3140902\ttotal: 4.13s\tremaining: 168ms\n",
      "961:\tlearn: 0.3140701\ttotal: 4.13s\tremaining: 163ms\n",
      "962:\tlearn: 0.3140462\ttotal: 4.14s\tremaining: 159ms\n",
      "963:\tlearn: 0.3140058\ttotal: 4.14s\tremaining: 155ms\n",
      "964:\tlearn: 0.3139415\ttotal: 4.15s\tremaining: 150ms\n",
      "965:\tlearn: 0.3139159\ttotal: 4.15s\tremaining: 146ms\n",
      "966:\tlearn: 0.3139015\ttotal: 4.16s\tremaining: 142ms\n",
      "967:\tlearn: 0.3138694\ttotal: 4.16s\tremaining: 137ms\n",
      "968:\tlearn: 0.3138418\ttotal: 4.16s\tremaining: 133ms\n",
      "969:\tlearn: 0.3137996\ttotal: 4.17s\tremaining: 129ms\n",
      "970:\tlearn: 0.3137635\ttotal: 4.17s\tremaining: 125ms\n",
      "971:\tlearn: 0.3137470\ttotal: 4.17s\tremaining: 120ms\n",
      "972:\tlearn: 0.3136895\ttotal: 4.18s\tremaining: 116ms\n",
      "973:\tlearn: 0.3136464\ttotal: 4.18s\tremaining: 112ms\n",
      "974:\tlearn: 0.3136092\ttotal: 4.18s\tremaining: 107ms\n",
      "975:\tlearn: 0.3135960\ttotal: 4.19s\tremaining: 103ms\n",
      "976:\tlearn: 0.3135357\ttotal: 4.19s\tremaining: 98.7ms\n",
      "977:\tlearn: 0.3134844\ttotal: 4.2s\tremaining: 94.4ms\n",
      "978:\tlearn: 0.3134395\ttotal: 4.2s\tremaining: 90.1ms\n",
      "979:\tlearn: 0.3134156\ttotal: 4.2s\tremaining: 85.8ms\n",
      "980:\tlearn: 0.3134019\ttotal: 4.21s\tremaining: 81.5ms\n",
      "981:\tlearn: 0.3133689\ttotal: 4.21s\tremaining: 77.2ms\n",
      "982:\tlearn: 0.3133188\ttotal: 4.21s\tremaining: 72.9ms\n",
      "983:\tlearn: 0.3132693\ttotal: 4.22s\tremaining: 68.6ms\n",
      "984:\tlearn: 0.3132473\ttotal: 4.22s\tremaining: 64.3ms\n",
      "985:\tlearn: 0.3131443\ttotal: 4.22s\tremaining: 60ms\n"
     ]
    },
    {
     "name": "stdout",
     "output_type": "stream",
     "text": [
      "986:\tlearn: 0.3131242\ttotal: 4.23s\tremaining: 55.7ms\n",
      "987:\tlearn: 0.3130777\ttotal: 4.23s\tremaining: 51.4ms\n",
      "988:\tlearn: 0.3130449\ttotal: 4.24s\tremaining: 47.1ms\n",
      "989:\tlearn: 0.3130166\ttotal: 4.24s\tremaining: 42.9ms\n",
      "990:\tlearn: 0.3129445\ttotal: 4.25s\tremaining: 38.6ms\n",
      "991:\tlearn: 0.3129033\ttotal: 4.25s\tremaining: 34.3ms\n",
      "992:\tlearn: 0.3128671\ttotal: 4.25s\tremaining: 30ms\n",
      "993:\tlearn: 0.3128096\ttotal: 4.26s\tremaining: 25.7ms\n",
      "994:\tlearn: 0.3127904\ttotal: 4.26s\tremaining: 21.4ms\n",
      "995:\tlearn: 0.3127541\ttotal: 4.26s\tremaining: 17.1ms\n",
      "996:\tlearn: 0.3127401\ttotal: 4.27s\tremaining: 12.8ms\n",
      "997:\tlearn: 0.3126828\ttotal: 4.27s\tremaining: 8.56ms\n",
      "998:\tlearn: 0.3126316\ttotal: 4.28s\tremaining: 4.28ms\n",
      "999:\tlearn: 0.3125914\ttotal: 4.28s\tremaining: 0us\n"
     ]
    },
    {
     "data": {
      "text/plain": [
       "<catboost.core.CatBoostRegressor at 0x2199d7115b0>"
      ]
     },
     "execution_count": 110,
     "metadata": {},
     "output_type": "execute_result"
    }
   ],
   "source": [
    "model = CatBoostRegressor()\n",
    "model.fit(x_train_20, y_train_20)"
   ]
  },
  {
   "cell_type": "code",
   "execution_count": 111,
   "id": "d76be8b6",
   "metadata": {},
   "outputs": [
    {
     "name": "stdout",
     "output_type": "stream",
     "text": [
      "0.1859180325956261\n"
     ]
    }
   ],
   "source": [
    "y_pred_20 = model.predict(x_test_20)\n",
    "# Calculation of Mean Squared Error (MSE)\n",
    "mse = mean_squared_error(y_test_20, y_pred_20)\n",
    "print(mse)"
   ]
  },
  {
   "cell_type": "code",
   "execution_count": 112,
   "id": "f663aab7",
   "metadata": {},
   "outputs": [
    {
     "name": "stdout",
     "output_type": "stream",
     "text": [
      "0.2774647887323944\n"
     ]
    }
   ],
   "source": [
    "acc = accuracy_threshold(y_test_20, y_pred_20, 0.1)\n",
    "print(acc)"
   ]
  },
  {
   "cell_type": "code",
   "execution_count": 113,
   "id": "71f5ba51",
   "metadata": {},
   "outputs": [
    {
     "name": "stdout",
     "output_type": "stream",
     "text": [
      "Median Absolute Error:\n",
      "\n",
      "0.21359130471844345\n"
     ]
    }
   ],
   "source": [
    "median_se = np.square(np.subtract(y_test_20, y_pred_20)).median() \n",
    " \n",
    "med = math.sqrt(median_se)\n",
    "print(\"Median Absolute Error:\\n\")\n",
    "print(med)"
   ]
  },
  {
   "cell_type": "code",
   "execution_count": 114,
   "id": "0df8593f",
   "metadata": {},
   "outputs": [
    {
     "name": "stdout",
     "output_type": "stream",
     "text": [
      "Root Mean Square Error:\n",
      "\n",
      "0.4311821339012388\n"
     ]
    }
   ],
   "source": [
    "mean = np.square(np.subtract(y_test_20, y_pred_20)).mean() \n",
    " \n",
    "mean = math.sqrt(mean)\n",
    "print(\"Root Mean Square Error:\\n\")\n",
    "print(mean)"
   ]
  },
  {
   "cell_type": "code",
   "execution_count": 115,
   "id": "806840da",
   "metadata": {},
   "outputs": [
    {
     "name": "stdout",
     "output_type": "stream",
     "text": [
      "MAPE for CatBoost 2020 is: 0.02426124459478631\n"
     ]
    }
   ],
   "source": [
    "mape = mean_absolute_percentage_error(y_test_20, y_pred_20)\n",
    "print(\"MAPE for CatBoost 2020 is: \" + str(mape))"
   ]
  },
  {
   "cell_type": "code",
   "execution_count": 116,
   "id": "0d585c1e",
   "metadata": {},
   "outputs": [],
   "source": [
    "cnames=['Algorithm', 'Year', 'RMSE', 'MSE', 'MEDAE', 'Accuracy', 'MAPE']\n",
    "df2 = pd.DataFrame(columns=cnames)\n",
    "\n",
    "df2 = df2.append({'Algorithm': 'CatBoost',\n",
    "            'Year': 2020,\n",
    "           'RMSE': mean,\n",
    "           'MSE': mse,\n",
    "           'MEDAE': med,\n",
    "           'Accuracy': acc,\n",
    "           'MAPE': mape       \n",
    "          }, ignore_index=True)"
   ]
  },
  {
   "cell_type": "markdown",
   "id": "9e1bd141",
   "metadata": {},
   "source": [
    "### Bayesian Ridge"
   ]
  },
  {
   "cell_type": "markdown",
   "id": "1421f212",
   "metadata": {},
   "source": [
    "#### 2021"
   ]
  },
  {
   "cell_type": "code",
   "execution_count": 117,
   "id": "35158c1f",
   "metadata": {},
   "outputs": [],
   "source": [
    "from sklearn.linear_model import BayesianRidge, LinearRegression"
   ]
  },
  {
   "cell_type": "code",
   "execution_count": 118,
   "id": "00491334",
   "metadata": {},
   "outputs": [
    {
     "data": {
      "text/plain": [
       "BayesianRidge()"
      ]
     },
     "execution_count": 118,
     "metadata": {},
     "output_type": "execute_result"
    }
   ],
   "source": [
    "clf = BayesianRidge()\n",
    "clf.fit(x_train_21, y_train_21)"
   ]
  },
  {
   "cell_type": "code",
   "execution_count": 119,
   "id": "1380ed38",
   "metadata": {},
   "outputs": [
    {
     "name": "stdout",
     "output_type": "stream",
     "text": [
      "0.16871698918708097\n"
     ]
    }
   ],
   "source": [
    "y_pred_21 = clf.predict(x_test_21)\n",
    "# Calculation of Mean Squared Error (MSE)\n",
    "mse = mean_squared_error(y_test_21, y_pred_21)\n",
    "print(mse)"
   ]
  },
  {
   "cell_type": "code",
   "execution_count": 120,
   "id": "3a48b954",
   "metadata": {},
   "outputs": [
    {
     "name": "stdout",
     "output_type": "stream",
     "text": [
      "0.2572944297082228\n"
     ]
    }
   ],
   "source": [
    "acc = accuracy_threshold(y_test_21, y_pred_21, 0.1)\n",
    "print(acc)"
   ]
  },
  {
   "cell_type": "code",
   "execution_count": 121,
   "id": "e38bd984",
   "metadata": {},
   "outputs": [
    {
     "name": "stdout",
     "output_type": "stream",
     "text": [
      "Median Absolute Error:\n",
      "\n",
      "0.22300785442735216\n"
     ]
    }
   ],
   "source": [
    "median_se = np.square(np.subtract(y_test_21, y_pred_21)).median() \n",
    " \n",
    "med = math.sqrt(median_se)\n",
    "print(\"Median Absolute Error:\\n\")\n",
    "print(med)"
   ]
  },
  {
   "cell_type": "code",
   "execution_count": 122,
   "id": "5e38e2ed",
   "metadata": {},
   "outputs": [
    {
     "name": "stdout",
     "output_type": "stream",
     "text": [
      "Root Mean Square Error:\n",
      "\n",
      "0.4107517366817589\n"
     ]
    }
   ],
   "source": [
    "mean = np.square(np.subtract(y_test_21, y_pred_21)).mean() \n",
    " \n",
    "mean = math.sqrt(mean)\n",
    "print(\"Root Mean Square Error:\\n\")\n",
    "print(mean)"
   ]
  },
  {
   "cell_type": "code",
   "execution_count": 123,
   "id": "63f02c5c",
   "metadata": {},
   "outputs": [
    {
     "name": "stdout",
     "output_type": "stream",
     "text": [
      "MAPE for BayesianRidge 2021 is: 0.023701078503519546\n"
     ]
    }
   ],
   "source": [
    "mape = mean_absolute_percentage_error(y_test_21, y_pred_21)\n",
    "print(\"MAPE for BayesianRidge 2021 is: \" + str(mape))"
   ]
  },
  {
   "cell_type": "code",
   "execution_count": 124,
   "id": "9c1019b2",
   "metadata": {},
   "outputs": [],
   "source": [
    "cnames=['Algorithm', 'Year', 'RMSE', 'MSE', 'MEDAE', 'Accuracy', 'MAPE']\n",
    "df1 = pd.DataFrame(columns=cnames)\n",
    "\n",
    "df1 = df1.append({'Algorithm': 'Bayesian',\n",
    "            'Year': 2021,\n",
    "           'RMSE': mean,\n",
    "           'MSE': mse,\n",
    "           'MEDAE': med,\n",
    "           'Accuracy': acc,\n",
    "           'MAPE': mape       \n",
    "          }, ignore_index=True)"
   ]
  },
  {
   "cell_type": "markdown",
   "id": "bd4b02bb",
   "metadata": {},
   "source": [
    "#### 2020"
   ]
  },
  {
   "cell_type": "code",
   "execution_count": 125,
   "id": "583e22dc",
   "metadata": {},
   "outputs": [
    {
     "data": {
      "text/plain": [
       "BayesianRidge()"
      ]
     },
     "execution_count": 125,
     "metadata": {},
     "output_type": "execute_result"
    }
   ],
   "source": [
    "clf = BayesianRidge()\n",
    "clf.fit(x_train_20, y_train_20)"
   ]
  },
  {
   "cell_type": "code",
   "execution_count": 126,
   "id": "8db9cb3e",
   "metadata": {},
   "outputs": [
    {
     "name": "stdout",
     "output_type": "stream",
     "text": [
      "0.16246388496545325\n"
     ]
    }
   ],
   "source": [
    "y_pred_20 = clf.predict(x_test_20)\n",
    "# Calculation of Mean Squared Error (MSE)\n",
    "mse = mean_squared_error(y_test_20, y_pred_20)\n",
    "print(mse)"
   ]
  },
  {
   "cell_type": "code",
   "execution_count": 127,
   "id": "d52ba61f",
   "metadata": {},
   "outputs": [
    {
     "name": "stdout",
     "output_type": "stream",
     "text": [
      "0.29014084507042254\n"
     ]
    }
   ],
   "source": [
    "acc = accuracy_threshold(y_test_20, y_pred_20, 0.1)\n",
    "print(acc)"
   ]
  },
  {
   "cell_type": "code",
   "execution_count": 128,
   "id": "d4500d2d",
   "metadata": {},
   "outputs": [
    {
     "name": "stdout",
     "output_type": "stream",
     "text": [
      "Median Absolute Error:\n",
      "\n",
      "0.18427433457580555\n"
     ]
    }
   ],
   "source": [
    "median_se = np.square(np.subtract(y_test_20, y_pred_20)).median() \n",
    " \n",
    "med = math.sqrt(median_se)\n",
    "print(\"Median Absolute Error:\\n\")\n",
    "print(med)"
   ]
  },
  {
   "cell_type": "code",
   "execution_count": 129,
   "id": "ce5624d8",
   "metadata": {},
   "outputs": [
    {
     "name": "stdout",
     "output_type": "stream",
     "text": [
      "Root Mean Square Error:\n",
      "\n",
      "0.4030680897385124\n"
     ]
    }
   ],
   "source": [
    "mean = np.square(np.subtract(y_test_20, y_pred_20)).mean() \n",
    " \n",
    "mean = math.sqrt(mean)\n",
    "print(\"Root Mean Square Error:\\n\")\n",
    "print(mean)"
   ]
  },
  {
   "cell_type": "code",
   "execution_count": 130,
   "id": "47802a1e",
   "metadata": {},
   "outputs": [
    {
     "name": "stdout",
     "output_type": "stream",
     "text": [
      "MAPE for BayesianRidge 2021 is: 0.022550674637362572\n"
     ]
    }
   ],
   "source": [
    "mape = mean_absolute_percentage_error(y_test_20, y_pred_20)\n",
    "print(\"MAPE for BayesianRidge 2021 is: \" + str(mape))"
   ]
  },
  {
   "cell_type": "code",
   "execution_count": 131,
   "id": "8c6caf77",
   "metadata": {},
   "outputs": [],
   "source": [
    "cnames=['Algorithm', 'Year', 'RMSE', 'MSE', 'MEDAE', 'Accuracy', 'MAPE']\n",
    "df = pd.DataFrame(columns=cnames)\n",
    "\n",
    "df = df.append({'Algorithm': 'Bayesian',\n",
    "           'Year': 2020,\n",
    "           'RMSE': mean,\n",
    "           'MSE': mse,\n",
    "           'MEDAE': med,\n",
    "           'Accuracy': acc,\n",
    "           'MAPE': mape     \n",
    "          }, ignore_index=True)"
   ]
  },
  {
   "cell_type": "code",
   "execution_count": 132,
   "id": "001ed65f",
   "metadata": {},
   "outputs": [],
   "source": [
    "vis = pd.concat([df, df1, df2, df3, df4, df5, df6, df7, df8, df9, df10, df11], ignore_index=True)"
   ]
  },
  {
   "cell_type": "markdown",
   "id": "ebe84e60",
   "metadata": {},
   "source": [
    "## Let's test on more years of data now\n",
    "### 2019"
   ]
  },
  {
   "cell_type": "code",
   "execution_count": 133,
   "id": "a28e082d",
   "metadata": {},
   "outputs": [],
   "source": [
    "specific19 = irl[irl['Year'] > 2015]"
   ]
  },
  {
   "cell_type": "code",
   "execution_count": 134,
   "id": "8f1319f8",
   "metadata": {},
   "outputs": [],
   "source": [
    "test_19 = specific19[specific19['Year'] == 2019]\n",
    "train_19 = specific19[specific19['Year'] < 2019]\n",
    "\n",
    "#train_19 = train_19.sample(n = 80000)\n",
    "#test_19 = test_19.sample(n = 20000)"
   ]
  },
  {
   "cell_type": "code",
   "execution_count": 135,
   "id": "8417a368",
   "metadata": {},
   "outputs": [],
   "source": [
    "x_train_19 = train_19.loc[:, train_19.columns != 'LogPrice (€)']\n",
    "y_train_19 = train_19['LogPrice (€)']\n",
    "x_test_19 = test_19.loc[:, test_19.columns != 'LogPrice (€)']\n",
    "y_test_19 = test_19['LogPrice (€)']"
   ]
  },
  {
   "cell_type": "code",
   "execution_count": 136,
   "id": "e8a9594b",
   "metadata": {},
   "outputs": [],
   "source": [
    "#x_train_19.drop(columns=['Year'], inplace = True)\n",
    "#x_test_19.drop(columns=['Year'], inplace = True)"
   ]
  },
  {
   "cell_type": "markdown",
   "id": "c3a2cce4",
   "metadata": {},
   "source": [
    "#### AutoML"
   ]
  },
  {
   "cell_type": "code",
   "execution_count": 137,
   "id": "4828a079",
   "metadata": {},
   "outputs": [
    {
     "name": "stdout",
     "output_type": "stream",
     "text": [
      "AutoML directory: AutoML_3\n",
      "The task is regression with evaluation metric rmse\n",
      "AutoML will use algorithms: ['Baseline', 'Linear', 'Decision Tree', 'Random Forest', 'Xgboost', 'Neural Network']\n",
      "AutoML will ensemble available models\n",
      "AutoML steps: ['simple_algorithms', 'default_algorithms', 'ensemble']\n",
      "* Step simple_algorithms will try to check up to 3 models\n",
      "1_Baseline rmse 0.547225 trained in 1.15 seconds\n",
      "2_DecisionTree rmse 0.427907 trained in 8.11 seconds\n",
      "3_Linear rmse 0.428182 trained in 10.16 seconds\n",
      "* Step default_algorithms will try to check up to 3 models\n",
      "4_Default_Xgboost rmse 0.417663 trained in 10.14 seconds\n",
      "5_Default_NeuralNetwork rmse 0.41857 trained in 3.15 seconds\n",
      "6_Default_RandomForest rmse 0.420972 trained in 7.98 seconds\n",
      "* Step ensemble will try to check up to 1 model\n",
      "Ensemble rmse 0.413723 trained in 0.71 seconds\n",
      "AutoML fit time: 65.74 seconds\n",
      "AutoML best model: Ensemble\n"
     ]
    },
    {
     "data": {
      "text/plain": [
       "AutoML(explain_level=2, total_time_limit=300)"
      ]
     },
     "execution_count": 137,
     "metadata": {},
     "output_type": "execute_result"
    }
   ],
   "source": [
    "automl = AutoML(total_time_limit = 5 * 60, explain_level = 2)\n",
    "automl.fit(x_train_19, y_train_19)"
   ]
  },
  {
   "cell_type": "code",
   "execution_count": 138,
   "id": "b4537cbc",
   "metadata": {},
   "outputs": [
    {
     "name": "stdout",
     "output_type": "stream",
     "text": [
      "MSE for AutoML 2019 is: 0.16601406489043188\n"
     ]
    }
   ],
   "source": [
    "y_pred_19 = automl.predict(x_test_19)\n",
    "# Calculation of Mean Squared Error (MSE)\n",
    "mse = mean_squared_error(y_test_19, y_pred_19)\n",
    "print('MSE for AutoML 2019 is: ' + str(mse))"
   ]
  },
  {
   "cell_type": "code",
   "execution_count": 139,
   "id": "f339b06f",
   "metadata": {},
   "outputs": [
    {
     "name": "stdout",
     "output_type": "stream",
     "text": [
      "Accuracy of properties at +- 10% of actual prices is 0.30445859872611464\n"
     ]
    }
   ],
   "source": [
    "acc = accuracy_threshold(y_test_19, y_pred_19, 0.1)\n",
    "print('Accuracy of properties at +- 10% of actual prices is ' + str(acc))"
   ]
  },
  {
   "cell_type": "code",
   "execution_count": 140,
   "id": "c4efa50f",
   "metadata": {},
   "outputs": [
    {
     "name": "stdout",
     "output_type": "stream",
     "text": [
      "RMSE for AutoML 2019 is: 0.4074482358415997\n"
     ]
    }
   ],
   "source": [
    "rmse = mean_squared_error(y_test_19, y_pred_19, squared=False)\n",
    "print('RMSE for AutoML 2019 is: ' + str(rmse))"
   ]
  },
  {
   "cell_type": "code",
   "execution_count": 141,
   "id": "27785851",
   "metadata": {},
   "outputs": [
    {
     "name": "stdout",
     "output_type": "stream",
     "text": [
      "Median Absolute Error:\n",
      "\n",
      "0.19200867526915566\n"
     ]
    }
   ],
   "source": [
    "median_se = np.square(np.subtract(y_test_19, y_pred_19)).median() \n",
    " \n",
    "med = math.sqrt(median_se)\n",
    "print(\"Median Absolute Error:\\n\")\n",
    "print(med)"
   ]
  },
  {
   "cell_type": "code",
   "execution_count": 142,
   "id": "6f9d464d",
   "metadata": {},
   "outputs": [
    {
     "name": "stdout",
     "output_type": "stream",
     "text": [
      "MAPE for AutoML 2019 is: 0.022737289021883083\n"
     ]
    }
   ],
   "source": [
    "mape = mean_absolute_percentage_error(y_test_19, y_pred_19)\n",
    "print(\"MAPE for AutoML 2019 is: \" + str(mape))"
   ]
  },
  {
   "cell_type": "code",
   "execution_count": 143,
   "id": "8721e6a7",
   "metadata": {},
   "outputs": [],
   "source": [
    "cnames = ['Algorithm', 'Year', 'RMSE', 'MSE', 'MEDAE', 'Accuracy', 'MAPE']\n",
    "df12 = pd.DataFrame(columns = cnames)\n",
    "\n",
    "df12 = df12.append({'Algorithm': 'AutoML',\n",
    "           'Year': 2019,\n",
    "           'RMSE': rmse,\n",
    "           'MSE': mse,\n",
    "           'MEDAE': med,\n",
    "           'Accuracy': acc,\n",
    "           'MAPE': mape         \n",
    "          }, ignore_index = True)"
   ]
  },
  {
   "cell_type": "code",
   "execution_count": 144,
   "id": "3d0997f5",
   "metadata": {},
   "outputs": [],
   "source": [
    "#cnames = ['Actual', 'Predicted']\n",
    "#dfreal3 = pd.DataFrame(columns = cnames)\n",
    "dfreal3 = pd.DataFrame(y_test_19.values)\n",
    "dfpred3 = pd.DataFrame(y_pred_19)\n",
    "#dfreal3 = pd.concat([z1, z2], ignore_index=True)"
   ]
  },
  {
   "cell_type": "markdown",
   "id": "ca2efb79",
   "metadata": {},
   "source": [
    "### MLR"
   ]
  },
  {
   "cell_type": "code",
   "execution_count": 145,
   "id": "275ddaff",
   "metadata": {},
   "outputs": [
    {
     "name": "stdout",
     "output_type": "stream",
     "text": [
      "MSE for MLR 2019 is: 0.15276759548263266\n"
     ]
    }
   ],
   "source": [
    "lm = linear_model.LinearRegression()\n",
    "lm.fit(x_train_19, y_train_19) # fitting the model\n",
    "y_pred_19 = lm.predict(x_test_19)\n",
    "# Calculation of Mean Squared Error (MSE)\n",
    "mse = mean_squared_error(y_test_19, y_pred_19)\n",
    "print('MSE for MLR 2019 is: ' + str(mse))"
   ]
  },
  {
   "cell_type": "code",
   "execution_count": 146,
   "id": "7b81a829",
   "metadata": {},
   "outputs": [
    {
     "name": "stdout",
     "output_type": "stream",
     "text": [
      "RMSE for MLR 2019 is: 0.3908549545325384\n"
     ]
    }
   ],
   "source": [
    "rmse = mean_squared_error(y_test_19, y_pred_19, squared = False)\n",
    "print('RMSE for MLR 2019 is: ' + str(rmse))"
   ]
  },
  {
   "cell_type": "code",
   "execution_count": 147,
   "id": "667a1d99",
   "metadata": {},
   "outputs": [
    {
     "name": "stdout",
     "output_type": "stream",
     "text": [
      "Median Absolute Error:\n",
      "\n",
      "0.1827506972722901\n"
     ]
    }
   ],
   "source": [
    "median_se = np.square(np.subtract(y_test_19, y_pred_19)).median() \n",
    " \n",
    "med = math.sqrt(median_se)\n",
    "print(\"Median Absolute Error:\\n\")\n",
    "print(med)"
   ]
  },
  {
   "cell_type": "code",
   "execution_count": 148,
   "id": "7677f5ef",
   "metadata": {},
   "outputs": [
    {
     "name": "stdout",
     "output_type": "stream",
     "text": [
      "Accuracy of properties at +- 10% of actual prices is 0.2789808917197452\n"
     ]
    }
   ],
   "source": [
    "acc = accuracy_threshold(y_test_19, y_pred_19, 0.1)\n",
    "print('Accuracy of properties at +- 10% of actual prices is ' + str(acc))"
   ]
  },
  {
   "cell_type": "code",
   "execution_count": 149,
   "id": "bf56c4b5",
   "metadata": {},
   "outputs": [
    {
     "name": "stdout",
     "output_type": "stream",
     "text": [
      "MAPE for MLR 2021 is: 0.02197829547710566\n"
     ]
    }
   ],
   "source": [
    "mape = mean_absolute_percentage_error(y_test_19, y_pred_19)\n",
    "print(\"MAPE for MLR 2021 is: \" + str(mape))"
   ]
  },
  {
   "cell_type": "code",
   "execution_count": 150,
   "id": "73c874fe",
   "metadata": {},
   "outputs": [],
   "source": [
    "cnames = ['Algorithm', 'Year', 'RMSE', 'MSE', 'MEDAE', 'Accuracy', 'MAPE']\n",
    "df13 = pd.DataFrame(columns = cnames)\n",
    "\n",
    "df13 = df13.append({'Algorithm': 'MLR',\n",
    "           'Year': 2019,\n",
    "           'RMSE': rmse,\n",
    "           'MSE': mse,\n",
    "           'MEDAE': med,\n",
    "           'Accuracy': acc,\n",
    "           'MAPE': mape         \n",
    "          }, ignore_index = True)"
   ]
  },
  {
   "cell_type": "markdown",
   "id": "7d2dfd92",
   "metadata": {},
   "source": [
    "### AdaBoost"
   ]
  },
  {
   "cell_type": "code",
   "execution_count": 151,
   "id": "38c87d78",
   "metadata": {},
   "outputs": [
    {
     "name": "stdout",
     "output_type": "stream",
     "text": [
      "MSE for AdaBoost 2019 is: 0.17568832168891746\n"
     ]
    }
   ],
   "source": [
    "model = AdaBoostRegressor()\n",
    "model.fit(x_train_19, y_train_19)\n",
    "y_pred_19 = model.predict(x_test_19)\n",
    "# Calculation of Mean Squared Error (MSE)\n",
    "mse = mean_squared_error(y_test_19, y_pred_19)\n",
    "print('MSE for AdaBoost 2019 is: ' + str(mse))"
   ]
  },
  {
   "cell_type": "code",
   "execution_count": 152,
   "id": "74084674",
   "metadata": {},
   "outputs": [
    {
     "name": "stdout",
     "output_type": "stream",
     "text": [
      "RMSE for MLR 2019 is: 0.41915190765272375\n"
     ]
    }
   ],
   "source": [
    "rmse = mean_squared_error(y_test_19, y_pred_19, squared = False)\n",
    "print('RMSE for MLR 2019 is: ' + str(rmse))"
   ]
  },
  {
   "cell_type": "code",
   "execution_count": 153,
   "id": "1ad6d4b4",
   "metadata": {},
   "outputs": [
    {
     "name": "stdout",
     "output_type": "stream",
     "text": [
      "Median Absolute Error:\n",
      "\n",
      "0.22787014197737854\n"
     ]
    }
   ],
   "source": [
    "median_se = np.square(np.subtract(y_test_19, y_pred_19)).median() \n",
    " \n",
    "med = math.sqrt(median_se)\n",
    "print(\"Median Absolute Error:\\n\")\n",
    "print(med)"
   ]
  },
  {
   "cell_type": "code",
   "execution_count": 154,
   "id": "8597e974",
   "metadata": {},
   "outputs": [
    {
     "name": "stdout",
     "output_type": "stream",
     "text": [
      "Accuracy of properties at +- 10% of actual prices is 0.25477707006369427\n"
     ]
    }
   ],
   "source": [
    "acc = accuracy_threshold(y_test_19, y_pred_19, 0.1)\n",
    "print('Accuracy of properties at +- 10% of actual prices is ' + str(acc))"
   ]
  },
  {
   "cell_type": "code",
   "execution_count": 155,
   "id": "c6d16020",
   "metadata": {},
   "outputs": [
    {
     "name": "stdout",
     "output_type": "stream",
     "text": [
      "MAPE for AdaBoost 2019 is: 0.024522884179692984\n"
     ]
    }
   ],
   "source": [
    "mape = mean_absolute_percentage_error(y_test_19, y_pred_19)\n",
    "print(\"MAPE for AdaBoost 2019 is: \" + str(mape))"
   ]
  },
  {
   "cell_type": "code",
   "execution_count": 156,
   "id": "e1bef803",
   "metadata": {},
   "outputs": [],
   "source": [
    "cnames = ['Algorithm', 'Year', 'RMSE', 'MSE', 'MEDAE', 'Accuracy', 'MAPE']\n",
    "df14 = pd.DataFrame(columns = cnames)\n",
    "\n",
    "df14 = df14.append({'Algorithm': 'AdaBoost',\n",
    "           'Year': 2019,\n",
    "           'RMSE': rmse,\n",
    "           'MSE': mse,\n",
    "           'MEDAE': med,\n",
    "           'Accuracy': acc,\n",
    "           'MAPE': mape         \n",
    "          }, ignore_index = True)"
   ]
  },
  {
   "cell_type": "markdown",
   "id": "1938ea84",
   "metadata": {},
   "source": [
    "### LightGBM"
   ]
  },
  {
   "cell_type": "code",
   "execution_count": 157,
   "id": "32f45b77",
   "metadata": {},
   "outputs": [
    {
     "name": "stdout",
     "output_type": "stream",
     "text": [
      "MSE for LightGBM 2019 is: 0.16995028046239816\n"
     ]
    }
   ],
   "source": [
    "model = LGBMRegressor()\n",
    "model.fit(x_train_19, y_train_19)\n",
    "y_pred_19 = model.predict(x_test_19)\n",
    "# Calculation of Mean Squared Error (MSE)\n",
    "mse = mean_squared_error(y_test_19, y_pred_19)\n",
    "print('MSE for LightGBM 2019 is: ' + str(mse))"
   ]
  },
  {
   "cell_type": "code",
   "execution_count": 158,
   "id": "5b08f229",
   "metadata": {},
   "outputs": [
    {
     "name": "stdout",
     "output_type": "stream",
     "text": [
      "RMSE for LightGBM 2019 is: 0.41225026435697787\n"
     ]
    }
   ],
   "source": [
    "rmse = mean_squared_error(y_test_19, y_pred_19, squared = False)\n",
    "print('RMSE for LightGBM 2019 is: ' + str(rmse))"
   ]
  },
  {
   "cell_type": "code",
   "execution_count": 159,
   "id": "6e81490b",
   "metadata": {},
   "outputs": [
    {
     "name": "stdout",
     "output_type": "stream",
     "text": [
      "Median Absolute Error:\n",
      "\n",
      "0.2065759051811984\n"
     ]
    }
   ],
   "source": [
    "median_se = np.square(np.subtract(y_test_19, y_pred_19)).median() \n",
    " \n",
    "med = math.sqrt(median_se)\n",
    "print(\"Median Absolute Error:\\n\")\n",
    "print(med)"
   ]
  },
  {
   "cell_type": "code",
   "execution_count": 160,
   "id": "620c3251",
   "metadata": {},
   "outputs": [
    {
     "name": "stdout",
     "output_type": "stream",
     "text": [
      "Accuracy of properties at +- 10% of actual prices is 0.28280254777070063\n"
     ]
    }
   ],
   "source": [
    "acc = accuracy_threshold(y_test_19, y_pred_19, 0.1)\n",
    "print('Accuracy of properties at +- 10% of actual prices is ' + str(acc))"
   ]
  },
  {
   "cell_type": "code",
   "execution_count": 161,
   "id": "8bab1881",
   "metadata": {},
   "outputs": [
    {
     "name": "stdout",
     "output_type": "stream",
     "text": [
      "MAPE for LightGBM 2019 is: 0.023678733523521296\n"
     ]
    }
   ],
   "source": [
    "mape = mean_absolute_percentage_error(y_test_19, y_pred_19)\n",
    "print(\"MAPE for LightGBM 2019 is: \" + str(mape))"
   ]
  },
  {
   "cell_type": "code",
   "execution_count": 162,
   "id": "68e44550",
   "metadata": {},
   "outputs": [],
   "source": [
    "cnames = ['Algorithm', 'Year', 'RMSE', 'MSE', 'MEDAE', 'Accuracy', 'MAPE']\n",
    "df15 = pd.DataFrame(columns = cnames)\n",
    "\n",
    "df15 = df15.append({'Algorithm': 'LightGBM',\n",
    "           'Year': 2019,\n",
    "           'RMSE': rmse,\n",
    "           'MSE': mse,\n",
    "           'MEDAE': med,\n",
    "           'Accuracy': acc,\n",
    "           'MAPE': mape         \n",
    "          }, ignore_index = True)"
   ]
  },
  {
   "cell_type": "markdown",
   "id": "0c32398d",
   "metadata": {},
   "source": [
    "### CatBoost"
   ]
  },
  {
   "cell_type": "code",
   "execution_count": 163,
   "id": "18c72840",
   "metadata": {},
   "outputs": [
    {
     "name": "stdout",
     "output_type": "stream",
     "text": [
      "Learning rate set to 0.047744\n",
      "0:\tlearn: 0.5436265\ttotal: 4.86ms\tremaining: 4.86s\n",
      "1:\tlearn: 0.5348743\ttotal: 9.37ms\tremaining: 4.67s\n",
      "2:\tlearn: 0.5268581\ttotal: 14.5ms\tremaining: 4.83s\n",
      "3:\tlearn: 0.5187712\ttotal: 19ms\tremaining: 4.72s\n",
      "4:\tlearn: 0.5112461\ttotal: 23.6ms\tremaining: 4.71s\n",
      "5:\tlearn: 0.5042733\ttotal: 28.1ms\tremaining: 4.65s\n",
      "6:\tlearn: 0.4982853\ttotal: 32.2ms\tremaining: 4.57s\n",
      "7:\tlearn: 0.4921202\ttotal: 36.6ms\tremaining: 4.54s\n",
      "8:\tlearn: 0.4864799\ttotal: 42.3ms\tremaining: 4.66s\n",
      "9:\tlearn: 0.4812565\ttotal: 48.1ms\tremaining: 4.76s\n",
      "10:\tlearn: 0.4762063\ttotal: 52.7ms\tremaining: 4.74s\n",
      "11:\tlearn: 0.4719535\ttotal: 57.9ms\tremaining: 4.77s\n",
      "12:\tlearn: 0.4678867\ttotal: 62.5ms\tremaining: 4.75s\n",
      "13:\tlearn: 0.4639807\ttotal: 66.6ms\tremaining: 4.69s\n",
      "14:\tlearn: 0.4604005\ttotal: 71ms\tremaining: 4.66s\n",
      "15:\tlearn: 0.4567971\ttotal: 75.3ms\tremaining: 4.63s\n",
      "16:\tlearn: 0.4537755\ttotal: 79ms\tremaining: 4.57s\n",
      "17:\tlearn: 0.4508260\ttotal: 82.7ms\tremaining: 4.51s\n",
      "18:\tlearn: 0.4482649\ttotal: 87.8ms\tremaining: 4.53s\n",
      "19:\tlearn: 0.4456114\ttotal: 92.9ms\tremaining: 4.55s\n",
      "20:\tlearn: 0.4433418\ttotal: 95.6ms\tremaining: 4.46s\n",
      "21:\tlearn: 0.4413046\ttotal: 100ms\tremaining: 4.46s\n",
      "22:\tlearn: 0.4393280\ttotal: 104ms\tremaining: 4.43s\n",
      "23:\tlearn: 0.4371248\ttotal: 108ms\tremaining: 4.38s\n",
      "24:\tlearn: 0.4353242\ttotal: 112ms\tremaining: 4.35s\n",
      "25:\tlearn: 0.4334599\ttotal: 115ms\tremaining: 4.32s\n",
      "26:\tlearn: 0.4318642\ttotal: 120ms\tremaining: 4.33s\n",
      "27:\tlearn: 0.4302636\ttotal: 124ms\tremaining: 4.31s\n",
      "28:\tlearn: 0.4287354\ttotal: 129ms\tremaining: 4.31s\n",
      "29:\tlearn: 0.4272450\ttotal: 133ms\tremaining: 4.3s\n",
      "30:\tlearn: 0.4260105\ttotal: 138ms\tremaining: 4.3s\n",
      "31:\tlearn: 0.4246874\ttotal: 142ms\tremaining: 4.3s\n",
      "32:\tlearn: 0.4237190\ttotal: 147ms\tremaining: 4.3s\n",
      "33:\tlearn: 0.4225110\ttotal: 151ms\tremaining: 4.3s\n",
      "34:\tlearn: 0.4213939\ttotal: 159ms\tremaining: 4.37s\n",
      "35:\tlearn: 0.4205331\ttotal: 164ms\tremaining: 4.39s\n",
      "36:\tlearn: 0.4194613\ttotal: 169ms\tremaining: 4.39s\n",
      "37:\tlearn: 0.4186117\ttotal: 173ms\tremaining: 4.39s\n",
      "38:\tlearn: 0.4178233\ttotal: 179ms\tremaining: 4.41s\n",
      "39:\tlearn: 0.4169537\ttotal: 183ms\tremaining: 4.39s\n",
      "40:\tlearn: 0.4159189\ttotal: 188ms\tremaining: 4.38s\n",
      "41:\tlearn: 0.4151472\ttotal: 192ms\tremaining: 4.38s\n",
      "42:\tlearn: 0.4143281\ttotal: 196ms\tremaining: 4.36s\n",
      "43:\tlearn: 0.4134786\ttotal: 200ms\tremaining: 4.34s\n",
      "44:\tlearn: 0.4127964\ttotal: 203ms\tremaining: 4.31s\n",
      "45:\tlearn: 0.4120519\ttotal: 207ms\tremaining: 4.3s\n",
      "46:\tlearn: 0.4114135\ttotal: 212ms\tremaining: 4.3s\n",
      "47:\tlearn: 0.4106911\ttotal: 217ms\tremaining: 4.3s\n",
      "48:\tlearn: 0.4101882\ttotal: 221ms\tremaining: 4.29s\n",
      "49:\tlearn: 0.4096984\ttotal: 226ms\tremaining: 4.29s\n",
      "50:\tlearn: 0.4091701\ttotal: 230ms\tremaining: 4.27s\n",
      "51:\tlearn: 0.4087277\ttotal: 233ms\tremaining: 4.25s\n",
      "52:\tlearn: 0.4082370\ttotal: 237ms\tremaining: 4.23s\n",
      "53:\tlearn: 0.4076445\ttotal: 242ms\tremaining: 4.23s\n",
      "54:\tlearn: 0.4071370\ttotal: 250ms\tremaining: 4.29s\n",
      "55:\tlearn: 0.4066326\ttotal: 257ms\tremaining: 4.33s\n",
      "56:\tlearn: 0.4059556\ttotal: 264ms\tremaining: 4.36s\n",
      "57:\tlearn: 0.4053438\ttotal: 271ms\tremaining: 4.39s\n",
      "58:\tlearn: 0.4048285\ttotal: 281ms\tremaining: 4.49s\n",
      "59:\tlearn: 0.4043495\ttotal: 289ms\tremaining: 4.52s\n",
      "60:\tlearn: 0.4039661\ttotal: 296ms\tremaining: 4.56s\n",
      "61:\tlearn: 0.4036066\ttotal: 301ms\tremaining: 4.56s\n",
      "62:\tlearn: 0.4031558\ttotal: 306ms\tremaining: 4.55s\n",
      "63:\tlearn: 0.4027267\ttotal: 311ms\tremaining: 4.54s\n",
      "64:\tlearn: 0.4022275\ttotal: 316ms\tremaining: 4.54s\n",
      "65:\tlearn: 0.4019128\ttotal: 320ms\tremaining: 4.53s\n",
      "66:\tlearn: 0.4016540\ttotal: 326ms\tremaining: 4.53s\n",
      "67:\tlearn: 0.4013768\ttotal: 332ms\tremaining: 4.55s\n",
      "68:\tlearn: 0.4009842\ttotal: 337ms\tremaining: 4.54s\n",
      "69:\tlearn: 0.4007369\ttotal: 345ms\tremaining: 4.59s\n",
      "70:\tlearn: 0.4004146\ttotal: 354ms\tremaining: 4.64s\n",
      "71:\tlearn: 0.4001537\ttotal: 360ms\tremaining: 4.64s\n",
      "72:\tlearn: 0.3998617\ttotal: 365ms\tremaining: 4.63s\n",
      "73:\tlearn: 0.3996512\ttotal: 371ms\tremaining: 4.64s\n",
      "74:\tlearn: 0.3992505\ttotal: 378ms\tremaining: 4.66s\n",
      "75:\tlearn: 0.3990457\ttotal: 383ms\tremaining: 4.66s\n",
      "76:\tlearn: 0.3988060\ttotal: 390ms\tremaining: 4.68s\n",
      "77:\tlearn: 0.3985028\ttotal: 397ms\tremaining: 4.69s\n",
      "78:\tlearn: 0.3981705\ttotal: 402ms\tremaining: 4.69s\n",
      "79:\tlearn: 0.3979636\ttotal: 407ms\tremaining: 4.68s\n",
      "80:\tlearn: 0.3974785\ttotal: 411ms\tremaining: 4.66s\n",
      "81:\tlearn: 0.3971249\ttotal: 416ms\tremaining: 4.66s\n",
      "82:\tlearn: 0.3968503\ttotal: 422ms\tremaining: 4.66s\n",
      "83:\tlearn: 0.3965698\ttotal: 426ms\tremaining: 4.65s\n",
      "84:\tlearn: 0.3962483\ttotal: 431ms\tremaining: 4.63s\n",
      "85:\tlearn: 0.3960248\ttotal: 437ms\tremaining: 4.64s\n",
      "86:\tlearn: 0.3956046\ttotal: 441ms\tremaining: 4.62s\n",
      "87:\tlearn: 0.3952107\ttotal: 445ms\tremaining: 4.61s\n",
      "88:\tlearn: 0.3949897\ttotal: 450ms\tremaining: 4.6s\n",
      "89:\tlearn: 0.3947837\ttotal: 453ms\tremaining: 4.58s\n",
      "90:\tlearn: 0.3945269\ttotal: 457ms\tremaining: 4.57s\n",
      "91:\tlearn: 0.3942028\ttotal: 461ms\tremaining: 4.55s\n",
      "92:\tlearn: 0.3939493\ttotal: 465ms\tremaining: 4.53s\n",
      "93:\tlearn: 0.3936980\ttotal: 469ms\tremaining: 4.52s\n",
      "94:\tlearn: 0.3934579\ttotal: 472ms\tremaining: 4.5s\n",
      "95:\tlearn: 0.3931138\ttotal: 476ms\tremaining: 4.48s\n",
      "96:\tlearn: 0.3928912\ttotal: 480ms\tremaining: 4.47s\n",
      "97:\tlearn: 0.3926039\ttotal: 484ms\tremaining: 4.45s\n",
      "98:\tlearn: 0.3923930\ttotal: 487ms\tremaining: 4.43s\n",
      "99:\tlearn: 0.3921411\ttotal: 491ms\tremaining: 4.42s\n",
      "100:\tlearn: 0.3919756\ttotal: 495ms\tremaining: 4.4s\n",
      "101:\tlearn: 0.3917007\ttotal: 499ms\tremaining: 4.39s\n",
      "102:\tlearn: 0.3914487\ttotal: 503ms\tremaining: 4.38s\n",
      "103:\tlearn: 0.3913122\ttotal: 510ms\tremaining: 4.4s\n",
      "104:\tlearn: 0.3911559\ttotal: 514ms\tremaining: 4.38s\n",
      "105:\tlearn: 0.3909468\ttotal: 519ms\tremaining: 4.38s\n",
      "106:\tlearn: 0.3907219\ttotal: 525ms\tremaining: 4.38s\n",
      "107:\tlearn: 0.3903717\ttotal: 530ms\tremaining: 4.38s\n",
      "108:\tlearn: 0.3902935\ttotal: 535ms\tremaining: 4.37s\n",
      "109:\tlearn: 0.3900219\ttotal: 540ms\tremaining: 4.37s\n",
      "110:\tlearn: 0.3897400\ttotal: 544ms\tremaining: 4.36s\n",
      "111:\tlearn: 0.3896171\ttotal: 549ms\tremaining: 4.35s\n",
      "112:\tlearn: 0.3894623\ttotal: 553ms\tremaining: 4.34s\n",
      "113:\tlearn: 0.3892018\ttotal: 558ms\tremaining: 4.33s\n",
      "114:\tlearn: 0.3889771\ttotal: 563ms\tremaining: 4.33s\n",
      "115:\tlearn: 0.3886414\ttotal: 567ms\tremaining: 4.32s\n",
      "116:\tlearn: 0.3884413\ttotal: 573ms\tremaining: 4.32s\n",
      "117:\tlearn: 0.3882605\ttotal: 578ms\tremaining: 4.32s\n",
      "118:\tlearn: 0.3880120\ttotal: 583ms\tremaining: 4.32s\n",
      "119:\tlearn: 0.3878022\ttotal: 589ms\tremaining: 4.32s\n",
      "120:\tlearn: 0.3876165\ttotal: 593ms\tremaining: 4.31s\n",
      "121:\tlearn: 0.3873489\ttotal: 602ms\tremaining: 4.33s\n",
      "122:\tlearn: 0.3872024\ttotal: 609ms\tremaining: 4.34s\n",
      "123:\tlearn: 0.3870491\ttotal: 615ms\tremaining: 4.35s\n",
      "124:\tlearn: 0.3868649\ttotal: 621ms\tremaining: 4.35s\n",
      "125:\tlearn: 0.3867378\ttotal: 626ms\tremaining: 4.34s\n",
      "126:\tlearn: 0.3865079\ttotal: 634ms\tremaining: 4.36s\n",
      "127:\tlearn: 0.3862674\ttotal: 640ms\tremaining: 4.36s\n",
      "128:\tlearn: 0.3860422\ttotal: 646ms\tremaining: 4.36s\n",
      "129:\tlearn: 0.3859126\ttotal: 651ms\tremaining: 4.35s\n",
      "130:\tlearn: 0.3857594\ttotal: 656ms\tremaining: 4.35s\n",
      "131:\tlearn: 0.3855975\ttotal: 661ms\tremaining: 4.35s\n",
      "132:\tlearn: 0.3853960\ttotal: 666ms\tremaining: 4.34s\n",
      "133:\tlearn: 0.3852844\ttotal: 671ms\tremaining: 4.34s\n",
      "134:\tlearn: 0.3851376\ttotal: 680ms\tremaining: 4.35s\n",
      "135:\tlearn: 0.3850149\ttotal: 684ms\tremaining: 4.34s\n",
      "136:\tlearn: 0.3848496\ttotal: 689ms\tremaining: 4.34s\n",
      "137:\tlearn: 0.3847042\ttotal: 695ms\tremaining: 4.34s\n",
      "138:\tlearn: 0.3844834\ttotal: 700ms\tremaining: 4.34s\n",
      "139:\tlearn: 0.3841482\ttotal: 712ms\tremaining: 4.37s\n",
      "140:\tlearn: 0.3839520\ttotal: 719ms\tremaining: 4.38s\n",
      "141:\tlearn: 0.3837413\ttotal: 727ms\tremaining: 4.39s\n",
      "142:\tlearn: 0.3834817\ttotal: 737ms\tremaining: 4.42s\n",
      "143:\tlearn: 0.3833166\ttotal: 745ms\tremaining: 4.43s\n",
      "144:\tlearn: 0.3832239\ttotal: 754ms\tremaining: 4.44s\n",
      "145:\tlearn: 0.3830517\ttotal: 762ms\tremaining: 4.46s\n",
      "146:\tlearn: 0.3829443\ttotal: 769ms\tremaining: 4.46s\n",
      "147:\tlearn: 0.3828444\ttotal: 775ms\tremaining: 4.46s\n",
      "148:\tlearn: 0.3826813\ttotal: 783ms\tremaining: 4.47s\n",
      "149:\tlearn: 0.3824342\ttotal: 788ms\tremaining: 4.47s\n",
      "150:\tlearn: 0.3821612\ttotal: 793ms\tremaining: 4.46s\n",
      "151:\tlearn: 0.3819692\ttotal: 803ms\tremaining: 4.48s\n",
      "152:\tlearn: 0.3817606\ttotal: 808ms\tremaining: 4.47s\n",
      "153:\tlearn: 0.3814682\ttotal: 816ms\tremaining: 4.48s\n",
      "154:\tlearn: 0.3812488\ttotal: 822ms\tremaining: 4.48s\n",
      "155:\tlearn: 0.3810979\ttotal: 826ms\tremaining: 4.47s\n",
      "156:\tlearn: 0.3809247\ttotal: 831ms\tremaining: 4.46s\n",
      "157:\tlearn: 0.3808022\ttotal: 835ms\tremaining: 4.45s\n",
      "158:\tlearn: 0.3806304\ttotal: 841ms\tremaining: 4.45s\n",
      "159:\tlearn: 0.3805495\ttotal: 846ms\tremaining: 4.44s\n"
     ]
    },
    {
     "name": "stdout",
     "output_type": "stream",
     "text": [
      "160:\tlearn: 0.3804178\ttotal: 853ms\tremaining: 4.45s\n",
      "161:\tlearn: 0.3802538\ttotal: 857ms\tremaining: 4.43s\n",
      "162:\tlearn: 0.3800562\ttotal: 862ms\tremaining: 4.42s\n",
      "163:\tlearn: 0.3799061\ttotal: 866ms\tremaining: 4.41s\n",
      "164:\tlearn: 0.3797319\ttotal: 870ms\tremaining: 4.4s\n",
      "165:\tlearn: 0.3796206\ttotal: 873ms\tremaining: 4.39s\n",
      "166:\tlearn: 0.3794692\ttotal: 877ms\tremaining: 4.38s\n",
      "167:\tlearn: 0.3793621\ttotal: 882ms\tremaining: 4.37s\n",
      "168:\tlearn: 0.3792130\ttotal: 887ms\tremaining: 4.36s\n",
      "169:\tlearn: 0.3790342\ttotal: 893ms\tremaining: 4.36s\n",
      "170:\tlearn: 0.3788757\ttotal: 897ms\tremaining: 4.35s\n",
      "171:\tlearn: 0.3786290\ttotal: 902ms\tremaining: 4.34s\n",
      "172:\tlearn: 0.3784430\ttotal: 909ms\tremaining: 4.34s\n",
      "173:\tlearn: 0.3782674\ttotal: 913ms\tremaining: 4.34s\n",
      "174:\tlearn: 0.3780930\ttotal: 918ms\tremaining: 4.33s\n",
      "175:\tlearn: 0.3780064\ttotal: 922ms\tremaining: 4.32s\n",
      "176:\tlearn: 0.3778819\ttotal: 927ms\tremaining: 4.31s\n",
      "177:\tlearn: 0.3777549\ttotal: 931ms\tremaining: 4.3s\n",
      "178:\tlearn: 0.3775519\ttotal: 936ms\tremaining: 4.29s\n",
      "179:\tlearn: 0.3774779\ttotal: 941ms\tremaining: 4.29s\n",
      "180:\tlearn: 0.3773666\ttotal: 946ms\tremaining: 4.28s\n",
      "181:\tlearn: 0.3771507\ttotal: 952ms\tremaining: 4.28s\n",
      "182:\tlearn: 0.3770107\ttotal: 956ms\tremaining: 4.27s\n",
      "183:\tlearn: 0.3769219\ttotal: 961ms\tremaining: 4.26s\n",
      "184:\tlearn: 0.3768184\ttotal: 967ms\tremaining: 4.26s\n",
      "185:\tlearn: 0.3766760\ttotal: 971ms\tremaining: 4.25s\n",
      "186:\tlearn: 0.3765449\ttotal: 976ms\tremaining: 4.24s\n",
      "187:\tlearn: 0.3763598\ttotal: 980ms\tremaining: 4.23s\n",
      "188:\tlearn: 0.3762801\ttotal: 986ms\tremaining: 4.23s\n",
      "189:\tlearn: 0.3761651\ttotal: 991ms\tremaining: 4.22s\n",
      "190:\tlearn: 0.3760626\ttotal: 996ms\tremaining: 4.22s\n",
      "191:\tlearn: 0.3759307\ttotal: 1s\tremaining: 4.21s\n",
      "192:\tlearn: 0.3758426\ttotal: 1s\tremaining: 4.2s\n",
      "193:\tlearn: 0.3757165\ttotal: 1.01s\tremaining: 4.2s\n",
      "194:\tlearn: 0.3755909\ttotal: 1.01s\tremaining: 4.19s\n",
      "195:\tlearn: 0.3754624\ttotal: 1.02s\tremaining: 4.19s\n",
      "196:\tlearn: 0.3753167\ttotal: 1.03s\tremaining: 4.18s\n",
      "197:\tlearn: 0.3751826\ttotal: 1.03s\tremaining: 4.17s\n",
      "198:\tlearn: 0.3750449\ttotal: 1.03s\tremaining: 4.17s\n",
      "199:\tlearn: 0.3749191\ttotal: 1.04s\tremaining: 4.16s\n",
      "200:\tlearn: 0.3747776\ttotal: 1.05s\tremaining: 4.16s\n",
      "201:\tlearn: 0.3746645\ttotal: 1.05s\tremaining: 4.15s\n",
      "202:\tlearn: 0.3745372\ttotal: 1.05s\tremaining: 4.14s\n",
      "203:\tlearn: 0.3744377\ttotal: 1.06s\tremaining: 4.14s\n",
      "204:\tlearn: 0.3743340\ttotal: 1.07s\tremaining: 4.14s\n",
      "205:\tlearn: 0.3742261\ttotal: 1.07s\tremaining: 4.14s\n",
      "206:\tlearn: 0.3741552\ttotal: 1.08s\tremaining: 4.15s\n",
      "207:\tlearn: 0.3740595\ttotal: 1.09s\tremaining: 4.14s\n",
      "208:\tlearn: 0.3739935\ttotal: 1.09s\tremaining: 4.14s\n",
      "209:\tlearn: 0.3738257\ttotal: 1.1s\tremaining: 4.13s\n",
      "210:\tlearn: 0.3736738\ttotal: 1.1s\tremaining: 4.13s\n",
      "211:\tlearn: 0.3735941\ttotal: 1.11s\tremaining: 4.13s\n",
      "212:\tlearn: 0.3734658\ttotal: 1.12s\tremaining: 4.12s\n",
      "213:\tlearn: 0.3733038\ttotal: 1.12s\tremaining: 4.13s\n",
      "214:\tlearn: 0.3732225\ttotal: 1.13s\tremaining: 4.13s\n",
      "215:\tlearn: 0.3731458\ttotal: 1.14s\tremaining: 4.13s\n",
      "216:\tlearn: 0.3730248\ttotal: 1.15s\tremaining: 4.14s\n",
      "217:\tlearn: 0.3728660\ttotal: 1.16s\tremaining: 4.14s\n",
      "218:\tlearn: 0.3728315\ttotal: 1.16s\tremaining: 4.15s\n",
      "219:\tlearn: 0.3727266\ttotal: 1.17s\tremaining: 4.15s\n",
      "220:\tlearn: 0.3726322\ttotal: 1.18s\tremaining: 4.16s\n",
      "221:\tlearn: 0.3724771\ttotal: 1.19s\tremaining: 4.16s\n",
      "222:\tlearn: 0.3723978\ttotal: 1.2s\tremaining: 4.17s\n",
      "223:\tlearn: 0.3722801\ttotal: 1.21s\tremaining: 4.18s\n",
      "224:\tlearn: 0.3721188\ttotal: 1.21s\tremaining: 4.18s\n",
      "225:\tlearn: 0.3720491\ttotal: 1.24s\tremaining: 4.26s\n",
      "226:\tlearn: 0.3719157\ttotal: 1.25s\tremaining: 4.26s\n",
      "227:\tlearn: 0.3718457\ttotal: 1.26s\tremaining: 4.26s\n",
      "228:\tlearn: 0.3717154\ttotal: 1.27s\tremaining: 4.27s\n",
      "229:\tlearn: 0.3716510\ttotal: 1.27s\tremaining: 4.27s\n",
      "230:\tlearn: 0.3715835\ttotal: 1.28s\tremaining: 4.27s\n",
      "231:\tlearn: 0.3714252\ttotal: 1.29s\tremaining: 4.27s\n",
      "232:\tlearn: 0.3713196\ttotal: 1.3s\tremaining: 4.28s\n",
      "233:\tlearn: 0.3712175\ttotal: 1.31s\tremaining: 4.28s\n",
      "234:\tlearn: 0.3711565\ttotal: 1.31s\tremaining: 4.27s\n",
      "235:\tlearn: 0.3710775\ttotal: 1.32s\tremaining: 4.28s\n",
      "236:\tlearn: 0.3709954\ttotal: 1.34s\tremaining: 4.3s\n",
      "237:\tlearn: 0.3709362\ttotal: 1.34s\tremaining: 4.31s\n",
      "238:\tlearn: 0.3708700\ttotal: 1.36s\tremaining: 4.33s\n",
      "239:\tlearn: 0.3707393\ttotal: 1.37s\tremaining: 4.33s\n",
      "240:\tlearn: 0.3706945\ttotal: 1.38s\tremaining: 4.34s\n",
      "241:\tlearn: 0.3705827\ttotal: 1.39s\tremaining: 4.34s\n",
      "242:\tlearn: 0.3705354\ttotal: 1.4s\tremaining: 4.37s\n",
      "243:\tlearn: 0.3704901\ttotal: 1.42s\tremaining: 4.38s\n",
      "244:\tlearn: 0.3704222\ttotal: 1.42s\tremaining: 4.38s\n",
      "245:\tlearn: 0.3701870\ttotal: 1.43s\tremaining: 4.38s\n",
      "246:\tlearn: 0.3700621\ttotal: 1.43s\tremaining: 4.37s\n",
      "247:\tlearn: 0.3698717\ttotal: 1.44s\tremaining: 4.37s\n",
      "248:\tlearn: 0.3697054\ttotal: 1.45s\tremaining: 4.37s\n",
      "249:\tlearn: 0.3695631\ttotal: 1.45s\tremaining: 4.36s\n",
      "250:\tlearn: 0.3693993\ttotal: 1.46s\tremaining: 4.36s\n",
      "251:\tlearn: 0.3692906\ttotal: 1.47s\tremaining: 4.35s\n",
      "252:\tlearn: 0.3691422\ttotal: 1.48s\tremaining: 4.36s\n",
      "253:\tlearn: 0.3689110\ttotal: 1.48s\tremaining: 4.35s\n",
      "254:\tlearn: 0.3687510\ttotal: 1.49s\tremaining: 4.34s\n",
      "255:\tlearn: 0.3685960\ttotal: 1.49s\tremaining: 4.34s\n",
      "256:\tlearn: 0.3684606\ttotal: 1.5s\tremaining: 4.33s\n",
      "257:\tlearn: 0.3684000\ttotal: 1.5s\tremaining: 4.33s\n",
      "258:\tlearn: 0.3683157\ttotal: 1.51s\tremaining: 4.32s\n",
      "259:\tlearn: 0.3682223\ttotal: 1.52s\tremaining: 4.32s\n",
      "260:\tlearn: 0.3680340\ttotal: 1.52s\tremaining: 4.31s\n",
      "261:\tlearn: 0.3679551\ttotal: 1.54s\tremaining: 4.33s\n",
      "262:\tlearn: 0.3677893\ttotal: 1.54s\tremaining: 4.33s\n",
      "263:\tlearn: 0.3675661\ttotal: 1.56s\tremaining: 4.34s\n",
      "264:\tlearn: 0.3674875\ttotal: 1.56s\tremaining: 4.33s\n",
      "265:\tlearn: 0.3674230\ttotal: 1.57s\tremaining: 4.32s\n",
      "266:\tlearn: 0.3672178\ttotal: 1.57s\tremaining: 4.31s\n",
      "267:\tlearn: 0.3671258\ttotal: 1.57s\tremaining: 4.3s\n",
      "268:\tlearn: 0.3669815\ttotal: 1.58s\tremaining: 4.29s\n",
      "269:\tlearn: 0.3668622\ttotal: 1.58s\tremaining: 4.28s\n",
      "270:\tlearn: 0.3667262\ttotal: 1.59s\tremaining: 4.27s\n",
      "271:\tlearn: 0.3666347\ttotal: 1.59s\tremaining: 4.26s\n",
      "272:\tlearn: 0.3665279\ttotal: 1.6s\tremaining: 4.26s\n",
      "273:\tlearn: 0.3664160\ttotal: 1.6s\tremaining: 4.25s\n",
      "274:\tlearn: 0.3662896\ttotal: 1.61s\tremaining: 4.24s\n",
      "275:\tlearn: 0.3661490\ttotal: 1.61s\tremaining: 4.23s\n",
      "276:\tlearn: 0.3660311\ttotal: 1.62s\tremaining: 4.22s\n",
      "277:\tlearn: 0.3659700\ttotal: 1.62s\tremaining: 4.21s\n",
      "278:\tlearn: 0.3658483\ttotal: 1.62s\tremaining: 4.2s\n",
      "279:\tlearn: 0.3656934\ttotal: 1.63s\tremaining: 4.19s\n",
      "280:\tlearn: 0.3655658\ttotal: 1.63s\tremaining: 4.18s\n",
      "281:\tlearn: 0.3654416\ttotal: 1.64s\tremaining: 4.17s\n",
      "282:\tlearn: 0.3653277\ttotal: 1.64s\tremaining: 4.16s\n",
      "283:\tlearn: 0.3652876\ttotal: 1.65s\tremaining: 4.15s\n",
      "284:\tlearn: 0.3651524\ttotal: 1.65s\tremaining: 4.14s\n",
      "285:\tlearn: 0.3650277\ttotal: 1.66s\tremaining: 4.14s\n",
      "286:\tlearn: 0.3648902\ttotal: 1.66s\tremaining: 4.13s\n",
      "287:\tlearn: 0.3647080\ttotal: 1.67s\tremaining: 4.12s\n",
      "288:\tlearn: 0.3645811\ttotal: 1.67s\tremaining: 4.12s\n",
      "289:\tlearn: 0.3644546\ttotal: 1.68s\tremaining: 4.11s\n",
      "290:\tlearn: 0.3642928\ttotal: 1.68s\tremaining: 4.1s\n",
      "291:\tlearn: 0.3641678\ttotal: 1.69s\tremaining: 4.09s\n",
      "292:\tlearn: 0.3639737\ttotal: 1.69s\tremaining: 4.08s\n",
      "293:\tlearn: 0.3639323\ttotal: 1.7s\tremaining: 4.07s\n",
      "294:\tlearn: 0.3638474\ttotal: 1.7s\tremaining: 4.06s\n",
      "295:\tlearn: 0.3637903\ttotal: 1.7s\tremaining: 4.05s\n",
      "296:\tlearn: 0.3636957\ttotal: 1.71s\tremaining: 4.05s\n",
      "297:\tlearn: 0.3636281\ttotal: 1.71s\tremaining: 4.04s\n",
      "298:\tlearn: 0.3635274\ttotal: 1.72s\tremaining: 4.03s\n",
      "299:\tlearn: 0.3635001\ttotal: 1.72s\tremaining: 4.02s\n",
      "300:\tlearn: 0.3632985\ttotal: 1.73s\tremaining: 4.03s\n",
      "301:\tlearn: 0.3632638\ttotal: 1.74s\tremaining: 4.02s\n",
      "302:\tlearn: 0.3631356\ttotal: 1.74s\tremaining: 4.01s\n",
      "303:\tlearn: 0.3630589\ttotal: 1.75s\tremaining: 4s\n",
      "304:\tlearn: 0.3629371\ttotal: 1.75s\tremaining: 3.99s\n",
      "305:\tlearn: 0.3628769\ttotal: 1.75s\tremaining: 3.98s\n",
      "306:\tlearn: 0.3627791\ttotal: 1.76s\tremaining: 3.97s\n",
      "307:\tlearn: 0.3626889\ttotal: 1.76s\tremaining: 3.96s\n",
      "308:\tlearn: 0.3626178\ttotal: 1.77s\tremaining: 3.96s\n",
      "309:\tlearn: 0.3625101\ttotal: 1.77s\tremaining: 3.95s\n",
      "310:\tlearn: 0.3624307\ttotal: 1.78s\tremaining: 3.94s\n",
      "311:\tlearn: 0.3623003\ttotal: 1.78s\tremaining: 3.93s\n",
      "312:\tlearn: 0.3622010\ttotal: 1.79s\tremaining: 3.92s\n",
      "313:\tlearn: 0.3620769\ttotal: 1.79s\tremaining: 3.91s\n",
      "314:\tlearn: 0.3619946\ttotal: 1.79s\tremaining: 3.9s\n",
      "315:\tlearn: 0.3618745\ttotal: 1.8s\tremaining: 3.89s\n",
      "316:\tlearn: 0.3618495\ttotal: 1.8s\tremaining: 3.88s\n",
      "317:\tlearn: 0.3617681\ttotal: 1.81s\tremaining: 3.88s\n",
      "318:\tlearn: 0.3616987\ttotal: 1.81s\tremaining: 3.87s\n",
      "319:\tlearn: 0.3615272\ttotal: 1.82s\tremaining: 3.86s\n",
      "320:\tlearn: 0.3613696\ttotal: 1.82s\tremaining: 3.85s\n",
      "321:\tlearn: 0.3612558\ttotal: 1.83s\tremaining: 3.85s\n",
      "322:\tlearn: 0.3611425\ttotal: 1.83s\tremaining: 3.84s\n",
      "323:\tlearn: 0.3610915\ttotal: 1.83s\tremaining: 3.83s\n",
      "324:\tlearn: 0.3609104\ttotal: 1.84s\tremaining: 3.82s\n",
      "325:\tlearn: 0.3608718\ttotal: 1.84s\tremaining: 3.81s\n",
      "326:\tlearn: 0.3608037\ttotal: 1.85s\tremaining: 3.8s\n",
      "327:\tlearn: 0.3607545\ttotal: 1.85s\tremaining: 3.79s\n",
      "328:\tlearn: 0.3605964\ttotal: 1.86s\tremaining: 3.79s\n",
      "329:\tlearn: 0.3605643\ttotal: 1.86s\tremaining: 3.78s\n",
      "330:\tlearn: 0.3604508\ttotal: 1.86s\tremaining: 3.77s\n",
      "331:\tlearn: 0.3604072\ttotal: 1.87s\tremaining: 3.76s\n",
      "332:\tlearn: 0.3603612\ttotal: 1.87s\tremaining: 3.75s\n",
      "333:\tlearn: 0.3601220\ttotal: 1.88s\tremaining: 3.74s\n",
      "334:\tlearn: 0.3599759\ttotal: 1.88s\tremaining: 3.73s\n",
      "335:\tlearn: 0.3599179\ttotal: 1.88s\tremaining: 3.72s\n",
      "336:\tlearn: 0.3598643\ttotal: 1.89s\tremaining: 3.72s\n",
      "337:\tlearn: 0.3597247\ttotal: 1.89s\tremaining: 3.71s\n"
     ]
    },
    {
     "name": "stdout",
     "output_type": "stream",
     "text": [
      "338:\tlearn: 0.3596286\ttotal: 1.9s\tremaining: 3.7s\n",
      "339:\tlearn: 0.3594855\ttotal: 1.9s\tremaining: 3.69s\n",
      "340:\tlearn: 0.3594372\ttotal: 1.91s\tremaining: 3.69s\n",
      "341:\tlearn: 0.3593982\ttotal: 1.91s\tremaining: 3.68s\n",
      "342:\tlearn: 0.3593239\ttotal: 1.92s\tremaining: 3.67s\n",
      "343:\tlearn: 0.3592074\ttotal: 1.92s\tremaining: 3.66s\n",
      "344:\tlearn: 0.3590726\ttotal: 1.93s\tremaining: 3.65s\n",
      "345:\tlearn: 0.3589084\ttotal: 1.93s\tremaining: 3.65s\n",
      "346:\tlearn: 0.3588188\ttotal: 1.93s\tremaining: 3.64s\n",
      "347:\tlearn: 0.3587158\ttotal: 1.94s\tremaining: 3.63s\n",
      "348:\tlearn: 0.3586857\ttotal: 1.94s\tremaining: 3.63s\n",
      "349:\tlearn: 0.3585651\ttotal: 1.95s\tremaining: 3.62s\n",
      "350:\tlearn: 0.3585447\ttotal: 1.96s\tremaining: 3.63s\n",
      "351:\tlearn: 0.3584096\ttotal: 1.97s\tremaining: 3.62s\n",
      "352:\tlearn: 0.3581968\ttotal: 1.97s\tremaining: 3.61s\n",
      "353:\tlearn: 0.3581464\ttotal: 1.97s\tremaining: 3.6s\n",
      "354:\tlearn: 0.3579985\ttotal: 1.98s\tremaining: 3.6s\n",
      "355:\tlearn: 0.3579715\ttotal: 1.98s\tremaining: 3.59s\n",
      "356:\tlearn: 0.3577431\ttotal: 1.99s\tremaining: 3.58s\n",
      "357:\tlearn: 0.3576266\ttotal: 1.99s\tremaining: 3.57s\n",
      "358:\tlearn: 0.3574693\ttotal: 2s\tremaining: 3.56s\n",
      "359:\tlearn: 0.3574546\ttotal: 2s\tremaining: 3.56s\n",
      "360:\tlearn: 0.3574051\ttotal: 2s\tremaining: 3.55s\n",
      "361:\tlearn: 0.3572947\ttotal: 2.01s\tremaining: 3.54s\n",
      "362:\tlearn: 0.3571871\ttotal: 2.01s\tremaining: 3.53s\n",
      "363:\tlearn: 0.3571040\ttotal: 2.02s\tremaining: 3.52s\n",
      "364:\tlearn: 0.3569337\ttotal: 2.02s\tremaining: 3.51s\n",
      "365:\tlearn: 0.3568127\ttotal: 2.02s\tremaining: 3.51s\n",
      "366:\tlearn: 0.3567635\ttotal: 2.03s\tremaining: 3.5s\n",
      "367:\tlearn: 0.3565873\ttotal: 2.03s\tremaining: 3.49s\n",
      "368:\tlearn: 0.3565585\ttotal: 2.04s\tremaining: 3.48s\n",
      "369:\tlearn: 0.3565228\ttotal: 2.04s\tremaining: 3.47s\n",
      "370:\tlearn: 0.3564761\ttotal: 2.04s\tremaining: 3.47s\n",
      "371:\tlearn: 0.3563939\ttotal: 2.05s\tremaining: 3.46s\n",
      "372:\tlearn: 0.3562839\ttotal: 2.05s\tremaining: 3.45s\n",
      "373:\tlearn: 0.3562183\ttotal: 2.06s\tremaining: 3.44s\n",
      "374:\tlearn: 0.3560847\ttotal: 2.06s\tremaining: 3.43s\n",
      "375:\tlearn: 0.3559485\ttotal: 2.06s\tremaining: 3.42s\n",
      "376:\tlearn: 0.3558103\ttotal: 2.07s\tremaining: 3.42s\n",
      "377:\tlearn: 0.3556009\ttotal: 2.07s\tremaining: 3.41s\n",
      "378:\tlearn: 0.3554746\ttotal: 2.08s\tremaining: 3.4s\n",
      "379:\tlearn: 0.3554293\ttotal: 2.08s\tremaining: 3.4s\n",
      "380:\tlearn: 0.3553131\ttotal: 2.08s\tremaining: 3.39s\n",
      "381:\tlearn: 0.3552199\ttotal: 2.09s\tremaining: 3.38s\n",
      "382:\tlearn: 0.3550894\ttotal: 2.09s\tremaining: 3.37s\n",
      "383:\tlearn: 0.3549278\ttotal: 2.1s\tremaining: 3.37s\n",
      "384:\tlearn: 0.3548204\ttotal: 2.1s\tremaining: 3.36s\n",
      "385:\tlearn: 0.3547715\ttotal: 2.11s\tremaining: 3.35s\n",
      "386:\tlearn: 0.3546163\ttotal: 2.11s\tremaining: 3.34s\n",
      "387:\tlearn: 0.3545568\ttotal: 2.12s\tremaining: 3.34s\n",
      "388:\tlearn: 0.3544586\ttotal: 2.12s\tremaining: 3.33s\n",
      "389:\tlearn: 0.3543940\ttotal: 2.12s\tremaining: 3.32s\n",
      "390:\tlearn: 0.3542557\ttotal: 2.13s\tremaining: 3.31s\n",
      "391:\tlearn: 0.3542312\ttotal: 2.13s\tremaining: 3.31s\n",
      "392:\tlearn: 0.3541747\ttotal: 2.14s\tremaining: 3.3s\n",
      "393:\tlearn: 0.3541369\ttotal: 2.14s\tremaining: 3.29s\n",
      "394:\tlearn: 0.3541172\ttotal: 2.14s\tremaining: 3.28s\n",
      "395:\tlearn: 0.3540769\ttotal: 2.15s\tremaining: 3.28s\n",
      "396:\tlearn: 0.3539264\ttotal: 2.16s\tremaining: 3.28s\n",
      "397:\tlearn: 0.3538943\ttotal: 2.16s\tremaining: 3.27s\n",
      "398:\tlearn: 0.3538326\ttotal: 2.17s\tremaining: 3.26s\n",
      "399:\tlearn: 0.3538097\ttotal: 2.17s\tremaining: 3.26s\n",
      "400:\tlearn: 0.3536878\ttotal: 2.17s\tremaining: 3.25s\n",
      "401:\tlearn: 0.3535544\ttotal: 2.18s\tremaining: 3.24s\n",
      "402:\tlearn: 0.3534327\ttotal: 2.18s\tremaining: 3.24s\n",
      "403:\tlearn: 0.3533633\ttotal: 2.19s\tremaining: 3.23s\n",
      "404:\tlearn: 0.3532791\ttotal: 2.19s\tremaining: 3.23s\n",
      "405:\tlearn: 0.3532493\ttotal: 2.2s\tremaining: 3.22s\n",
      "406:\tlearn: 0.3532202\ttotal: 2.21s\tremaining: 3.21s\n",
      "407:\tlearn: 0.3531735\ttotal: 2.21s\tremaining: 3.21s\n",
      "408:\tlearn: 0.3531615\ttotal: 2.22s\tremaining: 3.21s\n",
      "409:\tlearn: 0.3530598\ttotal: 2.23s\tremaining: 3.21s\n",
      "410:\tlearn: 0.3529409\ttotal: 2.23s\tremaining: 3.2s\n",
      "411:\tlearn: 0.3529055\ttotal: 2.23s\tremaining: 3.19s\n",
      "412:\tlearn: 0.3527413\ttotal: 2.24s\tremaining: 3.18s\n",
      "413:\tlearn: 0.3526203\ttotal: 2.25s\tremaining: 3.18s\n",
      "414:\tlearn: 0.3525523\ttotal: 2.25s\tremaining: 3.17s\n",
      "415:\tlearn: 0.3525149\ttotal: 2.25s\tremaining: 3.16s\n",
      "416:\tlearn: 0.3524304\ttotal: 2.26s\tremaining: 3.16s\n",
      "417:\tlearn: 0.3523082\ttotal: 2.26s\tremaining: 3.15s\n",
      "418:\tlearn: 0.3521820\ttotal: 2.27s\tremaining: 3.14s\n",
      "419:\tlearn: 0.3521182\ttotal: 2.27s\tremaining: 3.14s\n",
      "420:\tlearn: 0.3520178\ttotal: 2.28s\tremaining: 3.13s\n",
      "421:\tlearn: 0.3519363\ttotal: 2.28s\tremaining: 3.12s\n",
      "422:\tlearn: 0.3518982\ttotal: 2.28s\tremaining: 3.12s\n",
      "423:\tlearn: 0.3517850\ttotal: 2.29s\tremaining: 3.11s\n",
      "424:\tlearn: 0.3517102\ttotal: 2.29s\tremaining: 3.1s\n",
      "425:\tlearn: 0.3516591\ttotal: 2.3s\tremaining: 3.1s\n",
      "426:\tlearn: 0.3515746\ttotal: 2.3s\tremaining: 3.09s\n",
      "427:\tlearn: 0.3514819\ttotal: 2.31s\tremaining: 3.08s\n",
      "428:\tlearn: 0.3513519\ttotal: 2.31s\tremaining: 3.08s\n",
      "429:\tlearn: 0.3513365\ttotal: 2.31s\tremaining: 3.07s\n",
      "430:\tlearn: 0.3511990\ttotal: 2.32s\tremaining: 3.06s\n",
      "431:\tlearn: 0.3511325\ttotal: 2.32s\tremaining: 3.06s\n",
      "432:\tlearn: 0.3510904\ttotal: 2.33s\tremaining: 3.05s\n",
      "433:\tlearn: 0.3509097\ttotal: 2.33s\tremaining: 3.04s\n",
      "434:\tlearn: 0.3507419\ttotal: 2.34s\tremaining: 3.03s\n",
      "435:\tlearn: 0.3506252\ttotal: 2.34s\tremaining: 3.03s\n",
      "436:\tlearn: 0.3505838\ttotal: 2.34s\tremaining: 3.02s\n",
      "437:\tlearn: 0.3504693\ttotal: 2.35s\tremaining: 3.01s\n",
      "438:\tlearn: 0.3503061\ttotal: 2.35s\tremaining: 3s\n",
      "439:\tlearn: 0.3502750\ttotal: 2.35s\tremaining: 3s\n",
      "440:\tlearn: 0.3501754\ttotal: 2.36s\tremaining: 2.99s\n",
      "441:\tlearn: 0.3500580\ttotal: 2.36s\tremaining: 2.98s\n",
      "442:\tlearn: 0.3499263\ttotal: 2.37s\tremaining: 2.98s\n",
      "443:\tlearn: 0.3498280\ttotal: 2.37s\tremaining: 2.97s\n",
      "444:\tlearn: 0.3497017\ttotal: 2.37s\tremaining: 2.96s\n",
      "445:\tlearn: 0.3496896\ttotal: 2.38s\tremaining: 2.95s\n",
      "446:\tlearn: 0.3495592\ttotal: 2.38s\tremaining: 2.94s\n",
      "447:\tlearn: 0.3495476\ttotal: 2.38s\tremaining: 2.94s\n",
      "448:\tlearn: 0.3494437\ttotal: 2.39s\tremaining: 2.93s\n",
      "449:\tlearn: 0.3493928\ttotal: 2.39s\tremaining: 2.92s\n",
      "450:\tlearn: 0.3493822\ttotal: 2.4s\tremaining: 2.92s\n",
      "451:\tlearn: 0.3493713\ttotal: 2.4s\tremaining: 2.91s\n",
      "452:\tlearn: 0.3493570\ttotal: 2.4s\tremaining: 2.9s\n",
      "453:\tlearn: 0.3493178\ttotal: 2.41s\tremaining: 2.89s\n",
      "454:\tlearn: 0.3491808\ttotal: 2.41s\tremaining: 2.89s\n",
      "455:\tlearn: 0.3491066\ttotal: 2.41s\tremaining: 2.88s\n",
      "456:\tlearn: 0.3489904\ttotal: 2.42s\tremaining: 2.87s\n",
      "457:\tlearn: 0.3489167\ttotal: 2.42s\tremaining: 2.87s\n",
      "458:\tlearn: 0.3488375\ttotal: 2.43s\tremaining: 2.86s\n",
      "459:\tlearn: 0.3487160\ttotal: 2.43s\tremaining: 2.85s\n",
      "460:\tlearn: 0.3485975\ttotal: 2.43s\tremaining: 2.85s\n",
      "461:\tlearn: 0.3485587\ttotal: 2.44s\tremaining: 2.84s\n",
      "462:\tlearn: 0.3485254\ttotal: 2.44s\tremaining: 2.83s\n",
      "463:\tlearn: 0.3484529\ttotal: 2.44s\tremaining: 2.82s\n",
      "464:\tlearn: 0.3483893\ttotal: 2.45s\tremaining: 2.82s\n",
      "465:\tlearn: 0.3483429\ttotal: 2.45s\tremaining: 2.81s\n",
      "466:\tlearn: 0.3481812\ttotal: 2.46s\tremaining: 2.8s\n",
      "467:\tlearn: 0.3481154\ttotal: 2.46s\tremaining: 2.8s\n",
      "468:\tlearn: 0.3479956\ttotal: 2.46s\tremaining: 2.79s\n",
      "469:\tlearn: 0.3479205\ttotal: 2.47s\tremaining: 2.78s\n",
      "470:\tlearn: 0.3478806\ttotal: 2.47s\tremaining: 2.78s\n",
      "471:\tlearn: 0.3477822\ttotal: 2.48s\tremaining: 2.77s\n",
      "472:\tlearn: 0.3477419\ttotal: 2.48s\tremaining: 2.76s\n",
      "473:\tlearn: 0.3476203\ttotal: 2.48s\tremaining: 2.76s\n",
      "474:\tlearn: 0.3475361\ttotal: 2.49s\tremaining: 2.75s\n",
      "475:\tlearn: 0.3474350\ttotal: 2.49s\tremaining: 2.74s\n",
      "476:\tlearn: 0.3473648\ttotal: 2.5s\tremaining: 2.74s\n",
      "477:\tlearn: 0.3472624\ttotal: 2.5s\tremaining: 2.73s\n",
      "478:\tlearn: 0.3472504\ttotal: 2.51s\tremaining: 2.73s\n",
      "479:\tlearn: 0.3471981\ttotal: 2.52s\tremaining: 2.73s\n",
      "480:\tlearn: 0.3470852\ttotal: 2.53s\tremaining: 2.73s\n",
      "481:\tlearn: 0.3470390\ttotal: 2.54s\tremaining: 2.73s\n",
      "482:\tlearn: 0.3469941\ttotal: 2.54s\tremaining: 2.72s\n",
      "483:\tlearn: 0.3468336\ttotal: 2.55s\tremaining: 2.72s\n",
      "484:\tlearn: 0.3467208\ttotal: 2.56s\tremaining: 2.72s\n",
      "485:\tlearn: 0.3466666\ttotal: 2.57s\tremaining: 2.71s\n",
      "486:\tlearn: 0.3465697\ttotal: 2.58s\tremaining: 2.71s\n",
      "487:\tlearn: 0.3464615\ttotal: 2.59s\tremaining: 2.71s\n",
      "488:\tlearn: 0.3463606\ttotal: 2.63s\tremaining: 2.74s\n",
      "489:\tlearn: 0.3463260\ttotal: 2.63s\tremaining: 2.74s\n",
      "490:\tlearn: 0.3462447\ttotal: 2.64s\tremaining: 2.74s\n",
      "491:\tlearn: 0.3461487\ttotal: 2.65s\tremaining: 2.73s\n",
      "492:\tlearn: 0.3461239\ttotal: 2.65s\tremaining: 2.73s\n",
      "493:\tlearn: 0.3460425\ttotal: 2.67s\tremaining: 2.73s\n",
      "494:\tlearn: 0.3460253\ttotal: 2.67s\tremaining: 2.73s\n",
      "495:\tlearn: 0.3459155\ttotal: 2.69s\tremaining: 2.74s\n",
      "496:\tlearn: 0.3458614\ttotal: 2.71s\tremaining: 2.74s\n",
      "497:\tlearn: 0.3458026\ttotal: 2.72s\tremaining: 2.74s\n",
      "498:\tlearn: 0.3456382\ttotal: 2.73s\tremaining: 2.74s\n",
      "499:\tlearn: 0.3454435\ttotal: 2.73s\tremaining: 2.73s\n",
      "500:\tlearn: 0.3453478\ttotal: 2.74s\tremaining: 2.73s\n",
      "501:\tlearn: 0.3453284\ttotal: 2.75s\tremaining: 2.73s\n",
      "502:\tlearn: 0.3451700\ttotal: 2.75s\tremaining: 2.72s\n",
      "503:\tlearn: 0.3451030\ttotal: 2.76s\tremaining: 2.72s\n",
      "504:\tlearn: 0.3450936\ttotal: 2.77s\tremaining: 2.71s\n",
      "505:\tlearn: 0.3450016\ttotal: 2.77s\tremaining: 2.71s\n",
      "506:\tlearn: 0.3449394\ttotal: 2.78s\tremaining: 2.7s\n",
      "507:\tlearn: 0.3449307\ttotal: 2.79s\tremaining: 2.7s\n",
      "508:\tlearn: 0.3449008\ttotal: 2.79s\tremaining: 2.69s\n"
     ]
    },
    {
     "name": "stdout",
     "output_type": "stream",
     "text": [
      "509:\tlearn: 0.3448375\ttotal: 2.8s\tremaining: 2.69s\n",
      "510:\tlearn: 0.3447154\ttotal: 2.81s\tremaining: 2.69s\n",
      "511:\tlearn: 0.3445906\ttotal: 2.82s\tremaining: 2.68s\n",
      "512:\tlearn: 0.3445751\ttotal: 2.82s\tremaining: 2.68s\n",
      "513:\tlearn: 0.3445282\ttotal: 2.83s\tremaining: 2.67s\n",
      "514:\tlearn: 0.3444624\ttotal: 2.83s\tremaining: 2.67s\n",
      "515:\tlearn: 0.3443599\ttotal: 2.84s\tremaining: 2.67s\n",
      "516:\tlearn: 0.3442637\ttotal: 2.85s\tremaining: 2.66s\n",
      "517:\tlearn: 0.3441664\ttotal: 2.86s\tremaining: 2.66s\n",
      "518:\tlearn: 0.3441134\ttotal: 2.86s\tremaining: 2.65s\n",
      "519:\tlearn: 0.3439634\ttotal: 2.87s\tremaining: 2.65s\n",
      "520:\tlearn: 0.3438208\ttotal: 2.88s\tremaining: 2.65s\n",
      "521:\tlearn: 0.3436914\ttotal: 2.88s\tremaining: 2.64s\n",
      "522:\tlearn: 0.3435947\ttotal: 2.89s\tremaining: 2.64s\n",
      "523:\tlearn: 0.3434716\ttotal: 2.9s\tremaining: 2.63s\n",
      "524:\tlearn: 0.3434147\ttotal: 2.9s\tremaining: 2.63s\n",
      "525:\tlearn: 0.3433993\ttotal: 2.91s\tremaining: 2.62s\n",
      "526:\tlearn: 0.3433605\ttotal: 2.92s\tremaining: 2.62s\n",
      "527:\tlearn: 0.3433050\ttotal: 2.92s\tremaining: 2.62s\n",
      "528:\tlearn: 0.3432611\ttotal: 2.93s\tremaining: 2.61s\n",
      "529:\tlearn: 0.3431236\ttotal: 2.94s\tremaining: 2.6s\n",
      "530:\tlearn: 0.3430780\ttotal: 2.95s\tremaining: 2.6s\n",
      "531:\tlearn: 0.3430350\ttotal: 2.95s\tremaining: 2.6s\n",
      "532:\tlearn: 0.3429426\ttotal: 2.96s\tremaining: 2.59s\n",
      "533:\tlearn: 0.3427810\ttotal: 2.97s\tremaining: 2.59s\n",
      "534:\tlearn: 0.3426651\ttotal: 2.97s\tremaining: 2.58s\n",
      "535:\tlearn: 0.3425828\ttotal: 2.98s\tremaining: 2.58s\n",
      "536:\tlearn: 0.3425757\ttotal: 2.99s\tremaining: 2.58s\n",
      "537:\tlearn: 0.3425258\ttotal: 2.99s\tremaining: 2.57s\n",
      "538:\tlearn: 0.3423510\ttotal: 3s\tremaining: 2.57s\n",
      "539:\tlearn: 0.3422937\ttotal: 3.01s\tremaining: 2.56s\n",
      "540:\tlearn: 0.3421828\ttotal: 3.02s\tremaining: 2.56s\n",
      "541:\tlearn: 0.3421081\ttotal: 3.02s\tremaining: 2.55s\n",
      "542:\tlearn: 0.3420596\ttotal: 3.03s\tremaining: 2.55s\n",
      "543:\tlearn: 0.3419442\ttotal: 3.04s\tremaining: 2.54s\n",
      "544:\tlearn: 0.3417959\ttotal: 3.05s\tremaining: 2.54s\n",
      "545:\tlearn: 0.3417531\ttotal: 3.05s\tremaining: 2.54s\n",
      "546:\tlearn: 0.3416604\ttotal: 3.06s\tremaining: 2.54s\n",
      "547:\tlearn: 0.3416065\ttotal: 3.08s\tremaining: 2.54s\n",
      "548:\tlearn: 0.3415197\ttotal: 3.08s\tremaining: 2.53s\n",
      "549:\tlearn: 0.3413929\ttotal: 3.09s\tremaining: 2.53s\n",
      "550:\tlearn: 0.3413462\ttotal: 3.1s\tremaining: 2.53s\n",
      "551:\tlearn: 0.3413141\ttotal: 3.11s\tremaining: 2.52s\n",
      "552:\tlearn: 0.3411840\ttotal: 3.12s\tremaining: 2.52s\n",
      "553:\tlearn: 0.3410974\ttotal: 3.13s\tremaining: 2.52s\n",
      "554:\tlearn: 0.3410915\ttotal: 3.14s\tremaining: 2.52s\n",
      "555:\tlearn: 0.3410072\ttotal: 3.15s\tremaining: 2.52s\n",
      "556:\tlearn: 0.3409836\ttotal: 3.16s\tremaining: 2.51s\n",
      "557:\tlearn: 0.3409123\ttotal: 3.17s\tremaining: 2.51s\n",
      "558:\tlearn: 0.3408296\ttotal: 3.18s\tremaining: 2.51s\n",
      "559:\tlearn: 0.3407097\ttotal: 3.19s\tremaining: 2.51s\n",
      "560:\tlearn: 0.3406493\ttotal: 3.2s\tremaining: 2.5s\n",
      "561:\tlearn: 0.3405586\ttotal: 3.21s\tremaining: 2.5s\n",
      "562:\tlearn: 0.3405046\ttotal: 3.22s\tremaining: 2.5s\n",
      "563:\tlearn: 0.3404365\ttotal: 3.23s\tremaining: 2.5s\n",
      "564:\tlearn: 0.3403144\ttotal: 3.25s\tremaining: 2.5s\n",
      "565:\tlearn: 0.3402803\ttotal: 3.26s\tremaining: 2.5s\n",
      "566:\tlearn: 0.3401854\ttotal: 3.26s\tremaining: 2.49s\n",
      "567:\tlearn: 0.3400739\ttotal: 3.27s\tremaining: 2.49s\n",
      "568:\tlearn: 0.3399732\ttotal: 3.28s\tremaining: 2.49s\n",
      "569:\tlearn: 0.3399039\ttotal: 3.29s\tremaining: 2.48s\n",
      "570:\tlearn: 0.3398533\ttotal: 3.3s\tremaining: 2.48s\n",
      "571:\tlearn: 0.3397420\ttotal: 3.31s\tremaining: 2.48s\n",
      "572:\tlearn: 0.3396732\ttotal: 3.32s\tremaining: 2.47s\n",
      "573:\tlearn: 0.3395864\ttotal: 3.33s\tremaining: 2.47s\n",
      "574:\tlearn: 0.3395326\ttotal: 3.33s\tremaining: 2.46s\n",
      "575:\tlearn: 0.3394524\ttotal: 3.34s\tremaining: 2.46s\n",
      "576:\tlearn: 0.3394207\ttotal: 3.35s\tremaining: 2.46s\n",
      "577:\tlearn: 0.3393286\ttotal: 3.36s\tremaining: 2.45s\n",
      "578:\tlearn: 0.3392448\ttotal: 3.36s\tremaining: 2.45s\n",
      "579:\tlearn: 0.3391515\ttotal: 3.37s\tremaining: 2.44s\n",
      "580:\tlearn: 0.3390314\ttotal: 3.38s\tremaining: 2.44s\n",
      "581:\tlearn: 0.3389822\ttotal: 3.39s\tremaining: 2.43s\n",
      "582:\tlearn: 0.3388486\ttotal: 3.39s\tremaining: 2.43s\n",
      "583:\tlearn: 0.3387704\ttotal: 3.4s\tremaining: 2.42s\n",
      "584:\tlearn: 0.3386592\ttotal: 3.41s\tremaining: 2.42s\n",
      "585:\tlearn: 0.3385864\ttotal: 3.42s\tremaining: 2.41s\n",
      "586:\tlearn: 0.3385379\ttotal: 3.42s\tremaining: 2.41s\n",
      "587:\tlearn: 0.3385103\ttotal: 3.43s\tremaining: 2.4s\n",
      "588:\tlearn: 0.3384255\ttotal: 3.44s\tremaining: 2.4s\n",
      "589:\tlearn: 0.3382652\ttotal: 3.44s\tremaining: 2.39s\n",
      "590:\tlearn: 0.3381853\ttotal: 3.45s\tremaining: 2.39s\n",
      "591:\tlearn: 0.3381332\ttotal: 3.46s\tremaining: 2.38s\n",
      "592:\tlearn: 0.3380601\ttotal: 3.46s\tremaining: 2.38s\n",
      "593:\tlearn: 0.3379771\ttotal: 3.46s\tremaining: 2.37s\n",
      "594:\tlearn: 0.3379707\ttotal: 3.47s\tremaining: 2.36s\n",
      "595:\tlearn: 0.3379090\ttotal: 3.48s\tremaining: 2.36s\n",
      "596:\tlearn: 0.3378374\ttotal: 3.48s\tremaining: 2.35s\n",
      "597:\tlearn: 0.3377721\ttotal: 3.48s\tremaining: 2.34s\n",
      "598:\tlearn: 0.3376638\ttotal: 3.49s\tremaining: 2.34s\n",
      "599:\tlearn: 0.3375753\ttotal: 3.5s\tremaining: 2.33s\n",
      "600:\tlearn: 0.3374891\ttotal: 3.5s\tremaining: 2.32s\n",
      "601:\tlearn: 0.3374742\ttotal: 3.5s\tremaining: 2.32s\n",
      "602:\tlearn: 0.3374165\ttotal: 3.51s\tremaining: 2.31s\n",
      "603:\tlearn: 0.3373505\ttotal: 3.51s\tremaining: 2.3s\n",
      "604:\tlearn: 0.3372999\ttotal: 3.52s\tremaining: 2.3s\n",
      "605:\tlearn: 0.3372909\ttotal: 3.52s\tremaining: 2.29s\n",
      "606:\tlearn: 0.3372464\ttotal: 3.53s\tremaining: 2.29s\n",
      "607:\tlearn: 0.3372271\ttotal: 3.53s\tremaining: 2.28s\n",
      "608:\tlearn: 0.3371046\ttotal: 3.54s\tremaining: 2.27s\n",
      "609:\tlearn: 0.3370372\ttotal: 3.54s\tremaining: 2.27s\n",
      "610:\tlearn: 0.3369686\ttotal: 3.55s\tremaining: 2.26s\n",
      "611:\tlearn: 0.3369054\ttotal: 3.55s\tremaining: 2.25s\n",
      "612:\tlearn: 0.3368304\ttotal: 3.56s\tremaining: 2.25s\n",
      "613:\tlearn: 0.3367427\ttotal: 3.57s\tremaining: 2.24s\n",
      "614:\tlearn: 0.3366616\ttotal: 3.57s\tremaining: 2.24s\n",
      "615:\tlearn: 0.3366016\ttotal: 3.58s\tremaining: 2.23s\n",
      "616:\tlearn: 0.3365120\ttotal: 3.59s\tremaining: 2.23s\n",
      "617:\tlearn: 0.3364155\ttotal: 3.6s\tremaining: 2.22s\n",
      "618:\tlearn: 0.3363583\ttotal: 3.6s\tremaining: 2.22s\n",
      "619:\tlearn: 0.3363134\ttotal: 3.61s\tremaining: 2.21s\n",
      "620:\tlearn: 0.3362423\ttotal: 3.62s\tremaining: 2.21s\n",
      "621:\tlearn: 0.3361893\ttotal: 3.62s\tremaining: 2.2s\n",
      "622:\tlearn: 0.3361607\ttotal: 3.63s\tremaining: 2.2s\n",
      "623:\tlearn: 0.3360510\ttotal: 3.63s\tremaining: 2.19s\n",
      "624:\tlearn: 0.3360166\ttotal: 3.64s\tremaining: 2.18s\n",
      "625:\tlearn: 0.3359818\ttotal: 3.64s\tremaining: 2.18s\n",
      "626:\tlearn: 0.3358806\ttotal: 3.65s\tremaining: 2.17s\n",
      "627:\tlearn: 0.3358368\ttotal: 3.65s\tremaining: 2.16s\n",
      "628:\tlearn: 0.3357875\ttotal: 3.65s\tremaining: 2.16s\n",
      "629:\tlearn: 0.3357206\ttotal: 3.66s\tremaining: 2.15s\n",
      "630:\tlearn: 0.3356315\ttotal: 3.67s\tremaining: 2.14s\n",
      "631:\tlearn: 0.3356094\ttotal: 3.67s\tremaining: 2.14s\n",
      "632:\tlearn: 0.3355522\ttotal: 3.68s\tremaining: 2.13s\n",
      "633:\tlearn: 0.3355314\ttotal: 3.69s\tremaining: 2.13s\n",
      "634:\tlearn: 0.3354539\ttotal: 3.69s\tremaining: 2.12s\n",
      "635:\tlearn: 0.3354433\ttotal: 3.7s\tremaining: 2.12s\n",
      "636:\tlearn: 0.3353466\ttotal: 3.71s\tremaining: 2.11s\n",
      "637:\tlearn: 0.3353124\ttotal: 3.72s\tremaining: 2.11s\n",
      "638:\tlearn: 0.3352011\ttotal: 3.73s\tremaining: 2.11s\n",
      "639:\tlearn: 0.3351481\ttotal: 3.74s\tremaining: 2.1s\n",
      "640:\tlearn: 0.3350772\ttotal: 3.74s\tremaining: 2.1s\n",
      "641:\tlearn: 0.3350374\ttotal: 3.75s\tremaining: 2.09s\n",
      "642:\tlearn: 0.3349746\ttotal: 3.75s\tremaining: 2.08s\n",
      "643:\tlearn: 0.3349183\ttotal: 3.76s\tremaining: 2.08s\n",
      "644:\tlearn: 0.3348669\ttotal: 3.77s\tremaining: 2.07s\n",
      "645:\tlearn: 0.3348442\ttotal: 3.78s\tremaining: 2.07s\n",
      "646:\tlearn: 0.3347472\ttotal: 3.78s\tremaining: 2.06s\n",
      "647:\tlearn: 0.3346616\ttotal: 3.79s\tremaining: 2.06s\n",
      "648:\tlearn: 0.3345517\ttotal: 3.79s\tremaining: 2.05s\n",
      "649:\tlearn: 0.3344920\ttotal: 3.8s\tremaining: 2.05s\n",
      "650:\tlearn: 0.3344156\ttotal: 3.81s\tremaining: 2.04s\n",
      "651:\tlearn: 0.3343526\ttotal: 3.81s\tremaining: 2.04s\n",
      "652:\tlearn: 0.3342902\ttotal: 3.82s\tremaining: 2.03s\n",
      "653:\tlearn: 0.3342534\ttotal: 3.82s\tremaining: 2.02s\n",
      "654:\tlearn: 0.3342341\ttotal: 3.83s\tremaining: 2.02s\n",
      "655:\tlearn: 0.3341992\ttotal: 3.83s\tremaining: 2.01s\n",
      "656:\tlearn: 0.3341567\ttotal: 3.84s\tremaining: 2s\n",
      "657:\tlearn: 0.3341447\ttotal: 3.85s\tremaining: 2s\n",
      "658:\tlearn: 0.3340595\ttotal: 3.86s\tremaining: 2s\n",
      "659:\tlearn: 0.3339926\ttotal: 3.87s\tremaining: 1.99s\n",
      "660:\tlearn: 0.3339174\ttotal: 3.87s\tremaining: 1.99s\n",
      "661:\tlearn: 0.3338660\ttotal: 3.88s\tremaining: 1.98s\n",
      "662:\tlearn: 0.3338177\ttotal: 3.89s\tremaining: 1.98s\n",
      "663:\tlearn: 0.3337814\ttotal: 3.89s\tremaining: 1.97s\n",
      "664:\tlearn: 0.3337149\ttotal: 3.9s\tremaining: 1.96s\n",
      "665:\tlearn: 0.3336647\ttotal: 3.9s\tremaining: 1.96s\n",
      "666:\tlearn: 0.3335927\ttotal: 3.91s\tremaining: 1.95s\n",
      "667:\tlearn: 0.3335210\ttotal: 3.91s\tremaining: 1.95s\n",
      "668:\tlearn: 0.3334510\ttotal: 3.92s\tremaining: 1.94s\n",
      "669:\tlearn: 0.3333573\ttotal: 3.92s\tremaining: 1.93s\n",
      "670:\tlearn: 0.3332687\ttotal: 3.93s\tremaining: 1.93s\n"
     ]
    },
    {
     "name": "stdout",
     "output_type": "stream",
     "text": [
      "671:\tlearn: 0.3332034\ttotal: 3.93s\tremaining: 1.92s\n",
      "672:\tlearn: 0.3331323\ttotal: 3.94s\tremaining: 1.91s\n",
      "673:\tlearn: 0.3330632\ttotal: 3.94s\tremaining: 1.91s\n",
      "674:\tlearn: 0.3330040\ttotal: 3.95s\tremaining: 1.9s\n",
      "675:\tlearn: 0.3329426\ttotal: 3.96s\tremaining: 1.9s\n",
      "676:\tlearn: 0.3328851\ttotal: 3.96s\tremaining: 1.89s\n",
      "677:\tlearn: 0.3328327\ttotal: 3.97s\tremaining: 1.89s\n",
      "678:\tlearn: 0.3327633\ttotal: 3.98s\tremaining: 1.88s\n",
      "679:\tlearn: 0.3327059\ttotal: 3.98s\tremaining: 1.87s\n",
      "680:\tlearn: 0.3325929\ttotal: 3.99s\tremaining: 1.87s\n",
      "681:\tlearn: 0.3325552\ttotal: 3.99s\tremaining: 1.86s\n",
      "682:\tlearn: 0.3324807\ttotal: 4s\tremaining: 1.85s\n",
      "683:\tlearn: 0.3324185\ttotal: 4s\tremaining: 1.85s\n",
      "684:\tlearn: 0.3324001\ttotal: 4.01s\tremaining: 1.84s\n",
      "685:\tlearn: 0.3323958\ttotal: 4.01s\tremaining: 1.84s\n",
      "686:\tlearn: 0.3323189\ttotal: 4.02s\tremaining: 1.83s\n",
      "687:\tlearn: 0.3322529\ttotal: 4.02s\tremaining: 1.82s\n",
      "688:\tlearn: 0.3321812\ttotal: 4.03s\tremaining: 1.82s\n",
      "689:\tlearn: 0.3321380\ttotal: 4.03s\tremaining: 1.81s\n",
      "690:\tlearn: 0.3320484\ttotal: 4.04s\tremaining: 1.8s\n",
      "691:\tlearn: 0.3319951\ttotal: 4.04s\tremaining: 1.8s\n",
      "692:\tlearn: 0.3319854\ttotal: 4.04s\tremaining: 1.79s\n",
      "693:\tlearn: 0.3319424\ttotal: 4.05s\tremaining: 1.78s\n",
      "694:\tlearn: 0.3318827\ttotal: 4.05s\tremaining: 1.78s\n",
      "695:\tlearn: 0.3318416\ttotal: 4.06s\tremaining: 1.77s\n",
      "696:\tlearn: 0.3317849\ttotal: 4.06s\tremaining: 1.76s\n",
      "697:\tlearn: 0.3316904\ttotal: 4.07s\tremaining: 1.76s\n",
      "698:\tlearn: 0.3316692\ttotal: 4.07s\tremaining: 1.75s\n",
      "699:\tlearn: 0.3316048\ttotal: 4.07s\tremaining: 1.75s\n",
      "700:\tlearn: 0.3315288\ttotal: 4.08s\tremaining: 1.74s\n",
      "701:\tlearn: 0.3314754\ttotal: 4.08s\tremaining: 1.73s\n",
      "702:\tlearn: 0.3314273\ttotal: 4.08s\tremaining: 1.73s\n",
      "703:\tlearn: 0.3312913\ttotal: 4.09s\tremaining: 1.72s\n",
      "704:\tlearn: 0.3312231\ttotal: 4.09s\tremaining: 1.71s\n",
      "705:\tlearn: 0.3311835\ttotal: 4.1s\tremaining: 1.71s\n",
      "706:\tlearn: 0.3311560\ttotal: 4.1s\tremaining: 1.7s\n",
      "707:\tlearn: 0.3310999\ttotal: 4.1s\tremaining: 1.69s\n",
      "708:\tlearn: 0.3310645\ttotal: 4.11s\tremaining: 1.69s\n",
      "709:\tlearn: 0.3310389\ttotal: 4.11s\tremaining: 1.68s\n",
      "710:\tlearn: 0.3309661\ttotal: 4.12s\tremaining: 1.67s\n",
      "711:\tlearn: 0.3308957\ttotal: 4.12s\tremaining: 1.67s\n",
      "712:\tlearn: 0.3308332\ttotal: 4.12s\tremaining: 1.66s\n",
      "713:\tlearn: 0.3307844\ttotal: 4.13s\tremaining: 1.65s\n",
      "714:\tlearn: 0.3307300\ttotal: 4.13s\tremaining: 1.65s\n",
      "715:\tlearn: 0.3307049\ttotal: 4.14s\tremaining: 1.64s\n",
      "716:\tlearn: 0.3306865\ttotal: 4.14s\tremaining: 1.63s\n",
      "717:\tlearn: 0.3305577\ttotal: 4.15s\tremaining: 1.63s\n",
      "718:\tlearn: 0.3304804\ttotal: 4.15s\tremaining: 1.62s\n",
      "719:\tlearn: 0.3304277\ttotal: 4.15s\tremaining: 1.61s\n",
      "720:\tlearn: 0.3303673\ttotal: 4.16s\tremaining: 1.61s\n",
      "721:\tlearn: 0.3302944\ttotal: 4.16s\tremaining: 1.6s\n",
      "722:\tlearn: 0.3302312\ttotal: 4.17s\tremaining: 1.6s\n",
      "723:\tlearn: 0.3301435\ttotal: 4.17s\tremaining: 1.59s\n",
      "724:\tlearn: 0.3300774\ttotal: 4.18s\tremaining: 1.59s\n",
      "725:\tlearn: 0.3300562\ttotal: 4.19s\tremaining: 1.58s\n",
      "726:\tlearn: 0.3299969\ttotal: 4.19s\tremaining: 1.57s\n",
      "727:\tlearn: 0.3299675\ttotal: 4.19s\tremaining: 1.57s\n",
      "728:\tlearn: 0.3299147\ttotal: 4.2s\tremaining: 1.56s\n",
      "729:\tlearn: 0.3298869\ttotal: 4.2s\tremaining: 1.55s\n",
      "730:\tlearn: 0.3298540\ttotal: 4.21s\tremaining: 1.55s\n",
      "731:\tlearn: 0.3297700\ttotal: 4.21s\tremaining: 1.54s\n",
      "732:\tlearn: 0.3297007\ttotal: 4.21s\tremaining: 1.53s\n",
      "733:\tlearn: 0.3296525\ttotal: 4.22s\tremaining: 1.53s\n",
      "734:\tlearn: 0.3295858\ttotal: 4.22s\tremaining: 1.52s\n",
      "735:\tlearn: 0.3295447\ttotal: 4.22s\tremaining: 1.51s\n",
      "736:\tlearn: 0.3294949\ttotal: 4.23s\tremaining: 1.51s\n",
      "737:\tlearn: 0.3294679\ttotal: 4.23s\tremaining: 1.5s\n",
      "738:\tlearn: 0.3294099\ttotal: 4.24s\tremaining: 1.5s\n",
      "739:\tlearn: 0.3293467\ttotal: 4.24s\tremaining: 1.49s\n",
      "740:\tlearn: 0.3292707\ttotal: 4.25s\tremaining: 1.48s\n",
      "741:\tlearn: 0.3292359\ttotal: 4.25s\tremaining: 1.48s\n",
      "742:\tlearn: 0.3292010\ttotal: 4.25s\tremaining: 1.47s\n",
      "743:\tlearn: 0.3291830\ttotal: 4.26s\tremaining: 1.46s\n",
      "744:\tlearn: 0.3290839\ttotal: 4.26s\tremaining: 1.46s\n",
      "745:\tlearn: 0.3290255\ttotal: 4.26s\tremaining: 1.45s\n",
      "746:\tlearn: 0.3289808\ttotal: 4.27s\tremaining: 1.45s\n",
      "747:\tlearn: 0.3289305\ttotal: 4.27s\tremaining: 1.44s\n",
      "748:\tlearn: 0.3288841\ttotal: 4.28s\tremaining: 1.43s\n",
      "749:\tlearn: 0.3288142\ttotal: 4.28s\tremaining: 1.43s\n",
      "750:\tlearn: 0.3287075\ttotal: 4.28s\tremaining: 1.42s\n",
      "751:\tlearn: 0.3287028\ttotal: 4.29s\tremaining: 1.41s\n",
      "752:\tlearn: 0.3286843\ttotal: 4.29s\tremaining: 1.41s\n",
      "753:\tlearn: 0.3286137\ttotal: 4.29s\tremaining: 1.4s\n",
      "754:\tlearn: 0.3285905\ttotal: 4.3s\tremaining: 1.39s\n",
      "755:\tlearn: 0.3285422\ttotal: 4.3s\tremaining: 1.39s\n",
      "756:\tlearn: 0.3284838\ttotal: 4.31s\tremaining: 1.38s\n",
      "757:\tlearn: 0.3284329\ttotal: 4.31s\tremaining: 1.38s\n",
      "758:\tlearn: 0.3283897\ttotal: 4.31s\tremaining: 1.37s\n",
      "759:\tlearn: 0.3283631\ttotal: 4.32s\tremaining: 1.36s\n",
      "760:\tlearn: 0.3283104\ttotal: 4.32s\tremaining: 1.36s\n",
      "761:\tlearn: 0.3282564\ttotal: 4.32s\tremaining: 1.35s\n",
      "762:\tlearn: 0.3282016\ttotal: 4.33s\tremaining: 1.34s\n",
      "763:\tlearn: 0.3280654\ttotal: 4.33s\tremaining: 1.34s\n",
      "764:\tlearn: 0.3280316\ttotal: 4.34s\tremaining: 1.33s\n",
      "765:\tlearn: 0.3279858\ttotal: 4.34s\tremaining: 1.32s\n",
      "766:\tlearn: 0.3279280\ttotal: 4.34s\tremaining: 1.32s\n",
      "767:\tlearn: 0.3279090\ttotal: 4.35s\tremaining: 1.31s\n",
      "768:\tlearn: 0.3278455\ttotal: 4.35s\tremaining: 1.31s\n",
      "769:\tlearn: 0.3278204\ttotal: 4.36s\tremaining: 1.3s\n",
      "770:\tlearn: 0.3278063\ttotal: 4.36s\tremaining: 1.29s\n",
      "771:\tlearn: 0.3277568\ttotal: 4.36s\tremaining: 1.29s\n",
      "772:\tlearn: 0.3277173\ttotal: 4.37s\tremaining: 1.28s\n",
      "773:\tlearn: 0.3276852\ttotal: 4.37s\tremaining: 1.28s\n",
      "774:\tlearn: 0.3276566\ttotal: 4.38s\tremaining: 1.27s\n",
      "775:\tlearn: 0.3276018\ttotal: 4.38s\tremaining: 1.26s\n",
      "776:\tlearn: 0.3275601\ttotal: 4.38s\tremaining: 1.26s\n",
      "777:\tlearn: 0.3274868\ttotal: 4.39s\tremaining: 1.25s\n",
      "778:\tlearn: 0.3274600\ttotal: 4.39s\tremaining: 1.25s\n",
      "779:\tlearn: 0.3274282\ttotal: 4.39s\tremaining: 1.24s\n",
      "780:\tlearn: 0.3273504\ttotal: 4.4s\tremaining: 1.23s\n",
      "781:\tlearn: 0.3273163\ttotal: 4.4s\tremaining: 1.23s\n",
      "782:\tlearn: 0.3272596\ttotal: 4.41s\tremaining: 1.22s\n",
      "783:\tlearn: 0.3272218\ttotal: 4.41s\tremaining: 1.22s\n",
      "784:\tlearn: 0.3272008\ttotal: 4.42s\tremaining: 1.21s\n",
      "785:\tlearn: 0.3271685\ttotal: 4.42s\tremaining: 1.2s\n",
      "786:\tlearn: 0.3271307\ttotal: 4.42s\tremaining: 1.2s\n",
      "787:\tlearn: 0.3270863\ttotal: 4.43s\tremaining: 1.19s\n",
      "788:\tlearn: 0.3270501\ttotal: 4.44s\tremaining: 1.19s\n",
      "789:\tlearn: 0.3270178\ttotal: 4.45s\tremaining: 1.18s\n",
      "790:\tlearn: 0.3269741\ttotal: 4.46s\tremaining: 1.18s\n",
      "791:\tlearn: 0.3269448\ttotal: 4.46s\tremaining: 1.17s\n",
      "792:\tlearn: 0.3268850\ttotal: 4.47s\tremaining: 1.17s\n",
      "793:\tlearn: 0.3268462\ttotal: 4.47s\tremaining: 1.16s\n",
      "794:\tlearn: 0.3267913\ttotal: 4.48s\tremaining: 1.16s\n",
      "795:\tlearn: 0.3266991\ttotal: 4.49s\tremaining: 1.15s\n",
      "796:\tlearn: 0.3265918\ttotal: 4.49s\tremaining: 1.14s\n",
      "797:\tlearn: 0.3265582\ttotal: 4.5s\tremaining: 1.14s\n",
      "798:\tlearn: 0.3265319\ttotal: 4.5s\tremaining: 1.13s\n",
      "799:\tlearn: 0.3264956\ttotal: 4.51s\tremaining: 1.13s\n",
      "800:\tlearn: 0.3264119\ttotal: 4.52s\tremaining: 1.12s\n",
      "801:\tlearn: 0.3263812\ttotal: 4.53s\tremaining: 1.12s\n",
      "802:\tlearn: 0.3263046\ttotal: 4.53s\tremaining: 1.11s\n",
      "803:\tlearn: 0.3262583\ttotal: 4.54s\tremaining: 1.11s\n",
      "804:\tlearn: 0.3262319\ttotal: 4.54s\tremaining: 1.1s\n",
      "805:\tlearn: 0.3261347\ttotal: 4.55s\tremaining: 1.09s\n",
      "806:\tlearn: 0.3260756\ttotal: 4.55s\tremaining: 1.09s\n",
      "807:\tlearn: 0.3260427\ttotal: 4.56s\tremaining: 1.08s\n",
      "808:\tlearn: 0.3259908\ttotal: 4.57s\tremaining: 1.08s\n",
      "809:\tlearn: 0.3259485\ttotal: 4.57s\tremaining: 1.07s\n",
      "810:\tlearn: 0.3258626\ttotal: 4.58s\tremaining: 1.07s\n",
      "811:\tlearn: 0.3257722\ttotal: 4.59s\tremaining: 1.06s\n",
      "812:\tlearn: 0.3257176\ttotal: 4.6s\tremaining: 1.06s\n",
      "813:\tlearn: 0.3256623\ttotal: 4.61s\tremaining: 1.05s\n",
      "814:\tlearn: 0.3256265\ttotal: 4.62s\tremaining: 1.05s\n",
      "815:\tlearn: 0.3255877\ttotal: 4.62s\tremaining: 1.04s\n",
      "816:\tlearn: 0.3254796\ttotal: 4.63s\tremaining: 1.04s\n",
      "817:\tlearn: 0.3254322\ttotal: 4.63s\tremaining: 1.03s\n",
      "818:\tlearn: 0.3253637\ttotal: 4.64s\tremaining: 1.02s\n",
      "819:\tlearn: 0.3253227\ttotal: 4.64s\tremaining: 1.02s\n",
      "820:\tlearn: 0.3252550\ttotal: 4.65s\tremaining: 1.01s\n",
      "821:\tlearn: 0.3251869\ttotal: 4.67s\tremaining: 1.01s\n",
      "822:\tlearn: 0.3251067\ttotal: 4.67s\tremaining: 1s\n",
      "823:\tlearn: 0.3250896\ttotal: 4.68s\tremaining: 1s\n",
      "824:\tlearn: 0.3250082\ttotal: 4.69s\tremaining: 995ms\n",
      "825:\tlearn: 0.3249841\ttotal: 4.7s\tremaining: 990ms\n",
      "826:\tlearn: 0.3249521\ttotal: 4.71s\tremaining: 984ms\n",
      "827:\tlearn: 0.3249132\ttotal: 4.71s\tremaining: 979ms\n",
      "828:\tlearn: 0.3248758\ttotal: 4.72s\tremaining: 974ms\n",
      "829:\tlearn: 0.3248166\ttotal: 4.73s\tremaining: 969ms\n",
      "830:\tlearn: 0.3247310\ttotal: 4.74s\tremaining: 965ms\n",
      "831:\tlearn: 0.3247094\ttotal: 4.75s\tremaining: 959ms\n"
     ]
    },
    {
     "name": "stdout",
     "output_type": "stream",
     "text": [
      "832:\tlearn: 0.3246700\ttotal: 4.75s\tremaining: 953ms\n",
      "833:\tlearn: 0.3246312\ttotal: 4.76s\tremaining: 947ms\n",
      "834:\tlearn: 0.3245971\ttotal: 4.76s\tremaining: 942ms\n",
      "835:\tlearn: 0.3245376\ttotal: 4.77s\tremaining: 936ms\n",
      "836:\tlearn: 0.3244764\ttotal: 4.78s\tremaining: 931ms\n",
      "837:\tlearn: 0.3244475\ttotal: 4.78s\tremaining: 925ms\n",
      "838:\tlearn: 0.3243965\ttotal: 4.79s\tremaining: 920ms\n",
      "839:\tlearn: 0.3243379\ttotal: 4.8s\tremaining: 914ms\n",
      "840:\tlearn: 0.3242648\ttotal: 4.8s\tremaining: 908ms\n",
      "841:\tlearn: 0.3242215\ttotal: 4.81s\tremaining: 902ms\n",
      "842:\tlearn: 0.3241397\ttotal: 4.81s\tremaining: 896ms\n",
      "843:\tlearn: 0.3241254\ttotal: 4.82s\tremaining: 891ms\n",
      "844:\tlearn: 0.3240767\ttotal: 4.83s\tremaining: 885ms\n",
      "845:\tlearn: 0.3240494\ttotal: 4.83s\tremaining: 880ms\n",
      "846:\tlearn: 0.3239797\ttotal: 4.84s\tremaining: 874ms\n",
      "847:\tlearn: 0.3239208\ttotal: 4.84s\tremaining: 868ms\n",
      "848:\tlearn: 0.3238829\ttotal: 4.85s\tremaining: 862ms\n",
      "849:\tlearn: 0.3238512\ttotal: 4.85s\tremaining: 856ms\n",
      "850:\tlearn: 0.3238218\ttotal: 4.86s\tremaining: 850ms\n",
      "851:\tlearn: 0.3237932\ttotal: 4.87s\tremaining: 845ms\n",
      "852:\tlearn: 0.3236920\ttotal: 4.87s\tremaining: 839ms\n",
      "853:\tlearn: 0.3236831\ttotal: 4.88s\tremaining: 834ms\n",
      "854:\tlearn: 0.3236470\ttotal: 4.88s\tremaining: 828ms\n",
      "855:\tlearn: 0.3235966\ttotal: 4.89s\tremaining: 822ms\n",
      "856:\tlearn: 0.3235226\ttotal: 4.89s\tremaining: 817ms\n",
      "857:\tlearn: 0.3234941\ttotal: 4.9s\tremaining: 812ms\n",
      "858:\tlearn: 0.3234626\ttotal: 4.91s\tremaining: 806ms\n",
      "859:\tlearn: 0.3233621\ttotal: 4.92s\tremaining: 801ms\n",
      "860:\tlearn: 0.3233510\ttotal: 4.93s\tremaining: 796ms\n",
      "861:\tlearn: 0.3233141\ttotal: 4.94s\tremaining: 791ms\n",
      "862:\tlearn: 0.3232774\ttotal: 4.95s\tremaining: 785ms\n",
      "863:\tlearn: 0.3232450\ttotal: 4.95s\tremaining: 780ms\n",
      "864:\tlearn: 0.3232249\ttotal: 4.96s\tremaining: 774ms\n",
      "865:\tlearn: 0.3232074\ttotal: 4.97s\tremaining: 769ms\n",
      "866:\tlearn: 0.3231718\ttotal: 4.97s\tremaining: 763ms\n",
      "867:\tlearn: 0.3231407\ttotal: 4.98s\tremaining: 757ms\n",
      "868:\tlearn: 0.3230835\ttotal: 4.99s\tremaining: 752ms\n",
      "869:\tlearn: 0.3230383\ttotal: 5s\tremaining: 747ms\n",
      "870:\tlearn: 0.3230134\ttotal: 5s\tremaining: 741ms\n",
      "871:\tlearn: 0.3229892\ttotal: 5.01s\tremaining: 735ms\n",
      "872:\tlearn: 0.3229059\ttotal: 5.01s\tremaining: 730ms\n",
      "873:\tlearn: 0.3228955\ttotal: 5.02s\tremaining: 724ms\n",
      "874:\tlearn: 0.3228759\ttotal: 5.03s\tremaining: 718ms\n",
      "875:\tlearn: 0.3228528\ttotal: 5.03s\tremaining: 712ms\n",
      "876:\tlearn: 0.3228111\ttotal: 5.04s\tremaining: 707ms\n",
      "877:\tlearn: 0.3227656\ttotal: 5.04s\tremaining: 701ms\n",
      "878:\tlearn: 0.3227211\ttotal: 5.05s\tremaining: 695ms\n",
      "879:\tlearn: 0.3227001\ttotal: 5.06s\tremaining: 690ms\n",
      "880:\tlearn: 0.3226811\ttotal: 5.06s\tremaining: 684ms\n",
      "881:\tlearn: 0.3225931\ttotal: 5.07s\tremaining: 678ms\n",
      "882:\tlearn: 0.3225471\ttotal: 5.07s\tremaining: 672ms\n",
      "883:\tlearn: 0.3224768\ttotal: 5.08s\tremaining: 666ms\n",
      "884:\tlearn: 0.3224109\ttotal: 5.08s\tremaining: 660ms\n",
      "885:\tlearn: 0.3223889\ttotal: 5.09s\tremaining: 654ms\n",
      "886:\tlearn: 0.3223704\ttotal: 5.09s\tremaining: 649ms\n",
      "887:\tlearn: 0.3223318\ttotal: 5.1s\tremaining: 643ms\n",
      "888:\tlearn: 0.3222868\ttotal: 5.1s\tremaining: 637ms\n",
      "889:\tlearn: 0.3222830\ttotal: 5.11s\tremaining: 632ms\n",
      "890:\tlearn: 0.3222638\ttotal: 5.12s\tremaining: 626ms\n",
      "891:\tlearn: 0.3221957\ttotal: 5.12s\tremaining: 620ms\n",
      "892:\tlearn: 0.3221463\ttotal: 5.13s\tremaining: 614ms\n",
      "893:\tlearn: 0.3221250\ttotal: 5.13s\tremaining: 608ms\n",
      "894:\tlearn: 0.3221078\ttotal: 5.14s\tremaining: 603ms\n",
      "895:\tlearn: 0.3220225\ttotal: 5.14s\tremaining: 597ms\n",
      "896:\tlearn: 0.3219756\ttotal: 5.15s\tremaining: 591ms\n",
      "897:\tlearn: 0.3219522\ttotal: 5.16s\tremaining: 586ms\n",
      "898:\tlearn: 0.3218619\ttotal: 5.17s\tremaining: 581ms\n",
      "899:\tlearn: 0.3218121\ttotal: 5.17s\tremaining: 575ms\n",
      "900:\tlearn: 0.3217772\ttotal: 5.18s\tremaining: 569ms\n",
      "901:\tlearn: 0.3217125\ttotal: 5.19s\tremaining: 564ms\n",
      "902:\tlearn: 0.3216560\ttotal: 5.2s\tremaining: 558ms\n",
      "903:\tlearn: 0.3216327\ttotal: 5.2s\tremaining: 552ms\n",
      "904:\tlearn: 0.3215659\ttotal: 5.21s\tremaining: 547ms\n",
      "905:\tlearn: 0.3215171\ttotal: 5.21s\tremaining: 541ms\n",
      "906:\tlearn: 0.3214713\ttotal: 5.22s\tremaining: 535ms\n",
      "907:\tlearn: 0.3214355\ttotal: 5.23s\tremaining: 530ms\n",
      "908:\tlearn: 0.3213963\ttotal: 5.23s\tremaining: 524ms\n",
      "909:\tlearn: 0.3213615\ttotal: 5.24s\tremaining: 518ms\n",
      "910:\tlearn: 0.3212743\ttotal: 5.25s\tremaining: 512ms\n",
      "911:\tlearn: 0.3212557\ttotal: 5.25s\tremaining: 507ms\n",
      "912:\tlearn: 0.3212101\ttotal: 5.26s\tremaining: 501ms\n",
      "913:\tlearn: 0.3211744\ttotal: 5.27s\tremaining: 495ms\n",
      "914:\tlearn: 0.3211520\ttotal: 5.28s\tremaining: 490ms\n",
      "915:\tlearn: 0.3211106\ttotal: 5.28s\tremaining: 484ms\n",
      "916:\tlearn: 0.3210590\ttotal: 5.29s\tremaining: 479ms\n",
      "917:\tlearn: 0.3210412\ttotal: 5.29s\tremaining: 473ms\n",
      "918:\tlearn: 0.3210236\ttotal: 5.3s\tremaining: 467ms\n",
      "919:\tlearn: 0.3209773\ttotal: 5.3s\tremaining: 461ms\n",
      "920:\tlearn: 0.3209648\ttotal: 5.31s\tremaining: 455ms\n",
      "921:\tlearn: 0.3208845\ttotal: 5.31s\tremaining: 449ms\n",
      "922:\tlearn: 0.3208319\ttotal: 5.32s\tremaining: 444ms\n",
      "923:\tlearn: 0.3207993\ttotal: 5.32s\tremaining: 438ms\n",
      "924:\tlearn: 0.3207772\ttotal: 5.33s\tremaining: 432ms\n",
      "925:\tlearn: 0.3207146\ttotal: 5.33s\tremaining: 426ms\n",
      "926:\tlearn: 0.3206862\ttotal: 5.33s\tremaining: 420ms\n",
      "927:\tlearn: 0.3206653\ttotal: 5.34s\tremaining: 414ms\n",
      "928:\tlearn: 0.3206221\ttotal: 5.35s\tremaining: 409ms\n",
      "929:\tlearn: 0.3205885\ttotal: 5.35s\tremaining: 403ms\n",
      "930:\tlearn: 0.3205173\ttotal: 5.35s\tremaining: 397ms\n",
      "931:\tlearn: 0.3204913\ttotal: 5.36s\tremaining: 391ms\n",
      "932:\tlearn: 0.3204597\ttotal: 5.36s\tremaining: 385ms\n",
      "933:\tlearn: 0.3204099\ttotal: 5.37s\tremaining: 379ms\n",
      "934:\tlearn: 0.3203845\ttotal: 5.37s\tremaining: 373ms\n",
      "935:\tlearn: 0.3203615\ttotal: 5.38s\tremaining: 368ms\n",
      "936:\tlearn: 0.3203113\ttotal: 5.38s\tremaining: 362ms\n",
      "937:\tlearn: 0.3202494\ttotal: 5.38s\tremaining: 356ms\n",
      "938:\tlearn: 0.3202006\ttotal: 5.39s\tremaining: 350ms\n",
      "939:\tlearn: 0.3201874\ttotal: 5.39s\tremaining: 344ms\n",
      "940:\tlearn: 0.3201683\ttotal: 5.39s\tremaining: 338ms\n",
      "941:\tlearn: 0.3201009\ttotal: 5.4s\tremaining: 332ms\n",
      "942:\tlearn: 0.3200793\ttotal: 5.4s\tremaining: 327ms\n",
      "943:\tlearn: 0.3200604\ttotal: 5.41s\tremaining: 321ms\n",
      "944:\tlearn: 0.3200278\ttotal: 5.41s\tremaining: 315ms\n",
      "945:\tlearn: 0.3200075\ttotal: 5.41s\tremaining: 309ms\n",
      "946:\tlearn: 0.3199666\ttotal: 5.42s\tremaining: 303ms\n",
      "947:\tlearn: 0.3199444\ttotal: 5.42s\tremaining: 297ms\n",
      "948:\tlearn: 0.3199045\ttotal: 5.42s\tremaining: 292ms\n",
      "949:\tlearn: 0.3197629\ttotal: 5.43s\tremaining: 286ms\n",
      "950:\tlearn: 0.3197305\ttotal: 5.43s\tremaining: 280ms\n",
      "951:\tlearn: 0.3196805\ttotal: 5.44s\tremaining: 274ms\n",
      "952:\tlearn: 0.3195636\ttotal: 5.44s\tremaining: 268ms\n",
      "953:\tlearn: 0.3195426\ttotal: 5.45s\tremaining: 263ms\n",
      "954:\tlearn: 0.3194674\ttotal: 5.45s\tremaining: 257ms\n",
      "955:\tlearn: 0.3194576\ttotal: 5.45s\tremaining: 251ms\n",
      "956:\tlearn: 0.3194113\ttotal: 5.46s\tremaining: 245ms\n",
      "957:\tlearn: 0.3193863\ttotal: 5.46s\tremaining: 239ms\n",
      "958:\tlearn: 0.3193655\ttotal: 5.46s\tremaining: 234ms\n",
      "959:\tlearn: 0.3193070\ttotal: 5.47s\tremaining: 228ms\n",
      "960:\tlearn: 0.3192190\ttotal: 5.47s\tremaining: 222ms\n",
      "961:\tlearn: 0.3191548\ttotal: 5.47s\tremaining: 216ms\n",
      "962:\tlearn: 0.3191403\ttotal: 5.48s\tremaining: 211ms\n",
      "963:\tlearn: 0.3191168\ttotal: 5.48s\tremaining: 205ms\n",
      "964:\tlearn: 0.3190776\ttotal: 5.49s\tremaining: 199ms\n",
      "965:\tlearn: 0.3190193\ttotal: 5.49s\tremaining: 193ms\n",
      "966:\tlearn: 0.3189815\ttotal: 5.49s\tremaining: 188ms\n",
      "967:\tlearn: 0.3189172\ttotal: 5.5s\tremaining: 182ms\n",
      "968:\tlearn: 0.3188812\ttotal: 5.5s\tremaining: 176ms\n",
      "969:\tlearn: 0.3188112\ttotal: 5.51s\tremaining: 170ms\n",
      "970:\tlearn: 0.3187712\ttotal: 5.51s\tremaining: 165ms\n",
      "971:\tlearn: 0.3187188\ttotal: 5.51s\tremaining: 159ms\n",
      "972:\tlearn: 0.3186981\ttotal: 5.52s\tremaining: 153ms\n",
      "973:\tlearn: 0.3186458\ttotal: 5.53s\tremaining: 148ms\n",
      "974:\tlearn: 0.3186039\ttotal: 5.54s\tremaining: 142ms\n",
      "975:\tlearn: 0.3185499\ttotal: 5.55s\tremaining: 136ms\n",
      "976:\tlearn: 0.3185159\ttotal: 5.55s\tremaining: 131ms\n",
      "977:\tlearn: 0.3184472\ttotal: 5.56s\tremaining: 125ms\n",
      "978:\tlearn: 0.3184389\ttotal: 5.57s\tremaining: 119ms\n",
      "979:\tlearn: 0.3183969\ttotal: 5.58s\tremaining: 114ms\n",
      "980:\tlearn: 0.3183663\ttotal: 5.59s\tremaining: 108ms\n",
      "981:\tlearn: 0.3183424\ttotal: 5.6s\tremaining: 103ms\n",
      "982:\tlearn: 0.3183126\ttotal: 5.61s\tremaining: 97.1ms\n",
      "983:\tlearn: 0.3182641\ttotal: 5.62s\tremaining: 91.3ms\n",
      "984:\tlearn: 0.3182305\ttotal: 5.62s\tremaining: 85.6ms\n",
      "985:\tlearn: 0.3181348\ttotal: 5.63s\tremaining: 79.9ms\n",
      "986:\tlearn: 0.3181161\ttotal: 5.63s\tremaining: 74.1ms\n",
      "987:\tlearn: 0.3180693\ttotal: 5.63s\tremaining: 68.4ms\n",
      "988:\tlearn: 0.3180307\ttotal: 5.64s\tremaining: 62.7ms\n",
      "989:\tlearn: 0.3180132\ttotal: 5.64s\tremaining: 57ms\n",
      "990:\tlearn: 0.3179677\ttotal: 5.64s\tremaining: 51.3ms\n",
      "991:\tlearn: 0.3179448\ttotal: 5.65s\tremaining: 45.6ms\n",
      "992:\tlearn: 0.3179134\ttotal: 5.65s\tremaining: 39.9ms\n",
      "993:\tlearn: 0.3178604\ttotal: 5.66s\tremaining: 34.1ms\n",
      "994:\tlearn: 0.3178400\ttotal: 5.66s\tremaining: 28.4ms\n",
      "995:\tlearn: 0.3177851\ttotal: 5.66s\tremaining: 22.7ms\n",
      "996:\tlearn: 0.3177331\ttotal: 5.67s\tremaining: 17.1ms\n",
      "997:\tlearn: 0.3176770\ttotal: 5.67s\tremaining: 11.4ms\n",
      "998:\tlearn: 0.3176626\ttotal: 5.67s\tremaining: 5.68ms\n"
     ]
    },
    {
     "name": "stdout",
     "output_type": "stream",
     "text": [
      "999:\tlearn: 0.3176077\ttotal: 5.68s\tremaining: 0us\n",
      "MSE for CatBoost 2019 is: 0.17079639300738822\n"
     ]
    }
   ],
   "source": [
    "model = CatBoostRegressor()\n",
    "model.fit(x_train_19, y_train_19)\n",
    "y_pred_19 = model.predict(x_test_19)\n",
    "# Calculation of Mean Squared Error (MSE)\n",
    "mse = mean_squared_error(y_test_19, y_pred_19)\n",
    "print('MSE for CatBoost 2019 is: ' + str(mse))"
   ]
  },
  {
   "cell_type": "code",
   "execution_count": 164,
   "id": "f0207e79",
   "metadata": {},
   "outputs": [
    {
     "name": "stdout",
     "output_type": "stream",
     "text": [
      "RMSE for LightGBM 2019 is: 0.4132752025072255\n"
     ]
    }
   ],
   "source": [
    "rmse = mean_squared_error(y_test_19, y_pred_19, squared = False)\n",
    "print('RMSE for LightGBM 2019 is: ' + str(rmse))"
   ]
  },
  {
   "cell_type": "code",
   "execution_count": 165,
   "id": "aa550157",
   "metadata": {},
   "outputs": [
    {
     "name": "stdout",
     "output_type": "stream",
     "text": [
      "Median Absolute Error:\n",
      "\n",
      "0.20127030027100723\n"
     ]
    }
   ],
   "source": [
    "median_se = np.square(np.subtract(y_test_19, y_pred_19)).median() \n",
    " \n",
    "med = math.sqrt(median_se)\n",
    "print(\"Median Absolute Error:\\n\")\n",
    "print(med)"
   ]
  },
  {
   "cell_type": "code",
   "execution_count": 166,
   "id": "953208a1",
   "metadata": {},
   "outputs": [
    {
     "name": "stdout",
     "output_type": "stream",
     "text": [
      "Accuracy of properties at +- 10% of actual prices is 0.28152866242038216\n"
     ]
    }
   ],
   "source": [
    "acc = accuracy_threshold(y_test_19, y_pred_19, 0.1)\n",
    "print('Accuracy of properties at +- 10% of actual prices is ' + str(acc))"
   ]
  },
  {
   "cell_type": "code",
   "execution_count": 167,
   "id": "a11409ef",
   "metadata": {},
   "outputs": [
    {
     "name": "stdout",
     "output_type": "stream",
     "text": [
      "MAPE for CatBoost 2019 is: 0.023463034644542514\n"
     ]
    }
   ],
   "source": [
    "mape = mean_absolute_percentage_error(y_test_19, y_pred_19)\n",
    "print(\"MAPE for CatBoost 2019 is: \" + str(mape))"
   ]
  },
  {
   "cell_type": "code",
   "execution_count": 168,
   "id": "62ab734b",
   "metadata": {},
   "outputs": [],
   "source": [
    "cnames = ['Algorithm', 'Year', 'RMSE', 'MSE', 'MEDAE', 'Accuracy', 'MAPE']\n",
    "df16 = pd.DataFrame(columns = cnames)\n",
    "\n",
    "df16 = df16.append({'Algorithm': 'CatBoost',\n",
    "           'Year': 2019,\n",
    "           'RMSE': rmse,\n",
    "           'MSE': mse,\n",
    "           'MEDAE': med,\n",
    "           'Accuracy': acc,\n",
    "           'MAPE': mape         \n",
    "          }, ignore_index = True)"
   ]
  },
  {
   "cell_type": "markdown",
   "id": "03917aff",
   "metadata": {},
   "source": [
    "### BayesianRidge"
   ]
  },
  {
   "cell_type": "code",
   "execution_count": 169,
   "id": "bb47ee44",
   "metadata": {},
   "outputs": [
    {
     "name": "stdout",
     "output_type": "stream",
     "text": [
      "MSE for BayesianRidge 2019 is: 0.15224889167168928\n"
     ]
    }
   ],
   "source": [
    "clf = BayesianRidge()\n",
    "clf.fit(x_train_19, y_train_19)\n",
    "y_pred_19 = clf.predict(x_test_19)\n",
    "# Calculation of Mean Squared Error (MSE)\n",
    "mse = mean_squared_error(y_test_19, y_pred_19)\n",
    "print('MSE for BayesianRidge 2019 is: ' + str(mse))"
   ]
  },
  {
   "cell_type": "code",
   "execution_count": 170,
   "id": "f2c9faf8",
   "metadata": {},
   "outputs": [
    {
     "name": "stdout",
     "output_type": "stream",
     "text": [
      "RMSE for LightGBM 2019 is: 0.39019084006635685\n"
     ]
    }
   ],
   "source": [
    "rmse = mean_squared_error(y_test_19, y_pred_19, squared = False)\n",
    "print('RMSE for LightGBM 2019 is: ' + str(rmse))"
   ]
  },
  {
   "cell_type": "code",
   "execution_count": 171,
   "id": "8c56c82e",
   "metadata": {},
   "outputs": [
    {
     "name": "stdout",
     "output_type": "stream",
     "text": [
      "Median Absolute Error:\n",
      "\n",
      "0.17773297954279244\n"
     ]
    }
   ],
   "source": [
    "median_se = np.square(np.subtract(y_test_19, y_pred_19)).median() \n",
    " \n",
    "med = math.sqrt(median_se)\n",
    "print(\"Median Absolute Error:\\n\")\n",
    "print(med)"
   ]
  },
  {
   "cell_type": "code",
   "execution_count": 172,
   "id": "5a59de31",
   "metadata": {},
   "outputs": [
    {
     "name": "stdout",
     "output_type": "stream",
     "text": [
      "Accuracy of properties at +- 10% of actual prices is 0.2917197452229299\n"
     ]
    }
   ],
   "source": [
    "acc = accuracy_threshold(y_test_19, y_pred_19, 0.1)\n",
    "print('Accuracy of properties at +- 10% of actual prices is ' + str(acc))"
   ]
  },
  {
   "cell_type": "code",
   "execution_count": 173,
   "id": "89f14d4e",
   "metadata": {},
   "outputs": [
    {
     "name": "stdout",
     "output_type": "stream",
     "text": [
      "MAPE for BayesianRidge 2019 is: 0.02177098720448708\n"
     ]
    }
   ],
   "source": [
    "mape = mean_absolute_percentage_error(y_test_19, y_pred_19)\n",
    "print(\"MAPE for BayesianRidge 2019 is: \" + str(mape))"
   ]
  },
  {
   "cell_type": "code",
   "execution_count": 174,
   "id": "98a6ba59",
   "metadata": {},
   "outputs": [],
   "source": [
    "cnames = ['Algorithm', 'Year', 'RMSE', 'MSE', 'MEDAE', 'Accuracy', 'MAPE']\n",
    "df17 = pd.DataFrame(columns = cnames)\n",
    "\n",
    "df17 = df17.append({'Algorithm': 'Bayesian',\n",
    "           'Year': 2019,\n",
    "           'RMSE': rmse,\n",
    "           'MSE': mse,\n",
    "           'MEDAE': med,\n",
    "           'Accuracy': acc,\n",
    "           'MAPE': mape         \n",
    "          }, ignore_index = True)"
   ]
  },
  {
   "cell_type": "markdown",
   "id": "c20aed69",
   "metadata": {},
   "source": [
    "## 2018"
   ]
  },
  {
   "cell_type": "code",
   "execution_count": 175,
   "id": "70eac5c9",
   "metadata": {},
   "outputs": [],
   "source": [
    "specific18 = irl[irl['Year'] > 2014]\n",
    "test_18 = specific18[specific18['Year'] == 2018]\n",
    "train_18 = specific18[specific18['Year'] < 2018]\n",
    "\n",
    "#train_18 = train_18.sample(n = 80000)\n",
    "#test_18 = test_18.sample(n = 20000)\n",
    "\n",
    "x_train_18 = train_18.loc[:, train_18.columns != 'LogPrice (€)']\n",
    "y_train_18 = train_18['LogPrice (€)']\n",
    "x_test_18 = test_18.loc[:, test_18.columns != 'LogPrice (€)']\n",
    "y_test_18 = test_18['LogPrice (€)']"
   ]
  },
  {
   "cell_type": "code",
   "execution_count": 176,
   "id": "9a04a7d1",
   "metadata": {},
   "outputs": [],
   "source": [
    "#x_test_18.drop(columns=['Year'], inplace = True)\n",
    "#x_train_18.drop(columns=['Year'], inplace = True)"
   ]
  },
  {
   "cell_type": "markdown",
   "id": "b65f0852",
   "metadata": {},
   "source": [
    "### AutoML"
   ]
  },
  {
   "cell_type": "code",
   "execution_count": 177,
   "id": "fa364063",
   "metadata": {},
   "outputs": [
    {
     "name": "stdout",
     "output_type": "stream",
     "text": [
      "AutoML directory: AutoML_4\n",
      "The task is regression with evaluation metric rmse\n",
      "AutoML will use algorithms: ['Baseline', 'Linear', 'Decision Tree', 'Random Forest', 'Xgboost', 'Neural Network']\n",
      "AutoML will ensemble available models\n",
      "AutoML steps: ['simple_algorithms', 'default_algorithms', 'ensemble']\n",
      "* Step simple_algorithms will try to check up to 3 models\n",
      "1_Baseline rmse 0.545105 trained in 2.42 seconds\n",
      "2_DecisionTree rmse 0.440762 trained in 8.92 seconds\n",
      "3_Linear rmse 0.433763 trained in 6.04 seconds\n",
      "* Step default_algorithms will try to check up to 3 models\n",
      "4_Default_Xgboost rmse 0.42189 trained in 12.58 seconds\n",
      "5_Default_NeuralNetwork rmse 0.430056 trained in 3.31 seconds\n",
      "6_Default_RandomForest rmse 0.425772 trained in 14.1 seconds\n",
      "* Step ensemble will try to check up to 1 model\n",
      "Ensemble rmse 0.417951 trained in 1.01 seconds\n",
      "AutoML fit time: 73.42 seconds\n",
      "AutoML best model: Ensemble\n"
     ]
    },
    {
     "data": {
      "text/plain": [
       "AutoML(explain_level=2, total_time_limit=300)"
      ]
     },
     "execution_count": 177,
     "metadata": {},
     "output_type": "execute_result"
    }
   ],
   "source": [
    "automl = AutoML(total_time_limit = 5 * 60, explain_level = 2)\n",
    "automl.fit(x_train_18, y_train_18)"
   ]
  },
  {
   "cell_type": "code",
   "execution_count": 178,
   "id": "b94a4be7",
   "metadata": {},
   "outputs": [
    {
     "name": "stdout",
     "output_type": "stream",
     "text": [
      "MSE for AutoML 2018 is: 0.18024479987842312\n"
     ]
    }
   ],
   "source": [
    "y_pred_18 = automl.predict(x_test_18)\n",
    "# Calculation of Mean Squared Error (MSE)\n",
    "mse = mean_squared_error(y_test_18, y_pred_18)\n",
    "print('MSE for AutoML 2018 is: ' + str(mse))"
   ]
  },
  {
   "cell_type": "code",
   "execution_count": 179,
   "id": "bb3f67a0",
   "metadata": {},
   "outputs": [
    {
     "name": "stdout",
     "output_type": "stream",
     "text": [
      "Accuracy of properties at +- 10% of actual prices is 0.2337962962962963\n"
     ]
    }
   ],
   "source": [
    "acc = accuracy_threshold(y_test_18, y_pred_18, 0.1)\n",
    "print('Accuracy of properties at +- 10% of actual prices is ' + str(acc))"
   ]
  },
  {
   "cell_type": "code",
   "execution_count": 180,
   "id": "4ac9ef36",
   "metadata": {},
   "outputs": [
    {
     "name": "stdout",
     "output_type": "stream",
     "text": [
      "RMSE for AutoML 2018 is: 0.424552470112262\n"
     ]
    }
   ],
   "source": [
    "rmse = mean_squared_error(y_test_18, y_pred_18, squared = False)\n",
    "print('RMSE for AutoML 2018 is: ' + str(rmse))"
   ]
  },
  {
   "cell_type": "code",
   "execution_count": 181,
   "id": "86bd10ad",
   "metadata": {},
   "outputs": [
    {
     "name": "stdout",
     "output_type": "stream",
     "text": [
      "Median Absolute Error:\n",
      "\n",
      "0.22982835030069673\n"
     ]
    }
   ],
   "source": [
    "median_se = np.square(np.subtract(y_test_18, y_pred_18)).median() \n",
    " \n",
    "med = math.sqrt(median_se)\n",
    "print(\"Median Absolute Error:\\n\")\n",
    "print(med)"
   ]
  },
  {
   "cell_type": "code",
   "execution_count": 182,
   "id": "ce57f425",
   "metadata": {},
   "outputs": [
    {
     "name": "stdout",
     "output_type": "stream",
     "text": [
      "MAPE for AutoML 2018 is: 0.025537233612608793\n"
     ]
    }
   ],
   "source": [
    "mape = mean_absolute_percentage_error(y_test_18, y_pred_18)\n",
    "print(\"MAPE for AutoML 2018 is: \" + str(mape))"
   ]
  },
  {
   "cell_type": "code",
   "execution_count": 183,
   "id": "f4c913fe",
   "metadata": {},
   "outputs": [],
   "source": [
    "cnames = ['Algorithm', 'Year', 'RMSE', 'MSE', 'MEDAE', 'Accuracy','MAPE']\n",
    "df18 = pd.DataFrame(columns = cnames)\n",
    "\n",
    "df18 = df18.append({'Algorithm': 'AutoML',\n",
    "           'Year': 2018,\n",
    "           'RMSE': rmse,\n",
    "           'MSE': mse,\n",
    "           'MEDAE': med,\n",
    "           'Accuracy': acc,\n",
    "           'MAPE': mape         \n",
    "          }, ignore_index = True)"
   ]
  },
  {
   "cell_type": "code",
   "execution_count": 184,
   "id": "2fb97643",
   "metadata": {},
   "outputs": [],
   "source": [
    "#cnames = ['Actual', 'Predicted']\n",
    "#dfreal4 = pd.DataFrame(columns = cnames)\n",
    "dfreal4 = pd.DataFrame(y_test_18.values)\n",
    "dfpred4 = pd.DataFrame(y_pred_18)\n",
    "#dfreal4 = pd.concat([z1, z2], ignore_index=True)"
   ]
  },
  {
   "cell_type": "markdown",
   "id": "41eb5867",
   "metadata": {},
   "source": [
    "### MLR"
   ]
  },
  {
   "cell_type": "code",
   "execution_count": 185,
   "id": "e5483603",
   "metadata": {},
   "outputs": [
    {
     "name": "stdout",
     "output_type": "stream",
     "text": [
      "MSE for MLR 2018 is: 0.18161450958858033\n"
     ]
    }
   ],
   "source": [
    "lm = linear_model.LinearRegression()\n",
    "lm.fit(x_train_18, y_train_18) # fitting the model\n",
    "y_pred_18 = lm.predict(x_test_18)\n",
    "# Calculation of Mean Squared Error (MSE)\n",
    "mse = mean_squared_error(y_test_18, y_pred_18)\n",
    "print('MSE for MLR 2018 is: ' + str(mse))"
   ]
  },
  {
   "cell_type": "code",
   "execution_count": 186,
   "id": "9792680e",
   "metadata": {},
   "outputs": [
    {
     "name": "stdout",
     "output_type": "stream",
     "text": [
      "Accuracy of properties at +- 10% of actual prices is 0.2534722222222222\n"
     ]
    }
   ],
   "source": [
    "acc = accuracy_threshold(y_test_18, y_pred_18, 0.1)\n",
    "print('Accuracy of properties at +- 10% of actual prices is ' + str(acc))"
   ]
  },
  {
   "cell_type": "code",
   "execution_count": 187,
   "id": "2daab6dc",
   "metadata": {},
   "outputs": [
    {
     "name": "stdout",
     "output_type": "stream",
     "text": [
      "RMSE for MLR 2018 is: 0.42616253893154465\n"
     ]
    }
   ],
   "source": [
    "rmse = mean_squared_error(y_test_18, y_pred_18, squared = False)\n",
    "print('RMSE for MLR 2018 is: ' + str(rmse))"
   ]
  },
  {
   "cell_type": "code",
   "execution_count": 188,
   "id": "a236271b",
   "metadata": {},
   "outputs": [
    {
     "name": "stdout",
     "output_type": "stream",
     "text": [
      "Median Absolute Error:\n",
      "\n",
      "0.22470593917689546\n"
     ]
    }
   ],
   "source": [
    "median_se = np.square(np.subtract(y_test_18, y_pred_18)).median() \n",
    " \n",
    "med = math.sqrt(median_se)\n",
    "print(\"Median Absolute Error:\\n\")\n",
    "print(med)"
   ]
  },
  {
   "cell_type": "code",
   "execution_count": 189,
   "id": "8b04f02b",
   "metadata": {},
   "outputs": [
    {
     "name": "stdout",
     "output_type": "stream",
     "text": [
      "MAPE for MLR 2018 is: 0.025817926517815046\n"
     ]
    }
   ],
   "source": [
    "mape = mean_absolute_percentage_error(y_test_18, y_pred_18)\n",
    "print(\"MAPE for MLR 2018 is: \" + str(mape))"
   ]
  },
  {
   "cell_type": "code",
   "execution_count": 190,
   "id": "9781eb0f",
   "metadata": {},
   "outputs": [],
   "source": [
    "cnames = ['Algorithm', 'Year', 'RMSE', 'MSE', 'MEDAE', 'Accuracy', 'MAPE']\n",
    "df19 = pd.DataFrame(columns = cnames)\n",
    "\n",
    "df19 = df19.append({'Algorithm': 'MLR',\n",
    "           'Year': 2018,\n",
    "           'RMSE': rmse,\n",
    "           'MSE': mse,\n",
    "           'MEDAE': med,\n",
    "           'Accuracy': acc,\n",
    "           'MAPE': mape         \n",
    "          }, ignore_index = True)"
   ]
  },
  {
   "cell_type": "markdown",
   "id": "18d02369",
   "metadata": {},
   "source": [
    "### AdaBoost"
   ]
  },
  {
   "cell_type": "code",
   "execution_count": 191,
   "id": "d8820d35",
   "metadata": {},
   "outputs": [
    {
     "name": "stdout",
     "output_type": "stream",
     "text": [
      "MSE for AdaBoost 2018 is: 0.19931531919723414\n"
     ]
    }
   ],
   "source": [
    "model = AdaBoostRegressor()\n",
    "model.fit(x_train_18, y_train_18)\n",
    "y_pred_18 = model.predict(x_test_18)\n",
    "# Calculation of Mean Squared Error (MSE)\n",
    "mse = mean_squared_error(y_test_18, y_pred_18)\n",
    "print('MSE for AdaBoost 2018 is: ' + str(mse))"
   ]
  },
  {
   "cell_type": "code",
   "execution_count": 192,
   "id": "bee989ee",
   "metadata": {},
   "outputs": [
    {
     "name": "stdout",
     "output_type": "stream",
     "text": [
      "Accuracy of properties at +- 10% of actual prices is 0.16898148148148148\n"
     ]
    }
   ],
   "source": [
    "acc = accuracy_threshold(y_test_18, y_pred_18, 0.1)\n",
    "print('Accuracy of properties at +- 10% of actual prices is ' + str(acc))"
   ]
  },
  {
   "cell_type": "code",
   "execution_count": 193,
   "id": "13a6c017",
   "metadata": {},
   "outputs": [
    {
     "name": "stdout",
     "output_type": "stream",
     "text": [
      "Median Absolute Error:\n",
      "\n",
      "0.279088949222833\n"
     ]
    }
   ],
   "source": [
    "median_se = np.square(np.subtract(y_test_18, y_pred_18)).median() \n",
    " \n",
    "med = math.sqrt(median_se)\n",
    "print(\"Median Absolute Error:\\n\")\n",
    "print(med)"
   ]
  },
  {
   "cell_type": "code",
   "execution_count": 194,
   "id": "0c737b65",
   "metadata": {},
   "outputs": [
    {
     "name": "stdout",
     "output_type": "stream",
     "text": [
      "RMSE for MLR 2018 is: 0.44644744281632315\n"
     ]
    }
   ],
   "source": [
    "rmse = mean_squared_error(y_test_18, y_pred_18, squared = False)\n",
    "print('RMSE for MLR 2018 is: ' + str(rmse))"
   ]
  },
  {
   "cell_type": "code",
   "execution_count": 195,
   "id": "7c403a5e",
   "metadata": {},
   "outputs": [
    {
     "name": "stdout",
     "output_type": "stream",
     "text": [
      "MAPE for MLR 2018 is: 0.028109006407367663\n"
     ]
    }
   ],
   "source": [
    "mape = mean_absolute_percentage_error(y_test_18, y_pred_18)\n",
    "print(\"MAPE for MLR 2018 is: \" + str(mape))"
   ]
  },
  {
   "cell_type": "code",
   "execution_count": 196,
   "id": "e92f003a",
   "metadata": {},
   "outputs": [],
   "source": [
    "cnames = ['Algorithm', 'Year', 'RMSE', 'MSE', 'MEDAE', 'Accuracy', 'MAPE']\n",
    "df20 = pd.DataFrame(columns = cnames)\n",
    "\n",
    "df20 = df20.append({'Algorithm': 'AdaBoost',\n",
    "           'Year': 2018,\n",
    "           'RMSE': rmse,\n",
    "           'MSE': mse,\n",
    "           'MEDAE': med,\n",
    "           'Accuracy': acc,\n",
    "           'MAPE': mape         \n",
    "          }, ignore_index = True)"
   ]
  },
  {
   "cell_type": "markdown",
   "id": "ee4e29ce",
   "metadata": {},
   "source": [
    "### LightGBM"
   ]
  },
  {
   "cell_type": "code",
   "execution_count": 197,
   "id": "2408dc22",
   "metadata": {},
   "outputs": [
    {
     "name": "stdout",
     "output_type": "stream",
     "text": [
      "MSE for LightGBM 2018 is: 0.2130788851066004\n"
     ]
    }
   ],
   "source": [
    "model = LGBMRegressor()\n",
    "model.fit(x_train_18, y_train_18)\n",
    "y_pred_18 = model.predict(x_test_18)\n",
    "# Calculation of Mean Squared Error (MSE)\n",
    "mse = mean_squared_error(y_test_18, y_pred_18)\n",
    "print('MSE for LightGBM 2018 is: ' + str(mse))"
   ]
  },
  {
   "cell_type": "code",
   "execution_count": 198,
   "id": "e468b773",
   "metadata": {},
   "outputs": [
    {
     "name": "stdout",
     "output_type": "stream",
     "text": [
      "Accuracy of properties at +- 10% of actual prices is 0.2326388888888889\n"
     ]
    }
   ],
   "source": [
    "acc = accuracy_threshold(y_test_18, y_pred_18, 0.1)\n",
    "print('Accuracy of properties at +- 10% of actual prices is ' + str(acc))"
   ]
  },
  {
   "cell_type": "code",
   "execution_count": 199,
   "id": "96ebc9e9",
   "metadata": {},
   "outputs": [
    {
     "name": "stdout",
     "output_type": "stream",
     "text": [
      "Median Absolute Error:\n",
      "\n",
      "0.24302821224336632\n"
     ]
    }
   ],
   "source": [
    "median_se = np.square(np.subtract(y_test_18, y_pred_18)).median() \n",
    " \n",
    "med = math.sqrt(median_se)\n",
    "print(\"Median Absolute Error:\\n\")\n",
    "print(med)"
   ]
  },
  {
   "cell_type": "code",
   "execution_count": 200,
   "id": "c7f18b29",
   "metadata": {},
   "outputs": [
    {
     "name": "stdout",
     "output_type": "stream",
     "text": [
      "RMSE for LightGBM 2018 is: 0.46160468488372214\n"
     ]
    }
   ],
   "source": [
    "rmse = mean_squared_error(y_test_18, y_pred_18, squared = False)\n",
    "print('RMSE for LightGBM 2018 is: ' + str(rmse))"
   ]
  },
  {
   "cell_type": "code",
   "execution_count": 201,
   "id": "79c37007",
   "metadata": {},
   "outputs": [
    {
     "name": "stdout",
     "output_type": "stream",
     "text": [
      "MAPE for LightGBM 2021 is: 0.027563044765905504\n"
     ]
    }
   ],
   "source": [
    "mape = mean_absolute_percentage_error(y_test_18, y_pred_18)\n",
    "print(\"MAPE for LightGBM 2021 is: \" + str(mape))"
   ]
  },
  {
   "cell_type": "code",
   "execution_count": 202,
   "id": "7bf927d1",
   "metadata": {},
   "outputs": [],
   "source": [
    "cnames = ['Algorithm', 'Year', 'RMSE', 'MSE', 'MEDAE', 'Accuracy', 'MAPE']\n",
    "df21 = pd.DataFrame(columns = cnames)\n",
    "\n",
    "df21 = df21.append({'Algorithm': 'LightGBM',\n",
    "           'Year': 2018,\n",
    "           'RMSE': rmse,\n",
    "           'MSE': mse,\n",
    "           'MEDAE': med,\n",
    "           'Accuracy': acc,\n",
    "           'MAPE': mape         \n",
    "          }, ignore_index = True)"
   ]
  },
  {
   "cell_type": "markdown",
   "id": "55517a01",
   "metadata": {},
   "source": [
    "### CatBoost"
   ]
  },
  {
   "cell_type": "code",
   "execution_count": 203,
   "id": "1c21a0a3",
   "metadata": {},
   "outputs": [
    {
     "name": "stdout",
     "output_type": "stream",
     "text": [
      "Learning rate set to 0.047604\n",
      "0:\tlearn: 0.5630190\ttotal: 5.24ms\tremaining: 5.23s\n",
      "1:\tlearn: 0.5539403\ttotal: 10.3ms\tremaining: 5.16s\n",
      "2:\tlearn: 0.5454545\ttotal: 15.2ms\tremaining: 5.05s\n",
      "3:\tlearn: 0.5371607\ttotal: 20ms\tremaining: 4.99s\n",
      "4:\tlearn: 0.5294259\ttotal: 24.3ms\tremaining: 4.84s\n",
      "5:\tlearn: 0.5220444\ttotal: 28.8ms\tremaining: 4.77s\n",
      "6:\tlearn: 0.5150350\ttotal: 33.2ms\tremaining: 4.71s\n",
      "7:\tlearn: 0.5092495\ttotal: 37.6ms\tremaining: 4.66s\n",
      "8:\tlearn: 0.5034839\ttotal: 42.3ms\tremaining: 4.66s\n",
      "9:\tlearn: 0.4978942\ttotal: 46.4ms\tremaining: 4.59s\n",
      "10:\tlearn: 0.4925814\ttotal: 51.5ms\tremaining: 4.63s\n",
      "11:\tlearn: 0.4884373\ttotal: 55.5ms\tremaining: 4.57s\n",
      "12:\tlearn: 0.4842418\ttotal: 60.1ms\tremaining: 4.56s\n",
      "13:\tlearn: 0.4800525\ttotal: 64.8ms\tremaining: 4.56s\n",
      "14:\tlearn: 0.4766277\ttotal: 69.2ms\tremaining: 4.54s\n",
      "15:\tlearn: 0.4728218\ttotal: 73.8ms\tremaining: 4.54s\n",
      "16:\tlearn: 0.4694434\ttotal: 78.6ms\tremaining: 4.54s\n",
      "17:\tlearn: 0.4661348\ttotal: 82.7ms\tremaining: 4.51s\n",
      "18:\tlearn: 0.4633676\ttotal: 87ms\tremaining: 4.49s\n",
      "19:\tlearn: 0.4604823\ttotal: 90.9ms\tremaining: 4.45s\n",
      "20:\tlearn: 0.4583368\ttotal: 92.9ms\tremaining: 4.33s\n",
      "21:\tlearn: 0.4560412\ttotal: 96.6ms\tremaining: 4.29s\n",
      "22:\tlearn: 0.4537010\ttotal: 100ms\tremaining: 4.25s\n",
      "23:\tlearn: 0.4514870\ttotal: 104ms\tremaining: 4.23s\n",
      "24:\tlearn: 0.4491603\ttotal: 108ms\tremaining: 4.2s\n",
      "25:\tlearn: 0.4471204\ttotal: 113ms\tremaining: 4.22s\n",
      "26:\tlearn: 0.4452959\ttotal: 117ms\tremaining: 4.2s\n",
      "27:\tlearn: 0.4435240\ttotal: 121ms\tremaining: 4.21s\n",
      "28:\tlearn: 0.4419856\ttotal: 128ms\tremaining: 4.29s\n",
      "29:\tlearn: 0.4405887\ttotal: 132ms\tremaining: 4.26s\n",
      "30:\tlearn: 0.4389432\ttotal: 135ms\tremaining: 4.23s\n",
      "31:\tlearn: 0.4377129\ttotal: 139ms\tremaining: 4.21s\n",
      "32:\tlearn: 0.4362486\ttotal: 143ms\tremaining: 4.19s\n",
      "33:\tlearn: 0.4349632\ttotal: 147ms\tremaining: 4.17s\n",
      "34:\tlearn: 0.4337865\ttotal: 151ms\tremaining: 4.15s\n",
      "35:\tlearn: 0.4327952\ttotal: 155ms\tremaining: 4.16s\n",
      "36:\tlearn: 0.4317829\ttotal: 159ms\tremaining: 4.14s\n",
      "37:\tlearn: 0.4309383\ttotal: 166ms\tremaining: 4.2s\n",
      "38:\tlearn: 0.4300559\ttotal: 170ms\tremaining: 4.18s\n",
      "39:\tlearn: 0.4291059\ttotal: 174ms\tremaining: 4.19s\n",
      "40:\tlearn: 0.4281154\ttotal: 179ms\tremaining: 4.18s\n",
      "41:\tlearn: 0.4273785\ttotal: 182ms\tremaining: 4.16s\n",
      "42:\tlearn: 0.4265490\ttotal: 186ms\tremaining: 4.14s\n",
      "43:\tlearn: 0.4255722\ttotal: 190ms\tremaining: 4.12s\n",
      "44:\tlearn: 0.4248104\ttotal: 195ms\tremaining: 4.13s\n",
      "45:\tlearn: 0.4238830\ttotal: 199ms\tremaining: 4.13s\n",
      "46:\tlearn: 0.4232953\ttotal: 204ms\tremaining: 4.13s\n",
      "47:\tlearn: 0.4226316\ttotal: 208ms\tremaining: 4.12s\n",
      "48:\tlearn: 0.4220515\ttotal: 212ms\tremaining: 4.11s\n",
      "49:\tlearn: 0.4214443\ttotal: 216ms\tremaining: 4.1s\n",
      "50:\tlearn: 0.4207641\ttotal: 219ms\tremaining: 4.08s\n",
      "51:\tlearn: 0.4202569\ttotal: 223ms\tremaining: 4.07s\n",
      "52:\tlearn: 0.4198645\ttotal: 227ms\tremaining: 4.05s\n",
      "53:\tlearn: 0.4192898\ttotal: 232ms\tremaining: 4.07s\n",
      "54:\tlearn: 0.4187065\ttotal: 237ms\tremaining: 4.07s\n",
      "55:\tlearn: 0.4181775\ttotal: 241ms\tremaining: 4.06s\n",
      "56:\tlearn: 0.4176699\ttotal: 249ms\tremaining: 4.11s\n",
      "57:\tlearn: 0.4171626\ttotal: 256ms\tremaining: 4.16s\n",
      "58:\tlearn: 0.4166466\ttotal: 262ms\tremaining: 4.18s\n",
      "59:\tlearn: 0.4162260\ttotal: 267ms\tremaining: 4.18s\n",
      "60:\tlearn: 0.4157868\ttotal: 274ms\tremaining: 4.21s\n",
      "61:\tlearn: 0.4154075\ttotal: 282ms\tremaining: 4.27s\n",
      "62:\tlearn: 0.4150470\ttotal: 289ms\tremaining: 4.3s\n",
      "63:\tlearn: 0.4144490\ttotal: 294ms\tremaining: 4.3s\n",
      "64:\tlearn: 0.4139703\ttotal: 299ms\tremaining: 4.3s\n",
      "65:\tlearn: 0.4136183\ttotal: 304ms\tremaining: 4.3s\n",
      "66:\tlearn: 0.4132105\ttotal: 309ms\tremaining: 4.3s\n",
      "67:\tlearn: 0.4128397\ttotal: 313ms\tremaining: 4.29s\n",
      "68:\tlearn: 0.4124155\ttotal: 317ms\tremaining: 4.28s\n",
      "69:\tlearn: 0.4120059\ttotal: 321ms\tremaining: 4.27s\n",
      "70:\tlearn: 0.4115854\ttotal: 325ms\tremaining: 4.25s\n",
      "71:\tlearn: 0.4113450\ttotal: 329ms\tremaining: 4.24s\n",
      "72:\tlearn: 0.4111117\ttotal: 333ms\tremaining: 4.22s\n",
      "73:\tlearn: 0.4108099\ttotal: 337ms\tremaining: 4.22s\n",
      "74:\tlearn: 0.4104213\ttotal: 342ms\tremaining: 4.21s\n",
      "75:\tlearn: 0.4100177\ttotal: 347ms\tremaining: 4.21s\n",
      "76:\tlearn: 0.4098038\ttotal: 351ms\tremaining: 4.21s\n",
      "77:\tlearn: 0.4094791\ttotal: 355ms\tremaining: 4.19s\n",
      "78:\tlearn: 0.4091683\ttotal: 358ms\tremaining: 4.18s\n",
      "79:\tlearn: 0.4088103\ttotal: 362ms\tremaining: 4.17s\n",
      "80:\tlearn: 0.4084754\ttotal: 367ms\tremaining: 4.16s\n",
      "81:\tlearn: 0.4082148\ttotal: 371ms\tremaining: 4.15s\n",
      "82:\tlearn: 0.4080396\ttotal: 375ms\tremaining: 4.15s\n",
      "83:\tlearn: 0.4078013\ttotal: 383ms\tremaining: 4.18s\n",
      "84:\tlearn: 0.4074788\ttotal: 387ms\tremaining: 4.17s\n",
      "85:\tlearn: 0.4072073\ttotal: 397ms\tremaining: 4.22s\n",
      "86:\tlearn: 0.4068383\ttotal: 404ms\tremaining: 4.24s\n",
      "87:\tlearn: 0.4063643\ttotal: 411ms\tremaining: 4.26s\n",
      "88:\tlearn: 0.4060177\ttotal: 416ms\tremaining: 4.25s\n",
      "89:\tlearn: 0.4057023\ttotal: 423ms\tremaining: 4.28s\n",
      "90:\tlearn: 0.4054886\ttotal: 431ms\tremaining: 4.3s\n",
      "91:\tlearn: 0.4051995\ttotal: 436ms\tremaining: 4.3s\n",
      "92:\tlearn: 0.4049350\ttotal: 442ms\tremaining: 4.31s\n",
      "93:\tlearn: 0.4047081\ttotal: 447ms\tremaining: 4.31s\n",
      "94:\tlearn: 0.4045522\ttotal: 452ms\tremaining: 4.31s\n",
      "95:\tlearn: 0.4043380\ttotal: 462ms\tremaining: 4.35s\n",
      "96:\tlearn: 0.4041564\ttotal: 468ms\tremaining: 4.35s\n",
      "97:\tlearn: 0.4038706\ttotal: 476ms\tremaining: 4.38s\n",
      "98:\tlearn: 0.4036627\ttotal: 481ms\tremaining: 4.38s\n",
      "99:\tlearn: 0.4032842\ttotal: 486ms\tremaining: 4.37s\n",
      "100:\tlearn: 0.4028835\ttotal: 493ms\tremaining: 4.39s\n",
      "101:\tlearn: 0.4025227\ttotal: 498ms\tremaining: 4.38s\n",
      "102:\tlearn: 0.4022921\ttotal: 503ms\tremaining: 4.38s\n",
      "103:\tlearn: 0.4020724\ttotal: 512ms\tremaining: 4.41s\n",
      "104:\tlearn: 0.4018705\ttotal: 523ms\tremaining: 4.46s\n",
      "105:\tlearn: 0.4017091\ttotal: 530ms\tremaining: 4.47s\n",
      "106:\tlearn: 0.4014826\ttotal: 538ms\tremaining: 4.49s\n",
      "107:\tlearn: 0.4013004\ttotal: 545ms\tremaining: 4.5s\n",
      "108:\tlearn: 0.4010345\ttotal: 554ms\tremaining: 4.53s\n",
      "109:\tlearn: 0.4008006\ttotal: 560ms\tremaining: 4.53s\n",
      "110:\tlearn: 0.4006140\ttotal: 565ms\tremaining: 4.52s\n",
      "111:\tlearn: 0.4004434\ttotal: 574ms\tremaining: 4.55s\n",
      "112:\tlearn: 0.4001649\ttotal: 580ms\tremaining: 4.55s\n",
      "113:\tlearn: 0.3999095\ttotal: 588ms\tremaining: 4.57s\n",
      "114:\tlearn: 0.3997135\ttotal: 592ms\tremaining: 4.56s\n",
      "115:\tlearn: 0.3995233\ttotal: 597ms\tremaining: 4.55s\n",
      "116:\tlearn: 0.3993214\ttotal: 602ms\tremaining: 4.54s\n",
      "117:\tlearn: 0.3991620\ttotal: 606ms\tremaining: 4.53s\n",
      "118:\tlearn: 0.3988904\ttotal: 611ms\tremaining: 4.52s\n",
      "119:\tlearn: 0.3985602\ttotal: 615ms\tremaining: 4.51s\n",
      "120:\tlearn: 0.3984509\ttotal: 619ms\tremaining: 4.5s\n",
      "121:\tlearn: 0.3980990\ttotal: 622ms\tremaining: 4.48s\n",
      "122:\tlearn: 0.3978323\ttotal: 628ms\tremaining: 4.48s\n",
      "123:\tlearn: 0.3977446\ttotal: 632ms\tremaining: 4.46s\n",
      "124:\tlearn: 0.3976104\ttotal: 636ms\tremaining: 4.45s\n",
      "125:\tlearn: 0.3973601\ttotal: 639ms\tremaining: 4.43s\n",
      "126:\tlearn: 0.3970664\ttotal: 643ms\tremaining: 4.42s\n",
      "127:\tlearn: 0.3968190\ttotal: 646ms\tremaining: 4.4s\n",
      "128:\tlearn: 0.3965785\ttotal: 650ms\tremaining: 4.39s\n",
      "129:\tlearn: 0.3962436\ttotal: 654ms\tremaining: 4.38s\n",
      "130:\tlearn: 0.3959286\ttotal: 658ms\tremaining: 4.36s\n",
      "131:\tlearn: 0.3958249\ttotal: 662ms\tremaining: 4.35s\n",
      "132:\tlearn: 0.3956373\ttotal: 665ms\tremaining: 4.34s\n",
      "133:\tlearn: 0.3954799\ttotal: 669ms\tremaining: 4.32s\n",
      "134:\tlearn: 0.3953117\ttotal: 673ms\tremaining: 4.31s\n",
      "135:\tlearn: 0.3950440\ttotal: 677ms\tremaining: 4.3s\n",
      "136:\tlearn: 0.3948600\ttotal: 680ms\tremaining: 4.29s\n",
      "137:\tlearn: 0.3946171\ttotal: 684ms\tremaining: 4.27s\n",
      "138:\tlearn: 0.3944749\ttotal: 688ms\tremaining: 4.26s\n",
      "139:\tlearn: 0.3942442\ttotal: 692ms\tremaining: 4.25s\n",
      "140:\tlearn: 0.3938782\ttotal: 696ms\tremaining: 4.24s\n",
      "141:\tlearn: 0.3936784\ttotal: 699ms\tremaining: 4.22s\n",
      "142:\tlearn: 0.3934418\ttotal: 703ms\tremaining: 4.21s\n",
      "143:\tlearn: 0.3933093\ttotal: 707ms\tremaining: 4.2s\n",
      "144:\tlearn: 0.3931955\ttotal: 712ms\tremaining: 4.2s\n",
      "145:\tlearn: 0.3929881\ttotal: 716ms\tremaining: 4.18s\n",
      "146:\tlearn: 0.3928496\ttotal: 720ms\tremaining: 4.18s\n",
      "147:\tlearn: 0.3927471\ttotal: 726ms\tremaining: 4.18s\n",
      "148:\tlearn: 0.3925136\ttotal: 730ms\tremaining: 4.17s\n",
      "149:\tlearn: 0.3924209\ttotal: 733ms\tremaining: 4.15s\n",
      "150:\tlearn: 0.3922602\ttotal: 738ms\tremaining: 4.15s\n",
      "151:\tlearn: 0.3920433\ttotal: 744ms\tremaining: 4.15s\n",
      "152:\tlearn: 0.3919545\ttotal: 749ms\tremaining: 4.14s\n",
      "153:\tlearn: 0.3918588\ttotal: 753ms\tremaining: 4.14s\n",
      "154:\tlearn: 0.3916825\ttotal: 758ms\tremaining: 4.13s\n",
      "155:\tlearn: 0.3915063\ttotal: 762ms\tremaining: 4.12s\n",
      "156:\tlearn: 0.3913131\ttotal: 767ms\tremaining: 4.12s\n",
      "157:\tlearn: 0.3911263\ttotal: 772ms\tremaining: 4.12s\n",
      "158:\tlearn: 0.3909163\ttotal: 778ms\tremaining: 4.12s\n",
      "159:\tlearn: 0.3908134\ttotal: 785ms\tremaining: 4.12s\n",
      "160:\tlearn: 0.3906716\ttotal: 789ms\tremaining: 4.11s\n",
      "161:\tlearn: 0.3904986\ttotal: 793ms\tremaining: 4.1s\n",
      "162:\tlearn: 0.3903663\ttotal: 797ms\tremaining: 4.09s\n",
      "163:\tlearn: 0.3902436\ttotal: 800ms\tremaining: 4.08s\n",
      "164:\tlearn: 0.3900851\ttotal: 804ms\tremaining: 4.07s\n",
      "165:\tlearn: 0.3899554\ttotal: 809ms\tremaining: 4.06s\n"
     ]
    },
    {
     "name": "stdout",
     "output_type": "stream",
     "text": [
      "166:\tlearn: 0.3897166\ttotal: 815ms\tremaining: 4.07s\n",
      "167:\tlearn: 0.3895472\ttotal: 820ms\tremaining: 4.06s\n",
      "168:\tlearn: 0.3893760\ttotal: 825ms\tremaining: 4.05s\n",
      "169:\tlearn: 0.3891230\ttotal: 829ms\tremaining: 4.04s\n",
      "170:\tlearn: 0.3889100\ttotal: 833ms\tremaining: 4.04s\n",
      "171:\tlearn: 0.3888036\ttotal: 839ms\tremaining: 4.04s\n",
      "172:\tlearn: 0.3886664\ttotal: 844ms\tremaining: 4.03s\n",
      "173:\tlearn: 0.3885592\ttotal: 847ms\tremaining: 4.02s\n",
      "174:\tlearn: 0.3883794\ttotal: 851ms\tremaining: 4.01s\n",
      "175:\tlearn: 0.3882138\ttotal: 855ms\tremaining: 4s\n",
      "176:\tlearn: 0.3881037\ttotal: 859ms\tremaining: 4s\n",
      "177:\tlearn: 0.3878797\ttotal: 863ms\tremaining: 3.99s\n",
      "178:\tlearn: 0.3877748\ttotal: 867ms\tremaining: 3.98s\n",
      "179:\tlearn: 0.3876378\ttotal: 872ms\tremaining: 3.97s\n",
      "180:\tlearn: 0.3875501\ttotal: 876ms\tremaining: 3.96s\n",
      "181:\tlearn: 0.3873951\ttotal: 879ms\tremaining: 3.95s\n",
      "182:\tlearn: 0.3872224\ttotal: 883ms\tremaining: 3.94s\n",
      "183:\tlearn: 0.3870775\ttotal: 888ms\tremaining: 3.94s\n",
      "184:\tlearn: 0.3869623\ttotal: 892ms\tremaining: 3.93s\n",
      "185:\tlearn: 0.3868041\ttotal: 896ms\tremaining: 3.92s\n",
      "186:\tlearn: 0.3866796\ttotal: 900ms\tremaining: 3.91s\n",
      "187:\tlearn: 0.3865331\ttotal: 904ms\tremaining: 3.9s\n",
      "188:\tlearn: 0.3864110\ttotal: 907ms\tremaining: 3.89s\n",
      "189:\tlearn: 0.3863348\ttotal: 911ms\tremaining: 3.88s\n",
      "190:\tlearn: 0.3862552\ttotal: 915ms\tremaining: 3.87s\n",
      "191:\tlearn: 0.3860536\ttotal: 918ms\tremaining: 3.86s\n",
      "192:\tlearn: 0.3858331\ttotal: 925ms\tremaining: 3.87s\n",
      "193:\tlearn: 0.3857484\ttotal: 929ms\tremaining: 3.86s\n",
      "194:\tlearn: 0.3856166\ttotal: 934ms\tremaining: 3.86s\n",
      "195:\tlearn: 0.3855072\ttotal: 939ms\tremaining: 3.85s\n",
      "196:\tlearn: 0.3853101\ttotal: 943ms\tremaining: 3.85s\n",
      "197:\tlearn: 0.3851683\ttotal: 949ms\tremaining: 3.84s\n",
      "198:\tlearn: 0.3850942\ttotal: 956ms\tremaining: 3.85s\n",
      "199:\tlearn: 0.3850122\ttotal: 960ms\tremaining: 3.84s\n",
      "200:\tlearn: 0.3849215\ttotal: 965ms\tremaining: 3.84s\n",
      "201:\tlearn: 0.3847330\ttotal: 970ms\tremaining: 3.83s\n",
      "202:\tlearn: 0.3845465\ttotal: 975ms\tremaining: 3.83s\n",
      "203:\tlearn: 0.3844198\ttotal: 980ms\tremaining: 3.83s\n",
      "204:\tlearn: 0.3843373\ttotal: 988ms\tremaining: 3.83s\n",
      "205:\tlearn: 0.3842750\ttotal: 994ms\tremaining: 3.83s\n",
      "206:\tlearn: 0.3842219\ttotal: 998ms\tremaining: 3.82s\n",
      "207:\tlearn: 0.3841296\ttotal: 1s\tremaining: 3.83s\n",
      "208:\tlearn: 0.3839319\ttotal: 1.01s\tremaining: 3.83s\n",
      "209:\tlearn: 0.3836985\ttotal: 1.02s\tremaining: 3.83s\n",
      "210:\tlearn: 0.3835751\ttotal: 1.02s\tremaining: 3.82s\n",
      "211:\tlearn: 0.3834395\ttotal: 1.03s\tremaining: 3.82s\n",
      "212:\tlearn: 0.3833633\ttotal: 1.03s\tremaining: 3.81s\n",
      "213:\tlearn: 0.3832706\ttotal: 1.04s\tremaining: 3.81s\n",
      "214:\tlearn: 0.3831005\ttotal: 1.04s\tremaining: 3.81s\n",
      "215:\tlearn: 0.3829592\ttotal: 1.05s\tremaining: 3.81s\n",
      "216:\tlearn: 0.3828651\ttotal: 1.05s\tremaining: 3.8s\n",
      "217:\tlearn: 0.3826834\ttotal: 1.06s\tremaining: 3.8s\n",
      "218:\tlearn: 0.3826007\ttotal: 1.06s\tremaining: 3.8s\n",
      "219:\tlearn: 0.3825235\ttotal: 1.07s\tremaining: 3.79s\n",
      "220:\tlearn: 0.3824503\ttotal: 1.07s\tremaining: 3.79s\n",
      "221:\tlearn: 0.3822210\ttotal: 1.08s\tremaining: 3.78s\n",
      "222:\tlearn: 0.3821028\ttotal: 1.08s\tremaining: 3.78s\n",
      "223:\tlearn: 0.3818897\ttotal: 1.09s\tremaining: 3.78s\n",
      "224:\tlearn: 0.3817058\ttotal: 1.09s\tremaining: 3.77s\n",
      "225:\tlearn: 0.3816053\ttotal: 1.1s\tremaining: 3.76s\n",
      "226:\tlearn: 0.3813859\ttotal: 1.1s\tremaining: 3.76s\n",
      "227:\tlearn: 0.3813003\ttotal: 1.11s\tremaining: 3.75s\n",
      "228:\tlearn: 0.3811868\ttotal: 1.11s\tremaining: 3.75s\n",
      "229:\tlearn: 0.3810750\ttotal: 1.12s\tremaining: 3.74s\n",
      "230:\tlearn: 0.3809994\ttotal: 1.12s\tremaining: 3.73s\n",
      "231:\tlearn: 0.3809219\ttotal: 1.13s\tremaining: 3.73s\n",
      "232:\tlearn: 0.3808574\ttotal: 1.13s\tremaining: 3.72s\n",
      "233:\tlearn: 0.3807288\ttotal: 1.13s\tremaining: 3.71s\n",
      "234:\tlearn: 0.3805628\ttotal: 1.14s\tremaining: 3.7s\n",
      "235:\tlearn: 0.3803918\ttotal: 1.14s\tremaining: 3.7s\n",
      "236:\tlearn: 0.3802658\ttotal: 1.15s\tremaining: 3.69s\n",
      "237:\tlearn: 0.3801879\ttotal: 1.15s\tremaining: 3.68s\n",
      "238:\tlearn: 0.3800336\ttotal: 1.15s\tremaining: 3.67s\n",
      "239:\tlearn: 0.3799717\ttotal: 1.16s\tremaining: 3.67s\n",
      "240:\tlearn: 0.3798452\ttotal: 1.16s\tremaining: 3.66s\n",
      "241:\tlearn: 0.3797113\ttotal: 1.17s\tremaining: 3.65s\n",
      "242:\tlearn: 0.3796155\ttotal: 1.17s\tremaining: 3.65s\n",
      "243:\tlearn: 0.3795414\ttotal: 1.18s\tremaining: 3.64s\n",
      "244:\tlearn: 0.3794736\ttotal: 1.18s\tremaining: 3.63s\n",
      "245:\tlearn: 0.3793301\ttotal: 1.18s\tremaining: 3.63s\n",
      "246:\tlearn: 0.3791433\ttotal: 1.19s\tremaining: 3.62s\n",
      "247:\tlearn: 0.3788701\ttotal: 1.19s\tremaining: 3.61s\n",
      "248:\tlearn: 0.3787149\ttotal: 1.2s\tremaining: 3.6s\n",
      "249:\tlearn: 0.3786180\ttotal: 1.2s\tremaining: 3.6s\n",
      "250:\tlearn: 0.3785090\ttotal: 1.2s\tremaining: 3.59s\n",
      "251:\tlearn: 0.3784144\ttotal: 1.21s\tremaining: 3.58s\n",
      "252:\tlearn: 0.3782732\ttotal: 1.21s\tremaining: 3.58s\n",
      "253:\tlearn: 0.3781741\ttotal: 1.22s\tremaining: 3.58s\n",
      "254:\tlearn: 0.3779665\ttotal: 1.22s\tremaining: 3.57s\n",
      "255:\tlearn: 0.3778273\ttotal: 1.23s\tremaining: 3.57s\n",
      "256:\tlearn: 0.3777720\ttotal: 1.23s\tremaining: 3.57s\n",
      "257:\tlearn: 0.3775744\ttotal: 1.24s\tremaining: 3.57s\n",
      "258:\tlearn: 0.3774957\ttotal: 1.25s\tremaining: 3.57s\n",
      "259:\tlearn: 0.3774148\ttotal: 1.25s\tremaining: 3.56s\n",
      "260:\tlearn: 0.3772886\ttotal: 1.26s\tremaining: 3.56s\n",
      "261:\tlearn: 0.3771845\ttotal: 1.26s\tremaining: 3.56s\n",
      "262:\tlearn: 0.3770872\ttotal: 1.27s\tremaining: 3.55s\n",
      "263:\tlearn: 0.3769495\ttotal: 1.27s\tremaining: 3.54s\n",
      "264:\tlearn: 0.3768427\ttotal: 1.27s\tremaining: 3.54s\n",
      "265:\tlearn: 0.3766460\ttotal: 1.28s\tremaining: 3.53s\n",
      "266:\tlearn: 0.3765688\ttotal: 1.28s\tremaining: 3.52s\n",
      "267:\tlearn: 0.3764940\ttotal: 1.29s\tremaining: 3.51s\n",
      "268:\tlearn: 0.3763855\ttotal: 1.29s\tremaining: 3.51s\n",
      "269:\tlearn: 0.3762562\ttotal: 1.3s\tremaining: 3.5s\n",
      "270:\tlearn: 0.3761542\ttotal: 1.3s\tremaining: 3.5s\n",
      "271:\tlearn: 0.3760253\ttotal: 1.3s\tremaining: 3.49s\n",
      "272:\tlearn: 0.3758667\ttotal: 1.31s\tremaining: 3.48s\n",
      "273:\tlearn: 0.3757547\ttotal: 1.31s\tremaining: 3.48s\n",
      "274:\tlearn: 0.3756105\ttotal: 1.31s\tremaining: 3.47s\n",
      "275:\tlearn: 0.3754498\ttotal: 1.32s\tremaining: 3.46s\n",
      "276:\tlearn: 0.3752046\ttotal: 1.32s\tremaining: 3.45s\n",
      "277:\tlearn: 0.3750940\ttotal: 1.33s\tremaining: 3.45s\n",
      "278:\tlearn: 0.3749241\ttotal: 1.33s\tremaining: 3.44s\n",
      "279:\tlearn: 0.3748825\ttotal: 1.33s\tremaining: 3.43s\n",
      "280:\tlearn: 0.3747780\ttotal: 1.34s\tremaining: 3.43s\n",
      "281:\tlearn: 0.3745751\ttotal: 1.34s\tremaining: 3.42s\n",
      "282:\tlearn: 0.3743967\ttotal: 1.35s\tremaining: 3.41s\n",
      "283:\tlearn: 0.3742835\ttotal: 1.35s\tremaining: 3.41s\n",
      "284:\tlearn: 0.3741971\ttotal: 1.35s\tremaining: 3.4s\n",
      "285:\tlearn: 0.3741259\ttotal: 1.36s\tremaining: 3.39s\n",
      "286:\tlearn: 0.3740241\ttotal: 1.36s\tremaining: 3.38s\n",
      "287:\tlearn: 0.3739368\ttotal: 1.37s\tremaining: 3.38s\n",
      "288:\tlearn: 0.3738441\ttotal: 1.37s\tremaining: 3.37s\n",
      "289:\tlearn: 0.3737116\ttotal: 1.37s\tremaining: 3.36s\n",
      "290:\tlearn: 0.3735894\ttotal: 1.38s\tremaining: 3.36s\n",
      "291:\tlearn: 0.3735181\ttotal: 1.38s\tremaining: 3.35s\n",
      "292:\tlearn: 0.3733424\ttotal: 1.39s\tremaining: 3.34s\n",
      "293:\tlearn: 0.3732978\ttotal: 1.39s\tremaining: 3.33s\n",
      "294:\tlearn: 0.3732521\ttotal: 1.39s\tremaining: 3.33s\n",
      "295:\tlearn: 0.3731516\ttotal: 1.4s\tremaining: 3.32s\n",
      "296:\tlearn: 0.3729631\ttotal: 1.4s\tremaining: 3.32s\n",
      "297:\tlearn: 0.3728587\ttotal: 1.41s\tremaining: 3.31s\n",
      "298:\tlearn: 0.3727964\ttotal: 1.41s\tremaining: 3.3s\n",
      "299:\tlearn: 0.3727610\ttotal: 1.41s\tremaining: 3.3s\n",
      "300:\tlearn: 0.3727127\ttotal: 1.42s\tremaining: 3.29s\n",
      "301:\tlearn: 0.3726686\ttotal: 1.42s\tremaining: 3.29s\n",
      "302:\tlearn: 0.3725595\ttotal: 1.43s\tremaining: 3.28s\n",
      "303:\tlearn: 0.3724532\ttotal: 1.43s\tremaining: 3.27s\n",
      "304:\tlearn: 0.3723863\ttotal: 1.43s\tremaining: 3.26s\n",
      "305:\tlearn: 0.3722564\ttotal: 1.44s\tremaining: 3.26s\n",
      "306:\tlearn: 0.3721956\ttotal: 1.44s\tremaining: 3.25s\n",
      "307:\tlearn: 0.3720355\ttotal: 1.44s\tremaining: 3.24s\n",
      "308:\tlearn: 0.3719797\ttotal: 1.45s\tremaining: 3.24s\n",
      "309:\tlearn: 0.3718440\ttotal: 1.45s\tremaining: 3.23s\n",
      "310:\tlearn: 0.3717678\ttotal: 1.46s\tremaining: 3.23s\n",
      "311:\tlearn: 0.3716445\ttotal: 1.47s\tremaining: 3.23s\n",
      "312:\tlearn: 0.3716004\ttotal: 1.47s\tremaining: 3.22s\n",
      "313:\tlearn: 0.3714357\ttotal: 1.47s\tremaining: 3.22s\n",
      "314:\tlearn: 0.3713403\ttotal: 1.48s\tremaining: 3.21s\n",
      "315:\tlearn: 0.3712503\ttotal: 1.48s\tremaining: 3.21s\n",
      "316:\tlearn: 0.3711859\ttotal: 1.49s\tremaining: 3.2s\n",
      "317:\tlearn: 0.3710200\ttotal: 1.49s\tremaining: 3.19s\n",
      "318:\tlearn: 0.3709348\ttotal: 1.49s\tremaining: 3.19s\n",
      "319:\tlearn: 0.3709056\ttotal: 1.5s\tremaining: 3.18s\n",
      "320:\tlearn: 0.3707406\ttotal: 1.5s\tremaining: 3.17s\n",
      "321:\tlearn: 0.3706998\ttotal: 1.5s\tremaining: 3.17s\n",
      "322:\tlearn: 0.3705483\ttotal: 1.51s\tremaining: 3.16s\n",
      "323:\tlearn: 0.3704800\ttotal: 1.51s\tremaining: 3.16s\n",
      "324:\tlearn: 0.3704256\ttotal: 1.52s\tremaining: 3.15s\n",
      "325:\tlearn: 0.3702895\ttotal: 1.52s\tremaining: 3.14s\n",
      "326:\tlearn: 0.3702340\ttotal: 1.52s\tremaining: 3.14s\n",
      "327:\tlearn: 0.3701899\ttotal: 1.53s\tremaining: 3.13s\n",
      "328:\tlearn: 0.3701035\ttotal: 1.53s\tremaining: 3.12s\n",
      "329:\tlearn: 0.3700290\ttotal: 1.53s\tremaining: 3.12s\n",
      "330:\tlearn: 0.3699656\ttotal: 1.54s\tremaining: 3.11s\n",
      "331:\tlearn: 0.3698992\ttotal: 1.54s\tremaining: 3.1s\n",
      "332:\tlearn: 0.3698188\ttotal: 1.55s\tremaining: 3.1s\n",
      "333:\tlearn: 0.3696507\ttotal: 1.55s\tremaining: 3.09s\n",
      "334:\tlearn: 0.3694691\ttotal: 1.55s\tremaining: 3.08s\n",
      "335:\tlearn: 0.3693097\ttotal: 1.56s\tremaining: 3.08s\n",
      "336:\tlearn: 0.3691324\ttotal: 1.56s\tremaining: 3.07s\n",
      "337:\tlearn: 0.3690129\ttotal: 1.56s\tremaining: 3.06s\n",
      "338:\tlearn: 0.3689552\ttotal: 1.57s\tremaining: 3.06s\n"
     ]
    },
    {
     "name": "stdout",
     "output_type": "stream",
     "text": [
      "339:\tlearn: 0.3688645\ttotal: 1.57s\tremaining: 3.06s\n",
      "340:\tlearn: 0.3687957\ttotal: 1.58s\tremaining: 3.05s\n",
      "341:\tlearn: 0.3687232\ttotal: 1.58s\tremaining: 3.04s\n",
      "342:\tlearn: 0.3686120\ttotal: 1.59s\tremaining: 3.04s\n",
      "343:\tlearn: 0.3685676\ttotal: 1.59s\tremaining: 3.03s\n",
      "344:\tlearn: 0.3684231\ttotal: 1.59s\tremaining: 3.03s\n",
      "345:\tlearn: 0.3682447\ttotal: 1.6s\tremaining: 3.02s\n",
      "346:\tlearn: 0.3681491\ttotal: 1.6s\tremaining: 3.01s\n",
      "347:\tlearn: 0.3679938\ttotal: 1.6s\tremaining: 3.01s\n",
      "348:\tlearn: 0.3679431\ttotal: 1.61s\tremaining: 3s\n",
      "349:\tlearn: 0.3678829\ttotal: 1.61s\tremaining: 3s\n",
      "350:\tlearn: 0.3678302\ttotal: 1.62s\tremaining: 2.99s\n",
      "351:\tlearn: 0.3676843\ttotal: 1.62s\tremaining: 2.98s\n",
      "352:\tlearn: 0.3675824\ttotal: 1.62s\tremaining: 2.98s\n",
      "353:\tlearn: 0.3675183\ttotal: 1.63s\tremaining: 2.97s\n",
      "354:\tlearn: 0.3674501\ttotal: 1.63s\tremaining: 2.96s\n",
      "355:\tlearn: 0.3673314\ttotal: 1.64s\tremaining: 2.96s\n",
      "356:\tlearn: 0.3672021\ttotal: 1.64s\tremaining: 2.96s\n",
      "357:\tlearn: 0.3671603\ttotal: 1.64s\tremaining: 2.95s\n",
      "358:\tlearn: 0.3670293\ttotal: 1.65s\tremaining: 2.94s\n",
      "359:\tlearn: 0.3669548\ttotal: 1.65s\tremaining: 2.94s\n",
      "360:\tlearn: 0.3668415\ttotal: 1.66s\tremaining: 2.93s\n",
      "361:\tlearn: 0.3667674\ttotal: 1.66s\tremaining: 2.92s\n",
      "362:\tlearn: 0.3666762\ttotal: 1.66s\tremaining: 2.92s\n",
      "363:\tlearn: 0.3666330\ttotal: 1.67s\tremaining: 2.91s\n",
      "364:\tlearn: 0.3665837\ttotal: 1.67s\tremaining: 2.91s\n",
      "365:\tlearn: 0.3665230\ttotal: 1.67s\tremaining: 2.9s\n",
      "366:\tlearn: 0.3664065\ttotal: 1.68s\tremaining: 2.89s\n",
      "367:\tlearn: 0.3663132\ttotal: 1.68s\tremaining: 2.89s\n",
      "368:\tlearn: 0.3661983\ttotal: 1.69s\tremaining: 2.88s\n",
      "369:\tlearn: 0.3661755\ttotal: 1.69s\tremaining: 2.88s\n",
      "370:\tlearn: 0.3660927\ttotal: 1.69s\tremaining: 2.87s\n",
      "371:\tlearn: 0.3659823\ttotal: 1.7s\tremaining: 2.87s\n",
      "372:\tlearn: 0.3658896\ttotal: 1.7s\tremaining: 2.86s\n",
      "373:\tlearn: 0.3658308\ttotal: 1.71s\tremaining: 2.85s\n",
      "374:\tlearn: 0.3656992\ttotal: 1.71s\tremaining: 2.85s\n",
      "375:\tlearn: 0.3656410\ttotal: 1.72s\tremaining: 2.85s\n",
      "376:\tlearn: 0.3655119\ttotal: 1.72s\tremaining: 2.84s\n",
      "377:\tlearn: 0.3653471\ttotal: 1.72s\tremaining: 2.84s\n",
      "378:\tlearn: 0.3652631\ttotal: 1.73s\tremaining: 2.83s\n",
      "379:\tlearn: 0.3651384\ttotal: 1.73s\tremaining: 2.83s\n",
      "380:\tlearn: 0.3650394\ttotal: 1.74s\tremaining: 2.83s\n",
      "381:\tlearn: 0.3649639\ttotal: 1.75s\tremaining: 2.83s\n",
      "382:\tlearn: 0.3648223\ttotal: 1.75s\tremaining: 2.82s\n",
      "383:\tlearn: 0.3646228\ttotal: 1.76s\tremaining: 2.82s\n",
      "384:\tlearn: 0.3644927\ttotal: 1.76s\tremaining: 2.81s\n",
      "385:\tlearn: 0.3643919\ttotal: 1.76s\tremaining: 2.81s\n",
      "386:\tlearn: 0.3643325\ttotal: 1.77s\tremaining: 2.8s\n",
      "387:\tlearn: 0.3642297\ttotal: 1.77s\tremaining: 2.8s\n",
      "388:\tlearn: 0.3641500\ttotal: 1.78s\tremaining: 2.79s\n",
      "389:\tlearn: 0.3640833\ttotal: 1.78s\tremaining: 2.79s\n",
      "390:\tlearn: 0.3640200\ttotal: 1.78s\tremaining: 2.78s\n",
      "391:\tlearn: 0.3638953\ttotal: 1.79s\tremaining: 2.78s\n",
      "392:\tlearn: 0.3637100\ttotal: 1.79s\tremaining: 2.77s\n",
      "393:\tlearn: 0.3636538\ttotal: 1.8s\tremaining: 2.77s\n",
      "394:\tlearn: 0.3636204\ttotal: 1.8s\tremaining: 2.76s\n",
      "395:\tlearn: 0.3634591\ttotal: 1.81s\tremaining: 2.76s\n",
      "396:\tlearn: 0.3633382\ttotal: 1.81s\tremaining: 2.75s\n",
      "397:\tlearn: 0.3631047\ttotal: 1.82s\tremaining: 2.75s\n",
      "398:\tlearn: 0.3630628\ttotal: 1.82s\tremaining: 2.75s\n",
      "399:\tlearn: 0.3629471\ttotal: 1.83s\tremaining: 2.74s\n",
      "400:\tlearn: 0.3628883\ttotal: 1.83s\tremaining: 2.73s\n",
      "401:\tlearn: 0.3628230\ttotal: 1.83s\tremaining: 2.73s\n",
      "402:\tlearn: 0.3627509\ttotal: 1.84s\tremaining: 2.72s\n",
      "403:\tlearn: 0.3626472\ttotal: 1.84s\tremaining: 2.72s\n",
      "404:\tlearn: 0.3626068\ttotal: 1.85s\tremaining: 2.71s\n",
      "405:\tlearn: 0.3625404\ttotal: 1.85s\tremaining: 2.71s\n",
      "406:\tlearn: 0.3624390\ttotal: 1.86s\tremaining: 2.71s\n",
      "407:\tlearn: 0.3623692\ttotal: 1.86s\tremaining: 2.7s\n",
      "408:\tlearn: 0.3622994\ttotal: 1.87s\tremaining: 2.7s\n",
      "409:\tlearn: 0.3622643\ttotal: 1.88s\tremaining: 2.7s\n",
      "410:\tlearn: 0.3621914\ttotal: 1.89s\tremaining: 2.7s\n",
      "411:\tlearn: 0.3620927\ttotal: 1.89s\tremaining: 2.7s\n",
      "412:\tlearn: 0.3620014\ttotal: 1.9s\tremaining: 2.71s\n",
      "413:\tlearn: 0.3619349\ttotal: 1.91s\tremaining: 2.7s\n",
      "414:\tlearn: 0.3617295\ttotal: 1.92s\tremaining: 2.7s\n",
      "415:\tlearn: 0.3616581\ttotal: 1.93s\tremaining: 2.7s\n",
      "416:\tlearn: 0.3615236\ttotal: 1.93s\tremaining: 2.7s\n",
      "417:\tlearn: 0.3613560\ttotal: 1.94s\tremaining: 2.7s\n",
      "418:\tlearn: 0.3612163\ttotal: 1.94s\tremaining: 2.69s\n",
      "419:\tlearn: 0.3611038\ttotal: 1.95s\tremaining: 2.69s\n",
      "420:\tlearn: 0.3609603\ttotal: 1.96s\tremaining: 2.69s\n",
      "421:\tlearn: 0.3608976\ttotal: 1.97s\tremaining: 2.69s\n",
      "422:\tlearn: 0.3608777\ttotal: 1.97s\tremaining: 2.69s\n",
      "423:\tlearn: 0.3607070\ttotal: 1.98s\tremaining: 2.69s\n",
      "424:\tlearn: 0.3605833\ttotal: 1.99s\tremaining: 2.69s\n",
      "425:\tlearn: 0.3605372\ttotal: 1.99s\tremaining: 2.69s\n",
      "426:\tlearn: 0.3604537\ttotal: 2s\tremaining: 2.68s\n",
      "427:\tlearn: 0.3603618\ttotal: 2s\tremaining: 2.68s\n",
      "428:\tlearn: 0.3602531\ttotal: 2.01s\tremaining: 2.68s\n",
      "429:\tlearn: 0.3601131\ttotal: 2.02s\tremaining: 2.67s\n",
      "430:\tlearn: 0.3600227\ttotal: 2.02s\tremaining: 2.67s\n",
      "431:\tlearn: 0.3598891\ttotal: 2.03s\tremaining: 2.67s\n",
      "432:\tlearn: 0.3598567\ttotal: 2.03s\tremaining: 2.66s\n",
      "433:\tlearn: 0.3597552\ttotal: 2.04s\tremaining: 2.66s\n",
      "434:\tlearn: 0.3596712\ttotal: 2.05s\tremaining: 2.66s\n",
      "435:\tlearn: 0.3596277\ttotal: 2.05s\tremaining: 2.65s\n",
      "436:\tlearn: 0.3595900\ttotal: 2.06s\tremaining: 2.65s\n",
      "437:\tlearn: 0.3594580\ttotal: 2.06s\tremaining: 2.65s\n",
      "438:\tlearn: 0.3594274\ttotal: 2.07s\tremaining: 2.65s\n",
      "439:\tlearn: 0.3593288\ttotal: 2.08s\tremaining: 2.64s\n",
      "440:\tlearn: 0.3592717\ttotal: 2.08s\tremaining: 2.64s\n",
      "441:\tlearn: 0.3591083\ttotal: 2.09s\tremaining: 2.64s\n",
      "442:\tlearn: 0.3589657\ttotal: 2.09s\tremaining: 2.63s\n",
      "443:\tlearn: 0.3588218\ttotal: 2.1s\tremaining: 2.64s\n",
      "444:\tlearn: 0.3588030\ttotal: 2.11s\tremaining: 2.63s\n",
      "445:\tlearn: 0.3587361\ttotal: 2.11s\tremaining: 2.63s\n",
      "446:\tlearn: 0.3586507\ttotal: 2.12s\tremaining: 2.62s\n",
      "447:\tlearn: 0.3586018\ttotal: 2.13s\tremaining: 2.62s\n",
      "448:\tlearn: 0.3584537\ttotal: 2.13s\tremaining: 2.62s\n",
      "449:\tlearn: 0.3584245\ttotal: 2.14s\tremaining: 2.62s\n",
      "450:\tlearn: 0.3583827\ttotal: 2.15s\tremaining: 2.62s\n",
      "451:\tlearn: 0.3583280\ttotal: 2.16s\tremaining: 2.62s\n",
      "452:\tlearn: 0.3582112\ttotal: 2.16s\tremaining: 2.61s\n",
      "453:\tlearn: 0.3581621\ttotal: 2.17s\tremaining: 2.61s\n",
      "454:\tlearn: 0.3580781\ttotal: 2.17s\tremaining: 2.6s\n",
      "455:\tlearn: 0.3578915\ttotal: 2.18s\tremaining: 2.6s\n",
      "456:\tlearn: 0.3577613\ttotal: 2.18s\tremaining: 2.59s\n",
      "457:\tlearn: 0.3576945\ttotal: 2.19s\tremaining: 2.59s\n",
      "458:\tlearn: 0.3576047\ttotal: 2.19s\tremaining: 2.58s\n",
      "459:\tlearn: 0.3574628\ttotal: 2.2s\tremaining: 2.58s\n",
      "460:\tlearn: 0.3574242\ttotal: 2.2s\tremaining: 2.58s\n",
      "461:\tlearn: 0.3573116\ttotal: 2.21s\tremaining: 2.57s\n",
      "462:\tlearn: 0.3572285\ttotal: 2.21s\tremaining: 2.57s\n",
      "463:\tlearn: 0.3572038\ttotal: 2.22s\tremaining: 2.56s\n",
      "464:\tlearn: 0.3571010\ttotal: 2.23s\tremaining: 2.56s\n",
      "465:\tlearn: 0.3570318\ttotal: 2.23s\tremaining: 2.56s\n",
      "466:\tlearn: 0.3569953\ttotal: 2.24s\tremaining: 2.55s\n",
      "467:\tlearn: 0.3569690\ttotal: 2.24s\tremaining: 2.55s\n",
      "468:\tlearn: 0.3568306\ttotal: 2.24s\tremaining: 2.54s\n",
      "469:\tlearn: 0.3567246\ttotal: 2.25s\tremaining: 2.54s\n",
      "470:\tlearn: 0.3566921\ttotal: 2.25s\tremaining: 2.53s\n",
      "471:\tlearn: 0.3566551\ttotal: 2.26s\tremaining: 2.53s\n",
      "472:\tlearn: 0.3565340\ttotal: 2.26s\tremaining: 2.52s\n",
      "473:\tlearn: 0.3564370\ttotal: 2.27s\tremaining: 2.52s\n",
      "474:\tlearn: 0.3563018\ttotal: 2.27s\tremaining: 2.51s\n",
      "475:\tlearn: 0.3562734\ttotal: 2.27s\tremaining: 2.5s\n",
      "476:\tlearn: 0.3561687\ttotal: 2.28s\tremaining: 2.5s\n",
      "477:\tlearn: 0.3560184\ttotal: 2.28s\tremaining: 2.49s\n",
      "478:\tlearn: 0.3559350\ttotal: 2.29s\tremaining: 2.49s\n",
      "479:\tlearn: 0.3559118\ttotal: 2.29s\tremaining: 2.48s\n",
      "480:\tlearn: 0.3558340\ttotal: 2.29s\tremaining: 2.48s\n",
      "481:\tlearn: 0.3556618\ttotal: 2.3s\tremaining: 2.47s\n",
      "482:\tlearn: 0.3555872\ttotal: 2.3s\tremaining: 2.46s\n",
      "483:\tlearn: 0.3555249\ttotal: 2.31s\tremaining: 2.46s\n",
      "484:\tlearn: 0.3554657\ttotal: 2.31s\tremaining: 2.45s\n",
      "485:\tlearn: 0.3553572\ttotal: 2.31s\tremaining: 2.45s\n",
      "486:\tlearn: 0.3552927\ttotal: 2.32s\tremaining: 2.44s\n",
      "487:\tlearn: 0.3551744\ttotal: 2.32s\tremaining: 2.44s\n",
      "488:\tlearn: 0.3550881\ttotal: 2.33s\tremaining: 2.43s\n",
      "489:\tlearn: 0.3550583\ttotal: 2.33s\tremaining: 2.43s\n",
      "490:\tlearn: 0.3550172\ttotal: 2.34s\tremaining: 2.42s\n",
      "491:\tlearn: 0.3549133\ttotal: 2.34s\tremaining: 2.42s\n",
      "492:\tlearn: 0.3548658\ttotal: 2.34s\tremaining: 2.41s\n",
      "493:\tlearn: 0.3547375\ttotal: 2.35s\tremaining: 2.4s\n",
      "494:\tlearn: 0.3546871\ttotal: 2.35s\tremaining: 2.4s\n",
      "495:\tlearn: 0.3545978\ttotal: 2.35s\tremaining: 2.39s\n",
      "496:\tlearn: 0.3545667\ttotal: 2.36s\tremaining: 2.39s\n",
      "497:\tlearn: 0.3544721\ttotal: 2.36s\tremaining: 2.38s\n",
      "498:\tlearn: 0.3543713\ttotal: 2.37s\tremaining: 2.38s\n",
      "499:\tlearn: 0.3543347\ttotal: 2.37s\tremaining: 2.37s\n"
     ]
    },
    {
     "name": "stdout",
     "output_type": "stream",
     "text": [
      "500:\tlearn: 0.3543004\ttotal: 2.38s\tremaining: 2.37s\n",
      "501:\tlearn: 0.3542261\ttotal: 2.38s\tremaining: 2.36s\n",
      "502:\tlearn: 0.3541518\ttotal: 2.38s\tremaining: 2.35s\n",
      "503:\tlearn: 0.3541041\ttotal: 2.39s\tremaining: 2.35s\n",
      "504:\tlearn: 0.3540374\ttotal: 2.39s\tremaining: 2.34s\n",
      "505:\tlearn: 0.3539716\ttotal: 2.4s\tremaining: 2.34s\n",
      "506:\tlearn: 0.3539515\ttotal: 2.4s\tremaining: 2.33s\n",
      "507:\tlearn: 0.3538787\ttotal: 2.4s\tremaining: 2.33s\n",
      "508:\tlearn: 0.3538204\ttotal: 2.41s\tremaining: 2.32s\n",
      "509:\tlearn: 0.3537726\ttotal: 2.41s\tremaining: 2.32s\n",
      "510:\tlearn: 0.3537473\ttotal: 2.41s\tremaining: 2.31s\n",
      "511:\tlearn: 0.3537072\ttotal: 2.42s\tremaining: 2.31s\n",
      "512:\tlearn: 0.3535859\ttotal: 2.42s\tremaining: 2.3s\n",
      "513:\tlearn: 0.3534666\ttotal: 2.43s\tremaining: 2.29s\n",
      "514:\tlearn: 0.3534243\ttotal: 2.43s\tremaining: 2.29s\n",
      "515:\tlearn: 0.3532909\ttotal: 2.43s\tremaining: 2.28s\n",
      "516:\tlearn: 0.3532495\ttotal: 2.44s\tremaining: 2.28s\n",
      "517:\tlearn: 0.3531385\ttotal: 2.44s\tremaining: 2.27s\n",
      "518:\tlearn: 0.3530750\ttotal: 2.45s\tremaining: 2.27s\n",
      "519:\tlearn: 0.3530173\ttotal: 2.45s\tremaining: 2.26s\n",
      "520:\tlearn: 0.3529268\ttotal: 2.45s\tremaining: 2.26s\n",
      "521:\tlearn: 0.3528192\ttotal: 2.46s\tremaining: 2.25s\n",
      "522:\tlearn: 0.3527175\ttotal: 2.46s\tremaining: 2.25s\n",
      "523:\tlearn: 0.3526175\ttotal: 2.47s\tremaining: 2.24s\n",
      "524:\tlearn: 0.3525109\ttotal: 2.47s\tremaining: 2.24s\n",
      "525:\tlearn: 0.3522954\ttotal: 2.48s\tremaining: 2.23s\n",
      "526:\tlearn: 0.3522188\ttotal: 2.48s\tremaining: 2.23s\n",
      "527:\tlearn: 0.3521811\ttotal: 2.48s\tremaining: 2.22s\n",
      "528:\tlearn: 0.3520805\ttotal: 2.49s\tremaining: 2.21s\n",
      "529:\tlearn: 0.3520489\ttotal: 2.49s\tremaining: 2.21s\n",
      "530:\tlearn: 0.3520072\ttotal: 2.5s\tremaining: 2.21s\n",
      "531:\tlearn: 0.3519207\ttotal: 2.5s\tremaining: 2.2s\n",
      "532:\tlearn: 0.3518392\ttotal: 2.51s\tremaining: 2.19s\n",
      "533:\tlearn: 0.3517511\ttotal: 2.51s\tremaining: 2.19s\n",
      "534:\tlearn: 0.3516603\ttotal: 2.51s\tremaining: 2.19s\n",
      "535:\tlearn: 0.3516117\ttotal: 2.52s\tremaining: 2.18s\n",
      "536:\tlearn: 0.3515797\ttotal: 2.52s\tremaining: 2.17s\n",
      "537:\tlearn: 0.3514715\ttotal: 2.53s\tremaining: 2.17s\n",
      "538:\tlearn: 0.3513986\ttotal: 2.53s\tremaining: 2.16s\n",
      "539:\tlearn: 0.3513061\ttotal: 2.53s\tremaining: 2.16s\n",
      "540:\tlearn: 0.3512543\ttotal: 2.54s\tremaining: 2.15s\n",
      "541:\tlearn: 0.3511452\ttotal: 2.54s\tremaining: 2.15s\n",
      "542:\tlearn: 0.3511094\ttotal: 2.55s\tremaining: 2.14s\n",
      "543:\tlearn: 0.3510168\ttotal: 2.55s\tremaining: 2.14s\n",
      "544:\tlearn: 0.3509766\ttotal: 2.56s\tremaining: 2.13s\n",
      "545:\tlearn: 0.3508576\ttotal: 2.56s\tremaining: 2.13s\n",
      "546:\tlearn: 0.3508145\ttotal: 2.56s\tremaining: 2.12s\n",
      "547:\tlearn: 0.3507855\ttotal: 2.57s\tremaining: 2.12s\n",
      "548:\tlearn: 0.3507246\ttotal: 2.57s\tremaining: 2.11s\n",
      "549:\tlearn: 0.3505918\ttotal: 2.58s\tremaining: 2.11s\n",
      "550:\tlearn: 0.3505605\ttotal: 2.58s\tremaining: 2.1s\n",
      "551:\tlearn: 0.3505191\ttotal: 2.58s\tremaining: 2.1s\n",
      "552:\tlearn: 0.3504517\ttotal: 2.59s\tremaining: 2.09s\n",
      "553:\tlearn: 0.3503381\ttotal: 2.59s\tremaining: 2.09s\n",
      "554:\tlearn: 0.3502780\ttotal: 2.6s\tremaining: 2.08s\n",
      "555:\tlearn: 0.3502090\ttotal: 2.6s\tremaining: 2.08s\n",
      "556:\tlearn: 0.3501697\ttotal: 2.61s\tremaining: 2.07s\n",
      "557:\tlearn: 0.3501362\ttotal: 2.61s\tremaining: 2.07s\n",
      "558:\tlearn: 0.3501126\ttotal: 2.61s\tremaining: 2.06s\n",
      "559:\tlearn: 0.3500308\ttotal: 2.62s\tremaining: 2.06s\n",
      "560:\tlearn: 0.3499508\ttotal: 2.62s\tremaining: 2.05s\n",
      "561:\tlearn: 0.3499371\ttotal: 2.63s\tremaining: 2.05s\n",
      "562:\tlearn: 0.3499092\ttotal: 2.63s\tremaining: 2.04s\n",
      "563:\tlearn: 0.3498895\ttotal: 2.64s\tremaining: 2.04s\n",
      "564:\tlearn: 0.3498463\ttotal: 2.64s\tremaining: 2.03s\n",
      "565:\tlearn: 0.3498153\ttotal: 2.64s\tremaining: 2.03s\n",
      "566:\tlearn: 0.3497748\ttotal: 2.65s\tremaining: 2.02s\n",
      "567:\tlearn: 0.3496725\ttotal: 2.65s\tremaining: 2.02s\n",
      "568:\tlearn: 0.3496333\ttotal: 2.66s\tremaining: 2.02s\n",
      "569:\tlearn: 0.3496112\ttotal: 2.67s\tremaining: 2.01s\n",
      "570:\tlearn: 0.3495160\ttotal: 2.68s\tremaining: 2.01s\n",
      "571:\tlearn: 0.3494682\ttotal: 2.68s\tremaining: 2.01s\n",
      "572:\tlearn: 0.3494319\ttotal: 2.69s\tremaining: 2s\n",
      "573:\tlearn: 0.3494158\ttotal: 2.7s\tremaining: 2s\n",
      "574:\tlearn: 0.3493266\ttotal: 2.71s\tremaining: 2s\n",
      "575:\tlearn: 0.3492436\ttotal: 2.71s\tremaining: 1.99s\n",
      "576:\tlearn: 0.3492100\ttotal: 2.72s\tremaining: 1.99s\n",
      "577:\tlearn: 0.3491382\ttotal: 2.72s\tremaining: 1.99s\n",
      "578:\tlearn: 0.3490720\ttotal: 2.73s\tremaining: 1.98s\n",
      "579:\tlearn: 0.3490043\ttotal: 2.73s\tremaining: 1.98s\n",
      "580:\tlearn: 0.3489192\ttotal: 2.74s\tremaining: 1.97s\n",
      "581:\tlearn: 0.3488785\ttotal: 2.74s\tremaining: 1.97s\n",
      "582:\tlearn: 0.3488316\ttotal: 2.75s\tremaining: 1.96s\n",
      "583:\tlearn: 0.3488170\ttotal: 2.75s\tremaining: 1.96s\n",
      "584:\tlearn: 0.3487641\ttotal: 2.75s\tremaining: 1.95s\n",
      "585:\tlearn: 0.3487244\ttotal: 2.76s\tremaining: 1.95s\n",
      "586:\tlearn: 0.3486842\ttotal: 2.76s\tremaining: 1.94s\n",
      "587:\tlearn: 0.3486457\ttotal: 2.77s\tremaining: 1.94s\n",
      "588:\tlearn: 0.3485996\ttotal: 2.77s\tremaining: 1.93s\n",
      "589:\tlearn: 0.3485315\ttotal: 2.77s\tremaining: 1.93s\n",
      "590:\tlearn: 0.3484831\ttotal: 2.78s\tremaining: 1.92s\n",
      "591:\tlearn: 0.3484508\ttotal: 2.78s\tremaining: 1.92s\n",
      "592:\tlearn: 0.3483971\ttotal: 2.79s\tremaining: 1.91s\n",
      "593:\tlearn: 0.3482460\ttotal: 2.79s\tremaining: 1.91s\n",
      "594:\tlearn: 0.3481369\ttotal: 2.79s\tremaining: 1.9s\n",
      "595:\tlearn: 0.3480820\ttotal: 2.8s\tremaining: 1.9s\n",
      "596:\tlearn: 0.3480574\ttotal: 2.8s\tremaining: 1.89s\n",
      "597:\tlearn: 0.3480112\ttotal: 2.81s\tremaining: 1.89s\n",
      "598:\tlearn: 0.3479129\ttotal: 2.81s\tremaining: 1.88s\n",
      "599:\tlearn: 0.3478697\ttotal: 2.81s\tremaining: 1.88s\n",
      "600:\tlearn: 0.3477666\ttotal: 2.82s\tremaining: 1.87s\n",
      "601:\tlearn: 0.3476415\ttotal: 2.82s\tremaining: 1.86s\n",
      "602:\tlearn: 0.3476032\ttotal: 2.83s\tremaining: 1.86s\n",
      "603:\tlearn: 0.3475082\ttotal: 2.83s\tremaining: 1.85s\n",
      "604:\tlearn: 0.3474592\ttotal: 2.83s\tremaining: 1.85s\n",
      "605:\tlearn: 0.3473773\ttotal: 2.84s\tremaining: 1.84s\n",
      "606:\tlearn: 0.3472589\ttotal: 2.84s\tremaining: 1.84s\n",
      "607:\tlearn: 0.3471627\ttotal: 2.84s\tremaining: 1.83s\n",
      "608:\tlearn: 0.3471145\ttotal: 2.85s\tremaining: 1.83s\n",
      "609:\tlearn: 0.3470461\ttotal: 2.85s\tremaining: 1.82s\n",
      "610:\tlearn: 0.3469451\ttotal: 2.86s\tremaining: 1.82s\n",
      "611:\tlearn: 0.3468131\ttotal: 2.86s\tremaining: 1.81s\n",
      "612:\tlearn: 0.3467357\ttotal: 2.86s\tremaining: 1.81s\n",
      "613:\tlearn: 0.3466092\ttotal: 2.87s\tremaining: 1.8s\n",
      "614:\tlearn: 0.3465158\ttotal: 2.87s\tremaining: 1.8s\n",
      "615:\tlearn: 0.3465033\ttotal: 2.87s\tremaining: 1.79s\n",
      "616:\tlearn: 0.3464702\ttotal: 2.88s\tremaining: 1.79s\n",
      "617:\tlearn: 0.3464355\ttotal: 2.88s\tremaining: 1.78s\n",
      "618:\tlearn: 0.3463660\ttotal: 2.88s\tremaining: 1.78s\n",
      "619:\tlearn: 0.3462958\ttotal: 2.89s\tremaining: 1.77s\n",
      "620:\tlearn: 0.3462608\ttotal: 2.89s\tremaining: 1.77s\n",
      "621:\tlearn: 0.3462084\ttotal: 2.9s\tremaining: 1.76s\n",
      "622:\tlearn: 0.3461669\ttotal: 2.9s\tremaining: 1.76s\n",
      "623:\tlearn: 0.3460804\ttotal: 2.91s\tremaining: 1.75s\n",
      "624:\tlearn: 0.3460519\ttotal: 2.91s\tremaining: 1.75s\n",
      "625:\tlearn: 0.3460110\ttotal: 2.91s\tremaining: 1.74s\n",
      "626:\tlearn: 0.3459846\ttotal: 2.92s\tremaining: 1.74s\n",
      "627:\tlearn: 0.3459570\ttotal: 2.92s\tremaining: 1.73s\n",
      "628:\tlearn: 0.3459406\ttotal: 2.92s\tremaining: 1.73s\n",
      "629:\tlearn: 0.3458275\ttotal: 2.93s\tremaining: 1.72s\n",
      "630:\tlearn: 0.3457827\ttotal: 2.94s\tremaining: 1.72s\n",
      "631:\tlearn: 0.3457295\ttotal: 2.94s\tremaining: 1.71s\n",
      "632:\tlearn: 0.3456784\ttotal: 2.95s\tremaining: 1.71s\n",
      "633:\tlearn: 0.3456692\ttotal: 2.95s\tremaining: 1.71s\n",
      "634:\tlearn: 0.3456084\ttotal: 2.96s\tremaining: 1.7s\n",
      "635:\tlearn: 0.3455748\ttotal: 2.97s\tremaining: 1.7s\n",
      "636:\tlearn: 0.3455529\ttotal: 2.98s\tremaining: 1.7s\n",
      "637:\tlearn: 0.3454765\ttotal: 2.99s\tremaining: 1.7s\n",
      "638:\tlearn: 0.3454608\ttotal: 3s\tremaining: 1.7s\n",
      "639:\tlearn: 0.3454184\ttotal: 3.02s\tremaining: 1.7s\n",
      "640:\tlearn: 0.3453148\ttotal: 3.03s\tremaining: 1.7s\n",
      "641:\tlearn: 0.3452936\ttotal: 3.04s\tremaining: 1.69s\n",
      "642:\tlearn: 0.3452217\ttotal: 3.05s\tremaining: 1.69s\n",
      "643:\tlearn: 0.3451402\ttotal: 3.07s\tremaining: 1.7s\n",
      "644:\tlearn: 0.3450856\ttotal: 3.08s\tremaining: 1.7s\n",
      "645:\tlearn: 0.3450001\ttotal: 3.1s\tremaining: 1.7s\n",
      "646:\tlearn: 0.3449418\ttotal: 3.11s\tremaining: 1.7s\n",
      "647:\tlearn: 0.3448887\ttotal: 3.12s\tremaining: 1.7s\n",
      "648:\tlearn: 0.3448442\ttotal: 3.13s\tremaining: 1.69s\n",
      "649:\tlearn: 0.3447671\ttotal: 3.2s\tremaining: 1.72s\n",
      "650:\tlearn: 0.3446752\ttotal: 3.25s\tremaining: 1.74s\n",
      "651:\tlearn: 0.3446029\ttotal: 3.26s\tremaining: 1.74s\n",
      "652:\tlearn: 0.3445163\ttotal: 3.27s\tremaining: 1.74s\n",
      "653:\tlearn: 0.3444590\ttotal: 3.27s\tremaining: 1.73s\n",
      "654:\tlearn: 0.3443854\ttotal: 3.29s\tremaining: 1.73s\n",
      "655:\tlearn: 0.3443553\ttotal: 3.31s\tremaining: 1.74s\n",
      "656:\tlearn: 0.3442827\ttotal: 3.32s\tremaining: 1.74s\n",
      "657:\tlearn: 0.3442191\ttotal: 3.33s\tremaining: 1.73s\n",
      "658:\tlearn: 0.3441379\ttotal: 3.34s\tremaining: 1.73s\n",
      "659:\tlearn: 0.3441246\ttotal: 3.38s\tremaining: 1.74s\n"
     ]
    },
    {
     "name": "stdout",
     "output_type": "stream",
     "text": [
      "660:\tlearn: 0.3440432\ttotal: 3.39s\tremaining: 1.74s\n",
      "661:\tlearn: 0.3439799\ttotal: 3.4s\tremaining: 1.74s\n",
      "662:\tlearn: 0.3439560\ttotal: 3.41s\tremaining: 1.73s\n",
      "663:\tlearn: 0.3438897\ttotal: 3.42s\tremaining: 1.73s\n",
      "664:\tlearn: 0.3438242\ttotal: 3.42s\tremaining: 1.73s\n",
      "665:\tlearn: 0.3437994\ttotal: 3.43s\tremaining: 1.72s\n",
      "666:\tlearn: 0.3437226\ttotal: 3.44s\tremaining: 1.72s\n",
      "667:\tlearn: 0.3436727\ttotal: 3.45s\tremaining: 1.71s\n",
      "668:\tlearn: 0.3436448\ttotal: 3.46s\tremaining: 1.71s\n",
      "669:\tlearn: 0.3436355\ttotal: 3.47s\tremaining: 1.71s\n",
      "670:\tlearn: 0.3435682\ttotal: 3.48s\tremaining: 1.71s\n",
      "671:\tlearn: 0.3434821\ttotal: 3.49s\tremaining: 1.7s\n",
      "672:\tlearn: 0.3434112\ttotal: 3.5s\tremaining: 1.7s\n",
      "673:\tlearn: 0.3433144\ttotal: 3.5s\tremaining: 1.7s\n",
      "674:\tlearn: 0.3432472\ttotal: 3.52s\tremaining: 1.7s\n",
      "675:\tlearn: 0.3432130\ttotal: 3.53s\tremaining: 1.69s\n",
      "676:\tlearn: 0.3432004\ttotal: 3.54s\tremaining: 1.69s\n",
      "677:\tlearn: 0.3430879\ttotal: 3.55s\tremaining: 1.69s\n",
      "678:\tlearn: 0.3429747\ttotal: 3.56s\tremaining: 1.68s\n",
      "679:\tlearn: 0.3429023\ttotal: 3.57s\tremaining: 1.68s\n",
      "680:\tlearn: 0.3428689\ttotal: 3.58s\tremaining: 1.68s\n",
      "681:\tlearn: 0.3428008\ttotal: 3.58s\tremaining: 1.67s\n",
      "682:\tlearn: 0.3427294\ttotal: 3.6s\tremaining: 1.67s\n",
      "683:\tlearn: 0.3426731\ttotal: 3.6s\tremaining: 1.67s\n",
      "684:\tlearn: 0.3426224\ttotal: 3.61s\tremaining: 1.66s\n",
      "685:\tlearn: 0.3426145\ttotal: 3.62s\tremaining: 1.66s\n",
      "686:\tlearn: 0.3425792\ttotal: 3.63s\tremaining: 1.66s\n",
      "687:\tlearn: 0.3425579\ttotal: 3.64s\tremaining: 1.65s\n",
      "688:\tlearn: 0.3425338\ttotal: 3.65s\tremaining: 1.65s\n",
      "689:\tlearn: 0.3424883\ttotal: 3.66s\tremaining: 1.65s\n",
      "690:\tlearn: 0.3424164\ttotal: 3.67s\tremaining: 1.64s\n",
      "691:\tlearn: 0.3423582\ttotal: 3.68s\tremaining: 1.64s\n",
      "692:\tlearn: 0.3423216\ttotal: 3.69s\tremaining: 1.63s\n",
      "693:\tlearn: 0.3423024\ttotal: 3.7s\tremaining: 1.63s\n",
      "694:\tlearn: 0.3422622\ttotal: 3.71s\tremaining: 1.63s\n",
      "695:\tlearn: 0.3422289\ttotal: 3.71s\tremaining: 1.62s\n",
      "696:\tlearn: 0.3421976\ttotal: 3.72s\tremaining: 1.62s\n",
      "697:\tlearn: 0.3421595\ttotal: 3.73s\tremaining: 1.61s\n",
      "698:\tlearn: 0.3421357\ttotal: 3.73s\tremaining: 1.61s\n",
      "699:\tlearn: 0.3420078\ttotal: 3.74s\tremaining: 1.6s\n",
      "700:\tlearn: 0.3419971\ttotal: 3.75s\tremaining: 1.6s\n",
      "701:\tlearn: 0.3419606\ttotal: 3.77s\tremaining: 1.6s\n",
      "702:\tlearn: 0.3419433\ttotal: 3.77s\tremaining: 1.59s\n",
      "703:\tlearn: 0.3418644\ttotal: 3.78s\tremaining: 1.59s\n",
      "704:\tlearn: 0.3418094\ttotal: 3.8s\tremaining: 1.59s\n",
      "705:\tlearn: 0.3417939\ttotal: 3.8s\tremaining: 1.58s\n",
      "706:\tlearn: 0.3417423\ttotal: 3.81s\tremaining: 1.58s\n",
      "707:\tlearn: 0.3416749\ttotal: 3.82s\tremaining: 1.58s\n",
      "708:\tlearn: 0.3416268\ttotal: 3.83s\tremaining: 1.57s\n",
      "709:\tlearn: 0.3415816\ttotal: 3.84s\tremaining: 1.57s\n",
      "710:\tlearn: 0.3415558\ttotal: 3.85s\tremaining: 1.56s\n",
      "711:\tlearn: 0.3414996\ttotal: 3.87s\tremaining: 1.56s\n",
      "712:\tlearn: 0.3414641\ttotal: 3.88s\tremaining: 1.56s\n",
      "713:\tlearn: 0.3414468\ttotal: 3.89s\tremaining: 1.56s\n",
      "714:\tlearn: 0.3413433\ttotal: 3.9s\tremaining: 1.55s\n",
      "715:\tlearn: 0.3413057\ttotal: 3.91s\tremaining: 1.55s\n",
      "716:\tlearn: 0.3412377\ttotal: 3.92s\tremaining: 1.55s\n",
      "717:\tlearn: 0.3411896\ttotal: 3.93s\tremaining: 1.54s\n",
      "718:\tlearn: 0.3411706\ttotal: 3.94s\tremaining: 1.54s\n",
      "719:\tlearn: 0.3411386\ttotal: 3.94s\tremaining: 1.53s\n",
      "720:\tlearn: 0.3410593\ttotal: 3.95s\tremaining: 1.53s\n",
      "721:\tlearn: 0.3410126\ttotal: 3.96s\tremaining: 1.52s\n",
      "722:\tlearn: 0.3409779\ttotal: 3.97s\tremaining: 1.52s\n",
      "723:\tlearn: 0.3409120\ttotal: 3.98s\tremaining: 1.52s\n",
      "724:\tlearn: 0.3408218\ttotal: 3.98s\tremaining: 1.51s\n",
      "725:\tlearn: 0.3407953\ttotal: 3.99s\tremaining: 1.51s\n",
      "726:\tlearn: 0.3407435\ttotal: 4s\tremaining: 1.5s\n",
      "727:\tlearn: 0.3405996\ttotal: 4.01s\tremaining: 1.5s\n",
      "728:\tlearn: 0.3405583\ttotal: 4.01s\tremaining: 1.49s\n",
      "729:\tlearn: 0.3405439\ttotal: 4.02s\tremaining: 1.49s\n",
      "730:\tlearn: 0.3404821\ttotal: 4.03s\tremaining: 1.48s\n",
      "731:\tlearn: 0.3404234\ttotal: 4.05s\tremaining: 1.48s\n",
      "732:\tlearn: 0.3404145\ttotal: 4.05s\tremaining: 1.48s\n",
      "733:\tlearn: 0.3403656\ttotal: 4.06s\tremaining: 1.47s\n",
      "734:\tlearn: 0.3403426\ttotal: 4.07s\tremaining: 1.47s\n",
      "735:\tlearn: 0.3402891\ttotal: 4.07s\tremaining: 1.46s\n",
      "736:\tlearn: 0.3401674\ttotal: 4.08s\tremaining: 1.46s\n",
      "737:\tlearn: 0.3401154\ttotal: 4.09s\tremaining: 1.45s\n",
      "738:\tlearn: 0.3400681\ttotal: 4.1s\tremaining: 1.45s\n",
      "739:\tlearn: 0.3399965\ttotal: 4.1s\tremaining: 1.44s\n",
      "740:\tlearn: 0.3399086\ttotal: 4.11s\tremaining: 1.44s\n",
      "741:\tlearn: 0.3398499\ttotal: 4.12s\tremaining: 1.43s\n",
      "742:\tlearn: 0.3398126\ttotal: 4.13s\tremaining: 1.43s\n",
      "743:\tlearn: 0.3397596\ttotal: 4.13s\tremaining: 1.42s\n",
      "744:\tlearn: 0.3397189\ttotal: 4.14s\tremaining: 1.42s\n",
      "745:\tlearn: 0.3396529\ttotal: 4.15s\tremaining: 1.41s\n",
      "746:\tlearn: 0.3396156\ttotal: 4.16s\tremaining: 1.41s\n",
      "747:\tlearn: 0.3395450\ttotal: 4.18s\tremaining: 1.41s\n",
      "748:\tlearn: 0.3394772\ttotal: 4.18s\tremaining: 1.4s\n",
      "749:\tlearn: 0.3394041\ttotal: 4.19s\tremaining: 1.4s\n",
      "750:\tlearn: 0.3393338\ttotal: 4.2s\tremaining: 1.39s\n",
      "751:\tlearn: 0.3392748\ttotal: 4.21s\tremaining: 1.39s\n",
      "752:\tlearn: 0.3392352\ttotal: 4.21s\tremaining: 1.38s\n",
      "753:\tlearn: 0.3391539\ttotal: 4.22s\tremaining: 1.38s\n",
      "754:\tlearn: 0.3391428\ttotal: 4.23s\tremaining: 1.37s\n",
      "755:\tlearn: 0.3390825\ttotal: 4.23s\tremaining: 1.37s\n",
      "756:\tlearn: 0.3390722\ttotal: 4.24s\tremaining: 1.36s\n",
      "757:\tlearn: 0.3390344\ttotal: 4.25s\tremaining: 1.35s\n",
      "758:\tlearn: 0.3389784\ttotal: 4.25s\tremaining: 1.35s\n",
      "759:\tlearn: 0.3389246\ttotal: 4.26s\tremaining: 1.35s\n",
      "760:\tlearn: 0.3388487\ttotal: 4.27s\tremaining: 1.34s\n",
      "761:\tlearn: 0.3388385\ttotal: 4.28s\tremaining: 1.34s\n",
      "762:\tlearn: 0.3388283\ttotal: 4.29s\tremaining: 1.33s\n",
      "763:\tlearn: 0.3387833\ttotal: 4.3s\tremaining: 1.33s\n",
      "764:\tlearn: 0.3387414\ttotal: 4.31s\tremaining: 1.32s\n",
      "765:\tlearn: 0.3387158\ttotal: 4.32s\tremaining: 1.32s\n",
      "766:\tlearn: 0.3386670\ttotal: 4.33s\tremaining: 1.31s\n",
      "767:\tlearn: 0.3386246\ttotal: 4.34s\tremaining: 1.31s\n",
      "768:\tlearn: 0.3385696\ttotal: 4.35s\tremaining: 1.3s\n",
      "769:\tlearn: 0.3385266\ttotal: 4.36s\tremaining: 1.3s\n",
      "770:\tlearn: 0.3384648\ttotal: 4.36s\tremaining: 1.29s\n",
      "771:\tlearn: 0.3383786\ttotal: 4.37s\tremaining: 1.29s\n",
      "772:\tlearn: 0.3383493\ttotal: 4.38s\tremaining: 1.29s\n",
      "773:\tlearn: 0.3383113\ttotal: 4.39s\tremaining: 1.28s\n",
      "774:\tlearn: 0.3382908\ttotal: 4.39s\tremaining: 1.27s\n",
      "775:\tlearn: 0.3382441\ttotal: 4.4s\tremaining: 1.27s\n",
      "776:\tlearn: 0.3381785\ttotal: 4.42s\tremaining: 1.27s\n",
      "777:\tlearn: 0.3381433\ttotal: 4.43s\tremaining: 1.26s\n",
      "778:\tlearn: 0.3380737\ttotal: 4.44s\tremaining: 1.26s\n",
      "779:\tlearn: 0.3380106\ttotal: 4.45s\tremaining: 1.25s\n",
      "780:\tlearn: 0.3379156\ttotal: 4.46s\tremaining: 1.25s\n",
      "781:\tlearn: 0.3378936\ttotal: 4.48s\tremaining: 1.25s\n",
      "782:\tlearn: 0.3378572\ttotal: 4.49s\tremaining: 1.24s\n",
      "783:\tlearn: 0.3377802\ttotal: 4.5s\tremaining: 1.24s\n",
      "784:\tlearn: 0.3377486\ttotal: 4.51s\tremaining: 1.23s\n",
      "785:\tlearn: 0.3376775\ttotal: 4.53s\tremaining: 1.23s\n",
      "786:\tlearn: 0.3376369\ttotal: 4.54s\tremaining: 1.23s\n",
      "787:\tlearn: 0.3376178\ttotal: 4.54s\tremaining: 1.22s\n",
      "788:\tlearn: 0.3375765\ttotal: 4.55s\tremaining: 1.22s\n",
      "789:\tlearn: 0.3375207\ttotal: 4.56s\tremaining: 1.21s\n",
      "790:\tlearn: 0.3374800\ttotal: 4.57s\tremaining: 1.21s\n",
      "791:\tlearn: 0.3374494\ttotal: 4.58s\tremaining: 1.2s\n",
      "792:\tlearn: 0.3374006\ttotal: 4.58s\tremaining: 1.2s\n",
      "793:\tlearn: 0.3373277\ttotal: 4.59s\tremaining: 1.19s\n",
      "794:\tlearn: 0.3372866\ttotal: 4.63s\tremaining: 1.19s\n",
      "795:\tlearn: 0.3372543\ttotal: 4.63s\tremaining: 1.19s\n",
      "796:\tlearn: 0.3372029\ttotal: 4.64s\tremaining: 1.18s\n",
      "797:\tlearn: 0.3371593\ttotal: 4.68s\tremaining: 1.18s\n",
      "798:\tlearn: 0.3370776\ttotal: 4.68s\tremaining: 1.18s\n",
      "799:\tlearn: 0.3370583\ttotal: 4.69s\tremaining: 1.17s\n",
      "800:\tlearn: 0.3370303\ttotal: 4.7s\tremaining: 1.17s\n",
      "801:\tlearn: 0.3369870\ttotal: 4.71s\tremaining: 1.16s\n",
      "802:\tlearn: 0.3369357\ttotal: 4.72s\tremaining: 1.16s\n",
      "803:\tlearn: 0.3369255\ttotal: 4.73s\tremaining: 1.15s\n",
      "804:\tlearn: 0.3368247\ttotal: 4.74s\tremaining: 1.15s\n",
      "805:\tlearn: 0.3367363\ttotal: 4.75s\tremaining: 1.14s\n",
      "806:\tlearn: 0.3366918\ttotal: 4.76s\tremaining: 1.14s\n",
      "807:\tlearn: 0.3366518\ttotal: 4.76s\tremaining: 1.13s\n",
      "808:\tlearn: 0.3366281\ttotal: 4.77s\tremaining: 1.13s\n",
      "809:\tlearn: 0.3366195\ttotal: 4.79s\tremaining: 1.12s\n",
      "810:\tlearn: 0.3365512\ttotal: 4.8s\tremaining: 1.12s\n",
      "811:\tlearn: 0.3365123\ttotal: 4.81s\tremaining: 1.11s\n",
      "812:\tlearn: 0.3364657\ttotal: 4.82s\tremaining: 1.11s\n",
      "813:\tlearn: 0.3364282\ttotal: 4.85s\tremaining: 1.11s\n",
      "814:\tlearn: 0.3363093\ttotal: 4.86s\tremaining: 1.1s\n",
      "815:\tlearn: 0.3362944\ttotal: 4.87s\tremaining: 1.1s\n",
      "816:\tlearn: 0.3362593\ttotal: 4.88s\tremaining: 1.09s\n",
      "817:\tlearn: 0.3362489\ttotal: 4.89s\tremaining: 1.09s\n",
      "818:\tlearn: 0.3362120\ttotal: 4.93s\tremaining: 1.09s\n"
     ]
    },
    {
     "name": "stdout",
     "output_type": "stream",
     "text": [
      "819:\tlearn: 0.3361694\ttotal: 4.93s\tremaining: 1.08s\n",
      "820:\tlearn: 0.3361649\ttotal: 4.94s\tremaining: 1.08s\n",
      "821:\tlearn: 0.3361260\ttotal: 4.95s\tremaining: 1.07s\n",
      "822:\tlearn: 0.3361072\ttotal: 4.97s\tremaining: 1.07s\n",
      "823:\tlearn: 0.3360532\ttotal: 4.97s\tremaining: 1.06s\n",
      "824:\tlearn: 0.3360135\ttotal: 4.98s\tremaining: 1.06s\n",
      "825:\tlearn: 0.3359944\ttotal: 5s\tremaining: 1.05s\n",
      "826:\tlearn: 0.3359327\ttotal: 5.02s\tremaining: 1.05s\n",
      "827:\tlearn: 0.3358884\ttotal: 5.04s\tremaining: 1.05s\n",
      "828:\tlearn: 0.3358455\ttotal: 5.04s\tremaining: 1.04s\n",
      "829:\tlearn: 0.3358293\ttotal: 5.05s\tremaining: 1.03s\n",
      "830:\tlearn: 0.3357423\ttotal: 5.06s\tremaining: 1.03s\n",
      "831:\tlearn: 0.3357129\ttotal: 5.07s\tremaining: 1.02s\n",
      "832:\tlearn: 0.3356517\ttotal: 5.08s\tremaining: 1.02s\n",
      "833:\tlearn: 0.3355529\ttotal: 5.1s\tremaining: 1.01s\n",
      "834:\tlearn: 0.3355197\ttotal: 5.11s\tremaining: 1.01s\n",
      "835:\tlearn: 0.3354665\ttotal: 5.11s\tremaining: 1s\n",
      "836:\tlearn: 0.3354341\ttotal: 5.13s\tremaining: 998ms\n",
      "837:\tlearn: 0.3353735\ttotal: 5.13s\tremaining: 993ms\n",
      "838:\tlearn: 0.3353245\ttotal: 5.14s\tremaining: 987ms\n",
      "839:\tlearn: 0.3353060\ttotal: 5.15s\tremaining: 981ms\n",
      "840:\tlearn: 0.3352710\ttotal: 5.16s\tremaining: 976ms\n",
      "841:\tlearn: 0.3352296\ttotal: 5.17s\tremaining: 970ms\n",
      "842:\tlearn: 0.3352024\ttotal: 5.18s\tremaining: 965ms\n",
      "843:\tlearn: 0.3351473\ttotal: 5.19s\tremaining: 959ms\n",
      "844:\tlearn: 0.3350616\ttotal: 5.2s\tremaining: 953ms\n",
      "845:\tlearn: 0.3350318\ttotal: 5.2s\tremaining: 947ms\n",
      "846:\tlearn: 0.3349887\ttotal: 5.21s\tremaining: 942ms\n",
      "847:\tlearn: 0.3349182\ttotal: 5.22s\tremaining: 936ms\n",
      "848:\tlearn: 0.3348378\ttotal: 5.23s\tremaining: 931ms\n",
      "849:\tlearn: 0.3347790\ttotal: 5.24s\tremaining: 925ms\n",
      "850:\tlearn: 0.3347542\ttotal: 5.25s\tremaining: 919ms\n",
      "851:\tlearn: 0.3346998\ttotal: 5.25s\tremaining: 913ms\n",
      "852:\tlearn: 0.3346515\ttotal: 5.26s\tremaining: 907ms\n",
      "853:\tlearn: 0.3346167\ttotal: 5.27s\tremaining: 901ms\n",
      "854:\tlearn: 0.3345831\ttotal: 5.28s\tremaining: 895ms\n",
      "855:\tlearn: 0.3345569\ttotal: 5.29s\tremaining: 890ms\n",
      "856:\tlearn: 0.3345204\ttotal: 5.3s\tremaining: 884ms\n",
      "857:\tlearn: 0.3344814\ttotal: 5.31s\tremaining: 878ms\n",
      "858:\tlearn: 0.3344306\ttotal: 5.31s\tremaining: 872ms\n",
      "859:\tlearn: 0.3343837\ttotal: 5.32s\tremaining: 867ms\n",
      "860:\tlearn: 0.3343074\ttotal: 5.35s\tremaining: 863ms\n",
      "861:\tlearn: 0.3342455\ttotal: 5.36s\tremaining: 857ms\n",
      "862:\tlearn: 0.3342304\ttotal: 5.37s\tremaining: 852ms\n",
      "863:\tlearn: 0.3341624\ttotal: 5.39s\tremaining: 848ms\n",
      "864:\tlearn: 0.3341271\ttotal: 5.4s\tremaining: 842ms\n",
      "865:\tlearn: 0.3340769\ttotal: 5.41s\tremaining: 836ms\n",
      "866:\tlearn: 0.3340343\ttotal: 5.41s\tremaining: 830ms\n",
      "867:\tlearn: 0.3339830\ttotal: 5.42s\tremaining: 824ms\n",
      "868:\tlearn: 0.3339350\ttotal: 5.43s\tremaining: 819ms\n",
      "869:\tlearn: 0.3339013\ttotal: 5.44s\tremaining: 813ms\n",
      "870:\tlearn: 0.3338408\ttotal: 5.45s\tremaining: 807ms\n",
      "871:\tlearn: 0.3338046\ttotal: 5.46s\tremaining: 801ms\n",
      "872:\tlearn: 0.3337344\ttotal: 5.46s\tremaining: 795ms\n",
      "873:\tlearn: 0.3337054\ttotal: 5.47s\tremaining: 789ms\n",
      "874:\tlearn: 0.3336896\ttotal: 5.48s\tremaining: 783ms\n",
      "875:\tlearn: 0.3336265\ttotal: 5.49s\tremaining: 777ms\n",
      "876:\tlearn: 0.3335860\ttotal: 5.49s\tremaining: 770ms\n",
      "877:\tlearn: 0.3335457\ttotal: 5.5s\tremaining: 764ms\n",
      "878:\tlearn: 0.3335220\ttotal: 5.51s\tremaining: 758ms\n",
      "879:\tlearn: 0.3334979\ttotal: 5.53s\tremaining: 755ms\n",
      "880:\tlearn: 0.3334738\ttotal: 5.54s\tremaining: 749ms\n",
      "881:\tlearn: 0.3334318\ttotal: 5.55s\tremaining: 742ms\n",
      "882:\tlearn: 0.3333994\ttotal: 5.56s\tremaining: 736ms\n",
      "883:\tlearn: 0.3333564\ttotal: 5.57s\tremaining: 730ms\n",
      "884:\tlearn: 0.3333016\ttotal: 5.58s\tremaining: 725ms\n",
      "885:\tlearn: 0.3332543\ttotal: 5.58s\tremaining: 719ms\n",
      "886:\tlearn: 0.3332119\ttotal: 5.59s\tremaining: 713ms\n",
      "887:\tlearn: 0.3331769\ttotal: 5.6s\tremaining: 706ms\n",
      "888:\tlearn: 0.3331589\ttotal: 5.61s\tremaining: 700ms\n",
      "889:\tlearn: 0.3331474\ttotal: 5.64s\tremaining: 698ms\n",
      "890:\tlearn: 0.3331343\ttotal: 5.65s\tremaining: 691ms\n",
      "891:\tlearn: 0.3331135\ttotal: 5.66s\tremaining: 685ms\n",
      "892:\tlearn: 0.3330959\ttotal: 5.67s\tremaining: 679ms\n",
      "893:\tlearn: 0.3330358\ttotal: 5.7s\tremaining: 676ms\n",
      "894:\tlearn: 0.3330292\ttotal: 5.71s\tremaining: 670ms\n",
      "895:\tlearn: 0.3330033\ttotal: 5.72s\tremaining: 664ms\n",
      "896:\tlearn: 0.3329761\ttotal: 5.73s\tremaining: 658ms\n",
      "897:\tlearn: 0.3329341\ttotal: 5.74s\tremaining: 652ms\n",
      "898:\tlearn: 0.3328892\ttotal: 5.76s\tremaining: 647ms\n",
      "899:\tlearn: 0.3328585\ttotal: 5.78s\tremaining: 642ms\n",
      "900:\tlearn: 0.3328354\ttotal: 5.78s\tremaining: 635ms\n",
      "901:\tlearn: 0.3327989\ttotal: 5.8s\tremaining: 630ms\n",
      "902:\tlearn: 0.3327787\ttotal: 5.82s\tremaining: 625ms\n",
      "903:\tlearn: 0.3326453\ttotal: 5.82s\tremaining: 618ms\n",
      "904:\tlearn: 0.3326192\ttotal: 5.83s\tremaining: 612ms\n",
      "905:\tlearn: 0.3325688\ttotal: 5.84s\tremaining: 606ms\n",
      "906:\tlearn: 0.3325036\ttotal: 5.86s\tremaining: 601ms\n",
      "907:\tlearn: 0.3324700\ttotal: 5.87s\tremaining: 595ms\n",
      "908:\tlearn: 0.3324377\ttotal: 5.88s\tremaining: 589ms\n",
      "909:\tlearn: 0.3324213\ttotal: 5.89s\tremaining: 583ms\n",
      "910:\tlearn: 0.3323565\ttotal: 5.9s\tremaining: 576ms\n",
      "911:\tlearn: 0.3322427\ttotal: 5.9s\tremaining: 570ms\n",
      "912:\tlearn: 0.3322092\ttotal: 5.91s\tremaining: 563ms\n",
      "913:\tlearn: 0.3321885\ttotal: 5.91s\tremaining: 556ms\n",
      "914:\tlearn: 0.3321229\ttotal: 5.92s\tremaining: 550ms\n",
      "915:\tlearn: 0.3320784\ttotal: 5.92s\tremaining: 543ms\n",
      "916:\tlearn: 0.3320327\ttotal: 5.93s\tremaining: 536ms\n",
      "917:\tlearn: 0.3319319\ttotal: 5.93s\tremaining: 530ms\n",
      "918:\tlearn: 0.3318794\ttotal: 5.94s\tremaining: 523ms\n",
      "919:\tlearn: 0.3318359\ttotal: 5.94s\tremaining: 517ms\n",
      "920:\tlearn: 0.3317815\ttotal: 5.95s\tremaining: 510ms\n",
      "921:\tlearn: 0.3317143\ttotal: 5.95s\tremaining: 504ms\n",
      "922:\tlearn: 0.3316367\ttotal: 5.96s\tremaining: 497ms\n",
      "923:\tlearn: 0.3316089\ttotal: 5.96s\tremaining: 490ms\n",
      "924:\tlearn: 0.3315434\ttotal: 5.97s\tremaining: 484ms\n",
      "925:\tlearn: 0.3314852\ttotal: 5.97s\tremaining: 477ms\n",
      "926:\tlearn: 0.3314233\ttotal: 5.98s\tremaining: 471ms\n",
      "927:\tlearn: 0.3313852\ttotal: 5.98s\tremaining: 464ms\n",
      "928:\tlearn: 0.3312696\ttotal: 5.99s\tremaining: 458ms\n",
      "929:\tlearn: 0.3312542\ttotal: 6s\tremaining: 451ms\n",
      "930:\tlearn: 0.3312234\ttotal: 6s\tremaining: 445ms\n",
      "931:\tlearn: 0.3311860\ttotal: 6s\tremaining: 438ms\n",
      "932:\tlearn: 0.3311466\ttotal: 6.01s\tremaining: 432ms\n",
      "933:\tlearn: 0.3311194\ttotal: 6.01s\tremaining: 425ms\n",
      "934:\tlearn: 0.3310711\ttotal: 6.02s\tremaining: 419ms\n",
      "935:\tlearn: 0.3310632\ttotal: 6.03s\tremaining: 412ms\n",
      "936:\tlearn: 0.3310443\ttotal: 6.03s\tremaining: 406ms\n",
      "937:\tlearn: 0.3309966\ttotal: 6.04s\tremaining: 399ms\n",
      "938:\tlearn: 0.3309583\ttotal: 6.04s\tremaining: 393ms\n",
      "939:\tlearn: 0.3309400\ttotal: 6.05s\tremaining: 386ms\n",
      "940:\tlearn: 0.3308990\ttotal: 6.06s\tremaining: 380ms\n",
      "941:\tlearn: 0.3308661\ttotal: 6.06s\tremaining: 373ms\n",
      "942:\tlearn: 0.3308453\ttotal: 6.06s\tremaining: 367ms\n",
      "943:\tlearn: 0.3308198\ttotal: 6.07s\tremaining: 360ms\n",
      "944:\tlearn: 0.3308009\ttotal: 6.07s\tremaining: 353ms\n",
      "945:\tlearn: 0.3307620\ttotal: 6.08s\tremaining: 347ms\n",
      "946:\tlearn: 0.3307428\ttotal: 6.08s\tremaining: 340ms\n",
      "947:\tlearn: 0.3306872\ttotal: 6.09s\tremaining: 334ms\n",
      "948:\tlearn: 0.3306711\ttotal: 6.09s\tremaining: 327ms\n",
      "949:\tlearn: 0.3306381\ttotal: 6.09s\tremaining: 321ms\n",
      "950:\tlearn: 0.3306143\ttotal: 6.1s\tremaining: 314ms\n",
      "951:\tlearn: 0.3305773\ttotal: 6.11s\tremaining: 308ms\n",
      "952:\tlearn: 0.3305495\ttotal: 6.11s\tremaining: 301ms\n",
      "953:\tlearn: 0.3305229\ttotal: 6.12s\tremaining: 295ms\n",
      "954:\tlearn: 0.3305128\ttotal: 6.12s\tremaining: 288ms\n",
      "955:\tlearn: 0.3304976\ttotal: 6.13s\tremaining: 282ms\n",
      "956:\tlearn: 0.3304651\ttotal: 6.13s\tremaining: 276ms\n",
      "957:\tlearn: 0.3304229\ttotal: 6.14s\tremaining: 269ms\n",
      "958:\tlearn: 0.3303574\ttotal: 6.14s\tremaining: 263ms\n",
      "959:\tlearn: 0.3303073\ttotal: 6.15s\tremaining: 256ms\n",
      "960:\tlearn: 0.3302723\ttotal: 6.15s\tremaining: 250ms\n",
      "961:\tlearn: 0.3302223\ttotal: 6.16s\tremaining: 243ms\n",
      "962:\tlearn: 0.3301582\ttotal: 6.16s\tremaining: 237ms\n",
      "963:\tlearn: 0.3301416\ttotal: 6.17s\tremaining: 230ms\n",
      "964:\tlearn: 0.3300484\ttotal: 6.17s\tremaining: 224ms\n",
      "965:\tlearn: 0.3300140\ttotal: 6.18s\tremaining: 217ms\n",
      "966:\tlearn: 0.3299903\ttotal: 6.18s\tremaining: 211ms\n",
      "967:\tlearn: 0.3298871\ttotal: 6.19s\tremaining: 205ms\n",
      "968:\tlearn: 0.3298598\ttotal: 6.19s\tremaining: 198ms\n",
      "969:\tlearn: 0.3298408\ttotal: 6.2s\tremaining: 192ms\n",
      "970:\tlearn: 0.3297900\ttotal: 6.2s\tremaining: 185ms\n",
      "971:\tlearn: 0.3297586\ttotal: 6.21s\tremaining: 179ms\n",
      "972:\tlearn: 0.3297069\ttotal: 6.22s\tremaining: 172ms\n",
      "973:\tlearn: 0.3296812\ttotal: 6.22s\tremaining: 166ms\n",
      "974:\tlearn: 0.3296450\ttotal: 6.23s\tremaining: 160ms\n",
      "975:\tlearn: 0.3295911\ttotal: 6.23s\tremaining: 153ms\n",
      "976:\tlearn: 0.3295302\ttotal: 6.24s\tremaining: 147ms\n",
      "977:\tlearn: 0.3294713\ttotal: 6.24s\tremaining: 140ms\n",
      "978:\tlearn: 0.3294192\ttotal: 6.25s\tremaining: 134ms\n",
      "979:\tlearn: 0.3293923\ttotal: 6.25s\tremaining: 128ms\n",
      "980:\tlearn: 0.3293665\ttotal: 6.26s\tremaining: 121ms\n",
      "981:\tlearn: 0.3293286\ttotal: 6.26s\tremaining: 115ms\n",
      "982:\tlearn: 0.3293069\ttotal: 6.27s\tremaining: 108ms\n",
      "983:\tlearn: 0.3292508\ttotal: 6.27s\tremaining: 102ms\n"
     ]
    },
    {
     "name": "stdout",
     "output_type": "stream",
     "text": [
      "984:\tlearn: 0.3292135\ttotal: 6.28s\tremaining: 95.6ms\n",
      "985:\tlearn: 0.3291652\ttotal: 6.28s\tremaining: 89.2ms\n",
      "986:\tlearn: 0.3291448\ttotal: 6.29s\tremaining: 82.8ms\n",
      "987:\tlearn: 0.3290862\ttotal: 6.29s\tremaining: 76.4ms\n",
      "988:\tlearn: 0.3290551\ttotal: 6.29s\tremaining: 70ms\n",
      "989:\tlearn: 0.3290202\ttotal: 6.3s\tremaining: 63.6ms\n",
      "990:\tlearn: 0.3289900\ttotal: 6.3s\tremaining: 57.3ms\n",
      "991:\tlearn: 0.3289556\ttotal: 6.31s\tremaining: 50.9ms\n",
      "992:\tlearn: 0.3289337\ttotal: 6.31s\tremaining: 44.5ms\n",
      "993:\tlearn: 0.3288775\ttotal: 6.32s\tremaining: 38.1ms\n",
      "994:\tlearn: 0.3288537\ttotal: 6.32s\tremaining: 31.8ms\n",
      "995:\tlearn: 0.3288153\ttotal: 6.33s\tremaining: 25.4ms\n",
      "996:\tlearn: 0.3287765\ttotal: 6.33s\tremaining: 19.1ms\n",
      "997:\tlearn: 0.3287593\ttotal: 6.33s\tremaining: 12.7ms\n",
      "998:\tlearn: 0.3286783\ttotal: 6.34s\tremaining: 6.35ms\n",
      "999:\tlearn: 0.3286508\ttotal: 6.34s\tremaining: 0us\n"
     ]
    }
   ],
   "source": [
    "model = CatBoostRegressor()\n",
    "model.fit(x_train_18, y_train_18)\n",
    "y_pred_18 = model.predict(x_test_18)"
   ]
  },
  {
   "cell_type": "code",
   "execution_count": 204,
   "id": "ac5955c8",
   "metadata": {},
   "outputs": [
    {
     "name": "stdout",
     "output_type": "stream",
     "text": [
      "MSE for CatBoost 2018 is: 0.23122803903050895\n"
     ]
    }
   ],
   "source": [
    "# Calculation of Mean Squared Error (MSE)\n",
    "mse = mean_squared_error(y_test_18, y_pred_18)\n",
    "print('MSE for CatBoost 2018 is: ' + str(mse))"
   ]
  },
  {
   "cell_type": "code",
   "execution_count": 205,
   "id": "4b0d621c",
   "metadata": {},
   "outputs": [
    {
     "name": "stdout",
     "output_type": "stream",
     "text": [
      "Accuracy of properties at +- 10% of actual prices is 0.2326388888888889\n"
     ]
    }
   ],
   "source": [
    "acc = accuracy_threshold(y_test_18, y_pred_18, 0.1)\n",
    "print('Accuracy of properties at +- 10% of actual prices is ' + str(acc))"
   ]
  },
  {
   "cell_type": "code",
   "execution_count": 206,
   "id": "57e165de",
   "metadata": {},
   "outputs": [
    {
     "name": "stdout",
     "output_type": "stream",
     "text": [
      "Median Absolute Error:\n",
      "\n",
      "0.24562597080850196\n"
     ]
    }
   ],
   "source": [
    "median_se = np.square(np.subtract(y_test_18, y_pred_18)).median() \n",
    " \n",
    "med = math.sqrt(median_se)\n",
    "print(\"Median Absolute Error:\\n\")\n",
    "print(med)"
   ]
  },
  {
   "cell_type": "code",
   "execution_count": 207,
   "id": "4a6d15a7",
   "metadata": {},
   "outputs": [
    {
     "name": "stdout",
     "output_type": "stream",
     "text": [
      "RMSE for CatBoost 2018 is: 0.48086176707085887\n"
     ]
    }
   ],
   "source": [
    "rmse = mean_squared_error(y_test_18, y_pred_18, squared = False)\n",
    "print('RMSE for CatBoost 2018 is: ' + str(rmse))"
   ]
  },
  {
   "cell_type": "code",
   "execution_count": 208,
   "id": "077985a3",
   "metadata": {},
   "outputs": [
    {
     "name": "stdout",
     "output_type": "stream",
     "text": [
      "MAPE for CatBoost 2018 is: 0.027886055364575776\n"
     ]
    }
   ],
   "source": [
    "mape = mean_absolute_percentage_error(y_test_18, y_pred_18)\n",
    "print(\"MAPE for CatBoost 2018 is: \" + str(mape))"
   ]
  },
  {
   "cell_type": "code",
   "execution_count": 209,
   "id": "efdfd2f1",
   "metadata": {},
   "outputs": [],
   "source": [
    "cnames = ['Algorithm', 'Year', 'RMSE', 'MSE', 'MEDAE', 'Accuracy', 'MAPE']\n",
    "df22 = pd.DataFrame(columns = cnames)\n",
    "\n",
    "df22 = df22.append({'Algorithm': 'CatBoost',\n",
    "           'Year': 2018,\n",
    "           'RMSE': rmse,\n",
    "           'MSE': mse,\n",
    "           'MEDAE': med,\n",
    "           'Accuracy': acc,\n",
    "           'MAPE': mape         \n",
    "          }, ignore_index = True)"
   ]
  },
  {
   "cell_type": "markdown",
   "id": "32ba1ce8",
   "metadata": {},
   "source": [
    "### BayesianRidge"
   ]
  },
  {
   "cell_type": "code",
   "execution_count": 210,
   "id": "be7faf55",
   "metadata": {},
   "outputs": [
    {
     "name": "stdout",
     "output_type": "stream",
     "text": [
      "MSE for BayesianRidge 2018 is: 0.1812750944268964\n"
     ]
    }
   ],
   "source": [
    "clf = BayesianRidge()\n",
    "clf.fit(x_train_18, y_train_18)\n",
    "y_pred_18 = clf.predict(x_test_18)\n",
    "# Calculation of Mean Squared Error (MSE)\n",
    "mse = mean_squared_error(y_test_18, y_pred_18)\n",
    "print('MSE for BayesianRidge 2018 is: ' + str(mse))"
   ]
  },
  {
   "cell_type": "code",
   "execution_count": 211,
   "id": "dcac2a1a",
   "metadata": {},
   "outputs": [
    {
     "name": "stdout",
     "output_type": "stream",
     "text": [
      "Accuracy of properties at +- 10% of actual prices is 0.24768518518518517\n"
     ]
    }
   ],
   "source": [
    "acc = accuracy_threshold(y_test_18, y_pred_18, 0.1)\n",
    "print('Accuracy of properties at +- 10% of actual prices is ' + str(acc))"
   ]
  },
  {
   "cell_type": "code",
   "execution_count": 212,
   "id": "c36fbb4d",
   "metadata": {},
   "outputs": [
    {
     "name": "stdout",
     "output_type": "stream",
     "text": [
      "MAPE for BayesianRidge 2018 is: 0.025794128662717648\n"
     ]
    }
   ],
   "source": [
    "mape = mean_absolute_percentage_error(y_test_18, y_pred_18)\n",
    "print(\"MAPE for BayesianRidge 2018 is: \" + str(mape))"
   ]
  },
  {
   "cell_type": "code",
   "execution_count": 213,
   "id": "8f51cb14",
   "metadata": {},
   "outputs": [
    {
     "name": "stdout",
     "output_type": "stream",
     "text": [
      "Median Absolute Error:\n",
      "\n",
      "0.2228580836004149\n"
     ]
    }
   ],
   "source": [
    "median_se = np.square(np.subtract(y_test_18, y_pred_18)).median() \n",
    " \n",
    "med = math.sqrt(median_se)\n",
    "print(\"Median Absolute Error:\\n\")\n",
    "print(med)"
   ]
  },
  {
   "cell_type": "code",
   "execution_count": 214,
   "id": "dd7ded2a",
   "metadata": {},
   "outputs": [
    {
     "name": "stdout",
     "output_type": "stream",
     "text": [
      "RMSE for MLR 2018 is: 0.42576413003786073\n"
     ]
    }
   ],
   "source": [
    "rmse = mean_squared_error(y_test_18, y_pred_18, squared = False)\n",
    "print('RMSE for MLR 2018 is: ' + str(rmse))"
   ]
  },
  {
   "cell_type": "code",
   "execution_count": 215,
   "id": "739c52c5",
   "metadata": {},
   "outputs": [],
   "source": [
    "cnames = ['Algorithm', 'Year', 'RMSE', 'MSE', 'MEDAE', 'Accuracy', 'MAPE']\n",
    "df23 = pd.DataFrame(columns = cnames)\n",
    "\n",
    "df23 = df23.append({'Algorithm': 'Bayesian',\n",
    "           'Year': 2018,\n",
    "           'RMSE': rmse,\n",
    "           'MSE': mse,\n",
    "           'MEDAE': med,\n",
    "           'Accuracy': acc,\n",
    "           'MAPE': mape         \n",
    "          }, ignore_index = True)"
   ]
  },
  {
   "cell_type": "markdown",
   "id": "3603e079",
   "metadata": {},
   "source": [
    "## 2017"
   ]
  },
  {
   "cell_type": "code",
   "execution_count": 216,
   "id": "e0c02467",
   "metadata": {},
   "outputs": [],
   "source": [
    "specific17 = irl[irl['Year'] > 2013]\n",
    "test_17 = specific17[specific17['Year'] == 2017]\n",
    "train_17 = specific17[specific17['Year'] < 2017]\n",
    "\n",
    "x_train_17 = train_17.loc[:, train_17.columns != 'LogPrice (€)']\n",
    "y_train_17 = train_17['LogPrice (€)']\n",
    "x_test_17 = test_17.loc[:, test_17.columns != 'LogPrice (€)']\n",
    "y_test_17 = test_17['LogPrice (€)']"
   ]
  },
  {
   "cell_type": "code",
   "execution_count": 217,
   "id": "519a5218",
   "metadata": {},
   "outputs": [
    {
     "name": "stdout",
     "output_type": "stream",
     "text": [
      "AutoML directory: AutoML_5\n",
      "The task is regression with evaluation metric rmse\n",
      "AutoML will use algorithms: ['Baseline', 'Linear', 'Decision Tree', 'Random Forest', 'Xgboost', 'Neural Network']\n",
      "AutoML will ensemble available models\n",
      "AutoML steps: ['simple_algorithms', 'default_algorithms', 'ensemble']\n",
      "* Step simple_algorithms will try to check up to 3 models\n",
      "1_Baseline rmse 0.589922 trained in 1.81 seconds\n",
      "2_DecisionTree rmse 0.458622 trained in 10.93 seconds\n",
      "3_Linear rmse 0.443894 trained in 5.1 seconds\n",
      "* Step default_algorithms will try to check up to 3 models\n",
      "4_Default_Xgboost rmse 0.43893 trained in 10.3 seconds\n",
      "5_Default_NeuralNetwork rmse 0.446367 trained in 2.65 seconds\n",
      "6_Default_RandomForest rmse 0.441714 trained in 7.6 seconds\n",
      "* Step ensemble will try to check up to 1 model\n",
      "Ensemble rmse 0.430259 trained in 0.52 seconds\n",
      "AutoML fit time: 64.06 seconds\n",
      "AutoML best model: Ensemble\n"
     ]
    },
    {
     "data": {
      "text/plain": [
       "AutoML(explain_level=2, total_time_limit=300)"
      ]
     },
     "execution_count": 217,
     "metadata": {},
     "output_type": "execute_result"
    }
   ],
   "source": [
    "automl = AutoML(total_time_limit = 5 * 60, explain_level = 2)\n",
    "automl.fit(x_train_17, y_train_17)"
   ]
  },
  {
   "cell_type": "code",
   "execution_count": 218,
   "id": "ae607b39",
   "metadata": {},
   "outputs": [
    {
     "name": "stdout",
     "output_type": "stream",
     "text": [
      "MSE for AutoML 2017 is: 0.18565775148853514\n"
     ]
    }
   ],
   "source": [
    "y_pred_17 = automl.predict(x_test_17)\n",
    "# Calculation of Mean Squared Error (MSE)\n",
    "mse = mean_squared_error(y_test_17, y_pred_17)\n",
    "print('MSE for AutoML 2017 is: ' + str(mse))"
   ]
  },
  {
   "cell_type": "code",
   "execution_count": 219,
   "id": "89808aa5",
   "metadata": {},
   "outputs": [
    {
     "name": "stdout",
     "output_type": "stream",
     "text": [
      "RMSE for AutoML 2017 is: 0.4308802054963016\n"
     ]
    }
   ],
   "source": [
    "rmse = mean_squared_error(y_test_17, y_pred_17, squared = False)\n",
    "print('RMSE for AutoML 2017 is: ' + str(rmse))"
   ]
  },
  {
   "cell_type": "code",
   "execution_count": 220,
   "id": "1c9b63ba",
   "metadata": {},
   "outputs": [
    {
     "name": "stdout",
     "output_type": "stream",
     "text": [
      "Accuracy of properties at +- 10% of actual prices is 0.2510729613733906\n"
     ]
    }
   ],
   "source": [
    "acc = accuracy_threshold(y_test_17, y_pred_17, 0.1)\n",
    "print('Accuracy of properties at +- 10% of actual prices is ' + str(acc))"
   ]
  },
  {
   "cell_type": "code",
   "execution_count": 221,
   "id": "b244d0d9",
   "metadata": {},
   "outputs": [
    {
     "name": "stdout",
     "output_type": "stream",
     "text": [
      "Median Absolute Error:\n",
      "\n",
      "0.23368879388037547\n"
     ]
    }
   ],
   "source": [
    "median_se = np.square(np.subtract(y_test_17, y_pred_17)).median() \n",
    " \n",
    "med = math.sqrt(median_se)\n",
    "print(\"Median Absolute Error:\\n\")\n",
    "print(med)"
   ]
  },
  {
   "cell_type": "code",
   "execution_count": 222,
   "id": "3656aeed",
   "metadata": {},
   "outputs": [
    {
     "name": "stdout",
     "output_type": "stream",
     "text": [
      "MAPE for AutoML 2017 is: 0.025820659245898284\n"
     ]
    }
   ],
   "source": [
    "mape = mean_absolute_percentage_error(y_test_17, y_pred_17)\n",
    "print(\"MAPE for AutoML 2017 is: \" + str(mape))"
   ]
  },
  {
   "cell_type": "code",
   "execution_count": 223,
   "id": "de32e7b8",
   "metadata": {},
   "outputs": [],
   "source": [
    "cnames = ['Algorithm', 'Year', 'RMSE', 'MSE', 'MEDAE', 'Accuracy', 'MAPE']\n",
    "df24 = pd.DataFrame(columns = cnames)\n",
    "\n",
    "df24 = df24.append({'Algorithm': 'AutoML',\n",
    "           'Year': 2017,\n",
    "           'RMSE': rmse,\n",
    "           'MSE': mse,\n",
    "           'MEDAE': med,\n",
    "           'Accuracy': acc,\n",
    "           'MAPE': mape         \n",
    "          }, ignore_index = True)"
   ]
  },
  {
   "cell_type": "code",
   "execution_count": 224,
   "id": "290ccd72",
   "metadata": {},
   "outputs": [],
   "source": [
    "#cnames = ['Actual', 'Predicted']\n",
    "#dfreal5 = pd.DataFrame(columns = cnames)\n",
    "dfreal5 = pd.DataFrame(y_test_17.values)\n",
    "dfpred5 = pd.DataFrame(y_pred_17)\n",
    "#dfreal5 = pd.concat([z1, z2], ignore_index=True)"
   ]
  },
  {
   "cell_type": "markdown",
   "id": "e44a748f",
   "metadata": {},
   "source": [
    "### MLR"
   ]
  },
  {
   "cell_type": "code",
   "execution_count": 225,
   "id": "900d1850",
   "metadata": {},
   "outputs": [
    {
     "name": "stdout",
     "output_type": "stream",
     "text": [
      "MSE for MLR 2017 is: 0.19991245798302743\n"
     ]
    }
   ],
   "source": [
    "lm = linear_model.LinearRegression()\n",
    "lm.fit(x_train_17, y_train_17) # fitting the model\n",
    "y_pred_17 = lm.predict(x_test_17)\n",
    "# Calculation of Mean Squared Error (MSE)\n",
    "mse = mean_squared_error(y_test_17, y_pred_17)\n",
    "print('MSE for MLR 2017 is: ' + str(mse))"
   ]
  },
  {
   "cell_type": "code",
   "execution_count": 226,
   "id": "38e7f871",
   "metadata": {},
   "outputs": [
    {
     "name": "stdout",
     "output_type": "stream",
     "text": [
      "RMSE for MLR 2017 is: 0.44711570983698107\n"
     ]
    }
   ],
   "source": [
    "rmse = mean_squared_error(y_test_17, y_pred_17, squared = False)\n",
    "print('RMSE for MLR 2017 is: ' + str(rmse))"
   ]
  },
  {
   "cell_type": "code",
   "execution_count": 227,
   "id": "bf7320be",
   "metadata": {},
   "outputs": [
    {
     "name": "stdout",
     "output_type": "stream",
     "text": [
      "Accuracy of properties at +- 10% of actual prices is 0.22210300429184548\n"
     ]
    }
   ],
   "source": [
    "acc = accuracy_threshold(y_test_17, y_pred_17, 0.1)\n",
    "print('Accuracy of properties at +- 10% of actual prices is ' + str(acc))"
   ]
  },
  {
   "cell_type": "code",
   "execution_count": 228,
   "id": "79216519",
   "metadata": {},
   "outputs": [
    {
     "name": "stdout",
     "output_type": "stream",
     "text": [
      "Median Absolute Error:\n",
      "\n",
      "0.25316243404739924\n"
     ]
    }
   ],
   "source": [
    "median_se = np.square(np.subtract(y_test_17, y_pred_17)).median() \n",
    " \n",
    "med = math.sqrt(median_se)\n",
    "print(\"Median Absolute Error:\\n\")\n",
    "print(med)"
   ]
  },
  {
   "cell_type": "code",
   "execution_count": 229,
   "id": "a81013e4",
   "metadata": {},
   "outputs": [
    {
     "name": "stdout",
     "output_type": "stream",
     "text": [
      "MAPE for MLR 2017 is: 0.02722171143775672\n"
     ]
    }
   ],
   "source": [
    "mape = mean_absolute_percentage_error(y_test_17, y_pred_17)\n",
    "print(\"MAPE for MLR 2017 is: \" + str(mape))"
   ]
  },
  {
   "cell_type": "code",
   "execution_count": 230,
   "id": "fe7d6ec2",
   "metadata": {},
   "outputs": [],
   "source": [
    "cnames = ['Algorithm', 'Year', 'RMSE', 'MSE', 'MEDAE', 'Accuracy', 'MAPE']\n",
    "df25 = pd.DataFrame(columns = cnames)\n",
    "\n",
    "df25 = df25.append({'Algorithm': 'MLR',\n",
    "           'Year': 2017,\n",
    "           'RMSE': rmse,\n",
    "           'MSE': mse,\n",
    "           'MEDAE': med,\n",
    "           'Accuracy': acc,\n",
    "           'MAPE': mape         \n",
    "          }, ignore_index = True)"
   ]
  },
  {
   "cell_type": "markdown",
   "id": "02520000",
   "metadata": {},
   "source": [
    "### AdaBoost"
   ]
  },
  {
   "cell_type": "code",
   "execution_count": 231,
   "id": "6bd671b0",
   "metadata": {},
   "outputs": [
    {
     "name": "stdout",
     "output_type": "stream",
     "text": [
      "MSE for AdaBoost 2017 is: 0.23021674536346512\n"
     ]
    }
   ],
   "source": [
    "model = AdaBoostRegressor()\n",
    "model.fit(x_train_17, y_train_17)\n",
    "y_pred_17 = model.predict(x_test_17)\n",
    "# Calculation of Mean Squared Error (MSE)\n",
    "mse = mean_squared_error(y_test_17, y_pred_17)\n",
    "print('MSE for AdaBoost 2017 is: ' + str(mse))"
   ]
  },
  {
   "cell_type": "code",
   "execution_count": 232,
   "id": "4fbed0ce",
   "metadata": {},
   "outputs": [
    {
     "name": "stdout",
     "output_type": "stream",
     "text": [
      "RMSE for Adaboost 2017 is: 0.47980907178112536\n"
     ]
    }
   ],
   "source": [
    "rmse = mean_squared_error(y_test_17, y_pred_17, squared = False)\n",
    "print('RMSE for Adaboost 2017 is: ' + str(rmse))"
   ]
  },
  {
   "cell_type": "code",
   "execution_count": 233,
   "id": "9f322152",
   "metadata": {},
   "outputs": [
    {
     "name": "stdout",
     "output_type": "stream",
     "text": [
      "Accuracy of properties at +- 10% of actual prices is 0.15987124463519314\n"
     ]
    }
   ],
   "source": [
    "acc = accuracy_threshold(y_test_17, y_pred_17, 0.1)\n",
    "print('Accuracy of properties at +- 10% of actual prices is ' + str(acc))"
   ]
  },
  {
   "cell_type": "code",
   "execution_count": 234,
   "id": "39b1630b",
   "metadata": {},
   "outputs": [
    {
     "name": "stdout",
     "output_type": "stream",
     "text": [
      "Median Absolute Error:\n",
      "\n",
      "0.306086494463821\n"
     ]
    }
   ],
   "source": [
    "median_se = np.square(np.subtract(y_test_17, y_pred_17)).median() \n",
    " \n",
    "med = math.sqrt(median_se)\n",
    "print(\"Median Absolute Error:\\n\")\n",
    "print(med)"
   ]
  },
  {
   "cell_type": "code",
   "execution_count": 235,
   "id": "c5c7a745",
   "metadata": {},
   "outputs": [
    {
     "name": "stdout",
     "output_type": "stream",
     "text": [
      "MAPE for AdaBoost 2017 is: 0.029870774675421544\n"
     ]
    }
   ],
   "source": [
    "mape = mean_absolute_percentage_error(y_test_17, y_pred_17)\n",
    "print(\"MAPE for AdaBoost 2017 is: \" + str(mape))"
   ]
  },
  {
   "cell_type": "code",
   "execution_count": 236,
   "id": "07ef9181",
   "metadata": {},
   "outputs": [],
   "source": [
    "cnames = ['Algorithm', 'Year', 'RMSE', 'MSE', 'MEDAE', 'Accuracy', 'MAPE']\n",
    "df26 = pd.DataFrame(columns = cnames)\n",
    "\n",
    "df26 = df26.append({'Algorithm': 'AdaBoost',\n",
    "           'Year': 2017,\n",
    "           'RMSE': rmse,\n",
    "           'MSE': mse,\n",
    "           'MEDAE': med,\n",
    "           'Accuracy': acc,\n",
    "           'MAPE': mape         \n",
    "          }, ignore_index = True)"
   ]
  },
  {
   "cell_type": "markdown",
   "id": "a8bbf8de",
   "metadata": {},
   "source": [
    "### LightGBM"
   ]
  },
  {
   "cell_type": "code",
   "execution_count": 237,
   "id": "8bdf11c8",
   "metadata": {},
   "outputs": [
    {
     "name": "stdout",
     "output_type": "stream",
     "text": [
      "MSE for LightGBM 2017 is: 0.20702289685256015\n"
     ]
    }
   ],
   "source": [
    "model = LGBMRegressor()\n",
    "model.fit(x_train_17, y_train_17)\n",
    "y_pred_17 = model.predict(x_test_17)\n",
    "# Calculation of Mean Squared Error (MSE)\n",
    "mse = mean_squared_error(y_test_17, y_pred_17)\n",
    "print('MSE for LightGBM 2017 is: ' + str(mse))"
   ]
  },
  {
   "cell_type": "code",
   "execution_count": 238,
   "id": "70c2101b",
   "metadata": {},
   "outputs": [
    {
     "name": "stdout",
     "output_type": "stream",
     "text": [
      "RMSE for LightGBM 2017 is: 0.4549976888430975\n"
     ]
    }
   ],
   "source": [
    "rmse = mean_squared_error(y_test_17, y_pred_17, squared = False)\n",
    "print('RMSE for LightGBM 2017 is: ' + str(rmse))"
   ]
  },
  {
   "cell_type": "code",
   "execution_count": 239,
   "id": "09740eef",
   "metadata": {},
   "outputs": [
    {
     "name": "stdout",
     "output_type": "stream",
     "text": [
      "Accuracy of properties at +- 10% of actual prices is 0.21351931330472104\n"
     ]
    }
   ],
   "source": [
    "acc = accuracy_threshold(y_test_17, y_pred_17, 0.1)\n",
    "print('Accuracy of properties at +- 10% of actual prices is ' + str(acc))"
   ]
  },
  {
   "cell_type": "code",
   "execution_count": 240,
   "id": "09c947c3",
   "metadata": {},
   "outputs": [
    {
     "name": "stdout",
     "output_type": "stream",
     "text": [
      "Median Absolute Error:\n",
      "\n",
      "0.2550130174433747\n"
     ]
    }
   ],
   "source": [
    "median_se = np.square(np.subtract(y_test_17, y_pred_17)).median() \n",
    " \n",
    "med = math.sqrt(median_se)\n",
    "print(\"Median Absolute Error:\\n\")\n",
    "print(med)"
   ]
  },
  {
   "cell_type": "code",
   "execution_count": 241,
   "id": "5d44cfb8",
   "metadata": {},
   "outputs": [
    {
     "name": "stdout",
     "output_type": "stream",
     "text": [
      "MAPE for LightGBM 2017 is: 0.02750851837330803\n"
     ]
    }
   ],
   "source": [
    "mape = mean_absolute_percentage_error(y_test_17, y_pred_17)\n",
    "print(\"MAPE for LightGBM 2017 is: \" + str(mape))"
   ]
  },
  {
   "cell_type": "code",
   "execution_count": 242,
   "id": "00ea8e81",
   "metadata": {},
   "outputs": [],
   "source": [
    "cnames = ['Algorithm', 'Year', 'RMSE', 'MSE', 'MEDAE', 'Accuracy', 'MAPE']\n",
    "df27 = pd.DataFrame(columns = cnames)\n",
    "\n",
    "df27 = df27.append({'Algorithm': 'LightGBM',\n",
    "           'Year': 2017,\n",
    "           'RMSE': rmse,\n",
    "           'MSE': mse,\n",
    "           'MEDAE': med,\n",
    "           'Accuracy': acc,\n",
    "           'MAPE': mape         \n",
    "          }, ignore_index = True)"
   ]
  },
  {
   "cell_type": "markdown",
   "id": "5c37b554",
   "metadata": {},
   "source": [
    "### CatBoost"
   ]
  },
  {
   "cell_type": "code",
   "execution_count": 243,
   "id": "28007eed",
   "metadata": {},
   "outputs": [
    {
     "name": "stdout",
     "output_type": "stream",
     "text": [
      "Learning rate set to 0.047042\n",
      "0:\tlearn: 0.5915710\ttotal: 10.1ms\tremaining: 10s\n",
      "1:\tlearn: 0.5810454\ttotal: 14.8ms\tremaining: 7.38s\n",
      "2:\tlearn: 0.5718349\ttotal: 25.1ms\tremaining: 8.33s\n",
      "3:\tlearn: 0.5622482\ttotal: 31.9ms\tremaining: 7.95s\n",
      "4:\tlearn: 0.5535796\ttotal: 43.2ms\tremaining: 8.59s\n",
      "5:\tlearn: 0.5451402\ttotal: 55.5ms\tremaining: 9.19s\n",
      "6:\tlearn: 0.5371753\ttotal: 62.7ms\tremaining: 8.89s\n",
      "7:\tlearn: 0.5304700\ttotal: 71.8ms\tremaining: 8.9s\n",
      "8:\tlearn: 0.5237305\ttotal: 77.9ms\tremaining: 8.58s\n",
      "9:\tlearn: 0.5172403\ttotal: 85.6ms\tremaining: 8.47s\n",
      "10:\tlearn: 0.5113859\ttotal: 93.3ms\tremaining: 8.39s\n",
      "11:\tlearn: 0.5061398\ttotal: 103ms\tremaining: 8.48s\n",
      "12:\tlearn: 0.5012489\ttotal: 108ms\tremaining: 8.23s\n",
      "13:\tlearn: 0.4962080\ttotal: 114ms\tremaining: 8.03s\n",
      "14:\tlearn: 0.4919985\ttotal: 120ms\tremaining: 7.85s\n",
      "15:\tlearn: 0.4878656\ttotal: 124ms\tremaining: 7.64s\n",
      "16:\tlearn: 0.4839357\ttotal: 132ms\tremaining: 7.64s\n",
      "17:\tlearn: 0.4800088\ttotal: 139ms\tremaining: 7.61s\n",
      "18:\tlearn: 0.4768644\ttotal: 148ms\tremaining: 7.64s\n",
      "19:\tlearn: 0.4736705\ttotal: 155ms\tremaining: 7.61s\n",
      "20:\tlearn: 0.4706216\ttotal: 164ms\tremaining: 7.67s\n",
      "21:\tlearn: 0.4679820\ttotal: 170ms\tremaining: 7.57s\n",
      "22:\tlearn: 0.4650339\ttotal: 175ms\tremaining: 7.43s\n",
      "23:\tlearn: 0.4626182\ttotal: 182ms\tremaining: 7.42s\n",
      "24:\tlearn: 0.4607275\ttotal: 190ms\tremaining: 7.41s\n",
      "25:\tlearn: 0.4587053\ttotal: 196ms\tremaining: 7.33s\n",
      "26:\tlearn: 0.4565320\ttotal: 202ms\tremaining: 7.3s\n",
      "27:\tlearn: 0.4544519\ttotal: 212ms\tremaining: 7.36s\n",
      "28:\tlearn: 0.4528114\ttotal: 217ms\tremaining: 7.26s\n",
      "29:\tlearn: 0.4510321\ttotal: 224ms\tremaining: 7.25s\n",
      "30:\tlearn: 0.4492435\ttotal: 229ms\tremaining: 7.17s\n",
      "31:\tlearn: 0.4478761\ttotal: 234ms\tremaining: 7.08s\n",
      "32:\tlearn: 0.4465047\ttotal: 241ms\tremaining: 7.07s\n",
      "33:\tlearn: 0.4451867\ttotal: 249ms\tremaining: 7.07s\n",
      "34:\tlearn: 0.4438073\ttotal: 257ms\tremaining: 7.09s\n",
      "35:\tlearn: 0.4421891\ttotal: 264ms\tremaining: 7.07s\n",
      "36:\tlearn: 0.4410869\ttotal: 269ms\tremaining: 7s\n",
      "37:\tlearn: 0.4400041\ttotal: 275ms\tremaining: 6.96s\n",
      "38:\tlearn: 0.4387892\ttotal: 282ms\tremaining: 6.94s\n",
      "39:\tlearn: 0.4380333\ttotal: 287ms\tremaining: 6.88s\n",
      "40:\tlearn: 0.4371530\ttotal: 292ms\tremaining: 6.82s\n",
      "41:\tlearn: 0.4362716\ttotal: 296ms\tremaining: 6.76s\n",
      "42:\tlearn: 0.4353797\ttotal: 301ms\tremaining: 6.7s\n",
      "43:\tlearn: 0.4346392\ttotal: 306ms\tremaining: 6.65s\n",
      "44:\tlearn: 0.4338268\ttotal: 311ms\tremaining: 6.59s\n",
      "45:\tlearn: 0.4330852\ttotal: 316ms\tremaining: 6.55s\n",
      "46:\tlearn: 0.4322922\ttotal: 321ms\tremaining: 6.5s\n",
      "47:\tlearn: 0.4314359\ttotal: 325ms\tremaining: 6.45s\n",
      "48:\tlearn: 0.4306966\ttotal: 330ms\tremaining: 6.4s\n",
      "49:\tlearn: 0.4298877\ttotal: 334ms\tremaining: 6.35s\n",
      "50:\tlearn: 0.4291416\ttotal: 339ms\tremaining: 6.31s\n",
      "51:\tlearn: 0.4285450\ttotal: 344ms\tremaining: 6.27s\n",
      "52:\tlearn: 0.4280699\ttotal: 352ms\tremaining: 6.29s\n",
      "53:\tlearn: 0.4274131\ttotal: 360ms\tremaining: 6.3s\n",
      "54:\tlearn: 0.4271893\ttotal: 363ms\tremaining: 6.23s\n",
      "55:\tlearn: 0.4265954\ttotal: 370ms\tremaining: 6.23s\n",
      "56:\tlearn: 0.4260392\ttotal: 378ms\tremaining: 6.26s\n",
      "57:\tlearn: 0.4254431\ttotal: 386ms\tremaining: 6.28s\n",
      "58:\tlearn: 0.4250527\ttotal: 394ms\tremaining: 6.29s\n",
      "59:\tlearn: 0.4243940\ttotal: 401ms\tremaining: 6.29s\n",
      "60:\tlearn: 0.4238782\ttotal: 410ms\tremaining: 6.31s\n",
      "61:\tlearn: 0.4232873\ttotal: 417ms\tremaining: 6.31s\n",
      "62:\tlearn: 0.4228444\ttotal: 426ms\tremaining: 6.34s\n",
      "63:\tlearn: 0.4221540\ttotal: 435ms\tremaining: 6.36s\n",
      "64:\tlearn: 0.4215347\ttotal: 440ms\tremaining: 6.34s\n",
      "65:\tlearn: 0.4209349\ttotal: 445ms\tremaining: 6.29s\n",
      "66:\tlearn: 0.4203347\ttotal: 449ms\tremaining: 6.25s\n",
      "67:\tlearn: 0.4198063\ttotal: 452ms\tremaining: 6.2s\n",
      "68:\tlearn: 0.4194421\ttotal: 456ms\tremaining: 6.16s\n",
      "69:\tlearn: 0.4191097\ttotal: 460ms\tremaining: 6.11s\n",
      "70:\tlearn: 0.4185619\ttotal: 464ms\tremaining: 6.07s\n",
      "71:\tlearn: 0.4181767\ttotal: 468ms\tremaining: 6.03s\n",
      "72:\tlearn: 0.4178152\ttotal: 471ms\tremaining: 5.99s\n",
      "73:\tlearn: 0.4173598\ttotal: 475ms\tremaining: 5.95s\n",
      "74:\tlearn: 0.4168522\ttotal: 482ms\tremaining: 5.94s\n",
      "75:\tlearn: 0.4165641\ttotal: 486ms\tremaining: 5.91s\n",
      "76:\tlearn: 0.4161403\ttotal: 489ms\tremaining: 5.87s\n",
      "77:\tlearn: 0.4158760\ttotal: 494ms\tremaining: 5.83s\n",
      "78:\tlearn: 0.4154965\ttotal: 497ms\tremaining: 5.8s\n",
      "79:\tlearn: 0.4151775\ttotal: 501ms\tremaining: 5.76s\n",
      "80:\tlearn: 0.4147824\ttotal: 504ms\tremaining: 5.72s\n",
      "81:\tlearn: 0.4142104\ttotal: 508ms\tremaining: 5.69s\n",
      "82:\tlearn: 0.4138368\ttotal: 512ms\tremaining: 5.65s\n",
      "83:\tlearn: 0.4135205\ttotal: 515ms\tremaining: 5.62s\n",
      "84:\tlearn: 0.4134211\ttotal: 518ms\tremaining: 5.58s\n",
      "85:\tlearn: 0.4132133\ttotal: 522ms\tremaining: 5.55s\n",
      "86:\tlearn: 0.4128284\ttotal: 526ms\tremaining: 5.52s\n",
      "87:\tlearn: 0.4125555\ttotal: 530ms\tremaining: 5.49s\n",
      "88:\tlearn: 0.4122610\ttotal: 534ms\tremaining: 5.47s\n",
      "89:\tlearn: 0.4120498\ttotal: 538ms\tremaining: 5.44s\n",
      "90:\tlearn: 0.4118537\ttotal: 542ms\tremaining: 5.41s\n",
      "91:\tlearn: 0.4112782\ttotal: 546ms\tremaining: 5.39s\n",
      "92:\tlearn: 0.4111033\ttotal: 551ms\tremaining: 5.37s\n",
      "93:\tlearn: 0.4108483\ttotal: 554ms\tremaining: 5.34s\n",
      "94:\tlearn: 0.4105975\ttotal: 558ms\tremaining: 5.31s\n",
      "95:\tlearn: 0.4103122\ttotal: 563ms\tremaining: 5.3s\n",
      "96:\tlearn: 0.4101432\ttotal: 566ms\tremaining: 5.27s\n",
      "97:\tlearn: 0.4098586\ttotal: 570ms\tremaining: 5.25s\n",
      "98:\tlearn: 0.4096977\ttotal: 574ms\tremaining: 5.22s\n",
      "99:\tlearn: 0.4091865\ttotal: 577ms\tremaining: 5.2s\n",
      "100:\tlearn: 0.4090494\ttotal: 581ms\tremaining: 5.17s\n",
      "101:\tlearn: 0.4089278\ttotal: 585ms\tremaining: 5.15s\n",
      "102:\tlearn: 0.4086478\ttotal: 589ms\tremaining: 5.13s\n",
      "103:\tlearn: 0.4084678\ttotal: 592ms\tremaining: 5.1s\n",
      "104:\tlearn: 0.4083343\ttotal: 596ms\tremaining: 5.08s\n",
      "105:\tlearn: 0.4080380\ttotal: 599ms\tremaining: 5.05s\n",
      "106:\tlearn: 0.4076808\ttotal: 604ms\tremaining: 5.04s\n",
      "107:\tlearn: 0.4074952\ttotal: 608ms\tremaining: 5.02s\n",
      "108:\tlearn: 0.4072558\ttotal: 611ms\tremaining: 5s\n",
      "109:\tlearn: 0.4070523\ttotal: 615ms\tremaining: 4.97s\n",
      "110:\tlearn: 0.4068025\ttotal: 619ms\tremaining: 4.95s\n",
      "111:\tlearn: 0.4065612\ttotal: 622ms\tremaining: 4.93s\n",
      "112:\tlearn: 0.4063036\ttotal: 626ms\tremaining: 4.91s\n",
      "113:\tlearn: 0.4060259\ttotal: 630ms\tremaining: 4.89s\n",
      "114:\tlearn: 0.4058321\ttotal: 633ms\tremaining: 4.87s\n",
      "115:\tlearn: 0.4052485\ttotal: 637ms\tremaining: 4.85s\n",
      "116:\tlearn: 0.4051960\ttotal: 639ms\tremaining: 4.82s\n",
      "117:\tlearn: 0.4049360\ttotal: 642ms\tremaining: 4.8s\n",
      "118:\tlearn: 0.4047610\ttotal: 646ms\tremaining: 4.78s\n",
      "119:\tlearn: 0.4045644\ttotal: 649ms\tremaining: 4.76s\n",
      "120:\tlearn: 0.4043398\ttotal: 653ms\tremaining: 4.74s\n",
      "121:\tlearn: 0.4040421\ttotal: 657ms\tremaining: 4.72s\n",
      "122:\tlearn: 0.4039153\ttotal: 660ms\tremaining: 4.71s\n",
      "123:\tlearn: 0.4036302\ttotal: 664ms\tremaining: 4.69s\n",
      "124:\tlearn: 0.4033195\ttotal: 668ms\tremaining: 4.67s\n",
      "125:\tlearn: 0.4030727\ttotal: 671ms\tremaining: 4.66s\n",
      "126:\tlearn: 0.4028947\ttotal: 675ms\tremaining: 4.64s\n",
      "127:\tlearn: 0.4026637\ttotal: 678ms\tremaining: 4.62s\n",
      "128:\tlearn: 0.4024805\ttotal: 682ms\tremaining: 4.6s\n",
      "129:\tlearn: 0.4023016\ttotal: 687ms\tremaining: 4.59s\n",
      "130:\tlearn: 0.4021810\ttotal: 690ms\tremaining: 4.58s\n",
      "131:\tlearn: 0.4019659\ttotal: 694ms\tremaining: 4.56s\n",
      "132:\tlearn: 0.4017157\ttotal: 698ms\tremaining: 4.55s\n",
      "133:\tlearn: 0.4015411\ttotal: 702ms\tremaining: 4.54s\n",
      "134:\tlearn: 0.4012664\ttotal: 706ms\tremaining: 4.52s\n",
      "135:\tlearn: 0.4009266\ttotal: 711ms\tremaining: 4.52s\n",
      "136:\tlearn: 0.4007535\ttotal: 716ms\tremaining: 4.51s\n",
      "137:\tlearn: 0.4005059\ttotal: 721ms\tremaining: 4.5s\n",
      "138:\tlearn: 0.4002543\ttotal: 725ms\tremaining: 4.49s\n",
      "139:\tlearn: 0.3999640\ttotal: 733ms\tremaining: 4.5s\n",
      "140:\tlearn: 0.3998469\ttotal: 742ms\tremaining: 4.52s\n",
      "141:\tlearn: 0.3996950\ttotal: 752ms\tremaining: 4.54s\n",
      "142:\tlearn: 0.3994955\ttotal: 759ms\tremaining: 4.55s\n",
      "143:\tlearn: 0.3993564\ttotal: 768ms\tremaining: 4.57s\n",
      "144:\tlearn: 0.3992024\ttotal: 775ms\tremaining: 4.57s\n",
      "145:\tlearn: 0.3989820\ttotal: 783ms\tremaining: 4.58s\n",
      "146:\tlearn: 0.3988886\ttotal: 789ms\tremaining: 4.58s\n",
      "147:\tlearn: 0.3986822\ttotal: 793ms\tremaining: 4.57s\n",
      "148:\tlearn: 0.3985895\ttotal: 803ms\tremaining: 4.59s\n",
      "149:\tlearn: 0.3983299\ttotal: 808ms\tremaining: 4.58s\n",
      "150:\tlearn: 0.3981112\ttotal: 817ms\tremaining: 4.59s\n",
      "151:\tlearn: 0.3978587\ttotal: 821ms\tremaining: 4.58s\n",
      "152:\tlearn: 0.3975913\ttotal: 827ms\tremaining: 4.58s\n",
      "153:\tlearn: 0.3973609\ttotal: 834ms\tremaining: 4.58s\n",
      "154:\tlearn: 0.3971476\ttotal: 839ms\tremaining: 4.58s\n",
      "155:\tlearn: 0.3970671\ttotal: 847ms\tremaining: 4.58s\n",
      "156:\tlearn: 0.3968915\ttotal: 852ms\tremaining: 4.57s\n",
      "157:\tlearn: 0.3967335\ttotal: 858ms\tremaining: 4.57s\n",
      "158:\tlearn: 0.3966178\ttotal: 867ms\tremaining: 4.59s\n",
      "159:\tlearn: 0.3963468\ttotal: 872ms\tremaining: 4.58s\n",
      "160:\tlearn: 0.3961922\ttotal: 880ms\tremaining: 4.58s\n",
      "161:\tlearn: 0.3961430\ttotal: 884ms\tremaining: 4.57s\n",
      "162:\tlearn: 0.3959483\ttotal: 892ms\tremaining: 4.58s\n"
     ]
    },
    {
     "name": "stdout",
     "output_type": "stream",
     "text": [
      "163:\tlearn: 0.3957030\ttotal: 898ms\tremaining: 4.58s\n",
      "164:\tlearn: 0.3955402\ttotal: 904ms\tremaining: 4.58s\n",
      "165:\tlearn: 0.3953754\ttotal: 912ms\tremaining: 4.58s\n",
      "166:\tlearn: 0.3951678\ttotal: 919ms\tremaining: 4.58s\n",
      "167:\tlearn: 0.3949714\ttotal: 924ms\tremaining: 4.58s\n",
      "168:\tlearn: 0.3947158\ttotal: 931ms\tremaining: 4.58s\n",
      "169:\tlearn: 0.3945237\ttotal: 938ms\tremaining: 4.58s\n",
      "170:\tlearn: 0.3943734\ttotal: 942ms\tremaining: 4.57s\n",
      "171:\tlearn: 0.3942435\ttotal: 948ms\tremaining: 4.56s\n",
      "172:\tlearn: 0.3941162\ttotal: 955ms\tremaining: 4.57s\n",
      "173:\tlearn: 0.3939770\ttotal: 961ms\tremaining: 4.56s\n",
      "174:\tlearn: 0.3938325\ttotal: 966ms\tremaining: 4.55s\n",
      "175:\tlearn: 0.3937201\ttotal: 970ms\tremaining: 4.54s\n",
      "176:\tlearn: 0.3935742\ttotal: 975ms\tremaining: 4.53s\n",
      "177:\tlearn: 0.3932834\ttotal: 979ms\tremaining: 4.52s\n",
      "178:\tlearn: 0.3930042\ttotal: 984ms\tremaining: 4.51s\n",
      "179:\tlearn: 0.3928404\ttotal: 989ms\tremaining: 4.5s\n",
      "180:\tlearn: 0.3927758\ttotal: 993ms\tremaining: 4.49s\n",
      "181:\tlearn: 0.3925288\ttotal: 998ms\tremaining: 4.48s\n",
      "182:\tlearn: 0.3922997\ttotal: 1s\tremaining: 4.47s\n",
      "183:\tlearn: 0.3920599\ttotal: 1.01s\tremaining: 4.46s\n",
      "184:\tlearn: 0.3919470\ttotal: 1.01s\tremaining: 4.45s\n",
      "185:\tlearn: 0.3918665\ttotal: 1.01s\tremaining: 4.44s\n",
      "186:\tlearn: 0.3917636\ttotal: 1.02s\tremaining: 4.43s\n",
      "187:\tlearn: 0.3915359\ttotal: 1.02s\tremaining: 4.42s\n",
      "188:\tlearn: 0.3914003\ttotal: 1.03s\tremaining: 4.41s\n",
      "189:\tlearn: 0.3912173\ttotal: 1.03s\tremaining: 4.4s\n",
      "190:\tlearn: 0.3910361\ttotal: 1.03s\tremaining: 4.39s\n",
      "191:\tlearn: 0.3909261\ttotal: 1.04s\tremaining: 4.37s\n",
      "192:\tlearn: 0.3906855\ttotal: 1.04s\tremaining: 4.36s\n",
      "193:\tlearn: 0.3904849\ttotal: 1.05s\tremaining: 4.35s\n",
      "194:\tlearn: 0.3903221\ttotal: 1.05s\tremaining: 4.34s\n",
      "195:\tlearn: 0.3902169\ttotal: 1.05s\tremaining: 4.33s\n",
      "196:\tlearn: 0.3901054\ttotal: 1.06s\tremaining: 4.31s\n",
      "197:\tlearn: 0.3900188\ttotal: 1.06s\tremaining: 4.3s\n",
      "198:\tlearn: 0.3898308\ttotal: 1.07s\tremaining: 4.29s\n",
      "199:\tlearn: 0.3896065\ttotal: 1.07s\tremaining: 4.28s\n",
      "200:\tlearn: 0.3895074\ttotal: 1.07s\tremaining: 4.27s\n",
      "201:\tlearn: 0.3892489\ttotal: 1.08s\tremaining: 4.26s\n",
      "202:\tlearn: 0.3890648\ttotal: 1.08s\tremaining: 4.25s\n",
      "203:\tlearn: 0.3889396\ttotal: 1.08s\tremaining: 4.24s\n",
      "204:\tlearn: 0.3887987\ttotal: 1.09s\tremaining: 4.23s\n",
      "205:\tlearn: 0.3886987\ttotal: 1.09s\tremaining: 4.22s\n",
      "206:\tlearn: 0.3885275\ttotal: 1.1s\tremaining: 4.21s\n",
      "207:\tlearn: 0.3884465\ttotal: 1.1s\tremaining: 4.2s\n",
      "208:\tlearn: 0.3883228\ttotal: 1.1s\tremaining: 4.18s\n",
      "209:\tlearn: 0.3881262\ttotal: 1.11s\tremaining: 4.17s\n",
      "210:\tlearn: 0.3879771\ttotal: 1.11s\tremaining: 4.16s\n",
      "211:\tlearn: 0.3879216\ttotal: 1.12s\tremaining: 4.15s\n",
      "212:\tlearn: 0.3878276\ttotal: 1.12s\tremaining: 4.14s\n",
      "213:\tlearn: 0.3876993\ttotal: 1.13s\tremaining: 4.13s\n",
      "214:\tlearn: 0.3875295\ttotal: 1.13s\tremaining: 4.12s\n",
      "215:\tlearn: 0.3874396\ttotal: 1.13s\tremaining: 4.11s\n",
      "216:\tlearn: 0.3872288\ttotal: 1.14s\tremaining: 4.1s\n",
      "217:\tlearn: 0.3871374\ttotal: 1.14s\tremaining: 4.09s\n",
      "218:\tlearn: 0.3868816\ttotal: 1.14s\tremaining: 4.08s\n",
      "219:\tlearn: 0.3867415\ttotal: 1.15s\tremaining: 4.07s\n",
      "220:\tlearn: 0.3866533\ttotal: 1.15s\tremaining: 4.06s\n",
      "221:\tlearn: 0.3865001\ttotal: 1.15s\tremaining: 4.05s\n",
      "222:\tlearn: 0.3864532\ttotal: 1.16s\tremaining: 4.03s\n",
      "223:\tlearn: 0.3863449\ttotal: 1.16s\tremaining: 4.02s\n",
      "224:\tlearn: 0.3863051\ttotal: 1.16s\tremaining: 4.01s\n",
      "225:\tlearn: 0.3860598\ttotal: 1.17s\tremaining: 4s\n",
      "226:\tlearn: 0.3859016\ttotal: 1.17s\tremaining: 3.99s\n",
      "227:\tlearn: 0.3857461\ttotal: 1.18s\tremaining: 3.98s\n",
      "228:\tlearn: 0.3855819\ttotal: 1.18s\tremaining: 3.97s\n",
      "229:\tlearn: 0.3854063\ttotal: 1.18s\tremaining: 3.96s\n",
      "230:\tlearn: 0.3853682\ttotal: 1.19s\tremaining: 3.95s\n",
      "231:\tlearn: 0.3852403\ttotal: 1.19s\tremaining: 3.94s\n",
      "232:\tlearn: 0.3851410\ttotal: 1.19s\tremaining: 3.93s\n",
      "233:\tlearn: 0.3849780\ttotal: 1.2s\tremaining: 3.92s\n",
      "234:\tlearn: 0.3849380\ttotal: 1.2s\tremaining: 3.91s\n",
      "235:\tlearn: 0.3847475\ttotal: 1.2s\tremaining: 3.9s\n",
      "236:\tlearn: 0.3846889\ttotal: 1.21s\tremaining: 3.89s\n",
      "237:\tlearn: 0.3844637\ttotal: 1.21s\tremaining: 3.88s\n",
      "238:\tlearn: 0.3843216\ttotal: 1.22s\tremaining: 3.88s\n",
      "239:\tlearn: 0.3842839\ttotal: 1.22s\tremaining: 3.86s\n",
      "240:\tlearn: 0.3841088\ttotal: 1.22s\tremaining: 3.85s\n",
      "241:\tlearn: 0.3839142\ttotal: 1.23s\tremaining: 3.85s\n",
      "242:\tlearn: 0.3838209\ttotal: 1.23s\tremaining: 3.83s\n",
      "243:\tlearn: 0.3836764\ttotal: 1.24s\tremaining: 3.83s\n",
      "244:\tlearn: 0.3834517\ttotal: 1.24s\tremaining: 3.83s\n",
      "245:\tlearn: 0.3833191\ttotal: 1.25s\tremaining: 3.83s\n",
      "246:\tlearn: 0.3832268\ttotal: 1.25s\tremaining: 3.82s\n",
      "247:\tlearn: 0.3830667\ttotal: 1.26s\tremaining: 3.81s\n",
      "248:\tlearn: 0.3829622\ttotal: 1.26s\tremaining: 3.81s\n",
      "249:\tlearn: 0.3829275\ttotal: 1.27s\tremaining: 3.8s\n",
      "250:\tlearn: 0.3827147\ttotal: 1.27s\tremaining: 3.8s\n",
      "251:\tlearn: 0.3826833\ttotal: 1.28s\tremaining: 3.79s\n",
      "252:\tlearn: 0.3825374\ttotal: 1.28s\tremaining: 3.79s\n",
      "253:\tlearn: 0.3824226\ttotal: 1.29s\tremaining: 3.78s\n",
      "254:\tlearn: 0.3822097\ttotal: 1.29s\tremaining: 3.77s\n",
      "255:\tlearn: 0.3820390\ttotal: 1.29s\tremaining: 3.76s\n",
      "256:\tlearn: 0.3818187\ttotal: 1.3s\tremaining: 3.75s\n",
      "257:\tlearn: 0.3815596\ttotal: 1.3s\tremaining: 3.75s\n",
      "258:\tlearn: 0.3813212\ttotal: 1.31s\tremaining: 3.74s\n",
      "259:\tlearn: 0.3812041\ttotal: 1.31s\tremaining: 3.73s\n",
      "260:\tlearn: 0.3809561\ttotal: 1.31s\tremaining: 3.72s\n",
      "261:\tlearn: 0.3809225\ttotal: 1.32s\tremaining: 3.71s\n",
      "262:\tlearn: 0.3808118\ttotal: 1.32s\tremaining: 3.7s\n",
      "263:\tlearn: 0.3807537\ttotal: 1.32s\tremaining: 3.69s\n",
      "264:\tlearn: 0.3805507\ttotal: 1.33s\tremaining: 3.68s\n",
      "265:\tlearn: 0.3803643\ttotal: 1.33s\tremaining: 3.67s\n",
      "266:\tlearn: 0.3802570\ttotal: 1.33s\tremaining: 3.67s\n",
      "267:\tlearn: 0.3801414\ttotal: 1.34s\tremaining: 3.66s\n",
      "268:\tlearn: 0.3799222\ttotal: 1.34s\tremaining: 3.65s\n",
      "269:\tlearn: 0.3798286\ttotal: 1.35s\tremaining: 3.64s\n",
      "270:\tlearn: 0.3797618\ttotal: 1.35s\tremaining: 3.63s\n",
      "271:\tlearn: 0.3797105\ttotal: 1.35s\tremaining: 3.62s\n",
      "272:\tlearn: 0.3796298\ttotal: 1.36s\tremaining: 3.61s\n",
      "273:\tlearn: 0.3794770\ttotal: 1.36s\tremaining: 3.6s\n",
      "274:\tlearn: 0.3792242\ttotal: 1.36s\tremaining: 3.6s\n",
      "275:\tlearn: 0.3791204\ttotal: 1.37s\tremaining: 3.59s\n",
      "276:\tlearn: 0.3789981\ttotal: 1.37s\tremaining: 3.58s\n",
      "277:\tlearn: 0.3789681\ttotal: 1.37s\tremaining: 3.57s\n",
      "278:\tlearn: 0.3788555\ttotal: 1.38s\tremaining: 3.56s\n",
      "279:\tlearn: 0.3787508\ttotal: 1.38s\tremaining: 3.55s\n",
      "280:\tlearn: 0.3784856\ttotal: 1.39s\tremaining: 3.55s\n",
      "281:\tlearn: 0.3782664\ttotal: 1.39s\tremaining: 3.54s\n",
      "282:\tlearn: 0.3782010\ttotal: 1.39s\tremaining: 3.53s\n",
      "283:\tlearn: 0.3780440\ttotal: 1.4s\tremaining: 3.52s\n",
      "284:\tlearn: 0.3778387\ttotal: 1.4s\tremaining: 3.52s\n",
      "285:\tlearn: 0.3777230\ttotal: 1.41s\tremaining: 3.51s\n",
      "286:\tlearn: 0.3775888\ttotal: 1.41s\tremaining: 3.5s\n",
      "287:\tlearn: 0.3773354\ttotal: 1.41s\tremaining: 3.49s\n",
      "288:\tlearn: 0.3771457\ttotal: 1.42s\tremaining: 3.49s\n",
      "289:\tlearn: 0.3770131\ttotal: 1.42s\tremaining: 3.48s\n",
      "290:\tlearn: 0.3768434\ttotal: 1.42s\tremaining: 3.47s\n",
      "291:\tlearn: 0.3767681\ttotal: 1.43s\tremaining: 3.46s\n",
      "292:\tlearn: 0.3767168\ttotal: 1.43s\tremaining: 3.46s\n",
      "293:\tlearn: 0.3766271\ttotal: 1.44s\tremaining: 3.45s\n",
      "294:\tlearn: 0.3765650\ttotal: 1.44s\tremaining: 3.44s\n",
      "295:\tlearn: 0.3764895\ttotal: 1.44s\tremaining: 3.43s\n",
      "296:\tlearn: 0.3764366\ttotal: 1.45s\tremaining: 3.42s\n",
      "297:\tlearn: 0.3763243\ttotal: 1.45s\tremaining: 3.42s\n",
      "298:\tlearn: 0.3761741\ttotal: 1.45s\tremaining: 3.41s\n",
      "299:\tlearn: 0.3760495\ttotal: 1.46s\tremaining: 3.4s\n",
      "300:\tlearn: 0.3760207\ttotal: 1.46s\tremaining: 3.4s\n",
      "301:\tlearn: 0.3758946\ttotal: 1.47s\tremaining: 3.39s\n",
      "302:\tlearn: 0.3757655\ttotal: 1.47s\tremaining: 3.38s\n",
      "303:\tlearn: 0.3755771\ttotal: 1.47s\tremaining: 3.37s\n",
      "304:\tlearn: 0.3754806\ttotal: 1.48s\tremaining: 3.36s\n",
      "305:\tlearn: 0.3754037\ttotal: 1.48s\tremaining: 3.36s\n",
      "306:\tlearn: 0.3752653\ttotal: 1.48s\tremaining: 3.35s\n",
      "307:\tlearn: 0.3752161\ttotal: 1.49s\tremaining: 3.34s\n",
      "308:\tlearn: 0.3750607\ttotal: 1.49s\tremaining: 3.33s\n",
      "309:\tlearn: 0.3748737\ttotal: 1.49s\tremaining: 3.33s\n",
      "310:\tlearn: 0.3747883\ttotal: 1.5s\tremaining: 3.32s\n",
      "311:\tlearn: 0.3747230\ttotal: 1.5s\tremaining: 3.31s\n",
      "312:\tlearn: 0.3746080\ttotal: 1.51s\tremaining: 3.31s\n",
      "313:\tlearn: 0.3744332\ttotal: 1.51s\tremaining: 3.3s\n",
      "314:\tlearn: 0.3743509\ttotal: 1.51s\tremaining: 3.3s\n",
      "315:\tlearn: 0.3742513\ttotal: 1.52s\tremaining: 3.29s\n",
      "316:\tlearn: 0.3741656\ttotal: 1.53s\tremaining: 3.29s\n",
      "317:\tlearn: 0.3741331\ttotal: 1.53s\tremaining: 3.29s\n",
      "318:\tlearn: 0.3740329\ttotal: 1.54s\tremaining: 3.29s\n",
      "319:\tlearn: 0.3739150\ttotal: 1.55s\tremaining: 3.29s\n",
      "320:\tlearn: 0.3738044\ttotal: 1.55s\tremaining: 3.29s\n",
      "321:\tlearn: 0.3736055\ttotal: 1.56s\tremaining: 3.29s\n",
      "322:\tlearn: 0.3735168\ttotal: 1.57s\tremaining: 3.28s\n",
      "323:\tlearn: 0.3733046\ttotal: 1.57s\tremaining: 3.29s\n"
     ]
    },
    {
     "name": "stdout",
     "output_type": "stream",
     "text": [
      "324:\tlearn: 0.3731615\ttotal: 1.58s\tremaining: 3.29s\n",
      "325:\tlearn: 0.3730528\ttotal: 1.59s\tremaining: 3.29s\n",
      "326:\tlearn: 0.3728598\ttotal: 1.6s\tremaining: 3.29s\n",
      "327:\tlearn: 0.3727422\ttotal: 1.61s\tremaining: 3.3s\n",
      "328:\tlearn: 0.3726520\ttotal: 1.62s\tremaining: 3.3s\n",
      "329:\tlearn: 0.3725744\ttotal: 1.63s\tremaining: 3.31s\n",
      "330:\tlearn: 0.3724874\ttotal: 1.63s\tremaining: 3.3s\n",
      "331:\tlearn: 0.3723640\ttotal: 1.64s\tremaining: 3.31s\n",
      "332:\tlearn: 0.3722959\ttotal: 1.65s\tremaining: 3.3s\n",
      "333:\tlearn: 0.3721617\ttotal: 1.66s\tremaining: 3.31s\n",
      "334:\tlearn: 0.3720628\ttotal: 1.66s\tremaining: 3.3s\n",
      "335:\tlearn: 0.3719841\ttotal: 1.67s\tremaining: 3.29s\n",
      "336:\tlearn: 0.3718534\ttotal: 1.67s\tremaining: 3.29s\n",
      "337:\tlearn: 0.3717404\ttotal: 1.68s\tremaining: 3.29s\n",
      "338:\tlearn: 0.3716610\ttotal: 1.69s\tremaining: 3.29s\n",
      "339:\tlearn: 0.3715909\ttotal: 1.7s\tremaining: 3.29s\n",
      "340:\tlearn: 0.3715468\ttotal: 1.7s\tremaining: 3.29s\n",
      "341:\tlearn: 0.3714582\ttotal: 1.71s\tremaining: 3.29s\n",
      "342:\tlearn: 0.3714109\ttotal: 1.72s\tremaining: 3.29s\n",
      "343:\tlearn: 0.3713622\ttotal: 1.73s\tremaining: 3.29s\n",
      "344:\tlearn: 0.3713092\ttotal: 1.74s\tremaining: 3.3s\n",
      "345:\tlearn: 0.3711428\ttotal: 1.75s\tremaining: 3.3s\n",
      "346:\tlearn: 0.3710601\ttotal: 1.75s\tremaining: 3.3s\n",
      "347:\tlearn: 0.3709014\ttotal: 1.76s\tremaining: 3.3s\n",
      "348:\tlearn: 0.3708169\ttotal: 1.77s\tremaining: 3.29s\n",
      "349:\tlearn: 0.3707093\ttotal: 1.77s\tremaining: 3.29s\n",
      "350:\tlearn: 0.3706372\ttotal: 1.78s\tremaining: 3.28s\n",
      "351:\tlearn: 0.3705055\ttotal: 1.78s\tremaining: 3.28s\n",
      "352:\tlearn: 0.3704391\ttotal: 1.79s\tremaining: 3.27s\n",
      "353:\tlearn: 0.3702899\ttotal: 1.79s\tremaining: 3.27s\n",
      "354:\tlearn: 0.3702299\ttotal: 1.79s\tremaining: 3.26s\n",
      "355:\tlearn: 0.3701806\ttotal: 1.8s\tremaining: 3.25s\n",
      "356:\tlearn: 0.3700999\ttotal: 1.8s\tremaining: 3.25s\n",
      "357:\tlearn: 0.3699555\ttotal: 1.81s\tremaining: 3.24s\n",
      "358:\tlearn: 0.3698678\ttotal: 1.81s\tremaining: 3.23s\n",
      "359:\tlearn: 0.3697492\ttotal: 1.81s\tremaining: 3.23s\n",
      "360:\tlearn: 0.3696918\ttotal: 1.82s\tremaining: 3.22s\n",
      "361:\tlearn: 0.3695465\ttotal: 1.82s\tremaining: 3.21s\n",
      "362:\tlearn: 0.3693971\ttotal: 1.83s\tremaining: 3.21s\n",
      "363:\tlearn: 0.3693128\ttotal: 1.83s\tremaining: 3.2s\n",
      "364:\tlearn: 0.3691828\ttotal: 1.83s\tremaining: 3.19s\n",
      "365:\tlearn: 0.3690169\ttotal: 1.84s\tremaining: 3.19s\n",
      "366:\tlearn: 0.3689379\ttotal: 1.84s\tremaining: 3.18s\n",
      "367:\tlearn: 0.3688007\ttotal: 1.85s\tremaining: 3.17s\n",
      "368:\tlearn: 0.3686571\ttotal: 1.85s\tremaining: 3.16s\n",
      "369:\tlearn: 0.3685059\ttotal: 1.85s\tremaining: 3.16s\n",
      "370:\tlearn: 0.3684337\ttotal: 1.86s\tremaining: 3.15s\n",
      "371:\tlearn: 0.3683915\ttotal: 1.86s\tremaining: 3.14s\n",
      "372:\tlearn: 0.3683715\ttotal: 1.86s\tremaining: 3.13s\n",
      "373:\tlearn: 0.3682250\ttotal: 1.87s\tremaining: 3.13s\n",
      "374:\tlearn: 0.3681862\ttotal: 1.87s\tremaining: 3.12s\n",
      "375:\tlearn: 0.3681316\ttotal: 1.88s\tremaining: 3.12s\n",
      "376:\tlearn: 0.3680260\ttotal: 1.88s\tremaining: 3.11s\n",
      "377:\tlearn: 0.3678793\ttotal: 1.89s\tremaining: 3.1s\n",
      "378:\tlearn: 0.3678130\ttotal: 1.89s\tremaining: 3.1s\n",
      "379:\tlearn: 0.3676771\ttotal: 1.89s\tremaining: 3.09s\n",
      "380:\tlearn: 0.3675812\ttotal: 1.9s\tremaining: 3.09s\n",
      "381:\tlearn: 0.3674560\ttotal: 1.9s\tremaining: 3.08s\n",
      "382:\tlearn: 0.3673266\ttotal: 1.91s\tremaining: 3.07s\n",
      "383:\tlearn: 0.3672570\ttotal: 1.91s\tremaining: 3.07s\n",
      "384:\tlearn: 0.3671335\ttotal: 1.92s\tremaining: 3.06s\n",
      "385:\tlearn: 0.3669604\ttotal: 1.92s\tremaining: 3.05s\n",
      "386:\tlearn: 0.3668510\ttotal: 1.92s\tremaining: 3.05s\n",
      "387:\tlearn: 0.3667093\ttotal: 1.93s\tremaining: 3.04s\n",
      "388:\tlearn: 0.3666049\ttotal: 1.93s\tremaining: 3.04s\n",
      "389:\tlearn: 0.3664828\ttotal: 1.94s\tremaining: 3.03s\n",
      "390:\tlearn: 0.3664572\ttotal: 1.94s\tremaining: 3.02s\n",
      "391:\tlearn: 0.3663932\ttotal: 1.94s\tremaining: 3.02s\n",
      "392:\tlearn: 0.3663037\ttotal: 1.95s\tremaining: 3.01s\n",
      "393:\tlearn: 0.3661634\ttotal: 1.96s\tremaining: 3.01s\n",
      "394:\tlearn: 0.3660411\ttotal: 1.96s\tremaining: 3s\n",
      "395:\tlearn: 0.3659404\ttotal: 1.96s\tremaining: 3s\n",
      "396:\tlearn: 0.3658166\ttotal: 1.97s\tremaining: 2.99s\n",
      "397:\tlearn: 0.3657306\ttotal: 1.97s\tremaining: 2.98s\n",
      "398:\tlearn: 0.3655890\ttotal: 1.98s\tremaining: 2.98s\n",
      "399:\tlearn: 0.3654327\ttotal: 1.98s\tremaining: 2.97s\n",
      "400:\tlearn: 0.3653018\ttotal: 1.98s\tremaining: 2.96s\n",
      "401:\tlearn: 0.3651924\ttotal: 1.99s\tremaining: 2.96s\n",
      "402:\tlearn: 0.3651138\ttotal: 2s\tremaining: 2.96s\n",
      "403:\tlearn: 0.3650646\ttotal: 2s\tremaining: 2.95s\n",
      "404:\tlearn: 0.3648973\ttotal: 2s\tremaining: 2.95s\n",
      "405:\tlearn: 0.3648306\ttotal: 2.01s\tremaining: 2.94s\n",
      "406:\tlearn: 0.3647278\ttotal: 2.01s\tremaining: 2.93s\n",
      "407:\tlearn: 0.3645981\ttotal: 2.02s\tremaining: 2.92s\n",
      "408:\tlearn: 0.3644248\ttotal: 2.02s\tremaining: 2.92s\n",
      "409:\tlearn: 0.3643252\ttotal: 2.02s\tremaining: 2.91s\n",
      "410:\tlearn: 0.3642131\ttotal: 2.03s\tremaining: 2.9s\n",
      "411:\tlearn: 0.3641528\ttotal: 2.03s\tremaining: 2.9s\n",
      "412:\tlearn: 0.3640903\ttotal: 2.04s\tremaining: 2.89s\n",
      "413:\tlearn: 0.3640072\ttotal: 2.04s\tremaining: 2.89s\n",
      "414:\tlearn: 0.3638669\ttotal: 2.04s\tremaining: 2.88s\n",
      "415:\tlearn: 0.3637491\ttotal: 2.05s\tremaining: 2.87s\n",
      "416:\tlearn: 0.3637019\ttotal: 2.05s\tremaining: 2.87s\n",
      "417:\tlearn: 0.3636385\ttotal: 2.05s\tremaining: 2.86s\n",
      "418:\tlearn: 0.3635700\ttotal: 2.06s\tremaining: 2.85s\n",
      "419:\tlearn: 0.3635360\ttotal: 2.06s\tremaining: 2.85s\n",
      "420:\tlearn: 0.3634915\ttotal: 2.07s\tremaining: 2.84s\n",
      "421:\tlearn: 0.3633859\ttotal: 2.07s\tremaining: 2.84s\n",
      "422:\tlearn: 0.3632580\ttotal: 2.08s\tremaining: 2.83s\n",
      "423:\tlearn: 0.3631989\ttotal: 2.09s\tremaining: 2.83s\n",
      "424:\tlearn: 0.3631192\ttotal: 2.09s\tremaining: 2.83s\n",
      "425:\tlearn: 0.3629937\ttotal: 2.1s\tremaining: 2.82s\n",
      "426:\tlearn: 0.3628954\ttotal: 2.1s\tremaining: 2.82s\n",
      "427:\tlearn: 0.3627782\ttotal: 2.1s\tremaining: 2.81s\n",
      "428:\tlearn: 0.3627030\ttotal: 2.11s\tremaining: 2.81s\n",
      "429:\tlearn: 0.3625790\ttotal: 2.11s\tremaining: 2.8s\n",
      "430:\tlearn: 0.3624655\ttotal: 2.12s\tremaining: 2.79s\n",
      "431:\tlearn: 0.3624214\ttotal: 2.13s\tremaining: 2.79s\n",
      "432:\tlearn: 0.3623361\ttotal: 2.13s\tremaining: 2.79s\n",
      "433:\tlearn: 0.3622707\ttotal: 2.14s\tremaining: 2.79s\n",
      "434:\tlearn: 0.3621860\ttotal: 2.15s\tremaining: 2.79s\n",
      "435:\tlearn: 0.3621423\ttotal: 2.15s\tremaining: 2.78s\n",
      "436:\tlearn: 0.3620506\ttotal: 2.16s\tremaining: 2.78s\n",
      "437:\tlearn: 0.3619246\ttotal: 2.16s\tremaining: 2.78s\n",
      "438:\tlearn: 0.3618612\ttotal: 2.17s\tremaining: 2.77s\n",
      "439:\tlearn: 0.3618474\ttotal: 2.18s\tremaining: 2.77s\n",
      "440:\tlearn: 0.3617918\ttotal: 2.18s\tremaining: 2.76s\n",
      "441:\tlearn: 0.3616815\ttotal: 2.19s\tremaining: 2.76s\n",
      "442:\tlearn: 0.3616506\ttotal: 2.2s\tremaining: 2.76s\n",
      "443:\tlearn: 0.3615820\ttotal: 2.21s\tremaining: 2.77s\n",
      "444:\tlearn: 0.3615112\ttotal: 2.22s\tremaining: 2.77s\n",
      "445:\tlearn: 0.3614022\ttotal: 2.23s\tremaining: 2.76s\n",
      "446:\tlearn: 0.3611927\ttotal: 2.24s\tremaining: 2.78s\n",
      "447:\tlearn: 0.3611279\ttotal: 2.25s\tremaining: 2.78s\n",
      "448:\tlearn: 0.3610738\ttotal: 2.26s\tremaining: 2.78s\n",
      "449:\tlearn: 0.3609479\ttotal: 2.27s\tremaining: 2.78s\n",
      "450:\tlearn: 0.3608722\ttotal: 2.28s\tremaining: 2.77s\n",
      "451:\tlearn: 0.3608149\ttotal: 2.29s\tremaining: 2.77s\n",
      "452:\tlearn: 0.3607244\ttotal: 2.29s\tremaining: 2.77s\n",
      "453:\tlearn: 0.3606851\ttotal: 2.3s\tremaining: 2.77s\n",
      "454:\tlearn: 0.3606102\ttotal: 2.31s\tremaining: 2.77s\n",
      "455:\tlearn: 0.3605473\ttotal: 2.32s\tremaining: 2.77s\n",
      "456:\tlearn: 0.3604902\ttotal: 2.33s\tremaining: 2.77s\n",
      "457:\tlearn: 0.3604483\ttotal: 2.34s\tremaining: 2.76s\n",
      "458:\tlearn: 0.3603716\ttotal: 2.35s\tremaining: 2.77s\n",
      "459:\tlearn: 0.3602583\ttotal: 2.35s\tremaining: 2.76s\n",
      "460:\tlearn: 0.3601575\ttotal: 2.37s\tremaining: 2.77s\n",
      "461:\tlearn: 0.3600266\ttotal: 2.37s\tremaining: 2.76s\n",
      "462:\tlearn: 0.3599909\ttotal: 2.38s\tremaining: 2.76s\n",
      "463:\tlearn: 0.3599534\ttotal: 2.38s\tremaining: 2.75s\n",
      "464:\tlearn: 0.3598753\ttotal: 2.38s\tremaining: 2.74s\n",
      "465:\tlearn: 0.3597882\ttotal: 2.39s\tremaining: 2.74s\n",
      "466:\tlearn: 0.3597498\ttotal: 2.39s\tremaining: 2.73s\n",
      "467:\tlearn: 0.3596830\ttotal: 2.4s\tremaining: 2.73s\n",
      "468:\tlearn: 0.3596004\ttotal: 2.4s\tremaining: 2.72s\n",
      "469:\tlearn: 0.3595353\ttotal: 2.41s\tremaining: 2.72s\n",
      "470:\tlearn: 0.3594664\ttotal: 2.41s\tremaining: 2.71s\n",
      "471:\tlearn: 0.3594005\ttotal: 2.42s\tremaining: 2.7s\n",
      "472:\tlearn: 0.3593353\ttotal: 2.42s\tremaining: 2.7s\n",
      "473:\tlearn: 0.3593121\ttotal: 2.42s\tremaining: 2.69s\n",
      "474:\tlearn: 0.3592506\ttotal: 2.43s\tremaining: 2.69s\n",
      "475:\tlearn: 0.3591065\ttotal: 2.44s\tremaining: 2.68s\n",
      "476:\tlearn: 0.3590035\ttotal: 2.44s\tremaining: 2.68s\n",
      "477:\tlearn: 0.3589629\ttotal: 2.45s\tremaining: 2.67s\n",
      "478:\tlearn: 0.3588579\ttotal: 2.45s\tremaining: 2.67s\n",
      "479:\tlearn: 0.3587765\ttotal: 2.46s\tremaining: 2.66s\n",
      "480:\tlearn: 0.3587249\ttotal: 2.46s\tremaining: 2.65s\n",
      "481:\tlearn: 0.3585891\ttotal: 2.46s\tremaining: 2.65s\n",
      "482:\tlearn: 0.3584911\ttotal: 2.47s\tremaining: 2.65s\n",
      "483:\tlearn: 0.3584130\ttotal: 2.48s\tremaining: 2.64s\n",
      "484:\tlearn: 0.3582922\ttotal: 2.48s\tremaining: 2.64s\n",
      "485:\tlearn: 0.3582282\ttotal: 2.49s\tremaining: 2.63s\n",
      "486:\tlearn: 0.3581150\ttotal: 2.5s\tremaining: 2.63s\n",
      "487:\tlearn: 0.3580940\ttotal: 2.5s\tremaining: 2.62s\n",
      "488:\tlearn: 0.3579624\ttotal: 2.51s\tremaining: 2.62s\n",
      "489:\tlearn: 0.3579067\ttotal: 2.51s\tremaining: 2.61s\n"
     ]
    },
    {
     "name": "stdout",
     "output_type": "stream",
     "text": [
      "490:\tlearn: 0.3578250\ttotal: 2.52s\tremaining: 2.61s\n",
      "491:\tlearn: 0.3576323\ttotal: 2.52s\tremaining: 2.61s\n",
      "492:\tlearn: 0.3574928\ttotal: 2.53s\tremaining: 2.6s\n",
      "493:\tlearn: 0.3574469\ttotal: 2.53s\tremaining: 2.6s\n",
      "494:\tlearn: 0.3573361\ttotal: 2.54s\tremaining: 2.59s\n",
      "495:\tlearn: 0.3571977\ttotal: 2.54s\tremaining: 2.58s\n",
      "496:\tlearn: 0.3571380\ttotal: 2.55s\tremaining: 2.58s\n",
      "497:\tlearn: 0.3571115\ttotal: 2.55s\tremaining: 2.57s\n",
      "498:\tlearn: 0.3570186\ttotal: 2.55s\tremaining: 2.56s\n",
      "499:\tlearn: 0.3569075\ttotal: 2.56s\tremaining: 2.56s\n",
      "500:\tlearn: 0.3567948\ttotal: 2.56s\tremaining: 2.55s\n",
      "501:\tlearn: 0.3566728\ttotal: 2.56s\tremaining: 2.54s\n",
      "502:\tlearn: 0.3565381\ttotal: 2.57s\tremaining: 2.54s\n",
      "503:\tlearn: 0.3564646\ttotal: 2.57s\tremaining: 2.53s\n",
      "504:\tlearn: 0.3563888\ttotal: 2.58s\tremaining: 2.53s\n",
      "505:\tlearn: 0.3562607\ttotal: 2.58s\tremaining: 2.52s\n",
      "506:\tlearn: 0.3561791\ttotal: 2.58s\tremaining: 2.51s\n",
      "507:\tlearn: 0.3561149\ttotal: 2.59s\tremaining: 2.51s\n",
      "508:\tlearn: 0.3559725\ttotal: 2.59s\tremaining: 2.5s\n",
      "509:\tlearn: 0.3558886\ttotal: 2.6s\tremaining: 2.5s\n",
      "510:\tlearn: 0.3558589\ttotal: 2.6s\tremaining: 2.49s\n",
      "511:\tlearn: 0.3557582\ttotal: 2.6s\tremaining: 2.48s\n",
      "512:\tlearn: 0.3557203\ttotal: 2.61s\tremaining: 2.48s\n",
      "513:\tlearn: 0.3555803\ttotal: 2.61s\tremaining: 2.47s\n",
      "514:\tlearn: 0.3555101\ttotal: 2.62s\tremaining: 2.47s\n",
      "515:\tlearn: 0.3554632\ttotal: 2.62s\tremaining: 2.46s\n",
      "516:\tlearn: 0.3553775\ttotal: 2.63s\tremaining: 2.45s\n",
      "517:\tlearn: 0.3552086\ttotal: 2.63s\tremaining: 2.45s\n",
      "518:\tlearn: 0.3551867\ttotal: 2.64s\tremaining: 2.44s\n",
      "519:\tlearn: 0.3550716\ttotal: 2.64s\tremaining: 2.44s\n",
      "520:\tlearn: 0.3550315\ttotal: 2.65s\tremaining: 2.44s\n",
      "521:\tlearn: 0.3549222\ttotal: 2.65s\tremaining: 2.43s\n",
      "522:\tlearn: 0.3548376\ttotal: 2.66s\tremaining: 2.42s\n",
      "523:\tlearn: 0.3548078\ttotal: 2.67s\tremaining: 2.42s\n",
      "524:\tlearn: 0.3547459\ttotal: 2.67s\tremaining: 2.42s\n",
      "525:\tlearn: 0.3546758\ttotal: 2.67s\tremaining: 2.41s\n",
      "526:\tlearn: 0.3546516\ttotal: 2.68s\tremaining: 2.4s\n",
      "527:\tlearn: 0.3545563\ttotal: 2.69s\tremaining: 2.4s\n",
      "528:\tlearn: 0.3545118\ttotal: 2.7s\tremaining: 2.4s\n",
      "529:\tlearn: 0.3544337\ttotal: 2.7s\tremaining: 2.4s\n",
      "530:\tlearn: 0.3544032\ttotal: 2.71s\tremaining: 2.39s\n",
      "531:\tlearn: 0.3543330\ttotal: 2.71s\tremaining: 2.39s\n",
      "532:\tlearn: 0.3542545\ttotal: 2.72s\tremaining: 2.38s\n",
      "533:\tlearn: 0.3542005\ttotal: 2.73s\tremaining: 2.38s\n",
      "534:\tlearn: 0.3541224\ttotal: 2.73s\tremaining: 2.37s\n",
      "535:\tlearn: 0.3540853\ttotal: 2.73s\tremaining: 2.37s\n",
      "536:\tlearn: 0.3539948\ttotal: 2.74s\tremaining: 2.36s\n",
      "537:\tlearn: 0.3539279\ttotal: 2.75s\tremaining: 2.36s\n",
      "538:\tlearn: 0.3537961\ttotal: 2.75s\tremaining: 2.35s\n",
      "539:\tlearn: 0.3537017\ttotal: 2.75s\tremaining: 2.35s\n",
      "540:\tlearn: 0.3536503\ttotal: 2.76s\tremaining: 2.34s\n",
      "541:\tlearn: 0.3536098\ttotal: 2.76s\tremaining: 2.33s\n",
      "542:\tlearn: 0.3535171\ttotal: 2.77s\tremaining: 2.33s\n",
      "543:\tlearn: 0.3534392\ttotal: 2.77s\tremaining: 2.32s\n",
      "544:\tlearn: 0.3533663\ttotal: 2.78s\tremaining: 2.32s\n",
      "545:\tlearn: 0.3532410\ttotal: 2.79s\tremaining: 2.32s\n",
      "546:\tlearn: 0.3531448\ttotal: 2.79s\tremaining: 2.31s\n",
      "547:\tlearn: 0.3530649\ttotal: 2.8s\tremaining: 2.31s\n",
      "548:\tlearn: 0.3529915\ttotal: 2.81s\tremaining: 2.31s\n",
      "549:\tlearn: 0.3529560\ttotal: 2.81s\tremaining: 2.3s\n",
      "550:\tlearn: 0.3528147\ttotal: 2.82s\tremaining: 2.3s\n",
      "551:\tlearn: 0.3527123\ttotal: 2.82s\tremaining: 2.29s\n",
      "552:\tlearn: 0.3526551\ttotal: 2.83s\tremaining: 2.29s\n",
      "553:\tlearn: 0.3525821\ttotal: 2.84s\tremaining: 2.28s\n",
      "554:\tlearn: 0.3525296\ttotal: 2.85s\tremaining: 2.28s\n",
      "555:\tlearn: 0.3524668\ttotal: 2.85s\tremaining: 2.28s\n",
      "556:\tlearn: 0.3524115\ttotal: 2.86s\tremaining: 2.27s\n",
      "557:\tlearn: 0.3523808\ttotal: 2.88s\tremaining: 2.28s\n",
      "558:\tlearn: 0.3523062\ttotal: 2.88s\tremaining: 2.27s\n",
      "559:\tlearn: 0.3522108\ttotal: 2.89s\tremaining: 2.27s\n",
      "560:\tlearn: 0.3521134\ttotal: 2.9s\tremaining: 2.27s\n",
      "561:\tlearn: 0.3520059\ttotal: 2.92s\tremaining: 2.27s\n",
      "562:\tlearn: 0.3519288\ttotal: 2.93s\tremaining: 2.27s\n",
      "563:\tlearn: 0.3518035\ttotal: 2.94s\tremaining: 2.27s\n",
      "564:\tlearn: 0.3517474\ttotal: 2.95s\tremaining: 2.27s\n",
      "565:\tlearn: 0.3516631\ttotal: 2.96s\tremaining: 2.27s\n",
      "566:\tlearn: 0.3515446\ttotal: 2.97s\tremaining: 2.27s\n",
      "567:\tlearn: 0.3515138\ttotal: 2.98s\tremaining: 2.27s\n",
      "568:\tlearn: 0.3514444\ttotal: 2.99s\tremaining: 2.26s\n",
      "569:\tlearn: 0.3513261\ttotal: 2.99s\tremaining: 2.26s\n",
      "570:\tlearn: 0.3512974\ttotal: 3.01s\tremaining: 2.26s\n",
      "571:\tlearn: 0.3512738\ttotal: 3.01s\tremaining: 2.25s\n",
      "572:\tlearn: 0.3512012\ttotal: 3.02s\tremaining: 2.25s\n",
      "573:\tlearn: 0.3511293\ttotal: 3.03s\tremaining: 2.25s\n",
      "574:\tlearn: 0.3510807\ttotal: 3.04s\tremaining: 2.24s\n",
      "575:\tlearn: 0.3510148\ttotal: 3.04s\tremaining: 2.24s\n",
      "576:\tlearn: 0.3509707\ttotal: 3.05s\tremaining: 2.24s\n",
      "577:\tlearn: 0.3509065\ttotal: 3.06s\tremaining: 2.23s\n",
      "578:\tlearn: 0.3508327\ttotal: 3.07s\tremaining: 2.23s\n",
      "579:\tlearn: 0.3508139\ttotal: 3.08s\tremaining: 2.23s\n",
      "580:\tlearn: 0.3507482\ttotal: 3.09s\tremaining: 2.23s\n",
      "581:\tlearn: 0.3507344\ttotal: 3.09s\tremaining: 2.22s\n",
      "582:\tlearn: 0.3506500\ttotal: 3.1s\tremaining: 2.22s\n",
      "583:\tlearn: 0.3505566\ttotal: 3.11s\tremaining: 2.21s\n",
      "584:\tlearn: 0.3505269\ttotal: 3.12s\tremaining: 2.21s\n",
      "585:\tlearn: 0.3504390\ttotal: 3.13s\tremaining: 2.21s\n",
      "586:\tlearn: 0.3504118\ttotal: 3.13s\tremaining: 2.21s\n",
      "587:\tlearn: 0.3503667\ttotal: 3.15s\tremaining: 2.2s\n",
      "588:\tlearn: 0.3503039\ttotal: 3.15s\tremaining: 2.2s\n",
      "589:\tlearn: 0.3502174\ttotal: 3.16s\tremaining: 2.2s\n",
      "590:\tlearn: 0.3501847\ttotal: 3.17s\tremaining: 2.19s\n",
      "591:\tlearn: 0.3500648\ttotal: 3.18s\tremaining: 2.19s\n",
      "592:\tlearn: 0.3500030\ttotal: 3.19s\tremaining: 2.19s\n",
      "593:\tlearn: 0.3499542\ttotal: 3.2s\tremaining: 2.19s\n",
      "594:\tlearn: 0.3499413\ttotal: 3.21s\tremaining: 2.18s\n",
      "595:\tlearn: 0.3498613\ttotal: 3.22s\tremaining: 2.18s\n",
      "596:\tlearn: 0.3497895\ttotal: 3.22s\tremaining: 2.17s\n",
      "597:\tlearn: 0.3497789\ttotal: 3.23s\tremaining: 2.17s\n",
      "598:\tlearn: 0.3496905\ttotal: 3.24s\tremaining: 2.17s\n",
      "599:\tlearn: 0.3496274\ttotal: 3.25s\tremaining: 2.17s\n",
      "600:\tlearn: 0.3495922\ttotal: 3.26s\tremaining: 2.16s\n",
      "601:\tlearn: 0.3495284\ttotal: 3.26s\tremaining: 2.16s\n",
      "602:\tlearn: 0.3494578\ttotal: 3.28s\tremaining: 2.16s\n",
      "603:\tlearn: 0.3493815\ttotal: 3.29s\tremaining: 2.16s\n",
      "604:\tlearn: 0.3493375\ttotal: 3.3s\tremaining: 2.16s\n",
      "605:\tlearn: 0.3492380\ttotal: 3.31s\tremaining: 2.15s\n",
      "606:\tlearn: 0.3491744\ttotal: 3.32s\tremaining: 2.15s\n",
      "607:\tlearn: 0.3491063\ttotal: 3.33s\tremaining: 2.15s\n",
      "608:\tlearn: 0.3490046\ttotal: 3.34s\tremaining: 2.14s\n",
      "609:\tlearn: 0.3489742\ttotal: 3.35s\tremaining: 2.14s\n",
      "610:\tlearn: 0.3488626\ttotal: 3.35s\tremaining: 2.13s\n",
      "611:\tlearn: 0.3488158\ttotal: 3.36s\tremaining: 2.13s\n",
      "612:\tlearn: 0.3487745\ttotal: 3.37s\tremaining: 2.13s\n",
      "613:\tlearn: 0.3487237\ttotal: 3.38s\tremaining: 2.12s\n",
      "614:\tlearn: 0.3486822\ttotal: 3.39s\tremaining: 2.12s\n",
      "615:\tlearn: 0.3486126\ttotal: 3.41s\tremaining: 2.12s\n",
      "616:\tlearn: 0.3485314\ttotal: 3.42s\tremaining: 2.12s\n",
      "617:\tlearn: 0.3484352\ttotal: 3.42s\tremaining: 2.12s\n",
      "618:\tlearn: 0.3483384\ttotal: 3.43s\tremaining: 2.11s\n",
      "619:\tlearn: 0.3482659\ttotal: 3.45s\tremaining: 2.11s\n",
      "620:\tlearn: 0.3481928\ttotal: 3.46s\tremaining: 2.11s\n",
      "621:\tlearn: 0.3481164\ttotal: 3.46s\tremaining: 2.1s\n",
      "622:\tlearn: 0.3480767\ttotal: 3.48s\tremaining: 2.1s\n",
      "623:\tlearn: 0.3479981\ttotal: 3.48s\tremaining: 2.1s\n",
      "624:\tlearn: 0.3479578\ttotal: 3.49s\tremaining: 2.1s\n",
      "625:\tlearn: 0.3478866\ttotal: 3.5s\tremaining: 2.09s\n",
      "626:\tlearn: 0.3478290\ttotal: 3.51s\tremaining: 2.09s\n",
      "627:\tlearn: 0.3477836\ttotal: 3.52s\tremaining: 2.08s\n",
      "628:\tlearn: 0.3477216\ttotal: 3.53s\tremaining: 2.08s\n",
      "629:\tlearn: 0.3476703\ttotal: 3.55s\tremaining: 2.08s\n",
      "630:\tlearn: 0.3476342\ttotal: 3.56s\tremaining: 2.08s\n",
      "631:\tlearn: 0.3475968\ttotal: 3.57s\tremaining: 2.08s\n",
      "632:\tlearn: 0.3474991\ttotal: 3.58s\tremaining: 2.07s\n",
      "633:\tlearn: 0.3474305\ttotal: 3.58s\tremaining: 2.07s\n",
      "634:\tlearn: 0.3474158\ttotal: 3.59s\tremaining: 2.06s\n",
      "635:\tlearn: 0.3473395\ttotal: 3.61s\tremaining: 2.07s\n",
      "636:\tlearn: 0.3473282\ttotal: 3.62s\tremaining: 2.06s\n",
      "637:\tlearn: 0.3473047\ttotal: 3.63s\tremaining: 2.06s\n",
      "638:\tlearn: 0.3472609\ttotal: 3.65s\tremaining: 2.06s\n",
      "639:\tlearn: 0.3471326\ttotal: 3.66s\tremaining: 2.06s\n",
      "640:\tlearn: 0.3471040\ttotal: 3.68s\tremaining: 2.06s\n",
      "641:\tlearn: 0.3470716\ttotal: 3.69s\tremaining: 2.06s\n",
      "642:\tlearn: 0.3470403\ttotal: 3.7s\tremaining: 2.06s\n",
      "643:\tlearn: 0.3469513\ttotal: 3.71s\tremaining: 2.05s\n",
      "644:\tlearn: 0.3468671\ttotal: 3.74s\tremaining: 2.06s\n",
      "645:\tlearn: 0.3468356\ttotal: 3.75s\tremaining: 2.05s\n",
      "646:\tlearn: 0.3467982\ttotal: 3.76s\tremaining: 2.05s\n",
      "647:\tlearn: 0.3467039\ttotal: 3.78s\tremaining: 2.05s\n",
      "648:\tlearn: 0.3466438\ttotal: 3.79s\tremaining: 2.05s\n",
      "649:\tlearn: 0.3465435\ttotal: 3.79s\tremaining: 2.04s\n",
      "650:\tlearn: 0.3464705\ttotal: 3.8s\tremaining: 2.04s\n",
      "651:\tlearn: 0.3464211\ttotal: 3.82s\tremaining: 2.04s\n",
      "652:\tlearn: 0.3463204\ttotal: 3.83s\tremaining: 2.03s\n"
     ]
    },
    {
     "name": "stdout",
     "output_type": "stream",
     "text": [
      "653:\tlearn: 0.3462732\ttotal: 3.83s\tremaining: 2.03s\n",
      "654:\tlearn: 0.3462350\ttotal: 3.87s\tremaining: 2.04s\n",
      "655:\tlearn: 0.3461876\ttotal: 3.88s\tremaining: 2.03s\n",
      "656:\tlearn: 0.3461359\ttotal: 3.89s\tremaining: 2.03s\n",
      "657:\tlearn: 0.3460732\ttotal: 3.9s\tremaining: 2.03s\n",
      "658:\tlearn: 0.3460092\ttotal: 3.9s\tremaining: 2.02s\n",
      "659:\tlearn: 0.3459581\ttotal: 3.92s\tremaining: 2.02s\n",
      "660:\tlearn: 0.3459290\ttotal: 3.93s\tremaining: 2.02s\n",
      "661:\tlearn: 0.3458521\ttotal: 3.94s\tremaining: 2.01s\n",
      "662:\tlearn: 0.3457293\ttotal: 3.96s\tremaining: 2.01s\n",
      "663:\tlearn: 0.3456585\ttotal: 3.96s\tremaining: 2s\n",
      "664:\tlearn: 0.3456033\ttotal: 3.97s\tremaining: 2s\n",
      "665:\tlearn: 0.3455654\ttotal: 3.98s\tremaining: 2s\n",
      "666:\tlearn: 0.3455150\ttotal: 4s\tremaining: 2s\n",
      "667:\tlearn: 0.3454680\ttotal: 4.01s\tremaining: 1.99s\n",
      "668:\tlearn: 0.3454232\ttotal: 4.03s\tremaining: 1.99s\n",
      "669:\tlearn: 0.3453581\ttotal: 4.04s\tremaining: 1.99s\n",
      "670:\tlearn: 0.3453366\ttotal: 4.05s\tremaining: 1.98s\n",
      "671:\tlearn: 0.3452546\ttotal: 4.05s\tremaining: 1.98s\n",
      "672:\tlearn: 0.3451641\ttotal: 4.06s\tremaining: 1.97s\n",
      "673:\tlearn: 0.3450789\ttotal: 4.07s\tremaining: 1.97s\n",
      "674:\tlearn: 0.3450332\ttotal: 4.08s\tremaining: 1.97s\n",
      "675:\tlearn: 0.3449526\ttotal: 4.09s\tremaining: 1.96s\n",
      "676:\tlearn: 0.3448938\ttotal: 4.1s\tremaining: 1.96s\n",
      "677:\tlearn: 0.3448624\ttotal: 4.11s\tremaining: 1.95s\n",
      "678:\tlearn: 0.3447634\ttotal: 4.11s\tremaining: 1.94s\n",
      "679:\tlearn: 0.3447171\ttotal: 4.12s\tremaining: 1.94s\n",
      "680:\tlearn: 0.3446665\ttotal: 4.13s\tremaining: 1.93s\n",
      "681:\tlearn: 0.3446223\ttotal: 4.13s\tremaining: 1.93s\n",
      "682:\tlearn: 0.3445363\ttotal: 4.14s\tremaining: 1.92s\n",
      "683:\tlearn: 0.3444696\ttotal: 4.15s\tremaining: 1.92s\n",
      "684:\tlearn: 0.3444358\ttotal: 4.16s\tremaining: 1.91s\n",
      "685:\tlearn: 0.3443966\ttotal: 4.17s\tremaining: 1.91s\n",
      "686:\tlearn: 0.3443500\ttotal: 4.17s\tremaining: 1.9s\n",
      "687:\tlearn: 0.3443245\ttotal: 4.18s\tremaining: 1.9s\n",
      "688:\tlearn: 0.3443029\ttotal: 4.19s\tremaining: 1.89s\n",
      "689:\tlearn: 0.3442630\ttotal: 4.2s\tremaining: 1.89s\n",
      "690:\tlearn: 0.3442016\ttotal: 4.21s\tremaining: 1.88s\n",
      "691:\tlearn: 0.3441486\ttotal: 4.22s\tremaining: 1.88s\n",
      "692:\tlearn: 0.3441116\ttotal: 4.22s\tremaining: 1.87s\n",
      "693:\tlearn: 0.3440607\ttotal: 4.23s\tremaining: 1.86s\n",
      "694:\tlearn: 0.3439827\ttotal: 4.24s\tremaining: 1.86s\n",
      "695:\tlearn: 0.3439399\ttotal: 4.25s\tremaining: 1.85s\n",
      "696:\tlearn: 0.3438748\ttotal: 4.25s\tremaining: 1.85s\n",
      "697:\tlearn: 0.3438331\ttotal: 4.25s\tremaining: 1.84s\n",
      "698:\tlearn: 0.3437351\ttotal: 4.26s\tremaining: 1.83s\n",
      "699:\tlearn: 0.3436505\ttotal: 4.26s\tremaining: 1.83s\n",
      "700:\tlearn: 0.3435604\ttotal: 4.27s\tremaining: 1.82s\n",
      "701:\tlearn: 0.3435381\ttotal: 4.28s\tremaining: 1.81s\n",
      "702:\tlearn: 0.3434833\ttotal: 4.28s\tremaining: 1.81s\n",
      "703:\tlearn: 0.3433662\ttotal: 4.29s\tremaining: 1.8s\n",
      "704:\tlearn: 0.3433123\ttotal: 4.29s\tremaining: 1.79s\n",
      "705:\tlearn: 0.3432090\ttotal: 4.29s\tremaining: 1.79s\n",
      "706:\tlearn: 0.3431927\ttotal: 4.3s\tremaining: 1.78s\n",
      "707:\tlearn: 0.3431594\ttotal: 4.33s\tremaining: 1.79s\n",
      "708:\tlearn: 0.3431075\ttotal: 4.34s\tremaining: 1.78s\n",
      "709:\tlearn: 0.3430867\ttotal: 4.35s\tremaining: 1.78s\n",
      "710:\tlearn: 0.3430629\ttotal: 4.37s\tremaining: 1.78s\n",
      "711:\tlearn: 0.3430022\ttotal: 4.38s\tremaining: 1.77s\n",
      "712:\tlearn: 0.3429229\ttotal: 4.38s\tremaining: 1.76s\n",
      "713:\tlearn: 0.3428709\ttotal: 4.39s\tremaining: 1.76s\n",
      "714:\tlearn: 0.3428030\ttotal: 4.4s\tremaining: 1.75s\n",
      "715:\tlearn: 0.3427356\ttotal: 4.41s\tremaining: 1.75s\n",
      "716:\tlearn: 0.3426325\ttotal: 4.42s\tremaining: 1.74s\n",
      "717:\tlearn: 0.3426147\ttotal: 4.42s\tremaining: 1.74s\n",
      "718:\tlearn: 0.3425512\ttotal: 4.43s\tremaining: 1.73s\n",
      "719:\tlearn: 0.3424612\ttotal: 4.47s\tremaining: 1.74s\n",
      "720:\tlearn: 0.3424249\ttotal: 4.47s\tremaining: 1.73s\n",
      "721:\tlearn: 0.3423670\ttotal: 4.48s\tremaining: 1.73s\n",
      "722:\tlearn: 0.3423375\ttotal: 4.49s\tremaining: 1.72s\n",
      "723:\tlearn: 0.3422890\ttotal: 4.5s\tremaining: 1.71s\n",
      "724:\tlearn: 0.3422309\ttotal: 4.52s\tremaining: 1.72s\n",
      "725:\tlearn: 0.3422073\ttotal: 4.53s\tremaining: 1.71s\n",
      "726:\tlearn: 0.3421412\ttotal: 4.54s\tremaining: 1.7s\n",
      "727:\tlearn: 0.3421028\ttotal: 4.54s\tremaining: 1.7s\n",
      "728:\tlearn: 0.3420757\ttotal: 4.55s\tremaining: 1.69s\n",
      "729:\tlearn: 0.3420406\ttotal: 4.55s\tremaining: 1.68s\n",
      "730:\tlearn: 0.3419572\ttotal: 4.56s\tremaining: 1.68s\n",
      "731:\tlearn: 0.3419144\ttotal: 4.56s\tremaining: 1.67s\n",
      "732:\tlearn: 0.3419055\ttotal: 4.57s\tremaining: 1.66s\n",
      "733:\tlearn: 0.3418439\ttotal: 4.57s\tremaining: 1.66s\n",
      "734:\tlearn: 0.3417999\ttotal: 4.58s\tremaining: 1.65s\n",
      "735:\tlearn: 0.3417429\ttotal: 4.59s\tremaining: 1.65s\n",
      "736:\tlearn: 0.3416968\ttotal: 4.59s\tremaining: 1.64s\n",
      "737:\tlearn: 0.3416670\ttotal: 4.61s\tremaining: 1.64s\n",
      "738:\tlearn: 0.3416411\ttotal: 4.63s\tremaining: 1.63s\n",
      "739:\tlearn: 0.3415982\ttotal: 4.63s\tremaining: 1.63s\n",
      "740:\tlearn: 0.3414923\ttotal: 4.64s\tremaining: 1.62s\n",
      "741:\tlearn: 0.3414511\ttotal: 4.66s\tremaining: 1.62s\n",
      "742:\tlearn: 0.3414076\ttotal: 4.67s\tremaining: 1.61s\n",
      "743:\tlearn: 0.3413941\ttotal: 4.68s\tremaining: 1.61s\n",
      "744:\tlearn: 0.3413683\ttotal: 4.69s\tremaining: 1.61s\n",
      "745:\tlearn: 0.3412983\ttotal: 4.7s\tremaining: 1.6s\n",
      "746:\tlearn: 0.3412784\ttotal: 4.71s\tremaining: 1.59s\n",
      "747:\tlearn: 0.3412613\ttotal: 4.71s\tremaining: 1.59s\n",
      "748:\tlearn: 0.3412305\ttotal: 4.72s\tremaining: 1.58s\n",
      "749:\tlearn: 0.3411781\ttotal: 4.72s\tremaining: 1.57s\n",
      "750:\tlearn: 0.3411041\ttotal: 4.73s\tremaining: 1.57s\n",
      "751:\tlearn: 0.3409996\ttotal: 4.74s\tremaining: 1.56s\n",
      "752:\tlearn: 0.3409243\ttotal: 4.74s\tremaining: 1.56s\n",
      "753:\tlearn: 0.3408799\ttotal: 4.75s\tremaining: 1.55s\n",
      "754:\tlearn: 0.3408150\ttotal: 4.75s\tremaining: 1.54s\n",
      "755:\tlearn: 0.3406977\ttotal: 4.76s\tremaining: 1.54s\n",
      "756:\tlearn: 0.3406832\ttotal: 4.77s\tremaining: 1.53s\n",
      "757:\tlearn: 0.3406645\ttotal: 4.78s\tremaining: 1.53s\n",
      "758:\tlearn: 0.3406204\ttotal: 4.79s\tremaining: 1.52s\n",
      "759:\tlearn: 0.3405775\ttotal: 4.79s\tremaining: 1.51s\n",
      "760:\tlearn: 0.3405697\ttotal: 4.8s\tremaining: 1.51s\n",
      "761:\tlearn: 0.3405395\ttotal: 4.8s\tremaining: 1.5s\n",
      "762:\tlearn: 0.3404913\ttotal: 4.81s\tremaining: 1.49s\n",
      "763:\tlearn: 0.3404026\ttotal: 4.82s\tremaining: 1.49s\n",
      "764:\tlearn: 0.3403691\ttotal: 4.82s\tremaining: 1.48s\n",
      "765:\tlearn: 0.3403429\ttotal: 4.84s\tremaining: 1.48s\n",
      "766:\tlearn: 0.3402708\ttotal: 4.84s\tremaining: 1.47s\n",
      "767:\tlearn: 0.3402121\ttotal: 4.85s\tremaining: 1.46s\n",
      "768:\tlearn: 0.3401764\ttotal: 4.85s\tremaining: 1.46s\n",
      "769:\tlearn: 0.3401096\ttotal: 4.86s\tremaining: 1.45s\n",
      "770:\tlearn: 0.3400159\ttotal: 4.86s\tremaining: 1.44s\n",
      "771:\tlearn: 0.3399682\ttotal: 4.87s\tremaining: 1.44s\n",
      "772:\tlearn: 0.3399433\ttotal: 4.87s\tremaining: 1.43s\n",
      "773:\tlearn: 0.3398713\ttotal: 4.88s\tremaining: 1.42s\n",
      "774:\tlearn: 0.3398434\ttotal: 4.88s\tremaining: 1.42s\n",
      "775:\tlearn: 0.3397845\ttotal: 4.89s\tremaining: 1.41s\n",
      "776:\tlearn: 0.3397206\ttotal: 4.89s\tremaining: 1.4s\n",
      "777:\tlearn: 0.3396854\ttotal: 4.9s\tremaining: 1.4s\n",
      "778:\tlearn: 0.3396646\ttotal: 4.9s\tremaining: 1.39s\n",
      "779:\tlearn: 0.3395766\ttotal: 4.91s\tremaining: 1.38s\n",
      "780:\tlearn: 0.3395197\ttotal: 4.91s\tremaining: 1.38s\n",
      "781:\tlearn: 0.3394780\ttotal: 4.92s\tremaining: 1.37s\n",
      "782:\tlearn: 0.3394468\ttotal: 4.92s\tremaining: 1.36s\n",
      "783:\tlearn: 0.3393839\ttotal: 4.93s\tremaining: 1.36s\n",
      "784:\tlearn: 0.3393777\ttotal: 4.93s\tremaining: 1.35s\n",
      "785:\tlearn: 0.3393319\ttotal: 4.94s\tremaining: 1.34s\n",
      "786:\tlearn: 0.3392426\ttotal: 4.95s\tremaining: 1.34s\n",
      "787:\tlearn: 0.3392176\ttotal: 4.96s\tremaining: 1.33s\n",
      "788:\tlearn: 0.3391495\ttotal: 4.96s\tremaining: 1.33s\n",
      "789:\tlearn: 0.3390990\ttotal: 4.97s\tremaining: 1.32s\n",
      "790:\tlearn: 0.3390236\ttotal: 4.97s\tremaining: 1.31s\n",
      "791:\tlearn: 0.3389665\ttotal: 4.98s\tremaining: 1.31s\n",
      "792:\tlearn: 0.3388953\ttotal: 4.98s\tremaining: 1.3s\n",
      "793:\tlearn: 0.3388458\ttotal: 4.99s\tremaining: 1.29s\n",
      "794:\tlearn: 0.3388232\ttotal: 4.99s\tremaining: 1.29s\n",
      "795:\tlearn: 0.3387732\ttotal: 5s\tremaining: 1.28s\n",
      "796:\tlearn: 0.3387079\ttotal: 5s\tremaining: 1.27s\n",
      "797:\tlearn: 0.3386494\ttotal: 5s\tremaining: 1.27s\n",
      "798:\tlearn: 0.3386043\ttotal: 5.01s\tremaining: 1.26s\n",
      "799:\tlearn: 0.3385966\ttotal: 5.01s\tremaining: 1.25s\n",
      "800:\tlearn: 0.3385726\ttotal: 5.02s\tremaining: 1.25s\n",
      "801:\tlearn: 0.3384900\ttotal: 5.03s\tremaining: 1.24s\n",
      "802:\tlearn: 0.3384363\ttotal: 5.04s\tremaining: 1.24s\n",
      "803:\tlearn: 0.3383995\ttotal: 5.04s\tremaining: 1.23s\n",
      "804:\tlearn: 0.3383540\ttotal: 5.04s\tremaining: 1.22s\n",
      "805:\tlearn: 0.3383225\ttotal: 5.05s\tremaining: 1.21s\n",
      "806:\tlearn: 0.3382668\ttotal: 5.05s\tremaining: 1.21s\n",
      "807:\tlearn: 0.3381839\ttotal: 5.05s\tremaining: 1.2s\n",
      "808:\tlearn: 0.3380853\ttotal: 5.06s\tremaining: 1.19s\n",
      "809:\tlearn: 0.3380371\ttotal: 5.06s\tremaining: 1.19s\n",
      "810:\tlearn: 0.3379683\ttotal: 5.07s\tremaining: 1.18s\n",
      "811:\tlearn: 0.3379320\ttotal: 5.07s\tremaining: 1.17s\n",
      "812:\tlearn: 0.3378957\ttotal: 5.08s\tremaining: 1.17s\n",
      "813:\tlearn: 0.3377838\ttotal: 5.08s\tremaining: 1.16s\n",
      "814:\tlearn: 0.3377513\ttotal: 5.09s\tremaining: 1.15s\n"
     ]
    },
    {
     "name": "stdout",
     "output_type": "stream",
     "text": [
      "815:\tlearn: 0.3377004\ttotal: 5.09s\tremaining: 1.15s\n",
      "816:\tlearn: 0.3376335\ttotal: 5.1s\tremaining: 1.14s\n",
      "817:\tlearn: 0.3375984\ttotal: 5.1s\tremaining: 1.14s\n",
      "818:\tlearn: 0.3375628\ttotal: 5.11s\tremaining: 1.13s\n",
      "819:\tlearn: 0.3375317\ttotal: 5.12s\tremaining: 1.12s\n",
      "820:\tlearn: 0.3374657\ttotal: 5.13s\tremaining: 1.12s\n",
      "821:\tlearn: 0.3374073\ttotal: 5.13s\tremaining: 1.11s\n",
      "822:\tlearn: 0.3373921\ttotal: 5.14s\tremaining: 1.1s\n",
      "823:\tlearn: 0.3373220\ttotal: 5.15s\tremaining: 1.1s\n",
      "824:\tlearn: 0.3372828\ttotal: 5.16s\tremaining: 1.09s\n",
      "825:\tlearn: 0.3372474\ttotal: 5.17s\tremaining: 1.09s\n",
      "826:\tlearn: 0.3372187\ttotal: 5.18s\tremaining: 1.08s\n",
      "827:\tlearn: 0.3371925\ttotal: 5.19s\tremaining: 1.08s\n",
      "828:\tlearn: 0.3371473\ttotal: 5.19s\tremaining: 1.07s\n",
      "829:\tlearn: 0.3370815\ttotal: 5.2s\tremaining: 1.06s\n",
      "830:\tlearn: 0.3370263\ttotal: 5.21s\tremaining: 1.06s\n",
      "831:\tlearn: 0.3369929\ttotal: 5.22s\tremaining: 1.05s\n",
      "832:\tlearn: 0.3369524\ttotal: 5.23s\tremaining: 1.05s\n",
      "833:\tlearn: 0.3369263\ttotal: 5.24s\tremaining: 1.04s\n",
      "834:\tlearn: 0.3368903\ttotal: 5.25s\tremaining: 1.04s\n",
      "835:\tlearn: 0.3368561\ttotal: 5.26s\tremaining: 1.03s\n",
      "836:\tlearn: 0.3368122\ttotal: 5.27s\tremaining: 1.03s\n",
      "837:\tlearn: 0.3367474\ttotal: 5.28s\tremaining: 1.02s\n",
      "838:\tlearn: 0.3367247\ttotal: 5.28s\tremaining: 1.01s\n",
      "839:\tlearn: 0.3366711\ttotal: 5.3s\tremaining: 1.01s\n",
      "840:\tlearn: 0.3366489\ttotal: 5.3s\tremaining: 1s\n",
      "841:\tlearn: 0.3365961\ttotal: 5.31s\tremaining: 996ms\n",
      "842:\tlearn: 0.3365779\ttotal: 5.32s\tremaining: 990ms\n",
      "843:\tlearn: 0.3365522\ttotal: 5.32s\tremaining: 984ms\n",
      "844:\tlearn: 0.3365090\ttotal: 5.33s\tremaining: 977ms\n",
      "845:\tlearn: 0.3364489\ttotal: 5.34s\tremaining: 971ms\n",
      "846:\tlearn: 0.3364361\ttotal: 5.34s\tremaining: 965ms\n",
      "847:\tlearn: 0.3363924\ttotal: 5.35s\tremaining: 959ms\n",
      "848:\tlearn: 0.3363520\ttotal: 5.35s\tremaining: 952ms\n",
      "849:\tlearn: 0.3362903\ttotal: 5.36s\tremaining: 946ms\n",
      "850:\tlearn: 0.3362546\ttotal: 5.36s\tremaining: 939ms\n",
      "851:\tlearn: 0.3361920\ttotal: 5.37s\tremaining: 932ms\n",
      "852:\tlearn: 0.3361504\ttotal: 5.37s\tremaining: 925ms\n",
      "853:\tlearn: 0.3361149\ttotal: 5.37s\tremaining: 919ms\n",
      "854:\tlearn: 0.3360532\ttotal: 5.38s\tremaining: 912ms\n",
      "855:\tlearn: 0.3360178\ttotal: 5.38s\tremaining: 906ms\n",
      "856:\tlearn: 0.3359866\ttotal: 5.39s\tremaining: 899ms\n",
      "857:\tlearn: 0.3359753\ttotal: 5.39s\tremaining: 892ms\n",
      "858:\tlearn: 0.3359352\ttotal: 5.4s\tremaining: 886ms\n",
      "859:\tlearn: 0.3359274\ttotal: 5.41s\tremaining: 880ms\n",
      "860:\tlearn: 0.3358733\ttotal: 5.41s\tremaining: 874ms\n",
      "861:\tlearn: 0.3358227\ttotal: 5.42s\tremaining: 868ms\n",
      "862:\tlearn: 0.3357674\ttotal: 5.43s\tremaining: 862ms\n",
      "863:\tlearn: 0.3357005\ttotal: 5.43s\tremaining: 855ms\n",
      "864:\tlearn: 0.3356738\ttotal: 5.43s\tremaining: 848ms\n",
      "865:\tlearn: 0.3356365\ttotal: 5.44s\tremaining: 842ms\n",
      "866:\tlearn: 0.3355900\ttotal: 5.45s\tremaining: 835ms\n",
      "867:\tlearn: 0.3355670\ttotal: 5.45s\tremaining: 829ms\n",
      "868:\tlearn: 0.3355298\ttotal: 5.46s\tremaining: 823ms\n",
      "869:\tlearn: 0.3354768\ttotal: 5.46s\tremaining: 816ms\n",
      "870:\tlearn: 0.3354365\ttotal: 5.47s\tremaining: 810ms\n",
      "871:\tlearn: 0.3353957\ttotal: 5.47s\tremaining: 803ms\n",
      "872:\tlearn: 0.3353382\ttotal: 5.47s\tremaining: 797ms\n",
      "873:\tlearn: 0.3353018\ttotal: 5.48s\tremaining: 790ms\n",
      "874:\tlearn: 0.3352778\ttotal: 5.48s\tremaining: 783ms\n",
      "875:\tlearn: 0.3352243\ttotal: 5.49s\tremaining: 777ms\n",
      "876:\tlearn: 0.3352136\ttotal: 5.49s\tremaining: 770ms\n",
      "877:\tlearn: 0.3351737\ttotal: 5.5s\tremaining: 764ms\n",
      "878:\tlearn: 0.3351354\ttotal: 5.5s\tremaining: 758ms\n",
      "879:\tlearn: 0.3351115\ttotal: 5.51s\tremaining: 751ms\n",
      "880:\tlearn: 0.3350568\ttotal: 5.51s\tremaining: 745ms\n",
      "881:\tlearn: 0.3350249\ttotal: 5.51s\tremaining: 738ms\n",
      "882:\tlearn: 0.3349789\ttotal: 5.52s\tremaining: 732ms\n",
      "883:\tlearn: 0.3349384\ttotal: 5.53s\tremaining: 726ms\n",
      "884:\tlearn: 0.3348987\ttotal: 5.54s\tremaining: 720ms\n",
      "885:\tlearn: 0.3348344\ttotal: 5.54s\tremaining: 713ms\n",
      "886:\tlearn: 0.3347930\ttotal: 5.55s\tremaining: 707ms\n",
      "887:\tlearn: 0.3347460\ttotal: 5.55s\tremaining: 700ms\n",
      "888:\tlearn: 0.3347023\ttotal: 5.56s\tremaining: 694ms\n",
      "889:\tlearn: 0.3346525\ttotal: 5.56s\tremaining: 687ms\n",
      "890:\tlearn: 0.3346461\ttotal: 5.57s\tremaining: 681ms\n",
      "891:\tlearn: 0.3346370\ttotal: 5.57s\tremaining: 674ms\n",
      "892:\tlearn: 0.3345839\ttotal: 5.57s\tremaining: 668ms\n",
      "893:\tlearn: 0.3345573\ttotal: 5.58s\tremaining: 661ms\n",
      "894:\tlearn: 0.3344950\ttotal: 5.58s\tremaining: 655ms\n",
      "895:\tlearn: 0.3344136\ttotal: 5.58s\tremaining: 648ms\n",
      "896:\tlearn: 0.3343422\ttotal: 5.59s\tremaining: 642ms\n",
      "897:\tlearn: 0.3343249\ttotal: 5.59s\tremaining: 635ms\n",
      "898:\tlearn: 0.3342815\ttotal: 5.59s\tremaining: 629ms\n",
      "899:\tlearn: 0.3342437\ttotal: 5.61s\tremaining: 623ms\n",
      "900:\tlearn: 0.3341856\ttotal: 5.62s\tremaining: 617ms\n",
      "901:\tlearn: 0.3341092\ttotal: 5.63s\tremaining: 611ms\n",
      "902:\tlearn: 0.3340892\ttotal: 5.63s\tremaining: 605ms\n",
      "903:\tlearn: 0.3340664\ttotal: 5.64s\tremaining: 599ms\n",
      "904:\tlearn: 0.3340348\ttotal: 5.65s\tremaining: 593ms\n",
      "905:\tlearn: 0.3340041\ttotal: 5.65s\tremaining: 586ms\n",
      "906:\tlearn: 0.3339924\ttotal: 5.66s\tremaining: 580ms\n",
      "907:\tlearn: 0.3339654\ttotal: 5.67s\tremaining: 575ms\n",
      "908:\tlearn: 0.3339477\ttotal: 5.68s\tremaining: 569ms\n",
      "909:\tlearn: 0.3338970\ttotal: 5.68s\tremaining: 562ms\n",
      "910:\tlearn: 0.3338384\ttotal: 5.69s\tremaining: 556ms\n",
      "911:\tlearn: 0.3338106\ttotal: 5.69s\tremaining: 549ms\n",
      "912:\tlearn: 0.3337851\ttotal: 5.7s\tremaining: 543ms\n",
      "913:\tlearn: 0.3337208\ttotal: 5.7s\tremaining: 537ms\n",
      "914:\tlearn: 0.3336547\ttotal: 5.71s\tremaining: 530ms\n",
      "915:\tlearn: 0.3336061\ttotal: 5.71s\tremaining: 524ms\n",
      "916:\tlearn: 0.3335855\ttotal: 5.71s\tremaining: 517ms\n",
      "917:\tlearn: 0.3335327\ttotal: 5.72s\tremaining: 511ms\n",
      "918:\tlearn: 0.3334642\ttotal: 5.72s\tremaining: 504ms\n",
      "919:\tlearn: 0.3334046\ttotal: 5.73s\tremaining: 498ms\n",
      "920:\tlearn: 0.3333696\ttotal: 5.73s\tremaining: 492ms\n",
      "921:\tlearn: 0.3333546\ttotal: 5.74s\tremaining: 485ms\n",
      "922:\tlearn: 0.3332761\ttotal: 5.74s\tremaining: 479ms\n",
      "923:\tlearn: 0.3332323\ttotal: 5.75s\tremaining: 473ms\n",
      "924:\tlearn: 0.3331933\ttotal: 5.75s\tremaining: 466ms\n",
      "925:\tlearn: 0.3331337\ttotal: 5.75s\tremaining: 460ms\n",
      "926:\tlearn: 0.3330668\ttotal: 5.76s\tremaining: 453ms\n",
      "927:\tlearn: 0.3330223\ttotal: 5.76s\tremaining: 447ms\n",
      "928:\tlearn: 0.3329582\ttotal: 5.77s\tremaining: 441ms\n",
      "929:\tlearn: 0.3329354\ttotal: 5.77s\tremaining: 434ms\n",
      "930:\tlearn: 0.3328806\ttotal: 5.78s\tremaining: 428ms\n",
      "931:\tlearn: 0.3328394\ttotal: 5.78s\tremaining: 422ms\n",
      "932:\tlearn: 0.3327703\ttotal: 5.78s\tremaining: 415ms\n",
      "933:\tlearn: 0.3327428\ttotal: 5.79s\tremaining: 409ms\n",
      "934:\tlearn: 0.3327361\ttotal: 5.79s\tremaining: 403ms\n",
      "935:\tlearn: 0.3327007\ttotal: 5.8s\tremaining: 396ms\n",
      "936:\tlearn: 0.3326339\ttotal: 5.8s\tremaining: 390ms\n",
      "937:\tlearn: 0.3325966\ttotal: 5.8s\tremaining: 384ms\n",
      "938:\tlearn: 0.3325525\ttotal: 5.81s\tremaining: 377ms\n",
      "939:\tlearn: 0.3325374\ttotal: 5.81s\tremaining: 371ms\n",
      "940:\tlearn: 0.3325135\ttotal: 5.82s\tremaining: 365ms\n",
      "941:\tlearn: 0.3324569\ttotal: 5.82s\tremaining: 358ms\n",
      "942:\tlearn: 0.3323914\ttotal: 5.82s\tremaining: 352ms\n",
      "943:\tlearn: 0.3323630\ttotal: 5.83s\tremaining: 346ms\n",
      "944:\tlearn: 0.3323155\ttotal: 5.83s\tremaining: 339ms\n",
      "945:\tlearn: 0.3322492\ttotal: 5.83s\tremaining: 333ms\n",
      "946:\tlearn: 0.3322182\ttotal: 5.84s\tremaining: 327ms\n",
      "947:\tlearn: 0.3321762\ttotal: 5.84s\tremaining: 321ms\n",
      "948:\tlearn: 0.3321189\ttotal: 5.85s\tremaining: 314ms\n",
      "949:\tlearn: 0.3320740\ttotal: 5.85s\tremaining: 308ms\n",
      "950:\tlearn: 0.3320380\ttotal: 5.86s\tremaining: 302ms\n",
      "951:\tlearn: 0.3320145\ttotal: 5.86s\tremaining: 295ms\n",
      "952:\tlearn: 0.3319783\ttotal: 5.86s\tremaining: 289ms\n",
      "953:\tlearn: 0.3319306\ttotal: 5.87s\tremaining: 283ms\n",
      "954:\tlearn: 0.3319119\ttotal: 5.87s\tremaining: 277ms\n",
      "955:\tlearn: 0.3318633\ttotal: 5.87s\tremaining: 270ms\n",
      "956:\tlearn: 0.3318474\ttotal: 5.88s\tremaining: 264ms\n",
      "957:\tlearn: 0.3317826\ttotal: 5.88s\tremaining: 258ms\n",
      "958:\tlearn: 0.3317545\ttotal: 5.88s\tremaining: 252ms\n",
      "959:\tlearn: 0.3317448\ttotal: 5.89s\tremaining: 245ms\n",
      "960:\tlearn: 0.3316758\ttotal: 5.89s\tremaining: 239ms\n",
      "961:\tlearn: 0.3316469\ttotal: 5.9s\tremaining: 233ms\n",
      "962:\tlearn: 0.3316306\ttotal: 5.9s\tremaining: 227ms\n",
      "963:\tlearn: 0.3316210\ttotal: 5.91s\tremaining: 221ms\n",
      "964:\tlearn: 0.3316008\ttotal: 5.91s\tremaining: 214ms\n",
      "965:\tlearn: 0.3315728\ttotal: 5.91s\tremaining: 208ms\n",
      "966:\tlearn: 0.3315298\ttotal: 5.92s\tremaining: 202ms\n",
      "967:\tlearn: 0.3315168\ttotal: 5.92s\tremaining: 196ms\n",
      "968:\tlearn: 0.3315113\ttotal: 5.93s\tremaining: 190ms\n",
      "969:\tlearn: 0.3314742\ttotal: 5.93s\tremaining: 183ms\n",
      "970:\tlearn: 0.3314293\ttotal: 5.93s\tremaining: 177ms\n",
      "971:\tlearn: 0.3313601\ttotal: 5.94s\tremaining: 171ms\n",
      "972:\tlearn: 0.3313304\ttotal: 5.94s\tremaining: 165ms\n",
      "973:\tlearn: 0.3312747\ttotal: 5.95s\tremaining: 159ms\n",
      "974:\tlearn: 0.3312286\ttotal: 5.95s\tremaining: 153ms\n",
      "975:\tlearn: 0.3312111\ttotal: 5.96s\tremaining: 147ms\n"
     ]
    },
    {
     "name": "stdout",
     "output_type": "stream",
     "text": [
      "976:\tlearn: 0.3311734\ttotal: 5.97s\tremaining: 140ms\n",
      "977:\tlearn: 0.3310997\ttotal: 5.97s\tremaining: 134ms\n",
      "978:\tlearn: 0.3310794\ttotal: 5.98s\tremaining: 128ms\n",
      "979:\tlearn: 0.3310574\ttotal: 5.98s\tremaining: 122ms\n",
      "980:\tlearn: 0.3310333\ttotal: 5.99s\tremaining: 116ms\n",
      "981:\tlearn: 0.3309845\ttotal: 5.99s\tremaining: 110ms\n",
      "982:\tlearn: 0.3309109\ttotal: 5.99s\tremaining: 104ms\n",
      "983:\tlearn: 0.3308781\ttotal: 6s\tremaining: 97.5ms\n",
      "984:\tlearn: 0.3308425\ttotal: 6s\tremaining: 91.4ms\n",
      "985:\tlearn: 0.3307929\ttotal: 6s\tremaining: 85.3ms\n",
      "986:\tlearn: 0.3307677\ttotal: 6.01s\tremaining: 79.1ms\n",
      "987:\tlearn: 0.3307111\ttotal: 6.01s\tremaining: 73ms\n",
      "988:\tlearn: 0.3306876\ttotal: 6.02s\tremaining: 66.9ms\n",
      "989:\tlearn: 0.3306546\ttotal: 6.02s\tremaining: 60.8ms\n",
      "990:\tlearn: 0.3306142\ttotal: 6.02s\tremaining: 54.7ms\n",
      "991:\tlearn: 0.3305947\ttotal: 6.03s\tremaining: 48.6ms\n",
      "992:\tlearn: 0.3305677\ttotal: 6.03s\tremaining: 42.5ms\n",
      "993:\tlearn: 0.3305369\ttotal: 6.04s\tremaining: 36.4ms\n",
      "994:\tlearn: 0.3305161\ttotal: 6.04s\tremaining: 30.4ms\n",
      "995:\tlearn: 0.3304834\ttotal: 6.04s\tremaining: 24.3ms\n",
      "996:\tlearn: 0.3304536\ttotal: 6.05s\tremaining: 18.2ms\n",
      "997:\tlearn: 0.3303919\ttotal: 6.05s\tremaining: 12.1ms\n",
      "998:\tlearn: 0.3303707\ttotal: 6.05s\tremaining: 6.06ms\n",
      "999:\tlearn: 0.3303456\ttotal: 6.06s\tremaining: 0us\n"
     ]
    }
   ],
   "source": [
    "model = CatBoostRegressor()\n",
    "model.fit(x_train_17, y_train_17)\n",
    "y_pred_17 = model.predict(x_test_17)"
   ]
  },
  {
   "cell_type": "code",
   "execution_count": 244,
   "id": "082649d0",
   "metadata": {},
   "outputs": [
    {
     "name": "stdout",
     "output_type": "stream",
     "text": [
      "MSE for CatBoost 2017 is: 0.19842591497981898\n"
     ]
    }
   ],
   "source": [
    "mse = mean_squared_error(y_test_17, y_pred_17)\n",
    "print('MSE for CatBoost 2017 is: ' + str(mse))"
   ]
  },
  {
   "cell_type": "code",
   "execution_count": 245,
   "id": "a3c47125",
   "metadata": {},
   "outputs": [
    {
     "name": "stdout",
     "output_type": "stream",
     "text": [
      "RMSE for CatBoost 2017 is: 0.44545023850012583\n"
     ]
    }
   ],
   "source": [
    "rmse = mean_squared_error(y_test_17, y_pred_17, squared = False)\n",
    "print('RMSE for CatBoost 2017 is: ' + str(rmse))"
   ]
  },
  {
   "cell_type": "code",
   "execution_count": 246,
   "id": "64d71e25",
   "metadata": {},
   "outputs": [
    {
     "name": "stdout",
     "output_type": "stream",
     "text": [
      "Accuracy of properties at +- 10% of actual prices is 0.22424892703862662\n"
     ]
    }
   ],
   "source": [
    "acc = accuracy_threshold(y_test_17, y_pred_17, 0.1)\n",
    "print('Accuracy of properties at +- 10% of actual prices is ' + str(acc))"
   ]
  },
  {
   "cell_type": "code",
   "execution_count": 247,
   "id": "f6984666",
   "metadata": {},
   "outputs": [
    {
     "name": "stdout",
     "output_type": "stream",
     "text": [
      "Median Absolute Error:\n",
      "\n",
      "0.24058200694068924\n"
     ]
    }
   ],
   "source": [
    "median_se = np.square(np.subtract(y_test_17, y_pred_17)).median() \n",
    " \n",
    "med = math.sqrt(median_se)\n",
    "print(\"Median Absolute Error:\\n\")\n",
    "print(med)"
   ]
  },
  {
   "cell_type": "code",
   "execution_count": 248,
   "id": "cb802c7d",
   "metadata": {},
   "outputs": [
    {
     "name": "stdout",
     "output_type": "stream",
     "text": [
      "MAPE for CatBoost 2017 is: 0.026515960305207798\n"
     ]
    }
   ],
   "source": [
    "mape = mean_absolute_percentage_error(y_test_17, y_pred_17)\n",
    "print(\"MAPE for CatBoost 2017 is: \" + str(mape))"
   ]
  },
  {
   "cell_type": "code",
   "execution_count": 249,
   "id": "5b1cf780",
   "metadata": {},
   "outputs": [],
   "source": [
    "cnames = ['Algorithm', 'Year', 'RMSE', 'MSE', 'MEDAE', 'Accuracy', 'MAPE']\n",
    "df28 = pd.DataFrame(columns = cnames)\n",
    "\n",
    "df28 = df28.append({'Algorithm': 'CatBoost',\n",
    "           'Year': 2017,\n",
    "           'RMSE': rmse,\n",
    "           'MSE': mse,\n",
    "           'MEDAE': med,\n",
    "           'Accuracy': acc,\n",
    "           'MAPE': mape         \n",
    "          }, ignore_index = True)"
   ]
  },
  {
   "cell_type": "markdown",
   "id": "72562a1a",
   "metadata": {},
   "source": [
    "### BayesianRidge"
   ]
  },
  {
   "cell_type": "code",
   "execution_count": 250,
   "id": "59e9f148",
   "metadata": {},
   "outputs": [
    {
     "name": "stdout",
     "output_type": "stream",
     "text": [
      "MSE for BayesianRidge 2017 is: 0.19783415359886272\n"
     ]
    }
   ],
   "source": [
    "clf = BayesianRidge()\n",
    "clf.fit(x_train_17, y_train_17)\n",
    "y_pred_17 = clf.predict(x_test_17)\n",
    "# Calculation of Mean Squared Error (MSE)\n",
    "mse = mean_squared_error(y_test_17, y_pred_17)\n",
    "print('MSE for BayesianRidge 2017 is: ' + str(mse))"
   ]
  },
  {
   "cell_type": "code",
   "execution_count": 251,
   "id": "1dff6d36",
   "metadata": {},
   "outputs": [
    {
     "name": "stdout",
     "output_type": "stream",
     "text": [
      "RMSE for BayesianRidge 2017 is: 0.4447855141513297\n"
     ]
    }
   ],
   "source": [
    "rmse = mean_squared_error(y_test_17, y_pred_17, squared = False)\n",
    "print('RMSE for BayesianRidge 2017 is: ' + str(rmse))"
   ]
  },
  {
   "cell_type": "code",
   "execution_count": 252,
   "id": "432254a9",
   "metadata": {},
   "outputs": [
    {
     "name": "stdout",
     "output_type": "stream",
     "text": [
      "Accuracy of properties at +- 10% of actual prices is 0.22532188841201717\n"
     ]
    }
   ],
   "source": [
    "acc = accuracy_threshold(y_test_17, y_pred_17, 0.1)\n",
    "print('Accuracy of properties at +- 10% of actual prices is ' + str(acc))"
   ]
  },
  {
   "cell_type": "code",
   "execution_count": 253,
   "id": "5e73847c",
   "metadata": {},
   "outputs": [
    {
     "name": "stdout",
     "output_type": "stream",
     "text": [
      "Median Absolute Error:\n",
      "\n",
      "0.24940802131933124\n"
     ]
    }
   ],
   "source": [
    "median_se = np.square(np.subtract(y_test_17, y_pred_17)).median() \n",
    " \n",
    "med = math.sqrt(median_se)\n",
    "print(\"Median Absolute Error:\\n\")\n",
    "print(med)"
   ]
  },
  {
   "cell_type": "code",
   "execution_count": 254,
   "id": "27b263d2",
   "metadata": {},
   "outputs": [
    {
     "name": "stdout",
     "output_type": "stream",
     "text": [
      "MAPE for BayesianRidge 2017 is: 0.027109438305102488\n"
     ]
    }
   ],
   "source": [
    "mape = mean_absolute_percentage_error(y_test_17, y_pred_17)\n",
    "print(\"MAPE for BayesianRidge 2017 is: \" + str(mape))"
   ]
  },
  {
   "cell_type": "code",
   "execution_count": 255,
   "id": "f56a5c0c",
   "metadata": {},
   "outputs": [],
   "source": [
    "cnames = ['Algorithm', 'Year', 'RMSE', 'MSE', 'MEDAE', 'Accuracy', 'MAPE']\n",
    "df29 = pd.DataFrame(columns = cnames)\n",
    "\n",
    "df29 = df29.append({'Algorithm': 'Bayesian',\n",
    "           'Year': 2017,\n",
    "           'RMSE': rmse,\n",
    "           'MSE': mse,\n",
    "           'MEDAE': med,\n",
    "           'Accuracy': acc,\n",
    "           'MAPE': mape         \n",
    "          }, ignore_index = True)"
   ]
  },
  {
   "cell_type": "code",
   "execution_count": 256,
   "id": "e004552a",
   "metadata": {},
   "outputs": [],
   "source": [
    "vis1 = pd.concat([df12, df13, df14, df15, df16, df17, df18, df19, df20, df21, df22, df23,\n",
    "                df24, df25, df26, df27, df28, df29], ignore_index=True)"
   ]
  },
  {
   "cell_type": "code",
   "execution_count": 257,
   "id": "6d8c9d08",
   "metadata": {},
   "outputs": [],
   "source": [
    "vis2 = pd.concat([vis, vis1], ignore_index=True)"
   ]
  },
  {
   "cell_type": "markdown",
   "id": "ad20c8a7",
   "metadata": {},
   "source": [
    "## Let's Visualize all our results "
   ]
  },
  {
   "cell_type": "code",
   "execution_count": 258,
   "id": "7c3e9111",
   "metadata": {},
   "outputs": [
    {
     "data": {
      "text/plain": [
       "<AxesSubplot:title={'center':'Mean RMSE Values 2013-21 Predictions'}, xlabel='Algorithm', ylabel='Mean RMSE'>"
      ]
     },
     "execution_count": 258,
     "metadata": {},
     "output_type": "execute_result"
    },
    {
     "data": {
      "image/png": "[encoded data removed]",
      "text/plain": [
       "<Figure size 1296x432 with 1 Axes>"
      ]
     },
     "metadata": {
      "needs_background": "light"
     },
     "output_type": "display_data"
    }
   ],
   "source": [
    "# rmse results\n",
    "grouped_multiple1 = vis2.groupby(['Algorithm']).agg({'RMSE': ['mean', 'median', 'max', 'sum']})\n",
    "grouped_multiple1.columns = ['mean','median','max','sum']\n",
    "grouped_multiple1.reset_index(inplace = True)\n",
    "distdf = grouped_multiple1.sort_values(by = ['mean'], ascending = True)\n",
    "distdf.plot.bar(x = 'Algorithm', y = 'mean', rot = 40, figsize=(18, 6), color='goldenrod', xlabel='Algorithm', ylabel='Mean RMSE', title='Mean RMSE Values 2013-21 Predictions')"
   ]
  },
  {
   "cell_type": "code",
   "execution_count": 259,
   "id": "9f8b253a",
   "metadata": {},
   "outputs": [
    {
     "data": {
      "text/plain": [
       "<AxesSubplot:title={'center':'Mean MEDAE Values 2013-21 Predictions'}, xlabel='Algorithm', ylabel='Mean MEDAE'>"
      ]
     },
     "execution_count": 259,
     "metadata": {},
     "output_type": "execute_result"
    },
    {
     "data": {
      "image/png": "[encoded data removed]",
      "text/plain": [
       "<Figure size 1296x432 with 1 Axes>"
      ]
     },
     "metadata": {
      "needs_background": "light"
     },
     "output_type": "display_data"
    }
   ],
   "source": [
    "# median results\n",
    "grouped_multiple2 = vis2.groupby(['Algorithm']).agg({'MEDAE': ['mean', 'median', 'max', 'sum']})\n",
    "grouped_multiple2.columns = ['mean','median','max','sum']\n",
    "grouped_multiple2.reset_index(inplace = True)\n",
    "distdf = grouped_multiple2.sort_values(by = ['mean'], ascending = True)\n",
    "distdf.plot.bar(x = 'Algorithm', y = 'mean', rot = 40, figsize=(18, 6), color='peru', xlabel='Algorithm', ylabel='Mean MEDAE', title='Mean MEDAE Values 2013-21 Predictions')"
   ]
  },
  {
   "cell_type": "code",
   "execution_count": 260,
   "id": "e733b52c",
   "metadata": {},
   "outputs": [
    {
     "data": {
      "text/plain": [
       "<AxesSubplot:title={'center':'Mean Accuracy Values 2013-21 Predictions'}, xlabel='Algorithm', ylabel='Average Accuracy'>"
      ]
     },
     "execution_count": 260,
     "metadata": {},
     "output_type": "execute_result"
    },
    {
     "data": {
      "image/png": "[encoded data removed]",
      "text/plain": [
       "<Figure size 1296x432 with 1 Axes>"
      ]
     },
     "metadata": {
      "needs_background": "light"
     },
     "output_type": "display_data"
    }
   ],
   "source": [
    "grouped_multiple3 = vis2.groupby(['Algorithm']).agg({'Accuracy': ['mean', 'median', 'max', 'sum', 'min']})\n",
    "grouped_multiple3.columns = ['mean','median','max','sum', 'min']\n",
    "grouped_multiple3.reset_index(inplace = True)\n",
    "distdf = grouped_multiple3.sort_values(by = ['mean'], ascending = False)\n",
    "distdf.plot.bar(x = 'Algorithm', y = 'mean', rot = 40, figsize=(18, 6), color='midnightblue', xlabel='Algorithm', ylabel='Average Accuracy', title='Mean Accuracy Values 2013-21 Predictions')"
   ]
  },
  {
   "cell_type": "code",
   "execution_count": 261,
   "id": "74541158",
   "metadata": {},
   "outputs": [
    {
     "data": {
      "text/plain": [
       "<AxesSubplot:title={'center':'Mean MSE Values 2013-21 Predictions'}, xlabel='Algorithm', ylabel='Mean MSE'>"
      ]
     },
     "execution_count": 261,
     "metadata": {},
     "output_type": "execute_result"
    },
    {
     "data": {
      "image/png": "[encoded data removed]",
      "text/plain": [
       "<Figure size 1296x432 with 1 Axes>"
      ]
     },
     "metadata": {
      "needs_background": "light"
     },
     "output_type": "display_data"
    }
   ],
   "source": [
    "# mse results\n",
    "grouped_multiple4 = vis2.groupby(['Algorithm']).agg({'MSE': ['mean', 'median', 'max', 'sum']})\n",
    "grouped_multiple4.columns = ['mean','median','max','sum']\n",
    "grouped_multiple4.reset_index(inplace = True)\n",
    "distdf = grouped_multiple4.sort_values(by = ['mean'], ascending = True)\n",
    "distdf.plot.bar(x = 'Algorithm', y = 'mean', rot = 40, figsize=(18, 6), color='forestgreen', xlabel='Algorithm', ylabel='Mean MSE', title='Mean MSE Values 2013-21 Predictions')"
   ]
  },
  {
   "cell_type": "code",
   "execution_count": 262,
   "id": "d2343c63",
   "metadata": {},
   "outputs": [
    {
     "data": {
      "text/plain": [
       "<AxesSubplot:title={'center':'Mean MAPE Values 2013-21 Predictions'}, xlabel='Algorithm', ylabel='Mean MAPE'>"
      ]
     },
     "execution_count": 262,
     "metadata": {},
     "output_type": "execute_result"
    },
    {
     "data": {
      "image/png": "[encoded data removed]",
      "text/plain": [
       "<Figure size 1296x432 with 1 Axes>"
      ]
     },
     "metadata": {
      "needs_background": "light"
     },
     "output_type": "display_data"
    }
   ],
   "source": [
    "# mape results\n",
    "grouped_multiple5 = vis2.groupby(['Algorithm']).agg({'MAPE': ['mean', 'median', 'max', 'sum']})\n",
    "grouped_multiple5.columns = ['mean','median','max','sum']\n",
    "grouped_multiple5.reset_index(inplace = True)\n",
    "distdf = grouped_multiple5.sort_values(by = ['mean'], ascending = True)\n",
    "distdf.plot.bar(x = 'Algorithm', y = 'mean', rot = 40, figsize=(18, 6), color='seagreen', xlabel='Algorithm', ylabel='Mean MAPE', title='Mean MAPE Values 2013-21 Predictions')"
   ]
  },
  {
   "cell_type": "markdown",
   "id": "f05b1903",
   "metadata": {},
   "source": [
    "Result that can be compared around 6/7 % off [this](https://arxiv.org/pdf/2108.09175.pdf), (slightly diff approach taken by me predicting yearly however!)"
   ]
  },
  {
   "cell_type": "code",
   "execution_count": 263,
   "id": "7278a64b",
   "metadata": {},
   "outputs": [
    {
     "data": {
      "text/html": [
       "<div>\n",
       "<style scoped>\n",
       "    .dataframe tbody tr th:only-of-type {\n",
       "        vertical-align: middle;\n",
       "    }\n",
       "\n",
       "    .dataframe tbody tr th {\n",
       "        vertical-align: top;\n",
       "    }\n",
       "\n",
       "    .dataframe thead th {\n",
       "        text-align: right;\n",
       "    }\n",
       "</style>\n",
       "<table border=\"1\" class=\"dataframe\">\n",
       "  <thead>\n",
       "    <tr style=\"text-align: right;\">\n",
       "      <th></th>\n",
       "      <th>Algorithm</th>\n",
       "      <th>mean</th>\n",
       "      <th>median</th>\n",
       "      <th>max</th>\n",
       "      <th>sum</th>\n",
       "      <th>min</th>\n",
       "    </tr>\n",
       "  </thead>\n",
       "  <tbody>\n",
       "    <tr>\n",
       "      <th>1</th>\n",
       "      <td>AutoML</td>\n",
       "      <td>0.269508</td>\n",
       "      <td>0.265252</td>\n",
       "      <td>0.304459</td>\n",
       "      <td>1.347538</td>\n",
       "      <td>0.233796</td>\n",
       "    </tr>\n",
       "    <tr>\n",
       "      <th>2</th>\n",
       "      <td>Bayesian</td>\n",
       "      <td>0.262432</td>\n",
       "      <td>0.257294</td>\n",
       "      <td>0.291720</td>\n",
       "      <td>1.312162</td>\n",
       "      <td>0.225322</td>\n",
       "    </tr>\n",
       "    <tr>\n",
       "      <th>5</th>\n",
       "      <td>MLR</td>\n",
       "      <td>0.259023</td>\n",
       "      <td>0.254642</td>\n",
       "      <td>0.285915</td>\n",
       "      <td>1.295114</td>\n",
       "      <td>0.222103</td>\n",
       "    </tr>\n",
       "    <tr>\n",
       "      <th>3</th>\n",
       "      <td>CatBoost</td>\n",
       "      <td>0.249595</td>\n",
       "      <td>0.232639</td>\n",
       "      <td>0.281529</td>\n",
       "      <td>1.247977</td>\n",
       "      <td>0.224249</td>\n",
       "    </tr>\n",
       "    <tr>\n",
       "      <th>4</th>\n",
       "      <td>LightGBM</td>\n",
       "      <td>0.246561</td>\n",
       "      <td>0.233422</td>\n",
       "      <td>0.282803</td>\n",
       "      <td>1.232805</td>\n",
       "      <td>0.213519</td>\n",
       "    </tr>\n",
       "    <tr>\n",
       "      <th>0</th>\n",
       "      <td>AdaBoost</td>\n",
       "      <td>0.220842</td>\n",
       "      <td>0.236074</td>\n",
       "      <td>0.284507</td>\n",
       "      <td>1.104211</td>\n",
       "      <td>0.159871</td>\n",
       "    </tr>\n",
       "  </tbody>\n",
       "</table>\n",
       "</div>"
      ],
      "text/plain": [
       "  Algorithm      mean    median       max       sum       min\n",
       "1    AutoML  0.269508  0.265252  0.304459  1.347538  0.233796\n",
       "2  Bayesian  0.262432  0.257294  0.291720  1.312162  0.225322\n",
       "5       MLR  0.259023  0.254642  0.285915  1.295114  0.222103\n",
       "3  CatBoost  0.249595  0.232639  0.281529  1.247977  0.224249\n",
       "4  LightGBM  0.246561  0.233422  0.282803  1.232805  0.213519\n",
       "0  AdaBoost  0.220842  0.236074  0.284507  1.104211  0.159871"
      ]
     },
     "execution_count": 263,
     "metadata": {},
     "output_type": "execute_result"
    }
   ],
   "source": [
    "grouped_multiple3.sort_values(by = 'mean', ascending = False)"
   ]
  },
  {
   "cell_type": "code",
   "execution_count": 264,
   "id": "224ad6d2",
   "metadata": {},
   "outputs": [
    {
     "data": {
      "text/plain": [
       "<AxesSubplot:title={'center':'Performance of ML algorithms accuracy from 2017-2021 Predictions'}, xlabel='Year'>"
      ]
     },
     "execution_count": 264,
     "metadata": {},
     "output_type": "execute_result"
    },
    {
     "data": {
      "image/png": "[encoded data removed]",
      "text/plain": [
       "<Figure size 1296x432 with 1 Axes>"
      ]
     },
     "metadata": {
      "needs_background": "light"
     },
     "output_type": "display_data"
    }
   ],
   "source": [
    "# yearly accuracy results\n",
    "df = vis2.pivot(index = 'Year', columns = 'Algorithm', values = 'Accuracy')\n",
    "df.plot(figsize = (18, 6), title = 'Performance of ML algorithms accuracy from 2017-2021 Predictions')"
   ]
  },
  {
   "cell_type": "markdown",
   "id": "44757150",
   "metadata": {},
   "source": [
    "It is definitely worth noting the steep rise in performance of our prediction models after 2018. Looking at our AutoML approach in particular this sees a jump of 10% in predictive performance from 2018 to 2019 and remains well above 2017 and 2018 performance values. Looking across the board it definitely seems that our models are better suited to more up to date data, which is definitely a good thing. It may also suggest that the importance of our features changes noticeably over time with features such as closeness to parks and so forth maybe appearing more favourably in the midst of the global pandemic from 2020 onwards."
   ]
  },
  {
   "cell_type": "markdown",
   "id": "1dd73660",
   "metadata": {},
   "source": [
    "### Let's plot our Actual VS Predicted values for our best model - AutoML"
   ]
  },
  {
   "cell_type": "code",
   "execution_count": 265,
   "id": "dcdb511b",
   "metadata": {},
   "outputs": [],
   "source": [
    "actual = pd.concat([dfreal1, dfreal2, dfreal3, dfreal4, dfreal5], ignore_index=True)"
   ]
  },
  {
   "cell_type": "code",
   "execution_count": 266,
   "id": "84c4a32e",
   "metadata": {},
   "outputs": [
    {
     "data": {
      "text/html": [
       "<div>\n",
       "<style scoped>\n",
       "    .dataframe tbody tr th:only-of-type {\n",
       "        vertical-align: middle;\n",
       "    }\n",
       "\n",
       "    .dataframe tbody tr th {\n",
       "        vertical-align: top;\n",
       "    }\n",
       "\n",
       "    .dataframe thead th {\n",
       "        text-align: right;\n",
       "    }\n",
       "</style>\n",
       "<table border=\"1\" class=\"dataframe\">\n",
       "  <thead>\n",
       "    <tr style=\"text-align: right;\">\n",
       "      <th></th>\n",
       "      <th>Actual</th>\n",
       "    </tr>\n",
       "  </thead>\n",
       "  <tbody>\n",
       "    <tr>\n",
       "      <th>0</th>\n",
       "      <td>11.976659</td>\n",
       "    </tr>\n",
       "    <tr>\n",
       "      <th>1</th>\n",
       "      <td>12.421184</td>\n",
       "    </tr>\n",
       "    <tr>\n",
       "      <th>2</th>\n",
       "      <td>12.028739</td>\n",
       "    </tr>\n",
       "    <tr>\n",
       "      <th>3</th>\n",
       "      <td>12.570716</td>\n",
       "    </tr>\n",
       "    <tr>\n",
       "      <th>4</th>\n",
       "      <td>12.367341</td>\n",
       "    </tr>\n",
       "  </tbody>\n",
       "</table>\n",
       "</div>"
      ],
      "text/plain": [
       "      Actual\n",
       "0  11.976659\n",
       "1  12.421184\n",
       "2  12.028739\n",
       "3  12.570716\n",
       "4  12.367341"
      ]
     },
     "execution_count": 266,
     "metadata": {},
     "output_type": "execute_result"
    }
   ],
   "source": [
    "actual.rename(columns = {0: 'Actual'}, inplace = True)\n",
    "actual.head()"
   ]
  },
  {
   "cell_type": "code",
   "execution_count": 267,
   "id": "e53d91ef",
   "metadata": {},
   "outputs": [],
   "source": [
    "pred = pd.concat([dfpred1, dfpred2, dfpred3, dfpred4, dfpred5], ignore_index=True)"
   ]
  },
  {
   "cell_type": "code",
   "execution_count": 268,
   "id": "b414b6a3",
   "metadata": {},
   "outputs": [
    {
     "data": {
      "text/html": [
       "<div>\n",
       "<style scoped>\n",
       "    .dataframe tbody tr th:only-of-type {\n",
       "        vertical-align: middle;\n",
       "    }\n",
       "\n",
       "    .dataframe tbody tr th {\n",
       "        vertical-align: top;\n",
       "    }\n",
       "\n",
       "    .dataframe thead th {\n",
       "        text-align: right;\n",
       "    }\n",
       "</style>\n",
       "<table border=\"1\" class=\"dataframe\">\n",
       "  <thead>\n",
       "    <tr style=\"text-align: right;\">\n",
       "      <th></th>\n",
       "      <th>Predicted</th>\n",
       "    </tr>\n",
       "  </thead>\n",
       "  <tbody>\n",
       "    <tr>\n",
       "      <th>0</th>\n",
       "      <td>11.962521</td>\n",
       "    </tr>\n",
       "    <tr>\n",
       "      <th>1</th>\n",
       "      <td>12.328492</td>\n",
       "    </tr>\n",
       "    <tr>\n",
       "      <th>2</th>\n",
       "      <td>11.954247</td>\n",
       "    </tr>\n",
       "    <tr>\n",
       "      <th>3</th>\n",
       "      <td>12.067077</td>\n",
       "    </tr>\n",
       "    <tr>\n",
       "      <th>4</th>\n",
       "      <td>12.496541</td>\n",
       "    </tr>\n",
       "  </tbody>\n",
       "</table>\n",
       "</div>"
      ],
      "text/plain": [
       "   Predicted\n",
       "0  11.962521\n",
       "1  12.328492\n",
       "2  11.954247\n",
       "3  12.067077\n",
       "4  12.496541"
      ]
     },
     "execution_count": 268,
     "metadata": {},
     "output_type": "execute_result"
    }
   ],
   "source": [
    "pred.rename(columns={0: 'Predicted'}, inplace = True)\n",
    "pred.head()"
   ]
  },
  {
   "cell_type": "code",
   "execution_count": 269,
   "id": "db45f952",
   "metadata": {},
   "outputs": [],
   "source": [
    "actualvpred = actual.join(pred)"
   ]
  },
  {
   "cell_type": "code",
   "execution_count": 270,
   "id": "18a9313d",
   "metadata": {},
   "outputs": [
    {
     "data": {
      "text/html": [
       "<div>\n",
       "<style scoped>\n",
       "    .dataframe tbody tr th:only-of-type {\n",
       "        vertical-align: middle;\n",
       "    }\n",
       "\n",
       "    .dataframe tbody tr th {\n",
       "        vertical-align: top;\n",
       "    }\n",
       "\n",
       "    .dataframe thead th {\n",
       "        text-align: right;\n",
       "    }\n",
       "</style>\n",
       "<table border=\"1\" class=\"dataframe\">\n",
       "  <thead>\n",
       "    <tr style=\"text-align: right;\">\n",
       "      <th></th>\n",
       "      <th>Actual</th>\n",
       "      <th>Predicted</th>\n",
       "    </tr>\n",
       "  </thead>\n",
       "  <tbody>\n",
       "    <tr>\n",
       "      <th>0</th>\n",
       "      <td>11.976659</td>\n",
       "      <td>11.962521</td>\n",
       "    </tr>\n",
       "    <tr>\n",
       "      <th>1</th>\n",
       "      <td>12.421184</td>\n",
       "      <td>12.328492</td>\n",
       "    </tr>\n",
       "    <tr>\n",
       "      <th>2</th>\n",
       "      <td>12.028739</td>\n",
       "      <td>11.954247</td>\n",
       "    </tr>\n",
       "    <tr>\n",
       "      <th>3</th>\n",
       "      <td>12.570716</td>\n",
       "      <td>12.067077</td>\n",
       "    </tr>\n",
       "    <tr>\n",
       "      <th>4</th>\n",
       "      <td>12.367341</td>\n",
       "      <td>12.496541</td>\n",
       "    </tr>\n",
       "  </tbody>\n",
       "</table>\n",
       "</div>"
      ],
      "text/plain": [
       "      Actual  Predicted\n",
       "0  11.976659  11.962521\n",
       "1  12.421184  12.328492\n",
       "2  12.028739  11.954247\n",
       "3  12.570716  12.067077\n",
       "4  12.367341  12.496541"
      ]
     },
     "execution_count": 270,
     "metadata": {},
     "output_type": "execute_result"
    }
   ],
   "source": [
    "actualvpred.head()"
   ]
  },
  {
   "cell_type": "code",
   "execution_count": 271,
   "id": "1a8e9c4a",
   "metadata": {},
   "outputs": [],
   "source": [
    "# actual prices for better plot\n",
    "exp = np.exp(actualvpred)"
   ]
  },
  {
   "cell_type": "code",
   "execution_count": 272,
   "id": "fe472b7f",
   "metadata": {},
   "outputs": [
    {
     "data": {
      "text/plain": [
       "(4045, 2)"
      ]
     },
     "execution_count": 272,
     "metadata": {},
     "output_type": "execute_result"
    }
   ],
   "source": [
    "exp.shape"
   ]
  },
  {
   "cell_type": "code",
   "execution_count": 273,
   "id": "8be68235",
   "metadata": {},
   "outputs": [
    {
     "data": {
      "image/png": "[encoded data removed]",
      "text/plain": [
       "<Figure size 720x720 with 1 Axes>"
      ]
     },
     "metadata": {
      "needs_background": "light"
     },
     "output_type": "display_data"
    }
   ],
   "source": [
    "# plot predicted vs actual\n",
    "plt.figure(figsize = (10, 10))\n",
    "plt.scatter(exp['Actual'], exp['Predicted'], c = 'crimson')\n",
    "\n",
    "p1 = max(max(exp['Predicted']), max(exp['Actual']))\n",
    "p2 = min(min(exp['Predicted']), min(exp['Actual']))\n",
    "plt.plot([p1, p2], [p1, p2], 'b-')\n",
    "plt.xlabel('True Values', fontsize = 15)\n",
    "plt.ylabel('Predictions', fontsize = 15)\n",
    "plt.axis('equal')\n",
    "plt.show()"
   ]
  },
  {
   "cell_type": "markdown",
   "id": "8739279c",
   "metadata": {},
   "source": [
    "### Predictions and True Values Evaluation\n",
    "\n",
    "Our model is certainly most accurate between the 250,000€ to ~600,000€ range. There is definitely far more outliers as we increase our true values to around the 1,000,000€ mark. Some of these more expensive properties are definitely accurate (2 of note around 1.75m mark) but definitely we see it more accurate at the lower / average end of values. "
   ]
  },
  {
   "cell_type": "markdown",
   "id": "fa9a3abf",
   "metadata": {},
   "source": [
    "### Let's plot locations of our Properties and Accuracy of our results"
   ]
  },
  {
   "cell_type": "code",
   "execution_count": 274,
   "id": "c431eab3",
   "metadata": {},
   "outputs": [
    {
     "name": "stderr",
     "output_type": "stream",
     "text": [
      "2022-04-09 22:19:10,379 fiona._env ERROR Unable to open EPSG support file gcs.csv.  Try setting the GDAL_DATA environment variable to point to the directory containing EPSG csv files.\n",
      "2022-04-09 22:19:10,396 fiona._env ERROR Unable to open EPSG support file gcs.csv.  Try setting the GDAL_DATA environment variable to point to the directory containing EPSG csv files.\n"
     ]
    },
    {
     "data": {
      "text/html": [
       "<div>\n",
       "<style scoped>\n",
       "    .dataframe tbody tr th:only-of-type {\n",
       "        vertical-align: middle;\n",
       "    }\n",
       "\n",
       "    .dataframe tbody tr th {\n",
       "        vertical-align: top;\n",
       "    }\n",
       "\n",
       "    .dataframe thead th {\n",
       "        text-align: right;\n",
       "    }\n",
       "</style>\n",
       "<table border=\"1\" class=\"dataframe\">\n",
       "  <thead>\n",
       "    <tr style=\"text-align: right;\">\n",
       "      <th></th>\n",
       "      <th>Latitude</th>\n",
       "      <th>Longtitude</th>\n",
       "      <th>ENGLISH</th>\n",
       "      <th>CONTAE</th>\n",
       "      <th>COUNTY</th>\n",
       "      <th>AREA</th>\n",
       "      <th>PROVINCE</th>\n",
       "      <th>geometry</th>\n",
       "    </tr>\n",
       "  </thead>\n",
       "  <tbody>\n",
       "    <tr>\n",
       "      <th>0</th>\n",
       "      <td>51.905</td>\n",
       "      <td>-8.384</td>\n",
       "      <td>CORK CITY COUNCIL</td>\n",
       "      <td>Corcaigh</td>\n",
       "      <td>CORK</td>\n",
       "      <td>186597605.50694406</td>\n",
       "      <td>Munster</td>\n",
       "      <td>POLYGON ((-8.38436 51.90533, -8.38425 51.90529...</td>\n",
       "    </tr>\n",
       "  </tbody>\n",
       "</table>\n",
       "</div>"
      ],
      "text/plain": [
       "   Latitude  Longtitude            ENGLISH    CONTAE COUNTY  \\\n",
       "0    51.905      -8.384  CORK CITY COUNCIL  Corcaigh   CORK   \n",
       "\n",
       "                 AREA PROVINCE  \\\n",
       "0  186597605.50694406  Munster   \n",
       "\n",
       "                                            geometry  \n",
       "0  POLYGON ((-8.38436 51.90533, -8.38425 51.90529...  "
      ]
     },
     "execution_count": 274,
     "metadata": {},
     "output_type": "execute_result"
    }
   ],
   "source": [
    "import geopandas as gpd\n",
    "cork_map = gpd.read_file('cork-city-boundary\\Cork City BoundaryWGS84.shp')  #reading the shape file for our maps \n",
    "cork_map.head(1)"
   ]
  },
  {
   "cell_type": "markdown",
   "id": "5677aabb",
   "metadata": {},
   "source": [
    "### Location of Accurate VS Inaccurate"
   ]
  },
  {
   "cell_type": "code",
   "execution_count": 275,
   "id": "c187e046",
   "metadata": {},
   "outputs": [],
   "source": [
    "l1 = dfreal1.join(x_test_21[['Longitude', 'Latitude']])\n",
    "l2 = dfreal2.join(x_test_20[['Longitude', 'Latitude']])\n",
    "l3 = dfreal3.join(x_test_19[['Longitude', 'Latitude']])\n",
    "l4 = dfreal4.join(x_test_18[['Longitude', 'Latitude']])\n",
    "l5 = dfreal5.join(x_test_17[['Longitude', 'Latitude']])"
   ]
  },
  {
   "cell_type": "code",
   "execution_count": 276,
   "id": "99c8f9db",
   "metadata": {},
   "outputs": [],
   "source": [
    "plots = pd.concat([l1, l2, l3, l4, l5], ignore_index=True)"
   ]
  },
  {
   "cell_type": "code",
   "execution_count": 277,
   "id": "0bfe5e11",
   "metadata": {},
   "outputs": [],
   "source": [
    "plots.rename(columns = {0 : 'Actual'}, inplace = True)"
   ]
  },
  {
   "cell_type": "code",
   "execution_count": 278,
   "id": "459342c2",
   "metadata": {},
   "outputs": [
    {
     "data": {
      "text/html": [
       "<div>\n",
       "<style scoped>\n",
       "    .dataframe tbody tr th:only-of-type {\n",
       "        vertical-align: middle;\n",
       "    }\n",
       "\n",
       "    .dataframe tbody tr th {\n",
       "        vertical-align: top;\n",
       "    }\n",
       "\n",
       "    .dataframe thead th {\n",
       "        text-align: right;\n",
       "    }\n",
       "</style>\n",
       "<table border=\"1\" class=\"dataframe\">\n",
       "  <thead>\n",
       "    <tr style=\"text-align: right;\">\n",
       "      <th></th>\n",
       "      <th>Actual</th>\n",
       "      <th>Longitude</th>\n",
       "      <th>Latitude</th>\n",
       "      <th>Predicted</th>\n",
       "    </tr>\n",
       "  </thead>\n",
       "  <tbody>\n",
       "    <tr>\n",
       "      <th>0</th>\n",
       "      <td>11.976659</td>\n",
       "      <td>-8.337650</td>\n",
       "      <td>51.873131</td>\n",
       "      <td>11.962521</td>\n",
       "    </tr>\n",
       "    <tr>\n",
       "      <th>1</th>\n",
       "      <td>12.421184</td>\n",
       "      <td>-8.445846</td>\n",
       "      <td>51.917272</td>\n",
       "      <td>12.328492</td>\n",
       "    </tr>\n",
       "    <tr>\n",
       "      <th>2</th>\n",
       "      <td>12.028739</td>\n",
       "      <td>-8.478741</td>\n",
       "      <td>51.915242</td>\n",
       "      <td>11.954247</td>\n",
       "    </tr>\n",
       "    <tr>\n",
       "      <th>3</th>\n",
       "      <td>12.570716</td>\n",
       "      <td>-8.461265</td>\n",
       "      <td>51.907005</td>\n",
       "      <td>12.067077</td>\n",
       "    </tr>\n",
       "    <tr>\n",
       "      <th>4</th>\n",
       "      <td>12.367341</td>\n",
       "      <td>-8.505025</td>\n",
       "      <td>51.882794</td>\n",
       "      <td>12.496541</td>\n",
       "    </tr>\n",
       "  </tbody>\n",
       "</table>\n",
       "</div>"
      ],
      "text/plain": [
       "      Actual  Longitude   Latitude  Predicted\n",
       "0  11.976659  -8.337650  51.873131  11.962521\n",
       "1  12.421184  -8.445846  51.917272  12.328492\n",
       "2  12.028739  -8.478741  51.915242  11.954247\n",
       "3  12.570716  -8.461265  51.907005  12.067077\n",
       "4  12.367341  -8.505025  51.882794  12.496541"
      ]
     },
     "execution_count": 278,
     "metadata": {},
     "output_type": "execute_result"
    }
   ],
   "source": [
    "plotscomp = plots.join(pred)\n",
    "plotscomp.head()"
   ]
  },
  {
   "cell_type": "code",
   "execution_count": 279,
   "id": "5101985d",
   "metadata": {},
   "outputs": [],
   "source": [
    "exp1 = np.exp(plotscomp[['Actual', 'Predicted']])"
   ]
  },
  {
   "cell_type": "code",
   "execution_count": 280,
   "id": "5dfb576f",
   "metadata": {},
   "outputs": [],
   "source": [
    "exp1 = exp1.join(plotscomp[['Longitude', 'Latitude']])"
   ]
  },
  {
   "cell_type": "code",
   "execution_count": 281,
   "id": "6ee69988",
   "metadata": {},
   "outputs": [
    {
     "data": {
      "text/html": [
       "<div>\n",
       "<style scoped>\n",
       "    .dataframe tbody tr th:only-of-type {\n",
       "        vertical-align: middle;\n",
       "    }\n",
       "\n",
       "    .dataframe tbody tr th {\n",
       "        vertical-align: top;\n",
       "    }\n",
       "\n",
       "    .dataframe thead th {\n",
       "        text-align: right;\n",
       "    }\n",
       "</style>\n",
       "<table border=\"1\" class=\"dataframe\">\n",
       "  <thead>\n",
       "    <tr style=\"text-align: right;\">\n",
       "      <th></th>\n",
       "      <th>Actual</th>\n",
       "      <th>Predicted</th>\n",
       "      <th>Longitude</th>\n",
       "      <th>Latitude</th>\n",
       "    </tr>\n",
       "  </thead>\n",
       "  <tbody>\n",
       "    <tr>\n",
       "      <th>0</th>\n",
       "      <td>159000.0</td>\n",
       "      <td>156767.735776</td>\n",
       "      <td>-8.337650</td>\n",
       "      <td>51.873131</td>\n",
       "    </tr>\n",
       "    <tr>\n",
       "      <th>1</th>\n",
       "      <td>248000.0</td>\n",
       "      <td>226045.645437</td>\n",
       "      <td>-8.445846</td>\n",
       "      <td>51.917272</td>\n",
       "    </tr>\n",
       "    <tr>\n",
       "      <th>2</th>\n",
       "      <td>167500.0</td>\n",
       "      <td>155476.112940</td>\n",
       "      <td>-8.478741</td>\n",
       "      <td>51.915242</td>\n",
       "    </tr>\n",
       "    <tr>\n",
       "      <th>3</th>\n",
       "      <td>288000.0</td>\n",
       "      <td>174046.292219</td>\n",
       "      <td>-8.461265</td>\n",
       "      <td>51.907005</td>\n",
       "    </tr>\n",
       "    <tr>\n",
       "      <th>4</th>\n",
       "      <td>235000.0</td>\n",
       "      <td>267410.593791</td>\n",
       "      <td>-8.505025</td>\n",
       "      <td>51.882794</td>\n",
       "    </tr>\n",
       "  </tbody>\n",
       "</table>\n",
       "</div>"
      ],
      "text/plain": [
       "     Actual      Predicted  Longitude   Latitude\n",
       "0  159000.0  156767.735776  -8.337650  51.873131\n",
       "1  248000.0  226045.645437  -8.445846  51.917272\n",
       "2  167500.0  155476.112940  -8.478741  51.915242\n",
       "3  288000.0  174046.292219  -8.461265  51.907005\n",
       "4  235000.0  267410.593791  -8.505025  51.882794"
      ]
     },
     "execution_count": 281,
     "metadata": {},
     "output_type": "execute_result"
    }
   ],
   "source": [
    "exp1.head()"
   ]
  },
  {
   "cell_type": "code",
   "execution_count": 282,
   "id": "abe6b7e0",
   "metadata": {},
   "outputs": [],
   "source": [
    "num = 0.1\n",
    "lst = []\n",
    "test = np.array(exp1['Actual'])\n",
    "pred = np.array(exp1['Predicted'])\n",
    "count = 0\n",
    "for i in range(len(pred)):\n",
    "    if test[i] != 0:  \n",
    "        ten = test[i] * num\n",
    "        res = test[i] - pred[i]\n",
    "    else:\n",
    "        res = 0\n",
    "        ten = 0\n",
    "        \n",
    "    if res < 0:\n",
    "        res = res * -1\n",
    "    else:\n",
    "        res = res\n",
    "            \n",
    "    if res <= ten:\n",
    "        lst.append(1)\n",
    "    else:\n",
    "        lst.append(0)"
   ]
  },
  {
   "cell_type": "code",
   "execution_count": 283,
   "id": "8f5706fb",
   "metadata": {},
   "outputs": [],
   "source": [
    "exp1['Accurate'] = lst"
   ]
  },
  {
   "cell_type": "code",
   "execution_count": 284,
   "id": "13d0b051",
   "metadata": {},
   "outputs": [
    {
     "data": {
      "text/html": [
       "<div>\n",
       "<style scoped>\n",
       "    .dataframe tbody tr th:only-of-type {\n",
       "        vertical-align: middle;\n",
       "    }\n",
       "\n",
       "    .dataframe tbody tr th {\n",
       "        vertical-align: top;\n",
       "    }\n",
       "\n",
       "    .dataframe thead th {\n",
       "        text-align: right;\n",
       "    }\n",
       "</style>\n",
       "<table border=\"1\" class=\"dataframe\">\n",
       "  <thead>\n",
       "    <tr style=\"text-align: right;\">\n",
       "      <th></th>\n",
       "      <th>Actual</th>\n",
       "      <th>Predicted</th>\n",
       "      <th>Longitude</th>\n",
       "      <th>Latitude</th>\n",
       "      <th>Accurate</th>\n",
       "    </tr>\n",
       "  </thead>\n",
       "  <tbody>\n",
       "    <tr>\n",
       "      <th>0</th>\n",
       "      <td>159000.0</td>\n",
       "      <td>156767.735776</td>\n",
       "      <td>-8.337650</td>\n",
       "      <td>51.873131</td>\n",
       "      <td>1</td>\n",
       "    </tr>\n",
       "    <tr>\n",
       "      <th>1</th>\n",
       "      <td>248000.0</td>\n",
       "      <td>226045.645437</td>\n",
       "      <td>-8.445846</td>\n",
       "      <td>51.917272</td>\n",
       "      <td>1</td>\n",
       "    </tr>\n",
       "    <tr>\n",
       "      <th>2</th>\n",
       "      <td>167500.0</td>\n",
       "      <td>155476.112940</td>\n",
       "      <td>-8.478741</td>\n",
       "      <td>51.915242</td>\n",
       "      <td>1</td>\n",
       "    </tr>\n",
       "    <tr>\n",
       "      <th>3</th>\n",
       "      <td>288000.0</td>\n",
       "      <td>174046.292219</td>\n",
       "      <td>-8.461265</td>\n",
       "      <td>51.907005</td>\n",
       "      <td>0</td>\n",
       "    </tr>\n",
       "    <tr>\n",
       "      <th>4</th>\n",
       "      <td>235000.0</td>\n",
       "      <td>267410.593791</td>\n",
       "      <td>-8.505025</td>\n",
       "      <td>51.882794</td>\n",
       "      <td>0</td>\n",
       "    </tr>\n",
       "  </tbody>\n",
       "</table>\n",
       "</div>"
      ],
      "text/plain": [
       "     Actual      Predicted  Longitude   Latitude  Accurate\n",
       "0  159000.0  156767.735776  -8.337650  51.873131         1\n",
       "1  248000.0  226045.645437  -8.445846  51.917272         1\n",
       "2  167500.0  155476.112940  -8.478741  51.915242         1\n",
       "3  288000.0  174046.292219  -8.461265  51.907005         0\n",
       "4  235000.0  267410.593791  -8.505025  51.882794         0"
      ]
     },
     "execution_count": 284,
     "metadata": {},
     "output_type": "execute_result"
    }
   ],
   "source": [
    "exp1.head()"
   ]
  },
  {
   "cell_type": "code",
   "execution_count": 285,
   "id": "448af163",
   "metadata": {},
   "outputs": [
    {
     "data": {
      "image/png": "[encoded data removed]",
      "text/plain": [
       "<Figure size 1440x720 with 2 Axes>"
      ]
     },
     "metadata": {
      "needs_background": "light"
     },
     "output_type": "display_data"
    }
   ],
   "source": [
    "### RED = accurate , BLUE = Inaccurate\n",
    "fig, ax = plt.subplots(figsize = (20, 10))\n",
    "# O'Connell St. lat is 53.34975, and the longitude is -6.260113\n",
    "cork_map.plot(ax = ax, color = 'lightgrey')\n",
    "#ax.axhline(y = 53.34975, color = 'r', linestyle = '--')\n",
    "plt.scatter(x = exp1['Longitude'], y = exp1['Latitude'], c = exp1['Accurate'], cmap = 'bwr')\n",
    "plt.title('Plot of Locations of Accurately Predicted properties used in test dataset')\n",
    "plt.colorbar()\n",
    "plt.show()"
   ]
  }
 ],
 "metadata": {
  "kernelspec": {
   "display_name": "Python 3 (ipykernel)",
   "language": "python",
   "name": "python3"
  },
  "language_info": {
   "codemirror_mode": {
    "name": "ipython",
    "version": 3
   },
   "file_extension": ".py",
   "mimetype": "text/x-python",
   "name": "python",
   "nbconvert_exporter": "python",
   "pygments_lexer": "ipython3",
   "version": "3.8.12"
  }
 },
 "nbformat": 4,
 "nbformat_minor": 5
}
