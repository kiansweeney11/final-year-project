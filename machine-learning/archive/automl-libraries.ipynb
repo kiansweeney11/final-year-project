{
 "cells": [
  {
   "cell_type": "code",
   "execution_count": 1,
   "id": "384443d8",
   "metadata": {},
   "outputs": [
    {
     "name": "stdout",
     "output_type": "stream",
     "text": [
      "Imported sci-kit learn and AutoML libraries!\n"
     ]
    }
   ],
   "source": [
    "import pandas as pd\n",
    "import numpy as np\n",
    "from sklearn.datasets import make_classification\n",
    "from sklearn.model_selection import train_test_split\n",
    "import os\n",
    "from supervised.automl import AutoML\n",
    "import category_encoders as ce\n",
    "import math\n",
    "\n",
    "# visualization\n",
    "import seaborn as sns\n",
    "import matplotlib.pyplot as plt\n",
    "\n",
    "from sklearn.metrics import accuracy_score\n",
    "from sklearn.metrics import mean_squared_error\n",
    "from sklearn.model_selection import train_test_split\n",
    "from sklearn.model_selection import cross_val_score, GridSearchCV\n",
    "from sklearn.linear_model import LogisticRegression\n",
    "from sklearn.tree import DecisionTreeClassifier\n",
    "from sklearn.ensemble import RandomForestClassifier\n",
    "from category_encoders import TargetEncoder\n",
    "from sklearn.metrics import median_absolute_error\n",
    "print('Imported sci-kit learn and AutoML libraries!')"
   ]
  },
  {
   "cell_type": "markdown",
   "id": "2157b909",
   "metadata": {},
   "source": [
    "## Let's compare some other AutoML libraries to see if we can improve our results any further"
   ]
  },
  {
   "cell_type": "code",
   "execution_count": 2,
   "id": "3ff8d4da",
   "metadata": {},
   "outputs": [],
   "source": [
    "irl =  pd.read_csv('sub-dub-encoded.csv', index_col = 'Unnamed: 0')"
   ]
  },
  {
   "cell_type": "code",
   "execution_count": 3,
   "id": "77b09eb6",
   "metadata": {},
   "outputs": [],
   "source": [
    "irl1 = pd.read_csv('initial-ml-test-dub-1.csv', index_col = 'Unnamed: 0')"
   ]
  },
  {
   "cell_type": "code",
   "execution_count": 4,
   "id": "1a6f04ad",
   "metadata": {},
   "outputs": [
    {
     "data": {
      "text/html": [
       "<div>\n",
       "<style scoped>\n",
       "    .dataframe tbody tr th:only-of-type {\n",
       "        vertical-align: middle;\n",
       "    }\n",
       "\n",
       "    .dataframe tbody tr th {\n",
       "        vertical-align: top;\n",
       "    }\n",
       "\n",
       "    .dataframe thead th {\n",
       "        text-align: right;\n",
       "    }\n",
       "</style>\n",
       "<table border=\"1\" class=\"dataframe\">\n",
       "  <thead>\n",
       "    <tr style=\"text-align: right;\">\n",
       "      <th></th>\n",
       "      <th>Address</th>\n",
       "      <th>County</th>\n",
       "      <th>Price (€)</th>\n",
       "      <th>VAT Exclusive</th>\n",
       "      <th>UsedProperty</th>\n",
       "      <th>Property Size Description</th>\n",
       "      <th>Year</th>\n",
       "      <th>Month</th>\n",
       "      <th>Town</th>\n",
       "      <th>Apartment</th>\n",
       "      <th>...</th>\n",
       "      <th>DistanceIFSC</th>\n",
       "      <th>DistanceSchool</th>\n",
       "      <th>DistancePark</th>\n",
       "      <th>DistanceLuas</th>\n",
       "      <th>DistanceSecSchool</th>\n",
       "      <th>DistanceGPO</th>\n",
       "      <th>DistanceHospital</th>\n",
       "      <th>DistanceBeach</th>\n",
       "      <th>DistanceCar</th>\n",
       "      <th>DistanceShops</th>\n",
       "    </tr>\n",
       "  </thead>\n",
       "  <tbody>\n",
       "    <tr>\n",
       "      <th>207901</th>\n",
       "      <td>55 College Square, Terenure</td>\n",
       "      <td>Dublin</td>\n",
       "      <td>447200.00</td>\n",
       "      <td>0</td>\n",
       "      <td>0</td>\n",
       "      <td>1</td>\n",
       "      <td>2014</td>\n",
       "      <td>1</td>\n",
       "      <td>Terenure</td>\n",
       "      <td>0</td>\n",
       "      <td>...</td>\n",
       "      <td>7.541595</td>\n",
       "      <td>0.492120</td>\n",
       "      <td>1.438826</td>\n",
       "      <td>2.020029</td>\n",
       "      <td>0.156609</td>\n",
       "      <td>6.587209</td>\n",
       "      <td>2.344404</td>\n",
       "      <td>18.071721</td>\n",
       "      <td>5.427900</td>\n",
       "      <td>3.568079</td>\n",
       "    </tr>\n",
       "    <tr>\n",
       "      <th>207905</th>\n",
       "      <td>Number 7 Belfort House, Sydenham Villas, Dundrum</td>\n",
       "      <td>Dublin</td>\n",
       "      <td>398000.00</td>\n",
       "      <td>1</td>\n",
       "      <td>1</td>\n",
       "      <td>0</td>\n",
       "      <td>2014</td>\n",
       "      <td>1</td>\n",
       "      <td>Dundrum Dublin</td>\n",
       "      <td>0</td>\n",
       "      <td>...</td>\n",
       "      <td>6.817210</td>\n",
       "      <td>0.100996</td>\n",
       "      <td>2.784711</td>\n",
       "      <td>0.274841</td>\n",
       "      <td>0.831639</td>\n",
       "      <td>7.118560</td>\n",
       "      <td>3.635958</td>\n",
       "      <td>14.874822</td>\n",
       "      <td>5.905557</td>\n",
       "      <td>0.255856</td>\n",
       "    </tr>\n",
       "    <tr>\n",
       "      <th>207916</th>\n",
       "      <td>Apartment 16 Cedar Grove, Firhouse Road, Templ...</td>\n",
       "      <td>Dublin</td>\n",
       "      <td>196035.24</td>\n",
       "      <td>0</td>\n",
       "      <td>0</td>\n",
       "      <td>1</td>\n",
       "      <td>2014</td>\n",
       "      <td>1</td>\n",
       "      <td>Templeogue</td>\n",
       "      <td>1</td>\n",
       "      <td>...</td>\n",
       "      <td>7.799393</td>\n",
       "      <td>0.683556</td>\n",
       "      <td>3.098765</td>\n",
       "      <td>3.760897</td>\n",
       "      <td>0.968202</td>\n",
       "      <td>7.197697</td>\n",
       "      <td>3.879724</td>\n",
       "      <td>17.923987</td>\n",
       "      <td>6.179356</td>\n",
       "      <td>3.002563</td>\n",
       "    </tr>\n",
       "    <tr>\n",
       "      <th>207925</th>\n",
       "      <td>75 Palmerstown Avenue, Palmerstown</td>\n",
       "      <td>Dublin</td>\n",
       "      <td>95000.00</td>\n",
       "      <td>1</td>\n",
       "      <td>1</td>\n",
       "      <td>1</td>\n",
       "      <td>2014</td>\n",
       "      <td>1</td>\n",
       "      <td>Palmerstown</td>\n",
       "      <td>0</td>\n",
       "      <td>...</td>\n",
       "      <td>8.400802</td>\n",
       "      <td>0.319564</td>\n",
       "      <td>1.909348</td>\n",
       "      <td>3.576775</td>\n",
       "      <td>0.262801</td>\n",
       "      <td>7.051363</td>\n",
       "      <td>3.811554</td>\n",
       "      <td>18.189754</td>\n",
       "      <td>6.208934</td>\n",
       "      <td>1.206681</td>\n",
       "    </tr>\n",
       "    <tr>\n",
       "      <th>207929</th>\n",
       "      <td>17 Churchview Apts, Church Rd, Drumcondra</td>\n",
       "      <td>Dublin</td>\n",
       "      <td>152000.00</td>\n",
       "      <td>1</td>\n",
       "      <td>1</td>\n",
       "      <td>2</td>\n",
       "      <td>2014</td>\n",
       "      <td>1</td>\n",
       "      <td>Drumcondra</td>\n",
       "      <td>1</td>\n",
       "      <td>...</td>\n",
       "      <td>2.225835</td>\n",
       "      <td>0.085034</td>\n",
       "      <td>0.909828</td>\n",
       "      <td>1.942439</td>\n",
       "      <td>0.597393</td>\n",
       "      <td>1.805008</td>\n",
       "      <td>0.902578</td>\n",
       "      <td>10.897507</td>\n",
       "      <td>1.587952</td>\n",
       "      <td>1.815296</td>\n",
       "    </tr>\n",
       "  </tbody>\n",
       "</table>\n",
       "<p>5 rows × 25 columns</p>\n",
       "</div>"
      ],
      "text/plain": [
       "                                                  Address  County  Price (€)  \\\n",
       "207901                        55 College Square, Terenure  Dublin  447200.00   \n",
       "207905   Number 7 Belfort House, Sydenham Villas, Dundrum  Dublin  398000.00   \n",
       "207916  Apartment 16 Cedar Grove, Firhouse Road, Templ...  Dublin  196035.24   \n",
       "207925                 75 Palmerstown Avenue, Palmerstown  Dublin   95000.00   \n",
       "207929          17 Churchview Apts, Church Rd, Drumcondra  Dublin  152000.00   \n",
       "\n",
       "        VAT Exclusive  UsedProperty  Property Size Description  Year  Month  \\\n",
       "207901              0             0                          1  2014      1   \n",
       "207905              1             1                          0  2014      1   \n",
       "207916              0             0                          1  2014      1   \n",
       "207925              1             1                          1  2014      1   \n",
       "207929              1             1                          2  2014      1   \n",
       "\n",
       "                  Town  Apartment  ... DistanceIFSC  DistanceSchool  \\\n",
       "207901        Terenure          0  ...     7.541595        0.492120   \n",
       "207905  Dundrum Dublin          0  ...     6.817210        0.100996   \n",
       "207916      Templeogue          1  ...     7.799393        0.683556   \n",
       "207925     Palmerstown          0  ...     8.400802        0.319564   \n",
       "207929      Drumcondra          1  ...     2.225835        0.085034   \n",
       "\n",
       "       DistancePark  DistanceLuas  DistanceSecSchool  DistanceGPO  \\\n",
       "207901     1.438826      2.020029           0.156609     6.587209   \n",
       "207905     2.784711      0.274841           0.831639     7.118560   \n",
       "207916     3.098765      3.760897           0.968202     7.197697   \n",
       "207925     1.909348      3.576775           0.262801     7.051363   \n",
       "207929     0.909828      1.942439           0.597393     1.805008   \n",
       "\n",
       "        DistanceHospital  DistanceBeach  DistanceCar  DistanceShops  \n",
       "207901          2.344404      18.071721     5.427900       3.568079  \n",
       "207905          3.635958      14.874822     5.905557       0.255856  \n",
       "207916          3.879724      17.923987     6.179356       3.002563  \n",
       "207925          3.811554      18.189754     6.208934       1.206681  \n",
       "207929          0.902578      10.897507     1.587952       1.815296  \n",
       "\n",
       "[5 rows x 25 columns]"
      ]
     },
     "execution_count": 4,
     "metadata": {},
     "output_type": "execute_result"
    }
   ],
   "source": [
    "irl1.head()"
   ]
  },
  {
   "cell_type": "code",
   "execution_count": 5,
   "id": "3a5969d4",
   "metadata": {},
   "outputs": [],
   "source": [
    "irl.drop(columns = ['Longitude', 'Latitude', 'LogPrice (€)'], inplace = True)"
   ]
  },
  {
   "cell_type": "code",
   "execution_count": 6,
   "id": "aaeec4c4",
   "metadata": {},
   "outputs": [
    {
     "data": {
      "text/html": [
       "<div>\n",
       "<style scoped>\n",
       "    .dataframe tbody tr th:only-of-type {\n",
       "        vertical-align: middle;\n",
       "    }\n",
       "\n",
       "    .dataframe tbody tr th {\n",
       "        vertical-align: top;\n",
       "    }\n",
       "\n",
       "    .dataframe thead th {\n",
       "        text-align: right;\n",
       "    }\n",
       "</style>\n",
       "<table border=\"1\" class=\"dataframe\">\n",
       "  <thead>\n",
       "    <tr style=\"text-align: right;\">\n",
       "      <th></th>\n",
       "      <th>Address</th>\n",
       "      <th>County</th>\n",
       "      <th>Price (€)</th>\n",
       "      <th>VAT Exclusive</th>\n",
       "      <th>UsedProperty</th>\n",
       "      <th>Property Size Description</th>\n",
       "      <th>Year</th>\n",
       "      <th>Month</th>\n",
       "      <th>Town</th>\n",
       "      <th>Apartment</th>\n",
       "      <th>...</th>\n",
       "      <th>DistanceIFSC</th>\n",
       "      <th>DistanceSchool</th>\n",
       "      <th>DistancePark</th>\n",
       "      <th>DistanceLuas</th>\n",
       "      <th>DistanceSecSchool</th>\n",
       "      <th>DistanceGPO</th>\n",
       "      <th>DistanceHospital</th>\n",
       "      <th>DistanceBeach</th>\n",
       "      <th>DistanceCar</th>\n",
       "      <th>DistanceShops</th>\n",
       "    </tr>\n",
       "  </thead>\n",
       "  <tbody>\n",
       "    <tr>\n",
       "      <th>207901</th>\n",
       "      <td>55 College Square, Terenure</td>\n",
       "      <td>Dublin</td>\n",
       "      <td>447200.00</td>\n",
       "      <td>0</td>\n",
       "      <td>0</td>\n",
       "      <td>1</td>\n",
       "      <td>2014</td>\n",
       "      <td>1</td>\n",
       "      <td>Terenure</td>\n",
       "      <td>0</td>\n",
       "      <td>...</td>\n",
       "      <td>7.541595</td>\n",
       "      <td>0.492120</td>\n",
       "      <td>1.438826</td>\n",
       "      <td>2.020029</td>\n",
       "      <td>0.156609</td>\n",
       "      <td>6.587209</td>\n",
       "      <td>2.344404</td>\n",
       "      <td>18.071721</td>\n",
       "      <td>5.427900</td>\n",
       "      <td>3.568079</td>\n",
       "    </tr>\n",
       "    <tr>\n",
       "      <th>207905</th>\n",
       "      <td>Number 7 Belfort House, Sydenham Villas, Dundrum</td>\n",
       "      <td>Dublin</td>\n",
       "      <td>398000.00</td>\n",
       "      <td>1</td>\n",
       "      <td>1</td>\n",
       "      <td>0</td>\n",
       "      <td>2014</td>\n",
       "      <td>1</td>\n",
       "      <td>Dundrum Dublin</td>\n",
       "      <td>0</td>\n",
       "      <td>...</td>\n",
       "      <td>6.817210</td>\n",
       "      <td>0.100996</td>\n",
       "      <td>2.784711</td>\n",
       "      <td>0.274841</td>\n",
       "      <td>0.831639</td>\n",
       "      <td>7.118560</td>\n",
       "      <td>3.635958</td>\n",
       "      <td>14.874822</td>\n",
       "      <td>5.905557</td>\n",
       "      <td>0.255856</td>\n",
       "    </tr>\n",
       "    <tr>\n",
       "      <th>207916</th>\n",
       "      <td>Apartment 16 Cedar Grove, Firhouse Road, Templ...</td>\n",
       "      <td>Dublin</td>\n",
       "      <td>196035.24</td>\n",
       "      <td>0</td>\n",
       "      <td>0</td>\n",
       "      <td>1</td>\n",
       "      <td>2014</td>\n",
       "      <td>1</td>\n",
       "      <td>Templeogue</td>\n",
       "      <td>1</td>\n",
       "      <td>...</td>\n",
       "      <td>7.799393</td>\n",
       "      <td>0.683556</td>\n",
       "      <td>3.098765</td>\n",
       "      <td>3.760897</td>\n",
       "      <td>0.968202</td>\n",
       "      <td>7.197697</td>\n",
       "      <td>3.879724</td>\n",
       "      <td>17.923987</td>\n",
       "      <td>6.179356</td>\n",
       "      <td>3.002563</td>\n",
       "    </tr>\n",
       "    <tr>\n",
       "      <th>207925</th>\n",
       "      <td>75 Palmerstown Avenue, Palmerstown</td>\n",
       "      <td>Dublin</td>\n",
       "      <td>95000.00</td>\n",
       "      <td>1</td>\n",
       "      <td>1</td>\n",
       "      <td>1</td>\n",
       "      <td>2014</td>\n",
       "      <td>1</td>\n",
       "      <td>Palmerstown</td>\n",
       "      <td>0</td>\n",
       "      <td>...</td>\n",
       "      <td>8.400802</td>\n",
       "      <td>0.319564</td>\n",
       "      <td>1.909348</td>\n",
       "      <td>3.576775</td>\n",
       "      <td>0.262801</td>\n",
       "      <td>7.051363</td>\n",
       "      <td>3.811554</td>\n",
       "      <td>18.189754</td>\n",
       "      <td>6.208934</td>\n",
       "      <td>1.206681</td>\n",
       "    </tr>\n",
       "    <tr>\n",
       "      <th>207929</th>\n",
       "      <td>17 Churchview Apts, Church Rd, Drumcondra</td>\n",
       "      <td>Dublin</td>\n",
       "      <td>152000.00</td>\n",
       "      <td>1</td>\n",
       "      <td>1</td>\n",
       "      <td>2</td>\n",
       "      <td>2014</td>\n",
       "      <td>1</td>\n",
       "      <td>Drumcondra</td>\n",
       "      <td>1</td>\n",
       "      <td>...</td>\n",
       "      <td>2.225835</td>\n",
       "      <td>0.085034</td>\n",
       "      <td>0.909828</td>\n",
       "      <td>1.942439</td>\n",
       "      <td>0.597393</td>\n",
       "      <td>1.805008</td>\n",
       "      <td>0.902578</td>\n",
       "      <td>10.897507</td>\n",
       "      <td>1.587952</td>\n",
       "      <td>1.815296</td>\n",
       "    </tr>\n",
       "  </tbody>\n",
       "</table>\n",
       "<p>5 rows × 25 columns</p>\n",
       "</div>"
      ],
      "text/plain": [
       "                                                  Address  County  Price (€)  \\\n",
       "207901                        55 College Square, Terenure  Dublin  447200.00   \n",
       "207905   Number 7 Belfort House, Sydenham Villas, Dundrum  Dublin  398000.00   \n",
       "207916  Apartment 16 Cedar Grove, Firhouse Road, Templ...  Dublin  196035.24   \n",
       "207925                 75 Palmerstown Avenue, Palmerstown  Dublin   95000.00   \n",
       "207929          17 Churchview Apts, Church Rd, Drumcondra  Dublin  152000.00   \n",
       "\n",
       "        VAT Exclusive  UsedProperty  Property Size Description  Year  Month  \\\n",
       "207901              0             0                          1  2014      1   \n",
       "207905              1             1                          0  2014      1   \n",
       "207916              0             0                          1  2014      1   \n",
       "207925              1             1                          1  2014      1   \n",
       "207929              1             1                          2  2014      1   \n",
       "\n",
       "                  Town  Apartment  ... DistanceIFSC  DistanceSchool  \\\n",
       "207901        Terenure          0  ...     7.541595        0.492120   \n",
       "207905  Dundrum Dublin          0  ...     6.817210        0.100996   \n",
       "207916      Templeogue          1  ...     7.799393        0.683556   \n",
       "207925     Palmerstown          0  ...     8.400802        0.319564   \n",
       "207929      Drumcondra          1  ...     2.225835        0.085034   \n",
       "\n",
       "       DistancePark  DistanceLuas  DistanceSecSchool  DistanceGPO  \\\n",
       "207901     1.438826      2.020029           0.156609     6.587209   \n",
       "207905     2.784711      0.274841           0.831639     7.118560   \n",
       "207916     3.098765      3.760897           0.968202     7.197697   \n",
       "207925     1.909348      3.576775           0.262801     7.051363   \n",
       "207929     0.909828      1.942439           0.597393     1.805008   \n",
       "\n",
       "        DistanceHospital  DistanceBeach  DistanceCar  DistanceShops  \n",
       "207901          2.344404      18.071721     5.427900       3.568079  \n",
       "207905          3.635958      14.874822     5.905557       0.255856  \n",
       "207916          3.879724      17.923987     6.179356       3.002563  \n",
       "207925          3.811554      18.189754     6.208934       1.206681  \n",
       "207929          0.902578      10.897507     1.587952       1.815296  \n",
       "\n",
       "[5 rows x 25 columns]"
      ]
     },
     "execution_count": 6,
     "metadata": {},
     "output_type": "execute_result"
    }
   ],
   "source": [
    "irl1.head()"
   ]
  },
  {
   "cell_type": "code",
   "execution_count": 7,
   "id": "5aff74c9",
   "metadata": {},
   "outputs": [
    {
     "data": {
      "text/html": [
       "<div>\n",
       "<style scoped>\n",
       "    .dataframe tbody tr th:only-of-type {\n",
       "        vertical-align: middle;\n",
       "    }\n",
       "\n",
       "    .dataframe tbody tr th {\n",
       "        vertical-align: top;\n",
       "    }\n",
       "\n",
       "    .dataframe thead th {\n",
       "        text-align: right;\n",
       "    }\n",
       "</style>\n",
       "<table border=\"1\" class=\"dataframe\">\n",
       "  <thead>\n",
       "    <tr style=\"text-align: right;\">\n",
       "      <th></th>\n",
       "      <th>UsedProperty</th>\n",
       "      <th>Property Size Description</th>\n",
       "      <th>Year</th>\n",
       "      <th>Month</th>\n",
       "      <th>Town</th>\n",
       "      <th>Apartment</th>\n",
       "      <th>Neighbourhood</th>\n",
       "      <th>Eircode</th>\n",
       "      <th>DistanceIFSC</th>\n",
       "      <th>DistanceSchool</th>\n",
       "      <th>DistancePark</th>\n",
       "      <th>DistanceSecSchool</th>\n",
       "    </tr>\n",
       "  </thead>\n",
       "  <tbody>\n",
       "    <tr>\n",
       "      <th>207901</th>\n",
       "      <td>0</td>\n",
       "      <td>1</td>\n",
       "      <td>2014</td>\n",
       "      <td>1</td>\n",
       "      <td>601864.418417</td>\n",
       "      <td>0</td>\n",
       "      <td>899721.0</td>\n",
       "      <td>628715.337138</td>\n",
       "      <td>7.541595</td>\n",
       "      <td>0.492120</td>\n",
       "      <td>1.438826</td>\n",
       "      <td>0.156609</td>\n",
       "    </tr>\n",
       "    <tr>\n",
       "      <th>207905</th>\n",
       "      <td>1</td>\n",
       "      <td>0</td>\n",
       "      <td>2014</td>\n",
       "      <td>1</td>\n",
       "      <td>651335.338306</td>\n",
       "      <td>0</td>\n",
       "      <td>1661424.0</td>\n",
       "      <td>651335.338306</td>\n",
       "      <td>6.817210</td>\n",
       "      <td>0.100996</td>\n",
       "      <td>2.784711</td>\n",
       "      <td>0.831639</td>\n",
       "    </tr>\n",
       "    <tr>\n",
       "      <th>207916</th>\n",
       "      <td>0</td>\n",
       "      <td>1</td>\n",
       "      <td>2014</td>\n",
       "      <td>1</td>\n",
       "      <td>741771.837018</td>\n",
       "      <td>1</td>\n",
       "      <td>597863.0</td>\n",
       "      <td>628715.337138</td>\n",
       "      <td>7.799393</td>\n",
       "      <td>0.683556</td>\n",
       "      <td>3.098765</td>\n",
       "      <td>0.968202</td>\n",
       "    </tr>\n",
       "    <tr>\n",
       "      <th>207925</th>\n",
       "      <td>1</td>\n",
       "      <td>1</td>\n",
       "      <td>2014</td>\n",
       "      <td>1</td>\n",
       "      <td>414681.974545</td>\n",
       "      <td>0</td>\n",
       "      <td>334587.0</td>\n",
       "      <td>406163.221538</td>\n",
       "      <td>8.400802</td>\n",
       "      <td>0.319564</td>\n",
       "      <td>1.909348</td>\n",
       "      <td>0.262801</td>\n",
       "    </tr>\n",
       "    <tr>\n",
       "      <th>207929</th>\n",
       "      <td>1</td>\n",
       "      <td>2</td>\n",
       "      <td>2014</td>\n",
       "      <td>1</td>\n",
       "      <td>570683.081926</td>\n",
       "      <td>1</td>\n",
       "      <td>305308.0</td>\n",
       "      <td>411979.725512</td>\n",
       "      <td>2.225835</td>\n",
       "      <td>0.085034</td>\n",
       "      <td>0.909828</td>\n",
       "      <td>0.597393</td>\n",
       "    </tr>\n",
       "  </tbody>\n",
       "</table>\n",
       "</div>"
      ],
      "text/plain": [
       "        UsedProperty  Property Size Description  Year  Month           Town  \\\n",
       "207901             0                          1  2014      1  601864.418417   \n",
       "207905             1                          0  2014      1  651335.338306   \n",
       "207916             0                          1  2014      1  741771.837018   \n",
       "207925             1                          1  2014      1  414681.974545   \n",
       "207929             1                          2  2014      1  570683.081926   \n",
       "\n",
       "        Apartment  Neighbourhood        Eircode  DistanceIFSC  DistanceSchool  \\\n",
       "207901          0       899721.0  628715.337138      7.541595        0.492120   \n",
       "207905          0      1661424.0  651335.338306      6.817210        0.100996   \n",
       "207916          1       597863.0  628715.337138      7.799393        0.683556   \n",
       "207925          0       334587.0  406163.221538      8.400802        0.319564   \n",
       "207929          1       305308.0  411979.725512      2.225835        0.085034   \n",
       "\n",
       "        DistancePark  DistanceSecSchool  \n",
       "207901      1.438826           0.156609  \n",
       "207905      2.784711           0.831639  \n",
       "207916      3.098765           0.968202  \n",
       "207925      1.909348           0.262801  \n",
       "207929      0.909828           0.597393  "
      ]
     },
     "execution_count": 7,
     "metadata": {},
     "output_type": "execute_result"
    }
   ],
   "source": [
    "irl.head()"
   ]
  },
  {
   "cell_type": "code",
   "execution_count": 8,
   "id": "47b1eb88",
   "metadata": {},
   "outputs": [],
   "source": [
    "irl = irl.join(irl1[['Longitude', 'Latitude', 'Price (€)']])"
   ]
  },
  {
   "cell_type": "code",
   "execution_count": 9,
   "id": "8200428e",
   "metadata": {},
   "outputs": [
    {
     "data": {
      "text/html": [
       "<div>\n",
       "<style scoped>\n",
       "    .dataframe tbody tr th:only-of-type {\n",
       "        vertical-align: middle;\n",
       "    }\n",
       "\n",
       "    .dataframe tbody tr th {\n",
       "        vertical-align: top;\n",
       "    }\n",
       "\n",
       "    .dataframe thead th {\n",
       "        text-align: right;\n",
       "    }\n",
       "</style>\n",
       "<table border=\"1\" class=\"dataframe\">\n",
       "  <thead>\n",
       "    <tr style=\"text-align: right;\">\n",
       "      <th></th>\n",
       "      <th>UsedProperty</th>\n",
       "      <th>Property Size Description</th>\n",
       "      <th>Year</th>\n",
       "      <th>Month</th>\n",
       "      <th>Town</th>\n",
       "      <th>Apartment</th>\n",
       "      <th>Neighbourhood</th>\n",
       "      <th>Eircode</th>\n",
       "      <th>DistanceIFSC</th>\n",
       "      <th>DistanceSchool</th>\n",
       "      <th>DistancePark</th>\n",
       "      <th>DistanceSecSchool</th>\n",
       "      <th>Longitude</th>\n",
       "      <th>Latitude</th>\n",
       "      <th>LogPrice (€)</th>\n",
       "    </tr>\n",
       "  </thead>\n",
       "  <tbody>\n",
       "    <tr>\n",
       "      <th>207901</th>\n",
       "      <td>0</td>\n",
       "      <td>1</td>\n",
       "      <td>2014</td>\n",
       "      <td>1</td>\n",
       "      <td>601864.418417</td>\n",
       "      <td>0</td>\n",
       "      <td>899721.0</td>\n",
       "      <td>628715.337138</td>\n",
       "      <td>7.541595</td>\n",
       "      <td>0.492120</td>\n",
       "      <td>1.438826</td>\n",
       "      <td>0.156609</td>\n",
       "      <td>-6.335665</td>\n",
       "      <td>53.307878</td>\n",
       "      <td>13.010761</td>\n",
       "    </tr>\n",
       "    <tr>\n",
       "      <th>207905</th>\n",
       "      <td>1</td>\n",
       "      <td>0</td>\n",
       "      <td>2014</td>\n",
       "      <td>1</td>\n",
       "      <td>651335.338306</td>\n",
       "      <td>0</td>\n",
       "      <td>1661424.0</td>\n",
       "      <td>651335.338306</td>\n",
       "      <td>6.817210</td>\n",
       "      <td>0.100996</td>\n",
       "      <td>2.784711</td>\n",
       "      <td>0.831639</td>\n",
       "      <td>-6.238896</td>\n",
       "      <td>53.288227</td>\n",
       "      <td>12.894207</td>\n",
       "    </tr>\n",
       "    <tr>\n",
       "      <th>207916</th>\n",
       "      <td>0</td>\n",
       "      <td>1</td>\n",
       "      <td>2014</td>\n",
       "      <td>1</td>\n",
       "      <td>741771.837018</td>\n",
       "      <td>1</td>\n",
       "      <td>597863.0</td>\n",
       "      <td>628715.337138</td>\n",
       "      <td>7.799393</td>\n",
       "      <td>0.683556</td>\n",
       "      <td>3.098765</td>\n",
       "      <td>0.968202</td>\n",
       "      <td>-6.312400</td>\n",
       "      <td>53.291600</td>\n",
       "      <td>12.186050</td>\n",
       "    </tr>\n",
       "    <tr>\n",
       "      <th>207925</th>\n",
       "      <td>1</td>\n",
       "      <td>1</td>\n",
       "      <td>2014</td>\n",
       "      <td>1</td>\n",
       "      <td>414681.974545</td>\n",
       "      <td>0</td>\n",
       "      <td>334587.0</td>\n",
       "      <td>406163.221538</td>\n",
       "      <td>8.400802</td>\n",
       "      <td>0.319564</td>\n",
       "      <td>1.909348</td>\n",
       "      <td>0.262801</td>\n",
       "      <td>-6.372213</td>\n",
       "      <td>53.353853</td>\n",
       "      <td>11.461632</td>\n",
       "    </tr>\n",
       "    <tr>\n",
       "      <th>207929</th>\n",
       "      <td>1</td>\n",
       "      <td>2</td>\n",
       "      <td>2014</td>\n",
       "      <td>1</td>\n",
       "      <td>570683.081926</td>\n",
       "      <td>1</td>\n",
       "      <td>305308.0</td>\n",
       "      <td>411979.725512</td>\n",
       "      <td>2.225835</td>\n",
       "      <td>0.085034</td>\n",
       "      <td>0.909828</td>\n",
       "      <td>0.597393</td>\n",
       "      <td>-6.263792</td>\n",
       "      <td>53.366311</td>\n",
       "      <td>11.931636</td>\n",
       "    </tr>\n",
       "  </tbody>\n",
       "</table>\n",
       "</div>"
      ],
      "text/plain": [
       "        UsedProperty  Property Size Description  Year  Month           Town  \\\n",
       "207901             0                          1  2014      1  601864.418417   \n",
       "207905             1                          0  2014      1  651335.338306   \n",
       "207916             0                          1  2014      1  741771.837018   \n",
       "207925             1                          1  2014      1  414681.974545   \n",
       "207929             1                          2  2014      1  570683.081926   \n",
       "\n",
       "        Apartment  Neighbourhood        Eircode  DistanceIFSC  DistanceSchool  \\\n",
       "207901          0       899721.0  628715.337138      7.541595        0.492120   \n",
       "207905          0      1661424.0  651335.338306      6.817210        0.100996   \n",
       "207916          1       597863.0  628715.337138      7.799393        0.683556   \n",
       "207925          0       334587.0  406163.221538      8.400802        0.319564   \n",
       "207929          1       305308.0  411979.725512      2.225835        0.085034   \n",
       "\n",
       "        DistancePark  DistanceSecSchool  Longitude   Latitude  LogPrice (€)  \n",
       "207901      1.438826           0.156609  -6.335665  53.307878     13.010761  \n",
       "207905      2.784711           0.831639  -6.238896  53.288227     12.894207  \n",
       "207916      3.098765           0.968202  -6.312400  53.291600     12.186050  \n",
       "207925      1.909348           0.262801  -6.372213  53.353853     11.461632  \n",
       "207929      0.909828           0.597393  -6.263792  53.366311     11.931636  "
      ]
     },
     "execution_count": 9,
     "metadata": {},
     "output_type": "execute_result"
    }
   ],
   "source": [
    "# predicting standard\n",
    "irl['LogPrice (€)'] = np.log(irl['Price (€)'])\n",
    "irl.drop(columns = ['Price (€)'], inplace = True)\n",
    "irl.head()"
   ]
  },
  {
   "cell_type": "code",
   "execution_count": 10,
   "id": "7da6a18c",
   "metadata": {},
   "outputs": [],
   "source": [
    "# this function finds all values that fall within internationally accepted +-10% of actual prices in our predictions\n",
    "# we can modify the threshold as we feel the need to here\n",
    "def accuracy_threshold(test, pred, num):\n",
    "    test = np.array(test)\n",
    "    pred = np.array(pred)\n",
    "# get within x% of actual price , not within log price as this will be misleading / incorrect\n",
    "    test = np.exp(test)\n",
    "    pred = np.exp(pred)\n",
    "    count = 0\n",
    "    for i in range(len(pred)):\n",
    "        if test[i] != 0:  \n",
    "            ten = test[i] * num\n",
    "            res = test[i] - pred[i]\n",
    "        else:\n",
    "            res = 0\n",
    "            ten = 0\n",
    "        \n",
    "        if res < 0:\n",
    "            res = res * -1\n",
    "        else:\n",
    "            res = res\n",
    "            \n",
    "        if res <= ten:\n",
    "            count += 1\n",
    "        else:\n",
    "            continue\n",
    "    return (count / len(test))"
   ]
  },
  {
   "cell_type": "code",
   "execution_count": 11,
   "id": "86f436dc",
   "metadata": {},
   "outputs": [],
   "source": [
    "from tpot import TPOTRegressor\n",
    "from sklearn.model_selection import RepeatedKFold"
   ]
  },
  {
   "cell_type": "markdown",
   "id": "565a9cfb",
   "metadata": {},
   "source": [
    "## 2021"
   ]
  },
  {
   "cell_type": "markdown",
   "id": "bc44a426",
   "metadata": {},
   "source": [
    "### TPOT"
   ]
  },
  {
   "cell_type": "code",
   "execution_count": 12,
   "id": "55e539b6",
   "metadata": {},
   "outputs": [],
   "source": [
    "specific21 = irl[irl['Year'] > 2017]"
   ]
  },
  {
   "cell_type": "code",
   "execution_count": 13,
   "id": "8d93800f",
   "metadata": {},
   "outputs": [],
   "source": [
    "train_21 = specific21[specific21['Year'] < 2021]"
   ]
  },
  {
   "cell_type": "code",
   "execution_count": 14,
   "id": "efd7b7dc",
   "metadata": {},
   "outputs": [],
   "source": [
    "test_21 = specific21[specific21['Year'] == 2021]"
   ]
  },
  {
   "cell_type": "code",
   "execution_count": 15,
   "id": "368bb2e2",
   "metadata": {},
   "outputs": [],
   "source": [
    "x_train_21 = train_21.loc[:, train_21.columns != 'LogPrice (€)']\n",
    "y_train_21 = train_21['LogPrice (€)']"
   ]
  },
  {
   "cell_type": "code",
   "execution_count": 16,
   "id": "2eeb6f81",
   "metadata": {},
   "outputs": [],
   "source": [
    "x_test_21 = test_21.loc[:, test_21.columns != 'LogPrice (€)']\n",
    "y_test_21 = test_21['LogPrice (€)']"
   ]
  },
  {
   "cell_type": "code",
   "execution_count": 17,
   "id": "a78439cb",
   "metadata": {},
   "outputs": [],
   "source": [
    "x_t_21 = x_test_21"
   ]
  },
  {
   "cell_type": "code",
   "execution_count": 18,
   "id": "1073c7fa",
   "metadata": {},
   "outputs": [],
   "source": [
    "#cv = RepeatedKFold(n_splits = 10, n_repeats = 3, random_state = 1)\n",
    "# define search\n",
    "model = TPOTRegressor(max_time_mins = 6)\n",
    "model1 = model.fit(x_train_21, y_train_21)"
   ]
  },
  {
   "cell_type": "code",
   "execution_count": 19,
   "id": "33321d75",
   "metadata": {},
   "outputs": [],
   "source": [
    "#model1.export('tpot_2021_pipeline.py')"
   ]
  },
  {
   "cell_type": "code",
   "execution_count": 20,
   "id": "bce6b573",
   "metadata": {},
   "outputs": [
    {
     "name": "stdout",
     "output_type": "stream",
     "text": [
      "MSE for TPOT AutoML 2021 is: 0.10578430890121511\n"
     ]
    }
   ],
   "source": [
    "# calculated values\n",
    "from sklearn.metrics import mean_squared_error\n",
    "y_predicted_21 = model1.predict(x_test_21)\n",
    "  \n",
    "# Calculation of Mean Squared Error (MSE)\n",
    "mse = mean_squared_error(y_test_21, y_predicted_21)\n",
    "print('MSE for TPOT AutoML 2021 is: ' + str(mse))"
   ]
  },
  {
   "cell_type": "code",
   "execution_count": 21,
   "id": "b3356797",
   "metadata": {},
   "outputs": [
    {
     "name": "stdout",
     "output_type": "stream",
     "text": [
      "RMSE for TPOT AutoML 2021 is: 0.3252449982724025\n"
     ]
    }
   ],
   "source": [
    "rmse = mean_squared_error(y_test_21, y_predicted_21, squared=False)\n",
    "print('RMSE for TPOT AutoML 2021 is: ' + str(rmse))"
   ]
  },
  {
   "cell_type": "code",
   "execution_count": 22,
   "id": "d78523da",
   "metadata": {},
   "outputs": [
    {
     "name": "stdout",
     "output_type": "stream",
     "text": [
      "Median Absolute Error:\n",
      "\n",
      "0.12806837959357864\n"
     ]
    }
   ],
   "source": [
    "median_se = np.square(np.subtract(y_test_21, y_predicted_21)).median() \n",
    " \n",
    "med = math.sqrt(median_se)\n",
    "print(\"Median Absolute Error:\\n\")\n",
    "print(med)"
   ]
  },
  {
   "cell_type": "code",
   "execution_count": 23,
   "id": "83d7cc9d",
   "metadata": {},
   "outputs": [
    {
     "name": "stdout",
     "output_type": "stream",
     "text": [
      "MAPE for TPOT AutoML 2021 is: 0.01642166850481989\n"
     ]
    }
   ],
   "source": [
    "from sklearn.metrics import mean_absolute_percentage_error\n",
    "mape = mean_absolute_percentage_error(y_test_21, y_predicted_21)\n",
    "print(\"MAPE for TPOT AutoML 2021 is: \" + str(mape))"
   ]
  },
  {
   "cell_type": "code",
   "execution_count": 24,
   "id": "7e8ea466",
   "metadata": {},
   "outputs": [],
   "source": [
    "acc = accuracy_threshold(y_test_21, y_predicted_21, 0.1)"
   ]
  },
  {
   "cell_type": "code",
   "execution_count": 25,
   "id": "79c07761",
   "metadata": {},
   "outputs": [],
   "source": [
    "import shap\n",
    "#explainer = shap.Explainer(model1.predict, x_train_21)\n",
    "#shap_values = explainer(x_train_21)\n",
    "#shap.summary_plot(shap_values, x_train_21, plot_type = 'bar')"
   ]
  },
  {
   "cell_type": "code",
   "execution_count": 26,
   "id": "dbc0727b",
   "metadata": {},
   "outputs": [],
   "source": [
    "cnames=['Algorithm', 'Year', 'RMSE', 'MSE', 'MEDAE', 'Accuracy', 'MAPE']\n",
    "df11 = pd.DataFrame(columns=cnames)\n",
    "\n",
    "df11 = df11.append({'Algorithm': 'TPOT AutoML',\n",
    "            'Year': 2021,\n",
    "           'RMSE': rmse,\n",
    "           'MSE': mse,\n",
    "           'MEDAE': med,\n",
    "           'Accuracy': acc,\n",
    "           'MAPE': mape         \n",
    "          }, ignore_index=True)"
   ]
  },
  {
   "cell_type": "code",
   "execution_count": 27,
   "id": "c4849d9a",
   "metadata": {},
   "outputs": [],
   "source": [
    "dfreal1 = pd.DataFrame(y_test_21.values)\n",
    "dfpred1 = pd.DataFrame(y_predicted_21)"
   ]
  },
  {
   "cell_type": "markdown",
   "id": "d9dba387",
   "metadata": {},
   "source": [
    "### 2020"
   ]
  },
  {
   "cell_type": "code",
   "execution_count": 28,
   "id": "0d67d885",
   "metadata": {},
   "outputs": [],
   "source": [
    "specific20 = irl[irl['Year'] > 2016]"
   ]
  },
  {
   "cell_type": "code",
   "execution_count": 29,
   "id": "bb40ee6f",
   "metadata": {},
   "outputs": [],
   "source": [
    "test_20 = specific20[specific20['Year'] == 2020]\n",
    "train_20 = specific20[specific20['Year'] < 2020]\n",
    "\n",
    "x_train_20 = train_20.loc[:, train_20.columns != 'LogPrice (€)']\n",
    "y_train_20 = train_20['LogPrice (€)']\n",
    "\n",
    "x_test_20 = test_20.loc[:, test_20.columns != 'LogPrice (€)']\n",
    "y_test_20 = test_20['LogPrice (€)']"
   ]
  },
  {
   "cell_type": "code",
   "execution_count": 30,
   "id": "1b07ebfd",
   "metadata": {},
   "outputs": [],
   "source": [
    "x_t_20 = x_test_20"
   ]
  },
  {
   "cell_type": "code",
   "execution_count": 31,
   "id": "55c147e6",
   "metadata": {},
   "outputs": [],
   "source": [
    "model = TPOTRegressor(max_time_mins = 6)\n",
    "model2 = model.fit(x_train_20, y_train_20)"
   ]
  },
  {
   "cell_type": "code",
   "execution_count": 32,
   "id": "290c9a8e",
   "metadata": {},
   "outputs": [],
   "source": [
    "#model2.export('tpot_2020_pipeline.py')"
   ]
  },
  {
   "cell_type": "code",
   "execution_count": 33,
   "id": "416b6d51",
   "metadata": {},
   "outputs": [
    {
     "name": "stdout",
     "output_type": "stream",
     "text": [
      "MSE for TPOT AutoML 2020 is: 0.03006525874071164\n"
     ]
    }
   ],
   "source": [
    "y_predicted_20 = model1.predict(x_test_20)\n",
    "  \n",
    "# Calculation of Mean Squared Error (MSE)\n",
    "mse = mean_squared_error(y_test_20, y_predicted_20)\n",
    "print('MSE for TPOT AutoML 2020 is: ' + str(mse))"
   ]
  },
  {
   "cell_type": "code",
   "execution_count": 34,
   "id": "e355b1e4",
   "metadata": {},
   "outputs": [
    {
     "name": "stdout",
     "output_type": "stream",
     "text": [
      "MAPE for TPOT AutoML 2020 is: 0.008094740202828795\n"
     ]
    }
   ],
   "source": [
    "from sklearn.metrics import mean_absolute_percentage_error\n",
    "mape = mean_absolute_percentage_error(y_test_20, y_predicted_20)\n",
    "print(\"MAPE for TPOT AutoML 2020 is: \" + str(mape))"
   ]
  },
  {
   "cell_type": "code",
   "execution_count": 35,
   "id": "09781a7c",
   "metadata": {},
   "outputs": [
    {
     "name": "stdout",
     "output_type": "stream",
     "text": [
      "Median Absolute Error:\n",
      "\n",
      "0.05535986090449008\n"
     ]
    }
   ],
   "source": [
    "median_se = np.square(np.subtract(y_test_20, y_predicted_20)).median() \n",
    " \n",
    "med = math.sqrt(median_se)\n",
    "print(\"Median Absolute Error:\\n\")\n",
    "print(med)"
   ]
  },
  {
   "cell_type": "code",
   "execution_count": 36,
   "id": "76e10acc",
   "metadata": {},
   "outputs": [
    {
     "name": "stdout",
     "output_type": "stream",
     "text": [
      "RMSE for TPOT AutoML 2020 is: 0.17339336417727075\n"
     ]
    }
   ],
   "source": [
    "rmse = mean_squared_error(y_test_20, y_predicted_20, squared=False)\n",
    "print('RMSE for TPOT AutoML 2020 is: ' + str(rmse))"
   ]
  },
  {
   "cell_type": "code",
   "execution_count": 37,
   "id": "871be6ce",
   "metadata": {},
   "outputs": [],
   "source": [
    "acc = accuracy_threshold(y_test_20, y_predicted_20, 0.1)"
   ]
  },
  {
   "cell_type": "code",
   "execution_count": 38,
   "id": "1675f7ae",
   "metadata": {},
   "outputs": [],
   "source": [
    "cnames=['Algorithm', 'Year', 'RMSE', 'MSE', 'MEDAE', 'Accuracy', 'MAPE']\n",
    "df12 = pd.DataFrame(columns=cnames)\n",
    "\n",
    "df12 = df12.append({'Algorithm': 'TPOT AutoML',\n",
    "            'Year': 2020,\n",
    "           'RMSE': rmse,\n",
    "           'MSE': mse,\n",
    "           'MEDAE': med,\n",
    "           'Accuracy': acc,\n",
    "           'MAPE': mape         \n",
    "          }, ignore_index=True)"
   ]
  },
  {
   "cell_type": "code",
   "execution_count": 39,
   "id": "cf1310c8",
   "metadata": {},
   "outputs": [],
   "source": [
    "dfreal2 = pd.DataFrame(y_test_20.values)\n",
    "dfpred2 = pd.DataFrame(y_predicted_20)"
   ]
  },
  {
   "cell_type": "code",
   "execution_count": 40,
   "id": "15e2711c",
   "metadata": {},
   "outputs": [],
   "source": [
    "#explainer = shap.Explainer(model2.predict, x_train_20)\n",
    "#shap_values = explainer(x_train_20)\n",
    "#shap.summary_plot(shap_values, x_train_20, plot_type = 'bar')"
   ]
  },
  {
   "cell_type": "markdown",
   "id": "1b88f9b0",
   "metadata": {},
   "source": [
    "### 2019"
   ]
  },
  {
   "cell_type": "code",
   "execution_count": 41,
   "id": "7334741d",
   "metadata": {},
   "outputs": [],
   "source": [
    "specific19 = irl[irl['Year'] > 2015]"
   ]
  },
  {
   "cell_type": "code",
   "execution_count": 42,
   "id": "fc20af96",
   "metadata": {},
   "outputs": [],
   "source": [
    "test_19 = specific19[specific19['Year'] == 2019]\n",
    "train_19 = specific19[specific19['Year'] < 2019]\n",
    "x_train_19 = train_19.loc[:, train_19.columns != 'LogPrice (€)']\n",
    "y_train_19 = train_19['LogPrice (€)']\n",
    "x_test_19 = test_19.loc[:, test_19.columns != 'LogPrice (€)']\n",
    "y_test_19 = test_19['LogPrice (€)']"
   ]
  },
  {
   "cell_type": "code",
   "execution_count": 43,
   "id": "1c8df76a",
   "metadata": {},
   "outputs": [],
   "source": [
    "x_t_19 = x_test_19"
   ]
  },
  {
   "cell_type": "code",
   "execution_count": 44,
   "id": "11df60b0",
   "metadata": {},
   "outputs": [],
   "source": [
    "model = TPOTRegressor(max_time_mins = 6)\n",
    "# perform the search // takes ages to run!\n",
    "model3 = model.fit(x_train_19, y_train_19)"
   ]
  },
  {
   "cell_type": "code",
   "execution_count": 45,
   "id": "0f8c2583",
   "metadata": {},
   "outputs": [],
   "source": [
    "#model3.export('tpot_2019_pipeline.py')"
   ]
  },
  {
   "cell_type": "code",
   "execution_count": 46,
   "id": "1ad0f284",
   "metadata": {},
   "outputs": [
    {
     "name": "stdout",
     "output_type": "stream",
     "text": [
      "MSE for TPOT AutoML 2019 is: 0.022920023313453834\n"
     ]
    }
   ],
   "source": [
    "y_predicted_19 = model1.predict(x_test_19)\n",
    "  \n",
    "# Calculation of Mean Squared Error (MSE)\n",
    "mse = mean_squared_error(y_test_19, y_predicted_19)\n",
    "print('MSE for TPOT AutoML 2019 is: ' + str(mse))"
   ]
  },
  {
   "cell_type": "code",
   "execution_count": 47,
   "id": "6e417e0e",
   "metadata": {},
   "outputs": [
    {
     "name": "stdout",
     "output_type": "stream",
     "text": [
      "MAPE for TPOT AutoML 2019 is: 0.007502104689802522\n"
     ]
    }
   ],
   "source": [
    "from sklearn.metrics import mean_absolute_percentage_error\n",
    "mape = mean_absolute_percentage_error(y_test_19, y_predicted_19)\n",
    "print(\"MAPE for TPOT AutoML 2019 is: \" + str(mape))"
   ]
  },
  {
   "cell_type": "code",
   "execution_count": 48,
   "id": "8d058427",
   "metadata": {},
   "outputs": [
    {
     "name": "stdout",
     "output_type": "stream",
     "text": [
      "Median Absolute Error:\n",
      "\n",
      "0.06074037291693062\n"
     ]
    }
   ],
   "source": [
    "median_se = np.square(np.subtract(y_test_19, y_predicted_19)).median() \n",
    " \n",
    "med = math.sqrt(median_se)\n",
    "print(\"Median Absolute Error:\\n\")\n",
    "print(med)"
   ]
  },
  {
   "cell_type": "code",
   "execution_count": 49,
   "id": "39bc82a7",
   "metadata": {},
   "outputs": [
    {
     "name": "stdout",
     "output_type": "stream",
     "text": [
      "RMSE for TPOT AutoML 2019 is: 0.15139360393838913\n"
     ]
    }
   ],
   "source": [
    "rmse = mean_squared_error(y_test_19, y_predicted_19, squared = False)\n",
    "print('RMSE for TPOT AutoML 2019 is: ' + str(rmse))"
   ]
  },
  {
   "cell_type": "code",
   "execution_count": 50,
   "id": "942872cd",
   "metadata": {},
   "outputs": [],
   "source": [
    "acc = accuracy_threshold(y_test_19, y_predicted_19, 0.1)"
   ]
  },
  {
   "cell_type": "code",
   "execution_count": 51,
   "id": "7aebc483",
   "metadata": {},
   "outputs": [],
   "source": [
    "#explainer = shap.Explainer(model3.predict, x_train_19)\n",
    "#shap_values = explainer(x_train_19)\n",
    "#shap.summary_plot(shap_values, x_train_19, plot_type = 'bar')"
   ]
  },
  {
   "cell_type": "code",
   "execution_count": 52,
   "id": "2838e1fb",
   "metadata": {},
   "outputs": [],
   "source": [
    "cnames=['Algorithm', 'Year', 'RMSE', 'MSE', 'MEDAE', 'Accuracy', 'MAPE']\n",
    "df13 = pd.DataFrame(columns = cnames)\n",
    "\n",
    "df13 = df13.append({'Algorithm': 'TPOT AutoML',\n",
    "            'Year': 2019,\n",
    "           'RMSE': rmse,\n",
    "           'MSE': mse,\n",
    "           'MEDAE': med,\n",
    "           'Accuracy': acc,\n",
    "           'MAPE': mape         \n",
    "          }, ignore_index=True)"
   ]
  },
  {
   "cell_type": "code",
   "execution_count": 53,
   "id": "5fc22a85",
   "metadata": {},
   "outputs": [],
   "source": [
    "dfreal3 = pd.DataFrame(y_test_19.values)\n",
    "dfpred3 = pd.DataFrame(y_predicted_19)"
   ]
  },
  {
   "cell_type": "markdown",
   "id": "db8d148f",
   "metadata": {},
   "source": [
    "### 2018"
   ]
  },
  {
   "cell_type": "code",
   "execution_count": 54,
   "id": "e4f7f4f8",
   "metadata": {},
   "outputs": [],
   "source": [
    "specific18 = irl[irl['Year'] > 2014]\n",
    "test_18 = specific18[specific18['Year'] == 2018]\n",
    "train_18 = specific18[specific18['Year'] < 2018]\n",
    "\n",
    "x_train_18 = train_18.loc[:, train_18.columns != 'LogPrice (€)']\n",
    "y_train_18 = train_18['LogPrice (€)']\n",
    "x_test_18 = test_18.loc[:, test_18.columns != 'LogPrice (€)']\n",
    "y_test_18 = test_18['LogPrice (€)']"
   ]
  },
  {
   "cell_type": "code",
   "execution_count": 55,
   "id": "c19b80a2",
   "metadata": {},
   "outputs": [],
   "source": [
    "x_t_18 = x_test_18"
   ]
  },
  {
   "cell_type": "code",
   "execution_count": 56,
   "id": "c6e7b3fe",
   "metadata": {},
   "outputs": [],
   "source": [
    "model = TPOTRegressor(max_time_mins = 6)\n",
    "# perform the search // takes ages to run!\n",
    "model4 = model.fit(x_train_18, y_train_18)"
   ]
  },
  {
   "cell_type": "code",
   "execution_count": 57,
   "id": "8eec4772",
   "metadata": {},
   "outputs": [],
   "source": [
    "#model4.export('tpot_2018_pipeline.py')"
   ]
  },
  {
   "cell_type": "code",
   "execution_count": 58,
   "id": "ec805f86",
   "metadata": {},
   "outputs": [
    {
     "name": "stdout",
     "output_type": "stream",
     "text": [
      "MSE for TPOT AutoML 2018 is: 0.040060239406536725\n"
     ]
    }
   ],
   "source": [
    "y_predicted_18 = model1.predict(x_test_18)\n",
    "  \n",
    "# Calculation of Mean Squared Error (MSE)\n",
    "mse = mean_squared_error(y_test_18, y_predicted_18)\n",
    "print('MSE for TPOT AutoML 2018 is: ' + str(mse))"
   ]
  },
  {
   "cell_type": "code",
   "execution_count": 59,
   "id": "9c417178",
   "metadata": {},
   "outputs": [
    {
     "name": "stdout",
     "output_type": "stream",
     "text": [
      "RMSE for TPOT AutoML 2018 is: 0.20015054185921338\n"
     ]
    }
   ],
   "source": [
    "rmse = mean_squared_error(y_test_18, y_predicted_18, squared = False)\n",
    "print('RMSE for TPOT AutoML 2018 is: ' + str(rmse))"
   ]
  },
  {
   "cell_type": "code",
   "execution_count": 60,
   "id": "41e40583",
   "metadata": {},
   "outputs": [
    {
     "name": "stdout",
     "output_type": "stream",
     "text": [
      "MAPE for TPOT AutoML 2018 is: 0.008752316640225138\n"
     ]
    }
   ],
   "source": [
    "from sklearn.metrics import mean_absolute_percentage_error\n",
    "mape = mean_absolute_percentage_error(y_test_18, y_predicted_18)\n",
    "print(\"MAPE for TPOT AutoML 2018 is: \" + str(mape))"
   ]
  },
  {
   "cell_type": "code",
   "execution_count": 61,
   "id": "ff235f0c",
   "metadata": {},
   "outputs": [
    {
     "name": "stdout",
     "output_type": "stream",
     "text": [
      "Median Absolute Error:\n",
      "\n",
      "0.053687014462795446\n"
     ]
    }
   ],
   "source": [
    "median_se = np.square(np.subtract(y_test_18, y_predicted_18)).median() \n",
    " \n",
    "med = math.sqrt(median_se)\n",
    "print(\"Median Absolute Error:\\n\")\n",
    "print(med)"
   ]
  },
  {
   "cell_type": "code",
   "execution_count": 62,
   "id": "e4f71ccf",
   "metadata": {},
   "outputs": [],
   "source": [
    "acc = accuracy_threshold(y_test_18, y_predicted_18, 0.1)"
   ]
  },
  {
   "cell_type": "code",
   "execution_count": 63,
   "id": "830fe245",
   "metadata": {},
   "outputs": [],
   "source": [
    "#explainer = shap.Explainer(model4.predict, x_train_18)\n",
    "#shap_values = explainer(x_train_18)\n",
    "#shap.summary_plot(shap_values, x_train_18, plot_type = 'bar')"
   ]
  },
  {
   "cell_type": "code",
   "execution_count": 64,
   "id": "80dc53ea",
   "metadata": {},
   "outputs": [],
   "source": [
    "cnames=['Algorithm', 'Year', 'RMSE', 'MSE', 'MEDAE', 'Accuracy', 'MAPE']\n",
    "df14 = pd.DataFrame(columns=cnames)\n",
    "\n",
    "df14 = df14.append({'Algorithm': 'TPOT AutoML',\n",
    "            'Year': 2018,\n",
    "           'RMSE': rmse,\n",
    "           'MSE': mse,\n",
    "           'MEDAE': med,\n",
    "           'Accuracy': acc,\n",
    "           'MAPE': mape         \n",
    "          }, ignore_index=True)"
   ]
  },
  {
   "cell_type": "code",
   "execution_count": 65,
   "id": "d1ede4c8",
   "metadata": {},
   "outputs": [],
   "source": [
    "dfreal4 = pd.DataFrame(y_test_18.values)\n",
    "dfpred4 = pd.DataFrame(y_predicted_18)"
   ]
  },
  {
   "cell_type": "markdown",
   "id": "f17ba444",
   "metadata": {},
   "source": [
    "### 2017"
   ]
  },
  {
   "cell_type": "code",
   "execution_count": 66,
   "id": "54a16f8e",
   "metadata": {},
   "outputs": [],
   "source": [
    "specific17 = irl[irl['Year'] > 2013]\n",
    "test_17 = specific17[specific17['Year'] == 2017]\n",
    "train_17 = specific17[specific17['Year'] < 2017]\n",
    "\n",
    "x_train_17 = train_17.loc[:, train_17.columns != 'LogPrice (€)']\n",
    "y_train_17 = train_17['LogPrice (€)']\n",
    "x_test_17 = test_17.loc[:, test_17.columns != 'LogPrice (€)']\n",
    "y_test_17 = test_17['LogPrice (€)']"
   ]
  },
  {
   "cell_type": "code",
   "execution_count": 67,
   "id": "f1f97f71",
   "metadata": {},
   "outputs": [],
   "source": [
    "x_t_17 = x_test_17"
   ]
  },
  {
   "cell_type": "code",
   "execution_count": 68,
   "id": "b6513a2c",
   "metadata": {},
   "outputs": [],
   "source": [
    "model = TPOTRegressor(max_time_mins = 6)\n",
    "# perform the search // takes ages to run!\n",
    "model5 = model.fit(x_train_17, y_train_17)"
   ]
  },
  {
   "cell_type": "code",
   "execution_count": 69,
   "id": "6afde390",
   "metadata": {},
   "outputs": [],
   "source": [
    "#model5.export('tpot_2017_pipeline.py')"
   ]
  },
  {
   "cell_type": "code",
   "execution_count": 70,
   "id": "9ebc3aa9",
   "metadata": {},
   "outputs": [
    {
     "name": "stdout",
     "output_type": "stream",
     "text": [
      "MSE for TPOT AutoML 2017 is: 0.10310183822709278\n"
     ]
    }
   ],
   "source": [
    "y_predicted_17 = model1.predict(x_test_17)\n",
    "  \n",
    "# Calculation of Mean Squared Error (MSE)\n",
    "mse = mean_squared_error(y_test_17, y_predicted_17)\n",
    "print('MSE for TPOT AutoML 2017 is: ' + str(mse))"
   ]
  },
  {
   "cell_type": "code",
   "execution_count": 71,
   "id": "edeb7f03",
   "metadata": {},
   "outputs": [
    {
     "name": "stdout",
     "output_type": "stream",
     "text": [
      "MAPE for TPOT AutoML 2017 is: 0.016996704161168878\n"
     ]
    }
   ],
   "source": [
    "from sklearn.metrics import mean_absolute_percentage_error\n",
    "mape = mean_absolute_percentage_error(y_test_17, y_predicted_17)\n",
    "print(\"MAPE for TPOT AutoML 2017 is: \" + str(mape))"
   ]
  },
  {
   "cell_type": "code",
   "execution_count": 72,
   "id": "e7f5ec5f",
   "metadata": {},
   "outputs": [
    {
     "name": "stdout",
     "output_type": "stream",
     "text": [
      "Median Absolute Error:\n",
      "\n",
      "0.14350896765926607\n"
     ]
    }
   ],
   "source": [
    "median_se = np.square(np.subtract(y_test_17, y_predicted_17)).median() \n",
    " \n",
    "med = math.sqrt(median_se)\n",
    "print(\"Median Absolute Error:\\n\")\n",
    "print(med)"
   ]
  },
  {
   "cell_type": "code",
   "execution_count": 73,
   "id": "4df87b20",
   "metadata": {},
   "outputs": [
    {
     "name": "stdout",
     "output_type": "stream",
     "text": [
      "RMSE for TPOT AutoML 2017 is: 0.32109474960997536\n"
     ]
    }
   ],
   "source": [
    "rmse = mean_squared_error(y_test_17, y_predicted_17, squared=False)\n",
    "print('RMSE for TPOT AutoML 2017 is: ' + str(rmse))"
   ]
  },
  {
   "cell_type": "code",
   "execution_count": 74,
   "id": "1ffd42fe",
   "metadata": {},
   "outputs": [],
   "source": [
    "acc = accuracy_threshold(y_test_17, y_predicted_17, 0.1)"
   ]
  },
  {
   "cell_type": "code",
   "execution_count": 75,
   "id": "92bb6972",
   "metadata": {},
   "outputs": [],
   "source": [
    "#explainer = shap.Explainer(model5.predict, x_train_17)\n",
    "#shap_values = explainer(x_train_17)\n",
    "#shap.summary_plot(shap_values, x_train_17, plot_type = 'bar')"
   ]
  },
  {
   "cell_type": "code",
   "execution_count": 76,
   "id": "7fafc213",
   "metadata": {},
   "outputs": [],
   "source": [
    "dfreal5 = pd.DataFrame(y_test_17.values)\n",
    "dfpred5 = pd.DataFrame(y_predicted_17)"
   ]
  },
  {
   "cell_type": "code",
   "execution_count": 77,
   "id": "fef6770d",
   "metadata": {},
   "outputs": [],
   "source": [
    "cnames=['Algorithm', 'Year', 'RMSE', 'MSE', 'MEDAE', 'Accuracy', 'MAPE']\n",
    "df15 = pd.DataFrame(columns=cnames)\n",
    "\n",
    "df15 = df15.append({'Algorithm': 'TPOT AutoML',\n",
    "            'Year': 2017,\n",
    "           'RMSE': rmse,\n",
    "           'MSE': mse,\n",
    "           'MEDAE': med,\n",
    "           'Accuracy': acc,\n",
    "           'MAPE': mape         \n",
    "          }, ignore_index=True)"
   ]
  },
  {
   "cell_type": "code",
   "execution_count": 78,
   "id": "906e311d",
   "metadata": {},
   "outputs": [],
   "source": [
    "vis1 = pd.concat([df11, df12, df13, df14, df15], ignore_index=True)"
   ]
  },
  {
   "cell_type": "code",
   "execution_count": 79,
   "id": "2e146d45",
   "metadata": {},
   "outputs": [
    {
     "data": {
      "image/png": "[encoded data removed]",
      "text/plain": [
       "<Figure size 1800x720 with 1 Axes>"
      ]
     },
     "metadata": {
      "needs_background": "light"
     },
     "output_type": "display_data"
    }
   ],
   "source": [
    "# don't need cross validation same training due to set intervals?\n",
    "fig, ax = plt.subplots(figsize = (25, 10))\n",
    "plt.plot(vis1['Year'], vis1['Accuracy'], label = 'AutoML', color = 'turquoise')\n",
    "plt.xlabel('Year', fontsize = 15)\n",
    "plt.ylabel('Accuracy', fontsize = 15)\n",
    "plt.title('TPOT AutoML Results 2017 - 2021')\n",
    "plt.legend()\n",
    "plt.show()\n",
    "\n",
    "fig.savefig('performance-overtime-dubtpot.png')"
   ]
  },
  {
   "cell_type": "code",
   "execution_count": 80,
   "id": "66c109ff",
   "metadata": {},
   "outputs": [
    {
     "name": "stdout",
     "output_type": "stream",
     "text": [
      "Mean accuracy for TPOT AutoML over period 2017-2021 is: 0.5670588668697814\n"
     ]
    }
   ],
   "source": [
    "print(\"Mean accuracy for TPOT AutoML over period 2017-2021 is: \" + str(vis1['Accuracy'].mean()))"
   ]
  },
  {
   "cell_type": "code",
   "execution_count": 81,
   "id": "21da3c7c",
   "metadata": {},
   "outputs": [
    {
     "data": {
      "text/html": [
       "<div>\n",
       "<style scoped>\n",
       "    .dataframe tbody tr th:only-of-type {\n",
       "        vertical-align: middle;\n",
       "    }\n",
       "\n",
       "    .dataframe tbody tr th {\n",
       "        vertical-align: top;\n",
       "    }\n",
       "\n",
       "    .dataframe thead th {\n",
       "        text-align: right;\n",
       "    }\n",
       "</style>\n",
       "<table border=\"1\" class=\"dataframe\">\n",
       "  <thead>\n",
       "    <tr style=\"text-align: right;\">\n",
       "      <th></th>\n",
       "      <th>Actual</th>\n",
       "    </tr>\n",
       "  </thead>\n",
       "  <tbody>\n",
       "    <tr>\n",
       "      <th>0</th>\n",
       "      <td>12.624668</td>\n",
       "    </tr>\n",
       "    <tr>\n",
       "      <th>1</th>\n",
       "      <td>12.747268</td>\n",
       "    </tr>\n",
       "    <tr>\n",
       "      <th>2</th>\n",
       "      <td>13.072690</td>\n",
       "    </tr>\n",
       "    <tr>\n",
       "      <th>3</th>\n",
       "      <td>12.797276</td>\n",
       "    </tr>\n",
       "    <tr>\n",
       "      <th>4</th>\n",
       "      <td>12.653239</td>\n",
       "    </tr>\n",
       "  </tbody>\n",
       "</table>\n",
       "</div>"
      ],
      "text/plain": [
       "      Actual\n",
       "0  12.624668\n",
       "1  12.747268\n",
       "2  13.072690\n",
       "3  12.797276\n",
       "4  12.653239"
      ]
     },
     "execution_count": 81,
     "metadata": {},
     "output_type": "execute_result"
    }
   ],
   "source": [
    "actual = pd.concat([dfreal1, dfreal2, dfreal3, dfreal4, dfreal5], ignore_index = True)\n",
    "actual.rename(columns = {0: 'Actual'}, inplace = True)\n",
    "actual.head()"
   ]
  },
  {
   "cell_type": "code",
   "execution_count": 82,
   "id": "d8571942",
   "metadata": {},
   "outputs": [
    {
     "data": {
      "text/html": [
       "<div>\n",
       "<style scoped>\n",
       "    .dataframe tbody tr th:only-of-type {\n",
       "        vertical-align: middle;\n",
       "    }\n",
       "\n",
       "    .dataframe tbody tr th {\n",
       "        vertical-align: top;\n",
       "    }\n",
       "\n",
       "    .dataframe thead th {\n",
       "        text-align: right;\n",
       "    }\n",
       "</style>\n",
       "<table border=\"1\" class=\"dataframe\">\n",
       "  <thead>\n",
       "    <tr style=\"text-align: right;\">\n",
       "      <th></th>\n",
       "      <th>Predicted</th>\n",
       "    </tr>\n",
       "  </thead>\n",
       "  <tbody>\n",
       "    <tr>\n",
       "      <th>0</th>\n",
       "      <td>12.628608</td>\n",
       "    </tr>\n",
       "    <tr>\n",
       "      <th>1</th>\n",
       "      <td>12.627657</td>\n",
       "    </tr>\n",
       "    <tr>\n",
       "      <th>2</th>\n",
       "      <td>12.369009</td>\n",
       "    </tr>\n",
       "    <tr>\n",
       "      <th>3</th>\n",
       "      <td>12.744685</td>\n",
       "    </tr>\n",
       "    <tr>\n",
       "      <th>4</th>\n",
       "      <td>12.627657</td>\n",
       "    </tr>\n",
       "  </tbody>\n",
       "</table>\n",
       "</div>"
      ],
      "text/plain": [
       "   Predicted\n",
       "0  12.628608\n",
       "1  12.627657\n",
       "2  12.369009\n",
       "3  12.744685\n",
       "4  12.627657"
      ]
     },
     "execution_count": 82,
     "metadata": {},
     "output_type": "execute_result"
    }
   ],
   "source": [
    "pred = pd.concat([dfpred1, dfpred2, dfpred3, dfpred4, dfpred5], ignore_index = True)\n",
    "pred.rename(columns={0: 'Predicted'}, inplace = True)\n",
    "pred.head()"
   ]
  },
  {
   "cell_type": "code",
   "execution_count": 83,
   "id": "79e48ade",
   "metadata": {},
   "outputs": [],
   "source": [
    "actualvpred = actual.join(pred)"
   ]
  },
  {
   "cell_type": "code",
   "execution_count": 84,
   "id": "f6200fb6",
   "metadata": {},
   "outputs": [
    {
     "data": {
      "text/html": [
       "<div>\n",
       "<style scoped>\n",
       "    .dataframe tbody tr th:only-of-type {\n",
       "        vertical-align: middle;\n",
       "    }\n",
       "\n",
       "    .dataframe tbody tr th {\n",
       "        vertical-align: top;\n",
       "    }\n",
       "\n",
       "    .dataframe thead th {\n",
       "        text-align: right;\n",
       "    }\n",
       "</style>\n",
       "<table border=\"1\" class=\"dataframe\">\n",
       "  <thead>\n",
       "    <tr style=\"text-align: right;\">\n",
       "      <th></th>\n",
       "      <th>Actual</th>\n",
       "      <th>Predicted</th>\n",
       "    </tr>\n",
       "  </thead>\n",
       "  <tbody>\n",
       "    <tr>\n",
       "      <th>0</th>\n",
       "      <td>12.624668</td>\n",
       "      <td>12.628608</td>\n",
       "    </tr>\n",
       "    <tr>\n",
       "      <th>1</th>\n",
       "      <td>12.747268</td>\n",
       "      <td>12.627657</td>\n",
       "    </tr>\n",
       "    <tr>\n",
       "      <th>2</th>\n",
       "      <td>13.072690</td>\n",
       "      <td>12.369009</td>\n",
       "    </tr>\n",
       "    <tr>\n",
       "      <th>3</th>\n",
       "      <td>12.797276</td>\n",
       "      <td>12.744685</td>\n",
       "    </tr>\n",
       "    <tr>\n",
       "      <th>4</th>\n",
       "      <td>12.653239</td>\n",
       "      <td>12.627657</td>\n",
       "    </tr>\n",
       "  </tbody>\n",
       "</table>\n",
       "</div>"
      ],
      "text/plain": [
       "      Actual  Predicted\n",
       "0  12.624668  12.628608\n",
       "1  12.747268  12.627657\n",
       "2  13.072690  12.369009\n",
       "3  12.797276  12.744685\n",
       "4  12.653239  12.627657"
      ]
     },
     "execution_count": 84,
     "metadata": {},
     "output_type": "execute_result"
    }
   ],
   "source": [
    "actualvpred.head()"
   ]
  },
  {
   "cell_type": "code",
   "execution_count": 85,
   "id": "959de25d",
   "metadata": {},
   "outputs": [],
   "source": [
    "exp = np.exp(actualvpred)"
   ]
  },
  {
   "cell_type": "code",
   "execution_count": 86,
   "id": "24c74507",
   "metadata": {},
   "outputs": [
    {
     "data": {
      "text/plain": [
       "(3287, 2)"
      ]
     },
     "execution_count": 86,
     "metadata": {},
     "output_type": "execute_result"
    }
   ],
   "source": [
    "exp.shape"
   ]
  },
  {
   "cell_type": "code",
   "execution_count": 105,
   "id": "1eec9e54",
   "metadata": {},
   "outputs": [
    {
     "data": {
      "image/png": "[encoded data removed]",
      "text/plain": [
       "<Figure size 720x720 with 1 Axes>"
      ]
     },
     "metadata": {
      "needs_background": "light"
     },
     "output_type": "display_data"
    }
   ],
   "source": [
    "# plot predicted vs actual\n",
    "## this is using actual prices hence adjusted scale compared to mljar plot\n",
    "fig, ax = plt.subplots(figsize = (10, 10))\n",
    "plt.scatter(exp['Actual'], exp['Predicted'], c = 'black')\n",
    "\n",
    "p1 = max(max(exp['Predicted']), max(exp['Actual']))\n",
    "p2 = min(min(exp['Predicted']), min(exp['Actual']))\n",
    "plt.plot([p1, p2], [p1, p2], 'r-')\n",
    "plt.xlabel('True Values', fontsize = 15)\n",
    "plt.ylabel('Predictions', fontsize = 15)\n",
    "#plt.title('TPOT AutoML Actual Vs Predicted Values')\n",
    "plt.axis('equal')\n",
    "plt.show()\n",
    "\n",
    "fig.savefig('actualvpred-dubtpot.png')"
   ]
  },
  {
   "cell_type": "code",
   "execution_count": 88,
   "id": "f861674f",
   "metadata": {},
   "outputs": [],
   "source": [
    "x_t_21 = x_t_21.reset_index()\n",
    "x_t_20 = x_t_20.reset_index()\n",
    "x_t_19 = x_t_19.reset_index()\n",
    "x_t_18 = x_t_18.reset_index()\n",
    "x_t_17 = x_t_17.reset_index()\n",
    "\n",
    "x_t_21.drop(columns = ['index'], inplace = True)\n",
    "x_t_20.drop(columns = ['index'], inplace = True)\n",
    "x_t_19.drop(columns = ['index'], inplace = True)\n",
    "x_t_18.drop(columns = ['index'], inplace = True)\n",
    "x_t_17.drop(columns = ['index'], inplace = True)"
   ]
  },
  {
   "cell_type": "code",
   "execution_count": 89,
   "id": "0e33d5d8",
   "metadata": {},
   "outputs": [
    {
     "data": {
      "text/html": [
       "<div>\n",
       "<style scoped>\n",
       "    .dataframe tbody tr th:only-of-type {\n",
       "        vertical-align: middle;\n",
       "    }\n",
       "\n",
       "    .dataframe tbody tr th {\n",
       "        vertical-align: top;\n",
       "    }\n",
       "\n",
       "    .dataframe thead th {\n",
       "        text-align: right;\n",
       "    }\n",
       "</style>\n",
       "<table border=\"1\" class=\"dataframe\">\n",
       "  <thead>\n",
       "    <tr style=\"text-align: right;\">\n",
       "      <th></th>\n",
       "      <th>0</th>\n",
       "      <th>Longitude</th>\n",
       "      <th>Latitude</th>\n",
       "    </tr>\n",
       "  </thead>\n",
       "  <tbody>\n",
       "    <tr>\n",
       "      <th>0</th>\n",
       "      <td>12.624668</td>\n",
       "      <td>-6.433316</td>\n",
       "      <td>53.287576</td>\n",
       "    </tr>\n",
       "    <tr>\n",
       "      <th>1</th>\n",
       "      <td>12.747268</td>\n",
       "      <td>-6.434182</td>\n",
       "      <td>53.286440</td>\n",
       "    </tr>\n",
       "    <tr>\n",
       "      <th>2</th>\n",
       "      <td>13.072690</td>\n",
       "      <td>-6.127101</td>\n",
       "      <td>53.397993</td>\n",
       "    </tr>\n",
       "    <tr>\n",
       "      <th>3</th>\n",
       "      <td>12.797276</td>\n",
       "      <td>-6.154503</td>\n",
       "      <td>53.404602</td>\n",
       "    </tr>\n",
       "    <tr>\n",
       "      <th>4</th>\n",
       "      <td>12.653239</td>\n",
       "      <td>-6.434182</td>\n",
       "      <td>53.286440</td>\n",
       "    </tr>\n",
       "  </tbody>\n",
       "</table>\n",
       "</div>"
      ],
      "text/plain": [
       "           0  Longitude   Latitude\n",
       "0  12.624668  -6.433316  53.287576\n",
       "1  12.747268  -6.434182  53.286440\n",
       "2  13.072690  -6.127101  53.397993\n",
       "3  12.797276  -6.154503  53.404602\n",
       "4  12.653239  -6.434182  53.286440"
      ]
     },
     "execution_count": 89,
     "metadata": {},
     "output_type": "execute_result"
    }
   ],
   "source": [
    "l1 = dfreal1.join(x_t_21[['Longitude', 'Latitude']])\n",
    "l2 = dfreal2.join(x_t_20[['Longitude', 'Latitude']])\n",
    "l3 = dfreal3.join(x_t_19[['Longitude', 'Latitude']])\n",
    "l4 = dfreal4.join(x_t_18[['Longitude', 'Latitude']])\n",
    "l5 = dfreal5.join(x_t_17[['Longitude', 'Latitude']])\n",
    "\n",
    "plots = pd.concat([l1, l2, l3, l4, l5], ignore_index=True)\n",
    "plots.head()"
   ]
  },
  {
   "cell_type": "code",
   "execution_count": 90,
   "id": "24f1bc93",
   "metadata": {},
   "outputs": [],
   "source": [
    "plots.rename(columns = {0 : 'Actual'}, inplace = True)"
   ]
  },
  {
   "cell_type": "code",
   "execution_count": 91,
   "id": "543fde14",
   "metadata": {},
   "outputs": [
    {
     "data": {
      "text/html": [
       "<div>\n",
       "<style scoped>\n",
       "    .dataframe tbody tr th:only-of-type {\n",
       "        vertical-align: middle;\n",
       "    }\n",
       "\n",
       "    .dataframe tbody tr th {\n",
       "        vertical-align: top;\n",
       "    }\n",
       "\n",
       "    .dataframe thead th {\n",
       "        text-align: right;\n",
       "    }\n",
       "</style>\n",
       "<table border=\"1\" class=\"dataframe\">\n",
       "  <thead>\n",
       "    <tr style=\"text-align: right;\">\n",
       "      <th></th>\n",
       "      <th>Actual</th>\n",
       "      <th>Longitude</th>\n",
       "      <th>Latitude</th>\n",
       "    </tr>\n",
       "  </thead>\n",
       "  <tbody>\n",
       "    <tr>\n",
       "      <th>0</th>\n",
       "      <td>12.624668</td>\n",
       "      <td>-6.433316</td>\n",
       "      <td>53.287576</td>\n",
       "    </tr>\n",
       "    <tr>\n",
       "      <th>1</th>\n",
       "      <td>12.747268</td>\n",
       "      <td>-6.434182</td>\n",
       "      <td>53.286440</td>\n",
       "    </tr>\n",
       "    <tr>\n",
       "      <th>2</th>\n",
       "      <td>13.072690</td>\n",
       "      <td>-6.127101</td>\n",
       "      <td>53.397993</td>\n",
       "    </tr>\n",
       "    <tr>\n",
       "      <th>3</th>\n",
       "      <td>12.797276</td>\n",
       "      <td>-6.154503</td>\n",
       "      <td>53.404602</td>\n",
       "    </tr>\n",
       "    <tr>\n",
       "      <th>4</th>\n",
       "      <td>12.653239</td>\n",
       "      <td>-6.434182</td>\n",
       "      <td>53.286440</td>\n",
       "    </tr>\n",
       "  </tbody>\n",
       "</table>\n",
       "</div>"
      ],
      "text/plain": [
       "      Actual  Longitude   Latitude\n",
       "0  12.624668  -6.433316  53.287576\n",
       "1  12.747268  -6.434182  53.286440\n",
       "2  13.072690  -6.127101  53.397993\n",
       "3  12.797276  -6.154503  53.404602\n",
       "4  12.653239  -6.434182  53.286440"
      ]
     },
     "execution_count": 91,
     "metadata": {},
     "output_type": "execute_result"
    }
   ],
   "source": [
    "plots.head()"
   ]
  },
  {
   "cell_type": "code",
   "execution_count": 92,
   "id": "3fd10096",
   "metadata": {},
   "outputs": [
    {
     "data": {
      "text/html": [
       "<div>\n",
       "<style scoped>\n",
       "    .dataframe tbody tr th:only-of-type {\n",
       "        vertical-align: middle;\n",
       "    }\n",
       "\n",
       "    .dataframe tbody tr th {\n",
       "        vertical-align: top;\n",
       "    }\n",
       "\n",
       "    .dataframe thead th {\n",
       "        text-align: right;\n",
       "    }\n",
       "</style>\n",
       "<table border=\"1\" class=\"dataframe\">\n",
       "  <thead>\n",
       "    <tr style=\"text-align: right;\">\n",
       "      <th></th>\n",
       "      <th>Actual</th>\n",
       "      <th>Longitude</th>\n",
       "      <th>Latitude</th>\n",
       "      <th>Predicted</th>\n",
       "    </tr>\n",
       "  </thead>\n",
       "  <tbody>\n",
       "    <tr>\n",
       "      <th>0</th>\n",
       "      <td>12.624668</td>\n",
       "      <td>-6.433316</td>\n",
       "      <td>53.287576</td>\n",
       "      <td>12.628608</td>\n",
       "    </tr>\n",
       "    <tr>\n",
       "      <th>1</th>\n",
       "      <td>12.747268</td>\n",
       "      <td>-6.434182</td>\n",
       "      <td>53.286440</td>\n",
       "      <td>12.627657</td>\n",
       "    </tr>\n",
       "    <tr>\n",
       "      <th>2</th>\n",
       "      <td>13.072690</td>\n",
       "      <td>-6.127101</td>\n",
       "      <td>53.397993</td>\n",
       "      <td>12.369009</td>\n",
       "    </tr>\n",
       "    <tr>\n",
       "      <th>3</th>\n",
       "      <td>12.797276</td>\n",
       "      <td>-6.154503</td>\n",
       "      <td>53.404602</td>\n",
       "      <td>12.744685</td>\n",
       "    </tr>\n",
       "    <tr>\n",
       "      <th>4</th>\n",
       "      <td>12.653239</td>\n",
       "      <td>-6.434182</td>\n",
       "      <td>53.286440</td>\n",
       "      <td>12.627657</td>\n",
       "    </tr>\n",
       "  </tbody>\n",
       "</table>\n",
       "</div>"
      ],
      "text/plain": [
       "      Actual  Longitude   Latitude  Predicted\n",
       "0  12.624668  -6.433316  53.287576  12.628608\n",
       "1  12.747268  -6.434182  53.286440  12.627657\n",
       "2  13.072690  -6.127101  53.397993  12.369009\n",
       "3  12.797276  -6.154503  53.404602  12.744685\n",
       "4  12.653239  -6.434182  53.286440  12.627657"
      ]
     },
     "execution_count": 92,
     "metadata": {},
     "output_type": "execute_result"
    }
   ],
   "source": [
    "plotscomp = plots.join(pred)\n",
    "plotscomp.head()"
   ]
  },
  {
   "cell_type": "code",
   "execution_count": 93,
   "id": "40a306d0",
   "metadata": {},
   "outputs": [],
   "source": [
    "exp1 = np.exp(plotscomp[['Actual', 'Predicted']])"
   ]
  },
  {
   "cell_type": "code",
   "execution_count": 94,
   "id": "14bde77d",
   "metadata": {},
   "outputs": [],
   "source": [
    "exp1 = exp1.join(plotscomp[['Longitude', 'Latitude']])"
   ]
  },
  {
   "cell_type": "code",
   "execution_count": 95,
   "id": "0cada1a6",
   "metadata": {},
   "outputs": [
    {
     "data": {
      "text/html": [
       "<div>\n",
       "<style scoped>\n",
       "    .dataframe tbody tr th:only-of-type {\n",
       "        vertical-align: middle;\n",
       "    }\n",
       "\n",
       "    .dataframe tbody tr th {\n",
       "        vertical-align: top;\n",
       "    }\n",
       "\n",
       "    .dataframe thead th {\n",
       "        text-align: right;\n",
       "    }\n",
       "</style>\n",
       "<table border=\"1\" class=\"dataframe\">\n",
       "  <thead>\n",
       "    <tr style=\"text-align: right;\">\n",
       "      <th></th>\n",
       "      <th>Actual</th>\n",
       "      <th>Predicted</th>\n",
       "      <th>Longitude</th>\n",
       "      <th>Latitude</th>\n",
       "    </tr>\n",
       "  </thead>\n",
       "  <tbody>\n",
       "    <tr>\n",
       "      <th>0</th>\n",
       "      <td>303965.0</td>\n",
       "      <td>305164.897850</td>\n",
       "      <td>-6.433316</td>\n",
       "      <td>53.287576</td>\n",
       "    </tr>\n",
       "    <tr>\n",
       "      <th>1</th>\n",
       "      <td>343612.0</td>\n",
       "      <td>304875.072225</td>\n",
       "      <td>-6.434182</td>\n",
       "      <td>53.286440</td>\n",
       "    </tr>\n",
       "    <tr>\n",
       "      <th>2</th>\n",
       "      <td>475770.0</td>\n",
       "      <td>235392.264908</td>\n",
       "      <td>-6.127101</td>\n",
       "      <td>53.397993</td>\n",
       "    </tr>\n",
       "    <tr>\n",
       "      <th>3</th>\n",
       "      <td>361232.0</td>\n",
       "      <td>342725.483227</td>\n",
       "      <td>-6.154503</td>\n",
       "      <td>53.404602</td>\n",
       "    </tr>\n",
       "    <tr>\n",
       "      <th>4</th>\n",
       "      <td>312775.0</td>\n",
       "      <td>304875.072225</td>\n",
       "      <td>-6.434182</td>\n",
       "      <td>53.286440</td>\n",
       "    </tr>\n",
       "  </tbody>\n",
       "</table>\n",
       "</div>"
      ],
      "text/plain": [
       "     Actual      Predicted  Longitude   Latitude\n",
       "0  303965.0  305164.897850  -6.433316  53.287576\n",
       "1  343612.0  304875.072225  -6.434182  53.286440\n",
       "2  475770.0  235392.264908  -6.127101  53.397993\n",
       "3  361232.0  342725.483227  -6.154503  53.404602\n",
       "4  312775.0  304875.072225  -6.434182  53.286440"
      ]
     },
     "execution_count": 95,
     "metadata": {},
     "output_type": "execute_result"
    }
   ],
   "source": [
    "exp1.head()"
   ]
  },
  {
   "cell_type": "code",
   "execution_count": 96,
   "id": "9cca3abc",
   "metadata": {},
   "outputs": [
    {
     "name": "stderr",
     "output_type": "stream",
     "text": [
      "2022-04-10 15:59:20,074 fiona._env ERROR Unable to open EPSG support file gcs.csv.  Try setting the GDAL_DATA environment variable to point to the directory containing EPSG csv files.\n",
      "2022-04-10 15:59:20,074 fiona._env ERROR Unable to open EPSG support file gcs.csv.  Try setting the GDAL_DATA environment variable to point to the directory containing EPSG csv files.\n"
     ]
    },
    {
     "data": {
      "text/html": [
       "<div>\n",
       "<style scoped>\n",
       "    .dataframe tbody tr th:only-of-type {\n",
       "        vertical-align: middle;\n",
       "    }\n",
       "\n",
       "    .dataframe tbody tr th {\n",
       "        vertical-align: top;\n",
       "    }\n",
       "\n",
       "    .dataframe thead th {\n",
       "        text-align: right;\n",
       "    }\n",
       "</style>\n",
       "<table border=\"1\" class=\"dataframe\">\n",
       "  <thead>\n",
       "    <tr style=\"text-align: right;\">\n",
       "      <th></th>\n",
       "      <th>OSM_ID</th>\n",
       "      <th>NAME_TAG</th>\n",
       "      <th>NAME_GA</th>\n",
       "      <th>NAME_EN</th>\n",
       "      <th>ALT_NAME</th>\n",
       "      <th>ALT_NAME_G</th>\n",
       "      <th>LOGAINM_RE</th>\n",
       "      <th>OSM_USER</th>\n",
       "      <th>OSM_TIMEST</th>\n",
       "      <th>ATTRIBUTIO</th>\n",
       "      <th>T_IE_URL</th>\n",
       "      <th>AREA</th>\n",
       "      <th>LATITUDE</th>\n",
       "      <th>LONGITUDE</th>\n",
       "      <th>EPOCH_TSTM</th>\n",
       "      <th>geometry</th>\n",
       "    </tr>\n",
       "  </thead>\n",
       "  <tbody>\n",
       "    <tr>\n",
       "      <th>0</th>\n",
       "      <td>-338539.0</td>\n",
       "      <td>Mayo</td>\n",
       "      <td>Contae Mhaigh Eo</td>\n",
       "      <td>County Mayo</td>\n",
       "      <td>None</td>\n",
       "      <td>None</td>\n",
       "      <td>100023</td>\n",
       "      <td>Polarbear</td>\n",
       "      <td>2009-11-28 21:59:01+01</td>\n",
       "      <td>None</td>\n",
       "      <td>http://www.townlands.ie/mayo</td>\n",
       "      <td>5.596522e+09</td>\n",
       "      <td>53.924239</td>\n",
       "      <td>-9.385225</td>\n",
       "      <td>1.259442e+09</td>\n",
       "      <td>MULTIPOLYGON (((-10.13689 54.10969, -10.13601 ...</td>\n",
       "    </tr>\n",
       "  </tbody>\n",
       "</table>\n",
       "</div>"
      ],
      "text/plain": [
       "     OSM_ID NAME_TAG           NAME_GA      NAME_EN ALT_NAME ALT_NAME_G  \\\n",
       "0 -338539.0     Mayo  Contae Mhaigh Eo  County Mayo     None       None   \n",
       "\n",
       "  LOGAINM_RE   OSM_USER              OSM_TIMEST ATTRIBUTIO  \\\n",
       "0     100023  Polarbear  2009-11-28 21:59:01+01       None   \n",
       "\n",
       "                       T_IE_URL          AREA   LATITUDE  LONGITUDE  \\\n",
       "0  http://www.townlands.ie/mayo  5.596522e+09  53.924239  -9.385225   \n",
       "\n",
       "     EPOCH_TSTM                                           geometry  \n",
       "0  1.259442e+09  MULTIPOLYGON (((-10.13689 54.10969, -10.13601 ...  "
      ]
     },
     "execution_count": 96,
     "metadata": {},
     "output_type": "execute_result"
    }
   ],
   "source": [
    "import geopandas as gpd\n",
    "ROI_map = gpd.read_file('counties\\counties.shp')  #reading the shape file for our maps \n",
    "ROI_map.head(1)"
   ]
  },
  {
   "cell_type": "code",
   "execution_count": 97,
   "id": "fec80a4c",
   "metadata": {},
   "outputs": [
    {
     "data": {
      "text/html": [
       "<div>\n",
       "<style scoped>\n",
       "    .dataframe tbody tr th:only-of-type {\n",
       "        vertical-align: middle;\n",
       "    }\n",
       "\n",
       "    .dataframe tbody tr th {\n",
       "        vertical-align: top;\n",
       "    }\n",
       "\n",
       "    .dataframe thead th {\n",
       "        text-align: right;\n",
       "    }\n",
       "</style>\n",
       "<table border=\"1\" class=\"dataframe\">\n",
       "  <thead>\n",
       "    <tr style=\"text-align: right;\">\n",
       "      <th></th>\n",
       "      <th>OSM_ID</th>\n",
       "      <th>NAME_TAG</th>\n",
       "      <th>NAME_GA</th>\n",
       "      <th>NAME_EN</th>\n",
       "      <th>ALT_NAME</th>\n",
       "      <th>ALT_NAME_G</th>\n",
       "      <th>LOGAINM_RE</th>\n",
       "      <th>OSM_USER</th>\n",
       "      <th>OSM_TIMEST</th>\n",
       "      <th>ATTRIBUTIO</th>\n",
       "      <th>T_IE_URL</th>\n",
       "      <th>AREA</th>\n",
       "      <th>LATITUDE</th>\n",
       "      <th>LONGITUDE</th>\n",
       "      <th>EPOCH_TSTM</th>\n",
       "      <th>geometry</th>\n",
       "    </tr>\n",
       "  </thead>\n",
       "  <tbody>\n",
       "    <tr>\n",
       "      <th>23</th>\n",
       "      <td>-282800.0</td>\n",
       "      <td>Dublin</td>\n",
       "      <td>Contae Ãtha Cliath</td>\n",
       "      <td>County Dublin</td>\n",
       "      <td>None</td>\n",
       "      <td>None</td>\n",
       "      <td>100002</td>\n",
       "      <td>mackerski</td>\n",
       "      <td>2009-10-07 01:32:34+02</td>\n",
       "      <td>None</td>\n",
       "      <td>http://www.townlands.ie/dublin</td>\n",
       "      <td>9.290204e+08</td>\n",
       "      <td>53.392222</td>\n",
       "      <td>-6.283976</td>\n",
       "      <td>1.254872e+09</td>\n",
       "      <td>MULTIPOLYGON (((-6.54689 53.27948, -6.54642 53...</td>\n",
       "    </tr>\n",
       "  </tbody>\n",
       "</table>\n",
       "</div>"
      ],
      "text/plain": [
       "      OSM_ID NAME_TAG              NAME_GA        NAME_EN ALT_NAME ALT_NAME_G  \\\n",
       "23 -282800.0   Dublin  Contae Ãtha Cliath  County Dublin     None       None   \n",
       "\n",
       "   LOGAINM_RE   OSM_USER              OSM_TIMEST ATTRIBUTIO  \\\n",
       "23     100002  mackerski  2009-10-07 01:32:34+02       None   \n",
       "\n",
       "                          T_IE_URL          AREA   LATITUDE  LONGITUDE  \\\n",
       "23  http://www.townlands.ie/dublin  9.290204e+08  53.392222  -6.283976   \n",
       "\n",
       "      EPOCH_TSTM                                           geometry  \n",
       "23  1.254872e+09  MULTIPOLYGON (((-6.54689 53.27948, -6.54642 53...  "
      ]
     },
     "execution_count": 97,
     "metadata": {},
     "output_type": "execute_result"
    }
   ],
   "source": [
    "dub = ROI_map.loc[ROI_map['NAME_TAG'] == 'Dublin']\n",
    "dub"
   ]
  },
  {
   "cell_type": "code",
   "execution_count": 98,
   "id": "d4db4247",
   "metadata": {},
   "outputs": [],
   "source": [
    "num = 0.1\n",
    "lst = []\n",
    "test = np.array(exp1['Actual'])\n",
    "pred = np.array(exp1['Predicted'])\n",
    "count = 0\n",
    "for i in range(len(pred)):\n",
    "    if test[i] != 0:  \n",
    "        ten = test[i] * num\n",
    "        res = test[i] - pred[i]\n",
    "    else:\n",
    "        res = 0\n",
    "        ten = 0\n",
    "        \n",
    "    if res < 0:\n",
    "        res = res * -1\n",
    "    else:\n",
    "        res = res\n",
    "            \n",
    "    if res <= ten:\n",
    "        lst.append(1)\n",
    "    else:\n",
    "        lst.append(0)"
   ]
  },
  {
   "cell_type": "code",
   "execution_count": 99,
   "id": "93044c36",
   "metadata": {},
   "outputs": [],
   "source": [
    "exp1['Accurate'] = lst"
   ]
  },
  {
   "cell_type": "code",
   "execution_count": 100,
   "id": "adfdedb7",
   "metadata": {},
   "outputs": [
    {
     "data": {
      "text/html": [
       "<div>\n",
       "<style scoped>\n",
       "    .dataframe tbody tr th:only-of-type {\n",
       "        vertical-align: middle;\n",
       "    }\n",
       "\n",
       "    .dataframe tbody tr th {\n",
       "        vertical-align: top;\n",
       "    }\n",
       "\n",
       "    .dataframe thead th {\n",
       "        text-align: right;\n",
       "    }\n",
       "</style>\n",
       "<table border=\"1\" class=\"dataframe\">\n",
       "  <thead>\n",
       "    <tr style=\"text-align: right;\">\n",
       "      <th></th>\n",
       "      <th>Actual</th>\n",
       "      <th>Predicted</th>\n",
       "      <th>Longitude</th>\n",
       "      <th>Latitude</th>\n",
       "      <th>Accurate</th>\n",
       "    </tr>\n",
       "  </thead>\n",
       "  <tbody>\n",
       "    <tr>\n",
       "      <th>0</th>\n",
       "      <td>303965.0</td>\n",
       "      <td>305164.897850</td>\n",
       "      <td>-6.433316</td>\n",
       "      <td>53.287576</td>\n",
       "      <td>1</td>\n",
       "    </tr>\n",
       "    <tr>\n",
       "      <th>1</th>\n",
       "      <td>343612.0</td>\n",
       "      <td>304875.072225</td>\n",
       "      <td>-6.434182</td>\n",
       "      <td>53.286440</td>\n",
       "      <td>0</td>\n",
       "    </tr>\n",
       "    <tr>\n",
       "      <th>2</th>\n",
       "      <td>475770.0</td>\n",
       "      <td>235392.264908</td>\n",
       "      <td>-6.127101</td>\n",
       "      <td>53.397993</td>\n",
       "      <td>0</td>\n",
       "    </tr>\n",
       "    <tr>\n",
       "      <th>3</th>\n",
       "      <td>361232.0</td>\n",
       "      <td>342725.483227</td>\n",
       "      <td>-6.154503</td>\n",
       "      <td>53.404602</td>\n",
       "      <td>1</td>\n",
       "    </tr>\n",
       "    <tr>\n",
       "      <th>4</th>\n",
       "      <td>312775.0</td>\n",
       "      <td>304875.072225</td>\n",
       "      <td>-6.434182</td>\n",
       "      <td>53.286440</td>\n",
       "      <td>1</td>\n",
       "    </tr>\n",
       "  </tbody>\n",
       "</table>\n",
       "</div>"
      ],
      "text/plain": [
       "     Actual      Predicted  Longitude   Latitude  Accurate\n",
       "0  303965.0  305164.897850  -6.433316  53.287576         1\n",
       "1  343612.0  304875.072225  -6.434182  53.286440         0\n",
       "2  475770.0  235392.264908  -6.127101  53.397993         0\n",
       "3  361232.0  342725.483227  -6.154503  53.404602         1\n",
       "4  312775.0  304875.072225  -6.434182  53.286440         1"
      ]
     },
     "execution_count": 100,
     "metadata": {},
     "output_type": "execute_result"
    }
   ],
   "source": [
    "exp1.head()"
   ]
  },
  {
   "cell_type": "code",
   "execution_count": 102,
   "id": "3fbf4b4f",
   "metadata": {},
   "outputs": [
    {
     "data": {
      "image/png": "[encoded data removed]",
      "text/plain": [
       "<Figure size 936x936 with 2 Axes>"
      ]
     },
     "metadata": {
      "needs_background": "light"
     },
     "output_type": "display_data"
    }
   ],
   "source": [
    "### RED = accurate , BLUE = Inaccurate\n",
    "fig, ax = plt.subplots(figsize = (13, 13))\n",
    "# O'Connell St. lat is 53.34975, and the longitude is -6.260113\n",
    "dub.plot(ax = ax, color = 'lightgrey')\n",
    "#ax.axhline(y = 53.34975, color = 'r', linestyle = '--')\n",
    "plt.scatter(x = exp1['Longitude'], y = exp1['Latitude'], c = exp1['Accurate'], cmap = 'bwr')\n",
    "#plt.title('Plot of Locations of Accurately Predicted properties used in test dataset')\n",
    "plt.colorbar(shrink = 0.65, aspect = 20 * 0.65)\n",
    "plt.show()\n",
    "\n",
    "fig.savefig('dublinaccurates.png')"
   ]
  }
 ],
 "metadata": {
  "kernelspec": {
   "display_name": "Python 3 (ipykernel)",
   "language": "python",
   "name": "python3"
  },
  "language_info": {
   "codemirror_mode": {
    "name": "ipython",
    "version": 3
   },
   "file_extension": ".py",
   "mimetype": "text/x-python",
   "name": "python",
   "nbconvert_exporter": "python",
   "pygments_lexer": "ipython3",
   "version": "3.8.12"
  }
 },
 "nbformat": 4,
 "nbformat_minor": 5
}
