{
 "cells": [
  {
   "cell_type": "code",
   "execution_count": 1,
   "id": "384443d8",
   "metadata": {},
   "outputs": [
    {
     "name": "stdout",
     "output_type": "stream",
     "text": [
      "Imported sci-kit learn and AutoML libraries!\n"
     ]
    }
   ],
   "source": [
    "import pandas as pd\n",
    "import numpy as np\n",
    "from sklearn.datasets import make_classification\n",
    "from sklearn.model_selection import train_test_split\n",
    "import os\n",
    "from supervised.automl import AutoML\n",
    "import category_encoders as ce\n",
    "import math\n",
    "\n",
    "# visualization\n",
    "import seaborn as sns\n",
    "import matplotlib.pyplot as plt\n",
    "\n",
    "from sklearn.metrics import accuracy_score\n",
    "from sklearn.metrics import mean_squared_error\n",
    "from sklearn.model_selection import train_test_split\n",
    "from sklearn.model_selection import cross_val_score, GridSearchCV\n",
    "from sklearn.linear_model import LogisticRegression\n",
    "from sklearn.tree import DecisionTreeClassifier\n",
    "from sklearn.ensemble import RandomForestClassifier\n",
    "from category_encoders import TargetEncoder\n",
    "from sklearn.metrics import median_absolute_error\n",
    "print('Imported sci-kit learn and AutoML libraries!')"
   ]
  },
  {
   "cell_type": "markdown",
   "id": "2157b909",
   "metadata": {},
   "source": [
    "## Let's test TPOT AutoML on our UK dataset now\n",
    "\n",
    "We had our best results here for our Dublin data, but had very poor results on our Cork data. This will give us a better idea of how better suited our model is to larger cities potentially."
   ]
  },
  {
   "cell_type": "code",
   "execution_count": 2,
   "id": "3ff8d4da",
   "metadata": {},
   "outputs": [],
   "source": [
    "irl =  pd.read_csv('leefourfeatures.csv', index_col = 'Unnamed: 0')"
   ]
  },
  {
   "cell_type": "code",
   "execution_count": 3,
   "id": "00b30a21",
   "metadata": {},
   "outputs": [
    {
     "data": {
      "text/plain": [
       "(40943, 23)"
      ]
     },
     "execution_count": 3,
     "metadata": {},
     "output_type": "execute_result"
    }
   ],
   "source": [
    "irl.shape"
   ]
  },
  {
   "cell_type": "code",
   "execution_count": 4,
   "id": "24fd89bc",
   "metadata": {},
   "outputs": [],
   "source": [
    "irl.drop(columns = ['Transaction unique identifier', 'Town/City', 'Add1', 'HouseNum', 'geocode'], inplace = True)"
   ]
  },
  {
   "cell_type": "code",
   "execution_count": 5,
   "id": "bc395c36",
   "metadata": {},
   "outputs": [],
   "source": [
    "irl = irl.dropna()"
   ]
  },
  {
   "cell_type": "code",
   "execution_count": 6,
   "id": "842c9e85",
   "metadata": {},
   "outputs": [
    {
     "data": {
      "text/plain": [
       "(40925, 18)"
      ]
     },
     "execution_count": 6,
     "metadata": {},
     "output_type": "execute_result"
    }
   ],
   "source": [
    "irl.shape"
   ]
  },
  {
   "cell_type": "code",
   "execution_count": 7,
   "id": "c28c1f3d",
   "metadata": {},
   "outputs": [],
   "source": [
    "dt = list(irl['Postcode'])\n",
    "ps = []\n",
    "for i in range(len(dt)):\n",
    "    strg = dt[i][:4]\n",
    "    ps.append(strg)"
   ]
  },
  {
   "cell_type": "code",
   "execution_count": 8,
   "id": "93c2e5b3",
   "metadata": {},
   "outputs": [],
   "source": [
    "irl['Postcode'] = ps"
   ]
  },
  {
   "cell_type": "code",
   "execution_count": 9,
   "id": "5aff74c9",
   "metadata": {},
   "outputs": [
    {
     "data": {
      "text/html": [
       "<div>\n",
       "<style scoped>\n",
       "    .dataframe tbody tr th:only-of-type {\n",
       "        vertical-align: middle;\n",
       "    }\n",
       "\n",
       "    .dataframe tbody tr th {\n",
       "        vertical-align: top;\n",
       "    }\n",
       "\n",
       "    .dataframe thead th {\n",
       "        text-align: right;\n",
       "    }\n",
       "</style>\n",
       "<table border=\"1\" class=\"dataframe\">\n",
       "  <thead>\n",
       "    <tr style=\"text-align: right;\">\n",
       "      <th></th>\n",
       "      <th>Price</th>\n",
       "      <th>Postcode</th>\n",
       "      <th>Property Type</th>\n",
       "      <th>Old/New</th>\n",
       "      <th>Duration</th>\n",
       "      <th>Add2</th>\n",
       "      <th>Add3</th>\n",
       "      <th>District</th>\n",
       "      <th>County</th>\n",
       "      <th>PPDCategory Type</th>\n",
       "      <th>Month</th>\n",
       "      <th>Year</th>\n",
       "      <th>Latitude</th>\n",
       "      <th>Longitude</th>\n",
       "      <th>PrimaryDistance</th>\n",
       "      <th>SecondaryDistance</th>\n",
       "      <th>CityCenterDist</th>\n",
       "      <th>ClosestPitch</th>\n",
       "    </tr>\n",
       "  </thead>\n",
       "  <tbody>\n",
       "    <tr>\n",
       "      <th>0</th>\n",
       "      <td>210000</td>\n",
       "      <td>LS25</td>\n",
       "      <td>D</td>\n",
       "      <td>N</td>\n",
       "      <td>F</td>\n",
       "      <td>BOND INGS RISE</td>\n",
       "      <td>SHERBURN IN ELMET</td>\n",
       "      <td>SELBY</td>\n",
       "      <td>NORTH YORKSHIRE</td>\n",
       "      <td>A</td>\n",
       "      <td>5</td>\n",
       "      <td>2017</td>\n",
       "      <td>53.79569</td>\n",
       "      <td>-1.24147</td>\n",
       "      <td>5.687375</td>\n",
       "      <td>9.790351</td>\n",
       "      <td>19.867540</td>\n",
       "      <td>7.816178</td>\n",
       "    </tr>\n",
       "    <tr>\n",
       "      <th>1</th>\n",
       "      <td>180000</td>\n",
       "      <td>LS25</td>\n",
       "      <td>D</td>\n",
       "      <td>N</td>\n",
       "      <td>F</td>\n",
       "      <td>RUDSTONE GROVE</td>\n",
       "      <td>SHERBURN IN ELMET</td>\n",
       "      <td>SELBY</td>\n",
       "      <td>NORTH YORKSHIRE</td>\n",
       "      <td>A</td>\n",
       "      <td>4</td>\n",
       "      <td>2017</td>\n",
       "      <td>53.79803</td>\n",
       "      <td>-1.25588</td>\n",
       "      <td>4.756776</td>\n",
       "      <td>8.873555</td>\n",
       "      <td>18.921777</td>\n",
       "      <td>6.864786</td>\n",
       "    </tr>\n",
       "    <tr>\n",
       "      <th>2</th>\n",
       "      <td>142500</td>\n",
       "      <td>LS19</td>\n",
       "      <td>F</td>\n",
       "      <td>Y</td>\n",
       "      <td>L</td>\n",
       "      <td>DYEHOUSE WALK</td>\n",
       "      <td>YEADON</td>\n",
       "      <td>LEEDS</td>\n",
       "      <td>WEST YORKSHIRE</td>\n",
       "      <td>A</td>\n",
       "      <td>12</td>\n",
       "      <td>2017</td>\n",
       "      <td>53.85906</td>\n",
       "      <td>-1.68457</td>\n",
       "      <td>0.419900</td>\n",
       "      <td>0.252955</td>\n",
       "      <td>11.584182</td>\n",
       "      <td>0.514805</td>\n",
       "    </tr>\n",
       "    <tr>\n",
       "      <th>3</th>\n",
       "      <td>102000</td>\n",
       "      <td>LS18</td>\n",
       "      <td>F</td>\n",
       "      <td>N</td>\n",
       "      <td>L</td>\n",
       "      <td>SUSSEX AVENUE</td>\n",
       "      <td>HORSFORTH</td>\n",
       "      <td>LEEDS</td>\n",
       "      <td>WEST YORKSHIRE</td>\n",
       "      <td>A</td>\n",
       "      <td>12</td>\n",
       "      <td>2017</td>\n",
       "      <td>53.84793</td>\n",
       "      <td>-1.63152</td>\n",
       "      <td>0.666159</td>\n",
       "      <td>0.892213</td>\n",
       "      <td>8.140415</td>\n",
       "      <td>0.287203</td>\n",
       "    </tr>\n",
       "    <tr>\n",
       "      <th>4</th>\n",
       "      <td>250000</td>\n",
       "      <td>LS19</td>\n",
       "      <td>S</td>\n",
       "      <td>Y</td>\n",
       "      <td>F</td>\n",
       "      <td>WEAVERS BECK WAY</td>\n",
       "      <td>YEADON</td>\n",
       "      <td>LEEDS</td>\n",
       "      <td>WEST YORKSHIRE</td>\n",
       "      <td>A</td>\n",
       "      <td>9</td>\n",
       "      <td>2017</td>\n",
       "      <td>53.85909</td>\n",
       "      <td>-1.68380</td>\n",
       "      <td>0.419576</td>\n",
       "      <td>0.237613</td>\n",
       "      <td>11.545989</td>\n",
       "      <td>0.537182</td>\n",
       "    </tr>\n",
       "  </tbody>\n",
       "</table>\n",
       "</div>"
      ],
      "text/plain": [
       "    Price Postcode Property Type Old/New Duration              Add2  \\\n",
       "0  210000     LS25             D       N        F    BOND INGS RISE   \n",
       "1  180000     LS25             D       N        F    RUDSTONE GROVE   \n",
       "2  142500     LS19             F       Y        L     DYEHOUSE WALK   \n",
       "3  102000     LS18             F       N        L     SUSSEX AVENUE   \n",
       "4  250000     LS19             S       Y        F  WEAVERS BECK WAY   \n",
       "\n",
       "                Add3 District           County PPDCategory Type  Month  Year  \\\n",
       "0  SHERBURN IN ELMET    SELBY  NORTH YORKSHIRE                A      5  2017   \n",
       "1  SHERBURN IN ELMET    SELBY  NORTH YORKSHIRE                A      4  2017   \n",
       "2             YEADON    LEEDS   WEST YORKSHIRE                A     12  2017   \n",
       "3          HORSFORTH    LEEDS   WEST YORKSHIRE                A     12  2017   \n",
       "4             YEADON    LEEDS   WEST YORKSHIRE                A      9  2017   \n",
       "\n",
       "   Latitude  Longitude  PrimaryDistance  SecondaryDistance  CityCenterDist  \\\n",
       "0  53.79569   -1.24147         5.687375           9.790351       19.867540   \n",
       "1  53.79803   -1.25588         4.756776           8.873555       18.921777   \n",
       "2  53.85906   -1.68457         0.419900           0.252955       11.584182   \n",
       "3  53.84793   -1.63152         0.666159           0.892213        8.140415   \n",
       "4  53.85909   -1.68380         0.419576           0.237613       11.545989   \n",
       "\n",
       "   ClosestPitch  \n",
       "0      7.816178  \n",
       "1      6.864786  \n",
       "2      0.514805  \n",
       "3      0.287203  \n",
       "4      0.537182  "
      ]
     },
     "execution_count": 9,
     "metadata": {},
     "output_type": "execute_result"
    }
   ],
   "source": [
    "irl.head()"
   ]
  },
  {
   "cell_type": "code",
   "execution_count": 10,
   "id": "7da6a18c",
   "metadata": {},
   "outputs": [],
   "source": [
    "# this function finds all values that fall within internationally accepted +-10% of actual prices in our predictions\n",
    "# we can modify the threshold as we feel the need to here\n",
    "def accuracy_threshold(test, pred, num):\n",
    "    test = np.array(test)\n",
    "    pred = np.array(pred)\n",
    "# get within x% of actual price , not within log price as this will be misleading / incorrect\n",
    "    test = np.exp(test)\n",
    "    pred = np.exp(pred)\n",
    "    count = 0\n",
    "    for i in range(len(pred)):\n",
    "        if test[i] != 0:  \n",
    "            ten = test[i] * num\n",
    "            res = test[i] - pred[i]\n",
    "        else:\n",
    "            res = 0\n",
    "            ten = 0\n",
    "        \n",
    "        if res < 0:\n",
    "            res = res * -1\n",
    "        else:\n",
    "            res = res\n",
    "            \n",
    "        if res <= ten:\n",
    "            count += 1\n",
    "        else:\n",
    "            continue\n",
    "    return (count / len(test))"
   ]
  },
  {
   "cell_type": "code",
   "execution_count": 11,
   "id": "b8e1a05c",
   "metadata": {},
   "outputs": [],
   "source": [
    "encoder = TargetEncoder()\n",
    "irl['Add3'] = encoder.fit_transform(irl['Add3'], irl['Price'])"
   ]
  },
  {
   "cell_type": "code",
   "execution_count": 12,
   "id": "58ba6c4f",
   "metadata": {},
   "outputs": [],
   "source": [
    "encoder = TargetEncoder()\n",
    "irl['District'] = encoder.fit_transform(irl['District'], irl['Price'])"
   ]
  },
  {
   "cell_type": "code",
   "execution_count": 13,
   "id": "51541e57",
   "metadata": {},
   "outputs": [],
   "source": [
    "encoder = TargetEncoder()\n",
    "irl['County'] = encoder.fit_transform(irl['County'], irl['Price'])"
   ]
  },
  {
   "cell_type": "code",
   "execution_count": 14,
   "id": "4bd20d71",
   "metadata": {},
   "outputs": [],
   "source": [
    "encoder = TargetEncoder()\n",
    "irl['Postcode'] = encoder.fit_transform(irl['Postcode'], irl['Price'])"
   ]
  },
  {
   "cell_type": "code",
   "execution_count": 15,
   "id": "3ee16f52",
   "metadata": {},
   "outputs": [],
   "source": [
    "encoder = TargetEncoder()\n",
    "irl['Add2'] = encoder.fit_transform(irl['Add2'], irl['Price'])"
   ]
  },
  {
   "cell_type": "code",
   "execution_count": 16,
   "id": "dd89fa44",
   "metadata": {},
   "outputs": [],
   "source": [
    "#categorical data\n",
    "categorical_cols = ['Property Type', 'Old/New', 'Duration', 'PPDCategory Type'] \n",
    "\n",
    "#import pandas as pd\n",
    "df = pd.get_dummies(irl, columns = categorical_cols)"
   ]
  },
  {
   "cell_type": "code",
   "execution_count": 17,
   "id": "8175af5a",
   "metadata": {},
   "outputs": [
    {
     "data": {
      "text/plain": [
       "Index(['Price', 'Postcode', 'Add2', 'Add3', 'District', 'County', 'Month',\n",
       "       'Year', 'Latitude', 'Longitude', 'PrimaryDistance', 'SecondaryDistance',\n",
       "       'CityCenterDist', 'ClosestPitch', 'Property Type_D', 'Property Type_F',\n",
       "       'Property Type_O', 'Property Type_S', 'Property Type_T', 'Old/New_N',\n",
       "       'Old/New_Y', 'Duration_F', 'Duration_L', 'PPDCategory Type_A',\n",
       "       'PPDCategory Type_B'],\n",
       "      dtype='object')"
      ]
     },
     "execution_count": 17,
     "metadata": {},
     "output_type": "execute_result"
    }
   ],
   "source": [
    "df.columns"
   ]
  },
  {
   "cell_type": "code",
   "execution_count": 18,
   "id": "8860a43a",
   "metadata": {},
   "outputs": [],
   "source": [
    "irl = df"
   ]
  },
  {
   "cell_type": "code",
   "execution_count": 19,
   "id": "12a3969b",
   "metadata": {},
   "outputs": [
    {
     "data": {
      "text/html": [
       "<div>\n",
       "<style scoped>\n",
       "    .dataframe tbody tr th:only-of-type {\n",
       "        vertical-align: middle;\n",
       "    }\n",
       "\n",
       "    .dataframe tbody tr th {\n",
       "        vertical-align: top;\n",
       "    }\n",
       "\n",
       "    .dataframe thead th {\n",
       "        text-align: right;\n",
       "    }\n",
       "</style>\n",
       "<table border=\"1\" class=\"dataframe\">\n",
       "  <thead>\n",
       "    <tr style=\"text-align: right;\">\n",
       "      <th></th>\n",
       "      <th>Price</th>\n",
       "      <th>Postcode</th>\n",
       "      <th>Add2</th>\n",
       "      <th>Add3</th>\n",
       "      <th>District</th>\n",
       "      <th>County</th>\n",
       "      <th>Month</th>\n",
       "      <th>Year</th>\n",
       "      <th>Latitude</th>\n",
       "      <th>Longitude</th>\n",
       "      <th>...</th>\n",
       "      <th>Property Type_F</th>\n",
       "      <th>Property Type_O</th>\n",
       "      <th>Property Type_S</th>\n",
       "      <th>Property Type_T</th>\n",
       "      <th>Old/New_N</th>\n",
       "      <th>Old/New_Y</th>\n",
       "      <th>Duration_F</th>\n",
       "      <th>Duration_L</th>\n",
       "      <th>PPDCategory Type_A</th>\n",
       "      <th>PPDCategory Type_B</th>\n",
       "    </tr>\n",
       "  </thead>\n",
       "  <tbody>\n",
       "    <tr>\n",
       "      <th>0</th>\n",
       "      <td>210000</td>\n",
       "      <td>217630.968385</td>\n",
       "      <td>258739.196082</td>\n",
       "      <td>224647.939686</td>\n",
       "      <td>235254.601253</td>\n",
       "      <td>256030.890142</td>\n",
       "      <td>5</td>\n",
       "      <td>2017</td>\n",
       "      <td>53.79569</td>\n",
       "      <td>-1.24147</td>\n",
       "      <td>...</td>\n",
       "      <td>0</td>\n",
       "      <td>0</td>\n",
       "      <td>0</td>\n",
       "      <td>0</td>\n",
       "      <td>1</td>\n",
       "      <td>0</td>\n",
       "      <td>1</td>\n",
       "      <td>0</td>\n",
       "      <td>1</td>\n",
       "      <td>0</td>\n",
       "    </tr>\n",
       "    <tr>\n",
       "      <th>1</th>\n",
       "      <td>180000</td>\n",
       "      <td>217630.968385</td>\n",
       "      <td>205494.667996</td>\n",
       "      <td>224647.939686</td>\n",
       "      <td>235254.601253</td>\n",
       "      <td>256030.890142</td>\n",
       "      <td>4</td>\n",
       "      <td>2017</td>\n",
       "      <td>53.79803</td>\n",
       "      <td>-1.25588</td>\n",
       "      <td>...</td>\n",
       "      <td>0</td>\n",
       "      <td>0</td>\n",
       "      <td>0</td>\n",
       "      <td>0</td>\n",
       "      <td>1</td>\n",
       "      <td>0</td>\n",
       "      <td>1</td>\n",
       "      <td>0</td>\n",
       "      <td>1</td>\n",
       "      <td>0</td>\n",
       "    </tr>\n",
       "    <tr>\n",
       "      <th>2</th>\n",
       "      <td>142500</td>\n",
       "      <td>230484.114908</td>\n",
       "      <td>243485.169492</td>\n",
       "      <td>202537.379451</td>\n",
       "      <td>230202.181727</td>\n",
       "      <td>230200.817112</td>\n",
       "      <td>12</td>\n",
       "      <td>2017</td>\n",
       "      <td>53.85906</td>\n",
       "      <td>-1.68457</td>\n",
       "      <td>...</td>\n",
       "      <td>1</td>\n",
       "      <td>0</td>\n",
       "      <td>0</td>\n",
       "      <td>0</td>\n",
       "      <td>0</td>\n",
       "      <td>1</td>\n",
       "      <td>0</td>\n",
       "      <td>1</td>\n",
       "      <td>1</td>\n",
       "      <td>0</td>\n",
       "    </tr>\n",
       "    <tr>\n",
       "      <th>3</th>\n",
       "      <td>102000</td>\n",
       "      <td>278963.485067</td>\n",
       "      <td>186296.875000</td>\n",
       "      <td>278963.485067</td>\n",
       "      <td>230202.181727</td>\n",
       "      <td>230200.817112</td>\n",
       "      <td>12</td>\n",
       "      <td>2017</td>\n",
       "      <td>53.84793</td>\n",
       "      <td>-1.63152</td>\n",
       "      <td>...</td>\n",
       "      <td>1</td>\n",
       "      <td>0</td>\n",
       "      <td>0</td>\n",
       "      <td>0</td>\n",
       "      <td>1</td>\n",
       "      <td>0</td>\n",
       "      <td>0</td>\n",
       "      <td>1</td>\n",
       "      <td>1</td>\n",
       "      <td>0</td>\n",
       "    </tr>\n",
       "    <tr>\n",
       "      <th>4</th>\n",
       "      <td>250000</td>\n",
       "      <td>230484.114908</td>\n",
       "      <td>254714.655953</td>\n",
       "      <td>202537.379451</td>\n",
       "      <td>230202.181727</td>\n",
       "      <td>230200.817112</td>\n",
       "      <td>9</td>\n",
       "      <td>2017</td>\n",
       "      <td>53.85909</td>\n",
       "      <td>-1.68380</td>\n",
       "      <td>...</td>\n",
       "      <td>0</td>\n",
       "      <td>0</td>\n",
       "      <td>1</td>\n",
       "      <td>0</td>\n",
       "      <td>0</td>\n",
       "      <td>1</td>\n",
       "      <td>1</td>\n",
       "      <td>0</td>\n",
       "      <td>1</td>\n",
       "      <td>0</td>\n",
       "    </tr>\n",
       "  </tbody>\n",
       "</table>\n",
       "<p>5 rows × 25 columns</p>\n",
       "</div>"
      ],
      "text/plain": [
       "    Price       Postcode           Add2           Add3       District  \\\n",
       "0  210000  217630.968385  258739.196082  224647.939686  235254.601253   \n",
       "1  180000  217630.968385  205494.667996  224647.939686  235254.601253   \n",
       "2  142500  230484.114908  243485.169492  202537.379451  230202.181727   \n",
       "3  102000  278963.485067  186296.875000  278963.485067  230202.181727   \n",
       "4  250000  230484.114908  254714.655953  202537.379451  230202.181727   \n",
       "\n",
       "          County  Month  Year  Latitude  Longitude  ...  Property Type_F  \\\n",
       "0  256030.890142      5  2017  53.79569   -1.24147  ...                0   \n",
       "1  256030.890142      4  2017  53.79803   -1.25588  ...                0   \n",
       "2  230200.817112     12  2017  53.85906   -1.68457  ...                1   \n",
       "3  230200.817112     12  2017  53.84793   -1.63152  ...                1   \n",
       "4  230200.817112      9  2017  53.85909   -1.68380  ...                0   \n",
       "\n",
       "   Property Type_O  Property Type_S  Property Type_T  Old/New_N  Old/New_Y  \\\n",
       "0                0                0                0          1          0   \n",
       "1                0                0                0          1          0   \n",
       "2                0                0                0          0          1   \n",
       "3                0                0                0          1          0   \n",
       "4                0                1                0          0          1   \n",
       "\n",
       "   Duration_F  Duration_L  PPDCategory Type_A  PPDCategory Type_B  \n",
       "0           1           0                   1                   0  \n",
       "1           1           0                   1                   0  \n",
       "2           0           1                   1                   0  \n",
       "3           0           1                   1                   0  \n",
       "4           1           0                   1                   0  \n",
       "\n",
       "[5 rows x 25 columns]"
      ]
     },
     "execution_count": 19,
     "metadata": {},
     "output_type": "execute_result"
    }
   ],
   "source": [
    "irl.head()"
   ]
  },
  {
   "cell_type": "code",
   "execution_count": 20,
   "id": "e2370e0a",
   "metadata": {},
   "outputs": [
    {
     "data": {
      "text/html": [
       "<div>\n",
       "<style scoped>\n",
       "    .dataframe tbody tr th:only-of-type {\n",
       "        vertical-align: middle;\n",
       "    }\n",
       "\n",
       "    .dataframe tbody tr th {\n",
       "        vertical-align: top;\n",
       "    }\n",
       "\n",
       "    .dataframe thead th {\n",
       "        text-align: right;\n",
       "    }\n",
       "</style>\n",
       "<table border=\"1\" class=\"dataframe\">\n",
       "  <thead>\n",
       "    <tr style=\"text-align: right;\">\n",
       "      <th></th>\n",
       "      <th>Postcode</th>\n",
       "      <th>Add2</th>\n",
       "      <th>Add3</th>\n",
       "      <th>District</th>\n",
       "      <th>County</th>\n",
       "      <th>Month</th>\n",
       "      <th>Year</th>\n",
       "      <th>Latitude</th>\n",
       "      <th>Longitude</th>\n",
       "      <th>PrimaryDistance</th>\n",
       "      <th>...</th>\n",
       "      <th>Property Type_O</th>\n",
       "      <th>Property Type_S</th>\n",
       "      <th>Property Type_T</th>\n",
       "      <th>Old/New_N</th>\n",
       "      <th>Old/New_Y</th>\n",
       "      <th>Duration_F</th>\n",
       "      <th>Duration_L</th>\n",
       "      <th>PPDCategory Type_A</th>\n",
       "      <th>PPDCategory Type_B</th>\n",
       "      <th>LogPrice (€)</th>\n",
       "    </tr>\n",
       "  </thead>\n",
       "  <tbody>\n",
       "    <tr>\n",
       "      <th>0</th>\n",
       "      <td>217630.968385</td>\n",
       "      <td>258739.196082</td>\n",
       "      <td>224647.939686</td>\n",
       "      <td>235254.601253</td>\n",
       "      <td>256030.890142</td>\n",
       "      <td>5</td>\n",
       "      <td>2017</td>\n",
       "      <td>53.79569</td>\n",
       "      <td>-1.24147</td>\n",
       "      <td>5.687375</td>\n",
       "      <td>...</td>\n",
       "      <td>0</td>\n",
       "      <td>0</td>\n",
       "      <td>0</td>\n",
       "      <td>1</td>\n",
       "      <td>0</td>\n",
       "      <td>1</td>\n",
       "      <td>0</td>\n",
       "      <td>1</td>\n",
       "      <td>0</td>\n",
       "      <td>12.254863</td>\n",
       "    </tr>\n",
       "    <tr>\n",
       "      <th>1</th>\n",
       "      <td>217630.968385</td>\n",
       "      <td>205494.667996</td>\n",
       "      <td>224647.939686</td>\n",
       "      <td>235254.601253</td>\n",
       "      <td>256030.890142</td>\n",
       "      <td>4</td>\n",
       "      <td>2017</td>\n",
       "      <td>53.79803</td>\n",
       "      <td>-1.25588</td>\n",
       "      <td>4.756776</td>\n",
       "      <td>...</td>\n",
       "      <td>0</td>\n",
       "      <td>0</td>\n",
       "      <td>0</td>\n",
       "      <td>1</td>\n",
       "      <td>0</td>\n",
       "      <td>1</td>\n",
       "      <td>0</td>\n",
       "      <td>1</td>\n",
       "      <td>0</td>\n",
       "      <td>12.100712</td>\n",
       "    </tr>\n",
       "    <tr>\n",
       "      <th>2</th>\n",
       "      <td>230484.114908</td>\n",
       "      <td>243485.169492</td>\n",
       "      <td>202537.379451</td>\n",
       "      <td>230202.181727</td>\n",
       "      <td>230200.817112</td>\n",
       "      <td>12</td>\n",
       "      <td>2017</td>\n",
       "      <td>53.85906</td>\n",
       "      <td>-1.68457</td>\n",
       "      <td>0.419900</td>\n",
       "      <td>...</td>\n",
       "      <td>0</td>\n",
       "      <td>0</td>\n",
       "      <td>0</td>\n",
       "      <td>0</td>\n",
       "      <td>1</td>\n",
       "      <td>0</td>\n",
       "      <td>1</td>\n",
       "      <td>1</td>\n",
       "      <td>0</td>\n",
       "      <td>11.867097</td>\n",
       "    </tr>\n",
       "    <tr>\n",
       "      <th>3</th>\n",
       "      <td>278963.485067</td>\n",
       "      <td>186296.875000</td>\n",
       "      <td>278963.485067</td>\n",
       "      <td>230202.181727</td>\n",
       "      <td>230200.817112</td>\n",
       "      <td>12</td>\n",
       "      <td>2017</td>\n",
       "      <td>53.84793</td>\n",
       "      <td>-1.63152</td>\n",
       "      <td>0.666159</td>\n",
       "      <td>...</td>\n",
       "      <td>0</td>\n",
       "      <td>0</td>\n",
       "      <td>0</td>\n",
       "      <td>1</td>\n",
       "      <td>0</td>\n",
       "      <td>0</td>\n",
       "      <td>1</td>\n",
       "      <td>1</td>\n",
       "      <td>0</td>\n",
       "      <td>11.532728</td>\n",
       "    </tr>\n",
       "    <tr>\n",
       "      <th>4</th>\n",
       "      <td>230484.114908</td>\n",
       "      <td>254714.655953</td>\n",
       "      <td>202537.379451</td>\n",
       "      <td>230202.181727</td>\n",
       "      <td>230200.817112</td>\n",
       "      <td>9</td>\n",
       "      <td>2017</td>\n",
       "      <td>53.85909</td>\n",
       "      <td>-1.68380</td>\n",
       "      <td>0.419576</td>\n",
       "      <td>...</td>\n",
       "      <td>0</td>\n",
       "      <td>1</td>\n",
       "      <td>0</td>\n",
       "      <td>0</td>\n",
       "      <td>1</td>\n",
       "      <td>1</td>\n",
       "      <td>0</td>\n",
       "      <td>1</td>\n",
       "      <td>0</td>\n",
       "      <td>12.429216</td>\n",
       "    </tr>\n",
       "  </tbody>\n",
       "</table>\n",
       "<p>5 rows × 25 columns</p>\n",
       "</div>"
      ],
      "text/plain": [
       "        Postcode           Add2           Add3       District         County  \\\n",
       "0  217630.968385  258739.196082  224647.939686  235254.601253  256030.890142   \n",
       "1  217630.968385  205494.667996  224647.939686  235254.601253  256030.890142   \n",
       "2  230484.114908  243485.169492  202537.379451  230202.181727  230200.817112   \n",
       "3  278963.485067  186296.875000  278963.485067  230202.181727  230200.817112   \n",
       "4  230484.114908  254714.655953  202537.379451  230202.181727  230200.817112   \n",
       "\n",
       "   Month  Year  Latitude  Longitude  PrimaryDistance  ...  Property Type_O  \\\n",
       "0      5  2017  53.79569   -1.24147         5.687375  ...                0   \n",
       "1      4  2017  53.79803   -1.25588         4.756776  ...                0   \n",
       "2     12  2017  53.85906   -1.68457         0.419900  ...                0   \n",
       "3     12  2017  53.84793   -1.63152         0.666159  ...                0   \n",
       "4      9  2017  53.85909   -1.68380         0.419576  ...                0   \n",
       "\n",
       "   Property Type_S  Property Type_T  Old/New_N  Old/New_Y  Duration_F  \\\n",
       "0                0                0          1          0           1   \n",
       "1                0                0          1          0           1   \n",
       "2                0                0          0          1           0   \n",
       "3                0                0          1          0           0   \n",
       "4                1                0          0          1           1   \n",
       "\n",
       "   Duration_L  PPDCategory Type_A  PPDCategory Type_B  LogPrice (€)  \n",
       "0           0                   1                   0     12.254863  \n",
       "1           0                   1                   0     12.100712  \n",
       "2           1                   1                   0     11.867097  \n",
       "3           1                   1                   0     11.532728  \n",
       "4           0                   1                   0     12.429216  \n",
       "\n",
       "[5 rows x 25 columns]"
      ]
     },
     "execution_count": 20,
     "metadata": {},
     "output_type": "execute_result"
    }
   ],
   "source": [
    "irl['LogPrice (€)'] = np.log(irl['Price'])\n",
    "irl.drop(columns = ['Price'], inplace = True)\n",
    "irl.head()"
   ]
  },
  {
   "cell_type": "code",
   "execution_count": 21,
   "id": "86f436dc",
   "metadata": {},
   "outputs": [],
   "source": [
    "from tpot import TPOTRegressor\n",
    "from sklearn.model_selection import RepeatedKFold"
   ]
  },
  {
   "cell_type": "markdown",
   "id": "565a9cfb",
   "metadata": {},
   "source": [
    "## 2021"
   ]
  },
  {
   "cell_type": "markdown",
   "id": "bc44a426",
   "metadata": {},
   "source": [
    "### TPOT"
   ]
  },
  {
   "cell_type": "code",
   "execution_count": 22,
   "id": "55e539b6",
   "metadata": {},
   "outputs": [],
   "source": [
    "specific21 = irl[irl['Year'] > 2017]"
   ]
  },
  {
   "cell_type": "code",
   "execution_count": 23,
   "id": "8d93800f",
   "metadata": {},
   "outputs": [],
   "source": [
    "train_21 = specific21[specific21['Year'] < 2021]"
   ]
  },
  {
   "cell_type": "code",
   "execution_count": 24,
   "id": "efd7b7dc",
   "metadata": {},
   "outputs": [],
   "source": [
    "test_21 = specific21[specific21['Year'] == 2021]"
   ]
  },
  {
   "cell_type": "code",
   "execution_count": 25,
   "id": "368bb2e2",
   "metadata": {},
   "outputs": [],
   "source": [
    "x_train_21 = train_21.loc[:, train_21.columns != 'LogPrice (€)']\n",
    "y_train_21 = train_21['LogPrice (€)']"
   ]
  },
  {
   "cell_type": "code",
   "execution_count": 26,
   "id": "2eeb6f81",
   "metadata": {},
   "outputs": [],
   "source": [
    "x_test_21 = test_21.loc[:, test_21.columns != 'LogPrice (€)']\n",
    "y_test_21 = test_21['LogPrice (€)']"
   ]
  },
  {
   "cell_type": "code",
   "execution_count": 27,
   "id": "a78439cb",
   "metadata": {},
   "outputs": [],
   "source": [
    "x_t_21 = x_test_21"
   ]
  },
  {
   "cell_type": "code",
   "execution_count": 28,
   "id": "1073c7fa",
   "metadata": {},
   "outputs": [],
   "source": [
    "#cv = RepeatedKFold(n_splits = 10, n_repeats = 3, random_state = 1)\n",
    "# define search\n",
    "model = TPOTRegressor(max_time_mins = 6)\n",
    "model1 = model.fit(x_train_21, y_train_21)"
   ]
  },
  {
   "cell_type": "code",
   "execution_count": 29,
   "id": "33321d75",
   "metadata": {},
   "outputs": [],
   "source": [
    "#model1.export('tpot_2021_pipeline.py')"
   ]
  },
  {
   "cell_type": "code",
   "execution_count": 30,
   "id": "bce6b573",
   "metadata": {},
   "outputs": [
    {
     "name": "stdout",
     "output_type": "stream",
     "text": [
      "MSE for TPOT AutoML 2021 is: 0.10419302127727534\n"
     ]
    }
   ],
   "source": [
    "# calculated values\n",
    "from sklearn.metrics import mean_squared_error\n",
    "y_predicted_21 = model1.predict(x_test_21)\n",
    "  \n",
    "# Calculation of Mean Squared Error (MSE)\n",
    "mse = mean_squared_error(y_test_21, y_predicted_21)\n",
    "print('MSE for TPOT AutoML 2021 is: ' + str(mse))"
   ]
  },
  {
   "cell_type": "code",
   "execution_count": 31,
   "id": "b3356797",
   "metadata": {},
   "outputs": [
    {
     "name": "stdout",
     "output_type": "stream",
     "text": [
      "RMSE for TPOT AutoML 2021 is: 0.3227894379890323\n"
     ]
    }
   ],
   "source": [
    "rmse = mean_squared_error(y_test_21, y_predicted_21, squared=False)\n",
    "print('RMSE for TPOT AutoML 2021 is: ' + str(rmse))"
   ]
  },
  {
   "cell_type": "code",
   "execution_count": 32,
   "id": "d78523da",
   "metadata": {},
   "outputs": [
    {
     "name": "stdout",
     "output_type": "stream",
     "text": [
      "Median Absolute Error:\n",
      "\n",
      "0.15072495041105702\n"
     ]
    }
   ],
   "source": [
    "median_se = np.square(np.subtract(y_test_21, y_predicted_21)).median() \n",
    " \n",
    "med = math.sqrt(median_se)\n",
    "print(\"Median Absolute Error:\\n\")\n",
    "print(med)"
   ]
  },
  {
   "cell_type": "code",
   "execution_count": 33,
   "id": "83d7cc9d",
   "metadata": {},
   "outputs": [
    {
     "name": "stdout",
     "output_type": "stream",
     "text": [
      "MAPE for TPOT AutoML 2021 is: 0.016806161788500494\n"
     ]
    }
   ],
   "source": [
    "from sklearn.metrics import mean_absolute_percentage_error\n",
    "mape = mean_absolute_percentage_error(y_test_21, y_predicted_21)\n",
    "print(\"MAPE for TPOT AutoML 2021 is: \" + str(mape))"
   ]
  },
  {
   "cell_type": "code",
   "execution_count": 34,
   "id": "7e8ea466",
   "metadata": {},
   "outputs": [],
   "source": [
    "acc = accuracy_threshold(y_test_21, y_predicted_21, 0.1)"
   ]
  },
  {
   "cell_type": "code",
   "execution_count": 113,
   "id": "79c07761",
   "metadata": {},
   "outputs": [],
   "source": [
    "%%capture\n",
    "import shap\n",
    "explainer = shap.Explainer(model1.predict, x_test_21)\n",
    "shap_values = explainer(x_test_21)\n",
    "#fig, ax = shap.summary_plot(shap_values, x_test_21, plot_type = 'bar')"
   ]
  },
  {
   "cell_type": "code",
   "execution_count": 112,
   "id": "585f6bea",
   "metadata": {},
   "outputs": [
    {
     "data": {
      "image/png": "[encoded data removed]",
      "text/plain": [
       "<Figure size 576x684 with 1 Axes>"
      ]
     },
     "metadata": {
      "needs_background": "light"
     },
     "output_type": "display_data"
    }
   ],
   "source": [
    "f = plt.figure()\n",
    "shap.summary_plot(shap_values, x_test_21, plot_type = 'bar')\n",
    "f.savefig(\"summary_plotleeds21.png\", bbox_inches = 'tight', dpi = 600)"
   ]
  },
  {
   "cell_type": "code",
   "execution_count": 111,
   "id": "2517306d",
   "metadata": {},
   "outputs": [],
   "source": [
    "fig"
   ]
  },
  {
   "cell_type": "code",
   "execution_count": 36,
   "id": "dbc0727b",
   "metadata": {},
   "outputs": [],
   "source": [
    "cnames=['Algorithm', 'Year', 'RMSE', 'MSE', 'MEDAE', 'Accuracy', 'MAPE']\n",
    "df11 = pd.DataFrame(columns=cnames)\n",
    "\n",
    "df11 = df11.append({'Algorithm': 'TPOT AutoML',\n",
    "            'Year': 2021,\n",
    "           'RMSE': rmse,\n",
    "           'MSE': mse,\n",
    "           'MEDAE': med,\n",
    "           'Accuracy': acc,\n",
    "           'MAPE': mape         \n",
    "          }, ignore_index=True)"
   ]
  },
  {
   "cell_type": "code",
   "execution_count": 37,
   "id": "c4849d9a",
   "metadata": {},
   "outputs": [],
   "source": [
    "dfreal1 = pd.DataFrame(y_test_21.values)\n",
    "dfpred1 = pd.DataFrame(y_predicted_21)"
   ]
  },
  {
   "cell_type": "markdown",
   "id": "d9dba387",
   "metadata": {},
   "source": [
    "### 2020"
   ]
  },
  {
   "cell_type": "code",
   "execution_count": 38,
   "id": "0d67d885",
   "metadata": {},
   "outputs": [],
   "source": [
    "specific20 = irl[irl['Year'] > 2016]"
   ]
  },
  {
   "cell_type": "code",
   "execution_count": 39,
   "id": "bb40ee6f",
   "metadata": {},
   "outputs": [],
   "source": [
    "test_20 = specific20[specific20['Year'] == 2020]\n",
    "train_20 = specific20[specific20['Year'] < 2020]\n",
    "\n",
    "x_train_20 = train_20.loc[:, train_20.columns != 'LogPrice (€)']\n",
    "y_train_20 = train_20['LogPrice (€)']\n",
    "\n",
    "x_test_20 = test_20.loc[:, test_20.columns != 'LogPrice (€)']\n",
    "y_test_20 = test_20['LogPrice (€)']"
   ]
  },
  {
   "cell_type": "code",
   "execution_count": 40,
   "id": "1b07ebfd",
   "metadata": {},
   "outputs": [],
   "source": [
    "x_t_20 = x_test_20"
   ]
  },
  {
   "cell_type": "code",
   "execution_count": 41,
   "id": "55c147e6",
   "metadata": {},
   "outputs": [],
   "source": [
    "model = TPOTRegressor(max_time_mins = 6)\n",
    "model2 = model.fit(x_train_20, y_train_20)"
   ]
  },
  {
   "cell_type": "code",
   "execution_count": 42,
   "id": "290c9a8e",
   "metadata": {},
   "outputs": [],
   "source": [
    "#model2.export('tpot_2020_pipeline.py')"
   ]
  },
  {
   "cell_type": "code",
   "execution_count": 43,
   "id": "416b6d51",
   "metadata": {},
   "outputs": [
    {
     "name": "stdout",
     "output_type": "stream",
     "text": [
      "MSE for TPOT AutoML 2020 is: 0.040499360021706884\n"
     ]
    }
   ],
   "source": [
    "y_predicted_20 = model1.predict(x_test_20)\n",
    "  \n",
    "# Calculation of Mean Squared Error (MSE)\n",
    "mse = mean_squared_error(y_test_20, y_predicted_20)\n",
    "print('MSE for TPOT AutoML 2020 is: ' + str(mse))"
   ]
  },
  {
   "cell_type": "code",
   "execution_count": 44,
   "id": "e355b1e4",
   "metadata": {},
   "outputs": [
    {
     "name": "stdout",
     "output_type": "stream",
     "text": [
      "MAPE for TPOT AutoML 2020 is: 0.010114671718898868\n"
     ]
    }
   ],
   "source": [
    "from sklearn.metrics import mean_absolute_percentage_error\n",
    "mape = mean_absolute_percentage_error(y_test_20, y_predicted_20)\n",
    "print(\"MAPE for TPOT AutoML 2020 is: \" + str(mape))"
   ]
  },
  {
   "cell_type": "code",
   "execution_count": 45,
   "id": "09781a7c",
   "metadata": {},
   "outputs": [
    {
     "name": "stdout",
     "output_type": "stream",
     "text": [
      "Median Absolute Error:\n",
      "\n",
      "0.08466122989072034\n"
     ]
    }
   ],
   "source": [
    "median_se = np.square(np.subtract(y_test_20, y_predicted_20)).median() \n",
    " \n",
    "med = math.sqrt(median_se)\n",
    "print(\"Median Absolute Error:\\n\")\n",
    "print(med)"
   ]
  },
  {
   "cell_type": "code",
   "execution_count": 46,
   "id": "76e10acc",
   "metadata": {},
   "outputs": [
    {
     "name": "stdout",
     "output_type": "stream",
     "text": [
      "RMSE for TPOT AutoML 2020 is: 0.2012445279298468\n"
     ]
    }
   ],
   "source": [
    "rmse = mean_squared_error(y_test_20, y_predicted_20, squared=False)\n",
    "print('RMSE for TPOT AutoML 2020 is: ' + str(rmse))"
   ]
  },
  {
   "cell_type": "code",
   "execution_count": 47,
   "id": "871be6ce",
   "metadata": {},
   "outputs": [],
   "source": [
    "acc = accuracy_threshold(y_test_20, y_predicted_20, 0.1)"
   ]
  },
  {
   "cell_type": "code",
   "execution_count": 48,
   "id": "1675f7ae",
   "metadata": {},
   "outputs": [],
   "source": [
    "cnames=['Algorithm', 'Year', 'RMSE', 'MSE', 'MEDAE', 'Accuracy', 'MAPE']\n",
    "df12 = pd.DataFrame(columns=cnames)\n",
    "\n",
    "df12 = df12.append({'Algorithm': 'TPOT AutoML',\n",
    "            'Year': 2020,\n",
    "           'RMSE': rmse,\n",
    "           'MSE': mse,\n",
    "           'MEDAE': med,\n",
    "           'Accuracy': acc,\n",
    "           'MAPE': mape         \n",
    "          }, ignore_index=True)"
   ]
  },
  {
   "cell_type": "code",
   "execution_count": 49,
   "id": "cf1310c8",
   "metadata": {},
   "outputs": [],
   "source": [
    "dfreal2 = pd.DataFrame(y_test_20.values)\n",
    "dfpred2 = pd.DataFrame(y_predicted_20)"
   ]
  },
  {
   "cell_type": "code",
   "execution_count": 114,
   "id": "15e2711c",
   "metadata": {},
   "outputs": [],
   "source": [
    "%%capture\n",
    "explainer = shap.Explainer(model2.predict, x_test_20)\n",
    "shap_values = explainer(x_test_20)"
   ]
  },
  {
   "cell_type": "code",
   "execution_count": 115,
   "id": "a6b903f5",
   "metadata": {},
   "outputs": [
    {
     "data": {
      "image/png": "[encoded data removed]",
      "text/plain": [
       "<Figure size 576x684 with 1 Axes>"
      ]
     },
     "metadata": {
      "needs_background": "light"
     },
     "output_type": "display_data"
    }
   ],
   "source": [
    "f = plt.figure()\n",
    "shap.summary_plot(shap_values, x_test_20, plot_type = 'bar')\n",
    "f.savefig(\"summary_plotleeds20.png\", bbox_inches = 'tight', dpi = 600)"
   ]
  },
  {
   "cell_type": "markdown",
   "id": "1b88f9b0",
   "metadata": {},
   "source": [
    "### 2019"
   ]
  },
  {
   "cell_type": "code",
   "execution_count": 51,
   "id": "7334741d",
   "metadata": {},
   "outputs": [],
   "source": [
    "specific19 = irl[irl['Year'] > 2015]"
   ]
  },
  {
   "cell_type": "code",
   "execution_count": 52,
   "id": "fc20af96",
   "metadata": {},
   "outputs": [],
   "source": [
    "test_19 = specific19[specific19['Year'] == 2019]\n",
    "train_19 = specific19[specific19['Year'] < 2019]\n",
    "x_train_19 = train_19.loc[:, train_19.columns != 'LogPrice (€)']\n",
    "y_train_19 = train_19['LogPrice (€)']\n",
    "x_test_19 = test_19.loc[:, test_19.columns != 'LogPrice (€)']\n",
    "y_test_19 = test_19['LogPrice (€)']"
   ]
  },
  {
   "cell_type": "code",
   "execution_count": 53,
   "id": "1c8df76a",
   "metadata": {},
   "outputs": [],
   "source": [
    "x_t_19 = x_test_19"
   ]
  },
  {
   "cell_type": "code",
   "execution_count": 54,
   "id": "11df60b0",
   "metadata": {},
   "outputs": [],
   "source": [
    "model = TPOTRegressor(max_time_mins = 6)\n",
    "# perform the search // takes ages to run!\n",
    "model3 = model.fit(x_train_19, y_train_19)"
   ]
  },
  {
   "cell_type": "code",
   "execution_count": 55,
   "id": "0f8c2583",
   "metadata": {},
   "outputs": [],
   "source": [
    "#model3.export('tpot_2019_pipeline.py')"
   ]
  },
  {
   "cell_type": "code",
   "execution_count": 56,
   "id": "1ad0f284",
   "metadata": {},
   "outputs": [
    {
     "name": "stdout",
     "output_type": "stream",
     "text": [
      "MSE for TPOT AutoML 2019 is: 0.04626213399165155\n"
     ]
    }
   ],
   "source": [
    "y_predicted_19 = model1.predict(x_test_19)\n",
    "  \n",
    "# Calculation of Mean Squared Error (MSE)\n",
    "mse = mean_squared_error(y_test_19, y_predicted_19)\n",
    "print('MSE for TPOT AutoML 2019 is: ' + str(mse))"
   ]
  },
  {
   "cell_type": "code",
   "execution_count": 57,
   "id": "6e417e0e",
   "metadata": {},
   "outputs": [
    {
     "name": "stdout",
     "output_type": "stream",
     "text": [
      "MAPE for TPOT AutoML 2019 is: 0.01069157406387535\n"
     ]
    }
   ],
   "source": [
    "from sklearn.metrics import mean_absolute_percentage_error\n",
    "mape = mean_absolute_percentage_error(y_test_19, y_predicted_19)\n",
    "print(\"MAPE for TPOT AutoML 2019 is: \" + str(mape))"
   ]
  },
  {
   "cell_type": "code",
   "execution_count": 58,
   "id": "8d058427",
   "metadata": {},
   "outputs": [
    {
     "name": "stdout",
     "output_type": "stream",
     "text": [
      "Median Absolute Error:\n",
      "\n",
      "0.08262001885010743\n"
     ]
    }
   ],
   "source": [
    "median_se = np.square(np.subtract(y_test_19, y_predicted_19)).median() \n",
    " \n",
    "med = math.sqrt(median_se)\n",
    "print(\"Median Absolute Error:\\n\")\n",
    "print(med)"
   ]
  },
  {
   "cell_type": "code",
   "execution_count": 59,
   "id": "39bc82a7",
   "metadata": {},
   "outputs": [
    {
     "name": "stdout",
     "output_type": "stream",
     "text": [
      "RMSE for TPOT AutoML 2019 is: 0.2150863407835364\n"
     ]
    }
   ],
   "source": [
    "rmse = mean_squared_error(y_test_19, y_predicted_19, squared = False)\n",
    "print('RMSE for TPOT AutoML 2019 is: ' + str(rmse))"
   ]
  },
  {
   "cell_type": "code",
   "execution_count": 60,
   "id": "942872cd",
   "metadata": {},
   "outputs": [],
   "source": [
    "acc = accuracy_threshold(y_test_19, y_predicted_19, 0.1)"
   ]
  },
  {
   "cell_type": "code",
   "execution_count": 116,
   "id": "7aebc483",
   "metadata": {},
   "outputs": [],
   "source": [
    "%%capture\n",
    "explainer = shap.Explainer(model3.predict, x_test_19)\n",
    "shap_values = explainer(x_test_19)"
   ]
  },
  {
   "cell_type": "code",
   "execution_count": 117,
   "id": "cf2ff0d4",
   "metadata": {},
   "outputs": [
    {
     "data": {
      "image/png": "[encoded data removed]",
      "text/plain": [
       "<Figure size 576x684 with 1 Axes>"
      ]
     },
     "metadata": {
      "needs_background": "light"
     },
     "output_type": "display_data"
    }
   ],
   "source": [
    "f = plt.figure()\n",
    "shap.summary_plot(shap_values, x_test_19, plot_type = 'bar')\n",
    "f.savefig(\"summary_plotleeds19.png\", bbox_inches = 'tight', dpi = 600)"
   ]
  },
  {
   "cell_type": "code",
   "execution_count": 62,
   "id": "2838e1fb",
   "metadata": {},
   "outputs": [],
   "source": [
    "cnames=['Algorithm', 'Year', 'RMSE', 'MSE', 'MEDAE', 'Accuracy', 'MAPE']\n",
    "df13 = pd.DataFrame(columns = cnames)\n",
    "\n",
    "df13 = df13.append({'Algorithm': 'TPOT AutoML',\n",
    "            'Year': 2019,\n",
    "           'RMSE': rmse,\n",
    "           'MSE': mse,\n",
    "           'MEDAE': med,\n",
    "           'Accuracy': acc,\n",
    "           'MAPE': mape         \n",
    "          }, ignore_index=True)"
   ]
  },
  {
   "cell_type": "code",
   "execution_count": 63,
   "id": "5fc22a85",
   "metadata": {},
   "outputs": [],
   "source": [
    "dfreal3 = pd.DataFrame(y_test_19.values)\n",
    "dfpred3 = pd.DataFrame(y_predicted_19)"
   ]
  },
  {
   "cell_type": "markdown",
   "id": "db8d148f",
   "metadata": {},
   "source": [
    "### 2018"
   ]
  },
  {
   "cell_type": "code",
   "execution_count": 64,
   "id": "e4f7f4f8",
   "metadata": {},
   "outputs": [],
   "source": [
    "specific18 = irl[irl['Year'] > 2014]\n",
    "test_18 = specific18[specific18['Year'] == 2018]\n",
    "train_18 = specific18[specific18['Year'] < 2018]\n",
    "\n",
    "x_train_18 = train_18.loc[:, train_18.columns != 'LogPrice (€)']\n",
    "y_train_18 = train_18['LogPrice (€)']\n",
    "x_test_18 = test_18.loc[:, test_18.columns != 'LogPrice (€)']\n",
    "y_test_18 = test_18['LogPrice (€)']"
   ]
  },
  {
   "cell_type": "code",
   "execution_count": 65,
   "id": "c19b80a2",
   "metadata": {},
   "outputs": [],
   "source": [
    "x_t_18 = x_test_18"
   ]
  },
  {
   "cell_type": "code",
   "execution_count": 66,
   "id": "c6e7b3fe",
   "metadata": {},
   "outputs": [],
   "source": [
    "model = TPOTRegressor(max_time_mins = 6)\n",
    "# perform the search // takes ages to run!\n",
    "model4 = model.fit(x_train_18, y_train_18)"
   ]
  },
  {
   "cell_type": "code",
   "execution_count": 67,
   "id": "8eec4772",
   "metadata": {},
   "outputs": [],
   "source": [
    "#model4.export('tpot_2018_pipeline.py')"
   ]
  },
  {
   "cell_type": "code",
   "execution_count": 68,
   "id": "ec805f86",
   "metadata": {},
   "outputs": [
    {
     "name": "stdout",
     "output_type": "stream",
     "text": [
      "MSE for TPOT AutoML 2018 is: 0.03623937669395505\n"
     ]
    }
   ],
   "source": [
    "y_predicted_18 = model1.predict(x_test_18)\n",
    "  \n",
    "# Calculation of Mean Squared Error (MSE)\n",
    "mse = mean_squared_error(y_test_18, y_predicted_18)\n",
    "print('MSE for TPOT AutoML 2018 is: ' + str(mse))"
   ]
  },
  {
   "cell_type": "code",
   "execution_count": 69,
   "id": "9c417178",
   "metadata": {},
   "outputs": [
    {
     "name": "stdout",
     "output_type": "stream",
     "text": [
      "RMSE for TPOT AutoML 2018 is: 0.19036642743392293\n"
     ]
    }
   ],
   "source": [
    "rmse = mean_squared_error(y_test_18, y_predicted_18, squared = False)\n",
    "print('RMSE for TPOT AutoML 2018 is: ' + str(rmse))"
   ]
  },
  {
   "cell_type": "code",
   "execution_count": 70,
   "id": "41e40583",
   "metadata": {},
   "outputs": [
    {
     "name": "stdout",
     "output_type": "stream",
     "text": [
      "MAPE for TPOT AutoML 2018 is: 0.008264219524500013\n"
     ]
    }
   ],
   "source": [
    "from sklearn.metrics import mean_absolute_percentage_error\n",
    "mape = mean_absolute_percentage_error(y_test_18, y_predicted_18)\n",
    "print(\"MAPE for TPOT AutoML 2018 is: \" + str(mape))"
   ]
  },
  {
   "cell_type": "code",
   "execution_count": 71,
   "id": "ff235f0c",
   "metadata": {},
   "outputs": [
    {
     "name": "stdout",
     "output_type": "stream",
     "text": [
      "Median Absolute Error:\n",
      "\n",
      "0.06125614991689599\n"
     ]
    }
   ],
   "source": [
    "median_se = np.square(np.subtract(y_test_18, y_predicted_18)).median() \n",
    " \n",
    "med = math.sqrt(median_se)\n",
    "print(\"Median Absolute Error:\\n\")\n",
    "print(med)"
   ]
  },
  {
   "cell_type": "code",
   "execution_count": 72,
   "id": "e4f71ccf",
   "metadata": {},
   "outputs": [],
   "source": [
    "acc = accuracy_threshold(y_test_18, y_predicted_18, 0.1)"
   ]
  },
  {
   "cell_type": "code",
   "execution_count": 120,
   "id": "830fe245",
   "metadata": {},
   "outputs": [],
   "source": [
    "%%capture\n",
    "explainer = shap.Explainer(model4.predict, x_test_18)\n",
    "shap_values = explainer(x_test_18)"
   ]
  },
  {
   "cell_type": "code",
   "execution_count": 121,
   "id": "6fd5459f",
   "metadata": {},
   "outputs": [
    {
     "data": {
      "image/png": "[encoded data removed]",
      "text/plain": [
       "<Figure size 576x684 with 1 Axes>"
      ]
     },
     "metadata": {
      "needs_background": "light"
     },
     "output_type": "display_data"
    }
   ],
   "source": [
    "f = plt.figure()\n",
    "shap.summary_plot(shap_values, x_test_18, plot_type = 'bar')\n",
    "f.savefig(\"summary_plotleeds18.png\", bbox_inches = 'tight', dpi = 600)"
   ]
  },
  {
   "cell_type": "code",
   "execution_count": 74,
   "id": "80dc53ea",
   "metadata": {},
   "outputs": [],
   "source": [
    "cnames=['Algorithm', 'Year', 'RMSE', 'MSE', 'MEDAE', 'Accuracy', 'MAPE']\n",
    "df14 = pd.DataFrame(columns=cnames)\n",
    "\n",
    "df14 = df14.append({'Algorithm': 'TPOT AutoML',\n",
    "            'Year': 2018,\n",
    "           'RMSE': rmse,\n",
    "           'MSE': mse,\n",
    "           'MEDAE': med,\n",
    "           'Accuracy': acc,\n",
    "           'MAPE': mape         \n",
    "          }, ignore_index=True)"
   ]
  },
  {
   "cell_type": "code",
   "execution_count": 75,
   "id": "d1ede4c8",
   "metadata": {},
   "outputs": [],
   "source": [
    "dfreal4 = pd.DataFrame(y_test_18.values)\n",
    "dfpred4 = pd.DataFrame(y_predicted_18)"
   ]
  },
  {
   "cell_type": "markdown",
   "id": "f17ba444",
   "metadata": {},
   "source": [
    "### 2017"
   ]
  },
  {
   "cell_type": "code",
   "execution_count": 76,
   "id": "54a16f8e",
   "metadata": {},
   "outputs": [],
   "source": [
    "specific17 = irl[irl['Year'] > 2013]\n",
    "test_17 = specific17[specific17['Year'] == 2017]\n",
    "train_17 = specific17[specific17['Year'] < 2017]\n",
    "\n",
    "x_train_17 = train_17.loc[:, train_17.columns != 'LogPrice (€)']\n",
    "y_train_17 = train_17['LogPrice (€)']\n",
    "x_test_17 = test_17.loc[:, test_17.columns != 'LogPrice (€)']\n",
    "y_test_17 = test_17['LogPrice (€)']"
   ]
  },
  {
   "cell_type": "code",
   "execution_count": 77,
   "id": "f1f97f71",
   "metadata": {},
   "outputs": [],
   "source": [
    "x_t_17 = x_test_17"
   ]
  },
  {
   "cell_type": "code",
   "execution_count": 78,
   "id": "b6513a2c",
   "metadata": {},
   "outputs": [],
   "source": [
    "model = TPOTRegressor(max_time_mins = 6)\n",
    "# perform the search // takes ages to run!\n",
    "model5 = model.fit(x_train_17, y_train_17)"
   ]
  },
  {
   "cell_type": "code",
   "execution_count": 79,
   "id": "6afde390",
   "metadata": {},
   "outputs": [],
   "source": [
    "#model5.export('tpot_2017_pipeline.py')"
   ]
  },
  {
   "cell_type": "code",
   "execution_count": 80,
   "id": "9ebc3aa9",
   "metadata": {},
   "outputs": [
    {
     "name": "stdout",
     "output_type": "stream",
     "text": [
      "MSE for TPOT AutoML 2017 is: 0.09667156365173803\n"
     ]
    }
   ],
   "source": [
    "y_predicted_17 = model1.predict(x_test_17)\n",
    "  \n",
    "# Calculation of Mean Squared Error (MSE)\n",
    "mse = mean_squared_error(y_test_17, y_predicted_17)\n",
    "print('MSE for TPOT AutoML 2017 is: ' + str(mse))"
   ]
  },
  {
   "cell_type": "code",
   "execution_count": 81,
   "id": "edeb7f03",
   "metadata": {},
   "outputs": [
    {
     "name": "stdout",
     "output_type": "stream",
     "text": [
      "MAPE for TPOT AutoML 2017 is: 0.01568534277486119\n"
     ]
    }
   ],
   "source": [
    "from sklearn.metrics import mean_absolute_percentage_error\n",
    "mape = mean_absolute_percentage_error(y_test_17, y_predicted_17)\n",
    "print(\"MAPE for TPOT AutoML 2017 is: \" + str(mape))"
   ]
  },
  {
   "cell_type": "code",
   "execution_count": 82,
   "id": "e7f5ec5f",
   "metadata": {},
   "outputs": [
    {
     "name": "stdout",
     "output_type": "stream",
     "text": [
      "Median Absolute Error:\n",
      "\n",
      "0.12536724860382442\n"
     ]
    }
   ],
   "source": [
    "median_se = np.square(np.subtract(y_test_17, y_predicted_17)).median() \n",
    " \n",
    "med = math.sqrt(median_se)\n",
    "print(\"Median Absolute Error:\\n\")\n",
    "print(med)"
   ]
  },
  {
   "cell_type": "code",
   "execution_count": 83,
   "id": "4df87b20",
   "metadata": {},
   "outputs": [
    {
     "name": "stdout",
     "output_type": "stream",
     "text": [
      "RMSE for TPOT AutoML 2017 is: 0.3109205101818438\n"
     ]
    }
   ],
   "source": [
    "rmse = mean_squared_error(y_test_17, y_predicted_17, squared=False)\n",
    "print('RMSE for TPOT AutoML 2017 is: ' + str(rmse))"
   ]
  },
  {
   "cell_type": "code",
   "execution_count": 84,
   "id": "1ffd42fe",
   "metadata": {},
   "outputs": [],
   "source": [
    "acc = accuracy_threshold(y_test_17, y_predicted_17, 0.1)"
   ]
  },
  {
   "cell_type": "code",
   "execution_count": 122,
   "id": "92bb6972",
   "metadata": {},
   "outputs": [],
   "source": [
    "%%capture\n",
    "explainer = shap.Explainer(model5.predict, x_test_17)\n",
    "shap_values = explainer(x_test_17)"
   ]
  },
  {
   "cell_type": "code",
   "execution_count": 123,
   "id": "a55eb5ab",
   "metadata": {},
   "outputs": [
    {
     "data": {
      "image/png": "[encoded data removed]",
      "text/plain": [
       "<Figure size 576x684 with 1 Axes>"
      ]
     },
     "metadata": {
      "needs_background": "light"
     },
     "output_type": "display_data"
    }
   ],
   "source": [
    "f = plt.figure()\n",
    "shap.summary_plot(shap_values, x_test_17, plot_type = 'bar')\n",
    "f.savefig(\"summary_plotleeds17.png\", bbox_inches = 'tight', dpi = 600)"
   ]
  },
  {
   "cell_type": "code",
   "execution_count": 86,
   "id": "7fafc213",
   "metadata": {},
   "outputs": [],
   "source": [
    "dfreal5 = pd.DataFrame(y_test_17.values)\n",
    "dfpred5 = pd.DataFrame(y_predicted_17)"
   ]
  },
  {
   "cell_type": "code",
   "execution_count": 87,
   "id": "fef6770d",
   "metadata": {},
   "outputs": [],
   "source": [
    "cnames=['Algorithm', 'Year', 'RMSE', 'MSE', 'MEDAE', 'Accuracy', 'MAPE']\n",
    "df15 = pd.DataFrame(columns=cnames)\n",
    "\n",
    "df15 = df15.append({'Algorithm': 'TPOT AutoML',\n",
    "            'Year': 2017,\n",
    "           'RMSE': rmse,\n",
    "           'MSE': mse,\n",
    "           'MEDAE': med,\n",
    "           'Accuracy': acc,\n",
    "           'MAPE': mape         \n",
    "          }, ignore_index=True)"
   ]
  },
  {
   "cell_type": "code",
   "execution_count": 88,
   "id": "906e311d",
   "metadata": {},
   "outputs": [],
   "source": [
    "vis1 = pd.concat([df11, df12, df13, df14, df15], ignore_index=True)"
   ]
  },
  {
   "cell_type": "code",
   "execution_count": 119,
   "id": "2e146d45",
   "metadata": {},
   "outputs": [
    {
     "data": {
      "image/png": "[encoded data removed]",
      "text/plain": [
       "<Figure size 1800x576 with 1 Axes>"
      ]
     },
     "metadata": {
      "needs_background": "light"
     },
     "output_type": "display_data"
    }
   ],
   "source": [
    "# don't need cross validation same training due to set intervals?\n",
    "fig, ax = plt.subplots(figsize = (25, 8))\n",
    "plt.plot(vis1['Year'], vis1['Accuracy'], color = 'black')\n",
    "plt.xlabel('Year', fontsize = 15)\n",
    "plt.ylabel('Accuracy', fontsize = 15)\n",
    "#plt.title('TPOT AutoML Results 2017 - 2021')\n",
    "plt.legend()\n",
    "plt.show()\n",
    "\n",
    "fig.savefig('performance-overtime-leedstpot.png', bbox_inches='tight')"
   ]
  },
  {
   "cell_type": "code",
   "execution_count": 90,
   "id": "66c109ff",
   "metadata": {},
   "outputs": [
    {
     "name": "stdout",
     "output_type": "stream",
     "text": [
      "Mean accuracy for TPOT AutoML over period 2017-2021 is: 0.5239357019141636\n"
     ]
    }
   ],
   "source": [
    "print(\"Mean accuracy for TPOT AutoML over period 2017-2021 is: \" + str(vis1['Accuracy'].mean()))"
   ]
  },
  {
   "cell_type": "code",
   "execution_count": 91,
   "id": "21da3c7c",
   "metadata": {},
   "outputs": [
    {
     "data": {
      "text/html": [
       "<div>\n",
       "<style scoped>\n",
       "    .dataframe tbody tr th:only-of-type {\n",
       "        vertical-align: middle;\n",
       "    }\n",
       "\n",
       "    .dataframe tbody tr th {\n",
       "        vertical-align: top;\n",
       "    }\n",
       "\n",
       "    .dataframe thead th {\n",
       "        text-align: right;\n",
       "    }\n",
       "</style>\n",
       "<table border=\"1\" class=\"dataframe\">\n",
       "  <thead>\n",
       "    <tr style=\"text-align: right;\">\n",
       "      <th></th>\n",
       "      <th>Actual</th>\n",
       "    </tr>\n",
       "  </thead>\n",
       "  <tbody>\n",
       "    <tr>\n",
       "      <th>0</th>\n",
       "      <td>12.823148</td>\n",
       "    </tr>\n",
       "    <tr>\n",
       "      <th>1</th>\n",
       "      <td>11.891362</td>\n",
       "    </tr>\n",
       "    <tr>\n",
       "      <th>2</th>\n",
       "      <td>13.681979</td>\n",
       "    </tr>\n",
       "    <tr>\n",
       "      <th>3</th>\n",
       "      <td>11.982929</td>\n",
       "    </tr>\n",
       "    <tr>\n",
       "      <th>4</th>\n",
       "      <td>11.652687</td>\n",
       "    </tr>\n",
       "  </tbody>\n",
       "</table>\n",
       "</div>"
      ],
      "text/plain": [
       "      Actual\n",
       "0  12.823148\n",
       "1  11.891362\n",
       "2  13.681979\n",
       "3  11.982929\n",
       "4  11.652687"
      ]
     },
     "execution_count": 91,
     "metadata": {},
     "output_type": "execute_result"
    }
   ],
   "source": [
    "actual = pd.concat([dfreal1, dfreal2, dfreal3, dfreal4, dfreal5], ignore_index = True)\n",
    "actual.rename(columns = {0: 'Actual'}, inplace = True)\n",
    "actual.head()"
   ]
  },
  {
   "cell_type": "code",
   "execution_count": 92,
   "id": "d8571942",
   "metadata": {},
   "outputs": [
    {
     "data": {
      "text/html": [
       "<div>\n",
       "<style scoped>\n",
       "    .dataframe tbody tr th:only-of-type {\n",
       "        vertical-align: middle;\n",
       "    }\n",
       "\n",
       "    .dataframe tbody tr th {\n",
       "        vertical-align: top;\n",
       "    }\n",
       "\n",
       "    .dataframe thead th {\n",
       "        text-align: right;\n",
       "    }\n",
       "</style>\n",
       "<table border=\"1\" class=\"dataframe\">\n",
       "  <thead>\n",
       "    <tr style=\"text-align: right;\">\n",
       "      <th></th>\n",
       "      <th>Predicted</th>\n",
       "    </tr>\n",
       "  </thead>\n",
       "  <tbody>\n",
       "    <tr>\n",
       "      <th>0</th>\n",
       "      <td>12.748670</td>\n",
       "    </tr>\n",
       "    <tr>\n",
       "      <th>1</th>\n",
       "      <td>11.661945</td>\n",
       "    </tr>\n",
       "    <tr>\n",
       "      <th>2</th>\n",
       "      <td>13.255032</td>\n",
       "    </tr>\n",
       "    <tr>\n",
       "      <th>3</th>\n",
       "      <td>12.448281</td>\n",
       "    </tr>\n",
       "    <tr>\n",
       "      <th>4</th>\n",
       "      <td>11.619074</td>\n",
       "    </tr>\n",
       "  </tbody>\n",
       "</table>\n",
       "</div>"
      ],
      "text/plain": [
       "   Predicted\n",
       "0  12.748670\n",
       "1  11.661945\n",
       "2  13.255032\n",
       "3  12.448281\n",
       "4  11.619074"
      ]
     },
     "execution_count": 92,
     "metadata": {},
     "output_type": "execute_result"
    }
   ],
   "source": [
    "pred = pd.concat([dfpred1, dfpred2, dfpred3, dfpred4, dfpred5], ignore_index = True)\n",
    "pred.rename(columns={0: 'Predicted'}, inplace = True)\n",
    "pred.head()"
   ]
  },
  {
   "cell_type": "code",
   "execution_count": 93,
   "id": "79e48ade",
   "metadata": {},
   "outputs": [],
   "source": [
    "actualvpred = actual.join(pred)"
   ]
  },
  {
   "cell_type": "code",
   "execution_count": 94,
   "id": "f6200fb6",
   "metadata": {},
   "outputs": [
    {
     "data": {
      "text/html": [
       "<div>\n",
       "<style scoped>\n",
       "    .dataframe tbody tr th:only-of-type {\n",
       "        vertical-align: middle;\n",
       "    }\n",
       "\n",
       "    .dataframe tbody tr th {\n",
       "        vertical-align: top;\n",
       "    }\n",
       "\n",
       "    .dataframe thead th {\n",
       "        text-align: right;\n",
       "    }\n",
       "</style>\n",
       "<table border=\"1\" class=\"dataframe\">\n",
       "  <thead>\n",
       "    <tr style=\"text-align: right;\">\n",
       "      <th></th>\n",
       "      <th>Actual</th>\n",
       "      <th>Predicted</th>\n",
       "    </tr>\n",
       "  </thead>\n",
       "  <tbody>\n",
       "    <tr>\n",
       "      <th>0</th>\n",
       "      <td>12.823148</td>\n",
       "      <td>12.748670</td>\n",
       "    </tr>\n",
       "    <tr>\n",
       "      <th>1</th>\n",
       "      <td>11.891362</td>\n",
       "      <td>11.661945</td>\n",
       "    </tr>\n",
       "    <tr>\n",
       "      <th>2</th>\n",
       "      <td>13.681979</td>\n",
       "      <td>13.255032</td>\n",
       "    </tr>\n",
       "    <tr>\n",
       "      <th>3</th>\n",
       "      <td>11.982929</td>\n",
       "      <td>12.448281</td>\n",
       "    </tr>\n",
       "    <tr>\n",
       "      <th>4</th>\n",
       "      <td>11.652687</td>\n",
       "      <td>11.619074</td>\n",
       "    </tr>\n",
       "  </tbody>\n",
       "</table>\n",
       "</div>"
      ],
      "text/plain": [
       "      Actual  Predicted\n",
       "0  12.823148  12.748670\n",
       "1  11.891362  11.661945\n",
       "2  13.681979  13.255032\n",
       "3  11.982929  12.448281\n",
       "4  11.652687  11.619074"
      ]
     },
     "execution_count": 94,
     "metadata": {},
     "output_type": "execute_result"
    }
   ],
   "source": [
    "actualvpred.head()"
   ]
  },
  {
   "cell_type": "code",
   "execution_count": 95,
   "id": "959de25d",
   "metadata": {},
   "outputs": [],
   "source": [
    "exp = np.exp(actualvpred)"
   ]
  },
  {
   "cell_type": "code",
   "execution_count": 96,
   "id": "24c74507",
   "metadata": {},
   "outputs": [
    {
     "data": {
      "text/plain": [
       "(27414, 2)"
      ]
     },
     "execution_count": 96,
     "metadata": {},
     "output_type": "execute_result"
    }
   ],
   "source": [
    "exp.shape"
   ]
  },
  {
   "cell_type": "code",
   "execution_count": 97,
   "id": "1eec9e54",
   "metadata": {},
   "outputs": [
    {
     "data": {
      "image/png": "[encoded data removed]",
      "text/plain": [
       "<Figure size 720x720 with 1 Axes>"
      ]
     },
     "metadata": {
      "needs_background": "light"
     },
     "output_type": "display_data"
    }
   ],
   "source": [
    "# plot predicted vs actual\n",
    "## this is using actual prices hence adjusted scale compared to mljar plot\n",
    "fig, ax = plt.subplots(figsize = (10, 10))\n",
    "plt.scatter(exp['Actual'], exp['Predicted'], c = 'black')\n",
    "\n",
    "p1 = max(max(exp['Predicted']), max(exp['Actual']))\n",
    "p2 = min(min(exp['Predicted']), min(exp['Actual']))\n",
    "plt.plot([p1, p2], [p1, p2], 'r-')\n",
    "plt.xlabel('True Values', fontsize = 15)\n",
    "plt.ylabel('Predictions', fontsize = 15)\n",
    "#plt.title('TPOT AutoML Actual Vs Predicted Values')\n",
    "plt.axis('equal')\n",
    "plt.show()\n",
    "\n",
    "fig.savefig('actualvpred-leedstpot.png', bbox_inches='tight')"
   ]
  },
  {
   "cell_type": "code",
   "execution_count": 98,
   "id": "f861674f",
   "metadata": {},
   "outputs": [],
   "source": [
    "x_t_21 = x_t_21.reset_index()\n",
    "x_t_20 = x_t_20.reset_index()\n",
    "x_t_19 = x_t_19.reset_index()\n",
    "x_t_18 = x_t_18.reset_index()\n",
    "x_t_17 = x_t_17.reset_index()\n",
    "\n",
    "x_t_21.drop(columns = ['index'], inplace = True)\n",
    "x_t_20.drop(columns = ['index'], inplace = True)\n",
    "x_t_19.drop(columns = ['index'], inplace = True)\n",
    "x_t_18.drop(columns = ['index'], inplace = True)\n",
    "x_t_17.drop(columns = ['index'], inplace = True)"
   ]
  },
  {
   "cell_type": "code",
   "execution_count": 99,
   "id": "0e33d5d8",
   "metadata": {},
   "outputs": [
    {
     "data": {
      "text/html": [
       "<div>\n",
       "<style scoped>\n",
       "    .dataframe tbody tr th:only-of-type {\n",
       "        vertical-align: middle;\n",
       "    }\n",
       "\n",
       "    .dataframe tbody tr th {\n",
       "        vertical-align: top;\n",
       "    }\n",
       "\n",
       "    .dataframe thead th {\n",
       "        text-align: right;\n",
       "    }\n",
       "</style>\n",
       "<table border=\"1\" class=\"dataframe\">\n",
       "  <thead>\n",
       "    <tr style=\"text-align: right;\">\n",
       "      <th></th>\n",
       "      <th>0</th>\n",
       "      <th>Longitude</th>\n",
       "      <th>Latitude</th>\n",
       "    </tr>\n",
       "  </thead>\n",
       "  <tbody>\n",
       "    <tr>\n",
       "      <th>0</th>\n",
       "      <td>12.823148</td>\n",
       "      <td>-1.58847</td>\n",
       "      <td>53.74855</td>\n",
       "    </tr>\n",
       "    <tr>\n",
       "      <th>1</th>\n",
       "      <td>11.891362</td>\n",
       "      <td>-1.61968</td>\n",
       "      <td>53.80770</td>\n",
       "    </tr>\n",
       "    <tr>\n",
       "      <th>2</th>\n",
       "      <td>13.681979</td>\n",
       "      <td>-1.65612</td>\n",
       "      <td>53.83972</td>\n",
       "    </tr>\n",
       "    <tr>\n",
       "      <th>3</th>\n",
       "      <td>11.982929</td>\n",
       "      <td>-1.47258</td>\n",
       "      <td>53.85191</td>\n",
       "    </tr>\n",
       "    <tr>\n",
       "      <th>4</th>\n",
       "      <td>11.652687</td>\n",
       "      <td>-1.44393</td>\n",
       "      <td>53.72532</td>\n",
       "    </tr>\n",
       "  </tbody>\n",
       "</table>\n",
       "</div>"
      ],
      "text/plain": [
       "           0  Longitude  Latitude\n",
       "0  12.823148   -1.58847  53.74855\n",
       "1  11.891362   -1.61968  53.80770\n",
       "2  13.681979   -1.65612  53.83972\n",
       "3  11.982929   -1.47258  53.85191\n",
       "4  11.652687   -1.44393  53.72532"
      ]
     },
     "execution_count": 99,
     "metadata": {},
     "output_type": "execute_result"
    }
   ],
   "source": [
    "l1 = dfreal1.join(x_t_21[['Longitude', 'Latitude']])\n",
    "l2 = dfreal2.join(x_t_20[['Longitude', 'Latitude']])\n",
    "l3 = dfreal3.join(x_t_19[['Longitude', 'Latitude']])\n",
    "l4 = dfreal4.join(x_t_18[['Longitude', 'Latitude']])\n",
    "l5 = dfreal5.join(x_t_17[['Longitude', 'Latitude']])\n",
    "\n",
    "plots = pd.concat([l1, l2, l3, l4, l5], ignore_index=True)\n",
    "plots.head()"
   ]
  },
  {
   "cell_type": "code",
   "execution_count": 100,
   "id": "24f1bc93",
   "metadata": {},
   "outputs": [],
   "source": [
    "plots.rename(columns = {0 : 'Actual'}, inplace = True)"
   ]
  },
  {
   "cell_type": "code",
   "execution_count": 101,
   "id": "543fde14",
   "metadata": {},
   "outputs": [
    {
     "data": {
      "text/html": [
       "<div>\n",
       "<style scoped>\n",
       "    .dataframe tbody tr th:only-of-type {\n",
       "        vertical-align: middle;\n",
       "    }\n",
       "\n",
       "    .dataframe tbody tr th {\n",
       "        vertical-align: top;\n",
       "    }\n",
       "\n",
       "    .dataframe thead th {\n",
       "        text-align: right;\n",
       "    }\n",
       "</style>\n",
       "<table border=\"1\" class=\"dataframe\">\n",
       "  <thead>\n",
       "    <tr style=\"text-align: right;\">\n",
       "      <th></th>\n",
       "      <th>Actual</th>\n",
       "      <th>Longitude</th>\n",
       "      <th>Latitude</th>\n",
       "    </tr>\n",
       "  </thead>\n",
       "  <tbody>\n",
       "    <tr>\n",
       "      <th>0</th>\n",
       "      <td>12.823148</td>\n",
       "      <td>-1.58847</td>\n",
       "      <td>53.74855</td>\n",
       "    </tr>\n",
       "    <tr>\n",
       "      <th>1</th>\n",
       "      <td>11.891362</td>\n",
       "      <td>-1.61968</td>\n",
       "      <td>53.80770</td>\n",
       "    </tr>\n",
       "    <tr>\n",
       "      <th>2</th>\n",
       "      <td>13.681979</td>\n",
       "      <td>-1.65612</td>\n",
       "      <td>53.83972</td>\n",
       "    </tr>\n",
       "    <tr>\n",
       "      <th>3</th>\n",
       "      <td>11.982929</td>\n",
       "      <td>-1.47258</td>\n",
       "      <td>53.85191</td>\n",
       "    </tr>\n",
       "    <tr>\n",
       "      <th>4</th>\n",
       "      <td>11.652687</td>\n",
       "      <td>-1.44393</td>\n",
       "      <td>53.72532</td>\n",
       "    </tr>\n",
       "  </tbody>\n",
       "</table>\n",
       "</div>"
      ],
      "text/plain": [
       "      Actual  Longitude  Latitude\n",
       "0  12.823148   -1.58847  53.74855\n",
       "1  11.891362   -1.61968  53.80770\n",
       "2  13.681979   -1.65612  53.83972\n",
       "3  11.982929   -1.47258  53.85191\n",
       "4  11.652687   -1.44393  53.72532"
      ]
     },
     "execution_count": 101,
     "metadata": {},
     "output_type": "execute_result"
    }
   ],
   "source": [
    "plots.head()"
   ]
  },
  {
   "cell_type": "code",
   "execution_count": 102,
   "id": "3fd10096",
   "metadata": {},
   "outputs": [
    {
     "data": {
      "text/html": [
       "<div>\n",
       "<style scoped>\n",
       "    .dataframe tbody tr th:only-of-type {\n",
       "        vertical-align: middle;\n",
       "    }\n",
       "\n",
       "    .dataframe tbody tr th {\n",
       "        vertical-align: top;\n",
       "    }\n",
       "\n",
       "    .dataframe thead th {\n",
       "        text-align: right;\n",
       "    }\n",
       "</style>\n",
       "<table border=\"1\" class=\"dataframe\">\n",
       "  <thead>\n",
       "    <tr style=\"text-align: right;\">\n",
       "      <th></th>\n",
       "      <th>Actual</th>\n",
       "      <th>Longitude</th>\n",
       "      <th>Latitude</th>\n",
       "      <th>Predicted</th>\n",
       "    </tr>\n",
       "  </thead>\n",
       "  <tbody>\n",
       "    <tr>\n",
       "      <th>0</th>\n",
       "      <td>12.823148</td>\n",
       "      <td>-1.58847</td>\n",
       "      <td>53.74855</td>\n",
       "      <td>12.748670</td>\n",
       "    </tr>\n",
       "    <tr>\n",
       "      <th>1</th>\n",
       "      <td>11.891362</td>\n",
       "      <td>-1.61968</td>\n",
       "      <td>53.80770</td>\n",
       "      <td>11.661945</td>\n",
       "    </tr>\n",
       "    <tr>\n",
       "      <th>2</th>\n",
       "      <td>13.681979</td>\n",
       "      <td>-1.65612</td>\n",
       "      <td>53.83972</td>\n",
       "      <td>13.255032</td>\n",
       "    </tr>\n",
       "    <tr>\n",
       "      <th>3</th>\n",
       "      <td>11.982929</td>\n",
       "      <td>-1.47258</td>\n",
       "      <td>53.85191</td>\n",
       "      <td>12.448281</td>\n",
       "    </tr>\n",
       "    <tr>\n",
       "      <th>4</th>\n",
       "      <td>11.652687</td>\n",
       "      <td>-1.44393</td>\n",
       "      <td>53.72532</td>\n",
       "      <td>11.619074</td>\n",
       "    </tr>\n",
       "  </tbody>\n",
       "</table>\n",
       "</div>"
      ],
      "text/plain": [
       "      Actual  Longitude  Latitude  Predicted\n",
       "0  12.823148   -1.58847  53.74855  12.748670\n",
       "1  11.891362   -1.61968  53.80770  11.661945\n",
       "2  13.681979   -1.65612  53.83972  13.255032\n",
       "3  11.982929   -1.47258  53.85191  12.448281\n",
       "4  11.652687   -1.44393  53.72532  11.619074"
      ]
     },
     "execution_count": 102,
     "metadata": {},
     "output_type": "execute_result"
    }
   ],
   "source": [
    "plotscomp = plots.join(pred)\n",
    "plotscomp.head()"
   ]
  },
  {
   "cell_type": "code",
   "execution_count": 103,
   "id": "40a306d0",
   "metadata": {},
   "outputs": [],
   "source": [
    "exp1 = np.exp(plotscomp[['Actual', 'Predicted']])"
   ]
  },
  {
   "cell_type": "code",
   "execution_count": 104,
   "id": "14bde77d",
   "metadata": {},
   "outputs": [],
   "source": [
    "exp1 = exp1.join(plotscomp[['Longitude', 'Latitude']])"
   ]
  },
  {
   "cell_type": "code",
   "execution_count": 105,
   "id": "0cada1a6",
   "metadata": {},
   "outputs": [
    {
     "data": {
      "text/html": [
       "<div>\n",
       "<style scoped>\n",
       "    .dataframe tbody tr th:only-of-type {\n",
       "        vertical-align: middle;\n",
       "    }\n",
       "\n",
       "    .dataframe tbody tr th {\n",
       "        vertical-align: top;\n",
       "    }\n",
       "\n",
       "    .dataframe thead th {\n",
       "        text-align: right;\n",
       "    }\n",
       "</style>\n",
       "<table border=\"1\" class=\"dataframe\">\n",
       "  <thead>\n",
       "    <tr style=\"text-align: right;\">\n",
       "      <th></th>\n",
       "      <th>Actual</th>\n",
       "      <th>Predicted</th>\n",
       "      <th>Longitude</th>\n",
       "      <th>Latitude</th>\n",
       "    </tr>\n",
       "  </thead>\n",
       "  <tbody>\n",
       "    <tr>\n",
       "      <th>0</th>\n",
       "      <td>370700.0</td>\n",
       "      <td>344093.997683</td>\n",
       "      <td>-1.58847</td>\n",
       "      <td>53.74855</td>\n",
       "    </tr>\n",
       "    <tr>\n",
       "      <th>1</th>\n",
       "      <td>146000.0</td>\n",
       "      <td>116069.539008</td>\n",
       "      <td>-1.61968</td>\n",
       "      <td>53.80770</td>\n",
       "    </tr>\n",
       "    <tr>\n",
       "      <th>2</th>\n",
       "      <td>875000.0</td>\n",
       "      <td>570935.879925</td>\n",
       "      <td>-1.65612</td>\n",
       "      <td>53.83972</td>\n",
       "    </tr>\n",
       "    <tr>\n",
       "      <th>3</th>\n",
       "      <td>160000.0</td>\n",
       "      <td>254811.898251</td>\n",
       "      <td>-1.47258</td>\n",
       "      <td>53.85191</td>\n",
       "    </tr>\n",
       "    <tr>\n",
       "      <th>4</th>\n",
       "      <td>115000.0</td>\n",
       "      <td>111198.696022</td>\n",
       "      <td>-1.44393</td>\n",
       "      <td>53.72532</td>\n",
       "    </tr>\n",
       "  </tbody>\n",
       "</table>\n",
       "</div>"
      ],
      "text/plain": [
       "     Actual      Predicted  Longitude  Latitude\n",
       "0  370700.0  344093.997683   -1.58847  53.74855\n",
       "1  146000.0  116069.539008   -1.61968  53.80770\n",
       "2  875000.0  570935.879925   -1.65612  53.83972\n",
       "3  160000.0  254811.898251   -1.47258  53.85191\n",
       "4  115000.0  111198.696022   -1.44393  53.72532"
      ]
     },
     "execution_count": 105,
     "metadata": {},
     "output_type": "execute_result"
    }
   ],
   "source": [
    "exp1.head()"
   ]
  }
 ],
 "metadata": {
  "kernelspec": {
   "display_name": "Python 3 (ipykernel)",
   "language": "python",
   "name": "python3"
  },
  "language_info": {
   "codemirror_mode": {
    "name": "ipython",
    "version": 3
   },
   "file_extension": ".py",
   "mimetype": "text/x-python",
   "name": "python",
   "nbconvert_exporter": "python",
   "pygments_lexer": "ipython3",
   "version": "3.8.12"
  }
 },
 "nbformat": 4,
 "nbformat_minor": 5
}
