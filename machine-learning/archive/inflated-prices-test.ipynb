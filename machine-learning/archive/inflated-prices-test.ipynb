{
 "cells": [
  {
   "cell_type": "code",
   "execution_count": 1,
   "id": "5342e164",
   "metadata": {},
   "outputs": [
    {
     "name": "stdout",
     "output_type": "stream",
     "text": [
      "Imported sci-kit learn and automl libraries!\n"
     ]
    }
   ],
   "source": [
    "import pandas as pd\n",
    "import numpy as np\n",
    "from sklearn.datasets import make_classification\n",
    "from sklearn.model_selection import train_test_split\n",
    "import os\n",
    "from supervised.automl import AutoML\n",
    "import category_encoders as ce\n",
    "import math\n",
    "\n",
    "# visualization\n",
    "import seaborn as sns\n",
    "import matplotlib.pyplot as plt\n",
    "\n",
    "from sklearn.metrics import accuracy_score\n",
    "from sklearn.metrics import mean_squared_error\n",
    "from sklearn.model_selection import train_test_split\n",
    "from sklearn.model_selection import cross_val_score, GridSearchCV\n",
    "from sklearn.linear_model import LogisticRegression\n",
    "from sklearn.tree import DecisionTreeClassifier\n",
    "from sklearn.ensemble import RandomForestClassifier\n",
    "from category_encoders import TargetEncoder\n",
    "from sklearn.metrics import median_absolute_error\n",
    "print('Imported sci-kit learn and automl libraries!')"
   ]
  },
  {
   "cell_type": "markdown",
   "id": "7731e5d5",
   "metadata": {},
   "source": [
    "## More Economic Variables\n",
    "Now I am trying to implement more economic variables into my data. I have now adjusted the prices of houses according to estimate inflation figures based on the RPPI in Ireland from 2010-2021. We will see does this improve our model any further."
   ]
  },
  {
   "cell_type": "code",
   "execution_count": 2,
   "id": "fa05a057",
   "metadata": {},
   "outputs": [],
   "source": [
    "irl = pd.read_csv('less-columns-eircodes.csv', index_col='Unnamed: 0')\n",
    "# consumer-interest.csv\n",
    "# deficit-merged.csv\n",
    "# inflated-prices.csv\n",
    "\n",
    "# inflated-prices-1.csv"
   ]
  },
  {
   "cell_type": "code",
   "execution_count": 3,
   "id": "c8559e63",
   "metadata": {},
   "outputs": [
    {
     "data": {
      "text/html": [
       "<div>\n",
       "<style scoped>\n",
       "    .dataframe tbody tr th:only-of-type {\n",
       "        vertical-align: middle;\n",
       "    }\n",
       "\n",
       "    .dataframe tbody tr th {\n",
       "        vertical-align: top;\n",
       "    }\n",
       "\n",
       "    .dataframe thead th {\n",
       "        text-align: right;\n",
       "    }\n",
       "</style>\n",
       "<table border=\"1\" class=\"dataframe\">\n",
       "  <thead>\n",
       "    <tr style=\"text-align: right;\">\n",
       "      <th></th>\n",
       "      <th>Address</th>\n",
       "      <th>County</th>\n",
       "      <th>Price (€)</th>\n",
       "      <th>Not Full Market Price</th>\n",
       "      <th>VAT Exclusive</th>\n",
       "      <th>Property Size Description</th>\n",
       "      <th>Year</th>\n",
       "      <th>Month</th>\n",
       "      <th>Town</th>\n",
       "      <th>Region</th>\n",
       "      <th>Neighbourhood</th>\n",
       "      <th>PriceInflation</th>\n",
       "      <th>Eircode</th>\n",
       "    </tr>\n",
       "  </thead>\n",
       "  <tbody>\n",
       "    <tr>\n",
       "      <th>0</th>\n",
       "      <td>Ballinturley, Four Mile House, Roscommon</td>\n",
       "      <td>Roscommon</td>\n",
       "      <td>46560.0</td>\n",
       "      <td>0</td>\n",
       "      <td>1</td>\n",
       "      <td>1</td>\n",
       "      <td>2014</td>\n",
       "      <td>1</td>\n",
       "      <td>Roscommon Town</td>\n",
       "      <td>West</td>\n",
       "      <td>Four Mile House Roscommon</td>\n",
       "      <td>84489.37</td>\n",
       "      <td>F42</td>\n",
       "    </tr>\n",
       "    <tr>\n",
       "      <th>1</th>\n",
       "      <td>2 Hyde Court, Golf Links Rd, Roscommon</td>\n",
       "      <td>Roscommon</td>\n",
       "      <td>157000.0</td>\n",
       "      <td>1</td>\n",
       "      <td>1</td>\n",
       "      <td>1</td>\n",
       "      <td>2014</td>\n",
       "      <td>1</td>\n",
       "      <td>Roscommon Town</td>\n",
       "      <td>West</td>\n",
       "      <td>Golf Links Road Roscommon</td>\n",
       "      <td>284897.56</td>\n",
       "      <td>F42</td>\n",
       "    </tr>\n",
       "    <tr>\n",
       "      <th>2</th>\n",
       "      <td>32 Convent Court, Convent Rd, Roscommon</td>\n",
       "      <td>Roscommon</td>\n",
       "      <td>56000.0</td>\n",
       "      <td>1</td>\n",
       "      <td>1</td>\n",
       "      <td>0</td>\n",
       "      <td>2014</td>\n",
       "      <td>1</td>\n",
       "      <td>Roscommon Town</td>\n",
       "      <td>West</td>\n",
       "      <td>Convent Road Roscommon</td>\n",
       "      <td>101619.51</td>\n",
       "      <td>F42</td>\n",
       "    </tr>\n",
       "    <tr>\n",
       "      <th>3</th>\n",
       "      <td>35 Abbeyville, Galway Rd, Roscommon</td>\n",
       "      <td>Roscommon</td>\n",
       "      <td>125000.0</td>\n",
       "      <td>1</td>\n",
       "      <td>1</td>\n",
       "      <td>0</td>\n",
       "      <td>2014</td>\n",
       "      <td>1</td>\n",
       "      <td>Roscommon Town</td>\n",
       "      <td>West</td>\n",
       "      <td>Galway Road Roscommon</td>\n",
       "      <td>226829.27</td>\n",
       "      <td>F42</td>\n",
       "    </tr>\n",
       "    <tr>\n",
       "      <th>4</th>\n",
       "      <td>3 The Orchard, The Walk, Roscommon</td>\n",
       "      <td>Roscommon</td>\n",
       "      <td>106000.0</td>\n",
       "      <td>1</td>\n",
       "      <td>1</td>\n",
       "      <td>1</td>\n",
       "      <td>2014</td>\n",
       "      <td>1</td>\n",
       "      <td>Roscommon Town</td>\n",
       "      <td>West</td>\n",
       "      <td>The Walk Roscommon</td>\n",
       "      <td>192351.22</td>\n",
       "      <td>F42</td>\n",
       "    </tr>\n",
       "    <tr>\n",
       "      <th>...</th>\n",
       "      <td>...</td>\n",
       "      <td>...</td>\n",
       "      <td>...</td>\n",
       "      <td>...</td>\n",
       "      <td>...</td>\n",
       "      <td>...</td>\n",
       "      <td>...</td>\n",
       "      <td>...</td>\n",
       "      <td>...</td>\n",
       "      <td>...</td>\n",
       "      <td>...</td>\n",
       "      <td>...</td>\n",
       "      <td>...</td>\n",
       "    </tr>\n",
       "    <tr>\n",
       "      <th>252466</th>\n",
       "      <td>6 Leopardstown Oaks, Leopardstown, Blackrock</td>\n",
       "      <td>Dublin</td>\n",
       "      <td>782500.0</td>\n",
       "      <td>1</td>\n",
       "      <td>1</td>\n",
       "      <td>2</td>\n",
       "      <td>2021</td>\n",
       "      <td>3</td>\n",
       "      <td>Blackrock Dublin</td>\n",
       "      <td>Dublin</td>\n",
       "      <td>Leopardstown Blackrock Dublin</td>\n",
       "      <td>841908.89</td>\n",
       "      <td>A94</td>\n",
       "    </tr>\n",
       "    <tr>\n",
       "      <th>252467</th>\n",
       "      <td>94 Carrig Court, Citywest, Saggart</td>\n",
       "      <td>Dublin</td>\n",
       "      <td>276000.0</td>\n",
       "      <td>1</td>\n",
       "      <td>1</td>\n",
       "      <td>2</td>\n",
       "      <td>2021</td>\n",
       "      <td>3</td>\n",
       "      <td>Saggart</td>\n",
       "      <td>Dublin</td>\n",
       "      <td>Cityw Street Saggart</td>\n",
       "      <td>296954.45</td>\n",
       "      <td>D24</td>\n",
       "    </tr>\n",
       "    <tr>\n",
       "      <th>252468</th>\n",
       "      <td>Knightstown, Ballyboughal, Dublin</td>\n",
       "      <td>Dublin</td>\n",
       "      <td>540000.0</td>\n",
       "      <td>1</td>\n",
       "      <td>1</td>\n",
       "      <td>2</td>\n",
       "      <td>2021</td>\n",
       "      <td>3</td>\n",
       "      <td>Ballyboughal</td>\n",
       "      <td>Dublin</td>\n",
       "      <td>Knightstown Ballyboughal</td>\n",
       "      <td>580997.83</td>\n",
       "      <td>A41</td>\n",
       "    </tr>\n",
       "    <tr>\n",
       "      <th>252469</th>\n",
       "      <td>87A Albert Rd Lower, Sandycove, Dublin</td>\n",
       "      <td>Dublin</td>\n",
       "      <td>900000.0</td>\n",
       "      <td>1</td>\n",
       "      <td>1</td>\n",
       "      <td>2</td>\n",
       "      <td>2021</td>\n",
       "      <td>1</td>\n",
       "      <td>Sandycove</td>\n",
       "      <td>Dublin</td>\n",
       "      <td>Albert Road Lower Sandycove</td>\n",
       "      <td>968329.72</td>\n",
       "      <td>A96</td>\n",
       "    </tr>\n",
       "    <tr>\n",
       "      <th>252470</th>\n",
       "      <td>37 Terenure Rd East, Rathgar, Dublin</td>\n",
       "      <td>Dublin</td>\n",
       "      <td>1100000.0</td>\n",
       "      <td>1</td>\n",
       "      <td>1</td>\n",
       "      <td>2</td>\n",
       "      <td>2021</td>\n",
       "      <td>3</td>\n",
       "      <td>Rathgar</td>\n",
       "      <td>Dublin</td>\n",
       "      <td>Terenure Road E Street Rathgar</td>\n",
       "      <td>1183514.10</td>\n",
       "      <td>D06</td>\n",
       "    </tr>\n",
       "  </tbody>\n",
       "</table>\n",
       "<p>252471 rows × 13 columns</p>\n",
       "</div>"
      ],
      "text/plain": [
       "                                             Address     County  Price (€)  \\\n",
       "0           Ballinturley, Four Mile House, Roscommon  Roscommon    46560.0   \n",
       "1             2 Hyde Court, Golf Links Rd, Roscommon  Roscommon   157000.0   \n",
       "2            32 Convent Court, Convent Rd, Roscommon  Roscommon    56000.0   \n",
       "3                35 Abbeyville, Galway Rd, Roscommon  Roscommon   125000.0   \n",
       "4                 3 The Orchard, The Walk, Roscommon  Roscommon   106000.0   \n",
       "...                                              ...        ...        ...   \n",
       "252466  6 Leopardstown Oaks, Leopardstown, Blackrock     Dublin   782500.0   \n",
       "252467            94 Carrig Court, Citywest, Saggart     Dublin   276000.0   \n",
       "252468             Knightstown, Ballyboughal, Dublin     Dublin   540000.0   \n",
       "252469        87A Albert Rd Lower, Sandycove, Dublin     Dublin   900000.0   \n",
       "252470          37 Terenure Rd East, Rathgar, Dublin     Dublin  1100000.0   \n",
       "\n",
       "        Not Full Market Price  VAT Exclusive  Property Size Description  Year  \\\n",
       "0                           0              1                          1  2014   \n",
       "1                           1              1                          1  2014   \n",
       "2                           1              1                          0  2014   \n",
       "3                           1              1                          0  2014   \n",
       "4                           1              1                          1  2014   \n",
       "...                       ...            ...                        ...   ...   \n",
       "252466                      1              1                          2  2021   \n",
       "252467                      1              1                          2  2021   \n",
       "252468                      1              1                          2  2021   \n",
       "252469                      1              1                          2  2021   \n",
       "252470                      1              1                          2  2021   \n",
       "\n",
       "        Month              Town  Region                   Neighbourhood  \\\n",
       "0           1    Roscommon Town    West       Four Mile House Roscommon   \n",
       "1           1    Roscommon Town    West       Golf Links Road Roscommon   \n",
       "2           1    Roscommon Town    West          Convent Road Roscommon   \n",
       "3           1    Roscommon Town    West           Galway Road Roscommon   \n",
       "4           1    Roscommon Town    West              The Walk Roscommon   \n",
       "...       ...               ...     ...                             ...   \n",
       "252466      3  Blackrock Dublin  Dublin   Leopardstown Blackrock Dublin   \n",
       "252467      3           Saggart  Dublin            Cityw Street Saggart   \n",
       "252468      3      Ballyboughal  Dublin        Knightstown Ballyboughal   \n",
       "252469      1         Sandycove  Dublin     Albert Road Lower Sandycove   \n",
       "252470      3           Rathgar  Dublin  Terenure Road E Street Rathgar   \n",
       "\n",
       "        PriceInflation Eircode  \n",
       "0             84489.37     F42  \n",
       "1            284897.56     F42  \n",
       "2            101619.51     F42  \n",
       "3            226829.27     F42  \n",
       "4            192351.22     F42  \n",
       "...                ...     ...  \n",
       "252466       841908.89     A94  \n",
       "252467       296954.45     D24  \n",
       "252468       580997.83     A41  \n",
       "252469       968329.72     A96  \n",
       "252470      1183514.10     D06  \n",
       "\n",
       "[252471 rows x 13 columns]"
      ]
     },
     "execution_count": 3,
     "metadata": {},
     "output_type": "execute_result"
    }
   ],
   "source": [
    "irl"
   ]
  },
  {
   "cell_type": "code",
   "execution_count": 4,
   "id": "d3bceaf6",
   "metadata": {},
   "outputs": [],
   "source": [
    "#irl.drop(columns=['Address', 'Postal Code', 'VAT Exclusive', 'Description of Property', 'Property Size Description',\n",
    "#                 'Month', 'Apartment', 'Estate', 'Quarter'], inplace = True)\n",
    "# rm rppi price (€)\n",
    "\n",
    "### for inflated-prices-1.csv rm below\n",
    "#irl.drop(columns=['Address', 'Postal Code', 'VAT Exclusive', 'Description of Property', 'Property Size Description',\n",
    "#                 'Month', 'Apartment', 'Estate', 'Quarter', 'RPPI'], inplace = True)\n",
    "\n",
    "irl.drop(columns=['Address', 'Month', 'VAT Exclusive', 'Property Size Description', 'Price (€)'], inplace = True)"
   ]
  },
  {
   "cell_type": "code",
   "execution_count": 5,
   "id": "155f3840",
   "metadata": {},
   "outputs": [
    {
     "data": {
      "text/html": [
       "<div>\n",
       "<style scoped>\n",
       "    .dataframe tbody tr th:only-of-type {\n",
       "        vertical-align: middle;\n",
       "    }\n",
       "\n",
       "    .dataframe tbody tr th {\n",
       "        vertical-align: top;\n",
       "    }\n",
       "\n",
       "    .dataframe thead th {\n",
       "        text-align: right;\n",
       "    }\n",
       "</style>\n",
       "<table border=\"1\" class=\"dataframe\">\n",
       "  <thead>\n",
       "    <tr style=\"text-align: right;\">\n",
       "      <th></th>\n",
       "      <th>County</th>\n",
       "      <th>Not Full Market Price</th>\n",
       "      <th>Year</th>\n",
       "      <th>Town</th>\n",
       "      <th>Region</th>\n",
       "      <th>Neighbourhood</th>\n",
       "      <th>PriceInflation</th>\n",
       "      <th>Eircode</th>\n",
       "    </tr>\n",
       "  </thead>\n",
       "  <tbody>\n",
       "    <tr>\n",
       "      <th>0</th>\n",
       "      <td>Roscommon</td>\n",
       "      <td>0</td>\n",
       "      <td>2014</td>\n",
       "      <td>Roscommon Town</td>\n",
       "      <td>West</td>\n",
       "      <td>Four Mile House Roscommon</td>\n",
       "      <td>84489.37</td>\n",
       "      <td>F42</td>\n",
       "    </tr>\n",
       "    <tr>\n",
       "      <th>1</th>\n",
       "      <td>Roscommon</td>\n",
       "      <td>1</td>\n",
       "      <td>2014</td>\n",
       "      <td>Roscommon Town</td>\n",
       "      <td>West</td>\n",
       "      <td>Golf Links Road Roscommon</td>\n",
       "      <td>284897.56</td>\n",
       "      <td>F42</td>\n",
       "    </tr>\n",
       "    <tr>\n",
       "      <th>2</th>\n",
       "      <td>Roscommon</td>\n",
       "      <td>1</td>\n",
       "      <td>2014</td>\n",
       "      <td>Roscommon Town</td>\n",
       "      <td>West</td>\n",
       "      <td>Convent Road Roscommon</td>\n",
       "      <td>101619.51</td>\n",
       "      <td>F42</td>\n",
       "    </tr>\n",
       "    <tr>\n",
       "      <th>3</th>\n",
       "      <td>Roscommon</td>\n",
       "      <td>1</td>\n",
       "      <td>2014</td>\n",
       "      <td>Roscommon Town</td>\n",
       "      <td>West</td>\n",
       "      <td>Galway Road Roscommon</td>\n",
       "      <td>226829.27</td>\n",
       "      <td>F42</td>\n",
       "    </tr>\n",
       "    <tr>\n",
       "      <th>4</th>\n",
       "      <td>Roscommon</td>\n",
       "      <td>1</td>\n",
       "      <td>2014</td>\n",
       "      <td>Roscommon Town</td>\n",
       "      <td>West</td>\n",
       "      <td>The Walk Roscommon</td>\n",
       "      <td>192351.22</td>\n",
       "      <td>F42</td>\n",
       "    </tr>\n",
       "    <tr>\n",
       "      <th>...</th>\n",
       "      <td>...</td>\n",
       "      <td>...</td>\n",
       "      <td>...</td>\n",
       "      <td>...</td>\n",
       "      <td>...</td>\n",
       "      <td>...</td>\n",
       "      <td>...</td>\n",
       "      <td>...</td>\n",
       "    </tr>\n",
       "    <tr>\n",
       "      <th>252466</th>\n",
       "      <td>Dublin</td>\n",
       "      <td>1</td>\n",
       "      <td>2021</td>\n",
       "      <td>Blackrock Dublin</td>\n",
       "      <td>Dublin</td>\n",
       "      <td>Leopardstown Blackrock Dublin</td>\n",
       "      <td>841908.89</td>\n",
       "      <td>A94</td>\n",
       "    </tr>\n",
       "    <tr>\n",
       "      <th>252467</th>\n",
       "      <td>Dublin</td>\n",
       "      <td>1</td>\n",
       "      <td>2021</td>\n",
       "      <td>Saggart</td>\n",
       "      <td>Dublin</td>\n",
       "      <td>Cityw Street Saggart</td>\n",
       "      <td>296954.45</td>\n",
       "      <td>D24</td>\n",
       "    </tr>\n",
       "    <tr>\n",
       "      <th>252468</th>\n",
       "      <td>Dublin</td>\n",
       "      <td>1</td>\n",
       "      <td>2021</td>\n",
       "      <td>Ballyboughal</td>\n",
       "      <td>Dublin</td>\n",
       "      <td>Knightstown Ballyboughal</td>\n",
       "      <td>580997.83</td>\n",
       "      <td>A41</td>\n",
       "    </tr>\n",
       "    <tr>\n",
       "      <th>252469</th>\n",
       "      <td>Dublin</td>\n",
       "      <td>1</td>\n",
       "      <td>2021</td>\n",
       "      <td>Sandycove</td>\n",
       "      <td>Dublin</td>\n",
       "      <td>Albert Road Lower Sandycove</td>\n",
       "      <td>968329.72</td>\n",
       "      <td>A96</td>\n",
       "    </tr>\n",
       "    <tr>\n",
       "      <th>252470</th>\n",
       "      <td>Dublin</td>\n",
       "      <td>1</td>\n",
       "      <td>2021</td>\n",
       "      <td>Rathgar</td>\n",
       "      <td>Dublin</td>\n",
       "      <td>Terenure Road E Street Rathgar</td>\n",
       "      <td>1183514.10</td>\n",
       "      <td>D06</td>\n",
       "    </tr>\n",
       "  </tbody>\n",
       "</table>\n",
       "<p>252471 rows × 8 columns</p>\n",
       "</div>"
      ],
      "text/plain": [
       "           County  Not Full Market Price  Year              Town  Region  \\\n",
       "0       Roscommon                      0  2014    Roscommon Town    West   \n",
       "1       Roscommon                      1  2014    Roscommon Town    West   \n",
       "2       Roscommon                      1  2014    Roscommon Town    West   \n",
       "3       Roscommon                      1  2014    Roscommon Town    West   \n",
       "4       Roscommon                      1  2014    Roscommon Town    West   \n",
       "...           ...                    ...   ...               ...     ...   \n",
       "252466     Dublin                      1  2021  Blackrock Dublin  Dublin   \n",
       "252467     Dublin                      1  2021           Saggart  Dublin   \n",
       "252468     Dublin                      1  2021      Ballyboughal  Dublin   \n",
       "252469     Dublin                      1  2021         Sandycove  Dublin   \n",
       "252470     Dublin                      1  2021           Rathgar  Dublin   \n",
       "\n",
       "                         Neighbourhood  PriceInflation Eircode  \n",
       "0            Four Mile House Roscommon        84489.37     F42  \n",
       "1            Golf Links Road Roscommon       284897.56     F42  \n",
       "2               Convent Road Roscommon       101619.51     F42  \n",
       "3                Galway Road Roscommon       226829.27     F42  \n",
       "4                   The Walk Roscommon       192351.22     F42  \n",
       "...                                ...             ...     ...  \n",
       "252466   Leopardstown Blackrock Dublin       841908.89     A94  \n",
       "252467            Cityw Street Saggart       296954.45     D24  \n",
       "252468        Knightstown Ballyboughal       580997.83     A41  \n",
       "252469     Albert Road Lower Sandycove       968329.72     A96  \n",
       "252470  Terenure Road E Street Rathgar      1183514.10     D06  \n",
       "\n",
       "[252471 rows x 8 columns]"
      ]
     },
     "execution_count": 5,
     "metadata": {},
     "output_type": "execute_result"
    }
   ],
   "source": [
    "irl"
   ]
  },
  {
   "cell_type": "code",
   "execution_count": 6,
   "id": "f11df812",
   "metadata": {},
   "outputs": [],
   "source": [
    "from category_encoders import TargetEncoder\n",
    "encoder = TargetEncoder()\n",
    "irl['Town'] = encoder.fit_transform(irl['Town'], irl['PriceInflation'])"
   ]
  },
  {
   "cell_type": "code",
   "execution_count": 7,
   "id": "f6e082e6",
   "metadata": {},
   "outputs": [],
   "source": [
    "encoder = TargetEncoder()\n",
    "irl['Region'] = encoder.fit_transform(irl['Region'], irl['PriceInflation'])"
   ]
  },
  {
   "cell_type": "code",
   "execution_count": 8,
   "id": "00701a74",
   "metadata": {},
   "outputs": [],
   "source": [
    "encoder = TargetEncoder()\n",
    "irl['Neighbourhood'] = encoder.fit_transform(irl['Neighbourhood'], irl['PriceInflation'])"
   ]
  },
  {
   "cell_type": "code",
   "execution_count": 9,
   "id": "c4e04d09",
   "metadata": {},
   "outputs": [],
   "source": [
    "encoder = TargetEncoder()\n",
    "irl['County'] = encoder.fit_transform(irl['County'], irl['PriceInflation'])"
   ]
  },
  {
   "cell_type": "code",
   "execution_count": 10,
   "id": "38e7f18e",
   "metadata": {},
   "outputs": [],
   "source": [
    "encoder = TargetEncoder()\n",
    "irl['Eircode'] = encoder.fit_transform(irl['Eircode'], irl['PriceInflation'])"
   ]
  },
  {
   "cell_type": "code",
   "execution_count": 11,
   "id": "3865e6eb",
   "metadata": {},
   "outputs": [],
   "source": [
    "#encoder = TargetEncoder()\n",
    "#irl['Province'] = encoder.fit_transform(irl['Province'], irl['PriceInflation'])"
   ]
  },
  {
   "cell_type": "code",
   "execution_count": 12,
   "id": "6d8fd864",
   "metadata": {},
   "outputs": [],
   "source": [
    "irl['PriceInflation'] = np.log(irl['PriceInflation'])"
   ]
  },
  {
   "cell_type": "code",
   "execution_count": 13,
   "id": "fa8a3dca",
   "metadata": {},
   "outputs": [],
   "source": [
    "#irl.drop(columns=['Price (€)'], inplace = True)"
   ]
  },
  {
   "cell_type": "code",
   "execution_count": 14,
   "id": "77f121eb",
   "metadata": {},
   "outputs": [],
   "source": [
    "# this function finds all values that fall within internationally accepted +-10% of actual prices in our predictions\n",
    "# we can modify the threshold as we feel the need to here\n",
    "def accuracy_threshold(test, pred, num):\n",
    "    test = np.array(test)\n",
    "    pred = np.array(pred)\n",
    "# get within x% of actual price , not within log price as this will be misleading / incorrect\n",
    "    test = np.exp(test)\n",
    "    pred = np.exp(pred)\n",
    "    count = 0\n",
    "    for i in range(len(pred)):\n",
    "        if test[i] != 0:  \n",
    "            ten = test[i] * num\n",
    "            res = test[i] - pred[i]\n",
    "        else:\n",
    "            res = 0\n",
    "            ten = 0\n",
    "        \n",
    "        if res < 0:\n",
    "            res = res * -1\n",
    "        else:\n",
    "            res = res\n",
    "            \n",
    "        if res <= ten:\n",
    "            count += 1\n",
    "        else:\n",
    "            continue\n",
    "    return (count / len(test))"
   ]
  },
  {
   "cell_type": "code",
   "execution_count": 15,
   "id": "5f360609",
   "metadata": {},
   "outputs": [],
   "source": [
    "x = irl.loc[:, irl.columns != 'PriceInflation']\n",
    "y = irl['PriceInflation']"
   ]
  },
  {
   "cell_type": "code",
   "execution_count": 16,
   "id": "6ccb3a25",
   "metadata": {},
   "outputs": [
    {
     "data": {
      "text/html": [
       "<div>\n",
       "<style scoped>\n",
       "    .dataframe tbody tr th:only-of-type {\n",
       "        vertical-align: middle;\n",
       "    }\n",
       "\n",
       "    .dataframe tbody tr th {\n",
       "        vertical-align: top;\n",
       "    }\n",
       "\n",
       "    .dataframe thead th {\n",
       "        text-align: right;\n",
       "    }\n",
       "</style>\n",
       "<table border=\"1\" class=\"dataframe\">\n",
       "  <thead>\n",
       "    <tr style=\"text-align: right;\">\n",
       "      <th></th>\n",
       "      <th>County</th>\n",
       "      <th>Not Full Market Price</th>\n",
       "      <th>Year</th>\n",
       "      <th>Town</th>\n",
       "      <th>Region</th>\n",
       "      <th>Neighbourhood</th>\n",
       "      <th>PriceInflation</th>\n",
       "      <th>Eircode</th>\n",
       "    </tr>\n",
       "  </thead>\n",
       "  <tbody>\n",
       "    <tr>\n",
       "      <th>0</th>\n",
       "      <td>141868.826161</td>\n",
       "      <td>0</td>\n",
       "      <td>2014</td>\n",
       "      <td>1.658409e+05</td>\n",
       "      <td>197194.202402</td>\n",
       "      <td>1.633680e+05</td>\n",
       "      <td>11.344381</td>\n",
       "      <td>156138.770412</td>\n",
       "    </tr>\n",
       "    <tr>\n",
       "      <th>1</th>\n",
       "      <td>141868.826161</td>\n",
       "      <td>1</td>\n",
       "      <td>2014</td>\n",
       "      <td>1.658409e+05</td>\n",
       "      <td>197194.202402</td>\n",
       "      <td>2.865718e+05</td>\n",
       "      <td>12.559885</td>\n",
       "      <td>156138.770412</td>\n",
       "    </tr>\n",
       "    <tr>\n",
       "      <th>2</th>\n",
       "      <td>141868.826161</td>\n",
       "      <td>1</td>\n",
       "      <td>2014</td>\n",
       "      <td>1.658409e+05</td>\n",
       "      <td>197194.202402</td>\n",
       "      <td>1.489680e+05</td>\n",
       "      <td>11.528991</td>\n",
       "      <td>156138.770412</td>\n",
       "    </tr>\n",
       "    <tr>\n",
       "      <th>3</th>\n",
       "      <td>141868.826161</td>\n",
       "      <td>1</td>\n",
       "      <td>2014</td>\n",
       "      <td>1.658409e+05</td>\n",
       "      <td>197194.202402</td>\n",
       "      <td>1.751479e+05</td>\n",
       "      <td>12.331953</td>\n",
       "      <td>156138.770412</td>\n",
       "    </tr>\n",
       "    <tr>\n",
       "      <th>4</th>\n",
       "      <td>141868.826161</td>\n",
       "      <td>1</td>\n",
       "      <td>2014</td>\n",
       "      <td>1.658409e+05</td>\n",
       "      <td>197194.202402</td>\n",
       "      <td>1.890486e+05</td>\n",
       "      <td>12.167078</td>\n",
       "      <td>156138.770412</td>\n",
       "    </tr>\n",
       "    <tr>\n",
       "      <th>...</th>\n",
       "      <td>...</td>\n",
       "      <td>...</td>\n",
       "      <td>...</td>\n",
       "      <td>...</td>\n",
       "      <td>...</td>\n",
       "      <td>...</td>\n",
       "      <td>...</td>\n",
       "      <td>...</td>\n",
       "    </tr>\n",
       "    <tr>\n",
       "      <th>252466</th>\n",
       "      <td>501952.961179</td>\n",
       "      <td>1</td>\n",
       "      <td>2021</td>\n",
       "      <td>8.038964e+05</td>\n",
       "      <td>501952.961179</td>\n",
       "      <td>8.124615e+05</td>\n",
       "      <td>13.643427</td>\n",
       "      <td>777526.808779</td>\n",
       "    </tr>\n",
       "    <tr>\n",
       "      <th>252467</th>\n",
       "      <td>501952.961179</td>\n",
       "      <td>1</td>\n",
       "      <td>2021</td>\n",
       "      <td>3.300908e+05</td>\n",
       "      <td>501952.961179</td>\n",
       "      <td>3.237620e+05</td>\n",
       "      <td>12.601334</td>\n",
       "      <td>330818.096234</td>\n",
       "    </tr>\n",
       "    <tr>\n",
       "      <th>252468</th>\n",
       "      <td>501952.961179</td>\n",
       "      <td>1</td>\n",
       "      <td>2021</td>\n",
       "      <td>5.588446e+05</td>\n",
       "      <td>501952.961179</td>\n",
       "      <td>4.257429e+05</td>\n",
       "      <td>13.272502</td>\n",
       "      <td>558844.590476</td>\n",
       "    </tr>\n",
       "    <tr>\n",
       "      <th>252469</th>\n",
       "      <td>501952.961179</td>\n",
       "      <td>1</td>\n",
       "      <td>2021</td>\n",
       "      <td>1.040475e+06</td>\n",
       "      <td>501952.961179</td>\n",
       "      <td>1.162364e+06</td>\n",
       "      <td>13.783328</td>\n",
       "      <td>792887.866953</td>\n",
       "    </tr>\n",
       "    <tr>\n",
       "      <th>252470</th>\n",
       "      <td>501952.961179</td>\n",
       "      <td>1</td>\n",
       "      <td>2021</td>\n",
       "      <td>1.025034e+06</td>\n",
       "      <td>501952.961179</td>\n",
       "      <td>1.433256e+06</td>\n",
       "      <td>13.983999</td>\n",
       "      <td>839330.631747</td>\n",
       "    </tr>\n",
       "  </tbody>\n",
       "</table>\n",
       "<p>252471 rows × 8 columns</p>\n",
       "</div>"
      ],
      "text/plain": [
       "               County  Not Full Market Price  Year          Town  \\\n",
       "0       141868.826161                      0  2014  1.658409e+05   \n",
       "1       141868.826161                      1  2014  1.658409e+05   \n",
       "2       141868.826161                      1  2014  1.658409e+05   \n",
       "3       141868.826161                      1  2014  1.658409e+05   \n",
       "4       141868.826161                      1  2014  1.658409e+05   \n",
       "...               ...                    ...   ...           ...   \n",
       "252466  501952.961179                      1  2021  8.038964e+05   \n",
       "252467  501952.961179                      1  2021  3.300908e+05   \n",
       "252468  501952.961179                      1  2021  5.588446e+05   \n",
       "252469  501952.961179                      1  2021  1.040475e+06   \n",
       "252470  501952.961179                      1  2021  1.025034e+06   \n",
       "\n",
       "               Region  Neighbourhood  PriceInflation        Eircode  \n",
       "0       197194.202402   1.633680e+05       11.344381  156138.770412  \n",
       "1       197194.202402   2.865718e+05       12.559885  156138.770412  \n",
       "2       197194.202402   1.489680e+05       11.528991  156138.770412  \n",
       "3       197194.202402   1.751479e+05       12.331953  156138.770412  \n",
       "4       197194.202402   1.890486e+05       12.167078  156138.770412  \n",
       "...               ...            ...             ...            ...  \n",
       "252466  501952.961179   8.124615e+05       13.643427  777526.808779  \n",
       "252467  501952.961179   3.237620e+05       12.601334  330818.096234  \n",
       "252468  501952.961179   4.257429e+05       13.272502  558844.590476  \n",
       "252469  501952.961179   1.162364e+06       13.783328  792887.866953  \n",
       "252470  501952.961179   1.433256e+06       13.983999  839330.631747  \n",
       "\n",
       "[252471 rows x 8 columns]"
      ]
     },
     "execution_count": 16,
     "metadata": {},
     "output_type": "execute_result"
    }
   ],
   "source": [
    "irl"
   ]
  },
  {
   "cell_type": "markdown",
   "id": "db0144e9",
   "metadata": {},
   "source": [
    "### Let's try predict a specific years values given some historical data\n",
    "We will look at using 3 years worth of data and use it to predict some data for a selected year, let's say 2021, now."
   ]
  },
  {
   "cell_type": "code",
   "execution_count": 17,
   "id": "9f08f8e1",
   "metadata": {},
   "outputs": [],
   "source": [
    "specific21 = irl[irl['Year'] > 2015]"
   ]
  },
  {
   "cell_type": "markdown",
   "id": "4aa43ad9",
   "metadata": {},
   "source": [
    "A regular train to test split will not suffice here as we need only the years 2018, 2019 and 2020 in our training data, while only using the houses associated with 2021 in our test data."
   ]
  },
  {
   "cell_type": "code",
   "execution_count": 18,
   "id": "41bbaeae",
   "metadata": {},
   "outputs": [
    {
     "data": {
      "text/html": [
       "<div>\n",
       "<style scoped>\n",
       "    .dataframe tbody tr th:only-of-type {\n",
       "        vertical-align: middle;\n",
       "    }\n",
       "\n",
       "    .dataframe tbody tr th {\n",
       "        vertical-align: top;\n",
       "    }\n",
       "\n",
       "    .dataframe thead th {\n",
       "        text-align: right;\n",
       "    }\n",
       "</style>\n",
       "<table border=\"1\" class=\"dataframe\">\n",
       "  <thead>\n",
       "    <tr style=\"text-align: right;\">\n",
       "      <th></th>\n",
       "      <th>County</th>\n",
       "      <th>Not Full Market Price</th>\n",
       "      <th>Year</th>\n",
       "      <th>Town</th>\n",
       "      <th>Region</th>\n",
       "      <th>Neighbourhood</th>\n",
       "      <th>PriceInflation</th>\n",
       "      <th>Eircode</th>\n",
       "    </tr>\n",
       "  </thead>\n",
       "  <tbody>\n",
       "    <tr>\n",
       "      <th>679</th>\n",
       "      <td>141868.826161</td>\n",
       "      <td>1</td>\n",
       "      <td>2021</td>\n",
       "      <td>1.658409e+05</td>\n",
       "      <td>197194.202402</td>\n",
       "      <td>1.987808e+05</td>\n",
       "      <td>11.831419</td>\n",
       "      <td>156138.770412</td>\n",
       "    </tr>\n",
       "    <tr>\n",
       "      <th>680</th>\n",
       "      <td>141868.826161</td>\n",
       "      <td>1</td>\n",
       "      <td>2021</td>\n",
       "      <td>1.658409e+05</td>\n",
       "      <td>197194.202402</td>\n",
       "      <td>4.818433e+04</td>\n",
       "      <td>11.898995</td>\n",
       "      <td>156138.770412</td>\n",
       "    </tr>\n",
       "    <tr>\n",
       "      <th>681</th>\n",
       "      <td>141868.826161</td>\n",
       "      <td>1</td>\n",
       "      <td>2021</td>\n",
       "      <td>1.658409e+05</td>\n",
       "      <td>197194.202402</td>\n",
       "      <td>2.865718e+05</td>\n",
       "      <td>12.659467</td>\n",
       "      <td>156138.770412</td>\n",
       "    </tr>\n",
       "    <tr>\n",
       "      <th>682</th>\n",
       "      <td>141868.826161</td>\n",
       "      <td>1</td>\n",
       "      <td>2021</td>\n",
       "      <td>1.658409e+05</td>\n",
       "      <td>197194.202402</td>\n",
       "      <td>1.277423e+05</td>\n",
       "      <td>11.657833</td>\n",
       "      <td>156138.770412</td>\n",
       "    </tr>\n",
       "    <tr>\n",
       "      <th>683</th>\n",
       "      <td>141868.826161</td>\n",
       "      <td>1</td>\n",
       "      <td>2021</td>\n",
       "      <td>1.658409e+05</td>\n",
       "      <td>197194.202402</td>\n",
       "      <td>1.497945e+05</td>\n",
       "      <td>12.478813</td>\n",
       "      <td>156138.770412</td>\n",
       "    </tr>\n",
       "    <tr>\n",
       "      <th>...</th>\n",
       "      <td>...</td>\n",
       "      <td>...</td>\n",
       "      <td>...</td>\n",
       "      <td>...</td>\n",
       "      <td>...</td>\n",
       "      <td>...</td>\n",
       "      <td>...</td>\n",
       "      <td>...</td>\n",
       "    </tr>\n",
       "    <tr>\n",
       "      <th>252466</th>\n",
       "      <td>501952.961179</td>\n",
       "      <td>1</td>\n",
       "      <td>2021</td>\n",
       "      <td>8.038964e+05</td>\n",
       "      <td>501952.961179</td>\n",
       "      <td>8.124615e+05</td>\n",
       "      <td>13.643427</td>\n",
       "      <td>777526.808779</td>\n",
       "    </tr>\n",
       "    <tr>\n",
       "      <th>252467</th>\n",
       "      <td>501952.961179</td>\n",
       "      <td>1</td>\n",
       "      <td>2021</td>\n",
       "      <td>3.300908e+05</td>\n",
       "      <td>501952.961179</td>\n",
       "      <td>3.237620e+05</td>\n",
       "      <td>12.601334</td>\n",
       "      <td>330818.096234</td>\n",
       "    </tr>\n",
       "    <tr>\n",
       "      <th>252468</th>\n",
       "      <td>501952.961179</td>\n",
       "      <td>1</td>\n",
       "      <td>2021</td>\n",
       "      <td>5.588446e+05</td>\n",
       "      <td>501952.961179</td>\n",
       "      <td>4.257429e+05</td>\n",
       "      <td>13.272502</td>\n",
       "      <td>558844.590476</td>\n",
       "    </tr>\n",
       "    <tr>\n",
       "      <th>252469</th>\n",
       "      <td>501952.961179</td>\n",
       "      <td>1</td>\n",
       "      <td>2021</td>\n",
       "      <td>1.040475e+06</td>\n",
       "      <td>501952.961179</td>\n",
       "      <td>1.162364e+06</td>\n",
       "      <td>13.783328</td>\n",
       "      <td>792887.866953</td>\n",
       "    </tr>\n",
       "    <tr>\n",
       "      <th>252470</th>\n",
       "      <td>501952.961179</td>\n",
       "      <td>1</td>\n",
       "      <td>2021</td>\n",
       "      <td>1.025034e+06</td>\n",
       "      <td>501952.961179</td>\n",
       "      <td>1.433256e+06</td>\n",
       "      <td>13.983999</td>\n",
       "      <td>839330.631747</td>\n",
       "    </tr>\n",
       "  </tbody>\n",
       "</table>\n",
       "<p>16745 rows × 8 columns</p>\n",
       "</div>"
      ],
      "text/plain": [
       "               County  Not Full Market Price  Year          Town  \\\n",
       "679     141868.826161                      1  2021  1.658409e+05   \n",
       "680     141868.826161                      1  2021  1.658409e+05   \n",
       "681     141868.826161                      1  2021  1.658409e+05   \n",
       "682     141868.826161                      1  2021  1.658409e+05   \n",
       "683     141868.826161                      1  2021  1.658409e+05   \n",
       "...               ...                    ...   ...           ...   \n",
       "252466  501952.961179                      1  2021  8.038964e+05   \n",
       "252467  501952.961179                      1  2021  3.300908e+05   \n",
       "252468  501952.961179                      1  2021  5.588446e+05   \n",
       "252469  501952.961179                      1  2021  1.040475e+06   \n",
       "252470  501952.961179                      1  2021  1.025034e+06   \n",
       "\n",
       "               Region  Neighbourhood  PriceInflation        Eircode  \n",
       "679     197194.202402   1.987808e+05       11.831419  156138.770412  \n",
       "680     197194.202402   4.818433e+04       11.898995  156138.770412  \n",
       "681     197194.202402   2.865718e+05       12.659467  156138.770412  \n",
       "682     197194.202402   1.277423e+05       11.657833  156138.770412  \n",
       "683     197194.202402   1.497945e+05       12.478813  156138.770412  \n",
       "...               ...            ...             ...            ...  \n",
       "252466  501952.961179   8.124615e+05       13.643427  777526.808779  \n",
       "252467  501952.961179   3.237620e+05       12.601334  330818.096234  \n",
       "252468  501952.961179   4.257429e+05       13.272502  558844.590476  \n",
       "252469  501952.961179   1.162364e+06       13.783328  792887.866953  \n",
       "252470  501952.961179   1.433256e+06       13.983999  839330.631747  \n",
       "\n",
       "[16745 rows x 8 columns]"
      ]
     },
     "execution_count": 18,
     "metadata": {},
     "output_type": "execute_result"
    }
   ],
   "source": [
    "specific21[specific21['Year'] == 2021]"
   ]
  },
  {
   "cell_type": "code",
   "execution_count": 19,
   "id": "eb10e6cf",
   "metadata": {},
   "outputs": [
    {
     "data": {
      "text/plain": [
       "148096"
      ]
     },
     "execution_count": 19,
     "metadata": {},
     "output_type": "execute_result"
    }
   ],
   "source": [
    "specific21.shape[0]"
   ]
  },
  {
   "cell_type": "code",
   "execution_count": 20,
   "id": "24fba876",
   "metadata": {},
   "outputs": [],
   "source": [
    "train_21 = specific21[specific21['Year'] < 2021]"
   ]
  },
  {
   "cell_type": "code",
   "execution_count": 21,
   "id": "20144683",
   "metadata": {},
   "outputs": [
    {
     "data": {
      "text/html": [
       "<div>\n",
       "<style scoped>\n",
       "    .dataframe tbody tr th:only-of-type {\n",
       "        vertical-align: middle;\n",
       "    }\n",
       "\n",
       "    .dataframe tbody tr th {\n",
       "        vertical-align: top;\n",
       "    }\n",
       "\n",
       "    .dataframe thead th {\n",
       "        text-align: right;\n",
       "    }\n",
       "</style>\n",
       "<table border=\"1\" class=\"dataframe\">\n",
       "  <thead>\n",
       "    <tr style=\"text-align: right;\">\n",
       "      <th></th>\n",
       "      <th>County</th>\n",
       "      <th>Not Full Market Price</th>\n",
       "      <th>Year</th>\n",
       "      <th>Town</th>\n",
       "      <th>Region</th>\n",
       "      <th>Neighbourhood</th>\n",
       "      <th>PriceInflation</th>\n",
       "      <th>Eircode</th>\n",
       "    </tr>\n",
       "  </thead>\n",
       "  <tbody>\n",
       "    <tr>\n",
       "      <th>247</th>\n",
       "      <td>141868.826161</td>\n",
       "      <td>1</td>\n",
       "      <td>2016</td>\n",
       "      <td>1.658409e+05</td>\n",
       "      <td>197194.202402</td>\n",
       "      <td>1.862380e+05</td>\n",
       "      <td>11.950988</td>\n",
       "      <td>156138.770412</td>\n",
       "    </tr>\n",
       "    <tr>\n",
       "      <th>248</th>\n",
       "      <td>141868.826161</td>\n",
       "      <td>1</td>\n",
       "      <td>2016</td>\n",
       "      <td>1.658409e+05</td>\n",
       "      <td>197194.202402</td>\n",
       "      <td>1.633680e+05</td>\n",
       "      <td>12.210499</td>\n",
       "      <td>156138.770412</td>\n",
       "    </tr>\n",
       "    <tr>\n",
       "      <th>249</th>\n",
       "      <td>141868.826161</td>\n",
       "      <td>1</td>\n",
       "      <td>2016</td>\n",
       "      <td>1.658409e+05</td>\n",
       "      <td>197194.202402</td>\n",
       "      <td>1.633680e+05</td>\n",
       "      <td>11.160677</td>\n",
       "      <td>156138.770412</td>\n",
       "    </tr>\n",
       "    <tr>\n",
       "      <th>250</th>\n",
       "      <td>141868.826161</td>\n",
       "      <td>1</td>\n",
       "      <td>2016</td>\n",
       "      <td>1.658409e+05</td>\n",
       "      <td>197194.202402</td>\n",
       "      <td>1.751479e+05</td>\n",
       "      <td>12.035295</td>\n",
       "      <td>156138.770412</td>\n",
       "    </tr>\n",
       "    <tr>\n",
       "      <th>251</th>\n",
       "      <td>141868.826161</td>\n",
       "      <td>1</td>\n",
       "      <td>2016</td>\n",
       "      <td>1.658409e+05</td>\n",
       "      <td>197194.202402</td>\n",
       "      <td>1.751479e+05</td>\n",
       "      <td>11.638304</td>\n",
       "      <td>156138.770412</td>\n",
       "    </tr>\n",
       "    <tr>\n",
       "      <th>...</th>\n",
       "      <td>...</td>\n",
       "      <td>...</td>\n",
       "      <td>...</td>\n",
       "      <td>...</td>\n",
       "      <td>...</td>\n",
       "      <td>...</td>\n",
       "      <td>...</td>\n",
       "      <td>...</td>\n",
       "    </tr>\n",
       "    <tr>\n",
       "      <th>251563</th>\n",
       "      <td>501952.961179</td>\n",
       "      <td>1</td>\n",
       "      <td>2020</td>\n",
       "      <td>8.038964e+05</td>\n",
       "      <td>501952.961179</td>\n",
       "      <td>1.061010e+06</td>\n",
       "      <td>13.452662</td>\n",
       "      <td>777526.808779</td>\n",
       "    </tr>\n",
       "    <tr>\n",
       "      <th>251564</th>\n",
       "      <td>501952.961179</td>\n",
       "      <td>1</td>\n",
       "      <td>2020</td>\n",
       "      <td>8.038964e+05</td>\n",
       "      <td>501952.961179</td>\n",
       "      <td>1.061010e+06</td>\n",
       "      <td>13.546580</td>\n",
       "      <td>777526.808779</td>\n",
       "    </tr>\n",
       "    <tr>\n",
       "      <th>251565</th>\n",
       "      <td>501952.961179</td>\n",
       "      <td>1</td>\n",
       "      <td>2020</td>\n",
       "      <td>6.028282e+05</td>\n",
       "      <td>501952.961179</td>\n",
       "      <td>6.485700e+05</td>\n",
       "      <td>12.311711</td>\n",
       "      <td>533857.494448</td>\n",
       "    </tr>\n",
       "    <tr>\n",
       "      <th>251566</th>\n",
       "      <td>501952.961179</td>\n",
       "      <td>1</td>\n",
       "      <td>2020</td>\n",
       "      <td>1.025034e+06</td>\n",
       "      <td>501952.961179</td>\n",
       "      <td>1.433256e+06</td>\n",
       "      <td>14.152067</td>\n",
       "      <td>839330.631747</td>\n",
       "    </tr>\n",
       "    <tr>\n",
       "      <th>251567</th>\n",
       "      <td>501952.961179</td>\n",
       "      <td>1</td>\n",
       "      <td>2020</td>\n",
       "      <td>8.841659e+05</td>\n",
       "      <td>501952.961179</td>\n",
       "      <td>1.052205e+06</td>\n",
       "      <td>14.043017</td>\n",
       "      <td>792887.866953</td>\n",
       "    </tr>\n",
       "  </tbody>\n",
       "</table>\n",
       "<p>131351 rows × 8 columns</p>\n",
       "</div>"
      ],
      "text/plain": [
       "               County  Not Full Market Price  Year          Town  \\\n",
       "247     141868.826161                      1  2016  1.658409e+05   \n",
       "248     141868.826161                      1  2016  1.658409e+05   \n",
       "249     141868.826161                      1  2016  1.658409e+05   \n",
       "250     141868.826161                      1  2016  1.658409e+05   \n",
       "251     141868.826161                      1  2016  1.658409e+05   \n",
       "...               ...                    ...   ...           ...   \n",
       "251563  501952.961179                      1  2020  8.038964e+05   \n",
       "251564  501952.961179                      1  2020  8.038964e+05   \n",
       "251565  501952.961179                      1  2020  6.028282e+05   \n",
       "251566  501952.961179                      1  2020  1.025034e+06   \n",
       "251567  501952.961179                      1  2020  8.841659e+05   \n",
       "\n",
       "               Region  Neighbourhood  PriceInflation        Eircode  \n",
       "247     197194.202402   1.862380e+05       11.950988  156138.770412  \n",
       "248     197194.202402   1.633680e+05       12.210499  156138.770412  \n",
       "249     197194.202402   1.633680e+05       11.160677  156138.770412  \n",
       "250     197194.202402   1.751479e+05       12.035295  156138.770412  \n",
       "251     197194.202402   1.751479e+05       11.638304  156138.770412  \n",
       "...               ...            ...             ...            ...  \n",
       "251563  501952.961179   1.061010e+06       13.452662  777526.808779  \n",
       "251564  501952.961179   1.061010e+06       13.546580  777526.808779  \n",
       "251565  501952.961179   6.485700e+05       12.311711  533857.494448  \n",
       "251566  501952.961179   1.433256e+06       14.152067  839330.631747  \n",
       "251567  501952.961179   1.052205e+06       14.043017  792887.866953  \n",
       "\n",
       "[131351 rows x 8 columns]"
      ]
     },
     "execution_count": 21,
     "metadata": {},
     "output_type": "execute_result"
    }
   ],
   "source": [
    "#train_21 = train_21.sample(n = 80000)\n",
    "train_21"
   ]
  },
  {
   "cell_type": "code",
   "execution_count": 22,
   "id": "b32af944",
   "metadata": {},
   "outputs": [],
   "source": [
    "test_21 = specific21[specific21['Year'] == 2021]"
   ]
  },
  {
   "cell_type": "code",
   "execution_count": 23,
   "id": "9e4fa5cf",
   "metadata": {},
   "outputs": [],
   "source": [
    "x_train_21 = train_21.loc[:, train_21.columns != 'PriceInflation']\n",
    "y_train_21 = train_21['PriceInflation']"
   ]
  },
  {
   "cell_type": "code",
   "execution_count": 24,
   "id": "5d9d83fe",
   "metadata": {},
   "outputs": [
    {
     "data": {
      "text/html": [
       "<div>\n",
       "<style scoped>\n",
       "    .dataframe tbody tr th:only-of-type {\n",
       "        vertical-align: middle;\n",
       "    }\n",
       "\n",
       "    .dataframe tbody tr th {\n",
       "        vertical-align: top;\n",
       "    }\n",
       "\n",
       "    .dataframe thead th {\n",
       "        text-align: right;\n",
       "    }\n",
       "</style>\n",
       "<table border=\"1\" class=\"dataframe\">\n",
       "  <thead>\n",
       "    <tr style=\"text-align: right;\">\n",
       "      <th></th>\n",
       "      <th>County</th>\n",
       "      <th>Not Full Market Price</th>\n",
       "      <th>Year</th>\n",
       "      <th>Town</th>\n",
       "      <th>Region</th>\n",
       "      <th>Neighbourhood</th>\n",
       "      <th>PriceInflation</th>\n",
       "      <th>Eircode</th>\n",
       "    </tr>\n",
       "  </thead>\n",
       "  <tbody>\n",
       "    <tr>\n",
       "      <th>679</th>\n",
       "      <td>141868.826161</td>\n",
       "      <td>1</td>\n",
       "      <td>2021</td>\n",
       "      <td>1.658409e+05</td>\n",
       "      <td>197194.202402</td>\n",
       "      <td>1.987808e+05</td>\n",
       "      <td>11.831419</td>\n",
       "      <td>156138.770412</td>\n",
       "    </tr>\n",
       "    <tr>\n",
       "      <th>680</th>\n",
       "      <td>141868.826161</td>\n",
       "      <td>1</td>\n",
       "      <td>2021</td>\n",
       "      <td>1.658409e+05</td>\n",
       "      <td>197194.202402</td>\n",
       "      <td>4.818433e+04</td>\n",
       "      <td>11.898995</td>\n",
       "      <td>156138.770412</td>\n",
       "    </tr>\n",
       "    <tr>\n",
       "      <th>681</th>\n",
       "      <td>141868.826161</td>\n",
       "      <td>1</td>\n",
       "      <td>2021</td>\n",
       "      <td>1.658409e+05</td>\n",
       "      <td>197194.202402</td>\n",
       "      <td>2.865718e+05</td>\n",
       "      <td>12.659467</td>\n",
       "      <td>156138.770412</td>\n",
       "    </tr>\n",
       "    <tr>\n",
       "      <th>682</th>\n",
       "      <td>141868.826161</td>\n",
       "      <td>1</td>\n",
       "      <td>2021</td>\n",
       "      <td>1.658409e+05</td>\n",
       "      <td>197194.202402</td>\n",
       "      <td>1.277423e+05</td>\n",
       "      <td>11.657833</td>\n",
       "      <td>156138.770412</td>\n",
       "    </tr>\n",
       "    <tr>\n",
       "      <th>683</th>\n",
       "      <td>141868.826161</td>\n",
       "      <td>1</td>\n",
       "      <td>2021</td>\n",
       "      <td>1.658409e+05</td>\n",
       "      <td>197194.202402</td>\n",
       "      <td>1.497945e+05</td>\n",
       "      <td>12.478813</td>\n",
       "      <td>156138.770412</td>\n",
       "    </tr>\n",
       "    <tr>\n",
       "      <th>...</th>\n",
       "      <td>...</td>\n",
       "      <td>...</td>\n",
       "      <td>...</td>\n",
       "      <td>...</td>\n",
       "      <td>...</td>\n",
       "      <td>...</td>\n",
       "      <td>...</td>\n",
       "      <td>...</td>\n",
       "    </tr>\n",
       "    <tr>\n",
       "      <th>252466</th>\n",
       "      <td>501952.961179</td>\n",
       "      <td>1</td>\n",
       "      <td>2021</td>\n",
       "      <td>8.038964e+05</td>\n",
       "      <td>501952.961179</td>\n",
       "      <td>8.124615e+05</td>\n",
       "      <td>13.643427</td>\n",
       "      <td>777526.808779</td>\n",
       "    </tr>\n",
       "    <tr>\n",
       "      <th>252467</th>\n",
       "      <td>501952.961179</td>\n",
       "      <td>1</td>\n",
       "      <td>2021</td>\n",
       "      <td>3.300908e+05</td>\n",
       "      <td>501952.961179</td>\n",
       "      <td>3.237620e+05</td>\n",
       "      <td>12.601334</td>\n",
       "      <td>330818.096234</td>\n",
       "    </tr>\n",
       "    <tr>\n",
       "      <th>252468</th>\n",
       "      <td>501952.961179</td>\n",
       "      <td>1</td>\n",
       "      <td>2021</td>\n",
       "      <td>5.588446e+05</td>\n",
       "      <td>501952.961179</td>\n",
       "      <td>4.257429e+05</td>\n",
       "      <td>13.272502</td>\n",
       "      <td>558844.590476</td>\n",
       "    </tr>\n",
       "    <tr>\n",
       "      <th>252469</th>\n",
       "      <td>501952.961179</td>\n",
       "      <td>1</td>\n",
       "      <td>2021</td>\n",
       "      <td>1.040475e+06</td>\n",
       "      <td>501952.961179</td>\n",
       "      <td>1.162364e+06</td>\n",
       "      <td>13.783328</td>\n",
       "      <td>792887.866953</td>\n",
       "    </tr>\n",
       "    <tr>\n",
       "      <th>252470</th>\n",
       "      <td>501952.961179</td>\n",
       "      <td>1</td>\n",
       "      <td>2021</td>\n",
       "      <td>1.025034e+06</td>\n",
       "      <td>501952.961179</td>\n",
       "      <td>1.433256e+06</td>\n",
       "      <td>13.983999</td>\n",
       "      <td>839330.631747</td>\n",
       "    </tr>\n",
       "  </tbody>\n",
       "</table>\n",
       "<p>16745 rows × 8 columns</p>\n",
       "</div>"
      ],
      "text/plain": [
       "               County  Not Full Market Price  Year          Town  \\\n",
       "679     141868.826161                      1  2021  1.658409e+05   \n",
       "680     141868.826161                      1  2021  1.658409e+05   \n",
       "681     141868.826161                      1  2021  1.658409e+05   \n",
       "682     141868.826161                      1  2021  1.658409e+05   \n",
       "683     141868.826161                      1  2021  1.658409e+05   \n",
       "...               ...                    ...   ...           ...   \n",
       "252466  501952.961179                      1  2021  8.038964e+05   \n",
       "252467  501952.961179                      1  2021  3.300908e+05   \n",
       "252468  501952.961179                      1  2021  5.588446e+05   \n",
       "252469  501952.961179                      1  2021  1.040475e+06   \n",
       "252470  501952.961179                      1  2021  1.025034e+06   \n",
       "\n",
       "               Region  Neighbourhood  PriceInflation        Eircode  \n",
       "679     197194.202402   1.987808e+05       11.831419  156138.770412  \n",
       "680     197194.202402   4.818433e+04       11.898995  156138.770412  \n",
       "681     197194.202402   2.865718e+05       12.659467  156138.770412  \n",
       "682     197194.202402   1.277423e+05       11.657833  156138.770412  \n",
       "683     197194.202402   1.497945e+05       12.478813  156138.770412  \n",
       "...               ...            ...             ...            ...  \n",
       "252466  501952.961179   8.124615e+05       13.643427  777526.808779  \n",
       "252467  501952.961179   3.237620e+05       12.601334  330818.096234  \n",
       "252468  501952.961179   4.257429e+05       13.272502  558844.590476  \n",
       "252469  501952.961179   1.162364e+06       13.783328  792887.866953  \n",
       "252470  501952.961179   1.433256e+06       13.983999  839330.631747  \n",
       "\n",
       "[16745 rows x 8 columns]"
      ]
     },
     "execution_count": 24,
     "metadata": {},
     "output_type": "execute_result"
    }
   ],
   "source": [
    "#test_21 = test_21.sample(n = 15000)\n",
    "test_21"
   ]
  },
  {
   "cell_type": "code",
   "execution_count": 25,
   "id": "f13b0c31",
   "metadata": {},
   "outputs": [],
   "source": [
    "#test_21.drop(columns=['Year'], inplace = True)\n",
    "#train_21.drop(columns=['Year'], inplace = True)\n",
    "\n",
    "#test_21"
   ]
  },
  {
   "cell_type": "code",
   "execution_count": 26,
   "id": "d0b79fe2",
   "metadata": {},
   "outputs": [],
   "source": [
    "x_test_21 = test_21.loc[:, test_21.columns != 'PriceInflation']\n",
    "y_test_21 = test_21['PriceInflation']"
   ]
  },
  {
   "cell_type": "code",
   "execution_count": 27,
   "id": "d73c33a7",
   "metadata": {},
   "outputs": [
    {
     "data": {
      "text/html": [
       "<div>\n",
       "<style scoped>\n",
       "    .dataframe tbody tr th:only-of-type {\n",
       "        vertical-align: middle;\n",
       "    }\n",
       "\n",
       "    .dataframe tbody tr th {\n",
       "        vertical-align: top;\n",
       "    }\n",
       "\n",
       "    .dataframe thead th {\n",
       "        text-align: right;\n",
       "    }\n",
       "</style>\n",
       "<table border=\"1\" class=\"dataframe\">\n",
       "  <thead>\n",
       "    <tr style=\"text-align: right;\">\n",
       "      <th></th>\n",
       "      <th>County</th>\n",
       "      <th>Not Full Market Price</th>\n",
       "      <th>Year</th>\n",
       "      <th>Town</th>\n",
       "      <th>Region</th>\n",
       "      <th>Neighbourhood</th>\n",
       "      <th>PriceInflation</th>\n",
       "      <th>Eircode</th>\n",
       "    </tr>\n",
       "  </thead>\n",
       "  <tbody>\n",
       "    <tr>\n",
       "      <th>679</th>\n",
       "      <td>141868.826161</td>\n",
       "      <td>1</td>\n",
       "      <td>2021</td>\n",
       "      <td>1.658409e+05</td>\n",
       "      <td>197194.202402</td>\n",
       "      <td>1.987808e+05</td>\n",
       "      <td>11.831419</td>\n",
       "      <td>156138.770412</td>\n",
       "    </tr>\n",
       "    <tr>\n",
       "      <th>680</th>\n",
       "      <td>141868.826161</td>\n",
       "      <td>1</td>\n",
       "      <td>2021</td>\n",
       "      <td>1.658409e+05</td>\n",
       "      <td>197194.202402</td>\n",
       "      <td>4.818433e+04</td>\n",
       "      <td>11.898995</td>\n",
       "      <td>156138.770412</td>\n",
       "    </tr>\n",
       "    <tr>\n",
       "      <th>681</th>\n",
       "      <td>141868.826161</td>\n",
       "      <td>1</td>\n",
       "      <td>2021</td>\n",
       "      <td>1.658409e+05</td>\n",
       "      <td>197194.202402</td>\n",
       "      <td>2.865718e+05</td>\n",
       "      <td>12.659467</td>\n",
       "      <td>156138.770412</td>\n",
       "    </tr>\n",
       "    <tr>\n",
       "      <th>682</th>\n",
       "      <td>141868.826161</td>\n",
       "      <td>1</td>\n",
       "      <td>2021</td>\n",
       "      <td>1.658409e+05</td>\n",
       "      <td>197194.202402</td>\n",
       "      <td>1.277423e+05</td>\n",
       "      <td>11.657833</td>\n",
       "      <td>156138.770412</td>\n",
       "    </tr>\n",
       "    <tr>\n",
       "      <th>683</th>\n",
       "      <td>141868.826161</td>\n",
       "      <td>1</td>\n",
       "      <td>2021</td>\n",
       "      <td>1.658409e+05</td>\n",
       "      <td>197194.202402</td>\n",
       "      <td>1.497945e+05</td>\n",
       "      <td>12.478813</td>\n",
       "      <td>156138.770412</td>\n",
       "    </tr>\n",
       "    <tr>\n",
       "      <th>...</th>\n",
       "      <td>...</td>\n",
       "      <td>...</td>\n",
       "      <td>...</td>\n",
       "      <td>...</td>\n",
       "      <td>...</td>\n",
       "      <td>...</td>\n",
       "      <td>...</td>\n",
       "      <td>...</td>\n",
       "    </tr>\n",
       "    <tr>\n",
       "      <th>252466</th>\n",
       "      <td>501952.961179</td>\n",
       "      <td>1</td>\n",
       "      <td>2021</td>\n",
       "      <td>8.038964e+05</td>\n",
       "      <td>501952.961179</td>\n",
       "      <td>8.124615e+05</td>\n",
       "      <td>13.643427</td>\n",
       "      <td>777526.808779</td>\n",
       "    </tr>\n",
       "    <tr>\n",
       "      <th>252467</th>\n",
       "      <td>501952.961179</td>\n",
       "      <td>1</td>\n",
       "      <td>2021</td>\n",
       "      <td>3.300908e+05</td>\n",
       "      <td>501952.961179</td>\n",
       "      <td>3.237620e+05</td>\n",
       "      <td>12.601334</td>\n",
       "      <td>330818.096234</td>\n",
       "    </tr>\n",
       "    <tr>\n",
       "      <th>252468</th>\n",
       "      <td>501952.961179</td>\n",
       "      <td>1</td>\n",
       "      <td>2021</td>\n",
       "      <td>5.588446e+05</td>\n",
       "      <td>501952.961179</td>\n",
       "      <td>4.257429e+05</td>\n",
       "      <td>13.272502</td>\n",
       "      <td>558844.590476</td>\n",
       "    </tr>\n",
       "    <tr>\n",
       "      <th>252469</th>\n",
       "      <td>501952.961179</td>\n",
       "      <td>1</td>\n",
       "      <td>2021</td>\n",
       "      <td>1.040475e+06</td>\n",
       "      <td>501952.961179</td>\n",
       "      <td>1.162364e+06</td>\n",
       "      <td>13.783328</td>\n",
       "      <td>792887.866953</td>\n",
       "    </tr>\n",
       "    <tr>\n",
       "      <th>252470</th>\n",
       "      <td>501952.961179</td>\n",
       "      <td>1</td>\n",
       "      <td>2021</td>\n",
       "      <td>1.025034e+06</td>\n",
       "      <td>501952.961179</td>\n",
       "      <td>1.433256e+06</td>\n",
       "      <td>13.983999</td>\n",
       "      <td>839330.631747</td>\n",
       "    </tr>\n",
       "  </tbody>\n",
       "</table>\n",
       "<p>16745 rows × 8 columns</p>\n",
       "</div>"
      ],
      "text/plain": [
       "               County  Not Full Market Price  Year          Town  \\\n",
       "679     141868.826161                      1  2021  1.658409e+05   \n",
       "680     141868.826161                      1  2021  1.658409e+05   \n",
       "681     141868.826161                      1  2021  1.658409e+05   \n",
       "682     141868.826161                      1  2021  1.658409e+05   \n",
       "683     141868.826161                      1  2021  1.658409e+05   \n",
       "...               ...                    ...   ...           ...   \n",
       "252466  501952.961179                      1  2021  8.038964e+05   \n",
       "252467  501952.961179                      1  2021  3.300908e+05   \n",
       "252468  501952.961179                      1  2021  5.588446e+05   \n",
       "252469  501952.961179                      1  2021  1.040475e+06   \n",
       "252470  501952.961179                      1  2021  1.025034e+06   \n",
       "\n",
       "               Region  Neighbourhood  PriceInflation        Eircode  \n",
       "679     197194.202402   1.987808e+05       11.831419  156138.770412  \n",
       "680     197194.202402   4.818433e+04       11.898995  156138.770412  \n",
       "681     197194.202402   2.865718e+05       12.659467  156138.770412  \n",
       "682     197194.202402   1.277423e+05       11.657833  156138.770412  \n",
       "683     197194.202402   1.497945e+05       12.478813  156138.770412  \n",
       "...               ...            ...             ...            ...  \n",
       "252466  501952.961179   8.124615e+05       13.643427  777526.808779  \n",
       "252467  501952.961179   3.237620e+05       12.601334  330818.096234  \n",
       "252468  501952.961179   4.257429e+05       13.272502  558844.590476  \n",
       "252469  501952.961179   1.162364e+06       13.783328  792887.866953  \n",
       "252470  501952.961179   1.433256e+06       13.983999  839330.631747  \n",
       "\n",
       "[16745 rows x 8 columns]"
      ]
     },
     "execution_count": 27,
     "metadata": {},
     "output_type": "execute_result"
    }
   ],
   "source": [
    "test_21"
   ]
  },
  {
   "cell_type": "code",
   "execution_count": 28,
   "id": "c0e493cb",
   "metadata": {},
   "outputs": [
    {
     "name": "stdout",
     "output_type": "stream",
     "text": [
      "Linear algorithm was disabled.\n",
      "AutoML directory: AutoML_1\n",
      "The task is regression with evaluation metric rmse\n",
      "AutoML will use algorithms: ['Baseline', 'Decision Tree', 'Random Forest', 'Xgboost', 'Neural Network']\n",
      "AutoML will ensemble available models\n",
      "AutoML steps: ['simple_algorithms', 'default_algorithms', 'ensemble']\n",
      "* Step simple_algorithms will try to check up to 2 models\n",
      "1_Baseline rmse 0.725205 trained in 0.46 seconds\n",
      "2_DecisionTree rmse 0.42764 trained in 19.05 seconds\n",
      "* Step default_algorithms will try to check up to 3 models\n",
      "3_Default_Xgboost rmse 0.399511 trained in 11.68 seconds\n",
      "4_Default_NeuralNetwork rmse 0.406666 trained in 12.51 seconds\n",
      "5_Default_RandomForest rmse 0.411851 trained in 14.86 seconds\n",
      "* Step ensemble will try to check up to 1 model\n",
      "Ensemble rmse 0.399511 trained in 0.35 seconds\n",
      "AutoML fit time: 73.24 seconds\n",
      "AutoML best model: 3_Default_Xgboost\n"
     ]
    },
    {
     "data": {
      "text/plain": [
       "AutoML(total_time_limit=300)"
      ]
     },
     "execution_count": 28,
     "metadata": {},
     "output_type": "execute_result"
    }
   ],
   "source": [
    "automl = AutoML(total_time_limit = 5 * 60)\n",
    "automl.fit(x_train_21, y_train_21)"
   ]
  },
  {
   "cell_type": "code",
   "execution_count": 29,
   "id": "d4f2a436",
   "metadata": {},
   "outputs": [
    {
     "name": "stdout",
     "output_type": "stream",
     "text": [
      "MSE for AutoML 2021 is: 0.14929953741444676\n"
     ]
    }
   ],
   "source": [
    "# calculated values\n",
    "y_predicted_21 = automl.predict(x_test_21)\n",
    "  \n",
    "# Calculation of Mean Squared Error (MSE)\n",
    "mse = mean_squared_error(y_test_21, y_predicted_21)\n",
    "print('MSE for AutoML 2021 is: ' + str(mse))"
   ]
  },
  {
   "cell_type": "code",
   "execution_count": 30,
   "id": "718fee9e",
   "metadata": {},
   "outputs": [
    {
     "name": "stdout",
     "output_type": "stream",
     "text": [
      "RMSE for AutoML 2021 is: 0.38639298313303616\n"
     ]
    }
   ],
   "source": [
    "rmse = mean_squared_error(y_test_21, y_predicted_21, squared=False)\n",
    "print('RMSE for AutoML 2021 is: ' + str(rmse))"
   ]
  },
  {
   "cell_type": "code",
   "execution_count": 31,
   "id": "2131bd5d",
   "metadata": {},
   "outputs": [
    {
     "name": "stdout",
     "output_type": "stream",
     "text": [
      "Accuracy of properties at +- 10% of actual prices is 0.338489101224246\n"
     ]
    }
   ],
   "source": [
    "acc = accuracy_threshold(y_test_21, y_predicted_21, 0.1)\n",
    "print('Accuracy of properties at +- 10% of actual prices is ' + str(acc))"
   ]
  },
  {
   "cell_type": "code",
   "execution_count": 32,
   "id": "5fe78f15",
   "metadata": {},
   "outputs": [
    {
     "name": "stdout",
     "output_type": "stream",
     "text": [
      "Median Absolute Error:\n",
      "\n",
      "0.16862532171729328\n"
     ]
    }
   ],
   "source": [
    "median_se = np.square(np.subtract(y_test_21, y_predicted_21)).median() \n",
    " \n",
    "med = math.sqrt(median_se)\n",
    "print(\"Median Absolute Error:\\n\")\n",
    "print(med)"
   ]
  },
  {
   "cell_type": "code",
   "execution_count": 33,
   "id": "b55c0957",
   "metadata": {},
   "outputs": [
    {
     "name": "stdout",
     "output_type": "stream",
     "text": [
      "MAPE for AutoML 2021 is: 0.021339037472231637\n"
     ]
    }
   ],
   "source": [
    "from sklearn.metrics import mean_absolute_percentage_error\n",
    "mape = mean_absolute_percentage_error(y_test_21, y_predicted_21)\n",
    "print(\"MAPE for AutoML 2021 is: \" + str(mape))"
   ]
  },
  {
   "cell_type": "code",
   "execution_count": 34,
   "id": "6e9ed327",
   "metadata": {},
   "outputs": [],
   "source": [
    "cnames=['Algorithm', 'Year', 'RMSE', 'MSE', 'MEDAE', 'Accuracy', 'MAPE']\n",
    "df11 = pd.DataFrame(columns=cnames)\n",
    "\n",
    "df11 = df11.append({'Algorithm': 'AutoML',\n",
    "            'Year': 2021,\n",
    "           'RMSE': rmse,\n",
    "           'MSE': mse,\n",
    "           'MEDAE': med,\n",
    "           'Accuracy': acc,\n",
    "           'MAPE': mape         \n",
    "          }, ignore_index=True)"
   ]
  },
  {
   "cell_type": "markdown",
   "id": "d081217e",
   "metadata": {},
   "source": [
    "### 2020 predictions"
   ]
  },
  {
   "cell_type": "code",
   "execution_count": 35,
   "id": "d6e48b79",
   "metadata": {},
   "outputs": [],
   "source": [
    "specific20 = irl[irl['Year'] >= 2015]"
   ]
  },
  {
   "cell_type": "code",
   "execution_count": 36,
   "id": "315afd40",
   "metadata": {},
   "outputs": [],
   "source": [
    "test_20 = specific20[specific20['Year'] == 2020]\n",
    "train_20 = specific20[specific20['Year'] < 2020]"
   ]
  },
  {
   "cell_type": "code",
   "execution_count": 37,
   "id": "ef743c5f",
   "metadata": {},
   "outputs": [],
   "source": [
    "#train_20 = train_20.sample(n = 75000)"
   ]
  },
  {
   "cell_type": "code",
   "execution_count": 38,
   "id": "9baef6c0",
   "metadata": {},
   "outputs": [],
   "source": [
    "#test_20.drop(columns=['Year'], inplace = True)\n",
    "#train_20.drop(columns=['Year'], inplace = True)\n",
    "\n",
    "#test_20"
   ]
  },
  {
   "cell_type": "code",
   "execution_count": 39,
   "id": "c9c2a103",
   "metadata": {},
   "outputs": [],
   "source": [
    "x_train_20 = train_20.loc[:, train_20.columns != 'PriceInflation']\n",
    "y_train_20 = train_20['PriceInflation']"
   ]
  },
  {
   "cell_type": "code",
   "execution_count": 40,
   "id": "d32e6f89",
   "metadata": {},
   "outputs": [],
   "source": [
    "#test_20 = test_20.sample(n = 15000)"
   ]
  },
  {
   "cell_type": "code",
   "execution_count": 41,
   "id": "23cef19c",
   "metadata": {},
   "outputs": [],
   "source": [
    "x_test_20 = test_20.loc[:, test_20.columns != 'PriceInflation']\n",
    "y_test_20 = test_20['PriceInflation']"
   ]
  },
  {
   "cell_type": "code",
   "execution_count": 42,
   "id": "489501e2",
   "metadata": {},
   "outputs": [
    {
     "name": "stdout",
     "output_type": "stream",
     "text": [
      "Linear algorithm was disabled.\n",
      "AutoML directory: AutoML_2\n",
      "The task is regression with evaluation metric rmse\n",
      "AutoML will use algorithms: ['Baseline', 'Decision Tree', 'Random Forest', 'Xgboost', 'Neural Network']\n",
      "AutoML will ensemble available models\n",
      "AutoML steps: ['simple_algorithms', 'default_algorithms', 'ensemble']\n",
      "* Step simple_algorithms will try to check up to 2 models\n",
      "1_Baseline rmse 0.741513 trained in 0.72 seconds\n",
      "2_DecisionTree rmse 0.425833 trained in 5.29 seconds\n",
      "* Step default_algorithms will try to check up to 3 models\n",
      "3_Default_Xgboost rmse 0.396249 trained in 16.79 seconds\n",
      "4_Default_NeuralNetwork rmse 0.401733 trained in 11.49 seconds\n",
      "5_Default_RandomForest rmse 0.40881 trained in 8.81 seconds\n",
      "* Step ensemble will try to check up to 1 model\n",
      "Ensemble rmse 0.395905 trained in 0.67 seconds\n",
      "AutoML fit time: 57.84 seconds\n",
      "AutoML best model: Ensemble\n"
     ]
    },
    {
     "data": {
      "text/plain": [
       "AutoML(total_time_limit=300)"
      ]
     },
     "execution_count": 42,
     "metadata": {},
     "output_type": "execute_result"
    }
   ],
   "source": [
    "automl = AutoML(total_time_limit=5*60)\n",
    "automl.fit(x_train_20, y_train_20)"
   ]
  },
  {
   "cell_type": "code",
   "execution_count": 43,
   "id": "614a3cad",
   "metadata": {},
   "outputs": [
    {
     "name": "stdout",
     "output_type": "stream",
     "text": [
      "MSE for AutoML 2020 is: 0.15045975646138973\n"
     ]
    }
   ],
   "source": [
    "# calculated values\n",
    "y_predicted_20 = automl.predict(x_test_20)\n",
    "  \n",
    "# Calculation of Mean Squared Error (MSE)\n",
    "mse = mean_squared_error(y_test_20,y_predicted_20)\n",
    "print('MSE for AutoML 2020 is: ' + str(mse))"
   ]
  },
  {
   "cell_type": "code",
   "execution_count": 44,
   "id": "8e4a25f6",
   "metadata": {},
   "outputs": [
    {
     "name": "stdout",
     "output_type": "stream",
     "text": [
      "RMSE for AutoML 2020 is: 0.3878914235470923\n"
     ]
    }
   ],
   "source": [
    "rmse = mean_squared_error(y_test_20,y_predicted_20, squared=False)\n",
    "print('RMSE for AutoML 2020 is: ' + str(rmse))"
   ]
  },
  {
   "cell_type": "code",
   "execution_count": 45,
   "id": "720e2b2e",
   "metadata": {},
   "outputs": [
    {
     "name": "stdout",
     "output_type": "stream",
     "text": [
      "Accuracy of properties at +- 10% of actual prices is 0.33564028902237314\n"
     ]
    }
   ],
   "source": [
    "acc = accuracy_threshold(y_test_20, y_predicted_20, 0.1)\n",
    "print('Accuracy of properties at +- 10% of actual prices is ' + str(acc))"
   ]
  },
  {
   "cell_type": "code",
   "execution_count": 46,
   "id": "a7924ad0",
   "metadata": {},
   "outputs": [
    {
     "name": "stdout",
     "output_type": "stream",
     "text": [
      "Median Absolute Error:\n",
      "\n",
      "0.1699628064592238\n"
     ]
    }
   ],
   "source": [
    "print(\"Median Absolute Error:\\n\")\n",
    "print(median_absolute_error(y_test_20,y_predicted_20))"
   ]
  },
  {
   "cell_type": "code",
   "execution_count": 47,
   "id": "18076ebd",
   "metadata": {},
   "outputs": [
    {
     "name": "stdout",
     "output_type": "stream",
     "text": [
      "MAPE for AutoML 2020 is: 0.021350376248579415\n"
     ]
    }
   ],
   "source": [
    "mape = mean_absolute_percentage_error(y_test_20, y_predicted_20)\n",
    "print(\"MAPE for AutoML 2020 is: \" + str(mape))"
   ]
  },
  {
   "cell_type": "code",
   "execution_count": 48,
   "id": "3ee1861f",
   "metadata": {},
   "outputs": [],
   "source": [
    "cnames=['Algorithm', 'Year', 'RMSE', 'MSE', 'MEDAE', 'Accuracy', 'MAPE']\n",
    "df10 = pd.DataFrame(columns=cnames)\n",
    "\n",
    "df10 = df10.append({'Algorithm': 'AutoML',\n",
    "            'Year': 2020,\n",
    "           'RMSE': rmse,\n",
    "           'MSE': mse,\n",
    "           'MEDAE': med,\n",
    "           'Accuracy': acc,\n",
    "           'MAPE': mape\n",
    "          }, ignore_index=True)"
   ]
  },
  {
   "cell_type": "markdown",
   "id": "74228ee8",
   "metadata": {},
   "source": [
    "### Multiple Linear Regression"
   ]
  },
  {
   "cell_type": "markdown",
   "id": "0c6586a2",
   "metadata": {},
   "source": [
    "Next, I will try implement some algorithms not specified in our autoML library which so far has only utilised XgBoost, Random Forest, Decison Tree and ensemble algorithms. I will attempt to implement other ML algorithms such as multiple linear regression and adaboost among others."
   ]
  },
  {
   "cell_type": "markdown",
   "id": "07c29198",
   "metadata": {},
   "source": [
    "There is a couple of different libraries we can use here for linear regression:\n",
    "- Sci-kit learn's linear model library\n",
    "- Statsmodel\n",
    "\n",
    "For the purpose of this I will remain consistent with the use of the sci-kit learn libraries."
   ]
  },
  {
   "cell_type": "code",
   "execution_count": 49,
   "id": "2b68d852",
   "metadata": {},
   "outputs": [],
   "source": [
    "from sklearn import linear_model"
   ]
  },
  {
   "cell_type": "markdown",
   "id": "130a989d",
   "metadata": {},
   "source": [
    "#### Let's try predict our 2021 values again using MLR"
   ]
  },
  {
   "cell_type": "code",
   "execution_count": 50,
   "id": "7d5c0fca",
   "metadata": {},
   "outputs": [
    {
     "data": {
      "text/plain": [
       "LinearRegression()"
      ]
     },
     "execution_count": 50,
     "metadata": {},
     "output_type": "execute_result"
    }
   ],
   "source": [
    "lm = linear_model.LinearRegression()\n",
    "lm.fit(x_train_21, y_train_21) # fitting the model"
   ]
  },
  {
   "cell_type": "code",
   "execution_count": 51,
   "id": "f263e379",
   "metadata": {},
   "outputs": [
    {
     "name": "stdout",
     "output_type": "stream",
     "text": [
      "MSE for MLR 2021 is: 0.20192725049149082\n"
     ]
    }
   ],
   "source": [
    "y_pred_21 = lm.predict(x_test_21)\n",
    "# Calculation of Mean Squared Error (MSE)\n",
    "mse = mean_squared_error(y_test_21,y_pred_21)\n",
    "print('MSE for MLR 2021 is: ' + str(mse))"
   ]
  },
  {
   "cell_type": "code",
   "execution_count": 52,
   "id": "73543343",
   "metadata": {},
   "outputs": [
    {
     "name": "stdout",
     "output_type": "stream",
     "text": [
      "Accuracy of properties at +- 10% of actual prices is 0.24908928038220365\n"
     ]
    }
   ],
   "source": [
    "acc = accuracy_threshold(y_test_21, y_pred_21, 0.1)\n",
    "print('Accuracy of properties at +- 10% of actual prices is ' + str(acc))"
   ]
  },
  {
   "cell_type": "code",
   "execution_count": 53,
   "id": "f1dc8944",
   "metadata": {},
   "outputs": [
    {
     "name": "stdout",
     "output_type": "stream",
     "text": [
      "Median Absolute Error:\n",
      "\n",
      "0.2204050708172982\n"
     ]
    }
   ],
   "source": [
    "median_se = np.square(np.subtract(y_test_21,y_pred_21)).median() \n",
    " \n",
    "med = math.sqrt(median_se)\n",
    "print(\"Median Absolute Error:\\n\")\n",
    "print(med)"
   ]
  },
  {
   "cell_type": "code",
   "execution_count": 54,
   "id": "b1472e99",
   "metadata": {},
   "outputs": [
    {
     "name": "stdout",
     "output_type": "stream",
     "text": [
      "Root Mean Square Error:\n",
      "\n",
      "0.4493631610306855\n"
     ]
    }
   ],
   "source": [
    "mean = np.square(np.subtract(y_test_21,y_pred_21)).mean() \n",
    " \n",
    "mean = math.sqrt(mean)\n",
    "print(\"Root Mean Square Error:\\n\")\n",
    "print(mean)"
   ]
  },
  {
   "cell_type": "code",
   "execution_count": 55,
   "id": "c7dd3250",
   "metadata": {},
   "outputs": [
    {
     "name": "stdout",
     "output_type": "stream",
     "text": [
      "MAPE for MLR 2021 is: 0.025746728125477326\n"
     ]
    }
   ],
   "source": [
    "mape = mean_absolute_percentage_error(y_test_21, y_pred_21)\n",
    "print(\"MAPE for MLR 2021 is: \" + str(mape))"
   ]
  },
  {
   "cell_type": "code",
   "execution_count": 56,
   "id": "2b29c4f2",
   "metadata": {},
   "outputs": [],
   "source": [
    "cnames=['Algorithm', 'Year', 'RMSE', 'MSE', 'MEDAE', 'Accuracy', 'MAPE']\n",
    "df9 = pd.DataFrame(columns=cnames)\n",
    "\n",
    "df9 = df9.append({'Algorithm': 'MLR',\n",
    "            'Year': 2021,\n",
    "           'RMSE': mean,\n",
    "           'MSE': mse,\n",
    "           'MEDAE': med,\n",
    "           'Accuracy': acc,\n",
    "           'MAPE': mape       \n",
    "          }, ignore_index=True)"
   ]
  },
  {
   "cell_type": "markdown",
   "id": "f971bf25",
   "metadata": {},
   "source": [
    "### 2020 predictions"
   ]
  },
  {
   "cell_type": "code",
   "execution_count": 57,
   "id": "a14bd756",
   "metadata": {},
   "outputs": [
    {
     "data": {
      "text/plain": [
       "LinearRegression()"
      ]
     },
     "execution_count": 57,
     "metadata": {},
     "output_type": "execute_result"
    }
   ],
   "source": [
    "lm = linear_model.LinearRegression()\n",
    "lm.fit(x_train_20, y_train_20) # fitting the model"
   ]
  },
  {
   "cell_type": "code",
   "execution_count": 58,
   "id": "ebe7da38",
   "metadata": {},
   "outputs": [
    {
     "name": "stdout",
     "output_type": "stream",
     "text": [
      "MSE for MLR 2020 is: 0.20159427334573485\n"
     ]
    }
   ],
   "source": [
    "y_pred_20 = lm.predict(x_test_20)\n",
    "# Calculation of Mean Squared Error (MSE)\n",
    "mse = mean_squared_error(y_test_20,y_pred_20)\n",
    "print('MSE for MLR 2020 is: ' + str(mse))"
   ]
  },
  {
   "cell_type": "code",
   "execution_count": 59,
   "id": "94e183b3",
   "metadata": {},
   "outputs": [
    {
     "name": "stdout",
     "output_type": "stream",
     "text": [
      "Accuracy of properties at +- 10% of actual prices is 0.23530948028205798\n"
     ]
    }
   ],
   "source": [
    "acc = accuracy_threshold(y_test_20, y_pred_20, 0.1)\n",
    "print('Accuracy of properties at +- 10% of actual prices is ' + str(acc))"
   ]
  },
  {
   "cell_type": "code",
   "execution_count": 60,
   "id": "849311be",
   "metadata": {},
   "outputs": [
    {
     "name": "stdout",
     "output_type": "stream",
     "text": [
      "Median Absolute Error:\n",
      "\n",
      "0.22662635886666216\n"
     ]
    }
   ],
   "source": [
    "median_se = np.square(np.subtract(y_test_20,y_pred_20)).median() \n",
    " \n",
    "med = math.sqrt(median_se)\n",
    "print(\"Median Absolute Error:\\n\")\n",
    "print(med)"
   ]
  },
  {
   "cell_type": "code",
   "execution_count": 61,
   "id": "513d7076",
   "metadata": {},
   "outputs": [
    {
     "name": "stdout",
     "output_type": "stream",
     "text": [
      "Root Mean Square Error:\n",
      "\n",
      "0.4489925092312049\n"
     ]
    }
   ],
   "source": [
    "mean = np.square(np.subtract(y_test_20,y_pred_20)).mean() \n",
    " \n",
    "mean = math.sqrt(mean)\n",
    "print(\"Root Mean Square Error:\\n\")\n",
    "print(mean)"
   ]
  },
  {
   "cell_type": "code",
   "execution_count": 62,
   "id": "b604c388",
   "metadata": {},
   "outputs": [
    {
     "name": "stdout",
     "output_type": "stream",
     "text": [
      "MAPE for MLR 2020 is: 0.026009255005290235\n"
     ]
    }
   ],
   "source": [
    "mape = mean_absolute_percentage_error(y_test_20, y_pred_20)\n",
    "print(\"MAPE for MLR 2020 is: \" + str(mape))"
   ]
  },
  {
   "cell_type": "code",
   "execution_count": 63,
   "id": "0133f359",
   "metadata": {},
   "outputs": [],
   "source": [
    "cnames=['Algorithm', 'Year', 'RMSE', 'MSE', 'MEDAE', 'Accuracy', 'MAPE']\n",
    "df8 = pd.DataFrame(columns=cnames)\n",
    "\n",
    "df8 = df8.append({'Algorithm': 'MLR',\n",
    "            'Year': 2020,\n",
    "           'RMSE': mean,\n",
    "           'MSE': mse,\n",
    "           'MEDAE': med,\n",
    "           'Accuracy': acc,\n",
    "           'MAPE': mape       \n",
    "          }, ignore_index=True)"
   ]
  },
  {
   "cell_type": "markdown",
   "id": "47a04928",
   "metadata": {},
   "source": [
    "### Adaboost"
   ]
  },
  {
   "cell_type": "markdown",
   "id": "5daebee4",
   "metadata": {},
   "source": [
    "#### 2021 Predictions"
   ]
  },
  {
   "cell_type": "code",
   "execution_count": 64,
   "id": "e573a23c",
   "metadata": {},
   "outputs": [],
   "source": [
    "from sklearn.ensemble import AdaBoostRegressor\n",
    "from sklearn.datasets import make_regression"
   ]
  },
  {
   "cell_type": "code",
   "execution_count": 65,
   "id": "21cfd588",
   "metadata": {},
   "outputs": [],
   "source": [
    "model = AdaBoostRegressor()"
   ]
  },
  {
   "cell_type": "code",
   "execution_count": 66,
   "id": "9abf8264",
   "metadata": {},
   "outputs": [
    {
     "data": {
      "text/plain": [
       "AdaBoostRegressor()"
      ]
     },
     "execution_count": 66,
     "metadata": {},
     "output_type": "execute_result"
    }
   ],
   "source": [
    "model.fit(x_train_21, y_train_21)"
   ]
  },
  {
   "cell_type": "code",
   "execution_count": 67,
   "id": "ecb42e2c",
   "metadata": {},
   "outputs": [
    {
     "name": "stdout",
     "output_type": "stream",
     "text": [
      "MSE for AdaBoost 2021 is: 0.27556103531004106\n"
     ]
    }
   ],
   "source": [
    "y_pred_21 = model.predict(x_test_21)\n",
    "# Calculation of Mean Squared Error (MSE)\n",
    "mse = mean_squared_error(y_test_21,y_pred_21)\n",
    "print('MSE for AdaBoost 2021 is: ' + str(mse))"
   ]
  },
  {
   "cell_type": "code",
   "execution_count": 68,
   "id": "01b0ca20",
   "metadata": {},
   "outputs": [
    {
     "name": "stdout",
     "output_type": "stream",
     "text": [
      "Accuracy of properties at +- 10% of actual prices is 0.09787996416840848\n"
     ]
    }
   ],
   "source": [
    "acc = accuracy_threshold(y_test_21, y_pred_21, 0.1)\n",
    "print('Accuracy of properties at +- 10% of actual prices is ' + str(acc))"
   ]
  },
  {
   "cell_type": "code",
   "execution_count": 69,
   "id": "38743392",
   "metadata": {},
   "outputs": [
    {
     "name": "stdout",
     "output_type": "stream",
     "text": [
      "Median Absolute Error:\n",
      "\n",
      "0.39084641780968354\n"
     ]
    }
   ],
   "source": [
    "median_se = np.square(np.subtract(y_test_21,y_pred_21)).median() \n",
    " \n",
    "med = math.sqrt(median_se)\n",
    "print(\"Median Absolute Error:\\n\")\n",
    "print(med)"
   ]
  },
  {
   "cell_type": "code",
   "execution_count": 70,
   "id": "ac047411",
   "metadata": {},
   "outputs": [
    {
     "name": "stdout",
     "output_type": "stream",
     "text": [
      "Root Mean Square Error:\n",
      "\n",
      "0.5249390777128731\n"
     ]
    }
   ],
   "source": [
    "mean = np.square(np.subtract(y_test_21,y_pred_21)).mean() \n",
    " \n",
    "mean = math.sqrt(mean)\n",
    "print(\"Root Mean Square Error:\\n\")\n",
    "print(mean)"
   ]
  },
  {
   "cell_type": "code",
   "execution_count": 71,
   "id": "95ff4f12",
   "metadata": {},
   "outputs": [
    {
     "name": "stdout",
     "output_type": "stream",
     "text": [
      "MAPE for AdaBoost 2021 is: 0.03501768465975683\n"
     ]
    }
   ],
   "source": [
    "mape = mean_absolute_percentage_error(y_test_21, y_pred_21)\n",
    "print(\"MAPE for AdaBoost 2021 is: \" + str(mape))"
   ]
  },
  {
   "cell_type": "code",
   "execution_count": 72,
   "id": "935683db",
   "metadata": {},
   "outputs": [],
   "source": [
    "cnames=['Algorithm', 'Year', 'RMSE', 'MSE', 'MEDAE', 'Accuracy', 'MAPE']\n",
    "df7 = pd.DataFrame(columns=cnames)\n",
    "\n",
    "df7 = df7.append({'Algorithm': 'AdaBoost',\n",
    "            'Year': 2021,\n",
    "           'RMSE': mean,\n",
    "           'MSE': mse,\n",
    "           'MEDAE': med,\n",
    "           'Accuracy': acc,\n",
    "           'MAPE': mape       \n",
    "          }, ignore_index=True)"
   ]
  },
  {
   "cell_type": "markdown",
   "id": "b8a62354",
   "metadata": {},
   "source": [
    "#### 2020 Predictions"
   ]
  },
  {
   "cell_type": "code",
   "execution_count": 73,
   "id": "91a5776a",
   "metadata": {},
   "outputs": [
    {
     "data": {
      "text/plain": [
       "AdaBoostRegressor()"
      ]
     },
     "execution_count": 73,
     "metadata": {},
     "output_type": "execute_result"
    }
   ],
   "source": [
    "model = AdaBoostRegressor()\n",
    "model.fit(x_train_20, y_train_20)"
   ]
  },
  {
   "cell_type": "code",
   "execution_count": 74,
   "id": "bcc35421",
   "metadata": {},
   "outputs": [
    {
     "name": "stdout",
     "output_type": "stream",
     "text": [
      "MSE for AdaBoost 2020 is: 0.2040571182145796\n"
     ]
    }
   ],
   "source": [
    "y_pred_20 = model.predict(x_test_20)\n",
    "# Calculation of Mean Squared Error (MSE)\n",
    "mse = mean_squared_error(y_test_20,y_pred_20)\n",
    "print('MSE for AdaBoost 2020 is: ' + str(mse))"
   ]
  },
  {
   "cell_type": "code",
   "execution_count": 75,
   "id": "641cd557",
   "metadata": {},
   "outputs": [
    {
     "name": "stdout",
     "output_type": "stream",
     "text": [
      "Accuracy of properties at +- 10% of actual prices is 0.1610516235744755\n"
     ]
    }
   ],
   "source": [
    "acc = accuracy_threshold(y_test_20, y_pred_20, 0.1)\n",
    "print('Accuracy of properties at +- 10% of actual prices is ' + str(acc))"
   ]
  },
  {
   "cell_type": "code",
   "execution_count": 76,
   "id": "a081be20",
   "metadata": {},
   "outputs": [
    {
     "name": "stdout",
     "output_type": "stream",
     "text": [
      "Median Absolute Error:\n",
      "\n",
      "0.28918448612346775\n"
     ]
    }
   ],
   "source": [
    "median_se = np.square(np.subtract(y_test_20,y_pred_20)).median() \n",
    " \n",
    "med = math.sqrt(median_se)\n",
    "print(\"Median Absolute Error:\\n\")\n",
    "print(med)"
   ]
  },
  {
   "cell_type": "code",
   "execution_count": 77,
   "id": "02c3cb6f",
   "metadata": {},
   "outputs": [
    {
     "name": "stdout",
     "output_type": "stream",
     "text": [
      "Root Mean Square Error:\n",
      "\n",
      "0.4517268181263773\n"
     ]
    }
   ],
   "source": [
    "mean = np.square(np.subtract(y_test_20,y_pred_20)).mean() \n",
    " \n",
    "mean = math.sqrt(mean)\n",
    "print(\"Root Mean Square Error:\\n\")\n",
    "print(mean)"
   ]
  },
  {
   "cell_type": "code",
   "execution_count": 78,
   "id": "dc3d5e41",
   "metadata": {},
   "outputs": [
    {
     "name": "stdout",
     "output_type": "stream",
     "text": [
      "MAPE for AdaBoost 2020 is: 0.02845064766971213\n"
     ]
    }
   ],
   "source": [
    "mape = mean_absolute_percentage_error(y_test_20, y_pred_20)\n",
    "print(\"MAPE for AdaBoost 2020 is: \" + str(mape))"
   ]
  },
  {
   "cell_type": "code",
   "execution_count": 79,
   "id": "99ce3cf8",
   "metadata": {},
   "outputs": [],
   "source": [
    "cnames=['Algorithm', 'Year', 'RMSE', 'MSE', 'MEDAE', 'Accuracy', 'MAPE']\n",
    "df6 = pd.DataFrame(columns=cnames)\n",
    "\n",
    "df6 = df6.append({'Algorithm': 'AdaBoost',\n",
    "            'Year': 2020,\n",
    "           'RMSE': mean,\n",
    "           'MSE': mse,\n",
    "           'MEDAE': med,\n",
    "           'Accuracy': acc,\n",
    "           'MAPE': mape       \n",
    "          }, ignore_index=True)"
   ]
  },
  {
   "cell_type": "markdown",
   "id": "5d5407fb",
   "metadata": {},
   "source": [
    "## Let's now try a selection of other algorithms on our data\n",
    "### LightGBM"
   ]
  },
  {
   "cell_type": "code",
   "execution_count": 80,
   "id": "8b71082c",
   "metadata": {},
   "outputs": [],
   "source": [
    "from sklearn.datasets import make_regression\n",
    "from lightgbm import LGBMRegressor"
   ]
  },
  {
   "cell_type": "markdown",
   "id": "e0e91f3e",
   "metadata": {},
   "source": [
    "### 2020 House Price Prediction Using LightGBM"
   ]
  },
  {
   "cell_type": "code",
   "execution_count": 81,
   "id": "74d6ecf3",
   "metadata": {},
   "outputs": [
    {
     "data": {
      "text/plain": [
       "LGBMRegressor()"
      ]
     },
     "execution_count": 81,
     "metadata": {},
     "output_type": "execute_result"
    }
   ],
   "source": [
    "model = LGBMRegressor()\n",
    "model.fit(x_train_20, y_train_20)"
   ]
  },
  {
   "cell_type": "code",
   "execution_count": 82,
   "id": "bef53552",
   "metadata": {},
   "outputs": [
    {
     "name": "stdout",
     "output_type": "stream",
     "text": [
      "MSE for LightGBM 2020 is: 0.14884431296613862\n"
     ]
    }
   ],
   "source": [
    "y_pred_20 = model.predict(x_test_20)\n",
    "# Calculation of Mean Squared Error (MSE)\n",
    "mse = mean_squared_error(y_test_20,y_pred_20)\n",
    "print('MSE for LightGBM 2020 is: ' + str(mse))"
   ]
  },
  {
   "cell_type": "code",
   "execution_count": 83,
   "id": "7df03eed",
   "metadata": {},
   "outputs": [
    {
     "name": "stdout",
     "output_type": "stream",
     "text": [
      "Accuracy of properties at +- 10% of actual prices is 0.3379907721772438\n"
     ]
    }
   ],
   "source": [
    "acc = accuracy_threshold(y_test_20, y_pred_20, 0.1)\n",
    "print('Accuracy of properties at +- 10% of actual prices is ' + str(acc))"
   ]
  },
  {
   "cell_type": "code",
   "execution_count": 84,
   "id": "88f6e6bd",
   "metadata": {},
   "outputs": [
    {
     "name": "stdout",
     "output_type": "stream",
     "text": [
      "Median Absolute Error:\n",
      "\n",
      "0.16802201190148416\n"
     ]
    }
   ],
   "source": [
    "median_se = np.square(np.subtract(y_test_20,y_pred_20)).median() \n",
    " \n",
    "med = math.sqrt(median_se)\n",
    "print(\"Median Absolute Error:\\n\")\n",
    "print(med)"
   ]
  },
  {
   "cell_type": "code",
   "execution_count": 85,
   "id": "495a055a",
   "metadata": {},
   "outputs": [
    {
     "name": "stdout",
     "output_type": "stream",
     "text": [
      "Root Mean Square Error:\n",
      "\n",
      "0.38580346417073214\n"
     ]
    }
   ],
   "source": [
    "mean = np.square(np.subtract(y_test_20,y_pred_20)).mean() \n",
    " \n",
    "mean = math.sqrt(mean)\n",
    "print(\"Root Mean Square Error:\\n\")\n",
    "print(mean)"
   ]
  },
  {
   "cell_type": "code",
   "execution_count": 86,
   "id": "0d02cce4",
   "metadata": {},
   "outputs": [
    {
     "name": "stdout",
     "output_type": "stream",
     "text": [
      "MAPE for LightGBM 2020 is: 0.021271382013053765\n"
     ]
    }
   ],
   "source": [
    "mape = mean_absolute_percentage_error(y_test_20, y_pred_20)\n",
    "print(\"MAPE for LightGBM 2020 is: \" + str(mape))"
   ]
  },
  {
   "cell_type": "code",
   "execution_count": 87,
   "id": "02a28f79",
   "metadata": {},
   "outputs": [],
   "source": [
    "cnames=['Algorithm', 'Year', 'RMSE', 'MSE', 'MEDAE', 'Accuracy', 'MAPE']\n",
    "df5 = pd.DataFrame(columns=cnames)\n",
    "\n",
    "df5 = df5.append({'Algorithm': 'LightGBM',\n",
    "            'Year': 2020,\n",
    "           'RMSE': mean,\n",
    "           'MSE': mse,\n",
    "           'MEDAE': med,\n",
    "           'Accuracy': acc,\n",
    "           'MAPE': mape       \n",
    "          }, ignore_index=True)"
   ]
  },
  {
   "cell_type": "markdown",
   "id": "2e9fa1fa",
   "metadata": {},
   "source": [
    "### 2021"
   ]
  },
  {
   "cell_type": "code",
   "execution_count": 88,
   "id": "ddcc332a",
   "metadata": {},
   "outputs": [
    {
     "data": {
      "text/plain": [
       "LGBMRegressor()"
      ]
     },
     "execution_count": 88,
     "metadata": {},
     "output_type": "execute_result"
    }
   ],
   "source": [
    "model = LGBMRegressor()\n",
    "model.fit(x_train_21, y_train_21)"
   ]
  },
  {
   "cell_type": "code",
   "execution_count": 89,
   "id": "a24e4f44",
   "metadata": {},
   "outputs": [
    {
     "name": "stdout",
     "output_type": "stream",
     "text": [
      "MSE for LightGBM 2021 is: 0.14844723741662133\n"
     ]
    }
   ],
   "source": [
    "y_pred_21 = model.predict(x_test_21)\n",
    "# Calculation of Mean Squared Error (MSE)\n",
    "mse = mean_squared_error(y_test_21,y_pred_21)\n",
    "print('MSE for LightGBM 2021 is: ' + str(mse))"
   ]
  },
  {
   "cell_type": "code",
   "execution_count": 90,
   "id": "09de1db0",
   "metadata": {},
   "outputs": [
    {
     "name": "stdout",
     "output_type": "stream",
     "text": [
      "Accuracy of properties at +- 10% of actual prices is 0.33418931024186327\n"
     ]
    }
   ],
   "source": [
    "acc = accuracy_threshold(y_test_21, y_pred_21, 0.1)\n",
    "print('Accuracy of properties at +- 10% of actual prices is ' + str(acc))"
   ]
  },
  {
   "cell_type": "code",
   "execution_count": 91,
   "id": "1af063f3",
   "metadata": {},
   "outputs": [
    {
     "name": "stdout",
     "output_type": "stream",
     "text": [
      "Median Absolute Error:\n",
      "\n",
      "0.16868169008557565\n"
     ]
    }
   ],
   "source": [
    "median_se = np.square(np.subtract(y_test_21, y_pred_21)).median() \n",
    " \n",
    "med = math.sqrt(median_se)\n",
    "print(\"Median Absolute Error:\\n\")\n",
    "print(med)"
   ]
  },
  {
   "cell_type": "code",
   "execution_count": 92,
   "id": "f6b3dde0",
   "metadata": {},
   "outputs": [
    {
     "name": "stdout",
     "output_type": "stream",
     "text": [
      "Root Mean Square Error:\n",
      "\n",
      "0.38528851191882274\n"
     ]
    }
   ],
   "source": [
    "mean = np.square(np.subtract(y_test_21, y_pred_21)).mean() \n",
    " \n",
    "mean = math.sqrt(mean)\n",
    "print(\"Root Mean Square Error:\\n\")\n",
    "print(mean)"
   ]
  },
  {
   "cell_type": "code",
   "execution_count": 93,
   "id": "f6d92791",
   "metadata": {},
   "outputs": [
    {
     "name": "stdout",
     "output_type": "stream",
     "text": [
      "MAPE for LightGBM 2021 is: 0.021334365254671254\n"
     ]
    }
   ],
   "source": [
    "mape = mean_absolute_percentage_error(y_test_21, y_pred_21)\n",
    "print(\"MAPE for LightGBM 2021 is: \" + str(mape))"
   ]
  },
  {
   "cell_type": "code",
   "execution_count": 94,
   "id": "0a2ce444",
   "metadata": {},
   "outputs": [],
   "source": [
    "cnames=['Algorithm', 'Year', 'RMSE', 'MSE', 'MEDAE', 'Accuracy', 'MAPE']\n",
    "df4 = pd.DataFrame(columns=cnames)\n",
    "\n",
    "df4 = df4.append({'Algorithm': 'LightGBM',\n",
    "            'Year': 2021,\n",
    "           'RMSE': mean,\n",
    "           'MSE': mse,\n",
    "           'MEDAE': med,\n",
    "           'Accuracy': acc,\n",
    "           'MAPE': mape       \n",
    "          }, ignore_index=True)"
   ]
  },
  {
   "cell_type": "markdown",
   "id": "776bcb52",
   "metadata": {},
   "source": [
    "### CatBoost\n",
    "\n",
    "#### 2021 Prediction"
   ]
  },
  {
   "cell_type": "code",
   "execution_count": 95,
   "id": "82d9ac87",
   "metadata": {},
   "outputs": [],
   "source": [
    "from catboost import CatBoostRegressor"
   ]
  },
  {
   "cell_type": "code",
   "execution_count": 96,
   "id": "c0b33685",
   "metadata": {},
   "outputs": [
    {
     "name": "stdout",
     "output_type": "stream",
     "text": [
      "Learning rate set to 0.08849\n",
      "0:\tlearn: 0.6797601\ttotal: 180ms\tremaining: 3m\n",
      "1:\tlearn: 0.6442528\ttotal: 204ms\tremaining: 1m 41s\n",
      "2:\tlearn: 0.6132966\ttotal: 231ms\tremaining: 1m 16s\n",
      "3:\tlearn: 0.5857554\ttotal: 258ms\tremaining: 1m 4s\n",
      "4:\tlearn: 0.5611964\ttotal: 282ms\tremaining: 56.1s\n",
      "5:\tlearn: 0.5395840\ttotal: 302ms\tremaining: 50s\n",
      "6:\tlearn: 0.5208455\ttotal: 320ms\tremaining: 45.3s\n",
      "7:\tlearn: 0.5044429\ttotal: 341ms\tremaining: 42.3s\n",
      "8:\tlearn: 0.4899115\ttotal: 361ms\tremaining: 39.8s\n",
      "9:\tlearn: 0.4772911\ttotal: 386ms\tremaining: 38.2s\n",
      "10:\tlearn: 0.4665081\ttotal: 410ms\tremaining: 36.8s\n",
      "11:\tlearn: 0.4573553\ttotal: 432ms\tremaining: 35.6s\n",
      "12:\tlearn: 0.4491148\ttotal: 455ms\tremaining: 34.5s\n",
      "13:\tlearn: 0.4421647\ttotal: 480ms\tremaining: 33.8s\n",
      "14:\tlearn: 0.4362212\ttotal: 502ms\tremaining: 33s\n",
      "15:\tlearn: 0.4310255\ttotal: 532ms\tremaining: 32.7s\n",
      "16:\tlearn: 0.4265713\ttotal: 551ms\tremaining: 31.8s\n",
      "17:\tlearn: 0.4228089\ttotal: 569ms\tremaining: 31s\n",
      "18:\tlearn: 0.4194216\ttotal: 592ms\tremaining: 30.6s\n",
      "19:\tlearn: 0.4167522\ttotal: 618ms\tremaining: 30.3s\n",
      "20:\tlearn: 0.4144576\ttotal: 642ms\tremaining: 29.9s\n",
      "21:\tlearn: 0.4123079\ttotal: 662ms\tremaining: 29.4s\n",
      "22:\tlearn: 0.4104841\ttotal: 685ms\tremaining: 29.1s\n",
      "23:\tlearn: 0.4089984\ttotal: 701ms\tremaining: 28.5s\n",
      "24:\tlearn: 0.4076508\ttotal: 718ms\tremaining: 28s\n",
      "25:\tlearn: 0.4064396\ttotal: 733ms\tremaining: 27.5s\n",
      "26:\tlearn: 0.4054275\ttotal: 748ms\tremaining: 27s\n",
      "27:\tlearn: 0.4045507\ttotal: 763ms\tremaining: 26.5s\n",
      "28:\tlearn: 0.4037837\ttotal: 778ms\tremaining: 26.1s\n",
      "29:\tlearn: 0.4030764\ttotal: 793ms\tremaining: 25.7s\n",
      "30:\tlearn: 0.4025060\ttotal: 814ms\tremaining: 25.4s\n",
      "31:\tlearn: 0.4019850\ttotal: 832ms\tremaining: 25.2s\n",
      "32:\tlearn: 0.4015309\ttotal: 853ms\tremaining: 25s\n",
      "33:\tlearn: 0.4011297\ttotal: 883ms\tremaining: 25.1s\n",
      "34:\tlearn: 0.4007671\ttotal: 907ms\tremaining: 25s\n",
      "35:\tlearn: 0.4004610\ttotal: 937ms\tremaining: 25.1s\n",
      "36:\tlearn: 0.4002023\ttotal: 965ms\tremaining: 25.1s\n",
      "37:\tlearn: 0.3999489\ttotal: 986ms\tremaining: 25s\n",
      "38:\tlearn: 0.3996774\ttotal: 1s\tremaining: 24.8s\n",
      "39:\tlearn: 0.3994505\ttotal: 1.03s\tremaining: 24.7s\n",
      "40:\tlearn: 0.3992732\ttotal: 1.09s\tremaining: 25.4s\n",
      "41:\tlearn: 0.3991188\ttotal: 1.2s\tremaining: 27.4s\n",
      "42:\tlearn: 0.3989814\ttotal: 1.25s\tremaining: 27.9s\n",
      "43:\tlearn: 0.3988240\ttotal: 1.3s\tremaining: 28.3s\n",
      "44:\tlearn: 0.3987062\ttotal: 1.35s\tremaining: 28.7s\n",
      "45:\tlearn: 0.3985890\ttotal: 1.39s\tremaining: 28.9s\n",
      "46:\tlearn: 0.3984828\ttotal: 1.48s\tremaining: 30.1s\n",
      "47:\tlearn: 0.3983660\ttotal: 1.53s\tremaining: 30.4s\n",
      "48:\tlearn: 0.3982354\ttotal: 1.61s\tremaining: 31.3s\n",
      "49:\tlearn: 0.3981117\ttotal: 1.68s\tremaining: 31.9s\n",
      "50:\tlearn: 0.3980120\ttotal: 1.73s\tremaining: 32.3s\n",
      "51:\tlearn: 0.3979258\ttotal: 1.78s\tremaining: 32.5s\n",
      "52:\tlearn: 0.3978606\ttotal: 1.84s\tremaining: 33s\n",
      "53:\tlearn: 0.3977661\ttotal: 1.9s\tremaining: 33.3s\n",
      "54:\tlearn: 0.3976863\ttotal: 1.95s\tremaining: 33.5s\n",
      "55:\tlearn: 0.3976327\ttotal: 2s\tremaining: 33.7s\n",
      "56:\tlearn: 0.3975092\ttotal: 2.06s\tremaining: 34.2s\n",
      "57:\tlearn: 0.3973927\ttotal: 2.14s\tremaining: 34.7s\n",
      "58:\tlearn: 0.3973226\ttotal: 2.21s\tremaining: 35.3s\n",
      "59:\tlearn: 0.3972594\ttotal: 2.3s\tremaining: 36s\n",
      "60:\tlearn: 0.3971762\ttotal: 2.36s\tremaining: 36.4s\n",
      "61:\tlearn: 0.3971308\ttotal: 2.44s\tremaining: 37s\n",
      "62:\tlearn: 0.3971085\ttotal: 2.49s\tremaining: 37s\n",
      "63:\tlearn: 0.3970227\ttotal: 2.53s\tremaining: 36.9s\n",
      "64:\tlearn: 0.3969498\ttotal: 2.55s\tremaining: 36.7s\n",
      "65:\tlearn: 0.3968700\ttotal: 2.57s\tremaining: 36.4s\n",
      "66:\tlearn: 0.3968254\ttotal: 2.59s\tremaining: 36.1s\n",
      "67:\tlearn: 0.3967767\ttotal: 2.61s\tremaining: 35.8s\n",
      "68:\tlearn: 0.3967100\ttotal: 2.63s\tremaining: 35.4s\n",
      "69:\tlearn: 0.3966776\ttotal: 2.64s\tremaining: 35.1s\n",
      "70:\tlearn: 0.3966378\ttotal: 2.65s\tremaining: 34.7s\n",
      "71:\tlearn: 0.3965820\ttotal: 2.67s\tremaining: 34.4s\n",
      "72:\tlearn: 0.3965362\ttotal: 2.69s\tremaining: 34.2s\n",
      "73:\tlearn: 0.3965005\ttotal: 2.72s\tremaining: 34s\n",
      "74:\tlearn: 0.3964460\ttotal: 2.75s\tremaining: 33.9s\n",
      "75:\tlearn: 0.3964127\ttotal: 2.77s\tremaining: 33.7s\n",
      "76:\tlearn: 0.3963745\ttotal: 2.79s\tremaining: 33.5s\n",
      "77:\tlearn: 0.3963426\ttotal: 2.81s\tremaining: 33.2s\n",
      "78:\tlearn: 0.3962837\ttotal: 2.83s\tremaining: 33s\n",
      "79:\tlearn: 0.3962530\ttotal: 2.85s\tremaining: 32.8s\n",
      "80:\tlearn: 0.3962057\ttotal: 2.88s\tremaining: 32.7s\n",
      "81:\tlearn: 0.3961730\ttotal: 2.9s\tremaining: 32.5s\n",
      "82:\tlearn: 0.3961281\ttotal: 2.92s\tremaining: 32.3s\n",
      "83:\tlearn: 0.3960684\ttotal: 2.94s\tremaining: 32.1s\n",
      "84:\tlearn: 0.3960357\ttotal: 2.96s\tremaining: 31.9s\n",
      "85:\tlearn: 0.3959947\ttotal: 2.98s\tremaining: 31.7s\n",
      "86:\tlearn: 0.3959505\ttotal: 3.01s\tremaining: 31.6s\n",
      "87:\tlearn: 0.3959249\ttotal: 3.03s\tremaining: 31.4s\n",
      "88:\tlearn: 0.3958667\ttotal: 3.05s\tremaining: 31.2s\n",
      "89:\tlearn: 0.3958421\ttotal: 3.06s\tremaining: 31s\n",
      "90:\tlearn: 0.3957986\ttotal: 3.08s\tremaining: 30.8s\n",
      "91:\tlearn: 0.3957729\ttotal: 3.1s\tremaining: 30.6s\n",
      "92:\tlearn: 0.3957222\ttotal: 3.12s\tremaining: 30.4s\n",
      "93:\tlearn: 0.3957142\ttotal: 3.13s\tremaining: 30.2s\n",
      "94:\tlearn: 0.3956911\ttotal: 3.15s\tremaining: 30s\n",
      "95:\tlearn: 0.3956116\ttotal: 3.17s\tremaining: 29.9s\n",
      "96:\tlearn: 0.3955667\ttotal: 3.2s\tremaining: 29.8s\n",
      "97:\tlearn: 0.3955321\ttotal: 3.23s\tremaining: 29.7s\n",
      "98:\tlearn: 0.3954905\ttotal: 3.26s\tremaining: 29.7s\n",
      "99:\tlearn: 0.3954525\ttotal: 3.29s\tremaining: 29.6s\n",
      "100:\tlearn: 0.3954084\ttotal: 3.32s\tremaining: 29.6s\n",
      "101:\tlearn: 0.3953888\ttotal: 3.35s\tremaining: 29.5s\n",
      "102:\tlearn: 0.3953584\ttotal: 3.37s\tremaining: 29.4s\n",
      "103:\tlearn: 0.3953129\ttotal: 3.39s\tremaining: 29.2s\n",
      "104:\tlearn: 0.3952774\ttotal: 3.41s\tremaining: 29.1s\n",
      "105:\tlearn: 0.3952558\ttotal: 3.44s\tremaining: 29s\n",
      "106:\tlearn: 0.3952031\ttotal: 3.45s\tremaining: 28.8s\n",
      "107:\tlearn: 0.3951564\ttotal: 3.47s\tremaining: 28.6s\n",
      "108:\tlearn: 0.3950834\ttotal: 3.48s\tremaining: 28.5s\n",
      "109:\tlearn: 0.3950404\ttotal: 3.5s\tremaining: 28.3s\n",
      "110:\tlearn: 0.3950042\ttotal: 3.52s\tremaining: 28.2s\n",
      "111:\tlearn: 0.3949730\ttotal: 3.54s\tremaining: 28s\n",
      "112:\tlearn: 0.3949462\ttotal: 3.56s\tremaining: 27.9s\n",
      "113:\tlearn: 0.3949263\ttotal: 3.58s\tremaining: 27.8s\n",
      "114:\tlearn: 0.3949032\ttotal: 3.6s\tremaining: 27.7s\n",
      "115:\tlearn: 0.3948743\ttotal: 3.62s\tremaining: 27.6s\n",
      "116:\tlearn: 0.3948511\ttotal: 3.64s\tremaining: 27.5s\n",
      "117:\tlearn: 0.3947868\ttotal: 3.68s\tremaining: 27.5s\n",
      "118:\tlearn: 0.3947472\ttotal: 3.7s\tremaining: 27.4s\n",
      "119:\tlearn: 0.3947033\ttotal: 3.72s\tremaining: 27.3s\n",
      "120:\tlearn: 0.3946748\ttotal: 3.74s\tremaining: 27.2s\n",
      "121:\tlearn: 0.3946287\ttotal: 3.77s\tremaining: 27.1s\n",
      "122:\tlearn: 0.3945928\ttotal: 3.8s\tremaining: 27.1s\n",
      "123:\tlearn: 0.3945719\ttotal: 3.84s\tremaining: 27.2s\n",
      "124:\tlearn: 0.3945213\ttotal: 3.86s\tremaining: 27.1s\n",
      "125:\tlearn: 0.3945007\ttotal: 3.88s\tremaining: 26.9s\n",
      "126:\tlearn: 0.3944724\ttotal: 3.9s\tremaining: 26.8s\n",
      "127:\tlearn: 0.3944508\ttotal: 3.91s\tremaining: 26.7s\n",
      "128:\tlearn: 0.3944178\ttotal: 3.93s\tremaining: 26.5s\n",
      "129:\tlearn: 0.3943834\ttotal: 3.95s\tremaining: 26.4s\n",
      "130:\tlearn: 0.3943541\ttotal: 3.97s\tremaining: 26.3s\n",
      "131:\tlearn: 0.3943310\ttotal: 3.99s\tremaining: 26.2s\n",
      "132:\tlearn: 0.3943096\ttotal: 4.01s\tremaining: 26.1s\n",
      "133:\tlearn: 0.3942887\ttotal: 4.03s\tremaining: 26s\n",
      "134:\tlearn: 0.3942605\ttotal: 4.05s\tremaining: 25.9s\n",
      "135:\tlearn: 0.3942231\ttotal: 4.06s\tremaining: 25.8s\n",
      "136:\tlearn: 0.3942055\ttotal: 4.08s\tremaining: 25.7s\n",
      "137:\tlearn: 0.3941750\ttotal: 4.1s\tremaining: 25.6s\n",
      "138:\tlearn: 0.3941461\ttotal: 4.11s\tremaining: 25.5s\n",
      "139:\tlearn: 0.3941172\ttotal: 4.13s\tremaining: 25.4s\n",
      "140:\tlearn: 0.3940900\ttotal: 4.15s\tremaining: 25.3s\n",
      "141:\tlearn: 0.3940634\ttotal: 4.17s\tremaining: 25.2s\n",
      "142:\tlearn: 0.3940243\ttotal: 4.19s\tremaining: 25.1s\n",
      "143:\tlearn: 0.3939980\ttotal: 4.21s\tremaining: 25s\n",
      "144:\tlearn: 0.3939724\ttotal: 4.24s\tremaining: 25s\n",
      "145:\tlearn: 0.3939460\ttotal: 4.26s\tremaining: 24.9s\n",
      "146:\tlearn: 0.3939110\ttotal: 4.28s\tremaining: 24.9s\n",
      "147:\tlearn: 0.3938533\ttotal: 4.31s\tremaining: 24.8s\n",
      "148:\tlearn: 0.3938345\ttotal: 4.33s\tremaining: 24.7s\n",
      "149:\tlearn: 0.3938215\ttotal: 4.36s\tremaining: 24.7s\n",
      "150:\tlearn: 0.3937910\ttotal: 4.38s\tremaining: 24.7s\n",
      "151:\tlearn: 0.3937737\ttotal: 4.4s\tremaining: 24.6s\n",
      "152:\tlearn: 0.3937356\ttotal: 4.43s\tremaining: 24.5s\n",
      "153:\tlearn: 0.3937094\ttotal: 4.45s\tremaining: 24.4s\n",
      "154:\tlearn: 0.3936715\ttotal: 4.46s\tremaining: 24.3s\n",
      "155:\tlearn: 0.3936556\ttotal: 4.48s\tremaining: 24.3s\n",
      "156:\tlearn: 0.3936254\ttotal: 4.5s\tremaining: 24.2s\n",
      "157:\tlearn: 0.3935855\ttotal: 4.53s\tremaining: 24.1s\n",
      "158:\tlearn: 0.3935578\ttotal: 4.55s\tremaining: 24.1s\n",
      "159:\tlearn: 0.3935303\ttotal: 4.58s\tremaining: 24.1s\n",
      "160:\tlearn: 0.3935056\ttotal: 4.61s\tremaining: 24s\n",
      "161:\tlearn: 0.3934791\ttotal: 4.63s\tremaining: 24s\n",
      "162:\tlearn: 0.3934552\ttotal: 4.66s\tremaining: 23.9s\n",
      "163:\tlearn: 0.3934326\ttotal: 4.68s\tremaining: 23.9s\n",
      "164:\tlearn: 0.3934021\ttotal: 4.71s\tremaining: 23.8s\n",
      "165:\tlearn: 0.3933621\ttotal: 4.72s\tremaining: 23.7s\n",
      "166:\tlearn: 0.3933302\ttotal: 4.74s\tremaining: 23.6s\n",
      "167:\tlearn: 0.3932836\ttotal: 4.76s\tremaining: 23.6s\n"
     ]
    },
    {
     "name": "stdout",
     "output_type": "stream",
     "text": [
      "168:\tlearn: 0.3932523\ttotal: 4.78s\tremaining: 23.5s\n",
      "169:\tlearn: 0.3932187\ttotal: 4.81s\tremaining: 23.5s\n",
      "170:\tlearn: 0.3931796\ttotal: 4.83s\tremaining: 23.4s\n",
      "171:\tlearn: 0.3931382\ttotal: 4.88s\tremaining: 23.5s\n",
      "172:\tlearn: 0.3930983\ttotal: 4.9s\tremaining: 23.4s\n",
      "173:\tlearn: 0.3930699\ttotal: 4.92s\tremaining: 23.4s\n",
      "174:\tlearn: 0.3930503\ttotal: 4.94s\tremaining: 23.3s\n",
      "175:\tlearn: 0.3930090\ttotal: 4.95s\tremaining: 23.2s\n",
      "176:\tlearn: 0.3929729\ttotal: 4.97s\tremaining: 23.1s\n",
      "177:\tlearn: 0.3929451\ttotal: 4.99s\tremaining: 23s\n",
      "178:\tlearn: 0.3929153\ttotal: 5.01s\tremaining: 23s\n",
      "179:\tlearn: 0.3928926\ttotal: 5.03s\tremaining: 22.9s\n",
      "180:\tlearn: 0.3928723\ttotal: 5.04s\tremaining: 22.8s\n",
      "181:\tlearn: 0.3928304\ttotal: 5.06s\tremaining: 22.8s\n",
      "182:\tlearn: 0.3927698\ttotal: 5.08s\tremaining: 22.7s\n",
      "183:\tlearn: 0.3927493\ttotal: 5.09s\tremaining: 22.6s\n",
      "184:\tlearn: 0.3926948\ttotal: 5.11s\tremaining: 22.5s\n",
      "185:\tlearn: 0.3926659\ttotal: 5.12s\tremaining: 22.4s\n",
      "186:\tlearn: 0.3926339\ttotal: 5.14s\tremaining: 22.3s\n",
      "187:\tlearn: 0.3926132\ttotal: 5.15s\tremaining: 22.3s\n",
      "188:\tlearn: 0.3925896\ttotal: 5.17s\tremaining: 22.2s\n",
      "189:\tlearn: 0.3925678\ttotal: 5.19s\tremaining: 22.1s\n",
      "190:\tlearn: 0.3925380\ttotal: 5.21s\tremaining: 22.1s\n",
      "191:\tlearn: 0.3925246\ttotal: 5.23s\tremaining: 22s\n",
      "192:\tlearn: 0.3924891\ttotal: 5.25s\tremaining: 21.9s\n",
      "193:\tlearn: 0.3924651\ttotal: 5.26s\tremaining: 21.9s\n",
      "194:\tlearn: 0.3924490\ttotal: 5.28s\tremaining: 21.8s\n",
      "195:\tlearn: 0.3924185\ttotal: 5.3s\tremaining: 21.7s\n",
      "196:\tlearn: 0.3923878\ttotal: 5.31s\tremaining: 21.7s\n",
      "197:\tlearn: 0.3923566\ttotal: 5.34s\tremaining: 21.6s\n",
      "198:\tlearn: 0.3923212\ttotal: 5.36s\tremaining: 21.6s\n",
      "199:\tlearn: 0.3923010\ttotal: 5.38s\tremaining: 21.5s\n",
      "200:\tlearn: 0.3922777\ttotal: 5.41s\tremaining: 21.5s\n",
      "201:\tlearn: 0.3922619\ttotal: 5.43s\tremaining: 21.5s\n",
      "202:\tlearn: 0.3922181\ttotal: 5.46s\tremaining: 21.4s\n",
      "203:\tlearn: 0.3922011\ttotal: 5.48s\tremaining: 21.4s\n",
      "204:\tlearn: 0.3921831\ttotal: 5.5s\tremaining: 21.3s\n",
      "205:\tlearn: 0.3921651\ttotal: 5.53s\tremaining: 21.3s\n",
      "206:\tlearn: 0.3921468\ttotal: 5.54s\tremaining: 21.2s\n",
      "207:\tlearn: 0.3921150\ttotal: 5.56s\tremaining: 21.2s\n",
      "208:\tlearn: 0.3920884\ttotal: 5.58s\tremaining: 21.1s\n",
      "209:\tlearn: 0.3920701\ttotal: 5.59s\tremaining: 21s\n",
      "210:\tlearn: 0.3920368\ttotal: 5.61s\tremaining: 21s\n",
      "211:\tlearn: 0.3920042\ttotal: 5.63s\tremaining: 20.9s\n",
      "212:\tlearn: 0.3919752\ttotal: 5.65s\tremaining: 20.9s\n",
      "213:\tlearn: 0.3919588\ttotal: 5.67s\tremaining: 20.8s\n",
      "214:\tlearn: 0.3919391\ttotal: 5.69s\tremaining: 20.8s\n",
      "215:\tlearn: 0.3919229\ttotal: 5.7s\tremaining: 20.7s\n",
      "216:\tlearn: 0.3919046\ttotal: 5.72s\tremaining: 20.6s\n",
      "217:\tlearn: 0.3918924\ttotal: 5.73s\tremaining: 20.6s\n",
      "218:\tlearn: 0.3918691\ttotal: 5.75s\tremaining: 20.5s\n",
      "219:\tlearn: 0.3918550\ttotal: 5.76s\tremaining: 20.4s\n",
      "220:\tlearn: 0.3918314\ttotal: 5.78s\tremaining: 20.4s\n",
      "221:\tlearn: 0.3917970\ttotal: 5.8s\tremaining: 20.3s\n",
      "222:\tlearn: 0.3917787\ttotal: 5.81s\tremaining: 20.3s\n",
      "223:\tlearn: 0.3917627\ttotal: 5.83s\tremaining: 20.2s\n",
      "224:\tlearn: 0.3917344\ttotal: 5.86s\tremaining: 20.2s\n",
      "225:\tlearn: 0.3917080\ttotal: 5.89s\tremaining: 20.2s\n",
      "226:\tlearn: 0.3916925\ttotal: 5.91s\tremaining: 20.1s\n",
      "227:\tlearn: 0.3916679\ttotal: 5.92s\tremaining: 20.1s\n",
      "228:\tlearn: 0.3916463\ttotal: 5.94s\tremaining: 20s\n",
      "229:\tlearn: 0.3916261\ttotal: 5.95s\tremaining: 19.9s\n",
      "230:\tlearn: 0.3916012\ttotal: 5.97s\tremaining: 19.9s\n",
      "231:\tlearn: 0.3915689\ttotal: 5.99s\tremaining: 19.8s\n",
      "232:\tlearn: 0.3915513\ttotal: 6s\tremaining: 19.8s\n",
      "233:\tlearn: 0.3915222\ttotal: 6.02s\tremaining: 19.7s\n",
      "234:\tlearn: 0.3914889\ttotal: 6.04s\tremaining: 19.7s\n",
      "235:\tlearn: 0.3914729\ttotal: 6.06s\tremaining: 19.6s\n",
      "236:\tlearn: 0.3914497\ttotal: 6.08s\tremaining: 19.6s\n",
      "237:\tlearn: 0.3914246\ttotal: 6.09s\tremaining: 19.5s\n",
      "238:\tlearn: 0.3913988\ttotal: 6.11s\tremaining: 19.5s\n",
      "239:\tlearn: 0.3913719\ttotal: 6.13s\tremaining: 19.4s\n",
      "240:\tlearn: 0.3913631\ttotal: 6.14s\tremaining: 19.3s\n",
      "241:\tlearn: 0.3913344\ttotal: 6.16s\tremaining: 19.3s\n",
      "242:\tlearn: 0.3913068\ttotal: 6.17s\tremaining: 19.2s\n",
      "243:\tlearn: 0.3912893\ttotal: 6.19s\tremaining: 19.2s\n",
      "244:\tlearn: 0.3912601\ttotal: 6.2s\tremaining: 19.1s\n",
      "245:\tlearn: 0.3912381\ttotal: 6.22s\tremaining: 19.1s\n",
      "246:\tlearn: 0.3912110\ttotal: 6.24s\tremaining: 19s\n",
      "247:\tlearn: 0.3911945\ttotal: 6.26s\tremaining: 19s\n",
      "248:\tlearn: 0.3911765\ttotal: 6.28s\tremaining: 18.9s\n",
      "249:\tlearn: 0.3911573\ttotal: 6.29s\tremaining: 18.9s\n",
      "250:\tlearn: 0.3911254\ttotal: 6.31s\tremaining: 18.8s\n",
      "251:\tlearn: 0.3910987\ttotal: 6.33s\tremaining: 18.8s\n",
      "252:\tlearn: 0.3910670\ttotal: 6.34s\tremaining: 18.7s\n",
      "253:\tlearn: 0.3910539\ttotal: 6.36s\tremaining: 18.7s\n",
      "254:\tlearn: 0.3910310\ttotal: 6.37s\tremaining: 18.6s\n",
      "255:\tlearn: 0.3910156\ttotal: 6.39s\tremaining: 18.6s\n",
      "256:\tlearn: 0.3909927\ttotal: 6.41s\tremaining: 18.5s\n",
      "257:\tlearn: 0.3909765\ttotal: 6.45s\tremaining: 18.5s\n",
      "258:\tlearn: 0.3909540\ttotal: 6.47s\tremaining: 18.5s\n",
      "259:\tlearn: 0.3909330\ttotal: 6.49s\tremaining: 18.5s\n",
      "260:\tlearn: 0.3909079\ttotal: 6.51s\tremaining: 18.4s\n",
      "261:\tlearn: 0.3908958\ttotal: 6.52s\tremaining: 18.4s\n",
      "262:\tlearn: 0.3908752\ttotal: 6.54s\tremaining: 18.3s\n",
      "263:\tlearn: 0.3908618\ttotal: 6.55s\tremaining: 18.3s\n",
      "264:\tlearn: 0.3908517\ttotal: 6.56s\tremaining: 18.2s\n",
      "265:\tlearn: 0.3908268\ttotal: 6.58s\tremaining: 18.2s\n",
      "266:\tlearn: 0.3908146\ttotal: 6.59s\tremaining: 18.1s\n",
      "267:\tlearn: 0.3907991\ttotal: 6.61s\tremaining: 18.1s\n",
      "268:\tlearn: 0.3907752\ttotal: 6.63s\tremaining: 18s\n",
      "269:\tlearn: 0.3907617\ttotal: 6.65s\tremaining: 18s\n",
      "270:\tlearn: 0.3907374\ttotal: 6.67s\tremaining: 17.9s\n",
      "271:\tlearn: 0.3907169\ttotal: 6.69s\tremaining: 17.9s\n",
      "272:\tlearn: 0.3907071\ttotal: 6.71s\tremaining: 17.9s\n",
      "273:\tlearn: 0.3906840\ttotal: 6.73s\tremaining: 17.8s\n",
      "274:\tlearn: 0.3906493\ttotal: 6.75s\tremaining: 17.8s\n",
      "275:\tlearn: 0.3906187\ttotal: 6.77s\tremaining: 17.7s\n",
      "276:\tlearn: 0.3906051\ttotal: 6.78s\tremaining: 17.7s\n",
      "277:\tlearn: 0.3905891\ttotal: 6.8s\tremaining: 17.7s\n",
      "278:\tlearn: 0.3905693\ttotal: 6.81s\tremaining: 17.6s\n",
      "279:\tlearn: 0.3905396\ttotal: 6.83s\tremaining: 17.6s\n",
      "280:\tlearn: 0.3905173\ttotal: 6.84s\tremaining: 17.5s\n",
      "281:\tlearn: 0.3905079\ttotal: 6.86s\tremaining: 17.5s\n",
      "282:\tlearn: 0.3904844\ttotal: 6.9s\tremaining: 17.5s\n",
      "283:\tlearn: 0.3904748\ttotal: 6.93s\tremaining: 17.5s\n",
      "284:\tlearn: 0.3904557\ttotal: 6.96s\tremaining: 17.5s\n",
      "285:\tlearn: 0.3904445\ttotal: 6.98s\tremaining: 17.4s\n",
      "286:\tlearn: 0.3904257\ttotal: 7s\tremaining: 17.4s\n",
      "287:\tlearn: 0.3904129\ttotal: 7.01s\tremaining: 17.3s\n",
      "288:\tlearn: 0.3903943\ttotal: 7.03s\tremaining: 17.3s\n",
      "289:\tlearn: 0.3903831\ttotal: 7.05s\tremaining: 17.3s\n",
      "290:\tlearn: 0.3903642\ttotal: 7.07s\tremaining: 17.2s\n",
      "291:\tlearn: 0.3903385\ttotal: 7.08s\tremaining: 17.2s\n",
      "292:\tlearn: 0.3903280\ttotal: 7.11s\tremaining: 17.1s\n",
      "293:\tlearn: 0.3903116\ttotal: 7.13s\tremaining: 17.1s\n",
      "294:\tlearn: 0.3902869\ttotal: 7.15s\tremaining: 17.1s\n",
      "295:\tlearn: 0.3902658\ttotal: 7.16s\tremaining: 17s\n",
      "296:\tlearn: 0.3902440\ttotal: 7.18s\tremaining: 17s\n",
      "297:\tlearn: 0.3902225\ttotal: 7.19s\tremaining: 16.9s\n",
      "298:\tlearn: 0.3901876\ttotal: 7.21s\tremaining: 16.9s\n",
      "299:\tlearn: 0.3901733\ttotal: 7.22s\tremaining: 16.9s\n",
      "300:\tlearn: 0.3901601\ttotal: 7.24s\tremaining: 16.8s\n",
      "301:\tlearn: 0.3901440\ttotal: 7.26s\tremaining: 16.8s\n",
      "302:\tlearn: 0.3901249\ttotal: 7.28s\tremaining: 16.7s\n",
      "303:\tlearn: 0.3900996\ttotal: 7.29s\tremaining: 16.7s\n",
      "304:\tlearn: 0.3900851\ttotal: 7.32s\tremaining: 16.7s\n",
      "305:\tlearn: 0.3900629\ttotal: 7.33s\tremaining: 16.6s\n",
      "306:\tlearn: 0.3900316\ttotal: 7.36s\tremaining: 16.6s\n",
      "307:\tlearn: 0.3900103\ttotal: 7.38s\tremaining: 16.6s\n",
      "308:\tlearn: 0.3899980\ttotal: 7.4s\tremaining: 16.5s\n",
      "309:\tlearn: 0.3899802\ttotal: 7.42s\tremaining: 16.5s\n",
      "310:\tlearn: 0.3899621\ttotal: 7.47s\tremaining: 16.5s\n",
      "311:\tlearn: 0.3899434\ttotal: 7.53s\tremaining: 16.6s\n",
      "312:\tlearn: 0.3899101\ttotal: 7.59s\tremaining: 16.7s\n",
      "313:\tlearn: 0.3898921\ttotal: 7.64s\tremaining: 16.7s\n",
      "314:\tlearn: 0.3898795\ttotal: 7.68s\tremaining: 16.7s\n",
      "315:\tlearn: 0.3898635\ttotal: 7.72s\tremaining: 16.7s\n",
      "316:\tlearn: 0.3898456\ttotal: 7.76s\tremaining: 16.7s\n",
      "317:\tlearn: 0.3898320\ttotal: 7.81s\tremaining: 16.7s\n",
      "318:\tlearn: 0.3898138\ttotal: 7.84s\tremaining: 16.7s\n",
      "319:\tlearn: 0.3897917\ttotal: 7.89s\tremaining: 16.8s\n",
      "320:\tlearn: 0.3897780\ttotal: 7.94s\tremaining: 16.8s\n",
      "321:\tlearn: 0.3897537\ttotal: 7.99s\tremaining: 16.8s\n",
      "322:\tlearn: 0.3897398\ttotal: 8.03s\tremaining: 16.8s\n",
      "323:\tlearn: 0.3897248\ttotal: 8.05s\tremaining: 16.8s\n",
      "324:\tlearn: 0.3897097\ttotal: 8.07s\tremaining: 16.8s\n",
      "325:\tlearn: 0.3896920\ttotal: 8.09s\tremaining: 16.7s\n",
      "326:\tlearn: 0.3896741\ttotal: 8.1s\tremaining: 16.7s\n",
      "327:\tlearn: 0.3896628\ttotal: 8.12s\tremaining: 16.6s\n",
      "328:\tlearn: 0.3896473\ttotal: 8.14s\tremaining: 16.6s\n"
     ]
    },
    {
     "name": "stdout",
     "output_type": "stream",
     "text": [
      "329:\tlearn: 0.3896356\ttotal: 8.16s\tremaining: 16.6s\n",
      "330:\tlearn: 0.3896167\ttotal: 8.18s\tremaining: 16.5s\n",
      "331:\tlearn: 0.3895981\ttotal: 8.2s\tremaining: 16.5s\n",
      "332:\tlearn: 0.3895825\ttotal: 8.22s\tremaining: 16.5s\n",
      "333:\tlearn: 0.3895701\ttotal: 8.23s\tremaining: 16.4s\n",
      "334:\tlearn: 0.3895490\ttotal: 8.25s\tremaining: 16.4s\n",
      "335:\tlearn: 0.3895196\ttotal: 8.26s\tremaining: 16.3s\n",
      "336:\tlearn: 0.3895010\ttotal: 8.28s\tremaining: 16.3s\n",
      "337:\tlearn: 0.3894872\ttotal: 8.29s\tremaining: 16.2s\n",
      "338:\tlearn: 0.3894695\ttotal: 8.31s\tremaining: 16.2s\n",
      "339:\tlearn: 0.3894546\ttotal: 8.32s\tremaining: 16.2s\n",
      "340:\tlearn: 0.3894313\ttotal: 8.34s\tremaining: 16.1s\n",
      "341:\tlearn: 0.3894180\ttotal: 8.36s\tremaining: 16.1s\n",
      "342:\tlearn: 0.3894021\ttotal: 8.38s\tremaining: 16s\n",
      "343:\tlearn: 0.3893832\ttotal: 8.39s\tremaining: 16s\n",
      "344:\tlearn: 0.3893664\ttotal: 8.41s\tremaining: 16s\n",
      "345:\tlearn: 0.3893431\ttotal: 8.43s\tremaining: 15.9s\n",
      "346:\tlearn: 0.3893271\ttotal: 8.45s\tremaining: 15.9s\n",
      "347:\tlearn: 0.3893091\ttotal: 8.46s\tremaining: 15.9s\n",
      "348:\tlearn: 0.3892899\ttotal: 8.48s\tremaining: 15.8s\n",
      "349:\tlearn: 0.3892698\ttotal: 8.49s\tremaining: 15.8s\n",
      "350:\tlearn: 0.3892587\ttotal: 8.51s\tremaining: 15.7s\n",
      "351:\tlearn: 0.3892347\ttotal: 8.53s\tremaining: 15.7s\n",
      "352:\tlearn: 0.3892056\ttotal: 8.55s\tremaining: 15.7s\n",
      "353:\tlearn: 0.3891883\ttotal: 8.57s\tremaining: 15.6s\n",
      "354:\tlearn: 0.3891668\ttotal: 8.6s\tremaining: 15.6s\n",
      "355:\tlearn: 0.3891450\ttotal: 8.62s\tremaining: 15.6s\n",
      "356:\tlearn: 0.3891356\ttotal: 8.64s\tremaining: 15.6s\n",
      "357:\tlearn: 0.3891124\ttotal: 8.66s\tremaining: 15.5s\n",
      "358:\tlearn: 0.3890927\ttotal: 8.67s\tremaining: 15.5s\n",
      "359:\tlearn: 0.3890807\ttotal: 8.69s\tremaining: 15.4s\n",
      "360:\tlearn: 0.3890638\ttotal: 8.7s\tremaining: 15.4s\n",
      "361:\tlearn: 0.3890417\ttotal: 8.72s\tremaining: 15.4s\n",
      "362:\tlearn: 0.3890126\ttotal: 8.73s\tremaining: 15.3s\n",
      "363:\tlearn: 0.3889889\ttotal: 8.75s\tremaining: 15.3s\n",
      "364:\tlearn: 0.3889750\ttotal: 8.76s\tremaining: 15.2s\n",
      "365:\tlearn: 0.3889644\ttotal: 8.78s\tremaining: 15.2s\n",
      "366:\tlearn: 0.3889380\ttotal: 8.79s\tremaining: 15.2s\n",
      "367:\tlearn: 0.3889287\ttotal: 8.81s\tremaining: 15.1s\n",
      "368:\tlearn: 0.3889170\ttotal: 8.83s\tremaining: 15.1s\n",
      "369:\tlearn: 0.3888995\ttotal: 8.85s\tremaining: 15.1s\n",
      "370:\tlearn: 0.3888930\ttotal: 8.87s\tremaining: 15s\n",
      "371:\tlearn: 0.3888742\ttotal: 8.89s\tremaining: 15s\n",
      "372:\tlearn: 0.3888613\ttotal: 8.9s\tremaining: 15s\n",
      "373:\tlearn: 0.3888498\ttotal: 8.92s\tremaining: 14.9s\n",
      "374:\tlearn: 0.3888192\ttotal: 8.94s\tremaining: 14.9s\n",
      "375:\tlearn: 0.3888023\ttotal: 8.95s\tremaining: 14.9s\n",
      "376:\tlearn: 0.3887821\ttotal: 8.97s\tremaining: 14.8s\n",
      "377:\tlearn: 0.3887713\ttotal: 8.98s\tremaining: 14.8s\n",
      "378:\tlearn: 0.3887560\ttotal: 9s\tremaining: 14.7s\n",
      "379:\tlearn: 0.3887318\ttotal: 9.02s\tremaining: 14.7s\n",
      "380:\tlearn: 0.3887230\ttotal: 9.04s\tremaining: 14.7s\n",
      "381:\tlearn: 0.3887008\ttotal: 9.06s\tremaining: 14.7s\n",
      "382:\tlearn: 0.3886791\ttotal: 9.09s\tremaining: 14.6s\n",
      "383:\tlearn: 0.3886630\ttotal: 9.11s\tremaining: 14.6s\n",
      "384:\tlearn: 0.3886491\ttotal: 9.12s\tremaining: 14.6s\n",
      "385:\tlearn: 0.3886212\ttotal: 9.14s\tremaining: 14.5s\n",
      "386:\tlearn: 0.3886033\ttotal: 9.15s\tremaining: 14.5s\n",
      "387:\tlearn: 0.3885918\ttotal: 9.17s\tremaining: 14.5s\n",
      "388:\tlearn: 0.3885719\ttotal: 9.18s\tremaining: 14.4s\n",
      "389:\tlearn: 0.3885528\ttotal: 9.2s\tremaining: 14.4s\n",
      "390:\tlearn: 0.3885345\ttotal: 9.21s\tremaining: 14.3s\n",
      "391:\tlearn: 0.3885159\ttotal: 9.23s\tremaining: 14.3s\n",
      "392:\tlearn: 0.3885017\ttotal: 9.25s\tremaining: 14.3s\n",
      "393:\tlearn: 0.3884921\ttotal: 9.27s\tremaining: 14.3s\n",
      "394:\tlearn: 0.3884776\ttotal: 9.28s\tremaining: 14.2s\n",
      "395:\tlearn: 0.3884646\ttotal: 9.3s\tremaining: 14.2s\n",
      "396:\tlearn: 0.3884507\ttotal: 9.31s\tremaining: 14.1s\n",
      "397:\tlearn: 0.3884359\ttotal: 9.33s\tremaining: 14.1s\n",
      "398:\tlearn: 0.3884121\ttotal: 9.34s\tremaining: 14.1s\n",
      "399:\tlearn: 0.3883954\ttotal: 9.36s\tremaining: 14s\n",
      "400:\tlearn: 0.3883840\ttotal: 9.38s\tremaining: 14s\n",
      "401:\tlearn: 0.3883593\ttotal: 9.39s\tremaining: 14s\n",
      "402:\tlearn: 0.3883448\ttotal: 9.4s\tremaining: 13.9s\n",
      "403:\tlearn: 0.3883174\ttotal: 9.42s\tremaining: 13.9s\n",
      "404:\tlearn: 0.3882988\ttotal: 9.44s\tremaining: 13.9s\n",
      "405:\tlearn: 0.3882885\ttotal: 9.46s\tremaining: 13.8s\n",
      "406:\tlearn: 0.3882814\ttotal: 9.48s\tremaining: 13.8s\n",
      "407:\tlearn: 0.3882687\ttotal: 9.5s\tremaining: 13.8s\n",
      "408:\tlearn: 0.3882484\ttotal: 9.51s\tremaining: 13.7s\n",
      "409:\tlearn: 0.3882254\ttotal: 9.53s\tremaining: 13.7s\n",
      "410:\tlearn: 0.3882045\ttotal: 9.54s\tremaining: 13.7s\n",
      "411:\tlearn: 0.3881902\ttotal: 9.56s\tremaining: 13.6s\n",
      "412:\tlearn: 0.3881763\ttotal: 9.57s\tremaining: 13.6s\n",
      "413:\tlearn: 0.3881473\ttotal: 9.59s\tremaining: 13.6s\n",
      "414:\tlearn: 0.3881332\ttotal: 9.62s\tremaining: 13.6s\n",
      "415:\tlearn: 0.3881281\ttotal: 9.63s\tremaining: 13.5s\n",
      "416:\tlearn: 0.3881093\ttotal: 9.66s\tremaining: 13.5s\n",
      "417:\tlearn: 0.3881004\ttotal: 9.68s\tremaining: 13.5s\n",
      "418:\tlearn: 0.3880886\ttotal: 9.7s\tremaining: 13.4s\n",
      "419:\tlearn: 0.3880780\ttotal: 9.71s\tremaining: 13.4s\n",
      "420:\tlearn: 0.3880618\ttotal: 9.73s\tremaining: 13.4s\n",
      "421:\tlearn: 0.3880421\ttotal: 9.74s\tremaining: 13.3s\n",
      "422:\tlearn: 0.3880279\ttotal: 9.76s\tremaining: 13.3s\n",
      "423:\tlearn: 0.3880127\ttotal: 9.77s\tremaining: 13.3s\n",
      "424:\tlearn: 0.3879916\ttotal: 9.79s\tremaining: 13.2s\n",
      "425:\tlearn: 0.3879849\ttotal: 9.8s\tremaining: 13.2s\n",
      "426:\tlearn: 0.3879748\ttotal: 9.82s\tremaining: 13.2s\n",
      "427:\tlearn: 0.3879661\ttotal: 9.84s\tremaining: 13.2s\n",
      "428:\tlearn: 0.3879558\ttotal: 9.86s\tremaining: 13.1s\n",
      "429:\tlearn: 0.3879298\ttotal: 9.88s\tremaining: 13.1s\n",
      "430:\tlearn: 0.3879174\ttotal: 9.9s\tremaining: 13.1s\n",
      "431:\tlearn: 0.3879129\ttotal: 9.91s\tremaining: 13s\n",
      "432:\tlearn: 0.3878903\ttotal: 9.93s\tremaining: 13s\n",
      "433:\tlearn: 0.3878758\ttotal: 9.95s\tremaining: 13s\n",
      "434:\tlearn: 0.3878649\ttotal: 9.96s\tremaining: 12.9s\n",
      "435:\tlearn: 0.3878470\ttotal: 9.97s\tremaining: 12.9s\n",
      "436:\tlearn: 0.3878330\ttotal: 9.99s\tremaining: 12.9s\n",
      "437:\tlearn: 0.3878246\ttotal: 10s\tremaining: 12.8s\n",
      "438:\tlearn: 0.3877944\ttotal: 10s\tremaining: 12.8s\n",
      "439:\tlearn: 0.3877795\ttotal: 10s\tremaining: 12.8s\n",
      "440:\tlearn: 0.3877521\ttotal: 10.1s\tremaining: 12.7s\n",
      "441:\tlearn: 0.3877349\ttotal: 10.1s\tremaining: 12.7s\n",
      "442:\tlearn: 0.3877270\ttotal: 10.1s\tremaining: 12.7s\n",
      "443:\tlearn: 0.3877169\ttotal: 10.1s\tremaining: 12.7s\n",
      "444:\tlearn: 0.3877075\ttotal: 10.1s\tremaining: 12.6s\n",
      "445:\tlearn: 0.3876841\ttotal: 10.2s\tremaining: 12.6s\n",
      "446:\tlearn: 0.3876711\ttotal: 10.2s\tremaining: 12.6s\n",
      "447:\tlearn: 0.3876528\ttotal: 10.2s\tremaining: 12.6s\n",
      "448:\tlearn: 0.3876362\ttotal: 10.2s\tremaining: 12.5s\n",
      "449:\tlearn: 0.3876285\ttotal: 10.2s\tremaining: 12.5s\n",
      "450:\tlearn: 0.3876136\ttotal: 10.2s\tremaining: 12.5s\n",
      "451:\tlearn: 0.3875895\ttotal: 10.3s\tremaining: 12.4s\n",
      "452:\tlearn: 0.3875774\ttotal: 10.3s\tremaining: 12.4s\n",
      "453:\tlearn: 0.3875632\ttotal: 10.3s\tremaining: 12.4s\n",
      "454:\tlearn: 0.3875541\ttotal: 10.3s\tremaining: 12.3s\n",
      "455:\tlearn: 0.3875350\ttotal: 10.3s\tremaining: 12.3s\n",
      "456:\tlearn: 0.3875251\ttotal: 10.3s\tremaining: 12.3s\n",
      "457:\tlearn: 0.3874969\ttotal: 10.4s\tremaining: 12.3s\n",
      "458:\tlearn: 0.3874840\ttotal: 10.4s\tremaining: 12.2s\n",
      "459:\tlearn: 0.3874713\ttotal: 10.4s\tremaining: 12.2s\n",
      "460:\tlearn: 0.3874609\ttotal: 10.4s\tremaining: 12.2s\n",
      "461:\tlearn: 0.3874373\ttotal: 10.4s\tremaining: 12.1s\n",
      "462:\tlearn: 0.3874257\ttotal: 10.4s\tremaining: 12.1s\n",
      "463:\tlearn: 0.3874085\ttotal: 10.4s\tremaining: 12.1s\n",
      "464:\tlearn: 0.3873931\ttotal: 10.5s\tremaining: 12s\n",
      "465:\tlearn: 0.3873806\ttotal: 10.5s\tremaining: 12s\n",
      "466:\tlearn: 0.3873671\ttotal: 10.5s\tremaining: 12s\n",
      "467:\tlearn: 0.3873531\ttotal: 10.5s\tremaining: 12s\n",
      "468:\tlearn: 0.3873439\ttotal: 10.5s\tremaining: 11.9s\n",
      "469:\tlearn: 0.3873289\ttotal: 10.6s\tremaining: 11.9s\n",
      "470:\tlearn: 0.3873093\ttotal: 10.6s\tremaining: 11.9s\n",
      "471:\tlearn: 0.3872884\ttotal: 10.6s\tremaining: 11.8s\n",
      "472:\tlearn: 0.3872717\ttotal: 10.6s\tremaining: 11.8s\n",
      "473:\tlearn: 0.3872641\ttotal: 10.6s\tremaining: 11.8s\n",
      "474:\tlearn: 0.3872490\ttotal: 10.6s\tremaining: 11.8s\n",
      "475:\tlearn: 0.3872315\ttotal: 10.7s\tremaining: 11.7s\n",
      "476:\tlearn: 0.3872169\ttotal: 10.7s\tremaining: 11.7s\n",
      "477:\tlearn: 0.3872056\ttotal: 10.7s\tremaining: 11.7s\n",
      "478:\tlearn: 0.3871933\ttotal: 10.7s\tremaining: 11.7s\n",
      "479:\tlearn: 0.3871751\ttotal: 10.7s\tremaining: 11.6s\n",
      "480:\tlearn: 0.3871628\ttotal: 10.8s\tremaining: 11.6s\n",
      "481:\tlearn: 0.3871500\ttotal: 10.8s\tremaining: 11.6s\n",
      "482:\tlearn: 0.3871300\ttotal: 10.8s\tremaining: 11.6s\n",
      "483:\tlearn: 0.3871042\ttotal: 10.8s\tremaining: 11.5s\n",
      "484:\tlearn: 0.3870881\ttotal: 10.8s\tremaining: 11.5s\n",
      "485:\tlearn: 0.3870768\ttotal: 10.8s\tremaining: 11.5s\n",
      "486:\tlearn: 0.3870665\ttotal: 10.9s\tremaining: 11.4s\n",
      "487:\tlearn: 0.3870577\ttotal: 10.9s\tremaining: 11.4s\n",
      "488:\tlearn: 0.3870397\ttotal: 10.9s\tremaining: 11.4s\n",
      "489:\tlearn: 0.3870244\ttotal: 10.9s\tremaining: 11.3s\n"
     ]
    },
    {
     "name": "stdout",
     "output_type": "stream",
     "text": [
      "490:\tlearn: 0.3870031\ttotal: 10.9s\tremaining: 11.3s\n",
      "491:\tlearn: 0.3869892\ttotal: 10.9s\tremaining: 11.3s\n",
      "492:\tlearn: 0.3869760\ttotal: 11s\tremaining: 11.3s\n",
      "493:\tlearn: 0.3869732\ttotal: 11s\tremaining: 11.2s\n",
      "494:\tlearn: 0.3869691\ttotal: 11s\tremaining: 11.2s\n",
      "495:\tlearn: 0.3869584\ttotal: 11s\tremaining: 11.2s\n",
      "496:\tlearn: 0.3869231\ttotal: 11s\tremaining: 11.2s\n",
      "497:\tlearn: 0.3869026\ttotal: 11s\tremaining: 11.1s\n",
      "498:\tlearn: 0.3868909\ttotal: 11.1s\tremaining: 11.1s\n",
      "499:\tlearn: 0.3868740\ttotal: 11.1s\tremaining: 11.1s\n",
      "500:\tlearn: 0.3868645\ttotal: 11.1s\tremaining: 11s\n",
      "501:\tlearn: 0.3868433\ttotal: 11.1s\tremaining: 11s\n",
      "502:\tlearn: 0.3868336\ttotal: 11.1s\tremaining: 11s\n",
      "503:\tlearn: 0.3868197\ttotal: 11.1s\tremaining: 11s\n",
      "504:\tlearn: 0.3868149\ttotal: 11.2s\tremaining: 11s\n",
      "505:\tlearn: 0.3868037\ttotal: 11.2s\tremaining: 10.9s\n",
      "506:\tlearn: 0.3867896\ttotal: 11.2s\tremaining: 10.9s\n",
      "507:\tlearn: 0.3867733\ttotal: 11.2s\tremaining: 10.9s\n",
      "508:\tlearn: 0.3867548\ttotal: 11.2s\tremaining: 10.8s\n",
      "509:\tlearn: 0.3867461\ttotal: 11.3s\tremaining: 10.8s\n",
      "510:\tlearn: 0.3867326\ttotal: 11.3s\tremaining: 10.8s\n",
      "511:\tlearn: 0.3867179\ttotal: 11.3s\tremaining: 10.8s\n",
      "512:\tlearn: 0.3867034\ttotal: 11.3s\tremaining: 10.7s\n",
      "513:\tlearn: 0.3866908\ttotal: 11.3s\tremaining: 10.7s\n",
      "514:\tlearn: 0.3866791\ttotal: 11.3s\tremaining: 10.7s\n",
      "515:\tlearn: 0.3866681\ttotal: 11.4s\tremaining: 10.7s\n",
      "516:\tlearn: 0.3866555\ttotal: 11.4s\tremaining: 10.6s\n",
      "517:\tlearn: 0.3866388\ttotal: 11.4s\tremaining: 10.6s\n",
      "518:\tlearn: 0.3866319\ttotal: 11.4s\tremaining: 10.6s\n",
      "519:\tlearn: 0.3866087\ttotal: 11.4s\tremaining: 10.5s\n",
      "520:\tlearn: 0.3865905\ttotal: 11.4s\tremaining: 10.5s\n",
      "521:\tlearn: 0.3865759\ttotal: 11.5s\tremaining: 10.5s\n",
      "522:\tlearn: 0.3865564\ttotal: 11.5s\tremaining: 10.5s\n",
      "523:\tlearn: 0.3865333\ttotal: 11.5s\tremaining: 10.4s\n",
      "524:\tlearn: 0.3865168\ttotal: 11.5s\tremaining: 10.4s\n",
      "525:\tlearn: 0.3865056\ttotal: 11.5s\tremaining: 10.4s\n",
      "526:\tlearn: 0.3864929\ttotal: 11.5s\tremaining: 10.3s\n",
      "527:\tlearn: 0.3864740\ttotal: 11.5s\tremaining: 10.3s\n",
      "528:\tlearn: 0.3864576\ttotal: 11.6s\tremaining: 10.3s\n",
      "529:\tlearn: 0.3864326\ttotal: 11.6s\tremaining: 10.3s\n",
      "530:\tlearn: 0.3864200\ttotal: 11.6s\tremaining: 10.3s\n",
      "531:\tlearn: 0.3864126\ttotal: 11.6s\tremaining: 10.2s\n",
      "532:\tlearn: 0.3864024\ttotal: 11.6s\tremaining: 10.2s\n",
      "533:\tlearn: 0.3863877\ttotal: 11.7s\tremaining: 10.2s\n",
      "534:\tlearn: 0.3863794\ttotal: 11.7s\tremaining: 10.2s\n",
      "535:\tlearn: 0.3863622\ttotal: 11.7s\tremaining: 10.1s\n",
      "536:\tlearn: 0.3863517\ttotal: 11.7s\tremaining: 10.1s\n",
      "537:\tlearn: 0.3863406\ttotal: 11.7s\tremaining: 10.1s\n",
      "538:\tlearn: 0.3863265\ttotal: 11.7s\tremaining: 10s\n",
      "539:\tlearn: 0.3863146\ttotal: 11.8s\tremaining: 10s\n",
      "540:\tlearn: 0.3862801\ttotal: 11.8s\tremaining: 10s\n",
      "541:\tlearn: 0.3862640\ttotal: 11.8s\tremaining: 9.97s\n",
      "542:\tlearn: 0.3862512\ttotal: 11.8s\tremaining: 9.95s\n",
      "543:\tlearn: 0.3862387\ttotal: 11.8s\tremaining: 9.92s\n",
      "544:\tlearn: 0.3862241\ttotal: 11.9s\tremaining: 9.89s\n",
      "545:\tlearn: 0.3862183\ttotal: 11.9s\tremaining: 9.87s\n",
      "546:\tlearn: 0.3862058\ttotal: 11.9s\tremaining: 9.84s\n",
      "547:\tlearn: 0.3861832\ttotal: 11.9s\tremaining: 9.81s\n",
      "548:\tlearn: 0.3861680\ttotal: 11.9s\tremaining: 9.79s\n",
      "549:\tlearn: 0.3861585\ttotal: 11.9s\tremaining: 9.76s\n",
      "550:\tlearn: 0.3861474\ttotal: 11.9s\tremaining: 9.73s\n",
      "551:\tlearn: 0.3861366\ttotal: 12s\tremaining: 9.7s\n",
      "552:\tlearn: 0.3861275\ttotal: 12s\tremaining: 9.68s\n",
      "553:\tlearn: 0.3861197\ttotal: 12s\tremaining: 9.65s\n",
      "554:\tlearn: 0.3861030\ttotal: 12s\tremaining: 9.63s\n",
      "555:\tlearn: 0.3860933\ttotal: 12s\tremaining: 9.61s\n",
      "556:\tlearn: 0.3860714\ttotal: 12s\tremaining: 9.58s\n",
      "557:\tlearn: 0.3860577\ttotal: 12.1s\tremaining: 9.56s\n",
      "558:\tlearn: 0.3860430\ttotal: 12.1s\tremaining: 9.53s\n",
      "559:\tlearn: 0.3860209\ttotal: 12.1s\tremaining: 9.5s\n",
      "560:\tlearn: 0.3860139\ttotal: 12.1s\tremaining: 9.48s\n",
      "561:\tlearn: 0.3860016\ttotal: 12.1s\tremaining: 9.45s\n",
      "562:\tlearn: 0.3859857\ttotal: 12.1s\tremaining: 9.42s\n",
      "563:\tlearn: 0.3859745\ttotal: 12.2s\tremaining: 9.39s\n",
      "564:\tlearn: 0.3859640\ttotal: 12.2s\tremaining: 9.37s\n",
      "565:\tlearn: 0.3859528\ttotal: 12.2s\tremaining: 9.35s\n",
      "566:\tlearn: 0.3859387\ttotal: 12.2s\tremaining: 9.33s\n",
      "567:\tlearn: 0.3859204\ttotal: 12.2s\tremaining: 9.31s\n",
      "568:\tlearn: 0.3858875\ttotal: 12.3s\tremaining: 9.28s\n",
      "569:\tlearn: 0.3858685\ttotal: 12.3s\tremaining: 9.26s\n",
      "570:\tlearn: 0.3858588\ttotal: 12.3s\tremaining: 9.23s\n",
      "571:\tlearn: 0.3858412\ttotal: 12.3s\tremaining: 9.2s\n",
      "572:\tlearn: 0.3858347\ttotal: 12.3s\tremaining: 9.18s\n",
      "573:\tlearn: 0.3858153\ttotal: 12.3s\tremaining: 9.15s\n",
      "574:\tlearn: 0.3858045\ttotal: 12.3s\tremaining: 9.13s\n",
      "575:\tlearn: 0.3857967\ttotal: 12.4s\tremaining: 9.1s\n",
      "576:\tlearn: 0.3857805\ttotal: 12.4s\tremaining: 9.07s\n",
      "577:\tlearn: 0.3857705\ttotal: 12.4s\tremaining: 9.05s\n",
      "578:\tlearn: 0.3857596\ttotal: 12.4s\tremaining: 9.02s\n",
      "579:\tlearn: 0.3857391\ttotal: 12.4s\tremaining: 9s\n",
      "580:\tlearn: 0.3857257\ttotal: 12.4s\tremaining: 8.98s\n",
      "581:\tlearn: 0.3857149\ttotal: 12.5s\tremaining: 8.95s\n",
      "582:\tlearn: 0.3857010\ttotal: 12.5s\tremaining: 8.93s\n",
      "583:\tlearn: 0.3856854\ttotal: 12.5s\tremaining: 8.9s\n",
      "584:\tlearn: 0.3856791\ttotal: 12.5s\tremaining: 8.88s\n",
      "585:\tlearn: 0.3856708\ttotal: 12.5s\tremaining: 8.85s\n",
      "586:\tlearn: 0.3856610\ttotal: 12.5s\tremaining: 8.83s\n",
      "587:\tlearn: 0.3856531\ttotal: 12.6s\tremaining: 8.8s\n",
      "588:\tlearn: 0.3856463\ttotal: 12.6s\tremaining: 8.78s\n",
      "589:\tlearn: 0.3856295\ttotal: 12.6s\tremaining: 8.75s\n",
      "590:\tlearn: 0.3856164\ttotal: 12.6s\tremaining: 8.72s\n",
      "591:\tlearn: 0.3856018\ttotal: 12.6s\tremaining: 8.7s\n",
      "592:\tlearn: 0.3855926\ttotal: 12.6s\tremaining: 8.68s\n",
      "593:\tlearn: 0.3855803\ttotal: 12.7s\tremaining: 8.65s\n",
      "594:\tlearn: 0.3855639\ttotal: 12.7s\tremaining: 8.63s\n",
      "595:\tlearn: 0.3855579\ttotal: 12.7s\tremaining: 8.61s\n",
      "596:\tlearn: 0.3855429\ttotal: 12.7s\tremaining: 8.59s\n",
      "597:\tlearn: 0.3855188\ttotal: 12.7s\tremaining: 8.57s\n",
      "598:\tlearn: 0.3855072\ttotal: 12.8s\tremaining: 8.54s\n",
      "599:\tlearn: 0.3854978\ttotal: 12.8s\tremaining: 8.52s\n",
      "600:\tlearn: 0.3854836\ttotal: 12.8s\tremaining: 8.5s\n",
      "601:\tlearn: 0.3854711\ttotal: 12.8s\tremaining: 8.47s\n",
      "602:\tlearn: 0.3854562\ttotal: 12.8s\tremaining: 8.45s\n",
      "603:\tlearn: 0.3854447\ttotal: 12.9s\tremaining: 8.43s\n",
      "604:\tlearn: 0.3854284\ttotal: 12.9s\tremaining: 8.4s\n",
      "605:\tlearn: 0.3854153\ttotal: 12.9s\tremaining: 8.38s\n",
      "606:\tlearn: 0.3854035\ttotal: 12.9s\tremaining: 8.36s\n",
      "607:\tlearn: 0.3853869\ttotal: 12.9s\tremaining: 8.34s\n",
      "608:\tlearn: 0.3853741\ttotal: 13s\tremaining: 8.33s\n",
      "609:\tlearn: 0.3853604\ttotal: 13s\tremaining: 8.32s\n",
      "610:\tlearn: 0.3853466\ttotal: 13.1s\tremaining: 8.31s\n",
      "611:\tlearn: 0.3853363\ttotal: 13.1s\tremaining: 8.31s\n",
      "612:\tlearn: 0.3853184\ttotal: 13.1s\tremaining: 8.3s\n",
      "613:\tlearn: 0.3853111\ttotal: 13.2s\tremaining: 8.29s\n",
      "614:\tlearn: 0.3853006\ttotal: 13.2s\tremaining: 8.27s\n",
      "615:\tlearn: 0.3852821\ttotal: 13.3s\tremaining: 8.28s\n",
      "616:\tlearn: 0.3852770\ttotal: 13.3s\tremaining: 8.28s\n",
      "617:\tlearn: 0.3852627\ttotal: 13.4s\tremaining: 8.26s\n",
      "618:\tlearn: 0.3852449\ttotal: 13.4s\tremaining: 8.25s\n",
      "619:\tlearn: 0.3852232\ttotal: 13.4s\tremaining: 8.24s\n",
      "620:\tlearn: 0.3852147\ttotal: 13.5s\tremaining: 8.22s\n",
      "621:\tlearn: 0.3852018\ttotal: 13.5s\tremaining: 8.2s\n",
      "622:\tlearn: 0.3851899\ttotal: 13.5s\tremaining: 8.18s\n",
      "623:\tlearn: 0.3851842\ttotal: 13.5s\tremaining: 8.16s\n",
      "624:\tlearn: 0.3851777\ttotal: 13.6s\tremaining: 8.13s\n",
      "625:\tlearn: 0.3851658\ttotal: 13.6s\tremaining: 8.11s\n",
      "626:\tlearn: 0.3851524\ttotal: 13.6s\tremaining: 8.08s\n",
      "627:\tlearn: 0.3851153\ttotal: 13.6s\tremaining: 8.05s\n",
      "628:\tlearn: 0.3851058\ttotal: 13.6s\tremaining: 8.03s\n",
      "629:\tlearn: 0.3851012\ttotal: 13.6s\tremaining: 8.01s\n",
      "630:\tlearn: 0.3850835\ttotal: 13.6s\tremaining: 7.98s\n",
      "631:\tlearn: 0.3850673\ttotal: 13.7s\tremaining: 7.96s\n",
      "632:\tlearn: 0.3850548\ttotal: 13.7s\tremaining: 7.93s\n",
      "633:\tlearn: 0.3850466\ttotal: 13.7s\tremaining: 7.91s\n",
      "634:\tlearn: 0.3850382\ttotal: 13.7s\tremaining: 7.89s\n",
      "635:\tlearn: 0.3850192\ttotal: 13.7s\tremaining: 7.87s\n",
      "636:\tlearn: 0.3850016\ttotal: 13.8s\tremaining: 7.84s\n",
      "637:\tlearn: 0.3849870\ttotal: 13.8s\tremaining: 7.82s\n",
      "638:\tlearn: 0.3849695\ttotal: 13.8s\tremaining: 7.79s\n",
      "639:\tlearn: 0.3849538\ttotal: 13.8s\tremaining: 7.77s\n",
      "640:\tlearn: 0.3849288\ttotal: 13.8s\tremaining: 7.75s\n",
      "641:\tlearn: 0.3849170\ttotal: 13.8s\tremaining: 7.72s\n",
      "642:\tlearn: 0.3849017\ttotal: 13.9s\tremaining: 7.7s\n",
      "643:\tlearn: 0.3848919\ttotal: 13.9s\tremaining: 7.67s\n",
      "644:\tlearn: 0.3848749\ttotal: 13.9s\tremaining: 7.65s\n",
      "645:\tlearn: 0.3848684\ttotal: 13.9s\tremaining: 7.62s\n",
      "646:\tlearn: 0.3848582\ttotal: 13.9s\tremaining: 7.6s\n",
      "647:\tlearn: 0.3848390\ttotal: 14s\tremaining: 7.58s\n",
      "648:\tlearn: 0.3848265\ttotal: 14s\tremaining: 7.56s\n",
      "649:\tlearn: 0.3848156\ttotal: 14s\tremaining: 7.53s\n",
      "650:\tlearn: 0.3848016\ttotal: 14s\tremaining: 7.51s\n",
      "651:\tlearn: 0.3847879\ttotal: 14s\tremaining: 7.48s\n",
      "652:\tlearn: 0.3847818\ttotal: 14s\tremaining: 7.46s\n",
      "653:\tlearn: 0.3847724\ttotal: 14s\tremaining: 7.43s\n",
      "654:\tlearn: 0.3847604\ttotal: 14.1s\tremaining: 7.41s\n",
      "655:\tlearn: 0.3847520\ttotal: 14.1s\tremaining: 7.38s\n",
      "656:\tlearn: 0.3847425\ttotal: 14.1s\tremaining: 7.36s\n"
     ]
    },
    {
     "name": "stdout",
     "output_type": "stream",
     "text": [
      "657:\tlearn: 0.3847278\ttotal: 14.1s\tremaining: 7.34s\n",
      "658:\tlearn: 0.3847178\ttotal: 14.1s\tremaining: 7.31s\n",
      "659:\tlearn: 0.3847083\ttotal: 14.2s\tremaining: 7.29s\n",
      "660:\tlearn: 0.3846723\ttotal: 14.2s\tremaining: 7.27s\n",
      "661:\tlearn: 0.3846590\ttotal: 14.2s\tremaining: 7.24s\n",
      "662:\tlearn: 0.3846436\ttotal: 14.2s\tremaining: 7.22s\n",
      "663:\tlearn: 0.3846257\ttotal: 14.2s\tremaining: 7.19s\n",
      "664:\tlearn: 0.3846131\ttotal: 14.2s\tremaining: 7.17s\n",
      "665:\tlearn: 0.3845996\ttotal: 14.2s\tremaining: 7.14s\n",
      "666:\tlearn: 0.3845861\ttotal: 14.3s\tremaining: 7.12s\n",
      "667:\tlearn: 0.3845652\ttotal: 14.3s\tremaining: 7.1s\n",
      "668:\tlearn: 0.3845553\ttotal: 14.3s\tremaining: 7.08s\n",
      "669:\tlearn: 0.3845396\ttotal: 14.3s\tremaining: 7.06s\n",
      "670:\tlearn: 0.3845263\ttotal: 14.3s\tremaining: 7.04s\n",
      "671:\tlearn: 0.3845176\ttotal: 14.4s\tremaining: 7.01s\n",
      "672:\tlearn: 0.3845097\ttotal: 14.4s\tremaining: 6.99s\n",
      "673:\tlearn: 0.3844900\ttotal: 14.4s\tremaining: 6.97s\n",
      "674:\tlearn: 0.3844781\ttotal: 14.4s\tremaining: 6.94s\n",
      "675:\tlearn: 0.3844605\ttotal: 14.4s\tremaining: 6.92s\n",
      "676:\tlearn: 0.3844408\ttotal: 14.5s\tremaining: 6.89s\n",
      "677:\tlearn: 0.3844316\ttotal: 14.5s\tremaining: 6.87s\n",
      "678:\tlearn: 0.3844213\ttotal: 14.5s\tremaining: 6.85s\n",
      "679:\tlearn: 0.3844142\ttotal: 14.5s\tremaining: 6.83s\n",
      "680:\tlearn: 0.3843940\ttotal: 14.5s\tremaining: 6.8s\n",
      "681:\tlearn: 0.3843879\ttotal: 14.5s\tremaining: 6.78s\n",
      "682:\tlearn: 0.3843811\ttotal: 14.6s\tremaining: 6.76s\n",
      "683:\tlearn: 0.3843642\ttotal: 14.6s\tremaining: 6.74s\n",
      "684:\tlearn: 0.3843538\ttotal: 14.6s\tremaining: 6.71s\n",
      "685:\tlearn: 0.3843432\ttotal: 14.6s\tremaining: 6.69s\n",
      "686:\tlearn: 0.3843315\ttotal: 14.6s\tremaining: 6.67s\n",
      "687:\tlearn: 0.3843210\ttotal: 14.6s\tremaining: 6.64s\n",
      "688:\tlearn: 0.3843043\ttotal: 14.7s\tremaining: 6.62s\n",
      "689:\tlearn: 0.3842961\ttotal: 14.7s\tremaining: 6.59s\n",
      "690:\tlearn: 0.3842911\ttotal: 14.7s\tremaining: 6.57s\n",
      "691:\tlearn: 0.3842782\ttotal: 14.7s\tremaining: 6.55s\n",
      "692:\tlearn: 0.3842739\ttotal: 14.7s\tremaining: 6.52s\n",
      "693:\tlearn: 0.3842649\ttotal: 14.7s\tremaining: 6.5s\n",
      "694:\tlearn: 0.3842444\ttotal: 14.8s\tremaining: 6.48s\n",
      "695:\tlearn: 0.3842395\ttotal: 14.8s\tremaining: 6.46s\n",
      "696:\tlearn: 0.3842333\ttotal: 14.8s\tremaining: 6.44s\n",
      "697:\tlearn: 0.3842162\ttotal: 14.8s\tremaining: 6.42s\n",
      "698:\tlearn: 0.3842045\ttotal: 14.9s\tremaining: 6.4s\n",
      "699:\tlearn: 0.3841978\ttotal: 14.9s\tremaining: 6.38s\n",
      "700:\tlearn: 0.3841879\ttotal: 14.9s\tremaining: 6.35s\n",
      "701:\tlearn: 0.3841758\ttotal: 14.9s\tremaining: 6.33s\n",
      "702:\tlearn: 0.3841642\ttotal: 14.9s\tremaining: 6.31s\n",
      "703:\tlearn: 0.3841527\ttotal: 14.9s\tremaining: 6.28s\n",
      "704:\tlearn: 0.3841440\ttotal: 15s\tremaining: 6.26s\n",
      "705:\tlearn: 0.3841333\ttotal: 15s\tremaining: 6.24s\n",
      "706:\tlearn: 0.3841230\ttotal: 15s\tremaining: 6.22s\n",
      "707:\tlearn: 0.3841080\ttotal: 15s\tremaining: 6.2s\n",
      "708:\tlearn: 0.3840946\ttotal: 15s\tremaining: 6.17s\n",
      "709:\tlearn: 0.3840781\ttotal: 15.1s\tremaining: 6.15s\n",
      "710:\tlearn: 0.3840642\ttotal: 15.1s\tremaining: 6.13s\n",
      "711:\tlearn: 0.3840555\ttotal: 15.1s\tremaining: 6.1s\n",
      "712:\tlearn: 0.3840510\ttotal: 15.1s\tremaining: 6.08s\n",
      "713:\tlearn: 0.3840418\ttotal: 15.1s\tremaining: 6.06s\n",
      "714:\tlearn: 0.3840245\ttotal: 15.1s\tremaining: 6.04s\n",
      "715:\tlearn: 0.3840166\ttotal: 15.2s\tremaining: 6.02s\n",
      "716:\tlearn: 0.3840078\ttotal: 15.2s\tremaining: 5.99s\n",
      "717:\tlearn: 0.3839975\ttotal: 15.2s\tremaining: 5.97s\n",
      "718:\tlearn: 0.3839845\ttotal: 15.2s\tremaining: 5.95s\n",
      "719:\tlearn: 0.3839746\ttotal: 15.2s\tremaining: 5.92s\n",
      "720:\tlearn: 0.3839642\ttotal: 15.3s\tremaining: 5.9s\n",
      "721:\tlearn: 0.3839537\ttotal: 15.3s\tremaining: 5.88s\n",
      "722:\tlearn: 0.3839450\ttotal: 15.3s\tremaining: 5.85s\n",
      "723:\tlearn: 0.3839287\ttotal: 15.3s\tremaining: 5.83s\n",
      "724:\tlearn: 0.3839212\ttotal: 15.3s\tremaining: 5.81s\n",
      "725:\tlearn: 0.3839139\ttotal: 15.3s\tremaining: 5.78s\n",
      "726:\tlearn: 0.3839031\ttotal: 15.3s\tremaining: 5.76s\n",
      "727:\tlearn: 0.3838946\ttotal: 15.4s\tremaining: 5.74s\n",
      "728:\tlearn: 0.3838862\ttotal: 15.4s\tremaining: 5.72s\n",
      "729:\tlearn: 0.3838755\ttotal: 15.4s\tremaining: 5.7s\n",
      "730:\tlearn: 0.3838488\ttotal: 15.4s\tremaining: 5.68s\n",
      "731:\tlearn: 0.3838366\ttotal: 15.5s\tremaining: 5.66s\n",
      "732:\tlearn: 0.3838263\ttotal: 15.5s\tremaining: 5.64s\n",
      "733:\tlearn: 0.3838152\ttotal: 15.5s\tremaining: 5.61s\n",
      "734:\tlearn: 0.3837994\ttotal: 15.5s\tremaining: 5.59s\n",
      "735:\tlearn: 0.3837929\ttotal: 15.5s\tremaining: 5.57s\n",
      "736:\tlearn: 0.3837857\ttotal: 15.5s\tremaining: 5.54s\n",
      "737:\tlearn: 0.3837733\ttotal: 15.6s\tremaining: 5.52s\n",
      "738:\tlearn: 0.3837590\ttotal: 15.6s\tremaining: 5.5s\n",
      "739:\tlearn: 0.3837467\ttotal: 15.6s\tremaining: 5.48s\n",
      "740:\tlearn: 0.3837321\ttotal: 15.6s\tremaining: 5.45s\n",
      "741:\tlearn: 0.3837221\ttotal: 15.6s\tremaining: 5.43s\n",
      "742:\tlearn: 0.3837108\ttotal: 15.6s\tremaining: 5.41s\n",
      "743:\tlearn: 0.3837042\ttotal: 15.7s\tremaining: 5.39s\n",
      "744:\tlearn: 0.3836947\ttotal: 15.7s\tremaining: 5.37s\n",
      "745:\tlearn: 0.3836883\ttotal: 15.7s\tremaining: 5.34s\n",
      "746:\tlearn: 0.3836759\ttotal: 15.7s\tremaining: 5.32s\n",
      "747:\tlearn: 0.3836592\ttotal: 15.7s\tremaining: 5.3s\n",
      "748:\tlearn: 0.3836480\ttotal: 15.7s\tremaining: 5.28s\n",
      "749:\tlearn: 0.3836373\ttotal: 15.8s\tremaining: 5.25s\n",
      "750:\tlearn: 0.3836150\ttotal: 15.8s\tremaining: 5.23s\n",
      "751:\tlearn: 0.3836017\ttotal: 15.8s\tremaining: 5.21s\n",
      "752:\tlearn: 0.3835961\ttotal: 15.8s\tremaining: 5.19s\n",
      "753:\tlearn: 0.3835888\ttotal: 15.8s\tremaining: 5.17s\n",
      "754:\tlearn: 0.3835768\ttotal: 15.9s\tremaining: 5.14s\n",
      "755:\tlearn: 0.3835604\ttotal: 15.9s\tremaining: 5.12s\n",
      "756:\tlearn: 0.3835504\ttotal: 15.9s\tremaining: 5.1s\n",
      "757:\tlearn: 0.3835408\ttotal: 15.9s\tremaining: 5.08s\n",
      "758:\tlearn: 0.3835329\ttotal: 15.9s\tremaining: 5.06s\n",
      "759:\tlearn: 0.3835279\ttotal: 15.9s\tremaining: 5.03s\n",
      "760:\tlearn: 0.3835082\ttotal: 16s\tremaining: 5.01s\n",
      "761:\tlearn: 0.3834964\ttotal: 16s\tremaining: 4.99s\n",
      "762:\tlearn: 0.3834815\ttotal: 16s\tremaining: 4.97s\n",
      "763:\tlearn: 0.3834714\ttotal: 16s\tremaining: 4.95s\n",
      "764:\tlearn: 0.3834499\ttotal: 16s\tremaining: 4.93s\n",
      "765:\tlearn: 0.3834361\ttotal: 16.1s\tremaining: 4.9s\n",
      "766:\tlearn: 0.3834273\ttotal: 16.1s\tremaining: 4.88s\n",
      "767:\tlearn: 0.3834191\ttotal: 16.1s\tremaining: 4.86s\n",
      "768:\tlearn: 0.3834053\ttotal: 16.1s\tremaining: 4.84s\n",
      "769:\tlearn: 0.3833974\ttotal: 16.1s\tremaining: 4.81s\n",
      "770:\tlearn: 0.3833898\ttotal: 16.1s\tremaining: 4.79s\n",
      "771:\tlearn: 0.3833731\ttotal: 16.1s\tremaining: 4.77s\n",
      "772:\tlearn: 0.3833666\ttotal: 16.2s\tremaining: 4.75s\n",
      "773:\tlearn: 0.3833592\ttotal: 16.2s\tremaining: 4.72s\n",
      "774:\tlearn: 0.3833382\ttotal: 16.2s\tremaining: 4.7s\n",
      "775:\tlearn: 0.3833278\ttotal: 16.2s\tremaining: 4.68s\n",
      "776:\tlearn: 0.3833195\ttotal: 16.2s\tremaining: 4.66s\n",
      "777:\tlearn: 0.3833117\ttotal: 16.3s\tremaining: 4.64s\n",
      "778:\tlearn: 0.3833025\ttotal: 16.3s\tremaining: 4.62s\n",
      "779:\tlearn: 0.3832918\ttotal: 16.3s\tremaining: 4.59s\n",
      "780:\tlearn: 0.3832821\ttotal: 16.3s\tremaining: 4.57s\n",
      "781:\tlearn: 0.3832720\ttotal: 16.3s\tremaining: 4.55s\n",
      "782:\tlearn: 0.3832585\ttotal: 16.3s\tremaining: 4.53s\n",
      "783:\tlearn: 0.3832436\ttotal: 16.3s\tremaining: 4.5s\n",
      "784:\tlearn: 0.3832373\ttotal: 16.4s\tremaining: 4.48s\n",
      "785:\tlearn: 0.3832266\ttotal: 16.4s\tremaining: 4.46s\n",
      "786:\tlearn: 0.3832155\ttotal: 16.4s\tremaining: 4.44s\n",
      "787:\tlearn: 0.3831949\ttotal: 16.4s\tremaining: 4.42s\n",
      "788:\tlearn: 0.3831832\ttotal: 16.5s\tremaining: 4.4s\n",
      "789:\tlearn: 0.3831700\ttotal: 16.5s\tremaining: 4.38s\n",
      "790:\tlearn: 0.3831596\ttotal: 16.5s\tremaining: 4.36s\n",
      "791:\tlearn: 0.3831509\ttotal: 16.5s\tremaining: 4.34s\n",
      "792:\tlearn: 0.3831338\ttotal: 16.5s\tremaining: 4.31s\n",
      "793:\tlearn: 0.3831233\ttotal: 16.5s\tremaining: 4.29s\n",
      "794:\tlearn: 0.3831128\ttotal: 16.6s\tremaining: 4.27s\n",
      "795:\tlearn: 0.3830979\ttotal: 16.6s\tremaining: 4.25s\n",
      "796:\tlearn: 0.3830864\ttotal: 16.6s\tremaining: 4.23s\n",
      "797:\tlearn: 0.3830774\ttotal: 16.6s\tremaining: 4.2s\n",
      "798:\tlearn: 0.3830693\ttotal: 16.6s\tremaining: 4.18s\n",
      "799:\tlearn: 0.3830534\ttotal: 16.7s\tremaining: 4.16s\n",
      "800:\tlearn: 0.3830413\ttotal: 16.7s\tremaining: 4.14s\n",
      "801:\tlearn: 0.3830372\ttotal: 16.7s\tremaining: 4.12s\n",
      "802:\tlearn: 0.3830272\ttotal: 16.7s\tremaining: 4.1s\n",
      "803:\tlearn: 0.3830212\ttotal: 16.7s\tremaining: 4.08s\n",
      "804:\tlearn: 0.3830087\ttotal: 16.7s\tremaining: 4.05s\n",
      "805:\tlearn: 0.3829881\ttotal: 16.7s\tremaining: 4.03s\n",
      "806:\tlearn: 0.3829829\ttotal: 16.8s\tremaining: 4.01s\n",
      "807:\tlearn: 0.3829621\ttotal: 16.8s\tremaining: 3.99s\n",
      "808:\tlearn: 0.3829486\ttotal: 16.8s\tremaining: 3.96s\n",
      "809:\tlearn: 0.3829380\ttotal: 16.8s\tremaining: 3.94s\n",
      "810:\tlearn: 0.3829212\ttotal: 16.8s\tremaining: 3.92s\n",
      "811:\tlearn: 0.3829125\ttotal: 16.9s\tremaining: 3.9s\n",
      "812:\tlearn: 0.3829049\ttotal: 16.9s\tremaining: 3.88s\n",
      "813:\tlearn: 0.3828929\ttotal: 16.9s\tremaining: 3.86s\n",
      "814:\tlearn: 0.3828810\ttotal: 16.9s\tremaining: 3.84s\n",
      "815:\tlearn: 0.3828662\ttotal: 16.9s\tremaining: 3.82s\n",
      "816:\tlearn: 0.3828549\ttotal: 17s\tremaining: 3.8s\n",
      "817:\tlearn: 0.3828500\ttotal: 17s\tremaining: 3.78s\n",
      "818:\tlearn: 0.3828440\ttotal: 17s\tremaining: 3.75s\n",
      "819:\tlearn: 0.3828277\ttotal: 17s\tremaining: 3.73s\n",
      "820:\tlearn: 0.3828138\ttotal: 17s\tremaining: 3.71s\n"
     ]
    },
    {
     "name": "stdout",
     "output_type": "stream",
     "text": [
      "821:\tlearn: 0.3828041\ttotal: 17s\tremaining: 3.69s\n",
      "822:\tlearn: 0.3827931\ttotal: 17.1s\tremaining: 3.67s\n",
      "823:\tlearn: 0.3827841\ttotal: 17.1s\tremaining: 3.65s\n",
      "824:\tlearn: 0.3827724\ttotal: 17.1s\tremaining: 3.63s\n",
      "825:\tlearn: 0.3827597\ttotal: 17.1s\tremaining: 3.61s\n",
      "826:\tlearn: 0.3827493\ttotal: 17.1s\tremaining: 3.58s\n",
      "827:\tlearn: 0.3827344\ttotal: 17.1s\tremaining: 3.56s\n",
      "828:\tlearn: 0.3827215\ttotal: 17.2s\tremaining: 3.54s\n",
      "829:\tlearn: 0.3827067\ttotal: 17.2s\tremaining: 3.52s\n",
      "830:\tlearn: 0.3826964\ttotal: 17.2s\tremaining: 3.5s\n",
      "831:\tlearn: 0.3826799\ttotal: 17.2s\tremaining: 3.48s\n",
      "832:\tlearn: 0.3826703\ttotal: 17.2s\tremaining: 3.45s\n",
      "833:\tlearn: 0.3826626\ttotal: 17.2s\tremaining: 3.43s\n",
      "834:\tlearn: 0.3826471\ttotal: 17.3s\tremaining: 3.41s\n",
      "835:\tlearn: 0.3826325\ttotal: 17.3s\tremaining: 3.39s\n",
      "836:\tlearn: 0.3826194\ttotal: 17.3s\tremaining: 3.37s\n",
      "837:\tlearn: 0.3826126\ttotal: 17.3s\tremaining: 3.35s\n",
      "838:\tlearn: 0.3825988\ttotal: 17.3s\tremaining: 3.33s\n",
      "839:\tlearn: 0.3825881\ttotal: 17.4s\tremaining: 3.31s\n",
      "840:\tlearn: 0.3825788\ttotal: 17.4s\tremaining: 3.29s\n",
      "841:\tlearn: 0.3825420\ttotal: 17.4s\tremaining: 3.26s\n",
      "842:\tlearn: 0.3825334\ttotal: 17.4s\tremaining: 3.24s\n",
      "843:\tlearn: 0.3825246\ttotal: 17.5s\tremaining: 3.23s\n",
      "844:\tlearn: 0.3825134\ttotal: 17.5s\tremaining: 3.21s\n",
      "845:\tlearn: 0.3825081\ttotal: 17.5s\tremaining: 3.19s\n",
      "846:\tlearn: 0.3824956\ttotal: 17.5s\tremaining: 3.16s\n",
      "847:\tlearn: 0.3824872\ttotal: 17.5s\tremaining: 3.14s\n",
      "848:\tlearn: 0.3824799\ttotal: 17.5s\tremaining: 3.12s\n",
      "849:\tlearn: 0.3824732\ttotal: 17.6s\tremaining: 3.1s\n",
      "850:\tlearn: 0.3824635\ttotal: 17.6s\tremaining: 3.08s\n",
      "851:\tlearn: 0.3824541\ttotal: 17.6s\tremaining: 3.06s\n",
      "852:\tlearn: 0.3824416\ttotal: 17.6s\tremaining: 3.03s\n",
      "853:\tlearn: 0.3824333\ttotal: 17.6s\tremaining: 3.01s\n",
      "854:\tlearn: 0.3824267\ttotal: 17.6s\tremaining: 2.99s\n",
      "855:\tlearn: 0.3824199\ttotal: 17.7s\tremaining: 2.97s\n",
      "856:\tlearn: 0.3824067\ttotal: 17.7s\tremaining: 2.95s\n",
      "857:\tlearn: 0.3823896\ttotal: 17.7s\tremaining: 2.93s\n",
      "858:\tlearn: 0.3823751\ttotal: 17.7s\tremaining: 2.91s\n",
      "859:\tlearn: 0.3823643\ttotal: 17.7s\tremaining: 2.89s\n",
      "860:\tlearn: 0.3823429\ttotal: 17.7s\tremaining: 2.87s\n",
      "861:\tlearn: 0.3823383\ttotal: 17.8s\tremaining: 2.84s\n",
      "862:\tlearn: 0.3823313\ttotal: 17.8s\tremaining: 2.82s\n",
      "863:\tlearn: 0.3823185\ttotal: 17.8s\tremaining: 2.8s\n",
      "864:\tlearn: 0.3823060\ttotal: 17.8s\tremaining: 2.78s\n",
      "865:\tlearn: 0.3822982\ttotal: 17.8s\tremaining: 2.76s\n",
      "866:\tlearn: 0.3822813\ttotal: 17.8s\tremaining: 2.74s\n",
      "867:\tlearn: 0.3822708\ttotal: 17.9s\tremaining: 2.72s\n",
      "868:\tlearn: 0.3822634\ttotal: 17.9s\tremaining: 2.69s\n",
      "869:\tlearn: 0.3822561\ttotal: 17.9s\tremaining: 2.67s\n",
      "870:\tlearn: 0.3822482\ttotal: 17.9s\tremaining: 2.65s\n",
      "871:\tlearn: 0.3822373\ttotal: 17.9s\tremaining: 2.63s\n",
      "872:\tlearn: 0.3822266\ttotal: 18s\tremaining: 2.61s\n",
      "873:\tlearn: 0.3822172\ttotal: 18s\tremaining: 2.59s\n",
      "874:\tlearn: 0.3822008\ttotal: 18s\tremaining: 2.57s\n",
      "875:\tlearn: 0.3821921\ttotal: 18s\tremaining: 2.55s\n",
      "876:\tlearn: 0.3821840\ttotal: 18s\tremaining: 2.53s\n",
      "877:\tlearn: 0.3821716\ttotal: 18.1s\tremaining: 2.51s\n",
      "878:\tlearn: 0.3821609\ttotal: 18.1s\tremaining: 2.49s\n",
      "879:\tlearn: 0.3821565\ttotal: 18.1s\tremaining: 2.47s\n",
      "880:\tlearn: 0.3821433\ttotal: 18.1s\tremaining: 2.45s\n",
      "881:\tlearn: 0.3821289\ttotal: 18.1s\tremaining: 2.42s\n",
      "882:\tlearn: 0.3821186\ttotal: 18.2s\tremaining: 2.4s\n",
      "883:\tlearn: 0.3821025\ttotal: 18.2s\tremaining: 2.38s\n",
      "884:\tlearn: 0.3820942\ttotal: 18.2s\tremaining: 2.36s\n",
      "885:\tlearn: 0.3820836\ttotal: 18.2s\tremaining: 2.34s\n",
      "886:\tlearn: 0.3820765\ttotal: 18.2s\tremaining: 2.32s\n",
      "887:\tlearn: 0.3820605\ttotal: 18.2s\tremaining: 2.3s\n",
      "888:\tlearn: 0.3820510\ttotal: 18.2s\tremaining: 2.28s\n",
      "889:\tlearn: 0.3820441\ttotal: 18.3s\tremaining: 2.26s\n",
      "890:\tlearn: 0.3820328\ttotal: 18.3s\tremaining: 2.23s\n",
      "891:\tlearn: 0.3820254\ttotal: 18.3s\tremaining: 2.21s\n",
      "892:\tlearn: 0.3820186\ttotal: 18.3s\tremaining: 2.19s\n",
      "893:\tlearn: 0.3820082\ttotal: 18.3s\tremaining: 2.17s\n",
      "894:\tlearn: 0.3819961\ttotal: 18.3s\tremaining: 2.15s\n",
      "895:\tlearn: 0.3819847\ttotal: 18.4s\tremaining: 2.13s\n",
      "896:\tlearn: 0.3819779\ttotal: 18.4s\tremaining: 2.11s\n",
      "897:\tlearn: 0.3819697\ttotal: 18.4s\tremaining: 2.09s\n",
      "898:\tlearn: 0.3819562\ttotal: 18.5s\tremaining: 2.08s\n",
      "899:\tlearn: 0.3819478\ttotal: 18.5s\tremaining: 2.06s\n",
      "900:\tlearn: 0.3819396\ttotal: 18.6s\tremaining: 2.04s\n",
      "901:\tlearn: 0.3819214\ttotal: 18.6s\tremaining: 2.02s\n",
      "902:\tlearn: 0.3819082\ttotal: 18.7s\tremaining: 2.01s\n",
      "903:\tlearn: 0.3819007\ttotal: 18.7s\tremaining: 1.99s\n",
      "904:\tlearn: 0.3818813\ttotal: 18.8s\tremaining: 1.97s\n",
      "905:\tlearn: 0.3818731\ttotal: 18.8s\tremaining: 1.95s\n",
      "906:\tlearn: 0.3818541\ttotal: 18.9s\tremaining: 1.94s\n",
      "907:\tlearn: 0.3818348\ttotal: 18.9s\tremaining: 1.92s\n",
      "908:\tlearn: 0.3818102\ttotal: 18.9s\tremaining: 1.9s\n",
      "909:\tlearn: 0.3818016\ttotal: 19s\tremaining: 1.88s\n",
      "910:\tlearn: 0.3817942\ttotal: 19s\tremaining: 1.85s\n",
      "911:\tlearn: 0.3817838\ttotal: 19s\tremaining: 1.83s\n",
      "912:\tlearn: 0.3817751\ttotal: 19s\tremaining: 1.81s\n",
      "913:\tlearn: 0.3817674\ttotal: 19.1s\tremaining: 1.79s\n",
      "914:\tlearn: 0.3817499\ttotal: 19.1s\tremaining: 1.77s\n",
      "915:\tlearn: 0.3817403\ttotal: 19.1s\tremaining: 1.75s\n",
      "916:\tlearn: 0.3817303\ttotal: 19.1s\tremaining: 1.73s\n",
      "917:\tlearn: 0.3817231\ttotal: 19.1s\tremaining: 1.71s\n",
      "918:\tlearn: 0.3817139\ttotal: 19.1s\tremaining: 1.69s\n",
      "919:\tlearn: 0.3817082\ttotal: 19.2s\tremaining: 1.67s\n",
      "920:\tlearn: 0.3817040\ttotal: 19.2s\tremaining: 1.64s\n",
      "921:\tlearn: 0.3816946\ttotal: 19.2s\tremaining: 1.62s\n",
      "922:\tlearn: 0.3816878\ttotal: 19.2s\tremaining: 1.6s\n",
      "923:\tlearn: 0.3816806\ttotal: 19.2s\tremaining: 1.58s\n",
      "924:\tlearn: 0.3816699\ttotal: 19.2s\tremaining: 1.56s\n",
      "925:\tlearn: 0.3816638\ttotal: 19.3s\tremaining: 1.54s\n",
      "926:\tlearn: 0.3816477\ttotal: 19.3s\tremaining: 1.52s\n",
      "927:\tlearn: 0.3816382\ttotal: 19.3s\tremaining: 1.5s\n",
      "928:\tlearn: 0.3816263\ttotal: 19.3s\tremaining: 1.48s\n",
      "929:\tlearn: 0.3816062\ttotal: 19.3s\tremaining: 1.45s\n",
      "930:\tlearn: 0.3816024\ttotal: 19.3s\tremaining: 1.43s\n",
      "931:\tlearn: 0.3815914\ttotal: 19.4s\tremaining: 1.41s\n",
      "932:\tlearn: 0.3815849\ttotal: 19.4s\tremaining: 1.39s\n",
      "933:\tlearn: 0.3815710\ttotal: 19.4s\tremaining: 1.37s\n",
      "934:\tlearn: 0.3815610\ttotal: 19.4s\tremaining: 1.35s\n",
      "935:\tlearn: 0.3815460\ttotal: 19.4s\tremaining: 1.33s\n",
      "936:\tlearn: 0.3815341\ttotal: 19.5s\tremaining: 1.31s\n",
      "937:\tlearn: 0.3815224\ttotal: 19.5s\tremaining: 1.29s\n",
      "938:\tlearn: 0.3815169\ttotal: 19.5s\tremaining: 1.27s\n",
      "939:\tlearn: 0.3815083\ttotal: 19.5s\tremaining: 1.25s\n",
      "940:\tlearn: 0.3814939\ttotal: 19.5s\tremaining: 1.22s\n",
      "941:\tlearn: 0.3814882\ttotal: 19.5s\tremaining: 1.2s\n",
      "942:\tlearn: 0.3814728\ttotal: 19.6s\tremaining: 1.18s\n",
      "943:\tlearn: 0.3814650\ttotal: 19.6s\tremaining: 1.16s\n",
      "944:\tlearn: 0.3814545\ttotal: 19.6s\tremaining: 1.14s\n",
      "945:\tlearn: 0.3814489\ttotal: 19.6s\tremaining: 1.12s\n",
      "946:\tlearn: 0.3814399\ttotal: 19.6s\tremaining: 1.1s\n",
      "947:\tlearn: 0.3814314\ttotal: 19.6s\tremaining: 1.08s\n",
      "948:\tlearn: 0.3814214\ttotal: 19.7s\tremaining: 1.06s\n",
      "949:\tlearn: 0.3814153\ttotal: 19.7s\tremaining: 1.03s\n",
      "950:\tlearn: 0.3814064\ttotal: 19.7s\tremaining: 1.01s\n",
      "951:\tlearn: 0.3813988\ttotal: 19.7s\tremaining: 994ms\n",
      "952:\tlearn: 0.3813911\ttotal: 19.7s\tremaining: 973ms\n",
      "953:\tlearn: 0.3813871\ttotal: 19.7s\tremaining: 952ms\n",
      "954:\tlearn: 0.3813817\ttotal: 19.8s\tremaining: 931ms\n",
      "955:\tlearn: 0.3813690\ttotal: 19.8s\tremaining: 910ms\n",
      "956:\tlearn: 0.3813588\ttotal: 19.8s\tremaining: 889ms\n",
      "957:\tlearn: 0.3813510\ttotal: 19.8s\tremaining: 869ms\n",
      "958:\tlearn: 0.3813413\ttotal: 19.8s\tremaining: 848ms\n",
      "959:\tlearn: 0.3813352\ttotal: 19.9s\tremaining: 827ms\n",
      "960:\tlearn: 0.3813255\ttotal: 19.9s\tremaining: 807ms\n",
      "961:\tlearn: 0.3813154\ttotal: 19.9s\tremaining: 786ms\n",
      "962:\tlearn: 0.3813083\ttotal: 19.9s\tremaining: 765ms\n",
      "963:\tlearn: 0.3812994\ttotal: 19.9s\tremaining: 744ms\n",
      "964:\tlearn: 0.3812896\ttotal: 19.9s\tremaining: 723ms\n",
      "965:\tlearn: 0.3812828\ttotal: 20s\tremaining: 702ms\n",
      "966:\tlearn: 0.3812706\ttotal: 20s\tremaining: 681ms\n",
      "967:\tlearn: 0.3812572\ttotal: 20s\tremaining: 661ms\n",
      "968:\tlearn: 0.3812465\ttotal: 20s\tremaining: 640ms\n",
      "969:\tlearn: 0.3812355\ttotal: 20s\tremaining: 619ms\n",
      "970:\tlearn: 0.3812232\ttotal: 20.1s\tremaining: 599ms\n",
      "971:\tlearn: 0.3812169\ttotal: 20.1s\tremaining: 578ms\n",
      "972:\tlearn: 0.3812046\ttotal: 20.1s\tremaining: 558ms\n",
      "973:\tlearn: 0.3811951\ttotal: 20.1s\tremaining: 537ms\n",
      "974:\tlearn: 0.3811830\ttotal: 20.1s\tremaining: 516ms\n",
      "975:\tlearn: 0.3811738\ttotal: 20.2s\tremaining: 496ms\n",
      "976:\tlearn: 0.3811530\ttotal: 20.2s\tremaining: 475ms\n",
      "977:\tlearn: 0.3811367\ttotal: 20.2s\tremaining: 454ms\n",
      "978:\tlearn: 0.3811239\ttotal: 20.2s\tremaining: 434ms\n",
      "979:\tlearn: 0.3811152\ttotal: 20.2s\tremaining: 413ms\n",
      "980:\tlearn: 0.3811073\ttotal: 20.3s\tremaining: 393ms\n",
      "981:\tlearn: 0.3810935\ttotal: 20.3s\tremaining: 372ms\n",
      "982:\tlearn: 0.3810889\ttotal: 20.3s\tremaining: 352ms\n",
      "983:\tlearn: 0.3810753\ttotal: 20.4s\tremaining: 331ms\n",
      "984:\tlearn: 0.3810648\ttotal: 20.4s\tremaining: 310ms\n",
      "985:\tlearn: 0.3810503\ttotal: 20.4s\tremaining: 290ms\n"
     ]
    },
    {
     "name": "stdout",
     "output_type": "stream",
     "text": [
      "986:\tlearn: 0.3810436\ttotal: 20.4s\tremaining: 269ms\n",
      "987:\tlearn: 0.3810362\ttotal: 20.4s\tremaining: 248ms\n",
      "988:\tlearn: 0.3810246\ttotal: 20.5s\tremaining: 228ms\n",
      "989:\tlearn: 0.3810140\ttotal: 20.5s\tremaining: 207ms\n",
      "990:\tlearn: 0.3810071\ttotal: 20.5s\tremaining: 186ms\n",
      "991:\tlearn: 0.3809983\ttotal: 20.5s\tremaining: 166ms\n",
      "992:\tlearn: 0.3809769\ttotal: 20.6s\tremaining: 145ms\n",
      "993:\tlearn: 0.3809659\ttotal: 20.6s\tremaining: 124ms\n",
      "994:\tlearn: 0.3809573\ttotal: 20.6s\tremaining: 104ms\n",
      "995:\tlearn: 0.3809467\ttotal: 20.6s\tremaining: 82.8ms\n",
      "996:\tlearn: 0.3809276\ttotal: 20.6s\tremaining: 62.1ms\n",
      "997:\tlearn: 0.3809213\ttotal: 20.7s\tremaining: 41.4ms\n",
      "998:\tlearn: 0.3809121\ttotal: 20.7s\tremaining: 20.7ms\n",
      "999:\tlearn: 0.3809047\ttotal: 20.7s\tremaining: 0us\n"
     ]
    },
    {
     "data": {
      "text/plain": [
       "<catboost.core.CatBoostRegressor at 0x192bd789ca0>"
      ]
     },
     "execution_count": 96,
     "metadata": {},
     "output_type": "execute_result"
    }
   ],
   "source": [
    "model = CatBoostRegressor()\n",
    "model.fit(x_train_21, y_train_21)"
   ]
  },
  {
   "cell_type": "code",
   "execution_count": 97,
   "id": "2541db2b",
   "metadata": {},
   "outputs": [
    {
     "name": "stdout",
     "output_type": "stream",
     "text": [
      "MSE for CatBoost 2021 is: 0.14843913376794593\n"
     ]
    }
   ],
   "source": [
    "y_pred_21 = model.predict(x_test_21)\n",
    "# Calculation of Mean Squared Error (MSE)\n",
    "mse = mean_squared_error(y_test_21, y_pred_21)\n",
    "print('MSE for CatBoost 2021 is: ' + str(mse))"
   ]
  },
  {
   "cell_type": "code",
   "execution_count": 98,
   "id": "745d9507",
   "metadata": {},
   "outputs": [
    {
     "name": "stdout",
     "output_type": "stream",
     "text": [
      "Accuracy of properties at +- 10% of actual prices is 0.33705583756345175\n"
     ]
    }
   ],
   "source": [
    "acc = accuracy_threshold(y_test_21, y_pred_21, 0.1)\n",
    "print('Accuracy of properties at +- 10% of actual prices is ' + str(acc))"
   ]
  },
  {
   "cell_type": "code",
   "execution_count": 99,
   "id": "99227aa2",
   "metadata": {},
   "outputs": [
    {
     "name": "stdout",
     "output_type": "stream",
     "text": [
      "Median Absolute Error:\n",
      "\n",
      "0.1674569607399654\n"
     ]
    }
   ],
   "source": [
    "median_se = np.square(np.subtract(y_test_21, y_pred_21)).median() \n",
    " \n",
    "med = math.sqrt(median_se)\n",
    "print(\"Median Absolute Error:\\n\")\n",
    "print(med)"
   ]
  },
  {
   "cell_type": "code",
   "execution_count": 100,
   "id": "f51d9a36",
   "metadata": {},
   "outputs": [
    {
     "name": "stdout",
     "output_type": "stream",
     "text": [
      "Root Mean Square Error:\n",
      "\n",
      "0.38527799543699076\n"
     ]
    }
   ],
   "source": [
    "mean = np.square(np.subtract(y_test_21, y_pred_21)).mean() \n",
    " \n",
    "mean = math.sqrt(mean)\n",
    "print(\"Root Mean Square Error:\\n\")\n",
    "print(mean)"
   ]
  },
  {
   "cell_type": "code",
   "execution_count": 101,
   "id": "6cf9500d",
   "metadata": {},
   "outputs": [
    {
     "name": "stdout",
     "output_type": "stream",
     "text": [
      "MAPE for CatBoost 2021 is: 0.021302409452900472\n"
     ]
    }
   ],
   "source": [
    "mape = mean_absolute_percentage_error(y_test_21, y_pred_21)\n",
    "print(\"MAPE for CatBoost 2021 is: \" + str(mape))"
   ]
  },
  {
   "cell_type": "code",
   "execution_count": 102,
   "id": "e9b65a1c",
   "metadata": {},
   "outputs": [],
   "source": [
    "cnames=['Algorithm', 'Year', 'RMSE', 'MSE', 'MEDAE', 'Accuracy', 'MAPE']\n",
    "df3 = pd.DataFrame(columns=cnames)\n",
    "\n",
    "df3 = df3.append({'Algorithm': 'CatBoost',\n",
    "            'Year': 2021,\n",
    "           'RMSE': mean,\n",
    "           'MSE': mse,\n",
    "           'MEDAE': med,\n",
    "           'Accuracy': acc,\n",
    "           'MAPE': mape       \n",
    "          }, ignore_index=True)"
   ]
  },
  {
   "cell_type": "markdown",
   "id": "f395f049",
   "metadata": {},
   "source": [
    "#### 2020"
   ]
  },
  {
   "cell_type": "code",
   "execution_count": 103,
   "id": "3efced64",
   "metadata": {},
   "outputs": [
    {
     "name": "stdout",
     "output_type": "stream",
     "text": [
      "Learning rate set to 0.088823\n",
      "0:\tlearn: 0.7036399\ttotal: 43.5ms\tremaining: 43.4s\n",
      "1:\tlearn: 0.6659671\ttotal: 67ms\tremaining: 33.4s\n",
      "2:\tlearn: 0.6326637\ttotal: 90.6ms\tremaining: 30.1s\n",
      "3:\tlearn: 0.6033760\ttotal: 111ms\tremaining: 27.7s\n",
      "4:\tlearn: 0.5770086\ttotal: 138ms\tremaining: 27.6s\n",
      "5:\tlearn: 0.5541462\ttotal: 161ms\tremaining: 26.7s\n",
      "6:\tlearn: 0.5340416\ttotal: 184ms\tremaining: 26.1s\n",
      "7:\tlearn: 0.5168018\ttotal: 207ms\tremaining: 25.6s\n",
      "8:\tlearn: 0.5016249\ttotal: 233ms\tremaining: 25.6s\n",
      "9:\tlearn: 0.4884332\ttotal: 269ms\tremaining: 26.6s\n",
      "10:\tlearn: 0.4769483\ttotal: 301ms\tremaining: 27s\n",
      "11:\tlearn: 0.4669517\ttotal: 334ms\tremaining: 27.5s\n",
      "12:\tlearn: 0.4584211\ttotal: 367ms\tremaining: 27.8s\n",
      "13:\tlearn: 0.4510563\ttotal: 392ms\tremaining: 27.6s\n",
      "14:\tlearn: 0.4447521\ttotal: 420ms\tremaining: 27.6s\n",
      "15:\tlearn: 0.4392694\ttotal: 449ms\tremaining: 27.6s\n",
      "16:\tlearn: 0.4344994\ttotal: 472ms\tremaining: 27.3s\n",
      "17:\tlearn: 0.4305823\ttotal: 494ms\tremaining: 26.9s\n",
      "18:\tlearn: 0.4271445\ttotal: 527ms\tremaining: 27.2s\n",
      "19:\tlearn: 0.4242757\ttotal: 562ms\tremaining: 27.5s\n",
      "20:\tlearn: 0.4217874\ttotal: 587ms\tremaining: 27.4s\n",
      "21:\tlearn: 0.4195532\ttotal: 618ms\tremaining: 27.5s\n",
      "22:\tlearn: 0.4175807\ttotal: 641ms\tremaining: 27.2s\n",
      "23:\tlearn: 0.4159553\ttotal: 668ms\tremaining: 27.2s\n",
      "24:\tlearn: 0.4146131\ttotal: 698ms\tremaining: 27.2s\n",
      "25:\tlearn: 0.4133694\ttotal: 735ms\tremaining: 27.5s\n",
      "26:\tlearn: 0.4123150\ttotal: 766ms\tremaining: 27.6s\n",
      "27:\tlearn: 0.4114078\ttotal: 795ms\tremaining: 27.6s\n",
      "28:\tlearn: 0.4105820\ttotal: 834ms\tremaining: 27.9s\n",
      "29:\tlearn: 0.4098494\ttotal: 859ms\tremaining: 27.8s\n",
      "30:\tlearn: 0.4092553\ttotal: 882ms\tremaining: 27.6s\n",
      "31:\tlearn: 0.4086802\ttotal: 904ms\tremaining: 27.3s\n",
      "32:\tlearn: 0.4082110\ttotal: 924ms\tremaining: 27.1s\n",
      "33:\tlearn: 0.4077938\ttotal: 951ms\tremaining: 27s\n",
      "34:\tlearn: 0.4074155\ttotal: 972ms\tremaining: 26.8s\n",
      "35:\tlearn: 0.4070567\ttotal: 1s\tremaining: 26.8s\n",
      "36:\tlearn: 0.4067738\ttotal: 1.02s\tremaining: 26.6s\n",
      "37:\tlearn: 0.4064847\ttotal: 1.07s\tremaining: 27.1s\n",
      "38:\tlearn: 0.4062206\ttotal: 1.1s\tremaining: 27s\n",
      "39:\tlearn: 0.4059990\ttotal: 1.12s\tremaining: 27s\n",
      "40:\tlearn: 0.4058123\ttotal: 1.15s\tremaining: 26.8s\n",
      "41:\tlearn: 0.4056303\ttotal: 1.17s\tremaining: 26.8s\n",
      "42:\tlearn: 0.4054827\ttotal: 1.2s\tremaining: 26.6s\n",
      "43:\tlearn: 0.4053185\ttotal: 1.22s\tremaining: 26.5s\n",
      "44:\tlearn: 0.4051780\ttotal: 1.24s\tremaining: 26.4s\n",
      "45:\tlearn: 0.4050665\ttotal: 1.27s\tremaining: 26.3s\n",
      "46:\tlearn: 0.4049574\ttotal: 1.3s\tremaining: 26.3s\n",
      "47:\tlearn: 0.4048523\ttotal: 1.32s\tremaining: 26.3s\n",
      "48:\tlearn: 0.4047424\ttotal: 1.34s\tremaining: 26.1s\n",
      "49:\tlearn: 0.4046236\ttotal: 1.37s\tremaining: 26s\n",
      "50:\tlearn: 0.4045520\ttotal: 1.41s\tremaining: 26.2s\n",
      "51:\tlearn: 0.4044834\ttotal: 1.43s\tremaining: 26.1s\n",
      "52:\tlearn: 0.4044025\ttotal: 1.45s\tremaining: 26s\n",
      "53:\tlearn: 0.4043300\ttotal: 1.48s\tremaining: 25.9s\n",
      "54:\tlearn: 0.4042623\ttotal: 1.51s\tremaining: 25.9s\n",
      "55:\tlearn: 0.4041920\ttotal: 1.53s\tremaining: 25.9s\n",
      "56:\tlearn: 0.4040959\ttotal: 1.58s\tremaining: 26.1s\n",
      "57:\tlearn: 0.4039847\ttotal: 1.62s\tremaining: 26.3s\n",
      "58:\tlearn: 0.4038886\ttotal: 1.66s\tremaining: 26.5s\n",
      "59:\tlearn: 0.4038374\ttotal: 1.68s\tremaining: 26.4s\n",
      "60:\tlearn: 0.4037679\ttotal: 1.7s\tremaining: 26.2s\n",
      "61:\tlearn: 0.4036901\ttotal: 1.73s\tremaining: 26.1s\n",
      "62:\tlearn: 0.4036415\ttotal: 1.75s\tremaining: 26s\n",
      "63:\tlearn: 0.4036099\ttotal: 1.78s\tremaining: 26s\n",
      "64:\tlearn: 0.4035386\ttotal: 1.8s\tremaining: 25.9s\n",
      "65:\tlearn: 0.4034769\ttotal: 1.83s\tremaining: 25.9s\n",
      "66:\tlearn: 0.4034250\ttotal: 1.86s\tremaining: 25.9s\n",
      "67:\tlearn: 0.4033789\ttotal: 1.88s\tremaining: 25.8s\n",
      "68:\tlearn: 0.4033070\ttotal: 1.92s\tremaining: 25.9s\n",
      "69:\tlearn: 0.4032681\ttotal: 1.96s\tremaining: 26s\n",
      "70:\tlearn: 0.4031996\ttotal: 1.98s\tremaining: 25.9s\n",
      "71:\tlearn: 0.4031373\ttotal: 2s\tremaining: 25.8s\n",
      "72:\tlearn: 0.4030912\ttotal: 2.02s\tremaining: 25.7s\n",
      "73:\tlearn: 0.4030298\ttotal: 2.05s\tremaining: 25.7s\n",
      "74:\tlearn: 0.4030010\ttotal: 2.08s\tremaining: 25.6s\n",
      "75:\tlearn: 0.4029679\ttotal: 2.11s\tremaining: 25.7s\n",
      "76:\tlearn: 0.4029335\ttotal: 2.14s\tremaining: 25.6s\n",
      "77:\tlearn: 0.4029070\ttotal: 2.18s\tremaining: 25.8s\n",
      "78:\tlearn: 0.4028652\ttotal: 2.21s\tremaining: 25.7s\n",
      "79:\tlearn: 0.4028215\ttotal: 2.23s\tremaining: 25.7s\n",
      "80:\tlearn: 0.4027837\ttotal: 2.26s\tremaining: 25.6s\n",
      "81:\tlearn: 0.4027412\ttotal: 2.29s\tremaining: 25.6s\n",
      "82:\tlearn: 0.4026740\ttotal: 2.31s\tremaining: 25.5s\n",
      "83:\tlearn: 0.4026303\ttotal: 2.33s\tremaining: 25.4s\n",
      "84:\tlearn: 0.4025892\ttotal: 2.35s\tremaining: 25.3s\n",
      "85:\tlearn: 0.4025616\ttotal: 2.37s\tremaining: 25.2s\n",
      "86:\tlearn: 0.4025222\ttotal: 2.39s\tremaining: 25.1s\n",
      "87:\tlearn: 0.4024656\ttotal: 2.42s\tremaining: 25.1s\n",
      "88:\tlearn: 0.4023827\ttotal: 2.44s\tremaining: 25s\n",
      "89:\tlearn: 0.4023368\ttotal: 2.46s\tremaining: 24.9s\n",
      "90:\tlearn: 0.4022794\ttotal: 2.49s\tremaining: 24.8s\n",
      "91:\tlearn: 0.4022298\ttotal: 2.51s\tremaining: 24.8s\n",
      "92:\tlearn: 0.4021868\ttotal: 2.55s\tremaining: 24.8s\n",
      "93:\tlearn: 0.4021819\ttotal: 2.57s\tremaining: 24.7s\n",
      "94:\tlearn: 0.4021552\ttotal: 2.61s\tremaining: 24.8s\n",
      "95:\tlearn: 0.4021256\ttotal: 2.64s\tremaining: 24.9s\n",
      "96:\tlearn: 0.4020904\ttotal: 2.67s\tremaining: 24.9s\n",
      "97:\tlearn: 0.4020603\ttotal: 2.7s\tremaining: 24.8s\n",
      "98:\tlearn: 0.4020106\ttotal: 2.72s\tremaining: 24.7s\n",
      "99:\tlearn: 0.4019793\ttotal: 2.74s\tremaining: 24.6s\n",
      "100:\tlearn: 0.4019355\ttotal: 2.76s\tremaining: 24.5s\n",
      "101:\tlearn: 0.4019091\ttotal: 2.78s\tremaining: 24.5s\n",
      "102:\tlearn: 0.4018499\ttotal: 2.84s\tremaining: 24.8s\n",
      "103:\tlearn: 0.4018229\ttotal: 2.9s\tremaining: 24.9s\n",
      "104:\tlearn: 0.4017778\ttotal: 2.95s\tremaining: 25.2s\n",
      "105:\tlearn: 0.4017657\ttotal: 3.02s\tremaining: 25.5s\n",
      "106:\tlearn: 0.4017193\ttotal: 3.08s\tremaining: 25.7s\n",
      "107:\tlearn: 0.4016571\ttotal: 3.13s\tremaining: 25.9s\n",
      "108:\tlearn: 0.4016317\ttotal: 3.19s\tremaining: 26.1s\n",
      "109:\tlearn: 0.4016006\ttotal: 3.25s\tremaining: 26.3s\n",
      "110:\tlearn: 0.4015426\ttotal: 3.3s\tremaining: 26.4s\n",
      "111:\tlearn: 0.4015231\ttotal: 3.35s\tremaining: 26.6s\n",
      "112:\tlearn: 0.4014896\ttotal: 3.41s\tremaining: 26.8s\n",
      "113:\tlearn: 0.4014785\ttotal: 3.46s\tremaining: 26.9s\n",
      "114:\tlearn: 0.4014271\ttotal: 3.51s\tremaining: 27s\n",
      "115:\tlearn: 0.4013998\ttotal: 3.54s\tremaining: 27s\n",
      "116:\tlearn: 0.4013599\ttotal: 3.56s\tremaining: 26.9s\n",
      "117:\tlearn: 0.4013224\ttotal: 3.59s\tremaining: 26.9s\n",
      "118:\tlearn: 0.4012882\ttotal: 3.64s\tremaining: 27s\n",
      "119:\tlearn: 0.4012645\ttotal: 3.68s\tremaining: 27s\n",
      "120:\tlearn: 0.4012404\ttotal: 3.71s\tremaining: 27s\n",
      "121:\tlearn: 0.4012198\ttotal: 3.73s\tremaining: 26.9s\n",
      "122:\tlearn: 0.4011998\ttotal: 3.75s\tremaining: 26.8s\n",
      "123:\tlearn: 0.4011669\ttotal: 3.78s\tremaining: 26.7s\n",
      "124:\tlearn: 0.4011228\ttotal: 3.8s\tremaining: 26.6s\n",
      "125:\tlearn: 0.4010944\ttotal: 3.82s\tremaining: 26.5s\n",
      "126:\tlearn: 0.4010566\ttotal: 3.85s\tremaining: 26.4s\n",
      "127:\tlearn: 0.4010386\ttotal: 3.87s\tremaining: 26.3s\n",
      "128:\tlearn: 0.4009968\ttotal: 3.89s\tremaining: 26.3s\n",
      "129:\tlearn: 0.4009748\ttotal: 3.91s\tremaining: 26.2s\n",
      "130:\tlearn: 0.4009503\ttotal: 3.93s\tremaining: 26.1s\n",
      "131:\tlearn: 0.4009140\ttotal: 3.95s\tremaining: 26s\n",
      "132:\tlearn: 0.4008845\ttotal: 3.97s\tremaining: 25.9s\n",
      "133:\tlearn: 0.4008644\ttotal: 4s\tremaining: 25.8s\n",
      "134:\tlearn: 0.4008256\ttotal: 4.02s\tremaining: 25.7s\n",
      "135:\tlearn: 0.4007857\ttotal: 4.04s\tremaining: 25.6s\n",
      "136:\tlearn: 0.4007557\ttotal: 4.05s\tremaining: 25.5s\n",
      "137:\tlearn: 0.4007324\ttotal: 4.07s\tremaining: 25.4s\n",
      "138:\tlearn: 0.4007044\ttotal: 4.08s\tremaining: 25.3s\n",
      "139:\tlearn: 0.4006776\ttotal: 4.1s\tremaining: 25.2s\n",
      "140:\tlearn: 0.4006613\ttotal: 4.12s\tremaining: 25.1s\n",
      "141:\tlearn: 0.4006263\ttotal: 4.14s\tremaining: 25s\n",
      "142:\tlearn: 0.4005983\ttotal: 4.19s\tremaining: 25.1s\n",
      "143:\tlearn: 0.4005670\ttotal: 4.21s\tremaining: 25s\n",
      "144:\tlearn: 0.4005265\ttotal: 4.24s\tremaining: 25s\n",
      "145:\tlearn: 0.4004904\ttotal: 4.26s\tremaining: 24.9s\n",
      "146:\tlearn: 0.4004481\ttotal: 4.27s\tremaining: 24.8s\n",
      "147:\tlearn: 0.4004228\ttotal: 4.29s\tremaining: 24.7s\n",
      "148:\tlearn: 0.4004073\ttotal: 4.31s\tremaining: 24.6s\n",
      "149:\tlearn: 0.4003880\ttotal: 4.33s\tremaining: 24.5s\n",
      "150:\tlearn: 0.4003664\ttotal: 4.35s\tremaining: 24.5s\n",
      "151:\tlearn: 0.4003488\ttotal: 4.38s\tremaining: 24.4s\n",
      "152:\tlearn: 0.4003118\ttotal: 4.4s\tremaining: 24.4s\n",
      "153:\tlearn: 0.4002940\ttotal: 4.42s\tremaining: 24.3s\n",
      "154:\tlearn: 0.4002770\ttotal: 4.44s\tremaining: 24.2s\n",
      "155:\tlearn: 0.4002331\ttotal: 4.46s\tremaining: 24.2s\n",
      "156:\tlearn: 0.4002179\ttotal: 4.49s\tremaining: 24.1s\n",
      "157:\tlearn: 0.4001603\ttotal: 4.51s\tremaining: 24s\n",
      "158:\tlearn: 0.4001414\ttotal: 4.53s\tremaining: 24s\n",
      "159:\tlearn: 0.4001178\ttotal: 4.55s\tremaining: 23.9s\n",
      "160:\tlearn: 0.4000840\ttotal: 4.58s\tremaining: 23.8s\n"
     ]
    },
    {
     "name": "stdout",
     "output_type": "stream",
     "text": [
      "161:\tlearn: 0.4000343\ttotal: 4.6s\tremaining: 23.8s\n",
      "162:\tlearn: 0.3999875\ttotal: 4.62s\tremaining: 23.7s\n",
      "163:\tlearn: 0.3999439\ttotal: 4.64s\tremaining: 23.7s\n",
      "164:\tlearn: 0.3999280\ttotal: 4.67s\tremaining: 23.6s\n",
      "165:\tlearn: 0.3999075\ttotal: 4.68s\tremaining: 23.5s\n",
      "166:\tlearn: 0.3998637\ttotal: 4.7s\tremaining: 23.4s\n",
      "167:\tlearn: 0.3998497\ttotal: 4.72s\tremaining: 23.4s\n",
      "168:\tlearn: 0.3998246\ttotal: 4.75s\tremaining: 23.3s\n",
      "169:\tlearn: 0.3998035\ttotal: 4.77s\tremaining: 23.3s\n",
      "170:\tlearn: 0.3997837\ttotal: 4.79s\tremaining: 23.2s\n",
      "171:\tlearn: 0.3997478\ttotal: 4.82s\tremaining: 23.2s\n",
      "172:\tlearn: 0.3997087\ttotal: 4.84s\tremaining: 23.1s\n",
      "173:\tlearn: 0.3996799\ttotal: 4.86s\tremaining: 23.1s\n",
      "174:\tlearn: 0.3996579\ttotal: 4.87s\tremaining: 23s\n",
      "175:\tlearn: 0.3996429\ttotal: 4.89s\tremaining: 22.9s\n",
      "176:\tlearn: 0.3996278\ttotal: 4.91s\tremaining: 22.8s\n",
      "177:\tlearn: 0.3996052\ttotal: 4.93s\tremaining: 22.8s\n",
      "178:\tlearn: 0.3995775\ttotal: 4.95s\tremaining: 22.7s\n",
      "179:\tlearn: 0.3995347\ttotal: 4.97s\tremaining: 22.6s\n",
      "180:\tlearn: 0.3995210\ttotal: 4.99s\tremaining: 22.6s\n",
      "181:\tlearn: 0.3995080\ttotal: 5s\tremaining: 22.5s\n",
      "182:\tlearn: 0.3994892\ttotal: 5.02s\tremaining: 22.4s\n",
      "183:\tlearn: 0.3994708\ttotal: 5.04s\tremaining: 22.3s\n",
      "184:\tlearn: 0.3994418\ttotal: 5.06s\tremaining: 22.3s\n",
      "185:\tlearn: 0.3994253\ttotal: 5.08s\tremaining: 22.2s\n",
      "186:\tlearn: 0.3993906\ttotal: 5.1s\tremaining: 22.2s\n",
      "187:\tlearn: 0.3993694\ttotal: 5.12s\tremaining: 22.1s\n",
      "188:\tlearn: 0.3993412\ttotal: 5.14s\tremaining: 22.1s\n",
      "189:\tlearn: 0.3993292\ttotal: 5.16s\tremaining: 22s\n",
      "190:\tlearn: 0.3992891\ttotal: 5.18s\tremaining: 21.9s\n",
      "191:\tlearn: 0.3992521\ttotal: 5.19s\tremaining: 21.9s\n",
      "192:\tlearn: 0.3992320\ttotal: 5.21s\tremaining: 21.8s\n",
      "193:\tlearn: 0.3992089\ttotal: 5.24s\tremaining: 21.8s\n",
      "194:\tlearn: 0.3991507\ttotal: 5.27s\tremaining: 21.7s\n",
      "195:\tlearn: 0.3991244\ttotal: 5.29s\tremaining: 21.7s\n",
      "196:\tlearn: 0.3990956\ttotal: 5.31s\tremaining: 21.6s\n",
      "197:\tlearn: 0.3990810\ttotal: 5.33s\tremaining: 21.6s\n",
      "198:\tlearn: 0.3990665\ttotal: 5.35s\tremaining: 21.5s\n",
      "199:\tlearn: 0.3990497\ttotal: 5.38s\tremaining: 21.5s\n",
      "200:\tlearn: 0.3990345\ttotal: 5.4s\tremaining: 21.5s\n",
      "201:\tlearn: 0.3990174\ttotal: 5.43s\tremaining: 21.4s\n",
      "202:\tlearn: 0.3989620\ttotal: 5.46s\tremaining: 21.4s\n",
      "203:\tlearn: 0.3989309\ttotal: 5.49s\tremaining: 21.4s\n",
      "204:\tlearn: 0.3989114\ttotal: 5.51s\tremaining: 21.4s\n",
      "205:\tlearn: 0.3988782\ttotal: 5.54s\tremaining: 21.4s\n",
      "206:\tlearn: 0.3988615\ttotal: 5.57s\tremaining: 21.3s\n",
      "207:\tlearn: 0.3988329\ttotal: 5.59s\tremaining: 21.3s\n",
      "208:\tlearn: 0.3987975\ttotal: 5.62s\tremaining: 21.3s\n",
      "209:\tlearn: 0.3987640\ttotal: 5.63s\tremaining: 21.2s\n",
      "210:\tlearn: 0.3987369\ttotal: 5.66s\tremaining: 21.2s\n",
      "211:\tlearn: 0.3987146\ttotal: 5.68s\tremaining: 21.1s\n",
      "212:\tlearn: 0.3986998\ttotal: 5.7s\tremaining: 21.1s\n",
      "213:\tlearn: 0.3986770\ttotal: 5.73s\tremaining: 21s\n",
      "214:\tlearn: 0.3986366\ttotal: 5.77s\tremaining: 21.1s\n",
      "215:\tlearn: 0.3986193\ttotal: 5.82s\tremaining: 21.1s\n",
      "216:\tlearn: 0.3986018\ttotal: 5.85s\tremaining: 21.1s\n",
      "217:\tlearn: 0.3985650\ttotal: 5.88s\tremaining: 21.1s\n",
      "218:\tlearn: 0.3985413\ttotal: 5.92s\tremaining: 21.1s\n",
      "219:\tlearn: 0.3985136\ttotal: 5.95s\tremaining: 21.1s\n",
      "220:\tlearn: 0.3984957\ttotal: 5.97s\tremaining: 21s\n",
      "221:\tlearn: 0.3984792\ttotal: 6s\tremaining: 21s\n",
      "222:\tlearn: 0.3984592\ttotal: 6.02s\tremaining: 21s\n",
      "223:\tlearn: 0.3984374\ttotal: 6.05s\tremaining: 21s\n",
      "224:\tlearn: 0.3984177\ttotal: 6.07s\tremaining: 20.9s\n",
      "225:\tlearn: 0.3983921\ttotal: 6.09s\tremaining: 20.9s\n",
      "226:\tlearn: 0.3983695\ttotal: 6.12s\tremaining: 20.8s\n",
      "227:\tlearn: 0.3983588\ttotal: 6.14s\tremaining: 20.8s\n",
      "228:\tlearn: 0.3983323\ttotal: 6.17s\tremaining: 20.8s\n",
      "229:\tlearn: 0.3983109\ttotal: 6.19s\tremaining: 20.7s\n",
      "230:\tlearn: 0.3982828\ttotal: 6.21s\tremaining: 20.7s\n",
      "231:\tlearn: 0.3982640\ttotal: 6.23s\tremaining: 20.6s\n",
      "232:\tlearn: 0.3982492\ttotal: 6.26s\tremaining: 20.6s\n",
      "233:\tlearn: 0.3982175\ttotal: 6.31s\tremaining: 20.7s\n",
      "234:\tlearn: 0.3981724\ttotal: 6.36s\tremaining: 20.7s\n",
      "235:\tlearn: 0.3981409\ttotal: 6.38s\tremaining: 20.7s\n",
      "236:\tlearn: 0.3981055\ttotal: 6.42s\tremaining: 20.7s\n",
      "237:\tlearn: 0.3980754\ttotal: 6.55s\tremaining: 21s\n",
      "238:\tlearn: 0.3980593\ttotal: 6.61s\tremaining: 21s\n",
      "239:\tlearn: 0.3980208\ttotal: 6.65s\tremaining: 21s\n",
      "240:\tlearn: 0.3979905\ttotal: 6.68s\tremaining: 21s\n",
      "241:\tlearn: 0.3979669\ttotal: 6.7s\tremaining: 21s\n",
      "242:\tlearn: 0.3979501\ttotal: 6.71s\tremaining: 20.9s\n",
      "243:\tlearn: 0.3979338\ttotal: 6.73s\tremaining: 20.8s\n",
      "244:\tlearn: 0.3979138\ttotal: 6.74s\tremaining: 20.8s\n",
      "245:\tlearn: 0.3978956\ttotal: 6.76s\tremaining: 20.7s\n",
      "246:\tlearn: 0.3978752\ttotal: 6.79s\tremaining: 20.7s\n",
      "247:\tlearn: 0.3978538\ttotal: 6.81s\tremaining: 20.7s\n",
      "248:\tlearn: 0.3978238\ttotal: 6.83s\tremaining: 20.6s\n",
      "249:\tlearn: 0.3978110\ttotal: 6.85s\tremaining: 20.6s\n",
      "250:\tlearn: 0.3977981\ttotal: 6.88s\tremaining: 20.5s\n",
      "251:\tlearn: 0.3977663\ttotal: 6.9s\tremaining: 20.5s\n",
      "252:\tlearn: 0.3977468\ttotal: 6.92s\tremaining: 20.4s\n",
      "253:\tlearn: 0.3977164\ttotal: 6.93s\tremaining: 20.4s\n",
      "254:\tlearn: 0.3977001\ttotal: 6.95s\tremaining: 20.3s\n",
      "255:\tlearn: 0.3976761\ttotal: 6.97s\tremaining: 20.3s\n",
      "256:\tlearn: 0.3976209\ttotal: 6.99s\tremaining: 20.2s\n",
      "257:\tlearn: 0.3975783\ttotal: 7.01s\tremaining: 20.2s\n",
      "258:\tlearn: 0.3975425\ttotal: 7.04s\tremaining: 20.1s\n",
      "259:\tlearn: 0.3975123\ttotal: 7.07s\tremaining: 20.1s\n",
      "260:\tlearn: 0.3974959\ttotal: 7.1s\tremaining: 20.1s\n",
      "261:\tlearn: 0.3974868\ttotal: 7.12s\tremaining: 20.1s\n",
      "262:\tlearn: 0.3974722\ttotal: 7.14s\tremaining: 20s\n",
      "263:\tlearn: 0.3974580\ttotal: 7.17s\tremaining: 20s\n",
      "264:\tlearn: 0.3974303\ttotal: 7.22s\tremaining: 20s\n",
      "265:\tlearn: 0.3974203\ttotal: 7.25s\tremaining: 20s\n",
      "266:\tlearn: 0.3973849\ttotal: 7.28s\tremaining: 20s\n",
      "267:\tlearn: 0.3973699\ttotal: 7.31s\tremaining: 20s\n",
      "268:\tlearn: 0.3973453\ttotal: 7.35s\tremaining: 20s\n",
      "269:\tlearn: 0.3973289\ttotal: 7.39s\tremaining: 20s\n",
      "270:\tlearn: 0.3973059\ttotal: 7.45s\tremaining: 20s\n",
      "271:\tlearn: 0.3972914\ttotal: 7.49s\tremaining: 20s\n",
      "272:\tlearn: 0.3972673\ttotal: 7.51s\tremaining: 20s\n",
      "273:\tlearn: 0.3972553\ttotal: 7.54s\tremaining: 20s\n",
      "274:\tlearn: 0.3972279\ttotal: 7.57s\tremaining: 19.9s\n",
      "275:\tlearn: 0.3972172\ttotal: 7.59s\tremaining: 19.9s\n",
      "276:\tlearn: 0.3972055\ttotal: 7.61s\tremaining: 19.9s\n",
      "277:\tlearn: 0.3971829\ttotal: 7.63s\tremaining: 19.8s\n",
      "278:\tlearn: 0.3971604\ttotal: 7.67s\tremaining: 19.8s\n",
      "279:\tlearn: 0.3971498\ttotal: 7.7s\tremaining: 19.8s\n",
      "280:\tlearn: 0.3971269\ttotal: 7.73s\tremaining: 19.8s\n",
      "281:\tlearn: 0.3971038\ttotal: 7.75s\tremaining: 19.7s\n",
      "282:\tlearn: 0.3970820\ttotal: 7.77s\tremaining: 19.7s\n",
      "283:\tlearn: 0.3970565\ttotal: 7.79s\tremaining: 19.6s\n",
      "284:\tlearn: 0.3970378\ttotal: 7.82s\tremaining: 19.6s\n",
      "285:\tlearn: 0.3970061\ttotal: 7.84s\tremaining: 19.6s\n",
      "286:\tlearn: 0.3969894\ttotal: 7.87s\tremaining: 19.5s\n",
      "287:\tlearn: 0.3969599\ttotal: 7.92s\tremaining: 19.6s\n",
      "288:\tlearn: 0.3969306\ttotal: 7.97s\tremaining: 19.6s\n",
      "289:\tlearn: 0.3969214\ttotal: 7.99s\tremaining: 19.6s\n",
      "290:\tlearn: 0.3969001\ttotal: 8.01s\tremaining: 19.5s\n",
      "291:\tlearn: 0.3968746\ttotal: 8.03s\tremaining: 19.5s\n",
      "292:\tlearn: 0.3968552\ttotal: 8.04s\tremaining: 19.4s\n",
      "293:\tlearn: 0.3968330\ttotal: 8.06s\tremaining: 19.3s\n",
      "294:\tlearn: 0.3968105\ttotal: 8.07s\tremaining: 19.3s\n",
      "295:\tlearn: 0.3968006\ttotal: 8.09s\tremaining: 19.2s\n",
      "296:\tlearn: 0.3967655\ttotal: 8.1s\tremaining: 19.2s\n",
      "297:\tlearn: 0.3967461\ttotal: 8.12s\tremaining: 19.1s\n",
      "298:\tlearn: 0.3967370\ttotal: 8.14s\tremaining: 19.1s\n",
      "299:\tlearn: 0.3966976\ttotal: 8.25s\tremaining: 19.2s\n",
      "300:\tlearn: 0.3966870\ttotal: 8.29s\tremaining: 19.3s\n",
      "301:\tlearn: 0.3966701\ttotal: 8.32s\tremaining: 19.2s\n",
      "302:\tlearn: 0.3966475\ttotal: 8.36s\tremaining: 19.2s\n",
      "303:\tlearn: 0.3966263\ttotal: 8.38s\tremaining: 19.2s\n",
      "304:\tlearn: 0.3966057\ttotal: 8.4s\tremaining: 19.1s\n",
      "305:\tlearn: 0.3965918\ttotal: 8.43s\tremaining: 19.1s\n",
      "306:\tlearn: 0.3965649\ttotal: 8.47s\tremaining: 19.1s\n",
      "307:\tlearn: 0.3965394\ttotal: 8.52s\tremaining: 19.2s\n",
      "308:\tlearn: 0.3965288\ttotal: 8.55s\tremaining: 19.1s\n",
      "309:\tlearn: 0.3965136\ttotal: 8.58s\tremaining: 19.1s\n",
      "310:\tlearn: 0.3965041\ttotal: 8.61s\tremaining: 19.1s\n",
      "311:\tlearn: 0.3964854\ttotal: 8.65s\tremaining: 19.1s\n",
      "312:\tlearn: 0.3964664\ttotal: 8.71s\tremaining: 19.1s\n",
      "313:\tlearn: 0.3964503\ttotal: 8.79s\tremaining: 19.2s\n",
      "314:\tlearn: 0.3964378\ttotal: 8.86s\tremaining: 19.3s\n",
      "315:\tlearn: 0.3964191\ttotal: 8.94s\tremaining: 19.3s\n",
      "316:\tlearn: 0.3964005\ttotal: 9.04s\tremaining: 19.5s\n",
      "317:\tlearn: 0.3963860\ttotal: 9.1s\tremaining: 19.5s\n",
      "318:\tlearn: 0.3963586\ttotal: 9.14s\tremaining: 19.5s\n",
      "319:\tlearn: 0.3963488\ttotal: 9.17s\tremaining: 19.5s\n",
      "320:\tlearn: 0.3963374\ttotal: 9.19s\tremaining: 19.4s\n",
      "321:\tlearn: 0.3963194\ttotal: 9.21s\tremaining: 19.4s\n",
      "322:\tlearn: 0.3962888\ttotal: 9.24s\tremaining: 19.4s\n",
      "323:\tlearn: 0.3962704\ttotal: 9.26s\tremaining: 19.3s\n",
      "324:\tlearn: 0.3962539\ttotal: 9.28s\tremaining: 19.3s\n",
      "325:\tlearn: 0.3962387\ttotal: 9.31s\tremaining: 19.2s\n",
      "326:\tlearn: 0.3962286\ttotal: 9.32s\tremaining: 19.2s\n",
      "327:\tlearn: 0.3962110\ttotal: 9.34s\tremaining: 19.1s\n"
     ]
    },
    {
     "name": "stdout",
     "output_type": "stream",
     "text": [
      "328:\tlearn: 0.3961998\ttotal: 9.35s\tremaining: 19.1s\n",
      "329:\tlearn: 0.3961848\ttotal: 9.37s\tremaining: 19s\n",
      "330:\tlearn: 0.3961713\ttotal: 9.39s\tremaining: 19s\n",
      "331:\tlearn: 0.3961644\ttotal: 9.41s\tremaining: 18.9s\n",
      "332:\tlearn: 0.3961470\ttotal: 9.42s\tremaining: 18.9s\n",
      "333:\tlearn: 0.3961340\ttotal: 9.44s\tremaining: 18.8s\n",
      "334:\tlearn: 0.3961212\ttotal: 9.46s\tremaining: 18.8s\n",
      "335:\tlearn: 0.3961159\ttotal: 9.47s\tremaining: 18.7s\n",
      "336:\tlearn: 0.3960907\ttotal: 9.49s\tremaining: 18.7s\n",
      "337:\tlearn: 0.3960702\ttotal: 9.51s\tremaining: 18.6s\n",
      "338:\tlearn: 0.3960566\ttotal: 9.53s\tremaining: 18.6s\n",
      "339:\tlearn: 0.3960421\ttotal: 9.55s\tremaining: 18.5s\n",
      "340:\tlearn: 0.3960257\ttotal: 9.57s\tremaining: 18.5s\n",
      "341:\tlearn: 0.3960086\ttotal: 9.58s\tremaining: 18.4s\n",
      "342:\tlearn: 0.3959913\ttotal: 9.6s\tremaining: 18.4s\n",
      "343:\tlearn: 0.3959782\ttotal: 9.62s\tremaining: 18.3s\n",
      "344:\tlearn: 0.3959667\ttotal: 9.63s\tremaining: 18.3s\n",
      "345:\tlearn: 0.3959419\ttotal: 9.65s\tremaining: 18.2s\n",
      "346:\tlearn: 0.3959197\ttotal: 9.66s\tremaining: 18.2s\n",
      "347:\tlearn: 0.3958939\ttotal: 9.68s\tremaining: 18.1s\n",
      "348:\tlearn: 0.3958838\ttotal: 9.7s\tremaining: 18.1s\n",
      "349:\tlearn: 0.3958714\ttotal: 9.71s\tremaining: 18s\n",
      "350:\tlearn: 0.3958416\ttotal: 9.73s\tremaining: 18s\n",
      "351:\tlearn: 0.3958275\ttotal: 9.74s\tremaining: 17.9s\n",
      "352:\tlearn: 0.3958095\ttotal: 9.76s\tremaining: 17.9s\n",
      "353:\tlearn: 0.3957697\ttotal: 9.78s\tremaining: 17.8s\n",
      "354:\tlearn: 0.3957442\ttotal: 9.8s\tremaining: 17.8s\n",
      "355:\tlearn: 0.3957186\ttotal: 9.82s\tremaining: 17.8s\n",
      "356:\tlearn: 0.3956992\ttotal: 9.84s\tremaining: 17.7s\n",
      "357:\tlearn: 0.3956868\ttotal: 9.87s\tremaining: 17.7s\n",
      "358:\tlearn: 0.3956820\ttotal: 9.88s\tremaining: 17.7s\n",
      "359:\tlearn: 0.3956694\ttotal: 9.9s\tremaining: 17.6s\n",
      "360:\tlearn: 0.3956601\ttotal: 9.93s\tremaining: 17.6s\n",
      "361:\tlearn: 0.3956487\ttotal: 9.94s\tremaining: 17.5s\n",
      "362:\tlearn: 0.3956340\ttotal: 9.96s\tremaining: 17.5s\n",
      "363:\tlearn: 0.3956204\ttotal: 9.99s\tremaining: 17.4s\n",
      "364:\tlearn: 0.3956106\ttotal: 10s\tremaining: 17.4s\n",
      "365:\tlearn: 0.3955858\ttotal: 10s\tremaining: 17.4s\n",
      "366:\tlearn: 0.3955734\ttotal: 10.1s\tremaining: 17.4s\n",
      "367:\tlearn: 0.3955628\ttotal: 10.1s\tremaining: 17.3s\n",
      "368:\tlearn: 0.3955465\ttotal: 10.1s\tremaining: 17.3s\n",
      "369:\tlearn: 0.3955372\ttotal: 10.1s\tremaining: 17.2s\n",
      "370:\tlearn: 0.3955244\ttotal: 10.1s\tremaining: 17.2s\n",
      "371:\tlearn: 0.3955061\ttotal: 10.2s\tremaining: 17.1s\n",
      "372:\tlearn: 0.3954803\ttotal: 10.2s\tremaining: 17.1s\n",
      "373:\tlearn: 0.3954640\ttotal: 10.2s\tremaining: 17.1s\n",
      "374:\tlearn: 0.3954457\ttotal: 10.2s\tremaining: 17s\n",
      "375:\tlearn: 0.3954213\ttotal: 10.2s\tremaining: 17s\n",
      "376:\tlearn: 0.3954053\ttotal: 10.3s\tremaining: 17s\n",
      "377:\tlearn: 0.3953923\ttotal: 10.3s\tremaining: 16.9s\n",
      "378:\tlearn: 0.3953772\ttotal: 10.3s\tremaining: 16.9s\n",
      "379:\tlearn: 0.3953650\ttotal: 10.3s\tremaining: 16.8s\n",
      "380:\tlearn: 0.3953514\ttotal: 10.3s\tremaining: 16.8s\n",
      "381:\tlearn: 0.3953273\ttotal: 10.4s\tremaining: 16.8s\n",
      "382:\tlearn: 0.3953100\ttotal: 10.4s\tremaining: 16.7s\n",
      "383:\tlearn: 0.3952904\ttotal: 10.4s\tremaining: 16.7s\n",
      "384:\tlearn: 0.3952806\ttotal: 10.4s\tremaining: 16.6s\n",
      "385:\tlearn: 0.3952592\ttotal: 10.4s\tremaining: 16.6s\n",
      "386:\tlearn: 0.3952462\ttotal: 10.4s\tremaining: 16.5s\n",
      "387:\tlearn: 0.3952389\ttotal: 10.5s\tremaining: 16.5s\n",
      "388:\tlearn: 0.3952202\ttotal: 10.5s\tremaining: 16.5s\n",
      "389:\tlearn: 0.3951950\ttotal: 10.5s\tremaining: 16.4s\n",
      "390:\tlearn: 0.3951774\ttotal: 10.5s\tremaining: 16.4s\n",
      "391:\tlearn: 0.3951657\ttotal: 10.5s\tremaining: 16.4s\n",
      "392:\tlearn: 0.3951559\ttotal: 10.6s\tremaining: 16.3s\n",
      "393:\tlearn: 0.3951440\ttotal: 10.6s\tremaining: 16.3s\n",
      "394:\tlearn: 0.3951292\ttotal: 10.6s\tremaining: 16.2s\n",
      "395:\tlearn: 0.3951168\ttotal: 10.6s\tremaining: 16.2s\n",
      "396:\tlearn: 0.3951051\ttotal: 10.6s\tremaining: 16.1s\n",
      "397:\tlearn: 0.3950842\ttotal: 10.6s\tremaining: 16.1s\n",
      "398:\tlearn: 0.3950738\ttotal: 10.7s\tremaining: 16.1s\n",
      "399:\tlearn: 0.3950542\ttotal: 10.7s\tremaining: 16s\n",
      "400:\tlearn: 0.3950398\ttotal: 10.7s\tremaining: 16s\n",
      "401:\tlearn: 0.3950162\ttotal: 10.7s\tremaining: 15.9s\n",
      "402:\tlearn: 0.3950034\ttotal: 10.7s\tremaining: 15.9s\n",
      "403:\tlearn: 0.3949817\ttotal: 10.7s\tremaining: 15.9s\n",
      "404:\tlearn: 0.3949665\ttotal: 10.8s\tremaining: 15.8s\n",
      "405:\tlearn: 0.3949523\ttotal: 10.8s\tremaining: 15.8s\n",
      "406:\tlearn: 0.3949374\ttotal: 10.8s\tremaining: 15.7s\n",
      "407:\tlearn: 0.3949258\ttotal: 10.8s\tremaining: 15.7s\n",
      "408:\tlearn: 0.3949154\ttotal: 10.8s\tremaining: 15.6s\n",
      "409:\tlearn: 0.3949008\ttotal: 10.8s\tremaining: 15.6s\n",
      "410:\tlearn: 0.3948911\ttotal: 10.9s\tremaining: 15.6s\n",
      "411:\tlearn: 0.3948745\ttotal: 10.9s\tremaining: 15.5s\n",
      "412:\tlearn: 0.3948600\ttotal: 10.9s\tremaining: 15.5s\n",
      "413:\tlearn: 0.3948404\ttotal: 10.9s\tremaining: 15.4s\n",
      "414:\tlearn: 0.3948119\ttotal: 10.9s\tremaining: 15.4s\n",
      "415:\tlearn: 0.3948007\ttotal: 10.9s\tremaining: 15.4s\n",
      "416:\tlearn: 0.3947937\ttotal: 11s\tremaining: 15.3s\n",
      "417:\tlearn: 0.3947800\ttotal: 11s\tremaining: 15.3s\n",
      "418:\tlearn: 0.3947651\ttotal: 11s\tremaining: 15.3s\n",
      "419:\tlearn: 0.3947559\ttotal: 11.1s\tremaining: 15.3s\n",
      "420:\tlearn: 0.3947337\ttotal: 11.1s\tremaining: 15.3s\n",
      "421:\tlearn: 0.3947131\ttotal: 11.1s\tremaining: 15.2s\n",
      "422:\tlearn: 0.3946981\ttotal: 11.2s\tremaining: 15.2s\n",
      "423:\tlearn: 0.3946879\ttotal: 11.2s\tremaining: 15.2s\n",
      "424:\tlearn: 0.3946750\ttotal: 11.2s\tremaining: 15.2s\n",
      "425:\tlearn: 0.3946597\ttotal: 11.2s\tremaining: 15.1s\n",
      "426:\tlearn: 0.3946288\ttotal: 11.2s\tremaining: 15.1s\n",
      "427:\tlearn: 0.3946101\ttotal: 11.3s\tremaining: 15.1s\n",
      "428:\tlearn: 0.3945785\ttotal: 11.3s\tremaining: 15s\n",
      "429:\tlearn: 0.3945614\ttotal: 11.3s\tremaining: 15s\n",
      "430:\tlearn: 0.3945396\ttotal: 11.3s\tremaining: 14.9s\n",
      "431:\tlearn: 0.3945234\ttotal: 11.3s\tremaining: 14.9s\n",
      "432:\tlearn: 0.3944966\ttotal: 11.4s\tremaining: 14.9s\n",
      "433:\tlearn: 0.3944838\ttotal: 11.4s\tremaining: 14.8s\n",
      "434:\tlearn: 0.3944647\ttotal: 11.4s\tremaining: 14.8s\n",
      "435:\tlearn: 0.3944313\ttotal: 11.4s\tremaining: 14.7s\n",
      "436:\tlearn: 0.3944242\ttotal: 11.4s\tremaining: 14.7s\n",
      "437:\tlearn: 0.3944060\ttotal: 11.4s\tremaining: 14.7s\n",
      "438:\tlearn: 0.3943864\ttotal: 11.5s\tremaining: 14.6s\n",
      "439:\tlearn: 0.3943630\ttotal: 11.5s\tremaining: 14.6s\n",
      "440:\tlearn: 0.3943531\ttotal: 11.5s\tremaining: 14.6s\n",
      "441:\tlearn: 0.3943417\ttotal: 11.5s\tremaining: 14.5s\n",
      "442:\tlearn: 0.3943273\ttotal: 11.5s\tremaining: 14.5s\n",
      "443:\tlearn: 0.3943175\ttotal: 11.5s\tremaining: 14.5s\n",
      "444:\tlearn: 0.3942917\ttotal: 11.6s\tremaining: 14.4s\n",
      "445:\tlearn: 0.3942753\ttotal: 11.6s\tremaining: 14.4s\n",
      "446:\tlearn: 0.3942615\ttotal: 11.6s\tremaining: 14.4s\n",
      "447:\tlearn: 0.3942480\ttotal: 11.6s\tremaining: 14.3s\n",
      "448:\tlearn: 0.3942267\ttotal: 11.7s\tremaining: 14.3s\n",
      "449:\tlearn: 0.3942168\ttotal: 11.7s\tremaining: 14.3s\n",
      "450:\tlearn: 0.3941946\ttotal: 11.7s\tremaining: 14.2s\n",
      "451:\tlearn: 0.3941683\ttotal: 11.7s\tremaining: 14.2s\n",
      "452:\tlearn: 0.3941468\ttotal: 11.7s\tremaining: 14.2s\n",
      "453:\tlearn: 0.3941268\ttotal: 11.8s\tremaining: 14.1s\n",
      "454:\tlearn: 0.3941144\ttotal: 11.8s\tremaining: 14.1s\n",
      "455:\tlearn: 0.3941015\ttotal: 11.8s\tremaining: 14.1s\n",
      "456:\tlearn: 0.3940794\ttotal: 11.8s\tremaining: 14s\n",
      "457:\tlearn: 0.3940528\ttotal: 11.8s\tremaining: 14s\n",
      "458:\tlearn: 0.3940444\ttotal: 11.8s\tremaining: 14s\n",
      "459:\tlearn: 0.3940230\ttotal: 11.9s\tremaining: 13.9s\n",
      "460:\tlearn: 0.3940130\ttotal: 11.9s\tremaining: 13.9s\n",
      "461:\tlearn: 0.3939933\ttotal: 11.9s\tremaining: 13.9s\n",
      "462:\tlearn: 0.3939838\ttotal: 11.9s\tremaining: 13.8s\n",
      "463:\tlearn: 0.3939640\ttotal: 11.9s\tremaining: 13.8s\n",
      "464:\tlearn: 0.3939475\ttotal: 11.9s\tremaining: 13.7s\n",
      "465:\tlearn: 0.3939373\ttotal: 12s\tremaining: 13.7s\n",
      "466:\tlearn: 0.3939268\ttotal: 12s\tremaining: 13.7s\n",
      "467:\tlearn: 0.3939173\ttotal: 12s\tremaining: 13.6s\n",
      "468:\tlearn: 0.3938970\ttotal: 12s\tremaining: 13.6s\n",
      "469:\tlearn: 0.3938825\ttotal: 12s\tremaining: 13.6s\n",
      "470:\tlearn: 0.3938740\ttotal: 12.1s\tremaining: 13.6s\n",
      "471:\tlearn: 0.3938483\ttotal: 12.1s\tremaining: 13.5s\n",
      "472:\tlearn: 0.3938342\ttotal: 12.1s\tremaining: 13.5s\n",
      "473:\tlearn: 0.3938156\ttotal: 12.2s\tremaining: 13.5s\n",
      "474:\tlearn: 0.3937857\ttotal: 12.2s\tremaining: 13.5s\n",
      "475:\tlearn: 0.3937738\ttotal: 12.2s\tremaining: 13.5s\n",
      "476:\tlearn: 0.3937521\ttotal: 12.3s\tremaining: 13.4s\n",
      "477:\tlearn: 0.3937450\ttotal: 12.3s\tremaining: 13.4s\n",
      "478:\tlearn: 0.3937308\ttotal: 12.3s\tremaining: 13.4s\n",
      "479:\tlearn: 0.3937030\ttotal: 12.3s\tremaining: 13.3s\n",
      "480:\tlearn: 0.3936934\ttotal: 12.3s\tremaining: 13.3s\n",
      "481:\tlearn: 0.3936758\ttotal: 12.3s\tremaining: 13.3s\n",
      "482:\tlearn: 0.3936533\ttotal: 12.4s\tremaining: 13.3s\n",
      "483:\tlearn: 0.3936428\ttotal: 12.4s\tremaining: 13.2s\n",
      "484:\tlearn: 0.3936320\ttotal: 12.4s\tremaining: 13.2s\n",
      "485:\tlearn: 0.3936165\ttotal: 12.5s\tremaining: 13.2s\n",
      "486:\tlearn: 0.3935944\ttotal: 12.5s\tremaining: 13.2s\n",
      "487:\tlearn: 0.3935782\ttotal: 12.5s\tremaining: 13.2s\n",
      "488:\tlearn: 0.3935543\ttotal: 12.6s\tremaining: 13.1s\n",
      "489:\tlearn: 0.3935396\ttotal: 12.6s\tremaining: 13.1s\n",
      "490:\tlearn: 0.3935198\ttotal: 12.7s\tremaining: 13.1s\n"
     ]
    },
    {
     "name": "stdout",
     "output_type": "stream",
     "text": [
      "491:\tlearn: 0.3935049\ttotal: 12.7s\tremaining: 13.1s\n",
      "492:\tlearn: 0.3934915\ttotal: 12.7s\tremaining: 13.1s\n",
      "493:\tlearn: 0.3934707\ttotal: 12.8s\tremaining: 13.1s\n",
      "494:\tlearn: 0.3934545\ttotal: 12.8s\tremaining: 13.1s\n",
      "495:\tlearn: 0.3934198\ttotal: 12.8s\tremaining: 13s\n",
      "496:\tlearn: 0.3934058\ttotal: 12.9s\tremaining: 13s\n",
      "497:\tlearn: 0.3933901\ttotal: 12.9s\tremaining: 13s\n",
      "498:\tlearn: 0.3933766\ttotal: 12.9s\tremaining: 13s\n",
      "499:\tlearn: 0.3933641\ttotal: 13s\tremaining: 13s\n",
      "500:\tlearn: 0.3933555\ttotal: 13s\tremaining: 13s\n",
      "501:\tlearn: 0.3933330\ttotal: 13.1s\tremaining: 12.9s\n",
      "502:\tlearn: 0.3933195\ttotal: 13.1s\tremaining: 13s\n",
      "503:\tlearn: 0.3933023\ttotal: 13.2s\tremaining: 13s\n",
      "504:\tlearn: 0.3932871\ttotal: 13.2s\tremaining: 12.9s\n",
      "505:\tlearn: 0.3932659\ttotal: 13.2s\tremaining: 12.9s\n",
      "506:\tlearn: 0.3932538\ttotal: 13.3s\tremaining: 12.9s\n",
      "507:\tlearn: 0.3932450\ttotal: 13.3s\tremaining: 12.9s\n",
      "508:\tlearn: 0.3932255\ttotal: 13.3s\tremaining: 12.8s\n",
      "509:\tlearn: 0.3932122\ttotal: 13.3s\tremaining: 12.8s\n",
      "510:\tlearn: 0.3932064\ttotal: 13.4s\tremaining: 12.8s\n",
      "511:\tlearn: 0.3931884\ttotal: 13.4s\tremaining: 12.8s\n",
      "512:\tlearn: 0.3931652\ttotal: 13.4s\tremaining: 12.7s\n",
      "513:\tlearn: 0.3931400\ttotal: 13.4s\tremaining: 12.7s\n",
      "514:\tlearn: 0.3931296\ttotal: 13.5s\tremaining: 12.7s\n",
      "515:\tlearn: 0.3931153\ttotal: 13.5s\tremaining: 12.7s\n",
      "516:\tlearn: 0.3930994\ttotal: 13.5s\tremaining: 12.6s\n",
      "517:\tlearn: 0.3930930\ttotal: 13.6s\tremaining: 12.6s\n",
      "518:\tlearn: 0.3930745\ttotal: 13.6s\tremaining: 12.6s\n",
      "519:\tlearn: 0.3930687\ttotal: 13.6s\tremaining: 12.6s\n",
      "520:\tlearn: 0.3930580\ttotal: 13.6s\tremaining: 12.5s\n",
      "521:\tlearn: 0.3930419\ttotal: 13.7s\tremaining: 12.5s\n",
      "522:\tlearn: 0.3930183\ttotal: 13.7s\tremaining: 12.5s\n",
      "523:\tlearn: 0.3929864\ttotal: 13.8s\tremaining: 12.5s\n",
      "524:\tlearn: 0.3929749\ttotal: 13.8s\tremaining: 12.5s\n",
      "525:\tlearn: 0.3929690\ttotal: 13.8s\tremaining: 12.5s\n",
      "526:\tlearn: 0.3929495\ttotal: 13.9s\tremaining: 12.4s\n",
      "527:\tlearn: 0.3929261\ttotal: 13.9s\tremaining: 12.4s\n",
      "528:\tlearn: 0.3929087\ttotal: 13.9s\tremaining: 12.4s\n",
      "529:\tlearn: 0.3928920\ttotal: 14s\tremaining: 12.4s\n",
      "530:\tlearn: 0.3928831\ttotal: 14s\tremaining: 12.4s\n",
      "531:\tlearn: 0.3928777\ttotal: 14s\tremaining: 12.3s\n",
      "532:\tlearn: 0.3928685\ttotal: 14.1s\tremaining: 12.3s\n",
      "533:\tlearn: 0.3928606\ttotal: 14.1s\tremaining: 12.3s\n",
      "534:\tlearn: 0.3928527\ttotal: 14.1s\tremaining: 12.3s\n",
      "535:\tlearn: 0.3928395\ttotal: 14.2s\tremaining: 12.3s\n",
      "536:\tlearn: 0.3928288\ttotal: 14.2s\tremaining: 12.2s\n",
      "537:\tlearn: 0.3928209\ttotal: 14.2s\tremaining: 12.2s\n",
      "538:\tlearn: 0.3928118\ttotal: 14.3s\tremaining: 12.2s\n",
      "539:\tlearn: 0.3927958\ttotal: 14.3s\tremaining: 12.2s\n",
      "540:\tlearn: 0.3927772\ttotal: 14.4s\tremaining: 12.2s\n",
      "541:\tlearn: 0.3927656\ttotal: 14.4s\tremaining: 12.2s\n",
      "542:\tlearn: 0.3927593\ttotal: 14.5s\tremaining: 12.2s\n",
      "543:\tlearn: 0.3927329\ttotal: 14.5s\tremaining: 12.2s\n",
      "544:\tlearn: 0.3927212\ttotal: 14.6s\tremaining: 12.1s\n",
      "545:\tlearn: 0.3927109\ttotal: 14.6s\tremaining: 12.1s\n",
      "546:\tlearn: 0.3927006\ttotal: 14.6s\tremaining: 12.1s\n",
      "547:\tlearn: 0.3926751\ttotal: 14.6s\tremaining: 12.1s\n",
      "548:\tlearn: 0.3926593\ttotal: 14.7s\tremaining: 12s\n",
      "549:\tlearn: 0.3926544\ttotal: 14.7s\tremaining: 12s\n",
      "550:\tlearn: 0.3926466\ttotal: 14.7s\tremaining: 12s\n",
      "551:\tlearn: 0.3926287\ttotal: 14.8s\tremaining: 12s\n",
      "552:\tlearn: 0.3926073\ttotal: 14.8s\tremaining: 12s\n",
      "553:\tlearn: 0.3925948\ttotal: 14.8s\tremaining: 11.9s\n",
      "554:\tlearn: 0.3925801\ttotal: 14.8s\tremaining: 11.9s\n",
      "555:\tlearn: 0.3925721\ttotal: 14.9s\tremaining: 11.9s\n",
      "556:\tlearn: 0.3925543\ttotal: 14.9s\tremaining: 11.8s\n",
      "557:\tlearn: 0.3925384\ttotal: 14.9s\tremaining: 11.8s\n",
      "558:\tlearn: 0.3925186\ttotal: 14.9s\tremaining: 11.8s\n",
      "559:\tlearn: 0.3924967\ttotal: 15s\tremaining: 11.8s\n",
      "560:\tlearn: 0.3924853\ttotal: 15s\tremaining: 11.7s\n",
      "561:\tlearn: 0.3924730\ttotal: 15s\tremaining: 11.7s\n",
      "562:\tlearn: 0.3924643\ttotal: 15s\tremaining: 11.7s\n",
      "563:\tlearn: 0.3924529\ttotal: 15.1s\tremaining: 11.6s\n",
      "564:\tlearn: 0.3924212\ttotal: 15.1s\tremaining: 11.6s\n",
      "565:\tlearn: 0.3924131\ttotal: 15.1s\tremaining: 11.6s\n",
      "566:\tlearn: 0.3924022\ttotal: 15.2s\tremaining: 11.6s\n",
      "567:\tlearn: 0.3923849\ttotal: 15.2s\tremaining: 11.6s\n",
      "568:\tlearn: 0.3923695\ttotal: 15.2s\tremaining: 11.5s\n",
      "569:\tlearn: 0.3923546\ttotal: 15.2s\tremaining: 11.5s\n",
      "570:\tlearn: 0.3923409\ttotal: 15.3s\tremaining: 11.5s\n",
      "571:\tlearn: 0.3923181\ttotal: 15.3s\tremaining: 11.5s\n",
      "572:\tlearn: 0.3923086\ttotal: 15.3s\tremaining: 11.4s\n",
      "573:\tlearn: 0.3922923\ttotal: 15.4s\tremaining: 11.4s\n",
      "574:\tlearn: 0.3922770\ttotal: 15.4s\tremaining: 11.4s\n",
      "575:\tlearn: 0.3922695\ttotal: 15.4s\tremaining: 11.3s\n",
      "576:\tlearn: 0.3922612\ttotal: 15.4s\tremaining: 11.3s\n",
      "577:\tlearn: 0.3922505\ttotal: 15.4s\tremaining: 11.3s\n",
      "578:\tlearn: 0.3922368\ttotal: 15.5s\tremaining: 11.3s\n",
      "579:\tlearn: 0.3922221\ttotal: 15.5s\tremaining: 11.2s\n",
      "580:\tlearn: 0.3922096\ttotal: 15.5s\tremaining: 11.2s\n",
      "581:\tlearn: 0.3921900\ttotal: 15.6s\tremaining: 11.2s\n",
      "582:\tlearn: 0.3921807\ttotal: 15.6s\tremaining: 11.1s\n",
      "583:\tlearn: 0.3921725\ttotal: 15.6s\tremaining: 11.1s\n",
      "584:\tlearn: 0.3921608\ttotal: 15.6s\tremaining: 11.1s\n",
      "585:\tlearn: 0.3921464\ttotal: 15.7s\tremaining: 11.1s\n",
      "586:\tlearn: 0.3921346\ttotal: 15.7s\tremaining: 11s\n",
      "587:\tlearn: 0.3921130\ttotal: 15.7s\tremaining: 11s\n",
      "588:\tlearn: 0.3920979\ttotal: 15.8s\tremaining: 11s\n",
      "589:\tlearn: 0.3920757\ttotal: 15.8s\tremaining: 11s\n",
      "590:\tlearn: 0.3920690\ttotal: 15.8s\tremaining: 10.9s\n",
      "591:\tlearn: 0.3920538\ttotal: 15.8s\tremaining: 10.9s\n",
      "592:\tlearn: 0.3920456\ttotal: 15.9s\tremaining: 10.9s\n",
      "593:\tlearn: 0.3920381\ttotal: 15.9s\tremaining: 10.9s\n",
      "594:\tlearn: 0.3920213\ttotal: 15.9s\tremaining: 10.8s\n",
      "595:\tlearn: 0.3920109\ttotal: 15.9s\tremaining: 10.8s\n",
      "596:\tlearn: 0.3919945\ttotal: 16s\tremaining: 10.8s\n",
      "597:\tlearn: 0.3919800\ttotal: 16s\tremaining: 10.8s\n",
      "598:\tlearn: 0.3919643\ttotal: 16s\tremaining: 10.7s\n",
      "599:\tlearn: 0.3919513\ttotal: 16.1s\tremaining: 10.7s\n",
      "600:\tlearn: 0.3919418\ttotal: 16.1s\tremaining: 10.7s\n",
      "601:\tlearn: 0.3919086\ttotal: 16.1s\tremaining: 10.7s\n",
      "602:\tlearn: 0.3918945\ttotal: 16.2s\tremaining: 10.6s\n",
      "603:\tlearn: 0.3918788\ttotal: 16.2s\tremaining: 10.6s\n",
      "604:\tlearn: 0.3918645\ttotal: 16.2s\tremaining: 10.6s\n",
      "605:\tlearn: 0.3918425\ttotal: 16.2s\tremaining: 10.6s\n",
      "606:\tlearn: 0.3918114\ttotal: 16.3s\tremaining: 10.5s\n",
      "607:\tlearn: 0.3918070\ttotal: 16.3s\tremaining: 10.5s\n",
      "608:\tlearn: 0.3917938\ttotal: 16.3s\tremaining: 10.5s\n",
      "609:\tlearn: 0.3917788\ttotal: 16.4s\tremaining: 10.5s\n",
      "610:\tlearn: 0.3917714\ttotal: 16.4s\tremaining: 10.4s\n",
      "611:\tlearn: 0.3917579\ttotal: 16.4s\tremaining: 10.4s\n",
      "612:\tlearn: 0.3917364\ttotal: 16.4s\tremaining: 10.4s\n",
      "613:\tlearn: 0.3917264\ttotal: 16.5s\tremaining: 10.3s\n",
      "614:\tlearn: 0.3917117\ttotal: 16.5s\tremaining: 10.3s\n",
      "615:\tlearn: 0.3917006\ttotal: 16.5s\tremaining: 10.3s\n",
      "616:\tlearn: 0.3916874\ttotal: 16.5s\tremaining: 10.3s\n",
      "617:\tlearn: 0.3916734\ttotal: 16.6s\tremaining: 10.2s\n",
      "618:\tlearn: 0.3916644\ttotal: 16.6s\tremaining: 10.2s\n",
      "619:\tlearn: 0.3916496\ttotal: 16.6s\tremaining: 10.2s\n",
      "620:\tlearn: 0.3916409\ttotal: 16.7s\tremaining: 10.2s\n",
      "621:\tlearn: 0.3916219\ttotal: 16.7s\tremaining: 10.2s\n",
      "622:\tlearn: 0.3916108\ttotal: 16.7s\tremaining: 10.1s\n",
      "623:\tlearn: 0.3915982\ttotal: 16.8s\tremaining: 10.1s\n",
      "624:\tlearn: 0.3915752\ttotal: 16.8s\tremaining: 10.1s\n",
      "625:\tlearn: 0.3915605\ttotal: 16.8s\tremaining: 10s\n",
      "626:\tlearn: 0.3915495\ttotal: 16.8s\tremaining: 10s\n",
      "627:\tlearn: 0.3915328\ttotal: 16.9s\tremaining: 9.99s\n",
      "628:\tlearn: 0.3915226\ttotal: 16.9s\tremaining: 9.96s\n",
      "629:\tlearn: 0.3915108\ttotal: 16.9s\tremaining: 9.93s\n",
      "630:\tlearn: 0.3915002\ttotal: 16.9s\tremaining: 9.9s\n",
      "631:\tlearn: 0.3914852\ttotal: 17s\tremaining: 9.88s\n",
      "632:\tlearn: 0.3914770\ttotal: 17s\tremaining: 9.85s\n",
      "633:\tlearn: 0.3914602\ttotal: 17s\tremaining: 9.82s\n",
      "634:\tlearn: 0.3914393\ttotal: 17s\tremaining: 9.79s\n",
      "635:\tlearn: 0.3914264\ttotal: 17.1s\tremaining: 9.77s\n",
      "636:\tlearn: 0.3914160\ttotal: 17.1s\tremaining: 9.74s\n",
      "637:\tlearn: 0.3914008\ttotal: 17.1s\tremaining: 9.71s\n",
      "638:\tlearn: 0.3913866\ttotal: 17.1s\tremaining: 9.69s\n",
      "639:\tlearn: 0.3913717\ttotal: 17.2s\tremaining: 9.66s\n",
      "640:\tlearn: 0.3913653\ttotal: 17.2s\tremaining: 9.63s\n",
      "641:\tlearn: 0.3913536\ttotal: 17.2s\tremaining: 9.6s\n",
      "642:\tlearn: 0.3913422\ttotal: 17.2s\tremaining: 9.57s\n",
      "643:\tlearn: 0.3913266\ttotal: 17.3s\tremaining: 9.54s\n",
      "644:\tlearn: 0.3913174\ttotal: 17.3s\tremaining: 9.51s\n",
      "645:\tlearn: 0.3913084\ttotal: 17.3s\tremaining: 9.49s\n",
      "646:\tlearn: 0.3912899\ttotal: 17.3s\tremaining: 9.46s\n",
      "647:\tlearn: 0.3912842\ttotal: 17.4s\tremaining: 9.44s\n",
      "648:\tlearn: 0.3912771\ttotal: 17.4s\tremaining: 9.41s\n",
      "649:\tlearn: 0.3912700\ttotal: 17.4s\tremaining: 9.38s\n",
      "650:\tlearn: 0.3912621\ttotal: 17.5s\tremaining: 9.36s\n",
      "651:\tlearn: 0.3912493\ttotal: 17.5s\tremaining: 9.32s\n"
     ]
    },
    {
     "name": "stdout",
     "output_type": "stream",
     "text": [
      "652:\tlearn: 0.3912375\ttotal: 17.5s\tremaining: 9.3s\n",
      "653:\tlearn: 0.3912245\ttotal: 17.5s\tremaining: 9.27s\n",
      "654:\tlearn: 0.3912186\ttotal: 17.6s\tremaining: 9.24s\n",
      "655:\tlearn: 0.3912099\ttotal: 17.6s\tremaining: 9.21s\n",
      "656:\tlearn: 0.3911981\ttotal: 17.6s\tremaining: 9.19s\n",
      "657:\tlearn: 0.3911843\ttotal: 17.6s\tremaining: 9.16s\n",
      "658:\tlearn: 0.3911721\ttotal: 17.6s\tremaining: 9.13s\n",
      "659:\tlearn: 0.3911651\ttotal: 17.7s\tremaining: 9.1s\n",
      "660:\tlearn: 0.3911454\ttotal: 17.7s\tremaining: 9.07s\n",
      "661:\tlearn: 0.3911319\ttotal: 17.7s\tremaining: 9.05s\n",
      "662:\tlearn: 0.3911245\ttotal: 17.8s\tremaining: 9.02s\n",
      "663:\tlearn: 0.3911029\ttotal: 17.8s\tremaining: 8.99s\n",
      "664:\tlearn: 0.3910871\ttotal: 17.8s\tremaining: 8.97s\n",
      "665:\tlearn: 0.3910795\ttotal: 17.8s\tremaining: 8.94s\n",
      "666:\tlearn: 0.3910704\ttotal: 17.9s\tremaining: 8.92s\n",
      "667:\tlearn: 0.3910644\ttotal: 17.9s\tremaining: 8.89s\n",
      "668:\tlearn: 0.3910560\ttotal: 17.9s\tremaining: 8.86s\n",
      "669:\tlearn: 0.3910472\ttotal: 17.9s\tremaining: 8.83s\n",
      "670:\tlearn: 0.3910263\ttotal: 18s\tremaining: 8.8s\n",
      "671:\tlearn: 0.3910006\ttotal: 18s\tremaining: 8.78s\n",
      "672:\tlearn: 0.3909859\ttotal: 18s\tremaining: 8.75s\n",
      "673:\tlearn: 0.3909783\ttotal: 18s\tremaining: 8.72s\n",
      "674:\tlearn: 0.3909630\ttotal: 18.1s\tremaining: 8.7s\n",
      "675:\tlearn: 0.3909449\ttotal: 18.1s\tremaining: 8.67s\n",
      "676:\tlearn: 0.3909277\ttotal: 18.1s\tremaining: 8.64s\n",
      "677:\tlearn: 0.3909061\ttotal: 18.1s\tremaining: 8.61s\n",
      "678:\tlearn: 0.3908978\ttotal: 18.2s\tremaining: 8.59s\n",
      "679:\tlearn: 0.3908858\ttotal: 18.2s\tremaining: 8.56s\n",
      "680:\tlearn: 0.3908796\ttotal: 18.2s\tremaining: 8.54s\n",
      "681:\tlearn: 0.3908663\ttotal: 18.2s\tremaining: 8.51s\n",
      "682:\tlearn: 0.3908537\ttotal: 18.3s\tremaining: 8.48s\n",
      "683:\tlearn: 0.3908379\ttotal: 18.3s\tremaining: 8.45s\n",
      "684:\tlearn: 0.3908167\ttotal: 18.3s\tremaining: 8.43s\n",
      "685:\tlearn: 0.3908045\ttotal: 18.4s\tremaining: 8.4s\n",
      "686:\tlearn: 0.3907995\ttotal: 18.4s\tremaining: 8.37s\n",
      "687:\tlearn: 0.3907871\ttotal: 18.4s\tremaining: 8.35s\n",
      "688:\tlearn: 0.3907780\ttotal: 18.4s\tremaining: 8.32s\n",
      "689:\tlearn: 0.3907645\ttotal: 18.5s\tremaining: 8.3s\n",
      "690:\tlearn: 0.3907571\ttotal: 18.5s\tremaining: 8.27s\n",
      "691:\tlearn: 0.3907508\ttotal: 18.5s\tremaining: 8.24s\n",
      "692:\tlearn: 0.3907356\ttotal: 18.5s\tremaining: 8.21s\n",
      "693:\tlearn: 0.3907169\ttotal: 18.6s\tremaining: 8.19s\n",
      "694:\tlearn: 0.3907011\ttotal: 18.6s\tremaining: 8.16s\n",
      "695:\tlearn: 0.3906925\ttotal: 18.6s\tremaining: 8.13s\n",
      "696:\tlearn: 0.3906766\ttotal: 18.6s\tremaining: 8.11s\n",
      "697:\tlearn: 0.3906566\ttotal: 18.7s\tremaining: 8.08s\n",
      "698:\tlearn: 0.3906422\ttotal: 18.7s\tremaining: 8.05s\n",
      "699:\tlearn: 0.3906319\ttotal: 18.7s\tremaining: 8.02s\n",
      "700:\tlearn: 0.3906216\ttotal: 18.7s\tremaining: 7.99s\n",
      "701:\tlearn: 0.3906080\ttotal: 18.8s\tremaining: 7.96s\n",
      "702:\tlearn: 0.3905962\ttotal: 18.8s\tremaining: 7.93s\n",
      "703:\tlearn: 0.3905726\ttotal: 18.8s\tremaining: 7.91s\n",
      "704:\tlearn: 0.3905599\ttotal: 18.8s\tremaining: 7.88s\n",
      "705:\tlearn: 0.3905509\ttotal: 18.9s\tremaining: 7.85s\n",
      "706:\tlearn: 0.3905353\ttotal: 18.9s\tremaining: 7.82s\n",
      "707:\tlearn: 0.3905205\ttotal: 18.9s\tremaining: 7.79s\n",
      "708:\tlearn: 0.3905105\ttotal: 18.9s\tremaining: 7.77s\n",
      "709:\tlearn: 0.3905022\ttotal: 19s\tremaining: 7.74s\n",
      "710:\tlearn: 0.3904932\ttotal: 19s\tremaining: 7.72s\n",
      "711:\tlearn: 0.3904789\ttotal: 19s\tremaining: 7.69s\n",
      "712:\tlearn: 0.3904610\ttotal: 19s\tremaining: 7.66s\n",
      "713:\tlearn: 0.3904525\ttotal: 19.1s\tremaining: 7.63s\n",
      "714:\tlearn: 0.3904410\ttotal: 19.1s\tremaining: 7.6s\n",
      "715:\tlearn: 0.3904232\ttotal: 19.1s\tremaining: 7.58s\n",
      "716:\tlearn: 0.3904021\ttotal: 19.1s\tremaining: 7.55s\n",
      "717:\tlearn: 0.3903918\ttotal: 19.1s\tremaining: 7.52s\n",
      "718:\tlearn: 0.3903766\ttotal: 19.2s\tremaining: 7.49s\n",
      "719:\tlearn: 0.3903670\ttotal: 19.2s\tremaining: 7.46s\n",
      "720:\tlearn: 0.3903465\ttotal: 19.2s\tremaining: 7.44s\n",
      "721:\tlearn: 0.3903310\ttotal: 19.2s\tremaining: 7.41s\n",
      "722:\tlearn: 0.3903128\ttotal: 19.3s\tremaining: 7.38s\n",
      "723:\tlearn: 0.3903054\ttotal: 19.3s\tremaining: 7.35s\n",
      "724:\tlearn: 0.3902885\ttotal: 19.3s\tremaining: 7.32s\n",
      "725:\tlearn: 0.3902771\ttotal: 19.3s\tremaining: 7.29s\n",
      "726:\tlearn: 0.3902696\ttotal: 19.3s\tremaining: 7.26s\n",
      "727:\tlearn: 0.3902579\ttotal: 19.4s\tremaining: 7.24s\n",
      "728:\tlearn: 0.3902466\ttotal: 19.4s\tremaining: 7.21s\n",
      "729:\tlearn: 0.3902356\ttotal: 19.4s\tremaining: 7.18s\n",
      "730:\tlearn: 0.3902255\ttotal: 19.4s\tremaining: 7.16s\n",
      "731:\tlearn: 0.3902082\ttotal: 19.5s\tremaining: 7.13s\n",
      "732:\tlearn: 0.3901979\ttotal: 19.5s\tremaining: 7.1s\n",
      "733:\tlearn: 0.3901915\ttotal: 19.5s\tremaining: 7.08s\n",
      "734:\tlearn: 0.3901797\ttotal: 19.6s\tremaining: 7.06s\n",
      "735:\tlearn: 0.3901600\ttotal: 19.6s\tremaining: 7.03s\n",
      "736:\tlearn: 0.3901508\ttotal: 19.6s\tremaining: 7s\n",
      "737:\tlearn: 0.3901291\ttotal: 19.7s\tremaining: 6.98s\n",
      "738:\tlearn: 0.3901119\ttotal: 19.7s\tremaining: 6.95s\n",
      "739:\tlearn: 0.3901059\ttotal: 19.7s\tremaining: 6.93s\n",
      "740:\tlearn: 0.3901002\ttotal: 19.8s\tremaining: 6.91s\n",
      "741:\tlearn: 0.3900918\ttotal: 19.8s\tremaining: 6.89s\n",
      "742:\tlearn: 0.3900804\ttotal: 19.9s\tremaining: 6.87s\n",
      "743:\tlearn: 0.3900709\ttotal: 19.9s\tremaining: 6.85s\n",
      "744:\tlearn: 0.3900645\ttotal: 19.9s\tremaining: 6.83s\n",
      "745:\tlearn: 0.3900562\ttotal: 20s\tremaining: 6.81s\n",
      "746:\tlearn: 0.3900504\ttotal: 20s\tremaining: 6.79s\n",
      "747:\tlearn: 0.3900367\ttotal: 20.1s\tremaining: 6.76s\n",
      "748:\tlearn: 0.3900131\ttotal: 20.1s\tremaining: 6.73s\n",
      "749:\tlearn: 0.3900054\ttotal: 20.1s\tremaining: 6.71s\n",
      "750:\tlearn: 0.3899897\ttotal: 20.1s\tremaining: 6.68s\n",
      "751:\tlearn: 0.3899780\ttotal: 20.2s\tremaining: 6.65s\n",
      "752:\tlearn: 0.3899680\ttotal: 20.2s\tremaining: 6.63s\n",
      "753:\tlearn: 0.3899566\ttotal: 20.2s\tremaining: 6.6s\n",
      "754:\tlearn: 0.3899427\ttotal: 20.3s\tremaining: 6.57s\n",
      "755:\tlearn: 0.3899329\ttotal: 20.3s\tremaining: 6.54s\n",
      "756:\tlearn: 0.3899186\ttotal: 20.3s\tremaining: 6.52s\n",
      "757:\tlearn: 0.3899095\ttotal: 20.3s\tremaining: 6.49s\n",
      "758:\tlearn: 0.3898952\ttotal: 20.4s\tremaining: 6.47s\n",
      "759:\tlearn: 0.3898803\ttotal: 20.4s\tremaining: 6.44s\n",
      "760:\tlearn: 0.3898723\ttotal: 20.4s\tremaining: 6.42s\n",
      "761:\tlearn: 0.3898631\ttotal: 20.5s\tremaining: 6.39s\n",
      "762:\tlearn: 0.3898490\ttotal: 20.5s\tremaining: 6.37s\n",
      "763:\tlearn: 0.3898317\ttotal: 20.5s\tremaining: 6.34s\n",
      "764:\tlearn: 0.3898197\ttotal: 20.6s\tremaining: 6.31s\n",
      "765:\tlearn: 0.3898077\ttotal: 20.6s\tremaining: 6.29s\n",
      "766:\tlearn: 0.3897959\ttotal: 20.6s\tremaining: 6.26s\n",
      "767:\tlearn: 0.3897799\ttotal: 20.6s\tremaining: 6.23s\n",
      "768:\tlearn: 0.3897697\ttotal: 20.7s\tremaining: 6.2s\n",
      "769:\tlearn: 0.3897648\ttotal: 20.7s\tremaining: 6.18s\n",
      "770:\tlearn: 0.3897519\ttotal: 20.7s\tremaining: 6.15s\n",
      "771:\tlearn: 0.3897443\ttotal: 20.7s\tremaining: 6.12s\n",
      "772:\tlearn: 0.3897371\ttotal: 20.8s\tremaining: 6.1s\n",
      "773:\tlearn: 0.3897226\ttotal: 20.8s\tremaining: 6.07s\n",
      "774:\tlearn: 0.3897133\ttotal: 20.8s\tremaining: 6.05s\n",
      "775:\tlearn: 0.3896889\ttotal: 20.9s\tremaining: 6.02s\n",
      "776:\tlearn: 0.3896755\ttotal: 20.9s\tremaining: 6s\n",
      "777:\tlearn: 0.3896680\ttotal: 20.9s\tremaining: 5.97s\n",
      "778:\tlearn: 0.3896456\ttotal: 21s\tremaining: 5.95s\n",
      "779:\tlearn: 0.3896357\ttotal: 21s\tremaining: 5.92s\n",
      "780:\tlearn: 0.3896172\ttotal: 21s\tremaining: 5.89s\n",
      "781:\tlearn: 0.3895978\ttotal: 21s\tremaining: 5.87s\n",
      "782:\tlearn: 0.3895802\ttotal: 21.1s\tremaining: 5.84s\n",
      "783:\tlearn: 0.3895694\ttotal: 21.1s\tremaining: 5.81s\n",
      "784:\tlearn: 0.3895542\ttotal: 21.1s\tremaining: 5.79s\n",
      "785:\tlearn: 0.3895361\ttotal: 21.1s\tremaining: 5.76s\n",
      "786:\tlearn: 0.3895279\ttotal: 21.2s\tremaining: 5.73s\n",
      "787:\tlearn: 0.3895132\ttotal: 21.2s\tremaining: 5.7s\n",
      "788:\tlearn: 0.3895051\ttotal: 21.2s\tremaining: 5.68s\n",
      "789:\tlearn: 0.3894948\ttotal: 21.3s\tremaining: 5.65s\n",
      "790:\tlearn: 0.3894822\ttotal: 21.3s\tremaining: 5.63s\n",
      "791:\tlearn: 0.3894592\ttotal: 21.3s\tremaining: 5.6s\n",
      "792:\tlearn: 0.3894464\ttotal: 21.4s\tremaining: 5.58s\n",
      "793:\tlearn: 0.3894396\ttotal: 21.4s\tremaining: 5.55s\n",
      "794:\tlearn: 0.3894299\ttotal: 21.4s\tremaining: 5.52s\n",
      "795:\tlearn: 0.3894224\ttotal: 21.4s\tremaining: 5.5s\n",
      "796:\tlearn: 0.3894104\ttotal: 21.5s\tremaining: 5.47s\n",
      "797:\tlearn: 0.3894003\ttotal: 21.5s\tremaining: 5.44s\n",
      "798:\tlearn: 0.3893869\ttotal: 21.5s\tremaining: 5.41s\n",
      "799:\tlearn: 0.3893769\ttotal: 21.5s\tremaining: 5.38s\n",
      "800:\tlearn: 0.3893681\ttotal: 21.6s\tremaining: 5.36s\n",
      "801:\tlearn: 0.3893597\ttotal: 21.6s\tremaining: 5.33s\n",
      "802:\tlearn: 0.3893473\ttotal: 21.6s\tremaining: 5.31s\n",
      "803:\tlearn: 0.3893424\ttotal: 21.7s\tremaining: 5.28s\n",
      "804:\tlearn: 0.3893341\ttotal: 21.7s\tremaining: 5.26s\n",
      "805:\tlearn: 0.3893252\ttotal: 21.7s\tremaining: 5.23s\n",
      "806:\tlearn: 0.3893215\ttotal: 21.8s\tremaining: 5.21s\n",
      "807:\tlearn: 0.3893131\ttotal: 21.8s\tremaining: 5.18s\n",
      "808:\tlearn: 0.3893066\ttotal: 21.8s\tremaining: 5.15s\n",
      "809:\tlearn: 0.3892891\ttotal: 21.9s\tremaining: 5.13s\n",
      "810:\tlearn: 0.3892755\ttotal: 21.9s\tremaining: 5.1s\n",
      "811:\tlearn: 0.3892610\ttotal: 21.9s\tremaining: 5.07s\n",
      "812:\tlearn: 0.3892584\ttotal: 21.9s\tremaining: 5.04s\n",
      "813:\tlearn: 0.3892496\ttotal: 22s\tremaining: 5.02s\n",
      "814:\tlearn: 0.3892424\ttotal: 22s\tremaining: 4.99s\n",
      "815:\tlearn: 0.3892265\ttotal: 22s\tremaining: 4.96s\n",
      "816:\tlearn: 0.3892119\ttotal: 22s\tremaining: 4.93s\n",
      "817:\tlearn: 0.3891886\ttotal: 22.1s\tremaining: 4.91s\n"
     ]
    },
    {
     "name": "stdout",
     "output_type": "stream",
     "text": [
      "818:\tlearn: 0.3891808\ttotal: 22.1s\tremaining: 4.88s\n",
      "819:\tlearn: 0.3891722\ttotal: 22.1s\tremaining: 4.85s\n",
      "820:\tlearn: 0.3891648\ttotal: 22.1s\tremaining: 4.82s\n",
      "821:\tlearn: 0.3891586\ttotal: 22.2s\tremaining: 4.8s\n",
      "822:\tlearn: 0.3891502\ttotal: 22.2s\tremaining: 4.77s\n",
      "823:\tlearn: 0.3891310\ttotal: 22.2s\tremaining: 4.74s\n",
      "824:\tlearn: 0.3891190\ttotal: 22.2s\tremaining: 4.71s\n",
      "825:\tlearn: 0.3891132\ttotal: 22.3s\tremaining: 4.69s\n",
      "826:\tlearn: 0.3890977\ttotal: 22.3s\tremaining: 4.66s\n",
      "827:\tlearn: 0.3890829\ttotal: 22.3s\tremaining: 4.63s\n",
      "828:\tlearn: 0.3890751\ttotal: 22.3s\tremaining: 4.6s\n",
      "829:\tlearn: 0.3890674\ttotal: 22.4s\tremaining: 4.58s\n",
      "830:\tlearn: 0.3890580\ttotal: 22.4s\tremaining: 4.55s\n",
      "831:\tlearn: 0.3890429\ttotal: 22.4s\tremaining: 4.52s\n",
      "832:\tlearn: 0.3890346\ttotal: 22.4s\tremaining: 4.49s\n",
      "833:\tlearn: 0.3890280\ttotal: 22.4s\tremaining: 4.47s\n",
      "834:\tlearn: 0.3890137\ttotal: 22.5s\tremaining: 4.44s\n",
      "835:\tlearn: 0.3890058\ttotal: 22.5s\tremaining: 4.41s\n",
      "836:\tlearn: 0.3889935\ttotal: 22.5s\tremaining: 4.39s\n",
      "837:\tlearn: 0.3889872\ttotal: 22.6s\tremaining: 4.36s\n",
      "838:\tlearn: 0.3889721\ttotal: 22.6s\tremaining: 4.33s\n",
      "839:\tlearn: 0.3889539\ttotal: 22.6s\tremaining: 4.3s\n",
      "840:\tlearn: 0.3889431\ttotal: 22.6s\tremaining: 4.28s\n",
      "841:\tlearn: 0.3889273\ttotal: 22.7s\tremaining: 4.25s\n",
      "842:\tlearn: 0.3889187\ttotal: 22.7s\tremaining: 4.22s\n",
      "843:\tlearn: 0.3889053\ttotal: 22.7s\tremaining: 4.2s\n",
      "844:\tlearn: 0.3888946\ttotal: 22.7s\tremaining: 4.17s\n",
      "845:\tlearn: 0.3888816\ttotal: 22.8s\tremaining: 4.14s\n",
      "846:\tlearn: 0.3888664\ttotal: 22.8s\tremaining: 4.12s\n",
      "847:\tlearn: 0.3888455\ttotal: 22.8s\tremaining: 4.09s\n",
      "848:\tlearn: 0.3888360\ttotal: 22.8s\tremaining: 4.06s\n",
      "849:\tlearn: 0.3888299\ttotal: 22.9s\tremaining: 4.03s\n",
      "850:\tlearn: 0.3888238\ttotal: 22.9s\tremaining: 4.01s\n",
      "851:\tlearn: 0.3888159\ttotal: 22.9s\tremaining: 3.98s\n",
      "852:\tlearn: 0.3888049\ttotal: 22.9s\tremaining: 3.95s\n",
      "853:\tlearn: 0.3887831\ttotal: 23s\tremaining: 3.92s\n",
      "854:\tlearn: 0.3887750\ttotal: 23s\tremaining: 3.9s\n",
      "855:\tlearn: 0.3887681\ttotal: 23s\tremaining: 3.87s\n",
      "856:\tlearn: 0.3887604\ttotal: 23s\tremaining: 3.84s\n",
      "857:\tlearn: 0.3887468\ttotal: 23.1s\tremaining: 3.81s\n",
      "858:\tlearn: 0.3887318\ttotal: 23.1s\tremaining: 3.79s\n",
      "859:\tlearn: 0.3887249\ttotal: 23.1s\tremaining: 3.76s\n",
      "860:\tlearn: 0.3887090\ttotal: 23.1s\tremaining: 3.73s\n",
      "861:\tlearn: 0.3886993\ttotal: 23.2s\tremaining: 3.71s\n",
      "862:\tlearn: 0.3886878\ttotal: 23.2s\tremaining: 3.68s\n",
      "863:\tlearn: 0.3886779\ttotal: 23.2s\tremaining: 3.65s\n",
      "864:\tlearn: 0.3886722\ttotal: 23.2s\tremaining: 3.63s\n",
      "865:\tlearn: 0.3886609\ttotal: 23.3s\tremaining: 3.6s\n",
      "866:\tlearn: 0.3886434\ttotal: 23.3s\tremaining: 3.57s\n",
      "867:\tlearn: 0.3886313\ttotal: 23.3s\tremaining: 3.54s\n",
      "868:\tlearn: 0.3886257\ttotal: 23.3s\tremaining: 3.52s\n",
      "869:\tlearn: 0.3885851\ttotal: 23.4s\tremaining: 3.49s\n",
      "870:\tlearn: 0.3885781\ttotal: 23.4s\tremaining: 3.46s\n",
      "871:\tlearn: 0.3885687\ttotal: 23.4s\tremaining: 3.43s\n",
      "872:\tlearn: 0.3885580\ttotal: 23.4s\tremaining: 3.41s\n",
      "873:\tlearn: 0.3885515\ttotal: 23.4s\tremaining: 3.38s\n",
      "874:\tlearn: 0.3885378\ttotal: 23.5s\tremaining: 3.35s\n",
      "875:\tlearn: 0.3885253\ttotal: 23.5s\tremaining: 3.33s\n",
      "876:\tlearn: 0.3885158\ttotal: 23.5s\tremaining: 3.3s\n",
      "877:\tlearn: 0.3885033\ttotal: 23.6s\tremaining: 3.27s\n",
      "878:\tlearn: 0.3884887\ttotal: 23.6s\tremaining: 3.25s\n",
      "879:\tlearn: 0.3884791\ttotal: 23.6s\tremaining: 3.22s\n",
      "880:\tlearn: 0.3884699\ttotal: 23.6s\tremaining: 3.19s\n",
      "881:\tlearn: 0.3884620\ttotal: 23.7s\tremaining: 3.17s\n",
      "882:\tlearn: 0.3884472\ttotal: 23.7s\tremaining: 3.14s\n",
      "883:\tlearn: 0.3884313\ttotal: 23.7s\tremaining: 3.12s\n",
      "884:\tlearn: 0.3884171\ttotal: 23.8s\tremaining: 3.09s\n",
      "885:\tlearn: 0.3884105\ttotal: 23.8s\tremaining: 3.06s\n",
      "886:\tlearn: 0.3883904\ttotal: 23.8s\tremaining: 3.03s\n",
      "887:\tlearn: 0.3883728\ttotal: 23.8s\tremaining: 3s\n",
      "888:\tlearn: 0.3883672\ttotal: 23.9s\tremaining: 2.98s\n",
      "889:\tlearn: 0.3883579\ttotal: 23.9s\tremaining: 2.95s\n",
      "890:\tlearn: 0.3883542\ttotal: 23.9s\tremaining: 2.92s\n",
      "891:\tlearn: 0.3883457\ttotal: 23.9s\tremaining: 2.9s\n",
      "892:\tlearn: 0.3883290\ttotal: 24s\tremaining: 2.87s\n",
      "893:\tlearn: 0.3883246\ttotal: 24s\tremaining: 2.85s\n",
      "894:\tlearn: 0.3883172\ttotal: 24s\tremaining: 2.82s\n",
      "895:\tlearn: 0.3883035\ttotal: 24.1s\tremaining: 2.79s\n",
      "896:\tlearn: 0.3882885\ttotal: 24.1s\tremaining: 2.77s\n",
      "897:\tlearn: 0.3882819\ttotal: 24.1s\tremaining: 2.74s\n",
      "898:\tlearn: 0.3882777\ttotal: 24.1s\tremaining: 2.71s\n",
      "899:\tlearn: 0.3882635\ttotal: 24.2s\tremaining: 2.68s\n",
      "900:\tlearn: 0.3882350\ttotal: 24.2s\tremaining: 2.66s\n",
      "901:\tlearn: 0.3882261\ttotal: 24.2s\tremaining: 2.63s\n",
      "902:\tlearn: 0.3882160\ttotal: 24.2s\tremaining: 2.6s\n",
      "903:\tlearn: 0.3882027\ttotal: 24.3s\tremaining: 2.58s\n",
      "904:\tlearn: 0.3881932\ttotal: 24.3s\tremaining: 2.55s\n",
      "905:\tlearn: 0.3881759\ttotal: 24.3s\tremaining: 2.52s\n",
      "906:\tlearn: 0.3881623\ttotal: 24.3s\tremaining: 2.5s\n",
      "907:\tlearn: 0.3881561\ttotal: 24.4s\tremaining: 2.47s\n",
      "908:\tlearn: 0.3881473\ttotal: 24.4s\tremaining: 2.44s\n",
      "909:\tlearn: 0.3881402\ttotal: 24.4s\tremaining: 2.41s\n",
      "910:\tlearn: 0.3881334\ttotal: 24.4s\tremaining: 2.39s\n",
      "911:\tlearn: 0.3881186\ttotal: 24.5s\tremaining: 2.36s\n",
      "912:\tlearn: 0.3881124\ttotal: 24.5s\tremaining: 2.33s\n",
      "913:\tlearn: 0.3880997\ttotal: 24.5s\tremaining: 2.3s\n",
      "914:\tlearn: 0.3880889\ttotal: 24.5s\tremaining: 2.28s\n",
      "915:\tlearn: 0.3880735\ttotal: 24.5s\tremaining: 2.25s\n",
      "916:\tlearn: 0.3880620\ttotal: 24.5s\tremaining: 2.22s\n",
      "917:\tlearn: 0.3880495\ttotal: 24.6s\tremaining: 2.19s\n",
      "918:\tlearn: 0.3880405\ttotal: 24.6s\tremaining: 2.17s\n",
      "919:\tlearn: 0.3880280\ttotal: 24.6s\tremaining: 2.14s\n",
      "920:\tlearn: 0.3880191\ttotal: 24.6s\tremaining: 2.11s\n",
      "921:\tlearn: 0.3880039\ttotal: 24.6s\tremaining: 2.08s\n",
      "922:\tlearn: 0.3879970\ttotal: 24.6s\tremaining: 2.06s\n",
      "923:\tlearn: 0.3879866\ttotal: 24.7s\tremaining: 2.03s\n",
      "924:\tlearn: 0.3879792\ttotal: 24.7s\tremaining: 2s\n",
      "925:\tlearn: 0.3879699\ttotal: 24.7s\tremaining: 1.97s\n",
      "926:\tlearn: 0.3879601\ttotal: 24.7s\tremaining: 1.95s\n",
      "927:\tlearn: 0.3879563\ttotal: 24.7s\tremaining: 1.92s\n",
      "928:\tlearn: 0.3879495\ttotal: 24.7s\tremaining: 1.89s\n",
      "929:\tlearn: 0.3879437\ttotal: 24.8s\tremaining: 1.86s\n",
      "930:\tlearn: 0.3879386\ttotal: 24.8s\tremaining: 1.84s\n",
      "931:\tlearn: 0.3879268\ttotal: 24.8s\tremaining: 1.81s\n",
      "932:\tlearn: 0.3879144\ttotal: 24.8s\tremaining: 1.78s\n",
      "933:\tlearn: 0.3879001\ttotal: 24.8s\tremaining: 1.75s\n",
      "934:\tlearn: 0.3878921\ttotal: 24.9s\tremaining: 1.73s\n",
      "935:\tlearn: 0.3878812\ttotal: 24.9s\tremaining: 1.7s\n",
      "936:\tlearn: 0.3878715\ttotal: 24.9s\tremaining: 1.67s\n",
      "937:\tlearn: 0.3878598\ttotal: 24.9s\tremaining: 1.65s\n",
      "938:\tlearn: 0.3878529\ttotal: 24.9s\tremaining: 1.62s\n",
      "939:\tlearn: 0.3878450\ttotal: 24.9s\tremaining: 1.59s\n",
      "940:\tlearn: 0.3878342\ttotal: 24.9s\tremaining: 1.56s\n",
      "941:\tlearn: 0.3878222\ttotal: 25s\tremaining: 1.54s\n",
      "942:\tlearn: 0.3878092\ttotal: 25s\tremaining: 1.51s\n",
      "943:\tlearn: 0.3877937\ttotal: 25s\tremaining: 1.49s\n",
      "944:\tlearn: 0.3877826\ttotal: 25.1s\tremaining: 1.46s\n",
      "945:\tlearn: 0.3877741\ttotal: 25.1s\tremaining: 1.43s\n",
      "946:\tlearn: 0.3877669\ttotal: 25.1s\tremaining: 1.41s\n",
      "947:\tlearn: 0.3877538\ttotal: 25.1s\tremaining: 1.38s\n",
      "948:\tlearn: 0.3877434\ttotal: 25.2s\tremaining: 1.35s\n",
      "949:\tlearn: 0.3877300\ttotal: 25.2s\tremaining: 1.33s\n",
      "950:\tlearn: 0.3877240\ttotal: 25.3s\tremaining: 1.3s\n",
      "951:\tlearn: 0.3877084\ttotal: 25.4s\tremaining: 1.28s\n",
      "952:\tlearn: 0.3877039\ttotal: 25.4s\tremaining: 1.25s\n",
      "953:\tlearn: 0.3876909\ttotal: 25.5s\tremaining: 1.23s\n",
      "954:\tlearn: 0.3876877\ttotal: 25.5s\tremaining: 1.2s\n",
      "955:\tlearn: 0.3876766\ttotal: 25.6s\tremaining: 1.18s\n",
      "956:\tlearn: 0.3876695\ttotal: 25.6s\tremaining: 1.15s\n",
      "957:\tlearn: 0.3876544\ttotal: 25.6s\tremaining: 1.12s\n",
      "958:\tlearn: 0.3876471\ttotal: 25.6s\tremaining: 1.1s\n",
      "959:\tlearn: 0.3876315\ttotal: 25.7s\tremaining: 1.07s\n",
      "960:\tlearn: 0.3876142\ttotal: 25.7s\tremaining: 1.04s\n",
      "961:\tlearn: 0.3876029\ttotal: 25.7s\tremaining: 1.02s\n",
      "962:\tlearn: 0.3875935\ttotal: 25.7s\tremaining: 989ms\n",
      "963:\tlearn: 0.3875873\ttotal: 25.8s\tremaining: 962ms\n",
      "964:\tlearn: 0.3875739\ttotal: 25.8s\tremaining: 935ms\n",
      "965:\tlearn: 0.3875620\ttotal: 25.8s\tremaining: 908ms\n",
      "966:\tlearn: 0.3875517\ttotal: 25.8s\tremaining: 882ms\n",
      "967:\tlearn: 0.3875383\ttotal: 25.8s\tremaining: 854ms\n",
      "968:\tlearn: 0.3875336\ttotal: 25.9s\tremaining: 828ms\n",
      "969:\tlearn: 0.3875253\ttotal: 25.9s\tremaining: 801ms\n",
      "970:\tlearn: 0.3875149\ttotal: 25.9s\tremaining: 774ms\n",
      "971:\tlearn: 0.3875011\ttotal: 25.9s\tremaining: 747ms\n",
      "972:\tlearn: 0.3874947\ttotal: 25.9s\tremaining: 720ms\n",
      "973:\tlearn: 0.3874871\ttotal: 25.9s\tremaining: 693ms\n",
      "974:\tlearn: 0.3874838\ttotal: 26s\tremaining: 666ms\n",
      "975:\tlearn: 0.3874705\ttotal: 26s\tremaining: 639ms\n",
      "976:\tlearn: 0.3874622\ttotal: 26s\tremaining: 612ms\n",
      "977:\tlearn: 0.3874526\ttotal: 26s\tremaining: 585ms\n",
      "978:\tlearn: 0.3874424\ttotal: 26s\tremaining: 559ms\n",
      "979:\tlearn: 0.3874302\ttotal: 26.1s\tremaining: 532ms\n",
      "980:\tlearn: 0.3874212\ttotal: 26.1s\tremaining: 505ms\n",
      "981:\tlearn: 0.3874121\ttotal: 26.1s\tremaining: 478ms\n",
      "982:\tlearn: 0.3874034\ttotal: 26.1s\tremaining: 452ms\n",
      "983:\tlearn: 0.3873915\ttotal: 26.1s\tremaining: 425ms\n",
      "984:\tlearn: 0.3873773\ttotal: 26.1s\tremaining: 398ms\n",
      "985:\tlearn: 0.3873715\ttotal: 26.2s\tremaining: 371ms\n",
      "986:\tlearn: 0.3873609\ttotal: 26.2s\tremaining: 345ms\n"
     ]
    },
    {
     "name": "stdout",
     "output_type": "stream",
     "text": [
      "987:\tlearn: 0.3873469\ttotal: 26.2s\tremaining: 318ms\n",
      "988:\tlearn: 0.3873349\ttotal: 26.2s\tremaining: 291ms\n",
      "989:\tlearn: 0.3873310\ttotal: 26.2s\tremaining: 265ms\n",
      "990:\tlearn: 0.3873172\ttotal: 26.2s\tremaining: 238ms\n",
      "991:\tlearn: 0.3873060\ttotal: 26.3s\tremaining: 212ms\n",
      "992:\tlearn: 0.3872965\ttotal: 26.3s\tremaining: 185ms\n",
      "993:\tlearn: 0.3872860\ttotal: 26.3s\tremaining: 159ms\n",
      "994:\tlearn: 0.3872670\ttotal: 26.3s\tremaining: 132ms\n",
      "995:\tlearn: 0.3872572\ttotal: 26.4s\tremaining: 106ms\n",
      "996:\tlearn: 0.3872434\ttotal: 26.4s\tremaining: 79.4ms\n",
      "997:\tlearn: 0.3872321\ttotal: 26.4s\tremaining: 52.9ms\n",
      "998:\tlearn: 0.3872223\ttotal: 26.4s\tremaining: 26.4ms\n",
      "999:\tlearn: 0.3872119\ttotal: 26.4s\tremaining: 0us\n"
     ]
    },
    {
     "data": {
      "text/plain": [
       "<catboost.core.CatBoostRegressor at 0x192bd7a66a0>"
      ]
     },
     "execution_count": 103,
     "metadata": {},
     "output_type": "execute_result"
    }
   ],
   "source": [
    "model = CatBoostRegressor()\n",
    "model.fit(x_train_20, y_train_20)"
   ]
  },
  {
   "cell_type": "code",
   "execution_count": 104,
   "id": "d76be8b6",
   "metadata": {},
   "outputs": [
    {
     "name": "stdout",
     "output_type": "stream",
     "text": [
      "0.15016742498934024\n"
     ]
    }
   ],
   "source": [
    "y_pred_20 = model.predict(x_test_20)\n",
    "# Calculation of Mean Squared Error (MSE)\n",
    "mse = mean_squared_error(y_test_20, y_pred_20)\n",
    "print(mse)"
   ]
  },
  {
   "cell_type": "code",
   "execution_count": 105,
   "id": "f663aab7",
   "metadata": {},
   "outputs": [
    {
     "name": "stdout",
     "output_type": "stream",
     "text": [
      "0.34164707930704274\n"
     ]
    }
   ],
   "source": [
    "acc = accuracy_threshold(y_test_20, y_pred_20, 0.1)\n",
    "print(acc)"
   ]
  },
  {
   "cell_type": "code",
   "execution_count": 106,
   "id": "71f5ba51",
   "metadata": {},
   "outputs": [
    {
     "name": "stdout",
     "output_type": "stream",
     "text": [
      "Median Absolute Error:\n",
      "\n",
      "0.16854608411301655\n"
     ]
    }
   ],
   "source": [
    "median_se = np.square(np.subtract(y_test_20, y_pred_20)).median() \n",
    " \n",
    "med = math.sqrt(median_se)\n",
    "print(\"Median Absolute Error:\\n\")\n",
    "print(med)"
   ]
  },
  {
   "cell_type": "code",
   "execution_count": 107,
   "id": "0df8593f",
   "metadata": {},
   "outputs": [
    {
     "name": "stdout",
     "output_type": "stream",
     "text": [
      "Root Mean Square Error:\n",
      "\n",
      "0.3875144190728128\n"
     ]
    }
   ],
   "source": [
    "mean = np.square(np.subtract(y_test_20, y_pred_20)).mean() \n",
    " \n",
    "mean = math.sqrt(mean)\n",
    "print(\"Root Mean Square Error:\\n\")\n",
    "print(mean)"
   ]
  },
  {
   "cell_type": "code",
   "execution_count": 108,
   "id": "806840da",
   "metadata": {},
   "outputs": [
    {
     "name": "stdout",
     "output_type": "stream",
     "text": [
      "MAPE for CatBoost 2020 is: 0.021279704246185072\n"
     ]
    }
   ],
   "source": [
    "mape = mean_absolute_percentage_error(y_test_20, y_pred_20)\n",
    "print(\"MAPE for CatBoost 2020 is: \" + str(mape))"
   ]
  },
  {
   "cell_type": "code",
   "execution_count": 109,
   "id": "0d585c1e",
   "metadata": {},
   "outputs": [],
   "source": [
    "cnames=['Algorithm', 'Year', 'RMSE', 'MSE', 'MEDAE', 'Accuracy', 'MAPE']\n",
    "df2 = pd.DataFrame(columns=cnames)\n",
    "\n",
    "df2 = df2.append({'Algorithm': 'CatBoost',\n",
    "            'Year': 2020,\n",
    "           'RMSE': mean,\n",
    "           'MSE': mse,\n",
    "           'MEDAE': med,\n",
    "           'Accuracy': acc,\n",
    "           'MAPE': mape       \n",
    "          }, ignore_index=True)"
   ]
  },
  {
   "cell_type": "markdown",
   "id": "9e1bd141",
   "metadata": {},
   "source": [
    "### Bayesian Ridge"
   ]
  },
  {
   "cell_type": "markdown",
   "id": "1421f212",
   "metadata": {},
   "source": [
    "#### 2021"
   ]
  },
  {
   "cell_type": "code",
   "execution_count": 110,
   "id": "35158c1f",
   "metadata": {},
   "outputs": [],
   "source": [
    "from sklearn.linear_model import BayesianRidge, LinearRegression"
   ]
  },
  {
   "cell_type": "code",
   "execution_count": 111,
   "id": "00491334",
   "metadata": {},
   "outputs": [
    {
     "data": {
      "text/plain": [
       "BayesianRidge()"
      ]
     },
     "execution_count": 111,
     "metadata": {},
     "output_type": "execute_result"
    }
   ],
   "source": [
    "clf = BayesianRidge()\n",
    "clf.fit(x_train_21, y_train_21)"
   ]
  },
  {
   "cell_type": "code",
   "execution_count": 112,
   "id": "1380ed38",
   "metadata": {},
   "outputs": [
    {
     "name": "stdout",
     "output_type": "stream",
     "text": [
      "0.20193886845398923\n"
     ]
    }
   ],
   "source": [
    "y_pred_21 = clf.predict(x_test_21)\n",
    "# Calculation of Mean Squared Error (MSE)\n",
    "mse = mean_squared_error(y_test_21, y_pred_21)\n",
    "print(mse)"
   ]
  },
  {
   "cell_type": "code",
   "execution_count": 113,
   "id": "3a48b954",
   "metadata": {},
   "outputs": [
    {
     "name": "stdout",
     "output_type": "stream",
     "text": [
      "0.24908928038220365\n"
     ]
    }
   ],
   "source": [
    "acc = accuracy_threshold(y_test_21, y_pred_21, 0.1)\n",
    "print(acc)"
   ]
  },
  {
   "cell_type": "code",
   "execution_count": 114,
   "id": "e38bd984",
   "metadata": {},
   "outputs": [
    {
     "name": "stdout",
     "output_type": "stream",
     "text": [
      "Median Absolute Error:\n",
      "\n",
      "0.22047876701890168\n"
     ]
    }
   ],
   "source": [
    "median_se = np.square(np.subtract(y_test_21, y_pred_21)).median() \n",
    " \n",
    "med = math.sqrt(median_se)\n",
    "print(\"Median Absolute Error:\\n\")\n",
    "print(med)"
   ]
  },
  {
   "cell_type": "code",
   "execution_count": 115,
   "id": "5e38e2ed",
   "metadata": {},
   "outputs": [
    {
     "name": "stdout",
     "output_type": "stream",
     "text": [
      "Root Mean Square Error:\n",
      "\n",
      "0.44937608798643014\n"
     ]
    }
   ],
   "source": [
    "mean = np.square(np.subtract(y_test_21, y_pred_21)).mean() \n",
    " \n",
    "mean = math.sqrt(mean)\n",
    "print(\"Root Mean Square Error:\\n\")\n",
    "print(mean)"
   ]
  },
  {
   "cell_type": "code",
   "execution_count": 116,
   "id": "63f02c5c",
   "metadata": {},
   "outputs": [
    {
     "name": "stdout",
     "output_type": "stream",
     "text": [
      "MAPE for BayesianRidge 2021 is: 0.025747664985964296\n"
     ]
    }
   ],
   "source": [
    "mape = mean_absolute_percentage_error(y_test_21, y_pred_21)\n",
    "print(\"MAPE for BayesianRidge 2021 is: \" + str(mape))"
   ]
  },
  {
   "cell_type": "code",
   "execution_count": 117,
   "id": "9c1019b2",
   "metadata": {},
   "outputs": [],
   "source": [
    "cnames=['Algorithm', 'Year', 'RMSE', 'MSE', 'MEDAE', 'Accuracy', 'MAPE']\n",
    "df1 = pd.DataFrame(columns=cnames)\n",
    "\n",
    "df1 = df1.append({'Algorithm': 'Bayesian',\n",
    "            'Year': 2021,\n",
    "           'RMSE': mean,\n",
    "           'MSE': mse,\n",
    "           'MEDAE': med,\n",
    "           'Accuracy': acc,\n",
    "           'MAPE': mape       \n",
    "          }, ignore_index=True)"
   ]
  },
  {
   "cell_type": "markdown",
   "id": "bd4b02bb",
   "metadata": {},
   "source": [
    "#### 2020"
   ]
  },
  {
   "cell_type": "code",
   "execution_count": 118,
   "id": "583e22dc",
   "metadata": {},
   "outputs": [
    {
     "data": {
      "text/plain": [
       "BayesianRidge()"
      ]
     },
     "execution_count": 118,
     "metadata": {},
     "output_type": "execute_result"
    }
   ],
   "source": [
    "clf = BayesianRidge()\n",
    "clf.fit(x_train_20, y_train_20)"
   ]
  },
  {
   "cell_type": "code",
   "execution_count": 119,
   "id": "8db9cb3e",
   "metadata": {},
   "outputs": [
    {
     "name": "stdout",
     "output_type": "stream",
     "text": [
      "0.2015963700690137\n"
     ]
    }
   ],
   "source": [
    "y_pred_20 = clf.predict(x_test_20)\n",
    "# Calculation of Mean Squared Error (MSE)\n",
    "mse = mean_squared_error(y_test_20, y_pred_20)\n",
    "print(mse)"
   ]
  },
  {
   "cell_type": "code",
   "execution_count": 120,
   "id": "e5e962bb",
   "metadata": {},
   "outputs": [
    {
     "name": "stdout",
     "output_type": "stream",
     "text": [
      "0.2015963700690137\n"
     ]
    }
   ],
   "source": [
    "mse = mean_squared_error(y_test_20, y_pred_20)\n",
    "print(mse)"
   ]
  },
  {
   "cell_type": "code",
   "execution_count": 121,
   "id": "d52ba61f",
   "metadata": {},
   "outputs": [
    {
     "name": "stdout",
     "output_type": "stream",
     "text": [
      "0.23530948028205798\n"
     ]
    }
   ],
   "source": [
    "acc = accuracy_threshold(y_test_20, y_pred_20, 0.1)\n",
    "print(acc)"
   ]
  },
  {
   "cell_type": "code",
   "execution_count": 122,
   "id": "d4500d2d",
   "metadata": {},
   "outputs": [
    {
     "name": "stdout",
     "output_type": "stream",
     "text": [
      "Median Absolute Error:\n",
      "\n",
      "0.22667630949478124\n"
     ]
    }
   ],
   "source": [
    "median_se = np.square(np.subtract(y_test_20, y_pred_20)).median() \n",
    " \n",
    "med = math.sqrt(median_se)\n",
    "print(\"Median Absolute Error:\\n\")\n",
    "print(med)"
   ]
  },
  {
   "cell_type": "code",
   "execution_count": 123,
   "id": "ce5624d8",
   "metadata": {},
   "outputs": [
    {
     "name": "stdout",
     "output_type": "stream",
     "text": [
      "Root Mean Square Error:\n",
      "\n",
      "0.44899484414524443\n"
     ]
    }
   ],
   "source": [
    "mean = np.square(np.subtract(y_test_20, y_pred_20)).mean() \n",
    " \n",
    "mean = math.sqrt(mean)\n",
    "print(\"Root Mean Square Error:\\n\")\n",
    "print(mean)"
   ]
  },
  {
   "cell_type": "code",
   "execution_count": 124,
   "id": "47802a1e",
   "metadata": {},
   "outputs": [
    {
     "name": "stdout",
     "output_type": "stream",
     "text": [
      "MAPE for BayesianRidge 2021 is: 0.026009719270183973\n"
     ]
    }
   ],
   "source": [
    "mape = mean_absolute_percentage_error(y_test_20, y_pred_20)\n",
    "print(\"MAPE for BayesianRidge 2021 is: \" + str(mape))"
   ]
  },
  {
   "cell_type": "code",
   "execution_count": 125,
   "id": "8c6caf77",
   "metadata": {},
   "outputs": [],
   "source": [
    "cnames=['Algorithm', 'Year', 'RMSE', 'MSE', 'MEDAE', 'Accuracy', 'MAPE']\n",
    "df = pd.DataFrame(columns=cnames)\n",
    "\n",
    "df = df.append({'Algorithm': 'Bayesian',\n",
    "           'Year': 2020,\n",
    "           'RMSE': mean,\n",
    "           'MSE': mse,\n",
    "           'MEDAE': med,\n",
    "           'Accuracy': acc,\n",
    "           'MAPE': mape     \n",
    "          }, ignore_index=True)"
   ]
  },
  {
   "cell_type": "code",
   "execution_count": 126,
   "id": "001ed65f",
   "metadata": {},
   "outputs": [],
   "source": [
    "vis = pd.concat([df, df1, df2, df3, df4, df5, df6, df7, df8, df9, df10, df11], ignore_index=True)"
   ]
  },
  {
   "cell_type": "markdown",
   "id": "ebe84e60",
   "metadata": {},
   "source": [
    "## Let's test on more years of data now\n",
    "### 2019"
   ]
  },
  {
   "cell_type": "code",
   "execution_count": 127,
   "id": "a28e082d",
   "metadata": {},
   "outputs": [],
   "source": [
    "specific19 = irl[irl['Year'] >= 2014]"
   ]
  },
  {
   "cell_type": "code",
   "execution_count": 128,
   "id": "8f1319f8",
   "metadata": {},
   "outputs": [],
   "source": [
    "test_19 = specific19[specific19['Year'] == 2019]\n",
    "train_19 = specific19[specific19['Year'] < 2019]\n",
    "\n",
    "#train_19 = train_19.sample(n = 80000)\n",
    "#test_19 = test_19.sample(n = 20000)"
   ]
  },
  {
   "cell_type": "code",
   "execution_count": 129,
   "id": "bf7c39be",
   "metadata": {},
   "outputs": [],
   "source": [
    "#test_19.drop(columns=['Year'], inplace = True)\n",
    "#train_19.drop(columns=['Year'], inplace = True)\n",
    "\n",
    "#test_19"
   ]
  },
  {
   "cell_type": "code",
   "execution_count": 130,
   "id": "8417a368",
   "metadata": {},
   "outputs": [],
   "source": [
    "x_train_19 = train_19.loc[:, train_19.columns != 'PriceInflation']\n",
    "y_train_19 = train_19['PriceInflation']\n",
    "x_test_19 = test_19.loc[:, test_19.columns != 'PriceInflation']\n",
    "y_test_19 = test_19['PriceInflation']"
   ]
  },
  {
   "cell_type": "markdown",
   "id": "c3a2cce4",
   "metadata": {},
   "source": [
    "#### AutoML"
   ]
  },
  {
   "cell_type": "code",
   "execution_count": 131,
   "id": "4828a079",
   "metadata": {},
   "outputs": [
    {
     "name": "stdout",
     "output_type": "stream",
     "text": [
      "Linear algorithm was disabled.\n",
      "AutoML directory: AutoML_3\n",
      "The task is regression with evaluation metric rmse\n",
      "AutoML will use algorithms: ['Baseline', 'Decision Tree', 'Random Forest', 'Xgboost', 'Neural Network']\n",
      "AutoML will ensemble available models\n",
      "AutoML steps: ['simple_algorithms', 'default_algorithms', 'ensemble']\n",
      "* Step simple_algorithms will try to check up to 2 models\n",
      "1_Baseline rmse 0.771532 trained in 1.25 seconds\n",
      "2_DecisionTree rmse 0.434645 trained in 6.26 seconds\n",
      "* Step default_algorithms will try to check up to 3 models\n",
      "3_Default_Xgboost rmse 0.405626 trained in 17.4 seconds\n",
      "4_Default_NeuralNetwork rmse 0.411714 trained in 8.85 seconds\n",
      "5_Default_RandomForest rmse 0.416878 trained in 7.99 seconds\n",
      "* Step ensemble will try to check up to 1 model\n",
      "Ensemble rmse 0.405567 trained in 0.96 seconds\n",
      "AutoML fit time: 57.84 seconds\n",
      "AutoML best model: Ensemble\n"
     ]
    },
    {
     "data": {
      "text/plain": [
       "AutoML(total_time_limit=300)"
      ]
     },
     "execution_count": 131,
     "metadata": {},
     "output_type": "execute_result"
    }
   ],
   "source": [
    "automl = AutoML(total_time_limit = 5 * 60)\n",
    "automl.fit(x_train_19, y_train_19)"
   ]
  },
  {
   "cell_type": "code",
   "execution_count": 132,
   "id": "b4537cbc",
   "metadata": {},
   "outputs": [
    {
     "name": "stdout",
     "output_type": "stream",
     "text": [
      "MSE for AutoML 2019 is: 0.15255463213289316\n"
     ]
    }
   ],
   "source": [
    "y_pred_19 = automl.predict(x_test_19)\n",
    "# Calculation of Mean Squared Error (MSE)\n",
    "mse = mean_squared_error(y_test_19, y_pred_19)\n",
    "print('MSE for AutoML 2019 is: ' + str(mse))"
   ]
  },
  {
   "cell_type": "code",
   "execution_count": 133,
   "id": "f339b06f",
   "metadata": {},
   "outputs": [
    {
     "name": "stdout",
     "output_type": "stream",
     "text": [
      "Accuracy of properties at +- 10% of actual prices is 0.3410723765705185\n"
     ]
    }
   ],
   "source": [
    "acc = accuracy_threshold(y_test_19, y_pred_19, 0.1)\n",
    "print('Accuracy of properties at +- 10% of actual prices is ' + str(acc))"
   ]
  },
  {
   "cell_type": "code",
   "execution_count": 134,
   "id": "c4efa50f",
   "metadata": {},
   "outputs": [
    {
     "name": "stdout",
     "output_type": "stream",
     "text": [
      "RMSE for AutoML 2019 is: 0.39058242681013333\n"
     ]
    }
   ],
   "source": [
    "rmse = mean_squared_error(y_test_19, y_pred_19, squared=False)\n",
    "print('RMSE for AutoML 2019 is: ' + str(rmse))"
   ]
  },
  {
   "cell_type": "code",
   "execution_count": 135,
   "id": "27785851",
   "metadata": {},
   "outputs": [
    {
     "name": "stdout",
     "output_type": "stream",
     "text": [
      "Median Absolute Error:\n",
      "\n",
      "0.16952657055506393\n"
     ]
    }
   ],
   "source": [
    "median_se = np.square(np.subtract(y_test_19, y_pred_19)).median() \n",
    " \n",
    "med = math.sqrt(median_se)\n",
    "print(\"Median Absolute Error:\\n\")\n",
    "print(med)"
   ]
  },
  {
   "cell_type": "code",
   "execution_count": 136,
   "id": "6f9d464d",
   "metadata": {},
   "outputs": [
    {
     "name": "stdout",
     "output_type": "stream",
     "text": [
      "MAPE for AutoML 2019 is: 0.021603929948133982\n"
     ]
    }
   ],
   "source": [
    "mape = mean_absolute_percentage_error(y_test_19, y_pred_19)\n",
    "print(\"MAPE for AutoML 2019 is: \" + str(mape))"
   ]
  },
  {
   "cell_type": "code",
   "execution_count": 137,
   "id": "8721e6a7",
   "metadata": {},
   "outputs": [],
   "source": [
    "cnames = ['Algorithm', 'Year', 'RMSE', 'MSE', 'MEDAE', 'Accuracy', 'MAPE']\n",
    "df12 = pd.DataFrame(columns = cnames)\n",
    "\n",
    "df12 = df12.append({'Algorithm': 'AutoML',\n",
    "           'Year': 2019,\n",
    "           'RMSE': rmse,\n",
    "           'MSE': mse,\n",
    "           'MEDAE': med,\n",
    "           'Accuracy': acc,\n",
    "           'MAPE': mape         \n",
    "          }, ignore_index = True)"
   ]
  },
  {
   "cell_type": "markdown",
   "id": "ca2efb79",
   "metadata": {},
   "source": [
    "### MLR"
   ]
  },
  {
   "cell_type": "code",
   "execution_count": 138,
   "id": "275ddaff",
   "metadata": {},
   "outputs": [
    {
     "name": "stdout",
     "output_type": "stream",
     "text": [
      "MSE for MLR 2019 is: 0.20263949052689265\n"
     ]
    }
   ],
   "source": [
    "lm = linear_model.LinearRegression()\n",
    "lm.fit(x_train_19, y_train_19) # fitting the model\n",
    "y_pred_19 = lm.predict(x_test_19)\n",
    "# Calculation of Mean Squared Error (MSE)\n",
    "mse = mean_squared_error(y_test_19, y_pred_19)\n",
    "print('MSE for MLR 2019 is: ' + str(mse))"
   ]
  },
  {
   "cell_type": "code",
   "execution_count": 139,
   "id": "7b81a829",
   "metadata": {},
   "outputs": [
    {
     "name": "stdout",
     "output_type": "stream",
     "text": [
      "RMSE for MLR 2019 is: 0.450154962792695\n"
     ]
    }
   ],
   "source": [
    "rmse = mean_squared_error(y_test_19, y_pred_19, squared = False)\n",
    "print('RMSE for MLR 2019 is: ' + str(rmse))"
   ]
  },
  {
   "cell_type": "code",
   "execution_count": 140,
   "id": "667a1d99",
   "metadata": {},
   "outputs": [
    {
     "name": "stdout",
     "output_type": "stream",
     "text": [
      "Median Absolute Error:\n",
      "\n",
      "0.2353655107210546\n"
     ]
    }
   ],
   "source": [
    "median_se = np.square(np.subtract(y_test_19, y_pred_19)).median() \n",
    " \n",
    "med = math.sqrt(median_se)\n",
    "print(\"Median Absolute Error:\\n\")\n",
    "print(med)"
   ]
  },
  {
   "cell_type": "code",
   "execution_count": 141,
   "id": "7677f5ef",
   "metadata": {},
   "outputs": [
    {
     "name": "stdout",
     "output_type": "stream",
     "text": [
      "Accuracy of properties at +- 10% of actual prices is 0.23578127764997345\n"
     ]
    }
   ],
   "source": [
    "acc = accuracy_threshold(y_test_19, y_pred_19, 0.1)\n",
    "print('Accuracy of properties at +- 10% of actual prices is ' + str(acc))"
   ]
  },
  {
   "cell_type": "code",
   "execution_count": 142,
   "id": "bf56c4b5",
   "metadata": {},
   "outputs": [
    {
     "name": "stdout",
     "output_type": "stream",
     "text": [
      "MAPE for MLR 2021 is: 0.0263407104170811\n"
     ]
    }
   ],
   "source": [
    "mape = mean_absolute_percentage_error(y_test_19, y_pred_19)\n",
    "print(\"MAPE for MLR 2021 is: \" + str(mape))"
   ]
  },
  {
   "cell_type": "code",
   "execution_count": 143,
   "id": "73c874fe",
   "metadata": {},
   "outputs": [],
   "source": [
    "cnames = ['Algorithm', 'Year', 'RMSE', 'MSE', 'MEDAE', 'Accuracy', 'MAPE']\n",
    "df13 = pd.DataFrame(columns = cnames)\n",
    "\n",
    "df13 = df13.append({'Algorithm': 'MLR',\n",
    "           'Year': 2019,\n",
    "           'RMSE': rmse,\n",
    "           'MSE': mse,\n",
    "           'MEDAE': med,\n",
    "           'Accuracy': acc,\n",
    "           'MAPE': mape         \n",
    "          }, ignore_index = True)"
   ]
  },
  {
   "cell_type": "markdown",
   "id": "7d2dfd92",
   "metadata": {},
   "source": [
    "### AdaBoost"
   ]
  },
  {
   "cell_type": "code",
   "execution_count": 144,
   "id": "38c87d78",
   "metadata": {},
   "outputs": [
    {
     "name": "stdout",
     "output_type": "stream",
     "text": [
      "MSE for AdaBoost 2019 is: 0.24338256663808389\n"
     ]
    }
   ],
   "source": [
    "model = AdaBoostRegressor()\n",
    "model.fit(x_train_19, y_train_19)\n",
    "y_pred_19 = model.predict(x_test_19)\n",
    "# Calculation of Mean Squared Error (MSE)\n",
    "mse = mean_squared_error(y_test_19, y_pred_19)\n",
    "print('MSE for AdaBoost 2019 is: ' + str(mse))"
   ]
  },
  {
   "cell_type": "code",
   "execution_count": 145,
   "id": "74084674",
   "metadata": {},
   "outputs": [
    {
     "name": "stdout",
     "output_type": "stream",
     "text": [
      "RMSE for MLR 2019 is: 0.4933381868840926\n"
     ]
    }
   ],
   "source": [
    "rmse = mean_squared_error(y_test_19, y_pred_19, squared = False)\n",
    "print('RMSE for MLR 2019 is: ' + str(rmse))"
   ]
  },
  {
   "cell_type": "code",
   "execution_count": 146,
   "id": "1ad6d4b4",
   "metadata": {},
   "outputs": [
    {
     "name": "stdout",
     "output_type": "stream",
     "text": [
      "Median Absolute Error:\n",
      "\n",
      "0.33856119633720994\n"
     ]
    }
   ],
   "source": [
    "median_se = np.square(np.subtract(y_test_19, y_pred_19)).median() \n",
    " \n",
    "med = math.sqrt(median_se)\n",
    "print(\"Median Absolute Error:\\n\")\n",
    "print(med)"
   ]
  },
  {
   "cell_type": "code",
   "execution_count": 147,
   "id": "8597e974",
   "metadata": {},
   "outputs": [
    {
     "name": "stdout",
     "output_type": "stream",
     "text": [
      "Accuracy of properties at +- 10% of actual prices is 0.11580251282958769\n"
     ]
    }
   ],
   "source": [
    "acc = accuracy_threshold(y_test_19, y_pred_19, 0.1)\n",
    "print('Accuracy of properties at +- 10% of actual prices is ' + str(acc))"
   ]
  },
  {
   "cell_type": "code",
   "execution_count": 148,
   "id": "c6d16020",
   "metadata": {},
   "outputs": [
    {
     "name": "stdout",
     "output_type": "stream",
     "text": [
      "MAPE for AdaBoost 2019 is: 0.03222140243804484\n"
     ]
    }
   ],
   "source": [
    "mape = mean_absolute_percentage_error(y_test_19, y_pred_19)\n",
    "print(\"MAPE for AdaBoost 2019 is: \" + str(mape))"
   ]
  },
  {
   "cell_type": "code",
   "execution_count": 149,
   "id": "e1bef803",
   "metadata": {},
   "outputs": [],
   "source": [
    "cnames = ['Algorithm', 'Year', 'RMSE', 'MSE', 'MEDAE', 'Accuracy', 'MAPE']\n",
    "df14 = pd.DataFrame(columns = cnames)\n",
    "\n",
    "df14 = df14.append({'Algorithm': 'AdaBoost',\n",
    "           'Year': 2019,\n",
    "           'RMSE': rmse,\n",
    "           'MSE': mse,\n",
    "           'MEDAE': med,\n",
    "           'Accuracy': acc,\n",
    "           'MAPE': mape         \n",
    "          }, ignore_index = True)"
   ]
  },
  {
   "cell_type": "markdown",
   "id": "1938ea84",
   "metadata": {},
   "source": [
    "### LightGBM"
   ]
  },
  {
   "cell_type": "code",
   "execution_count": 150,
   "id": "32f45b77",
   "metadata": {},
   "outputs": [
    {
     "name": "stdout",
     "output_type": "stream",
     "text": [
      "MSE for LightGBM 2019 is: 0.15155333625237324\n"
     ]
    }
   ],
   "source": [
    "model = LGBMRegressor()\n",
    "model.fit(x_train_19, y_train_19)\n",
    "y_pred_19 = model.predict(x_test_19)\n",
    "# Calculation of Mean Squared Error (MSE)\n",
    "mse = mean_squared_error(y_test_19, y_pred_19)\n",
    "print('MSE for LightGBM 2019 is: ' + str(mse))"
   ]
  },
  {
   "cell_type": "code",
   "execution_count": 151,
   "id": "5b08f229",
   "metadata": {},
   "outputs": [
    {
     "name": "stdout",
     "output_type": "stream",
     "text": [
      "RMSE for LightGBM 2019 is: 0.3892985181738729\n"
     ]
    }
   ],
   "source": [
    "rmse = mean_squared_error(y_test_19, y_pred_19, squared = False)\n",
    "print('RMSE for LightGBM 2019 is: ' + str(rmse))"
   ]
  },
  {
   "cell_type": "code",
   "execution_count": 152,
   "id": "6e81490b",
   "metadata": {},
   "outputs": [
    {
     "name": "stdout",
     "output_type": "stream",
     "text": [
      "Median Absolute Error:\n",
      "\n",
      "0.16763966665603114\n"
     ]
    }
   ],
   "source": [
    "median_se = np.square(np.subtract(y_test_19, y_pred_19)).median() \n",
    " \n",
    "med = math.sqrt(median_se)\n",
    "print(\"Median Absolute Error:\\n\")\n",
    "print(med)"
   ]
  },
  {
   "cell_type": "code",
   "execution_count": 153,
   "id": "620c3251",
   "metadata": {},
   "outputs": [
    {
     "name": "stdout",
     "output_type": "stream",
     "text": [
      "Accuracy of properties at +- 10% of actual prices is 0.34039992921606793\n"
     ]
    }
   ],
   "source": [
    "acc = accuracy_threshold(y_test_19, y_pred_19, 0.1)\n",
    "print('Accuracy of properties at +- 10% of actual prices is ' + str(acc))"
   ]
  },
  {
   "cell_type": "code",
   "execution_count": 154,
   "id": "8bab1881",
   "metadata": {},
   "outputs": [
    {
     "name": "stdout",
     "output_type": "stream",
     "text": [
      "MAPE for LightGBM 2019 is: 0.021493020111169263\n"
     ]
    }
   ],
   "source": [
    "mape = mean_absolute_percentage_error(y_test_19, y_pred_19)\n",
    "print(\"MAPE for LightGBM 2019 is: \" + str(mape))"
   ]
  },
  {
   "cell_type": "code",
   "execution_count": 155,
   "id": "68e44550",
   "metadata": {},
   "outputs": [],
   "source": [
    "cnames = ['Algorithm', 'Year', 'RMSE', 'MSE', 'MEDAE', 'Accuracy', 'MAPE']\n",
    "df15 = pd.DataFrame(columns = cnames)\n",
    "\n",
    "df15 = df15.append({'Algorithm': 'LightGBM',\n",
    "           'Year': 2019,\n",
    "           'RMSE': rmse,\n",
    "           'MSE': mse,\n",
    "           'MEDAE': med,\n",
    "           'Accuracy': acc,\n",
    "           'MAPE': mape         \n",
    "          }, ignore_index = True)"
   ]
  },
  {
   "cell_type": "markdown",
   "id": "0c32398d",
   "metadata": {},
   "source": [
    "### CatBoost"
   ]
  },
  {
   "cell_type": "code",
   "execution_count": 156,
   "id": "18c72840",
   "metadata": {},
   "outputs": [
    {
     "name": "stdout",
     "output_type": "stream",
     "text": [
      "Learning rate set to 0.088297\n",
      "0:\tlearn: 0.7253318\ttotal: 22.9ms\tremaining: 22.8s\n",
      "1:\tlearn: 0.6859454\ttotal: 43.7ms\tremaining: 21.8s\n",
      "2:\tlearn: 0.6515357\ttotal: 73ms\tremaining: 24.3s\n",
      "3:\tlearn: 0.6211223\ttotal: 93.1ms\tremaining: 23.2s\n",
      "4:\tlearn: 0.5934272\ttotal: 117ms\tremaining: 23.3s\n",
      "5:\tlearn: 0.5692518\ttotal: 139ms\tremaining: 23s\n",
      "6:\tlearn: 0.5483429\ttotal: 162ms\tremaining: 23s\n",
      "7:\tlearn: 0.5301208\ttotal: 194ms\tremaining: 24.1s\n",
      "8:\tlearn: 0.5138140\ttotal: 216ms\tremaining: 23.8s\n",
      "9:\tlearn: 0.4997744\ttotal: 245ms\tremaining: 24.2s\n",
      "10:\tlearn: 0.4875548\ttotal: 271ms\tremaining: 24.3s\n",
      "11:\tlearn: 0.4769573\ttotal: 294ms\tremaining: 24.2s\n",
      "12:\tlearn: 0.4677254\ttotal: 319ms\tremaining: 24.2s\n",
      "13:\tlearn: 0.4599052\ttotal: 343ms\tremaining: 24.2s\n",
      "14:\tlearn: 0.4533633\ttotal: 368ms\tremaining: 24.1s\n",
      "15:\tlearn: 0.4474408\ttotal: 388ms\tremaining: 23.9s\n",
      "16:\tlearn: 0.4424665\ttotal: 420ms\tremaining: 24.3s\n",
      "17:\tlearn: 0.4381189\ttotal: 456ms\tremaining: 24.9s\n",
      "18:\tlearn: 0.4343885\ttotal: 485ms\tremaining: 25s\n",
      "19:\tlearn: 0.4313909\ttotal: 505ms\tremaining: 24.7s\n",
      "20:\tlearn: 0.4287676\ttotal: 528ms\tremaining: 24.6s\n",
      "21:\tlearn: 0.4263960\ttotal: 550ms\tremaining: 24.4s\n",
      "22:\tlearn: 0.4243618\ttotal: 568ms\tremaining: 24.1s\n",
      "23:\tlearn: 0.4225412\ttotal: 587ms\tremaining: 23.9s\n",
      "24:\tlearn: 0.4210086\ttotal: 612ms\tremaining: 23.9s\n",
      "25:\tlearn: 0.4196087\ttotal: 632ms\tremaining: 23.7s\n",
      "26:\tlearn: 0.4185787\ttotal: 652ms\tremaining: 23.5s\n",
      "27:\tlearn: 0.4175822\ttotal: 673ms\tremaining: 23.4s\n",
      "28:\tlearn: 0.4166713\ttotal: 699ms\tremaining: 23.4s\n",
      "29:\tlearn: 0.4159435\ttotal: 720ms\tremaining: 23.3s\n",
      "30:\tlearn: 0.4152654\ttotal: 742ms\tremaining: 23.2s\n",
      "31:\tlearn: 0.4146270\ttotal: 772ms\tremaining: 23.4s\n",
      "32:\tlearn: 0.4141639\ttotal: 794ms\tremaining: 23.3s\n",
      "33:\tlearn: 0.4137117\ttotal: 813ms\tremaining: 23.1s\n",
      "34:\tlearn: 0.4132840\ttotal: 831ms\tremaining: 22.9s\n",
      "35:\tlearn: 0.4129095\ttotal: 856ms\tremaining: 22.9s\n",
      "36:\tlearn: 0.4126231\ttotal: 880ms\tremaining: 22.9s\n",
      "37:\tlearn: 0.4123411\ttotal: 900ms\tremaining: 22.8s\n",
      "38:\tlearn: 0.4120793\ttotal: 958ms\tremaining: 23.6s\n",
      "39:\tlearn: 0.4118737\ttotal: 988ms\tremaining: 23.7s\n",
      "40:\tlearn: 0.4116991\ttotal: 1.01s\tremaining: 23.7s\n",
      "41:\tlearn: 0.4115213\ttotal: 1.04s\tremaining: 23.8s\n",
      "42:\tlearn: 0.4113828\ttotal: 1.07s\tremaining: 23.8s\n",
      "43:\tlearn: 0.4112162\ttotal: 1.09s\tremaining: 23.8s\n",
      "44:\tlearn: 0.4110730\ttotal: 1.11s\tremaining: 23.6s\n",
      "45:\tlearn: 0.4109387\ttotal: 1.13s\tremaining: 23.5s\n",
      "46:\tlearn: 0.4107999\ttotal: 1.16s\tremaining: 23.5s\n",
      "47:\tlearn: 0.4106708\ttotal: 1.18s\tremaining: 23.4s\n",
      "48:\tlearn: 0.4105504\ttotal: 1.2s\tremaining: 23.2s\n",
      "49:\tlearn: 0.4104564\ttotal: 1.22s\tremaining: 23.1s\n",
      "50:\tlearn: 0.4103749\ttotal: 1.24s\tremaining: 23.1s\n",
      "51:\tlearn: 0.4102896\ttotal: 1.26s\tremaining: 22.9s\n",
      "52:\tlearn: 0.4102158\ttotal: 1.28s\tremaining: 22.8s\n",
      "53:\tlearn: 0.4101437\ttotal: 1.3s\tremaining: 22.7s\n",
      "54:\tlearn: 0.4100636\ttotal: 1.32s\tremaining: 22.7s\n",
      "55:\tlearn: 0.4099636\ttotal: 1.34s\tremaining: 22.6s\n",
      "56:\tlearn: 0.4098859\ttotal: 1.36s\tremaining: 22.5s\n",
      "57:\tlearn: 0.4097969\ttotal: 1.38s\tremaining: 22.4s\n",
      "58:\tlearn: 0.4097283\ttotal: 1.4s\tremaining: 22.4s\n",
      "59:\tlearn: 0.4096646\ttotal: 1.42s\tremaining: 22.3s\n",
      "60:\tlearn: 0.4096091\ttotal: 1.45s\tremaining: 22.4s\n",
      "61:\tlearn: 0.4095369\ttotal: 1.49s\tremaining: 22.5s\n",
      "62:\tlearn: 0.4094610\ttotal: 1.51s\tremaining: 22.5s\n",
      "63:\tlearn: 0.4094040\ttotal: 1.53s\tremaining: 22.4s\n",
      "64:\tlearn: 0.4093357\ttotal: 1.55s\tremaining: 22.4s\n",
      "65:\tlearn: 0.4092702\ttotal: 1.58s\tremaining: 22.3s\n",
      "66:\tlearn: 0.4091912\ttotal: 1.6s\tremaining: 22.3s\n",
      "67:\tlearn: 0.4091380\ttotal: 1.61s\tremaining: 22.1s\n",
      "68:\tlearn: 0.4090757\ttotal: 1.64s\tremaining: 22.1s\n",
      "69:\tlearn: 0.4090239\ttotal: 1.66s\tremaining: 22s\n",
      "70:\tlearn: 0.4089488\ttotal: 1.68s\tremaining: 21.9s\n",
      "71:\tlearn: 0.4089002\ttotal: 1.69s\tremaining: 21.8s\n",
      "72:\tlearn: 0.4088246\ttotal: 1.72s\tremaining: 21.8s\n",
      "73:\tlearn: 0.4087711\ttotal: 1.74s\tremaining: 21.8s\n",
      "74:\tlearn: 0.4087159\ttotal: 1.76s\tremaining: 21.7s\n",
      "75:\tlearn: 0.4086659\ttotal: 1.78s\tremaining: 21.6s\n",
      "76:\tlearn: 0.4086325\ttotal: 1.8s\tremaining: 21.6s\n",
      "77:\tlearn: 0.4085963\ttotal: 1.82s\tremaining: 21.5s\n",
      "78:\tlearn: 0.4085520\ttotal: 1.84s\tremaining: 21.5s\n",
      "79:\tlearn: 0.4084877\ttotal: 1.86s\tremaining: 21.4s\n",
      "80:\tlearn: 0.4084409\ttotal: 1.89s\tremaining: 21.4s\n",
      "81:\tlearn: 0.4083760\ttotal: 1.91s\tremaining: 21.4s\n",
      "82:\tlearn: 0.4083485\ttotal: 1.93s\tremaining: 21.4s\n",
      "83:\tlearn: 0.4083258\ttotal: 1.96s\tremaining: 21.4s\n",
      "84:\tlearn: 0.4082912\ttotal: 2s\tremaining: 21.5s\n",
      "85:\tlearn: 0.4082514\ttotal: 2.02s\tremaining: 21.5s\n",
      "86:\tlearn: 0.4082073\ttotal: 2.04s\tremaining: 21.5s\n",
      "87:\tlearn: 0.4081797\ttotal: 2.07s\tremaining: 21.5s\n",
      "88:\tlearn: 0.4081143\ttotal: 2.09s\tremaining: 21.4s\n",
      "89:\tlearn: 0.4080754\ttotal: 2.11s\tremaining: 21.3s\n",
      "90:\tlearn: 0.4080495\ttotal: 2.14s\tremaining: 21.3s\n",
      "91:\tlearn: 0.4080130\ttotal: 2.16s\tremaining: 21.3s\n",
      "92:\tlearn: 0.4079557\ttotal: 2.17s\tremaining: 21.2s\n",
      "93:\tlearn: 0.4079178\ttotal: 2.19s\tremaining: 21.1s\n",
      "94:\tlearn: 0.4078903\ttotal: 2.21s\tremaining: 21.1s\n",
      "95:\tlearn: 0.4078255\ttotal: 2.24s\tremaining: 21.1s\n",
      "96:\tlearn: 0.4077834\ttotal: 2.29s\tremaining: 21.3s\n",
      "97:\tlearn: 0.4077438\ttotal: 2.33s\tremaining: 21.5s\n",
      "98:\tlearn: 0.4077102\ttotal: 2.37s\tremaining: 21.6s\n",
      "99:\tlearn: 0.4076717\ttotal: 2.41s\tremaining: 21.7s\n",
      "100:\tlearn: 0.4076341\ttotal: 2.45s\tremaining: 21.8s\n",
      "101:\tlearn: 0.4075997\ttotal: 2.51s\tremaining: 22.1s\n",
      "102:\tlearn: 0.4075485\ttotal: 2.58s\tremaining: 22.5s\n",
      "103:\tlearn: 0.4074994\ttotal: 2.63s\tremaining: 22.7s\n",
      "104:\tlearn: 0.4074644\ttotal: 2.69s\tremaining: 23s\n",
      "105:\tlearn: 0.4074352\ttotal: 2.74s\tremaining: 23.1s\n",
      "106:\tlearn: 0.4074038\ttotal: 2.83s\tremaining: 23.6s\n",
      "107:\tlearn: 0.4073885\ttotal: 2.88s\tremaining: 23.8s\n",
      "108:\tlearn: 0.4073628\ttotal: 2.91s\tremaining: 23.8s\n",
      "109:\tlearn: 0.4073318\ttotal: 2.94s\tremaining: 23.8s\n",
      "110:\tlearn: 0.4073097\ttotal: 2.97s\tremaining: 23.8s\n",
      "111:\tlearn: 0.4072630\ttotal: 3s\tremaining: 23.8s\n",
      "112:\tlearn: 0.4072347\ttotal: 3.03s\tremaining: 23.8s\n",
      "113:\tlearn: 0.4072195\ttotal: 3.09s\tremaining: 24s\n",
      "114:\tlearn: 0.4071923\ttotal: 3.12s\tremaining: 24s\n",
      "115:\tlearn: 0.4071659\ttotal: 3.15s\tremaining: 24s\n",
      "116:\tlearn: 0.4071453\ttotal: 3.17s\tremaining: 24s\n",
      "117:\tlearn: 0.4071287\ttotal: 3.19s\tremaining: 23.9s\n",
      "118:\tlearn: 0.4070928\ttotal: 3.22s\tremaining: 23.9s\n",
      "119:\tlearn: 0.4070525\ttotal: 3.25s\tremaining: 23.8s\n",
      "120:\tlearn: 0.4070347\ttotal: 3.26s\tremaining: 23.7s\n",
      "121:\tlearn: 0.4069955\ttotal: 3.28s\tremaining: 23.6s\n",
      "122:\tlearn: 0.4069594\ttotal: 3.3s\tremaining: 23.6s\n",
      "123:\tlearn: 0.4069220\ttotal: 3.32s\tremaining: 23.5s\n",
      "124:\tlearn: 0.4069035\ttotal: 3.34s\tremaining: 23.4s\n",
      "125:\tlearn: 0.4068627\ttotal: 3.35s\tremaining: 23.3s\n",
      "126:\tlearn: 0.4068435\ttotal: 3.37s\tremaining: 23.2s\n",
      "127:\tlearn: 0.4068152\ttotal: 3.39s\tremaining: 23.1s\n",
      "128:\tlearn: 0.4067603\ttotal: 3.4s\tremaining: 23s\n",
      "129:\tlearn: 0.4067096\ttotal: 3.42s\tremaining: 22.9s\n",
      "130:\tlearn: 0.4066686\ttotal: 3.43s\tremaining: 22.8s\n",
      "131:\tlearn: 0.4066488\ttotal: 3.45s\tremaining: 22.7s\n",
      "132:\tlearn: 0.4066062\ttotal: 3.47s\tremaining: 22.6s\n",
      "133:\tlearn: 0.4065750\ttotal: 3.49s\tremaining: 22.5s\n",
      "134:\tlearn: 0.4065511\ttotal: 3.51s\tremaining: 22.5s\n",
      "135:\tlearn: 0.4065095\ttotal: 3.53s\tremaining: 22.4s\n",
      "136:\tlearn: 0.4064533\ttotal: 3.55s\tremaining: 22.4s\n",
      "137:\tlearn: 0.4064306\ttotal: 3.57s\tremaining: 22.3s\n",
      "138:\tlearn: 0.4064136\ttotal: 3.59s\tremaining: 22.3s\n",
      "139:\tlearn: 0.4063739\ttotal: 3.61s\tremaining: 22.2s\n",
      "140:\tlearn: 0.4063448\ttotal: 3.63s\tremaining: 22.1s\n",
      "141:\tlearn: 0.4063266\ttotal: 3.65s\tremaining: 22.1s\n",
      "142:\tlearn: 0.4062922\ttotal: 3.68s\tremaining: 22s\n",
      "143:\tlearn: 0.4062773\ttotal: 3.7s\tremaining: 22s\n",
      "144:\tlearn: 0.4062505\ttotal: 3.72s\tremaining: 21.9s\n",
      "145:\tlearn: 0.4062239\ttotal: 3.74s\tremaining: 21.9s\n",
      "146:\tlearn: 0.4062064\ttotal: 3.76s\tremaining: 21.8s\n",
      "147:\tlearn: 0.4061552\ttotal: 3.79s\tremaining: 21.8s\n",
      "148:\tlearn: 0.4061362\ttotal: 3.81s\tremaining: 21.8s\n",
      "149:\tlearn: 0.4061042\ttotal: 3.83s\tremaining: 21.7s\n",
      "150:\tlearn: 0.4060735\ttotal: 3.85s\tremaining: 21.6s\n",
      "151:\tlearn: 0.4060482\ttotal: 3.87s\tremaining: 21.6s\n",
      "152:\tlearn: 0.4060261\ttotal: 3.89s\tremaining: 21.6s\n",
      "153:\tlearn: 0.4060075\ttotal: 3.91s\tremaining: 21.5s\n",
      "154:\tlearn: 0.4059702\ttotal: 3.93s\tremaining: 21.4s\n",
      "155:\tlearn: 0.4059411\ttotal: 3.95s\tremaining: 21.4s\n",
      "156:\tlearn: 0.4059222\ttotal: 3.97s\tremaining: 21.3s\n",
      "157:\tlearn: 0.4059000\ttotal: 3.99s\tremaining: 21.3s\n",
      "158:\tlearn: 0.4058696\ttotal: 4.01s\tremaining: 21.2s\n",
      "159:\tlearn: 0.4058445\ttotal: 4.02s\tremaining: 21.1s\n",
      "160:\tlearn: 0.4058305\ttotal: 4.04s\tremaining: 21s\n",
      "161:\tlearn: 0.4058074\ttotal: 4.05s\tremaining: 21s\n",
      "162:\tlearn: 0.4057879\ttotal: 4.07s\tremaining: 20.9s\n"
     ]
    },
    {
     "name": "stdout",
     "output_type": "stream",
     "text": [
      "163:\tlearn: 0.4057591\ttotal: 4.11s\tremaining: 21s\n",
      "164:\tlearn: 0.4057453\ttotal: 4.14s\tremaining: 20.9s\n",
      "165:\tlearn: 0.4057301\ttotal: 4.17s\tremaining: 20.9s\n",
      "166:\tlearn: 0.4057014\ttotal: 4.19s\tremaining: 20.9s\n",
      "167:\tlearn: 0.4056728\ttotal: 4.21s\tremaining: 20.9s\n",
      "168:\tlearn: 0.4056343\ttotal: 4.23s\tremaining: 20.8s\n",
      "169:\tlearn: 0.4056183\ttotal: 4.25s\tremaining: 20.8s\n",
      "170:\tlearn: 0.4056026\ttotal: 4.27s\tremaining: 20.7s\n",
      "171:\tlearn: 0.4055769\ttotal: 4.29s\tremaining: 20.6s\n",
      "172:\tlearn: 0.4055516\ttotal: 4.3s\tremaining: 20.6s\n",
      "173:\tlearn: 0.4055288\ttotal: 4.32s\tremaining: 20.5s\n",
      "174:\tlearn: 0.4055024\ttotal: 4.34s\tremaining: 20.5s\n",
      "175:\tlearn: 0.4054740\ttotal: 4.36s\tremaining: 20.4s\n",
      "176:\tlearn: 0.4054465\ttotal: 4.38s\tremaining: 20.4s\n",
      "177:\tlearn: 0.4054150\ttotal: 4.39s\tremaining: 20.3s\n",
      "178:\tlearn: 0.4053895\ttotal: 4.41s\tremaining: 20.2s\n",
      "179:\tlearn: 0.4053473\ttotal: 4.42s\tremaining: 20.2s\n",
      "180:\tlearn: 0.4053256\ttotal: 4.44s\tremaining: 20.1s\n",
      "181:\tlearn: 0.4053080\ttotal: 4.45s\tremaining: 20s\n",
      "182:\tlearn: 0.4052883\ttotal: 4.47s\tremaining: 19.9s\n",
      "183:\tlearn: 0.4052744\ttotal: 4.48s\tremaining: 19.9s\n",
      "184:\tlearn: 0.4052587\ttotal: 4.5s\tremaining: 19.8s\n",
      "185:\tlearn: 0.4052234\ttotal: 4.51s\tremaining: 19.7s\n",
      "186:\tlearn: 0.4052009\ttotal: 4.53s\tremaining: 19.7s\n",
      "187:\tlearn: 0.4051836\ttotal: 4.55s\tremaining: 19.6s\n",
      "188:\tlearn: 0.4051615\ttotal: 4.57s\tremaining: 19.6s\n",
      "189:\tlearn: 0.4051185\ttotal: 4.59s\tremaining: 19.6s\n",
      "190:\tlearn: 0.4051041\ttotal: 4.62s\tremaining: 19.6s\n",
      "191:\tlearn: 0.4050747\ttotal: 4.64s\tremaining: 19.5s\n",
      "192:\tlearn: 0.4050426\ttotal: 4.66s\tremaining: 19.5s\n",
      "193:\tlearn: 0.4050082\ttotal: 4.68s\tremaining: 19.4s\n",
      "194:\tlearn: 0.4049907\ttotal: 4.7s\tremaining: 19.4s\n",
      "195:\tlearn: 0.4049648\ttotal: 4.72s\tremaining: 19.4s\n",
      "196:\tlearn: 0.4049197\ttotal: 4.74s\tremaining: 19.3s\n",
      "197:\tlearn: 0.4048942\ttotal: 4.77s\tremaining: 19.3s\n",
      "198:\tlearn: 0.4048665\ttotal: 4.79s\tremaining: 19.3s\n",
      "199:\tlearn: 0.4048540\ttotal: 4.82s\tremaining: 19.3s\n",
      "200:\tlearn: 0.4048355\ttotal: 4.84s\tremaining: 19.2s\n",
      "201:\tlearn: 0.4048114\ttotal: 4.86s\tremaining: 19.2s\n",
      "202:\tlearn: 0.4047887\ttotal: 4.87s\tremaining: 19.1s\n",
      "203:\tlearn: 0.4047673\ttotal: 4.89s\tremaining: 19.1s\n",
      "204:\tlearn: 0.4047400\ttotal: 4.91s\tremaining: 19s\n",
      "205:\tlearn: 0.4047148\ttotal: 4.92s\tremaining: 19s\n",
      "206:\tlearn: 0.4046864\ttotal: 4.94s\tremaining: 18.9s\n",
      "207:\tlearn: 0.4046561\ttotal: 4.96s\tremaining: 18.9s\n",
      "208:\tlearn: 0.4046342\ttotal: 4.98s\tremaining: 18.8s\n",
      "209:\tlearn: 0.4046142\ttotal: 4.99s\tremaining: 18.8s\n",
      "210:\tlearn: 0.4045970\ttotal: 5.01s\tremaining: 18.7s\n",
      "211:\tlearn: 0.4045701\ttotal: 5.02s\tremaining: 18.7s\n",
      "212:\tlearn: 0.4045536\ttotal: 5.04s\tremaining: 18.6s\n",
      "213:\tlearn: 0.4045160\ttotal: 5.05s\tremaining: 18.5s\n",
      "214:\tlearn: 0.4044903\ttotal: 5.06s\tremaining: 18.5s\n",
      "215:\tlearn: 0.4044723\ttotal: 5.08s\tremaining: 18.4s\n",
      "216:\tlearn: 0.4044625\ttotal: 5.09s\tremaining: 18.4s\n",
      "217:\tlearn: 0.4044494\ttotal: 5.11s\tremaining: 18.3s\n",
      "218:\tlearn: 0.4044292\ttotal: 5.13s\tremaining: 18.3s\n",
      "219:\tlearn: 0.4044095\ttotal: 5.16s\tremaining: 18.3s\n",
      "220:\tlearn: 0.4043795\ttotal: 5.17s\tremaining: 18.2s\n",
      "221:\tlearn: 0.4043685\ttotal: 5.19s\tremaining: 18.2s\n",
      "222:\tlearn: 0.4043577\ttotal: 5.21s\tremaining: 18.2s\n",
      "223:\tlearn: 0.4043398\ttotal: 5.22s\tremaining: 18.1s\n",
      "224:\tlearn: 0.4043198\ttotal: 5.24s\tremaining: 18s\n",
      "225:\tlearn: 0.4042983\ttotal: 5.25s\tremaining: 18s\n",
      "226:\tlearn: 0.4042693\ttotal: 5.27s\tremaining: 17.9s\n",
      "227:\tlearn: 0.4042420\ttotal: 5.29s\tremaining: 17.9s\n",
      "228:\tlearn: 0.4042182\ttotal: 5.3s\tremaining: 17.8s\n",
      "229:\tlearn: 0.4042013\ttotal: 5.31s\tremaining: 17.8s\n",
      "230:\tlearn: 0.4041701\ttotal: 5.33s\tremaining: 17.7s\n",
      "231:\tlearn: 0.4041416\ttotal: 5.34s\tremaining: 17.7s\n",
      "232:\tlearn: 0.4041182\ttotal: 5.36s\tremaining: 17.7s\n",
      "233:\tlearn: 0.4041003\ttotal: 5.38s\tremaining: 17.6s\n",
      "234:\tlearn: 0.4040725\ttotal: 5.41s\tremaining: 17.6s\n",
      "235:\tlearn: 0.4040615\ttotal: 5.42s\tremaining: 17.6s\n",
      "236:\tlearn: 0.4040453\ttotal: 5.44s\tremaining: 17.5s\n",
      "237:\tlearn: 0.4040296\ttotal: 5.46s\tremaining: 17.5s\n",
      "238:\tlearn: 0.4040144\ttotal: 5.48s\tremaining: 17.5s\n",
      "239:\tlearn: 0.4039921\ttotal: 5.51s\tremaining: 17.4s\n",
      "240:\tlearn: 0.4039756\ttotal: 5.53s\tremaining: 17.4s\n",
      "241:\tlearn: 0.4039381\ttotal: 5.55s\tremaining: 17.4s\n",
      "242:\tlearn: 0.4039316\ttotal: 5.57s\tremaining: 17.3s\n",
      "243:\tlearn: 0.4039052\ttotal: 5.59s\tremaining: 17.3s\n",
      "244:\tlearn: 0.4038733\ttotal: 5.61s\tremaining: 17.3s\n",
      "245:\tlearn: 0.4038555\ttotal: 5.64s\tremaining: 17.3s\n",
      "246:\tlearn: 0.4038383\ttotal: 5.67s\tremaining: 17.3s\n",
      "247:\tlearn: 0.4038279\ttotal: 5.68s\tremaining: 17.2s\n",
      "248:\tlearn: 0.4038009\ttotal: 5.7s\tremaining: 17.2s\n",
      "249:\tlearn: 0.4037735\ttotal: 5.72s\tremaining: 17.2s\n",
      "250:\tlearn: 0.4037606\ttotal: 5.74s\tremaining: 17.1s\n",
      "251:\tlearn: 0.4037273\ttotal: 5.76s\tremaining: 17.1s\n",
      "252:\tlearn: 0.4037160\ttotal: 5.79s\tremaining: 17.1s\n",
      "253:\tlearn: 0.4036885\ttotal: 5.81s\tremaining: 17.1s\n",
      "254:\tlearn: 0.4036755\ttotal: 5.84s\tremaining: 17.1s\n",
      "255:\tlearn: 0.4036642\ttotal: 5.87s\tremaining: 17.1s\n",
      "256:\tlearn: 0.4036470\ttotal: 5.89s\tremaining: 17s\n",
      "257:\tlearn: 0.4036248\ttotal: 5.91s\tremaining: 17s\n",
      "258:\tlearn: 0.4036082\ttotal: 5.94s\tremaining: 17s\n",
      "259:\tlearn: 0.4036000\ttotal: 5.96s\tremaining: 17s\n",
      "260:\tlearn: 0.4035699\ttotal: 5.98s\tremaining: 16.9s\n",
      "261:\tlearn: 0.4035578\ttotal: 6s\tremaining: 16.9s\n",
      "262:\tlearn: 0.4035429\ttotal: 6.02s\tremaining: 16.9s\n",
      "263:\tlearn: 0.4035322\ttotal: 6.04s\tremaining: 16.8s\n",
      "264:\tlearn: 0.4035009\ttotal: 6.05s\tremaining: 16.8s\n",
      "265:\tlearn: 0.4034816\ttotal: 6.07s\tremaining: 16.8s\n",
      "266:\tlearn: 0.4034693\ttotal: 6.08s\tremaining: 16.7s\n",
      "267:\tlearn: 0.4034464\ttotal: 6.1s\tremaining: 16.7s\n",
      "268:\tlearn: 0.4034262\ttotal: 6.12s\tremaining: 16.6s\n",
      "269:\tlearn: 0.4034065\ttotal: 6.14s\tremaining: 16.6s\n",
      "270:\tlearn: 0.4033764\ttotal: 6.16s\tremaining: 16.6s\n",
      "271:\tlearn: 0.4033668\ttotal: 6.2s\tremaining: 16.6s\n",
      "272:\tlearn: 0.4033438\ttotal: 6.22s\tremaining: 16.6s\n",
      "273:\tlearn: 0.4033307\ttotal: 6.26s\tremaining: 16.6s\n",
      "274:\tlearn: 0.4033125\ttotal: 6.28s\tremaining: 16.6s\n",
      "275:\tlearn: 0.4032989\ttotal: 6.3s\tremaining: 16.5s\n",
      "276:\tlearn: 0.4032853\ttotal: 6.32s\tremaining: 16.5s\n",
      "277:\tlearn: 0.4032763\ttotal: 6.33s\tremaining: 16.4s\n",
      "278:\tlearn: 0.4032579\ttotal: 6.35s\tremaining: 16.4s\n",
      "279:\tlearn: 0.4032525\ttotal: 6.36s\tremaining: 16.4s\n",
      "280:\tlearn: 0.4032424\ttotal: 6.38s\tremaining: 16.3s\n",
      "281:\tlearn: 0.4032291\ttotal: 6.4s\tremaining: 16.3s\n",
      "282:\tlearn: 0.4032145\ttotal: 6.42s\tremaining: 16.3s\n",
      "283:\tlearn: 0.4031893\ttotal: 6.43s\tremaining: 16.2s\n",
      "284:\tlearn: 0.4031730\ttotal: 6.46s\tremaining: 16.2s\n",
      "285:\tlearn: 0.4031574\ttotal: 6.47s\tremaining: 16.2s\n",
      "286:\tlearn: 0.4031442\ttotal: 6.49s\tremaining: 16.1s\n",
      "287:\tlearn: 0.4031276\ttotal: 6.5s\tremaining: 16.1s\n",
      "288:\tlearn: 0.4031124\ttotal: 6.51s\tremaining: 16s\n",
      "289:\tlearn: 0.4030892\ttotal: 6.53s\tremaining: 16s\n",
      "290:\tlearn: 0.4030607\ttotal: 6.54s\tremaining: 15.9s\n",
      "291:\tlearn: 0.4030503\ttotal: 6.56s\tremaining: 15.9s\n",
      "292:\tlearn: 0.4030349\ttotal: 6.58s\tremaining: 15.9s\n",
      "293:\tlearn: 0.4030184\ttotal: 6.59s\tremaining: 15.8s\n",
      "294:\tlearn: 0.4029849\ttotal: 6.61s\tremaining: 15.8s\n",
      "295:\tlearn: 0.4029632\ttotal: 6.63s\tremaining: 15.8s\n",
      "296:\tlearn: 0.4029365\ttotal: 6.65s\tremaining: 15.7s\n",
      "297:\tlearn: 0.4029138\ttotal: 6.66s\tremaining: 15.7s\n",
      "298:\tlearn: 0.4028945\ttotal: 6.68s\tremaining: 15.7s\n",
      "299:\tlearn: 0.4028827\ttotal: 6.7s\tremaining: 15.6s\n",
      "300:\tlearn: 0.4028618\ttotal: 6.73s\tremaining: 15.6s\n",
      "301:\tlearn: 0.4028373\ttotal: 6.75s\tremaining: 15.6s\n",
      "302:\tlearn: 0.4028159\ttotal: 6.76s\tremaining: 15.6s\n",
      "303:\tlearn: 0.4027962\ttotal: 6.78s\tremaining: 15.5s\n",
      "304:\tlearn: 0.4027853\ttotal: 6.8s\tremaining: 15.5s\n",
      "305:\tlearn: 0.4027538\ttotal: 6.82s\tremaining: 15.5s\n",
      "306:\tlearn: 0.4027378\ttotal: 6.84s\tremaining: 15.4s\n",
      "307:\tlearn: 0.4027217\ttotal: 6.86s\tremaining: 15.4s\n",
      "308:\tlearn: 0.4026936\ttotal: 6.88s\tremaining: 15.4s\n",
      "309:\tlearn: 0.4026793\ttotal: 6.89s\tremaining: 15.3s\n",
      "310:\tlearn: 0.4026704\ttotal: 6.91s\tremaining: 15.3s\n",
      "311:\tlearn: 0.4026498\ttotal: 6.92s\tremaining: 15.3s\n",
      "312:\tlearn: 0.4026343\ttotal: 6.94s\tremaining: 15.2s\n",
      "313:\tlearn: 0.4025826\ttotal: 6.95s\tremaining: 15.2s\n",
      "314:\tlearn: 0.4025663\ttotal: 6.97s\tremaining: 15.2s\n",
      "315:\tlearn: 0.4025514\ttotal: 6.99s\tremaining: 15.1s\n",
      "316:\tlearn: 0.4025405\ttotal: 7s\tremaining: 15.1s\n",
      "317:\tlearn: 0.4025262\ttotal: 7.03s\tremaining: 15.1s\n",
      "318:\tlearn: 0.4025134\ttotal: 7.05s\tremaining: 15s\n",
      "319:\tlearn: 0.4024929\ttotal: 7.07s\tremaining: 15s\n",
      "320:\tlearn: 0.4024743\ttotal: 7.09s\tremaining: 15s\n",
      "321:\tlearn: 0.4024549\ttotal: 7.11s\tremaining: 15s\n",
      "322:\tlearn: 0.4024420\ttotal: 7.12s\tremaining: 14.9s\n",
      "323:\tlearn: 0.4024220\ttotal: 7.14s\tremaining: 14.9s\n",
      "324:\tlearn: 0.4024143\ttotal: 7.15s\tremaining: 14.9s\n",
      "325:\tlearn: 0.4024055\ttotal: 7.17s\tremaining: 14.8s\n",
      "326:\tlearn: 0.4023903\ttotal: 7.18s\tremaining: 14.8s\n",
      "327:\tlearn: 0.4023731\ttotal: 7.2s\tremaining: 14.7s\n",
      "328:\tlearn: 0.4023623\ttotal: 7.21s\tremaining: 14.7s\n"
     ]
    },
    {
     "name": "stdout",
     "output_type": "stream",
     "text": [
      "329:\tlearn: 0.4023531\ttotal: 7.24s\tremaining: 14.7s\n",
      "330:\tlearn: 0.4023389\ttotal: 7.27s\tremaining: 14.7s\n",
      "331:\tlearn: 0.4023115\ttotal: 7.29s\tremaining: 14.7s\n",
      "332:\tlearn: 0.4022882\ttotal: 7.31s\tremaining: 14.6s\n",
      "333:\tlearn: 0.4022712\ttotal: 7.33s\tremaining: 14.6s\n",
      "334:\tlearn: 0.4022585\ttotal: 7.34s\tremaining: 14.6s\n",
      "335:\tlearn: 0.4022445\ttotal: 7.36s\tremaining: 14.5s\n",
      "336:\tlearn: 0.4022214\ttotal: 7.37s\tremaining: 14.5s\n",
      "337:\tlearn: 0.4022042\ttotal: 7.38s\tremaining: 14.5s\n",
      "338:\tlearn: 0.4021846\ttotal: 7.4s\tremaining: 14.4s\n",
      "339:\tlearn: 0.4021667\ttotal: 7.41s\tremaining: 14.4s\n",
      "340:\tlearn: 0.4021434\ttotal: 7.43s\tremaining: 14.4s\n",
      "341:\tlearn: 0.4021269\ttotal: 7.45s\tremaining: 14.3s\n",
      "342:\tlearn: 0.4020926\ttotal: 7.47s\tremaining: 14.3s\n",
      "343:\tlearn: 0.4020821\ttotal: 7.49s\tremaining: 14.3s\n",
      "344:\tlearn: 0.4020568\ttotal: 7.51s\tremaining: 14.3s\n",
      "345:\tlearn: 0.4020325\ttotal: 7.52s\tremaining: 14.2s\n",
      "346:\tlearn: 0.4020231\ttotal: 7.54s\tremaining: 14.2s\n",
      "347:\tlearn: 0.4020094\ttotal: 7.55s\tremaining: 14.2s\n",
      "348:\tlearn: 0.4019950\ttotal: 7.57s\tremaining: 14.1s\n",
      "349:\tlearn: 0.4019786\ttotal: 7.58s\tremaining: 14.1s\n",
      "350:\tlearn: 0.4019601\ttotal: 7.59s\tremaining: 14s\n",
      "351:\tlearn: 0.4019463\ttotal: 7.61s\tremaining: 14s\n",
      "352:\tlearn: 0.4019289\ttotal: 7.62s\tremaining: 14s\n",
      "353:\tlearn: 0.4019057\ttotal: 7.64s\tremaining: 13.9s\n",
      "354:\tlearn: 0.4018901\ttotal: 7.65s\tremaining: 13.9s\n",
      "355:\tlearn: 0.4018688\ttotal: 7.67s\tremaining: 13.9s\n",
      "356:\tlearn: 0.4018568\ttotal: 7.69s\tremaining: 13.9s\n",
      "357:\tlearn: 0.4018429\ttotal: 7.71s\tremaining: 13.8s\n",
      "358:\tlearn: 0.4018360\ttotal: 7.72s\tremaining: 13.8s\n",
      "359:\tlearn: 0.4018174\ttotal: 7.74s\tremaining: 13.8s\n",
      "360:\tlearn: 0.4017964\ttotal: 7.77s\tremaining: 13.8s\n",
      "361:\tlearn: 0.4017755\ttotal: 7.79s\tremaining: 13.7s\n",
      "362:\tlearn: 0.4017598\ttotal: 7.81s\tremaining: 13.7s\n",
      "363:\tlearn: 0.4017489\ttotal: 7.87s\tremaining: 13.7s\n",
      "364:\tlearn: 0.4017213\ttotal: 7.91s\tremaining: 13.8s\n",
      "365:\tlearn: 0.4017105\ttotal: 7.94s\tremaining: 13.8s\n",
      "366:\tlearn: 0.4016899\ttotal: 7.96s\tremaining: 13.7s\n",
      "367:\tlearn: 0.4016769\ttotal: 7.99s\tremaining: 13.7s\n",
      "368:\tlearn: 0.4016492\ttotal: 8.02s\tremaining: 13.7s\n",
      "369:\tlearn: 0.4016395\ttotal: 8.05s\tremaining: 13.7s\n",
      "370:\tlearn: 0.4016217\ttotal: 8.07s\tremaining: 13.7s\n",
      "371:\tlearn: 0.4015971\ttotal: 8.12s\tremaining: 13.7s\n",
      "372:\tlearn: 0.4015870\ttotal: 8.16s\tremaining: 13.7s\n",
      "373:\tlearn: 0.4015494\ttotal: 8.24s\tremaining: 13.8s\n",
      "374:\tlearn: 0.4015292\ttotal: 8.3s\tremaining: 13.8s\n",
      "375:\tlearn: 0.4015158\ttotal: 8.36s\tremaining: 13.9s\n",
      "376:\tlearn: 0.4014976\ttotal: 8.4s\tremaining: 13.9s\n",
      "377:\tlearn: 0.4014745\ttotal: 8.42s\tremaining: 13.9s\n",
      "378:\tlearn: 0.4014566\ttotal: 8.45s\tremaining: 13.8s\n",
      "379:\tlearn: 0.4014472\ttotal: 8.47s\tremaining: 13.8s\n",
      "380:\tlearn: 0.4014296\ttotal: 8.49s\tremaining: 13.8s\n",
      "381:\tlearn: 0.4014060\ttotal: 8.53s\tremaining: 13.8s\n",
      "382:\tlearn: 0.4013921\ttotal: 8.56s\tremaining: 13.8s\n",
      "383:\tlearn: 0.4013775\ttotal: 8.61s\tremaining: 13.8s\n",
      "384:\tlearn: 0.4013547\ttotal: 8.64s\tremaining: 13.8s\n",
      "385:\tlearn: 0.4013505\ttotal: 8.67s\tremaining: 13.8s\n",
      "386:\tlearn: 0.4013373\ttotal: 8.7s\tremaining: 13.8s\n",
      "387:\tlearn: 0.4013054\ttotal: 8.72s\tremaining: 13.8s\n",
      "388:\tlearn: 0.4012975\ttotal: 8.75s\tremaining: 13.7s\n",
      "389:\tlearn: 0.4012859\ttotal: 8.77s\tremaining: 13.7s\n",
      "390:\tlearn: 0.4012736\ttotal: 8.79s\tremaining: 13.7s\n",
      "391:\tlearn: 0.4012595\ttotal: 8.81s\tremaining: 13.7s\n",
      "392:\tlearn: 0.4012401\ttotal: 8.84s\tremaining: 13.7s\n",
      "393:\tlearn: 0.4012216\ttotal: 8.87s\tremaining: 13.6s\n",
      "394:\tlearn: 0.4011866\ttotal: 8.89s\tremaining: 13.6s\n",
      "395:\tlearn: 0.4011707\ttotal: 8.91s\tremaining: 13.6s\n",
      "396:\tlearn: 0.4011513\ttotal: 8.93s\tremaining: 13.6s\n",
      "397:\tlearn: 0.4011359\ttotal: 8.95s\tremaining: 13.5s\n",
      "398:\tlearn: 0.4011182\ttotal: 8.97s\tremaining: 13.5s\n",
      "399:\tlearn: 0.4010999\ttotal: 8.99s\tremaining: 13.5s\n",
      "400:\tlearn: 0.4010746\ttotal: 9.01s\tremaining: 13.5s\n",
      "401:\tlearn: 0.4010541\ttotal: 9.03s\tremaining: 13.4s\n",
      "402:\tlearn: 0.4010324\ttotal: 9.05s\tremaining: 13.4s\n",
      "403:\tlearn: 0.4010153\ttotal: 9.07s\tremaining: 13.4s\n",
      "404:\tlearn: 0.4010006\ttotal: 9.09s\tremaining: 13.4s\n",
      "405:\tlearn: 0.4009571\ttotal: 9.11s\tremaining: 13.3s\n",
      "406:\tlearn: 0.4009429\ttotal: 9.14s\tremaining: 13.3s\n",
      "407:\tlearn: 0.4009256\ttotal: 9.16s\tremaining: 13.3s\n",
      "408:\tlearn: 0.4009141\ttotal: 9.19s\tremaining: 13.3s\n",
      "409:\tlearn: 0.4009091\ttotal: 9.2s\tremaining: 13.2s\n",
      "410:\tlearn: 0.4008988\ttotal: 9.23s\tremaining: 13.2s\n",
      "411:\tlearn: 0.4008752\ttotal: 9.25s\tremaining: 13.2s\n",
      "412:\tlearn: 0.4008621\ttotal: 9.27s\tremaining: 13.2s\n",
      "413:\tlearn: 0.4008473\ttotal: 9.29s\tremaining: 13.1s\n",
      "414:\tlearn: 0.4008364\ttotal: 9.31s\tremaining: 13.1s\n",
      "415:\tlearn: 0.4008173\ttotal: 9.33s\tremaining: 13.1s\n",
      "416:\tlearn: 0.4008017\ttotal: 9.37s\tremaining: 13.1s\n",
      "417:\tlearn: 0.4007807\ttotal: 9.39s\tremaining: 13.1s\n",
      "418:\tlearn: 0.4007664\ttotal: 9.41s\tremaining: 13.1s\n",
      "419:\tlearn: 0.4007537\ttotal: 9.43s\tremaining: 13s\n",
      "420:\tlearn: 0.4007335\ttotal: 9.45s\tremaining: 13s\n",
      "421:\tlearn: 0.4007176\ttotal: 9.47s\tremaining: 13s\n",
      "422:\tlearn: 0.4006995\ttotal: 9.49s\tremaining: 12.9s\n",
      "423:\tlearn: 0.4006860\ttotal: 9.5s\tremaining: 12.9s\n",
      "424:\tlearn: 0.4006741\ttotal: 9.52s\tremaining: 12.9s\n",
      "425:\tlearn: 0.4006477\ttotal: 9.55s\tremaining: 12.9s\n",
      "426:\tlearn: 0.4006387\ttotal: 9.57s\tremaining: 12.8s\n",
      "427:\tlearn: 0.4006204\ttotal: 9.6s\tremaining: 12.8s\n",
      "428:\tlearn: 0.4006070\ttotal: 9.62s\tremaining: 12.8s\n",
      "429:\tlearn: 0.4005945\ttotal: 9.67s\tremaining: 12.8s\n",
      "430:\tlearn: 0.4005826\ttotal: 9.72s\tremaining: 12.8s\n",
      "431:\tlearn: 0.4005698\ttotal: 9.75s\tremaining: 12.8s\n",
      "432:\tlearn: 0.4005630\ttotal: 9.82s\tremaining: 12.9s\n",
      "433:\tlearn: 0.4005517\ttotal: 9.89s\tremaining: 12.9s\n",
      "434:\tlearn: 0.4005346\ttotal: 9.91s\tremaining: 12.9s\n",
      "435:\tlearn: 0.4005247\ttotal: 9.92s\tremaining: 12.8s\n",
      "436:\tlearn: 0.4005137\ttotal: 9.94s\tremaining: 12.8s\n",
      "437:\tlearn: 0.4004887\ttotal: 9.95s\tremaining: 12.8s\n",
      "438:\tlearn: 0.4004738\ttotal: 9.97s\tremaining: 12.7s\n",
      "439:\tlearn: 0.4004567\ttotal: 9.98s\tremaining: 12.7s\n",
      "440:\tlearn: 0.4004405\ttotal: 10s\tremaining: 12.7s\n",
      "441:\tlearn: 0.4004198\ttotal: 10s\tremaining: 12.6s\n",
      "442:\tlearn: 0.4003994\ttotal: 10s\tremaining: 12.6s\n",
      "443:\tlearn: 0.4003816\ttotal: 10.1s\tremaining: 12.6s\n",
      "444:\tlearn: 0.4003664\ttotal: 10.1s\tremaining: 12.6s\n",
      "445:\tlearn: 0.4003508\ttotal: 10.1s\tremaining: 12.5s\n",
      "446:\tlearn: 0.4003311\ttotal: 10.1s\tremaining: 12.5s\n",
      "447:\tlearn: 0.4003194\ttotal: 10.1s\tremaining: 12.5s\n",
      "448:\tlearn: 0.4003040\ttotal: 10.1s\tremaining: 12.4s\n",
      "449:\tlearn: 0.4002895\ttotal: 10.2s\tremaining: 12.4s\n",
      "450:\tlearn: 0.4002780\ttotal: 10.2s\tremaining: 12.4s\n",
      "451:\tlearn: 0.4002636\ttotal: 10.2s\tremaining: 12.3s\n",
      "452:\tlearn: 0.4002492\ttotal: 10.2s\tremaining: 12.3s\n",
      "453:\tlearn: 0.4002265\ttotal: 10.2s\tremaining: 12.3s\n",
      "454:\tlearn: 0.4002107\ttotal: 10.2s\tremaining: 12.3s\n",
      "455:\tlearn: 0.4001908\ttotal: 10.3s\tremaining: 12.2s\n",
      "456:\tlearn: 0.4001782\ttotal: 10.3s\tremaining: 12.2s\n",
      "457:\tlearn: 0.4001712\ttotal: 10.3s\tremaining: 12.2s\n",
      "458:\tlearn: 0.4001609\ttotal: 10.3s\tremaining: 12.2s\n",
      "459:\tlearn: 0.4001399\ttotal: 10.3s\tremaining: 12.1s\n",
      "460:\tlearn: 0.4001282\ttotal: 10.3s\tremaining: 12.1s\n",
      "461:\tlearn: 0.4001151\ttotal: 10.4s\tremaining: 12.1s\n",
      "462:\tlearn: 0.4001023\ttotal: 10.4s\tremaining: 12s\n",
      "463:\tlearn: 0.4000903\ttotal: 10.4s\tremaining: 12s\n",
      "464:\tlearn: 0.4000735\ttotal: 10.4s\tremaining: 12s\n",
      "465:\tlearn: 0.4000470\ttotal: 10.4s\tremaining: 12s\n",
      "466:\tlearn: 0.4000346\ttotal: 10.5s\tremaining: 11.9s\n",
      "467:\tlearn: 0.4000251\ttotal: 10.5s\tremaining: 11.9s\n",
      "468:\tlearn: 0.4000099\ttotal: 10.5s\tremaining: 11.9s\n",
      "469:\tlearn: 0.3999909\ttotal: 10.5s\tremaining: 11.9s\n",
      "470:\tlearn: 0.3999768\ttotal: 10.5s\tremaining: 11.8s\n",
      "471:\tlearn: 0.3999678\ttotal: 10.6s\tremaining: 11.8s\n",
      "472:\tlearn: 0.3999527\ttotal: 10.6s\tremaining: 11.8s\n",
      "473:\tlearn: 0.3999439\ttotal: 10.6s\tremaining: 11.7s\n",
      "474:\tlearn: 0.3999329\ttotal: 10.6s\tremaining: 11.7s\n",
      "475:\tlearn: 0.3999106\ttotal: 10.6s\tremaining: 11.7s\n",
      "476:\tlearn: 0.3998800\ttotal: 10.6s\tremaining: 11.7s\n",
      "477:\tlearn: 0.3998680\ttotal: 10.7s\tremaining: 11.6s\n",
      "478:\tlearn: 0.3998554\ttotal: 10.7s\tremaining: 11.6s\n",
      "479:\tlearn: 0.3998244\ttotal: 10.7s\tremaining: 11.6s\n",
      "480:\tlearn: 0.3998132\ttotal: 10.7s\tremaining: 11.6s\n",
      "481:\tlearn: 0.3998040\ttotal: 10.7s\tremaining: 11.5s\n",
      "482:\tlearn: 0.3997911\ttotal: 10.8s\tremaining: 11.5s\n",
      "483:\tlearn: 0.3997731\ttotal: 10.8s\tremaining: 11.5s\n",
      "484:\tlearn: 0.3997559\ttotal: 10.8s\tremaining: 11.4s\n",
      "485:\tlearn: 0.3997377\ttotal: 10.8s\tremaining: 11.4s\n",
      "486:\tlearn: 0.3997229\ttotal: 10.8s\tremaining: 11.4s\n",
      "487:\tlearn: 0.3997040\ttotal: 10.8s\tremaining: 11.4s\n",
      "488:\tlearn: 0.3996949\ttotal: 10.8s\tremaining: 11.3s\n",
      "489:\tlearn: 0.3996889\ttotal: 10.9s\tremaining: 11.3s\n"
     ]
    },
    {
     "name": "stdout",
     "output_type": "stream",
     "text": [
      "490:\tlearn: 0.3996649\ttotal: 10.9s\tremaining: 11.3s\n",
      "491:\tlearn: 0.3996473\ttotal: 10.9s\tremaining: 11.3s\n",
      "492:\tlearn: 0.3996344\ttotal: 10.9s\tremaining: 11.2s\n",
      "493:\tlearn: 0.3996240\ttotal: 11s\tremaining: 11.2s\n",
      "494:\tlearn: 0.3996108\ttotal: 11s\tremaining: 11.2s\n",
      "495:\tlearn: 0.3995835\ttotal: 11s\tremaining: 11.2s\n",
      "496:\tlearn: 0.3995722\ttotal: 11s\tremaining: 11.1s\n",
      "497:\tlearn: 0.3995550\ttotal: 11s\tremaining: 11.1s\n",
      "498:\tlearn: 0.3995383\ttotal: 11s\tremaining: 11.1s\n",
      "499:\tlearn: 0.3995194\ttotal: 11.1s\tremaining: 11.1s\n",
      "500:\tlearn: 0.3995010\ttotal: 11.1s\tremaining: 11s\n",
      "501:\tlearn: 0.3994849\ttotal: 11.1s\tremaining: 11s\n",
      "502:\tlearn: 0.3994739\ttotal: 11.1s\tremaining: 11s\n",
      "503:\tlearn: 0.3994625\ttotal: 11.1s\tremaining: 10.9s\n",
      "504:\tlearn: 0.3994522\ttotal: 11.1s\tremaining: 10.9s\n",
      "505:\tlearn: 0.3994412\ttotal: 11.1s\tremaining: 10.9s\n",
      "506:\tlearn: 0.3994261\ttotal: 11.2s\tremaining: 10.9s\n",
      "507:\tlearn: 0.3994121\ttotal: 11.2s\tremaining: 10.8s\n",
      "508:\tlearn: 0.3994007\ttotal: 11.2s\tremaining: 10.8s\n",
      "509:\tlearn: 0.3993918\ttotal: 11.2s\tremaining: 10.8s\n",
      "510:\tlearn: 0.3993729\ttotal: 11.2s\tremaining: 10.7s\n",
      "511:\tlearn: 0.3993628\ttotal: 11.2s\tremaining: 10.7s\n",
      "512:\tlearn: 0.3993534\ttotal: 11.3s\tremaining: 10.7s\n",
      "513:\tlearn: 0.3993399\ttotal: 11.3s\tremaining: 10.7s\n",
      "514:\tlearn: 0.3993283\ttotal: 11.3s\tremaining: 10.6s\n",
      "515:\tlearn: 0.3993147\ttotal: 11.3s\tremaining: 10.6s\n",
      "516:\tlearn: 0.3992948\ttotal: 11.3s\tremaining: 10.6s\n",
      "517:\tlearn: 0.3992885\ttotal: 11.3s\tremaining: 10.6s\n",
      "518:\tlearn: 0.3992768\ttotal: 11.4s\tremaining: 10.5s\n",
      "519:\tlearn: 0.3992654\ttotal: 11.4s\tremaining: 10.5s\n",
      "520:\tlearn: 0.3992602\ttotal: 11.4s\tremaining: 10.5s\n",
      "521:\tlearn: 0.3992407\ttotal: 11.4s\tremaining: 10.4s\n",
      "522:\tlearn: 0.3992199\ttotal: 11.4s\tremaining: 10.4s\n",
      "523:\tlearn: 0.3992113\ttotal: 11.4s\tremaining: 10.4s\n",
      "524:\tlearn: 0.3992003\ttotal: 11.5s\tremaining: 10.4s\n",
      "525:\tlearn: 0.3991799\ttotal: 11.5s\tremaining: 10.3s\n",
      "526:\tlearn: 0.3991628\ttotal: 11.5s\tremaining: 10.3s\n",
      "527:\tlearn: 0.3991476\ttotal: 11.5s\tremaining: 10.3s\n",
      "528:\tlearn: 0.3991301\ttotal: 11.5s\tremaining: 10.3s\n",
      "529:\tlearn: 0.3991184\ttotal: 11.6s\tremaining: 10.3s\n",
      "530:\tlearn: 0.3991036\ttotal: 11.6s\tremaining: 10.2s\n",
      "531:\tlearn: 0.3990918\ttotal: 11.6s\tremaining: 10.2s\n",
      "532:\tlearn: 0.3990800\ttotal: 11.6s\tremaining: 10.2s\n",
      "533:\tlearn: 0.3990632\ttotal: 11.7s\tremaining: 10.2s\n",
      "534:\tlearn: 0.3990525\ttotal: 11.7s\tremaining: 10.1s\n",
      "535:\tlearn: 0.3990398\ttotal: 11.7s\tremaining: 10.1s\n",
      "536:\tlearn: 0.3990227\ttotal: 11.7s\tremaining: 10.1s\n",
      "537:\tlearn: 0.3990122\ttotal: 11.7s\tremaining: 10.1s\n",
      "538:\tlearn: 0.3989961\ttotal: 11.8s\tremaining: 10.1s\n",
      "539:\tlearn: 0.3989738\ttotal: 11.8s\tremaining: 10s\n",
      "540:\tlearn: 0.3989534\ttotal: 11.8s\tremaining: 10s\n",
      "541:\tlearn: 0.3989377\ttotal: 11.8s\tremaining: 9.98s\n",
      "542:\tlearn: 0.3989263\ttotal: 11.8s\tremaining: 9.95s\n",
      "543:\tlearn: 0.3989192\ttotal: 11.8s\tremaining: 9.93s\n",
      "544:\tlearn: 0.3989062\ttotal: 11.9s\tremaining: 9.9s\n",
      "545:\tlearn: 0.3988921\ttotal: 11.9s\tremaining: 9.87s\n",
      "546:\tlearn: 0.3988801\ttotal: 11.9s\tremaining: 9.84s\n",
      "547:\tlearn: 0.3988653\ttotal: 11.9s\tremaining: 9.81s\n",
      "548:\tlearn: 0.3988563\ttotal: 11.9s\tremaining: 9.79s\n",
      "549:\tlearn: 0.3988407\ttotal: 11.9s\tremaining: 9.77s\n",
      "550:\tlearn: 0.3988276\ttotal: 12s\tremaining: 9.74s\n",
      "551:\tlearn: 0.3988150\ttotal: 12s\tremaining: 9.72s\n",
      "552:\tlearn: 0.3988037\ttotal: 12s\tremaining: 9.7s\n",
      "553:\tlearn: 0.3987960\ttotal: 12s\tremaining: 9.68s\n",
      "554:\tlearn: 0.3987791\ttotal: 12s\tremaining: 9.65s\n",
      "555:\tlearn: 0.3987639\ttotal: 12.1s\tremaining: 9.63s\n",
      "556:\tlearn: 0.3987493\ttotal: 12.1s\tremaining: 9.6s\n",
      "557:\tlearn: 0.3987399\ttotal: 12.1s\tremaining: 9.57s\n",
      "558:\tlearn: 0.3987299\ttotal: 12.1s\tremaining: 9.54s\n",
      "559:\tlearn: 0.3987153\ttotal: 12.1s\tremaining: 9.52s\n",
      "560:\tlearn: 0.3987059\ttotal: 12.1s\tremaining: 9.5s\n",
      "561:\tlearn: 0.3986924\ttotal: 12.2s\tremaining: 9.47s\n",
      "562:\tlearn: 0.3986783\ttotal: 12.2s\tremaining: 9.45s\n",
      "563:\tlearn: 0.3986704\ttotal: 12.2s\tremaining: 9.43s\n",
      "564:\tlearn: 0.3986558\ttotal: 12.2s\tremaining: 9.4s\n",
      "565:\tlearn: 0.3986464\ttotal: 12.2s\tremaining: 9.37s\n",
      "566:\tlearn: 0.3986371\ttotal: 12.2s\tremaining: 9.35s\n",
      "567:\tlearn: 0.3986190\ttotal: 12.3s\tremaining: 9.32s\n",
      "568:\tlearn: 0.3986015\ttotal: 12.3s\tremaining: 9.29s\n",
      "569:\tlearn: 0.3985902\ttotal: 12.3s\tremaining: 9.27s\n",
      "570:\tlearn: 0.3985726\ttotal: 12.3s\tremaining: 9.24s\n",
      "571:\tlearn: 0.3985641\ttotal: 12.3s\tremaining: 9.22s\n",
      "572:\tlearn: 0.3985518\ttotal: 12.3s\tremaining: 9.2s\n",
      "573:\tlearn: 0.3985395\ttotal: 12.4s\tremaining: 9.17s\n",
      "574:\tlearn: 0.3985322\ttotal: 12.4s\tremaining: 9.15s\n",
      "575:\tlearn: 0.3985215\ttotal: 12.4s\tremaining: 9.13s\n",
      "576:\tlearn: 0.3985018\ttotal: 12.4s\tremaining: 9.1s\n",
      "577:\tlearn: 0.3984794\ttotal: 12.4s\tremaining: 9.08s\n",
      "578:\tlearn: 0.3984638\ttotal: 12.4s\tremaining: 9.05s\n",
      "579:\tlearn: 0.3984549\ttotal: 12.5s\tremaining: 9.03s\n",
      "580:\tlearn: 0.3984373\ttotal: 12.5s\tremaining: 9s\n",
      "581:\tlearn: 0.3984300\ttotal: 12.5s\tremaining: 8.97s\n",
      "582:\tlearn: 0.3984111\ttotal: 12.5s\tremaining: 8.95s\n",
      "583:\tlearn: 0.3984028\ttotal: 12.5s\tremaining: 8.93s\n",
      "584:\tlearn: 0.3983900\ttotal: 12.6s\tremaining: 8.91s\n",
      "585:\tlearn: 0.3983783\ttotal: 12.6s\tremaining: 8.89s\n",
      "586:\tlearn: 0.3983699\ttotal: 12.6s\tremaining: 8.87s\n",
      "587:\tlearn: 0.3983585\ttotal: 12.6s\tremaining: 8.84s\n",
      "588:\tlearn: 0.3983479\ttotal: 12.6s\tremaining: 8.81s\n",
      "589:\tlearn: 0.3983296\ttotal: 12.6s\tremaining: 8.79s\n",
      "590:\tlearn: 0.3983189\ttotal: 12.7s\tremaining: 8.76s\n",
      "591:\tlearn: 0.3983062\ttotal: 12.7s\tremaining: 8.73s\n",
      "592:\tlearn: 0.3982921\ttotal: 12.7s\tremaining: 8.71s\n",
      "593:\tlearn: 0.3982789\ttotal: 12.7s\tremaining: 8.69s\n",
      "594:\tlearn: 0.3982708\ttotal: 12.7s\tremaining: 8.66s\n",
      "595:\tlearn: 0.3982579\ttotal: 12.7s\tremaining: 8.63s\n",
      "596:\tlearn: 0.3982454\ttotal: 12.8s\tremaining: 8.61s\n",
      "597:\tlearn: 0.3982344\ttotal: 12.8s\tremaining: 8.59s\n",
      "598:\tlearn: 0.3982242\ttotal: 12.8s\tremaining: 8.56s\n",
      "599:\tlearn: 0.3982088\ttotal: 12.8s\tremaining: 8.54s\n",
      "600:\tlearn: 0.3981864\ttotal: 12.8s\tremaining: 8.52s\n",
      "601:\tlearn: 0.3981808\ttotal: 12.8s\tremaining: 8.49s\n",
      "602:\tlearn: 0.3981651\ttotal: 12.9s\tremaining: 8.47s\n",
      "603:\tlearn: 0.3981580\ttotal: 12.9s\tremaining: 8.44s\n",
      "604:\tlearn: 0.3981425\ttotal: 12.9s\tremaining: 8.42s\n",
      "605:\tlearn: 0.3981316\ttotal: 12.9s\tremaining: 8.39s\n",
      "606:\tlearn: 0.3981160\ttotal: 12.9s\tremaining: 8.36s\n",
      "607:\tlearn: 0.3980975\ttotal: 12.9s\tremaining: 8.34s\n",
      "608:\tlearn: 0.3980927\ttotal: 12.9s\tremaining: 8.31s\n",
      "609:\tlearn: 0.3980796\ttotal: 13s\tremaining: 8.29s\n",
      "610:\tlearn: 0.3980640\ttotal: 13s\tremaining: 8.27s\n",
      "611:\tlearn: 0.3980485\ttotal: 13s\tremaining: 8.25s\n",
      "612:\tlearn: 0.3980378\ttotal: 13s\tremaining: 8.23s\n",
      "613:\tlearn: 0.3980311\ttotal: 13.1s\tremaining: 8.21s\n",
      "614:\tlearn: 0.3980176\ttotal: 13.1s\tremaining: 8.19s\n",
      "615:\tlearn: 0.3980109\ttotal: 13.1s\tremaining: 8.16s\n",
      "616:\tlearn: 0.3980005\ttotal: 13.1s\tremaining: 8.14s\n",
      "617:\tlearn: 0.3979862\ttotal: 13.1s\tremaining: 8.11s\n",
      "618:\tlearn: 0.3979807\ttotal: 13.1s\tremaining: 8.09s\n",
      "619:\tlearn: 0.3979660\ttotal: 13.2s\tremaining: 8.06s\n",
      "620:\tlearn: 0.3979543\ttotal: 13.2s\tremaining: 8.04s\n",
      "621:\tlearn: 0.3979395\ttotal: 13.2s\tremaining: 8.02s\n",
      "622:\tlearn: 0.3979269\ttotal: 13.2s\tremaining: 8s\n",
      "623:\tlearn: 0.3979139\ttotal: 13.2s\tremaining: 7.98s\n",
      "624:\tlearn: 0.3978908\ttotal: 13.3s\tremaining: 7.95s\n",
      "625:\tlearn: 0.3978823\ttotal: 13.3s\tremaining: 7.93s\n",
      "626:\tlearn: 0.3978741\ttotal: 13.3s\tremaining: 7.9s\n",
      "627:\tlearn: 0.3978654\ttotal: 13.3s\tremaining: 7.88s\n",
      "628:\tlearn: 0.3978507\ttotal: 13.3s\tremaining: 7.87s\n",
      "629:\tlearn: 0.3978373\ttotal: 13.4s\tremaining: 7.85s\n",
      "630:\tlearn: 0.3978173\ttotal: 13.4s\tremaining: 7.84s\n",
      "631:\tlearn: 0.3978096\ttotal: 13.4s\tremaining: 7.83s\n",
      "632:\tlearn: 0.3977936\ttotal: 13.5s\tremaining: 7.81s\n",
      "633:\tlearn: 0.3977767\ttotal: 13.5s\tremaining: 7.79s\n",
      "634:\tlearn: 0.3977730\ttotal: 13.5s\tremaining: 7.78s\n",
      "635:\tlearn: 0.3977572\ttotal: 13.6s\tremaining: 7.77s\n",
      "636:\tlearn: 0.3977482\ttotal: 13.6s\tremaining: 7.75s\n",
      "637:\tlearn: 0.3977355\ttotal: 13.7s\tremaining: 7.75s\n",
      "638:\tlearn: 0.3977246\ttotal: 13.7s\tremaining: 7.74s\n",
      "639:\tlearn: 0.3977053\ttotal: 13.8s\tremaining: 7.73s\n",
      "640:\tlearn: 0.3976911\ttotal: 13.8s\tremaining: 7.73s\n",
      "641:\tlearn: 0.3976823\ttotal: 13.8s\tremaining: 7.72s\n",
      "642:\tlearn: 0.3976725\ttotal: 13.9s\tremaining: 7.7s\n",
      "643:\tlearn: 0.3976564\ttotal: 13.9s\tremaining: 7.68s\n",
      "644:\tlearn: 0.3976386\ttotal: 13.9s\tremaining: 7.66s\n",
      "645:\tlearn: 0.3976189\ttotal: 13.9s\tremaining: 7.63s\n",
      "646:\tlearn: 0.3976049\ttotal: 14s\tremaining: 7.61s\n",
      "647:\tlearn: 0.3975954\ttotal: 14s\tremaining: 7.59s\n",
      "648:\tlearn: 0.3975837\ttotal: 14s\tremaining: 7.57s\n",
      "649:\tlearn: 0.3975767\ttotal: 14s\tremaining: 7.54s\n",
      "650:\tlearn: 0.3975631\ttotal: 14s\tremaining: 7.52s\n"
     ]
    },
    {
     "name": "stdout",
     "output_type": "stream",
     "text": [
      "651:\tlearn: 0.3975521\ttotal: 14.1s\tremaining: 7.5s\n",
      "652:\tlearn: 0.3975369\ttotal: 14.1s\tremaining: 7.49s\n",
      "653:\tlearn: 0.3975261\ttotal: 14.1s\tremaining: 7.47s\n",
      "654:\tlearn: 0.3975146\ttotal: 14.2s\tremaining: 7.45s\n",
      "655:\tlearn: 0.3974980\ttotal: 14.2s\tremaining: 7.43s\n",
      "656:\tlearn: 0.3974934\ttotal: 14.2s\tremaining: 7.41s\n",
      "657:\tlearn: 0.3974840\ttotal: 14.2s\tremaining: 7.38s\n",
      "658:\tlearn: 0.3974739\ttotal: 14.2s\tremaining: 7.36s\n",
      "659:\tlearn: 0.3974669\ttotal: 14.2s\tremaining: 7.33s\n",
      "660:\tlearn: 0.3974587\ttotal: 14.3s\tremaining: 7.31s\n",
      "661:\tlearn: 0.3974470\ttotal: 14.3s\tremaining: 7.29s\n",
      "662:\tlearn: 0.3974377\ttotal: 14.3s\tremaining: 7.26s\n",
      "663:\tlearn: 0.3974280\ttotal: 14.3s\tremaining: 7.24s\n",
      "664:\tlearn: 0.3974204\ttotal: 14.3s\tremaining: 7.22s\n",
      "665:\tlearn: 0.3974098\ttotal: 14.3s\tremaining: 7.19s\n",
      "666:\tlearn: 0.3973989\ttotal: 14.4s\tremaining: 7.17s\n",
      "667:\tlearn: 0.3973880\ttotal: 14.4s\tremaining: 7.14s\n",
      "668:\tlearn: 0.3973828\ttotal: 14.4s\tremaining: 7.12s\n",
      "669:\tlearn: 0.3973715\ttotal: 14.4s\tremaining: 7.09s\n",
      "670:\tlearn: 0.3973637\ttotal: 14.4s\tremaining: 7.07s\n",
      "671:\tlearn: 0.3973578\ttotal: 14.4s\tremaining: 7.04s\n",
      "672:\tlearn: 0.3973419\ttotal: 14.4s\tremaining: 7.02s\n",
      "673:\tlearn: 0.3973254\ttotal: 14.5s\tremaining: 6.99s\n",
      "674:\tlearn: 0.3973203\ttotal: 14.5s\tremaining: 6.97s\n",
      "675:\tlearn: 0.3973171\ttotal: 14.5s\tremaining: 6.95s\n",
      "676:\tlearn: 0.3973121\ttotal: 14.5s\tremaining: 6.92s\n",
      "677:\tlearn: 0.3973064\ttotal: 14.5s\tremaining: 6.9s\n",
      "678:\tlearn: 0.3972837\ttotal: 14.5s\tremaining: 6.88s\n",
      "679:\tlearn: 0.3972668\ttotal: 14.6s\tremaining: 6.85s\n",
      "680:\tlearn: 0.3972536\ttotal: 14.6s\tremaining: 6.83s\n",
      "681:\tlearn: 0.3972403\ttotal: 14.6s\tremaining: 6.81s\n",
      "682:\tlearn: 0.3972207\ttotal: 14.6s\tremaining: 6.78s\n",
      "683:\tlearn: 0.3972084\ttotal: 14.6s\tremaining: 6.76s\n",
      "684:\tlearn: 0.3971943\ttotal: 14.7s\tremaining: 6.74s\n",
      "685:\tlearn: 0.3971858\ttotal: 14.7s\tremaining: 6.72s\n",
      "686:\tlearn: 0.3971692\ttotal: 14.7s\tremaining: 6.7s\n",
      "687:\tlearn: 0.3971533\ttotal: 14.7s\tremaining: 6.67s\n",
      "688:\tlearn: 0.3971385\ttotal: 14.7s\tremaining: 6.65s\n",
      "689:\tlearn: 0.3971214\ttotal: 14.8s\tremaining: 6.63s\n",
      "690:\tlearn: 0.3971114\ttotal: 14.8s\tremaining: 6.6s\n",
      "691:\tlearn: 0.3971009\ttotal: 14.8s\tremaining: 6.58s\n",
      "692:\tlearn: 0.3970908\ttotal: 14.8s\tremaining: 6.56s\n",
      "693:\tlearn: 0.3970782\ttotal: 14.8s\tremaining: 6.53s\n",
      "694:\tlearn: 0.3970694\ttotal: 14.8s\tremaining: 6.51s\n",
      "695:\tlearn: 0.3970606\ttotal: 14.8s\tremaining: 6.49s\n",
      "696:\tlearn: 0.3970475\ttotal: 14.9s\tremaining: 6.46s\n",
      "697:\tlearn: 0.3970353\ttotal: 14.9s\tremaining: 6.44s\n",
      "698:\tlearn: 0.3970194\ttotal: 14.9s\tremaining: 6.42s\n",
      "699:\tlearn: 0.3970063\ttotal: 14.9s\tremaining: 6.39s\n",
      "700:\tlearn: 0.3969934\ttotal: 14.9s\tremaining: 6.37s\n",
      "701:\tlearn: 0.3969827\ttotal: 15s\tremaining: 6.35s\n",
      "702:\tlearn: 0.3969725\ttotal: 15s\tremaining: 6.32s\n",
      "703:\tlearn: 0.3969489\ttotal: 15s\tremaining: 6.3s\n",
      "704:\tlearn: 0.3969388\ttotal: 15s\tremaining: 6.28s\n",
      "705:\tlearn: 0.3969302\ttotal: 15s\tremaining: 6.25s\n",
      "706:\tlearn: 0.3969130\ttotal: 15s\tremaining: 6.23s\n",
      "707:\tlearn: 0.3969025\ttotal: 15s\tremaining: 6.21s\n",
      "708:\tlearn: 0.3968953\ttotal: 15.1s\tremaining: 6.18s\n",
      "709:\tlearn: 0.3968837\ttotal: 15.1s\tremaining: 6.16s\n",
      "710:\tlearn: 0.3968697\ttotal: 15.1s\tremaining: 6.13s\n",
      "711:\tlearn: 0.3968587\ttotal: 15.1s\tremaining: 6.12s\n",
      "712:\tlearn: 0.3968351\ttotal: 15.2s\tremaining: 6.1s\n",
      "713:\tlearn: 0.3968223\ttotal: 15.2s\tremaining: 6.08s\n",
      "714:\tlearn: 0.3968041\ttotal: 15.2s\tremaining: 6.06s\n",
      "715:\tlearn: 0.3967966\ttotal: 15.2s\tremaining: 6.04s\n",
      "716:\tlearn: 0.3967847\ttotal: 15.2s\tremaining: 6.01s\n",
      "717:\tlearn: 0.3967701\ttotal: 15.2s\tremaining: 5.99s\n",
      "718:\tlearn: 0.3967604\ttotal: 15.3s\tremaining: 5.96s\n",
      "719:\tlearn: 0.3967498\ttotal: 15.3s\tremaining: 5.94s\n",
      "720:\tlearn: 0.3967408\ttotal: 15.3s\tremaining: 5.92s\n",
      "721:\tlearn: 0.3967338\ttotal: 15.3s\tremaining: 5.89s\n",
      "722:\tlearn: 0.3967307\ttotal: 15.3s\tremaining: 5.87s\n",
      "723:\tlearn: 0.3967246\ttotal: 15.3s\tremaining: 5.85s\n",
      "724:\tlearn: 0.3967192\ttotal: 15.4s\tremaining: 5.83s\n",
      "725:\tlearn: 0.3967033\ttotal: 15.4s\tremaining: 5.8s\n",
      "726:\tlearn: 0.3966943\ttotal: 15.4s\tremaining: 5.78s\n",
      "727:\tlearn: 0.3966862\ttotal: 15.4s\tremaining: 5.76s\n",
      "728:\tlearn: 0.3966739\ttotal: 15.4s\tremaining: 5.74s\n",
      "729:\tlearn: 0.3966621\ttotal: 15.4s\tremaining: 5.71s\n",
      "730:\tlearn: 0.3966531\ttotal: 15.5s\tremaining: 5.69s\n",
      "731:\tlearn: 0.3966418\ttotal: 15.5s\tremaining: 5.67s\n",
      "732:\tlearn: 0.3966349\ttotal: 15.5s\tremaining: 5.64s\n",
      "733:\tlearn: 0.3966225\ttotal: 15.5s\tremaining: 5.62s\n",
      "734:\tlearn: 0.3966135\ttotal: 15.5s\tremaining: 5.6s\n",
      "735:\tlearn: 0.3965939\ttotal: 15.5s\tremaining: 5.57s\n",
      "736:\tlearn: 0.3965851\ttotal: 15.6s\tremaining: 5.55s\n",
      "737:\tlearn: 0.3965753\ttotal: 15.6s\tremaining: 5.53s\n",
      "738:\tlearn: 0.3965695\ttotal: 15.6s\tremaining: 5.51s\n",
      "739:\tlearn: 0.3965607\ttotal: 15.6s\tremaining: 5.49s\n",
      "740:\tlearn: 0.3965487\ttotal: 15.6s\tremaining: 5.47s\n",
      "741:\tlearn: 0.3965367\ttotal: 15.7s\tremaining: 5.45s\n",
      "742:\tlearn: 0.3965224\ttotal: 15.7s\tremaining: 5.42s\n",
      "743:\tlearn: 0.3965137\ttotal: 15.7s\tremaining: 5.4s\n",
      "744:\tlearn: 0.3965006\ttotal: 15.7s\tremaining: 5.38s\n",
      "745:\tlearn: 0.3964869\ttotal: 15.7s\tremaining: 5.35s\n",
      "746:\tlearn: 0.3964801\ttotal: 15.7s\tremaining: 5.33s\n",
      "747:\tlearn: 0.3964695\ttotal: 15.8s\tremaining: 5.31s\n",
      "748:\tlearn: 0.3964609\ttotal: 15.8s\tremaining: 5.29s\n",
      "749:\tlearn: 0.3964528\ttotal: 15.8s\tremaining: 5.26s\n",
      "750:\tlearn: 0.3964471\ttotal: 15.8s\tremaining: 5.24s\n",
      "751:\tlearn: 0.3964435\ttotal: 15.8s\tremaining: 5.22s\n",
      "752:\tlearn: 0.3964383\ttotal: 15.8s\tremaining: 5.2s\n",
      "753:\tlearn: 0.3964250\ttotal: 15.9s\tremaining: 5.17s\n",
      "754:\tlearn: 0.3964123\ttotal: 15.9s\tremaining: 5.15s\n",
      "755:\tlearn: 0.3964032\ttotal: 15.9s\tremaining: 5.13s\n",
      "756:\tlearn: 0.3963965\ttotal: 15.9s\tremaining: 5.11s\n",
      "757:\tlearn: 0.3963885\ttotal: 15.9s\tremaining: 5.08s\n",
      "758:\tlearn: 0.3963779\ttotal: 15.9s\tremaining: 5.06s\n",
      "759:\tlearn: 0.3963676\ttotal: 16s\tremaining: 5.04s\n",
      "760:\tlearn: 0.3963550\ttotal: 16s\tremaining: 5.01s\n",
      "761:\tlearn: 0.3963476\ttotal: 16s\tremaining: 4.99s\n",
      "762:\tlearn: 0.3963366\ttotal: 16s\tremaining: 4.97s\n",
      "763:\tlearn: 0.3963299\ttotal: 16s\tremaining: 4.95s\n",
      "764:\tlearn: 0.3963162\ttotal: 16s\tremaining: 4.93s\n",
      "765:\tlearn: 0.3963027\ttotal: 16.1s\tremaining: 4.91s\n",
      "766:\tlearn: 0.3962907\ttotal: 16.1s\tremaining: 4.88s\n",
      "767:\tlearn: 0.3962816\ttotal: 16.1s\tremaining: 4.86s\n",
      "768:\tlearn: 0.3962712\ttotal: 16.1s\tremaining: 4.84s\n",
      "769:\tlearn: 0.3962577\ttotal: 16.1s\tremaining: 4.82s\n",
      "770:\tlearn: 0.3962440\ttotal: 16.2s\tremaining: 4.8s\n",
      "771:\tlearn: 0.3962367\ttotal: 16.2s\tremaining: 4.78s\n",
      "772:\tlearn: 0.3962257\ttotal: 16.2s\tremaining: 4.76s\n",
      "773:\tlearn: 0.3962178\ttotal: 16.2s\tremaining: 4.74s\n",
      "774:\tlearn: 0.3962083\ttotal: 16.2s\tremaining: 4.71s\n",
      "775:\tlearn: 0.3961973\ttotal: 16.3s\tremaining: 4.69s\n",
      "776:\tlearn: 0.3961889\ttotal: 16.3s\tremaining: 4.67s\n",
      "777:\tlearn: 0.3961773\ttotal: 16.3s\tremaining: 4.65s\n",
      "778:\tlearn: 0.3961635\ttotal: 16.3s\tremaining: 4.63s\n",
      "779:\tlearn: 0.3961525\ttotal: 16.3s\tremaining: 4.6s\n",
      "780:\tlearn: 0.3961346\ttotal: 16.3s\tremaining: 4.58s\n",
      "781:\tlearn: 0.3961191\ttotal: 16.4s\tremaining: 4.56s\n",
      "782:\tlearn: 0.3961064\ttotal: 16.4s\tremaining: 4.54s\n",
      "783:\tlearn: 0.3960995\ttotal: 16.4s\tremaining: 4.51s\n",
      "784:\tlearn: 0.3960853\ttotal: 16.4s\tremaining: 4.49s\n",
      "785:\tlearn: 0.3960738\ttotal: 16.4s\tremaining: 4.47s\n",
      "786:\tlearn: 0.3960648\ttotal: 16.4s\tremaining: 4.45s\n",
      "787:\tlearn: 0.3960496\ttotal: 16.5s\tremaining: 4.43s\n",
      "788:\tlearn: 0.3960414\ttotal: 16.5s\tremaining: 4.4s\n",
      "789:\tlearn: 0.3960332\ttotal: 16.5s\tremaining: 4.38s\n",
      "790:\tlearn: 0.3960241\ttotal: 16.5s\tremaining: 4.36s\n",
      "791:\tlearn: 0.3960164\ttotal: 16.5s\tremaining: 4.34s\n",
      "792:\tlearn: 0.3960063\ttotal: 16.5s\tremaining: 4.32s\n",
      "793:\tlearn: 0.3959972\ttotal: 16.5s\tremaining: 4.29s\n",
      "794:\tlearn: 0.3959850\ttotal: 16.6s\tremaining: 4.27s\n",
      "795:\tlearn: 0.3959704\ttotal: 16.6s\tremaining: 4.25s\n",
      "796:\tlearn: 0.3959614\ttotal: 16.6s\tremaining: 4.23s\n",
      "797:\tlearn: 0.3959540\ttotal: 16.6s\tremaining: 4.2s\n",
      "798:\tlearn: 0.3959383\ttotal: 16.6s\tremaining: 4.18s\n",
      "799:\tlearn: 0.3959340\ttotal: 16.7s\tremaining: 4.16s\n",
      "800:\tlearn: 0.3959094\ttotal: 16.7s\tremaining: 4.14s\n",
      "801:\tlearn: 0.3958991\ttotal: 16.7s\tremaining: 4.12s\n",
      "802:\tlearn: 0.3958874\ttotal: 16.7s\tremaining: 4.1s\n",
      "803:\tlearn: 0.3958724\ttotal: 16.7s\tremaining: 4.08s\n",
      "804:\tlearn: 0.3958570\ttotal: 16.7s\tremaining: 4.06s\n",
      "805:\tlearn: 0.3958393\ttotal: 16.8s\tremaining: 4.03s\n",
      "806:\tlearn: 0.3958273\ttotal: 16.8s\tremaining: 4.01s\n",
      "807:\tlearn: 0.3958203\ttotal: 16.8s\tremaining: 3.99s\n",
      "808:\tlearn: 0.3958086\ttotal: 16.8s\tremaining: 3.97s\n",
      "809:\tlearn: 0.3958012\ttotal: 16.8s\tremaining: 3.94s\n"
     ]
    },
    {
     "name": "stdout",
     "output_type": "stream",
     "text": [
      "810:\tlearn: 0.3957966\ttotal: 16.8s\tremaining: 3.92s\n",
      "811:\tlearn: 0.3957850\ttotal: 16.9s\tremaining: 3.9s\n",
      "812:\tlearn: 0.3957785\ttotal: 16.9s\tremaining: 3.88s\n",
      "813:\tlearn: 0.3957708\ttotal: 16.9s\tremaining: 3.86s\n",
      "814:\tlearn: 0.3957593\ttotal: 16.9s\tremaining: 3.84s\n",
      "815:\tlearn: 0.3957446\ttotal: 16.9s\tremaining: 3.82s\n",
      "816:\tlearn: 0.3957372\ttotal: 16.9s\tremaining: 3.79s\n",
      "817:\tlearn: 0.3957300\ttotal: 17s\tremaining: 3.77s\n",
      "818:\tlearn: 0.3957156\ttotal: 17s\tremaining: 3.75s\n",
      "819:\tlearn: 0.3957038\ttotal: 17s\tremaining: 3.73s\n",
      "820:\tlearn: 0.3956936\ttotal: 17s\tremaining: 3.71s\n",
      "821:\tlearn: 0.3956736\ttotal: 17s\tremaining: 3.69s\n",
      "822:\tlearn: 0.3956639\ttotal: 17s\tremaining: 3.66s\n",
      "823:\tlearn: 0.3956537\ttotal: 17.1s\tremaining: 3.64s\n",
      "824:\tlearn: 0.3956464\ttotal: 17.1s\tremaining: 3.62s\n",
      "825:\tlearn: 0.3956344\ttotal: 17.1s\tremaining: 3.6s\n",
      "826:\tlearn: 0.3956239\ttotal: 17.1s\tremaining: 3.58s\n",
      "827:\tlearn: 0.3956054\ttotal: 17.1s\tremaining: 3.56s\n",
      "828:\tlearn: 0.3955993\ttotal: 17.1s\tremaining: 3.53s\n",
      "829:\tlearn: 0.3955884\ttotal: 17.2s\tremaining: 3.51s\n",
      "830:\tlearn: 0.3955735\ttotal: 17.2s\tremaining: 3.49s\n",
      "831:\tlearn: 0.3955606\ttotal: 17.2s\tremaining: 3.47s\n",
      "832:\tlearn: 0.3955453\ttotal: 17.2s\tremaining: 3.45s\n",
      "833:\tlearn: 0.3955400\ttotal: 17.2s\tremaining: 3.43s\n",
      "834:\tlearn: 0.3955276\ttotal: 17.3s\tremaining: 3.41s\n",
      "835:\tlearn: 0.3955187\ttotal: 17.3s\tremaining: 3.39s\n",
      "836:\tlearn: 0.3955149\ttotal: 17.3s\tremaining: 3.37s\n",
      "837:\tlearn: 0.3955064\ttotal: 17.3s\tremaining: 3.35s\n",
      "838:\tlearn: 0.3954938\ttotal: 17.3s\tremaining: 3.33s\n",
      "839:\tlearn: 0.3954888\ttotal: 17.3s\tremaining: 3.3s\n",
      "840:\tlearn: 0.3954751\ttotal: 17.4s\tremaining: 3.28s\n",
      "841:\tlearn: 0.3954606\ttotal: 17.4s\tremaining: 3.26s\n",
      "842:\tlearn: 0.3954515\ttotal: 17.4s\tremaining: 3.24s\n",
      "843:\tlearn: 0.3954418\ttotal: 17.4s\tremaining: 3.22s\n",
      "844:\tlearn: 0.3954331\ttotal: 17.4s\tremaining: 3.19s\n",
      "845:\tlearn: 0.3954187\ttotal: 17.4s\tremaining: 3.17s\n",
      "846:\tlearn: 0.3954030\ttotal: 17.5s\tremaining: 3.15s\n",
      "847:\tlearn: 0.3953816\ttotal: 17.5s\tremaining: 3.13s\n",
      "848:\tlearn: 0.3953771\ttotal: 17.5s\tremaining: 3.11s\n",
      "849:\tlearn: 0.3953702\ttotal: 17.5s\tremaining: 3.09s\n",
      "850:\tlearn: 0.3953630\ttotal: 17.5s\tremaining: 3.07s\n",
      "851:\tlearn: 0.3953506\ttotal: 17.5s\tremaining: 3.05s\n",
      "852:\tlearn: 0.3953414\ttotal: 17.6s\tremaining: 3.02s\n",
      "853:\tlearn: 0.3953328\ttotal: 17.6s\tremaining: 3s\n",
      "854:\tlearn: 0.3953175\ttotal: 17.6s\tremaining: 2.98s\n",
      "855:\tlearn: 0.3953100\ttotal: 17.6s\tremaining: 2.96s\n",
      "856:\tlearn: 0.3953013\ttotal: 17.6s\tremaining: 2.94s\n",
      "857:\tlearn: 0.3952876\ttotal: 17.6s\tremaining: 2.92s\n",
      "858:\tlearn: 0.3952793\ttotal: 17.6s\tremaining: 2.9s\n",
      "859:\tlearn: 0.3952687\ttotal: 17.7s\tremaining: 2.88s\n",
      "860:\tlearn: 0.3952564\ttotal: 17.7s\tremaining: 2.86s\n",
      "861:\tlearn: 0.3952457\ttotal: 17.7s\tremaining: 2.84s\n",
      "862:\tlearn: 0.3952309\ttotal: 17.7s\tremaining: 2.82s\n",
      "863:\tlearn: 0.3952214\ttotal: 17.8s\tremaining: 2.8s\n",
      "864:\tlearn: 0.3952095\ttotal: 17.8s\tremaining: 2.77s\n",
      "865:\tlearn: 0.3952031\ttotal: 17.8s\tremaining: 2.75s\n",
      "866:\tlearn: 0.3951952\ttotal: 17.8s\tremaining: 2.73s\n",
      "867:\tlearn: 0.3951880\ttotal: 17.8s\tremaining: 2.71s\n",
      "868:\tlearn: 0.3951798\ttotal: 17.8s\tremaining: 2.69s\n",
      "869:\tlearn: 0.3951676\ttotal: 17.9s\tremaining: 2.67s\n",
      "870:\tlearn: 0.3951561\ttotal: 17.9s\tremaining: 2.65s\n",
      "871:\tlearn: 0.3951412\ttotal: 17.9s\tremaining: 2.63s\n",
      "872:\tlearn: 0.3951339\ttotal: 17.9s\tremaining: 2.61s\n",
      "873:\tlearn: 0.3951135\ttotal: 17.9s\tremaining: 2.58s\n",
      "874:\tlearn: 0.3951051\ttotal: 18s\tremaining: 2.56s\n",
      "875:\tlearn: 0.3950966\ttotal: 18s\tremaining: 2.54s\n",
      "876:\tlearn: 0.3950874\ttotal: 18s\tremaining: 2.52s\n",
      "877:\tlearn: 0.3950779\ttotal: 18s\tremaining: 2.5s\n",
      "878:\tlearn: 0.3950720\ttotal: 18s\tremaining: 2.48s\n",
      "879:\tlearn: 0.3950655\ttotal: 18s\tremaining: 2.46s\n",
      "880:\tlearn: 0.3950534\ttotal: 18s\tremaining: 2.44s\n",
      "881:\tlearn: 0.3950452\ttotal: 18.1s\tremaining: 2.42s\n",
      "882:\tlearn: 0.3950289\ttotal: 18.1s\tremaining: 2.4s\n",
      "883:\tlearn: 0.3950233\ttotal: 18.1s\tremaining: 2.37s\n",
      "884:\tlearn: 0.3950065\ttotal: 18.1s\tremaining: 2.35s\n",
      "885:\tlearn: 0.3949904\ttotal: 18.1s\tremaining: 2.33s\n",
      "886:\tlearn: 0.3949701\ttotal: 18.2s\tremaining: 2.31s\n",
      "887:\tlearn: 0.3949512\ttotal: 18.2s\tremaining: 2.29s\n",
      "888:\tlearn: 0.3949392\ttotal: 18.2s\tremaining: 2.27s\n",
      "889:\tlearn: 0.3949258\ttotal: 18.2s\tremaining: 2.25s\n",
      "890:\tlearn: 0.3949213\ttotal: 18.2s\tremaining: 2.23s\n",
      "891:\tlearn: 0.3949085\ttotal: 18.2s\tremaining: 2.21s\n",
      "892:\tlearn: 0.3949002\ttotal: 18.3s\tremaining: 2.19s\n",
      "893:\tlearn: 0.3948904\ttotal: 18.3s\tremaining: 2.17s\n",
      "894:\tlearn: 0.3948800\ttotal: 18.3s\tremaining: 2.15s\n",
      "895:\tlearn: 0.3948727\ttotal: 18.3s\tremaining: 2.12s\n",
      "896:\tlearn: 0.3948567\ttotal: 18.3s\tremaining: 2.1s\n",
      "897:\tlearn: 0.3948467\ttotal: 18.3s\tremaining: 2.08s\n",
      "898:\tlearn: 0.3948314\ttotal: 18.4s\tremaining: 2.06s\n",
      "899:\tlearn: 0.3948267\ttotal: 18.4s\tremaining: 2.04s\n",
      "900:\tlearn: 0.3948192\ttotal: 18.4s\tremaining: 2.02s\n",
      "901:\tlearn: 0.3948023\ttotal: 18.4s\tremaining: 2s\n",
      "902:\tlearn: 0.3947949\ttotal: 18.4s\tremaining: 1.98s\n",
      "903:\tlearn: 0.3947837\ttotal: 18.4s\tremaining: 1.96s\n",
      "904:\tlearn: 0.3947737\ttotal: 18.5s\tremaining: 1.94s\n",
      "905:\tlearn: 0.3947655\ttotal: 18.5s\tremaining: 1.92s\n",
      "906:\tlearn: 0.3947519\ttotal: 18.5s\tremaining: 1.9s\n",
      "907:\tlearn: 0.3947415\ttotal: 18.5s\tremaining: 1.87s\n",
      "908:\tlearn: 0.3947322\ttotal: 18.5s\tremaining: 1.85s\n",
      "909:\tlearn: 0.3947249\ttotal: 18.5s\tremaining: 1.83s\n",
      "910:\tlearn: 0.3947170\ttotal: 18.6s\tremaining: 1.81s\n",
      "911:\tlearn: 0.3947053\ttotal: 18.6s\tremaining: 1.79s\n",
      "912:\tlearn: 0.3946973\ttotal: 18.6s\tremaining: 1.77s\n",
      "913:\tlearn: 0.3946833\ttotal: 18.6s\tremaining: 1.75s\n",
      "914:\tlearn: 0.3946717\ttotal: 18.6s\tremaining: 1.73s\n",
      "915:\tlearn: 0.3946636\ttotal: 18.6s\tremaining: 1.71s\n",
      "916:\tlearn: 0.3946505\ttotal: 18.7s\tremaining: 1.69s\n",
      "917:\tlearn: 0.3946369\ttotal: 18.7s\tremaining: 1.67s\n",
      "918:\tlearn: 0.3946208\ttotal: 18.7s\tremaining: 1.65s\n",
      "919:\tlearn: 0.3946081\ttotal: 18.7s\tremaining: 1.63s\n",
      "920:\tlearn: 0.3946004\ttotal: 18.7s\tremaining: 1.6s\n",
      "921:\tlearn: 0.3945854\ttotal: 18.7s\tremaining: 1.59s\n",
      "922:\tlearn: 0.3945811\ttotal: 18.8s\tremaining: 1.57s\n",
      "923:\tlearn: 0.3945741\ttotal: 18.8s\tremaining: 1.55s\n",
      "924:\tlearn: 0.3945653\ttotal: 18.9s\tremaining: 1.53s\n",
      "925:\tlearn: 0.3945575\ttotal: 18.9s\tremaining: 1.51s\n",
      "926:\tlearn: 0.3945511\ttotal: 18.9s\tremaining: 1.49s\n",
      "927:\tlearn: 0.3945437\ttotal: 18.9s\tremaining: 1.47s\n",
      "928:\tlearn: 0.3945322\ttotal: 19s\tremaining: 1.45s\n",
      "929:\tlearn: 0.3945212\ttotal: 19s\tremaining: 1.43s\n",
      "930:\tlearn: 0.3945126\ttotal: 19s\tremaining: 1.41s\n",
      "931:\tlearn: 0.3945089\ttotal: 19.1s\tremaining: 1.39s\n",
      "932:\tlearn: 0.3945056\ttotal: 19.1s\tremaining: 1.37s\n",
      "933:\tlearn: 0.3944981\ttotal: 19.2s\tremaining: 1.35s\n",
      "934:\tlearn: 0.3944884\ttotal: 19.2s\tremaining: 1.34s\n",
      "935:\tlearn: 0.3944760\ttotal: 19.3s\tremaining: 1.32s\n",
      "936:\tlearn: 0.3944693\ttotal: 19.3s\tremaining: 1.3s\n",
      "937:\tlearn: 0.3944605\ttotal: 19.3s\tremaining: 1.28s\n",
      "938:\tlearn: 0.3944521\ttotal: 19.4s\tremaining: 1.26s\n",
      "939:\tlearn: 0.3944435\ttotal: 19.4s\tremaining: 1.24s\n",
      "940:\tlearn: 0.3944315\ttotal: 19.4s\tremaining: 1.22s\n",
      "941:\tlearn: 0.3944198\ttotal: 19.4s\tremaining: 1.2s\n",
      "942:\tlearn: 0.3944107\ttotal: 19.5s\tremaining: 1.18s\n",
      "943:\tlearn: 0.3943953\ttotal: 19.5s\tremaining: 1.16s\n",
      "944:\tlearn: 0.3943816\ttotal: 19.5s\tremaining: 1.14s\n",
      "945:\tlearn: 0.3943680\ttotal: 19.5s\tremaining: 1.11s\n",
      "946:\tlearn: 0.3943537\ttotal: 19.5s\tremaining: 1.09s\n",
      "947:\tlearn: 0.3943442\ttotal: 19.6s\tremaining: 1.07s\n",
      "948:\tlearn: 0.3943332\ttotal: 19.6s\tremaining: 1.05s\n",
      "949:\tlearn: 0.3943278\ttotal: 19.6s\tremaining: 1.03s\n",
      "950:\tlearn: 0.3943154\ttotal: 19.6s\tremaining: 1.01s\n",
      "951:\tlearn: 0.3943086\ttotal: 19.7s\tremaining: 991ms\n",
      "952:\tlearn: 0.3943019\ttotal: 19.7s\tremaining: 970ms\n",
      "953:\tlearn: 0.3942907\ttotal: 19.7s\tremaining: 949ms\n",
      "954:\tlearn: 0.3942789\ttotal: 19.7s\tremaining: 928ms\n",
      "955:\tlearn: 0.3942613\ttotal: 19.7s\tremaining: 907ms\n",
      "956:\tlearn: 0.3942485\ttotal: 19.7s\tremaining: 886ms\n",
      "957:\tlearn: 0.3942362\ttotal: 19.7s\tremaining: 866ms\n",
      "958:\tlearn: 0.3942291\ttotal: 19.8s\tremaining: 845ms\n",
      "959:\tlearn: 0.3942261\ttotal: 19.8s\tremaining: 824ms\n",
      "960:\tlearn: 0.3942170\ttotal: 19.8s\tremaining: 804ms\n",
      "961:\tlearn: 0.3942137\ttotal: 19.8s\tremaining: 783ms\n",
      "962:\tlearn: 0.3942030\ttotal: 19.9s\tremaining: 763ms\n",
      "963:\tlearn: 0.3941963\ttotal: 19.9s\tremaining: 742ms\n",
      "964:\tlearn: 0.3941866\ttotal: 19.9s\tremaining: 721ms\n",
      "965:\tlearn: 0.3941769\ttotal: 19.9s\tremaining: 701ms\n",
      "966:\tlearn: 0.3941611\ttotal: 19.9s\tremaining: 680ms\n",
      "967:\tlearn: 0.3941494\ttotal: 19.9s\tremaining: 659ms\n",
      "968:\tlearn: 0.3941340\ttotal: 20s\tremaining: 638ms\n",
      "969:\tlearn: 0.3941271\ttotal: 20s\tremaining: 618ms\n",
      "970:\tlearn: 0.3941173\ttotal: 20s\tremaining: 597ms\n",
      "971:\tlearn: 0.3941061\ttotal: 20s\tremaining: 576ms\n"
     ]
    },
    {
     "name": "stdout",
     "output_type": "stream",
     "text": [
      "972:\tlearn: 0.3940930\ttotal: 20s\tremaining: 556ms\n",
      "973:\tlearn: 0.3940759\ttotal: 20s\tremaining: 535ms\n",
      "974:\tlearn: 0.3940627\ttotal: 20.1s\tremaining: 514ms\n",
      "975:\tlearn: 0.3940568\ttotal: 20.1s\tremaining: 494ms\n",
      "976:\tlearn: 0.3940432\ttotal: 20.1s\tremaining: 473ms\n",
      "977:\tlearn: 0.3940351\ttotal: 20.1s\tremaining: 452ms\n",
      "978:\tlearn: 0.3940238\ttotal: 20.1s\tremaining: 432ms\n",
      "979:\tlearn: 0.3940173\ttotal: 20.1s\tremaining: 411ms\n",
      "980:\tlearn: 0.3940083\ttotal: 20.2s\tremaining: 390ms\n",
      "981:\tlearn: 0.3939993\ttotal: 20.2s\tremaining: 370ms\n",
      "982:\tlearn: 0.3939912\ttotal: 20.2s\tremaining: 349ms\n",
      "983:\tlearn: 0.3939821\ttotal: 20.2s\tremaining: 328ms\n",
      "984:\tlearn: 0.3939718\ttotal: 20.2s\tremaining: 308ms\n",
      "985:\tlearn: 0.3939596\ttotal: 20.2s\tremaining: 287ms\n",
      "986:\tlearn: 0.3939459\ttotal: 20.3s\tremaining: 267ms\n",
      "987:\tlearn: 0.3939387\ttotal: 20.3s\tremaining: 246ms\n",
      "988:\tlearn: 0.3939332\ttotal: 20.3s\tremaining: 226ms\n",
      "989:\tlearn: 0.3939212\ttotal: 20.3s\tremaining: 205ms\n",
      "990:\tlearn: 0.3939126\ttotal: 20.3s\tremaining: 185ms\n",
      "991:\tlearn: 0.3939044\ttotal: 20.3s\tremaining: 164ms\n",
      "992:\tlearn: 0.3938909\ttotal: 20.4s\tremaining: 144ms\n",
      "993:\tlearn: 0.3938861\ttotal: 20.4s\tremaining: 123ms\n",
      "994:\tlearn: 0.3938707\ttotal: 20.4s\tremaining: 103ms\n",
      "995:\tlearn: 0.3938589\ttotal: 20.4s\tremaining: 82ms\n",
      "996:\tlearn: 0.3938453\ttotal: 20.4s\tremaining: 61.5ms\n",
      "997:\tlearn: 0.3938328\ttotal: 20.4s\tremaining: 41ms\n",
      "998:\tlearn: 0.3938236\ttotal: 20.5s\tremaining: 20.5ms\n",
      "999:\tlearn: 0.3938159\ttotal: 20.5s\tremaining: 0us\n",
      "MSE for CatBoost 2019 is: 0.1525343191969767\n"
     ]
    }
   ],
   "source": [
    "model = CatBoostRegressor()\n",
    "model.fit(x_train_19, y_train_19)\n",
    "y_pred_19 = model.predict(x_test_19)\n",
    "# Calculation of Mean Squared Error (MSE)\n",
    "mse = mean_squared_error(y_test_19, y_pred_19)\n",
    "print('MSE for CatBoost 2019 is: ' + str(mse))"
   ]
  },
  {
   "cell_type": "code",
   "execution_count": 157,
   "id": "f0207e79",
   "metadata": {},
   "outputs": [
    {
     "name": "stdout",
     "output_type": "stream",
     "text": [
      "RMSE for LightGBM 2019 is: 0.39055642255246126\n"
     ]
    }
   ],
   "source": [
    "rmse = mean_squared_error(y_test_19, y_pred_19, squared = False)\n",
    "print('RMSE for LightGBM 2019 is: ' + str(rmse))"
   ]
  },
  {
   "cell_type": "code",
   "execution_count": 158,
   "id": "aa550157",
   "metadata": {},
   "outputs": [
    {
     "name": "stdout",
     "output_type": "stream",
     "text": [
      "Median Absolute Error:\n",
      "\n",
      "0.1659349888652919\n"
     ]
    }
   ],
   "source": [
    "median_se = np.square(np.subtract(y_test_19, y_pred_19)).median() \n",
    " \n",
    "med = math.sqrt(median_se)\n",
    "print(\"Median Absolute Error:\\n\")\n",
    "print(med)"
   ]
  },
  {
   "cell_type": "code",
   "execution_count": 159,
   "id": "953208a1",
   "metadata": {},
   "outputs": [
    {
     "name": "stdout",
     "output_type": "stream",
     "text": [
      "Accuracy of properties at +- 10% of actual prices is 0.3414262962307556\n"
     ]
    }
   ],
   "source": [
    "acc = accuracy_threshold(y_test_19, y_pred_19, 0.1)\n",
    "print('Accuracy of properties at +- 10% of actual prices is ' + str(acc))"
   ]
  },
  {
   "cell_type": "code",
   "execution_count": 160,
   "id": "a11409ef",
   "metadata": {},
   "outputs": [
    {
     "name": "stdout",
     "output_type": "stream",
     "text": [
      "MAPE for CatBoost 2019 is: 0.021477452746957035\n"
     ]
    }
   ],
   "source": [
    "mape = mean_absolute_percentage_error(y_test_19, y_pred_19)\n",
    "print(\"MAPE for CatBoost 2019 is: \" + str(mape))"
   ]
  },
  {
   "cell_type": "code",
   "execution_count": 161,
   "id": "62ab734b",
   "metadata": {},
   "outputs": [],
   "source": [
    "cnames = ['Algorithm', 'Year', 'RMSE', 'MSE', 'MEDAE', 'Accuracy', 'MAPE']\n",
    "df16 = pd.DataFrame(columns = cnames)\n",
    "\n",
    "df16 = df16.append({'Algorithm': 'CatBoost',\n",
    "           'Year': 2019,\n",
    "           'RMSE': rmse,\n",
    "           'MSE': mse,\n",
    "           'MEDAE': med,\n",
    "           'Accuracy': acc,\n",
    "           'MAPE': mape         \n",
    "          }, ignore_index = True)"
   ]
  },
  {
   "cell_type": "markdown",
   "id": "03917aff",
   "metadata": {},
   "source": [
    "### BayesianRidge"
   ]
  },
  {
   "cell_type": "code",
   "execution_count": 162,
   "id": "bb47ee44",
   "metadata": {},
   "outputs": [
    {
     "name": "stdout",
     "output_type": "stream",
     "text": [
      "MSE for BayesianRidge 2019 is: 0.20264196732448433\n"
     ]
    }
   ],
   "source": [
    "clf = BayesianRidge()\n",
    "clf.fit(x_train_19, y_train_19)\n",
    "y_pred_19 = clf.predict(x_test_19)\n",
    "# Calculation of Mean Squared Error (MSE)\n",
    "mse = mean_squared_error(y_test_19, y_pred_19)\n",
    "print('MSE for BayesianRidge 2019 is: ' + str(mse))"
   ]
  },
  {
   "cell_type": "code",
   "execution_count": 163,
   "id": "f2c9faf8",
   "metadata": {},
   "outputs": [
    {
     "name": "stdout",
     "output_type": "stream",
     "text": [
      "RMSE for LightGBM 2019 is: 0.45015771383425646\n"
     ]
    }
   ],
   "source": [
    "rmse = mean_squared_error(y_test_19, y_pred_19, squared = False)\n",
    "print('RMSE for LightGBM 2019 is: ' + str(rmse))"
   ]
  },
  {
   "cell_type": "code",
   "execution_count": 164,
   "id": "8c56c82e",
   "metadata": {},
   "outputs": [
    {
     "name": "stdout",
     "output_type": "stream",
     "text": [
      "Median Absolute Error:\n",
      "\n",
      "0.2353858317763855\n"
     ]
    }
   ],
   "source": [
    "median_se = np.square(np.subtract(y_test_19, y_pred_19)).median() \n",
    " \n",
    "med = math.sqrt(median_se)\n",
    "print(\"Median Absolute Error:\\n\")\n",
    "print(med)"
   ]
  },
  {
   "cell_type": "code",
   "execution_count": 165,
   "id": "5a59de31",
   "metadata": {},
   "outputs": [
    {
     "name": "stdout",
     "output_type": "stream",
     "text": [
      "Accuracy of properties at +- 10% of actual prices is 0.23560431781985489\n"
     ]
    }
   ],
   "source": [
    "acc = accuracy_threshold(y_test_19, y_pred_19, 0.1)\n",
    "print('Accuracy of properties at +- 10% of actual prices is ' + str(acc))"
   ]
  },
  {
   "cell_type": "code",
   "execution_count": 166,
   "id": "89f14d4e",
   "metadata": {},
   "outputs": [
    {
     "name": "stdout",
     "output_type": "stream",
     "text": [
      "MAPE for BayesianRidge 2019 is: 0.02634077176492654\n"
     ]
    }
   ],
   "source": [
    "mape = mean_absolute_percentage_error(y_test_19, y_pred_19)\n",
    "print(\"MAPE for BayesianRidge 2019 is: \" + str(mape))"
   ]
  },
  {
   "cell_type": "code",
   "execution_count": 167,
   "id": "98a6ba59",
   "metadata": {},
   "outputs": [],
   "source": [
    "cnames = ['Algorithm', 'Year', 'RMSE', 'MSE', 'MEDAE', 'Accuracy', 'MAPE']\n",
    "df17 = pd.DataFrame(columns = cnames)\n",
    "\n",
    "df17 = df17.append({'Algorithm': 'Bayesian',\n",
    "           'Year': 2019,\n",
    "           'RMSE': rmse,\n",
    "           'MSE': mse,\n",
    "           'MEDAE': med,\n",
    "           'Accuracy': acc,\n",
    "           'MAPE': mape         \n",
    "          }, ignore_index = True)"
   ]
  },
  {
   "cell_type": "markdown",
   "id": "c20aed69",
   "metadata": {},
   "source": [
    "## 2018"
   ]
  },
  {
   "cell_type": "code",
   "execution_count": 168,
   "id": "70eac5c9",
   "metadata": {},
   "outputs": [],
   "source": [
    "specific18 = irl[irl['Year'] >= 2013]\n",
    "test_18 = specific18[specific18['Year'] == 2018]\n",
    "train_18 = specific18[specific18['Year'] < 2018]\n",
    "\n",
    "#train_18 = train_18.sample(n = 80000)\n",
    "#test_18 = test_18.sample(n = 20000)\n",
    "\n",
    "#test_18.drop(columns=['Year'], inplace = True)\n",
    "#train_18.drop(columns=['Year'], inplace = True)\n",
    "\n",
    "x_train_18 = train_18.loc[:, train_18.columns != 'PriceInflation']\n",
    "y_train_18 = train_18['PriceInflation']\n",
    "x_test_18 = test_18.loc[:, test_18.columns != 'PriceInflation']\n",
    "y_test_18 = test_18['PriceInflation']"
   ]
  },
  {
   "cell_type": "markdown",
   "id": "b65f0852",
   "metadata": {},
   "source": [
    "### AutoML"
   ]
  },
  {
   "cell_type": "code",
   "execution_count": 169,
   "id": "fa364063",
   "metadata": {},
   "outputs": [
    {
     "name": "stdout",
     "output_type": "stream",
     "text": [
      "Linear algorithm was disabled.\n",
      "AutoML directory: AutoML_4\n",
      "The task is regression with evaluation metric rmse\n",
      "AutoML will use algorithms: ['Baseline', 'Decision Tree', 'Random Forest', 'Xgboost', 'Neural Network']\n",
      "AutoML will ensemble available models\n",
      "AutoML steps: ['simple_algorithms', 'default_algorithms', 'ensemble']\n",
      "* Step simple_algorithms will try to check up to 2 models\n",
      "1_Baseline rmse 0.801447 trained in 1.17 seconds\n",
      "2_DecisionTree rmse 0.451242 trained in 5.2 seconds\n",
      "* Step default_algorithms will try to check up to 3 models\n",
      "3_Default_Xgboost rmse 0.414245 trained in 13.13 seconds\n",
      "4_Default_NeuralNetwork rmse 0.42448 trained in 9.5 seconds\n",
      "5_Default_RandomForest rmse 0.428883 trained in 21.72 seconds\n",
      "* Step ensemble will try to check up to 1 model\n",
      "Ensemble rmse 0.414245 trained in 0.61 seconds\n",
      "AutoML fit time: 63.97 seconds\n",
      "AutoML best model: 3_Default_Xgboost\n"
     ]
    },
    {
     "data": {
      "text/plain": [
       "AutoML(total_time_limit=300)"
      ]
     },
     "execution_count": 169,
     "metadata": {},
     "output_type": "execute_result"
    }
   ],
   "source": [
    "automl = AutoML(total_time_limit = 5 * 60)\n",
    "automl.fit(x_train_18, y_train_18)"
   ]
  },
  {
   "cell_type": "code",
   "execution_count": 170,
   "id": "b94a4be7",
   "metadata": {},
   "outputs": [
    {
     "name": "stdout",
     "output_type": "stream",
     "text": [
      "MSE for AutoML 2018 is: 0.15853671998615676\n"
     ]
    }
   ],
   "source": [
    "y_pred_18 = automl.predict(x_test_18)\n",
    "# Calculation of Mean Squared Error (MSE)\n",
    "mse = mean_squared_error(y_test_18, y_pred_18)\n",
    "print('MSE for AutoML 2018 is: ' + str(mse))"
   ]
  },
  {
   "cell_type": "code",
   "execution_count": 171,
   "id": "bb3f67a0",
   "metadata": {},
   "outputs": [
    {
     "name": "stdout",
     "output_type": "stream",
     "text": [
      "Accuracy of properties at +- 10% of actual prices is 0.3277289746543779\n"
     ]
    }
   ],
   "source": [
    "acc = accuracy_threshold(y_test_18, y_pred_18, 0.1)\n",
    "print('Accuracy of properties at +- 10% of actual prices is ' + str(acc))"
   ]
  },
  {
   "cell_type": "code",
   "execution_count": 172,
   "id": "4ac9ef36",
   "metadata": {},
   "outputs": [
    {
     "name": "stdout",
     "output_type": "stream",
     "text": [
      "RMSE for AutoML 2018 is: 0.3981666987408123\n"
     ]
    }
   ],
   "source": [
    "rmse = mean_squared_error(y_test_18, y_pred_18, squared = False)\n",
    "print('RMSE for AutoML 2018 is: ' + str(rmse))"
   ]
  },
  {
   "cell_type": "code",
   "execution_count": 173,
   "id": "86bd10ad",
   "metadata": {},
   "outputs": [
    {
     "name": "stdout",
     "output_type": "stream",
     "text": [
      "Median Absolute Error:\n",
      "\n",
      "0.17061708574879042\n"
     ]
    }
   ],
   "source": [
    "median_se = np.square(np.subtract(y_test_18, y_pred_18)).median() \n",
    " \n",
    "med = math.sqrt(median_se)\n",
    "print(\"Median Absolute Error:\\n\")\n",
    "print(med)"
   ]
  },
  {
   "cell_type": "code",
   "execution_count": 174,
   "id": "ce57f425",
   "metadata": {},
   "outputs": [
    {
     "name": "stdout",
     "output_type": "stream",
     "text": [
      "MAPE for AutoML 2018 is: 0.022203139414510863\n"
     ]
    }
   ],
   "source": [
    "mape = mean_absolute_percentage_error(y_test_18, y_pred_18)\n",
    "print(\"MAPE for AutoML 2018 is: \" + str(mape))"
   ]
  },
  {
   "cell_type": "code",
   "execution_count": 175,
   "id": "f4c913fe",
   "metadata": {},
   "outputs": [],
   "source": [
    "cnames = ['Algorithm', 'Year', 'RMSE', 'MSE', 'MEDAE', 'Accuracy','MAPE']\n",
    "df18 = pd.DataFrame(columns = cnames)\n",
    "\n",
    "df18 = df18.append({'Algorithm': 'AutoML',\n",
    "           'Year': 2018,\n",
    "           'RMSE': rmse,\n",
    "           'MSE': mse,\n",
    "           'MEDAE': med,\n",
    "           'Accuracy': acc,\n",
    "           'MAPE': mape         \n",
    "          }, ignore_index = True)"
   ]
  },
  {
   "cell_type": "markdown",
   "id": "41eb5867",
   "metadata": {},
   "source": [
    "### MLR"
   ]
  },
  {
   "cell_type": "code",
   "execution_count": 176,
   "id": "e5483603",
   "metadata": {},
   "outputs": [
    {
     "name": "stdout",
     "output_type": "stream",
     "text": [
      "MSE for MLR 2018 is: 0.21656042890645869\n"
     ]
    }
   ],
   "source": [
    "lm = linear_model.LinearRegression()\n",
    "lm.fit(x_train_18, y_train_18) # fitting the model\n",
    "y_pred_18 = lm.predict(x_test_18)\n",
    "# Calculation of Mean Squared Error (MSE)\n",
    "mse = mean_squared_error(y_test_18, y_pred_18)\n",
    "print('MSE for MLR 2018 is: ' + str(mse))"
   ]
  },
  {
   "cell_type": "code",
   "execution_count": 177,
   "id": "9792680e",
   "metadata": {},
   "outputs": [
    {
     "name": "stdout",
     "output_type": "stream",
     "text": [
      "Accuracy of properties at +- 10% of actual prices is 0.21007344470046083\n"
     ]
    }
   ],
   "source": [
    "acc = accuracy_threshold(y_test_18, y_pred_18, 0.1)\n",
    "print('Accuracy of properties at +- 10% of actual prices is ' + str(acc))"
   ]
  },
  {
   "cell_type": "code",
   "execution_count": 178,
   "id": "2daab6dc",
   "metadata": {},
   "outputs": [
    {
     "name": "stdout",
     "output_type": "stream",
     "text": [
      "RMSE for MLR 2018 is: 0.46536053647302184\n"
     ]
    }
   ],
   "source": [
    "rmse = mean_squared_error(y_test_18, y_pred_18, squared = False)\n",
    "print('RMSE for MLR 2018 is: ' + str(rmse))"
   ]
  },
  {
   "cell_type": "code",
   "execution_count": 179,
   "id": "a236271b",
   "metadata": {},
   "outputs": [
    {
     "name": "stdout",
     "output_type": "stream",
     "text": [
      "Median Absolute Error:\n",
      "\n",
      "0.2501851344708807\n"
     ]
    }
   ],
   "source": [
    "median_se = np.square(np.subtract(y_test_18, y_pred_18)).median() \n",
    " \n",
    "med = math.sqrt(median_se)\n",
    "print(\"Median Absolute Error:\\n\")\n",
    "print(med)"
   ]
  },
  {
   "cell_type": "code",
   "execution_count": 180,
   "id": "8b04f02b",
   "metadata": {},
   "outputs": [
    {
     "name": "stdout",
     "output_type": "stream",
     "text": [
      "MAPE for MLR 2018 is: 0.027794934317450448\n"
     ]
    }
   ],
   "source": [
    "mape = mean_absolute_percentage_error(y_test_18, y_pred_18)\n",
    "print(\"MAPE for MLR 2018 is: \" + str(mape))"
   ]
  },
  {
   "cell_type": "code",
   "execution_count": 181,
   "id": "9781eb0f",
   "metadata": {},
   "outputs": [],
   "source": [
    "cnames = ['Algorithm', 'Year', 'RMSE', 'MSE', 'MEDAE', 'Accuracy', 'MAPE']\n",
    "df19 = pd.DataFrame(columns = cnames)\n",
    "\n",
    "df19 = df19.append({'Algorithm': 'MLR',\n",
    "           'Year': 2018,\n",
    "           'RMSE': rmse,\n",
    "           'MSE': mse,\n",
    "           'MEDAE': med,\n",
    "           'Accuracy': acc,\n",
    "           'MAPE': mape         \n",
    "          }, ignore_index = True)"
   ]
  },
  {
   "cell_type": "markdown",
   "id": "18d02369",
   "metadata": {},
   "source": [
    "### AdaBoost"
   ]
  },
  {
   "cell_type": "code",
   "execution_count": 182,
   "id": "d8820d35",
   "metadata": {},
   "outputs": [
    {
     "name": "stdout",
     "output_type": "stream",
     "text": [
      "MSE for AdaBoost 2018 is: 0.23725996529258914\n"
     ]
    }
   ],
   "source": [
    "model = AdaBoostRegressor()\n",
    "model.fit(x_train_18, y_train_18)\n",
    "y_pred_18 = model.predict(x_test_18)\n",
    "# Calculation of Mean Squared Error (MSE)\n",
    "mse = mean_squared_error(y_test_18, y_pred_18)\n",
    "print('MSE for AdaBoost 2018 is: ' + str(mse))"
   ]
  },
  {
   "cell_type": "code",
   "execution_count": 183,
   "id": "bee989ee",
   "metadata": {},
   "outputs": [
    {
     "name": "stdout",
     "output_type": "stream",
     "text": [
      "Accuracy of properties at +- 10% of actual prices is 0.12060771889400922\n"
     ]
    }
   ],
   "source": [
    "acc = accuracy_threshold(y_test_18, y_pred_18, 0.1)\n",
    "print('Accuracy of properties at +- 10% of actual prices is ' + str(acc))"
   ]
  },
  {
   "cell_type": "code",
   "execution_count": 184,
   "id": "13a6c017",
   "metadata": {},
   "outputs": [
    {
     "name": "stdout",
     "output_type": "stream",
     "text": [
      "Median Absolute Error:\n",
      "\n",
      "0.3390407347655205\n"
     ]
    }
   ],
   "source": [
    "median_se = np.square(np.subtract(y_test_18, y_pred_18)).median() \n",
    " \n",
    "med = math.sqrt(median_se)\n",
    "print(\"Median Absolute Error:\\n\")\n",
    "print(med)"
   ]
  },
  {
   "cell_type": "code",
   "execution_count": 185,
   "id": "0c737b65",
   "metadata": {},
   "outputs": [
    {
     "name": "stdout",
     "output_type": "stream",
     "text": [
      "RMSE for MLR 2018 is: 0.4870933845707506\n"
     ]
    }
   ],
   "source": [
    "rmse = mean_squared_error(y_test_18, y_pred_18, squared = False)\n",
    "print('RMSE for MLR 2018 is: ' + str(rmse))"
   ]
  },
  {
   "cell_type": "code",
   "execution_count": 186,
   "id": "7c403a5e",
   "metadata": {},
   "outputs": [
    {
     "name": "stdout",
     "output_type": "stream",
     "text": [
      "MAPE for MLR 2018 is: 0.03186668697311039\n"
     ]
    }
   ],
   "source": [
    "mape = mean_absolute_percentage_error(y_test_18, y_pred_18)\n",
    "print(\"MAPE for MLR 2018 is: \" + str(mape))"
   ]
  },
  {
   "cell_type": "code",
   "execution_count": 187,
   "id": "e92f003a",
   "metadata": {},
   "outputs": [],
   "source": [
    "cnames = ['Algorithm', 'Year', 'RMSE', 'MSE', 'MEDAE', 'Accuracy', 'MAPE']\n",
    "df20 = pd.DataFrame(columns = cnames)\n",
    "\n",
    "df20 = df20.append({'Algorithm': 'AdaBoost',\n",
    "           'Year': 2018,\n",
    "           'RMSE': rmse,\n",
    "           'MSE': mse,\n",
    "           'MEDAE': med,\n",
    "           'Accuracy': acc,\n",
    "           'MAPE': mape         \n",
    "          }, ignore_index = True)"
   ]
  },
  {
   "cell_type": "markdown",
   "id": "ee4e29ce",
   "metadata": {},
   "source": [
    "### LightGBM"
   ]
  },
  {
   "cell_type": "code",
   "execution_count": 188,
   "id": "2408dc22",
   "metadata": {},
   "outputs": [
    {
     "name": "stdout",
     "output_type": "stream",
     "text": [
      "MSE for LightGBM 2018 is: 0.15698309090910811\n"
     ]
    }
   ],
   "source": [
    "model = LGBMRegressor()\n",
    "model.fit(x_train_18, y_train_18)\n",
    "y_pred_18 = model.predict(x_test_18)\n",
    "# Calculation of Mean Squared Error (MSE)\n",
    "mse = mean_squared_error(y_test_18, y_pred_18)\n",
    "print('MSE for LightGBM 2018 is: ' + str(mse))"
   ]
  },
  {
   "cell_type": "code",
   "execution_count": 189,
   "id": "e468b773",
   "metadata": {},
   "outputs": [
    {
     "name": "stdout",
     "output_type": "stream",
     "text": [
      "Accuracy of properties at +- 10% of actual prices is 0.3262528801843318\n"
     ]
    }
   ],
   "source": [
    "acc = accuracy_threshold(y_test_18, y_pred_18, 0.1)\n",
    "print('Accuracy of properties at +- 10% of actual prices is ' + str(acc))"
   ]
  },
  {
   "cell_type": "code",
   "execution_count": 190,
   "id": "96ebc9e9",
   "metadata": {},
   "outputs": [
    {
     "name": "stdout",
     "output_type": "stream",
     "text": [
      "Median Absolute Error:\n",
      "\n",
      "0.17359166126777809\n"
     ]
    }
   ],
   "source": [
    "median_se = np.square(np.subtract(y_test_18, y_pred_18)).median() \n",
    " \n",
    "med = math.sqrt(median_se)\n",
    "print(\"Median Absolute Error:\\n\")\n",
    "print(med)"
   ]
  },
  {
   "cell_type": "code",
   "execution_count": 191,
   "id": "c7f18b29",
   "metadata": {},
   "outputs": [
    {
     "name": "stdout",
     "output_type": "stream",
     "text": [
      "RMSE for LightGBM 2018 is: 0.39621091720081125\n"
     ]
    }
   ],
   "source": [
    "rmse = mean_squared_error(y_test_18, y_pred_18, squared = False)\n",
    "print('RMSE for LightGBM 2018 is: ' + str(rmse))"
   ]
  },
  {
   "cell_type": "code",
   "execution_count": 192,
   "id": "79c37007",
   "metadata": {},
   "outputs": [
    {
     "name": "stdout",
     "output_type": "stream",
     "text": [
      "MAPE for LightGBM 2021 is: 0.02216365900702697\n"
     ]
    }
   ],
   "source": [
    "mape = mean_absolute_percentage_error(y_test_18, y_pred_18)\n",
    "print(\"MAPE for LightGBM 2021 is: \" + str(mape))"
   ]
  },
  {
   "cell_type": "code",
   "execution_count": 193,
   "id": "7bf927d1",
   "metadata": {},
   "outputs": [],
   "source": [
    "cnames = ['Algorithm', 'Year', 'RMSE', 'MSE', 'MEDAE', 'Accuracy', 'MAPE']\n",
    "df21 = pd.DataFrame(columns = cnames)\n",
    "\n",
    "df21 = df21.append({'Algorithm': 'LightGBM',\n",
    "           'Year': 2018,\n",
    "           'RMSE': rmse,\n",
    "           'MSE': mse,\n",
    "           'MEDAE': med,\n",
    "           'Accuracy': acc,\n",
    "           'MAPE': mape         \n",
    "          }, ignore_index = True)"
   ]
  },
  {
   "cell_type": "markdown",
   "id": "55517a01",
   "metadata": {},
   "source": [
    "### CatBoost"
   ]
  },
  {
   "cell_type": "code",
   "execution_count": 194,
   "id": "1c21a0a3",
   "metadata": {},
   "outputs": [
    {
     "name": "stdout",
     "output_type": "stream",
     "text": [
      "Learning rate set to 0.087073\n",
      "0:\tlearn: 0.7509211\ttotal: 28.9ms\tremaining: 28.9s\n",
      "1:\tlearn: 0.7099572\ttotal: 51.9ms\tremaining: 25.9s\n",
      "2:\tlearn: 0.6745493\ttotal: 79.9ms\tremaining: 26.6s\n",
      "3:\tlearn: 0.6421939\ttotal: 100ms\tremaining: 25s\n",
      "4:\tlearn: 0.6136697\ttotal: 120ms\tremaining: 23.9s\n",
      "5:\tlearn: 0.5885974\ttotal: 141ms\tremaining: 23.4s\n",
      "6:\tlearn: 0.5671052\ttotal: 160ms\tremaining: 22.8s\n",
      "7:\tlearn: 0.5478172\ttotal: 180ms\tremaining: 22.3s\n",
      "8:\tlearn: 0.5308424\ttotal: 199ms\tremaining: 22s\n",
      "9:\tlearn: 0.5162686\ttotal: 222ms\tremaining: 22s\n",
      "10:\tlearn: 0.5034611\ttotal: 244ms\tremaining: 21.9s\n",
      "11:\tlearn: 0.4922808\ttotal: 262ms\tremaining: 21.6s\n",
      "12:\tlearn: 0.4822609\ttotal: 283ms\tremaining: 21.5s\n",
      "13:\tlearn: 0.4738755\ttotal: 302ms\tremaining: 21.2s\n",
      "14:\tlearn: 0.4666053\ttotal: 324ms\tremaining: 21.3s\n",
      "15:\tlearn: 0.4602878\ttotal: 362ms\tremaining: 22.3s\n",
      "16:\tlearn: 0.4549319\ttotal: 392ms\tremaining: 22.7s\n",
      "17:\tlearn: 0.4501132\ttotal: 416ms\tremaining: 22.7s\n",
      "18:\tlearn: 0.4459360\ttotal: 434ms\tremaining: 22.4s\n",
      "19:\tlearn: 0.4421944\ttotal: 457ms\tremaining: 22.4s\n",
      "20:\tlearn: 0.4391360\ttotal: 480ms\tremaining: 22.4s\n",
      "21:\tlearn: 0.4365390\ttotal: 500ms\tremaining: 22.2s\n",
      "22:\tlearn: 0.4342766\ttotal: 520ms\tremaining: 22.1s\n",
      "23:\tlearn: 0.4322858\ttotal: 538ms\tremaining: 21.9s\n",
      "24:\tlearn: 0.4304622\ttotal: 558ms\tremaining: 21.8s\n",
      "25:\tlearn: 0.4287741\ttotal: 579ms\tremaining: 21.7s\n",
      "26:\tlearn: 0.4273569\ttotal: 600ms\tremaining: 21.6s\n",
      "27:\tlearn: 0.4262453\ttotal: 621ms\tremaining: 21.6s\n",
      "28:\tlearn: 0.4252036\ttotal: 640ms\tremaining: 21.4s\n",
      "29:\tlearn: 0.4243079\ttotal: 659ms\tremaining: 21.3s\n",
      "30:\tlearn: 0.4233934\ttotal: 680ms\tremaining: 21.3s\n",
      "31:\tlearn: 0.4227294\ttotal: 705ms\tremaining: 21.3s\n",
      "32:\tlearn: 0.4220833\ttotal: 733ms\tremaining: 21.5s\n",
      "33:\tlearn: 0.4215380\ttotal: 810ms\tremaining: 23s\n",
      "34:\tlearn: 0.4209916\ttotal: 958ms\tremaining: 26.4s\n",
      "35:\tlearn: 0.4205242\ttotal: 1.01s\tremaining: 27.1s\n",
      "36:\tlearn: 0.4200507\ttotal: 1.06s\tremaining: 27.6s\n",
      "37:\tlearn: 0.4196691\ttotal: 1.11s\tremaining: 28.1s\n",
      "38:\tlearn: 0.4193588\ttotal: 1.17s\tremaining: 28.8s\n",
      "39:\tlearn: 0.4190891\ttotal: 1.22s\tremaining: 29.3s\n",
      "40:\tlearn: 0.4188668\ttotal: 1.26s\tremaining: 29.4s\n",
      "41:\tlearn: 0.4185343\ttotal: 1.33s\tremaining: 30.4s\n",
      "42:\tlearn: 0.4182941\ttotal: 1.37s\tremaining: 30.5s\n",
      "43:\tlearn: 0.4180761\ttotal: 1.41s\tremaining: 30.7s\n",
      "44:\tlearn: 0.4178984\ttotal: 1.46s\tremaining: 30.9s\n",
      "45:\tlearn: 0.4176703\ttotal: 1.5s\tremaining: 31s\n",
      "46:\tlearn: 0.4174640\ttotal: 1.54s\tremaining: 31.2s\n",
      "47:\tlearn: 0.4173155\ttotal: 1.58s\tremaining: 31.4s\n",
      "48:\tlearn: 0.4171944\ttotal: 1.62s\tremaining: 31.5s\n",
      "49:\tlearn: 0.4170603\ttotal: 1.68s\tremaining: 31.8s\n",
      "50:\tlearn: 0.4169294\ttotal: 1.72s\tremaining: 31.9s\n",
      "51:\tlearn: 0.4167858\ttotal: 1.77s\tremaining: 32.3s\n",
      "52:\tlearn: 0.4166958\ttotal: 1.82s\tremaining: 32.5s\n",
      "53:\tlearn: 0.4165408\ttotal: 1.86s\tremaining: 32.6s\n",
      "54:\tlearn: 0.4164567\ttotal: 1.9s\tremaining: 32.7s\n",
      "55:\tlearn: 0.4163483\ttotal: 1.97s\tremaining: 33.2s\n",
      "56:\tlearn: 0.4162233\ttotal: 2s\tremaining: 33.1s\n",
      "57:\tlearn: 0.4161100\ttotal: 2.03s\tremaining: 32.9s\n",
      "58:\tlearn: 0.4160338\ttotal: 2.05s\tremaining: 32.7s\n",
      "59:\tlearn: 0.4159314\ttotal: 2.07s\tremaining: 32.4s\n",
      "60:\tlearn: 0.4158416\ttotal: 2.09s\tremaining: 32.1s\n",
      "61:\tlearn: 0.4157476\ttotal: 2.11s\tremaining: 31.9s\n",
      "62:\tlearn: 0.4156602\ttotal: 2.13s\tremaining: 31.8s\n",
      "63:\tlearn: 0.4155932\ttotal: 2.16s\tremaining: 31.6s\n",
      "64:\tlearn: 0.4155062\ttotal: 2.18s\tremaining: 31.4s\n",
      "65:\tlearn: 0.4154385\ttotal: 2.21s\tremaining: 31.2s\n",
      "66:\tlearn: 0.4153474\ttotal: 2.22s\tremaining: 31s\n",
      "67:\tlearn: 0.4152990\ttotal: 2.24s\tremaining: 30.7s\n",
      "68:\tlearn: 0.4152267\ttotal: 2.26s\tremaining: 30.5s\n",
      "69:\tlearn: 0.4151498\ttotal: 2.27s\tremaining: 30.2s\n",
      "70:\tlearn: 0.4150752\ttotal: 2.29s\tremaining: 30s\n",
      "71:\tlearn: 0.4149782\ttotal: 2.31s\tremaining: 29.8s\n",
      "72:\tlearn: 0.4149235\ttotal: 2.33s\tremaining: 29.6s\n",
      "73:\tlearn: 0.4148701\ttotal: 2.35s\tremaining: 29.4s\n",
      "74:\tlearn: 0.4147926\ttotal: 2.37s\tremaining: 29.3s\n",
      "75:\tlearn: 0.4147458\ttotal: 2.39s\tremaining: 29.1s\n",
      "76:\tlearn: 0.4146906\ttotal: 2.42s\tremaining: 29s\n",
      "77:\tlearn: 0.4146424\ttotal: 2.44s\tremaining: 28.8s\n",
      "78:\tlearn: 0.4145744\ttotal: 2.46s\tremaining: 28.6s\n",
      "79:\tlearn: 0.4145312\ttotal: 2.48s\tremaining: 28.5s\n",
      "80:\tlearn: 0.4144895\ttotal: 2.5s\tremaining: 28.4s\n",
      "81:\tlearn: 0.4144373\ttotal: 2.52s\tremaining: 28.2s\n",
      "82:\tlearn: 0.4143686\ttotal: 2.54s\tremaining: 28.1s\n",
      "83:\tlearn: 0.4143168\ttotal: 2.56s\tremaining: 27.9s\n",
      "84:\tlearn: 0.4142652\ttotal: 2.58s\tremaining: 27.8s\n",
      "85:\tlearn: 0.4142002\ttotal: 2.6s\tremaining: 27.7s\n",
      "86:\tlearn: 0.4141529\ttotal: 2.62s\tremaining: 27.5s\n",
      "87:\tlearn: 0.4140991\ttotal: 2.64s\tremaining: 27.4s\n",
      "88:\tlearn: 0.4140144\ttotal: 2.67s\tremaining: 27.3s\n",
      "89:\tlearn: 0.4139759\ttotal: 2.69s\tremaining: 27.2s\n",
      "90:\tlearn: 0.4139258\ttotal: 2.71s\tremaining: 27.1s\n",
      "91:\tlearn: 0.4139017\ttotal: 2.73s\tremaining: 27s\n",
      "92:\tlearn: 0.4138421\ttotal: 2.75s\tremaining: 26.9s\n",
      "93:\tlearn: 0.4138373\ttotal: 2.77s\tremaining: 26.7s\n",
      "94:\tlearn: 0.4138056\ttotal: 2.8s\tremaining: 26.7s\n",
      "95:\tlearn: 0.4137511\ttotal: 2.82s\tremaining: 26.6s\n",
      "96:\tlearn: 0.4136992\ttotal: 2.85s\tremaining: 26.5s\n",
      "97:\tlearn: 0.4136453\ttotal: 2.87s\tremaining: 26.4s\n",
      "98:\tlearn: 0.4136037\ttotal: 2.88s\tremaining: 26.3s\n",
      "99:\tlearn: 0.4135742\ttotal: 2.9s\tremaining: 26.1s\n",
      "100:\tlearn: 0.4135534\ttotal: 2.92s\tremaining: 26s\n",
      "101:\tlearn: 0.4134855\ttotal: 2.93s\tremaining: 25.8s\n",
      "102:\tlearn: 0.4134371\ttotal: 2.94s\tremaining: 25.6s\n",
      "103:\tlearn: 0.4133732\ttotal: 2.96s\tremaining: 25.5s\n",
      "104:\tlearn: 0.4133308\ttotal: 2.98s\tremaining: 25.4s\n",
      "105:\tlearn: 0.4132970\ttotal: 3.01s\tremaining: 25.4s\n",
      "106:\tlearn: 0.4132644\ttotal: 3.04s\tremaining: 25.4s\n",
      "107:\tlearn: 0.4132253\ttotal: 3.07s\tremaining: 25.4s\n",
      "108:\tlearn: 0.4131926\ttotal: 3.09s\tremaining: 25.3s\n",
      "109:\tlearn: 0.4131653\ttotal: 3.11s\tremaining: 25.2s\n",
      "110:\tlearn: 0.4131141\ttotal: 3.13s\tremaining: 25.1s\n",
      "111:\tlearn: 0.4130753\ttotal: 3.16s\tremaining: 25s\n",
      "112:\tlearn: 0.4130023\ttotal: 3.18s\tremaining: 24.9s\n",
      "113:\tlearn: 0.4129711\ttotal: 3.2s\tremaining: 24.8s\n",
      "114:\tlearn: 0.4129454\ttotal: 3.21s\tremaining: 24.7s\n",
      "115:\tlearn: 0.4128920\ttotal: 3.23s\tremaining: 24.6s\n",
      "116:\tlearn: 0.4128361\ttotal: 3.25s\tremaining: 24.5s\n",
      "117:\tlearn: 0.4127938\ttotal: 3.27s\tremaining: 24.4s\n",
      "118:\tlearn: 0.4127577\ttotal: 3.29s\tremaining: 24.3s\n",
      "119:\tlearn: 0.4127343\ttotal: 3.3s\tremaining: 24.2s\n",
      "120:\tlearn: 0.4127076\ttotal: 3.31s\tremaining: 24.1s\n",
      "121:\tlearn: 0.4126895\ttotal: 3.33s\tremaining: 24s\n",
      "122:\tlearn: 0.4126190\ttotal: 3.36s\tremaining: 23.9s\n",
      "123:\tlearn: 0.4125951\ttotal: 3.38s\tremaining: 23.9s\n",
      "124:\tlearn: 0.4125349\ttotal: 3.41s\tremaining: 23.9s\n",
      "125:\tlearn: 0.4125119\ttotal: 3.43s\tremaining: 23.8s\n",
      "126:\tlearn: 0.4124670\ttotal: 3.46s\tremaining: 23.8s\n",
      "127:\tlearn: 0.4124506\ttotal: 3.49s\tremaining: 23.8s\n",
      "128:\tlearn: 0.4124192\ttotal: 3.54s\tremaining: 23.9s\n",
      "129:\tlearn: 0.4123913\ttotal: 3.57s\tremaining: 23.9s\n",
      "130:\tlearn: 0.4123646\ttotal: 3.59s\tremaining: 23.8s\n",
      "131:\tlearn: 0.4123623\ttotal: 3.61s\tremaining: 23.7s\n",
      "132:\tlearn: 0.4123345\ttotal: 3.63s\tremaining: 23.7s\n",
      "133:\tlearn: 0.4123116\ttotal: 3.67s\tremaining: 23.7s\n",
      "134:\tlearn: 0.4122488\ttotal: 3.69s\tremaining: 23.6s\n",
      "135:\tlearn: 0.4122262\ttotal: 3.7s\tremaining: 23.5s\n",
      "136:\tlearn: 0.4122046\ttotal: 3.72s\tremaining: 23.4s\n",
      "137:\tlearn: 0.4121642\ttotal: 3.74s\tremaining: 23.4s\n",
      "138:\tlearn: 0.4121286\ttotal: 3.76s\tremaining: 23.3s\n",
      "139:\tlearn: 0.4121071\ttotal: 3.78s\tremaining: 23.2s\n",
      "140:\tlearn: 0.4120882\ttotal: 3.81s\tremaining: 23.2s\n",
      "141:\tlearn: 0.4120365\ttotal: 3.83s\tremaining: 23.1s\n",
      "142:\tlearn: 0.4120051\ttotal: 3.85s\tremaining: 23.1s\n",
      "143:\tlearn: 0.4119755\ttotal: 3.9s\tremaining: 23.2s\n",
      "144:\tlearn: 0.4119492\ttotal: 3.96s\tremaining: 23.3s\n",
      "145:\tlearn: 0.4119189\ttotal: 4.01s\tremaining: 23.5s\n",
      "146:\tlearn: 0.4118984\ttotal: 4.08s\tremaining: 23.7s\n",
      "147:\tlearn: 0.4118652\ttotal: 4.14s\tremaining: 23.8s\n",
      "148:\tlearn: 0.4118444\ttotal: 4.2s\tremaining: 24s\n",
      "149:\tlearn: 0.4118166\ttotal: 4.23s\tremaining: 24s\n",
      "150:\tlearn: 0.4117790\ttotal: 4.28s\tremaining: 24.1s\n",
      "151:\tlearn: 0.4117227\ttotal: 4.33s\tremaining: 24.2s\n",
      "152:\tlearn: 0.4116907\ttotal: 4.37s\tremaining: 24.2s\n",
      "153:\tlearn: 0.4116599\ttotal: 4.42s\tremaining: 24.3s\n",
      "154:\tlearn: 0.4116163\ttotal: 4.47s\tremaining: 24.4s\n",
      "155:\tlearn: 0.4115780\ttotal: 4.52s\tremaining: 24.5s\n",
      "156:\tlearn: 0.4115436\ttotal: 4.57s\tremaining: 24.5s\n",
      "157:\tlearn: 0.4114812\ttotal: 4.64s\tremaining: 24.8s\n",
      "158:\tlearn: 0.4114463\ttotal: 4.68s\tremaining: 24.8s\n",
      "159:\tlearn: 0.4114150\ttotal: 4.71s\tremaining: 24.7s\n",
      "160:\tlearn: 0.4113829\ttotal: 4.75s\tremaining: 24.8s\n",
      "161:\tlearn: 0.4113524\ttotal: 4.78s\tremaining: 24.7s\n",
      "162:\tlearn: 0.4113149\ttotal: 4.79s\tremaining: 24.6s\n",
      "163:\tlearn: 0.4112822\ttotal: 4.81s\tremaining: 24.5s\n",
      "164:\tlearn: 0.4112406\ttotal: 4.83s\tremaining: 24.4s\n"
     ]
    },
    {
     "name": "stdout",
     "output_type": "stream",
     "text": [
      "165:\tlearn: 0.4112157\ttotal: 4.85s\tremaining: 24.4s\n",
      "166:\tlearn: 0.4111998\ttotal: 4.87s\tremaining: 24.3s\n",
      "167:\tlearn: 0.4111768\ttotal: 4.9s\tremaining: 24.2s\n",
      "168:\tlearn: 0.4111240\ttotal: 4.93s\tremaining: 24.2s\n",
      "169:\tlearn: 0.4110860\ttotal: 4.95s\tremaining: 24.2s\n",
      "170:\tlearn: 0.4110497\ttotal: 4.98s\tremaining: 24.1s\n",
      "171:\tlearn: 0.4110235\ttotal: 5s\tremaining: 24.1s\n",
      "172:\tlearn: 0.4109923\ttotal: 5.02s\tremaining: 24s\n",
      "173:\tlearn: 0.4109616\ttotal: 5.04s\tremaining: 23.9s\n",
      "174:\tlearn: 0.4109425\ttotal: 5.07s\tremaining: 23.9s\n",
      "175:\tlearn: 0.4109239\ttotal: 5.09s\tremaining: 23.8s\n",
      "176:\tlearn: 0.4108922\ttotal: 5.11s\tremaining: 23.8s\n",
      "177:\tlearn: 0.4108634\ttotal: 5.15s\tremaining: 23.8s\n",
      "178:\tlearn: 0.4108433\ttotal: 5.17s\tremaining: 23.7s\n",
      "179:\tlearn: 0.4108233\ttotal: 5.19s\tremaining: 23.7s\n",
      "180:\tlearn: 0.4107666\ttotal: 5.21s\tremaining: 23.6s\n",
      "181:\tlearn: 0.4107336\ttotal: 5.22s\tremaining: 23.5s\n",
      "182:\tlearn: 0.4107035\ttotal: 5.24s\tremaining: 23.4s\n",
      "183:\tlearn: 0.4106766\ttotal: 5.25s\tremaining: 23.3s\n",
      "184:\tlearn: 0.4106563\ttotal: 5.27s\tremaining: 23.2s\n",
      "185:\tlearn: 0.4106382\ttotal: 5.29s\tremaining: 23.2s\n",
      "186:\tlearn: 0.4106144\ttotal: 5.32s\tremaining: 23.1s\n",
      "187:\tlearn: 0.4105698\ttotal: 5.34s\tremaining: 23.1s\n",
      "188:\tlearn: 0.4105427\ttotal: 5.37s\tremaining: 23s\n",
      "189:\tlearn: 0.4105052\ttotal: 5.39s\tremaining: 23s\n",
      "190:\tlearn: 0.4104700\ttotal: 5.42s\tremaining: 22.9s\n",
      "191:\tlearn: 0.4104399\ttotal: 5.44s\tremaining: 22.9s\n",
      "192:\tlearn: 0.4104205\ttotal: 5.46s\tremaining: 22.8s\n",
      "193:\tlearn: 0.4104000\ttotal: 5.48s\tremaining: 22.8s\n",
      "194:\tlearn: 0.4103662\ttotal: 5.5s\tremaining: 22.7s\n",
      "195:\tlearn: 0.4103440\ttotal: 5.52s\tremaining: 22.6s\n",
      "196:\tlearn: 0.4103287\ttotal: 5.54s\tremaining: 22.6s\n",
      "197:\tlearn: 0.4103018\ttotal: 5.57s\tremaining: 22.5s\n",
      "198:\tlearn: 0.4102592\ttotal: 5.58s\tremaining: 22.5s\n",
      "199:\tlearn: 0.4102124\ttotal: 5.61s\tremaining: 22.4s\n",
      "200:\tlearn: 0.4101855\ttotal: 5.65s\tremaining: 22.5s\n",
      "201:\tlearn: 0.4101584\ttotal: 5.7s\tremaining: 22.5s\n",
      "202:\tlearn: 0.4101358\ttotal: 5.73s\tremaining: 22.5s\n",
      "203:\tlearn: 0.4101089\ttotal: 5.76s\tremaining: 22.5s\n",
      "204:\tlearn: 0.4100898\ttotal: 5.79s\tremaining: 22.5s\n",
      "205:\tlearn: 0.4100635\ttotal: 5.82s\tremaining: 22.4s\n",
      "206:\tlearn: 0.4100468\ttotal: 5.84s\tremaining: 22.4s\n",
      "207:\tlearn: 0.4100329\ttotal: 5.86s\tremaining: 22.3s\n",
      "208:\tlearn: 0.4099943\ttotal: 5.88s\tremaining: 22.3s\n",
      "209:\tlearn: 0.4099724\ttotal: 5.93s\tremaining: 22.3s\n",
      "210:\tlearn: 0.4099427\ttotal: 5.98s\tremaining: 22.4s\n",
      "211:\tlearn: 0.4099268\ttotal: 6s\tremaining: 22.3s\n",
      "212:\tlearn: 0.4098872\ttotal: 6.03s\tremaining: 22.3s\n",
      "213:\tlearn: 0.4098688\ttotal: 6.06s\tremaining: 22.2s\n",
      "214:\tlearn: 0.4098410\ttotal: 6.09s\tremaining: 22.2s\n",
      "215:\tlearn: 0.4098250\ttotal: 6.11s\tremaining: 22.2s\n",
      "216:\tlearn: 0.4097962\ttotal: 6.14s\tremaining: 22.2s\n",
      "217:\tlearn: 0.4097768\ttotal: 6.18s\tremaining: 22.2s\n",
      "218:\tlearn: 0.4097528\ttotal: 6.21s\tremaining: 22.1s\n",
      "219:\tlearn: 0.4097248\ttotal: 6.23s\tremaining: 22.1s\n",
      "220:\tlearn: 0.4097052\ttotal: 6.25s\tremaining: 22s\n",
      "221:\tlearn: 0.4096978\ttotal: 6.28s\tremaining: 22s\n",
      "222:\tlearn: 0.4096674\ttotal: 6.3s\tremaining: 21.9s\n",
      "223:\tlearn: 0.4096492\ttotal: 6.33s\tremaining: 21.9s\n",
      "224:\tlearn: 0.4096136\ttotal: 6.35s\tremaining: 21.9s\n",
      "225:\tlearn: 0.4095912\ttotal: 6.38s\tremaining: 21.9s\n",
      "226:\tlearn: 0.4095669\ttotal: 6.41s\tremaining: 21.8s\n",
      "227:\tlearn: 0.4095490\ttotal: 6.43s\tremaining: 21.8s\n",
      "228:\tlearn: 0.4095281\ttotal: 6.45s\tremaining: 21.7s\n",
      "229:\tlearn: 0.4095019\ttotal: 6.47s\tremaining: 21.7s\n",
      "230:\tlearn: 0.4094833\ttotal: 6.49s\tremaining: 21.6s\n",
      "231:\tlearn: 0.4094577\ttotal: 6.51s\tremaining: 21.6s\n",
      "232:\tlearn: 0.4094294\ttotal: 6.54s\tremaining: 21.5s\n",
      "233:\tlearn: 0.4094127\ttotal: 6.56s\tremaining: 21.5s\n",
      "234:\tlearn: 0.4093860\ttotal: 6.58s\tremaining: 21.4s\n",
      "235:\tlearn: 0.4093576\ttotal: 6.61s\tremaining: 21.4s\n",
      "236:\tlearn: 0.4093391\ttotal: 6.64s\tremaining: 21.4s\n",
      "237:\tlearn: 0.4093170\ttotal: 6.71s\tremaining: 21.5s\n",
      "238:\tlearn: 0.4092851\ttotal: 6.74s\tremaining: 21.5s\n",
      "239:\tlearn: 0.4092667\ttotal: 6.77s\tremaining: 21.4s\n",
      "240:\tlearn: 0.4092449\ttotal: 6.79s\tremaining: 21.4s\n",
      "241:\tlearn: 0.4092337\ttotal: 6.81s\tremaining: 21.3s\n",
      "242:\tlearn: 0.4091987\ttotal: 6.83s\tremaining: 21.3s\n",
      "243:\tlearn: 0.4091636\ttotal: 6.85s\tremaining: 21.2s\n",
      "244:\tlearn: 0.4091381\ttotal: 6.87s\tremaining: 21.2s\n",
      "245:\tlearn: 0.4091201\ttotal: 6.9s\tremaining: 21.1s\n",
      "246:\tlearn: 0.4090835\ttotal: 6.92s\tremaining: 21.1s\n",
      "247:\tlearn: 0.4090697\ttotal: 6.95s\tremaining: 21.1s\n",
      "248:\tlearn: 0.4090487\ttotal: 6.97s\tremaining: 21s\n",
      "249:\tlearn: 0.4090199\ttotal: 7s\tremaining: 21s\n",
      "250:\tlearn: 0.4090005\ttotal: 7.02s\tremaining: 20.9s\n",
      "251:\tlearn: 0.4089788\ttotal: 7.04s\tremaining: 20.9s\n",
      "252:\tlearn: 0.4089457\ttotal: 7.06s\tremaining: 20.9s\n",
      "253:\tlearn: 0.4089374\ttotal: 7.08s\tremaining: 20.8s\n",
      "254:\tlearn: 0.4089007\ttotal: 7.09s\tremaining: 20.7s\n",
      "255:\tlearn: 0.4088856\ttotal: 7.11s\tremaining: 20.7s\n",
      "256:\tlearn: 0.4088713\ttotal: 7.13s\tremaining: 20.6s\n",
      "257:\tlearn: 0.4088569\ttotal: 7.14s\tremaining: 20.5s\n",
      "258:\tlearn: 0.4088440\ttotal: 7.17s\tremaining: 20.5s\n",
      "259:\tlearn: 0.4088255\ttotal: 7.21s\tremaining: 20.5s\n",
      "260:\tlearn: 0.4088065\ttotal: 7.23s\tremaining: 20.5s\n",
      "261:\tlearn: 0.4087843\ttotal: 7.25s\tremaining: 20.4s\n",
      "262:\tlearn: 0.4087339\ttotal: 7.28s\tremaining: 20.4s\n",
      "263:\tlearn: 0.4087157\ttotal: 7.3s\tremaining: 20.3s\n",
      "264:\tlearn: 0.4086900\ttotal: 7.32s\tremaining: 20.3s\n",
      "265:\tlearn: 0.4086746\ttotal: 7.34s\tremaining: 20.3s\n",
      "266:\tlearn: 0.4086569\ttotal: 7.36s\tremaining: 20.2s\n",
      "267:\tlearn: 0.4086494\ttotal: 7.38s\tremaining: 20.2s\n",
      "268:\tlearn: 0.4086048\ttotal: 7.4s\tremaining: 20.1s\n",
      "269:\tlearn: 0.4085753\ttotal: 7.42s\tremaining: 20s\n",
      "270:\tlearn: 0.4085508\ttotal: 7.43s\tremaining: 20s\n",
      "271:\tlearn: 0.4085374\ttotal: 7.44s\tremaining: 19.9s\n",
      "272:\tlearn: 0.4085151\ttotal: 7.46s\tremaining: 19.9s\n",
      "273:\tlearn: 0.4084908\ttotal: 7.47s\tremaining: 19.8s\n",
      "274:\tlearn: 0.4084591\ttotal: 7.49s\tremaining: 19.7s\n",
      "275:\tlearn: 0.4084478\ttotal: 7.51s\tremaining: 19.7s\n",
      "276:\tlearn: 0.4084083\ttotal: 7.54s\tremaining: 19.7s\n",
      "277:\tlearn: 0.4083998\ttotal: 7.56s\tremaining: 19.6s\n",
      "278:\tlearn: 0.4083743\ttotal: 7.59s\tremaining: 19.6s\n",
      "279:\tlearn: 0.4083574\ttotal: 7.62s\tremaining: 19.6s\n",
      "280:\tlearn: 0.4083361\ttotal: 7.66s\tremaining: 19.6s\n",
      "281:\tlearn: 0.4083033\ttotal: 7.69s\tremaining: 19.6s\n",
      "282:\tlearn: 0.4082890\ttotal: 7.72s\tremaining: 19.6s\n",
      "283:\tlearn: 0.4082723\ttotal: 7.75s\tremaining: 19.5s\n",
      "284:\tlearn: 0.4082507\ttotal: 7.78s\tremaining: 19.5s\n",
      "285:\tlearn: 0.4082343\ttotal: 7.8s\tremaining: 19.5s\n",
      "286:\tlearn: 0.4082235\ttotal: 7.83s\tremaining: 19.4s\n",
      "287:\tlearn: 0.4082112\ttotal: 7.85s\tremaining: 19.4s\n",
      "288:\tlearn: 0.4081921\ttotal: 7.88s\tremaining: 19.4s\n",
      "289:\tlearn: 0.4081738\ttotal: 7.9s\tremaining: 19.3s\n",
      "290:\tlearn: 0.4081613\ttotal: 7.92s\tremaining: 19.3s\n",
      "291:\tlearn: 0.4081349\ttotal: 7.96s\tremaining: 19.3s\n",
      "292:\tlearn: 0.4081181\ttotal: 7.98s\tremaining: 19.3s\n",
      "293:\tlearn: 0.4081030\ttotal: 8s\tremaining: 19.2s\n",
      "294:\tlearn: 0.4080886\ttotal: 8.03s\tremaining: 19.2s\n",
      "295:\tlearn: 0.4080753\ttotal: 8.05s\tremaining: 19.1s\n",
      "296:\tlearn: 0.4080552\ttotal: 8.06s\tremaining: 19.1s\n",
      "297:\tlearn: 0.4080406\ttotal: 8.08s\tremaining: 19s\n",
      "298:\tlearn: 0.4080206\ttotal: 8.1s\tremaining: 19s\n",
      "299:\tlearn: 0.4079865\ttotal: 8.11s\tremaining: 18.9s\n",
      "300:\tlearn: 0.4079674\ttotal: 8.13s\tremaining: 18.9s\n",
      "301:\tlearn: 0.4079375\ttotal: 8.14s\tremaining: 18.8s\n",
      "302:\tlearn: 0.4079241\ttotal: 8.16s\tremaining: 18.8s\n",
      "303:\tlearn: 0.4079086\ttotal: 8.18s\tremaining: 18.7s\n",
      "304:\tlearn: 0.4078934\ttotal: 8.21s\tremaining: 18.7s\n",
      "305:\tlearn: 0.4078710\ttotal: 8.25s\tremaining: 18.7s\n",
      "306:\tlearn: 0.4078605\ttotal: 8.28s\tremaining: 18.7s\n",
      "307:\tlearn: 0.4078472\ttotal: 8.31s\tremaining: 18.7s\n",
      "308:\tlearn: 0.4078316\ttotal: 8.33s\tremaining: 18.6s\n",
      "309:\tlearn: 0.4078131\ttotal: 8.35s\tremaining: 18.6s\n",
      "310:\tlearn: 0.4077913\ttotal: 8.37s\tremaining: 18.5s\n",
      "311:\tlearn: 0.4077699\ttotal: 8.39s\tremaining: 18.5s\n",
      "312:\tlearn: 0.4077450\ttotal: 8.41s\tremaining: 18.5s\n",
      "313:\tlearn: 0.4077083\ttotal: 8.43s\tremaining: 18.4s\n",
      "314:\tlearn: 0.4076890\ttotal: 8.45s\tremaining: 18.4s\n",
      "315:\tlearn: 0.4076686\ttotal: 8.46s\tremaining: 18.3s\n",
      "316:\tlearn: 0.4076542\ttotal: 8.47s\tremaining: 18.3s\n",
      "317:\tlearn: 0.4076421\ttotal: 8.49s\tremaining: 18.2s\n",
      "318:\tlearn: 0.4076232\ttotal: 8.51s\tremaining: 18.2s\n",
      "319:\tlearn: 0.4076072\ttotal: 8.53s\tremaining: 18.1s\n",
      "320:\tlearn: 0.4075873\ttotal: 8.55s\tremaining: 18.1s\n",
      "321:\tlearn: 0.4075625\ttotal: 8.57s\tremaining: 18.1s\n",
      "322:\tlearn: 0.4075528\ttotal: 8.6s\tremaining: 18s\n",
      "323:\tlearn: 0.4075384\ttotal: 8.64s\tremaining: 18s\n",
      "324:\tlearn: 0.4075165\ttotal: 8.67s\tremaining: 18s\n",
      "325:\tlearn: 0.4074938\ttotal: 8.7s\tremaining: 18s\n",
      "326:\tlearn: 0.4074905\ttotal: 8.73s\tremaining: 18s\n",
      "327:\tlearn: 0.4074762\ttotal: 8.75s\tremaining: 17.9s\n",
      "328:\tlearn: 0.4074568\ttotal: 8.77s\tremaining: 17.9s\n"
     ]
    },
    {
     "name": "stdout",
     "output_type": "stream",
     "text": [
      "329:\tlearn: 0.4074359\ttotal: 8.8s\tremaining: 17.9s\n",
      "330:\tlearn: 0.4074240\ttotal: 8.82s\tremaining: 17.8s\n",
      "331:\tlearn: 0.4074076\ttotal: 8.84s\tremaining: 17.8s\n",
      "332:\tlearn: 0.4073954\ttotal: 8.86s\tremaining: 17.8s\n",
      "333:\tlearn: 0.4073789\ttotal: 8.88s\tremaining: 17.7s\n",
      "334:\tlearn: 0.4073627\ttotal: 8.9s\tremaining: 17.7s\n",
      "335:\tlearn: 0.4073403\ttotal: 8.93s\tremaining: 17.6s\n",
      "336:\tlearn: 0.4073140\ttotal: 8.95s\tremaining: 17.6s\n",
      "337:\tlearn: 0.4072894\ttotal: 8.97s\tremaining: 17.6s\n",
      "338:\tlearn: 0.4072694\ttotal: 8.99s\tremaining: 17.5s\n",
      "339:\tlearn: 0.4072508\ttotal: 9.02s\tremaining: 17.5s\n",
      "340:\tlearn: 0.4072396\ttotal: 9.04s\tremaining: 17.5s\n",
      "341:\tlearn: 0.4072168\ttotal: 9.06s\tremaining: 17.4s\n",
      "342:\tlearn: 0.4072056\ttotal: 9.07s\tremaining: 17.4s\n",
      "343:\tlearn: 0.4071860\ttotal: 9.09s\tremaining: 17.3s\n",
      "344:\tlearn: 0.4071698\ttotal: 9.11s\tremaining: 17.3s\n",
      "345:\tlearn: 0.4071439\ttotal: 9.12s\tremaining: 17.2s\n",
      "346:\tlearn: 0.4071226\ttotal: 9.14s\tremaining: 17.2s\n",
      "347:\tlearn: 0.4071045\ttotal: 9.15s\tremaining: 17.1s\n",
      "348:\tlearn: 0.4070970\ttotal: 9.17s\tremaining: 17.1s\n",
      "349:\tlearn: 0.4070756\ttotal: 9.19s\tremaining: 17.1s\n",
      "350:\tlearn: 0.4070600\ttotal: 9.2s\tremaining: 17s\n",
      "351:\tlearn: 0.4070474\ttotal: 9.22s\tremaining: 17s\n",
      "352:\tlearn: 0.4070327\ttotal: 9.25s\tremaining: 17s\n",
      "353:\tlearn: 0.4070243\ttotal: 9.28s\tremaining: 16.9s\n",
      "354:\tlearn: 0.4070053\ttotal: 9.31s\tremaining: 16.9s\n",
      "355:\tlearn: 0.4069892\ttotal: 9.33s\tremaining: 16.9s\n",
      "356:\tlearn: 0.4069716\ttotal: 9.36s\tremaining: 16.9s\n",
      "357:\tlearn: 0.4069493\ttotal: 9.38s\tremaining: 16.8s\n",
      "358:\tlearn: 0.4069287\ttotal: 9.4s\tremaining: 16.8s\n",
      "359:\tlearn: 0.4069064\ttotal: 9.42s\tremaining: 16.8s\n",
      "360:\tlearn: 0.4068843\ttotal: 9.44s\tremaining: 16.7s\n",
      "361:\tlearn: 0.4068611\ttotal: 9.46s\tremaining: 16.7s\n",
      "362:\tlearn: 0.4068488\ttotal: 9.47s\tremaining: 16.6s\n",
      "363:\tlearn: 0.4068186\ttotal: 9.49s\tremaining: 16.6s\n",
      "364:\tlearn: 0.4068136\ttotal: 9.51s\tremaining: 16.5s\n",
      "365:\tlearn: 0.4067895\ttotal: 9.52s\tremaining: 16.5s\n",
      "366:\tlearn: 0.4067731\ttotal: 9.53s\tremaining: 16.4s\n",
      "367:\tlearn: 0.4067598\ttotal: 9.56s\tremaining: 16.4s\n",
      "368:\tlearn: 0.4067299\ttotal: 9.59s\tremaining: 16.4s\n",
      "369:\tlearn: 0.4067106\ttotal: 9.66s\tremaining: 16.4s\n",
      "370:\tlearn: 0.4066973\ttotal: 9.72s\tremaining: 16.5s\n",
      "371:\tlearn: 0.4066685\ttotal: 9.77s\tremaining: 16.5s\n",
      "372:\tlearn: 0.4066499\ttotal: 9.82s\tremaining: 16.5s\n",
      "373:\tlearn: 0.4066219\ttotal: 9.88s\tremaining: 16.5s\n",
      "374:\tlearn: 0.4066054\ttotal: 9.96s\tremaining: 16.6s\n",
      "375:\tlearn: 0.4065964\ttotal: 10s\tremaining: 16.6s\n",
      "376:\tlearn: 0.4065663\ttotal: 10.1s\tremaining: 16.7s\n",
      "377:\tlearn: 0.4065485\ttotal: 10.1s\tremaining: 16.7s\n",
      "378:\tlearn: 0.4065402\ttotal: 10.2s\tremaining: 16.7s\n",
      "379:\tlearn: 0.4065227\ttotal: 10.3s\tremaining: 16.7s\n",
      "380:\tlearn: 0.4065027\ttotal: 10.3s\tremaining: 16.8s\n",
      "381:\tlearn: 0.4064884\ttotal: 10.4s\tremaining: 16.8s\n",
      "382:\tlearn: 0.4064715\ttotal: 10.4s\tremaining: 16.7s\n",
      "383:\tlearn: 0.4064515\ttotal: 10.4s\tremaining: 16.7s\n",
      "384:\tlearn: 0.4064185\ttotal: 10.4s\tremaining: 16.6s\n",
      "385:\tlearn: 0.4064091\ttotal: 10.4s\tremaining: 16.6s\n",
      "386:\tlearn: 0.4063954\ttotal: 10.5s\tremaining: 16.6s\n",
      "387:\tlearn: 0.4063790\ttotal: 10.5s\tremaining: 16.5s\n",
      "388:\tlearn: 0.4063673\ttotal: 10.5s\tremaining: 16.5s\n",
      "389:\tlearn: 0.4063484\ttotal: 10.5s\tremaining: 16.5s\n",
      "390:\tlearn: 0.4063411\ttotal: 10.5s\tremaining: 16.4s\n",
      "391:\tlearn: 0.4063233\ttotal: 10.6s\tremaining: 16.4s\n",
      "392:\tlearn: 0.4062918\ttotal: 10.6s\tremaining: 16.4s\n",
      "393:\tlearn: 0.4062767\ttotal: 10.6s\tremaining: 16.3s\n",
      "394:\tlearn: 0.4062595\ttotal: 10.6s\tremaining: 16.3s\n",
      "395:\tlearn: 0.4062400\ttotal: 10.7s\tremaining: 16.3s\n",
      "396:\tlearn: 0.4062186\ttotal: 10.7s\tremaining: 16.2s\n",
      "397:\tlearn: 0.4062029\ttotal: 10.7s\tremaining: 16.2s\n",
      "398:\tlearn: 0.4061780\ttotal: 10.7s\tremaining: 16.1s\n",
      "399:\tlearn: 0.4061601\ttotal: 10.7s\tremaining: 16.1s\n",
      "400:\tlearn: 0.4061369\ttotal: 10.7s\tremaining: 16s\n",
      "401:\tlearn: 0.4061170\ttotal: 10.8s\tremaining: 16s\n",
      "402:\tlearn: 0.4061093\ttotal: 10.8s\tremaining: 16s\n",
      "403:\tlearn: 0.4060974\ttotal: 10.8s\tremaining: 15.9s\n",
      "404:\tlearn: 0.4060866\ttotal: 10.8s\tremaining: 15.9s\n",
      "405:\tlearn: 0.4060748\ttotal: 10.8s\tremaining: 15.9s\n",
      "406:\tlearn: 0.4060672\ttotal: 10.9s\tremaining: 15.8s\n",
      "407:\tlearn: 0.4060529\ttotal: 10.9s\tremaining: 15.8s\n",
      "408:\tlearn: 0.4060361\ttotal: 10.9s\tremaining: 15.8s\n",
      "409:\tlearn: 0.4060210\ttotal: 10.9s\tremaining: 15.8s\n",
      "410:\tlearn: 0.4060053\ttotal: 11s\tremaining: 15.7s\n",
      "411:\tlearn: 0.4059815\ttotal: 11s\tremaining: 15.7s\n",
      "412:\tlearn: 0.4059606\ttotal: 11s\tremaining: 15.6s\n",
      "413:\tlearn: 0.4059357\ttotal: 11s\tremaining: 15.6s\n",
      "414:\tlearn: 0.4059190\ttotal: 11s\tremaining: 15.5s\n",
      "415:\tlearn: 0.4059016\ttotal: 11s\tremaining: 15.5s\n",
      "416:\tlearn: 0.4058847\ttotal: 11.1s\tremaining: 15.5s\n",
      "417:\tlearn: 0.4058687\ttotal: 11.1s\tremaining: 15.4s\n",
      "418:\tlearn: 0.4058549\ttotal: 11.1s\tremaining: 15.4s\n",
      "419:\tlearn: 0.4058236\ttotal: 11.1s\tremaining: 15.4s\n",
      "420:\tlearn: 0.4058098\ttotal: 11.1s\tremaining: 15.3s\n",
      "421:\tlearn: 0.4057871\ttotal: 11.2s\tremaining: 15.3s\n",
      "422:\tlearn: 0.4057621\ttotal: 11.2s\tremaining: 15.3s\n",
      "423:\tlearn: 0.4057506\ttotal: 11.2s\tremaining: 15.2s\n",
      "424:\tlearn: 0.4057263\ttotal: 11.2s\tremaining: 15.2s\n",
      "425:\tlearn: 0.4057134\ttotal: 11.3s\tremaining: 15.2s\n",
      "426:\tlearn: 0.4056871\ttotal: 11.3s\tremaining: 15.1s\n",
      "427:\tlearn: 0.4056754\ttotal: 11.3s\tremaining: 15.1s\n",
      "428:\tlearn: 0.4056591\ttotal: 11.3s\tremaining: 15.1s\n",
      "429:\tlearn: 0.4056406\ttotal: 11.3s\tremaining: 15s\n",
      "430:\tlearn: 0.4056154\ttotal: 11.4s\tremaining: 15s\n",
      "431:\tlearn: 0.4055994\ttotal: 11.4s\tremaining: 14.9s\n",
      "432:\tlearn: 0.4055890\ttotal: 11.4s\tremaining: 14.9s\n",
      "433:\tlearn: 0.4055710\ttotal: 11.4s\tremaining: 14.9s\n",
      "434:\tlearn: 0.4055623\ttotal: 11.4s\tremaining: 14.8s\n",
      "435:\tlearn: 0.4055509\ttotal: 11.4s\tremaining: 14.8s\n",
      "436:\tlearn: 0.4055434\ttotal: 11.5s\tremaining: 14.8s\n",
      "437:\tlearn: 0.4055314\ttotal: 11.5s\tremaining: 14.7s\n",
      "438:\tlearn: 0.4055222\ttotal: 11.5s\tremaining: 14.7s\n",
      "439:\tlearn: 0.4055046\ttotal: 11.5s\tremaining: 14.7s\n",
      "440:\tlearn: 0.4054889\ttotal: 11.5s\tremaining: 14.6s\n",
      "441:\tlearn: 0.4054792\ttotal: 11.6s\tremaining: 14.6s\n",
      "442:\tlearn: 0.4054674\ttotal: 11.6s\tremaining: 14.6s\n",
      "443:\tlearn: 0.4054487\ttotal: 11.6s\tremaining: 14.5s\n",
      "444:\tlearn: 0.4054387\ttotal: 11.6s\tremaining: 14.5s\n",
      "445:\tlearn: 0.4054226\ttotal: 11.6s\tremaining: 14.5s\n",
      "446:\tlearn: 0.4054001\ttotal: 11.7s\tremaining: 14.4s\n",
      "447:\tlearn: 0.4053857\ttotal: 11.7s\tremaining: 14.4s\n",
      "448:\tlearn: 0.4053711\ttotal: 11.7s\tremaining: 14.4s\n",
      "449:\tlearn: 0.4053575\ttotal: 11.7s\tremaining: 14.3s\n",
      "450:\tlearn: 0.4053466\ttotal: 11.7s\tremaining: 14.3s\n",
      "451:\tlearn: 0.4053266\ttotal: 11.8s\tremaining: 14.2s\n",
      "452:\tlearn: 0.4053100\ttotal: 11.8s\tremaining: 14.2s\n",
      "453:\tlearn: 0.4052979\ttotal: 11.8s\tremaining: 14.2s\n",
      "454:\tlearn: 0.4052741\ttotal: 11.8s\tremaining: 14.1s\n",
      "455:\tlearn: 0.4052519\ttotal: 11.8s\tremaining: 14.1s\n",
      "456:\tlearn: 0.4052311\ttotal: 11.8s\tremaining: 14.1s\n",
      "457:\tlearn: 0.4052185\ttotal: 11.9s\tremaining: 14s\n",
      "458:\tlearn: 0.4052047\ttotal: 11.9s\tremaining: 14s\n",
      "459:\tlearn: 0.4051944\ttotal: 11.9s\tremaining: 14s\n",
      "460:\tlearn: 0.4051694\ttotal: 11.9s\tremaining: 14s\n",
      "461:\tlearn: 0.4051583\ttotal: 12s\tremaining: 13.9s\n",
      "462:\tlearn: 0.4051511\ttotal: 12s\tremaining: 13.9s\n",
      "463:\tlearn: 0.4051345\ttotal: 12s\tremaining: 13.9s\n",
      "464:\tlearn: 0.4051153\ttotal: 12s\tremaining: 13.8s\n",
      "465:\tlearn: 0.4050976\ttotal: 12s\tremaining: 13.8s\n",
      "466:\tlearn: 0.4050757\ttotal: 12s\tremaining: 13.8s\n",
      "467:\tlearn: 0.4050592\ttotal: 12.1s\tremaining: 13.7s\n",
      "468:\tlearn: 0.4050504\ttotal: 12.1s\tremaining: 13.7s\n",
      "469:\tlearn: 0.4050319\ttotal: 12.1s\tremaining: 13.6s\n",
      "470:\tlearn: 0.4050167\ttotal: 12.1s\tremaining: 13.6s\n",
      "471:\tlearn: 0.4050063\ttotal: 12.1s\tremaining: 13.6s\n",
      "472:\tlearn: 0.4049920\ttotal: 12.2s\tremaining: 13.5s\n",
      "473:\tlearn: 0.4049653\ttotal: 12.2s\tremaining: 13.5s\n",
      "474:\tlearn: 0.4049597\ttotal: 12.2s\tremaining: 13.5s\n",
      "475:\tlearn: 0.4049336\ttotal: 12.2s\tremaining: 13.5s\n",
      "476:\tlearn: 0.4049266\ttotal: 12.2s\tremaining: 13.4s\n",
      "477:\tlearn: 0.4049031\ttotal: 12.3s\tremaining: 13.4s\n",
      "478:\tlearn: 0.4048880\ttotal: 12.3s\tremaining: 13.4s\n",
      "479:\tlearn: 0.4048742\ttotal: 12.3s\tremaining: 13.3s\n",
      "480:\tlearn: 0.4048591\ttotal: 12.3s\tremaining: 13.3s\n",
      "481:\tlearn: 0.4048415\ttotal: 12.4s\tremaining: 13.3s\n",
      "482:\tlearn: 0.4048258\ttotal: 12.4s\tremaining: 13.2s\n",
      "483:\tlearn: 0.4048154\ttotal: 12.4s\tremaining: 13.2s\n",
      "484:\tlearn: 0.4048075\ttotal: 12.4s\tremaining: 13.2s\n",
      "485:\tlearn: 0.4047961\ttotal: 12.4s\tremaining: 13.1s\n",
      "486:\tlearn: 0.4047662\ttotal: 12.4s\tremaining: 13.1s\n",
      "487:\tlearn: 0.4047481\ttotal: 12.5s\tremaining: 13.1s\n",
      "488:\tlearn: 0.4047386\ttotal: 12.5s\tremaining: 13.1s\n"
     ]
    },
    {
     "name": "stdout",
     "output_type": "stream",
     "text": [
      "489:\tlearn: 0.4047162\ttotal: 12.5s\tremaining: 13s\n",
      "490:\tlearn: 0.4047053\ttotal: 12.5s\tremaining: 13s\n",
      "491:\tlearn: 0.4046919\ttotal: 12.5s\tremaining: 13s\n",
      "492:\tlearn: 0.4046843\ttotal: 12.6s\tremaining: 12.9s\n",
      "493:\tlearn: 0.4046676\ttotal: 12.6s\tremaining: 12.9s\n",
      "494:\tlearn: 0.4046501\ttotal: 12.6s\tremaining: 12.8s\n",
      "495:\tlearn: 0.4046269\ttotal: 12.6s\tremaining: 12.8s\n",
      "496:\tlearn: 0.4046058\ttotal: 12.6s\tremaining: 12.8s\n",
      "497:\tlearn: 0.4045951\ttotal: 12.7s\tremaining: 12.8s\n",
      "498:\tlearn: 0.4045785\ttotal: 12.7s\tremaining: 12.7s\n",
      "499:\tlearn: 0.4045558\ttotal: 12.7s\tremaining: 12.7s\n",
      "500:\tlearn: 0.4045416\ttotal: 12.7s\tremaining: 12.7s\n",
      "501:\tlearn: 0.4045232\ttotal: 12.7s\tremaining: 12.6s\n",
      "502:\tlearn: 0.4045082\ttotal: 12.8s\tremaining: 12.6s\n",
      "503:\tlearn: 0.4044923\ttotal: 12.8s\tremaining: 12.6s\n",
      "504:\tlearn: 0.4044817\ttotal: 12.8s\tremaining: 12.5s\n",
      "505:\tlearn: 0.4044572\ttotal: 12.8s\tremaining: 12.5s\n",
      "506:\tlearn: 0.4044491\ttotal: 12.8s\tremaining: 12.5s\n",
      "507:\tlearn: 0.4044272\ttotal: 12.9s\tremaining: 12.4s\n",
      "508:\tlearn: 0.4044129\ttotal: 12.9s\tremaining: 12.4s\n",
      "509:\tlearn: 0.4044060\ttotal: 12.9s\tremaining: 12.4s\n",
      "510:\tlearn: 0.4043857\ttotal: 12.9s\tremaining: 12.4s\n",
      "511:\tlearn: 0.4043747\ttotal: 12.9s\tremaining: 12.3s\n",
      "512:\tlearn: 0.4043494\ttotal: 13s\tremaining: 12.3s\n",
      "513:\tlearn: 0.4043340\ttotal: 13s\tremaining: 12.3s\n",
      "514:\tlearn: 0.4043212\ttotal: 13s\tremaining: 12.3s\n",
      "515:\tlearn: 0.4043034\ttotal: 13s\tremaining: 12.2s\n",
      "516:\tlearn: 0.4042898\ttotal: 13s\tremaining: 12.2s\n",
      "517:\tlearn: 0.4042797\ttotal: 13.1s\tremaining: 12.1s\n",
      "518:\tlearn: 0.4042577\ttotal: 13.1s\tremaining: 12.1s\n",
      "519:\tlearn: 0.4042407\ttotal: 13.1s\tremaining: 12.1s\n",
      "520:\tlearn: 0.4042258\ttotal: 13.1s\tremaining: 12s\n",
      "521:\tlearn: 0.4042064\ttotal: 13.1s\tremaining: 12s\n",
      "522:\tlearn: 0.4041868\ttotal: 13.1s\tremaining: 12s\n",
      "523:\tlearn: 0.4041704\ttotal: 13.2s\tremaining: 11.9s\n",
      "524:\tlearn: 0.4041571\ttotal: 13.2s\tremaining: 11.9s\n",
      "525:\tlearn: 0.4041440\ttotal: 13.2s\tremaining: 11.9s\n",
      "526:\tlearn: 0.4041270\ttotal: 13.2s\tremaining: 11.8s\n",
      "527:\tlearn: 0.4041180\ttotal: 13.2s\tremaining: 11.8s\n",
      "528:\tlearn: 0.4041051\ttotal: 13.2s\tremaining: 11.8s\n",
      "529:\tlearn: 0.4040874\ttotal: 13.2s\tremaining: 11.7s\n",
      "530:\tlearn: 0.4040671\ttotal: 13.3s\tremaining: 11.7s\n",
      "531:\tlearn: 0.4040542\ttotal: 13.3s\tremaining: 11.7s\n",
      "532:\tlearn: 0.4040409\ttotal: 13.3s\tremaining: 11.6s\n",
      "533:\tlearn: 0.4040318\ttotal: 13.3s\tremaining: 11.6s\n",
      "534:\tlearn: 0.4040198\ttotal: 13.3s\tremaining: 11.6s\n",
      "535:\tlearn: 0.4040052\ttotal: 13.3s\tremaining: 11.5s\n",
      "536:\tlearn: 0.4039944\ttotal: 13.3s\tremaining: 11.5s\n",
      "537:\tlearn: 0.4039873\ttotal: 13.4s\tremaining: 11.5s\n",
      "538:\tlearn: 0.4039751\ttotal: 13.4s\tremaining: 11.4s\n",
      "539:\tlearn: 0.4039579\ttotal: 13.4s\tremaining: 11.4s\n",
      "540:\tlearn: 0.4039374\ttotal: 13.4s\tremaining: 11.4s\n",
      "541:\tlearn: 0.4039252\ttotal: 13.4s\tremaining: 11.3s\n",
      "542:\tlearn: 0.4039137\ttotal: 13.4s\tremaining: 11.3s\n",
      "543:\tlearn: 0.4039045\ttotal: 13.5s\tremaining: 11.3s\n",
      "544:\tlearn: 0.4038940\ttotal: 13.5s\tremaining: 11.2s\n",
      "545:\tlearn: 0.4038796\ttotal: 13.5s\tremaining: 11.2s\n",
      "546:\tlearn: 0.4038630\ttotal: 13.5s\tremaining: 11.2s\n",
      "547:\tlearn: 0.4038492\ttotal: 13.5s\tremaining: 11.1s\n",
      "548:\tlearn: 0.4038371\ttotal: 13.5s\tremaining: 11.1s\n",
      "549:\tlearn: 0.4038214\ttotal: 13.6s\tremaining: 11.1s\n",
      "550:\tlearn: 0.4038136\ttotal: 13.6s\tremaining: 11.1s\n",
      "551:\tlearn: 0.4037945\ttotal: 13.6s\tremaining: 11s\n",
      "552:\tlearn: 0.4037865\ttotal: 13.6s\tremaining: 11s\n",
      "553:\tlearn: 0.4037656\ttotal: 13.6s\tremaining: 11s\n",
      "554:\tlearn: 0.4037503\ttotal: 13.6s\tremaining: 10.9s\n",
      "555:\tlearn: 0.4037309\ttotal: 13.7s\tremaining: 10.9s\n",
      "556:\tlearn: 0.4037252\ttotal: 13.7s\tremaining: 10.9s\n",
      "557:\tlearn: 0.4037174\ttotal: 13.7s\tremaining: 10.8s\n",
      "558:\tlearn: 0.4036995\ttotal: 13.7s\tremaining: 10.8s\n",
      "559:\tlearn: 0.4036824\ttotal: 13.7s\tremaining: 10.8s\n",
      "560:\tlearn: 0.4036706\ttotal: 13.7s\tremaining: 10.8s\n",
      "561:\tlearn: 0.4036561\ttotal: 13.8s\tremaining: 10.7s\n",
      "562:\tlearn: 0.4036301\ttotal: 13.8s\tremaining: 10.7s\n",
      "563:\tlearn: 0.4036197\ttotal: 13.8s\tremaining: 10.7s\n",
      "564:\tlearn: 0.4036074\ttotal: 13.8s\tremaining: 10.6s\n",
      "565:\tlearn: 0.4035968\ttotal: 13.8s\tremaining: 10.6s\n",
      "566:\tlearn: 0.4035793\ttotal: 13.8s\tremaining: 10.6s\n",
      "567:\tlearn: 0.4035707\ttotal: 13.9s\tremaining: 10.5s\n",
      "568:\tlearn: 0.4035547\ttotal: 13.9s\tremaining: 10.5s\n",
      "569:\tlearn: 0.4035399\ttotal: 13.9s\tremaining: 10.5s\n",
      "570:\tlearn: 0.4035242\ttotal: 13.9s\tremaining: 10.4s\n",
      "571:\tlearn: 0.4035151\ttotal: 13.9s\tremaining: 10.4s\n",
      "572:\tlearn: 0.4035060\ttotal: 13.9s\tremaining: 10.4s\n",
      "573:\tlearn: 0.4034938\ttotal: 13.9s\tremaining: 10.3s\n",
      "574:\tlearn: 0.4034812\ttotal: 14s\tremaining: 10.3s\n",
      "575:\tlearn: 0.4034683\ttotal: 14s\tremaining: 10.3s\n",
      "576:\tlearn: 0.4034544\ttotal: 14s\tremaining: 10.3s\n",
      "577:\tlearn: 0.4034420\ttotal: 14s\tremaining: 10.3s\n",
      "578:\tlearn: 0.4034385\ttotal: 14.1s\tremaining: 10.2s\n",
      "579:\tlearn: 0.4034188\ttotal: 14.1s\tremaining: 10.2s\n",
      "580:\tlearn: 0.4033919\ttotal: 14.1s\tremaining: 10.2s\n",
      "581:\tlearn: 0.4033772\ttotal: 14.1s\tremaining: 10.1s\n",
      "582:\tlearn: 0.4033628\ttotal: 14.1s\tremaining: 10.1s\n",
      "583:\tlearn: 0.4033381\ttotal: 14.2s\tremaining: 10.1s\n",
      "584:\tlearn: 0.4033295\ttotal: 14.2s\tremaining: 10.1s\n",
      "585:\tlearn: 0.4033235\ttotal: 14.2s\tremaining: 10s\n",
      "586:\tlearn: 0.4033082\ttotal: 14.2s\tremaining: 10s\n",
      "587:\tlearn: 0.4032929\ttotal: 14.2s\tremaining: 9.98s\n",
      "588:\tlearn: 0.4032836\ttotal: 14.3s\tremaining: 9.95s\n",
      "589:\tlearn: 0.4032613\ttotal: 14.3s\tremaining: 9.92s\n",
      "590:\tlearn: 0.4032421\ttotal: 14.3s\tremaining: 9.89s\n",
      "591:\tlearn: 0.4032234\ttotal: 14.3s\tremaining: 9.86s\n",
      "592:\tlearn: 0.4032061\ttotal: 14.3s\tremaining: 9.84s\n",
      "593:\tlearn: 0.4031968\ttotal: 14.3s\tremaining: 9.81s\n",
      "594:\tlearn: 0.4031894\ttotal: 14.4s\tremaining: 9.78s\n",
      "595:\tlearn: 0.4031815\ttotal: 14.4s\tremaining: 9.75s\n",
      "596:\tlearn: 0.4031627\ttotal: 14.4s\tremaining: 9.72s\n",
      "597:\tlearn: 0.4031501\ttotal: 14.4s\tremaining: 9.7s\n",
      "598:\tlearn: 0.4031401\ttotal: 14.4s\tremaining: 9.67s\n",
      "599:\tlearn: 0.4031210\ttotal: 14.5s\tremaining: 9.64s\n",
      "600:\tlearn: 0.4031073\ttotal: 14.5s\tremaining: 9.61s\n",
      "601:\tlearn: 0.4031008\ttotal: 14.5s\tremaining: 9.59s\n",
      "602:\tlearn: 0.4030871\ttotal: 14.5s\tremaining: 9.56s\n",
      "603:\tlearn: 0.4030775\ttotal: 14.5s\tremaining: 9.54s\n",
      "604:\tlearn: 0.4030631\ttotal: 14.6s\tremaining: 9.51s\n",
      "605:\tlearn: 0.4030442\ttotal: 14.6s\tremaining: 9.48s\n",
      "606:\tlearn: 0.4030337\ttotal: 14.6s\tremaining: 9.46s\n",
      "607:\tlearn: 0.4030218\ttotal: 14.6s\tremaining: 9.43s\n",
      "608:\tlearn: 0.4030142\ttotal: 14.6s\tremaining: 9.4s\n",
      "609:\tlearn: 0.4030074\ttotal: 14.7s\tremaining: 9.37s\n",
      "610:\tlearn: 0.4029965\ttotal: 14.7s\tremaining: 9.34s\n",
      "611:\tlearn: 0.4029842\ttotal: 14.7s\tremaining: 9.31s\n",
      "612:\tlearn: 0.4029702\ttotal: 14.7s\tremaining: 9.28s\n",
      "613:\tlearn: 0.4029538\ttotal: 14.7s\tremaining: 9.26s\n",
      "614:\tlearn: 0.4029462\ttotal: 14.8s\tremaining: 9.28s\n",
      "615:\tlearn: 0.4029326\ttotal: 14.9s\tremaining: 9.26s\n",
      "616:\tlearn: 0.4028984\ttotal: 15s\tremaining: 9.28s\n",
      "617:\tlearn: 0.4028860\ttotal: 15.1s\tremaining: 9.31s\n",
      "618:\tlearn: 0.4028736\ttotal: 15.1s\tremaining: 9.3s\n",
      "619:\tlearn: 0.4028606\ttotal: 15.1s\tremaining: 9.27s\n",
      "620:\tlearn: 0.4028545\ttotal: 15.1s\tremaining: 9.24s\n",
      "621:\tlearn: 0.4028406\ttotal: 15.2s\tremaining: 9.22s\n",
      "622:\tlearn: 0.4028303\ttotal: 15.2s\tremaining: 9.19s\n",
      "623:\tlearn: 0.4028197\ttotal: 15.2s\tremaining: 9.17s\n",
      "624:\tlearn: 0.4027951\ttotal: 15.2s\tremaining: 9.15s\n",
      "625:\tlearn: 0.4027823\ttotal: 15.3s\tremaining: 9.14s\n",
      "626:\tlearn: 0.4027736\ttotal: 15.3s\tremaining: 9.13s\n",
      "627:\tlearn: 0.4027546\ttotal: 15.4s\tremaining: 9.12s\n",
      "628:\tlearn: 0.4027443\ttotal: 15.4s\tremaining: 9.11s\n",
      "629:\tlearn: 0.4027317\ttotal: 15.5s\tremaining: 9.1s\n",
      "630:\tlearn: 0.4027190\ttotal: 15.6s\tremaining: 9.09s\n",
      "631:\tlearn: 0.4027036\ttotal: 15.6s\tremaining: 9.09s\n",
      "632:\tlearn: 0.4026861\ttotal: 15.7s\tremaining: 9.09s\n",
      "633:\tlearn: 0.4026719\ttotal: 15.7s\tremaining: 9.08s\n",
      "634:\tlearn: 0.4026598\ttotal: 15.8s\tremaining: 9.06s\n",
      "635:\tlearn: 0.4026507\ttotal: 15.8s\tremaining: 9.06s\n",
      "636:\tlearn: 0.4026366\ttotal: 15.9s\tremaining: 9.05s\n",
      "637:\tlearn: 0.4026185\ttotal: 15.9s\tremaining: 9.03s\n",
      "638:\tlearn: 0.4025998\ttotal: 15.9s\tremaining: 9.01s\n",
      "639:\tlearn: 0.4025681\ttotal: 16s\tremaining: 8.98s\n",
      "640:\tlearn: 0.4025588\ttotal: 16s\tremaining: 8.96s\n",
      "641:\tlearn: 0.4025350\ttotal: 16s\tremaining: 8.93s\n",
      "642:\tlearn: 0.4025239\ttotal: 16s\tremaining: 8.9s\n",
      "643:\tlearn: 0.4025019\ttotal: 16.1s\tremaining: 8.88s\n",
      "644:\tlearn: 0.4024897\ttotal: 16.1s\tremaining: 8.85s\n",
      "645:\tlearn: 0.4024763\ttotal: 16.2s\tremaining: 8.86s\n",
      "646:\tlearn: 0.4024699\ttotal: 16.3s\tremaining: 8.88s\n",
      "647:\tlearn: 0.4024606\ttotal: 16.3s\tremaining: 8.85s\n",
      "648:\tlearn: 0.4024457\ttotal: 16.3s\tremaining: 8.83s\n",
      "649:\tlearn: 0.4024310\ttotal: 16.4s\tremaining: 8.8s\n"
     ]
    },
    {
     "name": "stdout",
     "output_type": "stream",
     "text": [
      "650:\tlearn: 0.4024210\ttotal: 16.4s\tremaining: 8.78s\n",
      "651:\tlearn: 0.4024083\ttotal: 16.4s\tremaining: 8.75s\n",
      "652:\tlearn: 0.4023960\ttotal: 16.4s\tremaining: 8.72s\n",
      "653:\tlearn: 0.4023852\ttotal: 16.4s\tremaining: 8.7s\n",
      "654:\tlearn: 0.4023701\ttotal: 16.5s\tremaining: 8.68s\n",
      "655:\tlearn: 0.4023576\ttotal: 16.5s\tremaining: 8.65s\n",
      "656:\tlearn: 0.4023441\ttotal: 16.5s\tremaining: 8.62s\n",
      "657:\tlearn: 0.4023284\ttotal: 16.5s\tremaining: 8.6s\n",
      "658:\tlearn: 0.4023103\ttotal: 16.6s\tremaining: 8.57s\n",
      "659:\tlearn: 0.4022983\ttotal: 16.6s\tremaining: 8.54s\n",
      "660:\tlearn: 0.4022845\ttotal: 16.6s\tremaining: 8.51s\n",
      "661:\tlearn: 0.4022707\ttotal: 16.6s\tremaining: 8.49s\n",
      "662:\tlearn: 0.4022611\ttotal: 16.7s\tremaining: 8.46s\n",
      "663:\tlearn: 0.4022462\ttotal: 16.7s\tremaining: 8.44s\n",
      "664:\tlearn: 0.4022294\ttotal: 16.7s\tremaining: 8.42s\n",
      "665:\tlearn: 0.4022132\ttotal: 16.7s\tremaining: 8.4s\n",
      "666:\tlearn: 0.4021985\ttotal: 16.8s\tremaining: 8.37s\n",
      "667:\tlearn: 0.4021887\ttotal: 16.8s\tremaining: 8.34s\n",
      "668:\tlearn: 0.4021733\ttotal: 16.8s\tremaining: 8.31s\n",
      "669:\tlearn: 0.4021622\ttotal: 16.8s\tremaining: 8.29s\n",
      "670:\tlearn: 0.4021525\ttotal: 16.8s\tremaining: 8.26s\n",
      "671:\tlearn: 0.4021412\ttotal: 16.9s\tremaining: 8.23s\n",
      "672:\tlearn: 0.4021297\ttotal: 16.9s\tremaining: 8.2s\n",
      "673:\tlearn: 0.4021112\ttotal: 16.9s\tremaining: 8.17s\n",
      "674:\tlearn: 0.4021033\ttotal: 16.9s\tremaining: 8.15s\n",
      "675:\tlearn: 0.4020948\ttotal: 16.9s\tremaining: 8.12s\n",
      "676:\tlearn: 0.4020701\ttotal: 17s\tremaining: 8.09s\n",
      "677:\tlearn: 0.4020556\ttotal: 17s\tremaining: 8.06s\n",
      "678:\tlearn: 0.4020404\ttotal: 17s\tremaining: 8.04s\n",
      "679:\tlearn: 0.4020316\ttotal: 17s\tremaining: 8.01s\n",
      "680:\tlearn: 0.4020192\ttotal: 17s\tremaining: 7.97s\n",
      "681:\tlearn: 0.4020093\ttotal: 17s\tremaining: 7.95s\n",
      "682:\tlearn: 0.4019896\ttotal: 17.1s\tremaining: 7.92s\n",
      "683:\tlearn: 0.4019785\ttotal: 17.1s\tremaining: 7.89s\n",
      "684:\tlearn: 0.4019597\ttotal: 17.1s\tremaining: 7.86s\n",
      "685:\tlearn: 0.4019437\ttotal: 17.1s\tremaining: 7.83s\n",
      "686:\tlearn: 0.4019333\ttotal: 17.1s\tremaining: 7.8s\n",
      "687:\tlearn: 0.4019240\ttotal: 17.1s\tremaining: 7.77s\n",
      "688:\tlearn: 0.4019090\ttotal: 17.1s\tremaining: 7.74s\n",
      "689:\tlearn: 0.4019010\ttotal: 17.2s\tremaining: 7.71s\n",
      "690:\tlearn: 0.4018872\ttotal: 17.2s\tremaining: 7.68s\n",
      "691:\tlearn: 0.4018792\ttotal: 17.2s\tremaining: 7.66s\n",
      "692:\tlearn: 0.4018651\ttotal: 17.2s\tremaining: 7.63s\n",
      "693:\tlearn: 0.4018510\ttotal: 17.2s\tremaining: 7.6s\n",
      "694:\tlearn: 0.4018410\ttotal: 17.3s\tremaining: 7.57s\n",
      "695:\tlearn: 0.4018233\ttotal: 17.3s\tremaining: 7.54s\n",
      "696:\tlearn: 0.4018088\ttotal: 17.3s\tremaining: 7.52s\n",
      "697:\tlearn: 0.4017962\ttotal: 17.3s\tremaining: 7.49s\n",
      "698:\tlearn: 0.4017802\ttotal: 17.3s\tremaining: 7.46s\n",
      "699:\tlearn: 0.4017762\ttotal: 17.3s\tremaining: 7.43s\n",
      "700:\tlearn: 0.4017617\ttotal: 17.4s\tremaining: 7.4s\n",
      "701:\tlearn: 0.4017454\ttotal: 17.4s\tremaining: 7.38s\n",
      "702:\tlearn: 0.4017328\ttotal: 17.4s\tremaining: 7.35s\n",
      "703:\tlearn: 0.4017225\ttotal: 17.4s\tremaining: 7.32s\n",
      "704:\tlearn: 0.4017154\ttotal: 17.4s\tremaining: 7.29s\n",
      "705:\tlearn: 0.4016980\ttotal: 17.4s\tremaining: 7.26s\n",
      "706:\tlearn: 0.4016852\ttotal: 17.5s\tremaining: 7.24s\n",
      "707:\tlearn: 0.4016740\ttotal: 17.5s\tremaining: 7.21s\n",
      "708:\tlearn: 0.4016702\ttotal: 17.5s\tremaining: 7.18s\n",
      "709:\tlearn: 0.4016513\ttotal: 17.5s\tremaining: 7.15s\n",
      "710:\tlearn: 0.4016391\ttotal: 17.5s\tremaining: 7.12s\n",
      "711:\tlearn: 0.4016312\ttotal: 17.5s\tremaining: 7.09s\n",
      "712:\tlearn: 0.4016163\ttotal: 17.6s\tremaining: 7.07s\n",
      "713:\tlearn: 0.4015969\ttotal: 17.6s\tremaining: 7.04s\n",
      "714:\tlearn: 0.4015839\ttotal: 17.7s\tremaining: 7.05s\n",
      "715:\tlearn: 0.4015768\ttotal: 17.8s\tremaining: 7.04s\n",
      "716:\tlearn: 0.4015633\ttotal: 17.8s\tremaining: 7.02s\n",
      "717:\tlearn: 0.4015557\ttotal: 17.8s\tremaining: 7s\n",
      "718:\tlearn: 0.4015474\ttotal: 17.8s\tremaining: 6.97s\n",
      "719:\tlearn: 0.4015387\ttotal: 17.9s\tremaining: 6.95s\n",
      "720:\tlearn: 0.4015272\ttotal: 17.9s\tremaining: 6.92s\n",
      "721:\tlearn: 0.4015114\ttotal: 17.9s\tremaining: 6.89s\n",
      "722:\tlearn: 0.4015041\ttotal: 17.9s\tremaining: 6.87s\n",
      "723:\tlearn: 0.4014948\ttotal: 17.9s\tremaining: 6.84s\n",
      "724:\tlearn: 0.4014842\ttotal: 18s\tremaining: 6.82s\n",
      "725:\tlearn: 0.4014777\ttotal: 18s\tremaining: 6.79s\n",
      "726:\tlearn: 0.4014668\ttotal: 18s\tremaining: 6.76s\n",
      "727:\tlearn: 0.4014587\ttotal: 18s\tremaining: 6.74s\n",
      "728:\tlearn: 0.4014449\ttotal: 18s\tremaining: 6.71s\n",
      "729:\tlearn: 0.4014366\ttotal: 18.1s\tremaining: 6.68s\n",
      "730:\tlearn: 0.4014210\ttotal: 18.1s\tremaining: 6.66s\n",
      "731:\tlearn: 0.4013956\ttotal: 18.1s\tremaining: 6.63s\n",
      "732:\tlearn: 0.4013858\ttotal: 18.1s\tremaining: 6.6s\n",
      "733:\tlearn: 0.4013776\ttotal: 18.2s\tremaining: 6.58s\n",
      "734:\tlearn: 0.4013709\ttotal: 18.2s\tremaining: 6.55s\n",
      "735:\tlearn: 0.4013629\ttotal: 18.2s\tremaining: 6.53s\n",
      "736:\tlearn: 0.4013478\ttotal: 18.2s\tremaining: 6.5s\n",
      "737:\tlearn: 0.4013412\ttotal: 18.2s\tremaining: 6.47s\n",
      "738:\tlearn: 0.4013286\ttotal: 18.3s\tremaining: 6.45s\n",
      "739:\tlearn: 0.4013125\ttotal: 18.3s\tremaining: 6.43s\n",
      "740:\tlearn: 0.4013015\ttotal: 18.3s\tremaining: 6.4s\n",
      "741:\tlearn: 0.4012923\ttotal: 18.3s\tremaining: 6.38s\n",
      "742:\tlearn: 0.4012824\ttotal: 18.4s\tremaining: 6.35s\n",
      "743:\tlearn: 0.4012700\ttotal: 18.4s\tremaining: 6.33s\n",
      "744:\tlearn: 0.4012582\ttotal: 18.4s\tremaining: 6.3s\n",
      "745:\tlearn: 0.4012499\ttotal: 18.4s\tremaining: 6.28s\n",
      "746:\tlearn: 0.4012403\ttotal: 18.5s\tremaining: 6.25s\n",
      "747:\tlearn: 0.4012274\ttotal: 18.5s\tremaining: 6.22s\n",
      "748:\tlearn: 0.4012209\ttotal: 18.5s\tremaining: 6.2s\n",
      "749:\tlearn: 0.4012041\ttotal: 18.5s\tremaining: 6.17s\n",
      "750:\tlearn: 0.4012005\ttotal: 18.5s\tremaining: 6.14s\n",
      "751:\tlearn: 0.4011760\ttotal: 18.6s\tremaining: 6.12s\n",
      "752:\tlearn: 0.4011676\ttotal: 18.6s\tremaining: 6.09s\n",
      "753:\tlearn: 0.4011553\ttotal: 18.6s\tremaining: 6.06s\n",
      "754:\tlearn: 0.4011382\ttotal: 18.6s\tremaining: 6.04s\n",
      "755:\tlearn: 0.4011327\ttotal: 18.6s\tremaining: 6.01s\n",
      "756:\tlearn: 0.4011184\ttotal: 18.6s\tremaining: 5.98s\n",
      "757:\tlearn: 0.4011136\ttotal: 18.7s\tremaining: 5.96s\n",
      "758:\tlearn: 0.4011050\ttotal: 18.7s\tremaining: 5.93s\n",
      "759:\tlearn: 0.4010956\ttotal: 18.7s\tremaining: 5.9s\n",
      "760:\tlearn: 0.4010724\ttotal: 18.7s\tremaining: 5.87s\n",
      "761:\tlearn: 0.4010539\ttotal: 18.7s\tremaining: 5.85s\n",
      "762:\tlearn: 0.4010419\ttotal: 18.7s\tremaining: 5.82s\n",
      "763:\tlearn: 0.4010292\ttotal: 18.8s\tremaining: 5.79s\n",
      "764:\tlearn: 0.4010137\ttotal: 18.8s\tremaining: 5.77s\n",
      "765:\tlearn: 0.4010026\ttotal: 18.8s\tremaining: 5.74s\n",
      "766:\tlearn: 0.4009920\ttotal: 18.8s\tremaining: 5.72s\n",
      "767:\tlearn: 0.4009854\ttotal: 18.8s\tremaining: 5.69s\n",
      "768:\tlearn: 0.4009821\ttotal: 18.9s\tremaining: 5.66s\n",
      "769:\tlearn: 0.4009586\ttotal: 18.9s\tremaining: 5.64s\n",
      "770:\tlearn: 0.4009450\ttotal: 18.9s\tremaining: 5.61s\n",
      "771:\tlearn: 0.4009420\ttotal: 18.9s\tremaining: 5.58s\n",
      "772:\tlearn: 0.4009345\ttotal: 18.9s\tremaining: 5.56s\n",
      "773:\tlearn: 0.4009248\ttotal: 19s\tremaining: 5.54s\n",
      "774:\tlearn: 0.4009154\ttotal: 19s\tremaining: 5.51s\n",
      "775:\tlearn: 0.4008986\ttotal: 19s\tremaining: 5.48s\n",
      "776:\tlearn: 0.4008754\ttotal: 19s\tremaining: 5.46s\n",
      "777:\tlearn: 0.4008629\ttotal: 19s\tremaining: 5.43s\n",
      "778:\tlearn: 0.4008539\ttotal: 19.1s\tremaining: 5.41s\n",
      "779:\tlearn: 0.4008459\ttotal: 19.1s\tremaining: 5.38s\n",
      "780:\tlearn: 0.4008350\ttotal: 19.1s\tremaining: 5.35s\n",
      "781:\tlearn: 0.4008231\ttotal: 19.1s\tremaining: 5.33s\n",
      "782:\tlearn: 0.4008177\ttotal: 19.1s\tremaining: 5.31s\n",
      "783:\tlearn: 0.4008146\ttotal: 19.2s\tremaining: 5.28s\n",
      "784:\tlearn: 0.4008015\ttotal: 19.2s\tremaining: 5.25s\n",
      "785:\tlearn: 0.4007833\ttotal: 19.2s\tremaining: 5.23s\n",
      "786:\tlearn: 0.4007706\ttotal: 19.2s\tremaining: 5.2s\n",
      "787:\tlearn: 0.4007560\ttotal: 19.2s\tremaining: 5.18s\n",
      "788:\tlearn: 0.4007460\ttotal: 19.3s\tremaining: 5.15s\n",
      "789:\tlearn: 0.4007308\ttotal: 19.3s\tremaining: 5.12s\n",
      "790:\tlearn: 0.4007258\ttotal: 19.3s\tremaining: 5.1s\n",
      "791:\tlearn: 0.4007171\ttotal: 19.4s\tremaining: 5.08s\n",
      "792:\tlearn: 0.4006906\ttotal: 19.4s\tremaining: 5.06s\n",
      "793:\tlearn: 0.4006788\ttotal: 19.4s\tremaining: 5.03s\n",
      "794:\tlearn: 0.4006678\ttotal: 19.4s\tremaining: 5s\n",
      "795:\tlearn: 0.4006515\ttotal: 19.4s\tremaining: 4.98s\n",
      "796:\tlearn: 0.4006415\ttotal: 19.5s\tremaining: 4.95s\n",
      "797:\tlearn: 0.4006303\ttotal: 19.5s\tremaining: 4.93s\n",
      "798:\tlearn: 0.4006205\ttotal: 19.5s\tremaining: 4.9s\n",
      "799:\tlearn: 0.4006101\ttotal: 19.5s\tremaining: 4.88s\n",
      "800:\tlearn: 0.4006027\ttotal: 19.5s\tremaining: 4.85s\n",
      "801:\tlearn: 0.4005911\ttotal: 19.5s\tremaining: 4.82s\n",
      "802:\tlearn: 0.4005882\ttotal: 19.6s\tremaining: 4.8s\n",
      "803:\tlearn: 0.4005787\ttotal: 19.6s\tremaining: 4.77s\n",
      "804:\tlearn: 0.4005627\ttotal: 19.6s\tremaining: 4.75s\n",
      "805:\tlearn: 0.4005545\ttotal: 19.6s\tremaining: 4.72s\n",
      "806:\tlearn: 0.4005479\ttotal: 19.6s\tremaining: 4.69s\n",
      "807:\tlearn: 0.4005418\ttotal: 19.6s\tremaining: 4.66s\n",
      "808:\tlearn: 0.4005272\ttotal: 19.6s\tremaining: 4.64s\n",
      "809:\tlearn: 0.4005129\ttotal: 19.7s\tremaining: 4.61s\n",
      "810:\tlearn: 0.4004963\ttotal: 19.7s\tremaining: 4.58s\n",
      "811:\tlearn: 0.4004854\ttotal: 19.7s\tremaining: 4.56s\n",
      "812:\tlearn: 0.4004728\ttotal: 19.7s\tremaining: 4.53s\n",
      "813:\tlearn: 0.4004570\ttotal: 19.7s\tremaining: 4.5s\n",
      "814:\tlearn: 0.4004431\ttotal: 19.7s\tremaining: 4.48s\n",
      "815:\tlearn: 0.4004285\ttotal: 19.7s\tremaining: 4.45s\n",
      "816:\tlearn: 0.4004203\ttotal: 19.8s\tremaining: 4.42s\n"
     ]
    },
    {
     "name": "stdout",
     "output_type": "stream",
     "text": [
      "817:\tlearn: 0.4004144\ttotal: 19.8s\tremaining: 4.4s\n",
      "818:\tlearn: 0.4004072\ttotal: 19.8s\tremaining: 4.37s\n",
      "819:\tlearn: 0.4003896\ttotal: 19.8s\tremaining: 4.35s\n",
      "820:\tlearn: 0.4003823\ttotal: 19.8s\tremaining: 4.32s\n",
      "821:\tlearn: 0.4003696\ttotal: 19.8s\tremaining: 4.3s\n",
      "822:\tlearn: 0.4003538\ttotal: 19.9s\tremaining: 4.27s\n",
      "823:\tlearn: 0.4003428\ttotal: 19.9s\tremaining: 4.25s\n",
      "824:\tlearn: 0.4003319\ttotal: 19.9s\tremaining: 4.22s\n",
      "825:\tlearn: 0.4003200\ttotal: 19.9s\tremaining: 4.19s\n",
      "826:\tlearn: 0.4003057\ttotal: 19.9s\tremaining: 4.17s\n",
      "827:\tlearn: 0.4002906\ttotal: 19.9s\tremaining: 4.14s\n",
      "828:\tlearn: 0.4002761\ttotal: 20s\tremaining: 4.12s\n",
      "829:\tlearn: 0.4002695\ttotal: 20s\tremaining: 4.09s\n",
      "830:\tlearn: 0.4002578\ttotal: 20s\tremaining: 4.07s\n",
      "831:\tlearn: 0.4002483\ttotal: 20s\tremaining: 4.04s\n",
      "832:\tlearn: 0.4002358\ttotal: 20s\tremaining: 4.02s\n",
      "833:\tlearn: 0.4002222\ttotal: 20.1s\tremaining: 3.99s\n",
      "834:\tlearn: 0.4002035\ttotal: 20.1s\tremaining: 3.97s\n",
      "835:\tlearn: 0.4001894\ttotal: 20.1s\tremaining: 3.94s\n",
      "836:\tlearn: 0.4001804\ttotal: 20.1s\tremaining: 3.92s\n",
      "837:\tlearn: 0.4001684\ttotal: 20.1s\tremaining: 3.9s\n",
      "838:\tlearn: 0.4001494\ttotal: 20.2s\tremaining: 3.87s\n",
      "839:\tlearn: 0.4001419\ttotal: 20.2s\tremaining: 3.85s\n",
      "840:\tlearn: 0.4001177\ttotal: 20.2s\tremaining: 3.82s\n",
      "841:\tlearn: 0.4001002\ttotal: 20.2s\tremaining: 3.8s\n",
      "842:\tlearn: 0.4000922\ttotal: 20.3s\tremaining: 3.77s\n",
      "843:\tlearn: 0.4000819\ttotal: 20.4s\tremaining: 3.77s\n",
      "844:\tlearn: 0.4000695\ttotal: 20.4s\tremaining: 3.75s\n",
      "845:\tlearn: 0.4000584\ttotal: 20.5s\tremaining: 3.73s\n",
      "846:\tlearn: 0.4000496\ttotal: 20.5s\tremaining: 3.7s\n",
      "847:\tlearn: 0.4000331\ttotal: 20.5s\tremaining: 3.68s\n",
      "848:\tlearn: 0.4000203\ttotal: 20.6s\tremaining: 3.66s\n",
      "849:\tlearn: 0.3999910\ttotal: 20.6s\tremaining: 3.64s\n",
      "850:\tlearn: 0.3999848\ttotal: 20.6s\tremaining: 3.61s\n",
      "851:\tlearn: 0.3999810\ttotal: 20.7s\tremaining: 3.59s\n",
      "852:\tlearn: 0.3999762\ttotal: 20.7s\tremaining: 3.57s\n",
      "853:\tlearn: 0.3999625\ttotal: 20.7s\tremaining: 3.54s\n",
      "854:\tlearn: 0.3999517\ttotal: 20.8s\tremaining: 3.52s\n",
      "855:\tlearn: 0.3999472\ttotal: 20.9s\tremaining: 3.51s\n",
      "856:\tlearn: 0.3999358\ttotal: 20.9s\tremaining: 3.49s\n",
      "857:\tlearn: 0.3999194\ttotal: 21s\tremaining: 3.48s\n",
      "858:\tlearn: 0.3999041\ttotal: 21.1s\tremaining: 3.46s\n",
      "859:\tlearn: 0.3998901\ttotal: 21.2s\tremaining: 3.44s\n",
      "860:\tlearn: 0.3998815\ttotal: 21.2s\tremaining: 3.42s\n",
      "861:\tlearn: 0.3998633\ttotal: 21.3s\tremaining: 3.4s\n",
      "862:\tlearn: 0.3998540\ttotal: 21.3s\tremaining: 3.39s\n",
      "863:\tlearn: 0.3998395\ttotal: 21.4s\tremaining: 3.37s\n",
      "864:\tlearn: 0.3998264\ttotal: 21.5s\tremaining: 3.35s\n",
      "865:\tlearn: 0.3998167\ttotal: 21.6s\tremaining: 3.34s\n",
      "866:\tlearn: 0.3998025\ttotal: 21.7s\tremaining: 3.32s\n",
      "867:\tlearn: 0.3997912\ttotal: 21.7s\tremaining: 3.3s\n",
      "868:\tlearn: 0.3997787\ttotal: 21.8s\tremaining: 3.28s\n",
      "869:\tlearn: 0.3997743\ttotal: 21.8s\tremaining: 3.26s\n",
      "870:\tlearn: 0.3997656\ttotal: 21.8s\tremaining: 3.23s\n",
      "871:\tlearn: 0.3997523\ttotal: 21.9s\tremaining: 3.21s\n",
      "872:\tlearn: 0.3997414\ttotal: 22s\tremaining: 3.2s\n",
      "873:\tlearn: 0.3997285\ttotal: 22s\tremaining: 3.18s\n",
      "874:\tlearn: 0.3997125\ttotal: 22.1s\tremaining: 3.15s\n",
      "875:\tlearn: 0.3997039\ttotal: 22.1s\tremaining: 3.13s\n",
      "876:\tlearn: 0.3996981\ttotal: 22.1s\tremaining: 3.1s\n",
      "877:\tlearn: 0.3996902\ttotal: 22.1s\tremaining: 3.08s\n",
      "878:\tlearn: 0.3996795\ttotal: 22.2s\tremaining: 3.05s\n",
      "879:\tlearn: 0.3996730\ttotal: 22.2s\tremaining: 3.02s\n",
      "880:\tlearn: 0.3996630\ttotal: 22.2s\tremaining: 3s\n",
      "881:\tlearn: 0.3996507\ttotal: 22.2s\tremaining: 2.97s\n",
      "882:\tlearn: 0.3996482\ttotal: 22.2s\tremaining: 2.94s\n",
      "883:\tlearn: 0.3996358\ttotal: 22.2s\tremaining: 2.92s\n",
      "884:\tlearn: 0.3996270\ttotal: 22.3s\tremaining: 2.89s\n",
      "885:\tlearn: 0.3996058\ttotal: 22.3s\tremaining: 2.87s\n",
      "886:\tlearn: 0.3995944\ttotal: 22.3s\tremaining: 2.84s\n",
      "887:\tlearn: 0.3995850\ttotal: 22.3s\tremaining: 2.81s\n",
      "888:\tlearn: 0.3995797\ttotal: 22.3s\tremaining: 2.79s\n",
      "889:\tlearn: 0.3995718\ttotal: 22.3s\tremaining: 2.76s\n",
      "890:\tlearn: 0.3995594\ttotal: 22.3s\tremaining: 2.73s\n",
      "891:\tlearn: 0.3995488\ttotal: 22.4s\tremaining: 2.71s\n",
      "892:\tlearn: 0.3995361\ttotal: 22.4s\tremaining: 2.68s\n",
      "893:\tlearn: 0.3995253\ttotal: 22.4s\tremaining: 2.65s\n",
      "894:\tlearn: 0.3995148\ttotal: 22.4s\tremaining: 2.63s\n",
      "895:\tlearn: 0.3995021\ttotal: 22.4s\tremaining: 2.6s\n",
      "896:\tlearn: 0.3994857\ttotal: 22.4s\tremaining: 2.58s\n",
      "897:\tlearn: 0.3994799\ttotal: 22.5s\tremaining: 2.55s\n",
      "898:\tlearn: 0.3994676\ttotal: 22.5s\tremaining: 2.53s\n",
      "899:\tlearn: 0.3994565\ttotal: 22.5s\tremaining: 2.5s\n",
      "900:\tlearn: 0.3994468\ttotal: 22.5s\tremaining: 2.47s\n",
      "901:\tlearn: 0.3994244\ttotal: 22.5s\tremaining: 2.45s\n",
      "902:\tlearn: 0.3994128\ttotal: 22.5s\tremaining: 2.42s\n",
      "903:\tlearn: 0.3994055\ttotal: 22.6s\tremaining: 2.4s\n",
      "904:\tlearn: 0.3993963\ttotal: 22.6s\tremaining: 2.37s\n",
      "905:\tlearn: 0.3993928\ttotal: 22.6s\tremaining: 2.34s\n",
      "906:\tlearn: 0.3993851\ttotal: 22.6s\tremaining: 2.32s\n",
      "907:\tlearn: 0.3993807\ttotal: 22.6s\tremaining: 2.29s\n",
      "908:\tlearn: 0.3993726\ttotal: 22.6s\tremaining: 2.27s\n",
      "909:\tlearn: 0.3993653\ttotal: 22.7s\tremaining: 2.24s\n",
      "910:\tlearn: 0.3993509\ttotal: 22.7s\tremaining: 2.22s\n",
      "911:\tlearn: 0.3993409\ttotal: 22.7s\tremaining: 2.19s\n",
      "912:\tlearn: 0.3993324\ttotal: 22.7s\tremaining: 2.17s\n",
      "913:\tlearn: 0.3993264\ttotal: 22.8s\tremaining: 2.14s\n",
      "914:\tlearn: 0.3993095\ttotal: 22.8s\tremaining: 2.12s\n",
      "915:\tlearn: 0.3992993\ttotal: 22.8s\tremaining: 2.09s\n",
      "916:\tlearn: 0.3992848\ttotal: 22.8s\tremaining: 2.06s\n",
      "917:\tlearn: 0.3992719\ttotal: 22.8s\tremaining: 2.04s\n",
      "918:\tlearn: 0.3992639\ttotal: 22.8s\tremaining: 2.01s\n",
      "919:\tlearn: 0.3992577\ttotal: 22.9s\tremaining: 1.99s\n",
      "920:\tlearn: 0.3992419\ttotal: 22.9s\tremaining: 1.96s\n",
      "921:\tlearn: 0.3992324\ttotal: 22.9s\tremaining: 1.94s\n",
      "922:\tlearn: 0.3992194\ttotal: 22.9s\tremaining: 1.91s\n",
      "923:\tlearn: 0.3992144\ttotal: 22.9s\tremaining: 1.88s\n",
      "924:\tlearn: 0.3992065\ttotal: 22.9s\tremaining: 1.86s\n",
      "925:\tlearn: 0.3992033\ttotal: 23s\tremaining: 1.83s\n",
      "926:\tlearn: 0.3991939\ttotal: 23s\tremaining: 1.81s\n",
      "927:\tlearn: 0.3991813\ttotal: 23s\tremaining: 1.78s\n",
      "928:\tlearn: 0.3991744\ttotal: 23s\tremaining: 1.76s\n",
      "929:\tlearn: 0.3991678\ttotal: 23s\tremaining: 1.73s\n",
      "930:\tlearn: 0.3991595\ttotal: 23s\tremaining: 1.71s\n",
      "931:\tlearn: 0.3991542\ttotal: 23.1s\tremaining: 1.68s\n",
      "932:\tlearn: 0.3991383\ttotal: 23.1s\tremaining: 1.66s\n",
      "933:\tlearn: 0.3991271\ttotal: 23.1s\tremaining: 1.63s\n",
      "934:\tlearn: 0.3991200\ttotal: 23.1s\tremaining: 1.61s\n",
      "935:\tlearn: 0.3991102\ttotal: 23.1s\tremaining: 1.58s\n",
      "936:\tlearn: 0.3991012\ttotal: 23.1s\tremaining: 1.55s\n",
      "937:\tlearn: 0.3990931\ttotal: 23.2s\tremaining: 1.53s\n",
      "938:\tlearn: 0.3990775\ttotal: 23.2s\tremaining: 1.5s\n",
      "939:\tlearn: 0.3990700\ttotal: 23.2s\tremaining: 1.48s\n",
      "940:\tlearn: 0.3990625\ttotal: 23.2s\tremaining: 1.46s\n",
      "941:\tlearn: 0.3990591\ttotal: 23.2s\tremaining: 1.43s\n",
      "942:\tlearn: 0.3990506\ttotal: 23.2s\tremaining: 1.41s\n",
      "943:\tlearn: 0.3990364\ttotal: 23.3s\tremaining: 1.38s\n",
      "944:\tlearn: 0.3990265\ttotal: 23.3s\tremaining: 1.36s\n",
      "945:\tlearn: 0.3990150\ttotal: 23.3s\tremaining: 1.33s\n",
      "946:\tlearn: 0.3990075\ttotal: 23.3s\tremaining: 1.31s\n",
      "947:\tlearn: 0.3989895\ttotal: 23.4s\tremaining: 1.28s\n",
      "948:\tlearn: 0.3989813\ttotal: 23.4s\tremaining: 1.26s\n",
      "949:\tlearn: 0.3989725\ttotal: 23.4s\tremaining: 1.23s\n",
      "950:\tlearn: 0.3989615\ttotal: 23.4s\tremaining: 1.21s\n",
      "951:\tlearn: 0.3989497\ttotal: 23.4s\tremaining: 1.18s\n",
      "952:\tlearn: 0.3989410\ttotal: 23.4s\tremaining: 1.16s\n",
      "953:\tlearn: 0.3989356\ttotal: 23.5s\tremaining: 1.13s\n",
      "954:\tlearn: 0.3989202\ttotal: 23.5s\tremaining: 1.11s\n",
      "955:\tlearn: 0.3989113\ttotal: 23.5s\tremaining: 1.08s\n",
      "956:\tlearn: 0.3989035\ttotal: 23.5s\tremaining: 1.06s\n",
      "957:\tlearn: 0.3988916\ttotal: 23.5s\tremaining: 1.03s\n",
      "958:\tlearn: 0.3988843\ttotal: 23.5s\tremaining: 1.01s\n",
      "959:\tlearn: 0.3988687\ttotal: 23.6s\tremaining: 982ms\n",
      "960:\tlearn: 0.3988574\ttotal: 23.6s\tremaining: 957ms\n",
      "961:\tlearn: 0.3988492\ttotal: 23.6s\tremaining: 932ms\n",
      "962:\tlearn: 0.3988316\ttotal: 23.6s\tremaining: 907ms\n",
      "963:\tlearn: 0.3988177\ttotal: 23.6s\tremaining: 882ms\n",
      "964:\tlearn: 0.3988100\ttotal: 23.7s\tremaining: 858ms\n",
      "965:\tlearn: 0.3988029\ttotal: 23.7s\tremaining: 833ms\n",
      "966:\tlearn: 0.3987931\ttotal: 23.7s\tremaining: 808ms\n",
      "967:\tlearn: 0.3987867\ttotal: 23.7s\tremaining: 784ms\n",
      "968:\tlearn: 0.3987801\ttotal: 23.7s\tremaining: 759ms\n",
      "969:\tlearn: 0.3987693\ttotal: 23.7s\tremaining: 734ms\n",
      "970:\tlearn: 0.3987584\ttotal: 23.8s\tremaining: 709ms\n",
      "971:\tlearn: 0.3987503\ttotal: 23.8s\tremaining: 685ms\n",
      "972:\tlearn: 0.3987367\ttotal: 23.8s\tremaining: 660ms\n",
      "973:\tlearn: 0.3986864\ttotal: 23.8s\tremaining: 636ms\n",
      "974:\tlearn: 0.3986757\ttotal: 23.8s\tremaining: 611ms\n",
      "975:\tlearn: 0.3986608\ttotal: 23.8s\tremaining: 586ms\n",
      "976:\tlearn: 0.3986545\ttotal: 23.9s\tremaining: 562ms\n",
      "977:\tlearn: 0.3986422\ttotal: 23.9s\tremaining: 537ms\n",
      "978:\tlearn: 0.3986332\ttotal: 23.9s\tremaining: 512ms\n",
      "979:\tlearn: 0.3986255\ttotal: 23.9s\tremaining: 488ms\n",
      "980:\tlearn: 0.3986119\ttotal: 23.9s\tremaining: 463ms\n",
      "981:\tlearn: 0.3986019\ttotal: 23.9s\tremaining: 439ms\n",
      "982:\tlearn: 0.3985874\ttotal: 23.9s\tremaining: 414ms\n",
      "983:\tlearn: 0.3985733\ttotal: 24s\tremaining: 390ms\n",
      "984:\tlearn: 0.3985618\ttotal: 24s\tremaining: 365ms\n",
      "985:\tlearn: 0.3985513\ttotal: 24s\tremaining: 341ms\n"
     ]
    },
    {
     "name": "stdout",
     "output_type": "stream",
     "text": [
      "986:\tlearn: 0.3985424\ttotal: 24s\tremaining: 317ms\n",
      "987:\tlearn: 0.3985304\ttotal: 24.1s\tremaining: 292ms\n",
      "988:\tlearn: 0.3985193\ttotal: 24.1s\tremaining: 268ms\n",
      "989:\tlearn: 0.3985101\ttotal: 24.1s\tremaining: 243ms\n",
      "990:\tlearn: 0.3985033\ttotal: 24.1s\tremaining: 219ms\n",
      "991:\tlearn: 0.3984867\ttotal: 24.1s\tremaining: 195ms\n",
      "992:\tlearn: 0.3984788\ttotal: 24.2s\tremaining: 170ms\n",
      "993:\tlearn: 0.3984673\ttotal: 24.2s\tremaining: 146ms\n",
      "994:\tlearn: 0.3984552\ttotal: 24.2s\tremaining: 122ms\n",
      "995:\tlearn: 0.3984455\ttotal: 24.2s\tremaining: 97.2ms\n",
      "996:\tlearn: 0.3984395\ttotal: 24.2s\tremaining: 72.9ms\n",
      "997:\tlearn: 0.3984327\ttotal: 24.2s\tremaining: 48.5ms\n",
      "998:\tlearn: 0.3984289\ttotal: 24.2s\tremaining: 24.3ms\n",
      "999:\tlearn: 0.3984167\ttotal: 24.3s\tremaining: 0us\n"
     ]
    }
   ],
   "source": [
    "model = CatBoostRegressor()\n",
    "model.fit(x_train_18, y_train_18)\n",
    "y_pred_18 = model.predict(x_test_18)"
   ]
  },
  {
   "cell_type": "code",
   "execution_count": 195,
   "id": "ac5955c8",
   "metadata": {},
   "outputs": [
    {
     "name": "stdout",
     "output_type": "stream",
     "text": [
      "MSE for CatBoost 2018 is: 0.15819087424802108\n"
     ]
    }
   ],
   "source": [
    "# Calculation of Mean Squared Error (MSE)\n",
    "mse = mean_squared_error(y_test_18, y_pred_18)\n",
    "print('MSE for CatBoost 2018 is: ' + str(mse))"
   ]
  },
  {
   "cell_type": "code",
   "execution_count": 196,
   "id": "4b0d621c",
   "metadata": {},
   "outputs": [
    {
     "name": "stdout",
     "output_type": "stream",
     "text": [
      "Accuracy of properties at +- 10% of actual prices is 0.32549683179723504\n"
     ]
    }
   ],
   "source": [
    "acc = accuracy_threshold(y_test_18, y_pred_18, 0.1)\n",
    "print('Accuracy of properties at +- 10% of actual prices is ' + str(acc))"
   ]
  },
  {
   "cell_type": "code",
   "execution_count": 197,
   "id": "57e165de",
   "metadata": {},
   "outputs": [
    {
     "name": "stdout",
     "output_type": "stream",
     "text": [
      "Median Absolute Error:\n",
      "\n",
      "0.17169573777095887\n"
     ]
    }
   ],
   "source": [
    "median_se = np.square(np.subtract(y_test_18, y_pred_18)).median() \n",
    " \n",
    "med = math.sqrt(median_se)\n",
    "print(\"Median Absolute Error:\\n\")\n",
    "print(med)"
   ]
  },
  {
   "cell_type": "code",
   "execution_count": 198,
   "id": "4a6d15a7",
   "metadata": {},
   "outputs": [
    {
     "name": "stdout",
     "output_type": "stream",
     "text": [
      "RMSE for CatBoost 2018 is: 0.39773216395964395\n"
     ]
    }
   ],
   "source": [
    "rmse = mean_squared_error(y_test_18, y_pred_18, squared = False)\n",
    "print('RMSE for CatBoost 2018 is: ' + str(rmse))"
   ]
  },
  {
   "cell_type": "code",
   "execution_count": 199,
   "id": "077985a3",
   "metadata": {},
   "outputs": [
    {
     "name": "stdout",
     "output_type": "stream",
     "text": [
      "MAPE for CatBoost 2018 is: 0.022210026854868455\n"
     ]
    }
   ],
   "source": [
    "mape = mean_absolute_percentage_error(y_test_18, y_pred_18)\n",
    "print(\"MAPE for CatBoost 2018 is: \" + str(mape))"
   ]
  },
  {
   "cell_type": "code",
   "execution_count": 200,
   "id": "efdfd2f1",
   "metadata": {},
   "outputs": [],
   "source": [
    "cnames = ['Algorithm', 'Year', 'RMSE', 'MSE', 'MEDAE', 'Accuracy', 'MAPE']\n",
    "df22 = pd.DataFrame(columns = cnames)\n",
    "\n",
    "df22 = df22.append({'Algorithm': 'CatBoost',\n",
    "           'Year': 2018,\n",
    "           'RMSE': rmse,\n",
    "           'MSE': mse,\n",
    "           'MEDAE': med,\n",
    "           'Accuracy': acc,\n",
    "           'MAPE': mape         \n",
    "          }, ignore_index = True)"
   ]
  },
  {
   "cell_type": "markdown",
   "id": "32ba1ce8",
   "metadata": {},
   "source": [
    "### BayesianRidge"
   ]
  },
  {
   "cell_type": "code",
   "execution_count": 201,
   "id": "be7faf55",
   "metadata": {},
   "outputs": [
    {
     "name": "stdout",
     "output_type": "stream",
     "text": [
      "MSE for BayesianRidge 2018 is: 0.21655313237902352\n"
     ]
    }
   ],
   "source": [
    "clf = BayesianRidge()\n",
    "clf.fit(x_train_18, y_train_18)\n",
    "y_pred_18 = clf.predict(x_test_18)\n",
    "# Calculation of Mean Squared Error (MSE)\n",
    "mse = mean_squared_error(y_test_18, y_pred_18)\n",
    "print('MSE for BayesianRidge 2018 is: ' + str(mse))"
   ]
  },
  {
   "cell_type": "code",
   "execution_count": 202,
   "id": "dcac2a1a",
   "metadata": {},
   "outputs": [
    {
     "name": "stdout",
     "output_type": "stream",
     "text": [
      "Accuracy of properties at +- 10% of actual prices is 0.21007344470046083\n"
     ]
    }
   ],
   "source": [
    "acc = accuracy_threshold(y_test_18, y_pred_18, 0.1)\n",
    "print('Accuracy of properties at +- 10% of actual prices is ' + str(acc))"
   ]
  },
  {
   "cell_type": "code",
   "execution_count": 203,
   "id": "c36fbb4d",
   "metadata": {},
   "outputs": [
    {
     "name": "stdout",
     "output_type": "stream",
     "text": [
      "MAPE for BayesianRidge 2018 is: 0.02779441514906478\n"
     ]
    }
   ],
   "source": [
    "mape = mean_absolute_percentage_error(y_test_18, y_pred_18)\n",
    "print(\"MAPE for BayesianRidge 2018 is: \" + str(mape))"
   ]
  },
  {
   "cell_type": "code",
   "execution_count": 204,
   "id": "8f51cb14",
   "metadata": {},
   "outputs": [
    {
     "name": "stdout",
     "output_type": "stream",
     "text": [
      "Median Absolute Error:\n",
      "\n",
      "0.2502359383818118\n"
     ]
    }
   ],
   "source": [
    "median_se = np.square(np.subtract(y_test_18, y_pred_18)).median() \n",
    " \n",
    "med = math.sqrt(median_se)\n",
    "print(\"Median Absolute Error:\\n\")\n",
    "print(med)"
   ]
  },
  {
   "cell_type": "code",
   "execution_count": 205,
   "id": "dd7ded2a",
   "metadata": {},
   "outputs": [
    {
     "name": "stdout",
     "output_type": "stream",
     "text": [
      "RMSE for MLR 2018 is: 0.46535269675701196\n"
     ]
    }
   ],
   "source": [
    "rmse = mean_squared_error(y_test_18, y_pred_18, squared = False)\n",
    "print('RMSE for MLR 2018 is: ' + str(rmse))"
   ]
  },
  {
   "cell_type": "code",
   "execution_count": 206,
   "id": "739c52c5",
   "metadata": {},
   "outputs": [],
   "source": [
    "cnames = ['Algorithm', 'Year', 'RMSE', 'MSE', 'MEDAE', 'Accuracy', 'MAPE']\n",
    "df23 = pd.DataFrame(columns = cnames)\n",
    "\n",
    "df23 = df23.append({'Algorithm': 'Bayesian',\n",
    "           'Year': 2018,\n",
    "           'RMSE': rmse,\n",
    "           'MSE': mse,\n",
    "           'MEDAE': med,\n",
    "           'Accuracy': acc,\n",
    "           'MAPE': mape         \n",
    "          }, ignore_index = True)"
   ]
  },
  {
   "cell_type": "markdown",
   "id": "3603e079",
   "metadata": {},
   "source": [
    "## 2017"
   ]
  },
  {
   "cell_type": "code",
   "execution_count": 207,
   "id": "e0c02467",
   "metadata": {},
   "outputs": [],
   "source": [
    "specific17 = irl[irl['Year'] >= 2012]\n",
    "test_17 = specific17[specific17['Year'] == 2017]\n",
    "train_17 = specific17[specific17['Year'] < 2017]\n",
    "\n",
    "#train_17 = train_17.sample(n = 80000)\n",
    "#test_17 = test_17.sample(n = 20000)\n",
    "\n",
    "#test_17.drop(columns=['Year'], inplace = True)\n",
    "#train_17.drop(columns=['Year'], inplace = True)\n",
    "\n",
    "x_train_17 = train_17.loc[:, train_17.columns != 'PriceInflation']\n",
    "y_train_17 = train_17['PriceInflation']\n",
    "x_test_17 = test_17.loc[:, test_17.columns != 'PriceInflation']\n",
    "y_test_17 = test_17['PriceInflation']"
   ]
  },
  {
   "cell_type": "code",
   "execution_count": 208,
   "id": "519a5218",
   "metadata": {},
   "outputs": [
    {
     "name": "stdout",
     "output_type": "stream",
     "text": [
      "Linear algorithm was disabled.\n",
      "AutoML directory: AutoML_5\n",
      "The task is regression with evaluation metric rmse\n",
      "AutoML will use algorithms: ['Baseline', 'Decision Tree', 'Random Forest', 'Xgboost', 'Neural Network']\n",
      "AutoML will ensemble available models\n",
      "AutoML steps: ['simple_algorithms', 'default_algorithms', 'ensemble']\n",
      "* Step simple_algorithms will try to check up to 2 models\n",
      "1_Baseline rmse 0.808338 trained in 1.74 seconds\n",
      "2_DecisionTree rmse 0.454395 trained in 6.38 seconds\n",
      "* Step default_algorithms will try to check up to 3 models\n",
      "3_Default_Xgboost rmse 0.416053 trained in 11.43 seconds\n",
      "4_Default_NeuralNetwork rmse 0.424685 trained in 13.19 seconds\n",
      "5_Default_RandomForest rmse 0.430875 trained in 7.53 seconds\n",
      "* Step ensemble will try to check up to 1 model\n",
      "Ensemble rmse 0.416053 trained in 0.84 seconds\n",
      "AutoML fit time: 55.15 seconds\n",
      "AutoML best model: 3_Default_Xgboost\n"
     ]
    },
    {
     "data": {
      "text/plain": [
       "AutoML(total_time_limit=300)"
      ]
     },
     "execution_count": 208,
     "metadata": {},
     "output_type": "execute_result"
    }
   ],
   "source": [
    "automl = AutoML(total_time_limit = 5 * 60)\n",
    "automl.fit(x_train_17, y_train_17)"
   ]
  },
  {
   "cell_type": "code",
   "execution_count": 209,
   "id": "ae607b39",
   "metadata": {},
   "outputs": [
    {
     "name": "stdout",
     "output_type": "stream",
     "text": [
      "MSE for AutoML 2017 is: 0.16777314293129708\n"
     ]
    }
   ],
   "source": [
    "y_pred_17 = automl.predict(x_test_17)\n",
    "# Calculation of Mean Squared Error (MSE)\n",
    "mse = mean_squared_error(y_test_17, y_pred_17)\n",
    "print('MSE for AutoML 2017 is: ' + str(mse))"
   ]
  },
  {
   "cell_type": "code",
   "execution_count": 210,
   "id": "89808aa5",
   "metadata": {},
   "outputs": [
    {
     "name": "stdout",
     "output_type": "stream",
     "text": [
      "RMSE for AutoML 2017 is: 0.4096011998655486\n"
     ]
    }
   ],
   "source": [
    "rmse = mean_squared_error(y_test_17, y_pred_17, squared = False)\n",
    "print('RMSE for AutoML 2017 is: ' + str(rmse))"
   ]
  },
  {
   "cell_type": "code",
   "execution_count": 211,
   "id": "1c9b63ba",
   "metadata": {},
   "outputs": [
    {
     "name": "stdout",
     "output_type": "stream",
     "text": [
      "Accuracy of properties at +- 10% of actual prices is 0.30442195781904446\n"
     ]
    }
   ],
   "source": [
    "acc = accuracy_threshold(y_test_17, y_pred_17, 0.1)\n",
    "print('Accuracy of properties at +- 10% of actual prices is ' + str(acc))"
   ]
  },
  {
   "cell_type": "code",
   "execution_count": 212,
   "id": "b244d0d9",
   "metadata": {},
   "outputs": [
    {
     "name": "stdout",
     "output_type": "stream",
     "text": [
      "Median Absolute Error:\n",
      "\n",
      "0.18461661358717762\n"
     ]
    }
   ],
   "source": [
    "median_se = np.square(np.subtract(y_test_17, y_pred_17)).median() \n",
    " \n",
    "med = math.sqrt(median_se)\n",
    "print(\"Median Absolute Error:\\n\")\n",
    "print(med)"
   ]
  },
  {
   "cell_type": "code",
   "execution_count": 213,
   "id": "3656aeed",
   "metadata": {},
   "outputs": [
    {
     "name": "stdout",
     "output_type": "stream",
     "text": [
      "MAPE for AutoML 2017 is: 0.023270559803432483\n"
     ]
    }
   ],
   "source": [
    "mape = mean_absolute_percentage_error(y_test_17, y_pred_17)\n",
    "print(\"MAPE for AutoML 2017 is: \" + str(mape))"
   ]
  },
  {
   "cell_type": "code",
   "execution_count": 214,
   "id": "de32e7b8",
   "metadata": {},
   "outputs": [],
   "source": [
    "cnames = ['Algorithm', 'Year', 'RMSE', 'MSE', 'MEDAE', 'Accuracy', 'MAPE']\n",
    "df24 = pd.DataFrame(columns = cnames)\n",
    "\n",
    "df24 = df24.append({'Algorithm': 'AutoML',\n",
    "           'Year': 2017,\n",
    "           'RMSE': rmse,\n",
    "           'MSE': mse,\n",
    "           'MEDAE': med,\n",
    "           'Accuracy': acc,\n",
    "           'MAPE': mape         \n",
    "          }, ignore_index = True)"
   ]
  },
  {
   "cell_type": "markdown",
   "id": "e44a748f",
   "metadata": {},
   "source": [
    "### MLR"
   ]
  },
  {
   "cell_type": "code",
   "execution_count": 215,
   "id": "900d1850",
   "metadata": {},
   "outputs": [
    {
     "name": "stdout",
     "output_type": "stream",
     "text": [
      "MSE for MLR 2017 is: 0.24378251146045268\n"
     ]
    }
   ],
   "source": [
    "lm = linear_model.LinearRegression()\n",
    "lm.fit(x_train_17, y_train_17) # fitting the model\n",
    "y_pred_17 = lm.predict(x_test_17)\n",
    "# Calculation of Mean Squared Error (MSE)\n",
    "mse = mean_squared_error(y_test_17, y_pred_17)\n",
    "print('MSE for MLR 2017 is: ' + str(mse))"
   ]
  },
  {
   "cell_type": "code",
   "execution_count": 216,
   "id": "38e7f871",
   "metadata": {},
   "outputs": [
    {
     "name": "stdout",
     "output_type": "stream",
     "text": [
      "RMSE for MLR 2017 is: 0.4937433659913343\n"
     ]
    }
   ],
   "source": [
    "rmse = mean_squared_error(y_test_17, y_pred_17, squared = False)\n",
    "print('RMSE for MLR 2017 is: ' + str(rmse))"
   ]
  },
  {
   "cell_type": "code",
   "execution_count": 217,
   "id": "bf7320be",
   "metadata": {},
   "outputs": [
    {
     "name": "stdout",
     "output_type": "stream",
     "text": [
      "Accuracy of properties at +- 10% of actual prices is 0.16194076874606175\n"
     ]
    }
   ],
   "source": [
    "acc = accuracy_threshold(y_test_17, y_pred_17, 0.1)\n",
    "print('Accuracy of properties at +- 10% of actual prices is ' + str(acc))"
   ]
  },
  {
   "cell_type": "code",
   "execution_count": 218,
   "id": "79216519",
   "metadata": {},
   "outputs": [
    {
     "name": "stdout",
     "output_type": "stream",
     "text": [
      "Median Absolute Error:\n",
      "\n",
      "0.29445169521347836\n"
     ]
    }
   ],
   "source": [
    "median_se = np.square(np.subtract(y_test_17, y_pred_17)).median() \n",
    " \n",
    "med = math.sqrt(median_se)\n",
    "print(\"Median Absolute Error:\\n\")\n",
    "print(med)"
   ]
  },
  {
   "cell_type": "code",
   "execution_count": 219,
   "id": "a81013e4",
   "metadata": {},
   "outputs": [
    {
     "name": "stdout",
     "output_type": "stream",
     "text": [
      "MAPE for MLR 2017 is: 0.030823896034174392\n"
     ]
    }
   ],
   "source": [
    "mape = mean_absolute_percentage_error(y_test_17, y_pred_17)\n",
    "print(\"MAPE for MLR 2017 is: \" + str(mape))"
   ]
  },
  {
   "cell_type": "code",
   "execution_count": 220,
   "id": "fe7d6ec2",
   "metadata": {},
   "outputs": [],
   "source": [
    "cnames = ['Algorithm', 'Year', 'RMSE', 'MSE', 'MEDAE', 'Accuracy', 'MAPE']\n",
    "df25 = pd.DataFrame(columns = cnames)\n",
    "\n",
    "df25 = df25.append({'Algorithm': 'MLR',\n",
    "           'Year': 2017,\n",
    "           'RMSE': rmse,\n",
    "           'MSE': mse,\n",
    "           'MEDAE': med,\n",
    "           'Accuracy': acc,\n",
    "           'MAPE': mape         \n",
    "          }, ignore_index = True)"
   ]
  },
  {
   "cell_type": "markdown",
   "id": "02520000",
   "metadata": {},
   "source": [
    "### AdaBoost"
   ]
  },
  {
   "cell_type": "code",
   "execution_count": 221,
   "id": "6bd671b0",
   "metadata": {},
   "outputs": [
    {
     "name": "stdout",
     "output_type": "stream",
     "text": [
      "MSE for AdaBoost 2017 is: 0.2164039772181355\n"
     ]
    }
   ],
   "source": [
    "model = AdaBoostRegressor()\n",
    "model.fit(x_train_17, y_train_17)\n",
    "y_pred_17 = model.predict(x_test_17)\n",
    "# Calculation of Mean Squared Error (MSE)\n",
    "mse = mean_squared_error(y_test_17, y_pred_17)\n",
    "print('MSE for AdaBoost 2017 is: ' + str(mse))"
   ]
  },
  {
   "cell_type": "code",
   "execution_count": 222,
   "id": "4fbed0ce",
   "metadata": {},
   "outputs": [
    {
     "name": "stdout",
     "output_type": "stream",
     "text": [
      "RMSE for Adaboost 2017 is: 0.46519240881396107\n"
     ]
    }
   ],
   "source": [
    "rmse = mean_squared_error(y_test_17, y_pred_17, squared = False)\n",
    "print('RMSE for Adaboost 2017 is: ' + str(rmse))"
   ]
  },
  {
   "cell_type": "code",
   "execution_count": 223,
   "id": "9f322152",
   "metadata": {},
   "outputs": [
    {
     "name": "stdout",
     "output_type": "stream",
     "text": [
      "Accuracy of properties at +- 10% of actual prices is 0.14333370399199377\n"
     ]
    }
   ],
   "source": [
    "acc = accuracy_threshold(y_test_17, y_pred_17, 0.1)\n",
    "print('Accuracy of properties at +- 10% of actual prices is ' + str(acc))"
   ]
  },
  {
   "cell_type": "code",
   "execution_count": 224,
   "id": "39b1630b",
   "metadata": {},
   "outputs": [
    {
     "name": "stdout",
     "output_type": "stream",
     "text": [
      "Median Absolute Error:\n",
      "\n",
      "0.3067588478924623\n"
     ]
    }
   ],
   "source": [
    "median_se = np.square(np.subtract(y_test_17, y_pred_17)).median() \n",
    " \n",
    "med = math.sqrt(median_se)\n",
    "print(\"Median Absolute Error:\\n\")\n",
    "print(med)"
   ]
  },
  {
   "cell_type": "code",
   "execution_count": 225,
   "id": "c5c7a745",
   "metadata": {},
   "outputs": [
    {
     "name": "stdout",
     "output_type": "stream",
     "text": [
      "MAPE for AdaBoost 2017 is: 0.029881177412249913\n"
     ]
    }
   ],
   "source": [
    "mape = mean_absolute_percentage_error(y_test_17, y_pred_17)\n",
    "print(\"MAPE for AdaBoost 2017 is: \" + str(mape))"
   ]
  },
  {
   "cell_type": "code",
   "execution_count": 226,
   "id": "07ef9181",
   "metadata": {},
   "outputs": [],
   "source": [
    "cnames = ['Algorithm', 'Year', 'RMSE', 'MSE', 'MEDAE', 'Accuracy', 'MAPE']\n",
    "df26 = pd.DataFrame(columns = cnames)\n",
    "\n",
    "df26 = df26.append({'Algorithm': 'AdaBoost',\n",
    "           'Year': 2017,\n",
    "           'RMSE': rmse,\n",
    "           'MSE': mse,\n",
    "           'MEDAE': med,\n",
    "           'Accuracy': acc,\n",
    "           'MAPE': mape         \n",
    "          }, ignore_index = True)"
   ]
  },
  {
   "cell_type": "markdown",
   "id": "a8bbf8de",
   "metadata": {},
   "source": [
    "### LightGBM"
   ]
  },
  {
   "cell_type": "code",
   "execution_count": 227,
   "id": "8bdf11c8",
   "metadata": {},
   "outputs": [
    {
     "name": "stdout",
     "output_type": "stream",
     "text": [
      "MSE for LightGBM 2017 is: 0.16690446223904004\n"
     ]
    }
   ],
   "source": [
    "model = LGBMRegressor()\n",
    "model.fit(x_train_17, y_train_17)\n",
    "y_pred_17 = model.predict(x_test_17)\n",
    "# Calculation of Mean Squared Error (MSE)\n",
    "mse = mean_squared_error(y_test_17, y_pred_17)\n",
    "print('MSE for LightGBM 2017 is: ' + str(mse))"
   ]
  },
  {
   "cell_type": "code",
   "execution_count": 228,
   "id": "70c2101b",
   "metadata": {},
   "outputs": [
    {
     "name": "stdout",
     "output_type": "stream",
     "text": [
      "RMSE for LightGBM 2017 is: 0.4085394255626255\n"
     ]
    }
   ],
   "source": [
    "rmse = mean_squared_error(y_test_17, y_pred_17, squared = False)\n",
    "print('RMSE for LightGBM 2017 is: ' + str(rmse))"
   ]
  },
  {
   "cell_type": "code",
   "execution_count": 229,
   "id": "09740eef",
   "metadata": {},
   "outputs": [
    {
     "name": "stdout",
     "output_type": "stream",
     "text": [
      "Accuracy of properties at +- 10% of actual prices is 0.3106860891804737\n"
     ]
    }
   ],
   "source": [
    "acc = accuracy_threshold(y_test_17, y_pred_17, 0.1)\n",
    "print('Accuracy of properties at +- 10% of actual prices is ' + str(acc))"
   ]
  },
  {
   "cell_type": "code",
   "execution_count": 230,
   "id": "09c947c3",
   "metadata": {},
   "outputs": [
    {
     "name": "stdout",
     "output_type": "stream",
     "text": [
      "Median Absolute Error:\n",
      "\n",
      "0.18353117399837515\n"
     ]
    }
   ],
   "source": [
    "median_se = np.square(np.subtract(y_test_17, y_pred_17)).median() \n",
    " \n",
    "med = math.sqrt(median_se)\n",
    "print(\"Median Absolute Error:\\n\")\n",
    "print(med)"
   ]
  },
  {
   "cell_type": "code",
   "execution_count": 231,
   "id": "5d44cfb8",
   "metadata": {},
   "outputs": [
    {
     "name": "stdout",
     "output_type": "stream",
     "text": [
      "MAPE for LightGBM 2017 is: 0.023178147342736655\n"
     ]
    }
   ],
   "source": [
    "mape = mean_absolute_percentage_error(y_test_17, y_pred_17)\n",
    "print(\"MAPE for LightGBM 2017 is: \" + str(mape))"
   ]
  },
  {
   "cell_type": "code",
   "execution_count": 232,
   "id": "00ea8e81",
   "metadata": {},
   "outputs": [],
   "source": [
    "cnames = ['Algorithm', 'Year', 'RMSE', 'MSE', 'MEDAE', 'Accuracy', 'MAPE']\n",
    "df27 = pd.DataFrame(columns = cnames)\n",
    "\n",
    "df27 = df27.append({'Algorithm': 'LightGBM',\n",
    "           'Year': 2017,\n",
    "           'RMSE': rmse,\n",
    "           'MSE': mse,\n",
    "           'MEDAE': med,\n",
    "           'Accuracy': acc,\n",
    "           'MAPE': mape         \n",
    "          }, ignore_index = True)"
   ]
  },
  {
   "cell_type": "markdown",
   "id": "5c37b554",
   "metadata": {},
   "source": [
    "### CatBoost"
   ]
  },
  {
   "cell_type": "code",
   "execution_count": 233,
   "id": "28007eed",
   "metadata": {},
   "outputs": [
    {
     "name": "stdout",
     "output_type": "stream",
     "text": [
      "Learning rate set to 0.085563\n",
      "0:\tlearn: 0.7617178\ttotal: 32.6ms\tremaining: 32.6s\n",
      "1:\tlearn: 0.7213122\ttotal: 57.2ms\tremaining: 28.5s\n",
      "2:\tlearn: 0.6860201\ttotal: 85.8ms\tremaining: 28.5s\n",
      "3:\tlearn: 0.6539608\ttotal: 106ms\tremaining: 26.3s\n",
      "4:\tlearn: 0.6251985\ttotal: 121ms\tremaining: 24.1s\n",
      "5:\tlearn: 0.5998750\ttotal: 136ms\tremaining: 22.6s\n",
      "6:\tlearn: 0.5774169\ttotal: 151ms\tremaining: 21.4s\n",
      "7:\tlearn: 0.5576043\ttotal: 164ms\tremaining: 20.4s\n",
      "8:\tlearn: 0.5402794\ttotal: 182ms\tremaining: 20s\n",
      "9:\tlearn: 0.5251992\ttotal: 200ms\tremaining: 19.8s\n",
      "10:\tlearn: 0.5117091\ttotal: 223ms\tremaining: 20s\n",
      "11:\tlearn: 0.4999715\ttotal: 237ms\tremaining: 19.5s\n",
      "12:\tlearn: 0.4897241\ttotal: 251ms\tremaining: 19s\n",
      "13:\tlearn: 0.4808864\ttotal: 268ms\tremaining: 18.8s\n",
      "14:\tlearn: 0.4730089\ttotal: 285ms\tremaining: 18.7s\n",
      "15:\tlearn: 0.4662139\ttotal: 299ms\tremaining: 18.4s\n",
      "16:\tlearn: 0.4603918\ttotal: 311ms\tremaining: 18s\n",
      "17:\tlearn: 0.4553770\ttotal: 324ms\tremaining: 17.7s\n",
      "18:\tlearn: 0.4509329\ttotal: 338ms\tremaining: 17.4s\n",
      "19:\tlearn: 0.4471538\ttotal: 350ms\tremaining: 17.2s\n",
      "20:\tlearn: 0.4439261\ttotal: 364ms\tremaining: 17s\n",
      "21:\tlearn: 0.4411348\ttotal: 380ms\tremaining: 16.9s\n",
      "22:\tlearn: 0.4386431\ttotal: 393ms\tremaining: 16.7s\n",
      "23:\tlearn: 0.4365527\ttotal: 406ms\tremaining: 16.5s\n",
      "24:\tlearn: 0.4345300\ttotal: 419ms\tremaining: 16.4s\n",
      "25:\tlearn: 0.4328182\ttotal: 436ms\tremaining: 16.3s\n",
      "26:\tlearn: 0.4314270\ttotal: 448ms\tremaining: 16.2s\n",
      "27:\tlearn: 0.4300068\ttotal: 461ms\tremaining: 16s\n",
      "28:\tlearn: 0.4289581\ttotal: 477ms\tremaining: 16s\n",
      "29:\tlearn: 0.4279703\ttotal: 493ms\tremaining: 15.9s\n",
      "30:\tlearn: 0.4270195\ttotal: 506ms\tremaining: 15.8s\n",
      "31:\tlearn: 0.4263059\ttotal: 518ms\tremaining: 15.7s\n",
      "32:\tlearn: 0.4256190\ttotal: 531ms\tremaining: 15.6s\n",
      "33:\tlearn: 0.4250420\ttotal: 543ms\tremaining: 15.4s\n",
      "34:\tlearn: 0.4244667\ttotal: 558ms\tremaining: 15.4s\n",
      "35:\tlearn: 0.4239535\ttotal: 591ms\tremaining: 15.8s\n",
      "36:\tlearn: 0.4234764\ttotal: 614ms\tremaining: 16s\n",
      "37:\tlearn: 0.4230642\ttotal: 631ms\tremaining: 16s\n",
      "38:\tlearn: 0.4226881\ttotal: 651ms\tremaining: 16s\n",
      "39:\tlearn: 0.4223922\ttotal: 668ms\tremaining: 16s\n",
      "40:\tlearn: 0.4221274\ttotal: 688ms\tremaining: 16.1s\n",
      "41:\tlearn: 0.4218676\ttotal: 702ms\tremaining: 16s\n",
      "42:\tlearn: 0.4216308\ttotal: 716ms\tremaining: 15.9s\n",
      "43:\tlearn: 0.4214492\ttotal: 729ms\tremaining: 15.8s\n",
      "44:\tlearn: 0.4212660\ttotal: 742ms\tremaining: 15.8s\n",
      "45:\tlearn: 0.4210934\ttotal: 755ms\tremaining: 15.7s\n",
      "46:\tlearn: 0.4208703\ttotal: 768ms\tremaining: 15.6s\n",
      "47:\tlearn: 0.4207241\ttotal: 780ms\tremaining: 15.5s\n",
      "48:\tlearn: 0.4205722\ttotal: 796ms\tremaining: 15.4s\n",
      "49:\tlearn: 0.4204011\ttotal: 812ms\tremaining: 15.4s\n",
      "50:\tlearn: 0.4202417\ttotal: 825ms\tremaining: 15.3s\n",
      "51:\tlearn: 0.4200878\ttotal: 837ms\tremaining: 15.3s\n",
      "52:\tlearn: 0.4199329\ttotal: 850ms\tremaining: 15.2s\n",
      "53:\tlearn: 0.4197681\ttotal: 865ms\tremaining: 15.2s\n",
      "54:\tlearn: 0.4195731\ttotal: 882ms\tremaining: 15.2s\n",
      "55:\tlearn: 0.4194483\ttotal: 895ms\tremaining: 15.1s\n",
      "56:\tlearn: 0.4193063\ttotal: 908ms\tremaining: 15s\n",
      "57:\tlearn: 0.4191788\ttotal: 922ms\tremaining: 15s\n",
      "58:\tlearn: 0.4190986\ttotal: 938ms\tremaining: 15s\n",
      "59:\tlearn: 0.4189871\ttotal: 956ms\tremaining: 15s\n",
      "60:\tlearn: 0.4188809\ttotal: 972ms\tremaining: 15s\n",
      "61:\tlearn: 0.4187889\ttotal: 990ms\tremaining: 15s\n",
      "62:\tlearn: 0.4187025\ttotal: 1.01s\tremaining: 15.1s\n",
      "63:\tlearn: 0.4186220\ttotal: 1.03s\tremaining: 15s\n",
      "64:\tlearn: 0.4185033\ttotal: 1.04s\tremaining: 15s\n",
      "65:\tlearn: 0.4183969\ttotal: 1.06s\tremaining: 15s\n",
      "66:\tlearn: 0.4182992\ttotal: 1.07s\tremaining: 14.9s\n",
      "67:\tlearn: 0.4182355\ttotal: 1.09s\tremaining: 14.9s\n",
      "68:\tlearn: 0.4181236\ttotal: 1.11s\tremaining: 14.9s\n",
      "69:\tlearn: 0.4180643\ttotal: 1.12s\tremaining: 14.9s\n",
      "70:\tlearn: 0.4179885\ttotal: 1.14s\tremaining: 15s\n",
      "71:\tlearn: 0.4179430\ttotal: 1.16s\tremaining: 14.9s\n",
      "72:\tlearn: 0.4178900\ttotal: 1.17s\tremaining: 14.9s\n",
      "73:\tlearn: 0.4178371\ttotal: 1.19s\tremaining: 14.9s\n",
      "74:\tlearn: 0.4177476\ttotal: 1.21s\tremaining: 14.9s\n",
      "75:\tlearn: 0.4176915\ttotal: 1.22s\tremaining: 14.8s\n",
      "76:\tlearn: 0.4176451\ttotal: 1.23s\tremaining: 14.8s\n",
      "77:\tlearn: 0.4175766\ttotal: 1.25s\tremaining: 14.7s\n",
      "78:\tlearn: 0.4174927\ttotal: 1.26s\tremaining: 14.7s\n",
      "79:\tlearn: 0.4174371\ttotal: 1.27s\tremaining: 14.7s\n",
      "80:\tlearn: 0.4173718\ttotal: 1.29s\tremaining: 14.6s\n",
      "81:\tlearn: 0.4173017\ttotal: 1.3s\tremaining: 14.6s\n",
      "82:\tlearn: 0.4172318\ttotal: 1.32s\tremaining: 14.6s\n",
      "83:\tlearn: 0.4171851\ttotal: 1.33s\tremaining: 14.5s\n",
      "84:\tlearn: 0.4171401\ttotal: 1.34s\tremaining: 14.4s\n",
      "85:\tlearn: 0.4170821\ttotal: 1.35s\tremaining: 14.4s\n",
      "86:\tlearn: 0.4170413\ttotal: 1.36s\tremaining: 14.3s\n",
      "87:\tlearn: 0.4169610\ttotal: 1.38s\tremaining: 14.3s\n",
      "88:\tlearn: 0.4169102\ttotal: 1.39s\tremaining: 14.2s\n",
      "89:\tlearn: 0.4168278\ttotal: 1.41s\tremaining: 14.2s\n",
      "90:\tlearn: 0.4167864\ttotal: 1.42s\tremaining: 14.2s\n",
      "91:\tlearn: 0.4167384\ttotal: 1.43s\tremaining: 14.1s\n",
      "92:\tlearn: 0.4167003\ttotal: 1.45s\tremaining: 14.1s\n",
      "93:\tlearn: 0.4166939\ttotal: 1.46s\tremaining: 14s\n",
      "94:\tlearn: 0.4166739\ttotal: 1.47s\tremaining: 14s\n",
      "95:\tlearn: 0.4166331\ttotal: 1.48s\tremaining: 14s\n",
      "96:\tlearn: 0.4165802\ttotal: 1.5s\tremaining: 14s\n",
      "97:\tlearn: 0.4165592\ttotal: 1.52s\tremaining: 14s\n",
      "98:\tlearn: 0.4165113\ttotal: 1.53s\tremaining: 13.9s\n",
      "99:\tlearn: 0.4164806\ttotal: 1.54s\tremaining: 13.9s\n",
      "100:\tlearn: 0.4164347\ttotal: 1.55s\tremaining: 13.8s\n",
      "101:\tlearn: 0.4163927\ttotal: 1.57s\tremaining: 13.8s\n",
      "102:\tlearn: 0.4163606\ttotal: 1.58s\tremaining: 13.7s\n",
      "103:\tlearn: 0.4163116\ttotal: 1.59s\tremaining: 13.7s\n",
      "104:\tlearn: 0.4162437\ttotal: 1.61s\tremaining: 13.7s\n",
      "105:\tlearn: 0.4162226\ttotal: 1.62s\tremaining: 13.7s\n",
      "106:\tlearn: 0.4161945\ttotal: 1.64s\tremaining: 13.7s\n",
      "107:\tlearn: 0.4161533\ttotal: 1.66s\tremaining: 13.7s\n",
      "108:\tlearn: 0.4161138\ttotal: 1.68s\tremaining: 13.7s\n",
      "109:\tlearn: 0.4160757\ttotal: 1.7s\tremaining: 13.7s\n",
      "110:\tlearn: 0.4160361\ttotal: 1.71s\tremaining: 13.7s\n",
      "111:\tlearn: 0.4160010\ttotal: 1.72s\tremaining: 13.6s\n",
      "112:\tlearn: 0.4159568\ttotal: 1.73s\tremaining: 13.6s\n",
      "113:\tlearn: 0.4159118\ttotal: 1.75s\tremaining: 13.6s\n",
      "114:\tlearn: 0.4158828\ttotal: 1.76s\tremaining: 13.5s\n",
      "115:\tlearn: 0.4158615\ttotal: 1.77s\tremaining: 13.5s\n",
      "116:\tlearn: 0.4158323\ttotal: 1.78s\tremaining: 13.5s\n",
      "117:\tlearn: 0.4158053\ttotal: 1.8s\tremaining: 13.5s\n",
      "118:\tlearn: 0.4157622\ttotal: 1.82s\tremaining: 13.5s\n",
      "119:\tlearn: 0.4157388\ttotal: 1.83s\tremaining: 13.4s\n",
      "120:\tlearn: 0.4157004\ttotal: 1.84s\tremaining: 13.4s\n",
      "121:\tlearn: 0.4156317\ttotal: 1.86s\tremaining: 13.4s\n",
      "122:\tlearn: 0.4155777\ttotal: 1.87s\tremaining: 13.3s\n",
      "123:\tlearn: 0.4155656\ttotal: 1.88s\tremaining: 13.3s\n",
      "124:\tlearn: 0.4155287\ttotal: 1.9s\tremaining: 13.3s\n",
      "125:\tlearn: 0.4155023\ttotal: 1.91s\tremaining: 13.2s\n",
      "126:\tlearn: 0.4154604\ttotal: 1.92s\tremaining: 13.2s\n",
      "127:\tlearn: 0.4154259\ttotal: 1.93s\tremaining: 13.2s\n",
      "128:\tlearn: 0.4153944\ttotal: 1.95s\tremaining: 13.2s\n",
      "129:\tlearn: 0.4153701\ttotal: 1.96s\tremaining: 13.1s\n",
      "130:\tlearn: 0.4153263\ttotal: 1.97s\tremaining: 13.1s\n",
      "131:\tlearn: 0.4152709\ttotal: 1.99s\tremaining: 13.1s\n",
      "132:\tlearn: 0.4152378\ttotal: 2s\tremaining: 13s\n",
      "133:\tlearn: 0.4151824\ttotal: 2.01s\tremaining: 13s\n",
      "134:\tlearn: 0.4151460\ttotal: 2.03s\tremaining: 13s\n",
      "135:\tlearn: 0.4151259\ttotal: 2.04s\tremaining: 13s\n",
      "136:\tlearn: 0.4150702\ttotal: 2.05s\tremaining: 12.9s\n",
      "137:\tlearn: 0.4150452\ttotal: 2.07s\tremaining: 12.9s\n",
      "138:\tlearn: 0.4149990\ttotal: 2.08s\tremaining: 12.9s\n",
      "139:\tlearn: 0.4149687\ttotal: 2.09s\tremaining: 12.9s\n",
      "140:\tlearn: 0.4149431\ttotal: 2.11s\tremaining: 12.8s\n",
      "141:\tlearn: 0.4149275\ttotal: 2.12s\tremaining: 12.8s\n",
      "142:\tlearn: 0.4148841\ttotal: 2.13s\tremaining: 12.8s\n",
      "143:\tlearn: 0.4148521\ttotal: 2.15s\tremaining: 12.8s\n",
      "144:\tlearn: 0.4148235\ttotal: 2.17s\tremaining: 12.8s\n",
      "145:\tlearn: 0.4147980\ttotal: 2.18s\tremaining: 12.8s\n",
      "146:\tlearn: 0.4147650\ttotal: 2.19s\tremaining: 12.7s\n",
      "147:\tlearn: 0.4147372\ttotal: 2.21s\tremaining: 12.7s\n",
      "148:\tlearn: 0.4147008\ttotal: 2.22s\tremaining: 12.7s\n",
      "149:\tlearn: 0.4146418\ttotal: 2.24s\tremaining: 12.7s\n",
      "150:\tlearn: 0.4146072\ttotal: 2.25s\tremaining: 12.6s\n",
      "151:\tlearn: 0.4145847\ttotal: 2.27s\tremaining: 12.6s\n",
      "152:\tlearn: 0.4145521\ttotal: 2.28s\tremaining: 12.6s\n",
      "153:\tlearn: 0.4145309\ttotal: 2.3s\tremaining: 12.6s\n",
      "154:\tlearn: 0.4145143\ttotal: 2.31s\tremaining: 12.6s\n",
      "155:\tlearn: 0.4144800\ttotal: 2.33s\tremaining: 12.6s\n",
      "156:\tlearn: 0.4144342\ttotal: 2.35s\tremaining: 12.6s\n",
      "157:\tlearn: 0.4143957\ttotal: 2.37s\tremaining: 12.6s\n",
      "158:\tlearn: 0.4143799\ttotal: 2.38s\tremaining: 12.6s\n",
      "159:\tlearn: 0.4143386\ttotal: 2.4s\tremaining: 12.6s\n",
      "160:\tlearn: 0.4143078\ttotal: 2.42s\tremaining: 12.6s\n",
      "161:\tlearn: 0.4142771\ttotal: 2.44s\tremaining: 12.6s\n",
      "162:\tlearn: 0.4142519\ttotal: 2.45s\tremaining: 12.6s\n",
      "163:\tlearn: 0.4142362\ttotal: 2.47s\tremaining: 12.6s\n"
     ]
    },
    {
     "name": "stdout",
     "output_type": "stream",
     "text": [
      "164:\tlearn: 0.4142125\ttotal: 2.49s\tremaining: 12.6s\n",
      "165:\tlearn: 0.4141719\ttotal: 2.51s\tremaining: 12.6s\n",
      "166:\tlearn: 0.4141386\ttotal: 2.52s\tremaining: 12.6s\n",
      "167:\tlearn: 0.4140975\ttotal: 2.54s\tremaining: 12.6s\n",
      "168:\tlearn: 0.4140708\ttotal: 2.55s\tremaining: 12.5s\n",
      "169:\tlearn: 0.4140216\ttotal: 2.56s\tremaining: 12.5s\n",
      "170:\tlearn: 0.4139969\ttotal: 2.58s\tremaining: 12.5s\n",
      "171:\tlearn: 0.4139634\ttotal: 2.59s\tremaining: 12.5s\n",
      "172:\tlearn: 0.4139330\ttotal: 2.6s\tremaining: 12.4s\n",
      "173:\tlearn: 0.4138983\ttotal: 2.61s\tremaining: 12.4s\n",
      "174:\tlearn: 0.4138625\ttotal: 2.63s\tremaining: 12.4s\n",
      "175:\tlearn: 0.4138480\ttotal: 2.65s\tremaining: 12.4s\n",
      "176:\tlearn: 0.4138310\ttotal: 2.68s\tremaining: 12.5s\n",
      "177:\tlearn: 0.4138086\ttotal: 2.7s\tremaining: 12.5s\n",
      "178:\tlearn: 0.4137758\ttotal: 2.72s\tremaining: 12.5s\n",
      "179:\tlearn: 0.4137480\ttotal: 2.74s\tremaining: 12.5s\n",
      "180:\tlearn: 0.4137351\ttotal: 2.75s\tremaining: 12.5s\n",
      "181:\tlearn: 0.4137120\ttotal: 2.78s\tremaining: 12.5s\n",
      "182:\tlearn: 0.4136746\ttotal: 2.79s\tremaining: 12.5s\n",
      "183:\tlearn: 0.4136432\ttotal: 2.81s\tremaining: 12.5s\n",
      "184:\tlearn: 0.4136142\ttotal: 2.83s\tremaining: 12.5s\n",
      "185:\tlearn: 0.4136042\ttotal: 2.85s\tremaining: 12.5s\n",
      "186:\tlearn: 0.4135778\ttotal: 2.86s\tremaining: 12.4s\n",
      "187:\tlearn: 0.4135281\ttotal: 2.88s\tremaining: 12.4s\n",
      "188:\tlearn: 0.4135071\ttotal: 2.89s\tremaining: 12.4s\n",
      "189:\tlearn: 0.4134858\ttotal: 2.9s\tremaining: 12.4s\n",
      "190:\tlearn: 0.4134562\ttotal: 2.92s\tremaining: 12.4s\n",
      "191:\tlearn: 0.4134396\ttotal: 2.93s\tremaining: 12.3s\n",
      "192:\tlearn: 0.4134111\ttotal: 2.95s\tremaining: 12.3s\n",
      "193:\tlearn: 0.4133782\ttotal: 2.96s\tremaining: 12.3s\n",
      "194:\tlearn: 0.4133614\ttotal: 2.98s\tremaining: 12.3s\n",
      "195:\tlearn: 0.4133437\ttotal: 2.99s\tremaining: 12.3s\n",
      "196:\tlearn: 0.4133136\ttotal: 3s\tremaining: 12.2s\n",
      "197:\tlearn: 0.4133000\ttotal: 3.02s\tremaining: 12.2s\n",
      "198:\tlearn: 0.4132635\ttotal: 3.03s\tremaining: 12.2s\n",
      "199:\tlearn: 0.4132318\ttotal: 3.05s\tremaining: 12.2s\n",
      "200:\tlearn: 0.4132074\ttotal: 3.06s\tremaining: 12.2s\n",
      "201:\tlearn: 0.4131759\ttotal: 3.07s\tremaining: 12.1s\n",
      "202:\tlearn: 0.4131628\ttotal: 3.09s\tremaining: 12.1s\n",
      "203:\tlearn: 0.4131393\ttotal: 3.1s\tremaining: 12.1s\n",
      "204:\tlearn: 0.4131143\ttotal: 3.12s\tremaining: 12.1s\n",
      "205:\tlearn: 0.4130938\ttotal: 3.13s\tremaining: 12.1s\n",
      "206:\tlearn: 0.4130660\ttotal: 3.14s\tremaining: 12s\n",
      "207:\tlearn: 0.4130214\ttotal: 3.16s\tremaining: 12s\n",
      "208:\tlearn: 0.4129922\ttotal: 3.18s\tremaining: 12s\n",
      "209:\tlearn: 0.4129577\ttotal: 3.19s\tremaining: 12s\n",
      "210:\tlearn: 0.4129390\ttotal: 3.21s\tremaining: 12s\n",
      "211:\tlearn: 0.4128973\ttotal: 3.23s\tremaining: 12s\n",
      "212:\tlearn: 0.4128765\ttotal: 3.25s\tremaining: 12s\n",
      "213:\tlearn: 0.4128566\ttotal: 3.26s\tremaining: 12s\n",
      "214:\tlearn: 0.4128441\ttotal: 3.28s\tremaining: 12s\n",
      "215:\tlearn: 0.4128250\ttotal: 3.29s\tremaining: 12s\n",
      "216:\tlearn: 0.4128064\ttotal: 3.31s\tremaining: 11.9s\n",
      "217:\tlearn: 0.4127794\ttotal: 3.32s\tremaining: 11.9s\n",
      "218:\tlearn: 0.4127544\ttotal: 3.34s\tremaining: 11.9s\n",
      "219:\tlearn: 0.4127328\ttotal: 3.35s\tremaining: 11.9s\n",
      "220:\tlearn: 0.4127139\ttotal: 3.36s\tremaining: 11.9s\n",
      "221:\tlearn: 0.4126914\ttotal: 3.39s\tremaining: 11.9s\n",
      "222:\tlearn: 0.4126598\ttotal: 3.41s\tremaining: 11.9s\n",
      "223:\tlearn: 0.4125667\ttotal: 3.42s\tremaining: 11.9s\n",
      "224:\tlearn: 0.4125399\ttotal: 3.44s\tremaining: 11.9s\n",
      "225:\tlearn: 0.4125259\ttotal: 3.46s\tremaining: 11.8s\n",
      "226:\tlearn: 0.4125076\ttotal: 3.48s\tremaining: 11.8s\n",
      "227:\tlearn: 0.4124868\ttotal: 3.49s\tremaining: 11.8s\n",
      "228:\tlearn: 0.4124480\ttotal: 3.51s\tremaining: 11.8s\n",
      "229:\tlearn: 0.4124061\ttotal: 3.53s\tremaining: 11.8s\n",
      "230:\tlearn: 0.4123652\ttotal: 3.6s\tremaining: 12s\n",
      "231:\tlearn: 0.4123293\ttotal: 3.67s\tremaining: 12.2s\n",
      "232:\tlearn: 0.4123128\ttotal: 3.71s\tremaining: 12.2s\n",
      "233:\tlearn: 0.4122929\ttotal: 3.77s\tremaining: 12.3s\n",
      "234:\tlearn: 0.4122647\ttotal: 3.8s\tremaining: 12.4s\n",
      "235:\tlearn: 0.4122487\ttotal: 3.84s\tremaining: 12.4s\n",
      "236:\tlearn: 0.4122290\ttotal: 3.87s\tremaining: 12.4s\n",
      "237:\tlearn: 0.4122065\ttotal: 3.9s\tremaining: 12.5s\n",
      "238:\tlearn: 0.4121893\ttotal: 3.94s\tremaining: 12.5s\n",
      "239:\tlearn: 0.4121711\ttotal: 3.98s\tremaining: 12.6s\n",
      "240:\tlearn: 0.4121535\ttotal: 4.03s\tremaining: 12.7s\n",
      "241:\tlearn: 0.4121216\ttotal: 4.08s\tremaining: 12.8s\n",
      "242:\tlearn: 0.4120994\ttotal: 4.11s\tremaining: 12.8s\n",
      "243:\tlearn: 0.4120631\ttotal: 4.13s\tremaining: 12.8s\n",
      "244:\tlearn: 0.4120220\ttotal: 4.15s\tremaining: 12.8s\n",
      "245:\tlearn: 0.4119920\ttotal: 4.16s\tremaining: 12.8s\n",
      "246:\tlearn: 0.4119665\ttotal: 4.18s\tremaining: 12.7s\n",
      "247:\tlearn: 0.4119224\ttotal: 4.19s\tremaining: 12.7s\n",
      "248:\tlearn: 0.4118957\ttotal: 4.21s\tremaining: 12.7s\n",
      "249:\tlearn: 0.4118648\ttotal: 4.22s\tremaining: 12.7s\n",
      "250:\tlearn: 0.4117888\ttotal: 4.24s\tremaining: 12.6s\n",
      "251:\tlearn: 0.4117769\ttotal: 4.25s\tremaining: 12.6s\n",
      "252:\tlearn: 0.4117592\ttotal: 4.29s\tremaining: 12.7s\n",
      "253:\tlearn: 0.4117156\ttotal: 4.31s\tremaining: 12.7s\n",
      "254:\tlearn: 0.4117034\ttotal: 4.33s\tremaining: 12.6s\n",
      "255:\tlearn: 0.4116736\ttotal: 4.34s\tremaining: 12.6s\n",
      "256:\tlearn: 0.4116476\ttotal: 4.35s\tremaining: 12.6s\n",
      "257:\tlearn: 0.4116088\ttotal: 4.37s\tremaining: 12.6s\n",
      "258:\tlearn: 0.4115803\ttotal: 4.38s\tremaining: 12.5s\n",
      "259:\tlearn: 0.4115694\ttotal: 4.39s\tremaining: 12.5s\n",
      "260:\tlearn: 0.4115570\ttotal: 4.41s\tremaining: 12.5s\n",
      "261:\tlearn: 0.4115295\ttotal: 4.42s\tremaining: 12.5s\n",
      "262:\tlearn: 0.4114997\ttotal: 4.43s\tremaining: 12.4s\n",
      "263:\tlearn: 0.4114832\ttotal: 4.45s\tremaining: 12.4s\n",
      "264:\tlearn: 0.4114682\ttotal: 4.46s\tremaining: 12.4s\n",
      "265:\tlearn: 0.4114593\ttotal: 4.47s\tremaining: 12.3s\n",
      "266:\tlearn: 0.4114359\ttotal: 4.49s\tremaining: 12.3s\n",
      "267:\tlearn: 0.4114065\ttotal: 4.5s\tremaining: 12.3s\n",
      "268:\tlearn: 0.4113741\ttotal: 4.51s\tremaining: 12.3s\n",
      "269:\tlearn: 0.4113492\ttotal: 4.53s\tremaining: 12.2s\n",
      "270:\tlearn: 0.4113232\ttotal: 4.54s\tremaining: 12.2s\n",
      "271:\tlearn: 0.4112819\ttotal: 4.55s\tremaining: 12.2s\n",
      "272:\tlearn: 0.4112629\ttotal: 4.57s\tremaining: 12.2s\n",
      "273:\tlearn: 0.4112419\ttotal: 4.58s\tremaining: 12.1s\n",
      "274:\tlearn: 0.4112198\ttotal: 4.59s\tremaining: 12.1s\n",
      "275:\tlearn: 0.4111965\ttotal: 4.61s\tremaining: 12.1s\n",
      "276:\tlearn: 0.4111760\ttotal: 4.63s\tremaining: 12.1s\n",
      "277:\tlearn: 0.4111542\ttotal: 4.64s\tremaining: 12.1s\n",
      "278:\tlearn: 0.4111241\ttotal: 4.66s\tremaining: 12s\n",
      "279:\tlearn: 0.4111004\ttotal: 4.67s\tremaining: 12s\n",
      "280:\tlearn: 0.4110794\ttotal: 4.69s\tremaining: 12s\n",
      "281:\tlearn: 0.4110635\ttotal: 4.71s\tremaining: 12s\n",
      "282:\tlearn: 0.4110393\ttotal: 4.72s\tremaining: 12s\n",
      "283:\tlearn: 0.4110232\ttotal: 4.74s\tremaining: 12s\n",
      "284:\tlearn: 0.4109924\ttotal: 4.76s\tremaining: 11.9s\n",
      "285:\tlearn: 0.4109622\ttotal: 4.78s\tremaining: 11.9s\n",
      "286:\tlearn: 0.4109326\ttotal: 4.79s\tremaining: 11.9s\n",
      "287:\tlearn: 0.4109156\ttotal: 4.8s\tremaining: 11.9s\n",
      "288:\tlearn: 0.4108834\ttotal: 4.82s\tremaining: 11.9s\n",
      "289:\tlearn: 0.4108693\ttotal: 4.83s\tremaining: 11.8s\n",
      "290:\tlearn: 0.4108541\ttotal: 4.84s\tremaining: 11.8s\n",
      "291:\tlearn: 0.4108199\ttotal: 4.86s\tremaining: 11.8s\n",
      "292:\tlearn: 0.4107939\ttotal: 4.87s\tremaining: 11.8s\n",
      "293:\tlearn: 0.4107044\ttotal: 4.89s\tremaining: 11.7s\n",
      "294:\tlearn: 0.4106802\ttotal: 4.91s\tremaining: 11.7s\n",
      "295:\tlearn: 0.4106509\ttotal: 4.92s\tremaining: 11.7s\n",
      "296:\tlearn: 0.4106278\ttotal: 4.94s\tremaining: 11.7s\n",
      "297:\tlearn: 0.4105901\ttotal: 4.95s\tremaining: 11.7s\n",
      "298:\tlearn: 0.4105720\ttotal: 4.97s\tremaining: 11.6s\n",
      "299:\tlearn: 0.4105431\ttotal: 4.98s\tremaining: 11.6s\n",
      "300:\tlearn: 0.4105236\ttotal: 4.99s\tremaining: 11.6s\n",
      "301:\tlearn: 0.4104886\ttotal: 5.01s\tremaining: 11.6s\n",
      "302:\tlearn: 0.4104751\ttotal: 5.02s\tremaining: 11.6s\n",
      "303:\tlearn: 0.4104551\ttotal: 5.04s\tremaining: 11.5s\n",
      "304:\tlearn: 0.4104380\ttotal: 5.06s\tremaining: 11.5s\n",
      "305:\tlearn: 0.4104191\ttotal: 5.07s\tremaining: 11.5s\n",
      "306:\tlearn: 0.4103897\ttotal: 5.09s\tremaining: 11.5s\n",
      "307:\tlearn: 0.4103618\ttotal: 5.1s\tremaining: 11.5s\n",
      "308:\tlearn: 0.4103477\ttotal: 5.12s\tremaining: 11.4s\n",
      "309:\tlearn: 0.4103241\ttotal: 5.13s\tremaining: 11.4s\n",
      "310:\tlearn: 0.4103032\ttotal: 5.14s\tremaining: 11.4s\n",
      "311:\tlearn: 0.4102937\ttotal: 5.16s\tremaining: 11.4s\n",
      "312:\tlearn: 0.4102674\ttotal: 5.17s\tremaining: 11.3s\n",
      "313:\tlearn: 0.4102532\ttotal: 5.18s\tremaining: 11.3s\n",
      "314:\tlearn: 0.4102249\ttotal: 5.2s\tremaining: 11.3s\n",
      "315:\tlearn: 0.4102140\ttotal: 5.21s\tremaining: 11.3s\n",
      "316:\tlearn: 0.4101978\ttotal: 5.22s\tremaining: 11.3s\n",
      "317:\tlearn: 0.4101441\ttotal: 5.24s\tremaining: 11.2s\n",
      "318:\tlearn: 0.4101158\ttotal: 5.26s\tremaining: 11.2s\n",
      "319:\tlearn: 0.4100919\ttotal: 5.28s\tremaining: 11.2s\n",
      "320:\tlearn: 0.4100630\ttotal: 5.3s\tremaining: 11.2s\n",
      "321:\tlearn: 0.4100428\ttotal: 5.31s\tremaining: 11.2s\n",
      "322:\tlearn: 0.4100128\ttotal: 5.33s\tremaining: 11.2s\n",
      "323:\tlearn: 0.4099754\ttotal: 5.34s\tremaining: 11.1s\n",
      "324:\tlearn: 0.4099531\ttotal: 5.36s\tremaining: 11.1s\n",
      "325:\tlearn: 0.4099384\ttotal: 5.37s\tremaining: 11.1s\n",
      "326:\tlearn: 0.4099270\ttotal: 5.38s\tremaining: 11.1s\n",
      "327:\tlearn: 0.4099171\ttotal: 5.4s\tremaining: 11.1s\n"
     ]
    },
    {
     "name": "stdout",
     "output_type": "stream",
     "text": [
      "328:\tlearn: 0.4098916\ttotal: 5.42s\tremaining: 11.1s\n",
      "329:\tlearn: 0.4098740\ttotal: 5.43s\tremaining: 11s\n",
      "330:\tlearn: 0.4098551\ttotal: 5.45s\tremaining: 11s\n",
      "331:\tlearn: 0.4098352\ttotal: 5.46s\tremaining: 11s\n",
      "332:\tlearn: 0.4098132\ttotal: 5.47s\tremaining: 11s\n",
      "333:\tlearn: 0.4097977\ttotal: 5.49s\tremaining: 10.9s\n",
      "334:\tlearn: 0.4097802\ttotal: 5.5s\tremaining: 10.9s\n",
      "335:\tlearn: 0.4097629\ttotal: 5.51s\tremaining: 10.9s\n",
      "336:\tlearn: 0.4097445\ttotal: 5.53s\tremaining: 10.9s\n",
      "337:\tlearn: 0.4097214\ttotal: 5.54s\tremaining: 10.9s\n",
      "338:\tlearn: 0.4097023\ttotal: 5.56s\tremaining: 10.8s\n",
      "339:\tlearn: 0.4096935\ttotal: 5.58s\tremaining: 10.8s\n",
      "340:\tlearn: 0.4096621\ttotal: 5.59s\tremaining: 10.8s\n",
      "341:\tlearn: 0.4096454\ttotal: 5.61s\tremaining: 10.8s\n",
      "342:\tlearn: 0.4096183\ttotal: 5.62s\tremaining: 10.8s\n",
      "343:\tlearn: 0.4095987\ttotal: 5.63s\tremaining: 10.7s\n",
      "344:\tlearn: 0.4095786\ttotal: 5.65s\tremaining: 10.7s\n",
      "345:\tlearn: 0.4095643\ttotal: 5.66s\tremaining: 10.7s\n",
      "346:\tlearn: 0.4095494\ttotal: 5.67s\tremaining: 10.7s\n",
      "347:\tlearn: 0.4095352\ttotal: 5.69s\tremaining: 10.7s\n",
      "348:\tlearn: 0.4095144\ttotal: 5.7s\tremaining: 10.6s\n",
      "349:\tlearn: 0.4094356\ttotal: 5.71s\tremaining: 10.6s\n",
      "350:\tlearn: 0.4094156\ttotal: 5.73s\tremaining: 10.6s\n",
      "351:\tlearn: 0.4094033\ttotal: 5.74s\tremaining: 10.6s\n",
      "352:\tlearn: 0.4093831\ttotal: 5.75s\tremaining: 10.5s\n",
      "353:\tlearn: 0.4093667\ttotal: 5.77s\tremaining: 10.5s\n",
      "354:\tlearn: 0.4093456\ttotal: 5.79s\tremaining: 10.5s\n",
      "355:\tlearn: 0.4093324\ttotal: 5.8s\tremaining: 10.5s\n",
      "356:\tlearn: 0.4093072\ttotal: 5.82s\tremaining: 10.5s\n",
      "357:\tlearn: 0.4092839\ttotal: 5.83s\tremaining: 10.5s\n",
      "358:\tlearn: 0.4092677\ttotal: 5.84s\tremaining: 10.4s\n",
      "359:\tlearn: 0.4092530\ttotal: 5.86s\tremaining: 10.4s\n",
      "360:\tlearn: 0.4092388\ttotal: 5.87s\tremaining: 10.4s\n",
      "361:\tlearn: 0.4092154\ttotal: 5.88s\tremaining: 10.4s\n",
      "362:\tlearn: 0.4091843\ttotal: 5.9s\tremaining: 10.3s\n",
      "363:\tlearn: 0.4091635\ttotal: 5.91s\tremaining: 10.3s\n",
      "364:\tlearn: 0.4091509\ttotal: 5.93s\tremaining: 10.3s\n",
      "365:\tlearn: 0.4091211\ttotal: 5.95s\tremaining: 10.3s\n",
      "366:\tlearn: 0.4091045\ttotal: 5.97s\tremaining: 10.3s\n",
      "367:\tlearn: 0.4090598\ttotal: 5.99s\tremaining: 10.3s\n",
      "368:\tlearn: 0.4090407\ttotal: 6.01s\tremaining: 10.3s\n",
      "369:\tlearn: 0.4090265\ttotal: 6.03s\tremaining: 10.3s\n",
      "370:\tlearn: 0.4090144\ttotal: 6.05s\tremaining: 10.3s\n",
      "371:\tlearn: 0.4089909\ttotal: 6.07s\tremaining: 10.2s\n",
      "372:\tlearn: 0.4089822\ttotal: 6.08s\tremaining: 10.2s\n",
      "373:\tlearn: 0.4089128\ttotal: 6.1s\tremaining: 10.2s\n",
      "374:\tlearn: 0.4088847\ttotal: 6.12s\tremaining: 10.2s\n",
      "375:\tlearn: 0.4088638\ttotal: 6.14s\tremaining: 10.2s\n",
      "376:\tlearn: 0.4088411\ttotal: 6.18s\tremaining: 10.2s\n",
      "377:\tlearn: 0.4088213\ttotal: 6.21s\tremaining: 10.2s\n",
      "378:\tlearn: 0.4087960\ttotal: 6.24s\tremaining: 10.2s\n",
      "379:\tlearn: 0.4087753\ttotal: 6.25s\tremaining: 10.2s\n",
      "380:\tlearn: 0.4087505\ttotal: 6.26s\tremaining: 10.2s\n",
      "381:\tlearn: 0.4087306\ttotal: 6.28s\tremaining: 10.2s\n",
      "382:\tlearn: 0.4087196\ttotal: 6.29s\tremaining: 10.1s\n",
      "383:\tlearn: 0.4086985\ttotal: 6.31s\tremaining: 10.1s\n",
      "384:\tlearn: 0.4086775\ttotal: 6.34s\tremaining: 10.1s\n",
      "385:\tlearn: 0.4086587\ttotal: 6.36s\tremaining: 10.1s\n",
      "386:\tlearn: 0.4086414\ttotal: 6.37s\tremaining: 10.1s\n",
      "387:\tlearn: 0.4085804\ttotal: 6.38s\tremaining: 10.1s\n",
      "388:\tlearn: 0.4085622\ttotal: 6.39s\tremaining: 10s\n",
      "389:\tlearn: 0.4085450\ttotal: 6.41s\tremaining: 10s\n",
      "390:\tlearn: 0.4085304\ttotal: 6.42s\tremaining: 10s\n",
      "391:\tlearn: 0.4084990\ttotal: 6.43s\tremaining: 9.98s\n",
      "392:\tlearn: 0.4084627\ttotal: 6.45s\tremaining: 9.96s\n",
      "393:\tlearn: 0.4084479\ttotal: 6.46s\tremaining: 9.94s\n",
      "394:\tlearn: 0.4084363\ttotal: 6.47s\tremaining: 9.91s\n",
      "395:\tlearn: 0.4084110\ttotal: 6.49s\tremaining: 9.89s\n",
      "396:\tlearn: 0.4083919\ttotal: 6.5s\tremaining: 9.87s\n",
      "397:\tlearn: 0.4083816\ttotal: 6.51s\tremaining: 9.85s\n",
      "398:\tlearn: 0.4083663\ttotal: 6.53s\tremaining: 9.83s\n",
      "399:\tlearn: 0.4083469\ttotal: 6.54s\tremaining: 9.82s\n",
      "400:\tlearn: 0.4083311\ttotal: 6.56s\tremaining: 9.8s\n",
      "401:\tlearn: 0.4083163\ttotal: 6.57s\tremaining: 9.77s\n",
      "402:\tlearn: 0.4083079\ttotal: 6.58s\tremaining: 9.75s\n",
      "403:\tlearn: 0.4082833\ttotal: 6.6s\tremaining: 9.73s\n",
      "404:\tlearn: 0.4082660\ttotal: 6.61s\tremaining: 9.71s\n",
      "405:\tlearn: 0.4082507\ttotal: 6.63s\tremaining: 9.69s\n",
      "406:\tlearn: 0.4082328\ttotal: 6.64s\tremaining: 9.68s\n",
      "407:\tlearn: 0.4082129\ttotal: 6.65s\tremaining: 9.65s\n",
      "408:\tlearn: 0.4081874\ttotal: 6.67s\tremaining: 9.64s\n",
      "409:\tlearn: 0.4081644\ttotal: 6.69s\tremaining: 9.63s\n",
      "410:\tlearn: 0.4081503\ttotal: 6.7s\tremaining: 9.61s\n",
      "411:\tlearn: 0.4081270\ttotal: 6.71s\tremaining: 9.58s\n",
      "412:\tlearn: 0.4081075\ttotal: 6.73s\tremaining: 9.56s\n",
      "413:\tlearn: 0.4080863\ttotal: 6.74s\tremaining: 9.54s\n",
      "414:\tlearn: 0.4080728\ttotal: 6.75s\tremaining: 9.52s\n",
      "415:\tlearn: 0.4080539\ttotal: 6.76s\tremaining: 9.5s\n",
      "416:\tlearn: 0.4080446\ttotal: 6.78s\tremaining: 9.48s\n",
      "417:\tlearn: 0.4080235\ttotal: 6.79s\tremaining: 9.46s\n",
      "418:\tlearn: 0.4080066\ttotal: 6.8s\tremaining: 9.44s\n",
      "419:\tlearn: 0.4079884\ttotal: 6.82s\tremaining: 9.41s\n",
      "420:\tlearn: 0.4079684\ttotal: 6.83s\tremaining: 9.4s\n",
      "421:\tlearn: 0.4079559\ttotal: 6.85s\tremaining: 9.38s\n",
      "422:\tlearn: 0.4079478\ttotal: 6.87s\tremaining: 9.37s\n",
      "423:\tlearn: 0.4079454\ttotal: 6.88s\tremaining: 9.35s\n",
      "424:\tlearn: 0.4079295\ttotal: 6.9s\tremaining: 9.33s\n",
      "425:\tlearn: 0.4079153\ttotal: 6.91s\tremaining: 9.31s\n",
      "426:\tlearn: 0.4078934\ttotal: 6.92s\tremaining: 9.29s\n",
      "427:\tlearn: 0.4078850\ttotal: 6.94s\tremaining: 9.27s\n",
      "428:\tlearn: 0.4078708\ttotal: 6.95s\tremaining: 9.25s\n",
      "429:\tlearn: 0.4078557\ttotal: 6.96s\tremaining: 9.23s\n",
      "430:\tlearn: 0.4078374\ttotal: 6.98s\tremaining: 9.21s\n",
      "431:\tlearn: 0.4078142\ttotal: 6.99s\tremaining: 9.19s\n",
      "432:\tlearn: 0.4077994\ttotal: 7s\tremaining: 9.17s\n",
      "433:\tlearn: 0.4077717\ttotal: 7.02s\tremaining: 9.15s\n",
      "434:\tlearn: 0.4077557\ttotal: 7.04s\tremaining: 9.14s\n",
      "435:\tlearn: 0.4077398\ttotal: 7.06s\tremaining: 9.13s\n",
      "436:\tlearn: 0.4077223\ttotal: 7.08s\tremaining: 9.12s\n",
      "437:\tlearn: 0.4076995\ttotal: 7.09s\tremaining: 9.1s\n",
      "438:\tlearn: 0.4076781\ttotal: 7.11s\tremaining: 9.09s\n",
      "439:\tlearn: 0.4076636\ttotal: 7.13s\tremaining: 9.07s\n",
      "440:\tlearn: 0.4076262\ttotal: 7.14s\tremaining: 9.06s\n",
      "441:\tlearn: 0.4076008\ttotal: 7.16s\tremaining: 9.04s\n",
      "442:\tlearn: 0.4075663\ttotal: 7.18s\tremaining: 9.03s\n",
      "443:\tlearn: 0.4075454\ttotal: 7.2s\tremaining: 9.02s\n",
      "444:\tlearn: 0.4075318\ttotal: 7.21s\tremaining: 9s\n",
      "445:\tlearn: 0.4075109\ttotal: 7.23s\tremaining: 8.98s\n",
      "446:\tlearn: 0.4074996\ttotal: 7.25s\tremaining: 8.96s\n",
      "447:\tlearn: 0.4074795\ttotal: 7.26s\tremaining: 8.95s\n",
      "448:\tlearn: 0.4074634\ttotal: 7.28s\tremaining: 8.93s\n",
      "449:\tlearn: 0.4074447\ttotal: 7.29s\tremaining: 8.92s\n",
      "450:\tlearn: 0.4074243\ttotal: 7.31s\tremaining: 8.9s\n",
      "451:\tlearn: 0.4074065\ttotal: 7.33s\tremaining: 8.88s\n",
      "452:\tlearn: 0.4073925\ttotal: 7.34s\tremaining: 8.87s\n",
      "453:\tlearn: 0.4073722\ttotal: 7.37s\tremaining: 8.86s\n",
      "454:\tlearn: 0.4073532\ttotal: 7.39s\tremaining: 8.85s\n",
      "455:\tlearn: 0.4073416\ttotal: 7.41s\tremaining: 8.84s\n",
      "456:\tlearn: 0.4073264\ttotal: 7.43s\tremaining: 8.83s\n",
      "457:\tlearn: 0.4073146\ttotal: 7.44s\tremaining: 8.81s\n",
      "458:\tlearn: 0.4073026\ttotal: 7.46s\tremaining: 8.79s\n",
      "459:\tlearn: 0.4072900\ttotal: 7.48s\tremaining: 8.78s\n",
      "460:\tlearn: 0.4072733\ttotal: 7.49s\tremaining: 8.76s\n",
      "461:\tlearn: 0.4072573\ttotal: 7.51s\tremaining: 8.74s\n",
      "462:\tlearn: 0.4072446\ttotal: 7.52s\tremaining: 8.73s\n",
      "463:\tlearn: 0.4072326\ttotal: 7.55s\tremaining: 8.73s\n",
      "464:\tlearn: 0.4072199\ttotal: 7.58s\tremaining: 8.71s\n",
      "465:\tlearn: 0.4072003\ttotal: 7.6s\tremaining: 8.71s\n",
      "466:\tlearn: 0.4071800\ttotal: 7.61s\tremaining: 8.69s\n",
      "467:\tlearn: 0.4071700\ttotal: 7.63s\tremaining: 8.67s\n",
      "468:\tlearn: 0.4071448\ttotal: 7.65s\tremaining: 8.66s\n",
      "469:\tlearn: 0.4071210\ttotal: 7.67s\tremaining: 8.65s\n",
      "470:\tlearn: 0.4071152\ttotal: 7.68s\tremaining: 8.63s\n",
      "471:\tlearn: 0.4070874\ttotal: 7.7s\tremaining: 8.61s\n",
      "472:\tlearn: 0.4070719\ttotal: 7.71s\tremaining: 8.59s\n",
      "473:\tlearn: 0.4070538\ttotal: 7.73s\tremaining: 8.58s\n",
      "474:\tlearn: 0.4070299\ttotal: 7.74s\tremaining: 8.56s\n",
      "475:\tlearn: 0.4070143\ttotal: 7.76s\tremaining: 8.54s\n",
      "476:\tlearn: 0.4069970\ttotal: 7.77s\tremaining: 8.52s\n",
      "477:\tlearn: 0.4069851\ttotal: 7.78s\tremaining: 8.5s\n",
      "478:\tlearn: 0.4069731\ttotal: 7.8s\tremaining: 8.48s\n",
      "479:\tlearn: 0.4069325\ttotal: 7.82s\tremaining: 8.47s\n",
      "480:\tlearn: 0.4069224\ttotal: 7.83s\tremaining: 8.45s\n",
      "481:\tlearn: 0.4069036\ttotal: 7.85s\tremaining: 8.43s\n",
      "482:\tlearn: 0.4068756\ttotal: 7.87s\tremaining: 8.42s\n",
      "483:\tlearn: 0.4068548\ttotal: 7.89s\tremaining: 8.41s\n",
      "484:\tlearn: 0.4068416\ttotal: 7.92s\tremaining: 8.41s\n",
      "485:\tlearn: 0.4068290\ttotal: 7.94s\tremaining: 8.4s\n",
      "486:\tlearn: 0.4068147\ttotal: 7.96s\tremaining: 8.38s\n",
      "487:\tlearn: 0.4067995\ttotal: 7.97s\tremaining: 8.36s\n",
      "488:\tlearn: 0.4067881\ttotal: 7.99s\tremaining: 8.35s\n",
      "489:\tlearn: 0.4067785\ttotal: 8s\tremaining: 8.33s\n"
     ]
    },
    {
     "name": "stdout",
     "output_type": "stream",
     "text": [
      "490:\tlearn: 0.4067563\ttotal: 8.02s\tremaining: 8.32s\n",
      "491:\tlearn: 0.4067410\ttotal: 8.04s\tremaining: 8.3s\n",
      "492:\tlearn: 0.4067256\ttotal: 8.07s\tremaining: 8.29s\n",
      "493:\tlearn: 0.4067023\ttotal: 8.1s\tremaining: 8.3s\n",
      "494:\tlearn: 0.4066796\ttotal: 8.14s\tremaining: 8.31s\n",
      "495:\tlearn: 0.4066631\ttotal: 8.17s\tremaining: 8.31s\n",
      "496:\tlearn: 0.4066334\ttotal: 8.2s\tremaining: 8.3s\n",
      "497:\tlearn: 0.4066225\ttotal: 8.23s\tremaining: 8.29s\n",
      "498:\tlearn: 0.4066071\ttotal: 8.24s\tremaining: 8.27s\n",
      "499:\tlearn: 0.4065961\ttotal: 8.26s\tremaining: 8.26s\n",
      "500:\tlearn: 0.4065671\ttotal: 8.27s\tremaining: 8.24s\n",
      "501:\tlearn: 0.4065522\ttotal: 8.29s\tremaining: 8.22s\n",
      "502:\tlearn: 0.4065397\ttotal: 8.3s\tremaining: 8.2s\n",
      "503:\tlearn: 0.4065255\ttotal: 8.31s\tremaining: 8.18s\n",
      "504:\tlearn: 0.4065047\ttotal: 8.33s\tremaining: 8.16s\n",
      "505:\tlearn: 0.4064941\ttotal: 8.34s\tremaining: 8.14s\n",
      "506:\tlearn: 0.4064720\ttotal: 8.36s\tremaining: 8.13s\n",
      "507:\tlearn: 0.4064513\ttotal: 8.37s\tremaining: 8.11s\n",
      "508:\tlearn: 0.4064335\ttotal: 8.38s\tremaining: 8.09s\n",
      "509:\tlearn: 0.4064159\ttotal: 8.4s\tremaining: 8.07s\n",
      "510:\tlearn: 0.4064103\ttotal: 8.41s\tremaining: 8.05s\n",
      "511:\tlearn: 0.4063972\ttotal: 8.45s\tremaining: 8.06s\n",
      "512:\tlearn: 0.4063831\ttotal: 8.47s\tremaining: 8.04s\n",
      "513:\tlearn: 0.4063683\ttotal: 8.49s\tremaining: 8.03s\n",
      "514:\tlearn: 0.4063584\ttotal: 8.51s\tremaining: 8.01s\n",
      "515:\tlearn: 0.4063423\ttotal: 8.54s\tremaining: 8.01s\n",
      "516:\tlearn: 0.4063286\ttotal: 8.58s\tremaining: 8.02s\n",
      "517:\tlearn: 0.4063077\ttotal: 8.6s\tremaining: 8s\n",
      "518:\tlearn: 0.4063000\ttotal: 8.62s\tremaining: 7.99s\n",
      "519:\tlearn: 0.4062863\ttotal: 8.65s\tremaining: 7.98s\n",
      "520:\tlearn: 0.4062766\ttotal: 8.68s\tremaining: 7.98s\n",
      "521:\tlearn: 0.4062605\ttotal: 8.71s\tremaining: 7.98s\n",
      "522:\tlearn: 0.4062462\ttotal: 8.74s\tremaining: 7.97s\n",
      "523:\tlearn: 0.4062328\ttotal: 8.76s\tremaining: 7.96s\n",
      "524:\tlearn: 0.4062195\ttotal: 8.79s\tremaining: 7.95s\n",
      "525:\tlearn: 0.4062134\ttotal: 8.8s\tremaining: 7.93s\n",
      "526:\tlearn: 0.4061982\ttotal: 8.82s\tremaining: 7.92s\n",
      "527:\tlearn: 0.4061785\ttotal: 8.84s\tremaining: 7.9s\n",
      "528:\tlearn: 0.4061599\ttotal: 8.86s\tremaining: 7.88s\n",
      "529:\tlearn: 0.4061417\ttotal: 8.87s\tremaining: 7.87s\n",
      "530:\tlearn: 0.4061307\ttotal: 8.89s\tremaining: 7.86s\n",
      "531:\tlearn: 0.4061188\ttotal: 8.92s\tremaining: 7.84s\n",
      "532:\tlearn: 0.4061013\ttotal: 8.97s\tremaining: 7.86s\n",
      "533:\tlearn: 0.4060578\ttotal: 9.1s\tremaining: 7.94s\n",
      "534:\tlearn: 0.4060467\ttotal: 9.29s\tremaining: 8.07s\n",
      "535:\tlearn: 0.4060388\ttotal: 9.45s\tremaining: 8.18s\n",
      "536:\tlearn: 0.4060117\ttotal: 9.59s\tremaining: 8.27s\n",
      "537:\tlearn: 0.4060042\ttotal: 9.71s\tremaining: 8.34s\n",
      "538:\tlearn: 0.4059907\ttotal: 9.8s\tremaining: 8.39s\n",
      "539:\tlearn: 0.4059742\ttotal: 9.87s\tremaining: 8.41s\n",
      "540:\tlearn: 0.4059566\ttotal: 9.93s\tremaining: 8.42s\n",
      "541:\tlearn: 0.4059405\ttotal: 9.97s\tremaining: 8.43s\n",
      "542:\tlearn: 0.4059219\ttotal: 10s\tremaining: 8.44s\n",
      "543:\tlearn: 0.4059035\ttotal: 10.1s\tremaining: 8.44s\n",
      "544:\tlearn: 0.4058852\ttotal: 10.1s\tremaining: 8.44s\n",
      "545:\tlearn: 0.4058741\ttotal: 10.1s\tremaining: 8.44s\n",
      "546:\tlearn: 0.4058602\ttotal: 10.2s\tremaining: 8.44s\n",
      "547:\tlearn: 0.4058433\ttotal: 10.2s\tremaining: 8.43s\n",
      "548:\tlearn: 0.4058311\ttotal: 10.2s\tremaining: 8.41s\n",
      "549:\tlearn: 0.4058153\ttotal: 10.3s\tremaining: 8.39s\n",
      "550:\tlearn: 0.4058019\ttotal: 10.3s\tremaining: 8.37s\n",
      "551:\tlearn: 0.4057855\ttotal: 10.3s\tremaining: 8.35s\n",
      "552:\tlearn: 0.4057672\ttotal: 10.3s\tremaining: 8.34s\n",
      "553:\tlearn: 0.4057554\ttotal: 10.3s\tremaining: 8.32s\n",
      "554:\tlearn: 0.4057438\ttotal: 10.3s\tremaining: 8.3s\n",
      "555:\tlearn: 0.4057189\ttotal: 10.4s\tremaining: 8.28s\n",
      "556:\tlearn: 0.4056987\ttotal: 10.4s\tremaining: 8.26s\n",
      "557:\tlearn: 0.4056821\ttotal: 10.4s\tremaining: 8.24s\n",
      "558:\tlearn: 0.4056649\ttotal: 10.4s\tremaining: 8.22s\n",
      "559:\tlearn: 0.4056510\ttotal: 10.4s\tremaining: 8.2s\n",
      "560:\tlearn: 0.4056377\ttotal: 10.5s\tremaining: 8.18s\n",
      "561:\tlearn: 0.4056317\ttotal: 10.5s\tremaining: 8.16s\n",
      "562:\tlearn: 0.4056197\ttotal: 10.5s\tremaining: 8.14s\n",
      "563:\tlearn: 0.4055974\ttotal: 10.5s\tremaining: 8.13s\n",
      "564:\tlearn: 0.4055771\ttotal: 10.5s\tremaining: 8.11s\n",
      "565:\tlearn: 0.4055429\ttotal: 10.6s\tremaining: 8.1s\n",
      "566:\tlearn: 0.4055269\ttotal: 10.6s\tremaining: 8.08s\n",
      "567:\tlearn: 0.4054996\ttotal: 10.6s\tremaining: 8.07s\n",
      "568:\tlearn: 0.4054837\ttotal: 10.6s\tremaining: 8.05s\n",
      "569:\tlearn: 0.4054735\ttotal: 10.6s\tremaining: 8.03s\n",
      "570:\tlearn: 0.4054580\ttotal: 10.7s\tremaining: 8.01s\n",
      "571:\tlearn: 0.4054391\ttotal: 10.7s\tremaining: 7.99s\n",
      "572:\tlearn: 0.4054335\ttotal: 10.7s\tremaining: 7.97s\n",
      "573:\tlearn: 0.4054189\ttotal: 10.7s\tremaining: 7.96s\n",
      "574:\tlearn: 0.4054034\ttotal: 10.7s\tremaining: 7.94s\n",
      "575:\tlearn: 0.4053860\ttotal: 10.8s\tremaining: 7.92s\n",
      "576:\tlearn: 0.4053774\ttotal: 10.8s\tremaining: 7.9s\n",
      "577:\tlearn: 0.4053574\ttotal: 10.8s\tremaining: 7.88s\n",
      "578:\tlearn: 0.4053495\ttotal: 10.8s\tremaining: 7.86s\n",
      "579:\tlearn: 0.4053421\ttotal: 10.8s\tremaining: 7.84s\n",
      "580:\tlearn: 0.4053331\ttotal: 10.8s\tremaining: 7.82s\n",
      "581:\tlearn: 0.4053229\ttotal: 10.9s\tremaining: 7.8s\n",
      "582:\tlearn: 0.4053126\ttotal: 10.9s\tremaining: 7.79s\n",
      "583:\tlearn: 0.4053021\ttotal: 10.9s\tremaining: 7.76s\n",
      "584:\tlearn: 0.4052974\ttotal: 10.9s\tremaining: 7.75s\n",
      "585:\tlearn: 0.4052803\ttotal: 10.9s\tremaining: 7.73s\n",
      "586:\tlearn: 0.4052647\ttotal: 11s\tremaining: 7.71s\n",
      "587:\tlearn: 0.4052482\ttotal: 11s\tremaining: 7.69s\n",
      "588:\tlearn: 0.4052324\ttotal: 11s\tremaining: 7.67s\n",
      "589:\tlearn: 0.4052179\ttotal: 11s\tremaining: 7.64s\n",
      "590:\tlearn: 0.4051937\ttotal: 11s\tremaining: 7.63s\n",
      "591:\tlearn: 0.4051751\ttotal: 11s\tremaining: 7.61s\n",
      "592:\tlearn: 0.4051664\ttotal: 11.1s\tremaining: 7.6s\n",
      "593:\tlearn: 0.4051524\ttotal: 11.1s\tremaining: 7.58s\n",
      "594:\tlearn: 0.4051410\ttotal: 11.1s\tremaining: 7.56s\n",
      "595:\tlearn: 0.4051292\ttotal: 11.1s\tremaining: 7.54s\n",
      "596:\tlearn: 0.4051151\ttotal: 11.1s\tremaining: 7.52s\n",
      "597:\tlearn: 0.4051042\ttotal: 11.2s\tremaining: 7.5s\n",
      "598:\tlearn: 0.4050950\ttotal: 11.2s\tremaining: 7.48s\n",
      "599:\tlearn: 0.4050812\ttotal: 11.2s\tremaining: 7.46s\n",
      "600:\tlearn: 0.4050647\ttotal: 11.3s\tremaining: 7.52s\n",
      "601:\tlearn: 0.4050625\ttotal: 11.5s\tremaining: 7.59s\n",
      "602:\tlearn: 0.4050532\ttotal: 11.7s\tremaining: 7.69s\n",
      "603:\tlearn: 0.4050423\ttotal: 11.8s\tremaining: 7.72s\n",
      "604:\tlearn: 0.4050242\ttotal: 11.8s\tremaining: 7.73s\n",
      "605:\tlearn: 0.4050132\ttotal: 11.9s\tremaining: 7.72s\n",
      "606:\tlearn: 0.4050039\ttotal: 11.9s\tremaining: 7.7s\n",
      "607:\tlearn: 0.4049988\ttotal: 11.9s\tremaining: 7.69s\n",
      "608:\tlearn: 0.4049871\ttotal: 11.9s\tremaining: 7.67s\n",
      "609:\tlearn: 0.4049743\ttotal: 12s\tremaining: 7.65s\n",
      "610:\tlearn: 0.4049581\ttotal: 12s\tremaining: 7.63s\n",
      "611:\tlearn: 0.4049562\ttotal: 12s\tremaining: 7.62s\n",
      "612:\tlearn: 0.4049437\ttotal: 12s\tremaining: 7.6s\n",
      "613:\tlearn: 0.4049321\ttotal: 12.1s\tremaining: 7.58s\n",
      "614:\tlearn: 0.4049167\ttotal: 12.1s\tremaining: 7.56s\n",
      "615:\tlearn: 0.4048786\ttotal: 12.1s\tremaining: 7.54s\n",
      "616:\tlearn: 0.4048659\ttotal: 12.1s\tremaining: 7.53s\n",
      "617:\tlearn: 0.4048494\ttotal: 12.1s\tremaining: 7.51s\n",
      "618:\tlearn: 0.4048378\ttotal: 12.2s\tremaining: 7.49s\n",
      "619:\tlearn: 0.4048248\ttotal: 12.2s\tremaining: 7.49s\n",
      "620:\tlearn: 0.4048111\ttotal: 12.2s\tremaining: 7.47s\n",
      "621:\tlearn: 0.4047922\ttotal: 12.3s\tremaining: 7.45s\n",
      "622:\tlearn: 0.4047855\ttotal: 12.3s\tremaining: 7.42s\n",
      "623:\tlearn: 0.4047681\ttotal: 12.3s\tremaining: 7.4s\n",
      "624:\tlearn: 0.4047516\ttotal: 12.3s\tremaining: 7.38s\n",
      "625:\tlearn: 0.4047383\ttotal: 12.3s\tremaining: 7.36s\n",
      "626:\tlearn: 0.4047182\ttotal: 12.3s\tremaining: 7.34s\n",
      "627:\tlearn: 0.4047122\ttotal: 12.4s\tremaining: 7.32s\n",
      "628:\tlearn: 0.4047021\ttotal: 12.4s\tremaining: 7.3s\n",
      "629:\tlearn: 0.4046786\ttotal: 12.4s\tremaining: 7.28s\n",
      "630:\tlearn: 0.4046628\ttotal: 12.4s\tremaining: 7.25s\n",
      "631:\tlearn: 0.4046534\ttotal: 12.4s\tremaining: 7.23s\n",
      "632:\tlearn: 0.4046439\ttotal: 12.4s\tremaining: 7.21s\n",
      "633:\tlearn: 0.4046249\ttotal: 12.4s\tremaining: 7.18s\n",
      "634:\tlearn: 0.4046058\ttotal: 12.5s\tremaining: 7.16s\n",
      "635:\tlearn: 0.4045941\ttotal: 12.5s\tremaining: 7.14s\n",
      "636:\tlearn: 0.4045796\ttotal: 12.5s\tremaining: 7.11s\n",
      "637:\tlearn: 0.4045712\ttotal: 12.5s\tremaining: 7.09s\n",
      "638:\tlearn: 0.4045618\ttotal: 12.5s\tremaining: 7.07s\n",
      "639:\tlearn: 0.4045517\ttotal: 12.5s\tremaining: 7.05s\n",
      "640:\tlearn: 0.4045443\ttotal: 12.6s\tremaining: 7.03s\n",
      "641:\tlearn: 0.4045270\ttotal: 12.6s\tremaining: 7.01s\n",
      "642:\tlearn: 0.4045160\ttotal: 12.6s\tremaining: 6.99s\n",
      "643:\tlearn: 0.4045056\ttotal: 12.6s\tremaining: 6.97s\n",
      "644:\tlearn: 0.4044840\ttotal: 12.7s\tremaining: 6.98s\n",
      "645:\tlearn: 0.4044762\ttotal: 12.7s\tremaining: 6.96s\n",
      "646:\tlearn: 0.4044630\ttotal: 12.7s\tremaining: 6.95s\n",
      "647:\tlearn: 0.4044438\ttotal: 12.8s\tremaining: 6.93s\n",
      "648:\tlearn: 0.4044297\ttotal: 12.8s\tremaining: 6.92s\n",
      "649:\tlearn: 0.4044185\ttotal: 12.8s\tremaining: 6.9s\n",
      "650:\tlearn: 0.4044089\ttotal: 12.8s\tremaining: 6.88s\n",
      "651:\tlearn: 0.4043868\ttotal: 12.9s\tremaining: 6.87s\n",
      "652:\tlearn: 0.4043728\ttotal: 12.9s\tremaining: 6.85s\n",
      "653:\tlearn: 0.4043595\ttotal: 12.9s\tremaining: 6.83s\n",
      "654:\tlearn: 0.4043408\ttotal: 12.9s\tremaining: 6.81s\n"
     ]
    },
    {
     "name": "stdout",
     "output_type": "stream",
     "text": [
      "655:\tlearn: 0.4043232\ttotal: 12.9s\tremaining: 6.79s\n",
      "656:\tlearn: 0.4043180\ttotal: 13s\tremaining: 6.77s\n",
      "657:\tlearn: 0.4043031\ttotal: 13s\tremaining: 6.74s\n",
      "658:\tlearn: 0.4042843\ttotal: 13s\tremaining: 6.73s\n",
      "659:\tlearn: 0.4042730\ttotal: 13s\tremaining: 6.71s\n",
      "660:\tlearn: 0.4042615\ttotal: 13.1s\tremaining: 6.7s\n",
      "661:\tlearn: 0.4042509\ttotal: 13.1s\tremaining: 6.69s\n",
      "662:\tlearn: 0.4042334\ttotal: 13.2s\tremaining: 6.72s\n",
      "663:\tlearn: 0.4042227\ttotal: 13.4s\tremaining: 6.76s\n",
      "664:\tlearn: 0.4042089\ttotal: 13.4s\tremaining: 6.74s\n",
      "665:\tlearn: 0.4041963\ttotal: 13.4s\tremaining: 6.73s\n",
      "666:\tlearn: 0.4041899\ttotal: 13.5s\tremaining: 6.73s\n",
      "667:\tlearn: 0.4041788\ttotal: 13.5s\tremaining: 6.71s\n",
      "668:\tlearn: 0.4041651\ttotal: 13.6s\tremaining: 6.71s\n",
      "669:\tlearn: 0.4041501\ttotal: 13.6s\tremaining: 6.69s\n",
      "670:\tlearn: 0.4041375\ttotal: 13.6s\tremaining: 6.67s\n",
      "671:\tlearn: 0.4041259\ttotal: 13.6s\tremaining: 6.65s\n",
      "672:\tlearn: 0.4041155\ttotal: 13.7s\tremaining: 6.64s\n",
      "673:\tlearn: 0.4041070\ttotal: 13.8s\tremaining: 6.65s\n",
      "674:\tlearn: 0.4040947\ttotal: 13.8s\tremaining: 6.64s\n",
      "675:\tlearn: 0.4040873\ttotal: 13.8s\tremaining: 6.62s\n",
      "676:\tlearn: 0.4040792\ttotal: 13.8s\tremaining: 6.6s\n",
      "677:\tlearn: 0.4040544\ttotal: 13.9s\tremaining: 6.58s\n",
      "678:\tlearn: 0.4040335\ttotal: 13.9s\tremaining: 6.57s\n",
      "679:\tlearn: 0.4040219\ttotal: 13.9s\tremaining: 6.54s\n",
      "680:\tlearn: 0.4040064\ttotal: 13.9s\tremaining: 6.52s\n",
      "681:\tlearn: 0.4039962\ttotal: 13.9s\tremaining: 6.5s\n",
      "682:\tlearn: 0.4039817\ttotal: 14s\tremaining: 6.48s\n",
      "683:\tlearn: 0.4039710\ttotal: 14s\tremaining: 6.46s\n",
      "684:\tlearn: 0.4039588\ttotal: 14s\tremaining: 6.43s\n",
      "685:\tlearn: 0.4039416\ttotal: 14s\tremaining: 6.41s\n",
      "686:\tlearn: 0.4039269\ttotal: 14s\tremaining: 6.39s\n",
      "687:\tlearn: 0.4039166\ttotal: 14s\tremaining: 6.37s\n",
      "688:\tlearn: 0.4039078\ttotal: 14.1s\tremaining: 6.34s\n",
      "689:\tlearn: 0.4038923\ttotal: 14.1s\tremaining: 6.32s\n",
      "690:\tlearn: 0.4038845\ttotal: 14.1s\tremaining: 6.3s\n",
      "691:\tlearn: 0.4038502\ttotal: 14.1s\tremaining: 6.27s\n",
      "692:\tlearn: 0.4038400\ttotal: 14.1s\tremaining: 6.25s\n",
      "693:\tlearn: 0.4038255\ttotal: 14.1s\tremaining: 6.23s\n",
      "694:\tlearn: 0.4038094\ttotal: 14.1s\tremaining: 6.21s\n",
      "695:\tlearn: 0.4038013\ttotal: 14.2s\tremaining: 6.19s\n",
      "696:\tlearn: 0.4037894\ttotal: 14.2s\tremaining: 6.17s\n",
      "697:\tlearn: 0.4037796\ttotal: 14.2s\tremaining: 6.14s\n",
      "698:\tlearn: 0.4037609\ttotal: 14.2s\tremaining: 6.12s\n",
      "699:\tlearn: 0.4037487\ttotal: 14.2s\tremaining: 6.1s\n",
      "700:\tlearn: 0.4037337\ttotal: 14.3s\tremaining: 6.08s\n",
      "701:\tlearn: 0.4037232\ttotal: 14.3s\tremaining: 6.06s\n",
      "702:\tlearn: 0.4037115\ttotal: 14.3s\tremaining: 6.04s\n",
      "703:\tlearn: 0.4036946\ttotal: 14.3s\tremaining: 6.01s\n",
      "704:\tlearn: 0.4036860\ttotal: 14.3s\tremaining: 5.99s\n",
      "705:\tlearn: 0.4036768\ttotal: 14.3s\tremaining: 5.97s\n",
      "706:\tlearn: 0.4036604\ttotal: 14.4s\tremaining: 5.95s\n",
      "707:\tlearn: 0.4036495\ttotal: 14.4s\tremaining: 5.93s\n",
      "708:\tlearn: 0.4036362\ttotal: 14.4s\tremaining: 5.91s\n",
      "709:\tlearn: 0.4036263\ttotal: 14.4s\tremaining: 5.89s\n",
      "710:\tlearn: 0.4036140\ttotal: 14.4s\tremaining: 5.87s\n",
      "711:\tlearn: 0.4036081\ttotal: 14.5s\tremaining: 5.85s\n",
      "712:\tlearn: 0.4036025\ttotal: 14.5s\tremaining: 5.83s\n",
      "713:\tlearn: 0.4035873\ttotal: 14.5s\tremaining: 5.81s\n",
      "714:\tlearn: 0.4035812\ttotal: 14.5s\tremaining: 5.79s\n",
      "715:\tlearn: 0.4035656\ttotal: 14.5s\tremaining: 5.77s\n",
      "716:\tlearn: 0.4035503\ttotal: 14.6s\tremaining: 5.75s\n",
      "717:\tlearn: 0.4035409\ttotal: 14.6s\tremaining: 5.73s\n",
      "718:\tlearn: 0.4035299\ttotal: 14.6s\tremaining: 5.71s\n",
      "719:\tlearn: 0.4035194\ttotal: 14.6s\tremaining: 5.69s\n",
      "720:\tlearn: 0.4035085\ttotal: 14.7s\tremaining: 5.67s\n",
      "721:\tlearn: 0.4034866\ttotal: 14.7s\tremaining: 5.66s\n",
      "722:\tlearn: 0.4034676\ttotal: 14.8s\tremaining: 5.65s\n",
      "723:\tlearn: 0.4034580\ttotal: 14.8s\tremaining: 5.64s\n",
      "724:\tlearn: 0.4034465\ttotal: 14.8s\tremaining: 5.62s\n",
      "725:\tlearn: 0.4034345\ttotal: 14.8s\tremaining: 5.59s\n",
      "726:\tlearn: 0.4034247\ttotal: 14.8s\tremaining: 5.57s\n",
      "727:\tlearn: 0.4034113\ttotal: 14.9s\tremaining: 5.56s\n",
      "728:\tlearn: 0.4033997\ttotal: 14.9s\tremaining: 5.54s\n",
      "729:\tlearn: 0.4033914\ttotal: 14.9s\tremaining: 5.52s\n",
      "730:\tlearn: 0.4033791\ttotal: 15s\tremaining: 5.5s\n",
      "731:\tlearn: 0.4033652\ttotal: 15s\tremaining: 5.48s\n",
      "732:\tlearn: 0.4033574\ttotal: 15s\tremaining: 5.46s\n",
      "733:\tlearn: 0.4033453\ttotal: 15s\tremaining: 5.45s\n",
      "734:\tlearn: 0.4033323\ttotal: 15.1s\tremaining: 5.43s\n",
      "735:\tlearn: 0.4033246\ttotal: 15.1s\tremaining: 5.4s\n",
      "736:\tlearn: 0.4033136\ttotal: 15.1s\tremaining: 5.38s\n",
      "737:\tlearn: 0.4032997\ttotal: 15.1s\tremaining: 5.36s\n",
      "738:\tlearn: 0.4032851\ttotal: 15.1s\tremaining: 5.34s\n",
      "739:\tlearn: 0.4032666\ttotal: 15.2s\tremaining: 5.33s\n",
      "740:\tlearn: 0.4032551\ttotal: 15.2s\tremaining: 5.33s\n",
      "741:\tlearn: 0.4032355\ttotal: 15.3s\tremaining: 5.32s\n",
      "742:\tlearn: 0.4032255\ttotal: 15.3s\tremaining: 5.3s\n",
      "743:\tlearn: 0.4032172\ttotal: 15.4s\tremaining: 5.29s\n",
      "744:\tlearn: 0.4032087\ttotal: 15.4s\tremaining: 5.27s\n",
      "745:\tlearn: 0.4031980\ttotal: 15.4s\tremaining: 5.26s\n",
      "746:\tlearn: 0.4031859\ttotal: 15.5s\tremaining: 5.24s\n",
      "747:\tlearn: 0.4031773\ttotal: 15.5s\tremaining: 5.22s\n",
      "748:\tlearn: 0.4031628\ttotal: 15.5s\tremaining: 5.21s\n",
      "749:\tlearn: 0.4031451\ttotal: 15.6s\tremaining: 5.19s\n",
      "750:\tlearn: 0.4031305\ttotal: 15.6s\tremaining: 5.18s\n",
      "751:\tlearn: 0.4031111\ttotal: 15.7s\tremaining: 5.16s\n",
      "752:\tlearn: 0.4031022\ttotal: 15.7s\tremaining: 5.14s\n",
      "753:\tlearn: 0.4030959\ttotal: 15.7s\tremaining: 5.12s\n",
      "754:\tlearn: 0.4030621\ttotal: 15.7s\tremaining: 5.1s\n",
      "755:\tlearn: 0.4030504\ttotal: 15.8s\tremaining: 5.08s\n",
      "756:\tlearn: 0.4030368\ttotal: 15.8s\tremaining: 5.07s\n",
      "757:\tlearn: 0.4030260\ttotal: 15.8s\tremaining: 5.05s\n",
      "758:\tlearn: 0.4030124\ttotal: 15.8s\tremaining: 5.03s\n",
      "759:\tlearn: 0.4030020\ttotal: 15.9s\tremaining: 5.01s\n",
      "760:\tlearn: 0.4029918\ttotal: 15.9s\tremaining: 4.99s\n",
      "761:\tlearn: 0.4029785\ttotal: 15.9s\tremaining: 4.96s\n",
      "762:\tlearn: 0.4029639\ttotal: 15.9s\tremaining: 4.94s\n",
      "763:\tlearn: 0.4029541\ttotal: 15.9s\tremaining: 4.92s\n",
      "764:\tlearn: 0.4029386\ttotal: 15.9s\tremaining: 4.89s\n",
      "765:\tlearn: 0.4029284\ttotal: 15.9s\tremaining: 4.87s\n",
      "766:\tlearn: 0.4029185\ttotal: 16s\tremaining: 4.85s\n",
      "767:\tlearn: 0.4029094\ttotal: 16s\tremaining: 4.83s\n",
      "768:\tlearn: 0.4028855\ttotal: 16s\tremaining: 4.8s\n",
      "769:\tlearn: 0.4028782\ttotal: 16s\tremaining: 4.78s\n",
      "770:\tlearn: 0.4028703\ttotal: 16s\tremaining: 4.76s\n",
      "771:\tlearn: 0.4028624\ttotal: 16s\tremaining: 4.74s\n",
      "772:\tlearn: 0.4028503\ttotal: 16s\tremaining: 4.71s\n",
      "773:\tlearn: 0.4028449\ttotal: 16.1s\tremaining: 4.69s\n",
      "774:\tlearn: 0.4028272\ttotal: 16.1s\tremaining: 4.67s\n",
      "775:\tlearn: 0.4028078\ttotal: 16.1s\tremaining: 4.64s\n",
      "776:\tlearn: 0.4027982\ttotal: 16.1s\tremaining: 4.62s\n",
      "777:\tlearn: 0.4027816\ttotal: 16.1s\tremaining: 4.6s\n",
      "778:\tlearn: 0.4027704\ttotal: 16.1s\tremaining: 4.58s\n",
      "779:\tlearn: 0.4027560\ttotal: 16.1s\tremaining: 4.55s\n",
      "780:\tlearn: 0.4027480\ttotal: 16.2s\tremaining: 4.53s\n",
      "781:\tlearn: 0.4027300\ttotal: 16.2s\tremaining: 4.51s\n",
      "782:\tlearn: 0.4027190\ttotal: 16.2s\tremaining: 4.48s\n",
      "783:\tlearn: 0.4027084\ttotal: 16.2s\tremaining: 4.46s\n",
      "784:\tlearn: 0.4026993\ttotal: 16.2s\tremaining: 4.44s\n",
      "785:\tlearn: 0.4026914\ttotal: 16.2s\tremaining: 4.42s\n",
      "786:\tlearn: 0.4026799\ttotal: 16.2s\tremaining: 4.39s\n",
      "787:\tlearn: 0.4026618\ttotal: 16.3s\tremaining: 4.38s\n",
      "788:\tlearn: 0.4026490\ttotal: 16.3s\tremaining: 4.35s\n",
      "789:\tlearn: 0.4026297\ttotal: 16.3s\tremaining: 4.33s\n",
      "790:\tlearn: 0.4026206\ttotal: 16.3s\tremaining: 4.31s\n",
      "791:\tlearn: 0.4026117\ttotal: 16.3s\tremaining: 4.29s\n",
      "792:\tlearn: 0.4026018\ttotal: 16.3s\tremaining: 4.27s\n",
      "793:\tlearn: 0.4025907\ttotal: 16.4s\tremaining: 4.25s\n",
      "794:\tlearn: 0.4025844\ttotal: 16.4s\tremaining: 4.22s\n",
      "795:\tlearn: 0.4025777\ttotal: 16.4s\tremaining: 4.2s\n",
      "796:\tlearn: 0.4025685\ttotal: 16.4s\tremaining: 4.18s\n",
      "797:\tlearn: 0.4025606\ttotal: 16.4s\tremaining: 4.16s\n",
      "798:\tlearn: 0.4025452\ttotal: 16.4s\tremaining: 4.13s\n",
      "799:\tlearn: 0.4025308\ttotal: 16.4s\tremaining: 4.11s\n",
      "800:\tlearn: 0.4025129\ttotal: 16.5s\tremaining: 4.09s\n",
      "801:\tlearn: 0.4024946\ttotal: 16.5s\tremaining: 4.07s\n",
      "802:\tlearn: 0.4024668\ttotal: 16.5s\tremaining: 4.04s\n",
      "803:\tlearn: 0.4024573\ttotal: 16.5s\tremaining: 4.02s\n",
      "804:\tlearn: 0.4024438\ttotal: 16.5s\tremaining: 4s\n",
      "805:\tlearn: 0.4024296\ttotal: 16.5s\tremaining: 3.98s\n",
      "806:\tlearn: 0.4024178\ttotal: 16.5s\tremaining: 3.96s\n",
      "807:\tlearn: 0.4024104\ttotal: 16.6s\tremaining: 3.93s\n",
      "808:\tlearn: 0.4023986\ttotal: 16.6s\tremaining: 3.91s\n",
      "809:\tlearn: 0.4023893\ttotal: 16.6s\tremaining: 3.89s\n",
      "810:\tlearn: 0.4023800\ttotal: 16.6s\tremaining: 3.87s\n",
      "811:\tlearn: 0.4023616\ttotal: 16.6s\tremaining: 3.85s\n",
      "812:\tlearn: 0.4023515\ttotal: 16.6s\tremaining: 3.82s\n",
      "813:\tlearn: 0.4023284\ttotal: 16.6s\tremaining: 3.8s\n",
      "814:\tlearn: 0.4023135\ttotal: 16.7s\tremaining: 3.78s\n",
      "815:\tlearn: 0.4023050\ttotal: 16.7s\tremaining: 3.76s\n",
      "816:\tlearn: 0.4022958\ttotal: 16.7s\tremaining: 3.73s\n",
      "817:\tlearn: 0.4022798\ttotal: 16.7s\tremaining: 3.71s\n",
      "818:\tlearn: 0.4022701\ttotal: 16.7s\tremaining: 3.69s\n",
      "819:\tlearn: 0.4022614\ttotal: 16.7s\tremaining: 3.67s\n",
      "820:\tlearn: 0.4022494\ttotal: 16.7s\tremaining: 3.65s\n",
      "821:\tlearn: 0.4022392\ttotal: 16.8s\tremaining: 3.63s\n",
      "822:\tlearn: 0.4021942\ttotal: 16.8s\tremaining: 3.61s\n",
      "823:\tlearn: 0.4021800\ttotal: 16.8s\tremaining: 3.58s\n",
      "824:\tlearn: 0.4021641\ttotal: 16.8s\tremaining: 3.56s\n",
      "825:\tlearn: 0.4021429\ttotal: 16.8s\tremaining: 3.54s\n"
     ]
    },
    {
     "name": "stdout",
     "output_type": "stream",
     "text": [
      "826:\tlearn: 0.4021256\ttotal: 16.8s\tremaining: 3.52s\n",
      "827:\tlearn: 0.4021108\ttotal: 16.8s\tremaining: 3.5s\n",
      "828:\tlearn: 0.4020959\ttotal: 16.9s\tremaining: 3.48s\n",
      "829:\tlearn: 0.4020885\ttotal: 16.9s\tremaining: 3.45s\n",
      "830:\tlearn: 0.4020792\ttotal: 16.9s\tremaining: 3.43s\n",
      "831:\tlearn: 0.4020700\ttotal: 16.9s\tremaining: 3.41s\n",
      "832:\tlearn: 0.4020559\ttotal: 16.9s\tremaining: 3.39s\n",
      "833:\tlearn: 0.4020497\ttotal: 16.9s\tremaining: 3.37s\n",
      "834:\tlearn: 0.4020457\ttotal: 16.9s\tremaining: 3.35s\n",
      "835:\tlearn: 0.4020363\ttotal: 17s\tremaining: 3.33s\n",
      "836:\tlearn: 0.4020267\ttotal: 17s\tremaining: 3.31s\n",
      "837:\tlearn: 0.4020234\ttotal: 17s\tremaining: 3.29s\n",
      "838:\tlearn: 0.4020165\ttotal: 17s\tremaining: 3.27s\n",
      "839:\tlearn: 0.4020066\ttotal: 17s\tremaining: 3.25s\n",
      "840:\tlearn: 0.4019829\ttotal: 17.1s\tremaining: 3.23s\n",
      "841:\tlearn: 0.4019654\ttotal: 17.1s\tremaining: 3.21s\n",
      "842:\tlearn: 0.4019479\ttotal: 17.1s\tremaining: 3.19s\n",
      "843:\tlearn: 0.4019381\ttotal: 17.1s\tremaining: 3.16s\n",
      "844:\tlearn: 0.4019300\ttotal: 17.1s\tremaining: 3.14s\n",
      "845:\tlearn: 0.4019168\ttotal: 17.1s\tremaining: 3.12s\n",
      "846:\tlearn: 0.4019046\ttotal: 17.2s\tremaining: 3.1s\n",
      "847:\tlearn: 0.4018914\ttotal: 17.2s\tremaining: 3.08s\n",
      "848:\tlearn: 0.4018848\ttotal: 17.2s\tremaining: 3.06s\n",
      "849:\tlearn: 0.4018750\ttotal: 17.2s\tremaining: 3.04s\n",
      "850:\tlearn: 0.4018690\ttotal: 17.2s\tremaining: 3.01s\n",
      "851:\tlearn: 0.4018618\ttotal: 17.2s\tremaining: 2.99s\n",
      "852:\tlearn: 0.4018479\ttotal: 17.2s\tremaining: 2.97s\n",
      "853:\tlearn: 0.4018408\ttotal: 17.3s\tremaining: 2.95s\n",
      "854:\tlearn: 0.4018342\ttotal: 17.3s\tremaining: 2.93s\n",
      "855:\tlearn: 0.4018202\ttotal: 17.3s\tremaining: 2.91s\n",
      "856:\tlearn: 0.4018134\ttotal: 17.3s\tremaining: 2.89s\n",
      "857:\tlearn: 0.4018075\ttotal: 17.3s\tremaining: 2.87s\n",
      "858:\tlearn: 0.4017921\ttotal: 17.4s\tremaining: 2.85s\n",
      "859:\tlearn: 0.4017823\ttotal: 17.4s\tremaining: 2.83s\n",
      "860:\tlearn: 0.4017743\ttotal: 17.4s\tremaining: 2.81s\n",
      "861:\tlearn: 0.4017644\ttotal: 17.4s\tremaining: 2.79s\n",
      "862:\tlearn: 0.4017551\ttotal: 17.4s\tremaining: 2.77s\n",
      "863:\tlearn: 0.4017494\ttotal: 17.5s\tremaining: 2.75s\n",
      "864:\tlearn: 0.4017368\ttotal: 17.5s\tremaining: 2.73s\n",
      "865:\tlearn: 0.4017276\ttotal: 17.5s\tremaining: 2.71s\n",
      "866:\tlearn: 0.4017133\ttotal: 17.5s\tremaining: 2.69s\n",
      "867:\tlearn: 0.4017046\ttotal: 17.5s\tremaining: 2.66s\n",
      "868:\tlearn: 0.4016800\ttotal: 17.5s\tremaining: 2.64s\n",
      "869:\tlearn: 0.4016704\ttotal: 17.5s\tremaining: 2.62s\n",
      "870:\tlearn: 0.4016631\ttotal: 17.6s\tremaining: 2.6s\n",
      "871:\tlearn: 0.4016531\ttotal: 17.6s\tremaining: 2.58s\n",
      "872:\tlearn: 0.4016450\ttotal: 17.6s\tremaining: 2.56s\n",
      "873:\tlearn: 0.4016262\ttotal: 17.6s\tremaining: 2.54s\n",
      "874:\tlearn: 0.4016185\ttotal: 17.6s\tremaining: 2.52s\n",
      "875:\tlearn: 0.4016084\ttotal: 17.6s\tremaining: 2.5s\n",
      "876:\tlearn: 0.4015958\ttotal: 17.7s\tremaining: 2.48s\n",
      "877:\tlearn: 0.4015799\ttotal: 17.7s\tremaining: 2.46s\n",
      "878:\tlearn: 0.4015691\ttotal: 17.7s\tremaining: 2.44s\n",
      "879:\tlearn: 0.4015550\ttotal: 17.7s\tremaining: 2.42s\n",
      "880:\tlearn: 0.4015458\ttotal: 17.8s\tremaining: 2.4s\n",
      "881:\tlearn: 0.4015349\ttotal: 17.8s\tremaining: 2.38s\n",
      "882:\tlearn: 0.4015232\ttotal: 17.8s\tremaining: 2.36s\n",
      "883:\tlearn: 0.4015113\ttotal: 17.8s\tremaining: 2.34s\n",
      "884:\tlearn: 0.4015014\ttotal: 17.8s\tremaining: 2.32s\n",
      "885:\tlearn: 0.4014928\ttotal: 17.8s\tremaining: 2.29s\n",
      "886:\tlearn: 0.4014862\ttotal: 17.9s\tremaining: 2.27s\n",
      "887:\tlearn: 0.4014686\ttotal: 17.9s\tremaining: 2.25s\n",
      "888:\tlearn: 0.4014536\ttotal: 17.9s\tremaining: 2.23s\n",
      "889:\tlearn: 0.4014419\ttotal: 17.9s\tremaining: 2.21s\n",
      "890:\tlearn: 0.4014299\ttotal: 17.9s\tremaining: 2.19s\n",
      "891:\tlearn: 0.4014090\ttotal: 17.9s\tremaining: 2.17s\n",
      "892:\tlearn: 0.4014012\ttotal: 18s\tremaining: 2.15s\n",
      "893:\tlearn: 0.4013836\ttotal: 18s\tremaining: 2.13s\n",
      "894:\tlearn: 0.4013736\ttotal: 18s\tremaining: 2.11s\n",
      "895:\tlearn: 0.4013607\ttotal: 18s\tremaining: 2.09s\n",
      "896:\tlearn: 0.4013527\ttotal: 18s\tremaining: 2.07s\n",
      "897:\tlearn: 0.4013433\ttotal: 18.1s\tremaining: 2.05s\n",
      "898:\tlearn: 0.4013223\ttotal: 18.1s\tremaining: 2.03s\n",
      "899:\tlearn: 0.4013070\ttotal: 18.1s\tremaining: 2.01s\n",
      "900:\tlearn: 0.4012929\ttotal: 18.1s\tremaining: 1.99s\n",
      "901:\tlearn: 0.4012863\ttotal: 18.1s\tremaining: 1.97s\n",
      "902:\tlearn: 0.4012763\ttotal: 18.1s\tremaining: 1.95s\n",
      "903:\tlearn: 0.4012584\ttotal: 18.1s\tremaining: 1.93s\n",
      "904:\tlearn: 0.4012519\ttotal: 18.2s\tremaining: 1.91s\n",
      "905:\tlearn: 0.4012452\ttotal: 18.2s\tremaining: 1.89s\n",
      "906:\tlearn: 0.4012377\ttotal: 18.2s\tremaining: 1.86s\n",
      "907:\tlearn: 0.4012251\ttotal: 18.2s\tremaining: 1.84s\n",
      "908:\tlearn: 0.4012066\ttotal: 18.2s\tremaining: 1.82s\n",
      "909:\tlearn: 0.4011950\ttotal: 18.2s\tremaining: 1.8s\n",
      "910:\tlearn: 0.4011790\ttotal: 18.3s\tremaining: 1.78s\n",
      "911:\tlearn: 0.4011692\ttotal: 18.3s\tremaining: 1.76s\n",
      "912:\tlearn: 0.4011615\ttotal: 18.3s\tremaining: 1.75s\n",
      "913:\tlearn: 0.4011468\ttotal: 18.3s\tremaining: 1.73s\n",
      "914:\tlearn: 0.4011344\ttotal: 18.4s\tremaining: 1.7s\n",
      "915:\tlearn: 0.4011228\ttotal: 18.4s\tremaining: 1.68s\n",
      "916:\tlearn: 0.4011122\ttotal: 18.4s\tremaining: 1.66s\n",
      "917:\tlearn: 0.4010929\ttotal: 18.4s\tremaining: 1.64s\n",
      "918:\tlearn: 0.4010774\ttotal: 18.4s\tremaining: 1.62s\n",
      "919:\tlearn: 0.4010627\ttotal: 18.4s\tremaining: 1.6s\n",
      "920:\tlearn: 0.4010490\ttotal: 18.4s\tremaining: 1.58s\n",
      "921:\tlearn: 0.4010410\ttotal: 18.5s\tremaining: 1.56s\n",
      "922:\tlearn: 0.4010353\ttotal: 18.5s\tremaining: 1.54s\n",
      "923:\tlearn: 0.4010214\ttotal: 18.5s\tremaining: 1.52s\n",
      "924:\tlearn: 0.4010062\ttotal: 18.5s\tremaining: 1.5s\n",
      "925:\tlearn: 0.4009919\ttotal: 18.5s\tremaining: 1.48s\n",
      "926:\tlearn: 0.4009868\ttotal: 18.5s\tremaining: 1.46s\n",
      "927:\tlearn: 0.4009759\ttotal: 18.5s\tremaining: 1.44s\n",
      "928:\tlearn: 0.4009643\ttotal: 18.6s\tremaining: 1.42s\n",
      "929:\tlearn: 0.4009438\ttotal: 18.6s\tremaining: 1.4s\n",
      "930:\tlearn: 0.4009338\ttotal: 18.6s\tremaining: 1.38s\n",
      "931:\tlearn: 0.4009227\ttotal: 18.6s\tremaining: 1.36s\n",
      "932:\tlearn: 0.4009181\ttotal: 18.6s\tremaining: 1.34s\n",
      "933:\tlearn: 0.4009051\ttotal: 18.6s\tremaining: 1.32s\n",
      "934:\tlearn: 0.4008973\ttotal: 18.6s\tremaining: 1.3s\n",
      "935:\tlearn: 0.4008937\ttotal: 18.7s\tremaining: 1.27s\n",
      "936:\tlearn: 0.4008787\ttotal: 18.7s\tremaining: 1.25s\n",
      "937:\tlearn: 0.4008660\ttotal: 18.7s\tremaining: 1.24s\n",
      "938:\tlearn: 0.4008481\ttotal: 18.7s\tremaining: 1.22s\n",
      "939:\tlearn: 0.4008327\ttotal: 18.7s\tremaining: 1.2s\n",
      "940:\tlearn: 0.4008079\ttotal: 18.7s\tremaining: 1.18s\n",
      "941:\tlearn: 0.4008001\ttotal: 18.8s\tremaining: 1.16s\n",
      "942:\tlearn: 0.4007898\ttotal: 18.8s\tremaining: 1.13s\n",
      "943:\tlearn: 0.4007834\ttotal: 18.8s\tremaining: 1.11s\n",
      "944:\tlearn: 0.4007679\ttotal: 18.8s\tremaining: 1.09s\n",
      "945:\tlearn: 0.4007619\ttotal: 18.8s\tremaining: 1.07s\n",
      "946:\tlearn: 0.4007519\ttotal: 18.8s\tremaining: 1.05s\n",
      "947:\tlearn: 0.4007466\ttotal: 18.9s\tremaining: 1.03s\n",
      "948:\tlearn: 0.4007347\ttotal: 18.9s\tremaining: 1.01s\n",
      "949:\tlearn: 0.4007278\ttotal: 18.9s\tremaining: 994ms\n",
      "950:\tlearn: 0.4007142\ttotal: 18.9s\tremaining: 974ms\n",
      "951:\tlearn: 0.4007049\ttotal: 18.9s\tremaining: 954ms\n",
      "952:\tlearn: 0.4006932\ttotal: 18.9s\tremaining: 933ms\n",
      "953:\tlearn: 0.4006799\ttotal: 18.9s\tremaining: 913ms\n",
      "954:\tlearn: 0.4006735\ttotal: 19s\tremaining: 893ms\n",
      "955:\tlearn: 0.4006340\ttotal: 19s\tremaining: 873ms\n",
      "956:\tlearn: 0.4006298\ttotal: 19s\tremaining: 853ms\n",
      "957:\tlearn: 0.4006083\ttotal: 19s\tremaining: 833ms\n",
      "958:\tlearn: 0.4005993\ttotal: 19s\tremaining: 813ms\n",
      "959:\tlearn: 0.4005881\ttotal: 19s\tremaining: 793ms\n",
      "960:\tlearn: 0.4005798\ttotal: 19s\tremaining: 773ms\n",
      "961:\tlearn: 0.4005736\ttotal: 19.1s\tremaining: 753ms\n",
      "962:\tlearn: 0.4005641\ttotal: 19.1s\tremaining: 733ms\n",
      "963:\tlearn: 0.4005574\ttotal: 19.1s\tremaining: 713ms\n",
      "964:\tlearn: 0.4005464\ttotal: 19.1s\tremaining: 693ms\n",
      "965:\tlearn: 0.4005340\ttotal: 19.1s\tremaining: 673ms\n",
      "966:\tlearn: 0.4005268\ttotal: 19.1s\tremaining: 653ms\n",
      "967:\tlearn: 0.4005182\ttotal: 19.1s\tremaining: 633ms\n",
      "968:\tlearn: 0.4005083\ttotal: 19.2s\tremaining: 613ms\n",
      "969:\tlearn: 0.4005006\ttotal: 19.2s\tremaining: 593ms\n",
      "970:\tlearn: 0.4004873\ttotal: 19.2s\tremaining: 573ms\n",
      "971:\tlearn: 0.4004781\ttotal: 19.2s\tremaining: 553ms\n",
      "972:\tlearn: 0.4004675\ttotal: 19.2s\tremaining: 533ms\n",
      "973:\tlearn: 0.4004602\ttotal: 19.2s\tremaining: 513ms\n",
      "974:\tlearn: 0.4004514\ttotal: 19.2s\tremaining: 493ms\n",
      "975:\tlearn: 0.4004391\ttotal: 19.3s\tremaining: 474ms\n",
      "976:\tlearn: 0.4004292\ttotal: 19.3s\tremaining: 454ms\n",
      "977:\tlearn: 0.4004170\ttotal: 19.3s\tremaining: 434ms\n",
      "978:\tlearn: 0.4004089\ttotal: 19.3s\tremaining: 414ms\n",
      "979:\tlearn: 0.4004039\ttotal: 19.3s\tremaining: 394ms\n",
      "980:\tlearn: 0.4003936\ttotal: 19.3s\tremaining: 375ms\n",
      "981:\tlearn: 0.4003791\ttotal: 19.4s\tremaining: 355ms\n",
      "982:\tlearn: 0.4003734\ttotal: 19.4s\tremaining: 335ms\n",
      "983:\tlearn: 0.4003683\ttotal: 19.4s\tremaining: 315ms\n",
      "984:\tlearn: 0.4003665\ttotal: 19.4s\tremaining: 296ms\n",
      "985:\tlearn: 0.4003513\ttotal: 19.4s\tremaining: 276ms\n",
      "986:\tlearn: 0.4003389\ttotal: 19.4s\tremaining: 256ms\n",
      "987:\tlearn: 0.4003257\ttotal: 19.5s\tremaining: 236ms\n",
      "988:\tlearn: 0.4003069\ttotal: 19.5s\tremaining: 216ms\n",
      "989:\tlearn: 0.4002988\ttotal: 19.5s\tremaining: 197ms\n",
      "990:\tlearn: 0.4002935\ttotal: 19.5s\tremaining: 177ms\n",
      "991:\tlearn: 0.4002843\ttotal: 19.5s\tremaining: 157ms\n",
      "992:\tlearn: 0.4002708\ttotal: 19.5s\tremaining: 138ms\n",
      "993:\tlearn: 0.4002641\ttotal: 19.5s\tremaining: 118ms\n",
      "994:\tlearn: 0.4002500\ttotal: 19.5s\tremaining: 98.2ms\n",
      "995:\tlearn: 0.4002446\ttotal: 19.6s\tremaining: 78.6ms\n",
      "996:\tlearn: 0.4002369\ttotal: 19.6s\tremaining: 58.9ms\n",
      "997:\tlearn: 0.4002221\ttotal: 19.6s\tremaining: 39.3ms\n"
     ]
    },
    {
     "name": "stdout",
     "output_type": "stream",
     "text": [
      "998:\tlearn: 0.4002110\ttotal: 19.6s\tremaining: 19.6ms\n",
      "999:\tlearn: 0.4002011\ttotal: 19.6s\tremaining: 0us\n"
     ]
    }
   ],
   "source": [
    "model = CatBoostRegressor()\n",
    "model.fit(x_train_17, y_train_17)\n",
    "y_pred_17 = model.predict(x_test_17)"
   ]
  },
  {
   "cell_type": "code",
   "execution_count": 234,
   "id": "082649d0",
   "metadata": {},
   "outputs": [
    {
     "name": "stdout",
     "output_type": "stream",
     "text": [
      "MSE for CatBoost 2017 is: 0.16775457286659487\n"
     ]
    }
   ],
   "source": [
    "mse = mean_squared_error(y_test_17, y_pred_17)\n",
    "print('MSE for CatBoost 2017 is: ' + str(mse))"
   ]
  },
  {
   "cell_type": "code",
   "execution_count": 235,
   "id": "a3c47125",
   "metadata": {},
   "outputs": [
    {
     "name": "stdout",
     "output_type": "stream",
     "text": [
      "RMSE for CatBoost 2017 is: 0.40957853076863643\n"
     ]
    }
   ],
   "source": [
    "rmse = mean_squared_error(y_test_17, y_pred_17, squared = False)\n",
    "print('RMSE for CatBoost 2017 is: ' + str(rmse))"
   ]
  },
  {
   "cell_type": "code",
   "execution_count": 236,
   "id": "64d71e25",
   "metadata": {},
   "outputs": [
    {
     "name": "stdout",
     "output_type": "stream",
     "text": [
      "Accuracy of properties at +- 10% of actual prices is 0.30935171800289113\n"
     ]
    }
   ],
   "source": [
    "acc = accuracy_threshold(y_test_17, y_pred_17, 0.1)\n",
    "print('Accuracy of properties at +- 10% of actual prices is ' + str(acc))"
   ]
  },
  {
   "cell_type": "code",
   "execution_count": 237,
   "id": "f6984666",
   "metadata": {},
   "outputs": [
    {
     "name": "stdout",
     "output_type": "stream",
     "text": [
      "Median Absolute Error:\n",
      "\n",
      "0.18308169014266795\n"
     ]
    }
   ],
   "source": [
    "median_se = np.square(np.subtract(y_test_17, y_pred_17)).median() \n",
    " \n",
    "med = math.sqrt(median_se)\n",
    "print(\"Median Absolute Error:\\n\")\n",
    "print(med)"
   ]
  },
  {
   "cell_type": "code",
   "execution_count": 238,
   "id": "cb802c7d",
   "metadata": {},
   "outputs": [
    {
     "name": "stdout",
     "output_type": "stream",
     "text": [
      "MAPE for CatBoost 2017 is: 0.02323210742090106\n"
     ]
    }
   ],
   "source": [
    "mape = mean_absolute_percentage_error(y_test_17, y_pred_17)\n",
    "print(\"MAPE for CatBoost 2017 is: \" + str(mape))"
   ]
  },
  {
   "cell_type": "code",
   "execution_count": 239,
   "id": "5b1cf780",
   "metadata": {},
   "outputs": [],
   "source": [
    "cnames = ['Algorithm', 'Year', 'RMSE', 'MSE', 'MEDAE', 'Accuracy', 'MAPE']\n",
    "df28 = pd.DataFrame(columns = cnames)\n",
    "\n",
    "df28 = df28.append({'Algorithm': 'CatBoost',\n",
    "           'Year': 2017,\n",
    "           'RMSE': rmse,\n",
    "           'MSE': mse,\n",
    "           'MEDAE': med,\n",
    "           'Accuracy': acc,\n",
    "           'MAPE': mape         \n",
    "          }, ignore_index = True)"
   ]
  },
  {
   "cell_type": "markdown",
   "id": "72562a1a",
   "metadata": {},
   "source": [
    "### BayesianRidge"
   ]
  },
  {
   "cell_type": "code",
   "execution_count": 240,
   "id": "59e9f148",
   "metadata": {},
   "outputs": [
    {
     "name": "stdout",
     "output_type": "stream",
     "text": [
      "MSE for BayesianRidge 2017 is: 0.24377000211083708\n"
     ]
    }
   ],
   "source": [
    "clf = BayesianRidge()\n",
    "clf.fit(x_train_17, y_train_17)\n",
    "y_pred_17 = clf.predict(x_test_17)\n",
    "# Calculation of Mean Squared Error (MSE)\n",
    "mse = mean_squared_error(y_test_17, y_pred_17)\n",
    "print('MSE for BayesianRidge 2017 is: ' + str(mse))"
   ]
  },
  {
   "cell_type": "code",
   "execution_count": 241,
   "id": "1dff6d36",
   "metadata": {},
   "outputs": [
    {
     "name": "stdout",
     "output_type": "stream",
     "text": [
      "RMSE for BayesianRidge 2017 is: 0.4937306979628035\n"
     ]
    }
   ],
   "source": [
    "rmse = mean_squared_error(y_test_17, y_pred_17, squared = False)\n",
    "print('RMSE for BayesianRidge 2017 is: ' + str(rmse))"
   ]
  },
  {
   "cell_type": "code",
   "execution_count": 242,
   "id": "432254a9",
   "metadata": {},
   "outputs": [
    {
     "name": "stdout",
     "output_type": "stream",
     "text": [
      "Accuracy of properties at +- 10% of actual prices is 0.16186663701397383\n"
     ]
    }
   ],
   "source": [
    "acc = accuracy_threshold(y_test_17, y_pred_17, 0.1)\n",
    "print('Accuracy of properties at +- 10% of actual prices is ' + str(acc))"
   ]
  },
  {
   "cell_type": "code",
   "execution_count": 243,
   "id": "5e73847c",
   "metadata": {},
   "outputs": [
    {
     "name": "stdout",
     "output_type": "stream",
     "text": [
      "Median Absolute Error:\n",
      "\n",
      "0.29441296986549403\n"
     ]
    }
   ],
   "source": [
    "median_se = np.square(np.subtract(y_test_17, y_pred_17)).median() \n",
    " \n",
    "med = math.sqrt(median_se)\n",
    "print(\"Median Absolute Error:\\n\")\n",
    "print(med)"
   ]
  },
  {
   "cell_type": "code",
   "execution_count": 244,
   "id": "27b263d2",
   "metadata": {},
   "outputs": [
    {
     "name": "stdout",
     "output_type": "stream",
     "text": [
      "MAPE for BayesianRidge 2017 is: 0.03082295060971811\n"
     ]
    }
   ],
   "source": [
    "mape = mean_absolute_percentage_error(y_test_17, y_pred_17)\n",
    "print(\"MAPE for BayesianRidge 2017 is: \" + str(mape))"
   ]
  },
  {
   "cell_type": "code",
   "execution_count": 245,
   "id": "f56a5c0c",
   "metadata": {},
   "outputs": [],
   "source": [
    "cnames = ['Algorithm', 'Year', 'RMSE', 'MSE', 'MEDAE', 'Accuracy', 'MAPE']\n",
    "df29 = pd.DataFrame(columns = cnames)\n",
    "\n",
    "df29 = df29.append({'Algorithm': 'Bayesian',\n",
    "           'Year': 2017,\n",
    "           'RMSE': rmse,\n",
    "           'MSE': mse,\n",
    "           'MEDAE': med,\n",
    "           'Accuracy': acc,\n",
    "           'MAPE': mape         \n",
    "          }, ignore_index = True)"
   ]
  },
  {
   "cell_type": "markdown",
   "id": "5e5b3c73",
   "metadata": {},
   "source": [
    "## 2016\n",
    "\n",
    "### AutoML"
   ]
  },
  {
   "cell_type": "code",
   "execution_count": 246,
   "id": "5125f592",
   "metadata": {},
   "outputs": [],
   "source": [
    "specific16 = irl[irl['Year'] >= 2011]\n",
    "test_16 = specific16[specific16['Year'] == 2016]\n",
    "train_16 = specific16[specific16['Year'] < 2016]\n",
    "\n",
    "#test_16 = test_16.sample(n = 15000)\n",
    "#test_16.drop(columns=['Year'], inplace = True)\n",
    "#train_16.drop(columns=['Year'], inplace = True)\n",
    "\n",
    "x_train_16 = train_16.loc[:, train_16.columns != 'PriceInflation']\n",
    "y_train_16 = train_16['PriceInflation']\n",
    "x_test_16 = test_16.loc[:, test_16.columns != 'PriceInflation']\n",
    "y_test_16 = test_16['PriceInflation']"
   ]
  },
  {
   "cell_type": "code",
   "execution_count": 247,
   "id": "bd80ab6f",
   "metadata": {},
   "outputs": [
    {
     "name": "stdout",
     "output_type": "stream",
     "text": [
      "Linear algorithm was disabled.\n",
      "AutoML directory: AutoML_6\n",
      "The task is regression with evaluation metric rmse\n",
      "AutoML will use algorithms: ['Baseline', 'Decision Tree', 'Random Forest', 'Xgboost', 'Neural Network']\n",
      "AutoML will ensemble available models\n",
      "AutoML steps: ['simple_algorithms', 'default_algorithms', 'ensemble']\n",
      "* Step simple_algorithms will try to check up to 2 models\n",
      "1_Baseline rmse 0.809136 trained in 1.61 seconds\n",
      "2_DecisionTree rmse 0.457889 trained in 7.1 seconds\n",
      "* Step default_algorithms will try to check up to 3 models\n",
      "3_Default_Xgboost rmse 0.418029 trained in 10.01 seconds\n",
      "4_Default_NeuralNetwork rmse 0.427285 trained in 7.26 seconds\n",
      "5_Default_RandomForest rmse 0.43381 trained in 11.96 seconds\n",
      "* Step ensemble will try to check up to 1 model\n",
      "Ensemble rmse 0.418029 trained in 0.79 seconds\n",
      "AutoML fit time: 53.55 seconds\n",
      "AutoML best model: 3_Default_Xgboost\n"
     ]
    },
    {
     "data": {
      "text/plain": [
       "AutoML(total_time_limit=300)"
      ]
     },
     "execution_count": 247,
     "metadata": {},
     "output_type": "execute_result"
    }
   ],
   "source": [
    "automl = AutoML(total_time_limit = 5 * 60)\n",
    "automl.fit(x_train_16, y_train_16)"
   ]
  },
  {
   "cell_type": "code",
   "execution_count": 248,
   "id": "0135fa3d",
   "metadata": {},
   "outputs": [
    {
     "name": "stdout",
     "output_type": "stream",
     "text": [
      "MSE for AutoML 2016 is: 0.1791211727367405\n"
     ]
    }
   ],
   "source": [
    "y_pred_16 = automl.predict(x_test_16)\n",
    "# Calculation of Mean Squared Error (MSE)\n",
    "mse = mean_squared_error(y_test_16, y_pred_16)\n",
    "print('MSE for AutoML 2016 is: ' + str(mse))"
   ]
  },
  {
   "cell_type": "code",
   "execution_count": 249,
   "id": "5dce8ca3",
   "metadata": {},
   "outputs": [
    {
     "name": "stdout",
     "output_type": "stream",
     "text": [
      "RMSE for AutoML 2016 is: 0.42322709357594357\n"
     ]
    }
   ],
   "source": [
    "rmse = mean_squared_error(y_test_16, y_pred_16, squared = False)\n",
    "print('RMSE for AutoML 2016 is: ' + str(rmse))"
   ]
  },
  {
   "cell_type": "code",
   "execution_count": 250,
   "id": "d0e3b3ef",
   "metadata": {},
   "outputs": [
    {
     "name": "stdout",
     "output_type": "stream",
     "text": [
      "Accuracy of properties at +- 10% of actual prices is 0.2856861276461545\n"
     ]
    }
   ],
   "source": [
    "acc = accuracy_threshold(y_test_16, y_pred_16, 0.1)\n",
    "print('Accuracy of properties at +- 10% of actual prices is ' + str(acc))"
   ]
  },
  {
   "cell_type": "code",
   "execution_count": 251,
   "id": "3114a214",
   "metadata": {},
   "outputs": [
    {
     "name": "stdout",
     "output_type": "stream",
     "text": [
      "Median Absolute Error:\n",
      "\n",
      "0.20102935996068538\n"
     ]
    }
   ],
   "source": [
    "median_se = np.square(np.subtract(y_test_16, y_pred_16)).median() \n",
    " \n",
    "med = math.sqrt(median_se)\n",
    "print(\"Median Absolute Error:\\n\")\n",
    "print(med)"
   ]
  },
  {
   "cell_type": "code",
   "execution_count": 252,
   "id": "797ad12a",
   "metadata": {},
   "outputs": [
    {
     "name": "stdout",
     "output_type": "stream",
     "text": [
      "MAPE for AutoML 2016 is: 0.024610553477803523\n"
     ]
    }
   ],
   "source": [
    "mape = mean_absolute_percentage_error(y_test_16, y_pred_16)\n",
    "print(\"MAPE for AutoML 2016 is: \" + str(mape))"
   ]
  },
  {
   "cell_type": "code",
   "execution_count": 253,
   "id": "d3f2d967",
   "metadata": {},
   "outputs": [],
   "source": [
    "cnames = ['Algorithm', 'Year', 'RMSE', 'MSE', 'MEDAE', 'Accuracy', 'MAPE']\n",
    "df30 = pd.DataFrame(columns = cnames)\n",
    "\n",
    "df30 = df30.append({'Algorithm': 'AutoML',\n",
    "           'Year': 2016,\n",
    "           'RMSE': rmse,\n",
    "           'MSE': mse,\n",
    "           'MEDAE': med,\n",
    "           'Accuracy': acc,\n",
    "           'MAPE': mape         \n",
    "          }, ignore_index = True)"
   ]
  },
  {
   "cell_type": "markdown",
   "id": "5b70ff35",
   "metadata": {},
   "source": [
    "### MLR"
   ]
  },
  {
   "cell_type": "code",
   "execution_count": 254,
   "id": "4f689b1e",
   "metadata": {},
   "outputs": [
    {
     "name": "stdout",
     "output_type": "stream",
     "text": [
      "MSE for MLR 2016 is: 0.2648817875861571\n"
     ]
    }
   ],
   "source": [
    "lm = linear_model.LinearRegression()\n",
    "lm.fit(x_train_16, y_train_16) # fitting the model\n",
    "y_pred_16 = lm.predict(x_test_16)\n",
    "# Calculation of Mean Squared Error (MSE)\n",
    "mse = mean_squared_error(y_test_16, y_pred_16)\n",
    "print('MSE for MLR 2016 is: ' + str(mse))"
   ]
  },
  {
   "cell_type": "code",
   "execution_count": 255,
   "id": "d32ee7cc",
   "metadata": {},
   "outputs": [
    {
     "name": "stdout",
     "output_type": "stream",
     "text": [
      "RMSE for MLR 2016 is: 0.5146666761955325\n"
     ]
    }
   ],
   "source": [
    "rmse = mean_squared_error(y_test_16, y_pred_16, squared = False)\n",
    "print('RMSE for MLR 2016 is: ' + str(rmse))"
   ]
  },
  {
   "cell_type": "code",
   "execution_count": 256,
   "id": "42c4f9e1",
   "metadata": {},
   "outputs": [
    {
     "name": "stdout",
     "output_type": "stream",
     "text": [
      "Accuracy of properties at +- 10% of actual prices is 0.13852643197855483\n"
     ]
    }
   ],
   "source": [
    "acc = accuracy_threshold(y_test_16, y_pred_16, 0.1)\n",
    "print('Accuracy of properties at +- 10% of actual prices is ' + str(acc))"
   ]
  },
  {
   "cell_type": "code",
   "execution_count": 257,
   "id": "52eabe95",
   "metadata": {},
   "outputs": [
    {
     "name": "stdout",
     "output_type": "stream",
     "text": [
      "Median Absolute Error:\n",
      "\n",
      "0.32786100842331756\n"
     ]
    }
   ],
   "source": [
    "median_se = np.square(np.subtract(y_test_16, y_pred_16)).median() \n",
    " \n",
    "med = math.sqrt(median_se)\n",
    "print(\"Median Absolute Error:\\n\")\n",
    "print(med)"
   ]
  },
  {
   "cell_type": "code",
   "execution_count": 258,
   "id": "f73604d3",
   "metadata": {},
   "outputs": [
    {
     "name": "stdout",
     "output_type": "stream",
     "text": [
      "MAPE for MLR 2016 is: 0.033162457111472886\n"
     ]
    }
   ],
   "source": [
    "mape = mean_absolute_percentage_error(y_test_16, y_pred_16)\n",
    "print(\"MAPE for MLR 2016 is: \" + str(mape))"
   ]
  },
  {
   "cell_type": "code",
   "execution_count": 259,
   "id": "4981ef32",
   "metadata": {},
   "outputs": [],
   "source": [
    "cnames = ['Algorithm', 'Year', 'RMSE', 'MSE', 'MEDAE', 'Accuracy', 'MAPE']\n",
    "df31 = pd.DataFrame(columns = cnames)\n",
    "\n",
    "df31 = df31.append({'Algorithm': 'MLR',\n",
    "           'Year': 2016,\n",
    "           'RMSE': rmse,\n",
    "           'MSE': mse,\n",
    "           'MEDAE': med,\n",
    "           'Accuracy': acc,\n",
    "           'MAPE': mape         \n",
    "          }, ignore_index = True)"
   ]
  },
  {
   "cell_type": "markdown",
   "id": "9b5afb12",
   "metadata": {},
   "source": [
    "### AdaBoost"
   ]
  },
  {
   "cell_type": "code",
   "execution_count": 260,
   "id": "593a5fed",
   "metadata": {},
   "outputs": [
    {
     "name": "stdout",
     "output_type": "stream",
     "text": [
      "MSE for AdaBoost 2016 is: 0.23004274731410235\n"
     ]
    }
   ],
   "source": [
    "model = AdaBoostRegressor()\n",
    "model.fit(x_train_16, y_train_16)\n",
    "y_pred_16 = model.predict(x_test_16)\n",
    "# Calculation of Mean Squared Error (MSE)\n",
    "mse = mean_squared_error(y_test_16, y_pred_16)\n",
    "print('MSE for AdaBoost 2016 is: ' + str(mse))"
   ]
  },
  {
   "cell_type": "code",
   "execution_count": 261,
   "id": "081b5a2f",
   "metadata": {},
   "outputs": [
    {
     "name": "stdout",
     "output_type": "stream",
     "text": [
      "RMSE for AdaBoost 2016 is: 0.47962771741643784\n"
     ]
    }
   ],
   "source": [
    "rmse = mean_squared_error(y_test_16, y_pred_16, squared = False)\n",
    "print('RMSE for AdaBoost 2016 is: ' + str(rmse))"
   ]
  },
  {
   "cell_type": "code",
   "execution_count": 262,
   "id": "ff3c5fd4",
   "metadata": {},
   "outputs": [
    {
     "name": "stdout",
     "output_type": "stream",
     "text": [
      "Accuracy of properties at +- 10% of actual prices is 0.14846059841526393\n"
     ]
    }
   ],
   "source": [
    "acc = accuracy_threshold(y_test_16, y_pred_16, 0.1)\n",
    "print('Accuracy of properties at +- 10% of actual prices is ' + str(acc))"
   ]
  },
  {
   "cell_type": "code",
   "execution_count": 263,
   "id": "f44ee2fc",
   "metadata": {},
   "outputs": [
    {
     "name": "stdout",
     "output_type": "stream",
     "text": [
      "Median Absolute Error:\n",
      "\n",
      "0.3095259279285365\n"
     ]
    }
   ],
   "source": [
    "median_se = np.square(np.subtract(y_test_16, y_pred_16)).median() \n",
    " \n",
    "med = math.sqrt(median_se)\n",
    "print(\"Median Absolute Error:\\n\")\n",
    "print(med)"
   ]
  },
  {
   "cell_type": "code",
   "execution_count": 264,
   "id": "6d071ff1",
   "metadata": {},
   "outputs": [
    {
     "name": "stdout",
     "output_type": "stream",
     "text": [
      "MAPE for AdaBoost 2016 is: 0.03065957361313044\n"
     ]
    }
   ],
   "source": [
    "mape = mean_absolute_percentage_error(y_test_16, y_pred_16)\n",
    "print(\"MAPE for AdaBoost 2016 is: \" + str(mape))"
   ]
  },
  {
   "cell_type": "code",
   "execution_count": 265,
   "id": "400f2fe5",
   "metadata": {},
   "outputs": [],
   "source": [
    "cnames = ['Algorithm', 'Year', 'RMSE', 'MSE', 'MEDAE', 'Accuracy', 'MAPE']\n",
    "df32 = pd.DataFrame(columns = cnames)\n",
    "\n",
    "df32 = df32.append({'Algorithm': 'AdaBoost',\n",
    "           'Year': 2016,\n",
    "           'RMSE': rmse,\n",
    "           'MSE': mse,\n",
    "           'MEDAE': med,\n",
    "           'Accuracy': acc,\n",
    "           'MAPE': mape         \n",
    "          }, ignore_index = True)"
   ]
  },
  {
   "cell_type": "markdown",
   "id": "c873ada3",
   "metadata": {},
   "source": [
    "### LightGBM"
   ]
  },
  {
   "cell_type": "code",
   "execution_count": 266,
   "id": "0d6ddf80",
   "metadata": {},
   "outputs": [
    {
     "name": "stdout",
     "output_type": "stream",
     "text": [
      "MSE for LightGBM 2016 is: 0.17883650302912735\n"
     ]
    }
   ],
   "source": [
    "model = LGBMRegressor()\n",
    "model.fit(x_train_16, y_train_16)\n",
    "y_pred_16 = model.predict(x_test_16)\n",
    "# Calculation of Mean Squared Error (MSE)\n",
    "mse = mean_squared_error(y_test_16, y_pred_16)\n",
    "print('MSE for LightGBM 2016 is: ' + str(mse))"
   ]
  },
  {
   "cell_type": "code",
   "execution_count": 267,
   "id": "c3196921",
   "metadata": {},
   "outputs": [
    {
     "name": "stdout",
     "output_type": "stream",
     "text": [
      "RMSE for LightGBM 2016 is: 0.42289065138535203\n"
     ]
    }
   ],
   "source": [
    "rmse = mean_squared_error(y_test_16, y_pred_16, squared = False)\n",
    "print('RMSE for LightGBM 2016 is: ' + str(rmse))"
   ]
  },
  {
   "cell_type": "code",
   "execution_count": 268,
   "id": "ed0adabf",
   "metadata": {},
   "outputs": [
    {
     "name": "stdout",
     "output_type": "stream",
     "text": [
      "Accuracy of properties at +- 10% of actual prices is 0.2873024007568889\n"
     ]
    }
   ],
   "source": [
    "acc = accuracy_threshold(y_test_16, y_pred_16, 0.1)\n",
    "print('Accuracy of properties at +- 10% of actual prices is ' + str(acc))"
   ]
  },
  {
   "cell_type": "code",
   "execution_count": 269,
   "id": "132e7b55",
   "metadata": {},
   "outputs": [
    {
     "name": "stdout",
     "output_type": "stream",
     "text": [
      "Median Absolute Error:\n",
      "\n",
      "0.20108349462842412\n"
     ]
    }
   ],
   "source": [
    "median_se = np.square(np.subtract(y_test_16, y_pred_16)).median() \n",
    " \n",
    "med = math.sqrt(median_se)\n",
    "print(\"Median Absolute Error:\\n\")\n",
    "print(med)"
   ]
  },
  {
   "cell_type": "code",
   "execution_count": 270,
   "id": "c74f9c7a",
   "metadata": {},
   "outputs": [
    {
     "name": "stdout",
     "output_type": "stream",
     "text": [
      "MAPE for LightGBM 2016 is: 0.024536365358139755\n"
     ]
    }
   ],
   "source": [
    "mape = mean_absolute_percentage_error(y_test_16, y_pred_16)\n",
    "print(\"MAPE for LightGBM 2016 is: \" + str(mape))"
   ]
  },
  {
   "cell_type": "code",
   "execution_count": 271,
   "id": "7e1ef5dc",
   "metadata": {},
   "outputs": [],
   "source": [
    "cnames = ['Algorithm', 'Year', 'RMSE', 'MSE', 'MEDAE', 'Accuracy', 'MAPE']\n",
    "df33 = pd.DataFrame(columns = cnames)\n",
    "\n",
    "df33 = df33.append({'Algorithm': 'LightGBM',\n",
    "           'Year': 2016,\n",
    "           'RMSE': rmse,\n",
    "           'MSE': mse,\n",
    "           'MEDAE': med,\n",
    "           'Accuracy': acc,\n",
    "           'MAPE': mape         \n",
    "          }, ignore_index = True)"
   ]
  },
  {
   "cell_type": "markdown",
   "id": "6e60ada4",
   "metadata": {},
   "source": [
    "### CatBoost"
   ]
  },
  {
   "cell_type": "code",
   "execution_count": 272,
   "id": "56d7ffc4",
   "metadata": {},
   "outputs": [
    {
     "name": "stdout",
     "output_type": "stream",
     "text": [
      "Learning rate set to 0.083583\n",
      "0:\tlearn: 0.7620242\ttotal: 28.8ms\tremaining: 28.8s\n",
      "1:\tlearn: 0.7227256\ttotal: 51.5ms\tremaining: 25.7s\n",
      "2:\tlearn: 0.6880308\ttotal: 67.8ms\tremaining: 22.5s\n",
      "3:\tlearn: 0.6564599\ttotal: 83.6ms\tremaining: 20.8s\n",
      "4:\tlearn: 0.6286006\ttotal: 98.9ms\tremaining: 19.7s\n",
      "5:\tlearn: 0.6040665\ttotal: 115ms\tremaining: 19s\n",
      "6:\tlearn: 0.5816246\ttotal: 129ms\tremaining: 18.4s\n",
      "7:\tlearn: 0.5623807\ttotal: 146ms\tremaining: 18.1s\n",
      "8:\tlearn: 0.5452473\ttotal: 177ms\tremaining: 19.5s\n",
      "9:\tlearn: 0.5299084\ttotal: 211ms\tremaining: 20.8s\n",
      "10:\tlearn: 0.5166559\ttotal: 239ms\tremaining: 21.5s\n",
      "11:\tlearn: 0.5050583\ttotal: 266ms\tremaining: 21.9s\n",
      "12:\tlearn: 0.4948987\ttotal: 291ms\tremaining: 22.1s\n",
      "13:\tlearn: 0.4859522\ttotal: 313ms\tremaining: 22s\n",
      "14:\tlearn: 0.4780508\ttotal: 338ms\tremaining: 22.2s\n",
      "15:\tlearn: 0.4710307\ttotal: 360ms\tremaining: 22.2s\n",
      "16:\tlearn: 0.4650082\ttotal: 393ms\tremaining: 22.7s\n",
      "17:\tlearn: 0.4598984\ttotal: 433ms\tremaining: 23.6s\n",
      "18:\tlearn: 0.4551663\ttotal: 454ms\tremaining: 23.4s\n",
      "19:\tlearn: 0.4511956\ttotal: 475ms\tremaining: 23.3s\n",
      "20:\tlearn: 0.4476130\ttotal: 492ms\tremaining: 22.9s\n",
      "21:\tlearn: 0.4445877\ttotal: 512ms\tremaining: 22.8s\n",
      "22:\tlearn: 0.4418434\ttotal: 531ms\tremaining: 22.6s\n",
      "23:\tlearn: 0.4395301\ttotal: 550ms\tremaining: 22.4s\n",
      "24:\tlearn: 0.4373814\ttotal: 567ms\tremaining: 22.1s\n",
      "25:\tlearn: 0.4355545\ttotal: 584ms\tremaining: 21.9s\n",
      "26:\tlearn: 0.4338536\ttotal: 603ms\tremaining: 21.7s\n",
      "27:\tlearn: 0.4324824\ttotal: 621ms\tremaining: 21.6s\n",
      "28:\tlearn: 0.4313124\ttotal: 639ms\tremaining: 21.4s\n",
      "29:\tlearn: 0.4302619\ttotal: 658ms\tremaining: 21.3s\n",
      "30:\tlearn: 0.4293778\ttotal: 694ms\tremaining: 21.7s\n",
      "31:\tlearn: 0.4285337\ttotal: 721ms\tremaining: 21.8s\n",
      "32:\tlearn: 0.4278187\ttotal: 741ms\tremaining: 21.7s\n",
      "33:\tlearn: 0.4270187\ttotal: 758ms\tremaining: 21.5s\n",
      "34:\tlearn: 0.4264814\ttotal: 773ms\tremaining: 21.3s\n",
      "35:\tlearn: 0.4258381\ttotal: 791ms\tremaining: 21.2s\n",
      "36:\tlearn: 0.4254073\ttotal: 807ms\tremaining: 21s\n",
      "37:\tlearn: 0.4249707\ttotal: 823ms\tremaining: 20.8s\n",
      "38:\tlearn: 0.4245403\ttotal: 841ms\tremaining: 20.7s\n",
      "39:\tlearn: 0.4241938\ttotal: 865ms\tremaining: 20.8s\n",
      "40:\tlearn: 0.4238379\ttotal: 890ms\tremaining: 20.8s\n",
      "41:\tlearn: 0.4235281\ttotal: 926ms\tremaining: 21.1s\n",
      "42:\tlearn: 0.4232098\ttotal: 979ms\tremaining: 21.8s\n",
      "43:\tlearn: 0.4229982\ttotal: 1.02s\tremaining: 22.2s\n",
      "44:\tlearn: 0.4227881\ttotal: 1.1s\tremaining: 23.3s\n",
      "45:\tlearn: 0.4226065\ttotal: 1.36s\tremaining: 28.2s\n",
      "46:\tlearn: 0.4224380\ttotal: 1.5s\tremaining: 30.5s\n",
      "47:\tlearn: 0.4222856\ttotal: 1.54s\tremaining: 30.6s\n",
      "48:\tlearn: 0.4221000\ttotal: 1.6s\tremaining: 31s\n",
      "49:\tlearn: 0.4219858\ttotal: 1.64s\tremaining: 31.2s\n",
      "50:\tlearn: 0.4218435\ttotal: 1.68s\tremaining: 31.3s\n",
      "51:\tlearn: 0.4217108\ttotal: 1.73s\tremaining: 31.5s\n",
      "52:\tlearn: 0.4215727\ttotal: 1.77s\tremaining: 31.6s\n",
      "53:\tlearn: 0.4214377\ttotal: 1.8s\tremaining: 31.5s\n",
      "54:\tlearn: 0.4213308\ttotal: 1.84s\tremaining: 31.6s\n",
      "55:\tlearn: 0.4212187\ttotal: 1.89s\tremaining: 31.8s\n",
      "56:\tlearn: 0.4210837\ttotal: 1.95s\tremaining: 32.2s\n",
      "57:\tlearn: 0.4209683\ttotal: 1.99s\tremaining: 32.2s\n",
      "58:\tlearn: 0.4208474\ttotal: 2.03s\tremaining: 32.3s\n",
      "59:\tlearn: 0.4207615\ttotal: 2.06s\tremaining: 32.3s\n",
      "60:\tlearn: 0.4206670\ttotal: 2.11s\tremaining: 32.4s\n",
      "61:\tlearn: 0.4205532\ttotal: 2.14s\tremaining: 32.3s\n",
      "62:\tlearn: 0.4204230\ttotal: 2.21s\tremaining: 32.8s\n",
      "63:\tlearn: 0.4203001\ttotal: 2.27s\tremaining: 33.1s\n",
      "64:\tlearn: 0.4202219\ttotal: 2.31s\tremaining: 33.2s\n",
      "65:\tlearn: 0.4201616\ttotal: 2.36s\tremaining: 33.4s\n",
      "66:\tlearn: 0.4201046\ttotal: 2.4s\tremaining: 33.5s\n",
      "67:\tlearn: 0.4200206\ttotal: 2.45s\tremaining: 33.5s\n",
      "68:\tlearn: 0.4199653\ttotal: 2.48s\tremaining: 33.5s\n",
      "69:\tlearn: 0.4198409\ttotal: 2.53s\tremaining: 33.6s\n",
      "70:\tlearn: 0.4197674\ttotal: 2.57s\tremaining: 33.6s\n",
      "71:\tlearn: 0.4196785\ttotal: 2.59s\tremaining: 33.4s\n",
      "72:\tlearn: 0.4195983\ttotal: 2.61s\tremaining: 33.1s\n",
      "73:\tlearn: 0.4195046\ttotal: 2.63s\tremaining: 32.9s\n",
      "74:\tlearn: 0.4194247\ttotal: 2.65s\tremaining: 32.7s\n",
      "75:\tlearn: 0.4193849\ttotal: 2.67s\tremaining: 32.4s\n",
      "76:\tlearn: 0.4193354\ttotal: 2.69s\tremaining: 32.2s\n",
      "77:\tlearn: 0.4192779\ttotal: 2.7s\tremaining: 31.9s\n",
      "78:\tlearn: 0.4192142\ttotal: 2.72s\tremaining: 31.7s\n",
      "79:\tlearn: 0.4191673\ttotal: 2.74s\tremaining: 31.5s\n",
      "80:\tlearn: 0.4190976\ttotal: 2.76s\tremaining: 31.3s\n",
      "81:\tlearn: 0.4190528\ttotal: 2.77s\tremaining: 31.1s\n",
      "82:\tlearn: 0.4190196\ttotal: 2.79s\tremaining: 30.8s\n",
      "83:\tlearn: 0.4189779\ttotal: 2.8s\tremaining: 30.5s\n",
      "84:\tlearn: 0.4189296\ttotal: 2.81s\tremaining: 30.3s\n",
      "85:\tlearn: 0.4188449\ttotal: 2.82s\tremaining: 30s\n",
      "86:\tlearn: 0.4188125\ttotal: 2.83s\tremaining: 29.7s\n",
      "87:\tlearn: 0.4187661\ttotal: 2.84s\tremaining: 29.5s\n",
      "88:\tlearn: 0.4186962\ttotal: 2.86s\tremaining: 29.3s\n",
      "89:\tlearn: 0.4186453\ttotal: 2.9s\tremaining: 29.3s\n",
      "90:\tlearn: 0.4185504\ttotal: 2.92s\tremaining: 29.2s\n",
      "91:\tlearn: 0.4185129\ttotal: 2.95s\tremaining: 29.1s\n",
      "92:\tlearn: 0.4184956\ttotal: 2.96s\tremaining: 28.9s\n",
      "93:\tlearn: 0.4184645\ttotal: 2.98s\tremaining: 28.7s\n",
      "94:\tlearn: 0.4184162\ttotal: 3s\tremaining: 28.6s\n",
      "95:\tlearn: 0.4183589\ttotal: 3.01s\tremaining: 28.4s\n",
      "96:\tlearn: 0.4183268\ttotal: 3.03s\tremaining: 28.2s\n",
      "97:\tlearn: 0.4182849\ttotal: 3.05s\tremaining: 28.1s\n",
      "98:\tlearn: 0.4182185\ttotal: 3.06s\tremaining: 27.9s\n",
      "99:\tlearn: 0.4181838\ttotal: 3.08s\tremaining: 27.7s\n",
      "100:\tlearn: 0.4181372\ttotal: 3.1s\tremaining: 27.6s\n",
      "101:\tlearn: 0.4181337\ttotal: 3.11s\tremaining: 27.4s\n",
      "102:\tlearn: 0.4180796\ttotal: 3.12s\tremaining: 27.2s\n",
      "103:\tlearn: 0.4180306\ttotal: 3.14s\tremaining: 27.1s\n",
      "104:\tlearn: 0.4179844\ttotal: 3.16s\tremaining: 26.9s\n",
      "105:\tlearn: 0.4179420\ttotal: 3.17s\tremaining: 26.7s\n",
      "106:\tlearn: 0.4178488\ttotal: 3.18s\tremaining: 26.6s\n",
      "107:\tlearn: 0.4178056\ttotal: 3.19s\tremaining: 26.4s\n",
      "108:\tlearn: 0.4177796\ttotal: 3.21s\tremaining: 26.2s\n",
      "109:\tlearn: 0.4177564\ttotal: 3.22s\tremaining: 26.1s\n",
      "110:\tlearn: 0.4177018\ttotal: 3.23s\tremaining: 25.9s\n",
      "111:\tlearn: 0.4176671\ttotal: 3.25s\tremaining: 25.8s\n",
      "112:\tlearn: 0.4176213\ttotal: 3.28s\tremaining: 25.7s\n",
      "113:\tlearn: 0.4175961\ttotal: 3.31s\tremaining: 25.7s\n",
      "114:\tlearn: 0.4175677\ttotal: 3.34s\tremaining: 25.7s\n",
      "115:\tlearn: 0.4175426\ttotal: 3.37s\tremaining: 25.7s\n",
      "116:\tlearn: 0.4175025\ttotal: 3.39s\tremaining: 25.6s\n",
      "117:\tlearn: 0.4174671\ttotal: 3.41s\tremaining: 25.5s\n",
      "118:\tlearn: 0.4174073\ttotal: 3.43s\tremaining: 25.4s\n",
      "119:\tlearn: 0.4173809\ttotal: 3.44s\tremaining: 25.2s\n",
      "120:\tlearn: 0.4173427\ttotal: 3.46s\tremaining: 25.1s\n",
      "121:\tlearn: 0.4173103\ttotal: 3.47s\tremaining: 25s\n",
      "122:\tlearn: 0.4172711\ttotal: 3.49s\tremaining: 24.9s\n",
      "123:\tlearn: 0.4172159\ttotal: 3.51s\tremaining: 24.8s\n",
      "124:\tlearn: 0.4171964\ttotal: 3.53s\tremaining: 24.7s\n",
      "125:\tlearn: 0.4171590\ttotal: 3.55s\tremaining: 24.6s\n",
      "126:\tlearn: 0.4171214\ttotal: 3.56s\tremaining: 24.5s\n",
      "127:\tlearn: 0.4170908\ttotal: 3.58s\tremaining: 24.4s\n",
      "128:\tlearn: 0.4170385\ttotal: 3.59s\tremaining: 24.2s\n",
      "129:\tlearn: 0.4169966\ttotal: 3.6s\tremaining: 24.1s\n",
      "130:\tlearn: 0.4169551\ttotal: 3.62s\tremaining: 24s\n",
      "131:\tlearn: 0.4169264\ttotal: 3.64s\tremaining: 23.9s\n",
      "132:\tlearn: 0.4168951\ttotal: 3.66s\tremaining: 23.9s\n",
      "133:\tlearn: 0.4168599\ttotal: 3.68s\tremaining: 23.8s\n",
      "134:\tlearn: 0.4168016\ttotal: 3.71s\tremaining: 23.8s\n",
      "135:\tlearn: 0.4167737\ttotal: 3.73s\tremaining: 23.7s\n",
      "136:\tlearn: 0.4166950\ttotal: 3.76s\tremaining: 23.7s\n",
      "137:\tlearn: 0.4166272\ttotal: 3.81s\tremaining: 23.8s\n",
      "138:\tlearn: 0.4165996\ttotal: 3.84s\tremaining: 23.8s\n",
      "139:\tlearn: 0.4165345\ttotal: 3.86s\tremaining: 23.7s\n",
      "140:\tlearn: 0.4165103\ttotal: 3.9s\tremaining: 23.8s\n",
      "141:\tlearn: 0.4164770\ttotal: 3.92s\tremaining: 23.7s\n",
      "142:\tlearn: 0.4164425\ttotal: 3.94s\tremaining: 23.6s\n",
      "143:\tlearn: 0.4164097\ttotal: 3.96s\tremaining: 23.5s\n",
      "144:\tlearn: 0.4163667\ttotal: 3.97s\tremaining: 23.4s\n",
      "145:\tlearn: 0.4163417\ttotal: 3.98s\tremaining: 23.3s\n",
      "146:\tlearn: 0.4163158\ttotal: 4s\tremaining: 23.2s\n",
      "147:\tlearn: 0.4162900\ttotal: 4.02s\tremaining: 23.1s\n",
      "148:\tlearn: 0.4162515\ttotal: 4.04s\tremaining: 23.1s\n",
      "149:\tlearn: 0.4162221\ttotal: 4.07s\tremaining: 23.1s\n",
      "150:\tlearn: 0.4161680\ttotal: 4.09s\tremaining: 23s\n",
      "151:\tlearn: 0.4161415\ttotal: 4.11s\tremaining: 23s\n",
      "152:\tlearn: 0.4161060\ttotal: 4.14s\tremaining: 22.9s\n",
      "153:\tlearn: 0.4160478\ttotal: 4.17s\tremaining: 22.9s\n",
      "154:\tlearn: 0.4160267\ttotal: 4.19s\tremaining: 22.8s\n",
      "155:\tlearn: 0.4159750\ttotal: 4.23s\tremaining: 22.9s\n",
      "156:\tlearn: 0.4159341\ttotal: 4.28s\tremaining: 23s\n",
      "157:\tlearn: 0.4159015\ttotal: 4.33s\tremaining: 23.1s\n",
      "158:\tlearn: 0.4158633\ttotal: 4.38s\tremaining: 23.2s\n",
      "159:\tlearn: 0.4158207\ttotal: 4.42s\tremaining: 23.2s\n",
      "160:\tlearn: 0.4157889\ttotal: 4.46s\tremaining: 23.2s\n",
      "161:\tlearn: 0.4157587\ttotal: 4.5s\tremaining: 23.3s\n"
     ]
    },
    {
     "name": "stdout",
     "output_type": "stream",
     "text": [
      "162:\tlearn: 0.4157367\ttotal: 4.54s\tremaining: 23.3s\n",
      "163:\tlearn: 0.4157036\ttotal: 4.59s\tremaining: 23.4s\n",
      "164:\tlearn: 0.4156490\ttotal: 4.63s\tremaining: 23.4s\n",
      "165:\tlearn: 0.4156075\ttotal: 4.67s\tremaining: 23.4s\n",
      "166:\tlearn: 0.4155793\ttotal: 4.7s\tremaining: 23.4s\n",
      "167:\tlearn: 0.4155512\ttotal: 4.74s\tremaining: 23.5s\n",
      "168:\tlearn: 0.4155026\ttotal: 4.78s\tremaining: 23.5s\n",
      "169:\tlearn: 0.4154722\ttotal: 4.83s\tremaining: 23.6s\n",
      "170:\tlearn: 0.4154481\ttotal: 4.9s\tremaining: 23.8s\n",
      "171:\tlearn: 0.4154114\ttotal: 4.97s\tremaining: 24s\n",
      "172:\tlearn: 0.4153865\ttotal: 5.02s\tremaining: 24s\n",
      "173:\tlearn: 0.4153575\ttotal: 5.06s\tremaining: 24s\n",
      "174:\tlearn: 0.4153094\ttotal: 5.09s\tremaining: 24s\n",
      "175:\tlearn: 0.4152571\ttotal: 5.11s\tremaining: 23.9s\n",
      "176:\tlearn: 0.4152328\ttotal: 5.12s\tremaining: 23.8s\n",
      "177:\tlearn: 0.4151950\ttotal: 5.14s\tremaining: 23.7s\n",
      "178:\tlearn: 0.4151711\ttotal: 5.15s\tremaining: 23.6s\n",
      "179:\tlearn: 0.4151521\ttotal: 5.17s\tremaining: 23.5s\n",
      "180:\tlearn: 0.4151281\ttotal: 5.19s\tremaining: 23.5s\n",
      "181:\tlearn: 0.4150984\ttotal: 5.21s\tremaining: 23.4s\n",
      "182:\tlearn: 0.4150589\ttotal: 5.23s\tremaining: 23.3s\n",
      "183:\tlearn: 0.4150117\ttotal: 5.25s\tremaining: 23.3s\n",
      "184:\tlearn: 0.4149837\ttotal: 5.28s\tremaining: 23.2s\n",
      "185:\tlearn: 0.4149605\ttotal: 5.29s\tremaining: 23.2s\n",
      "186:\tlearn: 0.4149347\ttotal: 5.3s\tremaining: 23.1s\n",
      "187:\tlearn: 0.4149141\ttotal: 5.32s\tremaining: 23s\n",
      "188:\tlearn: 0.4148764\ttotal: 5.33s\tremaining: 22.9s\n",
      "189:\tlearn: 0.4148260\ttotal: 5.35s\tremaining: 22.8s\n",
      "190:\tlearn: 0.4147950\ttotal: 5.37s\tremaining: 22.7s\n",
      "191:\tlearn: 0.4147699\ttotal: 5.38s\tremaining: 22.6s\n",
      "192:\tlearn: 0.4147384\ttotal: 5.4s\tremaining: 22.6s\n",
      "193:\tlearn: 0.4147205\ttotal: 5.41s\tremaining: 22.5s\n",
      "194:\tlearn: 0.4146991\ttotal: 5.43s\tremaining: 22.4s\n",
      "195:\tlearn: 0.4146668\ttotal: 5.44s\tremaining: 22.3s\n",
      "196:\tlearn: 0.4146264\ttotal: 5.46s\tremaining: 22.2s\n",
      "197:\tlearn: 0.4145919\ttotal: 5.48s\tremaining: 22.2s\n",
      "198:\tlearn: 0.4145629\ttotal: 5.5s\tremaining: 22.1s\n",
      "199:\tlearn: 0.4145212\ttotal: 5.52s\tremaining: 22.1s\n",
      "200:\tlearn: 0.4144932\ttotal: 5.54s\tremaining: 22s\n",
      "201:\tlearn: 0.4144154\ttotal: 5.55s\tremaining: 21.9s\n",
      "202:\tlearn: 0.4143888\ttotal: 5.57s\tremaining: 21.9s\n",
      "203:\tlearn: 0.4143647\ttotal: 5.59s\tremaining: 21.8s\n",
      "204:\tlearn: 0.4143486\ttotal: 5.6s\tremaining: 21.7s\n",
      "205:\tlearn: 0.4143269\ttotal: 5.62s\tremaining: 21.7s\n",
      "206:\tlearn: 0.4143013\ttotal: 5.64s\tremaining: 21.6s\n",
      "207:\tlearn: 0.4142754\ttotal: 5.66s\tremaining: 21.5s\n",
      "208:\tlearn: 0.4142318\ttotal: 5.67s\tremaining: 21.5s\n",
      "209:\tlearn: 0.4141921\ttotal: 5.69s\tremaining: 21.4s\n",
      "210:\tlearn: 0.4141686\ttotal: 5.71s\tremaining: 21.3s\n",
      "211:\tlearn: 0.4141313\ttotal: 5.72s\tremaining: 21.3s\n",
      "212:\tlearn: 0.4140869\ttotal: 5.73s\tremaining: 21.2s\n",
      "213:\tlearn: 0.4140658\ttotal: 5.75s\tremaining: 21.1s\n",
      "214:\tlearn: 0.4140418\ttotal: 5.76s\tremaining: 21s\n",
      "215:\tlearn: 0.4140264\ttotal: 5.77s\tremaining: 21s\n",
      "216:\tlearn: 0.4139824\ttotal: 5.79s\tremaining: 20.9s\n",
      "217:\tlearn: 0.4139636\ttotal: 5.8s\tremaining: 20.8s\n",
      "218:\tlearn: 0.4139323\ttotal: 5.82s\tremaining: 20.8s\n",
      "219:\tlearn: 0.4139069\ttotal: 5.87s\tremaining: 20.8s\n",
      "220:\tlearn: 0.4138902\ttotal: 5.89s\tremaining: 20.8s\n",
      "221:\tlearn: 0.4138720\ttotal: 5.91s\tremaining: 20.7s\n",
      "222:\tlearn: 0.4138462\ttotal: 5.92s\tremaining: 20.6s\n",
      "223:\tlearn: 0.4138247\ttotal: 5.94s\tremaining: 20.6s\n",
      "224:\tlearn: 0.4138033\ttotal: 5.95s\tremaining: 20.5s\n",
      "225:\tlearn: 0.4137681\ttotal: 5.96s\tremaining: 20.4s\n",
      "226:\tlearn: 0.4137407\ttotal: 5.98s\tremaining: 20.4s\n",
      "227:\tlearn: 0.4137104\ttotal: 5.99s\tremaining: 20.3s\n",
      "228:\tlearn: 0.4136964\ttotal: 6s\tremaining: 20.2s\n",
      "229:\tlearn: 0.4136377\ttotal: 6.02s\tremaining: 20.2s\n",
      "230:\tlearn: 0.4136121\ttotal: 6.04s\tremaining: 20.1s\n",
      "231:\tlearn: 0.4136009\ttotal: 6.06s\tremaining: 20.1s\n",
      "232:\tlearn: 0.4135441\ttotal: 6.08s\tremaining: 20s\n",
      "233:\tlearn: 0.4135259\ttotal: 6.09s\tremaining: 19.9s\n",
      "234:\tlearn: 0.4134940\ttotal: 6.11s\tremaining: 19.9s\n",
      "235:\tlearn: 0.4134665\ttotal: 6.13s\tremaining: 19.8s\n",
      "236:\tlearn: 0.4134348\ttotal: 6.14s\tremaining: 19.8s\n",
      "237:\tlearn: 0.4134054\ttotal: 6.16s\tremaining: 19.7s\n",
      "238:\tlearn: 0.4133916\ttotal: 6.18s\tremaining: 19.7s\n",
      "239:\tlearn: 0.4133553\ttotal: 6.19s\tremaining: 19.6s\n",
      "240:\tlearn: 0.4133360\ttotal: 6.21s\tremaining: 19.6s\n",
      "241:\tlearn: 0.4133055\ttotal: 6.23s\tremaining: 19.5s\n",
      "242:\tlearn: 0.4132769\ttotal: 6.24s\tremaining: 19.4s\n",
      "243:\tlearn: 0.4132438\ttotal: 6.26s\tremaining: 19.4s\n",
      "244:\tlearn: 0.4132194\ttotal: 6.28s\tremaining: 19.3s\n",
      "245:\tlearn: 0.4131947\ttotal: 6.29s\tremaining: 19.3s\n",
      "246:\tlearn: 0.4131724\ttotal: 6.3s\tremaining: 19.2s\n",
      "247:\tlearn: 0.4131470\ttotal: 6.31s\tremaining: 19.1s\n",
      "248:\tlearn: 0.4131247\ttotal: 6.32s\tremaining: 19.1s\n",
      "249:\tlearn: 0.4130918\ttotal: 6.34s\tremaining: 19s\n",
      "250:\tlearn: 0.4130510\ttotal: 6.35s\tremaining: 19s\n",
      "251:\tlearn: 0.4130348\ttotal: 6.37s\tremaining: 18.9s\n",
      "252:\tlearn: 0.4130144\ttotal: 6.39s\tremaining: 18.9s\n",
      "253:\tlearn: 0.4129763\ttotal: 6.41s\tremaining: 18.8s\n",
      "254:\tlearn: 0.4129488\ttotal: 6.42s\tremaining: 18.8s\n",
      "255:\tlearn: 0.4129255\ttotal: 6.44s\tremaining: 18.7s\n",
      "256:\tlearn: 0.4129121\ttotal: 6.45s\tremaining: 18.7s\n",
      "257:\tlearn: 0.4128841\ttotal: 6.47s\tremaining: 18.6s\n",
      "258:\tlearn: 0.4128667\ttotal: 6.48s\tremaining: 18.5s\n",
      "259:\tlearn: 0.4128388\ttotal: 6.49s\tremaining: 18.5s\n",
      "260:\tlearn: 0.4128194\ttotal: 6.5s\tremaining: 18.4s\n",
      "261:\tlearn: 0.4128046\ttotal: 6.51s\tremaining: 18.4s\n",
      "262:\tlearn: 0.4127803\ttotal: 6.53s\tremaining: 18.3s\n",
      "263:\tlearn: 0.4127617\ttotal: 6.54s\tremaining: 18.2s\n",
      "264:\tlearn: 0.4127435\ttotal: 6.56s\tremaining: 18.2s\n",
      "265:\tlearn: 0.4127185\ttotal: 6.57s\tremaining: 18.1s\n",
      "266:\tlearn: 0.4126875\ttotal: 6.59s\tremaining: 18.1s\n",
      "267:\tlearn: 0.4126665\ttotal: 6.6s\tremaining: 18s\n",
      "268:\tlearn: 0.4126494\ttotal: 6.62s\tremaining: 18s\n",
      "269:\tlearn: 0.4126363\ttotal: 6.63s\tremaining: 17.9s\n",
      "270:\tlearn: 0.4126200\ttotal: 6.65s\tremaining: 17.9s\n",
      "271:\tlearn: 0.4126062\ttotal: 6.67s\tremaining: 17.8s\n",
      "272:\tlearn: 0.4125649\ttotal: 6.69s\tremaining: 17.8s\n",
      "273:\tlearn: 0.4125492\ttotal: 6.7s\tremaining: 17.8s\n",
      "274:\tlearn: 0.4125259\ttotal: 6.72s\tremaining: 17.7s\n",
      "275:\tlearn: 0.4124952\ttotal: 6.73s\tremaining: 17.7s\n",
      "276:\tlearn: 0.4124725\ttotal: 6.75s\tremaining: 17.6s\n",
      "277:\tlearn: 0.4124604\ttotal: 6.77s\tremaining: 17.6s\n",
      "278:\tlearn: 0.4124331\ttotal: 6.78s\tremaining: 17.5s\n",
      "279:\tlearn: 0.4124145\ttotal: 6.8s\tremaining: 17.5s\n",
      "280:\tlearn: 0.4123735\ttotal: 6.82s\tremaining: 17.4s\n",
      "281:\tlearn: 0.4123505\ttotal: 6.83s\tremaining: 17.4s\n",
      "282:\tlearn: 0.4123313\ttotal: 6.86s\tremaining: 17.4s\n",
      "283:\tlearn: 0.4123142\ttotal: 6.88s\tremaining: 17.3s\n",
      "284:\tlearn: 0.4122785\ttotal: 6.89s\tremaining: 17.3s\n",
      "285:\tlearn: 0.4122581\ttotal: 6.91s\tremaining: 17.2s\n",
      "286:\tlearn: 0.4122405\ttotal: 6.92s\tremaining: 17.2s\n",
      "287:\tlearn: 0.4122141\ttotal: 6.93s\tremaining: 17.1s\n",
      "288:\tlearn: 0.4121898\ttotal: 6.94s\tremaining: 17.1s\n",
      "289:\tlearn: 0.4121572\ttotal: 6.96s\tremaining: 17s\n",
      "290:\tlearn: 0.4121454\ttotal: 6.97s\tremaining: 17s\n",
      "291:\tlearn: 0.4121209\ttotal: 6.98s\tremaining: 16.9s\n",
      "292:\tlearn: 0.4121015\ttotal: 6.99s\tremaining: 16.9s\n",
      "293:\tlearn: 0.4120605\ttotal: 7.01s\tremaining: 16.8s\n",
      "294:\tlearn: 0.4120486\ttotal: 7.03s\tremaining: 16.8s\n",
      "295:\tlearn: 0.4120342\ttotal: 7.04s\tremaining: 16.7s\n",
      "296:\tlearn: 0.4120056\ttotal: 7.05s\tremaining: 16.7s\n",
      "297:\tlearn: 0.4119753\ttotal: 7.07s\tremaining: 16.6s\n",
      "298:\tlearn: 0.4119645\ttotal: 7.08s\tremaining: 16.6s\n",
      "299:\tlearn: 0.4119406\ttotal: 7.09s\tremaining: 16.5s\n",
      "300:\tlearn: 0.4119236\ttotal: 7.1s\tremaining: 16.5s\n",
      "301:\tlearn: 0.4119007\ttotal: 7.12s\tremaining: 16.4s\n",
      "302:\tlearn: 0.4118769\ttotal: 7.13s\tremaining: 16.4s\n",
      "303:\tlearn: 0.4118485\ttotal: 7.14s\tremaining: 16.3s\n",
      "304:\tlearn: 0.4118268\ttotal: 7.15s\tremaining: 16.3s\n",
      "305:\tlearn: 0.4117932\ttotal: 7.16s\tremaining: 16.2s\n",
      "306:\tlearn: 0.4117812\ttotal: 7.18s\tremaining: 16.2s\n",
      "307:\tlearn: 0.4117316\ttotal: 7.19s\tremaining: 16.2s\n",
      "308:\tlearn: 0.4117058\ttotal: 7.2s\tremaining: 16.1s\n",
      "309:\tlearn: 0.4116854\ttotal: 7.22s\tremaining: 16.1s\n",
      "310:\tlearn: 0.4116630\ttotal: 7.23s\tremaining: 16s\n",
      "311:\tlearn: 0.4116494\ttotal: 7.25s\tremaining: 16s\n",
      "312:\tlearn: 0.4116185\ttotal: 7.26s\tremaining: 15.9s\n",
      "313:\tlearn: 0.4115929\ttotal: 7.28s\tremaining: 15.9s\n",
      "314:\tlearn: 0.4115640\ttotal: 7.29s\tremaining: 15.8s\n",
      "315:\tlearn: 0.4115389\ttotal: 7.3s\tremaining: 15.8s\n",
      "316:\tlearn: 0.4115311\ttotal: 7.31s\tremaining: 15.8s\n",
      "317:\tlearn: 0.4115157\ttotal: 7.32s\tremaining: 15.7s\n",
      "318:\tlearn: 0.4114883\ttotal: 7.33s\tremaining: 15.7s\n",
      "319:\tlearn: 0.4114723\ttotal: 7.34s\tremaining: 15.6s\n",
      "320:\tlearn: 0.4114435\ttotal: 7.36s\tremaining: 15.6s\n",
      "321:\tlearn: 0.4114192\ttotal: 7.37s\tremaining: 15.5s\n",
      "322:\tlearn: 0.4114023\ttotal: 7.39s\tremaining: 15.5s\n"
     ]
    },
    {
     "name": "stdout",
     "output_type": "stream",
     "text": [
      "323:\tlearn: 0.4113770\ttotal: 7.41s\tremaining: 15.5s\n",
      "324:\tlearn: 0.4113552\ttotal: 7.43s\tremaining: 15.4s\n",
      "325:\tlearn: 0.4113348\ttotal: 7.45s\tremaining: 15.4s\n",
      "326:\tlearn: 0.4113187\ttotal: 7.47s\tremaining: 15.4s\n",
      "327:\tlearn: 0.4112972\ttotal: 7.48s\tremaining: 15.3s\n",
      "328:\tlearn: 0.4112701\ttotal: 7.5s\tremaining: 15.3s\n",
      "329:\tlearn: 0.4112436\ttotal: 7.51s\tremaining: 15.2s\n",
      "330:\tlearn: 0.4112224\ttotal: 7.52s\tremaining: 15.2s\n",
      "331:\tlearn: 0.4112072\ttotal: 7.53s\tremaining: 15.2s\n",
      "332:\tlearn: 0.4111836\ttotal: 7.54s\tremaining: 15.1s\n",
      "333:\tlearn: 0.4111683\ttotal: 7.56s\tremaining: 15.1s\n",
      "334:\tlearn: 0.4110981\ttotal: 7.57s\tremaining: 15s\n",
      "335:\tlearn: 0.4110660\ttotal: 7.58s\tremaining: 15s\n",
      "336:\tlearn: 0.4110426\ttotal: 7.59s\tremaining: 14.9s\n",
      "337:\tlearn: 0.4110095\ttotal: 7.61s\tremaining: 14.9s\n",
      "338:\tlearn: 0.4109928\ttotal: 7.62s\tremaining: 14.9s\n",
      "339:\tlearn: 0.4109676\ttotal: 7.64s\tremaining: 14.8s\n",
      "340:\tlearn: 0.4109514\ttotal: 7.66s\tremaining: 14.8s\n",
      "341:\tlearn: 0.4109354\ttotal: 7.68s\tremaining: 14.8s\n",
      "342:\tlearn: 0.4109131\ttotal: 7.7s\tremaining: 14.7s\n",
      "343:\tlearn: 0.4108825\ttotal: 7.72s\tremaining: 14.7s\n",
      "344:\tlearn: 0.4108588\ttotal: 7.73s\tremaining: 14.7s\n",
      "345:\tlearn: 0.4108414\ttotal: 7.75s\tremaining: 14.7s\n",
      "346:\tlearn: 0.4108278\ttotal: 7.77s\tremaining: 14.6s\n",
      "347:\tlearn: 0.4108055\ttotal: 7.79s\tremaining: 14.6s\n",
      "348:\tlearn: 0.4107851\ttotal: 7.81s\tremaining: 14.6s\n",
      "349:\tlearn: 0.4107680\ttotal: 7.82s\tremaining: 14.5s\n",
      "350:\tlearn: 0.4107497\ttotal: 7.84s\tremaining: 14.5s\n",
      "351:\tlearn: 0.4107102\ttotal: 7.86s\tremaining: 14.5s\n",
      "352:\tlearn: 0.4106900\ttotal: 7.89s\tremaining: 14.5s\n",
      "353:\tlearn: 0.4106729\ttotal: 7.91s\tremaining: 14.4s\n",
      "354:\tlearn: 0.4106428\ttotal: 7.92s\tremaining: 14.4s\n",
      "355:\tlearn: 0.4105968\ttotal: 7.94s\tremaining: 14.4s\n",
      "356:\tlearn: 0.4105872\ttotal: 7.95s\tremaining: 14.3s\n",
      "357:\tlearn: 0.4105657\ttotal: 7.96s\tremaining: 14.3s\n",
      "358:\tlearn: 0.4105490\ttotal: 7.98s\tremaining: 14.2s\n",
      "359:\tlearn: 0.4105213\ttotal: 7.99s\tremaining: 14.2s\n",
      "360:\tlearn: 0.4105056\ttotal: 8s\tremaining: 14.2s\n",
      "361:\tlearn: 0.4104805\ttotal: 8.02s\tremaining: 14.1s\n",
      "362:\tlearn: 0.4104598\ttotal: 8.03s\tremaining: 14.1s\n",
      "363:\tlearn: 0.4104376\ttotal: 8.05s\tremaining: 14.1s\n",
      "364:\tlearn: 0.4104237\ttotal: 8.06s\tremaining: 14s\n",
      "365:\tlearn: 0.4104108\ttotal: 8.08s\tremaining: 14s\n",
      "366:\tlearn: 0.4103815\ttotal: 8.09s\tremaining: 14s\n",
      "367:\tlearn: 0.4103640\ttotal: 8.11s\tremaining: 13.9s\n",
      "368:\tlearn: 0.4103304\ttotal: 8.13s\tremaining: 13.9s\n",
      "369:\tlearn: 0.4103074\ttotal: 8.15s\tremaining: 13.9s\n",
      "370:\tlearn: 0.4102834\ttotal: 8.17s\tremaining: 13.9s\n",
      "371:\tlearn: 0.4102707\ttotal: 8.19s\tremaining: 13.8s\n",
      "372:\tlearn: 0.4102485\ttotal: 8.2s\tremaining: 13.8s\n",
      "373:\tlearn: 0.4102094\ttotal: 8.23s\tremaining: 13.8s\n",
      "374:\tlearn: 0.4101896\ttotal: 8.25s\tremaining: 13.7s\n",
      "375:\tlearn: 0.4101757\ttotal: 8.26s\tremaining: 13.7s\n",
      "376:\tlearn: 0.4101619\ttotal: 8.28s\tremaining: 13.7s\n",
      "377:\tlearn: 0.4101450\ttotal: 8.3s\tremaining: 13.7s\n",
      "378:\tlearn: 0.4101151\ttotal: 8.31s\tremaining: 13.6s\n",
      "379:\tlearn: 0.4101031\ttotal: 8.33s\tremaining: 13.6s\n",
      "380:\tlearn: 0.4100862\ttotal: 8.35s\tremaining: 13.6s\n",
      "381:\tlearn: 0.4100599\ttotal: 8.36s\tremaining: 13.5s\n",
      "382:\tlearn: 0.4100421\ttotal: 8.37s\tremaining: 13.5s\n",
      "383:\tlearn: 0.4100283\ttotal: 8.39s\tremaining: 13.5s\n",
      "384:\tlearn: 0.4100133\ttotal: 8.41s\tremaining: 13.4s\n",
      "385:\tlearn: 0.4099966\ttotal: 8.43s\tremaining: 13.4s\n",
      "386:\tlearn: 0.4099376\ttotal: 8.45s\tremaining: 13.4s\n",
      "387:\tlearn: 0.4099196\ttotal: 8.47s\tremaining: 13.4s\n",
      "388:\tlearn: 0.4099018\ttotal: 8.49s\tremaining: 13.3s\n",
      "389:\tlearn: 0.4098816\ttotal: 8.51s\tremaining: 13.3s\n",
      "390:\tlearn: 0.4098654\ttotal: 8.53s\tremaining: 13.3s\n",
      "391:\tlearn: 0.4098422\ttotal: 8.55s\tremaining: 13.3s\n",
      "392:\tlearn: 0.4098278\ttotal: 8.57s\tremaining: 13.2s\n",
      "393:\tlearn: 0.4098103\ttotal: 8.59s\tremaining: 13.2s\n",
      "394:\tlearn: 0.4097862\ttotal: 8.61s\tremaining: 13.2s\n",
      "395:\tlearn: 0.4097658\ttotal: 8.63s\tremaining: 13.2s\n",
      "396:\tlearn: 0.4097450\ttotal: 8.64s\tremaining: 13.1s\n",
      "397:\tlearn: 0.4097264\ttotal: 8.66s\tremaining: 13.1s\n",
      "398:\tlearn: 0.4096980\ttotal: 8.68s\tremaining: 13.1s\n",
      "399:\tlearn: 0.4096791\ttotal: 8.69s\tremaining: 13s\n",
      "400:\tlearn: 0.4096682\ttotal: 8.71s\tremaining: 13s\n",
      "401:\tlearn: 0.4096542\ttotal: 8.73s\tremaining: 13s\n",
      "402:\tlearn: 0.4096402\ttotal: 8.74s\tremaining: 13s\n",
      "403:\tlearn: 0.4096309\ttotal: 8.76s\tremaining: 12.9s\n",
      "404:\tlearn: 0.4096151\ttotal: 8.78s\tremaining: 12.9s\n",
      "405:\tlearn: 0.4096030\ttotal: 8.8s\tremaining: 12.9s\n",
      "406:\tlearn: 0.4095797\ttotal: 8.81s\tremaining: 12.8s\n",
      "407:\tlearn: 0.4095623\ttotal: 8.83s\tremaining: 12.8s\n",
      "408:\tlearn: 0.4095397\ttotal: 8.85s\tremaining: 12.8s\n",
      "409:\tlearn: 0.4095097\ttotal: 8.87s\tremaining: 12.8s\n",
      "410:\tlearn: 0.4094916\ttotal: 8.89s\tremaining: 12.7s\n",
      "411:\tlearn: 0.4094804\ttotal: 8.91s\tremaining: 12.7s\n",
      "412:\tlearn: 0.4094701\ttotal: 8.94s\tremaining: 12.7s\n",
      "413:\tlearn: 0.4094569\ttotal: 8.96s\tremaining: 12.7s\n",
      "414:\tlearn: 0.4094304\ttotal: 8.98s\tremaining: 12.7s\n",
      "415:\tlearn: 0.4094103\ttotal: 8.99s\tremaining: 12.6s\n",
      "416:\tlearn: 0.4093692\ttotal: 9.01s\tremaining: 12.6s\n",
      "417:\tlearn: 0.4093571\ttotal: 9.02s\tremaining: 12.6s\n",
      "418:\tlearn: 0.4093432\ttotal: 9.03s\tremaining: 12.5s\n",
      "419:\tlearn: 0.4093222\ttotal: 9.05s\tremaining: 12.5s\n",
      "420:\tlearn: 0.4093018\ttotal: 9.06s\tremaining: 12.5s\n",
      "421:\tlearn: 0.4092774\ttotal: 9.08s\tremaining: 12.4s\n",
      "422:\tlearn: 0.4092626\ttotal: 9.1s\tremaining: 12.4s\n",
      "423:\tlearn: 0.4092473\ttotal: 9.12s\tremaining: 12.4s\n",
      "424:\tlearn: 0.4092288\ttotal: 9.13s\tremaining: 12.4s\n",
      "425:\tlearn: 0.4092138\ttotal: 9.16s\tremaining: 12.3s\n",
      "426:\tlearn: 0.4091920\ttotal: 9.19s\tremaining: 12.3s\n",
      "427:\tlearn: 0.4091783\ttotal: 9.21s\tremaining: 12.3s\n",
      "428:\tlearn: 0.4091504\ttotal: 9.23s\tremaining: 12.3s\n",
      "429:\tlearn: 0.4091386\ttotal: 9.25s\tremaining: 12.3s\n",
      "430:\tlearn: 0.4091160\ttotal: 9.27s\tremaining: 12.2s\n",
      "431:\tlearn: 0.4091016\ttotal: 9.28s\tremaining: 12.2s\n",
      "432:\tlearn: 0.4090862\ttotal: 9.3s\tremaining: 12.2s\n",
      "433:\tlearn: 0.4090630\ttotal: 9.31s\tremaining: 12.1s\n",
      "434:\tlearn: 0.4090069\ttotal: 9.33s\tremaining: 12.1s\n",
      "435:\tlearn: 0.4089723\ttotal: 9.34s\tremaining: 12.1s\n",
      "436:\tlearn: 0.4089518\ttotal: 9.36s\tremaining: 12.1s\n",
      "437:\tlearn: 0.4089412\ttotal: 9.37s\tremaining: 12s\n",
      "438:\tlearn: 0.4089262\ttotal: 9.38s\tremaining: 12s\n",
      "439:\tlearn: 0.4089107\ttotal: 9.39s\tremaining: 12s\n",
      "440:\tlearn: 0.4089008\ttotal: 9.4s\tremaining: 11.9s\n",
      "441:\tlearn: 0.4088759\ttotal: 9.42s\tremaining: 11.9s\n",
      "442:\tlearn: 0.4088563\ttotal: 9.45s\tremaining: 11.9s\n",
      "443:\tlearn: 0.4088446\ttotal: 9.47s\tremaining: 11.9s\n",
      "444:\tlearn: 0.4088300\ttotal: 9.5s\tremaining: 11.8s\n",
      "445:\tlearn: 0.4088126\ttotal: 9.52s\tremaining: 11.8s\n",
      "446:\tlearn: 0.4088005\ttotal: 9.54s\tremaining: 11.8s\n",
      "447:\tlearn: 0.4087775\ttotal: 9.56s\tremaining: 11.8s\n",
      "448:\tlearn: 0.4087572\ttotal: 9.58s\tremaining: 11.8s\n",
      "449:\tlearn: 0.4087418\ttotal: 9.6s\tremaining: 11.7s\n",
      "450:\tlearn: 0.4087240\ttotal: 9.62s\tremaining: 11.7s\n",
      "451:\tlearn: 0.4087076\ttotal: 9.64s\tremaining: 11.7s\n",
      "452:\tlearn: 0.4086886\ttotal: 9.65s\tremaining: 11.7s\n",
      "453:\tlearn: 0.4086743\ttotal: 9.67s\tremaining: 11.6s\n",
      "454:\tlearn: 0.4086628\ttotal: 9.69s\tremaining: 11.6s\n",
      "455:\tlearn: 0.4086452\ttotal: 9.7s\tremaining: 11.6s\n",
      "456:\tlearn: 0.4086337\ttotal: 9.71s\tremaining: 11.5s\n",
      "457:\tlearn: 0.4086163\ttotal: 9.73s\tremaining: 11.5s\n",
      "458:\tlearn: 0.4085971\ttotal: 9.74s\tremaining: 11.5s\n",
      "459:\tlearn: 0.4085479\ttotal: 9.76s\tremaining: 11.5s\n",
      "460:\tlearn: 0.4085345\ttotal: 9.78s\tremaining: 11.4s\n",
      "461:\tlearn: 0.4085149\ttotal: 9.8s\tremaining: 11.4s\n",
      "462:\tlearn: 0.4085058\ttotal: 9.82s\tremaining: 11.4s\n",
      "463:\tlearn: 0.4084914\ttotal: 9.84s\tremaining: 11.4s\n",
      "464:\tlearn: 0.4084627\ttotal: 9.87s\tremaining: 11.4s\n",
      "465:\tlearn: 0.4084506\ttotal: 9.88s\tremaining: 11.3s\n",
      "466:\tlearn: 0.4084371\ttotal: 9.9s\tremaining: 11.3s\n",
      "467:\tlearn: 0.4084155\ttotal: 9.92s\tremaining: 11.3s\n",
      "468:\tlearn: 0.4083982\ttotal: 9.94s\tremaining: 11.3s\n",
      "469:\tlearn: 0.4083794\ttotal: 9.98s\tremaining: 11.3s\n",
      "470:\tlearn: 0.4083651\ttotal: 10s\tremaining: 11.3s\n",
      "471:\tlearn: 0.4083514\ttotal: 10.1s\tremaining: 11.2s\n",
      "472:\tlearn: 0.4083288\ttotal: 10.1s\tremaining: 11.3s\n",
      "473:\tlearn: 0.4083091\ttotal: 10.2s\tremaining: 11.3s\n",
      "474:\tlearn: 0.4082877\ttotal: 10.2s\tremaining: 11.3s\n",
      "475:\tlearn: 0.4082730\ttotal: 10.3s\tremaining: 11.3s\n",
      "476:\tlearn: 0.4082539\ttotal: 10.3s\tremaining: 11.3s\n",
      "477:\tlearn: 0.4082434\ttotal: 10.4s\tremaining: 11.3s\n",
      "478:\tlearn: 0.4082264\ttotal: 10.4s\tremaining: 11.3s\n",
      "479:\tlearn: 0.4082076\ttotal: 10.5s\tremaining: 11.3s\n",
      "480:\tlearn: 0.4081911\ttotal: 10.5s\tremaining: 11.4s\n",
      "481:\tlearn: 0.4081751\ttotal: 10.6s\tremaining: 11.4s\n",
      "482:\tlearn: 0.4081574\ttotal: 10.6s\tremaining: 11.4s\n"
     ]
    },
    {
     "name": "stdout",
     "output_type": "stream",
     "text": [
      "483:\tlearn: 0.4081478\ttotal: 10.7s\tremaining: 11.4s\n",
      "484:\tlearn: 0.4081356\ttotal: 10.7s\tremaining: 11.4s\n",
      "485:\tlearn: 0.4081163\ttotal: 10.7s\tremaining: 11.3s\n",
      "486:\tlearn: 0.4080955\ttotal: 10.7s\tremaining: 11.3s\n",
      "487:\tlearn: 0.4080823\ttotal: 10.8s\tremaining: 11.3s\n",
      "488:\tlearn: 0.4080669\ttotal: 10.8s\tremaining: 11.3s\n",
      "489:\tlearn: 0.4080475\ttotal: 10.8s\tremaining: 11.2s\n",
      "490:\tlearn: 0.4080322\ttotal: 10.8s\tremaining: 11.2s\n",
      "491:\tlearn: 0.4080132\ttotal: 10.8s\tremaining: 11.2s\n",
      "492:\tlearn: 0.4079789\ttotal: 10.9s\tremaining: 11.2s\n",
      "493:\tlearn: 0.4079671\ttotal: 10.9s\tremaining: 11.2s\n",
      "494:\tlearn: 0.4079438\ttotal: 10.9s\tremaining: 11.1s\n",
      "495:\tlearn: 0.4079175\ttotal: 10.9s\tremaining: 11.1s\n",
      "496:\tlearn: 0.4079034\ttotal: 10.9s\tremaining: 11.1s\n",
      "497:\tlearn: 0.4078934\ttotal: 11s\tremaining: 11.1s\n",
      "498:\tlearn: 0.4078785\ttotal: 11s\tremaining: 11s\n",
      "499:\tlearn: 0.4078571\ttotal: 11s\tremaining: 11s\n",
      "500:\tlearn: 0.4078366\ttotal: 11s\tremaining: 11s\n",
      "501:\tlearn: 0.4078204\ttotal: 11s\tremaining: 10.9s\n",
      "502:\tlearn: 0.4078071\ttotal: 11.1s\tremaining: 10.9s\n",
      "503:\tlearn: 0.4078001\ttotal: 11.1s\tremaining: 10.9s\n",
      "504:\tlearn: 0.4077843\ttotal: 11.1s\tremaining: 10.9s\n",
      "505:\tlearn: 0.4077788\ttotal: 11.1s\tremaining: 10.8s\n",
      "506:\tlearn: 0.4077670\ttotal: 11.1s\tremaining: 10.8s\n",
      "507:\tlearn: 0.4077192\ttotal: 11.1s\tremaining: 10.8s\n",
      "508:\tlearn: 0.4077051\ttotal: 11.1s\tremaining: 10.7s\n",
      "509:\tlearn: 0.4076793\ttotal: 11.2s\tremaining: 10.7s\n",
      "510:\tlearn: 0.4076479\ttotal: 11.2s\tremaining: 10.7s\n",
      "511:\tlearn: 0.4076067\ttotal: 11.2s\tremaining: 10.7s\n",
      "512:\tlearn: 0.4075828\ttotal: 11.2s\tremaining: 10.6s\n",
      "513:\tlearn: 0.4075530\ttotal: 11.2s\tremaining: 10.6s\n",
      "514:\tlearn: 0.4075381\ttotal: 11.2s\tremaining: 10.6s\n",
      "515:\tlearn: 0.4075280\ttotal: 11.3s\tremaining: 10.6s\n",
      "516:\tlearn: 0.4075021\ttotal: 11.3s\tremaining: 10.5s\n",
      "517:\tlearn: 0.4074850\ttotal: 11.3s\tremaining: 10.5s\n",
      "518:\tlearn: 0.4074752\ttotal: 11.3s\tremaining: 10.5s\n",
      "519:\tlearn: 0.4074614\ttotal: 11.3s\tremaining: 10.5s\n",
      "520:\tlearn: 0.4074482\ttotal: 11.3s\tremaining: 10.4s\n",
      "521:\tlearn: 0.4074385\ttotal: 11.4s\tremaining: 10.4s\n",
      "522:\tlearn: 0.4074264\ttotal: 11.4s\tremaining: 10.4s\n",
      "523:\tlearn: 0.4074109\ttotal: 11.4s\tremaining: 10.3s\n",
      "524:\tlearn: 0.4073806\ttotal: 11.4s\tremaining: 10.3s\n",
      "525:\tlearn: 0.4073671\ttotal: 11.4s\tremaining: 10.3s\n",
      "526:\tlearn: 0.4073581\ttotal: 11.4s\tremaining: 10.3s\n",
      "527:\tlearn: 0.4073491\ttotal: 11.4s\tremaining: 10.2s\n",
      "528:\tlearn: 0.4073332\ttotal: 11.5s\tremaining: 10.2s\n",
      "529:\tlearn: 0.4073219\ttotal: 11.5s\tremaining: 10.2s\n",
      "530:\tlearn: 0.4073088\ttotal: 11.5s\tremaining: 10.2s\n",
      "531:\tlearn: 0.4072922\ttotal: 11.5s\tremaining: 10.1s\n",
      "532:\tlearn: 0.4072842\ttotal: 11.6s\tremaining: 10.1s\n",
      "533:\tlearn: 0.4072685\ttotal: 11.6s\tremaining: 10.1s\n",
      "534:\tlearn: 0.4072560\ttotal: 11.6s\tremaining: 10.1s\n",
      "535:\tlearn: 0.4072376\ttotal: 11.6s\tremaining: 10.1s\n",
      "536:\tlearn: 0.4072197\ttotal: 11.6s\tremaining: 10s\n",
      "537:\tlearn: 0.4071995\ttotal: 11.6s\tremaining: 10s\n",
      "538:\tlearn: 0.4071758\ttotal: 11.7s\tremaining: 9.98s\n",
      "539:\tlearn: 0.4071622\ttotal: 11.7s\tremaining: 9.95s\n",
      "540:\tlearn: 0.4071518\ttotal: 11.7s\tremaining: 9.92s\n",
      "541:\tlearn: 0.4071421\ttotal: 11.7s\tremaining: 9.89s\n",
      "542:\tlearn: 0.4071283\ttotal: 11.7s\tremaining: 9.86s\n",
      "543:\tlearn: 0.4071125\ttotal: 11.7s\tremaining: 9.83s\n",
      "544:\tlearn: 0.4071035\ttotal: 11.7s\tremaining: 9.8s\n",
      "545:\tlearn: 0.4070901\ttotal: 11.8s\tremaining: 9.77s\n",
      "546:\tlearn: 0.4070721\ttotal: 11.8s\tremaining: 9.75s\n",
      "547:\tlearn: 0.4070577\ttotal: 11.8s\tremaining: 9.72s\n",
      "548:\tlearn: 0.4070437\ttotal: 11.8s\tremaining: 9.7s\n",
      "549:\tlearn: 0.4070279\ttotal: 11.8s\tremaining: 9.68s\n",
      "550:\tlearn: 0.4070158\ttotal: 11.8s\tremaining: 9.65s\n",
      "551:\tlearn: 0.4070030\ttotal: 11.9s\tremaining: 9.63s\n",
      "552:\tlearn: 0.4069874\ttotal: 11.9s\tremaining: 9.6s\n",
      "553:\tlearn: 0.4069771\ttotal: 11.9s\tremaining: 9.58s\n",
      "554:\tlearn: 0.4069700\ttotal: 11.9s\tremaining: 9.55s\n",
      "555:\tlearn: 0.4069566\ttotal: 11.9s\tremaining: 9.53s\n",
      "556:\tlearn: 0.4069445\ttotal: 11.9s\tremaining: 9.5s\n",
      "557:\tlearn: 0.4069251\ttotal: 12s\tremaining: 9.47s\n",
      "558:\tlearn: 0.4069034\ttotal: 12s\tremaining: 9.45s\n",
      "559:\tlearn: 0.4068871\ttotal: 12s\tremaining: 9.43s\n",
      "560:\tlearn: 0.4068727\ttotal: 12s\tremaining: 9.41s\n",
      "561:\tlearn: 0.4068607\ttotal: 12.1s\tremaining: 9.39s\n",
      "562:\tlearn: 0.4068450\ttotal: 12.1s\tremaining: 9.37s\n",
      "563:\tlearn: 0.4068208\ttotal: 12.1s\tremaining: 9.34s\n",
      "564:\tlearn: 0.4068032\ttotal: 12.1s\tremaining: 9.31s\n",
      "565:\tlearn: 0.4067858\ttotal: 12.1s\tremaining: 9.29s\n",
      "566:\tlearn: 0.4067677\ttotal: 12.1s\tremaining: 9.26s\n",
      "567:\tlearn: 0.4067453\ttotal: 12.1s\tremaining: 9.24s\n",
      "568:\tlearn: 0.4067320\ttotal: 12.2s\tremaining: 9.21s\n",
      "569:\tlearn: 0.4067151\ttotal: 12.2s\tremaining: 9.19s\n",
      "570:\tlearn: 0.4066937\ttotal: 12.2s\tremaining: 9.16s\n",
      "571:\tlearn: 0.4066814\ttotal: 12.2s\tremaining: 9.14s\n",
      "572:\tlearn: 0.4066657\ttotal: 12.2s\tremaining: 9.12s\n",
      "573:\tlearn: 0.4066527\ttotal: 12.3s\tremaining: 9.09s\n",
      "574:\tlearn: 0.4066479\ttotal: 12.3s\tremaining: 9.07s\n",
      "575:\tlearn: 0.4066335\ttotal: 12.3s\tremaining: 9.04s\n",
      "576:\tlearn: 0.4066067\ttotal: 12.3s\tremaining: 9.02s\n",
      "577:\tlearn: 0.4065928\ttotal: 12.3s\tremaining: 9s\n",
      "578:\tlearn: 0.4065762\ttotal: 12.3s\tremaining: 8.97s\n",
      "579:\tlearn: 0.4065599\ttotal: 12.4s\tremaining: 8.94s\n",
      "580:\tlearn: 0.4065427\ttotal: 12.4s\tremaining: 8.92s\n",
      "581:\tlearn: 0.4065238\ttotal: 12.4s\tremaining: 8.89s\n",
      "582:\tlearn: 0.4065155\ttotal: 12.4s\tremaining: 8.86s\n",
      "583:\tlearn: 0.4065031\ttotal: 12.4s\tremaining: 8.83s\n",
      "584:\tlearn: 0.4064884\ttotal: 12.4s\tremaining: 8.81s\n",
      "585:\tlearn: 0.4064719\ttotal: 12.4s\tremaining: 8.78s\n",
      "586:\tlearn: 0.4064463\ttotal: 12.4s\tremaining: 8.76s\n",
      "587:\tlearn: 0.4064238\ttotal: 12.5s\tremaining: 8.73s\n",
      "588:\tlearn: 0.4064153\ttotal: 12.5s\tremaining: 8.7s\n",
      "589:\tlearn: 0.4064003\ttotal: 12.5s\tremaining: 8.68s\n",
      "590:\tlearn: 0.4063765\ttotal: 12.5s\tremaining: 8.65s\n",
      "591:\tlearn: 0.4063581\ttotal: 12.5s\tremaining: 8.64s\n",
      "592:\tlearn: 0.4063479\ttotal: 12.6s\tremaining: 8.62s\n",
      "593:\tlearn: 0.4063377\ttotal: 12.6s\tremaining: 8.59s\n",
      "594:\tlearn: 0.4063141\ttotal: 12.6s\tremaining: 8.57s\n",
      "595:\tlearn: 0.4063069\ttotal: 12.6s\tremaining: 8.55s\n",
      "596:\tlearn: 0.4062884\ttotal: 12.6s\tremaining: 8.52s\n",
      "597:\tlearn: 0.4062782\ttotal: 12.6s\tremaining: 8.49s\n",
      "598:\tlearn: 0.4062411\ttotal: 12.7s\tremaining: 8.47s\n",
      "599:\tlearn: 0.4062275\ttotal: 12.7s\tremaining: 8.44s\n",
      "600:\tlearn: 0.4062070\ttotal: 12.7s\tremaining: 8.42s\n",
      "601:\tlearn: 0.4061867\ttotal: 12.7s\tremaining: 8.39s\n",
      "602:\tlearn: 0.4061718\ttotal: 12.7s\tremaining: 8.36s\n",
      "603:\tlearn: 0.4061606\ttotal: 12.7s\tremaining: 8.34s\n",
      "604:\tlearn: 0.4061514\ttotal: 12.7s\tremaining: 8.31s\n",
      "605:\tlearn: 0.4061348\ttotal: 12.7s\tremaining: 8.28s\n",
      "606:\tlearn: 0.4061267\ttotal: 12.8s\tremaining: 8.26s\n",
      "607:\tlearn: 0.4061125\ttotal: 12.8s\tremaining: 8.23s\n",
      "608:\tlearn: 0.4060989\ttotal: 12.8s\tremaining: 8.21s\n",
      "609:\tlearn: 0.4060772\ttotal: 12.8s\tremaining: 8.18s\n",
      "610:\tlearn: 0.4060700\ttotal: 12.8s\tremaining: 8.16s\n",
      "611:\tlearn: 0.4060553\ttotal: 12.8s\tremaining: 8.13s\n",
      "612:\tlearn: 0.4060391\ttotal: 12.8s\tremaining: 8.11s\n",
      "613:\tlearn: 0.4060200\ttotal: 12.9s\tremaining: 8.08s\n",
      "614:\tlearn: 0.4060034\ttotal: 12.9s\tremaining: 8.05s\n",
      "615:\tlearn: 0.4059897\ttotal: 12.9s\tremaining: 8.03s\n",
      "616:\tlearn: 0.4059817\ttotal: 12.9s\tremaining: 8s\n",
      "617:\tlearn: 0.4059658\ttotal: 12.9s\tremaining: 7.97s\n",
      "618:\tlearn: 0.4059605\ttotal: 12.9s\tremaining: 7.95s\n",
      "619:\tlearn: 0.4059327\ttotal: 12.9s\tremaining: 7.92s\n",
      "620:\tlearn: 0.4059121\ttotal: 12.9s\tremaining: 7.89s\n",
      "621:\tlearn: 0.4058859\ttotal: 12.9s\tremaining: 7.87s\n",
      "622:\tlearn: 0.4058720\ttotal: 13s\tremaining: 7.84s\n",
      "623:\tlearn: 0.4058567\ttotal: 13s\tremaining: 7.82s\n",
      "624:\tlearn: 0.4058466\ttotal: 13s\tremaining: 7.79s\n",
      "625:\tlearn: 0.4058364\ttotal: 13s\tremaining: 7.77s\n",
      "626:\tlearn: 0.4058214\ttotal: 13s\tremaining: 7.75s\n",
      "627:\tlearn: 0.4058091\ttotal: 13.1s\tremaining: 7.74s\n",
      "628:\tlearn: 0.4058002\ttotal: 13.1s\tremaining: 7.71s\n",
      "629:\tlearn: 0.4057841\ttotal: 13.1s\tremaining: 7.69s\n",
      "630:\tlearn: 0.4057625\ttotal: 13.1s\tremaining: 7.66s\n",
      "631:\tlearn: 0.4057367\ttotal: 13.1s\tremaining: 7.64s\n",
      "632:\tlearn: 0.4057239\ttotal: 13.1s\tremaining: 7.61s\n",
      "633:\tlearn: 0.4057125\ttotal: 13.1s\tremaining: 7.58s\n",
      "634:\tlearn: 0.4056943\ttotal: 13.2s\tremaining: 7.56s\n",
      "635:\tlearn: 0.4056747\ttotal: 13.2s\tremaining: 7.53s\n",
      "636:\tlearn: 0.4056560\ttotal: 13.2s\tremaining: 7.51s\n",
      "637:\tlearn: 0.4056396\ttotal: 13.2s\tremaining: 7.49s\n",
      "638:\tlearn: 0.4056288\ttotal: 13.2s\tremaining: 7.46s\n",
      "639:\tlearn: 0.4056166\ttotal: 13.2s\tremaining: 7.44s\n",
      "640:\tlearn: 0.4055984\ttotal: 13.2s\tremaining: 7.42s\n",
      "641:\tlearn: 0.4055834\ttotal: 13.3s\tremaining: 7.4s\n",
      "642:\tlearn: 0.4055706\ttotal: 13.3s\tremaining: 7.37s\n",
      "643:\tlearn: 0.4055596\ttotal: 13.3s\tremaining: 7.35s\n",
      "644:\tlearn: 0.4055463\ttotal: 13.3s\tremaining: 7.33s\n",
      "645:\tlearn: 0.4055346\ttotal: 13.3s\tremaining: 7.3s\n",
      "646:\tlearn: 0.4055206\ttotal: 13.3s\tremaining: 7.28s\n",
      "647:\tlearn: 0.4055067\ttotal: 13.4s\tremaining: 7.26s\n",
      "648:\tlearn: 0.4054911\ttotal: 13.4s\tremaining: 7.24s\n"
     ]
    },
    {
     "name": "stdout",
     "output_type": "stream",
     "text": [
      "649:\tlearn: 0.4054808\ttotal: 13.4s\tremaining: 7.21s\n",
      "650:\tlearn: 0.4054717\ttotal: 13.4s\tremaining: 7.19s\n",
      "651:\tlearn: 0.4054613\ttotal: 13.4s\tremaining: 7.17s\n",
      "652:\tlearn: 0.4054467\ttotal: 13.4s\tremaining: 7.14s\n",
      "653:\tlearn: 0.4054365\ttotal: 13.5s\tremaining: 7.12s\n",
      "654:\tlearn: 0.4054242\ttotal: 13.5s\tremaining: 7.1s\n",
      "655:\tlearn: 0.4054144\ttotal: 13.5s\tremaining: 7.08s\n",
      "656:\tlearn: 0.4054074\ttotal: 13.5s\tremaining: 7.05s\n",
      "657:\tlearn: 0.4053947\ttotal: 13.5s\tremaining: 7.03s\n",
      "658:\tlearn: 0.4053765\ttotal: 13.5s\tremaining: 7s\n",
      "659:\tlearn: 0.4053659\ttotal: 13.5s\tremaining: 6.98s\n",
      "660:\tlearn: 0.4053589\ttotal: 13.6s\tremaining: 6.96s\n",
      "661:\tlearn: 0.4053544\ttotal: 13.6s\tremaining: 6.93s\n",
      "662:\tlearn: 0.4053424\ttotal: 13.6s\tremaining: 6.91s\n",
      "663:\tlearn: 0.4053354\ttotal: 13.6s\tremaining: 6.89s\n",
      "664:\tlearn: 0.4053271\ttotal: 13.6s\tremaining: 6.86s\n",
      "665:\tlearn: 0.4053165\ttotal: 13.6s\tremaining: 6.84s\n",
      "666:\tlearn: 0.4053093\ttotal: 13.6s\tremaining: 6.81s\n",
      "667:\tlearn: 0.4052728\ttotal: 13.7s\tremaining: 6.79s\n",
      "668:\tlearn: 0.4052544\ttotal: 13.7s\tremaining: 6.76s\n",
      "669:\tlearn: 0.4052412\ttotal: 13.7s\tremaining: 6.74s\n",
      "670:\tlearn: 0.4052287\ttotal: 13.7s\tremaining: 6.72s\n",
      "671:\tlearn: 0.4052096\ttotal: 13.7s\tremaining: 6.7s\n",
      "672:\tlearn: 0.4051898\ttotal: 13.7s\tremaining: 6.67s\n",
      "673:\tlearn: 0.4051767\ttotal: 13.7s\tremaining: 6.65s\n",
      "674:\tlearn: 0.4051609\ttotal: 13.8s\tremaining: 6.63s\n",
      "675:\tlearn: 0.4051529\ttotal: 13.8s\tremaining: 6.6s\n",
      "676:\tlearn: 0.4051352\ttotal: 13.8s\tremaining: 6.58s\n",
      "677:\tlearn: 0.4051247\ttotal: 13.8s\tremaining: 6.56s\n",
      "678:\tlearn: 0.4051105\ttotal: 13.8s\tremaining: 6.54s\n",
      "679:\tlearn: 0.4050999\ttotal: 13.8s\tremaining: 6.51s\n",
      "680:\tlearn: 0.4050868\ttotal: 13.9s\tremaining: 6.49s\n",
      "681:\tlearn: 0.4050528\ttotal: 13.9s\tremaining: 6.47s\n",
      "682:\tlearn: 0.4050333\ttotal: 13.9s\tremaining: 6.45s\n",
      "683:\tlearn: 0.4050234\ttotal: 13.9s\tremaining: 6.43s\n",
      "684:\tlearn: 0.4050048\ttotal: 13.9s\tremaining: 6.41s\n",
      "685:\tlearn: 0.4049927\ttotal: 13.9s\tremaining: 6.38s\n",
      "686:\tlearn: 0.4049776\ttotal: 14s\tremaining: 6.36s\n",
      "687:\tlearn: 0.4049646\ttotal: 14s\tremaining: 6.34s\n",
      "688:\tlearn: 0.4049500\ttotal: 14s\tremaining: 6.32s\n",
      "689:\tlearn: 0.4049408\ttotal: 14s\tremaining: 6.3s\n",
      "690:\tlearn: 0.4049169\ttotal: 14s\tremaining: 6.28s\n",
      "691:\tlearn: 0.4049036\ttotal: 14.1s\tremaining: 6.26s\n",
      "692:\tlearn: 0.4048849\ttotal: 14.1s\tremaining: 6.25s\n",
      "693:\tlearn: 0.4048749\ttotal: 14.1s\tremaining: 6.22s\n",
      "694:\tlearn: 0.4048634\ttotal: 14.1s\tremaining: 6.2s\n",
      "695:\tlearn: 0.4048423\ttotal: 14.1s\tremaining: 6.18s\n",
      "696:\tlearn: 0.4048341\ttotal: 14.2s\tremaining: 6.15s\n",
      "697:\tlearn: 0.4048164\ttotal: 14.2s\tremaining: 6.13s\n",
      "698:\tlearn: 0.4048045\ttotal: 14.2s\tremaining: 6.11s\n",
      "699:\tlearn: 0.4047861\ttotal: 14.2s\tremaining: 6.08s\n",
      "700:\tlearn: 0.4047700\ttotal: 14.2s\tremaining: 6.06s\n",
      "701:\tlearn: 0.4047640\ttotal: 14.2s\tremaining: 6.04s\n",
      "702:\tlearn: 0.4047580\ttotal: 14.2s\tremaining: 6.01s\n",
      "703:\tlearn: 0.4047517\ttotal: 14.3s\tremaining: 5.99s\n",
      "704:\tlearn: 0.4047388\ttotal: 14.3s\tremaining: 5.97s\n",
      "705:\tlearn: 0.4047241\ttotal: 14.3s\tremaining: 5.94s\n",
      "706:\tlearn: 0.4047136\ttotal: 14.3s\tremaining: 5.92s\n",
      "707:\tlearn: 0.4047106\ttotal: 14.3s\tremaining: 5.9s\n",
      "708:\tlearn: 0.4046999\ttotal: 14.3s\tremaining: 5.87s\n",
      "709:\tlearn: 0.4046904\ttotal: 14.3s\tremaining: 5.85s\n",
      "710:\tlearn: 0.4046772\ttotal: 14.3s\tremaining: 5.83s\n",
      "711:\tlearn: 0.4046630\ttotal: 14.3s\tremaining: 5.8s\n",
      "712:\tlearn: 0.4046492\ttotal: 14.4s\tremaining: 5.78s\n",
      "713:\tlearn: 0.4046378\ttotal: 14.4s\tremaining: 5.75s\n",
      "714:\tlearn: 0.4046309\ttotal: 14.4s\tremaining: 5.73s\n",
      "715:\tlearn: 0.4046186\ttotal: 14.4s\tremaining: 5.71s\n",
      "716:\tlearn: 0.4046072\ttotal: 14.4s\tremaining: 5.69s\n",
      "717:\tlearn: 0.4045883\ttotal: 14.4s\tremaining: 5.66s\n",
      "718:\tlearn: 0.4045697\ttotal: 14.4s\tremaining: 5.64s\n",
      "719:\tlearn: 0.4045544\ttotal: 14.5s\tremaining: 5.62s\n",
      "720:\tlearn: 0.4045410\ttotal: 14.5s\tremaining: 5.6s\n",
      "721:\tlearn: 0.4045274\ttotal: 14.5s\tremaining: 5.58s\n",
      "722:\tlearn: 0.4045158\ttotal: 14.5s\tremaining: 5.55s\n",
      "723:\tlearn: 0.4045050\ttotal: 14.5s\tremaining: 5.53s\n",
      "724:\tlearn: 0.4044921\ttotal: 14.5s\tremaining: 5.51s\n",
      "725:\tlearn: 0.4044788\ttotal: 14.5s\tremaining: 5.49s\n",
      "726:\tlearn: 0.4044664\ttotal: 14.6s\tremaining: 5.47s\n",
      "727:\tlearn: 0.4044585\ttotal: 14.6s\tremaining: 5.45s\n",
      "728:\tlearn: 0.4044538\ttotal: 14.6s\tremaining: 5.43s\n",
      "729:\tlearn: 0.4044416\ttotal: 14.6s\tremaining: 5.41s\n",
      "730:\tlearn: 0.4044300\ttotal: 14.7s\tremaining: 5.39s\n",
      "731:\tlearn: 0.4044117\ttotal: 14.7s\tremaining: 5.38s\n",
      "732:\tlearn: 0.4043987\ttotal: 14.7s\tremaining: 5.36s\n",
      "733:\tlearn: 0.4043846\ttotal: 14.7s\tremaining: 5.34s\n",
      "734:\tlearn: 0.4043722\ttotal: 14.7s\tremaining: 5.31s\n",
      "735:\tlearn: 0.4043592\ttotal: 14.8s\tremaining: 5.29s\n",
      "736:\tlearn: 0.4043360\ttotal: 14.8s\tremaining: 5.27s\n",
      "737:\tlearn: 0.4043198\ttotal: 14.8s\tremaining: 5.25s\n",
      "738:\tlearn: 0.4043127\ttotal: 14.8s\tremaining: 5.22s\n",
      "739:\tlearn: 0.4043068\ttotal: 14.8s\tremaining: 5.2s\n",
      "740:\tlearn: 0.4042857\ttotal: 14.8s\tremaining: 5.18s\n",
      "741:\tlearn: 0.4042680\ttotal: 14.8s\tremaining: 5.16s\n",
      "742:\tlearn: 0.4042586\ttotal: 14.8s\tremaining: 5.13s\n",
      "743:\tlearn: 0.4042483\ttotal: 14.9s\tremaining: 5.11s\n",
      "744:\tlearn: 0.4042401\ttotal: 14.9s\tremaining: 5.09s\n",
      "745:\tlearn: 0.4042264\ttotal: 14.9s\tremaining: 5.07s\n",
      "746:\tlearn: 0.4042073\ttotal: 14.9s\tremaining: 5.05s\n",
      "747:\tlearn: 0.4041954\ttotal: 14.9s\tremaining: 5.03s\n",
      "748:\tlearn: 0.4041823\ttotal: 14.9s\tremaining: 5s\n",
      "749:\tlearn: 0.4041668\ttotal: 14.9s\tremaining: 4.98s\n",
      "750:\tlearn: 0.4041545\ttotal: 15s\tremaining: 4.96s\n",
      "751:\tlearn: 0.4041467\ttotal: 15s\tremaining: 4.93s\n",
      "752:\tlearn: 0.4041393\ttotal: 15s\tremaining: 4.91s\n",
      "753:\tlearn: 0.4041277\ttotal: 15s\tremaining: 4.89s\n",
      "754:\tlearn: 0.4041140\ttotal: 15s\tremaining: 4.87s\n",
      "755:\tlearn: 0.4040945\ttotal: 15s\tremaining: 4.85s\n",
      "756:\tlearn: 0.4040849\ttotal: 15s\tremaining: 4.82s\n",
      "757:\tlearn: 0.4040700\ttotal: 15s\tremaining: 4.8s\n",
      "758:\tlearn: 0.4040564\ttotal: 15.1s\tremaining: 4.79s\n",
      "759:\tlearn: 0.4040366\ttotal: 15.1s\tremaining: 4.77s\n",
      "760:\tlearn: 0.4040206\ttotal: 15.1s\tremaining: 4.75s\n",
      "761:\tlearn: 0.4040070\ttotal: 15.2s\tremaining: 4.74s\n",
      "762:\tlearn: 0.4039945\ttotal: 15.2s\tremaining: 4.71s\n",
      "763:\tlearn: 0.4039769\ttotal: 15.2s\tremaining: 4.69s\n",
      "764:\tlearn: 0.4039566\ttotal: 15.2s\tremaining: 4.67s\n",
      "765:\tlearn: 0.4039506\ttotal: 15.2s\tremaining: 4.65s\n",
      "766:\tlearn: 0.4039315\ttotal: 15.2s\tremaining: 4.63s\n",
      "767:\tlearn: 0.4039231\ttotal: 15.3s\tremaining: 4.61s\n",
      "768:\tlearn: 0.4039115\ttotal: 15.3s\tremaining: 4.59s\n",
      "769:\tlearn: 0.4038936\ttotal: 15.3s\tremaining: 4.57s\n",
      "770:\tlearn: 0.4038732\ttotal: 15.3s\tremaining: 4.55s\n",
      "771:\tlearn: 0.4038579\ttotal: 15.3s\tremaining: 4.53s\n",
      "772:\tlearn: 0.4038490\ttotal: 15.3s\tremaining: 4.5s\n",
      "773:\tlearn: 0.4038408\ttotal: 15.4s\tremaining: 4.48s\n",
      "774:\tlearn: 0.4038312\ttotal: 15.4s\tremaining: 4.46s\n",
      "775:\tlearn: 0.4038224\ttotal: 15.4s\tremaining: 4.44s\n",
      "776:\tlearn: 0.4038187\ttotal: 15.4s\tremaining: 4.42s\n",
      "777:\tlearn: 0.4037994\ttotal: 15.4s\tremaining: 4.39s\n",
      "778:\tlearn: 0.4037880\ttotal: 15.4s\tremaining: 4.37s\n",
      "779:\tlearn: 0.4037794\ttotal: 15.4s\tremaining: 4.35s\n",
      "780:\tlearn: 0.4037658\ttotal: 15.4s\tremaining: 4.33s\n",
      "781:\tlearn: 0.4037560\ttotal: 15.4s\tremaining: 4.31s\n",
      "782:\tlearn: 0.4037435\ttotal: 15.5s\tremaining: 4.29s\n",
      "783:\tlearn: 0.4037308\ttotal: 15.5s\tremaining: 4.26s\n",
      "784:\tlearn: 0.4037191\ttotal: 15.5s\tremaining: 4.24s\n",
      "785:\tlearn: 0.4037144\ttotal: 15.5s\tremaining: 4.22s\n",
      "786:\tlearn: 0.4037040\ttotal: 15.5s\tremaining: 4.2s\n",
      "787:\tlearn: 0.4036842\ttotal: 15.5s\tremaining: 4.18s\n",
      "788:\tlearn: 0.4036695\ttotal: 15.5s\tremaining: 4.16s\n",
      "789:\tlearn: 0.4036587\ttotal: 15.6s\tremaining: 4.14s\n",
      "790:\tlearn: 0.4036420\ttotal: 15.6s\tremaining: 4.12s\n",
      "791:\tlearn: 0.4036383\ttotal: 15.6s\tremaining: 4.11s\n",
      "792:\tlearn: 0.4036262\ttotal: 15.7s\tremaining: 4.09s\n",
      "793:\tlearn: 0.4036030\ttotal: 15.7s\tremaining: 4.08s\n",
      "794:\tlearn: 0.4035920\ttotal: 15.8s\tremaining: 4.07s\n",
      "795:\tlearn: 0.4035806\ttotal: 15.8s\tremaining: 4.06s\n",
      "796:\tlearn: 0.4035715\ttotal: 15.9s\tremaining: 4.04s\n",
      "797:\tlearn: 0.4035650\ttotal: 15.9s\tremaining: 4.03s\n",
      "798:\tlearn: 0.4035534\ttotal: 16s\tremaining: 4.01s\n",
      "799:\tlearn: 0.4035409\ttotal: 16s\tremaining: 4s\n",
      "800:\tlearn: 0.4035303\ttotal: 16s\tremaining: 3.98s\n",
      "801:\tlearn: 0.4035189\ttotal: 16s\tremaining: 3.96s\n",
      "802:\tlearn: 0.4035087\ttotal: 16.1s\tremaining: 3.95s\n",
      "803:\tlearn: 0.4034991\ttotal: 16.1s\tremaining: 3.93s\n",
      "804:\tlearn: 0.4034931\ttotal: 16.2s\tremaining: 3.92s\n",
      "805:\tlearn: 0.4034860\ttotal: 16.2s\tremaining: 3.9s\n",
      "806:\tlearn: 0.4034694\ttotal: 16.2s\tremaining: 3.88s\n",
      "807:\tlearn: 0.4034567\ttotal: 16.2s\tremaining: 3.86s\n",
      "808:\tlearn: 0.4034398\ttotal: 16.3s\tremaining: 3.84s\n",
      "809:\tlearn: 0.4034296\ttotal: 16.3s\tremaining: 3.82s\n",
      "810:\tlearn: 0.4034139\ttotal: 16.3s\tremaining: 3.8s\n",
      "811:\tlearn: 0.4034002\ttotal: 16.3s\tremaining: 3.78s\n",
      "812:\tlearn: 0.4033913\ttotal: 16.3s\tremaining: 3.76s\n",
      "813:\tlearn: 0.4033873\ttotal: 16.3s\tremaining: 3.73s\n",
      "814:\tlearn: 0.4033766\ttotal: 16.4s\tremaining: 3.71s\n",
      "815:\tlearn: 0.4033690\ttotal: 16.4s\tremaining: 3.69s\n",
      "816:\tlearn: 0.4033610\ttotal: 16.4s\tremaining: 3.67s\n",
      "817:\tlearn: 0.4033476\ttotal: 16.4s\tremaining: 3.65s\n",
      "818:\tlearn: 0.4033324\ttotal: 16.4s\tremaining: 3.63s\n",
      "819:\tlearn: 0.4033203\ttotal: 16.4s\tremaining: 3.6s\n"
     ]
    },
    {
     "name": "stdout",
     "output_type": "stream",
     "text": [
      "820:\tlearn: 0.4033098\ttotal: 16.4s\tremaining: 3.58s\n",
      "821:\tlearn: 0.4032951\ttotal: 16.5s\tremaining: 3.56s\n",
      "822:\tlearn: 0.4032813\ttotal: 16.5s\tremaining: 3.54s\n",
      "823:\tlearn: 0.4032710\ttotal: 16.5s\tremaining: 3.52s\n",
      "824:\tlearn: 0.4032606\ttotal: 16.5s\tremaining: 3.5s\n",
      "825:\tlearn: 0.4032369\ttotal: 16.5s\tremaining: 3.48s\n",
      "826:\tlearn: 0.4032327\ttotal: 16.5s\tremaining: 3.46s\n",
      "827:\tlearn: 0.4032275\ttotal: 16.5s\tremaining: 3.44s\n",
      "828:\tlearn: 0.4032064\ttotal: 16.5s\tremaining: 3.41s\n",
      "829:\tlearn: 0.4031907\ttotal: 16.6s\tremaining: 3.39s\n",
      "830:\tlearn: 0.4031730\ttotal: 16.6s\tremaining: 3.37s\n",
      "831:\tlearn: 0.4031624\ttotal: 16.6s\tremaining: 3.35s\n",
      "832:\tlearn: 0.4031396\ttotal: 16.6s\tremaining: 3.33s\n",
      "833:\tlearn: 0.4031295\ttotal: 16.6s\tremaining: 3.31s\n",
      "834:\tlearn: 0.4031093\ttotal: 16.6s\tremaining: 3.28s\n",
      "835:\tlearn: 0.4030967\ttotal: 16.6s\tremaining: 3.26s\n",
      "836:\tlearn: 0.4030788\ttotal: 16.7s\tremaining: 3.25s\n",
      "837:\tlearn: 0.4030611\ttotal: 16.7s\tremaining: 3.23s\n",
      "838:\tlearn: 0.4030423\ttotal: 16.7s\tremaining: 3.21s\n",
      "839:\tlearn: 0.4030337\ttotal: 16.7s\tremaining: 3.19s\n",
      "840:\tlearn: 0.4030231\ttotal: 16.7s\tremaining: 3.16s\n",
      "841:\tlearn: 0.4030108\ttotal: 16.7s\tremaining: 3.14s\n",
      "842:\tlearn: 0.4029951\ttotal: 16.8s\tremaining: 3.12s\n",
      "843:\tlearn: 0.4029814\ttotal: 16.8s\tremaining: 3.1s\n",
      "844:\tlearn: 0.4029666\ttotal: 16.8s\tremaining: 3.08s\n",
      "845:\tlearn: 0.4029585\ttotal: 16.8s\tremaining: 3.06s\n",
      "846:\tlearn: 0.4029507\ttotal: 16.8s\tremaining: 3.04s\n",
      "847:\tlearn: 0.4029403\ttotal: 16.8s\tremaining: 3.01s\n",
      "848:\tlearn: 0.4029326\ttotal: 16.8s\tremaining: 2.99s\n",
      "849:\tlearn: 0.4029236\ttotal: 16.8s\tremaining: 2.97s\n",
      "850:\tlearn: 0.4029122\ttotal: 16.9s\tremaining: 2.95s\n",
      "851:\tlearn: 0.4029034\ttotal: 16.9s\tremaining: 2.93s\n",
      "852:\tlearn: 0.4028881\ttotal: 16.9s\tremaining: 2.91s\n",
      "853:\tlearn: 0.4028722\ttotal: 16.9s\tremaining: 2.89s\n",
      "854:\tlearn: 0.4028599\ttotal: 16.9s\tremaining: 2.87s\n",
      "855:\tlearn: 0.4028485\ttotal: 16.9s\tremaining: 2.85s\n",
      "856:\tlearn: 0.4028393\ttotal: 16.9s\tremaining: 2.83s\n",
      "857:\tlearn: 0.4028278\ttotal: 17s\tremaining: 2.81s\n",
      "858:\tlearn: 0.4028224\ttotal: 17s\tremaining: 2.79s\n",
      "859:\tlearn: 0.4028124\ttotal: 17s\tremaining: 2.77s\n",
      "860:\tlearn: 0.4027966\ttotal: 17s\tremaining: 2.74s\n",
      "861:\tlearn: 0.4027928\ttotal: 17s\tremaining: 2.72s\n",
      "862:\tlearn: 0.4027808\ttotal: 17s\tremaining: 2.7s\n",
      "863:\tlearn: 0.4027692\ttotal: 17s\tremaining: 2.68s\n",
      "864:\tlearn: 0.4027543\ttotal: 17.1s\tremaining: 2.66s\n",
      "865:\tlearn: 0.4027397\ttotal: 17.1s\tremaining: 2.64s\n",
      "866:\tlearn: 0.4027226\ttotal: 17.1s\tremaining: 2.62s\n",
      "867:\tlearn: 0.4027151\ttotal: 17.1s\tremaining: 2.6s\n",
      "868:\tlearn: 0.4027062\ttotal: 17.1s\tremaining: 2.58s\n",
      "869:\tlearn: 0.4026812\ttotal: 17.1s\tremaining: 2.56s\n",
      "870:\tlearn: 0.4026752\ttotal: 17.1s\tremaining: 2.54s\n",
      "871:\tlearn: 0.4026619\ttotal: 17.2s\tremaining: 2.52s\n",
      "872:\tlearn: 0.4026586\ttotal: 17.2s\tremaining: 2.5s\n",
      "873:\tlearn: 0.4026434\ttotal: 17.2s\tremaining: 2.48s\n",
      "874:\tlearn: 0.4026312\ttotal: 17.2s\tremaining: 2.46s\n",
      "875:\tlearn: 0.4026201\ttotal: 17.2s\tremaining: 2.44s\n",
      "876:\tlearn: 0.4026115\ttotal: 17.2s\tremaining: 2.42s\n",
      "877:\tlearn: 0.4025825\ttotal: 17.2s\tremaining: 2.39s\n",
      "878:\tlearn: 0.4025748\ttotal: 17.2s\tremaining: 2.37s\n",
      "879:\tlearn: 0.4025540\ttotal: 17.3s\tremaining: 2.35s\n",
      "880:\tlearn: 0.4025446\ttotal: 17.3s\tremaining: 2.33s\n",
      "881:\tlearn: 0.4025357\ttotal: 17.3s\tremaining: 2.31s\n",
      "882:\tlearn: 0.4025199\ttotal: 17.3s\tremaining: 2.29s\n",
      "883:\tlearn: 0.4025099\ttotal: 17.3s\tremaining: 2.27s\n",
      "884:\tlearn: 0.4024957\ttotal: 17.3s\tremaining: 2.25s\n",
      "885:\tlearn: 0.4024839\ttotal: 17.3s\tremaining: 2.23s\n",
      "886:\tlearn: 0.4024734\ttotal: 17.4s\tremaining: 2.21s\n",
      "887:\tlearn: 0.4024601\ttotal: 17.4s\tremaining: 2.19s\n",
      "888:\tlearn: 0.4024471\ttotal: 17.4s\tremaining: 2.17s\n",
      "889:\tlearn: 0.4024377\ttotal: 17.4s\tremaining: 2.15s\n",
      "890:\tlearn: 0.4024251\ttotal: 17.4s\tremaining: 2.13s\n",
      "891:\tlearn: 0.4024084\ttotal: 17.4s\tremaining: 2.11s\n",
      "892:\tlearn: 0.4023999\ttotal: 17.4s\tremaining: 2.09s\n",
      "893:\tlearn: 0.4023839\ttotal: 17.4s\tremaining: 2.07s\n",
      "894:\tlearn: 0.4023705\ttotal: 17.4s\tremaining: 2.05s\n",
      "895:\tlearn: 0.4023670\ttotal: 17.5s\tremaining: 2.03s\n",
      "896:\tlearn: 0.4023530\ttotal: 17.5s\tremaining: 2.01s\n",
      "897:\tlearn: 0.4023471\ttotal: 17.5s\tremaining: 1.99s\n",
      "898:\tlearn: 0.4023274\ttotal: 17.5s\tremaining: 1.97s\n",
      "899:\tlearn: 0.4023176\ttotal: 17.5s\tremaining: 1.95s\n",
      "900:\tlearn: 0.4022996\ttotal: 17.5s\tremaining: 1.93s\n",
      "901:\tlearn: 0.4022904\ttotal: 17.5s\tremaining: 1.91s\n",
      "902:\tlearn: 0.4022750\ttotal: 17.6s\tremaining: 1.89s\n",
      "903:\tlearn: 0.4022622\ttotal: 17.6s\tremaining: 1.86s\n",
      "904:\tlearn: 0.4022545\ttotal: 17.6s\tremaining: 1.84s\n",
      "905:\tlearn: 0.4022433\ttotal: 17.6s\tremaining: 1.82s\n",
      "906:\tlearn: 0.4022337\ttotal: 17.6s\tremaining: 1.8s\n",
      "907:\tlearn: 0.4022214\ttotal: 17.6s\tremaining: 1.78s\n",
      "908:\tlearn: 0.4022158\ttotal: 17.6s\tremaining: 1.76s\n",
      "909:\tlearn: 0.4022058\ttotal: 17.6s\tremaining: 1.75s\n",
      "910:\tlearn: 0.4021914\ttotal: 17.7s\tremaining: 1.73s\n",
      "911:\tlearn: 0.4021797\ttotal: 17.7s\tremaining: 1.71s\n",
      "912:\tlearn: 0.4021694\ttotal: 17.7s\tremaining: 1.69s\n",
      "913:\tlearn: 0.4021580\ttotal: 17.7s\tremaining: 1.67s\n",
      "914:\tlearn: 0.4021486\ttotal: 17.7s\tremaining: 1.65s\n",
      "915:\tlearn: 0.4021360\ttotal: 17.7s\tremaining: 1.63s\n",
      "916:\tlearn: 0.4021245\ttotal: 17.8s\tremaining: 1.61s\n",
      "917:\tlearn: 0.4021114\ttotal: 17.8s\tremaining: 1.59s\n",
      "918:\tlearn: 0.4021068\ttotal: 17.8s\tremaining: 1.57s\n",
      "919:\tlearn: 0.4020980\ttotal: 17.8s\tremaining: 1.55s\n",
      "920:\tlearn: 0.4020790\ttotal: 17.8s\tremaining: 1.53s\n",
      "921:\tlearn: 0.4020585\ttotal: 17.8s\tremaining: 1.51s\n",
      "922:\tlearn: 0.4020414\ttotal: 17.8s\tremaining: 1.49s\n",
      "923:\tlearn: 0.4020326\ttotal: 17.8s\tremaining: 1.47s\n",
      "924:\tlearn: 0.4020268\ttotal: 17.9s\tremaining: 1.45s\n",
      "925:\tlearn: 0.4020207\ttotal: 17.9s\tremaining: 1.43s\n",
      "926:\tlearn: 0.4019976\ttotal: 17.9s\tremaining: 1.41s\n",
      "927:\tlearn: 0.4019889\ttotal: 17.9s\tremaining: 1.39s\n",
      "928:\tlearn: 0.4019845\ttotal: 17.9s\tremaining: 1.37s\n",
      "929:\tlearn: 0.4019764\ttotal: 17.9s\tremaining: 1.35s\n",
      "930:\tlearn: 0.4019725\ttotal: 17.9s\tremaining: 1.33s\n",
      "931:\tlearn: 0.4019632\ttotal: 18s\tremaining: 1.31s\n",
      "932:\tlearn: 0.4019542\ttotal: 18s\tremaining: 1.29s\n",
      "933:\tlearn: 0.4019490\ttotal: 18s\tremaining: 1.27s\n",
      "934:\tlearn: 0.4019366\ttotal: 18s\tremaining: 1.25s\n",
      "935:\tlearn: 0.4019270\ttotal: 18s\tremaining: 1.23s\n",
      "936:\tlearn: 0.4019120\ttotal: 18s\tremaining: 1.21s\n",
      "937:\tlearn: 0.4019024\ttotal: 18s\tremaining: 1.19s\n",
      "938:\tlearn: 0.4018931\ttotal: 18s\tremaining: 1.17s\n",
      "939:\tlearn: 0.4018818\ttotal: 18s\tremaining: 1.15s\n",
      "940:\tlearn: 0.4018753\ttotal: 18.1s\tremaining: 1.13s\n",
      "941:\tlearn: 0.4018604\ttotal: 18.1s\tremaining: 1.11s\n",
      "942:\tlearn: 0.4018554\ttotal: 18.1s\tremaining: 1.09s\n",
      "943:\tlearn: 0.4018396\ttotal: 18.1s\tremaining: 1.07s\n",
      "944:\tlearn: 0.4018296\ttotal: 18.1s\tremaining: 1.05s\n",
      "945:\tlearn: 0.4018193\ttotal: 18.1s\tremaining: 1.03s\n",
      "946:\tlearn: 0.4018127\ttotal: 18.1s\tremaining: 1.01s\n",
      "947:\tlearn: 0.4017995\ttotal: 18.2s\tremaining: 996ms\n",
      "948:\tlearn: 0.4017908\ttotal: 18.2s\tremaining: 977ms\n",
      "949:\tlearn: 0.4017775\ttotal: 18.2s\tremaining: 957ms\n",
      "950:\tlearn: 0.4017704\ttotal: 18.2s\tremaining: 938ms\n",
      "951:\tlearn: 0.4017601\ttotal: 18.2s\tremaining: 919ms\n",
      "952:\tlearn: 0.4017561\ttotal: 18.2s\tremaining: 899ms\n",
      "953:\tlearn: 0.4017434\ttotal: 18.2s\tremaining: 880ms\n",
      "954:\tlearn: 0.4017280\ttotal: 18.3s\tremaining: 860ms\n",
      "955:\tlearn: 0.4017124\ttotal: 18.3s\tremaining: 841ms\n",
      "956:\tlearn: 0.4016990\ttotal: 18.3s\tremaining: 822ms\n",
      "957:\tlearn: 0.4016919\ttotal: 18.3s\tremaining: 802ms\n",
      "958:\tlearn: 0.4016751\ttotal: 18.3s\tremaining: 783ms\n",
      "959:\tlearn: 0.4016676\ttotal: 18.3s\tremaining: 764ms\n",
      "960:\tlearn: 0.4016577\ttotal: 18.3s\tremaining: 744ms\n",
      "961:\tlearn: 0.4016519\ttotal: 18.4s\tremaining: 725ms\n",
      "962:\tlearn: 0.4016425\ttotal: 18.4s\tremaining: 706ms\n",
      "963:\tlearn: 0.4016336\ttotal: 18.4s\tremaining: 686ms\n",
      "964:\tlearn: 0.4016178\ttotal: 18.4s\tremaining: 667ms\n",
      "965:\tlearn: 0.4016041\ttotal: 18.4s\tremaining: 648ms\n",
      "966:\tlearn: 0.4015886\ttotal: 18.4s\tremaining: 629ms\n",
      "967:\tlearn: 0.4015807\ttotal: 18.4s\tremaining: 609ms\n",
      "968:\tlearn: 0.4015322\ttotal: 18.4s\tremaining: 590ms\n",
      "969:\tlearn: 0.4015157\ttotal: 18.5s\tremaining: 571ms\n",
      "970:\tlearn: 0.4015043\ttotal: 18.5s\tremaining: 552ms\n",
      "971:\tlearn: 0.4014935\ttotal: 18.5s\tremaining: 532ms\n",
      "972:\tlearn: 0.4014798\ttotal: 18.5s\tremaining: 513ms\n",
      "973:\tlearn: 0.4014691\ttotal: 18.5s\tremaining: 494ms\n",
      "974:\tlearn: 0.4014583\ttotal: 18.5s\tremaining: 475ms\n",
      "975:\tlearn: 0.4014479\ttotal: 18.5s\tremaining: 456ms\n",
      "976:\tlearn: 0.4014379\ttotal: 18.6s\tremaining: 437ms\n",
      "977:\tlearn: 0.4014330\ttotal: 18.6s\tremaining: 418ms\n",
      "978:\tlearn: 0.4014188\ttotal: 18.6s\tremaining: 398ms\n",
      "979:\tlearn: 0.4014082\ttotal: 18.6s\tremaining: 379ms\n",
      "980:\tlearn: 0.4013969\ttotal: 18.6s\tremaining: 360ms\n",
      "981:\tlearn: 0.4013854\ttotal: 18.6s\tremaining: 341ms\n",
      "982:\tlearn: 0.4013740\ttotal: 18.6s\tremaining: 322ms\n",
      "983:\tlearn: 0.4013668\ttotal: 18.6s\tremaining: 303ms\n",
      "984:\tlearn: 0.4013445\ttotal: 18.6s\tremaining: 284ms\n",
      "985:\tlearn: 0.4013322\ttotal: 18.7s\tremaining: 265ms\n",
      "986:\tlearn: 0.4013217\ttotal: 18.7s\tremaining: 246ms\n",
      "987:\tlearn: 0.4013102\ttotal: 18.7s\tremaining: 227ms\n",
      "988:\tlearn: 0.4013014\ttotal: 18.7s\tremaining: 208ms\n"
     ]
    },
    {
     "name": "stdout",
     "output_type": "stream",
     "text": [
      "989:\tlearn: 0.4012967\ttotal: 18.7s\tremaining: 189ms\n",
      "990:\tlearn: 0.4012883\ttotal: 18.7s\tremaining: 170ms\n",
      "991:\tlearn: 0.4012800\ttotal: 18.8s\tremaining: 151ms\n",
      "992:\tlearn: 0.4012692\ttotal: 18.8s\tremaining: 132ms\n",
      "993:\tlearn: 0.4012615\ttotal: 18.8s\tremaining: 113ms\n",
      "994:\tlearn: 0.4012473\ttotal: 18.8s\tremaining: 94.5ms\n",
      "995:\tlearn: 0.4012389\ttotal: 18.8s\tremaining: 75.5ms\n",
      "996:\tlearn: 0.4012327\ttotal: 18.8s\tremaining: 56.6ms\n",
      "997:\tlearn: 0.4012225\ttotal: 18.8s\tremaining: 37.7ms\n",
      "998:\tlearn: 0.4012121\ttotal: 18.8s\tremaining: 18.9ms\n",
      "999:\tlearn: 0.4012092\ttotal: 18.9s\tremaining: 0us\n"
     ]
    }
   ],
   "source": [
    "model = CatBoostRegressor()\n",
    "model.fit(x_train_16, y_train_16)\n",
    "y_pred_16 = model.predict(x_test_16)"
   ]
  },
  {
   "cell_type": "code",
   "execution_count": 273,
   "id": "09bc4710",
   "metadata": {},
   "outputs": [
    {
     "name": "stdout",
     "output_type": "stream",
     "text": [
      "MSE for CatBoost 2016 is: 0.17960582022640478\n"
     ]
    }
   ],
   "source": [
    "mse = mean_squared_error(y_test_16, y_pred_16)\n",
    "print('MSE for CatBoost 2016 is: ' + str(mse))"
   ]
  },
  {
   "cell_type": "code",
   "execution_count": 274,
   "id": "de864e11",
   "metadata": {},
   "outputs": [
    {
     "name": "stdout",
     "output_type": "stream",
     "text": [
      "RMSE for CatBoost 2016 is: 0.42379926878937013\n"
     ]
    }
   ],
   "source": [
    "rmse = mean_squared_error(y_test_16, y_pred_16, squared = False)\n",
    "print('RMSE for CatBoost 2016 is: ' + str(rmse))"
   ]
  },
  {
   "cell_type": "code",
   "execution_count": 275,
   "id": "de6bc0ee",
   "metadata": {},
   "outputs": [
    {
     "name": "stdout",
     "output_type": "stream",
     "text": [
      "Accuracy of properties at +- 10% of actual prices is 0.28639571096306227\n"
     ]
    }
   ],
   "source": [
    "acc = accuracy_threshold(y_test_16, y_pred_16, 0.1)\n",
    "print('Accuracy of properties at +- 10% of actual prices is ' + str(acc))"
   ]
  },
  {
   "cell_type": "code",
   "execution_count": 276,
   "id": "6505d5b8",
   "metadata": {},
   "outputs": [
    {
     "name": "stdout",
     "output_type": "stream",
     "text": [
      "MAPE for CatBoost 2016 is: 0.02460409401279615\n"
     ]
    }
   ],
   "source": [
    "mape = mean_absolute_percentage_error(y_test_16, y_pred_16)\n",
    "print(\"MAPE for CatBoost 2016 is: \" + str(mape))"
   ]
  },
  {
   "cell_type": "code",
   "execution_count": 277,
   "id": "6cd71663",
   "metadata": {},
   "outputs": [
    {
     "name": "stdout",
     "output_type": "stream",
     "text": [
      "Median Absolute Error:\n",
      "\n",
      "0.2010628812438977\n"
     ]
    }
   ],
   "source": [
    "median_se = np.square(np.subtract(y_test_16, y_pred_16)).median() \n",
    " \n",
    "med = math.sqrt(median_se)\n",
    "print(\"Median Absolute Error:\\n\")\n",
    "print(med)"
   ]
  },
  {
   "cell_type": "code",
   "execution_count": 278,
   "id": "ca5fa40c",
   "metadata": {},
   "outputs": [],
   "source": [
    "cnames = ['Algorithm', 'Year', 'RMSE', 'MSE', 'MEDAE', 'Accuracy', 'MAPE']\n",
    "df34 = pd.DataFrame(columns = cnames)\n",
    "\n",
    "df34 = df34.append({'Algorithm': 'CatBoost',\n",
    "           'Year': 2016,\n",
    "           'RMSE': rmse,\n",
    "           'MSE': mse,\n",
    "           'MEDAE': med,\n",
    "           'Accuracy': acc,\n",
    "           'MAPE': mape         \n",
    "          }, ignore_index = True)"
   ]
  },
  {
   "cell_type": "markdown",
   "id": "092155c5",
   "metadata": {},
   "source": [
    "### BayesianRidge"
   ]
  },
  {
   "cell_type": "code",
   "execution_count": 279,
   "id": "a948cda3",
   "metadata": {},
   "outputs": [
    {
     "name": "stdout",
     "output_type": "stream",
     "text": [
      "MSE for BayesianRidge 2016 is: 0.26485267487755926\n"
     ]
    }
   ],
   "source": [
    "clf = BayesianRidge()\n",
    "clf.fit(x_train_16, y_train_16)\n",
    "y_pred_16 = clf.predict(x_test_16)\n",
    "# Calculation of Mean Squared Error (MSE)\n",
    "mse = mean_squared_error(y_test_16, y_pred_16)\n",
    "print('MSE for BayesianRidge 2016 is: ' + str(mse))"
   ]
  },
  {
   "cell_type": "code",
   "execution_count": 280,
   "id": "c073a3d8",
   "metadata": {},
   "outputs": [
    {
     "name": "stdout",
     "output_type": "stream",
     "text": [
      "RMSE for BayesianRidge 2016 is: 0.514638392347053\n"
     ]
    }
   ],
   "source": [
    "rmse = mean_squared_error(y_test_16, y_pred_16, squared = False)\n",
    "print('RMSE for BayesianRidge 2016 is: ' + str(rmse))"
   ]
  },
  {
   "cell_type": "code",
   "execution_count": 281,
   "id": "076e3d41",
   "metadata": {},
   "outputs": [
    {
     "name": "stdout",
     "output_type": "stream",
     "text": [
      "Accuracy of properties at +- 10% of actual prices is 0.13860527456932234\n"
     ]
    }
   ],
   "source": [
    "acc = accuracy_threshold(y_test_16, y_pred_16, 0.1)\n",
    "print('Accuracy of properties at +- 10% of actual prices is ' + str(acc))"
   ]
  },
  {
   "cell_type": "code",
   "execution_count": 282,
   "id": "f3daa58e",
   "metadata": {},
   "outputs": [
    {
     "name": "stdout",
     "output_type": "stream",
     "text": [
      "Median Absolute Error:\n",
      "\n",
      "0.3278645702600862\n"
     ]
    }
   ],
   "source": [
    "median_se = np.square(np.subtract(y_test_16, y_pred_16)).median() \n",
    " \n",
    "med = math.sqrt(median_se)\n",
    "print(\"Median Absolute Error:\\n\")\n",
    "print(med)"
   ]
  },
  {
   "cell_type": "code",
   "execution_count": 283,
   "id": "2656094d",
   "metadata": {},
   "outputs": [
    {
     "name": "stdout",
     "output_type": "stream",
     "text": [
      "MAPE for BayesianRidge 2016 is: 0.033160698820768934\n"
     ]
    }
   ],
   "source": [
    "mape = mean_absolute_percentage_error(y_test_16, y_pred_16)\n",
    "print(\"MAPE for BayesianRidge 2016 is: \" + str(mape))"
   ]
  },
  {
   "cell_type": "code",
   "execution_count": 284,
   "id": "087225a9",
   "metadata": {},
   "outputs": [],
   "source": [
    "cnames = ['Algorithm', 'Year', 'RMSE', 'MSE', 'MEDAE', 'Accuracy', 'MAPE']\n",
    "df35 = pd.DataFrame(columns = cnames)\n",
    "\n",
    "df35 = df35.append({'Algorithm': 'Bayesian',\n",
    "           'Year': 2016,\n",
    "           'RMSE': rmse,\n",
    "           'MSE': mse,\n",
    "           'MEDAE': med,\n",
    "           'Accuracy': acc,\n",
    "           'MAPE': mape         \n",
    "          }, ignore_index = True)"
   ]
  },
  {
   "cell_type": "markdown",
   "id": "1f2af8c1",
   "metadata": {},
   "source": [
    "## 2015\n",
    "\n",
    "### AutoML"
   ]
  },
  {
   "cell_type": "code",
   "execution_count": 285,
   "id": "afcb4e31",
   "metadata": {},
   "outputs": [],
   "source": [
    "specific15 = irl[irl['Year'] >= 2010]\n",
    "test_15 = specific15[specific15['Year'] == 2015]\n",
    "train_15 = specific15[specific15['Year'] < 2015]\n",
    "\n",
    "#test_15 = test_15.sample(n = 20000)\n",
    "#test_15.drop(columns=['Year'], inplace = True)\n",
    "#train_15.drop(columns=['Year'], inplace = True)\n",
    "\n",
    "x_train_15 = train_15.loc[:, train_15.columns != 'PriceInflation']\n",
    "y_train_15 = train_15['PriceInflation']\n",
    "x_test_15 = test_15.loc[:, test_15.columns != 'PriceInflation']\n",
    "y_test_15 = test_15['PriceInflation']"
   ]
  },
  {
   "cell_type": "code",
   "execution_count": 286,
   "id": "20f1e838",
   "metadata": {},
   "outputs": [
    {
     "data": {
      "text/plain": [
       "(78241, 8)"
      ]
     },
     "execution_count": 286,
     "metadata": {},
     "output_type": "execute_result"
    }
   ],
   "source": [
    "train_15.shape"
   ]
  },
  {
   "cell_type": "code",
   "execution_count": 287,
   "id": "32dd64fe",
   "metadata": {},
   "outputs": [
    {
     "name": "stdout",
     "output_type": "stream",
     "text": [
      "Linear algorithm was disabled.\n",
      "AutoML directory: AutoML_7\n",
      "The task is regression with evaluation metric rmse\n",
      "AutoML will use algorithms: ['Baseline', 'Decision Tree', 'Random Forest', 'Xgboost', 'Neural Network']\n",
      "AutoML will ensemble available models\n",
      "AutoML steps: ['simple_algorithms', 'default_algorithms', 'ensemble']\n",
      "* Step simple_algorithms will try to check up to 2 models\n",
      "1_Baseline rmse 0.771645 trained in 1.19 seconds\n",
      "2_DecisionTree rmse 0.453585 trained in 5.47 seconds\n",
      "* Step default_algorithms will try to check up to 3 models\n",
      "3_Default_Xgboost rmse 0.409935 trained in 8.22 seconds\n",
      "4_Default_NeuralNetwork rmse 0.421771 trained in 6.69 seconds\n",
      "5_Default_RandomForest rmse 0.427432 trained in 7.62 seconds\n",
      "* Step ensemble will try to check up to 1 model\n",
      "Ensemble rmse 0.409935 trained in 0.32 seconds\n",
      "AutoML fit time: 42.38 seconds\n",
      "AutoML best model: 3_Default_Xgboost\n"
     ]
    },
    {
     "data": {
      "text/plain": [
       "AutoML(total_time_limit=300)"
      ]
     },
     "execution_count": 287,
     "metadata": {},
     "output_type": "execute_result"
    }
   ],
   "source": [
    "automl = AutoML(total_time_limit = 5 * 60)\n",
    "automl.fit(x_train_15, y_train_15)"
   ]
  },
  {
   "cell_type": "code",
   "execution_count": 288,
   "id": "7d362ea0",
   "metadata": {},
   "outputs": [
    {
     "name": "stdout",
     "output_type": "stream",
     "text": [
      "MSE for AutoML 2015 is: 0.18025705961161442\n"
     ]
    }
   ],
   "source": [
    "y_pred_15 = automl.predict(x_test_15)\n",
    "# Calculation of Mean Squared Error (MSE)\n",
    "mse = mean_squared_error(y_test_15, y_pred_15)\n",
    "print('MSE for AutoML 2015 is: ' + str(mse))"
   ]
  },
  {
   "cell_type": "code",
   "execution_count": 289,
   "id": "38aa4184",
   "metadata": {},
   "outputs": [
    {
     "name": "stdout",
     "output_type": "stream",
     "text": [
      "RMSE for AutoML 2015 is: 0.4245669082860962\n"
     ]
    }
   ],
   "source": [
    "rmse = mean_squared_error(y_test_15, y_pred_15, squared = False)\n",
    "print('RMSE for AutoML 2015 is: ' + str(rmse))"
   ]
  },
  {
   "cell_type": "code",
   "execution_count": 290,
   "id": "f7b8986f",
   "metadata": {},
   "outputs": [
    {
     "name": "stdout",
     "output_type": "stream",
     "text": [
      "Accuracy of properties at +- 10% of actual prices is 0.27515879696946505\n"
     ]
    }
   ],
   "source": [
    "acc = accuracy_threshold(y_test_15, y_pred_15, 0.1)\n",
    "print('Accuracy of properties at +- 10% of actual prices is ' + str(acc))"
   ]
  },
  {
   "cell_type": "code",
   "execution_count": 291,
   "id": "cb2a22ba",
   "metadata": {},
   "outputs": [
    {
     "name": "stdout",
     "output_type": "stream",
     "text": [
      "MAPE for AutoML 2015 is: 0.024938125584686995\n"
     ]
    }
   ],
   "source": [
    "mape = mean_absolute_percentage_error(y_test_15, y_pred_15)\n",
    "print(\"MAPE for AutoML 2015 is: \" + str(mape))"
   ]
  },
  {
   "cell_type": "code",
   "execution_count": 292,
   "id": "dcc730d4",
   "metadata": {},
   "outputs": [
    {
     "name": "stdout",
     "output_type": "stream",
     "text": [
      "Median Absolute Error:\n",
      "\n",
      "0.20801753013807953\n"
     ]
    }
   ],
   "source": [
    "median_se = np.square(np.subtract(y_test_15, y_pred_15)).median() \n",
    " \n",
    "med = math.sqrt(median_se)\n",
    "print(\"Median Absolute Error:\\n\")\n",
    "print(med)"
   ]
  },
  {
   "cell_type": "code",
   "execution_count": 293,
   "id": "e6e92c3f",
   "metadata": {},
   "outputs": [],
   "source": [
    "cnames = ['Algorithm', 'Year', 'RMSE', 'MSE', 'MEDAE', 'Accuracy', 'MAPE']\n",
    "df36 = pd.DataFrame(columns = cnames)\n",
    "\n",
    "df36 = df36.append({'Algorithm': 'AutoML',\n",
    "           'Year': 2015,\n",
    "           'RMSE': rmse,\n",
    "           'MSE': mse,\n",
    "           'MEDAE': med,\n",
    "           'Accuracy': acc,\n",
    "           'MAPE': mape         \n",
    "          }, ignore_index = True)"
   ]
  },
  {
   "cell_type": "markdown",
   "id": "00454f7e",
   "metadata": {},
   "source": [
    "### MLR"
   ]
  },
  {
   "cell_type": "code",
   "execution_count": 294,
   "id": "4be5aedd",
   "metadata": {},
   "outputs": [
    {
     "name": "stdout",
     "output_type": "stream",
     "text": [
      "MSE for MLR 2015 is: 0.2864814305854803\n"
     ]
    }
   ],
   "source": [
    "lm = linear_model.LinearRegression()\n",
    "lm.fit(x_train_15, y_train_15) # fitting the model\n",
    "y_pred_15 = lm.predict(x_test_15)\n",
    "# Calculation of Mean Squared Error (MSE)\n",
    "mse = mean_squared_error(y_test_15, y_pred_15)\n",
    "print('MSE for MLR 2015 is: ' + str(mse))"
   ]
  },
  {
   "cell_type": "code",
   "execution_count": 295,
   "id": "43b98df8",
   "metadata": {},
   "outputs": [
    {
     "name": "stdout",
     "output_type": "stream",
     "text": [
      "RMSE for MLR 2015 is: 0.5352396010998068\n"
     ]
    }
   ],
   "source": [
    "rmse = mean_squared_error(y_test_15, y_pred_15, squared = False)\n",
    "print('RMSE for MLR 2015 is: ' + str(rmse))"
   ]
  },
  {
   "cell_type": "code",
   "execution_count": 296,
   "id": "711826cd",
   "metadata": {},
   "outputs": [
    {
     "name": "stdout",
     "output_type": "stream",
     "text": [
      "Accuracy of properties at +- 10% of actual prices is 0.14326165148848244\n"
     ]
    }
   ],
   "source": [
    "acc = accuracy_threshold(y_test_15, y_pred_15, 0.1)\n",
    "print('Accuracy of properties at +- 10% of actual prices is ' + str(acc))"
   ]
  },
  {
   "cell_type": "code",
   "execution_count": 297,
   "id": "cfe3f85c",
   "metadata": {},
   "outputs": [
    {
     "name": "stdout",
     "output_type": "stream",
     "text": [
      "Median Absolute Error:\n",
      "\n",
      "0.33296567295672036\n"
     ]
    }
   ],
   "source": [
    "median_se = np.square(np.subtract(y_test_15, y_pred_15)).median() \n",
    " \n",
    "med = math.sqrt(median_se)\n",
    "print(\"Median Absolute Error:\\n\")\n",
    "print(med)"
   ]
  },
  {
   "cell_type": "code",
   "execution_count": 298,
   "id": "c66bdecf",
   "metadata": {},
   "outputs": [
    {
     "name": "stdout",
     "output_type": "stream",
     "text": [
      "MAPE for MLR 2015 is: 0.034227078951234016\n"
     ]
    }
   ],
   "source": [
    "mape = mean_absolute_percentage_error(y_test_15, y_pred_15)\n",
    "print(\"MAPE for MLR 2015 is: \" + str(mape))"
   ]
  },
  {
   "cell_type": "code",
   "execution_count": 299,
   "id": "2b30801c",
   "metadata": {},
   "outputs": [],
   "source": [
    "cnames = ['Algorithm', 'Year', 'RMSE', 'MSE', 'MEDAE', 'Accuracy', 'MAPE']\n",
    "df37 = pd.DataFrame(columns = cnames)\n",
    "\n",
    "df37 = df37.append({'Algorithm': 'MLR',\n",
    "           'Year': 2015,\n",
    "           'RMSE': rmse,\n",
    "           'MSE': mse,\n",
    "           'MEDAE': med,\n",
    "           'Accuracy': acc,\n",
    "           'MAPE': mape         \n",
    "          }, ignore_index = True)"
   ]
  },
  {
   "cell_type": "markdown",
   "id": "51132a34",
   "metadata": {},
   "source": [
    "### AdaBoost"
   ]
  },
  {
   "cell_type": "code",
   "execution_count": 300,
   "id": "1d0e296f",
   "metadata": {},
   "outputs": [
    {
     "name": "stdout",
     "output_type": "stream",
     "text": [
      "MSE for AdaBoost 2015 is: 0.247753926719062\n"
     ]
    }
   ],
   "source": [
    "model = AdaBoostRegressor()\n",
    "model.fit(x_train_15, y_train_15)\n",
    "y_pred_15 = model.predict(x_test_15)\n",
    "# Calculation of Mean Squared Error (MSE)\n",
    "mse = mean_squared_error(y_test_15, y_pred_15)\n",
    "print('MSE for AdaBoost 2015 is: ' + str(mse))"
   ]
  },
  {
   "cell_type": "code",
   "execution_count": 301,
   "id": "795170cf",
   "metadata": {},
   "outputs": [
    {
     "name": "stdout",
     "output_type": "stream",
     "text": [
      "RMSE for AdaBoost 2015 is: 0.49774885908363664\n"
     ]
    }
   ],
   "source": [
    "rmse = mean_squared_error(y_test_15, y_pred_15, squared = False)\n",
    "print('RMSE for AdaBoost 2015 is: ' + str(rmse))"
   ]
  },
  {
   "cell_type": "code",
   "execution_count": 302,
   "id": "aac8e4a8",
   "metadata": {},
   "outputs": [
    {
     "name": "stdout",
     "output_type": "stream",
     "text": [
      "Accuracy of properties at +- 10% of actual prices is 0.16143720823448382\n"
     ]
    }
   ],
   "source": [
    "acc = accuracy_threshold(y_test_15, y_pred_15, 0.1)\n",
    "print('Accuracy of properties at +- 10% of actual prices is ' + str(acc))"
   ]
  },
  {
   "cell_type": "code",
   "execution_count": 303,
   "id": "640e8c97",
   "metadata": {},
   "outputs": [
    {
     "name": "stdout",
     "output_type": "stream",
     "text": [
      "Median Absolute Error:\n",
      "\n",
      "0.321334449167761\n"
     ]
    }
   ],
   "source": [
    "median_se = np.square(np.subtract(y_test_15, y_pred_15)).median() \n",
    " \n",
    "med = math.sqrt(median_se)\n",
    "print(\"Median Absolute Error:\\n\")\n",
    "print(med)"
   ]
  },
  {
   "cell_type": "code",
   "execution_count": 304,
   "id": "a2788739",
   "metadata": {},
   "outputs": [
    {
     "name": "stdout",
     "output_type": "stream",
     "text": [
      "MAPE for AdaBoost 2015 is: 0.03161531147559524\n"
     ]
    }
   ],
   "source": [
    "mape = mean_absolute_percentage_error(y_test_15, y_pred_15)\n",
    "print(\"MAPE for AdaBoost 2015 is: \" + str(mape))"
   ]
  },
  {
   "cell_type": "code",
   "execution_count": 305,
   "id": "ea67e911",
   "metadata": {},
   "outputs": [],
   "source": [
    "cnames = ['Algorithm', 'Year', 'RMSE', 'MSE', 'MEDAE', 'Accuracy', 'MAPE']\n",
    "df38 = pd.DataFrame(columns = cnames)\n",
    "\n",
    "df38 = df38.append({'Algorithm': 'AdaBoost',\n",
    "           'Year': 2015,\n",
    "           'RMSE': rmse,\n",
    "           'MSE': mse,\n",
    "           'MEDAE': med,\n",
    "           'Accuracy': acc,\n",
    "           'MAPE': mape         \n",
    "          }, ignore_index = True)"
   ]
  },
  {
   "cell_type": "markdown",
   "id": "7006cbb2",
   "metadata": {},
   "source": [
    "### LightGBM"
   ]
  },
  {
   "cell_type": "code",
   "execution_count": 306,
   "id": "8ae28150",
   "metadata": {},
   "outputs": [
    {
     "name": "stdout",
     "output_type": "stream",
     "text": [
      "MSE for LightGBM 2015 is: 0.1802123312650626\n"
     ]
    }
   ],
   "source": [
    "model = LGBMRegressor()\n",
    "model.fit(x_train_15, y_train_15)\n",
    "y_pred_15 = model.predict(x_test_15)\n",
    "# Calculation of Mean Squared Error (MSE)\n",
    "mse = mean_squared_error(y_test_15, y_pred_15)\n",
    "print('MSE for LightGBM 2015 is: ' + str(mse))"
   ]
  },
  {
   "cell_type": "code",
   "execution_count": 307,
   "id": "9144cd59",
   "metadata": {},
   "outputs": [
    {
     "name": "stdout",
     "output_type": "stream",
     "text": [
      "RMSE for LightGBM 2015 is: 0.4245142297556851\n"
     ]
    }
   ],
   "source": [
    "rmse = mean_squared_error(y_test_15, y_pred_15, squared = False)\n",
    "print('RMSE for LightGBM 2015 is: ' + str(rmse))"
   ]
  },
  {
   "cell_type": "code",
   "execution_count": 308,
   "id": "aebb2153",
   "metadata": {},
   "outputs": [
    {
     "name": "stdout",
     "output_type": "stream",
     "text": [
      "Accuracy of properties at +- 10% of actual prices is 0.26968699778066885\n"
     ]
    }
   ],
   "source": [
    "acc = accuracy_threshold(y_test_15, y_pred_15, 0.1)\n",
    "print('Accuracy of properties at +- 10% of actual prices is ' + str(acc))"
   ]
  },
  {
   "cell_type": "code",
   "execution_count": 309,
   "id": "085d9956",
   "metadata": {},
   "outputs": [
    {
     "name": "stdout",
     "output_type": "stream",
     "text": [
      "Median Absolute Error:\n",
      "\n",
      "0.2089808536738066\n"
     ]
    }
   ],
   "source": [
    "median_se = np.square(np.subtract(y_test_15, y_pred_15)).median() \n",
    " \n",
    "med = math.sqrt(median_se)\n",
    "print(\"Median Absolute Error:\\n\")\n",
    "print(med)"
   ]
  },
  {
   "cell_type": "code",
   "execution_count": 310,
   "id": "d0c82217",
   "metadata": {},
   "outputs": [
    {
     "name": "stdout",
     "output_type": "stream",
     "text": [
      "MAPE for LightGBM 2015 is: 0.024983864077270997\n"
     ]
    }
   ],
   "source": [
    "mape = mean_absolute_percentage_error(y_test_15, y_pred_15)\n",
    "print(\"MAPE for LightGBM 2015 is: \" + str(mape))"
   ]
  },
  {
   "cell_type": "code",
   "execution_count": 311,
   "id": "79372a8f",
   "metadata": {},
   "outputs": [],
   "source": [
    "cnames = ['Algorithm', 'Year', 'RMSE', 'MSE', 'MEDAE', 'Accuracy', 'MAPE']\n",
    "df39 = pd.DataFrame(columns = cnames)\n",
    "\n",
    "df39 = df39.append({'Algorithm': 'LightGBM',\n",
    "           'Year': 2015,\n",
    "           'RMSE': rmse,\n",
    "           'MSE': mse,\n",
    "           'MEDAE': med,\n",
    "           'Accuracy': acc,\n",
    "           'MAPE': mape         \n",
    "          }, ignore_index = True)"
   ]
  },
  {
   "cell_type": "markdown",
   "id": "c7570f21",
   "metadata": {},
   "source": [
    "### CatBoost"
   ]
  },
  {
   "cell_type": "code",
   "execution_count": 312,
   "id": "c72eaf19",
   "metadata": {},
   "outputs": [
    {
     "name": "stdout",
     "output_type": "stream",
     "text": [
      "Learning rate set to 0.081535\n",
      "0:\tlearn: 0.7362986\ttotal: 16.9ms\tremaining: 16.9s\n",
      "1:\tlearn: 0.7004530\ttotal: 33.5ms\tremaining: 16.7s\n",
      "2:\tlearn: 0.6687979\ttotal: 61.1ms\tremaining: 20.3s\n",
      "3:\tlearn: 0.6399665\ttotal: 98.2ms\tremaining: 24.5s\n",
      "4:\tlearn: 0.6144364\ttotal: 118ms\tremaining: 23.4s\n",
      "5:\tlearn: 0.5915673\ttotal: 133ms\tremaining: 22s\n",
      "6:\tlearn: 0.5711980\ttotal: 146ms\tremaining: 20.7s\n",
      "7:\tlearn: 0.5533600\ttotal: 159ms\tremaining: 19.7s\n",
      "8:\tlearn: 0.5373430\ttotal: 174ms\tremaining: 19.2s\n",
      "9:\tlearn: 0.5230452\ttotal: 195ms\tremaining: 19.3s\n",
      "10:\tlearn: 0.5104626\ttotal: 208ms\tremaining: 18.7s\n",
      "11:\tlearn: 0.4995078\ttotal: 221ms\tremaining: 18.2s\n",
      "12:\tlearn: 0.4897415\ttotal: 234ms\tremaining: 17.8s\n",
      "13:\tlearn: 0.4810529\ttotal: 255ms\tremaining: 18s\n",
      "14:\tlearn: 0.4731633\ttotal: 270ms\tremaining: 17.7s\n",
      "15:\tlearn: 0.4665559\ttotal: 284ms\tremaining: 17.4s\n",
      "16:\tlearn: 0.4608913\ttotal: 301ms\tremaining: 17.4s\n",
      "17:\tlearn: 0.4559664\ttotal: 319ms\tremaining: 17.4s\n",
      "18:\tlearn: 0.4515003\ttotal: 336ms\tremaining: 17.3s\n",
      "19:\tlearn: 0.4476909\ttotal: 352ms\tremaining: 17.3s\n",
      "20:\tlearn: 0.4441565\ttotal: 377ms\tremaining: 17.6s\n",
      "21:\tlearn: 0.4413977\ttotal: 409ms\tremaining: 18.2s\n",
      "22:\tlearn: 0.4388774\ttotal: 428ms\tremaining: 18.2s\n",
      "23:\tlearn: 0.4364471\ttotal: 448ms\tremaining: 18.2s\n",
      "24:\tlearn: 0.4345154\ttotal: 478ms\tremaining: 18.7s\n",
      "25:\tlearn: 0.4328866\ttotal: 510ms\tremaining: 19.1s\n",
      "26:\tlearn: 0.4314133\ttotal: 529ms\tremaining: 19.1s\n",
      "27:\tlearn: 0.4298912\ttotal: 545ms\tremaining: 18.9s\n",
      "28:\tlearn: 0.4286504\ttotal: 569ms\tremaining: 19.1s\n",
      "29:\tlearn: 0.4276054\ttotal: 596ms\tremaining: 19.3s\n",
      "30:\tlearn: 0.4267361\ttotal: 648ms\tremaining: 20.3s\n",
      "31:\tlearn: 0.4258613\ttotal: 680ms\tremaining: 20.6s\n",
      "32:\tlearn: 0.4250084\ttotal: 701ms\tremaining: 20.5s\n",
      "33:\tlearn: 0.4242354\ttotal: 719ms\tremaining: 20.4s\n",
      "34:\tlearn: 0.4236598\ttotal: 733ms\tremaining: 20.2s\n",
      "35:\tlearn: 0.4229963\ttotal: 749ms\tremaining: 20.1s\n",
      "36:\tlearn: 0.4225188\ttotal: 765ms\tremaining: 19.9s\n",
      "37:\tlearn: 0.4221215\ttotal: 782ms\tremaining: 19.8s\n",
      "38:\tlearn: 0.4217444\ttotal: 802ms\tremaining: 19.8s\n",
      "39:\tlearn: 0.4213998\ttotal: 817ms\tremaining: 19.6s\n",
      "40:\tlearn: 0.4210422\ttotal: 831ms\tremaining: 19.4s\n",
      "41:\tlearn: 0.4207758\ttotal: 843ms\tremaining: 19.2s\n",
      "42:\tlearn: 0.4204254\ttotal: 857ms\tremaining: 19.1s\n",
      "43:\tlearn: 0.4201748\ttotal: 877ms\tremaining: 19.1s\n",
      "44:\tlearn: 0.4198789\ttotal: 888ms\tremaining: 18.9s\n",
      "45:\tlearn: 0.4196963\ttotal: 899ms\tremaining: 18.6s\n",
      "46:\tlearn: 0.4195162\ttotal: 912ms\tremaining: 18.5s\n",
      "47:\tlearn: 0.4193289\ttotal: 927ms\tremaining: 18.4s\n",
      "48:\tlearn: 0.4191857\ttotal: 945ms\tremaining: 18.3s\n",
      "49:\tlearn: 0.4190080\ttotal: 966ms\tremaining: 18.4s\n",
      "50:\tlearn: 0.4188667\ttotal: 990ms\tremaining: 18.4s\n",
      "51:\tlearn: 0.4187311\ttotal: 1.02s\tremaining: 18.5s\n",
      "52:\tlearn: 0.4186273\ttotal: 1.04s\tremaining: 18.6s\n",
      "53:\tlearn: 0.4185163\ttotal: 1.06s\tremaining: 18.6s\n",
      "54:\tlearn: 0.4184164\ttotal: 1.07s\tremaining: 18.5s\n",
      "55:\tlearn: 0.4183070\ttotal: 1.1s\tremaining: 18.6s\n",
      "56:\tlearn: 0.4181281\ttotal: 1.13s\tremaining: 18.8s\n",
      "57:\tlearn: 0.4180181\ttotal: 1.16s\tremaining: 18.8s\n",
      "58:\tlearn: 0.4179274\ttotal: 1.17s\tremaining: 18.7s\n",
      "59:\tlearn: 0.4178504\ttotal: 1.19s\tremaining: 18.6s\n",
      "60:\tlearn: 0.4177587\ttotal: 1.21s\tremaining: 18.6s\n",
      "61:\tlearn: 0.4176899\ttotal: 1.22s\tremaining: 18.4s\n",
      "62:\tlearn: 0.4175580\ttotal: 1.23s\tremaining: 18.3s\n",
      "63:\tlearn: 0.4175092\ttotal: 1.24s\tremaining: 18.2s\n",
      "64:\tlearn: 0.4174084\ttotal: 1.26s\tremaining: 18.1s\n",
      "65:\tlearn: 0.4173553\ttotal: 1.28s\tremaining: 18.1s\n",
      "66:\tlearn: 0.4173317\ttotal: 1.28s\tremaining: 17.9s\n",
      "67:\tlearn: 0.4172262\ttotal: 1.3s\tremaining: 17.9s\n",
      "68:\tlearn: 0.4171744\ttotal: 1.35s\tremaining: 18.2s\n",
      "69:\tlearn: 0.4171012\ttotal: 1.39s\tremaining: 18.5s\n",
      "70:\tlearn: 0.4170450\ttotal: 1.41s\tremaining: 18.5s\n",
      "71:\tlearn: 0.4169966\ttotal: 1.43s\tremaining: 18.4s\n",
      "72:\tlearn: 0.4169262\ttotal: 1.45s\tremaining: 18.4s\n",
      "73:\tlearn: 0.4168570\ttotal: 1.47s\tremaining: 18.4s\n",
      "74:\tlearn: 0.4168099\ttotal: 1.49s\tremaining: 18.4s\n",
      "75:\tlearn: 0.4167435\ttotal: 1.52s\tremaining: 18.5s\n",
      "76:\tlearn: 0.4166645\ttotal: 1.54s\tremaining: 18.5s\n",
      "77:\tlearn: 0.4165840\ttotal: 1.58s\tremaining: 18.7s\n",
      "78:\tlearn: 0.4165104\ttotal: 1.62s\tremaining: 18.9s\n",
      "79:\tlearn: 0.4164580\ttotal: 1.65s\tremaining: 19s\n",
      "80:\tlearn: 0.4164010\ttotal: 1.7s\tremaining: 19.3s\n",
      "81:\tlearn: 0.4163591\ttotal: 1.74s\tremaining: 19.4s\n",
      "82:\tlearn: 0.4163215\ttotal: 1.77s\tremaining: 19.5s\n",
      "83:\tlearn: 0.4162913\ttotal: 1.8s\tremaining: 19.7s\n",
      "84:\tlearn: 0.4162426\ttotal: 1.83s\tremaining: 19.7s\n",
      "85:\tlearn: 0.4161981\ttotal: 1.87s\tremaining: 19.9s\n",
      "86:\tlearn: 0.4161562\ttotal: 1.92s\tremaining: 20.1s\n",
      "87:\tlearn: 0.4161266\ttotal: 1.95s\tremaining: 20.2s\n",
      "88:\tlearn: 0.4160699\ttotal: 1.97s\tremaining: 20.2s\n",
      "89:\tlearn: 0.4160453\ttotal: 2s\tremaining: 20.2s\n",
      "90:\tlearn: 0.4159840\ttotal: 2.03s\tremaining: 20.3s\n",
      "91:\tlearn: 0.4159200\ttotal: 2.06s\tremaining: 20.4s\n",
      "92:\tlearn: 0.4158224\ttotal: 2.1s\tremaining: 20.5s\n",
      "93:\tlearn: 0.4157840\ttotal: 2.13s\tremaining: 20.5s\n",
      "94:\tlearn: 0.4157612\ttotal: 2.19s\tremaining: 20.9s\n",
      "95:\tlearn: 0.4157235\ttotal: 2.23s\tremaining: 21s\n",
      "96:\tlearn: 0.4156440\ttotal: 2.27s\tremaining: 21.1s\n",
      "97:\tlearn: 0.4156367\ttotal: 2.29s\tremaining: 21.1s\n",
      "98:\tlearn: 0.4156134\ttotal: 2.32s\tremaining: 21.1s\n",
      "99:\tlearn: 0.4155635\ttotal: 2.36s\tremaining: 21.3s\n",
      "100:\tlearn: 0.4155271\ttotal: 2.39s\tremaining: 21.3s\n",
      "101:\tlearn: 0.4154785\ttotal: 2.43s\tremaining: 21.4s\n",
      "102:\tlearn: 0.4154455\ttotal: 2.46s\tremaining: 21.4s\n",
      "103:\tlearn: 0.4153828\ttotal: 2.48s\tremaining: 21.4s\n",
      "104:\tlearn: 0.4153516\ttotal: 2.52s\tremaining: 21.5s\n",
      "105:\tlearn: 0.4153250\ttotal: 2.55s\tremaining: 21.5s\n",
      "106:\tlearn: 0.4152983\ttotal: 2.58s\tremaining: 21.5s\n",
      "107:\tlearn: 0.4152763\ttotal: 2.6s\tremaining: 21.4s\n",
      "108:\tlearn: 0.4152549\ttotal: 2.61s\tremaining: 21.4s\n",
      "109:\tlearn: 0.4152036\ttotal: 2.64s\tremaining: 21.4s\n",
      "110:\tlearn: 0.4151740\ttotal: 2.67s\tremaining: 21.4s\n",
      "111:\tlearn: 0.4151243\ttotal: 2.7s\tremaining: 21.4s\n",
      "112:\tlearn: 0.4150853\ttotal: 2.72s\tremaining: 21.4s\n",
      "113:\tlearn: 0.4150298\ttotal: 2.75s\tremaining: 21.4s\n",
      "114:\tlearn: 0.4149810\ttotal: 2.77s\tremaining: 21.3s\n",
      "115:\tlearn: 0.4148962\ttotal: 2.79s\tremaining: 21.3s\n",
      "116:\tlearn: 0.4148536\ttotal: 2.81s\tremaining: 21.2s\n",
      "117:\tlearn: 0.4148384\ttotal: 2.82s\tremaining: 21.1s\n",
      "118:\tlearn: 0.4148031\ttotal: 2.83s\tremaining: 21s\n",
      "119:\tlearn: 0.4147649\ttotal: 2.85s\tremaining: 20.9s\n",
      "120:\tlearn: 0.4147100\ttotal: 2.86s\tremaining: 20.8s\n",
      "121:\tlearn: 0.4146878\ttotal: 2.88s\tremaining: 20.7s\n",
      "122:\tlearn: 0.4146385\ttotal: 2.89s\tremaining: 20.6s\n",
      "123:\tlearn: 0.4145945\ttotal: 2.9s\tremaining: 20.5s\n",
      "124:\tlearn: 0.4144776\ttotal: 2.92s\tremaining: 20.4s\n",
      "125:\tlearn: 0.4144423\ttotal: 2.93s\tremaining: 20.3s\n",
      "126:\tlearn: 0.4143833\ttotal: 2.95s\tremaining: 20.3s\n",
      "127:\tlearn: 0.4143534\ttotal: 2.96s\tremaining: 20.2s\n",
      "128:\tlearn: 0.4143254\ttotal: 2.97s\tremaining: 20.1s\n",
      "129:\tlearn: 0.4143109\ttotal: 2.99s\tremaining: 20s\n",
      "130:\tlearn: 0.4142648\ttotal: 3s\tremaining: 19.9s\n",
      "131:\tlearn: 0.4142341\ttotal: 3.01s\tremaining: 19.8s\n",
      "132:\tlearn: 0.4141995\ttotal: 3.02s\tremaining: 19.7s\n",
      "133:\tlearn: 0.4141635\ttotal: 3.03s\tremaining: 19.6s\n",
      "134:\tlearn: 0.4141358\ttotal: 3.04s\tremaining: 19.5s\n",
      "135:\tlearn: 0.4141079\ttotal: 3.06s\tremaining: 19.4s\n",
      "136:\tlearn: 0.4140790\ttotal: 3.07s\tremaining: 19.3s\n",
      "137:\tlearn: 0.4140270\ttotal: 3.09s\tremaining: 19.3s\n",
      "138:\tlearn: 0.4139242\ttotal: 3.1s\tremaining: 19.2s\n",
      "139:\tlearn: 0.4138900\ttotal: 3.11s\tremaining: 19.1s\n",
      "140:\tlearn: 0.4138469\ttotal: 3.12s\tremaining: 19s\n",
      "141:\tlearn: 0.4138194\ttotal: 3.13s\tremaining: 18.9s\n",
      "142:\tlearn: 0.4137974\ttotal: 3.14s\tremaining: 18.8s\n",
      "143:\tlearn: 0.4137695\ttotal: 3.15s\tremaining: 18.7s\n",
      "144:\tlearn: 0.4137081\ttotal: 3.16s\tremaining: 18.7s\n",
      "145:\tlearn: 0.4136437\ttotal: 3.17s\tremaining: 18.6s\n",
      "146:\tlearn: 0.4136077\ttotal: 3.18s\tremaining: 18.5s\n",
      "147:\tlearn: 0.4135724\ttotal: 3.19s\tremaining: 18.4s\n",
      "148:\tlearn: 0.4135426\ttotal: 3.21s\tremaining: 18.3s\n",
      "149:\tlearn: 0.4135000\ttotal: 3.23s\tremaining: 18.3s\n",
      "150:\tlearn: 0.4134641\ttotal: 3.25s\tremaining: 18.3s\n",
      "151:\tlearn: 0.4134379\ttotal: 3.27s\tremaining: 18.2s\n",
      "152:\tlearn: 0.4134089\ttotal: 3.29s\tremaining: 18.2s\n",
      "153:\tlearn: 0.4133783\ttotal: 3.3s\tremaining: 18.1s\n",
      "154:\tlearn: 0.4133396\ttotal: 3.31s\tremaining: 18.1s\n",
      "155:\tlearn: 0.4133156\ttotal: 3.32s\tremaining: 18s\n",
      "156:\tlearn: 0.4132961\ttotal: 3.33s\tremaining: 17.9s\n",
      "157:\tlearn: 0.4132601\ttotal: 3.35s\tremaining: 17.8s\n",
      "158:\tlearn: 0.4132337\ttotal: 3.36s\tremaining: 17.8s\n",
      "159:\tlearn: 0.4131961\ttotal: 3.38s\tremaining: 17.7s\n",
      "160:\tlearn: 0.4131733\ttotal: 3.39s\tremaining: 17.7s\n",
      "161:\tlearn: 0.4131576\ttotal: 3.4s\tremaining: 17.6s\n"
     ]
    },
    {
     "name": "stdout",
     "output_type": "stream",
     "text": [
      "162:\tlearn: 0.4131451\ttotal: 3.42s\tremaining: 17.6s\n",
      "163:\tlearn: 0.4131225\ttotal: 3.44s\tremaining: 17.5s\n",
      "164:\tlearn: 0.4130849\ttotal: 3.45s\tremaining: 17.5s\n",
      "165:\tlearn: 0.4130681\ttotal: 3.47s\tremaining: 17.4s\n",
      "166:\tlearn: 0.4130353\ttotal: 3.48s\tremaining: 17.4s\n",
      "167:\tlearn: 0.4130040\ttotal: 3.5s\tremaining: 17.3s\n",
      "168:\tlearn: 0.4129681\ttotal: 3.51s\tremaining: 17.3s\n",
      "169:\tlearn: 0.4129340\ttotal: 3.52s\tremaining: 17.2s\n",
      "170:\tlearn: 0.4129076\ttotal: 3.54s\tremaining: 17.2s\n",
      "171:\tlearn: 0.4128787\ttotal: 3.55s\tremaining: 17.1s\n",
      "172:\tlearn: 0.4128516\ttotal: 3.56s\tremaining: 17s\n",
      "173:\tlearn: 0.4128220\ttotal: 3.58s\tremaining: 17s\n",
      "174:\tlearn: 0.4127887\ttotal: 3.6s\tremaining: 17s\n",
      "175:\tlearn: 0.4127645\ttotal: 3.62s\tremaining: 16.9s\n",
      "176:\tlearn: 0.4127274\ttotal: 3.63s\tremaining: 16.9s\n",
      "177:\tlearn: 0.4126934\ttotal: 3.66s\tremaining: 16.9s\n",
      "178:\tlearn: 0.4126687\ttotal: 3.67s\tremaining: 16.8s\n",
      "179:\tlearn: 0.4126539\ttotal: 3.69s\tremaining: 16.8s\n",
      "180:\tlearn: 0.4126287\ttotal: 3.71s\tremaining: 16.8s\n",
      "181:\tlearn: 0.4126117\ttotal: 3.72s\tremaining: 16.7s\n",
      "182:\tlearn: 0.4125906\ttotal: 3.74s\tremaining: 16.7s\n",
      "183:\tlearn: 0.4125611\ttotal: 3.76s\tremaining: 16.7s\n",
      "184:\tlearn: 0.4125571\ttotal: 3.77s\tremaining: 16.6s\n",
      "185:\tlearn: 0.4125443\ttotal: 3.78s\tremaining: 16.6s\n",
      "186:\tlearn: 0.4125094\ttotal: 3.79s\tremaining: 16.5s\n",
      "187:\tlearn: 0.4124865\ttotal: 3.81s\tremaining: 16.4s\n",
      "188:\tlearn: 0.4124579\ttotal: 3.82s\tremaining: 16.4s\n",
      "189:\tlearn: 0.4124313\ttotal: 3.83s\tremaining: 16.3s\n",
      "190:\tlearn: 0.4123860\ttotal: 3.85s\tremaining: 16.3s\n",
      "191:\tlearn: 0.4123265\ttotal: 3.86s\tremaining: 16.2s\n",
      "192:\tlearn: 0.4123037\ttotal: 3.87s\tremaining: 16.2s\n",
      "193:\tlearn: 0.4122550\ttotal: 3.89s\tremaining: 16.1s\n",
      "194:\tlearn: 0.4122075\ttotal: 3.9s\tremaining: 16.1s\n",
      "195:\tlearn: 0.4121919\ttotal: 3.91s\tremaining: 16s\n",
      "196:\tlearn: 0.4121355\ttotal: 3.92s\tremaining: 16s\n",
      "197:\tlearn: 0.4120874\ttotal: 3.93s\tremaining: 15.9s\n",
      "198:\tlearn: 0.4120435\ttotal: 3.94s\tremaining: 15.9s\n",
      "199:\tlearn: 0.4120002\ttotal: 3.95s\tremaining: 15.8s\n",
      "200:\tlearn: 0.4119649\ttotal: 3.96s\tremaining: 15.7s\n",
      "201:\tlearn: 0.4119375\ttotal: 3.97s\tremaining: 15.7s\n",
      "202:\tlearn: 0.4119201\ttotal: 3.98s\tremaining: 15.6s\n",
      "203:\tlearn: 0.4118953\ttotal: 3.99s\tremaining: 15.6s\n",
      "204:\tlearn: 0.4118637\ttotal: 4s\tremaining: 15.5s\n",
      "205:\tlearn: 0.4118471\ttotal: 4.01s\tremaining: 15.5s\n",
      "206:\tlearn: 0.4118251\ttotal: 4.03s\tremaining: 15.4s\n",
      "207:\tlearn: 0.4117782\ttotal: 4.04s\tremaining: 15.4s\n",
      "208:\tlearn: 0.4117589\ttotal: 4.06s\tremaining: 15.4s\n",
      "209:\tlearn: 0.4117137\ttotal: 4.07s\tremaining: 15.3s\n",
      "210:\tlearn: 0.4116852\ttotal: 4.08s\tremaining: 15.3s\n",
      "211:\tlearn: 0.4116591\ttotal: 4.09s\tremaining: 15.2s\n",
      "212:\tlearn: 0.4116389\ttotal: 4.1s\tremaining: 15.2s\n",
      "213:\tlearn: 0.4116235\ttotal: 4.12s\tremaining: 15.1s\n",
      "214:\tlearn: 0.4115614\ttotal: 4.13s\tremaining: 15.1s\n",
      "215:\tlearn: 0.4115360\ttotal: 4.14s\tremaining: 15s\n",
      "216:\tlearn: 0.4115039\ttotal: 4.16s\tremaining: 15s\n",
      "217:\tlearn: 0.4114465\ttotal: 4.17s\tremaining: 15s\n",
      "218:\tlearn: 0.4114322\ttotal: 4.18s\tremaining: 14.9s\n",
      "219:\tlearn: 0.4113992\ttotal: 4.2s\tremaining: 14.9s\n",
      "220:\tlearn: 0.4113489\ttotal: 4.21s\tremaining: 14.8s\n",
      "221:\tlearn: 0.4113457\ttotal: 4.22s\tremaining: 14.8s\n",
      "222:\tlearn: 0.4112890\ttotal: 4.24s\tremaining: 14.8s\n",
      "223:\tlearn: 0.4112700\ttotal: 4.26s\tremaining: 14.8s\n",
      "224:\tlearn: 0.4112516\ttotal: 4.28s\tremaining: 14.7s\n",
      "225:\tlearn: 0.4112356\ttotal: 4.31s\tremaining: 14.8s\n",
      "226:\tlearn: 0.4112167\ttotal: 4.32s\tremaining: 14.7s\n",
      "227:\tlearn: 0.4111945\ttotal: 4.33s\tremaining: 14.7s\n",
      "228:\tlearn: 0.4111749\ttotal: 4.35s\tremaining: 14.6s\n",
      "229:\tlearn: 0.4111252\ttotal: 4.36s\tremaining: 14.6s\n",
      "230:\tlearn: 0.4111001\ttotal: 4.37s\tremaining: 14.6s\n",
      "231:\tlearn: 0.4110661\ttotal: 4.38s\tremaining: 14.5s\n",
      "232:\tlearn: 0.4110520\ttotal: 4.4s\tremaining: 14.5s\n",
      "233:\tlearn: 0.4110304\ttotal: 4.41s\tremaining: 14.4s\n",
      "234:\tlearn: 0.4109970\ttotal: 4.43s\tremaining: 14.4s\n",
      "235:\tlearn: 0.4109704\ttotal: 4.45s\tremaining: 14.4s\n",
      "236:\tlearn: 0.4109332\ttotal: 4.46s\tremaining: 14.4s\n",
      "237:\tlearn: 0.4109061\ttotal: 4.48s\tremaining: 14.3s\n",
      "238:\tlearn: 0.4108723\ttotal: 4.49s\tremaining: 14.3s\n",
      "239:\tlearn: 0.4108509\ttotal: 4.5s\tremaining: 14.3s\n",
      "240:\tlearn: 0.4108232\ttotal: 4.51s\tremaining: 14.2s\n",
      "241:\tlearn: 0.4108117\ttotal: 4.53s\tremaining: 14.2s\n",
      "242:\tlearn: 0.4107980\ttotal: 4.54s\tremaining: 14.1s\n",
      "243:\tlearn: 0.4107547\ttotal: 4.55s\tremaining: 14.1s\n",
      "244:\tlearn: 0.4107189\ttotal: 4.57s\tremaining: 14.1s\n",
      "245:\tlearn: 0.4106917\ttotal: 4.59s\tremaining: 14.1s\n",
      "246:\tlearn: 0.4106674\ttotal: 4.61s\tremaining: 14.1s\n",
      "247:\tlearn: 0.4106409\ttotal: 4.63s\tremaining: 14s\n",
      "248:\tlearn: 0.4106139\ttotal: 4.65s\tremaining: 14s\n",
      "249:\tlearn: 0.4105976\ttotal: 4.67s\tremaining: 14s\n",
      "250:\tlearn: 0.4105612\ttotal: 4.68s\tremaining: 14s\n",
      "251:\tlearn: 0.4105431\ttotal: 4.7s\tremaining: 13.9s\n",
      "252:\tlearn: 0.4105174\ttotal: 4.71s\tremaining: 13.9s\n",
      "253:\tlearn: 0.4104832\ttotal: 4.72s\tremaining: 13.9s\n",
      "254:\tlearn: 0.4104402\ttotal: 4.73s\tremaining: 13.8s\n",
      "255:\tlearn: 0.4104140\ttotal: 4.75s\tremaining: 13.8s\n",
      "256:\tlearn: 0.4103799\ttotal: 4.76s\tremaining: 13.8s\n",
      "257:\tlearn: 0.4103500\ttotal: 4.78s\tremaining: 13.8s\n",
      "258:\tlearn: 0.4103371\ttotal: 4.8s\tremaining: 13.7s\n",
      "259:\tlearn: 0.4102892\ttotal: 4.83s\tremaining: 13.7s\n",
      "260:\tlearn: 0.4102389\ttotal: 4.84s\tremaining: 13.7s\n",
      "261:\tlearn: 0.4102119\ttotal: 4.85s\tremaining: 13.7s\n",
      "262:\tlearn: 0.4101860\ttotal: 4.86s\tremaining: 13.6s\n",
      "263:\tlearn: 0.4101640\ttotal: 4.87s\tremaining: 13.6s\n",
      "264:\tlearn: 0.4101447\ttotal: 4.88s\tremaining: 13.5s\n",
      "265:\tlearn: 0.4101210\ttotal: 4.89s\tremaining: 13.5s\n",
      "266:\tlearn: 0.4101004\ttotal: 4.9s\tremaining: 13.5s\n",
      "267:\tlearn: 0.4100547\ttotal: 4.91s\tremaining: 13.4s\n",
      "268:\tlearn: 0.4100210\ttotal: 4.92s\tremaining: 13.4s\n",
      "269:\tlearn: 0.4099962\ttotal: 4.93s\tremaining: 13.3s\n",
      "270:\tlearn: 0.4099598\ttotal: 4.95s\tremaining: 13.3s\n",
      "271:\tlearn: 0.4099250\ttotal: 4.96s\tremaining: 13.3s\n",
      "272:\tlearn: 0.4099002\ttotal: 4.97s\tremaining: 13.2s\n",
      "273:\tlearn: 0.4098816\ttotal: 4.99s\tremaining: 13.2s\n",
      "274:\tlearn: 0.4098642\ttotal: 5s\tremaining: 13.2s\n",
      "275:\tlearn: 0.4098396\ttotal: 5.01s\tremaining: 13.2s\n",
      "276:\tlearn: 0.4098273\ttotal: 5.02s\tremaining: 13.1s\n",
      "277:\tlearn: 0.4098123\ttotal: 5.03s\tremaining: 13.1s\n",
      "278:\tlearn: 0.4097869\ttotal: 5.04s\tremaining: 13s\n",
      "279:\tlearn: 0.4097491\ttotal: 5.05s\tremaining: 13s\n",
      "280:\tlearn: 0.4097338\ttotal: 5.07s\tremaining: 13s\n",
      "281:\tlearn: 0.4097089\ttotal: 5.08s\tremaining: 12.9s\n",
      "282:\tlearn: 0.4096960\ttotal: 5.08s\tremaining: 12.9s\n",
      "283:\tlearn: 0.4096730\ttotal: 5.1s\tremaining: 12.8s\n",
      "284:\tlearn: 0.4096199\ttotal: 5.11s\tremaining: 12.8s\n",
      "285:\tlearn: 0.4095957\ttotal: 5.12s\tremaining: 12.8s\n",
      "286:\tlearn: 0.4095650\ttotal: 5.13s\tremaining: 12.7s\n",
      "287:\tlearn: 0.4095452\ttotal: 5.14s\tremaining: 12.7s\n",
      "288:\tlearn: 0.4095343\ttotal: 5.15s\tremaining: 12.7s\n",
      "289:\tlearn: 0.4095074\ttotal: 5.17s\tremaining: 12.6s\n",
      "290:\tlearn: 0.4094905\ttotal: 5.18s\tremaining: 12.6s\n",
      "291:\tlearn: 0.4094652\ttotal: 5.19s\tremaining: 12.6s\n",
      "292:\tlearn: 0.4094427\ttotal: 5.2s\tremaining: 12.5s\n",
      "293:\tlearn: 0.4094286\ttotal: 5.21s\tremaining: 12.5s\n",
      "294:\tlearn: 0.4094028\ttotal: 5.22s\tremaining: 12.5s\n",
      "295:\tlearn: 0.4093764\ttotal: 5.24s\tremaining: 12.5s\n",
      "296:\tlearn: 0.4093530\ttotal: 5.25s\tremaining: 12.4s\n",
      "297:\tlearn: 0.4093330\ttotal: 5.26s\tremaining: 12.4s\n",
      "298:\tlearn: 0.4093204\ttotal: 5.27s\tremaining: 12.3s\n",
      "299:\tlearn: 0.4092978\ttotal: 5.28s\tremaining: 12.3s\n",
      "300:\tlearn: 0.4092807\ttotal: 5.29s\tremaining: 12.3s\n",
      "301:\tlearn: 0.4092623\ttotal: 5.3s\tremaining: 12.2s\n",
      "302:\tlearn: 0.4092385\ttotal: 5.31s\tremaining: 12.2s\n",
      "303:\tlearn: 0.4092179\ttotal: 5.33s\tremaining: 12.2s\n",
      "304:\tlearn: 0.4091944\ttotal: 5.34s\tremaining: 12.2s\n",
      "305:\tlearn: 0.4091587\ttotal: 5.37s\tremaining: 12.2s\n",
      "306:\tlearn: 0.4091197\ttotal: 5.39s\tremaining: 12.2s\n",
      "307:\tlearn: 0.4091022\ttotal: 5.41s\tremaining: 12.1s\n",
      "308:\tlearn: 0.4090723\ttotal: 5.43s\tremaining: 12.1s\n",
      "309:\tlearn: 0.4090585\ttotal: 5.44s\tremaining: 12.1s\n",
      "310:\tlearn: 0.4090414\ttotal: 5.46s\tremaining: 12.1s\n",
      "311:\tlearn: 0.4090270\ttotal: 5.47s\tremaining: 12.1s\n",
      "312:\tlearn: 0.4089957\ttotal: 5.49s\tremaining: 12s\n",
      "313:\tlearn: 0.4089673\ttotal: 5.5s\tremaining: 12s\n",
      "314:\tlearn: 0.4089441\ttotal: 5.51s\tremaining: 12s\n",
      "315:\tlearn: 0.4089165\ttotal: 5.53s\tremaining: 12s\n",
      "316:\tlearn: 0.4089069\ttotal: 5.54s\tremaining: 11.9s\n",
      "317:\tlearn: 0.4088796\ttotal: 5.55s\tremaining: 11.9s\n",
      "318:\tlearn: 0.4088689\ttotal: 5.57s\tremaining: 11.9s\n",
      "319:\tlearn: 0.4088505\ttotal: 5.59s\tremaining: 11.9s\n",
      "320:\tlearn: 0.4088191\ttotal: 5.61s\tremaining: 11.9s\n",
      "321:\tlearn: 0.4088050\ttotal: 5.62s\tremaining: 11.8s\n",
      "322:\tlearn: 0.4087720\ttotal: 5.64s\tremaining: 11.8s\n",
      "323:\tlearn: 0.4087628\ttotal: 5.65s\tremaining: 11.8s\n",
      "324:\tlearn: 0.4087338\ttotal: 5.66s\tremaining: 11.8s\n",
      "325:\tlearn: 0.4087201\ttotal: 5.67s\tremaining: 11.7s\n",
      "326:\tlearn: 0.4086997\ttotal: 5.69s\tremaining: 11.7s\n",
      "327:\tlearn: 0.4086633\ttotal: 5.7s\tremaining: 11.7s\n",
      "328:\tlearn: 0.4086414\ttotal: 5.71s\tremaining: 11.7s\n",
      "329:\tlearn: 0.4086204\ttotal: 5.73s\tremaining: 11.6s\n",
      "330:\tlearn: 0.4085895\ttotal: 5.74s\tremaining: 11.6s\n"
     ]
    },
    {
     "name": "stdout",
     "output_type": "stream",
     "text": [
      "331:\tlearn: 0.4085671\ttotal: 5.76s\tremaining: 11.6s\n",
      "332:\tlearn: 0.4085516\ttotal: 5.78s\tremaining: 11.6s\n",
      "333:\tlearn: 0.4085365\ttotal: 5.8s\tremaining: 11.6s\n",
      "334:\tlearn: 0.4085236\ttotal: 5.82s\tremaining: 11.6s\n",
      "335:\tlearn: 0.4084895\ttotal: 5.83s\tremaining: 11.5s\n",
      "336:\tlearn: 0.4084774\ttotal: 5.84s\tremaining: 11.5s\n",
      "337:\tlearn: 0.4084410\ttotal: 5.85s\tremaining: 11.5s\n",
      "338:\tlearn: 0.4084127\ttotal: 5.86s\tremaining: 11.4s\n",
      "339:\tlearn: 0.4083827\ttotal: 5.88s\tremaining: 11.4s\n",
      "340:\tlearn: 0.4083680\ttotal: 5.89s\tremaining: 11.4s\n",
      "341:\tlearn: 0.4083489\ttotal: 5.92s\tremaining: 11.4s\n",
      "342:\tlearn: 0.4083387\ttotal: 5.93s\tremaining: 11.4s\n",
      "343:\tlearn: 0.4083200\ttotal: 5.94s\tremaining: 11.3s\n",
      "344:\tlearn: 0.4082884\ttotal: 5.95s\tremaining: 11.3s\n",
      "345:\tlearn: 0.4082637\ttotal: 5.97s\tremaining: 11.3s\n",
      "346:\tlearn: 0.4082412\ttotal: 5.99s\tremaining: 11.3s\n",
      "347:\tlearn: 0.4082173\ttotal: 6s\tremaining: 11.2s\n",
      "348:\tlearn: 0.4081996\ttotal: 6.01s\tremaining: 11.2s\n",
      "349:\tlearn: 0.4081671\ttotal: 6.03s\tremaining: 11.2s\n",
      "350:\tlearn: 0.4081519\ttotal: 6.04s\tremaining: 11.2s\n",
      "351:\tlearn: 0.4081320\ttotal: 6.05s\tremaining: 11.1s\n",
      "352:\tlearn: 0.4081190\ttotal: 6.06s\tremaining: 11.1s\n",
      "353:\tlearn: 0.4081034\ttotal: 6.07s\tremaining: 11.1s\n",
      "354:\tlearn: 0.4080620\ttotal: 6.08s\tremaining: 11s\n",
      "355:\tlearn: 0.4080434\ttotal: 6.09s\tremaining: 11s\n",
      "356:\tlearn: 0.4080264\ttotal: 6.1s\tremaining: 11s\n",
      "357:\tlearn: 0.4080058\ttotal: 6.11s\tremaining: 11s\n",
      "358:\tlearn: 0.4079919\ttotal: 6.12s\tremaining: 10.9s\n",
      "359:\tlearn: 0.4079815\ttotal: 6.13s\tremaining: 10.9s\n",
      "360:\tlearn: 0.4079728\ttotal: 6.14s\tremaining: 10.9s\n",
      "361:\tlearn: 0.4079495\ttotal: 6.16s\tremaining: 10.9s\n",
      "362:\tlearn: 0.4079340\ttotal: 6.17s\tremaining: 10.8s\n",
      "363:\tlearn: 0.4079125\ttotal: 6.18s\tremaining: 10.8s\n",
      "364:\tlearn: 0.4078856\ttotal: 6.19s\tremaining: 10.8s\n",
      "365:\tlearn: 0.4078722\ttotal: 6.2s\tremaining: 10.7s\n",
      "366:\tlearn: 0.4078356\ttotal: 6.22s\tremaining: 10.7s\n",
      "367:\tlearn: 0.4078123\ttotal: 6.23s\tremaining: 10.7s\n",
      "368:\tlearn: 0.4077993\ttotal: 6.24s\tremaining: 10.7s\n",
      "369:\tlearn: 0.4077914\ttotal: 6.25s\tremaining: 10.6s\n",
      "370:\tlearn: 0.4077708\ttotal: 6.26s\tremaining: 10.6s\n",
      "371:\tlearn: 0.4077524\ttotal: 6.27s\tremaining: 10.6s\n",
      "372:\tlearn: 0.4077403\ttotal: 6.28s\tremaining: 10.6s\n",
      "373:\tlearn: 0.4077230\ttotal: 6.29s\tremaining: 10.5s\n",
      "374:\tlearn: 0.4077026\ttotal: 6.3s\tremaining: 10.5s\n",
      "375:\tlearn: 0.4076829\ttotal: 6.32s\tremaining: 10.5s\n",
      "376:\tlearn: 0.4076697\ttotal: 6.33s\tremaining: 10.5s\n",
      "377:\tlearn: 0.4076421\ttotal: 6.34s\tremaining: 10.4s\n",
      "378:\tlearn: 0.4076311\ttotal: 6.36s\tremaining: 10.4s\n",
      "379:\tlearn: 0.4076148\ttotal: 6.37s\tremaining: 10.4s\n",
      "380:\tlearn: 0.4075912\ttotal: 6.38s\tremaining: 10.4s\n",
      "381:\tlearn: 0.4075839\ttotal: 6.4s\tremaining: 10.4s\n",
      "382:\tlearn: 0.4075449\ttotal: 6.41s\tremaining: 10.3s\n",
      "383:\tlearn: 0.4075186\ttotal: 6.42s\tremaining: 10.3s\n",
      "384:\tlearn: 0.4075064\ttotal: 6.43s\tremaining: 10.3s\n",
      "385:\tlearn: 0.4074905\ttotal: 6.45s\tremaining: 10.3s\n",
      "386:\tlearn: 0.4074812\ttotal: 6.46s\tremaining: 10.2s\n",
      "387:\tlearn: 0.4074566\ttotal: 6.47s\tremaining: 10.2s\n",
      "388:\tlearn: 0.4074422\ttotal: 6.48s\tremaining: 10.2s\n",
      "389:\tlearn: 0.4074054\ttotal: 6.5s\tremaining: 10.2s\n",
      "390:\tlearn: 0.4073771\ttotal: 6.51s\tremaining: 10.1s\n",
      "391:\tlearn: 0.4073510\ttotal: 6.53s\tremaining: 10.1s\n",
      "392:\tlearn: 0.4073281\ttotal: 6.55s\tremaining: 10.1s\n",
      "393:\tlearn: 0.4073121\ttotal: 6.57s\tremaining: 10.1s\n",
      "394:\tlearn: 0.4072781\ttotal: 6.58s\tremaining: 10.1s\n",
      "395:\tlearn: 0.4072666\ttotal: 6.6s\tremaining: 10.1s\n",
      "396:\tlearn: 0.4072524\ttotal: 6.62s\tremaining: 10s\n",
      "397:\tlearn: 0.4072347\ttotal: 6.63s\tremaining: 10s\n",
      "398:\tlearn: 0.4072144\ttotal: 6.65s\tremaining: 10s\n",
      "399:\tlearn: 0.4071957\ttotal: 6.66s\tremaining: 9.99s\n",
      "400:\tlearn: 0.4071751\ttotal: 6.68s\tremaining: 9.98s\n",
      "401:\tlearn: 0.4071611\ttotal: 6.69s\tremaining: 9.96s\n",
      "402:\tlearn: 0.4071429\ttotal: 6.71s\tremaining: 9.94s\n",
      "403:\tlearn: 0.4071267\ttotal: 6.73s\tremaining: 9.93s\n",
      "404:\tlearn: 0.4071142\ttotal: 6.75s\tremaining: 9.91s\n",
      "405:\tlearn: 0.4070812\ttotal: 6.76s\tremaining: 9.9s\n",
      "406:\tlearn: 0.4070692\ttotal: 6.78s\tremaining: 9.88s\n",
      "407:\tlearn: 0.4070577\ttotal: 6.8s\tremaining: 9.86s\n",
      "408:\tlearn: 0.4070238\ttotal: 6.82s\tremaining: 9.85s\n",
      "409:\tlearn: 0.4070039\ttotal: 6.83s\tremaining: 9.83s\n",
      "410:\tlearn: 0.4069922\ttotal: 6.85s\tremaining: 9.82s\n",
      "411:\tlearn: 0.4069780\ttotal: 6.87s\tremaining: 9.8s\n",
      "412:\tlearn: 0.4069668\ttotal: 6.88s\tremaining: 9.78s\n",
      "413:\tlearn: 0.4069438\ttotal: 6.9s\tremaining: 9.76s\n",
      "414:\tlearn: 0.4069159\ttotal: 6.92s\tremaining: 9.75s\n",
      "415:\tlearn: 0.4068910\ttotal: 6.94s\tremaining: 9.74s\n",
      "416:\tlearn: 0.4068630\ttotal: 6.96s\tremaining: 9.72s\n",
      "417:\tlearn: 0.4068525\ttotal: 6.97s\tremaining: 9.71s\n",
      "418:\tlearn: 0.4068245\ttotal: 6.99s\tremaining: 9.69s\n",
      "419:\tlearn: 0.4068120\ttotal: 7.01s\tremaining: 9.68s\n",
      "420:\tlearn: 0.4067933\ttotal: 7.02s\tremaining: 9.66s\n",
      "421:\tlearn: 0.4067702\ttotal: 7.04s\tremaining: 9.65s\n",
      "422:\tlearn: 0.4067454\ttotal: 7.06s\tremaining: 9.63s\n",
      "423:\tlearn: 0.4067205\ttotal: 7.08s\tremaining: 9.61s\n",
      "424:\tlearn: 0.4066999\ttotal: 7.09s\tremaining: 9.6s\n",
      "425:\tlearn: 0.4066838\ttotal: 7.11s\tremaining: 9.58s\n",
      "426:\tlearn: 0.4066653\ttotal: 7.13s\tremaining: 9.56s\n",
      "427:\tlearn: 0.4066462\ttotal: 7.14s\tremaining: 9.55s\n",
      "428:\tlearn: 0.4066354\ttotal: 7.16s\tremaining: 9.54s\n",
      "429:\tlearn: 0.4066208\ttotal: 7.19s\tremaining: 9.53s\n",
      "430:\tlearn: 0.4066132\ttotal: 7.21s\tremaining: 9.52s\n",
      "431:\tlearn: 0.4065957\ttotal: 7.24s\tremaining: 9.51s\n",
      "432:\tlearn: 0.4065888\ttotal: 7.26s\tremaining: 9.51s\n",
      "433:\tlearn: 0.4065789\ttotal: 7.28s\tremaining: 9.5s\n",
      "434:\tlearn: 0.4065546\ttotal: 7.3s\tremaining: 9.48s\n",
      "435:\tlearn: 0.4065048\ttotal: 7.32s\tremaining: 9.47s\n",
      "436:\tlearn: 0.4064883\ttotal: 7.34s\tremaining: 9.45s\n",
      "437:\tlearn: 0.4064745\ttotal: 7.36s\tremaining: 9.44s\n",
      "438:\tlearn: 0.4064628\ttotal: 7.38s\tremaining: 9.43s\n",
      "439:\tlearn: 0.4064398\ttotal: 7.41s\tremaining: 9.43s\n",
      "440:\tlearn: 0.4064315\ttotal: 7.43s\tremaining: 9.42s\n",
      "441:\tlearn: 0.4064153\ttotal: 7.45s\tremaining: 9.41s\n",
      "442:\tlearn: 0.4063989\ttotal: 7.47s\tremaining: 9.39s\n",
      "443:\tlearn: 0.4063736\ttotal: 7.49s\tremaining: 9.38s\n",
      "444:\tlearn: 0.4063619\ttotal: 7.5s\tremaining: 9.36s\n",
      "445:\tlearn: 0.4063484\ttotal: 7.52s\tremaining: 9.34s\n",
      "446:\tlearn: 0.4063416\ttotal: 7.55s\tremaining: 9.34s\n",
      "447:\tlearn: 0.4063165\ttotal: 7.59s\tremaining: 9.35s\n",
      "448:\tlearn: 0.4063062\ttotal: 7.62s\tremaining: 9.35s\n",
      "449:\tlearn: 0.4062941\ttotal: 7.64s\tremaining: 9.34s\n",
      "450:\tlearn: 0.4062769\ttotal: 7.67s\tremaining: 9.34s\n",
      "451:\tlearn: 0.4062558\ttotal: 7.69s\tremaining: 9.32s\n",
      "452:\tlearn: 0.4062296\ttotal: 7.71s\tremaining: 9.31s\n",
      "453:\tlearn: 0.4062098\ttotal: 7.74s\tremaining: 9.3s\n",
      "454:\tlearn: 0.4061296\ttotal: 7.76s\tremaining: 9.29s\n",
      "455:\tlearn: 0.4061015\ttotal: 7.78s\tremaining: 9.28s\n",
      "456:\tlearn: 0.4060840\ttotal: 7.8s\tremaining: 9.27s\n",
      "457:\tlearn: 0.4060618\ttotal: 7.82s\tremaining: 9.25s\n",
      "458:\tlearn: 0.4060331\ttotal: 7.84s\tremaining: 9.24s\n",
      "459:\tlearn: 0.4060208\ttotal: 7.86s\tremaining: 9.23s\n",
      "460:\tlearn: 0.4060059\ttotal: 7.88s\tremaining: 9.21s\n",
      "461:\tlearn: 0.4059825\ttotal: 7.9s\tremaining: 9.2s\n",
      "462:\tlearn: 0.4059642\ttotal: 7.93s\tremaining: 9.2s\n",
      "463:\tlearn: 0.4059518\ttotal: 7.96s\tremaining: 9.2s\n",
      "464:\tlearn: 0.4059315\ttotal: 7.98s\tremaining: 9.18s\n",
      "465:\tlearn: 0.4059202\ttotal: 8s\tremaining: 9.16s\n",
      "466:\tlearn: 0.4059054\ttotal: 8.01s\tremaining: 9.15s\n",
      "467:\tlearn: 0.4058965\ttotal: 8.03s\tremaining: 9.13s\n",
      "468:\tlearn: 0.4058858\ttotal: 8.05s\tremaining: 9.12s\n",
      "469:\tlearn: 0.4058665\ttotal: 8.07s\tremaining: 9.1s\n",
      "470:\tlearn: 0.4058494\ttotal: 8.1s\tremaining: 9.1s\n",
      "471:\tlearn: 0.4058276\ttotal: 8.13s\tremaining: 9.1s\n",
      "472:\tlearn: 0.4058140\ttotal: 8.16s\tremaining: 9.1s\n",
      "473:\tlearn: 0.4057896\ttotal: 8.2s\tremaining: 9.1s\n",
      "474:\tlearn: 0.4057806\ttotal: 8.23s\tremaining: 9.09s\n",
      "475:\tlearn: 0.4057670\ttotal: 8.26s\tremaining: 9.09s\n",
      "476:\tlearn: 0.4057510\ttotal: 8.28s\tremaining: 9.07s\n",
      "477:\tlearn: 0.4057270\ttotal: 8.29s\tremaining: 9.05s\n",
      "478:\tlearn: 0.4057102\ttotal: 8.31s\tremaining: 9.04s\n",
      "479:\tlearn: 0.4056930\ttotal: 8.32s\tremaining: 9.02s\n",
      "480:\tlearn: 0.4056695\ttotal: 8.34s\tremaining: 9s\n",
      "481:\tlearn: 0.4056495\ttotal: 8.36s\tremaining: 8.98s\n",
      "482:\tlearn: 0.4056277\ttotal: 8.37s\tremaining: 8.96s\n",
      "483:\tlearn: 0.4056141\ttotal: 8.39s\tremaining: 8.94s\n",
      "484:\tlearn: 0.4055952\ttotal: 8.43s\tremaining: 8.95s\n",
      "485:\tlearn: 0.4055792\ttotal: 8.46s\tremaining: 8.95s\n",
      "486:\tlearn: 0.4055649\ttotal: 8.48s\tremaining: 8.93s\n",
      "487:\tlearn: 0.4055417\ttotal: 8.49s\tremaining: 8.91s\n",
      "488:\tlearn: 0.4055256\ttotal: 8.51s\tremaining: 8.89s\n",
      "489:\tlearn: 0.4055086\ttotal: 8.53s\tremaining: 8.88s\n",
      "490:\tlearn: 0.4054478\ttotal: 8.54s\tremaining: 8.86s\n",
      "491:\tlearn: 0.4054338\ttotal: 8.57s\tremaining: 8.85s\n",
      "492:\tlearn: 0.4054204\ttotal: 8.6s\tremaining: 8.85s\n",
      "493:\tlearn: 0.4054023\ttotal: 8.62s\tremaining: 8.83s\n",
      "494:\tlearn: 0.4053905\ttotal: 8.63s\tremaining: 8.81s\n",
      "495:\tlearn: 0.4053770\ttotal: 8.65s\tremaining: 8.79s\n",
      "496:\tlearn: 0.4053528\ttotal: 8.66s\tremaining: 8.77s\n"
     ]
    },
    {
     "name": "stdout",
     "output_type": "stream",
     "text": [
      "497:\tlearn: 0.4053318\ttotal: 8.69s\tremaining: 8.75s\n",
      "498:\tlearn: 0.4053016\ttotal: 8.7s\tremaining: 8.74s\n",
      "499:\tlearn: 0.4052769\ttotal: 8.72s\tremaining: 8.72s\n",
      "500:\tlearn: 0.4052643\ttotal: 8.74s\tremaining: 8.7s\n",
      "501:\tlearn: 0.4052558\ttotal: 8.75s\tremaining: 8.69s\n",
      "502:\tlearn: 0.4052386\ttotal: 8.77s\tremaining: 8.67s\n",
      "503:\tlearn: 0.4052282\ttotal: 8.79s\tremaining: 8.65s\n",
      "504:\tlearn: 0.4052103\ttotal: 8.8s\tremaining: 8.63s\n",
      "505:\tlearn: 0.4051909\ttotal: 8.81s\tremaining: 8.61s\n",
      "506:\tlearn: 0.4051674\ttotal: 8.83s\tremaining: 8.59s\n",
      "507:\tlearn: 0.4051542\ttotal: 8.85s\tremaining: 8.57s\n",
      "508:\tlearn: 0.4051322\ttotal: 8.86s\tremaining: 8.54s\n",
      "509:\tlearn: 0.4051066\ttotal: 8.87s\tremaining: 8.53s\n",
      "510:\tlearn: 0.4050814\ttotal: 8.9s\tremaining: 8.52s\n",
      "511:\tlearn: 0.4050652\ttotal: 8.92s\tremaining: 8.5s\n",
      "512:\tlearn: 0.4050535\ttotal: 8.93s\tremaining: 8.48s\n",
      "513:\tlearn: 0.4050446\ttotal: 8.95s\tremaining: 8.46s\n",
      "514:\tlearn: 0.4050308\ttotal: 8.96s\tremaining: 8.44s\n",
      "515:\tlearn: 0.4050165\ttotal: 8.98s\tremaining: 8.42s\n",
      "516:\tlearn: 0.4050032\ttotal: 8.99s\tremaining: 8.4s\n",
      "517:\tlearn: 0.4049846\ttotal: 9s\tremaining: 8.37s\n",
      "518:\tlearn: 0.4049643\ttotal: 9.01s\tremaining: 8.35s\n",
      "519:\tlearn: 0.4049458\ttotal: 9.02s\tremaining: 8.33s\n",
      "520:\tlearn: 0.4049378\ttotal: 9.03s\tremaining: 8.3s\n",
      "521:\tlearn: 0.4049222\ttotal: 9.04s\tremaining: 8.28s\n",
      "522:\tlearn: 0.4048929\ttotal: 9.05s\tremaining: 8.26s\n",
      "523:\tlearn: 0.4048770\ttotal: 9.06s\tremaining: 8.23s\n",
      "524:\tlearn: 0.4048539\ttotal: 9.07s\tremaining: 8.21s\n",
      "525:\tlearn: 0.4048390\ttotal: 9.09s\tremaining: 8.19s\n",
      "526:\tlearn: 0.4048128\ttotal: 9.1s\tremaining: 8.17s\n",
      "527:\tlearn: 0.4047891\ttotal: 9.11s\tremaining: 8.15s\n",
      "528:\tlearn: 0.4047768\ttotal: 9.13s\tremaining: 8.13s\n",
      "529:\tlearn: 0.4047519\ttotal: 9.14s\tremaining: 8.11s\n",
      "530:\tlearn: 0.4047344\ttotal: 9.15s\tremaining: 8.08s\n",
      "531:\tlearn: 0.4047110\ttotal: 9.16s\tremaining: 8.06s\n",
      "532:\tlearn: 0.4046974\ttotal: 9.17s\tremaining: 8.04s\n",
      "533:\tlearn: 0.4046665\ttotal: 9.18s\tremaining: 8.01s\n",
      "534:\tlearn: 0.4046536\ttotal: 9.19s\tremaining: 7.99s\n",
      "535:\tlearn: 0.4046478\ttotal: 9.2s\tremaining: 7.97s\n",
      "536:\tlearn: 0.4046273\ttotal: 9.21s\tremaining: 7.95s\n",
      "537:\tlearn: 0.4046067\ttotal: 9.22s\tremaining: 7.92s\n",
      "538:\tlearn: 0.4045906\ttotal: 9.24s\tremaining: 7.9s\n",
      "539:\tlearn: 0.4045806\ttotal: 9.25s\tremaining: 7.88s\n",
      "540:\tlearn: 0.4045630\ttotal: 9.26s\tremaining: 7.85s\n",
      "541:\tlearn: 0.4045394\ttotal: 9.27s\tremaining: 7.83s\n",
      "542:\tlearn: 0.4044992\ttotal: 9.28s\tremaining: 7.81s\n",
      "543:\tlearn: 0.4044849\ttotal: 9.29s\tremaining: 7.79s\n",
      "544:\tlearn: 0.4044688\ttotal: 9.3s\tremaining: 7.77s\n",
      "545:\tlearn: 0.4044514\ttotal: 9.32s\tremaining: 7.75s\n",
      "546:\tlearn: 0.4044286\ttotal: 9.33s\tremaining: 7.73s\n",
      "547:\tlearn: 0.4044012\ttotal: 9.34s\tremaining: 7.71s\n",
      "548:\tlearn: 0.4043763\ttotal: 9.36s\tremaining: 7.69s\n",
      "549:\tlearn: 0.4043640\ttotal: 9.37s\tremaining: 7.66s\n",
      "550:\tlearn: 0.4043459\ttotal: 9.38s\tremaining: 7.64s\n",
      "551:\tlearn: 0.4043113\ttotal: 9.39s\tremaining: 7.62s\n",
      "552:\tlearn: 0.4042819\ttotal: 9.4s\tremaining: 7.6s\n",
      "553:\tlearn: 0.4042709\ttotal: 9.41s\tremaining: 7.58s\n",
      "554:\tlearn: 0.4042463\ttotal: 9.42s\tremaining: 7.55s\n",
      "555:\tlearn: 0.4042390\ttotal: 9.43s\tremaining: 7.53s\n",
      "556:\tlearn: 0.4042210\ttotal: 9.45s\tremaining: 7.51s\n",
      "557:\tlearn: 0.4042036\ttotal: 9.46s\tremaining: 7.5s\n",
      "558:\tlearn: 0.4041907\ttotal: 9.48s\tremaining: 7.48s\n",
      "559:\tlearn: 0.4041554\ttotal: 9.49s\tremaining: 7.46s\n",
      "560:\tlearn: 0.4041391\ttotal: 9.51s\tremaining: 7.44s\n",
      "561:\tlearn: 0.4041141\ttotal: 9.52s\tremaining: 7.42s\n",
      "562:\tlearn: 0.4041031\ttotal: 9.54s\tremaining: 7.41s\n",
      "563:\tlearn: 0.4040810\ttotal: 9.55s\tremaining: 7.38s\n",
      "564:\tlearn: 0.4040580\ttotal: 9.56s\tremaining: 7.36s\n",
      "565:\tlearn: 0.4040359\ttotal: 9.57s\tremaining: 7.34s\n",
      "566:\tlearn: 0.4040256\ttotal: 9.59s\tremaining: 7.32s\n",
      "567:\tlearn: 0.4040111\ttotal: 9.6s\tremaining: 7.3s\n",
      "568:\tlearn: 0.4039937\ttotal: 9.61s\tremaining: 7.28s\n",
      "569:\tlearn: 0.4039734\ttotal: 9.62s\tremaining: 7.25s\n",
      "570:\tlearn: 0.4039614\ttotal: 9.63s\tremaining: 7.23s\n",
      "571:\tlearn: 0.4039486\ttotal: 9.64s\tremaining: 7.21s\n",
      "572:\tlearn: 0.4039260\ttotal: 9.65s\tremaining: 7.19s\n",
      "573:\tlearn: 0.4039089\ttotal: 9.66s\tremaining: 7.17s\n",
      "574:\tlearn: 0.4038875\ttotal: 9.67s\tremaining: 7.15s\n",
      "575:\tlearn: 0.4038748\ttotal: 9.68s\tremaining: 7.13s\n",
      "576:\tlearn: 0.4038566\ttotal: 9.69s\tremaining: 7.11s\n",
      "577:\tlearn: 0.4038417\ttotal: 9.7s\tremaining: 7.08s\n",
      "578:\tlearn: 0.4038203\ttotal: 9.72s\tremaining: 7.07s\n",
      "579:\tlearn: 0.4038077\ttotal: 9.73s\tremaining: 7.04s\n",
      "580:\tlearn: 0.4037947\ttotal: 9.74s\tremaining: 7.03s\n",
      "581:\tlearn: 0.4037783\ttotal: 9.76s\tremaining: 7.01s\n",
      "582:\tlearn: 0.4037545\ttotal: 9.77s\tremaining: 6.99s\n",
      "583:\tlearn: 0.4037423\ttotal: 9.78s\tremaining: 6.96s\n",
      "584:\tlearn: 0.4037260\ttotal: 9.79s\tremaining: 6.94s\n",
      "585:\tlearn: 0.4037133\ttotal: 9.8s\tremaining: 6.92s\n",
      "586:\tlearn: 0.4037060\ttotal: 9.81s\tremaining: 6.9s\n",
      "587:\tlearn: 0.4036910\ttotal: 9.82s\tremaining: 6.88s\n",
      "588:\tlearn: 0.4036826\ttotal: 9.83s\tremaining: 6.86s\n",
      "589:\tlearn: 0.4036716\ttotal: 9.84s\tremaining: 6.84s\n",
      "590:\tlearn: 0.4036421\ttotal: 9.85s\tremaining: 6.82s\n",
      "591:\tlearn: 0.4036237\ttotal: 9.86s\tremaining: 6.8s\n",
      "592:\tlearn: 0.4036133\ttotal: 9.87s\tremaining: 6.78s\n",
      "593:\tlearn: 0.4035940\ttotal: 9.88s\tremaining: 6.75s\n",
      "594:\tlearn: 0.4035393\ttotal: 9.89s\tremaining: 6.73s\n",
      "595:\tlearn: 0.4035239\ttotal: 9.9s\tremaining: 6.71s\n",
      "596:\tlearn: 0.4035097\ttotal: 9.92s\tremaining: 6.69s\n",
      "597:\tlearn: 0.4034966\ttotal: 9.93s\tremaining: 6.68s\n",
      "598:\tlearn: 0.4034714\ttotal: 9.95s\tremaining: 6.66s\n",
      "599:\tlearn: 0.4034557\ttotal: 9.96s\tremaining: 6.64s\n",
      "600:\tlearn: 0.4034405\ttotal: 9.97s\tremaining: 6.62s\n",
      "601:\tlearn: 0.4034289\ttotal: 9.99s\tremaining: 6.6s\n",
      "602:\tlearn: 0.4034198\ttotal: 10s\tremaining: 6.59s\n",
      "603:\tlearn: 0.4033973\ttotal: 10s\tremaining: 6.57s\n",
      "604:\tlearn: 0.4033772\ttotal: 10s\tremaining: 6.55s\n",
      "605:\tlearn: 0.4033705\ttotal: 10s\tremaining: 6.53s\n",
      "606:\tlearn: 0.4033575\ttotal: 10.1s\tremaining: 6.51s\n",
      "607:\tlearn: 0.4033431\ttotal: 10.1s\tremaining: 6.49s\n",
      "608:\tlearn: 0.4033116\ttotal: 10.1s\tremaining: 6.47s\n",
      "609:\tlearn: 0.4032984\ttotal: 10.1s\tremaining: 6.45s\n",
      "610:\tlearn: 0.4032841\ttotal: 10.1s\tremaining: 6.43s\n",
      "611:\tlearn: 0.4032661\ttotal: 10.1s\tremaining: 6.41s\n",
      "612:\tlearn: 0.4032506\ttotal: 10.1s\tremaining: 6.39s\n",
      "613:\tlearn: 0.4032406\ttotal: 10.1s\tremaining: 6.38s\n",
      "614:\tlearn: 0.4032270\ttotal: 10.2s\tremaining: 6.36s\n",
      "615:\tlearn: 0.4031989\ttotal: 10.2s\tremaining: 6.34s\n",
      "616:\tlearn: 0.4031828\ttotal: 10.2s\tremaining: 6.32s\n",
      "617:\tlearn: 0.4031650\ttotal: 10.2s\tremaining: 6.3s\n",
      "618:\tlearn: 0.4031374\ttotal: 10.2s\tremaining: 6.28s\n",
      "619:\tlearn: 0.4031144\ttotal: 10.2s\tremaining: 6.26s\n",
      "620:\tlearn: 0.4030987\ttotal: 10.2s\tremaining: 6.24s\n",
      "621:\tlearn: 0.4030873\ttotal: 10.2s\tremaining: 6.22s\n",
      "622:\tlearn: 0.4030753\ttotal: 10.3s\tremaining: 6.2s\n",
      "623:\tlearn: 0.4030696\ttotal: 10.3s\tremaining: 6.18s\n",
      "624:\tlearn: 0.4030589\ttotal: 10.3s\tremaining: 6.16s\n",
      "625:\tlearn: 0.4030327\ttotal: 10.3s\tremaining: 6.14s\n",
      "626:\tlearn: 0.4030153\ttotal: 10.3s\tremaining: 6.12s\n",
      "627:\tlearn: 0.4029993\ttotal: 10.3s\tremaining: 6.1s\n",
      "628:\tlearn: 0.4029885\ttotal: 10.3s\tremaining: 6.08s\n",
      "629:\tlearn: 0.4029694\ttotal: 10.3s\tremaining: 6.07s\n",
      "630:\tlearn: 0.4029576\ttotal: 10.3s\tremaining: 6.05s\n",
      "631:\tlearn: 0.4029316\ttotal: 10.4s\tremaining: 6.03s\n",
      "632:\tlearn: 0.4029054\ttotal: 10.4s\tremaining: 6.01s\n",
      "633:\tlearn: 0.4028908\ttotal: 10.4s\tremaining: 5.99s\n",
      "634:\tlearn: 0.4028796\ttotal: 10.4s\tremaining: 5.97s\n",
      "635:\tlearn: 0.4028720\ttotal: 10.4s\tremaining: 5.95s\n",
      "636:\tlearn: 0.4028548\ttotal: 10.4s\tremaining: 5.93s\n",
      "637:\tlearn: 0.4028282\ttotal: 10.4s\tremaining: 5.91s\n",
      "638:\tlearn: 0.4028003\ttotal: 10.4s\tremaining: 5.89s\n",
      "639:\tlearn: 0.4027871\ttotal: 10.4s\tremaining: 5.87s\n",
      "640:\tlearn: 0.4027735\ttotal: 10.4s\tremaining: 5.85s\n",
      "641:\tlearn: 0.4027604\ttotal: 10.5s\tremaining: 5.83s\n",
      "642:\tlearn: 0.4027426\ttotal: 10.5s\tremaining: 5.82s\n",
      "643:\tlearn: 0.4027295\ttotal: 10.5s\tremaining: 5.8s\n",
      "644:\tlearn: 0.4027108\ttotal: 10.5s\tremaining: 5.79s\n",
      "645:\tlearn: 0.4026924\ttotal: 10.5s\tremaining: 5.78s\n",
      "646:\tlearn: 0.4026765\ttotal: 10.6s\tremaining: 5.76s\n",
      "647:\tlearn: 0.4026645\ttotal: 10.6s\tremaining: 5.74s\n",
      "648:\tlearn: 0.4026415\ttotal: 10.6s\tremaining: 5.73s\n",
      "649:\tlearn: 0.4026206\ttotal: 10.6s\tremaining: 5.71s\n",
      "650:\tlearn: 0.4025957\ttotal: 10.6s\tremaining: 5.69s\n",
      "651:\tlearn: 0.4025845\ttotal: 10.6s\tremaining: 5.67s\n",
      "652:\tlearn: 0.4025716\ttotal: 10.6s\tremaining: 5.65s\n",
      "653:\tlearn: 0.4025585\ttotal: 10.6s\tremaining: 5.63s\n",
      "654:\tlearn: 0.4025440\ttotal: 10.7s\tremaining: 5.61s\n",
      "655:\tlearn: 0.4025290\ttotal: 10.7s\tremaining: 5.59s\n"
     ]
    },
    {
     "name": "stdout",
     "output_type": "stream",
     "text": [
      "656:\tlearn: 0.4025211\ttotal: 10.7s\tremaining: 5.58s\n",
      "657:\tlearn: 0.4024996\ttotal: 10.7s\tremaining: 5.56s\n",
      "658:\tlearn: 0.4024813\ttotal: 10.7s\tremaining: 5.54s\n",
      "659:\tlearn: 0.4024695\ttotal: 10.7s\tremaining: 5.53s\n",
      "660:\tlearn: 0.4024641\ttotal: 10.7s\tremaining: 5.51s\n",
      "661:\tlearn: 0.4024459\ttotal: 10.8s\tremaining: 5.49s\n",
      "662:\tlearn: 0.4024242\ttotal: 10.8s\tremaining: 5.47s\n",
      "663:\tlearn: 0.4024107\ttotal: 10.8s\tremaining: 5.45s\n",
      "664:\tlearn: 0.4024008\ttotal: 10.8s\tremaining: 5.43s\n",
      "665:\tlearn: 0.4023928\ttotal: 10.8s\tremaining: 5.42s\n",
      "666:\tlearn: 0.4023837\ttotal: 10.8s\tremaining: 5.39s\n",
      "667:\tlearn: 0.4023658\ttotal: 10.8s\tremaining: 5.38s\n",
      "668:\tlearn: 0.4023611\ttotal: 10.8s\tremaining: 5.36s\n",
      "669:\tlearn: 0.4023042\ttotal: 10.8s\tremaining: 5.34s\n",
      "670:\tlearn: 0.4022911\ttotal: 10.8s\tremaining: 5.32s\n",
      "671:\tlearn: 0.4022805\ttotal: 10.9s\tremaining: 5.3s\n",
      "672:\tlearn: 0.4022688\ttotal: 10.9s\tremaining: 5.28s\n",
      "673:\tlearn: 0.4022585\ttotal: 10.9s\tremaining: 5.26s\n",
      "674:\tlearn: 0.4022398\ttotal: 10.9s\tremaining: 5.25s\n",
      "675:\tlearn: 0.4022169\ttotal: 10.9s\tremaining: 5.23s\n",
      "676:\tlearn: 0.4021950\ttotal: 10.9s\tremaining: 5.21s\n",
      "677:\tlearn: 0.4021797\ttotal: 10.9s\tremaining: 5.19s\n",
      "678:\tlearn: 0.4021484\ttotal: 10.9s\tremaining: 5.17s\n",
      "679:\tlearn: 0.4021310\ttotal: 11s\tremaining: 5.16s\n",
      "680:\tlearn: 0.4021198\ttotal: 11s\tremaining: 5.14s\n",
      "681:\tlearn: 0.4021091\ttotal: 11s\tremaining: 5.12s\n",
      "682:\tlearn: 0.4020973\ttotal: 11s\tremaining: 5.1s\n",
      "683:\tlearn: 0.4020885\ttotal: 11s\tremaining: 5.08s\n",
      "684:\tlearn: 0.4020704\ttotal: 11s\tremaining: 5.06s\n",
      "685:\tlearn: 0.4020453\ttotal: 11s\tremaining: 5.04s\n",
      "686:\tlearn: 0.4020311\ttotal: 11s\tremaining: 5.03s\n",
      "687:\tlearn: 0.4020116\ttotal: 11.1s\tremaining: 5.01s\n",
      "688:\tlearn: 0.4019988\ttotal: 11.1s\tremaining: 5s\n",
      "689:\tlearn: 0.4019891\ttotal: 11.1s\tremaining: 4.98s\n",
      "690:\tlearn: 0.4019752\ttotal: 11.1s\tremaining: 4.96s\n",
      "691:\tlearn: 0.4019648\ttotal: 11.1s\tremaining: 4.95s\n",
      "692:\tlearn: 0.4019498\ttotal: 11.1s\tremaining: 4.93s\n",
      "693:\tlearn: 0.4019316\ttotal: 11.1s\tremaining: 4.91s\n",
      "694:\tlearn: 0.4019200\ttotal: 11.2s\tremaining: 4.89s\n",
      "695:\tlearn: 0.4018990\ttotal: 11.2s\tremaining: 4.88s\n",
      "696:\tlearn: 0.4018875\ttotal: 11.2s\tremaining: 4.86s\n",
      "697:\tlearn: 0.4018664\ttotal: 11.2s\tremaining: 4.84s\n",
      "698:\tlearn: 0.4018481\ttotal: 11.2s\tremaining: 4.82s\n",
      "699:\tlearn: 0.4018325\ttotal: 11.2s\tremaining: 4.8s\n",
      "700:\tlearn: 0.4018239\ttotal: 11.2s\tremaining: 4.78s\n",
      "701:\tlearn: 0.4018139\ttotal: 11.2s\tremaining: 4.77s\n",
      "702:\tlearn: 0.4018082\ttotal: 11.2s\tremaining: 4.75s\n",
      "703:\tlearn: 0.4018007\ttotal: 11.2s\tremaining: 4.73s\n",
      "704:\tlearn: 0.4017915\ttotal: 11.3s\tremaining: 4.71s\n",
      "705:\tlearn: 0.4017795\ttotal: 11.3s\tremaining: 4.69s\n",
      "706:\tlearn: 0.4017700\ttotal: 11.3s\tremaining: 4.67s\n",
      "707:\tlearn: 0.4017635\ttotal: 11.3s\tremaining: 4.66s\n",
      "708:\tlearn: 0.4017536\ttotal: 11.3s\tremaining: 4.64s\n",
      "709:\tlearn: 0.4017356\ttotal: 11.3s\tremaining: 4.62s\n",
      "710:\tlearn: 0.4017218\ttotal: 11.3s\tremaining: 4.61s\n",
      "711:\tlearn: 0.4016812\ttotal: 11.3s\tremaining: 4.59s\n",
      "712:\tlearn: 0.4016682\ttotal: 11.4s\tremaining: 4.57s\n",
      "713:\tlearn: 0.4016546\ttotal: 11.4s\tremaining: 4.55s\n",
      "714:\tlearn: 0.4016440\ttotal: 11.4s\tremaining: 4.53s\n",
      "715:\tlearn: 0.4016367\ttotal: 11.4s\tremaining: 4.52s\n",
      "716:\tlearn: 0.4016137\ttotal: 11.4s\tremaining: 4.5s\n",
      "717:\tlearn: 0.4016072\ttotal: 11.4s\tremaining: 4.48s\n",
      "718:\tlearn: 0.4015991\ttotal: 11.4s\tremaining: 4.46s\n",
      "719:\tlearn: 0.4015924\ttotal: 11.4s\tremaining: 4.44s\n",
      "720:\tlearn: 0.4015826\ttotal: 11.4s\tremaining: 4.43s\n",
      "721:\tlearn: 0.4015740\ttotal: 11.4s\tremaining: 4.41s\n",
      "722:\tlearn: 0.4015545\ttotal: 11.5s\tremaining: 4.39s\n",
      "723:\tlearn: 0.4015417\ttotal: 11.5s\tremaining: 4.37s\n",
      "724:\tlearn: 0.4015237\ttotal: 11.5s\tremaining: 4.36s\n",
      "725:\tlearn: 0.4015025\ttotal: 11.5s\tremaining: 4.34s\n",
      "726:\tlearn: 0.4014859\ttotal: 11.5s\tremaining: 4.32s\n",
      "727:\tlearn: 0.4014625\ttotal: 11.5s\tremaining: 4.3s\n",
      "728:\tlearn: 0.4014502\ttotal: 11.5s\tremaining: 4.29s\n",
      "729:\tlearn: 0.4014442\ttotal: 11.5s\tremaining: 4.27s\n",
      "730:\tlearn: 0.4014283\ttotal: 11.6s\tremaining: 4.25s\n",
      "731:\tlearn: 0.4014040\ttotal: 11.6s\tremaining: 4.24s\n",
      "732:\tlearn: 0.4013914\ttotal: 11.6s\tremaining: 4.22s\n",
      "733:\tlearn: 0.4013727\ttotal: 11.6s\tremaining: 4.21s\n",
      "734:\tlearn: 0.4013543\ttotal: 11.6s\tremaining: 4.19s\n",
      "735:\tlearn: 0.4013333\ttotal: 11.6s\tremaining: 4.17s\n",
      "736:\tlearn: 0.4013129\ttotal: 11.6s\tremaining: 4.15s\n",
      "737:\tlearn: 0.4012980\ttotal: 11.7s\tremaining: 4.14s\n",
      "738:\tlearn: 0.4012850\ttotal: 11.7s\tremaining: 4.12s\n",
      "739:\tlearn: 0.4012685\ttotal: 11.7s\tremaining: 4.1s\n",
      "740:\tlearn: 0.4012516\ttotal: 11.7s\tremaining: 4.08s\n",
      "741:\tlearn: 0.4012456\ttotal: 11.7s\tremaining: 4.07s\n",
      "742:\tlearn: 0.4012235\ttotal: 11.7s\tremaining: 4.05s\n",
      "743:\tlearn: 0.4012133\ttotal: 11.7s\tremaining: 4.03s\n",
      "744:\tlearn: 0.4011924\ttotal: 11.7s\tremaining: 4.02s\n",
      "745:\tlearn: 0.4011780\ttotal: 11.7s\tremaining: 4s\n",
      "746:\tlearn: 0.4011585\ttotal: 11.8s\tremaining: 3.98s\n",
      "747:\tlearn: 0.4011380\ttotal: 11.8s\tremaining: 3.97s\n",
      "748:\tlearn: 0.4011230\ttotal: 11.8s\tremaining: 3.95s\n",
      "749:\tlearn: 0.4011121\ttotal: 11.8s\tremaining: 3.93s\n",
      "750:\tlearn: 0.4010923\ttotal: 11.8s\tremaining: 3.91s\n",
      "751:\tlearn: 0.4010884\ttotal: 11.8s\tremaining: 3.9s\n",
      "752:\tlearn: 0.4010713\ttotal: 11.8s\tremaining: 3.88s\n",
      "753:\tlearn: 0.4010631\ttotal: 11.8s\tremaining: 3.86s\n",
      "754:\tlearn: 0.4010553\ttotal: 11.8s\tremaining: 3.84s\n",
      "755:\tlearn: 0.4010436\ttotal: 11.9s\tremaining: 3.83s\n",
      "756:\tlearn: 0.4010325\ttotal: 11.9s\tremaining: 3.81s\n",
      "757:\tlearn: 0.4010200\ttotal: 11.9s\tremaining: 3.79s\n",
      "758:\tlearn: 0.4010081\ttotal: 11.9s\tremaining: 3.77s\n",
      "759:\tlearn: 0.4009893\ttotal: 11.9s\tremaining: 3.76s\n",
      "760:\tlearn: 0.4009785\ttotal: 11.9s\tremaining: 3.74s\n",
      "761:\tlearn: 0.4009678\ttotal: 11.9s\tremaining: 3.72s\n",
      "762:\tlearn: 0.4009534\ttotal: 11.9s\tremaining: 3.71s\n",
      "763:\tlearn: 0.4009314\ttotal: 11.9s\tremaining: 3.69s\n",
      "764:\tlearn: 0.4009225\ttotal: 12s\tremaining: 3.67s\n",
      "765:\tlearn: 0.4009108\ttotal: 12s\tremaining: 3.66s\n",
      "766:\tlearn: 0.4009035\ttotal: 12s\tremaining: 3.64s\n",
      "767:\tlearn: 0.4008682\ttotal: 12s\tremaining: 3.62s\n",
      "768:\tlearn: 0.4008584\ttotal: 12s\tremaining: 3.6s\n",
      "769:\tlearn: 0.4008373\ttotal: 12s\tremaining: 3.59s\n",
      "770:\tlearn: 0.4008182\ttotal: 12s\tremaining: 3.57s\n",
      "771:\tlearn: 0.4008016\ttotal: 12s\tremaining: 3.55s\n",
      "772:\tlearn: 0.4007879\ttotal: 12s\tremaining: 3.54s\n",
      "773:\tlearn: 0.4007662\ttotal: 12.1s\tremaining: 3.52s\n",
      "774:\tlearn: 0.4007549\ttotal: 12.1s\tremaining: 3.5s\n",
      "775:\tlearn: 0.4007408\ttotal: 12.1s\tremaining: 3.49s\n",
      "776:\tlearn: 0.4007160\ttotal: 12.1s\tremaining: 3.47s\n",
      "777:\tlearn: 0.4007059\ttotal: 12.1s\tremaining: 3.46s\n",
      "778:\tlearn: 0.4006895\ttotal: 12.1s\tremaining: 3.44s\n",
      "779:\tlearn: 0.4006838\ttotal: 12.1s\tremaining: 3.42s\n",
      "780:\tlearn: 0.4006671\ttotal: 12.2s\tremaining: 3.41s\n",
      "781:\tlearn: 0.4006455\ttotal: 12.2s\tremaining: 3.39s\n",
      "782:\tlearn: 0.4006378\ttotal: 12.2s\tremaining: 3.37s\n",
      "783:\tlearn: 0.4006245\ttotal: 12.2s\tremaining: 3.36s\n",
      "784:\tlearn: 0.4006121\ttotal: 12.2s\tremaining: 3.34s\n",
      "785:\tlearn: 0.4005921\ttotal: 12.2s\tremaining: 3.32s\n",
      "786:\tlearn: 0.4005785\ttotal: 12.2s\tremaining: 3.31s\n",
      "787:\tlearn: 0.4005677\ttotal: 12.2s\tremaining: 3.29s\n",
      "788:\tlearn: 0.4005551\ttotal: 12.2s\tremaining: 3.27s\n",
      "789:\tlearn: 0.4005303\ttotal: 12.2s\tremaining: 3.25s\n",
      "790:\tlearn: 0.4005134\ttotal: 12.3s\tremaining: 3.24s\n",
      "791:\tlearn: 0.4005044\ttotal: 12.3s\tremaining: 3.22s\n",
      "792:\tlearn: 0.4004995\ttotal: 12.3s\tremaining: 3.2s\n",
      "793:\tlearn: 0.4004811\ttotal: 12.3s\tremaining: 3.19s\n",
      "794:\tlearn: 0.4004725\ttotal: 12.3s\tremaining: 3.17s\n",
      "795:\tlearn: 0.4004618\ttotal: 12.3s\tremaining: 3.15s\n",
      "796:\tlearn: 0.4004545\ttotal: 12.3s\tremaining: 3.14s\n",
      "797:\tlearn: 0.4004467\ttotal: 12.3s\tremaining: 3.12s\n",
      "798:\tlearn: 0.4004374\ttotal: 12.3s\tremaining: 3.11s\n",
      "799:\tlearn: 0.4004204\ttotal: 12.4s\tremaining: 3.09s\n",
      "800:\tlearn: 0.4004000\ttotal: 12.4s\tremaining: 3.07s\n",
      "801:\tlearn: 0.4003830\ttotal: 12.4s\tremaining: 3.06s\n",
      "802:\tlearn: 0.4003665\ttotal: 12.4s\tremaining: 3.04s\n",
      "803:\tlearn: 0.4003580\ttotal: 12.4s\tremaining: 3.02s\n",
      "804:\tlearn: 0.4003523\ttotal: 12.4s\tremaining: 3.01s\n",
      "805:\tlearn: 0.4003418\ttotal: 12.4s\tremaining: 2.99s\n",
      "806:\tlearn: 0.4003316\ttotal: 12.4s\tremaining: 2.97s\n",
      "807:\tlearn: 0.4003254\ttotal: 12.4s\tremaining: 2.96s\n",
      "808:\tlearn: 0.4003026\ttotal: 12.5s\tremaining: 2.94s\n",
      "809:\tlearn: 0.4002962\ttotal: 12.5s\tremaining: 2.92s\n",
      "810:\tlearn: 0.4002827\ttotal: 12.5s\tremaining: 2.91s\n",
      "811:\tlearn: 0.4002654\ttotal: 12.5s\tremaining: 2.89s\n",
      "812:\tlearn: 0.4002353\ttotal: 12.5s\tremaining: 2.88s\n",
      "813:\tlearn: 0.4002287\ttotal: 12.5s\tremaining: 2.86s\n",
      "814:\tlearn: 0.4002169\ttotal: 12.5s\tremaining: 2.84s\n",
      "815:\tlearn: 0.4002108\ttotal: 12.5s\tremaining: 2.83s\n",
      "816:\tlearn: 0.4001912\ttotal: 12.6s\tremaining: 2.81s\n",
      "817:\tlearn: 0.4001797\ttotal: 12.6s\tremaining: 2.8s\n",
      "818:\tlearn: 0.4001656\ttotal: 12.6s\tremaining: 2.78s\n",
      "819:\tlearn: 0.4001552\ttotal: 12.6s\tremaining: 2.77s\n",
      "820:\tlearn: 0.4001464\ttotal: 12.7s\tremaining: 2.76s\n",
      "821:\tlearn: 0.4001421\ttotal: 12.7s\tremaining: 2.75s\n"
     ]
    },
    {
     "name": "stdout",
     "output_type": "stream",
     "text": [
      "822:\tlearn: 0.4001308\ttotal: 12.7s\tremaining: 2.73s\n",
      "823:\tlearn: 0.4001173\ttotal: 12.7s\tremaining: 2.72s\n",
      "824:\tlearn: 0.4001079\ttotal: 12.8s\tremaining: 2.71s\n",
      "825:\tlearn: 0.4000927\ttotal: 12.8s\tremaining: 2.69s\n",
      "826:\tlearn: 0.4000827\ttotal: 12.8s\tremaining: 2.68s\n",
      "827:\tlearn: 0.4000673\ttotal: 12.8s\tremaining: 2.66s\n",
      "828:\tlearn: 0.4000564\ttotal: 12.8s\tremaining: 2.65s\n",
      "829:\tlearn: 0.4000450\ttotal: 12.8s\tremaining: 2.63s\n",
      "830:\tlearn: 0.4000292\ttotal: 12.9s\tremaining: 2.62s\n",
      "831:\tlearn: 0.3999975\ttotal: 12.9s\tremaining: 2.6s\n",
      "832:\tlearn: 0.3999893\ttotal: 12.9s\tremaining: 2.59s\n",
      "833:\tlearn: 0.3999678\ttotal: 12.9s\tremaining: 2.57s\n",
      "834:\tlearn: 0.3999588\ttotal: 12.9s\tremaining: 2.56s\n",
      "835:\tlearn: 0.3999366\ttotal: 13s\tremaining: 2.54s\n",
      "836:\tlearn: 0.3999279\ttotal: 13s\tremaining: 2.53s\n",
      "837:\tlearn: 0.3999129\ttotal: 13s\tremaining: 2.51s\n",
      "838:\tlearn: 0.3999027\ttotal: 13s\tremaining: 2.5s\n",
      "839:\tlearn: 0.3998985\ttotal: 13s\tremaining: 2.48s\n",
      "840:\tlearn: 0.3998917\ttotal: 13.1s\tremaining: 2.47s\n",
      "841:\tlearn: 0.3998809\ttotal: 13.1s\tremaining: 2.45s\n",
      "842:\tlearn: 0.3998730\ttotal: 13.1s\tremaining: 2.44s\n",
      "843:\tlearn: 0.3998611\ttotal: 13.1s\tremaining: 2.42s\n",
      "844:\tlearn: 0.3998383\ttotal: 13.1s\tremaining: 2.4s\n",
      "845:\tlearn: 0.3998317\ttotal: 13.1s\tremaining: 2.39s\n",
      "846:\tlearn: 0.3998144\ttotal: 13.1s\tremaining: 2.37s\n",
      "847:\tlearn: 0.3998004\ttotal: 13.1s\tremaining: 2.36s\n",
      "848:\tlearn: 0.3997889\ttotal: 13.2s\tremaining: 2.34s\n",
      "849:\tlearn: 0.3997658\ttotal: 13.2s\tremaining: 2.33s\n",
      "850:\tlearn: 0.3997423\ttotal: 13.2s\tremaining: 2.31s\n",
      "851:\tlearn: 0.3997335\ttotal: 13.2s\tremaining: 2.3s\n",
      "852:\tlearn: 0.3997110\ttotal: 13.2s\tremaining: 2.28s\n",
      "853:\tlearn: 0.3996975\ttotal: 13.3s\tremaining: 2.27s\n",
      "854:\tlearn: 0.3996878\ttotal: 13.3s\tremaining: 2.25s\n",
      "855:\tlearn: 0.3996699\ttotal: 13.3s\tremaining: 2.23s\n",
      "856:\tlearn: 0.3996495\ttotal: 13.3s\tremaining: 2.22s\n",
      "857:\tlearn: 0.3996338\ttotal: 13.3s\tremaining: 2.2s\n",
      "858:\tlearn: 0.3996259\ttotal: 13.3s\tremaining: 2.19s\n",
      "859:\tlearn: 0.3996144\ttotal: 13.3s\tremaining: 2.17s\n",
      "860:\tlearn: 0.3996053\ttotal: 13.4s\tremaining: 2.16s\n",
      "861:\tlearn: 0.3995946\ttotal: 13.4s\tremaining: 2.14s\n",
      "862:\tlearn: 0.3995747\ttotal: 13.4s\tremaining: 2.13s\n",
      "863:\tlearn: 0.3995630\ttotal: 13.4s\tremaining: 2.11s\n",
      "864:\tlearn: 0.3995494\ttotal: 13.4s\tremaining: 2.09s\n",
      "865:\tlearn: 0.3995343\ttotal: 13.4s\tremaining: 2.08s\n",
      "866:\tlearn: 0.3995220\ttotal: 13.4s\tremaining: 2.06s\n",
      "867:\tlearn: 0.3995029\ttotal: 13.5s\tremaining: 2.05s\n",
      "868:\tlearn: 0.3994924\ttotal: 13.5s\tremaining: 2.03s\n",
      "869:\tlearn: 0.3994813\ttotal: 13.5s\tremaining: 2.02s\n",
      "870:\tlearn: 0.3994749\ttotal: 13.5s\tremaining: 2s\n",
      "871:\tlearn: 0.3994592\ttotal: 13.5s\tremaining: 1.98s\n",
      "872:\tlearn: 0.3994459\ttotal: 13.5s\tremaining: 1.97s\n",
      "873:\tlearn: 0.3994338\ttotal: 13.5s\tremaining: 1.95s\n",
      "874:\tlearn: 0.3994263\ttotal: 13.6s\tremaining: 1.94s\n",
      "875:\tlearn: 0.3994171\ttotal: 13.6s\tremaining: 1.92s\n",
      "876:\tlearn: 0.3994087\ttotal: 13.6s\tremaining: 1.91s\n",
      "877:\tlearn: 0.3993915\ttotal: 13.6s\tremaining: 1.89s\n",
      "878:\tlearn: 0.3993770\ttotal: 13.6s\tremaining: 1.87s\n",
      "879:\tlearn: 0.3993601\ttotal: 13.6s\tremaining: 1.86s\n",
      "880:\tlearn: 0.3993501\ttotal: 13.6s\tremaining: 1.84s\n",
      "881:\tlearn: 0.3993357\ttotal: 13.7s\tremaining: 1.83s\n",
      "882:\tlearn: 0.3993253\ttotal: 13.7s\tremaining: 1.81s\n",
      "883:\tlearn: 0.3993085\ttotal: 13.7s\tremaining: 1.79s\n",
      "884:\tlearn: 0.3992891\ttotal: 13.7s\tremaining: 1.78s\n",
      "885:\tlearn: 0.3992723\ttotal: 13.7s\tremaining: 1.76s\n",
      "886:\tlearn: 0.3992579\ttotal: 13.7s\tremaining: 1.75s\n",
      "887:\tlearn: 0.3992500\ttotal: 13.7s\tremaining: 1.73s\n",
      "888:\tlearn: 0.3992424\ttotal: 13.7s\tremaining: 1.72s\n",
      "889:\tlearn: 0.3992339\ttotal: 13.8s\tremaining: 1.7s\n",
      "890:\tlearn: 0.3992167\ttotal: 13.8s\tremaining: 1.69s\n",
      "891:\tlearn: 0.3991793\ttotal: 13.8s\tremaining: 1.67s\n",
      "892:\tlearn: 0.3991459\ttotal: 13.8s\tremaining: 1.65s\n",
      "893:\tlearn: 0.3991390\ttotal: 13.8s\tremaining: 1.64s\n",
      "894:\tlearn: 0.3991267\ttotal: 13.8s\tremaining: 1.62s\n",
      "895:\tlearn: 0.3991047\ttotal: 13.8s\tremaining: 1.6s\n",
      "896:\tlearn: 0.3990967\ttotal: 13.8s\tremaining: 1.59s\n",
      "897:\tlearn: 0.3990797\ttotal: 13.8s\tremaining: 1.57s\n",
      "898:\tlearn: 0.3990739\ttotal: 13.9s\tremaining: 1.56s\n",
      "899:\tlearn: 0.3990480\ttotal: 13.9s\tremaining: 1.54s\n",
      "900:\tlearn: 0.3990313\ttotal: 13.9s\tremaining: 1.52s\n",
      "901:\tlearn: 0.3990194\ttotal: 13.9s\tremaining: 1.51s\n",
      "902:\tlearn: 0.3990073\ttotal: 13.9s\tremaining: 1.49s\n",
      "903:\tlearn: 0.3989901\ttotal: 13.9s\tremaining: 1.48s\n",
      "904:\tlearn: 0.3989760\ttotal: 13.9s\tremaining: 1.46s\n",
      "905:\tlearn: 0.3989638\ttotal: 13.9s\tremaining: 1.45s\n",
      "906:\tlearn: 0.3989523\ttotal: 13.9s\tremaining: 1.43s\n",
      "907:\tlearn: 0.3989417\ttotal: 14s\tremaining: 1.41s\n",
      "908:\tlearn: 0.3989331\ttotal: 14s\tremaining: 1.4s\n",
      "909:\tlearn: 0.3989209\ttotal: 14s\tremaining: 1.38s\n",
      "910:\tlearn: 0.3989126\ttotal: 14s\tremaining: 1.37s\n",
      "911:\tlearn: 0.3988964\ttotal: 14s\tremaining: 1.35s\n",
      "912:\tlearn: 0.3988850\ttotal: 14s\tremaining: 1.33s\n",
      "913:\tlearn: 0.3988605\ttotal: 14s\tremaining: 1.32s\n",
      "914:\tlearn: 0.3988460\ttotal: 14s\tremaining: 1.3s\n",
      "915:\tlearn: 0.3988355\ttotal: 14s\tremaining: 1.29s\n",
      "916:\tlearn: 0.3988187\ttotal: 14.1s\tremaining: 1.27s\n",
      "917:\tlearn: 0.3988063\ttotal: 14.1s\tremaining: 1.26s\n",
      "918:\tlearn: 0.3987901\ttotal: 14.1s\tremaining: 1.24s\n",
      "919:\tlearn: 0.3987782\ttotal: 14.1s\tremaining: 1.23s\n",
      "920:\tlearn: 0.3987623\ttotal: 14.1s\tremaining: 1.21s\n",
      "921:\tlearn: 0.3987452\ttotal: 14.1s\tremaining: 1.19s\n",
      "922:\tlearn: 0.3987328\ttotal: 14.1s\tremaining: 1.18s\n",
      "923:\tlearn: 0.3987198\ttotal: 14.1s\tremaining: 1.16s\n",
      "924:\tlearn: 0.3987084\ttotal: 14.2s\tremaining: 1.15s\n",
      "925:\tlearn: 0.3986969\ttotal: 14.2s\tremaining: 1.13s\n",
      "926:\tlearn: 0.3986732\ttotal: 14.2s\tremaining: 1.12s\n",
      "927:\tlearn: 0.3986669\ttotal: 14.2s\tremaining: 1.1s\n",
      "928:\tlearn: 0.3986596\ttotal: 14.2s\tremaining: 1.08s\n",
      "929:\tlearn: 0.3986444\ttotal: 14.2s\tremaining: 1.07s\n",
      "930:\tlearn: 0.3986210\ttotal: 14.2s\tremaining: 1.05s\n",
      "931:\tlearn: 0.3986064\ttotal: 14.2s\tremaining: 1.04s\n",
      "932:\tlearn: 0.3985958\ttotal: 14.3s\tremaining: 1.02s\n",
      "933:\tlearn: 0.3985772\ttotal: 14.3s\tremaining: 1.01s\n",
      "934:\tlearn: 0.3985598\ttotal: 14.3s\tremaining: 993ms\n",
      "935:\tlearn: 0.3985498\ttotal: 14.3s\tremaining: 977ms\n",
      "936:\tlearn: 0.3985354\ttotal: 14.3s\tremaining: 962ms\n",
      "937:\tlearn: 0.3985140\ttotal: 14.3s\tremaining: 946ms\n",
      "938:\tlearn: 0.3985056\ttotal: 14.3s\tremaining: 931ms\n",
      "939:\tlearn: 0.3984942\ttotal: 14.3s\tremaining: 915ms\n",
      "940:\tlearn: 0.3984746\ttotal: 14.4s\tremaining: 900ms\n",
      "941:\tlearn: 0.3984604\ttotal: 14.4s\tremaining: 885ms\n",
      "942:\tlearn: 0.3984434\ttotal: 14.4s\tremaining: 869ms\n",
      "943:\tlearn: 0.3984284\ttotal: 14.4s\tremaining: 854ms\n",
      "944:\tlearn: 0.3984124\ttotal: 14.4s\tremaining: 838ms\n",
      "945:\tlearn: 0.3983854\ttotal: 14.4s\tremaining: 823ms\n",
      "946:\tlearn: 0.3983741\ttotal: 14.4s\tremaining: 807ms\n",
      "947:\tlearn: 0.3983599\ttotal: 14.4s\tremaining: 792ms\n",
      "948:\tlearn: 0.3983439\ttotal: 14.4s\tremaining: 776ms\n",
      "949:\tlearn: 0.3983390\ttotal: 14.5s\tremaining: 761ms\n",
      "950:\tlearn: 0.3983286\ttotal: 14.5s\tremaining: 745ms\n",
      "951:\tlearn: 0.3983191\ttotal: 14.5s\tremaining: 730ms\n",
      "952:\tlearn: 0.3983001\ttotal: 14.5s\tremaining: 715ms\n",
      "953:\tlearn: 0.3982830\ttotal: 14.5s\tremaining: 699ms\n",
      "954:\tlearn: 0.3982790\ttotal: 14.5s\tremaining: 684ms\n",
      "955:\tlearn: 0.3982632\ttotal: 14.5s\tremaining: 668ms\n",
      "956:\tlearn: 0.3982565\ttotal: 14.5s\tremaining: 653ms\n",
      "957:\tlearn: 0.3982357\ttotal: 14.5s\tremaining: 638ms\n",
      "958:\tlearn: 0.3982226\ttotal: 14.6s\tremaining: 622ms\n",
      "959:\tlearn: 0.3982066\ttotal: 14.6s\tremaining: 607ms\n",
      "960:\tlearn: 0.3981735\ttotal: 14.6s\tremaining: 592ms\n",
      "961:\tlearn: 0.3981637\ttotal: 14.6s\tremaining: 576ms\n",
      "962:\tlearn: 0.3981486\ttotal: 14.6s\tremaining: 561ms\n",
      "963:\tlearn: 0.3981125\ttotal: 14.6s\tremaining: 546ms\n",
      "964:\tlearn: 0.3981014\ttotal: 14.6s\tremaining: 530ms\n",
      "965:\tlearn: 0.3980821\ttotal: 14.6s\tremaining: 515ms\n",
      "966:\tlearn: 0.3980736\ttotal: 14.6s\tremaining: 500ms\n",
      "967:\tlearn: 0.3980659\ttotal: 14.7s\tremaining: 485ms\n",
      "968:\tlearn: 0.3980560\ttotal: 14.7s\tremaining: 469ms\n",
      "969:\tlearn: 0.3980468\ttotal: 14.7s\tremaining: 454ms\n",
      "970:\tlearn: 0.3980375\ttotal: 14.7s\tremaining: 439ms\n",
      "971:\tlearn: 0.3980258\ttotal: 14.7s\tremaining: 424ms\n",
      "972:\tlearn: 0.3980146\ttotal: 14.7s\tremaining: 408ms\n",
      "973:\tlearn: 0.3980037\ttotal: 14.7s\tremaining: 393ms\n",
      "974:\tlearn: 0.3979906\ttotal: 14.8s\tremaining: 378ms\n",
      "975:\tlearn: 0.3979824\ttotal: 14.8s\tremaining: 363ms\n",
      "976:\tlearn: 0.3979756\ttotal: 14.8s\tremaining: 348ms\n",
      "977:\tlearn: 0.3979436\ttotal: 14.8s\tremaining: 333ms\n",
      "978:\tlearn: 0.3979311\ttotal: 14.8s\tremaining: 318ms\n",
      "979:\tlearn: 0.3979200\ttotal: 14.8s\tremaining: 302ms\n",
      "980:\tlearn: 0.3979016\ttotal: 14.8s\tremaining: 287ms\n",
      "981:\tlearn: 0.3978937\ttotal: 14.8s\tremaining: 272ms\n",
      "982:\tlearn: 0.3978790\ttotal: 14.8s\tremaining: 257ms\n",
      "983:\tlearn: 0.3978728\ttotal: 14.9s\tremaining: 242ms\n",
      "984:\tlearn: 0.3978647\ttotal: 14.9s\tremaining: 226ms\n",
      "985:\tlearn: 0.3978546\ttotal: 14.9s\tremaining: 211ms\n",
      "986:\tlearn: 0.3978428\ttotal: 14.9s\tremaining: 196ms\n",
      "987:\tlearn: 0.3978229\ttotal: 14.9s\tremaining: 181ms\n",
      "988:\tlearn: 0.3978070\ttotal: 14.9s\tremaining: 166ms\n",
      "989:\tlearn: 0.3978018\ttotal: 14.9s\tremaining: 151ms\n",
      "990:\tlearn: 0.3977921\ttotal: 14.9s\tremaining: 136ms\n"
     ]
    },
    {
     "name": "stdout",
     "output_type": "stream",
     "text": [
      "991:\tlearn: 0.3977808\ttotal: 14.9s\tremaining: 120ms\n",
      "992:\tlearn: 0.3977703\ttotal: 15s\tremaining: 105ms\n",
      "993:\tlearn: 0.3977611\ttotal: 15s\tremaining: 90.3ms\n",
      "994:\tlearn: 0.3977457\ttotal: 15s\tremaining: 75.3ms\n",
      "995:\tlearn: 0.3976695\ttotal: 15s\tremaining: 60.2ms\n",
      "996:\tlearn: 0.3976630\ttotal: 15s\tremaining: 45.1ms\n",
      "997:\tlearn: 0.3976542\ttotal: 15s\tremaining: 30.1ms\n",
      "998:\tlearn: 0.3976370\ttotal: 15s\tremaining: 15ms\n",
      "999:\tlearn: 0.3976260\ttotal: 15s\tremaining: 0us\n"
     ]
    }
   ],
   "source": [
    "model = CatBoostRegressor()\n",
    "model.fit(x_train_15, y_train_15)\n",
    "y_pred_15 = model.predict(x_test_15)"
   ]
  },
  {
   "cell_type": "code",
   "execution_count": 313,
   "id": "b5f99bb9",
   "metadata": {},
   "outputs": [
    {
     "name": "stdout",
     "output_type": "stream",
     "text": [
      "MSE for CatBoost 2015 is: 0.18529463983741537\n"
     ]
    }
   ],
   "source": [
    "mse = mean_squared_error(y_test_15, y_pred_15)\n",
    "print('MSE for CatBoost 2015 is: ' + str(mse))"
   ]
  },
  {
   "cell_type": "code",
   "execution_count": 314,
   "id": "28bac09d",
   "metadata": {},
   "outputs": [
    {
     "name": "stdout",
     "output_type": "stream",
     "text": [
      "RMSE for CatBoost 2015 is: 0.43045863893923114\n"
     ]
    }
   ],
   "source": [
    "rmse = mean_squared_error(y_test_15, y_pred_15, squared = False)\n",
    "print('RMSE for CatBoost 2015 is: ' + str(rmse))"
   ]
  },
  {
   "cell_type": "code",
   "execution_count": 315,
   "id": "32a750fd",
   "metadata": {},
   "outputs": [
    {
     "name": "stdout",
     "output_type": "stream",
     "text": [
      "Accuracy of properties at +- 10% of actual prices is 0.27137062830029846\n"
     ]
    }
   ],
   "source": [
    "acc = accuracy_threshold(y_test_15, y_pred_15, 0.1)\n",
    "print('Accuracy of properties at +- 10% of actual prices is ' + str(acc))"
   ]
  },
  {
   "cell_type": "code",
   "execution_count": 316,
   "id": "ea948ab7",
   "metadata": {},
   "outputs": [
    {
     "name": "stdout",
     "output_type": "stream",
     "text": [
      "Median Absolute Error:\n",
      "\n",
      "0.20994644779170282\n"
     ]
    }
   ],
   "source": [
    "median_se = np.square(np.subtract(y_test_15, y_pred_15)).median() \n",
    " \n",
    "med = math.sqrt(median_se)\n",
    "print(\"Median Absolute Error:\\n\")\n",
    "print(med)"
   ]
  },
  {
   "cell_type": "code",
   "execution_count": 317,
   "id": "ca5f2d12",
   "metadata": {},
   "outputs": [
    {
     "name": "stdout",
     "output_type": "stream",
     "text": [
      "MAPE for CatBoost 2015 is: 0.025239227216323223\n"
     ]
    }
   ],
   "source": [
    "mape = mean_absolute_percentage_error(y_test_15, y_pred_15)\n",
    "print(\"MAPE for CatBoost 2015 is: \" + str(mape))"
   ]
  },
  {
   "cell_type": "code",
   "execution_count": 318,
   "id": "ac561874",
   "metadata": {},
   "outputs": [],
   "source": [
    "cnames = ['Algorithm', 'Year', 'RMSE', 'MSE', 'MEDAE', 'Accuracy', 'MAPE']\n",
    "df40 = pd.DataFrame(columns = cnames)\n",
    "\n",
    "df40 = df40.append({'Algorithm': 'CatBoost',\n",
    "           'Year': 2015,\n",
    "           'RMSE': rmse,\n",
    "           'MSE': mse,\n",
    "           'MEDAE': med,\n",
    "           'Accuracy': acc,\n",
    "           'MAPE': mape         \n",
    "          }, ignore_index = True)"
   ]
  },
  {
   "cell_type": "markdown",
   "id": "137bb0ee",
   "metadata": {},
   "source": [
    "### BayesianRidge"
   ]
  },
  {
   "cell_type": "code",
   "execution_count": 319,
   "id": "6b33cabc",
   "metadata": {},
   "outputs": [
    {
     "name": "stdout",
     "output_type": "stream",
     "text": [
      "MSE for BayesianRidge 2015 is: 0.2864629347159965\n"
     ]
    }
   ],
   "source": [
    "clf = BayesianRidge()\n",
    "clf.fit(x_train_15, y_train_15)\n",
    "y_pred_15 = clf.predict(x_test_15)\n",
    "# Calculation of Mean Squared Error (MSE)\n",
    "mse = mean_squared_error(y_test_15, y_pred_15)\n",
    "print('MSE for BayesianRidge 2015 is: ' + str(mse))"
   ]
  },
  {
   "cell_type": "code",
   "execution_count": 320,
   "id": "1c4d3271",
   "metadata": {},
   "outputs": [
    {
     "name": "stdout",
     "output_type": "stream",
     "text": [
      "RMSE for BayesianRidge 2015 is: 0.535222322699639\n"
     ]
    }
   ],
   "source": [
    "rmse = mean_squared_error(y_test_15, y_pred_15, squared = False)\n",
    "print('RMSE for BayesianRidge 2015 is: ' + str(rmse))"
   ]
  },
  {
   "cell_type": "code",
   "execution_count": 321,
   "id": "2a0f6be2",
   "metadata": {},
   "outputs": [
    {
     "name": "stdout",
     "output_type": "stream",
     "text": [
      "Accuracy of properties at +- 10% of actual prices is 0.14322338715849087\n"
     ]
    }
   ],
   "source": [
    "acc = accuracy_threshold(y_test_15, y_pred_15, 0.1)\n",
    "print('Accuracy of properties at +- 10% of actual prices is ' + str(acc))"
   ]
  },
  {
   "cell_type": "code",
   "execution_count": 322,
   "id": "cbff11cf",
   "metadata": {},
   "outputs": [
    {
     "name": "stdout",
     "output_type": "stream",
     "text": [
      "Median Absolute Error:\n",
      "\n",
      "0.3329901981154107\n"
     ]
    }
   ],
   "source": [
    "median_se = np.square(np.subtract(y_test_15, y_pred_15)).median() \n",
    " \n",
    "med = math.sqrt(median_se)\n",
    "print(\"Median Absolute Error:\\n\")\n",
    "print(med)"
   ]
  },
  {
   "cell_type": "code",
   "execution_count": 323,
   "id": "cb476365",
   "metadata": {},
   "outputs": [
    {
     "name": "stdout",
     "output_type": "stream",
     "text": [
      "MAPE for BayesianRidge 2015 is: 0.034225956891930046\n"
     ]
    }
   ],
   "source": [
    "mape = mean_absolute_percentage_error(y_test_15, y_pred_15)\n",
    "print(\"MAPE for BayesianRidge 2015 is: \" + str(mape))"
   ]
  },
  {
   "cell_type": "code",
   "execution_count": 324,
   "id": "063d78b5",
   "metadata": {},
   "outputs": [],
   "source": [
    "cnames = ['Algorithm', 'Year', 'RMSE', 'MSE', 'MEDAE', 'Accuracy', 'MAPE']\n",
    "df41 = pd.DataFrame(columns = cnames)\n",
    "\n",
    "df41 = df41.append({'Algorithm': 'Bayesian',\n",
    "           'Year': 2015,\n",
    "           'RMSE': rmse,\n",
    "           'MSE': mse,\n",
    "           'MEDAE': med,\n",
    "           'Accuracy': acc,\n",
    "           'MAPE': mape         \n",
    "          }, ignore_index = True)"
   ]
  },
  {
   "cell_type": "code",
   "execution_count": 325,
   "id": "e004552a",
   "metadata": {},
   "outputs": [],
   "source": [
    "vis1 = pd.concat([df12, df13, df14, df15, df16, df17, df18, df19, df20, df21, df22, df23,\n",
    "                df24, df25, df26, df27, df28, df29, df30, df31, df32, df33, df34, df35,\n",
    "                df36, df37, df38, df39, df40, df41], ignore_index=True)"
   ]
  },
  {
   "cell_type": "code",
   "execution_count": 326,
   "id": "6d8c9d08",
   "metadata": {},
   "outputs": [],
   "source": [
    "vis2 = pd.concat([vis, vis1], ignore_index=True)"
   ]
  },
  {
   "cell_type": "markdown",
   "id": "ad20c8a7",
   "metadata": {},
   "source": [
    "## Let's Visualize all our results "
   ]
  },
  {
   "cell_type": "code",
   "execution_count": 327,
   "id": "7c3e9111",
   "metadata": {},
   "outputs": [
    {
     "data": {
      "text/plain": [
       "<AxesSubplot:title={'center':'Sum RMSE Values 2015-21 Predictions'}, xlabel='Algorithm', ylabel='Sum RMSE'>"
      ]
     },
     "execution_count": 327,
     "metadata": {},
     "output_type": "execute_result"
    },
    {
     "data": {
      "image/png": "[encoded data removed]",
      "text/plain": [
       "<Figure size 1296x432 with 1 Axes>"
      ]
     },
     "metadata": {
      "needs_background": "light"
     },
     "output_type": "display_data"
    }
   ],
   "source": [
    "# rmse results\n",
    "grouped_multiple1 = vis2.groupby(['Algorithm']).agg({'RMSE': ['mean', 'median', 'max', 'sum']})\n",
    "grouped_multiple1.columns = ['mean','median','max','sum']\n",
    "grouped_multiple1.reset_index(inplace = True)\n",
    "distdf = grouped_multiple1.sort_values(by = ['sum'], ascending = False).head(15)\n",
    "distdf.plot.bar(x = 'Algorithm', y = 'sum', rot = 40, figsize = (18, 6), color = 'goldenrod', xlabel = 'Algorithm', ylabel = 'Sum RMSE', title = 'Sum RMSE Values 2015-21 Predictions')"
   ]
  },
  {
   "cell_type": "code",
   "execution_count": 328,
   "id": "9f8b253a",
   "metadata": {},
   "outputs": [
    {
     "data": {
      "text/plain": [
       "<AxesSubplot:title={'center':'Sum MEDAE Values 2015-21 Predictions'}, xlabel='Algorithm', ylabel='Sum MEDAE'>"
      ]
     },
     "execution_count": 328,
     "metadata": {},
     "output_type": "execute_result"
    },
    {
     "data": {
      "image/png": "[encoded data removed]",
      "text/plain": [
       "<Figure size 1296x432 with 1 Axes>"
      ]
     },
     "metadata": {
      "needs_background": "light"
     },
     "output_type": "display_data"
    }
   ],
   "source": [
    "# median results\n",
    "grouped_multiple2 = vis2.groupby(['Algorithm']).agg({'MEDAE': ['mean', 'median', 'max', 'sum']})\n",
    "grouped_multiple2.columns = ['mean','median','max','sum']\n",
    "grouped_multiple2.reset_index(inplace = True)\n",
    "distdf = grouped_multiple2.sort_values(by = ['sum'], ascending = False).head(15)\n",
    "distdf.plot.bar(x = 'Algorithm', y = 'sum', rot = 40, figsize = (18, 6), color = 'peru', xlabel = 'Algorithm', ylabel = 'Sum MEDAE', title = 'Sum MEDAE Values 2015-21 Predictions')"
   ]
  },
  {
   "cell_type": "code",
   "execution_count": 329,
   "id": "e733b52c",
   "metadata": {},
   "outputs": [
    {
     "data": {
      "text/plain": [
       "<AxesSubplot:title={'center':'Mean Accuracy Values 2015-21 Predictions'}, xlabel='Algorithm', ylabel='Average Accuracy'>"
      ]
     },
     "execution_count": 329,
     "metadata": {},
     "output_type": "execute_result"
    },
    {
     "data": {
      "image/png": "[encoded data removed]",
      "text/plain": [
       "<Figure size 1296x432 with 1 Axes>"
      ]
     },
     "metadata": {
      "needs_background": "light"
     },
     "output_type": "display_data"
    }
   ],
   "source": [
    "grouped_multiple3 = vis2.groupby(['Algorithm']).agg({'Accuracy': ['mean', 'median', 'max', 'sum']})\n",
    "grouped_multiple3.columns = ['mean','median','max','sum']\n",
    "grouped_multiple3.reset_index(inplace = True)\n",
    "distdf = grouped_multiple3.sort_values(by = ['mean'], ascending = False).head(15)\n",
    "distdf.plot.bar(x = 'Algorithm', y = 'mean', rot = 40, figsize=(18, 6), color = 'midnightblue', xlabel = 'Algorithm', ylabel = 'Average Accuracy', title = 'Mean Accuracy Values 2015-21 Predictions')"
   ]
  },
  {
   "cell_type": "code",
   "execution_count": 330,
   "id": "74541158",
   "metadata": {},
   "outputs": [
    {
     "data": {
      "text/plain": [
       "<AxesSubplot:title={'center':'Sum MSE Values 2015-21 Predictions'}, xlabel='Algorithm', ylabel='Sum MSE'>"
      ]
     },
     "execution_count": 330,
     "metadata": {},
     "output_type": "execute_result"
    },
    {
     "data": {
      "image/png": "[encoded data removed]",
      "text/plain": [
       "<Figure size 1296x432 with 1 Axes>"
      ]
     },
     "metadata": {
      "needs_background": "light"
     },
     "output_type": "display_data"
    }
   ],
   "source": [
    "# mse results\n",
    "grouped_multiple4 = vis2.groupby(['Algorithm']).agg({'MSE': ['mean', 'median', 'max', 'sum']})\n",
    "grouped_multiple4.columns = ['mean','median','max','sum']\n",
    "grouped_multiple4.reset_index(inplace = True)\n",
    "distdf = grouped_multiple4.sort_values(by = ['sum'], ascending = False).head(15)\n",
    "distdf.plot.bar(x = 'Algorithm', y = 'sum', rot = 40, figsize = (18, 6), color = 'forestgreen', xlabel = 'Algorithm', ylabel = 'Sum MSE', title = 'Sum MSE Values 2015-21 Predictions')"
   ]
  },
  {
   "cell_type": "code",
   "execution_count": 331,
   "id": "d2343c63",
   "metadata": {},
   "outputs": [
    {
     "data": {
      "text/plain": [
       "<AxesSubplot:title={'center':'Mean MAPE Values 2015-21 Predictions'}, xlabel='Algorithm', ylabel='Mean MAPE'>"
      ]
     },
     "execution_count": 331,
     "metadata": {},
     "output_type": "execute_result"
    },
    {
     "data": {
      "image/png": "[encoded data removed]",
      "text/plain": [
       "<Figure size 1296x432 with 1 Axes>"
      ]
     },
     "metadata": {
      "needs_background": "light"
     },
     "output_type": "display_data"
    }
   ],
   "source": [
    "# mape results\n",
    "grouped_multiple5 = vis2.groupby(['Algorithm']).agg({'MAPE': ['mean', 'median', 'max', 'sum']})\n",
    "grouped_multiple5.columns = ['mean','median','max','sum']\n",
    "grouped_multiple5.reset_index(inplace = True)\n",
    "distdf = grouped_multiple5.sort_values(by = ['mean'], ascending = False).head(15)\n",
    "distdf.plot.bar(x = 'Algorithm', y = 'mean', rot = 40, figsize = (18, 6), color = 'seagreen', xlabel = 'Algorithm', ylabel = 'Mean MAPE', title = 'Mean MAPE Values 2015-21 Predictions')"
   ]
  },
  {
   "cell_type": "code",
   "execution_count": 332,
   "id": "21ff7269",
   "metadata": {},
   "outputs": [
    {
     "data": {
      "text/html": [
       "<div>\n",
       "<style scoped>\n",
       "    .dataframe tbody tr th:only-of-type {\n",
       "        vertical-align: middle;\n",
       "    }\n",
       "\n",
       "    .dataframe tbody tr th {\n",
       "        vertical-align: top;\n",
       "    }\n",
       "\n",
       "    .dataframe thead th {\n",
       "        text-align: right;\n",
       "    }\n",
       "</style>\n",
       "<table border=\"1\" class=\"dataframe\">\n",
       "  <thead>\n",
       "    <tr style=\"text-align: right;\">\n",
       "      <th></th>\n",
       "      <th>Algorithm</th>\n",
       "      <th>mean</th>\n",
       "      <th>median</th>\n",
       "      <th>max</th>\n",
       "      <th>sum</th>\n",
       "    </tr>\n",
       "  </thead>\n",
       "  <tbody>\n",
       "    <tr>\n",
       "      <th>0</th>\n",
       "      <td>AdaBoost</td>\n",
       "      <td>0.135510</td>\n",
       "      <td>0.143334</td>\n",
       "      <td>0.161437</td>\n",
       "      <td>0.948573</td>\n",
       "    </tr>\n",
       "    <tr>\n",
       "      <th>1</th>\n",
       "      <td>AutoML</td>\n",
       "      <td>0.315457</td>\n",
       "      <td>0.327729</td>\n",
       "      <td>0.341072</td>\n",
       "      <td>2.208198</td>\n",
       "    </tr>\n",
       "    <tr>\n",
       "      <th>2</th>\n",
       "      <td>Bayesian</td>\n",
       "      <td>0.196253</td>\n",
       "      <td>0.210073</td>\n",
       "      <td>0.249089</td>\n",
       "      <td>1.373772</td>\n",
       "    </tr>\n",
       "    <tr>\n",
       "      <th>3</th>\n",
       "      <td>CatBoost</td>\n",
       "      <td>0.316106</td>\n",
       "      <td>0.325497</td>\n",
       "      <td>0.341647</td>\n",
       "      <td>2.212744</td>\n",
       "    </tr>\n",
       "    <tr>\n",
       "      <th>4</th>\n",
       "      <td>LightGBM</td>\n",
       "      <td>0.315215</td>\n",
       "      <td>0.326253</td>\n",
       "      <td>0.340400</td>\n",
       "      <td>2.206508</td>\n",
       "    </tr>\n",
       "    <tr>\n",
       "      <th>5</th>\n",
       "      <td>MLR</td>\n",
       "      <td>0.196283</td>\n",
       "      <td>0.210073</td>\n",
       "      <td>0.249089</td>\n",
       "      <td>1.373982</td>\n",
       "    </tr>\n",
       "  </tbody>\n",
       "</table>\n",
       "</div>"
      ],
      "text/plain": [
       "  Algorithm      mean    median       max       sum\n",
       "0  AdaBoost  0.135510  0.143334  0.161437  0.948573\n",
       "1    AutoML  0.315457  0.327729  0.341072  2.208198\n",
       "2  Bayesian  0.196253  0.210073  0.249089  1.373772\n",
       "3  CatBoost  0.316106  0.325497  0.341647  2.212744\n",
       "4  LightGBM  0.315215  0.326253  0.340400  2.206508\n",
       "5       MLR  0.196283  0.210073  0.249089  1.373982"
      ]
     },
     "execution_count": 332,
     "metadata": {},
     "output_type": "execute_result"
    }
   ],
   "source": [
    "grouped_multiple3"
   ]
  },
  {
   "cell_type": "markdown",
   "id": "048435dd",
   "metadata": {},
   "source": [
    "### Notes\n",
    "- Eircodes don't seem to improve the model in any significant manner.\n",
    "- Results around the 31.5% accuracy mark."
   ]
  }
 ],
 "metadata": {
  "kernelspec": {
   "display_name": "Python 3 (ipykernel)",
   "language": "python",
   "name": "python3"
  },
  "language_info": {
   "codemirror_mode": {
    "name": "ipython",
    "version": 3
   },
   "file_extension": ".py",
   "mimetype": "text/x-python",
   "name": "python",
   "nbconvert_exporter": "python",
   "pygments_lexer": "ipython3",
   "version": "3.8.12"
  }
 },
 "nbformat": 4,
 "nbformat_minor": 5
}
