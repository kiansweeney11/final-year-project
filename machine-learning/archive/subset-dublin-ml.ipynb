{
 "cells": [
  {
   "cell_type": "code",
   "execution_count": 1,
   "id": "5342e164",
   "metadata": {},
   "outputs": [
    {
     "name": "stdout",
     "output_type": "stream",
     "text": [
      "Imported sci-kit learn and AutoML libraries!\n"
     ]
    }
   ],
   "source": [
    "import pandas as pd\n",
    "import numpy as np\n",
    "from sklearn.datasets import make_classification\n",
    "from sklearn.model_selection import train_test_split\n",
    "import os\n",
    "from supervised.automl import AutoML\n",
    "import category_encoders as ce\n",
    "import math\n",
    "\n",
    "# visualization\n",
    "import seaborn as sns\n",
    "import matplotlib.pyplot as plt\n",
    "\n",
    "from sklearn.metrics import accuracy_score\n",
    "from sklearn.metrics import mean_squared_error\n",
    "from sklearn.model_selection import train_test_split\n",
    "from sklearn.model_selection import cross_val_score, GridSearchCV\n",
    "from sklearn.linear_model import LogisticRegression\n",
    "from sklearn.tree import DecisionTreeClassifier\n",
    "from sklearn.ensemble import RandomForestClassifier\n",
    "from category_encoders import TargetEncoder\n",
    "from sklearn.metrics import median_absolute_error\n",
    "print('Imported sci-kit learn and AutoML libraries!')"
   ]
  },
  {
   "cell_type": "markdown",
   "id": "c2930a18",
   "metadata": {},
   "source": [
    "# Dublin Prediction"
   ]
  },
  {
   "cell_type": "code",
   "execution_count": 2,
   "id": "fa05a057",
   "metadata": {},
   "outputs": [],
   "source": [
    "# new file containing rows with our focused area of Dublin found through exploratory analysis\n",
    "irl = pd.read_csv('initial-ml-test-dub-1.csv', index_col='Unnamed: 0')"
   ]
  },
  {
   "cell_type": "code",
   "execution_count": 3,
   "id": "c8559e63",
   "metadata": {},
   "outputs": [
    {
     "data": {
      "text/html": [
       "<div>\n",
       "<style scoped>\n",
       "    .dataframe tbody tr th:only-of-type {\n",
       "        vertical-align: middle;\n",
       "    }\n",
       "\n",
       "    .dataframe tbody tr th {\n",
       "        vertical-align: top;\n",
       "    }\n",
       "\n",
       "    .dataframe thead th {\n",
       "        text-align: right;\n",
       "    }\n",
       "</style>\n",
       "<table border=\"1\" class=\"dataframe\">\n",
       "  <thead>\n",
       "    <tr style=\"text-align: right;\">\n",
       "      <th></th>\n",
       "      <th>Address</th>\n",
       "      <th>County</th>\n",
       "      <th>Price (€)</th>\n",
       "      <th>VAT Exclusive</th>\n",
       "      <th>UsedProperty</th>\n",
       "      <th>Property Size Description</th>\n",
       "      <th>Year</th>\n",
       "      <th>Month</th>\n",
       "      <th>Town</th>\n",
       "      <th>Apartment</th>\n",
       "      <th>...</th>\n",
       "      <th>DistanceIFSC</th>\n",
       "      <th>DistanceSchool</th>\n",
       "      <th>DistancePark</th>\n",
       "      <th>DistanceLuas</th>\n",
       "      <th>DistanceSecSchool</th>\n",
       "      <th>DistanceGPO</th>\n",
       "      <th>DistanceHospital</th>\n",
       "      <th>DistanceBeach</th>\n",
       "      <th>DistanceCar</th>\n",
       "      <th>DistanceShops</th>\n",
       "    </tr>\n",
       "  </thead>\n",
       "  <tbody>\n",
       "    <tr>\n",
       "      <th>207901</th>\n",
       "      <td>55 College Square, Terenure</td>\n",
       "      <td>Dublin</td>\n",
       "      <td>447200.00</td>\n",
       "      <td>0</td>\n",
       "      <td>0</td>\n",
       "      <td>1</td>\n",
       "      <td>2014</td>\n",
       "      <td>1</td>\n",
       "      <td>Terenure</td>\n",
       "      <td>0</td>\n",
       "      <td>...</td>\n",
       "      <td>7.541595</td>\n",
       "      <td>0.492120</td>\n",
       "      <td>1.438826</td>\n",
       "      <td>2.020029</td>\n",
       "      <td>0.156609</td>\n",
       "      <td>6.587209</td>\n",
       "      <td>2.344404</td>\n",
       "      <td>18.071721</td>\n",
       "      <td>5.427900</td>\n",
       "      <td>3.568079</td>\n",
       "    </tr>\n",
       "    <tr>\n",
       "      <th>207905</th>\n",
       "      <td>Number 7 Belfort House, Sydenham Villas, Dundrum</td>\n",
       "      <td>Dublin</td>\n",
       "      <td>398000.00</td>\n",
       "      <td>1</td>\n",
       "      <td>1</td>\n",
       "      <td>0</td>\n",
       "      <td>2014</td>\n",
       "      <td>1</td>\n",
       "      <td>Dundrum Dublin</td>\n",
       "      <td>0</td>\n",
       "      <td>...</td>\n",
       "      <td>6.817210</td>\n",
       "      <td>0.100996</td>\n",
       "      <td>2.784711</td>\n",
       "      <td>0.274841</td>\n",
       "      <td>0.831639</td>\n",
       "      <td>7.118560</td>\n",
       "      <td>3.635958</td>\n",
       "      <td>14.874822</td>\n",
       "      <td>5.905557</td>\n",
       "      <td>0.255856</td>\n",
       "    </tr>\n",
       "    <tr>\n",
       "      <th>207916</th>\n",
       "      <td>Apartment 16 Cedar Grove, Firhouse Road, Templ...</td>\n",
       "      <td>Dublin</td>\n",
       "      <td>196035.24</td>\n",
       "      <td>0</td>\n",
       "      <td>0</td>\n",
       "      <td>1</td>\n",
       "      <td>2014</td>\n",
       "      <td>1</td>\n",
       "      <td>Templeogue</td>\n",
       "      <td>1</td>\n",
       "      <td>...</td>\n",
       "      <td>7.799393</td>\n",
       "      <td>0.683556</td>\n",
       "      <td>3.098765</td>\n",
       "      <td>3.760897</td>\n",
       "      <td>0.968202</td>\n",
       "      <td>7.197697</td>\n",
       "      <td>3.879724</td>\n",
       "      <td>17.923987</td>\n",
       "      <td>6.179356</td>\n",
       "      <td>3.002563</td>\n",
       "    </tr>\n",
       "    <tr>\n",
       "      <th>207925</th>\n",
       "      <td>75 Palmerstown Avenue, Palmerstown</td>\n",
       "      <td>Dublin</td>\n",
       "      <td>95000.00</td>\n",
       "      <td>1</td>\n",
       "      <td>1</td>\n",
       "      <td>1</td>\n",
       "      <td>2014</td>\n",
       "      <td>1</td>\n",
       "      <td>Palmerstown</td>\n",
       "      <td>0</td>\n",
       "      <td>...</td>\n",
       "      <td>8.400802</td>\n",
       "      <td>0.319564</td>\n",
       "      <td>1.909348</td>\n",
       "      <td>3.576775</td>\n",
       "      <td>0.262801</td>\n",
       "      <td>7.051363</td>\n",
       "      <td>3.811554</td>\n",
       "      <td>18.189754</td>\n",
       "      <td>6.208934</td>\n",
       "      <td>1.206681</td>\n",
       "    </tr>\n",
       "    <tr>\n",
       "      <th>207929</th>\n",
       "      <td>17 Churchview Apts, Church Rd, Drumcondra</td>\n",
       "      <td>Dublin</td>\n",
       "      <td>152000.00</td>\n",
       "      <td>1</td>\n",
       "      <td>1</td>\n",
       "      <td>2</td>\n",
       "      <td>2014</td>\n",
       "      <td>1</td>\n",
       "      <td>Drumcondra</td>\n",
       "      <td>1</td>\n",
       "      <td>...</td>\n",
       "      <td>2.225835</td>\n",
       "      <td>0.085034</td>\n",
       "      <td>0.909828</td>\n",
       "      <td>1.942439</td>\n",
       "      <td>0.597393</td>\n",
       "      <td>1.805008</td>\n",
       "      <td>0.902578</td>\n",
       "      <td>10.897507</td>\n",
       "      <td>1.587952</td>\n",
       "      <td>1.815296</td>\n",
       "    </tr>\n",
       "  </tbody>\n",
       "</table>\n",
       "<p>5 rows × 25 columns</p>\n",
       "</div>"
      ],
      "text/plain": [
       "                                                  Address  County  Price (€)  \\\n",
       "207901                        55 College Square, Terenure  Dublin  447200.00   \n",
       "207905   Number 7 Belfort House, Sydenham Villas, Dundrum  Dublin  398000.00   \n",
       "207916  Apartment 16 Cedar Grove, Firhouse Road, Templ...  Dublin  196035.24   \n",
       "207925                 75 Palmerstown Avenue, Palmerstown  Dublin   95000.00   \n",
       "207929          17 Churchview Apts, Church Rd, Drumcondra  Dublin  152000.00   \n",
       "\n",
       "        VAT Exclusive  UsedProperty  Property Size Description  Year  Month  \\\n",
       "207901              0             0                          1  2014      1   \n",
       "207905              1             1                          0  2014      1   \n",
       "207916              0             0                          1  2014      1   \n",
       "207925              1             1                          1  2014      1   \n",
       "207929              1             1                          2  2014      1   \n",
       "\n",
       "                  Town  Apartment  ... DistanceIFSC  DistanceSchool  \\\n",
       "207901        Terenure          0  ...     7.541595        0.492120   \n",
       "207905  Dundrum Dublin          0  ...     6.817210        0.100996   \n",
       "207916      Templeogue          1  ...     7.799393        0.683556   \n",
       "207925     Palmerstown          0  ...     8.400802        0.319564   \n",
       "207929      Drumcondra          1  ...     2.225835        0.085034   \n",
       "\n",
       "       DistancePark  DistanceLuas  DistanceSecSchool  DistanceGPO  \\\n",
       "207901     1.438826      2.020029           0.156609     6.587209   \n",
       "207905     2.784711      0.274841           0.831639     7.118560   \n",
       "207916     3.098765      3.760897           0.968202     7.197697   \n",
       "207925     1.909348      3.576775           0.262801     7.051363   \n",
       "207929     0.909828      1.942439           0.597393     1.805008   \n",
       "\n",
       "        DistanceHospital  DistanceBeach  DistanceCar  DistanceShops  \n",
       "207901          2.344404      18.071721     5.427900       3.568079  \n",
       "207905          3.635958      14.874822     5.905557       0.255856  \n",
       "207916          3.879724      17.923987     6.179356       3.002563  \n",
       "207925          3.811554      18.189754     6.208934       1.206681  \n",
       "207929          0.902578      10.897507     1.587952       1.815296  \n",
       "\n",
       "[5 rows x 25 columns]"
      ]
     },
     "execution_count": 3,
     "metadata": {},
     "output_type": "execute_result"
    }
   ],
   "source": [
    "irl.head()"
   ]
  },
  {
   "cell_type": "code",
   "execution_count": 4,
   "id": "d662422b",
   "metadata": {},
   "outputs": [],
   "source": [
    "#irl['Apartment'] = irl['Apartment'].fillna(0.0)"
   ]
  },
  {
   "cell_type": "code",
   "execution_count": 5,
   "id": "77f121eb",
   "metadata": {},
   "outputs": [],
   "source": [
    "# this function finds all values that fall within internationally accepted +-10% of actual prices in our predictions\n",
    "# we can modify the threshold as we feel the need to here\n",
    "def accuracy_threshold(test, pred, num):\n",
    "    test = np.array(test)\n",
    "    pred = np.array(pred)\n",
    "# get within x% of actual price , not within log price as this will be misleading / incorrect\n",
    "    test = np.exp(test)\n",
    "    pred = np.exp(pred)\n",
    "    count = 0\n",
    "    for i in range(len(pred)):\n",
    "        if test[i] != 0:  \n",
    "            ten = test[i] * num\n",
    "            res = test[i] - pred[i]\n",
    "        else:\n",
    "            res = 0\n",
    "            ten = 0\n",
    "        \n",
    "        if res < 0:\n",
    "            res = res * -1\n",
    "        else:\n",
    "            res = res\n",
    "            \n",
    "        if res <= ten:\n",
    "            count += 1\n",
    "        else:\n",
    "            continue\n",
    "    return (count / len(test))"
   ]
  },
  {
   "cell_type": "code",
   "execution_count": 6,
   "id": "9cc968c1",
   "metadata": {},
   "outputs": [
    {
     "data": {
      "text/html": [
       "<div>\n",
       "<style scoped>\n",
       "    .dataframe tbody tr th:only-of-type {\n",
       "        vertical-align: middle;\n",
       "    }\n",
       "\n",
       "    .dataframe tbody tr th {\n",
       "        vertical-align: top;\n",
       "    }\n",
       "\n",
       "    .dataframe thead th {\n",
       "        text-align: right;\n",
       "    }\n",
       "</style>\n",
       "<table border=\"1\" class=\"dataframe\">\n",
       "  <thead>\n",
       "    <tr style=\"text-align: right;\">\n",
       "      <th></th>\n",
       "      <th>Address</th>\n",
       "      <th>County</th>\n",
       "      <th>Price (€)</th>\n",
       "      <th>UsedProperty</th>\n",
       "      <th>Property Size Description</th>\n",
       "      <th>Year</th>\n",
       "      <th>Month</th>\n",
       "      <th>Town</th>\n",
       "      <th>Apartment</th>\n",
       "      <th>Neighbourhood</th>\n",
       "      <th>...</th>\n",
       "      <th>DistanceIFSC</th>\n",
       "      <th>DistanceSchool</th>\n",
       "      <th>DistancePark</th>\n",
       "      <th>DistanceLuas</th>\n",
       "      <th>DistanceSecSchool</th>\n",
       "      <th>DistanceGPO</th>\n",
       "      <th>DistanceHospital</th>\n",
       "      <th>DistanceBeach</th>\n",
       "      <th>DistanceCar</th>\n",
       "      <th>DistanceShops</th>\n",
       "    </tr>\n",
       "  </thead>\n",
       "  <tbody>\n",
       "    <tr>\n",
       "      <th>207901</th>\n",
       "      <td>55 College Square, Terenure</td>\n",
       "      <td>Dublin</td>\n",
       "      <td>447200.00</td>\n",
       "      <td>0</td>\n",
       "      <td>1</td>\n",
       "      <td>2014</td>\n",
       "      <td>1</td>\n",
       "      <td>Terenure</td>\n",
       "      <td>0</td>\n",
       "      <td>College Square Terenure</td>\n",
       "      <td>...</td>\n",
       "      <td>7.541595</td>\n",
       "      <td>0.492120</td>\n",
       "      <td>1.438826</td>\n",
       "      <td>2.020029</td>\n",
       "      <td>0.156609</td>\n",
       "      <td>6.587209</td>\n",
       "      <td>2.344404</td>\n",
       "      <td>18.071721</td>\n",
       "      <td>5.427900</td>\n",
       "      <td>3.568079</td>\n",
       "    </tr>\n",
       "    <tr>\n",
       "      <th>207905</th>\n",
       "      <td>Number 7 Belfort House, Sydenham Villas, Dundrum</td>\n",
       "      <td>Dublin</td>\n",
       "      <td>398000.00</td>\n",
       "      <td>1</td>\n",
       "      <td>0</td>\n",
       "      <td>2014</td>\n",
       "      <td>1</td>\n",
       "      <td>Dundrum Dublin</td>\n",
       "      <td>0</td>\n",
       "      <td>Sydenham Villas Dundrum Dublin</td>\n",
       "      <td>...</td>\n",
       "      <td>6.817210</td>\n",
       "      <td>0.100996</td>\n",
       "      <td>2.784711</td>\n",
       "      <td>0.274841</td>\n",
       "      <td>0.831639</td>\n",
       "      <td>7.118560</td>\n",
       "      <td>3.635958</td>\n",
       "      <td>14.874822</td>\n",
       "      <td>5.905557</td>\n",
       "      <td>0.255856</td>\n",
       "    </tr>\n",
       "    <tr>\n",
       "      <th>207916</th>\n",
       "      <td>Apartment 16 Cedar Grove, Firhouse Road, Templ...</td>\n",
       "      <td>Dublin</td>\n",
       "      <td>196035.24</td>\n",
       "      <td>0</td>\n",
       "      <td>1</td>\n",
       "      <td>2014</td>\n",
       "      <td>1</td>\n",
       "      <td>Templeogue</td>\n",
       "      <td>1</td>\n",
       "      <td>Firhouse Road Templeogue</td>\n",
       "      <td>...</td>\n",
       "      <td>7.799393</td>\n",
       "      <td>0.683556</td>\n",
       "      <td>3.098765</td>\n",
       "      <td>3.760897</td>\n",
       "      <td>0.968202</td>\n",
       "      <td>7.197697</td>\n",
       "      <td>3.879724</td>\n",
       "      <td>17.923987</td>\n",
       "      <td>6.179356</td>\n",
       "      <td>3.002563</td>\n",
       "    </tr>\n",
       "    <tr>\n",
       "      <th>207925</th>\n",
       "      <td>75 Palmerstown Avenue, Palmerstown</td>\n",
       "      <td>Dublin</td>\n",
       "      <td>95000.00</td>\n",
       "      <td>1</td>\n",
       "      <td>1</td>\n",
       "      <td>2014</td>\n",
       "      <td>1</td>\n",
       "      <td>Palmerstown</td>\n",
       "      <td>0</td>\n",
       "      <td>Palmerstown Avenue Palmerstown</td>\n",
       "      <td>...</td>\n",
       "      <td>8.400802</td>\n",
       "      <td>0.319564</td>\n",
       "      <td>1.909348</td>\n",
       "      <td>3.576775</td>\n",
       "      <td>0.262801</td>\n",
       "      <td>7.051363</td>\n",
       "      <td>3.811554</td>\n",
       "      <td>18.189754</td>\n",
       "      <td>6.208934</td>\n",
       "      <td>1.206681</td>\n",
       "    </tr>\n",
       "    <tr>\n",
       "      <th>207929</th>\n",
       "      <td>17 Churchview Apts, Church Rd, Drumcondra</td>\n",
       "      <td>Dublin</td>\n",
       "      <td>152000.00</td>\n",
       "      <td>1</td>\n",
       "      <td>2</td>\n",
       "      <td>2014</td>\n",
       "      <td>1</td>\n",
       "      <td>Drumcondra</td>\n",
       "      <td>1</td>\n",
       "      <td>Church Road Drumcondra</td>\n",
       "      <td>...</td>\n",
       "      <td>2.225835</td>\n",
       "      <td>0.085034</td>\n",
       "      <td>0.909828</td>\n",
       "      <td>1.942439</td>\n",
       "      <td>0.597393</td>\n",
       "      <td>1.805008</td>\n",
       "      <td>0.902578</td>\n",
       "      <td>10.897507</td>\n",
       "      <td>1.587952</td>\n",
       "      <td>1.815296</td>\n",
       "    </tr>\n",
       "  </tbody>\n",
       "</table>\n",
       "<p>5 rows × 24 columns</p>\n",
       "</div>"
      ],
      "text/plain": [
       "                                                  Address  County  Price (€)  \\\n",
       "207901                        55 College Square, Terenure  Dublin  447200.00   \n",
       "207905   Number 7 Belfort House, Sydenham Villas, Dundrum  Dublin  398000.00   \n",
       "207916  Apartment 16 Cedar Grove, Firhouse Road, Templ...  Dublin  196035.24   \n",
       "207925                 75 Palmerstown Avenue, Palmerstown  Dublin   95000.00   \n",
       "207929          17 Churchview Apts, Church Rd, Drumcondra  Dublin  152000.00   \n",
       "\n",
       "        UsedProperty  Property Size Description  Year  Month            Town  \\\n",
       "207901             0                          1  2014      1        Terenure   \n",
       "207905             1                          0  2014      1  Dundrum Dublin   \n",
       "207916             0                          1  2014      1      Templeogue   \n",
       "207925             1                          1  2014      1     Palmerstown   \n",
       "207929             1                          2  2014      1      Drumcondra   \n",
       "\n",
       "        Apartment                   Neighbourhood  ...  DistanceIFSC  \\\n",
       "207901          0         College Square Terenure  ...      7.541595   \n",
       "207905          0  Sydenham Villas Dundrum Dublin  ...      6.817210   \n",
       "207916          1        Firhouse Road Templeogue  ...      7.799393   \n",
       "207925          0  Palmerstown Avenue Palmerstown  ...      8.400802   \n",
       "207929          1          Church Road Drumcondra  ...      2.225835   \n",
       "\n",
       "       DistanceSchool  DistancePark  DistanceLuas  DistanceSecSchool  \\\n",
       "207901       0.492120      1.438826      2.020029           0.156609   \n",
       "207905       0.100996      2.784711      0.274841           0.831639   \n",
       "207916       0.683556      3.098765      3.760897           0.968202   \n",
       "207925       0.319564      1.909348      3.576775           0.262801   \n",
       "207929       0.085034      0.909828      1.942439           0.597393   \n",
       "\n",
       "        DistanceGPO  DistanceHospital  DistanceBeach  DistanceCar  \\\n",
       "207901     6.587209          2.344404      18.071721     5.427900   \n",
       "207905     7.118560          3.635958      14.874822     5.905557   \n",
       "207916     7.197697          3.879724      17.923987     6.179356   \n",
       "207925     7.051363          3.811554      18.189754     6.208934   \n",
       "207929     1.805008          0.902578      10.897507     1.587952   \n",
       "\n",
       "        DistanceShops  \n",
       "207901       3.568079  \n",
       "207905       0.255856  \n",
       "207916       3.002563  \n",
       "207925       1.206681  \n",
       "207929       1.815296  \n",
       "\n",
       "[5 rows x 24 columns]"
      ]
     },
     "execution_count": 6,
     "metadata": {},
     "output_type": "execute_result"
    }
   ],
   "source": [
    "irl.drop(columns=['VAT Exclusive'], inplace=True)\n",
    "irl.head()"
   ]
  },
  {
   "cell_type": "code",
   "execution_count": 7,
   "id": "7f74ea74",
   "metadata": {},
   "outputs": [],
   "source": [
    "encoder = TargetEncoder()\n",
    "irl['Town'] = encoder.fit_transform(irl['Town'], irl['PriceInflation'])"
   ]
  },
  {
   "cell_type": "code",
   "execution_count": 8,
   "id": "4b57e319",
   "metadata": {},
   "outputs": [],
   "source": [
    "#encoder = TargetEncoder()\n",
    "#irl['Region'] = encoder.fit_transform(irl['Region'], irl['Price (€)'])"
   ]
  },
  {
   "cell_type": "code",
   "execution_count": 9,
   "id": "309e19b1",
   "metadata": {},
   "outputs": [],
   "source": [
    "encoder = TargetEncoder()\n",
    "irl['County'] = encoder.fit_transform(irl['County'], irl['Price (€)'])"
   ]
  },
  {
   "cell_type": "code",
   "execution_count": 10,
   "id": "78d29d8a",
   "metadata": {},
   "outputs": [
    {
     "data": {
      "text/html": [
       "<div>\n",
       "<style scoped>\n",
       "    .dataframe tbody tr th:only-of-type {\n",
       "        vertical-align: middle;\n",
       "    }\n",
       "\n",
       "    .dataframe tbody tr th {\n",
       "        vertical-align: top;\n",
       "    }\n",
       "\n",
       "    .dataframe thead th {\n",
       "        text-align: right;\n",
       "    }\n",
       "</style>\n",
       "<table border=\"1\" class=\"dataframe\">\n",
       "  <thead>\n",
       "    <tr style=\"text-align: right;\">\n",
       "      <th></th>\n",
       "      <th>Address</th>\n",
       "      <th>County</th>\n",
       "      <th>Price (€)</th>\n",
       "      <th>UsedProperty</th>\n",
       "      <th>Property Size Description</th>\n",
       "      <th>Year</th>\n",
       "      <th>Month</th>\n",
       "      <th>Town</th>\n",
       "      <th>Apartment</th>\n",
       "      <th>Neighbourhood</th>\n",
       "      <th>...</th>\n",
       "      <th>DistanceIFSC</th>\n",
       "      <th>DistanceSchool</th>\n",
       "      <th>DistancePark</th>\n",
       "      <th>DistanceLuas</th>\n",
       "      <th>DistanceSecSchool</th>\n",
       "      <th>DistanceGPO</th>\n",
       "      <th>DistanceHospital</th>\n",
       "      <th>DistanceBeach</th>\n",
       "      <th>DistanceCar</th>\n",
       "      <th>DistanceShops</th>\n",
       "    </tr>\n",
       "  </thead>\n",
       "  <tbody>\n",
       "    <tr>\n",
       "      <th>207901</th>\n",
       "      <td>55 College Square, Terenure</td>\n",
       "      <td>335411.154636</td>\n",
       "      <td>447200.0</td>\n",
       "      <td>0</td>\n",
       "      <td>1</td>\n",
       "      <td>2014</td>\n",
       "      <td>1</td>\n",
       "      <td>601864.418417</td>\n",
       "      <td>0</td>\n",
       "      <td>College Square Terenure</td>\n",
       "      <td>...</td>\n",
       "      <td>7.541595</td>\n",
       "      <td>0.49212</td>\n",
       "      <td>1.438826</td>\n",
       "      <td>2.020029</td>\n",
       "      <td>0.156609</td>\n",
       "      <td>6.587209</td>\n",
       "      <td>2.344404</td>\n",
       "      <td>18.071721</td>\n",
       "      <td>5.4279</td>\n",
       "      <td>3.568079</td>\n",
       "    </tr>\n",
       "  </tbody>\n",
       "</table>\n",
       "<p>1 rows × 24 columns</p>\n",
       "</div>"
      ],
      "text/plain": [
       "                            Address         County  Price (€)  UsedProperty  \\\n",
       "207901  55 College Square, Terenure  335411.154636   447200.0             0   \n",
       "\n",
       "        Property Size Description  Year  Month           Town  Apartment  \\\n",
       "207901                          1  2014      1  601864.418417          0   \n",
       "\n",
       "                  Neighbourhood  ...  DistanceIFSC DistanceSchool  \\\n",
       "207901  College Square Terenure  ...      7.541595        0.49212   \n",
       "\n",
       "        DistancePark  DistanceLuas  DistanceSecSchool  DistanceGPO  \\\n",
       "207901      1.438826      2.020029           0.156609     6.587209   \n",
       "\n",
       "        DistanceHospital  DistanceBeach  DistanceCar  DistanceShops  \n",
       "207901          2.344404      18.071721       5.4279       3.568079  \n",
       "\n",
       "[1 rows x 24 columns]"
      ]
     },
     "execution_count": 10,
     "metadata": {},
     "output_type": "execute_result"
    }
   ],
   "source": [
    "irl.head(1)"
   ]
  },
  {
   "cell_type": "code",
   "execution_count": 11,
   "id": "07af19a0",
   "metadata": {},
   "outputs": [],
   "source": [
    "encoder = TargetEncoder()\n",
    "irl['Neighbourhood'] = encoder.fit_transform(irl['Neighbourhood'], irl['PriceInflation'])"
   ]
  },
  {
   "cell_type": "code",
   "execution_count": 12,
   "id": "f80c9916",
   "metadata": {},
   "outputs": [],
   "source": [
    "irl['Neighbourhood'] = irl['Neighbourhood'].round()"
   ]
  },
  {
   "cell_type": "code",
   "execution_count": 13,
   "id": "5e0ff1b4",
   "metadata": {},
   "outputs": [],
   "source": [
    "encoder = TargetEncoder()\n",
    "irl['Eircode'] = encoder.fit_transform(irl['Eircode'], irl['PriceInflation'])"
   ]
  },
  {
   "cell_type": "code",
   "execution_count": 14,
   "id": "2d29d9c7",
   "metadata": {},
   "outputs": [
    {
     "data": {
      "text/html": [
       "<div>\n",
       "<style scoped>\n",
       "    .dataframe tbody tr th:only-of-type {\n",
       "        vertical-align: middle;\n",
       "    }\n",
       "\n",
       "    .dataframe tbody tr th {\n",
       "        vertical-align: top;\n",
       "    }\n",
       "\n",
       "    .dataframe thead th {\n",
       "        text-align: right;\n",
       "    }\n",
       "</style>\n",
       "<table border=\"1\" class=\"dataframe\">\n",
       "  <thead>\n",
       "    <tr style=\"text-align: right;\">\n",
       "      <th></th>\n",
       "      <th>Address</th>\n",
       "      <th>County</th>\n",
       "      <th>Price (€)</th>\n",
       "      <th>UsedProperty</th>\n",
       "      <th>Property Size Description</th>\n",
       "      <th>Year</th>\n",
       "      <th>Month</th>\n",
       "      <th>Town</th>\n",
       "      <th>Apartment</th>\n",
       "      <th>Neighbourhood</th>\n",
       "      <th>...</th>\n",
       "      <th>DistanceIFSC</th>\n",
       "      <th>DistanceSchool</th>\n",
       "      <th>DistancePark</th>\n",
       "      <th>DistanceLuas</th>\n",
       "      <th>DistanceSecSchool</th>\n",
       "      <th>DistanceGPO</th>\n",
       "      <th>DistanceHospital</th>\n",
       "      <th>DistanceBeach</th>\n",
       "      <th>DistanceCar</th>\n",
       "      <th>DistanceShops</th>\n",
       "    </tr>\n",
       "  </thead>\n",
       "  <tbody>\n",
       "    <tr>\n",
       "      <th>207901</th>\n",
       "      <td>55 College Square, Terenure</td>\n",
       "      <td>335411.154636</td>\n",
       "      <td>447200.00</td>\n",
       "      <td>0</td>\n",
       "      <td>1</td>\n",
       "      <td>2014</td>\n",
       "      <td>1</td>\n",
       "      <td>601864.418417</td>\n",
       "      <td>0</td>\n",
       "      <td>899721.0</td>\n",
       "      <td>...</td>\n",
       "      <td>7.541595</td>\n",
       "      <td>0.492120</td>\n",
       "      <td>1.438826</td>\n",
       "      <td>2.020029</td>\n",
       "      <td>0.156609</td>\n",
       "      <td>6.587209</td>\n",
       "      <td>2.344404</td>\n",
       "      <td>18.071721</td>\n",
       "      <td>5.427900</td>\n",
       "      <td>3.568079</td>\n",
       "    </tr>\n",
       "    <tr>\n",
       "      <th>207905</th>\n",
       "      <td>Number 7 Belfort House, Sydenham Villas, Dundrum</td>\n",
       "      <td>335411.154636</td>\n",
       "      <td>398000.00</td>\n",
       "      <td>1</td>\n",
       "      <td>0</td>\n",
       "      <td>2014</td>\n",
       "      <td>1</td>\n",
       "      <td>651335.338306</td>\n",
       "      <td>0</td>\n",
       "      <td>1661424.0</td>\n",
       "      <td>...</td>\n",
       "      <td>6.817210</td>\n",
       "      <td>0.100996</td>\n",
       "      <td>2.784711</td>\n",
       "      <td>0.274841</td>\n",
       "      <td>0.831639</td>\n",
       "      <td>7.118560</td>\n",
       "      <td>3.635958</td>\n",
       "      <td>14.874822</td>\n",
       "      <td>5.905557</td>\n",
       "      <td>0.255856</td>\n",
       "    </tr>\n",
       "    <tr>\n",
       "      <th>207916</th>\n",
       "      <td>Apartment 16 Cedar Grove, Firhouse Road, Templ...</td>\n",
       "      <td>335411.154636</td>\n",
       "      <td>196035.24</td>\n",
       "      <td>0</td>\n",
       "      <td>1</td>\n",
       "      <td>2014</td>\n",
       "      <td>1</td>\n",
       "      <td>741771.837018</td>\n",
       "      <td>1</td>\n",
       "      <td>597863.0</td>\n",
       "      <td>...</td>\n",
       "      <td>7.799393</td>\n",
       "      <td>0.683556</td>\n",
       "      <td>3.098765</td>\n",
       "      <td>3.760897</td>\n",
       "      <td>0.968202</td>\n",
       "      <td>7.197697</td>\n",
       "      <td>3.879724</td>\n",
       "      <td>17.923987</td>\n",
       "      <td>6.179356</td>\n",
       "      <td>3.002563</td>\n",
       "    </tr>\n",
       "    <tr>\n",
       "      <th>207925</th>\n",
       "      <td>75 Palmerstown Avenue, Palmerstown</td>\n",
       "      <td>335411.154636</td>\n",
       "      <td>95000.00</td>\n",
       "      <td>1</td>\n",
       "      <td>1</td>\n",
       "      <td>2014</td>\n",
       "      <td>1</td>\n",
       "      <td>414681.974545</td>\n",
       "      <td>0</td>\n",
       "      <td>334587.0</td>\n",
       "      <td>...</td>\n",
       "      <td>8.400802</td>\n",
       "      <td>0.319564</td>\n",
       "      <td>1.909348</td>\n",
       "      <td>3.576775</td>\n",
       "      <td>0.262801</td>\n",
       "      <td>7.051363</td>\n",
       "      <td>3.811554</td>\n",
       "      <td>18.189754</td>\n",
       "      <td>6.208934</td>\n",
       "      <td>1.206681</td>\n",
       "    </tr>\n",
       "    <tr>\n",
       "      <th>207929</th>\n",
       "      <td>17 Churchview Apts, Church Rd, Drumcondra</td>\n",
       "      <td>335411.154636</td>\n",
       "      <td>152000.00</td>\n",
       "      <td>1</td>\n",
       "      <td>2</td>\n",
       "      <td>2014</td>\n",
       "      <td>1</td>\n",
       "      <td>570683.081926</td>\n",
       "      <td>1</td>\n",
       "      <td>305308.0</td>\n",
       "      <td>...</td>\n",
       "      <td>2.225835</td>\n",
       "      <td>0.085034</td>\n",
       "      <td>0.909828</td>\n",
       "      <td>1.942439</td>\n",
       "      <td>0.597393</td>\n",
       "      <td>1.805008</td>\n",
       "      <td>0.902578</td>\n",
       "      <td>10.897507</td>\n",
       "      <td>1.587952</td>\n",
       "      <td>1.815296</td>\n",
       "    </tr>\n",
       "  </tbody>\n",
       "</table>\n",
       "<p>5 rows × 24 columns</p>\n",
       "</div>"
      ],
      "text/plain": [
       "                                                  Address         County  \\\n",
       "207901                        55 College Square, Terenure  335411.154636   \n",
       "207905   Number 7 Belfort House, Sydenham Villas, Dundrum  335411.154636   \n",
       "207916  Apartment 16 Cedar Grove, Firhouse Road, Templ...  335411.154636   \n",
       "207925                 75 Palmerstown Avenue, Palmerstown  335411.154636   \n",
       "207929          17 Churchview Apts, Church Rd, Drumcondra  335411.154636   \n",
       "\n",
       "        Price (€)  UsedProperty  Property Size Description  Year  Month  \\\n",
       "207901  447200.00             0                          1  2014      1   \n",
       "207905  398000.00             1                          0  2014      1   \n",
       "207916  196035.24             0                          1  2014      1   \n",
       "207925   95000.00             1                          1  2014      1   \n",
       "207929  152000.00             1                          2  2014      1   \n",
       "\n",
       "                 Town  Apartment  Neighbourhood  ...  DistanceIFSC  \\\n",
       "207901  601864.418417          0       899721.0  ...      7.541595   \n",
       "207905  651335.338306          0      1661424.0  ...      6.817210   \n",
       "207916  741771.837018          1       597863.0  ...      7.799393   \n",
       "207925  414681.974545          0       334587.0  ...      8.400802   \n",
       "207929  570683.081926          1       305308.0  ...      2.225835   \n",
       "\n",
       "        DistanceSchool  DistancePark  DistanceLuas  DistanceSecSchool  \\\n",
       "207901        0.492120      1.438826      2.020029           0.156609   \n",
       "207905        0.100996      2.784711      0.274841           0.831639   \n",
       "207916        0.683556      3.098765      3.760897           0.968202   \n",
       "207925        0.319564      1.909348      3.576775           0.262801   \n",
       "207929        0.085034      0.909828      1.942439           0.597393   \n",
       "\n",
       "        DistanceGPO  DistanceHospital  DistanceBeach  DistanceCar  \\\n",
       "207901     6.587209          2.344404      18.071721     5.427900   \n",
       "207905     7.118560          3.635958      14.874822     5.905557   \n",
       "207916     7.197697          3.879724      17.923987     6.179356   \n",
       "207925     7.051363          3.811554      18.189754     6.208934   \n",
       "207929     1.805008          0.902578      10.897507     1.587952   \n",
       "\n",
       "        DistanceShops  \n",
       "207901       3.568079  \n",
       "207905       0.255856  \n",
       "207916       3.002563  \n",
       "207925       1.206681  \n",
       "207929       1.815296  \n",
       "\n",
       "[5 rows x 24 columns]"
      ]
     },
     "execution_count": 14,
     "metadata": {},
     "output_type": "execute_result"
    }
   ],
   "source": [
    "irl.head()"
   ]
  },
  {
   "cell_type": "code",
   "execution_count": 15,
   "id": "d745bbde",
   "metadata": {},
   "outputs": [],
   "source": [
    "irl['LogPrice (€)'] = np.log(irl['PriceInflation'])"
   ]
  },
  {
   "cell_type": "code",
   "execution_count": 16,
   "id": "ef27b522",
   "metadata": {},
   "outputs": [],
   "source": [
    "irl = irl[['UsedProperty', 'Property Size Description', 'Year', 'Month', 'Town', 'Apartment', 'Neighbourhood',\n",
    "'Eircode', 'Latitude', 'Longitude', 'DistanceIFSC', 'DistanceSchool', 'DistancePark', 'DistanceSecSchool', 'LogPrice (€)']]"
   ]
  },
  {
   "cell_type": "code",
   "execution_count": 17,
   "id": "b13d552a",
   "metadata": {},
   "outputs": [
    {
     "data": {
      "text/plain": [
       "(5386, 15)"
      ]
     },
     "execution_count": 17,
     "metadata": {},
     "output_type": "execute_result"
    }
   ],
   "source": [
    "irl.shape"
   ]
  },
  {
   "cell_type": "code",
   "execution_count": 18,
   "id": "70fc0455",
   "metadata": {},
   "outputs": [
    {
     "data": {
      "text/html": [
       "<div>\n",
       "<style scoped>\n",
       "    .dataframe tbody tr th:only-of-type {\n",
       "        vertical-align: middle;\n",
       "    }\n",
       "\n",
       "    .dataframe tbody tr th {\n",
       "        vertical-align: top;\n",
       "    }\n",
       "\n",
       "    .dataframe thead th {\n",
       "        text-align: right;\n",
       "    }\n",
       "</style>\n",
       "<table border=\"1\" class=\"dataframe\">\n",
       "  <thead>\n",
       "    <tr style=\"text-align: right;\">\n",
       "      <th></th>\n",
       "      <th>UsedProperty</th>\n",
       "      <th>Property Size Description</th>\n",
       "      <th>Year</th>\n",
       "      <th>Month</th>\n",
       "      <th>Town</th>\n",
       "      <th>Apartment</th>\n",
       "      <th>Neighbourhood</th>\n",
       "      <th>Eircode</th>\n",
       "      <th>Latitude</th>\n",
       "      <th>Longitude</th>\n",
       "      <th>DistanceIFSC</th>\n",
       "      <th>DistanceSchool</th>\n",
       "      <th>DistancePark</th>\n",
       "      <th>DistanceSecSchool</th>\n",
       "      <th>LogPrice (€)</th>\n",
       "    </tr>\n",
       "  </thead>\n",
       "  <tbody>\n",
       "    <tr>\n",
       "      <th>207901</th>\n",
       "      <td>0</td>\n",
       "      <td>1</td>\n",
       "      <td>2014</td>\n",
       "      <td>1</td>\n",
       "      <td>601864.418417</td>\n",
       "      <td>0</td>\n",
       "      <td>899721.0</td>\n",
       "      <td>628715.337138</td>\n",
       "      <td>53.307878</td>\n",
       "      <td>-6.335665</td>\n",
       "      <td>7.541595</td>\n",
       "      <td>0.49212</td>\n",
       "      <td>1.438826</td>\n",
       "      <td>0.156609</td>\n",
       "      <td>13.648757</td>\n",
       "    </tr>\n",
       "  </tbody>\n",
       "</table>\n",
       "</div>"
      ],
      "text/plain": [
       "        UsedProperty  Property Size Description  Year  Month           Town  \\\n",
       "207901             0                          1  2014      1  601864.418417   \n",
       "\n",
       "        Apartment  Neighbourhood        Eircode   Latitude  Longitude  \\\n",
       "207901          0       899721.0  628715.337138  53.307878  -6.335665   \n",
       "\n",
       "        DistanceIFSC  DistanceSchool  DistancePark  DistanceSecSchool  \\\n",
       "207901      7.541595         0.49212      1.438826           0.156609   \n",
       "\n",
       "        LogPrice (€)  \n",
       "207901     13.648757  "
      ]
     },
     "execution_count": 18,
     "metadata": {},
     "output_type": "execute_result"
    }
   ],
   "source": [
    "irl.head(1)"
   ]
  },
  {
   "cell_type": "code",
   "execution_count": 19,
   "id": "d8cf16a1",
   "metadata": {},
   "outputs": [],
   "source": [
    "#irl.to_csv('sub-dub-encoded.csv')"
   ]
  },
  {
   "cell_type": "code",
   "execution_count": 20,
   "id": "6605e057",
   "metadata": {},
   "outputs": [],
   "source": [
    "from sklearn.preprocessing import OneHotEncoder\n",
    "\n",
    "#creating instance of one-hot-encoder\n",
    "encoder = OneHotEncoder(handle_unknown='ignore')\n",
    "\n",
    "#perform one-hot encoding on 'team' column \n",
    "encoder_df = pd.DataFrame(encoder.fit_transform(irl[['Property Size Description']]).toarray())\n",
    "#merge one-hot encoded columns back with original DataFrame\n",
    "irl1 = irl.join(encoder_df)"
   ]
  },
  {
   "cell_type": "code",
   "execution_count": 21,
   "id": "0f44f725",
   "metadata": {},
   "outputs": [
    {
     "data": {
      "text/html": [
       "<div>\n",
       "<style scoped>\n",
       "    .dataframe tbody tr th:only-of-type {\n",
       "        vertical-align: middle;\n",
       "    }\n",
       "\n",
       "    .dataframe tbody tr th {\n",
       "        vertical-align: top;\n",
       "    }\n",
       "\n",
       "    .dataframe thead th {\n",
       "        text-align: right;\n",
       "    }\n",
       "</style>\n",
       "<table border=\"1\" class=\"dataframe\">\n",
       "  <thead>\n",
       "    <tr style=\"text-align: right;\">\n",
       "      <th></th>\n",
       "      <th>UsedProperty</th>\n",
       "      <th>Property Size Description</th>\n",
       "      <th>Year</th>\n",
       "      <th>Month</th>\n",
       "      <th>Town</th>\n",
       "      <th>Apartment</th>\n",
       "      <th>Neighbourhood</th>\n",
       "      <th>Eircode</th>\n",
       "      <th>Latitude</th>\n",
       "      <th>Longitude</th>\n",
       "      <th>DistanceIFSC</th>\n",
       "      <th>DistanceSchool</th>\n",
       "      <th>DistancePark</th>\n",
       "      <th>DistanceSecSchool</th>\n",
       "      <th>LogPrice (€)</th>\n",
       "    </tr>\n",
       "  </thead>\n",
       "  <tbody>\n",
       "    <tr>\n",
       "      <th>207901</th>\n",
       "      <td>0</td>\n",
       "      <td>1</td>\n",
       "      <td>2014</td>\n",
       "      <td>1</td>\n",
       "      <td>6.018644e+05</td>\n",
       "      <td>0</td>\n",
       "      <td>899721.0</td>\n",
       "      <td>628715.337138</td>\n",
       "      <td>53.307878</td>\n",
       "      <td>-6.335665</td>\n",
       "      <td>7.541595</td>\n",
       "      <td>0.492120</td>\n",
       "      <td>1.438826</td>\n",
       "      <td>0.156609</td>\n",
       "      <td>13.648757</td>\n",
       "    </tr>\n",
       "    <tr>\n",
       "      <th>207905</th>\n",
       "      <td>1</td>\n",
       "      <td>0</td>\n",
       "      <td>2014</td>\n",
       "      <td>1</td>\n",
       "      <td>6.513353e+05</td>\n",
       "      <td>0</td>\n",
       "      <td>1661424.0</td>\n",
       "      <td>651335.338306</td>\n",
       "      <td>53.288227</td>\n",
       "      <td>-6.238896</td>\n",
       "      <td>6.817210</td>\n",
       "      <td>0.100996</td>\n",
       "      <td>2.784711</td>\n",
       "      <td>0.831639</td>\n",
       "      <td>13.532203</td>\n",
       "    </tr>\n",
       "    <tr>\n",
       "      <th>207916</th>\n",
       "      <td>0</td>\n",
       "      <td>1</td>\n",
       "      <td>2014</td>\n",
       "      <td>1</td>\n",
       "      <td>7.417718e+05</td>\n",
       "      <td>1</td>\n",
       "      <td>597863.0</td>\n",
       "      <td>628715.337138</td>\n",
       "      <td>53.291600</td>\n",
       "      <td>-6.312400</td>\n",
       "      <td>7.799393</td>\n",
       "      <td>0.683556</td>\n",
       "      <td>3.098765</td>\n",
       "      <td>0.968202</td>\n",
       "      <td>12.824045</td>\n",
       "    </tr>\n",
       "    <tr>\n",
       "      <th>207925</th>\n",
       "      <td>1</td>\n",
       "      <td>1</td>\n",
       "      <td>2014</td>\n",
       "      <td>1</td>\n",
       "      <td>4.146820e+05</td>\n",
       "      <td>0</td>\n",
       "      <td>334587.0</td>\n",
       "      <td>406163.221538</td>\n",
       "      <td>53.353853</td>\n",
       "      <td>-6.372213</td>\n",
       "      <td>8.400802</td>\n",
       "      <td>0.319564</td>\n",
       "      <td>1.909348</td>\n",
       "      <td>0.262801</td>\n",
       "      <td>12.099628</td>\n",
       "    </tr>\n",
       "    <tr>\n",
       "      <th>207929</th>\n",
       "      <td>1</td>\n",
       "      <td>2</td>\n",
       "      <td>2014</td>\n",
       "      <td>1</td>\n",
       "      <td>5.706831e+05</td>\n",
       "      <td>1</td>\n",
       "      <td>305308.0</td>\n",
       "      <td>411979.725512</td>\n",
       "      <td>53.366311</td>\n",
       "      <td>-6.263792</td>\n",
       "      <td>2.225835</td>\n",
       "      <td>0.085034</td>\n",
       "      <td>0.909828</td>\n",
       "      <td>0.597393</td>\n",
       "      <td>12.569631</td>\n",
       "    </tr>\n",
       "    <tr>\n",
       "      <th>...</th>\n",
       "      <td>...</td>\n",
       "      <td>...</td>\n",
       "      <td>...</td>\n",
       "      <td>...</td>\n",
       "      <td>...</td>\n",
       "      <td>...</td>\n",
       "      <td>...</td>\n",
       "      <td>...</td>\n",
       "      <td>...</td>\n",
       "      <td>...</td>\n",
       "      <td>...</td>\n",
       "      <td>...</td>\n",
       "      <td>...</td>\n",
       "      <td>...</td>\n",
       "      <td>...</td>\n",
       "    </tr>\n",
       "    <tr>\n",
       "      <th>261963</th>\n",
       "      <td>1</td>\n",
       "      <td>2</td>\n",
       "      <td>2021</td>\n",
       "      <td>10</td>\n",
       "      <td>4.404562e+05</td>\n",
       "      <td>0</td>\n",
       "      <td>534236.0</td>\n",
       "      <td>440456.154028</td>\n",
       "      <td>53.491883</td>\n",
       "      <td>-6.135906</td>\n",
       "      <td>17.439163</td>\n",
       "      <td>0.099830</td>\n",
       "      <td>9.753778</td>\n",
       "      <td>1.238197</td>\n",
       "      <td>12.936154</td>\n",
       "    </tr>\n",
       "    <tr>\n",
       "      <th>261968</th>\n",
       "      <td>0</td>\n",
       "      <td>2</td>\n",
       "      <td>2021</td>\n",
       "      <td>11</td>\n",
       "      <td>5.859559e+05</td>\n",
       "      <td>0</td>\n",
       "      <td>599073.0</td>\n",
       "      <td>794885.173096</td>\n",
       "      <td>53.255027</td>\n",
       "      <td>-6.147053</td>\n",
       "      <td>12.378025</td>\n",
       "      <td>0.892319</td>\n",
       "      <td>1.511927</td>\n",
       "      <td>1.557293</td>\n",
       "      <td>13.169684</td>\n",
       "    </tr>\n",
       "    <tr>\n",
       "      <th>262028</th>\n",
       "      <td>1</td>\n",
       "      <td>2</td>\n",
       "      <td>2021</td>\n",
       "      <td>12</td>\n",
       "      <td>2.596375e+05</td>\n",
       "      <td>0</td>\n",
       "      <td>246144.0</td>\n",
       "      <td>259637.487366</td>\n",
       "      <td>53.318052</td>\n",
       "      <td>-6.372816</td>\n",
       "      <td>9.121749</td>\n",
       "      <td>1.230371</td>\n",
       "      <td>2.045147</td>\n",
       "      <td>1.054941</td>\n",
       "      <td>12.542545</td>\n",
       "    </tr>\n",
       "    <tr>\n",
       "      <th>262032</th>\n",
       "      <td>1</td>\n",
       "      <td>2</td>\n",
       "      <td>2021</td>\n",
       "      <td>10</td>\n",
       "      <td>1.137529e+06</td>\n",
       "      <td>0</td>\n",
       "      <td>1235166.0</td>\n",
       "      <td>794885.173096</td>\n",
       "      <td>53.282730</td>\n",
       "      <td>-6.119818</td>\n",
       "      <td>11.182747</td>\n",
       "      <td>0.468291</td>\n",
       "      <td>2.346736</td>\n",
       "      <td>0.672380</td>\n",
       "      <td>14.022525</td>\n",
       "    </tr>\n",
       "    <tr>\n",
       "      <th>262033</th>\n",
       "      <td>1</td>\n",
       "      <td>2</td>\n",
       "      <td>2021</td>\n",
       "      <td>12</td>\n",
       "      <td>6.018644e+05</td>\n",
       "      <td>0</td>\n",
       "      <td>645399.0</td>\n",
       "      <td>628715.337138</td>\n",
       "      <td>53.312154</td>\n",
       "      <td>-6.298860</td>\n",
       "      <td>5.434332</td>\n",
       "      <td>0.800764</td>\n",
       "      <td>1.104501</td>\n",
       "      <td>0.198484</td>\n",
       "      <td>13.617060</td>\n",
       "    </tr>\n",
       "  </tbody>\n",
       "</table>\n",
       "<p>5386 rows × 15 columns</p>\n",
       "</div>"
      ],
      "text/plain": [
       "        UsedProperty  Property Size Description  Year  Month          Town  \\\n",
       "207901             0                          1  2014      1  6.018644e+05   \n",
       "207905             1                          0  2014      1  6.513353e+05   \n",
       "207916             0                          1  2014      1  7.417718e+05   \n",
       "207925             1                          1  2014      1  4.146820e+05   \n",
       "207929             1                          2  2014      1  5.706831e+05   \n",
       "...              ...                        ...   ...    ...           ...   \n",
       "261963             1                          2  2021     10  4.404562e+05   \n",
       "261968             0                          2  2021     11  5.859559e+05   \n",
       "262028             1                          2  2021     12  2.596375e+05   \n",
       "262032             1                          2  2021     10  1.137529e+06   \n",
       "262033             1                          2  2021     12  6.018644e+05   \n",
       "\n",
       "        Apartment  Neighbourhood        Eircode   Latitude  Longitude  \\\n",
       "207901          0       899721.0  628715.337138  53.307878  -6.335665   \n",
       "207905          0      1661424.0  651335.338306  53.288227  -6.238896   \n",
       "207916          1       597863.0  628715.337138  53.291600  -6.312400   \n",
       "207925          0       334587.0  406163.221538  53.353853  -6.372213   \n",
       "207929          1       305308.0  411979.725512  53.366311  -6.263792   \n",
       "...           ...            ...            ...        ...        ...   \n",
       "261963          0       534236.0  440456.154028  53.491883  -6.135906   \n",
       "261968          0       599073.0  794885.173096  53.255027  -6.147053   \n",
       "262028          0       246144.0  259637.487366  53.318052  -6.372816   \n",
       "262032          0      1235166.0  794885.173096  53.282730  -6.119818   \n",
       "262033          0       645399.0  628715.337138  53.312154  -6.298860   \n",
       "\n",
       "        DistanceIFSC  DistanceSchool  DistancePark  DistanceSecSchool  \\\n",
       "207901      7.541595        0.492120      1.438826           0.156609   \n",
       "207905      6.817210        0.100996      2.784711           0.831639   \n",
       "207916      7.799393        0.683556      3.098765           0.968202   \n",
       "207925      8.400802        0.319564      1.909348           0.262801   \n",
       "207929      2.225835        0.085034      0.909828           0.597393   \n",
       "...              ...             ...           ...                ...   \n",
       "261963     17.439163        0.099830      9.753778           1.238197   \n",
       "261968     12.378025        0.892319      1.511927           1.557293   \n",
       "262028      9.121749        1.230371      2.045147           1.054941   \n",
       "262032     11.182747        0.468291      2.346736           0.672380   \n",
       "262033      5.434332        0.800764      1.104501           0.198484   \n",
       "\n",
       "        LogPrice (€)  \n",
       "207901     13.648757  \n",
       "207905     13.532203  \n",
       "207916     12.824045  \n",
       "207925     12.099628  \n",
       "207929     12.569631  \n",
       "...              ...  \n",
       "261963     12.936154  \n",
       "261968     13.169684  \n",
       "262028     12.542545  \n",
       "262032     14.022525  \n",
       "262033     13.617060  \n",
       "\n",
       "[5386 rows x 15 columns]"
      ]
     },
     "execution_count": 21,
     "metadata": {},
     "output_type": "execute_result"
    }
   ],
   "source": [
    "irl"
   ]
  },
  {
   "cell_type": "code",
   "execution_count": 22,
   "id": "5f360609",
   "metadata": {},
   "outputs": [],
   "source": [
    "x = irl.loc[:, irl.columns != 'LogPrice (€)']\n",
    "y = irl['LogPrice (€)']"
   ]
  },
  {
   "cell_type": "code",
   "execution_count": 23,
   "id": "bbdf7920",
   "metadata": {},
   "outputs": [
    {
     "name": "stdout",
     "output_type": "stream",
     "text": [
      "AutoML directory: AutoML_1\n",
      "The task is regression with evaluation metric rmse\n",
      "AutoML will use algorithms: ['Baseline', 'Linear', 'Decision Tree', 'Random Forest', 'Xgboost', 'Neural Network']\n",
      "AutoML will ensemble available models\n",
      "AutoML steps: ['simple_algorithms', 'default_algorithms', 'ensemble']\n",
      "* Step simple_algorithms will try to check up to 3 models\n",
      "1_Baseline rmse 0.479324 trained in 1.67 seconds\n",
      "2_DecisionTree rmse 0.278483 trained in 26.64 seconds\n",
      "3_Linear rmse 0.296433 trained in 6.28 seconds\n",
      "* Step default_algorithms will try to check up to 3 models\n",
      "4_Default_Xgboost rmse 0.240036 trained in 5.61 seconds\n",
      "5_Default_NeuralNetwork rmse 0.262624 trained in 0.98 seconds\n",
      "6_Default_RandomForest rmse 0.259119 trained in 5.92 seconds\n",
      "* Step ensemble will try to check up to 1 model\n",
      "Ensemble rmse 0.240036 trained in 0.36 seconds\n",
      "AutoML fit time: 64.34 seconds\n",
      "AutoML best model: 4_Default_Xgboost\n"
     ]
    },
    {
     "data": {
      "text/plain": [
       "AutoML(explain_level=2, total_time_limit=300)"
      ]
     },
     "execution_count": 23,
     "metadata": {},
     "output_type": "execute_result"
    }
   ],
   "source": [
    "X_train, X_test, y_train, y_test = train_test_split(x, y, test_size = 0.15)\n",
    "automl = AutoML(total_time_limit = 5 * 60, explain_level = 2)\n",
    "automl.fit(X_train, y_train)"
   ]
  },
  {
   "cell_type": "code",
   "execution_count": 24,
   "id": "52917155",
   "metadata": {},
   "outputs": [
    {
     "data": {
      "text/plain": [
       "0.06653571023329409"
      ]
     },
     "execution_count": 24,
     "metadata": {},
     "output_type": "execute_result"
    }
   ],
   "source": [
    "# calculated values\n",
    "y_predicted = automl.predict(X_test)\n",
    "  \n",
    "# Calculation of Mean Squared Error (MSE)\n",
    "mean_squared_error(y_test, y_predicted)"
   ]
  },
  {
   "cell_type": "code",
   "execution_count": 25,
   "id": "1bb7101a",
   "metadata": {},
   "outputs": [
    {
     "data": {
      "text/plain": [
       "0.5445544554455446"
      ]
     },
     "execution_count": 25,
     "metadata": {},
     "output_type": "execute_result"
    }
   ],
   "source": [
    "accuracy_threshold(y_test, y_predicted, 0.1)"
   ]
  },
  {
   "cell_type": "code",
   "execution_count": 26,
   "id": "5879c3a1",
   "metadata": {},
   "outputs": [
    {
     "name": "stdout",
     "output_type": "stream",
     "text": [
      "Median Absolute Error:\n",
      "\n",
      "0.08880107702664441\n"
     ]
    }
   ],
   "source": [
    "median_se = np.square(np.subtract(y_test, y_predicted)).median() \n",
    " \n",
    "med = math.sqrt(median_se)\n",
    "print(\"Median Absolute Error:\\n\")\n",
    "print(med)"
   ]
  },
  {
   "cell_type": "markdown",
   "id": "db0144e9",
   "metadata": {},
   "source": [
    "### Let's try predict a specific years values given some historical data\n",
    "We will look at using 3 years worth of data and use it to predict some data for a selected year, let's say 2021, now."
   ]
  },
  {
   "cell_type": "code",
   "execution_count": 27,
   "id": "9f08f8e1",
   "metadata": {},
   "outputs": [],
   "source": [
    "specific21 = irl[irl['Year'] > 2017]"
   ]
  },
  {
   "cell_type": "markdown",
   "id": "4aa43ad9",
   "metadata": {},
   "source": [
    "A regular train to test split will not suffice here as we need only the years 2018, 2019 and 2020 in our training data, while only using the houses associated with 2021 in our test data."
   ]
  },
  {
   "cell_type": "code",
   "execution_count": 28,
   "id": "41bbaeae",
   "metadata": {},
   "outputs": [
    {
     "data": {
      "text/html": [
       "<div>\n",
       "<style scoped>\n",
       "    .dataframe tbody tr th:only-of-type {\n",
       "        vertical-align: middle;\n",
       "    }\n",
       "\n",
       "    .dataframe tbody tr th {\n",
       "        vertical-align: top;\n",
       "    }\n",
       "\n",
       "    .dataframe thead th {\n",
       "        text-align: right;\n",
       "    }\n",
       "</style>\n",
       "<table border=\"1\" class=\"dataframe\">\n",
       "  <thead>\n",
       "    <tr style=\"text-align: right;\">\n",
       "      <th></th>\n",
       "      <th>UsedProperty</th>\n",
       "      <th>Property Size Description</th>\n",
       "      <th>Year</th>\n",
       "      <th>Month</th>\n",
       "      <th>Town</th>\n",
       "      <th>Apartment</th>\n",
       "      <th>Neighbourhood</th>\n",
       "      <th>Eircode</th>\n",
       "      <th>Latitude</th>\n",
       "      <th>Longitude</th>\n",
       "      <th>DistanceIFSC</th>\n",
       "      <th>DistanceSchool</th>\n",
       "      <th>DistancePark</th>\n",
       "      <th>DistanceSecSchool</th>\n",
       "      <th>LogPrice (€)</th>\n",
       "    </tr>\n",
       "  </thead>\n",
       "  <tbody>\n",
       "    <tr>\n",
       "      <th>218206</th>\n",
       "      <td>0</td>\n",
       "      <td>2</td>\n",
       "      <td>2021</td>\n",
       "      <td>4</td>\n",
       "      <td>353337.560204</td>\n",
       "      <td>0</td>\n",
       "      <td>347170.0</td>\n",
       "      <td>353337.560204</td>\n",
       "      <td>53.287576</td>\n",
       "      <td>-6.433316</td>\n",
       "      <td>14.222797</td>\n",
       "      <td>0.465772</td>\n",
       "      <td>6.634032</td>\n",
       "      <td>2.349923</td>\n",
       "      <td>12.716376</td>\n",
       "    </tr>\n",
       "    <tr>\n",
       "      <th>218208</th>\n",
       "      <td>0</td>\n",
       "      <td>2</td>\n",
       "      <td>2021</td>\n",
       "      <td>4</td>\n",
       "      <td>353337.560204</td>\n",
       "      <td>0</td>\n",
       "      <td>347170.0</td>\n",
       "      <td>353337.560204</td>\n",
       "      <td>53.286440</td>\n",
       "      <td>-6.434182</td>\n",
       "      <td>14.334534</td>\n",
       "      <td>0.327067</td>\n",
       "      <td>6.770860</td>\n",
       "      <td>2.355995</td>\n",
       "      <td>12.838977</td>\n",
       "    </tr>\n",
       "    <tr>\n",
       "      <th>218210</th>\n",
       "      <td>0</td>\n",
       "      <td>2</td>\n",
       "      <td>2021</td>\n",
       "      <td>4</td>\n",
       "      <td>386055.391429</td>\n",
       "      <td>0</td>\n",
       "      <td>358320.0</td>\n",
       "      <td>333925.603283</td>\n",
       "      <td>53.397993</td>\n",
       "      <td>-6.127101</td>\n",
       "      <td>9.553714</td>\n",
       "      <td>0.383226</td>\n",
       "      <td>1.822449</td>\n",
       "      <td>0.258992</td>\n",
       "      <td>13.164398</td>\n",
       "    </tr>\n",
       "    <tr>\n",
       "      <th>218212</th>\n",
       "      <td>0</td>\n",
       "      <td>2</td>\n",
       "      <td>2021</td>\n",
       "      <td>4</td>\n",
       "      <td>350601.406947</td>\n",
       "      <td>0</td>\n",
       "      <td>379563.0</td>\n",
       "      <td>333925.603283</td>\n",
       "      <td>53.404602</td>\n",
       "      <td>-6.154503</td>\n",
       "      <td>8.626190</td>\n",
       "      <td>0.776872</td>\n",
       "      <td>0.417361</td>\n",
       "      <td>0.603363</td>\n",
       "      <td>12.888984</td>\n",
       "    </tr>\n",
       "    <tr>\n",
       "      <th>218221</th>\n",
       "      <td>0</td>\n",
       "      <td>2</td>\n",
       "      <td>2021</td>\n",
       "      <td>4</td>\n",
       "      <td>353337.560204</td>\n",
       "      <td>0</td>\n",
       "      <td>347170.0</td>\n",
       "      <td>353337.560204</td>\n",
       "      <td>53.286440</td>\n",
       "      <td>-6.434182</td>\n",
       "      <td>14.334534</td>\n",
       "      <td>0.327067</td>\n",
       "      <td>6.770860</td>\n",
       "      <td>2.355995</td>\n",
       "      <td>12.744948</td>\n",
       "    </tr>\n",
       "  </tbody>\n",
       "</table>\n",
       "</div>"
      ],
      "text/plain": [
       "        UsedProperty  Property Size Description  Year  Month           Town  \\\n",
       "218206             0                          2  2021      4  353337.560204   \n",
       "218208             0                          2  2021      4  353337.560204   \n",
       "218210             0                          2  2021      4  386055.391429   \n",
       "218212             0                          2  2021      4  350601.406947   \n",
       "218221             0                          2  2021      4  353337.560204   \n",
       "\n",
       "        Apartment  Neighbourhood        Eircode   Latitude  Longitude  \\\n",
       "218206          0       347170.0  353337.560204  53.287576  -6.433316   \n",
       "218208          0       347170.0  353337.560204  53.286440  -6.434182   \n",
       "218210          0       358320.0  333925.603283  53.397993  -6.127101   \n",
       "218212          0       379563.0  333925.603283  53.404602  -6.154503   \n",
       "218221          0       347170.0  353337.560204  53.286440  -6.434182   \n",
       "\n",
       "        DistanceIFSC  DistanceSchool  DistancePark  DistanceSecSchool  \\\n",
       "218206     14.222797        0.465772      6.634032           2.349923   \n",
       "218208     14.334534        0.327067      6.770860           2.355995   \n",
       "218210      9.553714        0.383226      1.822449           0.258992   \n",
       "218212      8.626190        0.776872      0.417361           0.603363   \n",
       "218221     14.334534        0.327067      6.770860           2.355995   \n",
       "\n",
       "        LogPrice (€)  \n",
       "218206     12.716376  \n",
       "218208     12.838977  \n",
       "218210     13.164398  \n",
       "218212     12.888984  \n",
       "218221     12.744948  "
      ]
     },
     "execution_count": 28,
     "metadata": {},
     "output_type": "execute_result"
    }
   ],
   "source": [
    "specific21[specific21['Year'] == 2021].head()"
   ]
  },
  {
   "cell_type": "code",
   "execution_count": 29,
   "id": "eb10e6cf",
   "metadata": {},
   "outputs": [
    {
     "data": {
      "text/plain": [
       "2817"
      ]
     },
     "execution_count": 29,
     "metadata": {},
     "output_type": "execute_result"
    }
   ],
   "source": [
    "specific21.shape[0]"
   ]
  },
  {
   "cell_type": "code",
   "execution_count": 30,
   "id": "24fba876",
   "metadata": {},
   "outputs": [],
   "source": [
    "train_21 = specific21[specific21['Year'] < 2021]"
   ]
  },
  {
   "cell_type": "code",
   "execution_count": 31,
   "id": "20144683",
   "metadata": {},
   "outputs": [
    {
     "data": {
      "text/html": [
       "<div>\n",
       "<style scoped>\n",
       "    .dataframe tbody tr th:only-of-type {\n",
       "        vertical-align: middle;\n",
       "    }\n",
       "\n",
       "    .dataframe tbody tr th {\n",
       "        vertical-align: top;\n",
       "    }\n",
       "\n",
       "    .dataframe thead th {\n",
       "        text-align: right;\n",
       "    }\n",
       "</style>\n",
       "<table border=\"1\" class=\"dataframe\">\n",
       "  <thead>\n",
       "    <tr style=\"text-align: right;\">\n",
       "      <th></th>\n",
       "      <th>UsedProperty</th>\n",
       "      <th>Property Size Description</th>\n",
       "      <th>Year</th>\n",
       "      <th>Month</th>\n",
       "      <th>Town</th>\n",
       "      <th>Apartment</th>\n",
       "      <th>Neighbourhood</th>\n",
       "      <th>Eircode</th>\n",
       "      <th>Latitude</th>\n",
       "      <th>Longitude</th>\n",
       "      <th>DistanceIFSC</th>\n",
       "      <th>DistanceSchool</th>\n",
       "      <th>DistancePark</th>\n",
       "      <th>DistanceSecSchool</th>\n",
       "      <th>LogPrice (€)</th>\n",
       "    </tr>\n",
       "  </thead>\n",
       "  <tbody>\n",
       "    <tr>\n",
       "      <th>212799</th>\n",
       "      <td>0</td>\n",
       "      <td>1</td>\n",
       "      <td>2019</td>\n",
       "      <td>1</td>\n",
       "      <td>332398.386637</td>\n",
       "      <td>0</td>\n",
       "      <td>322868.0</td>\n",
       "      <td>332398.386637</td>\n",
       "      <td>53.341446</td>\n",
       "      <td>-6.466279</td>\n",
       "      <td>14.658324</td>\n",
       "      <td>0.728724</td>\n",
       "      <td>5.931732</td>\n",
       "      <td>1.457938</td>\n",
       "      <td>12.793421</td>\n",
       "    </tr>\n",
       "    <tr>\n",
       "      <th>212801</th>\n",
       "      <td>0</td>\n",
       "      <td>1</td>\n",
       "      <td>2019</td>\n",
       "      <td>1</td>\n",
       "      <td>332398.386637</td>\n",
       "      <td>0</td>\n",
       "      <td>322868.0</td>\n",
       "      <td>332398.386637</td>\n",
       "      <td>53.341855</td>\n",
       "      <td>-6.465382</td>\n",
       "      <td>14.596166</td>\n",
       "      <td>0.735245</td>\n",
       "      <td>5.876450</td>\n",
       "      <td>1.383995</td>\n",
       "      <td>12.862413</td>\n",
       "    </tr>\n",
       "    <tr>\n",
       "      <th>212807</th>\n",
       "      <td>0</td>\n",
       "      <td>1</td>\n",
       "      <td>2019</td>\n",
       "      <td>1</td>\n",
       "      <td>329388.587019</td>\n",
       "      <td>0</td>\n",
       "      <td>308019.0</td>\n",
       "      <td>329388.587019</td>\n",
       "      <td>53.377230</td>\n",
       "      <td>-6.328681</td>\n",
       "      <td>6.307048</td>\n",
       "      <td>1.215076</td>\n",
       "      <td>0.323427</td>\n",
       "      <td>1.359171</td>\n",
       "      <td>12.835385</td>\n",
       "    </tr>\n",
       "    <tr>\n",
       "      <th>212810</th>\n",
       "      <td>0</td>\n",
       "      <td>1</td>\n",
       "      <td>2019</td>\n",
       "      <td>1</td>\n",
       "      <td>350601.406947</td>\n",
       "      <td>0</td>\n",
       "      <td>379563.0</td>\n",
       "      <td>333925.603283</td>\n",
       "      <td>53.404602</td>\n",
       "      <td>-6.154503</td>\n",
       "      <td>8.626190</td>\n",
       "      <td>0.776872</td>\n",
       "      <td>0.417361</td>\n",
       "      <td>0.603363</td>\n",
       "      <td>12.926953</td>\n",
       "    </tr>\n",
       "    <tr>\n",
       "      <th>212814</th>\n",
       "      <td>0</td>\n",
       "      <td>1</td>\n",
       "      <td>2019</td>\n",
       "      <td>1</td>\n",
       "      <td>332398.386637</td>\n",
       "      <td>0</td>\n",
       "      <td>322868.0</td>\n",
       "      <td>332398.386637</td>\n",
       "      <td>53.341448</td>\n",
       "      <td>-6.466043</td>\n",
       "      <td>14.642740</td>\n",
       "      <td>0.719977</td>\n",
       "      <td>5.916202</td>\n",
       "      <td>1.444132</td>\n",
       "      <td>12.639270</td>\n",
       "    </tr>\n",
       "  </tbody>\n",
       "</table>\n",
       "</div>"
      ],
      "text/plain": [
       "        UsedProperty  Property Size Description  Year  Month           Town  \\\n",
       "212799             0                          1  2019      1  332398.386637   \n",
       "212801             0                          1  2019      1  332398.386637   \n",
       "212807             0                          1  2019      1  329388.587019   \n",
       "212810             0                          1  2019      1  350601.406947   \n",
       "212814             0                          1  2019      1  332398.386637   \n",
       "\n",
       "        Apartment  Neighbourhood        Eircode   Latitude  Longitude  \\\n",
       "212799          0       322868.0  332398.386637  53.341446  -6.466279   \n",
       "212801          0       322868.0  332398.386637  53.341855  -6.465382   \n",
       "212807          0       308019.0  329388.587019  53.377230  -6.328681   \n",
       "212810          0       379563.0  333925.603283  53.404602  -6.154503   \n",
       "212814          0       322868.0  332398.386637  53.341448  -6.466043   \n",
       "\n",
       "        DistanceIFSC  DistanceSchool  DistancePark  DistanceSecSchool  \\\n",
       "212799     14.658324        0.728724      5.931732           1.457938   \n",
       "212801     14.596166        0.735245      5.876450           1.383995   \n",
       "212807      6.307048        1.215076      0.323427           1.359171   \n",
       "212810      8.626190        0.776872      0.417361           0.603363   \n",
       "212814     14.642740        0.719977      5.916202           1.444132   \n",
       "\n",
       "        LogPrice (€)  \n",
       "212799     12.793421  \n",
       "212801     12.862413  \n",
       "212807     12.835385  \n",
       "212810     12.926953  \n",
       "212814     12.639270  "
      ]
     },
     "execution_count": 31,
     "metadata": {},
     "output_type": "execute_result"
    }
   ],
   "source": [
    "#train_21 = train_21.sample(n = 80000)\n",
    "train_21.head()"
   ]
  },
  {
   "cell_type": "code",
   "execution_count": 32,
   "id": "b32af944",
   "metadata": {},
   "outputs": [],
   "source": [
    "test_21 = specific21[specific21['Year'] == 2021]"
   ]
  },
  {
   "cell_type": "code",
   "execution_count": 33,
   "id": "9e4fa5cf",
   "metadata": {},
   "outputs": [],
   "source": [
    "x_train_21 = train_21.loc[:, train_21.columns != 'LogPrice (€)']\n",
    "y_train_21 = train_21['LogPrice (€)']"
   ]
  },
  {
   "cell_type": "code",
   "execution_count": 34,
   "id": "30b4696d",
   "metadata": {},
   "outputs": [],
   "source": [
    "#x_train_21.drop(columns=['Year'], inplace = True)"
   ]
  },
  {
   "cell_type": "code",
   "execution_count": 35,
   "id": "5d9d83fe",
   "metadata": {},
   "outputs": [
    {
     "data": {
      "text/html": [
       "<div>\n",
       "<style scoped>\n",
       "    .dataframe tbody tr th:only-of-type {\n",
       "        vertical-align: middle;\n",
       "    }\n",
       "\n",
       "    .dataframe tbody tr th {\n",
       "        vertical-align: top;\n",
       "    }\n",
       "\n",
       "    .dataframe thead th {\n",
       "        text-align: right;\n",
       "    }\n",
       "</style>\n",
       "<table border=\"1\" class=\"dataframe\">\n",
       "  <thead>\n",
       "    <tr style=\"text-align: right;\">\n",
       "      <th></th>\n",
       "      <th>UsedProperty</th>\n",
       "      <th>Property Size Description</th>\n",
       "      <th>Year</th>\n",
       "      <th>Month</th>\n",
       "      <th>Town</th>\n",
       "      <th>Apartment</th>\n",
       "      <th>Neighbourhood</th>\n",
       "      <th>Eircode</th>\n",
       "      <th>Latitude</th>\n",
       "      <th>Longitude</th>\n",
       "      <th>DistanceIFSC</th>\n",
       "      <th>DistanceSchool</th>\n",
       "      <th>DistancePark</th>\n",
       "      <th>DistanceSecSchool</th>\n",
       "      <th>LogPrice (€)</th>\n",
       "    </tr>\n",
       "  </thead>\n",
       "  <tbody>\n",
       "    <tr>\n",
       "      <th>218206</th>\n",
       "      <td>0</td>\n",
       "      <td>2</td>\n",
       "      <td>2021</td>\n",
       "      <td>4</td>\n",
       "      <td>353337.560204</td>\n",
       "      <td>0</td>\n",
       "      <td>347170.0</td>\n",
       "      <td>353337.560204</td>\n",
       "      <td>53.287576</td>\n",
       "      <td>-6.433316</td>\n",
       "      <td>14.222797</td>\n",
       "      <td>0.465772</td>\n",
       "      <td>6.634032</td>\n",
       "      <td>2.349923</td>\n",
       "      <td>12.716376</td>\n",
       "    </tr>\n",
       "    <tr>\n",
       "      <th>218208</th>\n",
       "      <td>0</td>\n",
       "      <td>2</td>\n",
       "      <td>2021</td>\n",
       "      <td>4</td>\n",
       "      <td>353337.560204</td>\n",
       "      <td>0</td>\n",
       "      <td>347170.0</td>\n",
       "      <td>353337.560204</td>\n",
       "      <td>53.286440</td>\n",
       "      <td>-6.434182</td>\n",
       "      <td>14.334534</td>\n",
       "      <td>0.327067</td>\n",
       "      <td>6.770860</td>\n",
       "      <td>2.355995</td>\n",
       "      <td>12.838977</td>\n",
       "    </tr>\n",
       "    <tr>\n",
       "      <th>218210</th>\n",
       "      <td>0</td>\n",
       "      <td>2</td>\n",
       "      <td>2021</td>\n",
       "      <td>4</td>\n",
       "      <td>386055.391429</td>\n",
       "      <td>0</td>\n",
       "      <td>358320.0</td>\n",
       "      <td>333925.603283</td>\n",
       "      <td>53.397993</td>\n",
       "      <td>-6.127101</td>\n",
       "      <td>9.553714</td>\n",
       "      <td>0.383226</td>\n",
       "      <td>1.822449</td>\n",
       "      <td>0.258992</td>\n",
       "      <td>13.164398</td>\n",
       "    </tr>\n",
       "    <tr>\n",
       "      <th>218212</th>\n",
       "      <td>0</td>\n",
       "      <td>2</td>\n",
       "      <td>2021</td>\n",
       "      <td>4</td>\n",
       "      <td>350601.406947</td>\n",
       "      <td>0</td>\n",
       "      <td>379563.0</td>\n",
       "      <td>333925.603283</td>\n",
       "      <td>53.404602</td>\n",
       "      <td>-6.154503</td>\n",
       "      <td>8.626190</td>\n",
       "      <td>0.776872</td>\n",
       "      <td>0.417361</td>\n",
       "      <td>0.603363</td>\n",
       "      <td>12.888984</td>\n",
       "    </tr>\n",
       "    <tr>\n",
       "      <th>218221</th>\n",
       "      <td>0</td>\n",
       "      <td>2</td>\n",
       "      <td>2021</td>\n",
       "      <td>4</td>\n",
       "      <td>353337.560204</td>\n",
       "      <td>0</td>\n",
       "      <td>347170.0</td>\n",
       "      <td>353337.560204</td>\n",
       "      <td>53.286440</td>\n",
       "      <td>-6.434182</td>\n",
       "      <td>14.334534</td>\n",
       "      <td>0.327067</td>\n",
       "      <td>6.770860</td>\n",
       "      <td>2.355995</td>\n",
       "      <td>12.744948</td>\n",
       "    </tr>\n",
       "  </tbody>\n",
       "</table>\n",
       "</div>"
      ],
      "text/plain": [
       "        UsedProperty  Property Size Description  Year  Month           Town  \\\n",
       "218206             0                          2  2021      4  353337.560204   \n",
       "218208             0                          2  2021      4  353337.560204   \n",
       "218210             0                          2  2021      4  386055.391429   \n",
       "218212             0                          2  2021      4  350601.406947   \n",
       "218221             0                          2  2021      4  353337.560204   \n",
       "\n",
       "        Apartment  Neighbourhood        Eircode   Latitude  Longitude  \\\n",
       "218206          0       347170.0  353337.560204  53.287576  -6.433316   \n",
       "218208          0       347170.0  353337.560204  53.286440  -6.434182   \n",
       "218210          0       358320.0  333925.603283  53.397993  -6.127101   \n",
       "218212          0       379563.0  333925.603283  53.404602  -6.154503   \n",
       "218221          0       347170.0  353337.560204  53.286440  -6.434182   \n",
       "\n",
       "        DistanceIFSC  DistanceSchool  DistancePark  DistanceSecSchool  \\\n",
       "218206     14.222797        0.465772      6.634032           2.349923   \n",
       "218208     14.334534        0.327067      6.770860           2.355995   \n",
       "218210      9.553714        0.383226      1.822449           0.258992   \n",
       "218212      8.626190        0.776872      0.417361           0.603363   \n",
       "218221     14.334534        0.327067      6.770860           2.355995   \n",
       "\n",
       "        LogPrice (€)  \n",
       "218206     12.716376  \n",
       "218208     12.838977  \n",
       "218210     13.164398  \n",
       "218212     12.888984  \n",
       "218221     12.744948  "
      ]
     },
     "execution_count": 35,
     "metadata": {},
     "output_type": "execute_result"
    }
   ],
   "source": [
    "#test_21 = test_21.sample(n = 15000)\n",
    "test_21.head()"
   ]
  },
  {
   "cell_type": "code",
   "execution_count": 36,
   "id": "d0b79fe2",
   "metadata": {},
   "outputs": [],
   "source": [
    "x_test_21 = test_21.loc[:, test_21.columns != 'LogPrice (€)']\n",
    "y_test_21 = test_21['LogPrice (€)']"
   ]
  },
  {
   "cell_type": "code",
   "execution_count": 37,
   "id": "c0e493cb",
   "metadata": {},
   "outputs": [
    {
     "name": "stdout",
     "output_type": "stream",
     "text": [
      "AutoML directory: AutoML_2\n",
      "The task is regression with evaluation metric rmse\n",
      "AutoML will use algorithms: ['Baseline', 'Linear', 'Decision Tree', 'Random Forest', 'Xgboost', 'Neural Network']\n",
      "AutoML will ensemble available models\n",
      "AutoML steps: ['simple_algorithms', 'default_algorithms', 'ensemble']\n",
      "* Step simple_algorithms will try to check up to 3 models\n",
      "1_Baseline rmse 0.437877 trained in 1.18 seconds\n",
      "2_DecisionTree rmse 0.261823 trained in 5.24 seconds\n",
      "3_Linear rmse 0.259787 trained in 3.77 seconds\n",
      "* Step default_algorithms will try to check up to 3 models\n",
      "4_Default_Xgboost rmse 0.228031 trained in 6.18 seconds\n",
      "5_Default_NeuralNetwork rmse 0.244813 trained in 0.96 seconds\n",
      "6_Default_RandomForest rmse 0.242553 trained in 5.15 seconds\n",
      "* Step ensemble will try to check up to 1 model\n",
      "Ensemble rmse 0.22624 trained in 0.54 seconds\n",
      "AutoML fit time: 36.72 seconds\n",
      "AutoML best model: Ensemble\n"
     ]
    },
    {
     "data": {
      "text/plain": [
       "AutoML(explain_level=2, total_time_limit=300)"
      ]
     },
     "execution_count": 37,
     "metadata": {},
     "output_type": "execute_result"
    }
   ],
   "source": [
    "## explain_level gives information on feature importance when given value 1 or 2\n",
    "automl1 = AutoML(total_time_limit = 5 * 60, explain_level = 2)\n",
    "automl1.fit(x_train_21, y_train_21)"
   ]
  },
  {
   "cell_type": "code",
   "execution_count": 38,
   "id": "d4f2a436",
   "metadata": {},
   "outputs": [
    {
     "name": "stdout",
     "output_type": "stream",
     "text": [
      "MSE for AutoML 2021 is: 0.08626417800600801\n"
     ]
    }
   ],
   "source": [
    "# calculated values\n",
    "y_predicted_21 = automl1.predict(x_test_21)\n",
    "  \n",
    "# Calculation of Mean Squared Error (MSE)\n",
    "mse = mean_squared_error(y_test_21, y_predicted_21)\n",
    "print('MSE for AutoML 2021 is: ' + str(mse))"
   ]
  },
  {
   "cell_type": "code",
   "execution_count": 39,
   "id": "718fee9e",
   "metadata": {},
   "outputs": [
    {
     "name": "stdout",
     "output_type": "stream",
     "text": [
      "RMSE for AutoML 2021 is: 0.29370764036028757\n"
     ]
    }
   ],
   "source": [
    "rmse = mean_squared_error(y_test_21, y_predicted_21, squared=False)\n",
    "print('RMSE for AutoML 2021 is: ' + str(rmse))"
   ]
  },
  {
   "cell_type": "code",
   "execution_count": 40,
   "id": "2131bd5d",
   "metadata": {},
   "outputs": [
    {
     "name": "stdout",
     "output_type": "stream",
     "text": [
      "Accuracy of properties at +- 10% of actual prices is 0.5025380710659898\n"
     ]
    }
   ],
   "source": [
    "acc = accuracy_threshold(y_test_21, y_predicted_21, 0.1)\n",
    "print('Accuracy of properties at +- 10% of actual prices is ' + str(acc))"
   ]
  },
  {
   "cell_type": "code",
   "execution_count": 41,
   "id": "9521e57c",
   "metadata": {},
   "outputs": [
    {
     "name": "stdout",
     "output_type": "stream",
     "text": [
      "Accuracy of properties at +- 20% of actual prices is 0.7360406091370558\n"
     ]
    }
   ],
   "source": [
    "acc1 = accuracy_threshold(y_test_21, y_predicted_21, 0.20)\n",
    "print('Accuracy of properties at +- 20% of actual prices is ' + str(acc1))"
   ]
  },
  {
   "cell_type": "code",
   "execution_count": 42,
   "id": "5fe78f15",
   "metadata": {},
   "outputs": [
    {
     "name": "stdout",
     "output_type": "stream",
     "text": [
      "Median Absolute Error:\n",
      "\n",
      "0.09714048594281977\n"
     ]
    }
   ],
   "source": [
    "median_se = np.square(np.subtract(y_test_21, y_predicted_21)).median() \n",
    " \n",
    "med = math.sqrt(median_se)\n",
    "print(\"Median Absolute Error:\\n\")\n",
    "print(med)"
   ]
  },
  {
   "cell_type": "code",
   "execution_count": 43,
   "id": "b55c0957",
   "metadata": {},
   "outputs": [
    {
     "name": "stdout",
     "output_type": "stream",
     "text": [
      "MAPE for AutoML 2021 is: 0.013739288164974127\n"
     ]
    }
   ],
   "source": [
    "from sklearn.metrics import mean_absolute_percentage_error\n",
    "mape = mean_absolute_percentage_error(y_test_21, y_predicted_21)\n",
    "print(\"MAPE for AutoML 2021 is: \" + str(mape))"
   ]
  },
  {
   "cell_type": "code",
   "execution_count": 44,
   "id": "6e9ed327",
   "metadata": {},
   "outputs": [],
   "source": [
    "cnames=['Algorithm', 'Year', 'RMSE', 'MSE', 'MEDAE', 'Accuracy', 'MAPE']\n",
    "df11 = pd.DataFrame(columns=cnames)\n",
    "\n",
    "df11 = df11.append({'Algorithm': 'AutoML',\n",
    "            'Year': 2021,\n",
    "           'RMSE': rmse,\n",
    "           'MSE': mse,\n",
    "           'MEDAE': med,\n",
    "           'Accuracy': acc,\n",
    "           'MAPE': mape         \n",
    "          }, ignore_index=True)"
   ]
  },
  {
   "cell_type": "code",
   "execution_count": 45,
   "id": "bac5823b",
   "metadata": {},
   "outputs": [],
   "source": [
    "#cnames = ['Actual', 'Predicted']\n",
    "#dfreal1 = pd.DataFrame(columns = cnames)\n",
    "dfreal1 = pd.DataFrame(y_test_21.values)\n",
    "dfpred1 = pd.DataFrame(y_predicted_21)"
   ]
  },
  {
   "cell_type": "markdown",
   "id": "d081217e",
   "metadata": {},
   "source": [
    "### 2020 predictions"
   ]
  },
  {
   "cell_type": "code",
   "execution_count": 46,
   "id": "d6e48b79",
   "metadata": {},
   "outputs": [],
   "source": [
    "specific20 = irl[irl['Year'] > 2016]"
   ]
  },
  {
   "cell_type": "code",
   "execution_count": 47,
   "id": "315afd40",
   "metadata": {},
   "outputs": [],
   "source": [
    "test_20 = specific20[specific20['Year'] == 2020]\n",
    "train_20 = specific20[specific20['Year'] < 2020]"
   ]
  },
  {
   "cell_type": "code",
   "execution_count": 48,
   "id": "ef743c5f",
   "metadata": {},
   "outputs": [],
   "source": [
    "#train_20 = train_20.sample(n = 75000)"
   ]
  },
  {
   "cell_type": "code",
   "execution_count": 49,
   "id": "c9c2a103",
   "metadata": {},
   "outputs": [],
   "source": [
    "x_train_20 = train_20.loc[:, train_20.columns != 'LogPrice (€)']\n",
    "y_train_20 = train_20['LogPrice (€)']"
   ]
  },
  {
   "cell_type": "code",
   "execution_count": 50,
   "id": "23cef19c",
   "metadata": {},
   "outputs": [],
   "source": [
    "x_test_20 = test_20.loc[:, test_20.columns != 'LogPrice (€)']\n",
    "y_test_20 = test_20['LogPrice (€)']"
   ]
  },
  {
   "cell_type": "code",
   "execution_count": 51,
   "id": "489501e2",
   "metadata": {},
   "outputs": [
    {
     "name": "stdout",
     "output_type": "stream",
     "text": [
      "AutoML directory: AutoML_3\n",
      "The task is regression with evaluation metric rmse\n",
      "AutoML will use algorithms: ['Baseline', 'Linear', 'Decision Tree', 'Random Forest', 'Xgboost', 'Neural Network']\n",
      "AutoML will ensemble available models\n",
      "AutoML steps: ['simple_algorithms', 'default_algorithms', 'ensemble']\n",
      "* Step simple_algorithms will try to check up to 3 models\n",
      "1_Baseline rmse 0.426168 trained in 1.21 seconds\n",
      "2_DecisionTree rmse 0.263379 trained in 5.87 seconds\n",
      "3_Linear rmse 0.277869 trained in 4.42 seconds\n",
      "* Step default_algorithms will try to check up to 3 models\n",
      "4_Default_Xgboost rmse 0.238112 trained in 6.58 seconds\n",
      "5_Default_NeuralNetwork rmse 0.261129 trained in 1.72 seconds\n",
      "6_Default_RandomForest rmse 0.245379 trained in 6.32 seconds\n",
      "* Step ensemble will try to check up to 1 model\n",
      "Ensemble rmse 0.235522 trained in 0.48 seconds\n",
      "AutoML fit time: 43.39 seconds\n",
      "AutoML best model: Ensemble\n"
     ]
    },
    {
     "data": {
      "text/plain": [
       "AutoML(explain_level=2, total_time_limit=300)"
      ]
     },
     "execution_count": 51,
     "metadata": {},
     "output_type": "execute_result"
    }
   ],
   "source": [
    "automl2 = AutoML(total_time_limit = 5 * 60, explain_level = 2)\n",
    "automl2.fit(x_train_20, y_train_20)"
   ]
  },
  {
   "cell_type": "code",
   "execution_count": 52,
   "id": "614a3cad",
   "metadata": {},
   "outputs": [
    {
     "name": "stdout",
     "output_type": "stream",
     "text": [
      "MSE for AutoML 2020 is: 0.060522770674848174\n"
     ]
    }
   ],
   "source": [
    "# calculated values\n",
    "y_predicted_20 = automl2.predict(x_test_20)\n",
    "  \n",
    "# Calculation of Mean Squared Error (MSE)\n",
    "mse = mean_squared_error(y_test_20,y_predicted_20)\n",
    "print('MSE for AutoML 2020 is: ' + str(mse))"
   ]
  },
  {
   "cell_type": "code",
   "execution_count": 53,
   "id": "8e4a25f6",
   "metadata": {},
   "outputs": [
    {
     "name": "stdout",
     "output_type": "stream",
     "text": [
      "RMSE for AutoML 2020 is: 0.24601376114934745\n"
     ]
    }
   ],
   "source": [
    "rmse = mean_squared_error(y_test_20, y_predicted_20, squared=False)\n",
    "print('RMSE for AutoML 2020 is: ' + str(rmse))"
   ]
  },
  {
   "cell_type": "code",
   "execution_count": 54,
   "id": "720e2b2e",
   "metadata": {},
   "outputs": [
    {
     "name": "stdout",
     "output_type": "stream",
     "text": [
      "Accuracy of properties at +- 10% of actual prices is 0.5247208931419458\n"
     ]
    }
   ],
   "source": [
    "acc = accuracy_threshold(y_test_20, y_predicted_20, 0.1)\n",
    "print('Accuracy of properties at +- 10% of actual prices is ' + str(acc))"
   ]
  },
  {
   "cell_type": "code",
   "execution_count": 55,
   "id": "2c03aba3",
   "metadata": {},
   "outputs": [
    {
     "name": "stdout",
     "output_type": "stream",
     "text": [
      "Accuracy of properties at +- 20% of actual prices is 0.7527910685805422\n"
     ]
    }
   ],
   "source": [
    "acc1 = accuracy_threshold(y_test_20, y_predicted_20, 0.2)\n",
    "print('Accuracy of properties at +- 20% of actual prices is ' + str(acc1))"
   ]
  },
  {
   "cell_type": "code",
   "execution_count": 56,
   "id": "a7924ad0",
   "metadata": {},
   "outputs": [
    {
     "name": "stdout",
     "output_type": "stream",
     "text": [
      "Median Absolute Error:\n",
      "\n",
      "0.09851812271126548\n"
     ]
    }
   ],
   "source": [
    "print(\"Median Absolute Error:\\n\")\n",
    "print(median_absolute_error(y_test_20, y_predicted_20))"
   ]
  },
  {
   "cell_type": "code",
   "execution_count": 57,
   "id": "18076ebd",
   "metadata": {},
   "outputs": [
    {
     "name": "stdout",
     "output_type": "stream",
     "text": [
      "MAPE for AutoML 2020 is: 0.012412643006640632\n"
     ]
    }
   ],
   "source": [
    "mape = mean_absolute_percentage_error(y_test_20, y_predicted_20)\n",
    "print(\"MAPE for AutoML 2020 is: \" + str(mape))"
   ]
  },
  {
   "cell_type": "code",
   "execution_count": 58,
   "id": "3ee1861f",
   "metadata": {},
   "outputs": [],
   "source": [
    "cnames = ['Algorithm', 'Year', 'RMSE', 'MSE', 'MEDAE', 'Accuracy', 'MAPE']\n",
    "df10 = pd.DataFrame(columns=cnames)\n",
    "\n",
    "df10 = df10.append({'Algorithm': 'AutoML',\n",
    "            'Year': 2020,\n",
    "           'RMSE': rmse,\n",
    "           'MSE': mse,\n",
    "           'MEDAE': med,\n",
    "           'Accuracy': acc,\n",
    "           'MAPE': mape\n",
    "          }, ignore_index=True)"
   ]
  },
  {
   "cell_type": "code",
   "execution_count": 59,
   "id": "16a86bf8",
   "metadata": {},
   "outputs": [
    {
     "data": {
      "text/html": [
       "<div>\n",
       "<style scoped>\n",
       "    .dataframe tbody tr th:only-of-type {\n",
       "        vertical-align: middle;\n",
       "    }\n",
       "\n",
       "    .dataframe tbody tr th {\n",
       "        vertical-align: top;\n",
       "    }\n",
       "\n",
       "    .dataframe thead th {\n",
       "        text-align: right;\n",
       "    }\n",
       "</style>\n",
       "<table border=\"1\" class=\"dataframe\">\n",
       "  <thead>\n",
       "    <tr style=\"text-align: right;\">\n",
       "      <th></th>\n",
       "      <th>UsedProperty</th>\n",
       "      <th>Property Size Description</th>\n",
       "      <th>Year</th>\n",
       "      <th>Month</th>\n",
       "      <th>Town</th>\n",
       "      <th>Apartment</th>\n",
       "      <th>Neighbourhood</th>\n",
       "      <th>Eircode</th>\n",
       "      <th>Latitude</th>\n",
       "      <th>Longitude</th>\n",
       "      <th>DistanceIFSC</th>\n",
       "      <th>DistanceSchool</th>\n",
       "      <th>DistancePark</th>\n",
       "      <th>DistanceSecSchool</th>\n",
       "    </tr>\n",
       "  </thead>\n",
       "  <tbody>\n",
       "    <tr>\n",
       "      <th>0</th>\n",
       "      <td>1</td>\n",
       "      <td>1</td>\n",
       "      <td>2020</td>\n",
       "      <td>1</td>\n",
       "      <td>3.860554e+05</td>\n",
       "      <td>0</td>\n",
       "      <td>358320.0</td>\n",
       "      <td>333925.603283</td>\n",
       "      <td>53.401554</td>\n",
       "      <td>-6.142369</td>\n",
       "      <td>8.987333</td>\n",
       "      <td>0.872126</td>\n",
       "      <td>0.966110</td>\n",
       "      <td>0.973263</td>\n",
       "    </tr>\n",
       "    <tr>\n",
       "      <th>1</th>\n",
       "      <td>1</td>\n",
       "      <td>1</td>\n",
       "      <td>2020</td>\n",
       "      <td>1</td>\n",
       "      <td>4.608544e+05</td>\n",
       "      <td>1</td>\n",
       "      <td>465642.0</td>\n",
       "      <td>460854.419494</td>\n",
       "      <td>53.278220</td>\n",
       "      <td>-6.215623</td>\n",
       "      <td>8.165170</td>\n",
       "      <td>0.671500</td>\n",
       "      <td>4.581569</td>\n",
       "      <td>0.367361</td>\n",
       "    </tr>\n",
       "    <tr>\n",
       "      <th>2</th>\n",
       "      <td>0</td>\n",
       "      <td>1</td>\n",
       "      <td>2020</td>\n",
       "      <td>1</td>\n",
       "      <td>3.533376e+05</td>\n",
       "      <td>0</td>\n",
       "      <td>373223.0</td>\n",
       "      <td>353337.560204</td>\n",
       "      <td>53.287170</td>\n",
       "      <td>-6.433778</td>\n",
       "      <td>14.271496</td>\n",
       "      <td>0.411923</td>\n",
       "      <td>6.688568</td>\n",
       "      <td>2.360507</td>\n",
       "    </tr>\n",
       "    <tr>\n",
       "      <th>3</th>\n",
       "      <td>1</td>\n",
       "      <td>1</td>\n",
       "      <td>2020</td>\n",
       "      <td>1</td>\n",
       "      <td>2.626769e+05</td>\n",
       "      <td>0</td>\n",
       "      <td>249292.0</td>\n",
       "      <td>411979.725512</td>\n",
       "      <td>53.400412</td>\n",
       "      <td>-6.257995</td>\n",
       "      <td>5.729754</td>\n",
       "      <td>0.356385</td>\n",
       "      <td>0.348535</td>\n",
       "      <td>0.468681</td>\n",
       "    </tr>\n",
       "    <tr>\n",
       "      <th>4</th>\n",
       "      <td>0</td>\n",
       "      <td>1</td>\n",
       "      <td>2020</td>\n",
       "      <td>1</td>\n",
       "      <td>4.404562e+05</td>\n",
       "      <td>0</td>\n",
       "      <td>430431.0</td>\n",
       "      <td>440456.154028</td>\n",
       "      <td>53.481426</td>\n",
       "      <td>-6.152438</td>\n",
       "      <td>15.933497</td>\n",
       "      <td>0.984305</td>\n",
       "      <td>8.469886</td>\n",
       "      <td>2.690280</td>\n",
       "    </tr>\n",
       "    <tr>\n",
       "      <th>...</th>\n",
       "      <td>...</td>\n",
       "      <td>...</td>\n",
       "      <td>...</td>\n",
       "      <td>...</td>\n",
       "      <td>...</td>\n",
       "      <td>...</td>\n",
       "      <td>...</td>\n",
       "      <td>...</td>\n",
       "      <td>...</td>\n",
       "      <td>...</td>\n",
       "      <td>...</td>\n",
       "      <td>...</td>\n",
       "      <td>...</td>\n",
       "      <td>...</td>\n",
       "    </tr>\n",
       "    <tr>\n",
       "      <th>622</th>\n",
       "      <td>1</td>\n",
       "      <td>2</td>\n",
       "      <td>2020</td>\n",
       "      <td>11</td>\n",
       "      <td>3.323984e+05</td>\n",
       "      <td>0</td>\n",
       "      <td>368056.0</td>\n",
       "      <td>332398.386637</td>\n",
       "      <td>53.337031</td>\n",
       "      <td>-6.456940</td>\n",
       "      <td>14.079730</td>\n",
       "      <td>0.180497</td>\n",
       "      <td>5.290860</td>\n",
       "      <td>1.356490</td>\n",
       "    </tr>\n",
       "    <tr>\n",
       "      <th>623</th>\n",
       "      <td>0</td>\n",
       "      <td>2</td>\n",
       "      <td>2020</td>\n",
       "      <td>12</td>\n",
       "      <td>5.859559e+05</td>\n",
       "      <td>0</td>\n",
       "      <td>599073.0</td>\n",
       "      <td>794885.173096</td>\n",
       "      <td>53.255027</td>\n",
       "      <td>-6.147053</td>\n",
       "      <td>12.378025</td>\n",
       "      <td>0.892319</td>\n",
       "      <td>1.511927</td>\n",
       "      <td>1.557293</td>\n",
       "    </tr>\n",
       "    <tr>\n",
       "      <th>624</th>\n",
       "      <td>1</td>\n",
       "      <td>2</td>\n",
       "      <td>2020</td>\n",
       "      <td>12</td>\n",
       "      <td>1.137529e+06</td>\n",
       "      <td>0</td>\n",
       "      <td>1774756.0</td>\n",
       "      <td>794885.173096</td>\n",
       "      <td>53.284876</td>\n",
       "      <td>-6.117710</td>\n",
       "      <td>11.132583</td>\n",
       "      <td>0.472011</td>\n",
       "      <td>2.611803</td>\n",
       "      <td>0.622215</td>\n",
       "    </tr>\n",
       "    <tr>\n",
       "      <th>625</th>\n",
       "      <td>1</td>\n",
       "      <td>2</td>\n",
       "      <td>2020</td>\n",
       "      <td>11</td>\n",
       "      <td>5.201112e+05</td>\n",
       "      <td>0</td>\n",
       "      <td>545398.0</td>\n",
       "      <td>794885.173096</td>\n",
       "      <td>53.245058</td>\n",
       "      <td>-6.135482</td>\n",
       "      <td>13.726257</td>\n",
       "      <td>0.664591</td>\n",
       "      <td>2.711751</td>\n",
       "      <td>0.477108</td>\n",
       "    </tr>\n",
       "    <tr>\n",
       "      <th>626</th>\n",
       "      <td>1</td>\n",
       "      <td>2</td>\n",
       "      <td>2020</td>\n",
       "      <td>12</td>\n",
       "      <td>2.079134e+05</td>\n",
       "      <td>0</td>\n",
       "      <td>187567.0</td>\n",
       "      <td>207913.355396</td>\n",
       "      <td>53.402344</td>\n",
       "      <td>-6.287125</td>\n",
       "      <td>6.492882</td>\n",
       "      <td>1.081832</td>\n",
       "      <td>0.529914</td>\n",
       "      <td>1.477684</td>\n",
       "    </tr>\n",
       "  </tbody>\n",
       "</table>\n",
       "<p>627 rows × 14 columns</p>\n",
       "</div>"
      ],
      "text/plain": [
       "     UsedProperty  Property Size Description  Year  Month          Town  \\\n",
       "0               1                          1  2020      1  3.860554e+05   \n",
       "1               1                          1  2020      1  4.608544e+05   \n",
       "2               0                          1  2020      1  3.533376e+05   \n",
       "3               1                          1  2020      1  2.626769e+05   \n",
       "4               0                          1  2020      1  4.404562e+05   \n",
       "..            ...                        ...   ...    ...           ...   \n",
       "622             1                          2  2020     11  3.323984e+05   \n",
       "623             0                          2  2020     12  5.859559e+05   \n",
       "624             1                          2  2020     12  1.137529e+06   \n",
       "625             1                          2  2020     11  5.201112e+05   \n",
       "626             1                          2  2020     12  2.079134e+05   \n",
       "\n",
       "     Apartment  Neighbourhood        Eircode   Latitude  Longitude  \\\n",
       "0            0       358320.0  333925.603283  53.401554  -6.142369   \n",
       "1            1       465642.0  460854.419494  53.278220  -6.215623   \n",
       "2            0       373223.0  353337.560204  53.287170  -6.433778   \n",
       "3            0       249292.0  411979.725512  53.400412  -6.257995   \n",
       "4            0       430431.0  440456.154028  53.481426  -6.152438   \n",
       "..         ...            ...            ...        ...        ...   \n",
       "622          0       368056.0  332398.386637  53.337031  -6.456940   \n",
       "623          0       599073.0  794885.173096  53.255027  -6.147053   \n",
       "624          0      1774756.0  794885.173096  53.284876  -6.117710   \n",
       "625          0       545398.0  794885.173096  53.245058  -6.135482   \n",
       "626          0       187567.0  207913.355396  53.402344  -6.287125   \n",
       "\n",
       "     DistanceIFSC  DistanceSchool  DistancePark  DistanceSecSchool  \n",
       "0        8.987333        0.872126      0.966110           0.973263  \n",
       "1        8.165170        0.671500      4.581569           0.367361  \n",
       "2       14.271496        0.411923      6.688568           2.360507  \n",
       "3        5.729754        0.356385      0.348535           0.468681  \n",
       "4       15.933497        0.984305      8.469886           2.690280  \n",
       "..            ...             ...           ...                ...  \n",
       "622     14.079730        0.180497      5.290860           1.356490  \n",
       "623     12.378025        0.892319      1.511927           1.557293  \n",
       "624     11.132583        0.472011      2.611803           0.622215  \n",
       "625     13.726257        0.664591      2.711751           0.477108  \n",
       "626      6.492882        1.081832      0.529914           1.477684  \n",
       "\n",
       "[627 rows x 14 columns]"
      ]
     },
     "execution_count": 59,
     "metadata": {},
     "output_type": "execute_result"
    }
   ],
   "source": [
    "x_test_20"
   ]
  },
  {
   "cell_type": "code",
   "execution_count": 60,
   "id": "d3e9a667",
   "metadata": {},
   "outputs": [],
   "source": [
    "#cnames = ['Actual', 'Predicted']\n",
    "#dfreal2 = pd.DataFrame(columns = cnames)\n",
    "dfreal2 = pd.DataFrame(y_test_20.values)\n",
    "dfpred2 = pd.DataFrame(y_predicted_20)\n",
    "#dfreal2 = pd.concat([z1, z2], ignore_index=True)"
   ]
  },
  {
   "cell_type": "markdown",
   "id": "74228ee8",
   "metadata": {},
   "source": [
    "### Multiple Linear Regression"
   ]
  },
  {
   "cell_type": "markdown",
   "id": "0c6586a2",
   "metadata": {},
   "source": [
    "Next, I will try implement some algorithms not specified in our autoML library which so far has only utilised XgBoost, Random Forest, Decison Tree and ensemble algorithms. I will attempt to implement other ML algorithms such as multiple linear regression and adaboost among others."
   ]
  },
  {
   "cell_type": "markdown",
   "id": "07c29198",
   "metadata": {},
   "source": [
    "There is a couple of different libraries we can use here for linear regression:\n",
    "- Sci-kit learn's linear model library\n",
    "- Statsmodel\n",
    "\n",
    "For the purpose of this I will remain consistent with the use of the sci-kit learn libraries."
   ]
  },
  {
   "cell_type": "code",
   "execution_count": 61,
   "id": "2b68d852",
   "metadata": {},
   "outputs": [],
   "source": [
    "from sklearn import linear_model"
   ]
  },
  {
   "cell_type": "markdown",
   "id": "130a989d",
   "metadata": {},
   "source": [
    "#### Let's try predict our 2021 values again using MLR"
   ]
  },
  {
   "cell_type": "code",
   "execution_count": 62,
   "id": "7d5c0fca",
   "metadata": {},
   "outputs": [
    {
     "data": {
      "text/plain": [
       "LinearRegression()"
      ]
     },
     "execution_count": 62,
     "metadata": {},
     "output_type": "execute_result"
    }
   ],
   "source": [
    "lm = linear_model.LinearRegression()\n",
    "lm.fit(x_train_21, y_train_21) # fitting the model"
   ]
  },
  {
   "cell_type": "code",
   "execution_count": 63,
   "id": "f263e379",
   "metadata": {},
   "outputs": [
    {
     "name": "stdout",
     "output_type": "stream",
     "text": [
      "MSE for MLR 2021 is: 0.09346452989943344\n"
     ]
    }
   ],
   "source": [
    "y_pred_21 = lm.predict(x_test_21)\n",
    "# Calculation of Mean Squared Error (MSE)\n",
    "mse = mean_squared_error(y_test_21,y_pred_21)\n",
    "print('MSE for MLR 2021 is: ' + str(mse))"
   ]
  },
  {
   "cell_type": "code",
   "execution_count": 64,
   "id": "73543343",
   "metadata": {},
   "outputs": [
    {
     "name": "stdout",
     "output_type": "stream",
     "text": [
      "Accuracy of properties at +- 10% of actual prices is 0.48223350253807107\n"
     ]
    }
   ],
   "source": [
    "acc = accuracy_threshold(y_test_21, y_pred_21, 0.1)\n",
    "print('Accuracy of properties at +- 10% of actual prices is ' + str(acc))"
   ]
  },
  {
   "cell_type": "code",
   "execution_count": 65,
   "id": "01de429f",
   "metadata": {},
   "outputs": [
    {
     "name": "stdout",
     "output_type": "stream",
     "text": [
      "Accuracy of properties at +- 20% of actual prices is 0.7055837563451777\n"
     ]
    }
   ],
   "source": [
    "acc1 = accuracy_threshold(y_test_21, y_pred_21, 0.20)\n",
    "print('Accuracy of properties at +- 20% of actual prices is ' + str(acc1))"
   ]
  },
  {
   "cell_type": "code",
   "execution_count": 66,
   "id": "f1dc8944",
   "metadata": {},
   "outputs": [
    {
     "name": "stdout",
     "output_type": "stream",
     "text": [
      "Median Absolute Error:\n",
      "\n",
      "0.10950094232724616\n"
     ]
    }
   ],
   "source": [
    "median_se = np.square(np.subtract(y_test_21,y_pred_21)).median() \n",
    " \n",
    "med = math.sqrt(median_se)\n",
    "print(\"Median Absolute Error:\\n\")\n",
    "print(med)"
   ]
  },
  {
   "cell_type": "code",
   "execution_count": 67,
   "id": "b1472e99",
   "metadata": {},
   "outputs": [
    {
     "name": "stdout",
     "output_type": "stream",
     "text": [
      "Root Mean Square Error:\n",
      "\n",
      "0.3057196917102879\n"
     ]
    }
   ],
   "source": [
    "mean = np.square(np.subtract(y_test_21,y_pred_21)).mean() \n",
    " \n",
    "mean = math.sqrt(mean)\n",
    "print(\"Root Mean Square Error:\\n\")\n",
    "print(mean)"
   ]
  },
  {
   "cell_type": "code",
   "execution_count": 68,
   "id": "c7dd3250",
   "metadata": {},
   "outputs": [
    {
     "name": "stdout",
     "output_type": "stream",
     "text": [
      "MAPE for MLR 2021 is: 0.0146696335165099\n"
     ]
    }
   ],
   "source": [
    "mape = mean_absolute_percentage_error(y_test_21, y_pred_21)\n",
    "print(\"MAPE for MLR 2021 is: \" + str(mape))"
   ]
  },
  {
   "cell_type": "code",
   "execution_count": 69,
   "id": "2b29c4f2",
   "metadata": {},
   "outputs": [],
   "source": [
    "cnames=['Algorithm', 'Year', 'RMSE', 'MSE', 'MEDAE', 'Accuracy', 'MAPE']\n",
    "df9 = pd.DataFrame(columns=cnames)\n",
    "\n",
    "df9 = df9.append({'Algorithm': 'MLR',\n",
    "            'Year': 2021,\n",
    "           'RMSE': mean,\n",
    "           'MSE': mse,\n",
    "           'MEDAE': med,\n",
    "           'Accuracy': acc,\n",
    "           'MAPE': mape       \n",
    "          }, ignore_index=True)"
   ]
  },
  {
   "cell_type": "markdown",
   "id": "f971bf25",
   "metadata": {},
   "source": [
    "### 2020 predictions"
   ]
  },
  {
   "cell_type": "code",
   "execution_count": 70,
   "id": "a14bd756",
   "metadata": {},
   "outputs": [
    {
     "data": {
      "text/plain": [
       "LinearRegression()"
      ]
     },
     "execution_count": 70,
     "metadata": {},
     "output_type": "execute_result"
    }
   ],
   "source": [
    "lm = linear_model.LinearRegression()\n",
    "lm.fit(x_train_20, y_train_20) # fitting the model"
   ]
  },
  {
   "cell_type": "code",
   "execution_count": 71,
   "id": "ebe7da38",
   "metadata": {},
   "outputs": [
    {
     "name": "stdout",
     "output_type": "stream",
     "text": [
      "MSE for MLR 2020 is: 0.06997893278717102\n"
     ]
    }
   ],
   "source": [
    "y_pred_20 = lm.predict(x_test_20)\n",
    "# Calculation of Mean Squared Error (MSE)\n",
    "mse = mean_squared_error(y_test_20, y_pred_20)\n",
    "print('MSE for MLR 2020 is: ' + str(mse))"
   ]
  },
  {
   "cell_type": "code",
   "execution_count": 72,
   "id": "94e183b3",
   "metadata": {},
   "outputs": [
    {
     "name": "stdout",
     "output_type": "stream",
     "text": [
      "Accuracy of properties at +- 10% of actual prices is 0.41467304625199364\n"
     ]
    }
   ],
   "source": [
    "acc = accuracy_threshold(y_test_20, y_pred_20, 0.1)\n",
    "print('Accuracy of properties at +- 10% of actual prices is ' + str(acc))"
   ]
  },
  {
   "cell_type": "code",
   "execution_count": 73,
   "id": "52735367",
   "metadata": {},
   "outputs": [
    {
     "name": "stdout",
     "output_type": "stream",
     "text": [
      "Accuracy of properties at +- 15% of actual prices is 0.5406698564593302\n"
     ]
    }
   ],
   "source": [
    "acc1 = accuracy_threshold(y_test_20, y_pred_20, 0.15)\n",
    "print('Accuracy of properties at +- 15% of actual prices is ' + str(acc1))"
   ]
  },
  {
   "cell_type": "code",
   "execution_count": 74,
   "id": "849311be",
   "metadata": {},
   "outputs": [
    {
     "name": "stdout",
     "output_type": "stream",
     "text": [
      "Median Absolute Error:\n",
      "\n",
      "0.13017858778948366\n"
     ]
    }
   ],
   "source": [
    "median_se = np.square(np.subtract(y_test_20, y_pred_20)).median() \n",
    " \n",
    "med = math.sqrt(median_se)\n",
    "print(\"Median Absolute Error:\\n\")\n",
    "print(med)"
   ]
  },
  {
   "cell_type": "code",
   "execution_count": 75,
   "id": "513d7076",
   "metadata": {},
   "outputs": [
    {
     "name": "stdout",
     "output_type": "stream",
     "text": [
      "Root Mean Square Error:\n",
      "\n",
      "0.2645353148204809\n"
     ]
    }
   ],
   "source": [
    "mean = np.square(np.subtract(y_test_20, y_pred_20)).mean() \n",
    " \n",
    "mean = math.sqrt(mean)\n",
    "print(\"Root Mean Square Error:\\n\")\n",
    "print(mean)"
   ]
  },
  {
   "cell_type": "code",
   "execution_count": 76,
   "id": "b604c388",
   "metadata": {},
   "outputs": [
    {
     "name": "stdout",
     "output_type": "stream",
     "text": [
      "MAPE for MLR 2020 is: 0.014156547938313167\n"
     ]
    }
   ],
   "source": [
    "mape = mean_absolute_percentage_error(y_test_20, y_pred_20)\n",
    "print(\"MAPE for MLR 2020 is: \" + str(mape))"
   ]
  },
  {
   "cell_type": "code",
   "execution_count": 77,
   "id": "0133f359",
   "metadata": {},
   "outputs": [],
   "source": [
    "cnames=['Algorithm', 'Year', 'RMSE', 'MSE', 'MEDAE', 'Accuracy', 'MAPE']\n",
    "df8 = pd.DataFrame(columns=cnames)\n",
    "\n",
    "df8 = df8.append({'Algorithm': 'MLR',\n",
    "            'Year': 2020,\n",
    "           'RMSE': mean,\n",
    "           'MSE': mse,\n",
    "           'MEDAE': med,\n",
    "           'Accuracy': acc,\n",
    "           'MAPE': mape       \n",
    "          }, ignore_index=True)"
   ]
  },
  {
   "cell_type": "markdown",
   "id": "47a04928",
   "metadata": {},
   "source": [
    "### Adaboost"
   ]
  },
  {
   "cell_type": "markdown",
   "id": "5daebee4",
   "metadata": {},
   "source": [
    "#### 2021 Predictions"
   ]
  },
  {
   "cell_type": "code",
   "execution_count": 78,
   "id": "e573a23c",
   "metadata": {},
   "outputs": [],
   "source": [
    "from sklearn.ensemble import AdaBoostRegressor\n",
    "from sklearn.datasets import make_regression"
   ]
  },
  {
   "cell_type": "code",
   "execution_count": 79,
   "id": "21cfd588",
   "metadata": {},
   "outputs": [],
   "source": [
    "model = AdaBoostRegressor()"
   ]
  },
  {
   "cell_type": "code",
   "execution_count": 80,
   "id": "9abf8264",
   "metadata": {},
   "outputs": [
    {
     "data": {
      "text/plain": [
       "AdaBoostRegressor()"
      ]
     },
     "execution_count": 80,
     "metadata": {},
     "output_type": "execute_result"
    }
   ],
   "source": [
    "model.fit(x_train_21, y_train_21)"
   ]
  },
  {
   "cell_type": "code",
   "execution_count": 81,
   "id": "ecb42e2c",
   "metadata": {},
   "outputs": [
    {
     "name": "stdout",
     "output_type": "stream",
     "text": [
      "MSE for AdaBoost 2021 is: 0.11992968486430097\n"
     ]
    }
   ],
   "source": [
    "y_pred_21 = model.predict(x_test_21)\n",
    "# Calculation of Mean Squared Error (MSE)\n",
    "mse = mean_squared_error(y_test_21,y_pred_21)\n",
    "print('MSE for AdaBoost 2021 is: ' + str(mse))"
   ]
  },
  {
   "cell_type": "code",
   "execution_count": 82,
   "id": "01b0ca20",
   "metadata": {},
   "outputs": [
    {
     "name": "stdout",
     "output_type": "stream",
     "text": [
      "Accuracy of properties at +- 10% of actual prices is 0.3299492385786802\n"
     ]
    }
   ],
   "source": [
    "acc = accuracy_threshold(y_test_21, y_pred_21, 0.1)\n",
    "print('Accuracy of properties at +- 10% of actual prices is ' + str(acc))"
   ]
  },
  {
   "cell_type": "code",
   "execution_count": 83,
   "id": "f6961e9e",
   "metadata": {},
   "outputs": [
    {
     "name": "stdout",
     "output_type": "stream",
     "text": [
      "Accuracy of properties at +- 20% of actual prices is 0.6192893401015228\n"
     ]
    }
   ],
   "source": [
    "acc1 = accuracy_threshold(y_test_21, y_pred_21, 0.20)\n",
    "print('Accuracy of properties at +- 20% of actual prices is ' + str(acc1))"
   ]
  },
  {
   "cell_type": "code",
   "execution_count": 84,
   "id": "38743392",
   "metadata": {},
   "outputs": [
    {
     "name": "stdout",
     "output_type": "stream",
     "text": [
      "Median Absolute Error:\n",
      "\n",
      "0.1601457362230665\n"
     ]
    }
   ],
   "source": [
    "median_se = np.square(np.subtract(y_test_21, y_pred_21)).median() \n",
    " \n",
    "med = math.sqrt(median_se)\n",
    "print(\"Median Absolute Error:\\n\")\n",
    "print(med)"
   ]
  },
  {
   "cell_type": "code",
   "execution_count": 85,
   "id": "ac047411",
   "metadata": {},
   "outputs": [
    {
     "name": "stdout",
     "output_type": "stream",
     "text": [
      "Root Mean Square Error:\n",
      "\n",
      "0.3463086554856822\n"
     ]
    }
   ],
   "source": [
    "mean = np.square(np.subtract(y_test_21, y_pred_21)).mean() \n",
    " \n",
    "mean = math.sqrt(mean)\n",
    "print(\"Root Mean Square Error:\\n\")\n",
    "print(mean)"
   ]
  },
  {
   "cell_type": "code",
   "execution_count": 86,
   "id": "95ff4f12",
   "metadata": {},
   "outputs": [
    {
     "name": "stdout",
     "output_type": "stream",
     "text": [
      "MAPE for AdaBoost 2021 is: 0.018000178785708386\n"
     ]
    }
   ],
   "source": [
    "mape = mean_absolute_percentage_error(y_test_21, y_pred_21)\n",
    "print(\"MAPE for AdaBoost 2021 is: \" + str(mape))"
   ]
  },
  {
   "cell_type": "code",
   "execution_count": 87,
   "id": "935683db",
   "metadata": {},
   "outputs": [],
   "source": [
    "cnames=['Algorithm', 'Year', 'RMSE', 'MSE', 'MEDAE', 'Accuracy', 'MAPE']\n",
    "df7 = pd.DataFrame(columns=cnames)\n",
    "\n",
    "df7 = df7.append({'Algorithm': 'AdaBoost',\n",
    "            'Year': 2021,\n",
    "           'RMSE': mean,\n",
    "           'MSE': mse,\n",
    "           'MEDAE': med,\n",
    "           'Accuracy': acc,\n",
    "           'MAPE': mape       \n",
    "          }, ignore_index=True)"
   ]
  },
  {
   "cell_type": "markdown",
   "id": "b8a62354",
   "metadata": {},
   "source": [
    "#### 2020 Predictions"
   ]
  },
  {
   "cell_type": "code",
   "execution_count": 88,
   "id": "91a5776a",
   "metadata": {},
   "outputs": [
    {
     "data": {
      "text/plain": [
       "AdaBoostRegressor()"
      ]
     },
     "execution_count": 88,
     "metadata": {},
     "output_type": "execute_result"
    }
   ],
   "source": [
    "model = AdaBoostRegressor()\n",
    "model.fit(x_train_20, y_train_20)"
   ]
  },
  {
   "cell_type": "code",
   "execution_count": 89,
   "id": "bcc35421",
   "metadata": {},
   "outputs": [
    {
     "name": "stdout",
     "output_type": "stream",
     "text": [
      "MSE for AdaBoost 2020 is: 0.09754671939306724\n"
     ]
    }
   ],
   "source": [
    "y_pred_20 = model.predict(x_test_20)\n",
    "# Calculation of Mean Squared Error (MSE)\n",
    "mse = mean_squared_error(y_test_20, y_pred_20)\n",
    "print('MSE for AdaBoost 2020 is: ' + str(mse))"
   ]
  },
  {
   "cell_type": "code",
   "execution_count": 90,
   "id": "641cd557",
   "metadata": {},
   "outputs": [
    {
     "name": "stdout",
     "output_type": "stream",
     "text": [
      "Accuracy of properties at +- 10% of actual prices is 0.38118022328548645\n"
     ]
    }
   ],
   "source": [
    "acc = accuracy_threshold(y_test_20, y_pred_20, 0.1)\n",
    "print('Accuracy of properties at +- 10% of actual prices is ' + str(acc))"
   ]
  },
  {
   "cell_type": "code",
   "execution_count": 91,
   "id": "ab81180d",
   "metadata": {},
   "outputs": [
    {
     "name": "stdout",
     "output_type": "stream",
     "text": [
      "Accuracy of properties at +- 20% of actual prices is 0.6443381180223285\n"
     ]
    }
   ],
   "source": [
    "acc1 = accuracy_threshold(y_test_20, y_pred_20, 0.20)\n",
    "print('Accuracy of properties at +- 20% of actual prices is ' + str(acc1))"
   ]
  },
  {
   "cell_type": "code",
   "execution_count": 92,
   "id": "a081be20",
   "metadata": {},
   "outputs": [
    {
     "name": "stdout",
     "output_type": "stream",
     "text": [
      "Median Absolute Error:\n",
      "\n",
      "0.1568616237735032\n"
     ]
    }
   ],
   "source": [
    "median_se = np.square(np.subtract(y_test_20, y_pred_20)).median() \n",
    " \n",
    "med = math.sqrt(median_se)\n",
    "print(\"Median Absolute Error:\\n\")\n",
    "print(med)"
   ]
  },
  {
   "cell_type": "code",
   "execution_count": 93,
   "id": "02c3cb6f",
   "metadata": {},
   "outputs": [
    {
     "name": "stdout",
     "output_type": "stream",
     "text": [
      "Root Mean Square Error:\n",
      "\n",
      "0.312324701861808\n"
     ]
    }
   ],
   "source": [
    "mean = np.square(np.subtract(y_test_20, y_pred_20)).mean() \n",
    " \n",
    "mean = math.sqrt(mean)\n",
    "print(\"Root Mean Square Error:\\n\")\n",
    "print(mean)"
   ]
  },
  {
   "cell_type": "code",
   "execution_count": 94,
   "id": "dc3d5e41",
   "metadata": {},
   "outputs": [
    {
     "name": "stdout",
     "output_type": "stream",
     "text": [
      "MAPE for AdaBoost 2020 is: 0.016612176286059488\n"
     ]
    }
   ],
   "source": [
    "mape = mean_absolute_percentage_error(y_test_20, y_pred_20)\n",
    "print(\"MAPE for AdaBoost 2020 is: \" + str(mape))"
   ]
  },
  {
   "cell_type": "code",
   "execution_count": 95,
   "id": "99ce3cf8",
   "metadata": {},
   "outputs": [],
   "source": [
    "cnames=['Algorithm', 'Year', 'RMSE', 'MSE', 'MEDAE', 'Accuracy', 'MAPE']\n",
    "df6 = pd.DataFrame(columns = cnames)\n",
    "\n",
    "df6 = df6.append({'Algorithm': 'AdaBoost',\n",
    "            'Year': 2020,\n",
    "           'RMSE': mean,\n",
    "           'MSE': mse,\n",
    "           'MEDAE': med,\n",
    "           'Accuracy': acc,\n",
    "           'MAPE': mape       \n",
    "          }, ignore_index=True)"
   ]
  },
  {
   "cell_type": "markdown",
   "id": "5d5407fb",
   "metadata": {},
   "source": [
    "## Let's now try a selection of other algorithms on our data\n",
    "### LightGBM"
   ]
  },
  {
   "cell_type": "code",
   "execution_count": 96,
   "id": "8b71082c",
   "metadata": {},
   "outputs": [],
   "source": [
    "from sklearn.datasets import make_regression\n",
    "from lightgbm import LGBMRegressor"
   ]
  },
  {
   "cell_type": "markdown",
   "id": "e0e91f3e",
   "metadata": {},
   "source": [
    "### 2020 House Price Prediction Using LightGBM"
   ]
  },
  {
   "cell_type": "code",
   "execution_count": 97,
   "id": "74d6ecf3",
   "metadata": {},
   "outputs": [
    {
     "data": {
      "text/plain": [
       "LGBMRegressor()"
      ]
     },
     "execution_count": 97,
     "metadata": {},
     "output_type": "execute_result"
    }
   ],
   "source": [
    "model = LGBMRegressor()\n",
    "model.fit(x_train_20, y_train_20)"
   ]
  },
  {
   "cell_type": "code",
   "execution_count": 98,
   "id": "bef53552",
   "metadata": {},
   "outputs": [
    {
     "name": "stdout",
     "output_type": "stream",
     "text": [
      "MSE for LightGBM 2020 is: 0.06232389310563894\n"
     ]
    }
   ],
   "source": [
    "y_pred_20 = model.predict(x_test_20)\n",
    "# Calculation of Mean Squared Error (MSE)\n",
    "mse = mean_squared_error(y_test_20,y_pred_20)\n",
    "print('MSE for LightGBM 2020 is: ' + str(mse))"
   ]
  },
  {
   "cell_type": "code",
   "execution_count": 99,
   "id": "7df03eed",
   "metadata": {},
   "outputs": [
    {
     "name": "stdout",
     "output_type": "stream",
     "text": [
      "Accuracy of properties at +- 10% of actual prices is 0.5215311004784688\n"
     ]
    }
   ],
   "source": [
    "acc = accuracy_threshold(y_test_20, y_pred_20, 0.1)\n",
    "print('Accuracy of properties at +- 10% of actual prices is ' + str(acc))"
   ]
  },
  {
   "cell_type": "code",
   "execution_count": 100,
   "id": "931d8bdc",
   "metadata": {},
   "outputs": [
    {
     "name": "stdout",
     "output_type": "stream",
     "text": [
      "Accuracy of properties at +- 20% of actual prices is 0.7432216905901117\n"
     ]
    }
   ],
   "source": [
    "acc1 = accuracy_threshold(y_test_20, y_pred_20, 0.20)\n",
    "print('Accuracy of properties at +- 20% of actual prices is ' + str(acc1))"
   ]
  },
  {
   "cell_type": "code",
   "execution_count": 101,
   "id": "88f6e6bd",
   "metadata": {},
   "outputs": [
    {
     "name": "stdout",
     "output_type": "stream",
     "text": [
      "Median Absolute Error:\n",
      "\n",
      "0.09282205501731156\n"
     ]
    }
   ],
   "source": [
    "median_se = np.square(np.subtract(y_test_20,y_pred_20)).median() \n",
    " \n",
    "med = math.sqrt(median_se)\n",
    "print(\"Median Absolute Error:\\n\")\n",
    "print(med)"
   ]
  },
  {
   "cell_type": "code",
   "execution_count": 102,
   "id": "495a055a",
   "metadata": {},
   "outputs": [
    {
     "name": "stdout",
     "output_type": "stream",
     "text": [
      "Root Mean Square Error:\n",
      "\n",
      "0.24964753775200535\n"
     ]
    }
   ],
   "source": [
    "mean = np.square(np.subtract(y_test_20,y_pred_20)).mean() \n",
    " \n",
    "mean = math.sqrt(mean)\n",
    "print(\"Root Mean Square Error:\\n\")\n",
    "print(mean)"
   ]
  },
  {
   "cell_type": "code",
   "execution_count": 103,
   "id": "0d02cce4",
   "metadata": {},
   "outputs": [
    {
     "name": "stdout",
     "output_type": "stream",
     "text": [
      "MAPE for LightGBM 2020 is: 0.012321946290361199\n"
     ]
    }
   ],
   "source": [
    "mape = mean_absolute_percentage_error(y_test_20, y_pred_20)\n",
    "print(\"MAPE for LightGBM 2020 is: \" + str(mape))"
   ]
  },
  {
   "cell_type": "code",
   "execution_count": 104,
   "id": "02a28f79",
   "metadata": {},
   "outputs": [],
   "source": [
    "cnames=['Algorithm', 'Year', 'RMSE', 'MSE', 'MEDAE', 'Accuracy', 'MAPE']\n",
    "df5 = pd.DataFrame(columns=cnames)\n",
    "\n",
    "df5 = df5.append({'Algorithm': 'LightGBM',\n",
    "            'Year': 2020,\n",
    "           'RMSE': mean,\n",
    "           'MSE': mse,\n",
    "           'MEDAE': med,\n",
    "           'Accuracy': acc,\n",
    "           'MAPE': mape       \n",
    "          }, ignore_index=True)"
   ]
  },
  {
   "cell_type": "markdown",
   "id": "2e9fa1fa",
   "metadata": {},
   "source": [
    "### 2021"
   ]
  },
  {
   "cell_type": "code",
   "execution_count": 105,
   "id": "ddcc332a",
   "metadata": {},
   "outputs": [
    {
     "data": {
      "text/plain": [
       "LGBMRegressor()"
      ]
     },
     "execution_count": 105,
     "metadata": {},
     "output_type": "execute_result"
    }
   ],
   "source": [
    "model = LGBMRegressor()\n",
    "model.fit(x_train_21, y_train_21)"
   ]
  },
  {
   "cell_type": "code",
   "execution_count": 106,
   "id": "a24e4f44",
   "metadata": {},
   "outputs": [
    {
     "name": "stdout",
     "output_type": "stream",
     "text": [
      "MSE for LightGBM 2021 is: 0.08902990154702332\n"
     ]
    }
   ],
   "source": [
    "y_pred_21 = model.predict(x_test_21)\n",
    "# Calculation of Mean Squared Error (MSE)\n",
    "mse = mean_squared_error(y_test_21,y_pred_21)\n",
    "print('MSE for LightGBM 2021 is: ' + str(mse))"
   ]
  },
  {
   "cell_type": "code",
   "execution_count": 107,
   "id": "09de1db0",
   "metadata": {},
   "outputs": [
    {
     "name": "stdout",
     "output_type": "stream",
     "text": [
      "Accuracy of properties at +- 10% of actual prices is 0.4619289340101523\n"
     ]
    }
   ],
   "source": [
    "acc = accuracy_threshold(y_test_21, y_pred_21, 0.1)\n",
    "print('Accuracy of properties at +- 10% of actual prices is ' + str(acc))"
   ]
  },
  {
   "cell_type": "code",
   "execution_count": 108,
   "id": "22412899",
   "metadata": {},
   "outputs": [
    {
     "name": "stdout",
     "output_type": "stream",
     "text": [
      "Accuracy of properties at +- 20% of actual prices is 0.7072758037225042\n"
     ]
    }
   ],
   "source": [
    "acc1 = accuracy_threshold(y_test_21, y_pred_21, 0.20)\n",
    "print('Accuracy of properties at +- 20% of actual prices is ' + str(acc1))"
   ]
  },
  {
   "cell_type": "code",
   "execution_count": 109,
   "id": "1af063f3",
   "metadata": {},
   "outputs": [
    {
     "name": "stdout",
     "output_type": "stream",
     "text": [
      "Median Absolute Error:\n",
      "\n",
      "0.10687004472619854\n"
     ]
    }
   ],
   "source": [
    "median_se = np.square(np.subtract(y_test_21, y_pred_21)).median() \n",
    " \n",
    "med = math.sqrt(median_se)\n",
    "print(\"Median Absolute Error:\\n\")\n",
    "print(med)"
   ]
  },
  {
   "cell_type": "code",
   "execution_count": 110,
   "id": "f6b3dde0",
   "metadata": {},
   "outputs": [
    {
     "name": "stdout",
     "output_type": "stream",
     "text": [
      "Root Mean Square Error:\n",
      "\n",
      "0.298378788701582\n"
     ]
    }
   ],
   "source": [
    "mean = np.square(np.subtract(y_test_21, y_pred_21)).mean() \n",
    " \n",
    "mean = math.sqrt(mean)\n",
    "print(\"Root Mean Square Error:\\n\")\n",
    "print(mean)"
   ]
  },
  {
   "cell_type": "code",
   "execution_count": 111,
   "id": "f6d92791",
   "metadata": {},
   "outputs": [
    {
     "name": "stdout",
     "output_type": "stream",
     "text": [
      "MAPE for LightGBM 2021 is: 0.014385014687362847\n"
     ]
    }
   ],
   "source": [
    "mape = mean_absolute_percentage_error(y_test_21, y_pred_21)\n",
    "print(\"MAPE for LightGBM 2021 is: \" + str(mape))"
   ]
  },
  {
   "cell_type": "code",
   "execution_count": 112,
   "id": "0a2ce444",
   "metadata": {},
   "outputs": [],
   "source": [
    "cnames=['Algorithm', 'Year', 'RMSE', 'MSE', 'MEDAE', 'Accuracy', 'MAPE']\n",
    "df4 = pd.DataFrame(columns=cnames)\n",
    "\n",
    "df4 = df4.append({'Algorithm': 'LightGBM',\n",
    "            'Year': 2021,\n",
    "           'RMSE': mean,\n",
    "           'MSE': mse,\n",
    "           'MEDAE': med,\n",
    "           'Accuracy': acc,\n",
    "           'MAPE': mape       \n",
    "          }, ignore_index=True)"
   ]
  },
  {
   "cell_type": "markdown",
   "id": "776bcb52",
   "metadata": {},
   "source": [
    "### CatBoost\n",
    "\n",
    "#### 2021 Prediction"
   ]
  },
  {
   "cell_type": "code",
   "execution_count": 113,
   "id": "82d9ac87",
   "metadata": {},
   "outputs": [],
   "source": [
    "from catboost import CatBoostRegressor"
   ]
  },
  {
   "cell_type": "code",
   "execution_count": 114,
   "id": "c0b33685",
   "metadata": {},
   "outputs": [
    {
     "name": "stdout",
     "output_type": "stream",
     "text": [
      "Learning rate set to 0.046461\n",
      "0:\tlearn: 0.4095685\ttotal: 151ms\tremaining: 2m 31s\n",
      "1:\tlearn: 0.3993430\ttotal: 155ms\tremaining: 1m 17s\n",
      "2:\tlearn: 0.3893061\ttotal: 158ms\tremaining: 52.4s\n",
      "3:\tlearn: 0.3800505\ttotal: 161ms\tremaining: 40.1s\n",
      "4:\tlearn: 0.3712177\ttotal: 165ms\tremaining: 32.7s\n",
      "5:\tlearn: 0.3626008\ttotal: 170ms\tremaining: 28.1s\n",
      "6:\tlearn: 0.3542642\ttotal: 173ms\tremaining: 24.6s\n",
      "7:\tlearn: 0.3466779\ttotal: 177ms\tremaining: 22s\n",
      "8:\tlearn: 0.3395992\ttotal: 182ms\tremaining: 20s\n",
      "9:\tlearn: 0.3327191\ttotal: 185ms\tremaining: 18.3s\n",
      "10:\tlearn: 0.3267007\ttotal: 188ms\tremaining: 16.9s\n",
      "11:\tlearn: 0.3204400\ttotal: 191ms\tremaining: 15.7s\n",
      "12:\tlearn: 0.3141892\ttotal: 195ms\tremaining: 14.8s\n",
      "13:\tlearn: 0.3086293\ttotal: 198ms\tremaining: 14s\n",
      "14:\tlearn: 0.3037503\ttotal: 201ms\tremaining: 13.2s\n",
      "15:\tlearn: 0.2989441\ttotal: 204ms\tremaining: 12.6s\n",
      "16:\tlearn: 0.2940816\ttotal: 207ms\tremaining: 12s\n",
      "17:\tlearn: 0.2894964\ttotal: 211ms\tremaining: 11.5s\n",
      "18:\tlearn: 0.2857198\ttotal: 214ms\tremaining: 11s\n",
      "19:\tlearn: 0.2822307\ttotal: 217ms\tremaining: 10.6s\n",
      "20:\tlearn: 0.2787145\ttotal: 220ms\tremaining: 10.3s\n",
      "21:\tlearn: 0.2753705\ttotal: 224ms\tremaining: 9.94s\n",
      "22:\tlearn: 0.2720966\ttotal: 227ms\tremaining: 9.64s\n",
      "23:\tlearn: 0.2687989\ttotal: 230ms\tremaining: 9.34s\n",
      "24:\tlearn: 0.2657622\ttotal: 233ms\tremaining: 9.07s\n",
      "25:\tlearn: 0.2633447\ttotal: 236ms\tremaining: 8.83s\n",
      "26:\tlearn: 0.2609920\ttotal: 239ms\tremaining: 8.62s\n",
      "27:\tlearn: 0.2588535\ttotal: 243ms\tremaining: 8.43s\n",
      "28:\tlearn: 0.2566091\ttotal: 246ms\tremaining: 8.24s\n",
      "29:\tlearn: 0.2543186\ttotal: 249ms\tremaining: 8.05s\n",
      "30:\tlearn: 0.2523229\ttotal: 252ms\tremaining: 7.88s\n",
      "31:\tlearn: 0.2503168\ttotal: 255ms\tremaining: 7.71s\n",
      "32:\tlearn: 0.2485128\ttotal: 258ms\tremaining: 7.56s\n",
      "33:\tlearn: 0.2470602\ttotal: 261ms\tremaining: 7.41s\n",
      "34:\tlearn: 0.2457118\ttotal: 264ms\tremaining: 7.28s\n",
      "35:\tlearn: 0.2442121\ttotal: 267ms\tremaining: 7.15s\n",
      "36:\tlearn: 0.2429459\ttotal: 270ms\tremaining: 7.03s\n",
      "37:\tlearn: 0.2415888\ttotal: 273ms\tremaining: 6.92s\n",
      "38:\tlearn: 0.2400324\ttotal: 276ms\tremaining: 6.81s\n",
      "39:\tlearn: 0.2389329\ttotal: 279ms\tremaining: 6.7s\n",
      "40:\tlearn: 0.2379791\ttotal: 283ms\tremaining: 6.61s\n",
      "41:\tlearn: 0.2369256\ttotal: 287ms\tremaining: 6.54s\n",
      "42:\tlearn: 0.2359561\ttotal: 291ms\tremaining: 6.48s\n",
      "43:\tlearn: 0.2349024\ttotal: 295ms\tremaining: 6.41s\n",
      "44:\tlearn: 0.2339740\ttotal: 300ms\tremaining: 6.36s\n",
      "45:\tlearn: 0.2331081\ttotal: 303ms\tremaining: 6.29s\n",
      "46:\tlearn: 0.2324279\ttotal: 307ms\tremaining: 6.22s\n",
      "47:\tlearn: 0.2315583\ttotal: 311ms\tremaining: 6.16s\n",
      "48:\tlearn: 0.2309047\ttotal: 315ms\tremaining: 6.11s\n",
      "49:\tlearn: 0.2303597\ttotal: 319ms\tremaining: 6.07s\n",
      "50:\tlearn: 0.2296937\ttotal: 324ms\tremaining: 6.02s\n",
      "51:\tlearn: 0.2289142\ttotal: 328ms\tremaining: 5.98s\n",
      "52:\tlearn: 0.2282928\ttotal: 333ms\tremaining: 5.94s\n",
      "53:\tlearn: 0.2276787\ttotal: 337ms\tremaining: 5.9s\n",
      "54:\tlearn: 0.2270733\ttotal: 341ms\tremaining: 5.86s\n",
      "55:\tlearn: 0.2266633\ttotal: 345ms\tremaining: 5.82s\n",
      "56:\tlearn: 0.2262411\ttotal: 349ms\tremaining: 5.78s\n",
      "57:\tlearn: 0.2256511\ttotal: 353ms\tremaining: 5.73s\n",
      "58:\tlearn: 0.2250069\ttotal: 357ms\tremaining: 5.69s\n",
      "59:\tlearn: 0.2245311\ttotal: 360ms\tremaining: 5.64s\n",
      "60:\tlearn: 0.2240692\ttotal: 364ms\tremaining: 5.6s\n",
      "61:\tlearn: 0.2236069\ttotal: 367ms\tremaining: 5.55s\n",
      "62:\tlearn: 0.2231312\ttotal: 370ms\tremaining: 5.5s\n",
      "63:\tlearn: 0.2226505\ttotal: 373ms\tremaining: 5.46s\n",
      "64:\tlearn: 0.2223682\ttotal: 376ms\tremaining: 5.41s\n",
      "65:\tlearn: 0.2219391\ttotal: 379ms\tremaining: 5.37s\n",
      "66:\tlearn: 0.2216813\ttotal: 382ms\tremaining: 5.32s\n",
      "67:\tlearn: 0.2213464\ttotal: 385ms\tremaining: 5.28s\n",
      "68:\tlearn: 0.2206293\ttotal: 388ms\tremaining: 5.24s\n",
      "69:\tlearn: 0.2202384\ttotal: 391ms\tremaining: 5.2s\n",
      "70:\tlearn: 0.2199227\ttotal: 394ms\tremaining: 5.16s\n",
      "71:\tlearn: 0.2195362\ttotal: 397ms\tremaining: 5.12s\n",
      "72:\tlearn: 0.2191530\ttotal: 400ms\tremaining: 5.08s\n",
      "73:\tlearn: 0.2187435\ttotal: 403ms\tremaining: 5.05s\n",
      "74:\tlearn: 0.2183478\ttotal: 406ms\tremaining: 5.01s\n",
      "75:\tlearn: 0.2178778\ttotal: 410ms\tremaining: 4.98s\n",
      "76:\tlearn: 0.2175756\ttotal: 413ms\tremaining: 4.94s\n",
      "77:\tlearn: 0.2173216\ttotal: 415ms\tremaining: 4.91s\n",
      "78:\tlearn: 0.2168809\ttotal: 419ms\tremaining: 4.88s\n",
      "79:\tlearn: 0.2165196\ttotal: 422ms\tremaining: 4.85s\n",
      "80:\tlearn: 0.2162998\ttotal: 425ms\tremaining: 4.82s\n",
      "81:\tlearn: 0.2158618\ttotal: 428ms\tremaining: 4.79s\n",
      "82:\tlearn: 0.2155096\ttotal: 430ms\tremaining: 4.75s\n",
      "83:\tlearn: 0.2152497\ttotal: 434ms\tremaining: 4.73s\n",
      "84:\tlearn: 0.2150122\ttotal: 437ms\tremaining: 4.7s\n",
      "85:\tlearn: 0.2146058\ttotal: 440ms\tremaining: 4.68s\n",
      "86:\tlearn: 0.2141707\ttotal: 444ms\tremaining: 4.66s\n",
      "87:\tlearn: 0.2137462\ttotal: 447ms\tremaining: 4.63s\n",
      "88:\tlearn: 0.2134255\ttotal: 450ms\tremaining: 4.6s\n",
      "89:\tlearn: 0.2132526\ttotal: 453ms\tremaining: 4.58s\n",
      "90:\tlearn: 0.2129951\ttotal: 457ms\tremaining: 4.56s\n",
      "91:\tlearn: 0.2126503\ttotal: 460ms\tremaining: 4.54s\n",
      "92:\tlearn: 0.2123245\ttotal: 464ms\tremaining: 4.52s\n",
      "93:\tlearn: 0.2120740\ttotal: 468ms\tremaining: 4.51s\n",
      "94:\tlearn: 0.2117900\ttotal: 471ms\tremaining: 4.48s\n",
      "95:\tlearn: 0.2116150\ttotal: 474ms\tremaining: 4.46s\n",
      "96:\tlearn: 0.2112582\ttotal: 477ms\tremaining: 4.44s\n",
      "97:\tlearn: 0.2111014\ttotal: 481ms\tremaining: 4.43s\n",
      "98:\tlearn: 0.2107908\ttotal: 484ms\tremaining: 4.41s\n",
      "99:\tlearn: 0.2104931\ttotal: 488ms\tremaining: 4.39s\n",
      "100:\tlearn: 0.2101710\ttotal: 491ms\tremaining: 4.37s\n",
      "101:\tlearn: 0.2099171\ttotal: 495ms\tremaining: 4.36s\n",
      "102:\tlearn: 0.2095963\ttotal: 499ms\tremaining: 4.34s\n",
      "103:\tlearn: 0.2092888\ttotal: 503ms\tremaining: 4.33s\n",
      "104:\tlearn: 0.2089812\ttotal: 506ms\tremaining: 4.32s\n",
      "105:\tlearn: 0.2084979\ttotal: 510ms\tremaining: 4.3s\n",
      "106:\tlearn: 0.2082320\ttotal: 514ms\tremaining: 4.29s\n",
      "107:\tlearn: 0.2079956\ttotal: 518ms\tremaining: 4.28s\n",
      "108:\tlearn: 0.2076971\ttotal: 522ms\tremaining: 4.27s\n",
      "109:\tlearn: 0.2075107\ttotal: 526ms\tremaining: 4.25s\n",
      "110:\tlearn: 0.2071363\ttotal: 530ms\tremaining: 4.24s\n",
      "111:\tlearn: 0.2067897\ttotal: 533ms\tremaining: 4.23s\n",
      "112:\tlearn: 0.2065320\ttotal: 537ms\tremaining: 4.21s\n",
      "113:\tlearn: 0.2064660\ttotal: 539ms\tremaining: 4.18s\n",
      "114:\tlearn: 0.2061850\ttotal: 542ms\tremaining: 4.17s\n",
      "115:\tlearn: 0.2059470\ttotal: 545ms\tremaining: 4.15s\n",
      "116:\tlearn: 0.2057256\ttotal: 547ms\tremaining: 4.13s\n",
      "117:\tlearn: 0.2054880\ttotal: 550ms\tremaining: 4.11s\n",
      "118:\tlearn: 0.2051371\ttotal: 554ms\tremaining: 4.1s\n",
      "119:\tlearn: 0.2049820\ttotal: 557ms\tremaining: 4.08s\n",
      "120:\tlearn: 0.2049251\ttotal: 559ms\tremaining: 4.06s\n",
      "121:\tlearn: 0.2046914\ttotal: 562ms\tremaining: 4.04s\n",
      "122:\tlearn: 0.2044716\ttotal: 565ms\tremaining: 4.03s\n",
      "123:\tlearn: 0.2043409\ttotal: 568ms\tremaining: 4.01s\n",
      "124:\tlearn: 0.2039949\ttotal: 571ms\tremaining: 4s\n",
      "125:\tlearn: 0.2036769\ttotal: 574ms\tremaining: 3.98s\n",
      "126:\tlearn: 0.2033226\ttotal: 577ms\tremaining: 3.97s\n",
      "127:\tlearn: 0.2031252\ttotal: 580ms\tremaining: 3.95s\n",
      "128:\tlearn: 0.2029174\ttotal: 583ms\tremaining: 3.94s\n",
      "129:\tlearn: 0.2025717\ttotal: 586ms\tremaining: 3.92s\n",
      "130:\tlearn: 0.2024330\ttotal: 589ms\tremaining: 3.91s\n",
      "131:\tlearn: 0.2023104\ttotal: 592ms\tremaining: 3.89s\n",
      "132:\tlearn: 0.2019726\ttotal: 595ms\tremaining: 3.88s\n",
      "133:\tlearn: 0.2017881\ttotal: 598ms\tremaining: 3.87s\n",
      "134:\tlearn: 0.2015021\ttotal: 601ms\tremaining: 3.85s\n",
      "135:\tlearn: 0.2012474\ttotal: 604ms\tremaining: 3.84s\n",
      "136:\tlearn: 0.2010000\ttotal: 607ms\tremaining: 3.83s\n",
      "137:\tlearn: 0.2007846\ttotal: 610ms\tremaining: 3.81s\n",
      "138:\tlearn: 0.2006373\ttotal: 613ms\tremaining: 3.8s\n",
      "139:\tlearn: 0.2002770\ttotal: 616ms\tremaining: 3.79s\n",
      "140:\tlearn: 0.1999236\ttotal: 619ms\tremaining: 3.77s\n",
      "141:\tlearn: 0.1997840\ttotal: 622ms\tremaining: 3.76s\n",
      "142:\tlearn: 0.1996618\ttotal: 625ms\tremaining: 3.75s\n",
      "143:\tlearn: 0.1993595\ttotal: 628ms\tremaining: 3.73s\n",
      "144:\tlearn: 0.1991864\ttotal: 631ms\tremaining: 3.72s\n",
      "145:\tlearn: 0.1990365\ttotal: 634ms\tremaining: 3.71s\n",
      "146:\tlearn: 0.1989342\ttotal: 637ms\tremaining: 3.69s\n",
      "147:\tlearn: 0.1986321\ttotal: 640ms\tremaining: 3.68s\n",
      "148:\tlearn: 0.1982939\ttotal: 643ms\tremaining: 3.67s\n",
      "149:\tlearn: 0.1979849\ttotal: 646ms\tremaining: 3.66s\n",
      "150:\tlearn: 0.1977915\ttotal: 649ms\tremaining: 3.65s\n",
      "151:\tlearn: 0.1975734\ttotal: 652ms\tremaining: 3.64s\n",
      "152:\tlearn: 0.1973604\ttotal: 655ms\tremaining: 3.62s\n",
      "153:\tlearn: 0.1971052\ttotal: 660ms\tremaining: 3.63s\n",
      "154:\tlearn: 0.1969384\ttotal: 663ms\tremaining: 3.62s\n",
      "155:\tlearn: 0.1967800\ttotal: 667ms\tremaining: 3.61s\n",
      "156:\tlearn: 0.1964786\ttotal: 671ms\tremaining: 3.6s\n",
      "157:\tlearn: 0.1963387\ttotal: 677ms\tremaining: 3.61s\n",
      "158:\tlearn: 0.1960954\ttotal: 681ms\tremaining: 3.6s\n",
      "159:\tlearn: 0.1958799\ttotal: 685ms\tremaining: 3.6s\n",
      "160:\tlearn: 0.1956217\ttotal: 688ms\tremaining: 3.59s\n",
      "161:\tlearn: 0.1953916\ttotal: 693ms\tremaining: 3.59s\n",
      "162:\tlearn: 0.1951795\ttotal: 698ms\tremaining: 3.58s\n",
      "163:\tlearn: 0.1950935\ttotal: 701ms\tremaining: 3.57s\n",
      "164:\tlearn: 0.1949037\ttotal: 705ms\tremaining: 3.57s\n",
      "165:\tlearn: 0.1947372\ttotal: 710ms\tremaining: 3.56s\n",
      "166:\tlearn: 0.1945196\ttotal: 713ms\tremaining: 3.56s\n",
      "167:\tlearn: 0.1942378\ttotal: 718ms\tremaining: 3.55s\n",
      "168:\tlearn: 0.1939921\ttotal: 721ms\tremaining: 3.55s\n",
      "169:\tlearn: 0.1938035\ttotal: 726ms\tremaining: 3.54s\n",
      "170:\tlearn: 0.1936402\ttotal: 729ms\tremaining: 3.53s\n",
      "171:\tlearn: 0.1934067\ttotal: 732ms\tremaining: 3.52s\n",
      "172:\tlearn: 0.1931948\ttotal: 736ms\tremaining: 3.52s\n",
      "173:\tlearn: 0.1930620\ttotal: 740ms\tremaining: 3.51s\n",
      "174:\tlearn: 0.1928554\ttotal: 746ms\tremaining: 3.52s\n",
      "175:\tlearn: 0.1926928\ttotal: 749ms\tremaining: 3.51s\n",
      "176:\tlearn: 0.1924889\ttotal: 755ms\tremaining: 3.51s\n",
      "177:\tlearn: 0.1923841\ttotal: 762ms\tremaining: 3.52s\n",
      "178:\tlearn: 0.1922540\ttotal: 767ms\tremaining: 3.52s\n",
      "179:\tlearn: 0.1921040\ttotal: 772ms\tremaining: 3.52s\n",
      "180:\tlearn: 0.1919918\ttotal: 775ms\tremaining: 3.51s\n",
      "181:\tlearn: 0.1917633\ttotal: 779ms\tremaining: 3.5s\n",
      "182:\tlearn: 0.1916504\ttotal: 785ms\tremaining: 3.5s\n",
      "183:\tlearn: 0.1914264\ttotal: 788ms\tremaining: 3.49s\n",
      "184:\tlearn: 0.1911797\ttotal: 791ms\tremaining: 3.48s\n",
      "185:\tlearn: 0.1910468\ttotal: 794ms\tremaining: 3.47s\n",
      "186:\tlearn: 0.1909421\ttotal: 798ms\tremaining: 3.47s\n",
      "187:\tlearn: 0.1907268\ttotal: 801ms\tremaining: 3.46s\n",
      "188:\tlearn: 0.1904970\ttotal: 805ms\tremaining: 3.45s\n",
      "189:\tlearn: 0.1903444\ttotal: 808ms\tremaining: 3.44s\n",
      "190:\tlearn: 0.1901692\ttotal: 811ms\tremaining: 3.43s\n",
      "191:\tlearn: 0.1899899\ttotal: 815ms\tremaining: 3.43s\n",
      "192:\tlearn: 0.1898824\ttotal: 818ms\tremaining: 3.42s\n",
      "193:\tlearn: 0.1897782\ttotal: 821ms\tremaining: 3.41s\n",
      "194:\tlearn: 0.1895739\ttotal: 824ms\tremaining: 3.4s\n"
     ]
    },
    {
     "name": "stdout",
     "output_type": "stream",
     "text": [
      "195:\tlearn: 0.1894628\ttotal: 833ms\tremaining: 3.42s\n",
      "196:\tlearn: 0.1893393\ttotal: 836ms\tremaining: 3.4s\n",
      "197:\tlearn: 0.1891862\ttotal: 839ms\tremaining: 3.4s\n",
      "198:\tlearn: 0.1889938\ttotal: 846ms\tremaining: 3.4s\n",
      "199:\tlearn: 0.1889287\ttotal: 850ms\tremaining: 3.4s\n",
      "200:\tlearn: 0.1887899\ttotal: 853ms\tremaining: 3.39s\n",
      "201:\tlearn: 0.1886530\ttotal: 864ms\tremaining: 3.42s\n",
      "202:\tlearn: 0.1885102\ttotal: 882ms\tremaining: 3.46s\n",
      "203:\tlearn: 0.1883676\ttotal: 907ms\tremaining: 3.54s\n",
      "204:\tlearn: 0.1881568\ttotal: 933ms\tremaining: 3.62s\n",
      "205:\tlearn: 0.1880227\ttotal: 945ms\tremaining: 3.64s\n",
      "206:\tlearn: 0.1878731\ttotal: 973ms\tremaining: 3.73s\n",
      "207:\tlearn: 0.1877411\ttotal: 991ms\tremaining: 3.77s\n",
      "208:\tlearn: 0.1876515\ttotal: 1.01s\tremaining: 3.82s\n",
      "209:\tlearn: 0.1875138\ttotal: 1.03s\tremaining: 3.86s\n",
      "210:\tlearn: 0.1873847\ttotal: 1.04s\tremaining: 3.87s\n",
      "211:\tlearn: 0.1872586\ttotal: 1.05s\tremaining: 3.9s\n",
      "212:\tlearn: 0.1871428\ttotal: 1.06s\tremaining: 3.93s\n",
      "213:\tlearn: 0.1870296\ttotal: 1.07s\tremaining: 3.93s\n",
      "214:\tlearn: 0.1868084\ttotal: 1.08s\tremaining: 3.95s\n",
      "215:\tlearn: 0.1866388\ttotal: 1.09s\tremaining: 3.96s\n",
      "216:\tlearn: 0.1865037\ttotal: 1.12s\tremaining: 4.03s\n",
      "217:\tlearn: 0.1864139\ttotal: 1.13s\tremaining: 4.05s\n",
      "218:\tlearn: 0.1862937\ttotal: 1.14s\tremaining: 4.06s\n",
      "219:\tlearn: 0.1861627\ttotal: 1.15s\tremaining: 4.07s\n",
      "220:\tlearn: 0.1859817\ttotal: 1.18s\tremaining: 4.15s\n",
      "221:\tlearn: 0.1859182\ttotal: 1.25s\tremaining: 4.39s\n",
      "222:\tlearn: 0.1858139\ttotal: 1.26s\tremaining: 4.4s\n",
      "223:\tlearn: 0.1856882\ttotal: 1.27s\tremaining: 4.41s\n",
      "224:\tlearn: 0.1854896\ttotal: 1.28s\tremaining: 4.41s\n",
      "225:\tlearn: 0.1853975\ttotal: 1.3s\tremaining: 4.44s\n",
      "226:\tlearn: 0.1851156\ttotal: 1.31s\tremaining: 4.45s\n",
      "227:\tlearn: 0.1849061\ttotal: 1.31s\tremaining: 4.45s\n",
      "228:\tlearn: 0.1848013\ttotal: 1.32s\tremaining: 4.46s\n",
      "229:\tlearn: 0.1845066\ttotal: 1.35s\tremaining: 4.54s\n",
      "230:\tlearn: 0.1844043\ttotal: 1.37s\tremaining: 4.55s\n",
      "231:\tlearn: 0.1842009\ttotal: 1.38s\tremaining: 4.55s\n",
      "232:\tlearn: 0.1841537\ttotal: 1.38s\tremaining: 4.55s\n",
      "233:\tlearn: 0.1840104\ttotal: 1.39s\tremaining: 4.55s\n",
      "234:\tlearn: 0.1837644\ttotal: 1.42s\tremaining: 4.63s\n",
      "235:\tlearn: 0.1836540\ttotal: 1.43s\tremaining: 4.63s\n",
      "236:\tlearn: 0.1834444\ttotal: 1.44s\tremaining: 4.62s\n",
      "237:\tlearn: 0.1831242\ttotal: 1.44s\tremaining: 4.63s\n",
      "238:\tlearn: 0.1830074\ttotal: 1.45s\tremaining: 4.63s\n",
      "239:\tlearn: 0.1828047\ttotal: 1.46s\tremaining: 4.63s\n",
      "240:\tlearn: 0.1826162\ttotal: 1.47s\tremaining: 4.63s\n",
      "241:\tlearn: 0.1825260\ttotal: 1.48s\tremaining: 4.63s\n",
      "242:\tlearn: 0.1823372\ttotal: 1.49s\tremaining: 4.63s\n",
      "243:\tlearn: 0.1822121\ttotal: 1.5s\tremaining: 4.63s\n",
      "244:\tlearn: 0.1820866\ttotal: 1.5s\tremaining: 4.64s\n",
      "245:\tlearn: 0.1819502\ttotal: 1.52s\tremaining: 4.65s\n",
      "246:\tlearn: 0.1817884\ttotal: 1.53s\tremaining: 4.65s\n",
      "247:\tlearn: 0.1815836\ttotal: 1.54s\tremaining: 4.66s\n",
      "248:\tlearn: 0.1814670\ttotal: 1.55s\tremaining: 4.67s\n",
      "249:\tlearn: 0.1813486\ttotal: 1.56s\tremaining: 4.69s\n",
      "250:\tlearn: 0.1811677\ttotal: 1.57s\tremaining: 4.69s\n",
      "251:\tlearn: 0.1810592\ttotal: 1.58s\tremaining: 4.69s\n",
      "252:\tlearn: 0.1809299\ttotal: 1.59s\tremaining: 4.69s\n",
      "253:\tlearn: 0.1808447\ttotal: 1.6s\tremaining: 4.7s\n",
      "254:\tlearn: 0.1806605\ttotal: 1.61s\tremaining: 4.7s\n",
      "255:\tlearn: 0.1804755\ttotal: 1.62s\tremaining: 4.7s\n",
      "256:\tlearn: 0.1803261\ttotal: 1.62s\tremaining: 4.69s\n",
      "257:\tlearn: 0.1801386\ttotal: 1.63s\tremaining: 4.69s\n",
      "258:\tlearn: 0.1799944\ttotal: 1.64s\tremaining: 4.69s\n",
      "259:\tlearn: 0.1797681\ttotal: 1.65s\tremaining: 4.69s\n",
      "260:\tlearn: 0.1796080\ttotal: 1.66s\tremaining: 4.7s\n",
      "261:\tlearn: 0.1794714\ttotal: 1.67s\tremaining: 4.7s\n",
      "262:\tlearn: 0.1792920\ttotal: 1.68s\tremaining: 4.7s\n",
      "263:\tlearn: 0.1791847\ttotal: 1.68s\tremaining: 4.7s\n",
      "264:\tlearn: 0.1790596\ttotal: 1.7s\tremaining: 4.72s\n",
      "265:\tlearn: 0.1790152\ttotal: 1.71s\tremaining: 4.72s\n",
      "266:\tlearn: 0.1787805\ttotal: 1.72s\tremaining: 4.73s\n",
      "267:\tlearn: 0.1786320\ttotal: 1.73s\tremaining: 4.73s\n",
      "268:\tlearn: 0.1785057\ttotal: 1.75s\tremaining: 4.77s\n",
      "269:\tlearn: 0.1783837\ttotal: 1.77s\tremaining: 4.78s\n",
      "270:\tlearn: 0.1782690\ttotal: 1.77s\tremaining: 4.77s\n",
      "271:\tlearn: 0.1781766\ttotal: 1.78s\tremaining: 4.77s\n",
      "272:\tlearn: 0.1780353\ttotal: 1.79s\tremaining: 4.77s\n",
      "273:\tlearn: 0.1778576\ttotal: 1.8s\tremaining: 4.78s\n",
      "274:\tlearn: 0.1777978\ttotal: 1.81s\tremaining: 4.77s\n",
      "275:\tlearn: 0.1777015\ttotal: 1.83s\tremaining: 4.8s\n",
      "276:\tlearn: 0.1774787\ttotal: 1.84s\tremaining: 4.8s\n",
      "277:\tlearn: 0.1773908\ttotal: 1.86s\tremaining: 4.84s\n",
      "278:\tlearn: 0.1771990\ttotal: 1.87s\tremaining: 4.84s\n",
      "279:\tlearn: 0.1770708\ttotal: 1.88s\tremaining: 4.83s\n",
      "280:\tlearn: 0.1769680\ttotal: 1.89s\tremaining: 4.84s\n",
      "281:\tlearn: 0.1768155\ttotal: 1.91s\tremaining: 4.86s\n",
      "282:\tlearn: 0.1766492\ttotal: 1.92s\tremaining: 4.86s\n",
      "283:\tlearn: 0.1765289\ttotal: 1.93s\tremaining: 4.86s\n",
      "284:\tlearn: 0.1764078\ttotal: 1.93s\tremaining: 4.85s\n",
      "285:\tlearn: 0.1762069\ttotal: 1.95s\tremaining: 4.86s\n",
      "286:\tlearn: 0.1761195\ttotal: 1.95s\tremaining: 4.86s\n",
      "287:\tlearn: 0.1759835\ttotal: 1.96s\tremaining: 4.85s\n",
      "288:\tlearn: 0.1758320\ttotal: 1.97s\tremaining: 4.85s\n",
      "289:\tlearn: 0.1757310\ttotal: 1.98s\tremaining: 4.84s\n",
      "290:\tlearn: 0.1755434\ttotal: 1.99s\tremaining: 4.84s\n",
      "291:\tlearn: 0.1754291\ttotal: 2s\tremaining: 4.84s\n",
      "292:\tlearn: 0.1752484\ttotal: 2s\tremaining: 4.83s\n",
      "293:\tlearn: 0.1750027\ttotal: 2.01s\tremaining: 4.83s\n",
      "294:\tlearn: 0.1748610\ttotal: 2.02s\tremaining: 4.83s\n",
      "295:\tlearn: 0.1747357\ttotal: 2.03s\tremaining: 4.83s\n",
      "296:\tlearn: 0.1746909\ttotal: 2.04s\tremaining: 4.84s\n",
      "297:\tlearn: 0.1744909\ttotal: 2.06s\tremaining: 4.85s\n",
      "298:\tlearn: 0.1742975\ttotal: 2.07s\tremaining: 4.85s\n",
      "299:\tlearn: 0.1741236\ttotal: 2.08s\tremaining: 4.84s\n",
      "300:\tlearn: 0.1740146\ttotal: 2.08s\tremaining: 4.83s\n",
      "301:\tlearn: 0.1739085\ttotal: 2.09s\tremaining: 4.84s\n",
      "302:\tlearn: 0.1738064\ttotal: 2.1s\tremaining: 4.83s\n",
      "303:\tlearn: 0.1736346\ttotal: 2.11s\tremaining: 4.83s\n",
      "304:\tlearn: 0.1735384\ttotal: 2.12s\tremaining: 4.82s\n",
      "305:\tlearn: 0.1734593\ttotal: 2.12s\tremaining: 4.81s\n",
      "306:\tlearn: 0.1733867\ttotal: 2.13s\tremaining: 4.81s\n",
      "307:\tlearn: 0.1732301\ttotal: 2.14s\tremaining: 4.8s\n",
      "308:\tlearn: 0.1731081\ttotal: 2.14s\tremaining: 4.79s\n",
      "309:\tlearn: 0.1729924\ttotal: 2.15s\tremaining: 4.79s\n",
      "310:\tlearn: 0.1728882\ttotal: 2.16s\tremaining: 4.79s\n",
      "311:\tlearn: 0.1726368\ttotal: 2.17s\tremaining: 4.78s\n",
      "312:\tlearn: 0.1725082\ttotal: 2.18s\tremaining: 4.78s\n",
      "313:\tlearn: 0.1724024\ttotal: 2.19s\tremaining: 4.78s\n",
      "314:\tlearn: 0.1722793\ttotal: 2.2s\tremaining: 4.78s\n",
      "315:\tlearn: 0.1721903\ttotal: 2.21s\tremaining: 4.78s\n",
      "316:\tlearn: 0.1720871\ttotal: 2.21s\tremaining: 4.77s\n",
      "317:\tlearn: 0.1719653\ttotal: 2.22s\tremaining: 4.77s\n",
      "318:\tlearn: 0.1718925\ttotal: 2.23s\tremaining: 4.76s\n",
      "319:\tlearn: 0.1717206\ttotal: 2.24s\tremaining: 4.75s\n",
      "320:\tlearn: 0.1716118\ttotal: 2.25s\tremaining: 4.75s\n",
      "321:\tlearn: 0.1715138\ttotal: 2.26s\tremaining: 4.75s\n",
      "322:\tlearn: 0.1713304\ttotal: 2.27s\tremaining: 4.75s\n",
      "323:\tlearn: 0.1712538\ttotal: 2.27s\tremaining: 4.74s\n",
      "324:\tlearn: 0.1711615\ttotal: 2.28s\tremaining: 4.74s\n",
      "325:\tlearn: 0.1708953\ttotal: 2.29s\tremaining: 4.74s\n",
      "326:\tlearn: 0.1707248\ttotal: 2.3s\tremaining: 4.74s\n",
      "327:\tlearn: 0.1706478\ttotal: 2.31s\tremaining: 4.73s\n",
      "328:\tlearn: 0.1705729\ttotal: 2.32s\tremaining: 4.73s\n",
      "329:\tlearn: 0.1704749\ttotal: 2.33s\tremaining: 4.72s\n",
      "330:\tlearn: 0.1703412\ttotal: 2.33s\tremaining: 4.71s\n",
      "331:\tlearn: 0.1701554\ttotal: 2.34s\tremaining: 4.7s\n",
      "332:\tlearn: 0.1700843\ttotal: 2.34s\tremaining: 4.69s\n",
      "333:\tlearn: 0.1700022\ttotal: 2.35s\tremaining: 4.68s\n",
      "334:\tlearn: 0.1699329\ttotal: 2.35s\tremaining: 4.67s\n",
      "335:\tlearn: 0.1697099\ttotal: 2.35s\tremaining: 4.65s\n",
      "336:\tlearn: 0.1696425\ttotal: 2.36s\tremaining: 4.64s\n",
      "337:\tlearn: 0.1695770\ttotal: 2.36s\tremaining: 4.63s\n",
      "338:\tlearn: 0.1695131\ttotal: 2.37s\tremaining: 4.62s\n",
      "339:\tlearn: 0.1694509\ttotal: 2.37s\tremaining: 4.61s\n",
      "340:\tlearn: 0.1693652\ttotal: 2.38s\tremaining: 4.59s\n",
      "341:\tlearn: 0.1693060\ttotal: 2.38s\tremaining: 4.58s\n",
      "342:\tlearn: 0.1691467\ttotal: 2.38s\tremaining: 4.57s\n",
      "343:\tlearn: 0.1689942\ttotal: 2.39s\tremaining: 4.55s\n",
      "344:\tlearn: 0.1687442\ttotal: 2.39s\tremaining: 4.54s\n",
      "345:\tlearn: 0.1685997\ttotal: 2.4s\tremaining: 4.53s\n",
      "346:\tlearn: 0.1685418\ttotal: 2.4s\tremaining: 4.52s\n",
      "347:\tlearn: 0.1684509\ttotal: 2.41s\tremaining: 4.51s\n",
      "348:\tlearn: 0.1683983\ttotal: 2.41s\tremaining: 4.5s\n",
      "349:\tlearn: 0.1683470\ttotal: 2.41s\tremaining: 4.48s\n",
      "350:\tlearn: 0.1682006\ttotal: 2.42s\tremaining: 4.47s\n",
      "351:\tlearn: 0.1681121\ttotal: 2.42s\tremaining: 4.46s\n",
      "352:\tlearn: 0.1680266\ttotal: 2.43s\tremaining: 4.45s\n",
      "353:\tlearn: 0.1679715\ttotal: 2.43s\tremaining: 4.44s\n",
      "354:\tlearn: 0.1679196\ttotal: 2.43s\tremaining: 4.42s\n",
      "355:\tlearn: 0.1678453\ttotal: 2.44s\tremaining: 4.41s\n",
      "356:\tlearn: 0.1677740\ttotal: 2.44s\tremaining: 4.4s\n",
      "357:\tlearn: 0.1677238\ttotal: 2.45s\tremaining: 4.39s\n"
     ]
    },
    {
     "name": "stdout",
     "output_type": "stream",
     "text": [
      "358:\tlearn: 0.1674854\ttotal: 2.45s\tremaining: 4.38s\n",
      "359:\tlearn: 0.1674336\ttotal: 2.46s\tremaining: 4.37s\n",
      "360:\tlearn: 0.1673898\ttotal: 2.46s\tremaining: 4.36s\n",
      "361:\tlearn: 0.1672332\ttotal: 2.47s\tremaining: 4.35s\n",
      "362:\tlearn: 0.1671641\ttotal: 2.47s\tremaining: 4.34s\n",
      "363:\tlearn: 0.1671197\ttotal: 2.48s\tremaining: 4.33s\n",
      "364:\tlearn: 0.1668541\ttotal: 2.48s\tremaining: 4.32s\n",
      "365:\tlearn: 0.1667796\ttotal: 2.49s\tremaining: 4.31s\n",
      "366:\tlearn: 0.1667374\ttotal: 2.49s\tremaining: 4.3s\n",
      "367:\tlearn: 0.1666934\ttotal: 2.5s\tremaining: 4.29s\n",
      "368:\tlearn: 0.1666280\ttotal: 2.5s\tremaining: 4.28s\n",
      "369:\tlearn: 0.1665774\ttotal: 2.51s\tremaining: 4.28s\n",
      "370:\tlearn: 0.1665406\ttotal: 2.52s\tremaining: 4.26s\n",
      "371:\tlearn: 0.1664759\ttotal: 2.52s\tremaining: 4.25s\n",
      "372:\tlearn: 0.1664183\ttotal: 2.52s\tremaining: 4.25s\n",
      "373:\tlearn: 0.1663069\ttotal: 2.53s\tremaining: 4.23s\n",
      "374:\tlearn: 0.1662453\ttotal: 2.53s\tremaining: 4.22s\n",
      "375:\tlearn: 0.1662078\ttotal: 2.54s\tremaining: 4.21s\n",
      "376:\tlearn: 0.1661721\ttotal: 2.54s\tremaining: 4.2s\n",
      "377:\tlearn: 0.1661358\ttotal: 2.55s\tremaining: 4.19s\n",
      "378:\tlearn: 0.1661003\ttotal: 2.55s\tremaining: 4.18s\n",
      "379:\tlearn: 0.1660101\ttotal: 2.56s\tremaining: 4.17s\n",
      "380:\tlearn: 0.1659759\ttotal: 2.56s\tremaining: 4.16s\n",
      "381:\tlearn: 0.1659423\ttotal: 2.57s\tremaining: 4.15s\n",
      "382:\tlearn: 0.1658915\ttotal: 2.57s\tremaining: 4.14s\n",
      "383:\tlearn: 0.1657951\ttotal: 2.58s\tremaining: 4.13s\n",
      "384:\tlearn: 0.1657642\ttotal: 2.58s\tremaining: 4.12s\n",
      "385:\tlearn: 0.1655898\ttotal: 2.59s\tremaining: 4.12s\n",
      "386:\tlearn: 0.1655433\ttotal: 2.59s\tremaining: 4.11s\n",
      "387:\tlearn: 0.1654092\ttotal: 2.6s\tremaining: 4.09s\n",
      "388:\tlearn: 0.1653573\ttotal: 2.6s\tremaining: 4.09s\n",
      "389:\tlearn: 0.1653314\ttotal: 2.61s\tremaining: 4.08s\n",
      "390:\tlearn: 0.1652596\ttotal: 2.61s\tremaining: 4.07s\n",
      "391:\tlearn: 0.1652308\ttotal: 2.62s\tremaining: 4.06s\n",
      "392:\tlearn: 0.1652021\ttotal: 2.62s\tremaining: 4.05s\n",
      "393:\tlearn: 0.1649405\ttotal: 2.63s\tremaining: 4.04s\n",
      "394:\tlearn: 0.1648661\ttotal: 2.63s\tremaining: 4.03s\n",
      "395:\tlearn: 0.1648422\ttotal: 2.63s\tremaining: 4.02s\n",
      "396:\tlearn: 0.1647315\ttotal: 2.64s\tremaining: 4.01s\n",
      "397:\tlearn: 0.1646799\ttotal: 2.64s\tremaining: 4s\n",
      "398:\tlearn: 0.1645315\ttotal: 2.65s\tremaining: 3.99s\n",
      "399:\tlearn: 0.1644281\ttotal: 2.65s\tremaining: 3.98s\n",
      "400:\tlearn: 0.1643143\ttotal: 2.65s\tremaining: 3.97s\n",
      "401:\tlearn: 0.1642794\ttotal: 2.66s\tremaining: 3.96s\n",
      "402:\tlearn: 0.1641551\ttotal: 2.66s\tremaining: 3.95s\n",
      "403:\tlearn: 0.1640039\ttotal: 2.67s\tremaining: 3.93s\n",
      "404:\tlearn: 0.1639156\ttotal: 2.67s\tremaining: 3.92s\n",
      "405:\tlearn: 0.1638728\ttotal: 2.67s\tremaining: 3.91s\n",
      "406:\tlearn: 0.1638375\ttotal: 2.68s\tremaining: 3.9s\n",
      "407:\tlearn: 0.1636152\ttotal: 2.68s\tremaining: 3.89s\n",
      "408:\tlearn: 0.1635060\ttotal: 2.69s\tremaining: 3.88s\n",
      "409:\tlearn: 0.1634424\ttotal: 2.69s\tremaining: 3.88s\n",
      "410:\tlearn: 0.1632300\ttotal: 2.7s\tremaining: 3.87s\n",
      "411:\tlearn: 0.1631867\ttotal: 2.7s\tremaining: 3.85s\n",
      "412:\tlearn: 0.1630022\ttotal: 2.71s\tremaining: 3.85s\n",
      "413:\tlearn: 0.1629778\ttotal: 2.71s\tremaining: 3.84s\n",
      "414:\tlearn: 0.1629248\ttotal: 2.71s\tremaining: 3.83s\n",
      "415:\tlearn: 0.1628589\ttotal: 2.72s\tremaining: 3.82s\n",
      "416:\tlearn: 0.1626557\ttotal: 2.73s\tremaining: 3.81s\n",
      "417:\tlearn: 0.1625395\ttotal: 2.73s\tremaining: 3.8s\n",
      "418:\tlearn: 0.1623680\ttotal: 2.73s\tremaining: 3.79s\n",
      "419:\tlearn: 0.1623065\ttotal: 2.74s\tremaining: 3.78s\n",
      "420:\tlearn: 0.1622863\ttotal: 2.74s\tremaining: 3.77s\n",
      "421:\tlearn: 0.1622037\ttotal: 2.75s\tremaining: 3.76s\n",
      "422:\tlearn: 0.1621019\ttotal: 2.75s\tremaining: 3.75s\n",
      "423:\tlearn: 0.1619826\ttotal: 2.75s\tremaining: 3.74s\n",
      "424:\tlearn: 0.1619211\ttotal: 2.76s\tremaining: 3.73s\n",
      "425:\tlearn: 0.1618863\ttotal: 2.76s\tremaining: 3.72s\n",
      "426:\tlearn: 0.1617025\ttotal: 2.77s\tremaining: 3.71s\n",
      "427:\tlearn: 0.1616435\ttotal: 2.77s\tremaining: 3.7s\n",
      "428:\tlearn: 0.1615314\ttotal: 2.77s\tremaining: 3.69s\n",
      "429:\tlearn: 0.1614034\ttotal: 2.78s\tremaining: 3.68s\n",
      "430:\tlearn: 0.1612657\ttotal: 2.78s\tremaining: 3.67s\n",
      "431:\tlearn: 0.1611271\ttotal: 2.79s\tremaining: 3.67s\n",
      "432:\tlearn: 0.1609852\ttotal: 2.79s\tremaining: 3.65s\n",
      "433:\tlearn: 0.1609634\ttotal: 2.79s\tremaining: 3.65s\n",
      "434:\tlearn: 0.1608668\ttotal: 2.8s\tremaining: 3.63s\n",
      "435:\tlearn: 0.1606595\ttotal: 2.8s\tremaining: 3.63s\n",
      "436:\tlearn: 0.1604767\ttotal: 2.81s\tremaining: 3.62s\n",
      "437:\tlearn: 0.1603757\ttotal: 2.81s\tremaining: 3.61s\n",
      "438:\tlearn: 0.1603348\ttotal: 2.82s\tremaining: 3.6s\n",
      "439:\tlearn: 0.1601533\ttotal: 2.82s\tremaining: 3.59s\n",
      "440:\tlearn: 0.1599494\ttotal: 2.82s\tremaining: 3.58s\n",
      "441:\tlearn: 0.1598546\ttotal: 2.83s\tremaining: 3.57s\n",
      "442:\tlearn: 0.1597286\ttotal: 2.83s\tremaining: 3.56s\n",
      "443:\tlearn: 0.1596999\ttotal: 2.84s\tremaining: 3.55s\n",
      "444:\tlearn: 0.1595825\ttotal: 2.84s\tremaining: 3.54s\n",
      "445:\tlearn: 0.1595096\ttotal: 2.84s\tremaining: 3.53s\n",
      "446:\tlearn: 0.1594308\ttotal: 2.85s\tremaining: 3.52s\n",
      "447:\tlearn: 0.1593521\ttotal: 2.85s\tremaining: 3.51s\n",
      "448:\tlearn: 0.1591251\ttotal: 2.86s\tremaining: 3.5s\n",
      "449:\tlearn: 0.1588860\ttotal: 2.86s\tremaining: 3.5s\n",
      "450:\tlearn: 0.1587904\ttotal: 2.86s\tremaining: 3.48s\n",
      "451:\tlearn: 0.1587118\ttotal: 2.87s\tremaining: 3.48s\n",
      "452:\tlearn: 0.1586707\ttotal: 2.87s\tremaining: 3.47s\n",
      "453:\tlearn: 0.1585969\ttotal: 2.88s\tremaining: 3.46s\n",
      "454:\tlearn: 0.1584957\ttotal: 2.88s\tremaining: 3.45s\n",
      "455:\tlearn: 0.1583951\ttotal: 2.88s\tremaining: 3.44s\n",
      "456:\tlearn: 0.1582912\ttotal: 2.89s\tremaining: 3.43s\n",
      "457:\tlearn: 0.1580931\ttotal: 2.89s\tremaining: 3.42s\n",
      "458:\tlearn: 0.1579703\ttotal: 2.89s\tremaining: 3.41s\n",
      "459:\tlearn: 0.1578506\ttotal: 2.9s\tremaining: 3.4s\n",
      "460:\tlearn: 0.1576932\ttotal: 2.9s\tremaining: 3.39s\n",
      "461:\tlearn: 0.1576310\ttotal: 2.9s\tremaining: 3.38s\n",
      "462:\tlearn: 0.1574516\ttotal: 2.9s\tremaining: 3.37s\n",
      "463:\tlearn: 0.1573542\ttotal: 2.91s\tremaining: 3.36s\n",
      "464:\tlearn: 0.1572906\ttotal: 2.91s\tremaining: 3.35s\n",
      "465:\tlearn: 0.1571537\ttotal: 2.91s\tremaining: 3.34s\n",
      "466:\tlearn: 0.1570102\ttotal: 2.92s\tremaining: 3.33s\n",
      "467:\tlearn: 0.1569499\ttotal: 2.92s\tremaining: 3.32s\n",
      "468:\tlearn: 0.1568312\ttotal: 2.92s\tremaining: 3.31s\n",
      "469:\tlearn: 0.1567479\ttotal: 2.93s\tremaining: 3.3s\n",
      "470:\tlearn: 0.1566239\ttotal: 2.93s\tremaining: 3.29s\n",
      "471:\tlearn: 0.1564945\ttotal: 2.94s\tremaining: 3.28s\n",
      "472:\tlearn: 0.1562787\ttotal: 2.94s\tremaining: 3.27s\n",
      "473:\tlearn: 0.1562225\ttotal: 2.94s\tremaining: 3.26s\n",
      "474:\tlearn: 0.1562048\ttotal: 2.94s\tremaining: 3.25s\n",
      "475:\tlearn: 0.1561294\ttotal: 2.95s\tremaining: 3.24s\n",
      "476:\tlearn: 0.1560520\ttotal: 2.95s\tremaining: 3.23s\n",
      "477:\tlearn: 0.1559576\ttotal: 2.95s\tremaining: 3.23s\n",
      "478:\tlearn: 0.1557698\ttotal: 2.96s\tremaining: 3.21s\n",
      "479:\tlearn: 0.1557157\ttotal: 2.96s\tremaining: 3.21s\n",
      "480:\tlearn: 0.1555461\ttotal: 2.96s\tremaining: 3.2s\n",
      "481:\tlearn: 0.1555076\ttotal: 2.97s\tremaining: 3.19s\n",
      "482:\tlearn: 0.1553756\ttotal: 2.97s\tremaining: 3.18s\n",
      "483:\tlearn: 0.1553048\ttotal: 2.97s\tremaining: 3.17s\n",
      "484:\tlearn: 0.1551912\ttotal: 2.98s\tremaining: 3.16s\n",
      "485:\tlearn: 0.1550658\ttotal: 2.98s\tremaining: 3.15s\n",
      "486:\tlearn: 0.1549074\ttotal: 2.98s\tremaining: 3.14s\n",
      "487:\tlearn: 0.1547838\ttotal: 2.99s\tremaining: 3.13s\n",
      "488:\tlearn: 0.1547416\ttotal: 2.99s\tremaining: 3.12s\n",
      "489:\tlearn: 0.1546555\ttotal: 2.99s\tremaining: 3.11s\n",
      "490:\tlearn: 0.1545685\ttotal: 3s\tremaining: 3.1s\n",
      "491:\tlearn: 0.1544796\ttotal: 3s\tremaining: 3.1s\n",
      "492:\tlearn: 0.1544027\ttotal: 3s\tremaining: 3.09s\n",
      "493:\tlearn: 0.1543464\ttotal: 3s\tremaining: 3.08s\n",
      "494:\tlearn: 0.1542656\ttotal: 3.01s\tremaining: 3.07s\n",
      "495:\tlearn: 0.1541381\ttotal: 3.01s\tremaining: 3.06s\n",
      "496:\tlearn: 0.1538765\ttotal: 3.02s\tremaining: 3.05s\n",
      "497:\tlearn: 0.1538487\ttotal: 3.02s\tremaining: 3.04s\n",
      "498:\tlearn: 0.1536174\ttotal: 3.02s\tremaining: 3.04s\n",
      "499:\tlearn: 0.1534531\ttotal: 3.03s\tremaining: 3.03s\n",
      "500:\tlearn: 0.1533325\ttotal: 3.03s\tremaining: 3.02s\n",
      "501:\tlearn: 0.1532720\ttotal: 3.03s\tremaining: 3.01s\n",
      "502:\tlearn: 0.1532003\ttotal: 3.04s\tremaining: 3s\n",
      "503:\tlearn: 0.1531052\ttotal: 3.04s\tremaining: 2.99s\n",
      "504:\tlearn: 0.1529960\ttotal: 3.04s\tremaining: 2.98s\n",
      "505:\tlearn: 0.1528160\ttotal: 3.04s\tremaining: 2.97s\n",
      "506:\tlearn: 0.1527129\ttotal: 3.05s\tremaining: 2.96s\n",
      "507:\tlearn: 0.1525999\ttotal: 3.05s\tremaining: 2.96s\n",
      "508:\tlearn: 0.1525247\ttotal: 3.06s\tremaining: 2.95s\n",
      "509:\tlearn: 0.1523937\ttotal: 3.06s\tremaining: 2.94s\n",
      "510:\tlearn: 0.1522419\ttotal: 3.06s\tremaining: 2.93s\n",
      "511:\tlearn: 0.1521705\ttotal: 3.06s\tremaining: 2.92s\n",
      "512:\tlearn: 0.1520720\ttotal: 3.07s\tremaining: 2.91s\n",
      "513:\tlearn: 0.1519974\ttotal: 3.07s\tremaining: 2.9s\n",
      "514:\tlearn: 0.1519534\ttotal: 3.07s\tremaining: 2.89s\n",
      "515:\tlearn: 0.1518125\ttotal: 3.08s\tremaining: 2.88s\n",
      "516:\tlearn: 0.1517034\ttotal: 3.08s\tremaining: 2.88s\n",
      "517:\tlearn: 0.1515887\ttotal: 3.08s\tremaining: 2.87s\n",
      "518:\tlearn: 0.1515734\ttotal: 3.08s\tremaining: 2.86s\n",
      "519:\tlearn: 0.1514760\ttotal: 3.09s\tremaining: 2.85s\n",
      "520:\tlearn: 0.1513296\ttotal: 3.09s\tremaining: 2.84s\n",
      "521:\tlearn: 0.1511860\ttotal: 3.09s\tremaining: 2.83s\n",
      "522:\tlearn: 0.1510609\ttotal: 3.1s\tremaining: 2.83s\n",
      "523:\tlearn: 0.1509602\ttotal: 3.1s\tremaining: 2.82s\n",
      "524:\tlearn: 0.1508658\ttotal: 3.1s\tremaining: 2.81s\n",
      "525:\tlearn: 0.1508027\ttotal: 3.11s\tremaining: 2.8s\n",
      "526:\tlearn: 0.1507576\ttotal: 3.11s\tremaining: 2.79s\n",
      "527:\tlearn: 0.1506092\ttotal: 3.12s\tremaining: 2.78s\n",
      "528:\tlearn: 0.1504869\ttotal: 3.12s\tremaining: 2.78s\n",
      "529:\tlearn: 0.1504029\ttotal: 3.12s\tremaining: 2.77s\n",
      "530:\tlearn: 0.1502786\ttotal: 3.12s\tremaining: 2.76s\n",
      "531:\tlearn: 0.1501908\ttotal: 3.13s\tremaining: 2.75s\n",
      "532:\tlearn: 0.1501638\ttotal: 3.13s\tremaining: 2.74s\n",
      "533:\tlearn: 0.1501415\ttotal: 3.13s\tremaining: 2.73s\n"
     ]
    },
    {
     "name": "stdout",
     "output_type": "stream",
     "text": [
      "534:\tlearn: 0.1500302\ttotal: 3.14s\tremaining: 2.73s\n",
      "535:\tlearn: 0.1500058\ttotal: 3.14s\tremaining: 2.72s\n",
      "536:\tlearn: 0.1498587\ttotal: 3.14s\tremaining: 2.71s\n",
      "537:\tlearn: 0.1497430\ttotal: 3.15s\tremaining: 2.7s\n",
      "538:\tlearn: 0.1496587\ttotal: 3.15s\tremaining: 2.69s\n",
      "539:\tlearn: 0.1496329\ttotal: 3.15s\tremaining: 2.69s\n",
      "540:\tlearn: 0.1495469\ttotal: 3.15s\tremaining: 2.68s\n",
      "541:\tlearn: 0.1494191\ttotal: 3.16s\tremaining: 2.67s\n",
      "542:\tlearn: 0.1491873\ttotal: 3.16s\tremaining: 2.66s\n",
      "543:\tlearn: 0.1490407\ttotal: 3.16s\tremaining: 2.65s\n",
      "544:\tlearn: 0.1490199\ttotal: 3.17s\tremaining: 2.64s\n",
      "545:\tlearn: 0.1489343\ttotal: 3.17s\tremaining: 2.64s\n",
      "546:\tlearn: 0.1488867\ttotal: 3.17s\tremaining: 2.63s\n",
      "547:\tlearn: 0.1487951\ttotal: 3.18s\tremaining: 2.62s\n",
      "548:\tlearn: 0.1486021\ttotal: 3.18s\tremaining: 2.61s\n",
      "549:\tlearn: 0.1484531\ttotal: 3.18s\tremaining: 2.6s\n",
      "550:\tlearn: 0.1483439\ttotal: 3.19s\tremaining: 2.6s\n",
      "551:\tlearn: 0.1482369\ttotal: 3.19s\tremaining: 2.59s\n",
      "552:\tlearn: 0.1481008\ttotal: 3.19s\tremaining: 2.58s\n",
      "553:\tlearn: 0.1480496\ttotal: 3.2s\tremaining: 2.57s\n",
      "554:\tlearn: 0.1478866\ttotal: 3.2s\tremaining: 2.57s\n",
      "555:\tlearn: 0.1478058\ttotal: 3.2s\tremaining: 2.56s\n",
      "556:\tlearn: 0.1477497\ttotal: 3.21s\tremaining: 2.55s\n",
      "557:\tlearn: 0.1477302\ttotal: 3.21s\tremaining: 2.54s\n",
      "558:\tlearn: 0.1475654\ttotal: 3.21s\tremaining: 2.53s\n",
      "559:\tlearn: 0.1475441\ttotal: 3.21s\tremaining: 2.53s\n",
      "560:\tlearn: 0.1473135\ttotal: 3.22s\tremaining: 2.52s\n",
      "561:\tlearn: 0.1472068\ttotal: 3.22s\tremaining: 2.51s\n",
      "562:\tlearn: 0.1470955\ttotal: 3.23s\tremaining: 2.5s\n",
      "563:\tlearn: 0.1469257\ttotal: 3.23s\tremaining: 2.5s\n",
      "564:\tlearn: 0.1468363\ttotal: 3.23s\tremaining: 2.49s\n",
      "565:\tlearn: 0.1466949\ttotal: 3.23s\tremaining: 2.48s\n",
      "566:\tlearn: 0.1465861\ttotal: 3.24s\tremaining: 2.47s\n",
      "567:\tlearn: 0.1465007\ttotal: 3.24s\tremaining: 2.46s\n",
      "568:\tlearn: 0.1464229\ttotal: 3.24s\tremaining: 2.46s\n",
      "569:\tlearn: 0.1463582\ttotal: 3.25s\tremaining: 2.45s\n",
      "570:\tlearn: 0.1461878\ttotal: 3.25s\tremaining: 2.44s\n",
      "571:\tlearn: 0.1460254\ttotal: 3.25s\tremaining: 2.43s\n",
      "572:\tlearn: 0.1459763\ttotal: 3.26s\tremaining: 2.43s\n",
      "573:\tlearn: 0.1457608\ttotal: 3.26s\tremaining: 2.42s\n",
      "574:\tlearn: 0.1456990\ttotal: 3.26s\tremaining: 2.41s\n",
      "575:\tlearn: 0.1455704\ttotal: 3.27s\tremaining: 2.4s\n",
      "576:\tlearn: 0.1454954\ttotal: 3.27s\tremaining: 2.4s\n",
      "577:\tlearn: 0.1453945\ttotal: 3.27s\tremaining: 2.39s\n",
      "578:\tlearn: 0.1452516\ttotal: 3.28s\tremaining: 2.38s\n",
      "579:\tlearn: 0.1451536\ttotal: 3.28s\tremaining: 2.37s\n",
      "580:\tlearn: 0.1449888\ttotal: 3.28s\tremaining: 2.37s\n",
      "581:\tlearn: 0.1449580\ttotal: 3.29s\tremaining: 2.36s\n",
      "582:\tlearn: 0.1447498\ttotal: 3.29s\tremaining: 2.35s\n",
      "583:\tlearn: 0.1446494\ttotal: 3.29s\tremaining: 2.34s\n",
      "584:\tlearn: 0.1446168\ttotal: 3.29s\tremaining: 2.34s\n",
      "585:\tlearn: 0.1445495\ttotal: 3.3s\tremaining: 2.33s\n",
      "586:\tlearn: 0.1444494\ttotal: 3.3s\tremaining: 2.32s\n",
      "587:\tlearn: 0.1444063\ttotal: 3.3s\tremaining: 2.31s\n",
      "588:\tlearn: 0.1443829\ttotal: 3.31s\tremaining: 2.31s\n",
      "589:\tlearn: 0.1443243\ttotal: 3.31s\tremaining: 2.3s\n",
      "590:\tlearn: 0.1442458\ttotal: 3.31s\tremaining: 2.29s\n",
      "591:\tlearn: 0.1441830\ttotal: 3.31s\tremaining: 2.29s\n",
      "592:\tlearn: 0.1441357\ttotal: 3.32s\tremaining: 2.28s\n",
      "593:\tlearn: 0.1440781\ttotal: 3.32s\tremaining: 2.27s\n",
      "594:\tlearn: 0.1439834\ttotal: 3.32s\tremaining: 2.26s\n",
      "595:\tlearn: 0.1439028\ttotal: 3.33s\tremaining: 2.25s\n",
      "596:\tlearn: 0.1438747\ttotal: 3.33s\tremaining: 2.25s\n",
      "597:\tlearn: 0.1438133\ttotal: 3.33s\tremaining: 2.24s\n",
      "598:\tlearn: 0.1437484\ttotal: 3.34s\tremaining: 2.23s\n",
      "599:\tlearn: 0.1437100\ttotal: 3.34s\tremaining: 2.23s\n",
      "600:\tlearn: 0.1434614\ttotal: 3.35s\tremaining: 2.22s\n",
      "601:\tlearn: 0.1434280\ttotal: 3.35s\tremaining: 2.21s\n",
      "602:\tlearn: 0.1433199\ttotal: 3.35s\tremaining: 2.21s\n",
      "603:\tlearn: 0.1432289\ttotal: 3.35s\tremaining: 2.2s\n",
      "604:\tlearn: 0.1431418\ttotal: 3.36s\tremaining: 2.19s\n",
      "605:\tlearn: 0.1430311\ttotal: 3.37s\tremaining: 2.19s\n",
      "606:\tlearn: 0.1429299\ttotal: 3.37s\tremaining: 2.18s\n",
      "607:\tlearn: 0.1428052\ttotal: 3.37s\tremaining: 2.17s\n",
      "608:\tlearn: 0.1426910\ttotal: 3.38s\tremaining: 2.17s\n",
      "609:\tlearn: 0.1426027\ttotal: 3.38s\tremaining: 2.16s\n",
      "610:\tlearn: 0.1425375\ttotal: 3.38s\tremaining: 2.15s\n",
      "611:\tlearn: 0.1424705\ttotal: 3.39s\tremaining: 2.15s\n",
      "612:\tlearn: 0.1424485\ttotal: 3.39s\tremaining: 2.14s\n",
      "613:\tlearn: 0.1423331\ttotal: 3.4s\tremaining: 2.13s\n",
      "614:\tlearn: 0.1421780\ttotal: 3.4s\tremaining: 2.13s\n",
      "615:\tlearn: 0.1420588\ttotal: 3.4s\tremaining: 2.12s\n",
      "616:\tlearn: 0.1419530\ttotal: 3.41s\tremaining: 2.11s\n",
      "617:\tlearn: 0.1418868\ttotal: 3.41s\tremaining: 2.11s\n",
      "618:\tlearn: 0.1418432\ttotal: 3.41s\tremaining: 2.1s\n",
      "619:\tlearn: 0.1417672\ttotal: 3.42s\tremaining: 2.09s\n",
      "620:\tlearn: 0.1417354\ttotal: 3.42s\tremaining: 2.09s\n",
      "621:\tlearn: 0.1417156\ttotal: 3.42s\tremaining: 2.08s\n",
      "622:\tlearn: 0.1416140\ttotal: 3.43s\tremaining: 2.07s\n",
      "623:\tlearn: 0.1415321\ttotal: 3.43s\tremaining: 2.07s\n",
      "624:\tlearn: 0.1413882\ttotal: 3.43s\tremaining: 2.06s\n",
      "625:\tlearn: 0.1412258\ttotal: 3.44s\tremaining: 2.05s\n",
      "626:\tlearn: 0.1411249\ttotal: 3.44s\tremaining: 2.05s\n",
      "627:\tlearn: 0.1410760\ttotal: 3.44s\tremaining: 2.04s\n",
      "628:\tlearn: 0.1410020\ttotal: 3.45s\tremaining: 2.03s\n",
      "629:\tlearn: 0.1409477\ttotal: 3.45s\tremaining: 2.03s\n",
      "630:\tlearn: 0.1408577\ttotal: 3.46s\tremaining: 2.02s\n",
      "631:\tlearn: 0.1407818\ttotal: 3.46s\tremaining: 2.01s\n",
      "632:\tlearn: 0.1407006\ttotal: 3.46s\tremaining: 2.01s\n",
      "633:\tlearn: 0.1406384\ttotal: 3.47s\tremaining: 2s\n",
      "634:\tlearn: 0.1405721\ttotal: 3.47s\tremaining: 2s\n",
      "635:\tlearn: 0.1405235\ttotal: 3.47s\tremaining: 1.99s\n",
      "636:\tlearn: 0.1403172\ttotal: 3.48s\tremaining: 1.98s\n",
      "637:\tlearn: 0.1402606\ttotal: 3.48s\tremaining: 1.98s\n",
      "638:\tlearn: 0.1401176\ttotal: 3.49s\tremaining: 1.97s\n",
      "639:\tlearn: 0.1400447\ttotal: 3.49s\tremaining: 1.96s\n",
      "640:\tlearn: 0.1398341\ttotal: 3.49s\tremaining: 1.96s\n",
      "641:\tlearn: 0.1397729\ttotal: 3.5s\tremaining: 1.95s\n",
      "642:\tlearn: 0.1396317\ttotal: 3.5s\tremaining: 1.94s\n",
      "643:\tlearn: 0.1394851\ttotal: 3.5s\tremaining: 1.94s\n",
      "644:\tlearn: 0.1394197\ttotal: 3.51s\tremaining: 1.93s\n",
      "645:\tlearn: 0.1393927\ttotal: 3.51s\tremaining: 1.92s\n",
      "646:\tlearn: 0.1393511\ttotal: 3.51s\tremaining: 1.92s\n",
      "647:\tlearn: 0.1392763\ttotal: 3.52s\tremaining: 1.91s\n",
      "648:\tlearn: 0.1392013\ttotal: 3.52s\tremaining: 1.9s\n",
      "649:\tlearn: 0.1391557\ttotal: 3.52s\tremaining: 1.9s\n",
      "650:\tlearn: 0.1390115\ttotal: 3.53s\tremaining: 1.89s\n",
      "651:\tlearn: 0.1389642\ttotal: 3.53s\tremaining: 1.88s\n",
      "652:\tlearn: 0.1388779\ttotal: 3.53s\tremaining: 1.88s\n",
      "653:\tlearn: 0.1387862\ttotal: 3.54s\tremaining: 1.87s\n",
      "654:\tlearn: 0.1387086\ttotal: 3.54s\tremaining: 1.86s\n",
      "655:\tlearn: 0.1386210\ttotal: 3.54s\tremaining: 1.86s\n",
      "656:\tlearn: 0.1385821\ttotal: 3.55s\tremaining: 1.85s\n",
      "657:\tlearn: 0.1385188\ttotal: 3.55s\tremaining: 1.84s\n",
      "658:\tlearn: 0.1384693\ttotal: 3.55s\tremaining: 1.84s\n",
      "659:\tlearn: 0.1383501\ttotal: 3.56s\tremaining: 1.83s\n",
      "660:\tlearn: 0.1382892\ttotal: 3.56s\tremaining: 1.82s\n",
      "661:\tlearn: 0.1382196\ttotal: 3.56s\tremaining: 1.82s\n",
      "662:\tlearn: 0.1381019\ttotal: 3.56s\tremaining: 1.81s\n",
      "663:\tlearn: 0.1380345\ttotal: 3.57s\tremaining: 1.8s\n",
      "664:\tlearn: 0.1378598\ttotal: 3.57s\tremaining: 1.8s\n",
      "665:\tlearn: 0.1378145\ttotal: 3.58s\tremaining: 1.79s\n",
      "666:\tlearn: 0.1377909\ttotal: 3.58s\tremaining: 1.79s\n",
      "667:\tlearn: 0.1377707\ttotal: 3.58s\tremaining: 1.78s\n",
      "668:\tlearn: 0.1376942\ttotal: 3.58s\tremaining: 1.77s\n",
      "669:\tlearn: 0.1375823\ttotal: 3.59s\tremaining: 1.77s\n",
      "670:\tlearn: 0.1374068\ttotal: 3.59s\tremaining: 1.76s\n",
      "671:\tlearn: 0.1373728\ttotal: 3.59s\tremaining: 1.75s\n",
      "672:\tlearn: 0.1372401\ttotal: 3.6s\tremaining: 1.75s\n",
      "673:\tlearn: 0.1371453\ttotal: 3.6s\tremaining: 1.74s\n",
      "674:\tlearn: 0.1370690\ttotal: 3.6s\tremaining: 1.73s\n",
      "675:\tlearn: 0.1370489\ttotal: 3.6s\tremaining: 1.73s\n",
      "676:\tlearn: 0.1370037\ttotal: 3.61s\tremaining: 1.72s\n",
      "677:\tlearn: 0.1369030\ttotal: 3.61s\tremaining: 1.72s\n",
      "678:\tlearn: 0.1368583\ttotal: 3.62s\tremaining: 1.71s\n",
      "679:\tlearn: 0.1368135\ttotal: 3.62s\tremaining: 1.7s\n",
      "680:\tlearn: 0.1365752\ttotal: 3.62s\tremaining: 1.7s\n",
      "681:\tlearn: 0.1363928\ttotal: 3.63s\tremaining: 1.69s\n",
      "682:\tlearn: 0.1363670\ttotal: 3.63s\tremaining: 1.68s\n",
      "683:\tlearn: 0.1362369\ttotal: 3.63s\tremaining: 1.68s\n",
      "684:\tlearn: 0.1360908\ttotal: 3.63s\tremaining: 1.67s\n",
      "685:\tlearn: 0.1360716\ttotal: 3.64s\tremaining: 1.67s\n",
      "686:\tlearn: 0.1359037\ttotal: 3.64s\tremaining: 1.66s\n",
      "687:\tlearn: 0.1358280\ttotal: 3.64s\tremaining: 1.65s\n",
      "688:\tlearn: 0.1358096\ttotal: 3.65s\tremaining: 1.65s\n",
      "689:\tlearn: 0.1357633\ttotal: 3.65s\tremaining: 1.64s\n",
      "690:\tlearn: 0.1357126\ttotal: 3.65s\tremaining: 1.63s\n",
      "691:\tlearn: 0.1356544\ttotal: 3.66s\tremaining: 1.63s\n",
      "692:\tlearn: 0.1354949\ttotal: 3.66s\tremaining: 1.62s\n",
      "693:\tlearn: 0.1354499\ttotal: 3.66s\tremaining: 1.61s\n",
      "694:\tlearn: 0.1353726\ttotal: 3.67s\tremaining: 1.61s\n",
      "695:\tlearn: 0.1353429\ttotal: 3.67s\tremaining: 1.6s\n",
      "696:\tlearn: 0.1352754\ttotal: 3.67s\tremaining: 1.6s\n",
      "697:\tlearn: 0.1350963\ttotal: 3.68s\tremaining: 1.59s\n",
      "698:\tlearn: 0.1350564\ttotal: 3.68s\tremaining: 1.58s\n",
      "699:\tlearn: 0.1349598\ttotal: 3.69s\tremaining: 1.58s\n",
      "700:\tlearn: 0.1348448\ttotal: 3.69s\tremaining: 1.57s\n",
      "701:\tlearn: 0.1348046\ttotal: 3.69s\tremaining: 1.57s\n",
      "702:\tlearn: 0.1347628\ttotal: 3.7s\tremaining: 1.56s\n",
      "703:\tlearn: 0.1346851\ttotal: 3.7s\tremaining: 1.56s\n"
     ]
    },
    {
     "name": "stdout",
     "output_type": "stream",
     "text": [
      "704:\tlearn: 0.1345995\ttotal: 3.71s\tremaining: 1.55s\n",
      "705:\tlearn: 0.1345670\ttotal: 3.71s\tremaining: 1.55s\n",
      "706:\tlearn: 0.1344480\ttotal: 3.72s\tremaining: 1.54s\n",
      "707:\tlearn: 0.1343312\ttotal: 3.72s\tremaining: 1.53s\n",
      "708:\tlearn: 0.1342557\ttotal: 3.72s\tremaining: 1.53s\n",
      "709:\tlearn: 0.1341379\ttotal: 3.73s\tremaining: 1.52s\n",
      "710:\tlearn: 0.1340793\ttotal: 3.73s\tremaining: 1.52s\n",
      "711:\tlearn: 0.1339996\ttotal: 3.74s\tremaining: 1.51s\n",
      "712:\tlearn: 0.1339081\ttotal: 3.74s\tremaining: 1.5s\n",
      "713:\tlearn: 0.1337960\ttotal: 3.74s\tremaining: 1.5s\n",
      "714:\tlearn: 0.1337154\ttotal: 3.75s\tremaining: 1.49s\n",
      "715:\tlearn: 0.1336866\ttotal: 3.75s\tremaining: 1.49s\n",
      "716:\tlearn: 0.1336281\ttotal: 3.75s\tremaining: 1.48s\n",
      "717:\tlearn: 0.1335175\ttotal: 3.76s\tremaining: 1.48s\n",
      "718:\tlearn: 0.1334792\ttotal: 3.76s\tremaining: 1.47s\n",
      "719:\tlearn: 0.1334053\ttotal: 3.76s\tremaining: 1.46s\n",
      "720:\tlearn: 0.1333534\ttotal: 3.77s\tremaining: 1.46s\n",
      "721:\tlearn: 0.1332504\ttotal: 3.77s\tremaining: 1.45s\n",
      "722:\tlearn: 0.1331969\ttotal: 3.77s\tremaining: 1.44s\n",
      "723:\tlearn: 0.1330952\ttotal: 3.77s\tremaining: 1.44s\n",
      "724:\tlearn: 0.1330525\ttotal: 3.78s\tremaining: 1.43s\n",
      "725:\tlearn: 0.1330237\ttotal: 3.78s\tremaining: 1.43s\n",
      "726:\tlearn: 0.1329772\ttotal: 3.78s\tremaining: 1.42s\n",
      "727:\tlearn: 0.1329342\ttotal: 3.79s\tremaining: 1.42s\n",
      "728:\tlearn: 0.1328652\ttotal: 3.79s\tremaining: 1.41s\n",
      "729:\tlearn: 0.1328154\ttotal: 3.79s\tremaining: 1.4s\n",
      "730:\tlearn: 0.1327074\ttotal: 3.8s\tremaining: 1.4s\n",
      "731:\tlearn: 0.1326631\ttotal: 3.8s\tremaining: 1.39s\n",
      "732:\tlearn: 0.1325500\ttotal: 3.8s\tremaining: 1.39s\n",
      "733:\tlearn: 0.1324836\ttotal: 3.81s\tremaining: 1.38s\n",
      "734:\tlearn: 0.1323892\ttotal: 3.81s\tremaining: 1.37s\n",
      "735:\tlearn: 0.1323507\ttotal: 3.81s\tremaining: 1.37s\n",
      "736:\tlearn: 0.1322700\ttotal: 3.81s\tremaining: 1.36s\n",
      "737:\tlearn: 0.1322397\ttotal: 3.82s\tremaining: 1.36s\n",
      "738:\tlearn: 0.1322261\ttotal: 3.82s\tremaining: 1.35s\n",
      "739:\tlearn: 0.1321315\ttotal: 3.83s\tremaining: 1.34s\n",
      "740:\tlearn: 0.1321024\ttotal: 3.83s\tremaining: 1.34s\n",
      "741:\tlearn: 0.1320629\ttotal: 3.83s\tremaining: 1.33s\n",
      "742:\tlearn: 0.1319712\ttotal: 3.83s\tremaining: 1.33s\n",
      "743:\tlearn: 0.1318982\ttotal: 3.84s\tremaining: 1.32s\n",
      "744:\tlearn: 0.1318181\ttotal: 3.84s\tremaining: 1.31s\n",
      "745:\tlearn: 0.1317862\ttotal: 3.85s\tremaining: 1.31s\n",
      "746:\tlearn: 0.1317160\ttotal: 3.85s\tremaining: 1.3s\n",
      "747:\tlearn: 0.1316046\ttotal: 3.85s\tremaining: 1.3s\n",
      "748:\tlearn: 0.1315504\ttotal: 3.85s\tremaining: 1.29s\n",
      "749:\tlearn: 0.1314886\ttotal: 3.86s\tremaining: 1.29s\n",
      "750:\tlearn: 0.1313458\ttotal: 3.86s\tremaining: 1.28s\n",
      "751:\tlearn: 0.1312443\ttotal: 3.87s\tremaining: 1.27s\n",
      "752:\tlearn: 0.1312150\ttotal: 3.87s\tremaining: 1.27s\n",
      "753:\tlearn: 0.1311044\ttotal: 3.87s\tremaining: 1.26s\n",
      "754:\tlearn: 0.1310163\ttotal: 3.88s\tremaining: 1.26s\n",
      "755:\tlearn: 0.1309294\ttotal: 3.88s\tremaining: 1.25s\n",
      "756:\tlearn: 0.1308518\ttotal: 3.88s\tremaining: 1.25s\n",
      "757:\tlearn: 0.1307807\ttotal: 3.88s\tremaining: 1.24s\n",
      "758:\tlearn: 0.1307429\ttotal: 3.89s\tremaining: 1.23s\n",
      "759:\tlearn: 0.1306783\ttotal: 3.89s\tremaining: 1.23s\n",
      "760:\tlearn: 0.1306555\ttotal: 3.89s\tremaining: 1.22s\n",
      "761:\tlearn: 0.1305988\ttotal: 3.9s\tremaining: 1.22s\n",
      "762:\tlearn: 0.1304978\ttotal: 3.9s\tremaining: 1.21s\n",
      "763:\tlearn: 0.1303941\ttotal: 3.9s\tremaining: 1.21s\n",
      "764:\tlearn: 0.1303367\ttotal: 3.9s\tremaining: 1.2s\n",
      "765:\tlearn: 0.1302472\ttotal: 3.91s\tremaining: 1.19s\n",
      "766:\tlearn: 0.1301981\ttotal: 3.91s\tremaining: 1.19s\n",
      "767:\tlearn: 0.1301487\ttotal: 3.91s\tremaining: 1.18s\n",
      "768:\tlearn: 0.1300867\ttotal: 3.92s\tremaining: 1.18s\n",
      "769:\tlearn: 0.1300124\ttotal: 3.92s\tremaining: 1.17s\n",
      "770:\tlearn: 0.1299836\ttotal: 3.92s\tremaining: 1.17s\n",
      "771:\tlearn: 0.1298160\ttotal: 3.93s\tremaining: 1.16s\n",
      "772:\tlearn: 0.1297582\ttotal: 3.93s\tremaining: 1.15s\n",
      "773:\tlearn: 0.1297209\ttotal: 3.93s\tremaining: 1.15s\n",
      "774:\tlearn: 0.1296846\ttotal: 3.94s\tremaining: 1.14s\n",
      "775:\tlearn: 0.1296471\ttotal: 3.94s\tremaining: 1.14s\n",
      "776:\tlearn: 0.1295997\ttotal: 3.94s\tremaining: 1.13s\n",
      "777:\tlearn: 0.1295715\ttotal: 3.94s\tremaining: 1.13s\n",
      "778:\tlearn: 0.1295455\ttotal: 3.95s\tremaining: 1.12s\n",
      "779:\tlearn: 0.1294821\ttotal: 3.95s\tremaining: 1.11s\n",
      "780:\tlearn: 0.1294165\ttotal: 3.95s\tremaining: 1.11s\n",
      "781:\tlearn: 0.1293674\ttotal: 3.96s\tremaining: 1.1s\n",
      "782:\tlearn: 0.1293347\ttotal: 3.96s\tremaining: 1.1s\n",
      "783:\tlearn: 0.1293164\ttotal: 3.96s\tremaining: 1.09s\n",
      "784:\tlearn: 0.1292758\ttotal: 3.96s\tremaining: 1.09s\n",
      "785:\tlearn: 0.1292170\ttotal: 3.97s\tremaining: 1.08s\n",
      "786:\tlearn: 0.1291156\ttotal: 3.97s\tremaining: 1.07s\n",
      "787:\tlearn: 0.1290516\ttotal: 3.97s\tremaining: 1.07s\n",
      "788:\tlearn: 0.1290238\ttotal: 3.98s\tremaining: 1.06s\n",
      "789:\tlearn: 0.1289598\ttotal: 3.98s\tremaining: 1.06s\n",
      "790:\tlearn: 0.1288773\ttotal: 3.98s\tremaining: 1.05s\n",
      "791:\tlearn: 0.1288535\ttotal: 3.99s\tremaining: 1.05s\n",
      "792:\tlearn: 0.1288264\ttotal: 3.99s\tremaining: 1.04s\n",
      "793:\tlearn: 0.1287420\ttotal: 3.99s\tremaining: 1.04s\n",
      "794:\tlearn: 0.1287060\ttotal: 4s\tremaining: 1.03s\n",
      "795:\tlearn: 0.1286280\ttotal: 4s\tremaining: 1.02s\n",
      "796:\tlearn: 0.1285689\ttotal: 4s\tremaining: 1.02s\n",
      "797:\tlearn: 0.1284387\ttotal: 4s\tremaining: 1.01s\n",
      "798:\tlearn: 0.1283524\ttotal: 4.01s\tremaining: 1.01s\n",
      "799:\tlearn: 0.1282772\ttotal: 4.01s\tremaining: 1s\n",
      "800:\tlearn: 0.1282352\ttotal: 4.01s\tremaining: 997ms\n",
      "801:\tlearn: 0.1282178\ttotal: 4.02s\tremaining: 992ms\n",
      "802:\tlearn: 0.1281822\ttotal: 4.02s\tremaining: 987ms\n",
      "803:\tlearn: 0.1281307\ttotal: 4.02s\tremaining: 981ms\n",
      "804:\tlearn: 0.1281098\ttotal: 4.03s\tremaining: 976ms\n",
      "805:\tlearn: 0.1280402\ttotal: 4.03s\tremaining: 970ms\n",
      "806:\tlearn: 0.1279883\ttotal: 4.03s\tremaining: 965ms\n",
      "807:\tlearn: 0.1279499\ttotal: 4.04s\tremaining: 959ms\n",
      "808:\tlearn: 0.1278551\ttotal: 4.04s\tremaining: 954ms\n",
      "809:\tlearn: 0.1277470\ttotal: 4.04s\tremaining: 949ms\n",
      "810:\tlearn: 0.1276485\ttotal: 4.05s\tremaining: 943ms\n",
      "811:\tlearn: 0.1276322\ttotal: 4.05s\tremaining: 938ms\n",
      "812:\tlearn: 0.1275693\ttotal: 4.05s\tremaining: 933ms\n",
      "813:\tlearn: 0.1275410\ttotal: 4.06s\tremaining: 927ms\n",
      "814:\tlearn: 0.1274926\ttotal: 4.06s\tremaining: 922ms\n",
      "815:\tlearn: 0.1274656\ttotal: 4.06s\tremaining: 916ms\n",
      "816:\tlearn: 0.1274591\ttotal: 4.07s\tremaining: 911ms\n",
      "817:\tlearn: 0.1274356\ttotal: 4.07s\tremaining: 905ms\n",
      "818:\tlearn: 0.1273548\ttotal: 4.07s\tremaining: 900ms\n",
      "819:\tlearn: 0.1272624\ttotal: 4.08s\tremaining: 895ms\n",
      "820:\tlearn: 0.1271519\ttotal: 4.08s\tremaining: 889ms\n",
      "821:\tlearn: 0.1270619\ttotal: 4.08s\tremaining: 884ms\n",
      "822:\tlearn: 0.1270273\ttotal: 4.08s\tremaining: 879ms\n",
      "823:\tlearn: 0.1269899\ttotal: 4.09s\tremaining: 873ms\n",
      "824:\tlearn: 0.1269244\ttotal: 4.09s\tremaining: 868ms\n",
      "825:\tlearn: 0.1268908\ttotal: 4.09s\tremaining: 863ms\n",
      "826:\tlearn: 0.1268055\ttotal: 4.1s\tremaining: 857ms\n",
      "827:\tlearn: 0.1267363\ttotal: 4.1s\tremaining: 852ms\n",
      "828:\tlearn: 0.1266832\ttotal: 4.1s\tremaining: 847ms\n",
      "829:\tlearn: 0.1266280\ttotal: 4.11s\tremaining: 841ms\n",
      "830:\tlearn: 0.1265544\ttotal: 4.11s\tremaining: 836ms\n",
      "831:\tlearn: 0.1265340\ttotal: 4.11s\tremaining: 831ms\n",
      "832:\tlearn: 0.1264694\ttotal: 4.12s\tremaining: 825ms\n",
      "833:\tlearn: 0.1264075\ttotal: 4.12s\tremaining: 820ms\n",
      "834:\tlearn: 0.1263971\ttotal: 4.12s\tremaining: 815ms\n",
      "835:\tlearn: 0.1263508\ttotal: 4.13s\tremaining: 809ms\n",
      "836:\tlearn: 0.1263064\ttotal: 4.13s\tremaining: 804ms\n",
      "837:\tlearn: 0.1262759\ttotal: 4.13s\tremaining: 799ms\n",
      "838:\tlearn: 0.1262565\ttotal: 4.13s\tremaining: 794ms\n",
      "839:\tlearn: 0.1261913\ttotal: 4.14s\tremaining: 788ms\n",
      "840:\tlearn: 0.1261439\ttotal: 4.14s\tremaining: 783ms\n",
      "841:\tlearn: 0.1261181\ttotal: 4.14s\tremaining: 778ms\n",
      "842:\tlearn: 0.1260821\ttotal: 4.15s\tremaining: 773ms\n",
      "843:\tlearn: 0.1260306\ttotal: 4.15s\tremaining: 767ms\n",
      "844:\tlearn: 0.1260121\ttotal: 4.15s\tremaining: 762ms\n",
      "845:\tlearn: 0.1259484\ttotal: 4.16s\tremaining: 757ms\n",
      "846:\tlearn: 0.1259383\ttotal: 4.16s\tremaining: 752ms\n",
      "847:\tlearn: 0.1259075\ttotal: 4.17s\tremaining: 747ms\n",
      "848:\tlearn: 0.1258684\ttotal: 4.17s\tremaining: 741ms\n",
      "849:\tlearn: 0.1258553\ttotal: 4.17s\tremaining: 736ms\n",
      "850:\tlearn: 0.1258011\ttotal: 4.17s\tremaining: 731ms\n",
      "851:\tlearn: 0.1257462\ttotal: 4.18s\tremaining: 726ms\n",
      "852:\tlearn: 0.1257084\ttotal: 4.18s\tremaining: 721ms\n",
      "853:\tlearn: 0.1256614\ttotal: 4.18s\tremaining: 715ms\n",
      "854:\tlearn: 0.1256321\ttotal: 4.19s\tremaining: 710ms\n",
      "855:\tlearn: 0.1255100\ttotal: 4.19s\tremaining: 705ms\n",
      "856:\tlearn: 0.1254510\ttotal: 4.19s\tremaining: 700ms\n",
      "857:\tlearn: 0.1253825\ttotal: 4.2s\tremaining: 695ms\n",
      "858:\tlearn: 0.1253601\ttotal: 4.2s\tremaining: 689ms\n",
      "859:\tlearn: 0.1252752\ttotal: 4.2s\tremaining: 684ms\n",
      "860:\tlearn: 0.1252208\ttotal: 4.21s\tremaining: 679ms\n",
      "861:\tlearn: 0.1251991\ttotal: 4.21s\tremaining: 674ms\n",
      "862:\tlearn: 0.1251584\ttotal: 4.21s\tremaining: 669ms\n",
      "863:\tlearn: 0.1250910\ttotal: 4.21s\tremaining: 664ms\n"
     ]
    },
    {
     "name": "stdout",
     "output_type": "stream",
     "text": [
      "864:\tlearn: 0.1250232\ttotal: 4.22s\tremaining: 659ms\n",
      "865:\tlearn: 0.1249770\ttotal: 4.22s\tremaining: 654ms\n",
      "866:\tlearn: 0.1249346\ttotal: 4.23s\tremaining: 648ms\n",
      "867:\tlearn: 0.1249283\ttotal: 4.23s\tremaining: 643ms\n",
      "868:\tlearn: 0.1248270\ttotal: 4.23s\tremaining: 638ms\n",
      "869:\tlearn: 0.1247640\ttotal: 4.24s\tremaining: 633ms\n",
      "870:\tlearn: 0.1247462\ttotal: 4.24s\tremaining: 628ms\n",
      "871:\tlearn: 0.1246873\ttotal: 4.24s\tremaining: 623ms\n",
      "872:\tlearn: 0.1246650\ttotal: 4.25s\tremaining: 618ms\n",
      "873:\tlearn: 0.1246087\ttotal: 4.25s\tremaining: 613ms\n",
      "874:\tlearn: 0.1245691\ttotal: 4.25s\tremaining: 607ms\n",
      "875:\tlearn: 0.1245459\ttotal: 4.25s\tremaining: 602ms\n",
      "876:\tlearn: 0.1245257\ttotal: 4.26s\tremaining: 597ms\n",
      "877:\tlearn: 0.1245018\ttotal: 4.26s\tremaining: 592ms\n",
      "878:\tlearn: 0.1244313\ttotal: 4.26s\tremaining: 587ms\n",
      "879:\tlearn: 0.1243934\ttotal: 4.27s\tremaining: 582ms\n",
      "880:\tlearn: 0.1243294\ttotal: 4.27s\tremaining: 577ms\n",
      "881:\tlearn: 0.1242914\ttotal: 4.27s\tremaining: 572ms\n",
      "882:\tlearn: 0.1242733\ttotal: 4.28s\tremaining: 567ms\n",
      "883:\tlearn: 0.1242524\ttotal: 4.28s\tremaining: 562ms\n",
      "884:\tlearn: 0.1242086\ttotal: 4.28s\tremaining: 557ms\n",
      "885:\tlearn: 0.1241640\ttotal: 4.29s\tremaining: 552ms\n",
      "886:\tlearn: 0.1241510\ttotal: 4.29s\tremaining: 547ms\n",
      "887:\tlearn: 0.1241386\ttotal: 4.29s\tremaining: 542ms\n",
      "888:\tlearn: 0.1241048\ttotal: 4.3s\tremaining: 536ms\n",
      "889:\tlearn: 0.1240610\ttotal: 4.3s\tremaining: 531ms\n",
      "890:\tlearn: 0.1240043\ttotal: 4.3s\tremaining: 526ms\n",
      "891:\tlearn: 0.1239628\ttotal: 4.3s\tremaining: 521ms\n",
      "892:\tlearn: 0.1239161\ttotal: 4.31s\tremaining: 516ms\n",
      "893:\tlearn: 0.1238345\ttotal: 4.31s\tremaining: 511ms\n",
      "894:\tlearn: 0.1237664\ttotal: 4.32s\tremaining: 506ms\n",
      "895:\tlearn: 0.1236617\ttotal: 4.32s\tremaining: 501ms\n",
      "896:\tlearn: 0.1235947\ttotal: 4.32s\tremaining: 496ms\n",
      "897:\tlearn: 0.1235287\ttotal: 4.32s\tremaining: 491ms\n",
      "898:\tlearn: 0.1235159\ttotal: 4.33s\tremaining: 486ms\n",
      "899:\tlearn: 0.1234011\ttotal: 4.33s\tremaining: 481ms\n",
      "900:\tlearn: 0.1233302\ttotal: 4.33s\tremaining: 476ms\n",
      "901:\tlearn: 0.1233190\ttotal: 4.34s\tremaining: 471ms\n",
      "902:\tlearn: 0.1232920\ttotal: 4.34s\tremaining: 466ms\n",
      "903:\tlearn: 0.1232183\ttotal: 4.34s\tremaining: 461ms\n",
      "904:\tlearn: 0.1232062\ttotal: 4.35s\tremaining: 456ms\n",
      "905:\tlearn: 0.1231464\ttotal: 4.35s\tremaining: 451ms\n",
      "906:\tlearn: 0.1230941\ttotal: 4.35s\tremaining: 446ms\n",
      "907:\tlearn: 0.1230398\ttotal: 4.36s\tremaining: 441ms\n",
      "908:\tlearn: 0.1229837\ttotal: 4.36s\tremaining: 437ms\n",
      "909:\tlearn: 0.1229671\ttotal: 4.36s\tremaining: 432ms\n",
      "910:\tlearn: 0.1229576\ttotal: 4.37s\tremaining: 427ms\n",
      "911:\tlearn: 0.1229239\ttotal: 4.37s\tremaining: 422ms\n",
      "912:\tlearn: 0.1229037\ttotal: 4.37s\tremaining: 417ms\n",
      "913:\tlearn: 0.1228715\ttotal: 4.38s\tremaining: 412ms\n",
      "914:\tlearn: 0.1228212\ttotal: 4.38s\tremaining: 407ms\n",
      "915:\tlearn: 0.1227812\ttotal: 4.38s\tremaining: 402ms\n",
      "916:\tlearn: 0.1227635\ttotal: 4.38s\tremaining: 397ms\n",
      "917:\tlearn: 0.1227126\ttotal: 4.39s\tremaining: 392ms\n",
      "918:\tlearn: 0.1226839\ttotal: 4.39s\tremaining: 387ms\n",
      "919:\tlearn: 0.1226432\ttotal: 4.4s\tremaining: 382ms\n",
      "920:\tlearn: 0.1225003\ttotal: 4.4s\tremaining: 377ms\n",
      "921:\tlearn: 0.1224430\ttotal: 4.4s\tremaining: 372ms\n",
      "922:\tlearn: 0.1223809\ttotal: 4.41s\tremaining: 368ms\n",
      "923:\tlearn: 0.1223612\ttotal: 4.41s\tremaining: 363ms\n",
      "924:\tlearn: 0.1223072\ttotal: 4.41s\tremaining: 358ms\n",
      "925:\tlearn: 0.1222751\ttotal: 4.42s\tremaining: 353ms\n",
      "926:\tlearn: 0.1222208\ttotal: 4.42s\tremaining: 348ms\n",
      "927:\tlearn: 0.1222129\ttotal: 4.42s\tremaining: 343ms\n",
      "928:\tlearn: 0.1221879\ttotal: 4.42s\tremaining: 338ms\n",
      "929:\tlearn: 0.1221812\ttotal: 4.43s\tremaining: 333ms\n",
      "930:\tlearn: 0.1221574\ttotal: 4.43s\tremaining: 328ms\n",
      "931:\tlearn: 0.1220726\ttotal: 4.43s\tremaining: 323ms\n",
      "932:\tlearn: 0.1219721\ttotal: 4.44s\tremaining: 319ms\n",
      "933:\tlearn: 0.1219161\ttotal: 4.44s\tremaining: 314ms\n",
      "934:\tlearn: 0.1219070\ttotal: 4.44s\tremaining: 309ms\n",
      "935:\tlearn: 0.1218453\ttotal: 4.45s\tremaining: 304ms\n",
      "936:\tlearn: 0.1217672\ttotal: 4.45s\tremaining: 299ms\n",
      "937:\tlearn: 0.1217339\ttotal: 4.45s\tremaining: 294ms\n",
      "938:\tlearn: 0.1216771\ttotal: 4.46s\tremaining: 289ms\n",
      "939:\tlearn: 0.1216559\ttotal: 4.46s\tremaining: 285ms\n",
      "940:\tlearn: 0.1216351\ttotal: 4.46s\tremaining: 280ms\n",
      "941:\tlearn: 0.1216298\ttotal: 4.46s\tremaining: 275ms\n",
      "942:\tlearn: 0.1215532\ttotal: 4.47s\tremaining: 270ms\n",
      "943:\tlearn: 0.1215489\ttotal: 4.47s\tremaining: 265ms\n",
      "944:\tlearn: 0.1215371\ttotal: 4.47s\tremaining: 260ms\n",
      "945:\tlearn: 0.1214776\ttotal: 4.48s\tremaining: 256ms\n",
      "946:\tlearn: 0.1214288\ttotal: 4.48s\tremaining: 251ms\n",
      "947:\tlearn: 0.1213989\ttotal: 4.48s\tremaining: 246ms\n",
      "948:\tlearn: 0.1213409\ttotal: 4.49s\tremaining: 241ms\n",
      "949:\tlearn: 0.1212637\ttotal: 4.49s\tremaining: 236ms\n",
      "950:\tlearn: 0.1211979\ttotal: 4.49s\tremaining: 231ms\n",
      "951:\tlearn: 0.1211263\ttotal: 4.5s\tremaining: 227ms\n",
      "952:\tlearn: 0.1210384\ttotal: 4.5s\tremaining: 222ms\n",
      "953:\tlearn: 0.1209873\ttotal: 4.5s\tremaining: 217ms\n",
      "954:\tlearn: 0.1209125\ttotal: 4.51s\tremaining: 212ms\n",
      "955:\tlearn: 0.1208792\ttotal: 4.51s\tremaining: 208ms\n",
      "956:\tlearn: 0.1207843\ttotal: 4.51s\tremaining: 203ms\n",
      "957:\tlearn: 0.1207491\ttotal: 4.51s\tremaining: 198ms\n",
      "958:\tlearn: 0.1206621\ttotal: 4.52s\tremaining: 193ms\n",
      "959:\tlearn: 0.1206417\ttotal: 4.52s\tremaining: 188ms\n",
      "960:\tlearn: 0.1205628\ttotal: 4.53s\tremaining: 184ms\n",
      "961:\tlearn: 0.1204987\ttotal: 4.53s\tremaining: 179ms\n",
      "962:\tlearn: 0.1204892\ttotal: 4.53s\tremaining: 174ms\n",
      "963:\tlearn: 0.1204592\ttotal: 4.53s\tremaining: 169ms\n",
      "964:\tlearn: 0.1204157\ttotal: 4.54s\tremaining: 165ms\n",
      "965:\tlearn: 0.1203804\ttotal: 4.54s\tremaining: 160ms\n",
      "966:\tlearn: 0.1203516\ttotal: 4.54s\tremaining: 155ms\n",
      "967:\tlearn: 0.1203198\ttotal: 4.55s\tremaining: 150ms\n",
      "968:\tlearn: 0.1202028\ttotal: 4.55s\tremaining: 146ms\n",
      "969:\tlearn: 0.1201680\ttotal: 4.55s\tremaining: 141ms\n",
      "970:\tlearn: 0.1201624\ttotal: 4.55s\tremaining: 136ms\n",
      "971:\tlearn: 0.1201184\ttotal: 4.56s\tremaining: 131ms\n",
      "972:\tlearn: 0.1201146\ttotal: 4.56s\tremaining: 127ms\n",
      "973:\tlearn: 0.1200543\ttotal: 4.57s\tremaining: 122ms\n",
      "974:\tlearn: 0.1199821\ttotal: 4.57s\tremaining: 117ms\n",
      "975:\tlearn: 0.1199279\ttotal: 4.57s\tremaining: 112ms\n",
      "976:\tlearn: 0.1199129\ttotal: 4.58s\tremaining: 108ms\n",
      "977:\tlearn: 0.1198815\ttotal: 4.58s\tremaining: 103ms\n",
      "978:\tlearn: 0.1198263\ttotal: 4.58s\tremaining: 98.3ms\n",
      "979:\tlearn: 0.1197617\ttotal: 4.58s\tremaining: 93.6ms\n",
      "980:\tlearn: 0.1197557\ttotal: 4.59s\tremaining: 88.8ms\n",
      "981:\tlearn: 0.1196564\ttotal: 4.59s\tremaining: 84.1ms\n",
      "982:\tlearn: 0.1196201\ttotal: 4.59s\tremaining: 79.4ms\n",
      "983:\tlearn: 0.1196094\ttotal: 4.6s\tremaining: 74.7ms\n",
      "984:\tlearn: 0.1195426\ttotal: 4.6s\tremaining: 70ms\n",
      "985:\tlearn: 0.1194792\ttotal: 4.6s\tremaining: 65.4ms\n",
      "986:\tlearn: 0.1193656\ttotal: 4.61s\tremaining: 60.7ms\n",
      "987:\tlearn: 0.1193455\ttotal: 4.61s\tremaining: 56ms\n",
      "988:\tlearn: 0.1192624\ttotal: 4.61s\tremaining: 51.3ms\n",
      "989:\tlearn: 0.1192082\ttotal: 4.61s\tremaining: 46.6ms\n",
      "990:\tlearn: 0.1191890\ttotal: 4.62s\tremaining: 41.9ms\n",
      "991:\tlearn: 0.1191500\ttotal: 4.62s\tremaining: 37.3ms\n",
      "992:\tlearn: 0.1191348\ttotal: 4.62s\tremaining: 32.6ms\n",
      "993:\tlearn: 0.1190996\ttotal: 4.63s\tremaining: 27.9ms\n",
      "994:\tlearn: 0.1190390\ttotal: 4.63s\tremaining: 23.3ms\n",
      "995:\tlearn: 0.1190007\ttotal: 4.63s\tremaining: 18.6ms\n",
      "996:\tlearn: 0.1189267\ttotal: 4.63s\tremaining: 13.9ms\n",
      "997:\tlearn: 0.1188842\ttotal: 4.64s\tremaining: 9.29ms\n",
      "998:\tlearn: 0.1188456\ttotal: 4.64s\tremaining: 4.64ms\n",
      "999:\tlearn: 0.1188119\ttotal: 4.64s\tremaining: 0us\n"
     ]
    },
    {
     "data": {
      "text/plain": [
       "<catboost.core.CatBoostRegressor at 0x1dfdf2bf3d0>"
      ]
     },
     "execution_count": 114,
     "metadata": {},
     "output_type": "execute_result"
    }
   ],
   "source": [
    "model = CatBoostRegressor()\n",
    "model.fit(x_train_21, y_train_21)"
   ]
  },
  {
   "cell_type": "code",
   "execution_count": 115,
   "id": "2541db2b",
   "metadata": {},
   "outputs": [
    {
     "name": "stdout",
     "output_type": "stream",
     "text": [
      "MSE for CatBoost 2021 is: 0.09868824530192051\n"
     ]
    }
   ],
   "source": [
    "y_pred_21 = model.predict(x_test_21)\n",
    "# Calculation of Mean Squared Error (MSE)\n",
    "mse = mean_squared_error(y_test_21, y_pred_21)\n",
    "print('MSE for CatBoost 2021 is: ' + str(mse))"
   ]
  },
  {
   "cell_type": "code",
   "execution_count": 116,
   "id": "745d9507",
   "metadata": {},
   "outputs": [
    {
     "name": "stdout",
     "output_type": "stream",
     "text": [
      "Accuracy of properties at +- 10% of actual prices is 0.4686971235194585\n"
     ]
    }
   ],
   "source": [
    "acc = accuracy_threshold(y_test_21, y_pred_21, 0.1)\n",
    "print('Accuracy of properties at +- 10% of actual prices is ' + str(acc))"
   ]
  },
  {
   "cell_type": "code",
   "execution_count": 117,
   "id": "99227aa2",
   "metadata": {},
   "outputs": [
    {
     "name": "stdout",
     "output_type": "stream",
     "text": [
      "Median Absolute Error:\n",
      "\n",
      "0.11267776346960723\n"
     ]
    }
   ],
   "source": [
    "median_se = np.square(np.subtract(y_test_21, y_pred_21)).median() \n",
    " \n",
    "med = math.sqrt(median_se)\n",
    "print(\"Median Absolute Error:\\n\")\n",
    "print(med)"
   ]
  },
  {
   "cell_type": "code",
   "execution_count": 118,
   "id": "f51d9a36",
   "metadata": {},
   "outputs": [
    {
     "name": "stdout",
     "output_type": "stream",
     "text": [
      "Root Mean Square Error:\n",
      "\n",
      "0.31414685308294993\n"
     ]
    }
   ],
   "source": [
    "mean = np.square(np.subtract(y_test_21, y_pred_21)).mean() \n",
    " \n",
    "mean = math.sqrt(mean)\n",
    "print(\"Root Mean Square Error:\\n\")\n",
    "print(mean)"
   ]
  },
  {
   "cell_type": "code",
   "execution_count": 119,
   "id": "6cf9500d",
   "metadata": {},
   "outputs": [
    {
     "name": "stdout",
     "output_type": "stream",
     "text": [
      "MAPE for CatBoost 2021 is: 0.014821081055924036\n"
     ]
    }
   ],
   "source": [
    "mape = mean_absolute_percentage_error(y_test_21, y_pred_21)\n",
    "print(\"MAPE for CatBoost 2021 is: \" + str(mape))"
   ]
  },
  {
   "cell_type": "code",
   "execution_count": 120,
   "id": "e9b65a1c",
   "metadata": {},
   "outputs": [],
   "source": [
    "cnames=['Algorithm', 'Year', 'RMSE', 'MSE', 'MEDAE', 'Accuracy', 'MAPE']\n",
    "df3 = pd.DataFrame(columns=cnames)\n",
    "\n",
    "df3 = df3.append({'Algorithm': 'CatBoost',\n",
    "            'Year': 2021,\n",
    "           'RMSE': mean,\n",
    "           'MSE': mse,\n",
    "           'MEDAE': med,\n",
    "           'Accuracy': acc,\n",
    "           'MAPE': mape       \n",
    "          }, ignore_index=True)"
   ]
  },
  {
   "cell_type": "markdown",
   "id": "f395f049",
   "metadata": {},
   "source": [
    "#### 2020"
   ]
  },
  {
   "cell_type": "code",
   "execution_count": 121,
   "id": "3efced64",
   "metadata": {},
   "outputs": [
    {
     "name": "stdout",
     "output_type": "stream",
     "text": [
      "Learning rate set to 0.045927\n",
      "0:\tlearn: 0.4285466\ttotal: 3.4ms\tremaining: 3.39s\n",
      "1:\tlearn: 0.4177271\ttotal: 6.36ms\tremaining: 3.17s\n",
      "2:\tlearn: 0.4071235\ttotal: 9.25ms\tremaining: 3.08s\n",
      "3:\tlearn: 0.3976982\ttotal: 12.1ms\tremaining: 3.02s\n",
      "4:\tlearn: 0.3884625\ttotal: 16.5ms\tremaining: 3.28s\n",
      "5:\tlearn: 0.3798459\ttotal: 19.9ms\tremaining: 3.29s\n",
      "6:\tlearn: 0.3710699\ttotal: 24ms\tremaining: 3.4s\n",
      "7:\tlearn: 0.3629409\ttotal: 27.6ms\tremaining: 3.42s\n",
      "8:\tlearn: 0.3561767\ttotal: 30.6ms\tremaining: 3.37s\n",
      "9:\tlearn: 0.3492725\ttotal: 33.9ms\tremaining: 3.35s\n",
      "10:\tlearn: 0.3431512\ttotal: 38.1ms\tremaining: 3.43s\n",
      "11:\tlearn: 0.3367506\ttotal: 44.2ms\tremaining: 3.64s\n",
      "12:\tlearn: 0.3306846\ttotal: 49.1ms\tremaining: 3.73s\n",
      "13:\tlearn: 0.3251535\ttotal: 52.6ms\tremaining: 3.7s\n",
      "14:\tlearn: 0.3201636\ttotal: 57.3ms\tremaining: 3.76s\n",
      "15:\tlearn: 0.3149724\ttotal: 60.8ms\tremaining: 3.74s\n",
      "16:\tlearn: 0.3099988\ttotal: 65.2ms\tremaining: 3.77s\n",
      "17:\tlearn: 0.3058243\ttotal: 68.2ms\tremaining: 3.72s\n",
      "18:\tlearn: 0.3017545\ttotal: 72.6ms\tremaining: 3.75s\n",
      "19:\tlearn: 0.2979874\ttotal: 76.5ms\tremaining: 3.75s\n",
      "20:\tlearn: 0.2941979\ttotal: 80ms\tremaining: 3.73s\n",
      "21:\tlearn: 0.2905170\ttotal: 82.9ms\tremaining: 3.69s\n",
      "22:\tlearn: 0.2871311\ttotal: 85.9ms\tremaining: 3.65s\n",
      "23:\tlearn: 0.2839586\ttotal: 88.8ms\tremaining: 3.61s\n",
      "24:\tlearn: 0.2811047\ttotal: 92ms\tremaining: 3.59s\n",
      "25:\tlearn: 0.2783676\ttotal: 95ms\tremaining: 3.56s\n",
      "26:\tlearn: 0.2758112\ttotal: 97.9ms\tremaining: 3.53s\n",
      "27:\tlearn: 0.2736595\ttotal: 102ms\tremaining: 3.55s\n",
      "28:\tlearn: 0.2714288\ttotal: 106ms\tremaining: 3.54s\n",
      "29:\tlearn: 0.2693093\ttotal: 110ms\tremaining: 3.56s\n",
      "30:\tlearn: 0.2672094\ttotal: 113ms\tremaining: 3.53s\n",
      "31:\tlearn: 0.2654451\ttotal: 116ms\tremaining: 3.5s\n",
      "32:\tlearn: 0.2637162\ttotal: 119ms\tremaining: 3.48s\n",
      "33:\tlearn: 0.2620231\ttotal: 122ms\tremaining: 3.46s\n",
      "34:\tlearn: 0.2601405\ttotal: 125ms\tremaining: 3.44s\n",
      "35:\tlearn: 0.2586121\ttotal: 128ms\tremaining: 3.42s\n",
      "36:\tlearn: 0.2570116\ttotal: 131ms\tremaining: 3.4s\n",
      "37:\tlearn: 0.2551465\ttotal: 133ms\tremaining: 3.38s\n",
      "38:\tlearn: 0.2535800\ttotal: 137ms\tremaining: 3.36s\n",
      "39:\tlearn: 0.2525420\ttotal: 140ms\tremaining: 3.35s\n",
      "40:\tlearn: 0.2513175\ttotal: 143ms\tremaining: 3.34s\n",
      "41:\tlearn: 0.2500915\ttotal: 145ms\tremaining: 3.32s\n",
      "42:\tlearn: 0.2486773\ttotal: 148ms\tremaining: 3.3s\n",
      "43:\tlearn: 0.2473187\ttotal: 151ms\tremaining: 3.29s\n",
      "44:\tlearn: 0.2463178\ttotal: 155ms\tremaining: 3.28s\n",
      "45:\tlearn: 0.2452827\ttotal: 158ms\tremaining: 3.27s\n",
      "46:\tlearn: 0.2445396\ttotal: 160ms\tremaining: 3.25s\n",
      "47:\tlearn: 0.2434354\ttotal: 163ms\tremaining: 3.24s\n",
      "48:\tlearn: 0.2425506\ttotal: 166ms\tremaining: 3.23s\n",
      "49:\tlearn: 0.2418542\ttotal: 170ms\tremaining: 3.23s\n",
      "50:\tlearn: 0.2410402\ttotal: 174ms\tremaining: 3.24s\n",
      "51:\tlearn: 0.2404823\ttotal: 178ms\tremaining: 3.24s\n",
      "52:\tlearn: 0.2397598\ttotal: 181ms\tremaining: 3.24s\n",
      "53:\tlearn: 0.2392087\ttotal: 186ms\tremaining: 3.27s\n",
      "54:\tlearn: 0.2385877\ttotal: 190ms\tremaining: 3.26s\n",
      "55:\tlearn: 0.2381106\ttotal: 193ms\tremaining: 3.26s\n",
      "56:\tlearn: 0.2375521\ttotal: 196ms\tremaining: 3.25s\n",
      "57:\tlearn: 0.2369894\ttotal: 200ms\tremaining: 3.24s\n",
      "58:\tlearn: 0.2363026\ttotal: 203ms\tremaining: 3.23s\n",
      "59:\tlearn: 0.2355581\ttotal: 205ms\tremaining: 3.22s\n",
      "60:\tlearn: 0.2351225\ttotal: 208ms\tremaining: 3.21s\n",
      "61:\tlearn: 0.2345410\ttotal: 211ms\tremaining: 3.2s\n",
      "62:\tlearn: 0.2339670\ttotal: 216ms\tremaining: 3.21s\n",
      "63:\tlearn: 0.2336010\ttotal: 220ms\tremaining: 3.21s\n",
      "64:\tlearn: 0.2333163\ttotal: 223ms\tremaining: 3.21s\n",
      "65:\tlearn: 0.2327781\ttotal: 228ms\tremaining: 3.22s\n",
      "66:\tlearn: 0.2319884\ttotal: 233ms\tremaining: 3.24s\n",
      "67:\tlearn: 0.2315487\ttotal: 236ms\tremaining: 3.23s\n",
      "68:\tlearn: 0.2307606\ttotal: 240ms\tremaining: 3.23s\n",
      "69:\tlearn: 0.2300310\ttotal: 244ms\tremaining: 3.24s\n",
      "70:\tlearn: 0.2295602\ttotal: 247ms\tremaining: 3.24s\n",
      "71:\tlearn: 0.2292066\ttotal: 251ms\tremaining: 3.23s\n",
      "72:\tlearn: 0.2289898\ttotal: 255ms\tremaining: 3.23s\n",
      "73:\tlearn: 0.2285986\ttotal: 258ms\tremaining: 3.23s\n",
      "74:\tlearn: 0.2283167\ttotal: 261ms\tremaining: 3.22s\n",
      "75:\tlearn: 0.2279550\ttotal: 264ms\tremaining: 3.21s\n",
      "76:\tlearn: 0.2275194\ttotal: 267ms\tremaining: 3.21s\n",
      "77:\tlearn: 0.2272989\ttotal: 272ms\tremaining: 3.21s\n",
      "78:\tlearn: 0.2269318\ttotal: 276ms\tremaining: 3.21s\n",
      "79:\tlearn: 0.2265730\ttotal: 279ms\tremaining: 3.21s\n",
      "80:\tlearn: 0.2263213\ttotal: 283ms\tremaining: 3.21s\n",
      "81:\tlearn: 0.2258321\ttotal: 286ms\tremaining: 3.2s\n",
      "82:\tlearn: 0.2254967\ttotal: 288ms\tremaining: 3.19s\n",
      "83:\tlearn: 0.2252913\ttotal: 292ms\tremaining: 3.18s\n",
      "84:\tlearn: 0.2248585\ttotal: 296ms\tremaining: 3.18s\n",
      "85:\tlearn: 0.2243058\ttotal: 298ms\tremaining: 3.17s\n",
      "86:\tlearn: 0.2240599\ttotal: 301ms\tremaining: 3.16s\n",
      "87:\tlearn: 0.2238380\ttotal: 304ms\tremaining: 3.15s\n",
      "88:\tlearn: 0.2235545\ttotal: 307ms\tremaining: 3.14s\n",
      "89:\tlearn: 0.2234581\ttotal: 310ms\tremaining: 3.13s\n",
      "90:\tlearn: 0.2231723\ttotal: 313ms\tremaining: 3.13s\n",
      "91:\tlearn: 0.2228957\ttotal: 316ms\tremaining: 3.12s\n",
      "92:\tlearn: 0.2224617\ttotal: 319ms\tremaining: 3.11s\n",
      "93:\tlearn: 0.2220729\ttotal: 322ms\tremaining: 3.11s\n",
      "94:\tlearn: 0.2218096\ttotal: 325ms\tremaining: 3.1s\n",
      "95:\tlearn: 0.2215545\ttotal: 328ms\tremaining: 3.09s\n",
      "96:\tlearn: 0.2214034\ttotal: 331ms\tremaining: 3.08s\n",
      "97:\tlearn: 0.2211845\ttotal: 334ms\tremaining: 3.07s\n",
      "98:\tlearn: 0.2207041\ttotal: 337ms\tremaining: 3.07s\n",
      "99:\tlearn: 0.2204717\ttotal: 341ms\tremaining: 3.07s\n",
      "100:\tlearn: 0.2201745\ttotal: 345ms\tremaining: 3.07s\n",
      "101:\tlearn: 0.2199538\ttotal: 349ms\tremaining: 3.07s\n",
      "102:\tlearn: 0.2197670\ttotal: 353ms\tremaining: 3.07s\n",
      "103:\tlearn: 0.2192748\ttotal: 357ms\tremaining: 3.08s\n",
      "104:\tlearn: 0.2190499\ttotal: 361ms\tremaining: 3.07s\n",
      "105:\tlearn: 0.2186827\ttotal: 364ms\tremaining: 3.07s\n",
      "106:\tlearn: 0.2184168\ttotal: 368ms\tremaining: 3.07s\n",
      "107:\tlearn: 0.2180957\ttotal: 371ms\tremaining: 3.06s\n",
      "108:\tlearn: 0.2178770\ttotal: 374ms\tremaining: 3.06s\n",
      "109:\tlearn: 0.2175434\ttotal: 377ms\tremaining: 3.05s\n",
      "110:\tlearn: 0.2172221\ttotal: 380ms\tremaining: 3.04s\n",
      "111:\tlearn: 0.2170145\ttotal: 384ms\tremaining: 3.04s\n",
      "112:\tlearn: 0.2168121\ttotal: 387ms\tremaining: 3.04s\n",
      "113:\tlearn: 0.2164865\ttotal: 391ms\tremaining: 3.04s\n",
      "114:\tlearn: 0.2162927\ttotal: 394ms\tremaining: 3.03s\n",
      "115:\tlearn: 0.2158623\ttotal: 399ms\tremaining: 3.04s\n",
      "116:\tlearn: 0.2155506\ttotal: 402ms\tremaining: 3.03s\n",
      "117:\tlearn: 0.2153113\ttotal: 405ms\tremaining: 3.02s\n",
      "118:\tlearn: 0.2149037\ttotal: 408ms\tremaining: 3.02s\n",
      "119:\tlearn: 0.2146541\ttotal: 411ms\tremaining: 3.01s\n",
      "120:\tlearn: 0.2144465\ttotal: 415ms\tremaining: 3.01s\n",
      "121:\tlearn: 0.2142875\ttotal: 418ms\tremaining: 3.01s\n",
      "122:\tlearn: 0.2141095\ttotal: 421ms\tremaining: 3s\n",
      "123:\tlearn: 0.2138392\ttotal: 424ms\tremaining: 2.99s\n",
      "124:\tlearn: 0.2135832\ttotal: 427ms\tremaining: 2.99s\n",
      "125:\tlearn: 0.2134016\ttotal: 430ms\tremaining: 2.98s\n",
      "126:\tlearn: 0.2132541\ttotal: 433ms\tremaining: 2.97s\n",
      "127:\tlearn: 0.2130744\ttotal: 436ms\tremaining: 2.97s\n",
      "128:\tlearn: 0.2128255\ttotal: 439ms\tremaining: 2.96s\n",
      "129:\tlearn: 0.2126560\ttotal: 444ms\tremaining: 2.97s\n",
      "130:\tlearn: 0.2124165\ttotal: 447ms\tremaining: 2.96s\n",
      "131:\tlearn: 0.2120546\ttotal: 449ms\tremaining: 2.96s\n",
      "132:\tlearn: 0.2118002\ttotal: 452ms\tremaining: 2.95s\n",
      "133:\tlearn: 0.2116425\ttotal: 455ms\tremaining: 2.94s\n",
      "134:\tlearn: 0.2112528\ttotal: 459ms\tremaining: 2.94s\n",
      "135:\tlearn: 0.2110472\ttotal: 461ms\tremaining: 2.93s\n",
      "136:\tlearn: 0.2107622\ttotal: 464ms\tremaining: 2.92s\n",
      "137:\tlearn: 0.2104575\ttotal: 467ms\tremaining: 2.92s\n",
      "138:\tlearn: 0.2102260\ttotal: 470ms\tremaining: 2.91s\n",
      "139:\tlearn: 0.2099661\ttotal: 473ms\tremaining: 2.91s\n",
      "140:\tlearn: 0.2098524\ttotal: 476ms\tremaining: 2.9s\n",
      "141:\tlearn: 0.2095256\ttotal: 479ms\tremaining: 2.9s\n",
      "142:\tlearn: 0.2093552\ttotal: 482ms\tremaining: 2.89s\n",
      "143:\tlearn: 0.2090506\ttotal: 485ms\tremaining: 2.88s\n",
      "144:\tlearn: 0.2088396\ttotal: 488ms\tremaining: 2.88s\n",
      "145:\tlearn: 0.2087154\ttotal: 491ms\tremaining: 2.87s\n",
      "146:\tlearn: 0.2084945\ttotal: 494ms\tremaining: 2.87s\n",
      "147:\tlearn: 0.2083006\ttotal: 497ms\tremaining: 2.86s\n",
      "148:\tlearn: 0.2081062\ttotal: 500ms\tremaining: 2.85s\n",
      "149:\tlearn: 0.2078724\ttotal: 503ms\tremaining: 2.85s\n",
      "150:\tlearn: 0.2073575\ttotal: 506ms\tremaining: 2.84s\n",
      "151:\tlearn: 0.2071681\ttotal: 509ms\tremaining: 2.84s\n",
      "152:\tlearn: 0.2068290\ttotal: 513ms\tremaining: 2.84s\n",
      "153:\tlearn: 0.2067130\ttotal: 516ms\tremaining: 2.83s\n",
      "154:\tlearn: 0.2065092\ttotal: 519ms\tremaining: 2.83s\n",
      "155:\tlearn: 0.2063744\ttotal: 522ms\tremaining: 2.82s\n",
      "156:\tlearn: 0.2061201\ttotal: 525ms\tremaining: 2.82s\n",
      "157:\tlearn: 0.2059592\ttotal: 529ms\tremaining: 2.82s\n",
      "158:\tlearn: 0.2057847\ttotal: 533ms\tremaining: 2.82s\n",
      "159:\tlearn: 0.2053868\ttotal: 535ms\tremaining: 2.81s\n",
      "160:\tlearn: 0.2051588\ttotal: 539ms\tremaining: 2.81s\n",
      "161:\tlearn: 0.2049459\ttotal: 541ms\tremaining: 2.8s\n",
      "162:\tlearn: 0.2048056\ttotal: 544ms\tremaining: 2.79s\n",
      "163:\tlearn: 0.2045659\ttotal: 547ms\tremaining: 2.79s\n",
      "164:\tlearn: 0.2044646\ttotal: 550ms\tremaining: 2.78s\n",
      "165:\tlearn: 0.2042606\ttotal: 553ms\tremaining: 2.78s\n"
     ]
    },
    {
     "name": "stdout",
     "output_type": "stream",
     "text": [
      "166:\tlearn: 0.2040555\ttotal: 558ms\tremaining: 2.78s\n",
      "167:\tlearn: 0.2039869\ttotal: 561ms\tremaining: 2.78s\n",
      "168:\tlearn: 0.2038384\ttotal: 565ms\tremaining: 2.78s\n",
      "169:\tlearn: 0.2037002\ttotal: 568ms\tremaining: 2.77s\n",
      "170:\tlearn: 0.2034669\ttotal: 572ms\tremaining: 2.77s\n",
      "171:\tlearn: 0.2033002\ttotal: 575ms\tremaining: 2.77s\n",
      "172:\tlearn: 0.2031741\ttotal: 578ms\tremaining: 2.76s\n",
      "173:\tlearn: 0.2029531\ttotal: 581ms\tremaining: 2.76s\n",
      "174:\tlearn: 0.2028770\ttotal: 585ms\tremaining: 2.76s\n",
      "175:\tlearn: 0.2026776\ttotal: 588ms\tremaining: 2.75s\n",
      "176:\tlearn: 0.2023750\ttotal: 591ms\tremaining: 2.75s\n",
      "177:\tlearn: 0.2022047\ttotal: 594ms\tremaining: 2.74s\n",
      "178:\tlearn: 0.2020018\ttotal: 597ms\tremaining: 2.74s\n",
      "179:\tlearn: 0.2018427\ttotal: 600ms\tremaining: 2.73s\n",
      "180:\tlearn: 0.2015253\ttotal: 603ms\tremaining: 2.73s\n",
      "181:\tlearn: 0.2014668\ttotal: 606ms\tremaining: 2.72s\n",
      "182:\tlearn: 0.2012800\ttotal: 609ms\tremaining: 2.72s\n",
      "183:\tlearn: 0.2011044\ttotal: 613ms\tremaining: 2.72s\n",
      "184:\tlearn: 0.2009545\ttotal: 616ms\tremaining: 2.71s\n",
      "185:\tlearn: 0.2006865\ttotal: 619ms\tremaining: 2.71s\n",
      "186:\tlearn: 0.2004898\ttotal: 622ms\tremaining: 2.7s\n",
      "187:\tlearn: 0.2002939\ttotal: 625ms\tremaining: 2.7s\n",
      "188:\tlearn: 0.2001696\ttotal: 628ms\tremaining: 2.69s\n",
      "189:\tlearn: 0.2000028\ttotal: 631ms\tremaining: 2.69s\n",
      "190:\tlearn: 0.1996917\ttotal: 634ms\tremaining: 2.68s\n",
      "191:\tlearn: 0.1995808\ttotal: 636ms\tremaining: 2.68s\n",
      "192:\tlearn: 0.1994122\ttotal: 640ms\tremaining: 2.67s\n",
      "193:\tlearn: 0.1993056\ttotal: 642ms\tremaining: 2.67s\n",
      "194:\tlearn: 0.1991179\ttotal: 645ms\tremaining: 2.66s\n",
      "195:\tlearn: 0.1989559\ttotal: 648ms\tremaining: 2.66s\n",
      "196:\tlearn: 0.1988273\ttotal: 651ms\tremaining: 2.65s\n",
      "197:\tlearn: 0.1985237\ttotal: 654ms\tremaining: 2.65s\n",
      "198:\tlearn: 0.1983479\ttotal: 657ms\tremaining: 2.64s\n",
      "199:\tlearn: 0.1980601\ttotal: 660ms\tremaining: 2.64s\n",
      "200:\tlearn: 0.1977549\ttotal: 663ms\tremaining: 2.63s\n",
      "201:\tlearn: 0.1976806\ttotal: 666ms\tremaining: 2.63s\n",
      "202:\tlearn: 0.1974295\ttotal: 669ms\tremaining: 2.62s\n",
      "203:\tlearn: 0.1973218\ttotal: 671ms\tremaining: 2.62s\n",
      "204:\tlearn: 0.1972424\ttotal: 674ms\tremaining: 2.61s\n",
      "205:\tlearn: 0.1969551\ttotal: 677ms\tremaining: 2.61s\n",
      "206:\tlearn: 0.1968456\ttotal: 680ms\tremaining: 2.6s\n",
      "207:\tlearn: 0.1967766\ttotal: 684ms\tremaining: 2.6s\n",
      "208:\tlearn: 0.1967293\ttotal: 687ms\tremaining: 2.6s\n",
      "209:\tlearn: 0.1966670\ttotal: 690ms\tremaining: 2.59s\n",
      "210:\tlearn: 0.1963783\ttotal: 692ms\tremaining: 2.59s\n",
      "211:\tlearn: 0.1963052\ttotal: 696ms\tremaining: 2.58s\n",
      "212:\tlearn: 0.1961993\ttotal: 701ms\tremaining: 2.59s\n",
      "213:\tlearn: 0.1961294\ttotal: 704ms\tremaining: 2.59s\n",
      "214:\tlearn: 0.1960505\ttotal: 708ms\tremaining: 2.58s\n",
      "215:\tlearn: 0.1959331\ttotal: 713ms\tremaining: 2.59s\n",
      "216:\tlearn: 0.1956869\ttotal: 718ms\tremaining: 2.59s\n",
      "217:\tlearn: 0.1955427\ttotal: 722ms\tremaining: 2.59s\n",
      "218:\tlearn: 0.1952997\ttotal: 728ms\tremaining: 2.6s\n",
      "219:\tlearn: 0.1951504\ttotal: 733ms\tremaining: 2.6s\n",
      "220:\tlearn: 0.1949890\ttotal: 737ms\tremaining: 2.6s\n",
      "221:\tlearn: 0.1947273\ttotal: 742ms\tremaining: 2.6s\n",
      "222:\tlearn: 0.1946158\ttotal: 747ms\tremaining: 2.6s\n",
      "223:\tlearn: 0.1944704\ttotal: 751ms\tremaining: 2.6s\n",
      "224:\tlearn: 0.1943036\ttotal: 756ms\tremaining: 2.6s\n",
      "225:\tlearn: 0.1942423\ttotal: 761ms\tremaining: 2.6s\n",
      "226:\tlearn: 0.1939987\ttotal: 764ms\tremaining: 2.6s\n",
      "227:\tlearn: 0.1939006\ttotal: 768ms\tremaining: 2.6s\n",
      "228:\tlearn: 0.1938656\ttotal: 772ms\tremaining: 2.6s\n",
      "229:\tlearn: 0.1936400\ttotal: 775ms\tremaining: 2.6s\n",
      "230:\tlearn: 0.1934026\ttotal: 779ms\tremaining: 2.59s\n",
      "231:\tlearn: 0.1931436\ttotal: 785ms\tremaining: 2.6s\n",
      "232:\tlearn: 0.1929665\ttotal: 789ms\tremaining: 2.6s\n",
      "233:\tlearn: 0.1927830\ttotal: 793ms\tremaining: 2.6s\n",
      "234:\tlearn: 0.1925978\ttotal: 797ms\tremaining: 2.59s\n",
      "235:\tlearn: 0.1925542\ttotal: 800ms\tremaining: 2.59s\n",
      "236:\tlearn: 0.1923896\ttotal: 804ms\tremaining: 2.59s\n",
      "237:\tlearn: 0.1920777\ttotal: 808ms\tremaining: 2.59s\n",
      "238:\tlearn: 0.1918761\ttotal: 812ms\tremaining: 2.59s\n",
      "239:\tlearn: 0.1918343\ttotal: 816ms\tremaining: 2.58s\n",
      "240:\tlearn: 0.1915980\ttotal: 820ms\tremaining: 2.58s\n",
      "241:\tlearn: 0.1912285\ttotal: 824ms\tremaining: 2.58s\n",
      "242:\tlearn: 0.1910414\ttotal: 828ms\tremaining: 2.58s\n",
      "243:\tlearn: 0.1910006\ttotal: 832ms\tremaining: 2.58s\n",
      "244:\tlearn: 0.1909467\ttotal: 836ms\tremaining: 2.57s\n",
      "245:\tlearn: 0.1907832\ttotal: 840ms\tremaining: 2.57s\n",
      "246:\tlearn: 0.1905968\ttotal: 843ms\tremaining: 2.57s\n",
      "247:\tlearn: 0.1903427\ttotal: 847ms\tremaining: 2.57s\n",
      "248:\tlearn: 0.1902914\ttotal: 850ms\tremaining: 2.56s\n",
      "249:\tlearn: 0.1900810\ttotal: 856ms\tremaining: 2.57s\n",
      "250:\tlearn: 0.1900496\ttotal: 859ms\tremaining: 2.56s\n",
      "251:\tlearn: 0.1899132\ttotal: 863ms\tremaining: 2.56s\n",
      "252:\tlearn: 0.1897167\ttotal: 867ms\tremaining: 2.56s\n",
      "253:\tlearn: 0.1895293\ttotal: 872ms\tremaining: 2.56s\n",
      "254:\tlearn: 0.1893014\ttotal: 876ms\tremaining: 2.56s\n",
      "255:\tlearn: 0.1890769\ttotal: 880ms\tremaining: 2.56s\n",
      "256:\tlearn: 0.1889514\ttotal: 884ms\tremaining: 2.56s\n",
      "257:\tlearn: 0.1887331\ttotal: 888ms\tremaining: 2.55s\n",
      "258:\tlearn: 0.1884886\ttotal: 891ms\tremaining: 2.55s\n",
      "259:\tlearn: 0.1882960\ttotal: 895ms\tremaining: 2.55s\n",
      "260:\tlearn: 0.1881317\ttotal: 901ms\tremaining: 2.55s\n",
      "261:\tlearn: 0.1879411\ttotal: 904ms\tremaining: 2.55s\n",
      "262:\tlearn: 0.1877038\ttotal: 907ms\tremaining: 2.54s\n",
      "263:\tlearn: 0.1875204\ttotal: 912ms\tremaining: 2.54s\n",
      "264:\tlearn: 0.1873107\ttotal: 915ms\tremaining: 2.54s\n",
      "265:\tlearn: 0.1872820\ttotal: 918ms\tremaining: 2.53s\n",
      "266:\tlearn: 0.1872339\ttotal: 921ms\tremaining: 2.53s\n",
      "267:\tlearn: 0.1870271\ttotal: 923ms\tremaining: 2.52s\n",
      "268:\tlearn: 0.1868332\ttotal: 928ms\tremaining: 2.52s\n",
      "269:\tlearn: 0.1866535\ttotal: 931ms\tremaining: 2.52s\n",
      "270:\tlearn: 0.1864811\ttotal: 934ms\tremaining: 2.51s\n",
      "271:\tlearn: 0.1863497\ttotal: 937ms\tremaining: 2.51s\n",
      "272:\tlearn: 0.1861493\ttotal: 940ms\tremaining: 2.5s\n",
      "273:\tlearn: 0.1860195\ttotal: 943ms\tremaining: 2.5s\n",
      "274:\tlearn: 0.1859287\ttotal: 946ms\tremaining: 2.49s\n",
      "275:\tlearn: 0.1858813\ttotal: 949ms\tremaining: 2.49s\n",
      "276:\tlearn: 0.1856540\ttotal: 952ms\tremaining: 2.48s\n",
      "277:\tlearn: 0.1856081\ttotal: 956ms\tremaining: 2.48s\n",
      "278:\tlearn: 0.1854166\ttotal: 959ms\tremaining: 2.48s\n",
      "279:\tlearn: 0.1852420\ttotal: 962ms\tremaining: 2.47s\n",
      "280:\tlearn: 0.1850367\ttotal: 965ms\tremaining: 2.47s\n",
      "281:\tlearn: 0.1847602\ttotal: 968ms\tremaining: 2.46s\n",
      "282:\tlearn: 0.1846636\ttotal: 971ms\tremaining: 2.46s\n",
      "283:\tlearn: 0.1844555\ttotal: 974ms\tremaining: 2.46s\n",
      "284:\tlearn: 0.1842844\ttotal: 977ms\tremaining: 2.45s\n",
      "285:\tlearn: 0.1839916\ttotal: 980ms\tremaining: 2.44s\n",
      "286:\tlearn: 0.1839485\ttotal: 983ms\tremaining: 2.44s\n",
      "287:\tlearn: 0.1837825\ttotal: 985ms\tremaining: 2.44s\n",
      "288:\tlearn: 0.1836176\ttotal: 1000ms\tremaining: 2.46s\n",
      "289:\tlearn: 0.1834566\ttotal: 1s\tremaining: 2.46s\n",
      "290:\tlearn: 0.1834184\ttotal: 1s\tremaining: 2.45s\n",
      "291:\tlearn: 0.1833707\ttotal: 1.01s\tremaining: 2.44s\n",
      "292:\tlearn: 0.1831613\ttotal: 1.01s\tremaining: 2.44s\n",
      "293:\tlearn: 0.1829791\ttotal: 1.01s\tremaining: 2.44s\n",
      "294:\tlearn: 0.1828755\ttotal: 1.02s\tremaining: 2.43s\n",
      "295:\tlearn: 0.1827375\ttotal: 1.02s\tremaining: 2.43s\n",
      "296:\tlearn: 0.1826692\ttotal: 1.02s\tremaining: 2.42s\n",
      "297:\tlearn: 0.1825001\ttotal: 1.03s\tremaining: 2.42s\n",
      "298:\tlearn: 0.1823417\ttotal: 1.03s\tremaining: 2.42s\n",
      "299:\tlearn: 0.1823016\ttotal: 1.03s\tremaining: 2.41s\n",
      "300:\tlearn: 0.1820166\ttotal: 1.04s\tremaining: 2.41s\n",
      "301:\tlearn: 0.1819521\ttotal: 1.04s\tremaining: 2.4s\n",
      "302:\tlearn: 0.1817477\ttotal: 1.04s\tremaining: 2.4s\n",
      "303:\tlearn: 0.1815616\ttotal: 1.05s\tremaining: 2.4s\n",
      "304:\tlearn: 0.1813225\ttotal: 1.05s\tremaining: 2.39s\n",
      "305:\tlearn: 0.1810522\ttotal: 1.05s\tremaining: 2.39s\n",
      "306:\tlearn: 0.1808276\ttotal: 1.05s\tremaining: 2.38s\n",
      "307:\tlearn: 0.1806917\ttotal: 1.06s\tremaining: 2.38s\n",
      "308:\tlearn: 0.1805253\ttotal: 1.06s\tremaining: 2.37s\n",
      "309:\tlearn: 0.1804553\ttotal: 1.06s\tremaining: 2.37s\n",
      "310:\tlearn: 0.1804311\ttotal: 1.07s\tremaining: 2.36s\n",
      "311:\tlearn: 0.1802741\ttotal: 1.07s\tremaining: 2.36s\n",
      "312:\tlearn: 0.1800912\ttotal: 1.07s\tremaining: 2.36s\n",
      "313:\tlearn: 0.1798683\ttotal: 1.08s\tremaining: 2.35s\n",
      "314:\tlearn: 0.1797791\ttotal: 1.08s\tremaining: 2.35s\n",
      "315:\tlearn: 0.1795695\ttotal: 1.08s\tremaining: 2.35s\n",
      "316:\tlearn: 0.1794696\ttotal: 1.09s\tremaining: 2.34s\n",
      "317:\tlearn: 0.1793866\ttotal: 1.09s\tremaining: 2.34s\n",
      "318:\tlearn: 0.1792177\ttotal: 1.09s\tremaining: 2.33s\n",
      "319:\tlearn: 0.1791330\ttotal: 1.09s\tremaining: 2.33s\n",
      "320:\tlearn: 0.1789886\ttotal: 1.1s\tremaining: 2.33s\n",
      "321:\tlearn: 0.1787747\ttotal: 1.1s\tremaining: 2.33s\n",
      "322:\tlearn: 0.1787413\ttotal: 1.11s\tremaining: 2.32s\n",
      "323:\tlearn: 0.1786444\ttotal: 1.11s\tremaining: 2.32s\n",
      "324:\tlearn: 0.1786232\ttotal: 1.11s\tremaining: 2.31s\n",
      "325:\tlearn: 0.1785123\ttotal: 1.12s\tremaining: 2.31s\n",
      "326:\tlearn: 0.1783631\ttotal: 1.12s\tremaining: 2.3s\n",
      "327:\tlearn: 0.1782249\ttotal: 1.12s\tremaining: 2.3s\n",
      "328:\tlearn: 0.1780851\ttotal: 1.12s\tremaining: 2.29s\n"
     ]
    },
    {
     "name": "stdout",
     "output_type": "stream",
     "text": [
      "329:\tlearn: 0.1779194\ttotal: 1.13s\tremaining: 2.29s\n",
      "330:\tlearn: 0.1778579\ttotal: 1.13s\tremaining: 2.29s\n",
      "331:\tlearn: 0.1778118\ttotal: 1.14s\tremaining: 2.28s\n",
      "332:\tlearn: 0.1776603\ttotal: 1.14s\tremaining: 2.28s\n",
      "333:\tlearn: 0.1774888\ttotal: 1.14s\tremaining: 2.27s\n",
      "334:\tlearn: 0.1773853\ttotal: 1.14s\tremaining: 2.27s\n",
      "335:\tlearn: 0.1772869\ttotal: 1.15s\tremaining: 2.27s\n",
      "336:\tlearn: 0.1770201\ttotal: 1.15s\tremaining: 2.26s\n",
      "337:\tlearn: 0.1769705\ttotal: 1.15s\tremaining: 2.26s\n",
      "338:\tlearn: 0.1767739\ttotal: 1.16s\tremaining: 2.25s\n",
      "339:\tlearn: 0.1765360\ttotal: 1.16s\tremaining: 2.25s\n",
      "340:\tlearn: 0.1764292\ttotal: 1.16s\tremaining: 2.25s\n",
      "341:\tlearn: 0.1764025\ttotal: 1.17s\tremaining: 2.24s\n",
      "342:\tlearn: 0.1761858\ttotal: 1.17s\tremaining: 2.24s\n",
      "343:\tlearn: 0.1761382\ttotal: 1.17s\tremaining: 2.23s\n",
      "344:\tlearn: 0.1761228\ttotal: 1.17s\tremaining: 2.23s\n",
      "345:\tlearn: 0.1759366\ttotal: 1.18s\tremaining: 2.22s\n",
      "346:\tlearn: 0.1757763\ttotal: 1.18s\tremaining: 2.22s\n",
      "347:\tlearn: 0.1756931\ttotal: 1.18s\tremaining: 2.21s\n",
      "348:\tlearn: 0.1755958\ttotal: 1.19s\tremaining: 2.21s\n",
      "349:\tlearn: 0.1754533\ttotal: 1.19s\tremaining: 2.21s\n",
      "350:\tlearn: 0.1753724\ttotal: 1.19s\tremaining: 2.2s\n",
      "351:\tlearn: 0.1752647\ttotal: 1.19s\tremaining: 2.2s\n",
      "352:\tlearn: 0.1752467\ttotal: 1.2s\tremaining: 2.2s\n",
      "353:\tlearn: 0.1749821\ttotal: 1.2s\tremaining: 2.19s\n",
      "354:\tlearn: 0.1748914\ttotal: 1.21s\tremaining: 2.19s\n",
      "355:\tlearn: 0.1747498\ttotal: 1.21s\tremaining: 2.19s\n",
      "356:\tlearn: 0.1746518\ttotal: 1.21s\tremaining: 2.19s\n",
      "357:\tlearn: 0.1745494\ttotal: 1.22s\tremaining: 2.19s\n",
      "358:\tlearn: 0.1745006\ttotal: 1.22s\tremaining: 2.18s\n",
      "359:\tlearn: 0.1743845\ttotal: 1.23s\tremaining: 2.18s\n",
      "360:\tlearn: 0.1742104\ttotal: 1.23s\tremaining: 2.17s\n",
      "361:\tlearn: 0.1740969\ttotal: 1.23s\tremaining: 2.17s\n",
      "362:\tlearn: 0.1739766\ttotal: 1.24s\tremaining: 2.17s\n",
      "363:\tlearn: 0.1737447\ttotal: 1.24s\tremaining: 2.16s\n",
      "364:\tlearn: 0.1736584\ttotal: 1.24s\tremaining: 2.16s\n",
      "365:\tlearn: 0.1735320\ttotal: 1.25s\tremaining: 2.16s\n",
      "366:\tlearn: 0.1734214\ttotal: 1.25s\tremaining: 2.15s\n",
      "367:\tlearn: 0.1733386\ttotal: 1.25s\tremaining: 2.15s\n",
      "368:\tlearn: 0.1732120\ttotal: 1.25s\tremaining: 2.15s\n",
      "369:\tlearn: 0.1730490\ttotal: 1.26s\tremaining: 2.14s\n",
      "370:\tlearn: 0.1729600\ttotal: 1.26s\tremaining: 2.14s\n",
      "371:\tlearn: 0.1728299\ttotal: 1.26s\tremaining: 2.13s\n",
      "372:\tlearn: 0.1726649\ttotal: 1.27s\tremaining: 2.13s\n",
      "373:\tlearn: 0.1725844\ttotal: 1.27s\tremaining: 2.13s\n",
      "374:\tlearn: 0.1724163\ttotal: 1.27s\tremaining: 2.12s\n",
      "375:\tlearn: 0.1723379\ttotal: 1.28s\tremaining: 2.12s\n",
      "376:\tlearn: 0.1722069\ttotal: 1.28s\tremaining: 2.12s\n",
      "377:\tlearn: 0.1720726\ttotal: 1.28s\tremaining: 2.11s\n",
      "378:\tlearn: 0.1719051\ttotal: 1.29s\tremaining: 2.11s\n",
      "379:\tlearn: 0.1717647\ttotal: 1.29s\tremaining: 2.1s\n",
      "380:\tlearn: 0.1716307\ttotal: 1.29s\tremaining: 2.1s\n",
      "381:\tlearn: 0.1714561\ttotal: 1.3s\tremaining: 2.1s\n",
      "382:\tlearn: 0.1713721\ttotal: 1.3s\tremaining: 2.1s\n",
      "383:\tlearn: 0.1711384\ttotal: 1.3s\tremaining: 2.09s\n",
      "384:\tlearn: 0.1709546\ttotal: 1.31s\tremaining: 2.09s\n",
      "385:\tlearn: 0.1707718\ttotal: 1.31s\tremaining: 2.09s\n",
      "386:\tlearn: 0.1706992\ttotal: 1.31s\tremaining: 2.08s\n",
      "387:\tlearn: 0.1705364\ttotal: 1.32s\tremaining: 2.08s\n",
      "388:\tlearn: 0.1704199\ttotal: 1.32s\tremaining: 2.07s\n",
      "389:\tlearn: 0.1703015\ttotal: 1.32s\tremaining: 2.07s\n",
      "390:\tlearn: 0.1701879\ttotal: 1.33s\tremaining: 2.06s\n",
      "391:\tlearn: 0.1700790\ttotal: 1.33s\tremaining: 2.06s\n",
      "392:\tlearn: 0.1699707\ttotal: 1.33s\tremaining: 2.06s\n",
      "393:\tlearn: 0.1696806\ttotal: 1.33s\tremaining: 2.05s\n",
      "394:\tlearn: 0.1695117\ttotal: 1.34s\tremaining: 2.05s\n",
      "395:\tlearn: 0.1693624\ttotal: 1.34s\tremaining: 2.04s\n",
      "396:\tlearn: 0.1692197\ttotal: 1.34s\tremaining: 2.04s\n",
      "397:\tlearn: 0.1690932\ttotal: 1.35s\tremaining: 2.04s\n",
      "398:\tlearn: 0.1690270\ttotal: 1.35s\tremaining: 2.03s\n",
      "399:\tlearn: 0.1688632\ttotal: 1.35s\tremaining: 2.03s\n",
      "400:\tlearn: 0.1687087\ttotal: 1.35s\tremaining: 2.02s\n",
      "401:\tlearn: 0.1685488\ttotal: 1.36s\tremaining: 2.02s\n",
      "402:\tlearn: 0.1683988\ttotal: 1.36s\tremaining: 2.02s\n",
      "403:\tlearn: 0.1683073\ttotal: 1.36s\tremaining: 2.01s\n",
      "404:\tlearn: 0.1681843\ttotal: 1.37s\tremaining: 2.01s\n",
      "405:\tlearn: 0.1679835\ttotal: 1.37s\tremaining: 2.01s\n",
      "406:\tlearn: 0.1679310\ttotal: 1.38s\tremaining: 2s\n",
      "407:\tlearn: 0.1677906\ttotal: 1.38s\tremaining: 2s\n",
      "408:\tlearn: 0.1676399\ttotal: 1.38s\tremaining: 2s\n",
      "409:\tlearn: 0.1675153\ttotal: 1.39s\tremaining: 1.99s\n",
      "410:\tlearn: 0.1674620\ttotal: 1.39s\tremaining: 1.99s\n",
      "411:\tlearn: 0.1673440\ttotal: 1.39s\tremaining: 1.99s\n",
      "412:\tlearn: 0.1672329\ttotal: 1.39s\tremaining: 1.98s\n",
      "413:\tlearn: 0.1671871\ttotal: 1.4s\tremaining: 1.98s\n",
      "414:\tlearn: 0.1670972\ttotal: 1.4s\tremaining: 1.97s\n",
      "415:\tlearn: 0.1670119\ttotal: 1.4s\tremaining: 1.97s\n",
      "416:\tlearn: 0.1668196\ttotal: 1.41s\tremaining: 1.97s\n",
      "417:\tlearn: 0.1667569\ttotal: 1.41s\tremaining: 1.96s\n",
      "418:\tlearn: 0.1666189\ttotal: 1.41s\tremaining: 1.96s\n",
      "419:\tlearn: 0.1663979\ttotal: 1.42s\tremaining: 1.96s\n",
      "420:\tlearn: 0.1663176\ttotal: 1.42s\tremaining: 1.95s\n",
      "421:\tlearn: 0.1660629\ttotal: 1.42s\tremaining: 1.95s\n",
      "422:\tlearn: 0.1659845\ttotal: 1.42s\tremaining: 1.94s\n",
      "423:\tlearn: 0.1658801\ttotal: 1.43s\tremaining: 1.94s\n",
      "424:\tlearn: 0.1657453\ttotal: 1.43s\tremaining: 1.94s\n",
      "425:\tlearn: 0.1657035\ttotal: 1.44s\tremaining: 1.93s\n",
      "426:\tlearn: 0.1656104\ttotal: 1.44s\tremaining: 1.93s\n",
      "427:\tlearn: 0.1654688\ttotal: 1.44s\tremaining: 1.93s\n",
      "428:\tlearn: 0.1653664\ttotal: 1.45s\tremaining: 1.92s\n",
      "429:\tlearn: 0.1652201\ttotal: 1.45s\tremaining: 1.92s\n",
      "430:\tlearn: 0.1650566\ttotal: 1.45s\tremaining: 1.92s\n",
      "431:\tlearn: 0.1649627\ttotal: 1.45s\tremaining: 1.91s\n",
      "432:\tlearn: 0.1649226\ttotal: 1.46s\tremaining: 1.91s\n",
      "433:\tlearn: 0.1647874\ttotal: 1.46s\tremaining: 1.9s\n",
      "434:\tlearn: 0.1646431\ttotal: 1.46s\tremaining: 1.9s\n",
      "435:\tlearn: 0.1645134\ttotal: 1.47s\tremaining: 1.9s\n",
      "436:\tlearn: 0.1644703\ttotal: 1.47s\tremaining: 1.89s\n",
      "437:\tlearn: 0.1643300\ttotal: 1.47s\tremaining: 1.89s\n",
      "438:\tlearn: 0.1642429\ttotal: 1.48s\tremaining: 1.89s\n",
      "439:\tlearn: 0.1641538\ttotal: 1.48s\tremaining: 1.88s\n",
      "440:\tlearn: 0.1640019\ttotal: 1.48s\tremaining: 1.88s\n",
      "441:\tlearn: 0.1639189\ttotal: 1.48s\tremaining: 1.87s\n",
      "442:\tlearn: 0.1637275\ttotal: 1.49s\tremaining: 1.87s\n",
      "443:\tlearn: 0.1636532\ttotal: 1.49s\tremaining: 1.87s\n",
      "444:\tlearn: 0.1636159\ttotal: 1.49s\tremaining: 1.86s\n",
      "445:\tlearn: 0.1635367\ttotal: 1.5s\tremaining: 1.86s\n",
      "446:\tlearn: 0.1633999\ttotal: 1.5s\tremaining: 1.85s\n",
      "447:\tlearn: 0.1633273\ttotal: 1.5s\tremaining: 1.85s\n",
      "448:\tlearn: 0.1632323\ttotal: 1.5s\tremaining: 1.85s\n",
      "449:\tlearn: 0.1632001\ttotal: 1.51s\tremaining: 1.84s\n",
      "450:\tlearn: 0.1630256\ttotal: 1.51s\tremaining: 1.84s\n",
      "451:\tlearn: 0.1629618\ttotal: 1.51s\tremaining: 1.83s\n",
      "452:\tlearn: 0.1628666\ttotal: 1.52s\tremaining: 1.83s\n",
      "453:\tlearn: 0.1627577\ttotal: 1.52s\tremaining: 1.83s\n",
      "454:\tlearn: 0.1625611\ttotal: 1.52s\tremaining: 1.82s\n",
      "455:\tlearn: 0.1623442\ttotal: 1.52s\tremaining: 1.82s\n",
      "456:\tlearn: 0.1622366\ttotal: 1.53s\tremaining: 1.82s\n",
      "457:\tlearn: 0.1621285\ttotal: 1.53s\tremaining: 1.81s\n",
      "458:\tlearn: 0.1620343\ttotal: 1.53s\tremaining: 1.81s\n",
      "459:\tlearn: 0.1618438\ttotal: 1.54s\tremaining: 1.8s\n",
      "460:\tlearn: 0.1617880\ttotal: 1.54s\tremaining: 1.8s\n",
      "461:\tlearn: 0.1616725\ttotal: 1.54s\tremaining: 1.8s\n",
      "462:\tlearn: 0.1615570\ttotal: 1.55s\tremaining: 1.8s\n",
      "463:\tlearn: 0.1614590\ttotal: 1.55s\tremaining: 1.79s\n",
      "464:\tlearn: 0.1613629\ttotal: 1.55s\tremaining: 1.79s\n",
      "465:\tlearn: 0.1612833\ttotal: 1.56s\tremaining: 1.79s\n",
      "466:\tlearn: 0.1612276\ttotal: 1.56s\tremaining: 1.78s\n",
      "467:\tlearn: 0.1610763\ttotal: 1.56s\tremaining: 1.78s\n",
      "468:\tlearn: 0.1609858\ttotal: 1.57s\tremaining: 1.77s\n",
      "469:\tlearn: 0.1607625\ttotal: 1.57s\tremaining: 1.77s\n",
      "470:\tlearn: 0.1606596\ttotal: 1.57s\tremaining: 1.77s\n",
      "471:\tlearn: 0.1605040\ttotal: 1.58s\tremaining: 1.76s\n",
      "472:\tlearn: 0.1604121\ttotal: 1.58s\tremaining: 1.76s\n",
      "473:\tlearn: 0.1603015\ttotal: 1.58s\tremaining: 1.76s\n",
      "474:\tlearn: 0.1602391\ttotal: 1.59s\tremaining: 1.75s\n",
      "475:\tlearn: 0.1601258\ttotal: 1.59s\tremaining: 1.75s\n",
      "476:\tlearn: 0.1598883\ttotal: 1.59s\tremaining: 1.75s\n",
      "477:\tlearn: 0.1597861\ttotal: 1.6s\tremaining: 1.74s\n",
      "478:\tlearn: 0.1596045\ttotal: 1.6s\tremaining: 1.74s\n",
      "479:\tlearn: 0.1594097\ttotal: 1.6s\tremaining: 1.74s\n",
      "480:\tlearn: 0.1593615\ttotal: 1.61s\tremaining: 1.73s\n",
      "481:\tlearn: 0.1591496\ttotal: 1.61s\tremaining: 1.73s\n",
      "482:\tlearn: 0.1591324\ttotal: 1.61s\tremaining: 1.73s\n",
      "483:\tlearn: 0.1590165\ttotal: 1.62s\tremaining: 1.72s\n",
      "484:\tlearn: 0.1589316\ttotal: 1.62s\tremaining: 1.72s\n",
      "485:\tlearn: 0.1588973\ttotal: 1.62s\tremaining: 1.72s\n",
      "486:\tlearn: 0.1588619\ttotal: 1.63s\tremaining: 1.71s\n",
      "487:\tlearn: 0.1587738\ttotal: 1.63s\tremaining: 1.71s\n",
      "488:\tlearn: 0.1586163\ttotal: 1.63s\tremaining: 1.7s\n",
      "489:\tlearn: 0.1585407\ttotal: 1.63s\tremaining: 1.7s\n",
      "490:\tlearn: 0.1585066\ttotal: 1.64s\tremaining: 1.7s\n"
     ]
    },
    {
     "name": "stdout",
     "output_type": "stream",
     "text": [
      "491:\tlearn: 0.1584817\ttotal: 1.64s\tremaining: 1.69s\n",
      "492:\tlearn: 0.1584003\ttotal: 1.64s\tremaining: 1.69s\n",
      "493:\tlearn: 0.1583302\ttotal: 1.65s\tremaining: 1.69s\n",
      "494:\tlearn: 0.1581733\ttotal: 1.65s\tremaining: 1.68s\n",
      "495:\tlearn: 0.1581128\ttotal: 1.65s\tremaining: 1.68s\n",
      "496:\tlearn: 0.1579782\ttotal: 1.66s\tremaining: 1.68s\n",
      "497:\tlearn: 0.1579201\ttotal: 1.66s\tremaining: 1.67s\n",
      "498:\tlearn: 0.1577933\ttotal: 1.66s\tremaining: 1.67s\n",
      "499:\tlearn: 0.1577750\ttotal: 1.67s\tremaining: 1.67s\n",
      "500:\tlearn: 0.1576386\ttotal: 1.67s\tremaining: 1.66s\n",
      "501:\tlearn: 0.1575145\ttotal: 1.67s\tremaining: 1.66s\n",
      "502:\tlearn: 0.1574761\ttotal: 1.67s\tremaining: 1.65s\n",
      "503:\tlearn: 0.1573011\ttotal: 1.68s\tremaining: 1.65s\n",
      "504:\tlearn: 0.1572768\ttotal: 1.68s\tremaining: 1.65s\n",
      "505:\tlearn: 0.1571549\ttotal: 1.68s\tremaining: 1.64s\n",
      "506:\tlearn: 0.1570583\ttotal: 1.69s\tremaining: 1.64s\n",
      "507:\tlearn: 0.1569549\ttotal: 1.69s\tremaining: 1.64s\n",
      "508:\tlearn: 0.1568743\ttotal: 1.69s\tremaining: 1.63s\n",
      "509:\tlearn: 0.1568471\ttotal: 1.7s\tremaining: 1.63s\n",
      "510:\tlearn: 0.1567856\ttotal: 1.7s\tremaining: 1.63s\n",
      "511:\tlearn: 0.1566632\ttotal: 1.7s\tremaining: 1.62s\n",
      "512:\tlearn: 0.1566396\ttotal: 1.7s\tremaining: 1.62s\n",
      "513:\tlearn: 0.1565278\ttotal: 1.71s\tremaining: 1.61s\n",
      "514:\tlearn: 0.1564771\ttotal: 1.71s\tremaining: 1.61s\n",
      "515:\tlearn: 0.1564115\ttotal: 1.71s\tremaining: 1.61s\n",
      "516:\tlearn: 0.1563590\ttotal: 1.72s\tremaining: 1.6s\n",
      "517:\tlearn: 0.1563429\ttotal: 1.72s\tremaining: 1.6s\n",
      "518:\tlearn: 0.1562655\ttotal: 1.72s\tremaining: 1.6s\n",
      "519:\tlearn: 0.1561263\ttotal: 1.73s\tremaining: 1.59s\n",
      "520:\tlearn: 0.1560843\ttotal: 1.73s\tremaining: 1.59s\n",
      "521:\tlearn: 0.1559812\ttotal: 1.73s\tremaining: 1.59s\n",
      "522:\tlearn: 0.1559121\ttotal: 1.74s\tremaining: 1.58s\n",
      "523:\tlearn: 0.1558676\ttotal: 1.74s\tremaining: 1.58s\n",
      "524:\tlearn: 0.1558186\ttotal: 1.74s\tremaining: 1.58s\n",
      "525:\tlearn: 0.1557002\ttotal: 1.75s\tremaining: 1.57s\n",
      "526:\tlearn: 0.1556664\ttotal: 1.75s\tremaining: 1.57s\n",
      "527:\tlearn: 0.1555865\ttotal: 1.75s\tremaining: 1.56s\n",
      "528:\tlearn: 0.1555495\ttotal: 1.75s\tremaining: 1.56s\n",
      "529:\tlearn: 0.1554511\ttotal: 1.76s\tremaining: 1.56s\n",
      "530:\tlearn: 0.1553993\ttotal: 1.76s\tremaining: 1.55s\n",
      "531:\tlearn: 0.1552838\ttotal: 1.76s\tremaining: 1.55s\n",
      "532:\tlearn: 0.1551361\ttotal: 1.77s\tremaining: 1.55s\n",
      "533:\tlearn: 0.1550944\ttotal: 1.77s\tremaining: 1.55s\n",
      "534:\tlearn: 0.1550284\ttotal: 1.77s\tremaining: 1.54s\n",
      "535:\tlearn: 0.1548731\ttotal: 1.78s\tremaining: 1.54s\n",
      "536:\tlearn: 0.1547712\ttotal: 1.78s\tremaining: 1.53s\n",
      "537:\tlearn: 0.1546847\ttotal: 1.78s\tremaining: 1.53s\n",
      "538:\tlearn: 0.1546203\ttotal: 1.79s\tremaining: 1.53s\n",
      "539:\tlearn: 0.1545930\ttotal: 1.79s\tremaining: 1.52s\n",
      "540:\tlearn: 0.1544275\ttotal: 1.79s\tremaining: 1.52s\n",
      "541:\tlearn: 0.1543781\ttotal: 1.8s\tremaining: 1.52s\n",
      "542:\tlearn: 0.1543111\ttotal: 1.8s\tremaining: 1.51s\n",
      "543:\tlearn: 0.1542704\ttotal: 1.8s\tremaining: 1.51s\n",
      "544:\tlearn: 0.1541343\ttotal: 1.8s\tremaining: 1.51s\n",
      "545:\tlearn: 0.1540878\ttotal: 1.81s\tremaining: 1.5s\n",
      "546:\tlearn: 0.1539775\ttotal: 1.81s\tremaining: 1.5s\n",
      "547:\tlearn: 0.1538984\ttotal: 1.82s\tremaining: 1.5s\n",
      "548:\tlearn: 0.1537624\ttotal: 1.82s\tremaining: 1.49s\n",
      "549:\tlearn: 0.1536881\ttotal: 1.82s\tremaining: 1.49s\n",
      "550:\tlearn: 0.1536065\ttotal: 1.83s\tremaining: 1.49s\n",
      "551:\tlearn: 0.1535604\ttotal: 1.84s\tremaining: 1.49s\n",
      "552:\tlearn: 0.1534992\ttotal: 1.85s\tremaining: 1.49s\n",
      "553:\tlearn: 0.1534194\ttotal: 1.85s\tremaining: 1.49s\n",
      "554:\tlearn: 0.1532719\ttotal: 1.86s\tremaining: 1.49s\n",
      "555:\tlearn: 0.1531712\ttotal: 1.87s\tremaining: 1.49s\n",
      "556:\tlearn: 0.1531119\ttotal: 1.87s\tremaining: 1.49s\n",
      "557:\tlearn: 0.1530042\ttotal: 1.88s\tremaining: 1.49s\n",
      "558:\tlearn: 0.1529341\ttotal: 1.88s\tremaining: 1.48s\n",
      "559:\tlearn: 0.1529088\ttotal: 1.89s\tremaining: 1.48s\n",
      "560:\tlearn: 0.1528162\ttotal: 1.9s\tremaining: 1.48s\n",
      "561:\tlearn: 0.1527268\ttotal: 1.9s\tremaining: 1.48s\n",
      "562:\tlearn: 0.1526828\ttotal: 1.91s\tremaining: 1.48s\n",
      "563:\tlearn: 0.1526537\ttotal: 1.91s\tremaining: 1.48s\n",
      "564:\tlearn: 0.1525561\ttotal: 1.91s\tremaining: 1.47s\n",
      "565:\tlearn: 0.1524839\ttotal: 1.92s\tremaining: 1.47s\n",
      "566:\tlearn: 0.1524115\ttotal: 1.94s\tremaining: 1.48s\n",
      "567:\tlearn: 0.1523682\ttotal: 1.94s\tremaining: 1.48s\n",
      "568:\tlearn: 0.1522315\ttotal: 1.95s\tremaining: 1.48s\n",
      "569:\tlearn: 0.1521845\ttotal: 1.96s\tremaining: 1.48s\n",
      "570:\tlearn: 0.1520015\ttotal: 1.96s\tremaining: 1.48s\n",
      "571:\tlearn: 0.1519566\ttotal: 1.98s\tremaining: 1.48s\n",
      "572:\tlearn: 0.1518270\ttotal: 1.99s\tremaining: 1.48s\n",
      "573:\tlearn: 0.1517568\ttotal: 2s\tremaining: 1.49s\n",
      "574:\tlearn: 0.1516505\ttotal: 2.01s\tremaining: 1.48s\n",
      "575:\tlearn: 0.1515533\ttotal: 2.02s\tremaining: 1.49s\n",
      "576:\tlearn: 0.1514894\ttotal: 2.02s\tremaining: 1.49s\n",
      "577:\tlearn: 0.1514694\ttotal: 2.03s\tremaining: 1.49s\n",
      "578:\tlearn: 0.1514237\ttotal: 2.04s\tremaining: 1.49s\n",
      "579:\tlearn: 0.1513305\ttotal: 2.05s\tremaining: 1.49s\n",
      "580:\tlearn: 0.1512741\ttotal: 2.06s\tremaining: 1.49s\n",
      "581:\tlearn: 0.1512223\ttotal: 2.07s\tremaining: 1.48s\n",
      "582:\tlearn: 0.1511115\ttotal: 2.07s\tremaining: 1.48s\n",
      "583:\tlearn: 0.1510051\ttotal: 2.08s\tremaining: 1.48s\n",
      "584:\tlearn: 0.1509674\ttotal: 2.09s\tremaining: 1.48s\n",
      "585:\tlearn: 0.1508981\ttotal: 2.09s\tremaining: 1.48s\n",
      "586:\tlearn: 0.1508199\ttotal: 2.1s\tremaining: 1.48s\n",
      "587:\tlearn: 0.1507133\ttotal: 2.11s\tremaining: 1.48s\n",
      "588:\tlearn: 0.1506626\ttotal: 2.12s\tremaining: 1.48s\n",
      "589:\tlearn: 0.1505676\ttotal: 2.12s\tremaining: 1.47s\n",
      "590:\tlearn: 0.1505286\ttotal: 2.13s\tremaining: 1.47s\n",
      "591:\tlearn: 0.1503606\ttotal: 2.14s\tremaining: 1.47s\n",
      "592:\tlearn: 0.1503202\ttotal: 2.14s\tremaining: 1.47s\n",
      "593:\tlearn: 0.1502652\ttotal: 2.15s\tremaining: 1.47s\n",
      "594:\tlearn: 0.1502262\ttotal: 2.16s\tremaining: 1.47s\n",
      "595:\tlearn: 0.1501448\ttotal: 2.17s\tremaining: 1.47s\n",
      "596:\tlearn: 0.1500770\ttotal: 2.17s\tremaining: 1.47s\n",
      "597:\tlearn: 0.1500703\ttotal: 2.18s\tremaining: 1.46s\n",
      "598:\tlearn: 0.1500375\ttotal: 2.19s\tremaining: 1.46s\n",
      "599:\tlearn: 0.1499777\ttotal: 2.19s\tremaining: 1.46s\n",
      "600:\tlearn: 0.1498958\ttotal: 2.2s\tremaining: 1.46s\n",
      "601:\tlearn: 0.1498051\ttotal: 2.21s\tremaining: 1.46s\n",
      "602:\tlearn: 0.1496413\ttotal: 2.21s\tremaining: 1.46s\n",
      "603:\tlearn: 0.1496292\ttotal: 2.22s\tremaining: 1.46s\n",
      "604:\tlearn: 0.1495638\ttotal: 2.23s\tremaining: 1.46s\n",
      "605:\tlearn: 0.1494892\ttotal: 2.23s\tremaining: 1.45s\n",
      "606:\tlearn: 0.1494367\ttotal: 2.24s\tremaining: 1.45s\n",
      "607:\tlearn: 0.1494239\ttotal: 2.25s\tremaining: 1.45s\n",
      "608:\tlearn: 0.1494189\ttotal: 2.25s\tremaining: 1.45s\n",
      "609:\tlearn: 0.1492549\ttotal: 2.26s\tremaining: 1.45s\n",
      "610:\tlearn: 0.1492518\ttotal: 2.27s\tremaining: 1.45s\n",
      "611:\tlearn: 0.1492160\ttotal: 2.28s\tremaining: 1.44s\n",
      "612:\tlearn: 0.1491274\ttotal: 2.28s\tremaining: 1.44s\n",
      "613:\tlearn: 0.1491074\ttotal: 2.29s\tremaining: 1.44s\n",
      "614:\tlearn: 0.1489903\ttotal: 2.3s\tremaining: 1.44s\n",
      "615:\tlearn: 0.1489145\ttotal: 2.31s\tremaining: 1.44s\n",
      "616:\tlearn: 0.1486892\ttotal: 2.31s\tremaining: 1.43s\n",
      "617:\tlearn: 0.1486340\ttotal: 2.31s\tremaining: 1.43s\n",
      "618:\tlearn: 0.1486278\ttotal: 2.32s\tremaining: 1.43s\n",
      "619:\tlearn: 0.1485551\ttotal: 2.32s\tremaining: 1.42s\n",
      "620:\tlearn: 0.1484811\ttotal: 2.33s\tremaining: 1.42s\n",
      "621:\tlearn: 0.1483772\ttotal: 2.33s\tremaining: 1.42s\n",
      "622:\tlearn: 0.1483726\ttotal: 2.33s\tremaining: 1.41s\n",
      "623:\tlearn: 0.1482930\ttotal: 2.34s\tremaining: 1.41s\n",
      "624:\tlearn: 0.1481763\ttotal: 2.34s\tremaining: 1.41s\n",
      "625:\tlearn: 0.1481233\ttotal: 2.35s\tremaining: 1.4s\n",
      "626:\tlearn: 0.1479590\ttotal: 2.35s\tremaining: 1.4s\n",
      "627:\tlearn: 0.1478516\ttotal: 2.35s\tremaining: 1.39s\n",
      "628:\tlearn: 0.1477857\ttotal: 2.36s\tremaining: 1.39s\n",
      "629:\tlearn: 0.1477642\ttotal: 2.36s\tremaining: 1.39s\n",
      "630:\tlearn: 0.1477243\ttotal: 2.37s\tremaining: 1.38s\n",
      "631:\tlearn: 0.1475886\ttotal: 2.37s\tremaining: 1.38s\n",
      "632:\tlearn: 0.1474632\ttotal: 2.37s\tremaining: 1.38s\n",
      "633:\tlearn: 0.1472568\ttotal: 2.38s\tremaining: 1.37s\n",
      "634:\tlearn: 0.1471376\ttotal: 2.38s\tremaining: 1.37s\n",
      "635:\tlearn: 0.1471174\ttotal: 2.39s\tremaining: 1.36s\n",
      "636:\tlearn: 0.1470573\ttotal: 2.39s\tremaining: 1.36s\n",
      "637:\tlearn: 0.1469377\ttotal: 2.4s\tremaining: 1.36s\n",
      "638:\tlearn: 0.1468422\ttotal: 2.4s\tremaining: 1.35s\n",
      "639:\tlearn: 0.1467102\ttotal: 2.4s\tremaining: 1.35s\n",
      "640:\tlearn: 0.1467069\ttotal: 2.41s\tremaining: 1.35s\n",
      "641:\tlearn: 0.1466218\ttotal: 2.41s\tremaining: 1.34s\n",
      "642:\tlearn: 0.1465134\ttotal: 2.41s\tremaining: 1.34s\n",
      "643:\tlearn: 0.1463743\ttotal: 2.42s\tremaining: 1.33s\n",
      "644:\tlearn: 0.1462781\ttotal: 2.42s\tremaining: 1.33s\n",
      "645:\tlearn: 0.1462569\ttotal: 2.42s\tremaining: 1.33s\n",
      "646:\tlearn: 0.1461775\ttotal: 2.42s\tremaining: 1.32s\n",
      "647:\tlearn: 0.1460036\ttotal: 2.43s\tremaining: 1.32s\n",
      "648:\tlearn: 0.1459492\ttotal: 2.43s\tremaining: 1.31s\n",
      "649:\tlearn: 0.1458895\ttotal: 2.43s\tremaining: 1.31s\n",
      "650:\tlearn: 0.1457747\ttotal: 2.44s\tremaining: 1.31s\n",
      "651:\tlearn: 0.1457322\ttotal: 2.44s\tremaining: 1.3s\n",
      "652:\tlearn: 0.1456331\ttotal: 2.44s\tremaining: 1.3s\n"
     ]
    },
    {
     "name": "stdout",
     "output_type": "stream",
     "text": [
      "653:\tlearn: 0.1455694\ttotal: 2.45s\tremaining: 1.29s\n",
      "654:\tlearn: 0.1455031\ttotal: 2.45s\tremaining: 1.29s\n",
      "655:\tlearn: 0.1454816\ttotal: 2.45s\tremaining: 1.29s\n",
      "656:\tlearn: 0.1454183\ttotal: 2.46s\tremaining: 1.28s\n",
      "657:\tlearn: 0.1453289\ttotal: 2.46s\tremaining: 1.28s\n",
      "658:\tlearn: 0.1452138\ttotal: 2.46s\tremaining: 1.27s\n",
      "659:\tlearn: 0.1450758\ttotal: 2.46s\tremaining: 1.27s\n",
      "660:\tlearn: 0.1450512\ttotal: 2.47s\tremaining: 1.27s\n",
      "661:\tlearn: 0.1450057\ttotal: 2.47s\tremaining: 1.26s\n",
      "662:\tlearn: 0.1448839\ttotal: 2.47s\tremaining: 1.26s\n",
      "663:\tlearn: 0.1448499\ttotal: 2.48s\tremaining: 1.25s\n",
      "664:\tlearn: 0.1448024\ttotal: 2.48s\tremaining: 1.25s\n",
      "665:\tlearn: 0.1447686\ttotal: 2.48s\tremaining: 1.25s\n",
      "666:\tlearn: 0.1447149\ttotal: 2.49s\tremaining: 1.24s\n",
      "667:\tlearn: 0.1446330\ttotal: 2.49s\tremaining: 1.24s\n",
      "668:\tlearn: 0.1444405\ttotal: 2.49s\tremaining: 1.23s\n",
      "669:\tlearn: 0.1443276\ttotal: 2.5s\tremaining: 1.23s\n",
      "670:\tlearn: 0.1442212\ttotal: 2.5s\tremaining: 1.23s\n",
      "671:\tlearn: 0.1441600\ttotal: 2.5s\tremaining: 1.22s\n",
      "672:\tlearn: 0.1441135\ttotal: 2.5s\tremaining: 1.22s\n",
      "673:\tlearn: 0.1440397\ttotal: 2.51s\tremaining: 1.21s\n",
      "674:\tlearn: 0.1439535\ttotal: 2.51s\tremaining: 1.21s\n",
      "675:\tlearn: 0.1438736\ttotal: 2.51s\tremaining: 1.21s\n",
      "676:\tlearn: 0.1437559\ttotal: 2.52s\tremaining: 1.2s\n",
      "677:\tlearn: 0.1436796\ttotal: 2.52s\tremaining: 1.2s\n",
      "678:\tlearn: 0.1436247\ttotal: 2.52s\tremaining: 1.19s\n",
      "679:\tlearn: 0.1435365\ttotal: 2.53s\tremaining: 1.19s\n",
      "680:\tlearn: 0.1434165\ttotal: 2.53s\tremaining: 1.18s\n",
      "681:\tlearn: 0.1433698\ttotal: 2.53s\tremaining: 1.18s\n",
      "682:\tlearn: 0.1432369\ttotal: 2.54s\tremaining: 1.18s\n",
      "683:\tlearn: 0.1431623\ttotal: 2.54s\tremaining: 1.17s\n",
      "684:\tlearn: 0.1430784\ttotal: 2.54s\tremaining: 1.17s\n",
      "685:\tlearn: 0.1430246\ttotal: 2.54s\tremaining: 1.16s\n",
      "686:\tlearn: 0.1429696\ttotal: 2.55s\tremaining: 1.16s\n",
      "687:\tlearn: 0.1428876\ttotal: 2.56s\tremaining: 1.16s\n",
      "688:\tlearn: 0.1428004\ttotal: 2.56s\tremaining: 1.16s\n",
      "689:\tlearn: 0.1427698\ttotal: 2.57s\tremaining: 1.15s\n",
      "690:\tlearn: 0.1427411\ttotal: 2.57s\tremaining: 1.15s\n",
      "691:\tlearn: 0.1426188\ttotal: 2.58s\tremaining: 1.15s\n",
      "692:\tlearn: 0.1425571\ttotal: 2.58s\tremaining: 1.15s\n",
      "693:\tlearn: 0.1424916\ttotal: 2.59s\tremaining: 1.14s\n",
      "694:\tlearn: 0.1424237\ttotal: 2.59s\tremaining: 1.14s\n",
      "695:\tlearn: 0.1423591\ttotal: 2.59s\tremaining: 1.13s\n",
      "696:\tlearn: 0.1422894\ttotal: 2.6s\tremaining: 1.13s\n",
      "697:\tlearn: 0.1420739\ttotal: 2.6s\tremaining: 1.13s\n",
      "698:\tlearn: 0.1419418\ttotal: 2.6s\tremaining: 1.12s\n",
      "699:\tlearn: 0.1418461\ttotal: 2.61s\tremaining: 1.12s\n",
      "700:\tlearn: 0.1417274\ttotal: 2.61s\tremaining: 1.11s\n",
      "701:\tlearn: 0.1417023\ttotal: 2.61s\tremaining: 1.11s\n",
      "702:\tlearn: 0.1416714\ttotal: 2.62s\tremaining: 1.1s\n",
      "703:\tlearn: 0.1416245\ttotal: 2.62s\tremaining: 1.1s\n",
      "704:\tlearn: 0.1416125\ttotal: 2.63s\tremaining: 1.1s\n",
      "705:\tlearn: 0.1415467\ttotal: 2.63s\tremaining: 1.09s\n",
      "706:\tlearn: 0.1414937\ttotal: 2.63s\tremaining: 1.09s\n",
      "707:\tlearn: 0.1414337\ttotal: 2.63s\tremaining: 1.09s\n",
      "708:\tlearn: 0.1413949\ttotal: 2.64s\tremaining: 1.08s\n",
      "709:\tlearn: 0.1413163\ttotal: 2.64s\tremaining: 1.08s\n",
      "710:\tlearn: 0.1411718\ttotal: 2.64s\tremaining: 1.07s\n",
      "711:\tlearn: 0.1411440\ttotal: 2.65s\tremaining: 1.07s\n",
      "712:\tlearn: 0.1411189\ttotal: 2.65s\tremaining: 1.07s\n",
      "713:\tlearn: 0.1410404\ttotal: 2.65s\tremaining: 1.06s\n",
      "714:\tlearn: 0.1409462\ttotal: 2.65s\tremaining: 1.06s\n",
      "715:\tlearn: 0.1409220\ttotal: 2.66s\tremaining: 1.05s\n",
      "716:\tlearn: 0.1408581\ttotal: 2.66s\tremaining: 1.05s\n",
      "717:\tlearn: 0.1408337\ttotal: 2.67s\tremaining: 1.05s\n",
      "718:\tlearn: 0.1407394\ttotal: 2.67s\tremaining: 1.04s\n",
      "719:\tlearn: 0.1406823\ttotal: 2.67s\tremaining: 1.04s\n",
      "720:\tlearn: 0.1406030\ttotal: 2.67s\tremaining: 1.03s\n",
      "721:\tlearn: 0.1405601\ttotal: 2.68s\tremaining: 1.03s\n",
      "722:\tlearn: 0.1404595\ttotal: 2.68s\tremaining: 1.03s\n",
      "723:\tlearn: 0.1404138\ttotal: 2.68s\tremaining: 1.02s\n",
      "724:\tlearn: 0.1403463\ttotal: 2.69s\tremaining: 1.02s\n",
      "725:\tlearn: 0.1402595\ttotal: 2.69s\tremaining: 1.01s\n",
      "726:\tlearn: 0.1401539\ttotal: 2.69s\tremaining: 1.01s\n",
      "727:\tlearn: 0.1401490\ttotal: 2.69s\tremaining: 1.01s\n",
      "728:\tlearn: 0.1401059\ttotal: 2.7s\tremaining: 1s\n",
      "729:\tlearn: 0.1400950\ttotal: 2.7s\tremaining: 999ms\n",
      "730:\tlearn: 0.1399890\ttotal: 2.7s\tremaining: 995ms\n",
      "731:\tlearn: 0.1398582\ttotal: 2.71s\tremaining: 991ms\n",
      "732:\tlearn: 0.1397609\ttotal: 2.71s\tremaining: 987ms\n",
      "733:\tlearn: 0.1396986\ttotal: 2.71s\tremaining: 983ms\n",
      "734:\tlearn: 0.1396006\ttotal: 2.72s\tremaining: 979ms\n",
      "735:\tlearn: 0.1394671\ttotal: 2.72s\tremaining: 976ms\n",
      "736:\tlearn: 0.1393473\ttotal: 2.72s\tremaining: 972ms\n",
      "737:\tlearn: 0.1393236\ttotal: 2.73s\tremaining: 968ms\n",
      "738:\tlearn: 0.1392541\ttotal: 2.73s\tremaining: 964ms\n",
      "739:\tlearn: 0.1391864\ttotal: 2.73s\tremaining: 960ms\n",
      "740:\tlearn: 0.1390112\ttotal: 2.74s\tremaining: 957ms\n",
      "741:\tlearn: 0.1389242\ttotal: 2.74s\tremaining: 953ms\n",
      "742:\tlearn: 0.1388815\ttotal: 2.74s\tremaining: 949ms\n",
      "743:\tlearn: 0.1388338\ttotal: 2.75s\tremaining: 945ms\n",
      "744:\tlearn: 0.1387620\ttotal: 2.75s\tremaining: 941ms\n",
      "745:\tlearn: 0.1386969\ttotal: 2.75s\tremaining: 937ms\n",
      "746:\tlearn: 0.1386745\ttotal: 2.75s\tremaining: 933ms\n",
      "747:\tlearn: 0.1385707\ttotal: 2.76s\tremaining: 929ms\n",
      "748:\tlearn: 0.1385005\ttotal: 2.76s\tremaining: 925ms\n",
      "749:\tlearn: 0.1384420\ttotal: 2.76s\tremaining: 921ms\n",
      "750:\tlearn: 0.1383486\ttotal: 2.77s\tremaining: 918ms\n",
      "751:\tlearn: 0.1383009\ttotal: 2.77s\tremaining: 914ms\n",
      "752:\tlearn: 0.1382013\ttotal: 2.77s\tremaining: 910ms\n",
      "753:\tlearn: 0.1381614\ttotal: 2.78s\tremaining: 906ms\n",
      "754:\tlearn: 0.1380962\ttotal: 2.78s\tremaining: 902ms\n",
      "755:\tlearn: 0.1380249\ttotal: 2.78s\tremaining: 898ms\n",
      "756:\tlearn: 0.1379550\ttotal: 2.79s\tremaining: 895ms\n",
      "757:\tlearn: 0.1378855\ttotal: 2.79s\tremaining: 891ms\n",
      "758:\tlearn: 0.1377218\ttotal: 2.79s\tremaining: 887ms\n",
      "759:\tlearn: 0.1376250\ttotal: 2.8s\tremaining: 883ms\n",
      "760:\tlearn: 0.1375578\ttotal: 2.8s\tremaining: 879ms\n",
      "761:\tlearn: 0.1374938\ttotal: 2.8s\tremaining: 875ms\n",
      "762:\tlearn: 0.1374204\ttotal: 2.81s\tremaining: 871ms\n",
      "763:\tlearn: 0.1373810\ttotal: 2.81s\tremaining: 868ms\n",
      "764:\tlearn: 0.1372483\ttotal: 2.81s\tremaining: 864ms\n",
      "765:\tlearn: 0.1370617\ttotal: 2.81s\tremaining: 860ms\n",
      "766:\tlearn: 0.1369617\ttotal: 2.82s\tremaining: 856ms\n",
      "767:\tlearn: 0.1368832\ttotal: 2.82s\tremaining: 852ms\n",
      "768:\tlearn: 0.1368171\ttotal: 2.82s\tremaining: 848ms\n",
      "769:\tlearn: 0.1367554\ttotal: 2.83s\tremaining: 844ms\n",
      "770:\tlearn: 0.1366922\ttotal: 2.83s\tremaining: 841ms\n",
      "771:\tlearn: 0.1365954\ttotal: 2.83s\tremaining: 837ms\n",
      "772:\tlearn: 0.1365380\ttotal: 2.84s\tremaining: 833ms\n",
      "773:\tlearn: 0.1364678\ttotal: 2.84s\tremaining: 829ms\n",
      "774:\tlearn: 0.1364385\ttotal: 2.84s\tremaining: 825ms\n",
      "775:\tlearn: 0.1364015\ttotal: 2.85s\tremaining: 822ms\n",
      "776:\tlearn: 0.1363586\ttotal: 2.85s\tremaining: 818ms\n",
      "777:\tlearn: 0.1362905\ttotal: 2.85s\tremaining: 814ms\n",
      "778:\tlearn: 0.1361888\ttotal: 2.85s\tremaining: 810ms\n",
      "779:\tlearn: 0.1361211\ttotal: 2.86s\tremaining: 806ms\n",
      "780:\tlearn: 0.1359829\ttotal: 2.86s\tremaining: 802ms\n",
      "781:\tlearn: 0.1359491\ttotal: 2.86s\tremaining: 798ms\n",
      "782:\tlearn: 0.1358241\ttotal: 2.87s\tremaining: 794ms\n",
      "783:\tlearn: 0.1357217\ttotal: 2.87s\tremaining: 791ms\n",
      "784:\tlearn: 0.1355681\ttotal: 2.87s\tremaining: 787ms\n",
      "785:\tlearn: 0.1354613\ttotal: 2.88s\tremaining: 783ms\n",
      "786:\tlearn: 0.1354587\ttotal: 2.88s\tremaining: 779ms\n",
      "787:\tlearn: 0.1354297\ttotal: 2.88s\tremaining: 775ms\n",
      "788:\tlearn: 0.1353784\ttotal: 2.88s\tremaining: 771ms\n",
      "789:\tlearn: 0.1352704\ttotal: 2.89s\tremaining: 768ms\n",
      "790:\tlearn: 0.1351863\ttotal: 2.89s\tremaining: 764ms\n",
      "791:\tlearn: 0.1351278\ttotal: 2.89s\tremaining: 760ms\n",
      "792:\tlearn: 0.1351003\ttotal: 2.9s\tremaining: 756ms\n",
      "793:\tlearn: 0.1350405\ttotal: 2.9s\tremaining: 753ms\n",
      "794:\tlearn: 0.1349649\ttotal: 2.9s\tremaining: 749ms\n",
      "795:\tlearn: 0.1348970\ttotal: 2.91s\tremaining: 745ms\n",
      "796:\tlearn: 0.1348181\ttotal: 2.91s\tremaining: 742ms\n",
      "797:\tlearn: 0.1346831\ttotal: 2.91s\tremaining: 738ms\n",
      "798:\tlearn: 0.1345821\ttotal: 2.92s\tremaining: 734ms\n",
      "799:\tlearn: 0.1344516\ttotal: 2.92s\tremaining: 730ms\n",
      "800:\tlearn: 0.1344369\ttotal: 2.92s\tremaining: 726ms\n",
      "801:\tlearn: 0.1343320\ttotal: 2.92s\tremaining: 722ms\n",
      "802:\tlearn: 0.1342771\ttotal: 2.93s\tremaining: 718ms\n",
      "803:\tlearn: 0.1342428\ttotal: 2.93s\tremaining: 715ms\n",
      "804:\tlearn: 0.1341921\ttotal: 2.93s\tremaining: 711ms\n",
      "805:\tlearn: 0.1341327\ttotal: 2.94s\tremaining: 707ms\n",
      "806:\tlearn: 0.1340780\ttotal: 2.94s\tremaining: 703ms\n",
      "807:\tlearn: 0.1340093\ttotal: 2.94s\tremaining: 699ms\n",
      "808:\tlearn: 0.1339667\ttotal: 2.95s\tremaining: 696ms\n",
      "809:\tlearn: 0.1339026\ttotal: 2.95s\tremaining: 692ms\n",
      "810:\tlearn: 0.1338689\ttotal: 2.95s\tremaining: 688ms\n",
      "811:\tlearn: 0.1338101\ttotal: 2.96s\tremaining: 685ms\n",
      "812:\tlearn: 0.1337957\ttotal: 2.96s\tremaining: 681ms\n"
     ]
    },
    {
     "name": "stdout",
     "output_type": "stream",
     "text": [
      "813:\tlearn: 0.1337013\ttotal: 2.96s\tremaining: 677ms\n",
      "814:\tlearn: 0.1336557\ttotal: 2.97s\tremaining: 673ms\n",
      "815:\tlearn: 0.1336233\ttotal: 2.97s\tremaining: 670ms\n",
      "816:\tlearn: 0.1335759\ttotal: 2.97s\tremaining: 666ms\n",
      "817:\tlearn: 0.1334932\ttotal: 2.98s\tremaining: 662ms\n",
      "818:\tlearn: 0.1334266\ttotal: 2.98s\tremaining: 658ms\n",
      "819:\tlearn: 0.1333953\ttotal: 2.98s\tremaining: 655ms\n",
      "820:\tlearn: 0.1333563\ttotal: 2.98s\tremaining: 651ms\n",
      "821:\tlearn: 0.1332462\ttotal: 2.99s\tremaining: 647ms\n",
      "822:\tlearn: 0.1331495\ttotal: 2.99s\tremaining: 643ms\n",
      "823:\tlearn: 0.1331469\ttotal: 2.99s\tremaining: 639ms\n",
      "824:\tlearn: 0.1330687\ttotal: 3s\tremaining: 636ms\n",
      "825:\tlearn: 0.1330187\ttotal: 3s\tremaining: 632ms\n",
      "826:\tlearn: 0.1329493\ttotal: 3s\tremaining: 628ms\n",
      "827:\tlearn: 0.1329241\ttotal: 3s\tremaining: 624ms\n",
      "828:\tlearn: 0.1329120\ttotal: 3.01s\tremaining: 621ms\n",
      "829:\tlearn: 0.1327764\ttotal: 3.01s\tremaining: 617ms\n",
      "830:\tlearn: 0.1327202\ttotal: 3.01s\tremaining: 613ms\n",
      "831:\tlearn: 0.1326868\ttotal: 3.02s\tremaining: 609ms\n",
      "832:\tlearn: 0.1326467\ttotal: 3.02s\tremaining: 606ms\n",
      "833:\tlearn: 0.1325503\ttotal: 3.02s\tremaining: 602ms\n",
      "834:\tlearn: 0.1324229\ttotal: 3.03s\tremaining: 598ms\n",
      "835:\tlearn: 0.1323645\ttotal: 3.03s\tremaining: 594ms\n",
      "836:\tlearn: 0.1323028\ttotal: 3.03s\tremaining: 591ms\n",
      "837:\tlearn: 0.1322471\ttotal: 3.04s\tremaining: 587ms\n",
      "838:\tlearn: 0.1321577\ttotal: 3.04s\tremaining: 583ms\n",
      "839:\tlearn: 0.1320669\ttotal: 3.04s\tremaining: 579ms\n",
      "840:\tlearn: 0.1319877\ttotal: 3.04s\tremaining: 576ms\n",
      "841:\tlearn: 0.1319049\ttotal: 3.05s\tremaining: 572ms\n",
      "842:\tlearn: 0.1318319\ttotal: 3.05s\tremaining: 568ms\n",
      "843:\tlearn: 0.1317708\ttotal: 3.05s\tremaining: 564ms\n",
      "844:\tlearn: 0.1317222\ttotal: 3.06s\tremaining: 561ms\n",
      "845:\tlearn: 0.1316848\ttotal: 3.06s\tremaining: 557ms\n",
      "846:\tlearn: 0.1315934\ttotal: 3.06s\tremaining: 553ms\n",
      "847:\tlearn: 0.1315336\ttotal: 3.07s\tremaining: 550ms\n",
      "848:\tlearn: 0.1315190\ttotal: 3.07s\tremaining: 546ms\n",
      "849:\tlearn: 0.1314592\ttotal: 3.07s\tremaining: 542ms\n",
      "850:\tlearn: 0.1313351\ttotal: 3.08s\tremaining: 538ms\n",
      "851:\tlearn: 0.1311945\ttotal: 3.08s\tremaining: 535ms\n",
      "852:\tlearn: 0.1311672\ttotal: 3.08s\tremaining: 531ms\n",
      "853:\tlearn: 0.1311299\ttotal: 3.08s\tremaining: 528ms\n",
      "854:\tlearn: 0.1310707\ttotal: 3.09s\tremaining: 524ms\n",
      "855:\tlearn: 0.1310447\ttotal: 3.09s\tremaining: 520ms\n",
      "856:\tlearn: 0.1310331\ttotal: 3.09s\tremaining: 516ms\n",
      "857:\tlearn: 0.1309593\ttotal: 3.1s\tremaining: 513ms\n",
      "858:\tlearn: 0.1308549\ttotal: 3.1s\tremaining: 509ms\n",
      "859:\tlearn: 0.1307817\ttotal: 3.1s\tremaining: 505ms\n",
      "860:\tlearn: 0.1307122\ttotal: 3.11s\tremaining: 502ms\n",
      "861:\tlearn: 0.1306396\ttotal: 3.11s\tremaining: 498ms\n",
      "862:\tlearn: 0.1305919\ttotal: 3.11s\tremaining: 494ms\n",
      "863:\tlearn: 0.1305670\ttotal: 3.12s\tremaining: 490ms\n",
      "864:\tlearn: 0.1305424\ttotal: 3.12s\tremaining: 487ms\n",
      "865:\tlearn: 0.1304968\ttotal: 3.12s\tremaining: 483ms\n",
      "866:\tlearn: 0.1303596\ttotal: 3.13s\tremaining: 481ms\n",
      "867:\tlearn: 0.1302765\ttotal: 3.14s\tremaining: 478ms\n",
      "868:\tlearn: 0.1302338\ttotal: 3.14s\tremaining: 474ms\n",
      "869:\tlearn: 0.1301671\ttotal: 3.15s\tremaining: 470ms\n",
      "870:\tlearn: 0.1301323\ttotal: 3.15s\tremaining: 467ms\n",
      "871:\tlearn: 0.1300833\ttotal: 3.15s\tremaining: 463ms\n",
      "872:\tlearn: 0.1300625\ttotal: 3.15s\tremaining: 459ms\n",
      "873:\tlearn: 0.1299924\ttotal: 3.16s\tremaining: 455ms\n",
      "874:\tlearn: 0.1299544\ttotal: 3.16s\tremaining: 452ms\n",
      "875:\tlearn: 0.1299430\ttotal: 3.16s\tremaining: 448ms\n",
      "876:\tlearn: 0.1299313\ttotal: 3.17s\tremaining: 444ms\n",
      "877:\tlearn: 0.1298218\ttotal: 3.17s\tremaining: 441ms\n",
      "878:\tlearn: 0.1297446\ttotal: 3.17s\tremaining: 437ms\n",
      "879:\tlearn: 0.1297424\ttotal: 3.17s\tremaining: 433ms\n",
      "880:\tlearn: 0.1296850\ttotal: 3.18s\tremaining: 430ms\n",
      "881:\tlearn: 0.1296131\ttotal: 3.18s\tremaining: 426ms\n",
      "882:\tlearn: 0.1295446\ttotal: 3.19s\tremaining: 422ms\n",
      "883:\tlearn: 0.1295030\ttotal: 3.19s\tremaining: 419ms\n",
      "884:\tlearn: 0.1294651\ttotal: 3.19s\tremaining: 415ms\n",
      "885:\tlearn: 0.1294502\ttotal: 3.19s\tremaining: 411ms\n",
      "886:\tlearn: 0.1294132\ttotal: 3.2s\tremaining: 408ms\n",
      "887:\tlearn: 0.1293597\ttotal: 3.2s\tremaining: 404ms\n",
      "888:\tlearn: 0.1293193\ttotal: 3.2s\tremaining: 400ms\n",
      "889:\tlearn: 0.1292499\ttotal: 3.21s\tremaining: 396ms\n",
      "890:\tlearn: 0.1291726\ttotal: 3.21s\tremaining: 393ms\n",
      "891:\tlearn: 0.1291295\ttotal: 3.21s\tremaining: 389ms\n",
      "892:\tlearn: 0.1290976\ttotal: 3.22s\tremaining: 385ms\n",
      "893:\tlearn: 0.1290953\ttotal: 3.22s\tremaining: 382ms\n",
      "894:\tlearn: 0.1290507\ttotal: 3.22s\tremaining: 378ms\n",
      "895:\tlearn: 0.1290485\ttotal: 3.23s\tremaining: 374ms\n",
      "896:\tlearn: 0.1290345\ttotal: 3.23s\tremaining: 371ms\n",
      "897:\tlearn: 0.1290249\ttotal: 3.23s\tremaining: 367ms\n",
      "898:\tlearn: 0.1289213\ttotal: 3.23s\tremaining: 363ms\n",
      "899:\tlearn: 0.1288620\ttotal: 3.24s\tremaining: 360ms\n",
      "900:\tlearn: 0.1287788\ttotal: 3.24s\tremaining: 356ms\n",
      "901:\tlearn: 0.1287130\ttotal: 3.24s\tremaining: 353ms\n",
      "902:\tlearn: 0.1286024\ttotal: 3.25s\tremaining: 349ms\n",
      "903:\tlearn: 0.1285735\ttotal: 3.25s\tremaining: 345ms\n",
      "904:\tlearn: 0.1285245\ttotal: 3.25s\tremaining: 342ms\n",
      "905:\tlearn: 0.1284328\ttotal: 3.26s\tremaining: 338ms\n",
      "906:\tlearn: 0.1283928\ttotal: 3.26s\tremaining: 334ms\n",
      "907:\tlearn: 0.1283119\ttotal: 3.26s\tremaining: 331ms\n",
      "908:\tlearn: 0.1282165\ttotal: 3.27s\tremaining: 327ms\n",
      "909:\tlearn: 0.1281716\ttotal: 3.27s\tremaining: 323ms\n",
      "910:\tlearn: 0.1281214\ttotal: 3.27s\tremaining: 320ms\n",
      "911:\tlearn: 0.1280755\ttotal: 3.27s\tremaining: 316ms\n",
      "912:\tlearn: 0.1280565\ttotal: 3.28s\tremaining: 312ms\n",
      "913:\tlearn: 0.1280177\ttotal: 3.28s\tremaining: 309ms\n",
      "914:\tlearn: 0.1279704\ttotal: 3.28s\tremaining: 305ms\n",
      "915:\tlearn: 0.1278906\ttotal: 3.29s\tremaining: 301ms\n",
      "916:\tlearn: 0.1278354\ttotal: 3.29s\tremaining: 298ms\n",
      "917:\tlearn: 0.1277945\ttotal: 3.29s\tremaining: 294ms\n",
      "918:\tlearn: 0.1277399\ttotal: 3.3s\tremaining: 291ms\n",
      "919:\tlearn: 0.1276823\ttotal: 3.3s\tremaining: 287ms\n",
      "920:\tlearn: 0.1276099\ttotal: 3.3s\tremaining: 283ms\n",
      "921:\tlearn: 0.1275378\ttotal: 3.31s\tremaining: 280ms\n",
      "922:\tlearn: 0.1274957\ttotal: 3.31s\tremaining: 276ms\n",
      "923:\tlearn: 0.1274238\ttotal: 3.31s\tremaining: 273ms\n",
      "924:\tlearn: 0.1273518\ttotal: 3.32s\tremaining: 269ms\n",
      "925:\tlearn: 0.1273164\ttotal: 3.32s\tremaining: 265ms\n",
      "926:\tlearn: 0.1273142\ttotal: 3.32s\tremaining: 262ms\n",
      "927:\tlearn: 0.1272242\ttotal: 3.33s\tremaining: 258ms\n",
      "928:\tlearn: 0.1271361\ttotal: 3.33s\tremaining: 254ms\n",
      "929:\tlearn: 0.1271043\ttotal: 3.33s\tremaining: 251ms\n",
      "930:\tlearn: 0.1270336\ttotal: 3.33s\tremaining: 247ms\n",
      "931:\tlearn: 0.1269750\ttotal: 3.34s\tremaining: 243ms\n",
      "932:\tlearn: 0.1268263\ttotal: 3.34s\tremaining: 240ms\n",
      "933:\tlearn: 0.1267466\ttotal: 3.34s\tremaining: 236ms\n",
      "934:\tlearn: 0.1266885\ttotal: 3.35s\tremaining: 233ms\n",
      "935:\tlearn: 0.1266664\ttotal: 3.35s\tremaining: 229ms\n",
      "936:\tlearn: 0.1266214\ttotal: 3.35s\tremaining: 226ms\n",
      "937:\tlearn: 0.1265875\ttotal: 3.36s\tremaining: 222ms\n",
      "938:\tlearn: 0.1265848\ttotal: 3.36s\tremaining: 218ms\n",
      "939:\tlearn: 0.1265302\ttotal: 3.36s\tremaining: 215ms\n",
      "940:\tlearn: 0.1264862\ttotal: 3.37s\tremaining: 211ms\n",
      "941:\tlearn: 0.1263768\ttotal: 3.37s\tremaining: 207ms\n",
      "942:\tlearn: 0.1263511\ttotal: 3.37s\tremaining: 204ms\n",
      "943:\tlearn: 0.1263210\ttotal: 3.37s\tremaining: 200ms\n",
      "944:\tlearn: 0.1262573\ttotal: 3.38s\tremaining: 197ms\n",
      "945:\tlearn: 0.1262222\ttotal: 3.38s\tremaining: 193ms\n",
      "946:\tlearn: 0.1261744\ttotal: 3.38s\tremaining: 189ms\n",
      "947:\tlearn: 0.1260548\ttotal: 3.39s\tremaining: 186ms\n",
      "948:\tlearn: 0.1260119\ttotal: 3.39s\tremaining: 182ms\n",
      "949:\tlearn: 0.1259608\ttotal: 3.39s\tremaining: 179ms\n",
      "950:\tlearn: 0.1258877\ttotal: 3.4s\tremaining: 175ms\n",
      "951:\tlearn: 0.1258125\ttotal: 3.4s\tremaining: 171ms\n",
      "952:\tlearn: 0.1257634\ttotal: 3.4s\tremaining: 168ms\n",
      "953:\tlearn: 0.1257180\ttotal: 3.4s\tremaining: 164ms\n",
      "954:\tlearn: 0.1256703\ttotal: 3.41s\tremaining: 161ms\n",
      "955:\tlearn: 0.1256260\ttotal: 3.41s\tremaining: 157ms\n",
      "956:\tlearn: 0.1256067\ttotal: 3.41s\tremaining: 153ms\n",
      "957:\tlearn: 0.1255110\ttotal: 3.42s\tremaining: 150ms\n",
      "958:\tlearn: 0.1254623\ttotal: 3.42s\tremaining: 146ms\n",
      "959:\tlearn: 0.1253806\ttotal: 3.42s\tremaining: 143ms\n",
      "960:\tlearn: 0.1253498\ttotal: 3.43s\tremaining: 139ms\n",
      "961:\tlearn: 0.1253329\ttotal: 3.43s\tremaining: 136ms\n",
      "962:\tlearn: 0.1253078\ttotal: 3.43s\tremaining: 132ms\n",
      "963:\tlearn: 0.1252637\ttotal: 3.44s\tremaining: 128ms\n",
      "964:\tlearn: 0.1251874\ttotal: 3.44s\tremaining: 125ms\n",
      "965:\tlearn: 0.1251341\ttotal: 3.44s\tremaining: 121ms\n",
      "966:\tlearn: 0.1251161\ttotal: 3.45s\tremaining: 118ms\n",
      "967:\tlearn: 0.1250741\ttotal: 3.45s\tremaining: 114ms\n",
      "968:\tlearn: 0.1250552\ttotal: 3.45s\tremaining: 110ms\n",
      "969:\tlearn: 0.1249477\ttotal: 3.45s\tremaining: 107ms\n",
      "970:\tlearn: 0.1249021\ttotal: 3.46s\tremaining: 103ms\n",
      "971:\tlearn: 0.1248759\ttotal: 3.46s\tremaining: 99.7ms\n"
     ]
    },
    {
     "name": "stdout",
     "output_type": "stream",
     "text": [
      "972:\tlearn: 0.1248429\ttotal: 3.46s\tremaining: 96.1ms\n",
      "973:\tlearn: 0.1247732\ttotal: 3.47s\tremaining: 92.6ms\n",
      "974:\tlearn: 0.1247009\ttotal: 3.47s\tremaining: 89ms\n",
      "975:\tlearn: 0.1246565\ttotal: 3.47s\tremaining: 85.4ms\n",
      "976:\tlearn: 0.1245815\ttotal: 3.48s\tremaining: 81.9ms\n",
      "977:\tlearn: 0.1245505\ttotal: 3.48s\tremaining: 78.3ms\n",
      "978:\tlearn: 0.1245185\ttotal: 3.48s\tremaining: 74.7ms\n",
      "979:\tlearn: 0.1244358\ttotal: 3.49s\tremaining: 71.2ms\n",
      "980:\tlearn: 0.1243348\ttotal: 3.49s\tremaining: 67.6ms\n",
      "981:\tlearn: 0.1242109\ttotal: 3.49s\tremaining: 64ms\n",
      "982:\tlearn: 0.1241602\ttotal: 3.5s\tremaining: 60.5ms\n",
      "983:\tlearn: 0.1241178\ttotal: 3.5s\tremaining: 56.9ms\n",
      "984:\tlearn: 0.1240385\ttotal: 3.5s\tremaining: 53.3ms\n",
      "985:\tlearn: 0.1239775\ttotal: 3.5s\tremaining: 49.8ms\n",
      "986:\tlearn: 0.1239414\ttotal: 3.51s\tremaining: 46.2ms\n",
      "987:\tlearn: 0.1238705\ttotal: 3.51s\tremaining: 42.6ms\n",
      "988:\tlearn: 0.1238389\ttotal: 3.51s\tremaining: 39.1ms\n",
      "989:\tlearn: 0.1238030\ttotal: 3.52s\tremaining: 35.5ms\n",
      "990:\tlearn: 0.1237579\ttotal: 3.52s\tremaining: 32ms\n",
      "991:\tlearn: 0.1237271\ttotal: 3.52s\tremaining: 28.4ms\n",
      "992:\tlearn: 0.1236566\ttotal: 3.53s\tremaining: 24.9ms\n",
      "993:\tlearn: 0.1236184\ttotal: 3.53s\tremaining: 21.3ms\n",
      "994:\tlearn: 0.1235916\ttotal: 3.53s\tremaining: 17.8ms\n",
      "995:\tlearn: 0.1235517\ttotal: 3.54s\tremaining: 14.2ms\n",
      "996:\tlearn: 0.1234993\ttotal: 3.54s\tremaining: 10.7ms\n",
      "997:\tlearn: 0.1234655\ttotal: 3.54s\tremaining: 7.1ms\n",
      "998:\tlearn: 0.1234399\ttotal: 3.55s\tremaining: 3.55ms\n",
      "999:\tlearn: 0.1233966\ttotal: 3.55s\tremaining: 0us\n"
     ]
    },
    {
     "data": {
      "text/plain": [
       "<catboost.core.CatBoostRegressor at 0x1dfdf2d43d0>"
      ]
     },
     "execution_count": 121,
     "metadata": {},
     "output_type": "execute_result"
    }
   ],
   "source": [
    "model = CatBoostRegressor()\n",
    "model.fit(x_train_20, y_train_20)"
   ]
  },
  {
   "cell_type": "code",
   "execution_count": 122,
   "id": "d76be8b6",
   "metadata": {},
   "outputs": [
    {
     "name": "stdout",
     "output_type": "stream",
     "text": [
      "0.06987298682579153\n"
     ]
    }
   ],
   "source": [
    "y_pred_20 = model.predict(x_test_20)\n",
    "# Calculation of Mean Squared Error (MSE)\n",
    "mse = mean_squared_error(y_test_20, y_pred_20)\n",
    "print(mse)"
   ]
  },
  {
   "cell_type": "code",
   "execution_count": 123,
   "id": "f663aab7",
   "metadata": {},
   "outputs": [
    {
     "name": "stdout",
     "output_type": "stream",
     "text": [
      "0.5263157894736842\n"
     ]
    }
   ],
   "source": [
    "acc = accuracy_threshold(y_test_20, y_pred_20, 0.1)\n",
    "print(acc)"
   ]
  },
  {
   "cell_type": "code",
   "execution_count": 124,
   "id": "71f5ba51",
   "metadata": {},
   "outputs": [
    {
     "name": "stdout",
     "output_type": "stream",
     "text": [
      "Median Absolute Error:\n",
      "\n",
      "0.08780317477186372\n"
     ]
    }
   ],
   "source": [
    "median_se = np.square(np.subtract(y_test_20, y_pred_20)).median() \n",
    " \n",
    "med = math.sqrt(median_se)\n",
    "print(\"Median Absolute Error:\\n\")\n",
    "print(med)"
   ]
  },
  {
   "cell_type": "code",
   "execution_count": 125,
   "id": "0df8593f",
   "metadata": {},
   "outputs": [
    {
     "name": "stdout",
     "output_type": "stream",
     "text": [
      "Root Mean Square Error:\n",
      "\n",
      "0.26433498978718545\n"
     ]
    }
   ],
   "source": [
    "mean = np.square(np.subtract(y_test_20, y_pred_20)).mean() \n",
    " \n",
    "mean = math.sqrt(mean)\n",
    "print(\"Root Mean Square Error:\\n\")\n",
    "print(mean)"
   ]
  },
  {
   "cell_type": "code",
   "execution_count": 126,
   "id": "806840da",
   "metadata": {},
   "outputs": [
    {
     "name": "stdout",
     "output_type": "stream",
     "text": [
      "MAPE for CatBoost 2020 is: 0.012957074906781186\n"
     ]
    }
   ],
   "source": [
    "mape = mean_absolute_percentage_error(y_test_20, y_pred_20)\n",
    "print(\"MAPE for CatBoost 2020 is: \" + str(mape))"
   ]
  },
  {
   "cell_type": "code",
   "execution_count": 127,
   "id": "0d585c1e",
   "metadata": {},
   "outputs": [],
   "source": [
    "cnames=['Algorithm', 'Year', 'RMSE', 'MSE', 'MEDAE', 'Accuracy', 'MAPE']\n",
    "df2 = pd.DataFrame(columns=cnames)\n",
    "\n",
    "df2 = df2.append({'Algorithm': 'CatBoost',\n",
    "            'Year': 2020,\n",
    "           'RMSE': mean,\n",
    "           'MSE': mse,\n",
    "           'MEDAE': med,\n",
    "           'Accuracy': acc,\n",
    "           'MAPE': mape       \n",
    "          }, ignore_index=True)"
   ]
  },
  {
   "cell_type": "markdown",
   "id": "9e1bd141",
   "metadata": {},
   "source": [
    "### Bayesian Ridge"
   ]
  },
  {
   "cell_type": "markdown",
   "id": "1421f212",
   "metadata": {},
   "source": [
    "#### 2021"
   ]
  },
  {
   "cell_type": "code",
   "execution_count": 128,
   "id": "35158c1f",
   "metadata": {},
   "outputs": [],
   "source": [
    "from sklearn.linear_model import BayesianRidge, LinearRegression"
   ]
  },
  {
   "cell_type": "code",
   "execution_count": 129,
   "id": "00491334",
   "metadata": {},
   "outputs": [
    {
     "data": {
      "text/plain": [
       "BayesianRidge()"
      ]
     },
     "execution_count": 129,
     "metadata": {},
     "output_type": "execute_result"
    }
   ],
   "source": [
    "clf = BayesianRidge()\n",
    "clf.fit(x_train_21, y_train_21)"
   ]
  },
  {
   "cell_type": "code",
   "execution_count": 130,
   "id": "1380ed38",
   "metadata": {},
   "outputs": [
    {
     "name": "stdout",
     "output_type": "stream",
     "text": [
      "0.09331216467214079\n"
     ]
    }
   ],
   "source": [
    "y_pred_21 = clf.predict(x_test_21)\n",
    "# Calculation of Mean Squared Error (MSE)\n",
    "mse = mean_squared_error(y_test_21, y_pred_21)\n",
    "print(mse)"
   ]
  },
  {
   "cell_type": "code",
   "execution_count": 131,
   "id": "3a48b954",
   "metadata": {},
   "outputs": [
    {
     "name": "stdout",
     "output_type": "stream",
     "text": [
      "0.47377326565143824\n"
     ]
    }
   ],
   "source": [
    "acc = accuracy_threshold(y_test_21, y_pred_21, 0.1)\n",
    "print(acc)"
   ]
  },
  {
   "cell_type": "code",
   "execution_count": 132,
   "id": "e38bd984",
   "metadata": {},
   "outputs": [
    {
     "name": "stdout",
     "output_type": "stream",
     "text": [
      "Median Absolute Error:\n",
      "\n",
      "0.10550579904085922\n"
     ]
    }
   ],
   "source": [
    "median_se = np.square(np.subtract(y_test_21, y_pred_21)).median() \n",
    " \n",
    "med = math.sqrt(median_se)\n",
    "print(\"Median Absolute Error:\\n\")\n",
    "print(med)"
   ]
  },
  {
   "cell_type": "code",
   "execution_count": 133,
   "id": "5e38e2ed",
   "metadata": {},
   "outputs": [
    {
     "name": "stdout",
     "output_type": "stream",
     "text": [
      "Root Mean Square Error:\n",
      "\n",
      "0.30547039901132944\n"
     ]
    }
   ],
   "source": [
    "mean = np.square(np.subtract(y_test_21, y_pred_21)).mean() \n",
    " \n",
    "mean = math.sqrt(mean)\n",
    "print(\"Root Mean Square Error:\\n\")\n",
    "print(mean)"
   ]
  },
  {
   "cell_type": "code",
   "execution_count": 134,
   "id": "63f02c5c",
   "metadata": {},
   "outputs": [
    {
     "name": "stdout",
     "output_type": "stream",
     "text": [
      "MAPE for BayesianRidge 2021 is: 0.014756565752005934\n"
     ]
    }
   ],
   "source": [
    "mape = mean_absolute_percentage_error(y_test_21, y_pred_21)\n",
    "print(\"MAPE for BayesianRidge 2021 is: \" + str(mape))"
   ]
  },
  {
   "cell_type": "code",
   "execution_count": 135,
   "id": "9c1019b2",
   "metadata": {},
   "outputs": [],
   "source": [
    "cnames=['Algorithm', 'Year', 'RMSE', 'MSE', 'MEDAE', 'Accuracy', 'MAPE']\n",
    "df1 = pd.DataFrame(columns=cnames)\n",
    "\n",
    "df1 = df1.append({'Algorithm': 'Bayesian',\n",
    "            'Year': 2021,\n",
    "           'RMSE': mean,\n",
    "           'MSE': mse,\n",
    "           'MEDAE': med,\n",
    "           'Accuracy': acc,\n",
    "           'MAPE': mape       \n",
    "          }, ignore_index=True)"
   ]
  },
  {
   "cell_type": "markdown",
   "id": "bd4b02bb",
   "metadata": {},
   "source": [
    "#### 2020"
   ]
  },
  {
   "cell_type": "code",
   "execution_count": 136,
   "id": "583e22dc",
   "metadata": {},
   "outputs": [
    {
     "data": {
      "text/plain": [
       "BayesianRidge()"
      ]
     },
     "execution_count": 136,
     "metadata": {},
     "output_type": "execute_result"
    }
   ],
   "source": [
    "clf = BayesianRidge()\n",
    "clf.fit(x_train_20, y_train_20)"
   ]
  },
  {
   "cell_type": "code",
   "execution_count": 137,
   "id": "8db9cb3e",
   "metadata": {},
   "outputs": [
    {
     "name": "stdout",
     "output_type": "stream",
     "text": [
      "0.06996643217540555\n"
     ]
    }
   ],
   "source": [
    "y_pred_20 = clf.predict(x_test_20)\n",
    "# Calculation of Mean Squared Error (MSE)\n",
    "mse = mean_squared_error(y_test_20, y_pred_20)\n",
    "print(mse)"
   ]
  },
  {
   "cell_type": "code",
   "execution_count": 138,
   "id": "d52ba61f",
   "metadata": {},
   "outputs": [
    {
     "name": "stdout",
     "output_type": "stream",
     "text": [
      "0.4258373205741627\n"
     ]
    }
   ],
   "source": [
    "acc = accuracy_threshold(y_test_20, y_pred_20, 0.1)\n",
    "print(acc)"
   ]
  },
  {
   "cell_type": "code",
   "execution_count": 139,
   "id": "d4500d2d",
   "metadata": {},
   "outputs": [
    {
     "name": "stdout",
     "output_type": "stream",
     "text": [
      "Median Absolute Error:\n",
      "\n",
      "0.13307828582210668\n"
     ]
    }
   ],
   "source": [
    "median_se = np.square(np.subtract(y_test_20, y_pred_20)).median() \n",
    " \n",
    "med = math.sqrt(median_se)\n",
    "print(\"Median Absolute Error:\\n\")\n",
    "print(med)"
   ]
  },
  {
   "cell_type": "code",
   "execution_count": 140,
   "id": "ce5624d8",
   "metadata": {},
   "outputs": [
    {
     "name": "stdout",
     "output_type": "stream",
     "text": [
      "Root Mean Square Error:\n",
      "\n",
      "0.2645116862737929\n"
     ]
    }
   ],
   "source": [
    "mean = np.square(np.subtract(y_test_20, y_pred_20)).mean() \n",
    " \n",
    "mean = math.sqrt(mean)\n",
    "print(\"Root Mean Square Error:\\n\")\n",
    "print(mean)"
   ]
  },
  {
   "cell_type": "code",
   "execution_count": 141,
   "id": "47802a1e",
   "metadata": {},
   "outputs": [
    {
     "name": "stdout",
     "output_type": "stream",
     "text": [
      "MAPE for BayesianRidge 2021 is: 0.014118274876478034\n"
     ]
    }
   ],
   "source": [
    "mape = mean_absolute_percentage_error(y_test_20, y_pred_20)\n",
    "print(\"MAPE for BayesianRidge 2021 is: \" + str(mape))"
   ]
  },
  {
   "cell_type": "code",
   "execution_count": 142,
   "id": "8c6caf77",
   "metadata": {},
   "outputs": [],
   "source": [
    "cnames=['Algorithm', 'Year', 'RMSE', 'MSE', 'MEDAE', 'Accuracy', 'MAPE']\n",
    "df = pd.DataFrame(columns=cnames)\n",
    "\n",
    "df = df.append({'Algorithm': 'Bayesian',\n",
    "           'Year': 2020,\n",
    "           'RMSE': mean,\n",
    "           'MSE': mse,\n",
    "           'MEDAE': med,\n",
    "           'Accuracy': acc,\n",
    "           'MAPE': mape     \n",
    "          }, ignore_index=True)"
   ]
  },
  {
   "cell_type": "code",
   "execution_count": 143,
   "id": "001ed65f",
   "metadata": {},
   "outputs": [],
   "source": [
    "vis = pd.concat([df, df1, df2, df3, df4, df5, df6, df7, df8, df9, df10, df11], ignore_index=True)"
   ]
  },
  {
   "cell_type": "markdown",
   "id": "ebe84e60",
   "metadata": {},
   "source": [
    "## Let's test on more years of data now\n",
    "### 2019"
   ]
  },
  {
   "cell_type": "code",
   "execution_count": 144,
   "id": "a28e082d",
   "metadata": {},
   "outputs": [],
   "source": [
    "specific19 = irl[irl['Year'] > 2015]"
   ]
  },
  {
   "cell_type": "code",
   "execution_count": 145,
   "id": "8f1319f8",
   "metadata": {},
   "outputs": [],
   "source": [
    "test_19 = specific19[specific19['Year'] == 2019]\n",
    "train_19 = specific19[specific19['Year'] < 2019]\n",
    "\n",
    "#train_19 = train_19.sample(n = 80000)\n",
    "#test_19 = test_19.sample(n = 20000)"
   ]
  },
  {
   "cell_type": "code",
   "execution_count": 146,
   "id": "8417a368",
   "metadata": {},
   "outputs": [],
   "source": [
    "x_train_19 = train_19.loc[:, train_19.columns != 'LogPrice (€)']\n",
    "y_train_19 = train_19['LogPrice (€)']\n",
    "x_test_19 = test_19.loc[:, test_19.columns != 'LogPrice (€)']\n",
    "y_test_19 = test_19['LogPrice (€)']"
   ]
  },
  {
   "cell_type": "code",
   "execution_count": 147,
   "id": "e8a9594b",
   "metadata": {},
   "outputs": [],
   "source": [
    "#x_train_19.drop(columns=['Year'], inplace = True)\n",
    "#x_test_19.drop(columns=['Year'], inplace = True)"
   ]
  },
  {
   "cell_type": "markdown",
   "id": "c3a2cce4",
   "metadata": {},
   "source": [
    "#### AutoML"
   ]
  },
  {
   "cell_type": "code",
   "execution_count": 148,
   "id": "4828a079",
   "metadata": {},
   "outputs": [
    {
     "name": "stdout",
     "output_type": "stream",
     "text": [
      "AutoML directory: AutoML_4\n",
      "The task is regression with evaluation metric rmse\n",
      "AutoML will use algorithms: ['Baseline', 'Linear', 'Decision Tree', 'Random Forest', 'Xgboost', 'Neural Network']\n",
      "AutoML will ensemble available models\n",
      "AutoML steps: ['simple_algorithms', 'default_algorithms', 'ensemble']\n",
      "* Step simple_algorithms will try to check up to 3 models\n",
      "1_Baseline rmse 0.48067 trained in 1.2 seconds\n",
      "2_DecisionTree rmse 0.275411 trained in 5.26 seconds\n",
      "3_Linear rmse 0.27897 trained in 4.14 seconds\n",
      "* Step default_algorithms will try to check up to 3 models\n",
      "4_Default_Xgboost rmse 0.251506 trained in 5.84 seconds\n",
      "5_Default_NeuralNetwork rmse 0.279234 trained in 1.94 seconds\n",
      "6_Default_RandomForest rmse 0.252988 trained in 9.9 seconds\n",
      "* Step ensemble will try to check up to 1 model\n",
      "Ensemble rmse 0.245583 trained in 1.28 seconds\n",
      "AutoML fit time: 44.38 seconds\n",
      "AutoML best model: Ensemble\n"
     ]
    },
    {
     "data": {
      "text/plain": [
       "AutoML(explain_level=2, total_time_limit=300)"
      ]
     },
     "execution_count": 148,
     "metadata": {},
     "output_type": "execute_result"
    }
   ],
   "source": [
    "automl = AutoML(total_time_limit = 5 * 60, explain_level = 2)\n",
    "automl.fit(x_train_19, y_train_19)"
   ]
  },
  {
   "cell_type": "code",
   "execution_count": 149,
   "id": "b4537cbc",
   "metadata": {},
   "outputs": [
    {
     "name": "stdout",
     "output_type": "stream",
     "text": [
      "MSE for AutoML 2019 is: 0.046949677958873004\n"
     ]
    }
   ],
   "source": [
    "y_pred_19 = automl.predict(x_test_19)\n",
    "# Calculation of Mean Squared Error (MSE)\n",
    "mse = mean_squared_error(y_test_19, y_pred_19)\n",
    "print('MSE for AutoML 2019 is: ' + str(mse))"
   ]
  },
  {
   "cell_type": "code",
   "execution_count": 150,
   "id": "f339b06f",
   "metadata": {},
   "outputs": [
    {
     "name": "stdout",
     "output_type": "stream",
     "text": [
      "Accuracy of properties at +- 10% of actual prices is 0.5414572864321608\n"
     ]
    }
   ],
   "source": [
    "acc = accuracy_threshold(y_test_19, y_pred_19, 0.1)\n",
    "print('Accuracy of properties at +- 10% of actual prices is ' + str(acc))"
   ]
  },
  {
   "cell_type": "code",
   "execution_count": 151,
   "id": "c4efa50f",
   "metadata": {},
   "outputs": [
    {
     "name": "stdout",
     "output_type": "stream",
     "text": [
      "RMSE for AutoML 2019 is: 0.2166787436710694\n"
     ]
    }
   ],
   "source": [
    "rmse = mean_squared_error(y_test_19, y_pred_19, squared=False)\n",
    "print('RMSE for AutoML 2019 is: ' + str(rmse))"
   ]
  },
  {
   "cell_type": "code",
   "execution_count": 152,
   "id": "27785851",
   "metadata": {},
   "outputs": [
    {
     "name": "stdout",
     "output_type": "stream",
     "text": [
      "Median Absolute Error:\n",
      "\n",
      "0.09240440774768745\n"
     ]
    }
   ],
   "source": [
    "median_se = np.square(np.subtract(y_test_19, y_pred_19)).median() \n",
    " \n",
    "med = math.sqrt(median_se)\n",
    "print(\"Median Absolute Error:\\n\")\n",
    "print(med)"
   ]
  },
  {
   "cell_type": "code",
   "execution_count": 153,
   "id": "6f9d464d",
   "metadata": {},
   "outputs": [
    {
     "name": "stdout",
     "output_type": "stream",
     "text": [
      "MAPE for AutoML 2019 is: 0.011244264264091617\n"
     ]
    }
   ],
   "source": [
    "mape = mean_absolute_percentage_error(y_test_19, y_pred_19)\n",
    "print(\"MAPE for AutoML 2019 is: \" + str(mape))"
   ]
  },
  {
   "cell_type": "code",
   "execution_count": 154,
   "id": "8721e6a7",
   "metadata": {},
   "outputs": [],
   "source": [
    "cnames = ['Algorithm', 'Year', 'RMSE', 'MSE', 'MEDAE', 'Accuracy', 'MAPE']\n",
    "df12 = pd.DataFrame(columns = cnames)\n",
    "\n",
    "df12 = df12.append({'Algorithm': 'AutoML',\n",
    "           'Year': 2019,\n",
    "           'RMSE': rmse,\n",
    "           'MSE': mse,\n",
    "           'MEDAE': med,\n",
    "           'Accuracy': acc,\n",
    "           'MAPE': mape         \n",
    "          }, ignore_index = True)"
   ]
  },
  {
   "cell_type": "code",
   "execution_count": 155,
   "id": "3d0997f5",
   "metadata": {},
   "outputs": [],
   "source": [
    "#cnames = ['Actual', 'Predicted']\n",
    "#dfreal3 = pd.DataFrame(columns = cnames)\n",
    "dfreal3 = pd.DataFrame(y_test_19.values)\n",
    "dfpred3 = pd.DataFrame(y_pred_19)\n",
    "#dfreal3 = pd.concat([z1, z2], ignore_index=True)"
   ]
  },
  {
   "cell_type": "markdown",
   "id": "ca2efb79",
   "metadata": {},
   "source": [
    "### MLR"
   ]
  },
  {
   "cell_type": "code",
   "execution_count": 156,
   "id": "275ddaff",
   "metadata": {},
   "outputs": [
    {
     "name": "stdout",
     "output_type": "stream",
     "text": [
      "MSE for MLR 2019 is: 0.0556341324314192\n"
     ]
    }
   ],
   "source": [
    "lm = linear_model.LinearRegression()\n",
    "lm.fit(x_train_19, y_train_19) # fitting the model\n",
    "y_pred_19 = lm.predict(x_test_19)\n",
    "# Calculation of Mean Squared Error (MSE)\n",
    "mse = mean_squared_error(y_test_19, y_pred_19)\n",
    "print('MSE for MLR 2019 is: ' + str(mse))"
   ]
  },
  {
   "cell_type": "code",
   "execution_count": 157,
   "id": "7b81a829",
   "metadata": {},
   "outputs": [
    {
     "name": "stdout",
     "output_type": "stream",
     "text": [
      "RMSE for MLR 2019 is: 0.2358688882227141\n"
     ]
    }
   ],
   "source": [
    "rmse = mean_squared_error(y_test_19, y_pred_19, squared = False)\n",
    "print('RMSE for MLR 2019 is: ' + str(rmse))"
   ]
  },
  {
   "cell_type": "code",
   "execution_count": 158,
   "id": "667a1d99",
   "metadata": {},
   "outputs": [
    {
     "name": "stdout",
     "output_type": "stream",
     "text": [
      "Median Absolute Error:\n",
      "\n",
      "0.1378710353082416\n"
     ]
    }
   ],
   "source": [
    "median_se = np.square(np.subtract(y_test_19, y_pred_19)).median() \n",
    " \n",
    "med = math.sqrt(median_se)\n",
    "print(\"Median Absolute Error:\\n\")\n",
    "print(med)"
   ]
  },
  {
   "cell_type": "code",
   "execution_count": 159,
   "id": "7677f5ef",
   "metadata": {},
   "outputs": [
    {
     "name": "stdout",
     "output_type": "stream",
     "text": [
      "Accuracy of properties at +- 10% of actual prices is 0.4020100502512563\n"
     ]
    }
   ],
   "source": [
    "acc = accuracy_threshold(y_test_19, y_pred_19, 0.1)\n",
    "print('Accuracy of properties at +- 10% of actual prices is ' + str(acc))"
   ]
  },
  {
   "cell_type": "code",
   "execution_count": 160,
   "id": "bf56c4b5",
   "metadata": {},
   "outputs": [
    {
     "name": "stdout",
     "output_type": "stream",
     "text": [
      "MAPE for MLR 2021 is: 0.013546080575402224\n"
     ]
    }
   ],
   "source": [
    "mape = mean_absolute_percentage_error(y_test_19, y_pred_19)\n",
    "print(\"MAPE for MLR 2021 is: \" + str(mape))"
   ]
  },
  {
   "cell_type": "code",
   "execution_count": 161,
   "id": "73c874fe",
   "metadata": {},
   "outputs": [],
   "source": [
    "cnames = ['Algorithm', 'Year', 'RMSE', 'MSE', 'MEDAE', 'Accuracy', 'MAPE']\n",
    "df13 = pd.DataFrame(columns = cnames)\n",
    "\n",
    "df13 = df13.append({'Algorithm': 'MLR',\n",
    "           'Year': 2019,\n",
    "           'RMSE': rmse,\n",
    "           'MSE': mse,\n",
    "           'MEDAE': med,\n",
    "           'Accuracy': acc,\n",
    "           'MAPE': mape         \n",
    "          }, ignore_index = True)"
   ]
  },
  {
   "cell_type": "markdown",
   "id": "7d2dfd92",
   "metadata": {},
   "source": [
    "### AdaBoost"
   ]
  },
  {
   "cell_type": "code",
   "execution_count": 162,
   "id": "38c87d78",
   "metadata": {},
   "outputs": [
    {
     "name": "stdout",
     "output_type": "stream",
     "text": [
      "MSE for AdaBoost 2019 is: 0.06838124693380575\n"
     ]
    }
   ],
   "source": [
    "model = AdaBoostRegressor()\n",
    "model.fit(x_train_19, y_train_19)\n",
    "y_pred_19 = model.predict(x_test_19)\n",
    "# Calculation of Mean Squared Error (MSE)\n",
    "mse = mean_squared_error(y_test_19, y_pred_19)\n",
    "print('MSE for AdaBoost 2019 is: ' + str(mse))"
   ]
  },
  {
   "cell_type": "code",
   "execution_count": 163,
   "id": "74084674",
   "metadata": {},
   "outputs": [
    {
     "name": "stdout",
     "output_type": "stream",
     "text": [
      "RMSE for MLR 2019 is: 0.26149808208437353\n"
     ]
    }
   ],
   "source": [
    "rmse = mean_squared_error(y_test_19, y_pred_19, squared = False)\n",
    "print('RMSE for MLR 2019 is: ' + str(rmse))"
   ]
  },
  {
   "cell_type": "code",
   "execution_count": 164,
   "id": "1ad6d4b4",
   "metadata": {},
   "outputs": [
    {
     "name": "stdout",
     "output_type": "stream",
     "text": [
      "Median Absolute Error:\n",
      "\n",
      "0.11233698491614241\n"
     ]
    }
   ],
   "source": [
    "median_se = np.square(np.subtract(y_test_19, y_pred_19)).median() \n",
    " \n",
    "med = math.sqrt(median_se)\n",
    "print(\"Median Absolute Error:\\n\")\n",
    "print(med)"
   ]
  },
  {
   "cell_type": "code",
   "execution_count": 165,
   "id": "8597e974",
   "metadata": {},
   "outputs": [
    {
     "name": "stdout",
     "output_type": "stream",
     "text": [
      "Accuracy of properties at +- 10% of actual prices is 0.4635678391959799\n"
     ]
    }
   ],
   "source": [
    "acc = accuracy_threshold(y_test_19, y_pred_19, 0.1)\n",
    "print('Accuracy of properties at +- 10% of actual prices is ' + str(acc))"
   ]
  },
  {
   "cell_type": "code",
   "execution_count": 166,
   "id": "c6d16020",
   "metadata": {},
   "outputs": [
    {
     "name": "stdout",
     "output_type": "stream",
     "text": [
      "MAPE for AdaBoost 2019 is: 0.01331816092270101\n"
     ]
    }
   ],
   "source": [
    "mape = mean_absolute_percentage_error(y_test_19, y_pred_19)\n",
    "print(\"MAPE for AdaBoost 2019 is: \" + str(mape))"
   ]
  },
  {
   "cell_type": "code",
   "execution_count": 167,
   "id": "e1bef803",
   "metadata": {},
   "outputs": [],
   "source": [
    "cnames = ['Algorithm', 'Year', 'RMSE', 'MSE', 'MEDAE', 'Accuracy', 'MAPE']\n",
    "df14 = pd.DataFrame(columns = cnames)\n",
    "\n",
    "df14 = df14.append({'Algorithm': 'AdaBoost',\n",
    "           'Year': 2019,\n",
    "           'RMSE': rmse,\n",
    "           'MSE': mse,\n",
    "           'MEDAE': med,\n",
    "           'Accuracy': acc,\n",
    "           'MAPE': mape         \n",
    "          }, ignore_index = True)"
   ]
  },
  {
   "cell_type": "markdown",
   "id": "1938ea84",
   "metadata": {},
   "source": [
    "### LightGBM"
   ]
  },
  {
   "cell_type": "code",
   "execution_count": 168,
   "id": "32f45b77",
   "metadata": {},
   "outputs": [
    {
     "name": "stdout",
     "output_type": "stream",
     "text": [
      "MSE for LightGBM 2019 is: 0.05419931380191135\n"
     ]
    }
   ],
   "source": [
    "model = LGBMRegressor()\n",
    "model.fit(x_train_19, y_train_19)\n",
    "y_pred_19 = model.predict(x_test_19)\n",
    "# Calculation of Mean Squared Error (MSE)\n",
    "mse = mean_squared_error(y_test_19, y_pred_19)\n",
    "print('MSE for LightGBM 2019 is: ' + str(mse))"
   ]
  },
  {
   "cell_type": "code",
   "execution_count": 169,
   "id": "5b08f229",
   "metadata": {},
   "outputs": [
    {
     "name": "stdout",
     "output_type": "stream",
     "text": [
      "RMSE for LightGBM 2019 is: 0.23280746079520592\n"
     ]
    }
   ],
   "source": [
    "rmse = mean_squared_error(y_test_19, y_pred_19, squared = False)\n",
    "print('RMSE for LightGBM 2019 is: ' + str(rmse))"
   ]
  },
  {
   "cell_type": "code",
   "execution_count": 170,
   "id": "6e81490b",
   "metadata": {},
   "outputs": [
    {
     "name": "stdout",
     "output_type": "stream",
     "text": [
      "Median Absolute Error:\n",
      "\n",
      "0.10452539503942655\n"
     ]
    }
   ],
   "source": [
    "median_se = np.square(np.subtract(y_test_19, y_pred_19)).median() \n",
    " \n",
    "med = math.sqrt(median_se)\n",
    "print(\"Median Absolute Error:\\n\")\n",
    "print(med)"
   ]
  },
  {
   "cell_type": "code",
   "execution_count": 171,
   "id": "620c3251",
   "metadata": {},
   "outputs": [
    {
     "name": "stdout",
     "output_type": "stream",
     "text": [
      "Accuracy of properties at +- 10% of actual prices is 0.4849246231155779\n"
     ]
    }
   ],
   "source": [
    "acc = accuracy_threshold(y_test_19, y_pred_19, 0.1)\n",
    "print('Accuracy of properties at +- 10% of actual prices is ' + str(acc))"
   ]
  },
  {
   "cell_type": "code",
   "execution_count": 172,
   "id": "8bab1881",
   "metadata": {},
   "outputs": [
    {
     "name": "stdout",
     "output_type": "stream",
     "text": [
      "MAPE for LightGBM 2019 is: 0.012273702469383231\n"
     ]
    }
   ],
   "source": [
    "mape = mean_absolute_percentage_error(y_test_19, y_pred_19)\n",
    "print(\"MAPE for LightGBM 2019 is: \" + str(mape))"
   ]
  },
  {
   "cell_type": "code",
   "execution_count": 173,
   "id": "68e44550",
   "metadata": {},
   "outputs": [],
   "source": [
    "cnames = ['Algorithm', 'Year', 'RMSE', 'MSE', 'MEDAE', 'Accuracy', 'MAPE']\n",
    "df15 = pd.DataFrame(columns = cnames)\n",
    "\n",
    "df15 = df15.append({'Algorithm': 'LightGBM',\n",
    "           'Year': 2019,\n",
    "           'RMSE': rmse,\n",
    "           'MSE': mse,\n",
    "           'MEDAE': med,\n",
    "           'Accuracy': acc,\n",
    "           'MAPE': mape         \n",
    "          }, ignore_index = True)"
   ]
  },
  {
   "cell_type": "markdown",
   "id": "0c32398d",
   "metadata": {},
   "source": [
    "### CatBoost"
   ]
  },
  {
   "cell_type": "code",
   "execution_count": 174,
   "id": "18c72840",
   "metadata": {},
   "outputs": [
    {
     "name": "stdout",
     "output_type": "stream",
     "text": [
      "Learning rate set to 0.044561\n",
      "0:\tlearn: 0.5004809\ttotal: 4.02ms\tremaining: 4.02s\n",
      "1:\tlearn: 0.4886068\ttotal: 7.38ms\tremaining: 3.68s\n",
      "2:\tlearn: 0.4761619\ttotal: 10.2ms\tremaining: 3.4s\n",
      "3:\tlearn: 0.4649775\ttotal: 13ms\tremaining: 3.24s\n",
      "4:\tlearn: 0.4540877\ttotal: 15.8ms\tremaining: 3.14s\n",
      "5:\tlearn: 0.4440449\ttotal: 19.2ms\tremaining: 3.19s\n",
      "6:\tlearn: 0.4346240\ttotal: 23.5ms\tremaining: 3.34s\n",
      "7:\tlearn: 0.4256072\ttotal: 26.8ms\tremaining: 3.33s\n",
      "8:\tlearn: 0.4175326\ttotal: 30.3ms\tremaining: 3.34s\n",
      "9:\tlearn: 0.4088563\ttotal: 33.5ms\tremaining: 3.31s\n",
      "10:\tlearn: 0.4011638\ttotal: 37.4ms\tremaining: 3.36s\n",
      "11:\tlearn: 0.3933473\ttotal: 40.6ms\tremaining: 3.35s\n",
      "12:\tlearn: 0.3860491\ttotal: 44.2ms\tremaining: 3.35s\n",
      "13:\tlearn: 0.3800134\ttotal: 47.1ms\tremaining: 3.31s\n",
      "14:\tlearn: 0.3734674\ttotal: 51.6ms\tremaining: 3.39s\n",
      "15:\tlearn: 0.3678508\ttotal: 54.5ms\tremaining: 3.35s\n",
      "16:\tlearn: 0.3623018\ttotal: 58ms\tremaining: 3.35s\n",
      "17:\tlearn: 0.3572092\ttotal: 61.1ms\tremaining: 3.33s\n",
      "18:\tlearn: 0.3522973\ttotal: 64.6ms\tremaining: 3.34s\n",
      "19:\tlearn: 0.3480193\ttotal: 67.8ms\tremaining: 3.32s\n",
      "20:\tlearn: 0.3435428\ttotal: 70.5ms\tremaining: 3.29s\n",
      "21:\tlearn: 0.3393088\ttotal: 73.2ms\tremaining: 3.25s\n",
      "22:\tlearn: 0.3348816\ttotal: 76ms\tremaining: 3.23s\n",
      "23:\tlearn: 0.3310687\ttotal: 80.8ms\tremaining: 3.28s\n",
      "24:\tlearn: 0.3274150\ttotal: 84.2ms\tremaining: 3.28s\n",
      "25:\tlearn: 0.3239991\ttotal: 87.6ms\tremaining: 3.28s\n",
      "26:\tlearn: 0.3210775\ttotal: 90.5ms\tremaining: 3.26s\n",
      "27:\tlearn: 0.3181804\ttotal: 94.5ms\tremaining: 3.28s\n",
      "28:\tlearn: 0.3158614\ttotal: 97.6ms\tremaining: 3.27s\n",
      "29:\tlearn: 0.3130799\ttotal: 101ms\tremaining: 3.27s\n",
      "30:\tlearn: 0.3104798\ttotal: 104ms\tremaining: 3.26s\n",
      "31:\tlearn: 0.3079750\ttotal: 107ms\tremaining: 3.24s\n",
      "32:\tlearn: 0.3058129\ttotal: 110ms\tremaining: 3.23s\n",
      "33:\tlearn: 0.3036652\ttotal: 113ms\tremaining: 3.21s\n",
      "34:\tlearn: 0.3013799\ttotal: 116ms\tremaining: 3.19s\n",
      "35:\tlearn: 0.2990980\ttotal: 119ms\tremaining: 3.17s\n",
      "36:\tlearn: 0.2973163\ttotal: 121ms\tremaining: 3.15s\n",
      "37:\tlearn: 0.2952233\ttotal: 124ms\tremaining: 3.15s\n",
      "38:\tlearn: 0.2932920\ttotal: 127ms\tremaining: 3.13s\n",
      "39:\tlearn: 0.2917784\ttotal: 130ms\tremaining: 3.12s\n",
      "40:\tlearn: 0.2903403\ttotal: 133ms\tremaining: 3.1s\n",
      "41:\tlearn: 0.2887440\ttotal: 135ms\tremaining: 3.09s\n",
      "42:\tlearn: 0.2870431\ttotal: 139ms\tremaining: 3.08s\n",
      "43:\tlearn: 0.2858425\ttotal: 142ms\tremaining: 3.08s\n",
      "44:\tlearn: 0.2846524\ttotal: 144ms\tremaining: 3.06s\n",
      "45:\tlearn: 0.2835994\ttotal: 147ms\tremaining: 3.05s\n",
      "46:\tlearn: 0.2825629\ttotal: 150ms\tremaining: 3.04s\n",
      "47:\tlearn: 0.2812961\ttotal: 153ms\tremaining: 3.03s\n",
      "48:\tlearn: 0.2800197\ttotal: 156ms\tremaining: 3.03s\n",
      "49:\tlearn: 0.2787467\ttotal: 159ms\tremaining: 3.02s\n",
      "50:\tlearn: 0.2777544\ttotal: 161ms\tremaining: 3s\n",
      "51:\tlearn: 0.2767004\ttotal: 165ms\tremaining: 3.02s\n",
      "52:\tlearn: 0.2755956\ttotal: 169ms\tremaining: 3.02s\n",
      "53:\tlearn: 0.2744794\ttotal: 173ms\tremaining: 3.02s\n",
      "54:\tlearn: 0.2736880\ttotal: 176ms\tremaining: 3.02s\n",
      "55:\tlearn: 0.2728654\ttotal: 179ms\tremaining: 3.01s\n",
      "56:\tlearn: 0.2721541\ttotal: 182ms\tremaining: 3.01s\n",
      "57:\tlearn: 0.2712971\ttotal: 187ms\tremaining: 3.03s\n",
      "58:\tlearn: 0.2706573\ttotal: 190ms\tremaining: 3.04s\n",
      "59:\tlearn: 0.2698683\ttotal: 195ms\tremaining: 3.06s\n",
      "60:\tlearn: 0.2688517\ttotal: 200ms\tremaining: 3.07s\n",
      "61:\tlearn: 0.2679048\ttotal: 204ms\tremaining: 3.08s\n",
      "62:\tlearn: 0.2672236\ttotal: 209ms\tremaining: 3.1s\n",
      "63:\tlearn: 0.2667458\ttotal: 213ms\tremaining: 3.12s\n",
      "64:\tlearn: 0.2660104\ttotal: 217ms\tremaining: 3.12s\n",
      "65:\tlearn: 0.2653054\ttotal: 222ms\tremaining: 3.14s\n",
      "66:\tlearn: 0.2648614\ttotal: 226ms\tremaining: 3.14s\n",
      "67:\tlearn: 0.2640216\ttotal: 230ms\tremaining: 3.15s\n",
      "68:\tlearn: 0.2632158\ttotal: 235ms\tremaining: 3.17s\n",
      "69:\tlearn: 0.2624529\ttotal: 239ms\tremaining: 3.17s\n",
      "70:\tlearn: 0.2621028\ttotal: 243ms\tremaining: 3.19s\n",
      "71:\tlearn: 0.2615694\ttotal: 248ms\tremaining: 3.2s\n",
      "72:\tlearn: 0.2608013\ttotal: 253ms\tremaining: 3.21s\n",
      "73:\tlearn: 0.2602641\ttotal: 257ms\tremaining: 3.22s\n",
      "74:\tlearn: 0.2598297\ttotal: 262ms\tremaining: 3.23s\n",
      "75:\tlearn: 0.2590620\ttotal: 267ms\tremaining: 3.24s\n",
      "76:\tlearn: 0.2585833\ttotal: 271ms\tremaining: 3.25s\n",
      "77:\tlearn: 0.2582579\ttotal: 275ms\tremaining: 3.25s\n",
      "78:\tlearn: 0.2577983\ttotal: 280ms\tremaining: 3.26s\n",
      "79:\tlearn: 0.2574600\ttotal: 285ms\tremaining: 3.27s\n",
      "80:\tlearn: 0.2569854\ttotal: 288ms\tremaining: 3.27s\n",
      "81:\tlearn: 0.2566130\ttotal: 292ms\tremaining: 3.27s\n",
      "82:\tlearn: 0.2561681\ttotal: 296ms\tremaining: 3.27s\n",
      "83:\tlearn: 0.2558047\ttotal: 299ms\tremaining: 3.27s\n",
      "84:\tlearn: 0.2551615\ttotal: 304ms\tremaining: 3.27s\n",
      "85:\tlearn: 0.2546679\ttotal: 307ms\tremaining: 3.27s\n",
      "86:\tlearn: 0.2543975\ttotal: 311ms\tremaining: 3.27s\n",
      "87:\tlearn: 0.2539175\ttotal: 315ms\tremaining: 3.26s\n",
      "88:\tlearn: 0.2535577\ttotal: 318ms\tremaining: 3.26s\n",
      "89:\tlearn: 0.2533254\ttotal: 322ms\tremaining: 3.25s\n",
      "90:\tlearn: 0.2530171\ttotal: 325ms\tremaining: 3.25s\n",
      "91:\tlearn: 0.2525681\ttotal: 329ms\tremaining: 3.25s\n",
      "92:\tlearn: 0.2521302\ttotal: 332ms\tremaining: 3.24s\n",
      "93:\tlearn: 0.2517642\ttotal: 339ms\tremaining: 3.26s\n",
      "94:\tlearn: 0.2513225\ttotal: 343ms\tremaining: 3.27s\n",
      "95:\tlearn: 0.2508668\ttotal: 346ms\tremaining: 3.26s\n",
      "96:\tlearn: 0.2505205\ttotal: 350ms\tremaining: 3.26s\n",
      "97:\tlearn: 0.2501823\ttotal: 354ms\tremaining: 3.26s\n",
      "98:\tlearn: 0.2498021\ttotal: 358ms\tremaining: 3.25s\n",
      "99:\tlearn: 0.2495329\ttotal: 361ms\tremaining: 3.25s\n",
      "100:\tlearn: 0.2492339\ttotal: 365ms\tremaining: 3.25s\n",
      "101:\tlearn: 0.2489996\ttotal: 369ms\tremaining: 3.25s\n",
      "102:\tlearn: 0.2486876\ttotal: 373ms\tremaining: 3.24s\n",
      "103:\tlearn: 0.2480877\ttotal: 376ms\tremaining: 3.24s\n",
      "104:\tlearn: 0.2478556\ttotal: 380ms\tremaining: 3.24s\n",
      "105:\tlearn: 0.2473150\ttotal: 385ms\tremaining: 3.25s\n",
      "106:\tlearn: 0.2469528\ttotal: 388ms\tremaining: 3.24s\n",
      "107:\tlearn: 0.2464652\ttotal: 393ms\tremaining: 3.24s\n",
      "108:\tlearn: 0.2457830\ttotal: 396ms\tremaining: 3.24s\n",
      "109:\tlearn: 0.2452765\ttotal: 401ms\tremaining: 3.24s\n",
      "110:\tlearn: 0.2448744\ttotal: 404ms\tremaining: 3.24s\n",
      "111:\tlearn: 0.2445578\ttotal: 408ms\tremaining: 3.24s\n",
      "112:\tlearn: 0.2443204\ttotal: 413ms\tremaining: 3.24s\n",
      "113:\tlearn: 0.2440133\ttotal: 416ms\tremaining: 3.24s\n",
      "114:\tlearn: 0.2436210\ttotal: 421ms\tremaining: 3.24s\n",
      "115:\tlearn: 0.2433269\ttotal: 424ms\tremaining: 3.23s\n",
      "116:\tlearn: 0.2429535\ttotal: 427ms\tremaining: 3.22s\n",
      "117:\tlearn: 0.2427010\ttotal: 430ms\tremaining: 3.22s\n",
      "118:\tlearn: 0.2421964\ttotal: 435ms\tremaining: 3.22s\n",
      "119:\tlearn: 0.2416154\ttotal: 438ms\tremaining: 3.21s\n",
      "120:\tlearn: 0.2413903\ttotal: 441ms\tremaining: 3.2s\n",
      "121:\tlearn: 0.2408299\ttotal: 444ms\tremaining: 3.2s\n",
      "122:\tlearn: 0.2404942\ttotal: 447ms\tremaining: 3.19s\n",
      "123:\tlearn: 0.2402858\ttotal: 450ms\tremaining: 3.18s\n",
      "124:\tlearn: 0.2399734\ttotal: 453ms\tremaining: 3.17s\n",
      "125:\tlearn: 0.2397018\ttotal: 456ms\tremaining: 3.16s\n",
      "126:\tlearn: 0.2393702\ttotal: 459ms\tremaining: 3.15s\n",
      "127:\tlearn: 0.2388428\ttotal: 462ms\tremaining: 3.15s\n",
      "128:\tlearn: 0.2385174\ttotal: 465ms\tremaining: 3.14s\n",
      "129:\tlearn: 0.2379771\ttotal: 468ms\tremaining: 3.13s\n",
      "130:\tlearn: 0.2375763\ttotal: 470ms\tremaining: 3.12s\n",
      "131:\tlearn: 0.2373864\ttotal: 474ms\tremaining: 3.12s\n",
      "132:\tlearn: 0.2371092\ttotal: 477ms\tremaining: 3.11s\n",
      "133:\tlearn: 0.2369577\ttotal: 480ms\tremaining: 3.1s\n",
      "134:\tlearn: 0.2367413\ttotal: 483ms\tremaining: 3.09s\n",
      "135:\tlearn: 0.2365188\ttotal: 486ms\tremaining: 3.08s\n",
      "136:\tlearn: 0.2362549\ttotal: 489ms\tremaining: 3.08s\n",
      "137:\tlearn: 0.2359515\ttotal: 492ms\tremaining: 3.07s\n",
      "138:\tlearn: 0.2354896\ttotal: 495ms\tremaining: 3.06s\n",
      "139:\tlearn: 0.2352494\ttotal: 498ms\tremaining: 3.06s\n",
      "140:\tlearn: 0.2350681\ttotal: 501ms\tremaining: 3.05s\n",
      "141:\tlearn: 0.2346439\ttotal: 506ms\tremaining: 3.06s\n",
      "142:\tlearn: 0.2344107\ttotal: 509ms\tremaining: 3.05s\n",
      "143:\tlearn: 0.2341722\ttotal: 512ms\tremaining: 3.04s\n",
      "144:\tlearn: 0.2337246\ttotal: 515ms\tremaining: 3.04s\n",
      "145:\tlearn: 0.2335473\ttotal: 518ms\tremaining: 3.03s\n",
      "146:\tlearn: 0.2333818\ttotal: 521ms\tremaining: 3.02s\n",
      "147:\tlearn: 0.2330678\ttotal: 524ms\tremaining: 3.02s\n",
      "148:\tlearn: 0.2327553\ttotal: 527ms\tremaining: 3.01s\n",
      "149:\tlearn: 0.2325890\ttotal: 530ms\tremaining: 3s\n",
      "150:\tlearn: 0.2320910\ttotal: 534ms\tremaining: 3s\n",
      "151:\tlearn: 0.2318370\ttotal: 538ms\tremaining: 3s\n",
      "152:\tlearn: 0.2315831\ttotal: 542ms\tremaining: 3s\n",
      "153:\tlearn: 0.2313582\ttotal: 545ms\tremaining: 3s\n",
      "154:\tlearn: 0.2308956\ttotal: 550ms\tremaining: 3s\n",
      "155:\tlearn: 0.2307490\ttotal: 553ms\tremaining: 2.99s\n",
      "156:\tlearn: 0.2304766\ttotal: 556ms\tremaining: 2.98s\n",
      "157:\tlearn: 0.2301285\ttotal: 559ms\tremaining: 2.98s\n",
      "158:\tlearn: 0.2299611\ttotal: 563ms\tremaining: 2.98s\n",
      "159:\tlearn: 0.2294661\ttotal: 567ms\tremaining: 2.98s\n",
      "160:\tlearn: 0.2292876\ttotal: 570ms\tremaining: 2.97s\n",
      "161:\tlearn: 0.2290599\ttotal: 572ms\tremaining: 2.96s\n",
      "162:\tlearn: 0.2287882\ttotal: 575ms\tremaining: 2.95s\n",
      "163:\tlearn: 0.2283374\ttotal: 578ms\tremaining: 2.94s\n",
      "164:\tlearn: 0.2281443\ttotal: 581ms\tremaining: 2.94s\n",
      "165:\tlearn: 0.2277787\ttotal: 583ms\tremaining: 2.93s\n",
      "166:\tlearn: 0.2273602\ttotal: 586ms\tremaining: 2.92s\n",
      "167:\tlearn: 0.2271677\ttotal: 589ms\tremaining: 2.92s\n"
     ]
    },
    {
     "name": "stdout",
     "output_type": "stream",
     "text": [
      "168:\tlearn: 0.2270201\ttotal: 593ms\tremaining: 2.92s\n",
      "169:\tlearn: 0.2266646\ttotal: 597ms\tremaining: 2.91s\n",
      "170:\tlearn: 0.2263129\ttotal: 599ms\tremaining: 2.9s\n",
      "171:\tlearn: 0.2260833\ttotal: 603ms\tremaining: 2.9s\n",
      "172:\tlearn: 0.2260211\ttotal: 607ms\tremaining: 2.9s\n",
      "173:\tlearn: 0.2259140\ttotal: 610ms\tremaining: 2.9s\n",
      "174:\tlearn: 0.2256149\ttotal: 613ms\tremaining: 2.89s\n",
      "175:\tlearn: 0.2254419\ttotal: 616ms\tremaining: 2.88s\n",
      "176:\tlearn: 0.2251060\ttotal: 619ms\tremaining: 2.88s\n",
      "177:\tlearn: 0.2248736\ttotal: 622ms\tremaining: 2.87s\n",
      "178:\tlearn: 0.2246807\ttotal: 625ms\tremaining: 2.87s\n",
      "179:\tlearn: 0.2244305\ttotal: 628ms\tremaining: 2.86s\n",
      "180:\tlearn: 0.2242412\ttotal: 631ms\tremaining: 2.85s\n",
      "181:\tlearn: 0.2240699\ttotal: 634ms\tremaining: 2.85s\n",
      "182:\tlearn: 0.2238708\ttotal: 636ms\tremaining: 2.84s\n",
      "183:\tlearn: 0.2236848\ttotal: 639ms\tremaining: 2.83s\n",
      "184:\tlearn: 0.2235369\ttotal: 642ms\tremaining: 2.83s\n",
      "185:\tlearn: 0.2231537\ttotal: 645ms\tremaining: 2.82s\n",
      "186:\tlearn: 0.2229081\ttotal: 649ms\tremaining: 2.82s\n",
      "187:\tlearn: 0.2227188\ttotal: 651ms\tremaining: 2.81s\n",
      "188:\tlearn: 0.2225825\ttotal: 654ms\tremaining: 2.81s\n",
      "189:\tlearn: 0.2224775\ttotal: 657ms\tremaining: 2.8s\n",
      "190:\tlearn: 0.2223980\ttotal: 660ms\tremaining: 2.8s\n",
      "191:\tlearn: 0.2221336\ttotal: 663ms\tremaining: 2.79s\n",
      "192:\tlearn: 0.2219755\ttotal: 666ms\tremaining: 2.79s\n",
      "193:\tlearn: 0.2218766\ttotal: 669ms\tremaining: 2.78s\n",
      "194:\tlearn: 0.2216956\ttotal: 672ms\tremaining: 2.77s\n",
      "195:\tlearn: 0.2215345\ttotal: 676ms\tremaining: 2.77s\n",
      "196:\tlearn: 0.2214642\ttotal: 682ms\tremaining: 2.78s\n",
      "197:\tlearn: 0.2213398\ttotal: 686ms\tremaining: 2.78s\n",
      "198:\tlearn: 0.2211141\ttotal: 690ms\tremaining: 2.78s\n",
      "199:\tlearn: 0.2208548\ttotal: 694ms\tremaining: 2.78s\n",
      "200:\tlearn: 0.2207741\ttotal: 697ms\tremaining: 2.77s\n",
      "201:\tlearn: 0.2206800\ttotal: 699ms\tremaining: 2.76s\n",
      "202:\tlearn: 0.2205631\ttotal: 703ms\tremaining: 2.76s\n",
      "203:\tlearn: 0.2205025\ttotal: 708ms\tremaining: 2.76s\n",
      "204:\tlearn: 0.2203180\ttotal: 711ms\tremaining: 2.76s\n",
      "205:\tlearn: 0.2201532\ttotal: 714ms\tremaining: 2.75s\n",
      "206:\tlearn: 0.2200853\ttotal: 717ms\tremaining: 2.75s\n",
      "207:\tlearn: 0.2199725\ttotal: 722ms\tremaining: 2.75s\n",
      "208:\tlearn: 0.2197731\ttotal: 725ms\tremaining: 2.74s\n",
      "209:\tlearn: 0.2196118\ttotal: 727ms\tremaining: 2.74s\n",
      "210:\tlearn: 0.2193443\ttotal: 730ms\tremaining: 2.73s\n",
      "211:\tlearn: 0.2192146\ttotal: 735ms\tremaining: 2.73s\n",
      "212:\tlearn: 0.2191135\ttotal: 738ms\tremaining: 2.73s\n",
      "213:\tlearn: 0.2189903\ttotal: 740ms\tremaining: 2.72s\n",
      "214:\tlearn: 0.2189160\ttotal: 743ms\tremaining: 2.71s\n",
      "215:\tlearn: 0.2187619\ttotal: 746ms\tremaining: 2.71s\n",
      "216:\tlearn: 0.2186304\ttotal: 749ms\tremaining: 2.7s\n",
      "217:\tlearn: 0.2184150\ttotal: 752ms\tremaining: 2.7s\n",
      "218:\tlearn: 0.2182812\ttotal: 755ms\tremaining: 2.69s\n",
      "219:\tlearn: 0.2181180\ttotal: 757ms\tremaining: 2.69s\n",
      "220:\tlearn: 0.2179876\ttotal: 761ms\tremaining: 2.68s\n",
      "221:\tlearn: 0.2178521\ttotal: 766ms\tremaining: 2.68s\n",
      "222:\tlearn: 0.2178120\ttotal: 769ms\tremaining: 2.68s\n",
      "223:\tlearn: 0.2175683\ttotal: 773ms\tremaining: 2.68s\n",
      "224:\tlearn: 0.2175593\ttotal: 775ms\tremaining: 2.67s\n",
      "225:\tlearn: 0.2173333\ttotal: 779ms\tremaining: 2.67s\n",
      "226:\tlearn: 0.2172015\ttotal: 782ms\tremaining: 2.66s\n",
      "227:\tlearn: 0.2170101\ttotal: 785ms\tremaining: 2.66s\n",
      "228:\tlearn: 0.2168871\ttotal: 787ms\tremaining: 2.65s\n",
      "229:\tlearn: 0.2167478\ttotal: 791ms\tremaining: 2.65s\n",
      "230:\tlearn: 0.2165141\ttotal: 794ms\tremaining: 2.64s\n",
      "231:\tlearn: 0.2162319\ttotal: 797ms\tremaining: 2.64s\n",
      "232:\tlearn: 0.2159856\ttotal: 799ms\tremaining: 2.63s\n",
      "233:\tlearn: 0.2157100\ttotal: 802ms\tremaining: 2.63s\n",
      "234:\tlearn: 0.2155449\ttotal: 806ms\tremaining: 2.62s\n",
      "235:\tlearn: 0.2154700\ttotal: 809ms\tremaining: 2.62s\n",
      "236:\tlearn: 0.2152893\ttotal: 812ms\tremaining: 2.61s\n",
      "237:\tlearn: 0.2150918\ttotal: 815ms\tremaining: 2.61s\n",
      "238:\tlearn: 0.2149032\ttotal: 817ms\tremaining: 2.6s\n",
      "239:\tlearn: 0.2148406\ttotal: 821ms\tremaining: 2.6s\n",
      "240:\tlearn: 0.2146162\ttotal: 825ms\tremaining: 2.6s\n",
      "241:\tlearn: 0.2146011\ttotal: 828ms\tremaining: 2.59s\n",
      "242:\tlearn: 0.2144866\ttotal: 830ms\tremaining: 2.59s\n",
      "243:\tlearn: 0.2143248\ttotal: 834ms\tremaining: 2.58s\n",
      "244:\tlearn: 0.2140637\ttotal: 837ms\tremaining: 2.58s\n",
      "245:\tlearn: 0.2137507\ttotal: 840ms\tremaining: 2.58s\n",
      "246:\tlearn: 0.2135236\ttotal: 843ms\tremaining: 2.57s\n",
      "247:\tlearn: 0.2133443\ttotal: 848ms\tremaining: 2.57s\n",
      "248:\tlearn: 0.2131474\ttotal: 851ms\tremaining: 2.57s\n",
      "249:\tlearn: 0.2129212\ttotal: 855ms\tremaining: 2.56s\n",
      "250:\tlearn: 0.2126278\ttotal: 858ms\tremaining: 2.56s\n",
      "251:\tlearn: 0.2122104\ttotal: 860ms\tremaining: 2.55s\n",
      "252:\tlearn: 0.2120738\ttotal: 864ms\tremaining: 2.55s\n",
      "253:\tlearn: 0.2117772\ttotal: 866ms\tremaining: 2.54s\n",
      "254:\tlearn: 0.2117036\ttotal: 870ms\tremaining: 2.54s\n",
      "255:\tlearn: 0.2115948\ttotal: 873ms\tremaining: 2.54s\n",
      "256:\tlearn: 0.2114322\ttotal: 877ms\tremaining: 2.53s\n",
      "257:\tlearn: 0.2113857\ttotal: 880ms\tremaining: 2.53s\n",
      "258:\tlearn: 0.2111986\ttotal: 884ms\tremaining: 2.53s\n",
      "259:\tlearn: 0.2109189\ttotal: 887ms\tremaining: 2.52s\n",
      "260:\tlearn: 0.2106878\ttotal: 891ms\tremaining: 2.52s\n",
      "261:\tlearn: 0.2106688\ttotal: 894ms\tremaining: 2.52s\n",
      "262:\tlearn: 0.2106382\ttotal: 896ms\tremaining: 2.51s\n",
      "263:\tlearn: 0.2105633\ttotal: 899ms\tremaining: 2.51s\n",
      "264:\tlearn: 0.2103706\ttotal: 902ms\tremaining: 2.5s\n",
      "265:\tlearn: 0.2103609\ttotal: 904ms\tremaining: 2.49s\n",
      "266:\tlearn: 0.2103017\ttotal: 908ms\tremaining: 2.49s\n",
      "267:\tlearn: 0.2100714\ttotal: 910ms\tremaining: 2.49s\n",
      "268:\tlearn: 0.2098848\ttotal: 913ms\tremaining: 2.48s\n",
      "269:\tlearn: 0.2097649\ttotal: 917ms\tremaining: 2.48s\n",
      "270:\tlearn: 0.2097281\ttotal: 920ms\tremaining: 2.47s\n",
      "271:\tlearn: 0.2095394\ttotal: 923ms\tremaining: 2.47s\n",
      "272:\tlearn: 0.2092410\ttotal: 925ms\tremaining: 2.46s\n",
      "273:\tlearn: 0.2089735\ttotal: 929ms\tremaining: 2.46s\n",
      "274:\tlearn: 0.2087605\ttotal: 933ms\tremaining: 2.46s\n",
      "275:\tlearn: 0.2085053\ttotal: 936ms\tremaining: 2.46s\n",
      "276:\tlearn: 0.2083743\ttotal: 939ms\tremaining: 2.45s\n",
      "277:\tlearn: 0.2080930\ttotal: 942ms\tremaining: 2.44s\n",
      "278:\tlearn: 0.2080048\ttotal: 946ms\tremaining: 2.44s\n",
      "279:\tlearn: 0.2079238\ttotal: 950ms\tremaining: 2.44s\n",
      "280:\tlearn: 0.2076692\ttotal: 953ms\tremaining: 2.44s\n",
      "281:\tlearn: 0.2075400\ttotal: 956ms\tremaining: 2.43s\n",
      "282:\tlearn: 0.2074140\ttotal: 959ms\tremaining: 2.43s\n",
      "283:\tlearn: 0.2071817\ttotal: 962ms\tremaining: 2.42s\n",
      "284:\tlearn: 0.2069106\ttotal: 966ms\tremaining: 2.42s\n",
      "285:\tlearn: 0.2067155\ttotal: 969ms\tremaining: 2.42s\n",
      "286:\tlearn: 0.2065392\ttotal: 972ms\tremaining: 2.41s\n",
      "287:\tlearn: 0.2063583\ttotal: 975ms\tremaining: 2.41s\n",
      "288:\tlearn: 0.2062310\ttotal: 978ms\tremaining: 2.41s\n",
      "289:\tlearn: 0.2060903\ttotal: 982ms\tremaining: 2.4s\n",
      "290:\tlearn: 0.2059069\ttotal: 986ms\tremaining: 2.4s\n",
      "291:\tlearn: 0.2058782\ttotal: 990ms\tremaining: 2.4s\n",
      "292:\tlearn: 0.2058704\ttotal: 991ms\tremaining: 2.39s\n",
      "293:\tlearn: 0.2056400\ttotal: 994ms\tremaining: 2.39s\n",
      "294:\tlearn: 0.2053280\ttotal: 997ms\tremaining: 2.38s\n",
      "295:\tlearn: 0.2052420\ttotal: 999ms\tremaining: 2.38s\n",
      "296:\tlearn: 0.2051021\ttotal: 1s\tremaining: 2.37s\n",
      "297:\tlearn: 0.2048715\ttotal: 1s\tremaining: 2.37s\n",
      "298:\tlearn: 0.2047353\ttotal: 1.01s\tremaining: 2.36s\n",
      "299:\tlearn: 0.2045424\ttotal: 1.01s\tremaining: 2.36s\n",
      "300:\tlearn: 0.2042905\ttotal: 1.01s\tremaining: 2.36s\n",
      "301:\tlearn: 0.2040711\ttotal: 1.02s\tremaining: 2.36s\n",
      "302:\tlearn: 0.2038484\ttotal: 1.02s\tremaining: 2.35s\n",
      "303:\tlearn: 0.2037484\ttotal: 1.02s\tremaining: 2.35s\n",
      "304:\tlearn: 0.2036636\ttotal: 1.03s\tremaining: 2.34s\n",
      "305:\tlearn: 0.2035916\ttotal: 1.03s\tremaining: 2.34s\n",
      "306:\tlearn: 0.2035223\ttotal: 1.03s\tremaining: 2.33s\n",
      "307:\tlearn: 0.2033963\ttotal: 1.04s\tremaining: 2.33s\n",
      "308:\tlearn: 0.2031566\ttotal: 1.04s\tremaining: 2.32s\n",
      "309:\tlearn: 0.2028556\ttotal: 1.04s\tremaining: 2.32s\n",
      "310:\tlearn: 0.2026844\ttotal: 1.05s\tremaining: 2.32s\n",
      "311:\tlearn: 0.2025849\ttotal: 1.05s\tremaining: 2.31s\n",
      "312:\tlearn: 0.2024133\ttotal: 1.05s\tremaining: 2.31s\n",
      "313:\tlearn: 0.2022910\ttotal: 1.05s\tremaining: 2.31s\n",
      "314:\tlearn: 0.2021268\ttotal: 1.06s\tremaining: 2.3s\n",
      "315:\tlearn: 0.2020498\ttotal: 1.06s\tremaining: 2.3s\n",
      "316:\tlearn: 0.2018291\ttotal: 1.07s\tremaining: 2.3s\n",
      "317:\tlearn: 0.2016902\ttotal: 1.07s\tremaining: 2.29s\n",
      "318:\tlearn: 0.2016525\ttotal: 1.07s\tremaining: 2.29s\n",
      "319:\tlearn: 0.2015252\ttotal: 1.08s\tremaining: 2.29s\n",
      "320:\tlearn: 0.2013489\ttotal: 1.08s\tremaining: 2.28s\n",
      "321:\tlearn: 0.2011074\ttotal: 1.08s\tremaining: 2.28s\n",
      "322:\tlearn: 0.2008793\ttotal: 1.08s\tremaining: 2.27s\n",
      "323:\tlearn: 0.2006992\ttotal: 1.09s\tremaining: 2.27s\n",
      "324:\tlearn: 0.2004927\ttotal: 1.09s\tremaining: 2.27s\n",
      "325:\tlearn: 0.2003564\ttotal: 1.09s\tremaining: 2.26s\n",
      "326:\tlearn: 0.2002017\ttotal: 1.1s\tremaining: 2.26s\n",
      "327:\tlearn: 0.2000876\ttotal: 1.1s\tremaining: 2.25s\n"
     ]
    },
    {
     "name": "stdout",
     "output_type": "stream",
     "text": [
      "328:\tlearn: 0.1999176\ttotal: 1.1s\tremaining: 2.25s\n",
      "329:\tlearn: 0.1997971\ttotal: 1.11s\tremaining: 2.25s\n",
      "330:\tlearn: 0.1997028\ttotal: 1.11s\tremaining: 2.25s\n",
      "331:\tlearn: 0.1995526\ttotal: 1.11s\tremaining: 2.24s\n",
      "332:\tlearn: 0.1994760\ttotal: 1.12s\tremaining: 2.24s\n",
      "333:\tlearn: 0.1993005\ttotal: 1.12s\tremaining: 2.24s\n",
      "334:\tlearn: 0.1991042\ttotal: 1.13s\tremaining: 2.23s\n",
      "335:\tlearn: 0.1988599\ttotal: 1.13s\tremaining: 2.23s\n",
      "336:\tlearn: 0.1986362\ttotal: 1.13s\tremaining: 2.23s\n",
      "337:\tlearn: 0.1983748\ttotal: 1.13s\tremaining: 2.22s\n",
      "338:\tlearn: 0.1981202\ttotal: 1.14s\tremaining: 2.22s\n",
      "339:\tlearn: 0.1978969\ttotal: 1.14s\tremaining: 2.22s\n",
      "340:\tlearn: 0.1976391\ttotal: 1.14s\tremaining: 2.21s\n",
      "341:\tlearn: 0.1974415\ttotal: 1.15s\tremaining: 2.21s\n",
      "342:\tlearn: 0.1972205\ttotal: 1.15s\tremaining: 2.2s\n",
      "343:\tlearn: 0.1970961\ttotal: 1.15s\tremaining: 2.2s\n",
      "344:\tlearn: 0.1968825\ttotal: 1.16s\tremaining: 2.2s\n",
      "345:\tlearn: 0.1966518\ttotal: 1.16s\tremaining: 2.19s\n",
      "346:\tlearn: 0.1965452\ttotal: 1.16s\tremaining: 2.19s\n",
      "347:\tlearn: 0.1964145\ttotal: 1.17s\tremaining: 2.18s\n",
      "348:\tlearn: 0.1962594\ttotal: 1.17s\tremaining: 2.18s\n",
      "349:\tlearn: 0.1960489\ttotal: 1.17s\tremaining: 2.18s\n",
      "350:\tlearn: 0.1958686\ttotal: 1.17s\tremaining: 2.17s\n",
      "351:\tlearn: 0.1957107\ttotal: 1.18s\tremaining: 2.17s\n",
      "352:\tlearn: 0.1955055\ttotal: 1.18s\tremaining: 2.17s\n",
      "353:\tlearn: 0.1953033\ttotal: 1.18s\tremaining: 2.16s\n",
      "354:\tlearn: 0.1951300\ttotal: 1.19s\tremaining: 2.16s\n",
      "355:\tlearn: 0.1950062\ttotal: 1.19s\tremaining: 2.16s\n",
      "356:\tlearn: 0.1949007\ttotal: 1.2s\tremaining: 2.15s\n",
      "357:\tlearn: 0.1946972\ttotal: 1.2s\tremaining: 2.15s\n",
      "358:\tlearn: 0.1944921\ttotal: 1.2s\tremaining: 2.15s\n",
      "359:\tlearn: 0.1943167\ttotal: 1.2s\tremaining: 2.14s\n",
      "360:\tlearn: 0.1942455\ttotal: 1.21s\tremaining: 2.14s\n",
      "361:\tlearn: 0.1939971\ttotal: 1.21s\tremaining: 2.13s\n",
      "362:\tlearn: 0.1939254\ttotal: 1.21s\tremaining: 2.13s\n",
      "363:\tlearn: 0.1937300\ttotal: 1.22s\tremaining: 2.13s\n",
      "364:\tlearn: 0.1934466\ttotal: 1.22s\tremaining: 2.12s\n",
      "365:\tlearn: 0.1932391\ttotal: 1.22s\tremaining: 2.12s\n",
      "366:\tlearn: 0.1931703\ttotal: 1.23s\tremaining: 2.11s\n",
      "367:\tlearn: 0.1930528\ttotal: 1.23s\tremaining: 2.11s\n",
      "368:\tlearn: 0.1929417\ttotal: 1.23s\tremaining: 2.11s\n",
      "369:\tlearn: 0.1928090\ttotal: 1.24s\tremaining: 2.1s\n",
      "370:\tlearn: 0.1926708\ttotal: 1.24s\tremaining: 2.1s\n",
      "371:\tlearn: 0.1925648\ttotal: 1.24s\tremaining: 2.1s\n",
      "372:\tlearn: 0.1923265\ttotal: 1.25s\tremaining: 2.09s\n",
      "373:\tlearn: 0.1921341\ttotal: 1.25s\tremaining: 2.09s\n",
      "374:\tlearn: 0.1919540\ttotal: 1.25s\tremaining: 2.08s\n",
      "375:\tlearn: 0.1918622\ttotal: 1.25s\tremaining: 2.08s\n",
      "376:\tlearn: 0.1917089\ttotal: 1.26s\tremaining: 2.08s\n",
      "377:\tlearn: 0.1916003\ttotal: 1.26s\tremaining: 2.07s\n",
      "378:\tlearn: 0.1915190\ttotal: 1.26s\tremaining: 2.07s\n",
      "379:\tlearn: 0.1913449\ttotal: 1.26s\tremaining: 2.06s\n",
      "380:\tlearn: 0.1912179\ttotal: 1.27s\tremaining: 2.06s\n",
      "381:\tlearn: 0.1910933\ttotal: 1.27s\tremaining: 2.06s\n",
      "382:\tlearn: 0.1908670\ttotal: 1.27s\tremaining: 2.06s\n",
      "383:\tlearn: 0.1907067\ttotal: 1.28s\tremaining: 2.05s\n",
      "384:\tlearn: 0.1905715\ttotal: 1.28s\tremaining: 2.05s\n",
      "385:\tlearn: 0.1903494\ttotal: 1.28s\tremaining: 2.04s\n",
      "386:\tlearn: 0.1903273\ttotal: 1.29s\tremaining: 2.04s\n",
      "387:\tlearn: 0.1902175\ttotal: 1.29s\tremaining: 2.04s\n",
      "388:\tlearn: 0.1901119\ttotal: 1.29s\tremaining: 2.03s\n",
      "389:\tlearn: 0.1900629\ttotal: 1.3s\tremaining: 2.03s\n",
      "390:\tlearn: 0.1898797\ttotal: 1.3s\tremaining: 2.02s\n",
      "391:\tlearn: 0.1897330\ttotal: 1.3s\tremaining: 2.02s\n",
      "392:\tlearn: 0.1896592\ttotal: 1.31s\tremaining: 2.02s\n",
      "393:\tlearn: 0.1895997\ttotal: 1.31s\tremaining: 2.01s\n",
      "394:\tlearn: 0.1894186\ttotal: 1.31s\tremaining: 2.01s\n",
      "395:\tlearn: 0.1893142\ttotal: 1.31s\tremaining: 2s\n",
      "396:\tlearn: 0.1891503\ttotal: 1.32s\tremaining: 2s\n",
      "397:\tlearn: 0.1890408\ttotal: 1.32s\tremaining: 2s\n",
      "398:\tlearn: 0.1889701\ttotal: 1.32s\tremaining: 1.99s\n",
      "399:\tlearn: 0.1886737\ttotal: 1.33s\tremaining: 1.99s\n",
      "400:\tlearn: 0.1885351\ttotal: 1.33s\tremaining: 1.99s\n",
      "401:\tlearn: 0.1884296\ttotal: 1.33s\tremaining: 1.98s\n",
      "402:\tlearn: 0.1883129\ttotal: 1.33s\tremaining: 1.98s\n",
      "403:\tlearn: 0.1882004\ttotal: 1.34s\tremaining: 1.98s\n",
      "404:\tlearn: 0.1880923\ttotal: 1.34s\tremaining: 1.97s\n",
      "405:\tlearn: 0.1879788\ttotal: 1.34s\tremaining: 1.97s\n",
      "406:\tlearn: 0.1879116\ttotal: 1.35s\tremaining: 1.96s\n",
      "407:\tlearn: 0.1878040\ttotal: 1.35s\tremaining: 1.96s\n",
      "408:\tlearn: 0.1875920\ttotal: 1.35s\tremaining: 1.96s\n",
      "409:\tlearn: 0.1874124\ttotal: 1.36s\tremaining: 1.95s\n",
      "410:\tlearn: 0.1872776\ttotal: 1.36s\tremaining: 1.95s\n",
      "411:\tlearn: 0.1871035\ttotal: 1.36s\tremaining: 1.95s\n",
      "412:\tlearn: 0.1870395\ttotal: 1.37s\tremaining: 1.94s\n",
      "413:\tlearn: 0.1869770\ttotal: 1.37s\tremaining: 1.94s\n",
      "414:\tlearn: 0.1867796\ttotal: 1.37s\tremaining: 1.94s\n",
      "415:\tlearn: 0.1865649\ttotal: 1.38s\tremaining: 1.93s\n",
      "416:\tlearn: 0.1864119\ttotal: 1.38s\tremaining: 1.93s\n",
      "417:\tlearn: 0.1863682\ttotal: 1.38s\tremaining: 1.92s\n",
      "418:\tlearn: 0.1863521\ttotal: 1.38s\tremaining: 1.92s\n",
      "419:\tlearn: 0.1863099\ttotal: 1.39s\tremaining: 1.92s\n",
      "420:\tlearn: 0.1862493\ttotal: 1.39s\tremaining: 1.91s\n",
      "421:\tlearn: 0.1862016\ttotal: 1.39s\tremaining: 1.91s\n",
      "422:\tlearn: 0.1858820\ttotal: 1.4s\tremaining: 1.91s\n",
      "423:\tlearn: 0.1858231\ttotal: 1.4s\tremaining: 1.9s\n",
      "424:\tlearn: 0.1855776\ttotal: 1.4s\tremaining: 1.9s\n",
      "425:\tlearn: 0.1854438\ttotal: 1.41s\tremaining: 1.9s\n",
      "426:\tlearn: 0.1852259\ttotal: 1.41s\tremaining: 1.89s\n",
      "427:\tlearn: 0.1851298\ttotal: 1.42s\tremaining: 1.89s\n",
      "428:\tlearn: 0.1849372\ttotal: 1.42s\tremaining: 1.89s\n",
      "429:\tlearn: 0.1847865\ttotal: 1.42s\tremaining: 1.88s\n",
      "430:\tlearn: 0.1846395\ttotal: 1.42s\tremaining: 1.88s\n",
      "431:\tlearn: 0.1845487\ttotal: 1.43s\tremaining: 1.88s\n",
      "432:\tlearn: 0.1843994\ttotal: 1.43s\tremaining: 1.87s\n",
      "433:\tlearn: 0.1842423\ttotal: 1.43s\tremaining: 1.87s\n",
      "434:\tlearn: 0.1841071\ttotal: 1.44s\tremaining: 1.86s\n",
      "435:\tlearn: 0.1839530\ttotal: 1.44s\tremaining: 1.86s\n",
      "436:\tlearn: 0.1837854\ttotal: 1.44s\tremaining: 1.86s\n",
      "437:\tlearn: 0.1835959\ttotal: 1.45s\tremaining: 1.85s\n",
      "438:\tlearn: 0.1834760\ttotal: 1.45s\tremaining: 1.85s\n",
      "439:\tlearn: 0.1833474\ttotal: 1.45s\tremaining: 1.85s\n",
      "440:\tlearn: 0.1831462\ttotal: 1.46s\tremaining: 1.84s\n",
      "441:\tlearn: 0.1830340\ttotal: 1.46s\tremaining: 1.84s\n",
      "442:\tlearn: 0.1828821\ttotal: 1.46s\tremaining: 1.84s\n",
      "443:\tlearn: 0.1827568\ttotal: 1.47s\tremaining: 1.83s\n",
      "444:\tlearn: 0.1825535\ttotal: 1.47s\tremaining: 1.83s\n",
      "445:\tlearn: 0.1825155\ttotal: 1.47s\tremaining: 1.83s\n",
      "446:\tlearn: 0.1823824\ttotal: 1.47s\tremaining: 1.82s\n",
      "447:\tlearn: 0.1822169\ttotal: 1.48s\tremaining: 1.82s\n",
      "448:\tlearn: 0.1820237\ttotal: 1.48s\tremaining: 1.81s\n",
      "449:\tlearn: 0.1819442\ttotal: 1.48s\tremaining: 1.81s\n",
      "450:\tlearn: 0.1818770\ttotal: 1.49s\tremaining: 1.81s\n",
      "451:\tlearn: 0.1816839\ttotal: 1.49s\tremaining: 1.8s\n",
      "452:\tlearn: 0.1815410\ttotal: 1.49s\tremaining: 1.8s\n",
      "453:\tlearn: 0.1814527\ttotal: 1.49s\tremaining: 1.8s\n",
      "454:\tlearn: 0.1813444\ttotal: 1.5s\tremaining: 1.79s\n",
      "455:\tlearn: 0.1812951\ttotal: 1.5s\tremaining: 1.79s\n",
      "456:\tlearn: 0.1810812\ttotal: 1.5s\tremaining: 1.78s\n",
      "457:\tlearn: 0.1810120\ttotal: 1.5s\tremaining: 1.78s\n",
      "458:\tlearn: 0.1808297\ttotal: 1.51s\tremaining: 1.78s\n",
      "459:\tlearn: 0.1806997\ttotal: 1.51s\tremaining: 1.77s\n",
      "460:\tlearn: 0.1805091\ttotal: 1.51s\tremaining: 1.77s\n",
      "461:\tlearn: 0.1803986\ttotal: 1.51s\tremaining: 1.76s\n",
      "462:\tlearn: 0.1802771\ttotal: 1.52s\tremaining: 1.76s\n",
      "463:\tlearn: 0.1801590\ttotal: 1.52s\tremaining: 1.76s\n",
      "464:\tlearn: 0.1800386\ttotal: 1.52s\tremaining: 1.75s\n",
      "465:\tlearn: 0.1798944\ttotal: 1.53s\tremaining: 1.75s\n",
      "466:\tlearn: 0.1796789\ttotal: 1.53s\tremaining: 1.75s\n",
      "467:\tlearn: 0.1795603\ttotal: 1.53s\tremaining: 1.74s\n",
      "468:\tlearn: 0.1794439\ttotal: 1.54s\tremaining: 1.74s\n",
      "469:\tlearn: 0.1793027\ttotal: 1.54s\tremaining: 1.74s\n",
      "470:\tlearn: 0.1791394\ttotal: 1.54s\tremaining: 1.73s\n",
      "471:\tlearn: 0.1790253\ttotal: 1.55s\tremaining: 1.73s\n",
      "472:\tlearn: 0.1789285\ttotal: 1.55s\tremaining: 1.73s\n",
      "473:\tlearn: 0.1787257\ttotal: 1.55s\tremaining: 1.72s\n",
      "474:\tlearn: 0.1786190\ttotal: 1.55s\tremaining: 1.72s\n",
      "475:\tlearn: 0.1785819\ttotal: 1.56s\tremaining: 1.72s\n",
      "476:\tlearn: 0.1784732\ttotal: 1.56s\tremaining: 1.71s\n",
      "477:\tlearn: 0.1782880\ttotal: 1.57s\tremaining: 1.71s\n",
      "478:\tlearn: 0.1781624\ttotal: 1.57s\tremaining: 1.71s\n",
      "479:\tlearn: 0.1780373\ttotal: 1.58s\tremaining: 1.71s\n",
      "480:\tlearn: 0.1778915\ttotal: 1.58s\tremaining: 1.71s\n",
      "481:\tlearn: 0.1777624\ttotal: 1.58s\tremaining: 1.7s\n",
      "482:\tlearn: 0.1776148\ttotal: 1.59s\tremaining: 1.7s\n",
      "483:\tlearn: 0.1774728\ttotal: 1.59s\tremaining: 1.7s\n",
      "484:\tlearn: 0.1772994\ttotal: 1.59s\tremaining: 1.69s\n",
      "485:\tlearn: 0.1771085\ttotal: 1.6s\tremaining: 1.69s\n",
      "486:\tlearn: 0.1769205\ttotal: 1.6s\tremaining: 1.69s\n",
      "487:\tlearn: 0.1768312\ttotal: 1.6s\tremaining: 1.68s\n",
      "488:\tlearn: 0.1766426\ttotal: 1.61s\tremaining: 1.68s\n",
      "489:\tlearn: 0.1764621\ttotal: 1.61s\tremaining: 1.67s\n",
      "490:\tlearn: 0.1763687\ttotal: 1.61s\tremaining: 1.67s\n"
     ]
    },
    {
     "name": "stdout",
     "output_type": "stream",
     "text": [
      "491:\tlearn: 0.1762914\ttotal: 1.62s\tremaining: 1.67s\n",
      "492:\tlearn: 0.1762488\ttotal: 1.62s\tremaining: 1.67s\n",
      "493:\tlearn: 0.1761348\ttotal: 1.62s\tremaining: 1.66s\n",
      "494:\tlearn: 0.1760434\ttotal: 1.63s\tremaining: 1.66s\n",
      "495:\tlearn: 0.1758767\ttotal: 1.63s\tremaining: 1.66s\n",
      "496:\tlearn: 0.1758314\ttotal: 1.63s\tremaining: 1.65s\n",
      "497:\tlearn: 0.1756934\ttotal: 1.64s\tremaining: 1.65s\n",
      "498:\tlearn: 0.1755547\ttotal: 1.64s\tremaining: 1.65s\n",
      "499:\tlearn: 0.1753931\ttotal: 1.64s\tremaining: 1.64s\n",
      "500:\tlearn: 0.1752315\ttotal: 1.65s\tremaining: 1.64s\n",
      "501:\tlearn: 0.1751359\ttotal: 1.65s\tremaining: 1.63s\n",
      "502:\tlearn: 0.1750105\ttotal: 1.65s\tremaining: 1.63s\n",
      "503:\tlearn: 0.1748759\ttotal: 1.65s\tremaining: 1.63s\n",
      "504:\tlearn: 0.1747287\ttotal: 1.66s\tremaining: 1.62s\n",
      "505:\tlearn: 0.1745981\ttotal: 1.66s\tremaining: 1.62s\n",
      "506:\tlearn: 0.1744359\ttotal: 1.66s\tremaining: 1.61s\n",
      "507:\tlearn: 0.1742587\ttotal: 1.66s\tremaining: 1.61s\n",
      "508:\tlearn: 0.1741496\ttotal: 1.67s\tremaining: 1.61s\n",
      "509:\tlearn: 0.1739487\ttotal: 1.67s\tremaining: 1.6s\n",
      "510:\tlearn: 0.1738140\ttotal: 1.67s\tremaining: 1.6s\n",
      "511:\tlearn: 0.1737263\ttotal: 1.68s\tremaining: 1.6s\n",
      "512:\tlearn: 0.1736710\ttotal: 1.68s\tremaining: 1.59s\n",
      "513:\tlearn: 0.1735527\ttotal: 1.68s\tremaining: 1.59s\n",
      "514:\tlearn: 0.1734391\ttotal: 1.68s\tremaining: 1.58s\n",
      "515:\tlearn: 0.1732952\ttotal: 1.69s\tremaining: 1.58s\n",
      "516:\tlearn: 0.1731143\ttotal: 1.69s\tremaining: 1.58s\n",
      "517:\tlearn: 0.1729727\ttotal: 1.69s\tremaining: 1.57s\n",
      "518:\tlearn: 0.1728464\ttotal: 1.7s\tremaining: 1.57s\n",
      "519:\tlearn: 0.1727713\ttotal: 1.7s\tremaining: 1.57s\n",
      "520:\tlearn: 0.1726978\ttotal: 1.7s\tremaining: 1.56s\n",
      "521:\tlearn: 0.1725920\ttotal: 1.71s\tremaining: 1.56s\n",
      "522:\tlearn: 0.1723668\ttotal: 1.71s\tremaining: 1.56s\n",
      "523:\tlearn: 0.1722415\ttotal: 1.71s\tremaining: 1.55s\n",
      "524:\tlearn: 0.1721376\ttotal: 1.71s\tremaining: 1.55s\n",
      "525:\tlearn: 0.1718861\ttotal: 1.72s\tremaining: 1.55s\n",
      "526:\tlearn: 0.1717236\ttotal: 1.72s\tremaining: 1.54s\n",
      "527:\tlearn: 0.1716032\ttotal: 1.72s\tremaining: 1.54s\n",
      "528:\tlearn: 0.1714652\ttotal: 1.72s\tremaining: 1.53s\n",
      "529:\tlearn: 0.1713071\ttotal: 1.73s\tremaining: 1.53s\n",
      "530:\tlearn: 0.1712558\ttotal: 1.73s\tremaining: 1.53s\n",
      "531:\tlearn: 0.1711280\ttotal: 1.74s\tremaining: 1.53s\n",
      "532:\tlearn: 0.1709223\ttotal: 1.74s\tremaining: 1.53s\n",
      "533:\tlearn: 0.1708205\ttotal: 1.75s\tremaining: 1.52s\n",
      "534:\tlearn: 0.1707230\ttotal: 1.75s\tremaining: 1.52s\n",
      "535:\tlearn: 0.1706216\ttotal: 1.75s\tremaining: 1.52s\n",
      "536:\tlearn: 0.1705091\ttotal: 1.76s\tremaining: 1.52s\n",
      "537:\tlearn: 0.1703966\ttotal: 1.76s\tremaining: 1.51s\n",
      "538:\tlearn: 0.1703174\ttotal: 1.77s\tremaining: 1.51s\n",
      "539:\tlearn: 0.1701580\ttotal: 1.77s\tremaining: 1.51s\n",
      "540:\tlearn: 0.1700556\ttotal: 1.77s\tremaining: 1.51s\n",
      "541:\tlearn: 0.1699595\ttotal: 1.78s\tremaining: 1.5s\n",
      "542:\tlearn: 0.1699150\ttotal: 1.78s\tremaining: 1.5s\n",
      "543:\tlearn: 0.1698382\ttotal: 1.79s\tremaining: 1.5s\n",
      "544:\tlearn: 0.1697683\ttotal: 1.79s\tremaining: 1.5s\n",
      "545:\tlearn: 0.1696328\ttotal: 1.8s\tremaining: 1.49s\n",
      "546:\tlearn: 0.1694890\ttotal: 1.8s\tremaining: 1.49s\n",
      "547:\tlearn: 0.1693011\ttotal: 1.81s\tremaining: 1.49s\n",
      "548:\tlearn: 0.1691828\ttotal: 1.81s\tremaining: 1.49s\n",
      "549:\tlearn: 0.1690276\ttotal: 1.81s\tremaining: 1.49s\n",
      "550:\tlearn: 0.1689314\ttotal: 1.82s\tremaining: 1.48s\n",
      "551:\tlearn: 0.1688775\ttotal: 1.82s\tremaining: 1.48s\n",
      "552:\tlearn: 0.1688249\ttotal: 1.83s\tremaining: 1.48s\n",
      "553:\tlearn: 0.1687684\ttotal: 1.83s\tremaining: 1.47s\n",
      "554:\tlearn: 0.1687256\ttotal: 1.83s\tremaining: 1.47s\n",
      "555:\tlearn: 0.1686026\ttotal: 1.84s\tremaining: 1.47s\n",
      "556:\tlearn: 0.1685003\ttotal: 1.84s\tremaining: 1.46s\n",
      "557:\tlearn: 0.1682870\ttotal: 1.84s\tremaining: 1.46s\n",
      "558:\tlearn: 0.1681477\ttotal: 1.85s\tremaining: 1.46s\n",
      "559:\tlearn: 0.1681063\ttotal: 1.85s\tremaining: 1.46s\n",
      "560:\tlearn: 0.1680155\ttotal: 1.86s\tremaining: 1.45s\n",
      "561:\tlearn: 0.1679437\ttotal: 1.86s\tremaining: 1.45s\n",
      "562:\tlearn: 0.1678131\ttotal: 1.87s\tremaining: 1.45s\n",
      "563:\tlearn: 0.1677012\ttotal: 1.87s\tremaining: 1.45s\n",
      "564:\tlearn: 0.1676551\ttotal: 1.88s\tremaining: 1.44s\n",
      "565:\tlearn: 0.1675637\ttotal: 1.88s\tremaining: 1.44s\n",
      "566:\tlearn: 0.1674673\ttotal: 1.88s\tremaining: 1.44s\n",
      "567:\tlearn: 0.1673196\ttotal: 1.89s\tremaining: 1.44s\n",
      "568:\tlearn: 0.1672449\ttotal: 1.89s\tremaining: 1.43s\n",
      "569:\tlearn: 0.1670989\ttotal: 1.9s\tremaining: 1.43s\n",
      "570:\tlearn: 0.1669350\ttotal: 1.9s\tremaining: 1.43s\n",
      "571:\tlearn: 0.1668001\ttotal: 1.91s\tremaining: 1.43s\n",
      "572:\tlearn: 0.1666899\ttotal: 1.91s\tremaining: 1.42s\n",
      "573:\tlearn: 0.1665664\ttotal: 1.91s\tremaining: 1.42s\n",
      "574:\tlearn: 0.1664518\ttotal: 1.92s\tremaining: 1.42s\n",
      "575:\tlearn: 0.1663102\ttotal: 1.92s\tremaining: 1.42s\n",
      "576:\tlearn: 0.1662369\ttotal: 1.93s\tremaining: 1.41s\n",
      "577:\tlearn: 0.1661779\ttotal: 1.93s\tremaining: 1.41s\n",
      "578:\tlearn: 0.1661095\ttotal: 1.94s\tremaining: 1.41s\n",
      "579:\tlearn: 0.1660724\ttotal: 1.94s\tremaining: 1.4s\n",
      "580:\tlearn: 0.1659714\ttotal: 1.94s\tremaining: 1.4s\n",
      "581:\tlearn: 0.1658328\ttotal: 1.95s\tremaining: 1.4s\n",
      "582:\tlearn: 0.1656836\ttotal: 1.95s\tremaining: 1.4s\n",
      "583:\tlearn: 0.1656203\ttotal: 1.96s\tremaining: 1.39s\n",
      "584:\tlearn: 0.1655018\ttotal: 1.96s\tremaining: 1.39s\n",
      "585:\tlearn: 0.1653510\ttotal: 1.97s\tremaining: 1.39s\n",
      "586:\tlearn: 0.1652416\ttotal: 1.97s\tremaining: 1.39s\n",
      "587:\tlearn: 0.1651360\ttotal: 1.98s\tremaining: 1.38s\n",
      "588:\tlearn: 0.1649770\ttotal: 1.98s\tremaining: 1.38s\n",
      "589:\tlearn: 0.1648342\ttotal: 1.98s\tremaining: 1.38s\n",
      "590:\tlearn: 0.1647022\ttotal: 1.99s\tremaining: 1.38s\n",
      "591:\tlearn: 0.1645884\ttotal: 1.99s\tremaining: 1.37s\n",
      "592:\tlearn: 0.1645156\ttotal: 2s\tremaining: 1.37s\n",
      "593:\tlearn: 0.1643965\ttotal: 2s\tremaining: 1.37s\n",
      "594:\tlearn: 0.1642813\ttotal: 2s\tremaining: 1.36s\n",
      "595:\tlearn: 0.1641314\ttotal: 2.01s\tremaining: 1.36s\n",
      "596:\tlearn: 0.1639637\ttotal: 2.01s\tremaining: 1.36s\n",
      "597:\tlearn: 0.1638223\ttotal: 2.01s\tremaining: 1.35s\n",
      "598:\tlearn: 0.1637192\ttotal: 2.02s\tremaining: 1.35s\n",
      "599:\tlearn: 0.1636669\ttotal: 2.02s\tremaining: 1.35s\n",
      "600:\tlearn: 0.1635275\ttotal: 2.02s\tremaining: 1.34s\n",
      "601:\tlearn: 0.1634464\ttotal: 2.02s\tremaining: 1.34s\n",
      "602:\tlearn: 0.1633540\ttotal: 2.03s\tremaining: 1.33s\n",
      "603:\tlearn: 0.1632255\ttotal: 2.03s\tremaining: 1.33s\n",
      "604:\tlearn: 0.1631161\ttotal: 2.03s\tremaining: 1.33s\n",
      "605:\tlearn: 0.1629363\ttotal: 2.04s\tremaining: 1.32s\n",
      "606:\tlearn: 0.1627952\ttotal: 2.04s\tremaining: 1.32s\n",
      "607:\tlearn: 0.1627313\ttotal: 2.04s\tremaining: 1.32s\n",
      "608:\tlearn: 0.1626804\ttotal: 2.05s\tremaining: 1.31s\n",
      "609:\tlearn: 0.1625942\ttotal: 2.05s\tremaining: 1.31s\n",
      "610:\tlearn: 0.1624937\ttotal: 2.06s\tremaining: 1.31s\n",
      "611:\tlearn: 0.1624352\ttotal: 2.06s\tremaining: 1.3s\n",
      "612:\tlearn: 0.1622757\ttotal: 2.06s\tremaining: 1.3s\n",
      "613:\tlearn: 0.1621665\ttotal: 2.06s\tremaining: 1.3s\n",
      "614:\tlearn: 0.1620135\ttotal: 2.07s\tremaining: 1.29s\n",
      "615:\tlearn: 0.1619095\ttotal: 2.07s\tremaining: 1.29s\n",
      "616:\tlearn: 0.1618587\ttotal: 2.07s\tremaining: 1.29s\n",
      "617:\tlearn: 0.1616991\ttotal: 2.08s\tremaining: 1.28s\n",
      "618:\tlearn: 0.1616497\ttotal: 2.08s\tremaining: 1.28s\n",
      "619:\tlearn: 0.1615605\ttotal: 2.08s\tremaining: 1.28s\n",
      "620:\tlearn: 0.1614630\ttotal: 2.08s\tremaining: 1.27s\n",
      "621:\tlearn: 0.1612837\ttotal: 2.09s\tremaining: 1.27s\n",
      "622:\tlearn: 0.1612195\ttotal: 2.09s\tremaining: 1.27s\n",
      "623:\tlearn: 0.1611264\ttotal: 2.1s\tremaining: 1.26s\n",
      "624:\tlearn: 0.1610148\ttotal: 2.1s\tremaining: 1.26s\n",
      "625:\tlearn: 0.1609628\ttotal: 2.1s\tremaining: 1.26s\n",
      "626:\tlearn: 0.1608096\ttotal: 2.11s\tremaining: 1.25s\n",
      "627:\tlearn: 0.1606548\ttotal: 2.11s\tremaining: 1.25s\n",
      "628:\tlearn: 0.1605323\ttotal: 2.11s\tremaining: 1.25s\n",
      "629:\tlearn: 0.1604518\ttotal: 2.12s\tremaining: 1.24s\n",
      "630:\tlearn: 0.1603062\ttotal: 2.12s\tremaining: 1.24s\n",
      "631:\tlearn: 0.1602157\ttotal: 2.12s\tremaining: 1.24s\n",
      "632:\tlearn: 0.1601676\ttotal: 2.12s\tremaining: 1.23s\n",
      "633:\tlearn: 0.1600220\ttotal: 2.13s\tremaining: 1.23s\n",
      "634:\tlearn: 0.1599012\ttotal: 2.13s\tremaining: 1.23s\n",
      "635:\tlearn: 0.1598267\ttotal: 2.13s\tremaining: 1.22s\n",
      "636:\tlearn: 0.1597403\ttotal: 2.14s\tremaining: 1.22s\n",
      "637:\tlearn: 0.1596289\ttotal: 2.14s\tremaining: 1.21s\n",
      "638:\tlearn: 0.1595901\ttotal: 2.15s\tremaining: 1.21s\n",
      "639:\tlearn: 0.1594451\ttotal: 2.15s\tremaining: 1.21s\n",
      "640:\tlearn: 0.1593249\ttotal: 2.15s\tremaining: 1.2s\n",
      "641:\tlearn: 0.1592296\ttotal: 2.15s\tremaining: 1.2s\n",
      "642:\tlearn: 0.1591759\ttotal: 2.16s\tremaining: 1.2s\n",
      "643:\tlearn: 0.1590545\ttotal: 2.16s\tremaining: 1.19s\n",
      "644:\tlearn: 0.1589589\ttotal: 2.16s\tremaining: 1.19s\n",
      "645:\tlearn: 0.1588084\ttotal: 2.17s\tremaining: 1.19s\n",
      "646:\tlearn: 0.1587521\ttotal: 2.17s\tremaining: 1.18s\n",
      "647:\tlearn: 0.1586975\ttotal: 2.17s\tremaining: 1.18s\n",
      "648:\tlearn: 0.1586400\ttotal: 2.17s\tremaining: 1.18s\n",
      "649:\tlearn: 0.1585353\ttotal: 2.18s\tremaining: 1.17s\n",
      "650:\tlearn: 0.1583981\ttotal: 2.18s\tremaining: 1.17s\n",
      "651:\tlearn: 0.1582963\ttotal: 2.18s\tremaining: 1.16s\n",
      "652:\tlearn: 0.1582023\ttotal: 2.19s\tremaining: 1.16s\n",
      "653:\tlearn: 0.1581318\ttotal: 2.19s\tremaining: 1.16s\n",
      "654:\tlearn: 0.1580798\ttotal: 2.19s\tremaining: 1.15s\n",
      "655:\tlearn: 0.1579734\ttotal: 2.19s\tremaining: 1.15s\n",
      "656:\tlearn: 0.1578698\ttotal: 2.2s\tremaining: 1.15s\n",
      "657:\tlearn: 0.1578186\ttotal: 2.2s\tremaining: 1.14s\n",
      "658:\tlearn: 0.1576862\ttotal: 2.2s\tremaining: 1.14s\n",
      "659:\tlearn: 0.1575909\ttotal: 2.21s\tremaining: 1.14s\n",
      "660:\tlearn: 0.1575123\ttotal: 2.21s\tremaining: 1.13s\n",
      "661:\tlearn: 0.1573708\ttotal: 2.21s\tremaining: 1.13s\n"
     ]
    },
    {
     "name": "stdout",
     "output_type": "stream",
     "text": [
      "662:\tlearn: 0.1573072\ttotal: 2.21s\tremaining: 1.13s\n",
      "663:\tlearn: 0.1572274\ttotal: 2.22s\tremaining: 1.12s\n",
      "664:\tlearn: 0.1571742\ttotal: 2.22s\tremaining: 1.12s\n",
      "665:\tlearn: 0.1570674\ttotal: 2.22s\tremaining: 1.11s\n",
      "666:\tlearn: 0.1569599\ttotal: 2.23s\tremaining: 1.11s\n",
      "667:\tlearn: 0.1569080\ttotal: 2.23s\tremaining: 1.11s\n",
      "668:\tlearn: 0.1568733\ttotal: 2.23s\tremaining: 1.1s\n",
      "669:\tlearn: 0.1568091\ttotal: 2.24s\tremaining: 1.1s\n",
      "670:\tlearn: 0.1566693\ttotal: 2.24s\tremaining: 1.1s\n",
      "671:\tlearn: 0.1565951\ttotal: 2.24s\tremaining: 1.09s\n",
      "672:\tlearn: 0.1564283\ttotal: 2.25s\tremaining: 1.09s\n",
      "673:\tlearn: 0.1562875\ttotal: 2.25s\tremaining: 1.09s\n",
      "674:\tlearn: 0.1562526\ttotal: 2.25s\tremaining: 1.08s\n",
      "675:\tlearn: 0.1561673\ttotal: 2.26s\tremaining: 1.08s\n",
      "676:\tlearn: 0.1560740\ttotal: 2.26s\tremaining: 1.08s\n",
      "677:\tlearn: 0.1560155\ttotal: 2.26s\tremaining: 1.07s\n",
      "678:\tlearn: 0.1559825\ttotal: 2.27s\tremaining: 1.07s\n",
      "679:\tlearn: 0.1559214\ttotal: 2.27s\tremaining: 1.07s\n",
      "680:\tlearn: 0.1558170\ttotal: 2.27s\tremaining: 1.06s\n",
      "681:\tlearn: 0.1557440\ttotal: 2.28s\tremaining: 1.06s\n",
      "682:\tlearn: 0.1556369\ttotal: 2.28s\tremaining: 1.06s\n",
      "683:\tlearn: 0.1555842\ttotal: 2.28s\tremaining: 1.05s\n",
      "684:\tlearn: 0.1554855\ttotal: 2.29s\tremaining: 1.05s\n",
      "685:\tlearn: 0.1553625\ttotal: 2.29s\tremaining: 1.05s\n",
      "686:\tlearn: 0.1552305\ttotal: 2.29s\tremaining: 1.04s\n",
      "687:\tlearn: 0.1551669\ttotal: 2.3s\tremaining: 1.04s\n",
      "688:\tlearn: 0.1551167\ttotal: 2.3s\tremaining: 1.04s\n",
      "689:\tlearn: 0.1549919\ttotal: 2.3s\tremaining: 1.03s\n",
      "690:\tlearn: 0.1549577\ttotal: 2.31s\tremaining: 1.03s\n",
      "691:\tlearn: 0.1548668\ttotal: 2.31s\tremaining: 1.03s\n",
      "692:\tlearn: 0.1547304\ttotal: 2.32s\tremaining: 1.03s\n",
      "693:\tlearn: 0.1546619\ttotal: 2.32s\tremaining: 1.02s\n",
      "694:\tlearn: 0.1545863\ttotal: 2.32s\tremaining: 1.02s\n",
      "695:\tlearn: 0.1545272\ttotal: 2.33s\tremaining: 1.01s\n",
      "696:\tlearn: 0.1544851\ttotal: 2.33s\tremaining: 1.01s\n",
      "697:\tlearn: 0.1544279\ttotal: 2.33s\tremaining: 1.01s\n",
      "698:\tlearn: 0.1543770\ttotal: 2.33s\tremaining: 1s\n",
      "699:\tlearn: 0.1543294\ttotal: 2.34s\tremaining: 1s\n",
      "700:\tlearn: 0.1542208\ttotal: 2.34s\tremaining: 998ms\n",
      "701:\tlearn: 0.1541463\ttotal: 2.34s\tremaining: 995ms\n",
      "702:\tlearn: 0.1540331\ttotal: 2.35s\tremaining: 991ms\n",
      "703:\tlearn: 0.1539219\ttotal: 2.35s\tremaining: 988ms\n",
      "704:\tlearn: 0.1538289\ttotal: 2.35s\tremaining: 984ms\n",
      "705:\tlearn: 0.1537276\ttotal: 2.35s\tremaining: 981ms\n",
      "706:\tlearn: 0.1536451\ttotal: 2.36s\tremaining: 977ms\n",
      "707:\tlearn: 0.1535367\ttotal: 2.36s\tremaining: 974ms\n",
      "708:\tlearn: 0.1534191\ttotal: 2.37s\tremaining: 971ms\n",
      "709:\tlearn: 0.1533340\ttotal: 2.37s\tremaining: 967ms\n",
      "710:\tlearn: 0.1532284\ttotal: 2.37s\tremaining: 964ms\n",
      "711:\tlearn: 0.1531907\ttotal: 2.37s\tremaining: 960ms\n",
      "712:\tlearn: 0.1530973\ttotal: 2.38s\tremaining: 957ms\n",
      "713:\tlearn: 0.1530081\ttotal: 2.38s\tremaining: 954ms\n",
      "714:\tlearn: 0.1529548\ttotal: 2.38s\tremaining: 950ms\n",
      "715:\tlearn: 0.1528203\ttotal: 2.39s\tremaining: 948ms\n",
      "716:\tlearn: 0.1527260\ttotal: 2.39s\tremaining: 944ms\n",
      "717:\tlearn: 0.1526522\ttotal: 2.4s\tremaining: 941ms\n",
      "718:\tlearn: 0.1526118\ttotal: 2.4s\tremaining: 937ms\n",
      "719:\tlearn: 0.1524812\ttotal: 2.4s\tremaining: 934ms\n",
      "720:\tlearn: 0.1524140\ttotal: 2.4s\tremaining: 930ms\n",
      "721:\tlearn: 0.1522951\ttotal: 2.41s\tremaining: 927ms\n",
      "722:\tlearn: 0.1522669\ttotal: 2.41s\tremaining: 924ms\n",
      "723:\tlearn: 0.1521812\ttotal: 2.42s\tremaining: 921ms\n",
      "724:\tlearn: 0.1520711\ttotal: 2.42s\tremaining: 918ms\n",
      "725:\tlearn: 0.1520383\ttotal: 2.42s\tremaining: 915ms\n",
      "726:\tlearn: 0.1519596\ttotal: 2.43s\tremaining: 912ms\n",
      "727:\tlearn: 0.1518621\ttotal: 2.44s\tremaining: 910ms\n",
      "728:\tlearn: 0.1517160\ttotal: 2.44s\tremaining: 907ms\n",
      "729:\tlearn: 0.1516241\ttotal: 2.44s\tremaining: 904ms\n",
      "730:\tlearn: 0.1515686\ttotal: 2.45s\tremaining: 901ms\n",
      "731:\tlearn: 0.1515412\ttotal: 2.45s\tremaining: 897ms\n",
      "732:\tlearn: 0.1514696\ttotal: 2.45s\tremaining: 894ms\n",
      "733:\tlearn: 0.1513304\ttotal: 2.46s\tremaining: 891ms\n",
      "734:\tlearn: 0.1512323\ttotal: 2.46s\tremaining: 887ms\n",
      "735:\tlearn: 0.1511815\ttotal: 2.46s\tremaining: 884ms\n",
      "736:\tlearn: 0.1510590\ttotal: 2.47s\tremaining: 880ms\n",
      "737:\tlearn: 0.1510212\ttotal: 2.47s\tremaining: 877ms\n",
      "738:\tlearn: 0.1509370\ttotal: 2.47s\tremaining: 874ms\n",
      "739:\tlearn: 0.1508693\ttotal: 2.48s\tremaining: 870ms\n",
      "740:\tlearn: 0.1507756\ttotal: 2.48s\tremaining: 867ms\n",
      "741:\tlearn: 0.1507274\ttotal: 2.48s\tremaining: 864ms\n",
      "742:\tlearn: 0.1506502\ttotal: 2.49s\tremaining: 861ms\n",
      "743:\tlearn: 0.1505353\ttotal: 2.49s\tremaining: 857ms\n",
      "744:\tlearn: 0.1504137\ttotal: 2.5s\tremaining: 854ms\n",
      "745:\tlearn: 0.1503752\ttotal: 2.5s\tremaining: 851ms\n",
      "746:\tlearn: 0.1503374\ttotal: 2.5s\tremaining: 847ms\n",
      "747:\tlearn: 0.1502906\ttotal: 2.5s\tremaining: 844ms\n",
      "748:\tlearn: 0.1502221\ttotal: 2.51s\tremaining: 840ms\n",
      "749:\tlearn: 0.1501453\ttotal: 2.51s\tremaining: 837ms\n",
      "750:\tlearn: 0.1500885\ttotal: 2.51s\tremaining: 833ms\n",
      "751:\tlearn: 0.1499941\ttotal: 2.52s\tremaining: 830ms\n",
      "752:\tlearn: 0.1499095\ttotal: 2.52s\tremaining: 826ms\n",
      "753:\tlearn: 0.1498673\ttotal: 2.52s\tremaining: 823ms\n",
      "754:\tlearn: 0.1498052\ttotal: 2.52s\tremaining: 820ms\n",
      "755:\tlearn: 0.1497389\ttotal: 2.53s\tremaining: 816ms\n",
      "756:\tlearn: 0.1496820\ttotal: 2.53s\tremaining: 813ms\n",
      "757:\tlearn: 0.1496433\ttotal: 2.54s\tremaining: 810ms\n",
      "758:\tlearn: 0.1495822\ttotal: 2.54s\tremaining: 806ms\n",
      "759:\tlearn: 0.1495328\ttotal: 2.54s\tremaining: 803ms\n",
      "760:\tlearn: 0.1495048\ttotal: 2.54s\tremaining: 799ms\n",
      "761:\tlearn: 0.1494715\ttotal: 2.55s\tremaining: 796ms\n",
      "762:\tlearn: 0.1494363\ttotal: 2.55s\tremaining: 792ms\n",
      "763:\tlearn: 0.1493486\ttotal: 2.55s\tremaining: 789ms\n",
      "764:\tlearn: 0.1492292\ttotal: 2.56s\tremaining: 786ms\n",
      "765:\tlearn: 0.1491332\ttotal: 2.56s\tremaining: 783ms\n",
      "766:\tlearn: 0.1490455\ttotal: 2.56s\tremaining: 779ms\n",
      "767:\tlearn: 0.1489141\ttotal: 2.57s\tremaining: 776ms\n",
      "768:\tlearn: 0.1488815\ttotal: 2.57s\tremaining: 772ms\n",
      "769:\tlearn: 0.1488055\ttotal: 2.57s\tremaining: 769ms\n",
      "770:\tlearn: 0.1487343\ttotal: 2.58s\tremaining: 765ms\n",
      "771:\tlearn: 0.1486575\ttotal: 2.58s\tremaining: 762ms\n",
      "772:\tlearn: 0.1485188\ttotal: 2.58s\tremaining: 759ms\n",
      "773:\tlearn: 0.1484722\ttotal: 2.59s\tremaining: 756ms\n",
      "774:\tlearn: 0.1483735\ttotal: 2.59s\tremaining: 752ms\n",
      "775:\tlearn: 0.1482249\ttotal: 2.59s\tremaining: 749ms\n",
      "776:\tlearn: 0.1480945\ttotal: 2.6s\tremaining: 745ms\n",
      "777:\tlearn: 0.1480677\ttotal: 2.6s\tremaining: 742ms\n",
      "778:\tlearn: 0.1480260\ttotal: 2.6s\tremaining: 739ms\n",
      "779:\tlearn: 0.1478857\ttotal: 2.61s\tremaining: 735ms\n",
      "780:\tlearn: 0.1478581\ttotal: 2.61s\tremaining: 732ms\n",
      "781:\tlearn: 0.1478243\ttotal: 2.61s\tremaining: 729ms\n",
      "782:\tlearn: 0.1477000\ttotal: 2.62s\tremaining: 725ms\n",
      "783:\tlearn: 0.1476648\ttotal: 2.62s\tremaining: 722ms\n",
      "784:\tlearn: 0.1475960\ttotal: 2.62s\tremaining: 719ms\n",
      "785:\tlearn: 0.1475136\ttotal: 2.63s\tremaining: 715ms\n",
      "786:\tlearn: 0.1473385\ttotal: 2.63s\tremaining: 712ms\n",
      "787:\tlearn: 0.1472440\ttotal: 2.63s\tremaining: 708ms\n",
      "788:\tlearn: 0.1471844\ttotal: 2.63s\tremaining: 705ms\n",
      "789:\tlearn: 0.1470820\ttotal: 2.64s\tremaining: 701ms\n",
      "790:\tlearn: 0.1469292\ttotal: 2.64s\tremaining: 698ms\n",
      "791:\tlearn: 0.1467988\ttotal: 2.65s\tremaining: 695ms\n",
      "792:\tlearn: 0.1466872\ttotal: 2.65s\tremaining: 691ms\n",
      "793:\tlearn: 0.1466018\ttotal: 2.65s\tremaining: 688ms\n",
      "794:\tlearn: 0.1465720\ttotal: 2.65s\tremaining: 685ms\n",
      "795:\tlearn: 0.1465238\ttotal: 2.66s\tremaining: 681ms\n",
      "796:\tlearn: 0.1464567\ttotal: 2.66s\tremaining: 678ms\n",
      "797:\tlearn: 0.1463803\ttotal: 2.66s\tremaining: 674ms\n",
      "798:\tlearn: 0.1463031\ttotal: 2.67s\tremaining: 671ms\n",
      "799:\tlearn: 0.1462454\ttotal: 2.67s\tremaining: 668ms\n",
      "800:\tlearn: 0.1461937\ttotal: 2.67s\tremaining: 664ms\n",
      "801:\tlearn: 0.1461043\ttotal: 2.67s\tremaining: 661ms\n",
      "802:\tlearn: 0.1459697\ttotal: 2.68s\tremaining: 657ms\n",
      "803:\tlearn: 0.1459263\ttotal: 2.68s\tremaining: 654ms\n",
      "804:\tlearn: 0.1458433\ttotal: 2.68s\tremaining: 650ms\n",
      "805:\tlearn: 0.1457600\ttotal: 2.69s\tremaining: 647ms\n",
      "806:\tlearn: 0.1456599\ttotal: 2.69s\tremaining: 643ms\n",
      "807:\tlearn: 0.1455572\ttotal: 2.69s\tremaining: 640ms\n",
      "808:\tlearn: 0.1454215\ttotal: 2.7s\tremaining: 637ms\n",
      "809:\tlearn: 0.1453819\ttotal: 2.7s\tremaining: 633ms\n",
      "810:\tlearn: 0.1452993\ttotal: 2.7s\tremaining: 630ms\n",
      "811:\tlearn: 0.1452006\ttotal: 2.71s\tremaining: 626ms\n",
      "812:\tlearn: 0.1451349\ttotal: 2.71s\tremaining: 623ms\n",
      "813:\tlearn: 0.1451104\ttotal: 2.71s\tremaining: 619ms\n",
      "814:\tlearn: 0.1450688\ttotal: 2.71s\tremaining: 616ms\n",
      "815:\tlearn: 0.1449593\ttotal: 2.72s\tremaining: 613ms\n",
      "816:\tlearn: 0.1448544\ttotal: 2.72s\tremaining: 609ms\n",
      "817:\tlearn: 0.1448256\ttotal: 2.72s\tremaining: 606ms\n",
      "818:\tlearn: 0.1447575\ttotal: 2.73s\tremaining: 602ms\n",
      "819:\tlearn: 0.1446894\ttotal: 2.73s\tremaining: 599ms\n",
      "820:\tlearn: 0.1446625\ttotal: 2.73s\tremaining: 596ms\n",
      "821:\tlearn: 0.1445255\ttotal: 2.74s\tremaining: 593ms\n",
      "822:\tlearn: 0.1444062\ttotal: 2.74s\tremaining: 589ms\n",
      "823:\tlearn: 0.1443755\ttotal: 2.74s\tremaining: 586ms\n",
      "824:\tlearn: 0.1443270\ttotal: 2.74s\tremaining: 582ms\n",
      "825:\tlearn: 0.1442825\ttotal: 2.75s\tremaining: 579ms\n",
      "826:\tlearn: 0.1442457\ttotal: 2.75s\tremaining: 575ms\n",
      "827:\tlearn: 0.1441702\ttotal: 2.75s\tremaining: 572ms\n"
     ]
    },
    {
     "name": "stdout",
     "output_type": "stream",
     "text": [
      "828:\tlearn: 0.1440917\ttotal: 2.76s\tremaining: 569ms\n",
      "829:\tlearn: 0.1440581\ttotal: 2.76s\tremaining: 566ms\n",
      "830:\tlearn: 0.1440362\ttotal: 2.76s\tremaining: 562ms\n",
      "831:\tlearn: 0.1439747\ttotal: 2.77s\tremaining: 559ms\n",
      "832:\tlearn: 0.1438367\ttotal: 2.77s\tremaining: 556ms\n",
      "833:\tlearn: 0.1437890\ttotal: 2.77s\tremaining: 552ms\n",
      "834:\tlearn: 0.1437567\ttotal: 2.78s\tremaining: 549ms\n",
      "835:\tlearn: 0.1436749\ttotal: 2.78s\tremaining: 545ms\n",
      "836:\tlearn: 0.1436231\ttotal: 2.78s\tremaining: 542ms\n",
      "837:\tlearn: 0.1435632\ttotal: 2.79s\tremaining: 539ms\n",
      "838:\tlearn: 0.1434537\ttotal: 2.79s\tremaining: 535ms\n",
      "839:\tlearn: 0.1433332\ttotal: 2.79s\tremaining: 532ms\n",
      "840:\tlearn: 0.1432647\ttotal: 2.79s\tremaining: 528ms\n",
      "841:\tlearn: 0.1431219\ttotal: 2.8s\tremaining: 525ms\n",
      "842:\tlearn: 0.1430389\ttotal: 2.8s\tremaining: 522ms\n",
      "843:\tlearn: 0.1429865\ttotal: 2.8s\tremaining: 518ms\n",
      "844:\tlearn: 0.1428720\ttotal: 2.81s\tremaining: 515ms\n",
      "845:\tlearn: 0.1427973\ttotal: 2.81s\tremaining: 511ms\n",
      "846:\tlearn: 0.1427492\ttotal: 2.81s\tremaining: 508ms\n",
      "847:\tlearn: 0.1427343\ttotal: 2.82s\tremaining: 505ms\n",
      "848:\tlearn: 0.1426418\ttotal: 2.82s\tremaining: 501ms\n",
      "849:\tlearn: 0.1425727\ttotal: 2.82s\tremaining: 498ms\n",
      "850:\tlearn: 0.1424414\ttotal: 2.83s\tremaining: 495ms\n",
      "851:\tlearn: 0.1423425\ttotal: 2.83s\tremaining: 492ms\n",
      "852:\tlearn: 0.1422540\ttotal: 2.83s\tremaining: 488ms\n",
      "853:\tlearn: 0.1422058\ttotal: 2.83s\tremaining: 485ms\n",
      "854:\tlearn: 0.1421269\ttotal: 2.84s\tremaining: 481ms\n",
      "855:\tlearn: 0.1421061\ttotal: 2.84s\tremaining: 478ms\n",
      "856:\tlearn: 0.1420181\ttotal: 2.84s\tremaining: 475ms\n",
      "857:\tlearn: 0.1419338\ttotal: 2.85s\tremaining: 471ms\n",
      "858:\tlearn: 0.1418375\ttotal: 2.85s\tremaining: 468ms\n",
      "859:\tlearn: 0.1418149\ttotal: 2.85s\tremaining: 464ms\n",
      "860:\tlearn: 0.1417806\ttotal: 2.85s\tremaining: 461ms\n",
      "861:\tlearn: 0.1417160\ttotal: 2.86s\tremaining: 458ms\n",
      "862:\tlearn: 0.1416486\ttotal: 2.86s\tremaining: 454ms\n",
      "863:\tlearn: 0.1415398\ttotal: 2.87s\tremaining: 451ms\n",
      "864:\tlearn: 0.1415045\ttotal: 2.88s\tremaining: 449ms\n",
      "865:\tlearn: 0.1414561\ttotal: 2.88s\tremaining: 446ms\n",
      "866:\tlearn: 0.1413834\ttotal: 2.89s\tremaining: 443ms\n",
      "867:\tlearn: 0.1413124\ttotal: 2.9s\tremaining: 441ms\n",
      "868:\tlearn: 0.1412507\ttotal: 2.91s\tremaining: 438ms\n",
      "869:\tlearn: 0.1411978\ttotal: 2.91s\tremaining: 435ms\n",
      "870:\tlearn: 0.1411192\ttotal: 2.92s\tremaining: 432ms\n",
      "871:\tlearn: 0.1410582\ttotal: 2.92s\tremaining: 429ms\n",
      "872:\tlearn: 0.1410099\ttotal: 2.93s\tremaining: 426ms\n",
      "873:\tlearn: 0.1409413\ttotal: 2.94s\tremaining: 423ms\n",
      "874:\tlearn: 0.1408803\ttotal: 2.94s\tremaining: 421ms\n",
      "875:\tlearn: 0.1408413\ttotal: 2.95s\tremaining: 417ms\n",
      "876:\tlearn: 0.1407780\ttotal: 2.95s\tremaining: 414ms\n",
      "877:\tlearn: 0.1406815\ttotal: 2.96s\tremaining: 411ms\n",
      "878:\tlearn: 0.1405966\ttotal: 2.96s\tremaining: 408ms\n",
      "879:\tlearn: 0.1405098\ttotal: 2.97s\tremaining: 405ms\n",
      "880:\tlearn: 0.1404083\ttotal: 2.97s\tremaining: 402ms\n",
      "881:\tlearn: 0.1403611\ttotal: 2.98s\tremaining: 399ms\n",
      "882:\tlearn: 0.1402575\ttotal: 2.99s\tremaining: 396ms\n",
      "883:\tlearn: 0.1402030\ttotal: 2.99s\tremaining: 393ms\n",
      "884:\tlearn: 0.1401346\ttotal: 3s\tremaining: 389ms\n",
      "885:\tlearn: 0.1400540\ttotal: 3s\tremaining: 386ms\n",
      "886:\tlearn: 0.1400244\ttotal: 3.01s\tremaining: 383ms\n",
      "887:\tlearn: 0.1398392\ttotal: 3.01s\tremaining: 380ms\n",
      "888:\tlearn: 0.1398101\ttotal: 3.02s\tremaining: 377ms\n",
      "889:\tlearn: 0.1397323\ttotal: 3.02s\tremaining: 373ms\n",
      "890:\tlearn: 0.1397129\ttotal: 3.03s\tremaining: 370ms\n",
      "891:\tlearn: 0.1396333\ttotal: 3.03s\tremaining: 367ms\n",
      "892:\tlearn: 0.1395507\ttotal: 3.04s\tremaining: 364ms\n",
      "893:\tlearn: 0.1394444\ttotal: 3.04s\tremaining: 361ms\n",
      "894:\tlearn: 0.1393960\ttotal: 3.04s\tremaining: 357ms\n",
      "895:\tlearn: 0.1393749\ttotal: 3.05s\tremaining: 354ms\n",
      "896:\tlearn: 0.1392816\ttotal: 3.06s\tremaining: 351ms\n",
      "897:\tlearn: 0.1392454\ttotal: 3.06s\tremaining: 348ms\n",
      "898:\tlearn: 0.1391769\ttotal: 3.06s\tremaining: 344ms\n",
      "899:\tlearn: 0.1391013\ttotal: 3.07s\tremaining: 341ms\n",
      "900:\tlearn: 0.1390011\ttotal: 3.08s\tremaining: 338ms\n",
      "901:\tlearn: 0.1389403\ttotal: 3.08s\tremaining: 335ms\n",
      "902:\tlearn: 0.1388634\ttotal: 3.09s\tremaining: 332ms\n",
      "903:\tlearn: 0.1388223\ttotal: 3.09s\tremaining: 328ms\n",
      "904:\tlearn: 0.1387599\ttotal: 3.1s\tremaining: 325ms\n",
      "905:\tlearn: 0.1387249\ttotal: 3.1s\tremaining: 322ms\n",
      "906:\tlearn: 0.1386832\ttotal: 3.11s\tremaining: 319ms\n",
      "907:\tlearn: 0.1386334\ttotal: 3.12s\tremaining: 316ms\n",
      "908:\tlearn: 0.1385930\ttotal: 3.12s\tremaining: 312ms\n",
      "909:\tlearn: 0.1385374\ttotal: 3.12s\tremaining: 309ms\n",
      "910:\tlearn: 0.1385101\ttotal: 3.13s\tremaining: 306ms\n",
      "911:\tlearn: 0.1384797\ttotal: 3.14s\tremaining: 303ms\n",
      "912:\tlearn: 0.1383654\ttotal: 3.14s\tremaining: 299ms\n",
      "913:\tlearn: 0.1382801\ttotal: 3.15s\tremaining: 296ms\n",
      "914:\tlearn: 0.1382421\ttotal: 3.15s\tremaining: 293ms\n",
      "915:\tlearn: 0.1381512\ttotal: 3.16s\tremaining: 289ms\n",
      "916:\tlearn: 0.1380935\ttotal: 3.16s\tremaining: 286ms\n",
      "917:\tlearn: 0.1380372\ttotal: 3.17s\tremaining: 283ms\n",
      "918:\tlearn: 0.1379220\ttotal: 3.17s\tremaining: 280ms\n",
      "919:\tlearn: 0.1379002\ttotal: 3.18s\tremaining: 276ms\n",
      "920:\tlearn: 0.1378592\ttotal: 3.18s\tremaining: 273ms\n",
      "921:\tlearn: 0.1377536\ttotal: 3.19s\tremaining: 270ms\n",
      "922:\tlearn: 0.1377097\ttotal: 3.19s\tremaining: 266ms\n",
      "923:\tlearn: 0.1375966\ttotal: 3.2s\tremaining: 263ms\n",
      "924:\tlearn: 0.1375264\ttotal: 3.2s\tremaining: 260ms\n",
      "925:\tlearn: 0.1374886\ttotal: 3.21s\tremaining: 256ms\n",
      "926:\tlearn: 0.1374099\ttotal: 3.21s\tremaining: 253ms\n",
      "927:\tlearn: 0.1373663\ttotal: 3.22s\tremaining: 250ms\n",
      "928:\tlearn: 0.1373368\ttotal: 3.22s\tremaining: 246ms\n",
      "929:\tlearn: 0.1372677\ttotal: 3.23s\tremaining: 243ms\n",
      "930:\tlearn: 0.1372102\ttotal: 3.24s\tremaining: 240ms\n",
      "931:\tlearn: 0.1371591\ttotal: 3.24s\tremaining: 237ms\n",
      "932:\tlearn: 0.1370862\ttotal: 3.25s\tremaining: 234ms\n",
      "933:\tlearn: 0.1370253\ttotal: 3.26s\tremaining: 230ms\n",
      "934:\tlearn: 0.1369914\ttotal: 3.27s\tremaining: 227ms\n",
      "935:\tlearn: 0.1369505\ttotal: 3.28s\tremaining: 224ms\n",
      "936:\tlearn: 0.1369127\ttotal: 3.29s\tremaining: 221ms\n",
      "937:\tlearn: 0.1368258\ttotal: 3.29s\tremaining: 218ms\n",
      "938:\tlearn: 0.1367733\ttotal: 3.3s\tremaining: 215ms\n",
      "939:\tlearn: 0.1367272\ttotal: 3.31s\tremaining: 211ms\n",
      "940:\tlearn: 0.1366195\ttotal: 3.32s\tremaining: 208ms\n",
      "941:\tlearn: 0.1365428\ttotal: 3.32s\tremaining: 205ms\n",
      "942:\tlearn: 0.1364781\ttotal: 3.33s\tremaining: 201ms\n",
      "943:\tlearn: 0.1364183\ttotal: 3.34s\tremaining: 198ms\n",
      "944:\tlearn: 0.1363722\ttotal: 3.34s\tremaining: 195ms\n",
      "945:\tlearn: 0.1362910\ttotal: 3.35s\tremaining: 191ms\n",
      "946:\tlearn: 0.1362277\ttotal: 3.35s\tremaining: 188ms\n",
      "947:\tlearn: 0.1361855\ttotal: 3.35s\tremaining: 184ms\n",
      "948:\tlearn: 0.1361543\ttotal: 3.36s\tremaining: 180ms\n",
      "949:\tlearn: 0.1361409\ttotal: 3.36s\tremaining: 177ms\n",
      "950:\tlearn: 0.1361024\ttotal: 3.37s\tremaining: 173ms\n",
      "951:\tlearn: 0.1360366\ttotal: 3.37s\tremaining: 170ms\n",
      "952:\tlearn: 0.1359974\ttotal: 3.37s\tremaining: 166ms\n",
      "953:\tlearn: 0.1358958\ttotal: 3.38s\tremaining: 163ms\n",
      "954:\tlearn: 0.1358261\ttotal: 3.38s\tremaining: 159ms\n",
      "955:\tlearn: 0.1357653\ttotal: 3.38s\tremaining: 156ms\n",
      "956:\tlearn: 0.1356558\ttotal: 3.39s\tremaining: 152ms\n",
      "957:\tlearn: 0.1355709\ttotal: 3.39s\tremaining: 149ms\n",
      "958:\tlearn: 0.1354210\ttotal: 3.4s\tremaining: 145ms\n",
      "959:\tlearn: 0.1353495\ttotal: 3.4s\tremaining: 142ms\n",
      "960:\tlearn: 0.1352409\ttotal: 3.41s\tremaining: 138ms\n",
      "961:\tlearn: 0.1351607\ttotal: 3.41s\tremaining: 135ms\n",
      "962:\tlearn: 0.1350588\ttotal: 3.42s\tremaining: 131ms\n",
      "963:\tlearn: 0.1349819\ttotal: 3.42s\tremaining: 128ms\n",
      "964:\tlearn: 0.1348909\ttotal: 3.42s\tremaining: 124ms\n",
      "965:\tlearn: 0.1348377\ttotal: 3.43s\tremaining: 121ms\n",
      "966:\tlearn: 0.1347940\ttotal: 3.44s\tremaining: 117ms\n",
      "967:\tlearn: 0.1347048\ttotal: 3.44s\tremaining: 114ms\n",
      "968:\tlearn: 0.1346490\ttotal: 3.45s\tremaining: 110ms\n",
      "969:\tlearn: 0.1345409\ttotal: 3.45s\tremaining: 107ms\n",
      "970:\tlearn: 0.1344953\ttotal: 3.46s\tremaining: 103ms\n",
      "971:\tlearn: 0.1344731\ttotal: 3.46s\tremaining: 99.6ms\n",
      "972:\tlearn: 0.1344228\ttotal: 3.46s\tremaining: 96.1ms\n",
      "973:\tlearn: 0.1342569\ttotal: 3.47s\tremaining: 92.6ms\n",
      "974:\tlearn: 0.1342289\ttotal: 3.47s\tremaining: 89.1ms\n",
      "975:\tlearn: 0.1341048\ttotal: 3.48s\tremaining: 85.5ms\n",
      "976:\tlearn: 0.1340246\ttotal: 3.48s\tremaining: 81.9ms\n",
      "977:\tlearn: 0.1339790\ttotal: 3.48s\tremaining: 78.4ms\n",
      "978:\tlearn: 0.1338735\ttotal: 3.49s\tremaining: 74.9ms\n",
      "979:\tlearn: 0.1337961\ttotal: 3.5s\tremaining: 71.3ms\n",
      "980:\tlearn: 0.1337370\ttotal: 3.5s\tremaining: 67.8ms\n",
      "981:\tlearn: 0.1337075\ttotal: 3.51s\tremaining: 64.3ms\n",
      "982:\tlearn: 0.1336790\ttotal: 3.51s\tremaining: 60.7ms\n",
      "983:\tlearn: 0.1336123\ttotal: 3.51s\tremaining: 57.1ms\n",
      "984:\tlearn: 0.1335121\ttotal: 3.52s\tremaining: 53.6ms\n",
      "985:\tlearn: 0.1334345\ttotal: 3.52s\tremaining: 50ms\n",
      "986:\tlearn: 0.1333681\ttotal: 3.53s\tremaining: 46.5ms\n",
      "987:\tlearn: 0.1333088\ttotal: 3.53s\tremaining: 42.9ms\n",
      "988:\tlearn: 0.1332096\ttotal: 3.54s\tremaining: 39.3ms\n",
      "989:\tlearn: 0.1331758\ttotal: 3.54s\tremaining: 35.8ms\n",
      "990:\tlearn: 0.1331264\ttotal: 3.55s\tremaining: 32.2ms\n",
      "991:\tlearn: 0.1330817\ttotal: 3.55s\tremaining: 28.6ms\n",
      "992:\tlearn: 0.1330129\ttotal: 3.55s\tremaining: 25.1ms\n",
      "993:\tlearn: 0.1329300\ttotal: 3.56s\tremaining: 21.5ms\n",
      "994:\tlearn: 0.1328418\ttotal: 3.56s\tremaining: 17.9ms\n",
      "995:\tlearn: 0.1328095\ttotal: 3.57s\tremaining: 14.3ms\n",
      "996:\tlearn: 0.1327761\ttotal: 3.57s\tremaining: 10.7ms\n"
     ]
    },
    {
     "name": "stdout",
     "output_type": "stream",
     "text": [
      "997:\tlearn: 0.1327486\ttotal: 3.58s\tremaining: 7.17ms\n",
      "998:\tlearn: 0.1327014\ttotal: 3.58s\tremaining: 3.58ms\n",
      "999:\tlearn: 0.1326637\ttotal: 3.58s\tremaining: 0us\n",
      "MSE for CatBoost 2019 is: 0.05205657846442003\n"
     ]
    }
   ],
   "source": [
    "model = CatBoostRegressor()\n",
    "model.fit(x_train_19, y_train_19)\n",
    "y_pred_19 = model.predict(x_test_19)\n",
    "# Calculation of Mean Squared Error (MSE)\n",
    "mse = mean_squared_error(y_test_19, y_pred_19)\n",
    "print('MSE for CatBoost 2019 is: ' + str(mse))"
   ]
  },
  {
   "cell_type": "code",
   "execution_count": 175,
   "id": "f0207e79",
   "metadata": {},
   "outputs": [
    {
     "name": "stdout",
     "output_type": "stream",
     "text": [
      "RMSE for LightGBM 2019 is: 0.22815910778318718\n"
     ]
    }
   ],
   "source": [
    "rmse = mean_squared_error(y_test_19, y_pred_19, squared = False)\n",
    "print('RMSE for LightGBM 2019 is: ' + str(rmse))"
   ]
  },
  {
   "cell_type": "code",
   "execution_count": 176,
   "id": "aa550157",
   "metadata": {},
   "outputs": [
    {
     "name": "stdout",
     "output_type": "stream",
     "text": [
      "Median Absolute Error:\n",
      "\n",
      "0.106564926009109\n"
     ]
    }
   ],
   "source": [
    "median_se = np.square(np.subtract(y_test_19, y_pred_19)).median() \n",
    " \n",
    "med = math.sqrt(median_se)\n",
    "print(\"Median Absolute Error:\\n\")\n",
    "print(med)"
   ]
  },
  {
   "cell_type": "code",
   "execution_count": 177,
   "id": "953208a1",
   "metadata": {},
   "outputs": [
    {
     "name": "stdout",
     "output_type": "stream",
     "text": [
      "Accuracy of properties at +- 10% of actual prices is 0.48115577889447236\n"
     ]
    }
   ],
   "source": [
    "acc = accuracy_threshold(y_test_19, y_pred_19, 0.1)\n",
    "print('Accuracy of properties at +- 10% of actual prices is ' + str(acc))"
   ]
  },
  {
   "cell_type": "code",
   "execution_count": 178,
   "id": "a11409ef",
   "metadata": {},
   "outputs": [
    {
     "name": "stdout",
     "output_type": "stream",
     "text": [
      "MAPE for CatBoost 2019 is: 0.011860966281682154\n"
     ]
    }
   ],
   "source": [
    "mape = mean_absolute_percentage_error(y_test_19, y_pred_19)\n",
    "print(\"MAPE for CatBoost 2019 is: \" + str(mape))"
   ]
  },
  {
   "cell_type": "code",
   "execution_count": 179,
   "id": "62ab734b",
   "metadata": {},
   "outputs": [],
   "source": [
    "cnames = ['Algorithm', 'Year', 'RMSE', 'MSE', 'MEDAE', 'Accuracy', 'MAPE']\n",
    "df16 = pd.DataFrame(columns = cnames)\n",
    "\n",
    "df16 = df16.append({'Algorithm': 'CatBoost',\n",
    "           'Year': 2019,\n",
    "           'RMSE': rmse,\n",
    "           'MSE': mse,\n",
    "           'MEDAE': med,\n",
    "           'Accuracy': acc,\n",
    "           'MAPE': mape         \n",
    "          }, ignore_index = True)"
   ]
  },
  {
   "cell_type": "markdown",
   "id": "03917aff",
   "metadata": {},
   "source": [
    "### BayesianRidge"
   ]
  },
  {
   "cell_type": "code",
   "execution_count": 180,
   "id": "bb47ee44",
   "metadata": {},
   "outputs": [
    {
     "name": "stdout",
     "output_type": "stream",
     "text": [
      "MSE for BayesianRidge 2019 is: 0.05523348136638259\n"
     ]
    }
   ],
   "source": [
    "clf = BayesianRidge()\n",
    "clf.fit(x_train_19, y_train_19)\n",
    "y_pred_19 = clf.predict(x_test_19)\n",
    "# Calculation of Mean Squared Error (MSE)\n",
    "mse = mean_squared_error(y_test_19, y_pred_19)\n",
    "print('MSE for BayesianRidge 2019 is: ' + str(mse))"
   ]
  },
  {
   "cell_type": "code",
   "execution_count": 181,
   "id": "f2c9faf8",
   "metadata": {},
   "outputs": [
    {
     "name": "stdout",
     "output_type": "stream",
     "text": [
      "RMSE for LightGBM 2019 is: 0.23501804476759353\n"
     ]
    }
   ],
   "source": [
    "rmse = mean_squared_error(y_test_19, y_pred_19, squared = False)\n",
    "print('RMSE for LightGBM 2019 is: ' + str(rmse))"
   ]
  },
  {
   "cell_type": "code",
   "execution_count": 182,
   "id": "8c56c82e",
   "metadata": {},
   "outputs": [
    {
     "name": "stdout",
     "output_type": "stream",
     "text": [
      "Median Absolute Error:\n",
      "\n",
      "0.1340508147253413\n"
     ]
    }
   ],
   "source": [
    "median_se = np.square(np.subtract(y_test_19, y_pred_19)).median() \n",
    " \n",
    "med = math.sqrt(median_se)\n",
    "print(\"Median Absolute Error:\\n\")\n",
    "print(med)"
   ]
  },
  {
   "cell_type": "code",
   "execution_count": 183,
   "id": "5a59de31",
   "metadata": {},
   "outputs": [
    {
     "name": "stdout",
     "output_type": "stream",
     "text": [
      "Accuracy of properties at +- 10% of actual prices is 0.4108040201005025\n"
     ]
    }
   ],
   "source": [
    "acc = accuracy_threshold(y_test_19, y_pred_19, 0.1)\n",
    "print('Accuracy of properties at +- 10% of actual prices is ' + str(acc))"
   ]
  },
  {
   "cell_type": "code",
   "execution_count": 184,
   "id": "89f14d4e",
   "metadata": {},
   "outputs": [
    {
     "name": "stdout",
     "output_type": "stream",
     "text": [
      "MAPE for BayesianRidge 2019 is: 0.013347742300340849\n"
     ]
    }
   ],
   "source": [
    "mape = mean_absolute_percentage_error(y_test_19, y_pred_19)\n",
    "print(\"MAPE for BayesianRidge 2019 is: \" + str(mape))"
   ]
  },
  {
   "cell_type": "code",
   "execution_count": 185,
   "id": "98a6ba59",
   "metadata": {},
   "outputs": [],
   "source": [
    "cnames = ['Algorithm', 'Year', 'RMSE', 'MSE', 'MEDAE', 'Accuracy', 'MAPE']\n",
    "df17 = pd.DataFrame(columns = cnames)\n",
    "\n",
    "df17 = df17.append({'Algorithm': 'Bayesian',\n",
    "           'Year': 2019,\n",
    "           'RMSE': rmse,\n",
    "           'MSE': mse,\n",
    "           'MEDAE': med,\n",
    "           'Accuracy': acc,\n",
    "           'MAPE': mape         \n",
    "          }, ignore_index = True)"
   ]
  },
  {
   "cell_type": "markdown",
   "id": "c20aed69",
   "metadata": {},
   "source": [
    "## 2018"
   ]
  },
  {
   "cell_type": "code",
   "execution_count": 186,
   "id": "70eac5c9",
   "metadata": {},
   "outputs": [],
   "source": [
    "specific18 = irl[irl['Year'] > 2014]\n",
    "test_18 = specific18[specific18['Year'] == 2018]\n",
    "train_18 = specific18[specific18['Year'] < 2018]\n",
    "\n",
    "#train_18 = train_18.sample(n = 80000)\n",
    "#test_18 = test_18.sample(n = 20000)\n",
    "\n",
    "x_train_18 = train_18.loc[:, train_18.columns != 'LogPrice (€)']\n",
    "y_train_18 = train_18['LogPrice (€)']\n",
    "x_test_18 = test_18.loc[:, test_18.columns != 'LogPrice (€)']\n",
    "y_test_18 = test_18['LogPrice (€)']"
   ]
  },
  {
   "cell_type": "code",
   "execution_count": 187,
   "id": "9a04a7d1",
   "metadata": {},
   "outputs": [],
   "source": [
    "#x_test_18.drop(columns=['Year'], inplace = True)\n",
    "#x_train_18.drop(columns=['Year'], inplace = True)"
   ]
  },
  {
   "cell_type": "markdown",
   "id": "b65f0852",
   "metadata": {},
   "source": [
    "### AutoML"
   ]
  },
  {
   "cell_type": "code",
   "execution_count": 188,
   "id": "fa364063",
   "metadata": {},
   "outputs": [
    {
     "name": "stdout",
     "output_type": "stream",
     "text": [
      "AutoML directory: AutoML_5\n",
      "The task is regression with evaluation metric rmse\n",
      "AutoML will use algorithms: ['Baseline', 'Linear', 'Decision Tree', 'Random Forest', 'Xgboost', 'Neural Network']\n",
      "AutoML will ensemble available models\n",
      "AutoML steps: ['simple_algorithms', 'default_algorithms', 'ensemble']\n",
      "* Step simple_algorithms will try to check up to 3 models\n",
      "1_Baseline rmse 0.585488 trained in 1.44 seconds\n",
      "2_DecisionTree rmse 0.328493 trained in 6.34 seconds\n",
      "3_Linear rmse 0.355903 trained in 4.88 seconds\n",
      "* Step default_algorithms will try to check up to 3 models\n",
      "4_Default_Xgboost rmse 0.288014 trained in 5.84 seconds\n",
      "5_Default_NeuralNetwork rmse 0.318083 trained in 1.04 seconds\n",
      "6_Default_RandomForest rmse 0.300903 trained in 5.14 seconds\n",
      "* Step ensemble will try to check up to 1 model\n",
      "Ensemble rmse 0.284744 trained in 0.5 seconds\n",
      "AutoML fit time: 41.43 seconds\n",
      "AutoML best model: Ensemble\n"
     ]
    },
    {
     "data": {
      "text/plain": [
       "AutoML(explain_level=2, total_time_limit=300)"
      ]
     },
     "execution_count": 188,
     "metadata": {},
     "output_type": "execute_result"
    }
   ],
   "source": [
    "automl = AutoML(total_time_limit = 5 * 60, explain_level = 2)\n",
    "automl.fit(x_train_18, y_train_18)"
   ]
  },
  {
   "cell_type": "code",
   "execution_count": 189,
   "id": "b94a4be7",
   "metadata": {},
   "outputs": [
    {
     "name": "stdout",
     "output_type": "stream",
     "text": [
      "MSE for AutoML 2018 is: 0.08877812669548124\n"
     ]
    }
   ],
   "source": [
    "y_pred_18 = automl.predict(x_test_18)\n",
    "# Calculation of Mean Squared Error (MSE)\n",
    "mse = mean_squared_error(y_test_18, y_pred_18)\n",
    "print('MSE for AutoML 2018 is: ' + str(mse))"
   ]
  },
  {
   "cell_type": "code",
   "execution_count": 190,
   "id": "bb3f67a0",
   "metadata": {},
   "outputs": [
    {
     "name": "stdout",
     "output_type": "stream",
     "text": [
      "Accuracy of properties at +- 10% of actual prices is 0.44956413449564137\n"
     ]
    }
   ],
   "source": [
    "acc = accuracy_threshold(y_test_18, y_pred_18, 0.1)\n",
    "print('Accuracy of properties at +- 10% of actual prices is ' + str(acc))"
   ]
  },
  {
   "cell_type": "code",
   "execution_count": 191,
   "id": "4ac9ef36",
   "metadata": {},
   "outputs": [
    {
     "name": "stdout",
     "output_type": "stream",
     "text": [
      "RMSE for AutoML 2018 is: 0.2979565852527533\n"
     ]
    }
   ],
   "source": [
    "rmse = mean_squared_error(y_test_18, y_pred_18, squared = False)\n",
    "print('RMSE for AutoML 2018 is: ' + str(rmse))"
   ]
  },
  {
   "cell_type": "code",
   "execution_count": 192,
   "id": "86bd10ad",
   "metadata": {},
   "outputs": [
    {
     "name": "stdout",
     "output_type": "stream",
     "text": [
      "Median Absolute Error:\n",
      "\n",
      "0.10934222404414129\n"
     ]
    }
   ],
   "source": [
    "median_se = np.square(np.subtract(y_test_18, y_pred_18)).median() \n",
    " \n",
    "med = math.sqrt(median_se)\n",
    "print(\"Median Absolute Error:\\n\")\n",
    "print(med)"
   ]
  },
  {
   "cell_type": "code",
   "execution_count": 193,
   "id": "ce57f425",
   "metadata": {},
   "outputs": [
    {
     "name": "stdout",
     "output_type": "stream",
     "text": [
      "MAPE for AutoML 2018 is: 0.01435853662589125\n"
     ]
    }
   ],
   "source": [
    "mape = mean_absolute_percentage_error(y_test_18, y_pred_18)\n",
    "print(\"MAPE for AutoML 2018 is: \" + str(mape))"
   ]
  },
  {
   "cell_type": "code",
   "execution_count": 194,
   "id": "f4c913fe",
   "metadata": {},
   "outputs": [],
   "source": [
    "cnames = ['Algorithm', 'Year', 'RMSE', 'MSE', 'MEDAE', 'Accuracy','MAPE']\n",
    "df18 = pd.DataFrame(columns = cnames)\n",
    "\n",
    "df18 = df18.append({'Algorithm': 'AutoML',\n",
    "           'Year': 2018,\n",
    "           'RMSE': rmse,\n",
    "           'MSE': mse,\n",
    "           'MEDAE': med,\n",
    "           'Accuracy': acc,\n",
    "           'MAPE': mape         \n",
    "          }, ignore_index = True)"
   ]
  },
  {
   "cell_type": "code",
   "execution_count": 195,
   "id": "2fb97643",
   "metadata": {},
   "outputs": [],
   "source": [
    "#cnames = ['Actual', 'Predicted']\n",
    "#dfreal4 = pd.DataFrame(columns = cnames)\n",
    "dfreal4 = pd.DataFrame(y_test_18.values)\n",
    "dfpred4 = pd.DataFrame(y_pred_18)\n",
    "#dfreal4 = pd.concat([z1, z2], ignore_index=True)"
   ]
  },
  {
   "cell_type": "markdown",
   "id": "41eb5867",
   "metadata": {},
   "source": [
    "### MLR"
   ]
  },
  {
   "cell_type": "code",
   "execution_count": 196,
   "id": "e5483603",
   "metadata": {},
   "outputs": [
    {
     "name": "stdout",
     "output_type": "stream",
     "text": [
      "MSE for MLR 2018 is: 0.09745262617714515\n"
     ]
    }
   ],
   "source": [
    "lm = linear_model.LinearRegression()\n",
    "lm.fit(x_train_18, y_train_18) # fitting the model\n",
    "y_pred_18 = lm.predict(x_test_18)\n",
    "# Calculation of Mean Squared Error (MSE)\n",
    "mse = mean_squared_error(y_test_18, y_pred_18)\n",
    "print('MSE for MLR 2018 is: ' + str(mse))"
   ]
  },
  {
   "cell_type": "code",
   "execution_count": 197,
   "id": "9792680e",
   "metadata": {},
   "outputs": [
    {
     "name": "stdout",
     "output_type": "stream",
     "text": [
      "Accuracy of properties at +- 10% of actual prices is 0.3972602739726027\n"
     ]
    }
   ],
   "source": [
    "acc = accuracy_threshold(y_test_18, y_pred_18, 0.1)\n",
    "print('Accuracy of properties at +- 10% of actual prices is ' + str(acc))"
   ]
  },
  {
   "cell_type": "code",
   "execution_count": 198,
   "id": "2daab6dc",
   "metadata": {},
   "outputs": [
    {
     "name": "stdout",
     "output_type": "stream",
     "text": [
      "RMSE for MLR 2018 is: 0.3121740318750827\n"
     ]
    }
   ],
   "source": [
    "rmse = mean_squared_error(y_test_18, y_pred_18, squared = False)\n",
    "print('RMSE for MLR 2018 is: ' + str(rmse))"
   ]
  },
  {
   "cell_type": "code",
   "execution_count": 199,
   "id": "a236271b",
   "metadata": {},
   "outputs": [
    {
     "name": "stdout",
     "output_type": "stream",
     "text": [
      "Median Absolute Error:\n",
      "\n",
      "0.12791719358337694\n"
     ]
    }
   ],
   "source": [
    "median_se = np.square(np.subtract(y_test_18, y_pred_18)).median() \n",
    " \n",
    "med = math.sqrt(median_se)\n",
    "print(\"Median Absolute Error:\\n\")\n",
    "print(med)"
   ]
  },
  {
   "cell_type": "code",
   "execution_count": 200,
   "id": "8b04f02b",
   "metadata": {},
   "outputs": [
    {
     "name": "stdout",
     "output_type": "stream",
     "text": [
      "MAPE for MLR 2018 is: 0.015876701358758995\n"
     ]
    }
   ],
   "source": [
    "mape = mean_absolute_percentage_error(y_test_18, y_pred_18)\n",
    "print(\"MAPE for MLR 2018 is: \" + str(mape))"
   ]
  },
  {
   "cell_type": "code",
   "execution_count": 201,
   "id": "9781eb0f",
   "metadata": {},
   "outputs": [],
   "source": [
    "cnames = ['Algorithm', 'Year', 'RMSE', 'MSE', 'MEDAE', 'Accuracy', 'MAPE']\n",
    "df19 = pd.DataFrame(columns = cnames)\n",
    "\n",
    "df19 = df19.append({'Algorithm': 'MLR',\n",
    "           'Year': 2018,\n",
    "           'RMSE': rmse,\n",
    "           'MSE': mse,\n",
    "           'MEDAE': med,\n",
    "           'Accuracy': acc,\n",
    "           'MAPE': mape         \n",
    "          }, ignore_index = True)"
   ]
  },
  {
   "cell_type": "markdown",
   "id": "18d02369",
   "metadata": {},
   "source": [
    "### AdaBoost"
   ]
  },
  {
   "cell_type": "code",
   "execution_count": 202,
   "id": "d8820d35",
   "metadata": {},
   "outputs": [
    {
     "name": "stdout",
     "output_type": "stream",
     "text": [
      "MSE for AdaBoost 2018 is: 0.10933035660939379\n"
     ]
    }
   ],
   "source": [
    "model = AdaBoostRegressor()\n",
    "model.fit(x_train_18, y_train_18)\n",
    "y_pred_18 = model.predict(x_test_18)\n",
    "# Calculation of Mean Squared Error (MSE)\n",
    "mse = mean_squared_error(y_test_18, y_pred_18)\n",
    "print('MSE for AdaBoost 2018 is: ' + str(mse))"
   ]
  },
  {
   "cell_type": "code",
   "execution_count": 203,
   "id": "bee989ee",
   "metadata": {},
   "outputs": [
    {
     "name": "stdout",
     "output_type": "stream",
     "text": [
      "Accuracy of properties at +- 10% of actual prices is 0.39103362391033625\n"
     ]
    }
   ],
   "source": [
    "acc = accuracy_threshold(y_test_18, y_pred_18, 0.1)\n",
    "print('Accuracy of properties at +- 10% of actual prices is ' + str(acc))"
   ]
  },
  {
   "cell_type": "code",
   "execution_count": 204,
   "id": "13a6c017",
   "metadata": {},
   "outputs": [
    {
     "name": "stdout",
     "output_type": "stream",
     "text": [
      "Median Absolute Error:\n",
      "\n",
      "0.1393660895626141\n"
     ]
    }
   ],
   "source": [
    "median_se = np.square(np.subtract(y_test_18, y_pred_18)).median() \n",
    " \n",
    "med = math.sqrt(median_se)\n",
    "print(\"Median Absolute Error:\\n\")\n",
    "print(med)"
   ]
  },
  {
   "cell_type": "code",
   "execution_count": 205,
   "id": "0c737b65",
   "metadata": {},
   "outputs": [
    {
     "name": "stdout",
     "output_type": "stream",
     "text": [
      "RMSE for MLR 2018 is: 0.33065141253198027\n"
     ]
    }
   ],
   "source": [
    "rmse = mean_squared_error(y_test_18, y_pred_18, squared = False)\n",
    "print('RMSE for MLR 2018 is: ' + str(rmse))"
   ]
  },
  {
   "cell_type": "code",
   "execution_count": 206,
   "id": "7c403a5e",
   "metadata": {},
   "outputs": [
    {
     "name": "stdout",
     "output_type": "stream",
     "text": [
      "MAPE for MLR 2018 is: 0.017354291907142896\n"
     ]
    }
   ],
   "source": [
    "mape = mean_absolute_percentage_error(y_test_18, y_pred_18)\n",
    "print(\"MAPE for MLR 2018 is: \" + str(mape))"
   ]
  },
  {
   "cell_type": "code",
   "execution_count": 207,
   "id": "e92f003a",
   "metadata": {},
   "outputs": [],
   "source": [
    "cnames = ['Algorithm', 'Year', 'RMSE', 'MSE', 'MEDAE', 'Accuracy', 'MAPE']\n",
    "df20 = pd.DataFrame(columns = cnames)\n",
    "\n",
    "df20 = df20.append({'Algorithm': 'AdaBoost',\n",
    "           'Year': 2018,\n",
    "           'RMSE': rmse,\n",
    "           'MSE': mse,\n",
    "           'MEDAE': med,\n",
    "           'Accuracy': acc,\n",
    "           'MAPE': mape         \n",
    "          }, ignore_index = True)"
   ]
  },
  {
   "cell_type": "markdown",
   "id": "ee4e29ce",
   "metadata": {},
   "source": [
    "### LightGBM"
   ]
  },
  {
   "cell_type": "code",
   "execution_count": 208,
   "id": "2408dc22",
   "metadata": {},
   "outputs": [
    {
     "name": "stdout",
     "output_type": "stream",
     "text": [
      "MSE for LightGBM 2018 is: 0.08968159665598194\n"
     ]
    }
   ],
   "source": [
    "model = LGBMRegressor()\n",
    "model.fit(x_train_18, y_train_18)\n",
    "y_pred_18 = model.predict(x_test_18)\n",
    "# Calculation of Mean Squared Error (MSE)\n",
    "mse = mean_squared_error(y_test_18, y_pred_18)\n",
    "print('MSE for LightGBM 2018 is: ' + str(mse))"
   ]
  },
  {
   "cell_type": "code",
   "execution_count": 209,
   "id": "e468b773",
   "metadata": {},
   "outputs": [
    {
     "name": "stdout",
     "output_type": "stream",
     "text": [
      "Accuracy of properties at +- 10% of actual prices is 0.45454545454545453\n"
     ]
    }
   ],
   "source": [
    "acc = accuracy_threshold(y_test_18, y_pred_18, 0.1)\n",
    "print('Accuracy of properties at +- 10% of actual prices is ' + str(acc))"
   ]
  },
  {
   "cell_type": "code",
   "execution_count": 210,
   "id": "96ebc9e9",
   "metadata": {},
   "outputs": [
    {
     "name": "stdout",
     "output_type": "stream",
     "text": [
      "Median Absolute Error:\n",
      "\n",
      "0.11185607856721802\n"
     ]
    }
   ],
   "source": [
    "median_se = np.square(np.subtract(y_test_18, y_pred_18)).median() \n",
    " \n",
    "med = math.sqrt(median_se)\n",
    "print(\"Median Absolute Error:\\n\")\n",
    "print(med)"
   ]
  },
  {
   "cell_type": "code",
   "execution_count": 211,
   "id": "c7f18b29",
   "metadata": {},
   "outputs": [
    {
     "name": "stdout",
     "output_type": "stream",
     "text": [
      "RMSE for LightGBM 2018 is: 0.29946885757284003\n"
     ]
    }
   ],
   "source": [
    "rmse = mean_squared_error(y_test_18, y_pred_18, squared = False)\n",
    "print('RMSE for LightGBM 2018 is: ' + str(rmse))"
   ]
  },
  {
   "cell_type": "code",
   "execution_count": 212,
   "id": "79c37007",
   "metadata": {},
   "outputs": [
    {
     "name": "stdout",
     "output_type": "stream",
     "text": [
      "MAPE for LightGBM 2021 is: 0.014371752140115131\n"
     ]
    }
   ],
   "source": [
    "mape = mean_absolute_percentage_error(y_test_18, y_pred_18)\n",
    "print(\"MAPE for LightGBM 2021 is: \" + str(mape))"
   ]
  },
  {
   "cell_type": "code",
   "execution_count": 213,
   "id": "7bf927d1",
   "metadata": {},
   "outputs": [],
   "source": [
    "cnames = ['Algorithm', 'Year', 'RMSE', 'MSE', 'MEDAE', 'Accuracy', 'MAPE']\n",
    "df21 = pd.DataFrame(columns = cnames)\n",
    "\n",
    "df21 = df21.append({'Algorithm': 'LightGBM',\n",
    "           'Year': 2018,\n",
    "           'RMSE': rmse,\n",
    "           'MSE': mse,\n",
    "           'MEDAE': med,\n",
    "           'Accuracy': acc,\n",
    "           'MAPE': mape         \n",
    "          }, ignore_index = True)"
   ]
  },
  {
   "cell_type": "markdown",
   "id": "55517a01",
   "metadata": {},
   "source": [
    "### CatBoost"
   ]
  },
  {
   "cell_type": "code",
   "execution_count": 214,
   "id": "1c21a0a3",
   "metadata": {},
   "outputs": [
    {
     "name": "stdout",
     "output_type": "stream",
     "text": [
      "Learning rate set to 0.044382\n",
      "0:\tlearn: 0.5539680\ttotal: 3.04ms\tremaining: 3.04s\n",
      "1:\tlearn: 0.5394392\ttotal: 6.1ms\tremaining: 3.04s\n",
      "2:\tlearn: 0.5250851\ttotal: 9.05ms\tremaining: 3.01s\n",
      "3:\tlearn: 0.5113586\ttotal: 13.4ms\tremaining: 3.33s\n",
      "4:\tlearn: 0.4988134\ttotal: 16.7ms\tremaining: 3.32s\n",
      "5:\tlearn: 0.4866223\ttotal: 20.1ms\tremaining: 3.34s\n",
      "6:\tlearn: 0.4749644\ttotal: 23.4ms\tremaining: 3.31s\n",
      "7:\tlearn: 0.4639048\ttotal: 27.8ms\tremaining: 3.44s\n",
      "8:\tlearn: 0.4541079\ttotal: 31.4ms\tremaining: 3.45s\n",
      "9:\tlearn: 0.4438175\ttotal: 34.9ms\tremaining: 3.46s\n",
      "10:\tlearn: 0.4344207\ttotal: 37.8ms\tremaining: 3.4s\n",
      "11:\tlearn: 0.4258266\ttotal: 42.6ms\tremaining: 3.51s\n",
      "12:\tlearn: 0.4174705\ttotal: 46.1ms\tremaining: 3.5s\n",
      "13:\tlearn: 0.4100241\ttotal: 49.7ms\tremaining: 3.5s\n",
      "14:\tlearn: 0.4028340\ttotal: 53.6ms\tremaining: 3.52s\n",
      "15:\tlearn: 0.3953089\ttotal: 57.2ms\tremaining: 3.52s\n",
      "16:\tlearn: 0.3889064\ttotal: 60ms\tremaining: 3.47s\n",
      "17:\tlearn: 0.3821217\ttotal: 62.8ms\tremaining: 3.42s\n",
      "18:\tlearn: 0.3761385\ttotal: 65.8ms\tremaining: 3.4s\n",
      "19:\tlearn: 0.3704943\ttotal: 70.1ms\tremaining: 3.43s\n",
      "20:\tlearn: 0.3650724\ttotal: 73.4ms\tremaining: 3.42s\n",
      "21:\tlearn: 0.3602873\ttotal: 76.8ms\tremaining: 3.41s\n",
      "22:\tlearn: 0.3554871\ttotal: 79.6ms\tremaining: 3.38s\n",
      "23:\tlearn: 0.3509924\ttotal: 83.8ms\tremaining: 3.41s\n",
      "24:\tlearn: 0.3467866\ttotal: 86.8ms\tremaining: 3.38s\n",
      "25:\tlearn: 0.3426704\ttotal: 90.1ms\tremaining: 3.38s\n",
      "26:\tlearn: 0.3386945\ttotal: 93ms\tremaining: 3.35s\n",
      "27:\tlearn: 0.3352650\ttotal: 96ms\tremaining: 3.33s\n",
      "28:\tlearn: 0.3318464\ttotal: 99ms\tremaining: 3.31s\n",
      "29:\tlearn: 0.3285803\ttotal: 102ms\tremaining: 3.29s\n",
      "30:\tlearn: 0.3252517\ttotal: 104ms\tremaining: 3.26s\n",
      "31:\tlearn: 0.3223700\ttotal: 107ms\tremaining: 3.24s\n",
      "32:\tlearn: 0.3198845\ttotal: 110ms\tremaining: 3.21s\n",
      "33:\tlearn: 0.3174238\ttotal: 113ms\tremaining: 3.2s\n",
      "34:\tlearn: 0.3148208\ttotal: 115ms\tremaining: 3.18s\n",
      "35:\tlearn: 0.3123425\ttotal: 118ms\tremaining: 3.16s\n",
      "36:\tlearn: 0.3099943\ttotal: 121ms\tremaining: 3.14s\n",
      "37:\tlearn: 0.3078096\ttotal: 123ms\tremaining: 3.13s\n",
      "38:\tlearn: 0.3056627\ttotal: 127ms\tremaining: 3.13s\n",
      "39:\tlearn: 0.3040511\ttotal: 130ms\tremaining: 3.11s\n",
      "40:\tlearn: 0.3025539\ttotal: 132ms\tremaining: 3.1s\n",
      "41:\tlearn: 0.3006963\ttotal: 135ms\tremaining: 3.08s\n",
      "42:\tlearn: 0.2990524\ttotal: 138ms\tremaining: 3.06s\n",
      "43:\tlearn: 0.2977837\ttotal: 140ms\tremaining: 3.05s\n",
      "44:\tlearn: 0.2964655\ttotal: 144ms\tremaining: 3.04s\n",
      "45:\tlearn: 0.2951721\ttotal: 146ms\tremaining: 3.03s\n",
      "46:\tlearn: 0.2938241\ttotal: 149ms\tremaining: 3.02s\n",
      "47:\tlearn: 0.2924818\ttotal: 152ms\tremaining: 3.01s\n",
      "48:\tlearn: 0.2907654\ttotal: 155ms\tremaining: 3s\n",
      "49:\tlearn: 0.2895771\ttotal: 158ms\tremaining: 3s\n",
      "50:\tlearn: 0.2880735\ttotal: 161ms\tremaining: 2.99s\n",
      "51:\tlearn: 0.2869786\ttotal: 163ms\tremaining: 2.98s\n",
      "52:\tlearn: 0.2858192\ttotal: 166ms\tremaining: 2.96s\n",
      "53:\tlearn: 0.2850312\ttotal: 170ms\tremaining: 2.98s\n",
      "54:\tlearn: 0.2839714\ttotal: 173ms\tremaining: 2.97s\n",
      "55:\tlearn: 0.2830037\ttotal: 176ms\tremaining: 2.97s\n",
      "56:\tlearn: 0.2821243\ttotal: 180ms\tremaining: 2.98s\n",
      "57:\tlearn: 0.2811733\ttotal: 184ms\tremaining: 2.99s\n",
      "58:\tlearn: 0.2804598\ttotal: 188ms\tremaining: 2.99s\n",
      "59:\tlearn: 0.2795390\ttotal: 191ms\tremaining: 2.99s\n",
      "60:\tlearn: 0.2787938\ttotal: 195ms\tremaining: 2.99s\n",
      "61:\tlearn: 0.2777019\ttotal: 198ms\tremaining: 3s\n",
      "62:\tlearn: 0.2770276\ttotal: 202ms\tremaining: 3s\n",
      "63:\tlearn: 0.2763566\ttotal: 205ms\tremaining: 3s\n",
      "64:\tlearn: 0.2755936\ttotal: 209ms\tremaining: 3s\n",
      "65:\tlearn: 0.2748425\ttotal: 213ms\tremaining: 3.01s\n",
      "66:\tlearn: 0.2743431\ttotal: 216ms\tremaining: 3.01s\n",
      "67:\tlearn: 0.2736885\ttotal: 220ms\tremaining: 3.01s\n",
      "68:\tlearn: 0.2731087\ttotal: 223ms\tremaining: 3.01s\n",
      "69:\tlearn: 0.2725812\ttotal: 226ms\tremaining: 3s\n",
      "70:\tlearn: 0.2716939\ttotal: 229ms\tremaining: 2.99s\n",
      "71:\tlearn: 0.2711069\ttotal: 232ms\tremaining: 2.98s\n",
      "72:\tlearn: 0.2705968\ttotal: 235ms\tremaining: 2.98s\n",
      "73:\tlearn: 0.2701641\ttotal: 237ms\tremaining: 2.97s\n",
      "74:\tlearn: 0.2696693\ttotal: 241ms\tremaining: 2.98s\n",
      "75:\tlearn: 0.2691813\ttotal: 245ms\tremaining: 2.97s\n",
      "76:\tlearn: 0.2685614\ttotal: 248ms\tremaining: 2.97s\n",
      "77:\tlearn: 0.2681844\ttotal: 252ms\tremaining: 2.97s\n",
      "78:\tlearn: 0.2677070\ttotal: 256ms\tremaining: 2.98s\n",
      "79:\tlearn: 0.2671395\ttotal: 259ms\tremaining: 2.98s\n",
      "80:\tlearn: 0.2667557\ttotal: 262ms\tremaining: 2.98s\n",
      "81:\tlearn: 0.2663043\ttotal: 266ms\tremaining: 2.98s\n",
      "82:\tlearn: 0.2658432\ttotal: 269ms\tremaining: 2.97s\n",
      "83:\tlearn: 0.2655473\ttotal: 272ms\tremaining: 2.96s\n",
      "84:\tlearn: 0.2649954\ttotal: 274ms\tremaining: 2.95s\n",
      "85:\tlearn: 0.2645280\ttotal: 277ms\tremaining: 2.94s\n",
      "86:\tlearn: 0.2643726\ttotal: 280ms\tremaining: 2.94s\n",
      "87:\tlearn: 0.2640961\ttotal: 283ms\tremaining: 2.93s\n",
      "88:\tlearn: 0.2636790\ttotal: 286ms\tremaining: 2.93s\n",
      "89:\tlearn: 0.2632498\ttotal: 289ms\tremaining: 2.92s\n",
      "90:\tlearn: 0.2628990\ttotal: 292ms\tremaining: 2.91s\n",
      "91:\tlearn: 0.2623287\ttotal: 295ms\tremaining: 2.91s\n",
      "92:\tlearn: 0.2619414\ttotal: 298ms\tremaining: 2.9s\n",
      "93:\tlearn: 0.2617240\ttotal: 300ms\tremaining: 2.9s\n",
      "94:\tlearn: 0.2613519\ttotal: 303ms\tremaining: 2.89s\n",
      "95:\tlearn: 0.2610894\ttotal: 306ms\tremaining: 2.88s\n",
      "96:\tlearn: 0.2608487\ttotal: 309ms\tremaining: 2.87s\n",
      "97:\tlearn: 0.2603994\ttotal: 312ms\tremaining: 2.87s\n",
      "98:\tlearn: 0.2600322\ttotal: 314ms\tremaining: 2.86s\n",
      "99:\tlearn: 0.2598216\ttotal: 317ms\tremaining: 2.85s\n",
      "100:\tlearn: 0.2594127\ttotal: 320ms\tremaining: 2.85s\n",
      "101:\tlearn: 0.2591993\ttotal: 323ms\tremaining: 2.84s\n",
      "102:\tlearn: 0.2586850\ttotal: 326ms\tremaining: 2.83s\n",
      "103:\tlearn: 0.2583982\ttotal: 329ms\tremaining: 2.83s\n",
      "104:\tlearn: 0.2580844\ttotal: 331ms\tremaining: 2.82s\n",
      "105:\tlearn: 0.2578557\ttotal: 334ms\tremaining: 2.82s\n",
      "106:\tlearn: 0.2576295\ttotal: 337ms\tremaining: 2.81s\n",
      "107:\tlearn: 0.2572034\ttotal: 341ms\tremaining: 2.81s\n",
      "108:\tlearn: 0.2569852\ttotal: 344ms\tremaining: 2.81s\n",
      "109:\tlearn: 0.2564116\ttotal: 347ms\tremaining: 2.81s\n",
      "110:\tlearn: 0.2560949\ttotal: 351ms\tremaining: 2.81s\n",
      "111:\tlearn: 0.2557133\ttotal: 355ms\tremaining: 2.81s\n",
      "112:\tlearn: 0.2555776\ttotal: 358ms\tremaining: 2.81s\n",
      "113:\tlearn: 0.2550975\ttotal: 361ms\tremaining: 2.81s\n",
      "114:\tlearn: 0.2546346\ttotal: 364ms\tremaining: 2.8s\n",
      "115:\tlearn: 0.2543044\ttotal: 367ms\tremaining: 2.79s\n",
      "116:\tlearn: 0.2539918\ttotal: 371ms\tremaining: 2.8s\n",
      "117:\tlearn: 0.2538178\ttotal: 374ms\tremaining: 2.79s\n",
      "118:\tlearn: 0.2535089\ttotal: 376ms\tremaining: 2.79s\n",
      "119:\tlearn: 0.2530116\ttotal: 379ms\tremaining: 2.78s\n",
      "120:\tlearn: 0.2526796\ttotal: 382ms\tremaining: 2.77s\n",
      "121:\tlearn: 0.2524592\ttotal: 386ms\tremaining: 2.78s\n",
      "122:\tlearn: 0.2521941\ttotal: 390ms\tremaining: 2.78s\n",
      "123:\tlearn: 0.2518855\ttotal: 392ms\tremaining: 2.77s\n",
      "124:\tlearn: 0.2516009\ttotal: 395ms\tremaining: 2.77s\n",
      "125:\tlearn: 0.2510964\ttotal: 398ms\tremaining: 2.76s\n",
      "126:\tlearn: 0.2505756\ttotal: 401ms\tremaining: 2.76s\n",
      "127:\tlearn: 0.2504166\ttotal: 404ms\tremaining: 2.75s\n",
      "128:\tlearn: 0.2501413\ttotal: 407ms\tremaining: 2.75s\n",
      "129:\tlearn: 0.2497959\ttotal: 409ms\tremaining: 2.74s\n",
      "130:\tlearn: 0.2495323\ttotal: 413ms\tremaining: 2.74s\n",
      "131:\tlearn: 0.2492553\ttotal: 416ms\tremaining: 2.74s\n",
      "132:\tlearn: 0.2488536\ttotal: 419ms\tremaining: 2.73s\n",
      "133:\tlearn: 0.2485575\ttotal: 422ms\tremaining: 2.73s\n",
      "134:\tlearn: 0.2481667\ttotal: 425ms\tremaining: 2.73s\n",
      "135:\tlearn: 0.2478387\ttotal: 429ms\tremaining: 2.73s\n",
      "136:\tlearn: 0.2474521\ttotal: 432ms\tremaining: 2.72s\n",
      "137:\tlearn: 0.2470635\ttotal: 435ms\tremaining: 2.71s\n",
      "138:\tlearn: 0.2468075\ttotal: 437ms\tremaining: 2.71s\n",
      "139:\tlearn: 0.2466045\ttotal: 440ms\tremaining: 2.7s\n",
      "140:\tlearn: 0.2464085\ttotal: 443ms\tremaining: 2.7s\n",
      "141:\tlearn: 0.2462269\ttotal: 446ms\tremaining: 2.69s\n",
      "142:\tlearn: 0.2459150\ttotal: 449ms\tremaining: 2.69s\n",
      "143:\tlearn: 0.2456099\ttotal: 451ms\tremaining: 2.68s\n",
      "144:\tlearn: 0.2454544\ttotal: 454ms\tremaining: 2.68s\n",
      "145:\tlearn: 0.2452878\ttotal: 457ms\tremaining: 2.67s\n",
      "146:\tlearn: 0.2450045\ttotal: 459ms\tremaining: 2.67s\n",
      "147:\tlearn: 0.2449269\ttotal: 462ms\tremaining: 2.66s\n",
      "148:\tlearn: 0.2446901\ttotal: 465ms\tremaining: 2.66s\n",
      "149:\tlearn: 0.2445405\ttotal: 468ms\tremaining: 2.65s\n",
      "150:\tlearn: 0.2444275\ttotal: 471ms\tremaining: 2.65s\n",
      "151:\tlearn: 0.2440811\ttotal: 473ms\tremaining: 2.64s\n",
      "152:\tlearn: 0.2437631\ttotal: 476ms\tremaining: 2.64s\n",
      "153:\tlearn: 0.2437088\ttotal: 479ms\tremaining: 2.63s\n",
      "154:\tlearn: 0.2433203\ttotal: 482ms\tremaining: 2.63s\n",
      "155:\tlearn: 0.2429835\ttotal: 485ms\tremaining: 2.62s\n",
      "156:\tlearn: 0.2427890\ttotal: 488ms\tremaining: 2.62s\n",
      "157:\tlearn: 0.2426909\ttotal: 492ms\tremaining: 2.62s\n",
      "158:\tlearn: 0.2425722\ttotal: 496ms\tremaining: 2.62s\n",
      "159:\tlearn: 0.2420943\ttotal: 499ms\tremaining: 2.62s\n",
      "160:\tlearn: 0.2419796\ttotal: 503ms\tremaining: 2.62s\n",
      "161:\tlearn: 0.2417254\ttotal: 507ms\tremaining: 2.62s\n",
      "162:\tlearn: 0.2415476\ttotal: 509ms\tremaining: 2.62s\n"
     ]
    },
    {
     "name": "stdout",
     "output_type": "stream",
     "text": [
      "163:\tlearn: 0.2413730\ttotal: 513ms\tremaining: 2.62s\n",
      "164:\tlearn: 0.2412087\ttotal: 516ms\tremaining: 2.61s\n",
      "165:\tlearn: 0.2410207\ttotal: 519ms\tremaining: 2.61s\n",
      "166:\tlearn: 0.2408509\ttotal: 522ms\tremaining: 2.6s\n",
      "167:\tlearn: 0.2406594\ttotal: 526ms\tremaining: 2.6s\n",
      "168:\tlearn: 0.2405480\ttotal: 529ms\tremaining: 2.6s\n",
      "169:\tlearn: 0.2402697\ttotal: 532ms\tremaining: 2.6s\n",
      "170:\tlearn: 0.2400812\ttotal: 535ms\tremaining: 2.59s\n",
      "171:\tlearn: 0.2398325\ttotal: 538ms\tremaining: 2.59s\n",
      "172:\tlearn: 0.2395771\ttotal: 542ms\tremaining: 2.59s\n",
      "173:\tlearn: 0.2392590\ttotal: 545ms\tremaining: 2.59s\n",
      "174:\tlearn: 0.2390612\ttotal: 548ms\tremaining: 2.58s\n",
      "175:\tlearn: 0.2389080\ttotal: 550ms\tremaining: 2.58s\n",
      "176:\tlearn: 0.2386946\ttotal: 554ms\tremaining: 2.58s\n",
      "177:\tlearn: 0.2384588\ttotal: 557ms\tremaining: 2.57s\n",
      "178:\tlearn: 0.2382202\ttotal: 560ms\tremaining: 2.57s\n",
      "179:\tlearn: 0.2380481\ttotal: 563ms\tremaining: 2.56s\n",
      "180:\tlearn: 0.2379216\ttotal: 565ms\tremaining: 2.56s\n",
      "181:\tlearn: 0.2377317\ttotal: 568ms\tremaining: 2.55s\n",
      "182:\tlearn: 0.2374410\ttotal: 571ms\tremaining: 2.55s\n",
      "183:\tlearn: 0.2372451\ttotal: 574ms\tremaining: 2.54s\n",
      "184:\tlearn: 0.2370541\ttotal: 577ms\tremaining: 2.54s\n",
      "185:\tlearn: 0.2366663\ttotal: 580ms\tremaining: 2.54s\n",
      "186:\tlearn: 0.2363372\ttotal: 584ms\tremaining: 2.54s\n",
      "187:\tlearn: 0.2360617\ttotal: 587ms\tremaining: 2.54s\n",
      "188:\tlearn: 0.2359078\ttotal: 590ms\tremaining: 2.53s\n",
      "189:\tlearn: 0.2356185\ttotal: 593ms\tremaining: 2.53s\n",
      "190:\tlearn: 0.2354958\ttotal: 596ms\tremaining: 2.53s\n",
      "191:\tlearn: 0.2353209\ttotal: 599ms\tremaining: 2.52s\n",
      "192:\tlearn: 0.2351064\ttotal: 602ms\tremaining: 2.52s\n",
      "193:\tlearn: 0.2349632\ttotal: 605ms\tremaining: 2.51s\n",
      "194:\tlearn: 0.2347455\ttotal: 607ms\tremaining: 2.51s\n",
      "195:\tlearn: 0.2346044\ttotal: 610ms\tremaining: 2.5s\n",
      "196:\tlearn: 0.2343869\ttotal: 613ms\tremaining: 2.5s\n",
      "197:\tlearn: 0.2342017\ttotal: 616ms\tremaining: 2.49s\n",
      "198:\tlearn: 0.2340153\ttotal: 619ms\tremaining: 2.49s\n",
      "199:\tlearn: 0.2338215\ttotal: 621ms\tremaining: 2.48s\n",
      "200:\tlearn: 0.2335417\ttotal: 624ms\tremaining: 2.48s\n",
      "201:\tlearn: 0.2333929\ttotal: 627ms\tremaining: 2.48s\n",
      "202:\tlearn: 0.2330359\ttotal: 629ms\tremaining: 2.47s\n",
      "203:\tlearn: 0.2327904\ttotal: 632ms\tremaining: 2.47s\n",
      "204:\tlearn: 0.2326295\ttotal: 635ms\tremaining: 2.46s\n",
      "205:\tlearn: 0.2323300\ttotal: 638ms\tremaining: 2.46s\n",
      "206:\tlearn: 0.2319835\ttotal: 640ms\tremaining: 2.45s\n",
      "207:\tlearn: 0.2317473\ttotal: 643ms\tremaining: 2.45s\n",
      "208:\tlearn: 0.2315813\ttotal: 646ms\tremaining: 2.44s\n",
      "209:\tlearn: 0.2314392\ttotal: 649ms\tremaining: 2.44s\n",
      "210:\tlearn: 0.2312964\ttotal: 651ms\tremaining: 2.44s\n",
      "211:\tlearn: 0.2311191\ttotal: 654ms\tremaining: 2.43s\n",
      "212:\tlearn: 0.2309449\ttotal: 657ms\tremaining: 2.43s\n",
      "213:\tlearn: 0.2306875\ttotal: 660ms\tremaining: 2.42s\n",
      "214:\tlearn: 0.2305439\ttotal: 663ms\tremaining: 2.42s\n",
      "215:\tlearn: 0.2303670\ttotal: 665ms\tremaining: 2.41s\n",
      "216:\tlearn: 0.2302358\ttotal: 668ms\tremaining: 2.41s\n",
      "217:\tlearn: 0.2300071\ttotal: 671ms\tremaining: 2.4s\n",
      "218:\tlearn: 0.2298698\ttotal: 674ms\tremaining: 2.4s\n",
      "219:\tlearn: 0.2296720\ttotal: 677ms\tremaining: 2.4s\n",
      "220:\tlearn: 0.2295166\ttotal: 679ms\tremaining: 2.39s\n",
      "221:\tlearn: 0.2294332\ttotal: 683ms\tremaining: 2.39s\n",
      "222:\tlearn: 0.2292185\ttotal: 686ms\tremaining: 2.39s\n",
      "223:\tlearn: 0.2290478\ttotal: 689ms\tremaining: 2.39s\n",
      "224:\tlearn: 0.2288997\ttotal: 692ms\tremaining: 2.38s\n",
      "225:\tlearn: 0.2287056\ttotal: 696ms\tremaining: 2.38s\n",
      "226:\tlearn: 0.2285683\ttotal: 699ms\tremaining: 2.38s\n",
      "227:\tlearn: 0.2284742\ttotal: 703ms\tremaining: 2.38s\n",
      "228:\tlearn: 0.2283434\ttotal: 706ms\tremaining: 2.38s\n",
      "229:\tlearn: 0.2280073\ttotal: 709ms\tremaining: 2.38s\n",
      "230:\tlearn: 0.2278172\ttotal: 714ms\tremaining: 2.38s\n",
      "231:\tlearn: 0.2275993\ttotal: 717ms\tremaining: 2.37s\n",
      "232:\tlearn: 0.2272772\ttotal: 721ms\tremaining: 2.37s\n",
      "233:\tlearn: 0.2271579\ttotal: 724ms\tremaining: 2.37s\n",
      "234:\tlearn: 0.2270923\ttotal: 728ms\tremaining: 2.37s\n",
      "235:\tlearn: 0.2269366\ttotal: 732ms\tremaining: 2.37s\n",
      "236:\tlearn: 0.2267457\ttotal: 735ms\tremaining: 2.37s\n",
      "237:\tlearn: 0.2266026\ttotal: 738ms\tremaining: 2.36s\n",
      "238:\tlearn: 0.2263755\ttotal: 741ms\tremaining: 2.36s\n",
      "239:\tlearn: 0.2262549\ttotal: 744ms\tremaining: 2.35s\n",
      "240:\tlearn: 0.2260318\ttotal: 747ms\tremaining: 2.35s\n",
      "241:\tlearn: 0.2259183\ttotal: 750ms\tremaining: 2.35s\n",
      "242:\tlearn: 0.2257278\ttotal: 754ms\tremaining: 2.35s\n",
      "243:\tlearn: 0.2253104\ttotal: 757ms\tremaining: 2.34s\n",
      "244:\tlearn: 0.2251293\ttotal: 759ms\tremaining: 2.34s\n",
      "245:\tlearn: 0.2250325\ttotal: 762ms\tremaining: 2.34s\n",
      "246:\tlearn: 0.2247451\ttotal: 765ms\tremaining: 2.33s\n",
      "247:\tlearn: 0.2246696\ttotal: 769ms\tremaining: 2.33s\n",
      "248:\tlearn: 0.2243636\ttotal: 772ms\tremaining: 2.33s\n",
      "249:\tlearn: 0.2240701\ttotal: 775ms\tremaining: 2.32s\n",
      "250:\tlearn: 0.2239647\ttotal: 777ms\tremaining: 2.32s\n",
      "251:\tlearn: 0.2238364\ttotal: 780ms\tremaining: 2.32s\n",
      "252:\tlearn: 0.2237521\ttotal: 783ms\tremaining: 2.31s\n",
      "253:\tlearn: 0.2234548\ttotal: 786ms\tremaining: 2.31s\n",
      "254:\tlearn: 0.2233621\ttotal: 788ms\tremaining: 2.3s\n",
      "255:\tlearn: 0.2231810\ttotal: 791ms\tremaining: 2.3s\n",
      "256:\tlearn: 0.2231001\ttotal: 794ms\tremaining: 2.29s\n",
      "257:\tlearn: 0.2228454\ttotal: 797ms\tremaining: 2.29s\n",
      "258:\tlearn: 0.2227796\ttotal: 799ms\tremaining: 2.29s\n",
      "259:\tlearn: 0.2227178\ttotal: 802ms\tremaining: 2.28s\n",
      "260:\tlearn: 0.2226324\ttotal: 805ms\tremaining: 2.28s\n",
      "261:\tlearn: 0.2224724\ttotal: 807ms\tremaining: 2.27s\n",
      "262:\tlearn: 0.2222847\ttotal: 810ms\tremaining: 2.27s\n",
      "263:\tlearn: 0.2221457\ttotal: 813ms\tremaining: 2.27s\n",
      "264:\tlearn: 0.2220697\ttotal: 816ms\tremaining: 2.26s\n",
      "265:\tlearn: 0.2220039\ttotal: 818ms\tremaining: 2.26s\n",
      "266:\tlearn: 0.2217457\ttotal: 821ms\tremaining: 2.25s\n",
      "267:\tlearn: 0.2215905\ttotal: 824ms\tremaining: 2.25s\n",
      "268:\tlearn: 0.2213389\ttotal: 827ms\tremaining: 2.25s\n",
      "269:\tlearn: 0.2212273\ttotal: 829ms\tremaining: 2.24s\n",
      "270:\tlearn: 0.2210390\ttotal: 832ms\tremaining: 2.24s\n",
      "271:\tlearn: 0.2208137\ttotal: 835ms\tremaining: 2.23s\n",
      "272:\tlearn: 0.2207735\ttotal: 838ms\tremaining: 2.23s\n",
      "273:\tlearn: 0.2206560\ttotal: 841ms\tremaining: 2.23s\n",
      "274:\tlearn: 0.2204294\ttotal: 843ms\tremaining: 2.22s\n",
      "275:\tlearn: 0.2203282\ttotal: 846ms\tremaining: 2.22s\n",
      "276:\tlearn: 0.2202588\ttotal: 849ms\tremaining: 2.21s\n",
      "277:\tlearn: 0.2201304\ttotal: 853ms\tremaining: 2.21s\n",
      "278:\tlearn: 0.2200629\ttotal: 856ms\tremaining: 2.21s\n",
      "279:\tlearn: 0.2199235\ttotal: 858ms\tremaining: 2.21s\n",
      "280:\tlearn: 0.2197122\ttotal: 861ms\tremaining: 2.2s\n",
      "281:\tlearn: 0.2194104\ttotal: 864ms\tremaining: 2.2s\n",
      "282:\tlearn: 0.2193017\ttotal: 868ms\tremaining: 2.2s\n",
      "283:\tlearn: 0.2191659\ttotal: 871ms\tremaining: 2.19s\n",
      "284:\tlearn: 0.2189638\ttotal: 874ms\tremaining: 2.19s\n",
      "285:\tlearn: 0.2187563\ttotal: 876ms\tremaining: 2.19s\n",
      "286:\tlearn: 0.2185849\ttotal: 879ms\tremaining: 2.18s\n",
      "287:\tlearn: 0.2184513\ttotal: 883ms\tremaining: 2.18s\n",
      "288:\tlearn: 0.2182393\ttotal: 886ms\tremaining: 2.18s\n",
      "289:\tlearn: 0.2180608\ttotal: 889ms\tremaining: 2.18s\n",
      "290:\tlearn: 0.2179973\ttotal: 892ms\tremaining: 2.17s\n",
      "291:\tlearn: 0.2178966\ttotal: 897ms\tremaining: 2.17s\n",
      "292:\tlearn: 0.2176757\ttotal: 901ms\tremaining: 2.17s\n",
      "293:\tlearn: 0.2175481\ttotal: 904ms\tremaining: 2.17s\n",
      "294:\tlearn: 0.2174014\ttotal: 908ms\tremaining: 2.17s\n",
      "295:\tlearn: 0.2172482\ttotal: 911ms\tremaining: 2.17s\n",
      "296:\tlearn: 0.2170387\ttotal: 914ms\tremaining: 2.16s\n",
      "297:\tlearn: 0.2168280\ttotal: 918ms\tremaining: 2.16s\n",
      "298:\tlearn: 0.2167405\ttotal: 922ms\tremaining: 2.16s\n",
      "299:\tlearn: 0.2165487\ttotal: 926ms\tremaining: 2.16s\n",
      "300:\tlearn: 0.2164493\ttotal: 930ms\tremaining: 2.16s\n",
      "301:\tlearn: 0.2163543\ttotal: 934ms\tremaining: 2.16s\n",
      "302:\tlearn: 0.2162274\ttotal: 937ms\tremaining: 2.15s\n",
      "303:\tlearn: 0.2159768\ttotal: 942ms\tremaining: 2.16s\n",
      "304:\tlearn: 0.2157839\ttotal: 946ms\tremaining: 2.15s\n",
      "305:\tlearn: 0.2155994\ttotal: 949ms\tremaining: 2.15s\n",
      "306:\tlearn: 0.2155056\ttotal: 953ms\tremaining: 2.15s\n",
      "307:\tlearn: 0.2154449\ttotal: 956ms\tremaining: 2.15s\n",
      "308:\tlearn: 0.2153498\ttotal: 960ms\tremaining: 2.15s\n",
      "309:\tlearn: 0.2152905\ttotal: 964ms\tremaining: 2.15s\n",
      "310:\tlearn: 0.2151705\ttotal: 967ms\tremaining: 2.14s\n",
      "311:\tlearn: 0.2149818\ttotal: 971ms\tremaining: 2.14s\n",
      "312:\tlearn: 0.2148999\ttotal: 974ms\tremaining: 2.14s\n",
      "313:\tlearn: 0.2146923\ttotal: 978ms\tremaining: 2.14s\n",
      "314:\tlearn: 0.2144953\ttotal: 981ms\tremaining: 2.13s\n",
      "315:\tlearn: 0.2142583\ttotal: 985ms\tremaining: 2.13s\n",
      "316:\tlearn: 0.2140813\ttotal: 988ms\tremaining: 2.13s\n",
      "317:\tlearn: 0.2139240\ttotal: 992ms\tremaining: 2.13s\n",
      "318:\tlearn: 0.2136116\ttotal: 995ms\tremaining: 2.13s\n",
      "319:\tlearn: 0.2134170\ttotal: 999ms\tremaining: 2.12s\n",
      "320:\tlearn: 0.2133459\ttotal: 1s\tremaining: 2.12s\n",
      "321:\tlearn: 0.2130613\ttotal: 1s\tremaining: 2.12s\n",
      "322:\tlearn: 0.2129610\ttotal: 1.01s\tremaining: 2.12s\n",
      "323:\tlearn: 0.2128174\ttotal: 1.01s\tremaining: 2.11s\n",
      "324:\tlearn: 0.2125975\ttotal: 1.02s\tremaining: 2.11s\n",
      "325:\tlearn: 0.2125136\ttotal: 1.02s\tremaining: 2.11s\n"
     ]
    },
    {
     "name": "stdout",
     "output_type": "stream",
     "text": [
      "326:\tlearn: 0.2123411\ttotal: 1.02s\tremaining: 2.11s\n",
      "327:\tlearn: 0.2122548\ttotal: 1.03s\tremaining: 2.11s\n",
      "328:\tlearn: 0.2122228\ttotal: 1.03s\tremaining: 2.1s\n",
      "329:\tlearn: 0.2120768\ttotal: 1.03s\tremaining: 2.1s\n",
      "330:\tlearn: 0.2118887\ttotal: 1.04s\tremaining: 2.1s\n",
      "331:\tlearn: 0.2117628\ttotal: 1.04s\tremaining: 2.1s\n",
      "332:\tlearn: 0.2115989\ttotal: 1.04s\tremaining: 2.09s\n",
      "333:\tlearn: 0.2113890\ttotal: 1.05s\tremaining: 2.09s\n",
      "334:\tlearn: 0.2111983\ttotal: 1.05s\tremaining: 2.09s\n",
      "335:\tlearn: 0.2110696\ttotal: 1.05s\tremaining: 2.08s\n",
      "336:\tlearn: 0.2107378\ttotal: 1.06s\tremaining: 2.08s\n",
      "337:\tlearn: 0.2106372\ttotal: 1.06s\tremaining: 2.08s\n",
      "338:\tlearn: 0.2103650\ttotal: 1.06s\tremaining: 2.07s\n",
      "339:\tlearn: 0.2102683\ttotal: 1.07s\tremaining: 2.07s\n",
      "340:\tlearn: 0.2101534\ttotal: 1.07s\tremaining: 2.07s\n",
      "341:\tlearn: 0.2099531\ttotal: 1.07s\tremaining: 2.06s\n",
      "342:\tlearn: 0.2097968\ttotal: 1.07s\tremaining: 2.06s\n",
      "343:\tlearn: 0.2096568\ttotal: 1.08s\tremaining: 2.06s\n",
      "344:\tlearn: 0.2095019\ttotal: 1.08s\tremaining: 2.05s\n",
      "345:\tlearn: 0.2094562\ttotal: 1.08s\tremaining: 2.05s\n",
      "346:\tlearn: 0.2092892\ttotal: 1.09s\tremaining: 2.04s\n",
      "347:\tlearn: 0.2090307\ttotal: 1.09s\tremaining: 2.04s\n",
      "348:\tlearn: 0.2088799\ttotal: 1.09s\tremaining: 2.04s\n",
      "349:\tlearn: 0.2087980\ttotal: 1.09s\tremaining: 2.03s\n",
      "350:\tlearn: 0.2086476\ttotal: 1.1s\tremaining: 2.03s\n",
      "351:\tlearn: 0.2084806\ttotal: 1.1s\tremaining: 2.03s\n",
      "352:\tlearn: 0.2083889\ttotal: 1.1s\tremaining: 2.02s\n",
      "353:\tlearn: 0.2082566\ttotal: 1.11s\tremaining: 2.02s\n",
      "354:\tlearn: 0.2079801\ttotal: 1.11s\tremaining: 2.02s\n",
      "355:\tlearn: 0.2079179\ttotal: 1.11s\tremaining: 2.01s\n",
      "356:\tlearn: 0.2077355\ttotal: 1.12s\tremaining: 2.01s\n",
      "357:\tlearn: 0.2076130\ttotal: 1.12s\tremaining: 2.01s\n",
      "358:\tlearn: 0.2074443\ttotal: 1.12s\tremaining: 2s\n",
      "359:\tlearn: 0.2071544\ttotal: 1.12s\tremaining: 2s\n",
      "360:\tlearn: 0.2070853\ttotal: 1.13s\tremaining: 2s\n",
      "361:\tlearn: 0.2070355\ttotal: 1.13s\tremaining: 1.99s\n",
      "362:\tlearn: 0.2069447\ttotal: 1.13s\tremaining: 1.99s\n",
      "363:\tlearn: 0.2067599\ttotal: 1.14s\tremaining: 1.98s\n",
      "364:\tlearn: 0.2065879\ttotal: 1.14s\tremaining: 1.98s\n",
      "365:\tlearn: 0.2065112\ttotal: 1.14s\tremaining: 1.98s\n",
      "366:\tlearn: 0.2062285\ttotal: 1.14s\tremaining: 1.97s\n",
      "367:\tlearn: 0.2061209\ttotal: 1.15s\tremaining: 1.97s\n",
      "368:\tlearn: 0.2059067\ttotal: 1.15s\tremaining: 1.97s\n",
      "369:\tlearn: 0.2056439\ttotal: 1.15s\tremaining: 1.96s\n",
      "370:\tlearn: 0.2054698\ttotal: 1.16s\tremaining: 1.96s\n",
      "371:\tlearn: 0.2053680\ttotal: 1.16s\tremaining: 1.96s\n",
      "372:\tlearn: 0.2051763\ttotal: 1.16s\tremaining: 1.95s\n",
      "373:\tlearn: 0.2049358\ttotal: 1.16s\tremaining: 1.95s\n",
      "374:\tlearn: 0.2047616\ttotal: 1.17s\tremaining: 1.94s\n",
      "375:\tlearn: 0.2046501\ttotal: 1.17s\tremaining: 1.94s\n",
      "376:\tlearn: 0.2045706\ttotal: 1.17s\tremaining: 1.94s\n",
      "377:\tlearn: 0.2043482\ttotal: 1.17s\tremaining: 1.93s\n",
      "378:\tlearn: 0.2041728\ttotal: 1.18s\tremaining: 1.93s\n",
      "379:\tlearn: 0.2040485\ttotal: 1.18s\tremaining: 1.93s\n",
      "380:\tlearn: 0.2038836\ttotal: 1.18s\tremaining: 1.92s\n",
      "381:\tlearn: 0.2036668\ttotal: 1.19s\tremaining: 1.92s\n",
      "382:\tlearn: 0.2035018\ttotal: 1.19s\tremaining: 1.92s\n",
      "383:\tlearn: 0.2034371\ttotal: 1.19s\tremaining: 1.91s\n",
      "384:\tlearn: 0.2032055\ttotal: 1.2s\tremaining: 1.91s\n",
      "385:\tlearn: 0.2030445\ttotal: 1.2s\tremaining: 1.91s\n",
      "386:\tlearn: 0.2029284\ttotal: 1.2s\tremaining: 1.9s\n",
      "387:\tlearn: 0.2028513\ttotal: 1.2s\tremaining: 1.9s\n",
      "388:\tlearn: 0.2027793\ttotal: 1.21s\tremaining: 1.9s\n",
      "389:\tlearn: 0.2025891\ttotal: 1.21s\tremaining: 1.89s\n",
      "390:\tlearn: 0.2024091\ttotal: 1.21s\tremaining: 1.89s\n",
      "391:\tlearn: 0.2023440\ttotal: 1.22s\tremaining: 1.89s\n",
      "392:\tlearn: 0.2022737\ttotal: 1.22s\tremaining: 1.88s\n",
      "393:\tlearn: 0.2021399\ttotal: 1.22s\tremaining: 1.88s\n",
      "394:\tlearn: 0.2020351\ttotal: 1.23s\tremaining: 1.88s\n",
      "395:\tlearn: 0.2019183\ttotal: 1.23s\tremaining: 1.87s\n",
      "396:\tlearn: 0.2017873\ttotal: 1.23s\tremaining: 1.87s\n",
      "397:\tlearn: 0.2015873\ttotal: 1.23s\tremaining: 1.87s\n",
      "398:\tlearn: 0.2015367\ttotal: 1.24s\tremaining: 1.86s\n",
      "399:\tlearn: 0.2014593\ttotal: 1.24s\tremaining: 1.86s\n",
      "400:\tlearn: 0.2012469\ttotal: 1.24s\tremaining: 1.86s\n",
      "401:\tlearn: 0.2010451\ttotal: 1.25s\tremaining: 1.85s\n",
      "402:\tlearn: 0.2009705\ttotal: 1.25s\tremaining: 1.85s\n",
      "403:\tlearn: 0.2007410\ttotal: 1.25s\tremaining: 1.85s\n",
      "404:\tlearn: 0.2004916\ttotal: 1.25s\tremaining: 1.84s\n",
      "405:\tlearn: 0.2003600\ttotal: 1.26s\tremaining: 1.84s\n",
      "406:\tlearn: 0.2002618\ttotal: 1.26s\tremaining: 1.84s\n",
      "407:\tlearn: 0.2000624\ttotal: 1.26s\tremaining: 1.83s\n",
      "408:\tlearn: 0.1999162\ttotal: 1.27s\tremaining: 1.83s\n",
      "409:\tlearn: 0.1997410\ttotal: 1.27s\tremaining: 1.83s\n",
      "410:\tlearn: 0.1996952\ttotal: 1.27s\tremaining: 1.82s\n",
      "411:\tlearn: 0.1994742\ttotal: 1.27s\tremaining: 1.82s\n",
      "412:\tlearn: 0.1993229\ttotal: 1.28s\tremaining: 1.82s\n",
      "413:\tlearn: 0.1992522\ttotal: 1.28s\tremaining: 1.81s\n",
      "414:\tlearn: 0.1992104\ttotal: 1.28s\tremaining: 1.81s\n",
      "415:\tlearn: 0.1989552\ttotal: 1.29s\tremaining: 1.81s\n",
      "416:\tlearn: 0.1987591\ttotal: 1.29s\tremaining: 1.8s\n",
      "417:\tlearn: 0.1986023\ttotal: 1.29s\tremaining: 1.8s\n",
      "418:\tlearn: 0.1983814\ttotal: 1.3s\tremaining: 1.8s\n",
      "419:\tlearn: 0.1982764\ttotal: 1.3s\tremaining: 1.79s\n",
      "420:\tlearn: 0.1980859\ttotal: 1.3s\tremaining: 1.79s\n",
      "421:\tlearn: 0.1979633\ttotal: 1.3s\tremaining: 1.79s\n",
      "422:\tlearn: 0.1978250\ttotal: 1.31s\tremaining: 1.78s\n",
      "423:\tlearn: 0.1976410\ttotal: 1.31s\tremaining: 1.78s\n",
      "424:\tlearn: 0.1974919\ttotal: 1.31s\tremaining: 1.78s\n",
      "425:\tlearn: 0.1973263\ttotal: 1.32s\tremaining: 1.77s\n",
      "426:\tlearn: 0.1972846\ttotal: 1.32s\tremaining: 1.77s\n",
      "427:\tlearn: 0.1971002\ttotal: 1.32s\tremaining: 1.77s\n",
      "428:\tlearn: 0.1969542\ttotal: 1.32s\tremaining: 1.76s\n",
      "429:\tlearn: 0.1968358\ttotal: 1.33s\tremaining: 1.76s\n",
      "430:\tlearn: 0.1967761\ttotal: 1.33s\tremaining: 1.75s\n",
      "431:\tlearn: 0.1967507\ttotal: 1.33s\tremaining: 1.75s\n",
      "432:\tlearn: 0.1966820\ttotal: 1.33s\tremaining: 1.75s\n",
      "433:\tlearn: 0.1965537\ttotal: 1.34s\tremaining: 1.75s\n",
      "434:\tlearn: 0.1964150\ttotal: 1.34s\tremaining: 1.74s\n",
      "435:\tlearn: 0.1962431\ttotal: 1.34s\tremaining: 1.74s\n",
      "436:\tlearn: 0.1960090\ttotal: 1.35s\tremaining: 1.73s\n",
      "437:\tlearn: 0.1957967\ttotal: 1.35s\tremaining: 1.73s\n",
      "438:\tlearn: 0.1957056\ttotal: 1.35s\tremaining: 1.73s\n",
      "439:\tlearn: 0.1956262\ttotal: 1.35s\tremaining: 1.72s\n",
      "440:\tlearn: 0.1953112\ttotal: 1.36s\tremaining: 1.72s\n",
      "441:\tlearn: 0.1952211\ttotal: 1.36s\tremaining: 1.72s\n",
      "442:\tlearn: 0.1949256\ttotal: 1.36s\tremaining: 1.71s\n",
      "443:\tlearn: 0.1947067\ttotal: 1.37s\tremaining: 1.71s\n",
      "444:\tlearn: 0.1945012\ttotal: 1.37s\tremaining: 1.71s\n",
      "445:\tlearn: 0.1943210\ttotal: 1.37s\tremaining: 1.71s\n",
      "446:\tlearn: 0.1941099\ttotal: 1.38s\tremaining: 1.7s\n",
      "447:\tlearn: 0.1939474\ttotal: 1.38s\tremaining: 1.7s\n",
      "448:\tlearn: 0.1937837\ttotal: 1.38s\tremaining: 1.7s\n",
      "449:\tlearn: 0.1937165\ttotal: 1.39s\tremaining: 1.69s\n",
      "450:\tlearn: 0.1935687\ttotal: 1.39s\tremaining: 1.69s\n",
      "451:\tlearn: 0.1934244\ttotal: 1.39s\tremaining: 1.69s\n",
      "452:\tlearn: 0.1932588\ttotal: 1.4s\tremaining: 1.68s\n",
      "453:\tlearn: 0.1931160\ttotal: 1.4s\tremaining: 1.68s\n",
      "454:\tlearn: 0.1928641\ttotal: 1.4s\tremaining: 1.68s\n",
      "455:\tlearn: 0.1927384\ttotal: 1.4s\tremaining: 1.68s\n",
      "456:\tlearn: 0.1926022\ttotal: 1.41s\tremaining: 1.67s\n",
      "457:\tlearn: 0.1924740\ttotal: 1.41s\tremaining: 1.67s\n",
      "458:\tlearn: 0.1923315\ttotal: 1.41s\tremaining: 1.67s\n",
      "459:\tlearn: 0.1921958\ttotal: 1.42s\tremaining: 1.66s\n",
      "460:\tlearn: 0.1921214\ttotal: 1.42s\tremaining: 1.66s\n",
      "461:\tlearn: 0.1919824\ttotal: 1.42s\tremaining: 1.66s\n",
      "462:\tlearn: 0.1918115\ttotal: 1.43s\tremaining: 1.65s\n",
      "463:\tlearn: 0.1917693\ttotal: 1.43s\tremaining: 1.65s\n",
      "464:\tlearn: 0.1916401\ttotal: 1.43s\tremaining: 1.65s\n",
      "465:\tlearn: 0.1915508\ttotal: 1.43s\tremaining: 1.64s\n",
      "466:\tlearn: 0.1914330\ttotal: 1.44s\tremaining: 1.64s\n",
      "467:\tlearn: 0.1913323\ttotal: 1.44s\tremaining: 1.64s\n",
      "468:\tlearn: 0.1911631\ttotal: 1.44s\tremaining: 1.63s\n",
      "469:\tlearn: 0.1911086\ttotal: 1.45s\tremaining: 1.63s\n",
      "470:\tlearn: 0.1910541\ttotal: 1.45s\tremaining: 1.63s\n",
      "471:\tlearn: 0.1909047\ttotal: 1.45s\tremaining: 1.63s\n",
      "472:\tlearn: 0.1908333\ttotal: 1.46s\tremaining: 1.62s\n",
      "473:\tlearn: 0.1907198\ttotal: 1.46s\tremaining: 1.62s\n",
      "474:\tlearn: 0.1905502\ttotal: 1.46s\tremaining: 1.61s\n",
      "475:\tlearn: 0.1904071\ttotal: 1.46s\tremaining: 1.61s\n",
      "476:\tlearn: 0.1903487\ttotal: 1.47s\tremaining: 1.61s\n",
      "477:\tlearn: 0.1902636\ttotal: 1.47s\tremaining: 1.6s\n",
      "478:\tlearn: 0.1901528\ttotal: 1.47s\tremaining: 1.6s\n",
      "479:\tlearn: 0.1900644\ttotal: 1.48s\tremaining: 1.6s\n",
      "480:\tlearn: 0.1900169\ttotal: 1.48s\tremaining: 1.59s\n",
      "481:\tlearn: 0.1899632\ttotal: 1.48s\tremaining: 1.59s\n",
      "482:\tlearn: 0.1898524\ttotal: 1.48s\tremaining: 1.59s\n",
      "483:\tlearn: 0.1897108\ttotal: 1.49s\tremaining: 1.58s\n",
      "484:\tlearn: 0.1895508\ttotal: 1.49s\tremaining: 1.58s\n",
      "485:\tlearn: 0.1894228\ttotal: 1.49s\tremaining: 1.58s\n",
      "486:\tlearn: 0.1893571\ttotal: 1.5s\tremaining: 1.58s\n",
      "487:\tlearn: 0.1892224\ttotal: 1.5s\tremaining: 1.57s\n",
      "488:\tlearn: 0.1890268\ttotal: 1.5s\tremaining: 1.57s\n",
      "489:\tlearn: 0.1888651\ttotal: 1.5s\tremaining: 1.57s\n",
      "490:\tlearn: 0.1886956\ttotal: 1.51s\tremaining: 1.56s\n",
      "491:\tlearn: 0.1886177\ttotal: 1.51s\tremaining: 1.56s\n",
      "492:\tlearn: 0.1884843\ttotal: 1.51s\tremaining: 1.56s\n",
      "493:\tlearn: 0.1884322\ttotal: 1.51s\tremaining: 1.55s\n",
      "494:\tlearn: 0.1883382\ttotal: 1.52s\tremaining: 1.55s\n",
      "495:\tlearn: 0.1881523\ttotal: 1.52s\tremaining: 1.54s\n",
      "496:\tlearn: 0.1880421\ttotal: 1.52s\tremaining: 1.54s\n",
      "497:\tlearn: 0.1879377\ttotal: 1.53s\tremaining: 1.54s\n",
      "498:\tlearn: 0.1877208\ttotal: 1.53s\tremaining: 1.53s\n",
      "499:\tlearn: 0.1875954\ttotal: 1.53s\tremaining: 1.53s\n"
     ]
    },
    {
     "name": "stdout",
     "output_type": "stream",
     "text": [
      "500:\tlearn: 0.1875212\ttotal: 1.54s\tremaining: 1.53s\n",
      "501:\tlearn: 0.1874061\ttotal: 1.54s\tremaining: 1.53s\n",
      "502:\tlearn: 0.1872808\ttotal: 1.54s\tremaining: 1.52s\n",
      "503:\tlearn: 0.1871195\ttotal: 1.54s\tremaining: 1.52s\n",
      "504:\tlearn: 0.1869906\ttotal: 1.55s\tremaining: 1.52s\n",
      "505:\tlearn: 0.1868909\ttotal: 1.55s\tremaining: 1.51s\n",
      "506:\tlearn: 0.1867132\ttotal: 1.55s\tremaining: 1.51s\n",
      "507:\tlearn: 0.1866281\ttotal: 1.56s\tremaining: 1.51s\n",
      "508:\tlearn: 0.1865795\ttotal: 1.56s\tremaining: 1.5s\n",
      "509:\tlearn: 0.1864932\ttotal: 1.56s\tremaining: 1.5s\n",
      "510:\tlearn: 0.1863339\ttotal: 1.57s\tremaining: 1.5s\n",
      "511:\tlearn: 0.1862161\ttotal: 1.57s\tremaining: 1.5s\n",
      "512:\tlearn: 0.1861280\ttotal: 1.57s\tremaining: 1.49s\n",
      "513:\tlearn: 0.1860919\ttotal: 1.57s\tremaining: 1.49s\n",
      "514:\tlearn: 0.1860452\ttotal: 1.58s\tremaining: 1.49s\n",
      "515:\tlearn: 0.1859260\ttotal: 1.58s\tremaining: 1.48s\n",
      "516:\tlearn: 0.1857309\ttotal: 1.58s\tremaining: 1.48s\n",
      "517:\tlearn: 0.1855016\ttotal: 1.59s\tremaining: 1.48s\n",
      "518:\tlearn: 0.1854409\ttotal: 1.59s\tremaining: 1.47s\n",
      "519:\tlearn: 0.1853121\ttotal: 1.59s\tremaining: 1.47s\n",
      "520:\tlearn: 0.1852024\ttotal: 1.6s\tremaining: 1.47s\n",
      "521:\tlearn: 0.1850384\ttotal: 1.6s\tremaining: 1.46s\n",
      "522:\tlearn: 0.1849923\ttotal: 1.6s\tremaining: 1.46s\n",
      "523:\tlearn: 0.1848969\ttotal: 1.6s\tremaining: 1.46s\n",
      "524:\tlearn: 0.1847067\ttotal: 1.61s\tremaining: 1.46s\n",
      "525:\tlearn: 0.1846257\ttotal: 1.61s\tremaining: 1.45s\n",
      "526:\tlearn: 0.1845566\ttotal: 1.61s\tremaining: 1.45s\n",
      "527:\tlearn: 0.1844746\ttotal: 1.62s\tremaining: 1.45s\n",
      "528:\tlearn: 0.1843940\ttotal: 1.62s\tremaining: 1.44s\n",
      "529:\tlearn: 0.1842049\ttotal: 1.62s\tremaining: 1.44s\n",
      "530:\tlearn: 0.1840997\ttotal: 1.63s\tremaining: 1.44s\n",
      "531:\tlearn: 0.1839204\ttotal: 1.63s\tremaining: 1.43s\n",
      "532:\tlearn: 0.1838218\ttotal: 1.63s\tremaining: 1.43s\n",
      "533:\tlearn: 0.1837459\ttotal: 1.64s\tremaining: 1.43s\n",
      "534:\tlearn: 0.1835449\ttotal: 1.64s\tremaining: 1.42s\n",
      "535:\tlearn: 0.1834290\ttotal: 1.64s\tremaining: 1.42s\n",
      "536:\tlearn: 0.1833444\ttotal: 1.64s\tremaining: 1.42s\n",
      "537:\tlearn: 0.1832724\ttotal: 1.65s\tremaining: 1.41s\n",
      "538:\tlearn: 0.1831323\ttotal: 1.65s\tremaining: 1.41s\n",
      "539:\tlearn: 0.1830160\ttotal: 1.65s\tremaining: 1.41s\n",
      "540:\tlearn: 0.1829003\ttotal: 1.66s\tremaining: 1.4s\n",
      "541:\tlearn: 0.1828337\ttotal: 1.66s\tremaining: 1.4s\n",
      "542:\tlearn: 0.1827801\ttotal: 1.66s\tremaining: 1.4s\n",
      "543:\tlearn: 0.1827042\ttotal: 1.66s\tremaining: 1.39s\n",
      "544:\tlearn: 0.1826179\ttotal: 1.67s\tremaining: 1.39s\n",
      "545:\tlearn: 0.1824684\ttotal: 1.67s\tremaining: 1.39s\n",
      "546:\tlearn: 0.1823779\ttotal: 1.67s\tremaining: 1.38s\n",
      "547:\tlearn: 0.1822530\ttotal: 1.68s\tremaining: 1.38s\n",
      "548:\tlearn: 0.1820611\ttotal: 1.68s\tremaining: 1.38s\n",
      "549:\tlearn: 0.1819615\ttotal: 1.68s\tremaining: 1.38s\n",
      "550:\tlearn: 0.1818729\ttotal: 1.68s\tremaining: 1.37s\n",
      "551:\tlearn: 0.1817540\ttotal: 1.69s\tremaining: 1.37s\n",
      "552:\tlearn: 0.1816589\ttotal: 1.69s\tremaining: 1.36s\n",
      "553:\tlearn: 0.1813981\ttotal: 1.69s\tremaining: 1.36s\n",
      "554:\tlearn: 0.1812922\ttotal: 1.7s\tremaining: 1.36s\n",
      "555:\tlearn: 0.1811828\ttotal: 1.7s\tremaining: 1.36s\n",
      "556:\tlearn: 0.1810212\ttotal: 1.7s\tremaining: 1.35s\n",
      "557:\tlearn: 0.1808724\ttotal: 1.7s\tremaining: 1.35s\n",
      "558:\tlearn: 0.1807948\ttotal: 1.71s\tremaining: 1.35s\n",
      "559:\tlearn: 0.1806706\ttotal: 1.71s\tremaining: 1.34s\n",
      "560:\tlearn: 0.1806018\ttotal: 1.71s\tremaining: 1.34s\n",
      "561:\tlearn: 0.1805375\ttotal: 1.72s\tremaining: 1.34s\n",
      "562:\tlearn: 0.1804104\ttotal: 1.72s\tremaining: 1.33s\n",
      "563:\tlearn: 0.1803181\ttotal: 1.72s\tremaining: 1.33s\n",
      "564:\tlearn: 0.1801818\ttotal: 1.73s\tremaining: 1.33s\n",
      "565:\tlearn: 0.1800581\ttotal: 1.73s\tremaining: 1.32s\n",
      "566:\tlearn: 0.1799542\ttotal: 1.73s\tremaining: 1.32s\n",
      "567:\tlearn: 0.1798651\ttotal: 1.73s\tremaining: 1.32s\n",
      "568:\tlearn: 0.1797898\ttotal: 1.74s\tremaining: 1.32s\n",
      "569:\tlearn: 0.1796200\ttotal: 1.74s\tremaining: 1.31s\n",
      "570:\tlearn: 0.1795365\ttotal: 1.74s\tremaining: 1.31s\n",
      "571:\tlearn: 0.1794624\ttotal: 1.75s\tremaining: 1.31s\n",
      "572:\tlearn: 0.1793012\ttotal: 1.75s\tremaining: 1.3s\n",
      "573:\tlearn: 0.1792536\ttotal: 1.75s\tremaining: 1.3s\n",
      "574:\tlearn: 0.1792282\ttotal: 1.76s\tremaining: 1.3s\n",
      "575:\tlearn: 0.1791084\ttotal: 1.76s\tremaining: 1.3s\n",
      "576:\tlearn: 0.1790326\ttotal: 1.76s\tremaining: 1.29s\n",
      "577:\tlearn: 0.1789953\ttotal: 1.77s\tremaining: 1.29s\n",
      "578:\tlearn: 0.1789061\ttotal: 1.77s\tremaining: 1.29s\n",
      "579:\tlearn: 0.1787771\ttotal: 1.77s\tremaining: 1.28s\n",
      "580:\tlearn: 0.1786322\ttotal: 1.77s\tremaining: 1.28s\n",
      "581:\tlearn: 0.1785886\ttotal: 1.78s\tremaining: 1.28s\n",
      "582:\tlearn: 0.1784982\ttotal: 1.78s\tremaining: 1.27s\n",
      "583:\tlearn: 0.1784349\ttotal: 1.78s\tremaining: 1.27s\n",
      "584:\tlearn: 0.1783628\ttotal: 1.79s\tremaining: 1.27s\n",
      "585:\tlearn: 0.1782913\ttotal: 1.79s\tremaining: 1.26s\n",
      "586:\tlearn: 0.1781007\ttotal: 1.79s\tremaining: 1.26s\n",
      "587:\tlearn: 0.1779882\ttotal: 1.8s\tremaining: 1.26s\n",
      "588:\tlearn: 0.1779253\ttotal: 1.8s\tremaining: 1.25s\n",
      "589:\tlearn: 0.1777506\ttotal: 1.8s\tremaining: 1.25s\n",
      "590:\tlearn: 0.1776115\ttotal: 1.8s\tremaining: 1.25s\n",
      "591:\tlearn: 0.1775681\ttotal: 1.81s\tremaining: 1.25s\n",
      "592:\tlearn: 0.1774455\ttotal: 1.81s\tremaining: 1.24s\n",
      "593:\tlearn: 0.1773346\ttotal: 1.81s\tremaining: 1.24s\n",
      "594:\tlearn: 0.1771918\ttotal: 1.82s\tremaining: 1.24s\n",
      "595:\tlearn: 0.1770490\ttotal: 1.82s\tremaining: 1.23s\n",
      "596:\tlearn: 0.1769753\ttotal: 1.82s\tremaining: 1.23s\n",
      "597:\tlearn: 0.1768851\ttotal: 1.82s\tremaining: 1.23s\n",
      "598:\tlearn: 0.1767879\ttotal: 1.83s\tremaining: 1.22s\n",
      "599:\tlearn: 0.1767306\ttotal: 1.83s\tremaining: 1.22s\n",
      "600:\tlearn: 0.1766871\ttotal: 1.83s\tremaining: 1.22s\n",
      "601:\tlearn: 0.1764982\ttotal: 1.83s\tremaining: 1.21s\n",
      "602:\tlearn: 0.1764231\ttotal: 1.84s\tremaining: 1.21s\n",
      "603:\tlearn: 0.1763153\ttotal: 1.84s\tremaining: 1.21s\n",
      "604:\tlearn: 0.1762146\ttotal: 1.84s\tremaining: 1.2s\n",
      "605:\tlearn: 0.1761792\ttotal: 1.85s\tremaining: 1.2s\n",
      "606:\tlearn: 0.1760854\ttotal: 1.85s\tremaining: 1.2s\n",
      "607:\tlearn: 0.1760372\ttotal: 1.85s\tremaining: 1.19s\n",
      "608:\tlearn: 0.1759772\ttotal: 1.85s\tremaining: 1.19s\n",
      "609:\tlearn: 0.1758277\ttotal: 1.86s\tremaining: 1.19s\n",
      "610:\tlearn: 0.1757873\ttotal: 1.86s\tremaining: 1.18s\n",
      "611:\tlearn: 0.1757026\ttotal: 1.86s\tremaining: 1.18s\n",
      "612:\tlearn: 0.1756210\ttotal: 1.87s\tremaining: 1.18s\n",
      "613:\tlearn: 0.1755552\ttotal: 1.87s\tremaining: 1.18s\n",
      "614:\tlearn: 0.1754355\ttotal: 1.87s\tremaining: 1.17s\n",
      "615:\tlearn: 0.1753745\ttotal: 1.87s\tremaining: 1.17s\n",
      "616:\tlearn: 0.1752874\ttotal: 1.88s\tremaining: 1.17s\n",
      "617:\tlearn: 0.1751345\ttotal: 1.88s\tremaining: 1.16s\n",
      "618:\tlearn: 0.1751019\ttotal: 1.88s\tremaining: 1.16s\n",
      "619:\tlearn: 0.1750470\ttotal: 1.89s\tremaining: 1.16s\n",
      "620:\tlearn: 0.1749832\ttotal: 1.89s\tremaining: 1.15s\n",
      "621:\tlearn: 0.1748986\ttotal: 1.89s\tremaining: 1.15s\n",
      "622:\tlearn: 0.1748540\ttotal: 1.9s\tremaining: 1.15s\n",
      "623:\tlearn: 0.1748317\ttotal: 1.9s\tremaining: 1.15s\n",
      "624:\tlearn: 0.1748091\ttotal: 1.9s\tremaining: 1.14s\n",
      "625:\tlearn: 0.1747383\ttotal: 1.91s\tremaining: 1.14s\n",
      "626:\tlearn: 0.1747032\ttotal: 1.91s\tremaining: 1.14s\n",
      "627:\tlearn: 0.1745221\ttotal: 1.91s\tremaining: 1.13s\n",
      "628:\tlearn: 0.1744120\ttotal: 1.92s\tremaining: 1.13s\n",
      "629:\tlearn: 0.1743462\ttotal: 1.92s\tremaining: 1.13s\n",
      "630:\tlearn: 0.1742466\ttotal: 1.92s\tremaining: 1.12s\n",
      "631:\tlearn: 0.1742257\ttotal: 1.93s\tremaining: 1.12s\n",
      "632:\tlearn: 0.1741072\ttotal: 1.93s\tremaining: 1.12s\n",
      "633:\tlearn: 0.1739886\ttotal: 1.93s\tremaining: 1.11s\n",
      "634:\tlearn: 0.1738501\ttotal: 1.93s\tremaining: 1.11s\n",
      "635:\tlearn: 0.1737264\ttotal: 1.94s\tremaining: 1.11s\n",
      "636:\tlearn: 0.1736142\ttotal: 1.94s\tremaining: 1.1s\n",
      "637:\tlearn: 0.1734973\ttotal: 1.94s\tremaining: 1.1s\n",
      "638:\tlearn: 0.1734218\ttotal: 1.94s\tremaining: 1.1s\n",
      "639:\tlearn: 0.1733552\ttotal: 1.95s\tremaining: 1.09s\n",
      "640:\tlearn: 0.1732629\ttotal: 1.95s\tremaining: 1.09s\n",
      "641:\tlearn: 0.1732153\ttotal: 1.96s\tremaining: 1.09s\n",
      "642:\tlearn: 0.1731035\ttotal: 1.96s\tremaining: 1.09s\n",
      "643:\tlearn: 0.1730402\ttotal: 1.96s\tremaining: 1.08s\n",
      "644:\tlearn: 0.1729235\ttotal: 1.97s\tremaining: 1.08s\n",
      "645:\tlearn: 0.1728203\ttotal: 1.97s\tremaining: 1.08s\n",
      "646:\tlearn: 0.1727115\ttotal: 1.97s\tremaining: 1.07s\n",
      "647:\tlearn: 0.1726372\ttotal: 1.97s\tremaining: 1.07s\n",
      "648:\tlearn: 0.1725233\ttotal: 1.98s\tremaining: 1.07s\n",
      "649:\tlearn: 0.1724778\ttotal: 1.98s\tremaining: 1.07s\n",
      "650:\tlearn: 0.1723740\ttotal: 1.98s\tremaining: 1.06s\n",
      "651:\tlearn: 0.1723136\ttotal: 1.99s\tremaining: 1.06s\n",
      "652:\tlearn: 0.1722506\ttotal: 1.99s\tremaining: 1.06s\n",
      "653:\tlearn: 0.1721931\ttotal: 1.99s\tremaining: 1.05s\n",
      "654:\tlearn: 0.1720648\ttotal: 1.99s\tremaining: 1.05s\n",
      "655:\tlearn: 0.1719758\ttotal: 2s\tremaining: 1.05s\n",
      "656:\tlearn: 0.1718687\ttotal: 2s\tremaining: 1.04s\n",
      "657:\tlearn: 0.1717498\ttotal: 2s\tremaining: 1.04s\n",
      "658:\tlearn: 0.1716456\ttotal: 2s\tremaining: 1.04s\n",
      "659:\tlearn: 0.1715534\ttotal: 2.01s\tremaining: 1.03s\n",
      "660:\tlearn: 0.1714646\ttotal: 2.01s\tremaining: 1.03s\n",
      "661:\tlearn: 0.1713353\ttotal: 2.01s\tremaining: 1.03s\n",
      "662:\tlearn: 0.1712747\ttotal: 2.02s\tremaining: 1.02s\n",
      "663:\tlearn: 0.1712187\ttotal: 2.02s\tremaining: 1.02s\n",
      "664:\tlearn: 0.1710980\ttotal: 2.02s\tremaining: 1.02s\n",
      "665:\tlearn: 0.1710671\ttotal: 2.02s\tremaining: 1.01s\n",
      "666:\tlearn: 0.1710235\ttotal: 2.03s\tremaining: 1.01s\n",
      "667:\tlearn: 0.1709399\ttotal: 2.03s\tremaining: 1.01s\n",
      "668:\tlearn: 0.1708622\ttotal: 2.03s\tremaining: 1s\n",
      "669:\tlearn: 0.1707410\ttotal: 2.03s\tremaining: 1s\n",
      "670:\tlearn: 0.1706170\ttotal: 2.04s\tremaining: 999ms\n",
      "671:\tlearn: 0.1705131\ttotal: 2.04s\tremaining: 996ms\n",
      "672:\tlearn: 0.1702804\ttotal: 2.04s\tremaining: 993ms\n",
      "673:\tlearn: 0.1701698\ttotal: 2.04s\tremaining: 990ms\n",
      "674:\tlearn: 0.1700413\ttotal: 2.05s\tremaining: 986ms\n"
     ]
    },
    {
     "name": "stdout",
     "output_type": "stream",
     "text": [
      "675:\tlearn: 0.1699497\ttotal: 2.05s\tremaining: 984ms\n",
      "676:\tlearn: 0.1698581\ttotal: 2.06s\tremaining: 981ms\n",
      "677:\tlearn: 0.1698044\ttotal: 2.06s\tremaining: 978ms\n",
      "678:\tlearn: 0.1696933\ttotal: 2.06s\tremaining: 974ms\n",
      "679:\tlearn: 0.1696052\ttotal: 2.06s\tremaining: 972ms\n",
      "680:\tlearn: 0.1694256\ttotal: 2.07s\tremaining: 969ms\n",
      "681:\tlearn: 0.1692566\ttotal: 2.07s\tremaining: 966ms\n",
      "682:\tlearn: 0.1692007\ttotal: 2.07s\tremaining: 962ms\n",
      "683:\tlearn: 0.1691532\ttotal: 2.08s\tremaining: 959ms\n",
      "684:\tlearn: 0.1690945\ttotal: 2.08s\tremaining: 957ms\n",
      "685:\tlearn: 0.1689699\ttotal: 2.08s\tremaining: 954ms\n",
      "686:\tlearn: 0.1688778\ttotal: 2.09s\tremaining: 951ms\n",
      "687:\tlearn: 0.1688323\ttotal: 2.09s\tremaining: 947ms\n",
      "688:\tlearn: 0.1687431\ttotal: 2.09s\tremaining: 944ms\n",
      "689:\tlearn: 0.1687126\ttotal: 2.1s\tremaining: 941ms\n",
      "690:\tlearn: 0.1685968\ttotal: 2.1s\tremaining: 941ms\n",
      "691:\tlearn: 0.1685299\ttotal: 2.11s\tremaining: 940ms\n",
      "692:\tlearn: 0.1684219\ttotal: 2.12s\tremaining: 938ms\n",
      "693:\tlearn: 0.1683554\ttotal: 2.13s\tremaining: 938ms\n",
      "694:\tlearn: 0.1682796\ttotal: 2.13s\tremaining: 937ms\n",
      "695:\tlearn: 0.1682193\ttotal: 2.14s\tremaining: 935ms\n",
      "696:\tlearn: 0.1681654\ttotal: 2.15s\tremaining: 934ms\n",
      "697:\tlearn: 0.1681286\ttotal: 2.15s\tremaining: 931ms\n",
      "698:\tlearn: 0.1680808\ttotal: 2.15s\tremaining: 928ms\n",
      "699:\tlearn: 0.1680231\ttotal: 2.16s\tremaining: 926ms\n",
      "700:\tlearn: 0.1679352\ttotal: 2.17s\tremaining: 924ms\n",
      "701:\tlearn: 0.1678613\ttotal: 2.17s\tremaining: 921ms\n",
      "702:\tlearn: 0.1677632\ttotal: 2.17s\tremaining: 918ms\n",
      "703:\tlearn: 0.1676503\ttotal: 2.18s\tremaining: 916ms\n",
      "704:\tlearn: 0.1675096\ttotal: 2.18s\tremaining: 914ms\n",
      "705:\tlearn: 0.1674550\ttotal: 2.19s\tremaining: 911ms\n",
      "706:\tlearn: 0.1673611\ttotal: 2.19s\tremaining: 908ms\n",
      "707:\tlearn: 0.1672740\ttotal: 2.2s\tremaining: 906ms\n",
      "708:\tlearn: 0.1672290\ttotal: 2.2s\tremaining: 903ms\n",
      "709:\tlearn: 0.1671580\ttotal: 2.21s\tremaining: 901ms\n",
      "710:\tlearn: 0.1670724\ttotal: 2.21s\tremaining: 898ms\n",
      "711:\tlearn: 0.1668866\ttotal: 2.22s\tremaining: 897ms\n",
      "712:\tlearn: 0.1667510\ttotal: 2.22s\tremaining: 895ms\n",
      "713:\tlearn: 0.1666990\ttotal: 2.23s\tremaining: 894ms\n",
      "714:\tlearn: 0.1666117\ttotal: 2.24s\tremaining: 892ms\n",
      "715:\tlearn: 0.1664903\ttotal: 2.25s\tremaining: 891ms\n",
      "716:\tlearn: 0.1664447\ttotal: 2.25s\tremaining: 890ms\n",
      "717:\tlearn: 0.1663352\ttotal: 2.26s\tremaining: 888ms\n",
      "718:\tlearn: 0.1662243\ttotal: 2.27s\tremaining: 886ms\n",
      "719:\tlearn: 0.1661520\ttotal: 2.28s\tremaining: 885ms\n",
      "720:\tlearn: 0.1660708\ttotal: 2.28s\tremaining: 884ms\n",
      "721:\tlearn: 0.1659330\ttotal: 2.29s\tremaining: 882ms\n",
      "722:\tlearn: 0.1658838\ttotal: 2.3s\tremaining: 880ms\n",
      "723:\tlearn: 0.1657847\ttotal: 2.3s\tremaining: 878ms\n",
      "724:\tlearn: 0.1656984\ttotal: 2.31s\tremaining: 876ms\n",
      "725:\tlearn: 0.1656350\ttotal: 2.32s\tremaining: 875ms\n",
      "726:\tlearn: 0.1656172\ttotal: 2.32s\tremaining: 872ms\n",
      "727:\tlearn: 0.1655644\ttotal: 2.33s\tremaining: 870ms\n",
      "728:\tlearn: 0.1654895\ttotal: 2.34s\tremaining: 869ms\n",
      "729:\tlearn: 0.1654085\ttotal: 2.34s\tremaining: 867ms\n",
      "730:\tlearn: 0.1653544\ttotal: 2.35s\tremaining: 865ms\n",
      "731:\tlearn: 0.1653054\ttotal: 2.35s\tremaining: 862ms\n",
      "732:\tlearn: 0.1652095\ttotal: 2.36s\tremaining: 860ms\n",
      "733:\tlearn: 0.1651472\ttotal: 2.37s\tremaining: 858ms\n",
      "734:\tlearn: 0.1650361\ttotal: 2.37s\tremaining: 856ms\n",
      "735:\tlearn: 0.1649082\ttotal: 2.38s\tremaining: 854ms\n",
      "736:\tlearn: 0.1648250\ttotal: 2.39s\tremaining: 853ms\n",
      "737:\tlearn: 0.1647710\ttotal: 2.4s\tremaining: 851ms\n",
      "738:\tlearn: 0.1647137\ttotal: 2.4s\tremaining: 849ms\n",
      "739:\tlearn: 0.1646709\ttotal: 2.41s\tremaining: 848ms\n",
      "740:\tlearn: 0.1646470\ttotal: 2.42s\tremaining: 845ms\n",
      "741:\tlearn: 0.1645958\ttotal: 2.43s\tremaining: 844ms\n",
      "742:\tlearn: 0.1645210\ttotal: 2.43s\tremaining: 842ms\n",
      "743:\tlearn: 0.1644653\ttotal: 2.44s\tremaining: 840ms\n",
      "744:\tlearn: 0.1644250\ttotal: 2.45s\tremaining: 838ms\n",
      "745:\tlearn: 0.1643739\ttotal: 2.46s\tremaining: 836ms\n",
      "746:\tlearn: 0.1642214\ttotal: 2.46s\tremaining: 834ms\n",
      "747:\tlearn: 0.1641088\ttotal: 2.47s\tremaining: 832ms\n",
      "748:\tlearn: 0.1640399\ttotal: 2.47s\tremaining: 829ms\n",
      "749:\tlearn: 0.1639345\ttotal: 2.48s\tremaining: 827ms\n",
      "750:\tlearn: 0.1639034\ttotal: 2.49s\tremaining: 825ms\n",
      "751:\tlearn: 0.1637173\ttotal: 2.49s\tremaining: 823ms\n",
      "752:\tlearn: 0.1636201\ttotal: 2.5s\tremaining: 820ms\n",
      "753:\tlearn: 0.1635598\ttotal: 2.51s\tremaining: 818ms\n",
      "754:\tlearn: 0.1634870\ttotal: 2.51s\tremaining: 816ms\n",
      "755:\tlearn: 0.1633667\ttotal: 2.52s\tremaining: 814ms\n",
      "756:\tlearn: 0.1633177\ttotal: 2.53s\tremaining: 812ms\n",
      "757:\tlearn: 0.1632762\ttotal: 2.53s\tremaining: 809ms\n",
      "758:\tlearn: 0.1631540\ttotal: 2.54s\tremaining: 807ms\n",
      "759:\tlearn: 0.1630971\ttotal: 2.54s\tremaining: 803ms\n",
      "760:\tlearn: 0.1629293\ttotal: 2.55s\tremaining: 800ms\n",
      "761:\tlearn: 0.1627886\ttotal: 2.55s\tremaining: 797ms\n",
      "762:\tlearn: 0.1626964\ttotal: 2.56s\tremaining: 794ms\n",
      "763:\tlearn: 0.1626535\ttotal: 2.56s\tremaining: 791ms\n",
      "764:\tlearn: 0.1625322\ttotal: 2.57s\tremaining: 788ms\n",
      "765:\tlearn: 0.1624200\ttotal: 2.57s\tremaining: 785ms\n",
      "766:\tlearn: 0.1623433\ttotal: 2.57s\tremaining: 782ms\n",
      "767:\tlearn: 0.1622074\ttotal: 2.58s\tremaining: 778ms\n",
      "768:\tlearn: 0.1621644\ttotal: 2.58s\tremaining: 775ms\n",
      "769:\tlearn: 0.1621147\ttotal: 2.58s\tremaining: 772ms\n",
      "770:\tlearn: 0.1620671\ttotal: 2.59s\tremaining: 769ms\n",
      "771:\tlearn: 0.1619922\ttotal: 2.59s\tremaining: 766ms\n",
      "772:\tlearn: 0.1619783\ttotal: 2.6s\tremaining: 763ms\n",
      "773:\tlearn: 0.1618882\ttotal: 2.6s\tremaining: 760ms\n",
      "774:\tlearn: 0.1618395\ttotal: 2.6s\tremaining: 756ms\n",
      "775:\tlearn: 0.1617535\ttotal: 2.61s\tremaining: 753ms\n",
      "776:\tlearn: 0.1616276\ttotal: 2.61s\tremaining: 750ms\n",
      "777:\tlearn: 0.1615119\ttotal: 2.62s\tremaining: 747ms\n",
      "778:\tlearn: 0.1613789\ttotal: 2.62s\tremaining: 743ms\n",
      "779:\tlearn: 0.1612880\ttotal: 2.63s\tremaining: 740ms\n",
      "780:\tlearn: 0.1611930\ttotal: 2.63s\tremaining: 737ms\n",
      "781:\tlearn: 0.1611419\ttotal: 2.63s\tremaining: 734ms\n",
      "782:\tlearn: 0.1611057\ttotal: 2.64s\tremaining: 731ms\n",
      "783:\tlearn: 0.1609685\ttotal: 2.64s\tremaining: 728ms\n",
      "784:\tlearn: 0.1609094\ttotal: 2.65s\tremaining: 724ms\n",
      "785:\tlearn: 0.1607912\ttotal: 2.65s\tremaining: 721ms\n",
      "786:\tlearn: 0.1607136\ttotal: 2.65s\tremaining: 718ms\n",
      "787:\tlearn: 0.1606104\ttotal: 2.65s\tremaining: 715ms\n",
      "788:\tlearn: 0.1605880\ttotal: 2.66s\tremaining: 711ms\n",
      "789:\tlearn: 0.1605168\ttotal: 2.66s\tremaining: 708ms\n",
      "790:\tlearn: 0.1604853\ttotal: 2.66s\tremaining: 704ms\n",
      "791:\tlearn: 0.1604096\ttotal: 2.67s\tremaining: 701ms\n",
      "792:\tlearn: 0.1603027\ttotal: 2.67s\tremaining: 697ms\n",
      "793:\tlearn: 0.1601921\ttotal: 2.67s\tremaining: 694ms\n",
      "794:\tlearn: 0.1600981\ttotal: 2.67s\tremaining: 690ms\n",
      "795:\tlearn: 0.1600570\ttotal: 2.68s\tremaining: 686ms\n",
      "796:\tlearn: 0.1599517\ttotal: 2.68s\tremaining: 683ms\n",
      "797:\tlearn: 0.1599114\ttotal: 2.68s\tremaining: 679ms\n",
      "798:\tlearn: 0.1598562\ttotal: 2.69s\tremaining: 676ms\n",
      "799:\tlearn: 0.1597738\ttotal: 2.69s\tremaining: 672ms\n",
      "800:\tlearn: 0.1597556\ttotal: 2.69s\tremaining: 669ms\n",
      "801:\tlearn: 0.1596947\ttotal: 2.69s\tremaining: 665ms\n",
      "802:\tlearn: 0.1596506\ttotal: 2.7s\tremaining: 662ms\n",
      "803:\tlearn: 0.1595916\ttotal: 2.7s\tremaining: 658ms\n",
      "804:\tlearn: 0.1595408\ttotal: 2.7s\tremaining: 655ms\n",
      "805:\tlearn: 0.1594649\ttotal: 2.71s\tremaining: 651ms\n",
      "806:\tlearn: 0.1593895\ttotal: 2.71s\tremaining: 648ms\n",
      "807:\tlearn: 0.1593478\ttotal: 2.71s\tremaining: 644ms\n",
      "808:\tlearn: 0.1592638\ttotal: 2.71s\tremaining: 641ms\n",
      "809:\tlearn: 0.1591836\ttotal: 2.72s\tremaining: 637ms\n",
      "810:\tlearn: 0.1591124\ttotal: 2.72s\tremaining: 634ms\n",
      "811:\tlearn: 0.1590937\ttotal: 2.72s\tremaining: 630ms\n",
      "812:\tlearn: 0.1590420\ttotal: 2.73s\tremaining: 627ms\n",
      "813:\tlearn: 0.1589383\ttotal: 2.73s\tremaining: 624ms\n",
      "814:\tlearn: 0.1588076\ttotal: 2.73s\tremaining: 620ms\n",
      "815:\tlearn: 0.1587417\ttotal: 2.73s\tremaining: 617ms\n",
      "816:\tlearn: 0.1586089\ttotal: 2.74s\tremaining: 613ms\n",
      "817:\tlearn: 0.1585096\ttotal: 2.74s\tremaining: 610ms\n",
      "818:\tlearn: 0.1584134\ttotal: 2.74s\tremaining: 607ms\n",
      "819:\tlearn: 0.1583497\ttotal: 2.75s\tremaining: 603ms\n",
      "820:\tlearn: 0.1582824\ttotal: 2.75s\tremaining: 600ms\n",
      "821:\tlearn: 0.1582555\ttotal: 2.75s\tremaining: 596ms\n",
      "822:\tlearn: 0.1582365\ttotal: 2.76s\tremaining: 593ms\n",
      "823:\tlearn: 0.1581513\ttotal: 2.76s\tremaining: 590ms\n",
      "824:\tlearn: 0.1580974\ttotal: 2.76s\tremaining: 586ms\n",
      "825:\tlearn: 0.1580818\ttotal: 2.77s\tremaining: 583ms\n",
      "826:\tlearn: 0.1580563\ttotal: 2.77s\tremaining: 579ms\n",
      "827:\tlearn: 0.1579967\ttotal: 2.77s\tremaining: 576ms\n",
      "828:\tlearn: 0.1579424\ttotal: 2.77s\tremaining: 572ms\n",
      "829:\tlearn: 0.1578552\ttotal: 2.78s\tremaining: 569ms\n",
      "830:\tlearn: 0.1577713\ttotal: 2.78s\tremaining: 566ms\n",
      "831:\tlearn: 0.1576761\ttotal: 2.78s\tremaining: 562ms\n",
      "832:\tlearn: 0.1576493\ttotal: 2.79s\tremaining: 559ms\n",
      "833:\tlearn: 0.1575958\ttotal: 2.79s\tremaining: 555ms\n",
      "834:\tlearn: 0.1575138\ttotal: 2.79s\tremaining: 552ms\n"
     ]
    },
    {
     "name": "stdout",
     "output_type": "stream",
     "text": [
      "835:\tlearn: 0.1574680\ttotal: 2.8s\tremaining: 549ms\n",
      "836:\tlearn: 0.1573728\ttotal: 2.8s\tremaining: 545ms\n",
      "837:\tlearn: 0.1572933\ttotal: 2.8s\tremaining: 542ms\n",
      "838:\tlearn: 0.1572689\ttotal: 2.8s\tremaining: 538ms\n",
      "839:\tlearn: 0.1571816\ttotal: 2.81s\tremaining: 535ms\n",
      "840:\tlearn: 0.1571134\ttotal: 2.81s\tremaining: 532ms\n",
      "841:\tlearn: 0.1570621\ttotal: 2.81s\tremaining: 528ms\n",
      "842:\tlearn: 0.1569297\ttotal: 2.82s\tremaining: 525ms\n",
      "843:\tlearn: 0.1568837\ttotal: 2.82s\tremaining: 521ms\n",
      "844:\tlearn: 0.1568380\ttotal: 2.82s\tremaining: 518ms\n",
      "845:\tlearn: 0.1567648\ttotal: 2.83s\tremaining: 514ms\n",
      "846:\tlearn: 0.1566283\ttotal: 2.83s\tremaining: 511ms\n",
      "847:\tlearn: 0.1565431\ttotal: 2.83s\tremaining: 508ms\n",
      "848:\tlearn: 0.1564910\ttotal: 2.83s\tremaining: 504ms\n",
      "849:\tlearn: 0.1563937\ttotal: 2.84s\tremaining: 501ms\n",
      "850:\tlearn: 0.1563018\ttotal: 2.84s\tremaining: 497ms\n",
      "851:\tlearn: 0.1562223\ttotal: 2.84s\tremaining: 494ms\n",
      "852:\tlearn: 0.1561346\ttotal: 2.85s\tremaining: 490ms\n",
      "853:\tlearn: 0.1561092\ttotal: 2.85s\tremaining: 487ms\n",
      "854:\tlearn: 0.1560285\ttotal: 2.85s\tremaining: 484ms\n",
      "855:\tlearn: 0.1559815\ttotal: 2.85s\tremaining: 480ms\n",
      "856:\tlearn: 0.1559031\ttotal: 2.86s\tremaining: 477ms\n",
      "857:\tlearn: 0.1558605\ttotal: 2.86s\tremaining: 473ms\n",
      "858:\tlearn: 0.1557732\ttotal: 2.86s\tremaining: 470ms\n",
      "859:\tlearn: 0.1557496\ttotal: 2.87s\tremaining: 466ms\n",
      "860:\tlearn: 0.1556452\ttotal: 2.87s\tremaining: 463ms\n",
      "861:\tlearn: 0.1555944\ttotal: 2.87s\tremaining: 460ms\n",
      "862:\tlearn: 0.1555554\ttotal: 2.87s\tremaining: 456ms\n",
      "863:\tlearn: 0.1555143\ttotal: 2.88s\tremaining: 453ms\n",
      "864:\tlearn: 0.1554285\ttotal: 2.88s\tremaining: 449ms\n",
      "865:\tlearn: 0.1553697\ttotal: 2.88s\tremaining: 446ms\n",
      "866:\tlearn: 0.1553348\ttotal: 2.88s\tremaining: 443ms\n",
      "867:\tlearn: 0.1552673\ttotal: 2.89s\tremaining: 439ms\n",
      "868:\tlearn: 0.1552453\ttotal: 2.89s\tremaining: 436ms\n",
      "869:\tlearn: 0.1551473\ttotal: 2.89s\tremaining: 432ms\n",
      "870:\tlearn: 0.1550755\ttotal: 2.9s\tremaining: 429ms\n",
      "871:\tlearn: 0.1550274\ttotal: 2.9s\tremaining: 426ms\n",
      "872:\tlearn: 0.1549606\ttotal: 2.9s\tremaining: 422ms\n",
      "873:\tlearn: 0.1549458\ttotal: 2.9s\tremaining: 419ms\n",
      "874:\tlearn: 0.1548651\ttotal: 2.91s\tremaining: 415ms\n",
      "875:\tlearn: 0.1547137\ttotal: 2.91s\tremaining: 412ms\n",
      "876:\tlearn: 0.1546255\ttotal: 2.91s\tremaining: 409ms\n",
      "877:\tlearn: 0.1545755\ttotal: 2.92s\tremaining: 405ms\n",
      "878:\tlearn: 0.1544595\ttotal: 2.92s\tremaining: 402ms\n",
      "879:\tlearn: 0.1543808\ttotal: 2.92s\tremaining: 398ms\n",
      "880:\tlearn: 0.1542978\ttotal: 2.93s\tremaining: 395ms\n",
      "881:\tlearn: 0.1542772\ttotal: 2.93s\tremaining: 392ms\n",
      "882:\tlearn: 0.1542558\ttotal: 2.93s\tremaining: 389ms\n",
      "883:\tlearn: 0.1542070\ttotal: 2.94s\tremaining: 385ms\n",
      "884:\tlearn: 0.1541296\ttotal: 2.94s\tremaining: 382ms\n",
      "885:\tlearn: 0.1540816\ttotal: 2.94s\tremaining: 379ms\n",
      "886:\tlearn: 0.1540081\ttotal: 2.95s\tremaining: 375ms\n",
      "887:\tlearn: 0.1539537\ttotal: 2.95s\tremaining: 372ms\n",
      "888:\tlearn: 0.1539095\ttotal: 2.95s\tremaining: 369ms\n",
      "889:\tlearn: 0.1538798\ttotal: 2.95s\tremaining: 365ms\n",
      "890:\tlearn: 0.1538195\ttotal: 2.96s\tremaining: 362ms\n",
      "891:\tlearn: 0.1537498\ttotal: 2.96s\tremaining: 358ms\n",
      "892:\tlearn: 0.1536119\ttotal: 2.96s\tremaining: 355ms\n",
      "893:\tlearn: 0.1535199\ttotal: 2.97s\tremaining: 352ms\n",
      "894:\tlearn: 0.1534590\ttotal: 2.97s\tremaining: 348ms\n",
      "895:\tlearn: 0.1533768\ttotal: 2.97s\tremaining: 345ms\n",
      "896:\tlearn: 0.1533413\ttotal: 2.97s\tremaining: 342ms\n",
      "897:\tlearn: 0.1532930\ttotal: 2.98s\tremaining: 338ms\n",
      "898:\tlearn: 0.1532371\ttotal: 2.98s\tremaining: 335ms\n",
      "899:\tlearn: 0.1531998\ttotal: 2.98s\tremaining: 332ms\n",
      "900:\tlearn: 0.1531248\ttotal: 2.99s\tremaining: 328ms\n",
      "901:\tlearn: 0.1530972\ttotal: 2.99s\tremaining: 325ms\n",
      "902:\tlearn: 0.1530223\ttotal: 2.99s\tremaining: 322ms\n",
      "903:\tlearn: 0.1529700\ttotal: 3s\tremaining: 318ms\n",
      "904:\tlearn: 0.1528917\ttotal: 3s\tremaining: 315ms\n",
      "905:\tlearn: 0.1528012\ttotal: 3s\tremaining: 311ms\n",
      "906:\tlearn: 0.1527633\ttotal: 3s\tremaining: 308ms\n",
      "907:\tlearn: 0.1527437\ttotal: 3.01s\tremaining: 305ms\n",
      "908:\tlearn: 0.1527024\ttotal: 3.01s\tremaining: 301ms\n",
      "909:\tlearn: 0.1526574\ttotal: 3.01s\tremaining: 298ms\n",
      "910:\tlearn: 0.1525908\ttotal: 3.02s\tremaining: 295ms\n",
      "911:\tlearn: 0.1525444\ttotal: 3.02s\tremaining: 291ms\n",
      "912:\tlearn: 0.1524550\ttotal: 3.02s\tremaining: 288ms\n",
      "913:\tlearn: 0.1523732\ttotal: 3.02s\tremaining: 285ms\n",
      "914:\tlearn: 0.1522748\ttotal: 3.03s\tremaining: 281ms\n",
      "915:\tlearn: 0.1522470\ttotal: 3.03s\tremaining: 278ms\n",
      "916:\tlearn: 0.1522023\ttotal: 3.03s\tremaining: 275ms\n",
      "917:\tlearn: 0.1521434\ttotal: 3.04s\tremaining: 271ms\n",
      "918:\tlearn: 0.1520948\ttotal: 3.04s\tremaining: 268ms\n",
      "919:\tlearn: 0.1520680\ttotal: 3.04s\tremaining: 264ms\n",
      "920:\tlearn: 0.1520003\ttotal: 3.04s\tremaining: 261ms\n",
      "921:\tlearn: 0.1519421\ttotal: 3.05s\tremaining: 258ms\n",
      "922:\tlearn: 0.1518457\ttotal: 3.05s\tremaining: 254ms\n",
      "923:\tlearn: 0.1518249\ttotal: 3.05s\tremaining: 251ms\n",
      "924:\tlearn: 0.1518010\ttotal: 3.06s\tremaining: 248ms\n",
      "925:\tlearn: 0.1517300\ttotal: 3.06s\tremaining: 244ms\n",
      "926:\tlearn: 0.1516219\ttotal: 3.06s\tremaining: 241ms\n",
      "927:\tlearn: 0.1515483\ttotal: 3.06s\tremaining: 238ms\n",
      "928:\tlearn: 0.1515024\ttotal: 3.07s\tremaining: 234ms\n",
      "929:\tlearn: 0.1514020\ttotal: 3.07s\tremaining: 231ms\n",
      "930:\tlearn: 0.1513276\ttotal: 3.07s\tremaining: 228ms\n",
      "931:\tlearn: 0.1512554\ttotal: 3.08s\tremaining: 224ms\n",
      "932:\tlearn: 0.1512007\ttotal: 3.08s\tremaining: 221ms\n",
      "933:\tlearn: 0.1510772\ttotal: 3.08s\tremaining: 218ms\n",
      "934:\tlearn: 0.1509740\ttotal: 3.08s\tremaining: 214ms\n",
      "935:\tlearn: 0.1509044\ttotal: 3.09s\tremaining: 211ms\n",
      "936:\tlearn: 0.1508869\ttotal: 3.09s\tremaining: 208ms\n",
      "937:\tlearn: 0.1508414\ttotal: 3.09s\tremaining: 204ms\n",
      "938:\tlearn: 0.1507602\ttotal: 3.1s\tremaining: 201ms\n",
      "939:\tlearn: 0.1507016\ttotal: 3.1s\tremaining: 198ms\n",
      "940:\tlearn: 0.1506878\ttotal: 3.1s\tremaining: 194ms\n",
      "941:\tlearn: 0.1506317\ttotal: 3.1s\tremaining: 191ms\n",
      "942:\tlearn: 0.1506145\ttotal: 3.11s\tremaining: 188ms\n",
      "943:\tlearn: 0.1505539\ttotal: 3.11s\tremaining: 185ms\n",
      "944:\tlearn: 0.1504596\ttotal: 3.11s\tremaining: 181ms\n",
      "945:\tlearn: 0.1504174\ttotal: 3.12s\tremaining: 178ms\n",
      "946:\tlearn: 0.1503035\ttotal: 3.12s\tremaining: 175ms\n",
      "947:\tlearn: 0.1502431\ttotal: 3.12s\tremaining: 171ms\n",
      "948:\tlearn: 0.1501697\ttotal: 3.13s\tremaining: 168ms\n",
      "949:\tlearn: 0.1501414\ttotal: 3.13s\tremaining: 165ms\n",
      "950:\tlearn: 0.1500641\ttotal: 3.13s\tremaining: 161ms\n",
      "951:\tlearn: 0.1500039\ttotal: 3.13s\tremaining: 158ms\n",
      "952:\tlearn: 0.1499218\ttotal: 3.14s\tremaining: 155ms\n",
      "953:\tlearn: 0.1498974\ttotal: 3.14s\tremaining: 151ms\n",
      "954:\tlearn: 0.1498419\ttotal: 3.14s\tremaining: 148ms\n",
      "955:\tlearn: 0.1497633\ttotal: 3.15s\tremaining: 145ms\n",
      "956:\tlearn: 0.1496758\ttotal: 3.15s\tremaining: 141ms\n",
      "957:\tlearn: 0.1496392\ttotal: 3.15s\tremaining: 138ms\n",
      "958:\tlearn: 0.1495880\ttotal: 3.15s\tremaining: 135ms\n",
      "959:\tlearn: 0.1495343\ttotal: 3.16s\tremaining: 132ms\n",
      "960:\tlearn: 0.1494916\ttotal: 3.16s\tremaining: 128ms\n",
      "961:\tlearn: 0.1493535\ttotal: 3.16s\tremaining: 125ms\n",
      "962:\tlearn: 0.1493085\ttotal: 3.17s\tremaining: 122ms\n",
      "963:\tlearn: 0.1492644\ttotal: 3.17s\tremaining: 118ms\n",
      "964:\tlearn: 0.1492022\ttotal: 3.17s\tremaining: 115ms\n",
      "965:\tlearn: 0.1491856\ttotal: 3.17s\tremaining: 112ms\n",
      "966:\tlearn: 0.1490863\ttotal: 3.18s\tremaining: 108ms\n",
      "967:\tlearn: 0.1489919\ttotal: 3.18s\tremaining: 105ms\n",
      "968:\tlearn: 0.1489529\ttotal: 3.18s\tremaining: 102ms\n",
      "969:\tlearn: 0.1488626\ttotal: 3.19s\tremaining: 98.5ms\n",
      "970:\tlearn: 0.1488142\ttotal: 3.19s\tremaining: 95.2ms\n",
      "971:\tlearn: 0.1487530\ttotal: 3.19s\tremaining: 91.9ms\n",
      "972:\tlearn: 0.1486698\ttotal: 3.19s\tremaining: 88.6ms\n",
      "973:\tlearn: 0.1486521\ttotal: 3.2s\tremaining: 85.3ms\n",
      "974:\tlearn: 0.1485796\ttotal: 3.2s\tremaining: 82ms\n",
      "975:\tlearn: 0.1485257\ttotal: 3.2s\tremaining: 78.7ms\n",
      "976:\tlearn: 0.1484509\ttotal: 3.21s\tremaining: 75.5ms\n",
      "977:\tlearn: 0.1483567\ttotal: 3.21s\tremaining: 72.2ms\n",
      "978:\tlearn: 0.1483265\ttotal: 3.21s\tremaining: 68.9ms\n",
      "979:\tlearn: 0.1482740\ttotal: 3.21s\tremaining: 65.6ms\n",
      "980:\tlearn: 0.1481856\ttotal: 3.22s\tremaining: 62.3ms\n",
      "981:\tlearn: 0.1480943\ttotal: 3.22s\tremaining: 59ms\n",
      "982:\tlearn: 0.1480233\ttotal: 3.22s\tremaining: 55.7ms\n",
      "983:\tlearn: 0.1479686\ttotal: 3.22s\tremaining: 52.4ms\n",
      "984:\tlearn: 0.1479318\ttotal: 3.23s\tremaining: 49.1ms\n",
      "985:\tlearn: 0.1478535\ttotal: 3.23s\tremaining: 45.9ms\n",
      "986:\tlearn: 0.1478423\ttotal: 3.23s\tremaining: 42.6ms\n",
      "987:\tlearn: 0.1477990\ttotal: 3.24s\tremaining: 39.3ms\n",
      "988:\tlearn: 0.1477471\ttotal: 3.24s\tremaining: 36ms\n",
      "989:\tlearn: 0.1477078\ttotal: 3.24s\tremaining: 32.8ms\n",
      "990:\tlearn: 0.1476706\ttotal: 3.25s\tremaining: 29.5ms\n",
      "991:\tlearn: 0.1475744\ttotal: 3.25s\tremaining: 26.2ms\n",
      "992:\tlearn: 0.1475076\ttotal: 3.25s\tremaining: 22.9ms\n",
      "993:\tlearn: 0.1474589\ttotal: 3.25s\tremaining: 19.6ms\n",
      "994:\tlearn: 0.1474462\ttotal: 3.26s\tremaining: 16.4ms\n",
      "995:\tlearn: 0.1474097\ttotal: 3.26s\tremaining: 13.1ms\n",
      "996:\tlearn: 0.1473625\ttotal: 3.26s\tremaining: 9.82ms\n"
     ]
    },
    {
     "name": "stdout",
     "output_type": "stream",
     "text": [
      "997:\tlearn: 0.1472574\ttotal: 3.27s\tremaining: 6.55ms\n",
      "998:\tlearn: 0.1472443\ttotal: 3.27s\tremaining: 3.27ms\n",
      "999:\tlearn: 0.1471998\ttotal: 3.27s\tremaining: 0us\n"
     ]
    }
   ],
   "source": [
    "model = CatBoostRegressor()\n",
    "model.fit(x_train_18, y_train_18)\n",
    "y_pred_18 = model.predict(x_test_18)"
   ]
  },
  {
   "cell_type": "code",
   "execution_count": 215,
   "id": "ac5955c8",
   "metadata": {},
   "outputs": [
    {
     "name": "stdout",
     "output_type": "stream",
     "text": [
      "MSE for CatBoost 2018 is: 0.09984747388247861\n"
     ]
    }
   ],
   "source": [
    "# Calculation of Mean Squared Error (MSE)\n",
    "mse = mean_squared_error(y_test_18, y_pred_18)\n",
    "print('MSE for CatBoost 2018 is: ' + str(mse))"
   ]
  },
  {
   "cell_type": "code",
   "execution_count": 216,
   "id": "4b0d621c",
   "metadata": {},
   "outputs": [
    {
     "name": "stdout",
     "output_type": "stream",
     "text": [
      "Accuracy of properties at +- 10% of actual prices is 0.45454545454545453\n"
     ]
    }
   ],
   "source": [
    "acc = accuracy_threshold(y_test_18, y_pred_18, 0.1)\n",
    "print('Accuracy of properties at +- 10% of actual prices is ' + str(acc))"
   ]
  },
  {
   "cell_type": "code",
   "execution_count": 217,
   "id": "57e165de",
   "metadata": {},
   "outputs": [
    {
     "name": "stdout",
     "output_type": "stream",
     "text": [
      "Median Absolute Error:\n",
      "\n",
      "0.11204221860158903\n"
     ]
    }
   ],
   "source": [
    "median_se = np.square(np.subtract(y_test_18, y_pred_18)).median() \n",
    " \n",
    "med = math.sqrt(median_se)\n",
    "print(\"Median Absolute Error:\\n\")\n",
    "print(med)"
   ]
  },
  {
   "cell_type": "code",
   "execution_count": 218,
   "id": "4a6d15a7",
   "metadata": {},
   "outputs": [
    {
     "name": "stdout",
     "output_type": "stream",
     "text": [
      "RMSE for CatBoost 2018 is: 0.3159865090197343\n"
     ]
    }
   ],
   "source": [
    "rmse = mean_squared_error(y_test_18, y_pred_18, squared = False)\n",
    "print('RMSE for CatBoost 2018 is: ' + str(rmse))"
   ]
  },
  {
   "cell_type": "code",
   "execution_count": 219,
   "id": "077985a3",
   "metadata": {},
   "outputs": [
    {
     "name": "stdout",
     "output_type": "stream",
     "text": [
      "MAPE for CatBoost 2018 is: 0.014791922671128579\n"
     ]
    }
   ],
   "source": [
    "mape = mean_absolute_percentage_error(y_test_18, y_pred_18)\n",
    "print(\"MAPE for CatBoost 2018 is: \" + str(mape))"
   ]
  },
  {
   "cell_type": "code",
   "execution_count": 220,
   "id": "efdfd2f1",
   "metadata": {},
   "outputs": [],
   "source": [
    "cnames = ['Algorithm', 'Year', 'RMSE', 'MSE', 'MEDAE', 'Accuracy', 'MAPE']\n",
    "df22 = pd.DataFrame(columns = cnames)\n",
    "\n",
    "df22 = df22.append({'Algorithm': 'CatBoost',\n",
    "           'Year': 2018,\n",
    "           'RMSE': rmse,\n",
    "           'MSE': mse,\n",
    "           'MEDAE': med,\n",
    "           'Accuracy': acc,\n",
    "           'MAPE': mape         \n",
    "          }, ignore_index = True)"
   ]
  },
  {
   "cell_type": "markdown",
   "id": "32ba1ce8",
   "metadata": {},
   "source": [
    "### BayesianRidge"
   ]
  },
  {
   "cell_type": "code",
   "execution_count": 221,
   "id": "be7faf55",
   "metadata": {},
   "outputs": [
    {
     "name": "stdout",
     "output_type": "stream",
     "text": [
      "MSE for BayesianRidge 2018 is: 0.09740068086229178\n"
     ]
    }
   ],
   "source": [
    "clf = BayesianRidge()\n",
    "clf.fit(x_train_18, y_train_18)\n",
    "y_pred_18 = clf.predict(x_test_18)\n",
    "# Calculation of Mean Squared Error (MSE)\n",
    "mse = mean_squared_error(y_test_18, y_pred_18)\n",
    "print('MSE for BayesianRidge 2018 is: ' + str(mse))"
   ]
  },
  {
   "cell_type": "code",
   "execution_count": 222,
   "id": "dcac2a1a",
   "metadata": {},
   "outputs": [
    {
     "name": "stdout",
     "output_type": "stream",
     "text": [
      "Accuracy of properties at +- 10% of actual prices is 0.34620174346201743\n"
     ]
    }
   ],
   "source": [
    "acc = accuracy_threshold(y_test_18, y_pred_18, 0.1)\n",
    "print('Accuracy of properties at +- 10% of actual prices is ' + str(acc))"
   ]
  },
  {
   "cell_type": "code",
   "execution_count": 223,
   "id": "c36fbb4d",
   "metadata": {},
   "outputs": [
    {
     "name": "stdout",
     "output_type": "stream",
     "text": [
      "MAPE for BayesianRidge 2018 is: 0.01603426483012557\n"
     ]
    }
   ],
   "source": [
    "mape = mean_absolute_percentage_error(y_test_18, y_pred_18)\n",
    "print(\"MAPE for BayesianRidge 2018 is: \" + str(mape))"
   ]
  },
  {
   "cell_type": "code",
   "execution_count": 224,
   "id": "8f51cb14",
   "metadata": {},
   "outputs": [
    {
     "name": "stdout",
     "output_type": "stream",
     "text": [
      "Median Absolute Error:\n",
      "\n",
      "0.13985117639529498\n"
     ]
    }
   ],
   "source": [
    "median_se = np.square(np.subtract(y_test_18, y_pred_18)).median() \n",
    " \n",
    "med = math.sqrt(median_se)\n",
    "print(\"Median Absolute Error:\\n\")\n",
    "print(med)"
   ]
  },
  {
   "cell_type": "code",
   "execution_count": 225,
   "id": "dd7ded2a",
   "metadata": {},
   "outputs": [
    {
     "name": "stdout",
     "output_type": "stream",
     "text": [
      "RMSE for MLR 2018 is: 0.31209082149639034\n"
     ]
    }
   ],
   "source": [
    "rmse = mean_squared_error(y_test_18, y_pred_18, squared = False)\n",
    "print('RMSE for MLR 2018 is: ' + str(rmse))"
   ]
  },
  {
   "cell_type": "code",
   "execution_count": 226,
   "id": "739c52c5",
   "metadata": {},
   "outputs": [],
   "source": [
    "cnames = ['Algorithm', 'Year', 'RMSE', 'MSE', 'MEDAE', 'Accuracy', 'MAPE']\n",
    "df23 = pd.DataFrame(columns = cnames)\n",
    "\n",
    "df23 = df23.append({'Algorithm': 'Bayesian',\n",
    "           'Year': 2018,\n",
    "           'RMSE': rmse,\n",
    "           'MSE': mse,\n",
    "           'MEDAE': med,\n",
    "           'Accuracy': acc,\n",
    "           'MAPE': mape         \n",
    "          }, ignore_index = True)"
   ]
  },
  {
   "cell_type": "markdown",
   "id": "3603e079",
   "metadata": {},
   "source": [
    "## 2017"
   ]
  },
  {
   "cell_type": "code",
   "execution_count": 227,
   "id": "e0c02467",
   "metadata": {},
   "outputs": [],
   "source": [
    "specific17 = irl[irl['Year'] > 2013]\n",
    "test_17 = specific17[specific17['Year'] == 2017]\n",
    "train_17 = specific17[specific17['Year'] < 2017]\n",
    "\n",
    "x_train_17 = train_17.loc[:, train_17.columns != 'LogPrice (€)']\n",
    "y_train_17 = train_17['LogPrice (€)']\n",
    "x_test_17 = test_17.loc[:, test_17.columns != 'LogPrice (€)']\n",
    "y_test_17 = test_17['LogPrice (€)']"
   ]
  },
  {
   "cell_type": "code",
   "execution_count": 228,
   "id": "519a5218",
   "metadata": {},
   "outputs": [
    {
     "name": "stdout",
     "output_type": "stream",
     "text": [
      "AutoML directory: AutoML_6\n",
      "The task is regression with evaluation metric rmse\n",
      "AutoML will use algorithms: ['Baseline', 'Linear', 'Decision Tree', 'Random Forest', 'Xgboost', 'Neural Network']\n",
      "AutoML will ensemble available models\n",
      "AutoML steps: ['simple_algorithms', 'default_algorithms', 'ensemble']\n",
      "* Step simple_algorithms will try to check up to 3 models\n",
      "1_Baseline rmse 0.572215 trained in 1.04 seconds\n",
      "2_DecisionTree rmse 0.311896 trained in 6.9 seconds\n",
      "3_Linear rmse 0.330217 trained in 4.85 seconds\n",
      "* Step default_algorithms will try to check up to 3 models\n",
      "4_Default_Xgboost rmse 0.269985 trained in 6.48 seconds\n",
      "5_Default_NeuralNetwork rmse 0.296374 trained in 1.04 seconds\n",
      "6_Default_RandomForest rmse 0.29362 trained in 6.19 seconds\n",
      "* Step ensemble will try to check up to 1 model\n",
      "Ensemble rmse 0.268827 trained in 0.33 seconds\n",
      "AutoML fit time: 41.72 seconds\n",
      "AutoML best model: Ensemble\n"
     ]
    },
    {
     "data": {
      "text/plain": [
       "AutoML(explain_level=2, total_time_limit=300)"
      ]
     },
     "execution_count": 228,
     "metadata": {},
     "output_type": "execute_result"
    }
   ],
   "source": [
    "automl = AutoML(total_time_limit = 5 * 60, explain_level = 2)\n",
    "automl.fit(x_train_17, y_train_17)"
   ]
  },
  {
   "cell_type": "code",
   "execution_count": 229,
   "id": "ae607b39",
   "metadata": {},
   "outputs": [
    {
     "name": "stdout",
     "output_type": "stream",
     "text": [
      "MSE for AutoML 2017 is: 0.08739858304228534\n"
     ]
    }
   ],
   "source": [
    "y_pred_17 = automl.predict(x_test_17)\n",
    "# Calculation of Mean Squared Error (MSE)\n",
    "mse = mean_squared_error(y_test_17, y_pred_17)\n",
    "print('MSE for AutoML 2017 is: ' + str(mse))"
   ]
  },
  {
   "cell_type": "code",
   "execution_count": 230,
   "id": "89808aa5",
   "metadata": {},
   "outputs": [
    {
     "name": "stdout",
     "output_type": "stream",
     "text": [
      "RMSE for AutoML 2017 is: 0.29563251350669356\n"
     ]
    }
   ],
   "source": [
    "rmse = mean_squared_error(y_test_17, y_pred_17, squared = False)\n",
    "print('RMSE for AutoML 2017 is: ' + str(rmse))"
   ]
  },
  {
   "cell_type": "code",
   "execution_count": 231,
   "id": "1c9b63ba",
   "metadata": {},
   "outputs": [
    {
     "name": "stdout",
     "output_type": "stream",
     "text": [
      "Accuracy of properties at +- 10% of actual prices is 0.44680851063829785\n"
     ]
    }
   ],
   "source": [
    "acc = accuracy_threshold(y_test_17, y_pred_17, 0.1)\n",
    "print('Accuracy of properties at +- 10% of actual prices is ' + str(acc))"
   ]
  },
  {
   "cell_type": "code",
   "execution_count": 232,
   "id": "b244d0d9",
   "metadata": {},
   "outputs": [
    {
     "name": "stdout",
     "output_type": "stream",
     "text": [
      "Median Absolute Error:\n",
      "\n",
      "0.11909544809923826\n"
     ]
    }
   ],
   "source": [
    "median_se = np.square(np.subtract(y_test_17, y_pred_17)).median() \n",
    " \n",
    "med = math.sqrt(median_se)\n",
    "print(\"Median Absolute Error:\\n\")\n",
    "print(med)"
   ]
  },
  {
   "cell_type": "code",
   "execution_count": 233,
   "id": "3656aeed",
   "metadata": {},
   "outputs": [
    {
     "name": "stdout",
     "output_type": "stream",
     "text": [
      "MAPE for AutoML 2017 is: 0.014941585595465231\n"
     ]
    }
   ],
   "source": [
    "mape = mean_absolute_percentage_error(y_test_17, y_pred_17)\n",
    "print(\"MAPE for AutoML 2017 is: \" + str(mape))"
   ]
  },
  {
   "cell_type": "code",
   "execution_count": 234,
   "id": "de32e7b8",
   "metadata": {},
   "outputs": [],
   "source": [
    "cnames = ['Algorithm', 'Year', 'RMSE', 'MSE', 'MEDAE', 'Accuracy', 'MAPE']\n",
    "df24 = pd.DataFrame(columns = cnames)\n",
    "\n",
    "df24 = df24.append({'Algorithm': 'AutoML',\n",
    "           'Year': 2017,\n",
    "           'RMSE': rmse,\n",
    "           'MSE': mse,\n",
    "           'MEDAE': med,\n",
    "           'Accuracy': acc,\n",
    "           'MAPE': mape         \n",
    "          }, ignore_index = True)"
   ]
  },
  {
   "cell_type": "code",
   "execution_count": 235,
   "id": "290ccd72",
   "metadata": {},
   "outputs": [],
   "source": [
    "#cnames = ['Actual', 'Predicted']\n",
    "#dfreal5 = pd.DataFrame(columns = cnames)\n",
    "dfreal5 = pd.DataFrame(y_test_17.values)\n",
    "dfpred5 = pd.DataFrame(y_pred_17)\n",
    "#dfreal5 = pd.concat([z1, z2], ignore_index=True)"
   ]
  },
  {
   "cell_type": "markdown",
   "id": "e44a748f",
   "metadata": {},
   "source": [
    "### MLR"
   ]
  },
  {
   "cell_type": "code",
   "execution_count": 236,
   "id": "900d1850",
   "metadata": {},
   "outputs": [
    {
     "name": "stdout",
     "output_type": "stream",
     "text": [
      "MSE for MLR 2017 is: 0.11774632727001243\n"
     ]
    }
   ],
   "source": [
    "lm = linear_model.LinearRegression()\n",
    "lm.fit(x_train_17, y_train_17) # fitting the model\n",
    "y_pred_17 = lm.predict(x_test_17)\n",
    "# Calculation of Mean Squared Error (MSE)\n",
    "mse = mean_squared_error(y_test_17, y_pred_17)\n",
    "print('MSE for MLR 2017 is: ' + str(mse))"
   ]
  },
  {
   "cell_type": "code",
   "execution_count": 237,
   "id": "38e7f871",
   "metadata": {},
   "outputs": [
    {
     "name": "stdout",
     "output_type": "stream",
     "text": [
      "RMSE for MLR 2017 is: 0.3431418471565548\n"
     ]
    }
   ],
   "source": [
    "rmse = mean_squared_error(y_test_17, y_pred_17, squared = False)\n",
    "print('RMSE for MLR 2017 is: ' + str(rmse))"
   ]
  },
  {
   "cell_type": "code",
   "execution_count": 238,
   "id": "bf7320be",
   "metadata": {},
   "outputs": [
    {
     "name": "stdout",
     "output_type": "stream",
     "text": [
      "Accuracy of properties at +- 10% of actual prices is 0.3468085106382979\n"
     ]
    }
   ],
   "source": [
    "acc = accuracy_threshold(y_test_17, y_pred_17, 0.1)\n",
    "print('Accuracy of properties at +- 10% of actual prices is ' + str(acc))"
   ]
  },
  {
   "cell_type": "code",
   "execution_count": 239,
   "id": "79216519",
   "metadata": {},
   "outputs": [
    {
     "name": "stdout",
     "output_type": "stream",
     "text": [
      "Median Absolute Error:\n",
      "\n",
      "0.16687263111707593\n"
     ]
    }
   ],
   "source": [
    "median_se = np.square(np.subtract(y_test_17, y_pred_17)).median() \n",
    " \n",
    "med = math.sqrt(median_se)\n",
    "print(\"Median Absolute Error:\\n\")\n",
    "print(med)"
   ]
  },
  {
   "cell_type": "code",
   "execution_count": 240,
   "id": "a81013e4",
   "metadata": {},
   "outputs": [
    {
     "name": "stdout",
     "output_type": "stream",
     "text": [
      "MAPE for MLR 2017 is: 0.018456471452181038\n"
     ]
    }
   ],
   "source": [
    "mape = mean_absolute_percentage_error(y_test_17, y_pred_17)\n",
    "print(\"MAPE for MLR 2017 is: \" + str(mape))"
   ]
  },
  {
   "cell_type": "code",
   "execution_count": 241,
   "id": "fe7d6ec2",
   "metadata": {},
   "outputs": [],
   "source": [
    "cnames = ['Algorithm', 'Year', 'RMSE', 'MSE', 'MEDAE', 'Accuracy', 'MAPE']\n",
    "df25 = pd.DataFrame(columns = cnames)\n",
    "\n",
    "df25 = df25.append({'Algorithm': 'MLR',\n",
    "           'Year': 2017,\n",
    "           'RMSE': rmse,\n",
    "           'MSE': mse,\n",
    "           'MEDAE': med,\n",
    "           'Accuracy': acc,\n",
    "           'MAPE': mape         \n",
    "          }, ignore_index = True)"
   ]
  },
  {
   "cell_type": "markdown",
   "id": "02520000",
   "metadata": {},
   "source": [
    "### AdaBoost"
   ]
  },
  {
   "cell_type": "code",
   "execution_count": 242,
   "id": "6bd671b0",
   "metadata": {},
   "outputs": [
    {
     "name": "stdout",
     "output_type": "stream",
     "text": [
      "MSE for AdaBoost 2017 is: 0.0975752938950291\n"
     ]
    }
   ],
   "source": [
    "model = AdaBoostRegressor()\n",
    "model.fit(x_train_17, y_train_17)\n",
    "y_pred_17 = model.predict(x_test_17)\n",
    "# Calculation of Mean Squared Error (MSE)\n",
    "mse = mean_squared_error(y_test_17, y_pred_17)\n",
    "print('MSE for AdaBoost 2017 is: ' + str(mse))"
   ]
  },
  {
   "cell_type": "code",
   "execution_count": 243,
   "id": "4fbed0ce",
   "metadata": {},
   "outputs": [
    {
     "name": "stdout",
     "output_type": "stream",
     "text": [
      "RMSE for Adaboost 2017 is: 0.31237044337617653\n"
     ]
    }
   ],
   "source": [
    "rmse = mean_squared_error(y_test_17, y_pred_17, squared = False)\n",
    "print('RMSE for Adaboost 2017 is: ' + str(rmse))"
   ]
  },
  {
   "cell_type": "code",
   "execution_count": 244,
   "id": "9f322152",
   "metadata": {},
   "outputs": [
    {
     "name": "stdout",
     "output_type": "stream",
     "text": [
      "Accuracy of properties at +- 10% of actual prices is 0.34893617021276596\n"
     ]
    }
   ],
   "source": [
    "acc = accuracy_threshold(y_test_17, y_pred_17, 0.1)\n",
    "print('Accuracy of properties at +- 10% of actual prices is ' + str(acc))"
   ]
  },
  {
   "cell_type": "code",
   "execution_count": 245,
   "id": "39b1630b",
   "metadata": {},
   "outputs": [
    {
     "name": "stdout",
     "output_type": "stream",
     "text": [
      "Median Absolute Error:\n",
      "\n",
      "0.16213382731021575\n"
     ]
    }
   ],
   "source": [
    "median_se = np.square(np.subtract(y_test_17, y_pred_17)).median() \n",
    " \n",
    "med = math.sqrt(median_se)\n",
    "print(\"Median Absolute Error:\\n\")\n",
    "print(med)"
   ]
  },
  {
   "cell_type": "code",
   "execution_count": 246,
   "id": "c5c7a745",
   "metadata": {},
   "outputs": [
    {
     "name": "stdout",
     "output_type": "stream",
     "text": [
      "MAPE for AdaBoost 2017 is: 0.0175017479096011\n"
     ]
    }
   ],
   "source": [
    "mape = mean_absolute_percentage_error(y_test_17, y_pred_17)\n",
    "print(\"MAPE for AdaBoost 2017 is: \" + str(mape))"
   ]
  },
  {
   "cell_type": "code",
   "execution_count": 247,
   "id": "07ef9181",
   "metadata": {},
   "outputs": [],
   "source": [
    "cnames = ['Algorithm', 'Year', 'RMSE', 'MSE', 'MEDAE', 'Accuracy', 'MAPE']\n",
    "df26 = pd.DataFrame(columns = cnames)\n",
    "\n",
    "df26 = df26.append({'Algorithm': 'AdaBoost',\n",
    "           'Year': 2017,\n",
    "           'RMSE': rmse,\n",
    "           'MSE': mse,\n",
    "           'MEDAE': med,\n",
    "           'Accuracy': acc,\n",
    "           'MAPE': mape         \n",
    "          }, ignore_index = True)"
   ]
  },
  {
   "cell_type": "markdown",
   "id": "a8bbf8de",
   "metadata": {},
   "source": [
    "### LightGBM"
   ]
  },
  {
   "cell_type": "code",
   "execution_count": 248,
   "id": "8bdf11c8",
   "metadata": {},
   "outputs": [
    {
     "name": "stdout",
     "output_type": "stream",
     "text": [
      "MSE for LightGBM 2017 is: 0.09180809051084973\n"
     ]
    }
   ],
   "source": [
    "model = LGBMRegressor()\n",
    "model.fit(x_train_17, y_train_17)\n",
    "y_pred_17 = model.predict(x_test_17)\n",
    "# Calculation of Mean Squared Error (MSE)\n",
    "mse = mean_squared_error(y_test_17, y_pred_17)\n",
    "print('MSE for LightGBM 2017 is: ' + str(mse))"
   ]
  },
  {
   "cell_type": "code",
   "execution_count": 249,
   "id": "70c2101b",
   "metadata": {},
   "outputs": [
    {
     "name": "stdout",
     "output_type": "stream",
     "text": [
      "RMSE for LightGBM 2017 is: 0.30299849918910443\n"
     ]
    }
   ],
   "source": [
    "rmse = mean_squared_error(y_test_17, y_pred_17, squared = False)\n",
    "print('RMSE for LightGBM 2017 is: ' + str(rmse))"
   ]
  },
  {
   "cell_type": "code",
   "execution_count": 250,
   "id": "09740eef",
   "metadata": {},
   "outputs": [
    {
     "name": "stdout",
     "output_type": "stream",
     "text": [
      "Accuracy of properties at +- 10% of actual prices is 0.42340425531914894\n"
     ]
    }
   ],
   "source": [
    "acc = accuracy_threshold(y_test_17, y_pred_17, 0.1)\n",
    "print('Accuracy of properties at +- 10% of actual prices is ' + str(acc))"
   ]
  },
  {
   "cell_type": "code",
   "execution_count": 251,
   "id": "09c947c3",
   "metadata": {},
   "outputs": [
    {
     "name": "stdout",
     "output_type": "stream",
     "text": [
      "Median Absolute Error:\n",
      "\n",
      "0.11778997492048514\n"
     ]
    }
   ],
   "source": [
    "median_se = np.square(np.subtract(y_test_17, y_pred_17)).median() \n",
    " \n",
    "med = math.sqrt(median_se)\n",
    "print(\"Median Absolute Error:\\n\")\n",
    "print(med)"
   ]
  },
  {
   "cell_type": "code",
   "execution_count": 252,
   "id": "5d44cfb8",
   "metadata": {},
   "outputs": [
    {
     "name": "stdout",
     "output_type": "stream",
     "text": [
      "MAPE for LightGBM 2017 is: 0.015434334013122197\n"
     ]
    }
   ],
   "source": [
    "mape = mean_absolute_percentage_error(y_test_17, y_pred_17)\n",
    "print(\"MAPE for LightGBM 2017 is: \" + str(mape))"
   ]
  },
  {
   "cell_type": "code",
   "execution_count": 253,
   "id": "00ea8e81",
   "metadata": {},
   "outputs": [],
   "source": [
    "cnames = ['Algorithm', 'Year', 'RMSE', 'MSE', 'MEDAE', 'Accuracy', 'MAPE']\n",
    "df27 = pd.DataFrame(columns = cnames)\n",
    "\n",
    "df27 = df27.append({'Algorithm': 'LightGBM',\n",
    "           'Year': 2017,\n",
    "           'RMSE': rmse,\n",
    "           'MSE': mse,\n",
    "           'MEDAE': med,\n",
    "           'Accuracy': acc,\n",
    "           'MAPE': mape         \n",
    "          }, ignore_index = True)"
   ]
  },
  {
   "cell_type": "markdown",
   "id": "5c37b554",
   "metadata": {},
   "source": [
    "### CatBoost"
   ]
  },
  {
   "cell_type": "code",
   "execution_count": 254,
   "id": "28007eed",
   "metadata": {},
   "outputs": [
    {
     "name": "stdout",
     "output_type": "stream",
     "text": [
      "Learning rate set to 0.046032\n",
      "0:\tlearn: 0.5618668\ttotal: 3.9ms\tremaining: 3.89s\n",
      "1:\tlearn: 0.5457524\ttotal: 7.61ms\tremaining: 3.8s\n",
      "2:\tlearn: 0.5301779\ttotal: 12.6ms\tremaining: 4.2s\n",
      "3:\tlearn: 0.5155368\ttotal: 16.6ms\tremaining: 4.13s\n",
      "4:\tlearn: 0.5018235\ttotal: 53.5ms\tremaining: 10.6s\n",
      "5:\tlearn: 0.4893835\ttotal: 61.9ms\tremaining: 10.3s\n",
      "6:\tlearn: 0.4768347\ttotal: 72.2ms\tremaining: 10.2s\n",
      "7:\tlearn: 0.4659068\ttotal: 87.5ms\tremaining: 10.8s\n",
      "8:\tlearn: 0.4554361\ttotal: 97.4ms\tremaining: 10.7s\n",
      "9:\tlearn: 0.4452306\ttotal: 108ms\tremaining: 10.7s\n",
      "10:\tlearn: 0.4358832\ttotal: 116ms\tremaining: 10.4s\n",
      "11:\tlearn: 0.4271822\ttotal: 126ms\tremaining: 10.4s\n",
      "12:\tlearn: 0.4175739\ttotal: 146ms\tremaining: 11.1s\n",
      "13:\tlearn: 0.4090753\ttotal: 154ms\tremaining: 10.8s\n",
      "14:\tlearn: 0.4012950\ttotal: 165ms\tremaining: 10.8s\n",
      "15:\tlearn: 0.3937527\ttotal: 174ms\tremaining: 10.7s\n",
      "16:\tlearn: 0.3865417\ttotal: 181ms\tremaining: 10.5s\n",
      "17:\tlearn: 0.3798730\ttotal: 187ms\tremaining: 10.2s\n",
      "18:\tlearn: 0.3733477\ttotal: 196ms\tremaining: 10.1s\n",
      "19:\tlearn: 0.3678886\ttotal: 204ms\tremaining: 9.97s\n",
      "20:\tlearn: 0.3623292\ttotal: 211ms\tremaining: 9.82s\n",
      "21:\tlearn: 0.3571090\ttotal: 219ms\tremaining: 9.72s\n",
      "22:\tlearn: 0.3522089\ttotal: 228ms\tremaining: 9.67s\n",
      "23:\tlearn: 0.3479372\ttotal: 236ms\tremaining: 9.6s\n",
      "24:\tlearn: 0.3434545\ttotal: 245ms\tremaining: 9.56s\n",
      "25:\tlearn: 0.3394691\ttotal: 256ms\tremaining: 9.6s\n",
      "26:\tlearn: 0.3358806\ttotal: 263ms\tremaining: 9.49s\n",
      "27:\tlearn: 0.3324904\ttotal: 271ms\tremaining: 9.42s\n",
      "28:\tlearn: 0.3289502\ttotal: 278ms\tremaining: 9.31s\n",
      "29:\tlearn: 0.3257763\ttotal: 286ms\tremaining: 9.23s\n",
      "30:\tlearn: 0.3223891\ttotal: 292ms\tremaining: 9.13s\n",
      "31:\tlearn: 0.3191558\ttotal: 299ms\tremaining: 9.06s\n",
      "32:\tlearn: 0.3166514\ttotal: 308ms\tremaining: 9.04s\n",
      "33:\tlearn: 0.3140600\ttotal: 318ms\tremaining: 9.02s\n",
      "34:\tlearn: 0.3110879\ttotal: 326ms\tremaining: 8.98s\n",
      "35:\tlearn: 0.3087101\ttotal: 334ms\tremaining: 8.93s\n",
      "36:\tlearn: 0.3063667\ttotal: 342ms\tremaining: 8.91s\n",
      "37:\tlearn: 0.3043381\ttotal: 350ms\tremaining: 8.87s\n",
      "38:\tlearn: 0.3023826\ttotal: 358ms\tremaining: 8.81s\n",
      "39:\tlearn: 0.3005225\ttotal: 366ms\tremaining: 8.78s\n",
      "40:\tlearn: 0.2986164\ttotal: 374ms\tremaining: 8.74s\n",
      "41:\tlearn: 0.2970083\ttotal: 395ms\tremaining: 9.01s\n",
      "42:\tlearn: 0.2952805\ttotal: 403ms\tremaining: 8.97s\n",
      "43:\tlearn: 0.2936419\ttotal: 412ms\tremaining: 8.94s\n",
      "44:\tlearn: 0.2923626\ttotal: 419ms\tremaining: 8.88s\n",
      "45:\tlearn: 0.2910444\ttotal: 426ms\tremaining: 8.84s\n",
      "46:\tlearn: 0.2896192\ttotal: 435ms\tremaining: 8.81s\n",
      "47:\tlearn: 0.2878537\ttotal: 443ms\tremaining: 8.8s\n",
      "48:\tlearn: 0.2868639\ttotal: 450ms\tremaining: 8.73s\n",
      "49:\tlearn: 0.2858544\ttotal: 459ms\tremaining: 8.72s\n",
      "50:\tlearn: 0.2846774\ttotal: 473ms\tremaining: 8.8s\n",
      "51:\tlearn: 0.2836499\ttotal: 484ms\tremaining: 8.82s\n",
      "52:\tlearn: 0.2822374\ttotal: 492ms\tremaining: 8.79s\n",
      "53:\tlearn: 0.2813503\ttotal: 500ms\tremaining: 8.75s\n",
      "54:\tlearn: 0.2804226\ttotal: 507ms\tremaining: 8.7s\n",
      "55:\tlearn: 0.2794888\ttotal: 518ms\tremaining: 8.73s\n",
      "56:\tlearn: 0.2785686\ttotal: 530ms\tremaining: 8.76s\n",
      "57:\tlearn: 0.2778038\ttotal: 538ms\tremaining: 8.74s\n",
      "58:\tlearn: 0.2767933\ttotal: 547ms\tremaining: 8.72s\n",
      "59:\tlearn: 0.2759191\ttotal: 555ms\tremaining: 8.7s\n",
      "60:\tlearn: 0.2750493\ttotal: 563ms\tremaining: 8.66s\n",
      "61:\tlearn: 0.2743592\ttotal: 571ms\tremaining: 8.63s\n",
      "62:\tlearn: 0.2737812\ttotal: 579ms\tremaining: 8.61s\n",
      "63:\tlearn: 0.2729382\ttotal: 586ms\tremaining: 8.57s\n",
      "64:\tlearn: 0.2721047\ttotal: 594ms\tremaining: 8.55s\n",
      "65:\tlearn: 0.2715146\ttotal: 601ms\tremaining: 8.5s\n",
      "66:\tlearn: 0.2709589\ttotal: 608ms\tremaining: 8.47s\n",
      "67:\tlearn: 0.2701979\ttotal: 615ms\tremaining: 8.42s\n",
      "68:\tlearn: 0.2695693\ttotal: 623ms\tremaining: 8.41s\n",
      "69:\tlearn: 0.2689097\ttotal: 630ms\tremaining: 8.37s\n",
      "70:\tlearn: 0.2684390\ttotal: 639ms\tremaining: 8.36s\n",
      "71:\tlearn: 0.2678274\ttotal: 646ms\tremaining: 8.32s\n",
      "72:\tlearn: 0.2673692\ttotal: 652ms\tremaining: 8.28s\n",
      "73:\tlearn: 0.2669648\ttotal: 658ms\tremaining: 8.23s\n",
      "74:\tlearn: 0.2665977\ttotal: 663ms\tremaining: 8.17s\n",
      "75:\tlearn: 0.2662114\ttotal: 667ms\tremaining: 8.11s\n",
      "76:\tlearn: 0.2657614\ttotal: 671ms\tremaining: 8.04s\n",
      "77:\tlearn: 0.2654426\ttotal: 675ms\tremaining: 7.98s\n",
      "78:\tlearn: 0.2647699\ttotal: 678ms\tremaining: 7.91s\n",
      "79:\tlearn: 0.2641020\ttotal: 682ms\tremaining: 7.85s\n",
      "80:\tlearn: 0.2635326\ttotal: 687ms\tremaining: 7.79s\n",
      "81:\tlearn: 0.2632525\ttotal: 692ms\tremaining: 7.75s\n",
      "82:\tlearn: 0.2626297\ttotal: 696ms\tremaining: 7.69s\n",
      "83:\tlearn: 0.2622793\ttotal: 700ms\tremaining: 7.63s\n",
      "84:\tlearn: 0.2619219\ttotal: 704ms\tremaining: 7.58s\n",
      "85:\tlearn: 0.2615197\ttotal: 708ms\tremaining: 7.53s\n",
      "86:\tlearn: 0.2610822\ttotal: 712ms\tremaining: 7.47s\n",
      "87:\tlearn: 0.2608562\ttotal: 716ms\tremaining: 7.42s\n",
      "88:\tlearn: 0.2604463\ttotal: 720ms\tremaining: 7.37s\n",
      "89:\tlearn: 0.2601345\ttotal: 724ms\tremaining: 7.32s\n",
      "90:\tlearn: 0.2596318\ttotal: 728ms\tremaining: 7.27s\n",
      "91:\tlearn: 0.2588074\ttotal: 733ms\tremaining: 7.24s\n",
      "92:\tlearn: 0.2583784\ttotal: 737ms\tremaining: 7.19s\n",
      "93:\tlearn: 0.2580409\ttotal: 741ms\tremaining: 7.14s\n",
      "94:\tlearn: 0.2578218\ttotal: 745ms\tremaining: 7.1s\n",
      "95:\tlearn: 0.2575834\ttotal: 749ms\tremaining: 7.05s\n",
      "96:\tlearn: 0.2573672\ttotal: 753ms\tremaining: 7.01s\n",
      "97:\tlearn: 0.2571136\ttotal: 757ms\tremaining: 6.97s\n",
      "98:\tlearn: 0.2568041\ttotal: 761ms\tremaining: 6.92s\n",
      "99:\tlearn: 0.2563741\ttotal: 765ms\tremaining: 6.88s\n",
      "100:\tlearn: 0.2561402\ttotal: 769ms\tremaining: 6.84s\n",
      "101:\tlearn: 0.2559505\ttotal: 772ms\tremaining: 6.8s\n",
      "102:\tlearn: 0.2553541\ttotal: 778ms\tremaining: 6.77s\n",
      "103:\tlearn: 0.2549603\ttotal: 781ms\tremaining: 6.73s\n",
      "104:\tlearn: 0.2545502\ttotal: 785ms\tremaining: 6.7s\n",
      "105:\tlearn: 0.2541517\ttotal: 789ms\tremaining: 6.66s\n",
      "106:\tlearn: 0.2538666\ttotal: 793ms\tremaining: 6.62s\n",
      "107:\tlearn: 0.2536044\ttotal: 797ms\tremaining: 6.58s\n",
      "108:\tlearn: 0.2533086\ttotal: 801ms\tremaining: 6.55s\n",
      "109:\tlearn: 0.2529771\ttotal: 805ms\tremaining: 6.51s\n",
      "110:\tlearn: 0.2527080\ttotal: 809ms\tremaining: 6.48s\n",
      "111:\tlearn: 0.2525068\ttotal: 812ms\tremaining: 6.44s\n",
      "112:\tlearn: 0.2522396\ttotal: 816ms\tremaining: 6.4s\n",
      "113:\tlearn: 0.2517450\ttotal: 821ms\tremaining: 6.38s\n",
      "114:\tlearn: 0.2513942\ttotal: 825ms\tremaining: 6.35s\n",
      "115:\tlearn: 0.2512077\ttotal: 829ms\tremaining: 6.32s\n",
      "116:\tlearn: 0.2509916\ttotal: 833ms\tremaining: 6.28s\n",
      "117:\tlearn: 0.2507810\ttotal: 836ms\tremaining: 6.25s\n",
      "118:\tlearn: 0.2505692\ttotal: 840ms\tremaining: 6.22s\n",
      "119:\tlearn: 0.2504557\ttotal: 844ms\tremaining: 6.19s\n",
      "120:\tlearn: 0.2502891\ttotal: 848ms\tremaining: 6.16s\n",
      "121:\tlearn: 0.2501446\ttotal: 852ms\tremaining: 6.13s\n",
      "122:\tlearn: 0.2498261\ttotal: 856ms\tremaining: 6.1s\n",
      "123:\tlearn: 0.2496512\ttotal: 859ms\tremaining: 6.07s\n",
      "124:\tlearn: 0.2493720\ttotal: 864ms\tremaining: 6.04s\n",
      "125:\tlearn: 0.2489524\ttotal: 867ms\tremaining: 6.02s\n",
      "126:\tlearn: 0.2487851\ttotal: 871ms\tremaining: 5.99s\n",
      "127:\tlearn: 0.2485361\ttotal: 874ms\tremaining: 5.96s\n",
      "128:\tlearn: 0.2481384\ttotal: 879ms\tremaining: 5.93s\n",
      "129:\tlearn: 0.2477172\ttotal: 883ms\tremaining: 5.91s\n",
      "130:\tlearn: 0.2474110\ttotal: 888ms\tremaining: 5.89s\n",
      "131:\tlearn: 0.2470982\ttotal: 896ms\tremaining: 5.89s\n",
      "132:\tlearn: 0.2466904\ttotal: 900ms\tremaining: 5.87s\n",
      "133:\tlearn: 0.2464041\ttotal: 904ms\tremaining: 5.84s\n",
      "134:\tlearn: 0.2458953\ttotal: 909ms\tremaining: 5.82s\n",
      "135:\tlearn: 0.2456177\ttotal: 913ms\tremaining: 5.8s\n",
      "136:\tlearn: 0.2453755\ttotal: 917ms\tremaining: 5.77s\n",
      "137:\tlearn: 0.2451498\ttotal: 920ms\tremaining: 5.75s\n",
      "138:\tlearn: 0.2447816\ttotal: 924ms\tremaining: 5.72s\n",
      "139:\tlearn: 0.2445562\ttotal: 927ms\tremaining: 5.7s\n",
      "140:\tlearn: 0.2442864\ttotal: 931ms\tremaining: 5.67s\n",
      "141:\tlearn: 0.2441000\ttotal: 935ms\tremaining: 5.65s\n",
      "142:\tlearn: 0.2438833\ttotal: 938ms\tremaining: 5.62s\n",
      "143:\tlearn: 0.2437264\ttotal: 942ms\tremaining: 5.6s\n",
      "144:\tlearn: 0.2436040\ttotal: 945ms\tremaining: 5.57s\n",
      "145:\tlearn: 0.2434709\ttotal: 950ms\tremaining: 5.56s\n",
      "146:\tlearn: 0.2430340\ttotal: 954ms\tremaining: 5.53s\n",
      "147:\tlearn: 0.2429300\ttotal: 957ms\tremaining: 5.51s\n",
      "148:\tlearn: 0.2427383\ttotal: 961ms\tremaining: 5.49s\n",
      "149:\tlearn: 0.2425712\ttotal: 965ms\tremaining: 5.47s\n",
      "150:\tlearn: 0.2424776\ttotal: 971ms\tremaining: 5.46s\n",
      "151:\tlearn: 0.2422381\ttotal: 974ms\tremaining: 5.44s\n",
      "152:\tlearn: 0.2420333\ttotal: 978ms\tremaining: 5.42s\n",
      "153:\tlearn: 0.2416706\ttotal: 982ms\tremaining: 5.39s\n",
      "154:\tlearn: 0.2414382\ttotal: 985ms\tremaining: 5.37s\n",
      "155:\tlearn: 0.2412026\ttotal: 989ms\tremaining: 5.35s\n",
      "156:\tlearn: 0.2410483\ttotal: 994ms\tremaining: 5.34s\n",
      "157:\tlearn: 0.2409600\ttotal: 998ms\tremaining: 5.32s\n",
      "158:\tlearn: 0.2407307\ttotal: 1s\tremaining: 5.3s\n",
      "159:\tlearn: 0.2404772\ttotal: 1s\tremaining: 5.28s\n",
      "160:\tlearn: 0.2403752\ttotal: 1.01s\tremaining: 5.26s\n",
      "161:\tlearn: 0.2402019\ttotal: 1.01s\tremaining: 5.24s\n",
      "162:\tlearn: 0.2399821\ttotal: 1.01s\tremaining: 5.22s\n",
      "163:\tlearn: 0.2398224\ttotal: 1.02s\tremaining: 5.2s\n",
      "164:\tlearn: 0.2397362\ttotal: 1.02s\tremaining: 5.18s\n",
      "165:\tlearn: 0.2395811\ttotal: 1.03s\tremaining: 5.16s\n",
      "166:\tlearn: 0.2393690\ttotal: 1.03s\tremaining: 5.14s\n"
     ]
    },
    {
     "name": "stdout",
     "output_type": "stream",
     "text": [
      "167:\tlearn: 0.2392386\ttotal: 1.03s\tremaining: 5.13s\n",
      "168:\tlearn: 0.2391337\ttotal: 1.04s\tremaining: 5.11s\n",
      "169:\tlearn: 0.2389557\ttotal: 1.04s\tremaining: 5.09s\n",
      "170:\tlearn: 0.2387227\ttotal: 1.04s\tremaining: 5.07s\n",
      "171:\tlearn: 0.2385678\ttotal: 1.05s\tremaining: 5.04s\n",
      "172:\tlearn: 0.2383408\ttotal: 1.05s\tremaining: 5.03s\n",
      "173:\tlearn: 0.2381782\ttotal: 1.05s\tremaining: 5s\n",
      "174:\tlearn: 0.2379682\ttotal: 1.06s\tremaining: 4.98s\n",
      "175:\tlearn: 0.2377597\ttotal: 1.06s\tremaining: 4.96s\n",
      "176:\tlearn: 0.2375995\ttotal: 1.06s\tremaining: 4.94s\n",
      "177:\tlearn: 0.2374389\ttotal: 1.06s\tremaining: 4.92s\n",
      "178:\tlearn: 0.2373223\ttotal: 1.07s\tremaining: 4.9s\n",
      "179:\tlearn: 0.2372236\ttotal: 1.07s\tremaining: 4.88s\n",
      "180:\tlearn: 0.2371025\ttotal: 1.07s\tremaining: 4.86s\n",
      "181:\tlearn: 0.2370060\ttotal: 1.08s\tremaining: 4.85s\n",
      "182:\tlearn: 0.2368280\ttotal: 1.08s\tremaining: 4.83s\n",
      "183:\tlearn: 0.2366088\ttotal: 1.08s\tremaining: 4.82s\n",
      "184:\tlearn: 0.2364066\ttotal: 1.09s\tremaining: 4.8s\n",
      "185:\tlearn: 0.2361831\ttotal: 1.09s\tremaining: 4.78s\n",
      "186:\tlearn: 0.2360296\ttotal: 1.09s\tremaining: 4.76s\n",
      "187:\tlearn: 0.2359785\ttotal: 1.1s\tremaining: 4.74s\n",
      "188:\tlearn: 0.2358328\ttotal: 1.1s\tremaining: 4.72s\n",
      "189:\tlearn: 0.2356357\ttotal: 1.1s\tremaining: 4.7s\n",
      "190:\tlearn: 0.2355328\ttotal: 1.11s\tremaining: 4.68s\n",
      "191:\tlearn: 0.2353947\ttotal: 1.11s\tremaining: 4.67s\n",
      "192:\tlearn: 0.2352836\ttotal: 1.11s\tremaining: 4.65s\n",
      "193:\tlearn: 0.2351287\ttotal: 1.11s\tremaining: 4.63s\n",
      "194:\tlearn: 0.2349524\ttotal: 1.12s\tremaining: 4.61s\n",
      "195:\tlearn: 0.2348826\ttotal: 1.12s\tremaining: 4.6s\n",
      "196:\tlearn: 0.2347747\ttotal: 1.13s\tremaining: 4.59s\n",
      "197:\tlearn: 0.2347215\ttotal: 1.13s\tremaining: 4.58s\n",
      "198:\tlearn: 0.2346852\ttotal: 1.13s\tremaining: 4.56s\n",
      "199:\tlearn: 0.2343709\ttotal: 1.14s\tremaining: 4.55s\n",
      "200:\tlearn: 0.2342612\ttotal: 1.15s\tremaining: 4.55s\n",
      "201:\tlearn: 0.2340526\ttotal: 1.15s\tremaining: 4.56s\n",
      "202:\tlearn: 0.2340171\ttotal: 1.16s\tremaining: 4.54s\n",
      "203:\tlearn: 0.2339577\ttotal: 1.16s\tremaining: 4.54s\n",
      "204:\tlearn: 0.2337753\ttotal: 1.17s\tremaining: 4.54s\n",
      "205:\tlearn: 0.2336937\ttotal: 1.18s\tremaining: 4.53s\n",
      "206:\tlearn: 0.2334059\ttotal: 1.18s\tremaining: 4.52s\n",
      "207:\tlearn: 0.2332757\ttotal: 1.18s\tremaining: 4.51s\n",
      "208:\tlearn: 0.2332001\ttotal: 1.19s\tremaining: 4.5s\n",
      "209:\tlearn: 0.2330417\ttotal: 1.19s\tremaining: 4.49s\n",
      "210:\tlearn: 0.2328680\ttotal: 1.2s\tremaining: 4.48s\n",
      "211:\tlearn: 0.2327983\ttotal: 1.2s\tremaining: 4.47s\n",
      "212:\tlearn: 0.2326892\ttotal: 1.21s\tremaining: 4.48s\n",
      "213:\tlearn: 0.2325429\ttotal: 1.22s\tremaining: 4.48s\n",
      "214:\tlearn: 0.2324704\ttotal: 1.23s\tremaining: 4.48s\n",
      "215:\tlearn: 0.2324060\ttotal: 1.23s\tremaining: 4.48s\n",
      "216:\tlearn: 0.2323050\ttotal: 1.24s\tremaining: 4.49s\n",
      "217:\tlearn: 0.2322104\ttotal: 1.25s\tremaining: 4.49s\n",
      "218:\tlearn: 0.2319619\ttotal: 1.26s\tremaining: 4.49s\n",
      "219:\tlearn: 0.2317373\ttotal: 1.26s\tremaining: 4.48s\n",
      "220:\tlearn: 0.2316410\ttotal: 1.27s\tremaining: 4.48s\n",
      "221:\tlearn: 0.2315486\ttotal: 1.28s\tremaining: 4.47s\n",
      "222:\tlearn: 0.2314844\ttotal: 1.28s\tremaining: 4.47s\n",
      "223:\tlearn: 0.2312510\ttotal: 1.29s\tremaining: 4.47s\n",
      "224:\tlearn: 0.2310772\ttotal: 1.3s\tremaining: 4.47s\n",
      "225:\tlearn: 0.2308901\ttotal: 1.3s\tremaining: 4.46s\n",
      "226:\tlearn: 0.2308356\ttotal: 1.31s\tremaining: 4.46s\n",
      "227:\tlearn: 0.2307806\ttotal: 1.32s\tremaining: 4.46s\n",
      "228:\tlearn: 0.2305636\ttotal: 1.32s\tremaining: 4.46s\n",
      "229:\tlearn: 0.2303450\ttotal: 1.33s\tremaining: 4.46s\n",
      "230:\tlearn: 0.2302905\ttotal: 1.34s\tremaining: 4.45s\n",
      "231:\tlearn: 0.2301536\ttotal: 1.34s\tremaining: 4.45s\n",
      "232:\tlearn: 0.2299786\ttotal: 1.35s\tremaining: 4.45s\n",
      "233:\tlearn: 0.2297573\ttotal: 1.36s\tremaining: 4.44s\n",
      "234:\tlearn: 0.2294716\ttotal: 1.36s\tremaining: 4.44s\n",
      "235:\tlearn: 0.2293183\ttotal: 1.37s\tremaining: 4.43s\n",
      "236:\tlearn: 0.2289120\ttotal: 1.38s\tremaining: 4.43s\n",
      "237:\tlearn: 0.2287196\ttotal: 1.38s\tremaining: 4.43s\n",
      "238:\tlearn: 0.2286610\ttotal: 1.39s\tremaining: 4.43s\n",
      "239:\tlearn: 0.2286097\ttotal: 1.4s\tremaining: 4.43s\n",
      "240:\tlearn: 0.2285333\ttotal: 1.4s\tremaining: 4.42s\n",
      "241:\tlearn: 0.2283569\ttotal: 1.41s\tremaining: 4.43s\n",
      "242:\tlearn: 0.2281243\ttotal: 1.42s\tremaining: 4.43s\n",
      "243:\tlearn: 0.2279343\ttotal: 1.43s\tremaining: 4.43s\n",
      "244:\tlearn: 0.2276683\ttotal: 1.44s\tremaining: 4.43s\n",
      "245:\tlearn: 0.2275738\ttotal: 1.44s\tremaining: 4.42s\n",
      "246:\tlearn: 0.2274904\ttotal: 1.45s\tremaining: 4.42s\n",
      "247:\tlearn: 0.2272721\ttotal: 1.46s\tremaining: 4.42s\n",
      "248:\tlearn: 0.2272250\ttotal: 1.46s\tremaining: 4.41s\n",
      "249:\tlearn: 0.2271753\ttotal: 1.47s\tremaining: 4.41s\n",
      "250:\tlearn: 0.2269364\ttotal: 1.48s\tremaining: 4.41s\n",
      "251:\tlearn: 0.2267243\ttotal: 1.48s\tremaining: 4.41s\n",
      "252:\tlearn: 0.2263811\ttotal: 1.49s\tremaining: 4.4s\n",
      "253:\tlearn: 0.2263362\ttotal: 1.5s\tremaining: 4.39s\n",
      "254:\tlearn: 0.2262229\ttotal: 1.5s\tremaining: 4.39s\n",
      "255:\tlearn: 0.2259316\ttotal: 1.51s\tremaining: 4.39s\n",
      "256:\tlearn: 0.2258525\ttotal: 1.52s\tremaining: 4.38s\n",
      "257:\tlearn: 0.2255985\ttotal: 1.52s\tremaining: 4.38s\n",
      "258:\tlearn: 0.2254693\ttotal: 1.53s\tremaining: 4.38s\n",
      "259:\tlearn: 0.2251798\ttotal: 1.54s\tremaining: 4.37s\n",
      "260:\tlearn: 0.2250625\ttotal: 1.54s\tremaining: 4.37s\n",
      "261:\tlearn: 0.2249103\ttotal: 1.55s\tremaining: 4.37s\n",
      "262:\tlearn: 0.2247324\ttotal: 1.56s\tremaining: 4.37s\n",
      "263:\tlearn: 0.2244785\ttotal: 1.56s\tremaining: 4.37s\n",
      "264:\tlearn: 0.2244163\ttotal: 1.57s\tremaining: 4.36s\n",
      "265:\tlearn: 0.2242632\ttotal: 1.58s\tremaining: 4.36s\n",
      "266:\tlearn: 0.2242038\ttotal: 1.58s\tremaining: 4.35s\n",
      "267:\tlearn: 0.2240369\ttotal: 1.59s\tremaining: 4.34s\n",
      "268:\tlearn: 0.2239509\ttotal: 1.59s\tremaining: 4.33s\n",
      "269:\tlearn: 0.2238811\ttotal: 1.6s\tremaining: 4.32s\n",
      "270:\tlearn: 0.2238303\ttotal: 1.6s\tremaining: 4.31s\n",
      "271:\tlearn: 0.2236377\ttotal: 1.6s\tremaining: 4.29s\n",
      "272:\tlearn: 0.2234898\ttotal: 1.61s\tremaining: 4.28s\n",
      "273:\tlearn: 0.2233955\ttotal: 1.61s\tremaining: 4.27s\n",
      "274:\tlearn: 0.2232662\ttotal: 1.61s\tremaining: 4.26s\n",
      "275:\tlearn: 0.2230739\ttotal: 1.62s\tremaining: 4.25s\n",
      "276:\tlearn: 0.2228606\ttotal: 1.62s\tremaining: 4.24s\n",
      "277:\tlearn: 0.2228071\ttotal: 1.63s\tremaining: 4.23s\n",
      "278:\tlearn: 0.2227321\ttotal: 1.63s\tremaining: 4.22s\n",
      "279:\tlearn: 0.2226281\ttotal: 1.64s\tremaining: 4.21s\n",
      "280:\tlearn: 0.2224834\ttotal: 1.64s\tremaining: 4.2s\n",
      "281:\tlearn: 0.2224388\ttotal: 1.64s\tremaining: 4.18s\n",
      "282:\tlearn: 0.2223383\ttotal: 1.65s\tremaining: 4.17s\n",
      "283:\tlearn: 0.2222415\ttotal: 1.65s\tremaining: 4.16s\n",
      "284:\tlearn: 0.2221962\ttotal: 1.65s\tremaining: 4.15s\n",
      "285:\tlearn: 0.2220752\ttotal: 1.66s\tremaining: 4.14s\n",
      "286:\tlearn: 0.2218615\ttotal: 1.66s\tremaining: 4.13s\n",
      "287:\tlearn: 0.2217031\ttotal: 1.67s\tremaining: 4.12s\n",
      "288:\tlearn: 0.2216613\ttotal: 1.67s\tremaining: 4.11s\n",
      "289:\tlearn: 0.2214606\ttotal: 1.67s\tremaining: 4.09s\n",
      "290:\tlearn: 0.2213498\ttotal: 1.67s\tremaining: 4.08s\n",
      "291:\tlearn: 0.2210866\ttotal: 1.68s\tremaining: 4.07s\n",
      "292:\tlearn: 0.2208645\ttotal: 1.68s\tremaining: 4.06s\n",
      "293:\tlearn: 0.2207156\ttotal: 1.68s\tremaining: 4.04s\n",
      "294:\tlearn: 0.2204172\ttotal: 1.69s\tremaining: 4.03s\n",
      "295:\tlearn: 0.2202252\ttotal: 1.69s\tremaining: 4.02s\n",
      "296:\tlearn: 0.2199244\ttotal: 1.69s\tremaining: 4.01s\n",
      "297:\tlearn: 0.2196267\ttotal: 1.7s\tremaining: 4s\n",
      "298:\tlearn: 0.2193835\ttotal: 1.7s\tremaining: 3.98s\n",
      "299:\tlearn: 0.2191058\ttotal: 1.7s\tremaining: 3.97s\n",
      "300:\tlearn: 0.2189114\ttotal: 1.71s\tremaining: 3.96s\n",
      "301:\tlearn: 0.2187073\ttotal: 1.71s\tremaining: 3.95s\n",
      "302:\tlearn: 0.2184377\ttotal: 1.71s\tremaining: 3.94s\n",
      "303:\tlearn: 0.2182467\ttotal: 1.72s\tremaining: 3.93s\n",
      "304:\tlearn: 0.2180377\ttotal: 1.72s\tremaining: 3.92s\n",
      "305:\tlearn: 0.2177875\ttotal: 1.72s\tremaining: 3.9s\n",
      "306:\tlearn: 0.2175755\ttotal: 1.73s\tremaining: 3.89s\n",
      "307:\tlearn: 0.2174277\ttotal: 1.73s\tremaining: 3.88s\n",
      "308:\tlearn: 0.2171873\ttotal: 1.73s\tremaining: 3.87s\n",
      "309:\tlearn: 0.2169767\ttotal: 1.73s\tremaining: 3.86s\n",
      "310:\tlearn: 0.2168965\ttotal: 1.74s\tremaining: 3.85s\n",
      "311:\tlearn: 0.2168048\ttotal: 1.74s\tremaining: 3.84s\n",
      "312:\tlearn: 0.2166826\ttotal: 1.74s\tremaining: 3.83s\n",
      "313:\tlearn: 0.2165661\ttotal: 1.75s\tremaining: 3.82s\n",
      "314:\tlearn: 0.2164441\ttotal: 1.75s\tremaining: 3.81s\n",
      "315:\tlearn: 0.2162799\ttotal: 1.76s\tremaining: 3.8s\n",
      "316:\tlearn: 0.2161070\ttotal: 1.76s\tremaining: 3.79s\n",
      "317:\tlearn: 0.2159487\ttotal: 1.76s\tremaining: 3.78s\n",
      "318:\tlearn: 0.2156883\ttotal: 1.76s\tremaining: 3.77s\n",
      "319:\tlearn: 0.2155654\ttotal: 1.77s\tremaining: 3.76s\n",
      "320:\tlearn: 0.2152975\ttotal: 1.77s\tremaining: 3.75s\n",
      "321:\tlearn: 0.2149948\ttotal: 1.77s\tremaining: 3.74s\n",
      "322:\tlearn: 0.2148242\ttotal: 1.78s\tremaining: 3.73s\n",
      "323:\tlearn: 0.2146619\ttotal: 1.78s\tremaining: 3.71s\n",
      "324:\tlearn: 0.2144443\ttotal: 1.78s\tremaining: 3.7s\n",
      "325:\tlearn: 0.2142451\ttotal: 1.79s\tremaining: 3.69s\n",
      "326:\tlearn: 0.2140704\ttotal: 1.79s\tremaining: 3.68s\n"
     ]
    },
    {
     "name": "stdout",
     "output_type": "stream",
     "text": [
      "327:\tlearn: 0.2139871\ttotal: 1.79s\tremaining: 3.68s\n",
      "328:\tlearn: 0.2138519\ttotal: 1.8s\tremaining: 3.67s\n",
      "329:\tlearn: 0.2137829\ttotal: 1.8s\tremaining: 3.66s\n",
      "330:\tlearn: 0.2135282\ttotal: 1.8s\tremaining: 3.65s\n",
      "331:\tlearn: 0.2134184\ttotal: 1.81s\tremaining: 3.63s\n",
      "332:\tlearn: 0.2132579\ttotal: 1.81s\tremaining: 3.62s\n",
      "333:\tlearn: 0.2131253\ttotal: 1.81s\tremaining: 3.61s\n",
      "334:\tlearn: 0.2129631\ttotal: 1.81s\tremaining: 3.6s\n",
      "335:\tlearn: 0.2128172\ttotal: 1.82s\tremaining: 3.59s\n",
      "336:\tlearn: 0.2126081\ttotal: 1.82s\tremaining: 3.58s\n",
      "337:\tlearn: 0.2124806\ttotal: 1.82s\tremaining: 3.57s\n",
      "338:\tlearn: 0.2122510\ttotal: 1.83s\tremaining: 3.56s\n",
      "339:\tlearn: 0.2121330\ttotal: 1.83s\tremaining: 3.55s\n",
      "340:\tlearn: 0.2120607\ttotal: 1.83s\tremaining: 3.55s\n",
      "341:\tlearn: 0.2118282\ttotal: 1.84s\tremaining: 3.54s\n",
      "342:\tlearn: 0.2116656\ttotal: 1.84s\tremaining: 3.53s\n",
      "343:\tlearn: 0.2116265\ttotal: 1.84s\tremaining: 3.52s\n",
      "344:\tlearn: 0.2115155\ttotal: 1.85s\tremaining: 3.51s\n",
      "345:\tlearn: 0.2113643\ttotal: 1.85s\tremaining: 3.5s\n",
      "346:\tlearn: 0.2111786\ttotal: 1.85s\tremaining: 3.49s\n",
      "347:\tlearn: 0.2110514\ttotal: 1.86s\tremaining: 3.48s\n",
      "348:\tlearn: 0.2109506\ttotal: 1.86s\tremaining: 3.47s\n",
      "349:\tlearn: 0.2107327\ttotal: 1.86s\tremaining: 3.46s\n",
      "350:\tlearn: 0.2106982\ttotal: 1.86s\tremaining: 3.45s\n",
      "351:\tlearn: 0.2105154\ttotal: 1.87s\tremaining: 3.44s\n",
      "352:\tlearn: 0.2103850\ttotal: 1.87s\tremaining: 3.43s\n",
      "353:\tlearn: 0.2101817\ttotal: 1.87s\tremaining: 3.42s\n",
      "354:\tlearn: 0.2100318\ttotal: 1.88s\tremaining: 3.41s\n",
      "355:\tlearn: 0.2098697\ttotal: 1.88s\tremaining: 3.4s\n",
      "356:\tlearn: 0.2097779\ttotal: 1.88s\tremaining: 3.4s\n",
      "357:\tlearn: 0.2097413\ttotal: 1.89s\tremaining: 3.38s\n",
      "358:\tlearn: 0.2096855\ttotal: 1.89s\tremaining: 3.38s\n",
      "359:\tlearn: 0.2095575\ttotal: 1.89s\tremaining: 3.37s\n",
      "360:\tlearn: 0.2094616\ttotal: 1.9s\tremaining: 3.36s\n",
      "361:\tlearn: 0.2094237\ttotal: 1.9s\tremaining: 3.35s\n",
      "362:\tlearn: 0.2092001\ttotal: 1.9s\tremaining: 3.34s\n",
      "363:\tlearn: 0.2090900\ttotal: 1.91s\tremaining: 3.33s\n",
      "364:\tlearn: 0.2088153\ttotal: 1.91s\tremaining: 3.32s\n",
      "365:\tlearn: 0.2086265\ttotal: 1.91s\tremaining: 3.31s\n",
      "366:\tlearn: 0.2085343\ttotal: 1.91s\tremaining: 3.3s\n",
      "367:\tlearn: 0.2084584\ttotal: 1.92s\tremaining: 3.29s\n",
      "368:\tlearn: 0.2083297\ttotal: 1.92s\tremaining: 3.29s\n",
      "369:\tlearn: 0.2081928\ttotal: 1.93s\tremaining: 3.28s\n",
      "370:\tlearn: 0.2080757\ttotal: 1.93s\tremaining: 3.27s\n",
      "371:\tlearn: 0.2079034\ttotal: 1.93s\tremaining: 3.26s\n",
      "372:\tlearn: 0.2077717\ttotal: 1.93s\tremaining: 3.25s\n",
      "373:\tlearn: 0.2076977\ttotal: 1.94s\tremaining: 3.24s\n",
      "374:\tlearn: 0.2076546\ttotal: 1.94s\tremaining: 3.23s\n",
      "375:\tlearn: 0.2075932\ttotal: 1.94s\tremaining: 3.22s\n",
      "376:\tlearn: 0.2075445\ttotal: 1.95s\tremaining: 3.21s\n",
      "377:\tlearn: 0.2074325\ttotal: 1.95s\tremaining: 3.21s\n",
      "378:\tlearn: 0.2073578\ttotal: 1.95s\tremaining: 3.2s\n",
      "379:\tlearn: 0.2072360\ttotal: 1.95s\tremaining: 3.19s\n",
      "380:\tlearn: 0.2070498\ttotal: 1.96s\tremaining: 3.18s\n",
      "381:\tlearn: 0.2069281\ttotal: 1.96s\tremaining: 3.17s\n",
      "382:\tlearn: 0.2068792\ttotal: 1.97s\tremaining: 3.17s\n",
      "383:\tlearn: 0.2068244\ttotal: 1.97s\tremaining: 3.16s\n",
      "384:\tlearn: 0.2067277\ttotal: 1.97s\tremaining: 3.15s\n",
      "385:\tlearn: 0.2065340\ttotal: 1.97s\tremaining: 3.14s\n",
      "386:\tlearn: 0.2063889\ttotal: 1.98s\tremaining: 3.13s\n",
      "387:\tlearn: 0.2063046\ttotal: 1.98s\tremaining: 3.12s\n",
      "388:\tlearn: 0.2061922\ttotal: 1.98s\tremaining: 3.12s\n",
      "389:\tlearn: 0.2060600\ttotal: 1.99s\tremaining: 3.11s\n",
      "390:\tlearn: 0.2059660\ttotal: 1.99s\tremaining: 3.1s\n",
      "391:\tlearn: 0.2058087\ttotal: 1.99s\tremaining: 3.09s\n",
      "392:\tlearn: 0.2055651\ttotal: 1.99s\tremaining: 3.08s\n",
      "393:\tlearn: 0.2054471\ttotal: 2s\tremaining: 3.07s\n",
      "394:\tlearn: 0.2053432\ttotal: 2s\tremaining: 3.06s\n",
      "395:\tlearn: 0.2052422\ttotal: 2s\tremaining: 3.06s\n",
      "396:\tlearn: 0.2050868\ttotal: 2.01s\tremaining: 3.05s\n",
      "397:\tlearn: 0.2048967\ttotal: 2.01s\tremaining: 3.04s\n",
      "398:\tlearn: 0.2047889\ttotal: 2.01s\tremaining: 3.03s\n",
      "399:\tlearn: 0.2046943\ttotal: 2.02s\tremaining: 3.02s\n",
      "400:\tlearn: 0.2045739\ttotal: 2.02s\tremaining: 3.02s\n",
      "401:\tlearn: 0.2044324\ttotal: 2.02s\tremaining: 3.01s\n",
      "402:\tlearn: 0.2043093\ttotal: 2.02s\tremaining: 3s\n",
      "403:\tlearn: 0.2041476\ttotal: 2.03s\tremaining: 2.99s\n",
      "404:\tlearn: 0.2040502\ttotal: 2.03s\tremaining: 2.98s\n",
      "405:\tlearn: 0.2038370\ttotal: 2.03s\tremaining: 2.98s\n",
      "406:\tlearn: 0.2037110\ttotal: 2.04s\tremaining: 2.97s\n",
      "407:\tlearn: 0.2036482\ttotal: 2.04s\tremaining: 2.96s\n",
      "408:\tlearn: 0.2035541\ttotal: 2.04s\tremaining: 2.95s\n",
      "409:\tlearn: 0.2034449\ttotal: 2.05s\tremaining: 2.94s\n",
      "410:\tlearn: 0.2032780\ttotal: 2.05s\tremaining: 2.94s\n",
      "411:\tlearn: 0.2031003\ttotal: 2.05s\tremaining: 2.93s\n",
      "412:\tlearn: 0.2030105\ttotal: 2.06s\tremaining: 2.92s\n",
      "413:\tlearn: 0.2029127\ttotal: 2.06s\tremaining: 2.92s\n",
      "414:\tlearn: 0.2027973\ttotal: 2.06s\tremaining: 2.91s\n",
      "415:\tlearn: 0.2026868\ttotal: 2.07s\tremaining: 2.9s\n",
      "416:\tlearn: 0.2026157\ttotal: 2.07s\tremaining: 2.89s\n",
      "417:\tlearn: 0.2025839\ttotal: 2.07s\tremaining: 2.88s\n",
      "418:\tlearn: 0.2023827\ttotal: 2.07s\tremaining: 2.88s\n",
      "419:\tlearn: 0.2023130\ttotal: 2.08s\tremaining: 2.87s\n",
      "420:\tlearn: 0.2022352\ttotal: 2.08s\tremaining: 2.86s\n",
      "421:\tlearn: 0.2021227\ttotal: 2.08s\tremaining: 2.85s\n",
      "422:\tlearn: 0.2019271\ttotal: 2.09s\tremaining: 2.85s\n",
      "423:\tlearn: 0.2019064\ttotal: 2.09s\tremaining: 2.84s\n",
      "424:\tlearn: 0.2018172\ttotal: 2.09s\tremaining: 2.83s\n",
      "425:\tlearn: 0.2016879\ttotal: 2.1s\tremaining: 2.83s\n",
      "426:\tlearn: 0.2015888\ttotal: 2.1s\tremaining: 2.82s\n",
      "427:\tlearn: 0.2015537\ttotal: 2.1s\tremaining: 2.81s\n",
      "428:\tlearn: 0.2014690\ttotal: 2.1s\tremaining: 2.8s\n",
      "429:\tlearn: 0.2014413\ttotal: 2.11s\tremaining: 2.79s\n",
      "430:\tlearn: 0.2013947\ttotal: 2.11s\tremaining: 2.79s\n",
      "431:\tlearn: 0.2012727\ttotal: 2.11s\tremaining: 2.78s\n",
      "432:\tlearn: 0.2010960\ttotal: 2.12s\tremaining: 2.77s\n",
      "433:\tlearn: 0.2010270\ttotal: 2.12s\tremaining: 2.77s\n",
      "434:\tlearn: 0.2009546\ttotal: 2.12s\tremaining: 2.76s\n",
      "435:\tlearn: 0.2008104\ttotal: 2.13s\tremaining: 2.75s\n",
      "436:\tlearn: 0.2007458\ttotal: 2.13s\tremaining: 2.74s\n",
      "437:\tlearn: 0.2006642\ttotal: 2.13s\tremaining: 2.74s\n",
      "438:\tlearn: 0.2005586\ttotal: 2.14s\tremaining: 2.73s\n",
      "439:\tlearn: 0.2004113\ttotal: 2.14s\tremaining: 2.72s\n",
      "440:\tlearn: 0.2002872\ttotal: 2.14s\tremaining: 2.72s\n",
      "441:\tlearn: 0.2001892\ttotal: 2.15s\tremaining: 2.71s\n",
      "442:\tlearn: 0.2001003\ttotal: 2.15s\tremaining: 2.7s\n",
      "443:\tlearn: 0.1999723\ttotal: 2.15s\tremaining: 2.69s\n",
      "444:\tlearn: 0.1997886\ttotal: 2.15s\tremaining: 2.69s\n",
      "445:\tlearn: 0.1997026\ttotal: 2.16s\tremaining: 2.68s\n",
      "446:\tlearn: 0.1995309\ttotal: 2.16s\tremaining: 2.67s\n",
      "447:\tlearn: 0.1994343\ttotal: 2.16s\tremaining: 2.67s\n",
      "448:\tlearn: 0.1993370\ttotal: 2.17s\tremaining: 2.66s\n",
      "449:\tlearn: 0.1992557\ttotal: 2.17s\tremaining: 2.65s\n",
      "450:\tlearn: 0.1991678\ttotal: 2.17s\tremaining: 2.65s\n",
      "451:\tlearn: 0.1991005\ttotal: 2.18s\tremaining: 2.64s\n",
      "452:\tlearn: 0.1990637\ttotal: 2.18s\tremaining: 2.63s\n",
      "453:\tlearn: 0.1989579\ttotal: 2.18s\tremaining: 2.63s\n",
      "454:\tlearn: 0.1988700\ttotal: 2.19s\tremaining: 2.62s\n",
      "455:\tlearn: 0.1987652\ttotal: 2.19s\tremaining: 2.61s\n",
      "456:\tlearn: 0.1986380\ttotal: 2.19s\tremaining: 2.6s\n",
      "457:\tlearn: 0.1986152\ttotal: 2.2s\tremaining: 2.6s\n",
      "458:\tlearn: 0.1984428\ttotal: 2.2s\tremaining: 2.59s\n",
      "459:\tlearn: 0.1983617\ttotal: 2.2s\tremaining: 2.58s\n",
      "460:\tlearn: 0.1982818\ttotal: 2.2s\tremaining: 2.58s\n",
      "461:\tlearn: 0.1981690\ttotal: 2.21s\tremaining: 2.57s\n",
      "462:\tlearn: 0.1980330\ttotal: 2.21s\tremaining: 2.56s\n",
      "463:\tlearn: 0.1979254\ttotal: 2.21s\tremaining: 2.56s\n",
      "464:\tlearn: 0.1977509\ttotal: 2.22s\tremaining: 2.55s\n",
      "465:\tlearn: 0.1977158\ttotal: 2.22s\tremaining: 2.54s\n",
      "466:\tlearn: 0.1976165\ttotal: 2.22s\tremaining: 2.54s\n",
      "467:\tlearn: 0.1974446\ttotal: 2.23s\tremaining: 2.53s\n",
      "468:\tlearn: 0.1973636\ttotal: 2.23s\tremaining: 2.52s\n",
      "469:\tlearn: 0.1972584\ttotal: 2.23s\tremaining: 2.52s\n",
      "470:\tlearn: 0.1971947\ttotal: 2.23s\tremaining: 2.51s\n",
      "471:\tlearn: 0.1970972\ttotal: 2.24s\tremaining: 2.5s\n",
      "472:\tlearn: 0.1969922\ttotal: 2.24s\tremaining: 2.5s\n",
      "473:\tlearn: 0.1968980\ttotal: 2.24s\tremaining: 2.49s\n",
      "474:\tlearn: 0.1968424\ttotal: 2.25s\tremaining: 2.48s\n",
      "475:\tlearn: 0.1967932\ttotal: 2.25s\tremaining: 2.48s\n",
      "476:\tlearn: 0.1966764\ttotal: 2.25s\tremaining: 2.47s\n",
      "477:\tlearn: 0.1966031\ttotal: 2.26s\tremaining: 2.46s\n",
      "478:\tlearn: 0.1963646\ttotal: 2.26s\tremaining: 2.46s\n",
      "479:\tlearn: 0.1962514\ttotal: 2.26s\tremaining: 2.45s\n",
      "480:\tlearn: 0.1962019\ttotal: 2.27s\tremaining: 2.45s\n",
      "481:\tlearn: 0.1960700\ttotal: 2.27s\tremaining: 2.44s\n",
      "482:\tlearn: 0.1960167\ttotal: 2.27s\tremaining: 2.43s\n",
      "483:\tlearn: 0.1958802\ttotal: 2.28s\tremaining: 2.43s\n",
      "484:\tlearn: 0.1958045\ttotal: 2.28s\tremaining: 2.42s\n",
      "485:\tlearn: 0.1956846\ttotal: 2.28s\tremaining: 2.41s\n",
      "486:\tlearn: 0.1955884\ttotal: 2.28s\tremaining: 2.41s\n",
      "487:\tlearn: 0.1954953\ttotal: 2.29s\tremaining: 2.4s\n",
      "488:\tlearn: 0.1954624\ttotal: 2.29s\tremaining: 2.39s\n",
      "489:\tlearn: 0.1953741\ttotal: 2.29s\tremaining: 2.39s\n",
      "490:\tlearn: 0.1953158\ttotal: 2.3s\tremaining: 2.38s\n",
      "491:\tlearn: 0.1951916\ttotal: 2.3s\tremaining: 2.37s\n",
      "492:\tlearn: 0.1950745\ttotal: 2.3s\tremaining: 2.37s\n"
     ]
    },
    {
     "name": "stdout",
     "output_type": "stream",
     "text": [
      "493:\tlearn: 0.1949391\ttotal: 2.31s\tremaining: 2.36s\n",
      "494:\tlearn: 0.1948508\ttotal: 2.31s\tremaining: 2.36s\n",
      "495:\tlearn: 0.1947635\ttotal: 2.31s\tremaining: 2.35s\n",
      "496:\tlearn: 0.1945432\ttotal: 2.32s\tremaining: 2.34s\n",
      "497:\tlearn: 0.1943816\ttotal: 2.32s\tremaining: 2.34s\n",
      "498:\tlearn: 0.1942753\ttotal: 2.32s\tremaining: 2.33s\n",
      "499:\tlearn: 0.1941954\ttotal: 2.33s\tremaining: 2.33s\n",
      "500:\tlearn: 0.1940594\ttotal: 2.33s\tremaining: 2.32s\n",
      "501:\tlearn: 0.1939998\ttotal: 2.33s\tremaining: 2.31s\n",
      "502:\tlearn: 0.1939300\ttotal: 2.33s\tremaining: 2.31s\n",
      "503:\tlearn: 0.1938446\ttotal: 2.34s\tremaining: 2.3s\n",
      "504:\tlearn: 0.1938047\ttotal: 2.34s\tremaining: 2.29s\n",
      "505:\tlearn: 0.1937015\ttotal: 2.34s\tremaining: 2.29s\n",
      "506:\tlearn: 0.1935842\ttotal: 2.35s\tremaining: 2.28s\n",
      "507:\tlearn: 0.1934961\ttotal: 2.35s\tremaining: 2.28s\n",
      "508:\tlearn: 0.1934622\ttotal: 2.35s\tremaining: 2.27s\n",
      "509:\tlearn: 0.1933351\ttotal: 2.36s\tremaining: 2.27s\n",
      "510:\tlearn: 0.1932797\ttotal: 2.36s\tremaining: 2.26s\n",
      "511:\tlearn: 0.1932201\ttotal: 2.37s\tremaining: 2.26s\n",
      "512:\tlearn: 0.1931368\ttotal: 2.37s\tremaining: 2.25s\n",
      "513:\tlearn: 0.1930732\ttotal: 2.38s\tremaining: 2.25s\n",
      "514:\tlearn: 0.1929556\ttotal: 2.38s\tremaining: 2.24s\n",
      "515:\tlearn: 0.1928601\ttotal: 2.38s\tremaining: 2.24s\n",
      "516:\tlearn: 0.1927762\ttotal: 2.39s\tremaining: 2.23s\n",
      "517:\tlearn: 0.1927552\ttotal: 2.39s\tremaining: 2.23s\n",
      "518:\tlearn: 0.1926041\ttotal: 2.4s\tremaining: 2.22s\n",
      "519:\tlearn: 0.1924639\ttotal: 2.4s\tremaining: 2.22s\n",
      "520:\tlearn: 0.1923806\ttotal: 2.41s\tremaining: 2.21s\n",
      "521:\tlearn: 0.1923353\ttotal: 2.41s\tremaining: 2.21s\n",
      "522:\tlearn: 0.1922710\ttotal: 2.42s\tremaining: 2.2s\n",
      "523:\tlearn: 0.1922037\ttotal: 2.42s\tremaining: 2.2s\n",
      "524:\tlearn: 0.1921691\ttotal: 2.42s\tremaining: 2.19s\n",
      "525:\tlearn: 0.1920964\ttotal: 2.43s\tremaining: 2.19s\n",
      "526:\tlearn: 0.1920154\ttotal: 2.43s\tremaining: 2.18s\n",
      "527:\tlearn: 0.1918277\ttotal: 2.43s\tremaining: 2.18s\n",
      "528:\tlearn: 0.1917641\ttotal: 2.44s\tremaining: 2.17s\n",
      "529:\tlearn: 0.1915696\ttotal: 2.44s\tremaining: 2.17s\n",
      "530:\tlearn: 0.1914771\ttotal: 2.45s\tremaining: 2.16s\n",
      "531:\tlearn: 0.1913666\ttotal: 2.45s\tremaining: 2.16s\n",
      "532:\tlearn: 0.1912492\ttotal: 2.46s\tremaining: 2.15s\n",
      "533:\tlearn: 0.1911733\ttotal: 2.46s\tremaining: 2.15s\n",
      "534:\tlearn: 0.1911123\ttotal: 2.46s\tremaining: 2.14s\n",
      "535:\tlearn: 0.1909591\ttotal: 2.47s\tremaining: 2.14s\n",
      "536:\tlearn: 0.1907795\ttotal: 2.47s\tremaining: 2.13s\n",
      "537:\tlearn: 0.1906784\ttotal: 2.47s\tremaining: 2.12s\n",
      "538:\tlearn: 0.1906217\ttotal: 2.48s\tremaining: 2.12s\n",
      "539:\tlearn: 0.1905784\ttotal: 2.48s\tremaining: 2.11s\n",
      "540:\tlearn: 0.1905196\ttotal: 2.48s\tremaining: 2.11s\n",
      "541:\tlearn: 0.1904114\ttotal: 2.49s\tremaining: 2.1s\n",
      "542:\tlearn: 0.1903542\ttotal: 2.49s\tremaining: 2.1s\n",
      "543:\tlearn: 0.1903104\ttotal: 2.49s\tremaining: 2.09s\n",
      "544:\tlearn: 0.1902542\ttotal: 2.5s\tremaining: 2.08s\n",
      "545:\tlearn: 0.1901666\ttotal: 2.5s\tremaining: 2.08s\n",
      "546:\tlearn: 0.1901351\ttotal: 2.5s\tremaining: 2.07s\n",
      "547:\tlearn: 0.1900735\ttotal: 2.5s\tremaining: 2.07s\n",
      "548:\tlearn: 0.1899881\ttotal: 2.51s\tremaining: 2.06s\n",
      "549:\tlearn: 0.1898416\ttotal: 2.51s\tremaining: 2.05s\n",
      "550:\tlearn: 0.1897368\ttotal: 2.51s\tremaining: 2.05s\n",
      "551:\tlearn: 0.1896656\ttotal: 2.52s\tremaining: 2.04s\n",
      "552:\tlearn: 0.1895667\ttotal: 2.52s\tremaining: 2.04s\n",
      "553:\tlearn: 0.1894107\ttotal: 2.52s\tremaining: 2.03s\n",
      "554:\tlearn: 0.1893603\ttotal: 2.53s\tremaining: 2.03s\n",
      "555:\tlearn: 0.1893178\ttotal: 2.53s\tremaining: 2.02s\n",
      "556:\tlearn: 0.1892588\ttotal: 2.53s\tremaining: 2.01s\n",
      "557:\tlearn: 0.1892370\ttotal: 2.54s\tremaining: 2.01s\n",
      "558:\tlearn: 0.1891404\ttotal: 2.54s\tremaining: 2s\n",
      "559:\tlearn: 0.1890698\ttotal: 2.54s\tremaining: 2s\n",
      "560:\tlearn: 0.1890308\ttotal: 2.54s\tremaining: 1.99s\n",
      "561:\tlearn: 0.1889584\ttotal: 2.55s\tremaining: 1.99s\n",
      "562:\tlearn: 0.1888903\ttotal: 2.55s\tremaining: 1.98s\n",
      "563:\tlearn: 0.1887907\ttotal: 2.55s\tremaining: 1.97s\n",
      "564:\tlearn: 0.1887176\ttotal: 2.56s\tremaining: 1.97s\n",
      "565:\tlearn: 0.1886391\ttotal: 2.56s\tremaining: 1.96s\n",
      "566:\tlearn: 0.1885711\ttotal: 2.56s\tremaining: 1.96s\n",
      "567:\tlearn: 0.1883780\ttotal: 2.57s\tremaining: 1.95s\n",
      "568:\tlearn: 0.1882864\ttotal: 2.57s\tremaining: 1.95s\n",
      "569:\tlearn: 0.1882347\ttotal: 2.57s\tremaining: 1.94s\n",
      "570:\tlearn: 0.1881682\ttotal: 2.58s\tremaining: 1.94s\n",
      "571:\tlearn: 0.1880841\ttotal: 2.58s\tremaining: 1.93s\n",
      "572:\tlearn: 0.1880120\ttotal: 2.58s\tremaining: 1.92s\n",
      "573:\tlearn: 0.1879913\ttotal: 2.58s\tremaining: 1.92s\n",
      "574:\tlearn: 0.1879400\ttotal: 2.59s\tremaining: 1.91s\n",
      "575:\tlearn: 0.1878482\ttotal: 2.59s\tremaining: 1.91s\n",
      "576:\tlearn: 0.1877861\ttotal: 2.59s\tremaining: 1.9s\n",
      "577:\tlearn: 0.1877247\ttotal: 2.6s\tremaining: 1.9s\n",
      "578:\tlearn: 0.1876771\ttotal: 2.6s\tremaining: 1.89s\n",
      "579:\tlearn: 0.1875922\ttotal: 2.6s\tremaining: 1.88s\n",
      "580:\tlearn: 0.1875424\ttotal: 2.6s\tremaining: 1.88s\n",
      "581:\tlearn: 0.1874378\ttotal: 2.61s\tremaining: 1.87s\n",
      "582:\tlearn: 0.1873463\ttotal: 2.61s\tremaining: 1.87s\n",
      "583:\tlearn: 0.1873142\ttotal: 2.61s\tremaining: 1.86s\n",
      "584:\tlearn: 0.1872981\ttotal: 2.62s\tremaining: 1.86s\n",
      "585:\tlearn: 0.1872144\ttotal: 2.62s\tremaining: 1.85s\n",
      "586:\tlearn: 0.1871379\ttotal: 2.62s\tremaining: 1.84s\n",
      "587:\tlearn: 0.1870188\ttotal: 2.63s\tremaining: 1.84s\n",
      "588:\tlearn: 0.1869655\ttotal: 2.63s\tremaining: 1.83s\n",
      "589:\tlearn: 0.1868280\ttotal: 2.63s\tremaining: 1.83s\n",
      "590:\tlearn: 0.1867555\ttotal: 2.63s\tremaining: 1.82s\n",
      "591:\tlearn: 0.1866728\ttotal: 2.64s\tremaining: 1.82s\n",
      "592:\tlearn: 0.1865941\ttotal: 2.64s\tremaining: 1.81s\n",
      "593:\tlearn: 0.1865131\ttotal: 2.64s\tremaining: 1.81s\n",
      "594:\tlearn: 0.1864056\ttotal: 2.65s\tremaining: 1.8s\n",
      "595:\tlearn: 0.1863779\ttotal: 2.65s\tremaining: 1.8s\n",
      "596:\tlearn: 0.1862239\ttotal: 2.65s\tremaining: 1.79s\n",
      "597:\tlearn: 0.1860742\ttotal: 2.66s\tremaining: 1.78s\n",
      "598:\tlearn: 0.1859609\ttotal: 2.66s\tremaining: 1.78s\n",
      "599:\tlearn: 0.1858962\ttotal: 2.66s\tremaining: 1.77s\n",
      "600:\tlearn: 0.1858142\ttotal: 2.67s\tremaining: 1.77s\n",
      "601:\tlearn: 0.1856699\ttotal: 2.67s\tremaining: 1.76s\n",
      "602:\tlearn: 0.1855200\ttotal: 2.67s\tremaining: 1.76s\n",
      "603:\tlearn: 0.1854433\ttotal: 2.67s\tremaining: 1.75s\n",
      "604:\tlearn: 0.1853449\ttotal: 2.68s\tremaining: 1.75s\n",
      "605:\tlearn: 0.1851849\ttotal: 2.68s\tremaining: 1.74s\n",
      "606:\tlearn: 0.1851535\ttotal: 2.68s\tremaining: 1.74s\n",
      "607:\tlearn: 0.1850944\ttotal: 2.69s\tremaining: 1.73s\n",
      "608:\tlearn: 0.1849914\ttotal: 2.69s\tremaining: 1.73s\n",
      "609:\tlearn: 0.1848823\ttotal: 2.69s\tremaining: 1.72s\n",
      "610:\tlearn: 0.1848384\ttotal: 2.7s\tremaining: 1.72s\n",
      "611:\tlearn: 0.1847785\ttotal: 2.7s\tremaining: 1.71s\n",
      "612:\tlearn: 0.1846569\ttotal: 2.7s\tremaining: 1.71s\n",
      "613:\tlearn: 0.1845930\ttotal: 2.71s\tremaining: 1.7s\n",
      "614:\tlearn: 0.1845652\ttotal: 2.71s\tremaining: 1.7s\n",
      "615:\tlearn: 0.1845479\ttotal: 2.71s\tremaining: 1.69s\n",
      "616:\tlearn: 0.1844625\ttotal: 2.71s\tremaining: 1.69s\n",
      "617:\tlearn: 0.1843875\ttotal: 2.72s\tremaining: 1.68s\n",
      "618:\tlearn: 0.1843084\ttotal: 2.72s\tremaining: 1.67s\n",
      "619:\tlearn: 0.1842305\ttotal: 2.72s\tremaining: 1.67s\n",
      "620:\tlearn: 0.1841158\ttotal: 2.73s\tremaining: 1.66s\n",
      "621:\tlearn: 0.1840325\ttotal: 2.73s\tremaining: 1.66s\n",
      "622:\tlearn: 0.1839278\ttotal: 2.73s\tremaining: 1.65s\n",
      "623:\tlearn: 0.1838567\ttotal: 2.74s\tremaining: 1.65s\n",
      "624:\tlearn: 0.1837575\ttotal: 2.74s\tremaining: 1.64s\n",
      "625:\tlearn: 0.1836654\ttotal: 2.74s\tremaining: 1.64s\n",
      "626:\tlearn: 0.1836156\ttotal: 2.75s\tremaining: 1.63s\n",
      "627:\tlearn: 0.1835211\ttotal: 2.75s\tremaining: 1.63s\n",
      "628:\tlearn: 0.1834064\ttotal: 2.75s\tremaining: 1.62s\n",
      "629:\tlearn: 0.1833872\ttotal: 2.75s\tremaining: 1.62s\n",
      "630:\tlearn: 0.1833642\ttotal: 2.76s\tremaining: 1.61s\n",
      "631:\tlearn: 0.1833187\ttotal: 2.76s\tremaining: 1.61s\n",
      "632:\tlearn: 0.1832299\ttotal: 2.76s\tremaining: 1.6s\n",
      "633:\tlearn: 0.1831456\ttotal: 2.77s\tremaining: 1.6s\n",
      "634:\tlearn: 0.1830749\ttotal: 2.77s\tremaining: 1.59s\n",
      "635:\tlearn: 0.1830253\ttotal: 2.77s\tremaining: 1.59s\n",
      "636:\tlearn: 0.1829689\ttotal: 2.77s\tremaining: 1.58s\n",
      "637:\tlearn: 0.1828526\ttotal: 2.78s\tremaining: 1.58s\n",
      "638:\tlearn: 0.1827993\ttotal: 2.78s\tremaining: 1.57s\n",
      "639:\tlearn: 0.1826887\ttotal: 2.78s\tremaining: 1.57s\n",
      "640:\tlearn: 0.1826699\ttotal: 2.79s\tremaining: 1.56s\n",
      "641:\tlearn: 0.1826466\ttotal: 2.79s\tremaining: 1.56s\n",
      "642:\tlearn: 0.1825966\ttotal: 2.79s\tremaining: 1.55s\n",
      "643:\tlearn: 0.1825231\ttotal: 2.8s\tremaining: 1.55s\n",
      "644:\tlearn: 0.1824320\ttotal: 2.8s\tremaining: 1.54s\n",
      "645:\tlearn: 0.1823624\ttotal: 2.8s\tremaining: 1.54s\n",
      "646:\tlearn: 0.1822837\ttotal: 2.81s\tremaining: 1.53s\n",
      "647:\tlearn: 0.1822399\ttotal: 2.81s\tremaining: 1.52s\n",
      "648:\tlearn: 0.1821583\ttotal: 2.81s\tremaining: 1.52s\n",
      "649:\tlearn: 0.1820639\ttotal: 2.81s\tremaining: 1.51s\n",
      "650:\tlearn: 0.1819706\ttotal: 2.82s\tremaining: 1.51s\n",
      "651:\tlearn: 0.1819233\ttotal: 2.82s\tremaining: 1.51s\n",
      "652:\tlearn: 0.1818453\ttotal: 2.83s\tremaining: 1.5s\n",
      "653:\tlearn: 0.1817321\ttotal: 2.83s\tremaining: 1.5s\n",
      "654:\tlearn: 0.1816872\ttotal: 2.83s\tremaining: 1.49s\n",
      "655:\tlearn: 0.1816239\ttotal: 2.83s\tremaining: 1.49s\n",
      "656:\tlearn: 0.1815845\ttotal: 2.84s\tremaining: 1.48s\n",
      "657:\tlearn: 0.1815233\ttotal: 2.84s\tremaining: 1.48s\n",
      "658:\tlearn: 0.1814595\ttotal: 2.84s\tremaining: 1.47s\n",
      "659:\tlearn: 0.1813677\ttotal: 2.85s\tremaining: 1.47s\n",
      "660:\tlearn: 0.1813103\ttotal: 2.85s\tremaining: 1.46s\n",
      "661:\tlearn: 0.1812496\ttotal: 2.85s\tremaining: 1.46s\n",
      "662:\tlearn: 0.1811828\ttotal: 2.85s\tremaining: 1.45s\n",
      "663:\tlearn: 0.1811077\ttotal: 2.86s\tremaining: 1.45s\n",
      "664:\tlearn: 0.1810624\ttotal: 2.86s\tremaining: 1.44s\n"
     ]
    },
    {
     "name": "stdout",
     "output_type": "stream",
     "text": [
      "665:\tlearn: 0.1809923\ttotal: 2.87s\tremaining: 1.44s\n",
      "666:\tlearn: 0.1809199\ttotal: 2.87s\tremaining: 1.43s\n",
      "667:\tlearn: 0.1808880\ttotal: 2.87s\tremaining: 1.43s\n",
      "668:\tlearn: 0.1808515\ttotal: 2.87s\tremaining: 1.42s\n",
      "669:\tlearn: 0.1807510\ttotal: 2.88s\tremaining: 1.42s\n",
      "670:\tlearn: 0.1807060\ttotal: 2.88s\tremaining: 1.41s\n",
      "671:\tlearn: 0.1805838\ttotal: 2.88s\tremaining: 1.41s\n",
      "672:\tlearn: 0.1804725\ttotal: 2.89s\tremaining: 1.4s\n",
      "673:\tlearn: 0.1803994\ttotal: 2.89s\tremaining: 1.4s\n",
      "674:\tlearn: 0.1803541\ttotal: 2.89s\tremaining: 1.39s\n",
      "675:\tlearn: 0.1803160\ttotal: 2.9s\tremaining: 1.39s\n",
      "676:\tlearn: 0.1802477\ttotal: 2.9s\tremaining: 1.38s\n",
      "677:\tlearn: 0.1801871\ttotal: 2.9s\tremaining: 1.38s\n",
      "678:\tlearn: 0.1801264\ttotal: 2.9s\tremaining: 1.37s\n",
      "679:\tlearn: 0.1800285\ttotal: 2.91s\tremaining: 1.37s\n",
      "680:\tlearn: 0.1799913\ttotal: 2.91s\tremaining: 1.36s\n",
      "681:\tlearn: 0.1799487\ttotal: 2.91s\tremaining: 1.36s\n",
      "682:\tlearn: 0.1799152\ttotal: 2.92s\tremaining: 1.35s\n",
      "683:\tlearn: 0.1797993\ttotal: 2.92s\tremaining: 1.35s\n",
      "684:\tlearn: 0.1797248\ttotal: 2.92s\tremaining: 1.34s\n",
      "685:\tlearn: 0.1796725\ttotal: 2.93s\tremaining: 1.34s\n",
      "686:\tlearn: 0.1796373\ttotal: 2.93s\tremaining: 1.33s\n",
      "687:\tlearn: 0.1795576\ttotal: 2.93s\tremaining: 1.33s\n",
      "688:\tlearn: 0.1794451\ttotal: 2.94s\tremaining: 1.32s\n",
      "689:\tlearn: 0.1794321\ttotal: 2.94s\tremaining: 1.32s\n",
      "690:\tlearn: 0.1793611\ttotal: 2.94s\tremaining: 1.31s\n",
      "691:\tlearn: 0.1793109\ttotal: 2.94s\tremaining: 1.31s\n",
      "692:\tlearn: 0.1792601\ttotal: 2.95s\tremaining: 1.3s\n",
      "693:\tlearn: 0.1791874\ttotal: 2.95s\tremaining: 1.3s\n",
      "694:\tlearn: 0.1791368\ttotal: 2.95s\tremaining: 1.3s\n",
      "695:\tlearn: 0.1789847\ttotal: 2.96s\tremaining: 1.29s\n",
      "696:\tlearn: 0.1788802\ttotal: 2.96s\tremaining: 1.29s\n",
      "697:\tlearn: 0.1788637\ttotal: 2.96s\tremaining: 1.28s\n",
      "698:\tlearn: 0.1788175\ttotal: 2.96s\tremaining: 1.28s\n",
      "699:\tlearn: 0.1786683\ttotal: 2.97s\tremaining: 1.27s\n",
      "700:\tlearn: 0.1786150\ttotal: 2.97s\tremaining: 1.27s\n",
      "701:\tlearn: 0.1785832\ttotal: 2.97s\tremaining: 1.26s\n",
      "702:\tlearn: 0.1785369\ttotal: 2.98s\tremaining: 1.26s\n",
      "703:\tlearn: 0.1784379\ttotal: 2.98s\tremaining: 1.25s\n",
      "704:\tlearn: 0.1783344\ttotal: 2.98s\tremaining: 1.25s\n",
      "705:\tlearn: 0.1782889\ttotal: 2.99s\tremaining: 1.24s\n",
      "706:\tlearn: 0.1782572\ttotal: 2.99s\tremaining: 1.24s\n",
      "707:\tlearn: 0.1782457\ttotal: 2.99s\tremaining: 1.24s\n",
      "708:\tlearn: 0.1781398\ttotal: 3s\tremaining: 1.23s\n",
      "709:\tlearn: 0.1780579\ttotal: 3s\tremaining: 1.23s\n",
      "710:\tlearn: 0.1779913\ttotal: 3s\tremaining: 1.22s\n",
      "711:\tlearn: 0.1778906\ttotal: 3.01s\tremaining: 1.22s\n",
      "712:\tlearn: 0.1778113\ttotal: 3.01s\tremaining: 1.21s\n",
      "713:\tlearn: 0.1777993\ttotal: 3.01s\tremaining: 1.21s\n",
      "714:\tlearn: 0.1777377\ttotal: 3.01s\tremaining: 1.2s\n",
      "715:\tlearn: 0.1776663\ttotal: 3.02s\tremaining: 1.2s\n",
      "716:\tlearn: 0.1775944\ttotal: 3.02s\tremaining: 1.19s\n",
      "717:\tlearn: 0.1775214\ttotal: 3.02s\tremaining: 1.19s\n",
      "718:\tlearn: 0.1774654\ttotal: 3.02s\tremaining: 1.18s\n",
      "719:\tlearn: 0.1774046\ttotal: 3.03s\tremaining: 1.18s\n",
      "720:\tlearn: 0.1773537\ttotal: 3.03s\tremaining: 1.17s\n",
      "721:\tlearn: 0.1773367\ttotal: 3.04s\tremaining: 1.17s\n",
      "722:\tlearn: 0.1772674\ttotal: 3.04s\tremaining: 1.16s\n",
      "723:\tlearn: 0.1772428\ttotal: 3.04s\tremaining: 1.16s\n",
      "724:\tlearn: 0.1771128\ttotal: 3.04s\tremaining: 1.15s\n",
      "725:\tlearn: 0.1770565\ttotal: 3.05s\tremaining: 1.15s\n",
      "726:\tlearn: 0.1770161\ttotal: 3.05s\tremaining: 1.15s\n",
      "727:\tlearn: 0.1769665\ttotal: 3.05s\tremaining: 1.14s\n",
      "728:\tlearn: 0.1768466\ttotal: 3.06s\tremaining: 1.14s\n",
      "729:\tlearn: 0.1766971\ttotal: 3.06s\tremaining: 1.13s\n",
      "730:\tlearn: 0.1766825\ttotal: 3.06s\tremaining: 1.13s\n",
      "731:\tlearn: 0.1766364\ttotal: 3.06s\tremaining: 1.12s\n",
      "732:\tlearn: 0.1765704\ttotal: 3.07s\tremaining: 1.12s\n",
      "733:\tlearn: 0.1765411\ttotal: 3.07s\tremaining: 1.11s\n",
      "734:\tlearn: 0.1765001\ttotal: 3.07s\tremaining: 1.11s\n",
      "735:\tlearn: 0.1764200\ttotal: 3.08s\tremaining: 1.1s\n",
      "736:\tlearn: 0.1763815\ttotal: 3.08s\tremaining: 1.1s\n",
      "737:\tlearn: 0.1762464\ttotal: 3.08s\tremaining: 1.09s\n",
      "738:\tlearn: 0.1761555\ttotal: 3.09s\tremaining: 1.09s\n",
      "739:\tlearn: 0.1760710\ttotal: 3.09s\tremaining: 1.09s\n",
      "740:\tlearn: 0.1760211\ttotal: 3.09s\tremaining: 1.08s\n",
      "741:\tlearn: 0.1759707\ttotal: 3.1s\tremaining: 1.08s\n",
      "742:\tlearn: 0.1759387\ttotal: 3.1s\tremaining: 1.07s\n",
      "743:\tlearn: 0.1759060\ttotal: 3.1s\tremaining: 1.07s\n",
      "744:\tlearn: 0.1758427\ttotal: 3.11s\tremaining: 1.06s\n",
      "745:\tlearn: 0.1757864\ttotal: 3.11s\tremaining: 1.06s\n",
      "746:\tlearn: 0.1757141\ttotal: 3.11s\tremaining: 1.05s\n",
      "747:\tlearn: 0.1756483\ttotal: 3.12s\tremaining: 1.05s\n",
      "748:\tlearn: 0.1755903\ttotal: 3.12s\tremaining: 1.04s\n",
      "749:\tlearn: 0.1755508\ttotal: 3.12s\tremaining: 1.04s\n",
      "750:\tlearn: 0.1754378\ttotal: 3.13s\tremaining: 1.04s\n",
      "751:\tlearn: 0.1754068\ttotal: 3.13s\tremaining: 1.03s\n",
      "752:\tlearn: 0.1753383\ttotal: 3.13s\tremaining: 1.03s\n",
      "753:\tlearn: 0.1753163\ttotal: 3.13s\tremaining: 1.02s\n",
      "754:\tlearn: 0.1752370\ttotal: 3.14s\tremaining: 1.02s\n",
      "755:\tlearn: 0.1752165\ttotal: 3.14s\tremaining: 1.01s\n",
      "756:\tlearn: 0.1751115\ttotal: 3.14s\tremaining: 1.01s\n",
      "757:\tlearn: 0.1750022\ttotal: 3.15s\tremaining: 1s\n",
      "758:\tlearn: 0.1749910\ttotal: 3.15s\tremaining: 1s\n",
      "759:\tlearn: 0.1749119\ttotal: 3.15s\tremaining: 996ms\n",
      "760:\tlearn: 0.1748216\ttotal: 3.15s\tremaining: 991ms\n",
      "761:\tlearn: 0.1746979\ttotal: 3.16s\tremaining: 987ms\n",
      "762:\tlearn: 0.1746245\ttotal: 3.16s\tremaining: 982ms\n",
      "763:\tlearn: 0.1745594\ttotal: 3.17s\tremaining: 978ms\n",
      "764:\tlearn: 0.1745336\ttotal: 3.17s\tremaining: 974ms\n",
      "765:\tlearn: 0.1744418\ttotal: 3.17s\tremaining: 969ms\n",
      "766:\tlearn: 0.1744025\ttotal: 3.17s\tremaining: 965ms\n",
      "767:\tlearn: 0.1742551\ttotal: 3.18s\tremaining: 960ms\n",
      "768:\tlearn: 0.1742315\ttotal: 3.18s\tremaining: 956ms\n",
      "769:\tlearn: 0.1741694\ttotal: 3.18s\tremaining: 951ms\n",
      "770:\tlearn: 0.1741331\ttotal: 3.19s\tremaining: 947ms\n",
      "771:\tlearn: 0.1741097\ttotal: 3.19s\tremaining: 942ms\n",
      "772:\tlearn: 0.1740742\ttotal: 3.19s\tremaining: 938ms\n",
      "773:\tlearn: 0.1740266\ttotal: 3.19s\tremaining: 933ms\n",
      "774:\tlearn: 0.1739724\ttotal: 3.2s\tremaining: 929ms\n",
      "775:\tlearn: 0.1739066\ttotal: 3.2s\tremaining: 924ms\n",
      "776:\tlearn: 0.1738244\ttotal: 3.21s\tremaining: 920ms\n",
      "777:\tlearn: 0.1737406\ttotal: 3.21s\tremaining: 916ms\n",
      "778:\tlearn: 0.1736798\ttotal: 3.21s\tremaining: 911ms\n",
      "779:\tlearn: 0.1736048\ttotal: 3.21s\tremaining: 907ms\n",
      "780:\tlearn: 0.1735471\ttotal: 3.22s\tremaining: 903ms\n",
      "781:\tlearn: 0.1734794\ttotal: 3.22s\tremaining: 898ms\n",
      "782:\tlearn: 0.1734353\ttotal: 3.22s\tremaining: 894ms\n",
      "783:\tlearn: 0.1733435\ttotal: 3.23s\tremaining: 889ms\n",
      "784:\tlearn: 0.1732862\ttotal: 3.23s\tremaining: 885ms\n",
      "785:\tlearn: 0.1732394\ttotal: 3.23s\tremaining: 880ms\n",
      "786:\tlearn: 0.1731786\ttotal: 3.24s\tremaining: 876ms\n",
      "787:\tlearn: 0.1731294\ttotal: 3.24s\tremaining: 872ms\n",
      "788:\tlearn: 0.1730789\ttotal: 3.24s\tremaining: 867ms\n",
      "789:\tlearn: 0.1729926\ttotal: 3.25s\tremaining: 863ms\n",
      "790:\tlearn: 0.1729495\ttotal: 3.25s\tremaining: 859ms\n",
      "791:\tlearn: 0.1728214\ttotal: 3.25s\tremaining: 854ms\n",
      "792:\tlearn: 0.1727992\ttotal: 3.26s\tremaining: 850ms\n",
      "793:\tlearn: 0.1727440\ttotal: 3.26s\tremaining: 846ms\n",
      "794:\tlearn: 0.1726915\ttotal: 3.26s\tremaining: 841ms\n",
      "795:\tlearn: 0.1725909\ttotal: 3.27s\tremaining: 837ms\n",
      "796:\tlearn: 0.1725499\ttotal: 3.27s\tremaining: 832ms\n",
      "797:\tlearn: 0.1724484\ttotal: 3.27s\tremaining: 828ms\n",
      "798:\tlearn: 0.1723855\ttotal: 3.27s\tremaining: 824ms\n",
      "799:\tlearn: 0.1723742\ttotal: 3.28s\tremaining: 819ms\n",
      "800:\tlearn: 0.1723194\ttotal: 3.28s\tremaining: 815ms\n",
      "801:\tlearn: 0.1722739\ttotal: 3.28s\tremaining: 810ms\n",
      "802:\tlearn: 0.1722308\ttotal: 3.29s\tremaining: 806ms\n",
      "803:\tlearn: 0.1721675\ttotal: 3.29s\tremaining: 802ms\n",
      "804:\tlearn: 0.1720674\ttotal: 3.29s\tremaining: 798ms\n",
      "805:\tlearn: 0.1719655\ttotal: 3.3s\tremaining: 793ms\n",
      "806:\tlearn: 0.1719030\ttotal: 3.3s\tremaining: 789ms\n",
      "807:\tlearn: 0.1718850\ttotal: 3.3s\tremaining: 785ms\n",
      "808:\tlearn: 0.1718672\ttotal: 3.3s\tremaining: 780ms\n",
      "809:\tlearn: 0.1717314\ttotal: 3.31s\tremaining: 776ms\n",
      "810:\tlearn: 0.1717145\ttotal: 3.31s\tremaining: 772ms\n",
      "811:\tlearn: 0.1716288\ttotal: 3.31s\tremaining: 767ms\n",
      "812:\tlearn: 0.1716037\ttotal: 3.32s\tremaining: 763ms\n",
      "813:\tlearn: 0.1715143\ttotal: 3.32s\tremaining: 758ms\n",
      "814:\tlearn: 0.1714189\ttotal: 3.32s\tremaining: 754ms\n",
      "815:\tlearn: 0.1713680\ttotal: 3.33s\tremaining: 750ms\n",
      "816:\tlearn: 0.1713107\ttotal: 3.33s\tremaining: 746ms\n",
      "817:\tlearn: 0.1712948\ttotal: 3.33s\tremaining: 741ms\n",
      "818:\tlearn: 0.1712355\ttotal: 3.33s\tremaining: 737ms\n",
      "819:\tlearn: 0.1711875\ttotal: 3.34s\tremaining: 733ms\n",
      "820:\tlearn: 0.1711797\ttotal: 3.34s\tremaining: 728ms\n",
      "821:\tlearn: 0.1711398\ttotal: 3.34s\tremaining: 724ms\n",
      "822:\tlearn: 0.1711206\ttotal: 3.35s\tremaining: 720ms\n",
      "823:\tlearn: 0.1710394\ttotal: 3.35s\tremaining: 715ms\n",
      "824:\tlearn: 0.1710188\ttotal: 3.35s\tremaining: 711ms\n",
      "825:\tlearn: 0.1709687\ttotal: 3.35s\tremaining: 707ms\n",
      "826:\tlearn: 0.1708429\ttotal: 3.36s\tremaining: 702ms\n",
      "827:\tlearn: 0.1707261\ttotal: 3.36s\tremaining: 698ms\n",
      "828:\tlearn: 0.1706503\ttotal: 3.36s\tremaining: 694ms\n",
      "829:\tlearn: 0.1705872\ttotal: 3.37s\tremaining: 690ms\n",
      "830:\tlearn: 0.1705454\ttotal: 3.37s\tremaining: 685ms\n",
      "831:\tlearn: 0.1705018\ttotal: 3.37s\tremaining: 681ms\n"
     ]
    },
    {
     "name": "stdout",
     "output_type": "stream",
     "text": [
      "832:\tlearn: 0.1704388\ttotal: 3.38s\tremaining: 677ms\n",
      "833:\tlearn: 0.1704302\ttotal: 3.38s\tremaining: 673ms\n",
      "834:\tlearn: 0.1703436\ttotal: 3.38s\tremaining: 669ms\n",
      "835:\tlearn: 0.1702973\ttotal: 3.39s\tremaining: 664ms\n",
      "836:\tlearn: 0.1702303\ttotal: 3.39s\tremaining: 660ms\n",
      "837:\tlearn: 0.1700699\ttotal: 3.39s\tremaining: 656ms\n",
      "838:\tlearn: 0.1700205\ttotal: 3.4s\tremaining: 651ms\n",
      "839:\tlearn: 0.1699784\ttotal: 3.4s\tremaining: 647ms\n",
      "840:\tlearn: 0.1698925\ttotal: 3.4s\tremaining: 643ms\n",
      "841:\tlearn: 0.1698844\ttotal: 3.4s\tremaining: 639ms\n",
      "842:\tlearn: 0.1697842\ttotal: 3.41s\tremaining: 634ms\n",
      "843:\tlearn: 0.1697412\ttotal: 3.41s\tremaining: 630ms\n",
      "844:\tlearn: 0.1697264\ttotal: 3.41s\tremaining: 626ms\n",
      "845:\tlearn: 0.1696295\ttotal: 3.42s\tremaining: 622ms\n",
      "846:\tlearn: 0.1695227\ttotal: 3.42s\tremaining: 618ms\n",
      "847:\tlearn: 0.1694713\ttotal: 3.42s\tremaining: 614ms\n",
      "848:\tlearn: 0.1694293\ttotal: 3.42s\tremaining: 609ms\n",
      "849:\tlearn: 0.1693973\ttotal: 3.43s\tremaining: 605ms\n",
      "850:\tlearn: 0.1693465\ttotal: 3.43s\tremaining: 601ms\n",
      "851:\tlearn: 0.1692622\ttotal: 3.44s\tremaining: 597ms\n",
      "852:\tlearn: 0.1692532\ttotal: 3.44s\tremaining: 592ms\n",
      "853:\tlearn: 0.1692176\ttotal: 3.44s\tremaining: 588ms\n",
      "854:\tlearn: 0.1691389\ttotal: 3.44s\tremaining: 584ms\n",
      "855:\tlearn: 0.1689980\ttotal: 3.45s\tremaining: 580ms\n",
      "856:\tlearn: 0.1689088\ttotal: 3.45s\tremaining: 576ms\n",
      "857:\tlearn: 0.1688866\ttotal: 3.45s\tremaining: 571ms\n",
      "858:\tlearn: 0.1688421\ttotal: 3.45s\tremaining: 567ms\n",
      "859:\tlearn: 0.1688306\ttotal: 3.46s\tremaining: 563ms\n",
      "860:\tlearn: 0.1688243\ttotal: 3.46s\tremaining: 559ms\n",
      "861:\tlearn: 0.1687655\ttotal: 3.46s\tremaining: 555ms\n",
      "862:\tlearn: 0.1686919\ttotal: 3.47s\tremaining: 551ms\n",
      "863:\tlearn: 0.1686084\ttotal: 3.47s\tremaining: 546ms\n",
      "864:\tlearn: 0.1685646\ttotal: 3.47s\tremaining: 542ms\n",
      "865:\tlearn: 0.1685013\ttotal: 3.48s\tremaining: 538ms\n",
      "866:\tlearn: 0.1684363\ttotal: 3.48s\tremaining: 534ms\n",
      "867:\tlearn: 0.1683291\ttotal: 3.48s\tremaining: 530ms\n",
      "868:\tlearn: 0.1683107\ttotal: 3.48s\tremaining: 525ms\n",
      "869:\tlearn: 0.1682412\ttotal: 3.49s\tremaining: 521ms\n",
      "870:\tlearn: 0.1681740\ttotal: 3.49s\tremaining: 517ms\n",
      "871:\tlearn: 0.1681226\ttotal: 3.5s\tremaining: 513ms\n",
      "872:\tlearn: 0.1680713\ttotal: 3.5s\tremaining: 509ms\n",
      "873:\tlearn: 0.1679791\ttotal: 3.5s\tremaining: 505ms\n",
      "874:\tlearn: 0.1679151\ttotal: 3.5s\tremaining: 501ms\n",
      "875:\tlearn: 0.1678062\ttotal: 3.51s\tremaining: 497ms\n",
      "876:\tlearn: 0.1677722\ttotal: 3.51s\tremaining: 492ms\n",
      "877:\tlearn: 0.1677555\ttotal: 3.51s\tremaining: 488ms\n",
      "878:\tlearn: 0.1675888\ttotal: 3.52s\tremaining: 484ms\n",
      "879:\tlearn: 0.1675066\ttotal: 3.52s\tremaining: 480ms\n",
      "880:\tlearn: 0.1674435\ttotal: 3.52s\tremaining: 476ms\n",
      "881:\tlearn: 0.1673154\ttotal: 3.53s\tremaining: 472ms\n",
      "882:\tlearn: 0.1672482\ttotal: 3.53s\tremaining: 468ms\n",
      "883:\tlearn: 0.1672067\ttotal: 3.53s\tremaining: 463ms\n",
      "884:\tlearn: 0.1670393\ttotal: 3.54s\tremaining: 459ms\n",
      "885:\tlearn: 0.1669966\ttotal: 3.54s\tremaining: 455ms\n",
      "886:\tlearn: 0.1669664\ttotal: 3.54s\tremaining: 451ms\n",
      "887:\tlearn: 0.1669004\ttotal: 3.54s\tremaining: 447ms\n",
      "888:\tlearn: 0.1668295\ttotal: 3.55s\tremaining: 443ms\n",
      "889:\tlearn: 0.1667648\ttotal: 3.55s\tremaining: 439ms\n",
      "890:\tlearn: 0.1666998\ttotal: 3.55s\tremaining: 435ms\n",
      "891:\tlearn: 0.1666548\ttotal: 3.56s\tremaining: 431ms\n",
      "892:\tlearn: 0.1666453\ttotal: 3.56s\tremaining: 427ms\n",
      "893:\tlearn: 0.1665927\ttotal: 3.56s\tremaining: 422ms\n",
      "894:\tlearn: 0.1665258\ttotal: 3.57s\tremaining: 418ms\n",
      "895:\tlearn: 0.1664497\ttotal: 3.57s\tremaining: 414ms\n",
      "896:\tlearn: 0.1663830\ttotal: 3.57s\tremaining: 410ms\n",
      "897:\tlearn: 0.1663267\ttotal: 3.57s\tremaining: 406ms\n",
      "898:\tlearn: 0.1663094\ttotal: 3.58s\tremaining: 402ms\n",
      "899:\tlearn: 0.1662585\ttotal: 3.58s\tremaining: 398ms\n",
      "900:\tlearn: 0.1661699\ttotal: 3.58s\tremaining: 394ms\n",
      "901:\tlearn: 0.1660993\ttotal: 3.59s\tremaining: 390ms\n",
      "902:\tlearn: 0.1660299\ttotal: 3.59s\tremaining: 386ms\n",
      "903:\tlearn: 0.1660080\ttotal: 3.59s\tremaining: 382ms\n",
      "904:\tlearn: 0.1659420\ttotal: 3.6s\tremaining: 378ms\n",
      "905:\tlearn: 0.1659108\ttotal: 3.6s\tremaining: 373ms\n",
      "906:\tlearn: 0.1658774\ttotal: 3.6s\tremaining: 369ms\n",
      "907:\tlearn: 0.1658181\ttotal: 3.6s\tremaining: 365ms\n",
      "908:\tlearn: 0.1657544\ttotal: 3.61s\tremaining: 361ms\n",
      "909:\tlearn: 0.1657066\ttotal: 3.61s\tremaining: 357ms\n",
      "910:\tlearn: 0.1656744\ttotal: 3.61s\tremaining: 353ms\n",
      "911:\tlearn: 0.1656358\ttotal: 3.62s\tremaining: 349ms\n",
      "912:\tlearn: 0.1656256\ttotal: 3.62s\tremaining: 345ms\n",
      "913:\tlearn: 0.1655505\ttotal: 3.62s\tremaining: 341ms\n",
      "914:\tlearn: 0.1655101\ttotal: 3.63s\tremaining: 337ms\n",
      "915:\tlearn: 0.1653764\ttotal: 3.63s\tremaining: 333ms\n",
      "916:\tlearn: 0.1653431\ttotal: 3.63s\tremaining: 329ms\n",
      "917:\tlearn: 0.1653186\ttotal: 3.64s\tremaining: 325ms\n",
      "918:\tlearn: 0.1652195\ttotal: 3.64s\tremaining: 321ms\n",
      "919:\tlearn: 0.1651177\ttotal: 3.64s\tremaining: 317ms\n",
      "920:\tlearn: 0.1650340\ttotal: 3.65s\tremaining: 313ms\n",
      "921:\tlearn: 0.1649857\ttotal: 3.65s\tremaining: 309ms\n",
      "922:\tlearn: 0.1649700\ttotal: 3.65s\tremaining: 305ms\n",
      "923:\tlearn: 0.1648916\ttotal: 3.66s\tremaining: 301ms\n",
      "924:\tlearn: 0.1648548\ttotal: 3.66s\tremaining: 297ms\n",
      "925:\tlearn: 0.1648449\ttotal: 3.66s\tremaining: 293ms\n",
      "926:\tlearn: 0.1647420\ttotal: 3.66s\tremaining: 289ms\n",
      "927:\tlearn: 0.1646891\ttotal: 3.67s\tremaining: 285ms\n",
      "928:\tlearn: 0.1645556\ttotal: 3.67s\tremaining: 281ms\n",
      "929:\tlearn: 0.1644846\ttotal: 3.67s\tremaining: 277ms\n",
      "930:\tlearn: 0.1644433\ttotal: 3.68s\tremaining: 273ms\n",
      "931:\tlearn: 0.1643715\ttotal: 3.68s\tremaining: 269ms\n",
      "932:\tlearn: 0.1643058\ttotal: 3.68s\tremaining: 265ms\n",
      "933:\tlearn: 0.1642642\ttotal: 3.69s\tremaining: 261ms\n",
      "934:\tlearn: 0.1642240\ttotal: 3.69s\tremaining: 257ms\n",
      "935:\tlearn: 0.1641963\ttotal: 3.69s\tremaining: 253ms\n",
      "936:\tlearn: 0.1641183\ttotal: 3.7s\tremaining: 249ms\n",
      "937:\tlearn: 0.1640523\ttotal: 3.7s\tremaining: 245ms\n",
      "938:\tlearn: 0.1640166\ttotal: 3.7s\tremaining: 241ms\n",
      "939:\tlearn: 0.1639170\ttotal: 3.71s\tremaining: 237ms\n",
      "940:\tlearn: 0.1638693\ttotal: 3.71s\tremaining: 233ms\n",
      "941:\tlearn: 0.1638411\ttotal: 3.71s\tremaining: 229ms\n",
      "942:\tlearn: 0.1638076\ttotal: 3.71s\tremaining: 225ms\n",
      "943:\tlearn: 0.1637809\ttotal: 3.72s\tremaining: 221ms\n",
      "944:\tlearn: 0.1636680\ttotal: 3.72s\tremaining: 217ms\n",
      "945:\tlearn: 0.1636377\ttotal: 3.73s\tremaining: 213ms\n",
      "946:\tlearn: 0.1635770\ttotal: 3.73s\tremaining: 209ms\n",
      "947:\tlearn: 0.1635050\ttotal: 3.73s\tremaining: 205ms\n",
      "948:\tlearn: 0.1634207\ttotal: 3.73s\tremaining: 201ms\n",
      "949:\tlearn: 0.1633850\ttotal: 3.74s\tremaining: 197ms\n",
      "950:\tlearn: 0.1633240\ttotal: 3.74s\tremaining: 193ms\n",
      "951:\tlearn: 0.1632218\ttotal: 3.74s\tremaining: 189ms\n",
      "952:\tlearn: 0.1631695\ttotal: 3.75s\tremaining: 185ms\n",
      "953:\tlearn: 0.1631185\ttotal: 3.75s\tremaining: 181ms\n",
      "954:\tlearn: 0.1630180\ttotal: 3.75s\tremaining: 177ms\n",
      "955:\tlearn: 0.1629762\ttotal: 3.75s\tremaining: 173ms\n",
      "956:\tlearn: 0.1629025\ttotal: 3.76s\tremaining: 169ms\n",
      "957:\tlearn: 0.1628560\ttotal: 3.76s\tremaining: 165ms\n",
      "958:\tlearn: 0.1627970\ttotal: 3.77s\tremaining: 161ms\n",
      "959:\tlearn: 0.1627820\ttotal: 3.77s\tremaining: 157ms\n",
      "960:\tlearn: 0.1627712\ttotal: 3.77s\tremaining: 153ms\n",
      "961:\tlearn: 0.1627482\ttotal: 3.77s\tremaining: 149ms\n",
      "962:\tlearn: 0.1626819\ttotal: 3.78s\tremaining: 145ms\n",
      "963:\tlearn: 0.1626667\ttotal: 3.78s\tremaining: 141ms\n",
      "964:\tlearn: 0.1626355\ttotal: 3.78s\tremaining: 137ms\n",
      "965:\tlearn: 0.1625930\ttotal: 3.79s\tremaining: 133ms\n",
      "966:\tlearn: 0.1625474\ttotal: 3.79s\tremaining: 129ms\n",
      "967:\tlearn: 0.1625086\ttotal: 3.79s\tremaining: 125ms\n",
      "968:\tlearn: 0.1624863\ttotal: 3.79s\tremaining: 121ms\n",
      "969:\tlearn: 0.1624188\ttotal: 3.8s\tremaining: 117ms\n",
      "970:\tlearn: 0.1623390\ttotal: 3.8s\tremaining: 114ms\n",
      "971:\tlearn: 0.1622955\ttotal: 3.8s\tremaining: 110ms\n",
      "972:\tlearn: 0.1622624\ttotal: 3.81s\tremaining: 106ms\n",
      "973:\tlearn: 0.1622128\ttotal: 3.81s\tremaining: 102ms\n",
      "974:\tlearn: 0.1621879\ttotal: 3.81s\tremaining: 97.8ms\n",
      "975:\tlearn: 0.1620773\ttotal: 3.82s\tremaining: 93.9ms\n",
      "976:\tlearn: 0.1620313\ttotal: 3.82s\tremaining: 89.9ms\n",
      "977:\tlearn: 0.1619646\ttotal: 3.82s\tremaining: 86ms\n",
      "978:\tlearn: 0.1619199\ttotal: 3.83s\tremaining: 82.1ms\n",
      "979:\tlearn: 0.1618867\ttotal: 3.83s\tremaining: 78.1ms\n",
      "980:\tlearn: 0.1618456\ttotal: 3.83s\tremaining: 74.2ms\n",
      "981:\tlearn: 0.1618166\ttotal: 3.83s\tremaining: 70.3ms\n",
      "982:\tlearn: 0.1617394\ttotal: 3.84s\tremaining: 66.4ms\n",
      "983:\tlearn: 0.1617201\ttotal: 3.84s\tremaining: 62.5ms\n",
      "984:\tlearn: 0.1616386\ttotal: 3.84s\tremaining: 58.5ms\n",
      "985:\tlearn: 0.1615710\ttotal: 3.85s\tremaining: 54.6ms\n",
      "986:\tlearn: 0.1615618\ttotal: 3.85s\tremaining: 50.7ms\n",
      "987:\tlearn: 0.1615175\ttotal: 3.85s\tremaining: 46.8ms\n",
      "988:\tlearn: 0.1614356\ttotal: 3.86s\tremaining: 42.9ms\n",
      "989:\tlearn: 0.1614233\ttotal: 3.86s\tremaining: 39ms\n",
      "990:\tlearn: 0.1613596\ttotal: 3.86s\tremaining: 35.1ms\n",
      "991:\tlearn: 0.1613361\ttotal: 3.87s\tremaining: 31.2ms\n",
      "992:\tlearn: 0.1612734\ttotal: 3.87s\tremaining: 27.3ms\n",
      "993:\tlearn: 0.1612452\ttotal: 3.87s\tremaining: 23.4ms\n",
      "994:\tlearn: 0.1612109\ttotal: 3.88s\tremaining: 19.5ms\n",
      "995:\tlearn: 0.1611162\ttotal: 3.88s\tremaining: 15.6ms\n",
      "996:\tlearn: 0.1610956\ttotal: 3.88s\tremaining: 11.7ms\n",
      "997:\tlearn: 0.1610704\ttotal: 3.88s\tremaining: 7.78ms\n",
      "998:\tlearn: 0.1610119\ttotal: 3.89s\tremaining: 3.89ms\n"
     ]
    },
    {
     "name": "stdout",
     "output_type": "stream",
     "text": [
      "999:\tlearn: 0.1609752\ttotal: 3.89s\tremaining: 0us\n"
     ]
    }
   ],
   "source": [
    "model = CatBoostRegressor()\n",
    "model.fit(x_train_17, y_train_17)\n",
    "y_pred_17 = model.predict(x_test_17)"
   ]
  },
  {
   "cell_type": "code",
   "execution_count": 255,
   "id": "082649d0",
   "metadata": {},
   "outputs": [
    {
     "name": "stdout",
     "output_type": "stream",
     "text": [
      "MSE for CatBoost 2017 is: 0.08268384033103753\n"
     ]
    }
   ],
   "source": [
    "mse = mean_squared_error(y_test_17, y_pred_17)\n",
    "print('MSE for CatBoost 2017 is: ' + str(mse))"
   ]
  },
  {
   "cell_type": "code",
   "execution_count": 256,
   "id": "a3c47125",
   "metadata": {},
   "outputs": [
    {
     "name": "stdout",
     "output_type": "stream",
     "text": [
      "RMSE for CatBoost 2017 is: 0.28754797918093167\n"
     ]
    }
   ],
   "source": [
    "rmse = mean_squared_error(y_test_17, y_pred_17, squared = False)\n",
    "print('RMSE for CatBoost 2017 is: ' + str(rmse))"
   ]
  },
  {
   "cell_type": "code",
   "execution_count": 257,
   "id": "64d71e25",
   "metadata": {},
   "outputs": [
    {
     "name": "stdout",
     "output_type": "stream",
     "text": [
      "Accuracy of properties at +- 10% of actual prices is 0.39148936170212767\n"
     ]
    }
   ],
   "source": [
    "acc = accuracy_threshold(y_test_17, y_pred_17, 0.1)\n",
    "print('Accuracy of properties at +- 10% of actual prices is ' + str(acc))"
   ]
  },
  {
   "cell_type": "code",
   "execution_count": 258,
   "id": "f6984666",
   "metadata": {},
   "outputs": [
    {
     "name": "stdout",
     "output_type": "stream",
     "text": [
      "Median Absolute Error:\n",
      "\n",
      "0.13748968681539292\n"
     ]
    }
   ],
   "source": [
    "median_se = np.square(np.subtract(y_test_17, y_pred_17)).median() \n",
    " \n",
    "med = math.sqrt(median_se)\n",
    "print(\"Median Absolute Error:\\n\")\n",
    "print(med)"
   ]
  },
  {
   "cell_type": "code",
   "execution_count": 259,
   "id": "cb802c7d",
   "metadata": {},
   "outputs": [
    {
     "name": "stdout",
     "output_type": "stream",
     "text": [
      "MAPE for CatBoost 2017 is: 0.015069767348711221\n"
     ]
    }
   ],
   "source": [
    "mape = mean_absolute_percentage_error(y_test_17, y_pred_17)\n",
    "print(\"MAPE for CatBoost 2017 is: \" + str(mape))"
   ]
  },
  {
   "cell_type": "code",
   "execution_count": 260,
   "id": "5b1cf780",
   "metadata": {},
   "outputs": [],
   "source": [
    "cnames = ['Algorithm', 'Year', 'RMSE', 'MSE', 'MEDAE', 'Accuracy', 'MAPE']\n",
    "df28 = pd.DataFrame(columns = cnames)\n",
    "\n",
    "df28 = df28.append({'Algorithm': 'CatBoost',\n",
    "           'Year': 2017,\n",
    "           'RMSE': rmse,\n",
    "           'MSE': mse,\n",
    "           'MEDAE': med,\n",
    "           'Accuracy': acc,\n",
    "           'MAPE': mape         \n",
    "          }, ignore_index = True)"
   ]
  },
  {
   "cell_type": "markdown",
   "id": "72562a1a",
   "metadata": {},
   "source": [
    "### BayesianRidge"
   ]
  },
  {
   "cell_type": "code",
   "execution_count": 261,
   "id": "59e9f148",
   "metadata": {},
   "outputs": [
    {
     "name": "stdout",
     "output_type": "stream",
     "text": [
      "MSE for BayesianRidge 2017 is: 0.11783934144280493\n"
     ]
    }
   ],
   "source": [
    "clf = BayesianRidge()\n",
    "clf.fit(x_train_17, y_train_17)\n",
    "y_pred_17 = clf.predict(x_test_17)\n",
    "# Calculation of Mean Squared Error (MSE)\n",
    "mse = mean_squared_error(y_test_17, y_pred_17)\n",
    "print('MSE for BayesianRidge 2017 is: ' + str(mse))"
   ]
  },
  {
   "cell_type": "code",
   "execution_count": 262,
   "id": "1dff6d36",
   "metadata": {},
   "outputs": [
    {
     "name": "stdout",
     "output_type": "stream",
     "text": [
      "RMSE for BayesianRidge 2017 is: 0.3432773535245297\n"
     ]
    }
   ],
   "source": [
    "rmse = mean_squared_error(y_test_17, y_pred_17, squared = False)\n",
    "print('RMSE for BayesianRidge 2017 is: ' + str(rmse))"
   ]
  },
  {
   "cell_type": "code",
   "execution_count": 263,
   "id": "432254a9",
   "metadata": {},
   "outputs": [
    {
     "name": "stdout",
     "output_type": "stream",
     "text": [
      "Accuracy of properties at +- 10% of actual prices is 0.3468085106382979\n"
     ]
    }
   ],
   "source": [
    "acc = accuracy_threshold(y_test_17, y_pred_17, 0.1)\n",
    "print('Accuracy of properties at +- 10% of actual prices is ' + str(acc))"
   ]
  },
  {
   "cell_type": "code",
   "execution_count": 264,
   "id": "5e73847c",
   "metadata": {},
   "outputs": [
    {
     "name": "stdout",
     "output_type": "stream",
     "text": [
      "Median Absolute Error:\n",
      "\n",
      "0.1641085624638191\n"
     ]
    }
   ],
   "source": [
    "median_se = np.square(np.subtract(y_test_17, y_pred_17)).median() \n",
    " \n",
    "med = math.sqrt(median_se)\n",
    "print(\"Median Absolute Error:\\n\")\n",
    "print(med)"
   ]
  },
  {
   "cell_type": "code",
   "execution_count": 265,
   "id": "27b263d2",
   "metadata": {},
   "outputs": [
    {
     "name": "stdout",
     "output_type": "stream",
     "text": [
      "MAPE for BayesianRidge 2017 is: 0.018316097256833308\n"
     ]
    }
   ],
   "source": [
    "mape = mean_absolute_percentage_error(y_test_17, y_pred_17)\n",
    "print(\"MAPE for BayesianRidge 2017 is: \" + str(mape))"
   ]
  },
  {
   "cell_type": "code",
   "execution_count": 266,
   "id": "f56a5c0c",
   "metadata": {},
   "outputs": [],
   "source": [
    "cnames = ['Algorithm', 'Year', 'RMSE', 'MSE', 'MEDAE', 'Accuracy', 'MAPE']\n",
    "df29 = pd.DataFrame(columns = cnames)\n",
    "\n",
    "df29 = df29.append({'Algorithm': 'Bayesian',\n",
    "           'Year': 2017,\n",
    "           'RMSE': rmse,\n",
    "           'MSE': mse,\n",
    "           'MEDAE': med,\n",
    "           'Accuracy': acc,\n",
    "           'MAPE': mape         \n",
    "          }, ignore_index = True)"
   ]
  },
  {
   "cell_type": "code",
   "execution_count": 267,
   "id": "e004552a",
   "metadata": {},
   "outputs": [],
   "source": [
    "vis1 = pd.concat([df12, df13, df14, df15, df16, df17, df18, df19, df20, df21, df22, df23,\n",
    "                df24, df25, df26, df27, df28, df29], ignore_index=True)"
   ]
  },
  {
   "cell_type": "code",
   "execution_count": 268,
   "id": "6d8c9d08",
   "metadata": {},
   "outputs": [],
   "source": [
    "vis2 = pd.concat([vis, vis1], ignore_index=True)"
   ]
  },
  {
   "cell_type": "markdown",
   "id": "ad20c8a7",
   "metadata": {},
   "source": [
    "## Let's Visualize all our results "
   ]
  },
  {
   "cell_type": "code",
   "execution_count": 269,
   "id": "7c3e9111",
   "metadata": {},
   "outputs": [
    {
     "data": {
      "text/plain": [
       "<AxesSubplot:title={'center':'Mean RMSE Values 2013-21 Predictions'}, xlabel='Algorithm', ylabel='Mean RMSE'>"
      ]
     },
     "execution_count": 269,
     "metadata": {},
     "output_type": "execute_result"
    },
    {
     "data": {
      "image/png": "[encoded data removed]",
      "text/plain": [
       "<Figure size 1296x432 with 1 Axes>"
      ]
     },
     "metadata": {
      "needs_background": "light"
     },
     "output_type": "display_data"
    }
   ],
   "source": [
    "# rmse results\n",
    "grouped_multiple1 = vis2.groupby(['Algorithm']).agg({'RMSE': ['mean', 'median', 'max', 'sum']})\n",
    "grouped_multiple1.columns = ['mean','median','max','sum']\n",
    "grouped_multiple1.reset_index(inplace = True)\n",
    "distdf = grouped_multiple1.sort_values(by = ['mean'], ascending = True)\n",
    "distdf.plot.bar(x = 'Algorithm', y = 'mean', rot = 40, figsize=(18, 6), color='goldenrod', xlabel='Algorithm', ylabel='Mean RMSE', title='Mean RMSE Values 2013-21 Predictions')"
   ]
  },
  {
   "cell_type": "code",
   "execution_count": 270,
   "id": "9f8b253a",
   "metadata": {},
   "outputs": [
    {
     "data": {
      "text/plain": [
       "<AxesSubplot:title={'center':'Mean MEDAE Values 2013-21 Predictions'}, xlabel='Algorithm', ylabel='Mean MEDAE'>"
      ]
     },
     "execution_count": 270,
     "metadata": {},
     "output_type": "execute_result"
    },
    {
     "data": {
      "image/png": "[encoded data removed]",
      "text/plain": [
       "<Figure size 1296x432 with 1 Axes>"
      ]
     },
     "metadata": {
      "needs_background": "light"
     },
     "output_type": "display_data"
    }
   ],
   "source": [
    "# median results\n",
    "grouped_multiple2 = vis2.groupby(['Algorithm']).agg({'MEDAE': ['mean', 'median', 'max', 'sum']})\n",
    "grouped_multiple2.columns = ['mean','median','max','sum']\n",
    "grouped_multiple2.reset_index(inplace = True)\n",
    "distdf = grouped_multiple2.sort_values(by = ['mean'], ascending = True)\n",
    "distdf.plot.bar(x = 'Algorithm', y = 'mean', rot = 40, figsize=(18, 6), color='peru', xlabel='Algorithm', ylabel='Mean MEDAE', title='Mean MEDAE Values 2013-21 Predictions')"
   ]
  },
  {
   "cell_type": "code",
   "execution_count": 272,
   "id": "e733b52c",
   "metadata": {},
   "outputs": [
    {
     "data": {
      "text/plain": [
       "<AxesSubplot:title={'center':'Mean Accuracy Values 2013-21 Predictions'}, xlabel='Algorithm', ylabel='Average Accuracy'>"
      ]
     },
     "execution_count": 272,
     "metadata": {},
     "output_type": "execute_result"
    },
    {
     "data": {
      "image/png": "[encoded data removed]",
      "text/plain": [
       "<Figure size 1296x432 with 1 Axes>"
      ]
     },
     "metadata": {
      "needs_background": "light"
     },
     "output_type": "display_data"
    }
   ],
   "source": [
    "grouped_multiple3 = vis2.groupby(['Algorithm']).agg({'Accuracy': ['mean', 'median', 'max', 'sum', 'min']})\n",
    "grouped_multiple3.columns = ['mean','median','max','sum', 'min']\n",
    "grouped_multiple3.reset_index(inplace = True)\n",
    "distdf = grouped_multiple3.sort_values(by = ['mean'], ascending = False)\n",
    "distdf.plot.bar(x = 'Algorithm', y = 'mean', rot = 40, figsize=(18, 6), color='midnightblue', xlabel='Algorithm', ylabel='Average Accuracy', title='Mean Accuracy Values 2013-21 Predictions')"
   ]
  },
  {
   "cell_type": "code",
   "execution_count": 273,
   "id": "74541158",
   "metadata": {},
   "outputs": [
    {
     "data": {
      "text/plain": [
       "<AxesSubplot:title={'center':'Mean MSE Values 2013-21 Predictions'}, xlabel='Algorithm', ylabel='Mean MSE'>"
      ]
     },
     "execution_count": 273,
     "metadata": {},
     "output_type": "execute_result"
    },
    {
     "data": {
      "image/png": "[encoded data removed]",
      "text/plain": [
       "<Figure size 1296x432 with 1 Axes>"
      ]
     },
     "metadata": {
      "needs_background": "light"
     },
     "output_type": "display_data"
    }
   ],
   "source": [
    "# mse results\n",
    "grouped_multiple4 = vis2.groupby(['Algorithm']).agg({'MSE': ['mean', 'median', 'max', 'sum']})\n",
    "grouped_multiple4.columns = ['mean','median','max','sum']\n",
    "grouped_multiple4.reset_index(inplace = True)\n",
    "distdf = grouped_multiple4.sort_values(by = ['mean'], ascending = True)\n",
    "distdf.plot.bar(x = 'Algorithm', y = 'mean', rot = 40, figsize=(18, 6), color='forestgreen', xlabel='Algorithm', ylabel='Mean MSE', title='Mean MSE Values 2013-21 Predictions')"
   ]
  },
  {
   "cell_type": "code",
   "execution_count": 274,
   "id": "d2343c63",
   "metadata": {},
   "outputs": [
    {
     "data": {
      "text/plain": [
       "<AxesSubplot:title={'center':'Mean MAPE Values 2013-21 Predictions'}, xlabel='Algorithm', ylabel='Mean MAPE'>"
      ]
     },
     "execution_count": 274,
     "metadata": {},
     "output_type": "execute_result"
    },
    {
     "data": {
      "image/png": "[encoded data removed]",
      "text/plain": [
       "<Figure size 1296x432 with 1 Axes>"
      ]
     },
     "metadata": {
      "needs_background": "light"
     },
     "output_type": "display_data"
    }
   ],
   "source": [
    "# mape results\n",
    "grouped_multiple5 = vis2.groupby(['Algorithm']).agg({'MAPE': ['mean', 'median', 'max', 'sum']})\n",
    "grouped_multiple5.columns = ['mean','median','max','sum']\n",
    "grouped_multiple5.reset_index(inplace = True)\n",
    "distdf = grouped_multiple5.sort_values(by = ['mean'], ascending = True)\n",
    "distdf.plot.bar(x = 'Algorithm', y = 'mean', rot = 40, figsize=(18, 6), color='seagreen', xlabel='Algorithm', ylabel='Mean MAPE', title='Mean MAPE Values 2013-21 Predictions')"
   ]
  },
  {
   "cell_type": "markdown",
   "id": "f05b1903",
   "metadata": {},
   "source": [
    "Result that can be compared around 6/7 % off [this](https://arxiv.org/pdf/2108.09175.pdf), (slightly diff approach taken by me predicting yearly however!)"
   ]
  },
  {
   "cell_type": "code",
   "execution_count": 275,
   "id": "7278a64b",
   "metadata": {},
   "outputs": [
    {
     "data": {
      "text/html": [
       "<div>\n",
       "<style scoped>\n",
       "    .dataframe tbody tr th:only-of-type {\n",
       "        vertical-align: middle;\n",
       "    }\n",
       "\n",
       "    .dataframe tbody tr th {\n",
       "        vertical-align: top;\n",
       "    }\n",
       "\n",
       "    .dataframe thead th {\n",
       "        text-align: right;\n",
       "    }\n",
       "</style>\n",
       "<table border=\"1\" class=\"dataframe\">\n",
       "  <thead>\n",
       "    <tr style=\"text-align: right;\">\n",
       "      <th></th>\n",
       "      <th>Algorithm</th>\n",
       "      <th>mean</th>\n",
       "      <th>median</th>\n",
       "      <th>max</th>\n",
       "      <th>sum</th>\n",
       "      <th>min</th>\n",
       "    </tr>\n",
       "  </thead>\n",
       "  <tbody>\n",
       "    <tr>\n",
       "      <th>1</th>\n",
       "      <td>AutoML</td>\n",
       "      <td>0.493018</td>\n",
       "      <td>0.502538</td>\n",
       "      <td>0.541457</td>\n",
       "      <td>2.465089</td>\n",
       "      <td>0.446809</td>\n",
       "    </tr>\n",
       "    <tr>\n",
       "      <th>4</th>\n",
       "      <td>LightGBM</td>\n",
       "      <td>0.469267</td>\n",
       "      <td>0.461929</td>\n",
       "      <td>0.521531</td>\n",
       "      <td>2.346334</td>\n",
       "      <td>0.423404</td>\n",
       "    </tr>\n",
       "    <tr>\n",
       "      <th>3</th>\n",
       "      <td>CatBoost</td>\n",
       "      <td>0.464441</td>\n",
       "      <td>0.468697</td>\n",
       "      <td>0.526316</td>\n",
       "      <td>2.322204</td>\n",
       "      <td>0.391489</td>\n",
       "    </tr>\n",
       "    <tr>\n",
       "      <th>5</th>\n",
       "      <td>MLR</td>\n",
       "      <td>0.408597</td>\n",
       "      <td>0.402010</td>\n",
       "      <td>0.482234</td>\n",
       "      <td>2.042985</td>\n",
       "      <td>0.346809</td>\n",
       "    </tr>\n",
       "    <tr>\n",
       "      <th>2</th>\n",
       "      <td>Bayesian</td>\n",
       "      <td>0.400685</td>\n",
       "      <td>0.410804</td>\n",
       "      <td>0.473773</td>\n",
       "      <td>2.003425</td>\n",
       "      <td>0.346202</td>\n",
       "    </tr>\n",
       "    <tr>\n",
       "      <th>0</th>\n",
       "      <td>AdaBoost</td>\n",
       "      <td>0.382933</td>\n",
       "      <td>0.381180</td>\n",
       "      <td>0.463568</td>\n",
       "      <td>1.914667</td>\n",
       "      <td>0.329949</td>\n",
       "    </tr>\n",
       "  </tbody>\n",
       "</table>\n",
       "</div>"
      ],
      "text/plain": [
       "  Algorithm      mean    median       max       sum       min\n",
       "1    AutoML  0.493018  0.502538  0.541457  2.465089  0.446809\n",
       "4  LightGBM  0.469267  0.461929  0.521531  2.346334  0.423404\n",
       "3  CatBoost  0.464441  0.468697  0.526316  2.322204  0.391489\n",
       "5       MLR  0.408597  0.402010  0.482234  2.042985  0.346809\n",
       "2  Bayesian  0.400685  0.410804  0.473773  2.003425  0.346202\n",
       "0  AdaBoost  0.382933  0.381180  0.463568  1.914667  0.329949"
      ]
     },
     "execution_count": 275,
     "metadata": {},
     "output_type": "execute_result"
    }
   ],
   "source": [
    "grouped_multiple3.sort_values(by = 'mean', ascending = False)"
   ]
  },
  {
   "cell_type": "code",
   "execution_count": 276,
   "id": "224ad6d2",
   "metadata": {},
   "outputs": [
    {
     "data": {
      "text/plain": [
       "<AxesSubplot:title={'center':'Performance of ML algorithms accuracy from 2017-2021 Predictions'}, xlabel='Year'>"
      ]
     },
     "execution_count": 276,
     "metadata": {},
     "output_type": "execute_result"
    },
    {
     "data": {
      "image/png": "[encoded data removed]",
      "text/plain": [
       "<Figure size 1296x432 with 1 Axes>"
      ]
     },
     "metadata": {
      "needs_background": "light"
     },
     "output_type": "display_data"
    }
   ],
   "source": [
    "# yearly accuracy results\n",
    "df = vis2.pivot(index = 'Year', columns = 'Algorithm', values = 'Accuracy')\n",
    "df.plot(figsize = (18, 6), title = 'Performance of ML algorithms accuracy from 2017-2021 Predictions')"
   ]
  },
  {
   "cell_type": "markdown",
   "id": "44757150",
   "metadata": {},
   "source": [
    "It is definitely worth noting the steep rise in performance of our prediction models after 2018. Looking at our AutoML approach in particular this sees a jump of 10% in predictive performance from 2018 to 2019 and remains well above 2017 and 2018 performance values. Looking across the board it definitely seems that our models are better suited to more up to date data, which is definitely a good thing. It may also suggest that the importance of our features changes noticeably over time with features such as closeness to parks and so forth maybe appearing more favourably in the midst of the global pandemic from 2020 onwards."
   ]
  },
  {
   "cell_type": "markdown",
   "id": "1dd73660",
   "metadata": {},
   "source": [
    "### Let's plot our Actual VS Predicted values for our best model - AutoML"
   ]
  },
  {
   "cell_type": "code",
   "execution_count": 277,
   "id": "dcdb511b",
   "metadata": {},
   "outputs": [],
   "source": [
    "actual = pd.concat([dfreal1, dfreal2, dfreal3, dfreal4, dfreal5], ignore_index=True)"
   ]
  },
  {
   "cell_type": "code",
   "execution_count": 278,
   "id": "84c4a32e",
   "metadata": {},
   "outputs": [
    {
     "data": {
      "text/html": [
       "<div>\n",
       "<style scoped>\n",
       "    .dataframe tbody tr th:only-of-type {\n",
       "        vertical-align: middle;\n",
       "    }\n",
       "\n",
       "    .dataframe tbody tr th {\n",
       "        vertical-align: top;\n",
       "    }\n",
       "\n",
       "    .dataframe thead th {\n",
       "        text-align: right;\n",
       "    }\n",
       "</style>\n",
       "<table border=\"1\" class=\"dataframe\">\n",
       "  <thead>\n",
       "    <tr style=\"text-align: right;\">\n",
       "      <th></th>\n",
       "      <th>Actual</th>\n",
       "    </tr>\n",
       "  </thead>\n",
       "  <tbody>\n",
       "    <tr>\n",
       "      <th>0</th>\n",
       "      <td>12.716376</td>\n",
       "    </tr>\n",
       "    <tr>\n",
       "      <th>1</th>\n",
       "      <td>12.838977</td>\n",
       "    </tr>\n",
       "    <tr>\n",
       "      <th>2</th>\n",
       "      <td>13.164398</td>\n",
       "    </tr>\n",
       "    <tr>\n",
       "      <th>3</th>\n",
       "      <td>12.888984</td>\n",
       "    </tr>\n",
       "    <tr>\n",
       "      <th>4</th>\n",
       "      <td>12.744948</td>\n",
       "    </tr>\n",
       "  </tbody>\n",
       "</table>\n",
       "</div>"
      ],
      "text/plain": [
       "      Actual\n",
       "0  12.716376\n",
       "1  12.838977\n",
       "2  13.164398\n",
       "3  12.888984\n",
       "4  12.744948"
      ]
     },
     "execution_count": 278,
     "metadata": {},
     "output_type": "execute_result"
    }
   ],
   "source": [
    "actual.rename(columns = {0: 'Actual'}, inplace = True)\n",
    "actual.head()"
   ]
  },
  {
   "cell_type": "code",
   "execution_count": 279,
   "id": "e53d91ef",
   "metadata": {},
   "outputs": [],
   "source": [
    "pred = pd.concat([dfpred1, dfpred2, dfpred3, dfpred4, dfpred5], ignore_index=True)"
   ]
  },
  {
   "cell_type": "code",
   "execution_count": 280,
   "id": "b414b6a3",
   "metadata": {},
   "outputs": [
    {
     "data": {
      "text/html": [
       "<div>\n",
       "<style scoped>\n",
       "    .dataframe tbody tr th:only-of-type {\n",
       "        vertical-align: middle;\n",
       "    }\n",
       "\n",
       "    .dataframe tbody tr th {\n",
       "        vertical-align: top;\n",
       "    }\n",
       "\n",
       "    .dataframe thead th {\n",
       "        text-align: right;\n",
       "    }\n",
       "</style>\n",
       "<table border=\"1\" class=\"dataframe\">\n",
       "  <thead>\n",
       "    <tr style=\"text-align: right;\">\n",
       "      <th></th>\n",
       "      <th>Predicted</th>\n",
       "    </tr>\n",
       "  </thead>\n",
       "  <tbody>\n",
       "    <tr>\n",
       "      <th>0</th>\n",
       "      <td>12.776343</td>\n",
       "    </tr>\n",
       "    <tr>\n",
       "      <th>1</th>\n",
       "      <td>12.792749</td>\n",
       "    </tr>\n",
       "    <tr>\n",
       "      <th>2</th>\n",
       "      <td>12.615387</td>\n",
       "    </tr>\n",
       "    <tr>\n",
       "      <th>3</th>\n",
       "      <td>12.883091</td>\n",
       "    </tr>\n",
       "    <tr>\n",
       "      <th>4</th>\n",
       "      <td>12.792749</td>\n",
       "    </tr>\n",
       "  </tbody>\n",
       "</table>\n",
       "</div>"
      ],
      "text/plain": [
       "   Predicted\n",
       "0  12.776343\n",
       "1  12.792749\n",
       "2  12.615387\n",
       "3  12.883091\n",
       "4  12.792749"
      ]
     },
     "execution_count": 280,
     "metadata": {},
     "output_type": "execute_result"
    }
   ],
   "source": [
    "pred.rename(columns={0: 'Predicted'}, inplace = True)\n",
    "pred.head()"
   ]
  },
  {
   "cell_type": "code",
   "execution_count": 281,
   "id": "db45f952",
   "metadata": {},
   "outputs": [],
   "source": [
    "actualvpred = actual.join(pred)"
   ]
  },
  {
   "cell_type": "code",
   "execution_count": 282,
   "id": "18a9313d",
   "metadata": {},
   "outputs": [
    {
     "data": {
      "text/html": [
       "<div>\n",
       "<style scoped>\n",
       "    .dataframe tbody tr th:only-of-type {\n",
       "        vertical-align: middle;\n",
       "    }\n",
       "\n",
       "    .dataframe tbody tr th {\n",
       "        vertical-align: top;\n",
       "    }\n",
       "\n",
       "    .dataframe thead th {\n",
       "        text-align: right;\n",
       "    }\n",
       "</style>\n",
       "<table border=\"1\" class=\"dataframe\">\n",
       "  <thead>\n",
       "    <tr style=\"text-align: right;\">\n",
       "      <th></th>\n",
       "      <th>Actual</th>\n",
       "      <th>Predicted</th>\n",
       "    </tr>\n",
       "  </thead>\n",
       "  <tbody>\n",
       "    <tr>\n",
       "      <th>0</th>\n",
       "      <td>12.716376</td>\n",
       "      <td>12.776343</td>\n",
       "    </tr>\n",
       "    <tr>\n",
       "      <th>1</th>\n",
       "      <td>12.838977</td>\n",
       "      <td>12.792749</td>\n",
       "    </tr>\n",
       "    <tr>\n",
       "      <th>2</th>\n",
       "      <td>13.164398</td>\n",
       "      <td>12.615387</td>\n",
       "    </tr>\n",
       "    <tr>\n",
       "      <th>3</th>\n",
       "      <td>12.888984</td>\n",
       "      <td>12.883091</td>\n",
       "    </tr>\n",
       "    <tr>\n",
       "      <th>4</th>\n",
       "      <td>12.744948</td>\n",
       "      <td>12.792749</td>\n",
       "    </tr>\n",
       "  </tbody>\n",
       "</table>\n",
       "</div>"
      ],
      "text/plain": [
       "      Actual  Predicted\n",
       "0  12.716376  12.776343\n",
       "1  12.838977  12.792749\n",
       "2  13.164398  12.615387\n",
       "3  12.888984  12.883091\n",
       "4  12.744948  12.792749"
      ]
     },
     "execution_count": 282,
     "metadata": {},
     "output_type": "execute_result"
    }
   ],
   "source": [
    "actualvpred.head()"
   ]
  },
  {
   "cell_type": "code",
   "execution_count": 283,
   "id": "1a8e9c4a",
   "metadata": {},
   "outputs": [],
   "source": [
    "# actual prices for better plot\n",
    "exp = np.exp(actualvpred)"
   ]
  },
  {
   "cell_type": "code",
   "execution_count": 284,
   "id": "8be68235",
   "metadata": {},
   "outputs": [
    {
     "data": {
      "image/png": "[encoded data removed]",
      "text/plain": [
       "<Figure size 720x720 with 1 Axes>"
      ]
     },
     "metadata": {
      "needs_background": "light"
     },
     "output_type": "display_data"
    }
   ],
   "source": [
    "# plot predicted vs actual\n",
    "plt.figure(figsize = (10, 10))\n",
    "plt.scatter(exp['Actual'], exp['Predicted'], c = 'crimson')\n",
    "\n",
    "p1 = max(max(exp['Predicted']), max(exp['Actual']))\n",
    "p2 = min(min(exp['Predicted']), min(exp['Actual']))\n",
    "plt.plot([p1, p2], [p1, p2], 'b-')\n",
    "plt.xlabel('True Values', fontsize = 15)\n",
    "plt.ylabel('Predictions', fontsize = 15)\n",
    "plt.axis('equal')\n",
    "plt.show()"
   ]
  },
  {
   "cell_type": "markdown",
   "id": "8739279c",
   "metadata": {},
   "source": [
    "### Predictions and True Values Evaluation\n",
    "\n",
    "Our model is certainly most accurate between the 250,000€ to ~600,000€ range. There is definitely far more outliers as we increase our true values to around the 1,000,000€ mark. Some of these more expensive properties are definitely accurate (2 of note around 1.75m mark) but definitely we see it more accurate at the lower / average end of values. "
   ]
  },
  {
   "cell_type": "markdown",
   "id": "fa9a3abf",
   "metadata": {},
   "source": [
    "### Let's plot locations of our Properties and Accuracy of our results"
   ]
  },
  {
   "cell_type": "code",
   "execution_count": 285,
   "id": "c431eab3",
   "metadata": {},
   "outputs": [
    {
     "name": "stderr",
     "output_type": "stream",
     "text": [
      "2022-03-16 14:38:15,667 fiona._env ERROR Unable to open EPSG support file gcs.csv.  Try setting the GDAL_DATA environment variable to point to the directory containing EPSG csv files.\n",
      "2022-03-16 14:38:15,669 fiona._env ERROR Unable to open EPSG support file gcs.csv.  Try setting the GDAL_DATA environment variable to point to the directory containing EPSG csv files.\n"
     ]
    },
    {
     "data": {
      "text/html": [
       "<div>\n",
       "<style scoped>\n",
       "    .dataframe tbody tr th:only-of-type {\n",
       "        vertical-align: middle;\n",
       "    }\n",
       "\n",
       "    .dataframe tbody tr th {\n",
       "        vertical-align: top;\n",
       "    }\n",
       "\n",
       "    .dataframe thead th {\n",
       "        text-align: right;\n",
       "    }\n",
       "</style>\n",
       "<table border=\"1\" class=\"dataframe\">\n",
       "  <thead>\n",
       "    <tr style=\"text-align: right;\">\n",
       "      <th></th>\n",
       "      <th>OSM_ID</th>\n",
       "      <th>NAME_TAG</th>\n",
       "      <th>NAME_GA</th>\n",
       "      <th>NAME_EN</th>\n",
       "      <th>ALT_NAME</th>\n",
       "      <th>ALT_NAME_G</th>\n",
       "      <th>LOGAINM_RE</th>\n",
       "      <th>OSM_USER</th>\n",
       "      <th>OSM_TIMEST</th>\n",
       "      <th>ATTRIBUTIO</th>\n",
       "      <th>T_IE_URL</th>\n",
       "      <th>AREA</th>\n",
       "      <th>LATITUDE</th>\n",
       "      <th>LONGITUDE</th>\n",
       "      <th>EPOCH_TSTM</th>\n",
       "      <th>geometry</th>\n",
       "    </tr>\n",
       "  </thead>\n",
       "  <tbody>\n",
       "    <tr>\n",
       "      <th>0</th>\n",
       "      <td>-338539.0</td>\n",
       "      <td>Mayo</td>\n",
       "      <td>Contae Mhaigh Eo</td>\n",
       "      <td>County Mayo</td>\n",
       "      <td>None</td>\n",
       "      <td>None</td>\n",
       "      <td>100023</td>\n",
       "      <td>Polarbear</td>\n",
       "      <td>2009-11-28 21:59:01+01</td>\n",
       "      <td>None</td>\n",
       "      <td>http://www.townlands.ie/mayo</td>\n",
       "      <td>5.596522e+09</td>\n",
       "      <td>53.924239</td>\n",
       "      <td>-9.385225</td>\n",
       "      <td>1.259442e+09</td>\n",
       "      <td>MULTIPOLYGON (((-10.13689 54.10969, -10.13601 ...</td>\n",
       "    </tr>\n",
       "  </tbody>\n",
       "</table>\n",
       "</div>"
      ],
      "text/plain": [
       "     OSM_ID NAME_TAG           NAME_GA      NAME_EN ALT_NAME ALT_NAME_G  \\\n",
       "0 -338539.0     Mayo  Contae Mhaigh Eo  County Mayo     None       None   \n",
       "\n",
       "  LOGAINM_RE   OSM_USER              OSM_TIMEST ATTRIBUTIO  \\\n",
       "0     100023  Polarbear  2009-11-28 21:59:01+01       None   \n",
       "\n",
       "                       T_IE_URL          AREA   LATITUDE  LONGITUDE  \\\n",
       "0  http://www.townlands.ie/mayo  5.596522e+09  53.924239  -9.385225   \n",
       "\n",
       "     EPOCH_TSTM                                           geometry  \n",
       "0  1.259442e+09  MULTIPOLYGON (((-10.13689 54.10969, -10.13601 ...  "
      ]
     },
     "execution_count": 285,
     "metadata": {},
     "output_type": "execute_result"
    }
   ],
   "source": [
    "import geopandas as gpd\n",
    "ROI_map = gpd.read_file('counties\\counties.shp')  #reading the shape file for our maps \n",
    "ROI_map.head(1)"
   ]
  },
  {
   "cell_type": "code",
   "execution_count": 286,
   "id": "4cda9c3f",
   "metadata": {},
   "outputs": [
    {
     "data": {
      "text/html": [
       "<div>\n",
       "<style scoped>\n",
       "    .dataframe tbody tr th:only-of-type {\n",
       "        vertical-align: middle;\n",
       "    }\n",
       "\n",
       "    .dataframe tbody tr th {\n",
       "        vertical-align: top;\n",
       "    }\n",
       "\n",
       "    .dataframe thead th {\n",
       "        text-align: right;\n",
       "    }\n",
       "</style>\n",
       "<table border=\"1\" class=\"dataframe\">\n",
       "  <thead>\n",
       "    <tr style=\"text-align: right;\">\n",
       "      <th></th>\n",
       "      <th>OSM_ID</th>\n",
       "      <th>NAME_TAG</th>\n",
       "      <th>NAME_GA</th>\n",
       "      <th>NAME_EN</th>\n",
       "      <th>ALT_NAME</th>\n",
       "      <th>ALT_NAME_G</th>\n",
       "      <th>LOGAINM_RE</th>\n",
       "      <th>OSM_USER</th>\n",
       "      <th>OSM_TIMEST</th>\n",
       "      <th>ATTRIBUTIO</th>\n",
       "      <th>T_IE_URL</th>\n",
       "      <th>AREA</th>\n",
       "      <th>LATITUDE</th>\n",
       "      <th>LONGITUDE</th>\n",
       "      <th>EPOCH_TSTM</th>\n",
       "      <th>geometry</th>\n",
       "    </tr>\n",
       "  </thead>\n",
       "  <tbody>\n",
       "    <tr>\n",
       "      <th>23</th>\n",
       "      <td>-282800.0</td>\n",
       "      <td>Dublin</td>\n",
       "      <td>Contae Ãtha Cliath</td>\n",
       "      <td>County Dublin</td>\n",
       "      <td>None</td>\n",
       "      <td>None</td>\n",
       "      <td>100002</td>\n",
       "      <td>mackerski</td>\n",
       "      <td>2009-10-07 01:32:34+02</td>\n",
       "      <td>None</td>\n",
       "      <td>http://www.townlands.ie/dublin</td>\n",
       "      <td>9.290204e+08</td>\n",
       "      <td>53.392222</td>\n",
       "      <td>-6.283976</td>\n",
       "      <td>1.254872e+09</td>\n",
       "      <td>MULTIPOLYGON (((-6.54689 53.27948, -6.54642 53...</td>\n",
       "    </tr>\n",
       "  </tbody>\n",
       "</table>\n",
       "</div>"
      ],
      "text/plain": [
       "      OSM_ID NAME_TAG              NAME_GA        NAME_EN ALT_NAME ALT_NAME_G  \\\n",
       "23 -282800.0   Dublin  Contae Ãtha Cliath  County Dublin     None       None   \n",
       "\n",
       "   LOGAINM_RE   OSM_USER              OSM_TIMEST ATTRIBUTIO  \\\n",
       "23     100002  mackerski  2009-10-07 01:32:34+02       None   \n",
       "\n",
       "                          T_IE_URL          AREA   LATITUDE  LONGITUDE  \\\n",
       "23  http://www.townlands.ie/dublin  9.290204e+08  53.392222  -6.283976   \n",
       "\n",
       "      EPOCH_TSTM                                           geometry  \n",
       "23  1.254872e+09  MULTIPOLYGON (((-6.54689 53.27948, -6.54642 53...  "
      ]
     },
     "execution_count": 286,
     "metadata": {},
     "output_type": "execute_result"
    }
   ],
   "source": [
    "dub = ROI_map.loc[ROI_map['NAME_TAG'] == 'Dublin']\n",
    "dub"
   ]
  },
  {
   "cell_type": "code",
   "execution_count": 287,
   "id": "74ae6c3c",
   "metadata": {},
   "outputs": [],
   "source": [
    "dub1 = dub[['NAME_TAG', 'LATITUDE', 'LONGITUDE', 'geometry']]"
   ]
  },
  {
   "cell_type": "code",
   "execution_count": 288,
   "id": "9586aa80",
   "metadata": {},
   "outputs": [
    {
     "data": {
      "text/plain": [
       "Text(0.5, 1.0, 'Plot of the Locations of Properties used in this dataset')"
      ]
     },
     "execution_count": 288,
     "metadata": {},
     "output_type": "execute_result"
    },
    {
     "data": {
      "image/png": "[encoded data removed]",
      "text/plain": [
       "<Figure size 1080x1080 with 1 Axes>"
      ]
     },
     "metadata": {
      "needs_background": "light"
     },
     "output_type": "display_data"
    }
   ],
   "source": [
    "fig, ax = plt.subplots(figsize = (15, 15))\n",
    "# O'Connell St. lat is 53.34975, and the longitude is -6.260113\n",
    "dub1.plot(ax = ax, color = 'silver')\n",
    "ax.axhline(y = 53.34975, color='r', linestyle = '--')\n",
    "plt.scatter(x = irl['Longitude'], y = irl['Latitude'], color = 'limegreen')\n",
    "plt.title('Plot of the Locations of Properties used in this dataset')"
   ]
  },
  {
   "cell_type": "markdown",
   "id": "5677aabb",
   "metadata": {},
   "source": [
    "### Location of Accurate VS Inaccurate"
   ]
  },
  {
   "cell_type": "code",
   "execution_count": 289,
   "id": "c187e046",
   "metadata": {},
   "outputs": [],
   "source": [
    "l1 = dfreal1.join(x_test_21[['Longitude', 'Latitude']])\n",
    "l2 = dfreal2.join(x_test_20[['Longitude', 'Latitude']])\n",
    "l3 = dfreal3.join(x_test_19[['Longitude', 'Latitude']])\n",
    "l4 = dfreal4.join(x_test_18[['Longitude', 'Latitude']])\n",
    "l5 = dfreal5.join(x_test_17[['Longitude', 'Latitude']])"
   ]
  },
  {
   "cell_type": "code",
   "execution_count": 290,
   "id": "99c8f9db",
   "metadata": {},
   "outputs": [],
   "source": [
    "plots = pd.concat([l1, l2, l3, l4, l5], ignore_index=True)"
   ]
  },
  {
   "cell_type": "code",
   "execution_count": 291,
   "id": "0bfe5e11",
   "metadata": {},
   "outputs": [],
   "source": [
    "plots.rename(columns = {0 : 'Actual'}, inplace = True)"
   ]
  },
  {
   "cell_type": "code",
   "execution_count": 292,
   "id": "459342c2",
   "metadata": {},
   "outputs": [
    {
     "data": {
      "text/html": [
       "<div>\n",
       "<style scoped>\n",
       "    .dataframe tbody tr th:only-of-type {\n",
       "        vertical-align: middle;\n",
       "    }\n",
       "\n",
       "    .dataframe tbody tr th {\n",
       "        vertical-align: top;\n",
       "    }\n",
       "\n",
       "    .dataframe thead th {\n",
       "        text-align: right;\n",
       "    }\n",
       "</style>\n",
       "<table border=\"1\" class=\"dataframe\">\n",
       "  <thead>\n",
       "    <tr style=\"text-align: right;\">\n",
       "      <th></th>\n",
       "      <th>Actual</th>\n",
       "      <th>Longitude</th>\n",
       "      <th>Latitude</th>\n",
       "      <th>Predicted</th>\n",
       "    </tr>\n",
       "  </thead>\n",
       "  <tbody>\n",
       "    <tr>\n",
       "      <th>0</th>\n",
       "      <td>12.716376</td>\n",
       "      <td>-6.433316</td>\n",
       "      <td>53.287576</td>\n",
       "      <td>12.776343</td>\n",
       "    </tr>\n",
       "    <tr>\n",
       "      <th>1</th>\n",
       "      <td>12.838977</td>\n",
       "      <td>-6.434182</td>\n",
       "      <td>53.286440</td>\n",
       "      <td>12.792749</td>\n",
       "    </tr>\n",
       "    <tr>\n",
       "      <th>2</th>\n",
       "      <td>13.164398</td>\n",
       "      <td>-6.127101</td>\n",
       "      <td>53.397993</td>\n",
       "      <td>12.615387</td>\n",
       "    </tr>\n",
       "    <tr>\n",
       "      <th>3</th>\n",
       "      <td>12.888984</td>\n",
       "      <td>-6.154503</td>\n",
       "      <td>53.404602</td>\n",
       "      <td>12.883091</td>\n",
       "    </tr>\n",
       "    <tr>\n",
       "      <th>4</th>\n",
       "      <td>12.744948</td>\n",
       "      <td>-6.434182</td>\n",
       "      <td>53.286440</td>\n",
       "      <td>12.792749</td>\n",
       "    </tr>\n",
       "  </tbody>\n",
       "</table>\n",
       "</div>"
      ],
      "text/plain": [
       "      Actual  Longitude   Latitude  Predicted\n",
       "0  12.716376  -6.433316  53.287576  12.776343\n",
       "1  12.838977  -6.434182  53.286440  12.792749\n",
       "2  13.164398  -6.127101  53.397993  12.615387\n",
       "3  12.888984  -6.154503  53.404602  12.883091\n",
       "4  12.744948  -6.434182  53.286440  12.792749"
      ]
     },
     "execution_count": 292,
     "metadata": {},
     "output_type": "execute_result"
    }
   ],
   "source": [
    "plotscomp = plots.join(pred)\n",
    "plotscomp.head()"
   ]
  },
  {
   "cell_type": "code",
   "execution_count": 293,
   "id": "5101985d",
   "metadata": {},
   "outputs": [],
   "source": [
    "exp1 = np.exp(plotscomp[['Actual', 'Predicted']])"
   ]
  },
  {
   "cell_type": "code",
   "execution_count": 294,
   "id": "5dfb576f",
   "metadata": {},
   "outputs": [],
   "source": [
    "exp1 = exp1.join(plotscomp[['Longitude', 'Latitude']])"
   ]
  },
  {
   "cell_type": "code",
   "execution_count": 295,
   "id": "6ee69988",
   "metadata": {},
   "outputs": [
    {
     "data": {
      "text/html": [
       "<div>\n",
       "<style scoped>\n",
       "    .dataframe tbody tr th:only-of-type {\n",
       "        vertical-align: middle;\n",
       "    }\n",
       "\n",
       "    .dataframe tbody tr th {\n",
       "        vertical-align: top;\n",
       "    }\n",
       "\n",
       "    .dataframe thead th {\n",
       "        text-align: right;\n",
       "    }\n",
       "</style>\n",
       "<table border=\"1\" class=\"dataframe\">\n",
       "  <thead>\n",
       "    <tr style=\"text-align: right;\">\n",
       "      <th></th>\n",
       "      <th>Actual</th>\n",
       "      <th>Predicted</th>\n",
       "      <th>Longitude</th>\n",
       "      <th>Latitude</th>\n",
       "    </tr>\n",
       "  </thead>\n",
       "  <tbody>\n",
       "    <tr>\n",
       "      <th>0</th>\n",
       "      <td>333159.38</td>\n",
       "      <td>353749.078668</td>\n",
       "      <td>-6.433316</td>\n",
       "      <td>53.287576</td>\n",
       "    </tr>\n",
       "    <tr>\n",
       "      <th>1</th>\n",
       "      <td>376614.28</td>\n",
       "      <td>359600.430268</td>\n",
       "      <td>-6.434182</td>\n",
       "      <td>53.286440</td>\n",
       "    </tr>\n",
       "    <tr>\n",
       "      <th>2</th>\n",
       "      <td>521465.42</td>\n",
       "      <td>301156.939950</td>\n",
       "      <td>-6.127101</td>\n",
       "      <td>53.397993</td>\n",
       "    </tr>\n",
       "    <tr>\n",
       "      <th>3</th>\n",
       "      <td>395926.60</td>\n",
       "      <td>393600.295695</td>\n",
       "      <td>-6.154503</td>\n",
       "      <td>53.404602</td>\n",
       "    </tr>\n",
       "    <tr>\n",
       "      <th>4</th>\n",
       "      <td>342815.54</td>\n",
       "      <td>359600.430268</td>\n",
       "      <td>-6.434182</td>\n",
       "      <td>53.286440</td>\n",
       "    </tr>\n",
       "  </tbody>\n",
       "</table>\n",
       "</div>"
      ],
      "text/plain": [
       "      Actual      Predicted  Longitude   Latitude\n",
       "0  333159.38  353749.078668  -6.433316  53.287576\n",
       "1  376614.28  359600.430268  -6.434182  53.286440\n",
       "2  521465.42  301156.939950  -6.127101  53.397993\n",
       "3  395926.60  393600.295695  -6.154503  53.404602\n",
       "4  342815.54  359600.430268  -6.434182  53.286440"
      ]
     },
     "execution_count": 295,
     "metadata": {},
     "output_type": "execute_result"
    }
   ],
   "source": [
    "exp1.head()"
   ]
  },
  {
   "cell_type": "code",
   "execution_count": 296,
   "id": "abe6b7e0",
   "metadata": {},
   "outputs": [],
   "source": [
    "num = 0.1\n",
    "lst = []\n",
    "test = np.array(exp1['Actual'])\n",
    "pred = np.array(exp1['Predicted'])\n",
    "count = 0\n",
    "for i in range(len(pred)):\n",
    "    if test[i] != 0:  \n",
    "        ten = test[i] * num\n",
    "        res = test[i] - pred[i]\n",
    "    else:\n",
    "        res = 0\n",
    "        ten = 0\n",
    "        \n",
    "    if res < 0:\n",
    "        res = res * -1\n",
    "    else:\n",
    "        res = res\n",
    "            \n",
    "    if res <= ten:\n",
    "        lst.append(1)\n",
    "    else:\n",
    "        lst.append(0)"
   ]
  },
  {
   "cell_type": "code",
   "execution_count": 297,
   "id": "8f5706fb",
   "metadata": {},
   "outputs": [],
   "source": [
    "exp1['Accurate'] = lst"
   ]
  },
  {
   "cell_type": "code",
   "execution_count": 298,
   "id": "13d0b051",
   "metadata": {},
   "outputs": [
    {
     "data": {
      "text/html": [
       "<div>\n",
       "<style scoped>\n",
       "    .dataframe tbody tr th:only-of-type {\n",
       "        vertical-align: middle;\n",
       "    }\n",
       "\n",
       "    .dataframe tbody tr th {\n",
       "        vertical-align: top;\n",
       "    }\n",
       "\n",
       "    .dataframe thead th {\n",
       "        text-align: right;\n",
       "    }\n",
       "</style>\n",
       "<table border=\"1\" class=\"dataframe\">\n",
       "  <thead>\n",
       "    <tr style=\"text-align: right;\">\n",
       "      <th></th>\n",
       "      <th>Actual</th>\n",
       "      <th>Predicted</th>\n",
       "      <th>Longitude</th>\n",
       "      <th>Latitude</th>\n",
       "      <th>Accurate</th>\n",
       "    </tr>\n",
       "  </thead>\n",
       "  <tbody>\n",
       "    <tr>\n",
       "      <th>0</th>\n",
       "      <td>333159.38</td>\n",
       "      <td>353749.078668</td>\n",
       "      <td>-6.433316</td>\n",
       "      <td>53.287576</td>\n",
       "      <td>1</td>\n",
       "    </tr>\n",
       "    <tr>\n",
       "      <th>1</th>\n",
       "      <td>376614.28</td>\n",
       "      <td>359600.430268</td>\n",
       "      <td>-6.434182</td>\n",
       "      <td>53.286440</td>\n",
       "      <td>1</td>\n",
       "    </tr>\n",
       "    <tr>\n",
       "      <th>2</th>\n",
       "      <td>521465.42</td>\n",
       "      <td>301156.939950</td>\n",
       "      <td>-6.127101</td>\n",
       "      <td>53.397993</td>\n",
       "      <td>0</td>\n",
       "    </tr>\n",
       "    <tr>\n",
       "      <th>3</th>\n",
       "      <td>395926.60</td>\n",
       "      <td>393600.295695</td>\n",
       "      <td>-6.154503</td>\n",
       "      <td>53.404602</td>\n",
       "      <td>1</td>\n",
       "    </tr>\n",
       "    <tr>\n",
       "      <th>4</th>\n",
       "      <td>342815.54</td>\n",
       "      <td>359600.430268</td>\n",
       "      <td>-6.434182</td>\n",
       "      <td>53.286440</td>\n",
       "      <td>1</td>\n",
       "    </tr>\n",
       "  </tbody>\n",
       "</table>\n",
       "</div>"
      ],
      "text/plain": [
       "      Actual      Predicted  Longitude   Latitude  Accurate\n",
       "0  333159.38  353749.078668  -6.433316  53.287576         1\n",
       "1  376614.28  359600.430268  -6.434182  53.286440         1\n",
       "2  521465.42  301156.939950  -6.127101  53.397993         0\n",
       "3  395926.60  393600.295695  -6.154503  53.404602         1\n",
       "4  342815.54  359600.430268  -6.434182  53.286440         1"
      ]
     },
     "execution_count": 298,
     "metadata": {},
     "output_type": "execute_result"
    }
   ],
   "source": [
    "exp1.head()"
   ]
  },
  {
   "cell_type": "code",
   "execution_count": 299,
   "id": "448af163",
   "metadata": {},
   "outputs": [
    {
     "data": {
      "image/png": "[encoded data removed]",
      "text/plain": [
       "<Figure size 1440x720 with 2 Axes>"
      ]
     },
     "metadata": {
      "needs_background": "light"
     },
     "output_type": "display_data"
    }
   ],
   "source": [
    "### RED = accurate , BLUE = Inaccurate\n",
    "fig, ax = plt.subplots(figsize = (20, 10))\n",
    "# O'Connell St. lat is 53.34975, and the longitude is -6.260113\n",
    "dub1.plot(ax = ax, color = 'lightgrey')\n",
    "ax.axhline(y = 53.34975, color = 'r', linestyle = '--')\n",
    "plt.scatter(x = exp1['Longitude'], y = exp1['Latitude'], c = exp1['Accurate'], cmap = 'bwr')\n",
    "plt.title('Plot of Locations of Accurately Predicted properties used in test dataset')\n",
    "plt.colorbar()\n",
    "plt.show()"
   ]
  }
 ],
 "metadata": {
  "kernelspec": {
   "display_name": "Python 3 (ipykernel)",
   "language": "python",
   "name": "python3"
  },
  "language_info": {
   "codemirror_mode": {
    "name": "ipython",
    "version": 3
   },
   "file_extension": ".py",
   "mimetype": "text/x-python",
   "name": "python",
   "nbconvert_exporter": "python",
   "pygments_lexer": "ipython3",
   "version": "3.8.12"
  }
 },
 "nbformat": 4,
 "nbformat_minor": 5
}
