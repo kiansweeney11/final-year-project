{
 "cells": [
  {
   "cell_type": "code",
   "execution_count": 1,
   "id": "384443d8",
   "metadata": {},
   "outputs": [
    {
     "name": "stdout",
     "output_type": "stream",
     "text": [
      "Imported sci-kit learn and AutoML libraries!\n"
     ]
    }
   ],
   "source": [
    "import pandas as pd\n",
    "import numpy as np\n",
    "from sklearn.datasets import make_classification\n",
    "from sklearn.model_selection import train_test_split\n",
    "import os\n",
    "from supervised.automl import AutoML\n",
    "import category_encoders as ce\n",
    "import math\n",
    "\n",
    "# visualization\n",
    "import seaborn as sns\n",
    "import matplotlib.pyplot as plt\n",
    "\n",
    "from sklearn.metrics import accuracy_score\n",
    "from sklearn.metrics import mean_squared_error\n",
    "from sklearn.model_selection import train_test_split\n",
    "from sklearn.model_selection import cross_val_score, GridSearchCV\n",
    "from sklearn.linear_model import LogisticRegression\n",
    "from sklearn.tree import DecisionTreeClassifier\n",
    "from sklearn.ensemble import RandomForestClassifier\n",
    "from category_encoders import TargetEncoder\n",
    "from sklearn.metrics import median_absolute_error\n",
    "print('Imported sci-kit learn and AutoML libraries!')"
   ]
  },
  {
   "cell_type": "markdown",
   "id": "2157b909",
   "metadata": {},
   "source": [
    "## Let's compare some other AutoML libraries to see if we can improve our results any further"
   ]
  },
  {
   "cell_type": "code",
   "execution_count": 2,
   "id": "3ff8d4da",
   "metadata": {},
   "outputs": [],
   "source": [
    "irl =  pd.read_csv('sub-dub-encoded.csv', index_col = 'Unnamed: 0')"
   ]
  },
  {
   "cell_type": "code",
   "execution_count": 3,
   "id": "77b09eb6",
   "metadata": {},
   "outputs": [],
   "source": [
    "irl1 = pd.read_csv('initial-ml-test-dub-1.csv', index_col = 'Unnamed: 0')"
   ]
  },
  {
   "cell_type": "code",
   "execution_count": 4,
   "id": "5c317fa1",
   "metadata": {},
   "outputs": [
    {
     "data": {
      "text/plain": [
       "207901    13.648757\n",
       "207905    13.532203\n",
       "207916    12.824045\n",
       "207925    12.099628\n",
       "207929    12.569631\n",
       "            ...    \n",
       "261963    12.936154\n",
       "261968    13.169684\n",
       "262028    12.542545\n",
       "262032    14.022525\n",
       "262033    13.617060\n",
       "Name: LogPrice (€), Length: 5386, dtype: float64"
      ]
     },
     "execution_count": 4,
     "metadata": {},
     "output_type": "execute_result"
    }
   ],
   "source": [
    "irl['LogPrice (€)']"
   ]
  },
  {
   "cell_type": "code",
   "execution_count": 5,
   "id": "bff2dac6",
   "metadata": {},
   "outputs": [
    {
     "data": {
      "text/html": [
       "<div>\n",
       "<style scoped>\n",
       "    .dataframe tbody tr th:only-of-type {\n",
       "        vertical-align: middle;\n",
       "    }\n",
       "\n",
       "    .dataframe tbody tr th {\n",
       "        vertical-align: top;\n",
       "    }\n",
       "\n",
       "    .dataframe thead th {\n",
       "        text-align: right;\n",
       "    }\n",
       "</style>\n",
       "<table border=\"1\" class=\"dataframe\">\n",
       "  <thead>\n",
       "    <tr style=\"text-align: right;\">\n",
       "      <th></th>\n",
       "      <th>UsedProperty</th>\n",
       "      <th>Property Size Description</th>\n",
       "      <th>Year</th>\n",
       "      <th>Month</th>\n",
       "      <th>Town</th>\n",
       "      <th>Apartment</th>\n",
       "      <th>Neighbourhood</th>\n",
       "      <th>Eircode</th>\n",
       "      <th>Latitude</th>\n",
       "      <th>Longitude</th>\n",
       "      <th>DistanceIFSC</th>\n",
       "      <th>DistanceSchool</th>\n",
       "      <th>DistancePark</th>\n",
       "      <th>DistanceSecSchool</th>\n",
       "      <th>LogPrice (€)</th>\n",
       "    </tr>\n",
       "  </thead>\n",
       "  <tbody>\n",
       "    <tr>\n",
       "      <th>207901</th>\n",
       "      <td>0</td>\n",
       "      <td>1</td>\n",
       "      <td>2014</td>\n",
       "      <td>1</td>\n",
       "      <td>601864.418417</td>\n",
       "      <td>0</td>\n",
       "      <td>899721.0</td>\n",
       "      <td>628715.337138</td>\n",
       "      <td>53.307878</td>\n",
       "      <td>-6.335665</td>\n",
       "      <td>7.541595</td>\n",
       "      <td>0.49212</td>\n",
       "      <td>1.438826</td>\n",
       "      <td>0.156609</td>\n",
       "      <td>13.648757</td>\n",
       "    </tr>\n",
       "  </tbody>\n",
       "</table>\n",
       "</div>"
      ],
      "text/plain": [
       "        UsedProperty  Property Size Description  Year  Month           Town  \\\n",
       "207901             0                          1  2014      1  601864.418417   \n",
       "\n",
       "        Apartment  Neighbourhood        Eircode   Latitude  Longitude  \\\n",
       "207901          0       899721.0  628715.337138  53.307878  -6.335665   \n",
       "\n",
       "        DistanceIFSC  DistanceSchool  DistancePark  DistanceSecSchool  \\\n",
       "207901      7.541595         0.49212      1.438826           0.156609   \n",
       "\n",
       "        LogPrice (€)  \n",
       "207901     13.648757  "
      ]
     },
     "execution_count": 5,
     "metadata": {},
     "output_type": "execute_result"
    }
   ],
   "source": [
    "irl.head(1)"
   ]
  },
  {
   "cell_type": "code",
   "execution_count": 6,
   "id": "1a6f04ad",
   "metadata": {},
   "outputs": [
    {
     "data": {
      "text/html": [
       "<div>\n",
       "<style scoped>\n",
       "    .dataframe tbody tr th:only-of-type {\n",
       "        vertical-align: middle;\n",
       "    }\n",
       "\n",
       "    .dataframe tbody tr th {\n",
       "        vertical-align: top;\n",
       "    }\n",
       "\n",
       "    .dataframe thead th {\n",
       "        text-align: right;\n",
       "    }\n",
       "</style>\n",
       "<table border=\"1\" class=\"dataframe\">\n",
       "  <thead>\n",
       "    <tr style=\"text-align: right;\">\n",
       "      <th></th>\n",
       "      <th>Address</th>\n",
       "      <th>County</th>\n",
       "      <th>Price (€)</th>\n",
       "      <th>VAT Exclusive</th>\n",
       "      <th>UsedProperty</th>\n",
       "      <th>Property Size Description</th>\n",
       "      <th>Year</th>\n",
       "      <th>Month</th>\n",
       "      <th>Town</th>\n",
       "      <th>Apartment</th>\n",
       "      <th>...</th>\n",
       "      <th>DistanceIFSC</th>\n",
       "      <th>DistanceSchool</th>\n",
       "      <th>DistancePark</th>\n",
       "      <th>DistanceLuas</th>\n",
       "      <th>DistanceSecSchool</th>\n",
       "      <th>DistanceGPO</th>\n",
       "      <th>DistanceHospital</th>\n",
       "      <th>DistanceBeach</th>\n",
       "      <th>DistanceCar</th>\n",
       "      <th>DistanceShops</th>\n",
       "    </tr>\n",
       "  </thead>\n",
       "  <tbody>\n",
       "    <tr>\n",
       "      <th>207901</th>\n",
       "      <td>55 College Square, Terenure</td>\n",
       "      <td>Dublin</td>\n",
       "      <td>447200.0</td>\n",
       "      <td>0</td>\n",
       "      <td>0</td>\n",
       "      <td>1</td>\n",
       "      <td>2014</td>\n",
       "      <td>1</td>\n",
       "      <td>Terenure</td>\n",
       "      <td>0</td>\n",
       "      <td>...</td>\n",
       "      <td>7.541595</td>\n",
       "      <td>0.49212</td>\n",
       "      <td>1.438826</td>\n",
       "      <td>2.020029</td>\n",
       "      <td>0.156609</td>\n",
       "      <td>6.587209</td>\n",
       "      <td>2.344404</td>\n",
       "      <td>18.071721</td>\n",
       "      <td>5.4279</td>\n",
       "      <td>3.568079</td>\n",
       "    </tr>\n",
       "  </tbody>\n",
       "</table>\n",
       "<p>1 rows × 25 columns</p>\n",
       "</div>"
      ],
      "text/plain": [
       "                            Address  County  Price (€)  VAT Exclusive  \\\n",
       "207901  55 College Square, Terenure  Dublin   447200.0              0   \n",
       "\n",
       "        UsedProperty  Property Size Description  Year  Month      Town  \\\n",
       "207901             0                          1  2014      1  Terenure   \n",
       "\n",
       "        Apartment  ... DistanceIFSC  DistanceSchool DistancePark  \\\n",
       "207901          0  ...     7.541595         0.49212     1.438826   \n",
       "\n",
       "        DistanceLuas  DistanceSecSchool  DistanceGPO  DistanceHospital  \\\n",
       "207901      2.020029           0.156609     6.587209          2.344404   \n",
       "\n",
       "        DistanceBeach  DistanceCar  DistanceShops  \n",
       "207901      18.071721       5.4279       3.568079  \n",
       "\n",
       "[1 rows x 25 columns]"
      ]
     },
     "execution_count": 6,
     "metadata": {},
     "output_type": "execute_result"
    }
   ],
   "source": [
    "irl1.head(1)"
   ]
  },
  {
   "cell_type": "code",
   "execution_count": 7,
   "id": "3a5969d4",
   "metadata": {},
   "outputs": [],
   "source": [
    "irl.drop(columns = ['Longitude', 'Latitude', 'LogPrice (€)', 'Town', 'Neighbourhood', 'Eircode'], inplace = True)"
   ]
  },
  {
   "cell_type": "code",
   "execution_count": 8,
   "id": "aaeec4c4",
   "metadata": {},
   "outputs": [
    {
     "data": {
      "text/html": [
       "<div>\n",
       "<style scoped>\n",
       "    .dataframe tbody tr th:only-of-type {\n",
       "        vertical-align: middle;\n",
       "    }\n",
       "\n",
       "    .dataframe tbody tr th {\n",
       "        vertical-align: top;\n",
       "    }\n",
       "\n",
       "    .dataframe thead th {\n",
       "        text-align: right;\n",
       "    }\n",
       "</style>\n",
       "<table border=\"1\" class=\"dataframe\">\n",
       "  <thead>\n",
       "    <tr style=\"text-align: right;\">\n",
       "      <th></th>\n",
       "      <th>Address</th>\n",
       "      <th>County</th>\n",
       "      <th>Price (€)</th>\n",
       "      <th>VAT Exclusive</th>\n",
       "      <th>UsedProperty</th>\n",
       "      <th>Property Size Description</th>\n",
       "      <th>Year</th>\n",
       "      <th>Month</th>\n",
       "      <th>Town</th>\n",
       "      <th>Apartment</th>\n",
       "      <th>...</th>\n",
       "      <th>DistanceIFSC</th>\n",
       "      <th>DistanceSchool</th>\n",
       "      <th>DistancePark</th>\n",
       "      <th>DistanceLuas</th>\n",
       "      <th>DistanceSecSchool</th>\n",
       "      <th>DistanceGPO</th>\n",
       "      <th>DistanceHospital</th>\n",
       "      <th>DistanceBeach</th>\n",
       "      <th>DistanceCar</th>\n",
       "      <th>DistanceShops</th>\n",
       "    </tr>\n",
       "  </thead>\n",
       "  <tbody>\n",
       "    <tr>\n",
       "      <th>207901</th>\n",
       "      <td>55 College Square, Terenure</td>\n",
       "      <td>Dublin</td>\n",
       "      <td>447200.00</td>\n",
       "      <td>0</td>\n",
       "      <td>0</td>\n",
       "      <td>1</td>\n",
       "      <td>2014</td>\n",
       "      <td>1</td>\n",
       "      <td>Terenure</td>\n",
       "      <td>0</td>\n",
       "      <td>...</td>\n",
       "      <td>7.541595</td>\n",
       "      <td>0.492120</td>\n",
       "      <td>1.438826</td>\n",
       "      <td>2.020029</td>\n",
       "      <td>0.156609</td>\n",
       "      <td>6.587209</td>\n",
       "      <td>2.344404</td>\n",
       "      <td>18.071721</td>\n",
       "      <td>5.427900</td>\n",
       "      <td>3.568079</td>\n",
       "    </tr>\n",
       "    <tr>\n",
       "      <th>207905</th>\n",
       "      <td>Number 7 Belfort House, Sydenham Villas, Dundrum</td>\n",
       "      <td>Dublin</td>\n",
       "      <td>398000.00</td>\n",
       "      <td>1</td>\n",
       "      <td>1</td>\n",
       "      <td>0</td>\n",
       "      <td>2014</td>\n",
       "      <td>1</td>\n",
       "      <td>Dundrum Dublin</td>\n",
       "      <td>0</td>\n",
       "      <td>...</td>\n",
       "      <td>6.817210</td>\n",
       "      <td>0.100996</td>\n",
       "      <td>2.784711</td>\n",
       "      <td>0.274841</td>\n",
       "      <td>0.831639</td>\n",
       "      <td>7.118560</td>\n",
       "      <td>3.635958</td>\n",
       "      <td>14.874822</td>\n",
       "      <td>5.905557</td>\n",
       "      <td>0.255856</td>\n",
       "    </tr>\n",
       "    <tr>\n",
       "      <th>207916</th>\n",
       "      <td>Apartment 16 Cedar Grove, Firhouse Road, Templ...</td>\n",
       "      <td>Dublin</td>\n",
       "      <td>196035.24</td>\n",
       "      <td>0</td>\n",
       "      <td>0</td>\n",
       "      <td>1</td>\n",
       "      <td>2014</td>\n",
       "      <td>1</td>\n",
       "      <td>Templeogue</td>\n",
       "      <td>1</td>\n",
       "      <td>...</td>\n",
       "      <td>7.799393</td>\n",
       "      <td>0.683556</td>\n",
       "      <td>3.098765</td>\n",
       "      <td>3.760897</td>\n",
       "      <td>0.968202</td>\n",
       "      <td>7.197697</td>\n",
       "      <td>3.879724</td>\n",
       "      <td>17.923987</td>\n",
       "      <td>6.179356</td>\n",
       "      <td>3.002563</td>\n",
       "    </tr>\n",
       "    <tr>\n",
       "      <th>207925</th>\n",
       "      <td>75 Palmerstown Avenue, Palmerstown</td>\n",
       "      <td>Dublin</td>\n",
       "      <td>95000.00</td>\n",
       "      <td>1</td>\n",
       "      <td>1</td>\n",
       "      <td>1</td>\n",
       "      <td>2014</td>\n",
       "      <td>1</td>\n",
       "      <td>Palmerstown</td>\n",
       "      <td>0</td>\n",
       "      <td>...</td>\n",
       "      <td>8.400802</td>\n",
       "      <td>0.319564</td>\n",
       "      <td>1.909348</td>\n",
       "      <td>3.576775</td>\n",
       "      <td>0.262801</td>\n",
       "      <td>7.051363</td>\n",
       "      <td>3.811554</td>\n",
       "      <td>18.189754</td>\n",
       "      <td>6.208934</td>\n",
       "      <td>1.206681</td>\n",
       "    </tr>\n",
       "    <tr>\n",
       "      <th>207929</th>\n",
       "      <td>17 Churchview Apts, Church Rd, Drumcondra</td>\n",
       "      <td>Dublin</td>\n",
       "      <td>152000.00</td>\n",
       "      <td>1</td>\n",
       "      <td>1</td>\n",
       "      <td>2</td>\n",
       "      <td>2014</td>\n",
       "      <td>1</td>\n",
       "      <td>Drumcondra</td>\n",
       "      <td>1</td>\n",
       "      <td>...</td>\n",
       "      <td>2.225835</td>\n",
       "      <td>0.085034</td>\n",
       "      <td>0.909828</td>\n",
       "      <td>1.942439</td>\n",
       "      <td>0.597393</td>\n",
       "      <td>1.805008</td>\n",
       "      <td>0.902578</td>\n",
       "      <td>10.897507</td>\n",
       "      <td>1.587952</td>\n",
       "      <td>1.815296</td>\n",
       "    </tr>\n",
       "  </tbody>\n",
       "</table>\n",
       "<p>5 rows × 25 columns</p>\n",
       "</div>"
      ],
      "text/plain": [
       "                                                  Address  County  Price (€)  \\\n",
       "207901                        55 College Square, Terenure  Dublin  447200.00   \n",
       "207905   Number 7 Belfort House, Sydenham Villas, Dundrum  Dublin  398000.00   \n",
       "207916  Apartment 16 Cedar Grove, Firhouse Road, Templ...  Dublin  196035.24   \n",
       "207925                 75 Palmerstown Avenue, Palmerstown  Dublin   95000.00   \n",
       "207929          17 Churchview Apts, Church Rd, Drumcondra  Dublin  152000.00   \n",
       "\n",
       "        VAT Exclusive  UsedProperty  Property Size Description  Year  Month  \\\n",
       "207901              0             0                          1  2014      1   \n",
       "207905              1             1                          0  2014      1   \n",
       "207916              0             0                          1  2014      1   \n",
       "207925              1             1                          1  2014      1   \n",
       "207929              1             1                          2  2014      1   \n",
       "\n",
       "                  Town  Apartment  ... DistanceIFSC  DistanceSchool  \\\n",
       "207901        Terenure          0  ...     7.541595        0.492120   \n",
       "207905  Dundrum Dublin          0  ...     6.817210        0.100996   \n",
       "207916      Templeogue          1  ...     7.799393        0.683556   \n",
       "207925     Palmerstown          0  ...     8.400802        0.319564   \n",
       "207929      Drumcondra          1  ...     2.225835        0.085034   \n",
       "\n",
       "       DistancePark  DistanceLuas  DistanceSecSchool  DistanceGPO  \\\n",
       "207901     1.438826      2.020029           0.156609     6.587209   \n",
       "207905     2.784711      0.274841           0.831639     7.118560   \n",
       "207916     3.098765      3.760897           0.968202     7.197697   \n",
       "207925     1.909348      3.576775           0.262801     7.051363   \n",
       "207929     0.909828      1.942439           0.597393     1.805008   \n",
       "\n",
       "        DistanceHospital  DistanceBeach  DistanceCar  DistanceShops  \n",
       "207901          2.344404      18.071721     5.427900       3.568079  \n",
       "207905          3.635958      14.874822     5.905557       0.255856  \n",
       "207916          3.879724      17.923987     6.179356       3.002563  \n",
       "207925          3.811554      18.189754     6.208934       1.206681  \n",
       "207929          0.902578      10.897507     1.587952       1.815296  \n",
       "\n",
       "[5 rows x 25 columns]"
      ]
     },
     "execution_count": 8,
     "metadata": {},
     "output_type": "execute_result"
    }
   ],
   "source": [
    "irl1.head()"
   ]
  },
  {
   "cell_type": "code",
   "execution_count": 9,
   "id": "5aff74c9",
   "metadata": {},
   "outputs": [
    {
     "data": {
      "text/html": [
       "<div>\n",
       "<style scoped>\n",
       "    .dataframe tbody tr th:only-of-type {\n",
       "        vertical-align: middle;\n",
       "    }\n",
       "\n",
       "    .dataframe tbody tr th {\n",
       "        vertical-align: top;\n",
       "    }\n",
       "\n",
       "    .dataframe thead th {\n",
       "        text-align: right;\n",
       "    }\n",
       "</style>\n",
       "<table border=\"1\" class=\"dataframe\">\n",
       "  <thead>\n",
       "    <tr style=\"text-align: right;\">\n",
       "      <th></th>\n",
       "      <th>UsedProperty</th>\n",
       "      <th>Property Size Description</th>\n",
       "      <th>Year</th>\n",
       "      <th>Month</th>\n",
       "      <th>Apartment</th>\n",
       "      <th>DistanceIFSC</th>\n",
       "      <th>DistanceSchool</th>\n",
       "      <th>DistancePark</th>\n",
       "      <th>DistanceSecSchool</th>\n",
       "    </tr>\n",
       "  </thead>\n",
       "  <tbody>\n",
       "    <tr>\n",
       "      <th>207901</th>\n",
       "      <td>0</td>\n",
       "      <td>1</td>\n",
       "      <td>2014</td>\n",
       "      <td>1</td>\n",
       "      <td>0</td>\n",
       "      <td>7.541595</td>\n",
       "      <td>0.492120</td>\n",
       "      <td>1.438826</td>\n",
       "      <td>0.156609</td>\n",
       "    </tr>\n",
       "    <tr>\n",
       "      <th>207905</th>\n",
       "      <td>1</td>\n",
       "      <td>0</td>\n",
       "      <td>2014</td>\n",
       "      <td>1</td>\n",
       "      <td>0</td>\n",
       "      <td>6.817210</td>\n",
       "      <td>0.100996</td>\n",
       "      <td>2.784711</td>\n",
       "      <td>0.831639</td>\n",
       "    </tr>\n",
       "    <tr>\n",
       "      <th>207916</th>\n",
       "      <td>0</td>\n",
       "      <td>1</td>\n",
       "      <td>2014</td>\n",
       "      <td>1</td>\n",
       "      <td>1</td>\n",
       "      <td>7.799393</td>\n",
       "      <td>0.683556</td>\n",
       "      <td>3.098765</td>\n",
       "      <td>0.968202</td>\n",
       "    </tr>\n",
       "    <tr>\n",
       "      <th>207925</th>\n",
       "      <td>1</td>\n",
       "      <td>1</td>\n",
       "      <td>2014</td>\n",
       "      <td>1</td>\n",
       "      <td>0</td>\n",
       "      <td>8.400802</td>\n",
       "      <td>0.319564</td>\n",
       "      <td>1.909348</td>\n",
       "      <td>0.262801</td>\n",
       "    </tr>\n",
       "    <tr>\n",
       "      <th>207929</th>\n",
       "      <td>1</td>\n",
       "      <td>2</td>\n",
       "      <td>2014</td>\n",
       "      <td>1</td>\n",
       "      <td>1</td>\n",
       "      <td>2.225835</td>\n",
       "      <td>0.085034</td>\n",
       "      <td>0.909828</td>\n",
       "      <td>0.597393</td>\n",
       "    </tr>\n",
       "  </tbody>\n",
       "</table>\n",
       "</div>"
      ],
      "text/plain": [
       "        UsedProperty  Property Size Description  Year  Month  Apartment  \\\n",
       "207901             0                          1  2014      1          0   \n",
       "207905             1                          0  2014      1          0   \n",
       "207916             0                          1  2014      1          1   \n",
       "207925             1                          1  2014      1          0   \n",
       "207929             1                          2  2014      1          1   \n",
       "\n",
       "        DistanceIFSC  DistanceSchool  DistancePark  DistanceSecSchool  \n",
       "207901      7.541595        0.492120      1.438826           0.156609  \n",
       "207905      6.817210        0.100996      2.784711           0.831639  \n",
       "207916      7.799393        0.683556      3.098765           0.968202  \n",
       "207925      8.400802        0.319564      1.909348           0.262801  \n",
       "207929      2.225835        0.085034      0.909828           0.597393  "
      ]
     },
     "execution_count": 9,
     "metadata": {},
     "output_type": "execute_result"
    }
   ],
   "source": [
    "irl.head()"
   ]
  },
  {
   "cell_type": "code",
   "execution_count": 10,
   "id": "47b1eb88",
   "metadata": {},
   "outputs": [],
   "source": [
    "irl = irl.join(irl1[['Longitude', 'Latitude', 'Price (€)', 'Town', 'Neighbourhood', 'Eircode']])"
   ]
  },
  {
   "cell_type": "code",
   "execution_count": 11,
   "id": "e9d0df1a",
   "metadata": {},
   "outputs": [
    {
     "data": {
      "text/html": [
       "<div>\n",
       "<style scoped>\n",
       "    .dataframe tbody tr th:only-of-type {\n",
       "        vertical-align: middle;\n",
       "    }\n",
       "\n",
       "    .dataframe tbody tr th {\n",
       "        vertical-align: top;\n",
       "    }\n",
       "\n",
       "    .dataframe thead th {\n",
       "        text-align: right;\n",
       "    }\n",
       "</style>\n",
       "<table border=\"1\" class=\"dataframe\">\n",
       "  <thead>\n",
       "    <tr style=\"text-align: right;\">\n",
       "      <th></th>\n",
       "      <th>UsedProperty</th>\n",
       "      <th>Property Size Description</th>\n",
       "      <th>Year</th>\n",
       "      <th>Month</th>\n",
       "      <th>Apartment</th>\n",
       "      <th>DistanceIFSC</th>\n",
       "      <th>DistanceSchool</th>\n",
       "      <th>DistancePark</th>\n",
       "      <th>DistanceSecSchool</th>\n",
       "      <th>Longitude</th>\n",
       "      <th>Latitude</th>\n",
       "      <th>Price (€)</th>\n",
       "      <th>Town</th>\n",
       "      <th>Neighbourhood</th>\n",
       "      <th>Eircode</th>\n",
       "    </tr>\n",
       "  </thead>\n",
       "  <tbody>\n",
       "    <tr>\n",
       "      <th>207901</th>\n",
       "      <td>0</td>\n",
       "      <td>1</td>\n",
       "      <td>2014</td>\n",
       "      <td>1</td>\n",
       "      <td>0</td>\n",
       "      <td>7.541595</td>\n",
       "      <td>0.49212</td>\n",
       "      <td>1.438826</td>\n",
       "      <td>0.156609</td>\n",
       "      <td>-6.335665</td>\n",
       "      <td>53.307878</td>\n",
       "      <td>447200.0</td>\n",
       "      <td>Terenure</td>\n",
       "      <td>College Square Terenure</td>\n",
       "      <td>D6W</td>\n",
       "    </tr>\n",
       "  </tbody>\n",
       "</table>\n",
       "</div>"
      ],
      "text/plain": [
       "        UsedProperty  Property Size Description  Year  Month  Apartment  \\\n",
       "207901             0                          1  2014      1          0   \n",
       "\n",
       "        DistanceIFSC  DistanceSchool  DistancePark  DistanceSecSchool  \\\n",
       "207901      7.541595         0.49212      1.438826           0.156609   \n",
       "\n",
       "        Longitude   Latitude  Price (€)      Town            Neighbourhood  \\\n",
       "207901  -6.335665  53.307878   447200.0  Terenure  College Square Terenure   \n",
       "\n",
       "       Eircode  \n",
       "207901     D6W  "
      ]
     },
     "execution_count": 11,
     "metadata": {},
     "output_type": "execute_result"
    }
   ],
   "source": [
    "irl.head(1)"
   ]
  },
  {
   "cell_type": "code",
   "execution_count": 12,
   "id": "246521ee",
   "metadata": {},
   "outputs": [],
   "source": [
    "encoder = TargetEncoder()\n",
    "irl['Town'] = encoder.fit_transform(irl['Town'], irl['Price (€)'])"
   ]
  },
  {
   "cell_type": "code",
   "execution_count": 13,
   "id": "9c1cf820",
   "metadata": {},
   "outputs": [],
   "source": [
    "encoder = TargetEncoder()\n",
    "irl['Neighbourhood'] = encoder.fit_transform(irl['Neighbourhood'], irl['Price (€)'])"
   ]
  },
  {
   "cell_type": "code",
   "execution_count": 14,
   "id": "de61f7c4",
   "metadata": {},
   "outputs": [],
   "source": [
    "encoder = TargetEncoder()\n",
    "irl['Eircode'] = encoder.fit_transform(irl['Eircode'], irl['Price (€)'])"
   ]
  },
  {
   "cell_type": "code",
   "execution_count": 15,
   "id": "8200428e",
   "metadata": {},
   "outputs": [
    {
     "data": {
      "text/html": [
       "<div>\n",
       "<style scoped>\n",
       "    .dataframe tbody tr th:only-of-type {\n",
       "        vertical-align: middle;\n",
       "    }\n",
       "\n",
       "    .dataframe tbody tr th {\n",
       "        vertical-align: top;\n",
       "    }\n",
       "\n",
       "    .dataframe thead th {\n",
       "        text-align: right;\n",
       "    }\n",
       "</style>\n",
       "<table border=\"1\" class=\"dataframe\">\n",
       "  <thead>\n",
       "    <tr style=\"text-align: right;\">\n",
       "      <th></th>\n",
       "      <th>UsedProperty</th>\n",
       "      <th>Property Size Description</th>\n",
       "      <th>Year</th>\n",
       "      <th>Month</th>\n",
       "      <th>Apartment</th>\n",
       "      <th>DistanceIFSC</th>\n",
       "      <th>DistanceSchool</th>\n",
       "      <th>DistancePark</th>\n",
       "      <th>DistanceSecSchool</th>\n",
       "      <th>Longitude</th>\n",
       "      <th>Latitude</th>\n",
       "      <th>Town</th>\n",
       "      <th>Neighbourhood</th>\n",
       "      <th>Eircode</th>\n",
       "      <th>LogPrice (€)</th>\n",
       "    </tr>\n",
       "  </thead>\n",
       "  <tbody>\n",
       "    <tr>\n",
       "      <th>207901</th>\n",
       "      <td>0</td>\n",
       "      <td>1</td>\n",
       "      <td>2014</td>\n",
       "      <td>1</td>\n",
       "      <td>0</td>\n",
       "      <td>7.541595</td>\n",
       "      <td>0.492120</td>\n",
       "      <td>1.438826</td>\n",
       "      <td>0.156609</td>\n",
       "      <td>-6.335665</td>\n",
       "      <td>53.307878</td>\n",
       "      <td>428603.796167</td>\n",
       "      <td>5.950927e+05</td>\n",
       "      <td>454593.516700</td>\n",
       "      <td>13.010761</td>\n",
       "    </tr>\n",
       "    <tr>\n",
       "      <th>207905</th>\n",
       "      <td>1</td>\n",
       "      <td>0</td>\n",
       "      <td>2014</td>\n",
       "      <td>1</td>\n",
       "      <td>0</td>\n",
       "      <td>6.817210</td>\n",
       "      <td>0.100996</td>\n",
       "      <td>2.784711</td>\n",
       "      <td>0.831639</td>\n",
       "      <td>-6.238896</td>\n",
       "      <td>53.288227</td>\n",
       "      <td>499010.652149</td>\n",
       "      <td>1.120920e+06</td>\n",
       "      <td>499010.652149</td>\n",
       "      <td>12.894207</td>\n",
       "    </tr>\n",
       "    <tr>\n",
       "      <th>207916</th>\n",
       "      <td>0</td>\n",
       "      <td>1</td>\n",
       "      <td>2014</td>\n",
       "      <td>1</td>\n",
       "      <td>1</td>\n",
       "      <td>7.799393</td>\n",
       "      <td>0.683556</td>\n",
       "      <td>3.098765</td>\n",
       "      <td>0.968202</td>\n",
       "      <td>-6.312400</td>\n",
       "      <td>53.291600</td>\n",
       "      <td>564023.918947</td>\n",
       "      <td>4.362543e+05</td>\n",
       "      <td>454593.516700</td>\n",
       "      <td>12.186050</td>\n",
       "    </tr>\n",
       "    <tr>\n",
       "      <th>207925</th>\n",
       "      <td>1</td>\n",
       "      <td>1</td>\n",
       "      <td>2014</td>\n",
       "      <td>1</td>\n",
       "      <td>0</td>\n",
       "      <td>8.400802</td>\n",
       "      <td>0.319564</td>\n",
       "      <td>1.909348</td>\n",
       "      <td>0.262801</td>\n",
       "      <td>-6.372213</td>\n",
       "      <td>53.353853</td>\n",
       "      <td>319537.941091</td>\n",
       "      <td>2.319509e+05</td>\n",
       "      <td>317917.959890</td>\n",
       "      <td>11.461632</td>\n",
       "    </tr>\n",
       "    <tr>\n",
       "      <th>207929</th>\n",
       "      <td>1</td>\n",
       "      <td>2</td>\n",
       "      <td>2014</td>\n",
       "      <td>1</td>\n",
       "      <td>1</td>\n",
       "      <td>2.225835</td>\n",
       "      <td>0.085034</td>\n",
       "      <td>0.909828</td>\n",
       "      <td>0.597393</td>\n",
       "      <td>-6.263792</td>\n",
       "      <td>53.366311</td>\n",
       "      <td>428629.688519</td>\n",
       "      <td>1.728438e+05</td>\n",
       "      <td>305517.216068</td>\n",
       "      <td>11.931636</td>\n",
       "    </tr>\n",
       "  </tbody>\n",
       "</table>\n",
       "</div>"
      ],
      "text/plain": [
       "        UsedProperty  Property Size Description  Year  Month  Apartment  \\\n",
       "207901             0                          1  2014      1          0   \n",
       "207905             1                          0  2014      1          0   \n",
       "207916             0                          1  2014      1          1   \n",
       "207925             1                          1  2014      1          0   \n",
       "207929             1                          2  2014      1          1   \n",
       "\n",
       "        DistanceIFSC  DistanceSchool  DistancePark  DistanceSecSchool  \\\n",
       "207901      7.541595        0.492120      1.438826           0.156609   \n",
       "207905      6.817210        0.100996      2.784711           0.831639   \n",
       "207916      7.799393        0.683556      3.098765           0.968202   \n",
       "207925      8.400802        0.319564      1.909348           0.262801   \n",
       "207929      2.225835        0.085034      0.909828           0.597393   \n",
       "\n",
       "        Longitude   Latitude           Town  Neighbourhood        Eircode  \\\n",
       "207901  -6.335665  53.307878  428603.796167   5.950927e+05  454593.516700   \n",
       "207905  -6.238896  53.288227  499010.652149   1.120920e+06  499010.652149   \n",
       "207916  -6.312400  53.291600  564023.918947   4.362543e+05  454593.516700   \n",
       "207925  -6.372213  53.353853  319537.941091   2.319509e+05  317917.959890   \n",
       "207929  -6.263792  53.366311  428629.688519   1.728438e+05  305517.216068   \n",
       "\n",
       "        LogPrice (€)  \n",
       "207901     13.010761  \n",
       "207905     12.894207  \n",
       "207916     12.186050  \n",
       "207925     11.461632  \n",
       "207929     11.931636  "
      ]
     },
     "execution_count": 15,
     "metadata": {},
     "output_type": "execute_result"
    }
   ],
   "source": [
    "irl['LogPrice (€)'] = np.log(irl['Price (€)'])\n",
    "irl.drop(columns = ['Price (€)'], inplace = True)\n",
    "irl.head()"
   ]
  },
  {
   "cell_type": "code",
   "execution_count": 16,
   "id": "85cd1ebd",
   "metadata": {},
   "outputs": [
    {
     "data": {
      "text/plain": [
       "207901    13.010761\n",
       "207905    12.894207\n",
       "207916    12.186050\n",
       "207925    11.461632\n",
       "207929    11.931636\n",
       "            ...    \n",
       "261963    12.936154\n",
       "261968    13.169684\n",
       "262028    12.542545\n",
       "262032    14.022525\n",
       "262033    13.617060\n",
       "Name: LogPrice (€), Length: 5386, dtype: float64"
      ]
     },
     "execution_count": 16,
     "metadata": {},
     "output_type": "execute_result"
    }
   ],
   "source": [
    "# actual price not inflated prices now\n",
    "# worth maybe looking at changing target encoding to focus on this so? just to see\n",
    "irl['LogPrice (€)']"
   ]
  },
  {
   "cell_type": "code",
   "execution_count": 17,
   "id": "7da6a18c",
   "metadata": {},
   "outputs": [],
   "source": [
    "# this function finds all values that fall within internationally accepted +-10% of actual prices in our predictions\n",
    "# we can modify the threshold as we feel the need to here\n",
    "def accuracy_threshold(test, pred, num):\n",
    "    test = np.array(test)\n",
    "    pred = np.array(pred)\n",
    "# get within x% of actual price , not within log price as this will be misleading / incorrect\n",
    "    test = np.exp(test)\n",
    "    pred = np.exp(pred)\n",
    "    count = 0\n",
    "    for i in range(len(pred)):\n",
    "        if test[i] != 0:  \n",
    "            ten = test[i] * num\n",
    "            res = test[i] - pred[i]\n",
    "        else:\n",
    "            res = 0\n",
    "            ten = 0\n",
    "        \n",
    "        if res < 0:\n",
    "            res = res * -1\n",
    "        else:\n",
    "            res = res\n",
    "            \n",
    "        if res <= ten:\n",
    "            count += 1\n",
    "        else:\n",
    "            continue\n",
    "    return (count / len(test))"
   ]
  },
  {
   "cell_type": "code",
   "execution_count": 18,
   "id": "86f436dc",
   "metadata": {},
   "outputs": [],
   "source": [
    "from tpot import TPOTRegressor\n",
    "from sklearn.model_selection import RepeatedKFold"
   ]
  },
  {
   "cell_type": "markdown",
   "id": "565a9cfb",
   "metadata": {},
   "source": [
    "## 2021"
   ]
  },
  {
   "cell_type": "markdown",
   "id": "bc44a426",
   "metadata": {},
   "source": [
    "### TPOT"
   ]
  },
  {
   "cell_type": "code",
   "execution_count": 19,
   "id": "55e539b6",
   "metadata": {},
   "outputs": [],
   "source": [
    "specific21 = irl[irl['Year'] > 2017]"
   ]
  },
  {
   "cell_type": "code",
   "execution_count": 20,
   "id": "8d93800f",
   "metadata": {},
   "outputs": [],
   "source": [
    "train_21 = specific21[specific21['Year'] < 2021]"
   ]
  },
  {
   "cell_type": "code",
   "execution_count": 21,
   "id": "efd7b7dc",
   "metadata": {},
   "outputs": [],
   "source": [
    "test_21 = specific21[specific21['Year'] == 2021]"
   ]
  },
  {
   "cell_type": "code",
   "execution_count": 22,
   "id": "368bb2e2",
   "metadata": {},
   "outputs": [],
   "source": [
    "x_train_21 = train_21.loc[:, train_21.columns != 'LogPrice (€)']\n",
    "y_train_21 = train_21['LogPrice (€)']"
   ]
  },
  {
   "cell_type": "code",
   "execution_count": 23,
   "id": "2eeb6f81",
   "metadata": {},
   "outputs": [],
   "source": [
    "x_test_21 = test_21.loc[:, test_21.columns != 'LogPrice (€)']\n",
    "y_test_21 = test_21['LogPrice (€)']"
   ]
  },
  {
   "cell_type": "code",
   "execution_count": 24,
   "id": "1073c7fa",
   "metadata": {},
   "outputs": [],
   "source": [
    "#cv = RepeatedKFold(n_splits = 10, n_repeats = 3, random_state = 1)\n",
    "# define search\n",
    "model = TPOTRegressor(max_time_mins = 6)\n",
    "model1 = model.fit(x_train_21, y_train_21)"
   ]
  },
  {
   "cell_type": "code",
   "execution_count": 25,
   "id": "33321d75",
   "metadata": {},
   "outputs": [],
   "source": [
    "#model1.export('tpot_2021_pipeline-standard-price.py')"
   ]
  },
  {
   "cell_type": "code",
   "execution_count": 26,
   "id": "bce6b573",
   "metadata": {},
   "outputs": [
    {
     "name": "stdout",
     "output_type": "stream",
     "text": [
      "MSE for TPOT AutoML 2021 is: 0.0866646787130433\n"
     ]
    },
    {
     "name": "stderr",
     "output_type": "stream",
     "text": [
      "X does not have valid feature names, but LassoLarsCV was fitted with feature names\n"
     ]
    }
   ],
   "source": [
    "# calculated values\n",
    "from sklearn.metrics import mean_squared_error\n",
    "y_predicted_21 = model1.predict(x_test_21)\n",
    "  \n",
    "# Calculation of Mean Squared Error (MSE)\n",
    "mse = mean_squared_error(y_test_21, y_predicted_21)\n",
    "print('MSE for TPOT AutoML 2021 is: ' + str(mse))"
   ]
  },
  {
   "cell_type": "code",
   "execution_count": 27,
   "id": "b3356797",
   "metadata": {},
   "outputs": [
    {
     "name": "stdout",
     "output_type": "stream",
     "text": [
      "RMSE for TPOT AutoML 2021 is: 0.2943886524868839\n"
     ]
    }
   ],
   "source": [
    "rmse = mean_squared_error(y_test_21, y_predicted_21, squared=False)\n",
    "print('RMSE for TPOT AutoML 2021 is: ' + str(rmse))"
   ]
  },
  {
   "cell_type": "code",
   "execution_count": 28,
   "id": "d78523da",
   "metadata": {},
   "outputs": [
    {
     "name": "stdout",
     "output_type": "stream",
     "text": [
      "Median Absolute Error:\n",
      "\n",
      "0.09133394184980048\n"
     ]
    }
   ],
   "source": [
    "median_se = np.square(np.subtract(y_test_21, y_predicted_21)).median() \n",
    " \n",
    "med = math.sqrt(median_se)\n",
    "print(\"Median Absolute Error:\\n\")\n",
    "print(med)"
   ]
  },
  {
   "cell_type": "code",
   "execution_count": 29,
   "id": "83d7cc9d",
   "metadata": {},
   "outputs": [
    {
     "name": "stdout",
     "output_type": "stream",
     "text": [
      "MAPE for TPOT AutoML 2021 is: 0.013820982245206248\n"
     ]
    }
   ],
   "source": [
    "from sklearn.metrics import mean_absolute_percentage_error\n",
    "mape = mean_absolute_percentage_error(y_test_21, y_predicted_21)\n",
    "print(\"MAPE for TPOT AutoML 2021 is: \" + str(mape))"
   ]
  },
  {
   "cell_type": "code",
   "execution_count": 30,
   "id": "7e8ea466",
   "metadata": {},
   "outputs": [],
   "source": [
    "acc = accuracy_threshold(y_test_21, y_predicted_21, 0.1)"
   ]
  },
  {
   "cell_type": "code",
   "execution_count": 36,
   "id": "0c300216",
   "metadata": {},
   "outputs": [],
   "source": [
    "%%capture\n",
    "explainer1test = shap.Explainer(model1.predict, x_test_21)\n",
    "shap_values1test = explainer1test(x_test_21)"
   ]
  },
  {
   "cell_type": "code",
   "execution_count": 38,
   "id": "2c5f8285",
   "metadata": {},
   "outputs": [
    {
     "data": {
      "image/png": "[encoded data removed]",
      "text/plain": [
       "<Figure size 576x511.2 with 2 Axes>"
      ]
     },
     "metadata": {
      "needs_background": "light"
     },
     "output_type": "display_data"
    }
   ],
   "source": [
    "f = plt.figure()\n",
    "shap.summary_plot(shap_values1test, x_test_21)\n",
    "f.savefig(\"summary_plot21.png\", bbox_inches = 'tight', dpi = 600)"
   ]
  },
  {
   "cell_type": "code",
   "execution_count": 39,
   "id": "2bb1b92c",
   "metadata": {},
   "outputs": [
    {
     "data": {
      "image/png": "[encoded data removed]",
      "text/plain": [
       "<Figure size 576x511.2 with 1 Axes>"
      ]
     },
     "metadata": {
      "needs_background": "light"
     },
     "output_type": "display_data"
    }
   ],
   "source": [
    "shap.summary_plot(shap_values1test, x_test_21, plot_type = 'bar')"
   ]
  },
  {
   "cell_type": "code",
   "execution_count": 40,
   "id": "dbc0727b",
   "metadata": {},
   "outputs": [],
   "source": [
    "cnames=['Algorithm', 'Year', 'RMSE', 'MSE', 'MEDAE', 'Accuracy', 'MAPE']\n",
    "df11 = pd.DataFrame(columns=cnames)\n",
    "\n",
    "df11 = df11.append({'Algorithm': 'TPOT AutoML',\n",
    "            'Year': 2021,\n",
    "           'RMSE': rmse,\n",
    "           'MSE': mse,\n",
    "           'MEDAE': med,\n",
    "           'Accuracy': acc,\n",
    "           'MAPE': mape         \n",
    "          }, ignore_index=True)"
   ]
  },
  {
   "cell_type": "code",
   "execution_count": 41,
   "id": "c4849d9a",
   "metadata": {},
   "outputs": [],
   "source": [
    "dfreal1 = pd.DataFrame(y_test_21.values)\n",
    "dfpred1 = pd.DataFrame(y_predicted_21)"
   ]
  },
  {
   "cell_type": "markdown",
   "id": "d9dba387",
   "metadata": {},
   "source": [
    "### 2020"
   ]
  },
  {
   "cell_type": "code",
   "execution_count": 42,
   "id": "0d67d885",
   "metadata": {},
   "outputs": [],
   "source": [
    "specific20 = irl[irl['Year'] > 2016]"
   ]
  },
  {
   "cell_type": "code",
   "execution_count": 43,
   "id": "bb40ee6f",
   "metadata": {},
   "outputs": [],
   "source": [
    "test_20 = specific20[specific20['Year'] == 2020]\n",
    "train_20 = specific20[specific20['Year'] < 2020]\n",
    "\n",
    "x_train_20 = train_20.loc[:, train_20.columns != 'LogPrice (€)']\n",
    "y_train_20 = train_20['LogPrice (€)']\n",
    "\n",
    "x_test_20 = test_20.loc[:, test_20.columns != 'LogPrice (€)']\n",
    "y_test_20 = test_20['LogPrice (€)']"
   ]
  },
  {
   "cell_type": "code",
   "execution_count": 44,
   "id": "55c147e6",
   "metadata": {},
   "outputs": [],
   "source": [
    "model = TPOTRegressor(max_time_mins = 6)\n",
    "model2 = model.fit(x_train_20, y_train_20)"
   ]
  },
  {
   "cell_type": "code",
   "execution_count": 45,
   "id": "290c9a8e",
   "metadata": {},
   "outputs": [],
   "source": [
    "#model2.export('tpot_2020_pipeline-standardprice.py')"
   ]
  },
  {
   "cell_type": "code",
   "execution_count": 46,
   "id": "416b6d51",
   "metadata": {},
   "outputs": [
    {
     "name": "stdout",
     "output_type": "stream",
     "text": [
      "MSE for TPOT AutoML 2020 is: 0.0359071125338975\n"
     ]
    },
    {
     "name": "stderr",
     "output_type": "stream",
     "text": [
      "X does not have valid feature names, but LassoLarsCV was fitted with feature names\n"
     ]
    }
   ],
   "source": [
    "y_predicted_20 = model1.predict(x_test_20)\n",
    "  \n",
    "# Calculation of Mean Squared Error (MSE)\n",
    "mse = mean_squared_error(y_test_20, y_predicted_20)\n",
    "print('MSE for TPOT AutoML 2020 is: ' + str(mse))"
   ]
  },
  {
   "cell_type": "code",
   "execution_count": 47,
   "id": "e355b1e4",
   "metadata": {},
   "outputs": [
    {
     "name": "stdout",
     "output_type": "stream",
     "text": [
      "MAPE for TPOT AutoML 2020 is: 0.008925823370470112\n"
     ]
    }
   ],
   "source": [
    "from sklearn.metrics import mean_absolute_percentage_error\n",
    "mape = mean_absolute_percentage_error(y_test_20, y_predicted_20)\n",
    "print(\"MAPE for TPOT AutoML 2020 is: \" + str(mape))"
   ]
  },
  {
   "cell_type": "code",
   "execution_count": 48,
   "id": "09781a7c",
   "metadata": {},
   "outputs": [
    {
     "name": "stdout",
     "output_type": "stream",
     "text": [
      "Median Absolute Error:\n",
      "\n",
      "0.05744317723097403\n"
     ]
    }
   ],
   "source": [
    "median_se = np.square(np.subtract(y_test_20, y_predicted_20)).median() \n",
    " \n",
    "med = math.sqrt(median_se)\n",
    "print(\"Median Absolute Error:\\n\")\n",
    "print(med)"
   ]
  },
  {
   "cell_type": "code",
   "execution_count": 49,
   "id": "76e10acc",
   "metadata": {},
   "outputs": [
    {
     "name": "stdout",
     "output_type": "stream",
     "text": [
      "RMSE for TPOT AutoML 2020 is: 0.1894917215444978\n"
     ]
    }
   ],
   "source": [
    "rmse = mean_squared_error(y_test_20, y_predicted_20, squared=False)\n",
    "print('RMSE for TPOT AutoML 2020 is: ' + str(rmse))"
   ]
  },
  {
   "cell_type": "code",
   "execution_count": 50,
   "id": "871be6ce",
   "metadata": {},
   "outputs": [],
   "source": [
    "acc = accuracy_threshold(y_test_20, y_predicted_20, 0.1)"
   ]
  },
  {
   "cell_type": "code",
   "execution_count": 51,
   "id": "1675f7ae",
   "metadata": {},
   "outputs": [],
   "source": [
    "cnames=['Algorithm', 'Year', 'RMSE', 'MSE', 'MEDAE', 'Accuracy', 'MAPE']\n",
    "df12 = pd.DataFrame(columns=cnames)\n",
    "\n",
    "df12 = df12.append({'Algorithm': 'TPOT AutoML',\n",
    "            'Year': 2020,\n",
    "           'RMSE': rmse,\n",
    "           'MSE': mse,\n",
    "           'MEDAE': med,\n",
    "           'Accuracy': acc,\n",
    "           'MAPE': mape         \n",
    "          }, ignore_index=True)"
   ]
  },
  {
   "cell_type": "code",
   "execution_count": 52,
   "id": "cf1310c8",
   "metadata": {},
   "outputs": [],
   "source": [
    "dfreal2 = pd.DataFrame(y_test_20.values)\n",
    "dfpred2 = pd.DataFrame(y_predicted_20)"
   ]
  },
  {
   "cell_type": "code",
   "execution_count": 53,
   "id": "15e2711c",
   "metadata": {
    "tags": [
     "hide-output"
    ]
   },
   "outputs": [],
   "source": [
    "%%capture\n",
    "explainer2 = shap.Explainer(model2.predict, x_test_20)\n",
    "shap_values2 = explainer2(x_test_20)"
   ]
  },
  {
   "cell_type": "code",
   "execution_count": 54,
   "id": "89919b1b",
   "metadata": {},
   "outputs": [
    {
     "data": {
      "image/png": "[encoded data removed]",
      "text/plain": [
       "<Figure size 576x511.2 with 1 Axes>"
      ]
     },
     "metadata": {
      "needs_background": "light"
     },
     "output_type": "display_data"
    }
   ],
   "source": [
    "shap.summary_plot(shap_values2, x_test_20, plot_type = 'bar')"
   ]
  },
  {
   "cell_type": "code",
   "execution_count": 55,
   "id": "ac5699dc",
   "metadata": {},
   "outputs": [
    {
     "data": {
      "image/png": "[encoded data removed]",
      "text/plain": [
       "<Figure size 576x511.2 with 2 Axes>"
      ]
     },
     "metadata": {
      "needs_background": "light"
     },
     "output_type": "display_data"
    }
   ],
   "source": [
    "f = plt.figure()\n",
    "shap.summary_plot(shap_values2, x_test_20)\n",
    "f.savefig(\"summary_plot20.png\", bbox_inches = 'tight', dpi = 600)"
   ]
  },
  {
   "cell_type": "markdown",
   "id": "1b88f9b0",
   "metadata": {},
   "source": [
    "### 2019"
   ]
  },
  {
   "cell_type": "code",
   "execution_count": 56,
   "id": "7334741d",
   "metadata": {},
   "outputs": [],
   "source": [
    "specific19 = irl[irl['Year'] > 2015]"
   ]
  },
  {
   "cell_type": "code",
   "execution_count": 57,
   "id": "fc20af96",
   "metadata": {},
   "outputs": [],
   "source": [
    "test_19 = specific19[specific19['Year'] == 2019]\n",
    "train_19 = specific19[specific19['Year'] < 2019]\n",
    "x_train_19 = train_19.loc[:, train_19.columns != 'LogPrice (€)']\n",
    "y_train_19 = train_19['LogPrice (€)']\n",
    "x_test_19 = test_19.loc[:, test_19.columns != 'LogPrice (€)']\n",
    "y_test_19 = test_19['LogPrice (€)']"
   ]
  },
  {
   "cell_type": "code",
   "execution_count": 58,
   "id": "11df60b0",
   "metadata": {},
   "outputs": [],
   "source": [
    "model = TPOTRegressor(max_time_mins = 6)\n",
    "# perform the search // takes ages to run!\n",
    "model3 = model.fit(x_train_19, y_train_19)"
   ]
  },
  {
   "cell_type": "code",
   "execution_count": 59,
   "id": "0f8c2583",
   "metadata": {},
   "outputs": [],
   "source": [
    "#model3.export('tpot_2019_pipeline-standardprice.py')"
   ]
  },
  {
   "cell_type": "code",
   "execution_count": 60,
   "id": "1ad0f284",
   "metadata": {},
   "outputs": [
    {
     "name": "stdout",
     "output_type": "stream",
     "text": [
      "MSE for TPOT AutoML 2019 is: 0.027426998664857385\n"
     ]
    },
    {
     "name": "stderr",
     "output_type": "stream",
     "text": [
      "X does not have valid feature names, but LassoLarsCV was fitted with feature names\n"
     ]
    }
   ],
   "source": [
    "y_predicted_19 = model1.predict(x_test_19)\n",
    "  \n",
    "# Calculation of Mean Squared Error (MSE)\n",
    "mse = mean_squared_error(y_test_19, y_predicted_19)\n",
    "print('MSE for TPOT AutoML 2019 is: ' + str(mse))"
   ]
  },
  {
   "cell_type": "code",
   "execution_count": 61,
   "id": "6e417e0e",
   "metadata": {},
   "outputs": [
    {
     "name": "stdout",
     "output_type": "stream",
     "text": [
      "MAPE for TPOT AutoML 2019 is: 0.008329787799032908\n"
     ]
    }
   ],
   "source": [
    "from sklearn.metrics import mean_absolute_percentage_error\n",
    "mape = mean_absolute_percentage_error(y_test_19, y_predicted_19)\n",
    "print(\"MAPE for TPOT AutoML 2019 is: \" + str(mape))"
   ]
  },
  {
   "cell_type": "code",
   "execution_count": 62,
   "id": "8d058427",
   "metadata": {},
   "outputs": [
    {
     "name": "stdout",
     "output_type": "stream",
     "text": [
      "Median Absolute Error:\n",
      "\n",
      "0.0688622974379489\n"
     ]
    }
   ],
   "source": [
    "median_se = np.square(np.subtract(y_test_19, y_predicted_19)).median() \n",
    " \n",
    "med = math.sqrt(median_se)\n",
    "print(\"Median Absolute Error:\\n\")\n",
    "print(med)"
   ]
  },
  {
   "cell_type": "code",
   "execution_count": 63,
   "id": "39bc82a7",
   "metadata": {},
   "outputs": [
    {
     "name": "stdout",
     "output_type": "stream",
     "text": [
      "RMSE for TPOT AutoML 2019 is: 0.16561098594253157\n"
     ]
    }
   ],
   "source": [
    "rmse = mean_squared_error(y_test_19, y_predicted_19, squared = False)\n",
    "print('RMSE for TPOT AutoML 2019 is: ' + str(rmse))"
   ]
  },
  {
   "cell_type": "code",
   "execution_count": 64,
   "id": "942872cd",
   "metadata": {},
   "outputs": [],
   "source": [
    "acc = accuracy_threshold(y_test_19, y_predicted_19, 0.1)"
   ]
  },
  {
   "cell_type": "code",
   "execution_count": 65,
   "id": "7aebc483",
   "metadata": {
    "tags": [
     "hide-output"
    ]
   },
   "outputs": [],
   "source": [
    "%%capture\n",
    "explainer3 = shap.Explainer(model3.predict, x_test_19)\n",
    "shap_values3 = explainer3(x_test_19)"
   ]
  },
  {
   "cell_type": "code",
   "execution_count": 66,
   "id": "fbabb73f",
   "metadata": {},
   "outputs": [
    {
     "data": {
      "image/png": "[encoded data removed]",
      "text/plain": [
       "<Figure size 576x511.2 with 1 Axes>"
      ]
     },
     "metadata": {
      "needs_background": "light"
     },
     "output_type": "display_data"
    }
   ],
   "source": [
    "shap.summary_plot(shap_values3, x_test_19, plot_type = 'bar')\n",
    "#plt.savefig('shap19standard.png')"
   ]
  },
  {
   "cell_type": "code",
   "execution_count": 67,
   "id": "966720f0",
   "metadata": {},
   "outputs": [
    {
     "data": {
      "image/png": "[encoded data removed]",
      "text/plain": [
       "<Figure size 576x511.2 with 2 Axes>"
      ]
     },
     "metadata": {
      "needs_background": "light"
     },
     "output_type": "display_data"
    }
   ],
   "source": [
    "f = plt.figure()\n",
    "shap.summary_plot(shap_values3, x_test_19)\n",
    "f.savefig(\"summary_plot19.png\", bbox_inches = 'tight', dpi = 600)"
   ]
  },
  {
   "cell_type": "code",
   "execution_count": 68,
   "id": "2838e1fb",
   "metadata": {},
   "outputs": [],
   "source": [
    "cnames=['Algorithm', 'Year', 'RMSE', 'MSE', 'MEDAE', 'Accuracy', 'MAPE']\n",
    "df13 = pd.DataFrame(columns = cnames)\n",
    "\n",
    "df13 = df13.append({'Algorithm': 'TPOT AutoML',\n",
    "            'Year': 2019,\n",
    "           'RMSE': rmse,\n",
    "           'MSE': mse,\n",
    "           'MEDAE': med,\n",
    "           'Accuracy': acc,\n",
    "           'MAPE': mape         \n",
    "          }, ignore_index=True)"
   ]
  },
  {
   "cell_type": "code",
   "execution_count": 69,
   "id": "5fc22a85",
   "metadata": {},
   "outputs": [],
   "source": [
    "dfreal3 = pd.DataFrame(y_test_19.values)\n",
    "dfpred3 = pd.DataFrame(y_predicted_19)"
   ]
  },
  {
   "cell_type": "markdown",
   "id": "db8d148f",
   "metadata": {},
   "source": [
    "### 2018"
   ]
  },
  {
   "cell_type": "code",
   "execution_count": 70,
   "id": "e4f7f4f8",
   "metadata": {},
   "outputs": [],
   "source": [
    "specific18 = irl[irl['Year'] > 2014]\n",
    "test_18 = specific18[specific18['Year'] == 2018]\n",
    "train_18 = specific18[specific18['Year'] < 2018]\n",
    "\n",
    "x_train_18 = train_18.loc[:, train_18.columns != 'LogPrice (€)']\n",
    "y_train_18 = train_18['LogPrice (€)']\n",
    "x_test_18 = test_18.loc[:, test_18.columns != 'LogPrice (€)']\n",
    "y_test_18 = test_18['LogPrice (€)']"
   ]
  },
  {
   "cell_type": "code",
   "execution_count": 71,
   "id": "c6e7b3fe",
   "metadata": {},
   "outputs": [],
   "source": [
    "model = TPOTRegressor(max_time_mins = 6)\n",
    "# perform the search // takes ages to run!\n",
    "model4 = model.fit(x_train_18, y_train_18)"
   ]
  },
  {
   "cell_type": "code",
   "execution_count": 72,
   "id": "8eec4772",
   "metadata": {},
   "outputs": [],
   "source": [
    "#model4.export('tpot_2018_pipeline-standardprice.py')"
   ]
  },
  {
   "cell_type": "code",
   "execution_count": 73,
   "id": "ec805f86",
   "metadata": {},
   "outputs": [
    {
     "name": "stdout",
     "output_type": "stream",
     "text": [
      "MSE for TPOT AutoML 2018 is: 0.04977776547363667\n"
     ]
    },
    {
     "name": "stderr",
     "output_type": "stream",
     "text": [
      "X does not have valid feature names, but LassoLarsCV was fitted with feature names\n"
     ]
    }
   ],
   "source": [
    "y_predicted_18 = model1.predict(x_test_18)\n",
    "  \n",
    "# Calculation of Mean Squared Error (MSE)\n",
    "mse = mean_squared_error(y_test_18, y_predicted_18)\n",
    "print('MSE for TPOT AutoML 2018 is: ' + str(mse))"
   ]
  },
  {
   "cell_type": "code",
   "execution_count": 74,
   "id": "9c417178",
   "metadata": {},
   "outputs": [
    {
     "name": "stdout",
     "output_type": "stream",
     "text": [
      "RMSE for TPOT AutoML 2018 is: 0.22310931283484486\n"
     ]
    }
   ],
   "source": [
    "rmse = mean_squared_error(y_test_18, y_predicted_18, squared = False)\n",
    "print('RMSE for TPOT AutoML 2018 is: ' + str(rmse))"
   ]
  },
  {
   "cell_type": "code",
   "execution_count": 75,
   "id": "41e40583",
   "metadata": {},
   "outputs": [
    {
     "name": "stdout",
     "output_type": "stream",
     "text": [
      "MAPE for TPOT AutoML 2018 is: 0.009889496982678844\n"
     ]
    }
   ],
   "source": [
    "from sklearn.metrics import mean_absolute_percentage_error\n",
    "mape = mean_absolute_percentage_error(y_test_18, y_predicted_18)\n",
    "print(\"MAPE for TPOT AutoML 2018 is: \" + str(mape))"
   ]
  },
  {
   "cell_type": "code",
   "execution_count": 76,
   "id": "ff235f0c",
   "metadata": {},
   "outputs": [
    {
     "name": "stdout",
     "output_type": "stream",
     "text": [
      "Median Absolute Error:\n",
      "\n",
      "0.06322013414777672\n"
     ]
    }
   ],
   "source": [
    "median_se = np.square(np.subtract(y_test_18, y_predicted_18)).median() \n",
    " \n",
    "med = math.sqrt(median_se)\n",
    "print(\"Median Absolute Error:\\n\")\n",
    "print(med)"
   ]
  },
  {
   "cell_type": "code",
   "execution_count": 77,
   "id": "e4f71ccf",
   "metadata": {},
   "outputs": [],
   "source": [
    "acc = accuracy_threshold(y_test_18, y_predicted_18, 0.1)"
   ]
  },
  {
   "cell_type": "code",
   "execution_count": 78,
   "id": "830fe245",
   "metadata": {
    "tags": [
     "hide-output"
    ]
   },
   "outputs": [],
   "source": [
    "%%capture\n",
    "explainer4 = shap.Explainer(model4.predict, x_test_18)\n",
    "shap_values4 = explainer4(x_test_18)"
   ]
  },
  {
   "cell_type": "code",
   "execution_count": 79,
   "id": "06f0c227",
   "metadata": {},
   "outputs": [
    {
     "data": {
      "image/png": "[encoded data removed]",
      "text/plain": [
       "<Figure size 576x511.2 with 1 Axes>"
      ]
     },
     "metadata": {
      "needs_background": "light"
     },
     "output_type": "display_data"
    }
   ],
   "source": [
    "shap.summary_plot(shap_values4, x_test_18, plot_type = 'bar')\n",
    "#plt.savefig('shap18standard.PNG')"
   ]
  },
  {
   "cell_type": "code",
   "execution_count": 80,
   "id": "fca4ec1b",
   "metadata": {},
   "outputs": [
    {
     "data": {
      "image/png": "[encoded data removed]",
      "text/plain": [
       "<Figure size 576x511.2 with 2 Axes>"
      ]
     },
     "metadata": {
      "needs_background": "light"
     },
     "output_type": "display_data"
    }
   ],
   "source": [
    "f = plt.figure()\n",
    "shap.summary_plot(shap_values4, x_test_18)\n",
    "f.savefig(\"summary_plot18.png\", bbox_inches = 'tight', dpi = 600)"
   ]
  },
  {
   "cell_type": "code",
   "execution_count": 81,
   "id": "80dc53ea",
   "metadata": {},
   "outputs": [],
   "source": [
    "cnames=['Algorithm', 'Year', 'RMSE', 'MSE', 'MEDAE', 'Accuracy', 'MAPE']\n",
    "df14 = pd.DataFrame(columns=cnames)\n",
    "\n",
    "df14 = df14.append({'Algorithm': 'TPOT AutoML',\n",
    "            'Year': 2018,\n",
    "           'RMSE': rmse,\n",
    "           'MSE': mse,\n",
    "           'MEDAE': med,\n",
    "           'Accuracy': acc,\n",
    "           'MAPE': mape         \n",
    "          }, ignore_index=True)"
   ]
  },
  {
   "cell_type": "code",
   "execution_count": 82,
   "id": "d1ede4c8",
   "metadata": {},
   "outputs": [],
   "source": [
    "dfreal4 = pd.DataFrame(y_test_18.values)\n",
    "dfpred4 = pd.DataFrame(y_predicted_18)"
   ]
  },
  {
   "cell_type": "markdown",
   "id": "f17ba444",
   "metadata": {},
   "source": [
    "### 2017"
   ]
  },
  {
   "cell_type": "code",
   "execution_count": 83,
   "id": "54a16f8e",
   "metadata": {},
   "outputs": [],
   "source": [
    "specific17 = irl[irl['Year'] > 2013]\n",
    "test_17 = specific17[specific17['Year'] == 2017]\n",
    "train_17 = specific17[specific17['Year'] < 2017]\n",
    "\n",
    "x_train_17 = train_17.loc[:, train_17.columns != 'LogPrice (€)']\n",
    "y_train_17 = train_17['LogPrice (€)']\n",
    "x_test_17 = test_17.loc[:, test_17.columns != 'LogPrice (€)']\n",
    "y_test_17 = test_17['LogPrice (€)']"
   ]
  },
  {
   "cell_type": "code",
   "execution_count": 84,
   "id": "b6513a2c",
   "metadata": {},
   "outputs": [],
   "source": [
    "model = TPOTRegressor(max_time_mins = 6)\n",
    "# perform the search // takes ages to run!\n",
    "model5 = model.fit(x_train_17, y_train_17)"
   ]
  },
  {
   "cell_type": "code",
   "execution_count": 85,
   "id": "6afde390",
   "metadata": {},
   "outputs": [],
   "source": [
    "#model5.export('tpot_2017_pipeline-standardprice.py')"
   ]
  },
  {
   "cell_type": "code",
   "execution_count": 86,
   "id": "9ebc3aa9",
   "metadata": {},
   "outputs": [
    {
     "name": "stdout",
     "output_type": "stream",
     "text": [
      "MSE for TPOT AutoML 2017 is: 0.08921593042232903\n"
     ]
    },
    {
     "name": "stderr",
     "output_type": "stream",
     "text": [
      "X does not have valid feature names, but LassoLarsCV was fitted with feature names\n"
     ]
    }
   ],
   "source": [
    "y_predicted_17 = model1.predict(x_test_17)\n",
    "  \n",
    "# Calculation of Mean Squared Error (MSE)\n",
    "mse = mean_squared_error(y_test_17, y_predicted_17)\n",
    "print('MSE for TPOT AutoML 2017 is: ' + str(mse))"
   ]
  },
  {
   "cell_type": "code",
   "execution_count": 87,
   "id": "edeb7f03",
   "metadata": {},
   "outputs": [
    {
     "name": "stdout",
     "output_type": "stream",
     "text": [
      "MAPE for TPOT AutoML 2017 is: 0.015194152873986322\n"
     ]
    }
   ],
   "source": [
    "from sklearn.metrics import mean_absolute_percentage_error\n",
    "mape = mean_absolute_percentage_error(y_test_17, y_predicted_17)\n",
    "print(\"MAPE for TPOT AutoML 2017 is: \" + str(mape))"
   ]
  },
  {
   "cell_type": "code",
   "execution_count": 88,
   "id": "e7f5ec5f",
   "metadata": {},
   "outputs": [
    {
     "name": "stdout",
     "output_type": "stream",
     "text": [
      "Median Absolute Error:\n",
      "\n",
      "0.11726231195750188\n"
     ]
    }
   ],
   "source": [
    "median_se = np.square(np.subtract(y_test_17, y_predicted_17)).median() \n",
    " \n",
    "med = math.sqrt(median_se)\n",
    "print(\"Median Absolute Error:\\n\")\n",
    "print(med)"
   ]
  },
  {
   "cell_type": "code",
   "execution_count": 89,
   "id": "4df87b20",
   "metadata": {},
   "outputs": [
    {
     "name": "stdout",
     "output_type": "stream",
     "text": [
      "RMSE for TPOT AutoML 2017 is: 0.2986903587702975\n"
     ]
    }
   ],
   "source": [
    "rmse = mean_squared_error(y_test_17, y_predicted_17, squared=False)\n",
    "print('RMSE for TPOT AutoML 2017 is: ' + str(rmse))"
   ]
  },
  {
   "cell_type": "code",
   "execution_count": 90,
   "id": "1ffd42fe",
   "metadata": {},
   "outputs": [],
   "source": [
    "acc = accuracy_threshold(y_test_17, y_predicted_17, 0.1)"
   ]
  },
  {
   "cell_type": "code",
   "execution_count": 91,
   "id": "92bb6972",
   "metadata": {
    "tags": [
     "hide-output"
    ]
   },
   "outputs": [],
   "source": [
    "%%capture\n",
    "explainer5 = shap.Explainer(model5.predict, x_test_17)\n",
    "shap_values5 = explainer5(x_test_17)"
   ]
  },
  {
   "cell_type": "code",
   "execution_count": 92,
   "id": "89e1ad34",
   "metadata": {},
   "outputs": [
    {
     "data": {
      "image/png": "[encoded data removed]",
      "text/plain": [
       "<Figure size 576x511.2 with 1 Axes>"
      ]
     },
     "metadata": {
      "needs_background": "light"
     },
     "output_type": "display_data"
    }
   ],
   "source": [
    "shap.summary_plot(shap_values5, x_train_17, plot_type = 'bar')\n",
    "#plt.savefig('shap17standard.png')"
   ]
  },
  {
   "cell_type": "code",
   "execution_count": 94,
   "id": "62d96f16",
   "metadata": {},
   "outputs": [],
   "source": [
    "#shap.dependence_plot('DistancePark', shap_values5, x_test_17)"
   ]
  },
  {
   "cell_type": "code",
   "execution_count": 95,
   "id": "8547ef7b",
   "metadata": {},
   "outputs": [
    {
     "data": {
      "image/png": "[encoded data removed]",
      "text/plain": [
       "<Figure size 576x511.2 with 2 Axes>"
      ]
     },
     "metadata": {
      "needs_background": "light"
     },
     "output_type": "display_data"
    }
   ],
   "source": [
    "f = plt.figure()\n",
    "shap.summary_plot(shap_values5, x_test_17)\n",
    "f.savefig(\"summary_plot17.png\", bbox_inches = 'tight', dpi = 600)"
   ]
  },
  {
   "cell_type": "code",
   "execution_count": 96,
   "id": "7fafc213",
   "metadata": {},
   "outputs": [],
   "source": [
    "dfreal5 = pd.DataFrame(y_test_17.values)\n",
    "dfpred5 = pd.DataFrame(y_predicted_17)"
   ]
  },
  {
   "cell_type": "code",
   "execution_count": 97,
   "id": "fef6770d",
   "metadata": {},
   "outputs": [],
   "source": [
    "cnames=['Algorithm', 'Year', 'RMSE', 'MSE', 'MEDAE', 'Accuracy', 'MAPE']\n",
    "df15 = pd.DataFrame(columns=cnames)\n",
    "\n",
    "df15 = df15.append({'Algorithm': 'TPOT AutoML',\n",
    "            'Year': 2017,\n",
    "           'RMSE': rmse,\n",
    "           'MSE': mse,\n",
    "           'MEDAE': med,\n",
    "           'Accuracy': acc,\n",
    "           'MAPE': mape         \n",
    "          }, ignore_index=True)"
   ]
  },
  {
   "cell_type": "code",
   "execution_count": 98,
   "id": "906e311d",
   "metadata": {},
   "outputs": [],
   "source": [
    "vis1 = pd.concat([df11, df12, df13, df14, df15], ignore_index=True)"
   ]
  },
  {
   "cell_type": "code",
   "execution_count": 99,
   "id": "2e146d45",
   "metadata": {},
   "outputs": [
    {
     "data": {
      "image/png": "[encoded data removed]",
      "text/plain": [
       "<Figure size 1800x576 with 1 Axes>"
      ]
     },
     "metadata": {
      "needs_background": "light"
     },
     "output_type": "display_data"
    }
   ],
   "source": [
    "# don't need cross validation same training due to set intervals?\n",
    "plt.subplots(figsize = (25, 8))\n",
    "plt.plot(vis1['Year'], vis1['Accuracy'], label = 'AutoML', color = 'turquoise')\n",
    "plt.xlabel('Year', fontsize = 15)\n",
    "plt.ylabel('Accuracy', fontsize = 15)\n",
    "plt.title('TPOT AutoML Results 2017 - 2021')\n",
    "plt.legend()\n",
    "plt.show()"
   ]
  },
  {
   "cell_type": "code",
   "execution_count": 100,
   "id": "66c109ff",
   "metadata": {},
   "outputs": [
    {
     "name": "stdout",
     "output_type": "stream",
     "text": [
      "Mean accuracy for TPOT AutoML over period 2017-2021 is: 0.5784136848486682\n"
     ]
    }
   ],
   "source": [
    "print(\"Mean accuracy for TPOT AutoML over period 2017-2021 is: \" + str(vis1['Accuracy'].mean()))"
   ]
  },
  {
   "cell_type": "code",
   "execution_count": 101,
   "id": "21da3c7c",
   "metadata": {},
   "outputs": [
    {
     "data": {
      "text/html": [
       "<div>\n",
       "<style scoped>\n",
       "    .dataframe tbody tr th:only-of-type {\n",
       "        vertical-align: middle;\n",
       "    }\n",
       "\n",
       "    .dataframe tbody tr th {\n",
       "        vertical-align: top;\n",
       "    }\n",
       "\n",
       "    .dataframe thead th {\n",
       "        text-align: right;\n",
       "    }\n",
       "</style>\n",
       "<table border=\"1\" class=\"dataframe\">\n",
       "  <thead>\n",
       "    <tr style=\"text-align: right;\">\n",
       "      <th></th>\n",
       "      <th>Actual</th>\n",
       "    </tr>\n",
       "  </thead>\n",
       "  <tbody>\n",
       "    <tr>\n",
       "      <th>0</th>\n",
       "      <td>12.624668</td>\n",
       "    </tr>\n",
       "    <tr>\n",
       "      <th>1</th>\n",
       "      <td>12.747268</td>\n",
       "    </tr>\n",
       "    <tr>\n",
       "      <th>2</th>\n",
       "      <td>13.072690</td>\n",
       "    </tr>\n",
       "    <tr>\n",
       "      <th>3</th>\n",
       "      <td>12.797276</td>\n",
       "    </tr>\n",
       "    <tr>\n",
       "      <th>4</th>\n",
       "      <td>12.653239</td>\n",
       "    </tr>\n",
       "  </tbody>\n",
       "</table>\n",
       "</div>"
      ],
      "text/plain": [
       "      Actual\n",
       "0  12.624668\n",
       "1  12.747268\n",
       "2  13.072690\n",
       "3  12.797276\n",
       "4  12.653239"
      ]
     },
     "execution_count": 101,
     "metadata": {},
     "output_type": "execute_result"
    }
   ],
   "source": [
    "actual = pd.concat([dfreal1, dfreal2, dfreal3, dfreal4, dfreal5], ignore_index = True)\n",
    "actual.rename(columns = {0: 'Actual'}, inplace = True)\n",
    "actual.head()"
   ]
  },
  {
   "cell_type": "code",
   "execution_count": 102,
   "id": "d8571942",
   "metadata": {},
   "outputs": [
    {
     "data": {
      "text/html": [
       "<div>\n",
       "<style scoped>\n",
       "    .dataframe tbody tr th:only-of-type {\n",
       "        vertical-align: middle;\n",
       "    }\n",
       "\n",
       "    .dataframe tbody tr th {\n",
       "        vertical-align: top;\n",
       "    }\n",
       "\n",
       "    .dataframe thead th {\n",
       "        text-align: right;\n",
       "    }\n",
       "</style>\n",
       "<table border=\"1\" class=\"dataframe\">\n",
       "  <thead>\n",
       "    <tr style=\"text-align: right;\">\n",
       "      <th></th>\n",
       "      <th>Predicted</th>\n",
       "    </tr>\n",
       "  </thead>\n",
       "  <tbody>\n",
       "    <tr>\n",
       "      <th>0</th>\n",
       "      <td>12.676535</td>\n",
       "    </tr>\n",
       "    <tr>\n",
       "      <th>1</th>\n",
       "      <td>12.695897</td>\n",
       "    </tr>\n",
       "    <tr>\n",
       "      <th>2</th>\n",
       "      <td>12.716126</td>\n",
       "    </tr>\n",
       "    <tr>\n",
       "      <th>3</th>\n",
       "      <td>12.748187</td>\n",
       "    </tr>\n",
       "    <tr>\n",
       "      <th>4</th>\n",
       "      <td>12.695897</td>\n",
       "    </tr>\n",
       "  </tbody>\n",
       "</table>\n",
       "</div>"
      ],
      "text/plain": [
       "   Predicted\n",
       "0  12.676535\n",
       "1  12.695897\n",
       "2  12.716126\n",
       "3  12.748187\n",
       "4  12.695897"
      ]
     },
     "execution_count": 102,
     "metadata": {},
     "output_type": "execute_result"
    }
   ],
   "source": [
    "pred = pd.concat([dfpred1, dfpred2, dfpred3, dfpred4, dfpred5], ignore_index = True)\n",
    "pred.rename(columns={0: 'Predicted'}, inplace = True)\n",
    "pred.head()"
   ]
  },
  {
   "cell_type": "code",
   "execution_count": 103,
   "id": "79e48ade",
   "metadata": {},
   "outputs": [],
   "source": [
    "actualvpred = actual.join(pred)"
   ]
  },
  {
   "cell_type": "code",
   "execution_count": 104,
   "id": "f6200fb6",
   "metadata": {},
   "outputs": [
    {
     "data": {
      "text/html": [
       "<div>\n",
       "<style scoped>\n",
       "    .dataframe tbody tr th:only-of-type {\n",
       "        vertical-align: middle;\n",
       "    }\n",
       "\n",
       "    .dataframe tbody tr th {\n",
       "        vertical-align: top;\n",
       "    }\n",
       "\n",
       "    .dataframe thead th {\n",
       "        text-align: right;\n",
       "    }\n",
       "</style>\n",
       "<table border=\"1\" class=\"dataframe\">\n",
       "  <thead>\n",
       "    <tr style=\"text-align: right;\">\n",
       "      <th></th>\n",
       "      <th>Actual</th>\n",
       "      <th>Predicted</th>\n",
       "    </tr>\n",
       "  </thead>\n",
       "  <tbody>\n",
       "    <tr>\n",
       "      <th>0</th>\n",
       "      <td>12.624668</td>\n",
       "      <td>12.676535</td>\n",
       "    </tr>\n",
       "    <tr>\n",
       "      <th>1</th>\n",
       "      <td>12.747268</td>\n",
       "      <td>12.695897</td>\n",
       "    </tr>\n",
       "    <tr>\n",
       "      <th>2</th>\n",
       "      <td>13.072690</td>\n",
       "      <td>12.716126</td>\n",
       "    </tr>\n",
       "    <tr>\n",
       "      <th>3</th>\n",
       "      <td>12.797276</td>\n",
       "      <td>12.748187</td>\n",
       "    </tr>\n",
       "    <tr>\n",
       "      <th>4</th>\n",
       "      <td>12.653239</td>\n",
       "      <td>12.695897</td>\n",
       "    </tr>\n",
       "  </tbody>\n",
       "</table>\n",
       "</div>"
      ],
      "text/plain": [
       "      Actual  Predicted\n",
       "0  12.624668  12.676535\n",
       "1  12.747268  12.695897\n",
       "2  13.072690  12.716126\n",
       "3  12.797276  12.748187\n",
       "4  12.653239  12.695897"
      ]
     },
     "execution_count": 104,
     "metadata": {},
     "output_type": "execute_result"
    }
   ],
   "source": [
    "actualvpred.head()"
   ]
  },
  {
   "cell_type": "code",
   "execution_count": 105,
   "id": "959de25d",
   "metadata": {},
   "outputs": [],
   "source": [
    "exp = np.exp(actualvpred)"
   ]
  },
  {
   "cell_type": "code",
   "execution_count": 106,
   "id": "24c74507",
   "metadata": {},
   "outputs": [
    {
     "data": {
      "text/plain": [
       "(3287, 2)"
      ]
     },
     "execution_count": 106,
     "metadata": {},
     "output_type": "execute_result"
    }
   ],
   "source": [
    "exp.shape"
   ]
  },
  {
   "cell_type": "code",
   "execution_count": 107,
   "id": "1eec9e54",
   "metadata": {},
   "outputs": [
    {
     "data": {
      "image/png": "[encoded data removed]",
      "text/plain": [
       "<Figure size 720x720 with 1 Axes>"
      ]
     },
     "metadata": {
      "needs_background": "light"
     },
     "output_type": "display_data"
    }
   ],
   "source": [
    "# plot predicted vs actual\n",
    "plt.figure(figsize = (10, 10))\n",
    "plt.scatter(exp['Actual'], exp['Predicted'], c = 'crimson')\n",
    "\n",
    "p1 = max(max(exp['Predicted']), max(exp['Actual']))\n",
    "p2 = min(min(exp['Predicted']), min(exp['Actual']))\n",
    "plt.plot([p1, p2], [p1, p2], 'b-')\n",
    "plt.xlabel('True Values', fontsize = 15)\n",
    "plt.ylabel('Predictions', fontsize = 15)\n",
    "plt.title('TPOT AutoML Actual Vs Predicted Values')\n",
    "plt.axis('equal')\n",
    "plt.show()"
   ]
  },
  {
   "cell_type": "code",
   "execution_count": 108,
   "id": "7e019087",
   "metadata": {},
   "outputs": [],
   "source": [
    "#### try to do location plot but its rounding longitude and latitude values which is useless\n",
    "#### its also returning nulls for these values when i joined with actual/predicted df \n",
    "#### maybe have to leave it?"
   ]
  },
  {
   "cell_type": "markdown",
   "id": "dbe7adea",
   "metadata": {},
   "source": [
    "### AutoKeras"
   ]
  },
  {
   "cell_type": "code",
   "execution_count": 109,
   "id": "d01ba691",
   "metadata": {},
   "outputs": [],
   "source": [
    "import autokeras as ak\n",
    "# It tries 10 different models.\n",
    "#y_train_21_pd = pd.DataFrame(y_train_21)\n",
    "#reg = ak.StructuredDataRegressor(max_trials = 10, loss = 'mean_absolute_error')\n",
    "# Feed the structured data regressor with training data.\n",
    "#reg.fit(x_train_21, y_train_21_pd, epochs = 50)\n",
    "# Predict with the best model.\n",
    "#print(reg.evaluate(x_test_21, y_test_21))"
   ]
  },
  {
   "cell_type": "code",
   "execution_count": 110,
   "id": "570452b6",
   "metadata": {},
   "outputs": [],
   "source": [
    "#predicted_21 = reg.predict(x_test_21)\n",
    "#y_test_21_pd = pd.DataFrame(y_test_21)\n",
    "#accuracy_threshold(y_test_21, predicted_21, 0.1)"
   ]
  },
  {
   "cell_type": "markdown",
   "id": "2db690f8",
   "metadata": {},
   "source": [
    "### AutoViml"
   ]
  },
  {
   "cell_type": "code",
   "execution_count": 111,
   "id": "aa6333fb",
   "metadata": {},
   "outputs": [
    {
     "name": "stdout",
     "output_type": "stream",
     "text": [
      "Imported Auto_ViML version: 0.1.684. Call using:\n",
      "             m, feats, trainm, testm = Auto_ViML(train, target, test,\n",
      "                            sample_submission='',\n",
      "                            scoring_parameter='', KMeans_Featurizer=False,\n",
      "                            hyper_param='RS',feature_reduction=True,\n",
      "                             Boosting_Flag='CatBoost', Binning_Flag=False,\n",
      "                            Add_Poly=0, Stacking_Flag=False,Imbalanced_Flag=False,\n",
      "                            verbose=1)\n",
      "            \n",
      "\n",
      "Imported Auto_NLP version: 0.0.47.. Call using:\n",
      "     train_nlp, test_nlp, nlp_pipeline, predictions = Auto_NLP(\n",
      "                nlp_column, train, test, target, score_type='balanced_accuracy',\n",
      "                modeltype='Classification',top_num_features=200, verbose=0,\n",
      "                build_model=True)\n"
     ]
    },
    {
     "data": {
      "text/html": [
       "<style>.container { width:95% !important; }</style>"
      ],
      "text/plain": [
       "<IPython.core.display.HTML object>"
      ]
     },
     "metadata": {},
     "output_type": "display_data"
    }
   ],
   "source": [
    "from autoviml.Auto_ViML import Auto_ViML"
   ]
  },
  {
   "cell_type": "code",
   "execution_count": 112,
   "id": "e873c06b",
   "metadata": {},
   "outputs": [],
   "source": [
    "#irl.columns"
   ]
  },
  {
   "cell_type": "code",
   "execution_count": 113,
   "id": "50444ec5",
   "metadata": {},
   "outputs": [],
   "source": [
    "#target = 'LogPrice (€)'"
   ]
  },
  {
   "cell_type": "code",
   "execution_count": 114,
   "id": "2f0460fc",
   "metadata": {},
   "outputs": [],
   "source": [
    "#model, features, trainm, testm = Auto_ViML(\n",
    "#    train_21,\n",
    "#    target,\n",
    "#    test_21,\n",
    "#    hyper_param = \"GS\",\n",
    "#    feature_reduction = True,\n",
    "#    KMeans_Featurizer = False,\n",
    "#    Boosting_Flag = False,\n",
    "#    Binning_Flag = True,\n",
    "#    Add_Poly = False,\n",
    "#    Stacking_Flag = False,\n",
    "#    Imbalanced_Flag = False,\n",
    "#    verbose = 0,\n",
    "#)"
   ]
  },
  {
   "cell_type": "code",
   "execution_count": 115,
   "id": "107b4843",
   "metadata": {},
   "outputs": [],
   "source": [
    "## order changes results very strange\n",
    "#predicted_21_mod = model.predict(testm[['DistanceSchool', 'Town_bin', 'Longitude_bin', 'DistanceIFSC_bin', 'Latitude_bin', 'DistanceSecSchool_bin']])\n",
    "#accuracy_threshold(y_test_21, predicted_21_mod, 0.1)"
   ]
  },
  {
   "cell_type": "code",
   "execution_count": 116,
   "id": "18926182",
   "metadata": {},
   "outputs": [],
   "source": [
    "### boosting \n",
    "#model, features, trainm, testm = Auto_ViML(\n",
    "#    train_21,\n",
    "#    target,\n",
    "#    test_21,\n",
    "#    hyper_param = \"GS\",\n",
    "#    feature_reduction = True,\n",
    "#    KMeans_Featurizer = False,\n",
    "#    Boosting_Flag = True,\n",
    "#    Binning_Flag = True,\n",
    "#    Add_Poly = False,\n",
    "#    Stacking_Flag = False,\n",
    "#    Imbalanced_Flag = False,\n",
    "#    verbose = 0,\n",
    "#)"
   ]
  },
  {
   "cell_type": "code",
   "execution_count": 117,
   "id": "f6d01c56",
   "metadata": {},
   "outputs": [],
   "source": [
    "#predicted_21_mod = model.predict(testm[['DistanceSchool', 'Town_bin', 'Longitude_bin', 'DistanceIFSC_bin', 'Latitude_bin', 'DistanceSecSchool_bin']])\n",
    "#accuracy_threshold(y_test_21, predicted_21_mod, 0.1)"
   ]
  },
  {
   "cell_type": "code",
   "execution_count": 118,
   "id": "95e6b58d",
   "metadata": {},
   "outputs": [],
   "source": [
    "### CatBoost\n",
    "#model, features, trainm, testm = Auto_ViML(\n",
    "#    train_21,\n",
    "#    target,\n",
    "#    test_21,\n",
    "#    hyper_param = \"GS\",\n",
    "#    feature_reduction = True,\n",
    "#    KMeans_Featurizer = False,\n",
    "#    Boosting_Flag = 'CatBoost',\n",
    "#    Binning_Flag = True,\n",
    "#    Add_Poly = False,\n",
    "#    Stacking_Flag = False,\n",
    "#    Imbalanced_Flag = False,\n",
    "#    verbose = 0,\n",
    "#)"
   ]
  },
  {
   "cell_type": "code",
   "execution_count": 119,
   "id": "149cacab",
   "metadata": {},
   "outputs": [],
   "source": [
    "#predicted_21_mod = model.predict(testm[['DistanceSchool', 'Town_bin', 'Longitude_bin', 'DistanceIFSC_bin', 'Latitude_bin', 'DistanceSecSchool_bin']])\n",
    "#accuracy_threshold(y_test_21, predicted_21_mod, 0.1)"
   ]
  },
  {
   "cell_type": "markdown",
   "id": "4df42ed1",
   "metadata": {},
   "source": [
    "### Observations \n",
    "Really poor results on the whole with the exception of TPOT. TPOT AutoML has returned our best results yet with a mean accuracy of over 55%! This is strong performance without doubt and over 6% better than our previous results."
   ]
  }
 ],
 "metadata": {
  "kernelspec": {
   "display_name": "Python 3 (ipykernel)",
   "language": "python",
   "name": "python3"
  },
  "language_info": {
   "codemirror_mode": {
    "name": "ipython",
    "version": 3
   },
   "file_extension": ".py",
   "mimetype": "text/x-python",
   "name": "python",
   "nbconvert_exporter": "python",
   "pygments_lexer": "ipython3",
   "version": "3.8.12"
  }
 },
 "nbformat": 4,
 "nbformat_minor": 5
}
