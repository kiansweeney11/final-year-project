{
 "cells": [
  {
   "cell_type": "code",
   "execution_count": 1,
   "id": "b8815b0a",
   "metadata": {},
   "outputs": [],
   "source": [
    "import pandas as pd\n",
    "import numpy as np\n",
    "from sklearn.datasets import make_classification\n",
    "from sklearn.model_selection import train_test_split\n",
    "import os\n",
    "import category_encoders as ce\n",
    "import math\n",
    "\n",
    "# visualization\n",
    "import seaborn as sns\n",
    "import matplotlib.pyplot as plt\n",
    "\n",
    "from sklearn.metrics import accuracy_score\n",
    "from sklearn.metrics import mean_squared_error\n",
    "from sklearn.model_selection import train_test_split\n",
    "from sklearn.model_selection import cross_val_score, GridSearchCV\n",
    "from sklearn.linear_model import LogisticRegression\n",
    "from sklearn.tree import DecisionTreeClassifier\n",
    "from sklearn.ensemble import RandomForestClassifier\n",
    "from category_encoders import TargetEncoder\n",
    "from sklearn.metrics import median_absolute_error\n",
    "\n",
    "## NN\n",
    "from keras.models import Sequential\n",
    "from keras.layers import Dense"
   ]
  },
  {
   "cell_type": "code",
   "execution_count": 2,
   "id": "6368af1c",
   "metadata": {},
   "outputs": [],
   "source": [
    "irl =  pd.read_csv('sub-dub-encoded.csv', index_col = 'Unnamed: 0')"
   ]
  },
  {
   "cell_type": "code",
   "execution_count": 3,
   "id": "c9da3b1f",
   "metadata": {},
   "outputs": [
    {
     "data": {
      "text/html": [
       "<div>\n",
       "<style scoped>\n",
       "    .dataframe tbody tr th:only-of-type {\n",
       "        vertical-align: middle;\n",
       "    }\n",
       "\n",
       "    .dataframe tbody tr th {\n",
       "        vertical-align: top;\n",
       "    }\n",
       "\n",
       "    .dataframe thead th {\n",
       "        text-align: right;\n",
       "    }\n",
       "</style>\n",
       "<table border=\"1\" class=\"dataframe\">\n",
       "  <thead>\n",
       "    <tr style=\"text-align: right;\">\n",
       "      <th></th>\n",
       "      <th>UsedProperty</th>\n",
       "      <th>Property Size Description</th>\n",
       "      <th>Year</th>\n",
       "      <th>Month</th>\n",
       "      <th>Town</th>\n",
       "      <th>Apartment</th>\n",
       "      <th>Neighbourhood</th>\n",
       "      <th>Eircode</th>\n",
       "      <th>Latitude</th>\n",
       "      <th>Longitude</th>\n",
       "      <th>DistanceIFSC</th>\n",
       "      <th>DistanceSchool</th>\n",
       "      <th>DistancePark</th>\n",
       "      <th>DistanceSecSchool</th>\n",
       "      <th>LogPrice (€)</th>\n",
       "    </tr>\n",
       "  </thead>\n",
       "  <tbody>\n",
       "    <tr>\n",
       "      <th>207901</th>\n",
       "      <td>0</td>\n",
       "      <td>1</td>\n",
       "      <td>2014</td>\n",
       "      <td>1</td>\n",
       "      <td>601864.418417</td>\n",
       "      <td>0</td>\n",
       "      <td>899721.0</td>\n",
       "      <td>628715.337138</td>\n",
       "      <td>53.307878</td>\n",
       "      <td>-6.335665</td>\n",
       "      <td>7.541595</td>\n",
       "      <td>0.492120</td>\n",
       "      <td>1.438826</td>\n",
       "      <td>0.156609</td>\n",
       "      <td>13.648757</td>\n",
       "    </tr>\n",
       "    <tr>\n",
       "      <th>207905</th>\n",
       "      <td>1</td>\n",
       "      <td>0</td>\n",
       "      <td>2014</td>\n",
       "      <td>1</td>\n",
       "      <td>651335.338306</td>\n",
       "      <td>0</td>\n",
       "      <td>1661424.0</td>\n",
       "      <td>651335.338306</td>\n",
       "      <td>53.288227</td>\n",
       "      <td>-6.238896</td>\n",
       "      <td>6.817210</td>\n",
       "      <td>0.100996</td>\n",
       "      <td>2.784711</td>\n",
       "      <td>0.831639</td>\n",
       "      <td>13.532203</td>\n",
       "    </tr>\n",
       "    <tr>\n",
       "      <th>207916</th>\n",
       "      <td>0</td>\n",
       "      <td>1</td>\n",
       "      <td>2014</td>\n",
       "      <td>1</td>\n",
       "      <td>741771.837018</td>\n",
       "      <td>1</td>\n",
       "      <td>597863.0</td>\n",
       "      <td>628715.337138</td>\n",
       "      <td>53.291600</td>\n",
       "      <td>-6.312400</td>\n",
       "      <td>7.799393</td>\n",
       "      <td>0.683556</td>\n",
       "      <td>3.098765</td>\n",
       "      <td>0.968202</td>\n",
       "      <td>12.824045</td>\n",
       "    </tr>\n",
       "    <tr>\n",
       "      <th>207925</th>\n",
       "      <td>1</td>\n",
       "      <td>1</td>\n",
       "      <td>2014</td>\n",
       "      <td>1</td>\n",
       "      <td>414681.974545</td>\n",
       "      <td>0</td>\n",
       "      <td>334587.0</td>\n",
       "      <td>406163.221538</td>\n",
       "      <td>53.353853</td>\n",
       "      <td>-6.372213</td>\n",
       "      <td>8.400802</td>\n",
       "      <td>0.319564</td>\n",
       "      <td>1.909348</td>\n",
       "      <td>0.262801</td>\n",
       "      <td>12.099628</td>\n",
       "    </tr>\n",
       "    <tr>\n",
       "      <th>207929</th>\n",
       "      <td>1</td>\n",
       "      <td>2</td>\n",
       "      <td>2014</td>\n",
       "      <td>1</td>\n",
       "      <td>570683.081926</td>\n",
       "      <td>1</td>\n",
       "      <td>305308.0</td>\n",
       "      <td>411979.725512</td>\n",
       "      <td>53.366311</td>\n",
       "      <td>-6.263792</td>\n",
       "      <td>2.225835</td>\n",
       "      <td>0.085034</td>\n",
       "      <td>0.909828</td>\n",
       "      <td>0.597393</td>\n",
       "      <td>12.569631</td>\n",
       "    </tr>\n",
       "  </tbody>\n",
       "</table>\n",
       "</div>"
      ],
      "text/plain": [
       "        UsedProperty  Property Size Description  Year  Month           Town  \\\n",
       "207901             0                          1  2014      1  601864.418417   \n",
       "207905             1                          0  2014      1  651335.338306   \n",
       "207916             0                          1  2014      1  741771.837018   \n",
       "207925             1                          1  2014      1  414681.974545   \n",
       "207929             1                          2  2014      1  570683.081926   \n",
       "\n",
       "        Apartment  Neighbourhood        Eircode   Latitude  Longitude  \\\n",
       "207901          0       899721.0  628715.337138  53.307878  -6.335665   \n",
       "207905          0      1661424.0  651335.338306  53.288227  -6.238896   \n",
       "207916          1       597863.0  628715.337138  53.291600  -6.312400   \n",
       "207925          0       334587.0  406163.221538  53.353853  -6.372213   \n",
       "207929          1       305308.0  411979.725512  53.366311  -6.263792   \n",
       "\n",
       "        DistanceIFSC  DistanceSchool  DistancePark  DistanceSecSchool  \\\n",
       "207901      7.541595        0.492120      1.438826           0.156609   \n",
       "207905      6.817210        0.100996      2.784711           0.831639   \n",
       "207916      7.799393        0.683556      3.098765           0.968202   \n",
       "207925      8.400802        0.319564      1.909348           0.262801   \n",
       "207929      2.225835        0.085034      0.909828           0.597393   \n",
       "\n",
       "        LogPrice (€)  \n",
       "207901     13.648757  \n",
       "207905     13.532203  \n",
       "207916     12.824045  \n",
       "207925     12.099628  \n",
       "207929     12.569631  "
      ]
     },
     "execution_count": 3,
     "metadata": {},
     "output_type": "execute_result"
    }
   ],
   "source": [
    "irl.head()"
   ]
  },
  {
   "cell_type": "code",
   "execution_count": 4,
   "id": "e7395c4b",
   "metadata": {},
   "outputs": [],
   "source": [
    "# this function finds all values that fall within internationally accepted +-10% of actual prices in our predictions\n",
    "# we can modify the threshold as we feel the need to here\n",
    "def accuracy_threshold(test, pred, num):\n",
    "    test = np.array(test)\n",
    "    pred = np.array(pred)\n",
    "# get within x% of actual price , not within log price as this will be misleading / incorrect\n",
    "    test = np.exp(test)\n",
    "    pred = np.exp(pred)\n",
    "    count = 0\n",
    "    for i in range(len(pred)):\n",
    "        if test[i] != 0:  \n",
    "            ten = test[i] * num\n",
    "            res = test[i] - pred[i]\n",
    "        else:\n",
    "            res = 0\n",
    "            ten = 0\n",
    "        \n",
    "        if res < 0:\n",
    "            res = res * -1\n",
    "        else:\n",
    "            res = res\n",
    "            \n",
    "        if res <= ten:\n",
    "            count += 1\n",
    "        else:\n",
    "            continue\n",
    "    return (count / len(test))"
   ]
  },
  {
   "cell_type": "markdown",
   "id": "6fec85a6",
   "metadata": {},
   "source": [
    "## 2021"
   ]
  },
  {
   "cell_type": "code",
   "execution_count": 5,
   "id": "31fbc139",
   "metadata": {},
   "outputs": [],
   "source": [
    "specific21 = irl[irl['Year'] > 2017]\n",
    "train_21 = specific21[specific21['Year'] < 2021]\n",
    "test_21 = specific21[specific21['Year'] == 2021]\n",
    "\n",
    "x_train_21 = train_21.loc[:, train_21.columns != 'LogPrice (€)']\n",
    "y_train_21 = train_21['LogPrice (€)']\n",
    "\n",
    "x_test_21 = test_21.loc[:, test_21.columns != 'LogPrice (€)']\n",
    "y_test_21 = test_21['LogPrice (€)']"
   ]
  },
  {
   "cell_type": "code",
   "execution_count": 6,
   "id": "9448223c",
   "metadata": {},
   "outputs": [
    {
     "name": "stdout",
     "output_type": "stream",
     "text": [
      "1 Parameters: batch_size: 5 - epochs: 5 Accuracy: 99.77022458719247\n",
      "2 Parameters: batch_size: 5 - epochs: 10 Accuracy: 99.78992057363709\n",
      "3 Parameters: batch_size: 5 - epochs: 50 Accuracy: 99.95789770546781\n",
      "4 Parameters: batch_size: 5 - epochs: 100 Accuracy: 99.97699884842007\n",
      "5 Parameters: batch_size: 10 - epochs: 5 Accuracy: 99.71617577244159\n",
      "6 Parameters: batch_size: 10 - epochs: 10 Accuracy: 99.86599291621599\n",
      "7 Parameters: batch_size: 10 - epochs: 50 Accuracy: 99.9595161856939\n",
      "8 Parameters: batch_size: 10 - epochs: 100 Accuracy: 99.96287976046563\n",
      "9 Parameters: batch_size: 15 - epochs: 5 Accuracy: 99.7110228080643\n",
      "10 Parameters: batch_size: 15 - epochs: 10 Accuracy: 99.62351254795271\n",
      "11 Parameters: batch_size: 15 - epochs: 50 Accuracy: 99.53102991774408\n",
      "12 Parameters: batch_size: 15 - epochs: 100 Accuracy: 99.97498763081644\n",
      "13 Parameters: batch_size: 20 - epochs: 5 Accuracy: 99.79345044875967\n",
      "14 Parameters: batch_size: 20 - epochs: 10 Accuracy: 99.75923090118162\n",
      "15 Parameters: batch_size: 20 - epochs: 50 Accuracy: 99.9664843050641\n",
      "16 Parameters: batch_size: 20 - epochs: 100 Accuracy: 99.98052358164654\n"
     ]
    }
   ],
   "source": [
    "# Defining a function to find the best parameters for ANN\n",
    "from sklearn.metrics import mean_absolute_percentage_error\n",
    "def FunctionFindBestParams(X_train, y_train, X_test, y_test):\n",
    "    \n",
    "    # Defining the list of hyper parameters to try\n",
    "    batch_size_list = [5, 10, 15, 20]\n",
    "    epoch_list = [5, 10, 50, 100]\n",
    "    \n",
    "    import pandas as pd\n",
    "    SearchResultsData = pd.DataFrame(columns=['TrialNumber', 'Parameters', 'Accuracy'])\n",
    "    \n",
    "    # initializing the trials\n",
    "    TrialNumber = 0\n",
    "    for batch_size_trial in batch_size_list:\n",
    "        for epochs_trial in epoch_list:\n",
    "            TrialNumber += 1\n",
    "            # create ANN model\n",
    "            model = Sequential()\n",
    "            # Defining the first layer of the model\n",
    "            model.add(Dense(units = 5, input_dim = X_train.shape[1], kernel_initializer = 'normal', activation = 'relu'))\n",
    " \n",
    "            # Defining the Second layer of the model\n",
    "            model.add(Dense(units = 5, kernel_initializer = 'normal', activation = 'relu'))\n",
    " \n",
    "            # The output neuron is a single fully connected node \n",
    "            # Since we will be predicting a single number\n",
    "            model.add(Dense(1, kernel_initializer = 'normal'))\n",
    " \n",
    "            # Compiling the model\n",
    "            model.compile(loss='mean_squared_error', optimizer = 'adam')\n",
    " \n",
    "            # Fitting the ANN to the Training set\n",
    "            model.fit(X_train, y_train ,batch_size = batch_size_trial, epochs = epochs_trial, verbose=0)\n",
    "        \n",
    "            y_predicted_21 = model.predict(X_test)\n",
    " \n",
    "            MAPE = mean_absolute_percentage_error(y_test, y_predicted_21)\n",
    "            \n",
    "            # printing the results of the current iteration\n",
    "            print(TrialNumber, 'Parameters:','batch_size:', batch_size_trial,'-', 'epochs:',epochs_trial, 'Accuracy:', 100 - MAPE)\n",
    "            \n",
    "            SearchResultsData=SearchResultsData.append(pd.DataFrame(data=[[TrialNumber, str(batch_size_trial)+'-'+str(epochs_trial), 100-MAPE]],\n",
    "                                                                    columns=['TrialNumber', 'Parameters', 'Accuracy'] ))\n",
    "    return(SearchResultsData)\n",
    " \n",
    " \n",
    "\n",
    "##### Calling the function\n",
    "ResultsData = FunctionFindBestParams(x_train_21, y_train_21, x_test_21, y_test_21)"
   ]
  },
  {
   "cell_type": "code",
   "execution_count": 7,
   "id": "85950fb5",
   "metadata": {},
   "outputs": [
    {
     "data": {
      "text/plain": [
       "<AxesSubplot:xlabel='Parameters'>"
      ]
     },
     "execution_count": 7,
     "metadata": {},
     "output_type": "execute_result"
    },
    {
     "data": {
      "image/png": "[encoded data removed]",
      "text/plain": [
       "<Figure size 1080x288 with 1 Axes>"
      ]
     },
     "metadata": {
      "needs_background": "light"
     },
     "output_type": "display_data"
    }
   ],
   "source": [
    "%matplotlib inline\n",
    "ResultsData.plot(x = 'Parameters', y = 'Accuracy', figsize = (15,4), kind = 'line')"
   ]
  },
  {
   "cell_type": "code",
   "execution_count": 8,
   "id": "c58d09cf",
   "metadata": {},
   "outputs": [
    {
     "data": {
      "text/plain": [
       "<keras.callbacks.History at 0x192d54526a0>"
      ]
     },
     "execution_count": 8,
     "metadata": {},
     "output_type": "execute_result"
    }
   ],
   "source": [
    "# create ANN model\n",
    "t = ResultsData.max()\n",
    "lst = t['Parameters'].split('-')\n",
    "model = Sequential()\n",
    " \n",
    "# Defining the Input layer and FIRST hidden layer, both are same!\n",
    "model.add(Dense(units = 5, input_dim = x_train_21.shape[1], kernel_initializer = 'normal', activation = 'relu'))\n",
    " \n",
    "# Defining the Second layer of the model\n",
    "# after the first layer we don't have to specify input_dim as keras configure it automatically\n",
    "model.add(Dense(units = 5, kernel_initializer = 'normal', activation = 'tanh'))\n",
    " \n",
    "# The output neuron is a single fully connected node \n",
    "# Since we will be predicting a single number\n",
    "model.add(Dense(1, kernel_initializer = 'normal'))\n",
    " \n",
    "# Compiling the model\n",
    "model.compile(loss = 'mean_squared_error', optimizer = 'adam')\n",
    " \n",
    "# Fitting the ANN to the Training set\n",
    "model.fit(x_train_21, y_train_21, batch_size = int(lst[0]), epochs = int(lst[1]), verbose = 0)"
   ]
  },
  {
   "cell_type": "code",
   "execution_count": 9,
   "id": "fe4c2c7e",
   "metadata": {},
   "outputs": [
    {
     "name": "stdout",
     "output_type": "stream",
     "text": [
      "MSE for NN 2021 is: 0.1823468060606309\n"
     ]
    }
   ],
   "source": [
    "# calculated values\n",
    "from sklearn.metrics import mean_squared_error\n",
    "y_predicted_21 = model.predict(x_test_21)\n",
    "  \n",
    "# Calculation of Mean Squared Error (MSE)\n",
    "mse = mean_squared_error(y_test_21, y_predicted_21)\n",
    "print('MSE for NN 2021 is: ' + str(mse))"
   ]
  },
  {
   "cell_type": "code",
   "execution_count": 10,
   "id": "f5d6b5e0",
   "metadata": {},
   "outputs": [
    {
     "name": "stdout",
     "output_type": "stream",
     "text": [
      "RMSE for NN 2021 is: 0.4270208496790653\n"
     ]
    }
   ],
   "source": [
    "rmse = mean_squared_error(y_test_21, y_predicted_21, squared = False)\n",
    "print('RMSE for NN 2021 is: ' + str(rmse))"
   ]
  },
  {
   "cell_type": "code",
   "execution_count": 11,
   "id": "039fff62",
   "metadata": {},
   "outputs": [
    {
     "name": "stdout",
     "output_type": "stream",
     "text": [
      "MAPE for NN 2021 is: 0.02275565099230949\n"
     ]
    }
   ],
   "source": [
    "mape = mean_absolute_percentage_error(y_test_21, y_predicted_21)\n",
    "print(\"MAPE for NN 2021 is: \" + str(mape))"
   ]
  },
  {
   "cell_type": "code",
   "execution_count": 12,
   "id": "080cb317",
   "metadata": {},
   "outputs": [
    {
     "name": "stdout",
     "output_type": "stream",
     "text": [
      "Accuracy for NN on 2021 data is: 0.27580372250423013\n"
     ]
    }
   ],
   "source": [
    "acc = accuracy_threshold(y_test_21, y_predicted_21, 0.1)\n",
    "print(\"Accuracy for NN on 2021 data is: \" + str(acc))"
   ]
  },
  {
   "cell_type": "code",
   "execution_count": 13,
   "id": "0649d0f6",
   "metadata": {},
   "outputs": [],
   "source": [
    "cnames=['Algorithm', 'Year', 'RMSE', 'MSE', 'Accuracy', 'MAPE']\n",
    "df11 = pd.DataFrame(columns=cnames)\n",
    "\n",
    "df11 = df11.append({'Algorithm': 'NN',\n",
    "            'Year': 2021,\n",
    "           'RMSE': rmse,\n",
    "           'MSE': mse,\n",
    "           'Accuracy': acc,\n",
    "           'MAPE': mape         \n",
    "          }, ignore_index=True)"
   ]
  },
  {
   "cell_type": "code",
   "execution_count": 14,
   "id": "3d40682e",
   "metadata": {},
   "outputs": [],
   "source": [
    "dfreal1 = pd.DataFrame(y_test_21.values)\n",
    "dfpred1 = pd.DataFrame(y_predicted_21)"
   ]
  },
  {
   "cell_type": "markdown",
   "id": "68ea2522",
   "metadata": {},
   "source": [
    "## 2020"
   ]
  },
  {
   "cell_type": "code",
   "execution_count": 15,
   "id": "4b653254",
   "metadata": {},
   "outputs": [],
   "source": [
    "specific20 = irl[irl['Year'] > 2016]\n",
    "train_20 = specific20[specific20['Year'] < 2020]\n",
    "test_20 = specific20[specific20['Year'] == 2020]\n",
    "\n",
    "x_train_20 = train_20.loc[:, train_20.columns != 'LogPrice (€)']\n",
    "y_train_20 = train_20['LogPrice (€)']\n",
    "\n",
    "x_test_20 = test_20.loc[:, test_20.columns != 'LogPrice (€)']\n",
    "y_test_20 = test_20['LogPrice (€)']"
   ]
  },
  {
   "cell_type": "code",
   "execution_count": 16,
   "id": "e8383513",
   "metadata": {},
   "outputs": [
    {
     "name": "stdout",
     "output_type": "stream",
     "text": [
      "1 Parameters: batch_size: 5 - epochs: 5 Accuracy: 99.77891802243958\n",
      "2 Parameters: batch_size: 5 - epochs: 10 Accuracy: 99.79522545825576\n",
      "3 Parameters: batch_size: 5 - epochs: 50 Accuracy: 99.97675912480746\n",
      "4 Parameters: batch_size: 5 - epochs: 100 Accuracy: 99.98499386277075\n",
      "5 Parameters: batch_size: 10 - epochs: 5 Accuracy: 99.10568113924218\n",
      "6 Parameters: batch_size: 10 - epochs: 10 Accuracy: 99.75718275551434\n",
      "7 Parameters: batch_size: 10 - epochs: 50 Accuracy: 99.98360743099131\n",
      "8 Parameters: batch_size: 10 - epochs: 100 Accuracy: 99.97883528649957\n",
      "9 Parameters: batch_size: 15 - epochs: 5 Accuracy: 99.70797705695966\n",
      "10 Parameters: batch_size: 15 - epochs: 10 Accuracy: 99.05124402263347\n",
      "11 Parameters: batch_size: 15 - epochs: 50 Accuracy: 99.93717459491957\n",
      "12 Parameters: batch_size: 15 - epochs: 100 Accuracy: 99.88660523871289\n",
      "13 Parameters: batch_size: 20 - epochs: 5 Accuracy: 99.75653988259118\n",
      "14 Parameters: batch_size: 20 - epochs: 10 Accuracy: 99.69130870230971\n",
      "15 Parameters: batch_size: 20 - epochs: 50 Accuracy: 99.97588366736142\n",
      "16 Parameters: batch_size: 20 - epochs: 100 Accuracy: 99.97368053750525\n"
     ]
    },
    {
     "data": {
      "text/plain": [
       "<AxesSubplot:xlabel='Parameters'>"
      ]
     },
     "execution_count": 16,
     "metadata": {},
     "output_type": "execute_result"
    },
    {
     "data": {
      "image/png": "[encoded data removed]",
      "text/plain": [
       "<Figure size 1080x288 with 1 Axes>"
      ]
     },
     "metadata": {
      "needs_background": "light"
     },
     "output_type": "display_data"
    }
   ],
   "source": [
    "ResultsData1 = FunctionFindBestParams(x_train_20, y_train_20, x_test_20, y_test_20)\n",
    "ResultsData1.plot(x = 'Parameters', y = 'Accuracy', figsize = (15,4), kind = 'line')"
   ]
  },
  {
   "cell_type": "code",
   "execution_count": 17,
   "id": "01e44c81",
   "metadata": {},
   "outputs": [
    {
     "data": {
      "text/plain": [
       "<keras.callbacks.History at 0x192cf0f7940>"
      ]
     },
     "execution_count": 17,
     "metadata": {},
     "output_type": "execute_result"
    }
   ],
   "source": [
    "# create ANN model\n",
    "t = ResultsData1.max()\n",
    "lst = t['Parameters'].split('-')\n",
    "model1 = Sequential()\n",
    " \n",
    "# Defining the Input layer and FIRST hidden layer, both are same!\n",
    "model1.add(Dense(units = 5, input_dim = x_train_20.shape[1], kernel_initializer = 'normal', activation = 'relu'))\n",
    " \n",
    "# Defining the Second layer of the model\n",
    "# after the first layer we don't have to specify input_dim as keras configure it automatically\n",
    "model1.add(Dense(units = 5, kernel_initializer = 'normal', activation = 'tanh'))\n",
    " \n",
    "# The output neuron is a single fully connected node \n",
    "# Since we will be predicting a single number\n",
    "model1.add(Dense(1, kernel_initializer = 'normal'))\n",
    " \n",
    "# Compiling the model\n",
    "model1.compile(loss = 'mean_squared_error', optimizer = 'adam')\n",
    " \n",
    "# Fitting the ANN to the Training set\n",
    "model1.fit(x_train_20, y_train_20, batch_size = int(lst[0]), epochs = int(lst[1]), verbose = 0)"
   ]
  },
  {
   "cell_type": "code",
   "execution_count": 18,
   "id": "dd8f2359",
   "metadata": {},
   "outputs": [
    {
     "name": "stdout",
     "output_type": "stream",
     "text": [
      "MSE for NN 2020 is: 0.17102317581950952\n"
     ]
    }
   ],
   "source": [
    "y_predicted_20 = model1.predict(x_test_20)\n",
    "  \n",
    "# Calculation of Mean Squared Error (MSE)\n",
    "mse = mean_squared_error(y_test_20, y_predicted_20)\n",
    "print('MSE for NN 2020 is: ' + str(mse))"
   ]
  },
  {
   "cell_type": "code",
   "execution_count": 19,
   "id": "dc31c03f",
   "metadata": {},
   "outputs": [
    {
     "name": "stdout",
     "output_type": "stream",
     "text": [
      "RMSE for NN 2020 is: 0.41354948412434217\n"
     ]
    }
   ],
   "source": [
    "rmse = mean_squared_error(y_test_20, y_predicted_20, squared = False)\n",
    "print('RMSE for NN 2020 is: ' + str(rmse))"
   ]
  },
  {
   "cell_type": "code",
   "execution_count": 20,
   "id": "50927029",
   "metadata": {},
   "outputs": [
    {
     "name": "stdout",
     "output_type": "stream",
     "text": [
      "MAPE for NN 2020 is: 0.022949642640744287\n"
     ]
    }
   ],
   "source": [
    "mape = mean_absolute_percentage_error(y_test_20, y_predicted_20)\n",
    "print(\"MAPE for NN 2020 is: \" + str(mape))"
   ]
  },
  {
   "cell_type": "code",
   "execution_count": 21,
   "id": "47669748",
   "metadata": {},
   "outputs": [
    {
     "name": "stdout",
     "output_type": "stream",
     "text": [
      "Accuracy for NN on 2020 data is: 0.2886762360446571\n"
     ]
    }
   ],
   "source": [
    "acc = accuracy_threshold(y_test_20, y_predicted_20, 0.1)\n",
    "print(\"Accuracy for NN on 2020 data is: \" + str(acc))"
   ]
  },
  {
   "cell_type": "code",
   "execution_count": 22,
   "id": "f8445419",
   "metadata": {},
   "outputs": [],
   "source": [
    "cnames=['Algorithm', 'Year', 'RMSE', 'MSE', 'Accuracy', 'MAPE']\n",
    "df12 = pd.DataFrame(columns=cnames)\n",
    "\n",
    "df12 = df12.append({'Algorithm': 'NN',\n",
    "            'Year': 2020,\n",
    "           'RMSE': rmse,\n",
    "           'MSE': mse,\n",
    "           'Accuracy': acc,\n",
    "           'MAPE': mape         \n",
    "          }, ignore_index=True)"
   ]
  },
  {
   "cell_type": "code",
   "execution_count": 23,
   "id": "3deebf13",
   "metadata": {},
   "outputs": [],
   "source": [
    "dfreal2 = pd.DataFrame(y_test_20.values)\n",
    "dfpred2 = pd.DataFrame(y_predicted_20)"
   ]
  },
  {
   "cell_type": "markdown",
   "id": "b9caf1e5",
   "metadata": {},
   "source": [
    "## 2019"
   ]
  },
  {
   "cell_type": "code",
   "execution_count": 24,
   "id": "6c0e41c7",
   "metadata": {},
   "outputs": [],
   "source": [
    "specific19 = irl[irl['Year'] > 2015]\n",
    "train_19 = specific19[specific19['Year'] < 2019]\n",
    "test_19 = specific19[specific19['Year'] == 2019]\n",
    "\n",
    "x_train_19 = train_19.loc[:, train_19.columns != 'LogPrice (€)']\n",
    "y_train_19 = train_19['LogPrice (€)']\n",
    "\n",
    "x_test_19 = test_19.loc[:, test_19.columns != 'LogPrice (€)']\n",
    "y_test_19 = test_19['LogPrice (€)']"
   ]
  },
  {
   "cell_type": "code",
   "execution_count": 25,
   "id": "5f99e2fe",
   "metadata": {},
   "outputs": [
    {
     "name": "stdout",
     "output_type": "stream",
     "text": [
      "1 Parameters: batch_size: 5 - epochs: 5 Accuracy: 99.51902204455864\n",
      "2 Parameters: batch_size: 5 - epochs: 10 Accuracy: 99.9845491718794\n",
      "3 Parameters: batch_size: 5 - epochs: 50 Accuracy: 99.96627173515708\n",
      "4 Parameters: batch_size: 5 - epochs: 100 Accuracy: 99.98199026800016\n",
      "5 Parameters: batch_size: 10 - epochs: 5 Accuracy: 99.71100393839416\n",
      "6 Parameters: batch_size: 10 - epochs: 10 Accuracy: 99.89257070600682\n",
      "7 Parameters: batch_size: 10 - epochs: 50 Accuracy: 99.95880402403054\n",
      "8 Parameters: batch_size: 10 - epochs: 100 Accuracy: 99.97556438083589\n",
      "9 Parameters: batch_size: 15 - epochs: 5 Accuracy: 99.81347623410224\n",
      "10 Parameters: batch_size: 15 - epochs: 10 Accuracy: 99.92444783674323\n",
      "11 Parameters: batch_size: 15 - epochs: 50 Accuracy: 99.96442670325186\n",
      "12 Parameters: batch_size: 15 - epochs: 100 Accuracy: 99.9707339504157\n",
      "13 Parameters: batch_size: 20 - epochs: 5 Accuracy: 99.79271594742805\n",
      "14 Parameters: batch_size: 20 - epochs: 10 Accuracy: 99.06245365093974\n",
      "15 Parameters: batch_size: 20 - epochs: 50 Accuracy: 99.31404272161525\n",
      "16 Parameters: batch_size: 20 - epochs: 100 Accuracy: 99.93526274278635\n"
     ]
    },
    {
     "data": {
      "text/plain": [
       "<AxesSubplot:xlabel='Parameters'>"
      ]
     },
     "execution_count": 25,
     "metadata": {},
     "output_type": "execute_result"
    },
    {
     "data": {
      "image/png": "[encoded data removed]",
      "text/plain": [
       "<Figure size 1080x288 with 1 Axes>"
      ]
     },
     "metadata": {
      "needs_background": "light"
     },
     "output_type": "display_data"
    }
   ],
   "source": [
    "ResultsData2 = FunctionFindBestParams(x_train_19, y_train_19, x_test_19, y_test_19)\n",
    "ResultsData2.plot(x = 'Parameters', y = 'Accuracy', figsize = (15,4), kind = 'line')"
   ]
  },
  {
   "cell_type": "code",
   "execution_count": 26,
   "id": "d091a4a7",
   "metadata": {},
   "outputs": [
    {
     "data": {
      "text/plain": [
       "<keras.callbacks.History at 0x192e0d093d0>"
      ]
     },
     "execution_count": 26,
     "metadata": {},
     "output_type": "execute_result"
    }
   ],
   "source": [
    "t = ResultsData2.max()\n",
    "lst2 = t['Parameters'].split('-')\n",
    "\n",
    "# create ANN model\n",
    "model2 = Sequential()\n",
    " \n",
    "# Defining the Input layer and FIRST hidden layer, both are same!\n",
    "model2.add(Dense(units = 5, input_dim = x_train_19.shape[1], kernel_initializer = 'normal', activation = 'relu'))\n",
    " \n",
    "# Defining the Second layer of the model\n",
    "# after the first layer we don't have to specify input_dim as keras configure it automatically\n",
    "model2.add(Dense(units = 5, kernel_initializer = 'normal', activation = 'tanh'))\n",
    " \n",
    "# The output neuron is a single fully connected node \n",
    "# Since we will be predicting a single number\n",
    "model2.add(Dense(1, kernel_initializer = 'normal'))\n",
    " \n",
    "# Compiling the model\n",
    "model2.compile(loss = 'mean_squared_error', optimizer = 'adam')\n",
    " \n",
    "# Fitting the ANN to the Training set\n",
    "model2.fit(x_train_19, y_train_19, batch_size = int(lst2[0]), epochs = int(lst2[1]), verbose = 0)"
   ]
  },
  {
   "cell_type": "code",
   "execution_count": 27,
   "id": "8ed0d913",
   "metadata": {},
   "outputs": [
    {
     "name": "stdout",
     "output_type": "stream",
     "text": [
      "MSE for NN 2019 is: 0.1243036426147496\n"
     ]
    }
   ],
   "source": [
    "y_predicted_19 = model2.predict(x_test_19)\n",
    "  \n",
    "# Calculation of Mean Squared Error (MSE)\n",
    "mse = mean_squared_error(y_test_19, y_predicted_19)\n",
    "print('MSE for NN 2019 is: ' + str(mse))"
   ]
  },
  {
   "cell_type": "code",
   "execution_count": 28,
   "id": "f299999d",
   "metadata": {},
   "outputs": [
    {
     "name": "stdout",
     "output_type": "stream",
     "text": [
      "RMSE for NN 2019 is: 0.35256721715830247\n"
     ]
    }
   ],
   "source": [
    "rmse = mean_squared_error(y_test_19, y_predicted_19, squared = False)\n",
    "print('RMSE for NN 2019 is: ' + str(rmse))"
   ]
  },
  {
   "cell_type": "code",
   "execution_count": 29,
   "id": "292eedcc",
   "metadata": {},
   "outputs": [
    {
     "name": "stdout",
     "output_type": "stream",
     "text": [
      "MAPE for NN 2019 is: 0.018189002758996726\n"
     ]
    }
   ],
   "source": [
    "mape = mean_absolute_percentage_error(y_test_19, y_predicted_19)\n",
    "print(\"MAPE for NN 2019 is: \" + str(mape))"
   ]
  },
  {
   "cell_type": "code",
   "execution_count": 30,
   "id": "bed20c4d",
   "metadata": {},
   "outputs": [
    {
     "name": "stdout",
     "output_type": "stream",
     "text": [
      "Accuracy for NN on 2019 data is: 0.36180904522613067\n"
     ]
    }
   ],
   "source": [
    "acc = accuracy_threshold(y_test_19, y_predicted_19, 0.1)\n",
    "print(\"Accuracy for NN on 2019 data is: \" + str(acc))"
   ]
  },
  {
   "cell_type": "code",
   "execution_count": 31,
   "id": "25e1f277",
   "metadata": {},
   "outputs": [],
   "source": [
    "cnames=['Algorithm', 'Year', 'RMSE', 'MSE', 'Accuracy', 'MAPE']\n",
    "df13 = pd.DataFrame(columns=cnames)\n",
    "\n",
    "df13 = df13.append({'Algorithm': 'NN',\n",
    "            'Year': 2019,\n",
    "           'RMSE': rmse,\n",
    "           'MSE': mse,\n",
    "           'Accuracy': acc,\n",
    "           'MAPE': mape         \n",
    "          }, ignore_index=True)"
   ]
  },
  {
   "cell_type": "code",
   "execution_count": 32,
   "id": "6f00b258",
   "metadata": {},
   "outputs": [],
   "source": [
    "dfreal3 = pd.DataFrame(y_test_19.values)\n",
    "dfpred3 = pd.DataFrame(y_predicted_19)"
   ]
  },
  {
   "cell_type": "markdown",
   "id": "6beb0454",
   "metadata": {},
   "source": [
    "## 2018"
   ]
  },
  {
   "cell_type": "code",
   "execution_count": 33,
   "id": "e52bf8e0",
   "metadata": {},
   "outputs": [],
   "source": [
    "specific18 = irl[irl['Year'] > 2014]\n",
    "train_18 = specific18[specific18['Year'] < 2018]\n",
    "test_18 = specific18[specific18['Year'] == 2018]\n",
    "\n",
    "x_train_18 = train_18.loc[:, train_18.columns != 'LogPrice (€)']\n",
    "y_train_18 = train_18['LogPrice (€)']\n",
    "\n",
    "x_test_18 = test_18.loc[:, test_18.columns != 'LogPrice (€)']\n",
    "y_test_18 = test_18['LogPrice (€)']"
   ]
  },
  {
   "cell_type": "code",
   "execution_count": 34,
   "id": "9c3e8a74",
   "metadata": {},
   "outputs": [
    {
     "name": "stdout",
     "output_type": "stream",
     "text": [
      "1 Parameters: batch_size: 5 - epochs: 5 Accuracy: 99.77995217201587\n",
      "2 Parameters: batch_size: 5 - epochs: 10 Accuracy: 99.97293505634195\n",
      "3 Parameters: batch_size: 5 - epochs: 50 Accuracy: 99.96675700015153\n",
      "4 Parameters: batch_size: 5 - epochs: 100 Accuracy: 99.95427030864535\n",
      "5 Parameters: batch_size: 10 - epochs: 5 Accuracy: 99.64494407447823\n",
      "6 Parameters: batch_size: 10 - epochs: 10 Accuracy: 99.87840202869963\n",
      "7 Parameters: batch_size: 10 - epochs: 50 Accuracy: 99.59662918006154\n",
      "8 Parameters: batch_size: 10 - epochs: 100 Accuracy: 99.9839757845473\n",
      "9 Parameters: batch_size: 15 - epochs: 5 Accuracy: 99.52997091184491\n",
      "10 Parameters: batch_size: 15 - epochs: 10 Accuracy: 99.64310286012666\n",
      "11 Parameters: batch_size: 15 - epochs: 50 Accuracy: 99.76343137379305\n",
      "12 Parameters: batch_size: 15 - epochs: 100 Accuracy: 99.96731430358203\n",
      "13 Parameters: batch_size: 20 - epochs: 5 Accuracy: 99.70386664914065\n",
      "14 Parameters: batch_size: 20 - epochs: 10 Accuracy: 99.04037154708953\n",
      "15 Parameters: batch_size: 20 - epochs: 50 Accuracy: 99.7309151092034\n",
      "16 Parameters: batch_size: 20 - epochs: 100 Accuracy: 99.97680356486389\n"
     ]
    },
    {
     "data": {
      "text/plain": [
       "<AxesSubplot:xlabel='Parameters'>"
      ]
     },
     "execution_count": 34,
     "metadata": {},
     "output_type": "execute_result"
    },
    {
     "data": {
      "image/png": "[encoded data removed]",
      "text/plain": [
       "<Figure size 1080x288 with 1 Axes>"
      ]
     },
     "metadata": {
      "needs_background": "light"
     },
     "output_type": "display_data"
    }
   ],
   "source": [
    "ResultsData3 = FunctionFindBestParams(x_train_18, y_train_18, x_test_18, y_test_18)\n",
    "ResultsData3.plot(x = 'Parameters', y = 'Accuracy', figsize = (15,4), kind = 'line')"
   ]
  },
  {
   "cell_type": "code",
   "execution_count": 35,
   "id": "e97e5512",
   "metadata": {},
   "outputs": [
    {
     "data": {
      "text/plain": [
       "<keras.callbacks.History at 0x192d2f2d190>"
      ]
     },
     "execution_count": 35,
     "metadata": {},
     "output_type": "execute_result"
    }
   ],
   "source": [
    "t = ResultsData3.max()\n",
    "lst2 = t['Parameters'].split('-')\n",
    "\n",
    "# create ANN model\n",
    "model2 = Sequential()\n",
    " \n",
    "# Defining the Input layer and FIRST hidden layer, both are same!\n",
    "model2.add(Dense(units = 5, input_dim = x_train_18.shape[1], kernel_initializer = 'normal', activation = 'relu'))\n",
    " \n",
    "# Defining the Second layer of the model\n",
    "# after the first layer we don't have to specify input_dim as keras configure it automatically\n",
    "model2.add(Dense(units = 5, kernel_initializer = 'normal', activation = 'tanh'))\n",
    " \n",
    "# The output neuron is a single fully connected node \n",
    "# Since we will be predicting a single number\n",
    "model2.add(Dense(1, kernel_initializer = 'normal'))\n",
    " \n",
    "# Compiling the model\n",
    "model2.compile(loss = 'mean_squared_error', optimizer = 'adam')\n",
    " \n",
    "# Fitting the ANN to the Training set\n",
    "model2.fit(x_train_18, y_train_18, batch_size = int(lst2[0]), epochs = int(lst2[1]), verbose = 0)"
   ]
  },
  {
   "cell_type": "code",
   "execution_count": 36,
   "id": "20e78fcf",
   "metadata": {},
   "outputs": [
    {
     "name": "stdout",
     "output_type": "stream",
     "text": [
      "MSE for NN 2018 is: 0.23880581652385477\n"
     ]
    }
   ],
   "source": [
    "y_predicted_18 = model2.predict(x_test_18)\n",
    "  \n",
    "# Calculation of Mean Squared Error (MSE)\n",
    "mse = mean_squared_error(y_test_18, y_predicted_18)\n",
    "print('MSE for NN 2018 is: ' + str(mse))"
   ]
  },
  {
   "cell_type": "code",
   "execution_count": 37,
   "id": "a2a55922",
   "metadata": {},
   "outputs": [
    {
     "name": "stdout",
     "output_type": "stream",
     "text": [
      "RMSE for NN 2018 is: 0.488677620240435\n"
     ]
    }
   ],
   "source": [
    "rmse = mean_squared_error(y_test_18, y_predicted_18, squared = False)\n",
    "print('RMSE for NN 2018 is: ' + str(rmse))"
   ]
  },
  {
   "cell_type": "code",
   "execution_count": 38,
   "id": "363ad720",
   "metadata": {},
   "outputs": [
    {
     "name": "stdout",
     "output_type": "stream",
     "text": [
      "MAPE for NN 2018 is: 0.026910487370823848\n"
     ]
    }
   ],
   "source": [
    "mape = mean_absolute_percentage_error(y_test_18, y_predicted_18)\n",
    "print(\"MAPE for NN 2018 is: \" + str(mape))"
   ]
  },
  {
   "cell_type": "code",
   "execution_count": 39,
   "id": "f7eb5b01",
   "metadata": {},
   "outputs": [
    {
     "name": "stdout",
     "output_type": "stream",
     "text": [
      "Accuracy for NN on 2018 data is: 0.28019925280199254\n"
     ]
    }
   ],
   "source": [
    "acc = accuracy_threshold(y_test_18, y_predicted_18, 0.1)\n",
    "print(\"Accuracy for NN on 2018 data is: \" + str(acc))"
   ]
  },
  {
   "cell_type": "code",
   "execution_count": 40,
   "id": "cbb23ff8",
   "metadata": {},
   "outputs": [],
   "source": [
    "cnames=['Algorithm', 'Year', 'RMSE', 'MSE', 'Accuracy', 'MAPE']\n",
    "df14 = pd.DataFrame(columns=cnames)\n",
    "\n",
    "df14 = df14.append({'Algorithm': 'NN',\n",
    "            'Year': 2018,\n",
    "           'RMSE': rmse,\n",
    "           'MSE': mse,\n",
    "           'Accuracy': acc,\n",
    "           'MAPE': mape         \n",
    "          }, ignore_index=True)"
   ]
  },
  {
   "cell_type": "code",
   "execution_count": 41,
   "id": "241ec412",
   "metadata": {},
   "outputs": [],
   "source": [
    "dfreal4 = pd.DataFrame(y_test_18.values)\n",
    "dfpred4 = pd.DataFrame(y_predicted_18)"
   ]
  },
  {
   "cell_type": "markdown",
   "id": "4f3a9b14",
   "metadata": {},
   "source": [
    "## Results & Evaluation"
   ]
  },
  {
   "cell_type": "code",
   "execution_count": 50,
   "id": "860c18dc",
   "metadata": {},
   "outputs": [],
   "source": [
    "vis1 = pd.concat([df11, df12, df13, df14], ignore_index=True)"
   ]
  },
  {
   "cell_type": "code",
   "execution_count": 51,
   "id": "12acb2a9",
   "metadata": {},
   "outputs": [
    {
     "data": {
      "image/png": "[encoded data removed]",
      "text/plain": [
       "<Figure size 1800x576 with 1 Axes>"
      ]
     },
     "metadata": {
      "needs_background": "light"
     },
     "output_type": "display_data"
    }
   ],
   "source": [
    "## had to leave 2017 out due to strange error\n",
    "plt.subplots(figsize = (25, 8))\n",
    "plt.plot(vis1['Year'], vis1['Accuracy'], label = 'ANN', color = 'turquoise')\n",
    "plt.xlabel('Year', fontsize = 15)\n",
    "plt.ylabel('Accuracy', fontsize = 15)\n",
    "plt.title('ANN from scratch Results 2017 - 2021')\n",
    "plt.legend()\n",
    "plt.show()"
   ]
  },
  {
   "cell_type": "code",
   "execution_count": 52,
   "id": "fc47ed66",
   "metadata": {},
   "outputs": [
    {
     "name": "stdout",
     "output_type": "stream",
     "text": [
      "Mean accuracy for ANN over period 2017-2021 is: 0.30162206414425263\n"
     ]
    }
   ],
   "source": [
    "print(\"Mean accuracy for ANN over period 2017-2021 is: \" + str(vis1['Accuracy'].mean()))"
   ]
  },
  {
   "cell_type": "code",
   "execution_count": 53,
   "id": "afb19c15",
   "metadata": {},
   "outputs": [],
   "source": [
    "actual = pd.concat([dfreal1, dfreal2, dfreal3, dfreal4], ignore_index = True)\n",
    "actual.rename(columns = {0: 'Actual'}, inplace = True)\n",
    "\n",
    "pred = pd.concat([dfpred1, dfpred2, dfpred3, dfpred4], ignore_index = True)\n",
    "pred.rename(columns={0: 'Predicted'}, inplace = True)"
   ]
  },
  {
   "cell_type": "code",
   "execution_count": 54,
   "id": "6f328550",
   "metadata": {},
   "outputs": [
    {
     "data": {
      "text/html": [
       "<div>\n",
       "<style scoped>\n",
       "    .dataframe tbody tr th:only-of-type {\n",
       "        vertical-align: middle;\n",
       "    }\n",
       "\n",
       "    .dataframe tbody tr th {\n",
       "        vertical-align: top;\n",
       "    }\n",
       "\n",
       "    .dataframe thead th {\n",
       "        text-align: right;\n",
       "    }\n",
       "</style>\n",
       "<table border=\"1\" class=\"dataframe\">\n",
       "  <thead>\n",
       "    <tr style=\"text-align: right;\">\n",
       "      <th></th>\n",
       "      <th>Actual</th>\n",
       "      <th>Predicted</th>\n",
       "    </tr>\n",
       "  </thead>\n",
       "  <tbody>\n",
       "    <tr>\n",
       "      <th>0</th>\n",
       "      <td>12.716376</td>\n",
       "      <td>12.896753</td>\n",
       "    </tr>\n",
       "    <tr>\n",
       "      <th>1</th>\n",
       "      <td>12.838977</td>\n",
       "      <td>12.896753</td>\n",
       "    </tr>\n",
       "    <tr>\n",
       "      <th>2</th>\n",
       "      <td>13.164398</td>\n",
       "      <td>12.896753</td>\n",
       "    </tr>\n",
       "    <tr>\n",
       "      <th>3</th>\n",
       "      <td>12.888984</td>\n",
       "      <td>12.896753</td>\n",
       "    </tr>\n",
       "    <tr>\n",
       "      <th>4</th>\n",
       "      <td>12.744948</td>\n",
       "      <td>12.896753</td>\n",
       "    </tr>\n",
       "  </tbody>\n",
       "</table>\n",
       "</div>"
      ],
      "text/plain": [
       "      Actual  Predicted\n",
       "0  12.716376  12.896753\n",
       "1  12.838977  12.896753\n",
       "2  13.164398  12.896753\n",
       "3  12.888984  12.896753\n",
       "4  12.744948  12.896753"
      ]
     },
     "execution_count": 54,
     "metadata": {},
     "output_type": "execute_result"
    }
   ],
   "source": [
    "actualvpred = actual.join(pred)\n",
    "actualvpred.head()"
   ]
  },
  {
   "cell_type": "code",
   "execution_count": 55,
   "id": "217ec5ea",
   "metadata": {},
   "outputs": [],
   "source": [
    "exp = np.exp(actualvpred)"
   ]
  },
  {
   "cell_type": "code",
   "execution_count": 56,
   "id": "9e10fe23",
   "metadata": {},
   "outputs": [
    {
     "data": {
      "text/plain": [
       "(2817, 2)"
      ]
     },
     "execution_count": 56,
     "metadata": {},
     "output_type": "execute_result"
    }
   ],
   "source": [
    "exp.shape"
   ]
  },
  {
   "cell_type": "code",
   "execution_count": 57,
   "id": "f73d7fbf",
   "metadata": {},
   "outputs": [
    {
     "data": {
      "image/png": "[encoded data removed]",
      "text/plain": [
       "<Figure size 720x720 with 1 Axes>"
      ]
     },
     "metadata": {
      "needs_background": "light"
     },
     "output_type": "display_data"
    }
   ],
   "source": [
    "# plot predicted vs actual\n",
    "## this is using actual prices\n",
    "plt.figure(figsize = (10, 10))\n",
    "plt.scatter(exp['Actual'], exp['Predicted'], c = 'dodgerblue')\n",
    "\n",
    "p1 = max(max(exp['Predicted']), max(exp['Actual']))\n",
    "p2 = min(min(exp['Predicted']), min(exp['Actual']))\n",
    "plt.plot([p1, p2], [p1, p2], 'b-')\n",
    "plt.xlabel('True Values', fontsize = 15)\n",
    "plt.ylabel('Predictions', fontsize = 15)\n",
    "plt.title('ANN Actual Vs Predicted Values')\n",
    "plt.axis('equal')\n",
    "plt.show()"
   ]
  },
  {
   "cell_type": "markdown",
   "id": "f8623018",
   "metadata": {},
   "source": [
    "## Opinions on these Results\n",
    "\n",
    "Overall, these results are very poor. Even with more layers and testing out of more hyperparameter tuning it is unlikely in the extreme that our results would make up the necessary ~30% on our best performing model (TPOT AutoML). We will not be trying this going forward with other cities as it is clear these results are of such a poor quality. Even still the AutoML libraries we are utilising contain NN / ANN libraries in them and they are never the best fit for our data. It is quite common that deep learning models struggle with smaller datasets like so and are more suited for larger datasets."
   ]
  }
 ],
 "metadata": {
  "kernelspec": {
   "display_name": "Python 3 (ipykernel)",
   "language": "python",
   "name": "python3"
  },
  "language_info": {
   "codemirror_mode": {
    "name": "ipython",
    "version": 3
   },
   "file_extension": ".py",
   "mimetype": "text/x-python",
   "name": "python",
   "nbconvert_exporter": "python",
   "pygments_lexer": "ipython3",
   "version": "3.8.12"
  }
 },
 "nbformat": 4,
 "nbformat_minor": 5
}
