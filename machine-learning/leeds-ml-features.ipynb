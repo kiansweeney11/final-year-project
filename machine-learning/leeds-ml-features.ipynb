{
 "cells": [
  {
   "cell_type": "code",
   "execution_count": 1,
   "id": "5342e164",
   "metadata": {},
   "outputs": [
    {
     "name": "stdout",
     "output_type": "stream",
     "text": [
      "Imported sci-kit learn and AutoML libraries!\n"
     ]
    }
   ],
   "source": [
    "import pandas as pd\n",
    "import numpy as np\n",
    "from sklearn.datasets import make_classification\n",
    "from sklearn.model_selection import train_test_split\n",
    "import os\n",
    "from supervised.automl import AutoML\n",
    "import category_encoders as ce\n",
    "import math\n",
    "\n",
    "# visualization\n",
    "import seaborn as sns\n",
    "import matplotlib.pyplot as plt\n",
    "\n",
    "from sklearn.metrics import accuracy_score\n",
    "from sklearn.metrics import mean_squared_error\n",
    "from sklearn.model_selection import train_test_split\n",
    "from sklearn.model_selection import cross_val_score, GridSearchCV\n",
    "from sklearn.linear_model import LogisticRegression\n",
    "from sklearn.tree import DecisionTreeClassifier\n",
    "from sklearn.ensemble import RandomForestClassifier\n",
    "from category_encoders import TargetEncoder\n",
    "from sklearn.metrics import median_absolute_error\n",
    "print('Imported sci-kit learn and AutoML libraries!')"
   ]
  },
  {
   "cell_type": "markdown",
   "id": "c2930a18",
   "metadata": {},
   "source": [
    "# UK Prediction - Leeds City\n",
    "\n",
    "Now we will rerun our experiment with added locational attributes to see if it improves our model."
   ]
  },
  {
   "cell_type": "code",
   "execution_count": 2,
   "id": "fa05a057",
   "metadata": {},
   "outputs": [],
   "source": [
    "# new file containing rows with our focused area of Dublin found through exploratory analysis\n",
    "irl = pd.read_csv('leefourfeatures.csv', index_col = 'Unnamed: 0')"
   ]
  },
  {
   "cell_type": "code",
   "execution_count": 3,
   "id": "d429f24f",
   "metadata": {},
   "outputs": [
    {
     "data": {
      "text/plain": [
       "(40943, 23)"
      ]
     },
     "execution_count": 3,
     "metadata": {},
     "output_type": "execute_result"
    }
   ],
   "source": [
    "irl.shape"
   ]
  },
  {
   "cell_type": "code",
   "execution_count": 4,
   "id": "2dc7ee4d",
   "metadata": {},
   "outputs": [
    {
     "data": {
      "text/plain": [
       "WEST YORKSHIRE     37826\n",
       "NORTH YORKSHIRE     3117\n",
       "Name: County, dtype: int64"
      ]
     },
     "execution_count": 4,
     "metadata": {},
     "output_type": "execute_result"
    }
   ],
   "source": [
    "irl['County'].value_counts()"
   ]
  },
  {
   "cell_type": "code",
   "execution_count": 5,
   "id": "40b3cfca",
   "metadata": {},
   "outputs": [],
   "source": [
    "irl.drop(columns = ['Transaction unique identifier', 'Town/City', 'Add1', 'HouseNum', 'geocode'], inplace = True)"
   ]
  },
  {
   "cell_type": "code",
   "execution_count": 6,
   "id": "c1079207",
   "metadata": {},
   "outputs": [],
   "source": [
    "irl = irl.dropna()"
   ]
  },
  {
   "cell_type": "code",
   "execution_count": 7,
   "id": "0ee56103",
   "metadata": {},
   "outputs": [
    {
     "data": {
      "text/plain": [
       "(40925, 18)"
      ]
     },
     "execution_count": 7,
     "metadata": {},
     "output_type": "execute_result"
    }
   ],
   "source": [
    "irl.shape"
   ]
  },
  {
   "cell_type": "code",
   "execution_count": 8,
   "id": "cc1c6dce",
   "metadata": {},
   "outputs": [],
   "source": [
    "dt = list(irl['Postcode'])\n",
    "ps = []\n",
    "for i in range(len(dt)):\n",
    "    strg = dt[i][:4]\n",
    "    ps.append(strg)"
   ]
  },
  {
   "cell_type": "code",
   "execution_count": 9,
   "id": "17f6d0e6",
   "metadata": {},
   "outputs": [
    {
     "data": {
      "text/plain": [
       "'LS25'"
      ]
     },
     "execution_count": 9,
     "metadata": {},
     "output_type": "execute_result"
    }
   ],
   "source": [
    "ps[0]"
   ]
  },
  {
   "cell_type": "code",
   "execution_count": 10,
   "id": "b278d857",
   "metadata": {},
   "outputs": [],
   "source": [
    "irl['Postcode'] = ps"
   ]
  },
  {
   "cell_type": "code",
   "execution_count": 11,
   "id": "77f121eb",
   "metadata": {},
   "outputs": [],
   "source": [
    "# this function finds all values that fall within internationally accepted +-10% of actual prices in our predictions\n",
    "# we can modify the threshold as we feel the need to here\n",
    "def accuracy_threshold(test, pred, num):\n",
    "    test = np.array(test)\n",
    "    pred = np.array(pred)\n",
    "# get within x% of actual price , not within log price as this will be misleading / incorrect\n",
    "    test = np.exp(test)\n",
    "    pred = np.exp(pred)\n",
    "    count = 0\n",
    "    for i in range(len(pred)):\n",
    "        if test[i] != 0:  \n",
    "            ten = test[i] * num\n",
    "            res = test[i] - pred[i]\n",
    "        else:\n",
    "            res = 0\n",
    "            ten = 0\n",
    "        \n",
    "        if res < 0:\n",
    "            res = res * -1\n",
    "        else:\n",
    "            res = res\n",
    "            \n",
    "        if res <= ten:\n",
    "            count += 1\n",
    "        else:\n",
    "            continue\n",
    "    return (count / len(test))"
   ]
  },
  {
   "cell_type": "code",
   "execution_count": 12,
   "id": "036abe64",
   "metadata": {},
   "outputs": [],
   "source": [
    "encoder = TargetEncoder()\n",
    "irl['County'] = encoder.fit_transform(irl['County'], irl['Price'])"
   ]
  },
  {
   "cell_type": "code",
   "execution_count": 13,
   "id": "35e0ec37",
   "metadata": {},
   "outputs": [],
   "source": [
    "encoder = TargetEncoder()\n",
    "irl['District'] = encoder.fit_transform(irl['District'], irl['Price'])"
   ]
  },
  {
   "cell_type": "code",
   "execution_count": 14,
   "id": "a04a2432",
   "metadata": {},
   "outputs": [],
   "source": [
    "encoder = TargetEncoder()\n",
    "irl['Add3'] = encoder.fit_transform(irl['Add3'], irl['Price'])"
   ]
  },
  {
   "cell_type": "code",
   "execution_count": 15,
   "id": "e4ba6659",
   "metadata": {},
   "outputs": [],
   "source": [
    "encoder = TargetEncoder()\n",
    "irl['Postcode'] = encoder.fit_transform(irl['Postcode'], irl['Price'])"
   ]
  },
  {
   "cell_type": "code",
   "execution_count": 16,
   "id": "7f74ea74",
   "metadata": {},
   "outputs": [],
   "source": [
    "encoder = TargetEncoder()\n",
    "irl['Add2'] = encoder.fit_transform(irl['Add2'], irl['Price'])"
   ]
  },
  {
   "cell_type": "code",
   "execution_count": 17,
   "id": "48f3903e",
   "metadata": {},
   "outputs": [],
   "source": [
    "#categorical data\n",
    "categorical_cols = ['Property Type', 'Old/New', 'Duration', 'PPDCategory Type'] \n",
    "\n",
    "#import pandas as pd\n",
    "df = pd.get_dummies(irl, columns = categorical_cols)"
   ]
  },
  {
   "cell_type": "code",
   "execution_count": 18,
   "id": "78d29d8a",
   "metadata": {},
   "outputs": [
    {
     "data": {
      "text/plain": [
       "Index(['Price', 'Postcode', 'Add2', 'Add3', 'District', 'County', 'Month',\n",
       "       'Year', 'Latitude', 'Longitude', 'PrimaryDistance', 'SecondaryDistance',\n",
       "       'CityCenterDist', 'ClosestPitch', 'Property Type_D', 'Property Type_F',\n",
       "       'Property Type_O', 'Property Type_S', 'Property Type_T', 'Old/New_N',\n",
       "       'Old/New_Y', 'Duration_F', 'Duration_L', 'PPDCategory Type_A',\n",
       "       'PPDCategory Type_B'],\n",
       "      dtype='object')"
      ]
     },
     "execution_count": 18,
     "metadata": {},
     "output_type": "execute_result"
    }
   ],
   "source": [
    "df.columns"
   ]
  },
  {
   "cell_type": "code",
   "execution_count": 19,
   "id": "70b49490",
   "metadata": {},
   "outputs": [],
   "source": [
    "irl = df"
   ]
  },
  {
   "cell_type": "code",
   "execution_count": 20,
   "id": "2d29d9c7",
   "metadata": {},
   "outputs": [
    {
     "data": {
      "text/html": [
       "<div>\n",
       "<style scoped>\n",
       "    .dataframe tbody tr th:only-of-type {\n",
       "        vertical-align: middle;\n",
       "    }\n",
       "\n",
       "    .dataframe tbody tr th {\n",
       "        vertical-align: top;\n",
       "    }\n",
       "\n",
       "    .dataframe thead th {\n",
       "        text-align: right;\n",
       "    }\n",
       "</style>\n",
       "<table border=\"1\" class=\"dataframe\">\n",
       "  <thead>\n",
       "    <tr style=\"text-align: right;\">\n",
       "      <th></th>\n",
       "      <th>Price</th>\n",
       "      <th>Postcode</th>\n",
       "      <th>Add2</th>\n",
       "      <th>Add3</th>\n",
       "      <th>District</th>\n",
       "      <th>County</th>\n",
       "      <th>Month</th>\n",
       "      <th>Year</th>\n",
       "      <th>Latitude</th>\n",
       "      <th>Longitude</th>\n",
       "      <th>...</th>\n",
       "      <th>Property Type_F</th>\n",
       "      <th>Property Type_O</th>\n",
       "      <th>Property Type_S</th>\n",
       "      <th>Property Type_T</th>\n",
       "      <th>Old/New_N</th>\n",
       "      <th>Old/New_Y</th>\n",
       "      <th>Duration_F</th>\n",
       "      <th>Duration_L</th>\n",
       "      <th>PPDCategory Type_A</th>\n",
       "      <th>PPDCategory Type_B</th>\n",
       "    </tr>\n",
       "  </thead>\n",
       "  <tbody>\n",
       "    <tr>\n",
       "      <th>0</th>\n",
       "      <td>210000</td>\n",
       "      <td>217630.968385</td>\n",
       "      <td>258739.196082</td>\n",
       "      <td>224647.939686</td>\n",
       "      <td>235254.601253</td>\n",
       "      <td>256030.890142</td>\n",
       "      <td>5</td>\n",
       "      <td>2017</td>\n",
       "      <td>53.79569</td>\n",
       "      <td>-1.24147</td>\n",
       "      <td>...</td>\n",
       "      <td>0</td>\n",
       "      <td>0</td>\n",
       "      <td>0</td>\n",
       "      <td>0</td>\n",
       "      <td>1</td>\n",
       "      <td>0</td>\n",
       "      <td>1</td>\n",
       "      <td>0</td>\n",
       "      <td>1</td>\n",
       "      <td>0</td>\n",
       "    </tr>\n",
       "    <tr>\n",
       "      <th>1</th>\n",
       "      <td>180000</td>\n",
       "      <td>217630.968385</td>\n",
       "      <td>205494.667996</td>\n",
       "      <td>224647.939686</td>\n",
       "      <td>235254.601253</td>\n",
       "      <td>256030.890142</td>\n",
       "      <td>4</td>\n",
       "      <td>2017</td>\n",
       "      <td>53.79803</td>\n",
       "      <td>-1.25588</td>\n",
       "      <td>...</td>\n",
       "      <td>0</td>\n",
       "      <td>0</td>\n",
       "      <td>0</td>\n",
       "      <td>0</td>\n",
       "      <td>1</td>\n",
       "      <td>0</td>\n",
       "      <td>1</td>\n",
       "      <td>0</td>\n",
       "      <td>1</td>\n",
       "      <td>0</td>\n",
       "    </tr>\n",
       "    <tr>\n",
       "      <th>2</th>\n",
       "      <td>142500</td>\n",
       "      <td>230484.114908</td>\n",
       "      <td>243485.169492</td>\n",
       "      <td>202537.379451</td>\n",
       "      <td>230202.181727</td>\n",
       "      <td>230200.817112</td>\n",
       "      <td>12</td>\n",
       "      <td>2017</td>\n",
       "      <td>53.85906</td>\n",
       "      <td>-1.68457</td>\n",
       "      <td>...</td>\n",
       "      <td>1</td>\n",
       "      <td>0</td>\n",
       "      <td>0</td>\n",
       "      <td>0</td>\n",
       "      <td>0</td>\n",
       "      <td>1</td>\n",
       "      <td>0</td>\n",
       "      <td>1</td>\n",
       "      <td>1</td>\n",
       "      <td>0</td>\n",
       "    </tr>\n",
       "    <tr>\n",
       "      <th>3</th>\n",
       "      <td>102000</td>\n",
       "      <td>278963.485067</td>\n",
       "      <td>186296.875000</td>\n",
       "      <td>278963.485067</td>\n",
       "      <td>230202.181727</td>\n",
       "      <td>230200.817112</td>\n",
       "      <td>12</td>\n",
       "      <td>2017</td>\n",
       "      <td>53.84793</td>\n",
       "      <td>-1.63152</td>\n",
       "      <td>...</td>\n",
       "      <td>1</td>\n",
       "      <td>0</td>\n",
       "      <td>0</td>\n",
       "      <td>0</td>\n",
       "      <td>1</td>\n",
       "      <td>0</td>\n",
       "      <td>0</td>\n",
       "      <td>1</td>\n",
       "      <td>1</td>\n",
       "      <td>0</td>\n",
       "    </tr>\n",
       "    <tr>\n",
       "      <th>4</th>\n",
       "      <td>250000</td>\n",
       "      <td>230484.114908</td>\n",
       "      <td>254714.655953</td>\n",
       "      <td>202537.379451</td>\n",
       "      <td>230202.181727</td>\n",
       "      <td>230200.817112</td>\n",
       "      <td>9</td>\n",
       "      <td>2017</td>\n",
       "      <td>53.85909</td>\n",
       "      <td>-1.68380</td>\n",
       "      <td>...</td>\n",
       "      <td>0</td>\n",
       "      <td>0</td>\n",
       "      <td>1</td>\n",
       "      <td>0</td>\n",
       "      <td>0</td>\n",
       "      <td>1</td>\n",
       "      <td>1</td>\n",
       "      <td>0</td>\n",
       "      <td>1</td>\n",
       "      <td>0</td>\n",
       "    </tr>\n",
       "  </tbody>\n",
       "</table>\n",
       "<p>5 rows × 25 columns</p>\n",
       "</div>"
      ],
      "text/plain": [
       "    Price       Postcode           Add2           Add3       District  \\\n",
       "0  210000  217630.968385  258739.196082  224647.939686  235254.601253   \n",
       "1  180000  217630.968385  205494.667996  224647.939686  235254.601253   \n",
       "2  142500  230484.114908  243485.169492  202537.379451  230202.181727   \n",
       "3  102000  278963.485067  186296.875000  278963.485067  230202.181727   \n",
       "4  250000  230484.114908  254714.655953  202537.379451  230202.181727   \n",
       "\n",
       "          County  Month  Year  Latitude  Longitude  ...  Property Type_F  \\\n",
       "0  256030.890142      5  2017  53.79569   -1.24147  ...                0   \n",
       "1  256030.890142      4  2017  53.79803   -1.25588  ...                0   \n",
       "2  230200.817112     12  2017  53.85906   -1.68457  ...                1   \n",
       "3  230200.817112     12  2017  53.84793   -1.63152  ...                1   \n",
       "4  230200.817112      9  2017  53.85909   -1.68380  ...                0   \n",
       "\n",
       "   Property Type_O  Property Type_S  Property Type_T  Old/New_N  Old/New_Y  \\\n",
       "0                0                0                0          1          0   \n",
       "1                0                0                0          1          0   \n",
       "2                0                0                0          0          1   \n",
       "3                0                0                0          1          0   \n",
       "4                0                1                0          0          1   \n",
       "\n",
       "   Duration_F  Duration_L  PPDCategory Type_A  PPDCategory Type_B  \n",
       "0           1           0                   1                   0  \n",
       "1           1           0                   1                   0  \n",
       "2           0           1                   1                   0  \n",
       "3           0           1                   1                   0  \n",
       "4           1           0                   1                   0  \n",
       "\n",
       "[5 rows x 25 columns]"
      ]
     },
     "execution_count": 20,
     "metadata": {},
     "output_type": "execute_result"
    }
   ],
   "source": [
    "irl.head()"
   ]
  },
  {
   "cell_type": "code",
   "execution_count": 21,
   "id": "d745bbde",
   "metadata": {},
   "outputs": [],
   "source": [
    "irl['PriceLog'] = np.log(irl['Price'])"
   ]
  },
  {
   "cell_type": "code",
   "execution_count": 22,
   "id": "69781623",
   "metadata": {},
   "outputs": [],
   "source": [
    "irl.drop(columns = ['Price'], inplace = True)"
   ]
  },
  {
   "cell_type": "code",
   "execution_count": 23,
   "id": "b13d552a",
   "metadata": {},
   "outputs": [
    {
     "data": {
      "text/plain": [
       "(40925, 25)"
      ]
     },
     "execution_count": 23,
     "metadata": {},
     "output_type": "execute_result"
    }
   ],
   "source": [
    "irl.shape"
   ]
  },
  {
   "cell_type": "markdown",
   "id": "db0144e9",
   "metadata": {},
   "source": [
    "### Let's try predict a specific years values given some historical data\n",
    "We will look at using 3 years worth of data and use it to predict some data for a selected year, let's say 2021, now."
   ]
  },
  {
   "cell_type": "code",
   "execution_count": 24,
   "id": "9f08f8e1",
   "metadata": {},
   "outputs": [],
   "source": [
    "specific21 = irl[irl['Year'] > 2017]"
   ]
  },
  {
   "cell_type": "markdown",
   "id": "4aa43ad9",
   "metadata": {},
   "source": [
    "A regular train to test split will not suffice here as we need only the years 2018, 2019 and 2020 in our training data, while only using the houses associated with 2021 in our test data."
   ]
  },
  {
   "cell_type": "code",
   "execution_count": 25,
   "id": "41bbaeae",
   "metadata": {},
   "outputs": [
    {
     "data": {
      "text/html": [
       "<div>\n",
       "<style scoped>\n",
       "    .dataframe tbody tr th:only-of-type {\n",
       "        vertical-align: middle;\n",
       "    }\n",
       "\n",
       "    .dataframe tbody tr th {\n",
       "        vertical-align: top;\n",
       "    }\n",
       "\n",
       "    .dataframe thead th {\n",
       "        text-align: right;\n",
       "    }\n",
       "</style>\n",
       "<table border=\"1\" class=\"dataframe\">\n",
       "  <thead>\n",
       "    <tr style=\"text-align: right;\">\n",
       "      <th></th>\n",
       "      <th>Postcode</th>\n",
       "      <th>Add2</th>\n",
       "      <th>Add3</th>\n",
       "      <th>District</th>\n",
       "      <th>County</th>\n",
       "      <th>Month</th>\n",
       "      <th>Year</th>\n",
       "      <th>Latitude</th>\n",
       "      <th>Longitude</th>\n",
       "      <th>PrimaryDistance</th>\n",
       "      <th>...</th>\n",
       "      <th>Property Type_O</th>\n",
       "      <th>Property Type_S</th>\n",
       "      <th>Property Type_T</th>\n",
       "      <th>Old/New_N</th>\n",
       "      <th>Old/New_Y</th>\n",
       "      <th>Duration_F</th>\n",
       "      <th>Duration_L</th>\n",
       "      <th>PPDCategory Type_A</th>\n",
       "      <th>PPDCategory Type_B</th>\n",
       "      <th>PriceLog</th>\n",
       "    </tr>\n",
       "  </thead>\n",
       "  <tbody>\n",
       "    <tr>\n",
       "      <th>36826</th>\n",
       "      <td>173445.626947</td>\n",
       "      <td>300787.500000</td>\n",
       "      <td>168385.293057</td>\n",
       "      <td>230202.181727</td>\n",
       "      <td>230200.817112</td>\n",
       "      <td>7</td>\n",
       "      <td>2021</td>\n",
       "      <td>53.74855</td>\n",
       "      <td>-1.58847</td>\n",
       "      <td>0.464833</td>\n",
       "      <td>...</td>\n",
       "      <td>0</td>\n",
       "      <td>0</td>\n",
       "      <td>0</td>\n",
       "      <td>1</td>\n",
       "      <td>0</td>\n",
       "      <td>1</td>\n",
       "      <td>0</td>\n",
       "      <td>1</td>\n",
       "      <td>0</td>\n",
       "      <td>12.823148</td>\n",
       "    </tr>\n",
       "    <tr>\n",
       "      <th>36827</th>\n",
       "      <td>172087.522876</td>\n",
       "      <td>123703.049895</td>\n",
       "      <td>145592.471125</td>\n",
       "      <td>230202.181727</td>\n",
       "      <td>230200.817112</td>\n",
       "      <td>11</td>\n",
       "      <td>2021</td>\n",
       "      <td>53.80770</td>\n",
       "      <td>-1.61968</td>\n",
       "      <td>0.096163</td>\n",
       "      <td>...</td>\n",
       "      <td>0</td>\n",
       "      <td>0</td>\n",
       "      <td>1</td>\n",
       "      <td>1</td>\n",
       "      <td>0</td>\n",
       "      <td>1</td>\n",
       "      <td>0</td>\n",
       "      <td>1</td>\n",
       "      <td>0</td>\n",
       "      <td>11.891362</td>\n",
       "    </tr>\n",
       "    <tr>\n",
       "      <th>36828</th>\n",
       "      <td>278963.485067</td>\n",
       "      <td>507271.771193</td>\n",
       "      <td>278963.485067</td>\n",
       "      <td>230202.181727</td>\n",
       "      <td>230200.817112</td>\n",
       "      <td>7</td>\n",
       "      <td>2021</td>\n",
       "      <td>53.83972</td>\n",
       "      <td>-1.65612</td>\n",
       "      <td>0.269080</td>\n",
       "      <td>...</td>\n",
       "      <td>0</td>\n",
       "      <td>0</td>\n",
       "      <td>0</td>\n",
       "      <td>1</td>\n",
       "      <td>0</td>\n",
       "      <td>1</td>\n",
       "      <td>0</td>\n",
       "      <td>1</td>\n",
       "      <td>0</td>\n",
       "      <td>13.681979</td>\n",
       "    </tr>\n",
       "    <tr>\n",
       "      <th>36829</th>\n",
       "      <td>400420.138054</td>\n",
       "      <td>328417.871528</td>\n",
       "      <td>329438.255034</td>\n",
       "      <td>230202.181727</td>\n",
       "      <td>230200.817112</td>\n",
       "      <td>8</td>\n",
       "      <td>2021</td>\n",
       "      <td>53.85191</td>\n",
       "      <td>-1.47258</td>\n",
       "      <td>0.141377</td>\n",
       "      <td>...</td>\n",
       "      <td>0</td>\n",
       "      <td>0</td>\n",
       "      <td>1</td>\n",
       "      <td>1</td>\n",
       "      <td>0</td>\n",
       "      <td>1</td>\n",
       "      <td>0</td>\n",
       "      <td>1</td>\n",
       "      <td>0</td>\n",
       "      <td>11.982929</td>\n",
       "    </tr>\n",
       "    <tr>\n",
       "      <th>36830</th>\n",
       "      <td>210307.345368</td>\n",
       "      <td>106687.514620</td>\n",
       "      <td>213710.799763</td>\n",
       "      <td>230202.181727</td>\n",
       "      <td>230200.817112</td>\n",
       "      <td>7</td>\n",
       "      <td>2021</td>\n",
       "      <td>53.72532</td>\n",
       "      <td>-1.44393</td>\n",
       "      <td>3.021215</td>\n",
       "      <td>...</td>\n",
       "      <td>0</td>\n",
       "      <td>0</td>\n",
       "      <td>1</td>\n",
       "      <td>1</td>\n",
       "      <td>0</td>\n",
       "      <td>1</td>\n",
       "      <td>0</td>\n",
       "      <td>1</td>\n",
       "      <td>0</td>\n",
       "      <td>11.652687</td>\n",
       "    </tr>\n",
       "  </tbody>\n",
       "</table>\n",
       "<p>5 rows × 25 columns</p>\n",
       "</div>"
      ],
      "text/plain": [
       "            Postcode           Add2           Add3       District  \\\n",
       "36826  173445.626947  300787.500000  168385.293057  230202.181727   \n",
       "36827  172087.522876  123703.049895  145592.471125  230202.181727   \n",
       "36828  278963.485067  507271.771193  278963.485067  230202.181727   \n",
       "36829  400420.138054  328417.871528  329438.255034  230202.181727   \n",
       "36830  210307.345368  106687.514620  213710.799763  230202.181727   \n",
       "\n",
       "              County  Month  Year  Latitude  Longitude  PrimaryDistance  ...  \\\n",
       "36826  230200.817112      7  2021  53.74855   -1.58847         0.464833  ...   \n",
       "36827  230200.817112     11  2021  53.80770   -1.61968         0.096163  ...   \n",
       "36828  230200.817112      7  2021  53.83972   -1.65612         0.269080  ...   \n",
       "36829  230200.817112      8  2021  53.85191   -1.47258         0.141377  ...   \n",
       "36830  230200.817112      7  2021  53.72532   -1.44393         3.021215  ...   \n",
       "\n",
       "       Property Type_O  Property Type_S  Property Type_T  Old/New_N  \\\n",
       "36826                0                0                0          1   \n",
       "36827                0                0                1          1   \n",
       "36828                0                0                0          1   \n",
       "36829                0                0                1          1   \n",
       "36830                0                0                1          1   \n",
       "\n",
       "       Old/New_Y  Duration_F  Duration_L  PPDCategory Type_A  \\\n",
       "36826          0           1           0                   1   \n",
       "36827          0           1           0                   1   \n",
       "36828          0           1           0                   1   \n",
       "36829          0           1           0                   1   \n",
       "36830          0           1           0                   1   \n",
       "\n",
       "       PPDCategory Type_B   PriceLog  \n",
       "36826                   0  12.823148  \n",
       "36827                   0  11.891362  \n",
       "36828                   0  13.681979  \n",
       "36829                   0  11.982929  \n",
       "36830                   0  11.652687  \n",
       "\n",
       "[5 rows x 25 columns]"
      ]
     },
     "execution_count": 25,
     "metadata": {},
     "output_type": "execute_result"
    }
   ],
   "source": [
    "specific21[specific21['Year'] == 2021].head()"
   ]
  },
  {
   "cell_type": "code",
   "execution_count": 26,
   "id": "eb10e6cf",
   "metadata": {},
   "outputs": [
    {
     "data": {
      "text/plain": [
       "22523"
      ]
     },
     "execution_count": 26,
     "metadata": {},
     "output_type": "execute_result"
    }
   ],
   "source": [
    "specific21.shape[0]"
   ]
  },
  {
   "cell_type": "code",
   "execution_count": 27,
   "id": "24fba876",
   "metadata": {},
   "outputs": [],
   "source": [
    "train_21 = specific21[specific21['Year'] < 2021]"
   ]
  },
  {
   "cell_type": "code",
   "execution_count": 28,
   "id": "20144683",
   "metadata": {},
   "outputs": [
    {
     "data": {
      "text/html": [
       "<div>\n",
       "<style scoped>\n",
       "    .dataframe tbody tr th:only-of-type {\n",
       "        vertical-align: middle;\n",
       "    }\n",
       "\n",
       "    .dataframe tbody tr th {\n",
       "        vertical-align: top;\n",
       "    }\n",
       "\n",
       "    .dataframe thead th {\n",
       "        text-align: right;\n",
       "    }\n",
       "</style>\n",
       "<table border=\"1\" class=\"dataframe\">\n",
       "  <thead>\n",
       "    <tr style=\"text-align: right;\">\n",
       "      <th></th>\n",
       "      <th>Postcode</th>\n",
       "      <th>Add2</th>\n",
       "      <th>Add3</th>\n",
       "      <th>District</th>\n",
       "      <th>County</th>\n",
       "      <th>Month</th>\n",
       "      <th>Year</th>\n",
       "      <th>Latitude</th>\n",
       "      <th>Longitude</th>\n",
       "      <th>PrimaryDistance</th>\n",
       "      <th>...</th>\n",
       "      <th>Property Type_O</th>\n",
       "      <th>Property Type_S</th>\n",
       "      <th>Property Type_T</th>\n",
       "      <th>Old/New_N</th>\n",
       "      <th>Old/New_Y</th>\n",
       "      <th>Duration_F</th>\n",
       "      <th>Duration_L</th>\n",
       "      <th>PPDCategory Type_A</th>\n",
       "      <th>PPDCategory Type_B</th>\n",
       "      <th>PriceLog</th>\n",
       "    </tr>\n",
       "  </thead>\n",
       "  <tbody>\n",
       "    <tr>\n",
       "      <th>2546</th>\n",
       "      <td>278963.485067</td>\n",
       "      <td>271984.615384</td>\n",
       "      <td>278963.485067</td>\n",
       "      <td>230202.181727</td>\n",
       "      <td>230200.817112</td>\n",
       "      <td>11</td>\n",
       "      <td>2018</td>\n",
       "      <td>53.831194</td>\n",
       "      <td>-1.666523</td>\n",
       "      <td>1.225576</td>\n",
       "      <td>...</td>\n",
       "      <td>0</td>\n",
       "      <td>0</td>\n",
       "      <td>1</td>\n",
       "      <td>1</td>\n",
       "      <td>0</td>\n",
       "      <td>1</td>\n",
       "      <td>0</td>\n",
       "      <td>1</td>\n",
       "      <td>0</td>\n",
       "      <td>12.323856</td>\n",
       "    </tr>\n",
       "    <tr>\n",
       "      <th>2547</th>\n",
       "      <td>273434.133215</td>\n",
       "      <td>173987.759494</td>\n",
       "      <td>206134.230906</td>\n",
       "      <td>230202.181727</td>\n",
       "      <td>230200.817112</td>\n",
       "      <td>11</td>\n",
       "      <td>2018</td>\n",
       "      <td>53.829730</td>\n",
       "      <td>-1.451610</td>\n",
       "      <td>0.208411</td>\n",
       "      <td>...</td>\n",
       "      <td>0</td>\n",
       "      <td>0</td>\n",
       "      <td>0</td>\n",
       "      <td>1</td>\n",
       "      <td>0</td>\n",
       "      <td>1</td>\n",
       "      <td>0</td>\n",
       "      <td>1</td>\n",
       "      <td>0</td>\n",
       "      <td>12.472276</td>\n",
       "    </tr>\n",
       "    <tr>\n",
       "      <th>2548</th>\n",
       "      <td>290683.041423</td>\n",
       "      <td>230946.422959</td>\n",
       "      <td>287276.125746</td>\n",
       "      <td>230202.181727</td>\n",
       "      <td>230200.817112</td>\n",
       "      <td>11</td>\n",
       "      <td>2018</td>\n",
       "      <td>53.876410</td>\n",
       "      <td>-1.713510</td>\n",
       "      <td>0.164222</td>\n",
       "      <td>...</td>\n",
       "      <td>0</td>\n",
       "      <td>1</td>\n",
       "      <td>0</td>\n",
       "      <td>1</td>\n",
       "      <td>0</td>\n",
       "      <td>1</td>\n",
       "      <td>0</td>\n",
       "      <td>1</td>\n",
       "      <td>0</td>\n",
       "      <td>12.348006</td>\n",
       "    </tr>\n",
       "    <tr>\n",
       "      <th>2549</th>\n",
       "      <td>273434.133215</td>\n",
       "      <td>163597.181818</td>\n",
       "      <td>206134.230906</td>\n",
       "      <td>230202.181727</td>\n",
       "      <td>230200.817112</td>\n",
       "      <td>8</td>\n",
       "      <td>2018</td>\n",
       "      <td>53.828700</td>\n",
       "      <td>-1.449140</td>\n",
       "      <td>0.355955</td>\n",
       "      <td>...</td>\n",
       "      <td>0</td>\n",
       "      <td>1</td>\n",
       "      <td>0</td>\n",
       "      <td>1</td>\n",
       "      <td>0</td>\n",
       "      <td>1</td>\n",
       "      <td>0</td>\n",
       "      <td>1</td>\n",
       "      <td>0</td>\n",
       "      <td>12.278393</td>\n",
       "    </tr>\n",
       "    <tr>\n",
       "      <th>2550</th>\n",
       "      <td>173445.626947</td>\n",
       "      <td>140210.000515</td>\n",
       "      <td>168385.293057</td>\n",
       "      <td>230202.181727</td>\n",
       "      <td>230200.817112</td>\n",
       "      <td>5</td>\n",
       "      <td>2018</td>\n",
       "      <td>53.752140</td>\n",
       "      <td>-1.606300</td>\n",
       "      <td>0.181792</td>\n",
       "      <td>...</td>\n",
       "      <td>0</td>\n",
       "      <td>0</td>\n",
       "      <td>1</td>\n",
       "      <td>1</td>\n",
       "      <td>0</td>\n",
       "      <td>1</td>\n",
       "      <td>0</td>\n",
       "      <td>1</td>\n",
       "      <td>0</td>\n",
       "      <td>11.630709</td>\n",
       "    </tr>\n",
       "  </tbody>\n",
       "</table>\n",
       "<p>5 rows × 25 columns</p>\n",
       "</div>"
      ],
      "text/plain": [
       "           Postcode           Add2           Add3       District  \\\n",
       "2546  278963.485067  271984.615384  278963.485067  230202.181727   \n",
       "2547  273434.133215  173987.759494  206134.230906  230202.181727   \n",
       "2548  290683.041423  230946.422959  287276.125746  230202.181727   \n",
       "2549  273434.133215  163597.181818  206134.230906  230202.181727   \n",
       "2550  173445.626947  140210.000515  168385.293057  230202.181727   \n",
       "\n",
       "             County  Month  Year   Latitude  Longitude  PrimaryDistance  ...  \\\n",
       "2546  230200.817112     11  2018  53.831194  -1.666523         1.225576  ...   \n",
       "2547  230200.817112     11  2018  53.829730  -1.451610         0.208411  ...   \n",
       "2548  230200.817112     11  2018  53.876410  -1.713510         0.164222  ...   \n",
       "2549  230200.817112      8  2018  53.828700  -1.449140         0.355955  ...   \n",
       "2550  230200.817112      5  2018  53.752140  -1.606300         0.181792  ...   \n",
       "\n",
       "      Property Type_O  Property Type_S  Property Type_T  Old/New_N  Old/New_Y  \\\n",
       "2546                0                0                1          1          0   \n",
       "2547                0                0                0          1          0   \n",
       "2548                0                1                0          1          0   \n",
       "2549                0                1                0          1          0   \n",
       "2550                0                0                1          1          0   \n",
       "\n",
       "      Duration_F  Duration_L  PPDCategory Type_A  PPDCategory Type_B  \\\n",
       "2546           1           0                   1                   0   \n",
       "2547           1           0                   1                   0   \n",
       "2548           1           0                   1                   0   \n",
       "2549           1           0                   1                   0   \n",
       "2550           1           0                   1                   0   \n",
       "\n",
       "       PriceLog  \n",
       "2546  12.323856  \n",
       "2547  12.472276  \n",
       "2548  12.348006  \n",
       "2549  12.278393  \n",
       "2550  11.630709  \n",
       "\n",
       "[5 rows x 25 columns]"
      ]
     },
     "execution_count": 28,
     "metadata": {},
     "output_type": "execute_result"
    }
   ],
   "source": [
    "#train_21 = train_21.sample(n = 80000)\n",
    "train_21.head()"
   ]
  },
  {
   "cell_type": "code",
   "execution_count": 29,
   "id": "b32af944",
   "metadata": {},
   "outputs": [],
   "source": [
    "test_21 = specific21[specific21['Year'] == 2021]"
   ]
  },
  {
   "cell_type": "code",
   "execution_count": 30,
   "id": "9e4fa5cf",
   "metadata": {},
   "outputs": [],
   "source": [
    "x_train_21 = train_21.loc[:, train_21.columns != 'PriceLog']\n",
    "y_train_21 = train_21['PriceLog']"
   ]
  },
  {
   "cell_type": "code",
   "execution_count": 31,
   "id": "5d9d83fe",
   "metadata": {},
   "outputs": [
    {
     "data": {
      "text/html": [
       "<div>\n",
       "<style scoped>\n",
       "    .dataframe tbody tr th:only-of-type {\n",
       "        vertical-align: middle;\n",
       "    }\n",
       "\n",
       "    .dataframe tbody tr th {\n",
       "        vertical-align: top;\n",
       "    }\n",
       "\n",
       "    .dataframe thead th {\n",
       "        text-align: right;\n",
       "    }\n",
       "</style>\n",
       "<table border=\"1\" class=\"dataframe\">\n",
       "  <thead>\n",
       "    <tr style=\"text-align: right;\">\n",
       "      <th></th>\n",
       "      <th>Postcode</th>\n",
       "      <th>Add2</th>\n",
       "      <th>Add3</th>\n",
       "      <th>District</th>\n",
       "      <th>County</th>\n",
       "      <th>Month</th>\n",
       "      <th>Year</th>\n",
       "      <th>Latitude</th>\n",
       "      <th>Longitude</th>\n",
       "      <th>PrimaryDistance</th>\n",
       "      <th>...</th>\n",
       "      <th>Property Type_O</th>\n",
       "      <th>Property Type_S</th>\n",
       "      <th>Property Type_T</th>\n",
       "      <th>Old/New_N</th>\n",
       "      <th>Old/New_Y</th>\n",
       "      <th>Duration_F</th>\n",
       "      <th>Duration_L</th>\n",
       "      <th>PPDCategory Type_A</th>\n",
       "      <th>PPDCategory Type_B</th>\n",
       "      <th>PriceLog</th>\n",
       "    </tr>\n",
       "  </thead>\n",
       "  <tbody>\n",
       "    <tr>\n",
       "      <th>36826</th>\n",
       "      <td>173445.626947</td>\n",
       "      <td>300787.500000</td>\n",
       "      <td>168385.293057</td>\n",
       "      <td>230202.181727</td>\n",
       "      <td>230200.817112</td>\n",
       "      <td>7</td>\n",
       "      <td>2021</td>\n",
       "      <td>53.74855</td>\n",
       "      <td>-1.58847</td>\n",
       "      <td>0.464833</td>\n",
       "      <td>...</td>\n",
       "      <td>0</td>\n",
       "      <td>0</td>\n",
       "      <td>0</td>\n",
       "      <td>1</td>\n",
       "      <td>0</td>\n",
       "      <td>1</td>\n",
       "      <td>0</td>\n",
       "      <td>1</td>\n",
       "      <td>0</td>\n",
       "      <td>12.823148</td>\n",
       "    </tr>\n",
       "    <tr>\n",
       "      <th>36827</th>\n",
       "      <td>172087.522876</td>\n",
       "      <td>123703.049895</td>\n",
       "      <td>145592.471125</td>\n",
       "      <td>230202.181727</td>\n",
       "      <td>230200.817112</td>\n",
       "      <td>11</td>\n",
       "      <td>2021</td>\n",
       "      <td>53.80770</td>\n",
       "      <td>-1.61968</td>\n",
       "      <td>0.096163</td>\n",
       "      <td>...</td>\n",
       "      <td>0</td>\n",
       "      <td>0</td>\n",
       "      <td>1</td>\n",
       "      <td>1</td>\n",
       "      <td>0</td>\n",
       "      <td>1</td>\n",
       "      <td>0</td>\n",
       "      <td>1</td>\n",
       "      <td>0</td>\n",
       "      <td>11.891362</td>\n",
       "    </tr>\n",
       "    <tr>\n",
       "      <th>36828</th>\n",
       "      <td>278963.485067</td>\n",
       "      <td>507271.771193</td>\n",
       "      <td>278963.485067</td>\n",
       "      <td>230202.181727</td>\n",
       "      <td>230200.817112</td>\n",
       "      <td>7</td>\n",
       "      <td>2021</td>\n",
       "      <td>53.83972</td>\n",
       "      <td>-1.65612</td>\n",
       "      <td>0.269080</td>\n",
       "      <td>...</td>\n",
       "      <td>0</td>\n",
       "      <td>0</td>\n",
       "      <td>0</td>\n",
       "      <td>1</td>\n",
       "      <td>0</td>\n",
       "      <td>1</td>\n",
       "      <td>0</td>\n",
       "      <td>1</td>\n",
       "      <td>0</td>\n",
       "      <td>13.681979</td>\n",
       "    </tr>\n",
       "    <tr>\n",
       "      <th>36829</th>\n",
       "      <td>400420.138054</td>\n",
       "      <td>328417.871528</td>\n",
       "      <td>329438.255034</td>\n",
       "      <td>230202.181727</td>\n",
       "      <td>230200.817112</td>\n",
       "      <td>8</td>\n",
       "      <td>2021</td>\n",
       "      <td>53.85191</td>\n",
       "      <td>-1.47258</td>\n",
       "      <td>0.141377</td>\n",
       "      <td>...</td>\n",
       "      <td>0</td>\n",
       "      <td>0</td>\n",
       "      <td>1</td>\n",
       "      <td>1</td>\n",
       "      <td>0</td>\n",
       "      <td>1</td>\n",
       "      <td>0</td>\n",
       "      <td>1</td>\n",
       "      <td>0</td>\n",
       "      <td>11.982929</td>\n",
       "    </tr>\n",
       "    <tr>\n",
       "      <th>36830</th>\n",
       "      <td>210307.345368</td>\n",
       "      <td>106687.514620</td>\n",
       "      <td>213710.799763</td>\n",
       "      <td>230202.181727</td>\n",
       "      <td>230200.817112</td>\n",
       "      <td>7</td>\n",
       "      <td>2021</td>\n",
       "      <td>53.72532</td>\n",
       "      <td>-1.44393</td>\n",
       "      <td>3.021215</td>\n",
       "      <td>...</td>\n",
       "      <td>0</td>\n",
       "      <td>0</td>\n",
       "      <td>1</td>\n",
       "      <td>1</td>\n",
       "      <td>0</td>\n",
       "      <td>1</td>\n",
       "      <td>0</td>\n",
       "      <td>1</td>\n",
       "      <td>0</td>\n",
       "      <td>11.652687</td>\n",
       "    </tr>\n",
       "  </tbody>\n",
       "</table>\n",
       "<p>5 rows × 25 columns</p>\n",
       "</div>"
      ],
      "text/plain": [
       "            Postcode           Add2           Add3       District  \\\n",
       "36826  173445.626947  300787.500000  168385.293057  230202.181727   \n",
       "36827  172087.522876  123703.049895  145592.471125  230202.181727   \n",
       "36828  278963.485067  507271.771193  278963.485067  230202.181727   \n",
       "36829  400420.138054  328417.871528  329438.255034  230202.181727   \n",
       "36830  210307.345368  106687.514620  213710.799763  230202.181727   \n",
       "\n",
       "              County  Month  Year  Latitude  Longitude  PrimaryDistance  ...  \\\n",
       "36826  230200.817112      7  2021  53.74855   -1.58847         0.464833  ...   \n",
       "36827  230200.817112     11  2021  53.80770   -1.61968         0.096163  ...   \n",
       "36828  230200.817112      7  2021  53.83972   -1.65612         0.269080  ...   \n",
       "36829  230200.817112      8  2021  53.85191   -1.47258         0.141377  ...   \n",
       "36830  230200.817112      7  2021  53.72532   -1.44393         3.021215  ...   \n",
       "\n",
       "       Property Type_O  Property Type_S  Property Type_T  Old/New_N  \\\n",
       "36826                0                0                0          1   \n",
       "36827                0                0                1          1   \n",
       "36828                0                0                0          1   \n",
       "36829                0                0                1          1   \n",
       "36830                0                0                1          1   \n",
       "\n",
       "       Old/New_Y  Duration_F  Duration_L  PPDCategory Type_A  \\\n",
       "36826          0           1           0                   1   \n",
       "36827          0           1           0                   1   \n",
       "36828          0           1           0                   1   \n",
       "36829          0           1           0                   1   \n",
       "36830          0           1           0                   1   \n",
       "\n",
       "       PPDCategory Type_B   PriceLog  \n",
       "36826                   0  12.823148  \n",
       "36827                   0  11.891362  \n",
       "36828                   0  13.681979  \n",
       "36829                   0  11.982929  \n",
       "36830                   0  11.652687  \n",
       "\n",
       "[5 rows x 25 columns]"
      ]
     },
     "execution_count": 31,
     "metadata": {},
     "output_type": "execute_result"
    }
   ],
   "source": [
    "test_21.head()"
   ]
  },
  {
   "cell_type": "code",
   "execution_count": 32,
   "id": "d0b79fe2",
   "metadata": {},
   "outputs": [],
   "source": [
    "x_test_21 = test_21.loc[:, test_21.columns != 'PriceLog']\n",
    "y_test_21 = test_21['PriceLog']"
   ]
  },
  {
   "cell_type": "code",
   "execution_count": 33,
   "id": "c0e493cb",
   "metadata": {},
   "outputs": [
    {
     "name": "stdout",
     "output_type": "stream",
     "text": [
      "Linear algorithm was disabled.\n",
      "AutoML directory: AutoML_1\n",
      "The task is regression with evaluation metric rmse\n",
      "AutoML will use algorithms: ['Baseline', 'Decision Tree', 'Random Forest', 'Xgboost', 'Neural Network']\n",
      "AutoML will ensemble available models\n",
      "AutoML steps: ['simple_algorithms', 'default_algorithms', 'ensemble']\n",
      "* Step simple_algorithms will try to check up to 2 models\n",
      "1_Baseline rmse 0.571987 trained in 0.48 seconds\n",
      "2_DecisionTree rmse 0.404724 trained in 22.25 seconds\n",
      "* Step default_algorithms will try to check up to 3 models\n",
      "3_Default_Xgboost rmse 0.269216 trained in 58.77 seconds\n",
      "4_Default_NeuralNetwork rmse 0.338143 trained in 2.22 seconds\n",
      "5_Default_RandomForest rmse 0.358237 trained in 12.77 seconds\n",
      "* Step ensemble will try to check up to 1 model\n",
      "Ensemble rmse 0.267139 trained in 0.64 seconds\n",
      "AutoML fit time: 924.01 seconds\n",
      "AutoML best model: Ensemble\n"
     ]
    },
    {
     "data": {
      "text/plain": [
       "AutoML(explain_level=2, total_time_limit=300)"
      ]
     },
     "execution_count": 33,
     "metadata": {},
     "output_type": "execute_result"
    }
   ],
   "source": [
    "## explain_level gives information on feature importance when given value 1 or 2\n",
    "automl1 = AutoML(total_time_limit = 5 * 60, explain_level = 2)\n",
    "automl1.fit(x_train_21, y_train_21)"
   ]
  },
  {
   "cell_type": "code",
   "execution_count": 34,
   "id": "d4f2a436",
   "metadata": {},
   "outputs": [
    {
     "name": "stdout",
     "output_type": "stream",
     "text": [
      "MSE for AutoML 2021 is: 0.11458671825415799\n"
     ]
    }
   ],
   "source": [
    "# calculated values\n",
    "y_predicted_21 = automl1.predict(x_test_21)\n",
    "  \n",
    "# Calculation of Mean Squared Error (MSE)\n",
    "mse = mean_squared_error(y_test_21, y_predicted_21)\n",
    "print('MSE for AutoML 2021 is: ' + str(mse))"
   ]
  },
  {
   "cell_type": "code",
   "execution_count": 35,
   "id": "718fee9e",
   "metadata": {},
   "outputs": [
    {
     "name": "stdout",
     "output_type": "stream",
     "text": [
      "RMSE for AutoML 2021 is: 0.338506600015654\n"
     ]
    }
   ],
   "source": [
    "rmse = mean_squared_error(y_test_21, y_predicted_21, squared = False)\n",
    "print('RMSE for AutoML 2021 is: ' + str(rmse))"
   ]
  },
  {
   "cell_type": "code",
   "execution_count": 36,
   "id": "2131bd5d",
   "metadata": {},
   "outputs": [
    {
     "name": "stdout",
     "output_type": "stream",
     "text": [
      "Accuracy of properties at +- 10% of actual prices is 0.35776069197501204\n"
     ]
    }
   ],
   "source": [
    "acc = accuracy_threshold(y_test_21, y_predicted_21, 0.1)\n",
    "print('Accuracy of properties at +- 10% of actual prices is ' + str(acc))"
   ]
  },
  {
   "cell_type": "code",
   "execution_count": 37,
   "id": "9521e57c",
   "metadata": {},
   "outputs": [
    {
     "name": "stdout",
     "output_type": "stream",
     "text": [
      "Accuracy of properties at +- 20% of actual prices is 0.6441614608361365\n"
     ]
    }
   ],
   "source": [
    "acc1 = accuracy_threshold(y_test_21, y_predicted_21, 0.20)\n",
    "print('Accuracy of properties at +- 20% of actual prices is ' + str(acc1))"
   ]
  },
  {
   "cell_type": "code",
   "execution_count": 38,
   "id": "5fe78f15",
   "metadata": {},
   "outputs": [
    {
     "name": "stdout",
     "output_type": "stream",
     "text": [
      "Median Absolute Error:\n",
      "\n",
      "0.1521584746816484\n"
     ]
    }
   ],
   "source": [
    "median_se = np.square(np.subtract(y_test_21, y_predicted_21)).median() \n",
    " \n",
    "med = math.sqrt(median_se)\n",
    "print(\"Median Absolute Error:\\n\")\n",
    "print(med)"
   ]
  },
  {
   "cell_type": "code",
   "execution_count": 39,
   "id": "b55c0957",
   "metadata": {},
   "outputs": [
    {
     "name": "stdout",
     "output_type": "stream",
     "text": [
      "MAPE for AutoML 2021 is: 0.017440273762698747\n"
     ]
    }
   ],
   "source": [
    "from sklearn.metrics import mean_absolute_percentage_error\n",
    "mape = mean_absolute_percentage_error(y_test_21, y_predicted_21)\n",
    "print(\"MAPE for AutoML 2021 is: \" + str(mape))"
   ]
  },
  {
   "cell_type": "code",
   "execution_count": 40,
   "id": "6e9ed327",
   "metadata": {},
   "outputs": [],
   "source": [
    "cnames=['Algorithm', 'Year', 'RMSE', 'MSE', 'MEDAE', 'Accuracy', 'MAPE']\n",
    "df11 = pd.DataFrame(columns=cnames)\n",
    "\n",
    "df11 = df11.append({'Algorithm': 'AutoML',\n",
    "            'Year': 2021,\n",
    "           'RMSE': rmse,\n",
    "           'MSE': mse,\n",
    "           'MEDAE': med,\n",
    "           'Accuracy': acc,\n",
    "           'MAPE': mape         \n",
    "          }, ignore_index=True)"
   ]
  },
  {
   "cell_type": "code",
   "execution_count": 41,
   "id": "bac5823b",
   "metadata": {},
   "outputs": [],
   "source": [
    "#cnames = ['Actual', 'Predicted']\n",
    "#dfreal1 = pd.DataFrame(columns = cnames)\n",
    "dfreal1 = pd.DataFrame(y_test_21.values)\n",
    "dfpred1 = pd.DataFrame(y_predicted_21)"
   ]
  },
  {
   "cell_type": "markdown",
   "id": "d081217e",
   "metadata": {},
   "source": [
    "### 2020 predictions"
   ]
  },
  {
   "cell_type": "code",
   "execution_count": 42,
   "id": "d6e48b79",
   "metadata": {},
   "outputs": [],
   "source": [
    "specific20 = irl[irl['Year'] > 2016]"
   ]
  },
  {
   "cell_type": "code",
   "execution_count": 43,
   "id": "315afd40",
   "metadata": {},
   "outputs": [],
   "source": [
    "test_20 = specific20[specific20['Year'] == 2020]\n",
    "train_20 = specific20[specific20['Year'] < 2020]"
   ]
  },
  {
   "cell_type": "code",
   "execution_count": 44,
   "id": "c9c2a103",
   "metadata": {},
   "outputs": [],
   "source": [
    "x_train_20 = train_20.loc[:, train_20.columns != 'PriceLog']\n",
    "y_train_20 = train_20['PriceLog']"
   ]
  },
  {
   "cell_type": "code",
   "execution_count": 45,
   "id": "23cef19c",
   "metadata": {},
   "outputs": [],
   "source": [
    "x_test_20 = test_20.loc[:, test_20.columns != 'PriceLog']\n",
    "y_test_20 = test_20['PriceLog']"
   ]
  },
  {
   "cell_type": "code",
   "execution_count": 46,
   "id": "489501e2",
   "metadata": {},
   "outputs": [
    {
     "name": "stdout",
     "output_type": "stream",
     "text": [
      "Linear algorithm was disabled.\n",
      "AutoML directory: AutoML_2\n",
      "The task is regression with evaluation metric rmse\n",
      "AutoML will use algorithms: ['Baseline', 'Decision Tree', 'Random Forest', 'Xgboost', 'Neural Network']\n",
      "AutoML will ensemble available models\n",
      "AutoML steps: ['simple_algorithms', 'default_algorithms', 'ensemble']\n",
      "* Step simple_algorithms will try to check up to 2 models\n",
      "1_Baseline rmse 0.598174 trained in 0.7 seconds\n",
      "2_DecisionTree rmse 0.424108 trained in 8.36 seconds\n",
      "* Step default_algorithms will try to check up to 3 models\n",
      "3_Default_Xgboost rmse 0.262145 trained in 40.14 seconds\n",
      "4_Default_NeuralNetwork rmse 0.364557 trained in 2.87 seconds\n",
      "5_Default_RandomForest rmse 0.379638 trained in 7.64 seconds\n",
      "* Step ensemble will try to check up to 1 model\n",
      "Ensemble rmse 0.262145 trained in 0.32 seconds\n",
      "AutoML fit time: 82.0 seconds\n",
      "AutoML best model: 3_Default_Xgboost\n"
     ]
    },
    {
     "data": {
      "text/plain": [
       "AutoML(explain_level=2, total_time_limit=300)"
      ]
     },
     "execution_count": 46,
     "metadata": {},
     "output_type": "execute_result"
    }
   ],
   "source": [
    "automl2 = AutoML(total_time_limit = 5 * 60, explain_level = 2)\n",
    "automl2.fit(x_train_20, y_train_20)"
   ]
  },
  {
   "cell_type": "code",
   "execution_count": 47,
   "id": "614a3cad",
   "metadata": {},
   "outputs": [
    {
     "name": "stdout",
     "output_type": "stream",
     "text": [
      "MSE for AutoML 2020 is: 0.11850981606059857\n"
     ]
    }
   ],
   "source": [
    "# calculated values\n",
    "y_predicted_20 = automl2.predict(x_test_20)\n",
    "  \n",
    "# Calculation of Mean Squared Error (MSE)\n",
    "mse = mean_squared_error(y_test_20,y_predicted_20)\n",
    "print('MSE for AutoML 2020 is: ' + str(mse))"
   ]
  },
  {
   "cell_type": "code",
   "execution_count": 48,
   "id": "8e4a25f6",
   "metadata": {},
   "outputs": [
    {
     "name": "stdout",
     "output_type": "stream",
     "text": [
      "RMSE for AutoML 2020 is: 0.3442525469195523\n"
     ]
    }
   ],
   "source": [
    "rmse = mean_squared_error(y_test_20, y_predicted_20, squared=False)\n",
    "print('RMSE for AutoML 2020 is: ' + str(rmse))"
   ]
  },
  {
   "cell_type": "code",
   "execution_count": 49,
   "id": "720e2b2e",
   "metadata": {},
   "outputs": [
    {
     "name": "stdout",
     "output_type": "stream",
     "text": [
      "Accuracy of properties at +- 10% of actual prices is 0.38770511878520697\n"
     ]
    }
   ],
   "source": [
    "acc = accuracy_threshold(y_test_20, y_predicted_20, 0.1)\n",
    "print('Accuracy of properties at +- 10% of actual prices is ' + str(acc))"
   ]
  },
  {
   "cell_type": "code",
   "execution_count": 50,
   "id": "2c03aba3",
   "metadata": {},
   "outputs": [
    {
     "name": "stdout",
     "output_type": "stream",
     "text": [
      "Accuracy of properties at +- 20% of actual prices is 0.665686994856723\n"
     ]
    }
   ],
   "source": [
    "acc1 = accuracy_threshold(y_test_20, y_predicted_20, 0.2)\n",
    "print('Accuracy of properties at +- 20% of actual prices is ' + str(acc1))"
   ]
  },
  {
   "cell_type": "code",
   "execution_count": 51,
   "id": "a7924ad0",
   "metadata": {},
   "outputs": [
    {
     "name": "stdout",
     "output_type": "stream",
     "text": [
      "Median Absolute Error:\n",
      "\n",
      "0.1370892341318779\n"
     ]
    }
   ],
   "source": [
    "print(\"Median Absolute Error:\\n\")\n",
    "print(median_absolute_error(y_test_20, y_predicted_20))"
   ]
  },
  {
   "cell_type": "code",
   "execution_count": 52,
   "id": "18076ebd",
   "metadata": {},
   "outputs": [
    {
     "name": "stdout",
     "output_type": "stream",
     "text": [
      "MAPE for AutoML 2020 is: 0.017240000279663627\n"
     ]
    }
   ],
   "source": [
    "mape = mean_absolute_percentage_error(y_test_20, y_predicted_20)\n",
    "print(\"MAPE for AutoML 2020 is: \" + str(mape))"
   ]
  },
  {
   "cell_type": "code",
   "execution_count": 53,
   "id": "3ee1861f",
   "metadata": {},
   "outputs": [],
   "source": [
    "cnames = ['Algorithm', 'Year', 'RMSE', 'MSE', 'MEDAE', 'Accuracy', 'MAPE']\n",
    "df10 = pd.DataFrame(columns=cnames)\n",
    "\n",
    "df10 = df10.append({'Algorithm': 'AutoML',\n",
    "            'Year': 2020,\n",
    "           'RMSE': rmse,\n",
    "           'MSE': mse,\n",
    "           'MEDAE': med,\n",
    "           'Accuracy': acc,\n",
    "           'MAPE': mape\n",
    "          }, ignore_index=True)"
   ]
  },
  {
   "cell_type": "code",
   "execution_count": 54,
   "id": "d3e9a667",
   "metadata": {},
   "outputs": [],
   "source": [
    "#cnames = ['Actual', 'Predicted']\n",
    "#dfreal2 = pd.DataFrame(columns = cnames)\n",
    "dfreal2 = pd.DataFrame(y_test_20.values)\n",
    "dfpred2 = pd.DataFrame(y_predicted_20)\n",
    "#dfreal2 = pd.concat([z1, z2], ignore_index=True)"
   ]
  },
  {
   "cell_type": "markdown",
   "id": "74228ee8",
   "metadata": {},
   "source": [
    "### Multiple Linear Regression"
   ]
  },
  {
   "cell_type": "markdown",
   "id": "0c6586a2",
   "metadata": {},
   "source": [
    "Next, I will try implement some algorithms not specified in our autoML library which so far has only utilised XgBoost, Random Forest, Decison Tree and ensemble algorithms. I will attempt to implement other ML algorithms such as multiple linear regression and adaboost among others."
   ]
  },
  {
   "cell_type": "markdown",
   "id": "07c29198",
   "metadata": {},
   "source": [
    "There is a couple of different libraries we can use here for linear regression:\n",
    "- Sci-kit learn's linear model library\n",
    "- Statsmodel\n",
    "\n",
    "For the purpose of this I will remain consistent with the use of the sci-kit learn libraries."
   ]
  },
  {
   "cell_type": "code",
   "execution_count": 55,
   "id": "2b68d852",
   "metadata": {},
   "outputs": [],
   "source": [
    "from sklearn import linear_model"
   ]
  },
  {
   "cell_type": "markdown",
   "id": "130a989d",
   "metadata": {},
   "source": [
    "#### Let's try predict our 2021 values again using MLR"
   ]
  },
  {
   "cell_type": "code",
   "execution_count": 56,
   "id": "7d5c0fca",
   "metadata": {},
   "outputs": [
    {
     "data": {
      "text/plain": [
       "LinearRegression()"
      ]
     },
     "execution_count": 56,
     "metadata": {},
     "output_type": "execute_result"
    }
   ],
   "source": [
    "lm = linear_model.LinearRegression()\n",
    "lm.fit(x_train_21, y_train_21) # fitting the model"
   ]
  },
  {
   "cell_type": "code",
   "execution_count": 57,
   "id": "f263e379",
   "metadata": {},
   "outputs": [
    {
     "name": "stdout",
     "output_type": "stream",
     "text": [
      "MSE for MLR 2021 is: 0.12163906709198832\n"
     ]
    }
   ],
   "source": [
    "y_pred_21 = lm.predict(x_test_21)\n",
    "# Calculation of Mean Squared Error (MSE)\n",
    "mse = mean_squared_error(y_test_21,y_pred_21)\n",
    "print('MSE for MLR 2021 is: ' + str(mse))"
   ]
  },
  {
   "cell_type": "code",
   "execution_count": 58,
   "id": "73543343",
   "metadata": {},
   "outputs": [
    {
     "name": "stdout",
     "output_type": "stream",
     "text": [
      "Accuracy of properties at +- 10% of actual prices is 0.33181162902450745\n"
     ]
    }
   ],
   "source": [
    "acc = accuracy_threshold(y_test_21, y_pred_21, 0.1)\n",
    "print('Accuracy of properties at +- 10% of actual prices is ' + str(acc))"
   ]
  },
  {
   "cell_type": "code",
   "execution_count": 59,
   "id": "01de429f",
   "metadata": {},
   "outputs": [
    {
     "name": "stdout",
     "output_type": "stream",
     "text": [
      "Accuracy of properties at +- 20% of actual prices is 0.5994714079769342\n"
     ]
    }
   ],
   "source": [
    "acc1 = accuracy_threshold(y_test_21, y_pred_21, 0.20)\n",
    "print('Accuracy of properties at +- 20% of actual prices is ' + str(acc1))"
   ]
  },
  {
   "cell_type": "code",
   "execution_count": 60,
   "id": "f1dc8944",
   "metadata": {},
   "outputs": [
    {
     "name": "stdout",
     "output_type": "stream",
     "text": [
      "Median Absolute Error:\n",
      "\n",
      "0.16171606155148338\n"
     ]
    }
   ],
   "source": [
    "median_se = np.square(np.subtract(y_test_21,y_pred_21)).median() \n",
    " \n",
    "med = math.sqrt(median_se)\n",
    "print(\"Median Absolute Error:\\n\")\n",
    "print(med)"
   ]
  },
  {
   "cell_type": "code",
   "execution_count": 61,
   "id": "b1472e99",
   "metadata": {},
   "outputs": [
    {
     "name": "stdout",
     "output_type": "stream",
     "text": [
      "Root Mean Square Error:\n",
      "\n",
      "0.3487679272696794\n"
     ]
    }
   ],
   "source": [
    "mean = np.square(np.subtract(y_test_21,y_pred_21)).mean() \n",
    " \n",
    "mean = math.sqrt(mean)\n",
    "print(\"Root Mean Square Error:\\n\")\n",
    "print(mean)"
   ]
  },
  {
   "cell_type": "code",
   "execution_count": 62,
   "id": "c7dd3250",
   "metadata": {},
   "outputs": [
    {
     "name": "stdout",
     "output_type": "stream",
     "text": [
      "MAPE for MLR 2021 is: 0.018525833898405474\n"
     ]
    }
   ],
   "source": [
    "mape = mean_absolute_percentage_error(y_test_21, y_pred_21)\n",
    "print(\"MAPE for MLR 2021 is: \" + str(mape))"
   ]
  },
  {
   "cell_type": "code",
   "execution_count": 63,
   "id": "2b29c4f2",
   "metadata": {},
   "outputs": [],
   "source": [
    "cnames=['Algorithm', 'Year', 'RMSE', 'MSE', 'MEDAE', 'Accuracy', 'MAPE']\n",
    "df9 = pd.DataFrame(columns=cnames)\n",
    "\n",
    "df9 = df9.append({'Algorithm': 'MLR',\n",
    "            'Year': 2021,\n",
    "           'RMSE': mean,\n",
    "           'MSE': mse,\n",
    "           'MEDAE': med,\n",
    "           'Accuracy': acc,\n",
    "           'MAPE': mape       \n",
    "          }, ignore_index=True)"
   ]
  },
  {
   "cell_type": "markdown",
   "id": "f971bf25",
   "metadata": {},
   "source": [
    "### 2020 predictions"
   ]
  },
  {
   "cell_type": "code",
   "execution_count": 64,
   "id": "a14bd756",
   "metadata": {},
   "outputs": [
    {
     "data": {
      "text/plain": [
       "LinearRegression()"
      ]
     },
     "execution_count": 64,
     "metadata": {},
     "output_type": "execute_result"
    }
   ],
   "source": [
    "lm = linear_model.LinearRegression()\n",
    "lm.fit(x_train_20, y_train_20) # fitting the model"
   ]
  },
  {
   "cell_type": "code",
   "execution_count": 65,
   "id": "ebe7da38",
   "metadata": {},
   "outputs": [
    {
     "name": "stdout",
     "output_type": "stream",
     "text": [
      "MSE for MLR 2020 is: 0.12598493279498751\n"
     ]
    }
   ],
   "source": [
    "y_pred_20 = lm.predict(x_test_20)\n",
    "# Calculation of Mean Squared Error (MSE)\n",
    "mse = mean_squared_error(y_test_20, y_pred_20)\n",
    "print('MSE for MLR 2020 is: ' + str(mse))"
   ]
  },
  {
   "cell_type": "code",
   "execution_count": 66,
   "id": "94e183b3",
   "metadata": {},
   "outputs": [
    {
     "name": "stdout",
     "output_type": "stream",
     "text": [
      "Accuracy of properties at +- 10% of actual prices is 0.34508939505265734\n"
     ]
    }
   ],
   "source": [
    "acc = accuracy_threshold(y_test_20, y_pred_20, 0.1)\n",
    "print('Accuracy of properties at +- 10% of actual prices is ' + str(acc))"
   ]
  },
  {
   "cell_type": "code",
   "execution_count": 67,
   "id": "52735367",
   "metadata": {},
   "outputs": [
    {
     "name": "stdout",
     "output_type": "stream",
     "text": [
      "Accuracy of properties at +- 15% of actual prices is 0.49277492040166543\n"
     ]
    }
   ],
   "source": [
    "acc1 = accuracy_threshold(y_test_20, y_pred_20, 0.15)\n",
    "print('Accuracy of properties at +- 15% of actual prices is ' + str(acc1))"
   ]
  },
  {
   "cell_type": "code",
   "execution_count": 68,
   "id": "849311be",
   "metadata": {},
   "outputs": [
    {
     "name": "stdout",
     "output_type": "stream",
     "text": [
      "Median Absolute Error:\n",
      "\n",
      "0.1559217373077768\n"
     ]
    }
   ],
   "source": [
    "median_se = np.square(np.subtract(y_test_20, y_pred_20)).median() \n",
    " \n",
    "med = math.sqrt(median_se)\n",
    "print(\"Median Absolute Error:\\n\")\n",
    "print(med)"
   ]
  },
  {
   "cell_type": "code",
   "execution_count": 69,
   "id": "513d7076",
   "metadata": {},
   "outputs": [
    {
     "name": "stdout",
     "output_type": "stream",
     "text": [
      "Root Mean Square Error:\n",
      "\n",
      "0.35494356283075146\n"
     ]
    }
   ],
   "source": [
    "mean = np.square(np.subtract(y_test_20, y_pred_20)).mean() \n",
    " \n",
    "mean = math.sqrt(mean)\n",
    "print(\"Root Mean Square Error:\\n\")\n",
    "print(mean)"
   ]
  },
  {
   "cell_type": "code",
   "execution_count": 70,
   "id": "b604c388",
   "metadata": {},
   "outputs": [
    {
     "name": "stdout",
     "output_type": "stream",
     "text": [
      "MAPE for MLR 2020 is: 0.01861780766002892\n"
     ]
    }
   ],
   "source": [
    "mape = mean_absolute_percentage_error(y_test_20, y_pred_20)\n",
    "print(\"MAPE for MLR 2020 is: \" + str(mape))"
   ]
  },
  {
   "cell_type": "code",
   "execution_count": 71,
   "id": "0133f359",
   "metadata": {},
   "outputs": [],
   "source": [
    "cnames=['Algorithm', 'Year', 'RMSE', 'MSE', 'MEDAE', 'Accuracy', 'MAPE']\n",
    "df8 = pd.DataFrame(columns=cnames)\n",
    "\n",
    "df8 = df8.append({'Algorithm': 'MLR',\n",
    "            'Year': 2020,\n",
    "           'RMSE': mean,\n",
    "           'MSE': mse,\n",
    "           'MEDAE': med,\n",
    "           'Accuracy': acc,\n",
    "           'MAPE': mape       \n",
    "          }, ignore_index=True)"
   ]
  },
  {
   "cell_type": "markdown",
   "id": "47a04928",
   "metadata": {},
   "source": [
    "### Adaboost"
   ]
  },
  {
   "cell_type": "markdown",
   "id": "5daebee4",
   "metadata": {},
   "source": [
    "#### 2021 Predictions"
   ]
  },
  {
   "cell_type": "code",
   "execution_count": 72,
   "id": "e573a23c",
   "metadata": {},
   "outputs": [],
   "source": [
    "from sklearn.ensemble import AdaBoostRegressor\n",
    "from sklearn.datasets import make_regression"
   ]
  },
  {
   "cell_type": "code",
   "execution_count": 73,
   "id": "21cfd588",
   "metadata": {},
   "outputs": [],
   "source": [
    "model = AdaBoostRegressor()"
   ]
  },
  {
   "cell_type": "code",
   "execution_count": 74,
   "id": "9abf8264",
   "metadata": {},
   "outputs": [
    {
     "data": {
      "text/plain": [
       "AdaBoostRegressor()"
      ]
     },
     "execution_count": 74,
     "metadata": {},
     "output_type": "execute_result"
    }
   ],
   "source": [
    "model.fit(x_train_21, y_train_21)"
   ]
  },
  {
   "cell_type": "code",
   "execution_count": 75,
   "id": "ecb42e2c",
   "metadata": {},
   "outputs": [
    {
     "name": "stdout",
     "output_type": "stream",
     "text": [
      "MSE for AdaBoost 2021 is: 0.2073447421465414\n"
     ]
    }
   ],
   "source": [
    "y_pred_21 = model.predict(x_test_21)\n",
    "# Calculation of Mean Squared Error (MSE)\n",
    "mse = mean_squared_error(y_test_21,y_pred_21)\n",
    "print('MSE for AdaBoost 2021 is: ' + str(mse))"
   ]
  },
  {
   "cell_type": "code",
   "execution_count": 76,
   "id": "01b0ca20",
   "metadata": {},
   "outputs": [
    {
     "name": "stdout",
     "output_type": "stream",
     "text": [
      "Accuracy of properties at +- 10% of actual prices is 0.19533877943296493\n"
     ]
    }
   ],
   "source": [
    "acc = accuracy_threshold(y_test_21, y_pred_21, 0.1)\n",
    "print('Accuracy of properties at +- 10% of actual prices is ' + str(acc))"
   ]
  },
  {
   "cell_type": "code",
   "execution_count": 77,
   "id": "f6961e9e",
   "metadata": {},
   "outputs": [
    {
     "name": "stdout",
     "output_type": "stream",
     "text": [
      "Accuracy of properties at +- 20% of actual prices is 0.40965881787602115\n"
     ]
    }
   ],
   "source": [
    "acc1 = accuracy_threshold(y_test_21, y_pred_21, 0.20)\n",
    "print('Accuracy of properties at +- 20% of actual prices is ' + str(acc1))"
   ]
  },
  {
   "cell_type": "code",
   "execution_count": 78,
   "id": "38743392",
   "metadata": {},
   "outputs": [
    {
     "name": "stdout",
     "output_type": "stream",
     "text": [
      "Median Absolute Error:\n",
      "\n",
      "0.2654447770832392\n"
     ]
    }
   ],
   "source": [
    "median_se = np.square(np.subtract(y_test_21, y_pred_21)).median() \n",
    " \n",
    "med = math.sqrt(median_se)\n",
    "print(\"Median Absolute Error:\\n\")\n",
    "print(med)"
   ]
  },
  {
   "cell_type": "code",
   "execution_count": 79,
   "id": "ac047411",
   "metadata": {},
   "outputs": [
    {
     "name": "stdout",
     "output_type": "stream",
     "text": [
      "Root Mean Square Error:\n",
      "\n",
      "0.45535122943343553\n"
     ]
    }
   ],
   "source": [
    "mean = np.square(np.subtract(y_test_21, y_pred_21)).mean() \n",
    " \n",
    "mean = math.sqrt(mean)\n",
    "print(\"Root Mean Square Error:\\n\")\n",
    "print(mean)"
   ]
  },
  {
   "cell_type": "code",
   "execution_count": 80,
   "id": "95ff4f12",
   "metadata": {},
   "outputs": [
    {
     "name": "stdout",
     "output_type": "stream",
     "text": [
      "MAPE for AdaBoost 2021 is: 0.02642915373280862\n"
     ]
    }
   ],
   "source": [
    "mape = mean_absolute_percentage_error(y_test_21, y_pred_21)\n",
    "print(\"MAPE for AdaBoost 2021 is: \" + str(mape))"
   ]
  },
  {
   "cell_type": "code",
   "execution_count": 81,
   "id": "935683db",
   "metadata": {},
   "outputs": [],
   "source": [
    "cnames=['Algorithm', 'Year', 'RMSE', 'MSE', 'MEDAE', 'Accuracy', 'MAPE']\n",
    "df7 = pd.DataFrame(columns=cnames)\n",
    "\n",
    "df7 = df7.append({'Algorithm': 'AdaBoost',\n",
    "            'Year': 2021,\n",
    "           'RMSE': mean,\n",
    "           'MSE': mse,\n",
    "           'MEDAE': med,\n",
    "           'Accuracy': acc,\n",
    "           'MAPE': mape       \n",
    "          }, ignore_index=True)"
   ]
  },
  {
   "cell_type": "markdown",
   "id": "b8a62354",
   "metadata": {},
   "source": [
    "#### 2020 Predictions"
   ]
  },
  {
   "cell_type": "code",
   "execution_count": 82,
   "id": "91a5776a",
   "metadata": {},
   "outputs": [
    {
     "data": {
      "text/plain": [
       "AdaBoostRegressor()"
      ]
     },
     "execution_count": 82,
     "metadata": {},
     "output_type": "execute_result"
    }
   ],
   "source": [
    "model = AdaBoostRegressor()\n",
    "model.fit(x_train_20, y_train_20)"
   ]
  },
  {
   "cell_type": "code",
   "execution_count": 83,
   "id": "bcc35421",
   "metadata": {},
   "outputs": [
    {
     "name": "stdout",
     "output_type": "stream",
     "text": [
      "MSE for AdaBoost 2020 is: 0.17867182060606726\n"
     ]
    }
   ],
   "source": [
    "y_pred_20 = model.predict(x_test_20)\n",
    "# Calculation of Mean Squared Error (MSE)\n",
    "mse = mean_squared_error(y_test_20, y_pred_20)\n",
    "print('MSE for AdaBoost 2020 is: ' + str(mse))"
   ]
  },
  {
   "cell_type": "code",
   "execution_count": 84,
   "id": "641cd557",
   "metadata": {},
   "outputs": [
    {
     "name": "stdout",
     "output_type": "stream",
     "text": [
      "Accuracy of properties at +- 10% of actual prices is 0.2601028655400441\n"
     ]
    }
   ],
   "source": [
    "acc = accuracy_threshold(y_test_20, y_pred_20, 0.1)\n",
    "print('Accuracy of properties at +- 10% of actual prices is ' + str(acc))"
   ]
  },
  {
   "cell_type": "code",
   "execution_count": 85,
   "id": "ab81180d",
   "metadata": {},
   "outputs": [
    {
     "name": "stdout",
     "output_type": "stream",
     "text": [
      "Accuracy of properties at +- 20% of actual prices is 0.5111437668381092\n"
     ]
    }
   ],
   "source": [
    "acc1 = accuracy_threshold(y_test_20, y_pred_20, 0.20)\n",
    "print('Accuracy of properties at +- 20% of actual prices is ' + str(acc1))"
   ]
  },
  {
   "cell_type": "code",
   "execution_count": 86,
   "id": "a081be20",
   "metadata": {},
   "outputs": [
    {
     "name": "stdout",
     "output_type": "stream",
     "text": [
      "Median Absolute Error:\n",
      "\n",
      "0.20906372904615544\n"
     ]
    }
   ],
   "source": [
    "median_se = np.square(np.subtract(y_test_20, y_pred_20)).median() \n",
    " \n",
    "med = math.sqrt(median_se)\n",
    "print(\"Median Absolute Error:\\n\")\n",
    "print(med)"
   ]
  },
  {
   "cell_type": "code",
   "execution_count": 87,
   "id": "02c3cb6f",
   "metadata": {},
   "outputs": [
    {
     "name": "stdout",
     "output_type": "stream",
     "text": [
      "Root Mean Square Error:\n",
      "\n",
      "0.4226958961310927\n"
     ]
    }
   ],
   "source": [
    "mean = np.square(np.subtract(y_test_20, y_pred_20)).mean() \n",
    " \n",
    "mean = math.sqrt(mean)\n",
    "print(\"Root Mean Square Error:\\n\")\n",
    "print(mean)"
   ]
  },
  {
   "cell_type": "code",
   "execution_count": 88,
   "id": "dc3d5e41",
   "metadata": {},
   "outputs": [
    {
     "name": "stdout",
     "output_type": "stream",
     "text": [
      "MAPE for AdaBoost 2020 is: 0.023339695291850333\n"
     ]
    }
   ],
   "source": [
    "mape = mean_absolute_percentage_error(y_test_20, y_pred_20)\n",
    "print(\"MAPE for AdaBoost 2020 is: \" + str(mape))"
   ]
  },
  {
   "cell_type": "code",
   "execution_count": 89,
   "id": "99ce3cf8",
   "metadata": {},
   "outputs": [],
   "source": [
    "cnames=['Algorithm', 'Year', 'RMSE', 'MSE', 'MEDAE', 'Accuracy', 'MAPE']\n",
    "df6 = pd.DataFrame(columns = cnames)\n",
    "\n",
    "df6 = df6.append({'Algorithm': 'AdaBoost',\n",
    "            'Year': 2020,\n",
    "           'RMSE': mean,\n",
    "           'MSE': mse,\n",
    "           'MEDAE': med,\n",
    "           'Accuracy': acc,\n",
    "           'MAPE': mape       \n",
    "          }, ignore_index=True)"
   ]
  },
  {
   "cell_type": "markdown",
   "id": "5d5407fb",
   "metadata": {},
   "source": [
    "## Let's now try a selection of other algorithms on our data\n",
    "### LightGBM"
   ]
  },
  {
   "cell_type": "code",
   "execution_count": 90,
   "id": "8b71082c",
   "metadata": {},
   "outputs": [],
   "source": [
    "from sklearn.datasets import make_regression\n",
    "from lightgbm import LGBMRegressor"
   ]
  },
  {
   "cell_type": "markdown",
   "id": "e0e91f3e",
   "metadata": {},
   "source": [
    "### 2020 House Price Prediction Using LightGBM"
   ]
  },
  {
   "cell_type": "code",
   "execution_count": 91,
   "id": "74d6ecf3",
   "metadata": {},
   "outputs": [
    {
     "data": {
      "text/plain": [
       "LGBMRegressor()"
      ]
     },
     "execution_count": 91,
     "metadata": {},
     "output_type": "execute_result"
    }
   ],
   "source": [
    "model = LGBMRegressor()\n",
    "model.fit(x_train_20, y_train_20)"
   ]
  },
  {
   "cell_type": "code",
   "execution_count": 92,
   "id": "bef53552",
   "metadata": {},
   "outputs": [
    {
     "name": "stdout",
     "output_type": "stream",
     "text": [
      "MSE for LightGBM 2020 is: 0.11209918399204873\n"
     ]
    }
   ],
   "source": [
    "y_pred_20 = model.predict(x_test_20)\n",
    "# Calculation of Mean Squared Error (MSE)\n",
    "mse = mean_squared_error(y_test_20,y_pred_20)\n",
    "print('MSE for LightGBM 2020 is: ' + str(mse))"
   ]
  },
  {
   "cell_type": "code",
   "execution_count": 93,
   "id": "7df03eed",
   "metadata": {},
   "outputs": [
    {
     "name": "stdout",
     "output_type": "stream",
     "text": [
      "Accuracy of properties at +- 10% of actual prices is 0.3852559392603478\n"
     ]
    }
   ],
   "source": [
    "acc = accuracy_threshold(y_test_20, y_pred_20, 0.1)\n",
    "print('Accuracy of properties at +- 10% of actual prices is ' + str(acc))"
   ]
  },
  {
   "cell_type": "code",
   "execution_count": 94,
   "id": "931d8bdc",
   "metadata": {},
   "outputs": [
    {
     "name": "stdout",
     "output_type": "stream",
     "text": [
      "Accuracy of properties at +- 20% of actual prices is 0.6642174871418075\n"
     ]
    }
   ],
   "source": [
    "acc1 = accuracy_threshold(y_test_20, y_pred_20, 0.20)\n",
    "print('Accuracy of properties at +- 20% of actual prices is ' + str(acc1))"
   ]
  },
  {
   "cell_type": "code",
   "execution_count": 95,
   "id": "88f6e6bd",
   "metadata": {},
   "outputs": [
    {
     "name": "stdout",
     "output_type": "stream",
     "text": [
      "Median Absolute Error:\n",
      "\n",
      "0.14151314048891273\n"
     ]
    }
   ],
   "source": [
    "median_se = np.square(np.subtract(y_test_20,y_pred_20)).median() \n",
    " \n",
    "med = math.sqrt(median_se)\n",
    "print(\"Median Absolute Error:\\n\")\n",
    "print(med)"
   ]
  },
  {
   "cell_type": "code",
   "execution_count": 96,
   "id": "495a055a",
   "metadata": {},
   "outputs": [
    {
     "name": "stdout",
     "output_type": "stream",
     "text": [
      "Root Mean Square Error:\n",
      "\n",
      "0.3348121622522825\n"
     ]
    }
   ],
   "source": [
    "mean = np.square(np.subtract(y_test_20,y_pred_20)).mean() \n",
    " \n",
    "mean = math.sqrt(mean)\n",
    "print(\"Root Mean Square Error:\\n\")\n",
    "print(mean)"
   ]
  },
  {
   "cell_type": "code",
   "execution_count": 97,
   "id": "0d02cce4",
   "metadata": {},
   "outputs": [
    {
     "name": "stdout",
     "output_type": "stream",
     "text": [
      "MAPE for LightGBM 2020 is: 0.01693800584805931\n"
     ]
    }
   ],
   "source": [
    "mape = mean_absolute_percentage_error(y_test_20, y_pred_20)\n",
    "print(\"MAPE for LightGBM 2020 is: \" + str(mape))"
   ]
  },
  {
   "cell_type": "code",
   "execution_count": 98,
   "id": "02a28f79",
   "metadata": {},
   "outputs": [],
   "source": [
    "cnames=['Algorithm', 'Year', 'RMSE', 'MSE', 'MEDAE', 'Accuracy', 'MAPE']\n",
    "df5 = pd.DataFrame(columns=cnames)\n",
    "\n",
    "df5 = df5.append({'Algorithm': 'LightGBM',\n",
    "            'Year': 2020,\n",
    "           'RMSE': mean,\n",
    "           'MSE': mse,\n",
    "           'MEDAE': med,\n",
    "           'Accuracy': acc,\n",
    "           'MAPE': mape       \n",
    "          }, ignore_index=True)"
   ]
  },
  {
   "cell_type": "markdown",
   "id": "2e9fa1fa",
   "metadata": {},
   "source": [
    "### 2021"
   ]
  },
  {
   "cell_type": "code",
   "execution_count": 99,
   "id": "ddcc332a",
   "metadata": {},
   "outputs": [
    {
     "data": {
      "text/plain": [
       "LGBMRegressor()"
      ]
     },
     "execution_count": 99,
     "metadata": {},
     "output_type": "execute_result"
    }
   ],
   "source": [
    "model = LGBMRegressor()\n",
    "model.fit(x_train_21, y_train_21)"
   ]
  },
  {
   "cell_type": "code",
   "execution_count": 100,
   "id": "a24e4f44",
   "metadata": {},
   "outputs": [
    {
     "name": "stdout",
     "output_type": "stream",
     "text": [
      "MSE for LightGBM 2021 is: 0.11093363561099025\n"
     ]
    }
   ],
   "source": [
    "y_pred_21 = model.predict(x_test_21)\n",
    "# Calculation of Mean Squared Error (MSE)\n",
    "mse = mean_squared_error(y_test_21,y_pred_21)\n",
    "print('MSE for LightGBM 2021 is: ' + str(mse))"
   ]
  },
  {
   "cell_type": "code",
   "execution_count": 101,
   "id": "09de1db0",
   "metadata": {},
   "outputs": [
    {
     "name": "stdout",
     "output_type": "stream",
     "text": [
      "Accuracy of properties at +- 10% of actual prices is 0.3462277751081211\n"
     ]
    }
   ],
   "source": [
    "acc = accuracy_threshold(y_test_21, y_pred_21, 0.1)\n",
    "print('Accuracy of properties at +- 10% of actual prices is ' + str(acc))"
   ]
  },
  {
   "cell_type": "code",
   "execution_count": 102,
   "id": "22412899",
   "metadata": {},
   "outputs": [
    {
     "name": "stdout",
     "output_type": "stream",
     "text": [
      "Accuracy of properties at +- 20% of actual prices is 0.6326285439692455\n"
     ]
    }
   ],
   "source": [
    "acc1 = accuracy_threshold(y_test_21, y_pred_21, 0.20)\n",
    "print('Accuracy of properties at +- 20% of actual prices is ' + str(acc1))"
   ]
  },
  {
   "cell_type": "code",
   "execution_count": 103,
   "id": "1af063f3",
   "metadata": {},
   "outputs": [
    {
     "name": "stdout",
     "output_type": "stream",
     "text": [
      "Median Absolute Error:\n",
      "\n",
      "0.15318682860942873\n"
     ]
    }
   ],
   "source": [
    "median_se = np.square(np.subtract(y_test_21, y_pred_21)).median() \n",
    " \n",
    "med = math.sqrt(median_se)\n",
    "print(\"Median Absolute Error:\\n\")\n",
    "print(med)"
   ]
  },
  {
   "cell_type": "code",
   "execution_count": 104,
   "id": "f6b3dde0",
   "metadata": {},
   "outputs": [
    {
     "name": "stdout",
     "output_type": "stream",
     "text": [
      "Root Mean Square Error:\n",
      "\n",
      "0.3330670136939266\n"
     ]
    }
   ],
   "source": [
    "mean = np.square(np.subtract(y_test_21, y_pred_21)).mean() \n",
    " \n",
    "mean = math.sqrt(mean)\n",
    "print(\"Root Mean Square Error:\\n\")\n",
    "print(mean)"
   ]
  },
  {
   "cell_type": "code",
   "execution_count": 105,
   "id": "f6d92791",
   "metadata": {},
   "outputs": [
    {
     "name": "stdout",
     "output_type": "stream",
     "text": [
      "MAPE for LightGBM 2021 is: 0.017563678159351424\n"
     ]
    }
   ],
   "source": [
    "mape = mean_absolute_percentage_error(y_test_21, y_pred_21)\n",
    "print(\"MAPE for LightGBM 2021 is: \" + str(mape))"
   ]
  },
  {
   "cell_type": "code",
   "execution_count": 106,
   "id": "0a2ce444",
   "metadata": {},
   "outputs": [],
   "source": [
    "cnames=['Algorithm', 'Year', 'RMSE', 'MSE', 'MEDAE', 'Accuracy', 'MAPE']\n",
    "df4 = pd.DataFrame(columns=cnames)\n",
    "\n",
    "df4 = df4.append({'Algorithm': 'LightGBM',\n",
    "            'Year': 2021,\n",
    "           'RMSE': mean,\n",
    "           'MSE': mse,\n",
    "           'MEDAE': med,\n",
    "           'Accuracy': acc,\n",
    "           'MAPE': mape       \n",
    "          }, ignore_index=True)"
   ]
  },
  {
   "cell_type": "markdown",
   "id": "776bcb52",
   "metadata": {},
   "source": [
    "### CatBoost\n",
    "\n",
    "#### 2021 Prediction"
   ]
  },
  {
   "cell_type": "code",
   "execution_count": 107,
   "id": "82d9ac87",
   "metadata": {},
   "outputs": [],
   "source": [
    "from catboost import CatBoostRegressor"
   ]
  },
  {
   "cell_type": "code",
   "execution_count": 108,
   "id": "c0b33685",
   "metadata": {},
   "outputs": [
    {
     "name": "stdout",
     "output_type": "stream",
     "text": [
      "Learning rate set to 0.064845\n",
      "0:\tlearn: 0.5737353\ttotal: 148ms\tremaining: 2m 27s\n",
      "1:\tlearn: 0.5551178\ttotal: 154ms\tremaining: 1m 16s\n",
      "2:\tlearn: 0.5385000\ttotal: 160ms\tremaining: 53.1s\n",
      "3:\tlearn: 0.5233769\ttotal: 166ms\tremaining: 41.3s\n",
      "4:\tlearn: 0.5102591\ttotal: 172ms\tremaining: 34.3s\n",
      "5:\tlearn: 0.4980203\ttotal: 180ms\tremaining: 29.8s\n",
      "6:\tlearn: 0.4857911\ttotal: 187ms\tremaining: 26.5s\n",
      "7:\tlearn: 0.4746755\ttotal: 193ms\tremaining: 23.9s\n",
      "8:\tlearn: 0.4647203\ttotal: 198ms\tremaining: 21.9s\n",
      "9:\tlearn: 0.4548978\ttotal: 204ms\tremaining: 20.2s\n",
      "10:\tlearn: 0.4470899\ttotal: 210ms\tremaining: 18.9s\n",
      "11:\tlearn: 0.4394990\ttotal: 217ms\tremaining: 17.8s\n",
      "12:\tlearn: 0.4328231\ttotal: 223ms\tremaining: 16.9s\n",
      "13:\tlearn: 0.4263259\ttotal: 229ms\tremaining: 16.1s\n",
      "14:\tlearn: 0.4207021\ttotal: 234ms\tremaining: 15.4s\n",
      "15:\tlearn: 0.4155200\ttotal: 240ms\tremaining: 14.8s\n",
      "16:\tlearn: 0.4102634\ttotal: 246ms\tremaining: 14.2s\n",
      "17:\tlearn: 0.4052852\ttotal: 252ms\tremaining: 13.8s\n",
      "18:\tlearn: 0.4005402\ttotal: 258ms\tremaining: 13.3s\n",
      "19:\tlearn: 0.3969370\ttotal: 264ms\tremaining: 12.9s\n",
      "20:\tlearn: 0.3936155\ttotal: 270ms\tremaining: 12.6s\n",
      "21:\tlearn: 0.3899970\ttotal: 276ms\tremaining: 12.3s\n",
      "22:\tlearn: 0.3868965\ttotal: 281ms\tremaining: 12s\n",
      "23:\tlearn: 0.3843225\ttotal: 287ms\tremaining: 11.7s\n",
      "24:\tlearn: 0.3814842\ttotal: 296ms\tremaining: 11.5s\n",
      "25:\tlearn: 0.3787456\ttotal: 306ms\tremaining: 11.5s\n",
      "26:\tlearn: 0.3770362\ttotal: 312ms\tremaining: 11.2s\n",
      "27:\tlearn: 0.3751463\ttotal: 318ms\tremaining: 11s\n",
      "28:\tlearn: 0.3729488\ttotal: 326ms\tremaining: 10.9s\n",
      "29:\tlearn: 0.3711589\ttotal: 335ms\tremaining: 10.8s\n",
      "30:\tlearn: 0.3694785\ttotal: 342ms\tremaining: 10.7s\n",
      "31:\tlearn: 0.3681908\ttotal: 349ms\tremaining: 10.5s\n",
      "32:\tlearn: 0.3662414\ttotal: 356ms\tremaining: 10.4s\n",
      "33:\tlearn: 0.3652343\ttotal: 365ms\tremaining: 10.4s\n",
      "34:\tlearn: 0.3639598\ttotal: 373ms\tremaining: 10.3s\n",
      "35:\tlearn: 0.3628352\ttotal: 379ms\tremaining: 10.2s\n",
      "36:\tlearn: 0.3613573\ttotal: 386ms\tremaining: 10s\n",
      "37:\tlearn: 0.3591509\ttotal: 392ms\tremaining: 9.92s\n",
      "38:\tlearn: 0.3578655\ttotal: 399ms\tremaining: 9.83s\n",
      "39:\tlearn: 0.3566761\ttotal: 407ms\tremaining: 9.76s\n",
      "40:\tlearn: 0.3556567\ttotal: 414ms\tremaining: 9.68s\n",
      "41:\tlearn: 0.3549546\ttotal: 421ms\tremaining: 9.6s\n",
      "42:\tlearn: 0.3538951\ttotal: 430ms\tremaining: 9.57s\n",
      "43:\tlearn: 0.3530172\ttotal: 439ms\tremaining: 9.53s\n",
      "44:\tlearn: 0.3515931\ttotal: 446ms\tremaining: 9.46s\n",
      "45:\tlearn: 0.3509932\ttotal: 454ms\tremaining: 9.42s\n",
      "46:\tlearn: 0.3500212\ttotal: 459ms\tremaining: 9.32s\n",
      "47:\tlearn: 0.3493364\ttotal: 466ms\tremaining: 9.25s\n",
      "48:\tlearn: 0.3480202\ttotal: 473ms\tremaining: 9.18s\n",
      "49:\tlearn: 0.3474669\ttotal: 480ms\tremaining: 9.12s\n",
      "50:\tlearn: 0.3462239\ttotal: 487ms\tremaining: 9.06s\n",
      "51:\tlearn: 0.3451918\ttotal: 494ms\tremaining: 9.02s\n",
      "52:\tlearn: 0.3443035\ttotal: 503ms\tremaining: 8.99s\n",
      "53:\tlearn: 0.3434038\ttotal: 511ms\tremaining: 8.96s\n",
      "54:\tlearn: 0.3427102\ttotal: 519ms\tremaining: 8.92s\n",
      "55:\tlearn: 0.3419452\ttotal: 525ms\tremaining: 8.86s\n",
      "56:\tlearn: 0.3409245\ttotal: 532ms\tremaining: 8.79s\n",
      "57:\tlearn: 0.3397535\ttotal: 538ms\tremaining: 8.73s\n",
      "58:\tlearn: 0.3380135\ttotal: 543ms\tremaining: 8.66s\n",
      "59:\tlearn: 0.3375709\ttotal: 549ms\tremaining: 8.6s\n",
      "60:\tlearn: 0.3370871\ttotal: 556ms\tremaining: 8.55s\n",
      "61:\tlearn: 0.3365663\ttotal: 563ms\tremaining: 8.52s\n",
      "62:\tlearn: 0.3356330\ttotal: 569ms\tremaining: 8.46s\n",
      "63:\tlearn: 0.3348627\ttotal: 575ms\tremaining: 8.4s\n",
      "64:\tlearn: 0.3337537\ttotal: 580ms\tremaining: 8.35s\n",
      "65:\tlearn: 0.3334233\ttotal: 586ms\tremaining: 8.29s\n",
      "66:\tlearn: 0.3329949\ttotal: 592ms\tremaining: 8.24s\n",
      "67:\tlearn: 0.3325843\ttotal: 597ms\tremaining: 8.19s\n",
      "68:\tlearn: 0.3317158\ttotal: 603ms\tremaining: 8.14s\n",
      "69:\tlearn: 0.3314510\ttotal: 609ms\tremaining: 8.09s\n",
      "70:\tlearn: 0.3311661\ttotal: 614ms\tremaining: 8.04s\n",
      "71:\tlearn: 0.3302253\ttotal: 620ms\tremaining: 7.99s\n",
      "72:\tlearn: 0.3294720\ttotal: 625ms\tremaining: 7.94s\n",
      "73:\tlearn: 0.3289132\ttotal: 631ms\tremaining: 7.89s\n",
      "74:\tlearn: 0.3286988\ttotal: 636ms\tremaining: 7.85s\n",
      "75:\tlearn: 0.3280809\ttotal: 642ms\tremaining: 7.81s\n",
      "76:\tlearn: 0.3279253\ttotal: 648ms\tremaining: 7.77s\n",
      "77:\tlearn: 0.3272319\ttotal: 653ms\tremaining: 7.72s\n",
      "78:\tlearn: 0.3268241\ttotal: 660ms\tremaining: 7.69s\n",
      "79:\tlearn: 0.3264365\ttotal: 666ms\tremaining: 7.66s\n",
      "80:\tlearn: 0.3262063\ttotal: 671ms\tremaining: 7.62s\n",
      "81:\tlearn: 0.3257358\ttotal: 678ms\tremaining: 7.59s\n",
      "82:\tlearn: 0.3252688\ttotal: 685ms\tremaining: 7.57s\n",
      "83:\tlearn: 0.3245509\ttotal: 692ms\tremaining: 7.54s\n",
      "84:\tlearn: 0.3239339\ttotal: 697ms\tremaining: 7.51s\n",
      "85:\tlearn: 0.3234798\ttotal: 703ms\tremaining: 7.47s\n",
      "86:\tlearn: 0.3230068\ttotal: 710ms\tremaining: 7.45s\n",
      "87:\tlearn: 0.3227932\ttotal: 715ms\tremaining: 7.41s\n",
      "88:\tlearn: 0.3225094\ttotal: 722ms\tremaining: 7.39s\n",
      "89:\tlearn: 0.3218191\ttotal: 728ms\tremaining: 7.36s\n",
      "90:\tlearn: 0.3214852\ttotal: 733ms\tremaining: 7.33s\n",
      "91:\tlearn: 0.3210517\ttotal: 740ms\tremaining: 7.31s\n",
      "92:\tlearn: 0.3207493\ttotal: 747ms\tremaining: 7.29s\n",
      "93:\tlearn: 0.3200708\ttotal: 755ms\tremaining: 7.28s\n",
      "94:\tlearn: 0.3198219\ttotal: 762ms\tremaining: 7.26s\n",
      "95:\tlearn: 0.3192549\ttotal: 768ms\tremaining: 7.23s\n",
      "96:\tlearn: 0.3188867\ttotal: 775ms\tremaining: 7.21s\n",
      "97:\tlearn: 0.3179975\ttotal: 782ms\tremaining: 7.2s\n",
      "98:\tlearn: 0.3174084\ttotal: 789ms\tremaining: 7.18s\n",
      "99:\tlearn: 0.3171475\ttotal: 796ms\tremaining: 7.16s\n",
      "100:\tlearn: 0.3168001\ttotal: 803ms\tremaining: 7.15s\n",
      "101:\tlearn: 0.3164336\ttotal: 811ms\tremaining: 7.14s\n",
      "102:\tlearn: 0.3162871\ttotal: 817ms\tremaining: 7.12s\n",
      "103:\tlearn: 0.3159704\ttotal: 825ms\tremaining: 7.1s\n",
      "104:\tlearn: 0.3158119\ttotal: 831ms\tremaining: 7.08s\n",
      "105:\tlearn: 0.3156963\ttotal: 838ms\tremaining: 7.07s\n",
      "106:\tlearn: 0.3155525\ttotal: 844ms\tremaining: 7.05s\n",
      "107:\tlearn: 0.3150573\ttotal: 851ms\tremaining: 7.03s\n",
      "108:\tlearn: 0.3144383\ttotal: 858ms\tremaining: 7.01s\n",
      "109:\tlearn: 0.3138575\ttotal: 865ms\tremaining: 7s\n",
      "110:\tlearn: 0.3131300\ttotal: 872ms\tremaining: 6.98s\n",
      "111:\tlearn: 0.3126370\ttotal: 879ms\tremaining: 6.97s\n",
      "112:\tlearn: 0.3122558\ttotal: 886ms\tremaining: 6.95s\n",
      "113:\tlearn: 0.3121358\ttotal: 894ms\tremaining: 6.94s\n",
      "114:\tlearn: 0.3120170\ttotal: 902ms\tremaining: 6.94s\n",
      "115:\tlearn: 0.3118219\ttotal: 908ms\tremaining: 6.92s\n",
      "116:\tlearn: 0.3115035\ttotal: 916ms\tremaining: 6.91s\n",
      "117:\tlearn: 0.3113730\ttotal: 926ms\tremaining: 6.92s\n",
      "118:\tlearn: 0.3108963\ttotal: 936ms\tremaining: 6.93s\n",
      "119:\tlearn: 0.3105590\ttotal: 945ms\tremaining: 6.93s\n",
      "120:\tlearn: 0.3101222\ttotal: 953ms\tremaining: 6.93s\n",
      "121:\tlearn: 0.3095907\ttotal: 962ms\tremaining: 6.92s\n",
      "122:\tlearn: 0.3092909\ttotal: 971ms\tremaining: 6.92s\n",
      "123:\tlearn: 0.3088688\ttotal: 979ms\tremaining: 6.92s\n",
      "124:\tlearn: 0.3082821\ttotal: 986ms\tremaining: 6.9s\n",
      "125:\tlearn: 0.3080761\ttotal: 994ms\tremaining: 6.89s\n",
      "126:\tlearn: 0.3077963\ttotal: 1s\tremaining: 6.88s\n",
      "127:\tlearn: 0.3068973\ttotal: 1.02s\tremaining: 6.98s\n",
      "128:\tlearn: 0.3067017\ttotal: 1.04s\tremaining: 7.02s\n",
      "129:\tlearn: 0.3065019\ttotal: 1.05s\tremaining: 7.05s\n",
      "130:\tlearn: 0.3061832\ttotal: 1.07s\tremaining: 7.13s\n",
      "131:\tlearn: 0.3059563\ttotal: 1.1s\tremaining: 7.21s\n",
      "132:\tlearn: 0.3056806\ttotal: 1.11s\tremaining: 7.23s\n",
      "133:\tlearn: 0.3055720\ttotal: 1.12s\tremaining: 7.26s\n",
      "134:\tlearn: 0.3051324\ttotal: 1.14s\tremaining: 7.31s\n",
      "135:\tlearn: 0.3047856\ttotal: 1.15s\tremaining: 7.33s\n",
      "136:\tlearn: 0.3045384\ttotal: 1.18s\tremaining: 7.42s\n",
      "137:\tlearn: 0.3042527\ttotal: 1.19s\tremaining: 7.43s\n",
      "138:\tlearn: 0.3040905\ttotal: 1.2s\tremaining: 7.41s\n",
      "139:\tlearn: 0.3037027\ttotal: 1.21s\tremaining: 7.4s\n",
      "140:\tlearn: 0.3033770\ttotal: 1.21s\tremaining: 7.39s\n",
      "141:\tlearn: 0.3031851\ttotal: 1.22s\tremaining: 7.39s\n",
      "142:\tlearn: 0.3028645\ttotal: 1.23s\tremaining: 7.38s\n",
      "143:\tlearn: 0.3027307\ttotal: 1.24s\tremaining: 7.37s\n",
      "144:\tlearn: 0.3023724\ttotal: 1.29s\tremaining: 7.62s\n",
      "145:\tlearn: 0.3022366\ttotal: 1.36s\tremaining: 7.96s\n",
      "146:\tlearn: 0.3019563\ttotal: 1.38s\tremaining: 8.01s\n",
      "147:\tlearn: 0.3016690\ttotal: 1.41s\tremaining: 8.11s\n",
      "148:\tlearn: 0.3013176\ttotal: 1.43s\tremaining: 8.14s\n",
      "149:\tlearn: 0.3009770\ttotal: 1.45s\tremaining: 8.22s\n",
      "150:\tlearn: 0.3007691\ttotal: 1.47s\tremaining: 8.27s\n",
      "151:\tlearn: 0.3005194\ttotal: 1.49s\tremaining: 8.32s\n",
      "152:\tlearn: 0.3003713\ttotal: 1.51s\tremaining: 8.35s\n",
      "153:\tlearn: 0.3001881\ttotal: 1.54s\tremaining: 8.44s\n",
      "154:\tlearn: 0.2998804\ttotal: 1.55s\tremaining: 8.47s\n",
      "155:\tlearn: 0.2998025\ttotal: 1.58s\tremaining: 8.56s\n",
      "156:\tlearn: 0.2996734\ttotal: 1.6s\tremaining: 8.59s\n",
      "157:\tlearn: 0.2992003\ttotal: 1.62s\tremaining: 8.63s\n",
      "158:\tlearn: 0.2989371\ttotal: 1.64s\tremaining: 8.65s\n",
      "159:\tlearn: 0.2987413\ttotal: 1.68s\tremaining: 8.81s\n",
      "160:\tlearn: 0.2986745\ttotal: 1.7s\tremaining: 8.87s\n",
      "161:\tlearn: 0.2982837\ttotal: 1.72s\tremaining: 8.89s\n",
      "162:\tlearn: 0.2981096\ttotal: 1.75s\tremaining: 8.97s\n",
      "163:\tlearn: 0.2979165\ttotal: 1.76s\tremaining: 9s\n",
      "164:\tlearn: 0.2977681\ttotal: 1.78s\tremaining: 9.02s\n",
      "165:\tlearn: 0.2976227\ttotal: 1.81s\tremaining: 9.1s\n",
      "166:\tlearn: 0.2974469\ttotal: 1.84s\tremaining: 9.18s\n",
      "167:\tlearn: 0.2971526\ttotal: 1.86s\tremaining: 9.23s\n"
     ]
    },
    {
     "name": "stdout",
     "output_type": "stream",
     "text": [
      "168:\tlearn: 0.2969686\ttotal: 1.89s\tremaining: 9.3s\n",
      "169:\tlearn: 0.2967079\ttotal: 1.91s\tremaining: 9.34s\n",
      "170:\tlearn: 0.2961902\ttotal: 1.94s\tremaining: 9.42s\n",
      "171:\tlearn: 0.2961127\ttotal: 1.96s\tremaining: 9.42s\n",
      "172:\tlearn: 0.2959593\ttotal: 1.98s\tremaining: 9.44s\n",
      "173:\tlearn: 0.2958379\ttotal: 1.99s\tremaining: 9.45s\n",
      "174:\tlearn: 0.2957040\ttotal: 2.01s\tremaining: 9.49s\n",
      "175:\tlearn: 0.2955037\ttotal: 2.03s\tremaining: 9.51s\n",
      "176:\tlearn: 0.2951500\ttotal: 2.05s\tremaining: 9.52s\n",
      "177:\tlearn: 0.2946518\ttotal: 2.07s\tremaining: 9.57s\n",
      "178:\tlearn: 0.2944594\ttotal: 2.1s\tremaining: 9.61s\n",
      "179:\tlearn: 0.2941458\ttotal: 2.12s\tremaining: 9.63s\n",
      "180:\tlearn: 0.2939243\ttotal: 2.15s\tremaining: 9.74s\n",
      "181:\tlearn: 0.2937629\ttotal: 2.17s\tremaining: 9.75s\n",
      "182:\tlearn: 0.2935803\ttotal: 2.19s\tremaining: 9.79s\n",
      "183:\tlearn: 0.2933966\ttotal: 2.21s\tremaining: 9.8s\n",
      "184:\tlearn: 0.2927402\ttotal: 2.23s\tremaining: 9.83s\n",
      "185:\tlearn: 0.2924519\ttotal: 2.25s\tremaining: 9.84s\n",
      "186:\tlearn: 0.2921502\ttotal: 2.27s\tremaining: 9.86s\n",
      "187:\tlearn: 0.2918313\ttotal: 2.29s\tremaining: 9.87s\n",
      "188:\tlearn: 0.2914698\ttotal: 2.3s\tremaining: 9.88s\n",
      "189:\tlearn: 0.2912958\ttotal: 2.32s\tremaining: 9.88s\n",
      "190:\tlearn: 0.2906650\ttotal: 2.33s\tremaining: 9.88s\n",
      "191:\tlearn: 0.2902905\ttotal: 2.35s\tremaining: 9.91s\n",
      "192:\tlearn: 0.2900427\ttotal: 2.37s\tremaining: 9.9s\n",
      "193:\tlearn: 0.2895930\ttotal: 2.38s\tremaining: 9.91s\n",
      "194:\tlearn: 0.2894365\ttotal: 2.41s\tremaining: 9.94s\n",
      "195:\tlearn: 0.2890475\ttotal: 2.43s\tremaining: 9.96s\n",
      "196:\tlearn: 0.2886869\ttotal: 2.44s\tremaining: 9.96s\n",
      "197:\tlearn: 0.2884148\ttotal: 2.46s\tremaining: 9.96s\n",
      "198:\tlearn: 0.2881061\ttotal: 2.47s\tremaining: 9.96s\n",
      "199:\tlearn: 0.2877843\ttotal: 2.49s\tremaining: 9.96s\n",
      "200:\tlearn: 0.2875518\ttotal: 2.5s\tremaining: 9.94s\n",
      "201:\tlearn: 0.2874043\ttotal: 2.51s\tremaining: 9.9s\n",
      "202:\tlearn: 0.2871858\ttotal: 2.51s\tremaining: 9.87s\n",
      "203:\tlearn: 0.2870519\ttotal: 2.52s\tremaining: 9.85s\n",
      "204:\tlearn: 0.2867976\ttotal: 2.53s\tremaining: 9.82s\n",
      "205:\tlearn: 0.2865854\ttotal: 2.54s\tremaining: 9.8s\n",
      "206:\tlearn: 0.2863158\ttotal: 2.55s\tremaining: 9.78s\n",
      "207:\tlearn: 0.2861912\ttotal: 2.56s\tremaining: 9.76s\n",
      "208:\tlearn: 0.2857951\ttotal: 2.57s\tremaining: 9.74s\n",
      "209:\tlearn: 0.2852407\ttotal: 2.58s\tremaining: 9.71s\n",
      "210:\tlearn: 0.2851419\ttotal: 2.59s\tremaining: 9.69s\n",
      "211:\tlearn: 0.2848389\ttotal: 2.6s\tremaining: 9.66s\n",
      "212:\tlearn: 0.2847355\ttotal: 2.61s\tremaining: 9.63s\n",
      "213:\tlearn: 0.2845062\ttotal: 2.61s\tremaining: 9.6s\n",
      "214:\tlearn: 0.2843452\ttotal: 2.62s\tremaining: 9.57s\n",
      "215:\tlearn: 0.2841315\ttotal: 2.63s\tremaining: 9.54s\n",
      "216:\tlearn: 0.2840643\ttotal: 2.64s\tremaining: 9.52s\n",
      "217:\tlearn: 0.2837285\ttotal: 2.65s\tremaining: 9.49s\n",
      "218:\tlearn: 0.2835618\ttotal: 2.65s\tremaining: 9.46s\n",
      "219:\tlearn: 0.2834205\ttotal: 2.66s\tremaining: 9.43s\n",
      "220:\tlearn: 0.2831038\ttotal: 2.67s\tremaining: 9.4s\n",
      "221:\tlearn: 0.2828608\ttotal: 2.67s\tremaining: 9.36s\n",
      "222:\tlearn: 0.2826876\ttotal: 2.68s\tremaining: 9.33s\n",
      "223:\tlearn: 0.2824547\ttotal: 2.68s\tremaining: 9.29s\n",
      "224:\tlearn: 0.2822063\ttotal: 2.69s\tremaining: 9.26s\n",
      "225:\tlearn: 0.2820524\ttotal: 2.69s\tremaining: 9.23s\n",
      "226:\tlearn: 0.2818655\ttotal: 2.7s\tremaining: 9.2s\n",
      "227:\tlearn: 0.2816094\ttotal: 2.71s\tremaining: 9.16s\n",
      "228:\tlearn: 0.2813014\ttotal: 2.71s\tremaining: 9.13s\n",
      "229:\tlearn: 0.2809137\ttotal: 2.72s\tremaining: 9.1s\n",
      "230:\tlearn: 0.2807964\ttotal: 2.72s\tremaining: 9.06s\n",
      "231:\tlearn: 0.2806725\ttotal: 2.73s\tremaining: 9.03s\n",
      "232:\tlearn: 0.2803624\ttotal: 2.73s\tremaining: 9s\n",
      "233:\tlearn: 0.2800832\ttotal: 2.74s\tremaining: 8.97s\n",
      "234:\tlearn: 0.2799623\ttotal: 2.74s\tremaining: 8.94s\n",
      "235:\tlearn: 0.2795953\ttotal: 2.75s\tremaining: 8.9s\n",
      "236:\tlearn: 0.2794802\ttotal: 2.76s\tremaining: 8.87s\n",
      "237:\tlearn: 0.2792907\ttotal: 2.76s\tremaining: 8.84s\n",
      "238:\tlearn: 0.2791191\ttotal: 2.77s\tremaining: 8.81s\n",
      "239:\tlearn: 0.2790130\ttotal: 2.77s\tremaining: 8.78s\n",
      "240:\tlearn: 0.2789195\ttotal: 2.78s\tremaining: 8.75s\n",
      "241:\tlearn: 0.2785983\ttotal: 2.78s\tremaining: 8.72s\n",
      "242:\tlearn: 0.2784635\ttotal: 2.79s\tremaining: 8.69s\n",
      "243:\tlearn: 0.2782886\ttotal: 2.8s\tremaining: 8.66s\n",
      "244:\tlearn: 0.2780207\ttotal: 2.8s\tremaining: 8.63s\n",
      "245:\tlearn: 0.2776744\ttotal: 2.81s\tremaining: 8.6s\n",
      "246:\tlearn: 0.2775466\ttotal: 2.81s\tremaining: 8.58s\n",
      "247:\tlearn: 0.2774876\ttotal: 2.82s\tremaining: 8.55s\n",
      "248:\tlearn: 0.2772268\ttotal: 2.83s\tremaining: 8.53s\n",
      "249:\tlearn: 0.2770788\ttotal: 2.83s\tremaining: 8.51s\n",
      "250:\tlearn: 0.2769312\ttotal: 2.84s\tremaining: 8.48s\n",
      "251:\tlearn: 0.2767415\ttotal: 2.85s\tremaining: 8.46s\n",
      "252:\tlearn: 0.2766013\ttotal: 2.86s\tremaining: 8.43s\n",
      "253:\tlearn: 0.2763409\ttotal: 2.86s\tremaining: 8.41s\n",
      "254:\tlearn: 0.2762204\ttotal: 2.87s\tremaining: 8.38s\n",
      "255:\tlearn: 0.2761128\ttotal: 2.88s\tremaining: 8.36s\n",
      "256:\tlearn: 0.2759612\ttotal: 2.88s\tremaining: 8.34s\n",
      "257:\tlearn: 0.2758438\ttotal: 2.89s\tremaining: 8.31s\n",
      "258:\tlearn: 0.2755287\ttotal: 2.9s\tremaining: 8.29s\n",
      "259:\tlearn: 0.2752819\ttotal: 2.91s\tremaining: 8.28s\n",
      "260:\tlearn: 0.2752123\ttotal: 2.92s\tremaining: 8.26s\n",
      "261:\tlearn: 0.2748357\ttotal: 2.92s\tremaining: 8.23s\n",
      "262:\tlearn: 0.2745982\ttotal: 2.93s\tremaining: 8.21s\n",
      "263:\tlearn: 0.2744980\ttotal: 2.94s\tremaining: 8.19s\n",
      "264:\tlearn: 0.2744212\ttotal: 2.94s\tremaining: 8.16s\n",
      "265:\tlearn: 0.2742132\ttotal: 2.95s\tremaining: 8.14s\n",
      "266:\tlearn: 0.2740023\ttotal: 2.96s\tremaining: 8.12s\n",
      "267:\tlearn: 0.2737517\ttotal: 2.96s\tremaining: 8.09s\n",
      "268:\tlearn: 0.2735340\ttotal: 2.97s\tremaining: 8.07s\n",
      "269:\tlearn: 0.2732939\ttotal: 2.98s\tremaining: 8.04s\n",
      "270:\tlearn: 0.2730534\ttotal: 2.98s\tremaining: 8.02s\n",
      "271:\tlearn: 0.2729638\ttotal: 2.99s\tremaining: 7.99s\n",
      "272:\tlearn: 0.2726991\ttotal: 2.99s\tremaining: 7.97s\n",
      "273:\tlearn: 0.2724941\ttotal: 3s\tremaining: 7.94s\n",
      "274:\tlearn: 0.2722482\ttotal: 3s\tremaining: 7.92s\n",
      "275:\tlearn: 0.2720741\ttotal: 3.01s\tremaining: 7.9s\n",
      "276:\tlearn: 0.2718290\ttotal: 3.02s\tremaining: 7.88s\n",
      "277:\tlearn: 0.2717039\ttotal: 3.02s\tremaining: 7.86s\n",
      "278:\tlearn: 0.2715512\ttotal: 3.03s\tremaining: 7.84s\n",
      "279:\tlearn: 0.2713081\ttotal: 3.04s\tremaining: 7.82s\n",
      "280:\tlearn: 0.2710768\ttotal: 3.05s\tremaining: 7.79s\n",
      "281:\tlearn: 0.2709965\ttotal: 3.05s\tremaining: 7.77s\n",
      "282:\tlearn: 0.2708752\ttotal: 3.06s\tremaining: 7.75s\n",
      "283:\tlearn: 0.2706796\ttotal: 3.06s\tremaining: 7.72s\n",
      "284:\tlearn: 0.2705217\ttotal: 3.07s\tremaining: 7.7s\n",
      "285:\tlearn: 0.2704145\ttotal: 3.08s\tremaining: 7.68s\n",
      "286:\tlearn: 0.2702965\ttotal: 3.08s\tremaining: 7.65s\n",
      "287:\tlearn: 0.2700039\ttotal: 3.09s\tremaining: 7.63s\n",
      "288:\tlearn: 0.2699582\ttotal: 3.09s\tremaining: 7.61s\n",
      "289:\tlearn: 0.2698853\ttotal: 3.1s\tremaining: 7.58s\n",
      "290:\tlearn: 0.2697974\ttotal: 3.1s\tremaining: 7.56s\n",
      "291:\tlearn: 0.2695170\ttotal: 3.11s\tremaining: 7.54s\n",
      "292:\tlearn: 0.2690845\ttotal: 3.11s\tremaining: 7.51s\n",
      "293:\tlearn: 0.2688090\ttotal: 3.12s\tremaining: 7.49s\n",
      "294:\tlearn: 0.2685987\ttotal: 3.13s\tremaining: 7.47s\n",
      "295:\tlearn: 0.2682585\ttotal: 3.13s\tremaining: 7.45s\n",
      "296:\tlearn: 0.2679146\ttotal: 3.14s\tremaining: 7.43s\n",
      "297:\tlearn: 0.2677055\ttotal: 3.14s\tremaining: 7.41s\n",
      "298:\tlearn: 0.2675881\ttotal: 3.15s\tremaining: 7.38s\n",
      "299:\tlearn: 0.2673532\ttotal: 3.16s\tremaining: 7.36s\n",
      "300:\tlearn: 0.2672267\ttotal: 3.16s\tremaining: 7.34s\n",
      "301:\tlearn: 0.2669993\ttotal: 3.17s\tremaining: 7.32s\n",
      "302:\tlearn: 0.2667452\ttotal: 3.17s\tremaining: 7.3s\n",
      "303:\tlearn: 0.2665340\ttotal: 3.18s\tremaining: 7.28s\n",
      "304:\tlearn: 0.2664842\ttotal: 3.18s\tremaining: 7.26s\n",
      "305:\tlearn: 0.2661920\ttotal: 3.19s\tremaining: 7.24s\n",
      "306:\tlearn: 0.2661003\ttotal: 3.2s\tremaining: 7.22s\n",
      "307:\tlearn: 0.2658721\ttotal: 3.2s\tremaining: 7.2s\n",
      "308:\tlearn: 0.2655857\ttotal: 3.21s\tremaining: 7.18s\n",
      "309:\tlearn: 0.2654456\ttotal: 3.21s\tremaining: 7.16s\n",
      "310:\tlearn: 0.2652664\ttotal: 3.22s\tremaining: 7.13s\n",
      "311:\tlearn: 0.2651191\ttotal: 3.23s\tremaining: 7.11s\n",
      "312:\tlearn: 0.2650348\ttotal: 3.23s\tremaining: 7.09s\n",
      "313:\tlearn: 0.2648655\ttotal: 3.24s\tremaining: 7.07s\n",
      "314:\tlearn: 0.2647603\ttotal: 3.24s\tremaining: 7.05s\n",
      "315:\tlearn: 0.2646871\ttotal: 3.25s\tremaining: 7.03s\n",
      "316:\tlearn: 0.2646214\ttotal: 3.25s\tremaining: 7.01s\n",
      "317:\tlearn: 0.2645437\ttotal: 3.26s\tremaining: 6.99s\n",
      "318:\tlearn: 0.2642915\ttotal: 3.27s\tremaining: 6.97s\n",
      "319:\tlearn: 0.2642447\ttotal: 3.27s\tremaining: 6.96s\n",
      "320:\tlearn: 0.2640982\ttotal: 3.28s\tremaining: 6.94s\n",
      "321:\tlearn: 0.2638650\ttotal: 3.29s\tremaining: 6.92s\n",
      "322:\tlearn: 0.2636348\ttotal: 3.29s\tremaining: 6.9s\n",
      "323:\tlearn: 0.2635189\ttotal: 3.3s\tremaining: 6.88s\n",
      "324:\tlearn: 0.2632234\ttotal: 3.3s\tremaining: 6.86s\n",
      "325:\tlearn: 0.2629755\ttotal: 3.31s\tremaining: 6.84s\n",
      "326:\tlearn: 0.2629128\ttotal: 3.32s\tremaining: 6.83s\n",
      "327:\tlearn: 0.2627855\ttotal: 3.32s\tremaining: 6.81s\n",
      "328:\tlearn: 0.2625725\ttotal: 3.33s\tremaining: 6.79s\n",
      "329:\tlearn: 0.2624668\ttotal: 3.34s\tremaining: 6.77s\n",
      "330:\tlearn: 0.2623911\ttotal: 3.34s\tremaining: 6.76s\n",
      "331:\tlearn: 0.2623161\ttotal: 3.35s\tremaining: 6.74s\n",
      "332:\tlearn: 0.2621744\ttotal: 3.36s\tremaining: 6.72s\n",
      "333:\tlearn: 0.2619779\ttotal: 3.36s\tremaining: 6.71s\n",
      "334:\tlearn: 0.2618054\ttotal: 3.37s\tremaining: 6.69s\n"
     ]
    },
    {
     "name": "stdout",
     "output_type": "stream",
     "text": [
      "335:\tlearn: 0.2615457\ttotal: 3.38s\tremaining: 6.68s\n",
      "336:\tlearn: 0.2612257\ttotal: 3.38s\tremaining: 6.66s\n",
      "337:\tlearn: 0.2611333\ttotal: 3.39s\tremaining: 6.64s\n",
      "338:\tlearn: 0.2609813\ttotal: 3.4s\tremaining: 6.63s\n",
      "339:\tlearn: 0.2608514\ttotal: 3.41s\tremaining: 6.62s\n",
      "340:\tlearn: 0.2607788\ttotal: 3.42s\tremaining: 6.61s\n",
      "341:\tlearn: 0.2606787\ttotal: 3.42s\tremaining: 6.59s\n",
      "342:\tlearn: 0.2604581\ttotal: 3.43s\tremaining: 6.57s\n",
      "343:\tlearn: 0.2603386\ttotal: 3.44s\tremaining: 6.55s\n",
      "344:\tlearn: 0.2603055\ttotal: 3.44s\tremaining: 6.53s\n",
      "345:\tlearn: 0.2601999\ttotal: 3.45s\tremaining: 6.52s\n",
      "346:\tlearn: 0.2601282\ttotal: 3.46s\tremaining: 6.5s\n",
      "347:\tlearn: 0.2599686\ttotal: 3.46s\tremaining: 6.48s\n",
      "348:\tlearn: 0.2597336\ttotal: 3.47s\tremaining: 6.47s\n",
      "349:\tlearn: 0.2596756\ttotal: 3.47s\tremaining: 6.45s\n",
      "350:\tlearn: 0.2595525\ttotal: 3.48s\tremaining: 6.43s\n",
      "351:\tlearn: 0.2594797\ttotal: 3.48s\tremaining: 6.41s\n",
      "352:\tlearn: 0.2594265\ttotal: 3.49s\tremaining: 6.4s\n",
      "353:\tlearn: 0.2590679\ttotal: 3.5s\tremaining: 6.38s\n",
      "354:\tlearn: 0.2589564\ttotal: 3.5s\tremaining: 6.36s\n",
      "355:\tlearn: 0.2587721\ttotal: 3.51s\tremaining: 6.35s\n",
      "356:\tlearn: 0.2587025\ttotal: 3.52s\tremaining: 6.33s\n",
      "357:\tlearn: 0.2585707\ttotal: 3.52s\tremaining: 6.32s\n",
      "358:\tlearn: 0.2585012\ttotal: 3.53s\tremaining: 6.3s\n",
      "359:\tlearn: 0.2584141\ttotal: 3.54s\tremaining: 6.29s\n",
      "360:\tlearn: 0.2582131\ttotal: 3.54s\tremaining: 6.27s\n",
      "361:\tlearn: 0.2581474\ttotal: 3.55s\tremaining: 6.26s\n",
      "362:\tlearn: 0.2580379\ttotal: 3.56s\tremaining: 6.24s\n",
      "363:\tlearn: 0.2579610\ttotal: 3.56s\tremaining: 6.22s\n",
      "364:\tlearn: 0.2577713\ttotal: 3.57s\tremaining: 6.21s\n",
      "365:\tlearn: 0.2576759\ttotal: 3.57s\tremaining: 6.19s\n",
      "366:\tlearn: 0.2576122\ttotal: 3.58s\tremaining: 6.17s\n",
      "367:\tlearn: 0.2574543\ttotal: 3.58s\tremaining: 6.16s\n",
      "368:\tlearn: 0.2573433\ttotal: 3.59s\tremaining: 6.14s\n",
      "369:\tlearn: 0.2572354\ttotal: 3.6s\tremaining: 6.13s\n",
      "370:\tlearn: 0.2570421\ttotal: 3.6s\tremaining: 6.11s\n",
      "371:\tlearn: 0.2569778\ttotal: 3.61s\tremaining: 6.09s\n",
      "372:\tlearn: 0.2568122\ttotal: 3.61s\tremaining: 6.08s\n",
      "373:\tlearn: 0.2566392\ttotal: 3.62s\tremaining: 6.06s\n",
      "374:\tlearn: 0.2565417\ttotal: 3.63s\tremaining: 6.04s\n",
      "375:\tlearn: 0.2564637\ttotal: 3.63s\tremaining: 6.03s\n",
      "376:\tlearn: 0.2563670\ttotal: 3.64s\tremaining: 6.01s\n",
      "377:\tlearn: 0.2562802\ttotal: 3.64s\tremaining: 5.99s\n",
      "378:\tlearn: 0.2560069\ttotal: 3.65s\tremaining: 5.98s\n",
      "379:\tlearn: 0.2559311\ttotal: 3.65s\tremaining: 5.96s\n",
      "380:\tlearn: 0.2557629\ttotal: 3.66s\tremaining: 5.95s\n",
      "381:\tlearn: 0.2556844\ttotal: 3.66s\tremaining: 5.93s\n",
      "382:\tlearn: 0.2556118\ttotal: 3.67s\tremaining: 5.91s\n",
      "383:\tlearn: 0.2555408\ttotal: 3.68s\tremaining: 5.9s\n",
      "384:\tlearn: 0.2554123\ttotal: 3.68s\tremaining: 5.88s\n",
      "385:\tlearn: 0.2553020\ttotal: 3.69s\tremaining: 5.87s\n",
      "386:\tlearn: 0.2552231\ttotal: 3.69s\tremaining: 5.85s\n",
      "387:\tlearn: 0.2551543\ttotal: 3.7s\tremaining: 5.83s\n",
      "388:\tlearn: 0.2550668\ttotal: 3.7s\tremaining: 5.82s\n",
      "389:\tlearn: 0.2548378\ttotal: 3.71s\tremaining: 5.8s\n",
      "390:\tlearn: 0.2546896\ttotal: 3.71s\tremaining: 5.79s\n",
      "391:\tlearn: 0.2546407\ttotal: 3.72s\tremaining: 5.77s\n",
      "392:\tlearn: 0.2545099\ttotal: 3.73s\tremaining: 5.76s\n",
      "393:\tlearn: 0.2543312\ttotal: 3.73s\tremaining: 5.74s\n",
      "394:\tlearn: 0.2542141\ttotal: 3.74s\tremaining: 5.73s\n",
      "395:\tlearn: 0.2541418\ttotal: 3.75s\tremaining: 5.71s\n",
      "396:\tlearn: 0.2539166\ttotal: 3.75s\tremaining: 5.7s\n",
      "397:\tlearn: 0.2536622\ttotal: 3.76s\tremaining: 5.68s\n",
      "398:\tlearn: 0.2535883\ttotal: 3.76s\tremaining: 5.67s\n",
      "399:\tlearn: 0.2535197\ttotal: 3.77s\tremaining: 5.65s\n",
      "400:\tlearn: 0.2533957\ttotal: 3.77s\tremaining: 5.64s\n",
      "401:\tlearn: 0.2532749\ttotal: 3.78s\tremaining: 5.62s\n",
      "402:\tlearn: 0.2531515\ttotal: 3.79s\tremaining: 5.61s\n",
      "403:\tlearn: 0.2531019\ttotal: 3.79s\tremaining: 5.59s\n",
      "404:\tlearn: 0.2530240\ttotal: 3.8s\tremaining: 5.58s\n",
      "405:\tlearn: 0.2528319\ttotal: 3.8s\tremaining: 5.57s\n",
      "406:\tlearn: 0.2527467\ttotal: 3.81s\tremaining: 5.55s\n",
      "407:\tlearn: 0.2526569\ttotal: 3.82s\tremaining: 5.54s\n",
      "408:\tlearn: 0.2524488\ttotal: 3.82s\tremaining: 5.53s\n",
      "409:\tlearn: 0.2523657\ttotal: 3.83s\tremaining: 5.51s\n",
      "410:\tlearn: 0.2522553\ttotal: 3.84s\tremaining: 5.51s\n",
      "411:\tlearn: 0.2520675\ttotal: 3.85s\tremaining: 5.5s\n",
      "412:\tlearn: 0.2518779\ttotal: 3.87s\tremaining: 5.49s\n",
      "413:\tlearn: 0.2517414\ttotal: 3.87s\tremaining: 5.48s\n",
      "414:\tlearn: 0.2516614\ttotal: 3.88s\tremaining: 5.47s\n",
      "415:\tlearn: 0.2515684\ttotal: 3.89s\tremaining: 5.47s\n",
      "416:\tlearn: 0.2515060\ttotal: 3.9s\tremaining: 5.46s\n",
      "417:\tlearn: 0.2514292\ttotal: 3.91s\tremaining: 5.44s\n",
      "418:\tlearn: 0.2513189\ttotal: 3.92s\tremaining: 5.43s\n",
      "419:\tlearn: 0.2512855\ttotal: 3.92s\tremaining: 5.41s\n",
      "420:\tlearn: 0.2511657\ttotal: 3.93s\tremaining: 5.4s\n",
      "421:\tlearn: 0.2509499\ttotal: 3.93s\tremaining: 5.39s\n",
      "422:\tlearn: 0.2507108\ttotal: 3.94s\tremaining: 5.37s\n",
      "423:\tlearn: 0.2505899\ttotal: 3.95s\tremaining: 5.36s\n",
      "424:\tlearn: 0.2503857\ttotal: 3.95s\tremaining: 5.35s\n",
      "425:\tlearn: 0.2502994\ttotal: 3.96s\tremaining: 5.33s\n",
      "426:\tlearn: 0.2500800\ttotal: 3.96s\tremaining: 5.32s\n",
      "427:\tlearn: 0.2499983\ttotal: 3.97s\tremaining: 5.3s\n",
      "428:\tlearn: 0.2498768\ttotal: 3.98s\tremaining: 5.29s\n",
      "429:\tlearn: 0.2496748\ttotal: 3.98s\tremaining: 5.28s\n",
      "430:\tlearn: 0.2495049\ttotal: 3.99s\tremaining: 5.26s\n",
      "431:\tlearn: 0.2494345\ttotal: 4s\tremaining: 5.26s\n",
      "432:\tlearn: 0.2493639\ttotal: 4.01s\tremaining: 5.25s\n",
      "433:\tlearn: 0.2492618\ttotal: 4.02s\tremaining: 5.24s\n",
      "434:\tlearn: 0.2490642\ttotal: 4.03s\tremaining: 5.24s\n",
      "435:\tlearn: 0.2489428\ttotal: 4.05s\tremaining: 5.23s\n",
      "436:\tlearn: 0.2487965\ttotal: 4.05s\tremaining: 5.22s\n",
      "437:\tlearn: 0.2486847\ttotal: 4.06s\tremaining: 5.21s\n",
      "438:\tlearn: 0.2485498\ttotal: 4.07s\tremaining: 5.2s\n",
      "439:\tlearn: 0.2484336\ttotal: 4.08s\tremaining: 5.19s\n",
      "440:\tlearn: 0.2482467\ttotal: 4.09s\tremaining: 5.18s\n",
      "441:\tlearn: 0.2481447\ttotal: 4.1s\tremaining: 5.17s\n",
      "442:\tlearn: 0.2480892\ttotal: 4.11s\tremaining: 5.16s\n",
      "443:\tlearn: 0.2479810\ttotal: 4.11s\tremaining: 5.15s\n",
      "444:\tlearn: 0.2479117\ttotal: 4.12s\tremaining: 5.14s\n",
      "445:\tlearn: 0.2478495\ttotal: 4.13s\tremaining: 5.13s\n",
      "446:\tlearn: 0.2476955\ttotal: 4.13s\tremaining: 5.12s\n",
      "447:\tlearn: 0.2476070\ttotal: 4.14s\tremaining: 5.1s\n",
      "448:\tlearn: 0.2475396\ttotal: 4.15s\tremaining: 5.09s\n",
      "449:\tlearn: 0.2473918\ttotal: 4.16s\tremaining: 5.08s\n",
      "450:\tlearn: 0.2473415\ttotal: 4.16s\tremaining: 5.07s\n",
      "451:\tlearn: 0.2472603\ttotal: 4.17s\tremaining: 5.06s\n",
      "452:\tlearn: 0.2471813\ttotal: 4.18s\tremaining: 5.04s\n",
      "453:\tlearn: 0.2471102\ttotal: 4.18s\tremaining: 5.03s\n",
      "454:\tlearn: 0.2470330\ttotal: 4.19s\tremaining: 5.02s\n",
      "455:\tlearn: 0.2469312\ttotal: 4.2s\tremaining: 5.01s\n",
      "456:\tlearn: 0.2467451\ttotal: 4.21s\tremaining: 5s\n",
      "457:\tlearn: 0.2464788\ttotal: 4.21s\tremaining: 4.99s\n",
      "458:\tlearn: 0.2463140\ttotal: 4.22s\tremaining: 4.98s\n",
      "459:\tlearn: 0.2462565\ttotal: 4.23s\tremaining: 4.96s\n",
      "460:\tlearn: 0.2461780\ttotal: 4.24s\tremaining: 4.95s\n",
      "461:\tlearn: 0.2460619\ttotal: 4.24s\tremaining: 4.94s\n",
      "462:\tlearn: 0.2459551\ttotal: 4.25s\tremaining: 4.93s\n",
      "463:\tlearn: 0.2458785\ttotal: 4.26s\tremaining: 4.92s\n",
      "464:\tlearn: 0.2456901\ttotal: 4.27s\tremaining: 4.91s\n",
      "465:\tlearn: 0.2456311\ttotal: 4.27s\tremaining: 4.9s\n",
      "466:\tlearn: 0.2455548\ttotal: 4.28s\tremaining: 4.88s\n",
      "467:\tlearn: 0.2454796\ttotal: 4.29s\tremaining: 4.88s\n",
      "468:\tlearn: 0.2453933\ttotal: 4.3s\tremaining: 4.86s\n",
      "469:\tlearn: 0.2453112\ttotal: 4.3s\tremaining: 4.85s\n",
      "470:\tlearn: 0.2452365\ttotal: 4.31s\tremaining: 4.84s\n",
      "471:\tlearn: 0.2451202\ttotal: 4.32s\tremaining: 4.83s\n",
      "472:\tlearn: 0.2450279\ttotal: 4.33s\tremaining: 4.83s\n",
      "473:\tlearn: 0.2449237\ttotal: 4.34s\tremaining: 4.82s\n",
      "474:\tlearn: 0.2447249\ttotal: 4.35s\tremaining: 4.81s\n",
      "475:\tlearn: 0.2445869\ttotal: 4.36s\tremaining: 4.8s\n",
      "476:\tlearn: 0.2444768\ttotal: 4.37s\tremaining: 4.79s\n",
      "477:\tlearn: 0.2443864\ttotal: 4.38s\tremaining: 4.79s\n",
      "478:\tlearn: 0.2442593\ttotal: 4.39s\tremaining: 4.78s\n",
      "479:\tlearn: 0.2441780\ttotal: 4.4s\tremaining: 4.77s\n",
      "480:\tlearn: 0.2440612\ttotal: 4.41s\tremaining: 4.75s\n",
      "481:\tlearn: 0.2439699\ttotal: 4.41s\tremaining: 4.74s\n",
      "482:\tlearn: 0.2438641\ttotal: 4.42s\tremaining: 4.73s\n",
      "483:\tlearn: 0.2437985\ttotal: 4.42s\tremaining: 4.71s\n",
      "484:\tlearn: 0.2436535\ttotal: 4.43s\tremaining: 4.7s\n",
      "485:\tlearn: 0.2435350\ttotal: 4.43s\tremaining: 4.69s\n",
      "486:\tlearn: 0.2433826\ttotal: 4.44s\tremaining: 4.68s\n",
      "487:\tlearn: 0.2432861\ttotal: 4.45s\tremaining: 4.66s\n",
      "488:\tlearn: 0.2431656\ttotal: 4.45s\tremaining: 4.65s\n",
      "489:\tlearn: 0.2431217\ttotal: 4.46s\tremaining: 4.64s\n",
      "490:\tlearn: 0.2429712\ttotal: 4.46s\tremaining: 4.63s\n",
      "491:\tlearn: 0.2426877\ttotal: 4.47s\tremaining: 4.61s\n",
      "492:\tlearn: 0.2426297\ttotal: 4.48s\tremaining: 4.6s\n",
      "493:\tlearn: 0.2425331\ttotal: 4.48s\tremaining: 4.59s\n",
      "494:\tlearn: 0.2424428\ttotal: 4.49s\tremaining: 4.58s\n",
      "495:\tlearn: 0.2423888\ttotal: 4.49s\tremaining: 4.57s\n",
      "496:\tlearn: 0.2422782\ttotal: 4.5s\tremaining: 4.55s\n",
      "497:\tlearn: 0.2422318\ttotal: 4.51s\tremaining: 4.54s\n",
      "498:\tlearn: 0.2421509\ttotal: 4.51s\tremaining: 4.53s\n",
      "499:\tlearn: 0.2420935\ttotal: 4.52s\tremaining: 4.52s\n",
      "500:\tlearn: 0.2420153\ttotal: 4.53s\tremaining: 4.51s\n",
      "501:\tlearn: 0.2419438\ttotal: 4.54s\tremaining: 4.5s\n",
      "502:\tlearn: 0.2417407\ttotal: 4.55s\tremaining: 4.49s\n",
      "503:\tlearn: 0.2416694\ttotal: 4.55s\tremaining: 4.48s\n",
      "504:\tlearn: 0.2414901\ttotal: 4.56s\tremaining: 4.47s\n",
      "505:\tlearn: 0.2413372\ttotal: 4.57s\tremaining: 4.46s\n",
      "506:\tlearn: 0.2412815\ttotal: 4.57s\tremaining: 4.45s\n",
      "507:\tlearn: 0.2412559\ttotal: 4.58s\tremaining: 4.44s\n",
      "508:\tlearn: 0.2411892\ttotal: 4.59s\tremaining: 4.42s\n",
      "509:\tlearn: 0.2410459\ttotal: 4.59s\tremaining: 4.41s\n",
      "510:\tlearn: 0.2410111\ttotal: 4.6s\tremaining: 4.4s\n",
      "511:\tlearn: 0.2409028\ttotal: 4.6s\tremaining: 4.39s\n",
      "512:\tlearn: 0.2408403\ttotal: 4.61s\tremaining: 4.38s\n",
      "513:\tlearn: 0.2407702\ttotal: 4.62s\tremaining: 4.36s\n",
      "514:\tlearn: 0.2407425\ttotal: 4.62s\tremaining: 4.35s\n",
      "515:\tlearn: 0.2405566\ttotal: 4.63s\tremaining: 4.34s\n",
      "516:\tlearn: 0.2404389\ttotal: 4.63s\tremaining: 4.33s\n",
      "517:\tlearn: 0.2403855\ttotal: 4.64s\tremaining: 4.32s\n",
      "518:\tlearn: 0.2403257\ttotal: 4.64s\tremaining: 4.3s\n",
      "519:\tlearn: 0.2401325\ttotal: 4.65s\tremaining: 4.29s\n",
      "520:\tlearn: 0.2400486\ttotal: 4.66s\tremaining: 4.28s\n"
     ]
    },
    {
     "name": "stdout",
     "output_type": "stream",
     "text": [
      "521:\tlearn: 0.2399877\ttotal: 4.66s\tremaining: 4.27s\n",
      "522:\tlearn: 0.2398163\ttotal: 4.67s\tremaining: 4.26s\n",
      "523:\tlearn: 0.2397212\ttotal: 4.67s\tremaining: 4.25s\n",
      "524:\tlearn: 0.2396694\ttotal: 4.68s\tremaining: 4.23s\n",
      "525:\tlearn: 0.2395676\ttotal: 4.68s\tremaining: 4.22s\n",
      "526:\tlearn: 0.2393147\ttotal: 4.69s\tremaining: 4.21s\n",
      "527:\tlearn: 0.2392576\ttotal: 4.7s\tremaining: 4.2s\n",
      "528:\tlearn: 0.2391978\ttotal: 4.7s\tremaining: 4.19s\n",
      "529:\tlearn: 0.2391590\ttotal: 4.71s\tremaining: 4.17s\n",
      "530:\tlearn: 0.2390693\ttotal: 4.71s\tremaining: 4.16s\n",
      "531:\tlearn: 0.2389315\ttotal: 4.72s\tremaining: 4.16s\n",
      "532:\tlearn: 0.2388478\ttotal: 4.73s\tremaining: 4.14s\n",
      "533:\tlearn: 0.2388002\ttotal: 4.74s\tremaining: 4.13s\n",
      "534:\tlearn: 0.2387531\ttotal: 4.74s\tremaining: 4.12s\n",
      "535:\tlearn: 0.2386471\ttotal: 4.75s\tremaining: 4.11s\n",
      "536:\tlearn: 0.2385833\ttotal: 4.75s\tremaining: 4.1s\n",
      "537:\tlearn: 0.2384844\ttotal: 4.76s\tremaining: 4.09s\n",
      "538:\tlearn: 0.2384250\ttotal: 4.76s\tremaining: 4.08s\n",
      "539:\tlearn: 0.2383511\ttotal: 4.77s\tremaining: 4.06s\n",
      "540:\tlearn: 0.2382769\ttotal: 4.78s\tremaining: 4.05s\n",
      "541:\tlearn: 0.2382142\ttotal: 4.78s\tremaining: 4.04s\n",
      "542:\tlearn: 0.2380503\ttotal: 4.79s\tremaining: 4.03s\n",
      "543:\tlearn: 0.2379510\ttotal: 4.79s\tremaining: 4.02s\n",
      "544:\tlearn: 0.2378932\ttotal: 4.8s\tremaining: 4.01s\n",
      "545:\tlearn: 0.2378393\ttotal: 4.8s\tremaining: 4s\n",
      "546:\tlearn: 0.2377740\ttotal: 4.81s\tremaining: 3.98s\n",
      "547:\tlearn: 0.2377449\ttotal: 4.82s\tremaining: 3.97s\n",
      "548:\tlearn: 0.2376763\ttotal: 4.82s\tremaining: 3.96s\n",
      "549:\tlearn: 0.2375968\ttotal: 4.83s\tremaining: 3.95s\n",
      "550:\tlearn: 0.2375082\ttotal: 4.84s\tremaining: 3.94s\n",
      "551:\tlearn: 0.2373850\ttotal: 4.85s\tremaining: 3.93s\n",
      "552:\tlearn: 0.2373143\ttotal: 4.86s\tremaining: 3.92s\n",
      "553:\tlearn: 0.2372390\ttotal: 4.86s\tremaining: 3.92s\n",
      "554:\tlearn: 0.2371901\ttotal: 4.87s\tremaining: 3.9s\n",
      "555:\tlearn: 0.2371342\ttotal: 4.88s\tremaining: 3.89s\n",
      "556:\tlearn: 0.2368992\ttotal: 4.88s\tremaining: 3.88s\n",
      "557:\tlearn: 0.2368514\ttotal: 4.89s\tremaining: 3.88s\n",
      "558:\tlearn: 0.2367931\ttotal: 4.9s\tremaining: 3.87s\n",
      "559:\tlearn: 0.2367480\ttotal: 4.91s\tremaining: 3.86s\n",
      "560:\tlearn: 0.2366316\ttotal: 4.92s\tremaining: 3.85s\n",
      "561:\tlearn: 0.2365036\ttotal: 4.92s\tremaining: 3.84s\n",
      "562:\tlearn: 0.2362980\ttotal: 4.93s\tremaining: 3.83s\n",
      "563:\tlearn: 0.2361890\ttotal: 4.93s\tremaining: 3.81s\n",
      "564:\tlearn: 0.2360658\ttotal: 4.94s\tremaining: 3.8s\n",
      "565:\tlearn: 0.2359707\ttotal: 4.95s\tremaining: 3.79s\n",
      "566:\tlearn: 0.2358737\ttotal: 4.95s\tremaining: 3.78s\n",
      "567:\tlearn: 0.2358369\ttotal: 4.96s\tremaining: 3.77s\n",
      "568:\tlearn: 0.2357929\ttotal: 4.96s\tremaining: 3.76s\n",
      "569:\tlearn: 0.2356629\ttotal: 4.97s\tremaining: 3.75s\n",
      "570:\tlearn: 0.2356049\ttotal: 4.98s\tremaining: 3.74s\n",
      "571:\tlearn: 0.2354752\ttotal: 4.98s\tremaining: 3.73s\n",
      "572:\tlearn: 0.2353930\ttotal: 4.99s\tremaining: 3.72s\n",
      "573:\tlearn: 0.2352939\ttotal: 5s\tremaining: 3.71s\n",
      "574:\tlearn: 0.2352099\ttotal: 5.01s\tremaining: 3.7s\n",
      "575:\tlearn: 0.2351061\ttotal: 5.02s\tremaining: 3.69s\n",
      "576:\tlearn: 0.2350417\ttotal: 5.02s\tremaining: 3.68s\n",
      "577:\tlearn: 0.2349511\ttotal: 5.03s\tremaining: 3.67s\n",
      "578:\tlearn: 0.2348444\ttotal: 5.04s\tremaining: 3.66s\n",
      "579:\tlearn: 0.2347634\ttotal: 5.04s\tremaining: 3.65s\n",
      "580:\tlearn: 0.2346973\ttotal: 5.05s\tremaining: 3.64s\n",
      "581:\tlearn: 0.2345604\ttotal: 5.05s\tremaining: 3.63s\n",
      "582:\tlearn: 0.2344945\ttotal: 5.06s\tremaining: 3.62s\n",
      "583:\tlearn: 0.2344714\ttotal: 5.07s\tremaining: 3.61s\n",
      "584:\tlearn: 0.2344049\ttotal: 5.07s\tremaining: 3.6s\n",
      "585:\tlearn: 0.2343440\ttotal: 5.08s\tremaining: 3.59s\n",
      "586:\tlearn: 0.2342560\ttotal: 5.09s\tremaining: 3.58s\n",
      "587:\tlearn: 0.2340541\ttotal: 5.09s\tremaining: 3.57s\n",
      "588:\tlearn: 0.2339996\ttotal: 5.1s\tremaining: 3.56s\n",
      "589:\tlearn: 0.2339154\ttotal: 5.1s\tremaining: 3.55s\n",
      "590:\tlearn: 0.2337872\ttotal: 5.11s\tremaining: 3.54s\n",
      "591:\tlearn: 0.2337455\ttotal: 5.12s\tremaining: 3.52s\n",
      "592:\tlearn: 0.2336232\ttotal: 5.12s\tremaining: 3.52s\n",
      "593:\tlearn: 0.2335965\ttotal: 5.13s\tremaining: 3.5s\n",
      "594:\tlearn: 0.2335289\ttotal: 5.13s\tremaining: 3.49s\n",
      "595:\tlearn: 0.2334973\ttotal: 5.14s\tremaining: 3.48s\n",
      "596:\tlearn: 0.2333864\ttotal: 5.14s\tremaining: 3.47s\n",
      "597:\tlearn: 0.2333103\ttotal: 5.15s\tremaining: 3.46s\n",
      "598:\tlearn: 0.2332585\ttotal: 5.15s\tremaining: 3.45s\n",
      "599:\tlearn: 0.2331572\ttotal: 5.16s\tremaining: 3.44s\n",
      "600:\tlearn: 0.2330906\ttotal: 5.17s\tremaining: 3.43s\n",
      "601:\tlearn: 0.2330353\ttotal: 5.17s\tremaining: 3.42s\n",
      "602:\tlearn: 0.2329136\ttotal: 5.18s\tremaining: 3.41s\n",
      "603:\tlearn: 0.2328420\ttotal: 5.18s\tremaining: 3.4s\n",
      "604:\tlearn: 0.2327833\ttotal: 5.19s\tremaining: 3.39s\n",
      "605:\tlearn: 0.2326116\ttotal: 5.2s\tremaining: 3.38s\n",
      "606:\tlearn: 0.2325611\ttotal: 5.2s\tremaining: 3.37s\n",
      "607:\tlearn: 0.2325064\ttotal: 5.21s\tremaining: 3.36s\n",
      "608:\tlearn: 0.2324608\ttotal: 5.21s\tremaining: 3.35s\n",
      "609:\tlearn: 0.2323987\ttotal: 5.22s\tremaining: 3.34s\n",
      "610:\tlearn: 0.2322170\ttotal: 5.22s\tremaining: 3.33s\n",
      "611:\tlearn: 0.2321209\ttotal: 5.23s\tremaining: 3.32s\n",
      "612:\tlearn: 0.2319801\ttotal: 5.24s\tremaining: 3.31s\n",
      "613:\tlearn: 0.2319190\ttotal: 5.24s\tremaining: 3.29s\n",
      "614:\tlearn: 0.2318447\ttotal: 5.25s\tremaining: 3.29s\n",
      "615:\tlearn: 0.2317765\ttotal: 5.25s\tremaining: 3.27s\n",
      "616:\tlearn: 0.2316960\ttotal: 5.26s\tremaining: 3.27s\n",
      "617:\tlearn: 0.2315458\ttotal: 5.27s\tremaining: 3.25s\n",
      "618:\tlearn: 0.2315198\ttotal: 5.27s\tremaining: 3.24s\n",
      "619:\tlearn: 0.2314253\ttotal: 5.28s\tremaining: 3.23s\n",
      "620:\tlearn: 0.2313579\ttotal: 5.28s\tremaining: 3.22s\n",
      "621:\tlearn: 0.2312484\ttotal: 5.29s\tremaining: 3.21s\n",
      "622:\tlearn: 0.2310808\ttotal: 5.29s\tremaining: 3.2s\n",
      "623:\tlearn: 0.2310171\ttotal: 5.3s\tremaining: 3.19s\n",
      "624:\tlearn: 0.2309452\ttotal: 5.31s\tremaining: 3.18s\n",
      "625:\tlearn: 0.2308372\ttotal: 5.31s\tremaining: 3.17s\n",
      "626:\tlearn: 0.2307513\ttotal: 5.32s\tremaining: 3.16s\n",
      "627:\tlearn: 0.2306629\ttotal: 5.33s\tremaining: 3.15s\n",
      "628:\tlearn: 0.2305825\ttotal: 5.33s\tremaining: 3.15s\n",
      "629:\tlearn: 0.2305229\ttotal: 5.34s\tremaining: 3.14s\n",
      "630:\tlearn: 0.2303871\ttotal: 5.35s\tremaining: 3.13s\n",
      "631:\tlearn: 0.2303460\ttotal: 5.36s\tremaining: 3.12s\n",
      "632:\tlearn: 0.2302857\ttotal: 5.36s\tremaining: 3.11s\n",
      "633:\tlearn: 0.2302014\ttotal: 5.37s\tremaining: 3.1s\n",
      "634:\tlearn: 0.2301526\ttotal: 5.38s\tremaining: 3.09s\n",
      "635:\tlearn: 0.2300631\ttotal: 5.38s\tremaining: 3.08s\n",
      "636:\tlearn: 0.2300266\ttotal: 5.39s\tremaining: 3.07s\n",
      "637:\tlearn: 0.2299700\ttotal: 5.4s\tremaining: 3.06s\n",
      "638:\tlearn: 0.2298961\ttotal: 5.41s\tremaining: 3.05s\n",
      "639:\tlearn: 0.2298026\ttotal: 5.41s\tremaining: 3.04s\n",
      "640:\tlearn: 0.2296451\ttotal: 5.42s\tremaining: 3.03s\n",
      "641:\tlearn: 0.2295854\ttotal: 5.43s\tremaining: 3.02s\n",
      "642:\tlearn: 0.2295467\ttotal: 5.43s\tremaining: 3.02s\n",
      "643:\tlearn: 0.2294751\ttotal: 5.44s\tremaining: 3.01s\n",
      "644:\tlearn: 0.2294054\ttotal: 5.45s\tremaining: 3s\n",
      "645:\tlearn: 0.2292650\ttotal: 5.46s\tremaining: 2.99s\n",
      "646:\tlearn: 0.2291645\ttotal: 5.46s\tremaining: 2.98s\n",
      "647:\tlearn: 0.2290537\ttotal: 5.47s\tremaining: 2.97s\n",
      "648:\tlearn: 0.2290019\ttotal: 5.47s\tremaining: 2.96s\n",
      "649:\tlearn: 0.2289307\ttotal: 5.48s\tremaining: 2.95s\n",
      "650:\tlearn: 0.2288338\ttotal: 5.49s\tremaining: 2.94s\n",
      "651:\tlearn: 0.2287329\ttotal: 5.5s\tremaining: 2.93s\n",
      "652:\tlearn: 0.2286801\ttotal: 5.5s\tremaining: 2.92s\n",
      "653:\tlearn: 0.2286280\ttotal: 5.51s\tremaining: 2.92s\n",
      "654:\tlearn: 0.2285317\ttotal: 5.52s\tremaining: 2.91s\n",
      "655:\tlearn: 0.2284461\ttotal: 5.53s\tremaining: 2.9s\n",
      "656:\tlearn: 0.2283472\ttotal: 5.54s\tremaining: 2.89s\n",
      "657:\tlearn: 0.2282527\ttotal: 5.54s\tremaining: 2.88s\n",
      "658:\tlearn: 0.2281458\ttotal: 5.55s\tremaining: 2.87s\n",
      "659:\tlearn: 0.2280483\ttotal: 5.56s\tremaining: 2.86s\n",
      "660:\tlearn: 0.2280148\ttotal: 5.56s\tremaining: 2.85s\n",
      "661:\tlearn: 0.2279476\ttotal: 5.57s\tremaining: 2.84s\n",
      "662:\tlearn: 0.2278918\ttotal: 5.58s\tremaining: 2.83s\n",
      "663:\tlearn: 0.2277409\ttotal: 5.58s\tremaining: 2.82s\n",
      "664:\tlearn: 0.2275920\ttotal: 5.59s\tremaining: 2.82s\n",
      "665:\tlearn: 0.2274953\ttotal: 5.59s\tremaining: 2.81s\n",
      "666:\tlearn: 0.2274535\ttotal: 5.6s\tremaining: 2.8s\n",
      "667:\tlearn: 0.2273954\ttotal: 5.61s\tremaining: 2.79s\n",
      "668:\tlearn: 0.2272978\ttotal: 5.62s\tremaining: 2.78s\n",
      "669:\tlearn: 0.2272181\ttotal: 5.62s\tremaining: 2.77s\n",
      "670:\tlearn: 0.2271551\ttotal: 5.63s\tremaining: 2.76s\n",
      "671:\tlearn: 0.2270602\ttotal: 5.63s\tremaining: 2.75s\n",
      "672:\tlearn: 0.2269461\ttotal: 5.64s\tremaining: 2.74s\n",
      "673:\tlearn: 0.2268287\ttotal: 5.64s\tremaining: 2.73s\n",
      "674:\tlearn: 0.2267529\ttotal: 5.65s\tremaining: 2.72s\n",
      "675:\tlearn: 0.2266170\ttotal: 5.66s\tremaining: 2.71s\n",
      "676:\tlearn: 0.2265674\ttotal: 5.66s\tremaining: 2.7s\n",
      "677:\tlearn: 0.2265378\ttotal: 5.67s\tremaining: 2.69s\n",
      "678:\tlearn: 0.2264757\ttotal: 5.67s\tremaining: 2.68s\n",
      "679:\tlearn: 0.2264251\ttotal: 5.68s\tremaining: 2.67s\n",
      "680:\tlearn: 0.2263295\ttotal: 5.68s\tremaining: 2.66s\n",
      "681:\tlearn: 0.2262683\ttotal: 5.69s\tremaining: 2.65s\n",
      "682:\tlearn: 0.2262482\ttotal: 5.69s\tremaining: 2.64s\n",
      "683:\tlearn: 0.2261829\ttotal: 5.7s\tremaining: 2.63s\n",
      "684:\tlearn: 0.2261387\ttotal: 5.71s\tremaining: 2.62s\n",
      "685:\tlearn: 0.2259670\ttotal: 5.71s\tremaining: 2.61s\n",
      "686:\tlearn: 0.2259503\ttotal: 5.72s\tremaining: 2.6s\n",
      "687:\tlearn: 0.2259039\ttotal: 5.72s\tremaining: 2.59s\n",
      "688:\tlearn: 0.2257509\ttotal: 5.73s\tremaining: 2.58s\n",
      "689:\tlearn: 0.2255979\ttotal: 5.73s\tremaining: 2.58s\n",
      "690:\tlearn: 0.2255774\ttotal: 5.74s\tremaining: 2.57s\n",
      "691:\tlearn: 0.2254842\ttotal: 5.75s\tremaining: 2.56s\n",
      "692:\tlearn: 0.2254177\ttotal: 5.75s\tremaining: 2.55s\n",
      "693:\tlearn: 0.2253625\ttotal: 5.76s\tremaining: 2.54s\n",
      "694:\tlearn: 0.2252833\ttotal: 5.76s\tremaining: 2.53s\n",
      "695:\tlearn: 0.2252153\ttotal: 5.77s\tremaining: 2.52s\n"
     ]
    },
    {
     "name": "stdout",
     "output_type": "stream",
     "text": [
      "696:\tlearn: 0.2251760\ttotal: 5.78s\tremaining: 2.51s\n",
      "697:\tlearn: 0.2251153\ttotal: 5.78s\tremaining: 2.5s\n",
      "698:\tlearn: 0.2250223\ttotal: 5.79s\tremaining: 2.49s\n",
      "699:\tlearn: 0.2249704\ttotal: 5.79s\tremaining: 2.48s\n",
      "700:\tlearn: 0.2248782\ttotal: 5.8s\tremaining: 2.47s\n",
      "701:\tlearn: 0.2247906\ttotal: 5.8s\tremaining: 2.46s\n",
      "702:\tlearn: 0.2247364\ttotal: 5.81s\tremaining: 2.46s\n",
      "703:\tlearn: 0.2246602\ttotal: 5.82s\tremaining: 2.45s\n",
      "704:\tlearn: 0.2245581\ttotal: 5.83s\tremaining: 2.44s\n",
      "705:\tlearn: 0.2245004\ttotal: 5.83s\tremaining: 2.43s\n",
      "706:\tlearn: 0.2244422\ttotal: 5.84s\tremaining: 2.42s\n",
      "707:\tlearn: 0.2243540\ttotal: 5.85s\tremaining: 2.41s\n",
      "708:\tlearn: 0.2242161\ttotal: 5.86s\tremaining: 2.4s\n",
      "709:\tlearn: 0.2241012\ttotal: 5.86s\tremaining: 2.39s\n",
      "710:\tlearn: 0.2240530\ttotal: 5.87s\tremaining: 2.38s\n",
      "711:\tlearn: 0.2239443\ttotal: 5.87s\tremaining: 2.38s\n",
      "712:\tlearn: 0.2238533\ttotal: 5.88s\tremaining: 2.37s\n",
      "713:\tlearn: 0.2238048\ttotal: 5.89s\tremaining: 2.36s\n",
      "714:\tlearn: 0.2237475\ttotal: 5.9s\tremaining: 2.35s\n",
      "715:\tlearn: 0.2236798\ttotal: 5.91s\tremaining: 2.34s\n",
      "716:\tlearn: 0.2236193\ttotal: 5.91s\tremaining: 2.33s\n",
      "717:\tlearn: 0.2235375\ttotal: 5.92s\tremaining: 2.33s\n",
      "718:\tlearn: 0.2234775\ttotal: 5.93s\tremaining: 2.32s\n",
      "719:\tlearn: 0.2233691\ttotal: 5.94s\tremaining: 2.31s\n",
      "720:\tlearn: 0.2233061\ttotal: 5.94s\tremaining: 2.3s\n",
      "721:\tlearn: 0.2232207\ttotal: 5.95s\tremaining: 2.29s\n",
      "722:\tlearn: 0.2231250\ttotal: 5.96s\tremaining: 2.28s\n",
      "723:\tlearn: 0.2230851\ttotal: 5.96s\tremaining: 2.27s\n",
      "724:\tlearn: 0.2229902\ttotal: 5.97s\tremaining: 2.26s\n",
      "725:\tlearn: 0.2229079\ttotal: 5.97s\tremaining: 2.25s\n",
      "726:\tlearn: 0.2227919\ttotal: 5.98s\tremaining: 2.25s\n",
      "727:\tlearn: 0.2227087\ttotal: 5.99s\tremaining: 2.24s\n",
      "728:\tlearn: 0.2226359\ttotal: 5.99s\tremaining: 2.23s\n",
      "729:\tlearn: 0.2225151\ttotal: 6s\tremaining: 2.22s\n",
      "730:\tlearn: 0.2224489\ttotal: 6.01s\tremaining: 2.21s\n",
      "731:\tlearn: 0.2223793\ttotal: 6.01s\tremaining: 2.2s\n",
      "732:\tlearn: 0.2223240\ttotal: 6.02s\tremaining: 2.19s\n",
      "733:\tlearn: 0.2222842\ttotal: 6.03s\tremaining: 2.19s\n",
      "734:\tlearn: 0.2222126\ttotal: 6.04s\tremaining: 2.18s\n",
      "735:\tlearn: 0.2221344\ttotal: 6.04s\tremaining: 2.17s\n",
      "736:\tlearn: 0.2221022\ttotal: 6.05s\tremaining: 2.16s\n",
      "737:\tlearn: 0.2220560\ttotal: 6.05s\tremaining: 2.15s\n",
      "738:\tlearn: 0.2219780\ttotal: 6.06s\tremaining: 2.14s\n",
      "739:\tlearn: 0.2219331\ttotal: 6.06s\tremaining: 2.13s\n",
      "740:\tlearn: 0.2218976\ttotal: 6.07s\tremaining: 2.12s\n",
      "741:\tlearn: 0.2218685\ttotal: 6.08s\tremaining: 2.11s\n",
      "742:\tlearn: 0.2217851\ttotal: 6.08s\tremaining: 2.1s\n",
      "743:\tlearn: 0.2217110\ttotal: 6.09s\tremaining: 2.09s\n",
      "744:\tlearn: 0.2216576\ttotal: 6.09s\tremaining: 2.08s\n",
      "745:\tlearn: 0.2215916\ttotal: 6.1s\tremaining: 2.08s\n",
      "746:\tlearn: 0.2215627\ttotal: 6.1s\tremaining: 2.07s\n",
      "747:\tlearn: 0.2215000\ttotal: 6.11s\tremaining: 2.06s\n",
      "748:\tlearn: 0.2214735\ttotal: 6.12s\tremaining: 2.05s\n",
      "749:\tlearn: 0.2214165\ttotal: 6.12s\tremaining: 2.04s\n",
      "750:\tlearn: 0.2213631\ttotal: 6.13s\tremaining: 2.03s\n",
      "751:\tlearn: 0.2212534\ttotal: 6.13s\tremaining: 2.02s\n",
      "752:\tlearn: 0.2211299\ttotal: 6.14s\tremaining: 2.01s\n",
      "753:\tlearn: 0.2210071\ttotal: 6.14s\tremaining: 2s\n",
      "754:\tlearn: 0.2209467\ttotal: 6.15s\tremaining: 2s\n",
      "755:\tlearn: 0.2208979\ttotal: 6.16s\tremaining: 1.99s\n",
      "756:\tlearn: 0.2208163\ttotal: 6.16s\tremaining: 1.98s\n",
      "757:\tlearn: 0.2207584\ttotal: 6.17s\tremaining: 1.97s\n",
      "758:\tlearn: 0.2206850\ttotal: 6.17s\tremaining: 1.96s\n",
      "759:\tlearn: 0.2206245\ttotal: 6.18s\tremaining: 1.95s\n",
      "760:\tlearn: 0.2205208\ttotal: 6.18s\tremaining: 1.94s\n",
      "761:\tlearn: 0.2204703\ttotal: 6.19s\tremaining: 1.93s\n",
      "762:\tlearn: 0.2204140\ttotal: 6.2s\tremaining: 1.92s\n",
      "763:\tlearn: 0.2203742\ttotal: 6.2s\tremaining: 1.92s\n",
      "764:\tlearn: 0.2203418\ttotal: 6.21s\tremaining: 1.91s\n",
      "765:\tlearn: 0.2203081\ttotal: 6.21s\tremaining: 1.9s\n",
      "766:\tlearn: 0.2202290\ttotal: 6.22s\tremaining: 1.89s\n",
      "767:\tlearn: 0.2201894\ttotal: 6.22s\tremaining: 1.88s\n",
      "768:\tlearn: 0.2199952\ttotal: 6.23s\tremaining: 1.87s\n",
      "769:\tlearn: 0.2199322\ttotal: 6.24s\tremaining: 1.86s\n",
      "770:\tlearn: 0.2198118\ttotal: 6.24s\tremaining: 1.85s\n",
      "771:\tlearn: 0.2197439\ttotal: 6.25s\tremaining: 1.84s\n",
      "772:\tlearn: 0.2196773\ttotal: 6.25s\tremaining: 1.84s\n",
      "773:\tlearn: 0.2196152\ttotal: 6.26s\tremaining: 1.83s\n",
      "774:\tlearn: 0.2195510\ttotal: 6.27s\tremaining: 1.82s\n",
      "775:\tlearn: 0.2194906\ttotal: 6.27s\tremaining: 1.81s\n",
      "776:\tlearn: 0.2194518\ttotal: 6.28s\tremaining: 1.8s\n",
      "777:\tlearn: 0.2193870\ttotal: 6.28s\tremaining: 1.79s\n",
      "778:\tlearn: 0.2192694\ttotal: 6.29s\tremaining: 1.78s\n",
      "779:\tlearn: 0.2192307\ttotal: 6.3s\tremaining: 1.77s\n",
      "780:\tlearn: 0.2191807\ttotal: 6.3s\tremaining: 1.77s\n",
      "781:\tlearn: 0.2190585\ttotal: 6.31s\tremaining: 1.76s\n",
      "782:\tlearn: 0.2190013\ttotal: 6.32s\tremaining: 1.75s\n",
      "783:\tlearn: 0.2189723\ttotal: 6.32s\tremaining: 1.74s\n",
      "784:\tlearn: 0.2188630\ttotal: 6.33s\tremaining: 1.73s\n",
      "785:\tlearn: 0.2187923\ttotal: 6.34s\tremaining: 1.73s\n",
      "786:\tlearn: 0.2187472\ttotal: 6.35s\tremaining: 1.72s\n",
      "787:\tlearn: 0.2186753\ttotal: 6.35s\tremaining: 1.71s\n",
      "788:\tlearn: 0.2186445\ttotal: 6.36s\tremaining: 1.7s\n",
      "789:\tlearn: 0.2186147\ttotal: 6.37s\tremaining: 1.69s\n",
      "790:\tlearn: 0.2185532\ttotal: 6.37s\tremaining: 1.68s\n",
      "791:\tlearn: 0.2184914\ttotal: 6.38s\tremaining: 1.68s\n",
      "792:\tlearn: 0.2184516\ttotal: 6.39s\tremaining: 1.67s\n",
      "793:\tlearn: 0.2183820\ttotal: 6.4s\tremaining: 1.66s\n",
      "794:\tlearn: 0.2183449\ttotal: 6.41s\tremaining: 1.65s\n",
      "795:\tlearn: 0.2182964\ttotal: 6.41s\tremaining: 1.64s\n",
      "796:\tlearn: 0.2182113\ttotal: 6.42s\tremaining: 1.64s\n",
      "797:\tlearn: 0.2181428\ttotal: 6.43s\tremaining: 1.63s\n",
      "798:\tlearn: 0.2180899\ttotal: 6.43s\tremaining: 1.62s\n",
      "799:\tlearn: 0.2180518\ttotal: 6.44s\tremaining: 1.61s\n",
      "800:\tlearn: 0.2178986\ttotal: 6.45s\tremaining: 1.6s\n",
      "801:\tlearn: 0.2177955\ttotal: 6.45s\tremaining: 1.59s\n",
      "802:\tlearn: 0.2177466\ttotal: 6.46s\tremaining: 1.58s\n",
      "803:\tlearn: 0.2177094\ttotal: 6.46s\tremaining: 1.58s\n",
      "804:\tlearn: 0.2176501\ttotal: 6.47s\tremaining: 1.57s\n",
      "805:\tlearn: 0.2175519\ttotal: 6.48s\tremaining: 1.56s\n",
      "806:\tlearn: 0.2175055\ttotal: 6.49s\tremaining: 1.55s\n",
      "807:\tlearn: 0.2174519\ttotal: 6.49s\tremaining: 1.54s\n",
      "808:\tlearn: 0.2174059\ttotal: 6.5s\tremaining: 1.53s\n",
      "809:\tlearn: 0.2173493\ttotal: 6.51s\tremaining: 1.53s\n",
      "810:\tlearn: 0.2173022\ttotal: 6.51s\tremaining: 1.52s\n",
      "811:\tlearn: 0.2172610\ttotal: 6.52s\tremaining: 1.51s\n",
      "812:\tlearn: 0.2171673\ttotal: 6.53s\tremaining: 1.5s\n",
      "813:\tlearn: 0.2171352\ttotal: 6.53s\tremaining: 1.49s\n",
      "814:\tlearn: 0.2170948\ttotal: 6.54s\tremaining: 1.48s\n",
      "815:\tlearn: 0.2170459\ttotal: 6.54s\tremaining: 1.48s\n",
      "816:\tlearn: 0.2169965\ttotal: 6.55s\tremaining: 1.47s\n",
      "817:\tlearn: 0.2169514\ttotal: 6.56s\tremaining: 1.46s\n",
      "818:\tlearn: 0.2169051\ttotal: 6.56s\tremaining: 1.45s\n",
      "819:\tlearn: 0.2168442\ttotal: 6.57s\tremaining: 1.44s\n",
      "820:\tlearn: 0.2167870\ttotal: 6.57s\tremaining: 1.43s\n",
      "821:\tlearn: 0.2167429\ttotal: 6.58s\tremaining: 1.42s\n",
      "822:\tlearn: 0.2166680\ttotal: 6.58s\tremaining: 1.42s\n",
      "823:\tlearn: 0.2166325\ttotal: 6.59s\tremaining: 1.41s\n",
      "824:\tlearn: 0.2165954\ttotal: 6.59s\tremaining: 1.4s\n",
      "825:\tlearn: 0.2165520\ttotal: 6.6s\tremaining: 1.39s\n",
      "826:\tlearn: 0.2165103\ttotal: 6.61s\tremaining: 1.38s\n",
      "827:\tlearn: 0.2164670\ttotal: 6.61s\tremaining: 1.37s\n",
      "828:\tlearn: 0.2164253\ttotal: 6.62s\tremaining: 1.36s\n",
      "829:\tlearn: 0.2163769\ttotal: 6.62s\tremaining: 1.36s\n",
      "830:\tlearn: 0.2163086\ttotal: 6.63s\tremaining: 1.35s\n",
      "831:\tlearn: 0.2162521\ttotal: 6.64s\tremaining: 1.34s\n",
      "832:\tlearn: 0.2161978\ttotal: 6.64s\tremaining: 1.33s\n",
      "833:\tlearn: 0.2161181\ttotal: 6.65s\tremaining: 1.32s\n",
      "834:\tlearn: 0.2160546\ttotal: 6.65s\tremaining: 1.31s\n",
      "835:\tlearn: 0.2159979\ttotal: 6.66s\tremaining: 1.31s\n",
      "836:\tlearn: 0.2159512\ttotal: 6.66s\tremaining: 1.3s\n",
      "837:\tlearn: 0.2157780\ttotal: 6.67s\tremaining: 1.29s\n",
      "838:\tlearn: 0.2157478\ttotal: 6.67s\tremaining: 1.28s\n",
      "839:\tlearn: 0.2157098\ttotal: 6.68s\tremaining: 1.27s\n",
      "840:\tlearn: 0.2155870\ttotal: 6.69s\tremaining: 1.26s\n",
      "841:\tlearn: 0.2154973\ttotal: 6.69s\tremaining: 1.25s\n",
      "842:\tlearn: 0.2154388\ttotal: 6.7s\tremaining: 1.25s\n",
      "843:\tlearn: 0.2153855\ttotal: 6.7s\tremaining: 1.24s\n",
      "844:\tlearn: 0.2153355\ttotal: 6.71s\tremaining: 1.23s\n",
      "845:\tlearn: 0.2153113\ttotal: 6.72s\tremaining: 1.22s\n",
      "846:\tlearn: 0.2152508\ttotal: 6.72s\tremaining: 1.21s\n",
      "847:\tlearn: 0.2152104\ttotal: 6.73s\tremaining: 1.21s\n",
      "848:\tlearn: 0.2151697\ttotal: 6.73s\tremaining: 1.2s\n",
      "849:\tlearn: 0.2151282\ttotal: 6.74s\tremaining: 1.19s\n",
      "850:\tlearn: 0.2150788\ttotal: 6.75s\tremaining: 1.18s\n",
      "851:\tlearn: 0.2150287\ttotal: 6.75s\tremaining: 1.17s\n",
      "852:\tlearn: 0.2149683\ttotal: 6.76s\tremaining: 1.16s\n",
      "853:\tlearn: 0.2149319\ttotal: 6.76s\tremaining: 1.16s\n",
      "854:\tlearn: 0.2148789\ttotal: 6.77s\tremaining: 1.15s\n",
      "855:\tlearn: 0.2148210\ttotal: 6.77s\tremaining: 1.14s\n",
      "856:\tlearn: 0.2147620\ttotal: 6.78s\tremaining: 1.13s\n",
      "857:\tlearn: 0.2147301\ttotal: 6.79s\tremaining: 1.12s\n",
      "858:\tlearn: 0.2146917\ttotal: 6.79s\tremaining: 1.11s\n",
      "859:\tlearn: 0.2145203\ttotal: 6.8s\tremaining: 1.11s\n",
      "860:\tlearn: 0.2144683\ttotal: 6.81s\tremaining: 1.1s\n",
      "861:\tlearn: 0.2144037\ttotal: 6.82s\tremaining: 1.09s\n",
      "862:\tlearn: 0.2143618\ttotal: 6.83s\tremaining: 1.08s\n",
      "863:\tlearn: 0.2142390\ttotal: 6.84s\tremaining: 1.08s\n",
      "864:\tlearn: 0.2141939\ttotal: 6.84s\tremaining: 1.07s\n",
      "865:\tlearn: 0.2141241\ttotal: 6.85s\tremaining: 1.06s\n",
      "866:\tlearn: 0.2140585\ttotal: 6.86s\tremaining: 1.05s\n",
      "867:\tlearn: 0.2140035\ttotal: 6.87s\tremaining: 1.04s\n",
      "868:\tlearn: 0.2139830\ttotal: 6.88s\tremaining: 1.04s\n",
      "869:\tlearn: 0.2139262\ttotal: 6.88s\tremaining: 1.03s\n",
      "870:\tlearn: 0.2138686\ttotal: 6.89s\tremaining: 1.02s\n"
     ]
    },
    {
     "name": "stdout",
     "output_type": "stream",
     "text": [
      "871:\tlearn: 0.2138363\ttotal: 6.9s\tremaining: 1.01s\n",
      "872:\tlearn: 0.2137893\ttotal: 6.91s\tremaining: 1s\n",
      "873:\tlearn: 0.2137170\ttotal: 6.92s\tremaining: 998ms\n",
      "874:\tlearn: 0.2136793\ttotal: 6.93s\tremaining: 990ms\n",
      "875:\tlearn: 0.2136468\ttotal: 6.93s\tremaining: 981ms\n",
      "876:\tlearn: 0.2136055\ttotal: 6.94s\tremaining: 973ms\n",
      "877:\tlearn: 0.2134729\ttotal: 6.95s\tremaining: 965ms\n",
      "878:\tlearn: 0.2134177\ttotal: 6.95s\tremaining: 957ms\n",
      "879:\tlearn: 0.2133395\ttotal: 6.96s\tremaining: 949ms\n",
      "880:\tlearn: 0.2132863\ttotal: 6.96s\tremaining: 940ms\n",
      "881:\tlearn: 0.2132520\ttotal: 6.97s\tremaining: 933ms\n",
      "882:\tlearn: 0.2131638\ttotal: 6.98s\tremaining: 925ms\n",
      "883:\tlearn: 0.2131235\ttotal: 6.99s\tremaining: 917ms\n",
      "884:\tlearn: 0.2130549\ttotal: 7s\tremaining: 909ms\n",
      "885:\tlearn: 0.2129938\ttotal: 7s\tremaining: 901ms\n",
      "886:\tlearn: 0.2129562\ttotal: 7.01s\tremaining: 893ms\n",
      "887:\tlearn: 0.2128926\ttotal: 7.02s\tremaining: 886ms\n",
      "888:\tlearn: 0.2128269\ttotal: 7.04s\tremaining: 879ms\n",
      "889:\tlearn: 0.2127737\ttotal: 7.05s\tremaining: 872ms\n",
      "890:\tlearn: 0.2126848\ttotal: 7.06s\tremaining: 864ms\n",
      "891:\tlearn: 0.2126450\ttotal: 7.07s\tremaining: 856ms\n",
      "892:\tlearn: 0.2125686\ttotal: 7.07s\tremaining: 848ms\n",
      "893:\tlearn: 0.2125274\ttotal: 7.08s\tremaining: 840ms\n",
      "894:\tlearn: 0.2124822\ttotal: 7.09s\tremaining: 831ms\n",
      "895:\tlearn: 0.2124232\ttotal: 7.09s\tremaining: 823ms\n",
      "896:\tlearn: 0.2123755\ttotal: 7.1s\tremaining: 815ms\n",
      "897:\tlearn: 0.2123097\ttotal: 7.1s\tremaining: 807ms\n",
      "898:\tlearn: 0.2122489\ttotal: 7.11s\tremaining: 799ms\n",
      "899:\tlearn: 0.2121744\ttotal: 7.12s\tremaining: 791ms\n",
      "900:\tlearn: 0.2121296\ttotal: 7.12s\tremaining: 783ms\n",
      "901:\tlearn: 0.2120405\ttotal: 7.13s\tremaining: 774ms\n",
      "902:\tlearn: 0.2119667\ttotal: 7.13s\tremaining: 766ms\n",
      "903:\tlearn: 0.2119320\ttotal: 7.14s\tremaining: 758ms\n",
      "904:\tlearn: 0.2118816\ttotal: 7.14s\tremaining: 750ms\n",
      "905:\tlearn: 0.2118318\ttotal: 7.15s\tremaining: 742ms\n",
      "906:\tlearn: 0.2117749\ttotal: 7.16s\tremaining: 734ms\n",
      "907:\tlearn: 0.2117159\ttotal: 7.16s\tremaining: 726ms\n",
      "908:\tlearn: 0.2116659\ttotal: 7.17s\tremaining: 718ms\n",
      "909:\tlearn: 0.2116388\ttotal: 7.17s\tremaining: 710ms\n",
      "910:\tlearn: 0.2115974\ttotal: 7.18s\tremaining: 701ms\n",
      "911:\tlearn: 0.2115543\ttotal: 7.18s\tremaining: 693ms\n",
      "912:\tlearn: 0.2114859\ttotal: 7.19s\tremaining: 685ms\n",
      "913:\tlearn: 0.2114547\ttotal: 7.2s\tremaining: 677ms\n",
      "914:\tlearn: 0.2114155\ttotal: 7.2s\tremaining: 669ms\n",
      "915:\tlearn: 0.2113812\ttotal: 7.21s\tremaining: 661ms\n",
      "916:\tlearn: 0.2113554\ttotal: 7.21s\tremaining: 653ms\n",
      "917:\tlearn: 0.2112761\ttotal: 7.22s\tremaining: 645ms\n",
      "918:\tlearn: 0.2112241\ttotal: 7.22s\tremaining: 637ms\n",
      "919:\tlearn: 0.2111925\ttotal: 7.23s\tremaining: 629ms\n",
      "920:\tlearn: 0.2111101\ttotal: 7.24s\tremaining: 621ms\n",
      "921:\tlearn: 0.2110502\ttotal: 7.24s\tremaining: 613ms\n",
      "922:\tlearn: 0.2110141\ttotal: 7.25s\tremaining: 605ms\n",
      "923:\tlearn: 0.2109312\ttotal: 7.25s\tremaining: 597ms\n",
      "924:\tlearn: 0.2109029\ttotal: 7.26s\tremaining: 589ms\n",
      "925:\tlearn: 0.2108756\ttotal: 7.28s\tremaining: 582ms\n",
      "926:\tlearn: 0.2108413\ttotal: 7.3s\tremaining: 575ms\n",
      "927:\tlearn: 0.2108242\ttotal: 7.32s\tremaining: 568ms\n",
      "928:\tlearn: 0.2107896\ttotal: 7.33s\tremaining: 560ms\n",
      "929:\tlearn: 0.2107229\ttotal: 7.35s\tremaining: 553ms\n",
      "930:\tlearn: 0.2106590\ttotal: 7.37s\tremaining: 546ms\n",
      "931:\tlearn: 0.2106119\ttotal: 7.38s\tremaining: 539ms\n",
      "932:\tlearn: 0.2105337\ttotal: 7.39s\tremaining: 531ms\n",
      "933:\tlearn: 0.2105003\ttotal: 7.4s\tremaining: 523ms\n",
      "934:\tlearn: 0.2104709\ttotal: 7.41s\tremaining: 515ms\n",
      "935:\tlearn: 0.2103587\ttotal: 7.42s\tremaining: 507ms\n",
      "936:\tlearn: 0.2103185\ttotal: 7.43s\tremaining: 500ms\n",
      "937:\tlearn: 0.2102436\ttotal: 7.44s\tremaining: 492ms\n",
      "938:\tlearn: 0.2102005\ttotal: 7.45s\tremaining: 484ms\n",
      "939:\tlearn: 0.2101536\ttotal: 7.47s\tremaining: 477ms\n",
      "940:\tlearn: 0.2101024\ttotal: 7.48s\tremaining: 469ms\n",
      "941:\tlearn: 0.2100414\ttotal: 7.5s\tremaining: 462ms\n",
      "942:\tlearn: 0.2099892\ttotal: 7.52s\tremaining: 454ms\n",
      "943:\tlearn: 0.2099572\ttotal: 7.53s\tremaining: 447ms\n",
      "944:\tlearn: 0.2099195\ttotal: 7.54s\tremaining: 439ms\n",
      "945:\tlearn: 0.2098797\ttotal: 7.55s\tremaining: 431ms\n",
      "946:\tlearn: 0.2098327\ttotal: 7.57s\tremaining: 423ms\n",
      "947:\tlearn: 0.2097751\ttotal: 7.58s\tremaining: 416ms\n",
      "948:\tlearn: 0.2097244\ttotal: 7.58s\tremaining: 408ms\n",
      "949:\tlearn: 0.2096588\ttotal: 7.59s\tremaining: 400ms\n",
      "950:\tlearn: 0.2096345\ttotal: 7.6s\tremaining: 392ms\n",
      "951:\tlearn: 0.2096017\ttotal: 7.61s\tremaining: 384ms\n",
      "952:\tlearn: 0.2095364\ttotal: 7.62s\tremaining: 376ms\n",
      "953:\tlearn: 0.2095135\ttotal: 7.63s\tremaining: 368ms\n",
      "954:\tlearn: 0.2094653\ttotal: 7.64s\tremaining: 360ms\n",
      "955:\tlearn: 0.2093964\ttotal: 7.65s\tremaining: 352ms\n",
      "956:\tlearn: 0.2093772\ttotal: 7.66s\tremaining: 344ms\n",
      "957:\tlearn: 0.2092868\ttotal: 7.67s\tremaining: 336ms\n",
      "958:\tlearn: 0.2092292\ttotal: 7.68s\tremaining: 328ms\n",
      "959:\tlearn: 0.2091415\ttotal: 7.69s\tremaining: 320ms\n",
      "960:\tlearn: 0.2090946\ttotal: 7.7s\tremaining: 312ms\n",
      "961:\tlearn: 0.2090334\ttotal: 7.71s\tremaining: 304ms\n",
      "962:\tlearn: 0.2089770\ttotal: 7.72s\tremaining: 296ms\n",
      "963:\tlearn: 0.2089501\ttotal: 7.72s\tremaining: 288ms\n",
      "964:\tlearn: 0.2089295\ttotal: 7.73s\tremaining: 280ms\n",
      "965:\tlearn: 0.2088756\ttotal: 7.73s\tremaining: 272ms\n",
      "966:\tlearn: 0.2088516\ttotal: 7.74s\tremaining: 264ms\n",
      "967:\tlearn: 0.2087954\ttotal: 7.75s\tremaining: 256ms\n",
      "968:\tlearn: 0.2087228\ttotal: 7.76s\tremaining: 248ms\n",
      "969:\tlearn: 0.2086912\ttotal: 7.76s\tremaining: 240ms\n",
      "970:\tlearn: 0.2086352\ttotal: 7.77s\tremaining: 232ms\n",
      "971:\tlearn: 0.2086064\ttotal: 7.78s\tremaining: 224ms\n",
      "972:\tlearn: 0.2085461\ttotal: 7.78s\tremaining: 216ms\n",
      "973:\tlearn: 0.2085029\ttotal: 7.79s\tremaining: 208ms\n",
      "974:\tlearn: 0.2084541\ttotal: 7.8s\tremaining: 200ms\n",
      "975:\tlearn: 0.2083496\ttotal: 7.8s\tremaining: 192ms\n",
      "976:\tlearn: 0.2083160\ttotal: 7.81s\tremaining: 184ms\n",
      "977:\tlearn: 0.2082992\ttotal: 7.82s\tremaining: 176ms\n",
      "978:\tlearn: 0.2082563\ttotal: 7.83s\tremaining: 168ms\n",
      "979:\tlearn: 0.2082330\ttotal: 7.83s\tremaining: 160ms\n",
      "980:\tlearn: 0.2081602\ttotal: 7.84s\tremaining: 152ms\n",
      "981:\tlearn: 0.2081096\ttotal: 7.85s\tremaining: 144ms\n",
      "982:\tlearn: 0.2080595\ttotal: 7.86s\tremaining: 136ms\n",
      "983:\tlearn: 0.2079866\ttotal: 7.86s\tremaining: 128ms\n",
      "984:\tlearn: 0.2079472\ttotal: 7.87s\tremaining: 120ms\n",
      "985:\tlearn: 0.2079102\ttotal: 7.88s\tremaining: 112ms\n",
      "986:\tlearn: 0.2078821\ttotal: 7.88s\tremaining: 104ms\n",
      "987:\tlearn: 0.2078530\ttotal: 7.89s\tremaining: 95.9ms\n",
      "988:\tlearn: 0.2078176\ttotal: 7.9s\tremaining: 87.9ms\n",
      "989:\tlearn: 0.2078032\ttotal: 7.91s\tremaining: 79.9ms\n",
      "990:\tlearn: 0.2077419\ttotal: 7.91s\tremaining: 71.9ms\n",
      "991:\tlearn: 0.2076900\ttotal: 7.92s\tremaining: 63.9ms\n",
      "992:\tlearn: 0.2076620\ttotal: 7.92s\tremaining: 55.9ms\n",
      "993:\tlearn: 0.2076260\ttotal: 7.93s\tremaining: 47.9ms\n",
      "994:\tlearn: 0.2075613\ttotal: 7.94s\tremaining: 39.9ms\n",
      "995:\tlearn: 0.2074985\ttotal: 7.94s\tremaining: 31.9ms\n",
      "996:\tlearn: 0.2074756\ttotal: 7.95s\tremaining: 23.9ms\n",
      "997:\tlearn: 0.2074225\ttotal: 7.95s\tremaining: 15.9ms\n",
      "998:\tlearn: 0.2073796\ttotal: 7.96s\tremaining: 7.97ms\n",
      "999:\tlearn: 0.2073274\ttotal: 7.97s\tremaining: 0us\n"
     ]
    }
   ],
   "source": [
    "%%capture\n",
    "model = CatBoostRegressor()\n",
    "model.fit(x_train_21, y_train_21)"
   ]
  },
  {
   "cell_type": "code",
   "execution_count": 109,
   "id": "2541db2b",
   "metadata": {},
   "outputs": [
    {
     "name": "stdout",
     "output_type": "stream",
     "text": [
      "MSE for CatBoost 2021 is: 0.11061525849411423\n"
     ]
    }
   ],
   "source": [
    "y_pred_21 = model.predict(x_test_21)\n",
    "# Calculation of Mean Squared Error (MSE)\n",
    "mse = mean_squared_error(y_test_21, y_pred_21)\n",
    "print('MSE for CatBoost 2021 is: ' + str(mse))"
   ]
  },
  {
   "cell_type": "code",
   "execution_count": 110,
   "id": "745d9507",
   "metadata": {},
   "outputs": [
    {
     "name": "stdout",
     "output_type": "stream",
     "text": [
      "Accuracy of properties at +- 10% of actual prices is 0.36304661220567036\n"
     ]
    }
   ],
   "source": [
    "acc = accuracy_threshold(y_test_21, y_pred_21, 0.1)\n",
    "print('Accuracy of properties at +- 10% of actual prices is ' + str(acc))"
   ]
  },
  {
   "cell_type": "code",
   "execution_count": 111,
   "id": "99227aa2",
   "metadata": {},
   "outputs": [
    {
     "name": "stdout",
     "output_type": "stream",
     "text": [
      "Median Absolute Error:\n",
      "\n",
      "0.14761660435404475\n"
     ]
    }
   ],
   "source": [
    "median_se = np.square(np.subtract(y_test_21, y_pred_21)).median() \n",
    " \n",
    "med = math.sqrt(median_se)\n",
    "print(\"Median Absolute Error:\\n\")\n",
    "print(med)"
   ]
  },
  {
   "cell_type": "code",
   "execution_count": 112,
   "id": "f51d9a36",
   "metadata": {},
   "outputs": [
    {
     "name": "stdout",
     "output_type": "stream",
     "text": [
      "Root Mean Square Error:\n",
      "\n",
      "0.33258872274043594\n"
     ]
    }
   ],
   "source": [
    "mean = np.square(np.subtract(y_test_21, y_pred_21)).mean() \n",
    " \n",
    "mean = math.sqrt(mean)\n",
    "print(\"Root Mean Square Error:\\n\")\n",
    "print(mean)"
   ]
  },
  {
   "cell_type": "code",
   "execution_count": 113,
   "id": "6cf9500d",
   "metadata": {},
   "outputs": [
    {
     "name": "stdout",
     "output_type": "stream",
     "text": [
      "MAPE for CatBoost 2021 is: 0.01710188569881227\n"
     ]
    }
   ],
   "source": [
    "mape = mean_absolute_percentage_error(y_test_21, y_pred_21)\n",
    "print(\"MAPE for CatBoost 2021 is: \" + str(mape))"
   ]
  },
  {
   "cell_type": "code",
   "execution_count": 114,
   "id": "e9b65a1c",
   "metadata": {},
   "outputs": [],
   "source": [
    "cnames=['Algorithm', 'Year', 'RMSE', 'MSE', 'MEDAE', 'Accuracy', 'MAPE']\n",
    "df3 = pd.DataFrame(columns=cnames)\n",
    "\n",
    "df3 = df3.append({'Algorithm': 'CatBoost',\n",
    "            'Year': 2021,\n",
    "           'RMSE': mean,\n",
    "           'MSE': mse,\n",
    "           'MEDAE': med,\n",
    "           'Accuracy': acc,\n",
    "           'MAPE': mape       \n",
    "          }, ignore_index=True)"
   ]
  },
  {
   "cell_type": "markdown",
   "id": "f395f049",
   "metadata": {},
   "source": [
    "#### 2020"
   ]
  },
  {
   "cell_type": "code",
   "execution_count": 115,
   "id": "3efced64",
   "metadata": {},
   "outputs": [
    {
     "name": "stdout",
     "output_type": "stream",
     "text": [
      "Learning rate set to 0.065288\n",
      "0:\tlearn: 0.5701949\ttotal: 6.38ms\tremaining: 6.37s\n",
      "1:\tlearn: 0.5512767\ttotal: 12.4ms\tremaining: 6.19s\n",
      "2:\tlearn: 0.5347131\ttotal: 18.4ms\tremaining: 6.13s\n",
      "3:\tlearn: 0.5193758\ttotal: 24.2ms\tremaining: 6.04s\n",
      "4:\tlearn: 0.5061351\ttotal: 31.3ms\tremaining: 6.22s\n",
      "5:\tlearn: 0.4935935\ttotal: 40.1ms\tremaining: 6.64s\n",
      "6:\tlearn: 0.4810446\ttotal: 47.7ms\tremaining: 6.76s\n",
      "7:\tlearn: 0.4700712\ttotal: 54ms\tremaining: 6.7s\n",
      "8:\tlearn: 0.4606310\ttotal: 61.8ms\tremaining: 6.81s\n",
      "9:\tlearn: 0.4510510\ttotal: 69.1ms\tremaining: 6.84s\n",
      "10:\tlearn: 0.4429035\ttotal: 76.6ms\tremaining: 6.88s\n",
      "11:\tlearn: 0.4351767\ttotal: 84.2ms\tremaining: 6.93s\n",
      "12:\tlearn: 0.4286369\ttotal: 91.4ms\tremaining: 6.94s\n",
      "13:\tlearn: 0.4223354\ttotal: 98.9ms\tremaining: 6.96s\n",
      "14:\tlearn: 0.4165749\ttotal: 108ms\tremaining: 7.11s\n",
      "15:\tlearn: 0.4105847\ttotal: 117ms\tremaining: 7.19s\n",
      "16:\tlearn: 0.4058645\ttotal: 124ms\tremaining: 7.17s\n",
      "17:\tlearn: 0.4016701\ttotal: 137ms\tremaining: 7.5s\n",
      "18:\tlearn: 0.3980706\ttotal: 146ms\tremaining: 7.51s\n",
      "19:\tlearn: 0.3944791\ttotal: 154ms\tremaining: 7.57s\n",
      "20:\tlearn: 0.3908404\ttotal: 164ms\tremaining: 7.62s\n",
      "21:\tlearn: 0.3872203\ttotal: 174ms\tremaining: 7.75s\n",
      "22:\tlearn: 0.3848306\ttotal: 184ms\tremaining: 7.8s\n",
      "23:\tlearn: 0.3820989\ttotal: 193ms\tremaining: 7.84s\n",
      "24:\tlearn: 0.3792608\ttotal: 201ms\tremaining: 7.85s\n",
      "25:\tlearn: 0.3772636\ttotal: 210ms\tremaining: 7.88s\n",
      "26:\tlearn: 0.3753176\ttotal: 219ms\tremaining: 7.89s\n",
      "27:\tlearn: 0.3736536\ttotal: 226ms\tremaining: 7.85s\n",
      "28:\tlearn: 0.3714569\ttotal: 232ms\tremaining: 7.78s\n",
      "29:\tlearn: 0.3696218\ttotal: 238ms\tremaining: 7.7s\n",
      "30:\tlearn: 0.3674839\ttotal: 245ms\tremaining: 7.66s\n",
      "31:\tlearn: 0.3660913\ttotal: 252ms\tremaining: 7.63s\n",
      "32:\tlearn: 0.3644103\ttotal: 262ms\tremaining: 7.68s\n",
      "33:\tlearn: 0.3635463\ttotal: 272ms\tremaining: 7.72s\n",
      "34:\tlearn: 0.3623267\ttotal: 281ms\tremaining: 7.75s\n",
      "35:\tlearn: 0.3612523\ttotal: 289ms\tremaining: 7.74s\n",
      "36:\tlearn: 0.3602745\ttotal: 295ms\tremaining: 7.67s\n",
      "37:\tlearn: 0.3577723\ttotal: 301ms\tremaining: 7.61s\n",
      "38:\tlearn: 0.3563924\ttotal: 308ms\tremaining: 7.59s\n",
      "39:\tlearn: 0.3551627\ttotal: 316ms\tremaining: 7.59s\n",
      "40:\tlearn: 0.3538745\ttotal: 322ms\tremaining: 7.53s\n",
      "41:\tlearn: 0.3527262\ttotal: 328ms\tremaining: 7.48s\n",
      "42:\tlearn: 0.3521332\ttotal: 334ms\tremaining: 7.42s\n",
      "43:\tlearn: 0.3511676\ttotal: 339ms\tremaining: 7.37s\n",
      "44:\tlearn: 0.3500104\ttotal: 345ms\tremaining: 7.32s\n",
      "45:\tlearn: 0.3492762\ttotal: 351ms\tremaining: 7.28s\n",
      "46:\tlearn: 0.3483950\ttotal: 358ms\tremaining: 7.26s\n",
      "47:\tlearn: 0.3472506\ttotal: 365ms\tremaining: 7.24s\n",
      "48:\tlearn: 0.3465644\ttotal: 373ms\tremaining: 7.24s\n",
      "49:\tlearn: 0.3448228\ttotal: 379ms\tremaining: 7.19s\n",
      "50:\tlearn: 0.3435676\ttotal: 384ms\tremaining: 7.15s\n",
      "51:\tlearn: 0.3429198\ttotal: 391ms\tremaining: 7.13s\n",
      "52:\tlearn: 0.3420603\ttotal: 398ms\tremaining: 7.12s\n",
      "53:\tlearn: 0.3412974\ttotal: 404ms\tremaining: 7.07s\n",
      "54:\tlearn: 0.3403355\ttotal: 409ms\tremaining: 7.03s\n",
      "55:\tlearn: 0.3395540\ttotal: 415ms\tremaining: 6.99s\n",
      "56:\tlearn: 0.3386319\ttotal: 420ms\tremaining: 6.96s\n",
      "57:\tlearn: 0.3382630\ttotal: 426ms\tremaining: 6.92s\n",
      "58:\tlearn: 0.3369554\ttotal: 432ms\tremaining: 6.89s\n",
      "59:\tlearn: 0.3363049\ttotal: 439ms\tremaining: 6.88s\n",
      "60:\tlearn: 0.3353103\ttotal: 447ms\tremaining: 6.88s\n",
      "61:\tlearn: 0.3345382\ttotal: 453ms\tremaining: 6.86s\n",
      "62:\tlearn: 0.3339694\ttotal: 460ms\tremaining: 6.85s\n",
      "63:\tlearn: 0.3332655\ttotal: 467ms\tremaining: 6.82s\n",
      "64:\tlearn: 0.3328733\ttotal: 472ms\tremaining: 6.79s\n",
      "65:\tlearn: 0.3318030\ttotal: 478ms\tremaining: 6.77s\n",
      "66:\tlearn: 0.3309019\ttotal: 484ms\tremaining: 6.74s\n",
      "67:\tlearn: 0.3305311\ttotal: 490ms\tremaining: 6.71s\n",
      "68:\tlearn: 0.3301022\ttotal: 496ms\tremaining: 6.69s\n",
      "69:\tlearn: 0.3295417\ttotal: 503ms\tremaining: 6.68s\n",
      "70:\tlearn: 0.3290689\ttotal: 510ms\tremaining: 6.67s\n",
      "71:\tlearn: 0.3286063\ttotal: 517ms\tremaining: 6.66s\n",
      "72:\tlearn: 0.3283087\ttotal: 523ms\tremaining: 6.64s\n",
      "73:\tlearn: 0.3278086\ttotal: 529ms\tremaining: 6.62s\n",
      "74:\tlearn: 0.3272924\ttotal: 536ms\tremaining: 6.61s\n",
      "75:\tlearn: 0.3269086\ttotal: 543ms\tremaining: 6.6s\n",
      "76:\tlearn: 0.3261078\ttotal: 550ms\tremaining: 6.59s\n",
      "77:\tlearn: 0.3254949\ttotal: 556ms\tremaining: 6.57s\n",
      "78:\tlearn: 0.3250693\ttotal: 561ms\tremaining: 6.54s\n",
      "79:\tlearn: 0.3242012\ttotal: 567ms\tremaining: 6.52s\n",
      "80:\tlearn: 0.3237007\ttotal: 573ms\tremaining: 6.5s\n",
      "81:\tlearn: 0.3235814\ttotal: 579ms\tremaining: 6.48s\n",
      "82:\tlearn: 0.3229992\ttotal: 588ms\tremaining: 6.49s\n",
      "83:\tlearn: 0.3220982\ttotal: 597ms\tremaining: 6.51s\n",
      "84:\tlearn: 0.3214750\ttotal: 605ms\tremaining: 6.51s\n",
      "85:\tlearn: 0.3213309\ttotal: 611ms\tremaining: 6.5s\n",
      "86:\tlearn: 0.3207689\ttotal: 620ms\tremaining: 6.51s\n",
      "87:\tlearn: 0.3203189\ttotal: 629ms\tremaining: 6.51s\n",
      "88:\tlearn: 0.3199803\ttotal: 636ms\tremaining: 6.51s\n",
      "89:\tlearn: 0.3195561\ttotal: 644ms\tremaining: 6.51s\n",
      "90:\tlearn: 0.3192168\ttotal: 651ms\tremaining: 6.5s\n",
      "91:\tlearn: 0.3188097\ttotal: 658ms\tremaining: 6.5s\n",
      "92:\tlearn: 0.3183046\ttotal: 667ms\tremaining: 6.51s\n",
      "93:\tlearn: 0.3181289\ttotal: 676ms\tremaining: 6.52s\n",
      "94:\tlearn: 0.3179011\ttotal: 683ms\tremaining: 6.51s\n",
      "95:\tlearn: 0.3175322\ttotal: 690ms\tremaining: 6.5s\n",
      "96:\tlearn: 0.3172309\ttotal: 698ms\tremaining: 6.5s\n",
      "97:\tlearn: 0.3167127\ttotal: 705ms\tremaining: 6.49s\n",
      "98:\tlearn: 0.3163486\ttotal: 713ms\tremaining: 6.49s\n",
      "99:\tlearn: 0.3159828\ttotal: 722ms\tremaining: 6.5s\n",
      "100:\tlearn: 0.3153222\ttotal: 731ms\tremaining: 6.51s\n",
      "101:\tlearn: 0.3151514\ttotal: 738ms\tremaining: 6.5s\n",
      "102:\tlearn: 0.3143857\ttotal: 747ms\tremaining: 6.51s\n",
      "103:\tlearn: 0.3138526\ttotal: 756ms\tremaining: 6.51s\n",
      "104:\tlearn: 0.3135160\ttotal: 767ms\tremaining: 6.54s\n",
      "105:\tlearn: 0.3132009\ttotal: 776ms\tremaining: 6.54s\n",
      "106:\tlearn: 0.3131024\ttotal: 785ms\tremaining: 6.55s\n",
      "107:\tlearn: 0.3125493\ttotal: 795ms\tremaining: 6.57s\n",
      "108:\tlearn: 0.3120879\ttotal: 805ms\tremaining: 6.58s\n",
      "109:\tlearn: 0.3115256\ttotal: 815ms\tremaining: 6.59s\n",
      "110:\tlearn: 0.3114279\ttotal: 825ms\tremaining: 6.61s\n",
      "111:\tlearn: 0.3111234\ttotal: 835ms\tremaining: 6.62s\n",
      "112:\tlearn: 0.3109163\ttotal: 844ms\tremaining: 6.63s\n",
      "113:\tlearn: 0.3104079\ttotal: 852ms\tremaining: 6.62s\n",
      "114:\tlearn: 0.3099309\ttotal: 860ms\tremaining: 6.61s\n",
      "115:\tlearn: 0.3097461\ttotal: 868ms\tremaining: 6.62s\n",
      "116:\tlearn: 0.3090404\ttotal: 876ms\tremaining: 6.61s\n",
      "117:\tlearn: 0.3089572\ttotal: 883ms\tremaining: 6.6s\n",
      "118:\tlearn: 0.3088034\ttotal: 891ms\tremaining: 6.6s\n",
      "119:\tlearn: 0.3083055\ttotal: 901ms\tremaining: 6.61s\n",
      "120:\tlearn: 0.3081627\ttotal: 911ms\tremaining: 6.62s\n",
      "121:\tlearn: 0.3077580\ttotal: 920ms\tremaining: 6.62s\n",
      "122:\tlearn: 0.3075585\ttotal: 930ms\tremaining: 6.63s\n",
      "123:\tlearn: 0.3073919\ttotal: 939ms\tremaining: 6.63s\n",
      "124:\tlearn: 0.3071722\ttotal: 948ms\tremaining: 6.63s\n",
      "125:\tlearn: 0.3068678\ttotal: 955ms\tremaining: 6.63s\n",
      "126:\tlearn: 0.3065678\ttotal: 964ms\tremaining: 6.63s\n",
      "127:\tlearn: 0.3060718\ttotal: 972ms\tremaining: 6.62s\n",
      "128:\tlearn: 0.3057223\ttotal: 981ms\tremaining: 6.63s\n",
      "129:\tlearn: 0.3055173\ttotal: 992ms\tremaining: 6.64s\n",
      "130:\tlearn: 0.3053505\ttotal: 1s\tremaining: 6.64s\n",
      "131:\tlearn: 0.3048249\ttotal: 1.01s\tremaining: 6.67s\n",
      "132:\tlearn: 0.3043896\ttotal: 1.02s\tremaining: 6.67s\n",
      "133:\tlearn: 0.3042321\ttotal: 1.03s\tremaining: 6.67s\n",
      "134:\tlearn: 0.3039101\ttotal: 1.04s\tremaining: 6.67s\n",
      "135:\tlearn: 0.3037011\ttotal: 1.05s\tremaining: 6.68s\n",
      "136:\tlearn: 0.3032860\ttotal: 1.06s\tremaining: 6.68s\n",
      "137:\tlearn: 0.3032040\ttotal: 1.07s\tremaining: 6.67s\n",
      "138:\tlearn: 0.3031291\ttotal: 1.07s\tremaining: 6.66s\n",
      "139:\tlearn: 0.3028930\ttotal: 1.08s\tremaining: 6.66s\n",
      "140:\tlearn: 0.3023768\ttotal: 1.09s\tremaining: 6.67s\n",
      "141:\tlearn: 0.3022658\ttotal: 1.1s\tremaining: 6.67s\n",
      "142:\tlearn: 0.3020815\ttotal: 1.11s\tremaining: 6.67s\n",
      "143:\tlearn: 0.3019741\ttotal: 1.13s\tremaining: 6.69s\n",
      "144:\tlearn: 0.3018831\ttotal: 1.14s\tremaining: 6.7s\n",
      "145:\tlearn: 0.3016524\ttotal: 1.15s\tremaining: 6.7s\n",
      "146:\tlearn: 0.3013613\ttotal: 1.16s\tremaining: 6.71s\n",
      "147:\tlearn: 0.3011389\ttotal: 1.17s\tremaining: 6.71s\n",
      "148:\tlearn: 0.3008982\ttotal: 1.17s\tremaining: 6.71s\n",
      "149:\tlearn: 0.3006526\ttotal: 1.18s\tremaining: 6.71s\n",
      "150:\tlearn: 0.3003629\ttotal: 1.19s\tremaining: 6.71s\n",
      "151:\tlearn: 0.3002192\ttotal: 1.2s\tremaining: 6.71s\n",
      "152:\tlearn: 0.2998578\ttotal: 1.21s\tremaining: 6.7s\n",
      "153:\tlearn: 0.2995962\ttotal: 1.22s\tremaining: 6.69s\n",
      "154:\tlearn: 0.2993462\ttotal: 1.23s\tremaining: 6.68s\n",
      "155:\tlearn: 0.2991928\ttotal: 1.24s\tremaining: 6.68s\n",
      "156:\tlearn: 0.2989907\ttotal: 1.24s\tremaining: 6.67s\n",
      "157:\tlearn: 0.2985530\ttotal: 1.25s\tremaining: 6.67s\n",
      "158:\tlearn: 0.2982713\ttotal: 1.26s\tremaining: 6.68s\n",
      "159:\tlearn: 0.2981244\ttotal: 1.27s\tremaining: 6.68s\n",
      "160:\tlearn: 0.2980666\ttotal: 1.28s\tremaining: 6.67s\n",
      "161:\tlearn: 0.2977174\ttotal: 1.29s\tremaining: 6.68s\n",
      "162:\tlearn: 0.2975570\ttotal: 1.3s\tremaining: 6.68s\n",
      "163:\tlearn: 0.2973943\ttotal: 1.31s\tremaining: 6.68s\n",
      "164:\tlearn: 0.2971064\ttotal: 1.32s\tremaining: 6.67s\n"
     ]
    },
    {
     "name": "stdout",
     "output_type": "stream",
     "text": [
      "165:\tlearn: 0.2968649\ttotal: 1.33s\tremaining: 6.67s\n",
      "166:\tlearn: 0.2966489\ttotal: 1.34s\tremaining: 6.67s\n",
      "167:\tlearn: 0.2964581\ttotal: 1.35s\tremaining: 6.67s\n",
      "168:\tlearn: 0.2961595\ttotal: 1.35s\tremaining: 6.66s\n",
      "169:\tlearn: 0.2959553\ttotal: 1.36s\tremaining: 6.66s\n",
      "170:\tlearn: 0.2957379\ttotal: 1.37s\tremaining: 6.66s\n",
      "171:\tlearn: 0.2953300\ttotal: 1.38s\tremaining: 6.66s\n",
      "172:\tlearn: 0.2950983\ttotal: 1.39s\tremaining: 6.66s\n",
      "173:\tlearn: 0.2949531\ttotal: 1.4s\tremaining: 6.66s\n",
      "174:\tlearn: 0.2944480\ttotal: 1.41s\tremaining: 6.66s\n",
      "175:\tlearn: 0.2941879\ttotal: 1.42s\tremaining: 6.65s\n",
      "176:\tlearn: 0.2938843\ttotal: 1.43s\tremaining: 6.63s\n",
      "177:\tlearn: 0.2936760\ttotal: 1.43s\tremaining: 6.61s\n",
      "178:\tlearn: 0.2934289\ttotal: 1.44s\tremaining: 6.6s\n",
      "179:\tlearn: 0.2931508\ttotal: 1.44s\tremaining: 6.58s\n",
      "180:\tlearn: 0.2930257\ttotal: 1.45s\tremaining: 6.56s\n",
      "181:\tlearn: 0.2924233\ttotal: 1.46s\tremaining: 6.55s\n",
      "182:\tlearn: 0.2923485\ttotal: 1.46s\tremaining: 6.54s\n",
      "183:\tlearn: 0.2918454\ttotal: 1.47s\tremaining: 6.52s\n",
      "184:\tlearn: 0.2913726\ttotal: 1.48s\tremaining: 6.5s\n",
      "185:\tlearn: 0.2912341\ttotal: 1.48s\tremaining: 6.48s\n",
      "186:\tlearn: 0.2906307\ttotal: 1.49s\tremaining: 6.47s\n",
      "187:\tlearn: 0.2904557\ttotal: 1.49s\tremaining: 6.45s\n",
      "188:\tlearn: 0.2900979\ttotal: 1.5s\tremaining: 6.43s\n",
      "189:\tlearn: 0.2900120\ttotal: 1.51s\tremaining: 6.42s\n",
      "190:\tlearn: 0.2895126\ttotal: 1.51s\tremaining: 6.4s\n",
      "191:\tlearn: 0.2893817\ttotal: 1.52s\tremaining: 6.39s\n",
      "192:\tlearn: 0.2892379\ttotal: 1.52s\tremaining: 6.37s\n",
      "193:\tlearn: 0.2891289\ttotal: 1.53s\tremaining: 6.36s\n",
      "194:\tlearn: 0.2888507\ttotal: 1.54s\tremaining: 6.36s\n",
      "195:\tlearn: 0.2886177\ttotal: 1.55s\tremaining: 6.34s\n",
      "196:\tlearn: 0.2883207\ttotal: 1.55s\tremaining: 6.34s\n",
      "197:\tlearn: 0.2880992\ttotal: 1.56s\tremaining: 6.33s\n",
      "198:\tlearn: 0.2879584\ttotal: 1.57s\tremaining: 6.32s\n",
      "199:\tlearn: 0.2876748\ttotal: 1.58s\tremaining: 6.3s\n",
      "200:\tlearn: 0.2873719\ttotal: 1.58s\tremaining: 6.29s\n",
      "201:\tlearn: 0.2873017\ttotal: 1.59s\tremaining: 6.28s\n",
      "202:\tlearn: 0.2871697\ttotal: 1.6s\tremaining: 6.27s\n",
      "203:\tlearn: 0.2869817\ttotal: 1.6s\tremaining: 6.26s\n",
      "204:\tlearn: 0.2868518\ttotal: 1.61s\tremaining: 6.25s\n",
      "205:\tlearn: 0.2866291\ttotal: 1.62s\tremaining: 6.24s\n",
      "206:\tlearn: 0.2863787\ttotal: 1.63s\tremaining: 6.23s\n",
      "207:\tlearn: 0.2862117\ttotal: 1.63s\tremaining: 6.22s\n",
      "208:\tlearn: 0.2857341\ttotal: 1.64s\tremaining: 6.21s\n",
      "209:\tlearn: 0.2856409\ttotal: 1.65s\tremaining: 6.19s\n",
      "210:\tlearn: 0.2855735\ttotal: 1.65s\tremaining: 6.18s\n",
      "211:\tlearn: 0.2854755\ttotal: 1.66s\tremaining: 6.17s\n",
      "212:\tlearn: 0.2853161\ttotal: 1.67s\tremaining: 6.16s\n",
      "213:\tlearn: 0.2851635\ttotal: 1.68s\tremaining: 6.16s\n",
      "214:\tlearn: 0.2849585\ttotal: 1.69s\tremaining: 6.16s\n",
      "215:\tlearn: 0.2846950\ttotal: 1.7s\tremaining: 6.15s\n",
      "216:\tlearn: 0.2844385\ttotal: 1.7s\tremaining: 6.14s\n",
      "217:\tlearn: 0.2842442\ttotal: 1.71s\tremaining: 6.13s\n",
      "218:\tlearn: 0.2841059\ttotal: 1.72s\tremaining: 6.12s\n",
      "219:\tlearn: 0.2840222\ttotal: 1.72s\tremaining: 6.11s\n",
      "220:\tlearn: 0.2838331\ttotal: 1.73s\tremaining: 6.09s\n",
      "221:\tlearn: 0.2836975\ttotal: 1.74s\tremaining: 6.08s\n",
      "222:\tlearn: 0.2833258\ttotal: 1.74s\tremaining: 6.08s\n",
      "223:\tlearn: 0.2832500\ttotal: 1.75s\tremaining: 6.06s\n",
      "224:\tlearn: 0.2830173\ttotal: 1.76s\tremaining: 6.05s\n",
      "225:\tlearn: 0.2829112\ttotal: 1.76s\tremaining: 6.04s\n",
      "226:\tlearn: 0.2827648\ttotal: 1.77s\tremaining: 6.03s\n",
      "227:\tlearn: 0.2826221\ttotal: 1.78s\tremaining: 6.02s\n",
      "228:\tlearn: 0.2825147\ttotal: 1.79s\tremaining: 6.01s\n",
      "229:\tlearn: 0.2821675\ttotal: 1.79s\tremaining: 6s\n",
      "230:\tlearn: 0.2819022\ttotal: 1.8s\tremaining: 5.99s\n",
      "231:\tlearn: 0.2814533\ttotal: 1.8s\tremaining: 5.98s\n",
      "232:\tlearn: 0.2812170\ttotal: 1.81s\tremaining: 5.96s\n",
      "233:\tlearn: 0.2808538\ttotal: 1.82s\tremaining: 5.96s\n",
      "234:\tlearn: 0.2807861\ttotal: 1.82s\tremaining: 5.94s\n",
      "235:\tlearn: 0.2805184\ttotal: 1.83s\tremaining: 5.93s\n",
      "236:\tlearn: 0.2803580\ttotal: 1.84s\tremaining: 5.92s\n",
      "237:\tlearn: 0.2802431\ttotal: 1.84s\tremaining: 5.9s\n",
      "238:\tlearn: 0.2799644\ttotal: 1.85s\tremaining: 5.89s\n",
      "239:\tlearn: 0.2798361\ttotal: 1.85s\tremaining: 5.88s\n",
      "240:\tlearn: 0.2795106\ttotal: 1.86s\tremaining: 5.86s\n",
      "241:\tlearn: 0.2792759\ttotal: 1.87s\tremaining: 5.85s\n",
      "242:\tlearn: 0.2789393\ttotal: 1.87s\tremaining: 5.84s\n",
      "243:\tlearn: 0.2787074\ttotal: 1.88s\tremaining: 5.83s\n",
      "244:\tlearn: 0.2785724\ttotal: 1.89s\tremaining: 5.81s\n",
      "245:\tlearn: 0.2783374\ttotal: 1.89s\tremaining: 5.8s\n",
      "246:\tlearn: 0.2782328\ttotal: 1.9s\tremaining: 5.79s\n",
      "247:\tlearn: 0.2778103\ttotal: 1.9s\tremaining: 5.77s\n",
      "248:\tlearn: 0.2777239\ttotal: 1.91s\tremaining: 5.76s\n",
      "249:\tlearn: 0.2774389\ttotal: 1.92s\tremaining: 5.75s\n",
      "250:\tlearn: 0.2772898\ttotal: 1.92s\tremaining: 5.73s\n",
      "251:\tlearn: 0.2772083\ttotal: 1.93s\tremaining: 5.72s\n",
      "252:\tlearn: 0.2771077\ttotal: 1.93s\tremaining: 5.71s\n",
      "253:\tlearn: 0.2767193\ttotal: 1.94s\tremaining: 5.7s\n",
      "254:\tlearn: 0.2766017\ttotal: 1.95s\tremaining: 5.69s\n",
      "255:\tlearn: 0.2765079\ttotal: 1.95s\tremaining: 5.68s\n",
      "256:\tlearn: 0.2763909\ttotal: 1.96s\tremaining: 5.67s\n",
      "257:\tlearn: 0.2762699\ttotal: 1.97s\tremaining: 5.65s\n",
      "258:\tlearn: 0.2760677\ttotal: 1.97s\tremaining: 5.64s\n",
      "259:\tlearn: 0.2759549\ttotal: 1.98s\tremaining: 5.63s\n",
      "260:\tlearn: 0.2758264\ttotal: 1.98s\tremaining: 5.61s\n",
      "261:\tlearn: 0.2757151\ttotal: 1.99s\tremaining: 5.6s\n",
      "262:\tlearn: 0.2755291\ttotal: 1.99s\tremaining: 5.59s\n",
      "263:\tlearn: 0.2752592\ttotal: 2s\tremaining: 5.58s\n",
      "264:\tlearn: 0.2749928\ttotal: 2.01s\tremaining: 5.57s\n",
      "265:\tlearn: 0.2748112\ttotal: 2.01s\tremaining: 5.55s\n",
      "266:\tlearn: 0.2745195\ttotal: 2.02s\tremaining: 5.54s\n",
      "267:\tlearn: 0.2740502\ttotal: 2.02s\tremaining: 5.53s\n",
      "268:\tlearn: 0.2737495\ttotal: 2.03s\tremaining: 5.52s\n",
      "269:\tlearn: 0.2735057\ttotal: 2.04s\tremaining: 5.51s\n",
      "270:\tlearn: 0.2734232\ttotal: 2.04s\tremaining: 5.49s\n",
      "271:\tlearn: 0.2731829\ttotal: 2.05s\tremaining: 5.48s\n",
      "272:\tlearn: 0.2730693\ttotal: 2.05s\tremaining: 5.47s\n",
      "273:\tlearn: 0.2729321\ttotal: 2.06s\tremaining: 5.46s\n",
      "274:\tlearn: 0.2725776\ttotal: 2.07s\tremaining: 5.45s\n",
      "275:\tlearn: 0.2724419\ttotal: 2.07s\tremaining: 5.44s\n",
      "276:\tlearn: 0.2723161\ttotal: 2.08s\tremaining: 5.43s\n",
      "277:\tlearn: 0.2719981\ttotal: 2.09s\tremaining: 5.42s\n",
      "278:\tlearn: 0.2718139\ttotal: 2.09s\tremaining: 5.41s\n",
      "279:\tlearn: 0.2715302\ttotal: 2.1s\tremaining: 5.41s\n",
      "280:\tlearn: 0.2713043\ttotal: 2.11s\tremaining: 5.4s\n",
      "281:\tlearn: 0.2711894\ttotal: 2.12s\tremaining: 5.39s\n",
      "282:\tlearn: 0.2710606\ttotal: 2.12s\tremaining: 5.38s\n",
      "283:\tlearn: 0.2709155\ttotal: 2.13s\tremaining: 5.37s\n",
      "284:\tlearn: 0.2705299\ttotal: 2.14s\tremaining: 5.37s\n",
      "285:\tlearn: 0.2702504\ttotal: 2.15s\tremaining: 5.36s\n",
      "286:\tlearn: 0.2700457\ttotal: 2.15s\tremaining: 5.34s\n",
      "287:\tlearn: 0.2699371\ttotal: 2.16s\tremaining: 5.33s\n",
      "288:\tlearn: 0.2698004\ttotal: 2.17s\tremaining: 5.33s\n",
      "289:\tlearn: 0.2697366\ttotal: 2.17s\tremaining: 5.32s\n",
      "290:\tlearn: 0.2695753\ttotal: 2.18s\tremaining: 5.31s\n",
      "291:\tlearn: 0.2692782\ttotal: 2.19s\tremaining: 5.3s\n",
      "292:\tlearn: 0.2691092\ttotal: 2.2s\tremaining: 5.3s\n",
      "293:\tlearn: 0.2687966\ttotal: 2.21s\tremaining: 5.3s\n",
      "294:\tlearn: 0.2686241\ttotal: 2.21s\tremaining: 5.29s\n",
      "295:\tlearn: 0.2684458\ttotal: 2.22s\tremaining: 5.28s\n",
      "296:\tlearn: 0.2683429\ttotal: 2.23s\tremaining: 5.27s\n",
      "297:\tlearn: 0.2681894\ttotal: 2.23s\tremaining: 5.26s\n",
      "298:\tlearn: 0.2680594\ttotal: 2.24s\tremaining: 5.25s\n",
      "299:\tlearn: 0.2678377\ttotal: 2.25s\tremaining: 5.24s\n",
      "300:\tlearn: 0.2676886\ttotal: 2.25s\tremaining: 5.23s\n",
      "301:\tlearn: 0.2675918\ttotal: 2.26s\tremaining: 5.22s\n",
      "302:\tlearn: 0.2675204\ttotal: 2.26s\tremaining: 5.21s\n",
      "303:\tlearn: 0.2674056\ttotal: 2.27s\tremaining: 5.2s\n",
      "304:\tlearn: 0.2672401\ttotal: 2.28s\tremaining: 5.19s\n",
      "305:\tlearn: 0.2670679\ttotal: 2.28s\tremaining: 5.18s\n",
      "306:\tlearn: 0.2669990\ttotal: 2.29s\tremaining: 5.17s\n",
      "307:\tlearn: 0.2667838\ttotal: 2.3s\tremaining: 5.16s\n",
      "308:\tlearn: 0.2666779\ttotal: 2.31s\tremaining: 5.15s\n",
      "309:\tlearn: 0.2666027\ttotal: 2.31s\tremaining: 5.15s\n",
      "310:\tlearn: 0.2664024\ttotal: 2.32s\tremaining: 5.14s\n",
      "311:\tlearn: 0.2662514\ttotal: 2.33s\tremaining: 5.13s\n",
      "312:\tlearn: 0.2659539\ttotal: 2.33s\tremaining: 5.12s\n",
      "313:\tlearn: 0.2656942\ttotal: 2.34s\tremaining: 5.11s\n",
      "314:\tlearn: 0.2655500\ttotal: 2.34s\tremaining: 5.1s\n",
      "315:\tlearn: 0.2653819\ttotal: 2.35s\tremaining: 5.09s\n",
      "316:\tlearn: 0.2650663\ttotal: 2.35s\tremaining: 5.08s\n",
      "317:\tlearn: 0.2647720\ttotal: 2.36s\tremaining: 5.07s\n",
      "318:\tlearn: 0.2646653\ttotal: 2.37s\tremaining: 5.05s\n",
      "319:\tlearn: 0.2645501\ttotal: 2.37s\tremaining: 5.04s\n",
      "320:\tlearn: 0.2644290\ttotal: 2.38s\tremaining: 5.04s\n",
      "321:\tlearn: 0.2642905\ttotal: 2.39s\tremaining: 5.02s\n",
      "322:\tlearn: 0.2642100\ttotal: 2.39s\tremaining: 5.01s\n",
      "323:\tlearn: 0.2640619\ttotal: 2.4s\tremaining: 5s\n",
      "324:\tlearn: 0.2639113\ttotal: 2.4s\tremaining: 4.99s\n",
      "325:\tlearn: 0.2637920\ttotal: 2.41s\tremaining: 4.98s\n",
      "326:\tlearn: 0.2637337\ttotal: 2.41s\tremaining: 4.97s\n",
      "327:\tlearn: 0.2635801\ttotal: 2.42s\tremaining: 4.96s\n",
      "328:\tlearn: 0.2635206\ttotal: 2.43s\tremaining: 4.95s\n",
      "329:\tlearn: 0.2632917\ttotal: 2.43s\tremaining: 4.94s\n",
      "330:\tlearn: 0.2631165\ttotal: 2.44s\tremaining: 4.93s\n",
      "331:\tlearn: 0.2628985\ttotal: 2.44s\tremaining: 4.92s\n"
     ]
    },
    {
     "name": "stdout",
     "output_type": "stream",
     "text": [
      "332:\tlearn: 0.2626981\ttotal: 2.45s\tremaining: 4.91s\n",
      "333:\tlearn: 0.2625350\ttotal: 2.46s\tremaining: 4.9s\n",
      "334:\tlearn: 0.2623882\ttotal: 2.46s\tremaining: 4.89s\n",
      "335:\tlearn: 0.2620944\ttotal: 2.47s\tremaining: 4.88s\n",
      "336:\tlearn: 0.2618955\ttotal: 2.48s\tremaining: 4.87s\n",
      "337:\tlearn: 0.2617814\ttotal: 2.48s\tremaining: 4.86s\n",
      "338:\tlearn: 0.2616642\ttotal: 2.49s\tremaining: 4.85s\n",
      "339:\tlearn: 0.2616078\ttotal: 2.49s\tremaining: 4.84s\n",
      "340:\tlearn: 0.2615141\ttotal: 2.5s\tremaining: 4.83s\n",
      "341:\tlearn: 0.2611794\ttotal: 2.51s\tremaining: 4.82s\n",
      "342:\tlearn: 0.2610170\ttotal: 2.51s\tremaining: 4.82s\n",
      "343:\tlearn: 0.2609060\ttotal: 2.52s\tremaining: 4.8s\n",
      "344:\tlearn: 0.2607148\ttotal: 2.52s\tremaining: 4.79s\n",
      "345:\tlearn: 0.2606554\ttotal: 2.53s\tremaining: 4.79s\n",
      "346:\tlearn: 0.2604473\ttotal: 2.54s\tremaining: 4.78s\n",
      "347:\tlearn: 0.2603120\ttotal: 2.54s\tremaining: 4.77s\n",
      "348:\tlearn: 0.2602315\ttotal: 2.55s\tremaining: 4.75s\n",
      "349:\tlearn: 0.2601067\ttotal: 2.56s\tremaining: 4.75s\n",
      "350:\tlearn: 0.2600471\ttotal: 2.56s\tremaining: 4.74s\n",
      "351:\tlearn: 0.2599773\ttotal: 2.57s\tremaining: 4.73s\n",
      "352:\tlearn: 0.2598673\ttotal: 2.58s\tremaining: 4.73s\n",
      "353:\tlearn: 0.2598004\ttotal: 2.59s\tremaining: 4.72s\n",
      "354:\tlearn: 0.2595638\ttotal: 2.59s\tremaining: 4.71s\n",
      "355:\tlearn: 0.2595100\ttotal: 2.6s\tremaining: 4.7s\n",
      "356:\tlearn: 0.2593863\ttotal: 2.61s\tremaining: 4.7s\n",
      "357:\tlearn: 0.2592417\ttotal: 2.61s\tremaining: 4.69s\n",
      "358:\tlearn: 0.2590931\ttotal: 2.62s\tremaining: 4.68s\n",
      "359:\tlearn: 0.2590129\ttotal: 2.63s\tremaining: 4.67s\n",
      "360:\tlearn: 0.2589443\ttotal: 2.63s\tremaining: 4.66s\n",
      "361:\tlearn: 0.2588513\ttotal: 2.64s\tremaining: 4.65s\n",
      "362:\tlearn: 0.2587777\ttotal: 2.65s\tremaining: 4.64s\n",
      "363:\tlearn: 0.2586990\ttotal: 2.65s\tremaining: 4.63s\n",
      "364:\tlearn: 0.2585880\ttotal: 2.66s\tremaining: 4.62s\n",
      "365:\tlearn: 0.2584931\ttotal: 2.66s\tremaining: 4.62s\n",
      "366:\tlearn: 0.2583699\ttotal: 2.67s\tremaining: 4.61s\n",
      "367:\tlearn: 0.2580411\ttotal: 2.68s\tremaining: 4.6s\n",
      "368:\tlearn: 0.2579209\ttotal: 2.69s\tremaining: 4.6s\n",
      "369:\tlearn: 0.2578393\ttotal: 2.7s\tremaining: 4.59s\n",
      "370:\tlearn: 0.2576855\ttotal: 2.71s\tremaining: 4.59s\n",
      "371:\tlearn: 0.2575993\ttotal: 2.71s\tremaining: 4.58s\n",
      "372:\tlearn: 0.2575149\ttotal: 2.72s\tremaining: 4.57s\n",
      "373:\tlearn: 0.2574452\ttotal: 2.73s\tremaining: 4.57s\n",
      "374:\tlearn: 0.2573101\ttotal: 2.73s\tremaining: 4.56s\n",
      "375:\tlearn: 0.2571225\ttotal: 2.74s\tremaining: 4.55s\n",
      "376:\tlearn: 0.2569944\ttotal: 2.75s\tremaining: 4.54s\n",
      "377:\tlearn: 0.2569154\ttotal: 2.76s\tremaining: 4.54s\n",
      "378:\tlearn: 0.2567811\ttotal: 2.76s\tremaining: 4.53s\n",
      "379:\tlearn: 0.2566494\ttotal: 2.77s\tremaining: 4.52s\n",
      "380:\tlearn: 0.2565766\ttotal: 2.77s\tremaining: 4.51s\n",
      "381:\tlearn: 0.2565029\ttotal: 2.78s\tremaining: 4.5s\n",
      "382:\tlearn: 0.2564425\ttotal: 2.79s\tremaining: 4.49s\n",
      "383:\tlearn: 0.2562686\ttotal: 2.8s\tremaining: 4.49s\n",
      "384:\tlearn: 0.2562038\ttotal: 2.8s\tremaining: 4.48s\n",
      "385:\tlearn: 0.2560384\ttotal: 2.81s\tremaining: 4.47s\n",
      "386:\tlearn: 0.2559360\ttotal: 2.82s\tremaining: 4.47s\n",
      "387:\tlearn: 0.2558278\ttotal: 2.83s\tremaining: 4.46s\n",
      "388:\tlearn: 0.2557369\ttotal: 2.84s\tremaining: 4.46s\n",
      "389:\tlearn: 0.2556279\ttotal: 2.84s\tremaining: 4.45s\n",
      "390:\tlearn: 0.2554952\ttotal: 2.85s\tremaining: 4.44s\n",
      "391:\tlearn: 0.2554040\ttotal: 2.86s\tremaining: 4.43s\n",
      "392:\tlearn: 0.2553236\ttotal: 2.86s\tremaining: 4.42s\n",
      "393:\tlearn: 0.2550966\ttotal: 2.87s\tremaining: 4.41s\n",
      "394:\tlearn: 0.2550481\ttotal: 2.88s\tremaining: 4.41s\n",
      "395:\tlearn: 0.2549217\ttotal: 2.88s\tremaining: 4.4s\n",
      "396:\tlearn: 0.2548381\ttotal: 2.89s\tremaining: 4.39s\n",
      "397:\tlearn: 0.2547606\ttotal: 2.9s\tremaining: 4.38s\n",
      "398:\tlearn: 0.2546519\ttotal: 2.9s\tremaining: 4.37s\n",
      "399:\tlearn: 0.2544411\ttotal: 2.91s\tremaining: 4.36s\n",
      "400:\tlearn: 0.2543451\ttotal: 2.91s\tremaining: 4.35s\n",
      "401:\tlearn: 0.2542498\ttotal: 2.92s\tremaining: 4.34s\n",
      "402:\tlearn: 0.2541772\ttotal: 2.92s\tremaining: 4.33s\n",
      "403:\tlearn: 0.2540565\ttotal: 2.93s\tremaining: 4.33s\n",
      "404:\tlearn: 0.2539837\ttotal: 2.94s\tremaining: 4.32s\n",
      "405:\tlearn: 0.2539134\ttotal: 2.94s\tremaining: 4.31s\n",
      "406:\tlearn: 0.2538400\ttotal: 2.95s\tremaining: 4.3s\n",
      "407:\tlearn: 0.2537378\ttotal: 2.96s\tremaining: 4.29s\n",
      "408:\tlearn: 0.2535274\ttotal: 2.96s\tremaining: 4.28s\n",
      "409:\tlearn: 0.2533083\ttotal: 2.97s\tremaining: 4.27s\n",
      "410:\tlearn: 0.2530774\ttotal: 2.97s\tremaining: 4.26s\n",
      "411:\tlearn: 0.2530293\ttotal: 2.98s\tremaining: 4.25s\n",
      "412:\tlearn: 0.2529437\ttotal: 2.99s\tremaining: 4.25s\n",
      "413:\tlearn: 0.2528878\ttotal: 2.99s\tremaining: 4.24s\n",
      "414:\tlearn: 0.2528347\ttotal: 3s\tremaining: 4.23s\n",
      "415:\tlearn: 0.2525512\ttotal: 3s\tremaining: 4.22s\n",
      "416:\tlearn: 0.2524216\ttotal: 3.01s\tremaining: 4.21s\n",
      "417:\tlearn: 0.2522906\ttotal: 3.02s\tremaining: 4.2s\n",
      "418:\tlearn: 0.2522165\ttotal: 3.02s\tremaining: 4.19s\n",
      "419:\tlearn: 0.2520920\ttotal: 3.03s\tremaining: 4.18s\n",
      "420:\tlearn: 0.2520069\ttotal: 3.04s\tremaining: 4.18s\n",
      "421:\tlearn: 0.2518259\ttotal: 3.04s\tremaining: 4.17s\n",
      "422:\tlearn: 0.2516094\ttotal: 3.05s\tremaining: 4.16s\n",
      "423:\tlearn: 0.2515636\ttotal: 3.06s\tremaining: 4.15s\n",
      "424:\tlearn: 0.2514881\ttotal: 3.06s\tremaining: 4.14s\n",
      "425:\tlearn: 0.2514221\ttotal: 3.07s\tremaining: 4.14s\n",
      "426:\tlearn: 0.2512736\ttotal: 3.08s\tremaining: 4.13s\n",
      "427:\tlearn: 0.2511230\ttotal: 3.08s\tremaining: 4.12s\n",
      "428:\tlearn: 0.2510532\ttotal: 3.09s\tremaining: 4.12s\n",
      "429:\tlearn: 0.2509090\ttotal: 3.1s\tremaining: 4.11s\n",
      "430:\tlearn: 0.2508280\ttotal: 3.11s\tremaining: 4.1s\n",
      "431:\tlearn: 0.2507835\ttotal: 3.11s\tremaining: 4.09s\n",
      "432:\tlearn: 0.2507020\ttotal: 3.12s\tremaining: 4.08s\n",
      "433:\tlearn: 0.2505933\ttotal: 3.13s\tremaining: 4.08s\n",
      "434:\tlearn: 0.2504881\ttotal: 3.13s\tremaining: 4.07s\n",
      "435:\tlearn: 0.2503492\ttotal: 3.14s\tremaining: 4.06s\n",
      "436:\tlearn: 0.2503008\ttotal: 3.15s\tremaining: 4.06s\n",
      "437:\tlearn: 0.2501286\ttotal: 3.16s\tremaining: 4.05s\n",
      "438:\tlearn: 0.2500303\ttotal: 3.17s\tremaining: 4.05s\n",
      "439:\tlearn: 0.2499327\ttotal: 3.18s\tremaining: 4.04s\n",
      "440:\tlearn: 0.2498423\ttotal: 3.19s\tremaining: 4.04s\n",
      "441:\tlearn: 0.2496726\ttotal: 3.19s\tremaining: 4.03s\n",
      "442:\tlearn: 0.2495487\ttotal: 3.2s\tremaining: 4.02s\n",
      "443:\tlearn: 0.2494058\ttotal: 3.21s\tremaining: 4.02s\n",
      "444:\tlearn: 0.2492546\ttotal: 3.21s\tremaining: 4.01s\n",
      "445:\tlearn: 0.2491257\ttotal: 3.22s\tremaining: 4s\n",
      "446:\tlearn: 0.2489594\ttotal: 3.23s\tremaining: 3.99s\n",
      "447:\tlearn: 0.2487717\ttotal: 3.23s\tremaining: 3.98s\n",
      "448:\tlearn: 0.2486735\ttotal: 3.24s\tremaining: 3.98s\n",
      "449:\tlearn: 0.2485954\ttotal: 3.25s\tremaining: 3.97s\n",
      "450:\tlearn: 0.2485416\ttotal: 3.25s\tremaining: 3.96s\n",
      "451:\tlearn: 0.2483562\ttotal: 3.26s\tremaining: 3.95s\n",
      "452:\tlearn: 0.2482502\ttotal: 3.26s\tremaining: 3.94s\n",
      "453:\tlearn: 0.2481482\ttotal: 3.27s\tremaining: 3.94s\n",
      "454:\tlearn: 0.2480432\ttotal: 3.28s\tremaining: 3.93s\n",
      "455:\tlearn: 0.2480095\ttotal: 3.29s\tremaining: 3.92s\n",
      "456:\tlearn: 0.2478791\ttotal: 3.29s\tremaining: 3.92s\n",
      "457:\tlearn: 0.2478066\ttotal: 3.3s\tremaining: 3.91s\n",
      "458:\tlearn: 0.2476924\ttotal: 3.31s\tremaining: 3.9s\n",
      "459:\tlearn: 0.2475970\ttotal: 3.32s\tremaining: 3.89s\n",
      "460:\tlearn: 0.2475346\ttotal: 3.32s\tremaining: 3.88s\n",
      "461:\tlearn: 0.2474286\ttotal: 3.33s\tremaining: 3.88s\n",
      "462:\tlearn: 0.2473164\ttotal: 3.33s\tremaining: 3.87s\n",
      "463:\tlearn: 0.2472572\ttotal: 3.34s\tremaining: 3.86s\n",
      "464:\tlearn: 0.2471851\ttotal: 3.35s\tremaining: 3.85s\n",
      "465:\tlearn: 0.2470715\ttotal: 3.35s\tremaining: 3.84s\n",
      "466:\tlearn: 0.2469894\ttotal: 3.36s\tremaining: 3.83s\n",
      "467:\tlearn: 0.2469410\ttotal: 3.37s\tremaining: 3.83s\n",
      "468:\tlearn: 0.2468101\ttotal: 3.37s\tremaining: 3.82s\n",
      "469:\tlearn: 0.2466924\ttotal: 3.38s\tremaining: 3.81s\n",
      "470:\tlearn: 0.2466073\ttotal: 3.38s\tremaining: 3.8s\n",
      "471:\tlearn: 0.2465322\ttotal: 3.39s\tremaining: 3.79s\n",
      "472:\tlearn: 0.2464676\ttotal: 3.4s\tremaining: 3.78s\n",
      "473:\tlearn: 0.2463772\ttotal: 3.4s\tremaining: 3.77s\n",
      "474:\tlearn: 0.2463009\ttotal: 3.41s\tremaining: 3.77s\n",
      "475:\tlearn: 0.2462214\ttotal: 3.41s\tremaining: 3.76s\n",
      "476:\tlearn: 0.2461445\ttotal: 3.42s\tremaining: 3.75s\n",
      "477:\tlearn: 0.2459834\ttotal: 3.43s\tremaining: 3.74s\n",
      "478:\tlearn: 0.2459320\ttotal: 3.43s\tremaining: 3.73s\n",
      "479:\tlearn: 0.2458714\ttotal: 3.44s\tremaining: 3.72s\n",
      "480:\tlearn: 0.2455928\ttotal: 3.44s\tremaining: 3.71s\n",
      "481:\tlearn: 0.2455077\ttotal: 3.45s\tremaining: 3.71s\n",
      "482:\tlearn: 0.2451775\ttotal: 3.46s\tremaining: 3.7s\n",
      "483:\tlearn: 0.2451247\ttotal: 3.46s\tremaining: 3.69s\n",
      "484:\tlearn: 0.2450858\ttotal: 3.47s\tremaining: 3.69s\n",
      "485:\tlearn: 0.2450143\ttotal: 3.48s\tremaining: 3.68s\n",
      "486:\tlearn: 0.2449200\ttotal: 3.48s\tremaining: 3.67s\n",
      "487:\tlearn: 0.2448756\ttotal: 3.49s\tremaining: 3.66s\n",
      "488:\tlearn: 0.2447614\ttotal: 3.49s\tremaining: 3.65s\n",
      "489:\tlearn: 0.2447002\ttotal: 3.5s\tremaining: 3.64s\n",
      "490:\tlearn: 0.2446341\ttotal: 3.51s\tremaining: 3.64s\n"
     ]
    },
    {
     "name": "stdout",
     "output_type": "stream",
     "text": [
      "491:\tlearn: 0.2445434\ttotal: 3.52s\tremaining: 3.63s\n",
      "492:\tlearn: 0.2444568\ttotal: 3.52s\tremaining: 3.62s\n",
      "493:\tlearn: 0.2443093\ttotal: 3.53s\tremaining: 3.61s\n",
      "494:\tlearn: 0.2441952\ttotal: 3.53s\tremaining: 3.6s\n",
      "495:\tlearn: 0.2440758\ttotal: 3.54s\tremaining: 3.6s\n",
      "496:\tlearn: 0.2437792\ttotal: 3.55s\tremaining: 3.59s\n",
      "497:\tlearn: 0.2436632\ttotal: 3.55s\tremaining: 3.58s\n",
      "498:\tlearn: 0.2435669\ttotal: 3.56s\tremaining: 3.58s\n",
      "499:\tlearn: 0.2434190\ttotal: 3.57s\tremaining: 3.57s\n",
      "500:\tlearn: 0.2432699\ttotal: 3.58s\tremaining: 3.57s\n",
      "501:\tlearn: 0.2431559\ttotal: 3.59s\tremaining: 3.56s\n",
      "502:\tlearn: 0.2431266\ttotal: 3.59s\tremaining: 3.55s\n",
      "503:\tlearn: 0.2430583\ttotal: 3.6s\tremaining: 3.54s\n",
      "504:\tlearn: 0.2430107\ttotal: 3.61s\tremaining: 3.54s\n",
      "505:\tlearn: 0.2429510\ttotal: 3.62s\tremaining: 3.53s\n",
      "506:\tlearn: 0.2428432\ttotal: 3.63s\tremaining: 3.53s\n",
      "507:\tlearn: 0.2427894\ttotal: 3.63s\tremaining: 3.52s\n",
      "508:\tlearn: 0.2427474\ttotal: 3.65s\tremaining: 3.52s\n",
      "509:\tlearn: 0.2427095\ttotal: 3.65s\tremaining: 3.51s\n",
      "510:\tlearn: 0.2425101\ttotal: 3.66s\tremaining: 3.5s\n",
      "511:\tlearn: 0.2424419\ttotal: 3.67s\tremaining: 3.49s\n",
      "512:\tlearn: 0.2423837\ttotal: 3.67s\tremaining: 3.49s\n",
      "513:\tlearn: 0.2423296\ttotal: 3.68s\tremaining: 3.48s\n",
      "514:\tlearn: 0.2422533\ttotal: 3.68s\tremaining: 3.47s\n",
      "515:\tlearn: 0.2421437\ttotal: 3.69s\tremaining: 3.46s\n",
      "516:\tlearn: 0.2419866\ttotal: 3.7s\tremaining: 3.45s\n",
      "517:\tlearn: 0.2419254\ttotal: 3.7s\tremaining: 3.45s\n",
      "518:\tlearn: 0.2418347\ttotal: 3.71s\tremaining: 3.44s\n",
      "519:\tlearn: 0.2417432\ttotal: 3.72s\tremaining: 3.43s\n",
      "520:\tlearn: 0.2416253\ttotal: 3.72s\tremaining: 3.42s\n",
      "521:\tlearn: 0.2415616\ttotal: 3.73s\tremaining: 3.42s\n",
      "522:\tlearn: 0.2414957\ttotal: 3.73s\tremaining: 3.41s\n",
      "523:\tlearn: 0.2414347\ttotal: 3.74s\tremaining: 3.4s\n",
      "524:\tlearn: 0.2413680\ttotal: 3.75s\tremaining: 3.39s\n",
      "525:\tlearn: 0.2412563\ttotal: 3.76s\tremaining: 3.38s\n",
      "526:\tlearn: 0.2411709\ttotal: 3.76s\tremaining: 3.38s\n",
      "527:\tlearn: 0.2410786\ttotal: 3.77s\tremaining: 3.37s\n",
      "528:\tlearn: 0.2409741\ttotal: 3.78s\tremaining: 3.36s\n",
      "529:\tlearn: 0.2409253\ttotal: 3.79s\tremaining: 3.36s\n",
      "530:\tlearn: 0.2408673\ttotal: 3.79s\tremaining: 3.35s\n",
      "531:\tlearn: 0.2407177\ttotal: 3.8s\tremaining: 3.34s\n",
      "532:\tlearn: 0.2406157\ttotal: 3.81s\tremaining: 3.33s\n",
      "533:\tlearn: 0.2405724\ttotal: 3.81s\tremaining: 3.33s\n",
      "534:\tlearn: 0.2404939\ttotal: 3.82s\tremaining: 3.32s\n",
      "535:\tlearn: 0.2403790\ttotal: 3.83s\tremaining: 3.31s\n",
      "536:\tlearn: 0.2403162\ttotal: 3.83s\tremaining: 3.3s\n",
      "537:\tlearn: 0.2401529\ttotal: 3.84s\tremaining: 3.3s\n",
      "538:\tlearn: 0.2400841\ttotal: 3.84s\tremaining: 3.29s\n",
      "539:\tlearn: 0.2400285\ttotal: 3.85s\tremaining: 3.28s\n",
      "540:\tlearn: 0.2399805\ttotal: 3.86s\tremaining: 3.27s\n",
      "541:\tlearn: 0.2398603\ttotal: 3.86s\tremaining: 3.26s\n",
      "542:\tlearn: 0.2397495\ttotal: 3.87s\tremaining: 3.26s\n",
      "543:\tlearn: 0.2396844\ttotal: 3.88s\tremaining: 3.25s\n",
      "544:\tlearn: 0.2396023\ttotal: 3.88s\tremaining: 3.24s\n",
      "545:\tlearn: 0.2395474\ttotal: 3.89s\tremaining: 3.23s\n",
      "546:\tlearn: 0.2394347\ttotal: 3.89s\tremaining: 3.22s\n",
      "547:\tlearn: 0.2393767\ttotal: 3.9s\tremaining: 3.22s\n",
      "548:\tlearn: 0.2393376\ttotal: 3.91s\tremaining: 3.21s\n",
      "549:\tlearn: 0.2392580\ttotal: 3.91s\tremaining: 3.2s\n",
      "550:\tlearn: 0.2391973\ttotal: 3.92s\tremaining: 3.19s\n",
      "551:\tlearn: 0.2391192\ttotal: 3.92s\tremaining: 3.19s\n",
      "552:\tlearn: 0.2390656\ttotal: 3.93s\tremaining: 3.18s\n",
      "553:\tlearn: 0.2389848\ttotal: 3.94s\tremaining: 3.17s\n",
      "554:\tlearn: 0.2388730\ttotal: 3.94s\tremaining: 3.16s\n",
      "555:\tlearn: 0.2387833\ttotal: 3.95s\tremaining: 3.15s\n",
      "556:\tlearn: 0.2387335\ttotal: 3.96s\tremaining: 3.15s\n",
      "557:\tlearn: 0.2386811\ttotal: 3.96s\tremaining: 3.14s\n",
      "558:\tlearn: 0.2386043\ttotal: 3.97s\tremaining: 3.13s\n",
      "559:\tlearn: 0.2385516\ttotal: 3.97s\tremaining: 3.12s\n",
      "560:\tlearn: 0.2384978\ttotal: 3.98s\tremaining: 3.11s\n",
      "561:\tlearn: 0.2383872\ttotal: 3.99s\tremaining: 3.11s\n",
      "562:\tlearn: 0.2383179\ttotal: 3.99s\tremaining: 3.1s\n",
      "563:\tlearn: 0.2382513\ttotal: 4s\tremaining: 3.09s\n",
      "564:\tlearn: 0.2381501\ttotal: 4.01s\tremaining: 3.08s\n",
      "565:\tlearn: 0.2380474\ttotal: 4.01s\tremaining: 3.08s\n",
      "566:\tlearn: 0.2379992\ttotal: 4.02s\tremaining: 3.07s\n",
      "567:\tlearn: 0.2378554\ttotal: 4.02s\tremaining: 3.06s\n",
      "568:\tlearn: 0.2377765\ttotal: 4.03s\tremaining: 3.05s\n",
      "569:\tlearn: 0.2377130\ttotal: 4.04s\tremaining: 3.04s\n",
      "570:\tlearn: 0.2375762\ttotal: 4.04s\tremaining: 3.04s\n",
      "571:\tlearn: 0.2374805\ttotal: 4.05s\tremaining: 3.03s\n",
      "572:\tlearn: 0.2372954\ttotal: 4.06s\tremaining: 3.02s\n",
      "573:\tlearn: 0.2371217\ttotal: 4.06s\tremaining: 3.02s\n",
      "574:\tlearn: 0.2370893\ttotal: 4.07s\tremaining: 3.01s\n",
      "575:\tlearn: 0.2370205\ttotal: 4.08s\tremaining: 3s\n",
      "576:\tlearn: 0.2369667\ttotal: 4.09s\tremaining: 3s\n",
      "577:\tlearn: 0.2368669\ttotal: 4.09s\tremaining: 2.99s\n",
      "578:\tlearn: 0.2367854\ttotal: 4.1s\tremaining: 2.98s\n",
      "579:\tlearn: 0.2367309\ttotal: 4.11s\tremaining: 2.98s\n",
      "580:\tlearn: 0.2366512\ttotal: 4.12s\tremaining: 2.97s\n",
      "581:\tlearn: 0.2365702\ttotal: 4.13s\tremaining: 2.96s\n",
      "582:\tlearn: 0.2364278\ttotal: 4.13s\tremaining: 2.96s\n",
      "583:\tlearn: 0.2363423\ttotal: 4.14s\tremaining: 2.95s\n",
      "584:\tlearn: 0.2362699\ttotal: 4.15s\tremaining: 2.95s\n",
      "585:\tlearn: 0.2361626\ttotal: 4.16s\tremaining: 2.94s\n",
      "586:\tlearn: 0.2360813\ttotal: 4.17s\tremaining: 2.93s\n",
      "587:\tlearn: 0.2360155\ttotal: 4.17s\tremaining: 2.92s\n",
      "588:\tlearn: 0.2359464\ttotal: 4.18s\tremaining: 2.92s\n",
      "589:\tlearn: 0.2359037\ttotal: 4.19s\tremaining: 2.91s\n",
      "590:\tlearn: 0.2358106\ttotal: 4.19s\tremaining: 2.9s\n",
      "591:\tlearn: 0.2357496\ttotal: 4.2s\tremaining: 2.9s\n",
      "592:\tlearn: 0.2356801\ttotal: 4.21s\tremaining: 2.89s\n",
      "593:\tlearn: 0.2356089\ttotal: 4.21s\tremaining: 2.88s\n",
      "594:\tlearn: 0.2355412\ttotal: 4.22s\tremaining: 2.87s\n",
      "595:\tlearn: 0.2354979\ttotal: 4.22s\tremaining: 2.86s\n",
      "596:\tlearn: 0.2354221\ttotal: 4.23s\tremaining: 2.85s\n",
      "597:\tlearn: 0.2353800\ttotal: 4.24s\tremaining: 2.85s\n",
      "598:\tlearn: 0.2353417\ttotal: 4.24s\tremaining: 2.84s\n",
      "599:\tlearn: 0.2352764\ttotal: 4.25s\tremaining: 2.83s\n",
      "600:\tlearn: 0.2350945\ttotal: 4.26s\tremaining: 2.83s\n",
      "601:\tlearn: 0.2350112\ttotal: 4.26s\tremaining: 2.82s\n",
      "602:\tlearn: 0.2349877\ttotal: 4.27s\tremaining: 2.81s\n",
      "603:\tlearn: 0.2348827\ttotal: 4.28s\tremaining: 2.81s\n",
      "604:\tlearn: 0.2347716\ttotal: 4.29s\tremaining: 2.8s\n",
      "605:\tlearn: 0.2347151\ttotal: 4.31s\tremaining: 2.81s\n",
      "606:\tlearn: 0.2346515\ttotal: 4.34s\tremaining: 2.81s\n",
      "607:\tlearn: 0.2345742\ttotal: 4.35s\tremaining: 2.81s\n",
      "608:\tlearn: 0.2344276\ttotal: 4.36s\tremaining: 2.8s\n",
      "609:\tlearn: 0.2343130\ttotal: 4.37s\tremaining: 2.8s\n",
      "610:\tlearn: 0.2342229\ttotal: 4.38s\tremaining: 2.79s\n",
      "611:\tlearn: 0.2341337\ttotal: 4.39s\tremaining: 2.79s\n",
      "612:\tlearn: 0.2340753\ttotal: 4.4s\tremaining: 2.78s\n",
      "613:\tlearn: 0.2340325\ttotal: 4.41s\tremaining: 2.77s\n",
      "614:\tlearn: 0.2339705\ttotal: 4.42s\tremaining: 2.77s\n",
      "615:\tlearn: 0.2338996\ttotal: 4.43s\tremaining: 2.76s\n",
      "616:\tlearn: 0.2338412\ttotal: 4.44s\tremaining: 2.76s\n",
      "617:\tlearn: 0.2336208\ttotal: 4.45s\tremaining: 2.75s\n",
      "618:\tlearn: 0.2335387\ttotal: 4.46s\tremaining: 2.75s\n",
      "619:\tlearn: 0.2334162\ttotal: 4.47s\tremaining: 2.74s\n",
      "620:\tlearn: 0.2333647\ttotal: 4.48s\tremaining: 2.73s\n",
      "621:\tlearn: 0.2333034\ttotal: 4.49s\tremaining: 2.73s\n",
      "622:\tlearn: 0.2332627\ttotal: 4.5s\tremaining: 2.72s\n",
      "623:\tlearn: 0.2331830\ttotal: 4.51s\tremaining: 2.72s\n",
      "624:\tlearn: 0.2330799\ttotal: 4.52s\tremaining: 2.71s\n",
      "625:\tlearn: 0.2330330\ttotal: 4.53s\tremaining: 2.71s\n",
      "626:\tlearn: 0.2329752\ttotal: 4.54s\tremaining: 2.7s\n",
      "627:\tlearn: 0.2328978\ttotal: 4.55s\tremaining: 2.7s\n",
      "628:\tlearn: 0.2328089\ttotal: 4.57s\tremaining: 2.69s\n",
      "629:\tlearn: 0.2327412\ttotal: 4.58s\tremaining: 2.69s\n",
      "630:\tlearn: 0.2326069\ttotal: 4.6s\tremaining: 2.69s\n",
      "631:\tlearn: 0.2324616\ttotal: 4.61s\tremaining: 2.69s\n",
      "632:\tlearn: 0.2323815\ttotal: 4.63s\tremaining: 2.68s\n",
      "633:\tlearn: 0.2322919\ttotal: 4.65s\tremaining: 2.69s\n",
      "634:\tlearn: 0.2322129\ttotal: 4.66s\tremaining: 2.68s\n",
      "635:\tlearn: 0.2321537\ttotal: 4.67s\tremaining: 2.67s\n",
      "636:\tlearn: 0.2320651\ttotal: 4.68s\tremaining: 2.67s\n",
      "637:\tlearn: 0.2319995\ttotal: 4.69s\tremaining: 2.66s\n",
      "638:\tlearn: 0.2319300\ttotal: 4.7s\tremaining: 2.65s\n",
      "639:\tlearn: 0.2318925\ttotal: 4.71s\tremaining: 2.65s\n",
      "640:\tlearn: 0.2318279\ttotal: 4.72s\tremaining: 2.64s\n",
      "641:\tlearn: 0.2317386\ttotal: 4.73s\tremaining: 2.64s\n",
      "642:\tlearn: 0.2316558\ttotal: 4.74s\tremaining: 2.63s\n",
      "643:\tlearn: 0.2316186\ttotal: 4.75s\tremaining: 2.63s\n",
      "644:\tlearn: 0.2315567\ttotal: 4.76s\tremaining: 2.62s\n",
      "645:\tlearn: 0.2314088\ttotal: 4.77s\tremaining: 2.61s\n",
      "646:\tlearn: 0.2313137\ttotal: 4.78s\tremaining: 2.61s\n",
      "647:\tlearn: 0.2312299\ttotal: 4.79s\tremaining: 2.6s\n",
      "648:\tlearn: 0.2311670\ttotal: 4.79s\tremaining: 2.59s\n",
      "649:\tlearn: 0.2310957\ttotal: 4.8s\tremaining: 2.58s\n",
      "650:\tlearn: 0.2309405\ttotal: 4.81s\tremaining: 2.58s\n",
      "651:\tlearn: 0.2308464\ttotal: 4.82s\tremaining: 2.57s\n"
     ]
    },
    {
     "name": "stdout",
     "output_type": "stream",
     "text": [
      "652:\tlearn: 0.2307896\ttotal: 4.82s\tremaining: 2.56s\n",
      "653:\tlearn: 0.2307295\ttotal: 4.83s\tremaining: 2.56s\n",
      "654:\tlearn: 0.2306843\ttotal: 4.84s\tremaining: 2.55s\n",
      "655:\tlearn: 0.2306318\ttotal: 4.84s\tremaining: 2.54s\n",
      "656:\tlearn: 0.2305759\ttotal: 4.85s\tremaining: 2.53s\n",
      "657:\tlearn: 0.2304884\ttotal: 4.86s\tremaining: 2.52s\n",
      "658:\tlearn: 0.2303596\ttotal: 4.86s\tremaining: 2.52s\n",
      "659:\tlearn: 0.2302658\ttotal: 4.87s\tremaining: 2.51s\n",
      "660:\tlearn: 0.2302062\ttotal: 4.87s\tremaining: 2.5s\n",
      "661:\tlearn: 0.2301608\ttotal: 4.88s\tremaining: 2.49s\n",
      "662:\tlearn: 0.2301200\ttotal: 4.89s\tremaining: 2.48s\n",
      "663:\tlearn: 0.2300611\ttotal: 4.89s\tremaining: 2.48s\n",
      "664:\tlearn: 0.2300141\ttotal: 4.9s\tremaining: 2.47s\n",
      "665:\tlearn: 0.2299809\ttotal: 4.9s\tremaining: 2.46s\n",
      "666:\tlearn: 0.2299180\ttotal: 4.91s\tremaining: 2.45s\n",
      "667:\tlearn: 0.2297785\ttotal: 4.92s\tremaining: 2.44s\n",
      "668:\tlearn: 0.2295951\ttotal: 4.92s\tremaining: 2.44s\n",
      "669:\tlearn: 0.2294818\ttotal: 4.93s\tremaining: 2.43s\n",
      "670:\tlearn: 0.2294095\ttotal: 4.94s\tremaining: 2.42s\n",
      "671:\tlearn: 0.2293429\ttotal: 4.94s\tremaining: 2.41s\n",
      "672:\tlearn: 0.2292929\ttotal: 4.95s\tremaining: 2.4s\n",
      "673:\tlearn: 0.2292117\ttotal: 4.96s\tremaining: 2.4s\n",
      "674:\tlearn: 0.2291396\ttotal: 4.96s\tremaining: 2.39s\n",
      "675:\tlearn: 0.2291016\ttotal: 4.97s\tremaining: 2.38s\n",
      "676:\tlearn: 0.2290422\ttotal: 4.97s\tremaining: 2.37s\n",
      "677:\tlearn: 0.2289841\ttotal: 4.98s\tremaining: 2.37s\n",
      "678:\tlearn: 0.2289293\ttotal: 4.99s\tremaining: 2.36s\n",
      "679:\tlearn: 0.2288888\ttotal: 4.99s\tremaining: 2.35s\n",
      "680:\tlearn: 0.2288012\ttotal: 5s\tremaining: 2.34s\n",
      "681:\tlearn: 0.2286318\ttotal: 5s\tremaining: 2.33s\n",
      "682:\tlearn: 0.2285243\ttotal: 5.01s\tremaining: 2.33s\n",
      "683:\tlearn: 0.2284786\ttotal: 5.02s\tremaining: 2.32s\n",
      "684:\tlearn: 0.2283690\ttotal: 5.02s\tremaining: 2.31s\n",
      "685:\tlearn: 0.2283197\ttotal: 5.03s\tremaining: 2.3s\n",
      "686:\tlearn: 0.2282762\ttotal: 5.03s\tremaining: 2.29s\n",
      "687:\tlearn: 0.2282303\ttotal: 5.04s\tremaining: 2.29s\n",
      "688:\tlearn: 0.2281826\ttotal: 5.05s\tremaining: 2.28s\n",
      "689:\tlearn: 0.2280422\ttotal: 5.06s\tremaining: 2.27s\n",
      "690:\tlearn: 0.2279589\ttotal: 5.07s\tremaining: 2.27s\n",
      "691:\tlearn: 0.2279068\ttotal: 5.07s\tremaining: 2.26s\n",
      "692:\tlearn: 0.2278543\ttotal: 5.08s\tremaining: 2.25s\n",
      "693:\tlearn: 0.2277641\ttotal: 5.09s\tremaining: 2.24s\n",
      "694:\tlearn: 0.2277384\ttotal: 5.09s\tremaining: 2.23s\n",
      "695:\tlearn: 0.2276892\ttotal: 5.1s\tremaining: 2.23s\n",
      "696:\tlearn: 0.2276298\ttotal: 5.11s\tremaining: 2.22s\n",
      "697:\tlearn: 0.2275905\ttotal: 5.12s\tremaining: 2.21s\n",
      "698:\tlearn: 0.2275036\ttotal: 5.13s\tremaining: 2.21s\n",
      "699:\tlearn: 0.2274499\ttotal: 5.13s\tremaining: 2.2s\n",
      "700:\tlearn: 0.2274174\ttotal: 5.14s\tremaining: 2.19s\n",
      "701:\tlearn: 0.2273294\ttotal: 5.15s\tremaining: 2.19s\n",
      "702:\tlearn: 0.2272735\ttotal: 5.16s\tremaining: 2.18s\n",
      "703:\tlearn: 0.2272214\ttotal: 5.16s\tremaining: 2.17s\n",
      "704:\tlearn: 0.2271377\ttotal: 5.17s\tremaining: 2.16s\n",
      "705:\tlearn: 0.2270883\ttotal: 5.18s\tremaining: 2.16s\n",
      "706:\tlearn: 0.2270319\ttotal: 5.18s\tremaining: 2.15s\n",
      "707:\tlearn: 0.2269798\ttotal: 5.19s\tremaining: 2.14s\n",
      "708:\tlearn: 0.2269391\ttotal: 5.2s\tremaining: 2.13s\n",
      "709:\tlearn: 0.2268717\ttotal: 5.2s\tremaining: 2.13s\n",
      "710:\tlearn: 0.2267730\ttotal: 5.21s\tremaining: 2.12s\n",
      "711:\tlearn: 0.2267155\ttotal: 5.22s\tremaining: 2.11s\n",
      "712:\tlearn: 0.2266545\ttotal: 5.22s\tremaining: 2.1s\n",
      "713:\tlearn: 0.2266096\ttotal: 5.23s\tremaining: 2.09s\n",
      "714:\tlearn: 0.2265492\ttotal: 5.24s\tremaining: 2.09s\n",
      "715:\tlearn: 0.2264516\ttotal: 5.24s\tremaining: 2.08s\n",
      "716:\tlearn: 0.2264208\ttotal: 5.25s\tremaining: 2.07s\n",
      "717:\tlearn: 0.2263380\ttotal: 5.25s\tremaining: 2.06s\n",
      "718:\tlearn: 0.2263203\ttotal: 5.26s\tremaining: 2.06s\n",
      "719:\tlearn: 0.2262753\ttotal: 5.27s\tremaining: 2.05s\n",
      "720:\tlearn: 0.2262511\ttotal: 5.27s\tremaining: 2.04s\n",
      "721:\tlearn: 0.2262170\ttotal: 5.28s\tremaining: 2.03s\n",
      "722:\tlearn: 0.2261901\ttotal: 5.29s\tremaining: 2.03s\n",
      "723:\tlearn: 0.2261518\ttotal: 5.3s\tremaining: 2.02s\n",
      "724:\tlearn: 0.2260648\ttotal: 5.31s\tremaining: 2.01s\n",
      "725:\tlearn: 0.2260027\ttotal: 5.32s\tremaining: 2.01s\n",
      "726:\tlearn: 0.2259263\ttotal: 5.32s\tremaining: 2s\n",
      "727:\tlearn: 0.2258873\ttotal: 5.33s\tremaining: 1.99s\n",
      "728:\tlearn: 0.2258252\ttotal: 5.34s\tremaining: 1.98s\n",
      "729:\tlearn: 0.2257899\ttotal: 5.35s\tremaining: 1.98s\n",
      "730:\tlearn: 0.2256965\ttotal: 5.35s\tremaining: 1.97s\n",
      "731:\tlearn: 0.2256225\ttotal: 5.36s\tremaining: 1.96s\n",
      "732:\tlearn: 0.2255608\ttotal: 5.37s\tremaining: 1.96s\n",
      "733:\tlearn: 0.2255079\ttotal: 5.38s\tremaining: 1.95s\n",
      "734:\tlearn: 0.2254482\ttotal: 5.38s\tremaining: 1.94s\n",
      "735:\tlearn: 0.2254055\ttotal: 5.39s\tremaining: 1.93s\n",
      "736:\tlearn: 0.2253207\ttotal: 5.4s\tremaining: 1.93s\n",
      "737:\tlearn: 0.2252987\ttotal: 5.4s\tremaining: 1.92s\n",
      "738:\tlearn: 0.2252082\ttotal: 5.41s\tremaining: 1.91s\n",
      "739:\tlearn: 0.2251779\ttotal: 5.42s\tremaining: 1.9s\n",
      "740:\tlearn: 0.2251354\ttotal: 5.42s\tremaining: 1.89s\n",
      "741:\tlearn: 0.2250490\ttotal: 5.43s\tremaining: 1.89s\n",
      "742:\tlearn: 0.2249563\ttotal: 5.43s\tremaining: 1.88s\n",
      "743:\tlearn: 0.2248193\ttotal: 5.44s\tremaining: 1.87s\n",
      "744:\tlearn: 0.2247645\ttotal: 5.45s\tremaining: 1.86s\n",
      "745:\tlearn: 0.2247301\ttotal: 5.45s\tremaining: 1.86s\n",
      "746:\tlearn: 0.2246716\ttotal: 5.46s\tremaining: 1.85s\n",
      "747:\tlearn: 0.2246174\ttotal: 5.46s\tremaining: 1.84s\n",
      "748:\tlearn: 0.2245325\ttotal: 5.47s\tremaining: 1.83s\n",
      "749:\tlearn: 0.2244598\ttotal: 5.48s\tremaining: 1.82s\n",
      "750:\tlearn: 0.2244050\ttotal: 5.48s\tremaining: 1.82s\n",
      "751:\tlearn: 0.2243387\ttotal: 5.49s\tremaining: 1.81s\n",
      "752:\tlearn: 0.2243033\ttotal: 5.5s\tremaining: 1.8s\n",
      "753:\tlearn: 0.2241772\ttotal: 5.5s\tremaining: 1.79s\n",
      "754:\tlearn: 0.2240966\ttotal: 5.51s\tremaining: 1.79s\n",
      "755:\tlearn: 0.2239975\ttotal: 5.51s\tremaining: 1.78s\n",
      "756:\tlearn: 0.2239589\ttotal: 5.52s\tremaining: 1.77s\n",
      "757:\tlearn: 0.2239094\ttotal: 5.53s\tremaining: 1.76s\n",
      "758:\tlearn: 0.2238634\ttotal: 5.53s\tremaining: 1.76s\n",
      "759:\tlearn: 0.2237936\ttotal: 5.54s\tremaining: 1.75s\n",
      "760:\tlearn: 0.2237356\ttotal: 5.55s\tremaining: 1.74s\n",
      "761:\tlearn: 0.2236889\ttotal: 5.55s\tremaining: 1.74s\n",
      "762:\tlearn: 0.2236767\ttotal: 5.56s\tremaining: 1.73s\n",
      "763:\tlearn: 0.2235847\ttotal: 5.57s\tremaining: 1.72s\n",
      "764:\tlearn: 0.2235620\ttotal: 5.58s\tremaining: 1.71s\n",
      "765:\tlearn: 0.2234784\ttotal: 5.59s\tremaining: 1.71s\n",
      "766:\tlearn: 0.2234488\ttotal: 5.59s\tremaining: 1.7s\n",
      "767:\tlearn: 0.2233847\ttotal: 5.6s\tremaining: 1.69s\n",
      "768:\tlearn: 0.2233263\ttotal: 5.61s\tremaining: 1.68s\n",
      "769:\tlearn: 0.2232801\ttotal: 5.62s\tremaining: 1.68s\n",
      "770:\tlearn: 0.2232298\ttotal: 5.63s\tremaining: 1.67s\n",
      "771:\tlearn: 0.2231793\ttotal: 5.63s\tremaining: 1.66s\n",
      "772:\tlearn: 0.2231656\ttotal: 5.64s\tremaining: 1.66s\n",
      "773:\tlearn: 0.2231100\ttotal: 5.65s\tremaining: 1.65s\n",
      "774:\tlearn: 0.2230500\ttotal: 5.65s\tremaining: 1.64s\n",
      "775:\tlearn: 0.2230018\ttotal: 5.66s\tremaining: 1.63s\n",
      "776:\tlearn: 0.2229600\ttotal: 5.67s\tremaining: 1.63s\n",
      "777:\tlearn: 0.2229080\ttotal: 5.67s\tremaining: 1.62s\n",
      "778:\tlearn: 0.2228587\ttotal: 5.68s\tremaining: 1.61s\n",
      "779:\tlearn: 0.2228204\ttotal: 5.69s\tremaining: 1.6s\n",
      "780:\tlearn: 0.2227727\ttotal: 5.69s\tremaining: 1.6s\n",
      "781:\tlearn: 0.2226870\ttotal: 5.7s\tremaining: 1.59s\n",
      "782:\tlearn: 0.2226252\ttotal: 5.7s\tremaining: 1.58s\n",
      "783:\tlearn: 0.2225605\ttotal: 5.71s\tremaining: 1.57s\n",
      "784:\tlearn: 0.2224961\ttotal: 5.72s\tremaining: 1.56s\n",
      "785:\tlearn: 0.2224630\ttotal: 5.72s\tremaining: 1.56s\n",
      "786:\tlearn: 0.2223671\ttotal: 5.73s\tremaining: 1.55s\n",
      "787:\tlearn: 0.2223063\ttotal: 5.74s\tremaining: 1.54s\n",
      "788:\tlearn: 0.2222683\ttotal: 5.74s\tremaining: 1.53s\n",
      "789:\tlearn: 0.2222342\ttotal: 5.75s\tremaining: 1.53s\n",
      "790:\tlearn: 0.2221345\ttotal: 5.76s\tremaining: 1.52s\n",
      "791:\tlearn: 0.2220947\ttotal: 5.76s\tremaining: 1.51s\n",
      "792:\tlearn: 0.2220442\ttotal: 5.77s\tremaining: 1.51s\n",
      "793:\tlearn: 0.2219984\ttotal: 5.78s\tremaining: 1.5s\n",
      "794:\tlearn: 0.2219560\ttotal: 5.79s\tremaining: 1.49s\n",
      "795:\tlearn: 0.2218787\ttotal: 5.79s\tremaining: 1.49s\n",
      "796:\tlearn: 0.2218248\ttotal: 5.8s\tremaining: 1.48s\n",
      "797:\tlearn: 0.2217736\ttotal: 5.81s\tremaining: 1.47s\n",
      "798:\tlearn: 0.2217124\ttotal: 5.82s\tremaining: 1.46s\n",
      "799:\tlearn: 0.2216680\ttotal: 5.83s\tremaining: 1.46s\n",
      "800:\tlearn: 0.2216212\ttotal: 5.83s\tremaining: 1.45s\n",
      "801:\tlearn: 0.2215723\ttotal: 5.84s\tremaining: 1.44s\n",
      "802:\tlearn: 0.2215257\ttotal: 5.85s\tremaining: 1.43s\n",
      "803:\tlearn: 0.2214800\ttotal: 5.85s\tremaining: 1.43s\n",
      "804:\tlearn: 0.2214176\ttotal: 5.86s\tremaining: 1.42s\n",
      "805:\tlearn: 0.2213857\ttotal: 5.86s\tremaining: 1.41s\n",
      "806:\tlearn: 0.2213401\ttotal: 5.87s\tremaining: 1.4s\n",
      "807:\tlearn: 0.2212933\ttotal: 5.88s\tremaining: 1.4s\n",
      "808:\tlearn: 0.2212604\ttotal: 5.88s\tremaining: 1.39s\n",
      "809:\tlearn: 0.2212175\ttotal: 5.89s\tremaining: 1.38s\n",
      "810:\tlearn: 0.2211331\ttotal: 5.9s\tremaining: 1.37s\n",
      "811:\tlearn: 0.2210339\ttotal: 5.9s\tremaining: 1.37s\n"
     ]
    },
    {
     "name": "stdout",
     "output_type": "stream",
     "text": [
      "812:\tlearn: 0.2209938\ttotal: 5.91s\tremaining: 1.36s\n",
      "813:\tlearn: 0.2209583\ttotal: 5.92s\tremaining: 1.35s\n",
      "814:\tlearn: 0.2208865\ttotal: 5.92s\tremaining: 1.34s\n",
      "815:\tlearn: 0.2208324\ttotal: 5.93s\tremaining: 1.34s\n",
      "816:\tlearn: 0.2207594\ttotal: 5.94s\tremaining: 1.33s\n",
      "817:\tlearn: 0.2207305\ttotal: 5.94s\tremaining: 1.32s\n",
      "818:\tlearn: 0.2206765\ttotal: 5.95s\tremaining: 1.31s\n",
      "819:\tlearn: 0.2206287\ttotal: 5.95s\tremaining: 1.31s\n",
      "820:\tlearn: 0.2205944\ttotal: 5.96s\tremaining: 1.3s\n",
      "821:\tlearn: 0.2205582\ttotal: 5.96s\tremaining: 1.29s\n",
      "822:\tlearn: 0.2204997\ttotal: 5.97s\tremaining: 1.28s\n",
      "823:\tlearn: 0.2204640\ttotal: 5.98s\tremaining: 1.28s\n",
      "824:\tlearn: 0.2204175\ttotal: 5.98s\tremaining: 1.27s\n",
      "825:\tlearn: 0.2204046\ttotal: 5.99s\tremaining: 1.26s\n",
      "826:\tlearn: 0.2203665\ttotal: 5.99s\tremaining: 1.25s\n",
      "827:\tlearn: 0.2203167\ttotal: 6s\tremaining: 1.25s\n",
      "828:\tlearn: 0.2202427\ttotal: 6.01s\tremaining: 1.24s\n",
      "829:\tlearn: 0.2201240\ttotal: 6.01s\tremaining: 1.23s\n",
      "830:\tlearn: 0.2200795\ttotal: 6.02s\tremaining: 1.22s\n",
      "831:\tlearn: 0.2200297\ttotal: 6.03s\tremaining: 1.22s\n",
      "832:\tlearn: 0.2199771\ttotal: 6.03s\tremaining: 1.21s\n",
      "833:\tlearn: 0.2198662\ttotal: 6.04s\tremaining: 1.2s\n",
      "834:\tlearn: 0.2198016\ttotal: 6.05s\tremaining: 1.2s\n",
      "835:\tlearn: 0.2197396\ttotal: 6.05s\tremaining: 1.19s\n",
      "836:\tlearn: 0.2197132\ttotal: 6.06s\tremaining: 1.18s\n",
      "837:\tlearn: 0.2196599\ttotal: 6.07s\tremaining: 1.17s\n",
      "838:\tlearn: 0.2196192\ttotal: 6.08s\tremaining: 1.17s\n",
      "839:\tlearn: 0.2195900\ttotal: 6.08s\tremaining: 1.16s\n",
      "840:\tlearn: 0.2195321\ttotal: 6.09s\tremaining: 1.15s\n",
      "841:\tlearn: 0.2194858\ttotal: 6.1s\tremaining: 1.14s\n",
      "842:\tlearn: 0.2193965\ttotal: 6.11s\tremaining: 1.14s\n",
      "843:\tlearn: 0.2193575\ttotal: 6.11s\tremaining: 1.13s\n",
      "844:\tlearn: 0.2192940\ttotal: 6.12s\tremaining: 1.12s\n",
      "845:\tlearn: 0.2192389\ttotal: 6.13s\tremaining: 1.11s\n",
      "846:\tlearn: 0.2191863\ttotal: 6.13s\tremaining: 1.11s\n",
      "847:\tlearn: 0.2191418\ttotal: 6.14s\tremaining: 1.1s\n",
      "848:\tlearn: 0.2191049\ttotal: 6.14s\tremaining: 1.09s\n",
      "849:\tlearn: 0.2190545\ttotal: 6.15s\tremaining: 1.08s\n",
      "850:\tlearn: 0.2189820\ttotal: 6.16s\tremaining: 1.08s\n",
      "851:\tlearn: 0.2189643\ttotal: 6.16s\tremaining: 1.07s\n",
      "852:\tlearn: 0.2188870\ttotal: 6.17s\tremaining: 1.06s\n",
      "853:\tlearn: 0.2188214\ttotal: 6.17s\tremaining: 1.05s\n",
      "854:\tlearn: 0.2187858\ttotal: 6.18s\tremaining: 1.05s\n",
      "855:\tlearn: 0.2187339\ttotal: 6.19s\tremaining: 1.04s\n",
      "856:\tlearn: 0.2186712\ttotal: 6.2s\tremaining: 1.03s\n",
      "857:\tlearn: 0.2186244\ttotal: 6.21s\tremaining: 1.03s\n",
      "858:\tlearn: 0.2185902\ttotal: 6.22s\tremaining: 1.02s\n",
      "859:\tlearn: 0.2185357\ttotal: 6.23s\tremaining: 1.01s\n",
      "860:\tlearn: 0.2184341\ttotal: 6.24s\tremaining: 1.01s\n",
      "861:\tlearn: 0.2184002\ttotal: 6.25s\tremaining: 1s\n",
      "862:\tlearn: 0.2183308\ttotal: 6.26s\tremaining: 993ms\n",
      "863:\tlearn: 0.2182761\ttotal: 6.27s\tremaining: 987ms\n",
      "864:\tlearn: 0.2181977\ttotal: 6.28s\tremaining: 980ms\n",
      "865:\tlearn: 0.2181667\ttotal: 6.29s\tremaining: 973ms\n",
      "866:\tlearn: 0.2180941\ttotal: 6.3s\tremaining: 966ms\n",
      "867:\tlearn: 0.2180475\ttotal: 6.31s\tremaining: 959ms\n",
      "868:\tlearn: 0.2180349\ttotal: 6.32s\tremaining: 952ms\n",
      "869:\tlearn: 0.2179750\ttotal: 6.33s\tremaining: 945ms\n",
      "870:\tlearn: 0.2179384\ttotal: 6.33s\tremaining: 938ms\n",
      "871:\tlearn: 0.2178935\ttotal: 6.34s\tremaining: 931ms\n",
      "872:\tlearn: 0.2178519\ttotal: 6.35s\tremaining: 924ms\n",
      "873:\tlearn: 0.2178003\ttotal: 6.36s\tremaining: 916ms\n",
      "874:\tlearn: 0.2177494\ttotal: 6.36s\tremaining: 909ms\n",
      "875:\tlearn: 0.2177099\ttotal: 6.37s\tremaining: 902ms\n",
      "876:\tlearn: 0.2176168\ttotal: 6.38s\tremaining: 895ms\n",
      "877:\tlearn: 0.2175697\ttotal: 6.38s\tremaining: 887ms\n",
      "878:\tlearn: 0.2175265\ttotal: 6.39s\tremaining: 880ms\n",
      "879:\tlearn: 0.2175045\ttotal: 6.4s\tremaining: 873ms\n",
      "880:\tlearn: 0.2174164\ttotal: 6.41s\tremaining: 865ms\n",
      "881:\tlearn: 0.2173892\ttotal: 6.42s\tremaining: 858ms\n",
      "882:\tlearn: 0.2173375\ttotal: 6.42s\tremaining: 851ms\n",
      "883:\tlearn: 0.2172617\ttotal: 6.43s\tremaining: 844ms\n",
      "884:\tlearn: 0.2171671\ttotal: 6.44s\tremaining: 837ms\n",
      "885:\tlearn: 0.2171130\ttotal: 6.45s\tremaining: 829ms\n",
      "886:\tlearn: 0.2170656\ttotal: 6.45s\tremaining: 822ms\n",
      "887:\tlearn: 0.2170126\ttotal: 6.46s\tremaining: 815ms\n",
      "888:\tlearn: 0.2169704\ttotal: 6.47s\tremaining: 808ms\n",
      "889:\tlearn: 0.2169033\ttotal: 6.48s\tremaining: 801ms\n",
      "890:\tlearn: 0.2168584\ttotal: 6.48s\tremaining: 793ms\n",
      "891:\tlearn: 0.2168254\ttotal: 6.49s\tremaining: 786ms\n",
      "892:\tlearn: 0.2168023\ttotal: 6.5s\tremaining: 779ms\n",
      "893:\tlearn: 0.2167066\ttotal: 6.5s\tremaining: 771ms\n",
      "894:\tlearn: 0.2166667\ttotal: 6.51s\tremaining: 764ms\n",
      "895:\tlearn: 0.2166278\ttotal: 6.52s\tremaining: 757ms\n",
      "896:\tlearn: 0.2165755\ttotal: 6.53s\tremaining: 750ms\n",
      "897:\tlearn: 0.2165436\ttotal: 6.54s\tremaining: 743ms\n",
      "898:\tlearn: 0.2165146\ttotal: 6.55s\tremaining: 736ms\n",
      "899:\tlearn: 0.2163693\ttotal: 6.56s\tremaining: 729ms\n",
      "900:\tlearn: 0.2162991\ttotal: 6.57s\tremaining: 722ms\n",
      "901:\tlearn: 0.2162328\ttotal: 6.58s\tremaining: 715ms\n",
      "902:\tlearn: 0.2161483\ttotal: 6.59s\tremaining: 708ms\n",
      "903:\tlearn: 0.2160899\ttotal: 6.59s\tremaining: 700ms\n",
      "904:\tlearn: 0.2160505\ttotal: 6.6s\tremaining: 693ms\n",
      "905:\tlearn: 0.2159856\ttotal: 6.61s\tremaining: 686ms\n",
      "906:\tlearn: 0.2159455\ttotal: 6.62s\tremaining: 679ms\n",
      "907:\tlearn: 0.2159208\ttotal: 6.63s\tremaining: 672ms\n",
      "908:\tlearn: 0.2158677\ttotal: 6.64s\tremaining: 664ms\n",
      "909:\tlearn: 0.2158371\ttotal: 6.64s\tremaining: 657ms\n",
      "910:\tlearn: 0.2157879\ttotal: 6.65s\tremaining: 650ms\n",
      "911:\tlearn: 0.2157599\ttotal: 6.66s\tremaining: 642ms\n",
      "912:\tlearn: 0.2157234\ttotal: 6.66s\tremaining: 635ms\n",
      "913:\tlearn: 0.2156880\ttotal: 6.67s\tremaining: 628ms\n",
      "914:\tlearn: 0.2156368\ttotal: 6.67s\tremaining: 620ms\n",
      "915:\tlearn: 0.2155954\ttotal: 6.68s\tremaining: 613ms\n",
      "916:\tlearn: 0.2155622\ttotal: 6.69s\tremaining: 605ms\n",
      "917:\tlearn: 0.2155162\ttotal: 6.69s\tremaining: 598ms\n",
      "918:\tlearn: 0.2154352\ttotal: 6.7s\tremaining: 591ms\n",
      "919:\tlearn: 0.2153736\ttotal: 6.71s\tremaining: 583ms\n",
      "920:\tlearn: 0.2152689\ttotal: 6.71s\tremaining: 576ms\n",
      "921:\tlearn: 0.2152403\ttotal: 6.72s\tremaining: 568ms\n",
      "922:\tlearn: 0.2152270\ttotal: 6.72s\tremaining: 561ms\n",
      "923:\tlearn: 0.2151716\ttotal: 6.73s\tremaining: 553ms\n",
      "924:\tlearn: 0.2150954\ttotal: 6.74s\tremaining: 546ms\n",
      "925:\tlearn: 0.2150494\ttotal: 6.74s\tremaining: 539ms\n",
      "926:\tlearn: 0.2149950\ttotal: 6.75s\tremaining: 532ms\n",
      "927:\tlearn: 0.2149658\ttotal: 6.76s\tremaining: 524ms\n",
      "928:\tlearn: 0.2149032\ttotal: 6.76s\tremaining: 517ms\n",
      "929:\tlearn: 0.2148677\ttotal: 6.77s\tremaining: 510ms\n",
      "930:\tlearn: 0.2148268\ttotal: 6.78s\tremaining: 503ms\n",
      "931:\tlearn: 0.2148160\ttotal: 6.79s\tremaining: 495ms\n",
      "932:\tlearn: 0.2147539\ttotal: 6.8s\tremaining: 488ms\n",
      "933:\tlearn: 0.2146778\ttotal: 6.8s\tremaining: 481ms\n",
      "934:\tlearn: 0.2146578\ttotal: 6.81s\tremaining: 474ms\n",
      "935:\tlearn: 0.2146234\ttotal: 6.82s\tremaining: 466ms\n",
      "936:\tlearn: 0.2145928\ttotal: 6.83s\tremaining: 459ms\n",
      "937:\tlearn: 0.2145264\ttotal: 6.83s\tremaining: 452ms\n",
      "938:\tlearn: 0.2144797\ttotal: 6.84s\tremaining: 444ms\n",
      "939:\tlearn: 0.2144485\ttotal: 6.85s\tremaining: 437ms\n",
      "940:\tlearn: 0.2144216\ttotal: 6.85s\tremaining: 430ms\n",
      "941:\tlearn: 0.2143678\ttotal: 6.86s\tremaining: 422ms\n",
      "942:\tlearn: 0.2142953\ttotal: 6.86s\tremaining: 415ms\n",
      "943:\tlearn: 0.2142677\ttotal: 6.87s\tremaining: 408ms\n",
      "944:\tlearn: 0.2142148\ttotal: 6.88s\tremaining: 400ms\n",
      "945:\tlearn: 0.2141772\ttotal: 6.88s\tremaining: 393ms\n",
      "946:\tlearn: 0.2141600\ttotal: 6.89s\tremaining: 385ms\n",
      "947:\tlearn: 0.2141491\ttotal: 6.89s\tremaining: 378ms\n",
      "948:\tlearn: 0.2140806\ttotal: 6.9s\tremaining: 371ms\n",
      "949:\tlearn: 0.2140080\ttotal: 6.91s\tremaining: 363ms\n",
      "950:\tlearn: 0.2139393\ttotal: 6.91s\tremaining: 356ms\n",
      "951:\tlearn: 0.2138992\ttotal: 6.92s\tremaining: 349ms\n",
      "952:\tlearn: 0.2138291\ttotal: 6.92s\tremaining: 341ms\n",
      "953:\tlearn: 0.2137956\ttotal: 6.93s\tremaining: 334ms\n",
      "954:\tlearn: 0.2137402\ttotal: 6.93s\tremaining: 327ms\n",
      "955:\tlearn: 0.2136876\ttotal: 6.94s\tremaining: 319ms\n",
      "956:\tlearn: 0.2136328\ttotal: 6.95s\tremaining: 312ms\n",
      "957:\tlearn: 0.2135415\ttotal: 6.95s\tremaining: 305ms\n",
      "958:\tlearn: 0.2135219\ttotal: 6.96s\tremaining: 298ms\n",
      "959:\tlearn: 0.2134915\ttotal: 6.96s\tremaining: 290ms\n",
      "960:\tlearn: 0.2134457\ttotal: 6.97s\tremaining: 283ms\n",
      "961:\tlearn: 0.2133433\ttotal: 6.98s\tremaining: 276ms\n",
      "962:\tlearn: 0.2132925\ttotal: 6.99s\tremaining: 268ms\n",
      "963:\tlearn: 0.2132335\ttotal: 6.99s\tremaining: 261ms\n",
      "964:\tlearn: 0.2131761\ttotal: 7s\tremaining: 254ms\n",
      "965:\tlearn: 0.2131296\ttotal: 7.01s\tremaining: 247ms\n",
      "966:\tlearn: 0.2130608\ttotal: 7.01s\tremaining: 239ms\n",
      "967:\tlearn: 0.2130178\ttotal: 7.02s\tremaining: 232ms\n",
      "968:\tlearn: 0.2129739\ttotal: 7.03s\tremaining: 225ms\n",
      "969:\tlearn: 0.2129349\ttotal: 7.04s\tremaining: 218ms\n",
      "970:\tlearn: 0.2129094\ttotal: 7.05s\tremaining: 210ms\n",
      "971:\tlearn: 0.2128613\ttotal: 7.05s\tremaining: 203ms\n",
      "972:\tlearn: 0.2128180\ttotal: 7.06s\tremaining: 196ms\n",
      "973:\tlearn: 0.2127791\ttotal: 7.07s\tremaining: 189ms\n",
      "974:\tlearn: 0.2127488\ttotal: 7.07s\tremaining: 181ms\n",
      "975:\tlearn: 0.2127006\ttotal: 7.08s\tremaining: 174ms\n",
      "976:\tlearn: 0.2126658\ttotal: 7.09s\tremaining: 167ms\n",
      "977:\tlearn: 0.2126409\ttotal: 7.09s\tremaining: 160ms\n",
      "978:\tlearn: 0.2126082\ttotal: 7.1s\tremaining: 152ms\n",
      "979:\tlearn: 0.2125667\ttotal: 7.11s\tremaining: 145ms\n",
      "980:\tlearn: 0.2125474\ttotal: 7.12s\tremaining: 138ms\n",
      "981:\tlearn: 0.2125267\ttotal: 7.12s\tremaining: 131ms\n",
      "982:\tlearn: 0.2124925\ttotal: 7.13s\tremaining: 123ms\n",
      "983:\tlearn: 0.2124608\ttotal: 7.13s\tremaining: 116ms\n",
      "984:\tlearn: 0.2124027\ttotal: 7.14s\tremaining: 109ms\n",
      "985:\tlearn: 0.2123415\ttotal: 7.15s\tremaining: 101ms\n",
      "986:\tlearn: 0.2123085\ttotal: 7.15s\tremaining: 94.2ms\n",
      "987:\tlearn: 0.2122717\ttotal: 7.16s\tremaining: 86.9ms\n",
      "988:\tlearn: 0.2122483\ttotal: 7.16s\tremaining: 79.7ms\n"
     ]
    },
    {
     "name": "stdout",
     "output_type": "stream",
     "text": [
      "989:\tlearn: 0.2121901\ttotal: 7.17s\tremaining: 72.5ms\n",
      "990:\tlearn: 0.2121246\ttotal: 7.18s\tremaining: 65.2ms\n",
      "991:\tlearn: 0.2120963\ttotal: 7.19s\tremaining: 58ms\n",
      "992:\tlearn: 0.2120612\ttotal: 7.2s\tremaining: 50.8ms\n",
      "993:\tlearn: 0.2120183\ttotal: 7.21s\tremaining: 43.5ms\n",
      "994:\tlearn: 0.2119933\ttotal: 7.22s\tremaining: 36.3ms\n",
      "995:\tlearn: 0.2118583\ttotal: 7.23s\tremaining: 29ms\n",
      "996:\tlearn: 0.2118089\ttotal: 7.24s\tremaining: 21.8ms\n",
      "997:\tlearn: 0.2117437\ttotal: 7.24s\tremaining: 14.5ms\n",
      "998:\tlearn: 0.2117337\ttotal: 7.25s\tremaining: 7.26ms\n",
      "999:\tlearn: 0.2116954\ttotal: 7.26s\tremaining: 0us\n"
     ]
    }
   ],
   "source": [
    "%%capture\n",
    "model = CatBoostRegressor()\n",
    "model.fit(x_train_20, y_train_20)"
   ]
  },
  {
   "cell_type": "code",
   "execution_count": 116,
   "id": "d76be8b6",
   "metadata": {},
   "outputs": [
    {
     "name": "stdout",
     "output_type": "stream",
     "text": [
      "0.10839687019405386\n"
     ]
    }
   ],
   "source": [
    "y_pred_20 = model.predict(x_test_20)\n",
    "# Calculation of Mean Squared Error (MSE)\n",
    "mse = mean_squared_error(y_test_20, y_pred_20)\n",
    "print(mse)"
   ]
  },
  {
   "cell_type": "code",
   "execution_count": 117,
   "id": "f663aab7",
   "metadata": {},
   "outputs": [
    {
     "name": "stdout",
     "output_type": "stream",
     "text": [
      "0.3967670830271859\n"
     ]
    }
   ],
   "source": [
    "acc = accuracy_threshold(y_test_20, y_pred_20, 0.1)\n",
    "print(acc)"
   ]
  },
  {
   "cell_type": "code",
   "execution_count": 118,
   "id": "71f5ba51",
   "metadata": {},
   "outputs": [
    {
     "name": "stdout",
     "output_type": "stream",
     "text": [
      "Median Absolute Error:\n",
      "\n",
      "0.13552741044667016\n"
     ]
    }
   ],
   "source": [
    "median_se = np.square(np.subtract(y_test_20, y_pred_20)).median() \n",
    " \n",
    "med = math.sqrt(median_se)\n",
    "print(\"Median Absolute Error:\\n\")\n",
    "print(med)"
   ]
  },
  {
   "cell_type": "code",
   "execution_count": 119,
   "id": "0df8593f",
   "metadata": {},
   "outputs": [
    {
     "name": "stdout",
     "output_type": "stream",
     "text": [
      "Root Mean Square Error:\n",
      "\n",
      "0.32923679957449187\n"
     ]
    }
   ],
   "source": [
    "mean = np.square(np.subtract(y_test_20, y_pred_20)).mean() \n",
    " \n",
    "mean = math.sqrt(mean)\n",
    "print(\"Root Mean Square Error:\\n\")\n",
    "print(mean)"
   ]
  },
  {
   "cell_type": "code",
   "execution_count": 120,
   "id": "806840da",
   "metadata": {},
   "outputs": [
    {
     "name": "stdout",
     "output_type": "stream",
     "text": [
      "MAPE for CatBoost 2020 is: 0.01636222776364182\n"
     ]
    }
   ],
   "source": [
    "mape = mean_absolute_percentage_error(y_test_20, y_pred_20)\n",
    "print(\"MAPE for CatBoost 2020 is: \" + str(mape))"
   ]
  },
  {
   "cell_type": "code",
   "execution_count": 121,
   "id": "0d585c1e",
   "metadata": {},
   "outputs": [],
   "source": [
    "cnames=['Algorithm', 'Year', 'RMSE', 'MSE', 'MEDAE', 'Accuracy', 'MAPE']\n",
    "df2 = pd.DataFrame(columns=cnames)\n",
    "\n",
    "df2 = df2.append({'Algorithm': 'CatBoost',\n",
    "            'Year': 2020,\n",
    "           'RMSE': mean,\n",
    "           'MSE': mse,\n",
    "           'MEDAE': med,\n",
    "           'Accuracy': acc,\n",
    "           'MAPE': mape       \n",
    "          }, ignore_index=True)"
   ]
  },
  {
   "cell_type": "markdown",
   "id": "9e1bd141",
   "metadata": {},
   "source": [
    "### Bayesian Ridge"
   ]
  },
  {
   "cell_type": "markdown",
   "id": "1421f212",
   "metadata": {},
   "source": [
    "#### 2021"
   ]
  },
  {
   "cell_type": "code",
   "execution_count": 122,
   "id": "35158c1f",
   "metadata": {},
   "outputs": [],
   "source": [
    "from sklearn.linear_model import BayesianRidge, LinearRegression"
   ]
  },
  {
   "cell_type": "code",
   "execution_count": 123,
   "id": "00491334",
   "metadata": {},
   "outputs": [
    {
     "data": {
      "text/plain": [
       "BayesianRidge()"
      ]
     },
     "execution_count": 123,
     "metadata": {},
     "output_type": "execute_result"
    }
   ],
   "source": [
    "clf = BayesianRidge()\n",
    "clf.fit(x_train_21, y_train_21)"
   ]
  },
  {
   "cell_type": "code",
   "execution_count": 124,
   "id": "1380ed38",
   "metadata": {},
   "outputs": [
    {
     "name": "stdout",
     "output_type": "stream",
     "text": [
      "0.12166832112370782\n"
     ]
    }
   ],
   "source": [
    "y_pred_21 = clf.predict(x_test_21)\n",
    "# Calculation of Mean Squared Error (MSE)\n",
    "mse = mean_squared_error(y_test_21, y_pred_21)\n",
    "print(mse)"
   ]
  },
  {
   "cell_type": "code",
   "execution_count": 125,
   "id": "3a48b954",
   "metadata": {},
   "outputs": [
    {
     "name": "stdout",
     "output_type": "stream",
     "text": [
      "0.3315713599231139\n"
     ]
    }
   ],
   "source": [
    "acc = accuracy_threshold(y_test_21, y_pred_21, 0.1)\n",
    "print(acc)"
   ]
  },
  {
   "cell_type": "code",
   "execution_count": 126,
   "id": "e38bd984",
   "metadata": {},
   "outputs": [
    {
     "name": "stdout",
     "output_type": "stream",
     "text": [
      "Median Absolute Error:\n",
      "\n",
      "0.16222067306510035\n"
     ]
    }
   ],
   "source": [
    "median_se = np.square(np.subtract(y_test_21, y_pred_21)).median() \n",
    " \n",
    "med = math.sqrt(median_se)\n",
    "print(\"Median Absolute Error:\\n\")\n",
    "print(med)"
   ]
  },
  {
   "cell_type": "code",
   "execution_count": 127,
   "id": "5e38e2ed",
   "metadata": {},
   "outputs": [
    {
     "name": "stdout",
     "output_type": "stream",
     "text": [
      "Root Mean Square Error:\n",
      "\n",
      "0.34880986385666907\n"
     ]
    }
   ],
   "source": [
    "mean = np.square(np.subtract(y_test_21, y_pred_21)).mean() \n",
    " \n",
    "mean = math.sqrt(mean)\n",
    "print(\"Root Mean Square Error:\\n\")\n",
    "print(mean)"
   ]
  },
  {
   "cell_type": "code",
   "execution_count": 128,
   "id": "63f02c5c",
   "metadata": {},
   "outputs": [
    {
     "name": "stdout",
     "output_type": "stream",
     "text": [
      "MAPE for BayesianRidge 2021 is: 0.018530522910706178\n"
     ]
    }
   ],
   "source": [
    "mape = mean_absolute_percentage_error(y_test_21, y_pred_21)\n",
    "print(\"MAPE for BayesianRidge 2021 is: \" + str(mape))"
   ]
  },
  {
   "cell_type": "code",
   "execution_count": 129,
   "id": "9c1019b2",
   "metadata": {},
   "outputs": [],
   "source": [
    "cnames=['Algorithm', 'Year', 'RMSE', 'MSE', 'MEDAE', 'Accuracy', 'MAPE']\n",
    "df1 = pd.DataFrame(columns=cnames)\n",
    "\n",
    "df1 = df1.append({'Algorithm': 'Bayesian',\n",
    "            'Year': 2021,\n",
    "           'RMSE': mean,\n",
    "           'MSE': mse,\n",
    "           'MEDAE': med,\n",
    "           'Accuracy': acc,\n",
    "           'MAPE': mape       \n",
    "          }, ignore_index=True)"
   ]
  },
  {
   "cell_type": "markdown",
   "id": "bd4b02bb",
   "metadata": {},
   "source": [
    "#### 2020"
   ]
  },
  {
   "cell_type": "code",
   "execution_count": 130,
   "id": "583e22dc",
   "metadata": {},
   "outputs": [
    {
     "data": {
      "text/plain": [
       "BayesianRidge()"
      ]
     },
     "execution_count": 130,
     "metadata": {},
     "output_type": "execute_result"
    }
   ],
   "source": [
    "clf = BayesianRidge()\n",
    "clf.fit(x_train_20, y_train_20)"
   ]
  },
  {
   "cell_type": "code",
   "execution_count": 131,
   "id": "8db9cb3e",
   "metadata": {},
   "outputs": [
    {
     "name": "stdout",
     "output_type": "stream",
     "text": [
      "0.12598437427861336\n"
     ]
    }
   ],
   "source": [
    "y_pred_20 = clf.predict(x_test_20)\n",
    "# Calculation of Mean Squared Error (MSE)\n",
    "mse = mean_squared_error(y_test_20, y_pred_20)\n",
    "print(mse)"
   ]
  },
  {
   "cell_type": "code",
   "execution_count": 132,
   "id": "d52ba61f",
   "metadata": {},
   "outputs": [
    {
     "name": "stdout",
     "output_type": "stream",
     "text": [
      "0.3475385745775165\n"
     ]
    }
   ],
   "source": [
    "acc = accuracy_threshold(y_test_20, y_pred_20, 0.1)\n",
    "print(acc)"
   ]
  },
  {
   "cell_type": "code",
   "execution_count": 133,
   "id": "d4500d2d",
   "metadata": {},
   "outputs": [
    {
     "name": "stdout",
     "output_type": "stream",
     "text": [
      "Median Absolute Error:\n",
      "\n",
      "0.15567974128882334\n"
     ]
    }
   ],
   "source": [
    "median_se = np.square(np.subtract(y_test_20, y_pred_20)).median() \n",
    " \n",
    "med = math.sqrt(median_se)\n",
    "print(\"Median Absolute Error:\\n\")\n",
    "print(med)"
   ]
  },
  {
   "cell_type": "code",
   "execution_count": 134,
   "id": "ce5624d8",
   "metadata": {},
   "outputs": [
    {
     "name": "stdout",
     "output_type": "stream",
     "text": [
      "Root Mean Square Error:\n",
      "\n",
      "0.35494277606202046\n"
     ]
    }
   ],
   "source": [
    "mean = np.square(np.subtract(y_test_20, y_pred_20)).mean() \n",
    " \n",
    "mean = math.sqrt(mean)\n",
    "print(\"Root Mean Square Error:\\n\")\n",
    "print(mean)"
   ]
  },
  {
   "cell_type": "code",
   "execution_count": 135,
   "id": "47802a1e",
   "metadata": {},
   "outputs": [
    {
     "name": "stdout",
     "output_type": "stream",
     "text": [
      "MAPE for BayesianRidge 2021 is: 0.018623852583634824\n"
     ]
    }
   ],
   "source": [
    "mape = mean_absolute_percentage_error(y_test_20, y_pred_20)\n",
    "print(\"MAPE for BayesianRidge 2021 is: \" + str(mape))"
   ]
  },
  {
   "cell_type": "code",
   "execution_count": 136,
   "id": "8c6caf77",
   "metadata": {},
   "outputs": [],
   "source": [
    "cnames=['Algorithm', 'Year', 'RMSE', 'MSE', 'MEDAE', 'Accuracy', 'MAPE']\n",
    "df = pd.DataFrame(columns=cnames)\n",
    "\n",
    "df = df.append({'Algorithm': 'Bayesian',\n",
    "           'Year': 2020,\n",
    "           'RMSE': mean,\n",
    "           'MSE': mse,\n",
    "           'MEDAE': med,\n",
    "           'Accuracy': acc,\n",
    "           'MAPE': mape     \n",
    "          }, ignore_index=True)"
   ]
  },
  {
   "cell_type": "code",
   "execution_count": 137,
   "id": "001ed65f",
   "metadata": {},
   "outputs": [],
   "source": [
    "vis = pd.concat([df, df1, df2, df3, df4, df5, df6, df7, df8, df9, df10, df11], ignore_index=True)"
   ]
  },
  {
   "cell_type": "markdown",
   "id": "ebe84e60",
   "metadata": {},
   "source": [
    "## Let's test on more years of data now\n",
    "### 2019"
   ]
  },
  {
   "cell_type": "code",
   "execution_count": 138,
   "id": "a28e082d",
   "metadata": {},
   "outputs": [],
   "source": [
    "specific19 = irl[irl['Year'] > 2015]"
   ]
  },
  {
   "cell_type": "code",
   "execution_count": 139,
   "id": "8f1319f8",
   "metadata": {},
   "outputs": [],
   "source": [
    "test_19 = specific19[specific19['Year'] == 2019]\n",
    "train_19 = specific19[specific19['Year'] < 2019]"
   ]
  },
  {
   "cell_type": "code",
   "execution_count": 140,
   "id": "8417a368",
   "metadata": {},
   "outputs": [],
   "source": [
    "x_train_19 = train_19.loc[:, train_19.columns != 'PriceLog']\n",
    "y_train_19 = train_19['PriceLog']\n",
    "x_test_19 = test_19.loc[:, test_19.columns != 'PriceLog']\n",
    "y_test_19 = test_19['PriceLog']"
   ]
  },
  {
   "cell_type": "markdown",
   "id": "c3a2cce4",
   "metadata": {},
   "source": [
    "#### AutoML"
   ]
  },
  {
   "cell_type": "code",
   "execution_count": 141,
   "id": "4828a079",
   "metadata": {},
   "outputs": [
    {
     "name": "stdout",
     "output_type": "stream",
     "text": [
      "Linear algorithm was disabled.\n",
      "AutoML directory: AutoML_3\n",
      "The task is regression with evaluation metric rmse\n",
      "AutoML will use algorithms: ['Baseline', 'Decision Tree', 'Random Forest', 'Xgboost', 'Neural Network']\n",
      "AutoML will ensemble available models\n",
      "AutoML steps: ['simple_algorithms', 'default_algorithms', 'ensemble']\n",
      "* Step simple_algorithms will try to check up to 2 models\n",
      "1_Baseline rmse 0.575301 trained in 1.28 seconds\n",
      "2_DecisionTree rmse 0.404164 trained in 6.36 seconds\n",
      "* Step default_algorithms will try to check up to 3 models\n",
      "3_Default_Xgboost rmse 0.272554 trained in 29.48 seconds\n",
      "4_Default_NeuralNetwork rmse 0.360851 trained in 3.2 seconds\n",
      "5_Default_RandomForest rmse 0.362892 trained in 13.82 seconds\n",
      "* Step ensemble will try to check up to 1 model\n",
      "Ensemble rmse 0.272336 trained in 0.42 seconds\n",
      "AutoML fit time: 75.65 seconds\n",
      "AutoML best model: Ensemble\n"
     ]
    },
    {
     "data": {
      "text/plain": [
       "AutoML(explain_level=2, total_time_limit=300)"
      ]
     },
     "execution_count": 141,
     "metadata": {},
     "output_type": "execute_result"
    }
   ],
   "source": [
    "automl = AutoML(total_time_limit = 5 * 60, explain_level = 2)\n",
    "automl.fit(x_train_19, y_train_19)"
   ]
  },
  {
   "cell_type": "code",
   "execution_count": 142,
   "id": "b4537cbc",
   "metadata": {},
   "outputs": [
    {
     "name": "stdout",
     "output_type": "stream",
     "text": [
      "MSE for AutoML 2019 is: 0.13725406228525378\n"
     ]
    }
   ],
   "source": [
    "y_pred_19 = automl.predict(x_test_19)\n",
    "# Calculation of Mean Squared Error (MSE)\n",
    "mse = mean_squared_error(y_test_19, y_pred_19)\n",
    "print('MSE for AutoML 2019 is: ' + str(mse))"
   ]
  },
  {
   "cell_type": "code",
   "execution_count": 143,
   "id": "f339b06f",
   "metadata": {},
   "outputs": [
    {
     "name": "stdout",
     "output_type": "stream",
     "text": [
      "Accuracy of properties at +- 10% of actual prices is 0.40663029794376837\n"
     ]
    }
   ],
   "source": [
    "acc = accuracy_threshold(y_test_19, y_pred_19, 0.1)\n",
    "print('Accuracy of properties at +- 10% of actual prices is ' + str(acc))"
   ]
  },
  {
   "cell_type": "code",
   "execution_count": 144,
   "id": "c4efa50f",
   "metadata": {},
   "outputs": [
    {
     "name": "stdout",
     "output_type": "stream",
     "text": [
      "RMSE for AutoML 2019 is: 0.37047815358702835\n"
     ]
    }
   ],
   "source": [
    "rmse = mean_squared_error(y_test_19, y_pred_19, squared=False)\n",
    "print('RMSE for AutoML 2019 is: ' + str(rmse))"
   ]
  },
  {
   "cell_type": "code",
   "execution_count": 145,
   "id": "27785851",
   "metadata": {},
   "outputs": [
    {
     "name": "stdout",
     "output_type": "stream",
     "text": [
      "Median Absolute Error:\n",
      "\n",
      "0.13166254728466778\n"
     ]
    }
   ],
   "source": [
    "median_se = np.square(np.subtract(y_test_19, y_pred_19)).median() \n",
    " \n",
    "med = math.sqrt(median_se)\n",
    "print(\"Median Absolute Error:\\n\")\n",
    "print(med)"
   ]
  },
  {
   "cell_type": "code",
   "execution_count": 146,
   "id": "6f9d464d",
   "metadata": {},
   "outputs": [
    {
     "name": "stdout",
     "output_type": "stream",
     "text": [
      "MAPE for AutoML 2019 is: 0.01743338911961954\n"
     ]
    }
   ],
   "source": [
    "mape = mean_absolute_percentage_error(y_test_19, y_pred_19)\n",
    "print(\"MAPE for AutoML 2019 is: \" + str(mape))"
   ]
  },
  {
   "cell_type": "code",
   "execution_count": 147,
   "id": "8721e6a7",
   "metadata": {},
   "outputs": [],
   "source": [
    "cnames = ['Algorithm', 'Year', 'RMSE', 'MSE', 'MEDAE', 'Accuracy', 'MAPE']\n",
    "df12 = pd.DataFrame(columns = cnames)\n",
    "\n",
    "df12 = df12.append({'Algorithm': 'AutoML',\n",
    "           'Year': 2019,\n",
    "           'RMSE': rmse,\n",
    "           'MSE': mse,\n",
    "           'MEDAE': med,\n",
    "           'Accuracy': acc,\n",
    "           'MAPE': mape         \n",
    "          }, ignore_index = True)"
   ]
  },
  {
   "cell_type": "code",
   "execution_count": 148,
   "id": "3d0997f5",
   "metadata": {},
   "outputs": [],
   "source": [
    "#cnames = ['Actual', 'Predicted']\n",
    "#dfreal3 = pd.DataFrame(columns = cnames)\n",
    "dfreal3 = pd.DataFrame(y_test_19.values)\n",
    "dfpred3 = pd.DataFrame(y_pred_19)\n",
    "#dfreal3 = pd.concat([z1, z2], ignore_index=True)"
   ]
  },
  {
   "cell_type": "markdown",
   "id": "ca2efb79",
   "metadata": {},
   "source": [
    "### MLR"
   ]
  },
  {
   "cell_type": "code",
   "execution_count": 149,
   "id": "275ddaff",
   "metadata": {},
   "outputs": [
    {
     "name": "stdout",
     "output_type": "stream",
     "text": [
      "MSE for MLR 2019 is: 0.163846292125159\n"
     ]
    }
   ],
   "source": [
    "lm = linear_model.LinearRegression()\n",
    "lm.fit(x_train_19, y_train_19) # fitting the model\n",
    "y_pred_19 = lm.predict(x_test_19)\n",
    "# Calculation of Mean Squared Error (MSE)\n",
    "mse = mean_squared_error(y_test_19, y_pred_19)\n",
    "print('MSE for MLR 2019 is: ' + str(mse))"
   ]
  },
  {
   "cell_type": "code",
   "execution_count": 150,
   "id": "7b81a829",
   "metadata": {},
   "outputs": [
    {
     "name": "stdout",
     "output_type": "stream",
     "text": [
      "RMSE for MLR 2019 is: 0.40477931286709673\n"
     ]
    }
   ],
   "source": [
    "rmse = mean_squared_error(y_test_19, y_pred_19, squared = False)\n",
    "print('RMSE for MLR 2019 is: ' + str(rmse))"
   ]
  },
  {
   "cell_type": "code",
   "execution_count": 151,
   "id": "667a1d99",
   "metadata": {},
   "outputs": [
    {
     "name": "stdout",
     "output_type": "stream",
     "text": [
      "Median Absolute Error:\n",
      "\n",
      "0.1485552016601995\n"
     ]
    }
   ],
   "source": [
    "median_se = np.square(np.subtract(y_test_19, y_pred_19)).median() \n",
    " \n",
    "med = math.sqrt(median_se)\n",
    "print(\"Median Absolute Error:\\n\")\n",
    "print(med)"
   ]
  },
  {
   "cell_type": "code",
   "execution_count": 152,
   "id": "7677f5ef",
   "metadata": {},
   "outputs": [
    {
     "name": "stdout",
     "output_type": "stream",
     "text": [
      "Accuracy of properties at +- 10% of actual prices is 0.35942089802769617\n"
     ]
    }
   ],
   "source": [
    "acc = accuracy_threshold(y_test_19, y_pred_19, 0.1)\n",
    "print('Accuracy of properties at +- 10% of actual prices is ' + str(acc))"
   ]
  },
  {
   "cell_type": "code",
   "execution_count": 153,
   "id": "bf56c4b5",
   "metadata": {},
   "outputs": [
    {
     "name": "stdout",
     "output_type": "stream",
     "text": [
      "MAPE for MLR 2021 is: 0.01934005394307876\n"
     ]
    }
   ],
   "source": [
    "mape = mean_absolute_percentage_error(y_test_19, y_pred_19)\n",
    "print(\"MAPE for MLR 2021 is: \" + str(mape))"
   ]
  },
  {
   "cell_type": "code",
   "execution_count": 154,
   "id": "73c874fe",
   "metadata": {},
   "outputs": [],
   "source": [
    "cnames = ['Algorithm', 'Year', 'RMSE', 'MSE', 'MEDAE', 'Accuracy', 'MAPE']\n",
    "df13 = pd.DataFrame(columns = cnames)\n",
    "\n",
    "df13 = df13.append({'Algorithm': 'MLR',\n",
    "           'Year': 2019,\n",
    "           'RMSE': rmse,\n",
    "           'MSE': mse,\n",
    "           'MEDAE': med,\n",
    "           'Accuracy': acc,\n",
    "           'MAPE': mape         \n",
    "          }, ignore_index = True)"
   ]
  },
  {
   "cell_type": "markdown",
   "id": "7d2dfd92",
   "metadata": {},
   "source": [
    "### AdaBoost"
   ]
  },
  {
   "cell_type": "code",
   "execution_count": 155,
   "id": "38c87d78",
   "metadata": {},
   "outputs": [
    {
     "name": "stdout",
     "output_type": "stream",
     "text": [
      "MSE for AdaBoost 2019 is: 0.21902168231529673\n"
     ]
    }
   ],
   "source": [
    "model = AdaBoostRegressor()\n",
    "model.fit(x_train_19, y_train_19)\n",
    "y_pred_19 = model.predict(x_test_19)\n",
    "# Calculation of Mean Squared Error (MSE)\n",
    "mse = mean_squared_error(y_test_19, y_pred_19)\n",
    "print('MSE for AdaBoost 2019 is: ' + str(mse))"
   ]
  },
  {
   "cell_type": "code",
   "execution_count": 156,
   "id": "74084674",
   "metadata": {},
   "outputs": [
    {
     "name": "stdout",
     "output_type": "stream",
     "text": [
      "RMSE for MLR 2019 is: 0.4679975238345783\n"
     ]
    }
   ],
   "source": [
    "rmse = mean_squared_error(y_test_19, y_pred_19, squared = False)\n",
    "print('RMSE for MLR 2019 is: ' + str(rmse))"
   ]
  },
  {
   "cell_type": "code",
   "execution_count": 157,
   "id": "1ad6d4b4",
   "metadata": {},
   "outputs": [
    {
     "name": "stdout",
     "output_type": "stream",
     "text": [
      "Median Absolute Error:\n",
      "\n",
      "0.1974337669718317\n"
     ]
    }
   ],
   "source": [
    "median_se = np.square(np.subtract(y_test_19, y_pred_19)).median() \n",
    " \n",
    "med = math.sqrt(median_se)\n",
    "print(\"Median Absolute Error:\\n\")\n",
    "print(med)"
   ]
  },
  {
   "cell_type": "code",
   "execution_count": 158,
   "id": "8597e974",
   "metadata": {},
   "outputs": [
    {
     "name": "stdout",
     "output_type": "stream",
     "text": [
      "Accuracy of properties at +- 10% of actual prices is 0.2706672261854805\n"
     ]
    }
   ],
   "source": [
    "acc = accuracy_threshold(y_test_19, y_pred_19, 0.1)\n",
    "print('Accuracy of properties at +- 10% of actual prices is ' + str(acc))"
   ]
  },
  {
   "cell_type": "code",
   "execution_count": 159,
   "id": "c6d16020",
   "metadata": {},
   "outputs": [
    {
     "name": "stdout",
     "output_type": "stream",
     "text": [
      "MAPE for AdaBoost 2019 is: 0.024228935082978315\n"
     ]
    }
   ],
   "source": [
    "mape = mean_absolute_percentage_error(y_test_19, y_pred_19)\n",
    "print(\"MAPE for AdaBoost 2019 is: \" + str(mape))"
   ]
  },
  {
   "cell_type": "code",
   "execution_count": 160,
   "id": "e1bef803",
   "metadata": {},
   "outputs": [],
   "source": [
    "cnames = ['Algorithm', 'Year', 'RMSE', 'MSE', 'MEDAE', 'Accuracy', 'MAPE']\n",
    "df14 = pd.DataFrame(columns = cnames)\n",
    "\n",
    "df14 = df14.append({'Algorithm': 'AdaBoost',\n",
    "           'Year': 2019,\n",
    "           'RMSE': rmse,\n",
    "           'MSE': mse,\n",
    "           'MEDAE': med,\n",
    "           'Accuracy': acc,\n",
    "           'MAPE': mape         \n",
    "          }, ignore_index = True)"
   ]
  },
  {
   "cell_type": "markdown",
   "id": "1938ea84",
   "metadata": {},
   "source": [
    "### LightGBM"
   ]
  },
  {
   "cell_type": "code",
   "execution_count": 161,
   "id": "32f45b77",
   "metadata": {},
   "outputs": [
    {
     "name": "stdout",
     "output_type": "stream",
     "text": [
      "MSE for LightGBM 2019 is: 0.13723989363653927\n"
     ]
    }
   ],
   "source": [
    "model = LGBMRegressor()\n",
    "model.fit(x_train_19, y_train_19)\n",
    "y_pred_19 = model.predict(x_test_19)\n",
    "# Calculation of Mean Squared Error (MSE)\n",
    "mse = mean_squared_error(y_test_19, y_pred_19)\n",
    "print('MSE for LightGBM 2019 is: ' + str(mse))"
   ]
  },
  {
   "cell_type": "code",
   "execution_count": 162,
   "id": "5b08f229",
   "metadata": {},
   "outputs": [
    {
     "name": "stdout",
     "output_type": "stream",
     "text": [
      "RMSE for LightGBM 2019 is: 0.3704590309825626\n"
     ]
    }
   ],
   "source": [
    "rmse = mean_squared_error(y_test_19, y_pred_19, squared = False)\n",
    "print('RMSE for LightGBM 2019 is: ' + str(rmse))"
   ]
  },
  {
   "cell_type": "code",
   "execution_count": 163,
   "id": "6e81490b",
   "metadata": {},
   "outputs": [
    {
     "name": "stdout",
     "output_type": "stream",
     "text": [
      "Median Absolute Error:\n",
      "\n",
      "0.1334362856533689\n"
     ]
    }
   ],
   "source": [
    "median_se = np.square(np.subtract(y_test_19, y_pred_19)).median() \n",
    " \n",
    "med = math.sqrt(median_se)\n",
    "print(\"Median Absolute Error:\\n\")\n",
    "print(med)"
   ]
  },
  {
   "cell_type": "code",
   "execution_count": 164,
   "id": "620c3251",
   "metadata": {},
   "outputs": [
    {
     "name": "stdout",
     "output_type": "stream",
     "text": [
      "Accuracy of properties at +- 10% of actual prices is 0.39970625262274445\n"
     ]
    }
   ],
   "source": [
    "acc = accuracy_threshold(y_test_19, y_pred_19, 0.1)\n",
    "print('Accuracy of properties at +- 10% of actual prices is ' + str(acc))"
   ]
  },
  {
   "cell_type": "code",
   "execution_count": 165,
   "id": "8bab1881",
   "metadata": {},
   "outputs": [
    {
     "name": "stdout",
     "output_type": "stream",
     "text": [
      "MAPE for LightGBM 2019 is: 0.01767493436112388\n"
     ]
    }
   ],
   "source": [
    "mape = mean_absolute_percentage_error(y_test_19, y_pred_19)\n",
    "print(\"MAPE for LightGBM 2019 is: \" + str(mape))"
   ]
  },
  {
   "cell_type": "code",
   "execution_count": 166,
   "id": "68e44550",
   "metadata": {},
   "outputs": [],
   "source": [
    "cnames = ['Algorithm', 'Year', 'RMSE', 'MSE', 'MEDAE', 'Accuracy', 'MAPE']\n",
    "df15 = pd.DataFrame(columns = cnames)\n",
    "\n",
    "df15 = df15.append({'Algorithm': 'LightGBM',\n",
    "           'Year': 2019,\n",
    "           'RMSE': rmse,\n",
    "           'MSE': mse,\n",
    "           'MEDAE': med,\n",
    "           'Accuracy': acc,\n",
    "           'MAPE': mape         \n",
    "          }, ignore_index = True)"
   ]
  },
  {
   "cell_type": "markdown",
   "id": "0c32398d",
   "metadata": {},
   "source": [
    "### CatBoost"
   ]
  },
  {
   "cell_type": "code",
   "execution_count": 167,
   "id": "18c72840",
   "metadata": {},
   "outputs": [
    {
     "name": "stdout",
     "output_type": "stream",
     "text": [
      "Learning rate set to 0.065224\n",
      "0:\tlearn: 0.5711831\ttotal: 10.2ms\tremaining: 10.2s\n",
      "1:\tlearn: 0.5532307\ttotal: 20.4ms\tremaining: 10.2s\n",
      "2:\tlearn: 0.5369558\ttotal: 31.8ms\tremaining: 10.6s\n",
      "3:\tlearn: 0.5220016\ttotal: 41.3ms\tremaining: 10.3s\n",
      "4:\tlearn: 0.5082061\ttotal: 50.2ms\tremaining: 9.98s\n",
      "5:\tlearn: 0.4956057\ttotal: 61.7ms\tremaining: 10.2s\n",
      "6:\tlearn: 0.4834029\ttotal: 71.6ms\tremaining: 10.2s\n",
      "7:\tlearn: 0.4727019\ttotal: 81.4ms\tremaining: 10.1s\n",
      "8:\tlearn: 0.4627271\ttotal: 93.3ms\tremaining: 10.3s\n",
      "9:\tlearn: 0.4528372\ttotal: 103ms\tremaining: 10.2s\n",
      "10:\tlearn: 0.4445855\ttotal: 112ms\tremaining: 10.1s\n",
      "11:\tlearn: 0.4369183\ttotal: 123ms\tremaining: 10.1s\n",
      "12:\tlearn: 0.4299924\ttotal: 135ms\tremaining: 10.2s\n",
      "13:\tlearn: 0.4231743\ttotal: 150ms\tremaining: 10.6s\n",
      "14:\tlearn: 0.4173478\ttotal: 159ms\tremaining: 10.5s\n",
      "15:\tlearn: 0.4122926\ttotal: 172ms\tremaining: 10.6s\n",
      "16:\tlearn: 0.4080725\ttotal: 184ms\tremaining: 10.6s\n",
      "17:\tlearn: 0.4032998\ttotal: 195ms\tremaining: 10.6s\n",
      "18:\tlearn: 0.3986457\ttotal: 203ms\tremaining: 10.5s\n",
      "19:\tlearn: 0.3945498\ttotal: 211ms\tremaining: 10.4s\n",
      "20:\tlearn: 0.3906161\ttotal: 220ms\tremaining: 10.3s\n",
      "21:\tlearn: 0.3872703\ttotal: 227ms\tremaining: 10.1s\n",
      "22:\tlearn: 0.3845472\ttotal: 235ms\tremaining: 9.96s\n",
      "23:\tlearn: 0.3821042\ttotal: 243ms\tremaining: 9.88s\n",
      "24:\tlearn: 0.3796041\ttotal: 252ms\tremaining: 9.82s\n",
      "25:\tlearn: 0.3761857\ttotal: 259ms\tremaining: 9.71s\n",
      "26:\tlearn: 0.3739549\ttotal: 267ms\tremaining: 9.61s\n",
      "27:\tlearn: 0.3720983\ttotal: 276ms\tremaining: 9.59s\n",
      "28:\tlearn: 0.3700003\ttotal: 284ms\tremaining: 9.52s\n",
      "29:\tlearn: 0.3675907\ttotal: 292ms\tremaining: 9.43s\n",
      "30:\tlearn: 0.3652791\ttotal: 299ms\tremaining: 9.35s\n",
      "31:\tlearn: 0.3634193\ttotal: 307ms\tremaining: 9.28s\n",
      "32:\tlearn: 0.3622654\ttotal: 314ms\tremaining: 9.21s\n",
      "33:\tlearn: 0.3613827\ttotal: 321ms\tremaining: 9.13s\n",
      "34:\tlearn: 0.3602525\ttotal: 328ms\tremaining: 9.05s\n",
      "35:\tlearn: 0.3592888\ttotal: 336ms\tremaining: 8.99s\n",
      "36:\tlearn: 0.3581402\ttotal: 343ms\tremaining: 8.92s\n",
      "37:\tlearn: 0.3568744\ttotal: 350ms\tremaining: 8.86s\n",
      "38:\tlearn: 0.3557089\ttotal: 357ms\tremaining: 8.8s\n",
      "39:\tlearn: 0.3545843\ttotal: 366ms\tremaining: 8.78s\n",
      "40:\tlearn: 0.3533282\ttotal: 374ms\tremaining: 8.75s\n",
      "41:\tlearn: 0.3517611\ttotal: 381ms\tremaining: 8.69s\n",
      "42:\tlearn: 0.3511900\ttotal: 388ms\tremaining: 8.64s\n",
      "43:\tlearn: 0.3501978\ttotal: 397ms\tremaining: 8.62s\n",
      "44:\tlearn: 0.3488073\ttotal: 406ms\tremaining: 8.61s\n",
      "45:\tlearn: 0.3483719\ttotal: 412ms\tremaining: 8.55s\n",
      "46:\tlearn: 0.3474404\ttotal: 419ms\tremaining: 8.51s\n",
      "47:\tlearn: 0.3466130\ttotal: 428ms\tremaining: 8.49s\n",
      "48:\tlearn: 0.3452299\ttotal: 437ms\tremaining: 8.47s\n",
      "49:\tlearn: 0.3446125\ttotal: 444ms\tremaining: 8.43s\n",
      "50:\tlearn: 0.3440517\ttotal: 451ms\tremaining: 8.4s\n",
      "51:\tlearn: 0.3429274\ttotal: 459ms\tremaining: 8.36s\n",
      "52:\tlearn: 0.3425285\ttotal: 467ms\tremaining: 8.34s\n",
      "53:\tlearn: 0.3415619\ttotal: 476ms\tremaining: 8.33s\n",
      "54:\tlearn: 0.3403521\ttotal: 484ms\tremaining: 8.31s\n",
      "55:\tlearn: 0.3393732\ttotal: 491ms\tremaining: 8.28s\n",
      "56:\tlearn: 0.3391346\ttotal: 498ms\tremaining: 8.24s\n",
      "57:\tlearn: 0.3385437\ttotal: 506ms\tremaining: 8.21s\n",
      "58:\tlearn: 0.3380750\ttotal: 513ms\tremaining: 8.18s\n",
      "59:\tlearn: 0.3374280\ttotal: 519ms\tremaining: 8.14s\n",
      "60:\tlearn: 0.3371313\ttotal: 526ms\tremaining: 8.1s\n",
      "61:\tlearn: 0.3368775\ttotal: 535ms\tremaining: 8.09s\n",
      "62:\tlearn: 0.3361848\ttotal: 544ms\tremaining: 8.09s\n",
      "63:\tlearn: 0.3359523\ttotal: 552ms\tremaining: 8.07s\n",
      "64:\tlearn: 0.3354103\ttotal: 561ms\tremaining: 8.06s\n",
      "65:\tlearn: 0.3349373\ttotal: 571ms\tremaining: 8.08s\n",
      "66:\tlearn: 0.3343931\ttotal: 580ms\tremaining: 8.07s\n",
      "67:\tlearn: 0.3337631\ttotal: 589ms\tremaining: 8.07s\n",
      "68:\tlearn: 0.3334579\ttotal: 598ms\tremaining: 8.06s\n",
      "69:\tlearn: 0.3332310\ttotal: 607ms\tremaining: 8.06s\n",
      "70:\tlearn: 0.3327855\ttotal: 615ms\tremaining: 8.05s\n",
      "71:\tlearn: 0.3322694\ttotal: 626ms\tremaining: 8.06s\n",
      "72:\tlearn: 0.3319300\ttotal: 635ms\tremaining: 8.06s\n",
      "73:\tlearn: 0.3312355\ttotal: 642ms\tremaining: 8.04s\n",
      "74:\tlearn: 0.3305586\ttotal: 651ms\tremaining: 8.03s\n",
      "75:\tlearn: 0.3300400\ttotal: 660ms\tremaining: 8.02s\n",
      "76:\tlearn: 0.3292379\ttotal: 670ms\tremaining: 8.03s\n",
      "77:\tlearn: 0.3286657\ttotal: 679ms\tremaining: 8.03s\n",
      "78:\tlearn: 0.3285352\ttotal: 689ms\tremaining: 8.03s\n",
      "79:\tlearn: 0.3279671\ttotal: 698ms\tremaining: 8.02s\n",
      "80:\tlearn: 0.3274106\ttotal: 705ms\tremaining: 7.99s\n",
      "81:\tlearn: 0.3271938\ttotal: 712ms\tremaining: 7.97s\n",
      "82:\tlearn: 0.3267790\ttotal: 721ms\tremaining: 7.96s\n",
      "83:\tlearn: 0.3266190\ttotal: 729ms\tremaining: 7.95s\n",
      "84:\tlearn: 0.3261858\ttotal: 738ms\tremaining: 7.95s\n",
      "85:\tlearn: 0.3256024\ttotal: 747ms\tremaining: 7.93s\n",
      "86:\tlearn: 0.3244410\ttotal: 755ms\tremaining: 7.93s\n",
      "87:\tlearn: 0.3237190\ttotal: 764ms\tremaining: 7.92s\n",
      "88:\tlearn: 0.3233960\ttotal: 771ms\tremaining: 7.89s\n",
      "89:\tlearn: 0.3229542\ttotal: 779ms\tremaining: 7.87s\n",
      "90:\tlearn: 0.3225705\ttotal: 787ms\tremaining: 7.86s\n",
      "91:\tlearn: 0.3221817\ttotal: 797ms\tremaining: 7.86s\n",
      "92:\tlearn: 0.3219729\ttotal: 806ms\tremaining: 7.86s\n",
      "93:\tlearn: 0.3216403\ttotal: 814ms\tremaining: 7.85s\n",
      "94:\tlearn: 0.3209688\ttotal: 822ms\tremaining: 7.83s\n",
      "95:\tlearn: 0.3206596\ttotal: 829ms\tremaining: 7.8s\n",
      "96:\tlearn: 0.3200807\ttotal: 836ms\tremaining: 7.78s\n",
      "97:\tlearn: 0.3194065\ttotal: 843ms\tremaining: 7.76s\n",
      "98:\tlearn: 0.3188588\ttotal: 851ms\tremaining: 7.74s\n",
      "99:\tlearn: 0.3186384\ttotal: 858ms\tremaining: 7.72s\n",
      "100:\tlearn: 0.3180899\ttotal: 866ms\tremaining: 7.71s\n",
      "101:\tlearn: 0.3178616\ttotal: 876ms\tremaining: 7.71s\n",
      "102:\tlearn: 0.3173990\ttotal: 883ms\tremaining: 7.69s\n",
      "103:\tlearn: 0.3171505\ttotal: 891ms\tremaining: 7.67s\n",
      "104:\tlearn: 0.3166452\ttotal: 898ms\tremaining: 7.66s\n",
      "105:\tlearn: 0.3164908\ttotal: 905ms\tremaining: 7.63s\n",
      "106:\tlearn: 0.3162255\ttotal: 912ms\tremaining: 7.61s\n",
      "107:\tlearn: 0.3160873\ttotal: 919ms\tremaining: 7.59s\n",
      "108:\tlearn: 0.3156904\ttotal: 928ms\tremaining: 7.58s\n",
      "109:\tlearn: 0.3155454\ttotal: 936ms\tremaining: 7.57s\n",
      "110:\tlearn: 0.3154576\ttotal: 945ms\tremaining: 7.57s\n",
      "111:\tlearn: 0.3148519\ttotal: 955ms\tremaining: 7.57s\n",
      "112:\tlearn: 0.3141612\ttotal: 965ms\tremaining: 7.57s\n",
      "113:\tlearn: 0.3138767\ttotal: 975ms\tremaining: 7.58s\n",
      "114:\tlearn: 0.3136706\ttotal: 985ms\tremaining: 7.58s\n",
      "115:\tlearn: 0.3133907\ttotal: 996ms\tremaining: 7.59s\n",
      "116:\tlearn: 0.3131843\ttotal: 1s\tremaining: 7.58s\n",
      "117:\tlearn: 0.3130737\ttotal: 1.01s\tremaining: 7.59s\n",
      "118:\tlearn: 0.3128985\ttotal: 1.02s\tremaining: 7.59s\n",
      "119:\tlearn: 0.3124628\ttotal: 1.03s\tremaining: 7.59s\n",
      "120:\tlearn: 0.3119506\ttotal: 1.05s\tremaining: 7.6s\n",
      "121:\tlearn: 0.3115874\ttotal: 1.06s\tremaining: 7.62s\n",
      "122:\tlearn: 0.3114819\ttotal: 1.07s\tremaining: 7.62s\n",
      "123:\tlearn: 0.3111230\ttotal: 1.08s\tremaining: 7.61s\n",
      "124:\tlearn: 0.3105197\ttotal: 1.09s\tremaining: 7.61s\n",
      "125:\tlearn: 0.3101090\ttotal: 1.09s\tremaining: 7.6s\n",
      "126:\tlearn: 0.3099568\ttotal: 1.1s\tremaining: 7.59s\n",
      "127:\tlearn: 0.3091273\ttotal: 1.11s\tremaining: 7.58s\n",
      "128:\tlearn: 0.3088494\ttotal: 1.12s\tremaining: 7.59s\n",
      "129:\tlearn: 0.3086233\ttotal: 1.13s\tremaining: 7.58s\n",
      "130:\tlearn: 0.3085200\ttotal: 1.14s\tremaining: 7.57s\n",
      "131:\tlearn: 0.3079527\ttotal: 1.15s\tremaining: 7.56s\n",
      "132:\tlearn: 0.3075668\ttotal: 1.16s\tremaining: 7.55s\n",
      "133:\tlearn: 0.3074198\ttotal: 1.17s\tremaining: 7.53s\n",
      "134:\tlearn: 0.3071386\ttotal: 1.17s\tremaining: 7.51s\n",
      "135:\tlearn: 0.3068170\ttotal: 1.18s\tremaining: 7.5s\n",
      "136:\tlearn: 0.3063423\ttotal: 1.19s\tremaining: 7.48s\n",
      "137:\tlearn: 0.3059951\ttotal: 1.2s\tremaining: 7.46s\n",
      "138:\tlearn: 0.3055094\ttotal: 1.2s\tremaining: 7.46s\n",
      "139:\tlearn: 0.3053148\ttotal: 1.21s\tremaining: 7.45s\n",
      "140:\tlearn: 0.3050565\ttotal: 1.22s\tremaining: 7.45s\n",
      "141:\tlearn: 0.3049600\ttotal: 1.23s\tremaining: 7.44s\n",
      "142:\tlearn: 0.3048400\ttotal: 1.24s\tremaining: 7.43s\n",
      "143:\tlearn: 0.3045832\ttotal: 1.25s\tremaining: 7.42s\n",
      "144:\tlearn: 0.3043423\ttotal: 1.26s\tremaining: 7.41s\n",
      "145:\tlearn: 0.3038967\ttotal: 1.26s\tremaining: 7.4s\n",
      "146:\tlearn: 0.3036852\ttotal: 1.27s\tremaining: 7.39s\n",
      "147:\tlearn: 0.3032634\ttotal: 1.28s\tremaining: 7.37s\n",
      "148:\tlearn: 0.3030033\ttotal: 1.29s\tremaining: 7.35s\n",
      "149:\tlearn: 0.3026436\ttotal: 1.29s\tremaining: 7.34s\n",
      "150:\tlearn: 0.3024044\ttotal: 1.3s\tremaining: 7.32s\n",
      "151:\tlearn: 0.3022462\ttotal: 1.31s\tremaining: 7.32s\n",
      "152:\tlearn: 0.3019762\ttotal: 1.32s\tremaining: 7.3s\n",
      "153:\tlearn: 0.3016211\ttotal: 1.32s\tremaining: 7.28s\n",
      "154:\tlearn: 0.3014032\ttotal: 1.33s\tremaining: 7.26s\n",
      "155:\tlearn: 0.3012440\ttotal: 1.34s\tremaining: 7.25s\n",
      "156:\tlearn: 0.3010275\ttotal: 1.35s\tremaining: 7.23s\n",
      "157:\tlearn: 0.3008699\ttotal: 1.35s\tremaining: 7.22s\n",
      "158:\tlearn: 0.3006913\ttotal: 1.36s\tremaining: 7.21s\n",
      "159:\tlearn: 0.3004548\ttotal: 1.37s\tremaining: 7.19s\n",
      "160:\tlearn: 0.3002184\ttotal: 1.38s\tremaining: 7.17s\n",
      "161:\tlearn: 0.3000644\ttotal: 1.38s\tremaining: 7.16s\n",
      "162:\tlearn: 0.2998176\ttotal: 1.39s\tremaining: 7.14s\n",
      "163:\tlearn: 0.2995748\ttotal: 1.4s\tremaining: 7.13s\n",
      "164:\tlearn: 0.2994227\ttotal: 1.41s\tremaining: 7.11s\n",
      "165:\tlearn: 0.2992841\ttotal: 1.41s\tremaining: 7.1s\n",
      "166:\tlearn: 0.2991398\ttotal: 1.42s\tremaining: 7.08s\n",
      "167:\tlearn: 0.2989120\ttotal: 1.43s\tremaining: 7.07s\n"
     ]
    },
    {
     "name": "stdout",
     "output_type": "stream",
     "text": [
      "168:\tlearn: 0.2987719\ttotal: 1.44s\tremaining: 7.06s\n",
      "169:\tlearn: 0.2984614\ttotal: 1.44s\tremaining: 7.05s\n",
      "170:\tlearn: 0.2981026\ttotal: 1.45s\tremaining: 7.03s\n",
      "171:\tlearn: 0.2977685\ttotal: 1.46s\tremaining: 7.02s\n",
      "172:\tlearn: 0.2976005\ttotal: 1.46s\tremaining: 7s\n",
      "173:\tlearn: 0.2974958\ttotal: 1.47s\tremaining: 6.98s\n",
      "174:\tlearn: 0.2973221\ttotal: 1.48s\tremaining: 6.97s\n",
      "175:\tlearn: 0.2972469\ttotal: 1.49s\tremaining: 6.95s\n",
      "176:\tlearn: 0.2968766\ttotal: 1.49s\tremaining: 6.94s\n",
      "177:\tlearn: 0.2965243\ttotal: 1.5s\tremaining: 6.93s\n",
      "178:\tlearn: 0.2963231\ttotal: 1.51s\tremaining: 6.93s\n",
      "179:\tlearn: 0.2961793\ttotal: 1.52s\tremaining: 6.92s\n",
      "180:\tlearn: 0.2956340\ttotal: 1.53s\tremaining: 6.92s\n",
      "181:\tlearn: 0.2954887\ttotal: 1.54s\tremaining: 6.92s\n",
      "182:\tlearn: 0.2950084\ttotal: 1.55s\tremaining: 6.91s\n",
      "183:\tlearn: 0.2947656\ttotal: 1.56s\tremaining: 6.91s\n",
      "184:\tlearn: 0.2945709\ttotal: 1.56s\tremaining: 6.89s\n",
      "185:\tlearn: 0.2944252\ttotal: 1.57s\tremaining: 6.88s\n",
      "186:\tlearn: 0.2943294\ttotal: 1.58s\tremaining: 6.88s\n",
      "187:\tlearn: 0.2936467\ttotal: 1.59s\tremaining: 6.87s\n",
      "188:\tlearn: 0.2933307\ttotal: 1.6s\tremaining: 6.87s\n",
      "189:\tlearn: 0.2929360\ttotal: 1.61s\tremaining: 6.86s\n",
      "190:\tlearn: 0.2927882\ttotal: 1.62s\tremaining: 6.86s\n",
      "191:\tlearn: 0.2925628\ttotal: 1.63s\tremaining: 6.85s\n",
      "192:\tlearn: 0.2923345\ttotal: 1.64s\tremaining: 6.84s\n",
      "193:\tlearn: 0.2920988\ttotal: 1.64s\tremaining: 6.83s\n",
      "194:\tlearn: 0.2919302\ttotal: 1.65s\tremaining: 6.82s\n",
      "195:\tlearn: 0.2917181\ttotal: 1.66s\tremaining: 6.81s\n",
      "196:\tlearn: 0.2915187\ttotal: 1.67s\tremaining: 6.8s\n",
      "197:\tlearn: 0.2912650\ttotal: 1.68s\tremaining: 6.79s\n",
      "198:\tlearn: 0.2910620\ttotal: 1.68s\tremaining: 6.78s\n",
      "199:\tlearn: 0.2909126\ttotal: 1.69s\tremaining: 6.76s\n",
      "200:\tlearn: 0.2905084\ttotal: 1.7s\tremaining: 6.76s\n",
      "201:\tlearn: 0.2902520\ttotal: 1.71s\tremaining: 6.74s\n",
      "202:\tlearn: 0.2900777\ttotal: 1.71s\tremaining: 6.73s\n",
      "203:\tlearn: 0.2898200\ttotal: 1.72s\tremaining: 6.72s\n",
      "204:\tlearn: 0.2896632\ttotal: 1.73s\tremaining: 6.72s\n",
      "205:\tlearn: 0.2894821\ttotal: 1.74s\tremaining: 6.72s\n",
      "206:\tlearn: 0.2893678\ttotal: 1.75s\tremaining: 6.72s\n",
      "207:\tlearn: 0.2891122\ttotal: 1.76s\tremaining: 6.71s\n",
      "208:\tlearn: 0.2889554\ttotal: 1.77s\tremaining: 6.7s\n",
      "209:\tlearn: 0.2887605\ttotal: 1.78s\tremaining: 6.69s\n",
      "210:\tlearn: 0.2884730\ttotal: 1.78s\tremaining: 6.67s\n",
      "211:\tlearn: 0.2883491\ttotal: 1.79s\tremaining: 6.66s\n",
      "212:\tlearn: 0.2879970\ttotal: 1.8s\tremaining: 6.65s\n",
      "213:\tlearn: 0.2877619\ttotal: 1.81s\tremaining: 6.64s\n",
      "214:\tlearn: 0.2873380\ttotal: 1.81s\tremaining: 6.63s\n",
      "215:\tlearn: 0.2871881\ttotal: 1.82s\tremaining: 6.61s\n",
      "216:\tlearn: 0.2869992\ttotal: 1.83s\tremaining: 6.6s\n",
      "217:\tlearn: 0.2868848\ttotal: 1.84s\tremaining: 6.59s\n",
      "218:\tlearn: 0.2864366\ttotal: 1.84s\tremaining: 6.58s\n",
      "219:\tlearn: 0.2862846\ttotal: 1.85s\tremaining: 6.56s\n",
      "220:\tlearn: 0.2861547\ttotal: 1.86s\tremaining: 6.55s\n",
      "221:\tlearn: 0.2857341\ttotal: 1.87s\tremaining: 6.54s\n",
      "222:\tlearn: 0.2855942\ttotal: 1.87s\tremaining: 6.53s\n",
      "223:\tlearn: 0.2854676\ttotal: 1.88s\tremaining: 6.52s\n",
      "224:\tlearn: 0.2851890\ttotal: 1.89s\tremaining: 6.51s\n",
      "225:\tlearn: 0.2851501\ttotal: 1.9s\tremaining: 6.49s\n",
      "226:\tlearn: 0.2848402\ttotal: 1.9s\tremaining: 6.48s\n",
      "227:\tlearn: 0.2844981\ttotal: 1.91s\tremaining: 6.47s\n",
      "228:\tlearn: 0.2843193\ttotal: 1.92s\tremaining: 6.45s\n",
      "229:\tlearn: 0.2840121\ttotal: 1.92s\tremaining: 6.44s\n",
      "230:\tlearn: 0.2838835\ttotal: 1.93s\tremaining: 6.43s\n",
      "231:\tlearn: 0.2836863\ttotal: 1.94s\tremaining: 6.42s\n",
      "232:\tlearn: 0.2834261\ttotal: 1.95s\tremaining: 6.42s\n",
      "233:\tlearn: 0.2831885\ttotal: 1.96s\tremaining: 6.41s\n",
      "234:\tlearn: 0.2829046\ttotal: 1.96s\tremaining: 6.39s\n",
      "235:\tlearn: 0.2827125\ttotal: 1.97s\tremaining: 6.38s\n",
      "236:\tlearn: 0.2824093\ttotal: 1.98s\tremaining: 6.37s\n",
      "237:\tlearn: 0.2822521\ttotal: 1.99s\tremaining: 6.36s\n",
      "238:\tlearn: 0.2819708\ttotal: 1.99s\tremaining: 6.35s\n",
      "239:\tlearn: 0.2816875\ttotal: 2s\tremaining: 6.34s\n",
      "240:\tlearn: 0.2814390\ttotal: 2.01s\tremaining: 6.33s\n",
      "241:\tlearn: 0.2813656\ttotal: 2.02s\tremaining: 6.32s\n",
      "242:\tlearn: 0.2811417\ttotal: 2.03s\tremaining: 6.31s\n",
      "243:\tlearn: 0.2806665\ttotal: 2.04s\tremaining: 6.31s\n",
      "244:\tlearn: 0.2804984\ttotal: 2.05s\tremaining: 6.3s\n",
      "245:\tlearn: 0.2802671\ttotal: 2.06s\tremaining: 6.3s\n",
      "246:\tlearn: 0.2802011\ttotal: 2.06s\tremaining: 6.29s\n",
      "247:\tlearn: 0.2800674\ttotal: 2.07s\tremaining: 6.29s\n",
      "248:\tlearn: 0.2798802\ttotal: 2.08s\tremaining: 6.28s\n",
      "249:\tlearn: 0.2797122\ttotal: 2.09s\tremaining: 6.27s\n",
      "250:\tlearn: 0.2796285\ttotal: 2.1s\tremaining: 6.27s\n",
      "251:\tlearn: 0.2792309\ttotal: 2.13s\tremaining: 6.31s\n",
      "252:\tlearn: 0.2789590\ttotal: 2.15s\tremaining: 6.34s\n",
      "253:\tlearn: 0.2787315\ttotal: 2.16s\tremaining: 6.35s\n",
      "254:\tlearn: 0.2784964\ttotal: 2.17s\tremaining: 6.36s\n",
      "255:\tlearn: 0.2783356\ttotal: 2.18s\tremaining: 6.35s\n",
      "256:\tlearn: 0.2782211\ttotal: 2.19s\tremaining: 6.34s\n",
      "257:\tlearn: 0.2781128\ttotal: 2.2s\tremaining: 6.34s\n",
      "258:\tlearn: 0.2780464\ttotal: 2.21s\tremaining: 6.33s\n",
      "259:\tlearn: 0.2779669\ttotal: 2.22s\tremaining: 6.32s\n",
      "260:\tlearn: 0.2778423\ttotal: 2.23s\tremaining: 6.31s\n",
      "261:\tlearn: 0.2777913\ttotal: 2.24s\tremaining: 6.3s\n",
      "262:\tlearn: 0.2775650\ttotal: 2.25s\tremaining: 6.3s\n",
      "263:\tlearn: 0.2774483\ttotal: 2.26s\tremaining: 6.29s\n",
      "264:\tlearn: 0.2773951\ttotal: 2.27s\tremaining: 6.3s\n",
      "265:\tlearn: 0.2772613\ttotal: 2.29s\tremaining: 6.31s\n",
      "266:\tlearn: 0.2771439\ttotal: 2.3s\tremaining: 6.31s\n",
      "267:\tlearn: 0.2769780\ttotal: 2.31s\tremaining: 6.32s\n",
      "268:\tlearn: 0.2768185\ttotal: 2.32s\tremaining: 6.31s\n",
      "269:\tlearn: 0.2766407\ttotal: 2.33s\tremaining: 6.3s\n",
      "270:\tlearn: 0.2764218\ttotal: 2.34s\tremaining: 6.29s\n",
      "271:\tlearn: 0.2762608\ttotal: 2.35s\tremaining: 6.29s\n",
      "272:\tlearn: 0.2759083\ttotal: 2.36s\tremaining: 6.28s\n",
      "273:\tlearn: 0.2757285\ttotal: 2.37s\tremaining: 6.27s\n",
      "274:\tlearn: 0.2755808\ttotal: 2.38s\tremaining: 6.27s\n",
      "275:\tlearn: 0.2752768\ttotal: 2.39s\tremaining: 6.26s\n",
      "276:\tlearn: 0.2751224\ttotal: 2.4s\tremaining: 6.25s\n",
      "277:\tlearn: 0.2749183\ttotal: 2.41s\tremaining: 6.25s\n",
      "278:\tlearn: 0.2748103\ttotal: 2.41s\tremaining: 6.24s\n",
      "279:\tlearn: 0.2746343\ttotal: 2.42s\tremaining: 6.23s\n",
      "280:\tlearn: 0.2745418\ttotal: 2.43s\tremaining: 6.22s\n",
      "281:\tlearn: 0.2743782\ttotal: 2.44s\tremaining: 6.21s\n",
      "282:\tlearn: 0.2742039\ttotal: 2.45s\tremaining: 6.21s\n",
      "283:\tlearn: 0.2739493\ttotal: 2.46s\tremaining: 6.2s\n",
      "284:\tlearn: 0.2737913\ttotal: 2.47s\tremaining: 6.19s\n",
      "285:\tlearn: 0.2735284\ttotal: 2.48s\tremaining: 6.18s\n",
      "286:\tlearn: 0.2732539\ttotal: 2.49s\tremaining: 6.18s\n",
      "287:\tlearn: 0.2730231\ttotal: 2.49s\tremaining: 6.17s\n",
      "288:\tlearn: 0.2729300\ttotal: 2.5s\tremaining: 6.16s\n",
      "289:\tlearn: 0.2727948\ttotal: 2.52s\tremaining: 6.16s\n",
      "290:\tlearn: 0.2727112\ttotal: 2.53s\tremaining: 6.16s\n",
      "291:\tlearn: 0.2726636\ttotal: 2.54s\tremaining: 6.16s\n",
      "292:\tlearn: 0.2722864\ttotal: 2.55s\tremaining: 6.15s\n",
      "293:\tlearn: 0.2719228\ttotal: 2.56s\tremaining: 6.15s\n",
      "294:\tlearn: 0.2718293\ttotal: 2.57s\tremaining: 6.14s\n",
      "295:\tlearn: 0.2717221\ttotal: 2.58s\tremaining: 6.14s\n",
      "296:\tlearn: 0.2716442\ttotal: 2.59s\tremaining: 6.14s\n",
      "297:\tlearn: 0.2715074\ttotal: 2.6s\tremaining: 6.13s\n",
      "298:\tlearn: 0.2712947\ttotal: 2.61s\tremaining: 6.12s\n",
      "299:\tlearn: 0.2711118\ttotal: 2.62s\tremaining: 6.11s\n",
      "300:\tlearn: 0.2709767\ttotal: 2.63s\tremaining: 6.11s\n",
      "301:\tlearn: 0.2705781\ttotal: 2.64s\tremaining: 6.1s\n",
      "302:\tlearn: 0.2704117\ttotal: 2.65s\tremaining: 6.09s\n",
      "303:\tlearn: 0.2703205\ttotal: 2.65s\tremaining: 6.08s\n",
      "304:\tlearn: 0.2701949\ttotal: 2.66s\tremaining: 6.07s\n",
      "305:\tlearn: 0.2700597\ttotal: 2.67s\tremaining: 6.06s\n",
      "306:\tlearn: 0.2699279\ttotal: 2.68s\tremaining: 6.05s\n",
      "307:\tlearn: 0.2698434\ttotal: 2.69s\tremaining: 6.05s\n",
      "308:\tlearn: 0.2697303\ttotal: 2.7s\tremaining: 6.04s\n",
      "309:\tlearn: 0.2695426\ttotal: 2.71s\tremaining: 6.04s\n",
      "310:\tlearn: 0.2693127\ttotal: 2.73s\tremaining: 6.04s\n",
      "311:\tlearn: 0.2691844\ttotal: 2.73s\tremaining: 6.03s\n",
      "312:\tlearn: 0.2690917\ttotal: 2.74s\tremaining: 6.02s\n",
      "313:\tlearn: 0.2690402\ttotal: 2.75s\tremaining: 6.01s\n",
      "314:\tlearn: 0.2688221\ttotal: 2.76s\tremaining: 6s\n",
      "315:\tlearn: 0.2685963\ttotal: 2.77s\tremaining: 6s\n",
      "316:\tlearn: 0.2683522\ttotal: 2.78s\tremaining: 5.99s\n",
      "317:\tlearn: 0.2682162\ttotal: 2.79s\tremaining: 5.98s\n",
      "318:\tlearn: 0.2680299\ttotal: 2.8s\tremaining: 5.97s\n",
      "319:\tlearn: 0.2679108\ttotal: 2.81s\tremaining: 5.96s\n",
      "320:\tlearn: 0.2677932\ttotal: 2.81s\tremaining: 5.95s\n",
      "321:\tlearn: 0.2676301\ttotal: 2.82s\tremaining: 5.94s\n",
      "322:\tlearn: 0.2674865\ttotal: 2.83s\tremaining: 5.93s\n",
      "323:\tlearn: 0.2673617\ttotal: 2.84s\tremaining: 5.92s\n",
      "324:\tlearn: 0.2671875\ttotal: 2.85s\tremaining: 5.91s\n",
      "325:\tlearn: 0.2669828\ttotal: 2.86s\tremaining: 5.91s\n",
      "326:\tlearn: 0.2668601\ttotal: 2.86s\tremaining: 5.89s\n"
     ]
    },
    {
     "name": "stdout",
     "output_type": "stream",
     "text": [
      "327:\tlearn: 0.2666200\ttotal: 2.87s\tremaining: 5.89s\n",
      "328:\tlearn: 0.2664650\ttotal: 2.88s\tremaining: 5.88s\n",
      "329:\tlearn: 0.2662741\ttotal: 2.89s\tremaining: 5.87s\n",
      "330:\tlearn: 0.2661449\ttotal: 2.9s\tremaining: 5.86s\n",
      "331:\tlearn: 0.2660531\ttotal: 2.91s\tremaining: 5.85s\n",
      "332:\tlearn: 0.2658619\ttotal: 2.92s\tremaining: 5.84s\n",
      "333:\tlearn: 0.2657320\ttotal: 2.92s\tremaining: 5.83s\n",
      "334:\tlearn: 0.2653392\ttotal: 2.93s\tremaining: 5.82s\n",
      "335:\tlearn: 0.2651429\ttotal: 2.94s\tremaining: 5.8s\n",
      "336:\tlearn: 0.2650694\ttotal: 2.94s\tremaining: 5.79s\n",
      "337:\tlearn: 0.2648258\ttotal: 2.95s\tremaining: 5.78s\n",
      "338:\tlearn: 0.2647641\ttotal: 2.96s\tremaining: 5.77s\n",
      "339:\tlearn: 0.2646466\ttotal: 2.97s\tremaining: 5.76s\n",
      "340:\tlearn: 0.2645111\ttotal: 2.97s\tremaining: 5.75s\n",
      "341:\tlearn: 0.2641539\ttotal: 2.98s\tremaining: 5.74s\n",
      "342:\tlearn: 0.2640404\ttotal: 2.99s\tremaining: 5.72s\n",
      "343:\tlearn: 0.2639445\ttotal: 2.99s\tremaining: 5.71s\n",
      "344:\tlearn: 0.2638446\ttotal: 3s\tremaining: 5.7s\n",
      "345:\tlearn: 0.2637689\ttotal: 3.01s\tremaining: 5.69s\n",
      "346:\tlearn: 0.2635987\ttotal: 3.02s\tremaining: 5.68s\n",
      "347:\tlearn: 0.2634701\ttotal: 3.02s\tremaining: 5.67s\n",
      "348:\tlearn: 0.2631766\ttotal: 3.03s\tremaining: 5.66s\n",
      "349:\tlearn: 0.2630785\ttotal: 3.04s\tremaining: 5.65s\n",
      "350:\tlearn: 0.2629021\ttotal: 3.05s\tremaining: 5.64s\n",
      "351:\tlearn: 0.2626223\ttotal: 3.06s\tremaining: 5.63s\n",
      "352:\tlearn: 0.2625434\ttotal: 3.07s\tremaining: 5.63s\n",
      "353:\tlearn: 0.2621651\ttotal: 3.08s\tremaining: 5.62s\n",
      "354:\tlearn: 0.2620108\ttotal: 3.09s\tremaining: 5.61s\n",
      "355:\tlearn: 0.2617531\ttotal: 3.1s\tremaining: 5.6s\n",
      "356:\tlearn: 0.2616772\ttotal: 3.1s\tremaining: 5.59s\n",
      "357:\tlearn: 0.2615958\ttotal: 3.11s\tremaining: 5.58s\n",
      "358:\tlearn: 0.2614994\ttotal: 3.12s\tremaining: 5.57s\n",
      "359:\tlearn: 0.2613633\ttotal: 3.13s\tremaining: 5.56s\n",
      "360:\tlearn: 0.2613157\ttotal: 3.13s\tremaining: 5.54s\n",
      "361:\tlearn: 0.2611531\ttotal: 3.14s\tremaining: 5.53s\n",
      "362:\tlearn: 0.2610651\ttotal: 3.15s\tremaining: 5.52s\n",
      "363:\tlearn: 0.2609745\ttotal: 3.15s\tremaining: 5.51s\n",
      "364:\tlearn: 0.2608361\ttotal: 3.16s\tremaining: 5.5s\n",
      "365:\tlearn: 0.2607530\ttotal: 3.17s\tremaining: 5.49s\n",
      "366:\tlearn: 0.2605412\ttotal: 3.18s\tremaining: 5.48s\n",
      "367:\tlearn: 0.2604014\ttotal: 3.18s\tremaining: 5.47s\n",
      "368:\tlearn: 0.2603147\ttotal: 3.19s\tremaining: 5.46s\n",
      "369:\tlearn: 0.2601541\ttotal: 3.2s\tremaining: 5.44s\n",
      "370:\tlearn: 0.2601060\ttotal: 3.21s\tremaining: 5.43s\n",
      "371:\tlearn: 0.2600541\ttotal: 3.21s\tremaining: 5.42s\n",
      "372:\tlearn: 0.2599443\ttotal: 3.22s\tremaining: 5.41s\n",
      "373:\tlearn: 0.2598559\ttotal: 3.23s\tremaining: 5.4s\n",
      "374:\tlearn: 0.2596865\ttotal: 3.23s\tremaining: 5.39s\n",
      "375:\tlearn: 0.2595669\ttotal: 3.24s\tremaining: 5.38s\n",
      "376:\tlearn: 0.2593881\ttotal: 3.25s\tremaining: 5.37s\n",
      "377:\tlearn: 0.2592465\ttotal: 3.25s\tremaining: 5.36s\n",
      "378:\tlearn: 0.2591473\ttotal: 3.26s\tremaining: 5.34s\n",
      "379:\tlearn: 0.2590256\ttotal: 3.27s\tremaining: 5.34s\n",
      "380:\tlearn: 0.2588676\ttotal: 3.28s\tremaining: 5.33s\n",
      "381:\tlearn: 0.2587510\ttotal: 3.29s\tremaining: 5.32s\n",
      "382:\tlearn: 0.2586678\ttotal: 3.3s\tremaining: 5.31s\n",
      "383:\tlearn: 0.2585722\ttotal: 3.31s\tremaining: 5.3s\n",
      "384:\tlearn: 0.2584976\ttotal: 3.31s\tremaining: 5.3s\n",
      "385:\tlearn: 0.2584169\ttotal: 3.32s\tremaining: 5.29s\n",
      "386:\tlearn: 0.2582950\ttotal: 3.33s\tremaining: 5.28s\n",
      "387:\tlearn: 0.2581216\ttotal: 3.34s\tremaining: 5.27s\n",
      "388:\tlearn: 0.2579544\ttotal: 3.35s\tremaining: 5.26s\n",
      "389:\tlearn: 0.2578364\ttotal: 3.35s\tremaining: 5.25s\n",
      "390:\tlearn: 0.2577601\ttotal: 3.36s\tremaining: 5.24s\n",
      "391:\tlearn: 0.2576321\ttotal: 3.37s\tremaining: 5.23s\n",
      "392:\tlearn: 0.2574493\ttotal: 3.38s\tremaining: 5.22s\n",
      "393:\tlearn: 0.2573387\ttotal: 3.38s\tremaining: 5.21s\n",
      "394:\tlearn: 0.2572252\ttotal: 3.39s\tremaining: 5.2s\n",
      "395:\tlearn: 0.2571727\ttotal: 3.4s\tremaining: 5.18s\n",
      "396:\tlearn: 0.2571178\ttotal: 3.41s\tremaining: 5.17s\n",
      "397:\tlearn: 0.2569762\ttotal: 3.41s\tremaining: 5.16s\n",
      "398:\tlearn: 0.2568386\ttotal: 3.42s\tremaining: 5.16s\n",
      "399:\tlearn: 0.2567472\ttotal: 3.44s\tremaining: 5.15s\n",
      "400:\tlearn: 0.2566937\ttotal: 3.45s\tremaining: 5.16s\n",
      "401:\tlearn: 0.2565244\ttotal: 3.46s\tremaining: 5.16s\n",
      "402:\tlearn: 0.2563979\ttotal: 3.48s\tremaining: 5.15s\n",
      "403:\tlearn: 0.2563312\ttotal: 3.48s\tremaining: 5.14s\n",
      "404:\tlearn: 0.2562867\ttotal: 3.49s\tremaining: 5.13s\n",
      "405:\tlearn: 0.2560728\ttotal: 3.5s\tremaining: 5.13s\n",
      "406:\tlearn: 0.2560016\ttotal: 3.51s\tremaining: 5.12s\n",
      "407:\tlearn: 0.2558054\ttotal: 3.52s\tremaining: 5.11s\n",
      "408:\tlearn: 0.2556886\ttotal: 3.53s\tremaining: 5.11s\n",
      "409:\tlearn: 0.2555584\ttotal: 3.55s\tremaining: 5.11s\n",
      "410:\tlearn: 0.2553930\ttotal: 3.56s\tremaining: 5.11s\n",
      "411:\tlearn: 0.2553330\ttotal: 3.58s\tremaining: 5.1s\n",
      "412:\tlearn: 0.2552181\ttotal: 3.59s\tremaining: 5.1s\n",
      "413:\tlearn: 0.2551061\ttotal: 3.6s\tremaining: 5.09s\n",
      "414:\tlearn: 0.2549601\ttotal: 3.61s\tremaining: 5.09s\n",
      "415:\tlearn: 0.2547519\ttotal: 3.63s\tremaining: 5.09s\n",
      "416:\tlearn: 0.2546511\ttotal: 3.64s\tremaining: 5.09s\n",
      "417:\tlearn: 0.2545511\ttotal: 3.65s\tremaining: 5.08s\n",
      "418:\tlearn: 0.2543903\ttotal: 3.66s\tremaining: 5.07s\n",
      "419:\tlearn: 0.2543195\ttotal: 3.67s\tremaining: 5.06s\n",
      "420:\tlearn: 0.2542219\ttotal: 3.68s\tremaining: 5.06s\n",
      "421:\tlearn: 0.2540810\ttotal: 3.69s\tremaining: 5.05s\n",
      "422:\tlearn: 0.2538308\ttotal: 3.69s\tremaining: 5.04s\n",
      "423:\tlearn: 0.2537775\ttotal: 3.71s\tremaining: 5.04s\n",
      "424:\tlearn: 0.2536649\ttotal: 3.72s\tremaining: 5.03s\n",
      "425:\tlearn: 0.2535792\ttotal: 3.73s\tremaining: 5.02s\n",
      "426:\tlearn: 0.2535319\ttotal: 3.74s\tremaining: 5.02s\n",
      "427:\tlearn: 0.2534634\ttotal: 3.75s\tremaining: 5.01s\n",
      "428:\tlearn: 0.2533329\ttotal: 3.77s\tremaining: 5.01s\n",
      "429:\tlearn: 0.2532807\ttotal: 3.78s\tremaining: 5.01s\n",
      "430:\tlearn: 0.2531516\ttotal: 3.79s\tremaining: 5.01s\n",
      "431:\tlearn: 0.2531011\ttotal: 3.8s\tremaining: 5s\n",
      "432:\tlearn: 0.2530311\ttotal: 3.81s\tremaining: 4.99s\n",
      "433:\tlearn: 0.2529306\ttotal: 3.82s\tremaining: 4.99s\n",
      "434:\tlearn: 0.2527538\ttotal: 3.83s\tremaining: 4.98s\n",
      "435:\tlearn: 0.2526136\ttotal: 3.84s\tremaining: 4.97s\n",
      "436:\tlearn: 0.2525651\ttotal: 3.85s\tremaining: 4.96s\n",
      "437:\tlearn: 0.2525124\ttotal: 3.86s\tremaining: 4.95s\n",
      "438:\tlearn: 0.2524458\ttotal: 3.87s\tremaining: 4.95s\n",
      "439:\tlearn: 0.2523538\ttotal: 3.88s\tremaining: 4.93s\n",
      "440:\tlearn: 0.2522727\ttotal: 3.88s\tremaining: 4.92s\n",
      "441:\tlearn: 0.2521469\ttotal: 3.89s\tremaining: 4.92s\n",
      "442:\tlearn: 0.2520662\ttotal: 3.9s\tremaining: 4.91s\n",
      "443:\tlearn: 0.2519944\ttotal: 3.91s\tremaining: 4.89s\n",
      "444:\tlearn: 0.2518141\ttotal: 3.92s\tremaining: 4.88s\n",
      "445:\tlearn: 0.2517346\ttotal: 3.92s\tremaining: 4.87s\n",
      "446:\tlearn: 0.2515979\ttotal: 3.93s\tremaining: 4.86s\n",
      "447:\tlearn: 0.2515325\ttotal: 3.94s\tremaining: 4.85s\n",
      "448:\tlearn: 0.2514449\ttotal: 3.94s\tremaining: 4.84s\n",
      "449:\tlearn: 0.2512968\ttotal: 3.95s\tremaining: 4.83s\n",
      "450:\tlearn: 0.2511327\ttotal: 3.96s\tremaining: 4.82s\n",
      "451:\tlearn: 0.2510759\ttotal: 3.97s\tremaining: 4.81s\n",
      "452:\tlearn: 0.2509781\ttotal: 3.97s\tremaining: 4.8s\n",
      "453:\tlearn: 0.2508014\ttotal: 3.98s\tremaining: 4.79s\n",
      "454:\tlearn: 0.2507211\ttotal: 3.99s\tremaining: 4.78s\n",
      "455:\tlearn: 0.2506418\ttotal: 4s\tremaining: 4.77s\n",
      "456:\tlearn: 0.2505362\ttotal: 4s\tremaining: 4.76s\n",
      "457:\tlearn: 0.2504793\ttotal: 4.01s\tremaining: 4.75s\n",
      "458:\tlearn: 0.2503689\ttotal: 4.02s\tremaining: 4.74s\n",
      "459:\tlearn: 0.2502675\ttotal: 4.03s\tremaining: 4.73s\n",
      "460:\tlearn: 0.2502131\ttotal: 4.04s\tremaining: 4.72s\n",
      "461:\tlearn: 0.2500466\ttotal: 4.05s\tremaining: 4.71s\n",
      "462:\tlearn: 0.2500228\ttotal: 4.06s\tremaining: 4.71s\n",
      "463:\tlearn: 0.2498883\ttotal: 4.07s\tremaining: 4.7s\n",
      "464:\tlearn: 0.2497903\ttotal: 4.07s\tremaining: 4.68s\n",
      "465:\tlearn: 0.2497539\ttotal: 4.08s\tremaining: 4.68s\n",
      "466:\tlearn: 0.2496535\ttotal: 4.09s\tremaining: 4.67s\n",
      "467:\tlearn: 0.2495602\ttotal: 4.1s\tremaining: 4.66s\n",
      "468:\tlearn: 0.2494573\ttotal: 4.11s\tremaining: 4.65s\n",
      "469:\tlearn: 0.2493740\ttotal: 4.12s\tremaining: 4.64s\n",
      "470:\tlearn: 0.2492130\ttotal: 4.13s\tremaining: 4.63s\n",
      "471:\tlearn: 0.2491379\ttotal: 4.13s\tremaining: 4.62s\n",
      "472:\tlearn: 0.2490081\ttotal: 4.14s\tremaining: 4.62s\n",
      "473:\tlearn: 0.2489315\ttotal: 4.15s\tremaining: 4.61s\n",
      "474:\tlearn: 0.2488501\ttotal: 4.16s\tremaining: 4.6s\n",
      "475:\tlearn: 0.2486926\ttotal: 4.17s\tremaining: 4.59s\n",
      "476:\tlearn: 0.2486003\ttotal: 4.18s\tremaining: 4.58s\n",
      "477:\tlearn: 0.2484017\ttotal: 4.18s\tremaining: 4.57s\n",
      "478:\tlearn: 0.2483424\ttotal: 4.19s\tremaining: 4.56s\n",
      "479:\tlearn: 0.2481588\ttotal: 4.2s\tremaining: 4.55s\n",
      "480:\tlearn: 0.2480893\ttotal: 4.21s\tremaining: 4.54s\n",
      "481:\tlearn: 0.2480173\ttotal: 4.21s\tremaining: 4.53s\n",
      "482:\tlearn: 0.2479639\ttotal: 4.22s\tremaining: 4.52s\n",
      "483:\tlearn: 0.2478461\ttotal: 4.23s\tremaining: 4.51s\n",
      "484:\tlearn: 0.2477642\ttotal: 4.23s\tremaining: 4.5s\n",
      "485:\tlearn: 0.2475242\ttotal: 4.24s\tremaining: 4.49s\n",
      "486:\tlearn: 0.2474218\ttotal: 4.25s\tremaining: 4.47s\n",
      "487:\tlearn: 0.2473183\ttotal: 4.26s\tremaining: 4.47s\n",
      "488:\tlearn: 0.2470731\ttotal: 4.26s\tremaining: 4.46s\n",
      "489:\tlearn: 0.2470395\ttotal: 4.27s\tremaining: 4.45s\n",
      "490:\tlearn: 0.2469582\ttotal: 4.28s\tremaining: 4.44s\n"
     ]
    },
    {
     "name": "stdout",
     "output_type": "stream",
     "text": [
      "491:\tlearn: 0.2468446\ttotal: 4.29s\tremaining: 4.43s\n",
      "492:\tlearn: 0.2467860\ttotal: 4.3s\tremaining: 4.42s\n",
      "493:\tlearn: 0.2466805\ttotal: 4.3s\tremaining: 4.41s\n",
      "494:\tlearn: 0.2466394\ttotal: 4.31s\tremaining: 4.4s\n",
      "495:\tlearn: 0.2464987\ttotal: 4.32s\tremaining: 4.39s\n",
      "496:\tlearn: 0.2464605\ttotal: 4.33s\tremaining: 4.38s\n",
      "497:\tlearn: 0.2462912\ttotal: 4.33s\tremaining: 4.37s\n",
      "498:\tlearn: 0.2460701\ttotal: 4.34s\tremaining: 4.36s\n",
      "499:\tlearn: 0.2459936\ttotal: 4.35s\tremaining: 4.35s\n",
      "500:\tlearn: 0.2457783\ttotal: 4.36s\tremaining: 4.34s\n",
      "501:\tlearn: 0.2456310\ttotal: 4.36s\tremaining: 4.33s\n",
      "502:\tlearn: 0.2456074\ttotal: 4.37s\tremaining: 4.32s\n",
      "503:\tlearn: 0.2455326\ttotal: 4.38s\tremaining: 4.31s\n",
      "504:\tlearn: 0.2454795\ttotal: 4.38s\tremaining: 4.3s\n",
      "505:\tlearn: 0.2453606\ttotal: 4.39s\tremaining: 4.29s\n",
      "506:\tlearn: 0.2453042\ttotal: 4.4s\tremaining: 4.28s\n",
      "507:\tlearn: 0.2452365\ttotal: 4.41s\tremaining: 4.27s\n",
      "508:\tlearn: 0.2451733\ttotal: 4.41s\tremaining: 4.26s\n",
      "509:\tlearn: 0.2450922\ttotal: 4.42s\tremaining: 4.25s\n",
      "510:\tlearn: 0.2450324\ttotal: 4.43s\tremaining: 4.24s\n",
      "511:\tlearn: 0.2450023\ttotal: 4.43s\tremaining: 4.22s\n",
      "512:\tlearn: 0.2449305\ttotal: 4.44s\tremaining: 4.21s\n",
      "513:\tlearn: 0.2448452\ttotal: 4.45s\tremaining: 4.2s\n",
      "514:\tlearn: 0.2446910\ttotal: 4.45s\tremaining: 4.19s\n",
      "515:\tlearn: 0.2446272\ttotal: 4.46s\tremaining: 4.18s\n",
      "516:\tlearn: 0.2444300\ttotal: 4.47s\tremaining: 4.17s\n",
      "517:\tlearn: 0.2443675\ttotal: 4.48s\tremaining: 4.17s\n",
      "518:\tlearn: 0.2442715\ttotal: 4.48s\tremaining: 4.15s\n",
      "519:\tlearn: 0.2442226\ttotal: 4.49s\tremaining: 4.14s\n",
      "520:\tlearn: 0.2441535\ttotal: 4.5s\tremaining: 4.13s\n",
      "521:\tlearn: 0.2441052\ttotal: 4.5s\tremaining: 4.13s\n",
      "522:\tlearn: 0.2440650\ttotal: 4.51s\tremaining: 4.12s\n",
      "523:\tlearn: 0.2440052\ttotal: 4.52s\tremaining: 4.1s\n",
      "524:\tlearn: 0.2439535\ttotal: 4.53s\tremaining: 4.1s\n",
      "525:\tlearn: 0.2438383\ttotal: 4.54s\tremaining: 4.09s\n",
      "526:\tlearn: 0.2437796\ttotal: 4.54s\tremaining: 4.08s\n",
      "527:\tlearn: 0.2436850\ttotal: 4.55s\tremaining: 4.07s\n",
      "528:\tlearn: 0.2436410\ttotal: 4.56s\tremaining: 4.06s\n",
      "529:\tlearn: 0.2434856\ttotal: 4.57s\tremaining: 4.05s\n",
      "530:\tlearn: 0.2433941\ttotal: 4.58s\tremaining: 4.05s\n",
      "531:\tlearn: 0.2432855\ttotal: 4.59s\tremaining: 4.04s\n",
      "532:\tlearn: 0.2432172\ttotal: 4.6s\tremaining: 4.03s\n",
      "533:\tlearn: 0.2431003\ttotal: 4.61s\tremaining: 4.02s\n",
      "534:\tlearn: 0.2429659\ttotal: 4.62s\tremaining: 4.01s\n",
      "535:\tlearn: 0.2428976\ttotal: 4.63s\tremaining: 4s\n",
      "536:\tlearn: 0.2428268\ttotal: 4.63s\tremaining: 4s\n",
      "537:\tlearn: 0.2427634\ttotal: 4.64s\tremaining: 3.99s\n",
      "538:\tlearn: 0.2426579\ttotal: 4.65s\tremaining: 3.98s\n",
      "539:\tlearn: 0.2425656\ttotal: 4.66s\tremaining: 3.97s\n",
      "540:\tlearn: 0.2424977\ttotal: 4.67s\tremaining: 3.96s\n",
      "541:\tlearn: 0.2424189\ttotal: 4.67s\tremaining: 3.95s\n",
      "542:\tlearn: 0.2423266\ttotal: 4.68s\tremaining: 3.94s\n",
      "543:\tlearn: 0.2422424\ttotal: 4.69s\tremaining: 3.93s\n",
      "544:\tlearn: 0.2421110\ttotal: 4.7s\tremaining: 3.92s\n",
      "545:\tlearn: 0.2420331\ttotal: 4.7s\tremaining: 3.91s\n",
      "546:\tlearn: 0.2418742\ttotal: 4.71s\tremaining: 3.9s\n",
      "547:\tlearn: 0.2418224\ttotal: 4.72s\tremaining: 3.89s\n",
      "548:\tlearn: 0.2417480\ttotal: 4.72s\tremaining: 3.88s\n",
      "549:\tlearn: 0.2416874\ttotal: 4.73s\tremaining: 3.87s\n",
      "550:\tlearn: 0.2415746\ttotal: 4.74s\tremaining: 3.86s\n",
      "551:\tlearn: 0.2415241\ttotal: 4.75s\tremaining: 3.85s\n",
      "552:\tlearn: 0.2414119\ttotal: 4.75s\tremaining: 3.84s\n",
      "553:\tlearn: 0.2412742\ttotal: 4.76s\tremaining: 3.83s\n",
      "554:\tlearn: 0.2412270\ttotal: 4.77s\tremaining: 3.82s\n",
      "555:\tlearn: 0.2411391\ttotal: 4.78s\tremaining: 3.81s\n",
      "556:\tlearn: 0.2410881\ttotal: 4.79s\tremaining: 3.81s\n",
      "557:\tlearn: 0.2409722\ttotal: 4.79s\tremaining: 3.8s\n",
      "558:\tlearn: 0.2409154\ttotal: 4.8s\tremaining: 3.79s\n",
      "559:\tlearn: 0.2408916\ttotal: 4.81s\tremaining: 3.78s\n",
      "560:\tlearn: 0.2407963\ttotal: 4.82s\tremaining: 3.77s\n",
      "561:\tlearn: 0.2406668\ttotal: 4.82s\tremaining: 3.76s\n",
      "562:\tlearn: 0.2405501\ttotal: 4.83s\tremaining: 3.75s\n",
      "563:\tlearn: 0.2404316\ttotal: 4.84s\tremaining: 3.74s\n",
      "564:\tlearn: 0.2403414\ttotal: 4.84s\tremaining: 3.73s\n",
      "565:\tlearn: 0.2402724\ttotal: 4.85s\tremaining: 3.72s\n",
      "566:\tlearn: 0.2401870\ttotal: 4.86s\tremaining: 3.71s\n",
      "567:\tlearn: 0.2401435\ttotal: 4.87s\tremaining: 3.7s\n",
      "568:\tlearn: 0.2400634\ttotal: 4.87s\tremaining: 3.69s\n",
      "569:\tlearn: 0.2399882\ttotal: 4.88s\tremaining: 3.68s\n",
      "570:\tlearn: 0.2398482\ttotal: 4.89s\tremaining: 3.67s\n",
      "571:\tlearn: 0.2397752\ttotal: 4.89s\tremaining: 3.66s\n",
      "572:\tlearn: 0.2397083\ttotal: 4.9s\tremaining: 3.65s\n",
      "573:\tlearn: 0.2396241\ttotal: 4.91s\tremaining: 3.64s\n",
      "574:\tlearn: 0.2395345\ttotal: 4.91s\tremaining: 3.63s\n",
      "575:\tlearn: 0.2394433\ttotal: 4.92s\tremaining: 3.62s\n",
      "576:\tlearn: 0.2393791\ttotal: 4.93s\tremaining: 3.61s\n",
      "577:\tlearn: 0.2393081\ttotal: 4.94s\tremaining: 3.6s\n",
      "578:\tlearn: 0.2392612\ttotal: 4.94s\tremaining: 3.59s\n",
      "579:\tlearn: 0.2392212\ttotal: 4.95s\tremaining: 3.58s\n",
      "580:\tlearn: 0.2391652\ttotal: 4.96s\tremaining: 3.57s\n",
      "581:\tlearn: 0.2391232\ttotal: 4.96s\tremaining: 3.56s\n",
      "582:\tlearn: 0.2389590\ttotal: 4.97s\tremaining: 3.56s\n",
      "583:\tlearn: 0.2388609\ttotal: 4.98s\tremaining: 3.55s\n",
      "584:\tlearn: 0.2387902\ttotal: 4.99s\tremaining: 3.54s\n",
      "585:\tlearn: 0.2386815\ttotal: 5s\tremaining: 3.53s\n",
      "586:\tlearn: 0.2386476\ttotal: 5.01s\tremaining: 3.52s\n",
      "587:\tlearn: 0.2385746\ttotal: 5.02s\tremaining: 3.52s\n",
      "588:\tlearn: 0.2384640\ttotal: 5.03s\tremaining: 3.51s\n",
      "589:\tlearn: 0.2383748\ttotal: 5.04s\tremaining: 3.5s\n",
      "590:\tlearn: 0.2382869\ttotal: 5.04s\tremaining: 3.49s\n",
      "591:\tlearn: 0.2382471\ttotal: 5.06s\tremaining: 3.48s\n",
      "592:\tlearn: 0.2381562\ttotal: 5.07s\tremaining: 3.48s\n",
      "593:\tlearn: 0.2380942\ttotal: 5.08s\tremaining: 3.47s\n",
      "594:\tlearn: 0.2379466\ttotal: 5.09s\tremaining: 3.46s\n",
      "595:\tlearn: 0.2378767\ttotal: 5.1s\tremaining: 3.46s\n",
      "596:\tlearn: 0.2376443\ttotal: 5.11s\tremaining: 3.45s\n",
      "597:\tlearn: 0.2375318\ttotal: 5.13s\tremaining: 3.44s\n",
      "598:\tlearn: 0.2374543\ttotal: 5.13s\tremaining: 3.44s\n",
      "599:\tlearn: 0.2373375\ttotal: 5.14s\tremaining: 3.43s\n",
      "600:\tlearn: 0.2372466\ttotal: 5.15s\tremaining: 3.42s\n",
      "601:\tlearn: 0.2371606\ttotal: 5.16s\tremaining: 3.41s\n",
      "602:\tlearn: 0.2370499\ttotal: 5.17s\tremaining: 3.4s\n",
      "603:\tlearn: 0.2369997\ttotal: 5.18s\tremaining: 3.4s\n",
      "604:\tlearn: 0.2369480\ttotal: 5.19s\tremaining: 3.39s\n",
      "605:\tlearn: 0.2368667\ttotal: 5.2s\tremaining: 3.38s\n",
      "606:\tlearn: 0.2367344\ttotal: 5.21s\tremaining: 3.37s\n",
      "607:\tlearn: 0.2366994\ttotal: 5.21s\tremaining: 3.36s\n",
      "608:\tlearn: 0.2365583\ttotal: 5.22s\tremaining: 3.35s\n",
      "609:\tlearn: 0.2364661\ttotal: 5.23s\tremaining: 3.35s\n",
      "610:\tlearn: 0.2363779\ttotal: 5.24s\tremaining: 3.34s\n",
      "611:\tlearn: 0.2362923\ttotal: 5.25s\tremaining: 3.33s\n",
      "612:\tlearn: 0.2361982\ttotal: 5.26s\tremaining: 3.32s\n",
      "613:\tlearn: 0.2360854\ttotal: 5.27s\tremaining: 3.31s\n",
      "614:\tlearn: 0.2360047\ttotal: 5.28s\tremaining: 3.3s\n",
      "615:\tlearn: 0.2359055\ttotal: 5.29s\tremaining: 3.3s\n",
      "616:\tlearn: 0.2358121\ttotal: 5.3s\tremaining: 3.29s\n",
      "617:\tlearn: 0.2357411\ttotal: 5.31s\tremaining: 3.28s\n",
      "618:\tlearn: 0.2356705\ttotal: 5.32s\tremaining: 3.27s\n",
      "619:\tlearn: 0.2355877\ttotal: 5.33s\tremaining: 3.26s\n",
      "620:\tlearn: 0.2355274\ttotal: 5.33s\tremaining: 3.26s\n",
      "621:\tlearn: 0.2354734\ttotal: 5.34s\tremaining: 3.25s\n",
      "622:\tlearn: 0.2353768\ttotal: 5.35s\tremaining: 3.24s\n",
      "623:\tlearn: 0.2353227\ttotal: 5.36s\tremaining: 3.23s\n",
      "624:\tlearn: 0.2352308\ttotal: 5.37s\tremaining: 3.22s\n",
      "625:\tlearn: 0.2352024\ttotal: 5.38s\tremaining: 3.21s\n",
      "626:\tlearn: 0.2351253\ttotal: 5.39s\tremaining: 3.21s\n",
      "627:\tlearn: 0.2350409\ttotal: 5.4s\tremaining: 3.2s\n",
      "628:\tlearn: 0.2349451\ttotal: 5.4s\tremaining: 3.19s\n",
      "629:\tlearn: 0.2348691\ttotal: 5.41s\tremaining: 3.18s\n",
      "630:\tlearn: 0.2348366\ttotal: 5.42s\tremaining: 3.17s\n",
      "631:\tlearn: 0.2347747\ttotal: 5.42s\tremaining: 3.16s\n",
      "632:\tlearn: 0.2346550\ttotal: 5.43s\tremaining: 3.15s\n",
      "633:\tlearn: 0.2345564\ttotal: 5.44s\tremaining: 3.14s\n",
      "634:\tlearn: 0.2345281\ttotal: 5.45s\tremaining: 3.13s\n",
      "635:\tlearn: 0.2344563\ttotal: 5.45s\tremaining: 3.12s\n",
      "636:\tlearn: 0.2343360\ttotal: 5.46s\tremaining: 3.11s\n",
      "637:\tlearn: 0.2342700\ttotal: 5.47s\tremaining: 3.1s\n",
      "638:\tlearn: 0.2341688\ttotal: 5.47s\tremaining: 3.09s\n",
      "639:\tlearn: 0.2340799\ttotal: 5.48s\tremaining: 3.08s\n",
      "640:\tlearn: 0.2339863\ttotal: 5.49s\tremaining: 3.07s\n",
      "641:\tlearn: 0.2339375\ttotal: 5.5s\tremaining: 3.06s\n",
      "642:\tlearn: 0.2338738\ttotal: 5.5s\tremaining: 3.06s\n",
      "643:\tlearn: 0.2338051\ttotal: 5.51s\tremaining: 3.04s\n",
      "644:\tlearn: 0.2337595\ttotal: 5.52s\tremaining: 3.04s\n",
      "645:\tlearn: 0.2336326\ttotal: 5.52s\tremaining: 3.03s\n",
      "646:\tlearn: 0.2335566\ttotal: 5.53s\tremaining: 3.02s\n",
      "647:\tlearn: 0.2333752\ttotal: 5.54s\tremaining: 3.01s\n",
      "648:\tlearn: 0.2333050\ttotal: 5.55s\tremaining: 3s\n",
      "649:\tlearn: 0.2332322\ttotal: 5.55s\tremaining: 2.99s\n",
      "650:\tlearn: 0.2331559\ttotal: 5.56s\tremaining: 2.98s\n",
      "651:\tlearn: 0.2330355\ttotal: 5.57s\tremaining: 2.97s\n",
      "652:\tlearn: 0.2329901\ttotal: 5.58s\tremaining: 2.96s\n",
      "653:\tlearn: 0.2329461\ttotal: 5.59s\tremaining: 2.96s\n",
      "654:\tlearn: 0.2328874\ttotal: 5.6s\tremaining: 2.95s\n",
      "655:\tlearn: 0.2328418\ttotal: 5.61s\tremaining: 2.94s\n",
      "656:\tlearn: 0.2327835\ttotal: 5.61s\tremaining: 2.93s\n",
      "657:\tlearn: 0.2326062\ttotal: 5.62s\tremaining: 2.92s\n"
     ]
    },
    {
     "name": "stdout",
     "output_type": "stream",
     "text": [
      "658:\tlearn: 0.2324429\ttotal: 5.63s\tremaining: 2.91s\n",
      "659:\tlearn: 0.2323739\ttotal: 5.64s\tremaining: 2.9s\n",
      "660:\tlearn: 0.2323064\ttotal: 5.64s\tremaining: 2.89s\n",
      "661:\tlearn: 0.2322149\ttotal: 5.65s\tremaining: 2.88s\n",
      "662:\tlearn: 0.2321401\ttotal: 5.66s\tremaining: 2.88s\n",
      "663:\tlearn: 0.2320750\ttotal: 5.66s\tremaining: 2.87s\n",
      "664:\tlearn: 0.2320049\ttotal: 5.67s\tremaining: 2.86s\n",
      "665:\tlearn: 0.2319447\ttotal: 5.68s\tremaining: 2.85s\n",
      "666:\tlearn: 0.2318910\ttotal: 5.69s\tremaining: 2.84s\n",
      "667:\tlearn: 0.2318386\ttotal: 5.69s\tremaining: 2.83s\n",
      "668:\tlearn: 0.2317597\ttotal: 5.7s\tremaining: 2.82s\n",
      "669:\tlearn: 0.2316939\ttotal: 5.71s\tremaining: 2.81s\n",
      "670:\tlearn: 0.2316764\ttotal: 5.71s\tremaining: 2.8s\n",
      "671:\tlearn: 0.2316604\ttotal: 5.72s\tremaining: 2.79s\n",
      "672:\tlearn: 0.2316002\ttotal: 5.73s\tremaining: 2.78s\n",
      "673:\tlearn: 0.2315453\ttotal: 5.73s\tremaining: 2.77s\n",
      "674:\tlearn: 0.2315215\ttotal: 5.74s\tremaining: 2.77s\n",
      "675:\tlearn: 0.2314238\ttotal: 5.75s\tremaining: 2.76s\n",
      "676:\tlearn: 0.2313169\ttotal: 5.76s\tremaining: 2.75s\n",
      "677:\tlearn: 0.2312581\ttotal: 5.77s\tremaining: 2.74s\n",
      "678:\tlearn: 0.2312102\ttotal: 5.78s\tremaining: 2.73s\n",
      "679:\tlearn: 0.2311761\ttotal: 5.79s\tremaining: 2.72s\n",
      "680:\tlearn: 0.2311024\ttotal: 5.8s\tremaining: 2.72s\n",
      "681:\tlearn: 0.2310284\ttotal: 5.81s\tremaining: 2.71s\n",
      "682:\tlearn: 0.2309193\ttotal: 5.82s\tremaining: 2.7s\n",
      "683:\tlearn: 0.2308515\ttotal: 5.82s\tremaining: 2.69s\n",
      "684:\tlearn: 0.2307839\ttotal: 5.83s\tremaining: 2.68s\n",
      "685:\tlearn: 0.2307362\ttotal: 5.84s\tremaining: 2.67s\n",
      "686:\tlearn: 0.2306568\ttotal: 5.85s\tremaining: 2.66s\n",
      "687:\tlearn: 0.2306234\ttotal: 5.86s\tremaining: 2.65s\n",
      "688:\tlearn: 0.2305261\ttotal: 5.86s\tremaining: 2.65s\n",
      "689:\tlearn: 0.2303549\ttotal: 5.87s\tremaining: 2.64s\n",
      "690:\tlearn: 0.2303025\ttotal: 5.88s\tremaining: 2.63s\n",
      "691:\tlearn: 0.2302361\ttotal: 5.88s\tremaining: 2.62s\n",
      "692:\tlearn: 0.2301641\ttotal: 5.89s\tremaining: 2.61s\n",
      "693:\tlearn: 0.2300762\ttotal: 5.9s\tremaining: 2.6s\n",
      "694:\tlearn: 0.2300393\ttotal: 5.91s\tremaining: 2.59s\n",
      "695:\tlearn: 0.2299601\ttotal: 5.91s\tremaining: 2.58s\n",
      "696:\tlearn: 0.2298747\ttotal: 5.92s\tremaining: 2.57s\n",
      "697:\tlearn: 0.2298378\ttotal: 5.93s\tremaining: 2.56s\n",
      "698:\tlearn: 0.2297848\ttotal: 5.94s\tremaining: 2.56s\n",
      "699:\tlearn: 0.2296700\ttotal: 5.95s\tremaining: 2.55s\n",
      "700:\tlearn: 0.2296088\ttotal: 5.96s\tremaining: 2.54s\n",
      "701:\tlearn: 0.2294989\ttotal: 5.97s\tremaining: 2.53s\n",
      "702:\tlearn: 0.2294255\ttotal: 5.98s\tremaining: 2.53s\n",
      "703:\tlearn: 0.2293596\ttotal: 5.99s\tremaining: 2.52s\n",
      "704:\tlearn: 0.2292776\ttotal: 6s\tremaining: 2.51s\n",
      "705:\tlearn: 0.2292039\ttotal: 6.01s\tremaining: 2.5s\n",
      "706:\tlearn: 0.2290773\ttotal: 6.01s\tremaining: 2.49s\n",
      "707:\tlearn: 0.2290311\ttotal: 6.02s\tremaining: 2.48s\n",
      "708:\tlearn: 0.2289814\ttotal: 6.03s\tremaining: 2.48s\n",
      "709:\tlearn: 0.2289386\ttotal: 6.04s\tremaining: 2.47s\n",
      "710:\tlearn: 0.2288778\ttotal: 6.05s\tremaining: 2.46s\n",
      "711:\tlearn: 0.2287446\ttotal: 6.06s\tremaining: 2.45s\n",
      "712:\tlearn: 0.2286540\ttotal: 6.07s\tremaining: 2.44s\n",
      "713:\tlearn: 0.2285948\ttotal: 6.08s\tremaining: 2.43s\n",
      "714:\tlearn: 0.2285360\ttotal: 6.08s\tremaining: 2.42s\n",
      "715:\tlearn: 0.2284878\ttotal: 6.09s\tremaining: 2.42s\n",
      "716:\tlearn: 0.2284353\ttotal: 6.1s\tremaining: 2.41s\n",
      "717:\tlearn: 0.2283396\ttotal: 6.11s\tremaining: 2.4s\n",
      "718:\tlearn: 0.2282739\ttotal: 6.12s\tremaining: 2.39s\n",
      "719:\tlearn: 0.2281915\ttotal: 6.13s\tremaining: 2.38s\n",
      "720:\tlearn: 0.2281168\ttotal: 6.13s\tremaining: 2.37s\n",
      "721:\tlearn: 0.2280140\ttotal: 6.14s\tremaining: 2.37s\n",
      "722:\tlearn: 0.2279451\ttotal: 6.15s\tremaining: 2.36s\n",
      "723:\tlearn: 0.2278875\ttotal: 6.16s\tremaining: 2.35s\n",
      "724:\tlearn: 0.2278088\ttotal: 6.17s\tremaining: 2.34s\n",
      "725:\tlearn: 0.2277002\ttotal: 6.17s\tremaining: 2.33s\n",
      "726:\tlearn: 0.2276329\ttotal: 6.18s\tremaining: 2.32s\n",
      "727:\tlearn: 0.2275945\ttotal: 6.19s\tremaining: 2.31s\n",
      "728:\tlearn: 0.2275125\ttotal: 6.2s\tremaining: 2.3s\n",
      "729:\tlearn: 0.2274499\ttotal: 6.21s\tremaining: 2.3s\n",
      "730:\tlearn: 0.2273238\ttotal: 6.22s\tremaining: 2.29s\n",
      "731:\tlearn: 0.2272258\ttotal: 6.22s\tremaining: 2.28s\n",
      "732:\tlearn: 0.2271591\ttotal: 6.23s\tremaining: 2.27s\n",
      "733:\tlearn: 0.2271156\ttotal: 6.24s\tremaining: 2.26s\n",
      "734:\tlearn: 0.2270685\ttotal: 6.25s\tremaining: 2.25s\n",
      "735:\tlearn: 0.2270023\ttotal: 6.26s\tremaining: 2.25s\n",
      "736:\tlearn: 0.2269497\ttotal: 6.27s\tremaining: 2.24s\n",
      "737:\tlearn: 0.2268877\ttotal: 6.28s\tremaining: 2.23s\n",
      "738:\tlearn: 0.2268356\ttotal: 6.29s\tremaining: 2.22s\n",
      "739:\tlearn: 0.2267997\ttotal: 6.3s\tremaining: 2.21s\n",
      "740:\tlearn: 0.2267449\ttotal: 6.31s\tremaining: 2.2s\n",
      "741:\tlearn: 0.2266922\ttotal: 6.32s\tremaining: 2.2s\n",
      "742:\tlearn: 0.2266237\ttotal: 6.33s\tremaining: 2.19s\n",
      "743:\tlearn: 0.2265750\ttotal: 6.34s\tremaining: 2.18s\n",
      "744:\tlearn: 0.2265315\ttotal: 6.35s\tremaining: 2.17s\n",
      "745:\tlearn: 0.2264680\ttotal: 6.36s\tremaining: 2.16s\n",
      "746:\tlearn: 0.2264189\ttotal: 6.36s\tremaining: 2.15s\n",
      "747:\tlearn: 0.2263694\ttotal: 6.37s\tremaining: 2.15s\n",
      "748:\tlearn: 0.2262833\ttotal: 6.38s\tremaining: 2.14s\n",
      "749:\tlearn: 0.2262248\ttotal: 6.38s\tremaining: 2.13s\n",
      "750:\tlearn: 0.2260849\ttotal: 6.39s\tremaining: 2.12s\n",
      "751:\tlearn: 0.2259805\ttotal: 6.4s\tremaining: 2.11s\n",
      "752:\tlearn: 0.2259045\ttotal: 6.41s\tremaining: 2.1s\n",
      "753:\tlearn: 0.2258611\ttotal: 6.42s\tremaining: 2.09s\n",
      "754:\tlearn: 0.2257980\ttotal: 6.43s\tremaining: 2.08s\n",
      "755:\tlearn: 0.2257392\ttotal: 6.43s\tremaining: 2.08s\n",
      "756:\tlearn: 0.2256826\ttotal: 6.44s\tremaining: 2.07s\n",
      "757:\tlearn: 0.2256139\ttotal: 6.45s\tremaining: 2.06s\n",
      "758:\tlearn: 0.2255451\ttotal: 6.46s\tremaining: 2.05s\n",
      "759:\tlearn: 0.2254906\ttotal: 6.47s\tremaining: 2.04s\n",
      "760:\tlearn: 0.2253933\ttotal: 6.48s\tremaining: 2.03s\n",
      "761:\tlearn: 0.2253315\ttotal: 6.48s\tremaining: 2.02s\n",
      "762:\tlearn: 0.2252276\ttotal: 6.49s\tremaining: 2.02s\n",
      "763:\tlearn: 0.2251468\ttotal: 6.5s\tremaining: 2.01s\n",
      "764:\tlearn: 0.2250939\ttotal: 6.5s\tremaining: 2s\n",
      "765:\tlearn: 0.2250328\ttotal: 6.51s\tremaining: 1.99s\n",
      "766:\tlearn: 0.2249657\ttotal: 6.52s\tremaining: 1.98s\n",
      "767:\tlearn: 0.2249271\ttotal: 6.53s\tremaining: 1.97s\n",
      "768:\tlearn: 0.2248609\ttotal: 6.54s\tremaining: 1.96s\n",
      "769:\tlearn: 0.2247871\ttotal: 6.55s\tremaining: 1.96s\n",
      "770:\tlearn: 0.2247121\ttotal: 6.56s\tremaining: 1.95s\n",
      "771:\tlearn: 0.2246690\ttotal: 6.57s\tremaining: 1.94s\n",
      "772:\tlearn: 0.2245948\ttotal: 6.58s\tremaining: 1.93s\n",
      "773:\tlearn: 0.2245065\ttotal: 6.59s\tremaining: 1.92s\n",
      "774:\tlearn: 0.2244481\ttotal: 6.6s\tremaining: 1.92s\n",
      "775:\tlearn: 0.2243675\ttotal: 6.61s\tremaining: 1.91s\n",
      "776:\tlearn: 0.2243177\ttotal: 6.62s\tremaining: 1.9s\n",
      "777:\tlearn: 0.2242851\ttotal: 6.63s\tremaining: 1.89s\n",
      "778:\tlearn: 0.2242422\ttotal: 6.64s\tremaining: 1.88s\n",
      "779:\tlearn: 0.2242064\ttotal: 6.64s\tremaining: 1.87s\n",
      "780:\tlearn: 0.2241583\ttotal: 6.65s\tremaining: 1.86s\n",
      "781:\tlearn: 0.2240932\ttotal: 6.66s\tremaining: 1.86s\n",
      "782:\tlearn: 0.2239668\ttotal: 6.67s\tremaining: 1.85s\n",
      "783:\tlearn: 0.2239000\ttotal: 6.68s\tremaining: 1.84s\n",
      "784:\tlearn: 0.2238265\ttotal: 6.68s\tremaining: 1.83s\n",
      "785:\tlearn: 0.2237856\ttotal: 6.69s\tremaining: 1.82s\n",
      "786:\tlearn: 0.2237285\ttotal: 6.7s\tremaining: 1.81s\n",
      "787:\tlearn: 0.2236633\ttotal: 6.71s\tremaining: 1.8s\n",
      "788:\tlearn: 0.2235907\ttotal: 6.71s\tremaining: 1.79s\n",
      "789:\tlearn: 0.2235287\ttotal: 6.72s\tremaining: 1.79s\n",
      "790:\tlearn: 0.2234982\ttotal: 6.73s\tremaining: 1.78s\n",
      "791:\tlearn: 0.2234501\ttotal: 6.74s\tremaining: 1.77s\n",
      "792:\tlearn: 0.2233830\ttotal: 6.75s\tremaining: 1.76s\n",
      "793:\tlearn: 0.2233127\ttotal: 6.76s\tremaining: 1.75s\n",
      "794:\tlearn: 0.2232567\ttotal: 6.77s\tremaining: 1.75s\n",
      "795:\tlearn: 0.2231703\ttotal: 6.78s\tremaining: 1.74s\n",
      "796:\tlearn: 0.2231393\ttotal: 6.79s\tremaining: 1.73s\n",
      "797:\tlearn: 0.2230779\ttotal: 6.79s\tremaining: 1.72s\n",
      "798:\tlearn: 0.2230506\ttotal: 6.8s\tremaining: 1.71s\n",
      "799:\tlearn: 0.2229952\ttotal: 6.81s\tremaining: 1.7s\n",
      "800:\tlearn: 0.2229563\ttotal: 6.82s\tremaining: 1.69s\n",
      "801:\tlearn: 0.2229355\ttotal: 6.83s\tremaining: 1.69s\n",
      "802:\tlearn: 0.2228882\ttotal: 6.83s\tremaining: 1.68s\n",
      "803:\tlearn: 0.2228025\ttotal: 6.84s\tremaining: 1.67s\n",
      "804:\tlearn: 0.2227781\ttotal: 6.85s\tremaining: 1.66s\n",
      "805:\tlearn: 0.2227411\ttotal: 6.85s\tremaining: 1.65s\n",
      "806:\tlearn: 0.2226999\ttotal: 6.86s\tremaining: 1.64s\n",
      "807:\tlearn: 0.2225868\ttotal: 6.87s\tremaining: 1.63s\n",
      "808:\tlearn: 0.2225319\ttotal: 6.87s\tremaining: 1.62s\n",
      "809:\tlearn: 0.2224096\ttotal: 6.88s\tremaining: 1.61s\n",
      "810:\tlearn: 0.2222769\ttotal: 6.89s\tremaining: 1.6s\n",
      "811:\tlearn: 0.2221805\ttotal: 6.89s\tremaining: 1.6s\n",
      "812:\tlearn: 0.2220972\ttotal: 6.9s\tremaining: 1.59s\n",
      "813:\tlearn: 0.2220554\ttotal: 6.91s\tremaining: 1.58s\n",
      "814:\tlearn: 0.2220013\ttotal: 6.92s\tremaining: 1.57s\n",
      "815:\tlearn: 0.2219512\ttotal: 6.92s\tremaining: 1.56s\n",
      "816:\tlearn: 0.2219066\ttotal: 6.93s\tremaining: 1.55s\n",
      "817:\tlearn: 0.2218003\ttotal: 6.94s\tremaining: 1.54s\n",
      "818:\tlearn: 0.2217625\ttotal: 6.94s\tremaining: 1.53s\n",
      "819:\tlearn: 0.2216947\ttotal: 6.95s\tremaining: 1.52s\n"
     ]
    },
    {
     "name": "stdout",
     "output_type": "stream",
     "text": [
      "820:\tlearn: 0.2215951\ttotal: 6.96s\tremaining: 1.52s\n",
      "821:\tlearn: 0.2215444\ttotal: 6.96s\tremaining: 1.51s\n",
      "822:\tlearn: 0.2214394\ttotal: 6.97s\tremaining: 1.5s\n",
      "823:\tlearn: 0.2213905\ttotal: 6.98s\tremaining: 1.49s\n",
      "824:\tlearn: 0.2213461\ttotal: 6.99s\tremaining: 1.48s\n",
      "825:\tlearn: 0.2213029\ttotal: 6.99s\tremaining: 1.47s\n",
      "826:\tlearn: 0.2212725\ttotal: 7s\tremaining: 1.46s\n",
      "827:\tlearn: 0.2211385\ttotal: 7.01s\tremaining: 1.46s\n",
      "828:\tlearn: 0.2210514\ttotal: 7.02s\tremaining: 1.45s\n",
      "829:\tlearn: 0.2210235\ttotal: 7.03s\tremaining: 1.44s\n",
      "830:\tlearn: 0.2209553\ttotal: 7.04s\tremaining: 1.43s\n",
      "831:\tlearn: 0.2209085\ttotal: 7.04s\tremaining: 1.42s\n",
      "832:\tlearn: 0.2208695\ttotal: 7.05s\tremaining: 1.41s\n",
      "833:\tlearn: 0.2208226\ttotal: 7.06s\tremaining: 1.41s\n",
      "834:\tlearn: 0.2207751\ttotal: 7.07s\tremaining: 1.4s\n",
      "835:\tlearn: 0.2207280\ttotal: 7.08s\tremaining: 1.39s\n",
      "836:\tlearn: 0.2206689\ttotal: 7.09s\tremaining: 1.38s\n",
      "837:\tlearn: 0.2205518\ttotal: 7.09s\tremaining: 1.37s\n",
      "838:\tlearn: 0.2205275\ttotal: 7.11s\tremaining: 1.36s\n",
      "839:\tlearn: 0.2204553\ttotal: 7.12s\tremaining: 1.35s\n",
      "840:\tlearn: 0.2203573\ttotal: 7.13s\tremaining: 1.35s\n",
      "841:\tlearn: 0.2203035\ttotal: 7.13s\tremaining: 1.34s\n",
      "842:\tlearn: 0.2202441\ttotal: 7.14s\tremaining: 1.33s\n",
      "843:\tlearn: 0.2202063\ttotal: 7.15s\tremaining: 1.32s\n",
      "844:\tlearn: 0.2201541\ttotal: 7.15s\tremaining: 1.31s\n",
      "845:\tlearn: 0.2200371\ttotal: 7.16s\tremaining: 1.3s\n",
      "846:\tlearn: 0.2200063\ttotal: 7.17s\tremaining: 1.29s\n",
      "847:\tlearn: 0.2199060\ttotal: 7.17s\tremaining: 1.28s\n",
      "848:\tlearn: 0.2198429\ttotal: 7.18s\tremaining: 1.28s\n",
      "849:\tlearn: 0.2197949\ttotal: 7.19s\tremaining: 1.27s\n",
      "850:\tlearn: 0.2197380\ttotal: 7.2s\tremaining: 1.26s\n",
      "851:\tlearn: 0.2196666\ttotal: 7.2s\tremaining: 1.25s\n",
      "852:\tlearn: 0.2196019\ttotal: 7.21s\tremaining: 1.24s\n",
      "853:\tlearn: 0.2195309\ttotal: 7.22s\tremaining: 1.23s\n",
      "854:\tlearn: 0.2194933\ttotal: 7.23s\tremaining: 1.23s\n",
      "855:\tlearn: 0.2194500\ttotal: 7.24s\tremaining: 1.22s\n",
      "856:\tlearn: 0.2193978\ttotal: 7.25s\tremaining: 1.21s\n",
      "857:\tlearn: 0.2193480\ttotal: 7.26s\tremaining: 1.2s\n",
      "858:\tlearn: 0.2193007\ttotal: 7.27s\tremaining: 1.19s\n",
      "859:\tlearn: 0.2192466\ttotal: 7.28s\tremaining: 1.18s\n",
      "860:\tlearn: 0.2192021\ttotal: 7.29s\tremaining: 1.18s\n",
      "861:\tlearn: 0.2191453\ttotal: 7.29s\tremaining: 1.17s\n",
      "862:\tlearn: 0.2191079\ttotal: 7.3s\tremaining: 1.16s\n",
      "863:\tlearn: 0.2190280\ttotal: 7.31s\tremaining: 1.15s\n",
      "864:\tlearn: 0.2189913\ttotal: 7.32s\tremaining: 1.14s\n",
      "865:\tlearn: 0.2189587\ttotal: 7.32s\tremaining: 1.13s\n",
      "866:\tlearn: 0.2189049\ttotal: 7.33s\tremaining: 1.12s\n",
      "867:\tlearn: 0.2188345\ttotal: 7.34s\tremaining: 1.12s\n",
      "868:\tlearn: 0.2187843\ttotal: 7.35s\tremaining: 1.11s\n",
      "869:\tlearn: 0.2187416\ttotal: 7.35s\tremaining: 1.1s\n",
      "870:\tlearn: 0.2186937\ttotal: 7.36s\tremaining: 1.09s\n",
      "871:\tlearn: 0.2186273\ttotal: 7.36s\tremaining: 1.08s\n",
      "872:\tlearn: 0.2185903\ttotal: 7.37s\tremaining: 1.07s\n",
      "873:\tlearn: 0.2185215\ttotal: 7.38s\tremaining: 1.06s\n",
      "874:\tlearn: 0.2184571\ttotal: 7.38s\tremaining: 1.05s\n",
      "875:\tlearn: 0.2184085\ttotal: 7.39s\tremaining: 1.05s\n",
      "876:\tlearn: 0.2183548\ttotal: 7.4s\tremaining: 1.04s\n",
      "877:\tlearn: 0.2183136\ttotal: 7.4s\tremaining: 1.03s\n",
      "878:\tlearn: 0.2182699\ttotal: 7.41s\tremaining: 1.02s\n",
      "879:\tlearn: 0.2182268\ttotal: 7.41s\tremaining: 1.01s\n",
      "880:\tlearn: 0.2181809\ttotal: 7.42s\tremaining: 1s\n",
      "881:\tlearn: 0.2181265\ttotal: 7.42s\tremaining: 993ms\n",
      "882:\tlearn: 0.2180780\ttotal: 7.43s\tremaining: 985ms\n",
      "883:\tlearn: 0.2180144\ttotal: 7.44s\tremaining: 976ms\n",
      "884:\tlearn: 0.2179754\ttotal: 7.44s\tremaining: 967ms\n",
      "885:\tlearn: 0.2179384\ttotal: 7.45s\tremaining: 959ms\n",
      "886:\tlearn: 0.2178916\ttotal: 7.46s\tremaining: 950ms\n",
      "887:\tlearn: 0.2178451\ttotal: 7.46s\tremaining: 941ms\n",
      "888:\tlearn: 0.2178083\ttotal: 7.47s\tremaining: 932ms\n",
      "889:\tlearn: 0.2177673\ttotal: 7.47s\tremaining: 924ms\n",
      "890:\tlearn: 0.2177309\ttotal: 7.48s\tremaining: 915ms\n",
      "891:\tlearn: 0.2176826\ttotal: 7.49s\tremaining: 906ms\n",
      "892:\tlearn: 0.2176495\ttotal: 7.49s\tremaining: 898ms\n",
      "893:\tlearn: 0.2176011\ttotal: 7.5s\tremaining: 889ms\n",
      "894:\tlearn: 0.2175697\ttotal: 7.5s\tremaining: 881ms\n",
      "895:\tlearn: 0.2175236\ttotal: 7.51s\tremaining: 872ms\n",
      "896:\tlearn: 0.2174891\ttotal: 7.52s\tremaining: 864ms\n",
      "897:\tlearn: 0.2174493\ttotal: 7.53s\tremaining: 855ms\n",
      "898:\tlearn: 0.2174159\ttotal: 7.54s\tremaining: 847ms\n",
      "899:\tlearn: 0.2173426\ttotal: 7.54s\tremaining: 838ms\n",
      "900:\tlearn: 0.2172790\ttotal: 7.55s\tremaining: 830ms\n",
      "901:\tlearn: 0.2172074\ttotal: 7.56s\tremaining: 821ms\n",
      "902:\tlearn: 0.2171576\ttotal: 7.57s\tremaining: 813ms\n",
      "903:\tlearn: 0.2171246\ttotal: 7.57s\tremaining: 804ms\n",
      "904:\tlearn: 0.2170770\ttotal: 7.58s\tremaining: 796ms\n",
      "905:\tlearn: 0.2170348\ttotal: 7.59s\tremaining: 787ms\n",
      "906:\tlearn: 0.2170028\ttotal: 7.59s\tremaining: 779ms\n",
      "907:\tlearn: 0.2169493\ttotal: 7.6s\tremaining: 770ms\n",
      "908:\tlearn: 0.2168952\ttotal: 7.61s\tremaining: 761ms\n",
      "909:\tlearn: 0.2168562\ttotal: 7.61s\tremaining: 753ms\n",
      "910:\tlearn: 0.2167896\ttotal: 7.62s\tremaining: 744ms\n",
      "911:\tlearn: 0.2167464\ttotal: 7.62s\tremaining: 736ms\n",
      "912:\tlearn: 0.2167018\ttotal: 7.63s\tremaining: 727ms\n",
      "913:\tlearn: 0.2166385\ttotal: 7.64s\tremaining: 719ms\n",
      "914:\tlearn: 0.2165196\ttotal: 7.64s\tremaining: 710ms\n",
      "915:\tlearn: 0.2164734\ttotal: 7.65s\tremaining: 701ms\n",
      "916:\tlearn: 0.2164404\ttotal: 7.65s\tremaining: 693ms\n",
      "917:\tlearn: 0.2163888\ttotal: 7.66s\tremaining: 684ms\n",
      "918:\tlearn: 0.2163514\ttotal: 7.67s\tremaining: 676ms\n",
      "919:\tlearn: 0.2162820\ttotal: 7.67s\tremaining: 667ms\n",
      "920:\tlearn: 0.2162429\ttotal: 7.68s\tremaining: 659ms\n",
      "921:\tlearn: 0.2161842\ttotal: 7.68s\tremaining: 650ms\n",
      "922:\tlearn: 0.2161317\ttotal: 7.69s\tremaining: 642ms\n",
      "923:\tlearn: 0.2159855\ttotal: 7.7s\tremaining: 633ms\n",
      "924:\tlearn: 0.2159442\ttotal: 7.7s\tremaining: 625ms\n",
      "925:\tlearn: 0.2158813\ttotal: 7.71s\tremaining: 616ms\n",
      "926:\tlearn: 0.2158089\ttotal: 7.72s\tremaining: 608ms\n",
      "927:\tlearn: 0.2157555\ttotal: 7.72s\tremaining: 599ms\n",
      "928:\tlearn: 0.2157294\ttotal: 7.73s\tremaining: 591ms\n",
      "929:\tlearn: 0.2156935\ttotal: 7.74s\tremaining: 583ms\n",
      "930:\tlearn: 0.2156439\ttotal: 7.75s\tremaining: 574ms\n",
      "931:\tlearn: 0.2155980\ttotal: 7.75s\tremaining: 566ms\n",
      "932:\tlearn: 0.2155342\ttotal: 7.76s\tremaining: 558ms\n",
      "933:\tlearn: 0.2155162\ttotal: 7.77s\tremaining: 549ms\n",
      "934:\tlearn: 0.2154734\ttotal: 7.78s\tremaining: 541ms\n",
      "935:\tlearn: 0.2154267\ttotal: 7.79s\tremaining: 532ms\n",
      "936:\tlearn: 0.2153917\ttotal: 7.79s\tremaining: 524ms\n",
      "937:\tlearn: 0.2153543\ttotal: 7.8s\tremaining: 516ms\n",
      "938:\tlearn: 0.2153131\ttotal: 7.81s\tremaining: 507ms\n",
      "939:\tlearn: 0.2152789\ttotal: 7.81s\tremaining: 499ms\n",
      "940:\tlearn: 0.2152326\ttotal: 7.82s\tremaining: 490ms\n",
      "941:\tlearn: 0.2151779\ttotal: 7.82s\tremaining: 482ms\n",
      "942:\tlearn: 0.2151052\ttotal: 7.83s\tremaining: 473ms\n",
      "943:\tlearn: 0.2150662\ttotal: 7.84s\tremaining: 465ms\n",
      "944:\tlearn: 0.2150230\ttotal: 7.84s\tremaining: 456ms\n",
      "945:\tlearn: 0.2149489\ttotal: 7.85s\tremaining: 448ms\n",
      "946:\tlearn: 0.2149028\ttotal: 7.86s\tremaining: 440ms\n",
      "947:\tlearn: 0.2148574\ttotal: 7.86s\tremaining: 431ms\n",
      "948:\tlearn: 0.2148157\ttotal: 7.87s\tremaining: 423ms\n",
      "949:\tlearn: 0.2147488\ttotal: 7.87s\tremaining: 414ms\n",
      "950:\tlearn: 0.2146652\ttotal: 7.88s\tremaining: 406ms\n",
      "951:\tlearn: 0.2146060\ttotal: 7.89s\tremaining: 398ms\n",
      "952:\tlearn: 0.2145572\ttotal: 7.89s\tremaining: 389ms\n",
      "953:\tlearn: 0.2145269\ttotal: 7.9s\tremaining: 381ms\n",
      "954:\tlearn: 0.2144614\ttotal: 7.9s\tremaining: 372ms\n",
      "955:\tlearn: 0.2144198\ttotal: 7.91s\tremaining: 364ms\n",
      "956:\tlearn: 0.2143821\ttotal: 7.92s\tremaining: 356ms\n",
      "957:\tlearn: 0.2143525\ttotal: 7.92s\tremaining: 347ms\n",
      "958:\tlearn: 0.2142647\ttotal: 7.93s\tremaining: 339ms\n",
      "959:\tlearn: 0.2142244\ttotal: 7.93s\tremaining: 331ms\n",
      "960:\tlearn: 0.2141933\ttotal: 7.94s\tremaining: 322ms\n",
      "961:\tlearn: 0.2141309\ttotal: 7.95s\tremaining: 314ms\n",
      "962:\tlearn: 0.2140875\ttotal: 7.95s\tremaining: 305ms\n",
      "963:\tlearn: 0.2140239\ttotal: 7.96s\tremaining: 297ms\n",
      "964:\tlearn: 0.2139554\ttotal: 7.96s\tremaining: 289ms\n",
      "965:\tlearn: 0.2139069\ttotal: 7.97s\tremaining: 281ms\n",
      "966:\tlearn: 0.2138601\ttotal: 7.98s\tremaining: 272ms\n",
      "967:\tlearn: 0.2138260\ttotal: 7.98s\tremaining: 264ms\n",
      "968:\tlearn: 0.2137279\ttotal: 7.99s\tremaining: 256ms\n",
      "969:\tlearn: 0.2136829\ttotal: 8s\tremaining: 247ms\n",
      "970:\tlearn: 0.2136410\ttotal: 8s\tremaining: 239ms\n",
      "971:\tlearn: 0.2135994\ttotal: 8.01s\tremaining: 231ms\n",
      "972:\tlearn: 0.2135444\ttotal: 8.02s\tremaining: 222ms\n",
      "973:\tlearn: 0.2135213\ttotal: 8.02s\tremaining: 214ms\n",
      "974:\tlearn: 0.2134841\ttotal: 8.03s\tremaining: 206ms\n",
      "975:\tlearn: 0.2134550\ttotal: 8.04s\tremaining: 198ms\n",
      "976:\tlearn: 0.2134231\ttotal: 8.05s\tremaining: 189ms\n",
      "977:\tlearn: 0.2133720\ttotal: 8.05s\tremaining: 181ms\n",
      "978:\tlearn: 0.2133001\ttotal: 8.06s\tremaining: 173ms\n"
     ]
    },
    {
     "name": "stdout",
     "output_type": "stream",
     "text": [
      "979:\tlearn: 0.2132400\ttotal: 8.07s\tremaining: 165ms\n",
      "980:\tlearn: 0.2131853\ttotal: 8.08s\tremaining: 156ms\n",
      "981:\tlearn: 0.2131371\ttotal: 8.08s\tremaining: 148ms\n",
      "982:\tlearn: 0.2131072\ttotal: 8.09s\tremaining: 140ms\n",
      "983:\tlearn: 0.2130649\ttotal: 8.1s\tremaining: 132ms\n",
      "984:\tlearn: 0.2130369\ttotal: 8.1s\tremaining: 123ms\n",
      "985:\tlearn: 0.2130003\ttotal: 8.11s\tremaining: 115ms\n",
      "986:\tlearn: 0.2129513\ttotal: 8.11s\tremaining: 107ms\n",
      "987:\tlearn: 0.2129219\ttotal: 8.12s\tremaining: 98.6ms\n",
      "988:\tlearn: 0.2128778\ttotal: 8.12s\tremaining: 90.4ms\n",
      "989:\tlearn: 0.2128406\ttotal: 8.13s\tremaining: 82.1ms\n",
      "990:\tlearn: 0.2127867\ttotal: 8.14s\tremaining: 73.9ms\n",
      "991:\tlearn: 0.2127437\ttotal: 8.14s\tremaining: 65.7ms\n",
      "992:\tlearn: 0.2127093\ttotal: 8.15s\tremaining: 57.5ms\n",
      "993:\tlearn: 0.2126743\ttotal: 8.16s\tremaining: 49.2ms\n",
      "994:\tlearn: 0.2126505\ttotal: 8.16s\tremaining: 41ms\n",
      "995:\tlearn: 0.2126092\ttotal: 8.17s\tremaining: 32.8ms\n",
      "996:\tlearn: 0.2125629\ttotal: 8.18s\tremaining: 24.6ms\n",
      "997:\tlearn: 0.2125250\ttotal: 8.18s\tremaining: 16.4ms\n",
      "998:\tlearn: 0.2125013\ttotal: 8.19s\tremaining: 8.19ms\n",
      "999:\tlearn: 0.2124659\ttotal: 8.19s\tremaining: 0us\n"
     ]
    }
   ],
   "source": [
    "%%capture\n",
    "model = CatBoostRegressor()\n",
    "model.fit(x_train_19, y_train_19)\n",
    "y_pred_19 = model.predict(x_test_19)\n",
    "# Calculation of Mean Squared Error (MSE)\n",
    "mse = mean_squared_error(y_test_19, y_pred_19)\n",
    "print('MSE for CatBoost 2019 is: ' + str(mse))"
   ]
  },
  {
   "cell_type": "code",
   "execution_count": 168,
   "id": "f0207e79",
   "metadata": {},
   "outputs": [
    {
     "name": "stdout",
     "output_type": "stream",
     "text": [
      "RMSE for LightGBM 2019 is: 0.36860548351824685\n"
     ]
    }
   ],
   "source": [
    "rmse = mean_squared_error(y_test_19, y_pred_19, squared = False)\n",
    "print('RMSE for LightGBM 2019 is: ' + str(rmse))"
   ]
  },
  {
   "cell_type": "code",
   "execution_count": 169,
   "id": "aa550157",
   "metadata": {},
   "outputs": [
    {
     "name": "stdout",
     "output_type": "stream",
     "text": [
      "Median Absolute Error:\n",
      "\n",
      "0.1278449217272203\n"
     ]
    }
   ],
   "source": [
    "median_se = np.square(np.subtract(y_test_19, y_pred_19)).median() \n",
    " \n",
    "med = math.sqrt(median_se)\n",
    "print(\"Median Absolute Error:\\n\")\n",
    "print(med)"
   ]
  },
  {
   "cell_type": "code",
   "execution_count": 170,
   "id": "953208a1",
   "metadata": {},
   "outputs": [
    {
     "name": "stdout",
     "output_type": "stream",
     "text": [
      "Accuracy of properties at +- 10% of actual prices is 0.4112463281577843\n"
     ]
    }
   ],
   "source": [
    "acc = accuracy_threshold(y_test_19, y_pred_19, 0.1)\n",
    "print('Accuracy of properties at +- 10% of actual prices is ' + str(acc))"
   ]
  },
  {
   "cell_type": "code",
   "execution_count": 171,
   "id": "a11409ef",
   "metadata": {},
   "outputs": [
    {
     "name": "stdout",
     "output_type": "stream",
     "text": [
      "MAPE for CatBoost 2019 is: 0.017209538771219945\n"
     ]
    }
   ],
   "source": [
    "mape = mean_absolute_percentage_error(y_test_19, y_pred_19)\n",
    "print(\"MAPE for CatBoost 2019 is: \" + str(mape))"
   ]
  },
  {
   "cell_type": "code",
   "execution_count": 172,
   "id": "62ab734b",
   "metadata": {},
   "outputs": [],
   "source": [
    "cnames = ['Algorithm', 'Year', 'RMSE', 'MSE', 'MEDAE', 'Accuracy', 'MAPE']\n",
    "df16 = pd.DataFrame(columns = cnames)\n",
    "\n",
    "df16 = df16.append({'Algorithm': 'CatBoost',\n",
    "           'Year': 2019,\n",
    "           'RMSE': rmse,\n",
    "           'MSE': mse,\n",
    "           'MEDAE': med,\n",
    "           'Accuracy': acc,\n",
    "           'MAPE': mape         \n",
    "          }, ignore_index = True)"
   ]
  },
  {
   "cell_type": "markdown",
   "id": "03917aff",
   "metadata": {},
   "source": [
    "### BayesianRidge"
   ]
  },
  {
   "cell_type": "code",
   "execution_count": 173,
   "id": "bb47ee44",
   "metadata": {},
   "outputs": [
    {
     "name": "stdout",
     "output_type": "stream",
     "text": [
      "MSE for BayesianRidge 2019 is: 0.16414154385610738\n"
     ]
    }
   ],
   "source": [
    "clf = BayesianRidge()\n",
    "clf.fit(x_train_19, y_train_19)\n",
    "y_pred_19 = clf.predict(x_test_19)\n",
    "# Calculation of Mean Squared Error (MSE)\n",
    "mse = mean_squared_error(y_test_19, y_pred_19)\n",
    "print('MSE for BayesianRidge 2019 is: ' + str(mse))"
   ]
  },
  {
   "cell_type": "code",
   "execution_count": 174,
   "id": "f2c9faf8",
   "metadata": {},
   "outputs": [
    {
     "name": "stdout",
     "output_type": "stream",
     "text": [
      "RMSE for LightGBM 2019 is: 0.40514385575509765\n"
     ]
    }
   ],
   "source": [
    "rmse = mean_squared_error(y_test_19, y_pred_19, squared = False)\n",
    "print('RMSE for LightGBM 2019 is: ' + str(rmse))"
   ]
  },
  {
   "cell_type": "code",
   "execution_count": 175,
   "id": "8c56c82e",
   "metadata": {},
   "outputs": [
    {
     "name": "stdout",
     "output_type": "stream",
     "text": [
      "Median Absolute Error:\n",
      "\n",
      "0.14929865804109407\n"
     ]
    }
   ],
   "source": [
    "median_se = np.square(np.subtract(y_test_19, y_pred_19)).median() \n",
    " \n",
    "med = math.sqrt(median_se)\n",
    "print(\"Median Absolute Error:\\n\")\n",
    "print(med)"
   ]
  },
  {
   "cell_type": "code",
   "execution_count": 176,
   "id": "5a59de31",
   "metadata": {},
   "outputs": [
    {
     "name": "stdout",
     "output_type": "stream",
     "text": [
      "Accuracy of properties at +- 10% of actual prices is 0.35669324381032314\n"
     ]
    }
   ],
   "source": [
    "acc = accuracy_threshold(y_test_19, y_pred_19, 0.1)\n",
    "print('Accuracy of properties at +- 10% of actual prices is ' + str(acc))"
   ]
  },
  {
   "cell_type": "code",
   "execution_count": 177,
   "id": "89f14d4e",
   "metadata": {},
   "outputs": [
    {
     "name": "stdout",
     "output_type": "stream",
     "text": [
      "MAPE for BayesianRidge 2019 is: 0.01937227530370949\n"
     ]
    }
   ],
   "source": [
    "mape = mean_absolute_percentage_error(y_test_19, y_pred_19)\n",
    "print(\"MAPE for BayesianRidge 2019 is: \" + str(mape))"
   ]
  },
  {
   "cell_type": "code",
   "execution_count": 178,
   "id": "98a6ba59",
   "metadata": {},
   "outputs": [],
   "source": [
    "cnames = ['Algorithm', 'Year', 'RMSE', 'MSE', 'MEDAE', 'Accuracy', 'MAPE']\n",
    "df17 = pd.DataFrame(columns = cnames)\n",
    "\n",
    "df17 = df17.append({'Algorithm': 'Bayesian',\n",
    "           'Year': 2019,\n",
    "           'RMSE': rmse,\n",
    "           'MSE': mse,\n",
    "           'MEDAE': med,\n",
    "           'Accuracy': acc,\n",
    "           'MAPE': mape         \n",
    "          }, ignore_index = True)"
   ]
  },
  {
   "cell_type": "markdown",
   "id": "c20aed69",
   "metadata": {},
   "source": [
    "## 2018"
   ]
  },
  {
   "cell_type": "code",
   "execution_count": 179,
   "id": "70eac5c9",
   "metadata": {},
   "outputs": [],
   "source": [
    "specific18 = irl[irl['Year'] > 2014]\n",
    "test_18 = specific18[specific18['Year'] == 2018]\n",
    "train_18 = specific18[specific18['Year'] < 2018]\n",
    "\n",
    "x_train_18 = train_18.loc[:, train_18.columns != 'PriceLog']\n",
    "y_train_18 = train_18['PriceLog']\n",
    "x_test_18 = test_18.loc[:, test_18.columns != 'PriceLog']\n",
    "y_test_18 = test_18['PriceLog']"
   ]
  },
  {
   "cell_type": "markdown",
   "id": "b65f0852",
   "metadata": {},
   "source": [
    "### AutoML"
   ]
  },
  {
   "cell_type": "code",
   "execution_count": 180,
   "id": "fa364063",
   "metadata": {},
   "outputs": [
    {
     "name": "stdout",
     "output_type": "stream",
     "text": [
      "Linear algorithm was disabled.\n",
      "AutoML directory: AutoML_4\n",
      "The task is regression with evaluation metric rmse\n",
      "AutoML will use algorithms: ['Baseline', 'Decision Tree', 'Random Forest', 'Xgboost', 'Neural Network']\n",
      "AutoML will ensemble available models\n",
      "AutoML steps: ['simple_algorithms', 'default_algorithms', 'ensemble']\n",
      "* Step simple_algorithms will try to check up to 2 models\n",
      "1_Baseline rmse 0.547694 trained in 1.1 seconds\n",
      "2_DecisionTree rmse 0.364101 trained in 6.67 seconds\n",
      "* Step default_algorithms will try to check up to 3 models\n",
      "3_Default_Xgboost rmse 0.282078 trained in 11.42 seconds\n",
      "4_Default_NeuralNetwork rmse 0.305497 trained in 3.26 seconds\n",
      "5_Default_RandomForest rmse 0.333331 trained in 8.35 seconds\n",
      "* Step ensemble will try to check up to 1 model\n",
      "Ensemble rmse 0.281671 trained in 0.43 seconds\n",
      "AutoML fit time: 50.43 seconds\n",
      "AutoML best model: Ensemble\n"
     ]
    },
    {
     "data": {
      "text/plain": [
       "AutoML(explain_level=2, total_time_limit=300)"
      ]
     },
     "execution_count": 180,
     "metadata": {},
     "output_type": "execute_result"
    }
   ],
   "source": [
    "automl = AutoML(total_time_limit = 5 * 60, explain_level = 2)\n",
    "automl.fit(x_train_18, y_train_18)"
   ]
  },
  {
   "cell_type": "code",
   "execution_count": 181,
   "id": "b94a4be7",
   "metadata": {},
   "outputs": [
    {
     "name": "stdout",
     "output_type": "stream",
     "text": [
      "MSE for AutoML 2018 is: 0.16385182406160279\n"
     ]
    }
   ],
   "source": [
    "y_pred_18 = automl.predict(x_test_18)\n",
    "# Calculation of Mean Squared Error (MSE)\n",
    "mse = mean_squared_error(y_test_18, y_pred_18)\n",
    "print('MSE for AutoML 2018 is: ' + str(mse))"
   ]
  },
  {
   "cell_type": "code",
   "execution_count": 182,
   "id": "bb3f67a0",
   "metadata": {},
   "outputs": [
    {
     "name": "stdout",
     "output_type": "stream",
     "text": [
      "Accuracy of properties at +- 10% of actual prices is 0.39802354920100924\n"
     ]
    }
   ],
   "source": [
    "acc = accuracy_threshold(y_test_18, y_pred_18, 0.1)\n",
    "print('Accuracy of properties at +- 10% of actual prices is ' + str(acc))"
   ]
  },
  {
   "cell_type": "code",
   "execution_count": 183,
   "id": "4ac9ef36",
   "metadata": {},
   "outputs": [
    {
     "name": "stdout",
     "output_type": "stream",
     "text": [
      "RMSE for AutoML 2018 is: 0.40478614608408076\n"
     ]
    }
   ],
   "source": [
    "rmse = mean_squared_error(y_test_18, y_pred_18, squared = False)\n",
    "print('RMSE for AutoML 2018 is: ' + str(rmse))"
   ]
  },
  {
   "cell_type": "code",
   "execution_count": 184,
   "id": "86bd10ad",
   "metadata": {},
   "outputs": [
    {
     "name": "stdout",
     "output_type": "stream",
     "text": [
      "Median Absolute Error:\n",
      "\n",
      "0.13317342866957158\n"
     ]
    }
   ],
   "source": [
    "median_se = np.square(np.subtract(y_test_18, y_pred_18)).median() \n",
    " \n",
    "med = math.sqrt(median_se)\n",
    "print(\"Median Absolute Error:\\n\")\n",
    "print(med)"
   ]
  },
  {
   "cell_type": "code",
   "execution_count": 185,
   "id": "ce57f425",
   "metadata": {},
   "outputs": [
    {
     "name": "stdout",
     "output_type": "stream",
     "text": [
      "MAPE for AutoML 2018 is: 0.017950564077662233\n"
     ]
    }
   ],
   "source": [
    "mape = mean_absolute_percentage_error(y_test_18, y_pred_18)\n",
    "print(\"MAPE for AutoML 2018 is: \" + str(mape))"
   ]
  },
  {
   "cell_type": "code",
   "execution_count": 186,
   "id": "f4c913fe",
   "metadata": {},
   "outputs": [],
   "source": [
    "cnames = ['Algorithm', 'Year', 'RMSE', 'MSE', 'MEDAE', 'Accuracy','MAPE']\n",
    "df18 = pd.DataFrame(columns = cnames)\n",
    "\n",
    "df18 = df18.append({'Algorithm': 'AutoML',\n",
    "           'Year': 2018,\n",
    "           'RMSE': rmse,\n",
    "           'MSE': mse,\n",
    "           'MEDAE': med,\n",
    "           'Accuracy': acc,\n",
    "           'MAPE': mape         \n",
    "          }, ignore_index = True)"
   ]
  },
  {
   "cell_type": "code",
   "execution_count": 187,
   "id": "2fb97643",
   "metadata": {},
   "outputs": [],
   "source": [
    "#cnames = ['Actual', 'Predicted']\n",
    "#dfreal4 = pd.DataFrame(columns = cnames)\n",
    "dfreal4 = pd.DataFrame(y_test_18.values)\n",
    "dfpred4 = pd.DataFrame(y_pred_18)\n",
    "#dfreal4 = pd.concat([z1, z2], ignore_index=True)"
   ]
  },
  {
   "cell_type": "markdown",
   "id": "41eb5867",
   "metadata": {},
   "source": [
    "### MLR"
   ]
  },
  {
   "cell_type": "code",
   "execution_count": 188,
   "id": "e5483603",
   "metadata": {},
   "outputs": [
    {
     "name": "stdout",
     "output_type": "stream",
     "text": [
      "MSE for MLR 2018 is: 0.18733758022519656\n"
     ]
    }
   ],
   "source": [
    "lm = linear_model.LinearRegression()\n",
    "lm.fit(x_train_18, y_train_18) # fitting the model\n",
    "y_pred_18 = lm.predict(x_test_18)\n",
    "# Calculation of Mean Squared Error (MSE)\n",
    "mse = mean_squared_error(y_test_18, y_pred_18)\n",
    "print('MSE for MLR 2018 is: ' + str(mse))"
   ]
  },
  {
   "cell_type": "code",
   "execution_count": 189,
   "id": "9792680e",
   "metadata": {},
   "outputs": [
    {
     "name": "stdout",
     "output_type": "stream",
     "text": [
      "Accuracy of properties at +- 10% of actual prices is 0.3446173254835997\n"
     ]
    }
   ],
   "source": [
    "acc = accuracy_threshold(y_test_18, y_pred_18, 0.1)\n",
    "print('Accuracy of properties at +- 10% of actual prices is ' + str(acc))"
   ]
  },
  {
   "cell_type": "code",
   "execution_count": 190,
   "id": "2daab6dc",
   "metadata": {},
   "outputs": [
    {
     "name": "stdout",
     "output_type": "stream",
     "text": [
      "RMSE for MLR 2018 is: 0.43282511505826066\n"
     ]
    }
   ],
   "source": [
    "rmse = mean_squared_error(y_test_18, y_pred_18, squared = False)\n",
    "print('RMSE for MLR 2018 is: ' + str(rmse))"
   ]
  },
  {
   "cell_type": "code",
   "execution_count": 191,
   "id": "a236271b",
   "metadata": {},
   "outputs": [
    {
     "name": "stdout",
     "output_type": "stream",
     "text": [
      "Median Absolute Error:\n",
      "\n",
      "0.15674725083032337\n"
     ]
    }
   ],
   "source": [
    "median_se = np.square(np.subtract(y_test_18, y_pred_18)).median() \n",
    " \n",
    "med = math.sqrt(median_se)\n",
    "print(\"Median Absolute Error:\\n\")\n",
    "print(med)"
   ]
  },
  {
   "cell_type": "code",
   "execution_count": 192,
   "id": "8b04f02b",
   "metadata": {},
   "outputs": [
    {
     "name": "stdout",
     "output_type": "stream",
     "text": [
      "MAPE for MLR 2018 is: 0.020159353894432245\n"
     ]
    }
   ],
   "source": [
    "mape = mean_absolute_percentage_error(y_test_18, y_pred_18)\n",
    "print(\"MAPE for MLR 2018 is: \" + str(mape))"
   ]
  },
  {
   "cell_type": "code",
   "execution_count": 193,
   "id": "9781eb0f",
   "metadata": {},
   "outputs": [],
   "source": [
    "cnames = ['Algorithm', 'Year', 'RMSE', 'MSE', 'MEDAE', 'Accuracy', 'MAPE']\n",
    "df19 = pd.DataFrame(columns = cnames)\n",
    "\n",
    "df19 = df19.append({'Algorithm': 'MLR',\n",
    "           'Year': 2018,\n",
    "           'RMSE': rmse,\n",
    "           'MSE': mse,\n",
    "           'MEDAE': med,\n",
    "           'Accuracy': acc,\n",
    "           'MAPE': mape         \n",
    "          }, ignore_index = True)"
   ]
  },
  {
   "cell_type": "markdown",
   "id": "18d02369",
   "metadata": {},
   "source": [
    "### AdaBoost"
   ]
  },
  {
   "cell_type": "code",
   "execution_count": 194,
   "id": "d8820d35",
   "metadata": {},
   "outputs": [
    {
     "name": "stdout",
     "output_type": "stream",
     "text": [
      "MSE for AdaBoost 2018 is: 0.20091700572741855\n"
     ]
    }
   ],
   "source": [
    "model = AdaBoostRegressor()\n",
    "model.fit(x_train_18, y_train_18)\n",
    "y_pred_18 = model.predict(x_test_18)\n",
    "# Calculation of Mean Squared Error (MSE)\n",
    "mse = mean_squared_error(y_test_18, y_pred_18)\n",
    "print('MSE for AdaBoost 2018 is: ' + str(mse))"
   ]
  },
  {
   "cell_type": "code",
   "execution_count": 195,
   "id": "bee989ee",
   "metadata": {},
   "outputs": [
    {
     "name": "stdout",
     "output_type": "stream",
     "text": [
      "Accuracy of properties at +- 10% of actual prices is 0.2659798149705635\n"
     ]
    }
   ],
   "source": [
    "acc = accuracy_threshold(y_test_18, y_pred_18, 0.1)\n",
    "print('Accuracy of properties at +- 10% of actual prices is ' + str(acc))"
   ]
  },
  {
   "cell_type": "code",
   "execution_count": 196,
   "id": "13a6c017",
   "metadata": {},
   "outputs": [
    {
     "name": "stdout",
     "output_type": "stream",
     "text": [
      "Median Absolute Error:\n",
      "\n",
      "0.2005349073712548\n"
     ]
    }
   ],
   "source": [
    "median_se = np.square(np.subtract(y_test_18, y_pred_18)).median() \n",
    " \n",
    "med = math.sqrt(median_se)\n",
    "print(\"Median Absolute Error:\\n\")\n",
    "print(med)"
   ]
  },
  {
   "cell_type": "code",
   "execution_count": 197,
   "id": "0c737b65",
   "metadata": {},
   "outputs": [
    {
     "name": "stdout",
     "output_type": "stream",
     "text": [
      "RMSE for MLR 2018 is: 0.44823766656475733\n"
     ]
    }
   ],
   "source": [
    "rmse = mean_squared_error(y_test_18, y_pred_18, squared = False)\n",
    "print('RMSE for MLR 2018 is: ' + str(rmse))"
   ]
  },
  {
   "cell_type": "code",
   "execution_count": 198,
   "id": "7c403a5e",
   "metadata": {},
   "outputs": [
    {
     "name": "stdout",
     "output_type": "stream",
     "text": [
      "MAPE for MLR 2018 is: 0.02368144501898409\n"
     ]
    }
   ],
   "source": [
    "mape = mean_absolute_percentage_error(y_test_18, y_pred_18)\n",
    "print(\"MAPE for MLR 2018 is: \" + str(mape))"
   ]
  },
  {
   "cell_type": "code",
   "execution_count": 199,
   "id": "e92f003a",
   "metadata": {},
   "outputs": [],
   "source": [
    "cnames = ['Algorithm', 'Year', 'RMSE', 'MSE', 'MEDAE', 'Accuracy', 'MAPE']\n",
    "df20 = pd.DataFrame(columns = cnames)\n",
    "\n",
    "df20 = df20.append({'Algorithm': 'AdaBoost',\n",
    "           'Year': 2018,\n",
    "           'RMSE': rmse,\n",
    "           'MSE': mse,\n",
    "           'MEDAE': med,\n",
    "           'Accuracy': acc,\n",
    "           'MAPE': mape         \n",
    "          }, ignore_index = True)"
   ]
  },
  {
   "cell_type": "markdown",
   "id": "ee4e29ce",
   "metadata": {},
   "source": [
    "### LightGBM"
   ]
  },
  {
   "cell_type": "code",
   "execution_count": 200,
   "id": "2408dc22",
   "metadata": {},
   "outputs": [
    {
     "name": "stdout",
     "output_type": "stream",
     "text": [
      "MSE for LightGBM 2018 is: 0.1705776372734703\n"
     ]
    }
   ],
   "source": [
    "model = LGBMRegressor()\n",
    "model.fit(x_train_18, y_train_18)\n",
    "y_pred_18 = model.predict(x_test_18)\n",
    "# Calculation of Mean Squared Error (MSE)\n",
    "mse = mean_squared_error(y_test_18, y_pred_18)\n",
    "print('MSE for LightGBM 2018 is: ' + str(mse))"
   ]
  },
  {
   "cell_type": "code",
   "execution_count": 201,
   "id": "e468b773",
   "metadata": {},
   "outputs": [
    {
     "name": "stdout",
     "output_type": "stream",
     "text": [
      "Accuracy of properties at +- 10% of actual prices is 0.39991589571068126\n"
     ]
    }
   ],
   "source": [
    "acc = accuracy_threshold(y_test_18, y_pred_18, 0.1)\n",
    "print('Accuracy of properties at +- 10% of actual prices is ' + str(acc))"
   ]
  },
  {
   "cell_type": "code",
   "execution_count": 202,
   "id": "96ebc9e9",
   "metadata": {},
   "outputs": [
    {
     "name": "stdout",
     "output_type": "stream",
     "text": [
      "Median Absolute Error:\n",
      "\n",
      "0.13010886635532495\n"
     ]
    }
   ],
   "source": [
    "median_se = np.square(np.subtract(y_test_18, y_pred_18)).median() \n",
    " \n",
    "med = math.sqrt(median_se)\n",
    "print(\"Median Absolute Error:\\n\")\n",
    "print(med)"
   ]
  },
  {
   "cell_type": "code",
   "execution_count": 203,
   "id": "c7f18b29",
   "metadata": {},
   "outputs": [
    {
     "name": "stdout",
     "output_type": "stream",
     "text": [
      "RMSE for LightGBM 2018 is: 0.4130104566151689\n"
     ]
    }
   ],
   "source": [
    "rmse = mean_squared_error(y_test_18, y_pred_18, squared = False)\n",
    "print('RMSE for LightGBM 2018 is: ' + str(rmse))"
   ]
  },
  {
   "cell_type": "code",
   "execution_count": 204,
   "id": "79c37007",
   "metadata": {},
   "outputs": [
    {
     "name": "stdout",
     "output_type": "stream",
     "text": [
      "MAPE for LightGBM 2021 is: 0.017901714316828916\n"
     ]
    }
   ],
   "source": [
    "mape = mean_absolute_percentage_error(y_test_18, y_pred_18)\n",
    "print(\"MAPE for LightGBM 2021 is: \" + str(mape))"
   ]
  },
  {
   "cell_type": "code",
   "execution_count": 205,
   "id": "7bf927d1",
   "metadata": {},
   "outputs": [],
   "source": [
    "cnames = ['Algorithm', 'Year', 'RMSE', 'MSE', 'MEDAE', 'Accuracy', 'MAPE']\n",
    "df21 = pd.DataFrame(columns = cnames)\n",
    "\n",
    "df21 = df21.append({'Algorithm': 'LightGBM',\n",
    "           'Year': 2018,\n",
    "           'RMSE': rmse,\n",
    "           'MSE': mse,\n",
    "           'MEDAE': med,\n",
    "           'Accuracy': acc,\n",
    "           'MAPE': mape         \n",
    "          }, ignore_index = True)"
   ]
  },
  {
   "cell_type": "markdown",
   "id": "55517a01",
   "metadata": {},
   "source": [
    "### CatBoost"
   ]
  },
  {
   "cell_type": "code",
   "execution_count": 206,
   "id": "1c21a0a3",
   "metadata": {},
   "outputs": [
    {
     "name": "stdout",
     "output_type": "stream",
     "text": [
      "Learning rate set to 0.062132\n",
      "0:\tlearn: 0.5428741\ttotal: 10.4ms\tremaining: 10.4s\n",
      "1:\tlearn: 0.5256092\ttotal: 18.5ms\tremaining: 9.22s\n",
      "2:\tlearn: 0.5090273\ttotal: 26.3ms\tremaining: 8.74s\n",
      "3:\tlearn: 0.4941889\ttotal: 32.5ms\tremaining: 8.09s\n",
      "4:\tlearn: 0.4813326\ttotal: 38.8ms\tremaining: 7.73s\n",
      "5:\tlearn: 0.4686926\ttotal: 44.4ms\tremaining: 7.36s\n",
      "6:\tlearn: 0.4578551\ttotal: 49.8ms\tremaining: 7.07s\n",
      "7:\tlearn: 0.4474019\ttotal: 55.4ms\tremaining: 6.87s\n",
      "8:\tlearn: 0.4378236\ttotal: 63.5ms\tremaining: 6.99s\n",
      "9:\tlearn: 0.4292672\ttotal: 71.4ms\tremaining: 7.07s\n",
      "10:\tlearn: 0.4214416\ttotal: 76.8ms\tremaining: 6.91s\n",
      "11:\tlearn: 0.4146693\ttotal: 82ms\tremaining: 6.75s\n",
      "12:\tlearn: 0.4077536\ttotal: 87.4ms\tremaining: 6.64s\n",
      "13:\tlearn: 0.4017574\ttotal: 93.8ms\tremaining: 6.61s\n",
      "14:\tlearn: 0.3962925\ttotal: 102ms\tremaining: 6.68s\n",
      "15:\tlearn: 0.3909549\ttotal: 108ms\tremaining: 6.63s\n",
      "16:\tlearn: 0.3863997\ttotal: 114ms\tremaining: 6.59s\n",
      "17:\tlearn: 0.3815674\ttotal: 119ms\tremaining: 6.5s\n",
      "18:\tlearn: 0.3774733\ttotal: 125ms\tremaining: 6.43s\n",
      "19:\tlearn: 0.3734474\ttotal: 130ms\tremaining: 6.38s\n",
      "20:\tlearn: 0.3700044\ttotal: 135ms\tremaining: 6.32s\n",
      "21:\tlearn: 0.3668312\ttotal: 141ms\tremaining: 6.25s\n",
      "22:\tlearn: 0.3641618\ttotal: 146ms\tremaining: 6.19s\n",
      "23:\tlearn: 0.3610571\ttotal: 151ms\tremaining: 6.13s\n",
      "24:\tlearn: 0.3584224\ttotal: 156ms\tremaining: 6.08s\n",
      "25:\tlearn: 0.3556146\ttotal: 161ms\tremaining: 6.04s\n",
      "26:\tlearn: 0.3538258\ttotal: 166ms\tremaining: 6s\n",
      "27:\tlearn: 0.3515294\ttotal: 172ms\tremaining: 5.97s\n",
      "28:\tlearn: 0.3493103\ttotal: 178ms\tremaining: 5.97s\n",
      "29:\tlearn: 0.3472548\ttotal: 185ms\tremaining: 5.98s\n",
      "30:\tlearn: 0.3452164\ttotal: 191ms\tremaining: 5.96s\n",
      "31:\tlearn: 0.3432524\ttotal: 196ms\tremaining: 5.92s\n",
      "32:\tlearn: 0.3415105\ttotal: 201ms\tremaining: 5.89s\n",
      "33:\tlearn: 0.3397128\ttotal: 206ms\tremaining: 5.86s\n",
      "34:\tlearn: 0.3383348\ttotal: 213ms\tremaining: 5.86s\n",
      "35:\tlearn: 0.3370881\ttotal: 219ms\tremaining: 5.86s\n",
      "36:\tlearn: 0.3357199\ttotal: 225ms\tremaining: 5.84s\n",
      "37:\tlearn: 0.3340804\ttotal: 231ms\tremaining: 5.84s\n",
      "38:\tlearn: 0.3332449\ttotal: 237ms\tremaining: 5.84s\n",
      "39:\tlearn: 0.3321670\ttotal: 243ms\tremaining: 5.82s\n",
      "40:\tlearn: 0.3310005\ttotal: 248ms\tremaining: 5.79s\n",
      "41:\tlearn: 0.3298625\ttotal: 253ms\tremaining: 5.77s\n",
      "42:\tlearn: 0.3288169\ttotal: 259ms\tremaining: 5.77s\n",
      "43:\tlearn: 0.3274804\ttotal: 266ms\tremaining: 5.77s\n",
      "44:\tlearn: 0.3265878\ttotal: 272ms\tremaining: 5.76s\n",
      "45:\tlearn: 0.3259286\ttotal: 280ms\tremaining: 5.8s\n",
      "46:\tlearn: 0.3252332\ttotal: 291ms\tremaining: 5.9s\n",
      "47:\tlearn: 0.3242207\ttotal: 301ms\tremaining: 5.97s\n",
      "48:\tlearn: 0.3235212\ttotal: 309ms\tremaining: 5.99s\n",
      "49:\tlearn: 0.3229777\ttotal: 317ms\tremaining: 6.02s\n",
      "50:\tlearn: 0.3220854\ttotal: 323ms\tremaining: 6.01s\n",
      "51:\tlearn: 0.3212452\ttotal: 329ms\tremaining: 6s\n",
      "52:\tlearn: 0.3204214\ttotal: 336ms\tremaining: 6s\n",
      "53:\tlearn: 0.3196302\ttotal: 342ms\tremaining: 5.99s\n",
      "54:\tlearn: 0.3191032\ttotal: 347ms\tremaining: 5.97s\n",
      "55:\tlearn: 0.3184839\ttotal: 352ms\tremaining: 5.94s\n",
      "56:\tlearn: 0.3179364\ttotal: 358ms\tremaining: 5.92s\n",
      "57:\tlearn: 0.3174023\ttotal: 364ms\tremaining: 5.92s\n",
      "58:\tlearn: 0.3168559\ttotal: 371ms\tremaining: 5.91s\n",
      "59:\tlearn: 0.3163305\ttotal: 377ms\tremaining: 5.9s\n",
      "60:\tlearn: 0.3155858\ttotal: 382ms\tremaining: 5.88s\n",
      "61:\tlearn: 0.3149801\ttotal: 387ms\tremaining: 5.86s\n",
      "62:\tlearn: 0.3144729\ttotal: 393ms\tremaining: 5.84s\n",
      "63:\tlearn: 0.3137989\ttotal: 399ms\tremaining: 5.84s\n",
      "64:\tlearn: 0.3130596\ttotal: 408ms\tremaining: 5.86s\n",
      "65:\tlearn: 0.3122062\ttotal: 416ms\tremaining: 5.88s\n",
      "66:\tlearn: 0.3116768\ttotal: 423ms\tremaining: 5.89s\n",
      "67:\tlearn: 0.3112522\ttotal: 431ms\tremaining: 5.91s\n",
      "68:\tlearn: 0.3108231\ttotal: 439ms\tremaining: 5.93s\n",
      "69:\tlearn: 0.3103393\ttotal: 447ms\tremaining: 5.94s\n",
      "70:\tlearn: 0.3098247\ttotal: 455ms\tremaining: 5.95s\n",
      "71:\tlearn: 0.3092936\ttotal: 462ms\tremaining: 5.95s\n",
      "72:\tlearn: 0.3088329\ttotal: 468ms\tremaining: 5.95s\n",
      "73:\tlearn: 0.3083590\ttotal: 474ms\tremaining: 5.93s\n",
      "74:\tlearn: 0.3081359\ttotal: 479ms\tremaining: 5.91s\n",
      "75:\tlearn: 0.3076548\ttotal: 485ms\tremaining: 5.9s\n",
      "76:\tlearn: 0.3071669\ttotal: 494ms\tremaining: 5.92s\n",
      "77:\tlearn: 0.3067366\ttotal: 503ms\tremaining: 5.94s\n",
      "78:\tlearn: 0.3065120\ttotal: 510ms\tremaining: 5.95s\n",
      "79:\tlearn: 0.3060005\ttotal: 517ms\tremaining: 5.94s\n",
      "80:\tlearn: 0.3056455\ttotal: 522ms\tremaining: 5.92s\n",
      "81:\tlearn: 0.3053044\ttotal: 527ms\tremaining: 5.9s\n",
      "82:\tlearn: 0.3047718\ttotal: 533ms\tremaining: 5.88s\n",
      "83:\tlearn: 0.3041756\ttotal: 538ms\tremaining: 5.87s\n",
      "84:\tlearn: 0.3038465\ttotal: 545ms\tremaining: 5.87s\n",
      "85:\tlearn: 0.3036530\ttotal: 556ms\tremaining: 5.91s\n",
      "86:\tlearn: 0.3033713\ttotal: 563ms\tremaining: 5.91s\n",
      "87:\tlearn: 0.3030859\ttotal: 569ms\tremaining: 5.9s\n",
      "88:\tlearn: 0.3029077\ttotal: 574ms\tremaining: 5.87s\n",
      "89:\tlearn: 0.3023683\ttotal: 579ms\tremaining: 5.86s\n",
      "90:\tlearn: 0.3020928\ttotal: 585ms\tremaining: 5.84s\n",
      "91:\tlearn: 0.3017565\ttotal: 591ms\tremaining: 5.83s\n",
      "92:\tlearn: 0.3014501\ttotal: 598ms\tremaining: 5.83s\n",
      "93:\tlearn: 0.3011384\ttotal: 604ms\tremaining: 5.82s\n",
      "94:\tlearn: 0.3007554\ttotal: 609ms\tremaining: 5.8s\n",
      "95:\tlearn: 0.3005356\ttotal: 614ms\tremaining: 5.79s\n",
      "96:\tlearn: 0.3002003\ttotal: 620ms\tremaining: 5.77s\n",
      "97:\tlearn: 0.2998326\ttotal: 625ms\tremaining: 5.75s\n",
      "98:\tlearn: 0.2993782\ttotal: 631ms\tremaining: 5.74s\n",
      "99:\tlearn: 0.2992257\ttotal: 637ms\tremaining: 5.73s\n",
      "100:\tlearn: 0.2987804\ttotal: 644ms\tremaining: 5.73s\n",
      "101:\tlearn: 0.2985925\ttotal: 651ms\tremaining: 5.73s\n",
      "102:\tlearn: 0.2984497\ttotal: 659ms\tremaining: 5.74s\n",
      "103:\tlearn: 0.2981229\ttotal: 666ms\tremaining: 5.73s\n",
      "104:\tlearn: 0.2979463\ttotal: 672ms\tremaining: 5.73s\n",
      "105:\tlearn: 0.2977497\ttotal: 681ms\tremaining: 5.74s\n",
      "106:\tlearn: 0.2975564\ttotal: 690ms\tremaining: 5.76s\n",
      "107:\tlearn: 0.2971455\ttotal: 713ms\tremaining: 5.89s\n",
      "108:\tlearn: 0.2969356\ttotal: 744ms\tremaining: 6.08s\n",
      "109:\tlearn: 0.2966469\ttotal: 753ms\tremaining: 6.09s\n",
      "110:\tlearn: 0.2963657\ttotal: 767ms\tremaining: 6.14s\n",
      "111:\tlearn: 0.2962459\ttotal: 784ms\tremaining: 6.21s\n",
      "112:\tlearn: 0.2959351\ttotal: 792ms\tremaining: 6.22s\n",
      "113:\tlearn: 0.2955806\ttotal: 801ms\tremaining: 6.22s\n",
      "114:\tlearn: 0.2954028\ttotal: 810ms\tremaining: 6.23s\n",
      "115:\tlearn: 0.2952890\ttotal: 818ms\tremaining: 6.24s\n",
      "116:\tlearn: 0.2950326\ttotal: 829ms\tremaining: 6.25s\n",
      "117:\tlearn: 0.2946674\ttotal: 844ms\tremaining: 6.31s\n",
      "118:\tlearn: 0.2945676\ttotal: 856ms\tremaining: 6.34s\n",
      "119:\tlearn: 0.2942842\ttotal: 865ms\tremaining: 6.34s\n",
      "120:\tlearn: 0.2941663\ttotal: 874ms\tremaining: 6.35s\n",
      "121:\tlearn: 0.2938414\ttotal: 884ms\tremaining: 6.36s\n",
      "122:\tlearn: 0.2935918\ttotal: 893ms\tremaining: 6.37s\n",
      "123:\tlearn: 0.2934656\ttotal: 902ms\tremaining: 6.37s\n",
      "124:\tlearn: 0.2931047\ttotal: 909ms\tremaining: 6.36s\n",
      "125:\tlearn: 0.2928867\ttotal: 919ms\tremaining: 6.37s\n",
      "126:\tlearn: 0.2927883\ttotal: 930ms\tremaining: 6.39s\n",
      "127:\tlearn: 0.2924367\ttotal: 939ms\tremaining: 6.4s\n",
      "128:\tlearn: 0.2922174\ttotal: 951ms\tremaining: 6.42s\n",
      "129:\tlearn: 0.2918530\ttotal: 967ms\tremaining: 6.47s\n",
      "130:\tlearn: 0.2915615\ttotal: 979ms\tremaining: 6.49s\n",
      "131:\tlearn: 0.2912698\ttotal: 987ms\tremaining: 6.49s\n",
      "132:\tlearn: 0.2909145\ttotal: 996ms\tremaining: 6.49s\n",
      "133:\tlearn: 0.2906338\ttotal: 1.01s\tremaining: 6.51s\n",
      "134:\tlearn: 0.2905439\ttotal: 1.02s\tremaining: 6.52s\n",
      "135:\tlearn: 0.2904099\ttotal: 1.03s\tremaining: 6.52s\n",
      "136:\tlearn: 0.2897421\ttotal: 1.04s\tremaining: 6.54s\n",
      "137:\tlearn: 0.2896389\ttotal: 1.04s\tremaining: 6.53s\n",
      "138:\tlearn: 0.2894187\ttotal: 1.05s\tremaining: 6.54s\n",
      "139:\tlearn: 0.2893062\ttotal: 1.06s\tremaining: 6.53s\n",
      "140:\tlearn: 0.2892011\ttotal: 1.07s\tremaining: 6.54s\n",
      "141:\tlearn: 0.2888983\ttotal: 1.08s\tremaining: 6.55s\n",
      "142:\tlearn: 0.2885753\ttotal: 1.09s\tremaining: 6.55s\n",
      "143:\tlearn: 0.2883922\ttotal: 1.1s\tremaining: 6.55s\n",
      "144:\tlearn: 0.2882521\ttotal: 1.11s\tremaining: 6.54s\n",
      "145:\tlearn: 0.2879408\ttotal: 1.12s\tremaining: 6.54s\n",
      "146:\tlearn: 0.2876524\ttotal: 1.12s\tremaining: 6.52s\n",
      "147:\tlearn: 0.2874522\ttotal: 1.13s\tremaining: 6.5s\n",
      "148:\tlearn: 0.2871246\ttotal: 1.14s\tremaining: 6.49s\n",
      "149:\tlearn: 0.2869452\ttotal: 1.14s\tremaining: 6.48s\n",
      "150:\tlearn: 0.2865770\ttotal: 1.15s\tremaining: 6.46s\n",
      "151:\tlearn: 0.2861160\ttotal: 1.16s\tremaining: 6.45s\n",
      "152:\tlearn: 0.2859902\ttotal: 1.16s\tremaining: 6.43s\n",
      "153:\tlearn: 0.2855776\ttotal: 1.17s\tremaining: 6.42s\n",
      "154:\tlearn: 0.2854027\ttotal: 1.17s\tremaining: 6.4s\n",
      "155:\tlearn: 0.2851882\ttotal: 1.18s\tremaining: 6.39s\n",
      "156:\tlearn: 0.2850170\ttotal: 1.19s\tremaining: 6.37s\n",
      "157:\tlearn: 0.2846812\ttotal: 1.19s\tremaining: 6.35s\n",
      "158:\tlearn: 0.2844019\ttotal: 1.2s\tremaining: 6.34s\n",
      "159:\tlearn: 0.2841802\ttotal: 1.2s\tremaining: 6.32s\n"
     ]
    },
    {
     "name": "stdout",
     "output_type": "stream",
     "text": [
      "160:\tlearn: 0.2840840\ttotal: 1.21s\tremaining: 6.31s\n",
      "161:\tlearn: 0.2839181\ttotal: 1.22s\tremaining: 6.29s\n",
      "162:\tlearn: 0.2837060\ttotal: 1.22s\tremaining: 6.28s\n",
      "163:\tlearn: 0.2835532\ttotal: 1.23s\tremaining: 6.27s\n",
      "164:\tlearn: 0.2833667\ttotal: 1.24s\tremaining: 6.25s\n",
      "165:\tlearn: 0.2829549\ttotal: 1.24s\tremaining: 6.25s\n",
      "166:\tlearn: 0.2827467\ttotal: 1.25s\tremaining: 6.24s\n",
      "167:\tlearn: 0.2825461\ttotal: 1.26s\tremaining: 6.24s\n",
      "168:\tlearn: 0.2823988\ttotal: 1.27s\tremaining: 6.23s\n",
      "169:\tlearn: 0.2820580\ttotal: 1.27s\tremaining: 6.22s\n",
      "170:\tlearn: 0.2818730\ttotal: 1.28s\tremaining: 6.21s\n",
      "171:\tlearn: 0.2815504\ttotal: 1.29s\tremaining: 6.21s\n",
      "172:\tlearn: 0.2812378\ttotal: 1.3s\tremaining: 6.21s\n",
      "173:\tlearn: 0.2809760\ttotal: 1.31s\tremaining: 6.2s\n",
      "174:\tlearn: 0.2808809\ttotal: 1.31s\tremaining: 6.19s\n",
      "175:\tlearn: 0.2807131\ttotal: 1.32s\tremaining: 6.2s\n",
      "176:\tlearn: 0.2806200\ttotal: 1.34s\tremaining: 6.21s\n",
      "177:\tlearn: 0.2804142\ttotal: 1.34s\tremaining: 6.21s\n",
      "178:\tlearn: 0.2802586\ttotal: 1.35s\tremaining: 6.21s\n",
      "179:\tlearn: 0.2800455\ttotal: 1.36s\tremaining: 6.21s\n",
      "180:\tlearn: 0.2798390\ttotal: 1.37s\tremaining: 6.21s\n",
      "181:\tlearn: 0.2797000\ttotal: 1.38s\tremaining: 6.21s\n",
      "182:\tlearn: 0.2794705\ttotal: 1.39s\tremaining: 6.2s\n",
      "183:\tlearn: 0.2792917\ttotal: 1.4s\tremaining: 6.2s\n",
      "184:\tlearn: 0.2790709\ttotal: 1.4s\tremaining: 6.18s\n",
      "185:\tlearn: 0.2788353\ttotal: 1.41s\tremaining: 6.17s\n",
      "186:\tlearn: 0.2785691\ttotal: 1.42s\tremaining: 6.15s\n",
      "187:\tlearn: 0.2783820\ttotal: 1.42s\tremaining: 6.14s\n",
      "188:\tlearn: 0.2782383\ttotal: 1.43s\tremaining: 6.13s\n",
      "189:\tlearn: 0.2779759\ttotal: 1.43s\tremaining: 6.11s\n",
      "190:\tlearn: 0.2775924\ttotal: 1.44s\tremaining: 6.1s\n",
      "191:\tlearn: 0.2774795\ttotal: 1.45s\tremaining: 6.09s\n",
      "192:\tlearn: 0.2771728\ttotal: 1.45s\tremaining: 6.08s\n",
      "193:\tlearn: 0.2769822\ttotal: 1.46s\tremaining: 6.06s\n",
      "194:\tlearn: 0.2768213\ttotal: 1.46s\tremaining: 6.04s\n",
      "195:\tlearn: 0.2766635\ttotal: 1.47s\tremaining: 6.03s\n",
      "196:\tlearn: 0.2765764\ttotal: 1.48s\tremaining: 6.02s\n",
      "197:\tlearn: 0.2762662\ttotal: 1.48s\tremaining: 6.01s\n",
      "198:\tlearn: 0.2761353\ttotal: 1.49s\tremaining: 6s\n",
      "199:\tlearn: 0.2757127\ttotal: 1.5s\tremaining: 5.99s\n",
      "200:\tlearn: 0.2754386\ttotal: 1.5s\tremaining: 5.98s\n",
      "201:\tlearn: 0.2752648\ttotal: 1.51s\tremaining: 5.97s\n",
      "202:\tlearn: 0.2751341\ttotal: 1.52s\tremaining: 5.95s\n",
      "203:\tlearn: 0.2749092\ttotal: 1.52s\tremaining: 5.94s\n",
      "204:\tlearn: 0.2746125\ttotal: 1.53s\tremaining: 5.92s\n",
      "205:\tlearn: 0.2743456\ttotal: 1.53s\tremaining: 5.91s\n",
      "206:\tlearn: 0.2740750\ttotal: 1.54s\tremaining: 5.89s\n",
      "207:\tlearn: 0.2739301\ttotal: 1.54s\tremaining: 5.88s\n",
      "208:\tlearn: 0.2738400\ttotal: 1.55s\tremaining: 5.86s\n",
      "209:\tlearn: 0.2736491\ttotal: 1.55s\tremaining: 5.84s\n",
      "210:\tlearn: 0.2735614\ttotal: 1.56s\tremaining: 5.83s\n",
      "211:\tlearn: 0.2733803\ttotal: 1.56s\tremaining: 5.81s\n",
      "212:\tlearn: 0.2732155\ttotal: 1.57s\tremaining: 5.8s\n",
      "213:\tlearn: 0.2731271\ttotal: 1.57s\tremaining: 5.79s\n",
      "214:\tlearn: 0.2730330\ttotal: 1.58s\tremaining: 5.78s\n",
      "215:\tlearn: 0.2728337\ttotal: 1.59s\tremaining: 5.76s\n",
      "216:\tlearn: 0.2726439\ttotal: 1.59s\tremaining: 5.75s\n",
      "217:\tlearn: 0.2724136\ttotal: 1.6s\tremaining: 5.73s\n",
      "218:\tlearn: 0.2721379\ttotal: 1.6s\tremaining: 5.72s\n",
      "219:\tlearn: 0.2719871\ttotal: 1.61s\tremaining: 5.71s\n",
      "220:\tlearn: 0.2718857\ttotal: 1.61s\tremaining: 5.69s\n",
      "221:\tlearn: 0.2716249\ttotal: 1.62s\tremaining: 5.68s\n",
      "222:\tlearn: 0.2714271\ttotal: 1.63s\tremaining: 5.66s\n",
      "223:\tlearn: 0.2713058\ttotal: 1.63s\tremaining: 5.65s\n",
      "224:\tlearn: 0.2711183\ttotal: 1.64s\tremaining: 5.63s\n",
      "225:\tlearn: 0.2710009\ttotal: 1.64s\tremaining: 5.62s\n",
      "226:\tlearn: 0.2708621\ttotal: 1.65s\tremaining: 5.6s\n",
      "227:\tlearn: 0.2707439\ttotal: 1.65s\tremaining: 5.59s\n",
      "228:\tlearn: 0.2705822\ttotal: 1.66s\tremaining: 5.58s\n",
      "229:\tlearn: 0.2704438\ttotal: 1.66s\tremaining: 5.57s\n",
      "230:\tlearn: 0.2702812\ttotal: 1.67s\tremaining: 5.55s\n",
      "231:\tlearn: 0.2700338\ttotal: 1.67s\tremaining: 5.54s\n",
      "232:\tlearn: 0.2698510\ttotal: 1.68s\tremaining: 5.53s\n",
      "233:\tlearn: 0.2696277\ttotal: 1.68s\tremaining: 5.51s\n",
      "234:\tlearn: 0.2694197\ttotal: 1.69s\tremaining: 5.5s\n",
      "235:\tlearn: 0.2692979\ttotal: 1.7s\tremaining: 5.49s\n",
      "236:\tlearn: 0.2692238\ttotal: 1.7s\tremaining: 5.48s\n",
      "237:\tlearn: 0.2688230\ttotal: 1.71s\tremaining: 5.47s\n",
      "238:\tlearn: 0.2686088\ttotal: 1.72s\tremaining: 5.46s\n",
      "239:\tlearn: 0.2684429\ttotal: 1.72s\tremaining: 5.45s\n",
      "240:\tlearn: 0.2683394\ttotal: 1.73s\tremaining: 5.44s\n",
      "241:\tlearn: 0.2681869\ttotal: 1.73s\tremaining: 5.43s\n",
      "242:\tlearn: 0.2679671\ttotal: 1.74s\tremaining: 5.43s\n",
      "243:\tlearn: 0.2678156\ttotal: 1.75s\tremaining: 5.43s\n",
      "244:\tlearn: 0.2676494\ttotal: 1.76s\tremaining: 5.43s\n",
      "245:\tlearn: 0.2675194\ttotal: 1.77s\tremaining: 5.43s\n",
      "246:\tlearn: 0.2672023\ttotal: 1.78s\tremaining: 5.42s\n",
      "247:\tlearn: 0.2670366\ttotal: 1.78s\tremaining: 5.4s\n",
      "248:\tlearn: 0.2669472\ttotal: 1.79s\tremaining: 5.39s\n",
      "249:\tlearn: 0.2668533\ttotal: 1.8s\tremaining: 5.39s\n",
      "250:\tlearn: 0.2667255\ttotal: 1.8s\tremaining: 5.38s\n",
      "251:\tlearn: 0.2665626\ttotal: 1.81s\tremaining: 5.38s\n",
      "252:\tlearn: 0.2664205\ttotal: 1.82s\tremaining: 5.38s\n",
      "253:\tlearn: 0.2662905\ttotal: 1.83s\tremaining: 5.39s\n",
      "254:\tlearn: 0.2660544\ttotal: 1.84s\tremaining: 5.38s\n",
      "255:\tlearn: 0.2658216\ttotal: 1.85s\tremaining: 5.37s\n",
      "256:\tlearn: 0.2656946\ttotal: 1.85s\tremaining: 5.36s\n",
      "257:\tlearn: 0.2655147\ttotal: 1.86s\tremaining: 5.35s\n",
      "258:\tlearn: 0.2652683\ttotal: 1.86s\tremaining: 5.34s\n",
      "259:\tlearn: 0.2652104\ttotal: 1.87s\tremaining: 5.33s\n",
      "260:\tlearn: 0.2650509\ttotal: 1.88s\tremaining: 5.32s\n",
      "261:\tlearn: 0.2649520\ttotal: 1.88s\tremaining: 5.31s\n",
      "262:\tlearn: 0.2648491\ttotal: 1.89s\tremaining: 5.29s\n",
      "263:\tlearn: 0.2646411\ttotal: 1.89s\tremaining: 5.28s\n",
      "264:\tlearn: 0.2644119\ttotal: 1.9s\tremaining: 5.27s\n",
      "265:\tlearn: 0.2643345\ttotal: 1.91s\tremaining: 5.26s\n",
      "266:\tlearn: 0.2642180\ttotal: 1.91s\tremaining: 5.24s\n",
      "267:\tlearn: 0.2640461\ttotal: 1.92s\tremaining: 5.24s\n",
      "268:\tlearn: 0.2639501\ttotal: 1.92s\tremaining: 5.22s\n",
      "269:\tlearn: 0.2637895\ttotal: 1.93s\tremaining: 5.21s\n",
      "270:\tlearn: 0.2635873\ttotal: 1.94s\tremaining: 5.21s\n",
      "271:\tlearn: 0.2635056\ttotal: 1.94s\tremaining: 5.2s\n",
      "272:\tlearn: 0.2633448\ttotal: 1.96s\tremaining: 5.21s\n",
      "273:\tlearn: 0.2631027\ttotal: 1.96s\tremaining: 5.2s\n",
      "274:\tlearn: 0.2629921\ttotal: 1.97s\tremaining: 5.2s\n",
      "275:\tlearn: 0.2628971\ttotal: 1.98s\tremaining: 5.19s\n",
      "276:\tlearn: 0.2627650\ttotal: 1.99s\tremaining: 5.18s\n",
      "277:\tlearn: 0.2626986\ttotal: 1.99s\tremaining: 5.18s\n",
      "278:\tlearn: 0.2624747\ttotal: 2s\tremaining: 5.17s\n",
      "279:\tlearn: 0.2621232\ttotal: 2.01s\tremaining: 5.16s\n",
      "280:\tlearn: 0.2620119\ttotal: 2.01s\tremaining: 5.15s\n",
      "281:\tlearn: 0.2619303\ttotal: 2.02s\tremaining: 5.14s\n",
      "282:\tlearn: 0.2618487\ttotal: 2.02s\tremaining: 5.13s\n",
      "283:\tlearn: 0.2616580\ttotal: 2.03s\tremaining: 5.12s\n",
      "284:\tlearn: 0.2614526\ttotal: 2.04s\tremaining: 5.11s\n",
      "285:\tlearn: 0.2612792\ttotal: 2.04s\tremaining: 5.09s\n",
      "286:\tlearn: 0.2612117\ttotal: 2.05s\tremaining: 5.08s\n",
      "287:\tlearn: 0.2610926\ttotal: 2.05s\tremaining: 5.07s\n",
      "288:\tlearn: 0.2609253\ttotal: 2.06s\tremaining: 5.06s\n",
      "289:\tlearn: 0.2608180\ttotal: 2.06s\tremaining: 5.05s\n",
      "290:\tlearn: 0.2605743\ttotal: 2.07s\tremaining: 5.04s\n",
      "291:\tlearn: 0.2604543\ttotal: 2.07s\tremaining: 5.03s\n",
      "292:\tlearn: 0.2603236\ttotal: 2.08s\tremaining: 5.02s\n",
      "293:\tlearn: 0.2602352\ttotal: 2.08s\tremaining: 5s\n",
      "294:\tlearn: 0.2600655\ttotal: 2.09s\tremaining: 4.99s\n",
      "295:\tlearn: 0.2599280\ttotal: 2.09s\tremaining: 4.98s\n",
      "296:\tlearn: 0.2597124\ttotal: 2.1s\tremaining: 4.97s\n",
      "297:\tlearn: 0.2596320\ttotal: 2.1s\tremaining: 4.96s\n",
      "298:\tlearn: 0.2594933\ttotal: 2.11s\tremaining: 4.95s\n",
      "299:\tlearn: 0.2594038\ttotal: 2.12s\tremaining: 4.94s\n",
      "300:\tlearn: 0.2592554\ttotal: 2.12s\tremaining: 4.92s\n",
      "301:\tlearn: 0.2591584\ttotal: 2.13s\tremaining: 4.91s\n",
      "302:\tlearn: 0.2588724\ttotal: 2.13s\tremaining: 4.91s\n",
      "303:\tlearn: 0.2587759\ttotal: 2.14s\tremaining: 4.9s\n",
      "304:\tlearn: 0.2584748\ttotal: 2.14s\tremaining: 4.89s\n",
      "305:\tlearn: 0.2584160\ttotal: 2.15s\tremaining: 4.88s\n",
      "306:\tlearn: 0.2583301\ttotal: 2.15s\tremaining: 4.87s\n",
      "307:\tlearn: 0.2580511\ttotal: 2.16s\tremaining: 4.85s\n",
      "308:\tlearn: 0.2578417\ttotal: 2.17s\tremaining: 4.84s\n",
      "309:\tlearn: 0.2577079\ttotal: 2.17s\tremaining: 4.84s\n",
      "310:\tlearn: 0.2576413\ttotal: 2.18s\tremaining: 4.82s\n",
      "311:\tlearn: 0.2575650\ttotal: 2.18s\tremaining: 4.81s\n",
      "312:\tlearn: 0.2574429\ttotal: 2.19s\tremaining: 4.8s\n",
      "313:\tlearn: 0.2573242\ttotal: 2.19s\tremaining: 4.79s\n",
      "314:\tlearn: 0.2572462\ttotal: 2.2s\tremaining: 4.78s\n",
      "315:\tlearn: 0.2571800\ttotal: 2.2s\tremaining: 4.77s\n",
      "316:\tlearn: 0.2570677\ttotal: 2.21s\tremaining: 4.76s\n",
      "317:\tlearn: 0.2569803\ttotal: 2.21s\tremaining: 4.75s\n",
      "318:\tlearn: 0.2569052\ttotal: 2.22s\tremaining: 4.75s\n",
      "319:\tlearn: 0.2567354\ttotal: 2.23s\tremaining: 4.74s\n",
      "320:\tlearn: 0.2566343\ttotal: 2.24s\tremaining: 4.73s\n",
      "321:\tlearn: 0.2564408\ttotal: 2.24s\tremaining: 4.72s\n"
     ]
    },
    {
     "name": "stdout",
     "output_type": "stream",
     "text": [
      "322:\tlearn: 0.2563206\ttotal: 2.25s\tremaining: 4.72s\n",
      "323:\tlearn: 0.2562085\ttotal: 2.26s\tremaining: 4.71s\n",
      "324:\tlearn: 0.2559621\ttotal: 2.26s\tremaining: 4.7s\n",
      "325:\tlearn: 0.2558627\ttotal: 2.27s\tremaining: 4.69s\n",
      "326:\tlearn: 0.2557117\ttotal: 2.28s\tremaining: 4.68s\n",
      "327:\tlearn: 0.2556560\ttotal: 2.28s\tremaining: 4.68s\n",
      "328:\tlearn: 0.2554546\ttotal: 2.29s\tremaining: 4.67s\n",
      "329:\tlearn: 0.2553450\ttotal: 2.29s\tremaining: 4.66s\n",
      "330:\tlearn: 0.2552059\ttotal: 2.3s\tremaining: 4.65s\n",
      "331:\tlearn: 0.2551135\ttotal: 2.31s\tremaining: 4.64s\n",
      "332:\tlearn: 0.2549718\ttotal: 2.31s\tremaining: 4.63s\n",
      "333:\tlearn: 0.2548976\ttotal: 2.32s\tremaining: 4.63s\n",
      "334:\tlearn: 0.2548380\ttotal: 2.33s\tremaining: 4.62s\n",
      "335:\tlearn: 0.2546892\ttotal: 2.33s\tremaining: 4.61s\n",
      "336:\tlearn: 0.2545319\ttotal: 2.34s\tremaining: 4.6s\n",
      "337:\tlearn: 0.2544635\ttotal: 2.34s\tremaining: 4.59s\n",
      "338:\tlearn: 0.2543846\ttotal: 2.35s\tremaining: 4.58s\n",
      "339:\tlearn: 0.2542337\ttotal: 2.35s\tremaining: 4.57s\n",
      "340:\tlearn: 0.2540700\ttotal: 2.36s\tremaining: 4.56s\n",
      "341:\tlearn: 0.2539363\ttotal: 2.36s\tremaining: 4.55s\n",
      "342:\tlearn: 0.2537838\ttotal: 2.37s\tremaining: 4.54s\n",
      "343:\tlearn: 0.2536097\ttotal: 2.37s\tremaining: 4.53s\n",
      "344:\tlearn: 0.2535597\ttotal: 2.38s\tremaining: 4.52s\n",
      "345:\tlearn: 0.2534591\ttotal: 2.38s\tremaining: 4.51s\n",
      "346:\tlearn: 0.2533900\ttotal: 2.39s\tremaining: 4.5s\n",
      "347:\tlearn: 0.2532449\ttotal: 2.4s\tremaining: 4.5s\n",
      "348:\tlearn: 0.2531452\ttotal: 2.41s\tremaining: 4.49s\n",
      "349:\tlearn: 0.2530168\ttotal: 2.42s\tremaining: 4.49s\n",
      "350:\tlearn: 0.2529104\ttotal: 2.42s\tremaining: 4.48s\n",
      "351:\tlearn: 0.2527340\ttotal: 2.43s\tremaining: 4.47s\n",
      "352:\tlearn: 0.2526341\ttotal: 2.44s\tremaining: 4.47s\n",
      "353:\tlearn: 0.2523764\ttotal: 2.44s\tremaining: 4.46s\n",
      "354:\tlearn: 0.2522778\ttotal: 2.45s\tremaining: 4.45s\n",
      "355:\tlearn: 0.2521874\ttotal: 2.45s\tremaining: 4.44s\n",
      "356:\tlearn: 0.2521048\ttotal: 2.46s\tremaining: 4.43s\n",
      "357:\tlearn: 0.2520580\ttotal: 2.46s\tremaining: 4.42s\n",
      "358:\tlearn: 0.2519859\ttotal: 2.47s\tremaining: 4.41s\n",
      "359:\tlearn: 0.2519057\ttotal: 2.48s\tremaining: 4.4s\n",
      "360:\tlearn: 0.2517511\ttotal: 2.48s\tremaining: 4.39s\n",
      "361:\tlearn: 0.2516776\ttotal: 2.49s\tremaining: 4.38s\n",
      "362:\tlearn: 0.2515153\ttotal: 2.49s\tremaining: 4.37s\n",
      "363:\tlearn: 0.2514277\ttotal: 2.5s\tremaining: 4.36s\n",
      "364:\tlearn: 0.2513306\ttotal: 2.5s\tremaining: 4.36s\n",
      "365:\tlearn: 0.2511829\ttotal: 2.51s\tremaining: 4.34s\n",
      "366:\tlearn: 0.2511155\ttotal: 2.51s\tremaining: 4.33s\n",
      "367:\tlearn: 0.2510612\ttotal: 2.52s\tremaining: 4.33s\n",
      "368:\tlearn: 0.2509966\ttotal: 2.52s\tremaining: 4.32s\n",
      "369:\tlearn: 0.2508610\ttotal: 2.53s\tremaining: 4.31s\n",
      "370:\tlearn: 0.2507633\ttotal: 2.53s\tremaining: 4.3s\n",
      "371:\tlearn: 0.2506432\ttotal: 2.54s\tremaining: 4.29s\n",
      "372:\tlearn: 0.2505495\ttotal: 2.54s\tremaining: 4.28s\n",
      "373:\tlearn: 0.2504589\ttotal: 2.55s\tremaining: 4.27s\n",
      "374:\tlearn: 0.2503364\ttotal: 2.56s\tremaining: 4.26s\n",
      "375:\tlearn: 0.2502560\ttotal: 2.56s\tremaining: 4.25s\n",
      "376:\tlearn: 0.2500085\ttotal: 2.57s\tremaining: 4.25s\n",
      "377:\tlearn: 0.2499287\ttotal: 2.57s\tremaining: 4.24s\n",
      "378:\tlearn: 0.2498442\ttotal: 2.58s\tremaining: 4.23s\n",
      "379:\tlearn: 0.2497519\ttotal: 2.58s\tremaining: 4.22s\n",
      "380:\tlearn: 0.2495511\ttotal: 2.59s\tremaining: 4.21s\n",
      "381:\tlearn: 0.2493784\ttotal: 2.6s\tremaining: 4.2s\n",
      "382:\tlearn: 0.2493414\ttotal: 2.6s\tremaining: 4.19s\n",
      "383:\tlearn: 0.2492911\ttotal: 2.61s\tremaining: 4.18s\n",
      "384:\tlearn: 0.2492413\ttotal: 2.61s\tremaining: 4.17s\n",
      "385:\tlearn: 0.2490917\ttotal: 2.62s\tremaining: 4.16s\n",
      "386:\tlearn: 0.2489326\ttotal: 2.62s\tremaining: 4.16s\n",
      "387:\tlearn: 0.2486968\ttotal: 2.63s\tremaining: 4.15s\n",
      "388:\tlearn: 0.2486399\ttotal: 2.63s\tremaining: 4.14s\n",
      "389:\tlearn: 0.2485398\ttotal: 2.64s\tremaining: 4.13s\n",
      "390:\tlearn: 0.2484586\ttotal: 2.65s\tremaining: 4.12s\n",
      "391:\tlearn: 0.2483668\ttotal: 2.65s\tremaining: 4.11s\n",
      "392:\tlearn: 0.2482836\ttotal: 2.66s\tremaining: 4.1s\n",
      "393:\tlearn: 0.2481676\ttotal: 2.66s\tremaining: 4.09s\n",
      "394:\tlearn: 0.2480822\ttotal: 2.67s\tremaining: 4.08s\n",
      "395:\tlearn: 0.2480506\ttotal: 2.67s\tremaining: 4.07s\n",
      "396:\tlearn: 0.2478937\ttotal: 2.68s\tremaining: 4.07s\n",
      "397:\tlearn: 0.2478277\ttotal: 2.68s\tremaining: 4.06s\n",
      "398:\tlearn: 0.2477080\ttotal: 2.69s\tremaining: 4.05s\n",
      "399:\tlearn: 0.2476287\ttotal: 2.69s\tremaining: 4.04s\n",
      "400:\tlearn: 0.2475241\ttotal: 2.7s\tremaining: 4.03s\n",
      "401:\tlearn: 0.2474366\ttotal: 2.71s\tremaining: 4.03s\n",
      "402:\tlearn: 0.2473039\ttotal: 2.71s\tremaining: 4.02s\n",
      "403:\tlearn: 0.2471871\ttotal: 2.72s\tremaining: 4.01s\n",
      "404:\tlearn: 0.2471207\ttotal: 2.72s\tremaining: 4s\n",
      "405:\tlearn: 0.2470354\ttotal: 2.73s\tremaining: 3.99s\n",
      "406:\tlearn: 0.2468777\ttotal: 2.74s\tremaining: 3.99s\n",
      "407:\tlearn: 0.2468059\ttotal: 2.74s\tremaining: 3.98s\n",
      "408:\tlearn: 0.2467288\ttotal: 2.75s\tremaining: 3.97s\n",
      "409:\tlearn: 0.2465940\ttotal: 2.76s\tremaining: 3.97s\n",
      "410:\tlearn: 0.2465213\ttotal: 2.77s\tremaining: 3.96s\n",
      "411:\tlearn: 0.2463836\ttotal: 2.77s\tremaining: 3.96s\n",
      "412:\tlearn: 0.2462378\ttotal: 2.78s\tremaining: 3.95s\n",
      "413:\tlearn: 0.2461536\ttotal: 2.78s\tremaining: 3.94s\n",
      "414:\tlearn: 0.2460862\ttotal: 2.79s\tremaining: 3.93s\n",
      "415:\tlearn: 0.2459943\ttotal: 2.8s\tremaining: 3.93s\n",
      "416:\tlearn: 0.2459169\ttotal: 2.81s\tremaining: 3.93s\n",
      "417:\tlearn: 0.2458559\ttotal: 2.81s\tremaining: 3.92s\n",
      "418:\tlearn: 0.2456815\ttotal: 2.82s\tremaining: 3.91s\n",
      "419:\tlearn: 0.2456169\ttotal: 2.83s\tremaining: 3.9s\n",
      "420:\tlearn: 0.2454910\ttotal: 2.83s\tremaining: 3.9s\n",
      "421:\tlearn: 0.2454568\ttotal: 2.84s\tremaining: 3.89s\n",
      "422:\tlearn: 0.2453310\ttotal: 2.85s\tremaining: 3.88s\n",
      "423:\tlearn: 0.2452638\ttotal: 2.85s\tremaining: 3.87s\n",
      "424:\tlearn: 0.2451221\ttotal: 2.86s\tremaining: 3.87s\n",
      "425:\tlearn: 0.2449574\ttotal: 2.86s\tremaining: 3.86s\n",
      "426:\tlearn: 0.2448826\ttotal: 2.87s\tremaining: 3.85s\n",
      "427:\tlearn: 0.2448172\ttotal: 2.87s\tremaining: 3.84s\n",
      "428:\tlearn: 0.2447375\ttotal: 2.88s\tremaining: 3.84s\n",
      "429:\tlearn: 0.2446817\ttotal: 2.89s\tremaining: 3.83s\n",
      "430:\tlearn: 0.2445358\ttotal: 2.9s\tremaining: 3.82s\n",
      "431:\tlearn: 0.2444406\ttotal: 2.9s\tremaining: 3.82s\n",
      "432:\tlearn: 0.2443537\ttotal: 2.91s\tremaining: 3.81s\n",
      "433:\tlearn: 0.2442487\ttotal: 2.91s\tremaining: 3.8s\n",
      "434:\tlearn: 0.2441878\ttotal: 2.92s\tremaining: 3.79s\n",
      "435:\tlearn: 0.2440796\ttotal: 2.92s\tremaining: 3.78s\n",
      "436:\tlearn: 0.2440123\ttotal: 2.93s\tremaining: 3.77s\n",
      "437:\tlearn: 0.2438962\ttotal: 2.94s\tremaining: 3.77s\n",
      "438:\tlearn: 0.2438001\ttotal: 2.95s\tremaining: 3.77s\n",
      "439:\tlearn: 0.2436754\ttotal: 2.95s\tremaining: 3.76s\n",
      "440:\tlearn: 0.2435728\ttotal: 2.96s\tremaining: 3.75s\n",
      "441:\tlearn: 0.2434523\ttotal: 2.97s\tremaining: 3.75s\n",
      "442:\tlearn: 0.2433981\ttotal: 2.98s\tremaining: 3.74s\n",
      "443:\tlearn: 0.2432734\ttotal: 2.98s\tremaining: 3.74s\n",
      "444:\tlearn: 0.2431831\ttotal: 2.99s\tremaining: 3.73s\n",
      "445:\tlearn: 0.2431390\ttotal: 3s\tremaining: 3.72s\n",
      "446:\tlearn: 0.2430569\ttotal: 3s\tremaining: 3.71s\n",
      "447:\tlearn: 0.2429990\ttotal: 3.01s\tremaining: 3.71s\n",
      "448:\tlearn: 0.2429366\ttotal: 3.02s\tremaining: 3.7s\n",
      "449:\tlearn: 0.2427360\ttotal: 3.02s\tremaining: 3.69s\n",
      "450:\tlearn: 0.2426017\ttotal: 3.03s\tremaining: 3.69s\n",
      "451:\tlearn: 0.2425324\ttotal: 3.03s\tremaining: 3.68s\n",
      "452:\tlearn: 0.2424256\ttotal: 3.04s\tremaining: 3.67s\n",
      "453:\tlearn: 0.2423504\ttotal: 3.04s\tremaining: 3.66s\n",
      "454:\tlearn: 0.2421298\ttotal: 3.05s\tremaining: 3.65s\n",
      "455:\tlearn: 0.2420713\ttotal: 3.05s\tremaining: 3.64s\n",
      "456:\tlearn: 0.2419666\ttotal: 3.06s\tremaining: 3.64s\n",
      "457:\tlearn: 0.2419042\ttotal: 3.07s\tremaining: 3.63s\n",
      "458:\tlearn: 0.2418208\ttotal: 3.07s\tremaining: 3.62s\n",
      "459:\tlearn: 0.2416840\ttotal: 3.08s\tremaining: 3.62s\n",
      "460:\tlearn: 0.2416190\ttotal: 3.08s\tremaining: 3.61s\n",
      "461:\tlearn: 0.2414611\ttotal: 3.09s\tremaining: 3.6s\n",
      "462:\tlearn: 0.2413626\ttotal: 3.1s\tremaining: 3.59s\n",
      "463:\tlearn: 0.2412140\ttotal: 3.11s\tremaining: 3.59s\n",
      "464:\tlearn: 0.2410654\ttotal: 3.13s\tremaining: 3.6s\n",
      "465:\tlearn: 0.2409535\ttotal: 3.14s\tremaining: 3.6s\n",
      "466:\tlearn: 0.2409162\ttotal: 3.15s\tremaining: 3.6s\n",
      "467:\tlearn: 0.2408227\ttotal: 3.16s\tremaining: 3.59s\n",
      "468:\tlearn: 0.2407666\ttotal: 3.17s\tremaining: 3.59s\n",
      "469:\tlearn: 0.2406704\ttotal: 3.18s\tremaining: 3.59s\n",
      "470:\tlearn: 0.2406040\ttotal: 3.19s\tremaining: 3.59s\n",
      "471:\tlearn: 0.2405160\ttotal: 3.2s\tremaining: 3.58s\n",
      "472:\tlearn: 0.2404555\ttotal: 3.22s\tremaining: 3.58s\n",
      "473:\tlearn: 0.2403608\ttotal: 3.23s\tremaining: 3.58s\n",
      "474:\tlearn: 0.2403242\ttotal: 3.24s\tremaining: 3.58s\n",
      "475:\tlearn: 0.2401839\ttotal: 3.26s\tremaining: 3.59s\n",
      "476:\tlearn: 0.2400919\ttotal: 3.27s\tremaining: 3.59s\n",
      "477:\tlearn: 0.2400394\ttotal: 3.29s\tremaining: 3.59s\n",
      "478:\tlearn: 0.2399755\ttotal: 3.3s\tremaining: 3.59s\n",
      "479:\tlearn: 0.2399211\ttotal: 3.32s\tremaining: 3.6s\n",
      "480:\tlearn: 0.2398218\ttotal: 3.33s\tremaining: 3.6s\n"
     ]
    },
    {
     "name": "stdout",
     "output_type": "stream",
     "text": [
      "481:\tlearn: 0.2397796\ttotal: 3.34s\tremaining: 3.59s\n",
      "482:\tlearn: 0.2396995\ttotal: 3.35s\tremaining: 3.59s\n",
      "483:\tlearn: 0.2395323\ttotal: 3.36s\tremaining: 3.58s\n",
      "484:\tlearn: 0.2394888\ttotal: 3.37s\tremaining: 3.58s\n",
      "485:\tlearn: 0.2393389\ttotal: 3.39s\tremaining: 3.59s\n",
      "486:\tlearn: 0.2392241\ttotal: 3.41s\tremaining: 3.59s\n",
      "487:\tlearn: 0.2391262\ttotal: 3.44s\tremaining: 3.61s\n",
      "488:\tlearn: 0.2390498\ttotal: 3.47s\tremaining: 3.62s\n",
      "489:\tlearn: 0.2389596\ttotal: 3.48s\tremaining: 3.62s\n",
      "490:\tlearn: 0.2388714\ttotal: 3.49s\tremaining: 3.62s\n",
      "491:\tlearn: 0.2387916\ttotal: 3.5s\tremaining: 3.61s\n",
      "492:\tlearn: 0.2385895\ttotal: 3.51s\tremaining: 3.61s\n",
      "493:\tlearn: 0.2385132\ttotal: 3.52s\tremaining: 3.61s\n",
      "494:\tlearn: 0.2384349\ttotal: 3.53s\tremaining: 3.6s\n",
      "495:\tlearn: 0.2383495\ttotal: 3.54s\tremaining: 3.6s\n",
      "496:\tlearn: 0.2382570\ttotal: 3.55s\tremaining: 3.59s\n",
      "497:\tlearn: 0.2382193\ttotal: 3.56s\tremaining: 3.58s\n",
      "498:\tlearn: 0.2381430\ttotal: 3.56s\tremaining: 3.58s\n",
      "499:\tlearn: 0.2380249\ttotal: 3.57s\tremaining: 3.57s\n",
      "500:\tlearn: 0.2378882\ttotal: 3.58s\tremaining: 3.57s\n",
      "501:\tlearn: 0.2378005\ttotal: 3.59s\tremaining: 3.56s\n",
      "502:\tlearn: 0.2377106\ttotal: 3.6s\tremaining: 3.55s\n",
      "503:\tlearn: 0.2376426\ttotal: 3.6s\tremaining: 3.54s\n",
      "504:\tlearn: 0.2375780\ttotal: 3.61s\tremaining: 3.54s\n",
      "505:\tlearn: 0.2374571\ttotal: 3.61s\tremaining: 3.53s\n",
      "506:\tlearn: 0.2373888\ttotal: 3.62s\tremaining: 3.52s\n",
      "507:\tlearn: 0.2373316\ttotal: 3.62s\tremaining: 3.51s\n",
      "508:\tlearn: 0.2372564\ttotal: 3.63s\tremaining: 3.5s\n",
      "509:\tlearn: 0.2371475\ttotal: 3.63s\tremaining: 3.49s\n",
      "510:\tlearn: 0.2370761\ttotal: 3.64s\tremaining: 3.48s\n",
      "511:\tlearn: 0.2369359\ttotal: 3.65s\tremaining: 3.48s\n",
      "512:\tlearn: 0.2368164\ttotal: 3.65s\tremaining: 3.47s\n",
      "513:\tlearn: 0.2367300\ttotal: 3.66s\tremaining: 3.46s\n",
      "514:\tlearn: 0.2366609\ttotal: 3.66s\tremaining: 3.45s\n",
      "515:\tlearn: 0.2366076\ttotal: 3.67s\tremaining: 3.44s\n",
      "516:\tlearn: 0.2365014\ttotal: 3.67s\tremaining: 3.43s\n",
      "517:\tlearn: 0.2364386\ttotal: 3.68s\tremaining: 3.42s\n",
      "518:\tlearn: 0.2362996\ttotal: 3.69s\tremaining: 3.42s\n",
      "519:\tlearn: 0.2362372\ttotal: 3.69s\tremaining: 3.41s\n",
      "520:\tlearn: 0.2361393\ttotal: 3.7s\tremaining: 3.4s\n",
      "521:\tlearn: 0.2360863\ttotal: 3.7s\tremaining: 3.39s\n",
      "522:\tlearn: 0.2360343\ttotal: 3.71s\tremaining: 3.38s\n",
      "523:\tlearn: 0.2359802\ttotal: 3.71s\tremaining: 3.38s\n",
      "524:\tlearn: 0.2359021\ttotal: 3.72s\tremaining: 3.37s\n",
      "525:\tlearn: 0.2357284\ttotal: 3.73s\tremaining: 3.36s\n",
      "526:\tlearn: 0.2356392\ttotal: 3.73s\tremaining: 3.35s\n",
      "527:\tlearn: 0.2355500\ttotal: 3.74s\tremaining: 3.34s\n",
      "528:\tlearn: 0.2354715\ttotal: 3.75s\tremaining: 3.34s\n",
      "529:\tlearn: 0.2354225\ttotal: 3.75s\tremaining: 3.33s\n",
      "530:\tlearn: 0.2353595\ttotal: 3.76s\tremaining: 3.32s\n",
      "531:\tlearn: 0.2352772\ttotal: 3.77s\tremaining: 3.31s\n",
      "532:\tlearn: 0.2351663\ttotal: 3.77s\tremaining: 3.31s\n",
      "533:\tlearn: 0.2351110\ttotal: 3.78s\tremaining: 3.3s\n",
      "534:\tlearn: 0.2349963\ttotal: 3.79s\tremaining: 3.29s\n",
      "535:\tlearn: 0.2348374\ttotal: 3.79s\tremaining: 3.28s\n",
      "536:\tlearn: 0.2347887\ttotal: 3.8s\tremaining: 3.27s\n",
      "537:\tlearn: 0.2347194\ttotal: 3.8s\tremaining: 3.27s\n",
      "538:\tlearn: 0.2346922\ttotal: 3.81s\tremaining: 3.26s\n",
      "539:\tlearn: 0.2345971\ttotal: 3.81s\tremaining: 3.25s\n",
      "540:\tlearn: 0.2344924\ttotal: 3.82s\tremaining: 3.24s\n",
      "541:\tlearn: 0.2343841\ttotal: 3.83s\tremaining: 3.23s\n",
      "542:\tlearn: 0.2343368\ttotal: 3.83s\tremaining: 3.23s\n",
      "543:\tlearn: 0.2342889\ttotal: 3.84s\tremaining: 3.22s\n",
      "544:\tlearn: 0.2342289\ttotal: 3.84s\tremaining: 3.21s\n",
      "545:\tlearn: 0.2341526\ttotal: 3.85s\tremaining: 3.2s\n",
      "546:\tlearn: 0.2340841\ttotal: 3.85s\tremaining: 3.19s\n",
      "547:\tlearn: 0.2340117\ttotal: 3.86s\tremaining: 3.18s\n",
      "548:\tlearn: 0.2339517\ttotal: 3.87s\tremaining: 3.18s\n",
      "549:\tlearn: 0.2338575\ttotal: 3.87s\tremaining: 3.17s\n",
      "550:\tlearn: 0.2338040\ttotal: 3.88s\tremaining: 3.16s\n",
      "551:\tlearn: 0.2336443\ttotal: 3.89s\tremaining: 3.15s\n",
      "552:\tlearn: 0.2335750\ttotal: 3.9s\tremaining: 3.15s\n",
      "553:\tlearn: 0.2334862\ttotal: 3.9s\tremaining: 3.14s\n",
      "554:\tlearn: 0.2333470\ttotal: 3.91s\tremaining: 3.13s\n",
      "555:\tlearn: 0.2332704\ttotal: 3.92s\tremaining: 3.13s\n",
      "556:\tlearn: 0.2331808\ttotal: 3.92s\tremaining: 3.12s\n",
      "557:\tlearn: 0.2330879\ttotal: 3.93s\tremaining: 3.11s\n",
      "558:\tlearn: 0.2329855\ttotal: 3.94s\tremaining: 3.11s\n",
      "559:\tlearn: 0.2329113\ttotal: 3.95s\tremaining: 3.1s\n",
      "560:\tlearn: 0.2327775\ttotal: 3.96s\tremaining: 3.1s\n",
      "561:\tlearn: 0.2326948\ttotal: 3.97s\tremaining: 3.09s\n",
      "562:\tlearn: 0.2325785\ttotal: 3.97s\tremaining: 3.08s\n",
      "563:\tlearn: 0.2324458\ttotal: 3.98s\tremaining: 3.08s\n",
      "564:\tlearn: 0.2323455\ttotal: 3.99s\tremaining: 3.07s\n",
      "565:\tlearn: 0.2322600\ttotal: 4s\tremaining: 3.06s\n",
      "566:\tlearn: 0.2321493\ttotal: 4s\tremaining: 3.06s\n",
      "567:\tlearn: 0.2320258\ttotal: 4.01s\tremaining: 3.05s\n",
      "568:\tlearn: 0.2319484\ttotal: 4.02s\tremaining: 3.04s\n",
      "569:\tlearn: 0.2318869\ttotal: 4.02s\tremaining: 3.04s\n",
      "570:\tlearn: 0.2318129\ttotal: 4.03s\tremaining: 3.03s\n",
      "571:\tlearn: 0.2317501\ttotal: 4.04s\tremaining: 3.02s\n",
      "572:\tlearn: 0.2316877\ttotal: 4.05s\tremaining: 3.02s\n",
      "573:\tlearn: 0.2316537\ttotal: 4.05s\tremaining: 3.01s\n",
      "574:\tlearn: 0.2315365\ttotal: 4.06s\tremaining: 3s\n",
      "575:\tlearn: 0.2314391\ttotal: 4.07s\tremaining: 3s\n",
      "576:\tlearn: 0.2313776\ttotal: 4.08s\tremaining: 2.99s\n",
      "577:\tlearn: 0.2312738\ttotal: 4.08s\tremaining: 2.98s\n",
      "578:\tlearn: 0.2311560\ttotal: 4.09s\tremaining: 2.97s\n",
      "579:\tlearn: 0.2310836\ttotal: 4.09s\tremaining: 2.96s\n",
      "580:\tlearn: 0.2310225\ttotal: 4.1s\tremaining: 2.96s\n",
      "581:\tlearn: 0.2309498\ttotal: 4.11s\tremaining: 2.95s\n",
      "582:\tlearn: 0.2308745\ttotal: 4.12s\tremaining: 2.94s\n",
      "583:\tlearn: 0.2307691\ttotal: 4.12s\tremaining: 2.94s\n",
      "584:\tlearn: 0.2306543\ttotal: 4.13s\tremaining: 2.93s\n",
      "585:\tlearn: 0.2305847\ttotal: 4.14s\tremaining: 2.92s\n",
      "586:\tlearn: 0.2305473\ttotal: 4.14s\tremaining: 2.91s\n",
      "587:\tlearn: 0.2304939\ttotal: 4.15s\tremaining: 2.91s\n",
      "588:\tlearn: 0.2304240\ttotal: 4.16s\tremaining: 2.9s\n",
      "589:\tlearn: 0.2303400\ttotal: 4.16s\tremaining: 2.89s\n",
      "590:\tlearn: 0.2302868\ttotal: 4.17s\tremaining: 2.88s\n",
      "591:\tlearn: 0.2302078\ttotal: 4.18s\tremaining: 2.88s\n",
      "592:\tlearn: 0.2300868\ttotal: 4.18s\tremaining: 2.87s\n",
      "593:\tlearn: 0.2300282\ttotal: 4.19s\tremaining: 2.86s\n",
      "594:\tlearn: 0.2298902\ttotal: 4.2s\tremaining: 2.86s\n",
      "595:\tlearn: 0.2298346\ttotal: 4.22s\tremaining: 2.86s\n",
      "596:\tlearn: 0.2297310\ttotal: 4.23s\tremaining: 2.86s\n",
      "597:\tlearn: 0.2296799\ttotal: 4.25s\tremaining: 2.86s\n",
      "598:\tlearn: 0.2296306\ttotal: 4.27s\tremaining: 2.86s\n",
      "599:\tlearn: 0.2295670\ttotal: 4.28s\tremaining: 2.85s\n",
      "600:\tlearn: 0.2295008\ttotal: 4.29s\tremaining: 2.85s\n",
      "601:\tlearn: 0.2293895\ttotal: 4.3s\tremaining: 2.84s\n",
      "602:\tlearn: 0.2293457\ttotal: 4.31s\tremaining: 2.84s\n",
      "603:\tlearn: 0.2292829\ttotal: 4.31s\tremaining: 2.83s\n",
      "604:\tlearn: 0.2292475\ttotal: 4.32s\tremaining: 2.82s\n",
      "605:\tlearn: 0.2291774\ttotal: 4.33s\tremaining: 2.81s\n",
      "606:\tlearn: 0.2290791\ttotal: 4.33s\tremaining: 2.81s\n",
      "607:\tlearn: 0.2290010\ttotal: 4.34s\tremaining: 2.8s\n",
      "608:\tlearn: 0.2289179\ttotal: 4.35s\tremaining: 2.79s\n",
      "609:\tlearn: 0.2288642\ttotal: 4.36s\tremaining: 2.79s\n",
      "610:\tlearn: 0.2287812\ttotal: 4.37s\tremaining: 2.78s\n",
      "611:\tlearn: 0.2287156\ttotal: 4.37s\tremaining: 2.77s\n",
      "612:\tlearn: 0.2285843\ttotal: 4.38s\tremaining: 2.77s\n",
      "613:\tlearn: 0.2284768\ttotal: 4.39s\tremaining: 2.76s\n",
      "614:\tlearn: 0.2283956\ttotal: 4.39s\tremaining: 2.75s\n",
      "615:\tlearn: 0.2283447\ttotal: 4.4s\tremaining: 2.74s\n",
      "616:\tlearn: 0.2282401\ttotal: 4.41s\tremaining: 2.73s\n",
      "617:\tlearn: 0.2280824\ttotal: 4.41s\tremaining: 2.73s\n",
      "618:\tlearn: 0.2280343\ttotal: 4.42s\tremaining: 2.72s\n",
      "619:\tlearn: 0.2279865\ttotal: 4.42s\tremaining: 2.71s\n",
      "620:\tlearn: 0.2279127\ttotal: 4.43s\tremaining: 2.7s\n",
      "621:\tlearn: 0.2277615\ttotal: 4.43s\tremaining: 2.69s\n",
      "622:\tlearn: 0.2276506\ttotal: 4.44s\tremaining: 2.69s\n",
      "623:\tlearn: 0.2275999\ttotal: 4.44s\tremaining: 2.68s\n",
      "624:\tlearn: 0.2275426\ttotal: 4.45s\tremaining: 2.67s\n",
      "625:\tlearn: 0.2274805\ttotal: 4.46s\tremaining: 2.66s\n",
      "626:\tlearn: 0.2274222\ttotal: 4.46s\tremaining: 2.65s\n",
      "627:\tlearn: 0.2273809\ttotal: 4.47s\tremaining: 2.65s\n",
      "628:\tlearn: 0.2273235\ttotal: 4.47s\tremaining: 2.64s\n",
      "629:\tlearn: 0.2272555\ttotal: 4.48s\tremaining: 2.63s\n",
      "630:\tlearn: 0.2271342\ttotal: 4.48s\tremaining: 2.62s\n",
      "631:\tlearn: 0.2270632\ttotal: 4.49s\tremaining: 2.61s\n",
      "632:\tlearn: 0.2269879\ttotal: 4.49s\tremaining: 2.6s\n",
      "633:\tlearn: 0.2269111\ttotal: 4.5s\tremaining: 2.6s\n",
      "634:\tlearn: 0.2268798\ttotal: 4.5s\tremaining: 2.59s\n",
      "635:\tlearn: 0.2267695\ttotal: 4.51s\tremaining: 2.58s\n",
      "636:\tlearn: 0.2266746\ttotal: 4.51s\tremaining: 2.57s\n",
      "637:\tlearn: 0.2266252\ttotal: 4.52s\tremaining: 2.56s\n",
      "638:\tlearn: 0.2265716\ttotal: 4.53s\tremaining: 2.56s\n",
      "639:\tlearn: 0.2265150\ttotal: 4.53s\tremaining: 2.55s\n",
      "640:\tlearn: 0.2264625\ttotal: 4.54s\tremaining: 2.54s\n",
      "641:\tlearn: 0.2263885\ttotal: 4.54s\tremaining: 2.53s\n",
      "642:\tlearn: 0.2263070\ttotal: 4.55s\tremaining: 2.53s\n",
      "643:\tlearn: 0.2262492\ttotal: 4.55s\tremaining: 2.52s\n",
      "644:\tlearn: 0.2261657\ttotal: 4.56s\tremaining: 2.51s\n",
      "645:\tlearn: 0.2261012\ttotal: 4.57s\tremaining: 2.5s\n",
      "646:\tlearn: 0.2260400\ttotal: 4.57s\tremaining: 2.49s\n",
      "647:\tlearn: 0.2259457\ttotal: 4.58s\tremaining: 2.49s\n",
      "648:\tlearn: 0.2258886\ttotal: 4.58s\tremaining: 2.48s\n",
      "649:\tlearn: 0.2258240\ttotal: 4.59s\tremaining: 2.47s\n"
     ]
    },
    {
     "name": "stdout",
     "output_type": "stream",
     "text": [
      "650:\tlearn: 0.2257261\ttotal: 4.59s\tremaining: 2.46s\n",
      "651:\tlearn: 0.2256012\ttotal: 4.6s\tremaining: 2.46s\n",
      "652:\tlearn: 0.2255209\ttotal: 4.61s\tremaining: 2.45s\n",
      "653:\tlearn: 0.2254240\ttotal: 4.61s\tremaining: 2.44s\n",
      "654:\tlearn: 0.2253577\ttotal: 4.62s\tremaining: 2.43s\n",
      "655:\tlearn: 0.2252596\ttotal: 4.62s\tremaining: 2.42s\n",
      "656:\tlearn: 0.2251853\ttotal: 4.63s\tremaining: 2.42s\n",
      "657:\tlearn: 0.2251584\ttotal: 4.63s\tremaining: 2.41s\n",
      "658:\tlearn: 0.2251017\ttotal: 4.64s\tremaining: 2.4s\n",
      "659:\tlearn: 0.2250442\ttotal: 4.64s\tremaining: 2.39s\n",
      "660:\tlearn: 0.2249911\ttotal: 4.65s\tremaining: 2.38s\n",
      "661:\tlearn: 0.2249117\ttotal: 4.65s\tremaining: 2.38s\n",
      "662:\tlearn: 0.2248654\ttotal: 4.66s\tremaining: 2.37s\n",
      "663:\tlearn: 0.2247871\ttotal: 4.66s\tremaining: 2.36s\n",
      "664:\tlearn: 0.2247436\ttotal: 4.67s\tremaining: 2.35s\n",
      "665:\tlearn: 0.2246782\ttotal: 4.68s\tremaining: 2.35s\n",
      "666:\tlearn: 0.2246095\ttotal: 4.68s\tremaining: 2.34s\n",
      "667:\tlearn: 0.2245367\ttotal: 4.69s\tremaining: 2.33s\n",
      "668:\tlearn: 0.2244977\ttotal: 4.7s\tremaining: 2.32s\n",
      "669:\tlearn: 0.2244496\ttotal: 4.7s\tremaining: 2.32s\n",
      "670:\tlearn: 0.2243414\ttotal: 4.71s\tremaining: 2.31s\n",
      "671:\tlearn: 0.2242881\ttotal: 4.72s\tremaining: 2.3s\n",
      "672:\tlearn: 0.2242599\ttotal: 4.72s\tremaining: 2.29s\n",
      "673:\tlearn: 0.2241883\ttotal: 4.73s\tremaining: 2.29s\n",
      "674:\tlearn: 0.2241586\ttotal: 4.74s\tremaining: 2.28s\n",
      "675:\tlearn: 0.2240835\ttotal: 4.74s\tremaining: 2.27s\n",
      "676:\tlearn: 0.2239993\ttotal: 4.75s\tremaining: 2.27s\n",
      "677:\tlearn: 0.2239789\ttotal: 4.76s\tremaining: 2.26s\n",
      "678:\tlearn: 0.2239113\ttotal: 4.76s\tremaining: 2.25s\n",
      "679:\tlearn: 0.2238671\ttotal: 4.77s\tremaining: 2.25s\n",
      "680:\tlearn: 0.2237634\ttotal: 4.78s\tremaining: 2.24s\n",
      "681:\tlearn: 0.2236773\ttotal: 4.79s\tremaining: 2.23s\n",
      "682:\tlearn: 0.2236013\ttotal: 4.79s\tremaining: 2.22s\n",
      "683:\tlearn: 0.2235518\ttotal: 4.8s\tremaining: 2.21s\n",
      "684:\tlearn: 0.2235091\ttotal: 4.8s\tremaining: 2.21s\n",
      "685:\tlearn: 0.2234584\ttotal: 4.81s\tremaining: 2.2s\n",
      "686:\tlearn: 0.2233927\ttotal: 4.81s\tremaining: 2.19s\n",
      "687:\tlearn: 0.2233252\ttotal: 4.82s\tremaining: 2.19s\n",
      "688:\tlearn: 0.2232662\ttotal: 4.83s\tremaining: 2.18s\n",
      "689:\tlearn: 0.2232041\ttotal: 4.83s\tremaining: 2.17s\n",
      "690:\tlearn: 0.2231341\ttotal: 4.84s\tremaining: 2.16s\n",
      "691:\tlearn: 0.2230680\ttotal: 4.84s\tremaining: 2.15s\n",
      "692:\tlearn: 0.2230275\ttotal: 4.85s\tremaining: 2.15s\n",
      "693:\tlearn: 0.2229693\ttotal: 4.85s\tremaining: 2.14s\n",
      "694:\tlearn: 0.2229134\ttotal: 4.86s\tremaining: 2.13s\n",
      "695:\tlearn: 0.2228428\ttotal: 4.87s\tremaining: 2.13s\n",
      "696:\tlearn: 0.2228014\ttotal: 4.87s\tremaining: 2.12s\n",
      "697:\tlearn: 0.2227432\ttotal: 4.88s\tremaining: 2.11s\n",
      "698:\tlearn: 0.2226690\ttotal: 4.88s\tremaining: 2.1s\n",
      "699:\tlearn: 0.2225714\ttotal: 4.89s\tremaining: 2.1s\n",
      "700:\tlearn: 0.2225436\ttotal: 4.89s\tremaining: 2.09s\n",
      "701:\tlearn: 0.2224946\ttotal: 4.9s\tremaining: 2.08s\n",
      "702:\tlearn: 0.2223688\ttotal: 4.91s\tremaining: 2.07s\n",
      "703:\tlearn: 0.2223193\ttotal: 4.91s\tremaining: 2.06s\n",
      "704:\tlearn: 0.2222139\ttotal: 4.92s\tremaining: 2.06s\n",
      "705:\tlearn: 0.2221588\ttotal: 4.92s\tremaining: 2.05s\n",
      "706:\tlearn: 0.2220638\ttotal: 4.93s\tremaining: 2.04s\n",
      "707:\tlearn: 0.2220003\ttotal: 4.93s\tremaining: 2.04s\n",
      "708:\tlearn: 0.2219629\ttotal: 4.94s\tremaining: 2.03s\n",
      "709:\tlearn: 0.2219439\ttotal: 4.95s\tremaining: 2.02s\n",
      "710:\tlearn: 0.2218574\ttotal: 4.95s\tremaining: 2.01s\n",
      "711:\tlearn: 0.2218062\ttotal: 4.96s\tremaining: 2s\n",
      "712:\tlearn: 0.2217531\ttotal: 4.96s\tremaining: 2s\n",
      "713:\tlearn: 0.2216802\ttotal: 4.97s\tremaining: 1.99s\n",
      "714:\tlearn: 0.2216378\ttotal: 4.97s\tremaining: 1.98s\n",
      "715:\tlearn: 0.2215998\ttotal: 4.98s\tremaining: 1.97s\n",
      "716:\tlearn: 0.2215604\ttotal: 4.98s\tremaining: 1.97s\n",
      "717:\tlearn: 0.2214963\ttotal: 4.99s\tremaining: 1.96s\n",
      "718:\tlearn: 0.2214296\ttotal: 5s\tremaining: 1.95s\n",
      "719:\tlearn: 0.2213473\ttotal: 5s\tremaining: 1.94s\n",
      "720:\tlearn: 0.2213019\ttotal: 5.01s\tremaining: 1.94s\n",
      "721:\tlearn: 0.2212475\ttotal: 5.01s\tremaining: 1.93s\n",
      "722:\tlearn: 0.2212039\ttotal: 5.02s\tremaining: 1.92s\n",
      "723:\tlearn: 0.2211338\ttotal: 5.02s\tremaining: 1.91s\n",
      "724:\tlearn: 0.2210812\ttotal: 5.03s\tremaining: 1.91s\n",
      "725:\tlearn: 0.2210474\ttotal: 5.03s\tremaining: 1.9s\n",
      "726:\tlearn: 0.2209951\ttotal: 5.04s\tremaining: 1.89s\n",
      "727:\tlearn: 0.2209132\ttotal: 5.04s\tremaining: 1.88s\n",
      "728:\tlearn: 0.2208392\ttotal: 5.05s\tremaining: 1.88s\n",
      "729:\tlearn: 0.2207797\ttotal: 5.05s\tremaining: 1.87s\n",
      "730:\tlearn: 0.2207214\ttotal: 5.06s\tremaining: 1.86s\n",
      "731:\tlearn: 0.2206651\ttotal: 5.06s\tremaining: 1.85s\n",
      "732:\tlearn: 0.2206119\ttotal: 5.07s\tremaining: 1.85s\n",
      "733:\tlearn: 0.2205673\ttotal: 5.07s\tremaining: 1.84s\n",
      "734:\tlearn: 0.2204936\ttotal: 5.08s\tremaining: 1.83s\n",
      "735:\tlearn: 0.2204565\ttotal: 5.08s\tremaining: 1.82s\n",
      "736:\tlearn: 0.2204059\ttotal: 5.09s\tremaining: 1.82s\n",
      "737:\tlearn: 0.2203740\ttotal: 5.1s\tremaining: 1.81s\n",
      "738:\tlearn: 0.2203012\ttotal: 5.1s\tremaining: 1.8s\n",
      "739:\tlearn: 0.2202692\ttotal: 5.11s\tremaining: 1.79s\n",
      "740:\tlearn: 0.2202253\ttotal: 5.11s\tremaining: 1.79s\n",
      "741:\tlearn: 0.2201604\ttotal: 5.12s\tremaining: 1.78s\n",
      "742:\tlearn: 0.2200767\ttotal: 5.12s\tremaining: 1.77s\n",
      "743:\tlearn: 0.2199813\ttotal: 5.13s\tremaining: 1.76s\n",
      "744:\tlearn: 0.2199090\ttotal: 5.13s\tremaining: 1.76s\n",
      "745:\tlearn: 0.2198685\ttotal: 5.14s\tremaining: 1.75s\n",
      "746:\tlearn: 0.2197601\ttotal: 5.15s\tremaining: 1.74s\n",
      "747:\tlearn: 0.2197304\ttotal: 5.15s\tremaining: 1.74s\n",
      "748:\tlearn: 0.2196812\ttotal: 5.16s\tremaining: 1.73s\n",
      "749:\tlearn: 0.2196245\ttotal: 5.16s\tremaining: 1.72s\n",
      "750:\tlearn: 0.2195455\ttotal: 5.17s\tremaining: 1.71s\n",
      "751:\tlearn: 0.2195001\ttotal: 5.18s\tremaining: 1.71s\n",
      "752:\tlearn: 0.2194257\ttotal: 5.18s\tremaining: 1.7s\n",
      "753:\tlearn: 0.2193622\ttotal: 5.19s\tremaining: 1.69s\n",
      "754:\tlearn: 0.2192867\ttotal: 5.2s\tremaining: 1.69s\n",
      "755:\tlearn: 0.2192162\ttotal: 5.21s\tremaining: 1.68s\n",
      "756:\tlearn: 0.2191057\ttotal: 5.21s\tremaining: 1.67s\n",
      "757:\tlearn: 0.2190713\ttotal: 5.22s\tremaining: 1.67s\n",
      "758:\tlearn: 0.2190238\ttotal: 5.23s\tremaining: 1.66s\n",
      "759:\tlearn: 0.2189612\ttotal: 5.24s\tremaining: 1.65s\n",
      "760:\tlearn: 0.2188984\ttotal: 5.25s\tremaining: 1.65s\n",
      "761:\tlearn: 0.2188635\ttotal: 5.25s\tremaining: 1.64s\n",
      "762:\tlearn: 0.2188104\ttotal: 5.26s\tremaining: 1.63s\n",
      "763:\tlearn: 0.2187432\ttotal: 5.26s\tremaining: 1.63s\n",
      "764:\tlearn: 0.2186731\ttotal: 5.27s\tremaining: 1.62s\n",
      "765:\tlearn: 0.2186313\ttotal: 5.28s\tremaining: 1.61s\n",
      "766:\tlearn: 0.2185913\ttotal: 5.28s\tremaining: 1.6s\n",
      "767:\tlearn: 0.2185489\ttotal: 5.29s\tremaining: 1.6s\n",
      "768:\tlearn: 0.2185064\ttotal: 5.29s\tremaining: 1.59s\n",
      "769:\tlearn: 0.2184215\ttotal: 5.3s\tremaining: 1.58s\n",
      "770:\tlearn: 0.2183684\ttotal: 5.3s\tremaining: 1.57s\n",
      "771:\tlearn: 0.2183240\ttotal: 5.31s\tremaining: 1.57s\n",
      "772:\tlearn: 0.2182670\ttotal: 5.32s\tremaining: 1.56s\n",
      "773:\tlearn: 0.2181924\ttotal: 5.32s\tremaining: 1.55s\n",
      "774:\tlearn: 0.2181561\ttotal: 5.33s\tremaining: 1.55s\n",
      "775:\tlearn: 0.2181019\ttotal: 5.33s\tremaining: 1.54s\n",
      "776:\tlearn: 0.2180575\ttotal: 5.34s\tremaining: 1.53s\n",
      "777:\tlearn: 0.2180038\ttotal: 5.34s\tremaining: 1.52s\n",
      "778:\tlearn: 0.2179688\ttotal: 5.35s\tremaining: 1.52s\n",
      "779:\tlearn: 0.2179436\ttotal: 5.36s\tremaining: 1.51s\n",
      "780:\tlearn: 0.2178875\ttotal: 5.36s\tremaining: 1.5s\n",
      "781:\tlearn: 0.2178609\ttotal: 5.37s\tremaining: 1.5s\n",
      "782:\tlearn: 0.2178038\ttotal: 5.38s\tremaining: 1.49s\n",
      "783:\tlearn: 0.2177329\ttotal: 5.38s\tremaining: 1.48s\n",
      "784:\tlearn: 0.2176586\ttotal: 5.4s\tremaining: 1.48s\n",
      "785:\tlearn: 0.2175978\ttotal: 5.4s\tremaining: 1.47s\n",
      "786:\tlearn: 0.2175546\ttotal: 5.41s\tremaining: 1.46s\n",
      "787:\tlearn: 0.2174877\ttotal: 5.42s\tremaining: 1.46s\n",
      "788:\tlearn: 0.2174287\ttotal: 5.42s\tremaining: 1.45s\n",
      "789:\tlearn: 0.2173987\ttotal: 5.43s\tremaining: 1.44s\n",
      "790:\tlearn: 0.2173603\ttotal: 5.43s\tremaining: 1.44s\n",
      "791:\tlearn: 0.2173082\ttotal: 5.44s\tremaining: 1.43s\n",
      "792:\tlearn: 0.2172603\ttotal: 5.45s\tremaining: 1.42s\n",
      "793:\tlearn: 0.2172262\ttotal: 5.45s\tremaining: 1.41s\n",
      "794:\tlearn: 0.2171668\ttotal: 5.46s\tremaining: 1.41s\n",
      "795:\tlearn: 0.2171206\ttotal: 5.46s\tremaining: 1.4s\n",
      "796:\tlearn: 0.2170870\ttotal: 5.47s\tremaining: 1.39s\n",
      "797:\tlearn: 0.2170231\ttotal: 5.47s\tremaining: 1.39s\n",
      "798:\tlearn: 0.2169876\ttotal: 5.48s\tremaining: 1.38s\n",
      "799:\tlearn: 0.2169162\ttotal: 5.49s\tremaining: 1.37s\n",
      "800:\tlearn: 0.2167911\ttotal: 5.49s\tremaining: 1.36s\n",
      "801:\tlearn: 0.2167478\ttotal: 5.5s\tremaining: 1.36s\n",
      "802:\tlearn: 0.2167103\ttotal: 5.5s\tremaining: 1.35s\n",
      "803:\tlearn: 0.2166741\ttotal: 5.51s\tremaining: 1.34s\n",
      "804:\tlearn: 0.2166044\ttotal: 5.52s\tremaining: 1.34s\n",
      "805:\tlearn: 0.2165549\ttotal: 5.52s\tremaining: 1.33s\n",
      "806:\tlearn: 0.2165060\ttotal: 5.53s\tremaining: 1.32s\n",
      "807:\tlearn: 0.2164644\ttotal: 5.53s\tremaining: 1.31s\n",
      "808:\tlearn: 0.2164079\ttotal: 5.54s\tremaining: 1.31s\n",
      "809:\tlearn: 0.2163753\ttotal: 5.54s\tremaining: 1.3s\n",
      "810:\tlearn: 0.2163140\ttotal: 5.55s\tremaining: 1.29s\n",
      "811:\tlearn: 0.2162462\ttotal: 5.55s\tremaining: 1.28s\n",
      "812:\tlearn: 0.2162218\ttotal: 5.56s\tremaining: 1.28s\n",
      "813:\tlearn: 0.2161536\ttotal: 5.56s\tremaining: 1.27s\n",
      "814:\tlearn: 0.2161007\ttotal: 5.57s\tremaining: 1.26s\n",
      "815:\tlearn: 0.2160351\ttotal: 5.58s\tremaining: 1.26s\n",
      "816:\tlearn: 0.2159878\ttotal: 5.58s\tremaining: 1.25s\n",
      "817:\tlearn: 0.2158856\ttotal: 5.59s\tremaining: 1.24s\n",
      "818:\tlearn: 0.2158214\ttotal: 5.59s\tremaining: 1.24s\n",
      "819:\tlearn: 0.2158012\ttotal: 5.6s\tremaining: 1.23s\n",
      "820:\tlearn: 0.2157589\ttotal: 5.6s\tremaining: 1.22s\n",
      "821:\tlearn: 0.2157113\ttotal: 5.61s\tremaining: 1.21s\n",
      "822:\tlearn: 0.2156840\ttotal: 5.61s\tremaining: 1.21s\n",
      "823:\tlearn: 0.2156684\ttotal: 5.62s\tremaining: 1.2s\n",
      "824:\tlearn: 0.2156315\ttotal: 5.62s\tremaining: 1.19s\n",
      "825:\tlearn: 0.2155470\ttotal: 5.63s\tremaining: 1.19s\n",
      "826:\tlearn: 0.2154964\ttotal: 5.63s\tremaining: 1.18s\n",
      "827:\tlearn: 0.2154462\ttotal: 5.64s\tremaining: 1.17s\n",
      "828:\tlearn: 0.2154301\ttotal: 5.64s\tremaining: 1.16s\n",
      "829:\tlearn: 0.2153981\ttotal: 5.65s\tremaining: 1.16s\n",
      "830:\tlearn: 0.2153563\ttotal: 5.65s\tremaining: 1.15s\n",
      "831:\tlearn: 0.2152811\ttotal: 5.66s\tremaining: 1.14s\n",
      "832:\tlearn: 0.2152284\ttotal: 5.67s\tremaining: 1.14s\n",
      "833:\tlearn: 0.2151567\ttotal: 5.67s\tremaining: 1.13s\n",
      "834:\tlearn: 0.2151100\ttotal: 5.68s\tremaining: 1.12s\n",
      "835:\tlearn: 0.2150611\ttotal: 5.68s\tremaining: 1.11s\n",
      "836:\tlearn: 0.2150253\ttotal: 5.69s\tremaining: 1.11s\n"
     ]
    },
    {
     "name": "stdout",
     "output_type": "stream",
     "text": [
      "837:\tlearn: 0.2149702\ttotal: 5.7s\tremaining: 1.1s\n",
      "838:\tlearn: 0.2149506\ttotal: 5.71s\tremaining: 1.09s\n",
      "839:\tlearn: 0.2149065\ttotal: 5.71s\tremaining: 1.09s\n",
      "840:\tlearn: 0.2148685\ttotal: 5.72s\tremaining: 1.08s\n",
      "841:\tlearn: 0.2148523\ttotal: 5.73s\tremaining: 1.07s\n",
      "842:\tlearn: 0.2147708\ttotal: 5.73s\tremaining: 1.07s\n",
      "843:\tlearn: 0.2146981\ttotal: 5.74s\tremaining: 1.06s\n",
      "844:\tlearn: 0.2146308\ttotal: 5.75s\tremaining: 1.05s\n",
      "845:\tlearn: 0.2145901\ttotal: 5.75s\tremaining: 1.05s\n",
      "846:\tlearn: 0.2145425\ttotal: 5.76s\tremaining: 1.04s\n",
      "847:\tlearn: 0.2145126\ttotal: 5.76s\tremaining: 1.03s\n",
      "848:\tlearn: 0.2144619\ttotal: 5.77s\tremaining: 1.02s\n",
      "849:\tlearn: 0.2144018\ttotal: 5.77s\tremaining: 1.02s\n",
      "850:\tlearn: 0.2143496\ttotal: 5.78s\tremaining: 1.01s\n",
      "851:\tlearn: 0.2142574\ttotal: 5.78s\tremaining: 1s\n",
      "852:\tlearn: 0.2142077\ttotal: 5.79s\tremaining: 998ms\n",
      "853:\tlearn: 0.2141770\ttotal: 5.79s\tremaining: 991ms\n",
      "854:\tlearn: 0.2141376\ttotal: 5.8s\tremaining: 983ms\n",
      "855:\tlearn: 0.2141050\ttotal: 5.8s\tremaining: 976ms\n",
      "856:\tlearn: 0.2140319\ttotal: 5.81s\tremaining: 969ms\n",
      "857:\tlearn: 0.2140156\ttotal: 5.82s\tremaining: 962ms\n",
      "858:\tlearn: 0.2139782\ttotal: 5.82s\tremaining: 956ms\n",
      "859:\tlearn: 0.2139224\ttotal: 5.83s\tremaining: 949ms\n",
      "860:\tlearn: 0.2138759\ttotal: 5.83s\tremaining: 942ms\n",
      "861:\tlearn: 0.2138017\ttotal: 5.84s\tremaining: 934ms\n",
      "862:\tlearn: 0.2137503\ttotal: 5.84s\tremaining: 928ms\n",
      "863:\tlearn: 0.2137135\ttotal: 5.85s\tremaining: 921ms\n",
      "864:\tlearn: 0.2136994\ttotal: 5.85s\tremaining: 914ms\n",
      "865:\tlearn: 0.2136484\ttotal: 5.86s\tremaining: 907ms\n",
      "866:\tlearn: 0.2136223\ttotal: 5.87s\tremaining: 900ms\n",
      "867:\tlearn: 0.2136040\ttotal: 5.87s\tremaining: 893ms\n",
      "868:\tlearn: 0.2135773\ttotal: 5.88s\tremaining: 887ms\n",
      "869:\tlearn: 0.2135336\ttotal: 5.89s\tremaining: 880ms\n",
      "870:\tlearn: 0.2135115\ttotal: 5.89s\tremaining: 873ms\n",
      "871:\tlearn: 0.2134724\ttotal: 5.9s\tremaining: 866ms\n",
      "872:\tlearn: 0.2134304\ttotal: 5.9s\tremaining: 859ms\n",
      "873:\tlearn: 0.2133593\ttotal: 5.91s\tremaining: 852ms\n",
      "874:\tlearn: 0.2133474\ttotal: 5.91s\tremaining: 845ms\n",
      "875:\tlearn: 0.2132678\ttotal: 5.92s\tremaining: 838ms\n",
      "876:\tlearn: 0.2132007\ttotal: 5.92s\tremaining: 831ms\n",
      "877:\tlearn: 0.2131412\ttotal: 5.93s\tremaining: 824ms\n",
      "878:\tlearn: 0.2130866\ttotal: 5.94s\tremaining: 817ms\n",
      "879:\tlearn: 0.2130453\ttotal: 5.94s\tremaining: 810ms\n",
      "880:\tlearn: 0.2130264\ttotal: 5.95s\tremaining: 803ms\n",
      "881:\tlearn: 0.2129754\ttotal: 5.95s\tremaining: 796ms\n",
      "882:\tlearn: 0.2129501\ttotal: 5.96s\tremaining: 789ms\n",
      "883:\tlearn: 0.2129137\ttotal: 5.96s\tremaining: 782ms\n",
      "884:\tlearn: 0.2128681\ttotal: 5.97s\tremaining: 775ms\n",
      "885:\tlearn: 0.2128131\ttotal: 5.97s\tremaining: 769ms\n",
      "886:\tlearn: 0.2127765\ttotal: 5.98s\tremaining: 762ms\n",
      "887:\tlearn: 0.2127268\ttotal: 5.98s\tremaining: 755ms\n",
      "888:\tlearn: 0.2126309\ttotal: 5.99s\tremaining: 748ms\n",
      "889:\tlearn: 0.2126135\ttotal: 5.99s\tremaining: 741ms\n",
      "890:\tlearn: 0.2125752\ttotal: 6s\tremaining: 734ms\n",
      "891:\tlearn: 0.2125581\ttotal: 6s\tremaining: 727ms\n",
      "892:\tlearn: 0.2125418\ttotal: 6.01s\tremaining: 720ms\n",
      "893:\tlearn: 0.2124877\ttotal: 6.01s\tremaining: 713ms\n",
      "894:\tlearn: 0.2124186\ttotal: 6.02s\tremaining: 706ms\n",
      "895:\tlearn: 0.2123752\ttotal: 6.02s\tremaining: 699ms\n",
      "896:\tlearn: 0.2123334\ttotal: 6.03s\tremaining: 692ms\n",
      "897:\tlearn: 0.2122983\ttotal: 6.04s\tremaining: 686ms\n",
      "898:\tlearn: 0.2122860\ttotal: 6.04s\tremaining: 679ms\n",
      "899:\tlearn: 0.2122244\ttotal: 6.05s\tremaining: 672ms\n",
      "900:\tlearn: 0.2122083\ttotal: 6.05s\tremaining: 665ms\n",
      "901:\tlearn: 0.2121921\ttotal: 6.06s\tremaining: 658ms\n",
      "902:\tlearn: 0.2121486\ttotal: 6.06s\tremaining: 651ms\n",
      "903:\tlearn: 0.2120986\ttotal: 6.07s\tremaining: 644ms\n",
      "904:\tlearn: 0.2120800\ttotal: 6.07s\tremaining: 637ms\n",
      "905:\tlearn: 0.2120605\ttotal: 6.08s\tremaining: 631ms\n",
      "906:\tlearn: 0.2120252\ttotal: 6.08s\tremaining: 624ms\n",
      "907:\tlearn: 0.2119757\ttotal: 6.09s\tremaining: 617ms\n",
      "908:\tlearn: 0.2119334\ttotal: 6.09s\tremaining: 610ms\n",
      "909:\tlearn: 0.2119028\ttotal: 6.1s\tremaining: 603ms\n",
      "910:\tlearn: 0.2118655\ttotal: 6.1s\tremaining: 596ms\n",
      "911:\tlearn: 0.2118164\ttotal: 6.11s\tremaining: 590ms\n",
      "912:\tlearn: 0.2117807\ttotal: 6.12s\tremaining: 583ms\n",
      "913:\tlearn: 0.2117205\ttotal: 6.12s\tremaining: 576ms\n",
      "914:\tlearn: 0.2116686\ttotal: 6.13s\tremaining: 569ms\n",
      "915:\tlearn: 0.2116199\ttotal: 6.13s\tremaining: 562ms\n",
      "916:\tlearn: 0.2115801\ttotal: 6.14s\tremaining: 556ms\n",
      "917:\tlearn: 0.2115588\ttotal: 6.14s\tremaining: 549ms\n",
      "918:\tlearn: 0.2115223\ttotal: 6.15s\tremaining: 542ms\n",
      "919:\tlearn: 0.2114870\ttotal: 6.15s\tremaining: 535ms\n",
      "920:\tlearn: 0.2114472\ttotal: 6.16s\tremaining: 528ms\n",
      "921:\tlearn: 0.2114408\ttotal: 6.17s\tremaining: 522ms\n",
      "922:\tlearn: 0.2113795\ttotal: 6.17s\tremaining: 515ms\n",
      "923:\tlearn: 0.2113396\ttotal: 6.18s\tremaining: 508ms\n",
      "924:\tlearn: 0.2112930\ttotal: 6.18s\tremaining: 502ms\n",
      "925:\tlearn: 0.2112422\ttotal: 6.19s\tremaining: 495ms\n",
      "926:\tlearn: 0.2111827\ttotal: 6.2s\tremaining: 488ms\n",
      "927:\tlearn: 0.2111539\ttotal: 6.21s\tremaining: 482ms\n",
      "928:\tlearn: 0.2111088\ttotal: 6.21s\tremaining: 475ms\n",
      "929:\tlearn: 0.2110936\ttotal: 6.22s\tremaining: 468ms\n",
      "930:\tlearn: 0.2110695\ttotal: 6.22s\tremaining: 461ms\n",
      "931:\tlearn: 0.2110325\ttotal: 6.23s\tremaining: 455ms\n",
      "932:\tlearn: 0.2109828\ttotal: 6.24s\tremaining: 448ms\n",
      "933:\tlearn: 0.2109407\ttotal: 6.24s\tremaining: 441ms\n",
      "934:\tlearn: 0.2108914\ttotal: 6.25s\tremaining: 434ms\n",
      "935:\tlearn: 0.2108560\ttotal: 6.25s\tremaining: 428ms\n",
      "936:\tlearn: 0.2108043\ttotal: 6.26s\tremaining: 421ms\n",
      "937:\tlearn: 0.2107516\ttotal: 6.27s\tremaining: 414ms\n",
      "938:\tlearn: 0.2106945\ttotal: 6.27s\tremaining: 408ms\n",
      "939:\tlearn: 0.2106040\ttotal: 6.28s\tremaining: 401ms\n",
      "940:\tlearn: 0.2105776\ttotal: 6.29s\tremaining: 394ms\n",
      "941:\tlearn: 0.2105598\ttotal: 6.29s\tremaining: 387ms\n",
      "942:\tlearn: 0.2105053\ttotal: 6.3s\tremaining: 381ms\n",
      "943:\tlearn: 0.2104691\ttotal: 6.3s\tremaining: 374ms\n",
      "944:\tlearn: 0.2104205\ttotal: 6.31s\tremaining: 367ms\n",
      "945:\tlearn: 0.2103746\ttotal: 6.31s\tremaining: 360ms\n",
      "946:\tlearn: 0.2103216\ttotal: 6.32s\tremaining: 354ms\n",
      "947:\tlearn: 0.2102865\ttotal: 6.33s\tremaining: 347ms\n",
      "948:\tlearn: 0.2102561\ttotal: 6.34s\tremaining: 341ms\n",
      "949:\tlearn: 0.2101989\ttotal: 6.35s\tremaining: 334ms\n",
      "950:\tlearn: 0.2101454\ttotal: 6.35s\tremaining: 327ms\n",
      "951:\tlearn: 0.2101055\ttotal: 6.36s\tremaining: 321ms\n",
      "952:\tlearn: 0.2100855\ttotal: 6.37s\tremaining: 314ms\n",
      "953:\tlearn: 0.2100283\ttotal: 6.38s\tremaining: 308ms\n",
      "954:\tlearn: 0.2099607\ttotal: 6.39s\tremaining: 301ms\n",
      "955:\tlearn: 0.2099115\ttotal: 6.4s\tremaining: 294ms\n",
      "956:\tlearn: 0.2098530\ttotal: 6.41s\tremaining: 288ms\n",
      "957:\tlearn: 0.2098067\ttotal: 6.41s\tremaining: 281ms\n",
      "958:\tlearn: 0.2097894\ttotal: 6.42s\tremaining: 275ms\n",
      "959:\tlearn: 0.2097342\ttotal: 6.43s\tremaining: 268ms\n",
      "960:\tlearn: 0.2097084\ttotal: 6.43s\tremaining: 261ms\n",
      "961:\tlearn: 0.2096357\ttotal: 6.44s\tremaining: 255ms\n",
      "962:\tlearn: 0.2096090\ttotal: 6.45s\tremaining: 248ms\n",
      "963:\tlearn: 0.2095427\ttotal: 6.46s\tremaining: 241ms\n",
      "964:\tlearn: 0.2094661\ttotal: 6.47s\tremaining: 235ms\n",
      "965:\tlearn: 0.2094298\ttotal: 6.48s\tremaining: 228ms\n",
      "966:\tlearn: 0.2094255\ttotal: 6.48s\tremaining: 221ms\n",
      "967:\tlearn: 0.2094092\ttotal: 6.49s\tremaining: 214ms\n",
      "968:\tlearn: 0.2093883\ttotal: 6.49s\tremaining: 208ms\n",
      "969:\tlearn: 0.2093506\ttotal: 6.5s\tremaining: 201ms\n",
      "970:\tlearn: 0.2092900\ttotal: 6.5s\tremaining: 194ms\n",
      "971:\tlearn: 0.2092409\ttotal: 6.51s\tremaining: 188ms\n",
      "972:\tlearn: 0.2091701\ttotal: 6.51s\tremaining: 181ms\n",
      "973:\tlearn: 0.2091175\ttotal: 6.52s\tremaining: 174ms\n",
      "974:\tlearn: 0.2090792\ttotal: 6.53s\tremaining: 167ms\n",
      "975:\tlearn: 0.2090504\ttotal: 6.53s\tremaining: 161ms\n",
      "976:\tlearn: 0.2090103\ttotal: 6.54s\tremaining: 154ms\n",
      "977:\tlearn: 0.2089615\ttotal: 6.54s\tremaining: 147ms\n",
      "978:\tlearn: 0.2089404\ttotal: 6.55s\tremaining: 140ms\n",
      "979:\tlearn: 0.2088534\ttotal: 6.55s\tremaining: 134ms\n",
      "980:\tlearn: 0.2088215\ttotal: 6.56s\tremaining: 127ms\n",
      "981:\tlearn: 0.2087594\ttotal: 6.56s\tremaining: 120ms\n",
      "982:\tlearn: 0.2087263\ttotal: 6.57s\tremaining: 114ms\n",
      "983:\tlearn: 0.2087015\ttotal: 6.57s\tremaining: 107ms\n",
      "984:\tlearn: 0.2086841\ttotal: 6.58s\tremaining: 100ms\n",
      "985:\tlearn: 0.2086573\ttotal: 6.58s\tremaining: 93.5ms\n",
      "986:\tlearn: 0.2085528\ttotal: 6.59s\tremaining: 86.8ms\n",
      "987:\tlearn: 0.2085208\ttotal: 6.59s\tremaining: 80.1ms\n",
      "988:\tlearn: 0.2085099\ttotal: 6.6s\tremaining: 73.4ms\n",
      "989:\tlearn: 0.2084617\ttotal: 6.61s\tremaining: 66.7ms\n",
      "990:\tlearn: 0.2084415\ttotal: 6.61s\tremaining: 60ms\n",
      "991:\tlearn: 0.2083766\ttotal: 6.62s\tremaining: 53.4ms\n",
      "992:\tlearn: 0.2083396\ttotal: 6.62s\tremaining: 46.7ms\n",
      "993:\tlearn: 0.2082926\ttotal: 6.63s\tremaining: 40ms\n",
      "994:\tlearn: 0.2082756\ttotal: 6.64s\tremaining: 33.4ms\n",
      "995:\tlearn: 0.2082095\ttotal: 6.65s\tremaining: 26.7ms\n"
     ]
    },
    {
     "name": "stdout",
     "output_type": "stream",
     "text": [
      "996:\tlearn: 0.2081361\ttotal: 6.66s\tremaining: 20ms\n",
      "997:\tlearn: 0.2080947\ttotal: 6.67s\tremaining: 13.4ms\n",
      "998:\tlearn: 0.2080412\ttotal: 6.69s\tremaining: 6.7ms\n",
      "999:\tlearn: 0.2079997\ttotal: 6.77s\tremaining: 0us\n"
     ]
    }
   ],
   "source": [
    "%%capture\n",
    "model = CatBoostRegressor()\n",
    "model.fit(x_train_18, y_train_18)\n",
    "y_pred_18 = model.predict(x_test_18)"
   ]
  },
  {
   "cell_type": "code",
   "execution_count": 207,
   "id": "ac5955c8",
   "metadata": {},
   "outputs": [
    {
     "name": "stdout",
     "output_type": "stream",
     "text": [
      "MSE for CatBoost 2018 is: 0.16843861725600373\n"
     ]
    }
   ],
   "source": [
    "# Calculation of Mean Squared Error (MSE)\n",
    "mse = mean_squared_error(y_test_18, y_pred_18)\n",
    "print('MSE for CatBoost 2018 is: ' + str(mse))"
   ]
  },
  {
   "cell_type": "code",
   "execution_count": 208,
   "id": "4b0d621c",
   "metadata": {},
   "outputs": [
    {
     "name": "stdout",
     "output_type": "stream",
     "text": [
      "Accuracy of properties at +- 10% of actual prices is 0.3997056349873844\n"
     ]
    }
   ],
   "source": [
    "acc = accuracy_threshold(y_test_18, y_pred_18, 0.1)\n",
    "print('Accuracy of properties at +- 10% of actual prices is ' + str(acc))"
   ]
  },
  {
   "cell_type": "code",
   "execution_count": 209,
   "id": "57e165de",
   "metadata": {},
   "outputs": [
    {
     "name": "stdout",
     "output_type": "stream",
     "text": [
      "Median Absolute Error:\n",
      "\n",
      "0.13113012539533997\n"
     ]
    }
   ],
   "source": [
    "median_se = np.square(np.subtract(y_test_18, y_pred_18)).median() \n",
    " \n",
    "med = math.sqrt(median_se)\n",
    "print(\"Median Absolute Error:\\n\")\n",
    "print(med)"
   ]
  },
  {
   "cell_type": "code",
   "execution_count": 210,
   "id": "4a6d15a7",
   "metadata": {},
   "outputs": [
    {
     "name": "stdout",
     "output_type": "stream",
     "text": [
      "RMSE for CatBoost 2018 is: 0.41041274012389495\n"
     ]
    }
   ],
   "source": [
    "rmse = mean_squared_error(y_test_18, y_pred_18, squared = False)\n",
    "print('RMSE for CatBoost 2018 is: ' + str(rmse))"
   ]
  },
  {
   "cell_type": "code",
   "execution_count": 211,
   "id": "077985a3",
   "metadata": {},
   "outputs": [
    {
     "name": "stdout",
     "output_type": "stream",
     "text": [
      "MAPE for CatBoost 2018 is: 0.01776406748950199\n"
     ]
    }
   ],
   "source": [
    "mape = mean_absolute_percentage_error(y_test_18, y_pred_18)\n",
    "print(\"MAPE for CatBoost 2018 is: \" + str(mape))"
   ]
  },
  {
   "cell_type": "code",
   "execution_count": 212,
   "id": "efdfd2f1",
   "metadata": {},
   "outputs": [],
   "source": [
    "cnames = ['Algorithm', 'Year', 'RMSE', 'MSE', 'MEDAE', 'Accuracy', 'MAPE']\n",
    "df22 = pd.DataFrame(columns = cnames)\n",
    "\n",
    "df22 = df22.append({'Algorithm': 'CatBoost',\n",
    "           'Year': 2018,\n",
    "           'RMSE': rmse,\n",
    "           'MSE': mse,\n",
    "           'MEDAE': med,\n",
    "           'Accuracy': acc,\n",
    "           'MAPE': mape         \n",
    "          }, ignore_index = True)"
   ]
  },
  {
   "cell_type": "markdown",
   "id": "32ba1ce8",
   "metadata": {},
   "source": [
    "### BayesianRidge"
   ]
  },
  {
   "cell_type": "code",
   "execution_count": 213,
   "id": "be7faf55",
   "metadata": {},
   "outputs": [
    {
     "name": "stdout",
     "output_type": "stream",
     "text": [
      "MSE for BayesianRidge 2018 is: 0.1870890154820026\n"
     ]
    }
   ],
   "source": [
    "clf = BayesianRidge()\n",
    "clf.fit(x_train_18, y_train_18)\n",
    "y_pred_18 = clf.predict(x_test_18)\n",
    "# Calculation of Mean Squared Error (MSE)\n",
    "mse = mean_squared_error(y_test_18, y_pred_18)\n",
    "print('MSE for BayesianRidge 2018 is: ' + str(mse))"
   ]
  },
  {
   "cell_type": "code",
   "execution_count": 214,
   "id": "dcac2a1a",
   "metadata": {},
   "outputs": [
    {
     "name": "stdout",
     "output_type": "stream",
     "text": [
      "Accuracy of properties at +- 10% of actual prices is 0.34503784693019346\n"
     ]
    }
   ],
   "source": [
    "acc = accuracy_threshold(y_test_18, y_pred_18, 0.1)\n",
    "print('Accuracy of properties at +- 10% of actual prices is ' + str(acc))"
   ]
  },
  {
   "cell_type": "code",
   "execution_count": 215,
   "id": "c36fbb4d",
   "metadata": {},
   "outputs": [
    {
     "name": "stdout",
     "output_type": "stream",
     "text": [
      "MAPE for BayesianRidge 2018 is: 0.02016204002433173\n"
     ]
    }
   ],
   "source": [
    "mape = mean_absolute_percentage_error(y_test_18, y_pred_18)\n",
    "print(\"MAPE for BayesianRidge 2018 is: \" + str(mape))"
   ]
  },
  {
   "cell_type": "code",
   "execution_count": 216,
   "id": "8f51cb14",
   "metadata": {},
   "outputs": [
    {
     "name": "stdout",
     "output_type": "stream",
     "text": [
      "Median Absolute Error:\n",
      "\n",
      "0.15621218952160784\n"
     ]
    }
   ],
   "source": [
    "median_se = np.square(np.subtract(y_test_18, y_pred_18)).median() \n",
    " \n",
    "med = math.sqrt(median_se)\n",
    "print(\"Median Absolute Error:\\n\")\n",
    "print(med)"
   ]
  },
  {
   "cell_type": "code",
   "execution_count": 217,
   "id": "dd7ded2a",
   "metadata": {},
   "outputs": [
    {
     "name": "stdout",
     "output_type": "stream",
     "text": [
      "RMSE for MLR 2018 is: 0.4325378775113257\n"
     ]
    }
   ],
   "source": [
    "rmse = mean_squared_error(y_test_18, y_pred_18, squared = False)\n",
    "print('RMSE for MLR 2018 is: ' + str(rmse))"
   ]
  },
  {
   "cell_type": "code",
   "execution_count": 218,
   "id": "739c52c5",
   "metadata": {},
   "outputs": [],
   "source": [
    "cnames = ['Algorithm', 'Year', 'RMSE', 'MSE', 'MEDAE', 'Accuracy', 'MAPE']\n",
    "df23 = pd.DataFrame(columns = cnames)\n",
    "\n",
    "df23 = df23.append({'Algorithm': 'Bayesian',\n",
    "           'Year': 2018,\n",
    "           'RMSE': rmse,\n",
    "           'MSE': mse,\n",
    "           'MEDAE': med,\n",
    "           'Accuracy': acc,\n",
    "           'MAPE': mape         \n",
    "          }, ignore_index = True)"
   ]
  },
  {
   "cell_type": "markdown",
   "id": "3603e079",
   "metadata": {},
   "source": [
    "## 2017"
   ]
  },
  {
   "cell_type": "code",
   "execution_count": 219,
   "id": "e0c02467",
   "metadata": {},
   "outputs": [],
   "source": [
    "specific17 = irl[irl['Year'] > 2013]\n",
    "test_17 = specific17[specific17['Year'] == 2017]\n",
    "train_17 = specific17[specific17['Year'] < 2017]\n",
    "\n",
    "x_train_17 = train_17.loc[:, train_17.columns != 'PriceLog']\n",
    "y_train_17 = train_17['PriceLog']\n",
    "x_test_17 = test_17.loc[:, test_17.columns != 'PriceLog']\n",
    "y_test_17 = test_17['PriceLog']"
   ]
  },
  {
   "cell_type": "code",
   "execution_count": 220,
   "id": "519a5218",
   "metadata": {},
   "outputs": [
    {
     "name": "stdout",
     "output_type": "stream",
     "text": [
      "Linear algorithm was disabled.\n",
      "AutoML directory: AutoML_5\n",
      "The task is regression with evaluation metric rmse\n",
      "AutoML will use algorithms: ['Baseline', 'Decision Tree', 'Random Forest', 'Xgboost', 'Neural Network']\n",
      "AutoML will ensemble available models\n",
      "AutoML steps: ['simple_algorithms', 'default_algorithms', 'ensemble']\n",
      "* Step simple_algorithms will try to check up to 2 models\n",
      "1_Baseline rmse 0.555668 trained in 1.18 seconds\n",
      "2_DecisionTree rmse 0.370509 trained in 8.39 seconds\n",
      "* Step default_algorithms will try to check up to 3 models\n",
      "3_Default_Xgboost rmse 0.304996 trained in 17.94 seconds\n",
      "4_Default_NeuralNetwork rmse 0.31802 trained in 2.27 seconds\n",
      "5_Default_RandomForest rmse 0.343749 trained in 11.04 seconds\n",
      "* Step ensemble will try to check up to 1 model\n",
      "Ensemble rmse 0.300793 trained in 0.3 seconds\n",
      "AutoML fit time: 62.0 seconds\n",
      "AutoML best model: Ensemble\n"
     ]
    },
    {
     "data": {
      "text/plain": [
       "AutoML(explain_level=2, total_time_limit=300)"
      ]
     },
     "execution_count": 220,
     "metadata": {},
     "output_type": "execute_result"
    }
   ],
   "source": [
    "automl = AutoML(total_time_limit = 5 * 60, explain_level = 2)\n",
    "automl.fit(x_train_17, y_train_17)"
   ]
  },
  {
   "cell_type": "code",
   "execution_count": 221,
   "id": "ae607b39",
   "metadata": {},
   "outputs": [
    {
     "name": "stdout",
     "output_type": "stream",
     "text": [
      "MSE for AutoML 2017 is: 0.10145689781562045\n"
     ]
    }
   ],
   "source": [
    "y_pred_17 = automl.predict(x_test_17)\n",
    "# Calculation of Mean Squared Error (MSE)\n",
    "mse = mean_squared_error(y_test_17, y_pred_17)\n",
    "print('MSE for AutoML 2017 is: ' + str(mse))"
   ]
  },
  {
   "cell_type": "code",
   "execution_count": 222,
   "id": "89808aa5",
   "metadata": {},
   "outputs": [
    {
     "name": "stdout",
     "output_type": "stream",
     "text": [
      "RMSE for AutoML 2017 is: 0.31852299417093966\n"
     ]
    }
   ],
   "source": [
    "rmse = mean_squared_error(y_test_17, y_pred_17, squared = False)\n",
    "print('RMSE for AutoML 2017 is: ' + str(rmse))"
   ]
  },
  {
   "cell_type": "code",
   "execution_count": 223,
   "id": "1c9b63ba",
   "metadata": {},
   "outputs": [
    {
     "name": "stdout",
     "output_type": "stream",
     "text": [
      "Accuracy of properties at +- 10% of actual prices is 0.3800858720098139\n"
     ]
    }
   ],
   "source": [
    "acc = accuracy_threshold(y_test_17, y_pred_17, 0.1)\n",
    "print('Accuracy of properties at +- 10% of actual prices is ' + str(acc))"
   ]
  },
  {
   "cell_type": "code",
   "execution_count": 224,
   "id": "b244d0d9",
   "metadata": {},
   "outputs": [
    {
     "name": "stdout",
     "output_type": "stream",
     "text": [
      "Median Absolute Error:\n",
      "\n",
      "0.13920369833472535\n"
     ]
    }
   ],
   "source": [
    "median_se = np.square(np.subtract(y_test_17, y_pred_17)).median() \n",
    " \n",
    "med = math.sqrt(median_se)\n",
    "print(\"Median Absolute Error:\\n\")\n",
    "print(med)"
   ]
  },
  {
   "cell_type": "code",
   "execution_count": 225,
   "id": "3656aeed",
   "metadata": {},
   "outputs": [
    {
     "name": "stdout",
     "output_type": "stream",
     "text": [
      "MAPE for AutoML 2017 is: 0.01653102865856656\n"
     ]
    }
   ],
   "source": [
    "mape = mean_absolute_percentage_error(y_test_17, y_pred_17)\n",
    "print(\"MAPE for AutoML 2017 is: \" + str(mape))"
   ]
  },
  {
   "cell_type": "code",
   "execution_count": 226,
   "id": "de32e7b8",
   "metadata": {},
   "outputs": [],
   "source": [
    "cnames = ['Algorithm', 'Year', 'RMSE', 'MSE', 'MEDAE', 'Accuracy', 'MAPE']\n",
    "df24 = pd.DataFrame(columns = cnames)\n",
    "\n",
    "df24 = df24.append({'Algorithm': 'AutoML',\n",
    "           'Year': 2017,\n",
    "           'RMSE': rmse,\n",
    "           'MSE': mse,\n",
    "           'MEDAE': med,\n",
    "           'Accuracy': acc,\n",
    "           'MAPE': mape         \n",
    "          }, ignore_index = True)"
   ]
  },
  {
   "cell_type": "code",
   "execution_count": 227,
   "id": "290ccd72",
   "metadata": {},
   "outputs": [],
   "source": [
    "#cnames = ['Actual', 'Predicted']\n",
    "#dfreal5 = pd.DataFrame(columns = cnames)\n",
    "dfreal5 = pd.DataFrame(y_test_17.values)\n",
    "dfpred5 = pd.DataFrame(y_pred_17)\n",
    "#dfreal5 = pd.concat([z1, z2], ignore_index=True)"
   ]
  },
  {
   "cell_type": "markdown",
   "id": "e44a748f",
   "metadata": {},
   "source": [
    "### MLR"
   ]
  },
  {
   "cell_type": "code",
   "execution_count": 228,
   "id": "900d1850",
   "metadata": {},
   "outputs": [
    {
     "name": "stdout",
     "output_type": "stream",
     "text": [
      "MSE for MLR 2017 is: 0.1089312871671761\n"
     ]
    }
   ],
   "source": [
    "lm = linear_model.LinearRegression()\n",
    "lm.fit(x_train_17, y_train_17) # fitting the model\n",
    "y_pred_17 = lm.predict(x_test_17)\n",
    "# Calculation of Mean Squared Error (MSE)\n",
    "mse = mean_squared_error(y_test_17, y_pred_17)\n",
    "print('MSE for MLR 2017 is: ' + str(mse))"
   ]
  },
  {
   "cell_type": "code",
   "execution_count": 229,
   "id": "38e7f871",
   "metadata": {},
   "outputs": [
    {
     "name": "stdout",
     "output_type": "stream",
     "text": [
      "RMSE for MLR 2017 is: 0.33004740139436956\n"
     ]
    }
   ],
   "source": [
    "rmse = mean_squared_error(y_test_17, y_pred_17, squared = False)\n",
    "print('RMSE for MLR 2017 is: ' + str(rmse))"
   ]
  },
  {
   "cell_type": "code",
   "execution_count": 230,
   "id": "bf7320be",
   "metadata": {},
   "outputs": [
    {
     "name": "stdout",
     "output_type": "stream",
     "text": [
      "Accuracy of properties at +- 10% of actual prices is 0.3496217542424862\n"
     ]
    }
   ],
   "source": [
    "acc = accuracy_threshold(y_test_17, y_pred_17, 0.1)\n",
    "print('Accuracy of properties at +- 10% of actual prices is ' + str(acc))"
   ]
  },
  {
   "cell_type": "code",
   "execution_count": 231,
   "id": "79216519",
   "metadata": {},
   "outputs": [
    {
     "name": "stdout",
     "output_type": "stream",
     "text": [
      "Median Absolute Error:\n",
      "\n",
      "0.15878880962078235\n"
     ]
    }
   ],
   "source": [
    "median_se = np.square(np.subtract(y_test_17, y_pred_17)).median() \n",
    " \n",
    "med = math.sqrt(median_se)\n",
    "print(\"Median Absolute Error:\\n\")\n",
    "print(med)"
   ]
  },
  {
   "cell_type": "code",
   "execution_count": 232,
   "id": "a81013e4",
   "metadata": {},
   "outputs": [
    {
     "name": "stdout",
     "output_type": "stream",
     "text": [
      "MAPE for MLR 2017 is: 0.018052911376704218\n"
     ]
    }
   ],
   "source": [
    "mape = mean_absolute_percentage_error(y_test_17, y_pred_17)\n",
    "print(\"MAPE for MLR 2017 is: \" + str(mape))"
   ]
  },
  {
   "cell_type": "code",
   "execution_count": 233,
   "id": "fe7d6ec2",
   "metadata": {},
   "outputs": [],
   "source": [
    "cnames = ['Algorithm', 'Year', 'RMSE', 'MSE', 'MEDAE', 'Accuracy', 'MAPE']\n",
    "df25 = pd.DataFrame(columns = cnames)\n",
    "\n",
    "df25 = df25.append({'Algorithm': 'MLR',\n",
    "           'Year': 2017,\n",
    "           'RMSE': rmse,\n",
    "           'MSE': mse,\n",
    "           'MEDAE': med,\n",
    "           'Accuracy': acc,\n",
    "           'MAPE': mape         \n",
    "          }, ignore_index = True)"
   ]
  },
  {
   "cell_type": "markdown",
   "id": "02520000",
   "metadata": {},
   "source": [
    "### AdaBoost"
   ]
  },
  {
   "cell_type": "code",
   "execution_count": 234,
   "id": "6bd671b0",
   "metadata": {},
   "outputs": [
    {
     "name": "stdout",
     "output_type": "stream",
     "text": [
      "MSE for AdaBoost 2017 is: 0.17959358134964376\n"
     ]
    }
   ],
   "source": [
    "model = AdaBoostRegressor()\n",
    "model.fit(x_train_17, y_train_17)\n",
    "y_pred_17 = model.predict(x_test_17)\n",
    "# Calculation of Mean Squared Error (MSE)\n",
    "mse = mean_squared_error(y_test_17, y_pred_17)\n",
    "print('MSE for AdaBoost 2017 is: ' + str(mse))"
   ]
  },
  {
   "cell_type": "code",
   "execution_count": 235,
   "id": "4fbed0ce",
   "metadata": {},
   "outputs": [
    {
     "name": "stdout",
     "output_type": "stream",
     "text": [
      "RMSE for Adaboost 2017 is: 0.42378482906971054\n"
     ]
    }
   ],
   "source": [
    "rmse = mean_squared_error(y_test_17, y_pred_17, squared = False)\n",
    "print('RMSE for Adaboost 2017 is: ' + str(rmse))"
   ]
  },
  {
   "cell_type": "code",
   "execution_count": 236,
   "id": "9f322152",
   "metadata": {},
   "outputs": [
    {
     "name": "stdout",
     "output_type": "stream",
     "text": [
      "Accuracy of properties at +- 10% of actual prices is 0.2533224289511347\n"
     ]
    }
   ],
   "source": [
    "acc = accuracy_threshold(y_test_17, y_pred_17, 0.1)\n",
    "print('Accuracy of properties at +- 10% of actual prices is ' + str(acc))"
   ]
  },
  {
   "cell_type": "code",
   "execution_count": 237,
   "id": "39b1630b",
   "metadata": {},
   "outputs": [
    {
     "name": "stdout",
     "output_type": "stream",
     "text": [
      "Median Absolute Error:\n",
      "\n",
      "0.21886028353249642\n"
     ]
    }
   ],
   "source": [
    "median_se = np.square(np.subtract(y_test_17, y_pred_17)).median() \n",
    " \n",
    "med = math.sqrt(median_se)\n",
    "print(\"Median Absolute Error:\\n\")\n",
    "print(med)"
   ]
  },
  {
   "cell_type": "code",
   "execution_count": 238,
   "id": "c5c7a745",
   "metadata": {},
   "outputs": [
    {
     "name": "stdout",
     "output_type": "stream",
     "text": [
      "MAPE for AdaBoost 2017 is: 0.024361621260794063\n"
     ]
    }
   ],
   "source": [
    "mape = mean_absolute_percentage_error(y_test_17, y_pred_17)\n",
    "print(\"MAPE for AdaBoost 2017 is: \" + str(mape))"
   ]
  },
  {
   "cell_type": "code",
   "execution_count": 239,
   "id": "07ef9181",
   "metadata": {},
   "outputs": [],
   "source": [
    "cnames = ['Algorithm', 'Year', 'RMSE', 'MSE', 'MEDAE', 'Accuracy', 'MAPE']\n",
    "df26 = pd.DataFrame(columns = cnames)\n",
    "\n",
    "df26 = df26.append({'Algorithm': 'AdaBoost',\n",
    "           'Year': 2017,\n",
    "           'RMSE': rmse,\n",
    "           'MSE': mse,\n",
    "           'MEDAE': med,\n",
    "           'Accuracy': acc,\n",
    "           'MAPE': mape         \n",
    "          }, ignore_index = True)"
   ]
  },
  {
   "cell_type": "markdown",
   "id": "a8bbf8de",
   "metadata": {},
   "source": [
    "### LightGBM"
   ]
  },
  {
   "cell_type": "code",
   "execution_count": 240,
   "id": "8bdf11c8",
   "metadata": {},
   "outputs": [
    {
     "name": "stdout",
     "output_type": "stream",
     "text": [
      "MSE for LightGBM 2017 is: 0.09966381302874604\n"
     ]
    }
   ],
   "source": [
    "model = LGBMRegressor()\n",
    "model.fit(x_train_17, y_train_17)\n",
    "y_pred_17 = model.predict(x_test_17)\n",
    "# Calculation of Mean Squared Error (MSE)\n",
    "mse = mean_squared_error(y_test_17, y_pred_17)\n",
    "print('MSE for LightGBM 2017 is: ' + str(mse))"
   ]
  },
  {
   "cell_type": "code",
   "execution_count": 241,
   "id": "70c2101b",
   "metadata": {},
   "outputs": [
    {
     "name": "stdout",
     "output_type": "stream",
     "text": [
      "RMSE for LightGBM 2017 is: 0.3156957602324523\n"
     ]
    }
   ],
   "source": [
    "rmse = mean_squared_error(y_test_17, y_pred_17, squared = False)\n",
    "print('RMSE for LightGBM 2017 is: ' + str(rmse))"
   ]
  },
  {
   "cell_type": "code",
   "execution_count": 242,
   "id": "09740eef",
   "metadata": {},
   "outputs": [
    {
     "name": "stdout",
     "output_type": "stream",
     "text": [
      "Accuracy of properties at +- 10% of actual prices is 0.3880597014925373\n"
     ]
    }
   ],
   "source": [
    "acc = accuracy_threshold(y_test_17, y_pred_17, 0.1)\n",
    "print('Accuracy of properties at +- 10% of actual prices is ' + str(acc))"
   ]
  },
  {
   "cell_type": "code",
   "execution_count": 243,
   "id": "09c947c3",
   "metadata": {},
   "outputs": [
    {
     "name": "stdout",
     "output_type": "stream",
     "text": [
      "Median Absolute Error:\n",
      "\n",
      "0.13657633626354837\n"
     ]
    }
   ],
   "source": [
    "median_se = np.square(np.subtract(y_test_17, y_pred_17)).median() \n",
    " \n",
    "med = math.sqrt(median_se)\n",
    "print(\"Median Absolute Error:\\n\")\n",
    "print(med)"
   ]
  },
  {
   "cell_type": "code",
   "execution_count": 244,
   "id": "5d44cfb8",
   "metadata": {},
   "outputs": [
    {
     "name": "stdout",
     "output_type": "stream",
     "text": [
      "MAPE for LightGBM 2017 is: 0.016450056599359733\n"
     ]
    }
   ],
   "source": [
    "mape = mean_absolute_percentage_error(y_test_17, y_pred_17)\n",
    "print(\"MAPE for LightGBM 2017 is: \" + str(mape))"
   ]
  },
  {
   "cell_type": "code",
   "execution_count": 245,
   "id": "00ea8e81",
   "metadata": {},
   "outputs": [],
   "source": [
    "cnames = ['Algorithm', 'Year', 'RMSE', 'MSE', 'MEDAE', 'Accuracy', 'MAPE']\n",
    "df27 = pd.DataFrame(columns = cnames)\n",
    "\n",
    "df27 = df27.append({'Algorithm': 'LightGBM',\n",
    "           'Year': 2017,\n",
    "           'RMSE': rmse,\n",
    "           'MSE': mse,\n",
    "           'MEDAE': med,\n",
    "           'Accuracy': acc,\n",
    "           'MAPE': mape         \n",
    "          }, ignore_index = True)"
   ]
  },
  {
   "cell_type": "markdown",
   "id": "5c37b554",
   "metadata": {},
   "source": [
    "### CatBoost"
   ]
  },
  {
   "cell_type": "code",
   "execution_count": 246,
   "id": "28007eed",
   "metadata": {},
   "outputs": [
    {
     "name": "stdout",
     "output_type": "stream",
     "text": [
      "Learning rate set to 0.061777\n",
      "0:\tlearn: 0.5375768\ttotal: 9.3ms\tremaining: 9.29s\n",
      "1:\tlearn: 0.5201691\ttotal: 18.6ms\tremaining: 9.27s\n",
      "2:\tlearn: 0.5039432\ttotal: 27.1ms\tremaining: 8.99s\n",
      "3:\tlearn: 0.4892872\ttotal: 37.2ms\tremaining: 9.26s\n",
      "4:\tlearn: 0.4762704\ttotal: 46ms\tremaining: 9.16s\n",
      "5:\tlearn: 0.4633906\ttotal: 52.9ms\tremaining: 8.76s\n",
      "6:\tlearn: 0.4522412\ttotal: 58.3ms\tremaining: 8.27s\n",
      "7:\tlearn: 0.4417161\ttotal: 64.4ms\tremaining: 7.99s\n",
      "8:\tlearn: 0.4322701\ttotal: 71.2ms\tremaining: 7.84s\n",
      "9:\tlearn: 0.4231337\ttotal: 78.1ms\tremaining: 7.73s\n",
      "10:\tlearn: 0.4150657\ttotal: 84.8ms\tremaining: 7.62s\n",
      "11:\tlearn: 0.4079079\ttotal: 91ms\tremaining: 7.49s\n",
      "12:\tlearn: 0.4010903\ttotal: 98.7ms\tremaining: 7.5s\n",
      "13:\tlearn: 0.3952226\ttotal: 111ms\tremaining: 7.8s\n",
      "14:\tlearn: 0.3889538\ttotal: 120ms\tremaining: 7.86s\n",
      "15:\tlearn: 0.3834474\ttotal: 129ms\tremaining: 7.92s\n",
      "16:\tlearn: 0.3785095\ttotal: 136ms\tremaining: 7.88s\n",
      "17:\tlearn: 0.3735104\ttotal: 145ms\tremaining: 7.88s\n",
      "18:\tlearn: 0.3694481\ttotal: 154ms\tremaining: 7.96s\n",
      "19:\tlearn: 0.3656063\ttotal: 163ms\tremaining: 8.01s\n",
      "20:\tlearn: 0.3620832\ttotal: 172ms\tremaining: 8s\n",
      "21:\tlearn: 0.3581389\ttotal: 181ms\tremaining: 8.03s\n",
      "22:\tlearn: 0.3547467\ttotal: 189ms\tremaining: 8.04s\n",
      "23:\tlearn: 0.3520125\ttotal: 197ms\tremaining: 8.03s\n",
      "24:\tlearn: 0.3496412\ttotal: 205ms\tremaining: 8.01s\n",
      "25:\tlearn: 0.3470514\ttotal: 215ms\tremaining: 8.04s\n",
      "26:\tlearn: 0.3447482\ttotal: 224ms\tremaining: 8.08s\n",
      "27:\tlearn: 0.3426747\ttotal: 232ms\tremaining: 8.06s\n",
      "28:\tlearn: 0.3404447\ttotal: 241ms\tremaining: 8.07s\n",
      "29:\tlearn: 0.3388054\ttotal: 249ms\tremaining: 8.05s\n",
      "30:\tlearn: 0.3363777\ttotal: 261ms\tremaining: 8.14s\n",
      "31:\tlearn: 0.3347329\ttotal: 270ms\tremaining: 8.16s\n",
      "32:\tlearn: 0.3325861\ttotal: 278ms\tremaining: 8.14s\n",
      "33:\tlearn: 0.3312178\ttotal: 286ms\tremaining: 8.14s\n",
      "34:\tlearn: 0.3295697\ttotal: 297ms\tremaining: 8.19s\n",
      "35:\tlearn: 0.3279787\ttotal: 308ms\tremaining: 8.25s\n",
      "36:\tlearn: 0.3264930\ttotal: 318ms\tremaining: 8.27s\n",
      "37:\tlearn: 0.3248404\ttotal: 325ms\tremaining: 8.24s\n",
      "38:\tlearn: 0.3238896\ttotal: 332ms\tremaining: 8.19s\n",
      "39:\tlearn: 0.3228923\ttotal: 338ms\tremaining: 8.12s\n",
      "40:\tlearn: 0.3216869\ttotal: 344ms\tremaining: 8.06s\n",
      "41:\tlearn: 0.3202393\ttotal: 352ms\tremaining: 8.03s\n",
      "42:\tlearn: 0.3191061\ttotal: 362ms\tremaining: 8.05s\n",
      "43:\tlearn: 0.3178526\ttotal: 375ms\tremaining: 8.16s\n",
      "44:\tlearn: 0.3164392\ttotal: 389ms\tremaining: 8.26s\n",
      "45:\tlearn: 0.3156494\ttotal: 401ms\tremaining: 8.32s\n",
      "46:\tlearn: 0.3147814\ttotal: 412ms\tremaining: 8.35s\n",
      "47:\tlearn: 0.3136831\ttotal: 419ms\tremaining: 8.32s\n",
      "48:\tlearn: 0.3129702\ttotal: 432ms\tremaining: 8.39s\n",
      "49:\tlearn: 0.3119990\ttotal: 451ms\tremaining: 8.58s\n",
      "50:\tlearn: 0.3110935\ttotal: 470ms\tremaining: 8.75s\n",
      "51:\tlearn: 0.3101042\ttotal: 483ms\tremaining: 8.81s\n",
      "52:\tlearn: 0.3094732\ttotal: 499ms\tremaining: 8.91s\n",
      "53:\tlearn: 0.3087171\ttotal: 508ms\tremaining: 8.9s\n",
      "54:\tlearn: 0.3082861\ttotal: 516ms\tremaining: 8.87s\n",
      "55:\tlearn: 0.3073807\ttotal: 524ms\tremaining: 8.83s\n",
      "56:\tlearn: 0.3068766\ttotal: 531ms\tremaining: 8.79s\n",
      "57:\tlearn: 0.3062920\ttotal: 540ms\tremaining: 8.77s\n",
      "58:\tlearn: 0.3056260\ttotal: 547ms\tremaining: 8.73s\n",
      "59:\tlearn: 0.3049713\ttotal: 555ms\tremaining: 8.69s\n",
      "60:\tlearn: 0.3046028\ttotal: 564ms\tremaining: 8.67s\n",
      "61:\tlearn: 0.3039197\ttotal: 577ms\tremaining: 8.73s\n",
      "62:\tlearn: 0.3032724\ttotal: 588ms\tremaining: 8.74s\n",
      "63:\tlearn: 0.3027653\ttotal: 597ms\tremaining: 8.73s\n",
      "64:\tlearn: 0.3018421\ttotal: 609ms\tremaining: 8.76s\n",
      "65:\tlearn: 0.3013539\ttotal: 622ms\tremaining: 8.8s\n",
      "66:\tlearn: 0.3010492\ttotal: 632ms\tremaining: 8.81s\n",
      "67:\tlearn: 0.3002659\ttotal: 646ms\tremaining: 8.85s\n",
      "68:\tlearn: 0.2998902\ttotal: 655ms\tremaining: 8.84s\n",
      "69:\tlearn: 0.2993636\ttotal: 664ms\tremaining: 8.82s\n",
      "70:\tlearn: 0.2988388\ttotal: 672ms\tremaining: 8.79s\n",
      "71:\tlearn: 0.2983550\ttotal: 683ms\tremaining: 8.8s\n",
      "72:\tlearn: 0.2977844\ttotal: 695ms\tremaining: 8.82s\n",
      "73:\tlearn: 0.2973361\ttotal: 703ms\tremaining: 8.79s\n",
      "74:\tlearn: 0.2970991\ttotal: 710ms\tremaining: 8.76s\n",
      "75:\tlearn: 0.2963730\ttotal: 720ms\tremaining: 8.75s\n",
      "76:\tlearn: 0.2961856\ttotal: 728ms\tremaining: 8.73s\n",
      "77:\tlearn: 0.2959418\ttotal: 736ms\tremaining: 8.7s\n",
      "78:\tlearn: 0.2956797\ttotal: 744ms\tremaining: 8.68s\n",
      "79:\tlearn: 0.2951532\ttotal: 752ms\tremaining: 8.65s\n",
      "80:\tlearn: 0.2946613\ttotal: 760ms\tremaining: 8.63s\n",
      "81:\tlearn: 0.2943183\ttotal: 768ms\tremaining: 8.6s\n",
      "82:\tlearn: 0.2939878\ttotal: 777ms\tremaining: 8.58s\n",
      "83:\tlearn: 0.2936218\ttotal: 784ms\tremaining: 8.55s\n",
      "84:\tlearn: 0.2933060\ttotal: 800ms\tremaining: 8.62s\n",
      "85:\tlearn: 0.2930848\ttotal: 812ms\tremaining: 8.63s\n",
      "86:\tlearn: 0.2928911\ttotal: 819ms\tremaining: 8.6s\n",
      "87:\tlearn: 0.2923913\ttotal: 827ms\tremaining: 8.57s\n",
      "88:\tlearn: 0.2922418\ttotal: 836ms\tremaining: 8.56s\n",
      "89:\tlearn: 0.2918273\ttotal: 847ms\tremaining: 8.56s\n",
      "90:\tlearn: 0.2913426\ttotal: 857ms\tremaining: 8.56s\n",
      "91:\tlearn: 0.2910426\ttotal: 866ms\tremaining: 8.54s\n",
      "92:\tlearn: 0.2907553\ttotal: 876ms\tremaining: 8.54s\n",
      "93:\tlearn: 0.2905560\ttotal: 888ms\tremaining: 8.56s\n",
      "94:\tlearn: 0.2899790\ttotal: 896ms\tremaining: 8.53s\n",
      "95:\tlearn: 0.2897363\ttotal: 906ms\tremaining: 8.53s\n",
      "96:\tlearn: 0.2895441\ttotal: 914ms\tremaining: 8.5s\n",
      "97:\tlearn: 0.2891627\ttotal: 928ms\tremaining: 8.54s\n",
      "98:\tlearn: 0.2890094\ttotal: 949ms\tremaining: 8.63s\n",
      "99:\tlearn: 0.2885427\ttotal: 962ms\tremaining: 8.65s\n",
      "100:\tlearn: 0.2875926\ttotal: 975ms\tremaining: 8.68s\n",
      "101:\tlearn: 0.2872699\ttotal: 995ms\tremaining: 8.76s\n",
      "102:\tlearn: 0.2869495\ttotal: 1.01s\tremaining: 8.81s\n",
      "103:\tlearn: 0.2867082\ttotal: 1.03s\tremaining: 8.84s\n",
      "104:\tlearn: 0.2862718\ttotal: 1.03s\tremaining: 8.82s\n",
      "105:\tlearn: 0.2861779\ttotal: 1.05s\tremaining: 8.84s\n",
      "106:\tlearn: 0.2859470\ttotal: 1.06s\tremaining: 8.82s\n",
      "107:\tlearn: 0.2855072\ttotal: 1.07s\tremaining: 8.8s\n",
      "108:\tlearn: 0.2850600\ttotal: 1.07s\tremaining: 8.78s\n",
      "109:\tlearn: 0.2848548\ttotal: 1.08s\tremaining: 8.74s\n",
      "110:\tlearn: 0.2846089\ttotal: 1.09s\tremaining: 8.71s\n",
      "111:\tlearn: 0.2841978\ttotal: 1.09s\tremaining: 8.68s\n",
      "112:\tlearn: 0.2838405\ttotal: 1.1s\tremaining: 8.65s\n",
      "113:\tlearn: 0.2837052\ttotal: 1.11s\tremaining: 8.62s\n",
      "114:\tlearn: 0.2832576\ttotal: 1.12s\tremaining: 8.62s\n",
      "115:\tlearn: 0.2829664\ttotal: 1.13s\tremaining: 8.59s\n",
      "116:\tlearn: 0.2826970\ttotal: 1.14s\tremaining: 8.59s\n",
      "117:\tlearn: 0.2825008\ttotal: 1.15s\tremaining: 8.56s\n",
      "118:\tlearn: 0.2820858\ttotal: 1.16s\tremaining: 8.56s\n",
      "119:\tlearn: 0.2816204\ttotal: 1.16s\tremaining: 8.54s\n",
      "120:\tlearn: 0.2813085\ttotal: 1.17s\tremaining: 8.51s\n",
      "121:\tlearn: 0.2811096\ttotal: 1.18s\tremaining: 8.49s\n",
      "122:\tlearn: 0.2808577\ttotal: 1.19s\tremaining: 8.47s\n",
      "123:\tlearn: 0.2802774\ttotal: 1.2s\tremaining: 8.48s\n",
      "124:\tlearn: 0.2799588\ttotal: 1.21s\tremaining: 8.47s\n",
      "125:\tlearn: 0.2797808\ttotal: 1.22s\tremaining: 8.46s\n",
      "126:\tlearn: 0.2795829\ttotal: 1.23s\tremaining: 8.43s\n",
      "127:\tlearn: 0.2792098\ttotal: 1.23s\tremaining: 8.41s\n",
      "128:\tlearn: 0.2791034\ttotal: 1.24s\tremaining: 8.37s\n",
      "129:\tlearn: 0.2789010\ttotal: 1.25s\tremaining: 8.34s\n",
      "130:\tlearn: 0.2785820\ttotal: 1.25s\tremaining: 8.3s\n",
      "131:\tlearn: 0.2783368\ttotal: 1.26s\tremaining: 8.27s\n",
      "132:\tlearn: 0.2780662\ttotal: 1.26s\tremaining: 8.24s\n",
      "133:\tlearn: 0.2777920\ttotal: 1.27s\tremaining: 8.22s\n",
      "134:\tlearn: 0.2776702\ttotal: 1.28s\tremaining: 8.21s\n",
      "135:\tlearn: 0.2773438\ttotal: 1.29s\tremaining: 8.2s\n",
      "136:\tlearn: 0.2771487\ttotal: 1.3s\tremaining: 8.18s\n",
      "137:\tlearn: 0.2768349\ttotal: 1.3s\tremaining: 8.15s\n",
      "138:\tlearn: 0.2765205\ttotal: 1.31s\tremaining: 8.13s\n",
      "139:\tlearn: 0.2763691\ttotal: 1.32s\tremaining: 8.09s\n",
      "140:\tlearn: 0.2762085\ttotal: 1.32s\tremaining: 8.07s\n",
      "141:\tlearn: 0.2759947\ttotal: 1.33s\tremaining: 8.04s\n",
      "142:\tlearn: 0.2756719\ttotal: 1.34s\tremaining: 8.02s\n",
      "143:\tlearn: 0.2755116\ttotal: 1.35s\tremaining: 8.02s\n",
      "144:\tlearn: 0.2752844\ttotal: 1.36s\tremaining: 8.04s\n",
      "145:\tlearn: 0.2750717\ttotal: 1.37s\tremaining: 8.03s\n",
      "146:\tlearn: 0.2746516\ttotal: 1.39s\tremaining: 8.04s\n",
      "147:\tlearn: 0.2744283\ttotal: 1.41s\tremaining: 8.13s\n",
      "148:\tlearn: 0.2741874\ttotal: 1.42s\tremaining: 8.13s\n",
      "149:\tlearn: 0.2738788\ttotal: 1.43s\tremaining: 8.1s\n",
      "150:\tlearn: 0.2737295\ttotal: 1.44s\tremaining: 8.07s\n",
      "151:\tlearn: 0.2730242\ttotal: 1.44s\tremaining: 8.05s\n",
      "152:\tlearn: 0.2728387\ttotal: 1.46s\tremaining: 8.06s\n",
      "153:\tlearn: 0.2724820\ttotal: 1.47s\tremaining: 8.07s\n",
      "154:\tlearn: 0.2723466\ttotal: 1.49s\tremaining: 8.12s\n",
      "155:\tlearn: 0.2721448\ttotal: 1.5s\tremaining: 8.12s\n",
      "156:\tlearn: 0.2719796\ttotal: 1.51s\tremaining: 8.12s\n",
      "157:\tlearn: 0.2718355\ttotal: 1.52s\tremaining: 8.12s\n",
      "158:\tlearn: 0.2715630\ttotal: 1.54s\tremaining: 8.13s\n",
      "159:\tlearn: 0.2714534\ttotal: 1.55s\tremaining: 8.14s\n",
      "160:\tlearn: 0.2712500\ttotal: 1.56s\tremaining: 8.14s\n",
      "161:\tlearn: 0.2710505\ttotal: 1.57s\tremaining: 8.14s\n",
      "162:\tlearn: 0.2709299\ttotal: 1.58s\tremaining: 8.13s\n",
      "163:\tlearn: 0.2705225\ttotal: 1.59s\tremaining: 8.11s\n",
      "164:\tlearn: 0.2703236\ttotal: 1.6s\tremaining: 8.12s\n",
      "165:\tlearn: 0.2699424\ttotal: 1.61s\tremaining: 8.1s\n",
      "166:\tlearn: 0.2695621\ttotal: 1.62s\tremaining: 8.07s\n",
      "167:\tlearn: 0.2693363\ttotal: 1.63s\tremaining: 8.05s\n"
     ]
    },
    {
     "name": "stdout",
     "output_type": "stream",
     "text": [
      "168:\tlearn: 0.2690125\ttotal: 1.63s\tremaining: 8.03s\n",
      "169:\tlearn: 0.2686909\ttotal: 1.64s\tremaining: 8.01s\n",
      "170:\tlearn: 0.2683975\ttotal: 1.65s\tremaining: 7.99s\n",
      "171:\tlearn: 0.2682427\ttotal: 1.66s\tremaining: 7.98s\n",
      "172:\tlearn: 0.2679729\ttotal: 1.67s\tremaining: 7.96s\n",
      "173:\tlearn: 0.2677414\ttotal: 1.68s\tremaining: 7.96s\n",
      "174:\tlearn: 0.2676184\ttotal: 1.68s\tremaining: 7.94s\n",
      "175:\tlearn: 0.2675009\ttotal: 1.69s\tremaining: 7.92s\n",
      "176:\tlearn: 0.2673631\ttotal: 1.7s\tremaining: 7.9s\n",
      "177:\tlearn: 0.2672504\ttotal: 1.7s\tremaining: 7.87s\n",
      "178:\tlearn: 0.2671039\ttotal: 1.71s\tremaining: 7.84s\n",
      "179:\tlearn: 0.2670291\ttotal: 1.72s\tremaining: 7.82s\n",
      "180:\tlearn: 0.2668747\ttotal: 1.72s\tremaining: 7.79s\n",
      "181:\tlearn: 0.2667721\ttotal: 1.73s\tremaining: 7.77s\n",
      "182:\tlearn: 0.2665587\ttotal: 1.74s\tremaining: 7.76s\n",
      "183:\tlearn: 0.2663057\ttotal: 1.75s\tremaining: 7.74s\n",
      "184:\tlearn: 0.2660491\ttotal: 1.75s\tremaining: 7.72s\n",
      "185:\tlearn: 0.2658528\ttotal: 1.77s\tremaining: 7.76s\n",
      "186:\tlearn: 0.2656541\ttotal: 1.78s\tremaining: 7.74s\n",
      "187:\tlearn: 0.2655132\ttotal: 1.79s\tremaining: 7.72s\n",
      "188:\tlearn: 0.2652033\ttotal: 1.79s\tremaining: 7.7s\n",
      "189:\tlearn: 0.2651423\ttotal: 1.8s\tremaining: 7.67s\n",
      "190:\tlearn: 0.2649705\ttotal: 1.81s\tremaining: 7.65s\n",
      "191:\tlearn: 0.2647257\ttotal: 1.81s\tremaining: 7.64s\n",
      "192:\tlearn: 0.2645054\ttotal: 1.84s\tremaining: 7.68s\n",
      "193:\tlearn: 0.2643608\ttotal: 1.85s\tremaining: 7.69s\n",
      "194:\tlearn: 0.2641848\ttotal: 1.86s\tremaining: 7.68s\n",
      "195:\tlearn: 0.2640128\ttotal: 1.87s\tremaining: 7.68s\n",
      "196:\tlearn: 0.2638623\ttotal: 1.88s\tremaining: 7.68s\n",
      "197:\tlearn: 0.2637220\ttotal: 1.9s\tremaining: 7.7s\n",
      "198:\tlearn: 0.2636718\ttotal: 1.91s\tremaining: 7.67s\n",
      "199:\tlearn: 0.2635441\ttotal: 1.92s\tremaining: 7.69s\n",
      "200:\tlearn: 0.2633806\ttotal: 1.94s\tremaining: 7.69s\n",
      "201:\tlearn: 0.2631526\ttotal: 1.95s\tremaining: 7.68s\n",
      "202:\tlearn: 0.2630023\ttotal: 1.95s\tremaining: 7.67s\n",
      "203:\tlearn: 0.2628183\ttotal: 1.96s\tremaining: 7.67s\n",
      "204:\tlearn: 0.2626891\ttotal: 1.97s\tremaining: 7.65s\n",
      "205:\tlearn: 0.2625208\ttotal: 1.98s\tremaining: 7.64s\n",
      "206:\tlearn: 0.2623879\ttotal: 1.99s\tremaining: 7.63s\n",
      "207:\tlearn: 0.2621681\ttotal: 2s\tremaining: 7.63s\n",
      "208:\tlearn: 0.2620437\ttotal: 2.01s\tremaining: 7.62s\n",
      "209:\tlearn: 0.2617564\ttotal: 2.02s\tremaining: 7.61s\n",
      "210:\tlearn: 0.2616276\ttotal: 2.03s\tremaining: 7.6s\n",
      "211:\tlearn: 0.2614352\ttotal: 2.04s\tremaining: 7.58s\n",
      "212:\tlearn: 0.2613748\ttotal: 2.05s\tremaining: 7.57s\n",
      "213:\tlearn: 0.2612471\ttotal: 2.06s\tremaining: 7.56s\n",
      "214:\tlearn: 0.2610483\ttotal: 2.06s\tremaining: 7.54s\n",
      "215:\tlearn: 0.2609361\ttotal: 2.07s\tremaining: 7.53s\n",
      "216:\tlearn: 0.2607185\ttotal: 2.08s\tremaining: 7.51s\n",
      "217:\tlearn: 0.2606031\ttotal: 2.09s\tremaining: 7.49s\n",
      "218:\tlearn: 0.2604472\ttotal: 2.09s\tremaining: 7.47s\n",
      "219:\tlearn: 0.2601988\ttotal: 2.1s\tremaining: 7.45s\n",
      "220:\tlearn: 0.2600763\ttotal: 2.11s\tremaining: 7.43s\n",
      "221:\tlearn: 0.2599118\ttotal: 2.12s\tremaining: 7.42s\n",
      "222:\tlearn: 0.2598369\ttotal: 2.12s\tremaining: 7.4s\n",
      "223:\tlearn: 0.2596284\ttotal: 2.13s\tremaining: 7.39s\n",
      "224:\tlearn: 0.2593791\ttotal: 2.14s\tremaining: 7.37s\n",
      "225:\tlearn: 0.2592011\ttotal: 2.15s\tremaining: 7.36s\n",
      "226:\tlearn: 0.2590868\ttotal: 2.15s\tremaining: 7.34s\n",
      "227:\tlearn: 0.2589878\ttotal: 2.16s\tremaining: 7.32s\n",
      "228:\tlearn: 0.2587778\ttotal: 2.17s\tremaining: 7.31s\n",
      "229:\tlearn: 0.2586642\ttotal: 2.18s\tremaining: 7.29s\n",
      "230:\tlearn: 0.2584599\ttotal: 2.18s\tremaining: 7.27s\n",
      "231:\tlearn: 0.2582983\ttotal: 2.19s\tremaining: 7.26s\n",
      "232:\tlearn: 0.2580287\ttotal: 2.2s\tremaining: 7.25s\n",
      "233:\tlearn: 0.2577752\ttotal: 2.21s\tremaining: 7.24s\n",
      "234:\tlearn: 0.2576069\ttotal: 2.22s\tremaining: 7.22s\n",
      "235:\tlearn: 0.2573914\ttotal: 2.23s\tremaining: 7.21s\n",
      "236:\tlearn: 0.2571851\ttotal: 2.24s\tremaining: 7.2s\n",
      "237:\tlearn: 0.2569859\ttotal: 2.25s\tremaining: 7.21s\n",
      "238:\tlearn: 0.2568777\ttotal: 2.27s\tremaining: 7.21s\n",
      "239:\tlearn: 0.2567585\ttotal: 2.28s\tremaining: 7.21s\n",
      "240:\tlearn: 0.2565082\ttotal: 2.28s\tremaining: 7.19s\n",
      "241:\tlearn: 0.2563414\ttotal: 2.29s\tremaining: 7.18s\n",
      "242:\tlearn: 0.2562307\ttotal: 2.3s\tremaining: 7.17s\n",
      "243:\tlearn: 0.2560088\ttotal: 2.31s\tremaining: 7.17s\n",
      "244:\tlearn: 0.2559173\ttotal: 2.33s\tremaining: 7.17s\n",
      "245:\tlearn: 0.2557369\ttotal: 2.33s\tremaining: 7.16s\n",
      "246:\tlearn: 0.2555821\ttotal: 2.34s\tremaining: 7.14s\n",
      "247:\tlearn: 0.2554722\ttotal: 2.35s\tremaining: 7.14s\n",
      "248:\tlearn: 0.2552057\ttotal: 2.36s\tremaining: 7.13s\n",
      "249:\tlearn: 0.2551012\ttotal: 2.37s\tremaining: 7.11s\n",
      "250:\tlearn: 0.2550191\ttotal: 2.38s\tremaining: 7.09s\n",
      "251:\tlearn: 0.2548895\ttotal: 2.38s\tremaining: 7.08s\n",
      "252:\tlearn: 0.2547806\ttotal: 2.39s\tremaining: 7.07s\n",
      "253:\tlearn: 0.2545378\ttotal: 2.4s\tremaining: 7.05s\n",
      "254:\tlearn: 0.2543662\ttotal: 2.43s\tremaining: 7.09s\n",
      "255:\tlearn: 0.2541374\ttotal: 2.44s\tremaining: 7.08s\n",
      "256:\tlearn: 0.2540156\ttotal: 2.45s\tremaining: 7.08s\n",
      "257:\tlearn: 0.2537926\ttotal: 2.46s\tremaining: 7.07s\n",
      "258:\tlearn: 0.2535496\ttotal: 2.46s\tremaining: 7.05s\n",
      "259:\tlearn: 0.2534333\ttotal: 2.47s\tremaining: 7.03s\n",
      "260:\tlearn: 0.2533091\ttotal: 2.48s\tremaining: 7.03s\n",
      "261:\tlearn: 0.2531821\ttotal: 2.49s\tremaining: 7.02s\n",
      "262:\tlearn: 0.2530407\ttotal: 2.5s\tremaining: 7.01s\n",
      "263:\tlearn: 0.2529129\ttotal: 2.51s\tremaining: 7s\n",
      "264:\tlearn: 0.2528073\ttotal: 2.52s\tremaining: 6.98s\n",
      "265:\tlearn: 0.2526007\ttotal: 2.52s\tremaining: 6.97s\n",
      "266:\tlearn: 0.2524607\ttotal: 2.53s\tremaining: 6.95s\n",
      "267:\tlearn: 0.2523822\ttotal: 2.54s\tremaining: 6.94s\n",
      "268:\tlearn: 0.2521697\ttotal: 2.55s\tremaining: 6.93s\n",
      "269:\tlearn: 0.2520265\ttotal: 2.56s\tremaining: 6.92s\n",
      "270:\tlearn: 0.2519171\ttotal: 2.57s\tremaining: 6.91s\n",
      "271:\tlearn: 0.2517494\ttotal: 2.57s\tremaining: 6.89s\n",
      "272:\tlearn: 0.2515613\ttotal: 2.58s\tremaining: 6.88s\n",
      "273:\tlearn: 0.2514627\ttotal: 2.59s\tremaining: 6.86s\n",
      "274:\tlearn: 0.2513302\ttotal: 2.6s\tremaining: 6.84s\n",
      "275:\tlearn: 0.2511463\ttotal: 2.6s\tremaining: 6.82s\n",
      "276:\tlearn: 0.2509819\ttotal: 2.61s\tremaining: 6.81s\n",
      "277:\tlearn: 0.2508791\ttotal: 2.62s\tremaining: 6.8s\n",
      "278:\tlearn: 0.2508415\ttotal: 2.63s\tremaining: 6.79s\n",
      "279:\tlearn: 0.2506939\ttotal: 2.63s\tremaining: 6.77s\n",
      "280:\tlearn: 0.2505804\ttotal: 2.64s\tremaining: 6.76s\n",
      "281:\tlearn: 0.2505070\ttotal: 2.65s\tremaining: 6.75s\n",
      "282:\tlearn: 0.2503963\ttotal: 2.66s\tremaining: 6.74s\n",
      "283:\tlearn: 0.2502214\ttotal: 2.67s\tremaining: 6.72s\n",
      "284:\tlearn: 0.2500122\ttotal: 2.67s\tremaining: 6.71s\n",
      "285:\tlearn: 0.2499160\ttotal: 2.68s\tremaining: 6.7s\n",
      "286:\tlearn: 0.2498169\ttotal: 2.69s\tremaining: 6.68s\n",
      "287:\tlearn: 0.2497402\ttotal: 2.74s\tremaining: 6.76s\n",
      "288:\tlearn: 0.2496021\ttotal: 2.75s\tremaining: 6.77s\n",
      "289:\tlearn: 0.2494681\ttotal: 2.77s\tremaining: 6.77s\n",
      "290:\tlearn: 0.2493763\ttotal: 2.78s\tremaining: 6.77s\n",
      "291:\tlearn: 0.2492507\ttotal: 2.81s\tremaining: 6.8s\n",
      "292:\tlearn: 0.2490764\ttotal: 2.82s\tremaining: 6.81s\n",
      "293:\tlearn: 0.2489486\ttotal: 2.83s\tremaining: 6.79s\n",
      "294:\tlearn: 0.2488095\ttotal: 2.84s\tremaining: 6.78s\n",
      "295:\tlearn: 0.2486856\ttotal: 2.85s\tremaining: 6.77s\n",
      "296:\tlearn: 0.2484486\ttotal: 2.85s\tremaining: 6.75s\n",
      "297:\tlearn: 0.2483041\ttotal: 2.86s\tremaining: 6.74s\n",
      "298:\tlearn: 0.2481707\ttotal: 2.87s\tremaining: 6.73s\n",
      "299:\tlearn: 0.2480199\ttotal: 2.88s\tremaining: 6.71s\n",
      "300:\tlearn: 0.2478510\ttotal: 2.88s\tremaining: 6.7s\n",
      "301:\tlearn: 0.2478165\ttotal: 2.89s\tremaining: 6.69s\n",
      "302:\tlearn: 0.2477274\ttotal: 2.9s\tremaining: 6.67s\n",
      "303:\tlearn: 0.2475664\ttotal: 2.91s\tremaining: 6.66s\n",
      "304:\tlearn: 0.2474072\ttotal: 2.92s\tremaining: 6.64s\n",
      "305:\tlearn: 0.2472730\ttotal: 2.92s\tremaining: 6.63s\n",
      "306:\tlearn: 0.2471455\ttotal: 2.93s\tremaining: 6.61s\n",
      "307:\tlearn: 0.2469705\ttotal: 2.94s\tremaining: 6.6s\n",
      "308:\tlearn: 0.2468209\ttotal: 2.95s\tremaining: 6.59s\n",
      "309:\tlearn: 0.2467458\ttotal: 2.96s\tremaining: 6.58s\n",
      "310:\tlearn: 0.2466054\ttotal: 2.97s\tremaining: 6.57s\n",
      "311:\tlearn: 0.2464834\ttotal: 2.98s\tremaining: 6.56s\n",
      "312:\tlearn: 0.2464064\ttotal: 2.98s\tremaining: 6.55s\n",
      "313:\tlearn: 0.2461784\ttotal: 2.99s\tremaining: 6.53s\n",
      "314:\tlearn: 0.2461039\ttotal: 3s\tremaining: 6.52s\n",
      "315:\tlearn: 0.2460198\ttotal: 3s\tremaining: 6.5s\n",
      "316:\tlearn: 0.2459308\ttotal: 3.01s\tremaining: 6.48s\n",
      "317:\tlearn: 0.2457901\ttotal: 3.02s\tremaining: 6.47s\n",
      "318:\tlearn: 0.2456904\ttotal: 3.02s\tremaining: 6.45s\n",
      "319:\tlearn: 0.2455760\ttotal: 3.03s\tremaining: 6.44s\n",
      "320:\tlearn: 0.2454604\ttotal: 3.04s\tremaining: 6.42s\n",
      "321:\tlearn: 0.2453740\ttotal: 3.04s\tremaining: 6.4s\n",
      "322:\tlearn: 0.2452635\ttotal: 3.05s\tremaining: 6.39s\n",
      "323:\tlearn: 0.2451362\ttotal: 3.05s\tremaining: 6.37s\n",
      "324:\tlearn: 0.2450226\ttotal: 3.06s\tremaining: 6.36s\n",
      "325:\tlearn: 0.2449436\ttotal: 3.06s\tremaining: 6.34s\n",
      "326:\tlearn: 0.2448589\ttotal: 3.07s\tremaining: 6.32s\n",
      "327:\tlearn: 0.2447292\ttotal: 3.08s\tremaining: 6.31s\n",
      "328:\tlearn: 0.2446224\ttotal: 3.08s\tremaining: 6.29s\n",
      "329:\tlearn: 0.2445049\ttotal: 3.09s\tremaining: 6.28s\n",
      "330:\tlearn: 0.2443978\ttotal: 3.1s\tremaining: 6.26s\n",
      "331:\tlearn: 0.2442889\ttotal: 3.1s\tremaining: 6.24s\n",
      "332:\tlearn: 0.2441708\ttotal: 3.11s\tremaining: 6.22s\n"
     ]
    },
    {
     "name": "stdout",
     "output_type": "stream",
     "text": [
      "333:\tlearn: 0.2440728\ttotal: 3.12s\tremaining: 6.21s\n",
      "334:\tlearn: 0.2438815\ttotal: 3.12s\tremaining: 6.2s\n",
      "335:\tlearn: 0.2437748\ttotal: 3.13s\tremaining: 6.18s\n",
      "336:\tlearn: 0.2436416\ttotal: 3.13s\tremaining: 6.17s\n",
      "337:\tlearn: 0.2435466\ttotal: 3.14s\tremaining: 6.15s\n",
      "338:\tlearn: 0.2434292\ttotal: 3.15s\tremaining: 6.13s\n",
      "339:\tlearn: 0.2433406\ttotal: 3.15s\tremaining: 6.12s\n",
      "340:\tlearn: 0.2432730\ttotal: 3.16s\tremaining: 6.1s\n",
      "341:\tlearn: 0.2431689\ttotal: 3.16s\tremaining: 6.09s\n",
      "342:\tlearn: 0.2430213\ttotal: 3.17s\tremaining: 6.07s\n",
      "343:\tlearn: 0.2429593\ttotal: 3.18s\tremaining: 6.06s\n",
      "344:\tlearn: 0.2428620\ttotal: 3.18s\tremaining: 6.04s\n",
      "345:\tlearn: 0.2427451\ttotal: 3.19s\tremaining: 6.03s\n",
      "346:\tlearn: 0.2426394\ttotal: 3.2s\tremaining: 6.02s\n",
      "347:\tlearn: 0.2425291\ttotal: 3.2s\tremaining: 6s\n",
      "348:\tlearn: 0.2424582\ttotal: 3.21s\tremaining: 5.99s\n",
      "349:\tlearn: 0.2422858\ttotal: 3.22s\tremaining: 5.97s\n",
      "350:\tlearn: 0.2421731\ttotal: 3.22s\tremaining: 5.96s\n",
      "351:\tlearn: 0.2420174\ttotal: 3.23s\tremaining: 5.95s\n",
      "352:\tlearn: 0.2419318\ttotal: 3.24s\tremaining: 5.94s\n",
      "353:\tlearn: 0.2417680\ttotal: 3.25s\tremaining: 5.93s\n",
      "354:\tlearn: 0.2416036\ttotal: 3.25s\tremaining: 5.92s\n",
      "355:\tlearn: 0.2414674\ttotal: 3.26s\tremaining: 5.9s\n",
      "356:\tlearn: 0.2413493\ttotal: 3.27s\tremaining: 5.88s\n",
      "357:\tlearn: 0.2412563\ttotal: 3.27s\tremaining: 5.87s\n",
      "358:\tlearn: 0.2411803\ttotal: 3.28s\tremaining: 5.85s\n",
      "359:\tlearn: 0.2410790\ttotal: 3.29s\tremaining: 5.84s\n",
      "360:\tlearn: 0.2409245\ttotal: 3.29s\tremaining: 5.83s\n",
      "361:\tlearn: 0.2408484\ttotal: 3.3s\tremaining: 5.82s\n",
      "362:\tlearn: 0.2407687\ttotal: 3.31s\tremaining: 5.82s\n",
      "363:\tlearn: 0.2406769\ttotal: 3.33s\tremaining: 5.81s\n",
      "364:\tlearn: 0.2405664\ttotal: 3.33s\tremaining: 5.8s\n",
      "365:\tlearn: 0.2404606\ttotal: 3.34s\tremaining: 5.78s\n",
      "366:\tlearn: 0.2403748\ttotal: 3.34s\tremaining: 5.77s\n",
      "367:\tlearn: 0.2402245\ttotal: 3.35s\tremaining: 5.76s\n",
      "368:\tlearn: 0.2401369\ttotal: 3.36s\tremaining: 5.75s\n",
      "369:\tlearn: 0.2400248\ttotal: 3.37s\tremaining: 5.74s\n",
      "370:\tlearn: 0.2399406\ttotal: 3.38s\tremaining: 5.72s\n",
      "371:\tlearn: 0.2398311\ttotal: 3.38s\tremaining: 5.71s\n",
      "372:\tlearn: 0.2397474\ttotal: 3.39s\tremaining: 5.7s\n",
      "373:\tlearn: 0.2396713\ttotal: 3.4s\tremaining: 5.68s\n",
      "374:\tlearn: 0.2395468\ttotal: 3.4s\tremaining: 5.67s\n",
      "375:\tlearn: 0.2394449\ttotal: 3.41s\tremaining: 5.66s\n",
      "376:\tlearn: 0.2393639\ttotal: 3.42s\tremaining: 5.65s\n",
      "377:\tlearn: 0.2392968\ttotal: 3.42s\tremaining: 5.63s\n",
      "378:\tlearn: 0.2391607\ttotal: 3.43s\tremaining: 5.62s\n",
      "379:\tlearn: 0.2390642\ttotal: 3.43s\tremaining: 5.6s\n",
      "380:\tlearn: 0.2389691\ttotal: 3.44s\tremaining: 5.59s\n",
      "381:\tlearn: 0.2388735\ttotal: 3.44s\tremaining: 5.57s\n",
      "382:\tlearn: 0.2387483\ttotal: 3.45s\tremaining: 5.56s\n",
      "383:\tlearn: 0.2386506\ttotal: 3.46s\tremaining: 5.54s\n",
      "384:\tlearn: 0.2385341\ttotal: 3.46s\tremaining: 5.53s\n",
      "385:\tlearn: 0.2384326\ttotal: 3.47s\tremaining: 5.51s\n",
      "386:\tlearn: 0.2383420\ttotal: 3.47s\tremaining: 5.5s\n",
      "387:\tlearn: 0.2382548\ttotal: 3.48s\tremaining: 5.49s\n",
      "388:\tlearn: 0.2381957\ttotal: 3.48s\tremaining: 5.47s\n",
      "389:\tlearn: 0.2381281\ttotal: 3.49s\tremaining: 5.46s\n",
      "390:\tlearn: 0.2380581\ttotal: 3.5s\tremaining: 5.45s\n",
      "391:\tlearn: 0.2379275\ttotal: 3.51s\tremaining: 5.45s\n",
      "392:\tlearn: 0.2378405\ttotal: 3.52s\tremaining: 5.43s\n",
      "393:\tlearn: 0.2377386\ttotal: 3.53s\tremaining: 5.43s\n",
      "394:\tlearn: 0.2376711\ttotal: 3.54s\tremaining: 5.42s\n",
      "395:\tlearn: 0.2375546\ttotal: 3.55s\tremaining: 5.41s\n",
      "396:\tlearn: 0.2374483\ttotal: 3.55s\tremaining: 5.4s\n",
      "397:\tlearn: 0.2373353\ttotal: 3.56s\tremaining: 5.38s\n",
      "398:\tlearn: 0.2372364\ttotal: 3.57s\tremaining: 5.37s\n",
      "399:\tlearn: 0.2371385\ttotal: 3.57s\tremaining: 5.36s\n",
      "400:\tlearn: 0.2370330\ttotal: 3.58s\tremaining: 5.35s\n",
      "401:\tlearn: 0.2369510\ttotal: 3.58s\tremaining: 5.33s\n",
      "402:\tlearn: 0.2368934\ttotal: 3.59s\tremaining: 5.32s\n",
      "403:\tlearn: 0.2368003\ttotal: 3.6s\tremaining: 5.3s\n",
      "404:\tlearn: 0.2366977\ttotal: 3.6s\tremaining: 5.29s\n",
      "405:\tlearn: 0.2365960\ttotal: 3.61s\tremaining: 5.28s\n",
      "406:\tlearn: 0.2364874\ttotal: 3.61s\tremaining: 5.26s\n",
      "407:\tlearn: 0.2363717\ttotal: 3.62s\tremaining: 5.25s\n",
      "408:\tlearn: 0.2362846\ttotal: 3.62s\tremaining: 5.24s\n",
      "409:\tlearn: 0.2362171\ttotal: 3.63s\tremaining: 5.22s\n",
      "410:\tlearn: 0.2361563\ttotal: 3.63s\tremaining: 5.21s\n",
      "411:\tlearn: 0.2360336\ttotal: 3.64s\tremaining: 5.19s\n",
      "412:\tlearn: 0.2359483\ttotal: 3.64s\tremaining: 5.18s\n",
      "413:\tlearn: 0.2358608\ttotal: 3.65s\tremaining: 5.16s\n",
      "414:\tlearn: 0.2357934\ttotal: 3.65s\tremaining: 5.15s\n",
      "415:\tlearn: 0.2357132\ttotal: 3.66s\tremaining: 5.14s\n",
      "416:\tlearn: 0.2356553\ttotal: 3.66s\tremaining: 5.12s\n",
      "417:\tlearn: 0.2355726\ttotal: 3.67s\tremaining: 5.11s\n",
      "418:\tlearn: 0.2355107\ttotal: 3.67s\tremaining: 5.09s\n",
      "419:\tlearn: 0.2354446\ttotal: 3.68s\tremaining: 5.08s\n",
      "420:\tlearn: 0.2353555\ttotal: 3.69s\tremaining: 5.07s\n",
      "421:\tlearn: 0.2352913\ttotal: 3.69s\tremaining: 5.05s\n",
      "422:\tlearn: 0.2352255\ttotal: 3.69s\tremaining: 5.04s\n",
      "423:\tlearn: 0.2351534\ttotal: 3.7s\tremaining: 5.03s\n",
      "424:\tlearn: 0.2350696\ttotal: 3.71s\tremaining: 5.02s\n",
      "425:\tlearn: 0.2349550\ttotal: 3.71s\tremaining: 5.01s\n",
      "426:\tlearn: 0.2348839\ttotal: 3.72s\tremaining: 5s\n",
      "427:\tlearn: 0.2347695\ttotal: 3.73s\tremaining: 4.99s\n",
      "428:\tlearn: 0.2347067\ttotal: 3.74s\tremaining: 4.98s\n",
      "429:\tlearn: 0.2346279\ttotal: 3.75s\tremaining: 4.97s\n",
      "430:\tlearn: 0.2345327\ttotal: 3.77s\tremaining: 4.97s\n",
      "431:\tlearn: 0.2344394\ttotal: 3.78s\tremaining: 4.96s\n",
      "432:\tlearn: 0.2343738\ttotal: 3.79s\tremaining: 4.96s\n",
      "433:\tlearn: 0.2342564\ttotal: 3.79s\tremaining: 4.95s\n",
      "434:\tlearn: 0.2341632\ttotal: 3.8s\tremaining: 4.94s\n",
      "435:\tlearn: 0.2340818\ttotal: 3.81s\tremaining: 4.93s\n",
      "436:\tlearn: 0.2339881\ttotal: 3.82s\tremaining: 4.92s\n",
      "437:\tlearn: 0.2339271\ttotal: 3.83s\tremaining: 4.91s\n",
      "438:\tlearn: 0.2338755\ttotal: 3.83s\tremaining: 4.89s\n",
      "439:\tlearn: 0.2338054\ttotal: 3.84s\tremaining: 4.88s\n",
      "440:\tlearn: 0.2337553\ttotal: 3.85s\tremaining: 4.88s\n",
      "441:\tlearn: 0.2336680\ttotal: 3.86s\tremaining: 4.87s\n",
      "442:\tlearn: 0.2336141\ttotal: 3.87s\tremaining: 4.86s\n",
      "443:\tlearn: 0.2335535\ttotal: 3.87s\tremaining: 4.85s\n",
      "444:\tlearn: 0.2334902\ttotal: 3.88s\tremaining: 4.84s\n",
      "445:\tlearn: 0.2334187\ttotal: 3.88s\tremaining: 4.83s\n",
      "446:\tlearn: 0.2333248\ttotal: 3.9s\tremaining: 4.82s\n",
      "447:\tlearn: 0.2332240\ttotal: 3.91s\tremaining: 4.82s\n",
      "448:\tlearn: 0.2331448\ttotal: 3.92s\tremaining: 4.81s\n",
      "449:\tlearn: 0.2330500\ttotal: 3.93s\tremaining: 4.8s\n",
      "450:\tlearn: 0.2329614\ttotal: 3.93s\tremaining: 4.79s\n",
      "451:\tlearn: 0.2329002\ttotal: 3.94s\tremaining: 4.78s\n",
      "452:\tlearn: 0.2327872\ttotal: 3.95s\tremaining: 4.77s\n",
      "453:\tlearn: 0.2327254\ttotal: 3.96s\tremaining: 4.76s\n",
      "454:\tlearn: 0.2326505\ttotal: 3.96s\tremaining: 4.75s\n",
      "455:\tlearn: 0.2325313\ttotal: 3.98s\tremaining: 4.75s\n",
      "456:\tlearn: 0.2324896\ttotal: 3.98s\tremaining: 4.74s\n",
      "457:\tlearn: 0.2323514\ttotal: 3.99s\tremaining: 4.72s\n",
      "458:\tlearn: 0.2322302\ttotal: 4s\tremaining: 4.71s\n",
      "459:\tlearn: 0.2321417\ttotal: 4s\tremaining: 4.7s\n",
      "460:\tlearn: 0.2320390\ttotal: 4.01s\tremaining: 4.69s\n",
      "461:\tlearn: 0.2319261\ttotal: 4.01s\tremaining: 4.67s\n",
      "462:\tlearn: 0.2318634\ttotal: 4.02s\tremaining: 4.66s\n",
      "463:\tlearn: 0.2317951\ttotal: 4.03s\tremaining: 4.65s\n",
      "464:\tlearn: 0.2317452\ttotal: 4.03s\tremaining: 4.64s\n",
      "465:\tlearn: 0.2316928\ttotal: 4.04s\tremaining: 4.62s\n",
      "466:\tlearn: 0.2316169\ttotal: 4.04s\tremaining: 4.61s\n",
      "467:\tlearn: 0.2315387\ttotal: 4.05s\tremaining: 4.6s\n",
      "468:\tlearn: 0.2314847\ttotal: 4.05s\tremaining: 4.59s\n",
      "469:\tlearn: 0.2313658\ttotal: 4.06s\tremaining: 4.57s\n",
      "470:\tlearn: 0.2313107\ttotal: 4.06s\tremaining: 4.56s\n",
      "471:\tlearn: 0.2311759\ttotal: 4.07s\tremaining: 4.55s\n",
      "472:\tlearn: 0.2311264\ttotal: 4.07s\tremaining: 4.54s\n",
      "473:\tlearn: 0.2310660\ttotal: 4.08s\tremaining: 4.53s\n",
      "474:\tlearn: 0.2310000\ttotal: 4.08s\tremaining: 4.51s\n",
      "475:\tlearn: 0.2309279\ttotal: 4.09s\tremaining: 4.5s\n",
      "476:\tlearn: 0.2308644\ttotal: 4.1s\tremaining: 4.49s\n",
      "477:\tlearn: 0.2307747\ttotal: 4.11s\tremaining: 4.48s\n",
      "478:\tlearn: 0.2307004\ttotal: 4.11s\tremaining: 4.47s\n",
      "479:\tlearn: 0.2306203\ttotal: 4.12s\tremaining: 4.46s\n",
      "480:\tlearn: 0.2305333\ttotal: 4.12s\tremaining: 4.45s\n",
      "481:\tlearn: 0.2304804\ttotal: 4.13s\tremaining: 4.44s\n",
      "482:\tlearn: 0.2304310\ttotal: 4.14s\tremaining: 4.43s\n",
      "483:\tlearn: 0.2303542\ttotal: 4.14s\tremaining: 4.42s\n",
      "484:\tlearn: 0.2302464\ttotal: 4.15s\tremaining: 4.41s\n",
      "485:\tlearn: 0.2301814\ttotal: 4.16s\tremaining: 4.39s\n",
      "486:\tlearn: 0.2301197\ttotal: 4.16s\tremaining: 4.38s\n",
      "487:\tlearn: 0.2300423\ttotal: 4.17s\tremaining: 4.37s\n",
      "488:\tlearn: 0.2299765\ttotal: 4.17s\tremaining: 4.36s\n",
      "489:\tlearn: 0.2298789\ttotal: 4.18s\tremaining: 4.35s\n",
      "490:\tlearn: 0.2298161\ttotal: 4.18s\tremaining: 4.34s\n",
      "491:\tlearn: 0.2297569\ttotal: 4.19s\tremaining: 4.33s\n",
      "492:\tlearn: 0.2296558\ttotal: 4.2s\tremaining: 4.31s\n",
      "493:\tlearn: 0.2295438\ttotal: 4.2s\tremaining: 4.3s\n",
      "494:\tlearn: 0.2294644\ttotal: 4.21s\tremaining: 4.29s\n",
      "495:\tlearn: 0.2293549\ttotal: 4.22s\tremaining: 4.29s\n",
      "496:\tlearn: 0.2292733\ttotal: 4.25s\tremaining: 4.31s\n"
     ]
    },
    {
     "name": "stdout",
     "output_type": "stream",
     "text": [
      "497:\tlearn: 0.2292202\ttotal: 4.29s\tremaining: 4.33s\n",
      "498:\tlearn: 0.2291022\ttotal: 4.32s\tremaining: 4.34s\n",
      "499:\tlearn: 0.2289304\ttotal: 4.36s\tremaining: 4.36s\n",
      "500:\tlearn: 0.2288533\ttotal: 4.37s\tremaining: 4.35s\n",
      "501:\tlearn: 0.2287948\ttotal: 4.4s\tremaining: 4.37s\n",
      "502:\tlearn: 0.2287241\ttotal: 4.44s\tremaining: 4.38s\n",
      "503:\tlearn: 0.2286328\ttotal: 4.46s\tremaining: 4.39s\n",
      "504:\tlearn: 0.2285705\ttotal: 4.51s\tremaining: 4.42s\n",
      "505:\tlearn: 0.2284856\ttotal: 4.55s\tremaining: 4.45s\n",
      "506:\tlearn: 0.2284162\ttotal: 4.59s\tremaining: 4.46s\n",
      "507:\tlearn: 0.2282968\ttotal: 4.61s\tremaining: 4.47s\n",
      "508:\tlearn: 0.2282555\ttotal: 4.63s\tremaining: 4.47s\n",
      "509:\tlearn: 0.2281834\ttotal: 4.66s\tremaining: 4.47s\n",
      "510:\tlearn: 0.2281233\ttotal: 4.68s\tremaining: 4.48s\n",
      "511:\tlearn: 0.2280627\ttotal: 4.71s\tremaining: 4.48s\n",
      "512:\tlearn: 0.2280016\ttotal: 4.73s\tremaining: 4.49s\n",
      "513:\tlearn: 0.2279528\ttotal: 4.75s\tremaining: 4.5s\n",
      "514:\tlearn: 0.2278632\ttotal: 4.78s\tremaining: 4.5s\n",
      "515:\tlearn: 0.2277799\ttotal: 4.81s\tremaining: 4.51s\n",
      "516:\tlearn: 0.2276875\ttotal: 4.83s\tremaining: 4.51s\n",
      "517:\tlearn: 0.2275964\ttotal: 4.86s\tremaining: 4.52s\n",
      "518:\tlearn: 0.2275309\ttotal: 4.88s\tremaining: 4.53s\n",
      "519:\tlearn: 0.2274350\ttotal: 4.9s\tremaining: 4.52s\n",
      "520:\tlearn: 0.2273606\ttotal: 4.91s\tremaining: 4.52s\n",
      "521:\tlearn: 0.2272653\ttotal: 4.94s\tremaining: 4.52s\n",
      "522:\tlearn: 0.2271835\ttotal: 4.95s\tremaining: 4.51s\n",
      "523:\tlearn: 0.2271373\ttotal: 4.98s\tremaining: 4.52s\n",
      "524:\tlearn: 0.2270325\ttotal: 4.99s\tremaining: 4.52s\n",
      "525:\tlearn: 0.2269811\ttotal: 5.01s\tremaining: 4.51s\n",
      "526:\tlearn: 0.2269088\ttotal: 5.03s\tremaining: 4.51s\n",
      "527:\tlearn: 0.2268002\ttotal: 5.04s\tremaining: 4.51s\n",
      "528:\tlearn: 0.2267190\ttotal: 5.07s\tremaining: 4.51s\n",
      "529:\tlearn: 0.2266823\ttotal: 5.08s\tremaining: 4.5s\n",
      "530:\tlearn: 0.2266381\ttotal: 5.09s\tremaining: 4.5s\n",
      "531:\tlearn: 0.2265948\ttotal: 5.12s\tremaining: 4.5s\n",
      "532:\tlearn: 0.2265698\ttotal: 5.15s\tremaining: 4.51s\n",
      "533:\tlearn: 0.2264601\ttotal: 5.17s\tremaining: 4.51s\n",
      "534:\tlearn: 0.2263653\ttotal: 5.19s\tremaining: 4.51s\n",
      "535:\tlearn: 0.2262826\ttotal: 5.23s\tremaining: 4.53s\n",
      "536:\tlearn: 0.2262367\ttotal: 5.26s\tremaining: 4.54s\n",
      "537:\tlearn: 0.2261658\ttotal: 5.31s\tremaining: 4.56s\n",
      "538:\tlearn: 0.2261136\ttotal: 5.33s\tremaining: 4.56s\n",
      "539:\tlearn: 0.2260693\ttotal: 5.34s\tremaining: 4.55s\n",
      "540:\tlearn: 0.2259700\ttotal: 5.36s\tremaining: 4.54s\n",
      "541:\tlearn: 0.2259388\ttotal: 5.37s\tremaining: 4.54s\n",
      "542:\tlearn: 0.2258671\ttotal: 5.39s\tremaining: 4.53s\n",
      "543:\tlearn: 0.2258082\ttotal: 5.4s\tremaining: 4.53s\n",
      "544:\tlearn: 0.2257110\ttotal: 5.41s\tremaining: 4.51s\n",
      "545:\tlearn: 0.2256642\ttotal: 5.41s\tremaining: 4.5s\n",
      "546:\tlearn: 0.2255914\ttotal: 5.42s\tremaining: 4.49s\n",
      "547:\tlearn: 0.2255009\ttotal: 5.42s\tremaining: 4.47s\n",
      "548:\tlearn: 0.2254589\ttotal: 5.43s\tremaining: 4.46s\n",
      "549:\tlearn: 0.2254135\ttotal: 5.44s\tremaining: 4.45s\n",
      "550:\tlearn: 0.2253554\ttotal: 5.45s\tremaining: 4.44s\n",
      "551:\tlearn: 0.2252936\ttotal: 5.46s\tremaining: 4.43s\n",
      "552:\tlearn: 0.2252121\ttotal: 5.46s\tremaining: 4.42s\n",
      "553:\tlearn: 0.2251041\ttotal: 5.48s\tremaining: 4.41s\n",
      "554:\tlearn: 0.2250496\ttotal: 5.5s\tremaining: 4.41s\n",
      "555:\tlearn: 0.2249566\ttotal: 5.51s\tremaining: 4.4s\n",
      "556:\tlearn: 0.2248468\ttotal: 5.52s\tremaining: 4.39s\n",
      "557:\tlearn: 0.2247716\ttotal: 5.53s\tremaining: 4.38s\n",
      "558:\tlearn: 0.2247158\ttotal: 5.54s\tremaining: 4.37s\n",
      "559:\tlearn: 0.2246413\ttotal: 5.54s\tremaining: 4.36s\n",
      "560:\tlearn: 0.2245847\ttotal: 5.55s\tremaining: 4.34s\n",
      "561:\tlearn: 0.2245272\ttotal: 5.56s\tremaining: 4.33s\n",
      "562:\tlearn: 0.2244490\ttotal: 5.57s\tremaining: 4.32s\n",
      "563:\tlearn: 0.2243942\ttotal: 5.58s\tremaining: 4.31s\n",
      "564:\tlearn: 0.2242955\ttotal: 5.58s\tremaining: 4.3s\n",
      "565:\tlearn: 0.2242564\ttotal: 5.59s\tremaining: 4.29s\n",
      "566:\tlearn: 0.2241690\ttotal: 5.6s\tremaining: 4.27s\n",
      "567:\tlearn: 0.2240862\ttotal: 5.6s\tremaining: 4.26s\n",
      "568:\tlearn: 0.2240051\ttotal: 5.61s\tremaining: 4.25s\n",
      "569:\tlearn: 0.2239039\ttotal: 5.62s\tremaining: 4.24s\n",
      "570:\tlearn: 0.2238287\ttotal: 5.63s\tremaining: 4.23s\n",
      "571:\tlearn: 0.2237438\ttotal: 5.63s\tremaining: 4.21s\n",
      "572:\tlearn: 0.2236404\ttotal: 5.64s\tremaining: 4.2s\n",
      "573:\tlearn: 0.2235681\ttotal: 5.65s\tremaining: 4.19s\n",
      "574:\tlearn: 0.2234985\ttotal: 5.66s\tremaining: 4.18s\n",
      "575:\tlearn: 0.2234468\ttotal: 5.67s\tremaining: 4.17s\n",
      "576:\tlearn: 0.2233759\ttotal: 5.67s\tremaining: 4.16s\n",
      "577:\tlearn: 0.2233012\ttotal: 5.68s\tremaining: 4.15s\n",
      "578:\tlearn: 0.2232278\ttotal: 5.69s\tremaining: 4.14s\n",
      "579:\tlearn: 0.2231294\ttotal: 5.7s\tremaining: 4.13s\n",
      "580:\tlearn: 0.2230741\ttotal: 5.71s\tremaining: 4.11s\n",
      "581:\tlearn: 0.2229936\ttotal: 5.71s\tremaining: 4.1s\n",
      "582:\tlearn: 0.2229343\ttotal: 5.72s\tremaining: 4.09s\n",
      "583:\tlearn: 0.2228645\ttotal: 5.73s\tremaining: 4.08s\n",
      "584:\tlearn: 0.2228132\ttotal: 5.74s\tremaining: 4.07s\n",
      "585:\tlearn: 0.2227584\ttotal: 5.75s\tremaining: 4.06s\n",
      "586:\tlearn: 0.2226904\ttotal: 5.75s\tremaining: 4.05s\n",
      "587:\tlearn: 0.2226629\ttotal: 5.76s\tremaining: 4.04s\n",
      "588:\tlearn: 0.2226116\ttotal: 5.77s\tremaining: 4.03s\n",
      "589:\tlearn: 0.2225609\ttotal: 5.79s\tremaining: 4.02s\n",
      "590:\tlearn: 0.2224927\ttotal: 5.81s\tremaining: 4.02s\n",
      "591:\tlearn: 0.2223959\ttotal: 5.83s\tremaining: 4.02s\n",
      "592:\tlearn: 0.2222930\ttotal: 5.85s\tremaining: 4.01s\n",
      "593:\tlearn: 0.2222369\ttotal: 5.86s\tremaining: 4.01s\n",
      "594:\tlearn: 0.2221866\ttotal: 5.88s\tremaining: 4s\n",
      "595:\tlearn: 0.2221204\ttotal: 5.89s\tremaining: 3.99s\n",
      "596:\tlearn: 0.2220828\ttotal: 5.9s\tremaining: 3.98s\n",
      "597:\tlearn: 0.2220261\ttotal: 5.9s\tremaining: 3.97s\n",
      "598:\tlearn: 0.2219430\ttotal: 5.91s\tremaining: 3.96s\n",
      "599:\tlearn: 0.2218869\ttotal: 5.92s\tremaining: 3.95s\n",
      "600:\tlearn: 0.2218042\ttotal: 5.93s\tremaining: 3.94s\n",
      "601:\tlearn: 0.2217479\ttotal: 5.94s\tremaining: 3.93s\n",
      "602:\tlearn: 0.2216566\ttotal: 5.96s\tremaining: 3.92s\n",
      "603:\tlearn: 0.2215800\ttotal: 5.97s\tremaining: 3.91s\n",
      "604:\tlearn: 0.2215216\ttotal: 5.98s\tremaining: 3.9s\n",
      "605:\tlearn: 0.2214727\ttotal: 5.99s\tremaining: 3.9s\n",
      "606:\tlearn: 0.2214024\ttotal: 6s\tremaining: 3.88s\n",
      "607:\tlearn: 0.2213373\ttotal: 6.01s\tremaining: 3.87s\n",
      "608:\tlearn: 0.2212804\ttotal: 6.02s\tremaining: 3.86s\n",
      "609:\tlearn: 0.2212348\ttotal: 6.03s\tremaining: 3.86s\n",
      "610:\tlearn: 0.2211907\ttotal: 6.04s\tremaining: 3.85s\n",
      "611:\tlearn: 0.2211580\ttotal: 6.05s\tremaining: 3.84s\n",
      "612:\tlearn: 0.2210865\ttotal: 6.06s\tremaining: 3.83s\n",
      "613:\tlearn: 0.2210333\ttotal: 6.07s\tremaining: 3.81s\n",
      "614:\tlearn: 0.2209730\ttotal: 6.07s\tremaining: 3.8s\n",
      "615:\tlearn: 0.2209181\ttotal: 6.08s\tremaining: 3.79s\n",
      "616:\tlearn: 0.2208329\ttotal: 6.09s\tremaining: 3.78s\n",
      "617:\tlearn: 0.2207657\ttotal: 6.09s\tremaining: 3.77s\n",
      "618:\tlearn: 0.2206897\ttotal: 6.1s\tremaining: 3.75s\n",
      "619:\tlearn: 0.2205657\ttotal: 6.11s\tremaining: 3.74s\n",
      "620:\tlearn: 0.2205302\ttotal: 6.11s\tremaining: 3.73s\n",
      "621:\tlearn: 0.2205076\ttotal: 6.12s\tremaining: 3.72s\n",
      "622:\tlearn: 0.2204366\ttotal: 6.13s\tremaining: 3.71s\n",
      "623:\tlearn: 0.2203135\ttotal: 6.13s\tremaining: 3.7s\n",
      "624:\tlearn: 0.2202386\ttotal: 6.14s\tremaining: 3.68s\n",
      "625:\tlearn: 0.2201737\ttotal: 6.15s\tremaining: 3.67s\n",
      "626:\tlearn: 0.2201149\ttotal: 6.15s\tremaining: 3.66s\n",
      "627:\tlearn: 0.2200709\ttotal: 6.16s\tremaining: 3.65s\n",
      "628:\tlearn: 0.2200301\ttotal: 6.17s\tremaining: 3.64s\n",
      "629:\tlearn: 0.2199836\ttotal: 6.17s\tremaining: 3.63s\n",
      "630:\tlearn: 0.2199318\ttotal: 6.18s\tremaining: 3.61s\n",
      "631:\tlearn: 0.2198539\ttotal: 6.18s\tremaining: 3.6s\n",
      "632:\tlearn: 0.2198052\ttotal: 6.19s\tremaining: 3.59s\n",
      "633:\tlearn: 0.2197689\ttotal: 6.2s\tremaining: 3.58s\n",
      "634:\tlearn: 0.2197245\ttotal: 6.2s\tremaining: 3.57s\n",
      "635:\tlearn: 0.2196752\ttotal: 6.22s\tremaining: 3.56s\n",
      "636:\tlearn: 0.2196168\ttotal: 6.23s\tremaining: 3.55s\n",
      "637:\tlearn: 0.2195611\ttotal: 6.24s\tremaining: 3.54s\n",
      "638:\tlearn: 0.2194965\ttotal: 6.25s\tremaining: 3.53s\n",
      "639:\tlearn: 0.2194418\ttotal: 6.26s\tremaining: 3.52s\n",
      "640:\tlearn: 0.2193834\ttotal: 6.28s\tremaining: 3.51s\n",
      "641:\tlearn: 0.2193226\ttotal: 6.28s\tremaining: 3.5s\n",
      "642:\tlearn: 0.2192658\ttotal: 6.29s\tremaining: 3.49s\n",
      "643:\tlearn: 0.2192128\ttotal: 6.3s\tremaining: 3.48s\n",
      "644:\tlearn: 0.2191408\ttotal: 6.31s\tremaining: 3.47s\n",
      "645:\tlearn: 0.2191075\ttotal: 6.32s\tremaining: 3.46s\n",
      "646:\tlearn: 0.2189990\ttotal: 6.33s\tremaining: 3.45s\n",
      "647:\tlearn: 0.2189465\ttotal: 6.34s\tremaining: 3.44s\n",
      "648:\tlearn: 0.2188385\ttotal: 6.34s\tremaining: 3.43s\n",
      "649:\tlearn: 0.2188196\ttotal: 6.35s\tremaining: 3.42s\n",
      "650:\tlearn: 0.2187802\ttotal: 6.36s\tremaining: 3.41s\n",
      "651:\tlearn: 0.2187260\ttotal: 6.37s\tremaining: 3.4s\n",
      "652:\tlearn: 0.2186701\ttotal: 6.38s\tremaining: 3.39s\n",
      "653:\tlearn: 0.2186162\ttotal: 6.38s\tremaining: 3.38s\n",
      "654:\tlearn: 0.2185691\ttotal: 6.39s\tremaining: 3.37s\n",
      "655:\tlearn: 0.2185202\ttotal: 6.4s\tremaining: 3.35s\n",
      "656:\tlearn: 0.2184755\ttotal: 6.41s\tremaining: 3.34s\n"
     ]
    },
    {
     "name": "stdout",
     "output_type": "stream",
     "text": [
      "657:\tlearn: 0.2184003\ttotal: 6.42s\tremaining: 3.34s\n",
      "658:\tlearn: 0.2183234\ttotal: 6.43s\tremaining: 3.33s\n",
      "659:\tlearn: 0.2182888\ttotal: 6.45s\tremaining: 3.32s\n",
      "660:\tlearn: 0.2182675\ttotal: 6.46s\tremaining: 3.31s\n",
      "661:\tlearn: 0.2181692\ttotal: 6.48s\tremaining: 3.31s\n",
      "662:\tlearn: 0.2180973\ttotal: 6.49s\tremaining: 3.3s\n",
      "663:\tlearn: 0.2180378\ttotal: 6.51s\tremaining: 3.29s\n",
      "664:\tlearn: 0.2179883\ttotal: 6.52s\tremaining: 3.28s\n",
      "665:\tlearn: 0.2179433\ttotal: 6.52s\tremaining: 3.27s\n",
      "666:\tlearn: 0.2178683\ttotal: 6.53s\tremaining: 3.26s\n",
      "667:\tlearn: 0.2178391\ttotal: 6.54s\tremaining: 3.25s\n",
      "668:\tlearn: 0.2177754\ttotal: 6.55s\tremaining: 3.24s\n",
      "669:\tlearn: 0.2177416\ttotal: 6.56s\tremaining: 3.23s\n",
      "670:\tlearn: 0.2176965\ttotal: 6.57s\tremaining: 3.22s\n",
      "671:\tlearn: 0.2176401\ttotal: 6.57s\tremaining: 3.21s\n",
      "672:\tlearn: 0.2175859\ttotal: 6.58s\tremaining: 3.2s\n",
      "673:\tlearn: 0.2175249\ttotal: 6.59s\tremaining: 3.19s\n",
      "674:\tlearn: 0.2174642\ttotal: 6.59s\tremaining: 3.17s\n",
      "675:\tlearn: 0.2174107\ttotal: 6.6s\tremaining: 3.17s\n",
      "676:\tlearn: 0.2173772\ttotal: 6.61s\tremaining: 3.15s\n",
      "677:\tlearn: 0.2173262\ttotal: 6.63s\tremaining: 3.15s\n",
      "678:\tlearn: 0.2172590\ttotal: 6.64s\tremaining: 3.14s\n",
      "679:\tlearn: 0.2171956\ttotal: 6.66s\tremaining: 3.13s\n",
      "680:\tlearn: 0.2171508\ttotal: 6.67s\tremaining: 3.13s\n",
      "681:\tlearn: 0.2171166\ttotal: 6.68s\tremaining: 3.11s\n",
      "682:\tlearn: 0.2170643\ttotal: 6.69s\tremaining: 3.1s\n",
      "683:\tlearn: 0.2170201\ttotal: 6.71s\tremaining: 3.1s\n",
      "684:\tlearn: 0.2169556\ttotal: 6.72s\tremaining: 3.09s\n",
      "685:\tlearn: 0.2168930\ttotal: 6.73s\tremaining: 3.08s\n",
      "686:\tlearn: 0.2168217\ttotal: 6.73s\tremaining: 3.07s\n",
      "687:\tlearn: 0.2167385\ttotal: 6.74s\tremaining: 3.06s\n",
      "688:\tlearn: 0.2166643\ttotal: 6.75s\tremaining: 3.05s\n",
      "689:\tlearn: 0.2165829\ttotal: 6.76s\tremaining: 3.04s\n",
      "690:\tlearn: 0.2165419\ttotal: 6.77s\tremaining: 3.02s\n",
      "691:\tlearn: 0.2164985\ttotal: 6.78s\tremaining: 3.02s\n",
      "692:\tlearn: 0.2164289\ttotal: 6.78s\tremaining: 3s\n",
      "693:\tlearn: 0.2163970\ttotal: 6.79s\tremaining: 2.99s\n",
      "694:\tlearn: 0.2163690\ttotal: 6.8s\tremaining: 2.98s\n",
      "695:\tlearn: 0.2163178\ttotal: 6.81s\tremaining: 2.97s\n",
      "696:\tlearn: 0.2162645\ttotal: 6.81s\tremaining: 2.96s\n",
      "697:\tlearn: 0.2162243\ttotal: 6.82s\tremaining: 2.95s\n",
      "698:\tlearn: 0.2161491\ttotal: 6.83s\tremaining: 2.94s\n",
      "699:\tlearn: 0.2161010\ttotal: 6.84s\tremaining: 2.93s\n",
      "700:\tlearn: 0.2160709\ttotal: 6.85s\tremaining: 2.92s\n",
      "701:\tlearn: 0.2160257\ttotal: 6.86s\tremaining: 2.91s\n",
      "702:\tlearn: 0.2159887\ttotal: 6.86s\tremaining: 2.9s\n",
      "703:\tlearn: 0.2159274\ttotal: 6.87s\tremaining: 2.89s\n",
      "704:\tlearn: 0.2158926\ttotal: 6.88s\tremaining: 2.88s\n",
      "705:\tlearn: 0.2158450\ttotal: 6.88s\tremaining: 2.87s\n",
      "706:\tlearn: 0.2157884\ttotal: 6.89s\tremaining: 2.85s\n",
      "707:\tlearn: 0.2157201\ttotal: 6.9s\tremaining: 2.84s\n",
      "708:\tlearn: 0.2156529\ttotal: 6.9s\tremaining: 2.83s\n",
      "709:\tlearn: 0.2156000\ttotal: 6.91s\tremaining: 2.82s\n",
      "710:\tlearn: 0.2155577\ttotal: 6.92s\tremaining: 2.81s\n",
      "711:\tlearn: 0.2155193\ttotal: 6.92s\tremaining: 2.8s\n",
      "712:\tlearn: 0.2154383\ttotal: 6.93s\tremaining: 2.79s\n",
      "713:\tlearn: 0.2154153\ttotal: 6.94s\tremaining: 2.78s\n",
      "714:\tlearn: 0.2153476\ttotal: 6.96s\tremaining: 2.77s\n",
      "715:\tlearn: 0.2153159\ttotal: 6.97s\tremaining: 2.77s\n",
      "716:\tlearn: 0.2152505\ttotal: 7s\tremaining: 2.76s\n",
      "717:\tlearn: 0.2152127\ttotal: 7s\tremaining: 2.75s\n",
      "718:\tlearn: 0.2151760\ttotal: 7.02s\tremaining: 2.74s\n",
      "719:\tlearn: 0.2151055\ttotal: 7.03s\tremaining: 2.73s\n",
      "720:\tlearn: 0.2150655\ttotal: 7.03s\tremaining: 2.72s\n",
      "721:\tlearn: 0.2150078\ttotal: 7.04s\tremaining: 2.71s\n",
      "722:\tlearn: 0.2149544\ttotal: 7.05s\tremaining: 2.7s\n",
      "723:\tlearn: 0.2149039\ttotal: 7.06s\tremaining: 2.69s\n",
      "724:\tlearn: 0.2148539\ttotal: 7.07s\tremaining: 2.68s\n",
      "725:\tlearn: 0.2147868\ttotal: 7.07s\tremaining: 2.67s\n",
      "726:\tlearn: 0.2147362\ttotal: 7.08s\tremaining: 2.66s\n",
      "727:\tlearn: 0.2146636\ttotal: 7.08s\tremaining: 2.65s\n",
      "728:\tlearn: 0.2145956\ttotal: 7.09s\tremaining: 2.64s\n",
      "729:\tlearn: 0.2145650\ttotal: 7.1s\tremaining: 2.63s\n",
      "730:\tlearn: 0.2145266\ttotal: 7.1s\tremaining: 2.61s\n",
      "731:\tlearn: 0.2144841\ttotal: 7.11s\tremaining: 2.6s\n",
      "732:\tlearn: 0.2144292\ttotal: 7.12s\tremaining: 2.59s\n",
      "733:\tlearn: 0.2143777\ttotal: 7.12s\tremaining: 2.58s\n",
      "734:\tlearn: 0.2143444\ttotal: 7.13s\tremaining: 2.57s\n",
      "735:\tlearn: 0.2142804\ttotal: 7.14s\tremaining: 2.56s\n",
      "736:\tlearn: 0.2142242\ttotal: 7.14s\tremaining: 2.55s\n",
      "737:\tlearn: 0.2141900\ttotal: 7.15s\tremaining: 2.54s\n",
      "738:\tlearn: 0.2141531\ttotal: 7.15s\tremaining: 2.53s\n",
      "739:\tlearn: 0.2141061\ttotal: 7.16s\tremaining: 2.52s\n",
      "740:\tlearn: 0.2140743\ttotal: 7.17s\tremaining: 2.5s\n",
      "741:\tlearn: 0.2140260\ttotal: 7.17s\tremaining: 2.49s\n",
      "742:\tlearn: 0.2140023\ttotal: 7.18s\tremaining: 2.48s\n",
      "743:\tlearn: 0.2139397\ttotal: 7.19s\tremaining: 2.47s\n",
      "744:\tlearn: 0.2138803\ttotal: 7.19s\tremaining: 2.46s\n",
      "745:\tlearn: 0.2138397\ttotal: 7.21s\tremaining: 2.45s\n",
      "746:\tlearn: 0.2138010\ttotal: 7.22s\tremaining: 2.45s\n",
      "747:\tlearn: 0.2137678\ttotal: 7.24s\tremaining: 2.44s\n",
      "748:\tlearn: 0.2137053\ttotal: 7.25s\tremaining: 2.43s\n",
      "749:\tlearn: 0.2136478\ttotal: 7.26s\tremaining: 2.42s\n",
      "750:\tlearn: 0.2135759\ttotal: 7.27s\tremaining: 2.41s\n",
      "751:\tlearn: 0.2135433\ttotal: 7.28s\tremaining: 2.4s\n",
      "752:\tlearn: 0.2134836\ttotal: 7.28s\tremaining: 2.39s\n",
      "753:\tlearn: 0.2134140\ttotal: 7.29s\tremaining: 2.38s\n",
      "754:\tlearn: 0.2133635\ttotal: 7.3s\tremaining: 2.37s\n",
      "755:\tlearn: 0.2133442\ttotal: 7.3s\tremaining: 2.36s\n",
      "756:\tlearn: 0.2132808\ttotal: 7.31s\tremaining: 2.35s\n",
      "757:\tlearn: 0.2132349\ttotal: 7.32s\tremaining: 2.34s\n",
      "758:\tlearn: 0.2131738\ttotal: 7.32s\tremaining: 2.33s\n",
      "759:\tlearn: 0.2131353\ttotal: 7.33s\tremaining: 2.31s\n",
      "760:\tlearn: 0.2130605\ttotal: 7.34s\tremaining: 2.3s\n",
      "761:\tlearn: 0.2130120\ttotal: 7.34s\tremaining: 2.29s\n",
      "762:\tlearn: 0.2129668\ttotal: 7.35s\tremaining: 2.28s\n",
      "763:\tlearn: 0.2129079\ttotal: 7.36s\tremaining: 2.27s\n",
      "764:\tlearn: 0.2128408\ttotal: 7.36s\tremaining: 2.26s\n",
      "765:\tlearn: 0.2127836\ttotal: 7.37s\tremaining: 2.25s\n",
      "766:\tlearn: 0.2127365\ttotal: 7.37s\tremaining: 2.24s\n",
      "767:\tlearn: 0.2126692\ttotal: 7.38s\tremaining: 2.23s\n",
      "768:\tlearn: 0.2126094\ttotal: 7.39s\tremaining: 2.22s\n",
      "769:\tlearn: 0.2125643\ttotal: 7.4s\tremaining: 2.21s\n",
      "770:\tlearn: 0.2125488\ttotal: 7.41s\tremaining: 2.2s\n",
      "771:\tlearn: 0.2125219\ttotal: 7.42s\tremaining: 2.19s\n",
      "772:\tlearn: 0.2124991\ttotal: 7.45s\tremaining: 2.19s\n",
      "773:\tlearn: 0.2124689\ttotal: 7.45s\tremaining: 2.18s\n",
      "774:\tlearn: 0.2124457\ttotal: 7.46s\tremaining: 2.17s\n",
      "775:\tlearn: 0.2124146\ttotal: 7.47s\tremaining: 2.16s\n",
      "776:\tlearn: 0.2123720\ttotal: 7.48s\tremaining: 2.15s\n",
      "777:\tlearn: 0.2123156\ttotal: 7.49s\tremaining: 2.14s\n",
      "778:\tlearn: 0.2122539\ttotal: 7.5s\tremaining: 2.13s\n",
      "779:\tlearn: 0.2121974\ttotal: 7.51s\tremaining: 2.12s\n",
      "780:\tlearn: 0.2121333\ttotal: 7.51s\tremaining: 2.11s\n",
      "781:\tlearn: 0.2120984\ttotal: 7.52s\tremaining: 2.1s\n",
      "782:\tlearn: 0.2120430\ttotal: 7.53s\tremaining: 2.09s\n",
      "783:\tlearn: 0.2120156\ttotal: 7.53s\tremaining: 2.08s\n",
      "784:\tlearn: 0.2119494\ttotal: 7.54s\tremaining: 2.06s\n",
      "785:\tlearn: 0.2118818\ttotal: 7.55s\tremaining: 2.06s\n",
      "786:\tlearn: 0.2118210\ttotal: 7.55s\tremaining: 2.04s\n",
      "787:\tlearn: 0.2117817\ttotal: 7.56s\tremaining: 2.03s\n",
      "788:\tlearn: 0.2117432\ttotal: 7.57s\tremaining: 2.02s\n",
      "789:\tlearn: 0.2116843\ttotal: 7.57s\tremaining: 2.01s\n",
      "790:\tlearn: 0.2116168\ttotal: 7.58s\tremaining: 2s\n",
      "791:\tlearn: 0.2115572\ttotal: 7.59s\tremaining: 1.99s\n",
      "792:\tlearn: 0.2114812\ttotal: 7.59s\tremaining: 1.98s\n",
      "793:\tlearn: 0.2114365\ttotal: 7.6s\tremaining: 1.97s\n",
      "794:\tlearn: 0.2113822\ttotal: 7.61s\tremaining: 1.96s\n",
      "795:\tlearn: 0.2113416\ttotal: 7.62s\tremaining: 1.95s\n",
      "796:\tlearn: 0.2112798\ttotal: 7.63s\tremaining: 1.94s\n",
      "797:\tlearn: 0.2112373\ttotal: 7.64s\tremaining: 1.93s\n",
      "798:\tlearn: 0.2112045\ttotal: 7.64s\tremaining: 1.92s\n",
      "799:\tlearn: 0.2111731\ttotal: 7.65s\tremaining: 1.91s\n",
      "800:\tlearn: 0.2111497\ttotal: 7.66s\tremaining: 1.9s\n",
      "801:\tlearn: 0.2110997\ttotal: 7.66s\tremaining: 1.89s\n",
      "802:\tlearn: 0.2110624\ttotal: 7.67s\tremaining: 1.88s\n",
      "803:\tlearn: 0.2110245\ttotal: 7.68s\tremaining: 1.87s\n",
      "804:\tlearn: 0.2109712\ttotal: 7.68s\tremaining: 1.86s\n",
      "805:\tlearn: 0.2109313\ttotal: 7.69s\tremaining: 1.85s\n",
      "806:\tlearn: 0.2108941\ttotal: 7.7s\tremaining: 1.84s\n",
      "807:\tlearn: 0.2108289\ttotal: 7.71s\tremaining: 1.83s\n",
      "808:\tlearn: 0.2107460\ttotal: 7.72s\tremaining: 1.82s\n",
      "809:\tlearn: 0.2107183\ttotal: 7.72s\tremaining: 1.81s\n",
      "810:\tlearn: 0.2106773\ttotal: 7.73s\tremaining: 1.8s\n",
      "811:\tlearn: 0.2106276\ttotal: 7.74s\tremaining: 1.79s\n",
      "812:\tlearn: 0.2105924\ttotal: 7.74s\tremaining: 1.78s\n",
      "813:\tlearn: 0.2105290\ttotal: 7.75s\tremaining: 1.77s\n",
      "814:\tlearn: 0.2104336\ttotal: 7.76s\tremaining: 1.76s\n",
      "815:\tlearn: 0.2103851\ttotal: 7.77s\tremaining: 1.75s\n"
     ]
    },
    {
     "name": "stdout",
     "output_type": "stream",
     "text": [
      "816:\tlearn: 0.2103463\ttotal: 7.78s\tremaining: 1.74s\n",
      "817:\tlearn: 0.2102971\ttotal: 7.8s\tremaining: 1.74s\n",
      "818:\tlearn: 0.2102459\ttotal: 7.81s\tremaining: 1.73s\n",
      "819:\tlearn: 0.2101839\ttotal: 7.82s\tremaining: 1.72s\n",
      "820:\tlearn: 0.2101358\ttotal: 7.83s\tremaining: 1.71s\n",
      "821:\tlearn: 0.2100870\ttotal: 7.84s\tremaining: 1.7s\n",
      "822:\tlearn: 0.2100352\ttotal: 7.85s\tremaining: 1.69s\n",
      "823:\tlearn: 0.2099903\ttotal: 7.86s\tremaining: 1.68s\n",
      "824:\tlearn: 0.2099010\ttotal: 7.86s\tremaining: 1.67s\n",
      "825:\tlearn: 0.2098255\ttotal: 7.87s\tremaining: 1.66s\n",
      "826:\tlearn: 0.2097554\ttotal: 7.88s\tremaining: 1.65s\n",
      "827:\tlearn: 0.2096961\ttotal: 7.88s\tremaining: 1.64s\n",
      "828:\tlearn: 0.2096448\ttotal: 7.89s\tremaining: 1.63s\n",
      "829:\tlearn: 0.2095886\ttotal: 7.9s\tremaining: 1.62s\n",
      "830:\tlearn: 0.2095375\ttotal: 7.9s\tremaining: 1.61s\n",
      "831:\tlearn: 0.2094808\ttotal: 7.91s\tremaining: 1.6s\n",
      "832:\tlearn: 0.2094117\ttotal: 7.92s\tremaining: 1.59s\n",
      "833:\tlearn: 0.2093616\ttotal: 7.93s\tremaining: 1.58s\n",
      "834:\tlearn: 0.2093413\ttotal: 7.94s\tremaining: 1.57s\n",
      "835:\tlearn: 0.2092910\ttotal: 7.96s\tremaining: 1.56s\n",
      "836:\tlearn: 0.2092541\ttotal: 7.97s\tremaining: 1.55s\n",
      "837:\tlearn: 0.2092440\ttotal: 7.98s\tremaining: 1.54s\n",
      "838:\tlearn: 0.2091921\ttotal: 7.99s\tremaining: 1.53s\n",
      "839:\tlearn: 0.2091445\ttotal: 7.99s\tremaining: 1.52s\n",
      "840:\tlearn: 0.2091054\ttotal: 8s\tremaining: 1.51s\n",
      "841:\tlearn: 0.2090466\ttotal: 8s\tremaining: 1.5s\n",
      "842:\tlearn: 0.2090235\ttotal: 8.02s\tremaining: 1.49s\n",
      "843:\tlearn: 0.2090035\ttotal: 8.03s\tremaining: 1.48s\n",
      "844:\tlearn: 0.2089664\ttotal: 8.03s\tremaining: 1.47s\n",
      "845:\tlearn: 0.2088947\ttotal: 8.04s\tremaining: 1.46s\n",
      "846:\tlearn: 0.2088335\ttotal: 8.05s\tremaining: 1.45s\n",
      "847:\tlearn: 0.2087671\ttotal: 8.05s\tremaining: 1.44s\n",
      "848:\tlearn: 0.2087170\ttotal: 8.06s\tremaining: 1.43s\n",
      "849:\tlearn: 0.2086736\ttotal: 8.07s\tremaining: 1.42s\n",
      "850:\tlearn: 0.2086085\ttotal: 8.07s\tremaining: 1.41s\n",
      "851:\tlearn: 0.2085911\ttotal: 8.08s\tremaining: 1.4s\n",
      "852:\tlearn: 0.2085022\ttotal: 8.09s\tremaining: 1.39s\n",
      "853:\tlearn: 0.2084442\ttotal: 8.09s\tremaining: 1.38s\n",
      "854:\tlearn: 0.2083988\ttotal: 8.1s\tremaining: 1.37s\n",
      "855:\tlearn: 0.2083627\ttotal: 8.11s\tremaining: 1.36s\n",
      "856:\tlearn: 0.2083164\ttotal: 8.13s\tremaining: 1.35s\n",
      "857:\tlearn: 0.2082679\ttotal: 8.15s\tremaining: 1.35s\n",
      "858:\tlearn: 0.2082366\ttotal: 8.16s\tremaining: 1.34s\n",
      "859:\tlearn: 0.2081910\ttotal: 8.18s\tremaining: 1.33s\n",
      "860:\tlearn: 0.2081401\ttotal: 8.21s\tremaining: 1.32s\n",
      "861:\tlearn: 0.2080884\ttotal: 8.24s\tremaining: 1.32s\n",
      "862:\tlearn: 0.2080541\ttotal: 8.25s\tremaining: 1.31s\n",
      "863:\tlearn: 0.2080262\ttotal: 8.26s\tremaining: 1.3s\n",
      "864:\tlearn: 0.2079878\ttotal: 8.28s\tremaining: 1.29s\n",
      "865:\tlearn: 0.2079735\ttotal: 8.29s\tremaining: 1.28s\n",
      "866:\tlearn: 0.2079157\ttotal: 8.3s\tremaining: 1.27s\n",
      "867:\tlearn: 0.2078875\ttotal: 8.32s\tremaining: 1.26s\n",
      "868:\tlearn: 0.2078349\ttotal: 8.33s\tremaining: 1.25s\n",
      "869:\tlearn: 0.2077968\ttotal: 8.34s\tremaining: 1.25s\n",
      "870:\tlearn: 0.2077151\ttotal: 8.35s\tremaining: 1.24s\n",
      "871:\tlearn: 0.2076923\ttotal: 8.36s\tremaining: 1.23s\n",
      "872:\tlearn: 0.2076219\ttotal: 8.37s\tremaining: 1.22s\n",
      "873:\tlearn: 0.2075552\ttotal: 8.38s\tremaining: 1.21s\n",
      "874:\tlearn: 0.2075233\ttotal: 8.38s\tremaining: 1.2s\n",
      "875:\tlearn: 0.2074647\ttotal: 8.39s\tremaining: 1.19s\n",
      "876:\tlearn: 0.2074455\ttotal: 8.4s\tremaining: 1.18s\n",
      "877:\tlearn: 0.2073877\ttotal: 8.41s\tremaining: 1.17s\n",
      "878:\tlearn: 0.2073418\ttotal: 8.42s\tremaining: 1.16s\n",
      "879:\tlearn: 0.2072982\ttotal: 8.43s\tremaining: 1.15s\n",
      "880:\tlearn: 0.2072540\ttotal: 8.44s\tremaining: 1.14s\n",
      "881:\tlearn: 0.2072265\ttotal: 8.45s\tremaining: 1.13s\n",
      "882:\tlearn: 0.2071650\ttotal: 8.45s\tremaining: 1.12s\n",
      "883:\tlearn: 0.2071071\ttotal: 8.46s\tremaining: 1.11s\n",
      "884:\tlearn: 0.2070693\ttotal: 8.47s\tremaining: 1.1s\n",
      "885:\tlearn: 0.2070196\ttotal: 8.47s\tremaining: 1.09s\n",
      "886:\tlearn: 0.2069613\ttotal: 8.48s\tremaining: 1.08s\n",
      "887:\tlearn: 0.2069361\ttotal: 8.49s\tremaining: 1.07s\n",
      "888:\tlearn: 0.2068971\ttotal: 8.49s\tremaining: 1.06s\n",
      "889:\tlearn: 0.2068714\ttotal: 8.51s\tremaining: 1.05s\n",
      "890:\tlearn: 0.2068247\ttotal: 8.52s\tremaining: 1.04s\n",
      "891:\tlearn: 0.2067970\ttotal: 8.52s\tremaining: 1.03s\n",
      "892:\tlearn: 0.2067383\ttotal: 8.54s\tremaining: 1.02s\n",
      "893:\tlearn: 0.2066936\ttotal: 8.54s\tremaining: 1.01s\n",
      "894:\tlearn: 0.2066582\ttotal: 8.55s\tremaining: 1s\n",
      "895:\tlearn: 0.2066058\ttotal: 8.56s\tremaining: 993ms\n",
      "896:\tlearn: 0.2065705\ttotal: 8.56s\tremaining: 983ms\n",
      "897:\tlearn: 0.2065072\ttotal: 8.57s\tremaining: 974ms\n",
      "898:\tlearn: 0.2064614\ttotal: 8.58s\tremaining: 964ms\n",
      "899:\tlearn: 0.2064074\ttotal: 8.59s\tremaining: 954ms\n",
      "900:\tlearn: 0.2063711\ttotal: 8.59s\tremaining: 944ms\n",
      "901:\tlearn: 0.2063264\ttotal: 8.6s\tremaining: 934ms\n",
      "902:\tlearn: 0.2063040\ttotal: 8.61s\tremaining: 924ms\n",
      "903:\tlearn: 0.2062681\ttotal: 8.61s\tremaining: 915ms\n",
      "904:\tlearn: 0.2062343\ttotal: 8.62s\tremaining: 905ms\n",
      "905:\tlearn: 0.2061896\ttotal: 8.62s\tremaining: 895ms\n",
      "906:\tlearn: 0.2061372\ttotal: 8.63s\tremaining: 885ms\n",
      "907:\tlearn: 0.2061150\ttotal: 8.64s\tremaining: 875ms\n",
      "908:\tlearn: 0.2060350\ttotal: 8.64s\tremaining: 865ms\n",
      "909:\tlearn: 0.2060021\ttotal: 8.65s\tremaining: 855ms\n",
      "910:\tlearn: 0.2059401\ttotal: 8.66s\tremaining: 846ms\n",
      "911:\tlearn: 0.2058788\ttotal: 8.68s\tremaining: 837ms\n",
      "912:\tlearn: 0.2058354\ttotal: 8.68s\tremaining: 827ms\n",
      "913:\tlearn: 0.2058099\ttotal: 8.71s\tremaining: 820ms\n",
      "914:\tlearn: 0.2057693\ttotal: 8.73s\tremaining: 811ms\n",
      "915:\tlearn: 0.2057263\ttotal: 8.74s\tremaining: 802ms\n",
      "916:\tlearn: 0.2056868\ttotal: 8.76s\tremaining: 793ms\n",
      "917:\tlearn: 0.2056424\ttotal: 8.77s\tremaining: 784ms\n",
      "918:\tlearn: 0.2056059\ttotal: 8.78s\tremaining: 774ms\n",
      "919:\tlearn: 0.2055662\ttotal: 8.79s\tremaining: 764ms\n",
      "920:\tlearn: 0.2054895\ttotal: 8.81s\tremaining: 755ms\n",
      "921:\tlearn: 0.2054548\ttotal: 8.82s\tremaining: 746ms\n",
      "922:\tlearn: 0.2054038\ttotal: 8.82s\tremaining: 736ms\n",
      "923:\tlearn: 0.2053352\ttotal: 8.83s\tremaining: 727ms\n",
      "924:\tlearn: 0.2052830\ttotal: 8.85s\tremaining: 718ms\n",
      "925:\tlearn: 0.2052152\ttotal: 8.87s\tremaining: 709ms\n",
      "926:\tlearn: 0.2051715\ttotal: 8.89s\tremaining: 700ms\n",
      "927:\tlearn: 0.2051267\ttotal: 8.9s\tremaining: 691ms\n",
      "928:\tlearn: 0.2050715\ttotal: 8.92s\tremaining: 682ms\n",
      "929:\tlearn: 0.2050130\ttotal: 8.94s\tremaining: 673ms\n",
      "930:\tlearn: 0.2049368\ttotal: 8.96s\tremaining: 664ms\n",
      "931:\tlearn: 0.2048958\ttotal: 8.97s\tremaining: 654ms\n",
      "932:\tlearn: 0.2048673\ttotal: 8.98s\tremaining: 645ms\n",
      "933:\tlearn: 0.2048295\ttotal: 8.99s\tremaining: 635ms\n",
      "934:\tlearn: 0.2047934\ttotal: 9s\tremaining: 626ms\n",
      "935:\tlearn: 0.2047399\ttotal: 9.01s\tremaining: 616ms\n",
      "936:\tlearn: 0.2047007\ttotal: 9.02s\tremaining: 606ms\n",
      "937:\tlearn: 0.2046569\ttotal: 9.03s\tremaining: 597ms\n",
      "938:\tlearn: 0.2046132\ttotal: 9.03s\tremaining: 587ms\n",
      "939:\tlearn: 0.2045713\ttotal: 9.04s\tremaining: 577ms\n",
      "940:\tlearn: 0.2045321\ttotal: 9.04s\tremaining: 567ms\n",
      "941:\tlearn: 0.2044745\ttotal: 9.05s\tremaining: 557ms\n",
      "942:\tlearn: 0.2044374\ttotal: 9.06s\tremaining: 548ms\n",
      "943:\tlearn: 0.2043754\ttotal: 9.07s\tremaining: 538ms\n",
      "944:\tlearn: 0.2043475\ttotal: 9.07s\tremaining: 528ms\n",
      "945:\tlearn: 0.2042818\ttotal: 9.08s\tremaining: 518ms\n",
      "946:\tlearn: 0.2042311\ttotal: 9.09s\tremaining: 509ms\n",
      "947:\tlearn: 0.2041918\ttotal: 9.1s\tremaining: 499ms\n",
      "948:\tlearn: 0.2041387\ttotal: 9.11s\tremaining: 490ms\n",
      "949:\tlearn: 0.2040917\ttotal: 9.12s\tremaining: 480ms\n",
      "950:\tlearn: 0.2040680\ttotal: 9.13s\tremaining: 470ms\n",
      "951:\tlearn: 0.2040000\ttotal: 9.13s\tremaining: 461ms\n",
      "952:\tlearn: 0.2039669\ttotal: 9.14s\tremaining: 451ms\n",
      "953:\tlearn: 0.2039258\ttotal: 9.15s\tremaining: 441ms\n",
      "954:\tlearn: 0.2038892\ttotal: 9.15s\tremaining: 431ms\n",
      "955:\tlearn: 0.2038387\ttotal: 9.16s\tremaining: 422ms\n",
      "956:\tlearn: 0.2038051\ttotal: 9.17s\tremaining: 412ms\n",
      "957:\tlearn: 0.2037651\ttotal: 9.18s\tremaining: 402ms\n",
      "958:\tlearn: 0.2037531\ttotal: 9.19s\tremaining: 393ms\n",
      "959:\tlearn: 0.2036944\ttotal: 9.19s\tremaining: 383ms\n",
      "960:\tlearn: 0.2036640\ttotal: 9.2s\tremaining: 374ms\n",
      "961:\tlearn: 0.2036409\ttotal: 9.21s\tremaining: 364ms\n",
      "962:\tlearn: 0.2035690\ttotal: 9.22s\tremaining: 354ms\n",
      "963:\tlearn: 0.2035375\ttotal: 9.23s\tremaining: 345ms\n",
      "964:\tlearn: 0.2035242\ttotal: 9.24s\tremaining: 335ms\n",
      "965:\tlearn: 0.2034811\ttotal: 9.26s\tremaining: 326ms\n",
      "966:\tlearn: 0.2034668\ttotal: 9.27s\tremaining: 316ms\n",
      "967:\tlearn: 0.2034357\ttotal: 9.27s\tremaining: 307ms\n",
      "968:\tlearn: 0.2033420\ttotal: 9.29s\tremaining: 297ms\n",
      "969:\tlearn: 0.2033198\ttotal: 9.3s\tremaining: 288ms\n",
      "970:\tlearn: 0.2032350\ttotal: 9.31s\tremaining: 278ms\n",
      "971:\tlearn: 0.2031871\ttotal: 9.32s\tremaining: 269ms\n",
      "972:\tlearn: 0.2031380\ttotal: 9.33s\tremaining: 259ms\n",
      "973:\tlearn: 0.2030754\ttotal: 9.35s\tremaining: 249ms\n",
      "974:\tlearn: 0.2030230\ttotal: 9.35s\tremaining: 240ms\n",
      "975:\tlearn: 0.2029588\ttotal: 9.36s\tremaining: 230ms\n",
      "976:\tlearn: 0.2029148\ttotal: 9.37s\tremaining: 221ms\n",
      "977:\tlearn: 0.2028440\ttotal: 9.38s\tremaining: 211ms\n",
      "978:\tlearn: 0.2027981\ttotal: 9.39s\tremaining: 202ms\n",
      "979:\tlearn: 0.2027635\ttotal: 9.4s\tremaining: 192ms\n",
      "980:\tlearn: 0.2027406\ttotal: 9.41s\tremaining: 182ms\n",
      "981:\tlearn: 0.2027141\ttotal: 9.43s\tremaining: 173ms\n",
      "982:\tlearn: 0.2026605\ttotal: 9.44s\tremaining: 163ms\n",
      "983:\tlearn: 0.2026301\ttotal: 9.46s\tremaining: 154ms\n",
      "984:\tlearn: 0.2025766\ttotal: 9.47s\tremaining: 144ms\n"
     ]
    },
    {
     "name": "stdout",
     "output_type": "stream",
     "text": [
      "985:\tlearn: 0.2025210\ttotal: 9.5s\tremaining: 135ms\n",
      "986:\tlearn: 0.2025020\ttotal: 9.54s\tremaining: 126ms\n",
      "987:\tlearn: 0.2024221\ttotal: 9.55s\tremaining: 116ms\n",
      "988:\tlearn: 0.2023865\ttotal: 9.57s\tremaining: 106ms\n",
      "989:\tlearn: 0.2023231\ttotal: 9.57s\tremaining: 96.7ms\n",
      "990:\tlearn: 0.2022492\ttotal: 9.58s\tremaining: 87ms\n",
      "991:\tlearn: 0.2022261\ttotal: 9.59s\tremaining: 77.3ms\n",
      "992:\tlearn: 0.2021960\ttotal: 9.6s\tremaining: 67.7ms\n",
      "993:\tlearn: 0.2021734\ttotal: 9.61s\tremaining: 58ms\n",
      "994:\tlearn: 0.2021270\ttotal: 9.62s\tremaining: 48.3ms\n",
      "995:\tlearn: 0.2021128\ttotal: 9.62s\tremaining: 38.7ms\n",
      "996:\tlearn: 0.2020628\ttotal: 9.63s\tremaining: 29ms\n",
      "997:\tlearn: 0.2020112\ttotal: 9.64s\tremaining: 19.3ms\n",
      "998:\tlearn: 0.2019621\ttotal: 9.65s\tremaining: 9.66ms\n",
      "999:\tlearn: 0.2019112\ttotal: 9.66s\tremaining: 0us\n"
     ]
    }
   ],
   "source": [
    "%%capture\n",
    "model = CatBoostRegressor()\n",
    "model.fit(x_train_17, y_train_17)\n",
    "y_pred_17 = model.predict(x_test_17)"
   ]
  },
  {
   "cell_type": "code",
   "execution_count": 247,
   "id": "082649d0",
   "metadata": {},
   "outputs": [
    {
     "name": "stdout",
     "output_type": "stream",
     "text": [
      "MSE for CatBoost 2017 is: 0.10455539357877403\n"
     ]
    }
   ],
   "source": [
    "mse = mean_squared_error(y_test_17, y_pred_17)\n",
    "print('MSE for CatBoost 2017 is: ' + str(mse))"
   ]
  },
  {
   "cell_type": "code",
   "execution_count": 248,
   "id": "a3c47125",
   "metadata": {},
   "outputs": [
    {
     "name": "stdout",
     "output_type": "stream",
     "text": [
      "RMSE for CatBoost 2017 is: 0.32335026454106086\n"
     ]
    }
   ],
   "source": [
    "rmse = mean_squared_error(y_test_17, y_pred_17, squared = False)\n",
    "print('RMSE for CatBoost 2017 is: ' + str(rmse))"
   ]
  },
  {
   "cell_type": "code",
   "execution_count": 249,
   "id": "64d71e25",
   "metadata": {},
   "outputs": [
    {
     "name": "stdout",
     "output_type": "stream",
     "text": [
      "Accuracy of properties at +- 10% of actual prices is 0.40134941729707624\n"
     ]
    }
   ],
   "source": [
    "acc = accuracy_threshold(y_test_17, y_pred_17, 0.1)\n",
    "print('Accuracy of properties at +- 10% of actual prices is ' + str(acc))"
   ]
  },
  {
   "cell_type": "code",
   "execution_count": 250,
   "id": "f6984666",
   "metadata": {},
   "outputs": [
    {
     "name": "stdout",
     "output_type": "stream",
     "text": [
      "Median Absolute Error:\n",
      "\n",
      "0.13389053255591676\n"
     ]
    }
   ],
   "source": [
    "median_se = np.square(np.subtract(y_test_17, y_pred_17)).median() \n",
    " \n",
    "med = math.sqrt(median_se)\n",
    "print(\"Median Absolute Error:\\n\")\n",
    "print(med)"
   ]
  },
  {
   "cell_type": "code",
   "execution_count": 251,
   "id": "cb802c7d",
   "metadata": {},
   "outputs": [
    {
     "name": "stdout",
     "output_type": "stream",
     "text": [
      "MAPE for CatBoost 2017 is: 0.016212075119706442\n"
     ]
    }
   ],
   "source": [
    "mape = mean_absolute_percentage_error(y_test_17, y_pred_17)\n",
    "print(\"MAPE for CatBoost 2017 is: \" + str(mape))"
   ]
  },
  {
   "cell_type": "code",
   "execution_count": 252,
   "id": "5b1cf780",
   "metadata": {},
   "outputs": [],
   "source": [
    "cnames = ['Algorithm', 'Year', 'RMSE', 'MSE', 'MEDAE', 'Accuracy', 'MAPE']\n",
    "df28 = pd.DataFrame(columns = cnames)\n",
    "\n",
    "df28 = df28.append({'Algorithm': 'CatBoost',\n",
    "           'Year': 2017,\n",
    "           'RMSE': rmse,\n",
    "           'MSE': mse,\n",
    "           'MEDAE': med,\n",
    "           'Accuracy': acc,\n",
    "           'MAPE': mape         \n",
    "          }, ignore_index = True)"
   ]
  },
  {
   "cell_type": "markdown",
   "id": "72562a1a",
   "metadata": {},
   "source": [
    "### BayesianRidge"
   ]
  },
  {
   "cell_type": "code",
   "execution_count": 253,
   "id": "59e9f148",
   "metadata": {},
   "outputs": [
    {
     "name": "stdout",
     "output_type": "stream",
     "text": [
      "MSE for BayesianRidge 2017 is: 0.10898427679487269\n"
     ]
    }
   ],
   "source": [
    "clf = BayesianRidge()\n",
    "clf.fit(x_train_17, y_train_17)\n",
    "y_pred_17 = clf.predict(x_test_17)\n",
    "# Calculation of Mean Squared Error (MSE)\n",
    "mse = mean_squared_error(y_test_17, y_pred_17)\n",
    "print('MSE for BayesianRidge 2017 is: ' + str(mse))"
   ]
  },
  {
   "cell_type": "code",
   "execution_count": 254,
   "id": "1dff6d36",
   "metadata": {},
   "outputs": [
    {
     "name": "stdout",
     "output_type": "stream",
     "text": [
      "RMSE for BayesianRidge 2017 is: 0.33012766741803495\n"
     ]
    }
   ],
   "source": [
    "rmse = mean_squared_error(y_test_17, y_pred_17, squared = False)\n",
    "print('RMSE for BayesianRidge 2017 is: ' + str(rmse))"
   ]
  },
  {
   "cell_type": "code",
   "execution_count": 255,
   "id": "432254a9",
   "metadata": {},
   "outputs": [
    {
     "name": "stdout",
     "output_type": "stream",
     "text": [
      "Accuracy of properties at +- 10% of actual prices is 0.3504395829073809\n"
     ]
    }
   ],
   "source": [
    "acc = accuracy_threshold(y_test_17, y_pred_17, 0.1)\n",
    "print('Accuracy of properties at +- 10% of actual prices is ' + str(acc))"
   ]
  },
  {
   "cell_type": "code",
   "execution_count": 256,
   "id": "5e73847c",
   "metadata": {},
   "outputs": [
    {
     "name": "stdout",
     "output_type": "stream",
     "text": [
      "Median Absolute Error:\n",
      "\n",
      "0.15689529700591898\n"
     ]
    }
   ],
   "source": [
    "median_se = np.square(np.subtract(y_test_17, y_pred_17)).median() \n",
    " \n",
    "med = math.sqrt(median_se)\n",
    "print(\"Median Absolute Error:\\n\")\n",
    "print(med)"
   ]
  },
  {
   "cell_type": "code",
   "execution_count": 257,
   "id": "27b263d2",
   "metadata": {},
   "outputs": [
    {
     "name": "stdout",
     "output_type": "stream",
     "text": [
      "MAPE for BayesianRidge 2017 is: 0.01805781654771876\n"
     ]
    }
   ],
   "source": [
    "mape = mean_absolute_percentage_error(y_test_17, y_pred_17)\n",
    "print(\"MAPE for BayesianRidge 2017 is: \" + str(mape))"
   ]
  },
  {
   "cell_type": "code",
   "execution_count": 258,
   "id": "f56a5c0c",
   "metadata": {},
   "outputs": [],
   "source": [
    "cnames = ['Algorithm', 'Year', 'RMSE', 'MSE', 'MEDAE', 'Accuracy', 'MAPE']\n",
    "df29 = pd.DataFrame(columns = cnames)\n",
    "\n",
    "df29 = df29.append({'Algorithm': 'Bayesian',\n",
    "           'Year': 2017,\n",
    "           'RMSE': rmse,\n",
    "           'MSE': mse,\n",
    "           'MEDAE': med,\n",
    "           'Accuracy': acc,\n",
    "           'MAPE': mape         \n",
    "          }, ignore_index = True)"
   ]
  },
  {
   "cell_type": "code",
   "execution_count": 259,
   "id": "e004552a",
   "metadata": {},
   "outputs": [],
   "source": [
    "vis1 = pd.concat([df12, df13, df14, df15, df16, df17, df18, df19, df20, df21, df22, df23,\n",
    "                df24, df25, df26, df27, df28, df29], ignore_index=True)"
   ]
  },
  {
   "cell_type": "code",
   "execution_count": 260,
   "id": "6d8c9d08",
   "metadata": {},
   "outputs": [],
   "source": [
    "vis2 = pd.concat([vis, vis1], ignore_index=True)"
   ]
  },
  {
   "cell_type": "markdown",
   "id": "ad20c8a7",
   "metadata": {},
   "source": [
    "## Let's Visualize all our results "
   ]
  },
  {
   "cell_type": "code",
   "execution_count": 261,
   "id": "7c3e9111",
   "metadata": {},
   "outputs": [
    {
     "data": {
      "text/plain": [
       "<AxesSubplot:title={'center':'Mean RMSE Values 2013-21 Predictions'}, xlabel='Algorithm', ylabel='Mean RMSE'>"
      ]
     },
     "execution_count": 261,
     "metadata": {},
     "output_type": "execute_result"
    },
    {
     "data": {
      "image/png": "[encoded data removed]",
      "text/plain": [
       "<Figure size 1296x432 with 1 Axes>"
      ]
     },
     "metadata": {
      "needs_background": "light"
     },
     "output_type": "display_data"
    }
   ],
   "source": [
    "# rmse results\n",
    "grouped_multiple1 = vis2.groupby(['Algorithm']).agg({'RMSE': ['mean', 'median', 'max', 'sum']})\n",
    "grouped_multiple1.columns = ['mean','median','max','sum']\n",
    "grouped_multiple1.reset_index(inplace = True)\n",
    "distdf = grouped_multiple1.sort_values(by = ['mean'], ascending = True)\n",
    "distdf.plot.bar(x = 'Algorithm', y = 'mean', rot = 40, figsize=(18, 6), color='goldenrod', xlabel='Algorithm', ylabel='Mean RMSE', title='Mean RMSE Values 2013-21 Predictions')"
   ]
  },
  {
   "cell_type": "code",
   "execution_count": 262,
   "id": "9f8b253a",
   "metadata": {},
   "outputs": [
    {
     "data": {
      "text/plain": [
       "<AxesSubplot:title={'center':'Mean MEDAE Values 2013-21 Predictions'}, xlabel='Algorithm', ylabel='Mean MEDAE'>"
      ]
     },
     "execution_count": 262,
     "metadata": {},
     "output_type": "execute_result"
    },
    {
     "data": {
      "image/png": "[encoded data removed]",
      "text/plain": [
       "<Figure size 1296x432 with 1 Axes>"
      ]
     },
     "metadata": {
      "needs_background": "light"
     },
     "output_type": "display_data"
    }
   ],
   "source": [
    "# median results\n",
    "grouped_multiple2 = vis2.groupby(['Algorithm']).agg({'MEDAE': ['mean', 'median', 'max', 'sum']})\n",
    "grouped_multiple2.columns = ['mean','median','max','sum']\n",
    "grouped_multiple2.reset_index(inplace = True)\n",
    "distdf = grouped_multiple2.sort_values(by = ['mean'], ascending = True)\n",
    "distdf.plot.bar(x = 'Algorithm', y = 'mean', rot = 40, figsize=(18, 6), color='peru', xlabel='Algorithm', ylabel='Mean MEDAE', title='Mean MEDAE Values 2013-21 Predictions')"
   ]
  },
  {
   "cell_type": "code",
   "execution_count": 263,
   "id": "e733b52c",
   "metadata": {},
   "outputs": [
    {
     "data": {
      "text/plain": [
       "<AxesSubplot:title={'center':'Mean Accuracy Values 2013-21 Predictions'}, xlabel='Algorithm', ylabel='Average Accuracy'>"
      ]
     },
     "execution_count": 263,
     "metadata": {},
     "output_type": "execute_result"
    },
    {
     "data": {
      "image/png": "[encoded data removed]",
      "text/plain": [
       "<Figure size 1296x432 with 1 Axes>"
      ]
     },
     "metadata": {
      "needs_background": "light"
     },
     "output_type": "display_data"
    }
   ],
   "source": [
    "grouped_multiple3 = vis2.groupby(['Algorithm']).agg({'Accuracy': ['mean', 'median', 'max', 'sum', 'min']})\n",
    "grouped_multiple3.columns = ['mean','median','max','sum', 'min']\n",
    "grouped_multiple3.reset_index(inplace = True)\n",
    "distdf = grouped_multiple3.sort_values(by = ['mean'], ascending = False)\n",
    "distdf.plot.bar(x = 'Algorithm', y = 'mean', rot = 40, figsize=(18, 6), color='midnightblue', xlabel='Algorithm', ylabel='Average Accuracy', title='Mean Accuracy Values 2013-21 Predictions')"
   ]
  },
  {
   "cell_type": "code",
   "execution_count": 264,
   "id": "74541158",
   "metadata": {},
   "outputs": [
    {
     "data": {
      "text/plain": [
       "<AxesSubplot:title={'center':'Mean MSE Values 2013-21 Predictions'}, xlabel='Algorithm', ylabel='Mean MSE'>"
      ]
     },
     "execution_count": 264,
     "metadata": {},
     "output_type": "execute_result"
    },
    {
     "data": {
      "image/png": "[encoded data removed]",
      "text/plain": [
       "<Figure size 1296x432 with 1 Axes>"
      ]
     },
     "metadata": {
      "needs_background": "light"
     },
     "output_type": "display_data"
    }
   ],
   "source": [
    "# mse results\n",
    "grouped_multiple4 = vis2.groupby(['Algorithm']).agg({'MSE': ['mean', 'median', 'max', 'sum']})\n",
    "grouped_multiple4.columns = ['mean','median','max','sum']\n",
    "grouped_multiple4.reset_index(inplace = True)\n",
    "distdf = grouped_multiple4.sort_values(by = ['mean'], ascending = True)\n",
    "distdf.plot.bar(x = 'Algorithm', y = 'mean', rot = 40, figsize=(18, 6), color='forestgreen', xlabel='Algorithm', ylabel='Mean MSE', title='Mean MSE Values 2013-21 Predictions')"
   ]
  },
  {
   "cell_type": "code",
   "execution_count": 265,
   "id": "d2343c63",
   "metadata": {},
   "outputs": [
    {
     "data": {
      "text/plain": [
       "<AxesSubplot:title={'center':'Mean MAPE Values 2013-21 Predictions'}, xlabel='Algorithm', ylabel='Mean MAPE'>"
      ]
     },
     "execution_count": 265,
     "metadata": {},
     "output_type": "execute_result"
    },
    {
     "data": {
      "image/png": "[encoded data removed]",
      "text/plain": [
       "<Figure size 1296x432 with 1 Axes>"
      ]
     },
     "metadata": {
      "needs_background": "light"
     },
     "output_type": "display_data"
    }
   ],
   "source": [
    "# mape results\n",
    "grouped_multiple5 = vis2.groupby(['Algorithm']).agg({'MAPE': ['mean', 'median', 'max', 'sum']})\n",
    "grouped_multiple5.columns = ['mean','median','max','sum']\n",
    "grouped_multiple5.reset_index(inplace = True)\n",
    "distdf = grouped_multiple5.sort_values(by = ['mean'], ascending = True)\n",
    "distdf.plot.bar(x = 'Algorithm', y = 'mean', rot = 40, figsize=(18, 6), color='seagreen', xlabel='Algorithm', ylabel='Mean MAPE', title='Mean MAPE Values 2013-21 Predictions')"
   ]
  },
  {
   "cell_type": "markdown",
   "id": "f05b1903",
   "metadata": {},
   "source": [
    "Result that can be compared around 6/7 % off [this](https://arxiv.org/pdf/2108.09175.pdf), (slightly diff approach taken by me predicting yearly however!)"
   ]
  },
  {
   "cell_type": "code",
   "execution_count": 266,
   "id": "7278a64b",
   "metadata": {},
   "outputs": [
    {
     "data": {
      "text/html": [
       "<div>\n",
       "<style scoped>\n",
       "    .dataframe tbody tr th:only-of-type {\n",
       "        vertical-align: middle;\n",
       "    }\n",
       "\n",
       "    .dataframe tbody tr th {\n",
       "        vertical-align: top;\n",
       "    }\n",
       "\n",
       "    .dataframe thead th {\n",
       "        text-align: right;\n",
       "    }\n",
       "</style>\n",
       "<table border=\"1\" class=\"dataframe\">\n",
       "  <thead>\n",
       "    <tr style=\"text-align: right;\">\n",
       "      <th></th>\n",
       "      <th>Algorithm</th>\n",
       "      <th>mean</th>\n",
       "      <th>median</th>\n",
       "      <th>max</th>\n",
       "      <th>sum</th>\n",
       "      <th>min</th>\n",
       "    </tr>\n",
       "  </thead>\n",
       "  <tbody>\n",
       "    <tr>\n",
       "      <th>3</th>\n",
       "      <td>CatBoost</td>\n",
       "      <td>0.394423</td>\n",
       "      <td>0.399706</td>\n",
       "      <td>0.411246</td>\n",
       "      <td>1.972115</td>\n",
       "      <td>0.363047</td>\n",
       "    </tr>\n",
       "    <tr>\n",
       "      <th>1</th>\n",
       "      <td>AutoML</td>\n",
       "      <td>0.386041</td>\n",
       "      <td>0.387705</td>\n",
       "      <td>0.406630</td>\n",
       "      <td>1.930206</td>\n",
       "      <td>0.357761</td>\n",
       "    </tr>\n",
       "    <tr>\n",
       "      <th>4</th>\n",
       "      <td>LightGBM</td>\n",
       "      <td>0.383833</td>\n",
       "      <td>0.388060</td>\n",
       "      <td>0.399916</td>\n",
       "      <td>1.919166</td>\n",
       "      <td>0.346228</td>\n",
       "    </tr>\n",
       "    <tr>\n",
       "      <th>2</th>\n",
       "      <td>Bayesian</td>\n",
       "      <td>0.346256</td>\n",
       "      <td>0.347539</td>\n",
       "      <td>0.356693</td>\n",
       "      <td>1.731281</td>\n",
       "      <td>0.331571</td>\n",
       "    </tr>\n",
       "    <tr>\n",
       "      <th>5</th>\n",
       "      <td>MLR</td>\n",
       "      <td>0.346112</td>\n",
       "      <td>0.345089</td>\n",
       "      <td>0.359421</td>\n",
       "      <td>1.730561</td>\n",
       "      <td>0.331812</td>\n",
       "    </tr>\n",
       "    <tr>\n",
       "      <th>0</th>\n",
       "      <td>AdaBoost</td>\n",
       "      <td>0.249082</td>\n",
       "      <td>0.260103</td>\n",
       "      <td>0.270667</td>\n",
       "      <td>1.245411</td>\n",
       "      <td>0.195339</td>\n",
       "    </tr>\n",
       "  </tbody>\n",
       "</table>\n",
       "</div>"
      ],
      "text/plain": [
       "  Algorithm      mean    median       max       sum       min\n",
       "3  CatBoost  0.394423  0.399706  0.411246  1.972115  0.363047\n",
       "1    AutoML  0.386041  0.387705  0.406630  1.930206  0.357761\n",
       "4  LightGBM  0.383833  0.388060  0.399916  1.919166  0.346228\n",
       "2  Bayesian  0.346256  0.347539  0.356693  1.731281  0.331571\n",
       "5       MLR  0.346112  0.345089  0.359421  1.730561  0.331812\n",
       "0  AdaBoost  0.249082  0.260103  0.270667  1.245411  0.195339"
      ]
     },
     "execution_count": 266,
     "metadata": {},
     "output_type": "execute_result"
    }
   ],
   "source": [
    "grouped_multiple3.sort_values(by = 'mean', ascending = False)"
   ]
  },
  {
   "cell_type": "code",
   "execution_count": 267,
   "id": "224ad6d2",
   "metadata": {},
   "outputs": [
    {
     "data": {
      "text/plain": [
       "<AxesSubplot:title={'center':'Performance of ML algorithms accuracy from 2017-2021 Predictions'}, xlabel='Year'>"
      ]
     },
     "execution_count": 267,
     "metadata": {},
     "output_type": "execute_result"
    },
    {
     "data": {
      "image/png": "[encoded data removed]",
      "text/plain": [
       "<Figure size 1296x432 with 1 Axes>"
      ]
     },
     "metadata": {
      "needs_background": "light"
     },
     "output_type": "display_data"
    }
   ],
   "source": [
    "# yearly accuracy results\n",
    "df = vis2.pivot(index = 'Year', columns = 'Algorithm', values = 'Accuracy')\n",
    "df.plot(figsize = (18, 6), title = 'Performance of ML algorithms accuracy from 2017-2021 Predictions')"
   ]
  },
  {
   "cell_type": "markdown",
   "id": "2503f61a",
   "metadata": {},
   "source": [
    "## Little over 2% improvement on default implementation with same libraries\n",
    "\n",
    "Pitch data improves by 0.2% more.\n",
    "\n",
    "To do:\n",
    "\n",
    "- TPOT AutoML and SHAP"
   ]
  }
 ],
 "metadata": {
  "kernelspec": {
   "display_name": "Python 3 (ipykernel)",
   "language": "python",
   "name": "python3"
  },
  "language_info": {
   "codemirror_mode": {
    "name": "ipython",
    "version": 3
   },
   "file_extension": ".py",
   "mimetype": "text/x-python",
   "name": "python",
   "nbconvert_exporter": "python",
   "pygments_lexer": "ipython3",
   "version": "3.8.12"
  }
 },
 "nbformat": 4,
 "nbformat_minor": 5
}
