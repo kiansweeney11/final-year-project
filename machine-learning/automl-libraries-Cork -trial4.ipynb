{
 "cells": [
  {
   "cell_type": "code",
   "execution_count": 1,
   "id": "384443d8",
   "metadata": {},
   "outputs": [
    {
     "name": "stdout",
     "output_type": "stream",
     "text": [
      "Imported sci-kit learn and AutoML libraries!\n"
     ]
    }
   ],
   "source": [
    "import pandas as pd\n",
    "import numpy as np\n",
    "from sklearn.datasets import make_classification\n",
    "from sklearn.model_selection import train_test_split\n",
    "import os\n",
    "from supervised.automl import AutoML\n",
    "import category_encoders as ce\n",
    "import math\n",
    "\n",
    "# visualization\n",
    "import seaborn as sns\n",
    "import matplotlib.pyplot as plt\n",
    "\n",
    "from sklearn.metrics import accuracy_score\n",
    "from sklearn.metrics import mean_squared_error\n",
    "from sklearn.model_selection import train_test_split\n",
    "from sklearn.model_selection import cross_val_score, GridSearchCV\n",
    "from sklearn.linear_model import LogisticRegression\n",
    "from sklearn.tree import DecisionTreeClassifier\n",
    "from sklearn.ensemble import RandomForestClassifier\n",
    "from category_encoders import TargetEncoder\n",
    "from sklearn.metrics import median_absolute_error\n",
    "print('Imported sci-kit learn and AutoML libraries!')"
   ]
  },
  {
   "cell_type": "markdown",
   "id": "2157b909",
   "metadata": {},
   "source": [
    "## Prediction with explainable AI - Cork City\n",
    "\n",
    "Let's use this file to predict the prices of houses in Cork City and use explainable AI such as SHAP values to explain the determinants of prices in Cork City. We will then compare this to the same experiment we ran with selected areas of Dublin city."
   ]
  },
  {
   "cell_type": "code",
   "execution_count": 2,
   "id": "3ff8d4da",
   "metadata": {},
   "outputs": [],
   "source": [
    "irl =  pd.read_csv('cork-more-fixed.csv', index_col = 'Unnamed: 0')"
   ]
  },
  {
   "cell_type": "code",
   "execution_count": 3,
   "id": "5aff74c9",
   "metadata": {},
   "outputs": [
    {
     "data": {
      "text/html": [
       "<div>\n",
       "<style scoped>\n",
       "    .dataframe tbody tr th:only-of-type {\n",
       "        vertical-align: middle;\n",
       "    }\n",
       "\n",
       "    .dataframe tbody tr th {\n",
       "        vertical-align: top;\n",
       "    }\n",
       "\n",
       "    .dataframe thead th {\n",
       "        text-align: right;\n",
       "    }\n",
       "</style>\n",
       "<table border=\"1\" class=\"dataframe\">\n",
       "  <thead>\n",
       "    <tr style=\"text-align: right;\">\n",
       "      <th></th>\n",
       "      <th>Address</th>\n",
       "      <th>County</th>\n",
       "      <th>Price (€)</th>\n",
       "      <th>VAT Exclusive</th>\n",
       "      <th>Description of Property</th>\n",
       "      <th>Property Size Description</th>\n",
       "      <th>Year</th>\n",
       "      <th>Month</th>\n",
       "      <th>Town</th>\n",
       "      <th>Apartment</th>\n",
       "      <th>Neighbourhood</th>\n",
       "      <th>PriceInflation</th>\n",
       "      <th>Eircode</th>\n",
       "      <th>Latitude</th>\n",
       "      <th>Longitude</th>\n",
       "      <th>DistanceCenter</th>\n",
       "      <th>DistanceSchool</th>\n",
       "      <th>DistancePark</th>\n",
       "      <th>DistanceCar</th>\n",
       "    </tr>\n",
       "  </thead>\n",
       "  <tbody>\n",
       "    <tr>\n",
       "      <th>94123</th>\n",
       "      <td>10 Deerpark Court, Friars Walk, Cork</td>\n",
       "      <td>Cork</td>\n",
       "      <td>280000.0</td>\n",
       "      <td>1</td>\n",
       "      <td>1</td>\n",
       "      <td>2</td>\n",
       "      <td>2014</td>\n",
       "      <td>1</td>\n",
       "      <td>Cork City</td>\n",
       "      <td>0</td>\n",
       "      <td>Friars Walk Cork City</td>\n",
       "      <td>529951.22</td>\n",
       "      <td>T12</td>\n",
       "      <td>51.891104</td>\n",
       "      <td>-8.474261</td>\n",
       "      <td>0.808257</td>\n",
       "      <td>0.371367</td>\n",
       "      <td>0.334321</td>\n",
       "      <td>0.607264</td>\n",
       "    </tr>\n",
       "  </tbody>\n",
       "</table>\n",
       "</div>"
      ],
      "text/plain": [
       "                                    Address County  Price (€)  VAT Exclusive  \\\n",
       "94123  10 Deerpark Court, Friars Walk, Cork   Cork   280000.0              1   \n",
       "\n",
       "       Description of Property  Property Size Description  Year  Month  \\\n",
       "94123                        1                          2  2014      1   \n",
       "\n",
       "            Town  Apartment          Neighbourhood  PriceInflation Eircode  \\\n",
       "94123  Cork City          0  Friars Walk Cork City       529951.22     T12   \n",
       "\n",
       "        Latitude  Longitude  DistanceCenter  DistanceSchool  DistancePark  \\\n",
       "94123  51.891104  -8.474261        0.808257        0.371367      0.334321   \n",
       "\n",
       "       DistanceCar  \n",
       "94123     0.607264  "
      ]
     },
     "execution_count": 3,
     "metadata": {},
     "output_type": "execute_result"
    }
   ],
   "source": [
    "irl.head(1)"
   ]
  },
  {
   "cell_type": "code",
   "execution_count": 4,
   "id": "5b7b3dda",
   "metadata": {},
   "outputs": [
    {
     "data": {
      "text/plain": [
       "Index(['Address', 'County', 'Price (€)', 'VAT Exclusive',\n",
       "       'Description of Property', 'Property Size Description', 'Year', 'Month',\n",
       "       'Town', 'Apartment', 'Neighbourhood', 'PriceInflation', 'Eircode',\n",
       "       'Latitude', 'Longitude', 'DistanceCenter', 'DistanceSchool',\n",
       "       'DistancePark', 'DistanceCar'],\n",
       "      dtype='object')"
      ]
     },
     "execution_count": 4,
     "metadata": {},
     "output_type": "execute_result"
    }
   ],
   "source": [
    "irl.columns"
   ]
  },
  {
   "cell_type": "code",
   "execution_count": 5,
   "id": "9516d74e",
   "metadata": {},
   "outputs": [],
   "source": [
    "irl.drop(columns = ['VAT Exclusive', 'County', 'Address', 'Eircode', 'PriceInflation'], inplace = True)"
   ]
  },
  {
   "cell_type": "code",
   "execution_count": 6,
   "id": "fcef86c3",
   "metadata": {},
   "outputs": [
    {
     "data": {
      "text/plain": [
       "Index(['Price (€)', 'Description of Property', 'Property Size Description',\n",
       "       'Year', 'Month', 'Town', 'Apartment', 'Neighbourhood', 'Latitude',\n",
       "       'Longitude', 'DistanceCenter', 'DistanceSchool', 'DistancePark',\n",
       "       'DistanceCar'],\n",
       "      dtype='object')"
      ]
     },
     "execution_count": 6,
     "metadata": {},
     "output_type": "execute_result"
    }
   ],
   "source": [
    "irl.columns"
   ]
  },
  {
   "cell_type": "code",
   "execution_count": 7,
   "id": "e4db2567",
   "metadata": {},
   "outputs": [],
   "source": [
    "encoder = TargetEncoder()\n",
    "irl['Neighbourhood'] = encoder.fit_transform(irl['Neighbourhood'], irl['Price (€)'])"
   ]
  },
  {
   "cell_type": "code",
   "execution_count": 8,
   "id": "69726524",
   "metadata": {},
   "outputs": [],
   "source": [
    "encoder = TargetEncoder()\n",
    "irl['Town'] = encoder.fit_transform(irl['Town'], irl['Price (€)'])"
   ]
  },
  {
   "cell_type": "code",
   "execution_count": 9,
   "id": "8200428e",
   "metadata": {},
   "outputs": [
    {
     "data": {
      "text/html": [
       "<div>\n",
       "<style scoped>\n",
       "    .dataframe tbody tr th:only-of-type {\n",
       "        vertical-align: middle;\n",
       "    }\n",
       "\n",
       "    .dataframe tbody tr th {\n",
       "        vertical-align: top;\n",
       "    }\n",
       "\n",
       "    .dataframe thead th {\n",
       "        text-align: right;\n",
       "    }\n",
       "</style>\n",
       "<table border=\"1\" class=\"dataframe\">\n",
       "  <thead>\n",
       "    <tr style=\"text-align: right;\">\n",
       "      <th></th>\n",
       "      <th>Description of Property</th>\n",
       "      <th>Property Size Description</th>\n",
       "      <th>Year</th>\n",
       "      <th>Month</th>\n",
       "      <th>Town</th>\n",
       "      <th>Apartment</th>\n",
       "      <th>Neighbourhood</th>\n",
       "      <th>Latitude</th>\n",
       "      <th>Longitude</th>\n",
       "      <th>DistanceCenter</th>\n",
       "      <th>DistanceSchool</th>\n",
       "      <th>DistancePark</th>\n",
       "      <th>DistanceCar</th>\n",
       "      <th>LogPrice (€)</th>\n",
       "    </tr>\n",
       "  </thead>\n",
       "  <tbody>\n",
       "    <tr>\n",
       "      <th>94123</th>\n",
       "      <td>1</td>\n",
       "      <td>2</td>\n",
       "      <td>2014</td>\n",
       "      <td>1</td>\n",
       "      <td>238889.733351</td>\n",
       "      <td>0</td>\n",
       "      <td>221996.382933</td>\n",
       "      <td>51.891104</td>\n",
       "      <td>-8.474261</td>\n",
       "      <td>0.808257</td>\n",
       "      <td>0.371367</td>\n",
       "      <td>0.334321</td>\n",
       "      <td>0.607264</td>\n",
       "      <td>12.542545</td>\n",
       "    </tr>\n",
       "    <tr>\n",
       "      <th>94124</th>\n",
       "      <td>1</td>\n",
       "      <td>1</td>\n",
       "      <td>2014</td>\n",
       "      <td>1</td>\n",
       "      <td>238889.733351</td>\n",
       "      <td>0</td>\n",
       "      <td>342890.105776</td>\n",
       "      <td>51.844802</td>\n",
       "      <td>-8.312442</td>\n",
       "      <td>12.501636</td>\n",
       "      <td>0.597510</td>\n",
       "      <td>5.440909</td>\n",
       "      <td>11.244529</td>\n",
       "      <td>12.821258</td>\n",
       "    </tr>\n",
       "    <tr>\n",
       "      <th>94125</th>\n",
       "      <td>1</td>\n",
       "      <td>1</td>\n",
       "      <td>2014</td>\n",
       "      <td>1</td>\n",
       "      <td>238889.733351</td>\n",
       "      <td>0</td>\n",
       "      <td>150351.141667</td>\n",
       "      <td>51.903869</td>\n",
       "      <td>-8.471192</td>\n",
       "      <td>0.626745</td>\n",
       "      <td>0.323214</td>\n",
       "      <td>0.129914</td>\n",
       "      <td>0.238164</td>\n",
       "      <td>11.775290</td>\n",
       "    </tr>\n",
       "    <tr>\n",
       "      <th>94126</th>\n",
       "      <td>1</td>\n",
       "      <td>1</td>\n",
       "      <td>2014</td>\n",
       "      <td>1</td>\n",
       "      <td>238889.733351</td>\n",
       "      <td>0</td>\n",
       "      <td>273439.540807</td>\n",
       "      <td>51.911380</td>\n",
       "      <td>-8.450581</td>\n",
       "      <td>2.096941</td>\n",
       "      <td>0.447549</td>\n",
       "      <td>0.669517</td>\n",
       "      <td>1.805214</td>\n",
       "      <td>11.951180</td>\n",
       "    </tr>\n",
       "    <tr>\n",
       "      <th>94127</th>\n",
       "      <td>1</td>\n",
       "      <td>1</td>\n",
       "      <td>2014</td>\n",
       "      <td>1</td>\n",
       "      <td>234741.592357</td>\n",
       "      <td>0</td>\n",
       "      <td>234741.592357</td>\n",
       "      <td>51.882655</td>\n",
       "      <td>-8.507208</td>\n",
       "      <td>2.943974</td>\n",
       "      <td>0.503091</td>\n",
       "      <td>0.823622</td>\n",
       "      <td>2.329469</td>\n",
       "      <td>12.254863</td>\n",
       "    </tr>\n",
       "  </tbody>\n",
       "</table>\n",
       "</div>"
      ],
      "text/plain": [
       "       Description of Property  Property Size Description  Year  Month  \\\n",
       "94123                        1                          2  2014      1   \n",
       "94124                        1                          1  2014      1   \n",
       "94125                        1                          1  2014      1   \n",
       "94126                        1                          1  2014      1   \n",
       "94127                        1                          1  2014      1   \n",
       "\n",
       "                Town  Apartment  Neighbourhood   Latitude  Longitude  \\\n",
       "94123  238889.733351          0  221996.382933  51.891104  -8.474261   \n",
       "94124  238889.733351          0  342890.105776  51.844802  -8.312442   \n",
       "94125  238889.733351          0  150351.141667  51.903869  -8.471192   \n",
       "94126  238889.733351          0  273439.540807  51.911380  -8.450581   \n",
       "94127  234741.592357          0  234741.592357  51.882655  -8.507208   \n",
       "\n",
       "       DistanceCenter  DistanceSchool  DistancePark  DistanceCar  LogPrice (€)  \n",
       "94123        0.808257        0.371367      0.334321     0.607264     12.542545  \n",
       "94124       12.501636        0.597510      5.440909    11.244529     12.821258  \n",
       "94125        0.626745        0.323214      0.129914     0.238164     11.775290  \n",
       "94126        2.096941        0.447549      0.669517     1.805214     11.951180  \n",
       "94127        2.943974        0.503091      0.823622     2.329469     12.254863  "
      ]
     },
     "execution_count": 9,
     "metadata": {},
     "output_type": "execute_result"
    }
   ],
   "source": [
    "# predicting standard\n",
    "irl['LogPrice (€)'] = np.log(irl['Price (€)'])\n",
    "irl.drop(columns = ['Price (€)'], inplace = True)\n",
    "irl.head()"
   ]
  },
  {
   "cell_type": "code",
   "execution_count": 112,
   "id": "a907a997",
   "metadata": {},
   "outputs": [
    {
     "data": {
      "text/plain": [
       "(6453, 14)"
      ]
     },
     "execution_count": 112,
     "metadata": {},
     "output_type": "execute_result"
    }
   ],
   "source": [
    "irl.shape"
   ]
  },
  {
   "cell_type": "code",
   "execution_count": 10,
   "id": "7da6a18c",
   "metadata": {},
   "outputs": [],
   "source": [
    "# this function finds all values that fall within internationally accepted +-10% of actual prices in our predictions\n",
    "# we can modify the threshold as we feel the need to here\n",
    "def accuracy_threshold(test, pred, num):\n",
    "    test = np.array(test)\n",
    "    pred = np.array(pred)\n",
    "# get within x% of actual price , not within log price as this will be misleading / incorrect\n",
    "    test = np.exp(test)\n",
    "    pred = np.exp(pred)\n",
    "    count = 0\n",
    "    for i in range(len(pred)):\n",
    "        if test[i] != 0:  \n",
    "            ten = test[i] * num\n",
    "            res = test[i] - pred[i]\n",
    "        else:\n",
    "            res = 0\n",
    "            ten = 0\n",
    "        \n",
    "        if res < 0:\n",
    "            res = res * -1\n",
    "        else:\n",
    "            res = res\n",
    "            \n",
    "        if res <= ten:\n",
    "            count += 1\n",
    "        else:\n",
    "            continue\n",
    "    return (count / len(test))"
   ]
  },
  {
   "cell_type": "code",
   "execution_count": 11,
   "id": "86f436dc",
   "metadata": {},
   "outputs": [],
   "source": [
    "from tpot import TPOTRegressor\n",
    "from sklearn.model_selection import RepeatedKFold"
   ]
  },
  {
   "cell_type": "markdown",
   "id": "565a9cfb",
   "metadata": {},
   "source": [
    "## 2021"
   ]
  },
  {
   "cell_type": "markdown",
   "id": "bc44a426",
   "metadata": {},
   "source": [
    "### TPOT"
   ]
  },
  {
   "cell_type": "code",
   "execution_count": 12,
   "id": "55e539b6",
   "metadata": {},
   "outputs": [],
   "source": [
    "specific21 = irl[irl['Year'] > 2017]"
   ]
  },
  {
   "cell_type": "code",
   "execution_count": 13,
   "id": "8d93800f",
   "metadata": {},
   "outputs": [],
   "source": [
    "train_21 = specific21[specific21['Year'] < 2021]"
   ]
  },
  {
   "cell_type": "code",
   "execution_count": 14,
   "id": "efd7b7dc",
   "metadata": {},
   "outputs": [],
   "source": [
    "test_21 = specific21[specific21['Year'] == 2021]"
   ]
  },
  {
   "cell_type": "code",
   "execution_count": 15,
   "id": "368bb2e2",
   "metadata": {},
   "outputs": [],
   "source": [
    "x_train_21 = train_21.loc[:, train_21.columns != 'LogPrice (€)']\n",
    "y_train_21 = train_21['LogPrice (€)']"
   ]
  },
  {
   "cell_type": "code",
   "execution_count": 16,
   "id": "2eeb6f81",
   "metadata": {},
   "outputs": [],
   "source": [
    "x_test_21 = test_21.loc[:, test_21.columns != 'LogPrice (€)']\n",
    "y_test_21 = test_21['LogPrice (€)']\n",
    "\n",
    "x_t_21 = x_test_21"
   ]
  },
  {
   "cell_type": "code",
   "execution_count": 17,
   "id": "1073c7fa",
   "metadata": {},
   "outputs": [],
   "source": [
    "#cv = RepeatedKFold(n_splits = 10, n_repeats = 3, random_state = 1)\n",
    "# define search\n",
    "model = TPOTRegressor(max_time_mins = 10)\n",
    "model1 = model.fit(x_train_21, y_train_21)"
   ]
  },
  {
   "cell_type": "code",
   "execution_count": 18,
   "id": "33321d75",
   "metadata": {},
   "outputs": [],
   "source": [
    "#model1.export('tpot_2021_pipeline.py')"
   ]
  },
  {
   "cell_type": "code",
   "execution_count": 19,
   "id": "bce6b573",
   "metadata": {},
   "outputs": [
    {
     "name": "stdout",
     "output_type": "stream",
     "text": [
      "MSE for TPOT AutoML 2021 is: 19622562233.37063\n"
     ]
    }
   ],
   "source": [
    "# calculated values\n",
    "from sklearn.metrics import mean_squared_error\n",
    "y_predicted_21 = model1.predict(x_test_21)\n",
    "  \n",
    "# Calculation of Mean Squared Error (MSE)\n",
    "mse = mean_squared_error(np.exp(y_test_21), np.exp(y_predicted_21))\n",
    "print('MSE for TPOT AutoML 2021 is: ' + str(mse))"
   ]
  },
  {
   "cell_type": "code",
   "execution_count": 20,
   "id": "b3356797",
   "metadata": {},
   "outputs": [
    {
     "name": "stdout",
     "output_type": "stream",
     "text": [
      "RMSE for TPOT AutoML 2021 is: 140080.55622880225\n"
     ]
    }
   ],
   "source": [
    "rmse = mean_squared_error(np.exp(y_test_21), np.exp(y_predicted_21), squared=False)\n",
    "print('RMSE for TPOT AutoML 2021 is: ' + str(rmse))"
   ]
  },
  {
   "cell_type": "code",
   "execution_count": 21,
   "id": "d78523da",
   "metadata": {},
   "outputs": [
    {
     "name": "stdout",
     "output_type": "stream",
     "text": [
      "Median Absolute Error:\n",
      "\n",
      "54995.49639534478\n"
     ]
    }
   ],
   "source": [
    "median_se = np.square(np.subtract(np.exp(y_test_21), np.exp(y_predicted_21))).median() \n",
    " \n",
    "med = math.sqrt(median_se)\n",
    "print(\"Median Absolute Error:\\n\")\n",
    "print(med)"
   ]
  },
  {
   "cell_type": "code",
   "execution_count": 22,
   "id": "83d7cc9d",
   "metadata": {},
   "outputs": [
    {
     "name": "stdout",
     "output_type": "stream",
     "text": [
      "MAPE for TPOT AutoML 2021 is: 0.30630442328479324\n"
     ]
    }
   ],
   "source": [
    "from sklearn.metrics import mean_absolute_percentage_error\n",
    "mape = mean_absolute_percentage_error(np.exp(y_test_21), np.exp(y_predicted_21))\n",
    "print(\"MAPE for TPOT AutoML 2021 is: \" + str(mape))"
   ]
  },
  {
   "cell_type": "code",
   "execution_count": 23,
   "id": "7e8ea466",
   "metadata": {},
   "outputs": [
    {
     "name": "stdout",
     "output_type": "stream",
     "text": [
      "Cork AutoML 2021 accuracy is: 0.2427055702917772\n"
     ]
    }
   ],
   "source": [
    "acc = accuracy_threshold(y_test_21, y_predicted_21, 0.1)\n",
    "print('Cork AutoML 2021 accuracy is: ' + str(acc))"
   ]
  },
  {
   "cell_type": "code",
   "execution_count": 113,
   "id": "79c07761",
   "metadata": {},
   "outputs": [],
   "source": [
    "%%capture\n",
    "import shap\n",
    "explainer = shap.Explainer(model1.predict, x_test_21)\n",
    "shap_values = explainer(x_test_21)"
   ]
  },
  {
   "cell_type": "code",
   "execution_count": 114,
   "id": "a96e6ce4",
   "metadata": {},
   "outputs": [
    {
     "data": {
      "text/html": [
       "<div>\n",
       "<style scoped>\n",
       "    .dataframe tbody tr th:only-of-type {\n",
       "        vertical-align: middle;\n",
       "    }\n",
       "\n",
       "    .dataframe tbody tr th {\n",
       "        vertical-align: top;\n",
       "    }\n",
       "\n",
       "    .dataframe thead th {\n",
       "        text-align: right;\n",
       "    }\n",
       "</style>\n",
       "<table border=\"1\" class=\"dataframe\">\n",
       "  <thead>\n",
       "    <tr style=\"text-align: right;\">\n",
       "      <th></th>\n",
       "      <th>col_name</th>\n",
       "      <th>feature_importance_vals</th>\n",
       "    </tr>\n",
       "  </thead>\n",
       "  <tbody>\n",
       "    <tr>\n",
       "      <th>6</th>\n",
       "      <td>Neighbourhood</td>\n",
       "      <td>0.266325</td>\n",
       "    </tr>\n",
       "    <tr>\n",
       "      <th>3</th>\n",
       "      <td>Month</td>\n",
       "      <td>0.016850</td>\n",
       "    </tr>\n",
       "    <tr>\n",
       "      <th>4</th>\n",
       "      <td>Town</td>\n",
       "      <td>0.014714</td>\n",
       "    </tr>\n",
       "    <tr>\n",
       "      <th>12</th>\n",
       "      <td>DistanceCar</td>\n",
       "      <td>0.009058</td>\n",
       "    </tr>\n",
       "    <tr>\n",
       "      <th>5</th>\n",
       "      <td>Apartment</td>\n",
       "      <td>0.006988</td>\n",
       "    </tr>\n",
       "  </tbody>\n",
       "</table>\n",
       "</div>"
      ],
      "text/plain": [
       "         col_name  feature_importance_vals\n",
       "6   Neighbourhood                 0.266325\n",
       "3           Month                 0.016850\n",
       "4            Town                 0.014714\n",
       "12    DistanceCar                 0.009058\n",
       "5       Apartment                 0.006988"
      ]
     },
     "execution_count": 114,
     "metadata": {},
     "output_type": "execute_result"
    }
   ],
   "source": [
    "vals = np.abs(shap_values.values).mean(0)\n",
    "feature_names = x_test_21.columns\n",
    "\n",
    "feature_importance = pd.DataFrame(list(zip(feature_names, vals)),\n",
    "                                 columns = ['col_name','feature_importance_vals'])\n",
    "feature_importance.sort_values(by = ['feature_importance_vals'],\n",
    "                              ascending = False, inplace = True)\n",
    "feature_importance.head()"
   ]
  },
  {
   "cell_type": "code",
   "execution_count": 115,
   "id": "d1466808",
   "metadata": {},
   "outputs": [
    {
     "data": {
      "image/png": "[encoded data removed]",
      "text/plain": [
       "<Figure size 576x482.4 with 1 Axes>"
      ]
     },
     "metadata": {
      "needs_background": "light"
     },
     "output_type": "display_data"
    }
   ],
   "source": [
    "shap.summary_plot(shap_values, x_test_21, plot_type = 'bar')"
   ]
  },
  {
   "cell_type": "code",
   "execution_count": 26,
   "id": "9a2c7a29",
   "metadata": {},
   "outputs": [],
   "source": [
    "#f = plt.figure()\n",
    "#shap.summary_plot(shap_values, x_test_21)\n",
    "#f.savefig(\"summary_plot21cork.png\", bbox_inches = 'tight', dpi = 600)"
   ]
  },
  {
   "cell_type": "code",
   "execution_count": 27,
   "id": "dbc0727b",
   "metadata": {},
   "outputs": [],
   "source": [
    "cnames=['Algorithm', 'Year', 'RMSE', 'MSE', 'MEDAE', 'Accuracy', 'MAPE']\n",
    "df11 = pd.DataFrame(columns=cnames)\n",
    "\n",
    "df11 = df11.append({'Algorithm': 'TPOT AutoML',\n",
    "            'Year': 2021,\n",
    "           'RMSE': rmse,\n",
    "           'MSE': mse,\n",
    "           'MEDAE': med,\n",
    "           'Accuracy': acc,\n",
    "           'MAPE': mape         \n",
    "          }, ignore_index=True)"
   ]
  },
  {
   "cell_type": "code",
   "execution_count": 28,
   "id": "c4849d9a",
   "metadata": {},
   "outputs": [],
   "source": [
    "dfreal1 = pd.DataFrame(y_test_21.values)\n",
    "dfpred1 = pd.DataFrame(y_predicted_21)"
   ]
  },
  {
   "cell_type": "markdown",
   "id": "d9dba387",
   "metadata": {},
   "source": [
    "### 2020"
   ]
  },
  {
   "cell_type": "code",
   "execution_count": 29,
   "id": "0d67d885",
   "metadata": {},
   "outputs": [],
   "source": [
    "specific20 = irl[irl['Year'] > 2016]"
   ]
  },
  {
   "cell_type": "code",
   "execution_count": 30,
   "id": "bb40ee6f",
   "metadata": {},
   "outputs": [],
   "source": [
    "test_20 = specific20[specific20['Year'] == 2020]\n",
    "train_20 = specific20[specific20['Year'] < 2020]\n",
    "\n",
    "x_train_20 = train_20.loc[:, train_20.columns != 'LogPrice (€)']\n",
    "y_train_20 = train_20['LogPrice (€)']\n",
    "\n",
    "x_test_20 = test_20.loc[:, test_20.columns != 'LogPrice (€)']\n",
    "y_test_20 = test_20['LogPrice (€)']\n",
    "\n",
    "x_t_20 = x_test_20"
   ]
  },
  {
   "cell_type": "code",
   "execution_count": 31,
   "id": "55c147e6",
   "metadata": {},
   "outputs": [],
   "source": [
    "model = TPOTRegressor(max_time_mins = 10)\n",
    "model2 = model.fit(x_train_20, y_train_20)"
   ]
  },
  {
   "cell_type": "code",
   "execution_count": 32,
   "id": "290c9a8e",
   "metadata": {},
   "outputs": [],
   "source": [
    "#model2.export('tpot_2020_pipeline.py')"
   ]
  },
  {
   "cell_type": "code",
   "execution_count": 33,
   "id": "416b6d51",
   "metadata": {},
   "outputs": [
    {
     "name": "stdout",
     "output_type": "stream",
     "text": [
      "MSE for TPOT AutoML 2020 is: 15873626032.926266\n"
     ]
    }
   ],
   "source": [
    "y_predicted_20 = model1.predict(x_test_20)\n",
    "  \n",
    "# Calculation of Mean Squared Error (MSE)\n",
    "mse = mean_squared_error(np.exp(y_test_20), np.exp(y_predicted_20))\n",
    "print('MSE for TPOT AutoML 2020 is: ' + str(mse))"
   ]
  },
  {
   "cell_type": "code",
   "execution_count": 34,
   "id": "e355b1e4",
   "metadata": {},
   "outputs": [
    {
     "name": "stdout",
     "output_type": "stream",
     "text": [
      "MAPE for TPOT AutoML 2020 is: 0.300832802179203\n"
     ]
    }
   ],
   "source": [
    "from sklearn.metrics import mean_absolute_percentage_error\n",
    "mape = mean_absolute_percentage_error(np.exp(y_test_20), np.exp(y_predicted_20))\n",
    "print(\"MAPE for TPOT AutoML 2020 is: \" + str(mape))"
   ]
  },
  {
   "cell_type": "code",
   "execution_count": 35,
   "id": "09781a7c",
   "metadata": {},
   "outputs": [
    {
     "name": "stdout",
     "output_type": "stream",
     "text": [
      "Median Absolute Error:\n",
      "\n",
      "42198.23680708967\n"
     ]
    }
   ],
   "source": [
    "median_se = np.square(np.subtract(np.exp(y_test_20), np.exp(y_predicted_20))).median() \n",
    " \n",
    "med = math.sqrt(median_se)\n",
    "print(\"Median Absolute Error:\\n\")\n",
    "print(med)"
   ]
  },
  {
   "cell_type": "code",
   "execution_count": 36,
   "id": "76e10acc",
   "metadata": {},
   "outputs": [
    {
     "name": "stdout",
     "output_type": "stream",
     "text": [
      "RMSE for TPOT AutoML 2020 is: 125990.57914354655\n"
     ]
    }
   ],
   "source": [
    "rmse = mean_squared_error(np.exp(y_test_20), np.exp(y_predicted_20), squared=False)\n",
    "print('RMSE for TPOT AutoML 2020 is: ' + str(rmse))"
   ]
  },
  {
   "cell_type": "code",
   "execution_count": 37,
   "id": "871be6ce",
   "metadata": {},
   "outputs": [
    {
     "name": "stdout",
     "output_type": "stream",
     "text": [
      "Cork AutoML 2020 accuracy is: 0.32535211267605635\n"
     ]
    }
   ],
   "source": [
    "acc = accuracy_threshold(y_test_20, y_predicted_20, 0.1)\n",
    "print('Cork AutoML 2020 accuracy is: ' + str(acc))"
   ]
  },
  {
   "cell_type": "code",
   "execution_count": 38,
   "id": "1675f7ae",
   "metadata": {},
   "outputs": [],
   "source": [
    "cnames=['Algorithm', 'Year', 'RMSE', 'MSE', 'MEDAE', 'Accuracy', 'MAPE']\n",
    "df12 = pd.DataFrame(columns=cnames)\n",
    "\n",
    "df12 = df12.append({'Algorithm': 'TPOT AutoML',\n",
    "            'Year': 2020,\n",
    "           'RMSE': rmse,\n",
    "           'MSE': mse,\n",
    "           'MEDAE': med,\n",
    "           'Accuracy': acc,\n",
    "           'MAPE': mape         \n",
    "          }, ignore_index=True)"
   ]
  },
  {
   "cell_type": "code",
   "execution_count": 39,
   "id": "cf1310c8",
   "metadata": {},
   "outputs": [],
   "source": [
    "dfreal2 = pd.DataFrame(y_test_20.values)\n",
    "dfpred2 = pd.DataFrame(y_predicted_20)"
   ]
  },
  {
   "cell_type": "code",
   "execution_count": 116,
   "id": "15e2711c",
   "metadata": {},
   "outputs": [],
   "source": [
    "%%capture\n",
    "explainer = shap.Explainer(model2.predict, x_test_20)\n",
    "shap_values2 = explainer(x_test_20)"
   ]
  },
  {
   "cell_type": "code",
   "execution_count": 117,
   "id": "52f14ac9",
   "metadata": {},
   "outputs": [
    {
     "data": {
      "text/html": [
       "<div>\n",
       "<style scoped>\n",
       "    .dataframe tbody tr th:only-of-type {\n",
       "        vertical-align: middle;\n",
       "    }\n",
       "\n",
       "    .dataframe tbody tr th {\n",
       "        vertical-align: top;\n",
       "    }\n",
       "\n",
       "    .dataframe thead th {\n",
       "        text-align: right;\n",
       "    }\n",
       "</style>\n",
       "<table border=\"1\" class=\"dataframe\">\n",
       "  <thead>\n",
       "    <tr style=\"text-align: right;\">\n",
       "      <th></th>\n",
       "      <th>col_name</th>\n",
       "      <th>feature_importance_vals</th>\n",
       "    </tr>\n",
       "  </thead>\n",
       "  <tbody>\n",
       "    <tr>\n",
       "      <th>6</th>\n",
       "      <td>Neighbourhood</td>\n",
       "      <td>0.283709</td>\n",
       "    </tr>\n",
       "    <tr>\n",
       "      <th>12</th>\n",
       "      <td>DistanceCar</td>\n",
       "      <td>0.026207</td>\n",
       "    </tr>\n",
       "    <tr>\n",
       "      <th>11</th>\n",
       "      <td>DistancePark</td>\n",
       "      <td>0.018587</td>\n",
       "    </tr>\n",
       "    <tr>\n",
       "      <th>4</th>\n",
       "      <td>Town</td>\n",
       "      <td>0.017247</td>\n",
       "    </tr>\n",
       "    <tr>\n",
       "      <th>0</th>\n",
       "      <td>Description of Property</td>\n",
       "      <td>0.013083</td>\n",
       "    </tr>\n",
       "  </tbody>\n",
       "</table>\n",
       "</div>"
      ],
      "text/plain": [
       "                   col_name  feature_importance_vals\n",
       "6             Neighbourhood                 0.283709\n",
       "12              DistanceCar                 0.026207\n",
       "11             DistancePark                 0.018587\n",
       "4                      Town                 0.017247\n",
       "0   Description of Property                 0.013083"
      ]
     },
     "execution_count": 117,
     "metadata": {},
     "output_type": "execute_result"
    }
   ],
   "source": [
    "vals1 = np.abs(shap_values2.values).mean(0)\n",
    "feature_names1 = x_test_20.columns\n",
    "\n",
    "feature_importance1 = pd.DataFrame(list(zip(feature_names1, vals1)),\n",
    "                                 columns = ['col_name','feature_importance_vals'])\n",
    "feature_importance1.sort_values(by = ['feature_importance_vals'],\n",
    "                              ascending = False, inplace = True)\n",
    "feature_importance1.head()"
   ]
  },
  {
   "cell_type": "code",
   "execution_count": 118,
   "id": "09dec980",
   "metadata": {},
   "outputs": [],
   "source": [
    "#f = plt.figure()\n",
    "#shap.summary_plot(shap_values2, x_test_20)\n",
    "#f.savefig(\"summary_plot20cork.png\", bbox_inches = 'tight', dpi = 600)"
   ]
  },
  {
   "cell_type": "code",
   "execution_count": 119,
   "id": "b5db406b",
   "metadata": {},
   "outputs": [
    {
     "data": {
      "image/png": "[encoded data removed]",
      "text/plain": [
       "<Figure size 576x482.4 with 1 Axes>"
      ]
     },
     "metadata": {
      "needs_background": "light"
     },
     "output_type": "display_data"
    }
   ],
   "source": [
    "shap.summary_plot(shap_values2, x_test_20, plot_type = 'bar')"
   ]
  },
  {
   "cell_type": "markdown",
   "id": "1b88f9b0",
   "metadata": {},
   "source": [
    "### 2019"
   ]
  },
  {
   "cell_type": "code",
   "execution_count": 43,
   "id": "7334741d",
   "metadata": {},
   "outputs": [],
   "source": [
    "specific19 = irl[irl['Year'] > 2015]"
   ]
  },
  {
   "cell_type": "code",
   "execution_count": 44,
   "id": "fc20af96",
   "metadata": {},
   "outputs": [],
   "source": [
    "test_19 = specific19[specific19['Year'] == 2019]\n",
    "train_19 = specific19[specific19['Year'] < 2019]\n",
    "x_train_19 = train_19.loc[:, train_19.columns != 'LogPrice (€)']\n",
    "y_train_19 = train_19['LogPrice (€)']\n",
    "x_test_19 = test_19.loc[:, test_19.columns != 'LogPrice (€)']\n",
    "y_test_19 = test_19['LogPrice (€)']\n",
    "\n",
    "x_t_19 = x_test_19"
   ]
  },
  {
   "cell_type": "code",
   "execution_count": 45,
   "id": "11df60b0",
   "metadata": {},
   "outputs": [],
   "source": [
    "model = TPOTRegressor(max_time_mins = 10)\n",
    "# perform the search // takes ages to run!\n",
    "model3 = model.fit(x_train_19, y_train_19)"
   ]
  },
  {
   "cell_type": "code",
   "execution_count": 46,
   "id": "0f8c2583",
   "metadata": {},
   "outputs": [],
   "source": [
    "#model3.export('tpot_2019_pipeline.py')"
   ]
  },
  {
   "cell_type": "code",
   "execution_count": 47,
   "id": "1ad0f284",
   "metadata": {},
   "outputs": [
    {
     "name": "stdout",
     "output_type": "stream",
     "text": [
      "MSE for TPOT AutoML 2019 is: 16430301491.87497\n"
     ]
    }
   ],
   "source": [
    "y_predicted_19 = model1.predict(x_test_19)\n",
    "  \n",
    "# Calculation of Mean Squared Error (MSE)\n",
    "mse = mean_squared_error(np.exp(y_test_19), np.exp(y_predicted_19))\n",
    "print('MSE for TPOT AutoML 2019 is: ' + str(mse))"
   ]
  },
  {
   "cell_type": "code",
   "execution_count": 48,
   "id": "6e417e0e",
   "metadata": {},
   "outputs": [
    {
     "name": "stdout",
     "output_type": "stream",
     "text": [
      "MAPE for TPOT AutoML 2019 is: 0.301752535795127\n"
     ]
    }
   ],
   "source": [
    "from sklearn.metrics import mean_absolute_percentage_error\n",
    "mape = mean_absolute_percentage_error(np.exp(y_test_19), np.exp(y_predicted_19))\n",
    "print(\"MAPE for TPOT AutoML 2019 is: \" + str(mape))"
   ]
  },
  {
   "cell_type": "code",
   "execution_count": 49,
   "id": "8d058427",
   "metadata": {},
   "outputs": [
    {
     "name": "stdout",
     "output_type": "stream",
     "text": [
      "Median Absolute Error:\n",
      "\n",
      "42403.167164491606\n"
     ]
    }
   ],
   "source": [
    "median_se = np.square(np.subtract(np.exp(y_test_19), np.exp(y_predicted_19))).median() \n",
    " \n",
    "med = math.sqrt(median_se)\n",
    "print(\"Median Absolute Error:\\n\")\n",
    "print(med)"
   ]
  },
  {
   "cell_type": "code",
   "execution_count": 50,
   "id": "39bc82a7",
   "metadata": {},
   "outputs": [
    {
     "name": "stdout",
     "output_type": "stream",
     "text": [
      "RMSE for TPOT AutoML 2019 is: 128180.73760076032\n"
     ]
    }
   ],
   "source": [
    "rmse = mean_squared_error(np.exp(y_test_19), np.exp(y_predicted_19), squared = False)\n",
    "print('RMSE for TPOT AutoML 2019 is: ' + str(rmse))"
   ]
  },
  {
   "cell_type": "code",
   "execution_count": 51,
   "id": "942872cd",
   "metadata": {},
   "outputs": [
    {
     "name": "stdout",
     "output_type": "stream",
     "text": [
      "Cork AutoML 2019 accuracy is: 0.3070063694267516\n"
     ]
    }
   ],
   "source": [
    "acc = accuracy_threshold(y_test_19, y_predicted_19, 0.1)\n",
    "print('Cork AutoML 2019 accuracy is: ' + str(acc))"
   ]
  },
  {
   "cell_type": "code",
   "execution_count": 120,
   "id": "7aebc483",
   "metadata": {},
   "outputs": [],
   "source": [
    "%%capture\n",
    "explainer = shap.Explainer(model3.predict, x_test_19)\n",
    "shap_values3 = explainer(x_test_19)"
   ]
  },
  {
   "cell_type": "code",
   "execution_count": 121,
   "id": "3a4a6ba5",
   "metadata": {},
   "outputs": [
    {
     "data": {
      "text/html": [
       "<div>\n",
       "<style scoped>\n",
       "    .dataframe tbody tr th:only-of-type {\n",
       "        vertical-align: middle;\n",
       "    }\n",
       "\n",
       "    .dataframe tbody tr th {\n",
       "        vertical-align: top;\n",
       "    }\n",
       "\n",
       "    .dataframe thead th {\n",
       "        text-align: right;\n",
       "    }\n",
       "</style>\n",
       "<table border=\"1\" class=\"dataframe\">\n",
       "  <thead>\n",
       "    <tr style=\"text-align: right;\">\n",
       "      <th></th>\n",
       "      <th>col_name</th>\n",
       "      <th>feature_importance_vals</th>\n",
       "    </tr>\n",
       "  </thead>\n",
       "  <tbody>\n",
       "    <tr>\n",
       "      <th>6</th>\n",
       "      <td>Neighbourhood</td>\n",
       "      <td>0.231977</td>\n",
       "    </tr>\n",
       "    <tr>\n",
       "      <th>9</th>\n",
       "      <td>DistanceCenter</td>\n",
       "      <td>0.040007</td>\n",
       "    </tr>\n",
       "    <tr>\n",
       "      <th>12</th>\n",
       "      <td>DistanceCar</td>\n",
       "      <td>0.035077</td>\n",
       "    </tr>\n",
       "    <tr>\n",
       "      <th>11</th>\n",
       "      <td>DistancePark</td>\n",
       "      <td>0.016031</td>\n",
       "    </tr>\n",
       "    <tr>\n",
       "      <th>3</th>\n",
       "      <td>Month</td>\n",
       "      <td>0.015646</td>\n",
       "    </tr>\n",
       "  </tbody>\n",
       "</table>\n",
       "</div>"
      ],
      "text/plain": [
       "          col_name  feature_importance_vals\n",
       "6    Neighbourhood                 0.231977\n",
       "9   DistanceCenter                 0.040007\n",
       "12     DistanceCar                 0.035077\n",
       "11    DistancePark                 0.016031\n",
       "3            Month                 0.015646"
      ]
     },
     "execution_count": 121,
     "metadata": {},
     "output_type": "execute_result"
    }
   ],
   "source": [
    "vals2 = np.abs(shap_values3.values).mean(0)\n",
    "feature_names2 = x_test_19.columns\n",
    "\n",
    "feature_importance2 = pd.DataFrame(list(zip(feature_names2, vals2)),\n",
    "                                 columns = ['col_name','feature_importance_vals'])\n",
    "feature_importance2.sort_values(by = ['feature_importance_vals'],\n",
    "                              ascending = False, inplace = True)\n",
    "feature_importance2.head()"
   ]
  },
  {
   "cell_type": "code",
   "execution_count": 122,
   "id": "b3428aba",
   "metadata": {},
   "outputs": [],
   "source": [
    "#f = plt.figure()\n",
    "#shap.summary_plot(shap_values3, x_test_19)\n",
    "#f.savefig(\"summary_plot19cork.png\", bbox_inches = 'tight', dpi = 600)"
   ]
  },
  {
   "cell_type": "code",
   "execution_count": 123,
   "id": "15623cd3",
   "metadata": {},
   "outputs": [
    {
     "data": {
      "image/png": "[encoded data removed]",
      "text/plain": [
       "<Figure size 576x482.4 with 1 Axes>"
      ]
     },
     "metadata": {
      "needs_background": "light"
     },
     "output_type": "display_data"
    }
   ],
   "source": [
    "shap.summary_plot(shap_values3, x_test_19, plot_type = 'bar')"
   ]
  },
  {
   "cell_type": "code",
   "execution_count": 55,
   "id": "2838e1fb",
   "metadata": {},
   "outputs": [],
   "source": [
    "cnames=['Algorithm', 'Year', 'RMSE', 'MSE', 'MEDAE', 'Accuracy', 'MAPE']\n",
    "df13 = pd.DataFrame(columns = cnames)\n",
    "\n",
    "df13 = df13.append({'Algorithm': 'TPOT AutoML',\n",
    "            'Year': 2019,\n",
    "           'RMSE': rmse,\n",
    "           'MSE': mse,\n",
    "           'MEDAE': med,\n",
    "           'Accuracy': acc,\n",
    "           'MAPE': mape         \n",
    "          }, ignore_index=True)"
   ]
  },
  {
   "cell_type": "code",
   "execution_count": 56,
   "id": "5fc22a85",
   "metadata": {},
   "outputs": [],
   "source": [
    "dfreal3 = pd.DataFrame(y_test_19.values)\n",
    "dfpred3 = pd.DataFrame(y_predicted_19)"
   ]
  },
  {
   "cell_type": "markdown",
   "id": "db8d148f",
   "metadata": {},
   "source": [
    "### 2018"
   ]
  },
  {
   "cell_type": "code",
   "execution_count": 57,
   "id": "e4f7f4f8",
   "metadata": {},
   "outputs": [],
   "source": [
    "specific18 = irl[irl['Year'] > 2014]\n",
    "test_18 = specific18[specific18['Year'] == 2018]\n",
    "train_18 = specific18[specific18['Year'] < 2018]\n",
    "\n",
    "x_train_18 = train_18.loc[:, train_18.columns != 'LogPrice (€)']\n",
    "y_train_18 = train_18['LogPrice (€)']\n",
    "x_test_18 = test_18.loc[:, test_18.columns != 'LogPrice (€)']\n",
    "y_test_18 = test_18['LogPrice (€)']\n",
    "\n",
    "x_t_18 = x_test_18"
   ]
  },
  {
   "cell_type": "code",
   "execution_count": 58,
   "id": "c6e7b3fe",
   "metadata": {},
   "outputs": [],
   "source": [
    "model = TPOTRegressor(max_time_mins = 10)\n",
    "# perform the search // takes ages to run!\n",
    "model4 = model.fit(x_train_18, y_train_18)"
   ]
  },
  {
   "cell_type": "code",
   "execution_count": 59,
   "id": "8eec4772",
   "metadata": {},
   "outputs": [],
   "source": [
    "#model4.export('tpot_2018_pipeline.py')"
   ]
  },
  {
   "cell_type": "code",
   "execution_count": 60,
   "id": "ec805f86",
   "metadata": {},
   "outputs": [
    {
     "name": "stdout",
     "output_type": "stream",
     "text": [
      "MSE for TPOT AutoML 2018 is: 15965550827.508694\n"
     ]
    }
   ],
   "source": [
    "y_predicted_18 = model1.predict(x_test_18)\n",
    "  \n",
    "# Calculation of Mean Squared Error (MSE)\n",
    "mse = mean_squared_error(np.exp(y_test_18), np.exp(y_predicted_18))\n",
    "print('MSE for TPOT AutoML 2018 is: ' + str(mse))"
   ]
  },
  {
   "cell_type": "code",
   "execution_count": 61,
   "id": "9c417178",
   "metadata": {},
   "outputs": [
    {
     "name": "stdout",
     "output_type": "stream",
     "text": [
      "RMSE for TPOT AutoML 2018 is: 126354.86071975503\n"
     ]
    }
   ],
   "source": [
    "rmse = mean_squared_error(np.exp(y_test_18), np.exp(y_predicted_18), squared = False)\n",
    "print('RMSE for TPOT AutoML 2018 is: ' + str(rmse))"
   ]
  },
  {
   "cell_type": "code",
   "execution_count": 62,
   "id": "41e40583",
   "metadata": {},
   "outputs": [
    {
     "name": "stdout",
     "output_type": "stream",
     "text": [
      "MAPE for TPOT AutoML 2018 is: 0.3352897827138748\n"
     ]
    }
   ],
   "source": [
    "from sklearn.metrics import mean_absolute_percentage_error\n",
    "mape = mean_absolute_percentage_error(np.exp(y_test_18), np.exp(y_predicted_18))\n",
    "print(\"MAPE for TPOT AutoML 2018 is: \" + str(mape))"
   ]
  },
  {
   "cell_type": "code",
   "execution_count": 63,
   "id": "ff235f0c",
   "metadata": {},
   "outputs": [
    {
     "name": "stdout",
     "output_type": "stream",
     "text": [
      "Median Absolute Error:\n",
      "\n",
      "47959.27634272987\n"
     ]
    }
   ],
   "source": [
    "median_se = np.square(np.subtract(np.exp(y_test_18), np.exp(y_predicted_18))).median() \n",
    " \n",
    "med = math.sqrt(median_se)\n",
    "print(\"Median Absolute Error:\\n\")\n",
    "print(med)"
   ]
  },
  {
   "cell_type": "code",
   "execution_count": 64,
   "id": "e4f71ccf",
   "metadata": {},
   "outputs": [
    {
     "name": "stdout",
     "output_type": "stream",
     "text": [
      "Cork AutoML 2018 accuracy is: 0.2743055555555556\n"
     ]
    }
   ],
   "source": [
    "acc = accuracy_threshold(y_test_18, y_predicted_18, 0.1)\n",
    "print('Cork AutoML 2018 accuracy is: ' + str(acc))"
   ]
  },
  {
   "cell_type": "code",
   "execution_count": 124,
   "id": "830fe245",
   "metadata": {},
   "outputs": [],
   "source": [
    "%%capture\n",
    "explainer = shap.Explainer(model4.predict, x_test_18)\n",
    "shap_values4 = explainer(x_test_18)"
   ]
  },
  {
   "cell_type": "code",
   "execution_count": 125,
   "id": "92cb4c1e",
   "metadata": {},
   "outputs": [
    {
     "data": {
      "text/html": [
       "<div>\n",
       "<style scoped>\n",
       "    .dataframe tbody tr th:only-of-type {\n",
       "        vertical-align: middle;\n",
       "    }\n",
       "\n",
       "    .dataframe tbody tr th {\n",
       "        vertical-align: top;\n",
       "    }\n",
       "\n",
       "    .dataframe thead th {\n",
       "        text-align: right;\n",
       "    }\n",
       "</style>\n",
       "<table border=\"1\" class=\"dataframe\">\n",
       "  <thead>\n",
       "    <tr style=\"text-align: right;\">\n",
       "      <th></th>\n",
       "      <th>col_name</th>\n",
       "      <th>feature_importance_vals</th>\n",
       "    </tr>\n",
       "  </thead>\n",
       "  <tbody>\n",
       "    <tr>\n",
       "      <th>6</th>\n",
       "      <td>Neighbourhood</td>\n",
       "      <td>0.275542</td>\n",
       "    </tr>\n",
       "    <tr>\n",
       "      <th>12</th>\n",
       "      <td>DistanceCar</td>\n",
       "      <td>0.141658</td>\n",
       "    </tr>\n",
       "    <tr>\n",
       "      <th>9</th>\n",
       "      <td>DistanceCenter</td>\n",
       "      <td>0.132643</td>\n",
       "    </tr>\n",
       "    <tr>\n",
       "      <th>10</th>\n",
       "      <td>DistanceSchool</td>\n",
       "      <td>0.024899</td>\n",
       "    </tr>\n",
       "    <tr>\n",
       "      <th>5</th>\n",
       "      <td>Apartment</td>\n",
       "      <td>0.022728</td>\n",
       "    </tr>\n",
       "  </tbody>\n",
       "</table>\n",
       "</div>"
      ],
      "text/plain": [
       "          col_name  feature_importance_vals\n",
       "6    Neighbourhood                 0.275542\n",
       "12     DistanceCar                 0.141658\n",
       "9   DistanceCenter                 0.132643\n",
       "10  DistanceSchool                 0.024899\n",
       "5        Apartment                 0.022728"
      ]
     },
     "execution_count": 125,
     "metadata": {},
     "output_type": "execute_result"
    }
   ],
   "source": [
    "vals3 = np.abs(shap_values4.values).mean(0)\n",
    "feature_names3 = x_test_18.columns\n",
    "\n",
    "feature_importance3 = pd.DataFrame(list(zip(feature_names3, vals3)),\n",
    "                                 columns = ['col_name','feature_importance_vals'])\n",
    "feature_importance3.sort_values(by = ['feature_importance_vals'],\n",
    "                              ascending = False, inplace = True)\n",
    "feature_importance3.head()"
   ]
  },
  {
   "cell_type": "code",
   "execution_count": 126,
   "id": "cd54f7e6",
   "metadata": {},
   "outputs": [],
   "source": [
    "#f = plt.figure()\n",
    "#shap.summary_plot(shap_values4, x_test_18)\n",
    "#f.savefig(\"summary_plot18cork.png\", bbox_inches = 'tight', dpi = 600)"
   ]
  },
  {
   "cell_type": "code",
   "execution_count": 127,
   "id": "3615c403",
   "metadata": {},
   "outputs": [
    {
     "data": {
      "image/png": "[encoded data removed]",
      "text/plain": [
       "<Figure size 576x482.4 with 1 Axes>"
      ]
     },
     "metadata": {
      "needs_background": "light"
     },
     "output_type": "display_data"
    }
   ],
   "source": [
    "shap.summary_plot(shap_values4, x_test_18, plot_type = 'bar')"
   ]
  },
  {
   "cell_type": "code",
   "execution_count": 68,
   "id": "80dc53ea",
   "metadata": {},
   "outputs": [],
   "source": [
    "cnames=['Algorithm', 'Year', 'RMSE', 'MSE', 'MEDAE', 'Accuracy', 'MAPE']\n",
    "df14 = pd.DataFrame(columns=cnames)\n",
    "\n",
    "df14 = df14.append({'Algorithm': 'TPOT AutoML',\n",
    "            'Year': 2018,\n",
    "           'RMSE': rmse,\n",
    "           'MSE': mse,\n",
    "           'MEDAE': med,\n",
    "           'Accuracy': acc,\n",
    "           'MAPE': mape         \n",
    "          }, ignore_index=True)"
   ]
  },
  {
   "cell_type": "code",
   "execution_count": 69,
   "id": "d1ede4c8",
   "metadata": {},
   "outputs": [],
   "source": [
    "dfreal4 = pd.DataFrame(y_test_18.values)\n",
    "dfpred4 = pd.DataFrame(y_predicted_18)"
   ]
  },
  {
   "cell_type": "markdown",
   "id": "f17ba444",
   "metadata": {},
   "source": [
    "### 2017"
   ]
  },
  {
   "cell_type": "code",
   "execution_count": 70,
   "id": "54a16f8e",
   "metadata": {},
   "outputs": [],
   "source": [
    "specific17 = irl[irl['Year'] > 2013]\n",
    "test_17 = specific17[specific17['Year'] == 2017]\n",
    "train_17 = specific17[specific17['Year'] < 2017]\n",
    "\n",
    "x_train_17 = train_17.loc[:, train_17.columns != 'LogPrice (€)']\n",
    "y_train_17 = train_17['LogPrice (€)']\n",
    "x_test_17 = test_17.loc[:, test_17.columns != 'LogPrice (€)']\n",
    "y_test_17 = test_17['LogPrice (€)']\n",
    "\n",
    "x_t_17 = x_test_17"
   ]
  },
  {
   "cell_type": "code",
   "execution_count": 71,
   "id": "b6513a2c",
   "metadata": {},
   "outputs": [],
   "source": [
    "model = TPOTRegressor(max_time_mins = 10)\n",
    "# perform the search // takes ages to run!\n",
    "model5 = model.fit(x_train_17, y_train_17)"
   ]
  },
  {
   "cell_type": "code",
   "execution_count": 72,
   "id": "6afde390",
   "metadata": {},
   "outputs": [],
   "source": [
    "#model5.export('tpot_2017_pipeline.py')"
   ]
  },
  {
   "cell_type": "code",
   "execution_count": 73,
   "id": "9ebc3aa9",
   "metadata": {},
   "outputs": [
    {
     "name": "stdout",
     "output_type": "stream",
     "text": [
      "MSE for TPOT AutoML 2017 is: 18311022264.823505\n"
     ]
    }
   ],
   "source": [
    "y_predicted_17 = model1.predict(x_test_17)\n",
    "  \n",
    "# Calculation of Mean Squared Error (MSE)\n",
    "mse = mean_squared_error(np.exp(y_test_17), np.exp(y_predicted_17))\n",
    "print('MSE for TPOT AutoML 2017 is: ' + str(mse))"
   ]
  },
  {
   "cell_type": "code",
   "execution_count": 74,
   "id": "edeb7f03",
   "metadata": {},
   "outputs": [
    {
     "name": "stdout",
     "output_type": "stream",
     "text": [
      "MAPE for TPOT AutoML 2017 is: 0.38161990865938916\n"
     ]
    }
   ],
   "source": [
    "from sklearn.metrics import mean_absolute_percentage_error\n",
    "mape = mean_absolute_percentage_error(np.exp(y_test_17), np.exp(y_predicted_17))\n",
    "print(\"MAPE for TPOT AutoML 2017 is: \" + str(mape))"
   ]
  },
  {
   "cell_type": "code",
   "execution_count": 75,
   "id": "e7f5ec5f",
   "metadata": {},
   "outputs": [
    {
     "name": "stdout",
     "output_type": "stream",
     "text": [
      "Median Absolute Error:\n",
      "\n",
      "49882.25019232324\n"
     ]
    }
   ],
   "source": [
    "median_se = np.square(np.subtract(np.exp(y_test_17), np.exp(y_predicted_17))).median() \n",
    " \n",
    "med = math.sqrt(median_se)\n",
    "print(\"Median Absolute Error:\\n\")\n",
    "print(med)"
   ]
  },
  {
   "cell_type": "code",
   "execution_count": 76,
   "id": "4df87b20",
   "metadata": {},
   "outputs": [
    {
     "name": "stdout",
     "output_type": "stream",
     "text": [
      "RMSE for TPOT AutoML 2017 is: 135318.22591514976\n"
     ]
    }
   ],
   "source": [
    "rmse = mean_squared_error(np.exp(y_test_17), np.exp(y_predicted_17), squared = False)\n",
    "print('RMSE for TPOT AutoML 2017 is: ' + str(rmse))"
   ]
  },
  {
   "cell_type": "code",
   "execution_count": 77,
   "id": "1ffd42fe",
   "metadata": {},
   "outputs": [
    {
     "name": "stdout",
     "output_type": "stream",
     "text": [
      "Cork AutoML 2017 accuracy is: 0.23927038626609443\n"
     ]
    }
   ],
   "source": [
    "acc = accuracy_threshold(y_test_17, y_predicted_17, 0.1)\n",
    "print('Cork AutoML 2017 accuracy is: ' + str(acc))"
   ]
  },
  {
   "cell_type": "code",
   "execution_count": 128,
   "id": "92bb6972",
   "metadata": {},
   "outputs": [],
   "source": [
    "%%capture\n",
    "explainer = shap.Explainer(model5.predict, x_test_17)\n",
    "shap_values5 = explainer(x_test_17)"
   ]
  },
  {
   "cell_type": "code",
   "execution_count": 129,
   "id": "45b93451",
   "metadata": {},
   "outputs": [
    {
     "data": {
      "text/html": [
       "<div>\n",
       "<style scoped>\n",
       "    .dataframe tbody tr th:only-of-type {\n",
       "        vertical-align: middle;\n",
       "    }\n",
       "\n",
       "    .dataframe tbody tr th {\n",
       "        vertical-align: top;\n",
       "    }\n",
       "\n",
       "    .dataframe thead th {\n",
       "        text-align: right;\n",
       "    }\n",
       "</style>\n",
       "<table border=\"1\" class=\"dataframe\">\n",
       "  <thead>\n",
       "    <tr style=\"text-align: right;\">\n",
       "      <th></th>\n",
       "      <th>col_name</th>\n",
       "      <th>feature_importance_vals</th>\n",
       "    </tr>\n",
       "  </thead>\n",
       "  <tbody>\n",
       "    <tr>\n",
       "      <th>6</th>\n",
       "      <td>Neighbourhood</td>\n",
       "      <td>0.216587</td>\n",
       "    </tr>\n",
       "    <tr>\n",
       "      <th>4</th>\n",
       "      <td>Town</td>\n",
       "      <td>0.034436</td>\n",
       "    </tr>\n",
       "    <tr>\n",
       "      <th>7</th>\n",
       "      <td>Latitude</td>\n",
       "      <td>0.026465</td>\n",
       "    </tr>\n",
       "    <tr>\n",
       "      <th>9</th>\n",
       "      <td>DistanceCenter</td>\n",
       "      <td>0.018073</td>\n",
       "    </tr>\n",
       "    <tr>\n",
       "      <th>8</th>\n",
       "      <td>Longitude</td>\n",
       "      <td>0.017435</td>\n",
       "    </tr>\n",
       "  </tbody>\n",
       "</table>\n",
       "</div>"
      ],
      "text/plain": [
       "         col_name  feature_importance_vals\n",
       "6   Neighbourhood                 0.216587\n",
       "4            Town                 0.034436\n",
       "7        Latitude                 0.026465\n",
       "9  DistanceCenter                 0.018073\n",
       "8       Longitude                 0.017435"
      ]
     },
     "execution_count": 129,
     "metadata": {},
     "output_type": "execute_result"
    }
   ],
   "source": [
    "vals4 = np.abs(shap_values5.values).mean(0)\n",
    "feature_names4 = x_test_17.columns\n",
    "\n",
    "feature_importance4 = pd.DataFrame(list(zip(feature_names4, vals4)),\n",
    "                                 columns = ['col_name','feature_importance_vals'])\n",
    "feature_importance4.sort_values(by = ['feature_importance_vals'],\n",
    "                              ascending = False, inplace = True)\n",
    "feature_importance4.head()"
   ]
  },
  {
   "cell_type": "code",
   "execution_count": 130,
   "id": "bc5c5647",
   "metadata": {},
   "outputs": [],
   "source": [
    "#f = plt.figure()\n",
    "#shap.summary_plot(shap_values5, x_test_17)\n",
    "#f.savefig(\"summary_plot17cork.png\", bbox_inches = 'tight', dpi = 600)"
   ]
  },
  {
   "cell_type": "code",
   "execution_count": 131,
   "id": "35c6de55",
   "metadata": {},
   "outputs": [
    {
     "data": {
      "image/png": "[encoded data removed]",
      "text/plain": [
       "<Figure size 576x482.4 with 1 Axes>"
      ]
     },
     "metadata": {
      "needs_background": "light"
     },
     "output_type": "display_data"
    }
   ],
   "source": [
    "shap.summary_plot(shap_values5, x_train_17, plot_type = 'bar')"
   ]
  },
  {
   "cell_type": "code",
   "execution_count": 81,
   "id": "7fafc213",
   "metadata": {},
   "outputs": [],
   "source": [
    "dfreal5 = pd.DataFrame(y_test_17.values)\n",
    "dfpred5 = pd.DataFrame(y_predicted_17)"
   ]
  },
  {
   "cell_type": "code",
   "execution_count": 82,
   "id": "fef6770d",
   "metadata": {},
   "outputs": [],
   "source": [
    "cnames=['Algorithm', 'Year', 'RMSE', 'MSE', 'MEDAE', 'Accuracy', 'MAPE']\n",
    "df15 = pd.DataFrame(columns=cnames)\n",
    "\n",
    "df15 = df15.append({'Algorithm': 'TPOT AutoML',\n",
    "            'Year': 2017,\n",
    "           'RMSE': rmse,\n",
    "           'MSE': mse,\n",
    "           'MEDAE': med,\n",
    "           'Accuracy': acc,\n",
    "           'MAPE': mape         \n",
    "          }, ignore_index=True)"
   ]
  },
  {
   "cell_type": "code",
   "execution_count": 83,
   "id": "906e311d",
   "metadata": {},
   "outputs": [],
   "source": [
    "vis1 = pd.concat([df11, df12, df13, df14, df15], ignore_index=True)"
   ]
  },
  {
   "cell_type": "code",
   "execution_count": 84,
   "id": "2e146d45",
   "metadata": {},
   "outputs": [
    {
     "data": {
      "image/png": "[encoded data removed]",
      "text/plain": [
       "<Figure size 1800x576 with 1 Axes>"
      ]
     },
     "metadata": {
      "needs_background": "light"
     },
     "output_type": "display_data"
    }
   ],
   "source": [
    "# don't need cross validation same training due to set intervals?\n",
    "plt.subplots(figsize = (25, 8))\n",
    "plt.plot(vis1['Year'], vis1['Accuracy'], label = 'AutoML', color = 'turquoise')\n",
    "plt.xlabel('Year', fontsize = 15)\n",
    "plt.ylabel('Accuracy', fontsize = 15)\n",
    "plt.title('TPOT AutoML Results 2017 - 2021')\n",
    "plt.legend()\n",
    "plt.show()"
   ]
  },
  {
   "cell_type": "code",
   "execution_count": 85,
   "id": "66c109ff",
   "metadata": {},
   "outputs": [
    {
     "name": "stdout",
     "output_type": "stream",
     "text": [
      "Mean accuracy for TPOT AutoML over period 2017-2021 is: 0.277727998843247\n"
     ]
    }
   ],
   "source": [
    "print(\"Mean accuracy for TPOT AutoML over period 2017-2021 is: \" + str(vis1['Accuracy'].mean()))\n",
    "# Mean accuracy for TPOT AutoML over period 2017-2021 is: 0.3296431521892442"
   ]
  },
  {
   "cell_type": "code",
   "execution_count": 86,
   "id": "21da3c7c",
   "metadata": {},
   "outputs": [
    {
     "data": {
      "text/html": [
       "<div>\n",
       "<style scoped>\n",
       "    .dataframe tbody tr th:only-of-type {\n",
       "        vertical-align: middle;\n",
       "    }\n",
       "\n",
       "    .dataframe tbody tr th {\n",
       "        vertical-align: top;\n",
       "    }\n",
       "\n",
       "    .dataframe thead th {\n",
       "        text-align: right;\n",
       "    }\n",
       "</style>\n",
       "<table border=\"1\" class=\"dataframe\">\n",
       "  <thead>\n",
       "    <tr style=\"text-align: right;\">\n",
       "      <th></th>\n",
       "      <th>Actual</th>\n",
       "    </tr>\n",
       "  </thead>\n",
       "  <tbody>\n",
       "    <tr>\n",
       "      <th>0</th>\n",
       "      <td>11.976659</td>\n",
       "    </tr>\n",
       "    <tr>\n",
       "      <th>1</th>\n",
       "      <td>12.421184</td>\n",
       "    </tr>\n",
       "    <tr>\n",
       "      <th>2</th>\n",
       "      <td>12.028739</td>\n",
       "    </tr>\n",
       "    <tr>\n",
       "      <th>3</th>\n",
       "      <td>12.570716</td>\n",
       "    </tr>\n",
       "    <tr>\n",
       "      <th>4</th>\n",
       "      <td>12.367341</td>\n",
       "    </tr>\n",
       "  </tbody>\n",
       "</table>\n",
       "</div>"
      ],
      "text/plain": [
       "      Actual\n",
       "0  11.976659\n",
       "1  12.421184\n",
       "2  12.028739\n",
       "3  12.570716\n",
       "4  12.367341"
      ]
     },
     "execution_count": 86,
     "metadata": {},
     "output_type": "execute_result"
    }
   ],
   "source": [
    "actual = pd.concat([dfreal1, dfreal2, dfreal3, dfreal4, dfreal5], ignore_index = True)\n",
    "actual.rename(columns = {0: 'Actual'}, inplace = True)\n",
    "actual.head()"
   ]
  },
  {
   "cell_type": "code",
   "execution_count": 87,
   "id": "d8571942",
   "metadata": {},
   "outputs": [
    {
     "data": {
      "text/html": [
       "<div>\n",
       "<style scoped>\n",
       "    .dataframe tbody tr th:only-of-type {\n",
       "        vertical-align: middle;\n",
       "    }\n",
       "\n",
       "    .dataframe tbody tr th {\n",
       "        vertical-align: top;\n",
       "    }\n",
       "\n",
       "    .dataframe thead th {\n",
       "        text-align: right;\n",
       "    }\n",
       "</style>\n",
       "<table border=\"1\" class=\"dataframe\">\n",
       "  <thead>\n",
       "    <tr style=\"text-align: right;\">\n",
       "      <th></th>\n",
       "      <th>Predicted</th>\n",
       "    </tr>\n",
       "  </thead>\n",
       "  <tbody>\n",
       "    <tr>\n",
       "      <th>0</th>\n",
       "      <td>12.196519</td>\n",
       "    </tr>\n",
       "    <tr>\n",
       "      <th>1</th>\n",
       "      <td>12.325097</td>\n",
       "    </tr>\n",
       "    <tr>\n",
       "      <th>2</th>\n",
       "      <td>11.844082</td>\n",
       "    </tr>\n",
       "    <tr>\n",
       "      <th>3</th>\n",
       "      <td>11.975397</td>\n",
       "    </tr>\n",
       "    <tr>\n",
       "      <th>4</th>\n",
       "      <td>12.396661</td>\n",
       "    </tr>\n",
       "  </tbody>\n",
       "</table>\n",
       "</div>"
      ],
      "text/plain": [
       "   Predicted\n",
       "0  12.196519\n",
       "1  12.325097\n",
       "2  11.844082\n",
       "3  11.975397\n",
       "4  12.396661"
      ]
     },
     "execution_count": 87,
     "metadata": {},
     "output_type": "execute_result"
    }
   ],
   "source": [
    "pred = pd.concat([dfpred1, dfpred2, dfpred3, dfpred4, dfpred5], ignore_index = True)\n",
    "pred.rename(columns={0: 'Predicted'}, inplace = True)\n",
    "pred.head()"
   ]
  },
  {
   "cell_type": "code",
   "execution_count": 88,
   "id": "79e48ade",
   "metadata": {},
   "outputs": [],
   "source": [
    "actualvpred = actual.join(pred)"
   ]
  },
  {
   "cell_type": "code",
   "execution_count": 89,
   "id": "f6200fb6",
   "metadata": {},
   "outputs": [
    {
     "data": {
      "text/html": [
       "<div>\n",
       "<style scoped>\n",
       "    .dataframe tbody tr th:only-of-type {\n",
       "        vertical-align: middle;\n",
       "    }\n",
       "\n",
       "    .dataframe tbody tr th {\n",
       "        vertical-align: top;\n",
       "    }\n",
       "\n",
       "    .dataframe thead th {\n",
       "        text-align: right;\n",
       "    }\n",
       "</style>\n",
       "<table border=\"1\" class=\"dataframe\">\n",
       "  <thead>\n",
       "    <tr style=\"text-align: right;\">\n",
       "      <th></th>\n",
       "      <th>Actual</th>\n",
       "      <th>Predicted</th>\n",
       "    </tr>\n",
       "  </thead>\n",
       "  <tbody>\n",
       "    <tr>\n",
       "      <th>0</th>\n",
       "      <td>11.976659</td>\n",
       "      <td>12.196519</td>\n",
       "    </tr>\n",
       "    <tr>\n",
       "      <th>1</th>\n",
       "      <td>12.421184</td>\n",
       "      <td>12.325097</td>\n",
       "    </tr>\n",
       "    <tr>\n",
       "      <th>2</th>\n",
       "      <td>12.028739</td>\n",
       "      <td>11.844082</td>\n",
       "    </tr>\n",
       "    <tr>\n",
       "      <th>3</th>\n",
       "      <td>12.570716</td>\n",
       "      <td>11.975397</td>\n",
       "    </tr>\n",
       "    <tr>\n",
       "      <th>4</th>\n",
       "      <td>12.367341</td>\n",
       "      <td>12.396661</td>\n",
       "    </tr>\n",
       "  </tbody>\n",
       "</table>\n",
       "</div>"
      ],
      "text/plain": [
       "      Actual  Predicted\n",
       "0  11.976659  12.196519\n",
       "1  12.421184  12.325097\n",
       "2  12.028739  11.844082\n",
       "3  12.570716  11.975397\n",
       "4  12.367341  12.396661"
      ]
     },
     "execution_count": 89,
     "metadata": {},
     "output_type": "execute_result"
    }
   ],
   "source": [
    "actualvpred.head()"
   ]
  },
  {
   "cell_type": "code",
   "execution_count": 90,
   "id": "959de25d",
   "metadata": {},
   "outputs": [],
   "source": [
    "exp = np.exp(actualvpred)"
   ]
  },
  {
   "cell_type": "code",
   "execution_count": 91,
   "id": "24c74507",
   "metadata": {},
   "outputs": [
    {
     "data": {
      "text/plain": [
       "(4045, 2)"
      ]
     },
     "execution_count": 91,
     "metadata": {},
     "output_type": "execute_result"
    }
   ],
   "source": [
    "exp.shape"
   ]
  },
  {
   "cell_type": "code",
   "execution_count": 92,
   "id": "20f527ec",
   "metadata": {},
   "outputs": [],
   "source": [
    "x_t_21 = x_t_21.reset_index()\n",
    "x_t_20 = x_t_20.reset_index()\n",
    "x_t_19 = x_t_19.reset_index()\n",
    "x_t_18 = x_t_18.reset_index()\n",
    "x_t_17 = x_t_17.reset_index()\n",
    "\n",
    "x_t_21.drop(columns = ['index'], inplace = True)\n",
    "x_t_20.drop(columns = ['index'], inplace = True)\n",
    "x_t_19.drop(columns = ['index'], inplace = True)\n",
    "x_t_18.drop(columns = ['index'], inplace = True)\n",
    "x_t_17.drop(columns = ['index'], inplace = True)"
   ]
  },
  {
   "cell_type": "code",
   "execution_count": 93,
   "id": "1eec9e54",
   "metadata": {},
   "outputs": [
    {
     "data": {
      "image/png": "[encoded data removed]",
      "text/plain": [
       "<Figure size 720x720 with 1 Axes>"
      ]
     },
     "metadata": {
      "needs_background": "light"
     },
     "output_type": "display_data"
    }
   ],
   "source": [
    "# plot predicted vs actual\n",
    "## this is using actual prices hence adjusted scale compared to mljar plot\n",
    "plt.figure(figsize = (10, 10))\n",
    "plt.scatter(exp['Actual'], exp['Predicted'], c = 'black')\n",
    "\n",
    "p1 = max(max(exp['Predicted']), max(exp['Actual']))\n",
    "p2 = min(min(exp['Predicted']), min(exp['Actual']))\n",
    "plt.plot([p1, p2], [p1, p2], 'r-')\n",
    "plt.xlabel('True Values', fontsize = 15)\n",
    "plt.ylabel('Predictions', fontsize = 15)\n",
    "plt.title('TPOT AutoML Actual Vs Predicted Values')\n",
    "plt.axis('equal')\n",
    "plt.show()"
   ]
  },
  {
   "cell_type": "code",
   "execution_count": 94,
   "id": "ba079bc0",
   "metadata": {},
   "outputs": [
    {
     "name": "stderr",
     "output_type": "stream",
     "text": [
      "2022-04-26 14:48:08,599 fiona._env ERROR Unable to open EPSG support file gcs.csv.  Try setting the GDAL_DATA environment variable to point to the directory containing EPSG csv files.\n",
      "2022-04-26 14:48:08,601 fiona._env ERROR Unable to open EPSG support file gcs.csv.  Try setting the GDAL_DATA environment variable to point to the directory containing EPSG csv files.\n"
     ]
    },
    {
     "data": {
      "text/html": [
       "<div>\n",
       "<style scoped>\n",
       "    .dataframe tbody tr th:only-of-type {\n",
       "        vertical-align: middle;\n",
       "    }\n",
       "\n",
       "    .dataframe tbody tr th {\n",
       "        vertical-align: top;\n",
       "    }\n",
       "\n",
       "    .dataframe thead th {\n",
       "        text-align: right;\n",
       "    }\n",
       "</style>\n",
       "<table border=\"1\" class=\"dataframe\">\n",
       "  <thead>\n",
       "    <tr style=\"text-align: right;\">\n",
       "      <th></th>\n",
       "      <th>Latitude</th>\n",
       "      <th>Longtitude</th>\n",
       "      <th>ENGLISH</th>\n",
       "      <th>CONTAE</th>\n",
       "      <th>COUNTY</th>\n",
       "      <th>AREA</th>\n",
       "      <th>PROVINCE</th>\n",
       "      <th>geometry</th>\n",
       "    </tr>\n",
       "  </thead>\n",
       "  <tbody>\n",
       "    <tr>\n",
       "      <th>0</th>\n",
       "      <td>51.905</td>\n",
       "      <td>-8.384</td>\n",
       "      <td>CORK CITY COUNCIL</td>\n",
       "      <td>Corcaigh</td>\n",
       "      <td>CORK</td>\n",
       "      <td>186597605.50694406</td>\n",
       "      <td>Munster</td>\n",
       "      <td>POLYGON ((-8.38436 51.90533, -8.38425 51.90529...</td>\n",
       "    </tr>\n",
       "  </tbody>\n",
       "</table>\n",
       "</div>"
      ],
      "text/plain": [
       "   Latitude  Longtitude            ENGLISH    CONTAE COUNTY  \\\n",
       "0    51.905      -8.384  CORK CITY COUNCIL  Corcaigh   CORK   \n",
       "\n",
       "                 AREA PROVINCE  \\\n",
       "0  186597605.50694406  Munster   \n",
       "\n",
       "                                            geometry  \n",
       "0  POLYGON ((-8.38436 51.90533, -8.38425 51.90529...  "
      ]
     },
     "execution_count": 94,
     "metadata": {},
     "output_type": "execute_result"
    }
   ],
   "source": [
    "import geopandas as gpd\n",
    "cork_map = gpd.read_file('cork-city-boundary\\Cork City BoundaryWGS84.shp')  #reading the shape file for our maps \n",
    "cork_map.head(1)"
   ]
  },
  {
   "cell_type": "code",
   "execution_count": 95,
   "id": "49189eaf",
   "metadata": {},
   "outputs": [
    {
     "data": {
      "text/html": [
       "<div>\n",
       "<style scoped>\n",
       "    .dataframe tbody tr th:only-of-type {\n",
       "        vertical-align: middle;\n",
       "    }\n",
       "\n",
       "    .dataframe tbody tr th {\n",
       "        vertical-align: top;\n",
       "    }\n",
       "\n",
       "    .dataframe thead th {\n",
       "        text-align: right;\n",
       "    }\n",
       "</style>\n",
       "<table border=\"1\" class=\"dataframe\">\n",
       "  <thead>\n",
       "    <tr style=\"text-align: right;\">\n",
       "      <th></th>\n",
       "      <th>0</th>\n",
       "      <th>Longitude</th>\n",
       "      <th>Latitude</th>\n",
       "    </tr>\n",
       "  </thead>\n",
       "  <tbody>\n",
       "    <tr>\n",
       "      <th>0</th>\n",
       "      <td>11.976659</td>\n",
       "      <td>-8.337650</td>\n",
       "      <td>51.873131</td>\n",
       "    </tr>\n",
       "    <tr>\n",
       "      <th>1</th>\n",
       "      <td>12.421184</td>\n",
       "      <td>-8.445846</td>\n",
       "      <td>51.917272</td>\n",
       "    </tr>\n",
       "    <tr>\n",
       "      <th>2</th>\n",
       "      <td>12.028739</td>\n",
       "      <td>-8.478741</td>\n",
       "      <td>51.915242</td>\n",
       "    </tr>\n",
       "    <tr>\n",
       "      <th>3</th>\n",
       "      <td>12.570716</td>\n",
       "      <td>-8.461265</td>\n",
       "      <td>51.907005</td>\n",
       "    </tr>\n",
       "    <tr>\n",
       "      <th>4</th>\n",
       "      <td>12.367341</td>\n",
       "      <td>-8.505025</td>\n",
       "      <td>51.882794</td>\n",
       "    </tr>\n",
       "  </tbody>\n",
       "</table>\n",
       "</div>"
      ],
      "text/plain": [
       "           0  Longitude   Latitude\n",
       "0  11.976659  -8.337650  51.873131\n",
       "1  12.421184  -8.445846  51.917272\n",
       "2  12.028739  -8.478741  51.915242\n",
       "3  12.570716  -8.461265  51.907005\n",
       "4  12.367341  -8.505025  51.882794"
      ]
     },
     "execution_count": 95,
     "metadata": {},
     "output_type": "execute_result"
    }
   ],
   "source": [
    "l1 = dfreal1.join(x_t_21[['Longitude', 'Latitude']])\n",
    "l2 = dfreal2.join(x_t_20[['Longitude', 'Latitude']])\n",
    "l3 = dfreal3.join(x_t_19[['Longitude', 'Latitude']])\n",
    "l4 = dfreal4.join(x_t_18[['Longitude', 'Latitude']])\n",
    "l5 = dfreal5.join(x_t_17[['Longitude', 'Latitude']])\n",
    "\n",
    "plots = pd.concat([l1, l2, l3, l4, l5], ignore_index = True)\n",
    "plots.head()"
   ]
  },
  {
   "cell_type": "code",
   "execution_count": 96,
   "id": "cecaa191",
   "metadata": {},
   "outputs": [],
   "source": [
    "#plots = pd.concat([l1, l2, l3, l4, l5], ignore_index=True)"
   ]
  },
  {
   "cell_type": "code",
   "execution_count": 97,
   "id": "8da4cb01",
   "metadata": {},
   "outputs": [],
   "source": [
    "plots.rename(columns = {0 : 'Actual'}, inplace = True)"
   ]
  },
  {
   "cell_type": "code",
   "execution_count": 98,
   "id": "b8bf2662",
   "metadata": {},
   "outputs": [
    {
     "data": {
      "text/html": [
       "<div>\n",
       "<style scoped>\n",
       "    .dataframe tbody tr th:only-of-type {\n",
       "        vertical-align: middle;\n",
       "    }\n",
       "\n",
       "    .dataframe tbody tr th {\n",
       "        vertical-align: top;\n",
       "    }\n",
       "\n",
       "    .dataframe thead th {\n",
       "        text-align: right;\n",
       "    }\n",
       "</style>\n",
       "<table border=\"1\" class=\"dataframe\">\n",
       "  <thead>\n",
       "    <tr style=\"text-align: right;\">\n",
       "      <th></th>\n",
       "      <th>Actual</th>\n",
       "      <th>Longitude</th>\n",
       "      <th>Latitude</th>\n",
       "      <th>Predicted</th>\n",
       "    </tr>\n",
       "  </thead>\n",
       "  <tbody>\n",
       "    <tr>\n",
       "      <th>0</th>\n",
       "      <td>11.976659</td>\n",
       "      <td>-8.337650</td>\n",
       "      <td>51.873131</td>\n",
       "      <td>12.196519</td>\n",
       "    </tr>\n",
       "    <tr>\n",
       "      <th>1</th>\n",
       "      <td>12.421184</td>\n",
       "      <td>-8.445846</td>\n",
       "      <td>51.917272</td>\n",
       "      <td>12.325097</td>\n",
       "    </tr>\n",
       "    <tr>\n",
       "      <th>2</th>\n",
       "      <td>12.028739</td>\n",
       "      <td>-8.478741</td>\n",
       "      <td>51.915242</td>\n",
       "      <td>11.844082</td>\n",
       "    </tr>\n",
       "    <tr>\n",
       "      <th>3</th>\n",
       "      <td>12.570716</td>\n",
       "      <td>-8.461265</td>\n",
       "      <td>51.907005</td>\n",
       "      <td>11.975397</td>\n",
       "    </tr>\n",
       "    <tr>\n",
       "      <th>4</th>\n",
       "      <td>12.367341</td>\n",
       "      <td>-8.505025</td>\n",
       "      <td>51.882794</td>\n",
       "      <td>12.396661</td>\n",
       "    </tr>\n",
       "  </tbody>\n",
       "</table>\n",
       "</div>"
      ],
      "text/plain": [
       "      Actual  Longitude   Latitude  Predicted\n",
       "0  11.976659  -8.337650  51.873131  12.196519\n",
       "1  12.421184  -8.445846  51.917272  12.325097\n",
       "2  12.028739  -8.478741  51.915242  11.844082\n",
       "3  12.570716  -8.461265  51.907005  11.975397\n",
       "4  12.367341  -8.505025  51.882794  12.396661"
      ]
     },
     "execution_count": 98,
     "metadata": {},
     "output_type": "execute_result"
    }
   ],
   "source": [
    "plotscomp = plots.join(pred)\n",
    "plotscomp.head()"
   ]
  },
  {
   "cell_type": "code",
   "execution_count": 99,
   "id": "7569d470",
   "metadata": {},
   "outputs": [],
   "source": [
    "exp1 = np.exp(plotscomp[['Actual', 'Predicted']])"
   ]
  },
  {
   "cell_type": "code",
   "execution_count": 100,
   "id": "8b8df1d7",
   "metadata": {},
   "outputs": [],
   "source": [
    "exp1 = exp1.join(plotscomp[['Longitude', 'Latitude']])"
   ]
  },
  {
   "cell_type": "code",
   "execution_count": 101,
   "id": "346a19e3",
   "metadata": {},
   "outputs": [
    {
     "data": {
      "text/html": [
       "<div>\n",
       "<style scoped>\n",
       "    .dataframe tbody tr th:only-of-type {\n",
       "        vertical-align: middle;\n",
       "    }\n",
       "\n",
       "    .dataframe tbody tr th {\n",
       "        vertical-align: top;\n",
       "    }\n",
       "\n",
       "    .dataframe thead th {\n",
       "        text-align: right;\n",
       "    }\n",
       "</style>\n",
       "<table border=\"1\" class=\"dataframe\">\n",
       "  <thead>\n",
       "    <tr style=\"text-align: right;\">\n",
       "      <th></th>\n",
       "      <th>Actual</th>\n",
       "      <th>Predicted</th>\n",
       "      <th>Longitude</th>\n",
       "      <th>Latitude</th>\n",
       "    </tr>\n",
       "  </thead>\n",
       "  <tbody>\n",
       "    <tr>\n",
       "      <th>0</th>\n",
       "      <td>159000.0</td>\n",
       "      <td>198098.336917</td>\n",
       "      <td>-8.337650</td>\n",
       "      <td>51.873131</td>\n",
       "    </tr>\n",
       "    <tr>\n",
       "      <th>1</th>\n",
       "      <td>248000.0</td>\n",
       "      <td>225279.512765</td>\n",
       "      <td>-8.445846</td>\n",
       "      <td>51.917272</td>\n",
       "    </tr>\n",
       "    <tr>\n",
       "      <th>2</th>\n",
       "      <td>167500.0</td>\n",
       "      <td>139257.729830</td>\n",
       "      <td>-8.478741</td>\n",
       "      <td>51.915242</td>\n",
       "    </tr>\n",
       "    <tr>\n",
       "      <th>3</th>\n",
       "      <td>288000.0</td>\n",
       "      <td>158799.445657</td>\n",
       "      <td>-8.461265</td>\n",
       "      <td>51.907005</td>\n",
       "    </tr>\n",
       "    <tr>\n",
       "      <th>4</th>\n",
       "      <td>235000.0</td>\n",
       "      <td>241992.331787</td>\n",
       "      <td>-8.505025</td>\n",
       "      <td>51.882794</td>\n",
       "    </tr>\n",
       "  </tbody>\n",
       "</table>\n",
       "</div>"
      ],
      "text/plain": [
       "     Actual      Predicted  Longitude   Latitude\n",
       "0  159000.0  198098.336917  -8.337650  51.873131\n",
       "1  248000.0  225279.512765  -8.445846  51.917272\n",
       "2  167500.0  139257.729830  -8.478741  51.915242\n",
       "3  288000.0  158799.445657  -8.461265  51.907005\n",
       "4  235000.0  241992.331787  -8.505025  51.882794"
      ]
     },
     "execution_count": 101,
     "metadata": {},
     "output_type": "execute_result"
    }
   ],
   "source": [
    "exp1.head()"
   ]
  },
  {
   "cell_type": "code",
   "execution_count": 102,
   "id": "24a71279",
   "metadata": {},
   "outputs": [],
   "source": [
    "num = 0.1\n",
    "lst = []\n",
    "test = np.array(exp1['Actual'])\n",
    "pred = np.array(exp1['Predicted'])\n",
    "count = 0\n",
    "for i in range(len(pred)):\n",
    "    if test[i] != 0:  \n",
    "        ten = test[i] * num\n",
    "        res = test[i] - pred[i]\n",
    "    else:\n",
    "        res = 0\n",
    "        ten = 0\n",
    "        \n",
    "    if res < 0:\n",
    "        res = res * -1\n",
    "    else:\n",
    "        res = res\n",
    "            \n",
    "    if res <= ten:\n",
    "        lst.append(1)\n",
    "    else:\n",
    "        lst.append(0)"
   ]
  },
  {
   "cell_type": "code",
   "execution_count": 103,
   "id": "e8f28fac",
   "metadata": {},
   "outputs": [],
   "source": [
    "exp1['Accurate'] = lst"
   ]
  },
  {
   "cell_type": "code",
   "execution_count": 104,
   "id": "a4fe82c4",
   "metadata": {},
   "outputs": [
    {
     "data": {
      "text/html": [
       "<div>\n",
       "<style scoped>\n",
       "    .dataframe tbody tr th:only-of-type {\n",
       "        vertical-align: middle;\n",
       "    }\n",
       "\n",
       "    .dataframe tbody tr th {\n",
       "        vertical-align: top;\n",
       "    }\n",
       "\n",
       "    .dataframe thead th {\n",
       "        text-align: right;\n",
       "    }\n",
       "</style>\n",
       "<table border=\"1\" class=\"dataframe\">\n",
       "  <thead>\n",
       "    <tr style=\"text-align: right;\">\n",
       "      <th></th>\n",
       "      <th>Actual</th>\n",
       "      <th>Predicted</th>\n",
       "      <th>Longitude</th>\n",
       "      <th>Latitude</th>\n",
       "      <th>Accurate</th>\n",
       "    </tr>\n",
       "  </thead>\n",
       "  <tbody>\n",
       "    <tr>\n",
       "      <th>0</th>\n",
       "      <td>159000.0</td>\n",
       "      <td>198098.336917</td>\n",
       "      <td>-8.337650</td>\n",
       "      <td>51.873131</td>\n",
       "      <td>0</td>\n",
       "    </tr>\n",
       "    <tr>\n",
       "      <th>1</th>\n",
       "      <td>248000.0</td>\n",
       "      <td>225279.512765</td>\n",
       "      <td>-8.445846</td>\n",
       "      <td>51.917272</td>\n",
       "      <td>1</td>\n",
       "    </tr>\n",
       "    <tr>\n",
       "      <th>2</th>\n",
       "      <td>167500.0</td>\n",
       "      <td>139257.729830</td>\n",
       "      <td>-8.478741</td>\n",
       "      <td>51.915242</td>\n",
       "      <td>0</td>\n",
       "    </tr>\n",
       "    <tr>\n",
       "      <th>3</th>\n",
       "      <td>288000.0</td>\n",
       "      <td>158799.445657</td>\n",
       "      <td>-8.461265</td>\n",
       "      <td>51.907005</td>\n",
       "      <td>0</td>\n",
       "    </tr>\n",
       "    <tr>\n",
       "      <th>4</th>\n",
       "      <td>235000.0</td>\n",
       "      <td>241992.331787</td>\n",
       "      <td>-8.505025</td>\n",
       "      <td>51.882794</td>\n",
       "      <td>1</td>\n",
       "    </tr>\n",
       "  </tbody>\n",
       "</table>\n",
       "</div>"
      ],
      "text/plain": [
       "     Actual      Predicted  Longitude   Latitude  Accurate\n",
       "0  159000.0  198098.336917  -8.337650  51.873131         0\n",
       "1  248000.0  225279.512765  -8.445846  51.917272         1\n",
       "2  167500.0  139257.729830  -8.478741  51.915242         0\n",
       "3  288000.0  158799.445657  -8.461265  51.907005         0\n",
       "4  235000.0  241992.331787  -8.505025  51.882794         1"
      ]
     },
     "execution_count": 104,
     "metadata": {},
     "output_type": "execute_result"
    }
   ],
   "source": [
    "exp1.head()"
   ]
  },
  {
   "cell_type": "code",
   "execution_count": 108,
   "id": "c86d2603",
   "metadata": {},
   "outputs": [],
   "source": [
    "from matplotlib.colors import ListedColormap, LinearSegmentedColormap\n",
    "cmap1 = ListedColormap([\"red\", \"limegreen\"])"
   ]
  },
  {
   "cell_type": "code",
   "execution_count": 111,
   "id": "957b8bce",
   "metadata": {},
   "outputs": [
    {
     "data": {
      "image/png": "[encoded data removed]",
      "text/plain": [
       "<Figure size 1080x504 with 2 Axes>"
      ]
     },
     "metadata": {
      "needs_background": "light"
     },
     "output_type": "display_data"
    }
   ],
   "source": [
    "fig, (ax1, ax2) = plt.subplots(1, 2, figsize = (15, 7), gridspec_kw={'width_ratios': [1, 1.5]})\n",
    "#fig.tight_layout()\n",
    "#sns.histplot(df['Price'], ax=ax1)\n",
    "ax1.scatter(exp['Actual'], exp['Predicted'], c = 'black')\n",
    "\n",
    "p1 = max(max(exp['Predicted']), max(exp['Actual']))\n",
    "p2 = min(min(exp['Predicted']), min(exp['Actual']))\n",
    "ax1.plot([p1, p2], [p1, p2], 'r-')\n",
    "ax1.set_xlabel('True Values', fontsize = 10)\n",
    "ax1.set_ylabel('Predictions', fontsize = 10)\n",
    "\n",
    "# cork map\n",
    "cork_map.plot(ax = ax2, color = 'lightgrey')\n",
    "#ax.axhline(y = 53.34975, color = 'r', linestyle = '--')\n",
    "plt.scatter(x = exp1['Longitude'], y = exp1['Latitude'], c = exp1['Accurate'], cmap = cmap1)\n",
    "#plt.title('Plot of Locations of Accurately Predicted properties used in test dataset')\n",
    "#plt.colorbar()\n",
    "#plt.title('TPOT AutoML Actual Vs Predicted Values')\n",
    "#plt.axis('equal')\n",
    "\n",
    "fig.savefig('cork-comparison.png', bbox_inches='tight')\n",
    "plt.show()"
   ]
  },
  {
   "cell_type": "code",
   "execution_count": 106,
   "id": "796acc45",
   "metadata": {},
   "outputs": [
    {
     "data": {
      "text/html": [
       "<div>\n",
       "<style scoped>\n",
       "    .dataframe tbody tr th:only-of-type {\n",
       "        vertical-align: middle;\n",
       "    }\n",
       "\n",
       "    .dataframe tbody tr th {\n",
       "        vertical-align: top;\n",
       "    }\n",
       "\n",
       "    .dataframe thead th {\n",
       "        text-align: right;\n",
       "    }\n",
       "</style>\n",
       "<table border=\"1\" class=\"dataframe\">\n",
       "  <thead>\n",
       "    <tr style=\"text-align: right;\">\n",
       "      <th></th>\n",
       "      <th>Algorithm</th>\n",
       "      <th>Year</th>\n",
       "      <th>RMSE</th>\n",
       "      <th>MSE</th>\n",
       "      <th>MEDAE</th>\n",
       "      <th>Accuracy</th>\n",
       "      <th>MAPE</th>\n",
       "    </tr>\n",
       "  </thead>\n",
       "  <tbody>\n",
       "    <tr>\n",
       "      <th>0</th>\n",
       "      <td>TPOT AutoML</td>\n",
       "      <td>2021</td>\n",
       "      <td>140080.556229</td>\n",
       "      <td>1.962256e+10</td>\n",
       "      <td>54995.496395</td>\n",
       "      <td>0.242706</td>\n",
       "      <td>0.306304</td>\n",
       "    </tr>\n",
       "    <tr>\n",
       "      <th>1</th>\n",
       "      <td>TPOT AutoML</td>\n",
       "      <td>2020</td>\n",
       "      <td>125990.579144</td>\n",
       "      <td>1.587363e+10</td>\n",
       "      <td>42198.236807</td>\n",
       "      <td>0.325352</td>\n",
       "      <td>0.300833</td>\n",
       "    </tr>\n",
       "    <tr>\n",
       "      <th>2</th>\n",
       "      <td>TPOT AutoML</td>\n",
       "      <td>2019</td>\n",
       "      <td>128180.737601</td>\n",
       "      <td>1.643030e+10</td>\n",
       "      <td>42403.167164</td>\n",
       "      <td>0.307006</td>\n",
       "      <td>0.301753</td>\n",
       "    </tr>\n",
       "    <tr>\n",
       "      <th>3</th>\n",
       "      <td>TPOT AutoML</td>\n",
       "      <td>2018</td>\n",
       "      <td>126354.860720</td>\n",
       "      <td>1.596555e+10</td>\n",
       "      <td>47959.276343</td>\n",
       "      <td>0.274306</td>\n",
       "      <td>0.335290</td>\n",
       "    </tr>\n",
       "    <tr>\n",
       "      <th>4</th>\n",
       "      <td>TPOT AutoML</td>\n",
       "      <td>2017</td>\n",
       "      <td>135318.225915</td>\n",
       "      <td>1.831102e+10</td>\n",
       "      <td>49882.250192</td>\n",
       "      <td>0.239270</td>\n",
       "      <td>0.381620</td>\n",
       "    </tr>\n",
       "  </tbody>\n",
       "</table>\n",
       "</div>"
      ],
      "text/plain": [
       "     Algorithm  Year           RMSE           MSE         MEDAE  Accuracy  \\\n",
       "0  TPOT AutoML  2021  140080.556229  1.962256e+10  54995.496395  0.242706   \n",
       "1  TPOT AutoML  2020  125990.579144  1.587363e+10  42198.236807  0.325352   \n",
       "2  TPOT AutoML  2019  128180.737601  1.643030e+10  42403.167164  0.307006   \n",
       "3  TPOT AutoML  2018  126354.860720  1.596555e+10  47959.276343  0.274306   \n",
       "4  TPOT AutoML  2017  135318.225915  1.831102e+10  49882.250192  0.239270   \n",
       "\n",
       "       MAPE  \n",
       "0  0.306304  \n",
       "1  0.300833  \n",
       "2  0.301753  \n",
       "3  0.335290  \n",
       "4  0.381620  "
      ]
     },
     "execution_count": 106,
     "metadata": {},
     "output_type": "execute_result"
    }
   ],
   "source": [
    "vis1"
   ]
  },
  {
   "cell_type": "code",
   "execution_count": 107,
   "id": "aa04ac3a",
   "metadata": {},
   "outputs": [
    {
     "data": {
      "text/html": [
       "<style type=\"text/css\">\n",
       "</style>\n",
       "<table id=\"T_8bac5_\">\n",
       "  <thead>\n",
       "    <tr>\n",
       "      <th class=\"blank level0\" >&nbsp;</th>\n",
       "      <th class=\"col_heading level0 col0\" >Averages</th>\n",
       "    </tr>\n",
       "  </thead>\n",
       "  <tbody>\n",
       "    <tr>\n",
       "      <th id=\"T_8bac5_level0_row0\" class=\"row_heading level0 row0\" >RMSE</th>\n",
       "      <td id=\"T_8bac5_row0_col0\" class=\"data row0 col0\" >131184.992</td>\n",
       "    </tr>\n",
       "    <tr>\n",
       "      <th id=\"T_8bac5_level0_row1\" class=\"row_heading level0 row1\" >MSE</th>\n",
       "      <td id=\"T_8bac5_row1_col0\" class=\"data row1 col0\" >17240612570.101</td>\n",
       "    </tr>\n",
       "    <tr>\n",
       "      <th id=\"T_8bac5_level0_row2\" class=\"row_heading level0 row2\" >MEDAE</th>\n",
       "      <td id=\"T_8bac5_row2_col0\" class=\"data row2 col0\" >47487.685</td>\n",
       "    </tr>\n",
       "    <tr>\n",
       "      <th id=\"T_8bac5_level0_row3\" class=\"row_heading level0 row3\" >Accuracy</th>\n",
       "      <td id=\"T_8bac5_row3_col0\" class=\"data row3 col0\" >0.278</td>\n",
       "    </tr>\n",
       "    <tr>\n",
       "      <th id=\"T_8bac5_level0_row4\" class=\"row_heading level0 row4\" >MAPE</th>\n",
       "      <td id=\"T_8bac5_row4_col0\" class=\"data row4 col0\" >0.325</td>\n",
       "    </tr>\n",
       "  </tbody>\n",
       "</table>\n"
      ],
      "text/plain": [
       "<pandas.io.formats.style.Styler at 0x1ae0a1b4370>"
      ]
     },
     "execution_count": 107,
     "metadata": {},
     "output_type": "execute_result"
    }
   ],
   "source": [
    "valuess = pd.DataFrame(vis1[['RMSE', 'MSE', 'MEDAE', 'Accuracy', 'MAPE']].mean())\n",
    "valuess.rename(columns={0: 'Averages'}, inplace = True)\n",
    "valuess.style.format(\"{:.3f}\")"
   ]
  },
  {
   "cell_type": "code",
   "execution_count": 132,
   "id": "d2c26c69",
   "metadata": {},
   "outputs": [
    {
     "name": "stderr",
     "output_type": "stream",
     "text": [
      "Passing 'suffixes' which cause duplicate columns {'feature_importance_vals_x'} in the result is deprecated and will raise a MergeError in a future version.\n"
     ]
    },
    {
     "data": {
      "text/html": [
       "<div>\n",
       "<style scoped>\n",
       "    .dataframe tbody tr th:only-of-type {\n",
       "        vertical-align: middle;\n",
       "    }\n",
       "\n",
       "    .dataframe tbody tr th {\n",
       "        vertical-align: top;\n",
       "    }\n",
       "\n",
       "    .dataframe thead th {\n",
       "        text-align: right;\n",
       "    }\n",
       "</style>\n",
       "<table border=\"1\" class=\"dataframe\">\n",
       "  <thead>\n",
       "    <tr style=\"text-align: right;\">\n",
       "      <th></th>\n",
       "      <th>col_name</th>\n",
       "      <th>feature_importance_vals_x</th>\n",
       "      <th>feature_importance_vals_y</th>\n",
       "      <th>feature_importance_vals_x</th>\n",
       "      <th>feature_importance_vals_y</th>\n",
       "      <th>feature_importance_vals</th>\n",
       "    </tr>\n",
       "  </thead>\n",
       "  <tbody>\n",
       "    <tr>\n",
       "      <th>0</th>\n",
       "      <td>Neighbourhood</td>\n",
       "      <td>0.266325</td>\n",
       "      <td>2.837093e-01</td>\n",
       "      <td>0.231977</td>\n",
       "      <td>0.275542</td>\n",
       "      <td>0.216587</td>\n",
       "    </tr>\n",
       "    <tr>\n",
       "      <th>1</th>\n",
       "      <td>Month</td>\n",
       "      <td>0.016850</td>\n",
       "      <td>7.346196e-03</td>\n",
       "      <td>0.015646</td>\n",
       "      <td>0.015078</td>\n",
       "      <td>0.015130</td>\n",
       "    </tr>\n",
       "    <tr>\n",
       "      <th>2</th>\n",
       "      <td>Town</td>\n",
       "      <td>0.014714</td>\n",
       "      <td>1.724651e-02</td>\n",
       "      <td>0.007104</td>\n",
       "      <td>0.021643</td>\n",
       "      <td>0.034436</td>\n",
       "    </tr>\n",
       "    <tr>\n",
       "      <th>3</th>\n",
       "      <td>DistanceCar</td>\n",
       "      <td>0.009058</td>\n",
       "      <td>2.620679e-02</td>\n",
       "      <td>0.035077</td>\n",
       "      <td>0.141658</td>\n",
       "      <td>0.010420</td>\n",
       "    </tr>\n",
       "    <tr>\n",
       "      <th>4</th>\n",
       "      <td>Apartment</td>\n",
       "      <td>0.006988</td>\n",
       "      <td>9.349177e-03</td>\n",
       "      <td>0.011609</td>\n",
       "      <td>0.022728</td>\n",
       "      <td>0.007543</td>\n",
       "    </tr>\n",
       "    <tr>\n",
       "      <th>5</th>\n",
       "      <td>Description of Property</td>\n",
       "      <td>0.006292</td>\n",
       "      <td>1.308313e-02</td>\n",
       "      <td>0.008930</td>\n",
       "      <td>0.006411</td>\n",
       "      <td>0.006560</td>\n",
       "    </tr>\n",
       "    <tr>\n",
       "      <th>6</th>\n",
       "      <td>DistanceCenter</td>\n",
       "      <td>0.005288</td>\n",
       "      <td>3.636093e-03</td>\n",
       "      <td>0.040007</td>\n",
       "      <td>0.132643</td>\n",
       "      <td>0.018073</td>\n",
       "    </tr>\n",
       "    <tr>\n",
       "      <th>7</th>\n",
       "      <td>Property Size Description</td>\n",
       "      <td>0.000000</td>\n",
       "      <td>3.093225e-03</td>\n",
       "      <td>0.000795</td>\n",
       "      <td>0.002006</td>\n",
       "      <td>0.007307</td>\n",
       "    </tr>\n",
       "    <tr>\n",
       "      <th>8</th>\n",
       "      <td>Year</td>\n",
       "      <td>0.000000</td>\n",
       "      <td>0.000000e+00</td>\n",
       "      <td>0.000000</td>\n",
       "      <td>0.000000</td>\n",
       "      <td>0.000000</td>\n",
       "    </tr>\n",
       "    <tr>\n",
       "      <th>9</th>\n",
       "      <td>Latitude</td>\n",
       "      <td>0.000000</td>\n",
       "      <td>1.536367e-09</td>\n",
       "      <td>0.012352</td>\n",
       "      <td>0.000962</td>\n",
       "      <td>0.026465</td>\n",
       "    </tr>\n",
       "    <tr>\n",
       "      <th>10</th>\n",
       "      <td>Longitude</td>\n",
       "      <td>0.000000</td>\n",
       "      <td>4.764215e-03</td>\n",
       "      <td>0.008714</td>\n",
       "      <td>0.010957</td>\n",
       "      <td>0.017435</td>\n",
       "    </tr>\n",
       "    <tr>\n",
       "      <th>11</th>\n",
       "      <td>DistanceSchool</td>\n",
       "      <td>0.000000</td>\n",
       "      <td>5.220842e-03</td>\n",
       "      <td>0.014759</td>\n",
       "      <td>0.024899</td>\n",
       "      <td>0.012174</td>\n",
       "    </tr>\n",
       "    <tr>\n",
       "      <th>12</th>\n",
       "      <td>DistancePark</td>\n",
       "      <td>0.000000</td>\n",
       "      <td>1.858706e-02</td>\n",
       "      <td>0.016031</td>\n",
       "      <td>0.011023</td>\n",
       "      <td>0.008359</td>\n",
       "    </tr>\n",
       "  </tbody>\n",
       "</table>\n",
       "</div>"
      ],
      "text/plain": [
       "                     col_name  feature_importance_vals_x  \\\n",
       "0               Neighbourhood                   0.266325   \n",
       "1                       Month                   0.016850   \n",
       "2                        Town                   0.014714   \n",
       "3                 DistanceCar                   0.009058   \n",
       "4                   Apartment                   0.006988   \n",
       "5     Description of Property                   0.006292   \n",
       "6              DistanceCenter                   0.005288   \n",
       "7   Property Size Description                   0.000000   \n",
       "8                        Year                   0.000000   \n",
       "9                    Latitude                   0.000000   \n",
       "10                  Longitude                   0.000000   \n",
       "11             DistanceSchool                   0.000000   \n",
       "12               DistancePark                   0.000000   \n",
       "\n",
       "    feature_importance_vals_y  feature_importance_vals_x  \\\n",
       "0                2.837093e-01                   0.231977   \n",
       "1                7.346196e-03                   0.015646   \n",
       "2                1.724651e-02                   0.007104   \n",
       "3                2.620679e-02                   0.035077   \n",
       "4                9.349177e-03                   0.011609   \n",
       "5                1.308313e-02                   0.008930   \n",
       "6                3.636093e-03                   0.040007   \n",
       "7                3.093225e-03                   0.000795   \n",
       "8                0.000000e+00                   0.000000   \n",
       "9                1.536367e-09                   0.012352   \n",
       "10               4.764215e-03                   0.008714   \n",
       "11               5.220842e-03                   0.014759   \n",
       "12               1.858706e-02                   0.016031   \n",
       "\n",
       "    feature_importance_vals_y  feature_importance_vals  \n",
       "0                    0.275542                 0.216587  \n",
       "1                    0.015078                 0.015130  \n",
       "2                    0.021643                 0.034436  \n",
       "3                    0.141658                 0.010420  \n",
       "4                    0.022728                 0.007543  \n",
       "5                    0.006411                 0.006560  \n",
       "6                    0.132643                 0.018073  \n",
       "7                    0.002006                 0.007307  \n",
       "8                    0.000000                 0.000000  \n",
       "9                    0.000962                 0.026465  \n",
       "10                   0.010957                 0.017435  \n",
       "11                   0.024899                 0.012174  \n",
       "12                   0.011023                 0.008359  "
      ]
     },
     "execution_count": 132,
     "metadata": {},
     "output_type": "execute_result"
    }
   ],
   "source": [
    "s1 = pd.merge(feature_importance, feature_importance1, on = 'col_name', how='inner')\n",
    "s2 = pd.merge(s1, feature_importance2, on = 'col_name', how='inner')\n",
    "s3 = pd.merge(s2, feature_importance3, on = 'col_name', how='inner')\n",
    "s4 = pd.merge(s3, feature_importance4, on = 'col_name', how='inner')\n",
    "s4"
   ]
  },
  {
   "cell_type": "code",
   "execution_count": 133,
   "id": "54f7535c",
   "metadata": {},
   "outputs": [
    {
     "data": {
      "text/html": [
       "<div>\n",
       "<style scoped>\n",
       "    .dataframe tbody tr th:only-of-type {\n",
       "        vertical-align: middle;\n",
       "    }\n",
       "\n",
       "    .dataframe tbody tr th {\n",
       "        vertical-align: top;\n",
       "    }\n",
       "\n",
       "    .dataframe thead th {\n",
       "        text-align: right;\n",
       "    }\n",
       "</style>\n",
       "<table border=\"1\" class=\"dataframe\">\n",
       "  <thead>\n",
       "    <tr style=\"text-align: right;\">\n",
       "      <th></th>\n",
       "      <th>col_name</th>\n",
       "      <th>1</th>\n",
       "      <th>2</th>\n",
       "      <th>3</th>\n",
       "      <th>4</th>\n",
       "      <th>5</th>\n",
       "    </tr>\n",
       "  </thead>\n",
       "  <tbody>\n",
       "    <tr>\n",
       "      <th>0</th>\n",
       "      <td>Neighbourhood</td>\n",
       "      <td>0.266325</td>\n",
       "      <td>2.837093e-01</td>\n",
       "      <td>0.231977</td>\n",
       "      <td>0.275542</td>\n",
       "      <td>0.216587</td>\n",
       "    </tr>\n",
       "    <tr>\n",
       "      <th>1</th>\n",
       "      <td>Month</td>\n",
       "      <td>0.016850</td>\n",
       "      <td>7.346196e-03</td>\n",
       "      <td>0.015646</td>\n",
       "      <td>0.015078</td>\n",
       "      <td>0.015130</td>\n",
       "    </tr>\n",
       "    <tr>\n",
       "      <th>2</th>\n",
       "      <td>Town</td>\n",
       "      <td>0.014714</td>\n",
       "      <td>1.724651e-02</td>\n",
       "      <td>0.007104</td>\n",
       "      <td>0.021643</td>\n",
       "      <td>0.034436</td>\n",
       "    </tr>\n",
       "    <tr>\n",
       "      <th>3</th>\n",
       "      <td>DistanceCar</td>\n",
       "      <td>0.009058</td>\n",
       "      <td>2.620679e-02</td>\n",
       "      <td>0.035077</td>\n",
       "      <td>0.141658</td>\n",
       "      <td>0.010420</td>\n",
       "    </tr>\n",
       "    <tr>\n",
       "      <th>4</th>\n",
       "      <td>Apartment</td>\n",
       "      <td>0.006988</td>\n",
       "      <td>9.349177e-03</td>\n",
       "      <td>0.011609</td>\n",
       "      <td>0.022728</td>\n",
       "      <td>0.007543</td>\n",
       "    </tr>\n",
       "    <tr>\n",
       "      <th>5</th>\n",
       "      <td>Description of Property</td>\n",
       "      <td>0.006292</td>\n",
       "      <td>1.308313e-02</td>\n",
       "      <td>0.008930</td>\n",
       "      <td>0.006411</td>\n",
       "      <td>0.006560</td>\n",
       "    </tr>\n",
       "    <tr>\n",
       "      <th>6</th>\n",
       "      <td>DistanceCenter</td>\n",
       "      <td>0.005288</td>\n",
       "      <td>3.636093e-03</td>\n",
       "      <td>0.040007</td>\n",
       "      <td>0.132643</td>\n",
       "      <td>0.018073</td>\n",
       "    </tr>\n",
       "    <tr>\n",
       "      <th>7</th>\n",
       "      <td>Property Size Description</td>\n",
       "      <td>0.000000</td>\n",
       "      <td>3.093225e-03</td>\n",
       "      <td>0.000795</td>\n",
       "      <td>0.002006</td>\n",
       "      <td>0.007307</td>\n",
       "    </tr>\n",
       "    <tr>\n",
       "      <th>8</th>\n",
       "      <td>Year</td>\n",
       "      <td>0.000000</td>\n",
       "      <td>0.000000e+00</td>\n",
       "      <td>0.000000</td>\n",
       "      <td>0.000000</td>\n",
       "      <td>0.000000</td>\n",
       "    </tr>\n",
       "    <tr>\n",
       "      <th>9</th>\n",
       "      <td>Latitude</td>\n",
       "      <td>0.000000</td>\n",
       "      <td>1.536367e-09</td>\n",
       "      <td>0.012352</td>\n",
       "      <td>0.000962</td>\n",
       "      <td>0.026465</td>\n",
       "    </tr>\n",
       "    <tr>\n",
       "      <th>10</th>\n",
       "      <td>Longitude</td>\n",
       "      <td>0.000000</td>\n",
       "      <td>4.764215e-03</td>\n",
       "      <td>0.008714</td>\n",
       "      <td>0.010957</td>\n",
       "      <td>0.017435</td>\n",
       "    </tr>\n",
       "    <tr>\n",
       "      <th>11</th>\n",
       "      <td>DistanceSchool</td>\n",
       "      <td>0.000000</td>\n",
       "      <td>5.220842e-03</td>\n",
       "      <td>0.014759</td>\n",
       "      <td>0.024899</td>\n",
       "      <td>0.012174</td>\n",
       "    </tr>\n",
       "    <tr>\n",
       "      <th>12</th>\n",
       "      <td>DistancePark</td>\n",
       "      <td>0.000000</td>\n",
       "      <td>1.858706e-02</td>\n",
       "      <td>0.016031</td>\n",
       "      <td>0.011023</td>\n",
       "      <td>0.008359</td>\n",
       "    </tr>\n",
       "  </tbody>\n",
       "</table>\n",
       "</div>"
      ],
      "text/plain": [
       "                     col_name         1             2         3         4  \\\n",
       "0               Neighbourhood  0.266325  2.837093e-01  0.231977  0.275542   \n",
       "1                       Month  0.016850  7.346196e-03  0.015646  0.015078   \n",
       "2                        Town  0.014714  1.724651e-02  0.007104  0.021643   \n",
       "3                 DistanceCar  0.009058  2.620679e-02  0.035077  0.141658   \n",
       "4                   Apartment  0.006988  9.349177e-03  0.011609  0.022728   \n",
       "5     Description of Property  0.006292  1.308313e-02  0.008930  0.006411   \n",
       "6              DistanceCenter  0.005288  3.636093e-03  0.040007  0.132643   \n",
       "7   Property Size Description  0.000000  3.093225e-03  0.000795  0.002006   \n",
       "8                        Year  0.000000  0.000000e+00  0.000000  0.000000   \n",
       "9                    Latitude  0.000000  1.536367e-09  0.012352  0.000962   \n",
       "10                  Longitude  0.000000  4.764215e-03  0.008714  0.010957   \n",
       "11             DistanceSchool  0.000000  5.220842e-03  0.014759  0.024899   \n",
       "12               DistancePark  0.000000  1.858706e-02  0.016031  0.011023   \n",
       "\n",
       "           5  \n",
       "0   0.216587  \n",
       "1   0.015130  \n",
       "2   0.034436  \n",
       "3   0.010420  \n",
       "4   0.007543  \n",
       "5   0.006560  \n",
       "6   0.018073  \n",
       "7   0.007307  \n",
       "8   0.000000  \n",
       "9   0.026465  \n",
       "10  0.017435  \n",
       "11  0.012174  \n",
       "12  0.008359  "
      ]
     },
     "execution_count": 133,
     "metadata": {},
     "output_type": "execute_result"
    }
   ],
   "source": [
    "s4.columns = ['col_name', '1', '2', '3', '4', '5']\n",
    "s4"
   ]
  },
  {
   "cell_type": "code",
   "execution_count": 134,
   "id": "ee6d0ed9",
   "metadata": {},
   "outputs": [],
   "source": [
    "sum_column = s4[\"1\"] + s4[\"2\"] + s4[\"3\"] + s4[\"4\"] + s4[\"5\"]\n",
    "s4['sumshap'] = sum_column\n",
    "s4['avgshap'] = sum_column / 5"
   ]
  },
  {
   "cell_type": "code",
   "execution_count": 135,
   "id": "b8bc9dc8",
   "metadata": {},
   "outputs": [],
   "source": [
    "s4 = s4.sort_values(by=['avgshap'], ascending = False)"
   ]
  },
  {
   "cell_type": "code",
   "execution_count": 136,
   "id": "80a18dfc",
   "metadata": {},
   "outputs": [
    {
     "data": {
      "image/png": "[encoded data removed]",
      "text/plain": [
       "<Figure size 1008x432 with 1 Axes>"
      ]
     },
     "metadata": {
      "needs_background": "light"
     },
     "output_type": "display_data"
    }
   ],
   "source": [
    "# creating the bar plot\n",
    "figz = plt.figure(figsize=(14, 6))\n",
    "\n",
    "plt.barh(s4['col_name'], s4['avgshap'], color = 'dodgerblue')\n",
    "\n",
    "plt.xlabel(\"Mean SHAP value (Average impact on model output magnitude)\")\n",
    "figz.savefig('cork-mean-shap.png', bbox_inches = 'tight')\n",
    "plt.show()"
   ]
  }
 ],
 "metadata": {
  "kernelspec": {
   "display_name": "Python 3 (ipykernel)",
   "language": "python",
   "name": "python3"
  },
  "language_info": {
   "codemirror_mode": {
    "name": "ipython",
    "version": 3
   },
   "file_extension": ".py",
   "mimetype": "text/x-python",
   "name": "python",
   "nbconvert_exporter": "python",
   "pygments_lexer": "ipython3",
   "version": "3.8.12"
  }
 },
 "nbformat": 4,
 "nbformat_minor": 5
}
