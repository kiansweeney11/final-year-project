{
 "cells": [
  {
   "cell_type": "code",
   "execution_count": 1,
   "id": "5342e164",
   "metadata": {},
   "outputs": [
    {
     "name": "stdout",
     "output_type": "stream",
     "text": [
      "Imported sci-kit learn and AutoML libraries!\n"
     ]
    }
   ],
   "source": [
    "import pandas as pd\n",
    "import numpy as np\n",
    "from sklearn.datasets import make_classification\n",
    "from sklearn.model_selection import train_test_split\n",
    "import os\n",
    "from supervised.automl import AutoML\n",
    "import category_encoders as ce\n",
    "import math\n",
    "\n",
    "# visualization\n",
    "import seaborn as sns\n",
    "import matplotlib.pyplot as plt\n",
    "\n",
    "from sklearn.metrics import accuracy_score\n",
    "from sklearn.metrics import mean_squared_error\n",
    "from sklearn.model_selection import train_test_split\n",
    "from sklearn.model_selection import cross_val_score, GridSearchCV\n",
    "from sklearn.linear_model import LogisticRegression\n",
    "from sklearn.tree import DecisionTreeClassifier\n",
    "from sklearn.ensemble import RandomForestClassifier\n",
    "from category_encoders import TargetEncoder\n",
    "from sklearn.metrics import median_absolute_error\n",
    "print('Imported sci-kit learn and AutoML libraries!')"
   ]
  },
  {
   "cell_type": "markdown",
   "id": "c2930a18",
   "metadata": {},
   "source": [
    "# Dublin Prediction"
   ]
  },
  {
   "cell_type": "code",
   "execution_count": 2,
   "id": "fa05a057",
   "metadata": {},
   "outputs": [],
   "source": [
    "# new file containing rows with our focused area of Dublin found through exploratory analysis\n",
    "irl = pd.read_csv('initial-ml-test-dub-1.csv', index_col='Unnamed: 0')"
   ]
  },
  {
   "cell_type": "code",
   "execution_count": 3,
   "id": "c8559e63",
   "metadata": {},
   "outputs": [
    {
     "data": {
      "text/html": [
       "<div>\n",
       "<style scoped>\n",
       "    .dataframe tbody tr th:only-of-type {\n",
       "        vertical-align: middle;\n",
       "    }\n",
       "\n",
       "    .dataframe tbody tr th {\n",
       "        vertical-align: top;\n",
       "    }\n",
       "\n",
       "    .dataframe thead th {\n",
       "        text-align: right;\n",
       "    }\n",
       "</style>\n",
       "<table border=\"1\" class=\"dataframe\">\n",
       "  <thead>\n",
       "    <tr style=\"text-align: right;\">\n",
       "      <th></th>\n",
       "      <th>Address</th>\n",
       "      <th>County</th>\n",
       "      <th>Price (€)</th>\n",
       "      <th>VAT Exclusive</th>\n",
       "      <th>UsedProperty</th>\n",
       "      <th>Property Size Description</th>\n",
       "      <th>Year</th>\n",
       "      <th>Month</th>\n",
       "      <th>Town</th>\n",
       "      <th>Apartment</th>\n",
       "      <th>...</th>\n",
       "      <th>DistanceIFSC</th>\n",
       "      <th>DistanceSchool</th>\n",
       "      <th>DistancePark</th>\n",
       "      <th>DistanceLuas</th>\n",
       "      <th>DistanceSecSchool</th>\n",
       "      <th>DistanceGPO</th>\n",
       "      <th>DistanceHospital</th>\n",
       "      <th>DistanceBeach</th>\n",
       "      <th>DistanceCar</th>\n",
       "      <th>DistanceShops</th>\n",
       "    </tr>\n",
       "  </thead>\n",
       "  <tbody>\n",
       "    <tr>\n",
       "      <th>207901</th>\n",
       "      <td>55 College Square, Terenure</td>\n",
       "      <td>Dublin</td>\n",
       "      <td>447200.00</td>\n",
       "      <td>0</td>\n",
       "      <td>0</td>\n",
       "      <td>1</td>\n",
       "      <td>2014</td>\n",
       "      <td>1</td>\n",
       "      <td>Terenure</td>\n",
       "      <td>0</td>\n",
       "      <td>...</td>\n",
       "      <td>7.541595</td>\n",
       "      <td>0.492120</td>\n",
       "      <td>1.438826</td>\n",
       "      <td>2.020029</td>\n",
       "      <td>0.156609</td>\n",
       "      <td>6.587209</td>\n",
       "      <td>2.344404</td>\n",
       "      <td>18.071721</td>\n",
       "      <td>5.427900</td>\n",
       "      <td>3.568079</td>\n",
       "    </tr>\n",
       "    <tr>\n",
       "      <th>207905</th>\n",
       "      <td>Number 7 Belfort House, Sydenham Villas, Dundrum</td>\n",
       "      <td>Dublin</td>\n",
       "      <td>398000.00</td>\n",
       "      <td>1</td>\n",
       "      <td>1</td>\n",
       "      <td>0</td>\n",
       "      <td>2014</td>\n",
       "      <td>1</td>\n",
       "      <td>Dundrum Dublin</td>\n",
       "      <td>0</td>\n",
       "      <td>...</td>\n",
       "      <td>6.817210</td>\n",
       "      <td>0.100996</td>\n",
       "      <td>2.784711</td>\n",
       "      <td>0.274841</td>\n",
       "      <td>0.831639</td>\n",
       "      <td>7.118560</td>\n",
       "      <td>3.635958</td>\n",
       "      <td>14.874822</td>\n",
       "      <td>5.905557</td>\n",
       "      <td>0.255856</td>\n",
       "    </tr>\n",
       "    <tr>\n",
       "      <th>207916</th>\n",
       "      <td>Apartment 16 Cedar Grove, Firhouse Road, Templ...</td>\n",
       "      <td>Dublin</td>\n",
       "      <td>196035.24</td>\n",
       "      <td>0</td>\n",
       "      <td>0</td>\n",
       "      <td>1</td>\n",
       "      <td>2014</td>\n",
       "      <td>1</td>\n",
       "      <td>Templeogue</td>\n",
       "      <td>1</td>\n",
       "      <td>...</td>\n",
       "      <td>7.799393</td>\n",
       "      <td>0.683556</td>\n",
       "      <td>3.098765</td>\n",
       "      <td>3.760897</td>\n",
       "      <td>0.968202</td>\n",
       "      <td>7.197697</td>\n",
       "      <td>3.879724</td>\n",
       "      <td>17.923987</td>\n",
       "      <td>6.179356</td>\n",
       "      <td>3.002563</td>\n",
       "    </tr>\n",
       "    <tr>\n",
       "      <th>207925</th>\n",
       "      <td>75 Palmerstown Avenue, Palmerstown</td>\n",
       "      <td>Dublin</td>\n",
       "      <td>95000.00</td>\n",
       "      <td>1</td>\n",
       "      <td>1</td>\n",
       "      <td>1</td>\n",
       "      <td>2014</td>\n",
       "      <td>1</td>\n",
       "      <td>Palmerstown</td>\n",
       "      <td>0</td>\n",
       "      <td>...</td>\n",
       "      <td>8.400802</td>\n",
       "      <td>0.319564</td>\n",
       "      <td>1.909348</td>\n",
       "      <td>3.576775</td>\n",
       "      <td>0.262801</td>\n",
       "      <td>7.051363</td>\n",
       "      <td>3.811554</td>\n",
       "      <td>18.189754</td>\n",
       "      <td>6.208934</td>\n",
       "      <td>1.206681</td>\n",
       "    </tr>\n",
       "    <tr>\n",
       "      <th>207929</th>\n",
       "      <td>17 Churchview Apts, Church Rd, Drumcondra</td>\n",
       "      <td>Dublin</td>\n",
       "      <td>152000.00</td>\n",
       "      <td>1</td>\n",
       "      <td>1</td>\n",
       "      <td>2</td>\n",
       "      <td>2014</td>\n",
       "      <td>1</td>\n",
       "      <td>Drumcondra</td>\n",
       "      <td>1</td>\n",
       "      <td>...</td>\n",
       "      <td>2.225835</td>\n",
       "      <td>0.085034</td>\n",
       "      <td>0.909828</td>\n",
       "      <td>1.942439</td>\n",
       "      <td>0.597393</td>\n",
       "      <td>1.805008</td>\n",
       "      <td>0.902578</td>\n",
       "      <td>10.897507</td>\n",
       "      <td>1.587952</td>\n",
       "      <td>1.815296</td>\n",
       "    </tr>\n",
       "  </tbody>\n",
       "</table>\n",
       "<p>5 rows × 25 columns</p>\n",
       "</div>"
      ],
      "text/plain": [
       "                                                  Address  County  Price (€)  \\\n",
       "207901                        55 College Square, Terenure  Dublin  447200.00   \n",
       "207905   Number 7 Belfort House, Sydenham Villas, Dundrum  Dublin  398000.00   \n",
       "207916  Apartment 16 Cedar Grove, Firhouse Road, Templ...  Dublin  196035.24   \n",
       "207925                 75 Palmerstown Avenue, Palmerstown  Dublin   95000.00   \n",
       "207929          17 Churchview Apts, Church Rd, Drumcondra  Dublin  152000.00   \n",
       "\n",
       "        VAT Exclusive  UsedProperty  Property Size Description  Year  Month  \\\n",
       "207901              0             0                          1  2014      1   \n",
       "207905              1             1                          0  2014      1   \n",
       "207916              0             0                          1  2014      1   \n",
       "207925              1             1                          1  2014      1   \n",
       "207929              1             1                          2  2014      1   \n",
       "\n",
       "                  Town  Apartment  ... DistanceIFSC  DistanceSchool  \\\n",
       "207901        Terenure          0  ...     7.541595        0.492120   \n",
       "207905  Dundrum Dublin          0  ...     6.817210        0.100996   \n",
       "207916      Templeogue          1  ...     7.799393        0.683556   \n",
       "207925     Palmerstown          0  ...     8.400802        0.319564   \n",
       "207929      Drumcondra          1  ...     2.225835        0.085034   \n",
       "\n",
       "       DistancePark  DistanceLuas  DistanceSecSchool  DistanceGPO  \\\n",
       "207901     1.438826      2.020029           0.156609     6.587209   \n",
       "207905     2.784711      0.274841           0.831639     7.118560   \n",
       "207916     3.098765      3.760897           0.968202     7.197697   \n",
       "207925     1.909348      3.576775           0.262801     7.051363   \n",
       "207929     0.909828      1.942439           0.597393     1.805008   \n",
       "\n",
       "        DistanceHospital  DistanceBeach  DistanceCar  DistanceShops  \n",
       "207901          2.344404      18.071721     5.427900       3.568079  \n",
       "207905          3.635958      14.874822     5.905557       0.255856  \n",
       "207916          3.879724      17.923987     6.179356       3.002563  \n",
       "207925          3.811554      18.189754     6.208934       1.206681  \n",
       "207929          0.902578      10.897507     1.587952       1.815296  \n",
       "\n",
       "[5 rows x 25 columns]"
      ]
     },
     "execution_count": 3,
     "metadata": {},
     "output_type": "execute_result"
    }
   ],
   "source": [
    "irl.head()"
   ]
  },
  {
   "cell_type": "code",
   "execution_count": 4,
   "id": "d662422b",
   "metadata": {},
   "outputs": [],
   "source": [
    "#irl['Apartment'] = irl['Apartment'].fillna(0.0)"
   ]
  },
  {
   "cell_type": "code",
   "execution_count": 5,
   "id": "283ded20",
   "metadata": {},
   "outputs": [],
   "source": [
    "#irl['Property Size Description'].value_counts()"
   ]
  },
  {
   "cell_type": "code",
   "execution_count": 6,
   "id": "d429f24f",
   "metadata": {},
   "outputs": [
    {
     "data": {
      "text/plain": [
       "(5386, 25)"
      ]
     },
     "execution_count": 6,
     "metadata": {},
     "output_type": "execute_result"
    }
   ],
   "source": [
    "irl.shape"
   ]
  },
  {
   "cell_type": "code",
   "execution_count": 7,
   "id": "4787ab6f",
   "metadata": {},
   "outputs": [],
   "source": [
    "#irl.replace({'Property Size Description':{0:'38', 1:'75', 2: '125'}}, inplace = True)"
   ]
  },
  {
   "cell_type": "code",
   "execution_count": 8,
   "id": "5031af3f",
   "metadata": {},
   "outputs": [],
   "source": [
    "#irl.head()"
   ]
  },
  {
   "cell_type": "code",
   "execution_count": 9,
   "id": "c782e774",
   "metadata": {},
   "outputs": [],
   "source": [
    "#y = pd.get_dummies(irl['Property Size Description'], prefix = 'Size')\n",
    "#y.head()"
   ]
  },
  {
   "cell_type": "code",
   "execution_count": 10,
   "id": "ac56df4e",
   "metadata": {},
   "outputs": [],
   "source": [
    "#irl = irl.join(y)\n",
    "#irl.drop(columns = ['Property Size Description'], inplace = True)\n",
    "#irl.head()"
   ]
  },
  {
   "cell_type": "code",
   "execution_count": 11,
   "id": "77f121eb",
   "metadata": {},
   "outputs": [],
   "source": [
    "# this function finds all values that fall within internationally accepted +-10% of actual prices in our predictions\n",
    "# we can modify the threshold as we feel the need to here\n",
    "def accuracy_threshold(test, pred, num):\n",
    "    test = np.array(test)\n",
    "    pred = np.array(pred)\n",
    "# get within x% of actual price , not within log price as this will be misleading / incorrect\n",
    "    test = np.exp(test)\n",
    "    pred = np.exp(pred)\n",
    "    count = 0\n",
    "    for i in range(len(pred)):\n",
    "        if test[i] != 0:  \n",
    "            ten = test[i] * num\n",
    "            res = test[i] - pred[i]\n",
    "        else:\n",
    "            res = 0\n",
    "            ten = 0\n",
    "        \n",
    "        if res < 0:\n",
    "            res = res * -1\n",
    "        else:\n",
    "            res = res\n",
    "            \n",
    "        if res <= ten:\n",
    "            count += 1\n",
    "        else:\n",
    "            continue\n",
    "    return (count / len(test))"
   ]
  },
  {
   "cell_type": "code",
   "execution_count": 12,
   "id": "9cc968c1",
   "metadata": {},
   "outputs": [
    {
     "data": {
      "text/html": [
       "<div>\n",
       "<style scoped>\n",
       "    .dataframe tbody tr th:only-of-type {\n",
       "        vertical-align: middle;\n",
       "    }\n",
       "\n",
       "    .dataframe tbody tr th {\n",
       "        vertical-align: top;\n",
       "    }\n",
       "\n",
       "    .dataframe thead th {\n",
       "        text-align: right;\n",
       "    }\n",
       "</style>\n",
       "<table border=\"1\" class=\"dataframe\">\n",
       "  <thead>\n",
       "    <tr style=\"text-align: right;\">\n",
       "      <th></th>\n",
       "      <th>Address</th>\n",
       "      <th>County</th>\n",
       "      <th>Price (€)</th>\n",
       "      <th>UsedProperty</th>\n",
       "      <th>Property Size Description</th>\n",
       "      <th>Year</th>\n",
       "      <th>Month</th>\n",
       "      <th>Town</th>\n",
       "      <th>Apartment</th>\n",
       "      <th>Neighbourhood</th>\n",
       "      <th>...</th>\n",
       "      <th>DistanceIFSC</th>\n",
       "      <th>DistanceSchool</th>\n",
       "      <th>DistancePark</th>\n",
       "      <th>DistanceLuas</th>\n",
       "      <th>DistanceSecSchool</th>\n",
       "      <th>DistanceGPO</th>\n",
       "      <th>DistanceHospital</th>\n",
       "      <th>DistanceBeach</th>\n",
       "      <th>DistanceCar</th>\n",
       "      <th>DistanceShops</th>\n",
       "    </tr>\n",
       "  </thead>\n",
       "  <tbody>\n",
       "    <tr>\n",
       "      <th>207901</th>\n",
       "      <td>55 College Square, Terenure</td>\n",
       "      <td>Dublin</td>\n",
       "      <td>447200.00</td>\n",
       "      <td>0</td>\n",
       "      <td>1</td>\n",
       "      <td>2014</td>\n",
       "      <td>1</td>\n",
       "      <td>Terenure</td>\n",
       "      <td>0</td>\n",
       "      <td>College Square Terenure</td>\n",
       "      <td>...</td>\n",
       "      <td>7.541595</td>\n",
       "      <td>0.492120</td>\n",
       "      <td>1.438826</td>\n",
       "      <td>2.020029</td>\n",
       "      <td>0.156609</td>\n",
       "      <td>6.587209</td>\n",
       "      <td>2.344404</td>\n",
       "      <td>18.071721</td>\n",
       "      <td>5.427900</td>\n",
       "      <td>3.568079</td>\n",
       "    </tr>\n",
       "    <tr>\n",
       "      <th>207905</th>\n",
       "      <td>Number 7 Belfort House, Sydenham Villas, Dundrum</td>\n",
       "      <td>Dublin</td>\n",
       "      <td>398000.00</td>\n",
       "      <td>1</td>\n",
       "      <td>0</td>\n",
       "      <td>2014</td>\n",
       "      <td>1</td>\n",
       "      <td>Dundrum Dublin</td>\n",
       "      <td>0</td>\n",
       "      <td>Sydenham Villas Dundrum Dublin</td>\n",
       "      <td>...</td>\n",
       "      <td>6.817210</td>\n",
       "      <td>0.100996</td>\n",
       "      <td>2.784711</td>\n",
       "      <td>0.274841</td>\n",
       "      <td>0.831639</td>\n",
       "      <td>7.118560</td>\n",
       "      <td>3.635958</td>\n",
       "      <td>14.874822</td>\n",
       "      <td>5.905557</td>\n",
       "      <td>0.255856</td>\n",
       "    </tr>\n",
       "    <tr>\n",
       "      <th>207916</th>\n",
       "      <td>Apartment 16 Cedar Grove, Firhouse Road, Templ...</td>\n",
       "      <td>Dublin</td>\n",
       "      <td>196035.24</td>\n",
       "      <td>0</td>\n",
       "      <td>1</td>\n",
       "      <td>2014</td>\n",
       "      <td>1</td>\n",
       "      <td>Templeogue</td>\n",
       "      <td>1</td>\n",
       "      <td>Firhouse Road Templeogue</td>\n",
       "      <td>...</td>\n",
       "      <td>7.799393</td>\n",
       "      <td>0.683556</td>\n",
       "      <td>3.098765</td>\n",
       "      <td>3.760897</td>\n",
       "      <td>0.968202</td>\n",
       "      <td>7.197697</td>\n",
       "      <td>3.879724</td>\n",
       "      <td>17.923987</td>\n",
       "      <td>6.179356</td>\n",
       "      <td>3.002563</td>\n",
       "    </tr>\n",
       "    <tr>\n",
       "      <th>207925</th>\n",
       "      <td>75 Palmerstown Avenue, Palmerstown</td>\n",
       "      <td>Dublin</td>\n",
       "      <td>95000.00</td>\n",
       "      <td>1</td>\n",
       "      <td>1</td>\n",
       "      <td>2014</td>\n",
       "      <td>1</td>\n",
       "      <td>Palmerstown</td>\n",
       "      <td>0</td>\n",
       "      <td>Palmerstown Avenue Palmerstown</td>\n",
       "      <td>...</td>\n",
       "      <td>8.400802</td>\n",
       "      <td>0.319564</td>\n",
       "      <td>1.909348</td>\n",
       "      <td>3.576775</td>\n",
       "      <td>0.262801</td>\n",
       "      <td>7.051363</td>\n",
       "      <td>3.811554</td>\n",
       "      <td>18.189754</td>\n",
       "      <td>6.208934</td>\n",
       "      <td>1.206681</td>\n",
       "    </tr>\n",
       "    <tr>\n",
       "      <th>207929</th>\n",
       "      <td>17 Churchview Apts, Church Rd, Drumcondra</td>\n",
       "      <td>Dublin</td>\n",
       "      <td>152000.00</td>\n",
       "      <td>1</td>\n",
       "      <td>2</td>\n",
       "      <td>2014</td>\n",
       "      <td>1</td>\n",
       "      <td>Drumcondra</td>\n",
       "      <td>1</td>\n",
       "      <td>Church Road Drumcondra</td>\n",
       "      <td>...</td>\n",
       "      <td>2.225835</td>\n",
       "      <td>0.085034</td>\n",
       "      <td>0.909828</td>\n",
       "      <td>1.942439</td>\n",
       "      <td>0.597393</td>\n",
       "      <td>1.805008</td>\n",
       "      <td>0.902578</td>\n",
       "      <td>10.897507</td>\n",
       "      <td>1.587952</td>\n",
       "      <td>1.815296</td>\n",
       "    </tr>\n",
       "  </tbody>\n",
       "</table>\n",
       "<p>5 rows × 24 columns</p>\n",
       "</div>"
      ],
      "text/plain": [
       "                                                  Address  County  Price (€)  \\\n",
       "207901                        55 College Square, Terenure  Dublin  447200.00   \n",
       "207905   Number 7 Belfort House, Sydenham Villas, Dundrum  Dublin  398000.00   \n",
       "207916  Apartment 16 Cedar Grove, Firhouse Road, Templ...  Dublin  196035.24   \n",
       "207925                 75 Palmerstown Avenue, Palmerstown  Dublin   95000.00   \n",
       "207929          17 Churchview Apts, Church Rd, Drumcondra  Dublin  152000.00   \n",
       "\n",
       "        UsedProperty  Property Size Description  Year  Month            Town  \\\n",
       "207901             0                          1  2014      1        Terenure   \n",
       "207905             1                          0  2014      1  Dundrum Dublin   \n",
       "207916             0                          1  2014      1      Templeogue   \n",
       "207925             1                          1  2014      1     Palmerstown   \n",
       "207929             1                          2  2014      1      Drumcondra   \n",
       "\n",
       "        Apartment                   Neighbourhood  ...  DistanceIFSC  \\\n",
       "207901          0         College Square Terenure  ...      7.541595   \n",
       "207905          0  Sydenham Villas Dundrum Dublin  ...      6.817210   \n",
       "207916          1        Firhouse Road Templeogue  ...      7.799393   \n",
       "207925          0  Palmerstown Avenue Palmerstown  ...      8.400802   \n",
       "207929          1          Church Road Drumcondra  ...      2.225835   \n",
       "\n",
       "       DistanceSchool  DistancePark  DistanceLuas  DistanceSecSchool  \\\n",
       "207901       0.492120      1.438826      2.020029           0.156609   \n",
       "207905       0.100996      2.784711      0.274841           0.831639   \n",
       "207916       0.683556      3.098765      3.760897           0.968202   \n",
       "207925       0.319564      1.909348      3.576775           0.262801   \n",
       "207929       0.085034      0.909828      1.942439           0.597393   \n",
       "\n",
       "        DistanceGPO  DistanceHospital  DistanceBeach  DistanceCar  \\\n",
       "207901     6.587209          2.344404      18.071721     5.427900   \n",
       "207905     7.118560          3.635958      14.874822     5.905557   \n",
       "207916     7.197697          3.879724      17.923987     6.179356   \n",
       "207925     7.051363          3.811554      18.189754     6.208934   \n",
       "207929     1.805008          0.902578      10.897507     1.587952   \n",
       "\n",
       "        DistanceShops  \n",
       "207901       3.568079  \n",
       "207905       0.255856  \n",
       "207916       3.002563  \n",
       "207925       1.206681  \n",
       "207929       1.815296  \n",
       "\n",
       "[5 rows x 24 columns]"
      ]
     },
     "execution_count": 12,
     "metadata": {},
     "output_type": "execute_result"
    }
   ],
   "source": [
    "irl.drop(columns=['VAT Exclusive'], inplace=True)\n",
    "irl.head()"
   ]
  },
  {
   "cell_type": "code",
   "execution_count": 13,
   "id": "7f74ea74",
   "metadata": {},
   "outputs": [],
   "source": [
    "encoder = TargetEncoder()\n",
    "irl['Town'] = encoder.fit_transform(irl['Town'], irl['Price (€)'])"
   ]
  },
  {
   "cell_type": "code",
   "execution_count": 14,
   "id": "78d29d8a",
   "metadata": {},
   "outputs": [
    {
     "data": {
      "text/html": [
       "<div>\n",
       "<style scoped>\n",
       "    .dataframe tbody tr th:only-of-type {\n",
       "        vertical-align: middle;\n",
       "    }\n",
       "\n",
       "    .dataframe tbody tr th {\n",
       "        vertical-align: top;\n",
       "    }\n",
       "\n",
       "    .dataframe thead th {\n",
       "        text-align: right;\n",
       "    }\n",
       "</style>\n",
       "<table border=\"1\" class=\"dataframe\">\n",
       "  <thead>\n",
       "    <tr style=\"text-align: right;\">\n",
       "      <th></th>\n",
       "      <th>Address</th>\n",
       "      <th>County</th>\n",
       "      <th>Price (€)</th>\n",
       "      <th>UsedProperty</th>\n",
       "      <th>Property Size Description</th>\n",
       "      <th>Year</th>\n",
       "      <th>Month</th>\n",
       "      <th>Town</th>\n",
       "      <th>Apartment</th>\n",
       "      <th>Neighbourhood</th>\n",
       "      <th>...</th>\n",
       "      <th>DistanceIFSC</th>\n",
       "      <th>DistanceSchool</th>\n",
       "      <th>DistancePark</th>\n",
       "      <th>DistanceLuas</th>\n",
       "      <th>DistanceSecSchool</th>\n",
       "      <th>DistanceGPO</th>\n",
       "      <th>DistanceHospital</th>\n",
       "      <th>DistanceBeach</th>\n",
       "      <th>DistanceCar</th>\n",
       "      <th>DistanceShops</th>\n",
       "    </tr>\n",
       "  </thead>\n",
       "  <tbody>\n",
       "    <tr>\n",
       "      <th>207901</th>\n",
       "      <td>55 College Square, Terenure</td>\n",
       "      <td>Dublin</td>\n",
       "      <td>447200.0</td>\n",
       "      <td>0</td>\n",
       "      <td>1</td>\n",
       "      <td>2014</td>\n",
       "      <td>1</td>\n",
       "      <td>428603.796167</td>\n",
       "      <td>0</td>\n",
       "      <td>College Square Terenure</td>\n",
       "      <td>...</td>\n",
       "      <td>7.541595</td>\n",
       "      <td>0.49212</td>\n",
       "      <td>1.438826</td>\n",
       "      <td>2.020029</td>\n",
       "      <td>0.156609</td>\n",
       "      <td>6.587209</td>\n",
       "      <td>2.344404</td>\n",
       "      <td>18.071721</td>\n",
       "      <td>5.4279</td>\n",
       "      <td>3.568079</td>\n",
       "    </tr>\n",
       "  </tbody>\n",
       "</table>\n",
       "<p>1 rows × 24 columns</p>\n",
       "</div>"
      ],
      "text/plain": [
       "                            Address  County  Price (€)  UsedProperty  \\\n",
       "207901  55 College Square, Terenure  Dublin   447200.0             0   \n",
       "\n",
       "        Property Size Description  Year  Month           Town  Apartment  \\\n",
       "207901                          1  2014      1  428603.796167          0   \n",
       "\n",
       "                  Neighbourhood  ...  DistanceIFSC DistanceSchool  \\\n",
       "207901  College Square Terenure  ...      7.541595        0.49212   \n",
       "\n",
       "        DistancePark  DistanceLuas  DistanceSecSchool  DistanceGPO  \\\n",
       "207901      1.438826      2.020029           0.156609     6.587209   \n",
       "\n",
       "        DistanceHospital  DistanceBeach  DistanceCar  DistanceShops  \n",
       "207901          2.344404      18.071721       5.4279       3.568079  \n",
       "\n",
       "[1 rows x 24 columns]"
      ]
     },
     "execution_count": 14,
     "metadata": {},
     "output_type": "execute_result"
    }
   ],
   "source": [
    "irl.head(1)"
   ]
  },
  {
   "cell_type": "code",
   "execution_count": 15,
   "id": "07af19a0",
   "metadata": {},
   "outputs": [],
   "source": [
    "encoder = TargetEncoder()\n",
    "irl['Neighbourhood'] = encoder.fit_transform(irl['Neighbourhood'], irl['Price (€)'])"
   ]
  },
  {
   "cell_type": "code",
   "execution_count": 16,
   "id": "f80c9916",
   "metadata": {},
   "outputs": [],
   "source": [
    "irl['Neighbourhood'] = irl['Neighbourhood'].round()"
   ]
  },
  {
   "cell_type": "code",
   "execution_count": 17,
   "id": "5e0ff1b4",
   "metadata": {},
   "outputs": [],
   "source": [
    "encoder = TargetEncoder()\n",
    "irl['Eircode'] = encoder.fit_transform(irl['Eircode'], irl['Price (€)'])"
   ]
  },
  {
   "cell_type": "code",
   "execution_count": 18,
   "id": "2d29d9c7",
   "metadata": {},
   "outputs": [
    {
     "data": {
      "text/html": [
       "<div>\n",
       "<style scoped>\n",
       "    .dataframe tbody tr th:only-of-type {\n",
       "        vertical-align: middle;\n",
       "    }\n",
       "\n",
       "    .dataframe tbody tr th {\n",
       "        vertical-align: top;\n",
       "    }\n",
       "\n",
       "    .dataframe thead th {\n",
       "        text-align: right;\n",
       "    }\n",
       "</style>\n",
       "<table border=\"1\" class=\"dataframe\">\n",
       "  <thead>\n",
       "    <tr style=\"text-align: right;\">\n",
       "      <th></th>\n",
       "      <th>Address</th>\n",
       "      <th>County</th>\n",
       "      <th>Price (€)</th>\n",
       "      <th>UsedProperty</th>\n",
       "      <th>Property Size Description</th>\n",
       "      <th>Year</th>\n",
       "      <th>Month</th>\n",
       "      <th>Town</th>\n",
       "      <th>Apartment</th>\n",
       "      <th>Neighbourhood</th>\n",
       "      <th>...</th>\n",
       "      <th>DistanceIFSC</th>\n",
       "      <th>DistanceSchool</th>\n",
       "      <th>DistancePark</th>\n",
       "      <th>DistanceLuas</th>\n",
       "      <th>DistanceSecSchool</th>\n",
       "      <th>DistanceGPO</th>\n",
       "      <th>DistanceHospital</th>\n",
       "      <th>DistanceBeach</th>\n",
       "      <th>DistanceCar</th>\n",
       "      <th>DistanceShops</th>\n",
       "    </tr>\n",
       "  </thead>\n",
       "  <tbody>\n",
       "    <tr>\n",
       "      <th>207901</th>\n",
       "      <td>55 College Square, Terenure</td>\n",
       "      <td>Dublin</td>\n",
       "      <td>447200.00</td>\n",
       "      <td>0</td>\n",
       "      <td>1</td>\n",
       "      <td>2014</td>\n",
       "      <td>1</td>\n",
       "      <td>428603.796167</td>\n",
       "      <td>0</td>\n",
       "      <td>595093.0</td>\n",
       "      <td>...</td>\n",
       "      <td>7.541595</td>\n",
       "      <td>0.492120</td>\n",
       "      <td>1.438826</td>\n",
       "      <td>2.020029</td>\n",
       "      <td>0.156609</td>\n",
       "      <td>6.587209</td>\n",
       "      <td>2.344404</td>\n",
       "      <td>18.071721</td>\n",
       "      <td>5.427900</td>\n",
       "      <td>3.568079</td>\n",
       "    </tr>\n",
       "    <tr>\n",
       "      <th>207905</th>\n",
       "      <td>Number 7 Belfort House, Sydenham Villas, Dundrum</td>\n",
       "      <td>Dublin</td>\n",
       "      <td>398000.00</td>\n",
       "      <td>1</td>\n",
       "      <td>0</td>\n",
       "      <td>2014</td>\n",
       "      <td>1</td>\n",
       "      <td>499010.652149</td>\n",
       "      <td>0</td>\n",
       "      <td>1120920.0</td>\n",
       "      <td>...</td>\n",
       "      <td>6.817210</td>\n",
       "      <td>0.100996</td>\n",
       "      <td>2.784711</td>\n",
       "      <td>0.274841</td>\n",
       "      <td>0.831639</td>\n",
       "      <td>7.118560</td>\n",
       "      <td>3.635958</td>\n",
       "      <td>14.874822</td>\n",
       "      <td>5.905557</td>\n",
       "      <td>0.255856</td>\n",
       "    </tr>\n",
       "    <tr>\n",
       "      <th>207916</th>\n",
       "      <td>Apartment 16 Cedar Grove, Firhouse Road, Templ...</td>\n",
       "      <td>Dublin</td>\n",
       "      <td>196035.24</td>\n",
       "      <td>0</td>\n",
       "      <td>1</td>\n",
       "      <td>2014</td>\n",
       "      <td>1</td>\n",
       "      <td>564023.918947</td>\n",
       "      <td>1</td>\n",
       "      <td>436254.0</td>\n",
       "      <td>...</td>\n",
       "      <td>7.799393</td>\n",
       "      <td>0.683556</td>\n",
       "      <td>3.098765</td>\n",
       "      <td>3.760897</td>\n",
       "      <td>0.968202</td>\n",
       "      <td>7.197697</td>\n",
       "      <td>3.879724</td>\n",
       "      <td>17.923987</td>\n",
       "      <td>6.179356</td>\n",
       "      <td>3.002563</td>\n",
       "    </tr>\n",
       "    <tr>\n",
       "      <th>207925</th>\n",
       "      <td>75 Palmerstown Avenue, Palmerstown</td>\n",
       "      <td>Dublin</td>\n",
       "      <td>95000.00</td>\n",
       "      <td>1</td>\n",
       "      <td>1</td>\n",
       "      <td>2014</td>\n",
       "      <td>1</td>\n",
       "      <td>319537.941091</td>\n",
       "      <td>0</td>\n",
       "      <td>231951.0</td>\n",
       "      <td>...</td>\n",
       "      <td>8.400802</td>\n",
       "      <td>0.319564</td>\n",
       "      <td>1.909348</td>\n",
       "      <td>3.576775</td>\n",
       "      <td>0.262801</td>\n",
       "      <td>7.051363</td>\n",
       "      <td>3.811554</td>\n",
       "      <td>18.189754</td>\n",
       "      <td>6.208934</td>\n",
       "      <td>1.206681</td>\n",
       "    </tr>\n",
       "    <tr>\n",
       "      <th>207929</th>\n",
       "      <td>17 Churchview Apts, Church Rd, Drumcondra</td>\n",
       "      <td>Dublin</td>\n",
       "      <td>152000.00</td>\n",
       "      <td>1</td>\n",
       "      <td>2</td>\n",
       "      <td>2014</td>\n",
       "      <td>1</td>\n",
       "      <td>428629.688519</td>\n",
       "      <td>1</td>\n",
       "      <td>172844.0</td>\n",
       "      <td>...</td>\n",
       "      <td>2.225835</td>\n",
       "      <td>0.085034</td>\n",
       "      <td>0.909828</td>\n",
       "      <td>1.942439</td>\n",
       "      <td>0.597393</td>\n",
       "      <td>1.805008</td>\n",
       "      <td>0.902578</td>\n",
       "      <td>10.897507</td>\n",
       "      <td>1.587952</td>\n",
       "      <td>1.815296</td>\n",
       "    </tr>\n",
       "  </tbody>\n",
       "</table>\n",
       "<p>5 rows × 24 columns</p>\n",
       "</div>"
      ],
      "text/plain": [
       "                                                  Address  County  Price (€)  \\\n",
       "207901                        55 College Square, Terenure  Dublin  447200.00   \n",
       "207905   Number 7 Belfort House, Sydenham Villas, Dundrum  Dublin  398000.00   \n",
       "207916  Apartment 16 Cedar Grove, Firhouse Road, Templ...  Dublin  196035.24   \n",
       "207925                 75 Palmerstown Avenue, Palmerstown  Dublin   95000.00   \n",
       "207929          17 Churchview Apts, Church Rd, Drumcondra  Dublin  152000.00   \n",
       "\n",
       "        UsedProperty  Property Size Description  Year  Month           Town  \\\n",
       "207901             0                          1  2014      1  428603.796167   \n",
       "207905             1                          0  2014      1  499010.652149   \n",
       "207916             0                          1  2014      1  564023.918947   \n",
       "207925             1                          1  2014      1  319537.941091   \n",
       "207929             1                          2  2014      1  428629.688519   \n",
       "\n",
       "        Apartment  Neighbourhood  ...  DistanceIFSC  DistanceSchool  \\\n",
       "207901          0       595093.0  ...      7.541595        0.492120   \n",
       "207905          0      1120920.0  ...      6.817210        0.100996   \n",
       "207916          1       436254.0  ...      7.799393        0.683556   \n",
       "207925          0       231951.0  ...      8.400802        0.319564   \n",
       "207929          1       172844.0  ...      2.225835        0.085034   \n",
       "\n",
       "        DistancePark  DistanceLuas  DistanceSecSchool  DistanceGPO  \\\n",
       "207901      1.438826      2.020029           0.156609     6.587209   \n",
       "207905      2.784711      0.274841           0.831639     7.118560   \n",
       "207916      3.098765      3.760897           0.968202     7.197697   \n",
       "207925      1.909348      3.576775           0.262801     7.051363   \n",
       "207929      0.909828      1.942439           0.597393     1.805008   \n",
       "\n",
       "        DistanceHospital  DistanceBeach  DistanceCar  DistanceShops  \n",
       "207901          2.344404      18.071721     5.427900       3.568079  \n",
       "207905          3.635958      14.874822     5.905557       0.255856  \n",
       "207916          3.879724      17.923987     6.179356       3.002563  \n",
       "207925          3.811554      18.189754     6.208934       1.206681  \n",
       "207929          0.902578      10.897507     1.587952       1.815296  \n",
       "\n",
       "[5 rows x 24 columns]"
      ]
     },
     "execution_count": 18,
     "metadata": {},
     "output_type": "execute_result"
    }
   ],
   "source": [
    "irl.head()"
   ]
  },
  {
   "cell_type": "code",
   "execution_count": 19,
   "id": "d745bbde",
   "metadata": {},
   "outputs": [],
   "source": [
    "irl['LogPrice (€)'] = np.log(irl['Price (€)'])"
   ]
  },
  {
   "cell_type": "code",
   "execution_count": 20,
   "id": "ef27b522",
   "metadata": {},
   "outputs": [],
   "source": [
    "irl = irl[['UsedProperty', 'Property Size Description', 'Year', 'Month', 'Town', 'Apartment', 'Neighbourhood',\n",
    "'Eircode', 'Latitude', 'Longitude', 'DistanceIFSC', 'DistanceSchool', 'DistancePark', 'DistanceSecSchool', 'LogPrice (€)']]"
   ]
  },
  {
   "cell_type": "code",
   "execution_count": 21,
   "id": "b13d552a",
   "metadata": {},
   "outputs": [
    {
     "data": {
      "text/plain": [
       "(5386, 15)"
      ]
     },
     "execution_count": 21,
     "metadata": {},
     "output_type": "execute_result"
    }
   ],
   "source": [
    "irl.shape"
   ]
  },
  {
   "cell_type": "code",
   "execution_count": 22,
   "id": "70fc0455",
   "metadata": {},
   "outputs": [
    {
     "data": {
      "text/html": [
       "<div>\n",
       "<style scoped>\n",
       "    .dataframe tbody tr th:only-of-type {\n",
       "        vertical-align: middle;\n",
       "    }\n",
       "\n",
       "    .dataframe tbody tr th {\n",
       "        vertical-align: top;\n",
       "    }\n",
       "\n",
       "    .dataframe thead th {\n",
       "        text-align: right;\n",
       "    }\n",
       "</style>\n",
       "<table border=\"1\" class=\"dataframe\">\n",
       "  <thead>\n",
       "    <tr style=\"text-align: right;\">\n",
       "      <th></th>\n",
       "      <th>UsedProperty</th>\n",
       "      <th>Property Size Description</th>\n",
       "      <th>Year</th>\n",
       "      <th>Month</th>\n",
       "      <th>Town</th>\n",
       "      <th>Apartment</th>\n",
       "      <th>Neighbourhood</th>\n",
       "      <th>Eircode</th>\n",
       "      <th>Latitude</th>\n",
       "      <th>Longitude</th>\n",
       "      <th>DistanceIFSC</th>\n",
       "      <th>DistanceSchool</th>\n",
       "      <th>DistancePark</th>\n",
       "      <th>DistanceSecSchool</th>\n",
       "      <th>LogPrice (€)</th>\n",
       "    </tr>\n",
       "  </thead>\n",
       "  <tbody>\n",
       "    <tr>\n",
       "      <th>207901</th>\n",
       "      <td>0</td>\n",
       "      <td>1</td>\n",
       "      <td>2014</td>\n",
       "      <td>1</td>\n",
       "      <td>428603.796167</td>\n",
       "      <td>0</td>\n",
       "      <td>595093.0</td>\n",
       "      <td>454593.5167</td>\n",
       "      <td>53.307878</td>\n",
       "      <td>-6.335665</td>\n",
       "      <td>7.541595</td>\n",
       "      <td>0.49212</td>\n",
       "      <td>1.438826</td>\n",
       "      <td>0.156609</td>\n",
       "      <td>13.010761</td>\n",
       "    </tr>\n",
       "  </tbody>\n",
       "</table>\n",
       "</div>"
      ],
      "text/plain": [
       "        UsedProperty  Property Size Description  Year  Month           Town  \\\n",
       "207901             0                          1  2014      1  428603.796167   \n",
       "\n",
       "        Apartment  Neighbourhood      Eircode   Latitude  Longitude  \\\n",
       "207901          0       595093.0  454593.5167  53.307878  -6.335665   \n",
       "\n",
       "        DistanceIFSC  DistanceSchool  DistancePark  DistanceSecSchool  \\\n",
       "207901      7.541595         0.49212      1.438826           0.156609   \n",
       "\n",
       "        LogPrice (€)  \n",
       "207901     13.010761  "
      ]
     },
     "execution_count": 22,
     "metadata": {},
     "output_type": "execute_result"
    }
   ],
   "source": [
    "irl.head(1)"
   ]
  },
  {
   "cell_type": "code",
   "execution_count": 23,
   "id": "d8cf16a1",
   "metadata": {},
   "outputs": [],
   "source": [
    "#irl.to_csv('sub-dub-encoded.csv')"
   ]
  },
  {
   "cell_type": "code",
   "execution_count": 24,
   "id": "6605e057",
   "metadata": {},
   "outputs": [],
   "source": [
    "#from sklearn.preprocessing import OneHotEncoder\n",
    "\n",
    "#creating instance of one-hot-encoder\n",
    "#encoder = OneHotEncoder(handle_unknown='ignore')\n",
    "\n",
    "#perform one-hot encoding on 'team' column \n",
    "#encoder_df = pd.DataFrame(encoder.fit_transform(irl[['Property Size Description']]).toarray())\n",
    "#merge one-hot encoded columns back with original DataFrame\n",
    "#irl1 = irl.join(encoder_df)"
   ]
  },
  {
   "cell_type": "code",
   "execution_count": 25,
   "id": "0f44f725",
   "metadata": {},
   "outputs": [
    {
     "data": {
      "text/html": [
       "<div>\n",
       "<style scoped>\n",
       "    .dataframe tbody tr th:only-of-type {\n",
       "        vertical-align: middle;\n",
       "    }\n",
       "\n",
       "    .dataframe tbody tr th {\n",
       "        vertical-align: top;\n",
       "    }\n",
       "\n",
       "    .dataframe thead th {\n",
       "        text-align: right;\n",
       "    }\n",
       "</style>\n",
       "<table border=\"1\" class=\"dataframe\">\n",
       "  <thead>\n",
       "    <tr style=\"text-align: right;\">\n",
       "      <th></th>\n",
       "      <th>UsedProperty</th>\n",
       "      <th>Property Size Description</th>\n",
       "      <th>Year</th>\n",
       "      <th>Month</th>\n",
       "      <th>Town</th>\n",
       "      <th>Apartment</th>\n",
       "      <th>Neighbourhood</th>\n",
       "      <th>Eircode</th>\n",
       "      <th>Latitude</th>\n",
       "      <th>Longitude</th>\n",
       "      <th>DistanceIFSC</th>\n",
       "      <th>DistanceSchool</th>\n",
       "      <th>DistancePark</th>\n",
       "      <th>DistanceSecSchool</th>\n",
       "      <th>LogPrice (€)</th>\n",
       "    </tr>\n",
       "  </thead>\n",
       "  <tbody>\n",
       "    <tr>\n",
       "      <th>207901</th>\n",
       "      <td>0</td>\n",
       "      <td>1</td>\n",
       "      <td>2014</td>\n",
       "      <td>1</td>\n",
       "      <td>428603.796167</td>\n",
       "      <td>0</td>\n",
       "      <td>595093.0</td>\n",
       "      <td>454593.516700</td>\n",
       "      <td>53.307878</td>\n",
       "      <td>-6.335665</td>\n",
       "      <td>7.541595</td>\n",
       "      <td>0.492120</td>\n",
       "      <td>1.438826</td>\n",
       "      <td>0.156609</td>\n",
       "      <td>13.010761</td>\n",
       "    </tr>\n",
       "    <tr>\n",
       "      <th>207905</th>\n",
       "      <td>1</td>\n",
       "      <td>0</td>\n",
       "      <td>2014</td>\n",
       "      <td>1</td>\n",
       "      <td>499010.652149</td>\n",
       "      <td>0</td>\n",
       "      <td>1120920.0</td>\n",
       "      <td>499010.652149</td>\n",
       "      <td>53.288227</td>\n",
       "      <td>-6.238896</td>\n",
       "      <td>6.817210</td>\n",
       "      <td>0.100996</td>\n",
       "      <td>2.784711</td>\n",
       "      <td>0.831639</td>\n",
       "      <td>12.894207</td>\n",
       "    </tr>\n",
       "    <tr>\n",
       "      <th>207916</th>\n",
       "      <td>0</td>\n",
       "      <td>1</td>\n",
       "      <td>2014</td>\n",
       "      <td>1</td>\n",
       "      <td>564023.918947</td>\n",
       "      <td>1</td>\n",
       "      <td>436254.0</td>\n",
       "      <td>454593.516700</td>\n",
       "      <td>53.291600</td>\n",
       "      <td>-6.312400</td>\n",
       "      <td>7.799393</td>\n",
       "      <td>0.683556</td>\n",
       "      <td>3.098765</td>\n",
       "      <td>0.968202</td>\n",
       "      <td>12.186050</td>\n",
       "    </tr>\n",
       "    <tr>\n",
       "      <th>207925</th>\n",
       "      <td>1</td>\n",
       "      <td>1</td>\n",
       "      <td>2014</td>\n",
       "      <td>1</td>\n",
       "      <td>319537.941091</td>\n",
       "      <td>0</td>\n",
       "      <td>231951.0</td>\n",
       "      <td>317917.959890</td>\n",
       "      <td>53.353853</td>\n",
       "      <td>-6.372213</td>\n",
       "      <td>8.400802</td>\n",
       "      <td>0.319564</td>\n",
       "      <td>1.909348</td>\n",
       "      <td>0.262801</td>\n",
       "      <td>11.461632</td>\n",
       "    </tr>\n",
       "    <tr>\n",
       "      <th>207929</th>\n",
       "      <td>1</td>\n",
       "      <td>2</td>\n",
       "      <td>2014</td>\n",
       "      <td>1</td>\n",
       "      <td>428629.688519</td>\n",
       "      <td>1</td>\n",
       "      <td>172844.0</td>\n",
       "      <td>305517.216068</td>\n",
       "      <td>53.366311</td>\n",
       "      <td>-6.263792</td>\n",
       "      <td>2.225835</td>\n",
       "      <td>0.085034</td>\n",
       "      <td>0.909828</td>\n",
       "      <td>0.597393</td>\n",
       "      <td>11.931636</td>\n",
       "    </tr>\n",
       "    <tr>\n",
       "      <th>...</th>\n",
       "      <td>...</td>\n",
       "      <td>...</td>\n",
       "      <td>...</td>\n",
       "      <td>...</td>\n",
       "      <td>...</td>\n",
       "      <td>...</td>\n",
       "      <td>...</td>\n",
       "      <td>...</td>\n",
       "      <td>...</td>\n",
       "      <td>...</td>\n",
       "      <td>...</td>\n",
       "      <td>...</td>\n",
       "      <td>...</td>\n",
       "      <td>...</td>\n",
       "      <td>...</td>\n",
       "    </tr>\n",
       "    <tr>\n",
       "      <th>261963</th>\n",
       "      <td>1</td>\n",
       "      <td>2</td>\n",
       "      <td>2021</td>\n",
       "      <td>10</td>\n",
       "      <td>352686.083110</td>\n",
       "      <td>0</td>\n",
       "      <td>453286.0</td>\n",
       "      <td>352686.083110</td>\n",
       "      <td>53.491883</td>\n",
       "      <td>-6.135906</td>\n",
       "      <td>17.439163</td>\n",
       "      <td>0.099830</td>\n",
       "      <td>9.753778</td>\n",
       "      <td>1.238197</td>\n",
       "      <td>12.936154</td>\n",
       "    </tr>\n",
       "    <tr>\n",
       "      <th>261968</th>\n",
       "      <td>0</td>\n",
       "      <td>2</td>\n",
       "      <td>2021</td>\n",
       "      <td>11</td>\n",
       "      <td>457655.376615</td>\n",
       "      <td>0</td>\n",
       "      <td>521558.0</td>\n",
       "      <td>606528.822301</td>\n",
       "      <td>53.255027</td>\n",
       "      <td>-6.147053</td>\n",
       "      <td>12.378025</td>\n",
       "      <td>0.892319</td>\n",
       "      <td>1.511927</td>\n",
       "      <td>1.557293</td>\n",
       "      <td>13.169684</td>\n",
       "    </tr>\n",
       "    <tr>\n",
       "      <th>262028</th>\n",
       "      <td>1</td>\n",
       "      <td>2</td>\n",
       "      <td>2021</td>\n",
       "      <td>12</td>\n",
       "      <td>202056.464897</td>\n",
       "      <td>0</td>\n",
       "      <td>195967.0</td>\n",
       "      <td>202056.464897</td>\n",
       "      <td>53.318052</td>\n",
       "      <td>-6.372816</td>\n",
       "      <td>9.121749</td>\n",
       "      <td>1.230371</td>\n",
       "      <td>2.045147</td>\n",
       "      <td>1.054941</td>\n",
       "      <td>12.542545</td>\n",
       "    </tr>\n",
       "    <tr>\n",
       "      <th>262032</th>\n",
       "      <td>1</td>\n",
       "      <td>2</td>\n",
       "      <td>2021</td>\n",
       "      <td>10</td>\n",
       "      <td>855537.184541</td>\n",
       "      <td>0</td>\n",
       "      <td>971920.0</td>\n",
       "      <td>606528.822301</td>\n",
       "      <td>53.282730</td>\n",
       "      <td>-6.119818</td>\n",
       "      <td>11.182747</td>\n",
       "      <td>0.468291</td>\n",
       "      <td>2.346736</td>\n",
       "      <td>0.672380</td>\n",
       "      <td>14.022525</td>\n",
       "    </tr>\n",
       "    <tr>\n",
       "      <th>262033</th>\n",
       "      <td>1</td>\n",
       "      <td>2</td>\n",
       "      <td>2021</td>\n",
       "      <td>12</td>\n",
       "      <td>428603.796167</td>\n",
       "      <td>0</td>\n",
       "      <td>526190.0</td>\n",
       "      <td>454593.516700</td>\n",
       "      <td>53.312154</td>\n",
       "      <td>-6.298860</td>\n",
       "      <td>5.434332</td>\n",
       "      <td>0.800764</td>\n",
       "      <td>1.104501</td>\n",
       "      <td>0.198484</td>\n",
       "      <td>13.617060</td>\n",
       "    </tr>\n",
       "  </tbody>\n",
       "</table>\n",
       "<p>5386 rows × 15 columns</p>\n",
       "</div>"
      ],
      "text/plain": [
       "        UsedProperty  Property Size Description  Year  Month           Town  \\\n",
       "207901             0                          1  2014      1  428603.796167   \n",
       "207905             1                          0  2014      1  499010.652149   \n",
       "207916             0                          1  2014      1  564023.918947   \n",
       "207925             1                          1  2014      1  319537.941091   \n",
       "207929             1                          2  2014      1  428629.688519   \n",
       "...              ...                        ...   ...    ...            ...   \n",
       "261963             1                          2  2021     10  352686.083110   \n",
       "261968             0                          2  2021     11  457655.376615   \n",
       "262028             1                          2  2021     12  202056.464897   \n",
       "262032             1                          2  2021     10  855537.184541   \n",
       "262033             1                          2  2021     12  428603.796167   \n",
       "\n",
       "        Apartment  Neighbourhood        Eircode   Latitude  Longitude  \\\n",
       "207901          0       595093.0  454593.516700  53.307878  -6.335665   \n",
       "207905          0      1120920.0  499010.652149  53.288227  -6.238896   \n",
       "207916          1       436254.0  454593.516700  53.291600  -6.312400   \n",
       "207925          0       231951.0  317917.959890  53.353853  -6.372213   \n",
       "207929          1       172844.0  305517.216068  53.366311  -6.263792   \n",
       "...           ...            ...            ...        ...        ...   \n",
       "261963          0       453286.0  352686.083110  53.491883  -6.135906   \n",
       "261968          0       521558.0  606528.822301  53.255027  -6.147053   \n",
       "262028          0       195967.0  202056.464897  53.318052  -6.372816   \n",
       "262032          0       971920.0  606528.822301  53.282730  -6.119818   \n",
       "262033          0       526190.0  454593.516700  53.312154  -6.298860   \n",
       "\n",
       "        DistanceIFSC  DistanceSchool  DistancePark  DistanceSecSchool  \\\n",
       "207901      7.541595        0.492120      1.438826           0.156609   \n",
       "207905      6.817210        0.100996      2.784711           0.831639   \n",
       "207916      7.799393        0.683556      3.098765           0.968202   \n",
       "207925      8.400802        0.319564      1.909348           0.262801   \n",
       "207929      2.225835        0.085034      0.909828           0.597393   \n",
       "...              ...             ...           ...                ...   \n",
       "261963     17.439163        0.099830      9.753778           1.238197   \n",
       "261968     12.378025        0.892319      1.511927           1.557293   \n",
       "262028      9.121749        1.230371      2.045147           1.054941   \n",
       "262032     11.182747        0.468291      2.346736           0.672380   \n",
       "262033      5.434332        0.800764      1.104501           0.198484   \n",
       "\n",
       "        LogPrice (€)  \n",
       "207901     13.010761  \n",
       "207905     12.894207  \n",
       "207916     12.186050  \n",
       "207925     11.461632  \n",
       "207929     11.931636  \n",
       "...              ...  \n",
       "261963     12.936154  \n",
       "261968     13.169684  \n",
       "262028     12.542545  \n",
       "262032     14.022525  \n",
       "262033     13.617060  \n",
       "\n",
       "[5386 rows x 15 columns]"
      ]
     },
     "execution_count": 25,
     "metadata": {},
     "output_type": "execute_result"
    }
   ],
   "source": [
    "irl"
   ]
  },
  {
   "cell_type": "code",
   "execution_count": 26,
   "id": "5f360609",
   "metadata": {},
   "outputs": [],
   "source": [
    "x = irl.loc[:, irl.columns != 'LogPrice (€)']\n",
    "y = irl['LogPrice (€)']"
   ]
  },
  {
   "cell_type": "markdown",
   "id": "db0144e9",
   "metadata": {},
   "source": [
    "### Let's try predict a specific years values given some historical data\n",
    "We will look at using 3 years worth of data and use it to predict some data for a selected year, let's say 2021, now."
   ]
  },
  {
   "cell_type": "code",
   "execution_count": 27,
   "id": "9f08f8e1",
   "metadata": {},
   "outputs": [],
   "source": [
    "specific21 = irl[irl['Year'] > 2017]"
   ]
  },
  {
   "cell_type": "markdown",
   "id": "4aa43ad9",
   "metadata": {},
   "source": [
    "A regular train to test split will not suffice here as we need only the years 2018, 2019 and 2020 in our training data, while only using the houses associated with 2021 in our test data."
   ]
  },
  {
   "cell_type": "code",
   "execution_count": 28,
   "id": "41bbaeae",
   "metadata": {},
   "outputs": [
    {
     "data": {
      "text/html": [
       "<div>\n",
       "<style scoped>\n",
       "    .dataframe tbody tr th:only-of-type {\n",
       "        vertical-align: middle;\n",
       "    }\n",
       "\n",
       "    .dataframe tbody tr th {\n",
       "        vertical-align: top;\n",
       "    }\n",
       "\n",
       "    .dataframe thead th {\n",
       "        text-align: right;\n",
       "    }\n",
       "</style>\n",
       "<table border=\"1\" class=\"dataframe\">\n",
       "  <thead>\n",
       "    <tr style=\"text-align: right;\">\n",
       "      <th></th>\n",
       "      <th>UsedProperty</th>\n",
       "      <th>Property Size Description</th>\n",
       "      <th>Year</th>\n",
       "      <th>Month</th>\n",
       "      <th>Town</th>\n",
       "      <th>Apartment</th>\n",
       "      <th>Neighbourhood</th>\n",
       "      <th>Eircode</th>\n",
       "      <th>Latitude</th>\n",
       "      <th>Longitude</th>\n",
       "      <th>DistanceIFSC</th>\n",
       "      <th>DistanceSchool</th>\n",
       "      <th>DistancePark</th>\n",
       "      <th>DistanceSecSchool</th>\n",
       "      <th>LogPrice (€)</th>\n",
       "    </tr>\n",
       "  </thead>\n",
       "  <tbody>\n",
       "    <tr>\n",
       "      <th>218206</th>\n",
       "      <td>0</td>\n",
       "      <td>2</td>\n",
       "      <td>2021</td>\n",
       "      <td>4</td>\n",
       "      <td>309384.780408</td>\n",
       "      <td>0</td>\n",
       "      <td>324910.0</td>\n",
       "      <td>309384.780408</td>\n",
       "      <td>53.287576</td>\n",
       "      <td>-6.433316</td>\n",
       "      <td>14.222797</td>\n",
       "      <td>0.465772</td>\n",
       "      <td>6.634032</td>\n",
       "      <td>2.349923</td>\n",
       "      <td>12.624668</td>\n",
       "    </tr>\n",
       "    <tr>\n",
       "      <th>218208</th>\n",
       "      <td>0</td>\n",
       "      <td>2</td>\n",
       "      <td>2021</td>\n",
       "      <td>4</td>\n",
       "      <td>309384.780408</td>\n",
       "      <td>0</td>\n",
       "      <td>324910.0</td>\n",
       "      <td>309384.780408</td>\n",
       "      <td>53.286440</td>\n",
       "      <td>-6.434182</td>\n",
       "      <td>14.334534</td>\n",
       "      <td>0.327067</td>\n",
       "      <td>6.770860</td>\n",
       "      <td>2.355995</td>\n",
       "      <td>12.747268</td>\n",
       "    </tr>\n",
       "    <tr>\n",
       "      <th>218210</th>\n",
       "      <td>0</td>\n",
       "      <td>2</td>\n",
       "      <td>2021</td>\n",
       "      <td>4</td>\n",
       "      <td>312355.752585</td>\n",
       "      <td>0</td>\n",
       "      <td>299528.0</td>\n",
       "      <td>264202.822368</td>\n",
       "      <td>53.397993</td>\n",
       "      <td>-6.127101</td>\n",
       "      <td>9.553714</td>\n",
       "      <td>0.383226</td>\n",
       "      <td>1.822449</td>\n",
       "      <td>0.258992</td>\n",
       "      <td>13.072690</td>\n",
       "    </tr>\n",
       "    <tr>\n",
       "      <th>218212</th>\n",
       "      <td>0</td>\n",
       "      <td>2</td>\n",
       "      <td>2021</td>\n",
       "      <td>4</td>\n",
       "      <td>278522.290224</td>\n",
       "      <td>0</td>\n",
       "      <td>312057.0</td>\n",
       "      <td>264202.822368</td>\n",
       "      <td>53.404602</td>\n",
       "      <td>-6.154503</td>\n",
       "      <td>8.626190</td>\n",
       "      <td>0.776872</td>\n",
       "      <td>0.417361</td>\n",
       "      <td>0.603363</td>\n",
       "      <td>12.797276</td>\n",
       "    </tr>\n",
       "    <tr>\n",
       "      <th>218221</th>\n",
       "      <td>0</td>\n",
       "      <td>2</td>\n",
       "      <td>2021</td>\n",
       "      <td>4</td>\n",
       "      <td>309384.780408</td>\n",
       "      <td>0</td>\n",
       "      <td>324910.0</td>\n",
       "      <td>309384.780408</td>\n",
       "      <td>53.286440</td>\n",
       "      <td>-6.434182</td>\n",
       "      <td>14.334534</td>\n",
       "      <td>0.327067</td>\n",
       "      <td>6.770860</td>\n",
       "      <td>2.355995</td>\n",
       "      <td>12.653239</td>\n",
       "    </tr>\n",
       "  </tbody>\n",
       "</table>\n",
       "</div>"
      ],
      "text/plain": [
       "        UsedProperty  Property Size Description  Year  Month           Town  \\\n",
       "218206             0                          2  2021      4  309384.780408   \n",
       "218208             0                          2  2021      4  309384.780408   \n",
       "218210             0                          2  2021      4  312355.752585   \n",
       "218212             0                          2  2021      4  278522.290224   \n",
       "218221             0                          2  2021      4  309384.780408   \n",
       "\n",
       "        Apartment  Neighbourhood        Eircode   Latitude  Longitude  \\\n",
       "218206          0       324910.0  309384.780408  53.287576  -6.433316   \n",
       "218208          0       324910.0  309384.780408  53.286440  -6.434182   \n",
       "218210          0       299528.0  264202.822368  53.397993  -6.127101   \n",
       "218212          0       312057.0  264202.822368  53.404602  -6.154503   \n",
       "218221          0       324910.0  309384.780408  53.286440  -6.434182   \n",
       "\n",
       "        DistanceIFSC  DistanceSchool  DistancePark  DistanceSecSchool  \\\n",
       "218206     14.222797        0.465772      6.634032           2.349923   \n",
       "218208     14.334534        0.327067      6.770860           2.355995   \n",
       "218210      9.553714        0.383226      1.822449           0.258992   \n",
       "218212      8.626190        0.776872      0.417361           0.603363   \n",
       "218221     14.334534        0.327067      6.770860           2.355995   \n",
       "\n",
       "        LogPrice (€)  \n",
       "218206     12.624668  \n",
       "218208     12.747268  \n",
       "218210     13.072690  \n",
       "218212     12.797276  \n",
       "218221     12.653239  "
      ]
     },
     "execution_count": 28,
     "metadata": {},
     "output_type": "execute_result"
    }
   ],
   "source": [
    "specific21[specific21['Year'] == 2021].head()"
   ]
  },
  {
   "cell_type": "code",
   "execution_count": 29,
   "id": "eb10e6cf",
   "metadata": {},
   "outputs": [
    {
     "data": {
      "text/plain": [
       "2817"
      ]
     },
     "execution_count": 29,
     "metadata": {},
     "output_type": "execute_result"
    }
   ],
   "source": [
    "specific21.shape[0]"
   ]
  },
  {
   "cell_type": "code",
   "execution_count": 30,
   "id": "24fba876",
   "metadata": {},
   "outputs": [],
   "source": [
    "train_21 = specific21[specific21['Year'] < 2021]"
   ]
  },
  {
   "cell_type": "code",
   "execution_count": 31,
   "id": "20144683",
   "metadata": {},
   "outputs": [
    {
     "data": {
      "text/html": [
       "<div>\n",
       "<style scoped>\n",
       "    .dataframe tbody tr th:only-of-type {\n",
       "        vertical-align: middle;\n",
       "    }\n",
       "\n",
       "    .dataframe tbody tr th {\n",
       "        vertical-align: top;\n",
       "    }\n",
       "\n",
       "    .dataframe thead th {\n",
       "        text-align: right;\n",
       "    }\n",
       "</style>\n",
       "<table border=\"1\" class=\"dataframe\">\n",
       "  <thead>\n",
       "    <tr style=\"text-align: right;\">\n",
       "      <th></th>\n",
       "      <th>UsedProperty</th>\n",
       "      <th>Property Size Description</th>\n",
       "      <th>Year</th>\n",
       "      <th>Month</th>\n",
       "      <th>Town</th>\n",
       "      <th>Apartment</th>\n",
       "      <th>Neighbourhood</th>\n",
       "      <th>Eircode</th>\n",
       "      <th>Latitude</th>\n",
       "      <th>Longitude</th>\n",
       "      <th>DistanceIFSC</th>\n",
       "      <th>DistanceSchool</th>\n",
       "      <th>DistancePark</th>\n",
       "      <th>DistanceSecSchool</th>\n",
       "      <th>LogPrice (€)</th>\n",
       "    </tr>\n",
       "  </thead>\n",
       "  <tbody>\n",
       "    <tr>\n",
       "      <th>212799</th>\n",
       "      <td>0</td>\n",
       "      <td>1</td>\n",
       "      <td>2019</td>\n",
       "      <td>1</td>\n",
       "      <td>282447.080721</td>\n",
       "      <td>0</td>\n",
       "      <td>280196.0</td>\n",
       "      <td>282447.080721</td>\n",
       "      <td>53.341446</td>\n",
       "      <td>-6.466279</td>\n",
       "      <td>14.658324</td>\n",
       "      <td>0.728724</td>\n",
       "      <td>5.931732</td>\n",
       "      <td>1.457938</td>\n",
       "      <td>12.639056</td>\n",
       "    </tr>\n",
       "    <tr>\n",
       "      <th>212801</th>\n",
       "      <td>0</td>\n",
       "      <td>1</td>\n",
       "      <td>2019</td>\n",
       "      <td>1</td>\n",
       "      <td>282447.080721</td>\n",
       "      <td>0</td>\n",
       "      <td>280196.0</td>\n",
       "      <td>282447.080721</td>\n",
       "      <td>53.341855</td>\n",
       "      <td>-6.465382</td>\n",
       "      <td>14.596166</td>\n",
       "      <td>0.735245</td>\n",
       "      <td>5.876450</td>\n",
       "      <td>1.383995</td>\n",
       "      <td>12.708047</td>\n",
       "    </tr>\n",
       "    <tr>\n",
       "      <th>212807</th>\n",
       "      <td>0</td>\n",
       "      <td>1</td>\n",
       "      <td>2019</td>\n",
       "      <td>1</td>\n",
       "      <td>267427.250302</td>\n",
       "      <td>0</td>\n",
       "      <td>251823.0</td>\n",
       "      <td>267427.250302</td>\n",
       "      <td>53.377230</td>\n",
       "      <td>-6.328681</td>\n",
       "      <td>6.307048</td>\n",
       "      <td>1.215076</td>\n",
       "      <td>0.323427</td>\n",
       "      <td>1.359171</td>\n",
       "      <td>12.681020</td>\n",
       "    </tr>\n",
       "    <tr>\n",
       "      <th>212810</th>\n",
       "      <td>0</td>\n",
       "      <td>1</td>\n",
       "      <td>2019</td>\n",
       "      <td>1</td>\n",
       "      <td>278522.290224</td>\n",
       "      <td>0</td>\n",
       "      <td>312057.0</td>\n",
       "      <td>264202.822368</td>\n",
       "      <td>53.404602</td>\n",
       "      <td>-6.154503</td>\n",
       "      <td>8.626190</td>\n",
       "      <td>0.776872</td>\n",
       "      <td>0.417361</td>\n",
       "      <td>0.603363</td>\n",
       "      <td>12.772587</td>\n",
       "    </tr>\n",
       "    <tr>\n",
       "      <th>212814</th>\n",
       "      <td>0</td>\n",
       "      <td>1</td>\n",
       "      <td>2019</td>\n",
       "      <td>1</td>\n",
       "      <td>282447.080721</td>\n",
       "      <td>0</td>\n",
       "      <td>280196.0</td>\n",
       "      <td>282447.080721</td>\n",
       "      <td>53.341448</td>\n",
       "      <td>-6.466043</td>\n",
       "      <td>14.642740</td>\n",
       "      <td>0.719977</td>\n",
       "      <td>5.916202</td>\n",
       "      <td>1.444132</td>\n",
       "      <td>12.484904</td>\n",
       "    </tr>\n",
       "  </tbody>\n",
       "</table>\n",
       "</div>"
      ],
      "text/plain": [
       "        UsedProperty  Property Size Description  Year  Month           Town  \\\n",
       "212799             0                          1  2019      1  282447.080721   \n",
       "212801             0                          1  2019      1  282447.080721   \n",
       "212807             0                          1  2019      1  267427.250302   \n",
       "212810             0                          1  2019      1  278522.290224   \n",
       "212814             0                          1  2019      1  282447.080721   \n",
       "\n",
       "        Apartment  Neighbourhood        Eircode   Latitude  Longitude  \\\n",
       "212799          0       280196.0  282447.080721  53.341446  -6.466279   \n",
       "212801          0       280196.0  282447.080721  53.341855  -6.465382   \n",
       "212807          0       251823.0  267427.250302  53.377230  -6.328681   \n",
       "212810          0       312057.0  264202.822368  53.404602  -6.154503   \n",
       "212814          0       280196.0  282447.080721  53.341448  -6.466043   \n",
       "\n",
       "        DistanceIFSC  DistanceSchool  DistancePark  DistanceSecSchool  \\\n",
       "212799     14.658324        0.728724      5.931732           1.457938   \n",
       "212801     14.596166        0.735245      5.876450           1.383995   \n",
       "212807      6.307048        1.215076      0.323427           1.359171   \n",
       "212810      8.626190        0.776872      0.417361           0.603363   \n",
       "212814     14.642740        0.719977      5.916202           1.444132   \n",
       "\n",
       "        LogPrice (€)  \n",
       "212799     12.639056  \n",
       "212801     12.708047  \n",
       "212807     12.681020  \n",
       "212810     12.772587  \n",
       "212814     12.484904  "
      ]
     },
     "execution_count": 31,
     "metadata": {},
     "output_type": "execute_result"
    }
   ],
   "source": [
    "#train_21 = train_21.sample(n = 80000)\n",
    "train_21.head()"
   ]
  },
  {
   "cell_type": "code",
   "execution_count": 32,
   "id": "b32af944",
   "metadata": {},
   "outputs": [],
   "source": [
    "test_21 = specific21[specific21['Year'] == 2021]"
   ]
  },
  {
   "cell_type": "code",
   "execution_count": 33,
   "id": "9e4fa5cf",
   "metadata": {},
   "outputs": [],
   "source": [
    "x_train_21 = train_21.loc[:, train_21.columns != 'LogPrice (€)']\n",
    "y_train_21 = train_21['LogPrice (€)']"
   ]
  },
  {
   "cell_type": "code",
   "execution_count": 34,
   "id": "30b4696d",
   "metadata": {},
   "outputs": [],
   "source": [
    "#x_train_21.drop(columns=['Year'], inplace = True)"
   ]
  },
  {
   "cell_type": "code",
   "execution_count": 35,
   "id": "5d9d83fe",
   "metadata": {},
   "outputs": [
    {
     "data": {
      "text/html": [
       "<div>\n",
       "<style scoped>\n",
       "    .dataframe tbody tr th:only-of-type {\n",
       "        vertical-align: middle;\n",
       "    }\n",
       "\n",
       "    .dataframe tbody tr th {\n",
       "        vertical-align: top;\n",
       "    }\n",
       "\n",
       "    .dataframe thead th {\n",
       "        text-align: right;\n",
       "    }\n",
       "</style>\n",
       "<table border=\"1\" class=\"dataframe\">\n",
       "  <thead>\n",
       "    <tr style=\"text-align: right;\">\n",
       "      <th></th>\n",
       "      <th>UsedProperty</th>\n",
       "      <th>Property Size Description</th>\n",
       "      <th>Year</th>\n",
       "      <th>Month</th>\n",
       "      <th>Town</th>\n",
       "      <th>Apartment</th>\n",
       "      <th>Neighbourhood</th>\n",
       "      <th>Eircode</th>\n",
       "      <th>Latitude</th>\n",
       "      <th>Longitude</th>\n",
       "      <th>DistanceIFSC</th>\n",
       "      <th>DistanceSchool</th>\n",
       "      <th>DistancePark</th>\n",
       "      <th>DistanceSecSchool</th>\n",
       "      <th>LogPrice (€)</th>\n",
       "    </tr>\n",
       "  </thead>\n",
       "  <tbody>\n",
       "    <tr>\n",
       "      <th>218206</th>\n",
       "      <td>0</td>\n",
       "      <td>2</td>\n",
       "      <td>2021</td>\n",
       "      <td>4</td>\n",
       "      <td>309384.780408</td>\n",
       "      <td>0</td>\n",
       "      <td>324910.0</td>\n",
       "      <td>309384.780408</td>\n",
       "      <td>53.287576</td>\n",
       "      <td>-6.433316</td>\n",
       "      <td>14.222797</td>\n",
       "      <td>0.465772</td>\n",
       "      <td>6.634032</td>\n",
       "      <td>2.349923</td>\n",
       "      <td>12.624668</td>\n",
       "    </tr>\n",
       "    <tr>\n",
       "      <th>218208</th>\n",
       "      <td>0</td>\n",
       "      <td>2</td>\n",
       "      <td>2021</td>\n",
       "      <td>4</td>\n",
       "      <td>309384.780408</td>\n",
       "      <td>0</td>\n",
       "      <td>324910.0</td>\n",
       "      <td>309384.780408</td>\n",
       "      <td>53.286440</td>\n",
       "      <td>-6.434182</td>\n",
       "      <td>14.334534</td>\n",
       "      <td>0.327067</td>\n",
       "      <td>6.770860</td>\n",
       "      <td>2.355995</td>\n",
       "      <td>12.747268</td>\n",
       "    </tr>\n",
       "    <tr>\n",
       "      <th>218210</th>\n",
       "      <td>0</td>\n",
       "      <td>2</td>\n",
       "      <td>2021</td>\n",
       "      <td>4</td>\n",
       "      <td>312355.752585</td>\n",
       "      <td>0</td>\n",
       "      <td>299528.0</td>\n",
       "      <td>264202.822368</td>\n",
       "      <td>53.397993</td>\n",
       "      <td>-6.127101</td>\n",
       "      <td>9.553714</td>\n",
       "      <td>0.383226</td>\n",
       "      <td>1.822449</td>\n",
       "      <td>0.258992</td>\n",
       "      <td>13.072690</td>\n",
       "    </tr>\n",
       "    <tr>\n",
       "      <th>218212</th>\n",
       "      <td>0</td>\n",
       "      <td>2</td>\n",
       "      <td>2021</td>\n",
       "      <td>4</td>\n",
       "      <td>278522.290224</td>\n",
       "      <td>0</td>\n",
       "      <td>312057.0</td>\n",
       "      <td>264202.822368</td>\n",
       "      <td>53.404602</td>\n",
       "      <td>-6.154503</td>\n",
       "      <td>8.626190</td>\n",
       "      <td>0.776872</td>\n",
       "      <td>0.417361</td>\n",
       "      <td>0.603363</td>\n",
       "      <td>12.797276</td>\n",
       "    </tr>\n",
       "    <tr>\n",
       "      <th>218221</th>\n",
       "      <td>0</td>\n",
       "      <td>2</td>\n",
       "      <td>2021</td>\n",
       "      <td>4</td>\n",
       "      <td>309384.780408</td>\n",
       "      <td>0</td>\n",
       "      <td>324910.0</td>\n",
       "      <td>309384.780408</td>\n",
       "      <td>53.286440</td>\n",
       "      <td>-6.434182</td>\n",
       "      <td>14.334534</td>\n",
       "      <td>0.327067</td>\n",
       "      <td>6.770860</td>\n",
       "      <td>2.355995</td>\n",
       "      <td>12.653239</td>\n",
       "    </tr>\n",
       "  </tbody>\n",
       "</table>\n",
       "</div>"
      ],
      "text/plain": [
       "        UsedProperty  Property Size Description  Year  Month           Town  \\\n",
       "218206             0                          2  2021      4  309384.780408   \n",
       "218208             0                          2  2021      4  309384.780408   \n",
       "218210             0                          2  2021      4  312355.752585   \n",
       "218212             0                          2  2021      4  278522.290224   \n",
       "218221             0                          2  2021      4  309384.780408   \n",
       "\n",
       "        Apartment  Neighbourhood        Eircode   Latitude  Longitude  \\\n",
       "218206          0       324910.0  309384.780408  53.287576  -6.433316   \n",
       "218208          0       324910.0  309384.780408  53.286440  -6.434182   \n",
       "218210          0       299528.0  264202.822368  53.397993  -6.127101   \n",
       "218212          0       312057.0  264202.822368  53.404602  -6.154503   \n",
       "218221          0       324910.0  309384.780408  53.286440  -6.434182   \n",
       "\n",
       "        DistanceIFSC  DistanceSchool  DistancePark  DistanceSecSchool  \\\n",
       "218206     14.222797        0.465772      6.634032           2.349923   \n",
       "218208     14.334534        0.327067      6.770860           2.355995   \n",
       "218210      9.553714        0.383226      1.822449           0.258992   \n",
       "218212      8.626190        0.776872      0.417361           0.603363   \n",
       "218221     14.334534        0.327067      6.770860           2.355995   \n",
       "\n",
       "        LogPrice (€)  \n",
       "218206     12.624668  \n",
       "218208     12.747268  \n",
       "218210     13.072690  \n",
       "218212     12.797276  \n",
       "218221     12.653239  "
      ]
     },
     "execution_count": 35,
     "metadata": {},
     "output_type": "execute_result"
    }
   ],
   "source": [
    "#test_21 = test_21.sample(n = 15000)\n",
    "test_21.head()"
   ]
  },
  {
   "cell_type": "code",
   "execution_count": 36,
   "id": "d0b79fe2",
   "metadata": {},
   "outputs": [],
   "source": [
    "x_test_21 = test_21.loc[:, test_21.columns != 'LogPrice (€)']\n",
    "y_test_21 = test_21['LogPrice (€)']"
   ]
  },
  {
   "cell_type": "code",
   "execution_count": 37,
   "id": "c0e493cb",
   "metadata": {},
   "outputs": [
    {
     "name": "stdout",
     "output_type": "stream",
     "text": [
      "AutoML directory: AutoML_6\n",
      "The task is regression with evaluation metric rmse\n",
      "AutoML will use algorithms: ['Baseline', 'Linear', 'Decision Tree', 'Random Forest', 'Xgboost', 'Neural Network']\n",
      "AutoML will ensemble available models\n",
      "AutoML steps: ['simple_algorithms', 'default_algorithms', 'ensemble']\n",
      "* Step simple_algorithms will try to check up to 3 models\n",
      "1_Baseline rmse 0.43894 trained in 0.39 seconds\n",
      "2_DecisionTree rmse 0.26055 trained in 23.63 seconds\n",
      "3_Linear rmse 0.26323 trained in 3.49 seconds\n",
      "* Step default_algorithms will try to check up to 3 models\n",
      "4_Default_Xgboost rmse 0.226704 trained in 6.36 seconds\n",
      "5_Default_NeuralNetwork rmse 0.243329 trained in 0.89 seconds\n",
      "6_Default_RandomForest rmse 0.240805 trained in 5.49 seconds\n",
      "* Step ensemble will try to check up to 1 model\n",
      "Ensemble rmse 0.223467 trained in 0.73 seconds\n",
      "AutoML fit time: 56.11 seconds\n",
      "AutoML best model: Ensemble\n"
     ]
    },
    {
     "data": {
      "text/plain": [
       "AutoML(explain_level=2, total_time_limit=300)"
      ]
     },
     "execution_count": 37,
     "metadata": {},
     "output_type": "execute_result"
    }
   ],
   "source": [
    "## explain_level gives information on feature importance when given value 1 or 2\n",
    "automl1 = AutoML(total_time_limit = 5 * 60, explain_level = 2)\n",
    "automl1.fit(x_train_21, y_train_21)"
   ]
  },
  {
   "cell_type": "code",
   "execution_count": 38,
   "id": "d4f2a436",
   "metadata": {},
   "outputs": [],
   "source": [
    "# calculated values\n",
    "y_predicted_21 = automl1.predict(x_test_21)\n",
    "  \n",
    "# Calculation of Mean Squared Error (MSE)\n",
    "#mse = mean_squared_error(y_test_21, y_predicted_21)\n",
    "#print('MSE for AutoML 2021 is: ' + str(mse))"
   ]
  },
  {
   "cell_type": "code",
   "execution_count": 39,
   "id": "d5ba1997",
   "metadata": {},
   "outputs": [
    {
     "name": "stdout",
     "output_type": "stream",
     "text": [
      "MSE for AutoML 2021 is: 29771510254.69321\n"
     ]
    }
   ],
   "source": [
    "mse = mean_squared_error(np.exp(y_test_21), np.exp(y_predicted_21))\n",
    "print('MSE for AutoML 2021 is: ' + str(mse))"
   ]
  },
  {
   "cell_type": "code",
   "execution_count": 40,
   "id": "718fee9e",
   "metadata": {},
   "outputs": [
    {
     "name": "stdout",
     "output_type": "stream",
     "text": [
      "RMSE for AutoML 2021 is: 172544.22695266627\n"
     ]
    }
   ],
   "source": [
    "rmse = mean_squared_error(np.exp(y_test_21), np.exp(y_predicted_21), squared = False)\n",
    "print('RMSE for AutoML 2021 is: ' + str(rmse))"
   ]
  },
  {
   "cell_type": "code",
   "execution_count": 41,
   "id": "2131bd5d",
   "metadata": {},
   "outputs": [
    {
     "name": "stdout",
     "output_type": "stream",
     "text": [
      "Accuracy of properties at +- 10% of actual prices is 0.48223350253807107\n"
     ]
    }
   ],
   "source": [
    "acc = accuracy_threshold(y_test_21, y_predicted_21, 0.1)\n",
    "print('Accuracy of properties at +- 10% of actual prices is ' + str(acc))"
   ]
  },
  {
   "cell_type": "code",
   "execution_count": 42,
   "id": "9521e57c",
   "metadata": {},
   "outputs": [
    {
     "name": "stdout",
     "output_type": "stream",
     "text": [
      "Accuracy of properties at +- 20% of actual prices is 0.6835871404399323\n"
     ]
    }
   ],
   "source": [
    "acc1 = accuracy_threshold(y_test_21, y_predicted_21, 0.20)\n",
    "print('Accuracy of properties at +- 20% of actual prices is ' + str(acc1))"
   ]
  },
  {
   "cell_type": "code",
   "execution_count": 43,
   "id": "5fe78f15",
   "metadata": {},
   "outputs": [
    {
     "name": "stdout",
     "output_type": "stream",
     "text": [
      "Median Absolute Error:\n",
      "\n",
      "39304.30311429361\n"
     ]
    }
   ],
   "source": [
    "median_se = np.square(np.subtract(np.exp(y_test_21), np.exp(y_predicted_21))).median() \n",
    " \n",
    "med = math.sqrt(median_se)\n",
    "print(\"Median Absolute Error:\\n\")\n",
    "print(med)"
   ]
  },
  {
   "cell_type": "code",
   "execution_count": 44,
   "id": "b55c0957",
   "metadata": {},
   "outputs": [
    {
     "name": "stdout",
     "output_type": "stream",
     "text": [
      "MAPE for AutoML 2021 is: 0.2032554540233951\n"
     ]
    }
   ],
   "source": [
    "from sklearn.metrics import mean_absolute_percentage_error\n",
    "mape = mean_absolute_percentage_error(np.exp(y_test_21), np.exp(y_predicted_21))\n",
    "print(\"MAPE for AutoML 2021 is: \" + str(mape))"
   ]
  },
  {
   "cell_type": "code",
   "execution_count": 45,
   "id": "6e9ed327",
   "metadata": {},
   "outputs": [],
   "source": [
    "cnames=['Algorithm', 'Year', 'RMSE', 'MSE', 'MEDAE', 'Accuracy', 'MAPE']\n",
    "df11 = pd.DataFrame(columns=cnames)\n",
    "\n",
    "df11 = df11.append({'Algorithm': 'AutoML',\n",
    "            'Year': 2021,\n",
    "           'RMSE': rmse,\n",
    "           'MSE': mse,\n",
    "           'MEDAE': med,\n",
    "           'Accuracy': acc,\n",
    "           'MAPE': mape         \n",
    "          }, ignore_index=True)"
   ]
  },
  {
   "cell_type": "code",
   "execution_count": 46,
   "id": "bac5823b",
   "metadata": {},
   "outputs": [],
   "source": [
    "#cnames = ['Actual', 'Predicted']\n",
    "#dfreal1 = pd.DataFrame(columns = cnames)\n",
    "dfreal1 = pd.DataFrame(y_test_21.values)\n",
    "dfpred1 = pd.DataFrame(y_predicted_21)"
   ]
  },
  {
   "cell_type": "markdown",
   "id": "d081217e",
   "metadata": {},
   "source": [
    "### 2020 predictions"
   ]
  },
  {
   "cell_type": "code",
   "execution_count": 47,
   "id": "d6e48b79",
   "metadata": {},
   "outputs": [],
   "source": [
    "specific20 = irl[irl['Year'] > 2016]"
   ]
  },
  {
   "cell_type": "code",
   "execution_count": 48,
   "id": "315afd40",
   "metadata": {},
   "outputs": [],
   "source": [
    "test_20 = specific20[specific20['Year'] == 2020]\n",
    "train_20 = specific20[specific20['Year'] < 2020]"
   ]
  },
  {
   "cell_type": "code",
   "execution_count": 49,
   "id": "ef743c5f",
   "metadata": {},
   "outputs": [],
   "source": [
    "#train_20 = train_20.sample(n = 75000)"
   ]
  },
  {
   "cell_type": "code",
   "execution_count": 50,
   "id": "c9c2a103",
   "metadata": {},
   "outputs": [],
   "source": [
    "x_train_20 = train_20.loc[:, train_20.columns != 'LogPrice (€)']\n",
    "y_train_20 = train_20['LogPrice (€)']"
   ]
  },
  {
   "cell_type": "code",
   "execution_count": 51,
   "id": "23cef19c",
   "metadata": {},
   "outputs": [],
   "source": [
    "x_test_20 = test_20.loc[:, test_20.columns != 'LogPrice (€)']\n",
    "y_test_20 = test_20['LogPrice (€)']"
   ]
  },
  {
   "cell_type": "code",
   "execution_count": 52,
   "id": "489501e2",
   "metadata": {},
   "outputs": [
    {
     "name": "stdout",
     "output_type": "stream",
     "text": [
      "AutoML directory: AutoML_7\n",
      "The task is regression with evaluation metric rmse\n",
      "AutoML will use algorithms: ['Baseline', 'Linear', 'Decision Tree', 'Random Forest', 'Xgboost', 'Neural Network']\n",
      "AutoML will ensemble available models\n",
      "AutoML steps: ['simple_algorithms', 'default_algorithms', 'ensemble']\n",
      "* Step simple_algorithms will try to check up to 3 models\n",
      "1_Baseline rmse 0.429639 trained in 0.76 seconds\n",
      "2_DecisionTree rmse 0.268074 trained in 5.27 seconds\n",
      "3_Linear rmse 0.273629 trained in 3.78 seconds\n",
      "* Step default_algorithms will try to check up to 3 models\n",
      "4_Default_Xgboost rmse 0.242796 trained in 5.05 seconds\n",
      "5_Default_NeuralNetwork rmse 0.255719 trained in 1.48 seconds\n",
      "6_Default_RandomForest rmse 0.253271 trained in 5.97 seconds\n",
      "* Step ensemble will try to check up to 1 model\n",
      "Ensemble rmse 0.240391 trained in 0.68 seconds\n",
      "AutoML fit time: 36.64 seconds\n",
      "AutoML best model: Ensemble\n"
     ]
    },
    {
     "data": {
      "text/plain": [
       "AutoML(explain_level=2, total_time_limit=300)"
      ]
     },
     "execution_count": 52,
     "metadata": {},
     "output_type": "execute_result"
    }
   ],
   "source": [
    "automl2 = AutoML(total_time_limit = 5 * 60, explain_level = 2)\n",
    "automl2.fit(x_train_20, y_train_20)"
   ]
  },
  {
   "cell_type": "code",
   "execution_count": 53,
   "id": "614a3cad",
   "metadata": {},
   "outputs": [
    {
     "name": "stdout",
     "output_type": "stream",
     "text": [
      "MSE for AutoML 2020 is: 12300729690.687574\n"
     ]
    }
   ],
   "source": [
    "# calculated values\n",
    "y_predicted_20 = automl2.predict(x_test_20)\n",
    "  \n",
    "# Calculation of Mean Squared Error (MSE)\n",
    "mse = mean_squared_error(np.exp(y_test_20), np.exp(y_predicted_20))\n",
    "print('MSE for AutoML 2020 is: ' + str(mse))"
   ]
  },
  {
   "cell_type": "code",
   "execution_count": 54,
   "id": "8e4a25f6",
   "metadata": {},
   "outputs": [
    {
     "name": "stdout",
     "output_type": "stream",
     "text": [
      "RMSE for AutoML 2020 is: 110908.65471498415\n"
     ]
    }
   ],
   "source": [
    "rmse = mean_squared_error(np.exp(y_test_20), np.exp(y_predicted_20), squared=False)\n",
    "print('RMSE for AutoML 2020 is: ' + str(rmse))"
   ]
  },
  {
   "cell_type": "code",
   "execution_count": 55,
   "id": "720e2b2e",
   "metadata": {},
   "outputs": [
    {
     "name": "stdout",
     "output_type": "stream",
     "text": [
      "Accuracy of properties at +- 10% of actual prices is 0.5470494417862839\n"
     ]
    }
   ],
   "source": [
    "acc = accuracy_threshold(y_test_20, y_predicted_20, 0.1)\n",
    "print('Accuracy of properties at +- 10% of actual prices is ' + str(acc))"
   ]
  },
  {
   "cell_type": "code",
   "execution_count": 56,
   "id": "2c03aba3",
   "metadata": {},
   "outputs": [
    {
     "name": "stdout",
     "output_type": "stream",
     "text": [
      "Accuracy of properties at +- 20% of actual prices is 0.7511961722488039\n"
     ]
    }
   ],
   "source": [
    "acc1 = accuracy_threshold(y_test_20, y_predicted_20, 0.2)\n",
    "print('Accuracy of properties at +- 20% of actual prices is ' + str(acc1))"
   ]
  },
  {
   "cell_type": "code",
   "execution_count": 57,
   "id": "a7924ad0",
   "metadata": {},
   "outputs": [
    {
     "name": "stdout",
     "output_type": "stream",
     "text": [
      "Median Absolute Error:\n",
      "\n",
      "31781.987300972105\n"
     ]
    }
   ],
   "source": [
    "print(\"Median Absolute Error:\\n\")\n",
    "print(median_absolute_error(np.exp(y_test_20), np.exp(y_predicted_20)))"
   ]
  },
  {
   "cell_type": "code",
   "execution_count": 58,
   "id": "18076ebd",
   "metadata": {},
   "outputs": [
    {
     "name": "stdout",
     "output_type": "stream",
     "text": [
      "MAPE for AutoML 2020 is: 0.17384899088652886\n"
     ]
    }
   ],
   "source": [
    "mape = mean_absolute_percentage_error(np.exp(y_test_20), np.exp(y_predicted_20))\n",
    "print(\"MAPE for AutoML 2020 is: \" + str(mape))"
   ]
  },
  {
   "cell_type": "code",
   "execution_count": 59,
   "id": "3ee1861f",
   "metadata": {},
   "outputs": [],
   "source": [
    "cnames = ['Algorithm', 'Year', 'RMSE', 'MSE', 'MEDAE', 'Accuracy', 'MAPE']\n",
    "df10 = pd.DataFrame(columns=cnames)\n",
    "\n",
    "df10 = df10.append({'Algorithm': 'AutoML',\n",
    "            'Year': 2020,\n",
    "           'RMSE': rmse,\n",
    "           'MSE': mse,\n",
    "           'MEDAE': med,\n",
    "           'Accuracy': acc,\n",
    "           'MAPE': mape\n",
    "          }, ignore_index=True)"
   ]
  },
  {
   "cell_type": "code",
   "execution_count": 60,
   "id": "16a86bf8",
   "metadata": {},
   "outputs": [
    {
     "data": {
      "text/html": [
       "<div>\n",
       "<style scoped>\n",
       "    .dataframe tbody tr th:only-of-type {\n",
       "        vertical-align: middle;\n",
       "    }\n",
       "\n",
       "    .dataframe tbody tr th {\n",
       "        vertical-align: top;\n",
       "    }\n",
       "\n",
       "    .dataframe thead th {\n",
       "        text-align: right;\n",
       "    }\n",
       "</style>\n",
       "<table border=\"1\" class=\"dataframe\">\n",
       "  <thead>\n",
       "    <tr style=\"text-align: right;\">\n",
       "      <th></th>\n",
       "      <th>UsedProperty</th>\n",
       "      <th>Property Size Description</th>\n",
       "      <th>Year</th>\n",
       "      <th>Month</th>\n",
       "      <th>Town</th>\n",
       "      <th>Apartment</th>\n",
       "      <th>Neighbourhood</th>\n",
       "      <th>Eircode</th>\n",
       "      <th>Latitude</th>\n",
       "      <th>Longitude</th>\n",
       "      <th>DistanceIFSC</th>\n",
       "      <th>DistanceSchool</th>\n",
       "      <th>DistancePark</th>\n",
       "      <th>DistanceSecSchool</th>\n",
       "    </tr>\n",
       "  </thead>\n",
       "  <tbody>\n",
       "    <tr>\n",
       "      <th>0</th>\n",
       "      <td>1</td>\n",
       "      <td>1</td>\n",
       "      <td>2020</td>\n",
       "      <td>1</td>\n",
       "      <td>312355.752585</td>\n",
       "      <td>0</td>\n",
       "      <td>299528.0</td>\n",
       "      <td>264202.822368</td>\n",
       "      <td>53.401554</td>\n",
       "      <td>-6.142369</td>\n",
       "      <td>8.987333</td>\n",
       "      <td>0.872126</td>\n",
       "      <td>0.966110</td>\n",
       "      <td>0.973263</td>\n",
       "    </tr>\n",
       "    <tr>\n",
       "      <th>1</th>\n",
       "      <td>1</td>\n",
       "      <td>1</td>\n",
       "      <td>2020</td>\n",
       "      <td>1</td>\n",
       "      <td>311810.468117</td>\n",
       "      <td>1</td>\n",
       "      <td>299401.0</td>\n",
       "      <td>311810.468117</td>\n",
       "      <td>53.278220</td>\n",
       "      <td>-6.215623</td>\n",
       "      <td>8.165170</td>\n",
       "      <td>0.671500</td>\n",
       "      <td>4.581569</td>\n",
       "      <td>0.367361</td>\n",
       "    </tr>\n",
       "    <tr>\n",
       "      <th>2</th>\n",
       "      <td>0</td>\n",
       "      <td>1</td>\n",
       "      <td>2020</td>\n",
       "      <td>1</td>\n",
       "      <td>309384.780408</td>\n",
       "      <td>0</td>\n",
       "      <td>325250.0</td>\n",
       "      <td>309384.780408</td>\n",
       "      <td>53.287170</td>\n",
       "      <td>-6.433778</td>\n",
       "      <td>14.271496</td>\n",
       "      <td>0.411923</td>\n",
       "      <td>6.688568</td>\n",
       "      <td>2.360507</td>\n",
       "    </tr>\n",
       "    <tr>\n",
       "      <th>3</th>\n",
       "      <td>1</td>\n",
       "      <td>1</td>\n",
       "      <td>2020</td>\n",
       "      <td>1</td>\n",
       "      <td>189697.120035</td>\n",
       "      <td>0</td>\n",
       "      <td>186260.0</td>\n",
       "      <td>305517.216068</td>\n",
       "      <td>53.400412</td>\n",
       "      <td>-6.257995</td>\n",
       "      <td>5.729754</td>\n",
       "      <td>0.356385</td>\n",
       "      <td>0.348535</td>\n",
       "      <td>0.468681</td>\n",
       "    </tr>\n",
       "    <tr>\n",
       "      <th>4</th>\n",
       "      <td>0</td>\n",
       "      <td>1</td>\n",
       "      <td>2020</td>\n",
       "      <td>1</td>\n",
       "      <td>352686.083110</td>\n",
       "      <td>0</td>\n",
       "      <td>378428.0</td>\n",
       "      <td>352686.083110</td>\n",
       "      <td>53.481426</td>\n",
       "      <td>-6.152438</td>\n",
       "      <td>15.933497</td>\n",
       "      <td>0.984305</td>\n",
       "      <td>8.469886</td>\n",
       "      <td>2.690280</td>\n",
       "    </tr>\n",
       "    <tr>\n",
       "      <th>...</th>\n",
       "      <td>...</td>\n",
       "      <td>...</td>\n",
       "      <td>...</td>\n",
       "      <td>...</td>\n",
       "      <td>...</td>\n",
       "      <td>...</td>\n",
       "      <td>...</td>\n",
       "      <td>...</td>\n",
       "      <td>...</td>\n",
       "      <td>...</td>\n",
       "      <td>...</td>\n",
       "      <td>...</td>\n",
       "      <td>...</td>\n",
       "      <td>...</td>\n",
       "    </tr>\n",
       "    <tr>\n",
       "      <th>622</th>\n",
       "      <td>1</td>\n",
       "      <td>2</td>\n",
       "      <td>2020</td>\n",
       "      <td>11</td>\n",
       "      <td>282447.080721</td>\n",
       "      <td>0</td>\n",
       "      <td>309451.0</td>\n",
       "      <td>282447.080721</td>\n",
       "      <td>53.337031</td>\n",
       "      <td>-6.456940</td>\n",
       "      <td>14.079730</td>\n",
       "      <td>0.180497</td>\n",
       "      <td>5.290860</td>\n",
       "      <td>1.356490</td>\n",
       "    </tr>\n",
       "    <tr>\n",
       "      <th>623</th>\n",
       "      <td>0</td>\n",
       "      <td>2</td>\n",
       "      <td>2020</td>\n",
       "      <td>12</td>\n",
       "      <td>457655.376615</td>\n",
       "      <td>0</td>\n",
       "      <td>521558.0</td>\n",
       "      <td>606528.822301</td>\n",
       "      <td>53.255027</td>\n",
       "      <td>-6.147053</td>\n",
       "      <td>12.378025</td>\n",
       "      <td>0.892319</td>\n",
       "      <td>1.511927</td>\n",
       "      <td>1.557293</td>\n",
       "    </tr>\n",
       "    <tr>\n",
       "      <th>624</th>\n",
       "      <td>1</td>\n",
       "      <td>2</td>\n",
       "      <td>2020</td>\n",
       "      <td>12</td>\n",
       "      <td>855537.184541</td>\n",
       "      <td>0</td>\n",
       "      <td>1206630.0</td>\n",
       "      <td>606528.822301</td>\n",
       "      <td>53.284876</td>\n",
       "      <td>-6.117710</td>\n",
       "      <td>11.132583</td>\n",
       "      <td>0.472011</td>\n",
       "      <td>2.611803</td>\n",
       "      <td>0.622215</td>\n",
       "    </tr>\n",
       "    <tr>\n",
       "      <th>625</th>\n",
       "      <td>1</td>\n",
       "      <td>2</td>\n",
       "      <td>2020</td>\n",
       "      <td>11</td>\n",
       "      <td>383515.151515</td>\n",
       "      <td>0</td>\n",
       "      <td>395393.0</td>\n",
       "      <td>606528.822301</td>\n",
       "      <td>53.245058</td>\n",
       "      <td>-6.135482</td>\n",
       "      <td>13.726257</td>\n",
       "      <td>0.664591</td>\n",
       "      <td>2.711751</td>\n",
       "      <td>0.477108</td>\n",
       "    </tr>\n",
       "    <tr>\n",
       "      <th>626</th>\n",
       "      <td>1</td>\n",
       "      <td>2</td>\n",
       "      <td>2020</td>\n",
       "      <td>12</td>\n",
       "      <td>173267.176331</td>\n",
       "      <td>0</td>\n",
       "      <td>156827.0</td>\n",
       "      <td>173267.176331</td>\n",
       "      <td>53.402344</td>\n",
       "      <td>-6.287125</td>\n",
       "      <td>6.492882</td>\n",
       "      <td>1.081832</td>\n",
       "      <td>0.529914</td>\n",
       "      <td>1.477684</td>\n",
       "    </tr>\n",
       "  </tbody>\n",
       "</table>\n",
       "<p>627 rows × 14 columns</p>\n",
       "</div>"
      ],
      "text/plain": [
       "     UsedProperty  Property Size Description  Year  Month           Town  \\\n",
       "0               1                          1  2020      1  312355.752585   \n",
       "1               1                          1  2020      1  311810.468117   \n",
       "2               0                          1  2020      1  309384.780408   \n",
       "3               1                          1  2020      1  189697.120035   \n",
       "4               0                          1  2020      1  352686.083110   \n",
       "..            ...                        ...   ...    ...            ...   \n",
       "622             1                          2  2020     11  282447.080721   \n",
       "623             0                          2  2020     12  457655.376615   \n",
       "624             1                          2  2020     12  855537.184541   \n",
       "625             1                          2  2020     11  383515.151515   \n",
       "626             1                          2  2020     12  173267.176331   \n",
       "\n",
       "     Apartment  Neighbourhood        Eircode   Latitude  Longitude  \\\n",
       "0            0       299528.0  264202.822368  53.401554  -6.142369   \n",
       "1            1       299401.0  311810.468117  53.278220  -6.215623   \n",
       "2            0       325250.0  309384.780408  53.287170  -6.433778   \n",
       "3            0       186260.0  305517.216068  53.400412  -6.257995   \n",
       "4            0       378428.0  352686.083110  53.481426  -6.152438   \n",
       "..         ...            ...            ...        ...        ...   \n",
       "622          0       309451.0  282447.080721  53.337031  -6.456940   \n",
       "623          0       521558.0  606528.822301  53.255027  -6.147053   \n",
       "624          0      1206630.0  606528.822301  53.284876  -6.117710   \n",
       "625          0       395393.0  606528.822301  53.245058  -6.135482   \n",
       "626          0       156827.0  173267.176331  53.402344  -6.287125   \n",
       "\n",
       "     DistanceIFSC  DistanceSchool  DistancePark  DistanceSecSchool  \n",
       "0        8.987333        0.872126      0.966110           0.973263  \n",
       "1        8.165170        0.671500      4.581569           0.367361  \n",
       "2       14.271496        0.411923      6.688568           2.360507  \n",
       "3        5.729754        0.356385      0.348535           0.468681  \n",
       "4       15.933497        0.984305      8.469886           2.690280  \n",
       "..            ...             ...           ...                ...  \n",
       "622     14.079730        0.180497      5.290860           1.356490  \n",
       "623     12.378025        0.892319      1.511927           1.557293  \n",
       "624     11.132583        0.472011      2.611803           0.622215  \n",
       "625     13.726257        0.664591      2.711751           0.477108  \n",
       "626      6.492882        1.081832      0.529914           1.477684  \n",
       "\n",
       "[627 rows x 14 columns]"
      ]
     },
     "execution_count": 60,
     "metadata": {},
     "output_type": "execute_result"
    }
   ],
   "source": [
    "x_test_20"
   ]
  },
  {
   "cell_type": "code",
   "execution_count": 61,
   "id": "d3e9a667",
   "metadata": {},
   "outputs": [],
   "source": [
    "#cnames = ['Actual', 'Predicted']\n",
    "#dfreal2 = pd.DataFrame(columns = cnames)\n",
    "dfreal2 = pd.DataFrame(y_test_20.values)\n",
    "dfpred2 = pd.DataFrame(y_predicted_20)\n",
    "#dfreal2 = pd.concat([z1, z2], ignore_index=True)"
   ]
  },
  {
   "cell_type": "markdown",
   "id": "74228ee8",
   "metadata": {},
   "source": [
    "### Multiple Linear Regression"
   ]
  },
  {
   "cell_type": "markdown",
   "id": "0c6586a2",
   "metadata": {},
   "source": [
    "Next, I will try implement some algorithms not specified in our autoML library which so far has only utilised XgBoost, Random Forest, Decison Tree and ensemble algorithms. I will attempt to implement other ML algorithms such as multiple linear regression and adaboost among others."
   ]
  },
  {
   "cell_type": "markdown",
   "id": "07c29198",
   "metadata": {},
   "source": [
    "There is a couple of different libraries we can use here for linear regression:\n",
    "- Sci-kit learn's linear model library\n",
    "- Statsmodel\n",
    "\n",
    "For the purpose of this I will remain consistent with the use of the sci-kit learn libraries."
   ]
  },
  {
   "cell_type": "code",
   "execution_count": 62,
   "id": "2b68d852",
   "metadata": {},
   "outputs": [],
   "source": [
    "from sklearn import linear_model"
   ]
  },
  {
   "cell_type": "markdown",
   "id": "130a989d",
   "metadata": {},
   "source": [
    "#### Let's try predict our 2021 values again using MLR"
   ]
  },
  {
   "cell_type": "code",
   "execution_count": 63,
   "id": "7d5c0fca",
   "metadata": {},
   "outputs": [
    {
     "data": {
      "text/plain": [
       "LinearRegression()"
      ]
     },
     "execution_count": 63,
     "metadata": {},
     "output_type": "execute_result"
    }
   ],
   "source": [
    "lm = linear_model.LinearRegression()\n",
    "lm.fit(x_train_21, y_train_21) # fitting the model"
   ]
  },
  {
   "cell_type": "code",
   "execution_count": 64,
   "id": "f263e379",
   "metadata": {},
   "outputs": [
    {
     "name": "stdout",
     "output_type": "stream",
     "text": [
      "MSE for MLR 2021 is: 29825207331.667313\n"
     ]
    }
   ],
   "source": [
    "y_pred_21 = lm.predict(x_test_21)\n",
    "# Calculation of Mean Squared Error (MSE)\n",
    "mse = mean_squared_error(np.exp(y_test_21), np.exp(y_pred_21))\n",
    "print('MSE for MLR 2021 is: ' + str(mse))"
   ]
  },
  {
   "cell_type": "code",
   "execution_count": 65,
   "id": "73543343",
   "metadata": {},
   "outputs": [
    {
     "name": "stdout",
     "output_type": "stream",
     "text": [
      "Accuracy of properties at +- 10% of actual prices is 0.4263959390862944\n"
     ]
    }
   ],
   "source": [
    "acc = accuracy_threshold(y_test_21, y_pred_21, 0.1)\n",
    "print('Accuracy of properties at +- 10% of actual prices is ' + str(acc))"
   ]
  },
  {
   "cell_type": "code",
   "execution_count": 66,
   "id": "01de429f",
   "metadata": {},
   "outputs": [
    {
     "name": "stdout",
     "output_type": "stream",
     "text": [
      "Accuracy of properties at +- 20% of actual prices is 0.6903553299492385\n"
     ]
    }
   ],
   "source": [
    "acc1 = accuracy_threshold(y_test_21, y_pred_21, 0.20)\n",
    "print('Accuracy of properties at +- 20% of actual prices is ' + str(acc1))"
   ]
  },
  {
   "cell_type": "code",
   "execution_count": 67,
   "id": "f1dc8944",
   "metadata": {},
   "outputs": [
    {
     "name": "stdout",
     "output_type": "stream",
     "text": [
      "Median Absolute Error:\n",
      "\n",
      "47041.71171762794\n"
     ]
    }
   ],
   "source": [
    "median_se = np.square(np.subtract(np.exp(y_test_21), np.exp(y_pred_21))).median() \n",
    " \n",
    "med = math.sqrt(median_se)\n",
    "print(\"Median Absolute Error:\\n\")\n",
    "print(med)"
   ]
  },
  {
   "cell_type": "code",
   "execution_count": 68,
   "id": "b1472e99",
   "metadata": {},
   "outputs": [
    {
     "name": "stdout",
     "output_type": "stream",
     "text": [
      "Root Mean Square Error:\n",
      "\n",
      "172699.7606589752\n"
     ]
    }
   ],
   "source": [
    "mean = np.square(np.subtract(np.exp(y_test_21), np.exp(y_pred_21))).mean() \n",
    " \n",
    "mean = math.sqrt(mean)\n",
    "print(\"Root Mean Square Error:\\n\")\n",
    "print(mean)"
   ]
  },
  {
   "cell_type": "code",
   "execution_count": 69,
   "id": "c7dd3250",
   "metadata": {},
   "outputs": [
    {
     "name": "stdout",
     "output_type": "stream",
     "text": [
      "MAPE for MLR 2021 is: 0.2059108173358727\n"
     ]
    }
   ],
   "source": [
    "mape = mean_absolute_percentage_error(np.exp(y_test_21), np.exp(y_pred_21))\n",
    "print(\"MAPE for MLR 2021 is: \" + str(mape))"
   ]
  },
  {
   "cell_type": "code",
   "execution_count": 70,
   "id": "2b29c4f2",
   "metadata": {},
   "outputs": [],
   "source": [
    "cnames=['Algorithm', 'Year', 'RMSE', 'MSE', 'MEDAE', 'Accuracy', 'MAPE']\n",
    "df9 = pd.DataFrame(columns=cnames)\n",
    "\n",
    "df9 = df9.append({'Algorithm': 'MLR',\n",
    "            'Year': 2021,\n",
    "           'RMSE': mean,\n",
    "           'MSE': mse,\n",
    "           'MEDAE': med,\n",
    "           'Accuracy': acc,\n",
    "           'MAPE': mape       \n",
    "          }, ignore_index=True)"
   ]
  },
  {
   "cell_type": "markdown",
   "id": "f971bf25",
   "metadata": {},
   "source": [
    "### 2020 predictions"
   ]
  },
  {
   "cell_type": "code",
   "execution_count": 71,
   "id": "a14bd756",
   "metadata": {},
   "outputs": [
    {
     "data": {
      "text/plain": [
       "LinearRegression()"
      ]
     },
     "execution_count": 71,
     "metadata": {},
     "output_type": "execute_result"
    }
   ],
   "source": [
    "lm = linear_model.LinearRegression()\n",
    "lm.fit(x_train_20, y_train_20) # fitting the model"
   ]
  },
  {
   "cell_type": "code",
   "execution_count": 72,
   "id": "ebe7da38",
   "metadata": {},
   "outputs": [
    {
     "name": "stdout",
     "output_type": "stream",
     "text": [
      "MSE for MLR 2020 is: 21164686021.361855\n"
     ]
    }
   ],
   "source": [
    "y_pred_20 = lm.predict(x_test_20)\n",
    "# Calculation of Mean Squared Error (MSE)\n",
    "mse = mean_squared_error(np.exp(y_test_20), np.exp(y_pred_20))\n",
    "print('MSE for MLR 2020 is: ' + str(mse))"
   ]
  },
  {
   "cell_type": "code",
   "execution_count": 73,
   "id": "94e183b3",
   "metadata": {},
   "outputs": [
    {
     "name": "stdout",
     "output_type": "stream",
     "text": [
      "Accuracy of properties at +- 10% of actual prices is 0.37161084529505584\n"
     ]
    }
   ],
   "source": [
    "acc = accuracy_threshold(y_test_20, y_pred_20, 0.1)\n",
    "print('Accuracy of properties at +- 10% of actual prices is ' + str(acc))"
   ]
  },
  {
   "cell_type": "code",
   "execution_count": 74,
   "id": "52735367",
   "metadata": {},
   "outputs": [
    {
     "name": "stdout",
     "output_type": "stream",
     "text": [
      "Accuracy of properties at +- 15% of actual prices is 0.5518341307814992\n"
     ]
    }
   ],
   "source": [
    "acc1 = accuracy_threshold(y_test_20, y_pred_20, 0.15)\n",
    "print('Accuracy of properties at +- 15% of actual prices is ' + str(acc1))"
   ]
  },
  {
   "cell_type": "code",
   "execution_count": 75,
   "id": "849311be",
   "metadata": {},
   "outputs": [
    {
     "name": "stdout",
     "output_type": "stream",
     "text": [
      "Median Absolute Error:\n",
      "\n",
      "45334.253354216984\n"
     ]
    }
   ],
   "source": [
    "median_se = np.square(np.subtract(np.exp(y_test_20), np.exp(y_pred_20))).median() \n",
    " \n",
    "med = math.sqrt(median_se)\n",
    "print(\"Median Absolute Error:\\n\")\n",
    "print(med)"
   ]
  },
  {
   "cell_type": "code",
   "execution_count": 76,
   "id": "513d7076",
   "metadata": {},
   "outputs": [
    {
     "name": "stdout",
     "output_type": "stream",
     "text": [
      "Root Mean Square Error:\n",
      "\n",
      "145480.87854203334\n"
     ]
    }
   ],
   "source": [
    "mean = np.square(np.subtract(np.exp(y_test_20), np.exp(y_pred_20))).mean() \n",
    " \n",
    "mean = math.sqrt(mean)\n",
    "print(\"Root Mean Square Error:\\n\")\n",
    "print(mean)"
   ]
  },
  {
   "cell_type": "code",
   "execution_count": 77,
   "id": "b604c388",
   "metadata": {},
   "outputs": [
    {
     "name": "stdout",
     "output_type": "stream",
     "text": [
      "MAPE for MLR 2020 is: 0.232926861170375\n"
     ]
    }
   ],
   "source": [
    "mape = mean_absolute_percentage_error(np.exp(y_test_20), np.exp(y_pred_20))\n",
    "print(\"MAPE for MLR 2020 is: \" + str(mape))"
   ]
  },
  {
   "cell_type": "code",
   "execution_count": 78,
   "id": "0133f359",
   "metadata": {},
   "outputs": [],
   "source": [
    "cnames=['Algorithm', 'Year', 'RMSE', 'MSE', 'MEDAE', 'Accuracy', 'MAPE']\n",
    "df8 = pd.DataFrame(columns=cnames)\n",
    "\n",
    "df8 = df8.append({'Algorithm': 'MLR',\n",
    "            'Year': 2020,\n",
    "           'RMSE': mean,\n",
    "           'MSE': mse,\n",
    "           'MEDAE': med,\n",
    "           'Accuracy': acc,\n",
    "           'MAPE': mape       \n",
    "          }, ignore_index=True)"
   ]
  },
  {
   "cell_type": "markdown",
   "id": "47a04928",
   "metadata": {},
   "source": [
    "### Adaboost"
   ]
  },
  {
   "cell_type": "markdown",
   "id": "5daebee4",
   "metadata": {},
   "source": [
    "#### 2021 Predictions"
   ]
  },
  {
   "cell_type": "code",
   "execution_count": 79,
   "id": "e573a23c",
   "metadata": {},
   "outputs": [],
   "source": [
    "from sklearn.ensemble import AdaBoostRegressor\n",
    "from sklearn.datasets import make_regression"
   ]
  },
  {
   "cell_type": "code",
   "execution_count": 80,
   "id": "21cfd588",
   "metadata": {},
   "outputs": [],
   "source": [
    "model = AdaBoostRegressor()"
   ]
  },
  {
   "cell_type": "code",
   "execution_count": 81,
   "id": "9abf8264",
   "metadata": {},
   "outputs": [
    {
     "data": {
      "text/plain": [
       "AdaBoostRegressor()"
      ]
     },
     "execution_count": 81,
     "metadata": {},
     "output_type": "execute_result"
    }
   ],
   "source": [
    "model.fit(x_train_21, y_train_21)"
   ]
  },
  {
   "cell_type": "code",
   "execution_count": 82,
   "id": "ecb42e2c",
   "metadata": {},
   "outputs": [
    {
     "name": "stdout",
     "output_type": "stream",
     "text": [
      "MSE for AdaBoost 2021 is: 39134898626.176506\n"
     ]
    }
   ],
   "source": [
    "y_pred_21 = model.predict(x_test_21)\n",
    "# Calculation of Mean Squared Error (MSE)\n",
    "mse = mean_squared_error(np.exp(y_test_21), np.exp(y_pred_21))\n",
    "print('MSE for AdaBoost 2021 is: ' + str(mse))"
   ]
  },
  {
   "cell_type": "code",
   "execution_count": 83,
   "id": "01b0ca20",
   "metadata": {},
   "outputs": [
    {
     "name": "stdout",
     "output_type": "stream",
     "text": [
      "Accuracy of properties at +- 10% of actual prices is 0.32656514382402707\n"
     ]
    }
   ],
   "source": [
    "acc = accuracy_threshold(y_test_21, y_pred_21, 0.1)\n",
    "print('Accuracy of properties at +- 10% of actual prices is ' + str(acc))"
   ]
  },
  {
   "cell_type": "code",
   "execution_count": 84,
   "id": "f6961e9e",
   "metadata": {},
   "outputs": [
    {
     "name": "stdout",
     "output_type": "stream",
     "text": [
      "Accuracy of properties at +- 20% of actual prices is 0.5516074450084603\n"
     ]
    }
   ],
   "source": [
    "acc1 = accuracy_threshold(y_test_21, y_pred_21, 0.20)\n",
    "print('Accuracy of properties at +- 20% of actual prices is ' + str(acc1))"
   ]
  },
  {
   "cell_type": "code",
   "execution_count": 85,
   "id": "38743392",
   "metadata": {},
   "outputs": [
    {
     "name": "stdout",
     "output_type": "stream",
     "text": [
      "Median Absolute Error:\n",
      "\n",
      "63613.45727088518\n"
     ]
    }
   ],
   "source": [
    "median_se = np.square(np.subtract(np.exp(y_test_21), np.exp(y_pred_21))).median() \n",
    " \n",
    "med = math.sqrt(median_se)\n",
    "print(\"Median Absolute Error:\\n\")\n",
    "print(med)"
   ]
  },
  {
   "cell_type": "code",
   "execution_count": 86,
   "id": "ac047411",
   "metadata": {},
   "outputs": [
    {
     "name": "stdout",
     "output_type": "stream",
     "text": [
      "Root Mean Square Error:\n",
      "\n",
      "197825.42462023548\n"
     ]
    }
   ],
   "source": [
    "mean = np.square(np.subtract(np.exp(y_test_21), np.exp(y_pred_21))).mean() \n",
    " \n",
    "mean = math.sqrt(mean)\n",
    "print(\"Root Mean Square Error:\\n\")\n",
    "print(mean)"
   ]
  },
  {
   "cell_type": "code",
   "execution_count": 87,
   "id": "95ff4f12",
   "metadata": {},
   "outputs": [
    {
     "name": "stdout",
     "output_type": "stream",
     "text": [
      "MAPE for AdaBoost 2021 is: 0.2463869031864595\n"
     ]
    }
   ],
   "source": [
    "mape = mean_absolute_percentage_error(np.exp(y_test_21), np.exp(y_pred_21))\n",
    "print(\"MAPE for AdaBoost 2021 is: \" + str(mape))"
   ]
  },
  {
   "cell_type": "code",
   "execution_count": 88,
   "id": "935683db",
   "metadata": {},
   "outputs": [],
   "source": [
    "cnames=['Algorithm', 'Year', 'RMSE', 'MSE', 'MEDAE', 'Accuracy', 'MAPE']\n",
    "df7 = pd.DataFrame(columns=cnames)\n",
    "\n",
    "df7 = df7.append({'Algorithm': 'AdaBoost',\n",
    "            'Year': 2021,\n",
    "           'RMSE': mean,\n",
    "           'MSE': mse,\n",
    "           'MEDAE': med,\n",
    "           'Accuracy': acc,\n",
    "           'MAPE': mape       \n",
    "          }, ignore_index=True)"
   ]
  },
  {
   "cell_type": "markdown",
   "id": "b8a62354",
   "metadata": {},
   "source": [
    "#### 2020 Predictions"
   ]
  },
  {
   "cell_type": "code",
   "execution_count": 89,
   "id": "91a5776a",
   "metadata": {},
   "outputs": [
    {
     "data": {
      "text/plain": [
       "AdaBoostRegressor()"
      ]
     },
     "execution_count": 89,
     "metadata": {},
     "output_type": "execute_result"
    }
   ],
   "source": [
    "model = AdaBoostRegressor()\n",
    "model.fit(x_train_20, y_train_20)"
   ]
  },
  {
   "cell_type": "code",
   "execution_count": 90,
   "id": "bcc35421",
   "metadata": {},
   "outputs": [
    {
     "name": "stdout",
     "output_type": "stream",
     "text": [
      "MSE for AdaBoost 2020 is: 15358422784.811104\n"
     ]
    }
   ],
   "source": [
    "y_pred_20 = model.predict(x_test_20)\n",
    "# Calculation of Mean Squared Error (MSE)\n",
    "mse = mean_squared_error(np.exp(y_test_20), np.exp(y_pred_20))\n",
    "print('MSE for AdaBoost 2020 is: ' + str(mse))"
   ]
  },
  {
   "cell_type": "code",
   "execution_count": 91,
   "id": "641cd557",
   "metadata": {},
   "outputs": [
    {
     "name": "stdout",
     "output_type": "stream",
     "text": [
      "Accuracy of properties at +- 10% of actual prices is 0.38596491228070173\n"
     ]
    }
   ],
   "source": [
    "acc = accuracy_threshold(y_test_20, y_pred_20, 0.1)\n",
    "print('Accuracy of properties at +- 10% of actual prices is ' + str(acc))"
   ]
  },
  {
   "cell_type": "code",
   "execution_count": 92,
   "id": "ab81180d",
   "metadata": {},
   "outputs": [
    {
     "name": "stdout",
     "output_type": "stream",
     "text": [
      "Accuracy of properties at +- 20% of actual prices is 0.6874003189792663\n"
     ]
    }
   ],
   "source": [
    "acc1 = accuracy_threshold(y_test_20, y_pred_20, 0.20)\n",
    "print('Accuracy of properties at +- 20% of actual prices is ' + str(acc1))"
   ]
  },
  {
   "cell_type": "code",
   "execution_count": 93,
   "id": "a081be20",
   "metadata": {},
   "outputs": [
    {
     "name": "stdout",
     "output_type": "stream",
     "text": [
      "Median Absolute Error:\n",
      "\n",
      "45584.375329769624\n"
     ]
    }
   ],
   "source": [
    "median_se = np.square(np.subtract(np.exp(y_test_20), np.exp(y_pred_20))).median() \n",
    " \n",
    "med = math.sqrt(median_se)\n",
    "print(\"Median Absolute Error:\\n\")\n",
    "print(med)"
   ]
  },
  {
   "cell_type": "code",
   "execution_count": 94,
   "id": "02c3cb6f",
   "metadata": {},
   "outputs": [
    {
     "name": "stdout",
     "output_type": "stream",
     "text": [
      "Root Mean Square Error:\n",
      "\n",
      "123929.10386511771\n"
     ]
    }
   ],
   "source": [
    "mean = np.square(np.subtract(np.exp(y_test_20), np.exp(y_pred_20))).mean() \n",
    " \n",
    "mean = math.sqrt(mean)\n",
    "print(\"Root Mean Square Error:\\n\")\n",
    "print(mean)"
   ]
  },
  {
   "cell_type": "code",
   "execution_count": 95,
   "id": "dc3d5e41",
   "metadata": {},
   "outputs": [
    {
     "name": "stdout",
     "output_type": "stream",
     "text": [
      "MAPE for AdaBoost 2020 is: 0.19753761157663932\n"
     ]
    }
   ],
   "source": [
    "mape = mean_absolute_percentage_error(np.exp(y_test_20), np.exp(y_pred_20))\n",
    "print(\"MAPE for AdaBoost 2020 is: \" + str(mape))"
   ]
  },
  {
   "cell_type": "code",
   "execution_count": 96,
   "id": "99ce3cf8",
   "metadata": {},
   "outputs": [],
   "source": [
    "cnames=['Algorithm', 'Year', 'RMSE', 'MSE', 'MEDAE', 'Accuracy', 'MAPE']\n",
    "df6 = pd.DataFrame(columns = cnames)\n",
    "\n",
    "df6 = df6.append({'Algorithm': 'AdaBoost',\n",
    "            'Year': 2020,\n",
    "           'RMSE': mean,\n",
    "           'MSE': mse,\n",
    "           'MEDAE': med,\n",
    "           'Accuracy': acc,\n",
    "           'MAPE': mape       \n",
    "          }, ignore_index=True)"
   ]
  },
  {
   "cell_type": "markdown",
   "id": "5d5407fb",
   "metadata": {},
   "source": [
    "## Let's now try a selection of other algorithms on our data\n",
    "### LightGBM"
   ]
  },
  {
   "cell_type": "code",
   "execution_count": 97,
   "id": "8b71082c",
   "metadata": {},
   "outputs": [],
   "source": [
    "from sklearn.datasets import make_regression\n",
    "from lightgbm import LGBMRegressor"
   ]
  },
  {
   "cell_type": "markdown",
   "id": "e0e91f3e",
   "metadata": {},
   "source": [
    "### 2020 House Price Prediction Using LightGBM"
   ]
  },
  {
   "cell_type": "code",
   "execution_count": 98,
   "id": "74d6ecf3",
   "metadata": {},
   "outputs": [
    {
     "data": {
      "text/plain": [
       "LGBMRegressor()"
      ]
     },
     "execution_count": 98,
     "metadata": {},
     "output_type": "execute_result"
    }
   ],
   "source": [
    "model = LGBMRegressor()\n",
    "model.fit(x_train_20, y_train_20)"
   ]
  },
  {
   "cell_type": "code",
   "execution_count": 99,
   "id": "bef53552",
   "metadata": {},
   "outputs": [
    {
     "name": "stdout",
     "output_type": "stream",
     "text": [
      "MSE for LightGBM 2020 is: 12665425253.73137\n"
     ]
    }
   ],
   "source": [
    "y_pred_20 = model.predict(x_test_20)\n",
    "# Calculation of Mean Squared Error (MSE)\n",
    "mse = mean_squared_error(np.exp(y_test_20), np.exp(y_pred_20))\n",
    "print('MSE for LightGBM 2020 is: ' + str(mse))"
   ]
  },
  {
   "cell_type": "code",
   "execution_count": 100,
   "id": "7df03eed",
   "metadata": {},
   "outputs": [
    {
     "name": "stdout",
     "output_type": "stream",
     "text": [
      "Accuracy of properties at +- 10% of actual prices is 0.5055821371610846\n"
     ]
    }
   ],
   "source": [
    "acc = accuracy_threshold(y_test_20, y_pred_20, 0.1)\n",
    "print('Accuracy of properties at +- 10% of actual prices is ' + str(acc))"
   ]
  },
  {
   "cell_type": "code",
   "execution_count": 101,
   "id": "931d8bdc",
   "metadata": {},
   "outputs": [
    {
     "name": "stdout",
     "output_type": "stream",
     "text": [
      "Accuracy of properties at +- 20% of actual prices is 0.773524720893142\n"
     ]
    }
   ],
   "source": [
    "acc1 = accuracy_threshold(y_test_20, y_pred_20, 0.20)\n",
    "print('Accuracy of properties at +- 20% of actual prices is ' + str(acc1))"
   ]
  },
  {
   "cell_type": "code",
   "execution_count": 102,
   "id": "88f6e6bd",
   "metadata": {},
   "outputs": [
    {
     "name": "stdout",
     "output_type": "stream",
     "text": [
      "Median Absolute Error:\n",
      "\n",
      "32830.89336950239\n"
     ]
    }
   ],
   "source": [
    "median_se = np.square(np.subtract(np.exp(y_test_20), np.exp(y_pred_20))).median() \n",
    " \n",
    "med = math.sqrt(median_se)\n",
    "print(\"Median Absolute Error:\\n\")\n",
    "print(med)"
   ]
  },
  {
   "cell_type": "code",
   "execution_count": 103,
   "id": "495a055a",
   "metadata": {},
   "outputs": [
    {
     "name": "stdout",
     "output_type": "stream",
     "text": [
      "Root Mean Square Error:\n",
      "\n",
      "112540.77151739883\n"
     ]
    }
   ],
   "source": [
    "mean = np.square(np.subtract(np.exp(y_test_20), np.exp(y_pred_20))).mean() \n",
    " \n",
    "mean = math.sqrt(mean)\n",
    "print(\"Root Mean Square Error:\\n\")\n",
    "print(mean)"
   ]
  },
  {
   "cell_type": "code",
   "execution_count": 104,
   "id": "0d02cce4",
   "metadata": {},
   "outputs": [
    {
     "name": "stdout",
     "output_type": "stream",
     "text": [
      "MAPE for LightGBM 2020 is: 0.17490487511304983\n"
     ]
    }
   ],
   "source": [
    "mape = mean_absolute_percentage_error(np.exp(y_test_20), np.exp(y_pred_20))\n",
    "print(\"MAPE for LightGBM 2020 is: \" + str(mape))"
   ]
  },
  {
   "cell_type": "code",
   "execution_count": 105,
   "id": "02a28f79",
   "metadata": {},
   "outputs": [],
   "source": [
    "cnames=['Algorithm', 'Year', 'RMSE', 'MSE', 'MEDAE', 'Accuracy', 'MAPE']\n",
    "df5 = pd.DataFrame(columns=cnames)\n",
    "\n",
    "df5 = df5.append({'Algorithm': 'LightGBM',\n",
    "            'Year': 2020,\n",
    "           'RMSE': mean,\n",
    "           'MSE': mse,\n",
    "           'MEDAE': med,\n",
    "           'Accuracy': acc,\n",
    "           'MAPE': mape       \n",
    "          }, ignore_index=True)"
   ]
  },
  {
   "cell_type": "markdown",
   "id": "2e9fa1fa",
   "metadata": {},
   "source": [
    "### 2021"
   ]
  },
  {
   "cell_type": "code",
   "execution_count": 106,
   "id": "ddcc332a",
   "metadata": {},
   "outputs": [
    {
     "data": {
      "text/plain": [
       "LGBMRegressor()"
      ]
     },
     "execution_count": 106,
     "metadata": {},
     "output_type": "execute_result"
    }
   ],
   "source": [
    "model = LGBMRegressor()\n",
    "model.fit(x_train_21, y_train_21)"
   ]
  },
  {
   "cell_type": "code",
   "execution_count": 107,
   "id": "a24e4f44",
   "metadata": {},
   "outputs": [
    {
     "name": "stdout",
     "output_type": "stream",
     "text": [
      "MSE for LightGBM 2021 is: 29250980992.536755\n"
     ]
    }
   ],
   "source": [
    "y_pred_21 = model.predict(x_test_21)\n",
    "# Calculation of Mean Squared Error (MSE)\n",
    "mse = mean_squared_error(np.exp(y_test_21), np.exp(y_pred_21))\n",
    "print('MSE for LightGBM 2021 is: ' + str(mse))"
   ]
  },
  {
   "cell_type": "code",
   "execution_count": 108,
   "id": "09de1db0",
   "metadata": {},
   "outputs": [
    {
     "name": "stdout",
     "output_type": "stream",
     "text": [
      "Accuracy of properties at +- 10% of actual prices is 0.45346869712351945\n"
     ]
    }
   ],
   "source": [
    "acc = accuracy_threshold(y_test_21, y_pred_21, 0.1)\n",
    "print('Accuracy of properties at +- 10% of actual prices is ' + str(acc))"
   ]
  },
  {
   "cell_type": "code",
   "execution_count": 109,
   "id": "22412899",
   "metadata": {},
   "outputs": [
    {
     "name": "stdout",
     "output_type": "stream",
     "text": [
      "Accuracy of properties at +- 20% of actual prices is 0.6615905245346869\n"
     ]
    }
   ],
   "source": [
    "acc1 = accuracy_threshold(y_test_21, y_pred_21, 0.20)\n",
    "print('Accuracy of properties at +- 20% of actual prices is ' + str(acc1))"
   ]
  },
  {
   "cell_type": "code",
   "execution_count": 110,
   "id": "1af063f3",
   "metadata": {},
   "outputs": [
    {
     "name": "stdout",
     "output_type": "stream",
     "text": [
      "Median Absolute Error:\n",
      "\n",
      "42635.44058533083\n"
     ]
    }
   ],
   "source": [
    "median_se = np.square(np.subtract(np.exp(y_test_21), np.exp(y_pred_21))).median() \n",
    " \n",
    "med = math.sqrt(median_se)\n",
    "print(\"Median Absolute Error:\\n\")\n",
    "print(med)"
   ]
  },
  {
   "cell_type": "code",
   "execution_count": 111,
   "id": "f6b3dde0",
   "metadata": {},
   "outputs": [
    {
     "name": "stdout",
     "output_type": "stream",
     "text": [
      "Root Mean Square Error:\n",
      "\n",
      "171029.18169872876\n"
     ]
    }
   ],
   "source": [
    "mean = np.square(np.subtract(np.exp(y_test_21), np.exp(y_pred_21))).mean() \n",
    " \n",
    "mean = math.sqrt(mean)\n",
    "print(\"Root Mean Square Error:\\n\")\n",
    "print(mean)"
   ]
  },
  {
   "cell_type": "code",
   "execution_count": 112,
   "id": "f6d92791",
   "metadata": {},
   "outputs": [
    {
     "name": "stdout",
     "output_type": "stream",
     "text": [
      "MAPE for LightGBM 2021 is: 0.2087435142988245\n"
     ]
    }
   ],
   "source": [
    "mape = mean_absolute_percentage_error(np.exp(y_test_21), np.exp(y_pred_21))\n",
    "print(\"MAPE for LightGBM 2021 is: \" + str(mape))"
   ]
  },
  {
   "cell_type": "code",
   "execution_count": 113,
   "id": "0a2ce444",
   "metadata": {},
   "outputs": [],
   "source": [
    "cnames=['Algorithm', 'Year', 'RMSE', 'MSE', 'MEDAE', 'Accuracy', 'MAPE']\n",
    "df4 = pd.DataFrame(columns=cnames)\n",
    "\n",
    "df4 = df4.append({'Algorithm': 'LightGBM',\n",
    "            'Year': 2021,\n",
    "           'RMSE': mean,\n",
    "           'MSE': mse,\n",
    "           'MEDAE': med,\n",
    "           'Accuracy': acc,\n",
    "           'MAPE': mape       \n",
    "          }, ignore_index=True)"
   ]
  },
  {
   "cell_type": "markdown",
   "id": "776bcb52",
   "metadata": {},
   "source": [
    "### CatBoost\n",
    "\n",
    "#### 2021 Prediction"
   ]
  },
  {
   "cell_type": "code",
   "execution_count": 114,
   "id": "82d9ac87",
   "metadata": {},
   "outputs": [],
   "source": [
    "from catboost import CatBoostRegressor"
   ]
  },
  {
   "cell_type": "code",
   "execution_count": 115,
   "id": "c0b33685",
   "metadata": {},
   "outputs": [
    {
     "name": "stdout",
     "output_type": "stream",
     "text": [
      "Learning rate set to 0.046461\n",
      "0:\tlearn: 0.4099369\ttotal: 184ms\tremaining: 3m 3s\n",
      "1:\tlearn: 0.3999737\ttotal: 193ms\tremaining: 1m 36s\n",
      "2:\tlearn: 0.3896078\ttotal: 199ms\tremaining: 1m 6s\n",
      "3:\tlearn: 0.3803211\ttotal: 204ms\tremaining: 50.8s\n",
      "4:\tlearn: 0.3713867\ttotal: 210ms\tremaining: 41.7s\n",
      "5:\tlearn: 0.3635104\ttotal: 215ms\tremaining: 35.6s\n",
      "6:\tlearn: 0.3554932\ttotal: 220ms\tremaining: 31.2s\n",
      "7:\tlearn: 0.3482736\ttotal: 223ms\tremaining: 27.7s\n",
      "8:\tlearn: 0.3412203\ttotal: 227ms\tremaining: 24.9s\n",
      "9:\tlearn: 0.3342177\ttotal: 230ms\tremaining: 22.7s\n",
      "10:\tlearn: 0.3282276\ttotal: 233ms\tremaining: 20.9s\n",
      "11:\tlearn: 0.3223272\ttotal: 236ms\tremaining: 19.4s\n",
      "12:\tlearn: 0.3165782\ttotal: 239ms\tremaining: 18.1s\n",
      "13:\tlearn: 0.3113449\ttotal: 242ms\tremaining: 17s\n",
      "14:\tlearn: 0.3066314\ttotal: 245ms\tremaining: 16.1s\n",
      "15:\tlearn: 0.3017377\ttotal: 248ms\tremaining: 15.2s\n",
      "16:\tlearn: 0.2971600\ttotal: 251ms\tremaining: 14.5s\n",
      "17:\tlearn: 0.2925466\ttotal: 254ms\tremaining: 13.8s\n",
      "18:\tlearn: 0.2887128\ttotal: 257ms\tremaining: 13.3s\n",
      "19:\tlearn: 0.2851068\ttotal: 260ms\tremaining: 12.8s\n",
      "20:\tlearn: 0.2815175\ttotal: 263ms\tremaining: 12.3s\n",
      "21:\tlearn: 0.2782751\ttotal: 266ms\tremaining: 11.8s\n",
      "22:\tlearn: 0.2750364\ttotal: 269ms\tremaining: 11.4s\n",
      "23:\tlearn: 0.2719508\ttotal: 272ms\tremaining: 11.1s\n",
      "24:\tlearn: 0.2690674\ttotal: 275ms\tremaining: 10.7s\n",
      "25:\tlearn: 0.2665090\ttotal: 278ms\tremaining: 10.4s\n",
      "26:\tlearn: 0.2642815\ttotal: 281ms\tremaining: 10.1s\n",
      "27:\tlearn: 0.2622530\ttotal: 284ms\tremaining: 9.85s\n",
      "28:\tlearn: 0.2599961\ttotal: 287ms\tremaining: 9.62s\n",
      "29:\tlearn: 0.2576678\ttotal: 290ms\tremaining: 9.38s\n",
      "30:\tlearn: 0.2556939\ttotal: 293ms\tremaining: 9.16s\n",
      "31:\tlearn: 0.2537602\ttotal: 296ms\tremaining: 8.95s\n",
      "32:\tlearn: 0.2521562\ttotal: 299ms\tremaining: 8.75s\n",
      "33:\tlearn: 0.2506165\ttotal: 302ms\tremaining: 8.57s\n",
      "34:\tlearn: 0.2491032\ttotal: 305ms\tremaining: 8.4s\n",
      "35:\tlearn: 0.2475462\ttotal: 308ms\tremaining: 8.24s\n",
      "36:\tlearn: 0.2460875\ttotal: 311ms\tremaining: 8.08s\n",
      "37:\tlearn: 0.2447156\ttotal: 313ms\tremaining: 7.93s\n",
      "38:\tlearn: 0.2432347\ttotal: 316ms\tremaining: 7.79s\n",
      "39:\tlearn: 0.2419091\ttotal: 319ms\tremaining: 7.66s\n",
      "40:\tlearn: 0.2407099\ttotal: 322ms\tremaining: 7.54s\n",
      "41:\tlearn: 0.2397745\ttotal: 325ms\tremaining: 7.41s\n",
      "42:\tlearn: 0.2387700\ttotal: 328ms\tremaining: 7.29s\n",
      "43:\tlearn: 0.2375753\ttotal: 331ms\tremaining: 7.18s\n",
      "44:\tlearn: 0.2367741\ttotal: 334ms\tremaining: 7.08s\n",
      "45:\tlearn: 0.2358048\ttotal: 337ms\tremaining: 6.98s\n",
      "46:\tlearn: 0.2350269\ttotal: 340ms\tremaining: 6.89s\n",
      "47:\tlearn: 0.2341967\ttotal: 342ms\tremaining: 6.79s\n",
      "48:\tlearn: 0.2334227\ttotal: 345ms\tremaining: 6.7s\n",
      "49:\tlearn: 0.2325706\ttotal: 350ms\tremaining: 6.66s\n",
      "50:\tlearn: 0.2319393\ttotal: 354ms\tremaining: 6.58s\n",
      "51:\tlearn: 0.2310049\ttotal: 357ms\tremaining: 6.51s\n",
      "52:\tlearn: 0.2304905\ttotal: 361ms\tremaining: 6.45s\n",
      "53:\tlearn: 0.2299107\ttotal: 365ms\tremaining: 6.39s\n",
      "54:\tlearn: 0.2292589\ttotal: 368ms\tremaining: 6.33s\n",
      "55:\tlearn: 0.2288394\ttotal: 372ms\tremaining: 6.27s\n",
      "56:\tlearn: 0.2282426\ttotal: 375ms\tremaining: 6.21s\n",
      "57:\tlearn: 0.2277366\ttotal: 379ms\tremaining: 6.16s\n",
      "58:\tlearn: 0.2271092\ttotal: 383ms\tremaining: 6.11s\n",
      "59:\tlearn: 0.2266675\ttotal: 386ms\tremaining: 6.05s\n",
      "60:\tlearn: 0.2262758\ttotal: 390ms\tremaining: 6s\n",
      "61:\tlearn: 0.2258405\ttotal: 393ms\tremaining: 5.95s\n",
      "62:\tlearn: 0.2254646\ttotal: 396ms\tremaining: 5.89s\n",
      "63:\tlearn: 0.2248978\ttotal: 400ms\tremaining: 5.85s\n",
      "64:\tlearn: 0.2244387\ttotal: 403ms\tremaining: 5.8s\n",
      "65:\tlearn: 0.2240469\ttotal: 407ms\tremaining: 5.76s\n",
      "66:\tlearn: 0.2236544\ttotal: 411ms\tremaining: 5.72s\n",
      "67:\tlearn: 0.2232010\ttotal: 414ms\tremaining: 5.68s\n",
      "68:\tlearn: 0.2227992\ttotal: 418ms\tremaining: 5.64s\n",
      "69:\tlearn: 0.2224145\ttotal: 421ms\tremaining: 5.6s\n",
      "70:\tlearn: 0.2216765\ttotal: 428ms\tremaining: 5.6s\n",
      "71:\tlearn: 0.2212655\ttotal: 436ms\tremaining: 5.62s\n",
      "72:\tlearn: 0.2206629\ttotal: 441ms\tremaining: 5.6s\n",
      "73:\tlearn: 0.2202301\ttotal: 444ms\tremaining: 5.55s\n",
      "74:\tlearn: 0.2200106\ttotal: 447ms\tremaining: 5.51s\n",
      "75:\tlearn: 0.2194683\ttotal: 450ms\tremaining: 5.47s\n",
      "76:\tlearn: 0.2191480\ttotal: 453ms\tremaining: 5.42s\n",
      "77:\tlearn: 0.2186657\ttotal: 456ms\tremaining: 5.39s\n",
      "78:\tlearn: 0.2182234\ttotal: 459ms\tremaining: 5.35s\n",
      "79:\tlearn: 0.2177170\ttotal: 462ms\tremaining: 5.31s\n",
      "80:\tlearn: 0.2174283\ttotal: 465ms\tremaining: 5.27s\n",
      "81:\tlearn: 0.2169264\ttotal: 467ms\tremaining: 5.23s\n",
      "82:\tlearn: 0.2164451\ttotal: 471ms\tremaining: 5.2s\n",
      "83:\tlearn: 0.2161651\ttotal: 474ms\tremaining: 5.16s\n",
      "84:\tlearn: 0.2156221\ttotal: 477ms\tremaining: 5.13s\n",
      "85:\tlearn: 0.2153487\ttotal: 480ms\tremaining: 5.1s\n",
      "86:\tlearn: 0.2151328\ttotal: 483ms\tremaining: 5.06s\n",
      "87:\tlearn: 0.2147577\ttotal: 486ms\tremaining: 5.03s\n",
      "88:\tlearn: 0.2145777\ttotal: 489ms\tremaining: 5s\n",
      "89:\tlearn: 0.2144427\ttotal: 492ms\tremaining: 4.97s\n",
      "90:\tlearn: 0.2139766\ttotal: 494ms\tremaining: 4.94s\n",
      "91:\tlearn: 0.2137347\ttotal: 497ms\tremaining: 4.91s\n",
      "92:\tlearn: 0.2134242\ttotal: 500ms\tremaining: 4.88s\n",
      "93:\tlearn: 0.2130096\ttotal: 503ms\tremaining: 4.85s\n",
      "94:\tlearn: 0.2128108\ttotal: 506ms\tremaining: 4.82s\n",
      "95:\tlearn: 0.2125604\ttotal: 509ms\tremaining: 4.79s\n",
      "96:\tlearn: 0.2121993\ttotal: 512ms\tremaining: 4.76s\n",
      "97:\tlearn: 0.2118277\ttotal: 514ms\tremaining: 4.73s\n",
      "98:\tlearn: 0.2116112\ttotal: 519ms\tremaining: 4.72s\n",
      "99:\tlearn: 0.2112854\ttotal: 523ms\tremaining: 4.7s\n",
      "100:\tlearn: 0.2111286\ttotal: 526ms\tremaining: 4.68s\n",
      "101:\tlearn: 0.2108661\ttotal: 529ms\tremaining: 4.66s\n",
      "102:\tlearn: 0.2104055\ttotal: 533ms\tremaining: 4.64s\n",
      "103:\tlearn: 0.2102048\ttotal: 537ms\tremaining: 4.62s\n",
      "104:\tlearn: 0.2099629\ttotal: 540ms\tremaining: 4.6s\n",
      "105:\tlearn: 0.2096713\ttotal: 543ms\tremaining: 4.58s\n",
      "106:\tlearn: 0.2093302\ttotal: 547ms\tremaining: 4.57s\n",
      "107:\tlearn: 0.2090081\ttotal: 551ms\tremaining: 4.55s\n",
      "108:\tlearn: 0.2087755\ttotal: 555ms\tremaining: 4.53s\n",
      "109:\tlearn: 0.2083897\ttotal: 558ms\tremaining: 4.51s\n",
      "110:\tlearn: 0.2080269\ttotal: 562ms\tremaining: 4.5s\n",
      "111:\tlearn: 0.2078351\ttotal: 566ms\tremaining: 4.49s\n",
      "112:\tlearn: 0.2076352\ttotal: 569ms\tremaining: 4.47s\n",
      "113:\tlearn: 0.2075724\ttotal: 571ms\tremaining: 4.44s\n",
      "114:\tlearn: 0.2074269\ttotal: 574ms\tremaining: 4.42s\n",
      "115:\tlearn: 0.2072784\ttotal: 578ms\tremaining: 4.41s\n",
      "116:\tlearn: 0.2070137\ttotal: 582ms\tremaining: 4.39s\n",
      "117:\tlearn: 0.2067161\ttotal: 586ms\tremaining: 4.38s\n",
      "118:\tlearn: 0.2066116\ttotal: 590ms\tremaining: 4.37s\n",
      "119:\tlearn: 0.2063978\ttotal: 595ms\tremaining: 4.36s\n",
      "120:\tlearn: 0.2061611\ttotal: 604ms\tremaining: 4.39s\n",
      "121:\tlearn: 0.2060044\ttotal: 614ms\tremaining: 4.42s\n",
      "122:\tlearn: 0.2057297\ttotal: 621ms\tremaining: 4.42s\n",
      "123:\tlearn: 0.2054236\ttotal: 628ms\tremaining: 4.44s\n",
      "124:\tlearn: 0.2050172\ttotal: 641ms\tremaining: 4.49s\n",
      "125:\tlearn: 0.2048381\ttotal: 647ms\tremaining: 4.49s\n",
      "126:\tlearn: 0.2046644\ttotal: 653ms\tremaining: 4.49s\n",
      "127:\tlearn: 0.2043234\ttotal: 658ms\tremaining: 4.48s\n",
      "128:\tlearn: 0.2040415\ttotal: 669ms\tremaining: 4.51s\n",
      "129:\tlearn: 0.2038486\ttotal: 674ms\tremaining: 4.51s\n",
      "130:\tlearn: 0.2036269\ttotal: 677ms\tremaining: 4.49s\n",
      "131:\tlearn: 0.2034498\ttotal: 680ms\tremaining: 4.47s\n",
      "132:\tlearn: 0.2030943\ttotal: 683ms\tremaining: 4.45s\n",
      "133:\tlearn: 0.2028237\ttotal: 686ms\tremaining: 4.43s\n",
      "134:\tlearn: 0.2026247\ttotal: 689ms\tremaining: 4.41s\n",
      "135:\tlearn: 0.2024204\ttotal: 694ms\tremaining: 4.41s\n",
      "136:\tlearn: 0.2020514\ttotal: 697ms\tremaining: 4.39s\n",
      "137:\tlearn: 0.2017334\ttotal: 701ms\tremaining: 4.38s\n",
      "138:\tlearn: 0.2015209\ttotal: 705ms\tremaining: 4.36s\n",
      "139:\tlearn: 0.2014031\ttotal: 708ms\tremaining: 4.35s\n",
      "140:\tlearn: 0.2011855\ttotal: 711ms\tremaining: 4.33s\n",
      "141:\tlearn: 0.2007856\ttotal: 715ms\tremaining: 4.32s\n",
      "142:\tlearn: 0.2007216\ttotal: 719ms\tremaining: 4.31s\n",
      "143:\tlearn: 0.2005862\ttotal: 722ms\tremaining: 4.29s\n",
      "144:\tlearn: 0.2003027\ttotal: 726ms\tremaining: 4.28s\n",
      "145:\tlearn: 0.2000391\ttotal: 730ms\tremaining: 4.27s\n",
      "146:\tlearn: 0.1996571\ttotal: 734ms\tremaining: 4.26s\n",
      "147:\tlearn: 0.1993986\ttotal: 737ms\tremaining: 4.24s\n",
      "148:\tlearn: 0.1991430\ttotal: 740ms\tremaining: 4.23s\n",
      "149:\tlearn: 0.1989969\ttotal: 744ms\tremaining: 4.21s\n",
      "150:\tlearn: 0.1986890\ttotal: 748ms\tremaining: 4.21s\n",
      "151:\tlearn: 0.1984513\ttotal: 751ms\tremaining: 4.19s\n",
      "152:\tlearn: 0.1981867\ttotal: 755ms\tremaining: 4.18s\n",
      "153:\tlearn: 0.1978318\ttotal: 758ms\tremaining: 4.17s\n",
      "154:\tlearn: 0.1975953\ttotal: 762ms\tremaining: 4.15s\n",
      "155:\tlearn: 0.1974418\ttotal: 766ms\tremaining: 4.14s\n",
      "156:\tlearn: 0.1972073\ttotal: 769ms\tremaining: 4.13s\n",
      "157:\tlearn: 0.1968784\ttotal: 772ms\tremaining: 4.12s\n",
      "158:\tlearn: 0.1967020\ttotal: 783ms\tremaining: 4.14s\n",
      "159:\tlearn: 0.1964273\ttotal: 786ms\tremaining: 4.13s\n",
      "160:\tlearn: 0.1962655\ttotal: 790ms\tremaining: 4.12s\n",
      "161:\tlearn: 0.1959797\ttotal: 795ms\tremaining: 4.11s\n",
      "162:\tlearn: 0.1958199\ttotal: 798ms\tremaining: 4.1s\n",
      "163:\tlearn: 0.1955727\ttotal: 802ms\tremaining: 4.08s\n",
      "164:\tlearn: 0.1954240\ttotal: 805ms\tremaining: 4.08s\n",
      "165:\tlearn: 0.1952617\ttotal: 810ms\tremaining: 4.07s\n",
      "166:\tlearn: 0.1951520\ttotal: 813ms\tremaining: 4.05s\n",
      "167:\tlearn: 0.1950170\ttotal: 817ms\tremaining: 4.04s\n",
      "168:\tlearn: 0.1947894\ttotal: 820ms\tremaining: 4.03s\n",
      "169:\tlearn: 0.1946353\ttotal: 824ms\tremaining: 4.02s\n",
      "170:\tlearn: 0.1944740\ttotal: 828ms\tremaining: 4.01s\n",
      "171:\tlearn: 0.1942541\ttotal: 831ms\tremaining: 4s\n",
      "172:\tlearn: 0.1940806\ttotal: 834ms\tremaining: 3.99s\n",
      "173:\tlearn: 0.1939720\ttotal: 838ms\tremaining: 3.98s\n",
      "174:\tlearn: 0.1937966\ttotal: 842ms\tremaining: 3.97s\n",
      "175:\tlearn: 0.1935757\ttotal: 845ms\tremaining: 3.96s\n",
      "176:\tlearn: 0.1932845\ttotal: 848ms\tremaining: 3.94s\n",
      "177:\tlearn: 0.1930108\ttotal: 852ms\tremaining: 3.93s\n",
      "178:\tlearn: 0.1928977\ttotal: 856ms\tremaining: 3.92s\n",
      "179:\tlearn: 0.1927571\ttotal: 859ms\tremaining: 3.91s\n",
      "180:\tlearn: 0.1925655\ttotal: 863ms\tremaining: 3.9s\n"
     ]
    },
    {
     "name": "stdout",
     "output_type": "stream",
     "text": [
      "181:\tlearn: 0.1924468\ttotal: 867ms\tremaining: 3.9s\n",
      "182:\tlearn: 0.1922002\ttotal: 871ms\tremaining: 3.89s\n",
      "183:\tlearn: 0.1920205\ttotal: 884ms\tremaining: 3.92s\n",
      "184:\tlearn: 0.1917496\ttotal: 889ms\tremaining: 3.92s\n",
      "185:\tlearn: 0.1915639\ttotal: 896ms\tremaining: 3.92s\n",
      "186:\tlearn: 0.1914184\ttotal: 901ms\tremaining: 3.92s\n",
      "187:\tlearn: 0.1913587\ttotal: 906ms\tremaining: 3.91s\n",
      "188:\tlearn: 0.1912430\ttotal: 910ms\tremaining: 3.9s\n",
      "189:\tlearn: 0.1911375\ttotal: 915ms\tremaining: 3.9s\n",
      "190:\tlearn: 0.1909599\ttotal: 919ms\tremaining: 3.89s\n",
      "191:\tlearn: 0.1907780\ttotal: 923ms\tremaining: 3.88s\n",
      "192:\tlearn: 0.1906663\ttotal: 931ms\tremaining: 3.89s\n",
      "193:\tlearn: 0.1905419\ttotal: 936ms\tremaining: 3.89s\n",
      "194:\tlearn: 0.1903437\ttotal: 939ms\tremaining: 3.88s\n",
      "195:\tlearn: 0.1902295\ttotal: 943ms\tremaining: 3.87s\n",
      "196:\tlearn: 0.1900656\ttotal: 949ms\tremaining: 3.87s\n",
      "197:\tlearn: 0.1899259\ttotal: 952ms\tremaining: 3.86s\n",
      "198:\tlearn: 0.1897619\ttotal: 956ms\tremaining: 3.85s\n",
      "199:\tlearn: 0.1896938\ttotal: 960ms\tremaining: 3.84s\n",
      "200:\tlearn: 0.1893875\ttotal: 964ms\tremaining: 3.83s\n",
      "201:\tlearn: 0.1892466\ttotal: 968ms\tremaining: 3.82s\n",
      "202:\tlearn: 0.1890086\ttotal: 971ms\tremaining: 3.81s\n",
      "203:\tlearn: 0.1888429\ttotal: 975ms\tremaining: 3.8s\n",
      "204:\tlearn: 0.1885779\ttotal: 979ms\tremaining: 3.8s\n",
      "205:\tlearn: 0.1882924\ttotal: 982ms\tremaining: 3.79s\n",
      "206:\tlearn: 0.1880812\ttotal: 986ms\tremaining: 3.78s\n",
      "207:\tlearn: 0.1877849\ttotal: 989ms\tremaining: 3.77s\n",
      "208:\tlearn: 0.1876481\ttotal: 992ms\tremaining: 3.75s\n",
      "209:\tlearn: 0.1875183\ttotal: 995ms\tremaining: 3.74s\n",
      "210:\tlearn: 0.1872782\ttotal: 998ms\tremaining: 3.73s\n",
      "211:\tlearn: 0.1871358\ttotal: 1s\tremaining: 3.72s\n",
      "212:\tlearn: 0.1869075\ttotal: 1s\tremaining: 3.71s\n",
      "213:\tlearn: 0.1865955\ttotal: 1.01s\tremaining: 3.7s\n",
      "214:\tlearn: 0.1864728\ttotal: 1.01s\tremaining: 3.69s\n",
      "215:\tlearn: 0.1863658\ttotal: 1.01s\tremaining: 3.67s\n",
      "216:\tlearn: 0.1862645\ttotal: 1.01s\tremaining: 3.66s\n",
      "217:\tlearn: 0.1861060\ttotal: 1.02s\tremaining: 3.65s\n",
      "218:\tlearn: 0.1859737\ttotal: 1.02s\tremaining: 3.64s\n",
      "219:\tlearn: 0.1858278\ttotal: 1.02s\tremaining: 3.63s\n",
      "220:\tlearn: 0.1856752\ttotal: 1.03s\tremaining: 3.62s\n",
      "221:\tlearn: 0.1854769\ttotal: 1.03s\tremaining: 3.61s\n",
      "222:\tlearn: 0.1853754\ttotal: 1.03s\tremaining: 3.6s\n",
      "223:\tlearn: 0.1852381\ttotal: 1.04s\tremaining: 3.6s\n",
      "224:\tlearn: 0.1850546\ttotal: 1.04s\tremaining: 3.59s\n",
      "225:\tlearn: 0.1846887\ttotal: 1.04s\tremaining: 3.58s\n",
      "226:\tlearn: 0.1845468\ttotal: 1.05s\tremaining: 3.57s\n",
      "227:\tlearn: 0.1843991\ttotal: 1.05s\tremaining: 3.56s\n",
      "228:\tlearn: 0.1842635\ttotal: 1.05s\tremaining: 3.56s\n",
      "229:\tlearn: 0.1840901\ttotal: 1.06s\tremaining: 3.54s\n",
      "230:\tlearn: 0.1839747\ttotal: 1.06s\tremaining: 3.54s\n",
      "231:\tlearn: 0.1838158\ttotal: 1.07s\tremaining: 3.53s\n",
      "232:\tlearn: 0.1837404\ttotal: 1.07s\tremaining: 3.53s\n",
      "233:\tlearn: 0.1834514\ttotal: 1.07s\tremaining: 3.52s\n",
      "234:\tlearn: 0.1833414\ttotal: 1.08s\tremaining: 3.51s\n",
      "235:\tlearn: 0.1831571\ttotal: 1.08s\tremaining: 3.5s\n",
      "236:\tlearn: 0.1830186\ttotal: 1.08s\tremaining: 3.49s\n",
      "237:\tlearn: 0.1827492\ttotal: 1.09s\tremaining: 3.48s\n",
      "238:\tlearn: 0.1825299\ttotal: 1.09s\tremaining: 3.47s\n",
      "239:\tlearn: 0.1823511\ttotal: 1.09s\tremaining: 3.46s\n",
      "240:\tlearn: 0.1820989\ttotal: 1.1s\tremaining: 3.45s\n",
      "241:\tlearn: 0.1818188\ttotal: 1.1s\tremaining: 3.44s\n",
      "242:\tlearn: 0.1817503\ttotal: 1.1s\tremaining: 3.44s\n",
      "243:\tlearn: 0.1816372\ttotal: 1.1s\tremaining: 3.42s\n",
      "244:\tlearn: 0.1815503\ttotal: 1.11s\tremaining: 3.41s\n",
      "245:\tlearn: 0.1814568\ttotal: 1.11s\tremaining: 3.4s\n",
      "246:\tlearn: 0.1811917\ttotal: 1.11s\tremaining: 3.4s\n",
      "247:\tlearn: 0.1810835\ttotal: 1.12s\tremaining: 3.38s\n",
      "248:\tlearn: 0.1810098\ttotal: 1.12s\tremaining: 3.38s\n",
      "249:\tlearn: 0.1808007\ttotal: 1.12s\tremaining: 3.37s\n",
      "250:\tlearn: 0.1806713\ttotal: 1.12s\tremaining: 3.36s\n",
      "251:\tlearn: 0.1805098\ttotal: 1.13s\tremaining: 3.35s\n",
      "252:\tlearn: 0.1803186\ttotal: 1.13s\tremaining: 3.34s\n",
      "253:\tlearn: 0.1801794\ttotal: 1.13s\tremaining: 3.33s\n",
      "254:\tlearn: 0.1800390\ttotal: 1.14s\tremaining: 3.32s\n",
      "255:\tlearn: 0.1799021\ttotal: 1.14s\tremaining: 3.31s\n",
      "256:\tlearn: 0.1797686\ttotal: 1.14s\tremaining: 3.3s\n",
      "257:\tlearn: 0.1796384\ttotal: 1.14s\tremaining: 3.29s\n",
      "258:\tlearn: 0.1795114\ttotal: 1.15s\tremaining: 3.28s\n",
      "259:\tlearn: 0.1793848\ttotal: 1.15s\tremaining: 3.27s\n",
      "260:\tlearn: 0.1792613\ttotal: 1.15s\tremaining: 3.26s\n",
      "261:\tlearn: 0.1791435\ttotal: 1.16s\tremaining: 3.25s\n",
      "262:\tlearn: 0.1790581\ttotal: 1.16s\tremaining: 3.25s\n",
      "263:\tlearn: 0.1788685\ttotal: 1.16s\tremaining: 3.24s\n",
      "264:\tlearn: 0.1787532\ttotal: 1.16s\tremaining: 3.23s\n",
      "265:\tlearn: 0.1786447\ttotal: 1.17s\tremaining: 3.22s\n",
      "266:\tlearn: 0.1784812\ttotal: 1.17s\tremaining: 3.21s\n",
      "267:\tlearn: 0.1783728\ttotal: 1.17s\tremaining: 3.2s\n",
      "268:\tlearn: 0.1782706\ttotal: 1.18s\tremaining: 3.19s\n",
      "269:\tlearn: 0.1781127\ttotal: 1.18s\tremaining: 3.19s\n",
      "270:\tlearn: 0.1778798\ttotal: 1.18s\tremaining: 3.18s\n",
      "271:\tlearn: 0.1777755\ttotal: 1.18s\tremaining: 3.17s\n",
      "272:\tlearn: 0.1776220\ttotal: 1.19s\tremaining: 3.16s\n",
      "273:\tlearn: 0.1774891\ttotal: 1.19s\tremaining: 3.15s\n",
      "274:\tlearn: 0.1773873\ttotal: 1.19s\tremaining: 3.15s\n",
      "275:\tlearn: 0.1772879\ttotal: 1.2s\tremaining: 3.14s\n",
      "276:\tlearn: 0.1771909\ttotal: 1.2s\tremaining: 3.13s\n",
      "277:\tlearn: 0.1770963\ttotal: 1.2s\tremaining: 3.12s\n",
      "278:\tlearn: 0.1768359\ttotal: 1.2s\tremaining: 3.11s\n",
      "279:\tlearn: 0.1767435\ttotal: 1.21s\tremaining: 3.11s\n",
      "280:\tlearn: 0.1766533\ttotal: 1.21s\tremaining: 3.1s\n",
      "281:\tlearn: 0.1765652\ttotal: 1.22s\tremaining: 3.09s\n",
      "282:\tlearn: 0.1765007\ttotal: 1.22s\tremaining: 3.09s\n",
      "283:\tlearn: 0.1764162\ttotal: 1.22s\tremaining: 3.08s\n",
      "284:\tlearn: 0.1763317\ttotal: 1.23s\tremaining: 3.08s\n",
      "285:\tlearn: 0.1762513\ttotal: 1.23s\tremaining: 3.07s\n",
      "286:\tlearn: 0.1761728\ttotal: 1.23s\tremaining: 3.06s\n",
      "287:\tlearn: 0.1759413\ttotal: 1.24s\tremaining: 3.06s\n",
      "288:\tlearn: 0.1758649\ttotal: 1.24s\tremaining: 3.05s\n",
      "289:\tlearn: 0.1757903\ttotal: 1.24s\tremaining: 3.05s\n",
      "290:\tlearn: 0.1757175\ttotal: 1.25s\tremaining: 3.04s\n",
      "291:\tlearn: 0.1756543\ttotal: 1.25s\tremaining: 3.03s\n",
      "292:\tlearn: 0.1755844\ttotal: 1.25s\tremaining: 3.02s\n",
      "293:\tlearn: 0.1755162\ttotal: 1.26s\tremaining: 3.02s\n",
      "294:\tlearn: 0.1754497\ttotal: 1.26s\tremaining: 3.01s\n",
      "295:\tlearn: 0.1753916\ttotal: 1.26s\tremaining: 3s\n",
      "296:\tlearn: 0.1753139\ttotal: 1.26s\tremaining: 3s\n",
      "297:\tlearn: 0.1752585\ttotal: 1.27s\tremaining: 2.99s\n",
      "298:\tlearn: 0.1751971\ttotal: 1.27s\tremaining: 2.98s\n",
      "299:\tlearn: 0.1750301\ttotal: 1.27s\tremaining: 2.97s\n",
      "300:\tlearn: 0.1749772\ttotal: 1.28s\tremaining: 2.96s\n",
      "301:\tlearn: 0.1749258\ttotal: 1.28s\tremaining: 2.96s\n",
      "302:\tlearn: 0.1747811\ttotal: 1.28s\tremaining: 2.95s\n",
      "303:\tlearn: 0.1747116\ttotal: 1.28s\tremaining: 2.94s\n",
      "304:\tlearn: 0.1746292\ttotal: 1.29s\tremaining: 2.93s\n",
      "305:\tlearn: 0.1745316\ttotal: 1.29s\tremaining: 2.93s\n",
      "306:\tlearn: 0.1744126\ttotal: 1.29s\tremaining: 2.92s\n",
      "307:\tlearn: 0.1743560\ttotal: 1.3s\tremaining: 2.91s\n",
      "308:\tlearn: 0.1743007\ttotal: 1.3s\tremaining: 2.9s\n",
      "309:\tlearn: 0.1741352\ttotal: 1.3s\tremaining: 2.9s\n",
      "310:\tlearn: 0.1740813\ttotal: 1.3s\tremaining: 2.89s\n",
      "311:\tlearn: 0.1738665\ttotal: 1.31s\tremaining: 2.88s\n",
      "312:\tlearn: 0.1738137\ttotal: 1.31s\tremaining: 2.88s\n",
      "313:\tlearn: 0.1736702\ttotal: 1.31s\tremaining: 2.87s\n",
      "314:\tlearn: 0.1736247\ttotal: 1.32s\tremaining: 2.86s\n",
      "315:\tlearn: 0.1735558\ttotal: 1.32s\tremaining: 2.86s\n",
      "316:\tlearn: 0.1735177\ttotal: 1.32s\tremaining: 2.85s\n",
      "317:\tlearn: 0.1733208\ttotal: 1.32s\tremaining: 2.84s\n",
      "318:\tlearn: 0.1732457\ttotal: 1.33s\tremaining: 2.84s\n",
      "319:\tlearn: 0.1731956\ttotal: 1.33s\tremaining: 2.83s\n",
      "320:\tlearn: 0.1731466\ttotal: 1.33s\tremaining: 2.82s\n",
      "321:\tlearn: 0.1731047\ttotal: 1.34s\tremaining: 2.81s\n",
      "322:\tlearn: 0.1728854\ttotal: 1.34s\tremaining: 2.81s\n",
      "323:\tlearn: 0.1727948\ttotal: 1.35s\tremaining: 2.81s\n",
      "324:\tlearn: 0.1726589\ttotal: 1.35s\tremaining: 2.81s\n",
      "325:\tlearn: 0.1724000\ttotal: 1.36s\tremaining: 2.81s\n",
      "326:\tlearn: 0.1721888\ttotal: 1.36s\tremaining: 2.81s\n",
      "327:\tlearn: 0.1721421\ttotal: 1.37s\tremaining: 2.81s\n",
      "328:\tlearn: 0.1721018\ttotal: 1.38s\tremaining: 2.82s\n",
      "329:\tlearn: 0.1720516\ttotal: 1.39s\tremaining: 2.83s\n",
      "330:\tlearn: 0.1719055\ttotal: 1.41s\tremaining: 2.84s\n",
      "331:\tlearn: 0.1717164\ttotal: 1.41s\tremaining: 2.84s\n",
      "332:\tlearn: 0.1716808\ttotal: 1.42s\tremaining: 2.85s\n",
      "333:\tlearn: 0.1715235\ttotal: 1.43s\tremaining: 2.85s\n",
      "334:\tlearn: 0.1714800\ttotal: 1.44s\tremaining: 2.86s\n",
      "335:\tlearn: 0.1713699\ttotal: 1.45s\tremaining: 2.87s\n",
      "336:\tlearn: 0.1712071\ttotal: 1.46s\tremaining: 2.87s\n",
      "337:\tlearn: 0.1710856\ttotal: 1.47s\tremaining: 2.87s\n",
      "338:\tlearn: 0.1708663\ttotal: 1.47s\tremaining: 2.87s\n",
      "339:\tlearn: 0.1706554\ttotal: 1.48s\tremaining: 2.87s\n",
      "340:\tlearn: 0.1704514\ttotal: 1.49s\tremaining: 2.88s\n",
      "341:\tlearn: 0.1703032\ttotal: 1.5s\tremaining: 2.88s\n",
      "342:\tlearn: 0.1702728\ttotal: 1.5s\tremaining: 2.88s\n",
      "343:\tlearn: 0.1701558\ttotal: 1.51s\tremaining: 2.87s\n",
      "344:\tlearn: 0.1701133\ttotal: 1.51s\tremaining: 2.88s\n",
      "345:\tlearn: 0.1700211\ttotal: 1.52s\tremaining: 2.88s\n",
      "346:\tlearn: 0.1699874\ttotal: 1.53s\tremaining: 2.88s\n",
      "347:\tlearn: 0.1698594\ttotal: 1.54s\tremaining: 2.88s\n",
      "348:\tlearn: 0.1698265\ttotal: 1.54s\tremaining: 2.88s\n",
      "349:\tlearn: 0.1697588\ttotal: 1.55s\tremaining: 2.88s\n",
      "350:\tlearn: 0.1697194\ttotal: 1.56s\tremaining: 2.88s\n",
      "351:\tlearn: 0.1696927\ttotal: 1.56s\tremaining: 2.88s\n"
     ]
    },
    {
     "name": "stdout",
     "output_type": "stream",
     "text": [
      "352:\tlearn: 0.1695443\ttotal: 1.57s\tremaining: 2.88s\n",
      "353:\tlearn: 0.1693418\ttotal: 1.58s\tremaining: 2.89s\n",
      "354:\tlearn: 0.1691450\ttotal: 1.59s\tremaining: 2.89s\n",
      "355:\tlearn: 0.1690317\ttotal: 1.6s\tremaining: 2.89s\n",
      "356:\tlearn: 0.1689940\ttotal: 1.61s\tremaining: 2.9s\n",
      "357:\tlearn: 0.1689687\ttotal: 1.61s\tremaining: 2.9s\n",
      "358:\tlearn: 0.1688558\ttotal: 1.62s\tremaining: 2.9s\n",
      "359:\tlearn: 0.1686011\ttotal: 1.63s\tremaining: 2.89s\n",
      "360:\tlearn: 0.1684738\ttotal: 1.64s\tremaining: 2.9s\n",
      "361:\tlearn: 0.1684473\ttotal: 1.64s\tremaining: 2.89s\n",
      "362:\tlearn: 0.1682602\ttotal: 1.65s\tremaining: 2.9s\n",
      "363:\tlearn: 0.1680732\ttotal: 1.66s\tremaining: 2.9s\n",
      "364:\tlearn: 0.1678868\ttotal: 1.67s\tremaining: 2.9s\n",
      "365:\tlearn: 0.1676685\ttotal: 1.68s\tremaining: 2.9s\n",
      "366:\tlearn: 0.1676402\ttotal: 1.68s\tremaining: 2.9s\n",
      "367:\tlearn: 0.1675899\ttotal: 1.69s\tremaining: 2.9s\n",
      "368:\tlearn: 0.1674158\ttotal: 1.7s\tremaining: 2.9s\n",
      "369:\tlearn: 0.1673206\ttotal: 1.7s\tremaining: 2.9s\n",
      "370:\tlearn: 0.1672718\ttotal: 1.71s\tremaining: 2.9s\n",
      "371:\tlearn: 0.1671428\ttotal: 1.72s\tremaining: 2.9s\n",
      "372:\tlearn: 0.1669458\ttotal: 1.73s\tremaining: 2.9s\n",
      "373:\tlearn: 0.1668417\ttotal: 1.73s\tremaining: 2.9s\n",
      "374:\tlearn: 0.1666047\ttotal: 1.74s\tremaining: 2.9s\n",
      "375:\tlearn: 0.1664746\ttotal: 1.75s\tremaining: 2.9s\n",
      "376:\tlearn: 0.1664392\ttotal: 1.76s\tremaining: 2.9s\n",
      "377:\tlearn: 0.1663251\ttotal: 1.77s\tremaining: 2.91s\n",
      "378:\tlearn: 0.1662039\ttotal: 1.78s\tremaining: 2.91s\n",
      "379:\tlearn: 0.1661180\ttotal: 1.79s\tremaining: 2.92s\n",
      "380:\tlearn: 0.1660689\ttotal: 1.79s\tremaining: 2.92s\n",
      "381:\tlearn: 0.1659215\ttotal: 1.8s\tremaining: 2.92s\n",
      "382:\tlearn: 0.1658337\ttotal: 1.81s\tremaining: 2.92s\n",
      "383:\tlearn: 0.1656984\ttotal: 1.82s\tremaining: 2.92s\n",
      "384:\tlearn: 0.1655791\ttotal: 1.83s\tremaining: 2.92s\n",
      "385:\tlearn: 0.1654628\ttotal: 1.83s\tremaining: 2.92s\n",
      "386:\tlearn: 0.1654400\ttotal: 1.84s\tremaining: 2.91s\n",
      "387:\tlearn: 0.1651538\ttotal: 1.84s\tremaining: 2.9s\n",
      "388:\tlearn: 0.1650421\ttotal: 1.84s\tremaining: 2.9s\n",
      "389:\tlearn: 0.1650138\ttotal: 1.85s\tremaining: 2.89s\n",
      "390:\tlearn: 0.1649724\ttotal: 1.85s\tremaining: 2.88s\n",
      "391:\tlearn: 0.1648144\ttotal: 1.85s\tremaining: 2.88s\n",
      "392:\tlearn: 0.1647052\ttotal: 1.86s\tremaining: 2.87s\n",
      "393:\tlearn: 0.1644687\ttotal: 1.86s\tremaining: 2.87s\n",
      "394:\tlearn: 0.1643018\ttotal: 1.87s\tremaining: 2.86s\n",
      "395:\tlearn: 0.1642705\ttotal: 1.87s\tremaining: 2.85s\n",
      "396:\tlearn: 0.1640945\ttotal: 1.87s\tremaining: 2.85s\n",
      "397:\tlearn: 0.1638713\ttotal: 1.88s\tremaining: 2.84s\n",
      "398:\tlearn: 0.1637461\ttotal: 1.88s\tremaining: 2.83s\n",
      "399:\tlearn: 0.1637174\ttotal: 1.89s\tremaining: 2.83s\n",
      "400:\tlearn: 0.1636725\ttotal: 1.89s\tremaining: 2.82s\n",
      "401:\tlearn: 0.1634599\ttotal: 1.89s\tremaining: 2.82s\n",
      "402:\tlearn: 0.1633445\ttotal: 1.9s\tremaining: 2.81s\n",
      "403:\tlearn: 0.1631877\ttotal: 1.9s\tremaining: 2.8s\n",
      "404:\tlearn: 0.1630367\ttotal: 1.9s\tremaining: 2.8s\n",
      "405:\tlearn: 0.1629401\ttotal: 1.91s\tremaining: 2.79s\n",
      "406:\tlearn: 0.1628172\ttotal: 1.91s\tremaining: 2.79s\n",
      "407:\tlearn: 0.1626425\ttotal: 1.92s\tremaining: 2.78s\n",
      "408:\tlearn: 0.1625409\ttotal: 1.92s\tremaining: 2.77s\n",
      "409:\tlearn: 0.1623532\ttotal: 1.92s\tremaining: 2.77s\n",
      "410:\tlearn: 0.1623258\ttotal: 1.93s\tremaining: 2.76s\n",
      "411:\tlearn: 0.1622484\ttotal: 1.93s\tremaining: 2.75s\n",
      "412:\tlearn: 0.1621932\ttotal: 1.93s\tremaining: 2.75s\n",
      "413:\tlearn: 0.1620716\ttotal: 1.94s\tremaining: 2.74s\n",
      "414:\tlearn: 0.1618822\ttotal: 1.94s\tremaining: 2.74s\n",
      "415:\tlearn: 0.1617749\ttotal: 1.95s\tremaining: 2.73s\n",
      "416:\tlearn: 0.1617462\ttotal: 1.95s\tremaining: 2.72s\n",
      "417:\tlearn: 0.1616271\ttotal: 1.95s\tremaining: 2.72s\n",
      "418:\tlearn: 0.1615055\ttotal: 1.95s\tremaining: 2.71s\n",
      "419:\tlearn: 0.1614024\ttotal: 1.96s\tremaining: 2.7s\n",
      "420:\tlearn: 0.1612680\ttotal: 1.96s\tremaining: 2.69s\n",
      "421:\tlearn: 0.1611529\ttotal: 1.96s\tremaining: 2.69s\n",
      "422:\tlearn: 0.1611217\ttotal: 1.97s\tremaining: 2.68s\n",
      "423:\tlearn: 0.1609599\ttotal: 1.97s\tremaining: 2.67s\n",
      "424:\tlearn: 0.1609066\ttotal: 1.97s\tremaining: 2.67s\n",
      "425:\tlearn: 0.1606668\ttotal: 1.97s\tremaining: 2.66s\n",
      "426:\tlearn: 0.1606402\ttotal: 1.98s\tremaining: 2.65s\n",
      "427:\tlearn: 0.1604893\ttotal: 1.98s\tremaining: 2.65s\n",
      "428:\tlearn: 0.1604431\ttotal: 1.98s\tremaining: 2.64s\n",
      "429:\tlearn: 0.1603557\ttotal: 1.99s\tremaining: 2.63s\n",
      "430:\tlearn: 0.1602593\ttotal: 1.99s\tremaining: 2.63s\n",
      "431:\tlearn: 0.1601827\ttotal: 1.99s\tremaining: 2.62s\n",
      "432:\tlearn: 0.1599778\ttotal: 1.99s\tremaining: 2.61s\n",
      "433:\tlearn: 0.1597945\ttotal: 2s\tremaining: 2.61s\n",
      "434:\tlearn: 0.1596204\ttotal: 2s\tremaining: 2.6s\n",
      "435:\tlearn: 0.1596048\ttotal: 2s\tremaining: 2.59s\n",
      "436:\tlearn: 0.1594626\ttotal: 2.01s\tremaining: 2.58s\n",
      "437:\tlearn: 0.1593656\ttotal: 2.01s\tremaining: 2.58s\n",
      "438:\tlearn: 0.1593370\ttotal: 2.01s\tremaining: 2.57s\n",
      "439:\tlearn: 0.1593132\ttotal: 2.02s\tremaining: 2.56s\n",
      "440:\tlearn: 0.1591701\ttotal: 2.02s\tremaining: 2.56s\n",
      "441:\tlearn: 0.1589557\ttotal: 2.02s\tremaining: 2.55s\n",
      "442:\tlearn: 0.1588340\ttotal: 2.02s\tremaining: 2.54s\n",
      "443:\tlearn: 0.1588047\ttotal: 2.03s\tremaining: 2.54s\n",
      "444:\tlearn: 0.1587452\ttotal: 2.03s\tremaining: 2.53s\n",
      "445:\tlearn: 0.1587007\ttotal: 2.03s\tremaining: 2.52s\n",
      "446:\tlearn: 0.1586297\ttotal: 2.04s\tremaining: 2.52s\n",
      "447:\tlearn: 0.1585374\ttotal: 2.04s\tremaining: 2.51s\n",
      "448:\tlearn: 0.1584732\ttotal: 2.04s\tremaining: 2.5s\n",
      "449:\tlearn: 0.1582888\ttotal: 2.04s\tremaining: 2.5s\n",
      "450:\tlearn: 0.1581616\ttotal: 2.05s\tremaining: 2.49s\n",
      "451:\tlearn: 0.1581016\ttotal: 2.05s\tremaining: 2.48s\n",
      "452:\tlearn: 0.1579176\ttotal: 2.05s\tremaining: 2.48s\n",
      "453:\tlearn: 0.1578507\ttotal: 2.06s\tremaining: 2.47s\n",
      "454:\tlearn: 0.1577544\ttotal: 2.06s\tremaining: 2.47s\n",
      "455:\tlearn: 0.1576733\ttotal: 2.06s\tremaining: 2.46s\n",
      "456:\tlearn: 0.1575802\ttotal: 2.06s\tremaining: 2.45s\n",
      "457:\tlearn: 0.1573551\ttotal: 2.07s\tremaining: 2.45s\n",
      "458:\tlearn: 0.1572404\ttotal: 2.07s\tremaining: 2.44s\n",
      "459:\tlearn: 0.1571153\ttotal: 2.07s\tremaining: 2.44s\n",
      "460:\tlearn: 0.1569392\ttotal: 2.08s\tremaining: 2.43s\n",
      "461:\tlearn: 0.1568533\ttotal: 2.08s\tremaining: 2.42s\n",
      "462:\tlearn: 0.1566696\ttotal: 2.08s\tremaining: 2.42s\n",
      "463:\tlearn: 0.1565438\ttotal: 2.09s\tremaining: 2.41s\n",
      "464:\tlearn: 0.1564298\ttotal: 2.09s\tremaining: 2.41s\n",
      "465:\tlearn: 0.1564074\ttotal: 2.1s\tremaining: 2.4s\n",
      "466:\tlearn: 0.1563710\ttotal: 2.1s\tremaining: 2.4s\n",
      "467:\tlearn: 0.1563497\ttotal: 2.1s\tremaining: 2.39s\n",
      "468:\tlearn: 0.1561872\ttotal: 2.11s\tremaining: 2.38s\n",
      "469:\tlearn: 0.1559060\ttotal: 2.11s\tremaining: 2.38s\n",
      "470:\tlearn: 0.1557803\ttotal: 2.11s\tremaining: 2.37s\n",
      "471:\tlearn: 0.1557642\ttotal: 2.12s\tremaining: 2.37s\n",
      "472:\tlearn: 0.1556897\ttotal: 2.12s\tremaining: 2.36s\n",
      "473:\tlearn: 0.1556689\ttotal: 2.12s\tremaining: 2.36s\n",
      "474:\tlearn: 0.1555134\ttotal: 2.13s\tremaining: 2.35s\n",
      "475:\tlearn: 0.1554936\ttotal: 2.13s\tremaining: 2.34s\n",
      "476:\tlearn: 0.1554254\ttotal: 2.13s\tremaining: 2.34s\n",
      "477:\tlearn: 0.1554010\ttotal: 2.13s\tremaining: 2.33s\n",
      "478:\tlearn: 0.1553839\ttotal: 2.14s\tremaining: 2.33s\n",
      "479:\tlearn: 0.1551876\ttotal: 2.14s\tremaining: 2.32s\n",
      "480:\tlearn: 0.1550918\ttotal: 2.14s\tremaining: 2.31s\n",
      "481:\tlearn: 0.1549196\ttotal: 2.15s\tremaining: 2.31s\n",
      "482:\tlearn: 0.1548335\ttotal: 2.15s\tremaining: 2.3s\n",
      "483:\tlearn: 0.1547027\ttotal: 2.15s\tremaining: 2.29s\n",
      "484:\tlearn: 0.1546825\ttotal: 2.16s\tremaining: 2.29s\n",
      "485:\tlearn: 0.1545995\ttotal: 2.16s\tremaining: 2.28s\n",
      "486:\tlearn: 0.1545458\ttotal: 2.16s\tremaining: 2.28s\n",
      "487:\tlearn: 0.1543803\ttotal: 2.17s\tremaining: 2.27s\n",
      "488:\tlearn: 0.1541967\ttotal: 2.17s\tremaining: 2.27s\n",
      "489:\tlearn: 0.1540617\ttotal: 2.17s\tremaining: 2.26s\n",
      "490:\tlearn: 0.1539124\ttotal: 2.17s\tremaining: 2.25s\n",
      "491:\tlearn: 0.1537750\ttotal: 2.18s\tremaining: 2.25s\n",
      "492:\tlearn: 0.1536401\ttotal: 2.18s\tremaining: 2.24s\n",
      "493:\tlearn: 0.1535173\ttotal: 2.18s\tremaining: 2.23s\n",
      "494:\tlearn: 0.1534000\ttotal: 2.19s\tremaining: 2.23s\n",
      "495:\tlearn: 0.1533331\ttotal: 2.19s\tremaining: 2.22s\n",
      "496:\tlearn: 0.1533141\ttotal: 2.19s\tremaining: 2.22s\n",
      "497:\tlearn: 0.1532748\ttotal: 2.19s\tremaining: 2.21s\n",
      "498:\tlearn: 0.1532574\ttotal: 2.2s\tremaining: 2.21s\n",
      "499:\tlearn: 0.1531370\ttotal: 2.2s\tremaining: 2.2s\n",
      "500:\tlearn: 0.1531192\ttotal: 2.2s\tremaining: 2.19s\n",
      "501:\tlearn: 0.1531027\ttotal: 2.21s\tremaining: 2.19s\n",
      "502:\tlearn: 0.1529819\ttotal: 2.21s\tremaining: 2.18s\n",
      "503:\tlearn: 0.1528512\ttotal: 2.21s\tremaining: 2.18s\n",
      "504:\tlearn: 0.1526778\ttotal: 2.21s\tremaining: 2.17s\n",
      "505:\tlearn: 0.1525618\ttotal: 2.22s\tremaining: 2.16s\n",
      "506:\tlearn: 0.1525230\ttotal: 2.22s\tremaining: 2.16s\n",
      "507:\tlearn: 0.1524857\ttotal: 2.22s\tremaining: 2.15s\n",
      "508:\tlearn: 0.1524083\ttotal: 2.23s\tremaining: 2.15s\n",
      "509:\tlearn: 0.1522890\ttotal: 2.23s\tremaining: 2.14s\n",
      "510:\tlearn: 0.1521758\ttotal: 2.23s\tremaining: 2.13s\n",
      "511:\tlearn: 0.1520313\ttotal: 2.23s\tremaining: 2.13s\n",
      "512:\tlearn: 0.1519589\ttotal: 2.24s\tremaining: 2.12s\n",
      "513:\tlearn: 0.1518333\ttotal: 2.24s\tremaining: 2.12s\n",
      "514:\tlearn: 0.1517208\ttotal: 2.24s\tremaining: 2.11s\n",
      "515:\tlearn: 0.1517045\ttotal: 2.25s\tremaining: 2.11s\n",
      "516:\tlearn: 0.1515895\ttotal: 2.25s\tremaining: 2.1s\n"
     ]
    },
    {
     "name": "stdout",
     "output_type": "stream",
     "text": [
      "517:\tlearn: 0.1515493\ttotal: 2.25s\tremaining: 2.1s\n",
      "518:\tlearn: 0.1514406\ttotal: 2.26s\tremaining: 2.09s\n",
      "519:\tlearn: 0.1513869\ttotal: 2.26s\tremaining: 2.09s\n",
      "520:\tlearn: 0.1512812\ttotal: 2.27s\tremaining: 2.08s\n",
      "521:\tlearn: 0.1511172\ttotal: 2.27s\tremaining: 2.08s\n",
      "522:\tlearn: 0.1509873\ttotal: 2.27s\tremaining: 2.07s\n",
      "523:\tlearn: 0.1508367\ttotal: 2.28s\tremaining: 2.07s\n",
      "524:\tlearn: 0.1506500\ttotal: 2.28s\tremaining: 2.06s\n",
      "525:\tlearn: 0.1506141\ttotal: 2.28s\tremaining: 2.06s\n",
      "526:\tlearn: 0.1504669\ttotal: 2.29s\tremaining: 2.05s\n",
      "527:\tlearn: 0.1502645\ttotal: 2.29s\tremaining: 2.05s\n",
      "528:\tlearn: 0.1501213\ttotal: 2.29s\tremaining: 2.04s\n",
      "529:\tlearn: 0.1500436\ttotal: 2.3s\tremaining: 2.04s\n",
      "530:\tlearn: 0.1500300\ttotal: 2.3s\tremaining: 2.03s\n",
      "531:\tlearn: 0.1499226\ttotal: 2.3s\tremaining: 2.03s\n",
      "532:\tlearn: 0.1498892\ttotal: 2.31s\tremaining: 2.02s\n",
      "533:\tlearn: 0.1498751\ttotal: 2.31s\tremaining: 2.01s\n",
      "534:\tlearn: 0.1498307\ttotal: 2.31s\tremaining: 2.01s\n",
      "535:\tlearn: 0.1498165\ttotal: 2.31s\tremaining: 2s\n",
      "536:\tlearn: 0.1497008\ttotal: 2.32s\tremaining: 2s\n",
      "537:\tlearn: 0.1495859\ttotal: 2.32s\tremaining: 1.99s\n",
      "538:\tlearn: 0.1495713\ttotal: 2.32s\tremaining: 1.99s\n",
      "539:\tlearn: 0.1494572\ttotal: 2.33s\tremaining: 1.98s\n",
      "540:\tlearn: 0.1493800\ttotal: 2.33s\tremaining: 1.98s\n",
      "541:\tlearn: 0.1491496\ttotal: 2.33s\tremaining: 1.97s\n",
      "542:\tlearn: 0.1490374\ttotal: 2.33s\tremaining: 1.97s\n",
      "543:\tlearn: 0.1489670\ttotal: 2.34s\tremaining: 1.96s\n",
      "544:\tlearn: 0.1489318\ttotal: 2.34s\tremaining: 1.95s\n",
      "545:\tlearn: 0.1488017\ttotal: 2.34s\tremaining: 1.95s\n",
      "546:\tlearn: 0.1486568\ttotal: 2.35s\tremaining: 1.94s\n",
      "547:\tlearn: 0.1485572\ttotal: 2.35s\tremaining: 1.94s\n",
      "548:\tlearn: 0.1485414\ttotal: 2.35s\tremaining: 1.93s\n",
      "549:\tlearn: 0.1484688\ttotal: 2.36s\tremaining: 1.93s\n",
      "550:\tlearn: 0.1483978\ttotal: 2.36s\tremaining: 1.92s\n",
      "551:\tlearn: 0.1483538\ttotal: 2.36s\tremaining: 1.92s\n",
      "552:\tlearn: 0.1483265\ttotal: 2.37s\tremaining: 1.91s\n",
      "553:\tlearn: 0.1482433\ttotal: 2.37s\tremaining: 1.91s\n",
      "554:\tlearn: 0.1481730\ttotal: 2.37s\tremaining: 1.9s\n",
      "555:\tlearn: 0.1481006\ttotal: 2.37s\tremaining: 1.9s\n",
      "556:\tlearn: 0.1479679\ttotal: 2.38s\tremaining: 1.89s\n",
      "557:\tlearn: 0.1478895\ttotal: 2.38s\tremaining: 1.88s\n",
      "558:\tlearn: 0.1477747\ttotal: 2.38s\tremaining: 1.88s\n",
      "559:\tlearn: 0.1476625\ttotal: 2.38s\tremaining: 1.87s\n",
      "560:\tlearn: 0.1475673\ttotal: 2.39s\tremaining: 1.87s\n",
      "561:\tlearn: 0.1474192\ttotal: 2.39s\tremaining: 1.86s\n",
      "562:\tlearn: 0.1473521\ttotal: 2.39s\tremaining: 1.86s\n",
      "563:\tlearn: 0.1471386\ttotal: 2.4s\tremaining: 1.85s\n",
      "564:\tlearn: 0.1470124\ttotal: 2.4s\tremaining: 1.85s\n",
      "565:\tlearn: 0.1469269\ttotal: 2.4s\tremaining: 1.84s\n",
      "566:\tlearn: 0.1467998\ttotal: 2.4s\tremaining: 1.84s\n",
      "567:\tlearn: 0.1466624\ttotal: 2.41s\tremaining: 1.83s\n",
      "568:\tlearn: 0.1466238\ttotal: 2.41s\tremaining: 1.83s\n",
      "569:\tlearn: 0.1465115\ttotal: 2.41s\tremaining: 1.82s\n",
      "570:\tlearn: 0.1464341\ttotal: 2.42s\tremaining: 1.82s\n",
      "571:\tlearn: 0.1464021\ttotal: 2.42s\tremaining: 1.81s\n",
      "572:\tlearn: 0.1463391\ttotal: 2.42s\tremaining: 1.81s\n",
      "573:\tlearn: 0.1461870\ttotal: 2.43s\tremaining: 1.8s\n",
      "574:\tlearn: 0.1460412\ttotal: 2.43s\tremaining: 1.8s\n",
      "575:\tlearn: 0.1459216\ttotal: 2.44s\tremaining: 1.79s\n",
      "576:\tlearn: 0.1458815\ttotal: 2.44s\tremaining: 1.79s\n",
      "577:\tlearn: 0.1457716\ttotal: 2.44s\tremaining: 1.78s\n",
      "578:\tlearn: 0.1457419\ttotal: 2.45s\tremaining: 1.78s\n",
      "579:\tlearn: 0.1456065\ttotal: 2.45s\tremaining: 1.77s\n",
      "580:\tlearn: 0.1455402\ttotal: 2.45s\tremaining: 1.77s\n",
      "581:\tlearn: 0.1454757\ttotal: 2.46s\tremaining: 1.77s\n",
      "582:\tlearn: 0.1453724\ttotal: 2.46s\tremaining: 1.76s\n",
      "583:\tlearn: 0.1453178\ttotal: 2.46s\tremaining: 1.76s\n",
      "584:\tlearn: 0.1451908\ttotal: 2.47s\tremaining: 1.75s\n",
      "585:\tlearn: 0.1451593\ttotal: 2.47s\tremaining: 1.75s\n",
      "586:\tlearn: 0.1451222\ttotal: 2.48s\tremaining: 1.74s\n",
      "587:\tlearn: 0.1450671\ttotal: 2.48s\tremaining: 1.74s\n",
      "588:\tlearn: 0.1450238\ttotal: 2.48s\tremaining: 1.73s\n",
      "589:\tlearn: 0.1449335\ttotal: 2.48s\tremaining: 1.73s\n",
      "590:\tlearn: 0.1448982\ttotal: 2.49s\tremaining: 1.72s\n",
      "591:\tlearn: 0.1446772\ttotal: 2.49s\tremaining: 1.72s\n",
      "592:\tlearn: 0.1446212\ttotal: 2.49s\tremaining: 1.71s\n",
      "593:\tlearn: 0.1445630\ttotal: 2.5s\tremaining: 1.71s\n",
      "594:\tlearn: 0.1444458\ttotal: 2.5s\tremaining: 1.7s\n",
      "595:\tlearn: 0.1443737\ttotal: 2.5s\tremaining: 1.7s\n",
      "596:\tlearn: 0.1443150\ttotal: 2.5s\tremaining: 1.69s\n",
      "597:\tlearn: 0.1442179\ttotal: 2.51s\tremaining: 1.69s\n",
      "598:\tlearn: 0.1440945\ttotal: 2.51s\tremaining: 1.68s\n",
      "599:\tlearn: 0.1438682\ttotal: 2.51s\tremaining: 1.68s\n",
      "600:\tlearn: 0.1438052\ttotal: 2.52s\tremaining: 1.67s\n",
      "601:\tlearn: 0.1437596\ttotal: 2.52s\tremaining: 1.67s\n",
      "602:\tlearn: 0.1436316\ttotal: 2.52s\tremaining: 1.66s\n",
      "603:\tlearn: 0.1434990\ttotal: 2.52s\tremaining: 1.66s\n",
      "604:\tlearn: 0.1433744\ttotal: 2.53s\tremaining: 1.65s\n",
      "605:\tlearn: 0.1433372\ttotal: 2.53s\tremaining: 1.65s\n",
      "606:\tlearn: 0.1432901\ttotal: 2.53s\tremaining: 1.64s\n",
      "607:\tlearn: 0.1432369\ttotal: 2.54s\tremaining: 1.64s\n",
      "608:\tlearn: 0.1431580\ttotal: 2.54s\tremaining: 1.63s\n",
      "609:\tlearn: 0.1430271\ttotal: 2.54s\tremaining: 1.63s\n",
      "610:\tlearn: 0.1429778\ttotal: 2.55s\tremaining: 1.62s\n",
      "611:\tlearn: 0.1429143\ttotal: 2.55s\tremaining: 1.62s\n",
      "612:\tlearn: 0.1427936\ttotal: 2.55s\tremaining: 1.61s\n",
      "613:\tlearn: 0.1427218\ttotal: 2.55s\tremaining: 1.61s\n",
      "614:\tlearn: 0.1426576\ttotal: 2.56s\tremaining: 1.6s\n",
      "615:\tlearn: 0.1425885\ttotal: 2.56s\tremaining: 1.6s\n",
      "616:\tlearn: 0.1423697\ttotal: 2.56s\tremaining: 1.59s\n",
      "617:\tlearn: 0.1422662\ttotal: 2.57s\tremaining: 1.59s\n",
      "618:\tlearn: 0.1421808\ttotal: 2.57s\tremaining: 1.58s\n",
      "619:\tlearn: 0.1421391\ttotal: 2.57s\tremaining: 1.58s\n",
      "620:\tlearn: 0.1420613\ttotal: 2.58s\tremaining: 1.57s\n",
      "621:\tlearn: 0.1420517\ttotal: 2.58s\tremaining: 1.57s\n",
      "622:\tlearn: 0.1420170\ttotal: 2.58s\tremaining: 1.56s\n",
      "623:\tlearn: 0.1419808\ttotal: 2.58s\tremaining: 1.56s\n",
      "624:\tlearn: 0.1419014\ttotal: 2.59s\tremaining: 1.55s\n",
      "625:\tlearn: 0.1417217\ttotal: 2.59s\tremaining: 1.55s\n",
      "626:\tlearn: 0.1415339\ttotal: 2.59s\tremaining: 1.54s\n",
      "627:\tlearn: 0.1414487\ttotal: 2.6s\tremaining: 1.54s\n",
      "628:\tlearn: 0.1412747\ttotal: 2.6s\tremaining: 1.53s\n",
      "629:\tlearn: 0.1411819\ttotal: 2.6s\tremaining: 1.53s\n",
      "630:\tlearn: 0.1410746\ttotal: 2.61s\tremaining: 1.52s\n",
      "631:\tlearn: 0.1409995\ttotal: 2.61s\tremaining: 1.52s\n",
      "632:\tlearn: 0.1409241\ttotal: 2.62s\tremaining: 1.52s\n",
      "633:\tlearn: 0.1408465\ttotal: 2.62s\tremaining: 1.51s\n",
      "634:\tlearn: 0.1407289\ttotal: 2.62s\tremaining: 1.51s\n",
      "635:\tlearn: 0.1406478\ttotal: 2.63s\tremaining: 1.5s\n",
      "636:\tlearn: 0.1405498\ttotal: 2.63s\tremaining: 1.5s\n",
      "637:\tlearn: 0.1403595\ttotal: 2.63s\tremaining: 1.49s\n",
      "638:\tlearn: 0.1403053\ttotal: 2.64s\tremaining: 1.49s\n",
      "639:\tlearn: 0.1402074\ttotal: 2.64s\tremaining: 1.49s\n",
      "640:\tlearn: 0.1401369\ttotal: 2.64s\tremaining: 1.48s\n",
      "641:\tlearn: 0.1399596\ttotal: 2.65s\tremaining: 1.48s\n",
      "642:\tlearn: 0.1399194\ttotal: 2.65s\tremaining: 1.47s\n",
      "643:\tlearn: 0.1398302\ttotal: 2.65s\tremaining: 1.47s\n",
      "644:\tlearn: 0.1397244\ttotal: 2.65s\tremaining: 1.46s\n",
      "645:\tlearn: 0.1396761\ttotal: 2.66s\tremaining: 1.46s\n",
      "646:\tlearn: 0.1395341\ttotal: 2.66s\tremaining: 1.45s\n",
      "647:\tlearn: 0.1394312\ttotal: 2.67s\tremaining: 1.45s\n",
      "648:\tlearn: 0.1393537\ttotal: 2.67s\tremaining: 1.44s\n",
      "649:\tlearn: 0.1393001\ttotal: 2.67s\tremaining: 1.44s\n",
      "650:\tlearn: 0.1392252\ttotal: 2.67s\tremaining: 1.43s\n",
      "651:\tlearn: 0.1391443\ttotal: 2.68s\tremaining: 1.43s\n",
      "652:\tlearn: 0.1390116\ttotal: 2.68s\tremaining: 1.43s\n",
      "653:\tlearn: 0.1389010\ttotal: 2.69s\tremaining: 1.42s\n",
      "654:\tlearn: 0.1388286\ttotal: 2.69s\tremaining: 1.42s\n",
      "655:\tlearn: 0.1387720\ttotal: 2.69s\tremaining: 1.41s\n",
      "656:\tlearn: 0.1387109\ttotal: 2.69s\tremaining: 1.41s\n",
      "657:\tlearn: 0.1386333\ttotal: 2.7s\tremaining: 1.4s\n",
      "658:\tlearn: 0.1385481\ttotal: 2.7s\tremaining: 1.4s\n",
      "659:\tlearn: 0.1384882\ttotal: 2.7s\tremaining: 1.39s\n",
      "660:\tlearn: 0.1384382\ttotal: 2.71s\tremaining: 1.39s\n",
      "661:\tlearn: 0.1383355\ttotal: 2.71s\tremaining: 1.38s\n",
      "662:\tlearn: 0.1382558\ttotal: 2.71s\tremaining: 1.38s\n",
      "663:\tlearn: 0.1382429\ttotal: 2.71s\tremaining: 1.37s\n",
      "664:\tlearn: 0.1381832\ttotal: 2.72s\tremaining: 1.37s\n",
      "665:\tlearn: 0.1381704\ttotal: 2.72s\tremaining: 1.36s\n",
      "666:\tlearn: 0.1380893\ttotal: 2.72s\tremaining: 1.36s\n",
      "667:\tlearn: 0.1380472\ttotal: 2.73s\tremaining: 1.35s\n",
      "668:\tlearn: 0.1379622\ttotal: 2.73s\tremaining: 1.35s\n",
      "669:\tlearn: 0.1379110\ttotal: 2.73s\tremaining: 1.34s\n",
      "670:\tlearn: 0.1377793\ttotal: 2.73s\tremaining: 1.34s\n",
      "671:\tlearn: 0.1376854\ttotal: 2.74s\tremaining: 1.34s\n",
      "672:\tlearn: 0.1375105\ttotal: 2.74s\tremaining: 1.33s\n",
      "673:\tlearn: 0.1374754\ttotal: 2.74s\tremaining: 1.33s\n",
      "674:\tlearn: 0.1373041\ttotal: 2.75s\tremaining: 1.32s\n",
      "675:\tlearn: 0.1371624\ttotal: 2.75s\tremaining: 1.32s\n",
      "676:\tlearn: 0.1371001\ttotal: 2.75s\tremaining: 1.31s\n",
      "677:\tlearn: 0.1370262\ttotal: 2.75s\tremaining: 1.31s\n",
      "678:\tlearn: 0.1369930\ttotal: 2.76s\tremaining: 1.3s\n",
      "679:\tlearn: 0.1368339\ttotal: 2.76s\tremaining: 1.3s\n",
      "680:\tlearn: 0.1366989\ttotal: 2.76s\tremaining: 1.29s\n"
     ]
    },
    {
     "name": "stdout",
     "output_type": "stream",
     "text": [
      "681:\tlearn: 0.1366112\ttotal: 2.77s\tremaining: 1.29s\n",
      "682:\tlearn: 0.1365873\ttotal: 2.77s\tremaining: 1.29s\n",
      "683:\tlearn: 0.1365024\ttotal: 2.78s\tremaining: 1.28s\n",
      "684:\tlearn: 0.1364426\ttotal: 2.78s\tremaining: 1.28s\n",
      "685:\tlearn: 0.1364064\ttotal: 2.78s\tremaining: 1.27s\n",
      "686:\tlearn: 0.1363508\ttotal: 2.79s\tremaining: 1.27s\n",
      "687:\tlearn: 0.1363270\ttotal: 2.79s\tremaining: 1.26s\n",
      "688:\tlearn: 0.1362919\ttotal: 2.79s\tremaining: 1.26s\n",
      "689:\tlearn: 0.1361089\ttotal: 2.8s\tremaining: 1.26s\n",
      "690:\tlearn: 0.1360853\ttotal: 2.8s\tremaining: 1.25s\n",
      "691:\tlearn: 0.1360405\ttotal: 2.8s\tremaining: 1.25s\n",
      "692:\tlearn: 0.1359762\ttotal: 2.81s\tremaining: 1.24s\n",
      "693:\tlearn: 0.1359276\ttotal: 2.81s\tremaining: 1.24s\n",
      "694:\tlearn: 0.1358604\ttotal: 2.82s\tremaining: 1.24s\n",
      "695:\tlearn: 0.1357455\ttotal: 2.82s\tremaining: 1.23s\n",
      "696:\tlearn: 0.1356832\ttotal: 2.83s\tremaining: 1.23s\n",
      "697:\tlearn: 0.1356061\ttotal: 2.83s\tremaining: 1.22s\n",
      "698:\tlearn: 0.1355237\ttotal: 2.83s\tremaining: 1.22s\n",
      "699:\tlearn: 0.1353956\ttotal: 2.84s\tremaining: 1.22s\n",
      "700:\tlearn: 0.1352921\ttotal: 2.84s\tremaining: 1.21s\n",
      "701:\tlearn: 0.1352251\ttotal: 2.84s\tremaining: 1.21s\n",
      "702:\tlearn: 0.1351761\ttotal: 2.85s\tremaining: 1.2s\n",
      "703:\tlearn: 0.1351424\ttotal: 2.85s\tremaining: 1.2s\n",
      "704:\tlearn: 0.1350806\ttotal: 2.85s\tremaining: 1.19s\n",
      "705:\tlearn: 0.1350317\ttotal: 2.85s\tremaining: 1.19s\n",
      "706:\tlearn: 0.1349595\ttotal: 2.86s\tremaining: 1.18s\n",
      "707:\tlearn: 0.1349124\ttotal: 2.86s\tremaining: 1.18s\n",
      "708:\tlearn: 0.1348853\ttotal: 2.86s\tremaining: 1.17s\n",
      "709:\tlearn: 0.1347732\ttotal: 2.87s\tremaining: 1.17s\n",
      "710:\tlearn: 0.1347355\ttotal: 2.87s\tremaining: 1.17s\n",
      "711:\tlearn: 0.1346897\ttotal: 2.87s\tremaining: 1.16s\n",
      "712:\tlearn: 0.1346223\ttotal: 2.87s\tremaining: 1.16s\n",
      "713:\tlearn: 0.1345735\ttotal: 2.88s\tremaining: 1.15s\n",
      "714:\tlearn: 0.1344986\ttotal: 2.88s\tremaining: 1.15s\n",
      "715:\tlearn: 0.1344230\ttotal: 2.88s\tremaining: 1.14s\n",
      "716:\tlearn: 0.1343856\ttotal: 2.89s\tremaining: 1.14s\n",
      "717:\tlearn: 0.1343259\ttotal: 2.89s\tremaining: 1.13s\n",
      "718:\tlearn: 0.1342047\ttotal: 2.89s\tremaining: 1.13s\n",
      "719:\tlearn: 0.1341197\ttotal: 2.89s\tremaining: 1.13s\n",
      "720:\tlearn: 0.1340573\ttotal: 2.9s\tremaining: 1.12s\n",
      "721:\tlearn: 0.1339849\ttotal: 2.9s\tremaining: 1.12s\n",
      "722:\tlearn: 0.1338991\ttotal: 2.9s\tremaining: 1.11s\n",
      "723:\tlearn: 0.1338460\ttotal: 2.91s\tremaining: 1.11s\n",
      "724:\tlearn: 0.1338259\ttotal: 2.91s\tremaining: 1.1s\n",
      "725:\tlearn: 0.1337755\ttotal: 2.91s\tremaining: 1.1s\n",
      "726:\tlearn: 0.1337424\ttotal: 2.92s\tremaining: 1.09s\n",
      "727:\tlearn: 0.1336873\ttotal: 2.92s\tremaining: 1.09s\n",
      "728:\tlearn: 0.1335690\ttotal: 2.92s\tremaining: 1.08s\n",
      "729:\tlearn: 0.1335341\ttotal: 2.92s\tremaining: 1.08s\n",
      "730:\tlearn: 0.1334711\ttotal: 2.93s\tremaining: 1.08s\n",
      "731:\tlearn: 0.1333950\ttotal: 2.93s\tremaining: 1.07s\n",
      "732:\tlearn: 0.1333030\ttotal: 2.93s\tremaining: 1.07s\n",
      "733:\tlearn: 0.1331949\ttotal: 2.94s\tremaining: 1.06s\n",
      "734:\tlearn: 0.1331386\ttotal: 2.94s\tremaining: 1.06s\n",
      "735:\tlearn: 0.1330675\ttotal: 2.94s\tremaining: 1.06s\n",
      "736:\tlearn: 0.1330150\ttotal: 2.95s\tremaining: 1.05s\n",
      "737:\tlearn: 0.1329469\ttotal: 2.95s\tremaining: 1.05s\n",
      "738:\tlearn: 0.1328821\ttotal: 2.95s\tremaining: 1.04s\n",
      "739:\tlearn: 0.1327908\ttotal: 2.96s\tremaining: 1.04s\n",
      "740:\tlearn: 0.1327245\ttotal: 2.96s\tremaining: 1.03s\n",
      "741:\tlearn: 0.1326707\ttotal: 2.96s\tremaining: 1.03s\n",
      "742:\tlearn: 0.1325874\ttotal: 2.97s\tremaining: 1.03s\n",
      "743:\tlearn: 0.1325296\ttotal: 2.97s\tremaining: 1.02s\n",
      "744:\tlearn: 0.1325188\ttotal: 2.98s\tremaining: 1.02s\n",
      "745:\tlearn: 0.1324407\ttotal: 2.98s\tremaining: 1.01s\n",
      "746:\tlearn: 0.1324175\ttotal: 2.98s\tremaining: 1.01s\n",
      "747:\tlearn: 0.1323296\ttotal: 2.98s\tremaining: 1s\n",
      "748:\tlearn: 0.1322265\ttotal: 2.99s\tremaining: 1s\n",
      "749:\tlearn: 0.1321462\ttotal: 2.99s\tremaining: 997ms\n",
      "750:\tlearn: 0.1321101\ttotal: 2.99s\tremaining: 993ms\n",
      "751:\tlearn: 0.1320648\ttotal: 3s\tremaining: 988ms\n",
      "752:\tlearn: 0.1319858\ttotal: 3s\tremaining: 984ms\n",
      "753:\tlearn: 0.1319204\ttotal: 3s\tremaining: 980ms\n",
      "754:\tlearn: 0.1318072\ttotal: 3.01s\tremaining: 976ms\n",
      "755:\tlearn: 0.1317448\ttotal: 3.01s\tremaining: 971ms\n",
      "756:\tlearn: 0.1316361\ttotal: 3.01s\tremaining: 967ms\n",
      "757:\tlearn: 0.1315859\ttotal: 3.02s\tremaining: 963ms\n",
      "758:\tlearn: 0.1315788\ttotal: 3.02s\tremaining: 958ms\n",
      "759:\tlearn: 0.1315254\ttotal: 3.02s\tremaining: 954ms\n",
      "760:\tlearn: 0.1315055\ttotal: 3.02s\tremaining: 950ms\n",
      "761:\tlearn: 0.1314720\ttotal: 3.03s\tremaining: 945ms\n",
      "762:\tlearn: 0.1314355\ttotal: 3.03s\tremaining: 941ms\n",
      "763:\tlearn: 0.1314154\ttotal: 3.03s\tremaining: 937ms\n",
      "764:\tlearn: 0.1312799\ttotal: 3.04s\tremaining: 932ms\n",
      "765:\tlearn: 0.1312396\ttotal: 3.04s\tremaining: 928ms\n",
      "766:\tlearn: 0.1312191\ttotal: 3.04s\tremaining: 924ms\n",
      "767:\tlearn: 0.1311189\ttotal: 3.04s\tremaining: 920ms\n",
      "768:\tlearn: 0.1310447\ttotal: 3.05s\tremaining: 915ms\n",
      "769:\tlearn: 0.1310332\ttotal: 3.05s\tremaining: 911ms\n",
      "770:\tlearn: 0.1309992\ttotal: 3.05s\tremaining: 907ms\n",
      "771:\tlearn: 0.1309124\ttotal: 3.06s\tremaining: 902ms\n",
      "772:\tlearn: 0.1308617\ttotal: 3.06s\tremaining: 898ms\n",
      "773:\tlearn: 0.1307344\ttotal: 3.06s\tremaining: 894ms\n",
      "774:\tlearn: 0.1306751\ttotal: 3.06s\tremaining: 890ms\n",
      "775:\tlearn: 0.1305782\ttotal: 3.07s\tremaining: 885ms\n",
      "776:\tlearn: 0.1305451\ttotal: 3.07s\tremaining: 881ms\n",
      "777:\tlearn: 0.1304282\ttotal: 3.07s\tremaining: 877ms\n",
      "778:\tlearn: 0.1303535\ttotal: 3.08s\tremaining: 873ms\n",
      "779:\tlearn: 0.1302501\ttotal: 3.08s\tremaining: 868ms\n",
      "780:\tlearn: 0.1301872\ttotal: 3.08s\tremaining: 864ms\n",
      "781:\tlearn: 0.1300634\ttotal: 3.08s\tremaining: 860ms\n",
      "782:\tlearn: 0.1299315\ttotal: 3.09s\tremaining: 856ms\n",
      "783:\tlearn: 0.1297979\ttotal: 3.09s\tremaining: 851ms\n",
      "784:\tlearn: 0.1297222\ttotal: 3.09s\tremaining: 847ms\n",
      "785:\tlearn: 0.1296044\ttotal: 3.1s\tremaining: 843ms\n",
      "786:\tlearn: 0.1295092\ttotal: 3.1s\tremaining: 839ms\n",
      "787:\tlearn: 0.1294439\ttotal: 3.1s\tremaining: 835ms\n",
      "788:\tlearn: 0.1293752\ttotal: 3.1s\tremaining: 830ms\n",
      "789:\tlearn: 0.1292724\ttotal: 3.11s\tremaining: 826ms\n",
      "790:\tlearn: 0.1292368\ttotal: 3.11s\tremaining: 822ms\n",
      "791:\tlearn: 0.1291945\ttotal: 3.12s\tremaining: 818ms\n",
      "792:\tlearn: 0.1290834\ttotal: 3.12s\tremaining: 814ms\n",
      "793:\tlearn: 0.1290115\ttotal: 3.12s\tremaining: 810ms\n",
      "794:\tlearn: 0.1289147\ttotal: 3.13s\tremaining: 806ms\n",
      "795:\tlearn: 0.1288791\ttotal: 3.13s\tremaining: 802ms\n",
      "796:\tlearn: 0.1287781\ttotal: 3.13s\tremaining: 798ms\n",
      "797:\tlearn: 0.1287121\ttotal: 3.14s\tremaining: 794ms\n",
      "798:\tlearn: 0.1286921\ttotal: 3.14s\tremaining: 790ms\n",
      "799:\tlearn: 0.1286364\ttotal: 3.14s\tremaining: 786ms\n",
      "800:\tlearn: 0.1285578\ttotal: 3.15s\tremaining: 782ms\n",
      "801:\tlearn: 0.1285283\ttotal: 3.15s\tremaining: 778ms\n",
      "802:\tlearn: 0.1284702\ttotal: 3.15s\tremaining: 774ms\n",
      "803:\tlearn: 0.1284341\ttotal: 3.16s\tremaining: 770ms\n",
      "804:\tlearn: 0.1283434\ttotal: 3.16s\tremaining: 766ms\n",
      "805:\tlearn: 0.1282741\ttotal: 3.16s\tremaining: 762ms\n",
      "806:\tlearn: 0.1282390\ttotal: 3.17s\tremaining: 757ms\n",
      "807:\tlearn: 0.1282110\ttotal: 3.17s\tremaining: 753ms\n",
      "808:\tlearn: 0.1280757\ttotal: 3.17s\tremaining: 749ms\n",
      "809:\tlearn: 0.1279796\ttotal: 3.17s\tremaining: 745ms\n",
      "810:\tlearn: 0.1279316\ttotal: 3.18s\tremaining: 741ms\n",
      "811:\tlearn: 0.1279005\ttotal: 3.18s\tremaining: 737ms\n",
      "812:\tlearn: 0.1278566\ttotal: 3.19s\tremaining: 733ms\n",
      "813:\tlearn: 0.1278047\ttotal: 3.19s\tremaining: 729ms\n",
      "814:\tlearn: 0.1277683\ttotal: 3.19s\tremaining: 725ms\n",
      "815:\tlearn: 0.1277254\ttotal: 3.19s\tremaining: 720ms\n",
      "816:\tlearn: 0.1276139\ttotal: 3.2s\tremaining: 716ms\n",
      "817:\tlearn: 0.1275552\ttotal: 3.2s\tremaining: 712ms\n",
      "818:\tlearn: 0.1274926\ttotal: 3.2s\tremaining: 708ms\n",
      "819:\tlearn: 0.1274215\ttotal: 3.21s\tremaining: 704ms\n",
      "820:\tlearn: 0.1273542\ttotal: 3.21s\tremaining: 700ms\n",
      "821:\tlearn: 0.1272644\ttotal: 3.21s\tremaining: 696ms\n",
      "822:\tlearn: 0.1271968\ttotal: 3.22s\tremaining: 692ms\n",
      "823:\tlearn: 0.1271281\ttotal: 3.22s\tremaining: 688ms\n",
      "824:\tlearn: 0.1270057\ttotal: 3.22s\tremaining: 683ms\n",
      "825:\tlearn: 0.1269448\ttotal: 3.23s\tremaining: 679ms\n",
      "826:\tlearn: 0.1268725\ttotal: 3.23s\tremaining: 675ms\n",
      "827:\tlearn: 0.1268198\ttotal: 3.23s\tremaining: 671ms\n",
      "828:\tlearn: 0.1268062\ttotal: 3.23s\tremaining: 667ms\n",
      "829:\tlearn: 0.1267392\ttotal: 3.24s\tremaining: 663ms\n",
      "830:\tlearn: 0.1267001\ttotal: 3.24s\tremaining: 659ms\n",
      "831:\tlearn: 0.1266535\ttotal: 3.24s\tremaining: 655ms\n",
      "832:\tlearn: 0.1265978\ttotal: 3.25s\tremaining: 651ms\n",
      "833:\tlearn: 0.1265227\ttotal: 3.25s\tremaining: 647ms\n",
      "834:\tlearn: 0.1264678\ttotal: 3.25s\tremaining: 642ms\n",
      "835:\tlearn: 0.1264143\ttotal: 3.25s\tremaining: 638ms\n",
      "836:\tlearn: 0.1263332\ttotal: 3.26s\tremaining: 634ms\n",
      "837:\tlearn: 0.1262633\ttotal: 3.26s\tremaining: 630ms\n",
      "838:\tlearn: 0.1261989\ttotal: 3.26s\tremaining: 626ms\n",
      "839:\tlearn: 0.1261070\ttotal: 3.27s\tremaining: 622ms\n",
      "840:\tlearn: 0.1260927\ttotal: 3.27s\tremaining: 618ms\n",
      "841:\tlearn: 0.1259781\ttotal: 3.27s\tremaining: 614ms\n",
      "842:\tlearn: 0.1259330\ttotal: 3.27s\tremaining: 610ms\n",
      "843:\tlearn: 0.1259042\ttotal: 3.28s\tremaining: 606ms\n"
     ]
    },
    {
     "name": "stdout",
     "output_type": "stream",
     "text": [
      "844:\tlearn: 0.1258716\ttotal: 3.28s\tremaining: 602ms\n",
      "845:\tlearn: 0.1258549\ttotal: 3.29s\tremaining: 598ms\n",
      "846:\tlearn: 0.1257433\ttotal: 3.29s\tremaining: 594ms\n",
      "847:\tlearn: 0.1257143\ttotal: 3.29s\tremaining: 590ms\n",
      "848:\tlearn: 0.1256419\ttotal: 3.3s\tremaining: 586ms\n",
      "849:\tlearn: 0.1256247\ttotal: 3.3s\tremaining: 582ms\n",
      "850:\tlearn: 0.1255605\ttotal: 3.3s\tremaining: 578ms\n",
      "851:\tlearn: 0.1255411\ttotal: 3.31s\tremaining: 575ms\n",
      "852:\tlearn: 0.1254452\ttotal: 3.31s\tremaining: 571ms\n",
      "853:\tlearn: 0.1253318\ttotal: 3.31s\tremaining: 567ms\n",
      "854:\tlearn: 0.1252836\ttotal: 3.32s\tremaining: 563ms\n",
      "855:\tlearn: 0.1251902\ttotal: 3.32s\tremaining: 559ms\n",
      "856:\tlearn: 0.1251725\ttotal: 3.33s\tremaining: 555ms\n",
      "857:\tlearn: 0.1250378\ttotal: 3.33s\tremaining: 551ms\n",
      "858:\tlearn: 0.1250299\ttotal: 3.33s\tremaining: 547ms\n",
      "859:\tlearn: 0.1249496\ttotal: 3.33s\tremaining: 543ms\n",
      "860:\tlearn: 0.1248892\ttotal: 3.34s\tremaining: 539ms\n",
      "861:\tlearn: 0.1248351\ttotal: 3.34s\tremaining: 535ms\n",
      "862:\tlearn: 0.1247665\ttotal: 3.34s\tremaining: 531ms\n",
      "863:\tlearn: 0.1246530\ttotal: 3.35s\tremaining: 527ms\n",
      "864:\tlearn: 0.1245953\ttotal: 3.35s\tremaining: 523ms\n",
      "865:\tlearn: 0.1245408\ttotal: 3.35s\tremaining: 519ms\n",
      "866:\tlearn: 0.1244943\ttotal: 3.35s\tremaining: 515ms\n",
      "867:\tlearn: 0.1243991\ttotal: 3.36s\tremaining: 511ms\n",
      "868:\tlearn: 0.1243917\ttotal: 3.36s\tremaining: 507ms\n",
      "869:\tlearn: 0.1243578\ttotal: 3.36s\tremaining: 502ms\n",
      "870:\tlearn: 0.1243060\ttotal: 3.37s\tremaining: 498ms\n",
      "871:\tlearn: 0.1242833\ttotal: 3.37s\tremaining: 494ms\n",
      "872:\tlearn: 0.1241991\ttotal: 3.37s\tremaining: 490ms\n",
      "873:\tlearn: 0.1241647\ttotal: 3.37s\tremaining: 486ms\n",
      "874:\tlearn: 0.1241251\ttotal: 3.38s\tremaining: 482ms\n",
      "875:\tlearn: 0.1240530\ttotal: 3.38s\tremaining: 478ms\n",
      "876:\tlearn: 0.1239871\ttotal: 3.38s\tremaining: 475ms\n",
      "877:\tlearn: 0.1239757\ttotal: 3.39s\tremaining: 471ms\n",
      "878:\tlearn: 0.1239357\ttotal: 3.39s\tremaining: 467ms\n",
      "879:\tlearn: 0.1238988\ttotal: 3.39s\tremaining: 463ms\n",
      "880:\tlearn: 0.1238699\ttotal: 3.39s\tremaining: 459ms\n",
      "881:\tlearn: 0.1238579\ttotal: 3.4s\tremaining: 455ms\n",
      "882:\tlearn: 0.1238325\ttotal: 3.4s\tremaining: 451ms\n",
      "883:\tlearn: 0.1237418\ttotal: 3.4s\tremaining: 447ms\n",
      "884:\tlearn: 0.1236647\ttotal: 3.41s\tremaining: 443ms\n",
      "885:\tlearn: 0.1235988\ttotal: 3.41s\tremaining: 439ms\n",
      "886:\tlearn: 0.1235613\ttotal: 3.41s\tremaining: 435ms\n",
      "887:\tlearn: 0.1235102\ttotal: 3.41s\tremaining: 431ms\n",
      "888:\tlearn: 0.1234416\ttotal: 3.42s\tremaining: 427ms\n",
      "889:\tlearn: 0.1234175\ttotal: 3.42s\tremaining: 423ms\n",
      "890:\tlearn: 0.1233751\ttotal: 3.42s\tremaining: 419ms\n",
      "891:\tlearn: 0.1233408\ttotal: 3.43s\tremaining: 415ms\n",
      "892:\tlearn: 0.1233197\ttotal: 3.43s\tremaining: 411ms\n",
      "893:\tlearn: 0.1231923\ttotal: 3.43s\tremaining: 407ms\n",
      "894:\tlearn: 0.1231860\ttotal: 3.44s\tremaining: 403ms\n",
      "895:\tlearn: 0.1231370\ttotal: 3.44s\tremaining: 399ms\n",
      "896:\tlearn: 0.1230823\ttotal: 3.44s\tremaining: 395ms\n",
      "897:\tlearn: 0.1230609\ttotal: 3.44s\tremaining: 391ms\n",
      "898:\tlearn: 0.1229159\ttotal: 3.45s\tremaining: 387ms\n",
      "899:\tlearn: 0.1228737\ttotal: 3.45s\tremaining: 383ms\n",
      "900:\tlearn: 0.1227889\ttotal: 3.45s\tremaining: 380ms\n",
      "901:\tlearn: 0.1227621\ttotal: 3.46s\tremaining: 376ms\n",
      "902:\tlearn: 0.1226956\ttotal: 3.46s\tremaining: 372ms\n",
      "903:\tlearn: 0.1226428\ttotal: 3.46s\tremaining: 368ms\n",
      "904:\tlearn: 0.1225720\ttotal: 3.47s\tremaining: 364ms\n",
      "905:\tlearn: 0.1225193\ttotal: 3.47s\tremaining: 360ms\n",
      "906:\tlearn: 0.1224927\ttotal: 3.48s\tremaining: 356ms\n",
      "907:\tlearn: 0.1224535\ttotal: 3.48s\tremaining: 353ms\n",
      "908:\tlearn: 0.1224048\ttotal: 3.48s\tremaining: 349ms\n",
      "909:\tlearn: 0.1223939\ttotal: 3.49s\tremaining: 345ms\n",
      "910:\tlearn: 0.1223378\ttotal: 3.49s\tremaining: 341ms\n",
      "911:\tlearn: 0.1223003\ttotal: 3.49s\tremaining: 337ms\n",
      "912:\tlearn: 0.1222166\ttotal: 3.5s\tremaining: 333ms\n",
      "913:\tlearn: 0.1221828\ttotal: 3.5s\tremaining: 329ms\n",
      "914:\tlearn: 0.1221199\ttotal: 3.5s\tremaining: 325ms\n",
      "915:\tlearn: 0.1220839\ttotal: 3.51s\tremaining: 322ms\n",
      "916:\tlearn: 0.1219654\ttotal: 3.51s\tremaining: 318ms\n",
      "917:\tlearn: 0.1219309\ttotal: 3.51s\tremaining: 314ms\n",
      "918:\tlearn: 0.1218961\ttotal: 3.51s\tremaining: 310ms\n",
      "919:\tlearn: 0.1218511\ttotal: 3.52s\tremaining: 306ms\n",
      "920:\tlearn: 0.1217603\ttotal: 3.52s\tremaining: 302ms\n",
      "921:\tlearn: 0.1217576\ttotal: 3.52s\tremaining: 298ms\n",
      "922:\tlearn: 0.1216984\ttotal: 3.52s\tremaining: 294ms\n",
      "923:\tlearn: 0.1216447\ttotal: 3.53s\tremaining: 290ms\n",
      "924:\tlearn: 0.1215821\ttotal: 3.53s\tremaining: 286ms\n",
      "925:\tlearn: 0.1215470\ttotal: 3.53s\tremaining: 282ms\n",
      "926:\tlearn: 0.1214224\ttotal: 3.54s\tremaining: 279ms\n",
      "927:\tlearn: 0.1213700\ttotal: 3.54s\tremaining: 275ms\n",
      "928:\tlearn: 0.1212754\ttotal: 3.54s\tremaining: 271ms\n",
      "929:\tlearn: 0.1212307\ttotal: 3.54s\tremaining: 267ms\n",
      "930:\tlearn: 0.1211762\ttotal: 3.55s\tremaining: 263ms\n",
      "931:\tlearn: 0.1211286\ttotal: 3.55s\tremaining: 259ms\n",
      "932:\tlearn: 0.1210602\ttotal: 3.55s\tremaining: 255ms\n",
      "933:\tlearn: 0.1210107\ttotal: 3.56s\tremaining: 251ms\n",
      "934:\tlearn: 0.1209403\ttotal: 3.56s\tremaining: 248ms\n",
      "935:\tlearn: 0.1209039\ttotal: 3.56s\tremaining: 244ms\n",
      "936:\tlearn: 0.1208488\ttotal: 3.57s\tremaining: 240ms\n",
      "937:\tlearn: 0.1208217\ttotal: 3.57s\tremaining: 236ms\n",
      "938:\tlearn: 0.1207737\ttotal: 3.57s\tremaining: 232ms\n",
      "939:\tlearn: 0.1206993\ttotal: 3.58s\tremaining: 228ms\n",
      "940:\tlearn: 0.1206207\ttotal: 3.58s\tremaining: 224ms\n",
      "941:\tlearn: 0.1205733\ttotal: 3.58s\tremaining: 220ms\n",
      "942:\tlearn: 0.1205005\ttotal: 3.58s\tremaining: 217ms\n",
      "943:\tlearn: 0.1204719\ttotal: 3.59s\tremaining: 213ms\n",
      "944:\tlearn: 0.1203932\ttotal: 3.59s\tremaining: 209ms\n",
      "945:\tlearn: 0.1203298\ttotal: 3.59s\tremaining: 205ms\n",
      "946:\tlearn: 0.1203013\ttotal: 3.6s\tremaining: 201ms\n",
      "947:\tlearn: 0.1202392\ttotal: 3.6s\tremaining: 197ms\n",
      "948:\tlearn: 0.1201848\ttotal: 3.6s\tremaining: 194ms\n",
      "949:\tlearn: 0.1200910\ttotal: 3.6s\tremaining: 190ms\n",
      "950:\tlearn: 0.1199899\ttotal: 3.61s\tremaining: 186ms\n",
      "951:\tlearn: 0.1199381\ttotal: 3.61s\tremaining: 182ms\n",
      "952:\tlearn: 0.1199092\ttotal: 3.61s\tremaining: 178ms\n",
      "953:\tlearn: 0.1198988\ttotal: 3.62s\tremaining: 174ms\n",
      "954:\tlearn: 0.1198810\ttotal: 3.62s\tremaining: 171ms\n",
      "955:\tlearn: 0.1198609\ttotal: 3.62s\tremaining: 167ms\n",
      "956:\tlearn: 0.1198189\ttotal: 3.63s\tremaining: 163ms\n",
      "957:\tlearn: 0.1197893\ttotal: 3.63s\tremaining: 159ms\n",
      "958:\tlearn: 0.1197532\ttotal: 3.63s\tremaining: 155ms\n",
      "959:\tlearn: 0.1197507\ttotal: 3.63s\tremaining: 151ms\n",
      "960:\tlearn: 0.1197287\ttotal: 3.64s\tremaining: 148ms\n",
      "961:\tlearn: 0.1197058\ttotal: 3.64s\tremaining: 144ms\n",
      "962:\tlearn: 0.1196656\ttotal: 3.65s\tremaining: 140ms\n",
      "963:\tlearn: 0.1196396\ttotal: 3.65s\tremaining: 136ms\n",
      "964:\tlearn: 0.1195771\ttotal: 3.65s\tremaining: 132ms\n",
      "965:\tlearn: 0.1195214\ttotal: 3.66s\tremaining: 129ms\n",
      "966:\tlearn: 0.1195186\ttotal: 3.66s\tremaining: 125ms\n",
      "967:\tlearn: 0.1194831\ttotal: 3.66s\tremaining: 121ms\n",
      "968:\tlearn: 0.1194248\ttotal: 3.67s\tremaining: 117ms\n",
      "969:\tlearn: 0.1193502\ttotal: 3.67s\tremaining: 113ms\n",
      "970:\tlearn: 0.1193454\ttotal: 3.67s\tremaining: 110ms\n",
      "971:\tlearn: 0.1192911\ttotal: 3.68s\tremaining: 106ms\n",
      "972:\tlearn: 0.1192434\ttotal: 3.68s\tremaining: 102ms\n",
      "973:\tlearn: 0.1192020\ttotal: 3.68s\tremaining: 98.3ms\n",
      "974:\tlearn: 0.1191587\ttotal: 3.68s\tremaining: 94.5ms\n",
      "975:\tlearn: 0.1190730\ttotal: 3.69s\tremaining: 90.7ms\n",
      "976:\tlearn: 0.1190342\ttotal: 3.69s\tremaining: 86.9ms\n",
      "977:\tlearn: 0.1189732\ttotal: 3.69s\tremaining: 83.1ms\n",
      "978:\tlearn: 0.1189543\ttotal: 3.7s\tremaining: 79.3ms\n",
      "979:\tlearn: 0.1188961\ttotal: 3.7s\tremaining: 75.5ms\n",
      "980:\tlearn: 0.1188375\ttotal: 3.7s\tremaining: 71.7ms\n",
      "981:\tlearn: 0.1187560\ttotal: 3.71s\tremaining: 67.9ms\n",
      "982:\tlearn: 0.1186955\ttotal: 3.71s\tremaining: 64.1ms\n",
      "983:\tlearn: 0.1186769\ttotal: 3.71s\tremaining: 60.4ms\n",
      "984:\tlearn: 0.1186319\ttotal: 3.71s\tremaining: 56.6ms\n",
      "985:\tlearn: 0.1186255\ttotal: 3.72s\tremaining: 52.8ms\n",
      "986:\tlearn: 0.1186022\ttotal: 3.72s\tremaining: 49ms\n",
      "987:\tlearn: 0.1185641\ttotal: 3.72s\tremaining: 45.2ms\n",
      "988:\tlearn: 0.1185535\ttotal: 3.73s\tremaining: 41.4ms\n",
      "989:\tlearn: 0.1185100\ttotal: 3.73s\tremaining: 37.7ms\n",
      "990:\tlearn: 0.1184525\ttotal: 3.73s\tremaining: 33.9ms\n",
      "991:\tlearn: 0.1183982\ttotal: 3.73s\tremaining: 30.1ms\n",
      "992:\tlearn: 0.1183277\ttotal: 3.74s\tremaining: 26.4ms\n",
      "993:\tlearn: 0.1182584\ttotal: 3.74s\tremaining: 22.6ms\n",
      "994:\tlearn: 0.1182001\ttotal: 3.74s\tremaining: 18.8ms\n",
      "995:\tlearn: 0.1181402\ttotal: 3.75s\tremaining: 15ms\n",
      "996:\tlearn: 0.1181280\ttotal: 3.75s\tremaining: 11.3ms\n",
      "997:\tlearn: 0.1181160\ttotal: 3.75s\tremaining: 7.52ms\n",
      "998:\tlearn: 0.1180519\ttotal: 3.75s\tremaining: 3.76ms\n",
      "999:\tlearn: 0.1180075\ttotal: 3.76s\tremaining: 0us\n"
     ]
    },
    {
     "data": {
      "text/plain": [
       "<catboost.core.CatBoostRegressor at 0x244edc64190>"
      ]
     },
     "execution_count": 115,
     "metadata": {},
     "output_type": "execute_result"
    }
   ],
   "source": [
    "model = CatBoostRegressor()\n",
    "model.fit(x_train_21, y_train_21)"
   ]
  },
  {
   "cell_type": "code",
   "execution_count": 116,
   "id": "2541db2b",
   "metadata": {},
   "outputs": [
    {
     "name": "stdout",
     "output_type": "stream",
     "text": [
      "MSE for CatBoost 2021 is: 30182586851.762394\n"
     ]
    }
   ],
   "source": [
    "y_pred_21 = model.predict(x_test_21)\n",
    "# Calculation of Mean Squared Error (MSE)\n",
    "mse = mean_squared_error(np.exp(y_test_21), np.exp(y_pred_21))\n",
    "print('MSE for CatBoost 2021 is: ' + str(mse))"
   ]
  },
  {
   "cell_type": "code",
   "execution_count": 117,
   "id": "745d9507",
   "metadata": {},
   "outputs": [
    {
     "name": "stdout",
     "output_type": "stream",
     "text": [
      "Accuracy of properties at +- 10% of actual prices is 0.45685279187817257\n"
     ]
    }
   ],
   "source": [
    "acc = accuracy_threshold(y_test_21, y_pred_21, 0.1)\n",
    "print('Accuracy of properties at +- 10% of actual prices is ' + str(acc))"
   ]
  },
  {
   "cell_type": "code",
   "execution_count": 118,
   "id": "99227aa2",
   "metadata": {},
   "outputs": [
    {
     "name": "stdout",
     "output_type": "stream",
     "text": [
      "Median Absolute Error:\n",
      "\n",
      "42165.95018879289\n"
     ]
    }
   ],
   "source": [
    "median_se = np.square(np.subtract(np.exp(y_test_21), np.exp(y_pred_21))).median() \n",
    " \n",
    "med = math.sqrt(median_se)\n",
    "print(\"Median Absolute Error:\\n\")\n",
    "print(med)"
   ]
  },
  {
   "cell_type": "code",
   "execution_count": 119,
   "id": "f51d9a36",
   "metadata": {},
   "outputs": [
    {
     "name": "stdout",
     "output_type": "stream",
     "text": [
      "Root Mean Square Error:\n",
      "\n",
      "173731.36404162148\n"
     ]
    }
   ],
   "source": [
    "mean = np.square(np.subtract(np.exp(y_test_21), np.exp(y_pred_21))).mean() \n",
    " \n",
    "mean = math.sqrt(mean)\n",
    "print(\"Root Mean Square Error:\\n\")\n",
    "print(mean)"
   ]
  },
  {
   "cell_type": "code",
   "execution_count": 120,
   "id": "6cf9500d",
   "metadata": {},
   "outputs": [
    {
     "name": "stdout",
     "output_type": "stream",
     "text": [
      "MAPE for CatBoost 2021 is: 0.2056051996491367\n"
     ]
    }
   ],
   "source": [
    "mape = mean_absolute_percentage_error(np.exp(y_test_21), np.exp(y_pred_21))\n",
    "print(\"MAPE for CatBoost 2021 is: \" + str(mape))"
   ]
  },
  {
   "cell_type": "code",
   "execution_count": 121,
   "id": "e9b65a1c",
   "metadata": {},
   "outputs": [],
   "source": [
    "cnames=['Algorithm', 'Year', 'RMSE', 'MSE', 'MEDAE', 'Accuracy', 'MAPE']\n",
    "df3 = pd.DataFrame(columns=cnames)\n",
    "\n",
    "df3 = df3.append({'Algorithm': 'CatBoost',\n",
    "            'Year': 2021,\n",
    "           'RMSE': mean,\n",
    "           'MSE': mse,\n",
    "           'MEDAE': med,\n",
    "           'Accuracy': acc,\n",
    "           'MAPE': mape       \n",
    "          }, ignore_index=True)"
   ]
  },
  {
   "cell_type": "markdown",
   "id": "f395f049",
   "metadata": {},
   "source": [
    "#### 2020"
   ]
  },
  {
   "cell_type": "code",
   "execution_count": 122,
   "id": "3efced64",
   "metadata": {},
   "outputs": [
    {
     "name": "stdout",
     "output_type": "stream",
     "text": [
      "Learning rate set to 0.045927\n",
      "0:\tlearn: 0.4304666\ttotal: 3.35ms\tremaining: 3.35s\n",
      "1:\tlearn: 0.4199561\ttotal: 6.75ms\tremaining: 3.37s\n",
      "2:\tlearn: 0.4095222\ttotal: 10.3ms\tremaining: 3.44s\n",
      "3:\tlearn: 0.3997342\ttotal: 19ms\tremaining: 4.74s\n",
      "4:\tlearn: 0.3905764\ttotal: 24.3ms\tremaining: 4.84s\n",
      "5:\tlearn: 0.3819147\ttotal: 28.9ms\tremaining: 4.79s\n",
      "6:\tlearn: 0.3734806\ttotal: 32.4ms\tremaining: 4.6s\n",
      "7:\tlearn: 0.3652558\ttotal: 36ms\tremaining: 4.46s\n",
      "8:\tlearn: 0.3580023\ttotal: 43.9ms\tremaining: 4.84s\n",
      "9:\tlearn: 0.3510108\ttotal: 47.6ms\tremaining: 4.71s\n",
      "10:\tlearn: 0.3446334\ttotal: 53.4ms\tremaining: 4.8s\n",
      "11:\tlearn: 0.3384010\ttotal: 57.6ms\tremaining: 4.74s\n",
      "12:\tlearn: 0.3325371\ttotal: 61.1ms\tremaining: 4.64s\n",
      "13:\tlearn: 0.3268172\ttotal: 64.5ms\tremaining: 4.54s\n",
      "14:\tlearn: 0.3218184\ttotal: 70.3ms\tremaining: 4.62s\n",
      "15:\tlearn: 0.3166481\ttotal: 73.8ms\tremaining: 4.54s\n",
      "16:\tlearn: 0.3120811\ttotal: 77.2ms\tremaining: 4.46s\n",
      "17:\tlearn: 0.3074966\ttotal: 80.6ms\tremaining: 4.39s\n",
      "18:\tlearn: 0.3035518\ttotal: 84.5ms\tremaining: 4.36s\n",
      "19:\tlearn: 0.3000629\ttotal: 87.9ms\tremaining: 4.31s\n",
      "20:\tlearn: 0.2964822\ttotal: 91.3ms\tremaining: 4.26s\n",
      "21:\tlearn: 0.2930737\ttotal: 95.4ms\tremaining: 4.24s\n",
      "22:\tlearn: 0.2897647\ttotal: 101ms\tremaining: 4.31s\n",
      "23:\tlearn: 0.2867058\ttotal: 105ms\tremaining: 4.26s\n",
      "24:\tlearn: 0.2836603\ttotal: 108ms\tremaining: 4.22s\n",
      "25:\tlearn: 0.2809216\ttotal: 116ms\tremaining: 4.34s\n",
      "26:\tlearn: 0.2786285\ttotal: 119ms\tremaining: 4.3s\n",
      "27:\tlearn: 0.2766284\ttotal: 123ms\tremaining: 4.26s\n",
      "28:\tlearn: 0.2740708\ttotal: 126ms\tremaining: 4.23s\n",
      "29:\tlearn: 0.2719051\ttotal: 131ms\tremaining: 4.25s\n",
      "30:\tlearn: 0.2699651\ttotal: 135ms\tremaining: 4.21s\n",
      "31:\tlearn: 0.2679626\ttotal: 138ms\tremaining: 4.18s\n",
      "32:\tlearn: 0.2661544\ttotal: 142ms\tremaining: 4.16s\n",
      "33:\tlearn: 0.2645839\ttotal: 146ms\tremaining: 4.15s\n",
      "34:\tlearn: 0.2628884\ttotal: 150ms\tremaining: 4.12s\n",
      "35:\tlearn: 0.2616173\ttotal: 154ms\tremaining: 4.11s\n",
      "36:\tlearn: 0.2602286\ttotal: 157ms\tremaining: 4.09s\n",
      "37:\tlearn: 0.2585554\ttotal: 161ms\tremaining: 4.08s\n",
      "38:\tlearn: 0.2568275\ttotal: 165ms\tremaining: 4.05s\n",
      "39:\tlearn: 0.2553384\ttotal: 170ms\tremaining: 4.07s\n",
      "40:\tlearn: 0.2540953\ttotal: 173ms\tremaining: 4.05s\n",
      "41:\tlearn: 0.2529291\ttotal: 177ms\tremaining: 4.04s\n",
      "42:\tlearn: 0.2518261\ttotal: 180ms\tremaining: 4.02s\n",
      "43:\tlearn: 0.2507133\ttotal: 185ms\tremaining: 4.02s\n",
      "44:\tlearn: 0.2497190\ttotal: 188ms\tremaining: 4s\n",
      "45:\tlearn: 0.2487006\ttotal: 193ms\tremaining: 3.99s\n",
      "46:\tlearn: 0.2476944\ttotal: 199ms\tremaining: 4.03s\n",
      "47:\tlearn: 0.2466231\ttotal: 205ms\tremaining: 4.07s\n",
      "48:\tlearn: 0.2457320\ttotal: 209ms\tremaining: 4.05s\n",
      "49:\tlearn: 0.2450150\ttotal: 214ms\tremaining: 4.06s\n",
      "50:\tlearn: 0.2441933\ttotal: 217ms\tremaining: 4.04s\n",
      "51:\tlearn: 0.2434465\ttotal: 221ms\tremaining: 4.03s\n",
      "52:\tlearn: 0.2428983\ttotal: 225ms\tremaining: 4.02s\n",
      "53:\tlearn: 0.2423283\ttotal: 229ms\tremaining: 4s\n",
      "54:\tlearn: 0.2416109\ttotal: 232ms\tremaining: 3.99s\n",
      "55:\tlearn: 0.2411544\ttotal: 236ms\tremaining: 3.98s\n",
      "56:\tlearn: 0.2405922\ttotal: 241ms\tremaining: 3.98s\n",
      "57:\tlearn: 0.2399512\ttotal: 244ms\tremaining: 3.97s\n",
      "58:\tlearn: 0.2392506\ttotal: 248ms\tremaining: 3.95s\n",
      "59:\tlearn: 0.2384295\ttotal: 251ms\tremaining: 3.94s\n",
      "60:\tlearn: 0.2377935\ttotal: 255ms\tremaining: 3.92s\n",
      "61:\tlearn: 0.2371834\ttotal: 258ms\tremaining: 3.91s\n",
      "62:\tlearn: 0.2366184\ttotal: 262ms\tremaining: 3.89s\n",
      "63:\tlearn: 0.2362597\ttotal: 265ms\tremaining: 3.88s\n",
      "64:\tlearn: 0.2356820\ttotal: 270ms\tremaining: 3.89s\n",
      "65:\tlearn: 0.2351445\ttotal: 274ms\tremaining: 3.87s\n",
      "66:\tlearn: 0.2346893\ttotal: 279ms\tremaining: 3.89s\n",
      "67:\tlearn: 0.2342900\ttotal: 288ms\tremaining: 3.94s\n",
      "68:\tlearn: 0.2336159\ttotal: 291ms\tremaining: 3.93s\n",
      "69:\tlearn: 0.2328955\ttotal: 294ms\tremaining: 3.91s\n",
      "70:\tlearn: 0.2324546\ttotal: 300ms\tremaining: 3.92s\n",
      "71:\tlearn: 0.2320226\ttotal: 303ms\tremaining: 3.91s\n",
      "72:\tlearn: 0.2317481\ttotal: 306ms\tremaining: 3.89s\n",
      "73:\tlearn: 0.2313005\ttotal: 310ms\tremaining: 3.88s\n",
      "74:\tlearn: 0.2310463\ttotal: 314ms\tremaining: 3.88s\n",
      "75:\tlearn: 0.2308182\ttotal: 318ms\tremaining: 3.86s\n",
      "76:\tlearn: 0.2304050\ttotal: 321ms\tremaining: 3.85s\n",
      "77:\tlearn: 0.2302066\ttotal: 324ms\tremaining: 3.83s\n",
      "78:\tlearn: 0.2298414\ttotal: 328ms\tremaining: 3.83s\n",
      "79:\tlearn: 0.2295616\ttotal: 332ms\tremaining: 3.81s\n",
      "80:\tlearn: 0.2290430\ttotal: 335ms\tremaining: 3.8s\n",
      "81:\tlearn: 0.2286235\ttotal: 340ms\tremaining: 3.8s\n",
      "82:\tlearn: 0.2280639\ttotal: 344ms\tremaining: 3.8s\n",
      "83:\tlearn: 0.2278112\ttotal: 350ms\tremaining: 3.81s\n",
      "84:\tlearn: 0.2272548\ttotal: 357ms\tremaining: 3.84s\n",
      "85:\tlearn: 0.2269518\ttotal: 362ms\tremaining: 3.84s\n",
      "86:\tlearn: 0.2265217\ttotal: 365ms\tremaining: 3.83s\n",
      "87:\tlearn: 0.2259760\ttotal: 370ms\tremaining: 3.83s\n",
      "88:\tlearn: 0.2256652\ttotal: 374ms\tremaining: 3.83s\n",
      "89:\tlearn: 0.2254463\ttotal: 378ms\tremaining: 3.82s\n",
      "90:\tlearn: 0.2251796\ttotal: 381ms\tremaining: 3.81s\n",
      "91:\tlearn: 0.2247804\ttotal: 386ms\tremaining: 3.81s\n",
      "92:\tlearn: 0.2242350\ttotal: 390ms\tremaining: 3.81s\n",
      "93:\tlearn: 0.2238142\ttotal: 394ms\tremaining: 3.8s\n",
      "94:\tlearn: 0.2235441\ttotal: 397ms\tremaining: 3.79s\n",
      "95:\tlearn: 0.2233478\ttotal: 401ms\tremaining: 3.77s\n",
      "96:\tlearn: 0.2229184\ttotal: 405ms\tremaining: 3.77s\n",
      "97:\tlearn: 0.2227570\ttotal: 408ms\tremaining: 3.76s\n",
      "98:\tlearn: 0.2224630\ttotal: 413ms\tremaining: 3.76s\n",
      "99:\tlearn: 0.2221358\ttotal: 416ms\tremaining: 3.75s\n",
      "100:\tlearn: 0.2218907\ttotal: 420ms\tremaining: 3.74s\n",
      "101:\tlearn: 0.2217025\ttotal: 423ms\tremaining: 3.73s\n",
      "102:\tlearn: 0.2215394\ttotal: 428ms\tremaining: 3.73s\n",
      "103:\tlearn: 0.2212562\ttotal: 434ms\tremaining: 3.74s\n",
      "104:\tlearn: 0.2208232\ttotal: 438ms\tremaining: 3.73s\n",
      "105:\tlearn: 0.2205931\ttotal: 443ms\tremaining: 3.73s\n",
      "106:\tlearn: 0.2203248\ttotal: 446ms\tremaining: 3.72s\n",
      "107:\tlearn: 0.2199992\ttotal: 450ms\tremaining: 3.72s\n",
      "108:\tlearn: 0.2197007\ttotal: 453ms\tremaining: 3.71s\n",
      "109:\tlearn: 0.2193249\ttotal: 457ms\tremaining: 3.7s\n",
      "110:\tlearn: 0.2190796\ttotal: 460ms\tremaining: 3.69s\n",
      "111:\tlearn: 0.2188467\ttotal: 464ms\tremaining: 3.68s\n",
      "112:\tlearn: 0.2185328\ttotal: 468ms\tremaining: 3.67s\n",
      "113:\tlearn: 0.2184644\ttotal: 469ms\tremaining: 3.65s\n",
      "114:\tlearn: 0.2182012\ttotal: 473ms\tremaining: 3.64s\n",
      "115:\tlearn: 0.2180336\ttotal: 476ms\tremaining: 3.63s\n",
      "116:\tlearn: 0.2178728\ttotal: 480ms\tremaining: 3.62s\n",
      "117:\tlearn: 0.2176697\ttotal: 484ms\tremaining: 3.62s\n",
      "118:\tlearn: 0.2173435\ttotal: 487ms\tremaining: 3.61s\n",
      "119:\tlearn: 0.2170879\ttotal: 491ms\tremaining: 3.6s\n",
      "120:\tlearn: 0.2168127\ttotal: 494ms\tremaining: 3.59s\n",
      "121:\tlearn: 0.2165996\ttotal: 498ms\tremaining: 3.58s\n",
      "122:\tlearn: 0.2164424\ttotal: 501ms\tremaining: 3.57s\n",
      "123:\tlearn: 0.2161897\ttotal: 505ms\tremaining: 3.56s\n",
      "124:\tlearn: 0.2159543\ttotal: 508ms\tremaining: 3.56s\n",
      "125:\tlearn: 0.2158332\ttotal: 513ms\tremaining: 3.56s\n",
      "126:\tlearn: 0.2156827\ttotal: 517ms\tremaining: 3.55s\n",
      "127:\tlearn: 0.2153700\ttotal: 525ms\tremaining: 3.58s\n",
      "128:\tlearn: 0.2152168\ttotal: 531ms\tremaining: 3.58s\n",
      "129:\tlearn: 0.2151070\ttotal: 534ms\tremaining: 3.57s\n",
      "130:\tlearn: 0.2148293\ttotal: 539ms\tremaining: 3.57s\n",
      "131:\tlearn: 0.2145657\ttotal: 543ms\tremaining: 3.57s\n",
      "132:\tlearn: 0.2143000\ttotal: 546ms\tremaining: 3.56s\n",
      "133:\tlearn: 0.2141082\ttotal: 550ms\tremaining: 3.55s\n",
      "134:\tlearn: 0.2139081\ttotal: 555ms\tremaining: 3.56s\n",
      "135:\tlearn: 0.2135917\ttotal: 558ms\tremaining: 3.55s\n",
      "136:\tlearn: 0.2133549\ttotal: 562ms\tremaining: 3.54s\n",
      "137:\tlearn: 0.2132084\ttotal: 565ms\tremaining: 3.53s\n",
      "138:\tlearn: 0.2128780\ttotal: 569ms\tremaining: 3.52s\n",
      "139:\tlearn: 0.2127220\ttotal: 572ms\tremaining: 3.52s\n",
      "140:\tlearn: 0.2125857\ttotal: 576ms\tremaining: 3.51s\n",
      "141:\tlearn: 0.2123566\ttotal: 579ms\tremaining: 3.5s\n",
      "142:\tlearn: 0.2121468\ttotal: 584ms\tremaining: 3.5s\n",
      "143:\tlearn: 0.2119814\ttotal: 588ms\tremaining: 3.49s\n",
      "144:\tlearn: 0.2116888\ttotal: 591ms\tremaining: 3.49s\n",
      "145:\tlearn: 0.2114395\ttotal: 597ms\tremaining: 3.49s\n",
      "146:\tlearn: 0.2113817\ttotal: 602ms\tremaining: 3.5s\n",
      "147:\tlearn: 0.2109014\ttotal: 606ms\tremaining: 3.49s\n",
      "148:\tlearn: 0.2106415\ttotal: 611ms\tremaining: 3.49s\n",
      "149:\tlearn: 0.2105633\ttotal: 615ms\tremaining: 3.49s\n",
      "150:\tlearn: 0.2103507\ttotal: 619ms\tremaining: 3.48s\n",
      "151:\tlearn: 0.2102216\ttotal: 622ms\tremaining: 3.47s\n",
      "152:\tlearn: 0.2099588\ttotal: 626ms\tremaining: 3.46s\n",
      "153:\tlearn: 0.2097747\ttotal: 629ms\tremaining: 3.46s\n",
      "154:\tlearn: 0.2094860\ttotal: 632ms\tremaining: 3.45s\n",
      "155:\tlearn: 0.2093403\ttotal: 636ms\tremaining: 3.44s\n",
      "156:\tlearn: 0.2090506\ttotal: 639ms\tremaining: 3.43s\n",
      "157:\tlearn: 0.2088669\ttotal: 643ms\tremaining: 3.42s\n",
      "158:\tlearn: 0.2085782\ttotal: 647ms\tremaining: 3.42s\n",
      "159:\tlearn: 0.2082974\ttotal: 650ms\tremaining: 3.41s\n",
      "160:\tlearn: 0.2080860\ttotal: 654ms\tremaining: 3.41s\n",
      "161:\tlearn: 0.2075961\ttotal: 657ms\tremaining: 3.4s\n",
      "162:\tlearn: 0.2074056\ttotal: 661ms\tremaining: 3.4s\n",
      "163:\tlearn: 0.2071978\ttotal: 665ms\tremaining: 3.39s\n",
      "164:\tlearn: 0.2070271\ttotal: 668ms\tremaining: 3.38s\n",
      "165:\tlearn: 0.2068513\ttotal: 671ms\tremaining: 3.37s\n",
      "166:\tlearn: 0.2066398\ttotal: 676ms\tremaining: 3.37s\n"
     ]
    },
    {
     "name": "stdout",
     "output_type": "stream",
     "text": [
      "167:\tlearn: 0.2064244\ttotal: 682ms\tremaining: 3.38s\n",
      "168:\tlearn: 0.2062854\ttotal: 686ms\tremaining: 3.37s\n",
      "169:\tlearn: 0.2060760\ttotal: 690ms\tremaining: 3.37s\n",
      "170:\tlearn: 0.2059807\ttotal: 703ms\tremaining: 3.41s\n",
      "171:\tlearn: 0.2057589\ttotal: 712ms\tremaining: 3.43s\n",
      "172:\tlearn: 0.2054179\ttotal: 718ms\tremaining: 3.43s\n",
      "173:\tlearn: 0.2052912\ttotal: 724ms\tremaining: 3.43s\n",
      "174:\tlearn: 0.2050579\ttotal: 730ms\tremaining: 3.44s\n",
      "175:\tlearn: 0.2047798\ttotal: 734ms\tremaining: 3.44s\n",
      "176:\tlearn: 0.2046274\ttotal: 740ms\tremaining: 3.44s\n",
      "177:\tlearn: 0.2045068\ttotal: 745ms\tremaining: 3.44s\n",
      "178:\tlearn: 0.2043618\ttotal: 750ms\tremaining: 3.44s\n",
      "179:\tlearn: 0.2041143\ttotal: 759ms\tremaining: 3.46s\n",
      "180:\tlearn: 0.2037821\ttotal: 764ms\tremaining: 3.45s\n",
      "181:\tlearn: 0.2036503\ttotal: 770ms\tremaining: 3.46s\n",
      "182:\tlearn: 0.2034980\ttotal: 775ms\tremaining: 3.46s\n",
      "183:\tlearn: 0.2032935\ttotal: 780ms\tremaining: 3.46s\n",
      "184:\tlearn: 0.2029720\ttotal: 787ms\tremaining: 3.46s\n",
      "185:\tlearn: 0.2027074\ttotal: 791ms\tremaining: 3.46s\n",
      "186:\tlearn: 0.2025414\ttotal: 795ms\tremaining: 3.46s\n",
      "187:\tlearn: 0.2024450\ttotal: 800ms\tremaining: 3.46s\n",
      "188:\tlearn: 0.2022695\ttotal: 804ms\tremaining: 3.45s\n",
      "189:\tlearn: 0.2021215\ttotal: 808ms\tremaining: 3.45s\n",
      "190:\tlearn: 0.2018267\ttotal: 815ms\tremaining: 3.45s\n",
      "191:\tlearn: 0.2015684\ttotal: 819ms\tremaining: 3.45s\n",
      "192:\tlearn: 0.2013436\ttotal: 824ms\tremaining: 3.44s\n",
      "193:\tlearn: 0.2010573\ttotal: 828ms\tremaining: 3.44s\n",
      "194:\tlearn: 0.2009795\ttotal: 832ms\tremaining: 3.44s\n",
      "195:\tlearn: 0.2007176\ttotal: 837ms\tremaining: 3.43s\n",
      "196:\tlearn: 0.2004774\ttotal: 841ms\tremaining: 3.43s\n",
      "197:\tlearn: 0.2003782\ttotal: 846ms\tremaining: 3.43s\n",
      "198:\tlearn: 0.2002228\ttotal: 851ms\tremaining: 3.42s\n",
      "199:\tlearn: 0.1998608\ttotal: 856ms\tremaining: 3.42s\n",
      "200:\tlearn: 0.1997690\ttotal: 862ms\tremaining: 3.42s\n",
      "201:\tlearn: 0.1996915\ttotal: 867ms\tremaining: 3.42s\n",
      "202:\tlearn: 0.1993580\ttotal: 870ms\tremaining: 3.42s\n",
      "203:\tlearn: 0.1991362\ttotal: 874ms\tremaining: 3.41s\n",
      "204:\tlearn: 0.1988738\ttotal: 878ms\tremaining: 3.4s\n",
      "205:\tlearn: 0.1988357\ttotal: 883ms\tremaining: 3.4s\n",
      "206:\tlearn: 0.1986819\ttotal: 886ms\tremaining: 3.39s\n",
      "207:\tlearn: 0.1983209\ttotal: 890ms\tremaining: 3.39s\n",
      "208:\tlearn: 0.1982390\ttotal: 896ms\tremaining: 3.39s\n",
      "209:\tlearn: 0.1979531\ttotal: 899ms\tremaining: 3.38s\n",
      "210:\tlearn: 0.1977935\ttotal: 902ms\tremaining: 3.37s\n",
      "211:\tlearn: 0.1976701\ttotal: 906ms\tremaining: 3.37s\n",
      "212:\tlearn: 0.1975059\ttotal: 909ms\tremaining: 3.36s\n",
      "213:\tlearn: 0.1974286\ttotal: 912ms\tremaining: 3.35s\n",
      "214:\tlearn: 0.1973456\ttotal: 916ms\tremaining: 3.34s\n",
      "215:\tlearn: 0.1972161\ttotal: 920ms\tremaining: 3.34s\n",
      "216:\tlearn: 0.1970835\ttotal: 924ms\tremaining: 3.33s\n",
      "217:\tlearn: 0.1970033\ttotal: 928ms\tremaining: 3.33s\n",
      "218:\tlearn: 0.1969084\ttotal: 931ms\tremaining: 3.32s\n",
      "219:\tlearn: 0.1968331\ttotal: 935ms\tremaining: 3.31s\n",
      "220:\tlearn: 0.1966157\ttotal: 939ms\tremaining: 3.31s\n",
      "221:\tlearn: 0.1964441\ttotal: 942ms\tremaining: 3.3s\n",
      "222:\tlearn: 0.1963852\ttotal: 945ms\tremaining: 3.29s\n",
      "223:\tlearn: 0.1962198\ttotal: 947ms\tremaining: 3.28s\n",
      "224:\tlearn: 0.1961655\ttotal: 951ms\tremaining: 3.27s\n",
      "225:\tlearn: 0.1961259\ttotal: 955ms\tremaining: 3.27s\n",
      "226:\tlearn: 0.1960206\ttotal: 959ms\tremaining: 3.27s\n",
      "227:\tlearn: 0.1959003\ttotal: 962ms\tremaining: 3.26s\n",
      "228:\tlearn: 0.1958319\ttotal: 967ms\tremaining: 3.25s\n",
      "229:\tlearn: 0.1956080\ttotal: 970ms\tremaining: 3.25s\n",
      "230:\tlearn: 0.1954553\ttotal: 974ms\tremaining: 3.24s\n",
      "231:\tlearn: 0.1953359\ttotal: 977ms\tremaining: 3.23s\n",
      "232:\tlearn: 0.1951847\ttotal: 981ms\tremaining: 3.23s\n",
      "233:\tlearn: 0.1951253\ttotal: 985ms\tremaining: 3.22s\n",
      "234:\tlearn: 0.1948817\ttotal: 988ms\tremaining: 3.21s\n",
      "235:\tlearn: 0.1946703\ttotal: 991ms\tremaining: 3.21s\n",
      "236:\tlearn: 0.1944698\ttotal: 994ms\tremaining: 3.2s\n",
      "237:\tlearn: 0.1942742\ttotal: 998ms\tremaining: 3.19s\n",
      "238:\tlearn: 0.1941039\ttotal: 1s\tremaining: 3.19s\n",
      "239:\tlearn: 0.1936599\ttotal: 1s\tremaining: 3.18s\n",
      "240:\tlearn: 0.1934683\ttotal: 1.01s\tremaining: 3.18s\n",
      "241:\tlearn: 0.1932521\ttotal: 1.01s\tremaining: 3.17s\n",
      "242:\tlearn: 0.1930907\ttotal: 1.02s\tremaining: 3.17s\n",
      "243:\tlearn: 0.1929077\ttotal: 1.02s\tremaining: 3.16s\n",
      "244:\tlearn: 0.1927991\ttotal: 1.03s\tremaining: 3.16s\n",
      "245:\tlearn: 0.1926404\ttotal: 1.03s\tremaining: 3.16s\n",
      "246:\tlearn: 0.1925639\ttotal: 1.03s\tremaining: 3.15s\n",
      "247:\tlearn: 0.1924204\ttotal: 1.04s\tremaining: 3.15s\n",
      "248:\tlearn: 0.1921863\ttotal: 1.04s\tremaining: 3.15s\n",
      "249:\tlearn: 0.1919677\ttotal: 1.05s\tremaining: 3.14s\n",
      "250:\tlearn: 0.1919255\ttotal: 1.05s\tremaining: 3.13s\n",
      "251:\tlearn: 0.1916999\ttotal: 1.05s\tremaining: 3.13s\n",
      "252:\tlearn: 0.1914849\ttotal: 1.06s\tremaining: 3.13s\n",
      "253:\tlearn: 0.1912744\ttotal: 1.06s\tremaining: 3.12s\n",
      "254:\tlearn: 0.1910867\ttotal: 1.06s\tremaining: 3.11s\n",
      "255:\tlearn: 0.1909462\ttotal: 1.07s\tremaining: 3.11s\n",
      "256:\tlearn: 0.1909161\ttotal: 1.07s\tremaining: 3.1s\n",
      "257:\tlearn: 0.1908621\ttotal: 1.08s\tremaining: 3.1s\n",
      "258:\tlearn: 0.1907212\ttotal: 1.08s\tremaining: 3.1s\n",
      "259:\tlearn: 0.1906059\ttotal: 1.08s\tremaining: 3.09s\n",
      "260:\tlearn: 0.1904243\ttotal: 1.09s\tremaining: 3.08s\n",
      "261:\tlearn: 0.1901793\ttotal: 1.09s\tremaining: 3.08s\n",
      "262:\tlearn: 0.1899395\ttotal: 1.1s\tremaining: 3.07s\n",
      "263:\tlearn: 0.1898406\ttotal: 1.1s\tremaining: 3.07s\n",
      "264:\tlearn: 0.1896657\ttotal: 1.1s\tremaining: 3.06s\n",
      "265:\tlearn: 0.1895515\ttotal: 1.11s\tremaining: 3.06s\n",
      "266:\tlearn: 0.1894852\ttotal: 1.11s\tremaining: 3.05s\n",
      "267:\tlearn: 0.1894349\ttotal: 1.11s\tremaining: 3.04s\n",
      "268:\tlearn: 0.1892403\ttotal: 1.12s\tremaining: 3.04s\n",
      "269:\tlearn: 0.1890420\ttotal: 1.12s\tremaining: 3.03s\n",
      "270:\tlearn: 0.1888465\ttotal: 1.13s\tremaining: 3.03s\n",
      "271:\tlearn: 0.1886712\ttotal: 1.13s\tremaining: 3.02s\n",
      "272:\tlearn: 0.1885361\ttotal: 1.13s\tremaining: 3.02s\n",
      "273:\tlearn: 0.1884298\ttotal: 1.14s\tremaining: 3.01s\n",
      "274:\tlearn: 0.1883548\ttotal: 1.14s\tremaining: 3s\n",
      "275:\tlearn: 0.1881270\ttotal: 1.14s\tremaining: 3s\n",
      "276:\tlearn: 0.1878276\ttotal: 1.15s\tremaining: 2.99s\n",
      "277:\tlearn: 0.1877496\ttotal: 1.15s\tremaining: 2.99s\n",
      "278:\tlearn: 0.1877147\ttotal: 1.15s\tremaining: 2.98s\n",
      "279:\tlearn: 0.1874626\ttotal: 1.16s\tremaining: 2.98s\n",
      "280:\tlearn: 0.1873396\ttotal: 1.16s\tremaining: 2.97s\n",
      "281:\tlearn: 0.1870900\ttotal: 1.17s\tremaining: 2.97s\n",
      "282:\tlearn: 0.1869441\ttotal: 1.17s\tremaining: 2.96s\n",
      "283:\tlearn: 0.1868320\ttotal: 1.17s\tremaining: 2.96s\n",
      "284:\tlearn: 0.1865908\ttotal: 1.17s\tremaining: 2.95s\n",
      "285:\tlearn: 0.1863342\ttotal: 1.18s\tremaining: 2.94s\n",
      "286:\tlearn: 0.1862296\ttotal: 1.18s\tremaining: 2.93s\n",
      "287:\tlearn: 0.1861624\ttotal: 1.18s\tremaining: 2.93s\n",
      "288:\tlearn: 0.1860446\ttotal: 1.19s\tremaining: 2.92s\n",
      "289:\tlearn: 0.1858037\ttotal: 1.19s\tremaining: 2.91s\n",
      "290:\tlearn: 0.1855939\ttotal: 1.19s\tremaining: 2.9s\n",
      "291:\tlearn: 0.1855449\ttotal: 1.2s\tremaining: 2.9s\n",
      "292:\tlearn: 0.1853814\ttotal: 1.2s\tremaining: 2.9s\n",
      "293:\tlearn: 0.1850010\ttotal: 1.2s\tremaining: 2.89s\n",
      "294:\tlearn: 0.1847532\ttotal: 1.21s\tremaining: 2.88s\n",
      "295:\tlearn: 0.1845929\ttotal: 1.21s\tremaining: 2.88s\n",
      "296:\tlearn: 0.1843964\ttotal: 1.21s\tremaining: 2.87s\n",
      "297:\tlearn: 0.1842299\ttotal: 1.22s\tremaining: 2.87s\n",
      "298:\tlearn: 0.1841014\ttotal: 1.22s\tremaining: 2.86s\n",
      "299:\tlearn: 0.1838744\ttotal: 1.23s\tremaining: 2.86s\n",
      "300:\tlearn: 0.1838319\ttotal: 1.23s\tremaining: 2.86s\n",
      "301:\tlearn: 0.1837906\ttotal: 1.24s\tremaining: 2.85s\n",
      "302:\tlearn: 0.1835643\ttotal: 1.24s\tremaining: 2.86s\n",
      "303:\tlearn: 0.1834521\ttotal: 1.25s\tremaining: 2.85s\n",
      "304:\tlearn: 0.1833093\ttotal: 1.25s\tremaining: 2.85s\n",
      "305:\tlearn: 0.1831604\ttotal: 1.25s\tremaining: 2.85s\n",
      "306:\tlearn: 0.1829831\ttotal: 1.26s\tremaining: 2.84s\n",
      "307:\tlearn: 0.1827624\ttotal: 1.26s\tremaining: 2.83s\n",
      "308:\tlearn: 0.1825593\ttotal: 1.26s\tremaining: 2.83s\n",
      "309:\tlearn: 0.1823230\ttotal: 1.27s\tremaining: 2.83s\n",
      "310:\tlearn: 0.1820888\ttotal: 1.27s\tremaining: 2.82s\n",
      "311:\tlearn: 0.1820495\ttotal: 1.28s\tremaining: 2.82s\n",
      "312:\tlearn: 0.1819158\ttotal: 1.28s\tremaining: 2.81s\n",
      "313:\tlearn: 0.1818933\ttotal: 1.28s\tremaining: 2.81s\n",
      "314:\tlearn: 0.1817667\ttotal: 1.29s\tremaining: 2.8s\n",
      "315:\tlearn: 0.1817287\ttotal: 1.29s\tremaining: 2.8s\n",
      "316:\tlearn: 0.1815245\ttotal: 1.3s\tremaining: 2.8s\n",
      "317:\tlearn: 0.1815029\ttotal: 1.3s\tremaining: 2.79s\n",
      "318:\tlearn: 0.1813342\ttotal: 1.3s\tremaining: 2.79s\n",
      "319:\tlearn: 0.1811325\ttotal: 1.31s\tremaining: 2.78s\n",
      "320:\tlearn: 0.1809788\ttotal: 1.31s\tremaining: 2.77s\n",
      "321:\tlearn: 0.1807579\ttotal: 1.32s\tremaining: 2.77s\n",
      "322:\tlearn: 0.1807001\ttotal: 1.32s\tremaining: 2.77s\n",
      "323:\tlearn: 0.1806006\ttotal: 1.32s\tremaining: 2.76s\n",
      "324:\tlearn: 0.1803595\ttotal: 1.33s\tremaining: 2.75s\n",
      "325:\tlearn: 0.1802100\ttotal: 1.33s\tremaining: 2.75s\n",
      "326:\tlearn: 0.1801512\ttotal: 1.33s\tremaining: 2.74s\n",
      "327:\tlearn: 0.1800770\ttotal: 1.34s\tremaining: 2.74s\n",
      "328:\tlearn: 0.1799606\ttotal: 1.34s\tremaining: 2.74s\n",
      "329:\tlearn: 0.1798250\ttotal: 1.34s\tremaining: 2.73s\n",
      "330:\tlearn: 0.1797549\ttotal: 1.35s\tremaining: 2.73s\n",
      "331:\tlearn: 0.1796445\ttotal: 1.35s\tremaining: 2.72s\n",
      "332:\tlearn: 0.1794989\ttotal: 1.35s\tremaining: 2.71s\n",
      "333:\tlearn: 0.1793353\ttotal: 1.36s\tremaining: 2.71s\n",
      "334:\tlearn: 0.1791399\ttotal: 1.36s\tremaining: 2.7s\n"
     ]
    },
    {
     "name": "stdout",
     "output_type": "stream",
     "text": [
      "335:\tlearn: 0.1789334\ttotal: 1.36s\tremaining: 2.7s\n",
      "336:\tlearn: 0.1787169\ttotal: 1.37s\tremaining: 2.69s\n",
      "337:\tlearn: 0.1786185\ttotal: 1.37s\tremaining: 2.69s\n",
      "338:\tlearn: 0.1785215\ttotal: 1.37s\tremaining: 2.68s\n",
      "339:\tlearn: 0.1784263\ttotal: 1.38s\tremaining: 2.67s\n",
      "340:\tlearn: 0.1783149\ttotal: 1.38s\tremaining: 2.67s\n",
      "341:\tlearn: 0.1781679\ttotal: 1.39s\tremaining: 2.67s\n",
      "342:\tlearn: 0.1780266\ttotal: 1.39s\tremaining: 2.66s\n",
      "343:\tlearn: 0.1779416\ttotal: 1.39s\tremaining: 2.66s\n",
      "344:\tlearn: 0.1778517\ttotal: 1.4s\tremaining: 2.65s\n",
      "345:\tlearn: 0.1778319\ttotal: 1.4s\tremaining: 2.65s\n",
      "346:\tlearn: 0.1778001\ttotal: 1.4s\tremaining: 2.64s\n",
      "347:\tlearn: 0.1774816\ttotal: 1.41s\tremaining: 2.64s\n",
      "348:\tlearn: 0.1773069\ttotal: 1.41s\tremaining: 2.64s\n",
      "349:\tlearn: 0.1772372\ttotal: 1.42s\tremaining: 2.63s\n",
      "350:\tlearn: 0.1771727\ttotal: 1.42s\tremaining: 2.63s\n",
      "351:\tlearn: 0.1771246\ttotal: 1.43s\tremaining: 2.62s\n",
      "352:\tlearn: 0.1770362\ttotal: 1.43s\tremaining: 2.62s\n",
      "353:\tlearn: 0.1768843\ttotal: 1.43s\tremaining: 2.61s\n",
      "354:\tlearn: 0.1767522\ttotal: 1.44s\tremaining: 2.61s\n",
      "355:\tlearn: 0.1766155\ttotal: 1.44s\tremaining: 2.61s\n",
      "356:\tlearn: 0.1764016\ttotal: 1.44s\tremaining: 2.6s\n",
      "357:\tlearn: 0.1763176\ttotal: 1.45s\tremaining: 2.6s\n",
      "358:\tlearn: 0.1761174\ttotal: 1.45s\tremaining: 2.59s\n",
      "359:\tlearn: 0.1760292\ttotal: 1.46s\tremaining: 2.59s\n",
      "360:\tlearn: 0.1759531\ttotal: 1.46s\tremaining: 2.58s\n",
      "361:\tlearn: 0.1759060\ttotal: 1.46s\tremaining: 2.58s\n",
      "362:\tlearn: 0.1758877\ttotal: 1.47s\tremaining: 2.58s\n",
      "363:\tlearn: 0.1758019\ttotal: 1.47s\tremaining: 2.57s\n",
      "364:\tlearn: 0.1756508\ttotal: 1.48s\tremaining: 2.57s\n",
      "365:\tlearn: 0.1754525\ttotal: 1.48s\tremaining: 2.56s\n",
      "366:\tlearn: 0.1753669\ttotal: 1.48s\tremaining: 2.56s\n",
      "367:\tlearn: 0.1753495\ttotal: 1.49s\tremaining: 2.55s\n",
      "368:\tlearn: 0.1751717\ttotal: 1.49s\tremaining: 2.55s\n",
      "369:\tlearn: 0.1749958\ttotal: 1.49s\tremaining: 2.54s\n",
      "370:\tlearn: 0.1748843\ttotal: 1.5s\tremaining: 2.54s\n",
      "371:\tlearn: 0.1746972\ttotal: 1.5s\tremaining: 2.53s\n",
      "372:\tlearn: 0.1746278\ttotal: 1.5s\tremaining: 2.53s\n",
      "373:\tlearn: 0.1745881\ttotal: 1.51s\tremaining: 2.52s\n",
      "374:\tlearn: 0.1745602\ttotal: 1.51s\tremaining: 2.52s\n",
      "375:\tlearn: 0.1743801\ttotal: 1.51s\tremaining: 2.51s\n",
      "376:\tlearn: 0.1742203\ttotal: 1.52s\tremaining: 2.51s\n",
      "377:\tlearn: 0.1741147\ttotal: 1.52s\tremaining: 2.5s\n",
      "378:\tlearn: 0.1739703\ttotal: 1.52s\tremaining: 2.5s\n",
      "379:\tlearn: 0.1739128\ttotal: 1.53s\tremaining: 2.49s\n",
      "380:\tlearn: 0.1737171\ttotal: 1.53s\tremaining: 2.49s\n",
      "381:\tlearn: 0.1735741\ttotal: 1.53s\tremaining: 2.48s\n",
      "382:\tlearn: 0.1734164\ttotal: 1.54s\tremaining: 2.48s\n",
      "383:\tlearn: 0.1732979\ttotal: 1.54s\tremaining: 2.47s\n",
      "384:\tlearn: 0.1731189\ttotal: 1.55s\tremaining: 2.47s\n",
      "385:\tlearn: 0.1729815\ttotal: 1.55s\tremaining: 2.46s\n",
      "386:\tlearn: 0.1728310\ttotal: 1.55s\tremaining: 2.46s\n",
      "387:\tlearn: 0.1726402\ttotal: 1.56s\tremaining: 2.46s\n",
      "388:\tlearn: 0.1725599\ttotal: 1.56s\tremaining: 2.45s\n",
      "389:\tlearn: 0.1724403\ttotal: 1.56s\tremaining: 2.45s\n",
      "390:\tlearn: 0.1723690\ttotal: 1.57s\tremaining: 2.44s\n",
      "391:\tlearn: 0.1722367\ttotal: 1.57s\tremaining: 2.44s\n",
      "392:\tlearn: 0.1720440\ttotal: 1.58s\tremaining: 2.44s\n",
      "393:\tlearn: 0.1719375\ttotal: 1.58s\tremaining: 2.44s\n",
      "394:\tlearn: 0.1718632\ttotal: 1.59s\tremaining: 2.43s\n",
      "395:\tlearn: 0.1718031\ttotal: 1.59s\tremaining: 2.42s\n",
      "396:\tlearn: 0.1717373\ttotal: 1.59s\tremaining: 2.42s\n",
      "397:\tlearn: 0.1716417\ttotal: 1.59s\tremaining: 2.41s\n",
      "398:\tlearn: 0.1715774\ttotal: 1.6s\tremaining: 2.41s\n",
      "399:\tlearn: 0.1714152\ttotal: 1.6s\tremaining: 2.4s\n",
      "400:\tlearn: 0.1713382\ttotal: 1.61s\tremaining: 2.4s\n",
      "401:\tlearn: 0.1712614\ttotal: 1.61s\tremaining: 2.4s\n",
      "402:\tlearn: 0.1711734\ttotal: 1.61s\tremaining: 2.39s\n",
      "403:\tlearn: 0.1711157\ttotal: 1.62s\tremaining: 2.39s\n",
      "404:\tlearn: 0.1709079\ttotal: 1.62s\tremaining: 2.38s\n",
      "405:\tlearn: 0.1708595\ttotal: 1.63s\tremaining: 2.38s\n",
      "406:\tlearn: 0.1707880\ttotal: 1.63s\tremaining: 2.37s\n",
      "407:\tlearn: 0.1707161\ttotal: 1.63s\tremaining: 2.37s\n",
      "408:\tlearn: 0.1705975\ttotal: 1.64s\tremaining: 2.36s\n",
      "409:\tlearn: 0.1704758\ttotal: 1.64s\tremaining: 2.36s\n",
      "410:\tlearn: 0.1704116\ttotal: 1.64s\tremaining: 2.35s\n",
      "411:\tlearn: 0.1702385\ttotal: 1.65s\tremaining: 2.35s\n",
      "412:\tlearn: 0.1701346\ttotal: 1.65s\tremaining: 2.35s\n",
      "413:\tlearn: 0.1700703\ttotal: 1.65s\tremaining: 2.34s\n",
      "414:\tlearn: 0.1698975\ttotal: 1.66s\tremaining: 2.34s\n",
      "415:\tlearn: 0.1698390\ttotal: 1.66s\tremaining: 2.33s\n",
      "416:\tlearn: 0.1697002\ttotal: 1.67s\tremaining: 2.33s\n",
      "417:\tlearn: 0.1695589\ttotal: 1.67s\tremaining: 2.32s\n",
      "418:\tlearn: 0.1694870\ttotal: 1.67s\tremaining: 2.32s\n",
      "419:\tlearn: 0.1693621\ttotal: 1.68s\tremaining: 2.31s\n",
      "420:\tlearn: 0.1692997\ttotal: 1.68s\tremaining: 2.31s\n",
      "421:\tlearn: 0.1692032\ttotal: 1.68s\tremaining: 2.3s\n",
      "422:\tlearn: 0.1691361\ttotal: 1.69s\tremaining: 2.3s\n",
      "423:\tlearn: 0.1690236\ttotal: 1.69s\tremaining: 2.29s\n",
      "424:\tlearn: 0.1689042\ttotal: 1.69s\tremaining: 2.29s\n",
      "425:\tlearn: 0.1687730\ttotal: 1.7s\tremaining: 2.29s\n",
      "426:\tlearn: 0.1687110\ttotal: 1.7s\tremaining: 2.28s\n",
      "427:\tlearn: 0.1685818\ttotal: 1.7s\tremaining: 2.28s\n",
      "428:\tlearn: 0.1685084\ttotal: 1.71s\tremaining: 2.27s\n",
      "429:\tlearn: 0.1684444\ttotal: 1.71s\tremaining: 2.27s\n",
      "430:\tlearn: 0.1683667\ttotal: 1.72s\tremaining: 2.27s\n",
      "431:\tlearn: 0.1682089\ttotal: 1.72s\tremaining: 2.26s\n",
      "432:\tlearn: 0.1681602\ttotal: 1.72s\tremaining: 2.26s\n",
      "433:\tlearn: 0.1680309\ttotal: 1.73s\tremaining: 2.25s\n",
      "434:\tlearn: 0.1679279\ttotal: 1.73s\tremaining: 2.25s\n",
      "435:\tlearn: 0.1678272\ttotal: 1.73s\tremaining: 2.24s\n",
      "436:\tlearn: 0.1677311\ttotal: 1.74s\tremaining: 2.24s\n",
      "437:\tlearn: 0.1676029\ttotal: 1.74s\tremaining: 2.24s\n",
      "438:\tlearn: 0.1675455\ttotal: 1.75s\tremaining: 2.23s\n",
      "439:\tlearn: 0.1674071\ttotal: 1.75s\tremaining: 2.23s\n",
      "440:\tlearn: 0.1673505\ttotal: 1.76s\tremaining: 2.23s\n",
      "441:\tlearn: 0.1672805\ttotal: 1.76s\tremaining: 2.22s\n",
      "442:\tlearn: 0.1671204\ttotal: 1.76s\tremaining: 2.22s\n",
      "443:\tlearn: 0.1670546\ttotal: 1.77s\tremaining: 2.21s\n",
      "444:\tlearn: 0.1668668\ttotal: 1.77s\tremaining: 2.21s\n",
      "445:\tlearn: 0.1666853\ttotal: 1.77s\tremaining: 2.2s\n",
      "446:\tlearn: 0.1666220\ttotal: 1.78s\tremaining: 2.2s\n",
      "447:\tlearn: 0.1665371\ttotal: 1.78s\tremaining: 2.2s\n",
      "448:\tlearn: 0.1663121\ttotal: 1.79s\tremaining: 2.19s\n",
      "449:\tlearn: 0.1662440\ttotal: 1.79s\tremaining: 2.19s\n",
      "450:\tlearn: 0.1661178\ttotal: 1.79s\tremaining: 2.18s\n",
      "451:\tlearn: 0.1659754\ttotal: 1.8s\tremaining: 2.18s\n",
      "452:\tlearn: 0.1658996\ttotal: 1.8s\tremaining: 2.17s\n",
      "453:\tlearn: 0.1657741\ttotal: 1.8s\tremaining: 2.17s\n",
      "454:\tlearn: 0.1655556\ttotal: 1.81s\tremaining: 2.17s\n",
      "455:\tlearn: 0.1654236\ttotal: 1.81s\tremaining: 2.16s\n",
      "456:\tlearn: 0.1653469\ttotal: 1.82s\tremaining: 2.16s\n",
      "457:\tlearn: 0.1653141\ttotal: 1.82s\tremaining: 2.15s\n",
      "458:\tlearn: 0.1652606\ttotal: 1.82s\tremaining: 2.15s\n",
      "459:\tlearn: 0.1651714\ttotal: 1.83s\tremaining: 2.15s\n",
      "460:\tlearn: 0.1650322\ttotal: 1.83s\tremaining: 2.14s\n",
      "461:\tlearn: 0.1649880\ttotal: 1.83s\tremaining: 2.14s\n",
      "462:\tlearn: 0.1648340\ttotal: 1.84s\tremaining: 2.13s\n",
      "463:\tlearn: 0.1647061\ttotal: 1.84s\tremaining: 2.13s\n",
      "464:\tlearn: 0.1646090\ttotal: 1.84s\tremaining: 2.12s\n",
      "465:\tlearn: 0.1645307\ttotal: 1.85s\tremaining: 2.12s\n",
      "466:\tlearn: 0.1644423\ttotal: 1.85s\tremaining: 2.12s\n",
      "467:\tlearn: 0.1644124\ttotal: 1.86s\tremaining: 2.11s\n",
      "468:\tlearn: 0.1643005\ttotal: 1.86s\tremaining: 2.1s\n",
      "469:\tlearn: 0.1642053\ttotal: 1.86s\tremaining: 2.1s\n",
      "470:\tlearn: 0.1641148\ttotal: 1.86s\tremaining: 2.1s\n",
      "471:\tlearn: 0.1639838\ttotal: 1.87s\tremaining: 2.09s\n",
      "472:\tlearn: 0.1639557\ttotal: 1.87s\tremaining: 2.08s\n",
      "473:\tlearn: 0.1638188\ttotal: 1.87s\tremaining: 2.08s\n",
      "474:\tlearn: 0.1638104\ttotal: 1.88s\tremaining: 2.07s\n",
      "475:\tlearn: 0.1636067\ttotal: 1.88s\tremaining: 2.07s\n",
      "476:\tlearn: 0.1634611\ttotal: 1.88s\tremaining: 2.07s\n",
      "477:\tlearn: 0.1633591\ttotal: 1.89s\tremaining: 2.06s\n",
      "478:\tlearn: 0.1632283\ttotal: 1.89s\tremaining: 2.06s\n",
      "479:\tlearn: 0.1631113\ttotal: 1.9s\tremaining: 2.05s\n",
      "480:\tlearn: 0.1630550\ttotal: 1.9s\tremaining: 2.05s\n",
      "481:\tlearn: 0.1629226\ttotal: 1.9s\tremaining: 2.04s\n",
      "482:\tlearn: 0.1627939\ttotal: 1.91s\tremaining: 2.04s\n",
      "483:\tlearn: 0.1627615\ttotal: 1.91s\tremaining: 2.04s\n",
      "484:\tlearn: 0.1625799\ttotal: 1.91s\tremaining: 2.03s\n",
      "485:\tlearn: 0.1624702\ttotal: 1.92s\tremaining: 2.03s\n",
      "486:\tlearn: 0.1623437\ttotal: 1.92s\tremaining: 2.03s\n",
      "487:\tlearn: 0.1622768\ttotal: 1.93s\tremaining: 2.02s\n",
      "488:\tlearn: 0.1621911\ttotal: 1.93s\tremaining: 2.02s\n",
      "489:\tlearn: 0.1621694\ttotal: 1.94s\tremaining: 2.01s\n",
      "490:\tlearn: 0.1621476\ttotal: 1.94s\tremaining: 2.01s\n",
      "491:\tlearn: 0.1620740\ttotal: 1.94s\tremaining: 2.01s\n",
      "492:\tlearn: 0.1619402\ttotal: 1.95s\tremaining: 2s\n",
      "493:\tlearn: 0.1618510\ttotal: 1.95s\tremaining: 2s\n",
      "494:\tlearn: 0.1618313\ttotal: 1.96s\tremaining: 2s\n",
      "495:\tlearn: 0.1618110\ttotal: 1.96s\tremaining: 1.99s\n",
      "496:\tlearn: 0.1616935\ttotal: 1.96s\tremaining: 1.99s\n",
      "497:\tlearn: 0.1615439\ttotal: 1.97s\tremaining: 1.98s\n",
      "498:\tlearn: 0.1614298\ttotal: 1.97s\tremaining: 1.98s\n",
      "499:\tlearn: 0.1612843\ttotal: 1.98s\tremaining: 1.98s\n"
     ]
    },
    {
     "name": "stdout",
     "output_type": "stream",
     "text": [
      "500:\tlearn: 0.1611401\ttotal: 1.98s\tremaining: 1.97s\n",
      "501:\tlearn: 0.1610026\ttotal: 1.98s\tremaining: 1.97s\n",
      "502:\tlearn: 0.1608729\ttotal: 1.99s\tremaining: 1.96s\n",
      "503:\tlearn: 0.1607091\ttotal: 1.99s\tremaining: 1.96s\n",
      "504:\tlearn: 0.1606284\ttotal: 1.99s\tremaining: 1.95s\n",
      "505:\tlearn: 0.1604896\ttotal: 2s\tremaining: 1.95s\n",
      "506:\tlearn: 0.1603968\ttotal: 2s\tremaining: 1.95s\n",
      "507:\tlearn: 0.1603125\ttotal: 2s\tremaining: 1.94s\n",
      "508:\tlearn: 0.1601682\ttotal: 2.01s\tremaining: 1.94s\n",
      "509:\tlearn: 0.1600197\ttotal: 2.01s\tremaining: 1.93s\n",
      "510:\tlearn: 0.1597873\ttotal: 2.02s\tremaining: 1.93s\n",
      "511:\tlearn: 0.1597111\ttotal: 2.02s\tremaining: 1.92s\n",
      "512:\tlearn: 0.1596048\ttotal: 2.02s\tremaining: 1.92s\n",
      "513:\tlearn: 0.1595107\ttotal: 2.02s\tremaining: 1.92s\n",
      "514:\tlearn: 0.1593665\ttotal: 2.03s\tremaining: 1.91s\n",
      "515:\tlearn: 0.1592132\ttotal: 2.03s\tremaining: 1.91s\n",
      "516:\tlearn: 0.1590644\ttotal: 2.03s\tremaining: 1.9s\n",
      "517:\tlearn: 0.1589862\ttotal: 2.04s\tremaining: 1.9s\n",
      "518:\tlearn: 0.1589072\ttotal: 2.04s\tremaining: 1.89s\n",
      "519:\tlearn: 0.1588470\ttotal: 2.04s\tremaining: 1.89s\n",
      "520:\tlearn: 0.1587685\ttotal: 2.05s\tremaining: 1.88s\n",
      "521:\tlearn: 0.1586399\ttotal: 2.05s\tremaining: 1.88s\n",
      "522:\tlearn: 0.1585119\ttotal: 2.05s\tremaining: 1.87s\n",
      "523:\tlearn: 0.1584230\ttotal: 2.06s\tremaining: 1.87s\n",
      "524:\tlearn: 0.1583227\ttotal: 2.06s\tremaining: 1.86s\n",
      "525:\tlearn: 0.1582223\ttotal: 2.06s\tremaining: 1.86s\n",
      "526:\tlearn: 0.1581189\ttotal: 2.07s\tremaining: 1.86s\n",
      "527:\tlearn: 0.1580198\ttotal: 2.07s\tremaining: 1.85s\n",
      "528:\tlearn: 0.1579695\ttotal: 2.08s\tremaining: 1.85s\n",
      "529:\tlearn: 0.1578626\ttotal: 2.08s\tremaining: 1.84s\n",
      "530:\tlearn: 0.1577108\ttotal: 2.08s\tremaining: 1.84s\n",
      "531:\tlearn: 0.1576444\ttotal: 2.09s\tremaining: 1.84s\n",
      "532:\tlearn: 0.1575624\ttotal: 2.09s\tremaining: 1.83s\n",
      "533:\tlearn: 0.1574544\ttotal: 2.1s\tremaining: 1.83s\n",
      "534:\tlearn: 0.1573886\ttotal: 2.1s\tremaining: 1.82s\n",
      "535:\tlearn: 0.1573425\ttotal: 2.1s\tremaining: 1.82s\n",
      "536:\tlearn: 0.1572151\ttotal: 2.11s\tremaining: 1.82s\n",
      "537:\tlearn: 0.1570313\ttotal: 2.11s\tremaining: 1.81s\n",
      "538:\tlearn: 0.1570112\ttotal: 2.12s\tremaining: 1.81s\n",
      "539:\tlearn: 0.1569871\ttotal: 2.12s\tremaining: 1.8s\n",
      "540:\tlearn: 0.1569109\ttotal: 2.12s\tremaining: 1.8s\n",
      "541:\tlearn: 0.1567850\ttotal: 2.13s\tremaining: 1.8s\n",
      "542:\tlearn: 0.1566913\ttotal: 2.13s\tremaining: 1.79s\n",
      "543:\tlearn: 0.1565507\ttotal: 2.13s\tremaining: 1.79s\n",
      "544:\tlearn: 0.1564554\ttotal: 2.14s\tremaining: 1.79s\n",
      "545:\tlearn: 0.1564036\ttotal: 2.14s\tremaining: 1.78s\n",
      "546:\tlearn: 0.1562805\ttotal: 2.15s\tremaining: 1.78s\n",
      "547:\tlearn: 0.1561992\ttotal: 2.15s\tremaining: 1.77s\n",
      "548:\tlearn: 0.1560890\ttotal: 2.15s\tremaining: 1.77s\n",
      "549:\tlearn: 0.1559951\ttotal: 2.16s\tremaining: 1.76s\n",
      "550:\tlearn: 0.1558976\ttotal: 2.16s\tremaining: 1.76s\n",
      "551:\tlearn: 0.1558274\ttotal: 2.16s\tremaining: 1.76s\n",
      "552:\tlearn: 0.1557839\ttotal: 2.17s\tremaining: 1.75s\n",
      "553:\tlearn: 0.1556482\ttotal: 2.17s\tremaining: 1.75s\n",
      "554:\tlearn: 0.1555861\ttotal: 2.17s\tremaining: 1.74s\n",
      "555:\tlearn: 0.1555083\ttotal: 2.18s\tremaining: 1.74s\n",
      "556:\tlearn: 0.1554397\ttotal: 2.18s\tremaining: 1.74s\n",
      "557:\tlearn: 0.1553474\ttotal: 2.19s\tremaining: 1.73s\n",
      "558:\tlearn: 0.1552826\ttotal: 2.19s\tremaining: 1.73s\n",
      "559:\tlearn: 0.1551720\ttotal: 2.19s\tremaining: 1.72s\n",
      "560:\tlearn: 0.1551086\ttotal: 2.19s\tremaining: 1.72s\n",
      "561:\tlearn: 0.1550289\ttotal: 2.2s\tremaining: 1.71s\n",
      "562:\tlearn: 0.1549431\ttotal: 2.2s\tremaining: 1.71s\n",
      "563:\tlearn: 0.1548483\ttotal: 2.21s\tremaining: 1.71s\n",
      "564:\tlearn: 0.1547817\ttotal: 2.21s\tremaining: 1.7s\n",
      "565:\tlearn: 0.1546974\ttotal: 2.21s\tremaining: 1.7s\n",
      "566:\tlearn: 0.1546546\ttotal: 2.22s\tremaining: 1.69s\n",
      "567:\tlearn: 0.1546050\ttotal: 2.22s\tremaining: 1.69s\n",
      "568:\tlearn: 0.1545324\ttotal: 2.23s\tremaining: 1.69s\n",
      "569:\tlearn: 0.1544316\ttotal: 2.23s\tremaining: 1.68s\n",
      "570:\tlearn: 0.1543377\ttotal: 2.23s\tremaining: 1.68s\n",
      "571:\tlearn: 0.1542116\ttotal: 2.24s\tremaining: 1.67s\n",
      "572:\tlearn: 0.1541033\ttotal: 2.24s\tremaining: 1.67s\n",
      "573:\tlearn: 0.1540073\ttotal: 2.24s\tremaining: 1.67s\n",
      "574:\tlearn: 0.1539377\ttotal: 2.25s\tremaining: 1.66s\n",
      "575:\tlearn: 0.1538508\ttotal: 2.25s\tremaining: 1.66s\n",
      "576:\tlearn: 0.1537637\ttotal: 2.25s\tremaining: 1.65s\n",
      "577:\tlearn: 0.1537218\ttotal: 2.26s\tremaining: 1.65s\n",
      "578:\tlearn: 0.1536131\ttotal: 2.26s\tremaining: 1.65s\n",
      "579:\tlearn: 0.1535123\ttotal: 2.27s\tremaining: 1.64s\n",
      "580:\tlearn: 0.1534319\ttotal: 2.27s\tremaining: 1.64s\n",
      "581:\tlearn: 0.1534137\ttotal: 2.27s\tremaining: 1.63s\n",
      "582:\tlearn: 0.1533248\ttotal: 2.28s\tremaining: 1.63s\n",
      "583:\tlearn: 0.1531668\ttotal: 2.28s\tremaining: 1.63s\n",
      "584:\tlearn: 0.1530774\ttotal: 2.29s\tremaining: 1.62s\n",
      "585:\tlearn: 0.1530579\ttotal: 2.29s\tremaining: 1.62s\n",
      "586:\tlearn: 0.1529544\ttotal: 2.29s\tremaining: 1.61s\n",
      "587:\tlearn: 0.1528696\ttotal: 2.3s\tremaining: 1.61s\n",
      "588:\tlearn: 0.1528497\ttotal: 2.3s\tremaining: 1.61s\n",
      "589:\tlearn: 0.1527280\ttotal: 2.31s\tremaining: 1.6s\n",
      "590:\tlearn: 0.1526597\ttotal: 2.31s\tremaining: 1.6s\n",
      "591:\tlearn: 0.1525671\ttotal: 2.31s\tremaining: 1.59s\n",
      "592:\tlearn: 0.1524614\ttotal: 2.32s\tremaining: 1.59s\n",
      "593:\tlearn: 0.1523531\ttotal: 2.32s\tremaining: 1.58s\n",
      "594:\tlearn: 0.1523100\ttotal: 2.32s\tremaining: 1.58s\n",
      "595:\tlearn: 0.1522294\ttotal: 2.33s\tremaining: 1.58s\n",
      "596:\tlearn: 0.1520992\ttotal: 2.33s\tremaining: 1.57s\n",
      "597:\tlearn: 0.1519827\ttotal: 2.34s\tremaining: 1.57s\n",
      "598:\tlearn: 0.1519397\ttotal: 2.34s\tremaining: 1.57s\n",
      "599:\tlearn: 0.1518461\ttotal: 2.34s\tremaining: 1.56s\n",
      "600:\tlearn: 0.1517400\ttotal: 2.35s\tremaining: 1.56s\n",
      "601:\tlearn: 0.1516734\ttotal: 2.35s\tremaining: 1.55s\n",
      "602:\tlearn: 0.1516243\ttotal: 2.35s\tremaining: 1.55s\n",
      "603:\tlearn: 0.1515202\ttotal: 2.36s\tremaining: 1.55s\n",
      "604:\tlearn: 0.1514847\ttotal: 2.36s\tremaining: 1.54s\n",
      "605:\tlearn: 0.1513870\ttotal: 2.37s\tremaining: 1.54s\n",
      "606:\tlearn: 0.1512690\ttotal: 2.37s\tremaining: 1.53s\n",
      "607:\tlearn: 0.1511557\ttotal: 2.37s\tremaining: 1.53s\n",
      "608:\tlearn: 0.1511036\ttotal: 2.38s\tremaining: 1.52s\n",
      "609:\tlearn: 0.1510029\ttotal: 2.38s\tremaining: 1.52s\n",
      "610:\tlearn: 0.1508875\ttotal: 2.38s\tremaining: 1.52s\n",
      "611:\tlearn: 0.1507740\ttotal: 2.38s\tremaining: 1.51s\n",
      "612:\tlearn: 0.1507629\ttotal: 2.39s\tremaining: 1.51s\n",
      "613:\tlearn: 0.1506843\ttotal: 2.39s\tremaining: 1.5s\n",
      "614:\tlearn: 0.1505676\ttotal: 2.4s\tremaining: 1.5s\n",
      "615:\tlearn: 0.1505119\ttotal: 2.4s\tremaining: 1.5s\n",
      "616:\tlearn: 0.1504195\ttotal: 2.4s\tremaining: 1.49s\n",
      "617:\tlearn: 0.1503384\ttotal: 2.41s\tremaining: 1.49s\n",
      "618:\tlearn: 0.1503034\ttotal: 2.42s\tremaining: 1.49s\n",
      "619:\tlearn: 0.1502383\ttotal: 2.43s\tremaining: 1.49s\n",
      "620:\tlearn: 0.1501621\ttotal: 2.44s\tremaining: 1.49s\n",
      "621:\tlearn: 0.1501107\ttotal: 2.45s\tremaining: 1.49s\n",
      "622:\tlearn: 0.1499865\ttotal: 2.46s\tremaining: 1.49s\n",
      "623:\tlearn: 0.1498212\ttotal: 2.46s\tremaining: 1.48s\n",
      "624:\tlearn: 0.1496850\ttotal: 2.47s\tremaining: 1.48s\n",
      "625:\tlearn: 0.1495874\ttotal: 2.48s\tremaining: 1.48s\n",
      "626:\tlearn: 0.1495449\ttotal: 2.48s\tremaining: 1.48s\n",
      "627:\tlearn: 0.1495296\ttotal: 2.49s\tremaining: 1.48s\n",
      "628:\tlearn: 0.1494059\ttotal: 2.5s\tremaining: 1.48s\n",
      "629:\tlearn: 0.1492764\ttotal: 2.51s\tremaining: 1.48s\n",
      "630:\tlearn: 0.1492664\ttotal: 2.53s\tremaining: 1.48s\n",
      "631:\tlearn: 0.1492565\ttotal: 2.54s\tremaining: 1.48s\n",
      "632:\tlearn: 0.1491665\ttotal: 2.54s\tremaining: 1.48s\n",
      "633:\tlearn: 0.1491170\ttotal: 2.55s\tremaining: 1.47s\n",
      "634:\tlearn: 0.1490566\ttotal: 2.56s\tremaining: 1.47s\n",
      "635:\tlearn: 0.1490036\ttotal: 2.58s\tremaining: 1.47s\n",
      "636:\tlearn: 0.1489830\ttotal: 2.58s\tremaining: 1.47s\n",
      "637:\tlearn: 0.1489639\ttotal: 2.59s\tremaining: 1.47s\n",
      "638:\tlearn: 0.1489015\ttotal: 2.6s\tremaining: 1.47s\n",
      "639:\tlearn: 0.1487282\ttotal: 2.61s\tremaining: 1.47s\n",
      "640:\tlearn: 0.1486206\ttotal: 2.62s\tremaining: 1.47s\n",
      "641:\tlearn: 0.1485092\ttotal: 2.63s\tremaining: 1.46s\n",
      "642:\tlearn: 0.1484424\ttotal: 2.64s\tremaining: 1.46s\n",
      "643:\tlearn: 0.1483104\ttotal: 2.65s\tremaining: 1.46s\n",
      "644:\tlearn: 0.1482571\ttotal: 2.65s\tremaining: 1.46s\n",
      "645:\tlearn: 0.1481631\ttotal: 2.66s\tremaining: 1.46s\n",
      "646:\tlearn: 0.1480011\ttotal: 2.67s\tremaining: 1.46s\n",
      "647:\tlearn: 0.1479486\ttotal: 2.68s\tremaining: 1.46s\n",
      "648:\tlearn: 0.1479142\ttotal: 2.69s\tremaining: 1.46s\n",
      "649:\tlearn: 0.1478073\ttotal: 2.7s\tremaining: 1.45s\n",
      "650:\tlearn: 0.1476961\ttotal: 2.71s\tremaining: 1.45s\n",
      "651:\tlearn: 0.1476493\ttotal: 2.71s\tremaining: 1.45s\n",
      "652:\tlearn: 0.1475817\ttotal: 2.72s\tremaining: 1.45s\n",
      "653:\tlearn: 0.1475177\ttotal: 2.73s\tremaining: 1.44s\n",
      "654:\tlearn: 0.1474607\ttotal: 2.74s\tremaining: 1.44s\n",
      "655:\tlearn: 0.1474012\ttotal: 2.74s\tremaining: 1.44s\n",
      "656:\tlearn: 0.1473258\ttotal: 2.75s\tremaining: 1.44s\n",
      "657:\tlearn: 0.1472787\ttotal: 2.76s\tremaining: 1.43s\n",
      "658:\tlearn: 0.1471732\ttotal: 2.77s\tremaining: 1.43s\n"
     ]
    },
    {
     "name": "stdout",
     "output_type": "stream",
     "text": [
      "659:\tlearn: 0.1470355\ttotal: 2.77s\tremaining: 1.43s\n",
      "660:\tlearn: 0.1469048\ttotal: 2.78s\tremaining: 1.43s\n",
      "661:\tlearn: 0.1468013\ttotal: 2.79s\tremaining: 1.43s\n",
      "662:\tlearn: 0.1467479\ttotal: 2.81s\tremaining: 1.43s\n",
      "663:\tlearn: 0.1467006\ttotal: 2.82s\tremaining: 1.43s\n",
      "664:\tlearn: 0.1466719\ttotal: 2.83s\tremaining: 1.43s\n",
      "665:\tlearn: 0.1466011\ttotal: 2.84s\tremaining: 1.43s\n",
      "666:\tlearn: 0.1465293\ttotal: 2.85s\tremaining: 1.42s\n",
      "667:\tlearn: 0.1463728\ttotal: 2.86s\tremaining: 1.42s\n",
      "668:\tlearn: 0.1463586\ttotal: 2.87s\tremaining: 1.42s\n",
      "669:\tlearn: 0.1463335\ttotal: 2.88s\tremaining: 1.42s\n",
      "670:\tlearn: 0.1462522\ttotal: 2.89s\tremaining: 1.42s\n",
      "671:\tlearn: 0.1461286\ttotal: 2.9s\tremaining: 1.41s\n",
      "672:\tlearn: 0.1460995\ttotal: 2.9s\tremaining: 1.41s\n",
      "673:\tlearn: 0.1460202\ttotal: 2.91s\tremaining: 1.41s\n",
      "674:\tlearn: 0.1459162\ttotal: 2.92s\tremaining: 1.41s\n",
      "675:\tlearn: 0.1458602\ttotal: 2.93s\tremaining: 1.4s\n",
      "676:\tlearn: 0.1457471\ttotal: 2.94s\tremaining: 1.4s\n",
      "677:\tlearn: 0.1456630\ttotal: 2.94s\tremaining: 1.4s\n",
      "678:\tlearn: 0.1456334\ttotal: 2.95s\tremaining: 1.39s\n",
      "679:\tlearn: 0.1455081\ttotal: 2.95s\tremaining: 1.39s\n",
      "680:\tlearn: 0.1453809\ttotal: 2.96s\tremaining: 1.39s\n",
      "681:\tlearn: 0.1453601\ttotal: 2.96s\tremaining: 1.38s\n",
      "682:\tlearn: 0.1452761\ttotal: 2.97s\tremaining: 1.38s\n",
      "683:\tlearn: 0.1451527\ttotal: 2.97s\tremaining: 1.37s\n",
      "684:\tlearn: 0.1449958\ttotal: 2.98s\tremaining: 1.37s\n",
      "685:\tlearn: 0.1448206\ttotal: 2.98s\tremaining: 1.36s\n",
      "686:\tlearn: 0.1447595\ttotal: 2.99s\tremaining: 1.36s\n",
      "687:\tlearn: 0.1447535\ttotal: 2.99s\tremaining: 1.36s\n",
      "688:\tlearn: 0.1446379\ttotal: 3s\tremaining: 1.35s\n",
      "689:\tlearn: 0.1445248\ttotal: 3s\tremaining: 1.35s\n",
      "690:\tlearn: 0.1444689\ttotal: 3.01s\tremaining: 1.34s\n",
      "691:\tlearn: 0.1443897\ttotal: 3.01s\tremaining: 1.34s\n",
      "692:\tlearn: 0.1442542\ttotal: 3.02s\tremaining: 1.34s\n",
      "693:\tlearn: 0.1442498\ttotal: 3.02s\tremaining: 1.33s\n",
      "694:\tlearn: 0.1441560\ttotal: 3.03s\tremaining: 1.33s\n",
      "695:\tlearn: 0.1440954\ttotal: 3.03s\tremaining: 1.32s\n",
      "696:\tlearn: 0.1439821\ttotal: 3.04s\tremaining: 1.32s\n",
      "697:\tlearn: 0.1439667\ttotal: 3.04s\tremaining: 1.31s\n",
      "698:\tlearn: 0.1438752\ttotal: 3.04s\tremaining: 1.31s\n",
      "699:\tlearn: 0.1437578\ttotal: 3.05s\tremaining: 1.31s\n",
      "700:\tlearn: 0.1437419\ttotal: 3.06s\tremaining: 1.3s\n",
      "701:\tlearn: 0.1435974\ttotal: 3.06s\tremaining: 1.3s\n",
      "702:\tlearn: 0.1434948\ttotal: 3.07s\tremaining: 1.3s\n",
      "703:\tlearn: 0.1434385\ttotal: 3.07s\tremaining: 1.29s\n",
      "704:\tlearn: 0.1433925\ttotal: 3.08s\tremaining: 1.29s\n",
      "705:\tlearn: 0.1432787\ttotal: 3.08s\tremaining: 1.28s\n",
      "706:\tlearn: 0.1432116\ttotal: 3.08s\tremaining: 1.28s\n",
      "707:\tlearn: 0.1432076\ttotal: 3.09s\tremaining: 1.27s\n",
      "708:\tlearn: 0.1431726\ttotal: 3.09s\tremaining: 1.27s\n",
      "709:\tlearn: 0.1431114\ttotal: 3.1s\tremaining: 1.26s\n",
      "710:\tlearn: 0.1430452\ttotal: 3.1s\tremaining: 1.26s\n",
      "711:\tlearn: 0.1429910\ttotal: 3.1s\tremaining: 1.25s\n",
      "712:\tlearn: 0.1428415\ttotal: 3.11s\tremaining: 1.25s\n",
      "713:\tlearn: 0.1428295\ttotal: 3.11s\tremaining: 1.25s\n",
      "714:\tlearn: 0.1427530\ttotal: 3.12s\tremaining: 1.24s\n",
      "715:\tlearn: 0.1427492\ttotal: 3.12s\tremaining: 1.24s\n",
      "716:\tlearn: 0.1426655\ttotal: 3.12s\tremaining: 1.23s\n",
      "717:\tlearn: 0.1425353\ttotal: 3.12s\tremaining: 1.23s\n",
      "718:\tlearn: 0.1424401\ttotal: 3.13s\tremaining: 1.22s\n",
      "719:\tlearn: 0.1423821\ttotal: 3.13s\tremaining: 1.22s\n",
      "720:\tlearn: 0.1423736\ttotal: 3.14s\tremaining: 1.21s\n",
      "721:\tlearn: 0.1422072\ttotal: 3.14s\tremaining: 1.21s\n",
      "722:\tlearn: 0.1421609\ttotal: 3.14s\tremaining: 1.2s\n",
      "723:\tlearn: 0.1420706\ttotal: 3.15s\tremaining: 1.2s\n",
      "724:\tlearn: 0.1420010\ttotal: 3.15s\tremaining: 1.2s\n",
      "725:\tlearn: 0.1419414\ttotal: 3.15s\tremaining: 1.19s\n",
      "726:\tlearn: 0.1418881\ttotal: 3.16s\tremaining: 1.19s\n",
      "727:\tlearn: 0.1417442\ttotal: 3.16s\tremaining: 1.18s\n",
      "728:\tlearn: 0.1416723\ttotal: 3.17s\tremaining: 1.18s\n",
      "729:\tlearn: 0.1416173\ttotal: 3.17s\tremaining: 1.17s\n",
      "730:\tlearn: 0.1414671\ttotal: 3.17s\tremaining: 1.17s\n",
      "731:\tlearn: 0.1413639\ttotal: 3.18s\tremaining: 1.16s\n",
      "732:\tlearn: 0.1413207\ttotal: 3.18s\tremaining: 1.16s\n",
      "733:\tlearn: 0.1412153\ttotal: 3.18s\tremaining: 1.15s\n",
      "734:\tlearn: 0.1411216\ttotal: 3.19s\tremaining: 1.15s\n",
      "735:\tlearn: 0.1410989\ttotal: 3.19s\tremaining: 1.14s\n",
      "736:\tlearn: 0.1410923\ttotal: 3.19s\tremaining: 1.14s\n",
      "737:\tlearn: 0.1410232\ttotal: 3.2s\tremaining: 1.14s\n",
      "738:\tlearn: 0.1409670\ttotal: 3.2s\tremaining: 1.13s\n",
      "739:\tlearn: 0.1408252\ttotal: 3.21s\tremaining: 1.13s\n",
      "740:\tlearn: 0.1407417\ttotal: 3.21s\tremaining: 1.12s\n",
      "741:\tlearn: 0.1406539\ttotal: 3.21s\tremaining: 1.12s\n",
      "742:\tlearn: 0.1405606\ttotal: 3.22s\tremaining: 1.11s\n",
      "743:\tlearn: 0.1404709\ttotal: 3.22s\tremaining: 1.11s\n",
      "744:\tlearn: 0.1404551\ttotal: 3.23s\tremaining: 1.1s\n",
      "745:\tlearn: 0.1403542\ttotal: 3.23s\tremaining: 1.1s\n",
      "746:\tlearn: 0.1402581\ttotal: 3.23s\tremaining: 1.09s\n",
      "747:\tlearn: 0.1401858\ttotal: 3.24s\tremaining: 1.09s\n",
      "748:\tlearn: 0.1401182\ttotal: 3.24s\tremaining: 1.08s\n",
      "749:\tlearn: 0.1400377\ttotal: 3.24s\tremaining: 1.08s\n",
      "750:\tlearn: 0.1400343\ttotal: 3.25s\tremaining: 1.08s\n",
      "751:\tlearn: 0.1400310\ttotal: 3.25s\tremaining: 1.07s\n",
      "752:\tlearn: 0.1399047\ttotal: 3.25s\tremaining: 1.07s\n",
      "753:\tlearn: 0.1398165\ttotal: 3.26s\tremaining: 1.06s\n",
      "754:\tlearn: 0.1397522\ttotal: 3.26s\tremaining: 1.06s\n",
      "755:\tlearn: 0.1397177\ttotal: 3.27s\tremaining: 1.05s\n",
      "756:\tlearn: 0.1396881\ttotal: 3.27s\tremaining: 1.05s\n",
      "757:\tlearn: 0.1396484\ttotal: 3.28s\tremaining: 1.05s\n",
      "758:\tlearn: 0.1395231\ttotal: 3.28s\tremaining: 1.04s\n",
      "759:\tlearn: 0.1394513\ttotal: 3.28s\tremaining: 1.04s\n",
      "760:\tlearn: 0.1393062\ttotal: 3.29s\tremaining: 1.03s\n",
      "761:\tlearn: 0.1392533\ttotal: 3.29s\tremaining: 1.03s\n",
      "762:\tlearn: 0.1391770\ttotal: 3.3s\tremaining: 1.02s\n",
      "763:\tlearn: 0.1391080\ttotal: 3.3s\tremaining: 1.02s\n",
      "764:\tlearn: 0.1390640\ttotal: 3.3s\tremaining: 1.01s\n",
      "765:\tlearn: 0.1390489\ttotal: 3.31s\tremaining: 1.01s\n",
      "766:\tlearn: 0.1389672\ttotal: 3.31s\tremaining: 1.01s\n",
      "767:\tlearn: 0.1388658\ttotal: 3.31s\tremaining: 1s\n",
      "768:\tlearn: 0.1387585\ttotal: 3.32s\tremaining: 997ms\n",
      "769:\tlearn: 0.1387197\ttotal: 3.32s\tremaining: 993ms\n",
      "770:\tlearn: 0.1385941\ttotal: 3.33s\tremaining: 988ms\n",
      "771:\tlearn: 0.1385579\ttotal: 3.33s\tremaining: 983ms\n",
      "772:\tlearn: 0.1385111\ttotal: 3.33s\tremaining: 979ms\n",
      "773:\tlearn: 0.1384666\ttotal: 3.34s\tremaining: 975ms\n",
      "774:\tlearn: 0.1384342\ttotal: 3.34s\tremaining: 970ms\n",
      "775:\tlearn: 0.1383414\ttotal: 3.35s\tremaining: 966ms\n",
      "776:\tlearn: 0.1383217\ttotal: 3.35s\tremaining: 961ms\n",
      "777:\tlearn: 0.1382631\ttotal: 3.35s\tremaining: 957ms\n",
      "778:\tlearn: 0.1382416\ttotal: 3.35s\tremaining: 952ms\n",
      "779:\tlearn: 0.1381866\ttotal: 3.36s\tremaining: 947ms\n",
      "780:\tlearn: 0.1380077\ttotal: 3.36s\tremaining: 943ms\n",
      "781:\tlearn: 0.1380050\ttotal: 3.37s\tremaining: 939ms\n",
      "782:\tlearn: 0.1379104\ttotal: 3.37s\tremaining: 934ms\n",
      "783:\tlearn: 0.1378601\ttotal: 3.37s\tremaining: 929ms\n",
      "784:\tlearn: 0.1378160\ttotal: 3.38s\tremaining: 925ms\n",
      "785:\tlearn: 0.1377460\ttotal: 3.38s\tremaining: 921ms\n",
      "786:\tlearn: 0.1377055\ttotal: 3.38s\tremaining: 916ms\n",
      "787:\tlearn: 0.1375994\ttotal: 3.39s\tremaining: 912ms\n",
      "788:\tlearn: 0.1375454\ttotal: 3.39s\tremaining: 907ms\n",
      "789:\tlearn: 0.1374485\ttotal: 3.4s\tremaining: 903ms\n",
      "790:\tlearn: 0.1373706\ttotal: 3.4s\tremaining: 899ms\n",
      "791:\tlearn: 0.1373166\ttotal: 3.4s\tremaining: 894ms\n",
      "792:\tlearn: 0.1372193\ttotal: 3.41s\tremaining: 890ms\n",
      "793:\tlearn: 0.1370580\ttotal: 3.41s\tremaining: 885ms\n",
      "794:\tlearn: 0.1369851\ttotal: 3.42s\tremaining: 881ms\n",
      "795:\tlearn: 0.1368813\ttotal: 3.42s\tremaining: 876ms\n",
      "796:\tlearn: 0.1368069\ttotal: 3.42s\tremaining: 872ms\n",
      "797:\tlearn: 0.1367143\ttotal: 3.43s\tremaining: 867ms\n",
      "798:\tlearn: 0.1366466\ttotal: 3.43s\tremaining: 863ms\n",
      "799:\tlearn: 0.1365579\ttotal: 3.44s\tremaining: 859ms\n",
      "800:\tlearn: 0.1364991\ttotal: 3.44s\tremaining: 854ms\n",
      "801:\tlearn: 0.1364364\ttotal: 3.44s\tremaining: 850ms\n",
      "802:\tlearn: 0.1364062\ttotal: 3.45s\tremaining: 846ms\n",
      "803:\tlearn: 0.1363445\ttotal: 3.45s\tremaining: 841ms\n",
      "804:\tlearn: 0.1362637\ttotal: 3.46s\tremaining: 837ms\n",
      "805:\tlearn: 0.1362109\ttotal: 3.46s\tremaining: 833ms\n",
      "806:\tlearn: 0.1361599\ttotal: 3.46s\tremaining: 828ms\n",
      "807:\tlearn: 0.1360690\ttotal: 3.47s\tremaining: 824ms\n",
      "808:\tlearn: 0.1359758\ttotal: 3.47s\tremaining: 819ms\n",
      "809:\tlearn: 0.1358809\ttotal: 3.47s\tremaining: 815ms\n",
      "810:\tlearn: 0.1358112\ttotal: 3.48s\tremaining: 811ms\n",
      "811:\tlearn: 0.1357481\ttotal: 3.48s\tremaining: 806ms\n",
      "812:\tlearn: 0.1356451\ttotal: 3.49s\tremaining: 802ms\n",
      "813:\tlearn: 0.1355617\ttotal: 3.49s\tremaining: 798ms\n",
      "814:\tlearn: 0.1354981\ttotal: 3.49s\tremaining: 793ms\n",
      "815:\tlearn: 0.1354177\ttotal: 3.5s\tremaining: 789ms\n",
      "816:\tlearn: 0.1353281\ttotal: 3.5s\tremaining: 784ms\n",
      "817:\tlearn: 0.1352628\ttotal: 3.5s\tremaining: 780ms\n",
      "818:\tlearn: 0.1352085\ttotal: 3.51s\tremaining: 776ms\n",
      "819:\tlearn: 0.1351677\ttotal: 3.51s\tremaining: 771ms\n",
      "820:\tlearn: 0.1351295\ttotal: 3.52s\tremaining: 767ms\n",
      "821:\tlearn: 0.1350138\ttotal: 3.52s\tremaining: 762ms\n",
      "822:\tlearn: 0.1349706\ttotal: 3.52s\tremaining: 758ms\n",
      "823:\tlearn: 0.1348525\ttotal: 3.53s\tremaining: 754ms\n",
      "824:\tlearn: 0.1347954\ttotal: 3.53s\tremaining: 749ms\n",
      "825:\tlearn: 0.1347366\ttotal: 3.54s\tremaining: 745ms\n",
      "826:\tlearn: 0.1346752\ttotal: 3.54s\tremaining: 740ms\n",
      "827:\tlearn: 0.1346061\ttotal: 3.54s\tremaining: 736ms\n",
      "828:\tlearn: 0.1346039\ttotal: 3.54s\tremaining: 731ms\n",
      "829:\tlearn: 0.1345554\ttotal: 3.55s\tremaining: 727ms\n",
      "830:\tlearn: 0.1344835\ttotal: 3.55s\tremaining: 723ms\n",
      "831:\tlearn: 0.1344057\ttotal: 3.56s\tremaining: 718ms\n"
     ]
    },
    {
     "name": "stdout",
     "output_type": "stream",
     "text": [
      "832:\tlearn: 0.1342419\ttotal: 3.56s\tremaining: 714ms\n",
      "833:\tlearn: 0.1340893\ttotal: 3.56s\tremaining: 710ms\n",
      "834:\tlearn: 0.1339772\ttotal: 3.57s\tremaining: 705ms\n",
      "835:\tlearn: 0.1339654\ttotal: 3.57s\tremaining: 701ms\n",
      "836:\tlearn: 0.1338000\ttotal: 3.58s\tremaining: 697ms\n",
      "837:\tlearn: 0.1337021\ttotal: 3.58s\tremaining: 693ms\n",
      "838:\tlearn: 0.1336252\ttotal: 3.59s\tremaining: 688ms\n",
      "839:\tlearn: 0.1335704\ttotal: 3.59s\tremaining: 684ms\n",
      "840:\tlearn: 0.1334894\ttotal: 3.59s\tremaining: 679ms\n",
      "841:\tlearn: 0.1333491\ttotal: 3.6s\tremaining: 675ms\n",
      "842:\tlearn: 0.1332272\ttotal: 3.6s\tremaining: 671ms\n",
      "843:\tlearn: 0.1332249\ttotal: 3.6s\tremaining: 666ms\n",
      "844:\tlearn: 0.1332131\ttotal: 3.61s\tremaining: 662ms\n",
      "845:\tlearn: 0.1331515\ttotal: 3.61s\tremaining: 658ms\n",
      "846:\tlearn: 0.1330579\ttotal: 3.62s\tremaining: 653ms\n",
      "847:\tlearn: 0.1329796\ttotal: 3.62s\tremaining: 649ms\n",
      "848:\tlearn: 0.1329303\ttotal: 3.63s\tremaining: 645ms\n",
      "849:\tlearn: 0.1328265\ttotal: 3.63s\tremaining: 641ms\n",
      "850:\tlearn: 0.1328175\ttotal: 3.63s\tremaining: 636ms\n",
      "851:\tlearn: 0.1326780\ttotal: 3.64s\tremaining: 632ms\n",
      "852:\tlearn: 0.1326401\ttotal: 3.64s\tremaining: 627ms\n",
      "853:\tlearn: 0.1325766\ttotal: 3.64s\tremaining: 623ms\n",
      "854:\tlearn: 0.1324731\ttotal: 3.65s\tremaining: 619ms\n",
      "855:\tlearn: 0.1324153\ttotal: 3.65s\tremaining: 614ms\n",
      "856:\tlearn: 0.1323597\ttotal: 3.66s\tremaining: 610ms\n",
      "857:\tlearn: 0.1323186\ttotal: 3.66s\tremaining: 606ms\n",
      "858:\tlearn: 0.1322358\ttotal: 3.66s\tremaining: 601ms\n",
      "859:\tlearn: 0.1321685\ttotal: 3.67s\tremaining: 597ms\n",
      "860:\tlearn: 0.1320607\ttotal: 3.67s\tremaining: 593ms\n",
      "861:\tlearn: 0.1319145\ttotal: 3.68s\tremaining: 589ms\n",
      "862:\tlearn: 0.1318940\ttotal: 3.68s\tremaining: 584ms\n",
      "863:\tlearn: 0.1318371\ttotal: 3.68s\tremaining: 580ms\n",
      "864:\tlearn: 0.1318177\ttotal: 3.69s\tremaining: 576ms\n",
      "865:\tlearn: 0.1318081\ttotal: 3.69s\tremaining: 571ms\n",
      "866:\tlearn: 0.1317975\ttotal: 3.69s\tremaining: 567ms\n",
      "867:\tlearn: 0.1316920\ttotal: 3.7s\tremaining: 562ms\n",
      "868:\tlearn: 0.1315828\ttotal: 3.7s\tremaining: 558ms\n",
      "869:\tlearn: 0.1315443\ttotal: 3.7s\tremaining: 553ms\n",
      "870:\tlearn: 0.1314901\ttotal: 3.71s\tremaining: 549ms\n",
      "871:\tlearn: 0.1314633\ttotal: 3.71s\tremaining: 545ms\n",
      "872:\tlearn: 0.1314472\ttotal: 3.71s\tremaining: 540ms\n",
      "873:\tlearn: 0.1313897\ttotal: 3.72s\tremaining: 536ms\n",
      "874:\tlearn: 0.1313762\ttotal: 3.72s\tremaining: 532ms\n",
      "875:\tlearn: 0.1313303\ttotal: 3.73s\tremaining: 527ms\n",
      "876:\tlearn: 0.1312779\ttotal: 3.73s\tremaining: 523ms\n",
      "877:\tlearn: 0.1312705\ttotal: 3.74s\tremaining: 519ms\n",
      "878:\tlearn: 0.1312121\ttotal: 3.74s\tremaining: 515ms\n",
      "879:\tlearn: 0.1312021\ttotal: 3.74s\tremaining: 510ms\n",
      "880:\tlearn: 0.1311060\ttotal: 3.75s\tremaining: 506ms\n",
      "881:\tlearn: 0.1310318\ttotal: 3.75s\tremaining: 502ms\n",
      "882:\tlearn: 0.1308994\ttotal: 3.75s\tremaining: 497ms\n",
      "883:\tlearn: 0.1308095\ttotal: 3.76s\tremaining: 493ms\n",
      "884:\tlearn: 0.1307684\ttotal: 3.76s\tremaining: 489ms\n",
      "885:\tlearn: 0.1306599\ttotal: 3.76s\tremaining: 484ms\n",
      "886:\tlearn: 0.1306430\ttotal: 3.77s\tremaining: 480ms\n",
      "887:\tlearn: 0.1305900\ttotal: 3.77s\tremaining: 476ms\n",
      "888:\tlearn: 0.1305294\ttotal: 3.77s\tremaining: 471ms\n",
      "889:\tlearn: 0.1304746\ttotal: 3.78s\tremaining: 467ms\n",
      "890:\tlearn: 0.1303884\ttotal: 3.78s\tremaining: 463ms\n",
      "891:\tlearn: 0.1303275\ttotal: 3.79s\tremaining: 458ms\n",
      "892:\tlearn: 0.1302741\ttotal: 3.79s\tremaining: 454ms\n",
      "893:\tlearn: 0.1302477\ttotal: 3.79s\tremaining: 450ms\n",
      "894:\tlearn: 0.1301225\ttotal: 3.8s\tremaining: 446ms\n",
      "895:\tlearn: 0.1300386\ttotal: 3.8s\tremaining: 441ms\n",
      "896:\tlearn: 0.1299712\ttotal: 3.81s\tremaining: 437ms\n",
      "897:\tlearn: 0.1298921\ttotal: 3.81s\tremaining: 433ms\n",
      "898:\tlearn: 0.1298335\ttotal: 3.81s\tremaining: 428ms\n",
      "899:\tlearn: 0.1298037\ttotal: 3.82s\tremaining: 424ms\n",
      "900:\tlearn: 0.1297334\ttotal: 3.82s\tremaining: 420ms\n",
      "901:\tlearn: 0.1297248\ttotal: 3.82s\tremaining: 416ms\n",
      "902:\tlearn: 0.1296589\ttotal: 3.83s\tremaining: 411ms\n",
      "903:\tlearn: 0.1296138\ttotal: 3.83s\tremaining: 407ms\n",
      "904:\tlearn: 0.1295535\ttotal: 3.83s\tremaining: 402ms\n",
      "905:\tlearn: 0.1295155\ttotal: 3.84s\tremaining: 398ms\n",
      "906:\tlearn: 0.1294453\ttotal: 3.84s\tremaining: 394ms\n",
      "907:\tlearn: 0.1294123\ttotal: 3.84s\tremaining: 390ms\n",
      "908:\tlearn: 0.1293660\ttotal: 3.85s\tremaining: 385ms\n",
      "909:\tlearn: 0.1293304\ttotal: 3.85s\tremaining: 381ms\n",
      "910:\tlearn: 0.1293136\ttotal: 3.85s\tremaining: 377ms\n",
      "911:\tlearn: 0.1293056\ttotal: 3.86s\tremaining: 372ms\n",
      "912:\tlearn: 0.1291886\ttotal: 3.86s\tremaining: 368ms\n",
      "913:\tlearn: 0.1291878\ttotal: 3.86s\tremaining: 364ms\n",
      "914:\tlearn: 0.1291519\ttotal: 3.87s\tremaining: 359ms\n",
      "915:\tlearn: 0.1291243\ttotal: 3.87s\tremaining: 355ms\n",
      "916:\tlearn: 0.1290764\ttotal: 3.88s\tremaining: 351ms\n",
      "917:\tlearn: 0.1289636\ttotal: 3.88s\tremaining: 346ms\n",
      "918:\tlearn: 0.1288888\ttotal: 3.88s\tremaining: 342ms\n",
      "919:\tlearn: 0.1288555\ttotal: 3.88s\tremaining: 338ms\n",
      "920:\tlearn: 0.1288463\ttotal: 3.89s\tremaining: 334ms\n",
      "921:\tlearn: 0.1287846\ttotal: 3.89s\tremaining: 329ms\n",
      "922:\tlearn: 0.1287255\ttotal: 3.9s\tremaining: 325ms\n",
      "923:\tlearn: 0.1287129\ttotal: 3.9s\tremaining: 321ms\n",
      "924:\tlearn: 0.1286512\ttotal: 3.9s\tremaining: 317ms\n",
      "925:\tlearn: 0.1285867\ttotal: 3.91s\tremaining: 312ms\n",
      "926:\tlearn: 0.1285182\ttotal: 3.91s\tremaining: 308ms\n",
      "927:\tlearn: 0.1284687\ttotal: 3.92s\tremaining: 304ms\n",
      "928:\tlearn: 0.1284379\ttotal: 3.92s\tremaining: 300ms\n",
      "929:\tlearn: 0.1283502\ttotal: 3.92s\tremaining: 295ms\n",
      "930:\tlearn: 0.1283405\ttotal: 3.93s\tremaining: 291ms\n",
      "931:\tlearn: 0.1282759\ttotal: 3.93s\tremaining: 287ms\n",
      "932:\tlearn: 0.1282558\ttotal: 3.93s\tremaining: 282ms\n",
      "933:\tlearn: 0.1281964\ttotal: 3.94s\tremaining: 278ms\n",
      "934:\tlearn: 0.1281945\ttotal: 3.94s\tremaining: 274ms\n",
      "935:\tlearn: 0.1281920\ttotal: 3.94s\tremaining: 270ms\n",
      "936:\tlearn: 0.1281255\ttotal: 3.95s\tremaining: 266ms\n",
      "937:\tlearn: 0.1281231\ttotal: 3.95s\tremaining: 261ms\n",
      "938:\tlearn: 0.1281017\ttotal: 3.96s\tremaining: 257ms\n",
      "939:\tlearn: 0.1280594\ttotal: 3.96s\tremaining: 253ms\n",
      "940:\tlearn: 0.1280526\ttotal: 3.96s\tremaining: 249ms\n",
      "941:\tlearn: 0.1279960\ttotal: 3.97s\tremaining: 244ms\n",
      "942:\tlearn: 0.1279282\ttotal: 3.97s\tremaining: 240ms\n",
      "943:\tlearn: 0.1278833\ttotal: 3.98s\tremaining: 236ms\n",
      "944:\tlearn: 0.1278725\ttotal: 3.98s\tremaining: 232ms\n",
      "945:\tlearn: 0.1278470\ttotal: 3.98s\tremaining: 227ms\n",
      "946:\tlearn: 0.1277982\ttotal: 3.99s\tremaining: 223ms\n",
      "947:\tlearn: 0.1277880\ttotal: 3.99s\tremaining: 219ms\n",
      "948:\tlearn: 0.1277845\ttotal: 3.99s\tremaining: 215ms\n",
      "949:\tlearn: 0.1277369\ttotal: 4s\tremaining: 210ms\n",
      "950:\tlearn: 0.1276717\ttotal: 4s\tremaining: 206ms\n",
      "951:\tlearn: 0.1276178\ttotal: 4s\tremaining: 202ms\n",
      "952:\tlearn: 0.1275242\ttotal: 4.01s\tremaining: 198ms\n",
      "953:\tlearn: 0.1274816\ttotal: 4.01s\tremaining: 193ms\n",
      "954:\tlearn: 0.1274192\ttotal: 4.02s\tremaining: 189ms\n",
      "955:\tlearn: 0.1273418\ttotal: 4.02s\tremaining: 185ms\n",
      "956:\tlearn: 0.1272915\ttotal: 4.02s\tremaining: 181ms\n",
      "957:\tlearn: 0.1272648\ttotal: 4.03s\tremaining: 177ms\n",
      "958:\tlearn: 0.1272070\ttotal: 4.03s\tremaining: 172ms\n",
      "959:\tlearn: 0.1271532\ttotal: 4.03s\tremaining: 168ms\n",
      "960:\tlearn: 0.1270731\ttotal: 4.04s\tremaining: 164ms\n",
      "961:\tlearn: 0.1269869\ttotal: 4.04s\tremaining: 160ms\n",
      "962:\tlearn: 0.1269524\ttotal: 4.04s\tremaining: 155ms\n",
      "963:\tlearn: 0.1269503\ttotal: 4.05s\tremaining: 151ms\n",
      "964:\tlearn: 0.1269111\ttotal: 4.05s\tremaining: 147ms\n",
      "965:\tlearn: 0.1268530\ttotal: 4.05s\tremaining: 143ms\n",
      "966:\tlearn: 0.1268316\ttotal: 4.06s\tremaining: 139ms\n",
      "967:\tlearn: 0.1267802\ttotal: 4.06s\tremaining: 134ms\n",
      "968:\tlearn: 0.1267300\ttotal: 4.07s\tremaining: 130ms\n",
      "969:\tlearn: 0.1266754\ttotal: 4.07s\tremaining: 126ms\n",
      "970:\tlearn: 0.1266201\ttotal: 4.07s\tremaining: 122ms\n",
      "971:\tlearn: 0.1265648\ttotal: 4.08s\tremaining: 117ms\n",
      "972:\tlearn: 0.1265130\ttotal: 4.08s\tremaining: 113ms\n",
      "973:\tlearn: 0.1264867\ttotal: 4.08s\tremaining: 109ms\n",
      "974:\tlearn: 0.1263835\ttotal: 4.09s\tremaining: 105ms\n",
      "975:\tlearn: 0.1263491\ttotal: 4.09s\tremaining: 101ms\n",
      "976:\tlearn: 0.1262495\ttotal: 4.09s\tremaining: 96.4ms\n",
      "977:\tlearn: 0.1262478\ttotal: 4.1s\tremaining: 92.2ms\n",
      "978:\tlearn: 0.1262123\ttotal: 4.1s\tremaining: 88ms\n",
      "979:\tlearn: 0.1261677\ttotal: 4.11s\tremaining: 83.8ms\n",
      "980:\tlearn: 0.1261185\ttotal: 4.11s\tremaining: 79.6ms\n",
      "981:\tlearn: 0.1260898\ttotal: 4.11s\tremaining: 75.4ms\n",
      "982:\tlearn: 0.1260601\ttotal: 4.12s\tremaining: 71.2ms\n",
      "983:\tlearn: 0.1260512\ttotal: 4.12s\tremaining: 67ms\n",
      "984:\tlearn: 0.1260184\ttotal: 4.12s\tremaining: 62.8ms\n",
      "985:\tlearn: 0.1259927\ttotal: 4.13s\tremaining: 58.6ms\n",
      "986:\tlearn: 0.1259089\ttotal: 4.13s\tremaining: 54.4ms\n",
      "987:\tlearn: 0.1258996\ttotal: 4.13s\tremaining: 50.2ms\n",
      "988:\tlearn: 0.1257646\ttotal: 4.14s\tremaining: 46ms\n",
      "989:\tlearn: 0.1256486\ttotal: 4.14s\tremaining: 41.9ms\n",
      "990:\tlearn: 0.1255909\ttotal: 4.15s\tremaining: 37.7ms\n",
      "991:\tlearn: 0.1255575\ttotal: 4.15s\tremaining: 33.5ms\n",
      "992:\tlearn: 0.1255036\ttotal: 4.15s\tremaining: 29.3ms\n"
     ]
    },
    {
     "name": "stdout",
     "output_type": "stream",
     "text": [
      "993:\tlearn: 0.1254528\ttotal: 4.16s\tremaining: 25.1ms\n",
      "994:\tlearn: 0.1254364\ttotal: 4.16s\tremaining: 20.9ms\n",
      "995:\tlearn: 0.1253833\ttotal: 4.17s\tremaining: 16.7ms\n",
      "996:\tlearn: 0.1253471\ttotal: 4.17s\tremaining: 12.6ms\n",
      "997:\tlearn: 0.1253136\ttotal: 4.17s\tremaining: 8.37ms\n",
      "998:\tlearn: 0.1252624\ttotal: 4.18s\tremaining: 4.18ms\n",
      "999:\tlearn: 0.1252252\ttotal: 4.18s\tremaining: 0us\n"
     ]
    },
    {
     "data": {
      "text/plain": [
       "<catboost.core.CatBoostRegressor at 0x244edc7aeb0>"
      ]
     },
     "execution_count": 122,
     "metadata": {},
     "output_type": "execute_result"
    }
   ],
   "source": [
    "model = CatBoostRegressor()\n",
    "model.fit(x_train_20, y_train_20)"
   ]
  },
  {
   "cell_type": "code",
   "execution_count": 123,
   "id": "d76be8b6",
   "metadata": {},
   "outputs": [
    {
     "name": "stdout",
     "output_type": "stream",
     "text": [
      "14799509210.055956\n"
     ]
    }
   ],
   "source": [
    "y_pred_20 = model.predict(x_test_20)\n",
    "# Calculation of Mean Squared Error (MSE)\n",
    "mse = mean_squared_error(np.exp(y_test_20), np.exp(y_pred_20))\n",
    "print(mse)"
   ]
  },
  {
   "cell_type": "code",
   "execution_count": 124,
   "id": "f663aab7",
   "metadata": {},
   "outputs": [
    {
     "name": "stdout",
     "output_type": "stream",
     "text": [
      "0.4960127591706539\n"
     ]
    }
   ],
   "source": [
    "acc = accuracy_threshold(y_test_20, y_pred_20, 0.1)\n",
    "print(acc)"
   ]
  },
  {
   "cell_type": "code",
   "execution_count": 125,
   "id": "71f5ba51",
   "metadata": {},
   "outputs": [
    {
     "name": "stdout",
     "output_type": "stream",
     "text": [
      "Median Absolute Error:\n",
      "\n",
      "32710.960724302713\n"
     ]
    }
   ],
   "source": [
    "median_se = np.square(np.subtract(np.exp(y_test_20), np.exp(y_pred_20))).median() \n",
    " \n",
    "med = math.sqrt(median_se)\n",
    "print(\"Median Absolute Error:\\n\")\n",
    "print(med)"
   ]
  },
  {
   "cell_type": "code",
   "execution_count": 126,
   "id": "0df8593f",
   "metadata": {},
   "outputs": [
    {
     "name": "stdout",
     "output_type": "stream",
     "text": [
      "Root Mean Square Error:\n",
      "\n",
      "121653.23345499687\n"
     ]
    }
   ],
   "source": [
    "mean = np.square(np.subtract(np.exp(y_test_20), np.exp(y_pred_20))).mean() \n",
    " \n",
    "mean = math.sqrt(mean)\n",
    "print(\"Root Mean Square Error:\\n\")\n",
    "print(mean)"
   ]
  },
  {
   "cell_type": "code",
   "execution_count": 127,
   "id": "806840da",
   "metadata": {},
   "outputs": [
    {
     "name": "stdout",
     "output_type": "stream",
     "text": [
      "MAPE for CatBoost 2020 is: 0.1893143521118286\n"
     ]
    }
   ],
   "source": [
    "mape = mean_absolute_percentage_error(np.exp(y_test_20), np.exp(y_pred_20))\n",
    "print(\"MAPE for CatBoost 2020 is: \" + str(mape))"
   ]
  },
  {
   "cell_type": "code",
   "execution_count": 128,
   "id": "0d585c1e",
   "metadata": {},
   "outputs": [],
   "source": [
    "cnames=['Algorithm', 'Year', 'RMSE', 'MSE', 'MEDAE', 'Accuracy', 'MAPE']\n",
    "df2 = pd.DataFrame(columns=cnames)\n",
    "\n",
    "df2 = df2.append({'Algorithm': 'CatBoost',\n",
    "            'Year': 2020,\n",
    "           'RMSE': mean,\n",
    "           'MSE': mse,\n",
    "           'MEDAE': med,\n",
    "           'Accuracy': acc,\n",
    "           'MAPE': mape       \n",
    "          }, ignore_index=True)"
   ]
  },
  {
   "cell_type": "markdown",
   "id": "9e1bd141",
   "metadata": {},
   "source": [
    "### Bayesian Ridge"
   ]
  },
  {
   "cell_type": "markdown",
   "id": "1421f212",
   "metadata": {},
   "source": [
    "#### 2021"
   ]
  },
  {
   "cell_type": "code",
   "execution_count": 129,
   "id": "35158c1f",
   "metadata": {},
   "outputs": [],
   "source": [
    "from sklearn.linear_model import BayesianRidge, LinearRegression"
   ]
  },
  {
   "cell_type": "code",
   "execution_count": 130,
   "id": "00491334",
   "metadata": {},
   "outputs": [
    {
     "data": {
      "text/plain": [
       "BayesianRidge()"
      ]
     },
     "execution_count": 130,
     "metadata": {},
     "output_type": "execute_result"
    }
   ],
   "source": [
    "clf = BayesianRidge()\n",
    "clf.fit(x_train_21, y_train_21)"
   ]
  },
  {
   "cell_type": "code",
   "execution_count": 131,
   "id": "1380ed38",
   "metadata": {},
   "outputs": [
    {
     "name": "stdout",
     "output_type": "stream",
     "text": [
      "29823589462.063454\n"
     ]
    }
   ],
   "source": [
    "y_pred_21 = clf.predict(x_test_21)\n",
    "# Calculation of Mean Squared Error (MSE)\n",
    "mse = mean_squared_error(np.exp(y_test_21), np.exp(y_pred_21))\n",
    "print(mse)"
   ]
  },
  {
   "cell_type": "code",
   "execution_count": 132,
   "id": "3a48b954",
   "metadata": {},
   "outputs": [
    {
     "name": "stdout",
     "output_type": "stream",
     "text": [
      "0.4433164128595601\n"
     ]
    }
   ],
   "source": [
    "acc = accuracy_threshold(y_test_21, y_pred_21, 0.1)\n",
    "print(acc)"
   ]
  },
  {
   "cell_type": "code",
   "execution_count": 133,
   "id": "e38bd984",
   "metadata": {},
   "outputs": [
    {
     "name": "stdout",
     "output_type": "stream",
     "text": [
      "Median Absolute Error:\n",
      "\n",
      "45861.68285547092\n"
     ]
    }
   ],
   "source": [
    "median_se = np.square(np.subtract(np.exp(y_test_21), np.exp(y_pred_21))).median() \n",
    " \n",
    "med = math.sqrt(median_se)\n",
    "print(\"Median Absolute Error:\\n\")\n",
    "print(med)"
   ]
  },
  {
   "cell_type": "code",
   "execution_count": 134,
   "id": "5e38e2ed",
   "metadata": {},
   "outputs": [
    {
     "name": "stdout",
     "output_type": "stream",
     "text": [
      "Root Mean Square Error:\n",
      "\n",
      "172695.076542626\n"
     ]
    }
   ],
   "source": [
    "mean = np.square(np.subtract(np.exp(y_test_21), np.exp(y_pred_21))).mean() \n",
    " \n",
    "mean = math.sqrt(mean)\n",
    "print(\"Root Mean Square Error:\\n\")\n",
    "print(mean)"
   ]
  },
  {
   "cell_type": "code",
   "execution_count": 135,
   "id": "63f02c5c",
   "metadata": {},
   "outputs": [
    {
     "name": "stdout",
     "output_type": "stream",
     "text": [
      "MAPE for BayesianRidge 2021 is: 0.2058875362687914\n"
     ]
    }
   ],
   "source": [
    "mape = mean_absolute_percentage_error(np.exp(y_test_21), np.exp(y_pred_21))\n",
    "print(\"MAPE for BayesianRidge 2021 is: \" + str(mape))"
   ]
  },
  {
   "cell_type": "code",
   "execution_count": 136,
   "id": "9c1019b2",
   "metadata": {},
   "outputs": [],
   "source": [
    "cnames=['Algorithm', 'Year', 'RMSE', 'MSE', 'MEDAE', 'Accuracy', 'MAPE']\n",
    "df1 = pd.DataFrame(columns=cnames)\n",
    "\n",
    "df1 = df1.append({'Algorithm': 'Bayesian',\n",
    "            'Year': 2021,\n",
    "           'RMSE': mean,\n",
    "           'MSE': mse,\n",
    "           'MEDAE': med,\n",
    "           'Accuracy': acc,\n",
    "           'MAPE': mape       \n",
    "          }, ignore_index=True)"
   ]
  },
  {
   "cell_type": "markdown",
   "id": "bd4b02bb",
   "metadata": {},
   "source": [
    "#### 2020"
   ]
  },
  {
   "cell_type": "code",
   "execution_count": 137,
   "id": "583e22dc",
   "metadata": {},
   "outputs": [
    {
     "data": {
      "text/plain": [
       "BayesianRidge()"
      ]
     },
     "execution_count": 137,
     "metadata": {},
     "output_type": "execute_result"
    }
   ],
   "source": [
    "clf = BayesianRidge()\n",
    "clf.fit(x_train_20, y_train_20)"
   ]
  },
  {
   "cell_type": "code",
   "execution_count": 138,
   "id": "8db9cb3e",
   "metadata": {},
   "outputs": [
    {
     "name": "stdout",
     "output_type": "stream",
     "text": [
      "21324053776.5032\n"
     ]
    }
   ],
   "source": [
    "y_pred_20 = clf.predict(x_test_20)\n",
    "# Calculation of Mean Squared Error (MSE)\n",
    "mse = mean_squared_error(np.exp(y_test_20), np.exp(y_pred_20))\n",
    "print(mse)"
   ]
  },
  {
   "cell_type": "code",
   "execution_count": 139,
   "id": "d52ba61f",
   "metadata": {},
   "outputs": [
    {
     "name": "stdout",
     "output_type": "stream",
     "text": [
      "0.3700159489633174\n"
     ]
    }
   ],
   "source": [
    "acc = accuracy_threshold(y_test_20, y_pred_20, 0.1)\n",
    "print(acc)"
   ]
  },
  {
   "cell_type": "code",
   "execution_count": 140,
   "id": "d4500d2d",
   "metadata": {},
   "outputs": [
    {
     "name": "stdout",
     "output_type": "stream",
     "text": [
      "Median Absolute Error:\n",
      "\n",
      "45819.520516264834\n"
     ]
    }
   ],
   "source": [
    "median_se = np.square(np.subtract(np.exp(y_test_20), np.exp(y_pred_20))).median() \n",
    " \n",
    "med = math.sqrt(median_se)\n",
    "print(\"Median Absolute Error:\\n\")\n",
    "print(med)"
   ]
  },
  {
   "cell_type": "code",
   "execution_count": 141,
   "id": "ce5624d8",
   "metadata": {},
   "outputs": [
    {
     "name": "stdout",
     "output_type": "stream",
     "text": [
      "Root Mean Square Error:\n",
      "\n",
      "146027.57882161567\n"
     ]
    }
   ],
   "source": [
    "mean = np.square(np.subtract(np.exp(y_test_20), np.exp(y_pred_20))).mean() \n",
    " \n",
    "mean = math.sqrt(mean)\n",
    "print(\"Root Mean Square Error:\\n\")\n",
    "print(mean)"
   ]
  },
  {
   "cell_type": "code",
   "execution_count": 142,
   "id": "47802a1e",
   "metadata": {},
   "outputs": [
    {
     "name": "stdout",
     "output_type": "stream",
     "text": [
      "MAPE for BayesianRidge 2021 is: 0.2310731134994484\n"
     ]
    }
   ],
   "source": [
    "mape = mean_absolute_percentage_error(np.exp(y_test_20), np.exp(y_pred_20))\n",
    "print(\"MAPE for BayesianRidge 2021 is: \" + str(mape))"
   ]
  },
  {
   "cell_type": "code",
   "execution_count": 143,
   "id": "8c6caf77",
   "metadata": {},
   "outputs": [],
   "source": [
    "cnames=['Algorithm', 'Year', 'RMSE', 'MSE', 'MEDAE', 'Accuracy', 'MAPE']\n",
    "df = pd.DataFrame(columns=cnames)\n",
    "\n",
    "df = df.append({'Algorithm': 'Bayesian',\n",
    "           'Year': 2020,\n",
    "           'RMSE': mean,\n",
    "           'MSE': mse,\n",
    "           'MEDAE': med,\n",
    "           'Accuracy': acc,\n",
    "           'MAPE': mape     \n",
    "          }, ignore_index=True)"
   ]
  },
  {
   "cell_type": "code",
   "execution_count": 144,
   "id": "001ed65f",
   "metadata": {},
   "outputs": [],
   "source": [
    "vis = pd.concat([df, df1, df2, df3, df4, df5, df6, df7, df8, df9, df10, df11], ignore_index=True)"
   ]
  },
  {
   "cell_type": "markdown",
   "id": "ebe84e60",
   "metadata": {},
   "source": [
    "## Let's test on more years of data now\n",
    "### 2019"
   ]
  },
  {
   "cell_type": "code",
   "execution_count": 145,
   "id": "a28e082d",
   "metadata": {},
   "outputs": [],
   "source": [
    "specific19 = irl[irl['Year'] > 2015]"
   ]
  },
  {
   "cell_type": "code",
   "execution_count": 146,
   "id": "8f1319f8",
   "metadata": {},
   "outputs": [],
   "source": [
    "test_19 = specific19[specific19['Year'] == 2019]\n",
    "train_19 = specific19[specific19['Year'] < 2019]\n",
    "\n",
    "#train_19 = train_19.sample(n = 80000)\n",
    "#test_19 = test_19.sample(n = 20000)"
   ]
  },
  {
   "cell_type": "code",
   "execution_count": 147,
   "id": "8417a368",
   "metadata": {},
   "outputs": [],
   "source": [
    "x_train_19 = train_19.loc[:, train_19.columns != 'LogPrice (€)']\n",
    "y_train_19 = train_19['LogPrice (€)']\n",
    "x_test_19 = test_19.loc[:, test_19.columns != 'LogPrice (€)']\n",
    "y_test_19 = test_19['LogPrice (€)']"
   ]
  },
  {
   "cell_type": "code",
   "execution_count": 148,
   "id": "e8a9594b",
   "metadata": {},
   "outputs": [],
   "source": [
    "#x_train_19.drop(columns=['Year'], inplace = True)\n",
    "#x_test_19.drop(columns=['Year'], inplace = True)"
   ]
  },
  {
   "cell_type": "markdown",
   "id": "c3a2cce4",
   "metadata": {},
   "source": [
    "#### AutoML"
   ]
  },
  {
   "cell_type": "code",
   "execution_count": 149,
   "id": "4828a079",
   "metadata": {},
   "outputs": [
    {
     "name": "stdout",
     "output_type": "stream",
     "text": [
      "AutoML directory: AutoML_8\n",
      "The task is regression with evaluation metric rmse\n",
      "AutoML will use algorithms: ['Baseline', 'Linear', 'Decision Tree', 'Random Forest', 'Xgboost', 'Neural Network']\n",
      "AutoML will ensemble available models\n",
      "AutoML steps: ['simple_algorithms', 'default_algorithms', 'ensemble']\n",
      "* Step simple_algorithms will try to check up to 3 models\n",
      "1_Baseline rmse 0.474083 trained in 0.83 seconds\n",
      "2_DecisionTree rmse 0.284646 trained in 5.28 seconds\n",
      "3_Linear rmse 0.282434 trained in 3.8 seconds\n",
      "* Step default_algorithms will try to check up to 3 models\n",
      "4_Default_Xgboost rmse 0.254576 trained in 5.48 seconds\n",
      "5_Default_NeuralNetwork rmse 0.279006 trained in 1.65 seconds\n",
      "6_Default_RandomForest rmse 0.263363 trained in 4.97 seconds\n",
      "* Step ensemble will try to check up to 1 model\n",
      "Ensemble rmse 0.248744 trained in 0.39 seconds\n",
      "AutoML fit time: 35.5 seconds\n",
      "AutoML best model: Ensemble\n"
     ]
    },
    {
     "data": {
      "text/plain": [
       "AutoML(explain_level=2, total_time_limit=300)"
      ]
     },
     "execution_count": 149,
     "metadata": {},
     "output_type": "execute_result"
    }
   ],
   "source": [
    "automl = AutoML(total_time_limit = 5 * 60, explain_level = 2)\n",
    "automl.fit(x_train_19, y_train_19)"
   ]
  },
  {
   "cell_type": "code",
   "execution_count": 150,
   "id": "b4537cbc",
   "metadata": {},
   "outputs": [
    {
     "name": "stdout",
     "output_type": "stream",
     "text": [
      "MSE for AutoML 2019 is: 8541658353.358333\n"
     ]
    }
   ],
   "source": [
    "y_pred_19 = automl.predict(x_test_19)\n",
    "# Calculation of Mean Squared Error (MSE)\n",
    "mse = mean_squared_error(np.exp(y_test_19), np.exp(y_pred_19))\n",
    "print('MSE for AutoML 2019 is: ' + str(mse))"
   ]
  },
  {
   "cell_type": "code",
   "execution_count": 151,
   "id": "f339b06f",
   "metadata": {},
   "outputs": [
    {
     "name": "stdout",
     "output_type": "stream",
     "text": [
      "Accuracy of properties at +- 10% of actual prices is 0.47361809045226133\n"
     ]
    }
   ],
   "source": [
    "acc = accuracy_threshold(y_test_19, y_pred_19, 0.1)\n",
    "print('Accuracy of properties at +- 10% of actual prices is ' + str(acc))"
   ]
  },
  {
   "cell_type": "code",
   "execution_count": 152,
   "id": "c4efa50f",
   "metadata": {},
   "outputs": [
    {
     "name": "stdout",
     "output_type": "stream",
     "text": [
      "RMSE for AutoML 2019 is: 92421.09257825474\n"
     ]
    }
   ],
   "source": [
    "rmse = mean_squared_error(np.exp(y_test_19), np.exp(y_pred_19), squared=False)\n",
    "print('RMSE for AutoML 2019 is: ' + str(rmse))"
   ]
  },
  {
   "cell_type": "code",
   "execution_count": 153,
   "id": "27785851",
   "metadata": {},
   "outputs": [
    {
     "name": "stdout",
     "output_type": "stream",
     "text": [
      "Median Absolute Error:\n",
      "\n",
      "35381.23890337948\n"
     ]
    }
   ],
   "source": [
    "median_se = np.square(np.subtract(np.exp(y_test_19), np.exp(y_pred_19))).median() \n",
    " \n",
    "med = math.sqrt(median_se)\n",
    "print(\"Median Absolute Error:\\n\")\n",
    "print(med)"
   ]
  },
  {
   "cell_type": "code",
   "execution_count": 154,
   "id": "6f9d464d",
   "metadata": {},
   "outputs": [
    {
     "name": "stdout",
     "output_type": "stream",
     "text": [
      "MAPE for AutoML 2019 is: 0.15690344754623267\n"
     ]
    }
   ],
   "source": [
    "mape = mean_absolute_percentage_error(np.exp(y_test_19), np.exp(y_pred_19))\n",
    "print(\"MAPE for AutoML 2019 is: \" + str(mape))"
   ]
  },
  {
   "cell_type": "code",
   "execution_count": 155,
   "id": "8721e6a7",
   "metadata": {},
   "outputs": [],
   "source": [
    "cnames = ['Algorithm', 'Year', 'RMSE', 'MSE', 'MEDAE', 'Accuracy', 'MAPE']\n",
    "df12 = pd.DataFrame(columns = cnames)\n",
    "\n",
    "df12 = df12.append({'Algorithm': 'AutoML',\n",
    "           'Year': 2019,\n",
    "           'RMSE': rmse,\n",
    "           'MSE': mse,\n",
    "           'MEDAE': med,\n",
    "           'Accuracy': acc,\n",
    "           'MAPE': mape         \n",
    "          }, ignore_index = True)"
   ]
  },
  {
   "cell_type": "code",
   "execution_count": 156,
   "id": "3d0997f5",
   "metadata": {},
   "outputs": [],
   "source": [
    "#cnames = ['Actual', 'Predicted']\n",
    "#dfreal3 = pd.DataFrame(columns = cnames)\n",
    "dfreal3 = pd.DataFrame(y_test_19.values)\n",
    "dfpred3 = pd.DataFrame(y_pred_19)\n",
    "#dfreal3 = pd.concat([z1, z2], ignore_index=True)"
   ]
  },
  {
   "cell_type": "markdown",
   "id": "ca2efb79",
   "metadata": {},
   "source": [
    "### MLR"
   ]
  },
  {
   "cell_type": "code",
   "execution_count": 157,
   "id": "275ddaff",
   "metadata": {},
   "outputs": [
    {
     "name": "stdout",
     "output_type": "stream",
     "text": [
      "MSE for MLR 2019 is: 8032117396.60367\n"
     ]
    }
   ],
   "source": [
    "lm = linear_model.LinearRegression()\n",
    "lm.fit(x_train_19, y_train_19) # fitting the model\n",
    "y_pred_19 = lm.predict(x_test_19)\n",
    "# Calculation of Mean Squared Error (MSE)\n",
    "mse = mean_squared_error(np.exp(y_test_19), np.exp(y_pred_19))\n",
    "print('MSE for MLR 2019 is: ' + str(mse))"
   ]
  },
  {
   "cell_type": "code",
   "execution_count": 158,
   "id": "7b81a829",
   "metadata": {},
   "outputs": [
    {
     "name": "stdout",
     "output_type": "stream",
     "text": [
      "RMSE for MLR 2019 is: 89622.08096559503\n"
     ]
    }
   ],
   "source": [
    "rmse = mean_squared_error(np.exp(y_test_19), np.exp(y_pred_19), squared = False)\n",
    "print('RMSE for MLR 2019 is: ' + str(rmse))"
   ]
  },
  {
   "cell_type": "code",
   "execution_count": 159,
   "id": "667a1d99",
   "metadata": {},
   "outputs": [
    {
     "name": "stdout",
     "output_type": "stream",
     "text": [
      "Median Absolute Error:\n",
      "\n",
      "39856.36989130309\n"
     ]
    }
   ],
   "source": [
    "median_se = np.square(np.subtract(np.exp(y_test_19), np.exp(y_pred_19))).median() \n",
    " \n",
    "med = math.sqrt(median_se)\n",
    "print(\"Median Absolute Error:\\n\")\n",
    "print(med)"
   ]
  },
  {
   "cell_type": "code",
   "execution_count": 160,
   "id": "7677f5ef",
   "metadata": {},
   "outputs": [
    {
     "name": "stdout",
     "output_type": "stream",
     "text": [
      "Accuracy of properties at +- 10% of actual prices is 0.41457286432160806\n"
     ]
    }
   ],
   "source": [
    "acc = accuracy_threshold(y_test_19, y_pred_19, 0.1)\n",
    "print('Accuracy of properties at +- 10% of actual prices is ' + str(acc))"
   ]
  },
  {
   "cell_type": "code",
   "execution_count": 161,
   "id": "bf56c4b5",
   "metadata": {},
   "outputs": [
    {
     "name": "stdout",
     "output_type": "stream",
     "text": [
      "MAPE for MLR 2019 is: 0.1702823310473607\n"
     ]
    }
   ],
   "source": [
    "mape = mean_absolute_percentage_error(np.exp(y_test_19), np.exp(y_pred_19))\n",
    "print(\"MAPE for MLR 2019 is: \" + str(mape))"
   ]
  },
  {
   "cell_type": "code",
   "execution_count": 162,
   "id": "73c874fe",
   "metadata": {},
   "outputs": [],
   "source": [
    "cnames = ['Algorithm', 'Year', 'RMSE', 'MSE', 'MEDAE', 'Accuracy', 'MAPE']\n",
    "df13 = pd.DataFrame(columns = cnames)\n",
    "\n",
    "df13 = df13.append({'Algorithm': 'MLR',\n",
    "           'Year': 2019,\n",
    "           'RMSE': rmse,\n",
    "           'MSE': mse,\n",
    "           'MEDAE': med,\n",
    "           'Accuracy': acc,\n",
    "           'MAPE': mape         \n",
    "          }, ignore_index = True)"
   ]
  },
  {
   "cell_type": "markdown",
   "id": "7d2dfd92",
   "metadata": {},
   "source": [
    "### AdaBoost"
   ]
  },
  {
   "cell_type": "code",
   "execution_count": 163,
   "id": "38c87d78",
   "metadata": {},
   "outputs": [
    {
     "name": "stdout",
     "output_type": "stream",
     "text": [
      "MSE for AdaBoost 2019 is: 15360552776.339424\n"
     ]
    }
   ],
   "source": [
    "model = AdaBoostRegressor()\n",
    "model.fit(x_train_19, y_train_19)\n",
    "y_pred_19 = model.predict(x_test_19)\n",
    "# Calculation of Mean Squared Error (MSE)\n",
    "mse = mean_squared_error(np.exp(y_test_19), np.exp(y_pred_19))\n",
    "print('MSE for AdaBoost 2019 is: ' + str(mse))"
   ]
  },
  {
   "cell_type": "code",
   "execution_count": 164,
   "id": "74084674",
   "metadata": {},
   "outputs": [
    {
     "name": "stdout",
     "output_type": "stream",
     "text": [
      "RMSE for MLR 2019 is: 123937.69715602846\n"
     ]
    }
   ],
   "source": [
    "rmse = mean_squared_error(np.exp(y_test_19), np.exp(y_pred_19), squared = False)\n",
    "print('RMSE for MLR 2019 is: ' + str(rmse))"
   ]
  },
  {
   "cell_type": "code",
   "execution_count": 165,
   "id": "1ad6d4b4",
   "metadata": {},
   "outputs": [
    {
     "name": "stdout",
     "output_type": "stream",
     "text": [
      "Median Absolute Error:\n",
      "\n",
      "47865.67603525295\n"
     ]
    }
   ],
   "source": [
    "median_se = np.square(np.subtract(np.exp(y_test_19), np.exp(y_pred_19))).median() \n",
    " \n",
    "med = math.sqrt(median_se)\n",
    "print(\"Median Absolute Error:\\n\")\n",
    "print(med)"
   ]
  },
  {
   "cell_type": "code",
   "execution_count": 166,
   "id": "8597e974",
   "metadata": {},
   "outputs": [
    {
     "name": "stdout",
     "output_type": "stream",
     "text": [
      "Accuracy of properties at +- 10% of actual prices is 0.3165829145728643\n"
     ]
    }
   ],
   "source": [
    "acc = accuracy_threshold(y_test_19, y_pred_19, 0.1)\n",
    "print('Accuracy of properties at +- 10% of actual prices is ' + str(acc))"
   ]
  },
  {
   "cell_type": "code",
   "execution_count": 167,
   "id": "c6d16020",
   "metadata": {},
   "outputs": [
    {
     "name": "stdout",
     "output_type": "stream",
     "text": [
      "MAPE for AdaBoost 2019 is: 0.19675108686465373\n"
     ]
    }
   ],
   "source": [
    "mape = mean_absolute_percentage_error(np.exp(y_test_19), np.exp(y_pred_19))\n",
    "print(\"MAPE for AdaBoost 2019 is: \" + str(mape))"
   ]
  },
  {
   "cell_type": "code",
   "execution_count": 168,
   "id": "e1bef803",
   "metadata": {},
   "outputs": [],
   "source": [
    "cnames = ['Algorithm', 'Year', 'RMSE', 'MSE', 'MEDAE', 'Accuracy', 'MAPE']\n",
    "df14 = pd.DataFrame(columns = cnames)\n",
    "\n",
    "df14 = df14.append({'Algorithm': 'AdaBoost',\n",
    "           'Year': 2019,\n",
    "           'RMSE': rmse,\n",
    "           'MSE': mse,\n",
    "           'MEDAE': med,\n",
    "           'Accuracy': acc,\n",
    "           'MAPE': mape         \n",
    "          }, ignore_index = True)"
   ]
  },
  {
   "cell_type": "markdown",
   "id": "1938ea84",
   "metadata": {},
   "source": [
    "### LightGBM"
   ]
  },
  {
   "cell_type": "code",
   "execution_count": 169,
   "id": "32f45b77",
   "metadata": {},
   "outputs": [
    {
     "name": "stdout",
     "output_type": "stream",
     "text": [
      "MSE for LightGBM 2019 is: 9056992772.948454\n"
     ]
    }
   ],
   "source": [
    "model = LGBMRegressor()\n",
    "model.fit(x_train_19, y_train_19)\n",
    "y_pred_19 = model.predict(x_test_19)\n",
    "# Calculation of Mean Squared Error (MSE)\n",
    "mse = mean_squared_error(np.exp(y_test_19), np.exp(y_pred_19))\n",
    "print('MSE for LightGBM 2019 is: ' + str(mse))"
   ]
  },
  {
   "cell_type": "code",
   "execution_count": 170,
   "id": "5b08f229",
   "metadata": {},
   "outputs": [
    {
     "name": "stdout",
     "output_type": "stream",
     "text": [
      "RMSE for LightGBM 2019 is: 95168.23405395549\n"
     ]
    }
   ],
   "source": [
    "rmse = mean_squared_error(np.exp(y_test_19), np.exp(y_pred_19), squared = False)\n",
    "print('RMSE for LightGBM 2019 is: ' + str(rmse))"
   ]
  },
  {
   "cell_type": "code",
   "execution_count": 171,
   "id": "6e81490b",
   "metadata": {},
   "outputs": [
    {
     "name": "stdout",
     "output_type": "stream",
     "text": [
      "Median Absolute Error:\n",
      "\n",
      "37396.41997955364\n"
     ]
    }
   ],
   "source": [
    "median_se = np.square(np.subtract(np.exp(y_test_19), np.exp(y_pred_19))).median() \n",
    " \n",
    "med = math.sqrt(median_se)\n",
    "print(\"Median Absolute Error:\\n\")\n",
    "print(med)"
   ]
  },
  {
   "cell_type": "code",
   "execution_count": 172,
   "id": "620c3251",
   "metadata": {},
   "outputs": [
    {
     "name": "stdout",
     "output_type": "stream",
     "text": [
      "Accuracy of properties at +- 10% of actual prices is 0.46608040201005024\n"
     ]
    }
   ],
   "source": [
    "acc = accuracy_threshold(y_test_19, y_pred_19, 0.1)\n",
    "print('Accuracy of properties at +- 10% of actual prices is ' + str(acc))"
   ]
  },
  {
   "cell_type": "code",
   "execution_count": 173,
   "id": "8bab1881",
   "metadata": {},
   "outputs": [
    {
     "name": "stdout",
     "output_type": "stream",
     "text": [
      "MAPE for LightGBM 2019 is: 0.1697120601426125\n"
     ]
    }
   ],
   "source": [
    "mape = mean_absolute_percentage_error(np.exp(y_test_19), np.exp(y_pred_19))\n",
    "print(\"MAPE for LightGBM 2019 is: \" + str(mape))"
   ]
  },
  {
   "cell_type": "code",
   "execution_count": 174,
   "id": "68e44550",
   "metadata": {},
   "outputs": [],
   "source": [
    "cnames = ['Algorithm', 'Year', 'RMSE', 'MSE', 'MEDAE', 'Accuracy', 'MAPE']\n",
    "df15 = pd.DataFrame(columns = cnames)\n",
    "\n",
    "df15 = df15.append({'Algorithm': 'LightGBM',\n",
    "           'Year': 2019,\n",
    "           'RMSE': rmse,\n",
    "           'MSE': mse,\n",
    "           'MEDAE': med,\n",
    "           'Accuracy': acc,\n",
    "           'MAPE': mape         \n",
    "          }, ignore_index = True)"
   ]
  },
  {
   "cell_type": "markdown",
   "id": "0c32398d",
   "metadata": {},
   "source": [
    "### CatBoost"
   ]
  },
  {
   "cell_type": "code",
   "execution_count": 175,
   "id": "18c72840",
   "metadata": {},
   "outputs": [
    {
     "name": "stdout",
     "output_type": "stream",
     "text": [
      "Learning rate set to 0.044561\n",
      "0:\tlearn: 0.4934349\ttotal: 4.17ms\tremaining: 4.17s\n",
      "1:\tlearn: 0.4812409\ttotal: 7.5ms\tremaining: 3.74s\n",
      "2:\tlearn: 0.4695680\ttotal: 10.9ms\tremaining: 3.63s\n",
      "3:\tlearn: 0.4588480\ttotal: 14.2ms\tremaining: 3.54s\n",
      "4:\tlearn: 0.4491982\ttotal: 18ms\tremaining: 3.59s\n",
      "5:\tlearn: 0.4397786\ttotal: 21.4ms\tremaining: 3.55s\n",
      "6:\tlearn: 0.4304934\ttotal: 24.7ms\tremaining: 3.51s\n",
      "7:\tlearn: 0.4217032\ttotal: 27.9ms\tremaining: 3.46s\n",
      "8:\tlearn: 0.4136695\ttotal: 31.3ms\tremaining: 3.44s\n",
      "9:\tlearn: 0.4056247\ttotal: 34.8ms\tremaining: 3.44s\n",
      "10:\tlearn: 0.3984068\ttotal: 39.2ms\tremaining: 3.52s\n",
      "11:\tlearn: 0.3912656\ttotal: 42.6ms\tremaining: 3.51s\n",
      "12:\tlearn: 0.3845640\ttotal: 45.7ms\tremaining: 3.47s\n",
      "13:\tlearn: 0.3784825\ttotal: 49.4ms\tremaining: 3.48s\n",
      "14:\tlearn: 0.3729684\ttotal: 53.6ms\tremaining: 3.52s\n",
      "15:\tlearn: 0.3675563\ttotal: 57ms\tremaining: 3.51s\n",
      "16:\tlearn: 0.3622764\ttotal: 60.4ms\tremaining: 3.49s\n",
      "17:\tlearn: 0.3575602\ttotal: 64.2ms\tremaining: 3.5s\n",
      "18:\tlearn: 0.3527914\ttotal: 68.7ms\tremaining: 3.55s\n",
      "19:\tlearn: 0.3486990\ttotal: 99.9ms\tremaining: 4.9s\n",
      "20:\tlearn: 0.3443112\ttotal: 107ms\tremaining: 4.99s\n",
      "21:\tlearn: 0.3404803\ttotal: 114ms\tremaining: 5.06s\n",
      "22:\tlearn: 0.3366632\ttotal: 121ms\tremaining: 5.13s\n",
      "23:\tlearn: 0.3330827\ttotal: 125ms\tremaining: 5.08s\n",
      "24:\tlearn: 0.3296959\ttotal: 128ms\tremaining: 5.01s\n",
      "25:\tlearn: 0.3264914\ttotal: 132ms\tremaining: 4.94s\n",
      "26:\tlearn: 0.3234856\ttotal: 135ms\tremaining: 4.88s\n",
      "27:\tlearn: 0.3211053\ttotal: 139ms\tremaining: 4.83s\n",
      "28:\tlearn: 0.3184753\ttotal: 143ms\tremaining: 4.79s\n",
      "29:\tlearn: 0.3160135\ttotal: 147ms\tremaining: 4.76s\n",
      "30:\tlearn: 0.3138034\ttotal: 151ms\tremaining: 4.71s\n",
      "31:\tlearn: 0.3114976\ttotal: 155ms\tremaining: 4.68s\n",
      "32:\tlearn: 0.3091979\ttotal: 158ms\tremaining: 4.63s\n",
      "33:\tlearn: 0.3072881\ttotal: 163ms\tremaining: 4.62s\n",
      "34:\tlearn: 0.3051524\ttotal: 172ms\tremaining: 4.74s\n",
      "35:\tlearn: 0.3036213\ttotal: 175ms\tremaining: 4.69s\n",
      "36:\tlearn: 0.3014114\ttotal: 178ms\tremaining: 4.64s\n",
      "37:\tlearn: 0.2995593\ttotal: 182ms\tremaining: 4.61s\n",
      "38:\tlearn: 0.2975696\ttotal: 188ms\tremaining: 4.62s\n",
      "39:\tlearn: 0.2964473\ttotal: 192ms\tremaining: 4.6s\n",
      "40:\tlearn: 0.2950456\ttotal: 196ms\tremaining: 4.58s\n",
      "41:\tlearn: 0.2934970\ttotal: 201ms\tremaining: 4.59s\n",
      "42:\tlearn: 0.2920144\ttotal: 205ms\tremaining: 4.57s\n",
      "43:\tlearn: 0.2905048\ttotal: 211ms\tremaining: 4.58s\n",
      "44:\tlearn: 0.2893450\ttotal: 214ms\tremaining: 4.55s\n",
      "45:\tlearn: 0.2879123\ttotal: 218ms\tremaining: 4.51s\n",
      "46:\tlearn: 0.2866663\ttotal: 221ms\tremaining: 4.48s\n",
      "47:\tlearn: 0.2853859\ttotal: 225ms\tremaining: 4.47s\n",
      "48:\tlearn: 0.2844178\ttotal: 229ms\tremaining: 4.44s\n",
      "49:\tlearn: 0.2833458\ttotal: 232ms\tremaining: 4.42s\n",
      "50:\tlearn: 0.2821774\ttotal: 237ms\tremaining: 4.41s\n",
      "51:\tlearn: 0.2810196\ttotal: 240ms\tremaining: 4.38s\n",
      "52:\tlearn: 0.2800265\ttotal: 248ms\tremaining: 4.43s\n",
      "53:\tlearn: 0.2791811\ttotal: 251ms\tremaining: 4.4s\n",
      "54:\tlearn: 0.2784029\ttotal: 255ms\tremaining: 4.37s\n",
      "55:\tlearn: 0.2777113\ttotal: 258ms\tremaining: 4.35s\n",
      "56:\tlearn: 0.2768918\ttotal: 263ms\tremaining: 4.34s\n",
      "57:\tlearn: 0.2759990\ttotal: 267ms\tremaining: 4.34s\n",
      "58:\tlearn: 0.2753193\ttotal: 271ms\tremaining: 4.32s\n",
      "59:\tlearn: 0.2744993\ttotal: 274ms\tremaining: 4.3s\n",
      "60:\tlearn: 0.2739441\ttotal: 278ms\tremaining: 4.27s\n",
      "61:\tlearn: 0.2732064\ttotal: 281ms\tremaining: 4.25s\n",
      "62:\tlearn: 0.2725955\ttotal: 284ms\tremaining: 4.22s\n",
      "63:\tlearn: 0.2720180\ttotal: 287ms\tremaining: 4.2s\n",
      "64:\tlearn: 0.2708961\ttotal: 292ms\tremaining: 4.2s\n",
      "65:\tlearn: 0.2701270\ttotal: 296ms\tremaining: 4.18s\n",
      "66:\tlearn: 0.2695477\ttotal: 299ms\tremaining: 4.17s\n",
      "67:\tlearn: 0.2686266\ttotal: 307ms\tremaining: 4.2s\n",
      "68:\tlearn: 0.2677568\ttotal: 310ms\tremaining: 4.18s\n",
      "69:\tlearn: 0.2669401\ttotal: 314ms\tremaining: 4.17s\n",
      "70:\tlearn: 0.2664080\ttotal: 317ms\tremaining: 4.15s\n",
      "71:\tlearn: 0.2656666\ttotal: 322ms\tremaining: 4.15s\n",
      "72:\tlearn: 0.2648544\ttotal: 326ms\tremaining: 4.13s\n",
      "73:\tlearn: 0.2643036\ttotal: 329ms\tremaining: 4.12s\n",
      "74:\tlearn: 0.2636157\ttotal: 332ms\tremaining: 4.1s\n",
      "75:\tlearn: 0.2628375\ttotal: 337ms\tremaining: 4.1s\n",
      "76:\tlearn: 0.2622677\ttotal: 341ms\tremaining: 4.08s\n",
      "77:\tlearn: 0.2617154\ttotal: 344ms\tremaining: 4.07s\n",
      "78:\tlearn: 0.2611682\ttotal: 347ms\tremaining: 4.05s\n",
      "79:\tlearn: 0.2605558\ttotal: 351ms\tremaining: 4.04s\n",
      "80:\tlearn: 0.2600950\ttotal: 354ms\tremaining: 4.02s\n",
      "81:\tlearn: 0.2595798\ttotal: 358ms\tremaining: 4s\n",
      "82:\tlearn: 0.2590079\ttotal: 367ms\tremaining: 4.05s\n",
      "83:\tlearn: 0.2585336\ttotal: 370ms\tremaining: 4.04s\n",
      "84:\tlearn: 0.2577804\ttotal: 374ms\tremaining: 4.03s\n",
      "85:\tlearn: 0.2572355\ttotal: 381ms\tremaining: 4.05s\n",
      "86:\tlearn: 0.2568643\ttotal: 385ms\tremaining: 4.04s\n",
      "87:\tlearn: 0.2561939\ttotal: 390ms\tremaining: 4.04s\n",
      "88:\tlearn: 0.2557242\ttotal: 394ms\tremaining: 4.04s\n",
      "89:\tlearn: 0.2554088\ttotal: 398ms\tremaining: 4.03s\n",
      "90:\tlearn: 0.2549230\ttotal: 402ms\tremaining: 4.01s\n",
      "91:\tlearn: 0.2544392\ttotal: 405ms\tremaining: 4s\n",
      "92:\tlearn: 0.2539709\ttotal: 410ms\tremaining: 3.99s\n",
      "93:\tlearn: 0.2536357\ttotal: 413ms\tremaining: 3.98s\n",
      "94:\tlearn: 0.2530919\ttotal: 416ms\tremaining: 3.96s\n",
      "95:\tlearn: 0.2528417\ttotal: 420ms\tremaining: 3.95s\n",
      "96:\tlearn: 0.2523748\ttotal: 423ms\tremaining: 3.94s\n",
      "97:\tlearn: 0.2520564\ttotal: 427ms\tremaining: 3.93s\n",
      "98:\tlearn: 0.2516518\ttotal: 430ms\tremaining: 3.92s\n",
      "99:\tlearn: 0.2512955\ttotal: 435ms\tremaining: 3.91s\n",
      "100:\tlearn: 0.2507868\ttotal: 445ms\tremaining: 3.96s\n",
      "101:\tlearn: 0.2504994\ttotal: 449ms\tremaining: 3.95s\n",
      "102:\tlearn: 0.2502036\ttotal: 452ms\tremaining: 3.93s\n",
      "103:\tlearn: 0.2495418\ttotal: 455ms\tremaining: 3.92s\n",
      "104:\tlearn: 0.2492239\ttotal: 459ms\tremaining: 3.91s\n",
      "105:\tlearn: 0.2488603\ttotal: 462ms\tremaining: 3.9s\n",
      "106:\tlearn: 0.2485842\ttotal: 465ms\tremaining: 3.88s\n",
      "107:\tlearn: 0.2480825\ttotal: 469ms\tremaining: 3.87s\n",
      "108:\tlearn: 0.2476175\ttotal: 473ms\tremaining: 3.86s\n",
      "109:\tlearn: 0.2471358\ttotal: 476ms\tremaining: 3.85s\n",
      "110:\tlearn: 0.2467503\ttotal: 479ms\tremaining: 3.84s\n",
      "111:\tlearn: 0.2465634\ttotal: 482ms\tremaining: 3.82s\n",
      "112:\tlearn: 0.2460981\ttotal: 486ms\tremaining: 3.82s\n",
      "113:\tlearn: 0.2458343\ttotal: 489ms\tremaining: 3.8s\n",
      "114:\tlearn: 0.2454091\ttotal: 493ms\tremaining: 3.79s\n",
      "115:\tlearn: 0.2452681\ttotal: 496ms\tremaining: 3.78s\n",
      "116:\tlearn: 0.2447160\ttotal: 506ms\tremaining: 3.81s\n",
      "117:\tlearn: 0.2444622\ttotal: 510ms\tremaining: 3.81s\n",
      "118:\tlearn: 0.2439550\ttotal: 515ms\tremaining: 3.81s\n",
      "119:\tlearn: 0.2436198\ttotal: 518ms\tremaining: 3.8s\n",
      "120:\tlearn: 0.2432865\ttotal: 521ms\tremaining: 3.79s\n",
      "121:\tlearn: 0.2429300\ttotal: 525ms\tremaining: 3.78s\n",
      "122:\tlearn: 0.2426875\ttotal: 528ms\tremaining: 3.77s\n",
      "123:\tlearn: 0.2421645\ttotal: 532ms\tremaining: 3.76s\n",
      "124:\tlearn: 0.2418357\ttotal: 535ms\tremaining: 3.75s\n",
      "125:\tlearn: 0.2414985\ttotal: 539ms\tremaining: 3.74s\n",
      "126:\tlearn: 0.2412375\ttotal: 542ms\tremaining: 3.73s\n",
      "127:\tlearn: 0.2409625\ttotal: 547ms\tremaining: 3.73s\n",
      "128:\tlearn: 0.2406197\ttotal: 551ms\tremaining: 3.72s\n",
      "129:\tlearn: 0.2403449\ttotal: 554ms\tremaining: 3.71s\n",
      "130:\tlearn: 0.2399678\ttotal: 557ms\tremaining: 3.7s\n",
      "131:\tlearn: 0.2396954\ttotal: 562ms\tremaining: 3.7s\n",
      "132:\tlearn: 0.2392370\ttotal: 566ms\tremaining: 3.69s\n",
      "133:\tlearn: 0.2389954\ttotal: 569ms\tremaining: 3.68s\n",
      "134:\tlearn: 0.2386872\ttotal: 574ms\tremaining: 3.68s\n",
      "135:\tlearn: 0.2383527\ttotal: 581ms\tremaining: 3.69s\n",
      "136:\tlearn: 0.2379830\ttotal: 584ms\tremaining: 3.68s\n",
      "137:\tlearn: 0.2375170\ttotal: 587ms\tremaining: 3.67s\n",
      "138:\tlearn: 0.2370590\ttotal: 591ms\tremaining: 3.66s\n",
      "139:\tlearn: 0.2369494\ttotal: 593ms\tremaining: 3.64s\n",
      "140:\tlearn: 0.2366252\ttotal: 596ms\tremaining: 3.63s\n",
      "141:\tlearn: 0.2364785\ttotal: 601ms\tremaining: 3.63s\n",
      "142:\tlearn: 0.2362852\ttotal: 605ms\tremaining: 3.63s\n",
      "143:\tlearn: 0.2360856\ttotal: 608ms\tremaining: 3.62s\n",
      "144:\tlearn: 0.2358098\ttotal: 611ms\tremaining: 3.6s\n",
      "145:\tlearn: 0.2354820\ttotal: 615ms\tremaining: 3.6s\n",
      "146:\tlearn: 0.2351388\ttotal: 619ms\tremaining: 3.59s\n",
      "147:\tlearn: 0.2350703\ttotal: 622ms\tremaining: 3.58s\n",
      "148:\tlearn: 0.2347807\ttotal: 625ms\tremaining: 3.57s\n",
      "149:\tlearn: 0.2344858\ttotal: 629ms\tremaining: 3.56s\n",
      "150:\tlearn: 0.2342851\ttotal: 632ms\tremaining: 3.56s\n",
      "151:\tlearn: 0.2340865\ttotal: 637ms\tremaining: 3.56s\n",
      "152:\tlearn: 0.2338688\ttotal: 643ms\tremaining: 3.56s\n",
      "153:\tlearn: 0.2335578\ttotal: 646ms\tremaining: 3.55s\n",
      "154:\tlearn: 0.2332458\ttotal: 651ms\tremaining: 3.55s\n",
      "155:\tlearn: 0.2329912\ttotal: 655ms\tremaining: 3.54s\n",
      "156:\tlearn: 0.2328104\ttotal: 658ms\tremaining: 3.53s\n",
      "157:\tlearn: 0.2326079\ttotal: 661ms\tremaining: 3.52s\n",
      "158:\tlearn: 0.2324041\ttotal: 665ms\tremaining: 3.52s\n",
      "159:\tlearn: 0.2321341\ttotal: 669ms\tremaining: 3.51s\n"
     ]
    },
    {
     "name": "stdout",
     "output_type": "stream",
     "text": [
      "160:\tlearn: 0.2319213\ttotal: 673ms\tremaining: 3.51s\n",
      "161:\tlearn: 0.2316587\ttotal: 677ms\tremaining: 3.5s\n",
      "162:\tlearn: 0.2315045\ttotal: 680ms\tremaining: 3.49s\n",
      "163:\tlearn: 0.2312651\ttotal: 684ms\tremaining: 3.48s\n",
      "164:\tlearn: 0.2310629\ttotal: 688ms\tremaining: 3.48s\n",
      "165:\tlearn: 0.2309077\ttotal: 692ms\tremaining: 3.48s\n",
      "166:\tlearn: 0.2307552\ttotal: 697ms\tremaining: 3.47s\n",
      "167:\tlearn: 0.2304547\ttotal: 701ms\tremaining: 3.47s\n",
      "168:\tlearn: 0.2302560\ttotal: 705ms\tremaining: 3.46s\n",
      "169:\tlearn: 0.2301075\ttotal: 710ms\tremaining: 3.46s\n",
      "170:\tlearn: 0.2297866\ttotal: 714ms\tremaining: 3.46s\n",
      "171:\tlearn: 0.2295469\ttotal: 720ms\tremaining: 3.46s\n",
      "172:\tlearn: 0.2293719\ttotal: 724ms\tremaining: 3.46s\n",
      "173:\tlearn: 0.2292113\ttotal: 728ms\tremaining: 3.45s\n",
      "174:\tlearn: 0.2289212\ttotal: 733ms\tremaining: 3.46s\n",
      "175:\tlearn: 0.2287702\ttotal: 745ms\tremaining: 3.48s\n",
      "176:\tlearn: 0.2286167\ttotal: 755ms\tremaining: 3.51s\n",
      "177:\tlearn: 0.2284435\ttotal: 763ms\tremaining: 3.52s\n",
      "178:\tlearn: 0.2281976\ttotal: 770ms\tremaining: 3.53s\n",
      "179:\tlearn: 0.2279704\ttotal: 778ms\tremaining: 3.54s\n",
      "180:\tlearn: 0.2277286\ttotal: 786ms\tremaining: 3.56s\n",
      "181:\tlearn: 0.2275230\ttotal: 791ms\tremaining: 3.55s\n",
      "182:\tlearn: 0.2273464\ttotal: 795ms\tremaining: 3.55s\n",
      "183:\tlearn: 0.2272250\ttotal: 800ms\tremaining: 3.54s\n",
      "184:\tlearn: 0.2269551\ttotal: 804ms\tremaining: 3.54s\n",
      "185:\tlearn: 0.2268589\ttotal: 808ms\tremaining: 3.54s\n",
      "186:\tlearn: 0.2267348\ttotal: 812ms\tremaining: 3.53s\n",
      "187:\tlearn: 0.2265792\ttotal: 817ms\tremaining: 3.53s\n",
      "188:\tlearn: 0.2263959\ttotal: 822ms\tremaining: 3.53s\n",
      "189:\tlearn: 0.2262127\ttotal: 831ms\tremaining: 3.54s\n",
      "190:\tlearn: 0.2259990\ttotal: 835ms\tremaining: 3.54s\n",
      "191:\tlearn: 0.2258117\ttotal: 838ms\tremaining: 3.53s\n",
      "192:\tlearn: 0.2256529\ttotal: 843ms\tremaining: 3.52s\n",
      "193:\tlearn: 0.2255013\ttotal: 847ms\tremaining: 3.52s\n",
      "194:\tlearn: 0.2252815\ttotal: 850ms\tremaining: 3.51s\n",
      "195:\tlearn: 0.2251680\ttotal: 853ms\tremaining: 3.5s\n",
      "196:\tlearn: 0.2250469\ttotal: 857ms\tremaining: 3.49s\n",
      "197:\tlearn: 0.2249350\ttotal: 861ms\tremaining: 3.49s\n",
      "198:\tlearn: 0.2247912\ttotal: 864ms\tremaining: 3.48s\n",
      "199:\tlearn: 0.2247148\ttotal: 867ms\tremaining: 3.47s\n",
      "200:\tlearn: 0.2243597\ttotal: 871ms\tremaining: 3.46s\n",
      "201:\tlearn: 0.2243146\ttotal: 874ms\tremaining: 3.45s\n",
      "202:\tlearn: 0.2241329\ttotal: 877ms\tremaining: 3.44s\n",
      "203:\tlearn: 0.2240317\ttotal: 880ms\tremaining: 3.44s\n",
      "204:\tlearn: 0.2237483\ttotal: 885ms\tremaining: 3.43s\n",
      "205:\tlearn: 0.2236349\ttotal: 888ms\tremaining: 3.42s\n",
      "206:\tlearn: 0.2234179\ttotal: 893ms\tremaining: 3.42s\n",
      "207:\tlearn: 0.2231152\ttotal: 896ms\tremaining: 3.41s\n",
      "208:\tlearn: 0.2227694\ttotal: 900ms\tremaining: 3.41s\n",
      "209:\tlearn: 0.2226390\ttotal: 903ms\tremaining: 3.4s\n",
      "210:\tlearn: 0.2222498\ttotal: 908ms\tremaining: 3.39s\n",
      "211:\tlearn: 0.2220887\ttotal: 911ms\tremaining: 3.39s\n",
      "212:\tlearn: 0.2219433\ttotal: 916ms\tremaining: 3.38s\n",
      "213:\tlearn: 0.2218206\ttotal: 919ms\tremaining: 3.38s\n",
      "214:\tlearn: 0.2217876\ttotal: 923ms\tremaining: 3.37s\n",
      "215:\tlearn: 0.2215416\ttotal: 926ms\tremaining: 3.36s\n",
      "216:\tlearn: 0.2212587\ttotal: 930ms\tremaining: 3.35s\n",
      "217:\tlearn: 0.2210682\ttotal: 933ms\tremaining: 3.35s\n",
      "218:\tlearn: 0.2207730\ttotal: 937ms\tremaining: 3.34s\n",
      "219:\tlearn: 0.2205744\ttotal: 944ms\tremaining: 3.35s\n",
      "220:\tlearn: 0.2202996\ttotal: 946ms\tremaining: 3.33s\n",
      "221:\tlearn: 0.2201913\ttotal: 949ms\tremaining: 3.33s\n",
      "222:\tlearn: 0.2200286\ttotal: 953ms\tremaining: 3.32s\n",
      "223:\tlearn: 0.2198407\ttotal: 957ms\tremaining: 3.31s\n",
      "224:\tlearn: 0.2197087\ttotal: 960ms\tremaining: 3.31s\n",
      "225:\tlearn: 0.2194080\ttotal: 963ms\tremaining: 3.3s\n",
      "226:\tlearn: 0.2192103\ttotal: 967ms\tremaining: 3.29s\n",
      "227:\tlearn: 0.2188487\ttotal: 970ms\tremaining: 3.29s\n",
      "228:\tlearn: 0.2185633\ttotal: 974ms\tremaining: 3.28s\n",
      "229:\tlearn: 0.2183246\ttotal: 977ms\tremaining: 3.27s\n",
      "230:\tlearn: 0.2181209\ttotal: 980ms\tremaining: 3.26s\n",
      "231:\tlearn: 0.2179461\ttotal: 985ms\tremaining: 3.26s\n",
      "232:\tlearn: 0.2178511\ttotal: 988ms\tremaining: 3.25s\n",
      "233:\tlearn: 0.2175875\ttotal: 990ms\tremaining: 3.24s\n",
      "234:\tlearn: 0.2174439\ttotal: 993ms\tremaining: 3.23s\n",
      "235:\tlearn: 0.2173078\ttotal: 996ms\tremaining: 3.22s\n",
      "236:\tlearn: 0.2169357\ttotal: 1000ms\tremaining: 3.22s\n",
      "237:\tlearn: 0.2168177\ttotal: 1s\tremaining: 3.21s\n",
      "238:\tlearn: 0.2167506\ttotal: 1.01s\tremaining: 3.2s\n",
      "239:\tlearn: 0.2165065\ttotal: 1.01s\tremaining: 3.19s\n",
      "240:\tlearn: 0.2164187\ttotal: 1.01s\tremaining: 3.19s\n",
      "241:\tlearn: 0.2161926\ttotal: 1.02s\tremaining: 3.18s\n",
      "242:\tlearn: 0.2159291\ttotal: 1.02s\tremaining: 3.17s\n",
      "243:\tlearn: 0.2156910\ttotal: 1.02s\tremaining: 3.17s\n",
      "244:\tlearn: 0.2155582\ttotal: 1.02s\tremaining: 3.16s\n",
      "245:\tlearn: 0.2154684\ttotal: 1.03s\tremaining: 3.15s\n",
      "246:\tlearn: 0.2152238\ttotal: 1.03s\tremaining: 3.14s\n",
      "247:\tlearn: 0.2149722\ttotal: 1.03s\tremaining: 3.13s\n",
      "248:\tlearn: 0.2148162\ttotal: 1.04s\tremaining: 3.13s\n",
      "249:\tlearn: 0.2148043\ttotal: 1.04s\tremaining: 3.12s\n",
      "250:\tlearn: 0.2146348\ttotal: 1.04s\tremaining: 3.11s\n",
      "251:\tlearn: 0.2144571\ttotal: 1.04s\tremaining: 3.1s\n",
      "252:\tlearn: 0.2140994\ttotal: 1.05s\tremaining: 3.1s\n",
      "253:\tlearn: 0.2139398\ttotal: 1.05s\tremaining: 3.09s\n",
      "254:\tlearn: 0.2137289\ttotal: 1.06s\tremaining: 3.09s\n",
      "255:\tlearn: 0.2135934\ttotal: 1.06s\tremaining: 3.08s\n",
      "256:\tlearn: 0.2132997\ttotal: 1.06s\tremaining: 3.08s\n",
      "257:\tlearn: 0.2130755\ttotal: 1.07s\tremaining: 3.07s\n",
      "258:\tlearn: 0.2128678\ttotal: 1.07s\tremaining: 3.06s\n",
      "259:\tlearn: 0.2127919\ttotal: 1.07s\tremaining: 3.06s\n",
      "260:\tlearn: 0.2125235\ttotal: 1.08s\tremaining: 3.05s\n",
      "261:\tlearn: 0.2123910\ttotal: 1.08s\tremaining: 3.04s\n",
      "262:\tlearn: 0.2122659\ttotal: 1.08s\tremaining: 3.04s\n",
      "263:\tlearn: 0.2121146\ttotal: 1.09s\tremaining: 3.04s\n",
      "264:\tlearn: 0.2120749\ttotal: 1.09s\tremaining: 3.03s\n",
      "265:\tlearn: 0.2119520\ttotal: 1.09s\tremaining: 3.02s\n",
      "266:\tlearn: 0.2118744\ttotal: 1.1s\tremaining: 3.02s\n",
      "267:\tlearn: 0.2117287\ttotal: 1.1s\tremaining: 3.01s\n",
      "268:\tlearn: 0.2116925\ttotal: 1.1s\tremaining: 3s\n",
      "269:\tlearn: 0.2113688\ttotal: 1.11s\tremaining: 3s\n",
      "270:\tlearn: 0.2113470\ttotal: 1.11s\tremaining: 3s\n",
      "271:\tlearn: 0.2111149\ttotal: 1.12s\tremaining: 2.99s\n",
      "272:\tlearn: 0.2110126\ttotal: 1.12s\tremaining: 2.99s\n",
      "273:\tlearn: 0.2108158\ttotal: 1.13s\tremaining: 2.98s\n",
      "274:\tlearn: 0.2105596\ttotal: 1.13s\tremaining: 2.97s\n",
      "275:\tlearn: 0.2103711\ttotal: 1.13s\tremaining: 2.97s\n",
      "276:\tlearn: 0.2102421\ttotal: 1.14s\tremaining: 2.97s\n",
      "277:\tlearn: 0.2101222\ttotal: 1.14s\tremaining: 2.96s\n",
      "278:\tlearn: 0.2101039\ttotal: 1.14s\tremaining: 2.95s\n",
      "279:\tlearn: 0.2098365\ttotal: 1.15s\tremaining: 2.95s\n",
      "280:\tlearn: 0.2095445\ttotal: 1.15s\tremaining: 2.94s\n",
      "281:\tlearn: 0.2094235\ttotal: 1.15s\tremaining: 2.94s\n",
      "282:\tlearn: 0.2092654\ttotal: 1.16s\tremaining: 2.93s\n",
      "283:\tlearn: 0.2092187\ttotal: 1.16s\tremaining: 2.93s\n",
      "284:\tlearn: 0.2091453\ttotal: 1.16s\tremaining: 2.92s\n",
      "285:\tlearn: 0.2090770\ttotal: 1.17s\tremaining: 2.92s\n",
      "286:\tlearn: 0.2088447\ttotal: 1.17s\tremaining: 2.91s\n",
      "287:\tlearn: 0.2087347\ttotal: 1.17s\tremaining: 2.9s\n",
      "288:\tlearn: 0.2085224\ttotal: 1.18s\tremaining: 2.9s\n",
      "289:\tlearn: 0.2079888\ttotal: 1.18s\tremaining: 2.89s\n",
      "290:\tlearn: 0.2079797\ttotal: 1.18s\tremaining: 2.88s\n",
      "291:\tlearn: 0.2077445\ttotal: 1.19s\tremaining: 2.88s\n",
      "292:\tlearn: 0.2075052\ttotal: 1.19s\tremaining: 2.87s\n",
      "293:\tlearn: 0.2074002\ttotal: 1.2s\tremaining: 2.87s\n",
      "294:\tlearn: 0.2073798\ttotal: 1.2s\tremaining: 2.87s\n",
      "295:\tlearn: 0.2072541\ttotal: 1.2s\tremaining: 2.86s\n",
      "296:\tlearn: 0.2071217\ttotal: 1.21s\tremaining: 2.86s\n",
      "297:\tlearn: 0.2069491\ttotal: 1.21s\tremaining: 2.85s\n",
      "298:\tlearn: 0.2066811\ttotal: 1.21s\tremaining: 2.85s\n",
      "299:\tlearn: 0.2064638\ttotal: 1.22s\tremaining: 2.84s\n",
      "300:\tlearn: 0.2064479\ttotal: 1.22s\tremaining: 2.83s\n",
      "301:\tlearn: 0.2061523\ttotal: 1.22s\tremaining: 2.82s\n",
      "302:\tlearn: 0.2059899\ttotal: 1.23s\tremaining: 2.82s\n",
      "303:\tlearn: 0.2059121\ttotal: 1.23s\tremaining: 2.82s\n",
      "304:\tlearn: 0.2059036\ttotal: 1.23s\tremaining: 2.81s\n",
      "305:\tlearn: 0.2058767\ttotal: 1.24s\tremaining: 2.8s\n",
      "306:\tlearn: 0.2058689\ttotal: 1.24s\tremaining: 2.79s\n",
      "307:\tlearn: 0.2056611\ttotal: 1.24s\tremaining: 2.79s\n",
      "308:\tlearn: 0.2054222\ttotal: 1.24s\tremaining: 2.78s\n",
      "309:\tlearn: 0.2052396\ttotal: 1.25s\tremaining: 2.78s\n",
      "310:\tlearn: 0.2051360\ttotal: 1.25s\tremaining: 2.77s\n",
      "311:\tlearn: 0.2050179\ttotal: 1.26s\tremaining: 2.77s\n",
      "312:\tlearn: 0.2048186\ttotal: 1.26s\tremaining: 2.76s\n",
      "313:\tlearn: 0.2048018\ttotal: 1.26s\tremaining: 2.76s\n",
      "314:\tlearn: 0.2045286\ttotal: 1.26s\tremaining: 2.75s\n",
      "315:\tlearn: 0.2041005\ttotal: 1.27s\tremaining: 2.75s\n",
      "316:\tlearn: 0.2039716\ttotal: 1.27s\tremaining: 2.74s\n",
      "317:\tlearn: 0.2037015\ttotal: 1.27s\tremaining: 2.73s\n",
      "318:\tlearn: 0.2034575\ttotal: 1.28s\tremaining: 2.73s\n"
     ]
    },
    {
     "name": "stdout",
     "output_type": "stream",
     "text": [
      "319:\tlearn: 0.2033751\ttotal: 1.28s\tremaining: 2.73s\n",
      "320:\tlearn: 0.2032758\ttotal: 1.29s\tremaining: 2.72s\n",
      "321:\tlearn: 0.2031829\ttotal: 1.29s\tremaining: 2.72s\n",
      "322:\tlearn: 0.2030918\ttotal: 1.29s\tremaining: 2.71s\n",
      "323:\tlearn: 0.2029838\ttotal: 1.3s\tremaining: 2.71s\n",
      "324:\tlearn: 0.2028621\ttotal: 1.3s\tremaining: 2.7s\n",
      "325:\tlearn: 0.2027289\ttotal: 1.3s\tremaining: 2.7s\n",
      "326:\tlearn: 0.2025015\ttotal: 1.31s\tremaining: 2.69s\n",
      "327:\tlearn: 0.2020892\ttotal: 1.31s\tremaining: 2.69s\n",
      "328:\tlearn: 0.2019951\ttotal: 1.31s\tremaining: 2.68s\n",
      "329:\tlearn: 0.2018879\ttotal: 1.32s\tremaining: 2.68s\n",
      "330:\tlearn: 0.2016745\ttotal: 1.32s\tremaining: 2.67s\n",
      "331:\tlearn: 0.2015953\ttotal: 1.32s\tremaining: 2.67s\n",
      "332:\tlearn: 0.2014878\ttotal: 1.33s\tremaining: 2.66s\n",
      "333:\tlearn: 0.2012212\ttotal: 1.33s\tremaining: 2.66s\n",
      "334:\tlearn: 0.2011254\ttotal: 1.33s\tremaining: 2.65s\n",
      "335:\tlearn: 0.2009658\ttotal: 1.34s\tremaining: 2.65s\n",
      "336:\tlearn: 0.2008650\ttotal: 1.34s\tremaining: 2.64s\n",
      "337:\tlearn: 0.2007912\ttotal: 1.34s\tremaining: 2.63s\n",
      "338:\tlearn: 0.2006756\ttotal: 1.35s\tremaining: 2.63s\n",
      "339:\tlearn: 0.2004852\ttotal: 1.35s\tremaining: 2.62s\n",
      "340:\tlearn: 0.2002468\ttotal: 1.35s\tremaining: 2.62s\n",
      "341:\tlearn: 0.1999621\ttotal: 1.36s\tremaining: 2.61s\n",
      "342:\tlearn: 0.1999553\ttotal: 1.36s\tremaining: 2.61s\n",
      "343:\tlearn: 0.1998246\ttotal: 1.36s\tremaining: 2.6s\n",
      "344:\tlearn: 0.1996438\ttotal: 1.37s\tremaining: 2.6s\n",
      "345:\tlearn: 0.1994645\ttotal: 1.37s\tremaining: 2.59s\n",
      "346:\tlearn: 0.1993551\ttotal: 1.37s\tremaining: 2.58s\n",
      "347:\tlearn: 0.1993305\ttotal: 1.38s\tremaining: 2.58s\n",
      "348:\tlearn: 0.1991574\ttotal: 1.38s\tremaining: 2.58s\n",
      "349:\tlearn: 0.1990703\ttotal: 1.39s\tremaining: 2.57s\n",
      "350:\tlearn: 0.1989540\ttotal: 1.39s\tremaining: 2.56s\n",
      "351:\tlearn: 0.1987016\ttotal: 1.39s\tremaining: 2.56s\n",
      "352:\tlearn: 0.1985099\ttotal: 1.39s\tremaining: 2.55s\n",
      "353:\tlearn: 0.1982145\ttotal: 1.4s\tremaining: 2.55s\n",
      "354:\tlearn: 0.1981027\ttotal: 1.4s\tremaining: 2.54s\n",
      "355:\tlearn: 0.1978204\ttotal: 1.4s\tremaining: 2.54s\n",
      "356:\tlearn: 0.1977218\ttotal: 1.41s\tremaining: 2.54s\n",
      "357:\tlearn: 0.1975829\ttotal: 1.41s\tremaining: 2.53s\n",
      "358:\tlearn: 0.1973552\ttotal: 1.42s\tremaining: 2.53s\n",
      "359:\tlearn: 0.1970932\ttotal: 1.42s\tremaining: 2.52s\n",
      "360:\tlearn: 0.1969212\ttotal: 1.42s\tremaining: 2.52s\n",
      "361:\tlearn: 0.1968292\ttotal: 1.43s\tremaining: 2.52s\n",
      "362:\tlearn: 0.1966928\ttotal: 1.43s\tremaining: 2.52s\n",
      "363:\tlearn: 0.1965069\ttotal: 1.44s\tremaining: 2.51s\n",
      "364:\tlearn: 0.1963237\ttotal: 1.44s\tremaining: 2.5s\n",
      "365:\tlearn: 0.1960730\ttotal: 1.44s\tremaining: 2.5s\n",
      "366:\tlearn: 0.1959507\ttotal: 1.45s\tremaining: 2.5s\n",
      "367:\tlearn: 0.1958062\ttotal: 1.45s\tremaining: 2.49s\n",
      "368:\tlearn: 0.1956356\ttotal: 1.45s\tremaining: 2.49s\n",
      "369:\tlearn: 0.1954684\ttotal: 1.46s\tremaining: 2.48s\n",
      "370:\tlearn: 0.1951244\ttotal: 1.46s\tremaining: 2.48s\n",
      "371:\tlearn: 0.1948677\ttotal: 1.47s\tremaining: 2.47s\n",
      "372:\tlearn: 0.1947115\ttotal: 1.47s\tremaining: 2.47s\n",
      "373:\tlearn: 0.1945852\ttotal: 1.47s\tremaining: 2.47s\n",
      "374:\tlearn: 0.1944048\ttotal: 1.48s\tremaining: 2.46s\n",
      "375:\tlearn: 0.1942430\ttotal: 1.48s\tremaining: 2.46s\n",
      "376:\tlearn: 0.1941246\ttotal: 1.48s\tremaining: 2.45s\n",
      "377:\tlearn: 0.1940504\ttotal: 1.49s\tremaining: 2.45s\n",
      "378:\tlearn: 0.1939098\ttotal: 1.49s\tremaining: 2.44s\n",
      "379:\tlearn: 0.1937185\ttotal: 1.49s\tremaining: 2.44s\n",
      "380:\tlearn: 0.1936152\ttotal: 1.5s\tremaining: 2.43s\n",
      "381:\tlearn: 0.1934560\ttotal: 1.5s\tremaining: 2.43s\n",
      "382:\tlearn: 0.1933195\ttotal: 1.5s\tremaining: 2.42s\n",
      "383:\tlearn: 0.1931221\ttotal: 1.51s\tremaining: 2.42s\n",
      "384:\tlearn: 0.1929318\ttotal: 1.51s\tremaining: 2.41s\n",
      "385:\tlearn: 0.1928588\ttotal: 1.51s\tremaining: 2.41s\n",
      "386:\tlearn: 0.1926233\ttotal: 1.52s\tremaining: 2.4s\n",
      "387:\tlearn: 0.1923750\ttotal: 1.52s\tremaining: 2.4s\n",
      "388:\tlearn: 0.1923051\ttotal: 1.52s\tremaining: 2.39s\n",
      "389:\tlearn: 0.1922435\ttotal: 1.52s\tremaining: 2.39s\n",
      "390:\tlearn: 0.1921475\ttotal: 1.53s\tremaining: 2.38s\n",
      "391:\tlearn: 0.1921417\ttotal: 1.53s\tremaining: 2.38s\n",
      "392:\tlearn: 0.1920147\ttotal: 1.53s\tremaining: 2.37s\n",
      "393:\tlearn: 0.1918923\ttotal: 1.54s\tremaining: 2.37s\n",
      "394:\tlearn: 0.1917799\ttotal: 1.54s\tremaining: 2.36s\n",
      "395:\tlearn: 0.1917029\ttotal: 1.54s\tremaining: 2.36s\n",
      "396:\tlearn: 0.1914994\ttotal: 1.55s\tremaining: 2.35s\n",
      "397:\tlearn: 0.1912924\ttotal: 1.55s\tremaining: 2.35s\n",
      "398:\tlearn: 0.1910516\ttotal: 1.55s\tremaining: 2.34s\n",
      "399:\tlearn: 0.1910210\ttotal: 1.56s\tremaining: 2.34s\n",
      "400:\tlearn: 0.1908198\ttotal: 1.56s\tremaining: 2.33s\n",
      "401:\tlearn: 0.1907454\ttotal: 1.56s\tremaining: 2.33s\n",
      "402:\tlearn: 0.1905326\ttotal: 1.57s\tremaining: 2.32s\n",
      "403:\tlearn: 0.1905208\ttotal: 1.57s\tremaining: 2.32s\n",
      "404:\tlearn: 0.1903544\ttotal: 1.58s\tremaining: 2.32s\n",
      "405:\tlearn: 0.1901555\ttotal: 1.58s\tremaining: 2.31s\n",
      "406:\tlearn: 0.1899567\ttotal: 1.58s\tremaining: 2.31s\n",
      "407:\tlearn: 0.1899282\ttotal: 1.59s\tremaining: 2.3s\n",
      "408:\tlearn: 0.1898624\ttotal: 1.59s\tremaining: 2.3s\n",
      "409:\tlearn: 0.1896815\ttotal: 1.59s\tremaining: 2.29s\n",
      "410:\tlearn: 0.1895364\ttotal: 1.6s\tremaining: 2.29s\n",
      "411:\tlearn: 0.1893286\ttotal: 1.6s\tremaining: 2.29s\n",
      "412:\tlearn: 0.1892037\ttotal: 1.61s\tremaining: 2.28s\n",
      "413:\tlearn: 0.1890797\ttotal: 1.61s\tremaining: 2.28s\n",
      "414:\tlearn: 0.1888804\ttotal: 1.61s\tremaining: 2.27s\n",
      "415:\tlearn: 0.1887410\ttotal: 1.62s\tremaining: 2.27s\n",
      "416:\tlearn: 0.1886022\ttotal: 1.62s\tremaining: 2.27s\n",
      "417:\tlearn: 0.1884064\ttotal: 1.62s\tremaining: 2.26s\n",
      "418:\tlearn: 0.1882222\ttotal: 1.63s\tremaining: 2.26s\n",
      "419:\tlearn: 0.1880807\ttotal: 1.63s\tremaining: 2.25s\n",
      "420:\tlearn: 0.1879858\ttotal: 1.64s\tremaining: 2.25s\n",
      "421:\tlearn: 0.1878738\ttotal: 1.64s\tremaining: 2.25s\n",
      "422:\tlearn: 0.1878112\ttotal: 1.64s\tremaining: 2.24s\n",
      "423:\tlearn: 0.1877036\ttotal: 1.64s\tremaining: 2.23s\n",
      "424:\tlearn: 0.1874502\ttotal: 1.65s\tremaining: 2.23s\n",
      "425:\tlearn: 0.1873694\ttotal: 1.65s\tremaining: 2.22s\n",
      "426:\tlearn: 0.1872687\ttotal: 1.65s\tremaining: 2.22s\n",
      "427:\tlearn: 0.1871405\ttotal: 1.66s\tremaining: 2.21s\n",
      "428:\tlearn: 0.1869271\ttotal: 1.66s\tremaining: 2.21s\n",
      "429:\tlearn: 0.1867330\ttotal: 1.66s\tremaining: 2.21s\n",
      "430:\tlearn: 0.1865528\ttotal: 1.67s\tremaining: 2.2s\n",
      "431:\tlearn: 0.1863792\ttotal: 1.67s\tremaining: 2.2s\n",
      "432:\tlearn: 0.1862021\ttotal: 1.67s\tremaining: 2.19s\n",
      "433:\tlearn: 0.1860465\ttotal: 1.68s\tremaining: 2.19s\n",
      "434:\tlearn: 0.1859231\ttotal: 1.68s\tremaining: 2.18s\n",
      "435:\tlearn: 0.1857566\ttotal: 1.68s\tremaining: 2.18s\n",
      "436:\tlearn: 0.1855878\ttotal: 1.69s\tremaining: 2.17s\n",
      "437:\tlearn: 0.1854523\ttotal: 1.69s\tremaining: 2.17s\n",
      "438:\tlearn: 0.1853741\ttotal: 1.69s\tremaining: 2.16s\n",
      "439:\tlearn: 0.1852400\ttotal: 1.7s\tremaining: 2.16s\n",
      "440:\tlearn: 0.1851647\ttotal: 1.7s\tremaining: 2.16s\n",
      "441:\tlearn: 0.1850033\ttotal: 1.7s\tremaining: 2.15s\n",
      "442:\tlearn: 0.1848509\ttotal: 1.71s\tremaining: 2.15s\n",
      "443:\tlearn: 0.1847490\ttotal: 1.71s\tremaining: 2.14s\n",
      "444:\tlearn: 0.1846378\ttotal: 1.71s\tremaining: 2.14s\n",
      "445:\tlearn: 0.1845174\ttotal: 1.72s\tremaining: 2.13s\n",
      "446:\tlearn: 0.1844201\ttotal: 1.72s\tremaining: 2.13s\n",
      "447:\tlearn: 0.1842693\ttotal: 1.73s\tremaining: 2.13s\n",
      "448:\tlearn: 0.1842275\ttotal: 1.73s\tremaining: 2.12s\n",
      "449:\tlearn: 0.1840432\ttotal: 1.73s\tremaining: 2.12s\n",
      "450:\tlearn: 0.1840200\ttotal: 1.73s\tremaining: 2.11s\n",
      "451:\tlearn: 0.1838925\ttotal: 1.74s\tremaining: 2.11s\n",
      "452:\tlearn: 0.1837067\ttotal: 1.74s\tremaining: 2.1s\n",
      "453:\tlearn: 0.1836253\ttotal: 1.75s\tremaining: 2.1s\n",
      "454:\tlearn: 0.1834737\ttotal: 1.75s\tremaining: 2.1s\n",
      "455:\tlearn: 0.1834037\ttotal: 1.75s\tremaining: 2.09s\n",
      "456:\tlearn: 0.1832879\ttotal: 1.76s\tremaining: 2.09s\n",
      "457:\tlearn: 0.1831852\ttotal: 1.76s\tremaining: 2.08s\n",
      "458:\tlearn: 0.1830589\ttotal: 1.77s\tremaining: 2.08s\n",
      "459:\tlearn: 0.1829735\ttotal: 1.77s\tremaining: 2.08s\n",
      "460:\tlearn: 0.1827960\ttotal: 1.77s\tremaining: 2.07s\n",
      "461:\tlearn: 0.1827188\ttotal: 1.78s\tremaining: 2.07s\n",
      "462:\tlearn: 0.1825713\ttotal: 1.78s\tremaining: 2.06s\n",
      "463:\tlearn: 0.1823891\ttotal: 1.78s\tremaining: 2.06s\n",
      "464:\tlearn: 0.1822517\ttotal: 1.79s\tremaining: 2.06s\n",
      "465:\tlearn: 0.1820245\ttotal: 1.79s\tremaining: 2.05s\n",
      "466:\tlearn: 0.1819252\ttotal: 1.79s\tremaining: 2.05s\n",
      "467:\tlearn: 0.1817564\ttotal: 1.8s\tremaining: 2.04s\n",
      "468:\tlearn: 0.1816513\ttotal: 1.8s\tremaining: 2.04s\n",
      "469:\tlearn: 0.1814417\ttotal: 1.8s\tremaining: 2.04s\n",
      "470:\tlearn: 0.1813156\ttotal: 1.81s\tremaining: 2.03s\n",
      "471:\tlearn: 0.1811840\ttotal: 1.81s\tremaining: 2.03s\n",
      "472:\tlearn: 0.1811331\ttotal: 1.82s\tremaining: 2.02s\n",
      "473:\tlearn: 0.1810498\ttotal: 1.82s\tremaining: 2.02s\n",
      "474:\tlearn: 0.1809200\ttotal: 1.82s\tremaining: 2.02s\n",
      "475:\tlearn: 0.1806790\ttotal: 1.83s\tremaining: 2.01s\n",
      "476:\tlearn: 0.1805288\ttotal: 1.83s\tremaining: 2.01s\n",
      "477:\tlearn: 0.1803611\ttotal: 1.83s\tremaining: 2s\n",
      "478:\tlearn: 0.1802395\ttotal: 1.84s\tremaining: 2s\n",
      "479:\tlearn: 0.1800851\ttotal: 1.84s\tremaining: 1.99s\n",
      "480:\tlearn: 0.1799563\ttotal: 1.84s\tremaining: 1.99s\n",
      "481:\tlearn: 0.1797851\ttotal: 1.85s\tremaining: 1.99s\n",
      "482:\tlearn: 0.1796434\ttotal: 1.85s\tremaining: 1.98s\n",
      "483:\tlearn: 0.1794801\ttotal: 1.85s\tremaining: 1.98s\n",
      "484:\tlearn: 0.1793698\ttotal: 1.86s\tremaining: 1.97s\n",
      "485:\tlearn: 0.1792511\ttotal: 1.86s\tremaining: 1.97s\n"
     ]
    },
    {
     "name": "stdout",
     "output_type": "stream",
     "text": [
      "486:\tlearn: 0.1790930\ttotal: 1.86s\tremaining: 1.97s\n",
      "487:\tlearn: 0.1789365\ttotal: 1.87s\tremaining: 1.96s\n",
      "488:\tlearn: 0.1787872\ttotal: 1.87s\tremaining: 1.96s\n",
      "489:\tlearn: 0.1787245\ttotal: 1.88s\tremaining: 1.95s\n",
      "490:\tlearn: 0.1786323\ttotal: 1.88s\tremaining: 1.95s\n",
      "491:\tlearn: 0.1784667\ttotal: 1.88s\tremaining: 1.94s\n",
      "492:\tlearn: 0.1783394\ttotal: 1.89s\tremaining: 1.94s\n",
      "493:\tlearn: 0.1781599\ttotal: 1.89s\tremaining: 1.94s\n",
      "494:\tlearn: 0.1780321\ttotal: 1.89s\tremaining: 1.93s\n",
      "495:\tlearn: 0.1778995\ttotal: 1.9s\tremaining: 1.93s\n",
      "496:\tlearn: 0.1777659\ttotal: 1.9s\tremaining: 1.92s\n",
      "497:\tlearn: 0.1775346\ttotal: 1.9s\tremaining: 1.92s\n",
      "498:\tlearn: 0.1773892\ttotal: 1.91s\tremaining: 1.92s\n",
      "499:\tlearn: 0.1772722\ttotal: 1.91s\tremaining: 1.91s\n",
      "500:\tlearn: 0.1771656\ttotal: 1.92s\tremaining: 1.91s\n",
      "501:\tlearn: 0.1770394\ttotal: 1.92s\tremaining: 1.9s\n",
      "502:\tlearn: 0.1769896\ttotal: 1.93s\tremaining: 1.9s\n",
      "503:\tlearn: 0.1768478\ttotal: 1.93s\tremaining: 1.9s\n",
      "504:\tlearn: 0.1766993\ttotal: 1.93s\tremaining: 1.89s\n",
      "505:\tlearn: 0.1765294\ttotal: 1.93s\tremaining: 1.89s\n",
      "506:\tlearn: 0.1763855\ttotal: 1.94s\tremaining: 1.89s\n",
      "507:\tlearn: 0.1761649\ttotal: 1.94s\tremaining: 1.88s\n",
      "508:\tlearn: 0.1760548\ttotal: 1.95s\tremaining: 1.88s\n",
      "509:\tlearn: 0.1759049\ttotal: 1.95s\tremaining: 1.87s\n",
      "510:\tlearn: 0.1758231\ttotal: 1.95s\tremaining: 1.87s\n",
      "511:\tlearn: 0.1756852\ttotal: 1.96s\tremaining: 1.86s\n",
      "512:\tlearn: 0.1754861\ttotal: 1.96s\tremaining: 1.86s\n",
      "513:\tlearn: 0.1753840\ttotal: 1.96s\tremaining: 1.86s\n",
      "514:\tlearn: 0.1752999\ttotal: 1.97s\tremaining: 1.85s\n",
      "515:\tlearn: 0.1752040\ttotal: 1.97s\tremaining: 1.85s\n",
      "516:\tlearn: 0.1751437\ttotal: 1.97s\tremaining: 1.84s\n",
      "517:\tlearn: 0.1749887\ttotal: 1.98s\tremaining: 1.84s\n",
      "518:\tlearn: 0.1748525\ttotal: 1.98s\tremaining: 1.84s\n",
      "519:\tlearn: 0.1746968\ttotal: 1.99s\tremaining: 1.83s\n",
      "520:\tlearn: 0.1745491\ttotal: 1.99s\tremaining: 1.83s\n",
      "521:\tlearn: 0.1743859\ttotal: 1.99s\tremaining: 1.82s\n",
      "522:\tlearn: 0.1742651\ttotal: 2s\tremaining: 1.82s\n",
      "523:\tlearn: 0.1741385\ttotal: 2s\tremaining: 1.82s\n",
      "524:\tlearn: 0.1739943\ttotal: 2s\tremaining: 1.81s\n",
      "525:\tlearn: 0.1739335\ttotal: 2.01s\tremaining: 1.81s\n",
      "526:\tlearn: 0.1738160\ttotal: 2.01s\tremaining: 1.8s\n",
      "527:\tlearn: 0.1737165\ttotal: 2.01s\tremaining: 1.8s\n",
      "528:\tlearn: 0.1736238\ttotal: 2.02s\tremaining: 1.79s\n",
      "529:\tlearn: 0.1735185\ttotal: 2.02s\tremaining: 1.79s\n",
      "530:\tlearn: 0.1733846\ttotal: 2.02s\tremaining: 1.79s\n",
      "531:\tlearn: 0.1732608\ttotal: 2.03s\tremaining: 1.78s\n",
      "532:\tlearn: 0.1731713\ttotal: 2.03s\tremaining: 1.78s\n",
      "533:\tlearn: 0.1730207\ttotal: 2.03s\tremaining: 1.77s\n",
      "534:\tlearn: 0.1728977\ttotal: 2.04s\tremaining: 1.77s\n",
      "535:\tlearn: 0.1727707\ttotal: 2.04s\tremaining: 1.77s\n",
      "536:\tlearn: 0.1726656\ttotal: 2.04s\tremaining: 1.76s\n",
      "537:\tlearn: 0.1725534\ttotal: 2.05s\tremaining: 1.76s\n",
      "538:\tlearn: 0.1724384\ttotal: 2.05s\tremaining: 1.75s\n",
      "539:\tlearn: 0.1723413\ttotal: 2.06s\tremaining: 1.75s\n",
      "540:\tlearn: 0.1722582\ttotal: 2.06s\tremaining: 1.75s\n",
      "541:\tlearn: 0.1721301\ttotal: 2.06s\tremaining: 1.74s\n",
      "542:\tlearn: 0.1720420\ttotal: 2.06s\tremaining: 1.74s\n",
      "543:\tlearn: 0.1718977\ttotal: 2.07s\tremaining: 1.73s\n",
      "544:\tlearn: 0.1718505\ttotal: 2.07s\tremaining: 1.73s\n",
      "545:\tlearn: 0.1717026\ttotal: 2.08s\tremaining: 1.73s\n",
      "546:\tlearn: 0.1715778\ttotal: 2.08s\tremaining: 1.72s\n",
      "547:\tlearn: 0.1713429\ttotal: 2.08s\tremaining: 1.72s\n",
      "548:\tlearn: 0.1711685\ttotal: 2.09s\tremaining: 1.71s\n",
      "549:\tlearn: 0.1710732\ttotal: 2.09s\tremaining: 1.71s\n",
      "550:\tlearn: 0.1709554\ttotal: 2.1s\tremaining: 1.71s\n",
      "551:\tlearn: 0.1707974\ttotal: 2.1s\tremaining: 1.7s\n",
      "552:\tlearn: 0.1706053\ttotal: 2.1s\tremaining: 1.7s\n",
      "553:\tlearn: 0.1704901\ttotal: 2.11s\tremaining: 1.7s\n",
      "554:\tlearn: 0.1703640\ttotal: 2.11s\tremaining: 1.69s\n",
      "555:\tlearn: 0.1702840\ttotal: 2.12s\tremaining: 1.69s\n",
      "556:\tlearn: 0.1701104\ttotal: 2.12s\tremaining: 1.69s\n",
      "557:\tlearn: 0.1700163\ttotal: 2.12s\tremaining: 1.68s\n",
      "558:\tlearn: 0.1698676\ttotal: 2.13s\tremaining: 1.68s\n",
      "559:\tlearn: 0.1697852\ttotal: 2.13s\tremaining: 1.67s\n",
      "560:\tlearn: 0.1696867\ttotal: 2.14s\tremaining: 1.67s\n",
      "561:\tlearn: 0.1696088\ttotal: 2.14s\tremaining: 1.67s\n",
      "562:\tlearn: 0.1694857\ttotal: 2.14s\tremaining: 1.66s\n",
      "563:\tlearn: 0.1693604\ttotal: 2.15s\tremaining: 1.66s\n",
      "564:\tlearn: 0.1692072\ttotal: 2.15s\tremaining: 1.65s\n",
      "565:\tlearn: 0.1690636\ttotal: 2.15s\tremaining: 1.65s\n",
      "566:\tlearn: 0.1689461\ttotal: 2.15s\tremaining: 1.65s\n",
      "567:\tlearn: 0.1687757\ttotal: 2.16s\tremaining: 1.64s\n",
      "568:\tlearn: 0.1686592\ttotal: 2.16s\tremaining: 1.64s\n",
      "569:\tlearn: 0.1686125\ttotal: 2.17s\tremaining: 1.63s\n",
      "570:\tlearn: 0.1684987\ttotal: 2.17s\tremaining: 1.63s\n",
      "571:\tlearn: 0.1683724\ttotal: 2.17s\tremaining: 1.63s\n",
      "572:\tlearn: 0.1681819\ttotal: 2.18s\tremaining: 1.62s\n",
      "573:\tlearn: 0.1680324\ttotal: 2.18s\tremaining: 1.62s\n",
      "574:\tlearn: 0.1679400\ttotal: 2.18s\tremaining: 1.61s\n",
      "575:\tlearn: 0.1678623\ttotal: 2.19s\tremaining: 1.61s\n",
      "576:\tlearn: 0.1677196\ttotal: 2.19s\tremaining: 1.6s\n",
      "577:\tlearn: 0.1676163\ttotal: 2.19s\tremaining: 1.6s\n",
      "578:\tlearn: 0.1675206\ttotal: 2.19s\tremaining: 1.59s\n",
      "579:\tlearn: 0.1674204\ttotal: 2.2s\tremaining: 1.59s\n",
      "580:\tlearn: 0.1673202\ttotal: 2.2s\tremaining: 1.59s\n",
      "581:\tlearn: 0.1672189\ttotal: 2.2s\tremaining: 1.58s\n",
      "582:\tlearn: 0.1670947\ttotal: 2.21s\tremaining: 1.58s\n",
      "583:\tlearn: 0.1669784\ttotal: 2.21s\tremaining: 1.57s\n",
      "584:\tlearn: 0.1669188\ttotal: 2.21s\tremaining: 1.57s\n",
      "585:\tlearn: 0.1667326\ttotal: 2.22s\tremaining: 1.57s\n",
      "586:\tlearn: 0.1666383\ttotal: 2.22s\tremaining: 1.56s\n",
      "587:\tlearn: 0.1664722\ttotal: 2.23s\tremaining: 1.56s\n",
      "588:\tlearn: 0.1663519\ttotal: 2.23s\tremaining: 1.55s\n",
      "589:\tlearn: 0.1662404\ttotal: 2.23s\tremaining: 1.55s\n",
      "590:\tlearn: 0.1661689\ttotal: 2.24s\tremaining: 1.55s\n",
      "591:\tlearn: 0.1660939\ttotal: 2.24s\tremaining: 1.54s\n",
      "592:\tlearn: 0.1659394\ttotal: 2.24s\tremaining: 1.54s\n",
      "593:\tlearn: 0.1658195\ttotal: 2.25s\tremaining: 1.53s\n",
      "594:\tlearn: 0.1657510\ttotal: 2.25s\tremaining: 1.53s\n",
      "595:\tlearn: 0.1656498\ttotal: 2.25s\tremaining: 1.53s\n",
      "596:\tlearn: 0.1655716\ttotal: 2.26s\tremaining: 1.52s\n",
      "597:\tlearn: 0.1654153\ttotal: 2.26s\tremaining: 1.52s\n",
      "598:\tlearn: 0.1652947\ttotal: 2.27s\tremaining: 1.52s\n",
      "599:\tlearn: 0.1652187\ttotal: 2.27s\tremaining: 1.51s\n",
      "600:\tlearn: 0.1651348\ttotal: 2.27s\tremaining: 1.51s\n",
      "601:\tlearn: 0.1650245\ttotal: 2.28s\tremaining: 1.5s\n",
      "602:\tlearn: 0.1648391\ttotal: 2.28s\tremaining: 1.5s\n",
      "603:\tlearn: 0.1647467\ttotal: 2.28s\tremaining: 1.5s\n",
      "604:\tlearn: 0.1645668\ttotal: 2.29s\tremaining: 1.49s\n",
      "605:\tlearn: 0.1645025\ttotal: 2.29s\tremaining: 1.49s\n",
      "606:\tlearn: 0.1644252\ttotal: 2.29s\tremaining: 1.49s\n",
      "607:\tlearn: 0.1642563\ttotal: 2.3s\tremaining: 1.48s\n",
      "608:\tlearn: 0.1641417\ttotal: 2.3s\tremaining: 1.48s\n",
      "609:\tlearn: 0.1640385\ttotal: 2.31s\tremaining: 1.47s\n",
      "610:\tlearn: 0.1639007\ttotal: 2.31s\tremaining: 1.47s\n",
      "611:\tlearn: 0.1637847\ttotal: 2.31s\tremaining: 1.47s\n",
      "612:\tlearn: 0.1635803\ttotal: 2.32s\tremaining: 1.46s\n",
      "613:\tlearn: 0.1634755\ttotal: 2.32s\tremaining: 1.46s\n",
      "614:\tlearn: 0.1633962\ttotal: 2.32s\tremaining: 1.45s\n",
      "615:\tlearn: 0.1633508\ttotal: 2.33s\tremaining: 1.45s\n",
      "616:\tlearn: 0.1632652\ttotal: 2.33s\tremaining: 1.45s\n",
      "617:\tlearn: 0.1631890\ttotal: 2.33s\tremaining: 1.44s\n",
      "618:\tlearn: 0.1630899\ttotal: 2.34s\tremaining: 1.44s\n",
      "619:\tlearn: 0.1629819\ttotal: 2.34s\tremaining: 1.43s\n",
      "620:\tlearn: 0.1629395\ttotal: 2.34s\tremaining: 1.43s\n",
      "621:\tlearn: 0.1628585\ttotal: 2.35s\tremaining: 1.43s\n",
      "622:\tlearn: 0.1627419\ttotal: 2.35s\tremaining: 1.42s\n",
      "623:\tlearn: 0.1626570\ttotal: 2.35s\tremaining: 1.42s\n",
      "624:\tlearn: 0.1625635\ttotal: 2.35s\tremaining: 1.41s\n",
      "625:\tlearn: 0.1624382\ttotal: 2.36s\tremaining: 1.41s\n",
      "626:\tlearn: 0.1623378\ttotal: 2.36s\tremaining: 1.41s\n",
      "627:\tlearn: 0.1622354\ttotal: 2.37s\tremaining: 1.4s\n",
      "628:\tlearn: 0.1620670\ttotal: 2.37s\tremaining: 1.4s\n",
      "629:\tlearn: 0.1619792\ttotal: 2.37s\tremaining: 1.39s\n",
      "630:\tlearn: 0.1618868\ttotal: 2.38s\tremaining: 1.39s\n",
      "631:\tlearn: 0.1617828\ttotal: 2.38s\tremaining: 1.39s\n",
      "632:\tlearn: 0.1616123\ttotal: 2.38s\tremaining: 1.38s\n",
      "633:\tlearn: 0.1614530\ttotal: 2.39s\tremaining: 1.38s\n",
      "634:\tlearn: 0.1613565\ttotal: 2.39s\tremaining: 1.37s\n",
      "635:\tlearn: 0.1612809\ttotal: 2.39s\tremaining: 1.37s\n",
      "636:\tlearn: 0.1611819\ttotal: 2.4s\tremaining: 1.37s\n",
      "637:\tlearn: 0.1611069\ttotal: 2.4s\tremaining: 1.36s\n",
      "638:\tlearn: 0.1610181\ttotal: 2.4s\tremaining: 1.36s\n",
      "639:\tlearn: 0.1608883\ttotal: 2.41s\tremaining: 1.35s\n",
      "640:\tlearn: 0.1608009\ttotal: 2.41s\tremaining: 1.35s\n",
      "641:\tlearn: 0.1607322\ttotal: 2.41s\tremaining: 1.35s\n",
      "642:\tlearn: 0.1605832\ttotal: 2.42s\tremaining: 1.34s\n",
      "643:\tlearn: 0.1604972\ttotal: 2.42s\tremaining: 1.34s\n",
      "644:\tlearn: 0.1604457\ttotal: 2.43s\tremaining: 1.34s\n",
      "645:\tlearn: 0.1603007\ttotal: 2.43s\tremaining: 1.33s\n"
     ]
    },
    {
     "name": "stdout",
     "output_type": "stream",
     "text": [
      "646:\tlearn: 0.1602260\ttotal: 2.44s\tremaining: 1.33s\n",
      "647:\tlearn: 0.1601453\ttotal: 2.44s\tremaining: 1.32s\n",
      "648:\tlearn: 0.1600806\ttotal: 2.44s\tremaining: 1.32s\n",
      "649:\tlearn: 0.1599850\ttotal: 2.44s\tremaining: 1.32s\n",
      "650:\tlearn: 0.1599242\ttotal: 2.45s\tremaining: 1.31s\n",
      "651:\tlearn: 0.1598652\ttotal: 2.45s\tremaining: 1.31s\n",
      "652:\tlearn: 0.1598013\ttotal: 2.46s\tremaining: 1.3s\n",
      "653:\tlearn: 0.1596902\ttotal: 2.46s\tremaining: 1.3s\n",
      "654:\tlearn: 0.1596045\ttotal: 2.46s\tremaining: 1.3s\n",
      "655:\tlearn: 0.1595597\ttotal: 2.47s\tremaining: 1.29s\n",
      "656:\tlearn: 0.1594966\ttotal: 2.47s\tremaining: 1.29s\n",
      "657:\tlearn: 0.1594310\ttotal: 2.47s\tremaining: 1.28s\n",
      "658:\tlearn: 0.1593229\ttotal: 2.48s\tremaining: 1.28s\n",
      "659:\tlearn: 0.1592514\ttotal: 2.48s\tremaining: 1.28s\n",
      "660:\tlearn: 0.1591359\ttotal: 2.49s\tremaining: 1.27s\n",
      "661:\tlearn: 0.1590848\ttotal: 2.49s\tremaining: 1.27s\n",
      "662:\tlearn: 0.1590207\ttotal: 2.49s\tremaining: 1.27s\n",
      "663:\tlearn: 0.1589739\ttotal: 2.5s\tremaining: 1.26s\n",
      "664:\tlearn: 0.1588985\ttotal: 2.5s\tremaining: 1.26s\n",
      "665:\tlearn: 0.1588237\ttotal: 2.5s\tremaining: 1.25s\n",
      "666:\tlearn: 0.1587722\ttotal: 2.51s\tremaining: 1.25s\n",
      "667:\tlearn: 0.1587212\ttotal: 2.51s\tremaining: 1.25s\n",
      "668:\tlearn: 0.1585768\ttotal: 2.51s\tremaining: 1.24s\n",
      "669:\tlearn: 0.1584766\ttotal: 2.52s\tremaining: 1.24s\n",
      "670:\tlearn: 0.1583766\ttotal: 2.52s\tremaining: 1.24s\n",
      "671:\tlearn: 0.1583160\ttotal: 2.52s\tremaining: 1.23s\n",
      "672:\tlearn: 0.1581948\ttotal: 2.52s\tremaining: 1.23s\n",
      "673:\tlearn: 0.1581549\ttotal: 2.53s\tremaining: 1.22s\n",
      "674:\tlearn: 0.1580372\ttotal: 2.53s\tremaining: 1.22s\n",
      "675:\tlearn: 0.1580058\ttotal: 2.53s\tremaining: 1.21s\n",
      "676:\tlearn: 0.1579490\ttotal: 2.54s\tremaining: 1.21s\n",
      "677:\tlearn: 0.1578660\ttotal: 2.54s\tremaining: 1.21s\n",
      "678:\tlearn: 0.1577583\ttotal: 2.54s\tremaining: 1.2s\n",
      "679:\tlearn: 0.1576686\ttotal: 2.54s\tremaining: 1.2s\n",
      "680:\tlearn: 0.1576041\ttotal: 2.55s\tremaining: 1.19s\n",
      "681:\tlearn: 0.1575596\ttotal: 2.55s\tremaining: 1.19s\n",
      "682:\tlearn: 0.1574867\ttotal: 2.56s\tremaining: 1.19s\n",
      "683:\tlearn: 0.1574539\ttotal: 2.56s\tremaining: 1.18s\n",
      "684:\tlearn: 0.1573842\ttotal: 2.56s\tremaining: 1.18s\n",
      "685:\tlearn: 0.1572414\ttotal: 2.56s\tremaining: 1.17s\n",
      "686:\tlearn: 0.1571640\ttotal: 2.57s\tremaining: 1.17s\n",
      "687:\tlearn: 0.1570905\ttotal: 2.57s\tremaining: 1.17s\n",
      "688:\tlearn: 0.1570298\ttotal: 2.58s\tremaining: 1.16s\n",
      "689:\tlearn: 0.1569505\ttotal: 2.58s\tremaining: 1.16s\n",
      "690:\tlearn: 0.1569058\ttotal: 2.58s\tremaining: 1.15s\n",
      "691:\tlearn: 0.1568013\ttotal: 2.59s\tremaining: 1.15s\n",
      "692:\tlearn: 0.1567388\ttotal: 2.59s\tremaining: 1.15s\n",
      "693:\tlearn: 0.1566543\ttotal: 2.59s\tremaining: 1.14s\n",
      "694:\tlearn: 0.1565307\ttotal: 2.6s\tremaining: 1.14s\n",
      "695:\tlearn: 0.1564661\ttotal: 2.6s\tremaining: 1.14s\n",
      "696:\tlearn: 0.1563395\ttotal: 2.6s\tremaining: 1.13s\n",
      "697:\tlearn: 0.1562599\ttotal: 2.61s\tremaining: 1.13s\n",
      "698:\tlearn: 0.1561880\ttotal: 2.61s\tremaining: 1.12s\n",
      "699:\tlearn: 0.1561230\ttotal: 2.62s\tremaining: 1.12s\n",
      "700:\tlearn: 0.1560248\ttotal: 2.62s\tremaining: 1.12s\n",
      "701:\tlearn: 0.1559739\ttotal: 2.62s\tremaining: 1.11s\n",
      "702:\tlearn: 0.1558537\ttotal: 2.63s\tremaining: 1.11s\n",
      "703:\tlearn: 0.1557693\ttotal: 2.63s\tremaining: 1.1s\n",
      "704:\tlearn: 0.1557286\ttotal: 2.63s\tremaining: 1.1s\n",
      "705:\tlearn: 0.1556754\ttotal: 2.64s\tremaining: 1.1s\n",
      "706:\tlearn: 0.1555511\ttotal: 2.64s\tremaining: 1.09s\n",
      "707:\tlearn: 0.1554554\ttotal: 2.64s\tremaining: 1.09s\n",
      "708:\tlearn: 0.1553585\ttotal: 2.65s\tremaining: 1.09s\n",
      "709:\tlearn: 0.1552986\ttotal: 2.65s\tremaining: 1.08s\n",
      "710:\tlearn: 0.1552012\ttotal: 2.65s\tremaining: 1.08s\n",
      "711:\tlearn: 0.1551592\ttotal: 2.66s\tremaining: 1.07s\n",
      "712:\tlearn: 0.1551013\ttotal: 2.66s\tremaining: 1.07s\n",
      "713:\tlearn: 0.1550449\ttotal: 2.67s\tremaining: 1.07s\n",
      "714:\tlearn: 0.1550055\ttotal: 2.67s\tremaining: 1.06s\n",
      "715:\tlearn: 0.1549250\ttotal: 2.67s\tremaining: 1.06s\n",
      "716:\tlearn: 0.1548787\ttotal: 2.67s\tremaining: 1.05s\n",
      "717:\tlearn: 0.1548524\ttotal: 2.68s\tremaining: 1.05s\n",
      "718:\tlearn: 0.1547794\ttotal: 2.68s\tremaining: 1.05s\n",
      "719:\tlearn: 0.1547502\ttotal: 2.68s\tremaining: 1.04s\n",
      "720:\tlearn: 0.1547033\ttotal: 2.69s\tremaining: 1.04s\n",
      "721:\tlearn: 0.1545923\ttotal: 2.69s\tremaining: 1.03s\n",
      "722:\tlearn: 0.1544931\ttotal: 2.69s\tremaining: 1.03s\n",
      "723:\tlearn: 0.1544142\ttotal: 2.7s\tremaining: 1.03s\n",
      "724:\tlearn: 0.1543749\ttotal: 2.7s\tremaining: 1.02s\n",
      "725:\tlearn: 0.1542861\ttotal: 2.7s\tremaining: 1.02s\n",
      "726:\tlearn: 0.1542207\ttotal: 2.71s\tremaining: 1.02s\n",
      "727:\tlearn: 0.1541483\ttotal: 2.71s\tremaining: 1.01s\n",
      "728:\tlearn: 0.1541028\ttotal: 2.71s\tremaining: 1.01s\n",
      "729:\tlearn: 0.1540698\ttotal: 2.72s\tremaining: 1s\n",
      "730:\tlearn: 0.1540473\ttotal: 2.72s\tremaining: 1s\n",
      "731:\tlearn: 0.1540119\ttotal: 2.72s\tremaining: 997ms\n",
      "732:\tlearn: 0.1539653\ttotal: 2.73s\tremaining: 994ms\n",
      "733:\tlearn: 0.1538332\ttotal: 2.73s\tremaining: 990ms\n",
      "734:\tlearn: 0.1536548\ttotal: 2.73s\tremaining: 986ms\n",
      "735:\tlearn: 0.1535543\ttotal: 2.74s\tremaining: 982ms\n",
      "736:\tlearn: 0.1534890\ttotal: 2.74s\tremaining: 978ms\n",
      "737:\tlearn: 0.1533888\ttotal: 2.75s\tremaining: 975ms\n",
      "738:\tlearn: 0.1533526\ttotal: 2.75s\tremaining: 971ms\n",
      "739:\tlearn: 0.1532759\ttotal: 2.75s\tremaining: 967ms\n",
      "740:\tlearn: 0.1531924\ttotal: 2.76s\tremaining: 964ms\n",
      "741:\tlearn: 0.1531085\ttotal: 2.76s\tremaining: 960ms\n",
      "742:\tlearn: 0.1530772\ttotal: 2.76s\tremaining: 956ms\n",
      "743:\tlearn: 0.1529369\ttotal: 2.77s\tremaining: 952ms\n",
      "744:\tlearn: 0.1529025\ttotal: 2.77s\tremaining: 948ms\n",
      "745:\tlearn: 0.1528597\ttotal: 2.77s\tremaining: 945ms\n",
      "746:\tlearn: 0.1527916\ttotal: 2.78s\tremaining: 941ms\n",
      "747:\tlearn: 0.1527759\ttotal: 2.78s\tremaining: 937ms\n",
      "748:\tlearn: 0.1527037\ttotal: 2.79s\tremaining: 934ms\n",
      "749:\tlearn: 0.1526205\ttotal: 2.79s\tremaining: 930ms\n",
      "750:\tlearn: 0.1525943\ttotal: 2.79s\tremaining: 926ms\n",
      "751:\tlearn: 0.1525683\ttotal: 2.8s\tremaining: 922ms\n",
      "752:\tlearn: 0.1525300\ttotal: 2.8s\tremaining: 919ms\n",
      "753:\tlearn: 0.1524603\ttotal: 2.8s\tremaining: 915ms\n",
      "754:\tlearn: 0.1523502\ttotal: 2.81s\tremaining: 911ms\n",
      "755:\tlearn: 0.1522394\ttotal: 2.81s\tremaining: 907ms\n",
      "756:\tlearn: 0.1521739\ttotal: 2.81s\tremaining: 903ms\n",
      "757:\tlearn: 0.1520823\ttotal: 2.82s\tremaining: 900ms\n",
      "758:\tlearn: 0.1520434\ttotal: 2.82s\tremaining: 896ms\n",
      "759:\tlearn: 0.1519875\ttotal: 2.83s\tremaining: 892ms\n",
      "760:\tlearn: 0.1519583\ttotal: 2.83s\tremaining: 889ms\n",
      "761:\tlearn: 0.1518471\ttotal: 2.83s\tremaining: 885ms\n",
      "762:\tlearn: 0.1518212\ttotal: 2.84s\tremaining: 881ms\n",
      "763:\tlearn: 0.1516937\ttotal: 2.84s\tremaining: 877ms\n",
      "764:\tlearn: 0.1515380\ttotal: 2.84s\tremaining: 873ms\n",
      "765:\tlearn: 0.1514556\ttotal: 2.85s\tremaining: 870ms\n",
      "766:\tlearn: 0.1513439\ttotal: 2.85s\tremaining: 866ms\n",
      "767:\tlearn: 0.1512649\ttotal: 2.85s\tremaining: 862ms\n",
      "768:\tlearn: 0.1511956\ttotal: 2.86s\tremaining: 858ms\n",
      "769:\tlearn: 0.1511173\ttotal: 2.86s\tremaining: 854ms\n",
      "770:\tlearn: 0.1510734\ttotal: 2.86s\tremaining: 851ms\n",
      "771:\tlearn: 0.1509623\ttotal: 2.87s\tremaining: 847ms\n",
      "772:\tlearn: 0.1508637\ttotal: 2.87s\tremaining: 843ms\n",
      "773:\tlearn: 0.1508140\ttotal: 2.87s\tremaining: 839ms\n",
      "774:\tlearn: 0.1507912\ttotal: 2.88s\tremaining: 835ms\n",
      "775:\tlearn: 0.1507534\ttotal: 2.88s\tremaining: 832ms\n",
      "776:\tlearn: 0.1506782\ttotal: 2.88s\tremaining: 828ms\n",
      "777:\tlearn: 0.1506128\ttotal: 2.89s\tremaining: 824ms\n",
      "778:\tlearn: 0.1505390\ttotal: 2.89s\tremaining: 821ms\n",
      "779:\tlearn: 0.1504399\ttotal: 2.9s\tremaining: 817ms\n",
      "780:\tlearn: 0.1503785\ttotal: 2.9s\tremaining: 813ms\n",
      "781:\tlearn: 0.1502693\ttotal: 2.9s\tremaining: 809ms\n",
      "782:\tlearn: 0.1501948\ttotal: 2.9s\tremaining: 805ms\n",
      "783:\tlearn: 0.1501432\ttotal: 2.91s\tremaining: 801ms\n",
      "784:\tlearn: 0.1500885\ttotal: 2.91s\tremaining: 798ms\n",
      "785:\tlearn: 0.1500153\ttotal: 2.92s\tremaining: 794ms\n",
      "786:\tlearn: 0.1499247\ttotal: 2.92s\tremaining: 790ms\n",
      "787:\tlearn: 0.1497612\ttotal: 2.92s\tremaining: 786ms\n",
      "788:\tlearn: 0.1496249\ttotal: 2.92s\tremaining: 782ms\n",
      "789:\tlearn: 0.1495527\ttotal: 2.93s\tremaining: 779ms\n",
      "790:\tlearn: 0.1494619\ttotal: 2.93s\tremaining: 775ms\n",
      "791:\tlearn: 0.1493904\ttotal: 2.94s\tremaining: 771ms\n",
      "792:\tlearn: 0.1492663\ttotal: 2.94s\tremaining: 768ms\n",
      "793:\tlearn: 0.1491185\ttotal: 2.94s\tremaining: 764ms\n",
      "794:\tlearn: 0.1490760\ttotal: 2.95s\tremaining: 760ms\n",
      "795:\tlearn: 0.1489793\ttotal: 2.95s\tremaining: 756ms\n",
      "796:\tlearn: 0.1489315\ttotal: 2.95s\tremaining: 753ms\n",
      "797:\tlearn: 0.1488174\ttotal: 2.96s\tremaining: 749ms\n",
      "798:\tlearn: 0.1487557\ttotal: 2.96s\tremaining: 745ms\n",
      "799:\tlearn: 0.1486389\ttotal: 2.97s\tremaining: 742ms\n",
      "800:\tlearn: 0.1486003\ttotal: 2.97s\tremaining: 738ms\n",
      "801:\tlearn: 0.1485300\ttotal: 2.97s\tremaining: 734ms\n",
      "802:\tlearn: 0.1484158\ttotal: 2.98s\tremaining: 730ms\n",
      "803:\tlearn: 0.1483322\ttotal: 2.98s\tremaining: 726ms\n",
      "804:\tlearn: 0.1482801\ttotal: 2.98s\tremaining: 723ms\n"
     ]
    },
    {
     "name": "stdout",
     "output_type": "stream",
     "text": [
      "805:\tlearn: 0.1482139\ttotal: 2.99s\tremaining: 719ms\n",
      "806:\tlearn: 0.1481719\ttotal: 2.99s\tremaining: 716ms\n",
      "807:\tlearn: 0.1481490\ttotal: 3s\tremaining: 712ms\n",
      "808:\tlearn: 0.1480952\ttotal: 3s\tremaining: 708ms\n",
      "809:\tlearn: 0.1480063\ttotal: 3s\tremaining: 704ms\n",
      "810:\tlearn: 0.1479564\ttotal: 3.01s\tremaining: 701ms\n",
      "811:\tlearn: 0.1478745\ttotal: 3.01s\tremaining: 697ms\n",
      "812:\tlearn: 0.1478181\ttotal: 3.01s\tremaining: 693ms\n",
      "813:\tlearn: 0.1477274\ttotal: 3.02s\tremaining: 690ms\n",
      "814:\tlearn: 0.1476504\ttotal: 3.02s\tremaining: 686ms\n",
      "815:\tlearn: 0.1476141\ttotal: 3.02s\tremaining: 682ms\n",
      "816:\tlearn: 0.1475759\ttotal: 3.03s\tremaining: 678ms\n",
      "817:\tlearn: 0.1475388\ttotal: 3.03s\tremaining: 674ms\n",
      "818:\tlearn: 0.1474571\ttotal: 3.03s\tremaining: 671ms\n",
      "819:\tlearn: 0.1474060\ttotal: 3.04s\tremaining: 667ms\n",
      "820:\tlearn: 0.1473043\ttotal: 3.04s\tremaining: 663ms\n",
      "821:\tlearn: 0.1471423\ttotal: 3.04s\tremaining: 659ms\n",
      "822:\tlearn: 0.1470493\ttotal: 3.05s\tremaining: 655ms\n",
      "823:\tlearn: 0.1469471\ttotal: 3.05s\tremaining: 652ms\n",
      "824:\tlearn: 0.1468915\ttotal: 3.05s\tremaining: 648ms\n",
      "825:\tlearn: 0.1467722\ttotal: 3.06s\tremaining: 644ms\n",
      "826:\tlearn: 0.1467023\ttotal: 3.06s\tremaining: 641ms\n",
      "827:\tlearn: 0.1465750\ttotal: 3.06s\tremaining: 637ms\n",
      "828:\tlearn: 0.1465073\ttotal: 3.07s\tremaining: 633ms\n",
      "829:\tlearn: 0.1464414\ttotal: 3.07s\tremaining: 629ms\n",
      "830:\tlearn: 0.1463205\ttotal: 3.08s\tremaining: 626ms\n",
      "831:\tlearn: 0.1462200\ttotal: 3.08s\tremaining: 622ms\n",
      "832:\tlearn: 0.1461564\ttotal: 3.08s\tremaining: 618ms\n",
      "833:\tlearn: 0.1461056\ttotal: 3.09s\tremaining: 614ms\n",
      "834:\tlearn: 0.1460397\ttotal: 3.09s\tremaining: 610ms\n",
      "835:\tlearn: 0.1459848\ttotal: 3.09s\tremaining: 607ms\n",
      "836:\tlearn: 0.1459076\ttotal: 3.1s\tremaining: 603ms\n",
      "837:\tlearn: 0.1458619\ttotal: 3.1s\tremaining: 600ms\n",
      "838:\tlearn: 0.1458047\ttotal: 3.1s\tremaining: 596ms\n",
      "839:\tlearn: 0.1457309\ttotal: 3.11s\tremaining: 592ms\n",
      "840:\tlearn: 0.1456349\ttotal: 3.11s\tremaining: 588ms\n",
      "841:\tlearn: 0.1455993\ttotal: 3.12s\tremaining: 585ms\n",
      "842:\tlearn: 0.1454650\ttotal: 3.12s\tremaining: 581ms\n",
      "843:\tlearn: 0.1454056\ttotal: 3.12s\tremaining: 577ms\n",
      "844:\tlearn: 0.1453507\ttotal: 3.13s\tremaining: 574ms\n",
      "845:\tlearn: 0.1452901\ttotal: 3.13s\tremaining: 570ms\n",
      "846:\tlearn: 0.1452256\ttotal: 3.14s\tremaining: 567ms\n",
      "847:\tlearn: 0.1451456\ttotal: 3.14s\tremaining: 563ms\n",
      "848:\tlearn: 0.1450836\ttotal: 3.14s\tremaining: 559ms\n",
      "849:\tlearn: 0.1450379\ttotal: 3.15s\tremaining: 555ms\n",
      "850:\tlearn: 0.1449574\ttotal: 3.15s\tremaining: 551ms\n",
      "851:\tlearn: 0.1449100\ttotal: 3.15s\tremaining: 548ms\n",
      "852:\tlearn: 0.1448318\ttotal: 3.16s\tremaining: 544ms\n",
      "853:\tlearn: 0.1447935\ttotal: 3.16s\tremaining: 540ms\n",
      "854:\tlearn: 0.1447248\ttotal: 3.16s\tremaining: 537ms\n",
      "855:\tlearn: 0.1446885\ttotal: 3.17s\tremaining: 533ms\n",
      "856:\tlearn: 0.1445705\ttotal: 3.17s\tremaining: 529ms\n",
      "857:\tlearn: 0.1444515\ttotal: 3.17s\tremaining: 525ms\n",
      "858:\tlearn: 0.1443196\ttotal: 3.18s\tremaining: 522ms\n",
      "859:\tlearn: 0.1442541\ttotal: 3.18s\tremaining: 518ms\n",
      "860:\tlearn: 0.1441611\ttotal: 3.18s\tremaining: 514ms\n",
      "861:\tlearn: 0.1440984\ttotal: 3.19s\tremaining: 510ms\n",
      "862:\tlearn: 0.1439979\ttotal: 3.19s\tremaining: 506ms\n",
      "863:\tlearn: 0.1439566\ttotal: 3.19s\tremaining: 502ms\n",
      "864:\tlearn: 0.1439193\ttotal: 3.19s\tremaining: 499ms\n",
      "865:\tlearn: 0.1437990\ttotal: 3.2s\tremaining: 495ms\n",
      "866:\tlearn: 0.1437451\ttotal: 3.2s\tremaining: 491ms\n",
      "867:\tlearn: 0.1436692\ttotal: 3.21s\tremaining: 488ms\n",
      "868:\tlearn: 0.1435918\ttotal: 3.21s\tremaining: 484ms\n",
      "869:\tlearn: 0.1435317\ttotal: 3.21s\tremaining: 480ms\n",
      "870:\tlearn: 0.1434549\ttotal: 3.21s\tremaining: 476ms\n",
      "871:\tlearn: 0.1433713\ttotal: 3.22s\tremaining: 473ms\n",
      "872:\tlearn: 0.1433431\ttotal: 3.22s\tremaining: 469ms\n",
      "873:\tlearn: 0.1433117\ttotal: 3.23s\tremaining: 465ms\n",
      "874:\tlearn: 0.1432526\ttotal: 3.23s\tremaining: 462ms\n",
      "875:\tlearn: 0.1431960\ttotal: 3.23s\tremaining: 458ms\n",
      "876:\tlearn: 0.1431640\ttotal: 3.24s\tremaining: 454ms\n",
      "877:\tlearn: 0.1431452\ttotal: 3.24s\tremaining: 450ms\n",
      "878:\tlearn: 0.1431146\ttotal: 3.24s\tremaining: 447ms\n",
      "879:\tlearn: 0.1430290\ttotal: 3.25s\tremaining: 443ms\n",
      "880:\tlearn: 0.1430066\ttotal: 3.25s\tremaining: 439ms\n",
      "881:\tlearn: 0.1429173\ttotal: 3.25s\tremaining: 435ms\n",
      "882:\tlearn: 0.1428407\ttotal: 3.26s\tremaining: 432ms\n",
      "883:\tlearn: 0.1427484\ttotal: 3.26s\tremaining: 428ms\n",
      "884:\tlearn: 0.1427150\ttotal: 3.26s\tremaining: 424ms\n",
      "885:\tlearn: 0.1426383\ttotal: 3.27s\tremaining: 421ms\n",
      "886:\tlearn: 0.1425445\ttotal: 3.27s\tremaining: 417ms\n",
      "887:\tlearn: 0.1425179\ttotal: 3.28s\tremaining: 413ms\n",
      "888:\tlearn: 0.1424826\ttotal: 3.28s\tremaining: 409ms\n",
      "889:\tlearn: 0.1424119\ttotal: 3.28s\tremaining: 406ms\n",
      "890:\tlearn: 0.1423140\ttotal: 3.29s\tremaining: 402ms\n",
      "891:\tlearn: 0.1422432\ttotal: 3.29s\tremaining: 398ms\n",
      "892:\tlearn: 0.1422178\ttotal: 3.29s\tremaining: 395ms\n",
      "893:\tlearn: 0.1421548\ttotal: 3.3s\tremaining: 391ms\n",
      "894:\tlearn: 0.1420989\ttotal: 3.3s\tremaining: 387ms\n",
      "895:\tlearn: 0.1419708\ttotal: 3.31s\tremaining: 384ms\n",
      "896:\tlearn: 0.1418300\ttotal: 3.31s\tremaining: 380ms\n",
      "897:\tlearn: 0.1417485\ttotal: 3.31s\tremaining: 376ms\n",
      "898:\tlearn: 0.1416977\ttotal: 3.32s\tremaining: 373ms\n",
      "899:\tlearn: 0.1415881\ttotal: 3.32s\tremaining: 369ms\n",
      "900:\tlearn: 0.1415295\ttotal: 3.32s\tremaining: 365ms\n",
      "901:\tlearn: 0.1414425\ttotal: 3.33s\tremaining: 362ms\n",
      "902:\tlearn: 0.1413570\ttotal: 3.33s\tremaining: 358ms\n",
      "903:\tlearn: 0.1413243\ttotal: 3.33s\tremaining: 354ms\n",
      "904:\tlearn: 0.1412990\ttotal: 3.34s\tremaining: 351ms\n",
      "905:\tlearn: 0.1412591\ttotal: 3.34s\tremaining: 347ms\n",
      "906:\tlearn: 0.1412310\ttotal: 3.35s\tremaining: 343ms\n",
      "907:\tlearn: 0.1411844\ttotal: 3.35s\tremaining: 339ms\n",
      "908:\tlearn: 0.1411268\ttotal: 3.35s\tremaining: 336ms\n",
      "909:\tlearn: 0.1411003\ttotal: 3.36s\tremaining: 332ms\n",
      "910:\tlearn: 0.1410461\ttotal: 3.36s\tremaining: 328ms\n",
      "911:\tlearn: 0.1409910\ttotal: 3.36s\tremaining: 324ms\n",
      "912:\tlearn: 0.1408882\ttotal: 3.37s\tremaining: 321ms\n",
      "913:\tlearn: 0.1408384\ttotal: 3.37s\tremaining: 317ms\n",
      "914:\tlearn: 0.1408024\ttotal: 3.37s\tremaining: 313ms\n",
      "915:\tlearn: 0.1406882\ttotal: 3.38s\tremaining: 310ms\n",
      "916:\tlearn: 0.1406500\ttotal: 3.38s\tremaining: 306ms\n",
      "917:\tlearn: 0.1406200\ttotal: 3.38s\tremaining: 302ms\n",
      "918:\tlearn: 0.1405723\ttotal: 3.38s\tremaining: 298ms\n",
      "919:\tlearn: 0.1405223\ttotal: 3.39s\tremaining: 295ms\n",
      "920:\tlearn: 0.1404746\ttotal: 3.39s\tremaining: 291ms\n",
      "921:\tlearn: 0.1403885\ttotal: 3.4s\tremaining: 287ms\n",
      "922:\tlearn: 0.1403518\ttotal: 3.4s\tremaining: 284ms\n",
      "923:\tlearn: 0.1403356\ttotal: 3.4s\tremaining: 280ms\n",
      "924:\tlearn: 0.1403154\ttotal: 3.41s\tremaining: 276ms\n",
      "925:\tlearn: 0.1402057\ttotal: 3.41s\tremaining: 273ms\n",
      "926:\tlearn: 0.1401428\ttotal: 3.41s\tremaining: 269ms\n",
      "927:\tlearn: 0.1400863\ttotal: 3.42s\tremaining: 265ms\n",
      "928:\tlearn: 0.1400255\ttotal: 3.42s\tremaining: 261ms\n",
      "929:\tlearn: 0.1400010\ttotal: 3.42s\tremaining: 258ms\n",
      "930:\tlearn: 0.1399243\ttotal: 3.43s\tremaining: 254ms\n",
      "931:\tlearn: 0.1398323\ttotal: 3.43s\tremaining: 250ms\n",
      "932:\tlearn: 0.1397870\ttotal: 3.43s\tremaining: 247ms\n",
      "933:\tlearn: 0.1397305\ttotal: 3.44s\tremaining: 243ms\n",
      "934:\tlearn: 0.1397135\ttotal: 3.44s\tremaining: 239ms\n",
      "935:\tlearn: 0.1396836\ttotal: 3.44s\tremaining: 236ms\n",
      "936:\tlearn: 0.1396387\ttotal: 3.45s\tremaining: 232ms\n",
      "937:\tlearn: 0.1395830\ttotal: 3.45s\tremaining: 228ms\n",
      "938:\tlearn: 0.1395679\ttotal: 3.46s\tremaining: 225ms\n",
      "939:\tlearn: 0.1394495\ttotal: 3.46s\tremaining: 221ms\n",
      "940:\tlearn: 0.1393476\ttotal: 3.46s\tremaining: 217ms\n",
      "941:\tlearn: 0.1392974\ttotal: 3.47s\tremaining: 214ms\n",
      "942:\tlearn: 0.1392553\ttotal: 3.47s\tremaining: 210ms\n",
      "943:\tlearn: 0.1392154\ttotal: 3.48s\tremaining: 206ms\n",
      "944:\tlearn: 0.1391883\ttotal: 3.48s\tremaining: 202ms\n",
      "945:\tlearn: 0.1390079\ttotal: 3.48s\tremaining: 199ms\n",
      "946:\tlearn: 0.1388976\ttotal: 3.48s\tremaining: 195ms\n",
      "947:\tlearn: 0.1387975\ttotal: 3.49s\tremaining: 191ms\n",
      "948:\tlearn: 0.1387449\ttotal: 3.49s\tremaining: 188ms\n",
      "949:\tlearn: 0.1386298\ttotal: 3.5s\tremaining: 184ms\n",
      "950:\tlearn: 0.1385764\ttotal: 3.5s\tremaining: 180ms\n",
      "951:\tlearn: 0.1384894\ttotal: 3.5s\tremaining: 177ms\n",
      "952:\tlearn: 0.1384426\ttotal: 3.51s\tremaining: 173ms\n",
      "953:\tlearn: 0.1383747\ttotal: 3.51s\tremaining: 169ms\n",
      "954:\tlearn: 0.1382729\ttotal: 3.51s\tremaining: 166ms\n",
      "955:\tlearn: 0.1382320\ttotal: 3.52s\tremaining: 162ms\n",
      "956:\tlearn: 0.1381524\ttotal: 3.52s\tremaining: 158ms\n",
      "957:\tlearn: 0.1381010\ttotal: 3.52s\tremaining: 155ms\n",
      "958:\tlearn: 0.1379889\ttotal: 3.53s\tremaining: 151ms\n",
      "959:\tlearn: 0.1378945\ttotal: 3.53s\tremaining: 147ms\n",
      "960:\tlearn: 0.1378689\ttotal: 3.53s\tremaining: 143ms\n",
      "961:\tlearn: 0.1377753\ttotal: 3.54s\tremaining: 140ms\n",
      "962:\tlearn: 0.1377285\ttotal: 3.54s\tremaining: 136ms\n",
      "963:\tlearn: 0.1376480\ttotal: 3.54s\tremaining: 132ms\n",
      "964:\tlearn: 0.1375978\ttotal: 3.55s\tremaining: 129ms\n",
      "965:\tlearn: 0.1374767\ttotal: 3.55s\tremaining: 125ms\n",
      "966:\tlearn: 0.1374263\ttotal: 3.55s\tremaining: 121ms\n",
      "967:\tlearn: 0.1373511\ttotal: 3.56s\tremaining: 118ms\n",
      "968:\tlearn: 0.1373203\ttotal: 3.56s\tremaining: 114ms\n",
      "969:\tlearn: 0.1372757\ttotal: 3.56s\tremaining: 110ms\n",
      "970:\tlearn: 0.1372312\ttotal: 3.56s\tremaining: 106ms\n"
     ]
    },
    {
     "name": "stdout",
     "output_type": "stream",
     "text": [
      "971:\tlearn: 0.1371879\ttotal: 3.57s\tremaining: 103ms\n",
      "972:\tlearn: 0.1371364\ttotal: 3.57s\tremaining: 99.1ms\n",
      "973:\tlearn: 0.1371177\ttotal: 3.58s\tremaining: 95.5ms\n",
      "974:\tlearn: 0.1370626\ttotal: 3.58s\tremaining: 91.8ms\n",
      "975:\tlearn: 0.1369919\ttotal: 3.58s\tremaining: 88.1ms\n",
      "976:\tlearn: 0.1369054\ttotal: 3.58s\tremaining: 84.4ms\n",
      "977:\tlearn: 0.1367997\ttotal: 3.59s\tremaining: 80.7ms\n",
      "978:\tlearn: 0.1367266\ttotal: 3.59s\tremaining: 77ms\n",
      "979:\tlearn: 0.1366964\ttotal: 3.59s\tremaining: 73.4ms\n",
      "980:\tlearn: 0.1366386\ttotal: 3.6s\tremaining: 69.7ms\n",
      "981:\tlearn: 0.1366143\ttotal: 3.6s\tremaining: 66ms\n",
      "982:\tlearn: 0.1365596\ttotal: 3.6s\tremaining: 62.4ms\n",
      "983:\tlearn: 0.1365119\ttotal: 3.61s\tremaining: 58.7ms\n",
      "984:\tlearn: 0.1364647\ttotal: 3.61s\tremaining: 55ms\n",
      "985:\tlearn: 0.1363587\ttotal: 3.62s\tremaining: 51.4ms\n",
      "986:\tlearn: 0.1363247\ttotal: 3.62s\tremaining: 47.7ms\n",
      "987:\tlearn: 0.1362368\ttotal: 3.62s\tremaining: 44ms\n",
      "988:\tlearn: 0.1361112\ttotal: 3.63s\tremaining: 40.4ms\n",
      "989:\tlearn: 0.1360279\ttotal: 3.63s\tremaining: 36.7ms\n",
      "990:\tlearn: 0.1359888\ttotal: 3.63s\tremaining: 33ms\n",
      "991:\tlearn: 0.1359039\ttotal: 3.64s\tremaining: 29.3ms\n",
      "992:\tlearn: 0.1358318\ttotal: 3.64s\tremaining: 25.7ms\n",
      "993:\tlearn: 0.1357853\ttotal: 3.65s\tremaining: 22ms\n",
      "994:\tlearn: 0.1357328\ttotal: 3.65s\tremaining: 18.3ms\n",
      "995:\tlearn: 0.1356373\ttotal: 3.65s\tremaining: 14.7ms\n",
      "996:\tlearn: 0.1355726\ttotal: 3.66s\tremaining: 11ms\n",
      "997:\tlearn: 0.1355066\ttotal: 3.66s\tremaining: 7.33ms\n",
      "998:\tlearn: 0.1354603\ttotal: 3.66s\tremaining: 3.67ms\n",
      "999:\tlearn: 0.1353942\ttotal: 3.67s\tremaining: 0us\n",
      "MSE for CatBoost 2019 is: 9394625850.33441\n"
     ]
    }
   ],
   "source": [
    "model = CatBoostRegressor()\n",
    "model.fit(x_train_19, y_train_19)\n",
    "y_pred_19 = model.predict(x_test_19)\n",
    "# Calculation of Mean Squared Error (MSE)\n",
    "mse = mean_squared_error(np.exp(y_test_19), np.exp(y_pred_19))\n",
    "print('MSE for CatBoost 2019 is: ' + str(mse))"
   ]
  },
  {
   "cell_type": "code",
   "execution_count": 176,
   "id": "f0207e79",
   "metadata": {},
   "outputs": [
    {
     "name": "stdout",
     "output_type": "stream",
     "text": [
      "RMSE for LightGBM 2019 is: 96925.87812516537\n"
     ]
    }
   ],
   "source": [
    "rmse = mean_squared_error(np.exp(y_test_19), np.exp(y_pred_19), squared = False)\n",
    "print('RMSE for LightGBM 2019 is: ' + str(rmse))"
   ]
  },
  {
   "cell_type": "code",
   "execution_count": 177,
   "id": "aa550157",
   "metadata": {},
   "outputs": [
    {
     "name": "stdout",
     "output_type": "stream",
     "text": [
      "Median Absolute Error:\n",
      "\n",
      "38211.643525191095\n"
     ]
    }
   ],
   "source": [
    "median_se = np.square(np.subtract(np.exp(y_test_19), np.exp(y_pred_19))).median() \n",
    " \n",
    "med = math.sqrt(median_se)\n",
    "print(\"Median Absolute Error:\\n\")\n",
    "print(med)"
   ]
  },
  {
   "cell_type": "code",
   "execution_count": 178,
   "id": "953208a1",
   "metadata": {},
   "outputs": [
    {
     "name": "stdout",
     "output_type": "stream",
     "text": [
      "Accuracy of properties at +- 10% of actual prices is 0.45603015075376885\n"
     ]
    }
   ],
   "source": [
    "acc = accuracy_threshold(y_test_19, y_pred_19, 0.1)\n",
    "print('Accuracy of properties at +- 10% of actual prices is ' + str(acc))"
   ]
  },
  {
   "cell_type": "code",
   "execution_count": 179,
   "id": "a11409ef",
   "metadata": {},
   "outputs": [
    {
     "name": "stdout",
     "output_type": "stream",
     "text": [
      "MAPE for CatBoost 2019 is: 0.16540336826587\n"
     ]
    }
   ],
   "source": [
    "mape = mean_absolute_percentage_error(np.exp(y_test_19), np.exp(y_pred_19))\n",
    "print(\"MAPE for CatBoost 2019 is: \" + str(mape))"
   ]
  },
  {
   "cell_type": "code",
   "execution_count": 180,
   "id": "62ab734b",
   "metadata": {},
   "outputs": [],
   "source": [
    "cnames = ['Algorithm', 'Year', 'RMSE', 'MSE', 'MEDAE', 'Accuracy', 'MAPE']\n",
    "df16 = pd.DataFrame(columns = cnames)\n",
    "\n",
    "df16 = df16.append({'Algorithm': 'CatBoost',\n",
    "           'Year': 2019,\n",
    "           'RMSE': rmse,\n",
    "           'MSE': mse,\n",
    "           'MEDAE': med,\n",
    "           'Accuracy': acc,\n",
    "           'MAPE': mape         \n",
    "          }, ignore_index = True)"
   ]
  },
  {
   "cell_type": "markdown",
   "id": "03917aff",
   "metadata": {},
   "source": [
    "### BayesianRidge"
   ]
  },
  {
   "cell_type": "code",
   "execution_count": 181,
   "id": "bb47ee44",
   "metadata": {},
   "outputs": [
    {
     "name": "stdout",
     "output_type": "stream",
     "text": [
      "MSE for BayesianRidge 2019 is: 8029955988.57439\n"
     ]
    }
   ],
   "source": [
    "clf = BayesianRidge()\n",
    "clf.fit(x_train_19, y_train_19)\n",
    "y_pred_19 = clf.predict(x_test_19)\n",
    "# Calculation of Mean Squared Error (MSE)\n",
    "mse = mean_squared_error(np.exp(y_test_19), np.exp(y_pred_19))\n",
    "print('MSE for BayesianRidge 2019 is: ' + str(mse))"
   ]
  },
  {
   "cell_type": "code",
   "execution_count": 182,
   "id": "f2c9faf8",
   "metadata": {},
   "outputs": [
    {
     "name": "stdout",
     "output_type": "stream",
     "text": [
      "RMSE for LightGBM 2019 is: 89610.02169720968\n"
     ]
    }
   ],
   "source": [
    "rmse = mean_squared_error(np.exp(y_test_19), np.exp(y_pred_19), squared = False)\n",
    "print('RMSE for LightGBM 2019 is: ' + str(rmse))"
   ]
  },
  {
   "cell_type": "code",
   "execution_count": 183,
   "id": "8c56c82e",
   "metadata": {},
   "outputs": [
    {
     "name": "stdout",
     "output_type": "stream",
     "text": [
      "Median Absolute Error:\n",
      "\n",
      "39404.41124779393\n"
     ]
    }
   ],
   "source": [
    "median_se = np.square(np.subtract(np.exp(y_test_19), np.exp(y_pred_19))).median() \n",
    " \n",
    "med = math.sqrt(median_se)\n",
    "print(\"Median Absolute Error:\\n\")\n",
    "print(med)"
   ]
  },
  {
   "cell_type": "code",
   "execution_count": 184,
   "id": "5a59de31",
   "metadata": {},
   "outputs": [
    {
     "name": "stdout",
     "output_type": "stream",
     "text": [
      "Accuracy of properties at +- 10% of actual prices is 0.42462311557788945\n"
     ]
    }
   ],
   "source": [
    "acc = accuracy_threshold(y_test_19, y_pred_19, 0.1)\n",
    "print('Accuracy of properties at +- 10% of actual prices is ' + str(acc))"
   ]
  },
  {
   "cell_type": "code",
   "execution_count": 185,
   "id": "89f14d4e",
   "metadata": {},
   "outputs": [
    {
     "name": "stdout",
     "output_type": "stream",
     "text": [
      "MAPE for BayesianRidge 2019 is: 0.16896491042133288\n"
     ]
    }
   ],
   "source": [
    "mape = mean_absolute_percentage_error(np.exp(y_test_19), np.exp(y_pred_19))\n",
    "print(\"MAPE for BayesianRidge 2019 is: \" + str(mape))"
   ]
  },
  {
   "cell_type": "code",
   "execution_count": 186,
   "id": "98a6ba59",
   "metadata": {},
   "outputs": [],
   "source": [
    "cnames = ['Algorithm', 'Year', 'RMSE', 'MSE', 'MEDAE', 'Accuracy', 'MAPE']\n",
    "df17 = pd.DataFrame(columns = cnames)\n",
    "\n",
    "df17 = df17.append({'Algorithm': 'Bayesian',\n",
    "           'Year': 2019,\n",
    "           'RMSE': rmse,\n",
    "           'MSE': mse,\n",
    "           'MEDAE': med,\n",
    "           'Accuracy': acc,\n",
    "           'MAPE': mape         \n",
    "          }, ignore_index = True)"
   ]
  },
  {
   "cell_type": "markdown",
   "id": "c20aed69",
   "metadata": {},
   "source": [
    "## 2018"
   ]
  },
  {
   "cell_type": "code",
   "execution_count": 187,
   "id": "70eac5c9",
   "metadata": {},
   "outputs": [],
   "source": [
    "specific18 = irl[irl['Year'] > 2014]\n",
    "test_18 = specific18[specific18['Year'] == 2018]\n",
    "train_18 = specific18[specific18['Year'] < 2018]\n",
    "\n",
    "#train_18 = train_18.sample(n = 80000)\n",
    "#test_18 = test_18.sample(n = 20000)\n",
    "\n",
    "x_train_18 = train_18.loc[:, train_18.columns != 'LogPrice (€)']\n",
    "y_train_18 = train_18['LogPrice (€)']\n",
    "x_test_18 = test_18.loc[:, test_18.columns != 'LogPrice (€)']\n",
    "y_test_18 = test_18['LogPrice (€)']"
   ]
  },
  {
   "cell_type": "code",
   "execution_count": 188,
   "id": "9a04a7d1",
   "metadata": {},
   "outputs": [],
   "source": [
    "#x_test_18.drop(columns=['Year'], inplace = True)\n",
    "#x_train_18.drop(columns=['Year'], inplace = True)"
   ]
  },
  {
   "cell_type": "markdown",
   "id": "b65f0852",
   "metadata": {},
   "source": [
    "### AutoML"
   ]
  },
  {
   "cell_type": "code",
   "execution_count": 189,
   "id": "fa364063",
   "metadata": {},
   "outputs": [
    {
     "name": "stdout",
     "output_type": "stream",
     "text": [
      "AutoML directory: AutoML_9\n",
      "The task is regression with evaluation metric rmse\n",
      "AutoML will use algorithms: ['Baseline', 'Linear', 'Decision Tree', 'Random Forest', 'Xgboost', 'Neural Network']\n",
      "AutoML will ensemble available models\n",
      "AutoML steps: ['simple_algorithms', 'default_algorithms', 'ensemble']\n",
      "* Step simple_algorithms will try to check up to 3 models\n",
      "1_Baseline rmse 0.599885 trained in 1.23 seconds\n",
      "2_DecisionTree rmse 0.328473 trained in 5.16 seconds\n",
      "3_Linear rmse 0.353756 trained in 3.44 seconds\n",
      "* Step default_algorithms will try to check up to 3 models\n",
      "4_Default_Xgboost rmse 0.284546 trained in 5.47 seconds\n",
      "5_Default_NeuralNetwork rmse 0.331473 trained in 1.38 seconds\n",
      "6_Default_RandomForest rmse 0.307413 trained in 5.09 seconds\n",
      "* Step ensemble will try to check up to 1 model\n",
      "Ensemble rmse 0.283733 trained in 0.6 seconds\n",
      "AutoML fit time: 35.29 seconds\n",
      "AutoML best model: Ensemble\n"
     ]
    },
    {
     "data": {
      "text/plain": [
       "AutoML(explain_level=2, total_time_limit=300)"
      ]
     },
     "execution_count": 189,
     "metadata": {},
     "output_type": "execute_result"
    }
   ],
   "source": [
    "automl = AutoML(total_time_limit = 5 * 60, explain_level = 2)\n",
    "automl.fit(x_train_18, y_train_18)"
   ]
  },
  {
   "cell_type": "code",
   "execution_count": 190,
   "id": "b94a4be7",
   "metadata": {},
   "outputs": [
    {
     "name": "stdout",
     "output_type": "stream",
     "text": [
      "MSE for AutoML 2018 is: 17662164696.97476\n"
     ]
    }
   ],
   "source": [
    "y_pred_18 = automl.predict(x_test_18)\n",
    "# Calculation of Mean Squared Error (MSE)\n",
    "mse = mean_squared_error(np.exp(y_test_18), np.exp(y_pred_18))\n",
    "print('MSE for AutoML 2018 is: ' + str(mse))"
   ]
  },
  {
   "cell_type": "code",
   "execution_count": 191,
   "id": "bb3f67a0",
   "metadata": {},
   "outputs": [
    {
     "name": "stdout",
     "output_type": "stream",
     "text": [
      "Accuracy of properties at +- 10% of actual prices is 0.44831880448318806\n"
     ]
    }
   ],
   "source": [
    "acc = accuracy_threshold(y_test_18, y_pred_18, 0.1)\n",
    "print('Accuracy of properties at +- 10% of actual prices is ' + str(acc))"
   ]
  },
  {
   "cell_type": "code",
   "execution_count": 192,
   "id": "4ac9ef36",
   "metadata": {},
   "outputs": [
    {
     "name": "stdout",
     "output_type": "stream",
     "text": [
      "RMSE for AutoML 2018 is: 132899.07711107237\n"
     ]
    }
   ],
   "source": [
    "rmse = mean_squared_error(np.exp(y_test_18), np.exp(y_pred_18), squared = False)\n",
    "print('RMSE for AutoML 2018 is: ' + str(rmse))"
   ]
  },
  {
   "cell_type": "code",
   "execution_count": 193,
   "id": "86bd10ad",
   "metadata": {},
   "outputs": [
    {
     "name": "stdout",
     "output_type": "stream",
     "text": [
      "Median Absolute Error:\n",
      "\n",
      "36597.916770730575\n"
     ]
    }
   ],
   "source": [
    "median_se = np.square(np.subtract(np.exp(y_test_18), np.exp(y_pred_18))).median() \n",
    " \n",
    "med = math.sqrt(median_se)\n",
    "print(\"Median Absolute Error:\\n\")\n",
    "print(med)"
   ]
  },
  {
   "cell_type": "code",
   "execution_count": 194,
   "id": "ce57f425",
   "metadata": {},
   "outputs": [
    {
     "name": "stdout",
     "output_type": "stream",
     "text": [
      "MAPE for AutoML 2018 is: 0.22197963756363365\n"
     ]
    }
   ],
   "source": [
    "mape = mean_absolute_percentage_error(np.exp(y_test_18), np.exp(y_pred_18))\n",
    "print(\"MAPE for AutoML 2018 is: \" + str(mape))"
   ]
  },
  {
   "cell_type": "code",
   "execution_count": 195,
   "id": "f4c913fe",
   "metadata": {},
   "outputs": [],
   "source": [
    "cnames = ['Algorithm', 'Year', 'RMSE', 'MSE', 'MEDAE', 'Accuracy','MAPE']\n",
    "df18 = pd.DataFrame(columns = cnames)\n",
    "\n",
    "df18 = df18.append({'Algorithm': 'AutoML',\n",
    "           'Year': 2018,\n",
    "           'RMSE': rmse,\n",
    "           'MSE': mse,\n",
    "           'MEDAE': med,\n",
    "           'Accuracy': acc,\n",
    "           'MAPE': mape         \n",
    "          }, ignore_index = True)"
   ]
  },
  {
   "cell_type": "code",
   "execution_count": 196,
   "id": "2fb97643",
   "metadata": {},
   "outputs": [],
   "source": [
    "#cnames = ['Actual', 'Predicted']\n",
    "#dfreal4 = pd.DataFrame(columns = cnames)\n",
    "dfreal4 = pd.DataFrame(y_test_18.values)\n",
    "dfpred4 = pd.DataFrame(y_pred_18)\n",
    "#dfreal4 = pd.concat([z1, z2], ignore_index=True)"
   ]
  },
  {
   "cell_type": "markdown",
   "id": "41eb5867",
   "metadata": {},
   "source": [
    "### MLR"
   ]
  },
  {
   "cell_type": "code",
   "execution_count": 197,
   "id": "e5483603",
   "metadata": {},
   "outputs": [
    {
     "name": "stdout",
     "output_type": "stream",
     "text": [
      "MSE for MLR 2018 is: 22828879810.345554\n"
     ]
    }
   ],
   "source": [
    "lm = linear_model.LinearRegression()\n",
    "lm.fit(x_train_18, y_train_18) # fitting the model\n",
    "y_pred_18 = lm.predict(x_test_18)\n",
    "# Calculation of Mean Squared Error (MSE)\n",
    "mse = mean_squared_error(np.exp(y_test_18), np.exp(y_pred_18))\n",
    "print('MSE for MLR 2018 is: ' + str(mse))"
   ]
  },
  {
   "cell_type": "code",
   "execution_count": 198,
   "id": "9792680e",
   "metadata": {},
   "outputs": [
    {
     "name": "stdout",
     "output_type": "stream",
     "text": [
      "Accuracy of properties at +- 10% of actual prices is 0.34620174346201743\n"
     ]
    }
   ],
   "source": [
    "acc = accuracy_threshold(y_test_18, y_pred_18, 0.1)\n",
    "print('Accuracy of properties at +- 10% of actual prices is ' + str(acc))"
   ]
  },
  {
   "cell_type": "code",
   "execution_count": 199,
   "id": "2daab6dc",
   "metadata": {},
   "outputs": [
    {
     "name": "stdout",
     "output_type": "stream",
     "text": [
      "RMSE for MLR 2018 is: 151092.28904992325\n"
     ]
    }
   ],
   "source": [
    "rmse = mean_squared_error(np.exp(y_test_18), np.exp(y_pred_18), squared = False)\n",
    "print('RMSE for MLR 2018 is: ' + str(rmse))"
   ]
  },
  {
   "cell_type": "code",
   "execution_count": 200,
   "id": "a236271b",
   "metadata": {},
   "outputs": [
    {
     "name": "stdout",
     "output_type": "stream",
     "text": [
      "Median Absolute Error:\n",
      "\n",
      "42920.459523763275\n"
     ]
    }
   ],
   "source": [
    "median_se = np.square(np.subtract(np.exp(y_test_18), np.exp(y_pred_18))).median() \n",
    " \n",
    "med = math.sqrt(median_se)\n",
    "print(\"Median Absolute Error:\\n\")\n",
    "print(med)"
   ]
  },
  {
   "cell_type": "code",
   "execution_count": 201,
   "id": "8b04f02b",
   "metadata": {},
   "outputs": [
    {
     "name": "stdout",
     "output_type": "stream",
     "text": [
      "MAPE for MLR 2018 is: 0.25761598360241644\n"
     ]
    }
   ],
   "source": [
    "mape = mean_absolute_percentage_error(np.exp(y_test_18), np.exp(y_pred_18))\n",
    "print(\"MAPE for MLR 2018 is: \" + str(mape))"
   ]
  },
  {
   "cell_type": "code",
   "execution_count": 202,
   "id": "9781eb0f",
   "metadata": {},
   "outputs": [],
   "source": [
    "cnames = ['Algorithm', 'Year', 'RMSE', 'MSE', 'MEDAE', 'Accuracy', 'MAPE']\n",
    "df19 = pd.DataFrame(columns = cnames)\n",
    "\n",
    "df19 = df19.append({'Algorithm': 'MLR',\n",
    "           'Year': 2018,\n",
    "           'RMSE': rmse,\n",
    "           'MSE': mse,\n",
    "           'MEDAE': med,\n",
    "           'Accuracy': acc,\n",
    "           'MAPE': mape         \n",
    "          }, ignore_index = True)"
   ]
  },
  {
   "cell_type": "markdown",
   "id": "18d02369",
   "metadata": {},
   "source": [
    "### AdaBoost"
   ]
  },
  {
   "cell_type": "code",
   "execution_count": 203,
   "id": "d8820d35",
   "metadata": {},
   "outputs": [
    {
     "name": "stdout",
     "output_type": "stream",
     "text": [
      "MSE for AdaBoost 2018 is: 21480001558.090454\n"
     ]
    }
   ],
   "source": [
    "model = AdaBoostRegressor()\n",
    "model.fit(x_train_18, y_train_18)\n",
    "y_pred_18 = model.predict(x_test_18)\n",
    "# Calculation of Mean Squared Error (MSE)\n",
    "mse = mean_squared_error(np.exp(y_test_18), np.exp(y_pred_18))\n",
    "print('MSE for AdaBoost 2018 is: ' + str(mse))"
   ]
  },
  {
   "cell_type": "code",
   "execution_count": 204,
   "id": "bee989ee",
   "metadata": {},
   "outputs": [
    {
     "name": "stdout",
     "output_type": "stream",
     "text": [
      "Accuracy of properties at +- 10% of actual prices is 0.32627646326276466\n"
     ]
    }
   ],
   "source": [
    "acc = accuracy_threshold(y_test_18, y_pred_18, 0.1)\n",
    "print('Accuracy of properties at +- 10% of actual prices is ' + str(acc))"
   ]
  },
  {
   "cell_type": "code",
   "execution_count": 205,
   "id": "13a6c017",
   "metadata": {},
   "outputs": [
    {
     "name": "stdout",
     "output_type": "stream",
     "text": [
      "Median Absolute Error:\n",
      "\n",
      "49745.300083671464\n"
     ]
    }
   ],
   "source": [
    "median_se = np.square(np.subtract(np.exp(y_test_18), np.exp(y_pred_18))).median() \n",
    " \n",
    "med = math.sqrt(median_se)\n",
    "print(\"Median Absolute Error:\\n\")\n",
    "print(med)"
   ]
  },
  {
   "cell_type": "code",
   "execution_count": 206,
   "id": "0c737b65",
   "metadata": {},
   "outputs": [
    {
     "name": "stdout",
     "output_type": "stream",
     "text": [
      "RMSE for MLR 2018 is: 146560.57300000725\n"
     ]
    }
   ],
   "source": [
    "rmse = mean_squared_error(np.exp(y_test_18), np.exp(y_pred_18), squared = False)\n",
    "print('RMSE for MLR 2018 is: ' + str(rmse))"
   ]
  },
  {
   "cell_type": "code",
   "execution_count": 207,
   "id": "7c403a5e",
   "metadata": {},
   "outputs": [
    {
     "name": "stdout",
     "output_type": "stream",
     "text": [
      "MAPE for MLR 2018 is: 0.2416957873531341\n"
     ]
    }
   ],
   "source": [
    "mape = mean_absolute_percentage_error(np.exp(y_test_18), np.exp(y_pred_18))\n",
    "print(\"MAPE for MLR 2018 is: \" + str(mape))"
   ]
  },
  {
   "cell_type": "code",
   "execution_count": 208,
   "id": "e92f003a",
   "metadata": {},
   "outputs": [],
   "source": [
    "cnames = ['Algorithm', 'Year', 'RMSE', 'MSE', 'MEDAE', 'Accuracy', 'MAPE']\n",
    "df20 = pd.DataFrame(columns = cnames)\n",
    "\n",
    "df20 = df20.append({'Algorithm': 'AdaBoost',\n",
    "           'Year': 2018,\n",
    "           'RMSE': rmse,\n",
    "           'MSE': mse,\n",
    "           'MEDAE': med,\n",
    "           'Accuracy': acc,\n",
    "           'MAPE': mape         \n",
    "          }, ignore_index = True)"
   ]
  },
  {
   "cell_type": "markdown",
   "id": "ee4e29ce",
   "metadata": {},
   "source": [
    "### LightGBM"
   ]
  },
  {
   "cell_type": "code",
   "execution_count": 209,
   "id": "2408dc22",
   "metadata": {},
   "outputs": [
    {
     "name": "stdout",
     "output_type": "stream",
     "text": [
      "MSE for LightGBM 2018 is: 17835394938.184277\n"
     ]
    }
   ],
   "source": [
    "model = LGBMRegressor()\n",
    "model.fit(x_train_18, y_train_18)\n",
    "y_pred_18 = model.predict(x_test_18)\n",
    "# Calculation of Mean Squared Error (MSE)\n",
    "mse = mean_squared_error(np.exp(y_test_18), np.exp(y_pred_18))\n",
    "print('MSE for LightGBM 2018 is: ' + str(mse))"
   ]
  },
  {
   "cell_type": "code",
   "execution_count": 210,
   "id": "e468b773",
   "metadata": {},
   "outputs": [
    {
     "name": "stdout",
     "output_type": "stream",
     "text": [
      "Accuracy of properties at +- 10% of actual prices is 0.39103362391033625\n"
     ]
    }
   ],
   "source": [
    "acc = accuracy_threshold(y_test_18, y_pred_18, 0.1)\n",
    "print('Accuracy of properties at +- 10% of actual prices is ' + str(acc))"
   ]
  },
  {
   "cell_type": "code",
   "execution_count": 211,
   "id": "96ebc9e9",
   "metadata": {},
   "outputs": [
    {
     "name": "stdout",
     "output_type": "stream",
     "text": [
      "Median Absolute Error:\n",
      "\n",
      "38056.31103282515\n"
     ]
    }
   ],
   "source": [
    "median_se = np.square(np.subtract(np.exp(y_test_18), np.exp(y_pred_18))).median() \n",
    " \n",
    "med = math.sqrt(median_se)\n",
    "print(\"Median Absolute Error:\\n\")\n",
    "print(med)"
   ]
  },
  {
   "cell_type": "code",
   "execution_count": 212,
   "id": "c7f18b29",
   "metadata": {},
   "outputs": [
    {
     "name": "stdout",
     "output_type": "stream",
     "text": [
      "RMSE for LightGBM 2018 is: 133549.22290370797\n"
     ]
    }
   ],
   "source": [
    "rmse = mean_squared_error(np.exp(y_test_18), np.exp(y_pred_18), squared = False)\n",
    "print('RMSE for LightGBM 2018 is: ' + str(rmse))"
   ]
  },
  {
   "cell_type": "code",
   "execution_count": 213,
   "id": "79c37007",
   "metadata": {},
   "outputs": [
    {
     "name": "stdout",
     "output_type": "stream",
     "text": [
      "MAPE for LightGBM 2018 is: 0.22678901485304295\n"
     ]
    }
   ],
   "source": [
    "mape = mean_absolute_percentage_error(np.exp(y_test_18), np.exp(y_pred_18))\n",
    "print(\"MAPE for LightGBM 2018 is: \" + str(mape))"
   ]
  },
  {
   "cell_type": "code",
   "execution_count": 214,
   "id": "7bf927d1",
   "metadata": {},
   "outputs": [],
   "source": [
    "cnames = ['Algorithm', 'Year', 'RMSE', 'MSE', 'MEDAE', 'Accuracy', 'MAPE']\n",
    "df21 = pd.DataFrame(columns = cnames)\n",
    "\n",
    "df21 = df21.append({'Algorithm': 'LightGBM',\n",
    "           'Year': 2018,\n",
    "           'RMSE': rmse,\n",
    "           'MSE': mse,\n",
    "           'MEDAE': med,\n",
    "           'Accuracy': acc,\n",
    "           'MAPE': mape         \n",
    "          }, ignore_index = True)"
   ]
  },
  {
   "cell_type": "markdown",
   "id": "55517a01",
   "metadata": {},
   "source": [
    "### CatBoost"
   ]
  },
  {
   "cell_type": "code",
   "execution_count": 215,
   "id": "1c21a0a3",
   "metadata": {},
   "outputs": [
    {
     "name": "stdout",
     "output_type": "stream",
     "text": [
      "Learning rate set to 0.044382\n",
      "0:\tlearn: 0.5709671\ttotal: 4.39ms\tremaining: 4.38s\n",
      "1:\tlearn: 0.5566020\ttotal: 8.04ms\tremaining: 4.01s\n",
      "2:\tlearn: 0.5416397\ttotal: 11.9ms\tremaining: 3.96s\n",
      "3:\tlearn: 0.5271999\ttotal: 15.1ms\tremaining: 3.76s\n",
      "4:\tlearn: 0.5140232\ttotal: 19.5ms\tremaining: 3.87s\n",
      "5:\tlearn: 0.5016410\ttotal: 22.8ms\tremaining: 3.78s\n",
      "6:\tlearn: 0.4902330\ttotal: 28.7ms\tremaining: 4.07s\n",
      "7:\tlearn: 0.4802505\ttotal: 35.1ms\tremaining: 4.36s\n",
      "8:\tlearn: 0.4698143\ttotal: 38.7ms\tremaining: 4.26s\n",
      "9:\tlearn: 0.4598333\ttotal: 43.6ms\tremaining: 4.31s\n",
      "10:\tlearn: 0.4501826\ttotal: 48.2ms\tremaining: 4.33s\n",
      "11:\tlearn: 0.4418300\ttotal: 51.6ms\tremaining: 4.25s\n",
      "12:\tlearn: 0.4331015\ttotal: 55ms\tremaining: 4.18s\n",
      "13:\tlearn: 0.4250348\ttotal: 59.3ms\tremaining: 4.18s\n",
      "14:\tlearn: 0.4173858\ttotal: 63.8ms\tremaining: 4.19s\n",
      "15:\tlearn: 0.4100291\ttotal: 67.1ms\tremaining: 4.13s\n",
      "16:\tlearn: 0.4035282\ttotal: 70.7ms\tremaining: 4.08s\n",
      "17:\tlearn: 0.3967353\ttotal: 74.7ms\tremaining: 4.07s\n",
      "18:\tlearn: 0.3898827\ttotal: 79.3ms\tremaining: 4.09s\n",
      "19:\tlearn: 0.3841747\ttotal: 82.5ms\tremaining: 4.04s\n",
      "20:\tlearn: 0.3788219\ttotal: 85.8ms\tremaining: 4s\n",
      "21:\tlearn: 0.3736790\ttotal: 90.8ms\tremaining: 4.04s\n",
      "22:\tlearn: 0.3679239\ttotal: 94.4ms\tremaining: 4.01s\n",
      "23:\tlearn: 0.3633306\ttotal: 103ms\tremaining: 4.17s\n",
      "24:\tlearn: 0.3588500\ttotal: 106ms\tremaining: 4.14s\n",
      "25:\tlearn: 0.3547027\ttotal: 110ms\tremaining: 4.11s\n",
      "26:\tlearn: 0.3511244\ttotal: 113ms\tremaining: 4.07s\n",
      "27:\tlearn: 0.3471500\ttotal: 118ms\tremaining: 4.1s\n",
      "28:\tlearn: 0.3434028\ttotal: 122ms\tremaining: 4.07s\n",
      "29:\tlearn: 0.3398415\ttotal: 125ms\tremaining: 4.03s\n",
      "30:\tlearn: 0.3362775\ttotal: 128ms\tremaining: 4s\n",
      "31:\tlearn: 0.3333812\ttotal: 131ms\tremaining: 3.98s\n",
      "32:\tlearn: 0.3305557\ttotal: 135ms\tremaining: 3.95s\n",
      "33:\tlearn: 0.3280142\ttotal: 138ms\tremaining: 3.92s\n",
      "34:\tlearn: 0.3252381\ttotal: 141ms\tremaining: 3.9s\n",
      "35:\tlearn: 0.3227130\ttotal: 145ms\tremaining: 3.88s\n",
      "36:\tlearn: 0.3203569\ttotal: 151ms\tremaining: 3.93s\n",
      "37:\tlearn: 0.3179263\ttotal: 156ms\tremaining: 3.96s\n",
      "38:\tlearn: 0.3154664\ttotal: 163ms\tremaining: 4.02s\n",
      "39:\tlearn: 0.3138356\ttotal: 166ms\tremaining: 3.99s\n",
      "40:\tlearn: 0.3122123\ttotal: 170ms\tremaining: 3.97s\n",
      "41:\tlearn: 0.3100066\ttotal: 173ms\tremaining: 3.95s\n",
      "42:\tlearn: 0.3081057\ttotal: 177ms\tremaining: 3.94s\n",
      "43:\tlearn: 0.3061748\ttotal: 180ms\tremaining: 3.92s\n",
      "44:\tlearn: 0.3043566\ttotal: 184ms\tremaining: 3.9s\n",
      "45:\tlearn: 0.3028148\ttotal: 187ms\tremaining: 3.89s\n",
      "46:\tlearn: 0.3008964\ttotal: 193ms\tremaining: 3.91s\n",
      "47:\tlearn: 0.2994896\ttotal: 196ms\tremaining: 3.89s\n",
      "48:\tlearn: 0.2978993\ttotal: 200ms\tremaining: 3.87s\n",
      "49:\tlearn: 0.2966742\ttotal: 203ms\tremaining: 3.86s\n",
      "50:\tlearn: 0.2955879\ttotal: 207ms\tremaining: 3.84s\n",
      "51:\tlearn: 0.2942431\ttotal: 212ms\tremaining: 3.86s\n",
      "52:\tlearn: 0.2930204\ttotal: 219ms\tremaining: 3.91s\n",
      "53:\tlearn: 0.2917620\ttotal: 225ms\tremaining: 3.95s\n",
      "54:\tlearn: 0.2906907\ttotal: 229ms\tremaining: 3.93s\n",
      "55:\tlearn: 0.2897000\ttotal: 234ms\tremaining: 3.94s\n",
      "56:\tlearn: 0.2887828\ttotal: 237ms\tremaining: 3.92s\n",
      "57:\tlearn: 0.2878030\ttotal: 240ms\tremaining: 3.9s\n",
      "58:\tlearn: 0.2867778\ttotal: 244ms\tremaining: 3.88s\n",
      "59:\tlearn: 0.2859041\ttotal: 248ms\tremaining: 3.89s\n",
      "60:\tlearn: 0.2847574\ttotal: 252ms\tremaining: 3.88s\n",
      "61:\tlearn: 0.2838953\ttotal: 255ms\tremaining: 3.86s\n",
      "62:\tlearn: 0.2831236\ttotal: 260ms\tremaining: 3.86s\n",
      "63:\tlearn: 0.2824892\ttotal: 263ms\tremaining: 3.85s\n",
      "64:\tlearn: 0.2815617\ttotal: 266ms\tremaining: 3.83s\n",
      "65:\tlearn: 0.2806840\ttotal: 270ms\tremaining: 3.81s\n",
      "66:\tlearn: 0.2800042\ttotal: 273ms\tremaining: 3.8s\n",
      "67:\tlearn: 0.2792805\ttotal: 284ms\tremaining: 3.88s\n",
      "68:\tlearn: 0.2783787\ttotal: 288ms\tremaining: 3.88s\n",
      "69:\tlearn: 0.2777837\ttotal: 291ms\tremaining: 3.87s\n",
      "70:\tlearn: 0.2770106\ttotal: 295ms\tremaining: 3.85s\n",
      "71:\tlearn: 0.2763097\ttotal: 298ms\tremaining: 3.85s\n",
      "72:\tlearn: 0.2758130\ttotal: 302ms\tremaining: 3.83s\n",
      "73:\tlearn: 0.2753354\ttotal: 305ms\tremaining: 3.81s\n",
      "74:\tlearn: 0.2749372\ttotal: 308ms\tremaining: 3.8s\n",
      "75:\tlearn: 0.2743648\ttotal: 312ms\tremaining: 3.79s\n",
      "76:\tlearn: 0.2737452\ttotal: 315ms\tremaining: 3.78s\n",
      "77:\tlearn: 0.2732044\ttotal: 319ms\tremaining: 3.77s\n",
      "78:\tlearn: 0.2727813\ttotal: 322ms\tremaining: 3.75s\n",
      "79:\tlearn: 0.2722998\ttotal: 325ms\tremaining: 3.74s\n",
      "80:\tlearn: 0.2717626\ttotal: 333ms\tremaining: 3.78s\n",
      "81:\tlearn: 0.2712047\ttotal: 337ms\tremaining: 3.77s\n",
      "82:\tlearn: 0.2706137\ttotal: 341ms\tremaining: 3.77s\n",
      "83:\tlearn: 0.2702388\ttotal: 345ms\tremaining: 3.76s\n",
      "84:\tlearn: 0.2696676\ttotal: 348ms\tremaining: 3.75s\n",
      "85:\tlearn: 0.2693040\ttotal: 351ms\tremaining: 3.73s\n",
      "86:\tlearn: 0.2688890\ttotal: 357ms\tremaining: 3.75s\n",
      "87:\tlearn: 0.2685204\ttotal: 361ms\tremaining: 3.75s\n",
      "88:\tlearn: 0.2680002\ttotal: 366ms\tremaining: 3.74s\n",
      "89:\tlearn: 0.2675555\ttotal: 370ms\tremaining: 3.74s\n",
      "90:\tlearn: 0.2670931\ttotal: 374ms\tremaining: 3.74s\n",
      "91:\tlearn: 0.2665908\ttotal: 378ms\tremaining: 3.73s\n",
      "92:\tlearn: 0.2659483\ttotal: 382ms\tremaining: 3.73s\n",
      "93:\tlearn: 0.2656476\ttotal: 389ms\tremaining: 3.75s\n",
      "94:\tlearn: 0.2651216\ttotal: 397ms\tremaining: 3.78s\n",
      "95:\tlearn: 0.2648628\ttotal: 404ms\tremaining: 3.8s\n",
      "96:\tlearn: 0.2645196\ttotal: 413ms\tremaining: 3.84s\n",
      "97:\tlearn: 0.2639848\ttotal: 419ms\tremaining: 3.86s\n",
      "98:\tlearn: 0.2636704\ttotal: 424ms\tremaining: 3.86s\n",
      "99:\tlearn: 0.2633911\ttotal: 429ms\tremaining: 3.86s\n",
      "100:\tlearn: 0.2631395\ttotal: 433ms\tremaining: 3.85s\n",
      "101:\tlearn: 0.2626932\ttotal: 438ms\tremaining: 3.86s\n",
      "102:\tlearn: 0.2620670\ttotal: 443ms\tremaining: 3.85s\n",
      "103:\tlearn: 0.2615464\ttotal: 453ms\tremaining: 3.9s\n",
      "104:\tlearn: 0.2612277\ttotal: 457ms\tremaining: 3.9s\n",
      "105:\tlearn: 0.2608902\ttotal: 462ms\tremaining: 3.9s\n",
      "106:\tlearn: 0.2605028\ttotal: 469ms\tremaining: 3.91s\n",
      "107:\tlearn: 0.2600563\ttotal: 473ms\tremaining: 3.91s\n",
      "108:\tlearn: 0.2595726\ttotal: 478ms\tremaining: 3.9s\n",
      "109:\tlearn: 0.2591707\ttotal: 483ms\tremaining: 3.91s\n",
      "110:\tlearn: 0.2588962\ttotal: 488ms\tremaining: 3.9s\n",
      "111:\tlearn: 0.2584979\ttotal: 494ms\tremaining: 3.92s\n",
      "112:\tlearn: 0.2581931\ttotal: 498ms\tremaining: 3.9s\n",
      "113:\tlearn: 0.2580612\ttotal: 499ms\tremaining: 3.88s\n",
      "114:\tlearn: 0.2577250\ttotal: 503ms\tremaining: 3.87s\n",
      "115:\tlearn: 0.2574714\ttotal: 506ms\tremaining: 3.86s\n",
      "116:\tlearn: 0.2573108\ttotal: 510ms\tremaining: 3.85s\n",
      "117:\tlearn: 0.2570117\ttotal: 513ms\tremaining: 3.84s\n",
      "118:\tlearn: 0.2567593\ttotal: 526ms\tremaining: 3.9s\n",
      "119:\tlearn: 0.2563544\ttotal: 532ms\tremaining: 3.9s\n",
      "120:\tlearn: 0.2560220\ttotal: 536ms\tremaining: 3.89s\n",
      "121:\tlearn: 0.2553390\ttotal: 540ms\tremaining: 3.88s\n",
      "122:\tlearn: 0.2550513\ttotal: 544ms\tremaining: 3.88s\n",
      "123:\tlearn: 0.2547465\ttotal: 548ms\tremaining: 3.87s\n",
      "124:\tlearn: 0.2545192\ttotal: 552ms\tremaining: 3.86s\n",
      "125:\tlearn: 0.2544016\ttotal: 555ms\tremaining: 3.85s\n",
      "126:\tlearn: 0.2540970\ttotal: 559ms\tremaining: 3.84s\n",
      "127:\tlearn: 0.2537385\ttotal: 563ms\tremaining: 3.84s\n",
      "128:\tlearn: 0.2533642\ttotal: 567ms\tremaining: 3.83s\n",
      "129:\tlearn: 0.2531871\ttotal: 570ms\tremaining: 3.81s\n",
      "130:\tlearn: 0.2529673\ttotal: 573ms\tremaining: 3.8s\n",
      "131:\tlearn: 0.2526314\ttotal: 578ms\tremaining: 3.8s\n",
      "132:\tlearn: 0.2523161\ttotal: 582ms\tremaining: 3.79s\n",
      "133:\tlearn: 0.2520023\ttotal: 586ms\tremaining: 3.78s\n",
      "134:\tlearn: 0.2517136\ttotal: 595ms\tremaining: 3.81s\n",
      "135:\tlearn: 0.2512867\ttotal: 598ms\tremaining: 3.8s\n",
      "136:\tlearn: 0.2510669\ttotal: 602ms\tremaining: 3.79s\n",
      "137:\tlearn: 0.2508455\ttotal: 607ms\tremaining: 3.79s\n",
      "138:\tlearn: 0.2505493\ttotal: 610ms\tremaining: 3.78s\n",
      "139:\tlearn: 0.2502322\ttotal: 613ms\tremaining: 3.77s\n",
      "140:\tlearn: 0.2499937\ttotal: 616ms\tremaining: 3.75s\n",
      "141:\tlearn: 0.2497479\ttotal: 621ms\tremaining: 3.75s\n",
      "142:\tlearn: 0.2494614\ttotal: 624ms\tremaining: 3.74s\n",
      "143:\tlearn: 0.2492995\ttotal: 627ms\tremaining: 3.73s\n",
      "144:\tlearn: 0.2489551\ttotal: 630ms\tremaining: 3.72s\n",
      "145:\tlearn: 0.2486607\ttotal: 634ms\tremaining: 3.71s\n",
      "146:\tlearn: 0.2484380\ttotal: 637ms\tremaining: 3.7s\n",
      "147:\tlearn: 0.2482403\ttotal: 641ms\tremaining: 3.69s\n",
      "148:\tlearn: 0.2479650\ttotal: 644ms\tremaining: 3.68s\n",
      "149:\tlearn: 0.2476833\ttotal: 647ms\tremaining: 3.67s\n",
      "150:\tlearn: 0.2475082\ttotal: 651ms\tremaining: 3.66s\n",
      "151:\tlearn: 0.2473167\ttotal: 655ms\tremaining: 3.65s\n",
      "152:\tlearn: 0.2470469\ttotal: 658ms\tremaining: 3.64s\n",
      "153:\tlearn: 0.2466872\ttotal: 663ms\tremaining: 3.64s\n",
      "154:\tlearn: 0.2463648\ttotal: 667ms\tremaining: 3.63s\n",
      "155:\tlearn: 0.2461240\ttotal: 670ms\tremaining: 3.63s\n",
      "156:\tlearn: 0.2459534\ttotal: 677ms\tremaining: 3.64s\n",
      "157:\tlearn: 0.2456579\ttotal: 685ms\tremaining: 3.65s\n",
      "158:\tlearn: 0.2454386\ttotal: 691ms\tremaining: 3.65s\n",
      "159:\tlearn: 0.2452055\ttotal: 696ms\tremaining: 3.65s\n",
      "160:\tlearn: 0.2450695\ttotal: 700ms\tremaining: 3.65s\n",
      "161:\tlearn: 0.2447582\ttotal: 703ms\tremaining: 3.64s\n",
      "162:\tlearn: 0.2446373\ttotal: 706ms\tremaining: 3.63s\n",
      "163:\tlearn: 0.2445171\ttotal: 710ms\tremaining: 3.62s\n",
      "164:\tlearn: 0.2443397\ttotal: 714ms\tremaining: 3.61s\n"
     ]
    },
    {
     "name": "stdout",
     "output_type": "stream",
     "text": [
      "165:\tlearn: 0.2441544\ttotal: 721ms\tremaining: 3.62s\n",
      "166:\tlearn: 0.2440017\ttotal: 724ms\tremaining: 3.61s\n",
      "167:\tlearn: 0.2438408\ttotal: 728ms\tremaining: 3.6s\n",
      "168:\tlearn: 0.2435833\ttotal: 733ms\tremaining: 3.6s\n",
      "169:\tlearn: 0.2434639\ttotal: 736ms\tremaining: 3.59s\n",
      "170:\tlearn: 0.2432169\ttotal: 740ms\tremaining: 3.59s\n",
      "171:\tlearn: 0.2430596\ttotal: 745ms\tremaining: 3.58s\n",
      "172:\tlearn: 0.2427983\ttotal: 748ms\tremaining: 3.58s\n",
      "173:\tlearn: 0.2425215\ttotal: 751ms\tremaining: 3.57s\n",
      "174:\tlearn: 0.2423073\ttotal: 755ms\tremaining: 3.56s\n",
      "175:\tlearn: 0.2420914\ttotal: 760ms\tremaining: 3.56s\n",
      "176:\tlearn: 0.2418557\ttotal: 763ms\tremaining: 3.55s\n",
      "177:\tlearn: 0.2416465\ttotal: 768ms\tremaining: 3.54s\n",
      "178:\tlearn: 0.2414098\ttotal: 773ms\tremaining: 3.54s\n",
      "179:\tlearn: 0.2412722\ttotal: 776ms\tremaining: 3.54s\n",
      "180:\tlearn: 0.2411791\ttotal: 779ms\tremaining: 3.53s\n",
      "181:\tlearn: 0.2409695\ttotal: 783ms\tremaining: 3.52s\n",
      "182:\tlearn: 0.2406775\ttotal: 787ms\tremaining: 3.51s\n",
      "183:\tlearn: 0.2403303\ttotal: 790ms\tremaining: 3.5s\n",
      "184:\tlearn: 0.2400793\ttotal: 793ms\tremaining: 3.5s\n",
      "185:\tlearn: 0.2399198\ttotal: 797ms\tremaining: 3.49s\n",
      "186:\tlearn: 0.2396058\ttotal: 801ms\tremaining: 3.48s\n",
      "187:\tlearn: 0.2393921\ttotal: 804ms\tremaining: 3.47s\n",
      "188:\tlearn: 0.2392652\ttotal: 807ms\tremaining: 3.46s\n",
      "189:\tlearn: 0.2391121\ttotal: 809ms\tremaining: 3.45s\n",
      "190:\tlearn: 0.2389472\ttotal: 812ms\tremaining: 3.44s\n",
      "191:\tlearn: 0.2387217\ttotal: 816ms\tremaining: 3.43s\n",
      "192:\tlearn: 0.2384139\ttotal: 818ms\tremaining: 3.42s\n",
      "193:\tlearn: 0.2382368\ttotal: 821ms\tremaining: 3.41s\n",
      "194:\tlearn: 0.2379967\ttotal: 824ms\tremaining: 3.4s\n",
      "195:\tlearn: 0.2377764\ttotal: 826ms\tremaining: 3.39s\n",
      "196:\tlearn: 0.2376031\ttotal: 831ms\tremaining: 3.39s\n",
      "197:\tlearn: 0.2374584\ttotal: 834ms\tremaining: 3.38s\n",
      "198:\tlearn: 0.2373562\ttotal: 837ms\tremaining: 3.37s\n",
      "199:\tlearn: 0.2371350\ttotal: 840ms\tremaining: 3.36s\n",
      "200:\tlearn: 0.2369232\ttotal: 844ms\tremaining: 3.35s\n",
      "201:\tlearn: 0.2366665\ttotal: 848ms\tremaining: 3.35s\n",
      "202:\tlearn: 0.2364999\ttotal: 851ms\tremaining: 3.34s\n",
      "203:\tlearn: 0.2362423\ttotal: 854ms\tremaining: 3.33s\n",
      "204:\tlearn: 0.2360081\ttotal: 859ms\tremaining: 3.33s\n",
      "205:\tlearn: 0.2358209\ttotal: 864ms\tremaining: 3.33s\n",
      "206:\tlearn: 0.2356269\ttotal: 867ms\tremaining: 3.32s\n",
      "207:\tlearn: 0.2355225\ttotal: 870ms\tremaining: 3.31s\n",
      "208:\tlearn: 0.2352684\ttotal: 874ms\tremaining: 3.31s\n",
      "209:\tlearn: 0.2350806\ttotal: 879ms\tremaining: 3.31s\n",
      "210:\tlearn: 0.2348184\ttotal: 882ms\tremaining: 3.3s\n",
      "211:\tlearn: 0.2345350\ttotal: 887ms\tremaining: 3.3s\n",
      "212:\tlearn: 0.2343518\ttotal: 891ms\tremaining: 3.29s\n",
      "213:\tlearn: 0.2341707\ttotal: 895ms\tremaining: 3.29s\n",
      "214:\tlearn: 0.2339632\ttotal: 898ms\tremaining: 3.28s\n",
      "215:\tlearn: 0.2337117\ttotal: 904ms\tremaining: 3.28s\n",
      "216:\tlearn: 0.2333752\ttotal: 909ms\tremaining: 3.28s\n",
      "217:\tlearn: 0.2330449\ttotal: 912ms\tremaining: 3.27s\n",
      "218:\tlearn: 0.2326713\ttotal: 916ms\tremaining: 3.27s\n",
      "219:\tlearn: 0.2324903\ttotal: 919ms\tremaining: 3.26s\n",
      "220:\tlearn: 0.2323854\ttotal: 923ms\tremaining: 3.25s\n",
      "221:\tlearn: 0.2320620\ttotal: 928ms\tremaining: 3.25s\n",
      "222:\tlearn: 0.2318253\ttotal: 931ms\tremaining: 3.25s\n",
      "223:\tlearn: 0.2316160\ttotal: 936ms\tremaining: 3.24s\n",
      "224:\tlearn: 0.2312946\ttotal: 939ms\tremaining: 3.23s\n",
      "225:\tlearn: 0.2310775\ttotal: 942ms\tremaining: 3.23s\n",
      "226:\tlearn: 0.2309326\ttotal: 946ms\tremaining: 3.22s\n",
      "227:\tlearn: 0.2307970\ttotal: 949ms\tremaining: 3.21s\n",
      "228:\tlearn: 0.2306841\ttotal: 955ms\tremaining: 3.21s\n",
      "229:\tlearn: 0.2305947\ttotal: 957ms\tremaining: 3.2s\n",
      "230:\tlearn: 0.2305215\ttotal: 960ms\tremaining: 3.19s\n",
      "231:\tlearn: 0.2303590\ttotal: 963ms\tremaining: 3.19s\n",
      "232:\tlearn: 0.2301328\ttotal: 967ms\tremaining: 3.18s\n",
      "233:\tlearn: 0.2299849\ttotal: 970ms\tremaining: 3.17s\n",
      "234:\tlearn: 0.2295996\ttotal: 973ms\tremaining: 3.17s\n",
      "235:\tlearn: 0.2293236\ttotal: 977ms\tremaining: 3.16s\n",
      "236:\tlearn: 0.2289975\ttotal: 981ms\tremaining: 3.16s\n",
      "237:\tlearn: 0.2286710\ttotal: 984ms\tremaining: 3.15s\n",
      "238:\tlearn: 0.2285631\ttotal: 988ms\tremaining: 3.14s\n",
      "239:\tlearn: 0.2283506\ttotal: 991ms\tremaining: 3.14s\n",
      "240:\tlearn: 0.2282509\ttotal: 994ms\tremaining: 3.13s\n",
      "241:\tlearn: 0.2278894\ttotal: 1000ms\tremaining: 3.13s\n",
      "242:\tlearn: 0.2277222\ttotal: 1s\tremaining: 3.12s\n",
      "243:\tlearn: 0.2276110\ttotal: 1s\tremaining: 3.12s\n",
      "244:\tlearn: 0.2274965\ttotal: 1.01s\tremaining: 3.11s\n",
      "245:\tlearn: 0.2272071\ttotal: 1.01s\tremaining: 3.1s\n",
      "246:\tlearn: 0.2269864\ttotal: 1.01s\tremaining: 3.1s\n",
      "247:\tlearn: 0.2267825\ttotal: 1.02s\tremaining: 3.09s\n",
      "248:\tlearn: 0.2264184\ttotal: 1.02s\tremaining: 3.08s\n",
      "249:\tlearn: 0.2261208\ttotal: 1.03s\tremaining: 3.08s\n",
      "250:\tlearn: 0.2259988\ttotal: 1.03s\tremaining: 3.08s\n",
      "251:\tlearn: 0.2257000\ttotal: 1.03s\tremaining: 3.07s\n",
      "252:\tlearn: 0.2255079\ttotal: 1.04s\tremaining: 3.06s\n",
      "253:\tlearn: 0.2253359\ttotal: 1.04s\tremaining: 3.06s\n",
      "254:\tlearn: 0.2251901\ttotal: 1.05s\tremaining: 3.06s\n",
      "255:\tlearn: 0.2249969\ttotal: 1.05s\tremaining: 3.05s\n",
      "256:\tlearn: 0.2247757\ttotal: 1.05s\tremaining: 3.04s\n",
      "257:\tlearn: 0.2246820\ttotal: 1.06s\tremaining: 3.04s\n",
      "258:\tlearn: 0.2246205\ttotal: 1.06s\tremaining: 3.04s\n",
      "259:\tlearn: 0.2244661\ttotal: 1.06s\tremaining: 3.03s\n",
      "260:\tlearn: 0.2243308\ttotal: 1.07s\tremaining: 3.02s\n",
      "261:\tlearn: 0.2241238\ttotal: 1.07s\tremaining: 3.02s\n",
      "262:\tlearn: 0.2238840\ttotal: 1.08s\tremaining: 3.02s\n",
      "263:\tlearn: 0.2237337\ttotal: 1.08s\tremaining: 3.01s\n",
      "264:\tlearn: 0.2236151\ttotal: 1.08s\tremaining: 3.01s\n",
      "265:\tlearn: 0.2233568\ttotal: 1.09s\tremaining: 3s\n",
      "266:\tlearn: 0.2230273\ttotal: 1.09s\tremaining: 3s\n",
      "267:\tlearn: 0.2228541\ttotal: 1.09s\tremaining: 2.99s\n",
      "268:\tlearn: 0.2226134\ttotal: 1.1s\tremaining: 2.99s\n",
      "269:\tlearn: 0.2224176\ttotal: 1.1s\tremaining: 2.98s\n",
      "270:\tlearn: 0.2222345\ttotal: 1.11s\tremaining: 2.98s\n",
      "271:\tlearn: 0.2220935\ttotal: 1.11s\tremaining: 2.97s\n",
      "272:\tlearn: 0.2220160\ttotal: 1.11s\tremaining: 2.97s\n",
      "273:\tlearn: 0.2217419\ttotal: 1.12s\tremaining: 2.96s\n",
      "274:\tlearn: 0.2214212\ttotal: 1.12s\tremaining: 2.96s\n",
      "275:\tlearn: 0.2212113\ttotal: 1.13s\tremaining: 2.95s\n",
      "276:\tlearn: 0.2210648\ttotal: 1.13s\tremaining: 2.94s\n",
      "277:\tlearn: 0.2208987\ttotal: 1.13s\tremaining: 2.94s\n",
      "278:\tlearn: 0.2207480\ttotal: 1.14s\tremaining: 2.94s\n",
      "279:\tlearn: 0.2206889\ttotal: 1.14s\tremaining: 2.93s\n",
      "280:\tlearn: 0.2205294\ttotal: 1.14s\tremaining: 2.93s\n",
      "281:\tlearn: 0.2202385\ttotal: 1.15s\tremaining: 2.92s\n",
      "282:\tlearn: 0.2201131\ttotal: 1.15s\tremaining: 2.91s\n",
      "283:\tlearn: 0.2198416\ttotal: 1.15s\tremaining: 2.9s\n",
      "284:\tlearn: 0.2195504\ttotal: 1.16s\tremaining: 2.9s\n",
      "285:\tlearn: 0.2194637\ttotal: 1.16s\tremaining: 2.89s\n",
      "286:\tlearn: 0.2193424\ttotal: 1.16s\tremaining: 2.88s\n",
      "287:\tlearn: 0.2191500\ttotal: 1.16s\tremaining: 2.88s\n",
      "288:\tlearn: 0.2190594\ttotal: 1.17s\tremaining: 2.87s\n",
      "289:\tlearn: 0.2188145\ttotal: 1.17s\tremaining: 2.87s\n",
      "290:\tlearn: 0.2187580\ttotal: 1.17s\tremaining: 2.86s\n",
      "291:\tlearn: 0.2185062\ttotal: 1.18s\tremaining: 2.85s\n",
      "292:\tlearn: 0.2184208\ttotal: 1.18s\tremaining: 2.85s\n",
      "293:\tlearn: 0.2181641\ttotal: 1.18s\tremaining: 2.84s\n",
      "294:\tlearn: 0.2181100\ttotal: 1.19s\tremaining: 2.83s\n",
      "295:\tlearn: 0.2179536\ttotal: 1.19s\tremaining: 2.83s\n",
      "296:\tlearn: 0.2178677\ttotal: 1.19s\tremaining: 2.83s\n",
      "297:\tlearn: 0.2176474\ttotal: 1.2s\tremaining: 2.82s\n",
      "298:\tlearn: 0.2175331\ttotal: 1.2s\tremaining: 2.82s\n",
      "299:\tlearn: 0.2174510\ttotal: 1.21s\tremaining: 2.81s\n",
      "300:\tlearn: 0.2172795\ttotal: 1.21s\tremaining: 2.81s\n",
      "301:\tlearn: 0.2170291\ttotal: 1.21s\tremaining: 2.8s\n",
      "302:\tlearn: 0.2168582\ttotal: 1.22s\tremaining: 2.8s\n",
      "303:\tlearn: 0.2165597\ttotal: 1.22s\tremaining: 2.79s\n",
      "304:\tlearn: 0.2163385\ttotal: 1.22s\tremaining: 2.78s\n",
      "305:\tlearn: 0.2161196\ttotal: 1.23s\tremaining: 2.78s\n",
      "306:\tlearn: 0.2158895\ttotal: 1.23s\tremaining: 2.78s\n",
      "307:\tlearn: 0.2156226\ttotal: 1.23s\tremaining: 2.77s\n",
      "308:\tlearn: 0.2155200\ttotal: 1.24s\tremaining: 2.77s\n",
      "309:\tlearn: 0.2152809\ttotal: 1.24s\tremaining: 2.77s\n",
      "310:\tlearn: 0.2151258\ttotal: 1.25s\tremaining: 2.76s\n",
      "311:\tlearn: 0.2149267\ttotal: 1.25s\tremaining: 2.75s\n",
      "312:\tlearn: 0.2146509\ttotal: 1.25s\tremaining: 2.75s\n",
      "313:\tlearn: 0.2145378\ttotal: 1.26s\tremaining: 2.75s\n",
      "314:\tlearn: 0.2143226\ttotal: 1.26s\tremaining: 2.74s\n",
      "315:\tlearn: 0.2141560\ttotal: 1.26s\tremaining: 2.74s\n",
      "316:\tlearn: 0.2140904\ttotal: 1.27s\tremaining: 2.74s\n",
      "317:\tlearn: 0.2139176\ttotal: 1.27s\tremaining: 2.73s\n",
      "318:\tlearn: 0.2138672\ttotal: 1.28s\tremaining: 2.73s\n",
      "319:\tlearn: 0.2136655\ttotal: 1.28s\tremaining: 2.72s\n",
      "320:\tlearn: 0.2134138\ttotal: 1.28s\tremaining: 2.72s\n",
      "321:\tlearn: 0.2132543\ttotal: 1.29s\tremaining: 2.71s\n",
      "322:\tlearn: 0.2131573\ttotal: 1.29s\tremaining: 2.71s\n",
      "323:\tlearn: 0.2128768\ttotal: 1.29s\tremaining: 2.7s\n",
      "324:\tlearn: 0.2125676\ttotal: 1.3s\tremaining: 2.7s\n",
      "325:\tlearn: 0.2122988\ttotal: 1.3s\tremaining: 2.69s\n",
      "326:\tlearn: 0.2119896\ttotal: 1.3s\tremaining: 2.69s\n",
      "327:\tlearn: 0.2118219\ttotal: 1.31s\tremaining: 2.68s\n",
      "328:\tlearn: 0.2115599\ttotal: 1.31s\tremaining: 2.68s\n",
      "329:\tlearn: 0.2113756\ttotal: 1.32s\tremaining: 2.67s\n",
      "330:\tlearn: 0.2112641\ttotal: 1.32s\tremaining: 2.67s\n",
      "331:\tlearn: 0.2110761\ttotal: 1.32s\tremaining: 2.66s\n",
      "332:\tlearn: 0.2109211\ttotal: 1.32s\tremaining: 2.65s\n",
      "333:\tlearn: 0.2107682\ttotal: 1.33s\tremaining: 2.65s\n",
      "334:\tlearn: 0.2106207\ttotal: 1.33s\tremaining: 2.64s\n",
      "335:\tlearn: 0.2104685\ttotal: 1.33s\tremaining: 2.63s\n",
      "336:\tlearn: 0.2103292\ttotal: 1.33s\tremaining: 2.63s\n"
     ]
    },
    {
     "name": "stdout",
     "output_type": "stream",
     "text": [
      "337:\tlearn: 0.2101856\ttotal: 1.34s\tremaining: 2.62s\n",
      "338:\tlearn: 0.2099552\ttotal: 1.34s\tremaining: 2.62s\n",
      "339:\tlearn: 0.2097753\ttotal: 1.35s\tremaining: 2.61s\n",
      "340:\tlearn: 0.2096922\ttotal: 1.35s\tremaining: 2.61s\n",
      "341:\tlearn: 0.2095278\ttotal: 1.35s\tremaining: 2.6s\n",
      "342:\tlearn: 0.2092701\ttotal: 1.36s\tremaining: 2.6s\n",
      "343:\tlearn: 0.2091464\ttotal: 1.36s\tremaining: 2.59s\n",
      "344:\tlearn: 0.2088808\ttotal: 1.36s\tremaining: 2.59s\n",
      "345:\tlearn: 0.2087008\ttotal: 1.37s\tremaining: 2.59s\n",
      "346:\tlearn: 0.2084437\ttotal: 1.37s\tremaining: 2.58s\n",
      "347:\tlearn: 0.2082896\ttotal: 1.38s\tremaining: 2.58s\n",
      "348:\tlearn: 0.2081585\ttotal: 1.38s\tremaining: 2.57s\n",
      "349:\tlearn: 0.2079992\ttotal: 1.38s\tremaining: 2.57s\n",
      "350:\tlearn: 0.2078544\ttotal: 1.39s\tremaining: 2.56s\n",
      "351:\tlearn: 0.2077090\ttotal: 1.39s\tremaining: 2.56s\n",
      "352:\tlearn: 0.2075747\ttotal: 1.39s\tremaining: 2.55s\n",
      "353:\tlearn: 0.2073653\ttotal: 1.4s\tremaining: 2.55s\n",
      "354:\tlearn: 0.2071324\ttotal: 1.4s\tremaining: 2.55s\n",
      "355:\tlearn: 0.2069471\ttotal: 1.41s\tremaining: 2.54s\n",
      "356:\tlearn: 0.2067848\ttotal: 1.41s\tremaining: 2.54s\n",
      "357:\tlearn: 0.2065080\ttotal: 1.41s\tremaining: 2.53s\n",
      "358:\tlearn: 0.2062977\ttotal: 1.42s\tremaining: 2.53s\n",
      "359:\tlearn: 0.2060380\ttotal: 1.42s\tremaining: 2.52s\n",
      "360:\tlearn: 0.2058502\ttotal: 1.42s\tremaining: 2.52s\n",
      "361:\tlearn: 0.2057924\ttotal: 1.43s\tremaining: 2.52s\n",
      "362:\tlearn: 0.2055364\ttotal: 1.43s\tremaining: 2.51s\n",
      "363:\tlearn: 0.2053893\ttotal: 1.43s\tremaining: 2.5s\n",
      "364:\tlearn: 0.2052406\ttotal: 1.44s\tremaining: 2.5s\n",
      "365:\tlearn: 0.2050675\ttotal: 1.44s\tremaining: 2.5s\n",
      "366:\tlearn: 0.2048211\ttotal: 1.45s\tremaining: 2.49s\n",
      "367:\tlearn: 0.2046804\ttotal: 1.45s\tremaining: 2.49s\n",
      "368:\tlearn: 0.2046270\ttotal: 1.45s\tremaining: 2.48s\n",
      "369:\tlearn: 0.2044164\ttotal: 1.46s\tremaining: 2.48s\n",
      "370:\tlearn: 0.2042788\ttotal: 1.46s\tremaining: 2.47s\n",
      "371:\tlearn: 0.2041485\ttotal: 1.46s\tremaining: 2.47s\n",
      "372:\tlearn: 0.2039108\ttotal: 1.47s\tremaining: 2.47s\n",
      "373:\tlearn: 0.2036936\ttotal: 1.47s\tremaining: 2.46s\n",
      "374:\tlearn: 0.2035064\ttotal: 1.47s\tremaining: 2.46s\n",
      "375:\tlearn: 0.2033420\ttotal: 1.48s\tremaining: 2.45s\n",
      "376:\tlearn: 0.2031887\ttotal: 1.48s\tremaining: 2.45s\n",
      "377:\tlearn: 0.2030506\ttotal: 1.48s\tremaining: 2.44s\n",
      "378:\tlearn: 0.2028750\ttotal: 1.49s\tremaining: 2.44s\n",
      "379:\tlearn: 0.2025657\ttotal: 1.49s\tremaining: 2.43s\n",
      "380:\tlearn: 0.2023935\ttotal: 1.5s\tremaining: 2.43s\n",
      "381:\tlearn: 0.2022127\ttotal: 1.5s\tremaining: 2.42s\n",
      "382:\tlearn: 0.2020030\ttotal: 1.5s\tremaining: 2.42s\n",
      "383:\tlearn: 0.2017629\ttotal: 1.5s\tremaining: 2.42s\n",
      "384:\tlearn: 0.2016106\ttotal: 1.51s\tremaining: 2.41s\n",
      "385:\tlearn: 0.2013063\ttotal: 1.51s\tremaining: 2.41s\n",
      "386:\tlearn: 0.2011988\ttotal: 1.52s\tremaining: 2.4s\n",
      "387:\tlearn: 0.2010195\ttotal: 1.52s\tremaining: 2.4s\n",
      "388:\tlearn: 0.2009143\ttotal: 1.52s\tremaining: 2.39s\n",
      "389:\tlearn: 0.2007603\ttotal: 1.53s\tremaining: 2.39s\n",
      "390:\tlearn: 0.2006869\ttotal: 1.53s\tremaining: 2.38s\n",
      "391:\tlearn: 0.2005925\ttotal: 1.53s\tremaining: 2.38s\n",
      "392:\tlearn: 0.2004268\ttotal: 1.54s\tremaining: 2.38s\n",
      "393:\tlearn: 0.2003071\ttotal: 1.54s\tremaining: 2.37s\n",
      "394:\tlearn: 0.2000779\ttotal: 1.54s\tremaining: 2.37s\n",
      "395:\tlearn: 0.1999800\ttotal: 1.55s\tremaining: 2.36s\n",
      "396:\tlearn: 0.1998748\ttotal: 1.55s\tremaining: 2.36s\n",
      "397:\tlearn: 0.1998036\ttotal: 1.56s\tremaining: 2.35s\n",
      "398:\tlearn: 0.1997417\ttotal: 1.56s\tremaining: 2.35s\n",
      "399:\tlearn: 0.1996198\ttotal: 1.56s\tremaining: 2.34s\n",
      "400:\tlearn: 0.1994254\ttotal: 1.57s\tremaining: 2.34s\n",
      "401:\tlearn: 0.1992305\ttotal: 1.57s\tremaining: 2.34s\n",
      "402:\tlearn: 0.1991161\ttotal: 1.57s\tremaining: 2.33s\n",
      "403:\tlearn: 0.1989545\ttotal: 1.58s\tremaining: 2.33s\n",
      "404:\tlearn: 0.1988123\ttotal: 1.58s\tremaining: 2.32s\n",
      "405:\tlearn: 0.1986159\ttotal: 1.58s\tremaining: 2.32s\n",
      "406:\tlearn: 0.1984522\ttotal: 1.59s\tremaining: 2.31s\n",
      "407:\tlearn: 0.1982723\ttotal: 1.59s\tremaining: 2.31s\n",
      "408:\tlearn: 0.1981380\ttotal: 1.6s\tremaining: 2.31s\n",
      "409:\tlearn: 0.1980500\ttotal: 1.6s\tremaining: 2.3s\n",
      "410:\tlearn: 0.1978343\ttotal: 1.6s\tremaining: 2.3s\n",
      "411:\tlearn: 0.1977620\ttotal: 1.61s\tremaining: 2.3s\n",
      "412:\tlearn: 0.1975907\ttotal: 1.61s\tremaining: 2.29s\n",
      "413:\tlearn: 0.1974036\ttotal: 1.62s\tremaining: 2.29s\n",
      "414:\tlearn: 0.1972503\ttotal: 1.62s\tremaining: 2.28s\n",
      "415:\tlearn: 0.1971104\ttotal: 1.62s\tremaining: 2.28s\n",
      "416:\tlearn: 0.1969358\ttotal: 1.63s\tremaining: 2.27s\n",
      "417:\tlearn: 0.1968119\ttotal: 1.63s\tremaining: 2.27s\n",
      "418:\tlearn: 0.1967260\ttotal: 1.63s\tremaining: 2.27s\n",
      "419:\tlearn: 0.1966765\ttotal: 1.64s\tremaining: 2.26s\n",
      "420:\tlearn: 0.1965297\ttotal: 1.64s\tremaining: 2.25s\n",
      "421:\tlearn: 0.1963999\ttotal: 1.64s\tremaining: 2.25s\n",
      "422:\tlearn: 0.1963572\ttotal: 1.65s\tremaining: 2.25s\n",
      "423:\tlearn: 0.1962478\ttotal: 1.65s\tremaining: 2.24s\n",
      "424:\tlearn: 0.1961446\ttotal: 1.65s\tremaining: 2.24s\n",
      "425:\tlearn: 0.1959295\ttotal: 1.66s\tremaining: 2.23s\n",
      "426:\tlearn: 0.1958234\ttotal: 1.66s\tremaining: 2.23s\n",
      "427:\tlearn: 0.1956486\ttotal: 1.66s\tremaining: 2.22s\n",
      "428:\tlearn: 0.1955196\ttotal: 1.67s\tremaining: 2.22s\n",
      "429:\tlearn: 0.1954075\ttotal: 1.67s\tremaining: 2.21s\n",
      "430:\tlearn: 0.1953189\ttotal: 1.67s\tremaining: 2.21s\n",
      "431:\tlearn: 0.1951141\ttotal: 1.67s\tremaining: 2.2s\n",
      "432:\tlearn: 0.1950167\ttotal: 1.68s\tremaining: 2.2s\n",
      "433:\tlearn: 0.1949229\ttotal: 1.68s\tremaining: 2.19s\n",
      "434:\tlearn: 0.1948777\ttotal: 1.68s\tremaining: 2.19s\n",
      "435:\tlearn: 0.1947234\ttotal: 1.69s\tremaining: 2.18s\n",
      "436:\tlearn: 0.1945426\ttotal: 1.69s\tremaining: 2.18s\n",
      "437:\tlearn: 0.1943430\ttotal: 1.69s\tremaining: 2.17s\n",
      "438:\tlearn: 0.1941990\ttotal: 1.7s\tremaining: 2.17s\n",
      "439:\tlearn: 0.1941008\ttotal: 1.7s\tremaining: 2.16s\n",
      "440:\tlearn: 0.1939452\ttotal: 1.7s\tremaining: 2.16s\n",
      "441:\tlearn: 0.1937136\ttotal: 1.71s\tremaining: 2.16s\n",
      "442:\tlearn: 0.1935316\ttotal: 1.71s\tremaining: 2.15s\n",
      "443:\tlearn: 0.1934601\ttotal: 1.71s\tremaining: 2.15s\n",
      "444:\tlearn: 0.1933151\ttotal: 1.72s\tremaining: 2.14s\n",
      "445:\tlearn: 0.1931818\ttotal: 1.72s\tremaining: 2.14s\n",
      "446:\tlearn: 0.1929611\ttotal: 1.73s\tremaining: 2.13s\n",
      "447:\tlearn: 0.1927999\ttotal: 1.73s\tremaining: 2.13s\n",
      "448:\tlearn: 0.1926551\ttotal: 1.73s\tremaining: 2.12s\n",
      "449:\tlearn: 0.1925110\ttotal: 1.74s\tremaining: 2.12s\n",
      "450:\tlearn: 0.1923981\ttotal: 1.74s\tremaining: 2.12s\n",
      "451:\tlearn: 0.1921952\ttotal: 1.74s\tremaining: 2.11s\n",
      "452:\tlearn: 0.1920636\ttotal: 1.75s\tremaining: 2.11s\n",
      "453:\tlearn: 0.1920011\ttotal: 1.75s\tremaining: 2.11s\n",
      "454:\tlearn: 0.1918900\ttotal: 1.75s\tremaining: 2.1s\n",
      "455:\tlearn: 0.1917592\ttotal: 1.76s\tremaining: 2.1s\n",
      "456:\tlearn: 0.1915981\ttotal: 1.76s\tremaining: 2.09s\n",
      "457:\tlearn: 0.1913976\ttotal: 1.77s\tremaining: 2.09s\n",
      "458:\tlearn: 0.1912615\ttotal: 1.77s\tremaining: 2.09s\n",
      "459:\tlearn: 0.1911020\ttotal: 1.77s\tremaining: 2.08s\n",
      "460:\tlearn: 0.1909624\ttotal: 1.78s\tremaining: 2.08s\n",
      "461:\tlearn: 0.1908291\ttotal: 1.78s\tremaining: 2.08s\n",
      "462:\tlearn: 0.1906381\ttotal: 1.79s\tremaining: 2.07s\n",
      "463:\tlearn: 0.1904446\ttotal: 1.79s\tremaining: 2.07s\n",
      "464:\tlearn: 0.1903302\ttotal: 1.79s\tremaining: 2.06s\n",
      "465:\tlearn: 0.1901711\ttotal: 1.8s\tremaining: 2.06s\n",
      "466:\tlearn: 0.1900586\ttotal: 1.8s\tremaining: 2.06s\n",
      "467:\tlearn: 0.1899573\ttotal: 1.8s\tremaining: 2.05s\n",
      "468:\tlearn: 0.1898349\ttotal: 1.81s\tremaining: 2.05s\n",
      "469:\tlearn: 0.1897530\ttotal: 1.81s\tremaining: 2.04s\n",
      "470:\tlearn: 0.1895709\ttotal: 1.82s\tremaining: 2.04s\n",
      "471:\tlearn: 0.1894549\ttotal: 1.82s\tremaining: 2.04s\n",
      "472:\tlearn: 0.1893908\ttotal: 1.82s\tremaining: 2.03s\n",
      "473:\tlearn: 0.1892355\ttotal: 1.83s\tremaining: 2.03s\n",
      "474:\tlearn: 0.1890332\ttotal: 1.83s\tremaining: 2.02s\n",
      "475:\tlearn: 0.1888711\ttotal: 1.83s\tremaining: 2.02s\n",
      "476:\tlearn: 0.1887123\ttotal: 1.83s\tremaining: 2.01s\n",
      "477:\tlearn: 0.1886476\ttotal: 1.84s\tremaining: 2.01s\n",
      "478:\tlearn: 0.1885865\ttotal: 1.84s\tremaining: 2s\n",
      "479:\tlearn: 0.1885425\ttotal: 1.84s\tremaining: 2s\n",
      "480:\tlearn: 0.1885100\ttotal: 1.85s\tremaining: 1.99s\n",
      "481:\tlearn: 0.1883465\ttotal: 1.85s\tremaining: 1.99s\n",
      "482:\tlearn: 0.1882644\ttotal: 1.85s\tremaining: 1.98s\n",
      "483:\tlearn: 0.1880185\ttotal: 1.86s\tremaining: 1.98s\n",
      "484:\tlearn: 0.1879091\ttotal: 1.86s\tremaining: 1.97s\n",
      "485:\tlearn: 0.1878140\ttotal: 1.86s\tremaining: 1.97s\n",
      "486:\tlearn: 0.1877201\ttotal: 1.87s\tremaining: 1.97s\n",
      "487:\tlearn: 0.1875803\ttotal: 1.87s\tremaining: 1.96s\n",
      "488:\tlearn: 0.1874181\ttotal: 1.87s\tremaining: 1.96s\n",
      "489:\tlearn: 0.1872905\ttotal: 1.88s\tremaining: 1.95s\n",
      "490:\tlearn: 0.1871767\ttotal: 1.88s\tremaining: 1.95s\n",
      "491:\tlearn: 0.1870514\ttotal: 1.88s\tremaining: 1.95s\n",
      "492:\tlearn: 0.1868968\ttotal: 1.89s\tremaining: 1.94s\n",
      "493:\tlearn: 0.1868268\ttotal: 1.89s\tremaining: 1.94s\n",
      "494:\tlearn: 0.1867620\ttotal: 1.9s\tremaining: 1.93s\n",
      "495:\tlearn: 0.1865569\ttotal: 1.9s\tremaining: 1.93s\n",
      "496:\tlearn: 0.1864258\ttotal: 1.9s\tremaining: 1.93s\n"
     ]
    },
    {
     "name": "stdout",
     "output_type": "stream",
     "text": [
      "497:\tlearn: 0.1863369\ttotal: 1.91s\tremaining: 1.92s\n",
      "498:\tlearn: 0.1862132\ttotal: 1.91s\tremaining: 1.92s\n",
      "499:\tlearn: 0.1860613\ttotal: 1.91s\tremaining: 1.91s\n",
      "500:\tlearn: 0.1859309\ttotal: 1.92s\tremaining: 1.91s\n",
      "501:\tlearn: 0.1857807\ttotal: 1.92s\tremaining: 1.91s\n",
      "502:\tlearn: 0.1856514\ttotal: 1.93s\tremaining: 1.9s\n",
      "503:\tlearn: 0.1854120\ttotal: 1.93s\tremaining: 1.9s\n",
      "504:\tlearn: 0.1852939\ttotal: 1.93s\tremaining: 1.89s\n",
      "505:\tlearn: 0.1851949\ttotal: 1.94s\tremaining: 1.89s\n",
      "506:\tlearn: 0.1851155\ttotal: 1.94s\tremaining: 1.89s\n",
      "507:\tlearn: 0.1850155\ttotal: 1.95s\tremaining: 1.88s\n",
      "508:\tlearn: 0.1848719\ttotal: 1.95s\tremaining: 1.88s\n",
      "509:\tlearn: 0.1847425\ttotal: 1.95s\tremaining: 1.88s\n",
      "510:\tlearn: 0.1846439\ttotal: 1.96s\tremaining: 1.87s\n",
      "511:\tlearn: 0.1845075\ttotal: 1.96s\tremaining: 1.87s\n",
      "512:\tlearn: 0.1843952\ttotal: 1.97s\tremaining: 1.87s\n",
      "513:\tlearn: 0.1843427\ttotal: 1.97s\tremaining: 1.86s\n",
      "514:\tlearn: 0.1842866\ttotal: 1.97s\tremaining: 1.86s\n",
      "515:\tlearn: 0.1841833\ttotal: 1.98s\tremaining: 1.85s\n",
      "516:\tlearn: 0.1840914\ttotal: 1.98s\tremaining: 1.85s\n",
      "517:\tlearn: 0.1839649\ttotal: 1.98s\tremaining: 1.84s\n",
      "518:\tlearn: 0.1838986\ttotal: 1.99s\tremaining: 1.84s\n",
      "519:\tlearn: 0.1838703\ttotal: 1.99s\tremaining: 1.84s\n",
      "520:\tlearn: 0.1837283\ttotal: 1.99s\tremaining: 1.83s\n",
      "521:\tlearn: 0.1836745\ttotal: 2s\tremaining: 1.83s\n",
      "522:\tlearn: 0.1835565\ttotal: 2s\tremaining: 1.82s\n",
      "523:\tlearn: 0.1834332\ttotal: 2s\tremaining: 1.82s\n",
      "524:\tlearn: 0.1834056\ttotal: 2.01s\tremaining: 1.82s\n",
      "525:\tlearn: 0.1832875\ttotal: 2.01s\tremaining: 1.81s\n",
      "526:\tlearn: 0.1831691\ttotal: 2.01s\tremaining: 1.81s\n",
      "527:\tlearn: 0.1831164\ttotal: 2.02s\tremaining: 1.8s\n",
      "528:\tlearn: 0.1830142\ttotal: 2.02s\tremaining: 1.8s\n",
      "529:\tlearn: 0.1828347\ttotal: 2.03s\tremaining: 1.8s\n",
      "530:\tlearn: 0.1827126\ttotal: 2.03s\tremaining: 1.79s\n",
      "531:\tlearn: 0.1825856\ttotal: 2.03s\tremaining: 1.79s\n",
      "532:\tlearn: 0.1824809\ttotal: 2.03s\tremaining: 1.78s\n",
      "533:\tlearn: 0.1823202\ttotal: 2.04s\tremaining: 1.78s\n",
      "534:\tlearn: 0.1822611\ttotal: 2.04s\tremaining: 1.77s\n",
      "535:\tlearn: 0.1822009\ttotal: 2.04s\tremaining: 1.77s\n",
      "536:\tlearn: 0.1820712\ttotal: 2.05s\tremaining: 1.77s\n",
      "537:\tlearn: 0.1819986\ttotal: 2.05s\tremaining: 1.76s\n",
      "538:\tlearn: 0.1819252\ttotal: 2.06s\tremaining: 1.76s\n",
      "539:\tlearn: 0.1818337\ttotal: 2.06s\tremaining: 1.75s\n",
      "540:\tlearn: 0.1817288\ttotal: 2.06s\tremaining: 1.75s\n",
      "541:\tlearn: 0.1815498\ttotal: 2.07s\tremaining: 1.75s\n",
      "542:\tlearn: 0.1815014\ttotal: 2.07s\tremaining: 1.74s\n",
      "543:\tlearn: 0.1814734\ttotal: 2.08s\tremaining: 1.74s\n",
      "544:\tlearn: 0.1814090\ttotal: 2.08s\tremaining: 1.74s\n",
      "545:\tlearn: 0.1813240\ttotal: 2.08s\tremaining: 1.73s\n",
      "546:\tlearn: 0.1812268\ttotal: 2.08s\tremaining: 1.73s\n",
      "547:\tlearn: 0.1811548\ttotal: 2.09s\tremaining: 1.72s\n",
      "548:\tlearn: 0.1810353\ttotal: 2.09s\tremaining: 1.72s\n",
      "549:\tlearn: 0.1809663\ttotal: 2.1s\tremaining: 1.72s\n",
      "550:\tlearn: 0.1808865\ttotal: 2.1s\tremaining: 1.71s\n",
      "551:\tlearn: 0.1807280\ttotal: 2.1s\tremaining: 1.71s\n",
      "552:\tlearn: 0.1807041\ttotal: 2.11s\tremaining: 1.7s\n",
      "553:\tlearn: 0.1806726\ttotal: 2.11s\tremaining: 1.7s\n",
      "554:\tlearn: 0.1805526\ttotal: 2.12s\tremaining: 1.7s\n",
      "555:\tlearn: 0.1803958\ttotal: 2.12s\tremaining: 1.69s\n",
      "556:\tlearn: 0.1803788\ttotal: 2.12s\tremaining: 1.69s\n",
      "557:\tlearn: 0.1803312\ttotal: 2.13s\tremaining: 1.68s\n",
      "558:\tlearn: 0.1802108\ttotal: 2.13s\tremaining: 1.68s\n",
      "559:\tlearn: 0.1800560\ttotal: 2.13s\tremaining: 1.68s\n",
      "560:\tlearn: 0.1799436\ttotal: 2.14s\tremaining: 1.67s\n",
      "561:\tlearn: 0.1798603\ttotal: 2.14s\tremaining: 1.67s\n",
      "562:\tlearn: 0.1797445\ttotal: 2.14s\tremaining: 1.66s\n",
      "563:\tlearn: 0.1796899\ttotal: 2.15s\tremaining: 1.66s\n",
      "564:\tlearn: 0.1796258\ttotal: 2.15s\tremaining: 1.66s\n",
      "565:\tlearn: 0.1795354\ttotal: 2.15s\tremaining: 1.65s\n",
      "566:\tlearn: 0.1794225\ttotal: 2.16s\tremaining: 1.65s\n",
      "567:\tlearn: 0.1792745\ttotal: 2.16s\tremaining: 1.64s\n",
      "568:\tlearn: 0.1791604\ttotal: 2.16s\tremaining: 1.64s\n",
      "569:\tlearn: 0.1791018\ttotal: 2.17s\tremaining: 1.63s\n",
      "570:\tlearn: 0.1790908\ttotal: 2.17s\tremaining: 1.63s\n",
      "571:\tlearn: 0.1789363\ttotal: 2.17s\tremaining: 1.63s\n",
      "572:\tlearn: 0.1788482\ttotal: 2.17s\tremaining: 1.62s\n",
      "573:\tlearn: 0.1787710\ttotal: 2.18s\tremaining: 1.62s\n",
      "574:\tlearn: 0.1786246\ttotal: 2.18s\tremaining: 1.61s\n",
      "575:\tlearn: 0.1784364\ttotal: 2.18s\tremaining: 1.61s\n",
      "576:\tlearn: 0.1783776\ttotal: 2.19s\tremaining: 1.6s\n",
      "577:\tlearn: 0.1782317\ttotal: 2.19s\tremaining: 1.6s\n",
      "578:\tlearn: 0.1782223\ttotal: 2.19s\tremaining: 1.6s\n",
      "579:\tlearn: 0.1781476\ttotal: 2.2s\tremaining: 1.59s\n",
      "580:\tlearn: 0.1780824\ttotal: 2.2s\tremaining: 1.59s\n",
      "581:\tlearn: 0.1778867\ttotal: 2.21s\tremaining: 1.58s\n",
      "582:\tlearn: 0.1777838\ttotal: 2.21s\tremaining: 1.58s\n",
      "583:\tlearn: 0.1777223\ttotal: 2.21s\tremaining: 1.57s\n",
      "584:\tlearn: 0.1776413\ttotal: 2.21s\tremaining: 1.57s\n",
      "585:\tlearn: 0.1775525\ttotal: 2.22s\tremaining: 1.57s\n",
      "586:\tlearn: 0.1774678\ttotal: 2.23s\tremaining: 1.56s\n",
      "587:\tlearn: 0.1773634\ttotal: 2.23s\tremaining: 1.56s\n",
      "588:\tlearn: 0.1772409\ttotal: 2.23s\tremaining: 1.56s\n",
      "589:\tlearn: 0.1770594\ttotal: 2.23s\tremaining: 1.55s\n",
      "590:\tlearn: 0.1769298\ttotal: 2.24s\tremaining: 1.55s\n",
      "591:\tlearn: 0.1769041\ttotal: 2.24s\tremaining: 1.54s\n",
      "592:\tlearn: 0.1767766\ttotal: 2.24s\tremaining: 1.54s\n",
      "593:\tlearn: 0.1767135\ttotal: 2.25s\tremaining: 1.54s\n",
      "594:\tlearn: 0.1765664\ttotal: 2.25s\tremaining: 1.53s\n",
      "595:\tlearn: 0.1765098\ttotal: 2.25s\tremaining: 1.53s\n",
      "596:\tlearn: 0.1764230\ttotal: 2.26s\tremaining: 1.52s\n",
      "597:\tlearn: 0.1762825\ttotal: 2.26s\tremaining: 1.52s\n",
      "598:\tlearn: 0.1761554\ttotal: 2.27s\tremaining: 1.52s\n",
      "599:\tlearn: 0.1759901\ttotal: 2.27s\tremaining: 1.51s\n",
      "600:\tlearn: 0.1758942\ttotal: 2.28s\tremaining: 1.51s\n",
      "601:\tlearn: 0.1757733\ttotal: 2.28s\tremaining: 1.51s\n",
      "602:\tlearn: 0.1757236\ttotal: 2.28s\tremaining: 1.5s\n",
      "603:\tlearn: 0.1756234\ttotal: 2.29s\tremaining: 1.5s\n",
      "604:\tlearn: 0.1754977\ttotal: 2.29s\tremaining: 1.5s\n",
      "605:\tlearn: 0.1754310\ttotal: 2.29s\tremaining: 1.49s\n",
      "606:\tlearn: 0.1752708\ttotal: 2.3s\tremaining: 1.49s\n",
      "607:\tlearn: 0.1751602\ttotal: 2.3s\tremaining: 1.48s\n",
      "608:\tlearn: 0.1750526\ttotal: 2.31s\tremaining: 1.48s\n",
      "609:\tlearn: 0.1749446\ttotal: 2.32s\tremaining: 1.49s\n",
      "610:\tlearn: 0.1748973\ttotal: 2.33s\tremaining: 1.48s\n",
      "611:\tlearn: 0.1748362\ttotal: 2.34s\tremaining: 1.48s\n",
      "612:\tlearn: 0.1747421\ttotal: 2.35s\tremaining: 1.48s\n",
      "613:\tlearn: 0.1747179\ttotal: 2.35s\tremaining: 1.48s\n",
      "614:\tlearn: 0.1746491\ttotal: 2.36s\tremaining: 1.48s\n",
      "615:\tlearn: 0.1745157\ttotal: 2.38s\tremaining: 1.48s\n",
      "616:\tlearn: 0.1744540\ttotal: 2.38s\tremaining: 1.48s\n",
      "617:\tlearn: 0.1743814\ttotal: 2.39s\tremaining: 1.48s\n",
      "618:\tlearn: 0.1743210\ttotal: 2.4s\tremaining: 1.48s\n",
      "619:\tlearn: 0.1742098\ttotal: 2.41s\tremaining: 1.48s\n",
      "620:\tlearn: 0.1741346\ttotal: 2.42s\tremaining: 1.48s\n",
      "621:\tlearn: 0.1741144\ttotal: 2.43s\tremaining: 1.47s\n",
      "622:\tlearn: 0.1739624\ttotal: 2.44s\tremaining: 1.47s\n",
      "623:\tlearn: 0.1738546\ttotal: 2.44s\tremaining: 1.47s\n",
      "624:\tlearn: 0.1738350\ttotal: 2.45s\tremaining: 1.47s\n",
      "625:\tlearn: 0.1737587\ttotal: 2.46s\tremaining: 1.47s\n",
      "626:\tlearn: 0.1737343\ttotal: 2.47s\tremaining: 1.47s\n",
      "627:\tlearn: 0.1736270\ttotal: 2.48s\tremaining: 1.47s\n",
      "628:\tlearn: 0.1735522\ttotal: 2.49s\tremaining: 1.47s\n",
      "629:\tlearn: 0.1734862\ttotal: 2.5s\tremaining: 1.47s\n",
      "630:\tlearn: 0.1733572\ttotal: 2.5s\tremaining: 1.46s\n",
      "631:\tlearn: 0.1733036\ttotal: 2.51s\tremaining: 1.46s\n",
      "632:\tlearn: 0.1732109\ttotal: 2.52s\tremaining: 1.46s\n",
      "633:\tlearn: 0.1731090\ttotal: 2.53s\tremaining: 1.46s\n",
      "634:\tlearn: 0.1730086\ttotal: 2.53s\tremaining: 1.46s\n",
      "635:\tlearn: 0.1729370\ttotal: 2.54s\tremaining: 1.46s\n",
      "636:\tlearn: 0.1728674\ttotal: 2.55s\tremaining: 1.45s\n",
      "637:\tlearn: 0.1727656\ttotal: 2.56s\tremaining: 1.45s\n",
      "638:\tlearn: 0.1727361\ttotal: 2.57s\tremaining: 1.45s\n",
      "639:\tlearn: 0.1726324\ttotal: 2.57s\tremaining: 1.45s\n",
      "640:\tlearn: 0.1724887\ttotal: 2.58s\tremaining: 1.45s\n",
      "641:\tlearn: 0.1724056\ttotal: 2.59s\tremaining: 1.45s\n",
      "642:\tlearn: 0.1723376\ttotal: 2.6s\tremaining: 1.45s\n",
      "643:\tlearn: 0.1722666\ttotal: 2.62s\tremaining: 1.45s\n",
      "644:\tlearn: 0.1721336\ttotal: 2.63s\tremaining: 1.44s\n",
      "645:\tlearn: 0.1720388\ttotal: 2.63s\tremaining: 1.44s\n",
      "646:\tlearn: 0.1719965\ttotal: 2.64s\tremaining: 1.44s\n",
      "647:\tlearn: 0.1718956\ttotal: 2.65s\tremaining: 1.44s\n",
      "648:\tlearn: 0.1717092\ttotal: 2.66s\tremaining: 1.44s\n",
      "649:\tlearn: 0.1716715\ttotal: 2.67s\tremaining: 1.44s\n",
      "650:\tlearn: 0.1715780\ttotal: 2.67s\tremaining: 1.43s\n",
      "651:\tlearn: 0.1714809\ttotal: 2.68s\tremaining: 1.43s\n",
      "652:\tlearn: 0.1713257\ttotal: 2.69s\tremaining: 1.43s\n",
      "653:\tlearn: 0.1712681\ttotal: 2.7s\tremaining: 1.43s\n",
      "654:\tlearn: 0.1711916\ttotal: 2.71s\tremaining: 1.43s\n",
      "655:\tlearn: 0.1711219\ttotal: 2.72s\tremaining: 1.43s\n",
      "656:\tlearn: 0.1709398\ttotal: 2.73s\tremaining: 1.42s\n"
     ]
    },
    {
     "name": "stdout",
     "output_type": "stream",
     "text": [
      "657:\tlearn: 0.1708833\ttotal: 2.74s\tremaining: 1.42s\n",
      "658:\tlearn: 0.1707831\ttotal: 2.74s\tremaining: 1.42s\n",
      "659:\tlearn: 0.1707777\ttotal: 2.75s\tremaining: 1.42s\n",
      "660:\tlearn: 0.1707175\ttotal: 2.76s\tremaining: 1.41s\n",
      "661:\tlearn: 0.1706425\ttotal: 2.77s\tremaining: 1.41s\n",
      "662:\tlearn: 0.1705165\ttotal: 2.78s\tremaining: 1.41s\n",
      "663:\tlearn: 0.1704654\ttotal: 2.79s\tremaining: 1.41s\n",
      "664:\tlearn: 0.1703573\ttotal: 2.79s\tremaining: 1.41s\n",
      "665:\tlearn: 0.1702936\ttotal: 2.8s\tremaining: 1.41s\n",
      "666:\tlearn: 0.1702166\ttotal: 2.81s\tremaining: 1.4s\n",
      "667:\tlearn: 0.1701485\ttotal: 2.82s\tremaining: 1.4s\n",
      "668:\tlearn: 0.1700905\ttotal: 2.83s\tremaining: 1.4s\n",
      "669:\tlearn: 0.1699913\ttotal: 2.84s\tremaining: 1.4s\n",
      "670:\tlearn: 0.1699148\ttotal: 2.84s\tremaining: 1.39s\n",
      "671:\tlearn: 0.1698458\ttotal: 2.85s\tremaining: 1.39s\n",
      "672:\tlearn: 0.1698071\ttotal: 2.86s\tremaining: 1.39s\n",
      "673:\tlearn: 0.1697011\ttotal: 2.87s\tremaining: 1.39s\n",
      "674:\tlearn: 0.1696151\ttotal: 2.87s\tremaining: 1.38s\n",
      "675:\tlearn: 0.1695431\ttotal: 2.88s\tremaining: 1.38s\n",
      "676:\tlearn: 0.1694651\ttotal: 2.89s\tremaining: 1.38s\n",
      "677:\tlearn: 0.1694218\ttotal: 2.9s\tremaining: 1.38s\n",
      "678:\tlearn: 0.1692925\ttotal: 2.9s\tremaining: 1.37s\n",
      "679:\tlearn: 0.1692335\ttotal: 2.91s\tremaining: 1.37s\n",
      "680:\tlearn: 0.1692156\ttotal: 2.92s\tremaining: 1.36s\n",
      "681:\tlearn: 0.1691981\ttotal: 2.92s\tremaining: 1.36s\n",
      "682:\tlearn: 0.1691329\ttotal: 2.92s\tremaining: 1.36s\n",
      "683:\tlearn: 0.1690951\ttotal: 2.93s\tremaining: 1.35s\n",
      "684:\tlearn: 0.1689625\ttotal: 2.93s\tremaining: 1.35s\n",
      "685:\tlearn: 0.1688862\ttotal: 2.94s\tremaining: 1.34s\n",
      "686:\tlearn: 0.1687750\ttotal: 2.94s\tremaining: 1.34s\n",
      "687:\tlearn: 0.1686998\ttotal: 2.95s\tremaining: 1.34s\n",
      "688:\tlearn: 0.1686830\ttotal: 2.96s\tremaining: 1.33s\n",
      "689:\tlearn: 0.1686107\ttotal: 2.96s\tremaining: 1.33s\n",
      "690:\tlearn: 0.1684715\ttotal: 2.96s\tremaining: 1.33s\n",
      "691:\tlearn: 0.1684672\ttotal: 2.97s\tremaining: 1.32s\n",
      "692:\tlearn: 0.1683536\ttotal: 2.97s\tremaining: 1.32s\n",
      "693:\tlearn: 0.1682357\ttotal: 2.98s\tremaining: 1.31s\n",
      "694:\tlearn: 0.1681795\ttotal: 2.99s\tremaining: 1.31s\n",
      "695:\tlearn: 0.1680955\ttotal: 2.99s\tremaining: 1.31s\n",
      "696:\tlearn: 0.1680621\ttotal: 2.99s\tremaining: 1.3s\n",
      "697:\tlearn: 0.1679717\ttotal: 3s\tremaining: 1.3s\n",
      "698:\tlearn: 0.1678963\ttotal: 3s\tremaining: 1.29s\n",
      "699:\tlearn: 0.1678486\ttotal: 3.01s\tremaining: 1.29s\n",
      "700:\tlearn: 0.1677413\ttotal: 3.01s\tremaining: 1.28s\n",
      "701:\tlearn: 0.1676697\ttotal: 3.02s\tremaining: 1.28s\n",
      "702:\tlearn: 0.1675830\ttotal: 3.02s\tremaining: 1.28s\n",
      "703:\tlearn: 0.1675333\ttotal: 3.02s\tremaining: 1.27s\n",
      "704:\tlearn: 0.1674132\ttotal: 3.03s\tremaining: 1.27s\n",
      "705:\tlearn: 0.1672795\ttotal: 3.03s\tremaining: 1.26s\n",
      "706:\tlearn: 0.1672193\ttotal: 3.04s\tremaining: 1.26s\n",
      "707:\tlearn: 0.1670965\ttotal: 3.04s\tremaining: 1.25s\n",
      "708:\tlearn: 0.1670006\ttotal: 3.04s\tremaining: 1.25s\n",
      "709:\tlearn: 0.1669516\ttotal: 3.05s\tremaining: 1.25s\n",
      "710:\tlearn: 0.1668407\ttotal: 3.05s\tremaining: 1.24s\n",
      "711:\tlearn: 0.1667710\ttotal: 3.06s\tremaining: 1.24s\n",
      "712:\tlearn: 0.1667209\ttotal: 3.06s\tremaining: 1.23s\n",
      "713:\tlearn: 0.1666237\ttotal: 3.06s\tremaining: 1.23s\n",
      "714:\tlearn: 0.1665029\ttotal: 3.06s\tremaining: 1.22s\n",
      "715:\tlearn: 0.1663877\ttotal: 3.07s\tremaining: 1.22s\n",
      "716:\tlearn: 0.1662910\ttotal: 3.07s\tremaining: 1.21s\n",
      "717:\tlearn: 0.1662400\ttotal: 3.08s\tremaining: 1.21s\n",
      "718:\tlearn: 0.1662240\ttotal: 3.08s\tremaining: 1.2s\n",
      "719:\tlearn: 0.1661827\ttotal: 3.08s\tremaining: 1.2s\n",
      "720:\tlearn: 0.1660907\ttotal: 3.09s\tremaining: 1.2s\n",
      "721:\tlearn: 0.1660784\ttotal: 3.09s\tremaining: 1.19s\n",
      "722:\tlearn: 0.1659560\ttotal: 3.1s\tremaining: 1.19s\n",
      "723:\tlearn: 0.1658918\ttotal: 3.1s\tremaining: 1.18s\n",
      "724:\tlearn: 0.1658139\ttotal: 3.1s\tremaining: 1.18s\n",
      "725:\tlearn: 0.1657408\ttotal: 3.11s\tremaining: 1.17s\n",
      "726:\tlearn: 0.1656574\ttotal: 3.11s\tremaining: 1.17s\n",
      "727:\tlearn: 0.1654706\ttotal: 3.11s\tremaining: 1.16s\n",
      "728:\tlearn: 0.1653876\ttotal: 3.12s\tremaining: 1.16s\n",
      "729:\tlearn: 0.1653399\ttotal: 3.12s\tremaining: 1.16s\n",
      "730:\tlearn: 0.1652367\ttotal: 3.13s\tremaining: 1.15s\n",
      "731:\tlearn: 0.1651659\ttotal: 3.13s\tremaining: 1.15s\n",
      "732:\tlearn: 0.1650885\ttotal: 3.13s\tremaining: 1.14s\n",
      "733:\tlearn: 0.1650677\ttotal: 3.14s\tremaining: 1.14s\n",
      "734:\tlearn: 0.1649849\ttotal: 3.14s\tremaining: 1.13s\n",
      "735:\tlearn: 0.1649140\ttotal: 3.14s\tremaining: 1.13s\n",
      "736:\tlearn: 0.1648225\ttotal: 3.15s\tremaining: 1.12s\n",
      "737:\tlearn: 0.1646655\ttotal: 3.15s\tremaining: 1.12s\n",
      "738:\tlearn: 0.1645936\ttotal: 3.16s\tremaining: 1.11s\n",
      "739:\tlearn: 0.1645075\ttotal: 3.16s\tremaining: 1.11s\n",
      "740:\tlearn: 0.1644926\ttotal: 3.16s\tremaining: 1.11s\n",
      "741:\tlearn: 0.1643373\ttotal: 3.17s\tremaining: 1.1s\n",
      "742:\tlearn: 0.1642693\ttotal: 3.17s\tremaining: 1.1s\n",
      "743:\tlearn: 0.1641844\ttotal: 3.17s\tremaining: 1.09s\n",
      "744:\tlearn: 0.1641397\ttotal: 3.18s\tremaining: 1.09s\n",
      "745:\tlearn: 0.1640703\ttotal: 3.18s\tremaining: 1.08s\n",
      "746:\tlearn: 0.1639951\ttotal: 3.18s\tremaining: 1.08s\n",
      "747:\tlearn: 0.1638774\ttotal: 3.19s\tremaining: 1.07s\n",
      "748:\tlearn: 0.1638025\ttotal: 3.19s\tremaining: 1.07s\n",
      "749:\tlearn: 0.1637252\ttotal: 3.19s\tremaining: 1.06s\n",
      "750:\tlearn: 0.1636634\ttotal: 3.2s\tremaining: 1.06s\n",
      "751:\tlearn: 0.1636320\ttotal: 3.2s\tremaining: 1.06s\n",
      "752:\tlearn: 0.1635730\ttotal: 3.21s\tremaining: 1.05s\n",
      "753:\tlearn: 0.1635052\ttotal: 3.21s\tremaining: 1.05s\n",
      "754:\tlearn: 0.1634181\ttotal: 3.21s\tremaining: 1.04s\n",
      "755:\tlearn: 0.1633427\ttotal: 3.22s\tremaining: 1.04s\n",
      "756:\tlearn: 0.1632403\ttotal: 3.22s\tremaining: 1.03s\n",
      "757:\tlearn: 0.1631278\ttotal: 3.23s\tremaining: 1.03s\n",
      "758:\tlearn: 0.1630982\ttotal: 3.23s\tremaining: 1.02s\n",
      "759:\tlearn: 0.1630315\ttotal: 3.23s\tremaining: 1.02s\n",
      "760:\tlearn: 0.1630011\ttotal: 3.23s\tremaining: 1.01s\n",
      "761:\tlearn: 0.1629426\ttotal: 3.24s\tremaining: 1.01s\n",
      "762:\tlearn: 0.1628751\ttotal: 3.24s\tremaining: 1.01s\n",
      "763:\tlearn: 0.1627751\ttotal: 3.25s\tremaining: 1s\n",
      "764:\tlearn: 0.1626961\ttotal: 3.25s\tremaining: 998ms\n",
      "765:\tlearn: 0.1626220\ttotal: 3.25s\tremaining: 994ms\n",
      "766:\tlearn: 0.1625383\ttotal: 3.26s\tremaining: 989ms\n",
      "767:\tlearn: 0.1624867\ttotal: 3.26s\tremaining: 985ms\n",
      "768:\tlearn: 0.1624426\ttotal: 3.26s\tremaining: 981ms\n",
      "769:\tlearn: 0.1624288\ttotal: 3.27s\tremaining: 976ms\n",
      "770:\tlearn: 0.1623323\ttotal: 3.27s\tremaining: 972ms\n",
      "771:\tlearn: 0.1622550\ttotal: 3.27s\tremaining: 968ms\n",
      "772:\tlearn: 0.1621936\ttotal: 3.28s\tremaining: 963ms\n",
      "773:\tlearn: 0.1621724\ttotal: 3.28s\tremaining: 959ms\n",
      "774:\tlearn: 0.1621368\ttotal: 3.29s\tremaining: 954ms\n",
      "775:\tlearn: 0.1620165\ttotal: 3.29s\tremaining: 950ms\n",
      "776:\tlearn: 0.1619540\ttotal: 3.29s\tremaining: 946ms\n",
      "777:\tlearn: 0.1618760\ttotal: 3.3s\tremaining: 941ms\n",
      "778:\tlearn: 0.1617724\ttotal: 3.3s\tremaining: 937ms\n",
      "779:\tlearn: 0.1616895\ttotal: 3.31s\tremaining: 932ms\n",
      "780:\tlearn: 0.1615866\ttotal: 3.31s\tremaining: 928ms\n",
      "781:\tlearn: 0.1614883\ttotal: 3.31s\tremaining: 924ms\n",
      "782:\tlearn: 0.1614215\ttotal: 3.32s\tremaining: 920ms\n",
      "783:\tlearn: 0.1613435\ttotal: 3.32s\tremaining: 915ms\n",
      "784:\tlearn: 0.1613261\ttotal: 3.33s\tremaining: 911ms\n",
      "785:\tlearn: 0.1612613\ttotal: 3.33s\tremaining: 907ms\n",
      "786:\tlearn: 0.1611873\ttotal: 3.33s\tremaining: 902ms\n",
      "787:\tlearn: 0.1610340\ttotal: 3.34s\tremaining: 898ms\n",
      "788:\tlearn: 0.1609700\ttotal: 3.34s\tremaining: 893ms\n",
      "789:\tlearn: 0.1608819\ttotal: 3.34s\tremaining: 889ms\n",
      "790:\tlearn: 0.1608260\ttotal: 3.35s\tremaining: 885ms\n",
      "791:\tlearn: 0.1607802\ttotal: 3.35s\tremaining: 880ms\n",
      "792:\tlearn: 0.1607672\ttotal: 3.35s\tremaining: 876ms\n",
      "793:\tlearn: 0.1607078\ttotal: 3.36s\tremaining: 871ms\n",
      "794:\tlearn: 0.1606627\ttotal: 3.36s\tremaining: 867ms\n",
      "795:\tlearn: 0.1606241\ttotal: 3.37s\tremaining: 863ms\n",
      "796:\tlearn: 0.1605201\ttotal: 3.37s\tremaining: 858ms\n",
      "797:\tlearn: 0.1604197\ttotal: 3.37s\tremaining: 854ms\n",
      "798:\tlearn: 0.1603533\ttotal: 3.38s\tremaining: 850ms\n",
      "799:\tlearn: 0.1602958\ttotal: 3.38s\tremaining: 845ms\n",
      "800:\tlearn: 0.1602085\ttotal: 3.38s\tremaining: 841ms\n",
      "801:\tlearn: 0.1600757\ttotal: 3.39s\tremaining: 836ms\n",
      "802:\tlearn: 0.1600399\ttotal: 3.39s\tremaining: 832ms\n",
      "803:\tlearn: 0.1599778\ttotal: 3.4s\tremaining: 828ms\n",
      "804:\tlearn: 0.1599083\ttotal: 3.4s\tremaining: 824ms\n",
      "805:\tlearn: 0.1598915\ttotal: 3.4s\tremaining: 819ms\n",
      "806:\tlearn: 0.1598218\ttotal: 3.41s\tremaining: 815ms\n",
      "807:\tlearn: 0.1597684\ttotal: 3.41s\tremaining: 811ms\n",
      "808:\tlearn: 0.1597652\ttotal: 3.41s\tremaining: 806ms\n",
      "809:\tlearn: 0.1596881\ttotal: 3.42s\tremaining: 802ms\n",
      "810:\tlearn: 0.1596275\ttotal: 3.42s\tremaining: 798ms\n",
      "811:\tlearn: 0.1595657\ttotal: 3.43s\tremaining: 793ms\n",
      "812:\tlearn: 0.1595240\ttotal: 3.43s\tremaining: 789ms\n",
      "813:\tlearn: 0.1594501\ttotal: 3.43s\tremaining: 784ms\n",
      "814:\tlearn: 0.1594218\ttotal: 3.44s\tremaining: 780ms\n",
      "815:\tlearn: 0.1593482\ttotal: 3.44s\tremaining: 776ms\n",
      "816:\tlearn: 0.1593186\ttotal: 3.44s\tremaining: 771ms\n"
     ]
    },
    {
     "name": "stdout",
     "output_type": "stream",
     "text": [
      "817:\tlearn: 0.1592273\ttotal: 3.45s\tremaining: 767ms\n",
      "818:\tlearn: 0.1591221\ttotal: 3.45s\tremaining: 763ms\n",
      "819:\tlearn: 0.1590712\ttotal: 3.46s\tremaining: 759ms\n",
      "820:\tlearn: 0.1590276\ttotal: 3.46s\tremaining: 754ms\n",
      "821:\tlearn: 0.1589527\ttotal: 3.46s\tremaining: 750ms\n",
      "822:\tlearn: 0.1588573\ttotal: 3.47s\tremaining: 746ms\n",
      "823:\tlearn: 0.1587984\ttotal: 3.47s\tremaining: 741ms\n",
      "824:\tlearn: 0.1586842\ttotal: 3.47s\tremaining: 737ms\n",
      "825:\tlearn: 0.1586333\ttotal: 3.48s\tremaining: 733ms\n",
      "826:\tlearn: 0.1585588\ttotal: 3.48s\tremaining: 728ms\n",
      "827:\tlearn: 0.1585572\ttotal: 3.48s\tremaining: 724ms\n",
      "828:\tlearn: 0.1585012\ttotal: 3.49s\tremaining: 720ms\n",
      "829:\tlearn: 0.1584451\ttotal: 3.49s\tremaining: 716ms\n",
      "830:\tlearn: 0.1584134\ttotal: 3.5s\tremaining: 711ms\n",
      "831:\tlearn: 0.1583588\ttotal: 3.5s\tremaining: 707ms\n",
      "832:\tlearn: 0.1583254\ttotal: 3.5s\tremaining: 703ms\n",
      "833:\tlearn: 0.1582482\ttotal: 3.51s\tremaining: 698ms\n",
      "834:\tlearn: 0.1581828\ttotal: 3.51s\tremaining: 694ms\n",
      "835:\tlearn: 0.1581508\ttotal: 3.51s\tremaining: 690ms\n",
      "836:\tlearn: 0.1580940\ttotal: 3.52s\tremaining: 685ms\n",
      "837:\tlearn: 0.1580138\ttotal: 3.52s\tremaining: 681ms\n",
      "838:\tlearn: 0.1579672\ttotal: 3.52s\tremaining: 676ms\n",
      "839:\tlearn: 0.1579128\ttotal: 3.53s\tremaining: 672ms\n",
      "840:\tlearn: 0.1578616\ttotal: 3.53s\tremaining: 668ms\n",
      "841:\tlearn: 0.1578134\ttotal: 3.53s\tremaining: 663ms\n",
      "842:\tlearn: 0.1577008\ttotal: 3.54s\tremaining: 659ms\n",
      "843:\tlearn: 0.1576437\ttotal: 3.54s\tremaining: 654ms\n",
      "844:\tlearn: 0.1575972\ttotal: 3.54s\tremaining: 650ms\n",
      "845:\tlearn: 0.1574272\ttotal: 3.55s\tremaining: 646ms\n",
      "846:\tlearn: 0.1573740\ttotal: 3.55s\tremaining: 641ms\n",
      "847:\tlearn: 0.1573426\ttotal: 3.55s\tremaining: 637ms\n",
      "848:\tlearn: 0.1573280\ttotal: 3.56s\tremaining: 632ms\n",
      "849:\tlearn: 0.1572971\ttotal: 3.56s\tremaining: 628ms\n",
      "850:\tlearn: 0.1572690\ttotal: 3.56s\tremaining: 624ms\n",
      "851:\tlearn: 0.1572105\ttotal: 3.56s\tremaining: 619ms\n",
      "852:\tlearn: 0.1571366\ttotal: 3.57s\tremaining: 615ms\n",
      "853:\tlearn: 0.1570914\ttotal: 3.57s\tremaining: 611ms\n",
      "854:\tlearn: 0.1570321\ttotal: 3.57s\tremaining: 606ms\n",
      "855:\tlearn: 0.1569725\ttotal: 3.58s\tremaining: 602ms\n",
      "856:\tlearn: 0.1568700\ttotal: 3.58s\tremaining: 598ms\n",
      "857:\tlearn: 0.1568033\ttotal: 3.58s\tremaining: 593ms\n",
      "858:\tlearn: 0.1567120\ttotal: 3.59s\tremaining: 589ms\n",
      "859:\tlearn: 0.1566686\ttotal: 3.59s\tremaining: 585ms\n",
      "860:\tlearn: 0.1566133\ttotal: 3.6s\tremaining: 581ms\n",
      "861:\tlearn: 0.1565728\ttotal: 3.6s\tremaining: 576ms\n",
      "862:\tlearn: 0.1564726\ttotal: 3.6s\tremaining: 572ms\n",
      "863:\tlearn: 0.1563987\ttotal: 3.61s\tremaining: 568ms\n",
      "864:\tlearn: 0.1563477\ttotal: 3.61s\tremaining: 563ms\n",
      "865:\tlearn: 0.1562492\ttotal: 3.61s\tremaining: 559ms\n",
      "866:\tlearn: 0.1562189\ttotal: 3.62s\tremaining: 555ms\n",
      "867:\tlearn: 0.1561520\ttotal: 3.62s\tremaining: 551ms\n",
      "868:\tlearn: 0.1560423\ttotal: 3.62s\tremaining: 546ms\n",
      "869:\tlearn: 0.1560140\ttotal: 3.63s\tremaining: 542ms\n",
      "870:\tlearn: 0.1559898\ttotal: 3.63s\tremaining: 538ms\n",
      "871:\tlearn: 0.1559049\ttotal: 3.64s\tremaining: 534ms\n",
      "872:\tlearn: 0.1558505\ttotal: 3.64s\tremaining: 530ms\n",
      "873:\tlearn: 0.1557551\ttotal: 3.64s\tremaining: 525ms\n",
      "874:\tlearn: 0.1557040\ttotal: 3.65s\tremaining: 521ms\n",
      "875:\tlearn: 0.1556764\ttotal: 3.65s\tremaining: 517ms\n",
      "876:\tlearn: 0.1555859\ttotal: 3.66s\tremaining: 513ms\n",
      "877:\tlearn: 0.1554890\ttotal: 3.66s\tremaining: 509ms\n",
      "878:\tlearn: 0.1554556\ttotal: 3.66s\tremaining: 504ms\n",
      "879:\tlearn: 0.1553502\ttotal: 3.67s\tremaining: 500ms\n",
      "880:\tlearn: 0.1552631\ttotal: 3.67s\tremaining: 496ms\n",
      "881:\tlearn: 0.1551798\ttotal: 3.67s\tremaining: 492ms\n",
      "882:\tlearn: 0.1550281\ttotal: 3.68s\tremaining: 487ms\n",
      "883:\tlearn: 0.1549570\ttotal: 3.68s\tremaining: 483ms\n",
      "884:\tlearn: 0.1548568\ttotal: 3.68s\tremaining: 479ms\n",
      "885:\tlearn: 0.1547663\ttotal: 3.69s\tremaining: 475ms\n",
      "886:\tlearn: 0.1547315\ttotal: 3.69s\tremaining: 470ms\n",
      "887:\tlearn: 0.1547042\ttotal: 3.69s\tremaining: 466ms\n",
      "888:\tlearn: 0.1546387\ttotal: 3.7s\tremaining: 462ms\n",
      "889:\tlearn: 0.1545736\ttotal: 3.7s\tremaining: 458ms\n",
      "890:\tlearn: 0.1545466\ttotal: 3.7s\tremaining: 453ms\n",
      "891:\tlearn: 0.1544818\ttotal: 3.71s\tremaining: 449ms\n",
      "892:\tlearn: 0.1544165\ttotal: 3.71s\tremaining: 445ms\n",
      "893:\tlearn: 0.1543459\ttotal: 3.71s\tremaining: 440ms\n",
      "894:\tlearn: 0.1543228\ttotal: 3.72s\tremaining: 436ms\n",
      "895:\tlearn: 0.1542472\ttotal: 3.72s\tremaining: 432ms\n",
      "896:\tlearn: 0.1542166\ttotal: 3.72s\tremaining: 427ms\n",
      "897:\tlearn: 0.1541912\ttotal: 3.73s\tremaining: 423ms\n",
      "898:\tlearn: 0.1541270\ttotal: 3.73s\tremaining: 419ms\n",
      "899:\tlearn: 0.1541165\ttotal: 3.73s\tremaining: 415ms\n",
      "900:\tlearn: 0.1540532\ttotal: 3.73s\tremaining: 410ms\n",
      "901:\tlearn: 0.1539521\ttotal: 3.74s\tremaining: 406ms\n",
      "902:\tlearn: 0.1538692\ttotal: 3.74s\tremaining: 402ms\n",
      "903:\tlearn: 0.1538258\ttotal: 3.74s\tremaining: 398ms\n",
      "904:\tlearn: 0.1537691\ttotal: 3.75s\tremaining: 393ms\n",
      "905:\tlearn: 0.1537362\ttotal: 3.75s\tremaining: 389ms\n",
      "906:\tlearn: 0.1536837\ttotal: 3.75s\tremaining: 385ms\n",
      "907:\tlearn: 0.1536368\ttotal: 3.76s\tremaining: 381ms\n",
      "908:\tlearn: 0.1535980\ttotal: 3.76s\tremaining: 377ms\n",
      "909:\tlearn: 0.1535499\ttotal: 3.77s\tremaining: 372ms\n",
      "910:\tlearn: 0.1534921\ttotal: 3.77s\tremaining: 368ms\n",
      "911:\tlearn: 0.1534425\ttotal: 3.77s\tremaining: 364ms\n",
      "912:\tlearn: 0.1533620\ttotal: 3.78s\tremaining: 360ms\n",
      "913:\tlearn: 0.1533109\ttotal: 3.78s\tremaining: 356ms\n",
      "914:\tlearn: 0.1532340\ttotal: 3.78s\tremaining: 351ms\n",
      "915:\tlearn: 0.1531719\ttotal: 3.79s\tremaining: 347ms\n",
      "916:\tlearn: 0.1531192\ttotal: 3.79s\tremaining: 343ms\n",
      "917:\tlearn: 0.1530703\ttotal: 3.79s\tremaining: 339ms\n",
      "918:\tlearn: 0.1530116\ttotal: 3.8s\tremaining: 335ms\n",
      "919:\tlearn: 0.1529299\ttotal: 3.8s\tremaining: 331ms\n",
      "920:\tlearn: 0.1528036\ttotal: 3.81s\tremaining: 326ms\n",
      "921:\tlearn: 0.1527292\ttotal: 3.81s\tremaining: 322ms\n",
      "922:\tlearn: 0.1526742\ttotal: 3.81s\tremaining: 318ms\n",
      "923:\tlearn: 0.1526527\ttotal: 3.82s\tremaining: 314ms\n",
      "924:\tlearn: 0.1526282\ttotal: 3.82s\tremaining: 310ms\n",
      "925:\tlearn: 0.1525733\ttotal: 3.82s\tremaining: 306ms\n",
      "926:\tlearn: 0.1524969\ttotal: 3.83s\tremaining: 301ms\n",
      "927:\tlearn: 0.1524300\ttotal: 3.83s\tremaining: 297ms\n",
      "928:\tlearn: 0.1524035\ttotal: 3.83s\tremaining: 293ms\n",
      "929:\tlearn: 0.1523310\ttotal: 3.84s\tremaining: 289ms\n",
      "930:\tlearn: 0.1522628\ttotal: 3.84s\tremaining: 285ms\n",
      "931:\tlearn: 0.1521456\ttotal: 3.85s\tremaining: 281ms\n",
      "932:\tlearn: 0.1520573\ttotal: 3.85s\tremaining: 276ms\n",
      "933:\tlearn: 0.1519856\ttotal: 3.85s\tremaining: 272ms\n",
      "934:\tlearn: 0.1519365\ttotal: 3.86s\tremaining: 268ms\n",
      "935:\tlearn: 0.1518535\ttotal: 3.86s\tremaining: 264ms\n",
      "936:\tlearn: 0.1518288\ttotal: 3.86s\tremaining: 260ms\n",
      "937:\tlearn: 0.1516989\ttotal: 3.87s\tremaining: 256ms\n",
      "938:\tlearn: 0.1516574\ttotal: 3.87s\tremaining: 251ms\n",
      "939:\tlearn: 0.1515833\ttotal: 3.87s\tremaining: 247ms\n",
      "940:\tlearn: 0.1515295\ttotal: 3.88s\tremaining: 243ms\n",
      "941:\tlearn: 0.1514733\ttotal: 3.88s\tremaining: 239ms\n",
      "942:\tlearn: 0.1513881\ttotal: 3.88s\tremaining: 235ms\n",
      "943:\tlearn: 0.1512435\ttotal: 3.88s\tremaining: 230ms\n",
      "944:\tlearn: 0.1512396\ttotal: 3.89s\tremaining: 226ms\n",
      "945:\tlearn: 0.1511781\ttotal: 3.89s\tremaining: 222ms\n",
      "946:\tlearn: 0.1511303\ttotal: 3.89s\tremaining: 218ms\n",
      "947:\tlearn: 0.1511063\ttotal: 3.9s\tremaining: 214ms\n",
      "948:\tlearn: 0.1510843\ttotal: 3.9s\tremaining: 210ms\n",
      "949:\tlearn: 0.1510036\ttotal: 3.9s\tremaining: 205ms\n",
      "950:\tlearn: 0.1508997\ttotal: 3.9s\tremaining: 201ms\n",
      "951:\tlearn: 0.1508797\ttotal: 3.91s\tremaining: 197ms\n",
      "952:\tlearn: 0.1508352\ttotal: 3.91s\tremaining: 193ms\n",
      "953:\tlearn: 0.1507870\ttotal: 3.92s\tremaining: 189ms\n",
      "954:\tlearn: 0.1507570\ttotal: 3.92s\tremaining: 185ms\n",
      "955:\tlearn: 0.1507230\ttotal: 3.92s\tremaining: 181ms\n",
      "956:\tlearn: 0.1506993\ttotal: 3.92s\tremaining: 176ms\n",
      "957:\tlearn: 0.1506328\ttotal: 3.93s\tremaining: 172ms\n",
      "958:\tlearn: 0.1505851\ttotal: 3.93s\tremaining: 168ms\n",
      "959:\tlearn: 0.1505499\ttotal: 3.94s\tremaining: 164ms\n",
      "960:\tlearn: 0.1504804\ttotal: 3.94s\tremaining: 160ms\n",
      "961:\tlearn: 0.1503602\ttotal: 3.94s\tremaining: 156ms\n",
      "962:\tlearn: 0.1503233\ttotal: 3.95s\tremaining: 152ms\n",
      "963:\tlearn: 0.1502675\ttotal: 3.95s\tremaining: 148ms\n",
      "964:\tlearn: 0.1501926\ttotal: 3.95s\tremaining: 143ms\n",
      "965:\tlearn: 0.1501404\ttotal: 3.96s\tremaining: 139ms\n",
      "966:\tlearn: 0.1500890\ttotal: 3.96s\tremaining: 135ms\n",
      "967:\tlearn: 0.1500428\ttotal: 3.97s\tremaining: 131ms\n",
      "968:\tlearn: 0.1499870\ttotal: 3.97s\tremaining: 127ms\n",
      "969:\tlearn: 0.1499160\ttotal: 3.98s\tremaining: 123ms\n",
      "970:\tlearn: 0.1498899\ttotal: 3.98s\tremaining: 119ms\n",
      "971:\tlearn: 0.1498322\ttotal: 3.98s\tremaining: 115ms\n",
      "972:\tlearn: 0.1497551\ttotal: 3.99s\tremaining: 111ms\n",
      "973:\tlearn: 0.1497208\ttotal: 3.99s\tremaining: 107ms\n",
      "974:\tlearn: 0.1496821\ttotal: 4s\tremaining: 103ms\n"
     ]
    },
    {
     "name": "stdout",
     "output_type": "stream",
     "text": [
      "975:\tlearn: 0.1496181\ttotal: 4s\tremaining: 98.4ms\n",
      "976:\tlearn: 0.1494890\ttotal: 4.01s\tremaining: 94.3ms\n",
      "977:\tlearn: 0.1494641\ttotal: 4.01s\tremaining: 90.2ms\n",
      "978:\tlearn: 0.1494393\ttotal: 4.01s\tremaining: 86.1ms\n",
      "979:\tlearn: 0.1493957\ttotal: 4.02s\tremaining: 82ms\n",
      "980:\tlearn: 0.1493772\ttotal: 4.02s\tremaining: 77.9ms\n",
      "981:\tlearn: 0.1493417\ttotal: 4.02s\tremaining: 73.8ms\n",
      "982:\tlearn: 0.1492664\ttotal: 4.03s\tremaining: 69.6ms\n",
      "983:\tlearn: 0.1491745\ttotal: 4.03s\tremaining: 65.5ms\n",
      "984:\tlearn: 0.1491105\ttotal: 4.03s\tremaining: 61.4ms\n",
      "985:\tlearn: 0.1490232\ttotal: 4.07s\tremaining: 57.8ms\n",
      "986:\tlearn: 0.1489168\ttotal: 4.08s\tremaining: 53.7ms\n",
      "987:\tlearn: 0.1487895\ttotal: 4.08s\tremaining: 49.6ms\n",
      "988:\tlearn: 0.1487470\ttotal: 4.09s\tremaining: 45.5ms\n",
      "989:\tlearn: 0.1487437\ttotal: 4.1s\tremaining: 41.4ms\n",
      "990:\tlearn: 0.1486812\ttotal: 4.1s\tremaining: 37.2ms\n",
      "991:\tlearn: 0.1486355\ttotal: 4.11s\tremaining: 33.1ms\n",
      "992:\tlearn: 0.1485503\ttotal: 4.11s\tremaining: 29ms\n",
      "993:\tlearn: 0.1485199\ttotal: 4.11s\tremaining: 24.8ms\n",
      "994:\tlearn: 0.1484831\ttotal: 4.12s\tremaining: 20.7ms\n",
      "995:\tlearn: 0.1484228\ttotal: 4.12s\tremaining: 16.5ms\n",
      "996:\tlearn: 0.1483178\ttotal: 4.12s\tremaining: 12.4ms\n",
      "997:\tlearn: 0.1481800\ttotal: 4.13s\tremaining: 8.27ms\n",
      "998:\tlearn: 0.1481216\ttotal: 4.13s\tremaining: 4.14ms\n",
      "999:\tlearn: 0.1481006\ttotal: 4.14s\tremaining: 0us\n"
     ]
    }
   ],
   "source": [
    "model = CatBoostRegressor()\n",
    "model.fit(x_train_18, y_train_18)\n",
    "y_pred_18 = model.predict(x_test_18)"
   ]
  },
  {
   "cell_type": "code",
   "execution_count": 216,
   "id": "ac5955c8",
   "metadata": {},
   "outputs": [
    {
     "name": "stdout",
     "output_type": "stream",
     "text": [
      "MSE for CatBoost 2018 is: 18655226354.23669\n"
     ]
    }
   ],
   "source": [
    "# Calculation of Mean Squared Error (MSE)\n",
    "mse = mean_squared_error(np.exp(y_test_18), np.exp(y_pred_18))\n",
    "print('MSE for CatBoost 2018 is: ' + str(mse))"
   ]
  },
  {
   "cell_type": "code",
   "execution_count": 217,
   "id": "4b0d621c",
   "metadata": {},
   "outputs": [
    {
     "name": "stdout",
     "output_type": "stream",
     "text": [
      "Accuracy of properties at +- 10% of actual prices is 0.45952677459526775\n"
     ]
    }
   ],
   "source": [
    "acc = accuracy_threshold(y_test_18, y_pred_18, 0.1)\n",
    "print('Accuracy of properties at +- 10% of actual prices is ' + str(acc))"
   ]
  },
  {
   "cell_type": "code",
   "execution_count": 218,
   "id": "57e165de",
   "metadata": {},
   "outputs": [
    {
     "name": "stdout",
     "output_type": "stream",
     "text": [
      "Median Absolute Error:\n",
      "\n",
      "34725.32726074039\n"
     ]
    }
   ],
   "source": [
    "median_se = np.square(np.subtract(np.exp(y_test_18), np.exp(y_pred_18))).median() \n",
    " \n",
    "med = math.sqrt(median_se)\n",
    "print(\"Median Absolute Error:\\n\")\n",
    "print(med)"
   ]
  },
  {
   "cell_type": "code",
   "execution_count": 219,
   "id": "4a6d15a7",
   "metadata": {},
   "outputs": [
    {
     "name": "stdout",
     "output_type": "stream",
     "text": [
      "RMSE for CatBoost 2018 is: 136584.13653948504\n"
     ]
    }
   ],
   "source": [
    "rmse = mean_squared_error(np.exp(y_test_18), np.exp(y_pred_18), squared = False)\n",
    "print('RMSE for CatBoost 2018 is: ' + str(rmse))"
   ]
  },
  {
   "cell_type": "code",
   "execution_count": 220,
   "id": "077985a3",
   "metadata": {},
   "outputs": [
    {
     "name": "stdout",
     "output_type": "stream",
     "text": [
      "MAPE for CatBoost 2018 is: 0.21566001431683063\n"
     ]
    }
   ],
   "source": [
    "mape = mean_absolute_percentage_error(np.exp(y_test_18), np.exp(y_pred_18))\n",
    "print(\"MAPE for CatBoost 2018 is: \" + str(mape))"
   ]
  },
  {
   "cell_type": "code",
   "execution_count": 221,
   "id": "efdfd2f1",
   "metadata": {},
   "outputs": [],
   "source": [
    "cnames = ['Algorithm', 'Year', 'RMSE', 'MSE', 'MEDAE', 'Accuracy', 'MAPE']\n",
    "df22 = pd.DataFrame(columns = cnames)\n",
    "\n",
    "df22 = df22.append({'Algorithm': 'CatBoost',\n",
    "           'Year': 2018,\n",
    "           'RMSE': rmse,\n",
    "           'MSE': mse,\n",
    "           'MEDAE': med,\n",
    "           'Accuracy': acc,\n",
    "           'MAPE': mape         \n",
    "          }, ignore_index = True)"
   ]
  },
  {
   "cell_type": "markdown",
   "id": "32ba1ce8",
   "metadata": {},
   "source": [
    "### BayesianRidge"
   ]
  },
  {
   "cell_type": "code",
   "execution_count": 222,
   "id": "be7faf55",
   "metadata": {},
   "outputs": [
    {
     "name": "stdout",
     "output_type": "stream",
     "text": [
      "MSE for BayesianRidge 2018 is: 23087786573.266247\n"
     ]
    }
   ],
   "source": [
    "clf = BayesianRidge()\n",
    "clf.fit(x_train_18, y_train_18)\n",
    "y_pred_18 = clf.predict(x_test_18)\n",
    "# Calculation of Mean Squared Error (MSE)\n",
    "mse = mean_squared_error(np.exp(y_test_18), np.exp(y_pred_18))\n",
    "print('MSE for BayesianRidge 2018 is: ' + str(mse))"
   ]
  },
  {
   "cell_type": "code",
   "execution_count": 223,
   "id": "dcac2a1a",
   "metadata": {},
   "outputs": [
    {
     "name": "stdout",
     "output_type": "stream",
     "text": [
      "Accuracy of properties at +- 10% of actual prices is 0.3287671232876712\n"
     ]
    }
   ],
   "source": [
    "acc = accuracy_threshold(y_test_18, y_pred_18, 0.1)\n",
    "print('Accuracy of properties at +- 10% of actual prices is ' + str(acc))"
   ]
  },
  {
   "cell_type": "code",
   "execution_count": 224,
   "id": "c36fbb4d",
   "metadata": {},
   "outputs": [
    {
     "name": "stdout",
     "output_type": "stream",
     "text": [
      "MAPE for BayesianRidge 2018 is: 0.2604673295128176\n"
     ]
    }
   ],
   "source": [
    "mape = mean_absolute_percentage_error(np.exp(y_test_18), np.exp(y_pred_18))\n",
    "print(\"MAPE for BayesianRidge 2018 is: \" + str(mape))"
   ]
  },
  {
   "cell_type": "code",
   "execution_count": 225,
   "id": "8f51cb14",
   "metadata": {},
   "outputs": [
    {
     "name": "stdout",
     "output_type": "stream",
     "text": [
      "Median Absolute Error:\n",
      "\n",
      "43682.45670791762\n"
     ]
    }
   ],
   "source": [
    "median_se = np.square(np.subtract(np.exp(y_test_18), np.exp(y_pred_18))).median() \n",
    " \n",
    "med = math.sqrt(median_se)\n",
    "print(\"Median Absolute Error:\\n\")\n",
    "print(med)"
   ]
  },
  {
   "cell_type": "code",
   "execution_count": 226,
   "id": "dd7ded2a",
   "metadata": {},
   "outputs": [
    {
     "name": "stdout",
     "output_type": "stream",
     "text": [
      "RMSE for MLR 2018 is: 151946.65699931094\n"
     ]
    }
   ],
   "source": [
    "rmse = mean_squared_error(np.exp(y_test_18), np.exp(y_pred_18), squared = False)\n",
    "print('RMSE for MLR 2018 is: ' + str(rmse))"
   ]
  },
  {
   "cell_type": "code",
   "execution_count": 227,
   "id": "739c52c5",
   "metadata": {},
   "outputs": [],
   "source": [
    "cnames = ['Algorithm', 'Year', 'RMSE', 'MSE', 'MEDAE', 'Accuracy', 'MAPE']\n",
    "df23 = pd.DataFrame(columns = cnames)\n",
    "\n",
    "df23 = df23.append({'Algorithm': 'Bayesian',\n",
    "           'Year': 2018,\n",
    "           'RMSE': rmse,\n",
    "           'MSE': mse,\n",
    "           'MEDAE': med,\n",
    "           'Accuracy': acc,\n",
    "           'MAPE': mape         \n",
    "          }, ignore_index = True)"
   ]
  },
  {
   "cell_type": "markdown",
   "id": "3603e079",
   "metadata": {},
   "source": [
    "## 2017"
   ]
  },
  {
   "cell_type": "code",
   "execution_count": 228,
   "id": "e0c02467",
   "metadata": {},
   "outputs": [],
   "source": [
    "specific17 = irl[irl['Year'] > 2013]\n",
    "test_17 = specific17[specific17['Year'] == 2017]\n",
    "train_17 = specific17[specific17['Year'] < 2017]\n",
    "\n",
    "x_train_17 = train_17.loc[:, train_17.columns != 'LogPrice (€)']\n",
    "y_train_17 = train_17['LogPrice (€)']\n",
    "x_test_17 = test_17.loc[:, test_17.columns != 'LogPrice (€)']\n",
    "y_test_17 = test_17['LogPrice (€)']"
   ]
  },
  {
   "cell_type": "code",
   "execution_count": 229,
   "id": "519a5218",
   "metadata": {},
   "outputs": [
    {
     "name": "stdout",
     "output_type": "stream",
     "text": [
      "AutoML directory: AutoML_10\n",
      "The task is regression with evaluation metric rmse\n",
      "AutoML will use algorithms: ['Baseline', 'Linear', 'Decision Tree', 'Random Forest', 'Xgboost', 'Neural Network']\n",
      "AutoML will ensemble available models\n",
      "AutoML steps: ['simple_algorithms', 'default_algorithms', 'ensemble']\n",
      "* Step simple_algorithms will try to check up to 3 models\n",
      "1_Baseline rmse 0.582864 trained in 0.88 seconds\n",
      "2_DecisionTree rmse 0.315841 trained in 5.37 seconds\n",
      "3_Linear rmse 0.335893 trained in 3.78 seconds\n",
      "* Step default_algorithms will try to check up to 3 models\n",
      "4_Default_Xgboost rmse 0.271505 trained in 5.63 seconds\n",
      "5_Default_NeuralNetwork rmse 0.313981 trained in 1.54 seconds\n",
      "6_Default_RandomForest rmse 0.30324 trained in 6.69 seconds\n",
      "* Step ensemble will try to check up to 1 model\n",
      "Ensemble rmse 0.271505 trained in 0.53 seconds\n",
      "AutoML fit time: 38.13 seconds\n",
      "AutoML best model: 4_Default_Xgboost\n"
     ]
    },
    {
     "data": {
      "text/plain": [
       "AutoML(explain_level=2, total_time_limit=300)"
      ]
     },
     "execution_count": 229,
     "metadata": {},
     "output_type": "execute_result"
    }
   ],
   "source": [
    "automl = AutoML(total_time_limit = 5 * 60, explain_level = 2)\n",
    "automl.fit(x_train_17, y_train_17)"
   ]
  },
  {
   "cell_type": "code",
   "execution_count": 230,
   "id": "ae607b39",
   "metadata": {},
   "outputs": [
    {
     "name": "stdout",
     "output_type": "stream",
     "text": [
      "MSE for AutoML 2017 is: 18197250442.11199\n"
     ]
    }
   ],
   "source": [
    "y_pred_17 = automl.predict(x_test_17)\n",
    "# Calculation of Mean Squared Error (MSE)\n",
    "mse = mean_squared_error(np.exp(y_test_17), np.exp(y_pred_17))\n",
    "print('MSE for AutoML 2017 is: ' + str(mse))"
   ]
  },
  {
   "cell_type": "code",
   "execution_count": 231,
   "id": "89808aa5",
   "metadata": {},
   "outputs": [
    {
     "name": "stdout",
     "output_type": "stream",
     "text": [
      "RMSE for AutoML 2017 is: 134897.18470788037\n"
     ]
    }
   ],
   "source": [
    "rmse = mean_squared_error(np.exp(y_test_17), np.exp(y_pred_17), squared = False)\n",
    "print('RMSE for AutoML 2017 is: ' + str(rmse))"
   ]
  },
  {
   "cell_type": "code",
   "execution_count": 232,
   "id": "1c9b63ba",
   "metadata": {},
   "outputs": [
    {
     "name": "stdout",
     "output_type": "stream",
     "text": [
      "Accuracy of properties at +- 10% of actual prices is 0.3829787234042553\n"
     ]
    }
   ],
   "source": [
    "acc = accuracy_threshold(y_test_17, y_pred_17, 0.1)\n",
    "print('Accuracy of properties at +- 10% of actual prices is ' + str(acc))"
   ]
  },
  {
   "cell_type": "code",
   "execution_count": 233,
   "id": "b244d0d9",
   "metadata": {},
   "outputs": [
    {
     "name": "stdout",
     "output_type": "stream",
     "text": [
      "Median Absolute Error:\n",
      "\n",
      "38342.97559540425\n"
     ]
    }
   ],
   "source": [
    "median_se = np.square(np.subtract(np.exp(y_test_17), np.exp(y_pred_17))).median() \n",
    " \n",
    "med = math.sqrt(median_se)\n",
    "print(\"Median Absolute Error:\\n\")\n",
    "print(med)"
   ]
  },
  {
   "cell_type": "code",
   "execution_count": 234,
   "id": "3656aeed",
   "metadata": {},
   "outputs": [
    {
     "name": "stdout",
     "output_type": "stream",
     "text": [
      "MAPE for AutoML 2017 is: 0.21643119399031996\n"
     ]
    }
   ],
   "source": [
    "mape = mean_absolute_percentage_error(np.exp(y_test_17), np.exp(y_pred_17))\n",
    "print(\"MAPE for AutoML 2017 is: \" + str(mape))"
   ]
  },
  {
   "cell_type": "code",
   "execution_count": 235,
   "id": "de32e7b8",
   "metadata": {},
   "outputs": [],
   "source": [
    "cnames = ['Algorithm', 'Year', 'RMSE', 'MSE', 'MEDAE', 'Accuracy', 'MAPE']\n",
    "df24 = pd.DataFrame(columns = cnames)\n",
    "\n",
    "df24 = df24.append({'Algorithm': 'AutoML',\n",
    "           'Year': 2017,\n",
    "           'RMSE': rmse,\n",
    "           'MSE': mse,\n",
    "           'MEDAE': med,\n",
    "           'Accuracy': acc,\n",
    "           'MAPE': mape         \n",
    "          }, ignore_index = True)"
   ]
  },
  {
   "cell_type": "code",
   "execution_count": 236,
   "id": "290ccd72",
   "metadata": {},
   "outputs": [],
   "source": [
    "#cnames = ['Actual', 'Predicted']\n",
    "#dfreal5 = pd.DataFrame(columns = cnames)\n",
    "dfreal5 = pd.DataFrame(y_test_17.values)\n",
    "dfpred5 = pd.DataFrame(y_pred_17)\n",
    "#dfreal5 = pd.concat([z1, z2], ignore_index=True)"
   ]
  },
  {
   "cell_type": "markdown",
   "id": "e44a748f",
   "metadata": {},
   "source": [
    "### MLR"
   ]
  },
  {
   "cell_type": "code",
   "execution_count": 237,
   "id": "900d1850",
   "metadata": {},
   "outputs": [
    {
     "name": "stdout",
     "output_type": "stream",
     "text": [
      "MSE for MLR 2017 is: 36849230041.07311\n"
     ]
    }
   ],
   "source": [
    "lm = linear_model.LinearRegression()\n",
    "lm.fit(x_train_17, y_train_17) # fitting the model\n",
    "y_pred_17 = lm.predict(x_test_17)\n",
    "# Calculation of Mean Squared Error (MSE)\n",
    "mse = mean_squared_error(np.exp(y_test_17), np.exp(y_pred_17))\n",
    "print('MSE for MLR 2017 is: ' + str(mse))"
   ]
  },
  {
   "cell_type": "code",
   "execution_count": 238,
   "id": "38e7f871",
   "metadata": {},
   "outputs": [
    {
     "name": "stdout",
     "output_type": "stream",
     "text": [
      "RMSE for MLR 2017 is: 191961.53271182513\n"
     ]
    }
   ],
   "source": [
    "rmse = mean_squared_error(np.exp(y_test_17), np.exp(y_pred_17), squared = False)\n",
    "print('RMSE for MLR 2017 is: ' + str(rmse))"
   ]
  },
  {
   "cell_type": "code",
   "execution_count": 239,
   "id": "bf7320be",
   "metadata": {},
   "outputs": [
    {
     "name": "stdout",
     "output_type": "stream",
     "text": [
      "Accuracy of properties at +- 10% of actual prices is 0.30638297872340425\n"
     ]
    }
   ],
   "source": [
    "acc = accuracy_threshold(y_test_17, y_pred_17, 0.1)\n",
    "print('Accuracy of properties at +- 10% of actual prices is ' + str(acc))"
   ]
  },
  {
   "cell_type": "code",
   "execution_count": 240,
   "id": "79216519",
   "metadata": {},
   "outputs": [
    {
     "name": "stdout",
     "output_type": "stream",
     "text": [
      "Median Absolute Error:\n",
      "\n",
      "50792.7708593654\n"
     ]
    }
   ],
   "source": [
    "median_se = np.square(np.subtract(np.exp(y_test_17), np.exp(y_pred_17))).median() \n",
    " \n",
    "med = math.sqrt(median_se)\n",
    "print(\"Median Absolute Error:\\n\")\n",
    "print(med)"
   ]
  },
  {
   "cell_type": "code",
   "execution_count": 241,
   "id": "a81013e4",
   "metadata": {},
   "outputs": [
    {
     "name": "stdout",
     "output_type": "stream",
     "text": [
      "MAPE for MLR 2017 is: 0.277777972882933\n"
     ]
    }
   ],
   "source": [
    "mape = mean_absolute_percentage_error(np.exp(y_test_17), np.exp(y_pred_17))\n",
    "print(\"MAPE for MLR 2017 is: \" + str(mape))"
   ]
  },
  {
   "cell_type": "code",
   "execution_count": 242,
   "id": "fe7d6ec2",
   "metadata": {},
   "outputs": [],
   "source": [
    "cnames = ['Algorithm', 'Year', 'RMSE', 'MSE', 'MEDAE', 'Accuracy', 'MAPE']\n",
    "df25 = pd.DataFrame(columns = cnames)\n",
    "\n",
    "df25 = df25.append({'Algorithm': 'MLR',\n",
    "           'Year': 2017,\n",
    "           'RMSE': rmse,\n",
    "           'MSE': mse,\n",
    "           'MEDAE': med,\n",
    "           'Accuracy': acc,\n",
    "           'MAPE': mape         \n",
    "          }, ignore_index = True)"
   ]
  },
  {
   "cell_type": "markdown",
   "id": "02520000",
   "metadata": {},
   "source": [
    "### AdaBoost"
   ]
  },
  {
   "cell_type": "code",
   "execution_count": 243,
   "id": "6bd671b0",
   "metadata": {},
   "outputs": [
    {
     "name": "stdout",
     "output_type": "stream",
     "text": [
      "MSE for AdaBoost 2017 is: 20828354790.805946\n"
     ]
    }
   ],
   "source": [
    "model = AdaBoostRegressor()\n",
    "model.fit(x_train_17, y_train_17)\n",
    "y_pred_17 = model.predict(x_test_17)\n",
    "# Calculation of Mean Squared Error (MSE)\n",
    "mse = mean_squared_error(np.exp(y_test_17), np.exp(y_pred_17))\n",
    "print('MSE for AdaBoost 2017 is: ' + str(mse))"
   ]
  },
  {
   "cell_type": "code",
   "execution_count": 244,
   "id": "4fbed0ce",
   "metadata": {},
   "outputs": [
    {
     "name": "stdout",
     "output_type": "stream",
     "text": [
      "RMSE for Adaboost 2017 is: 144320.32008974324\n"
     ]
    }
   ],
   "source": [
    "rmse = mean_squared_error(np.exp(y_test_17), np.exp(y_pred_17), squared = False)\n",
    "print('RMSE for Adaboost 2017 is: ' + str(rmse))"
   ]
  },
  {
   "cell_type": "code",
   "execution_count": 245,
   "id": "9f322152",
   "metadata": {},
   "outputs": [
    {
     "name": "stdout",
     "output_type": "stream",
     "text": [
      "Accuracy of properties at +- 10% of actual prices is 0.2978723404255319\n"
     ]
    }
   ],
   "source": [
    "acc = accuracy_threshold(y_test_17, y_pred_17, 0.1)\n",
    "print('Accuracy of properties at +- 10% of actual prices is ' + str(acc))"
   ]
  },
  {
   "cell_type": "code",
   "execution_count": 246,
   "id": "39b1630b",
   "metadata": {},
   "outputs": [
    {
     "name": "stdout",
     "output_type": "stream",
     "text": [
      "Median Absolute Error:\n",
      "\n",
      "55015.29810851898\n"
     ]
    }
   ],
   "source": [
    "median_se = np.square(np.subtract(np.exp(y_test_17), np.exp(y_pred_17))).median() \n",
    " \n",
    "med = math.sqrt(median_se)\n",
    "print(\"Median Absolute Error:\\n\")\n",
    "print(med)"
   ]
  },
  {
   "cell_type": "code",
   "execution_count": 247,
   "id": "c5c7a745",
   "metadata": {},
   "outputs": [
    {
     "name": "stdout",
     "output_type": "stream",
     "text": [
      "MAPE for AdaBoost 2017 is: 0.238938030952227\n"
     ]
    }
   ],
   "source": [
    "mape = mean_absolute_percentage_error(np.exp(y_test_17), np.exp(y_pred_17))\n",
    "print(\"MAPE for AdaBoost 2017 is: \" + str(mape))"
   ]
  },
  {
   "cell_type": "code",
   "execution_count": 248,
   "id": "07ef9181",
   "metadata": {},
   "outputs": [],
   "source": [
    "cnames = ['Algorithm', 'Year', 'RMSE', 'MSE', 'MEDAE', 'Accuracy', 'MAPE']\n",
    "df26 = pd.DataFrame(columns = cnames)\n",
    "\n",
    "df26 = df26.append({'Algorithm': 'AdaBoost',\n",
    "           'Year': 2017,\n",
    "           'RMSE': rmse,\n",
    "           'MSE': mse,\n",
    "           'MEDAE': med,\n",
    "           'Accuracy': acc,\n",
    "           'MAPE': mape         \n",
    "          }, ignore_index = True)"
   ]
  },
  {
   "cell_type": "markdown",
   "id": "a8bbf8de",
   "metadata": {},
   "source": [
    "### LightGBM"
   ]
  },
  {
   "cell_type": "code",
   "execution_count": 249,
   "id": "8bdf11c8",
   "metadata": {},
   "outputs": [
    {
     "name": "stdout",
     "output_type": "stream",
     "text": [
      "MSE for LightGBM 2017 is: 18937365510.32404\n"
     ]
    }
   ],
   "source": [
    "model = LGBMRegressor()\n",
    "model.fit(x_train_17, y_train_17)\n",
    "y_pred_17 = model.predict(x_test_17)\n",
    "# Calculation of Mean Squared Error (MSE)\n",
    "mse = mean_squared_error(np.exp(y_test_17), np.exp(y_pred_17))\n",
    "print('MSE for LightGBM 2017 is: ' + str(mse))"
   ]
  },
  {
   "cell_type": "code",
   "execution_count": 250,
   "id": "70c2101b",
   "metadata": {},
   "outputs": [
    {
     "name": "stdout",
     "output_type": "stream",
     "text": [
      "RMSE for LightGBM 2017 is: 137613.1007946701\n"
     ]
    }
   ],
   "source": [
    "rmse = mean_squared_error(np.exp(y_test_17), np.exp(y_pred_17), squared = False)\n",
    "print('RMSE for LightGBM 2017 is: ' + str(rmse))"
   ]
  },
  {
   "cell_type": "code",
   "execution_count": 251,
   "id": "09740eef",
   "metadata": {},
   "outputs": [
    {
     "name": "stdout",
     "output_type": "stream",
     "text": [
      "Accuracy of properties at +- 10% of actual prices is 0.3404255319148936\n"
     ]
    }
   ],
   "source": [
    "acc = accuracy_threshold(y_test_17, y_pred_17, 0.1)\n",
    "print('Accuracy of properties at +- 10% of actual prices is ' + str(acc))"
   ]
  },
  {
   "cell_type": "code",
   "execution_count": 252,
   "id": "09c947c3",
   "metadata": {},
   "outputs": [
    {
     "name": "stdout",
     "output_type": "stream",
     "text": [
      "Median Absolute Error:\n",
      "\n",
      "42842.76262264974\n"
     ]
    }
   ],
   "source": [
    "median_se = np.square(np.subtract(np.exp(y_test_17), np.exp(y_pred_17))).median() \n",
    " \n",
    "med = math.sqrt(median_se)\n",
    "print(\"Median Absolute Error:\\n\")\n",
    "print(med)"
   ]
  },
  {
   "cell_type": "code",
   "execution_count": 253,
   "id": "5d44cfb8",
   "metadata": {},
   "outputs": [
    {
     "name": "stdout",
     "output_type": "stream",
     "text": [
      "MAPE for LightGBM 2017 is: 0.21732834523838\n"
     ]
    }
   ],
   "source": [
    "mape = mean_absolute_percentage_error(np.exp(y_test_17), np.exp(y_pred_17))\n",
    "print(\"MAPE for LightGBM 2017 is: \" + str(mape))"
   ]
  },
  {
   "cell_type": "code",
   "execution_count": 254,
   "id": "00ea8e81",
   "metadata": {},
   "outputs": [],
   "source": [
    "cnames = ['Algorithm', 'Year', 'RMSE', 'MSE', 'MEDAE', 'Accuracy', 'MAPE']\n",
    "df27 = pd.DataFrame(columns = cnames)\n",
    "\n",
    "df27 = df27.append({'Algorithm': 'LightGBM',\n",
    "           'Year': 2017,\n",
    "           'RMSE': rmse,\n",
    "           'MSE': mse,\n",
    "           'MEDAE': med,\n",
    "           'Accuracy': acc,\n",
    "           'MAPE': mape         \n",
    "          }, ignore_index = True)"
   ]
  },
  {
   "cell_type": "markdown",
   "id": "5c37b554",
   "metadata": {},
   "source": [
    "### CatBoost"
   ]
  },
  {
   "cell_type": "code",
   "execution_count": 255,
   "id": "28007eed",
   "metadata": {},
   "outputs": [
    {
     "name": "stdout",
     "output_type": "stream",
     "text": [
      "Learning rate set to 0.046032\n",
      "0:\tlearn: 0.5744044\ttotal: 3.76ms\tremaining: 3.75s\n",
      "1:\tlearn: 0.5594044\ttotal: 7.14ms\tremaining: 3.56s\n",
      "2:\tlearn: 0.5430490\ttotal: 11.7ms\tremaining: 3.88s\n",
      "3:\tlearn: 0.5285020\ttotal: 15ms\tremaining: 3.72s\n",
      "4:\tlearn: 0.5142990\ttotal: 18.5ms\tremaining: 3.69s\n",
      "5:\tlearn: 0.5013752\ttotal: 22.2ms\tremaining: 3.68s\n",
      "6:\tlearn: 0.4889337\ttotal: 30ms\tremaining: 4.26s\n",
      "7:\tlearn: 0.4772550\ttotal: 34.9ms\tremaining: 4.33s\n",
      "8:\tlearn: 0.4664909\ttotal: 41.7ms\tremaining: 4.59s\n",
      "9:\tlearn: 0.4558741\ttotal: 45.1ms\tremaining: 4.46s\n",
      "10:\tlearn: 0.4468178\ttotal: 48.5ms\tremaining: 4.36s\n",
      "11:\tlearn: 0.4378327\ttotal: 52ms\tremaining: 4.28s\n",
      "12:\tlearn: 0.4287428\ttotal: 56.1ms\tremaining: 4.26s\n",
      "13:\tlearn: 0.4202966\ttotal: 59.4ms\tremaining: 4.19s\n",
      "14:\tlearn: 0.4133396\ttotal: 66.1ms\tremaining: 4.34s\n",
      "15:\tlearn: 0.4059733\ttotal: 72.4ms\tremaining: 4.45s\n",
      "16:\tlearn: 0.3987319\ttotal: 76.1ms\tremaining: 4.4s\n",
      "17:\tlearn: 0.3919267\ttotal: 79.6ms\tremaining: 4.34s\n",
      "18:\tlearn: 0.3855661\ttotal: 83.2ms\tremaining: 4.29s\n",
      "19:\tlearn: 0.3796637\ttotal: 87.5ms\tremaining: 4.29s\n",
      "20:\tlearn: 0.3737950\ttotal: 91.1ms\tremaining: 4.25s\n",
      "21:\tlearn: 0.3682404\ttotal: 95.9ms\tremaining: 4.26s\n",
      "22:\tlearn: 0.3629602\ttotal: 99.6ms\tremaining: 4.23s\n",
      "23:\tlearn: 0.3586066\ttotal: 104ms\tremaining: 4.22s\n",
      "24:\tlearn: 0.3538137\ttotal: 107ms\tremaining: 4.18s\n",
      "25:\tlearn: 0.3497296\ttotal: 111ms\tremaining: 4.16s\n",
      "26:\tlearn: 0.3458185\ttotal: 115ms\tremaining: 4.13s\n",
      "27:\tlearn: 0.3423050\ttotal: 119ms\tremaining: 4.12s\n",
      "28:\tlearn: 0.3382879\ttotal: 127ms\tremaining: 4.27s\n",
      "29:\tlearn: 0.3350394\ttotal: 133ms\tremaining: 4.31s\n",
      "30:\tlearn: 0.3317518\ttotal: 138ms\tremaining: 4.31s\n",
      "31:\tlearn: 0.3286016\ttotal: 142ms\tremaining: 4.3s\n",
      "32:\tlearn: 0.3259868\ttotal: 148ms\tremaining: 4.32s\n",
      "33:\tlearn: 0.3228173\ttotal: 151ms\tremaining: 4.3s\n",
      "34:\tlearn: 0.3197445\ttotal: 155ms\tremaining: 4.27s\n",
      "35:\tlearn: 0.3172852\ttotal: 159ms\tremaining: 4.25s\n",
      "36:\tlearn: 0.3151442\ttotal: 162ms\tremaining: 4.23s\n",
      "37:\tlearn: 0.3130333\ttotal: 167ms\tremaining: 4.23s\n",
      "38:\tlearn: 0.3108467\ttotal: 171ms\tremaining: 4.21s\n",
      "39:\tlearn: 0.3089157\ttotal: 175ms\tremaining: 4.19s\n",
      "40:\tlearn: 0.3066333\ttotal: 184ms\tremaining: 4.31s\n",
      "41:\tlearn: 0.3049632\ttotal: 189ms\tremaining: 4.3s\n",
      "42:\tlearn: 0.3030384\ttotal: 194ms\tremaining: 4.32s\n",
      "43:\tlearn: 0.3010547\ttotal: 197ms\tremaining: 4.29s\n",
      "44:\tlearn: 0.2992064\ttotal: 201ms\tremaining: 4.26s\n",
      "45:\tlearn: 0.2974871\ttotal: 204ms\tremaining: 4.24s\n",
      "46:\tlearn: 0.2959017\ttotal: 208ms\tremaining: 4.23s\n",
      "47:\tlearn: 0.2943486\ttotal: 214ms\tremaining: 4.24s\n",
      "48:\tlearn: 0.2928945\ttotal: 218ms\tremaining: 4.24s\n",
      "49:\tlearn: 0.2918252\ttotal: 224ms\tremaining: 4.25s\n",
      "50:\tlearn: 0.2901996\ttotal: 231ms\tremaining: 4.3s\n",
      "51:\tlearn: 0.2889198\ttotal: 235ms\tremaining: 4.29s\n",
      "52:\tlearn: 0.2877813\ttotal: 242ms\tremaining: 4.33s\n",
      "53:\tlearn: 0.2868750\ttotal: 246ms\tremaining: 4.31s\n",
      "54:\tlearn: 0.2857996\ttotal: 250ms\tremaining: 4.29s\n",
      "55:\tlearn: 0.2848393\ttotal: 253ms\tremaining: 4.27s\n",
      "56:\tlearn: 0.2841080\ttotal: 257ms\tremaining: 4.26s\n",
      "57:\tlearn: 0.2834044\ttotal: 261ms\tremaining: 4.23s\n",
      "58:\tlearn: 0.2821913\ttotal: 264ms\tremaining: 4.21s\n",
      "59:\tlearn: 0.2813425\ttotal: 269ms\tremaining: 4.21s\n",
      "60:\tlearn: 0.2806626\ttotal: 275ms\tremaining: 4.23s\n",
      "61:\tlearn: 0.2798893\ttotal: 281ms\tremaining: 4.25s\n",
      "62:\tlearn: 0.2789672\ttotal: 285ms\tremaining: 4.23s\n",
      "63:\tlearn: 0.2780091\ttotal: 289ms\tremaining: 4.23s\n",
      "64:\tlearn: 0.2772670\ttotal: 293ms\tremaining: 4.21s\n",
      "65:\tlearn: 0.2764546\ttotal: 296ms\tremaining: 4.19s\n",
      "66:\tlearn: 0.2758698\ttotal: 300ms\tremaining: 4.18s\n",
      "67:\tlearn: 0.2751772\ttotal: 304ms\tremaining: 4.17s\n",
      "68:\tlearn: 0.2741903\ttotal: 308ms\tremaining: 4.15s\n",
      "69:\tlearn: 0.2734814\ttotal: 311ms\tremaining: 4.13s\n",
      "70:\tlearn: 0.2728218\ttotal: 315ms\tremaining: 4.12s\n",
      "71:\tlearn: 0.2719648\ttotal: 319ms\tremaining: 4.11s\n",
      "72:\tlearn: 0.2714038\ttotal: 322ms\tremaining: 4.09s\n",
      "73:\tlearn: 0.2708869\ttotal: 326ms\tremaining: 4.08s\n",
      "74:\tlearn: 0.2704391\ttotal: 336ms\tremaining: 4.15s\n",
      "75:\tlearn: 0.2696705\ttotal: 342ms\tremaining: 4.16s\n",
      "76:\tlearn: 0.2691801\ttotal: 346ms\tremaining: 4.14s\n",
      "77:\tlearn: 0.2686777\ttotal: 351ms\tremaining: 4.15s\n",
      "78:\tlearn: 0.2683744\ttotal: 354ms\tremaining: 4.13s\n",
      "79:\tlearn: 0.2675022\ttotal: 358ms\tremaining: 4.11s\n",
      "80:\tlearn: 0.2671447\ttotal: 361ms\tremaining: 4.1s\n",
      "81:\tlearn: 0.2667829\ttotal: 365ms\tremaining: 4.08s\n",
      "82:\tlearn: 0.2661619\ttotal: 368ms\tremaining: 4.07s\n",
      "83:\tlearn: 0.2657578\ttotal: 372ms\tremaining: 4.05s\n",
      "84:\tlearn: 0.2652226\ttotal: 375ms\tremaining: 4.04s\n",
      "85:\tlearn: 0.2647249\ttotal: 379ms\tremaining: 4.03s\n",
      "86:\tlearn: 0.2644436\ttotal: 387ms\tremaining: 4.06s\n",
      "87:\tlearn: 0.2639380\ttotal: 396ms\tremaining: 4.11s\n",
      "88:\tlearn: 0.2636039\ttotal: 400ms\tremaining: 4.09s\n",
      "89:\tlearn: 0.2631999\ttotal: 403ms\tremaining: 4.08s\n",
      "90:\tlearn: 0.2626378\ttotal: 407ms\tremaining: 4.07s\n",
      "91:\tlearn: 0.2621245\ttotal: 411ms\tremaining: 4.06s\n",
      "92:\tlearn: 0.2613172\ttotal: 415ms\tremaining: 4.04s\n",
      "93:\tlearn: 0.2610306\ttotal: 418ms\tremaining: 4.03s\n",
      "94:\tlearn: 0.2606247\ttotal: 423ms\tremaining: 4.03s\n",
      "95:\tlearn: 0.2603684\ttotal: 428ms\tremaining: 4.03s\n",
      "96:\tlearn: 0.2600068\ttotal: 431ms\tremaining: 4.02s\n",
      "97:\tlearn: 0.2597456\ttotal: 435ms\tremaining: 4s\n",
      "98:\tlearn: 0.2594995\ttotal: 440ms\tremaining: 4.01s\n",
      "99:\tlearn: 0.2591767\ttotal: 447ms\tremaining: 4.02s\n",
      "100:\tlearn: 0.2589421\ttotal: 456ms\tremaining: 4.06s\n",
      "101:\tlearn: 0.2587150\ttotal: 460ms\tremaining: 4.05s\n",
      "102:\tlearn: 0.2579523\ttotal: 463ms\tremaining: 4.04s\n",
      "103:\tlearn: 0.2576903\ttotal: 467ms\tremaining: 4.02s\n",
      "104:\tlearn: 0.2573307\ttotal: 471ms\tremaining: 4.02s\n",
      "105:\tlearn: 0.2569710\ttotal: 475ms\tremaining: 4s\n",
      "106:\tlearn: 0.2566632\ttotal: 478ms\tremaining: 3.99s\n",
      "107:\tlearn: 0.2564185\ttotal: 481ms\tremaining: 3.98s\n",
      "108:\tlearn: 0.2561435\ttotal: 486ms\tremaining: 3.97s\n",
      "109:\tlearn: 0.2556918\ttotal: 489ms\tremaining: 3.96s\n",
      "110:\tlearn: 0.2554077\ttotal: 492ms\tremaining: 3.94s\n",
      "111:\tlearn: 0.2550771\ttotal: 496ms\tremaining: 3.93s\n",
      "112:\tlearn: 0.2549438\ttotal: 500ms\tremaining: 3.92s\n",
      "113:\tlearn: 0.2548072\ttotal: 505ms\tremaining: 3.93s\n",
      "114:\tlearn: 0.2542548\ttotal: 513ms\tremaining: 3.94s\n",
      "115:\tlearn: 0.2539715\ttotal: 519ms\tremaining: 3.96s\n",
      "116:\tlearn: 0.2537348\ttotal: 523ms\tremaining: 3.94s\n",
      "117:\tlearn: 0.2534057\ttotal: 526ms\tremaining: 3.93s\n",
      "118:\tlearn: 0.2531133\ttotal: 530ms\tremaining: 3.92s\n",
      "119:\tlearn: 0.2528299\ttotal: 533ms\tremaining: 3.91s\n",
      "120:\tlearn: 0.2527161\ttotal: 537ms\tremaining: 3.9s\n",
      "121:\tlearn: 0.2524965\ttotal: 540ms\tremaining: 3.89s\n",
      "122:\tlearn: 0.2519880\ttotal: 544ms\tremaining: 3.88s\n",
      "123:\tlearn: 0.2518117\ttotal: 548ms\tremaining: 3.87s\n",
      "124:\tlearn: 0.2516815\ttotal: 551ms\tremaining: 3.86s\n",
      "125:\tlearn: 0.2513832\ttotal: 556ms\tremaining: 3.86s\n",
      "126:\tlearn: 0.2511789\ttotal: 562ms\tremaining: 3.86s\n",
      "127:\tlearn: 0.2509157\ttotal: 569ms\tremaining: 3.88s\n",
      "128:\tlearn: 0.2505428\ttotal: 573ms\tremaining: 3.87s\n",
      "129:\tlearn: 0.2499629\ttotal: 578ms\tremaining: 3.87s\n",
      "130:\tlearn: 0.2497730\ttotal: 583ms\tremaining: 3.87s\n",
      "131:\tlearn: 0.2495445\ttotal: 586ms\tremaining: 3.85s\n",
      "132:\tlearn: 0.2493149\ttotal: 590ms\tremaining: 3.84s\n",
      "133:\tlearn: 0.2491642\ttotal: 593ms\tremaining: 3.83s\n",
      "134:\tlearn: 0.2489261\ttotal: 596ms\tremaining: 3.82s\n",
      "135:\tlearn: 0.2486768\ttotal: 600ms\tremaining: 3.81s\n",
      "136:\tlearn: 0.2483551\ttotal: 603ms\tremaining: 3.8s\n",
      "137:\tlearn: 0.2480623\ttotal: 608ms\tremaining: 3.8s\n",
      "138:\tlearn: 0.2477560\ttotal: 613ms\tremaining: 3.79s\n",
      "139:\tlearn: 0.2473853\ttotal: 616ms\tremaining: 3.78s\n",
      "140:\tlearn: 0.2472415\ttotal: 620ms\tremaining: 3.77s\n",
      "141:\tlearn: 0.2467688\ttotal: 623ms\tremaining: 3.77s\n",
      "142:\tlearn: 0.2465206\ttotal: 627ms\tremaining: 3.76s\n",
      "143:\tlearn: 0.2462099\ttotal: 630ms\tremaining: 3.75s\n",
      "144:\tlearn: 0.2459957\ttotal: 640ms\tremaining: 3.77s\n",
      "145:\tlearn: 0.2454934\ttotal: 644ms\tremaining: 3.77s\n",
      "146:\tlearn: 0.2450509\ttotal: 648ms\tremaining: 3.76s\n",
      "147:\tlearn: 0.2447407\ttotal: 653ms\tremaining: 3.76s\n",
      "148:\tlearn: 0.2445553\ttotal: 656ms\tremaining: 3.75s\n",
      "149:\tlearn: 0.2443182\ttotal: 660ms\tremaining: 3.74s\n",
      "150:\tlearn: 0.2441462\ttotal: 663ms\tremaining: 3.73s\n",
      "151:\tlearn: 0.2439398\ttotal: 668ms\tremaining: 3.72s\n",
      "152:\tlearn: 0.2436603\ttotal: 671ms\tremaining: 3.71s\n",
      "153:\tlearn: 0.2435195\ttotal: 675ms\tremaining: 3.71s\n",
      "154:\tlearn: 0.2432703\ttotal: 678ms\tremaining: 3.7s\n",
      "155:\tlearn: 0.2431448\ttotal: 682ms\tremaining: 3.69s\n",
      "156:\tlearn: 0.2429567\ttotal: 687ms\tremaining: 3.69s\n",
      "157:\tlearn: 0.2427931\ttotal: 690ms\tremaining: 3.68s\n",
      "158:\tlearn: 0.2425482\ttotal: 694ms\tremaining: 3.67s\n",
      "159:\tlearn: 0.2422119\ttotal: 698ms\tremaining: 3.66s\n",
      "160:\tlearn: 0.2418629\ttotal: 702ms\tremaining: 3.65s\n",
      "161:\tlearn: 0.2416475\ttotal: 705ms\tremaining: 3.65s\n",
      "162:\tlearn: 0.2415394\ttotal: 716ms\tremaining: 3.67s\n",
      "163:\tlearn: 0.2412951\ttotal: 720ms\tremaining: 3.67s\n",
      "164:\tlearn: 0.2411722\ttotal: 725ms\tremaining: 3.67s\n"
     ]
    },
    {
     "name": "stdout",
     "output_type": "stream",
     "text": [
      "165:\tlearn: 0.2409424\ttotal: 733ms\tremaining: 3.68s\n",
      "166:\tlearn: 0.2407524\ttotal: 736ms\tremaining: 3.67s\n",
      "167:\tlearn: 0.2406798\ttotal: 739ms\tremaining: 3.66s\n",
      "168:\tlearn: 0.2404987\ttotal: 743ms\tremaining: 3.65s\n",
      "169:\tlearn: 0.2401161\ttotal: 747ms\tremaining: 3.65s\n",
      "170:\tlearn: 0.2400051\ttotal: 750ms\tremaining: 3.64s\n",
      "171:\tlearn: 0.2398893\ttotal: 758ms\tremaining: 3.65s\n",
      "172:\tlearn: 0.2397149\ttotal: 762ms\tremaining: 3.64s\n",
      "173:\tlearn: 0.2395493\ttotal: 765ms\tremaining: 3.63s\n",
      "174:\tlearn: 0.2394156\ttotal: 769ms\tremaining: 3.63s\n",
      "175:\tlearn: 0.2390964\ttotal: 774ms\tremaining: 3.62s\n",
      "176:\tlearn: 0.2389244\ttotal: 777ms\tremaining: 3.61s\n",
      "177:\tlearn: 0.2387461\ttotal: 781ms\tremaining: 3.6s\n",
      "178:\tlearn: 0.2386092\ttotal: 786ms\tremaining: 3.6s\n",
      "179:\tlearn: 0.2384113\ttotal: 790ms\tremaining: 3.6s\n",
      "180:\tlearn: 0.2382996\ttotal: 793ms\tremaining: 3.59s\n",
      "181:\tlearn: 0.2379217\ttotal: 797ms\tremaining: 3.58s\n",
      "182:\tlearn: 0.2377465\ttotal: 800ms\tremaining: 3.57s\n",
      "183:\tlearn: 0.2376232\ttotal: 806ms\tremaining: 3.57s\n",
      "184:\tlearn: 0.2374582\ttotal: 809ms\tremaining: 3.56s\n",
      "185:\tlearn: 0.2373200\ttotal: 812ms\tremaining: 3.56s\n",
      "186:\tlearn: 0.2371907\ttotal: 816ms\tremaining: 3.55s\n",
      "187:\tlearn: 0.2369179\ttotal: 820ms\tremaining: 3.54s\n",
      "188:\tlearn: 0.2367501\ttotal: 824ms\tremaining: 3.53s\n",
      "189:\tlearn: 0.2366650\ttotal: 827ms\tremaining: 3.52s\n",
      "190:\tlearn: 0.2364398\ttotal: 831ms\tremaining: 3.52s\n",
      "191:\tlearn: 0.2362228\ttotal: 835ms\tremaining: 3.51s\n",
      "192:\tlearn: 0.2360994\ttotal: 838ms\tremaining: 3.5s\n",
      "193:\tlearn: 0.2358256\ttotal: 841ms\tremaining: 3.49s\n",
      "194:\tlearn: 0.2355950\ttotal: 844ms\tremaining: 3.48s\n",
      "195:\tlearn: 0.2353395\ttotal: 847ms\tremaining: 3.47s\n",
      "196:\tlearn: 0.2351631\ttotal: 851ms\tremaining: 3.47s\n",
      "197:\tlearn: 0.2350244\ttotal: 855ms\tremaining: 3.46s\n",
      "198:\tlearn: 0.2348569\ttotal: 859ms\tremaining: 3.46s\n",
      "199:\tlearn: 0.2347391\ttotal: 862ms\tremaining: 3.45s\n",
      "200:\tlearn: 0.2344015\ttotal: 867ms\tremaining: 3.44s\n",
      "201:\tlearn: 0.2343066\ttotal: 870ms\tremaining: 3.44s\n",
      "202:\tlearn: 0.2341452\ttotal: 873ms\tremaining: 3.43s\n",
      "203:\tlearn: 0.2339793\ttotal: 877ms\tremaining: 3.42s\n",
      "204:\tlearn: 0.2337794\ttotal: 881ms\tremaining: 3.42s\n",
      "205:\tlearn: 0.2337070\ttotal: 884ms\tremaining: 3.41s\n",
      "206:\tlearn: 0.2335858\ttotal: 888ms\tremaining: 3.4s\n",
      "207:\tlearn: 0.2334721\ttotal: 891ms\tremaining: 3.39s\n",
      "208:\tlearn: 0.2333589\ttotal: 894ms\tremaining: 3.38s\n",
      "209:\tlearn: 0.2332494\ttotal: 900ms\tremaining: 3.38s\n",
      "210:\tlearn: 0.2330698\ttotal: 904ms\tremaining: 3.38s\n",
      "211:\tlearn: 0.2329732\ttotal: 908ms\tremaining: 3.38s\n",
      "212:\tlearn: 0.2327936\ttotal: 913ms\tremaining: 3.37s\n",
      "213:\tlearn: 0.2325993\ttotal: 918ms\tremaining: 3.37s\n",
      "214:\tlearn: 0.2325255\ttotal: 922ms\tremaining: 3.37s\n",
      "215:\tlearn: 0.2324579\ttotal: 929ms\tremaining: 3.37s\n",
      "216:\tlearn: 0.2322031\ttotal: 935ms\tremaining: 3.37s\n",
      "217:\tlearn: 0.2321128\ttotal: 938ms\tremaining: 3.36s\n",
      "218:\tlearn: 0.2320596\ttotal: 944ms\tremaining: 3.37s\n",
      "219:\tlearn: 0.2320219\ttotal: 949ms\tremaining: 3.36s\n",
      "220:\tlearn: 0.2317564\ttotal: 953ms\tremaining: 3.36s\n",
      "221:\tlearn: 0.2315814\ttotal: 960ms\tremaining: 3.37s\n",
      "222:\tlearn: 0.2314593\ttotal: 965ms\tremaining: 3.36s\n",
      "223:\tlearn: 0.2312246\ttotal: 969ms\tremaining: 3.36s\n",
      "224:\tlearn: 0.2310626\ttotal: 973ms\tremaining: 3.35s\n",
      "225:\tlearn: 0.2309813\ttotal: 978ms\tremaining: 3.35s\n",
      "226:\tlearn: 0.2308395\ttotal: 985ms\tremaining: 3.35s\n",
      "227:\tlearn: 0.2306895\ttotal: 989ms\tremaining: 3.35s\n",
      "228:\tlearn: 0.2305352\ttotal: 993ms\tremaining: 3.34s\n",
      "229:\tlearn: 0.2303955\ttotal: 998ms\tremaining: 3.34s\n",
      "230:\tlearn: 0.2303491\ttotal: 1s\tremaining: 3.34s\n",
      "231:\tlearn: 0.2302823\ttotal: 1.01s\tremaining: 3.33s\n",
      "232:\tlearn: 0.2302037\ttotal: 1.01s\tremaining: 3.33s\n",
      "233:\tlearn: 0.2301129\ttotal: 1.02s\tremaining: 3.33s\n",
      "234:\tlearn: 0.2299133\ttotal: 1.02s\tremaining: 3.32s\n",
      "235:\tlearn: 0.2298170\ttotal: 1.02s\tremaining: 3.32s\n",
      "236:\tlearn: 0.2296240\ttotal: 1.03s\tremaining: 3.31s\n",
      "237:\tlearn: 0.2294223\ttotal: 1.03s\tremaining: 3.31s\n",
      "238:\tlearn: 0.2292939\ttotal: 1.04s\tremaining: 3.3s\n",
      "239:\tlearn: 0.2289514\ttotal: 1.04s\tremaining: 3.29s\n",
      "240:\tlearn: 0.2286501\ttotal: 1.04s\tremaining: 3.29s\n",
      "241:\tlearn: 0.2284986\ttotal: 1.05s\tremaining: 3.28s\n",
      "242:\tlearn: 0.2284079\ttotal: 1.05s\tremaining: 3.27s\n",
      "243:\tlearn: 0.2283590\ttotal: 1.05s\tremaining: 3.27s\n",
      "244:\tlearn: 0.2282122\ttotal: 1.06s\tremaining: 3.26s\n",
      "245:\tlearn: 0.2280386\ttotal: 1.06s\tremaining: 3.25s\n",
      "246:\tlearn: 0.2279747\ttotal: 1.06s\tremaining: 3.25s\n",
      "247:\tlearn: 0.2278102\ttotal: 1.07s\tremaining: 3.24s\n",
      "248:\tlearn: 0.2276106\ttotal: 1.07s\tremaining: 3.24s\n",
      "249:\tlearn: 0.2274010\ttotal: 1.08s\tremaining: 3.23s\n",
      "250:\tlearn: 0.2272546\ttotal: 1.08s\tremaining: 3.23s\n",
      "251:\tlearn: 0.2271118\ttotal: 1.08s\tremaining: 3.22s\n",
      "252:\tlearn: 0.2269486\ttotal: 1.09s\tremaining: 3.21s\n",
      "253:\tlearn: 0.2266326\ttotal: 1.09s\tremaining: 3.21s\n",
      "254:\tlearn: 0.2264862\ttotal: 1.1s\tremaining: 3.2s\n",
      "255:\tlearn: 0.2263191\ttotal: 1.1s\tremaining: 3.2s\n",
      "256:\tlearn: 0.2262152\ttotal: 1.1s\tremaining: 3.19s\n",
      "257:\tlearn: 0.2261742\ttotal: 1.11s\tremaining: 3.18s\n",
      "258:\tlearn: 0.2261364\ttotal: 1.11s\tremaining: 3.18s\n",
      "259:\tlearn: 0.2259554\ttotal: 1.11s\tremaining: 3.17s\n",
      "260:\tlearn: 0.2258866\ttotal: 1.12s\tremaining: 3.16s\n",
      "261:\tlearn: 0.2257642\ttotal: 1.12s\tremaining: 3.16s\n",
      "262:\tlearn: 0.2256938\ttotal: 1.12s\tremaining: 3.15s\n",
      "263:\tlearn: 0.2255724\ttotal: 1.13s\tremaining: 3.15s\n",
      "264:\tlearn: 0.2255100\ttotal: 1.13s\tremaining: 3.14s\n",
      "265:\tlearn: 0.2254539\ttotal: 1.14s\tremaining: 3.13s\n",
      "266:\tlearn: 0.2252845\ttotal: 1.14s\tremaining: 3.13s\n",
      "267:\tlearn: 0.2250701\ttotal: 1.14s\tremaining: 3.12s\n",
      "268:\tlearn: 0.2249039\ttotal: 1.15s\tremaining: 3.12s\n",
      "269:\tlearn: 0.2247862\ttotal: 1.15s\tremaining: 3.11s\n",
      "270:\tlearn: 0.2247121\ttotal: 1.15s\tremaining: 3.1s\n",
      "271:\tlearn: 0.2243935\ttotal: 1.16s\tremaining: 3.1s\n",
      "272:\tlearn: 0.2241266\ttotal: 1.16s\tremaining: 3.09s\n",
      "273:\tlearn: 0.2239346\ttotal: 1.16s\tremaining: 3.08s\n",
      "274:\tlearn: 0.2238646\ttotal: 1.17s\tremaining: 3.08s\n",
      "275:\tlearn: 0.2236640\ttotal: 1.17s\tremaining: 3.08s\n",
      "276:\tlearn: 0.2234916\ttotal: 1.18s\tremaining: 3.07s\n",
      "277:\tlearn: 0.2234174\ttotal: 1.18s\tremaining: 3.07s\n",
      "278:\tlearn: 0.2231378\ttotal: 1.19s\tremaining: 3.06s\n",
      "279:\tlearn: 0.2230083\ttotal: 1.19s\tremaining: 3.06s\n",
      "280:\tlearn: 0.2228573\ttotal: 1.19s\tremaining: 3.06s\n",
      "281:\tlearn: 0.2227662\ttotal: 1.2s\tremaining: 3.05s\n",
      "282:\tlearn: 0.2226394\ttotal: 1.2s\tremaining: 3.04s\n",
      "283:\tlearn: 0.2224923\ttotal: 1.21s\tremaining: 3.04s\n",
      "284:\tlearn: 0.2222244\ttotal: 1.21s\tremaining: 3.03s\n",
      "285:\tlearn: 0.2220800\ttotal: 1.21s\tremaining: 3.03s\n",
      "286:\tlearn: 0.2219131\ttotal: 1.22s\tremaining: 3.02s\n",
      "287:\tlearn: 0.2217765\ttotal: 1.22s\tremaining: 3.02s\n",
      "288:\tlearn: 0.2215586\ttotal: 1.22s\tremaining: 3.01s\n",
      "289:\tlearn: 0.2214944\ttotal: 1.23s\tremaining: 3.01s\n",
      "290:\tlearn: 0.2214393\ttotal: 1.23s\tremaining: 3s\n",
      "291:\tlearn: 0.2213346\ttotal: 1.24s\tremaining: 3s\n",
      "292:\tlearn: 0.2212802\ttotal: 1.24s\tremaining: 2.99s\n",
      "293:\tlearn: 0.2211647\ttotal: 1.24s\tremaining: 2.99s\n",
      "294:\tlearn: 0.2209863\ttotal: 1.25s\tremaining: 2.98s\n",
      "295:\tlearn: 0.2207033\ttotal: 1.25s\tremaining: 2.98s\n",
      "296:\tlearn: 0.2205794\ttotal: 1.25s\tremaining: 2.97s\n",
      "297:\tlearn: 0.2204230\ttotal: 1.26s\tremaining: 2.97s\n",
      "298:\tlearn: 0.2203041\ttotal: 1.26s\tremaining: 2.96s\n",
      "299:\tlearn: 0.2201911\ttotal: 1.27s\tremaining: 2.96s\n",
      "300:\tlearn: 0.2200773\ttotal: 1.27s\tremaining: 2.95s\n",
      "301:\tlearn: 0.2200444\ttotal: 1.27s\tremaining: 2.95s\n",
      "302:\tlearn: 0.2198564\ttotal: 1.28s\tremaining: 2.94s\n",
      "303:\tlearn: 0.2197545\ttotal: 1.28s\tremaining: 2.94s\n",
      "304:\tlearn: 0.2196075\ttotal: 1.29s\tremaining: 2.93s\n",
      "305:\tlearn: 0.2194474\ttotal: 1.29s\tremaining: 2.93s\n",
      "306:\tlearn: 0.2194116\ttotal: 1.29s\tremaining: 2.92s\n",
      "307:\tlearn: 0.2193513\ttotal: 1.3s\tremaining: 2.92s\n",
      "308:\tlearn: 0.2192125\ttotal: 1.3s\tremaining: 2.91s\n",
      "309:\tlearn: 0.2191770\ttotal: 1.3s\tremaining: 2.9s\n",
      "310:\tlearn: 0.2190186\ttotal: 1.31s\tremaining: 2.9s\n",
      "311:\tlearn: 0.2188316\ttotal: 1.31s\tremaining: 2.89s\n",
      "312:\tlearn: 0.2187581\ttotal: 1.31s\tremaining: 2.89s\n",
      "313:\tlearn: 0.2184919\ttotal: 1.32s\tremaining: 2.88s\n",
      "314:\tlearn: 0.2183633\ttotal: 1.32s\tremaining: 2.88s\n",
      "315:\tlearn: 0.2182280\ttotal: 1.33s\tremaining: 2.87s\n",
      "316:\tlearn: 0.2180365\ttotal: 1.33s\tremaining: 2.87s\n",
      "317:\tlearn: 0.2178453\ttotal: 1.33s\tremaining: 2.86s\n",
      "318:\tlearn: 0.2176016\ttotal: 1.34s\tremaining: 2.86s\n",
      "319:\tlearn: 0.2175268\ttotal: 1.34s\tremaining: 2.85s\n",
      "320:\tlearn: 0.2172220\ttotal: 1.34s\tremaining: 2.85s\n",
      "321:\tlearn: 0.2169693\ttotal: 1.35s\tremaining: 2.84s\n",
      "322:\tlearn: 0.2167149\ttotal: 1.35s\tremaining: 2.83s\n",
      "323:\tlearn: 0.2165950\ttotal: 1.35s\tremaining: 2.83s\n",
      "324:\tlearn: 0.2165291\ttotal: 1.36s\tremaining: 2.82s\n",
      "325:\tlearn: 0.2164569\ttotal: 1.36s\tremaining: 2.81s\n"
     ]
    },
    {
     "name": "stdout",
     "output_type": "stream",
     "text": [
      "326:\tlearn: 0.2163683\ttotal: 1.36s\tremaining: 2.81s\n",
      "327:\tlearn: 0.2163369\ttotal: 1.37s\tremaining: 2.8s\n",
      "328:\tlearn: 0.2161660\ttotal: 1.37s\tremaining: 2.8s\n",
      "329:\tlearn: 0.2161003\ttotal: 1.37s\tremaining: 2.79s\n",
      "330:\tlearn: 0.2160389\ttotal: 1.38s\tremaining: 2.78s\n",
      "331:\tlearn: 0.2158807\ttotal: 1.38s\tremaining: 2.78s\n",
      "332:\tlearn: 0.2158295\ttotal: 1.38s\tremaining: 2.77s\n",
      "333:\tlearn: 0.2155861\ttotal: 1.39s\tremaining: 2.77s\n",
      "334:\tlearn: 0.2154574\ttotal: 1.39s\tremaining: 2.76s\n",
      "335:\tlearn: 0.2152540\ttotal: 1.4s\tremaining: 2.76s\n",
      "336:\tlearn: 0.2151021\ttotal: 1.4s\tremaining: 2.75s\n",
      "337:\tlearn: 0.2149383\ttotal: 1.4s\tremaining: 2.75s\n",
      "338:\tlearn: 0.2148651\ttotal: 1.41s\tremaining: 2.74s\n",
      "339:\tlearn: 0.2147113\ttotal: 1.41s\tremaining: 2.74s\n",
      "340:\tlearn: 0.2145569\ttotal: 1.41s\tremaining: 2.73s\n",
      "341:\tlearn: 0.2144766\ttotal: 1.42s\tremaining: 2.73s\n",
      "342:\tlearn: 0.2143518\ttotal: 1.42s\tremaining: 2.72s\n",
      "343:\tlearn: 0.2142857\ttotal: 1.43s\tremaining: 2.72s\n",
      "344:\tlearn: 0.2140997\ttotal: 1.43s\tremaining: 2.71s\n",
      "345:\tlearn: 0.2140267\ttotal: 1.43s\tremaining: 2.71s\n",
      "346:\tlearn: 0.2139108\ttotal: 1.44s\tremaining: 2.71s\n",
      "347:\tlearn: 0.2136882\ttotal: 1.44s\tremaining: 2.7s\n",
      "348:\tlearn: 0.2135209\ttotal: 1.44s\tremaining: 2.69s\n",
      "349:\tlearn: 0.2134578\ttotal: 1.45s\tremaining: 2.69s\n",
      "350:\tlearn: 0.2133145\ttotal: 1.45s\tremaining: 2.68s\n",
      "351:\tlearn: 0.2131822\ttotal: 1.46s\tremaining: 2.68s\n",
      "352:\tlearn: 0.2131189\ttotal: 1.46s\tremaining: 2.67s\n",
      "353:\tlearn: 0.2129870\ttotal: 1.46s\tremaining: 2.67s\n",
      "354:\tlearn: 0.2128155\ttotal: 1.47s\tremaining: 2.66s\n",
      "355:\tlearn: 0.2127423\ttotal: 1.47s\tremaining: 2.66s\n",
      "356:\tlearn: 0.2124958\ttotal: 1.47s\tremaining: 2.65s\n",
      "357:\tlearn: 0.2122839\ttotal: 1.48s\tremaining: 2.65s\n",
      "358:\tlearn: 0.2120341\ttotal: 1.48s\tremaining: 2.64s\n",
      "359:\tlearn: 0.2118569\ttotal: 1.48s\tremaining: 2.64s\n",
      "360:\tlearn: 0.2116170\ttotal: 1.49s\tremaining: 2.63s\n",
      "361:\tlearn: 0.2115277\ttotal: 1.49s\tremaining: 2.63s\n",
      "362:\tlearn: 0.2113158\ttotal: 1.49s\tremaining: 2.62s\n",
      "363:\tlearn: 0.2112687\ttotal: 1.5s\tremaining: 2.62s\n",
      "364:\tlearn: 0.2111251\ttotal: 1.5s\tremaining: 2.61s\n",
      "365:\tlearn: 0.2109696\ttotal: 1.51s\tremaining: 2.61s\n",
      "366:\tlearn: 0.2108513\ttotal: 1.51s\tremaining: 2.6s\n",
      "367:\tlearn: 0.2107512\ttotal: 1.51s\tremaining: 2.6s\n",
      "368:\tlearn: 0.2104563\ttotal: 1.52s\tremaining: 2.59s\n",
      "369:\tlearn: 0.2103758\ttotal: 1.52s\tremaining: 2.59s\n",
      "370:\tlearn: 0.2102696\ttotal: 1.52s\tremaining: 2.58s\n",
      "371:\tlearn: 0.2099104\ttotal: 1.52s\tremaining: 2.57s\n",
      "372:\tlearn: 0.2097190\ttotal: 1.53s\tremaining: 2.57s\n",
      "373:\tlearn: 0.2096721\ttotal: 1.53s\tremaining: 2.57s\n",
      "374:\tlearn: 0.2095497\ttotal: 1.54s\tremaining: 2.56s\n",
      "375:\tlearn: 0.2095017\ttotal: 1.54s\tremaining: 2.55s\n",
      "376:\tlearn: 0.2094443\ttotal: 1.54s\tremaining: 2.55s\n",
      "377:\tlearn: 0.2093836\ttotal: 1.54s\tremaining: 2.54s\n",
      "378:\tlearn: 0.2093570\ttotal: 1.55s\tremaining: 2.54s\n",
      "379:\tlearn: 0.2092187\ttotal: 1.55s\tremaining: 2.53s\n",
      "380:\tlearn: 0.2091196\ttotal: 1.55s\tremaining: 2.52s\n",
      "381:\tlearn: 0.2088879\ttotal: 1.56s\tremaining: 2.52s\n",
      "382:\tlearn: 0.2087256\ttotal: 1.56s\tremaining: 2.52s\n",
      "383:\tlearn: 0.2085303\ttotal: 1.56s\tremaining: 2.51s\n",
      "384:\tlearn: 0.2083060\ttotal: 1.57s\tremaining: 2.5s\n",
      "385:\tlearn: 0.2082631\ttotal: 1.57s\tremaining: 2.5s\n",
      "386:\tlearn: 0.2082188\ttotal: 1.58s\tremaining: 2.5s\n",
      "387:\tlearn: 0.2080673\ttotal: 1.58s\tremaining: 2.49s\n",
      "388:\tlearn: 0.2078754\ttotal: 1.58s\tremaining: 2.49s\n",
      "389:\tlearn: 0.2077514\ttotal: 1.59s\tremaining: 2.48s\n",
      "390:\tlearn: 0.2076009\ttotal: 1.59s\tremaining: 2.48s\n",
      "391:\tlearn: 0.2075155\ttotal: 1.59s\tremaining: 2.47s\n",
      "392:\tlearn: 0.2073351\ttotal: 1.6s\tremaining: 2.47s\n",
      "393:\tlearn: 0.2072490\ttotal: 1.6s\tremaining: 2.46s\n",
      "394:\tlearn: 0.2070696\ttotal: 1.61s\tremaining: 2.46s\n",
      "395:\tlearn: 0.2069027\ttotal: 1.61s\tremaining: 2.46s\n",
      "396:\tlearn: 0.2067059\ttotal: 1.61s\tremaining: 2.45s\n",
      "397:\tlearn: 0.2065463\ttotal: 1.62s\tremaining: 2.45s\n",
      "398:\tlearn: 0.2064844\ttotal: 1.62s\tremaining: 2.44s\n",
      "399:\tlearn: 0.2063587\ttotal: 1.62s\tremaining: 2.44s\n",
      "400:\tlearn: 0.2062050\ttotal: 1.63s\tremaining: 2.43s\n",
      "401:\tlearn: 0.2060463\ttotal: 1.63s\tremaining: 2.42s\n",
      "402:\tlearn: 0.2059399\ttotal: 1.64s\tremaining: 2.42s\n",
      "403:\tlearn: 0.2057379\ttotal: 1.64s\tremaining: 2.42s\n",
      "404:\tlearn: 0.2055866\ttotal: 1.64s\tremaining: 2.41s\n",
      "405:\tlearn: 0.2055446\ttotal: 1.65s\tremaining: 2.41s\n",
      "406:\tlearn: 0.2054334\ttotal: 1.65s\tremaining: 2.4s\n",
      "407:\tlearn: 0.2052551\ttotal: 1.65s\tremaining: 2.4s\n",
      "408:\tlearn: 0.2051203\ttotal: 1.66s\tremaining: 2.39s\n",
      "409:\tlearn: 0.2050594\ttotal: 1.66s\tremaining: 2.39s\n",
      "410:\tlearn: 0.2049998\ttotal: 1.66s\tremaining: 2.38s\n",
      "411:\tlearn: 0.2048753\ttotal: 1.67s\tremaining: 2.38s\n",
      "412:\tlearn: 0.2048387\ttotal: 1.67s\tremaining: 2.38s\n",
      "413:\tlearn: 0.2047228\ttotal: 1.67s\tremaining: 2.37s\n",
      "414:\tlearn: 0.2045098\ttotal: 1.68s\tremaining: 2.37s\n",
      "415:\tlearn: 0.2044359\ttotal: 1.68s\tremaining: 2.36s\n",
      "416:\tlearn: 0.2042978\ttotal: 1.69s\tremaining: 2.35s\n",
      "417:\tlearn: 0.2042392\ttotal: 1.69s\tremaining: 2.35s\n",
      "418:\tlearn: 0.2040907\ttotal: 1.69s\tremaining: 2.35s\n",
      "419:\tlearn: 0.2039167\ttotal: 1.7s\tremaining: 2.34s\n",
      "420:\tlearn: 0.2038461\ttotal: 1.7s\tremaining: 2.34s\n",
      "421:\tlearn: 0.2037294\ttotal: 1.7s\tremaining: 2.33s\n",
      "422:\tlearn: 0.2035673\ttotal: 1.71s\tremaining: 2.33s\n",
      "423:\tlearn: 0.2034720\ttotal: 1.71s\tremaining: 2.33s\n",
      "424:\tlearn: 0.2033854\ttotal: 1.72s\tremaining: 2.32s\n",
      "425:\tlearn: 0.2033544\ttotal: 1.72s\tremaining: 2.31s\n",
      "426:\tlearn: 0.2033154\ttotal: 1.72s\tremaining: 2.31s\n",
      "427:\tlearn: 0.2031974\ttotal: 1.73s\tremaining: 2.31s\n",
      "428:\tlearn: 0.2029310\ttotal: 1.73s\tremaining: 2.3s\n",
      "429:\tlearn: 0.2028493\ttotal: 1.73s\tremaining: 2.3s\n",
      "430:\tlearn: 0.2026607\ttotal: 1.74s\tremaining: 2.29s\n",
      "431:\tlearn: 0.2025183\ttotal: 1.74s\tremaining: 2.29s\n",
      "432:\tlearn: 0.2023463\ttotal: 1.74s\tremaining: 2.28s\n",
      "433:\tlearn: 0.2022627\ttotal: 1.75s\tremaining: 2.28s\n",
      "434:\tlearn: 0.2022116\ttotal: 1.75s\tremaining: 2.27s\n",
      "435:\tlearn: 0.2020803\ttotal: 1.76s\tremaining: 2.27s\n",
      "436:\tlearn: 0.2019206\ttotal: 1.76s\tremaining: 2.27s\n",
      "437:\tlearn: 0.2017785\ttotal: 1.76s\tremaining: 2.26s\n",
      "438:\tlearn: 0.2016385\ttotal: 1.77s\tremaining: 2.26s\n",
      "439:\tlearn: 0.2015062\ttotal: 1.77s\tremaining: 2.25s\n",
      "440:\tlearn: 0.2013586\ttotal: 1.77s\tremaining: 2.25s\n",
      "441:\tlearn: 0.2012268\ttotal: 1.78s\tremaining: 2.25s\n",
      "442:\tlearn: 0.2011850\ttotal: 1.78s\tremaining: 2.24s\n",
      "443:\tlearn: 0.2010542\ttotal: 1.79s\tremaining: 2.24s\n",
      "444:\tlearn: 0.2009662\ttotal: 1.79s\tremaining: 2.23s\n",
      "445:\tlearn: 0.2008073\ttotal: 1.79s\tremaining: 2.23s\n",
      "446:\tlearn: 0.2006897\ttotal: 1.8s\tremaining: 2.22s\n",
      "447:\tlearn: 0.2006180\ttotal: 1.8s\tremaining: 2.22s\n",
      "448:\tlearn: 0.2004834\ttotal: 1.8s\tremaining: 2.21s\n",
      "449:\tlearn: 0.2003922\ttotal: 1.81s\tremaining: 2.21s\n",
      "450:\tlearn: 0.2002872\ttotal: 1.81s\tremaining: 2.21s\n",
      "451:\tlearn: 0.2002106\ttotal: 1.82s\tremaining: 2.2s\n",
      "452:\tlearn: 0.2001700\ttotal: 1.82s\tremaining: 2.2s\n",
      "453:\tlearn: 0.2000655\ttotal: 1.82s\tremaining: 2.19s\n",
      "454:\tlearn: 0.1999575\ttotal: 1.83s\tremaining: 2.19s\n",
      "455:\tlearn: 0.1998842\ttotal: 1.83s\tremaining: 2.19s\n",
      "456:\tlearn: 0.1997695\ttotal: 1.83s\tremaining: 2.18s\n",
      "457:\tlearn: 0.1996826\ttotal: 1.84s\tremaining: 2.17s\n",
      "458:\tlearn: 0.1995380\ttotal: 1.84s\tremaining: 2.17s\n",
      "459:\tlearn: 0.1994534\ttotal: 1.84s\tremaining: 2.17s\n",
      "460:\tlearn: 0.1994091\ttotal: 1.85s\tremaining: 2.16s\n",
      "461:\tlearn: 0.1992530\ttotal: 1.85s\tremaining: 2.16s\n",
      "462:\tlearn: 0.1991224\ttotal: 1.86s\tremaining: 2.15s\n",
      "463:\tlearn: 0.1989715\ttotal: 1.86s\tremaining: 2.15s\n",
      "464:\tlearn: 0.1988708\ttotal: 1.86s\tremaining: 2.14s\n",
      "465:\tlearn: 0.1987752\ttotal: 1.86s\tremaining: 2.14s\n",
      "466:\tlearn: 0.1986593\ttotal: 1.87s\tremaining: 2.13s\n",
      "467:\tlearn: 0.1984917\ttotal: 1.87s\tremaining: 2.13s\n",
      "468:\tlearn: 0.1984186\ttotal: 1.88s\tremaining: 2.13s\n",
      "469:\tlearn: 0.1983254\ttotal: 1.88s\tremaining: 2.12s\n",
      "470:\tlearn: 0.1982151\ttotal: 1.88s\tremaining: 2.12s\n",
      "471:\tlearn: 0.1980789\ttotal: 1.89s\tremaining: 2.11s\n",
      "472:\tlearn: 0.1979827\ttotal: 1.89s\tremaining: 2.11s\n",
      "473:\tlearn: 0.1979559\ttotal: 1.9s\tremaining: 2.1s\n",
      "474:\tlearn: 0.1977877\ttotal: 1.9s\tremaining: 2.1s\n",
      "475:\tlearn: 0.1976666\ttotal: 1.9s\tremaining: 2.09s\n",
      "476:\tlearn: 0.1975359\ttotal: 1.91s\tremaining: 2.09s\n",
      "477:\tlearn: 0.1974398\ttotal: 1.91s\tremaining: 2.08s\n",
      "478:\tlearn: 0.1973661\ttotal: 1.91s\tremaining: 2.08s\n",
      "479:\tlearn: 0.1971719\ttotal: 1.92s\tremaining: 2.08s\n",
      "480:\tlearn: 0.1971208\ttotal: 1.92s\tremaining: 2.07s\n",
      "481:\tlearn: 0.1970284\ttotal: 1.92s\tremaining: 2.07s\n",
      "482:\tlearn: 0.1969024\ttotal: 1.93s\tremaining: 2.06s\n",
      "483:\tlearn: 0.1968065\ttotal: 1.93s\tremaining: 2.06s\n",
      "484:\tlearn: 0.1967593\ttotal: 1.94s\tremaining: 2.06s\n",
      "485:\tlearn: 0.1966527\ttotal: 1.94s\tremaining: 2.05s\n",
      "486:\tlearn: 0.1965357\ttotal: 1.94s\tremaining: 2.05s\n"
     ]
    },
    {
     "name": "stdout",
     "output_type": "stream",
     "text": [
      "487:\tlearn: 0.1964128\ttotal: 1.95s\tremaining: 2.04s\n",
      "488:\tlearn: 0.1962661\ttotal: 1.95s\tremaining: 2.04s\n",
      "489:\tlearn: 0.1962120\ttotal: 1.96s\tremaining: 2.04s\n",
      "490:\tlearn: 0.1961746\ttotal: 1.96s\tremaining: 2.03s\n",
      "491:\tlearn: 0.1961215\ttotal: 1.96s\tremaining: 2.03s\n",
      "492:\tlearn: 0.1959750\ttotal: 1.97s\tremaining: 2.02s\n",
      "493:\tlearn: 0.1958706\ttotal: 1.97s\tremaining: 2.02s\n",
      "494:\tlearn: 0.1957815\ttotal: 1.98s\tremaining: 2.02s\n",
      "495:\tlearn: 0.1956500\ttotal: 1.98s\tremaining: 2.01s\n",
      "496:\tlearn: 0.1955968\ttotal: 1.98s\tremaining: 2.01s\n",
      "497:\tlearn: 0.1955461\ttotal: 1.99s\tremaining: 2s\n",
      "498:\tlearn: 0.1954263\ttotal: 1.99s\tremaining: 2s\n",
      "499:\tlearn: 0.1952754\ttotal: 1.99s\tremaining: 1.99s\n",
      "500:\tlearn: 0.1951679\ttotal: 2s\tremaining: 1.99s\n",
      "501:\tlearn: 0.1950828\ttotal: 2s\tremaining: 1.98s\n",
      "502:\tlearn: 0.1949443\ttotal: 2s\tremaining: 1.98s\n",
      "503:\tlearn: 0.1948599\ttotal: 2.01s\tremaining: 1.98s\n",
      "504:\tlearn: 0.1947049\ttotal: 2.01s\tremaining: 1.97s\n",
      "505:\tlearn: 0.1945515\ttotal: 2.02s\tremaining: 1.97s\n",
      "506:\tlearn: 0.1944769\ttotal: 2.02s\tremaining: 1.96s\n",
      "507:\tlearn: 0.1943999\ttotal: 2.02s\tremaining: 1.96s\n",
      "508:\tlearn: 0.1943701\ttotal: 2.03s\tremaining: 1.96s\n",
      "509:\tlearn: 0.1942626\ttotal: 2.03s\tremaining: 1.95s\n",
      "510:\tlearn: 0.1941110\ttotal: 2.03s\tremaining: 1.95s\n",
      "511:\tlearn: 0.1939858\ttotal: 2.04s\tremaining: 1.94s\n",
      "512:\tlearn: 0.1937154\ttotal: 2.04s\tremaining: 1.94s\n",
      "513:\tlearn: 0.1935886\ttotal: 2.05s\tremaining: 1.93s\n",
      "514:\tlearn: 0.1935082\ttotal: 2.05s\tremaining: 1.93s\n",
      "515:\tlearn: 0.1934005\ttotal: 2.05s\tremaining: 1.93s\n",
      "516:\tlearn: 0.1932555\ttotal: 2.06s\tremaining: 1.92s\n",
      "517:\tlearn: 0.1932037\ttotal: 2.06s\tremaining: 1.92s\n",
      "518:\tlearn: 0.1931039\ttotal: 2.06s\tremaining: 1.91s\n",
      "519:\tlearn: 0.1930204\ttotal: 2.07s\tremaining: 1.91s\n",
      "520:\tlearn: 0.1929514\ttotal: 2.07s\tremaining: 1.91s\n",
      "521:\tlearn: 0.1929250\ttotal: 2.08s\tremaining: 1.9s\n",
      "522:\tlearn: 0.1928743\ttotal: 2.08s\tremaining: 1.9s\n",
      "523:\tlearn: 0.1927649\ttotal: 2.08s\tremaining: 1.89s\n",
      "524:\tlearn: 0.1927133\ttotal: 2.09s\tremaining: 1.89s\n",
      "525:\tlearn: 0.1925418\ttotal: 2.09s\tremaining: 1.89s\n",
      "526:\tlearn: 0.1925148\ttotal: 2.1s\tremaining: 1.88s\n",
      "527:\tlearn: 0.1924644\ttotal: 2.1s\tremaining: 1.88s\n",
      "528:\tlearn: 0.1923320\ttotal: 2.1s\tremaining: 1.87s\n",
      "529:\tlearn: 0.1922918\ttotal: 2.11s\tremaining: 1.87s\n",
      "530:\tlearn: 0.1921884\ttotal: 2.11s\tremaining: 1.86s\n",
      "531:\tlearn: 0.1920702\ttotal: 2.11s\tremaining: 1.86s\n",
      "532:\tlearn: 0.1919368\ttotal: 2.12s\tremaining: 1.86s\n",
      "533:\tlearn: 0.1918664\ttotal: 2.12s\tremaining: 1.85s\n",
      "534:\tlearn: 0.1917786\ttotal: 2.13s\tremaining: 1.85s\n",
      "535:\tlearn: 0.1916784\ttotal: 2.13s\tremaining: 1.84s\n",
      "536:\tlearn: 0.1915620\ttotal: 2.13s\tremaining: 1.84s\n",
      "537:\tlearn: 0.1914481\ttotal: 2.13s\tremaining: 1.83s\n",
      "538:\tlearn: 0.1913835\ttotal: 2.14s\tremaining: 1.83s\n",
      "539:\tlearn: 0.1913043\ttotal: 2.14s\tremaining: 1.82s\n",
      "540:\tlearn: 0.1911896\ttotal: 2.15s\tremaining: 1.82s\n",
      "541:\tlearn: 0.1910749\ttotal: 2.15s\tremaining: 1.82s\n",
      "542:\tlearn: 0.1910510\ttotal: 2.15s\tremaining: 1.81s\n",
      "543:\tlearn: 0.1909012\ttotal: 2.16s\tremaining: 1.81s\n",
      "544:\tlearn: 0.1907840\ttotal: 2.16s\tremaining: 1.8s\n",
      "545:\tlearn: 0.1906899\ttotal: 2.17s\tremaining: 1.8s\n",
      "546:\tlearn: 0.1905594\ttotal: 2.17s\tremaining: 1.8s\n",
      "547:\tlearn: 0.1905221\ttotal: 2.17s\tremaining: 1.79s\n",
      "548:\tlearn: 0.1904269\ttotal: 2.18s\tremaining: 1.79s\n",
      "549:\tlearn: 0.1903630\ttotal: 2.18s\tremaining: 1.78s\n",
      "550:\tlearn: 0.1902527\ttotal: 2.18s\tremaining: 1.78s\n",
      "551:\tlearn: 0.1902334\ttotal: 2.19s\tremaining: 1.77s\n",
      "552:\tlearn: 0.1901643\ttotal: 2.19s\tremaining: 1.77s\n",
      "553:\tlearn: 0.1900718\ttotal: 2.19s\tremaining: 1.77s\n",
      "554:\tlearn: 0.1900345\ttotal: 2.2s\tremaining: 1.76s\n",
      "555:\tlearn: 0.1898947\ttotal: 2.2s\tremaining: 1.76s\n",
      "556:\tlearn: 0.1898262\ttotal: 2.21s\tremaining: 1.75s\n",
      "557:\tlearn: 0.1897657\ttotal: 2.21s\tremaining: 1.75s\n",
      "558:\tlearn: 0.1896602\ttotal: 2.21s\tremaining: 1.75s\n",
      "559:\tlearn: 0.1895846\ttotal: 2.22s\tremaining: 1.74s\n",
      "560:\tlearn: 0.1895461\ttotal: 2.22s\tremaining: 1.74s\n",
      "561:\tlearn: 0.1895125\ttotal: 2.22s\tremaining: 1.73s\n",
      "562:\tlearn: 0.1894803\ttotal: 2.23s\tremaining: 1.73s\n",
      "563:\tlearn: 0.1893552\ttotal: 2.23s\tremaining: 1.72s\n",
      "564:\tlearn: 0.1892476\ttotal: 2.23s\tremaining: 1.72s\n",
      "565:\tlearn: 0.1891405\ttotal: 2.24s\tremaining: 1.72s\n",
      "566:\tlearn: 0.1890502\ttotal: 2.24s\tremaining: 1.71s\n",
      "567:\tlearn: 0.1889751\ttotal: 2.25s\tremaining: 1.71s\n",
      "568:\tlearn: 0.1887500\ttotal: 2.25s\tremaining: 1.7s\n",
      "569:\tlearn: 0.1886484\ttotal: 2.25s\tremaining: 1.7s\n",
      "570:\tlearn: 0.1886179\ttotal: 2.26s\tremaining: 1.7s\n",
      "571:\tlearn: 0.1885233\ttotal: 2.26s\tremaining: 1.69s\n",
      "572:\tlearn: 0.1883520\ttotal: 2.27s\tremaining: 1.69s\n",
      "573:\tlearn: 0.1882664\ttotal: 2.27s\tremaining: 1.68s\n",
      "574:\tlearn: 0.1881204\ttotal: 2.27s\tremaining: 1.68s\n",
      "575:\tlearn: 0.1880246\ttotal: 2.28s\tremaining: 1.68s\n",
      "576:\tlearn: 0.1879459\ttotal: 2.28s\tremaining: 1.67s\n",
      "577:\tlearn: 0.1879182\ttotal: 2.28s\tremaining: 1.67s\n",
      "578:\tlearn: 0.1877982\ttotal: 2.29s\tremaining: 1.66s\n",
      "579:\tlearn: 0.1877756\ttotal: 2.29s\tremaining: 1.66s\n",
      "580:\tlearn: 0.1876359\ttotal: 2.29s\tremaining: 1.66s\n",
      "581:\tlearn: 0.1875915\ttotal: 2.3s\tremaining: 1.65s\n",
      "582:\tlearn: 0.1875107\ttotal: 2.3s\tremaining: 1.65s\n",
      "583:\tlearn: 0.1874661\ttotal: 2.31s\tremaining: 1.64s\n",
      "584:\tlearn: 0.1874225\ttotal: 2.31s\tremaining: 1.64s\n",
      "585:\tlearn: 0.1873515\ttotal: 2.31s\tremaining: 1.63s\n",
      "586:\tlearn: 0.1872149\ttotal: 2.32s\tremaining: 1.63s\n",
      "587:\tlearn: 0.1871417\ttotal: 2.32s\tremaining: 1.63s\n",
      "588:\tlearn: 0.1870193\ttotal: 2.33s\tremaining: 1.62s\n",
      "589:\tlearn: 0.1869185\ttotal: 2.33s\tremaining: 1.62s\n",
      "590:\tlearn: 0.1868655\ttotal: 2.33s\tremaining: 1.61s\n",
      "591:\tlearn: 0.1867777\ttotal: 2.34s\tremaining: 1.61s\n",
      "592:\tlearn: 0.1866076\ttotal: 2.34s\tremaining: 1.61s\n",
      "593:\tlearn: 0.1865732\ttotal: 2.34s\tremaining: 1.6s\n",
      "594:\tlearn: 0.1865109\ttotal: 2.35s\tremaining: 1.6s\n",
      "595:\tlearn: 0.1864697\ttotal: 2.35s\tremaining: 1.59s\n",
      "596:\tlearn: 0.1864316\ttotal: 2.35s\tremaining: 1.59s\n",
      "597:\tlearn: 0.1862679\ttotal: 2.36s\tremaining: 1.58s\n",
      "598:\tlearn: 0.1861624\ttotal: 2.36s\tremaining: 1.58s\n",
      "599:\tlearn: 0.1861236\ttotal: 2.36s\tremaining: 1.58s\n",
      "600:\tlearn: 0.1859978\ttotal: 2.37s\tremaining: 1.57s\n",
      "601:\tlearn: 0.1859242\ttotal: 2.37s\tremaining: 1.57s\n",
      "602:\tlearn: 0.1858108\ttotal: 2.37s\tremaining: 1.56s\n",
      "603:\tlearn: 0.1857686\ttotal: 2.38s\tremaining: 1.56s\n",
      "604:\tlearn: 0.1856992\ttotal: 2.38s\tremaining: 1.55s\n",
      "605:\tlearn: 0.1856390\ttotal: 2.38s\tremaining: 1.55s\n",
      "606:\tlearn: 0.1855371\ttotal: 2.39s\tremaining: 1.54s\n",
      "607:\tlearn: 0.1854918\ttotal: 2.39s\tremaining: 1.54s\n",
      "608:\tlearn: 0.1854232\ttotal: 2.39s\tremaining: 1.54s\n",
      "609:\tlearn: 0.1853438\ttotal: 2.4s\tremaining: 1.53s\n",
      "610:\tlearn: 0.1852436\ttotal: 2.4s\tremaining: 1.53s\n",
      "611:\tlearn: 0.1851783\ttotal: 2.4s\tremaining: 1.52s\n",
      "612:\tlearn: 0.1850622\ttotal: 2.41s\tremaining: 1.52s\n",
      "613:\tlearn: 0.1849718\ttotal: 2.41s\tremaining: 1.52s\n",
      "614:\tlearn: 0.1849518\ttotal: 2.42s\tremaining: 1.51s\n",
      "615:\tlearn: 0.1848417\ttotal: 2.42s\tremaining: 1.51s\n",
      "616:\tlearn: 0.1847298\ttotal: 2.42s\tremaining: 1.5s\n",
      "617:\tlearn: 0.1846660\ttotal: 2.42s\tremaining: 1.5s\n",
      "618:\tlearn: 0.1845407\ttotal: 2.43s\tremaining: 1.5s\n",
      "619:\tlearn: 0.1844738\ttotal: 2.43s\tremaining: 1.49s\n",
      "620:\tlearn: 0.1844390\ttotal: 2.44s\tremaining: 1.49s\n",
      "621:\tlearn: 0.1843911\ttotal: 2.44s\tremaining: 1.48s\n",
      "622:\tlearn: 0.1843344\ttotal: 2.44s\tremaining: 1.48s\n",
      "623:\tlearn: 0.1843110\ttotal: 2.45s\tremaining: 1.48s\n",
      "624:\tlearn: 0.1842435\ttotal: 2.45s\tremaining: 1.47s\n",
      "625:\tlearn: 0.1841502\ttotal: 2.46s\tremaining: 1.47s\n",
      "626:\tlearn: 0.1840852\ttotal: 2.46s\tremaining: 1.47s\n",
      "627:\tlearn: 0.1840169\ttotal: 2.47s\tremaining: 1.46s\n",
      "628:\tlearn: 0.1839270\ttotal: 2.47s\tremaining: 1.46s\n",
      "629:\tlearn: 0.1838444\ttotal: 2.47s\tremaining: 1.45s\n",
      "630:\tlearn: 0.1836556\ttotal: 2.48s\tremaining: 1.45s\n",
      "631:\tlearn: 0.1836363\ttotal: 2.48s\tremaining: 1.44s\n",
      "632:\tlearn: 0.1835173\ttotal: 2.49s\tremaining: 1.44s\n",
      "633:\tlearn: 0.1834206\ttotal: 2.49s\tremaining: 1.44s\n",
      "634:\tlearn: 0.1833971\ttotal: 2.49s\tremaining: 1.43s\n",
      "635:\tlearn: 0.1833455\ttotal: 2.5s\tremaining: 1.43s\n",
      "636:\tlearn: 0.1832346\ttotal: 2.5s\tremaining: 1.43s\n",
      "637:\tlearn: 0.1831895\ttotal: 2.51s\tremaining: 1.42s\n",
      "638:\tlearn: 0.1831400\ttotal: 2.51s\tremaining: 1.42s\n",
      "639:\tlearn: 0.1830506\ttotal: 2.51s\tremaining: 1.41s\n",
      "640:\tlearn: 0.1829498\ttotal: 2.52s\tremaining: 1.41s\n",
      "641:\tlearn: 0.1829315\ttotal: 2.52s\tremaining: 1.41s\n",
      "642:\tlearn: 0.1828885\ttotal: 2.52s\tremaining: 1.4s\n",
      "643:\tlearn: 0.1828038\ttotal: 2.53s\tremaining: 1.4s\n",
      "644:\tlearn: 0.1827235\ttotal: 2.53s\tremaining: 1.39s\n",
      "645:\tlearn: 0.1826638\ttotal: 2.54s\tremaining: 1.39s\n",
      "646:\tlearn: 0.1825967\ttotal: 2.54s\tremaining: 1.39s\n",
      "647:\tlearn: 0.1824953\ttotal: 2.54s\tremaining: 1.38s\n",
      "648:\tlearn: 0.1823897\ttotal: 2.55s\tremaining: 1.38s\n",
      "649:\tlearn: 0.1823613\ttotal: 2.55s\tremaining: 1.38s\n",
      "650:\tlearn: 0.1822796\ttotal: 2.56s\tremaining: 1.37s\n"
     ]
    },
    {
     "name": "stdout",
     "output_type": "stream",
     "text": [
      "651:\tlearn: 0.1822472\ttotal: 2.57s\tremaining: 1.37s\n",
      "652:\tlearn: 0.1821447\ttotal: 2.58s\tremaining: 1.37s\n",
      "653:\tlearn: 0.1820533\ttotal: 2.59s\tremaining: 1.37s\n",
      "654:\tlearn: 0.1819353\ttotal: 2.6s\tremaining: 1.37s\n",
      "655:\tlearn: 0.1817792\ttotal: 2.61s\tremaining: 1.37s\n",
      "656:\tlearn: 0.1817172\ttotal: 2.62s\tremaining: 1.37s\n",
      "657:\tlearn: 0.1816442\ttotal: 2.63s\tremaining: 1.36s\n",
      "658:\tlearn: 0.1815597\ttotal: 2.63s\tremaining: 1.36s\n",
      "659:\tlearn: 0.1814756\ttotal: 2.64s\tremaining: 1.36s\n",
      "660:\tlearn: 0.1813789\ttotal: 2.65s\tremaining: 1.36s\n",
      "661:\tlearn: 0.1813620\ttotal: 2.66s\tremaining: 1.36s\n",
      "662:\tlearn: 0.1813376\ttotal: 2.67s\tremaining: 1.36s\n",
      "663:\tlearn: 0.1812687\ttotal: 2.67s\tremaining: 1.35s\n",
      "664:\tlearn: 0.1811763\ttotal: 2.69s\tremaining: 1.35s\n",
      "665:\tlearn: 0.1811046\ttotal: 2.69s\tremaining: 1.35s\n",
      "666:\tlearn: 0.1810485\ttotal: 2.7s\tremaining: 1.35s\n",
      "667:\tlearn: 0.1809630\ttotal: 2.71s\tremaining: 1.35s\n",
      "668:\tlearn: 0.1808817\ttotal: 2.72s\tremaining: 1.34s\n",
      "669:\tlearn: 0.1808079\ttotal: 2.72s\tremaining: 1.34s\n",
      "670:\tlearn: 0.1807831\ttotal: 2.73s\tremaining: 1.34s\n",
      "671:\tlearn: 0.1806958\ttotal: 2.74s\tremaining: 1.34s\n",
      "672:\tlearn: 0.1806654\ttotal: 2.75s\tremaining: 1.33s\n",
      "673:\tlearn: 0.1804777\ttotal: 2.75s\tremaining: 1.33s\n",
      "674:\tlearn: 0.1803724\ttotal: 2.77s\tremaining: 1.33s\n",
      "675:\tlearn: 0.1803046\ttotal: 2.77s\tremaining: 1.33s\n",
      "676:\tlearn: 0.1802272\ttotal: 2.78s\tremaining: 1.33s\n",
      "677:\tlearn: 0.1801154\ttotal: 2.79s\tremaining: 1.32s\n",
      "678:\tlearn: 0.1800909\ttotal: 2.79s\tremaining: 1.32s\n",
      "679:\tlearn: 0.1800056\ttotal: 2.8s\tremaining: 1.32s\n",
      "680:\tlearn: 0.1799514\ttotal: 2.81s\tremaining: 1.32s\n",
      "681:\tlearn: 0.1798302\ttotal: 2.82s\tremaining: 1.31s\n",
      "682:\tlearn: 0.1797015\ttotal: 2.83s\tremaining: 1.31s\n",
      "683:\tlearn: 0.1796271\ttotal: 2.83s\tremaining: 1.31s\n",
      "684:\tlearn: 0.1796155\ttotal: 2.84s\tremaining: 1.31s\n",
      "685:\tlearn: 0.1795111\ttotal: 2.85s\tremaining: 1.3s\n",
      "686:\tlearn: 0.1793920\ttotal: 2.86s\tremaining: 1.3s\n",
      "687:\tlearn: 0.1793735\ttotal: 2.87s\tremaining: 1.3s\n",
      "688:\tlearn: 0.1791754\ttotal: 2.88s\tremaining: 1.3s\n",
      "689:\tlearn: 0.1791429\ttotal: 2.89s\tremaining: 1.3s\n",
      "690:\tlearn: 0.1790685\ttotal: 2.9s\tremaining: 1.29s\n",
      "691:\tlearn: 0.1789678\ttotal: 2.91s\tremaining: 1.29s\n",
      "692:\tlearn: 0.1788857\ttotal: 2.92s\tremaining: 1.29s\n",
      "693:\tlearn: 0.1787878\ttotal: 2.93s\tremaining: 1.29s\n",
      "694:\tlearn: 0.1787018\ttotal: 2.94s\tremaining: 1.29s\n",
      "695:\tlearn: 0.1786368\ttotal: 2.94s\tremaining: 1.28s\n",
      "696:\tlearn: 0.1786067\ttotal: 2.95s\tremaining: 1.28s\n",
      "697:\tlearn: 0.1785509\ttotal: 2.96s\tremaining: 1.28s\n",
      "698:\tlearn: 0.1784261\ttotal: 2.97s\tremaining: 1.28s\n",
      "699:\tlearn: 0.1783329\ttotal: 2.98s\tremaining: 1.28s\n",
      "700:\tlearn: 0.1782635\ttotal: 2.98s\tremaining: 1.27s\n",
      "701:\tlearn: 0.1781872\ttotal: 3s\tremaining: 1.27s\n",
      "702:\tlearn: 0.1781381\ttotal: 3s\tremaining: 1.27s\n",
      "703:\tlearn: 0.1780279\ttotal: 3.01s\tremaining: 1.27s\n",
      "704:\tlearn: 0.1779381\ttotal: 3.02s\tremaining: 1.26s\n",
      "705:\tlearn: 0.1779060\ttotal: 3.03s\tremaining: 1.26s\n",
      "706:\tlearn: 0.1777181\ttotal: 3.04s\tremaining: 1.26s\n",
      "707:\tlearn: 0.1776386\ttotal: 3.05s\tremaining: 1.26s\n",
      "708:\tlearn: 0.1775392\ttotal: 3.06s\tremaining: 1.25s\n",
      "709:\tlearn: 0.1774768\ttotal: 3.06s\tremaining: 1.25s\n",
      "710:\tlearn: 0.1774069\ttotal: 3.07s\tremaining: 1.25s\n",
      "711:\tlearn: 0.1773757\ttotal: 3.08s\tremaining: 1.25s\n",
      "712:\tlearn: 0.1773317\ttotal: 3.09s\tremaining: 1.24s\n",
      "713:\tlearn: 0.1772276\ttotal: 3.09s\tremaining: 1.24s\n",
      "714:\tlearn: 0.1771072\ttotal: 3.1s\tremaining: 1.24s\n",
      "715:\tlearn: 0.1770971\ttotal: 3.11s\tremaining: 1.23s\n",
      "716:\tlearn: 0.1770204\ttotal: 3.12s\tremaining: 1.23s\n",
      "717:\tlearn: 0.1769720\ttotal: 3.13s\tremaining: 1.23s\n",
      "718:\tlearn: 0.1769582\ttotal: 3.14s\tremaining: 1.23s\n",
      "719:\tlearn: 0.1769239\ttotal: 3.14s\tremaining: 1.22s\n",
      "720:\tlearn: 0.1768709\ttotal: 3.15s\tremaining: 1.22s\n",
      "721:\tlearn: 0.1768366\ttotal: 3.15s\tremaining: 1.21s\n",
      "722:\tlearn: 0.1766704\ttotal: 3.16s\tremaining: 1.21s\n",
      "723:\tlearn: 0.1766025\ttotal: 3.17s\tremaining: 1.21s\n",
      "724:\tlearn: 0.1765216\ttotal: 3.17s\tremaining: 1.2s\n",
      "725:\tlearn: 0.1765026\ttotal: 3.17s\tremaining: 1.2s\n",
      "726:\tlearn: 0.1763847\ttotal: 3.18s\tremaining: 1.19s\n",
      "727:\tlearn: 0.1762625\ttotal: 3.19s\tremaining: 1.19s\n",
      "728:\tlearn: 0.1762269\ttotal: 3.19s\tremaining: 1.19s\n",
      "729:\tlearn: 0.1761400\ttotal: 3.2s\tremaining: 1.18s\n",
      "730:\tlearn: 0.1760867\ttotal: 3.2s\tremaining: 1.18s\n",
      "731:\tlearn: 0.1760577\ttotal: 3.21s\tremaining: 1.17s\n",
      "732:\tlearn: 0.1759906\ttotal: 3.21s\tremaining: 1.17s\n",
      "733:\tlearn: 0.1759654\ttotal: 3.21s\tremaining: 1.17s\n",
      "734:\tlearn: 0.1758998\ttotal: 3.22s\tremaining: 1.16s\n",
      "735:\tlearn: 0.1758122\ttotal: 3.22s\tremaining: 1.16s\n",
      "736:\tlearn: 0.1757514\ttotal: 3.23s\tremaining: 1.15s\n",
      "737:\tlearn: 0.1756214\ttotal: 3.23s\tremaining: 1.15s\n",
      "738:\tlearn: 0.1755669\ttotal: 3.24s\tremaining: 1.14s\n",
      "739:\tlearn: 0.1754628\ttotal: 3.24s\tremaining: 1.14s\n",
      "740:\tlearn: 0.1753087\ttotal: 3.25s\tremaining: 1.13s\n",
      "741:\tlearn: 0.1752617\ttotal: 3.25s\tremaining: 1.13s\n",
      "742:\tlearn: 0.1751540\ttotal: 3.26s\tremaining: 1.13s\n",
      "743:\tlearn: 0.1750540\ttotal: 3.26s\tremaining: 1.12s\n",
      "744:\tlearn: 0.1749205\ttotal: 3.26s\tremaining: 1.12s\n",
      "745:\tlearn: 0.1748563\ttotal: 3.27s\tremaining: 1.11s\n",
      "746:\tlearn: 0.1747478\ttotal: 3.27s\tremaining: 1.11s\n",
      "747:\tlearn: 0.1746854\ttotal: 3.27s\tremaining: 1.1s\n",
      "748:\tlearn: 0.1746051\ttotal: 3.28s\tremaining: 1.1s\n",
      "749:\tlearn: 0.1745399\ttotal: 3.28s\tremaining: 1.09s\n",
      "750:\tlearn: 0.1743333\ttotal: 3.28s\tremaining: 1.09s\n",
      "751:\tlearn: 0.1742786\ttotal: 3.29s\tremaining: 1.08s\n",
      "752:\tlearn: 0.1742015\ttotal: 3.29s\tremaining: 1.08s\n",
      "753:\tlearn: 0.1740700\ttotal: 3.3s\tremaining: 1.07s\n",
      "754:\tlearn: 0.1739833\ttotal: 3.3s\tremaining: 1.07s\n",
      "755:\tlearn: 0.1738669\ttotal: 3.3s\tremaining: 1.07s\n",
      "756:\tlearn: 0.1738413\ttotal: 3.31s\tremaining: 1.06s\n",
      "757:\tlearn: 0.1737645\ttotal: 3.31s\tremaining: 1.06s\n",
      "758:\tlearn: 0.1736759\ttotal: 3.32s\tremaining: 1.05s\n",
      "759:\tlearn: 0.1736092\ttotal: 3.32s\tremaining: 1.05s\n",
      "760:\tlearn: 0.1735697\ttotal: 3.32s\tremaining: 1.04s\n",
      "761:\tlearn: 0.1735217\ttotal: 3.33s\tremaining: 1.04s\n",
      "762:\tlearn: 0.1734204\ttotal: 3.33s\tremaining: 1.03s\n",
      "763:\tlearn: 0.1733075\ttotal: 3.34s\tremaining: 1.03s\n",
      "764:\tlearn: 0.1732845\ttotal: 3.34s\tremaining: 1.03s\n",
      "765:\tlearn: 0.1732108\ttotal: 3.35s\tremaining: 1.02s\n",
      "766:\tlearn: 0.1731618\ttotal: 3.35s\tremaining: 1.02s\n",
      "767:\tlearn: 0.1731060\ttotal: 3.36s\tremaining: 1.01s\n",
      "768:\tlearn: 0.1730053\ttotal: 3.36s\tremaining: 1.01s\n",
      "769:\tlearn: 0.1729656\ttotal: 3.37s\tremaining: 1s\n",
      "770:\tlearn: 0.1729259\ttotal: 3.37s\tremaining: 1s\n",
      "771:\tlearn: 0.1728902\ttotal: 3.38s\tremaining: 998ms\n",
      "772:\tlearn: 0.1728154\ttotal: 3.38s\tremaining: 993ms\n",
      "773:\tlearn: 0.1726278\ttotal: 3.39s\tremaining: 989ms\n",
      "774:\tlearn: 0.1725218\ttotal: 3.39s\tremaining: 985ms\n",
      "775:\tlearn: 0.1724427\ttotal: 3.4s\tremaining: 980ms\n",
      "776:\tlearn: 0.1724051\ttotal: 3.4s\tremaining: 976ms\n",
      "777:\tlearn: 0.1723219\ttotal: 3.4s\tremaining: 972ms\n",
      "778:\tlearn: 0.1722809\ttotal: 3.41s\tremaining: 967ms\n",
      "779:\tlearn: 0.1722583\ttotal: 3.41s\tremaining: 963ms\n",
      "780:\tlearn: 0.1721861\ttotal: 3.42s\tremaining: 959ms\n",
      "781:\tlearn: 0.1720675\ttotal: 3.42s\tremaining: 954ms\n",
      "782:\tlearn: 0.1720161\ttotal: 3.43s\tremaining: 950ms\n",
      "783:\tlearn: 0.1719161\ttotal: 3.43s\tremaining: 945ms\n",
      "784:\tlearn: 0.1718449\ttotal: 3.44s\tremaining: 941ms\n",
      "785:\tlearn: 0.1718234\ttotal: 3.44s\tremaining: 937ms\n",
      "786:\tlearn: 0.1717099\ttotal: 3.44s\tremaining: 932ms\n",
      "787:\tlearn: 0.1716343\ttotal: 3.45s\tremaining: 928ms\n",
      "788:\tlearn: 0.1715780\ttotal: 3.45s\tremaining: 924ms\n",
      "789:\tlearn: 0.1715429\ttotal: 3.46s\tremaining: 919ms\n",
      "790:\tlearn: 0.1715223\ttotal: 3.46s\tremaining: 915ms\n",
      "791:\tlearn: 0.1714534\ttotal: 3.47s\tremaining: 911ms\n",
      "792:\tlearn: 0.1714098\ttotal: 3.47s\tremaining: 907ms\n",
      "793:\tlearn: 0.1713347\ttotal: 3.48s\tremaining: 902ms\n",
      "794:\tlearn: 0.1712761\ttotal: 3.48s\tremaining: 898ms\n",
      "795:\tlearn: 0.1712245\ttotal: 3.49s\tremaining: 894ms\n",
      "796:\tlearn: 0.1711439\ttotal: 3.49s\tremaining: 889ms\n",
      "797:\tlearn: 0.1710822\ttotal: 3.5s\tremaining: 885ms\n",
      "798:\tlearn: 0.1710031\ttotal: 3.5s\tremaining: 881ms\n",
      "799:\tlearn: 0.1709400\ttotal: 3.5s\tremaining: 876ms\n",
      "800:\tlearn: 0.1709041\ttotal: 3.51s\tremaining: 872ms\n",
      "801:\tlearn: 0.1708550\ttotal: 3.52s\tremaining: 868ms\n",
      "802:\tlearn: 0.1707959\ttotal: 3.52s\tremaining: 864ms\n",
      "803:\tlearn: 0.1706399\ttotal: 3.52s\tremaining: 859ms\n",
      "804:\tlearn: 0.1705849\ttotal: 3.53s\tremaining: 855ms\n",
      "805:\tlearn: 0.1705537\ttotal: 3.53s\tremaining: 851ms\n",
      "806:\tlearn: 0.1705117\ttotal: 3.54s\tremaining: 847ms\n",
      "807:\tlearn: 0.1704699\ttotal: 3.54s\tremaining: 842ms\n",
      "808:\tlearn: 0.1703020\ttotal: 3.55s\tremaining: 838ms\n",
      "809:\tlearn: 0.1701616\ttotal: 3.55s\tremaining: 834ms\n",
      "810:\tlearn: 0.1700629\ttotal: 3.56s\tremaining: 829ms\n",
      "811:\tlearn: 0.1700299\ttotal: 3.56s\tremaining: 825ms\n",
      "812:\tlearn: 0.1699639\ttotal: 3.57s\tremaining: 820ms\n",
      "813:\tlearn: 0.1697688\ttotal: 3.57s\tremaining: 816ms\n",
      "814:\tlearn: 0.1696809\ttotal: 3.58s\tremaining: 812ms\n",
      "815:\tlearn: 0.1696298\ttotal: 3.58s\tremaining: 807ms\n",
      "816:\tlearn: 0.1695638\ttotal: 3.58s\tremaining: 803ms\n",
      "817:\tlearn: 0.1695193\ttotal: 3.59s\tremaining: 799ms\n"
     ]
    },
    {
     "name": "stdout",
     "output_type": "stream",
     "text": [
      "818:\tlearn: 0.1694464\ttotal: 3.6s\tremaining: 795ms\n",
      "819:\tlearn: 0.1693475\ttotal: 3.6s\tremaining: 790ms\n",
      "820:\tlearn: 0.1693024\ttotal: 3.6s\tremaining: 786ms\n",
      "821:\tlearn: 0.1692702\ttotal: 3.61s\tremaining: 782ms\n",
      "822:\tlearn: 0.1691913\ttotal: 3.61s\tremaining: 777ms\n",
      "823:\tlearn: 0.1691328\ttotal: 3.62s\tremaining: 773ms\n",
      "824:\tlearn: 0.1690784\ttotal: 3.62s\tremaining: 769ms\n",
      "825:\tlearn: 0.1689435\ttotal: 3.63s\tremaining: 764ms\n",
      "826:\tlearn: 0.1689051\ttotal: 3.63s\tremaining: 760ms\n",
      "827:\tlearn: 0.1688752\ttotal: 3.64s\tremaining: 755ms\n",
      "828:\tlearn: 0.1688155\ttotal: 3.64s\tremaining: 751ms\n",
      "829:\tlearn: 0.1687764\ttotal: 3.65s\tremaining: 747ms\n",
      "830:\tlearn: 0.1687179\ttotal: 3.65s\tremaining: 743ms\n",
      "831:\tlearn: 0.1686796\ttotal: 3.66s\tremaining: 738ms\n",
      "832:\tlearn: 0.1686291\ttotal: 3.66s\tremaining: 734ms\n",
      "833:\tlearn: 0.1685536\ttotal: 3.67s\tremaining: 730ms\n",
      "834:\tlearn: 0.1684392\ttotal: 3.67s\tremaining: 725ms\n",
      "835:\tlearn: 0.1683738\ttotal: 3.67s\tremaining: 721ms\n",
      "836:\tlearn: 0.1683310\ttotal: 3.68s\tremaining: 717ms\n",
      "837:\tlearn: 0.1682727\ttotal: 3.68s\tremaining: 712ms\n",
      "838:\tlearn: 0.1682414\ttotal: 3.69s\tremaining: 708ms\n",
      "839:\tlearn: 0.1681651\ttotal: 3.69s\tremaining: 704ms\n",
      "840:\tlearn: 0.1681109\ttotal: 3.7s\tremaining: 699ms\n",
      "841:\tlearn: 0.1680854\ttotal: 3.7s\tremaining: 695ms\n",
      "842:\tlearn: 0.1679347\ttotal: 3.71s\tremaining: 690ms\n",
      "843:\tlearn: 0.1678969\ttotal: 3.71s\tremaining: 686ms\n",
      "844:\tlearn: 0.1678285\ttotal: 3.72s\tremaining: 682ms\n",
      "845:\tlearn: 0.1677748\ttotal: 3.72s\tremaining: 677ms\n",
      "846:\tlearn: 0.1676502\ttotal: 3.73s\tremaining: 673ms\n",
      "847:\tlearn: 0.1675929\ttotal: 3.73s\tremaining: 669ms\n",
      "848:\tlearn: 0.1675554\ttotal: 3.73s\tremaining: 664ms\n",
      "849:\tlearn: 0.1674734\ttotal: 3.74s\tremaining: 660ms\n",
      "850:\tlearn: 0.1674446\ttotal: 3.74s\tremaining: 656ms\n",
      "851:\tlearn: 0.1674160\ttotal: 3.75s\tremaining: 651ms\n",
      "852:\tlearn: 0.1673580\ttotal: 3.75s\tremaining: 647ms\n",
      "853:\tlearn: 0.1673171\ttotal: 3.76s\tremaining: 642ms\n",
      "854:\tlearn: 0.1672392\ttotal: 3.76s\tremaining: 638ms\n",
      "855:\tlearn: 0.1671933\ttotal: 3.77s\tremaining: 634ms\n",
      "856:\tlearn: 0.1671089\ttotal: 3.77s\tremaining: 629ms\n",
      "857:\tlearn: 0.1670264\ttotal: 3.78s\tremaining: 625ms\n",
      "858:\tlearn: 0.1669681\ttotal: 3.78s\tremaining: 621ms\n",
      "859:\tlearn: 0.1669313\ttotal: 3.79s\tremaining: 617ms\n",
      "860:\tlearn: 0.1668644\ttotal: 3.79s\tremaining: 612ms\n",
      "861:\tlearn: 0.1668265\ttotal: 3.8s\tremaining: 608ms\n",
      "862:\tlearn: 0.1667621\ttotal: 3.8s\tremaining: 604ms\n",
      "863:\tlearn: 0.1667344\ttotal: 3.81s\tremaining: 599ms\n",
      "864:\tlearn: 0.1667105\ttotal: 3.81s\tremaining: 595ms\n",
      "865:\tlearn: 0.1665954\ttotal: 3.82s\tremaining: 590ms\n",
      "866:\tlearn: 0.1665036\ttotal: 3.82s\tremaining: 586ms\n",
      "867:\tlearn: 0.1664653\ttotal: 3.83s\tremaining: 582ms\n",
      "868:\tlearn: 0.1664076\ttotal: 3.83s\tremaining: 577ms\n",
      "869:\tlearn: 0.1663215\ttotal: 3.83s\tremaining: 573ms\n",
      "870:\tlearn: 0.1662935\ttotal: 3.84s\tremaining: 568ms\n",
      "871:\tlearn: 0.1662461\ttotal: 3.84s\tremaining: 564ms\n",
      "872:\tlearn: 0.1661593\ttotal: 3.85s\tremaining: 559ms\n",
      "873:\tlearn: 0.1660666\ttotal: 3.85s\tremaining: 555ms\n",
      "874:\tlearn: 0.1660168\ttotal: 3.85s\tremaining: 551ms\n",
      "875:\tlearn: 0.1659780\ttotal: 3.86s\tremaining: 546ms\n",
      "876:\tlearn: 0.1659231\ttotal: 3.86s\tremaining: 542ms\n",
      "877:\tlearn: 0.1658828\ttotal: 3.87s\tremaining: 538ms\n",
      "878:\tlearn: 0.1658425\ttotal: 3.87s\tremaining: 533ms\n",
      "879:\tlearn: 0.1657635\ttotal: 3.88s\tremaining: 529ms\n",
      "880:\tlearn: 0.1657306\ttotal: 3.88s\tremaining: 525ms\n",
      "881:\tlearn: 0.1656085\ttotal: 3.89s\tremaining: 520ms\n",
      "882:\tlearn: 0.1655686\ttotal: 3.89s\tremaining: 516ms\n",
      "883:\tlearn: 0.1654792\ttotal: 3.9s\tremaining: 511ms\n",
      "884:\tlearn: 0.1653892\ttotal: 3.9s\tremaining: 507ms\n",
      "885:\tlearn: 0.1652995\ttotal: 3.9s\tremaining: 503ms\n",
      "886:\tlearn: 0.1652409\ttotal: 3.91s\tremaining: 498ms\n",
      "887:\tlearn: 0.1652129\ttotal: 3.92s\tremaining: 494ms\n",
      "888:\tlearn: 0.1651799\ttotal: 3.92s\tremaining: 489ms\n",
      "889:\tlearn: 0.1651562\ttotal: 3.92s\tremaining: 485ms\n",
      "890:\tlearn: 0.1651157\ttotal: 3.93s\tremaining: 481ms\n",
      "891:\tlearn: 0.1650256\ttotal: 3.93s\tremaining: 476ms\n",
      "892:\tlearn: 0.1649595\ttotal: 3.94s\tremaining: 472ms\n",
      "893:\tlearn: 0.1648940\ttotal: 3.94s\tremaining: 468ms\n",
      "894:\tlearn: 0.1648573\ttotal: 3.95s\tremaining: 463ms\n",
      "895:\tlearn: 0.1648407\ttotal: 3.95s\tremaining: 459ms\n",
      "896:\tlearn: 0.1648064\ttotal: 3.96s\tremaining: 454ms\n",
      "897:\tlearn: 0.1646790\ttotal: 3.96s\tremaining: 450ms\n",
      "898:\tlearn: 0.1645908\ttotal: 3.96s\tremaining: 445ms\n",
      "899:\tlearn: 0.1645483\ttotal: 3.97s\tremaining: 441ms\n",
      "900:\tlearn: 0.1645227\ttotal: 3.97s\tremaining: 437ms\n",
      "901:\tlearn: 0.1644367\ttotal: 3.98s\tremaining: 432ms\n",
      "902:\tlearn: 0.1643742\ttotal: 3.98s\tremaining: 428ms\n",
      "903:\tlearn: 0.1642947\ttotal: 3.99s\tremaining: 424ms\n",
      "904:\tlearn: 0.1642299\ttotal: 3.99s\tremaining: 419ms\n",
      "905:\tlearn: 0.1641994\ttotal: 4s\tremaining: 415ms\n",
      "906:\tlearn: 0.1641299\ttotal: 4s\tremaining: 410ms\n",
      "907:\tlearn: 0.1640988\ttotal: 4.01s\tremaining: 406ms\n",
      "908:\tlearn: 0.1640143\ttotal: 4.01s\tremaining: 402ms\n",
      "909:\tlearn: 0.1639634\ttotal: 4.01s\tremaining: 397ms\n",
      "910:\tlearn: 0.1639391\ttotal: 4.02s\tremaining: 393ms\n",
      "911:\tlearn: 0.1638626\ttotal: 4.03s\tremaining: 388ms\n",
      "912:\tlearn: 0.1637990\ttotal: 4.03s\tremaining: 384ms\n",
      "913:\tlearn: 0.1637692\ttotal: 4.04s\tremaining: 380ms\n",
      "914:\tlearn: 0.1636845\ttotal: 4.04s\tremaining: 375ms\n",
      "915:\tlearn: 0.1636269\ttotal: 4.04s\tremaining: 371ms\n",
      "916:\tlearn: 0.1635502\ttotal: 4.05s\tremaining: 366ms\n",
      "917:\tlearn: 0.1635260\ttotal: 4.05s\tremaining: 362ms\n",
      "918:\tlearn: 0.1634969\ttotal: 4.06s\tremaining: 358ms\n",
      "919:\tlearn: 0.1634263\ttotal: 4.06s\tremaining: 353ms\n",
      "920:\tlearn: 0.1633920\ttotal: 4.07s\tremaining: 349ms\n",
      "921:\tlearn: 0.1633344\ttotal: 4.07s\tremaining: 344ms\n",
      "922:\tlearn: 0.1633042\ttotal: 4.08s\tremaining: 340ms\n",
      "923:\tlearn: 0.1632537\ttotal: 4.08s\tremaining: 336ms\n",
      "924:\tlearn: 0.1632303\ttotal: 4.08s\tremaining: 331ms\n",
      "925:\tlearn: 0.1631884\ttotal: 4.09s\tremaining: 327ms\n",
      "926:\tlearn: 0.1631683\ttotal: 4.09s\tremaining: 322ms\n",
      "927:\tlearn: 0.1631481\ttotal: 4.1s\tremaining: 318ms\n",
      "928:\tlearn: 0.1630471\ttotal: 4.1s\tremaining: 314ms\n",
      "929:\tlearn: 0.1630131\ttotal: 4.11s\tremaining: 309ms\n",
      "930:\tlearn: 0.1629064\ttotal: 4.11s\tremaining: 305ms\n",
      "931:\tlearn: 0.1628752\ttotal: 4.12s\tremaining: 300ms\n",
      "932:\tlearn: 0.1628523\ttotal: 4.12s\tremaining: 296ms\n",
      "933:\tlearn: 0.1627433\ttotal: 4.13s\tremaining: 292ms\n",
      "934:\tlearn: 0.1626572\ttotal: 4.13s\tremaining: 287ms\n",
      "935:\tlearn: 0.1626439\ttotal: 4.13s\tremaining: 283ms\n",
      "936:\tlearn: 0.1626156\ttotal: 4.14s\tremaining: 278ms\n",
      "937:\tlearn: 0.1625301\ttotal: 4.14s\tremaining: 274ms\n",
      "938:\tlearn: 0.1624953\ttotal: 4.15s\tremaining: 270ms\n",
      "939:\tlearn: 0.1624720\ttotal: 4.15s\tremaining: 265ms\n",
      "940:\tlearn: 0.1624471\ttotal: 4.16s\tremaining: 261ms\n",
      "941:\tlearn: 0.1624242\ttotal: 4.16s\tremaining: 256ms\n",
      "942:\tlearn: 0.1623822\ttotal: 4.17s\tremaining: 252ms\n",
      "943:\tlearn: 0.1623197\ttotal: 4.17s\tremaining: 248ms\n",
      "944:\tlearn: 0.1622613\ttotal: 4.18s\tremaining: 243ms\n",
      "945:\tlearn: 0.1621999\ttotal: 4.18s\tremaining: 239ms\n",
      "946:\tlearn: 0.1621489\ttotal: 4.19s\tremaining: 234ms\n",
      "947:\tlearn: 0.1621011\ttotal: 4.19s\tremaining: 230ms\n",
      "948:\tlearn: 0.1620582\ttotal: 4.2s\tremaining: 225ms\n",
      "949:\tlearn: 0.1620222\ttotal: 4.2s\tremaining: 221ms\n",
      "950:\tlearn: 0.1619645\ttotal: 4.21s\tremaining: 217ms\n",
      "951:\tlearn: 0.1619083\ttotal: 4.21s\tremaining: 212ms\n",
      "952:\tlearn: 0.1618811\ttotal: 4.21s\tremaining: 208ms\n",
      "953:\tlearn: 0.1618216\ttotal: 4.22s\tremaining: 203ms\n",
      "954:\tlearn: 0.1617841\ttotal: 4.22s\tremaining: 199ms\n",
      "955:\tlearn: 0.1617427\ttotal: 4.23s\tremaining: 195ms\n",
      "956:\tlearn: 0.1616821\ttotal: 4.23s\tremaining: 190ms\n",
      "957:\tlearn: 0.1616348\ttotal: 4.24s\tremaining: 186ms\n",
      "958:\tlearn: 0.1615658\ttotal: 4.24s\tremaining: 181ms\n",
      "959:\tlearn: 0.1614880\ttotal: 4.25s\tremaining: 177ms\n",
      "960:\tlearn: 0.1614133\ttotal: 4.25s\tremaining: 173ms\n",
      "961:\tlearn: 0.1613808\ttotal: 4.25s\tremaining: 168ms\n",
      "962:\tlearn: 0.1613704\ttotal: 4.26s\tremaining: 164ms\n",
      "963:\tlearn: 0.1613236\ttotal: 4.26s\tremaining: 159ms\n",
      "964:\tlearn: 0.1612951\ttotal: 4.27s\tremaining: 155ms\n",
      "965:\tlearn: 0.1612592\ttotal: 4.27s\tremaining: 150ms\n",
      "966:\tlearn: 0.1612279\ttotal: 4.28s\tremaining: 146ms\n",
      "967:\tlearn: 0.1611791\ttotal: 4.28s\tremaining: 142ms\n",
      "968:\tlearn: 0.1611664\ttotal: 4.29s\tremaining: 137ms\n",
      "969:\tlearn: 0.1611252\ttotal: 4.29s\tremaining: 133ms\n",
      "970:\tlearn: 0.1610530\ttotal: 4.3s\tremaining: 128ms\n",
      "971:\tlearn: 0.1609955\ttotal: 4.3s\tremaining: 124ms\n",
      "972:\tlearn: 0.1609268\ttotal: 4.31s\tremaining: 120ms\n",
      "973:\tlearn: 0.1608898\ttotal: 4.31s\tremaining: 115ms\n",
      "974:\tlearn: 0.1608615\ttotal: 4.32s\tremaining: 111ms\n",
      "975:\tlearn: 0.1608427\ttotal: 4.32s\tremaining: 106ms\n",
      "976:\tlearn: 0.1608033\ttotal: 4.33s\tremaining: 102ms\n"
     ]
    },
    {
     "name": "stdout",
     "output_type": "stream",
     "text": [
      "977:\tlearn: 0.1607377\ttotal: 4.33s\tremaining: 97.4ms\n",
      "978:\tlearn: 0.1606893\ttotal: 4.33s\tremaining: 93ms\n",
      "979:\tlearn: 0.1606668\ttotal: 4.34s\tremaining: 88.6ms\n",
      "980:\tlearn: 0.1605958\ttotal: 4.34s\tremaining: 84.1ms\n",
      "981:\tlearn: 0.1605777\ttotal: 4.35s\tremaining: 79.7ms\n",
      "982:\tlearn: 0.1605330\ttotal: 4.35s\tremaining: 75.3ms\n",
      "983:\tlearn: 0.1604870\ttotal: 4.36s\tremaining: 70.9ms\n",
      "984:\tlearn: 0.1604653\ttotal: 4.36s\tremaining: 66.4ms\n",
      "985:\tlearn: 0.1604436\ttotal: 4.37s\tremaining: 62ms\n",
      "986:\tlearn: 0.1603641\ttotal: 4.37s\tremaining: 57.6ms\n",
      "987:\tlearn: 0.1603293\ttotal: 4.38s\tremaining: 53.2ms\n",
      "988:\tlearn: 0.1603051\ttotal: 4.38s\tremaining: 48.7ms\n",
      "989:\tlearn: 0.1602923\ttotal: 4.39s\tremaining: 44.3ms\n",
      "990:\tlearn: 0.1602193\ttotal: 4.39s\tremaining: 39.9ms\n",
      "991:\tlearn: 0.1601545\ttotal: 4.39s\tremaining: 35.4ms\n",
      "992:\tlearn: 0.1600863\ttotal: 4.4s\tremaining: 31ms\n",
      "993:\tlearn: 0.1600158\ttotal: 4.41s\tremaining: 26.6ms\n",
      "994:\tlearn: 0.1600036\ttotal: 4.41s\tremaining: 22.2ms\n",
      "995:\tlearn: 0.1599637\ttotal: 4.41s\tremaining: 17.7ms\n",
      "996:\tlearn: 0.1598507\ttotal: 4.42s\tremaining: 13.3ms\n",
      "997:\tlearn: 0.1597840\ttotal: 4.42s\tremaining: 8.87ms\n",
      "998:\tlearn: 0.1597479\ttotal: 4.43s\tremaining: 4.43ms\n",
      "999:\tlearn: 0.1596662\ttotal: 4.43s\tremaining: 0us\n"
     ]
    }
   ],
   "source": [
    "model = CatBoostRegressor()\n",
    "model.fit(x_train_17, y_train_17)\n",
    "y_pred_17 = model.predict(x_test_17)"
   ]
  },
  {
   "cell_type": "code",
   "execution_count": 256,
   "id": "082649d0",
   "metadata": {},
   "outputs": [
    {
     "name": "stdout",
     "output_type": "stream",
     "text": [
      "MSE for CatBoost 2017 is: 17985867934.95345\n"
     ]
    }
   ],
   "source": [
    "mse = mean_squared_error(np.exp(y_test_17), np.exp(y_pred_17))\n",
    "print('MSE for CatBoost 2017 is: ' + str(mse))"
   ]
  },
  {
   "cell_type": "code",
   "execution_count": 257,
   "id": "a3c47125",
   "metadata": {},
   "outputs": [
    {
     "name": "stdout",
     "output_type": "stream",
     "text": [
      "RMSE for CatBoost 2017 is: 134111.40121165483\n"
     ]
    }
   ],
   "source": [
    "rmse = mean_squared_error(np.exp(y_test_17), np.exp(y_pred_17), squared = False)\n",
    "print('RMSE for CatBoost 2017 is: ' + str(rmse))"
   ]
  },
  {
   "cell_type": "code",
   "execution_count": 258,
   "id": "64d71e25",
   "metadata": {},
   "outputs": [
    {
     "name": "stdout",
     "output_type": "stream",
     "text": [
      "Accuracy of properties at +- 10% of actual prices is 0.31063829787234043\n"
     ]
    }
   ],
   "source": [
    "acc = accuracy_threshold(y_test_17, y_pred_17, 0.1)\n",
    "print('Accuracy of properties at +- 10% of actual prices is ' + str(acc))"
   ]
  },
  {
   "cell_type": "code",
   "execution_count": 259,
   "id": "f6984666",
   "metadata": {},
   "outputs": [
    {
     "name": "stdout",
     "output_type": "stream",
     "text": [
      "Median Absolute Error:\n",
      "\n",
      "38101.858674018156\n"
     ]
    }
   ],
   "source": [
    "median_se = np.square(np.subtract(np.exp(y_test_17), np.exp(y_pred_17))).median() \n",
    " \n",
    "med = math.sqrt(median_se)\n",
    "print(\"Median Absolute Error:\\n\")\n",
    "print(med)"
   ]
  },
  {
   "cell_type": "code",
   "execution_count": 260,
   "id": "cb802c7d",
   "metadata": {},
   "outputs": [
    {
     "name": "stdout",
     "output_type": "stream",
     "text": [
      "MAPE for CatBoost 2017 is: 0.207707977873923\n"
     ]
    }
   ],
   "source": [
    "mape = mean_absolute_percentage_error(np.exp(y_test_17), np.exp(y_pred_17))\n",
    "print(\"MAPE for CatBoost 2017 is: \" + str(mape))"
   ]
  },
  {
   "cell_type": "code",
   "execution_count": 261,
   "id": "5b1cf780",
   "metadata": {},
   "outputs": [],
   "source": [
    "cnames = ['Algorithm', 'Year', 'RMSE', 'MSE', 'MEDAE', 'Accuracy', 'MAPE']\n",
    "df28 = pd.DataFrame(columns = cnames)\n",
    "\n",
    "df28 = df28.append({'Algorithm': 'CatBoost',\n",
    "           'Year': 2017,\n",
    "           'RMSE': rmse,\n",
    "           'MSE': mse,\n",
    "           'MEDAE': med,\n",
    "           'Accuracy': acc,\n",
    "           'MAPE': mape         \n",
    "          }, ignore_index = True)"
   ]
  },
  {
   "cell_type": "markdown",
   "id": "72562a1a",
   "metadata": {},
   "source": [
    "### BayesianRidge"
   ]
  },
  {
   "cell_type": "code",
   "execution_count": 262,
   "id": "59e9f148",
   "metadata": {},
   "outputs": [
    {
     "name": "stdout",
     "output_type": "stream",
     "text": [
      "MSE for BayesianRidge 2017 is: 37036727833.187454\n"
     ]
    }
   ],
   "source": [
    "clf = BayesianRidge()\n",
    "clf.fit(x_train_17, y_train_17)\n",
    "y_pred_17 = clf.predict(x_test_17)\n",
    "# Calculation of Mean Squared Error (MSE)\n",
    "mse = mean_squared_error(np.exp(y_test_17), np.exp(y_pred_17))\n",
    "print('MSE for BayesianRidge 2017 is: ' + str(mse))"
   ]
  },
  {
   "cell_type": "code",
   "execution_count": 263,
   "id": "1dff6d36",
   "metadata": {},
   "outputs": [
    {
     "name": "stdout",
     "output_type": "stream",
     "text": [
      "RMSE for BayesianRidge 2017 is: 192449.28639303253\n"
     ]
    }
   ],
   "source": [
    "rmse = mean_squared_error(np.exp(y_test_17), np.exp(y_pred_17), squared = False)\n",
    "print('RMSE for BayesianRidge 2017 is: ' + str(rmse))"
   ]
  },
  {
   "cell_type": "code",
   "execution_count": 264,
   "id": "432254a9",
   "metadata": {},
   "outputs": [
    {
     "name": "stdout",
     "output_type": "stream",
     "text": [
      "Accuracy of properties at +- 10% of actual prices is 0.3148936170212766\n"
     ]
    }
   ],
   "source": [
    "acc = accuracy_threshold(y_test_17, y_pred_17, 0.1)\n",
    "print('Accuracy of properties at +- 10% of actual prices is ' + str(acc))"
   ]
  },
  {
   "cell_type": "code",
   "execution_count": 265,
   "id": "5e73847c",
   "metadata": {},
   "outputs": [
    {
     "name": "stdout",
     "output_type": "stream",
     "text": [
      "Median Absolute Error:\n",
      "\n",
      "50816.20806381437\n"
     ]
    }
   ],
   "source": [
    "median_se = np.square(np.subtract(np.exp(y_test_17), np.exp(y_pred_17))).median() \n",
    " \n",
    "med = math.sqrt(median_se)\n",
    "print(\"Median Absolute Error:\\n\")\n",
    "print(med)"
   ]
  },
  {
   "cell_type": "code",
   "execution_count": 266,
   "id": "27b263d2",
   "metadata": {},
   "outputs": [
    {
     "name": "stdout",
     "output_type": "stream",
     "text": [
      "MAPE for BayesianRidge 2017 is: 0.27513588203158734\n"
     ]
    }
   ],
   "source": [
    "mape = mean_absolute_percentage_error(np.exp(y_test_17), np.exp(y_pred_17))\n",
    "print(\"MAPE for BayesianRidge 2017 is: \" + str(mape))"
   ]
  },
  {
   "cell_type": "code",
   "execution_count": 267,
   "id": "f56a5c0c",
   "metadata": {},
   "outputs": [],
   "source": [
    "cnames = ['Algorithm', 'Year', 'RMSE', 'MSE', 'MEDAE', 'Accuracy', 'MAPE']\n",
    "df29 = pd.DataFrame(columns = cnames)\n",
    "\n",
    "df29 = df29.append({'Algorithm': 'Bayesian',\n",
    "           'Year': 2017,\n",
    "           'RMSE': rmse,\n",
    "           'MSE': mse,\n",
    "           'MEDAE': med,\n",
    "           'Accuracy': acc,\n",
    "           'MAPE': mape         \n",
    "          }, ignore_index = True)"
   ]
  },
  {
   "cell_type": "code",
   "execution_count": 268,
   "id": "e004552a",
   "metadata": {},
   "outputs": [],
   "source": [
    "vis1 = pd.concat([df12, df13, df14, df15, df16, df17, df18, df19, df20, df21, df22, df23,\n",
    "                df24, df25, df26, df27, df28, df29], ignore_index=True)"
   ]
  },
  {
   "cell_type": "code",
   "execution_count": 269,
   "id": "6d8c9d08",
   "metadata": {},
   "outputs": [],
   "source": [
    "vis2 = pd.concat([vis, vis1], ignore_index=True)"
   ]
  },
  {
   "cell_type": "markdown",
   "id": "ad20c8a7",
   "metadata": {},
   "source": [
    "## Let's Visualize all our results "
   ]
  },
  {
   "cell_type": "code",
   "execution_count": 270,
   "id": "7c3e9111",
   "metadata": {},
   "outputs": [
    {
     "data": {
      "text/plain": [
       "<AxesSubplot:title={'center':'Mean RMSE Values 2013-21 Predictions'}, xlabel='Algorithm', ylabel='Mean RMSE'>"
      ]
     },
     "execution_count": 270,
     "metadata": {},
     "output_type": "execute_result"
    },
    {
     "data": {
      "image/png": "[encoded data removed]",
      "text/plain": [
       "<Figure size 1296x432 with 1 Axes>"
      ]
     },
     "metadata": {
      "needs_background": "light"
     },
     "output_type": "display_data"
    }
   ],
   "source": [
    "# rmse results\n",
    "grouped_multiple1 = vis2.groupby(['Algorithm']).agg({'RMSE': ['mean', 'median', 'max', 'sum']})\n",
    "grouped_multiple1.columns = ['mean','median','max','sum']\n",
    "grouped_multiple1.reset_index(inplace = True)\n",
    "distdf = grouped_multiple1.sort_values(by = ['mean'], ascending = True)\n",
    "distdf.plot.bar(x = 'Algorithm', y = 'mean', rot = 40, figsize=(18, 6), color='goldenrod', xlabel='Algorithm', ylabel='Mean RMSE', title='Mean RMSE Values 2013-21 Predictions')"
   ]
  },
  {
   "cell_type": "code",
   "execution_count": 271,
   "id": "9f8b253a",
   "metadata": {},
   "outputs": [
    {
     "data": {
      "text/plain": [
       "<AxesSubplot:title={'center':'Mean MEDAE Values 2013-21 Predictions'}, xlabel='Algorithm', ylabel='Mean MEDAE'>"
      ]
     },
     "execution_count": 271,
     "metadata": {},
     "output_type": "execute_result"
    },
    {
     "data": {
      "image/png": "[encoded data removed]",
      "text/plain": [
       "<Figure size 1296x432 with 1 Axes>"
      ]
     },
     "metadata": {
      "needs_background": "light"
     },
     "output_type": "display_data"
    }
   ],
   "source": [
    "# median results\n",
    "grouped_multiple2 = vis2.groupby(['Algorithm']).agg({'MEDAE': ['mean', 'median', 'max', 'sum']})\n",
    "grouped_multiple2.columns = ['mean','median','max','sum']\n",
    "grouped_multiple2.reset_index(inplace = True)\n",
    "distdf = grouped_multiple2.sort_values(by = ['mean'], ascending = True)\n",
    "distdf.plot.bar(x = 'Algorithm', y = 'mean', rot = 40, figsize=(18, 6), color='peru', xlabel='Algorithm', ylabel='Mean MEDAE', title='Mean MEDAE Values 2013-21 Predictions')"
   ]
  },
  {
   "cell_type": "code",
   "execution_count": 272,
   "id": "e733b52c",
   "metadata": {},
   "outputs": [
    {
     "data": {
      "text/plain": [
       "<AxesSubplot:title={'center':'Mean Accuracy Values 2013-21 Predictions'}, xlabel='Algorithm', ylabel='Average Accuracy'>"
      ]
     },
     "execution_count": 272,
     "metadata": {},
     "output_type": "execute_result"
    },
    {
     "data": {
      "image/png": "[encoded data removed]",
      "text/plain": [
       "<Figure size 1296x432 with 1 Axes>"
      ]
     },
     "metadata": {
      "needs_background": "light"
     },
     "output_type": "display_data"
    }
   ],
   "source": [
    "grouped_multiple3 = vis2.groupby(['Algorithm']).agg({'Accuracy': ['mean', 'median', 'max', 'sum', 'min']})\n",
    "grouped_multiple3.columns = ['mean','median','max','sum', 'min']\n",
    "grouped_multiple3.reset_index(inplace = True)\n",
    "distdf = grouped_multiple3.sort_values(by = ['mean'], ascending = False)\n",
    "distdf.plot.bar(x = 'Algorithm', y = 'mean', rot = 40, figsize=(18, 6), color='midnightblue', xlabel='Algorithm', ylabel='Average Accuracy', title='Mean Accuracy Values 2013-21 Predictions')"
   ]
  },
  {
   "cell_type": "code",
   "execution_count": 273,
   "id": "74541158",
   "metadata": {},
   "outputs": [
    {
     "data": {
      "text/plain": [
       "<AxesSubplot:title={'center':'Mean MSE Values 2013-21 Predictions'}, xlabel='Algorithm', ylabel='Mean MSE'>"
      ]
     },
     "execution_count": 273,
     "metadata": {},
     "output_type": "execute_result"
    },
    {
     "data": {
      "image/png": "[encoded data removed]",
      "text/plain": [
       "<Figure size 1296x432 with 1 Axes>"
      ]
     },
     "metadata": {
      "needs_background": "light"
     },
     "output_type": "display_data"
    }
   ],
   "source": [
    "# mse results\n",
    "grouped_multiple4 = vis2.groupby(['Algorithm']).agg({'MSE': ['mean', 'median', 'max', 'sum']})\n",
    "grouped_multiple4.columns = ['mean','median','max','sum']\n",
    "grouped_multiple4.reset_index(inplace = True)\n",
    "distdf = grouped_multiple4.sort_values(by = ['mean'], ascending = True)\n",
    "distdf.plot.bar(x = 'Algorithm', y = 'mean', rot = 40, figsize=(18, 6), color='forestgreen', xlabel='Algorithm', ylabel='Mean MSE', title='Mean MSE Values 2013-21 Predictions')"
   ]
  },
  {
   "cell_type": "code",
   "execution_count": 274,
   "id": "d2343c63",
   "metadata": {},
   "outputs": [
    {
     "data": {
      "text/plain": [
       "<AxesSubplot:title={'center':'Mean MAPE Values 2013-21 Predictions'}, xlabel='Algorithm', ylabel='Mean MAPE'>"
      ]
     },
     "execution_count": 274,
     "metadata": {},
     "output_type": "execute_result"
    },
    {
     "data": {
      "image/png": "[encoded data removed]",
      "text/plain": [
       "<Figure size 1296x432 with 1 Axes>"
      ]
     },
     "metadata": {
      "needs_background": "light"
     },
     "output_type": "display_data"
    }
   ],
   "source": [
    "# mape results\n",
    "grouped_multiple5 = vis2.groupby(['Algorithm']).agg({'MAPE': ['mean', 'median', 'max', 'sum']})\n",
    "grouped_multiple5.columns = ['mean','median','max','sum']\n",
    "grouped_multiple5.reset_index(inplace = True)\n",
    "distdf = grouped_multiple5.sort_values(by = ['mean'], ascending = True)\n",
    "distdf.plot.bar(x = 'Algorithm', y = 'mean', rot = 40, figsize=(18, 6), color='seagreen', xlabel='Algorithm', ylabel='Mean MAPE', title='Mean MAPE Values 2013-21 Predictions')"
   ]
  },
  {
   "cell_type": "markdown",
   "id": "f05b1903",
   "metadata": {},
   "source": [
    "Result that can be compared around 6/7 % off [this](https://arxiv.org/pdf/2108.09175.pdf), (slightly diff approach taken by me predicting yearly however!)"
   ]
  },
  {
   "cell_type": "code",
   "execution_count": 275,
   "id": "7278a64b",
   "metadata": {},
   "outputs": [
    {
     "data": {
      "text/html": [
       "<div>\n",
       "<style scoped>\n",
       "    .dataframe tbody tr th:only-of-type {\n",
       "        vertical-align: middle;\n",
       "    }\n",
       "\n",
       "    .dataframe tbody tr th {\n",
       "        vertical-align: top;\n",
       "    }\n",
       "\n",
       "    .dataframe thead th {\n",
       "        text-align: right;\n",
       "    }\n",
       "</style>\n",
       "<table border=\"1\" class=\"dataframe\">\n",
       "  <thead>\n",
       "    <tr style=\"text-align: right;\">\n",
       "      <th></th>\n",
       "      <th>Algorithm</th>\n",
       "      <th>mean</th>\n",
       "      <th>median</th>\n",
       "      <th>max</th>\n",
       "      <th>sum</th>\n",
       "      <th>min</th>\n",
       "    </tr>\n",
       "  </thead>\n",
       "  <tbody>\n",
       "    <tr>\n",
       "      <th>1</th>\n",
       "      <td>AutoML</td>\n",
       "      <td>0.466840</td>\n",
       "      <td>0.473618</td>\n",
       "      <td>0.547049</td>\n",
       "      <td>2.334199</td>\n",
       "      <td>0.382979</td>\n",
       "    </tr>\n",
       "    <tr>\n",
       "      <th>3</th>\n",
       "      <td>CatBoost</td>\n",
       "      <td>0.435812</td>\n",
       "      <td>0.456853</td>\n",
       "      <td>0.496013</td>\n",
       "      <td>2.179061</td>\n",
       "      <td>0.310638</td>\n",
       "    </tr>\n",
       "    <tr>\n",
       "      <th>4</th>\n",
       "      <td>LightGBM</td>\n",
       "      <td>0.431318</td>\n",
       "      <td>0.453469</td>\n",
       "      <td>0.505582</td>\n",
       "      <td>2.156590</td>\n",
       "      <td>0.340426</td>\n",
       "    </tr>\n",
       "    <tr>\n",
       "      <th>2</th>\n",
       "      <td>Bayesian</td>\n",
       "      <td>0.376323</td>\n",
       "      <td>0.370016</td>\n",
       "      <td>0.443316</td>\n",
       "      <td>1.881616</td>\n",
       "      <td>0.314894</td>\n",
       "    </tr>\n",
       "    <tr>\n",
       "      <th>5</th>\n",
       "      <td>MLR</td>\n",
       "      <td>0.373033</td>\n",
       "      <td>0.371611</td>\n",
       "      <td>0.426396</td>\n",
       "      <td>1.865164</td>\n",
       "      <td>0.306383</td>\n",
       "    </tr>\n",
       "    <tr>\n",
       "      <th>0</th>\n",
       "      <td>AdaBoost</td>\n",
       "      <td>0.330652</td>\n",
       "      <td>0.326276</td>\n",
       "      <td>0.385965</td>\n",
       "      <td>1.653262</td>\n",
       "      <td>0.297872</td>\n",
       "    </tr>\n",
       "  </tbody>\n",
       "</table>\n",
       "</div>"
      ],
      "text/plain": [
       "  Algorithm      mean    median       max       sum       min\n",
       "1    AutoML  0.466840  0.473618  0.547049  2.334199  0.382979\n",
       "3  CatBoost  0.435812  0.456853  0.496013  2.179061  0.310638\n",
       "4  LightGBM  0.431318  0.453469  0.505582  2.156590  0.340426\n",
       "2  Bayesian  0.376323  0.370016  0.443316  1.881616  0.314894\n",
       "5       MLR  0.373033  0.371611  0.426396  1.865164  0.306383\n",
       "0  AdaBoost  0.330652  0.326276  0.385965  1.653262  0.297872"
      ]
     },
     "execution_count": 275,
     "metadata": {},
     "output_type": "execute_result"
    }
   ],
   "source": [
    "grouped_multiple3.sort_values(by = 'mean', ascending = False)"
   ]
  },
  {
   "cell_type": "code",
   "execution_count": 276,
   "id": "224ad6d2",
   "metadata": {},
   "outputs": [
    {
     "data": {
      "text/plain": [
       "<AxesSubplot:title={'center':'Performance of ML algorithms accuracy from 2017-2021 Predictions'}, xlabel='Year'>"
      ]
     },
     "execution_count": 276,
     "metadata": {},
     "output_type": "execute_result"
    },
    {
     "data": {
      "image/png": "[encoded data removed]",
      "text/plain": [
       "<Figure size 1296x432 with 1 Axes>"
      ]
     },
     "metadata": {
      "needs_background": "light"
     },
     "output_type": "display_data"
    }
   ],
   "source": [
    "# yearly accuracy results\n",
    "df = vis2.pivot(index = 'Year', columns = 'Algorithm', values = 'Accuracy')\n",
    "df.plot(figsize = (18, 6), title = 'Performance of ML algorithms accuracy from 2017-2021 Predictions')"
   ]
  },
  {
   "cell_type": "markdown",
   "id": "44757150",
   "metadata": {},
   "source": [
    "It is definitely worth noting the steep rise in performance of our prediction models after 2018. Looking at our AutoML approach in particular this sees a jump of 10% in predictive performance from 2018 to 2019 and remains well above 2017 and 2018 performance values. Looking across the board it definitely seems that our models are better suited to more up to date data, which is definitely a good thing. It may also suggest that the importance of our features changes noticeably over time with features such as closeness to parks and so forth maybe appearing more favourably in the midst of the global pandemic from 2020 onwards."
   ]
  },
  {
   "cell_type": "markdown",
   "id": "1dd73660",
   "metadata": {},
   "source": [
    "### Let's plot our Actual VS Predicted values for our best model - AutoML"
   ]
  },
  {
   "cell_type": "code",
   "execution_count": 277,
   "id": "dcdb511b",
   "metadata": {},
   "outputs": [],
   "source": [
    "actual = pd.concat([dfreal1, dfreal2, dfreal3, dfreal4, dfreal5], ignore_index=True)"
   ]
  },
  {
   "cell_type": "code",
   "execution_count": 278,
   "id": "84c4a32e",
   "metadata": {},
   "outputs": [
    {
     "data": {
      "text/html": [
       "<div>\n",
       "<style scoped>\n",
       "    .dataframe tbody tr th:only-of-type {\n",
       "        vertical-align: middle;\n",
       "    }\n",
       "\n",
       "    .dataframe tbody tr th {\n",
       "        vertical-align: top;\n",
       "    }\n",
       "\n",
       "    .dataframe thead th {\n",
       "        text-align: right;\n",
       "    }\n",
       "</style>\n",
       "<table border=\"1\" class=\"dataframe\">\n",
       "  <thead>\n",
       "    <tr style=\"text-align: right;\">\n",
       "      <th></th>\n",
       "      <th>Actual</th>\n",
       "    </tr>\n",
       "  </thead>\n",
       "  <tbody>\n",
       "    <tr>\n",
       "      <th>0</th>\n",
       "      <td>12.624668</td>\n",
       "    </tr>\n",
       "    <tr>\n",
       "      <th>1</th>\n",
       "      <td>12.747268</td>\n",
       "    </tr>\n",
       "    <tr>\n",
       "      <th>2</th>\n",
       "      <td>13.072690</td>\n",
       "    </tr>\n",
       "    <tr>\n",
       "      <th>3</th>\n",
       "      <td>12.797276</td>\n",
       "    </tr>\n",
       "    <tr>\n",
       "      <th>4</th>\n",
       "      <td>12.653239</td>\n",
       "    </tr>\n",
       "  </tbody>\n",
       "</table>\n",
       "</div>"
      ],
      "text/plain": [
       "      Actual\n",
       "0  12.624668\n",
       "1  12.747268\n",
       "2  13.072690\n",
       "3  12.797276\n",
       "4  12.653239"
      ]
     },
     "execution_count": 278,
     "metadata": {},
     "output_type": "execute_result"
    }
   ],
   "source": [
    "actual.rename(columns = {0: 'Actual'}, inplace = True)\n",
    "actual.head()"
   ]
  },
  {
   "cell_type": "code",
   "execution_count": 279,
   "id": "e53d91ef",
   "metadata": {},
   "outputs": [],
   "source": [
    "pred = pd.concat([dfpred1, dfpred2, dfpred3, dfpred4, dfpred5], ignore_index=True)"
   ]
  },
  {
   "cell_type": "code",
   "execution_count": 280,
   "id": "b414b6a3",
   "metadata": {},
   "outputs": [
    {
     "data": {
      "text/html": [
       "<div>\n",
       "<style scoped>\n",
       "    .dataframe tbody tr th:only-of-type {\n",
       "        vertical-align: middle;\n",
       "    }\n",
       "\n",
       "    .dataframe tbody tr th {\n",
       "        vertical-align: top;\n",
       "    }\n",
       "\n",
       "    .dataframe thead th {\n",
       "        text-align: right;\n",
       "    }\n",
       "</style>\n",
       "<table border=\"1\" class=\"dataframe\">\n",
       "  <thead>\n",
       "    <tr style=\"text-align: right;\">\n",
       "      <th></th>\n",
       "      <th>Predicted</th>\n",
       "    </tr>\n",
       "  </thead>\n",
       "  <tbody>\n",
       "    <tr>\n",
       "      <th>0</th>\n",
       "      <td>12.659390</td>\n",
       "    </tr>\n",
       "    <tr>\n",
       "      <th>1</th>\n",
       "      <td>12.669011</td>\n",
       "    </tr>\n",
       "    <tr>\n",
       "      <th>2</th>\n",
       "      <td>12.488560</td>\n",
       "    </tr>\n",
       "    <tr>\n",
       "      <th>3</th>\n",
       "      <td>12.718362</td>\n",
       "    </tr>\n",
       "    <tr>\n",
       "      <th>4</th>\n",
       "      <td>12.669011</td>\n",
       "    </tr>\n",
       "  </tbody>\n",
       "</table>\n",
       "</div>"
      ],
      "text/plain": [
       "   Predicted\n",
       "0  12.659390\n",
       "1  12.669011\n",
       "2  12.488560\n",
       "3  12.718362\n",
       "4  12.669011"
      ]
     },
     "execution_count": 280,
     "metadata": {},
     "output_type": "execute_result"
    }
   ],
   "source": [
    "pred.rename(columns={0: 'Predicted'}, inplace = True)\n",
    "pred.head()"
   ]
  },
  {
   "cell_type": "code",
   "execution_count": 281,
   "id": "db45f952",
   "metadata": {},
   "outputs": [],
   "source": [
    "actualvpred = actual.join(pred)"
   ]
  },
  {
   "cell_type": "code",
   "execution_count": 282,
   "id": "18a9313d",
   "metadata": {},
   "outputs": [
    {
     "data": {
      "text/html": [
       "<div>\n",
       "<style scoped>\n",
       "    .dataframe tbody tr th:only-of-type {\n",
       "        vertical-align: middle;\n",
       "    }\n",
       "\n",
       "    .dataframe tbody tr th {\n",
       "        vertical-align: top;\n",
       "    }\n",
       "\n",
       "    .dataframe thead th {\n",
       "        text-align: right;\n",
       "    }\n",
       "</style>\n",
       "<table border=\"1\" class=\"dataframe\">\n",
       "  <thead>\n",
       "    <tr style=\"text-align: right;\">\n",
       "      <th></th>\n",
       "      <th>Actual</th>\n",
       "      <th>Predicted</th>\n",
       "    </tr>\n",
       "  </thead>\n",
       "  <tbody>\n",
       "    <tr>\n",
       "      <th>0</th>\n",
       "      <td>12.624668</td>\n",
       "      <td>12.659390</td>\n",
       "    </tr>\n",
       "    <tr>\n",
       "      <th>1</th>\n",
       "      <td>12.747268</td>\n",
       "      <td>12.669011</td>\n",
       "    </tr>\n",
       "    <tr>\n",
       "      <th>2</th>\n",
       "      <td>13.072690</td>\n",
       "      <td>12.488560</td>\n",
       "    </tr>\n",
       "    <tr>\n",
       "      <th>3</th>\n",
       "      <td>12.797276</td>\n",
       "      <td>12.718362</td>\n",
       "    </tr>\n",
       "    <tr>\n",
       "      <th>4</th>\n",
       "      <td>12.653239</td>\n",
       "      <td>12.669011</td>\n",
       "    </tr>\n",
       "  </tbody>\n",
       "</table>\n",
       "</div>"
      ],
      "text/plain": [
       "      Actual  Predicted\n",
       "0  12.624668  12.659390\n",
       "1  12.747268  12.669011\n",
       "2  13.072690  12.488560\n",
       "3  12.797276  12.718362\n",
       "4  12.653239  12.669011"
      ]
     },
     "execution_count": 282,
     "metadata": {},
     "output_type": "execute_result"
    }
   ],
   "source": [
    "actualvpred.head()"
   ]
  },
  {
   "cell_type": "code",
   "execution_count": 283,
   "id": "1a8e9c4a",
   "metadata": {},
   "outputs": [],
   "source": [
    "# actual prices for better plot\n",
    "exp = np.exp(actualvpred)"
   ]
  },
  {
   "cell_type": "code",
   "execution_count": 284,
   "id": "fe472b7f",
   "metadata": {},
   "outputs": [
    {
     "data": {
      "text/plain": [
       "(3287, 2)"
      ]
     },
     "execution_count": 284,
     "metadata": {},
     "output_type": "execute_result"
    }
   ],
   "source": [
    "exp.shape"
   ]
  },
  {
   "cell_type": "code",
   "execution_count": 285,
   "id": "8be68235",
   "metadata": {},
   "outputs": [
    {
     "data": {
      "image/png": "[encoded data removed]",
      "text/plain": [
       "<Figure size 720x720 with 1 Axes>"
      ]
     },
     "metadata": {
      "needs_background": "light"
     },
     "output_type": "display_data"
    }
   ],
   "source": [
    "# plot predicted vs actual\n",
    "plt.figure(figsize = (10, 10))\n",
    "plt.scatter(exp['Actual'], exp['Predicted'], c = 'black')\n",
    "\n",
    "p1 = max(max(exp['Predicted']), max(exp['Actual']))\n",
    "p2 = min(min(exp['Predicted']), min(exp['Actual']))\n",
    "plt.plot([p1, p2], [p1, p2], 'r-')\n",
    "plt.xlabel('True Values', fontsize = 15)\n",
    "plt.ylabel('Predictions', fontsize = 15)\n",
    "plt.axis('equal')\n",
    "plt.show()"
   ]
  },
  {
   "cell_type": "markdown",
   "id": "8739279c",
   "metadata": {},
   "source": [
    "### Predictions and True Values Evaluation\n",
    "\n",
    "Our model is certainly most accurate between the 250,000€ to ~600,000€ range. There is definitely far more outliers as we increase our true values to around the 1,000,000€ mark. Some of these more expensive properties are definitely accurate (2 of note around 1.75m mark) but definitely we see it more accurate at the lower / average end of values. "
   ]
  },
  {
   "cell_type": "markdown",
   "id": "fa9a3abf",
   "metadata": {},
   "source": [
    "### Let's plot locations of our Properties and Accuracy of our results"
   ]
  },
  {
   "cell_type": "code",
   "execution_count": 286,
   "id": "c431eab3",
   "metadata": {},
   "outputs": [
    {
     "name": "stderr",
     "output_type": "stream",
     "text": [
      "2022-04-26 11:15:50,932 fiona._env ERROR Unable to open EPSG support file gcs.csv.  Try setting the GDAL_DATA environment variable to point to the directory containing EPSG csv files.\n",
      "2022-04-26 11:15:50,934 fiona._env ERROR Unable to open EPSG support file gcs.csv.  Try setting the GDAL_DATA environment variable to point to the directory containing EPSG csv files.\n"
     ]
    },
    {
     "data": {
      "text/html": [
       "<div>\n",
       "<style scoped>\n",
       "    .dataframe tbody tr th:only-of-type {\n",
       "        vertical-align: middle;\n",
       "    }\n",
       "\n",
       "    .dataframe tbody tr th {\n",
       "        vertical-align: top;\n",
       "    }\n",
       "\n",
       "    .dataframe thead th {\n",
       "        text-align: right;\n",
       "    }\n",
       "</style>\n",
       "<table border=\"1\" class=\"dataframe\">\n",
       "  <thead>\n",
       "    <tr style=\"text-align: right;\">\n",
       "      <th></th>\n",
       "      <th>OSM_ID</th>\n",
       "      <th>NAME_TAG</th>\n",
       "      <th>NAME_GA</th>\n",
       "      <th>NAME_EN</th>\n",
       "      <th>ALT_NAME</th>\n",
       "      <th>ALT_NAME_G</th>\n",
       "      <th>LOGAINM_RE</th>\n",
       "      <th>OSM_USER</th>\n",
       "      <th>OSM_TIMEST</th>\n",
       "      <th>ATTRIBUTIO</th>\n",
       "      <th>T_IE_URL</th>\n",
       "      <th>AREA</th>\n",
       "      <th>LATITUDE</th>\n",
       "      <th>LONGITUDE</th>\n",
       "      <th>EPOCH_TSTM</th>\n",
       "      <th>geometry</th>\n",
       "    </tr>\n",
       "  </thead>\n",
       "  <tbody>\n",
       "    <tr>\n",
       "      <th>0</th>\n",
       "      <td>-338539.0</td>\n",
       "      <td>Mayo</td>\n",
       "      <td>Contae Mhaigh Eo</td>\n",
       "      <td>County Mayo</td>\n",
       "      <td>None</td>\n",
       "      <td>None</td>\n",
       "      <td>100023</td>\n",
       "      <td>Polarbear</td>\n",
       "      <td>2009-11-28 21:59:01+01</td>\n",
       "      <td>None</td>\n",
       "      <td>http://www.townlands.ie/mayo</td>\n",
       "      <td>5.596522e+09</td>\n",
       "      <td>53.924239</td>\n",
       "      <td>-9.385225</td>\n",
       "      <td>1.259442e+09</td>\n",
       "      <td>MULTIPOLYGON (((-10.13689 54.10969, -10.13601 ...</td>\n",
       "    </tr>\n",
       "  </tbody>\n",
       "</table>\n",
       "</div>"
      ],
      "text/plain": [
       "     OSM_ID NAME_TAG           NAME_GA      NAME_EN ALT_NAME ALT_NAME_G  \\\n",
       "0 -338539.0     Mayo  Contae Mhaigh Eo  County Mayo     None       None   \n",
       "\n",
       "  LOGAINM_RE   OSM_USER              OSM_TIMEST ATTRIBUTIO  \\\n",
       "0     100023  Polarbear  2009-11-28 21:59:01+01       None   \n",
       "\n",
       "                       T_IE_URL          AREA   LATITUDE  LONGITUDE  \\\n",
       "0  http://www.townlands.ie/mayo  5.596522e+09  53.924239  -9.385225   \n",
       "\n",
       "     EPOCH_TSTM                                           geometry  \n",
       "0  1.259442e+09  MULTIPOLYGON (((-10.13689 54.10969, -10.13601 ...  "
      ]
     },
     "execution_count": 286,
     "metadata": {},
     "output_type": "execute_result"
    }
   ],
   "source": [
    "import geopandas as gpd\n",
    "ROI_map = gpd.read_file('counties\\counties.shp')  #reading the shape file for our maps \n",
    "ROI_map.head(1)"
   ]
  },
  {
   "cell_type": "code",
   "execution_count": 287,
   "id": "4cda9c3f",
   "metadata": {},
   "outputs": [
    {
     "data": {
      "text/html": [
       "<div>\n",
       "<style scoped>\n",
       "    .dataframe tbody tr th:only-of-type {\n",
       "        vertical-align: middle;\n",
       "    }\n",
       "\n",
       "    .dataframe tbody tr th {\n",
       "        vertical-align: top;\n",
       "    }\n",
       "\n",
       "    .dataframe thead th {\n",
       "        text-align: right;\n",
       "    }\n",
       "</style>\n",
       "<table border=\"1\" class=\"dataframe\">\n",
       "  <thead>\n",
       "    <tr style=\"text-align: right;\">\n",
       "      <th></th>\n",
       "      <th>OSM_ID</th>\n",
       "      <th>NAME_TAG</th>\n",
       "      <th>NAME_GA</th>\n",
       "      <th>NAME_EN</th>\n",
       "      <th>ALT_NAME</th>\n",
       "      <th>ALT_NAME_G</th>\n",
       "      <th>LOGAINM_RE</th>\n",
       "      <th>OSM_USER</th>\n",
       "      <th>OSM_TIMEST</th>\n",
       "      <th>ATTRIBUTIO</th>\n",
       "      <th>T_IE_URL</th>\n",
       "      <th>AREA</th>\n",
       "      <th>LATITUDE</th>\n",
       "      <th>LONGITUDE</th>\n",
       "      <th>EPOCH_TSTM</th>\n",
       "      <th>geometry</th>\n",
       "    </tr>\n",
       "  </thead>\n",
       "  <tbody>\n",
       "    <tr>\n",
       "      <th>23</th>\n",
       "      <td>-282800.0</td>\n",
       "      <td>Dublin</td>\n",
       "      <td>Contae Ãtha Cliath</td>\n",
       "      <td>County Dublin</td>\n",
       "      <td>None</td>\n",
       "      <td>None</td>\n",
       "      <td>100002</td>\n",
       "      <td>mackerski</td>\n",
       "      <td>2009-10-07 01:32:34+02</td>\n",
       "      <td>None</td>\n",
       "      <td>http://www.townlands.ie/dublin</td>\n",
       "      <td>9.290204e+08</td>\n",
       "      <td>53.392222</td>\n",
       "      <td>-6.283976</td>\n",
       "      <td>1.254872e+09</td>\n",
       "      <td>MULTIPOLYGON (((-6.54689 53.27948, -6.54642 53...</td>\n",
       "    </tr>\n",
       "  </tbody>\n",
       "</table>\n",
       "</div>"
      ],
      "text/plain": [
       "      OSM_ID NAME_TAG              NAME_GA        NAME_EN ALT_NAME ALT_NAME_G  \\\n",
       "23 -282800.0   Dublin  Contae Ãtha Cliath  County Dublin     None       None   \n",
       "\n",
       "   LOGAINM_RE   OSM_USER              OSM_TIMEST ATTRIBUTIO  \\\n",
       "23     100002  mackerski  2009-10-07 01:32:34+02       None   \n",
       "\n",
       "                          T_IE_URL          AREA   LATITUDE  LONGITUDE  \\\n",
       "23  http://www.townlands.ie/dublin  9.290204e+08  53.392222  -6.283976   \n",
       "\n",
       "      EPOCH_TSTM                                           geometry  \n",
       "23  1.254872e+09  MULTIPOLYGON (((-6.54689 53.27948, -6.54642 53...  "
      ]
     },
     "execution_count": 287,
     "metadata": {},
     "output_type": "execute_result"
    }
   ],
   "source": [
    "dub = ROI_map.loc[ROI_map['NAME_TAG'] == 'Dublin']\n",
    "dub"
   ]
  },
  {
   "cell_type": "code",
   "execution_count": 288,
   "id": "74ae6c3c",
   "metadata": {},
   "outputs": [],
   "source": [
    "dub1 = dub[['NAME_TAG', 'LATITUDE', 'LONGITUDE', 'geometry']]"
   ]
  },
  {
   "cell_type": "code",
   "execution_count": 289,
   "id": "4eaf57cb",
   "metadata": {},
   "outputs": [],
   "source": [
    "irl['ActualPrice'] = np.exp(irl['LogPrice (€)'])"
   ]
  },
  {
   "cell_type": "code",
   "execution_count": 290,
   "id": "9586aa80",
   "metadata": {},
   "outputs": [
    {
     "data": {
      "image/png": "[encoded data removed]",
      "text/plain": [
       "<Figure size 936x936 with 2 Axes>"
      ]
     },
     "metadata": {
      "needs_background": "light"
     },
     "output_type": "display_data"
    }
   ],
   "source": [
    "fig, ax = plt.subplots(figsize = (13, 13))\n",
    "# O'Connell St. lat is 53.34975, and the longitude is -6.260113\n",
    "dub1.plot(ax = ax, color = 'silver')\n",
    "#ax.axhline(y = 53.34975, color='r', linestyle = '--')\n",
    "plt.scatter(x = irl['Longitude'], y = irl['Latitude'], c = irl['ActualPrice'], cmap = 'coolwarm')\n",
    "#plt.title('Plot of the Locations of Properties used in the Dublin dataset')\n",
    "plt.colorbar(shrink = 0.65, aspect = 20*0.65)\n",
    "plt.show()\n",
    "\n",
    "#fig.savefig('dublindataset-prices-area.png')"
   ]
  },
  {
   "cell_type": "markdown",
   "id": "5677aabb",
   "metadata": {},
   "source": [
    "### Location of Accurate VS Inaccurate"
   ]
  },
  {
   "cell_type": "code",
   "execution_count": 291,
   "id": "c187e046",
   "metadata": {},
   "outputs": [],
   "source": [
    "l1 = dfreal1.join(x_test_21[['Longitude', 'Latitude']])\n",
    "l2 = dfreal2.join(x_test_20[['Longitude', 'Latitude']])\n",
    "l3 = dfreal3.join(x_test_19[['Longitude', 'Latitude']])\n",
    "l4 = dfreal4.join(x_test_18[['Longitude', 'Latitude']])\n",
    "l5 = dfreal5.join(x_test_17[['Longitude', 'Latitude']])"
   ]
  },
  {
   "cell_type": "code",
   "execution_count": 292,
   "id": "99c8f9db",
   "metadata": {},
   "outputs": [],
   "source": [
    "plots = pd.concat([l1, l2, l3, l4, l5], ignore_index=True)"
   ]
  },
  {
   "cell_type": "code",
   "execution_count": 293,
   "id": "0bfe5e11",
   "metadata": {},
   "outputs": [],
   "source": [
    "plots.rename(columns = {0 : 'Actual'}, inplace = True)"
   ]
  },
  {
   "cell_type": "code",
   "execution_count": 294,
   "id": "459342c2",
   "metadata": {},
   "outputs": [
    {
     "data": {
      "text/html": [
       "<div>\n",
       "<style scoped>\n",
       "    .dataframe tbody tr th:only-of-type {\n",
       "        vertical-align: middle;\n",
       "    }\n",
       "\n",
       "    .dataframe tbody tr th {\n",
       "        vertical-align: top;\n",
       "    }\n",
       "\n",
       "    .dataframe thead th {\n",
       "        text-align: right;\n",
       "    }\n",
       "</style>\n",
       "<table border=\"1\" class=\"dataframe\">\n",
       "  <thead>\n",
       "    <tr style=\"text-align: right;\">\n",
       "      <th></th>\n",
       "      <th>Actual</th>\n",
       "      <th>Longitude</th>\n",
       "      <th>Latitude</th>\n",
       "      <th>Predicted</th>\n",
       "    </tr>\n",
       "  </thead>\n",
       "  <tbody>\n",
       "    <tr>\n",
       "      <th>0</th>\n",
       "      <td>12.624668</td>\n",
       "      <td>-6.433316</td>\n",
       "      <td>53.287576</td>\n",
       "      <td>12.659390</td>\n",
       "    </tr>\n",
       "    <tr>\n",
       "      <th>1</th>\n",
       "      <td>12.747268</td>\n",
       "      <td>-6.434182</td>\n",
       "      <td>53.286440</td>\n",
       "      <td>12.669011</td>\n",
       "    </tr>\n",
       "    <tr>\n",
       "      <th>2</th>\n",
       "      <td>13.072690</td>\n",
       "      <td>-6.127101</td>\n",
       "      <td>53.397993</td>\n",
       "      <td>12.488560</td>\n",
       "    </tr>\n",
       "    <tr>\n",
       "      <th>3</th>\n",
       "      <td>12.797276</td>\n",
       "      <td>-6.154503</td>\n",
       "      <td>53.404602</td>\n",
       "      <td>12.718362</td>\n",
       "    </tr>\n",
       "    <tr>\n",
       "      <th>4</th>\n",
       "      <td>12.653239</td>\n",
       "      <td>-6.434182</td>\n",
       "      <td>53.286440</td>\n",
       "      <td>12.669011</td>\n",
       "    </tr>\n",
       "  </tbody>\n",
       "</table>\n",
       "</div>"
      ],
      "text/plain": [
       "      Actual  Longitude   Latitude  Predicted\n",
       "0  12.624668  -6.433316  53.287576  12.659390\n",
       "1  12.747268  -6.434182  53.286440  12.669011\n",
       "2  13.072690  -6.127101  53.397993  12.488560\n",
       "3  12.797276  -6.154503  53.404602  12.718362\n",
       "4  12.653239  -6.434182  53.286440  12.669011"
      ]
     },
     "execution_count": 294,
     "metadata": {},
     "output_type": "execute_result"
    }
   ],
   "source": [
    "plotscomp = plots.join(pred)\n",
    "plotscomp.head()"
   ]
  },
  {
   "cell_type": "code",
   "execution_count": 295,
   "id": "5101985d",
   "metadata": {},
   "outputs": [],
   "source": [
    "exp1 = np.exp(plotscomp[['Actual', 'Predicted']])"
   ]
  },
  {
   "cell_type": "code",
   "execution_count": 296,
   "id": "5dfb576f",
   "metadata": {},
   "outputs": [],
   "source": [
    "exp1 = exp1.join(plotscomp[['Longitude', 'Latitude']])"
   ]
  },
  {
   "cell_type": "code",
   "execution_count": 297,
   "id": "6ee69988",
   "metadata": {},
   "outputs": [
    {
     "data": {
      "text/html": [
       "<div>\n",
       "<style scoped>\n",
       "    .dataframe tbody tr th:only-of-type {\n",
       "        vertical-align: middle;\n",
       "    }\n",
       "\n",
       "    .dataframe tbody tr th {\n",
       "        vertical-align: top;\n",
       "    }\n",
       "\n",
       "    .dataframe thead th {\n",
       "        text-align: right;\n",
       "    }\n",
       "</style>\n",
       "<table border=\"1\" class=\"dataframe\">\n",
       "  <thead>\n",
       "    <tr style=\"text-align: right;\">\n",
       "      <th></th>\n",
       "      <th>Actual</th>\n",
       "      <th>Predicted</th>\n",
       "      <th>Longitude</th>\n",
       "      <th>Latitude</th>\n",
       "    </tr>\n",
       "  </thead>\n",
       "  <tbody>\n",
       "    <tr>\n",
       "      <th>0</th>\n",
       "      <td>303965.0</td>\n",
       "      <td>314704.748411</td>\n",
       "      <td>-6.433316</td>\n",
       "      <td>53.287576</td>\n",
       "    </tr>\n",
       "    <tr>\n",
       "      <th>1</th>\n",
       "      <td>343612.0</td>\n",
       "      <td>317747.235834</td>\n",
       "      <td>-6.434182</td>\n",
       "      <td>53.286440</td>\n",
       "    </tr>\n",
       "    <tr>\n",
       "      <th>2</th>\n",
       "      <td>475770.0</td>\n",
       "      <td>265285.010587</td>\n",
       "      <td>-6.127101</td>\n",
       "      <td>53.397993</td>\n",
       "    </tr>\n",
       "    <tr>\n",
       "      <th>3</th>\n",
       "      <td>361232.0</td>\n",
       "      <td>333821.641915</td>\n",
       "      <td>-6.154503</td>\n",
       "      <td>53.404602</td>\n",
       "    </tr>\n",
       "    <tr>\n",
       "      <th>4</th>\n",
       "      <td>312775.0</td>\n",
       "      <td>317747.235834</td>\n",
       "      <td>-6.434182</td>\n",
       "      <td>53.286440</td>\n",
       "    </tr>\n",
       "  </tbody>\n",
       "</table>\n",
       "</div>"
      ],
      "text/plain": [
       "     Actual      Predicted  Longitude   Latitude\n",
       "0  303965.0  314704.748411  -6.433316  53.287576\n",
       "1  343612.0  317747.235834  -6.434182  53.286440\n",
       "2  475770.0  265285.010587  -6.127101  53.397993\n",
       "3  361232.0  333821.641915  -6.154503  53.404602\n",
       "4  312775.0  317747.235834  -6.434182  53.286440"
      ]
     },
     "execution_count": 297,
     "metadata": {},
     "output_type": "execute_result"
    }
   ],
   "source": [
    "exp1.head()"
   ]
  },
  {
   "cell_type": "code",
   "execution_count": 298,
   "id": "abe6b7e0",
   "metadata": {},
   "outputs": [],
   "source": [
    "num = 0.1\n",
    "lst = []\n",
    "test = np.array(exp1['Actual'])\n",
    "pred = np.array(exp1['Predicted'])\n",
    "count = 0\n",
    "for i in range(len(pred)):\n",
    "    if test[i] != 0:  \n",
    "        ten = test[i] * num\n",
    "        res = test[i] - pred[i]\n",
    "    else:\n",
    "        res = 0\n",
    "        ten = 0\n",
    "        \n",
    "    if res < 0:\n",
    "        res = res * -1\n",
    "    else:\n",
    "        res = res\n",
    "            \n",
    "    if res <= ten:\n",
    "        lst.append(1)\n",
    "    else:\n",
    "        lst.append(0)"
   ]
  },
  {
   "cell_type": "code",
   "execution_count": 299,
   "id": "8f5706fb",
   "metadata": {},
   "outputs": [],
   "source": [
    "exp1['Accurate'] = lst"
   ]
  },
  {
   "cell_type": "code",
   "execution_count": 300,
   "id": "13d0b051",
   "metadata": {},
   "outputs": [
    {
     "data": {
      "text/html": [
       "<div>\n",
       "<style scoped>\n",
       "    .dataframe tbody tr th:only-of-type {\n",
       "        vertical-align: middle;\n",
       "    }\n",
       "\n",
       "    .dataframe tbody tr th {\n",
       "        vertical-align: top;\n",
       "    }\n",
       "\n",
       "    .dataframe thead th {\n",
       "        text-align: right;\n",
       "    }\n",
       "</style>\n",
       "<table border=\"1\" class=\"dataframe\">\n",
       "  <thead>\n",
       "    <tr style=\"text-align: right;\">\n",
       "      <th></th>\n",
       "      <th>Actual</th>\n",
       "      <th>Predicted</th>\n",
       "      <th>Longitude</th>\n",
       "      <th>Latitude</th>\n",
       "      <th>Accurate</th>\n",
       "    </tr>\n",
       "  </thead>\n",
       "  <tbody>\n",
       "    <tr>\n",
       "      <th>0</th>\n",
       "      <td>303965.0</td>\n",
       "      <td>314704.748411</td>\n",
       "      <td>-6.433316</td>\n",
       "      <td>53.287576</td>\n",
       "      <td>1</td>\n",
       "    </tr>\n",
       "    <tr>\n",
       "      <th>1</th>\n",
       "      <td>343612.0</td>\n",
       "      <td>317747.235834</td>\n",
       "      <td>-6.434182</td>\n",
       "      <td>53.286440</td>\n",
       "      <td>1</td>\n",
       "    </tr>\n",
       "    <tr>\n",
       "      <th>2</th>\n",
       "      <td>475770.0</td>\n",
       "      <td>265285.010587</td>\n",
       "      <td>-6.127101</td>\n",
       "      <td>53.397993</td>\n",
       "      <td>0</td>\n",
       "    </tr>\n",
       "    <tr>\n",
       "      <th>3</th>\n",
       "      <td>361232.0</td>\n",
       "      <td>333821.641915</td>\n",
       "      <td>-6.154503</td>\n",
       "      <td>53.404602</td>\n",
       "      <td>1</td>\n",
       "    </tr>\n",
       "    <tr>\n",
       "      <th>4</th>\n",
       "      <td>312775.0</td>\n",
       "      <td>317747.235834</td>\n",
       "      <td>-6.434182</td>\n",
       "      <td>53.286440</td>\n",
       "      <td>1</td>\n",
       "    </tr>\n",
       "  </tbody>\n",
       "</table>\n",
       "</div>"
      ],
      "text/plain": [
       "     Actual      Predicted  Longitude   Latitude  Accurate\n",
       "0  303965.0  314704.748411  -6.433316  53.287576         1\n",
       "1  343612.0  317747.235834  -6.434182  53.286440         1\n",
       "2  475770.0  265285.010587  -6.127101  53.397993         0\n",
       "3  361232.0  333821.641915  -6.154503  53.404602         1\n",
       "4  312775.0  317747.235834  -6.434182  53.286440         1"
      ]
     },
     "execution_count": 300,
     "metadata": {},
     "output_type": "execute_result"
    }
   ],
   "source": [
    "exp1.head()"
   ]
  },
  {
   "cell_type": "code",
   "execution_count": 301,
   "id": "0004643c",
   "metadata": {},
   "outputs": [],
   "source": [
    "from matplotlib.colors import ListedColormap, LinearSegmentedColormap\n",
    "cmap1 = ListedColormap([\"red\", \"limegreen\"])"
   ]
  },
  {
   "cell_type": "code",
   "execution_count": 302,
   "id": "448af163",
   "metadata": {},
   "outputs": [
    {
     "data": {
      "image/png": "[encoded data removed]",
      "text/plain": [
       "<Figure size 1440x720 with 2 Axes>"
      ]
     },
     "metadata": {
      "needs_background": "light"
     },
     "output_type": "display_data"
    }
   ],
   "source": [
    "### RED = accurate , BLUE = Inaccurate\n",
    "fig, ax = plt.subplots(figsize = (20, 10))\n",
    "# O'Connell St. lat is 53.34975, and the longitude is -6.260113\n",
    "dub1.plot(ax = ax, color = 'lightgrey')\n",
    "#ax.axhline(y = 53.34975, color = 'r', linestyle = '--')\n",
    "plt.scatter(x = exp1['Longitude'], y = exp1['Latitude'], c = exp1['Accurate'], cmap = cmap1)\n",
    "plt.title('Plot of Locations of Accurately Predicted properties used in test dataset')\n",
    "plt.colorbar()\n",
    "plt.show()"
   ]
  },
  {
   "cell_type": "code",
   "execution_count": 303,
   "id": "01f1069f",
   "metadata": {},
   "outputs": [
    {
     "data": {
      "text/html": [
       "<div>\n",
       "<style scoped>\n",
       "    .dataframe tbody tr th:only-of-type {\n",
       "        vertical-align: middle;\n",
       "    }\n",
       "\n",
       "    .dataframe tbody tr th {\n",
       "        vertical-align: top;\n",
       "    }\n",
       "\n",
       "    .dataframe thead th {\n",
       "        text-align: right;\n",
       "    }\n",
       "</style>\n",
       "<table border=\"1\" class=\"dataframe\">\n",
       "  <thead>\n",
       "    <tr style=\"text-align: right;\">\n",
       "      <th></th>\n",
       "      <th>Algorithm</th>\n",
       "      <th>Year</th>\n",
       "      <th>RMSE</th>\n",
       "      <th>MSE</th>\n",
       "      <th>MEDAE</th>\n",
       "      <th>Accuracy</th>\n",
       "      <th>MAPE</th>\n",
       "    </tr>\n",
       "  </thead>\n",
       "  <tbody>\n",
       "    <tr>\n",
       "      <th>0</th>\n",
       "      <td>Bayesian</td>\n",
       "      <td>2020</td>\n",
       "      <td>146027.578822</td>\n",
       "      <td>2.132405e+10</td>\n",
       "      <td>45819.520516</td>\n",
       "      <td>0.370016</td>\n",
       "      <td>0.231073</td>\n",
       "    </tr>\n",
       "    <tr>\n",
       "      <th>1</th>\n",
       "      <td>Bayesian</td>\n",
       "      <td>2021</td>\n",
       "      <td>172695.076543</td>\n",
       "      <td>2.982359e+10</td>\n",
       "      <td>45861.682855</td>\n",
       "      <td>0.443316</td>\n",
       "      <td>0.205888</td>\n",
       "    </tr>\n",
       "    <tr>\n",
       "      <th>2</th>\n",
       "      <td>CatBoost</td>\n",
       "      <td>2020</td>\n",
       "      <td>121653.233455</td>\n",
       "      <td>1.479951e+10</td>\n",
       "      <td>32710.960724</td>\n",
       "      <td>0.496013</td>\n",
       "      <td>0.189314</td>\n",
       "    </tr>\n",
       "    <tr>\n",
       "      <th>3</th>\n",
       "      <td>CatBoost</td>\n",
       "      <td>2021</td>\n",
       "      <td>173731.364042</td>\n",
       "      <td>3.018259e+10</td>\n",
       "      <td>42165.950189</td>\n",
       "      <td>0.456853</td>\n",
       "      <td>0.205605</td>\n",
       "    </tr>\n",
       "    <tr>\n",
       "      <th>4</th>\n",
       "      <td>LightGBM</td>\n",
       "      <td>2021</td>\n",
       "      <td>171029.181699</td>\n",
       "      <td>2.925098e+10</td>\n",
       "      <td>42635.440585</td>\n",
       "      <td>0.453469</td>\n",
       "      <td>0.208744</td>\n",
       "    </tr>\n",
       "    <tr>\n",
       "      <th>5</th>\n",
       "      <td>LightGBM</td>\n",
       "      <td>2020</td>\n",
       "      <td>112540.771517</td>\n",
       "      <td>1.266543e+10</td>\n",
       "      <td>32830.893370</td>\n",
       "      <td>0.505582</td>\n",
       "      <td>0.174905</td>\n",
       "    </tr>\n",
       "    <tr>\n",
       "      <th>6</th>\n",
       "      <td>AdaBoost</td>\n",
       "      <td>2020</td>\n",
       "      <td>123929.103865</td>\n",
       "      <td>1.535842e+10</td>\n",
       "      <td>45584.375330</td>\n",
       "      <td>0.385965</td>\n",
       "      <td>0.197538</td>\n",
       "    </tr>\n",
       "    <tr>\n",
       "      <th>7</th>\n",
       "      <td>AdaBoost</td>\n",
       "      <td>2021</td>\n",
       "      <td>197825.424620</td>\n",
       "      <td>3.913490e+10</td>\n",
       "      <td>63613.457271</td>\n",
       "      <td>0.326565</td>\n",
       "      <td>0.246387</td>\n",
       "    </tr>\n",
       "    <tr>\n",
       "      <th>8</th>\n",
       "      <td>MLR</td>\n",
       "      <td>2020</td>\n",
       "      <td>145480.878542</td>\n",
       "      <td>2.116469e+10</td>\n",
       "      <td>45334.253354</td>\n",
       "      <td>0.371611</td>\n",
       "      <td>0.232927</td>\n",
       "    </tr>\n",
       "    <tr>\n",
       "      <th>9</th>\n",
       "      <td>MLR</td>\n",
       "      <td>2021</td>\n",
       "      <td>172699.760659</td>\n",
       "      <td>2.982521e+10</td>\n",
       "      <td>47041.711718</td>\n",
       "      <td>0.426396</td>\n",
       "      <td>0.205911</td>\n",
       "    </tr>\n",
       "    <tr>\n",
       "      <th>10</th>\n",
       "      <td>AutoML</td>\n",
       "      <td>2020</td>\n",
       "      <td>110908.654715</td>\n",
       "      <td>1.230073e+10</td>\n",
       "      <td>39304.303114</td>\n",
       "      <td>0.547049</td>\n",
       "      <td>0.173849</td>\n",
       "    </tr>\n",
       "    <tr>\n",
       "      <th>11</th>\n",
       "      <td>AutoML</td>\n",
       "      <td>2021</td>\n",
       "      <td>172544.226953</td>\n",
       "      <td>2.977151e+10</td>\n",
       "      <td>39304.303114</td>\n",
       "      <td>0.482234</td>\n",
       "      <td>0.203255</td>\n",
       "    </tr>\n",
       "    <tr>\n",
       "      <th>12</th>\n",
       "      <td>AutoML</td>\n",
       "      <td>2019</td>\n",
       "      <td>92421.092578</td>\n",
       "      <td>8.541658e+09</td>\n",
       "      <td>35381.238903</td>\n",
       "      <td>0.473618</td>\n",
       "      <td>0.156903</td>\n",
       "    </tr>\n",
       "    <tr>\n",
       "      <th>13</th>\n",
       "      <td>MLR</td>\n",
       "      <td>2019</td>\n",
       "      <td>89622.080966</td>\n",
       "      <td>8.032117e+09</td>\n",
       "      <td>39856.369891</td>\n",
       "      <td>0.414573</td>\n",
       "      <td>0.170282</td>\n",
       "    </tr>\n",
       "    <tr>\n",
       "      <th>14</th>\n",
       "      <td>AdaBoost</td>\n",
       "      <td>2019</td>\n",
       "      <td>123937.697156</td>\n",
       "      <td>1.536055e+10</td>\n",
       "      <td>47865.676035</td>\n",
       "      <td>0.316583</td>\n",
       "      <td>0.196751</td>\n",
       "    </tr>\n",
       "    <tr>\n",
       "      <th>15</th>\n",
       "      <td>LightGBM</td>\n",
       "      <td>2019</td>\n",
       "      <td>95168.234054</td>\n",
       "      <td>9.056993e+09</td>\n",
       "      <td>37396.419980</td>\n",
       "      <td>0.466080</td>\n",
       "      <td>0.169712</td>\n",
       "    </tr>\n",
       "    <tr>\n",
       "      <th>16</th>\n",
       "      <td>CatBoost</td>\n",
       "      <td>2019</td>\n",
       "      <td>96925.878125</td>\n",
       "      <td>9.394626e+09</td>\n",
       "      <td>38211.643525</td>\n",
       "      <td>0.456030</td>\n",
       "      <td>0.165403</td>\n",
       "    </tr>\n",
       "    <tr>\n",
       "      <th>17</th>\n",
       "      <td>Bayesian</td>\n",
       "      <td>2019</td>\n",
       "      <td>89610.021697</td>\n",
       "      <td>8.029956e+09</td>\n",
       "      <td>39404.411248</td>\n",
       "      <td>0.424623</td>\n",
       "      <td>0.168965</td>\n",
       "    </tr>\n",
       "    <tr>\n",
       "      <th>18</th>\n",
       "      <td>AutoML</td>\n",
       "      <td>2018</td>\n",
       "      <td>132899.077111</td>\n",
       "      <td>1.766216e+10</td>\n",
       "      <td>36597.916771</td>\n",
       "      <td>0.448319</td>\n",
       "      <td>0.221980</td>\n",
       "    </tr>\n",
       "    <tr>\n",
       "      <th>19</th>\n",
       "      <td>MLR</td>\n",
       "      <td>2018</td>\n",
       "      <td>151092.289050</td>\n",
       "      <td>2.282888e+10</td>\n",
       "      <td>42920.459524</td>\n",
       "      <td>0.346202</td>\n",
       "      <td>0.257616</td>\n",
       "    </tr>\n",
       "    <tr>\n",
       "      <th>20</th>\n",
       "      <td>AdaBoost</td>\n",
       "      <td>2018</td>\n",
       "      <td>146560.573000</td>\n",
       "      <td>2.148000e+10</td>\n",
       "      <td>49745.300084</td>\n",
       "      <td>0.326276</td>\n",
       "      <td>0.241696</td>\n",
       "    </tr>\n",
       "    <tr>\n",
       "      <th>21</th>\n",
       "      <td>LightGBM</td>\n",
       "      <td>2018</td>\n",
       "      <td>133549.222904</td>\n",
       "      <td>1.783539e+10</td>\n",
       "      <td>38056.311033</td>\n",
       "      <td>0.391034</td>\n",
       "      <td>0.226789</td>\n",
       "    </tr>\n",
       "    <tr>\n",
       "      <th>22</th>\n",
       "      <td>CatBoost</td>\n",
       "      <td>2018</td>\n",
       "      <td>136584.136539</td>\n",
       "      <td>1.865523e+10</td>\n",
       "      <td>34725.327261</td>\n",
       "      <td>0.459527</td>\n",
       "      <td>0.215660</td>\n",
       "    </tr>\n",
       "    <tr>\n",
       "      <th>23</th>\n",
       "      <td>Bayesian</td>\n",
       "      <td>2018</td>\n",
       "      <td>151946.656999</td>\n",
       "      <td>2.308779e+10</td>\n",
       "      <td>43682.456708</td>\n",
       "      <td>0.328767</td>\n",
       "      <td>0.260467</td>\n",
       "    </tr>\n",
       "    <tr>\n",
       "      <th>24</th>\n",
       "      <td>AutoML</td>\n",
       "      <td>2017</td>\n",
       "      <td>134897.184708</td>\n",
       "      <td>1.819725e+10</td>\n",
       "      <td>38342.975595</td>\n",
       "      <td>0.382979</td>\n",
       "      <td>0.216431</td>\n",
       "    </tr>\n",
       "    <tr>\n",
       "      <th>25</th>\n",
       "      <td>MLR</td>\n",
       "      <td>2017</td>\n",
       "      <td>191961.532712</td>\n",
       "      <td>3.684923e+10</td>\n",
       "      <td>50792.770859</td>\n",
       "      <td>0.306383</td>\n",
       "      <td>0.277778</td>\n",
       "    </tr>\n",
       "    <tr>\n",
       "      <th>26</th>\n",
       "      <td>AdaBoost</td>\n",
       "      <td>2017</td>\n",
       "      <td>144320.320090</td>\n",
       "      <td>2.082835e+10</td>\n",
       "      <td>55015.298109</td>\n",
       "      <td>0.297872</td>\n",
       "      <td>0.238938</td>\n",
       "    </tr>\n",
       "    <tr>\n",
       "      <th>27</th>\n",
       "      <td>LightGBM</td>\n",
       "      <td>2017</td>\n",
       "      <td>137613.100795</td>\n",
       "      <td>1.893737e+10</td>\n",
       "      <td>42842.762623</td>\n",
       "      <td>0.340426</td>\n",
       "      <td>0.217328</td>\n",
       "    </tr>\n",
       "    <tr>\n",
       "      <th>28</th>\n",
       "      <td>CatBoost</td>\n",
       "      <td>2017</td>\n",
       "      <td>134111.401212</td>\n",
       "      <td>1.798587e+10</td>\n",
       "      <td>38101.858674</td>\n",
       "      <td>0.310638</td>\n",
       "      <td>0.207708</td>\n",
       "    </tr>\n",
       "    <tr>\n",
       "      <th>29</th>\n",
       "      <td>Bayesian</td>\n",
       "      <td>2017</td>\n",
       "      <td>192449.286393</td>\n",
       "      <td>3.703673e+10</td>\n",
       "      <td>50816.208064</td>\n",
       "      <td>0.314894</td>\n",
       "      <td>0.275136</td>\n",
       "    </tr>\n",
       "  </tbody>\n",
       "</table>\n",
       "</div>"
      ],
      "text/plain": [
       "   Algorithm  Year           RMSE           MSE         MEDAE  Accuracy  \\\n",
       "0   Bayesian  2020  146027.578822  2.132405e+10  45819.520516  0.370016   \n",
       "1   Bayesian  2021  172695.076543  2.982359e+10  45861.682855  0.443316   \n",
       "2   CatBoost  2020  121653.233455  1.479951e+10  32710.960724  0.496013   \n",
       "3   CatBoost  2021  173731.364042  3.018259e+10  42165.950189  0.456853   \n",
       "4   LightGBM  2021  171029.181699  2.925098e+10  42635.440585  0.453469   \n",
       "5   LightGBM  2020  112540.771517  1.266543e+10  32830.893370  0.505582   \n",
       "6   AdaBoost  2020  123929.103865  1.535842e+10  45584.375330  0.385965   \n",
       "7   AdaBoost  2021  197825.424620  3.913490e+10  63613.457271  0.326565   \n",
       "8        MLR  2020  145480.878542  2.116469e+10  45334.253354  0.371611   \n",
       "9        MLR  2021  172699.760659  2.982521e+10  47041.711718  0.426396   \n",
       "10    AutoML  2020  110908.654715  1.230073e+10  39304.303114  0.547049   \n",
       "11    AutoML  2021  172544.226953  2.977151e+10  39304.303114  0.482234   \n",
       "12    AutoML  2019   92421.092578  8.541658e+09  35381.238903  0.473618   \n",
       "13       MLR  2019   89622.080966  8.032117e+09  39856.369891  0.414573   \n",
       "14  AdaBoost  2019  123937.697156  1.536055e+10  47865.676035  0.316583   \n",
       "15  LightGBM  2019   95168.234054  9.056993e+09  37396.419980  0.466080   \n",
       "16  CatBoost  2019   96925.878125  9.394626e+09  38211.643525  0.456030   \n",
       "17  Bayesian  2019   89610.021697  8.029956e+09  39404.411248  0.424623   \n",
       "18    AutoML  2018  132899.077111  1.766216e+10  36597.916771  0.448319   \n",
       "19       MLR  2018  151092.289050  2.282888e+10  42920.459524  0.346202   \n",
       "20  AdaBoost  2018  146560.573000  2.148000e+10  49745.300084  0.326276   \n",
       "21  LightGBM  2018  133549.222904  1.783539e+10  38056.311033  0.391034   \n",
       "22  CatBoost  2018  136584.136539  1.865523e+10  34725.327261  0.459527   \n",
       "23  Bayesian  2018  151946.656999  2.308779e+10  43682.456708  0.328767   \n",
       "24    AutoML  2017  134897.184708  1.819725e+10  38342.975595  0.382979   \n",
       "25       MLR  2017  191961.532712  3.684923e+10  50792.770859  0.306383   \n",
       "26  AdaBoost  2017  144320.320090  2.082835e+10  55015.298109  0.297872   \n",
       "27  LightGBM  2017  137613.100795  1.893737e+10  42842.762623  0.340426   \n",
       "28  CatBoost  2017  134111.401212  1.798587e+10  38101.858674  0.310638   \n",
       "29  Bayesian  2017  192449.286393  3.703673e+10  50816.208064  0.314894   \n",
       "\n",
       "        MAPE  \n",
       "0   0.231073  \n",
       "1   0.205888  \n",
       "2   0.189314  \n",
       "3   0.205605  \n",
       "4   0.208744  \n",
       "5   0.174905  \n",
       "6   0.197538  \n",
       "7   0.246387  \n",
       "8   0.232927  \n",
       "9   0.205911  \n",
       "10  0.173849  \n",
       "11  0.203255  \n",
       "12  0.156903  \n",
       "13  0.170282  \n",
       "14  0.196751  \n",
       "15  0.169712  \n",
       "16  0.165403  \n",
       "17  0.168965  \n",
       "18  0.221980  \n",
       "19  0.257616  \n",
       "20  0.241696  \n",
       "21  0.226789  \n",
       "22  0.215660  \n",
       "23  0.260467  \n",
       "24  0.216431  \n",
       "25  0.277778  \n",
       "26  0.238938  \n",
       "27  0.217328  \n",
       "28  0.207708  \n",
       "29  0.275136  "
      ]
     },
     "execution_count": 303,
     "metadata": {},
     "output_type": "execute_result"
    }
   ],
   "source": [
    "vis2"
   ]
  },
  {
   "cell_type": "code",
   "execution_count": 310,
   "id": "b10c50f6",
   "metadata": {},
   "outputs": [
    {
     "data": {
      "text/html": [
       "<style type=\"text/css\">\n",
       "</style>\n",
       "<table id=\"T_ef9e7_\">\n",
       "  <thead>\n",
       "    <tr>\n",
       "      <th class=\"blank level0\" >&nbsp;</th>\n",
       "      <th class=\"col_heading level0 col0\" >RMSE</th>\n",
       "      <th class=\"col_heading level0 col1\" >MSE</th>\n",
       "      <th class=\"col_heading level0 col2\" >MEDAE</th>\n",
       "      <th class=\"col_heading level0 col3\" >Accuracy</th>\n",
       "      <th class=\"col_heading level0 col4\" >MAPE</th>\n",
       "    </tr>\n",
       "    <tr>\n",
       "      <th class=\"index_name level0\" >Algorithm</th>\n",
       "      <th class=\"blank col0\" >&nbsp;</th>\n",
       "      <th class=\"blank col1\" >&nbsp;</th>\n",
       "      <th class=\"blank col2\" >&nbsp;</th>\n",
       "      <th class=\"blank col3\" >&nbsp;</th>\n",
       "      <th class=\"blank col4\" >&nbsp;</th>\n",
       "    </tr>\n",
       "  </thead>\n",
       "  <tbody>\n",
       "    <tr>\n",
       "      <th id=\"T_ef9e7_level0_row0\" class=\"row_heading level0 row0\" >AdaBoost</th>\n",
       "      <td id=\"T_ef9e7_row0_col0\" class=\"data row0 col0\" >147314.624</td>\n",
       "      <td id=\"T_ef9e7_row0_col1\" class=\"data row0 col1\" >22432446107.245</td>\n",
       "      <td id=\"T_ef9e7_row0_col2\" class=\"data row0 col2\" >52364.821</td>\n",
       "      <td id=\"T_ef9e7_row0_col3\" class=\"data row0 col3\" >0.331</td>\n",
       "      <td id=\"T_ef9e7_row0_col4\" class=\"data row0 col4\" >0.224</td>\n",
       "    </tr>\n",
       "    <tr>\n",
       "      <th id=\"T_ef9e7_level0_row1\" class=\"row_heading level0 row1\" >AutoML</th>\n",
       "      <td id=\"T_ef9e7_row1_col0\" class=\"data row1 col0\" >128734.047</td>\n",
       "      <td id=\"T_ef9e7_row1_col1\" class=\"data row1 col1\" >17294662687.565</td>\n",
       "      <td id=\"T_ef9e7_row1_col2\" class=\"data row1 col2\" >37786.147</td>\n",
       "      <td id=\"T_ef9e7_row1_col3\" class=\"data row1 col3\" >0.467</td>\n",
       "      <td id=\"T_ef9e7_row1_col4\" class=\"data row1 col4\" >0.194</td>\n",
       "    </tr>\n",
       "    <tr>\n",
       "      <th id=\"T_ef9e7_level0_row2\" class=\"row_heading level0 row2\" >Bayesian</th>\n",
       "      <td id=\"T_ef9e7_row2_col0\" class=\"data row2 col0\" >150545.724</td>\n",
       "      <td id=\"T_ef9e7_row2_col1\" class=\"data row2 col1\" >23860422726.719</td>\n",
       "      <td id=\"T_ef9e7_row2_col2\" class=\"data row2 col2\" >45116.856</td>\n",
       "      <td id=\"T_ef9e7_row2_col3\" class=\"data row2 col3\" >0.376</td>\n",
       "      <td id=\"T_ef9e7_row2_col4\" class=\"data row2 col4\" >0.228</td>\n",
       "    </tr>\n",
       "    <tr>\n",
       "      <th id=\"T_ef9e7_level0_row3\" class=\"row_heading level0 row3\" >CatBoost</th>\n",
       "      <td id=\"T_ef9e7_row3_col0\" class=\"data row3 col0\" >132601.203</td>\n",
       "      <td id=\"T_ef9e7_row3_col1\" class=\"data row3 col1\" >18203563240.269</td>\n",
       "      <td id=\"T_ef9e7_row3_col2\" class=\"data row3 col2\" >37183.148</td>\n",
       "      <td id=\"T_ef9e7_row3_col3\" class=\"data row3 col3\" >0.436</td>\n",
       "      <td id=\"T_ef9e7_row3_col4\" class=\"data row3 col4\" >0.197</td>\n",
       "    </tr>\n",
       "    <tr>\n",
       "      <th id=\"T_ef9e7_level0_row4\" class=\"row_heading level0 row4\" >LightGBM</th>\n",
       "      <td id=\"T_ef9e7_row4_col0\" class=\"data row4 col0\" >129980.102</td>\n",
       "      <td id=\"T_ef9e7_row4_col1\" class=\"data row4 col1\" >17549231893.545</td>\n",
       "      <td id=\"T_ef9e7_row4_col2\" class=\"data row4 col2\" >38752.366</td>\n",
       "      <td id=\"T_ef9e7_row4_col3\" class=\"data row4 col3\" >0.431</td>\n",
       "      <td id=\"T_ef9e7_row4_col4\" class=\"data row4 col4\" >0.199</td>\n",
       "    </tr>\n",
       "    <tr>\n",
       "      <th id=\"T_ef9e7_level0_row5\" class=\"row_heading level0 row5\" >MLR</th>\n",
       "      <td id=\"T_ef9e7_row5_col0\" class=\"data row5 col0\" >150171.308</td>\n",
       "      <td id=\"T_ef9e7_row5_col1\" class=\"data row5 col1\" >23740024120.210</td>\n",
       "      <td id=\"T_ef9e7_row5_col2\" class=\"data row5 col2\" >45189.113</td>\n",
       "      <td id=\"T_ef9e7_row5_col3\" class=\"data row5 col3\" >0.373</td>\n",
       "      <td id=\"T_ef9e7_row5_col4\" class=\"data row5 col4\" >0.229</td>\n",
       "    </tr>\n",
       "  </tbody>\n",
       "</table>\n"
      ],
      "text/plain": [
       "<pandas.io.formats.style.Styler at 0x244f66fe130>"
      ]
     },
     "execution_count": 310,
     "metadata": {},
     "output_type": "execute_result"
    }
   ],
   "source": [
    "valuess = vis2.groupby(['Algorithm']).mean()\n",
    "#valuess.rename(columns={0: 'Averages'}, inplace = True)\n",
    "valuess.style.format(\"{:.3f}\")"
   ]
  }
 ],
 "metadata": {
  "kernelspec": {
   "display_name": "Python 3 (ipykernel)",
   "language": "python",
   "name": "python3"
  },
  "language_info": {
   "codemirror_mode": {
    "name": "ipython",
    "version": 3
   },
   "file_extension": ".py",
   "mimetype": "text/x-python",
   "name": "python",
   "nbconvert_exporter": "python",
   "pygments_lexer": "ipython3",
   "version": "3.8.12"
  }
 },
 "nbformat": 4,
 "nbformat_minor": 5
}
