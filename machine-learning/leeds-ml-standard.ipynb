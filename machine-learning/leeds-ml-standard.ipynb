{
 "cells": [
  {
   "cell_type": "code",
   "execution_count": 1,
   "id": "5342e164",
   "metadata": {},
   "outputs": [
    {
     "name": "stdout",
     "output_type": "stream",
     "text": [
      "Imported sci-kit learn and AutoML libraries!\n"
     ]
    }
   ],
   "source": [
    "import pandas as pd\n",
    "import numpy as np\n",
    "from sklearn.datasets import make_classification\n",
    "from sklearn.model_selection import train_test_split\n",
    "import os\n",
    "from supervised.automl import AutoML\n",
    "import category_encoders as ce\n",
    "import math\n",
    "\n",
    "# visualization\n",
    "import seaborn as sns\n",
    "import matplotlib.pyplot as plt\n",
    "\n",
    "from sklearn.metrics import accuracy_score\n",
    "from sklearn.metrics import mean_squared_error\n",
    "from sklearn.model_selection import train_test_split\n",
    "from sklearn.model_selection import cross_val_score, GridSearchCV\n",
    "from sklearn.linear_model import LogisticRegression\n",
    "from sklearn.tree import DecisionTreeClassifier\n",
    "from sklearn.ensemble import RandomForestClassifier\n",
    "from category_encoders import TargetEncoder\n",
    "from sklearn.metrics import median_absolute_error\n",
    "print('Imported sci-kit learn and AutoML libraries!')"
   ]
  },
  {
   "cell_type": "markdown",
   "id": "c2930a18",
   "metadata": {},
   "source": [
    "# UK Prediction"
   ]
  },
  {
   "cell_type": "code",
   "execution_count": 2,
   "id": "fa05a057",
   "metadata": {},
   "outputs": [],
   "source": [
    "# new file containing rows with our focused area of Dublin found through exploratory analysis\n",
    "irl = pd.read_csv('leeds-data-1417.csv', index_col='Unnamed: 0')\n",
    "irl1 = pd.read_csv('leeds-data-1821.csv', index_col='Unnamed: 0')"
   ]
  },
  {
   "cell_type": "code",
   "execution_count": 3,
   "id": "c8a28ab0",
   "metadata": {},
   "outputs": [],
   "source": [
    "irl2 = pd.concat([irl, irl1], axis=0)"
   ]
  },
  {
   "cell_type": "code",
   "execution_count": 4,
   "id": "99e97600",
   "metadata": {},
   "outputs": [],
   "source": [
    "irl = irl2.copy()"
   ]
  },
  {
   "cell_type": "code",
   "execution_count": 5,
   "id": "c8559e63",
   "metadata": {},
   "outputs": [
    {
     "data": {
      "text/html": [
       "<div>\n",
       "<style scoped>\n",
       "    .dataframe tbody tr th:only-of-type {\n",
       "        vertical-align: middle;\n",
       "    }\n",
       "\n",
       "    .dataframe tbody tr th {\n",
       "        vertical-align: top;\n",
       "    }\n",
       "\n",
       "    .dataframe thead th {\n",
       "        text-align: right;\n",
       "    }\n",
       "</style>\n",
       "<table border=\"1\" class=\"dataframe\">\n",
       "  <thead>\n",
       "    <tr style=\"text-align: right;\">\n",
       "      <th></th>\n",
       "      <th>Transaction unique identifier</th>\n",
       "      <th>Price</th>\n",
       "      <th>Postcode</th>\n",
       "      <th>Property Type</th>\n",
       "      <th>Old/New</th>\n",
       "      <th>Duration</th>\n",
       "      <th>HouseNum</th>\n",
       "      <th>Add1</th>\n",
       "      <th>Add2</th>\n",
       "      <th>Add3</th>\n",
       "      <th>Town/City</th>\n",
       "      <th>District</th>\n",
       "      <th>County</th>\n",
       "      <th>PPDCategory Type</th>\n",
       "      <th>Month</th>\n",
       "      <th>Year</th>\n",
       "    </tr>\n",
       "  </thead>\n",
       "  <tbody>\n",
       "    <tr>\n",
       "      <th>465</th>\n",
       "      <td>{50F18103-63C0-9FD5-E050-A8C063054923}</td>\n",
       "      <td>210000</td>\n",
       "      <td>LS25 6NJ</td>\n",
       "      <td>D</td>\n",
       "      <td>N</td>\n",
       "      <td>F</td>\n",
       "      <td>6</td>\n",
       "      <td>NaN</td>\n",
       "      <td>BOND INGS RISE</td>\n",
       "      <td>SHERBURN IN ELMET</td>\n",
       "      <td>LEEDS</td>\n",
       "      <td>SELBY</td>\n",
       "      <td>NORTH YORKSHIRE</td>\n",
       "      <td>A</td>\n",
       "      <td>5</td>\n",
       "      <td>2017</td>\n",
       "    </tr>\n",
       "    <tr>\n",
       "      <th>959</th>\n",
       "      <td>{50F18103-63D7-9FD5-E050-A8C063054923}</td>\n",
       "      <td>180000</td>\n",
       "      <td>LS25 6BN</td>\n",
       "      <td>D</td>\n",
       "      <td>N</td>\n",
       "      <td>F</td>\n",
       "      <td>1</td>\n",
       "      <td>NaN</td>\n",
       "      <td>RUDSTONE GROVE</td>\n",
       "      <td>SHERBURN IN ELMET</td>\n",
       "      <td>LEEDS</td>\n",
       "      <td>SELBY</td>\n",
       "      <td>NORTH YORKSHIRE</td>\n",
       "      <td>A</td>\n",
       "      <td>4</td>\n",
       "      <td>2017</td>\n",
       "    </tr>\n",
       "    <tr>\n",
       "      <th>2520</th>\n",
       "      <td>{68FEB20C-3CBE-38DA-E053-6C04A8C051AE}</td>\n",
       "      <td>142500</td>\n",
       "      <td>LS19 7GL</td>\n",
       "      <td>F</td>\n",
       "      <td>Y</td>\n",
       "      <td>L</td>\n",
       "      <td>61</td>\n",
       "      <td>NaN</td>\n",
       "      <td>DYEHOUSE WALK</td>\n",
       "      <td>YEADON</td>\n",
       "      <td>LEEDS</td>\n",
       "      <td>LEEDS</td>\n",
       "      <td>WEST YORKSHIRE</td>\n",
       "      <td>A</td>\n",
       "      <td>12</td>\n",
       "      <td>2017</td>\n",
       "    </tr>\n",
       "    <tr>\n",
       "      <th>2536</th>\n",
       "      <td>{68FEB20C-3CCF-38DA-E053-6C04A8C051AE}</td>\n",
       "      <td>102000</td>\n",
       "      <td>LS18 5NP</td>\n",
       "      <td>F</td>\n",
       "      <td>N</td>\n",
       "      <td>L</td>\n",
       "      <td>GRESLEY HOUSE</td>\n",
       "      <td>2</td>\n",
       "      <td>SUSSEX AVENUE</td>\n",
       "      <td>HORSFORTH</td>\n",
       "      <td>LEEDS</td>\n",
       "      <td>LEEDS</td>\n",
       "      <td>WEST YORKSHIRE</td>\n",
       "      <td>A</td>\n",
       "      <td>12</td>\n",
       "      <td>2017</td>\n",
       "    </tr>\n",
       "    <tr>\n",
       "      <th>2539</th>\n",
       "      <td>{68FEB20C-3CD2-38DA-E053-6C04A8C051AE}</td>\n",
       "      <td>250000</td>\n",
       "      <td>LS19 7FU</td>\n",
       "      <td>S</td>\n",
       "      <td>Y</td>\n",
       "      <td>F</td>\n",
       "      <td>3</td>\n",
       "      <td>NaN</td>\n",
       "      <td>WEAVERS BECK WAY</td>\n",
       "      <td>YEADON</td>\n",
       "      <td>LEEDS</td>\n",
       "      <td>LEEDS</td>\n",
       "      <td>WEST YORKSHIRE</td>\n",
       "      <td>A</td>\n",
       "      <td>9</td>\n",
       "      <td>2017</td>\n",
       "    </tr>\n",
       "  </tbody>\n",
       "</table>\n",
       "</div>"
      ],
      "text/plain": [
       "               Transaction unique identifier   Price  Postcode Property Type  \\\n",
       "465   {50F18103-63C0-9FD5-E050-A8C063054923}  210000  LS25 6NJ             D   \n",
       "959   {50F18103-63D7-9FD5-E050-A8C063054923}  180000  LS25 6BN             D   \n",
       "2520  {68FEB20C-3CBE-38DA-E053-6C04A8C051AE}  142500  LS19 7GL             F   \n",
       "2536  {68FEB20C-3CCF-38DA-E053-6C04A8C051AE}  102000  LS18 5NP             F   \n",
       "2539  {68FEB20C-3CD2-38DA-E053-6C04A8C051AE}  250000  LS19 7FU             S   \n",
       "\n",
       "     Old/New Duration       HouseNum Add1              Add2  \\\n",
       "465        N        F              6  NaN    BOND INGS RISE   \n",
       "959        N        F              1  NaN    RUDSTONE GROVE   \n",
       "2520       Y        L             61  NaN     DYEHOUSE WALK   \n",
       "2536       N        L  GRESLEY HOUSE    2     SUSSEX AVENUE   \n",
       "2539       Y        F              3  NaN  WEAVERS BECK WAY   \n",
       "\n",
       "                   Add3 Town/City District           County PPDCategory Type  \\\n",
       "465   SHERBURN IN ELMET     LEEDS    SELBY  NORTH YORKSHIRE                A   \n",
       "959   SHERBURN IN ELMET     LEEDS    SELBY  NORTH YORKSHIRE                A   \n",
       "2520             YEADON     LEEDS    LEEDS   WEST YORKSHIRE                A   \n",
       "2536          HORSFORTH     LEEDS    LEEDS   WEST YORKSHIRE                A   \n",
       "2539             YEADON     LEEDS    LEEDS   WEST YORKSHIRE                A   \n",
       "\n",
       "      Month  Year  \n",
       "465       5  2017  \n",
       "959       4  2017  \n",
       "2520     12  2017  \n",
       "2536     12  2017  \n",
       "2539      9  2017  "
      ]
     },
     "execution_count": 5,
     "metadata": {},
     "output_type": "execute_result"
    }
   ],
   "source": [
    "irl.head()"
   ]
  },
  {
   "cell_type": "code",
   "execution_count": 6,
   "id": "d429f24f",
   "metadata": {},
   "outputs": [
    {
     "data": {
      "text/plain": [
       "(41033, 16)"
      ]
     },
     "execution_count": 6,
     "metadata": {},
     "output_type": "execute_result"
    }
   ],
   "source": [
    "irl.shape"
   ]
  },
  {
   "cell_type": "code",
   "execution_count": 7,
   "id": "40b3cfca",
   "metadata": {},
   "outputs": [],
   "source": [
    "irl.drop(columns = ['Transaction unique identifier', 'Town/City', 'Add1', 'HouseNum'], inplace = True)"
   ]
  },
  {
   "cell_type": "code",
   "execution_count": 8,
   "id": "c1079207",
   "metadata": {},
   "outputs": [],
   "source": [
    "irl = irl.dropna()"
   ]
  },
  {
   "cell_type": "code",
   "execution_count": 9,
   "id": "cc1c6dce",
   "metadata": {},
   "outputs": [],
   "source": [
    "dt = list(irl['Postcode'])\n",
    "ps = []\n",
    "for i in range(len(dt)):\n",
    "    strg = dt[i][:4]\n",
    "    ps.append(strg)"
   ]
  },
  {
   "cell_type": "code",
   "execution_count": 10,
   "id": "17f6d0e6",
   "metadata": {},
   "outputs": [
    {
     "data": {
      "text/plain": [
       "'LS25'"
      ]
     },
     "execution_count": 10,
     "metadata": {},
     "output_type": "execute_result"
    }
   ],
   "source": [
    "ps[0]"
   ]
  },
  {
   "cell_type": "code",
   "execution_count": 11,
   "id": "b278d857",
   "metadata": {},
   "outputs": [],
   "source": [
    "irl['Postcode'] = ps"
   ]
  },
  {
   "cell_type": "code",
   "execution_count": 12,
   "id": "77f121eb",
   "metadata": {},
   "outputs": [],
   "source": [
    "# this function finds all values that fall within internationally accepted +-10% of actual prices in our predictions\n",
    "# we can modify the threshold as we feel the need to here\n",
    "def accuracy_threshold(test, pred, num):\n",
    "    test = np.array(test)\n",
    "    pred = np.array(pred)\n",
    "# get within x% of actual price , not within log price as this will be misleading / incorrect\n",
    "    test = np.exp(test)\n",
    "    pred = np.exp(pred)\n",
    "    count = 0\n",
    "    for i in range(len(pred)):\n",
    "        if test[i] != 0:  \n",
    "            ten = test[i] * num\n",
    "            res = test[i] - pred[i]\n",
    "        else:\n",
    "            res = 0\n",
    "            ten = 0\n",
    "        \n",
    "        if res < 0:\n",
    "            res = res * -1\n",
    "        else:\n",
    "            res = res\n",
    "            \n",
    "        if res <= ten:\n",
    "            count += 1\n",
    "        else:\n",
    "            continue\n",
    "    return (count / len(test))"
   ]
  },
  {
   "cell_type": "code",
   "execution_count": 13,
   "id": "036abe64",
   "metadata": {},
   "outputs": [],
   "source": [
    "encoder = TargetEncoder()\n",
    "irl['County'] = encoder.fit_transform(irl['County'], irl['Price'])"
   ]
  },
  {
   "cell_type": "code",
   "execution_count": 14,
   "id": "35e0ec37",
   "metadata": {},
   "outputs": [],
   "source": [
    "encoder = TargetEncoder()\n",
    "irl['District'] = encoder.fit_transform(irl['District'], irl['Price'])"
   ]
  },
  {
   "cell_type": "code",
   "execution_count": 15,
   "id": "a04a2432",
   "metadata": {},
   "outputs": [],
   "source": [
    "encoder = TargetEncoder()\n",
    "irl['Add3'] = encoder.fit_transform(irl['Add3'], irl['Price'])"
   ]
  },
  {
   "cell_type": "code",
   "execution_count": 16,
   "id": "e4ba6659",
   "metadata": {},
   "outputs": [],
   "source": [
    "encoder = TargetEncoder()\n",
    "irl['Postcode'] = encoder.fit_transform(irl['Postcode'], irl['Price'])"
   ]
  },
  {
   "cell_type": "code",
   "execution_count": 17,
   "id": "7f74ea74",
   "metadata": {},
   "outputs": [],
   "source": [
    "encoder = TargetEncoder()\n",
    "irl['Add2'] = encoder.fit_transform(irl['Add2'], irl['Price'])"
   ]
  },
  {
   "cell_type": "code",
   "execution_count": 18,
   "id": "48f3903e",
   "metadata": {},
   "outputs": [],
   "source": [
    "#categorical data\n",
    "categorical_cols = ['Property Type', 'Old/New', 'Duration', 'PPDCategory Type'] \n",
    "\n",
    "#import pandas as pd\n",
    "df = pd.get_dummies(irl, columns = categorical_cols)"
   ]
  },
  {
   "cell_type": "code",
   "execution_count": 19,
   "id": "78d29d8a",
   "metadata": {},
   "outputs": [
    {
     "data": {
      "text/html": [
       "<div>\n",
       "<style scoped>\n",
       "    .dataframe tbody tr th:only-of-type {\n",
       "        vertical-align: middle;\n",
       "    }\n",
       "\n",
       "    .dataframe tbody tr th {\n",
       "        vertical-align: top;\n",
       "    }\n",
       "\n",
       "    .dataframe thead th {\n",
       "        text-align: right;\n",
       "    }\n",
       "</style>\n",
       "<table border=\"1\" class=\"dataframe\">\n",
       "  <thead>\n",
       "    <tr style=\"text-align: right;\">\n",
       "      <th></th>\n",
       "      <th>Price</th>\n",
       "      <th>Postcode</th>\n",
       "      <th>Add2</th>\n",
       "      <th>Add3</th>\n",
       "      <th>District</th>\n",
       "      <th>County</th>\n",
       "      <th>Month</th>\n",
       "      <th>Year</th>\n",
       "      <th>Property Type_D</th>\n",
       "      <th>Property Type_F</th>\n",
       "      <th>Property Type_O</th>\n",
       "      <th>Property Type_S</th>\n",
       "      <th>Property Type_T</th>\n",
       "      <th>Old/New_N</th>\n",
       "      <th>Old/New_Y</th>\n",
       "      <th>Duration_F</th>\n",
       "      <th>Duration_L</th>\n",
       "      <th>PPDCategory Type_A</th>\n",
       "      <th>PPDCategory Type_B</th>\n",
       "    </tr>\n",
       "  </thead>\n",
       "  <tbody>\n",
       "    <tr>\n",
       "      <th>465</th>\n",
       "      <td>210000</td>\n",
       "      <td>218116.525847</td>\n",
       "      <td>258753.357049</td>\n",
       "      <td>224647.939686</td>\n",
       "      <td>236388.525078</td>\n",
       "      <td>256968.082345</td>\n",
       "      <td>5</td>\n",
       "      <td>2017</td>\n",
       "      <td>1</td>\n",
       "      <td>0</td>\n",
       "      <td>0</td>\n",
       "      <td>0</td>\n",
       "      <td>0</td>\n",
       "      <td>1</td>\n",
       "      <td>0</td>\n",
       "      <td>1</td>\n",
       "      <td>0</td>\n",
       "      <td>1</td>\n",
       "      <td>0</td>\n",
       "    </tr>\n",
       "    <tr>\n",
       "      <th>959</th>\n",
       "      <td>180000</td>\n",
       "      <td>218116.525847</td>\n",
       "      <td>205495.406300</td>\n",
       "      <td>224647.939686</td>\n",
       "      <td>236388.525078</td>\n",
       "      <td>256968.082345</td>\n",
       "      <td>4</td>\n",
       "      <td>2017</td>\n",
       "      <td>1</td>\n",
       "      <td>0</td>\n",
       "      <td>0</td>\n",
       "      <td>0</td>\n",
       "      <td>0</td>\n",
       "      <td>1</td>\n",
       "      <td>0</td>\n",
       "      <td>1</td>\n",
       "      <td>0</td>\n",
       "      <td>1</td>\n",
       "      <td>0</td>\n",
       "    </tr>\n",
       "    <tr>\n",
       "      <th>2520</th>\n",
       "      <td>142500</td>\n",
       "      <td>231355.747319</td>\n",
       "      <td>243485.169492</td>\n",
       "      <td>203921.998368</td>\n",
       "      <td>230438.749577</td>\n",
       "      <td>230437.210760</td>\n",
       "      <td>12</td>\n",
       "      <td>2017</td>\n",
       "      <td>0</td>\n",
       "      <td>1</td>\n",
       "      <td>0</td>\n",
       "      <td>0</td>\n",
       "      <td>0</td>\n",
       "      <td>0</td>\n",
       "      <td>1</td>\n",
       "      <td>0</td>\n",
       "      <td>1</td>\n",
       "      <td>1</td>\n",
       "      <td>0</td>\n",
       "    </tr>\n",
       "    <tr>\n",
       "      <th>2536</th>\n",
       "      <td>102000</td>\n",
       "      <td>278999.853118</td>\n",
       "      <td>186296.875000</td>\n",
       "      <td>278999.853118</td>\n",
       "      <td>230438.749577</td>\n",
       "      <td>230437.210760</td>\n",
       "      <td>12</td>\n",
       "      <td>2017</td>\n",
       "      <td>0</td>\n",
       "      <td>1</td>\n",
       "      <td>0</td>\n",
       "      <td>0</td>\n",
       "      <td>0</td>\n",
       "      <td>1</td>\n",
       "      <td>0</td>\n",
       "      <td>0</td>\n",
       "      <td>1</td>\n",
       "      <td>1</td>\n",
       "      <td>0</td>\n",
       "    </tr>\n",
       "    <tr>\n",
       "      <th>2539</th>\n",
       "      <td>250000</td>\n",
       "      <td>231355.747319</td>\n",
       "      <td>254714.756086</td>\n",
       "      <td>203921.998368</td>\n",
       "      <td>230438.749577</td>\n",
       "      <td>230437.210760</td>\n",
       "      <td>9</td>\n",
       "      <td>2017</td>\n",
       "      <td>0</td>\n",
       "      <td>0</td>\n",
       "      <td>0</td>\n",
       "      <td>1</td>\n",
       "      <td>0</td>\n",
       "      <td>0</td>\n",
       "      <td>1</td>\n",
       "      <td>1</td>\n",
       "      <td>0</td>\n",
       "      <td>1</td>\n",
       "      <td>0</td>\n",
       "    </tr>\n",
       "  </tbody>\n",
       "</table>\n",
       "</div>"
      ],
      "text/plain": [
       "       Price       Postcode           Add2           Add3       District  \\\n",
       "465   210000  218116.525847  258753.357049  224647.939686  236388.525078   \n",
       "959   180000  218116.525847  205495.406300  224647.939686  236388.525078   \n",
       "2520  142500  231355.747319  243485.169492  203921.998368  230438.749577   \n",
       "2536  102000  278999.853118  186296.875000  278999.853118  230438.749577   \n",
       "2539  250000  231355.747319  254714.756086  203921.998368  230438.749577   \n",
       "\n",
       "             County  Month  Year  Property Type_D  Property Type_F  \\\n",
       "465   256968.082345      5  2017                1                0   \n",
       "959   256968.082345      4  2017                1                0   \n",
       "2520  230437.210760     12  2017                0                1   \n",
       "2536  230437.210760     12  2017                0                1   \n",
       "2539  230437.210760      9  2017                0                0   \n",
       "\n",
       "      Property Type_O  Property Type_S  Property Type_T  Old/New_N  Old/New_Y  \\\n",
       "465                 0                0                0          1          0   \n",
       "959                 0                0                0          1          0   \n",
       "2520                0                0                0          0          1   \n",
       "2536                0                0                0          1          0   \n",
       "2539                0                1                0          0          1   \n",
       "\n",
       "      Duration_F  Duration_L  PPDCategory Type_A  PPDCategory Type_B  \n",
       "465            1           0                   1                   0  \n",
       "959            1           0                   1                   0  \n",
       "2520           0           1                   1                   0  \n",
       "2536           0           1                   1                   0  \n",
       "2539           1           0                   1                   0  "
      ]
     },
     "execution_count": 19,
     "metadata": {},
     "output_type": "execute_result"
    }
   ],
   "source": [
    "df.head()"
   ]
  },
  {
   "cell_type": "code",
   "execution_count": 20,
   "id": "70b49490",
   "metadata": {},
   "outputs": [],
   "source": [
    "irl = df"
   ]
  },
  {
   "cell_type": "code",
   "execution_count": 21,
   "id": "2d29d9c7",
   "metadata": {},
   "outputs": [
    {
     "data": {
      "text/html": [
       "<div>\n",
       "<style scoped>\n",
       "    .dataframe tbody tr th:only-of-type {\n",
       "        vertical-align: middle;\n",
       "    }\n",
       "\n",
       "    .dataframe tbody tr th {\n",
       "        vertical-align: top;\n",
       "    }\n",
       "\n",
       "    .dataframe thead th {\n",
       "        text-align: right;\n",
       "    }\n",
       "</style>\n",
       "<table border=\"1\" class=\"dataframe\">\n",
       "  <thead>\n",
       "    <tr style=\"text-align: right;\">\n",
       "      <th></th>\n",
       "      <th>Price</th>\n",
       "      <th>Postcode</th>\n",
       "      <th>Add2</th>\n",
       "      <th>Add3</th>\n",
       "      <th>District</th>\n",
       "      <th>County</th>\n",
       "      <th>Month</th>\n",
       "      <th>Year</th>\n",
       "      <th>Property Type_D</th>\n",
       "      <th>Property Type_F</th>\n",
       "      <th>Property Type_O</th>\n",
       "      <th>Property Type_S</th>\n",
       "      <th>Property Type_T</th>\n",
       "      <th>Old/New_N</th>\n",
       "      <th>Old/New_Y</th>\n",
       "      <th>Duration_F</th>\n",
       "      <th>Duration_L</th>\n",
       "      <th>PPDCategory Type_A</th>\n",
       "      <th>PPDCategory Type_B</th>\n",
       "    </tr>\n",
       "  </thead>\n",
       "  <tbody>\n",
       "    <tr>\n",
       "      <th>465</th>\n",
       "      <td>210000</td>\n",
       "      <td>218116.525847</td>\n",
       "      <td>258753.357049</td>\n",
       "      <td>224647.939686</td>\n",
       "      <td>236388.525078</td>\n",
       "      <td>256968.082345</td>\n",
       "      <td>5</td>\n",
       "      <td>2017</td>\n",
       "      <td>1</td>\n",
       "      <td>0</td>\n",
       "      <td>0</td>\n",
       "      <td>0</td>\n",
       "      <td>0</td>\n",
       "      <td>1</td>\n",
       "      <td>0</td>\n",
       "      <td>1</td>\n",
       "      <td>0</td>\n",
       "      <td>1</td>\n",
       "      <td>0</td>\n",
       "    </tr>\n",
       "    <tr>\n",
       "      <th>959</th>\n",
       "      <td>180000</td>\n",
       "      <td>218116.525847</td>\n",
       "      <td>205495.406300</td>\n",
       "      <td>224647.939686</td>\n",
       "      <td>236388.525078</td>\n",
       "      <td>256968.082345</td>\n",
       "      <td>4</td>\n",
       "      <td>2017</td>\n",
       "      <td>1</td>\n",
       "      <td>0</td>\n",
       "      <td>0</td>\n",
       "      <td>0</td>\n",
       "      <td>0</td>\n",
       "      <td>1</td>\n",
       "      <td>0</td>\n",
       "      <td>1</td>\n",
       "      <td>0</td>\n",
       "      <td>1</td>\n",
       "      <td>0</td>\n",
       "    </tr>\n",
       "    <tr>\n",
       "      <th>2520</th>\n",
       "      <td>142500</td>\n",
       "      <td>231355.747319</td>\n",
       "      <td>243485.169492</td>\n",
       "      <td>203921.998368</td>\n",
       "      <td>230438.749577</td>\n",
       "      <td>230437.210760</td>\n",
       "      <td>12</td>\n",
       "      <td>2017</td>\n",
       "      <td>0</td>\n",
       "      <td>1</td>\n",
       "      <td>0</td>\n",
       "      <td>0</td>\n",
       "      <td>0</td>\n",
       "      <td>0</td>\n",
       "      <td>1</td>\n",
       "      <td>0</td>\n",
       "      <td>1</td>\n",
       "      <td>1</td>\n",
       "      <td>0</td>\n",
       "    </tr>\n",
       "    <tr>\n",
       "      <th>2536</th>\n",
       "      <td>102000</td>\n",
       "      <td>278999.853118</td>\n",
       "      <td>186296.875000</td>\n",
       "      <td>278999.853118</td>\n",
       "      <td>230438.749577</td>\n",
       "      <td>230437.210760</td>\n",
       "      <td>12</td>\n",
       "      <td>2017</td>\n",
       "      <td>0</td>\n",
       "      <td>1</td>\n",
       "      <td>0</td>\n",
       "      <td>0</td>\n",
       "      <td>0</td>\n",
       "      <td>1</td>\n",
       "      <td>0</td>\n",
       "      <td>0</td>\n",
       "      <td>1</td>\n",
       "      <td>1</td>\n",
       "      <td>0</td>\n",
       "    </tr>\n",
       "    <tr>\n",
       "      <th>2539</th>\n",
       "      <td>250000</td>\n",
       "      <td>231355.747319</td>\n",
       "      <td>254714.756086</td>\n",
       "      <td>203921.998368</td>\n",
       "      <td>230438.749577</td>\n",
       "      <td>230437.210760</td>\n",
       "      <td>9</td>\n",
       "      <td>2017</td>\n",
       "      <td>0</td>\n",
       "      <td>0</td>\n",
       "      <td>0</td>\n",
       "      <td>1</td>\n",
       "      <td>0</td>\n",
       "      <td>0</td>\n",
       "      <td>1</td>\n",
       "      <td>1</td>\n",
       "      <td>0</td>\n",
       "      <td>1</td>\n",
       "      <td>0</td>\n",
       "    </tr>\n",
       "  </tbody>\n",
       "</table>\n",
       "</div>"
      ],
      "text/plain": [
       "       Price       Postcode           Add2           Add3       District  \\\n",
       "465   210000  218116.525847  258753.357049  224647.939686  236388.525078   \n",
       "959   180000  218116.525847  205495.406300  224647.939686  236388.525078   \n",
       "2520  142500  231355.747319  243485.169492  203921.998368  230438.749577   \n",
       "2536  102000  278999.853118  186296.875000  278999.853118  230438.749577   \n",
       "2539  250000  231355.747319  254714.756086  203921.998368  230438.749577   \n",
       "\n",
       "             County  Month  Year  Property Type_D  Property Type_F  \\\n",
       "465   256968.082345      5  2017                1                0   \n",
       "959   256968.082345      4  2017                1                0   \n",
       "2520  230437.210760     12  2017                0                1   \n",
       "2536  230437.210760     12  2017                0                1   \n",
       "2539  230437.210760      9  2017                0                0   \n",
       "\n",
       "      Property Type_O  Property Type_S  Property Type_T  Old/New_N  Old/New_Y  \\\n",
       "465                 0                0                0          1          0   \n",
       "959                 0                0                0          1          0   \n",
       "2520                0                0                0          0          1   \n",
       "2536                0                0                0          1          0   \n",
       "2539                0                1                0          0          1   \n",
       "\n",
       "      Duration_F  Duration_L  PPDCategory Type_A  PPDCategory Type_B  \n",
       "465            1           0                   1                   0  \n",
       "959            1           0                   1                   0  \n",
       "2520           0           1                   1                   0  \n",
       "2536           0           1                   1                   0  \n",
       "2539           1           0                   1                   0  "
      ]
     },
     "execution_count": 21,
     "metadata": {},
     "output_type": "execute_result"
    }
   ],
   "source": [
    "irl.head()"
   ]
  },
  {
   "cell_type": "code",
   "execution_count": 22,
   "id": "d745bbde",
   "metadata": {},
   "outputs": [],
   "source": [
    "irl['PriceLog'] = np.log(irl['Price'])"
   ]
  },
  {
   "cell_type": "code",
   "execution_count": 23,
   "id": "69781623",
   "metadata": {},
   "outputs": [],
   "source": [
    "irl.drop(columns = ['Price'], inplace = True)"
   ]
  },
  {
   "cell_type": "code",
   "execution_count": 24,
   "id": "b13d552a",
   "metadata": {},
   "outputs": [
    {
     "data": {
      "text/plain": [
       "(40965, 19)"
      ]
     },
     "execution_count": 24,
     "metadata": {},
     "output_type": "execute_result"
    }
   ],
   "source": [
    "irl.shape"
   ]
  },
  {
   "cell_type": "markdown",
   "id": "db0144e9",
   "metadata": {},
   "source": [
    "### Let's try predict a specific years values given some historical data\n",
    "We will look at using 3 years worth of data and use it to predict some data for a selected year, let's say 2021, now."
   ]
  },
  {
   "cell_type": "code",
   "execution_count": 25,
   "id": "9f08f8e1",
   "metadata": {},
   "outputs": [],
   "source": [
    "specific21 = irl[irl['Year'] > 2017]"
   ]
  },
  {
   "cell_type": "markdown",
   "id": "4aa43ad9",
   "metadata": {},
   "source": [
    "A regular train to test split will not suffice here as we need only the years 2018, 2019 and 2020 in our training data, while only using the houses associated with 2021 in our test data."
   ]
  },
  {
   "cell_type": "code",
   "execution_count": 26,
   "id": "41bbaeae",
   "metadata": {},
   "outputs": [
    {
     "data": {
      "text/html": [
       "<div>\n",
       "<style scoped>\n",
       "    .dataframe tbody tr th:only-of-type {\n",
       "        vertical-align: middle;\n",
       "    }\n",
       "\n",
       "    .dataframe tbody tr th {\n",
       "        vertical-align: top;\n",
       "    }\n",
       "\n",
       "    .dataframe thead th {\n",
       "        text-align: right;\n",
       "    }\n",
       "</style>\n",
       "<table border=\"1\" class=\"dataframe\">\n",
       "  <thead>\n",
       "    <tr style=\"text-align: right;\">\n",
       "      <th></th>\n",
       "      <th>Postcode</th>\n",
       "      <th>Add2</th>\n",
       "      <th>Add3</th>\n",
       "      <th>District</th>\n",
       "      <th>County</th>\n",
       "      <th>Month</th>\n",
       "      <th>Year</th>\n",
       "      <th>Property Type_D</th>\n",
       "      <th>Property Type_F</th>\n",
       "      <th>Property Type_O</th>\n",
       "      <th>Property Type_S</th>\n",
       "      <th>Property Type_T</th>\n",
       "      <th>Old/New_N</th>\n",
       "      <th>Old/New_Y</th>\n",
       "      <th>Duration_F</th>\n",
       "      <th>Duration_L</th>\n",
       "      <th>PPDCategory Type_A</th>\n",
       "      <th>PPDCategory Type_B</th>\n",
       "      <th>PriceLog</th>\n",
       "    </tr>\n",
       "  </thead>\n",
       "  <tbody>\n",
       "    <tr>\n",
       "      <th>1144</th>\n",
       "      <td>173908.371756</td>\n",
       "      <td>300787.500000</td>\n",
       "      <td>168993.186553</td>\n",
       "      <td>230438.749577</td>\n",
       "      <td>230437.21076</td>\n",
       "      <td>7</td>\n",
       "      <td>2021</td>\n",
       "      <td>1</td>\n",
       "      <td>0</td>\n",
       "      <td>0</td>\n",
       "      <td>0</td>\n",
       "      <td>0</td>\n",
       "      <td>1</td>\n",
       "      <td>0</td>\n",
       "      <td>1</td>\n",
       "      <td>0</td>\n",
       "      <td>1</td>\n",
       "      <td>0</td>\n",
       "      <td>12.823148</td>\n",
       "    </tr>\n",
       "    <tr>\n",
       "      <th>1987</th>\n",
       "      <td>172087.522876</td>\n",
       "      <td>123703.150028</td>\n",
       "      <td>145592.471125</td>\n",
       "      <td>230438.749577</td>\n",
       "      <td>230437.21076</td>\n",
       "      <td>11</td>\n",
       "      <td>2021</td>\n",
       "      <td>0</td>\n",
       "      <td>0</td>\n",
       "      <td>0</td>\n",
       "      <td>0</td>\n",
       "      <td>1</td>\n",
       "      <td>1</td>\n",
       "      <td>0</td>\n",
       "      <td>1</td>\n",
       "      <td>0</td>\n",
       "      <td>1</td>\n",
       "      <td>0</td>\n",
       "      <td>11.891362</td>\n",
       "    </tr>\n",
       "    <tr>\n",
       "      <th>1990</th>\n",
       "      <td>278999.853118</td>\n",
       "      <td>507271.773027</td>\n",
       "      <td>278999.853118</td>\n",
       "      <td>230438.749577</td>\n",
       "      <td>230437.21076</td>\n",
       "      <td>7</td>\n",
       "      <td>2021</td>\n",
       "      <td>1</td>\n",
       "      <td>0</td>\n",
       "      <td>0</td>\n",
       "      <td>0</td>\n",
       "      <td>0</td>\n",
       "      <td>1</td>\n",
       "      <td>0</td>\n",
       "      <td>1</td>\n",
       "      <td>0</td>\n",
       "      <td>1</td>\n",
       "      <td>0</td>\n",
       "      <td>13.681979</td>\n",
       "    </tr>\n",
       "    <tr>\n",
       "      <th>2003</th>\n",
       "      <td>400420.138054</td>\n",
       "      <td>328417.871528</td>\n",
       "      <td>329438.255034</td>\n",
       "      <td>230438.749577</td>\n",
       "      <td>230437.21076</td>\n",
       "      <td>8</td>\n",
       "      <td>2021</td>\n",
       "      <td>0</td>\n",
       "      <td>0</td>\n",
       "      <td>0</td>\n",
       "      <td>0</td>\n",
       "      <td>1</td>\n",
       "      <td>1</td>\n",
       "      <td>0</td>\n",
       "      <td>1</td>\n",
       "      <td>0</td>\n",
       "      <td>1</td>\n",
       "      <td>0</td>\n",
       "      <td>11.982929</td>\n",
       "    </tr>\n",
       "    <tr>\n",
       "      <th>2023</th>\n",
       "      <td>210744.850912</td>\n",
       "      <td>106687.528176</td>\n",
       "      <td>213710.799763</td>\n",
       "      <td>230438.749577</td>\n",
       "      <td>230437.21076</td>\n",
       "      <td>7</td>\n",
       "      <td>2021</td>\n",
       "      <td>0</td>\n",
       "      <td>0</td>\n",
       "      <td>0</td>\n",
       "      <td>0</td>\n",
       "      <td>1</td>\n",
       "      <td>1</td>\n",
       "      <td>0</td>\n",
       "      <td>1</td>\n",
       "      <td>0</td>\n",
       "      <td>1</td>\n",
       "      <td>0</td>\n",
       "      <td>11.652687</td>\n",
       "    </tr>\n",
       "  </tbody>\n",
       "</table>\n",
       "</div>"
      ],
      "text/plain": [
       "           Postcode           Add2           Add3       District  \\\n",
       "1144  173908.371756  300787.500000  168993.186553  230438.749577   \n",
       "1987  172087.522876  123703.150028  145592.471125  230438.749577   \n",
       "1990  278999.853118  507271.773027  278999.853118  230438.749577   \n",
       "2003  400420.138054  328417.871528  329438.255034  230438.749577   \n",
       "2023  210744.850912  106687.528176  213710.799763  230438.749577   \n",
       "\n",
       "            County  Month  Year  Property Type_D  Property Type_F  \\\n",
       "1144  230437.21076      7  2021                1                0   \n",
       "1987  230437.21076     11  2021                0                0   \n",
       "1990  230437.21076      7  2021                1                0   \n",
       "2003  230437.21076      8  2021                0                0   \n",
       "2023  230437.21076      7  2021                0                0   \n",
       "\n",
       "      Property Type_O  Property Type_S  Property Type_T  Old/New_N  Old/New_Y  \\\n",
       "1144                0                0                0          1          0   \n",
       "1987                0                0                1          1          0   \n",
       "1990                0                0                0          1          0   \n",
       "2003                0                0                1          1          0   \n",
       "2023                0                0                1          1          0   \n",
       "\n",
       "      Duration_F  Duration_L  PPDCategory Type_A  PPDCategory Type_B  \\\n",
       "1144           1           0                   1                   0   \n",
       "1987           1           0                   1                   0   \n",
       "1990           1           0                   1                   0   \n",
       "2003           1           0                   1                   0   \n",
       "2023           1           0                   1                   0   \n",
       "\n",
       "       PriceLog  \n",
       "1144  12.823148  \n",
       "1987  11.891362  \n",
       "1990  13.681979  \n",
       "2003  11.982929  \n",
       "2023  11.652687  "
      ]
     },
     "execution_count": 26,
     "metadata": {},
     "output_type": "execute_result"
    }
   ],
   "source": [
    "specific21[specific21['Year'] == 2021].head()"
   ]
  },
  {
   "cell_type": "code",
   "execution_count": 27,
   "id": "eb10e6cf",
   "metadata": {},
   "outputs": [
    {
     "data": {
      "text/plain": [
       "22549"
      ]
     },
     "execution_count": 27,
     "metadata": {},
     "output_type": "execute_result"
    }
   ],
   "source": [
    "specific21.shape[0]"
   ]
  },
  {
   "cell_type": "code",
   "execution_count": 28,
   "id": "24fba876",
   "metadata": {},
   "outputs": [],
   "source": [
    "train_21 = specific21[specific21['Year'] < 2021]"
   ]
  },
  {
   "cell_type": "code",
   "execution_count": 29,
   "id": "20144683",
   "metadata": {},
   "outputs": [
    {
     "data": {
      "text/html": [
       "<div>\n",
       "<style scoped>\n",
       "    .dataframe tbody tr th:only-of-type {\n",
       "        vertical-align: middle;\n",
       "    }\n",
       "\n",
       "    .dataframe tbody tr th {\n",
       "        vertical-align: top;\n",
       "    }\n",
       "\n",
       "    .dataframe thead th {\n",
       "        text-align: right;\n",
       "    }\n",
       "</style>\n",
       "<table border=\"1\" class=\"dataframe\">\n",
       "  <thead>\n",
       "    <tr style=\"text-align: right;\">\n",
       "      <th></th>\n",
       "      <th>Postcode</th>\n",
       "      <th>Add2</th>\n",
       "      <th>Add3</th>\n",
       "      <th>District</th>\n",
       "      <th>County</th>\n",
       "      <th>Month</th>\n",
       "      <th>Year</th>\n",
       "      <th>Property Type_D</th>\n",
       "      <th>Property Type_F</th>\n",
       "      <th>Property Type_O</th>\n",
       "      <th>Property Type_S</th>\n",
       "      <th>Property Type_T</th>\n",
       "      <th>Old/New_N</th>\n",
       "      <th>Old/New_Y</th>\n",
       "      <th>Duration_F</th>\n",
       "      <th>Duration_L</th>\n",
       "      <th>PPDCategory Type_A</th>\n",
       "      <th>PPDCategory Type_B</th>\n",
       "      <th>PriceLog</th>\n",
       "    </tr>\n",
       "  </thead>\n",
       "  <tbody>\n",
       "    <tr>\n",
       "      <th>29838</th>\n",
       "      <td>278999.853118</td>\n",
       "      <td>271984.615384</td>\n",
       "      <td>278999.853118</td>\n",
       "      <td>230438.749577</td>\n",
       "      <td>230437.21076</td>\n",
       "      <td>11</td>\n",
       "      <td>2018</td>\n",
       "      <td>0</td>\n",
       "      <td>0</td>\n",
       "      <td>0</td>\n",
       "      <td>0</td>\n",
       "      <td>1</td>\n",
       "      <td>1</td>\n",
       "      <td>0</td>\n",
       "      <td>1</td>\n",
       "      <td>0</td>\n",
       "      <td>1</td>\n",
       "      <td>0</td>\n",
       "      <td>12.323856</td>\n",
       "    </tr>\n",
       "    <tr>\n",
       "      <th>29840</th>\n",
       "      <td>273531.472222</td>\n",
       "      <td>173987.759494</td>\n",
       "      <td>206134.230906</td>\n",
       "      <td>230438.749577</td>\n",
       "      <td>230437.21076</td>\n",
       "      <td>11</td>\n",
       "      <td>2018</td>\n",
       "      <td>1</td>\n",
       "      <td>0</td>\n",
       "      <td>0</td>\n",
       "      <td>0</td>\n",
       "      <td>0</td>\n",
       "      <td>1</td>\n",
       "      <td>0</td>\n",
       "      <td>1</td>\n",
       "      <td>0</td>\n",
       "      <td>1</td>\n",
       "      <td>0</td>\n",
       "      <td>12.472276</td>\n",
       "    </tr>\n",
       "    <tr>\n",
       "      <th>29842</th>\n",
       "      <td>290683.041423</td>\n",
       "      <td>231026.726609</td>\n",
       "      <td>287276.125746</td>\n",
       "      <td>230438.749577</td>\n",
       "      <td>230437.21076</td>\n",
       "      <td>11</td>\n",
       "      <td>2018</td>\n",
       "      <td>0</td>\n",
       "      <td>0</td>\n",
       "      <td>0</td>\n",
       "      <td>1</td>\n",
       "      <td>0</td>\n",
       "      <td>1</td>\n",
       "      <td>0</td>\n",
       "      <td>1</td>\n",
       "      <td>0</td>\n",
       "      <td>1</td>\n",
       "      <td>0</td>\n",
       "      <td>12.348006</td>\n",
       "    </tr>\n",
       "    <tr>\n",
       "      <th>29846</th>\n",
       "      <td>273531.472222</td>\n",
       "      <td>163597.181818</td>\n",
       "      <td>206134.230906</td>\n",
       "      <td>230438.749577</td>\n",
       "      <td>230437.21076</td>\n",
       "      <td>8</td>\n",
       "      <td>2018</td>\n",
       "      <td>0</td>\n",
       "      <td>0</td>\n",
       "      <td>0</td>\n",
       "      <td>1</td>\n",
       "      <td>0</td>\n",
       "      <td>1</td>\n",
       "      <td>0</td>\n",
       "      <td>1</td>\n",
       "      <td>0</td>\n",
       "      <td>1</td>\n",
       "      <td>0</td>\n",
       "      <td>12.278393</td>\n",
       "    </tr>\n",
       "    <tr>\n",
       "      <th>29985</th>\n",
       "      <td>173908.371756</td>\n",
       "      <td>140210.000517</td>\n",
       "      <td>168993.186553</td>\n",
       "      <td>230438.749577</td>\n",
       "      <td>230437.21076</td>\n",
       "      <td>5</td>\n",
       "      <td>2018</td>\n",
       "      <td>0</td>\n",
       "      <td>0</td>\n",
       "      <td>0</td>\n",
       "      <td>0</td>\n",
       "      <td>1</td>\n",
       "      <td>1</td>\n",
       "      <td>0</td>\n",
       "      <td>1</td>\n",
       "      <td>0</td>\n",
       "      <td>1</td>\n",
       "      <td>0</td>\n",
       "      <td>11.630709</td>\n",
       "    </tr>\n",
       "  </tbody>\n",
       "</table>\n",
       "</div>"
      ],
      "text/plain": [
       "            Postcode           Add2           Add3       District  \\\n",
       "29838  278999.853118  271984.615384  278999.853118  230438.749577   \n",
       "29840  273531.472222  173987.759494  206134.230906  230438.749577   \n",
       "29842  290683.041423  231026.726609  287276.125746  230438.749577   \n",
       "29846  273531.472222  163597.181818  206134.230906  230438.749577   \n",
       "29985  173908.371756  140210.000517  168993.186553  230438.749577   \n",
       "\n",
       "             County  Month  Year  Property Type_D  Property Type_F  \\\n",
       "29838  230437.21076     11  2018                0                0   \n",
       "29840  230437.21076     11  2018                1                0   \n",
       "29842  230437.21076     11  2018                0                0   \n",
       "29846  230437.21076      8  2018                0                0   \n",
       "29985  230437.21076      5  2018                0                0   \n",
       "\n",
       "       Property Type_O  Property Type_S  Property Type_T  Old/New_N  \\\n",
       "29838                0                0                1          1   \n",
       "29840                0                0                0          1   \n",
       "29842                0                1                0          1   \n",
       "29846                0                1                0          1   \n",
       "29985                0                0                1          1   \n",
       "\n",
       "       Old/New_Y  Duration_F  Duration_L  PPDCategory Type_A  \\\n",
       "29838          0           1           0                   1   \n",
       "29840          0           1           0                   1   \n",
       "29842          0           1           0                   1   \n",
       "29846          0           1           0                   1   \n",
       "29985          0           1           0                   1   \n",
       "\n",
       "       PPDCategory Type_B   PriceLog  \n",
       "29838                   0  12.323856  \n",
       "29840                   0  12.472276  \n",
       "29842                   0  12.348006  \n",
       "29846                   0  12.278393  \n",
       "29985                   0  11.630709  "
      ]
     },
     "execution_count": 29,
     "metadata": {},
     "output_type": "execute_result"
    }
   ],
   "source": [
    "#train_21 = train_21.sample(n = 80000)\n",
    "train_21.head()"
   ]
  },
  {
   "cell_type": "code",
   "execution_count": 30,
   "id": "b32af944",
   "metadata": {},
   "outputs": [],
   "source": [
    "test_21 = specific21[specific21['Year'] == 2021]"
   ]
  },
  {
   "cell_type": "code",
   "execution_count": 31,
   "id": "9e4fa5cf",
   "metadata": {},
   "outputs": [],
   "source": [
    "x_train_21 = train_21.loc[:, train_21.columns != 'PriceLog']\n",
    "y_train_21 = train_21['PriceLog']"
   ]
  },
  {
   "cell_type": "code",
   "execution_count": 32,
   "id": "5d9d83fe",
   "metadata": {},
   "outputs": [
    {
     "data": {
      "text/html": [
       "<div>\n",
       "<style scoped>\n",
       "    .dataframe tbody tr th:only-of-type {\n",
       "        vertical-align: middle;\n",
       "    }\n",
       "\n",
       "    .dataframe tbody tr th {\n",
       "        vertical-align: top;\n",
       "    }\n",
       "\n",
       "    .dataframe thead th {\n",
       "        text-align: right;\n",
       "    }\n",
       "</style>\n",
       "<table border=\"1\" class=\"dataframe\">\n",
       "  <thead>\n",
       "    <tr style=\"text-align: right;\">\n",
       "      <th></th>\n",
       "      <th>Postcode</th>\n",
       "      <th>Add2</th>\n",
       "      <th>Add3</th>\n",
       "      <th>District</th>\n",
       "      <th>County</th>\n",
       "      <th>Month</th>\n",
       "      <th>Year</th>\n",
       "      <th>Property Type_D</th>\n",
       "      <th>Property Type_F</th>\n",
       "      <th>Property Type_O</th>\n",
       "      <th>Property Type_S</th>\n",
       "      <th>Property Type_T</th>\n",
       "      <th>Old/New_N</th>\n",
       "      <th>Old/New_Y</th>\n",
       "      <th>Duration_F</th>\n",
       "      <th>Duration_L</th>\n",
       "      <th>PPDCategory Type_A</th>\n",
       "      <th>PPDCategory Type_B</th>\n",
       "      <th>PriceLog</th>\n",
       "    </tr>\n",
       "  </thead>\n",
       "  <tbody>\n",
       "    <tr>\n",
       "      <th>1144</th>\n",
       "      <td>173908.371756</td>\n",
       "      <td>300787.500000</td>\n",
       "      <td>168993.186553</td>\n",
       "      <td>230438.749577</td>\n",
       "      <td>230437.21076</td>\n",
       "      <td>7</td>\n",
       "      <td>2021</td>\n",
       "      <td>1</td>\n",
       "      <td>0</td>\n",
       "      <td>0</td>\n",
       "      <td>0</td>\n",
       "      <td>0</td>\n",
       "      <td>1</td>\n",
       "      <td>0</td>\n",
       "      <td>1</td>\n",
       "      <td>0</td>\n",
       "      <td>1</td>\n",
       "      <td>0</td>\n",
       "      <td>12.823148</td>\n",
       "    </tr>\n",
       "    <tr>\n",
       "      <th>1987</th>\n",
       "      <td>172087.522876</td>\n",
       "      <td>123703.150028</td>\n",
       "      <td>145592.471125</td>\n",
       "      <td>230438.749577</td>\n",
       "      <td>230437.21076</td>\n",
       "      <td>11</td>\n",
       "      <td>2021</td>\n",
       "      <td>0</td>\n",
       "      <td>0</td>\n",
       "      <td>0</td>\n",
       "      <td>0</td>\n",
       "      <td>1</td>\n",
       "      <td>1</td>\n",
       "      <td>0</td>\n",
       "      <td>1</td>\n",
       "      <td>0</td>\n",
       "      <td>1</td>\n",
       "      <td>0</td>\n",
       "      <td>11.891362</td>\n",
       "    </tr>\n",
       "    <tr>\n",
       "      <th>1990</th>\n",
       "      <td>278999.853118</td>\n",
       "      <td>507271.773027</td>\n",
       "      <td>278999.853118</td>\n",
       "      <td>230438.749577</td>\n",
       "      <td>230437.21076</td>\n",
       "      <td>7</td>\n",
       "      <td>2021</td>\n",
       "      <td>1</td>\n",
       "      <td>0</td>\n",
       "      <td>0</td>\n",
       "      <td>0</td>\n",
       "      <td>0</td>\n",
       "      <td>1</td>\n",
       "      <td>0</td>\n",
       "      <td>1</td>\n",
       "      <td>0</td>\n",
       "      <td>1</td>\n",
       "      <td>0</td>\n",
       "      <td>13.681979</td>\n",
       "    </tr>\n",
       "    <tr>\n",
       "      <th>2003</th>\n",
       "      <td>400420.138054</td>\n",
       "      <td>328417.871528</td>\n",
       "      <td>329438.255034</td>\n",
       "      <td>230438.749577</td>\n",
       "      <td>230437.21076</td>\n",
       "      <td>8</td>\n",
       "      <td>2021</td>\n",
       "      <td>0</td>\n",
       "      <td>0</td>\n",
       "      <td>0</td>\n",
       "      <td>0</td>\n",
       "      <td>1</td>\n",
       "      <td>1</td>\n",
       "      <td>0</td>\n",
       "      <td>1</td>\n",
       "      <td>0</td>\n",
       "      <td>1</td>\n",
       "      <td>0</td>\n",
       "      <td>11.982929</td>\n",
       "    </tr>\n",
       "    <tr>\n",
       "      <th>2023</th>\n",
       "      <td>210744.850912</td>\n",
       "      <td>106687.528176</td>\n",
       "      <td>213710.799763</td>\n",
       "      <td>230438.749577</td>\n",
       "      <td>230437.21076</td>\n",
       "      <td>7</td>\n",
       "      <td>2021</td>\n",
       "      <td>0</td>\n",
       "      <td>0</td>\n",
       "      <td>0</td>\n",
       "      <td>0</td>\n",
       "      <td>1</td>\n",
       "      <td>1</td>\n",
       "      <td>0</td>\n",
       "      <td>1</td>\n",
       "      <td>0</td>\n",
       "      <td>1</td>\n",
       "      <td>0</td>\n",
       "      <td>11.652687</td>\n",
       "    </tr>\n",
       "  </tbody>\n",
       "</table>\n",
       "</div>"
      ],
      "text/plain": [
       "           Postcode           Add2           Add3       District  \\\n",
       "1144  173908.371756  300787.500000  168993.186553  230438.749577   \n",
       "1987  172087.522876  123703.150028  145592.471125  230438.749577   \n",
       "1990  278999.853118  507271.773027  278999.853118  230438.749577   \n",
       "2003  400420.138054  328417.871528  329438.255034  230438.749577   \n",
       "2023  210744.850912  106687.528176  213710.799763  230438.749577   \n",
       "\n",
       "            County  Month  Year  Property Type_D  Property Type_F  \\\n",
       "1144  230437.21076      7  2021                1                0   \n",
       "1987  230437.21076     11  2021                0                0   \n",
       "1990  230437.21076      7  2021                1                0   \n",
       "2003  230437.21076      8  2021                0                0   \n",
       "2023  230437.21076      7  2021                0                0   \n",
       "\n",
       "      Property Type_O  Property Type_S  Property Type_T  Old/New_N  Old/New_Y  \\\n",
       "1144                0                0                0          1          0   \n",
       "1987                0                0                1          1          0   \n",
       "1990                0                0                0          1          0   \n",
       "2003                0                0                1          1          0   \n",
       "2023                0                0                1          1          0   \n",
       "\n",
       "      Duration_F  Duration_L  PPDCategory Type_A  PPDCategory Type_B  \\\n",
       "1144           1           0                   1                   0   \n",
       "1987           1           0                   1                   0   \n",
       "1990           1           0                   1                   0   \n",
       "2003           1           0                   1                   0   \n",
       "2023           1           0                   1                   0   \n",
       "\n",
       "       PriceLog  \n",
       "1144  12.823148  \n",
       "1987  11.891362  \n",
       "1990  13.681979  \n",
       "2003  11.982929  \n",
       "2023  11.652687  "
      ]
     },
     "execution_count": 32,
     "metadata": {},
     "output_type": "execute_result"
    }
   ],
   "source": [
    "test_21.head()"
   ]
  },
  {
   "cell_type": "code",
   "execution_count": 33,
   "id": "d0b79fe2",
   "metadata": {},
   "outputs": [],
   "source": [
    "x_test_21 = test_21.loc[:, test_21.columns != 'PriceLog']\n",
    "y_test_21 = test_21['PriceLog']"
   ]
  },
  {
   "cell_type": "code",
   "execution_count": 34,
   "id": "c0e493cb",
   "metadata": {},
   "outputs": [
    {
     "name": "stdout",
     "output_type": "stream",
     "text": [
      "Linear algorithm was disabled.\n",
      "AutoML directory: AutoML_1\n",
      "The task is regression with evaluation metric rmse\n",
      "AutoML will use algorithms: ['Baseline', 'Decision Tree', 'Random Forest', 'Xgboost', 'Neural Network']\n",
      "AutoML will ensemble available models\n",
      "AutoML steps: ['simple_algorithms', 'default_algorithms', 'ensemble']\n",
      "* Step simple_algorithms will try to check up to 2 models\n",
      "1_Baseline rmse 0.587282 trained in 0.54 seconds\n",
      "2_DecisionTree rmse 0.439299 trained in 19.4 seconds\n",
      "* Step default_algorithms will try to check up to 3 models\n",
      "3_Default_Xgboost rmse 0.329864 trained in 24.96 seconds\n",
      "4_Default_NeuralNetwork rmse 0.368661 trained in 3.22 seconds\n",
      "5_Default_RandomForest rmse 0.393176 trained in 7.16 seconds\n",
      "* Step ensemble will try to check up to 1 model\n",
      "Ensemble rmse 0.32549 trained in 0.32 seconds\n",
      "AutoML fit time: 69.71 seconds\n",
      "AutoML best model: Ensemble\n"
     ]
    },
    {
     "data": {
      "text/plain": [
       "AutoML(explain_level=2, total_time_limit=300)"
      ]
     },
     "execution_count": 34,
     "metadata": {},
     "output_type": "execute_result"
    }
   ],
   "source": [
    "## explain_level gives information on feature importance when given value 1 or 2\n",
    "automl1 = AutoML(total_time_limit = 5 * 60, explain_level = 2)\n",
    "automl1.fit(x_train_21, y_train_21)"
   ]
  },
  {
   "cell_type": "code",
   "execution_count": 35,
   "id": "d4f2a436",
   "metadata": {},
   "outputs": [
    {
     "name": "stdout",
     "output_type": "stream",
     "text": [
      "MSE for AutoML 2021 is: 0.11318998467720445\n"
     ]
    }
   ],
   "source": [
    "# calculated values\n",
    "y_predicted_21 = automl1.predict(x_test_21)\n",
    "  \n",
    "# Calculation of Mean Squared Error (MSE)\n",
    "mse = mean_squared_error(y_test_21, y_predicted_21)\n",
    "print('MSE for AutoML 2021 is: ' + str(mse))"
   ]
  },
  {
   "cell_type": "code",
   "execution_count": 36,
   "id": "718fee9e",
   "metadata": {},
   "outputs": [
    {
     "name": "stdout",
     "output_type": "stream",
     "text": [
      "RMSE for AutoML 2021 is: 0.33643719276739376\n"
     ]
    }
   ],
   "source": [
    "rmse = mean_squared_error(y_test_21, y_predicted_21, squared=False)\n",
    "print('RMSE for AutoML 2021 is: ' + str(rmse))"
   ]
  },
  {
   "cell_type": "code",
   "execution_count": 37,
   "id": "2131bd5d",
   "metadata": {},
   "outputs": [
    {
     "name": "stdout",
     "output_type": "stream",
     "text": [
      "Accuracy of properties at +- 10% of actual prices is 0.35551285130915206\n"
     ]
    }
   ],
   "source": [
    "acc = accuracy_threshold(y_test_21, y_predicted_21, 0.1)\n",
    "print('Accuracy of properties at +- 10% of actual prices is ' + str(acc))"
   ]
  },
  {
   "cell_type": "code",
   "execution_count": 38,
   "id": "9521e57c",
   "metadata": {},
   "outputs": [
    {
     "name": "stdout",
     "output_type": "stream",
     "text": [
      "Accuracy of properties at +- 20% of actual prices is 0.6382416526543359\n"
     ]
    }
   ],
   "source": [
    "acc1 = accuracy_threshold(y_test_21, y_predicted_21, 0.20)\n",
    "print('Accuracy of properties at +- 20% of actual prices is ' + str(acc1))"
   ]
  },
  {
   "cell_type": "code",
   "execution_count": 39,
   "id": "5fe78f15",
   "metadata": {},
   "outputs": [
    {
     "name": "stdout",
     "output_type": "stream",
     "text": [
      "Median Absolute Error:\n",
      "\n",
      "0.14746483926688825\n"
     ]
    }
   ],
   "source": [
    "median_se = np.square(np.subtract(y_test_21, y_predicted_21)).median() \n",
    " \n",
    "med = math.sqrt(median_se)\n",
    "print(\"Median Absolute Error:\\n\")\n",
    "print(med)"
   ]
  },
  {
   "cell_type": "code",
   "execution_count": 40,
   "id": "b55c0957",
   "metadata": {},
   "outputs": [
    {
     "name": "stdout",
     "output_type": "stream",
     "text": [
      "MAPE for AutoML 2021 is: 0.017269566384892746\n"
     ]
    }
   ],
   "source": [
    "from sklearn.metrics import mean_absolute_percentage_error\n",
    "mape = mean_absolute_percentage_error(y_test_21, y_predicted_21)\n",
    "print(\"MAPE for AutoML 2021 is: \" + str(mape))"
   ]
  },
  {
   "cell_type": "code",
   "execution_count": 41,
   "id": "6e9ed327",
   "metadata": {},
   "outputs": [],
   "source": [
    "cnames=['Algorithm', 'Year', 'RMSE', 'MSE', 'MEDAE', 'Accuracy', 'MAPE']\n",
    "df11 = pd.DataFrame(columns=cnames)\n",
    "\n",
    "df11 = df11.append({'Algorithm': 'AutoML',\n",
    "            'Year': 2021,\n",
    "           'RMSE': rmse,\n",
    "           'MSE': mse,\n",
    "           'MEDAE': med,\n",
    "           'Accuracy': acc,\n",
    "           'MAPE': mape         \n",
    "          }, ignore_index=True)"
   ]
  },
  {
   "cell_type": "code",
   "execution_count": 42,
   "id": "bac5823b",
   "metadata": {},
   "outputs": [],
   "source": [
    "#cnames = ['Actual', 'Predicted']\n",
    "#dfreal1 = pd.DataFrame(columns = cnames)\n",
    "dfreal1 = pd.DataFrame(y_test_21.values)\n",
    "dfpred1 = pd.DataFrame(y_predicted_21)"
   ]
  },
  {
   "cell_type": "markdown",
   "id": "d081217e",
   "metadata": {},
   "source": [
    "### 2020 predictions"
   ]
  },
  {
   "cell_type": "code",
   "execution_count": 43,
   "id": "d6e48b79",
   "metadata": {},
   "outputs": [],
   "source": [
    "specific20 = irl[irl['Year'] > 2016]"
   ]
  },
  {
   "cell_type": "code",
   "execution_count": 44,
   "id": "315afd40",
   "metadata": {},
   "outputs": [],
   "source": [
    "test_20 = specific20[specific20['Year'] == 2020]\n",
    "train_20 = specific20[specific20['Year'] < 2020]"
   ]
  },
  {
   "cell_type": "code",
   "execution_count": 45,
   "id": "c9c2a103",
   "metadata": {},
   "outputs": [],
   "source": [
    "x_train_20 = train_20.loc[:, train_20.columns != 'PriceLog']\n",
    "y_train_20 = train_20['PriceLog']"
   ]
  },
  {
   "cell_type": "code",
   "execution_count": 46,
   "id": "23cef19c",
   "metadata": {},
   "outputs": [],
   "source": [
    "x_test_20 = test_20.loc[:, test_20.columns != 'PriceLog']\n",
    "y_test_20 = test_20['PriceLog']"
   ]
  },
  {
   "cell_type": "code",
   "execution_count": 47,
   "id": "489501e2",
   "metadata": {},
   "outputs": [
    {
     "name": "stdout",
     "output_type": "stream",
     "text": [
      "Linear algorithm was disabled.\n",
      "AutoML directory: AutoML_2\n",
      "The task is regression with evaluation metric rmse\n",
      "AutoML will use algorithms: ['Baseline', 'Decision Tree', 'Random Forest', 'Xgboost', 'Neural Network']\n",
      "AutoML will ensemble available models\n",
      "AutoML steps: ['simple_algorithms', 'default_algorithms', 'ensemble']\n",
      "* Step simple_algorithms will try to check up to 2 models\n",
      "1_Baseline rmse 0.582922 trained in 0.89 seconds\n",
      "2_DecisionTree rmse 0.422985 trained in 6.31 seconds\n",
      "* Step default_algorithms will try to check up to 3 models\n",
      "3_Default_Xgboost rmse 0.337268 trained in 14.68 seconds\n",
      "4_Default_NeuralNetwork rmse 0.38027 trained in 1.74 seconds\n",
      "5_Default_RandomForest rmse 0.386989 trained in 4.81 seconds\n",
      "* Step ensemble will try to check up to 1 model\n",
      "Ensemble rmse 0.334686 trained in 0.36 seconds\n",
      "AutoML fit time: 45.52 seconds\n",
      "AutoML best model: Ensemble\n"
     ]
    },
    {
     "data": {
      "text/plain": [
       "AutoML(explain_level=2, total_time_limit=300)"
      ]
     },
     "execution_count": 47,
     "metadata": {},
     "output_type": "execute_result"
    }
   ],
   "source": [
    "automl2 = AutoML(total_time_limit = 5 * 60, explain_level = 2)\n",
    "automl2.fit(x_train_20, y_train_20)"
   ]
  },
  {
   "cell_type": "code",
   "execution_count": 48,
   "id": "614a3cad",
   "metadata": {},
   "outputs": [
    {
     "name": "stdout",
     "output_type": "stream",
     "text": [
      "MSE for AutoML 2020 is: 0.11639432376297514\n"
     ]
    }
   ],
   "source": [
    "# calculated values\n",
    "y_predicted_20 = automl2.predict(x_test_20)\n",
    "  \n",
    "# Calculation of Mean Squared Error (MSE)\n",
    "mse = mean_squared_error(y_test_20,y_predicted_20)\n",
    "print('MSE for AutoML 2020 is: ' + str(mse))"
   ]
  },
  {
   "cell_type": "code",
   "execution_count": 49,
   "id": "8e4a25f6",
   "metadata": {},
   "outputs": [
    {
     "name": "stdout",
     "output_type": "stream",
     "text": [
      "RMSE for AutoML 2020 is: 0.34116612341053904\n"
     ]
    }
   ],
   "source": [
    "rmse = mean_squared_error(y_test_20, y_predicted_20, squared=False)\n",
    "print('RMSE for AutoML 2020 is: ' + str(rmse))"
   ]
  },
  {
   "cell_type": "code",
   "execution_count": 50,
   "id": "720e2b2e",
   "metadata": {},
   "outputs": [
    {
     "name": "stdout",
     "output_type": "stream",
     "text": [
      "Accuracy of properties at +- 10% of actual prices is 0.3681116825863336\n"
     ]
    }
   ],
   "source": [
    "acc = accuracy_threshold(y_test_20, y_predicted_20, 0.1)\n",
    "print('Accuracy of properties at +- 10% of actual prices is ' + str(acc))"
   ]
  },
  {
   "cell_type": "code",
   "execution_count": 51,
   "id": "2c03aba3",
   "metadata": {},
   "outputs": [
    {
     "name": "stdout",
     "output_type": "stream",
     "text": [
      "Accuracy of properties at +- 20% of actual prices is 0.6495224099926524\n"
     ]
    }
   ],
   "source": [
    "acc1 = accuracy_threshold(y_test_20, y_predicted_20, 0.2)\n",
    "print('Accuracy of properties at +- 20% of actual prices is ' + str(acc1))"
   ]
  },
  {
   "cell_type": "code",
   "execution_count": 52,
   "id": "a7924ad0",
   "metadata": {},
   "outputs": [
    {
     "name": "stdout",
     "output_type": "stream",
     "text": [
      "Median Absolute Error:\n",
      "\n",
      "0.14639837621305318\n"
     ]
    }
   ],
   "source": [
    "print(\"Median Absolute Error:\\n\")\n",
    "print(median_absolute_error(y_test_20, y_predicted_20))"
   ]
  },
  {
   "cell_type": "code",
   "execution_count": 53,
   "id": "18076ebd",
   "metadata": {},
   "outputs": [
    {
     "name": "stdout",
     "output_type": "stream",
     "text": [
      "MAPE for AutoML 2020 is: 0.017337591167771386\n"
     ]
    }
   ],
   "source": [
    "mape = mean_absolute_percentage_error(y_test_20, y_predicted_20)\n",
    "print(\"MAPE for AutoML 2020 is: \" + str(mape))"
   ]
  },
  {
   "cell_type": "code",
   "execution_count": 54,
   "id": "3ee1861f",
   "metadata": {},
   "outputs": [],
   "source": [
    "cnames = ['Algorithm', 'Year', 'RMSE', 'MSE', 'MEDAE', 'Accuracy', 'MAPE']\n",
    "df10 = pd.DataFrame(columns=cnames)\n",
    "\n",
    "df10 = df10.append({'Algorithm': 'AutoML',\n",
    "            'Year': 2020,\n",
    "           'RMSE': rmse,\n",
    "           'MSE': mse,\n",
    "           'MEDAE': med,\n",
    "           'Accuracy': acc,\n",
    "           'MAPE': mape\n",
    "          }, ignore_index=True)"
   ]
  },
  {
   "cell_type": "code",
   "execution_count": 55,
   "id": "16a86bf8",
   "metadata": {},
   "outputs": [
    {
     "data": {
      "text/html": [
       "<div>\n",
       "<style scoped>\n",
       "    .dataframe tbody tr th:only-of-type {\n",
       "        vertical-align: middle;\n",
       "    }\n",
       "\n",
       "    .dataframe tbody tr th {\n",
       "        vertical-align: top;\n",
       "    }\n",
       "\n",
       "    .dataframe thead th {\n",
       "        text-align: right;\n",
       "    }\n",
       "</style>\n",
       "<table border=\"1\" class=\"dataframe\">\n",
       "  <thead>\n",
       "    <tr style=\"text-align: right;\">\n",
       "      <th></th>\n",
       "      <th>Postcode</th>\n",
       "      <th>Add2</th>\n",
       "      <th>Add3</th>\n",
       "      <th>District</th>\n",
       "      <th>County</th>\n",
       "      <th>Month</th>\n",
       "      <th>Year</th>\n",
       "      <th>Property Type_D</th>\n",
       "      <th>Property Type_F</th>\n",
       "      <th>Property Type_O</th>\n",
       "      <th>Property Type_S</th>\n",
       "      <th>Property Type_T</th>\n",
       "      <th>Old/New_N</th>\n",
       "      <th>Old/New_Y</th>\n",
       "      <th>Duration_F</th>\n",
       "      <th>Duration_L</th>\n",
       "      <th>PPDCategory Type_A</th>\n",
       "      <th>PPDCategory Type_B</th>\n",
       "    </tr>\n",
       "  </thead>\n",
       "  <tbody>\n",
       "    <tr>\n",
       "      <th>0</th>\n",
       "      <td>218116.525847</td>\n",
       "      <td>328417.871528</td>\n",
       "      <td>310611.194030</td>\n",
       "      <td>236388.525078</td>\n",
       "      <td>256968.082345</td>\n",
       "      <td>11</td>\n",
       "      <td>2020</td>\n",
       "      <td>0</td>\n",
       "      <td>0</td>\n",
       "      <td>0</td>\n",
       "      <td>1</td>\n",
       "      <td>0</td>\n",
       "      <td>1</td>\n",
       "      <td>0</td>\n",
       "      <td>1</td>\n",
       "      <td>0</td>\n",
       "      <td>1</td>\n",
       "      <td>0</td>\n",
       "    </tr>\n",
       "    <tr>\n",
       "      <th>1</th>\n",
       "      <td>218116.525847</td>\n",
       "      <td>244115.312994</td>\n",
       "      <td>262724.335294</td>\n",
       "      <td>236388.525078</td>\n",
       "      <td>256968.082345</td>\n",
       "      <td>10</td>\n",
       "      <td>2020</td>\n",
       "      <td>1</td>\n",
       "      <td>0</td>\n",
       "      <td>0</td>\n",
       "      <td>0</td>\n",
       "      <td>0</td>\n",
       "      <td>0</td>\n",
       "      <td>1</td>\n",
       "      <td>1</td>\n",
       "      <td>0</td>\n",
       "      <td>1</td>\n",
       "      <td>0</td>\n",
       "    </tr>\n",
       "    <tr>\n",
       "      <th>2</th>\n",
       "      <td>218116.525847</td>\n",
       "      <td>307877.341142</td>\n",
       "      <td>224647.939686</td>\n",
       "      <td>236388.525078</td>\n",
       "      <td>256968.082345</td>\n",
       "      <td>12</td>\n",
       "      <td>2020</td>\n",
       "      <td>1</td>\n",
       "      <td>0</td>\n",
       "      <td>0</td>\n",
       "      <td>0</td>\n",
       "      <td>0</td>\n",
       "      <td>1</td>\n",
       "      <td>0</td>\n",
       "      <td>1</td>\n",
       "      <td>0</td>\n",
       "      <td>1</td>\n",
       "      <td>0</td>\n",
       "    </tr>\n",
       "    <tr>\n",
       "      <th>3</th>\n",
       "      <td>218116.525847</td>\n",
       "      <td>375427.950495</td>\n",
       "      <td>234782.222615</td>\n",
       "      <td>236388.525078</td>\n",
       "      <td>256968.082345</td>\n",
       "      <td>10</td>\n",
       "      <td>2020</td>\n",
       "      <td>1</td>\n",
       "      <td>0</td>\n",
       "      <td>0</td>\n",
       "      <td>0</td>\n",
       "      <td>0</td>\n",
       "      <td>1</td>\n",
       "      <td>0</td>\n",
       "      <td>1</td>\n",
       "      <td>0</td>\n",
       "      <td>1</td>\n",
       "      <td>0</td>\n",
       "    </tr>\n",
       "    <tr>\n",
       "      <th>4</th>\n",
       "      <td>218116.525847</td>\n",
       "      <td>186356.957895</td>\n",
       "      <td>234782.222615</td>\n",
       "      <td>236388.525078</td>\n",
       "      <td>256968.082345</td>\n",
       "      <td>11</td>\n",
       "      <td>2020</td>\n",
       "      <td>1</td>\n",
       "      <td>0</td>\n",
       "      <td>0</td>\n",
       "      <td>0</td>\n",
       "      <td>0</td>\n",
       "      <td>1</td>\n",
       "      <td>0</td>\n",
       "      <td>1</td>\n",
       "      <td>0</td>\n",
       "      <td>1</td>\n",
       "      <td>0</td>\n",
       "    </tr>\n",
       "    <tr>\n",
       "      <th>...</th>\n",
       "      <td>...</td>\n",
       "      <td>...</td>\n",
       "      <td>...</td>\n",
       "      <td>...</td>\n",
       "      <td>...</td>\n",
       "      <td>...</td>\n",
       "      <td>...</td>\n",
       "      <td>...</td>\n",
       "      <td>...</td>\n",
       "      <td>...</td>\n",
       "      <td>...</td>\n",
       "      <td>...</td>\n",
       "      <td>...</td>\n",
       "      <td>...</td>\n",
       "      <td>...</td>\n",
       "      <td>...</td>\n",
       "      <td>...</td>\n",
       "      <td>...</td>\n",
       "    </tr>\n",
       "    <tr>\n",
       "      <th>4078</th>\n",
       "      <td>273531.472222</td>\n",
       "      <td>132604.666667</td>\n",
       "      <td>191745.094737</td>\n",
       "      <td>230438.749577</td>\n",
       "      <td>230437.210760</td>\n",
       "      <td>7</td>\n",
       "      <td>2020</td>\n",
       "      <td>0</td>\n",
       "      <td>1</td>\n",
       "      <td>0</td>\n",
       "      <td>0</td>\n",
       "      <td>0</td>\n",
       "      <td>1</td>\n",
       "      <td>0</td>\n",
       "      <td>0</td>\n",
       "      <td>1</td>\n",
       "      <td>1</td>\n",
       "      <td>0</td>\n",
       "    </tr>\n",
       "    <tr>\n",
       "      <th>4079</th>\n",
       "      <td>231355.747319</td>\n",
       "      <td>290812.500000</td>\n",
       "      <td>287343.938240</td>\n",
       "      <td>230438.749577</td>\n",
       "      <td>230437.210760</td>\n",
       "      <td>7</td>\n",
       "      <td>2020</td>\n",
       "      <td>0</td>\n",
       "      <td>0</td>\n",
       "      <td>0</td>\n",
       "      <td>1</td>\n",
       "      <td>0</td>\n",
       "      <td>1</td>\n",
       "      <td>0</td>\n",
       "      <td>1</td>\n",
       "      <td>0</td>\n",
       "      <td>1</td>\n",
       "      <td>0</td>\n",
       "    </tr>\n",
       "    <tr>\n",
       "      <th>4080</th>\n",
       "      <td>173661.602210</td>\n",
       "      <td>191586.436782</td>\n",
       "      <td>154995.620573</td>\n",
       "      <td>230438.749577</td>\n",
       "      <td>230437.210760</td>\n",
       "      <td>6</td>\n",
       "      <td>2020</td>\n",
       "      <td>0</td>\n",
       "      <td>0</td>\n",
       "      <td>0</td>\n",
       "      <td>0</td>\n",
       "      <td>1</td>\n",
       "      <td>1</td>\n",
       "      <td>0</td>\n",
       "      <td>0</td>\n",
       "      <td>1</td>\n",
       "      <td>1</td>\n",
       "      <td>0</td>\n",
       "    </tr>\n",
       "    <tr>\n",
       "      <th>4081</th>\n",
       "      <td>218116.525847</td>\n",
       "      <td>225045.791083</td>\n",
       "      <td>224647.939686</td>\n",
       "      <td>236388.525078</td>\n",
       "      <td>256968.082345</td>\n",
       "      <td>1</td>\n",
       "      <td>2020</td>\n",
       "      <td>1</td>\n",
       "      <td>0</td>\n",
       "      <td>0</td>\n",
       "      <td>0</td>\n",
       "      <td>0</td>\n",
       "      <td>1</td>\n",
       "      <td>0</td>\n",
       "      <td>1</td>\n",
       "      <td>0</td>\n",
       "      <td>1</td>\n",
       "      <td>0</td>\n",
       "    </tr>\n",
       "    <tr>\n",
       "      <th>4082</th>\n",
       "      <td>218116.525847</td>\n",
       "      <td>165690.250000</td>\n",
       "      <td>224647.939686</td>\n",
       "      <td>236388.525078</td>\n",
       "      <td>256968.082345</td>\n",
       "      <td>1</td>\n",
       "      <td>2020</td>\n",
       "      <td>0</td>\n",
       "      <td>0</td>\n",
       "      <td>0</td>\n",
       "      <td>1</td>\n",
       "      <td>0</td>\n",
       "      <td>1</td>\n",
       "      <td>0</td>\n",
       "      <td>1</td>\n",
       "      <td>0</td>\n",
       "      <td>1</td>\n",
       "      <td>0</td>\n",
       "    </tr>\n",
       "  </tbody>\n",
       "</table>\n",
       "<p>4083 rows × 18 columns</p>\n",
       "</div>"
      ],
      "text/plain": [
       "           Postcode           Add2           Add3       District  \\\n",
       "0     218116.525847  328417.871528  310611.194030  236388.525078   \n",
       "1     218116.525847  244115.312994  262724.335294  236388.525078   \n",
       "2     218116.525847  307877.341142  224647.939686  236388.525078   \n",
       "3     218116.525847  375427.950495  234782.222615  236388.525078   \n",
       "4     218116.525847  186356.957895  234782.222615  236388.525078   \n",
       "...             ...            ...            ...            ...   \n",
       "4078  273531.472222  132604.666667  191745.094737  230438.749577   \n",
       "4079  231355.747319  290812.500000  287343.938240  230438.749577   \n",
       "4080  173661.602210  191586.436782  154995.620573  230438.749577   \n",
       "4081  218116.525847  225045.791083  224647.939686  236388.525078   \n",
       "4082  218116.525847  165690.250000  224647.939686  236388.525078   \n",
       "\n",
       "             County  Month  Year  Property Type_D  Property Type_F  \\\n",
       "0     256968.082345     11  2020                0                0   \n",
       "1     256968.082345     10  2020                1                0   \n",
       "2     256968.082345     12  2020                1                0   \n",
       "3     256968.082345     10  2020                1                0   \n",
       "4     256968.082345     11  2020                1                0   \n",
       "...             ...    ...   ...              ...              ...   \n",
       "4078  230437.210760      7  2020                0                1   \n",
       "4079  230437.210760      7  2020                0                0   \n",
       "4080  230437.210760      6  2020                0                0   \n",
       "4081  256968.082345      1  2020                1                0   \n",
       "4082  256968.082345      1  2020                0                0   \n",
       "\n",
       "      Property Type_O  Property Type_S  Property Type_T  Old/New_N  Old/New_Y  \\\n",
       "0                   0                1                0          1          0   \n",
       "1                   0                0                0          0          1   \n",
       "2                   0                0                0          1          0   \n",
       "3                   0                0                0          1          0   \n",
       "4                   0                0                0          1          0   \n",
       "...               ...              ...              ...        ...        ...   \n",
       "4078                0                0                0          1          0   \n",
       "4079                0                1                0          1          0   \n",
       "4080                0                0                1          1          0   \n",
       "4081                0                0                0          1          0   \n",
       "4082                0                1                0          1          0   \n",
       "\n",
       "      Duration_F  Duration_L  PPDCategory Type_A  PPDCategory Type_B  \n",
       "0              1           0                   1                   0  \n",
       "1              1           0                   1                   0  \n",
       "2              1           0                   1                   0  \n",
       "3              1           0                   1                   0  \n",
       "4              1           0                   1                   0  \n",
       "...          ...         ...                 ...                 ...  \n",
       "4078           0           1                   1                   0  \n",
       "4079           1           0                   1                   0  \n",
       "4080           0           1                   1                   0  \n",
       "4081           1           0                   1                   0  \n",
       "4082           1           0                   1                   0  \n",
       "\n",
       "[4083 rows x 18 columns]"
      ]
     },
     "execution_count": 55,
     "metadata": {},
     "output_type": "execute_result"
    }
   ],
   "source": [
    "x_test_20"
   ]
  },
  {
   "cell_type": "code",
   "execution_count": 56,
   "id": "d3e9a667",
   "metadata": {},
   "outputs": [],
   "source": [
    "#cnames = ['Actual', 'Predicted']\n",
    "#dfreal2 = pd.DataFrame(columns = cnames)\n",
    "dfreal2 = pd.DataFrame(y_test_20.values)\n",
    "dfpred2 = pd.DataFrame(y_predicted_20)\n",
    "#dfreal2 = pd.concat([z1, z2], ignore_index=True)"
   ]
  },
  {
   "cell_type": "markdown",
   "id": "74228ee8",
   "metadata": {},
   "source": [
    "### Multiple Linear Regression"
   ]
  },
  {
   "cell_type": "markdown",
   "id": "0c6586a2",
   "metadata": {},
   "source": [
    "Next, I will try implement some algorithms not specified in our autoML library which so far has only utilised XgBoost, Random Forest, Decison Tree and ensemble algorithms. I will attempt to implement other ML algorithms such as multiple linear regression and adaboost among others."
   ]
  },
  {
   "cell_type": "markdown",
   "id": "07c29198",
   "metadata": {},
   "source": [
    "There is a couple of different libraries we can use here for linear regression:\n",
    "- Sci-kit learn's linear model library\n",
    "- Statsmodel\n",
    "\n",
    "For the purpose of this I will remain consistent with the use of the sci-kit learn libraries."
   ]
  },
  {
   "cell_type": "code",
   "execution_count": 57,
   "id": "2b68d852",
   "metadata": {},
   "outputs": [],
   "source": [
    "from sklearn import linear_model"
   ]
  },
  {
   "cell_type": "markdown",
   "id": "130a989d",
   "metadata": {},
   "source": [
    "#### Let's try predict our 2021 values again using MLR"
   ]
  },
  {
   "cell_type": "code",
   "execution_count": 58,
   "id": "7d5c0fca",
   "metadata": {},
   "outputs": [
    {
     "data": {
      "text/plain": [
       "LinearRegression()"
      ]
     },
     "execution_count": 58,
     "metadata": {},
     "output_type": "execute_result"
    }
   ],
   "source": [
    "lm = linear_model.LinearRegression()\n",
    "lm.fit(x_train_21, y_train_21) # fitting the model"
   ]
  },
  {
   "cell_type": "code",
   "execution_count": 59,
   "id": "f263e379",
   "metadata": {},
   "outputs": [
    {
     "name": "stdout",
     "output_type": "stream",
     "text": [
      "MSE for MLR 2021 is: 0.1254671353553587\n"
     ]
    }
   ],
   "source": [
    "y_pred_21 = lm.predict(x_test_21)\n",
    "# Calculation of Mean Squared Error (MSE)\n",
    "mse = mean_squared_error(y_test_21,y_pred_21)\n",
    "print('MSE for MLR 2021 is: ' + str(mse))"
   ]
  },
  {
   "cell_type": "code",
   "execution_count": 60,
   "id": "73543343",
   "metadata": {},
   "outputs": [
    {
     "name": "stdout",
     "output_type": "stream",
     "text": [
      "Accuracy of properties at +- 10% of actual prices is 0.321402834494355\n"
     ]
    }
   ],
   "source": [
    "acc = accuracy_threshold(y_test_21, y_pred_21, 0.1)\n",
    "print('Accuracy of properties at +- 10% of actual prices is ' + str(acc))"
   ]
  },
  {
   "cell_type": "code",
   "execution_count": 61,
   "id": "01de429f",
   "metadata": {},
   "outputs": [
    {
     "name": "stdout",
     "output_type": "stream",
     "text": [
      "Accuracy of properties at +- 20% of actual prices is 0.5904395868364161\n"
     ]
    }
   ],
   "source": [
    "acc1 = accuracy_threshold(y_test_21, y_pred_21, 0.20)\n",
    "print('Accuracy of properties at +- 20% of actual prices is ' + str(acc1))"
   ]
  },
  {
   "cell_type": "code",
   "execution_count": 62,
   "id": "f1dc8944",
   "metadata": {},
   "outputs": [
    {
     "name": "stdout",
     "output_type": "stream",
     "text": [
      "Median Absolute Error:\n",
      "\n",
      "0.16422260774511166\n"
     ]
    }
   ],
   "source": [
    "median_se = np.square(np.subtract(y_test_21,y_pred_21)).median() \n",
    " \n",
    "med = math.sqrt(median_se)\n",
    "print(\"Median Absolute Error:\\n\")\n",
    "print(med)"
   ]
  },
  {
   "cell_type": "code",
   "execution_count": 63,
   "id": "b1472e99",
   "metadata": {},
   "outputs": [
    {
     "name": "stdout",
     "output_type": "stream",
     "text": [
      "Root Mean Square Error:\n",
      "\n",
      "0.35421340369240467\n"
     ]
    }
   ],
   "source": [
    "mean = np.square(np.subtract(y_test_21,y_pred_21)).mean() \n",
    " \n",
    "mean = math.sqrt(mean)\n",
    "print(\"Root Mean Square Error:\\n\")\n",
    "print(mean)"
   ]
  },
  {
   "cell_type": "code",
   "execution_count": 64,
   "id": "c7dd3250",
   "metadata": {},
   "outputs": [
    {
     "name": "stdout",
     "output_type": "stream",
     "text": [
      "MAPE for MLR 2021 is: 0.01892435896397648\n"
     ]
    }
   ],
   "source": [
    "mape = mean_absolute_percentage_error(y_test_21, y_pred_21)\n",
    "print(\"MAPE for MLR 2021 is: \" + str(mape))"
   ]
  },
  {
   "cell_type": "code",
   "execution_count": 65,
   "id": "2b29c4f2",
   "metadata": {},
   "outputs": [],
   "source": [
    "cnames=['Algorithm', 'Year', 'RMSE', 'MSE', 'MEDAE', 'Accuracy', 'MAPE']\n",
    "df9 = pd.DataFrame(columns=cnames)\n",
    "\n",
    "df9 = df9.append({'Algorithm': 'MLR',\n",
    "            'Year': 2021,\n",
    "           'RMSE': mean,\n",
    "           'MSE': mse,\n",
    "           'MEDAE': med,\n",
    "           'Accuracy': acc,\n",
    "           'MAPE': mape       \n",
    "          }, ignore_index=True)"
   ]
  },
  {
   "cell_type": "markdown",
   "id": "f971bf25",
   "metadata": {},
   "source": [
    "### 2020 predictions"
   ]
  },
  {
   "cell_type": "code",
   "execution_count": 66,
   "id": "a14bd756",
   "metadata": {},
   "outputs": [
    {
     "data": {
      "text/plain": [
       "LinearRegression()"
      ]
     },
     "execution_count": 66,
     "metadata": {},
     "output_type": "execute_result"
    }
   ],
   "source": [
    "lm = linear_model.LinearRegression()\n",
    "lm.fit(x_train_20, y_train_20) # fitting the model"
   ]
  },
  {
   "cell_type": "code",
   "execution_count": 67,
   "id": "ebe7da38",
   "metadata": {},
   "outputs": [
    {
     "name": "stdout",
     "output_type": "stream",
     "text": [
      "MSE for MLR 2020 is: 0.12906316525458136\n"
     ]
    }
   ],
   "source": [
    "y_pred_20 = lm.predict(x_test_20)\n",
    "# Calculation of Mean Squared Error (MSE)\n",
    "mse = mean_squared_error(y_test_20, y_pred_20)\n",
    "print('MSE for MLR 2020 is: ' + str(mse))"
   ]
  },
  {
   "cell_type": "code",
   "execution_count": 68,
   "id": "94e183b3",
   "metadata": {},
   "outputs": [
    {
     "name": "stdout",
     "output_type": "stream",
     "text": [
      "Accuracy of properties at +- 10% of actual prices is 0.3423952975753123\n"
     ]
    }
   ],
   "source": [
    "acc = accuracy_threshold(y_test_20, y_pred_20, 0.1)\n",
    "print('Accuracy of properties at +- 10% of actual prices is ' + str(acc))"
   ]
  },
  {
   "cell_type": "code",
   "execution_count": 69,
   "id": "52735367",
   "metadata": {},
   "outputs": [
    {
     "name": "stdout",
     "output_type": "stream",
     "text": [
      "Accuracy of properties at +- 15% of actual prices is 0.4810188586823414\n"
     ]
    }
   ],
   "source": [
    "acc1 = accuracy_threshold(y_test_20, y_pred_20, 0.15)\n",
    "print('Accuracy of properties at +- 15% of actual prices is ' + str(acc1))"
   ]
  },
  {
   "cell_type": "code",
   "execution_count": 70,
   "id": "849311be",
   "metadata": {},
   "outputs": [
    {
     "name": "stdout",
     "output_type": "stream",
     "text": [
      "Median Absolute Error:\n",
      "\n",
      "0.15865581179864563\n"
     ]
    }
   ],
   "source": [
    "median_se = np.square(np.subtract(y_test_20, y_pred_20)).median() \n",
    " \n",
    "med = math.sqrt(median_se)\n",
    "print(\"Median Absolute Error:\\n\")\n",
    "print(med)"
   ]
  },
  {
   "cell_type": "code",
   "execution_count": 71,
   "id": "513d7076",
   "metadata": {},
   "outputs": [
    {
     "name": "stdout",
     "output_type": "stream",
     "text": [
      "Root Mean Square Error:\n",
      "\n",
      "0.3592536224654968\n"
     ]
    }
   ],
   "source": [
    "mean = np.square(np.subtract(y_test_20, y_pred_20)).mean() \n",
    " \n",
    "mean = math.sqrt(mean)\n",
    "print(\"Root Mean Square Error:\\n\")\n",
    "print(mean)"
   ]
  },
  {
   "cell_type": "code",
   "execution_count": 72,
   "id": "b604c388",
   "metadata": {},
   "outputs": [
    {
     "name": "stdout",
     "output_type": "stream",
     "text": [
      "MAPE for MLR 2020 is: 0.01889726829583677\n"
     ]
    }
   ],
   "source": [
    "mape = mean_absolute_percentage_error(y_test_20, y_pred_20)\n",
    "print(\"MAPE for MLR 2020 is: \" + str(mape))"
   ]
  },
  {
   "cell_type": "code",
   "execution_count": 73,
   "id": "0133f359",
   "metadata": {},
   "outputs": [],
   "source": [
    "cnames=['Algorithm', 'Year', 'RMSE', 'MSE', 'MEDAE', 'Accuracy', 'MAPE']\n",
    "df8 = pd.DataFrame(columns=cnames)\n",
    "\n",
    "df8 = df8.append({'Algorithm': 'MLR',\n",
    "            'Year': 2020,\n",
    "           'RMSE': mean,\n",
    "           'MSE': mse,\n",
    "           'MEDAE': med,\n",
    "           'Accuracy': acc,\n",
    "           'MAPE': mape       \n",
    "          }, ignore_index=True)"
   ]
  },
  {
   "cell_type": "markdown",
   "id": "47a04928",
   "metadata": {},
   "source": [
    "### Adaboost"
   ]
  },
  {
   "cell_type": "markdown",
   "id": "5daebee4",
   "metadata": {},
   "source": [
    "#### 2021 Predictions"
   ]
  },
  {
   "cell_type": "code",
   "execution_count": 74,
   "id": "e573a23c",
   "metadata": {},
   "outputs": [],
   "source": [
    "from sklearn.ensemble import AdaBoostRegressor\n",
    "from sklearn.datasets import make_regression"
   ]
  },
  {
   "cell_type": "code",
   "execution_count": 75,
   "id": "21cfd588",
   "metadata": {},
   "outputs": [],
   "source": [
    "model = AdaBoostRegressor()"
   ]
  },
  {
   "cell_type": "code",
   "execution_count": 76,
   "id": "9abf8264",
   "metadata": {},
   "outputs": [
    {
     "data": {
      "text/plain": [
       "AdaBoostRegressor()"
      ]
     },
     "execution_count": 76,
     "metadata": {},
     "output_type": "execute_result"
    }
   ],
   "source": [
    "model.fit(x_train_21, y_train_21)"
   ]
  },
  {
   "cell_type": "code",
   "execution_count": 77,
   "id": "ecb42e2c",
   "metadata": {},
   "outputs": [
    {
     "name": "stdout",
     "output_type": "stream",
     "text": [
      "MSE for AdaBoost 2021 is: 0.20598739170074734\n"
     ]
    }
   ],
   "source": [
    "y_pred_21 = model.predict(x_test_21)\n",
    "# Calculation of Mean Squared Error (MSE)\n",
    "mse = mean_squared_error(y_test_21,y_pred_21)\n",
    "print('MSE for AdaBoost 2021 is: ' + str(mse))"
   ]
  },
  {
   "cell_type": "code",
   "execution_count": 78,
   "id": "01b0ca20",
   "metadata": {},
   "outputs": [
    {
     "name": "stdout",
     "output_type": "stream",
     "text": [
      "Accuracy of properties at +- 10% of actual prices is 0.21426855632957\n"
     ]
    }
   ],
   "source": [
    "acc = accuracy_threshold(y_test_21, y_pred_21, 0.1)\n",
    "print('Accuracy of properties at +- 10% of actual prices is ' + str(acc))"
   ]
  },
  {
   "cell_type": "code",
   "execution_count": 79,
   "id": "f6961e9e",
   "metadata": {},
   "outputs": [
    {
     "name": "stdout",
     "output_type": "stream",
     "text": [
      "Accuracy of properties at +- 20% of actual prices is 0.4376651453278885\n"
     ]
    }
   ],
   "source": [
    "acc1 = accuracy_threshold(y_test_21, y_pred_21, 0.20)\n",
    "print('Accuracy of properties at +- 20% of actual prices is ' + str(acc1))"
   ]
  },
  {
   "cell_type": "code",
   "execution_count": 80,
   "id": "38743392",
   "metadata": {},
   "outputs": [
    {
     "name": "stdout",
     "output_type": "stream",
     "text": [
      "Median Absolute Error:\n",
      "\n",
      "0.24647922115348564\n"
     ]
    }
   ],
   "source": [
    "median_se = np.square(np.subtract(y_test_21, y_pred_21)).median() \n",
    " \n",
    "med = math.sqrt(median_se)\n",
    "print(\"Median Absolute Error:\\n\")\n",
    "print(med)"
   ]
  },
  {
   "cell_type": "code",
   "execution_count": 81,
   "id": "ac047411",
   "metadata": {},
   "outputs": [
    {
     "name": "stdout",
     "output_type": "stream",
     "text": [
      "Root Mean Square Error:\n",
      "\n",
      "0.45385833880270066\n"
     ]
    }
   ],
   "source": [
    "mean = np.square(np.subtract(y_test_21, y_pred_21)).mean() \n",
    " \n",
    "mean = math.sqrt(mean)\n",
    "print(\"Root Mean Square Error:\\n\")\n",
    "print(mean)"
   ]
  },
  {
   "cell_type": "code",
   "execution_count": 82,
   "id": "95ff4f12",
   "metadata": {},
   "outputs": [
    {
     "name": "stdout",
     "output_type": "stream",
     "text": [
      "MAPE for AdaBoost 2021 is: 0.02562715783485102\n"
     ]
    }
   ],
   "source": [
    "mape = mean_absolute_percentage_error(y_test_21, y_pred_21)\n",
    "print(\"MAPE for AdaBoost 2021 is: \" + str(mape))"
   ]
  },
  {
   "cell_type": "code",
   "execution_count": 83,
   "id": "935683db",
   "metadata": {},
   "outputs": [],
   "source": [
    "cnames=['Algorithm', 'Year', 'RMSE', 'MSE', 'MEDAE', 'Accuracy', 'MAPE']\n",
    "df7 = pd.DataFrame(columns=cnames)\n",
    "\n",
    "df7 = df7.append({'Algorithm': 'AdaBoost',\n",
    "            'Year': 2021,\n",
    "           'RMSE': mean,\n",
    "           'MSE': mse,\n",
    "           'MEDAE': med,\n",
    "           'Accuracy': acc,\n",
    "           'MAPE': mape       \n",
    "          }, ignore_index=True)"
   ]
  },
  {
   "cell_type": "markdown",
   "id": "b8a62354",
   "metadata": {},
   "source": [
    "#### 2020 Predictions"
   ]
  },
  {
   "cell_type": "code",
   "execution_count": 84,
   "id": "91a5776a",
   "metadata": {},
   "outputs": [
    {
     "data": {
      "text/plain": [
       "AdaBoostRegressor()"
      ]
     },
     "execution_count": 84,
     "metadata": {},
     "output_type": "execute_result"
    }
   ],
   "source": [
    "model = AdaBoostRegressor()\n",
    "model.fit(x_train_20, y_train_20)"
   ]
  },
  {
   "cell_type": "code",
   "execution_count": 85,
   "id": "bcc35421",
   "metadata": {},
   "outputs": [
    {
     "name": "stdout",
     "output_type": "stream",
     "text": [
      "MSE for AdaBoost 2020 is: 0.21246559748917618\n"
     ]
    }
   ],
   "source": [
    "y_pred_20 = model.predict(x_test_20)\n",
    "# Calculation of Mean Squared Error (MSE)\n",
    "mse = mean_squared_error(y_test_20, y_pred_20)\n",
    "print('MSE for AdaBoost 2020 is: ' + str(mse))"
   ]
  },
  {
   "cell_type": "code",
   "execution_count": 86,
   "id": "641cd557",
   "metadata": {},
   "outputs": [
    {
     "name": "stdout",
     "output_type": "stream",
     "text": [
      "Accuracy of properties at +- 10% of actual prices is 0.25789860396767084\n"
     ]
    }
   ],
   "source": [
    "acc = accuracy_threshold(y_test_20, y_pred_20, 0.1)\n",
    "print('Accuracy of properties at +- 10% of actual prices is ' + str(acc))"
   ]
  },
  {
   "cell_type": "code",
   "execution_count": 87,
   "id": "ab81180d",
   "metadata": {},
   "outputs": [
    {
     "name": "stdout",
     "output_type": "stream",
     "text": [
      "Accuracy of properties at +- 20% of actual prices is 0.5023267205486163\n"
     ]
    }
   ],
   "source": [
    "acc1 = accuracy_threshold(y_test_20, y_pred_20, 0.20)\n",
    "print('Accuracy of properties at +- 20% of actual prices is ' + str(acc1))"
   ]
  },
  {
   "cell_type": "code",
   "execution_count": 88,
   "id": "a081be20",
   "metadata": {},
   "outputs": [
    {
     "name": "stdout",
     "output_type": "stream",
     "text": [
      "Median Absolute Error:\n",
      "\n",
      "0.21065891271270587\n"
     ]
    }
   ],
   "source": [
    "median_se = np.square(np.subtract(y_test_20, y_pred_20)).median() \n",
    " \n",
    "med = math.sqrt(median_se)\n",
    "print(\"Median Absolute Error:\\n\")\n",
    "print(med)"
   ]
  },
  {
   "cell_type": "code",
   "execution_count": 89,
   "id": "02c3cb6f",
   "metadata": {},
   "outputs": [
    {
     "name": "stdout",
     "output_type": "stream",
     "text": [
      "Root Mean Square Error:\n",
      "\n",
      "0.46093990659214634\n"
     ]
    }
   ],
   "source": [
    "mean = np.square(np.subtract(y_test_20, y_pred_20)).mean() \n",
    " \n",
    "mean = math.sqrt(mean)\n",
    "print(\"Root Mean Square Error:\\n\")\n",
    "print(mean)"
   ]
  },
  {
   "cell_type": "code",
   "execution_count": 90,
   "id": "dc3d5e41",
   "metadata": {},
   "outputs": [
    {
     "name": "stdout",
     "output_type": "stream",
     "text": [
      "MAPE for AdaBoost 2020 is: 0.024369110782987095\n"
     ]
    }
   ],
   "source": [
    "mape = mean_absolute_percentage_error(y_test_20, y_pred_20)\n",
    "print(\"MAPE for AdaBoost 2020 is: \" + str(mape))"
   ]
  },
  {
   "cell_type": "code",
   "execution_count": 91,
   "id": "99ce3cf8",
   "metadata": {},
   "outputs": [],
   "source": [
    "cnames=['Algorithm', 'Year', 'RMSE', 'MSE', 'MEDAE', 'Accuracy', 'MAPE']\n",
    "df6 = pd.DataFrame(columns = cnames)\n",
    "\n",
    "df6 = df6.append({'Algorithm': 'AdaBoost',\n",
    "            'Year': 2020,\n",
    "           'RMSE': mean,\n",
    "           'MSE': mse,\n",
    "           'MEDAE': med,\n",
    "           'Accuracy': acc,\n",
    "           'MAPE': mape       \n",
    "          }, ignore_index=True)"
   ]
  },
  {
   "cell_type": "markdown",
   "id": "5d5407fb",
   "metadata": {},
   "source": [
    "## Let's now try a selection of other algorithms on our data\n",
    "### LightGBM"
   ]
  },
  {
   "cell_type": "code",
   "execution_count": 92,
   "id": "8b71082c",
   "metadata": {},
   "outputs": [],
   "source": [
    "from sklearn.datasets import make_regression\n",
    "from lightgbm import LGBMRegressor"
   ]
  },
  {
   "cell_type": "markdown",
   "id": "e0e91f3e",
   "metadata": {},
   "source": [
    "### 2020 House Price Prediction Using LightGBM"
   ]
  },
  {
   "cell_type": "code",
   "execution_count": 93,
   "id": "74d6ecf3",
   "metadata": {},
   "outputs": [
    {
     "data": {
      "text/plain": [
       "LGBMRegressor()"
      ]
     },
     "execution_count": 93,
     "metadata": {},
     "output_type": "execute_result"
    }
   ],
   "source": [
    "model = LGBMRegressor()\n",
    "model.fit(x_train_20, y_train_20)"
   ]
  },
  {
   "cell_type": "code",
   "execution_count": 94,
   "id": "bef53552",
   "metadata": {},
   "outputs": [
    {
     "name": "stdout",
     "output_type": "stream",
     "text": [
      "MSE for LightGBM 2020 is: 0.10939941261085154\n"
     ]
    }
   ],
   "source": [
    "y_pred_20 = model.predict(x_test_20)\n",
    "# Calculation of Mean Squared Error (MSE)\n",
    "mse = mean_squared_error(y_test_20,y_pred_20)\n",
    "print('MSE for LightGBM 2020 is: ' + str(mse))"
   ]
  },
  {
   "cell_type": "code",
   "execution_count": 95,
   "id": "7df03eed",
   "metadata": {},
   "outputs": [
    {
     "name": "stdout",
     "output_type": "stream",
     "text": [
      "Accuracy of properties at +- 10% of actual prices is 0.3683566005388195\n"
     ]
    }
   ],
   "source": [
    "acc = accuracy_threshold(y_test_20, y_pred_20, 0.1)\n",
    "print('Accuracy of properties at +- 10% of actual prices is ' + str(acc))"
   ]
  },
  {
   "cell_type": "code",
   "execution_count": 96,
   "id": "931d8bdc",
   "metadata": {},
   "outputs": [
    {
     "name": "stdout",
     "output_type": "stream",
     "text": [
      "Accuracy of properties at +- 20% of actual prices is 0.6576047024246877\n"
     ]
    }
   ],
   "source": [
    "acc1 = accuracy_threshold(y_test_20, y_pred_20, 0.20)\n",
    "print('Accuracy of properties at +- 20% of actual prices is ' + str(acc1))"
   ]
  },
  {
   "cell_type": "code",
   "execution_count": 97,
   "id": "88f6e6bd",
   "metadata": {},
   "outputs": [
    {
     "name": "stdout",
     "output_type": "stream",
     "text": [
      "Median Absolute Error:\n",
      "\n",
      "0.14466064405308288\n"
     ]
    }
   ],
   "source": [
    "median_se = np.square(np.subtract(y_test_20,y_pred_20)).median() \n",
    " \n",
    "med = math.sqrt(median_se)\n",
    "print(\"Median Absolute Error:\\n\")\n",
    "print(med)"
   ]
  },
  {
   "cell_type": "code",
   "execution_count": 98,
   "id": "495a055a",
   "metadata": {},
   "outputs": [
    {
     "name": "stdout",
     "output_type": "stream",
     "text": [
      "Root Mean Square Error:\n",
      "\n",
      "0.3307558202221866\n"
     ]
    }
   ],
   "source": [
    "mean = np.square(np.subtract(y_test_20,y_pred_20)).mean() \n",
    " \n",
    "mean = math.sqrt(mean)\n",
    "print(\"Root Mean Square Error:\\n\")\n",
    "print(mean)"
   ]
  },
  {
   "cell_type": "code",
   "execution_count": 99,
   "id": "0d02cce4",
   "metadata": {},
   "outputs": [
    {
     "name": "stdout",
     "output_type": "stream",
     "text": [
      "MAPE for LightGBM 2020 is: 0.017018928481445282\n"
     ]
    }
   ],
   "source": [
    "mape = mean_absolute_percentage_error(y_test_20, y_pred_20)\n",
    "print(\"MAPE for LightGBM 2020 is: \" + str(mape))"
   ]
  },
  {
   "cell_type": "code",
   "execution_count": 100,
   "id": "02a28f79",
   "metadata": {},
   "outputs": [],
   "source": [
    "cnames=['Algorithm', 'Year', 'RMSE', 'MSE', 'MEDAE', 'Accuracy', 'MAPE']\n",
    "df5 = pd.DataFrame(columns=cnames)\n",
    "\n",
    "df5 = df5.append({'Algorithm': 'LightGBM',\n",
    "            'Year': 2020,\n",
    "           'RMSE': mean,\n",
    "           'MSE': mse,\n",
    "           'MEDAE': med,\n",
    "           'Accuracy': acc,\n",
    "           'MAPE': mape       \n",
    "          }, ignore_index=True)"
   ]
  },
  {
   "cell_type": "markdown",
   "id": "2e9fa1fa",
   "metadata": {},
   "source": [
    "### 2021"
   ]
  },
  {
   "cell_type": "code",
   "execution_count": 101,
   "id": "ddcc332a",
   "metadata": {},
   "outputs": [
    {
     "data": {
      "text/plain": [
       "LGBMRegressor()"
      ]
     },
     "execution_count": 101,
     "metadata": {},
     "output_type": "execute_result"
    }
   ],
   "source": [
    "model = LGBMRegressor()\n",
    "model.fit(x_train_21, y_train_21)"
   ]
  },
  {
   "cell_type": "code",
   "execution_count": 102,
   "id": "a24e4f44",
   "metadata": {},
   "outputs": [
    {
     "name": "stdout",
     "output_type": "stream",
     "text": [
      "MSE for LightGBM 2021 is: 0.11801269394411054\n"
     ]
    }
   ],
   "source": [
    "y_pred_21 = model.predict(x_test_21)\n",
    "# Calculation of Mean Squared Error (MSE)\n",
    "mse = mean_squared_error(y_test_21,y_pred_21)\n",
    "print('MSE for LightGBM 2021 is: ' + str(mse))"
   ]
  },
  {
   "cell_type": "code",
   "execution_count": 103,
   "id": "09de1db0",
   "metadata": {},
   "outputs": [
    {
     "name": "stdout",
     "output_type": "stream",
     "text": [
      "Accuracy of properties at +- 10% of actual prices is 0.3322123468652414\n"
     ]
    }
   ],
   "source": [
    "acc = accuracy_threshold(y_test_21, y_pred_21, 0.1)\n",
    "print('Accuracy of properties at +- 10% of actual prices is ' + str(acc))"
   ]
  },
  {
   "cell_type": "code",
   "execution_count": 104,
   "id": "22412899",
   "metadata": {},
   "outputs": [
    {
     "name": "stdout",
     "output_type": "stream",
     "text": [
      "Accuracy of properties at +- 20% of actual prices is 0.6175834734566419\n"
     ]
    }
   ],
   "source": [
    "acc1 = accuracy_threshold(y_test_21, y_pred_21, 0.20)\n",
    "print('Accuracy of properties at +- 20% of actual prices is ' + str(acc1))"
   ]
  },
  {
   "cell_type": "code",
   "execution_count": 105,
   "id": "1af063f3",
   "metadata": {},
   "outputs": [
    {
     "name": "stdout",
     "output_type": "stream",
     "text": [
      "Median Absolute Error:\n",
      "\n",
      "0.1588636190599697\n"
     ]
    }
   ],
   "source": [
    "median_se = np.square(np.subtract(y_test_21, y_pred_21)).median() \n",
    " \n",
    "med = math.sqrt(median_se)\n",
    "print(\"Median Absolute Error:\\n\")\n",
    "print(med)"
   ]
  },
  {
   "cell_type": "code",
   "execution_count": 106,
   "id": "f6b3dde0",
   "metadata": {},
   "outputs": [
    {
     "name": "stdout",
     "output_type": "stream",
     "text": [
      "Root Mean Square Error:\n",
      "\n",
      "0.3435297569994637\n"
     ]
    }
   ],
   "source": [
    "mean = np.square(np.subtract(y_test_21, y_pred_21)).mean() \n",
    " \n",
    "mean = math.sqrt(mean)\n",
    "print(\"Root Mean Square Error:\\n\")\n",
    "print(mean)"
   ]
  },
  {
   "cell_type": "code",
   "execution_count": 107,
   "id": "f6d92791",
   "metadata": {},
   "outputs": [
    {
     "name": "stdout",
     "output_type": "stream",
     "text": [
      "MAPE for LightGBM 2021 is: 0.018009992455777175\n"
     ]
    }
   ],
   "source": [
    "mape = mean_absolute_percentage_error(y_test_21, y_pred_21)\n",
    "print(\"MAPE for LightGBM 2021 is: \" + str(mape))"
   ]
  },
  {
   "cell_type": "code",
   "execution_count": 108,
   "id": "0a2ce444",
   "metadata": {},
   "outputs": [],
   "source": [
    "cnames=['Algorithm', 'Year', 'RMSE', 'MSE', 'MEDAE', 'Accuracy', 'MAPE']\n",
    "df4 = pd.DataFrame(columns=cnames)\n",
    "\n",
    "df4 = df4.append({'Algorithm': 'LightGBM',\n",
    "            'Year': 2021,\n",
    "           'RMSE': mean,\n",
    "           'MSE': mse,\n",
    "           'MEDAE': med,\n",
    "           'Accuracy': acc,\n",
    "           'MAPE': mape       \n",
    "          }, ignore_index=True)"
   ]
  },
  {
   "cell_type": "markdown",
   "id": "776bcb52",
   "metadata": {},
   "source": [
    "### CatBoost\n",
    "\n",
    "#### 2021 Prediction"
   ]
  },
  {
   "cell_type": "code",
   "execution_count": 109,
   "id": "82d9ac87",
   "metadata": {},
   "outputs": [],
   "source": [
    "from catboost import CatBoostRegressor"
   ]
  },
  {
   "cell_type": "code",
   "execution_count": 110,
   "id": "c0b33685",
   "metadata": {},
   "outputs": [
    {
     "name": "stdout",
     "output_type": "stream",
     "text": [
      "Learning rate set to 0.064859\n",
      "0:\tlearn: 0.5754741\ttotal: 148ms\tremaining: 2m 28s\n",
      "1:\tlearn: 0.5584849\ttotal: 154ms\tremaining: 1m 17s\n",
      "2:\tlearn: 0.5414375\ttotal: 160ms\tremaining: 53s\n",
      "3:\tlearn: 0.5262558\ttotal: 165ms\tremaining: 41s\n",
      "4:\tlearn: 0.5123485\ttotal: 171ms\tremaining: 34.1s\n",
      "5:\tlearn: 0.5003027\ttotal: 177ms\tremaining: 29.3s\n",
      "6:\tlearn: 0.4889071\ttotal: 182ms\tremaining: 25.9s\n",
      "7:\tlearn: 0.4779176\ttotal: 188ms\tremaining: 23.3s\n",
      "8:\tlearn: 0.4684484\ttotal: 194ms\tremaining: 21.3s\n",
      "9:\tlearn: 0.4585132\ttotal: 200ms\tremaining: 19.8s\n",
      "10:\tlearn: 0.4505986\ttotal: 205ms\tremaining: 18.4s\n",
      "11:\tlearn: 0.4435129\ttotal: 210ms\tremaining: 17.3s\n",
      "12:\tlearn: 0.4372175\ttotal: 216ms\tremaining: 16.4s\n",
      "13:\tlearn: 0.4311812\ttotal: 222ms\tremaining: 15.7s\n",
      "14:\tlearn: 0.4252129\ttotal: 231ms\tremaining: 15.2s\n",
      "15:\tlearn: 0.4202049\ttotal: 237ms\tremaining: 14.6s\n",
      "16:\tlearn: 0.4144116\ttotal: 242ms\tremaining: 14s\n",
      "17:\tlearn: 0.4104214\ttotal: 248ms\tremaining: 13.5s\n",
      "18:\tlearn: 0.4065653\ttotal: 253ms\tremaining: 13s\n",
      "19:\tlearn: 0.4030814\ttotal: 258ms\tremaining: 12.6s\n",
      "20:\tlearn: 0.3993992\ttotal: 263ms\tremaining: 12.2s\n",
      "21:\tlearn: 0.3963772\ttotal: 268ms\tremaining: 11.9s\n",
      "22:\tlearn: 0.3925674\ttotal: 273ms\tremaining: 11.6s\n",
      "23:\tlearn: 0.3903206\ttotal: 277ms\tremaining: 11.3s\n",
      "24:\tlearn: 0.3871280\ttotal: 282ms\tremaining: 11s\n",
      "25:\tlearn: 0.3851048\ttotal: 287ms\tremaining: 10.8s\n",
      "26:\tlearn: 0.3825467\ttotal: 293ms\tremaining: 10.5s\n",
      "27:\tlearn: 0.3806360\ttotal: 298ms\tremaining: 10.3s\n",
      "28:\tlearn: 0.3780084\ttotal: 303ms\tremaining: 10.2s\n",
      "29:\tlearn: 0.3757681\ttotal: 310ms\tremaining: 10s\n",
      "30:\tlearn: 0.3730828\ttotal: 316ms\tremaining: 9.89s\n",
      "31:\tlearn: 0.3717964\ttotal: 325ms\tremaining: 9.83s\n",
      "32:\tlearn: 0.3690774\ttotal: 331ms\tremaining: 9.7s\n",
      "33:\tlearn: 0.3669058\ttotal: 337ms\tremaining: 9.57s\n",
      "34:\tlearn: 0.3649547\ttotal: 345ms\tremaining: 9.51s\n",
      "35:\tlearn: 0.3639484\ttotal: 353ms\tremaining: 9.46s\n",
      "36:\tlearn: 0.3630922\ttotal: 360ms\tremaining: 9.37s\n",
      "37:\tlearn: 0.3619947\ttotal: 366ms\tremaining: 9.26s\n",
      "38:\tlearn: 0.3611388\ttotal: 372ms\tremaining: 9.16s\n",
      "39:\tlearn: 0.3597374\ttotal: 377ms\tremaining: 9.06s\n",
      "40:\tlearn: 0.3583875\ttotal: 387ms\tremaining: 9.05s\n",
      "41:\tlearn: 0.3577152\ttotal: 397ms\tremaining: 9.06s\n",
      "42:\tlearn: 0.3565974\ttotal: 403ms\tremaining: 8.97s\n",
      "43:\tlearn: 0.3560537\ttotal: 409ms\tremaining: 8.88s\n",
      "44:\tlearn: 0.3555124\ttotal: 418ms\tremaining: 8.88s\n",
      "45:\tlearn: 0.3542976\ttotal: 424ms\tremaining: 8.79s\n",
      "46:\tlearn: 0.3538408\ttotal: 432ms\tremaining: 8.75s\n",
      "47:\tlearn: 0.3529157\ttotal: 437ms\tremaining: 8.67s\n",
      "48:\tlearn: 0.3525318\ttotal: 446ms\tremaining: 8.65s\n",
      "49:\tlearn: 0.3515495\ttotal: 453ms\tremaining: 8.62s\n",
      "50:\tlearn: 0.3508655\ttotal: 461ms\tremaining: 8.58s\n",
      "51:\tlearn: 0.3501129\ttotal: 468ms\tremaining: 8.53s\n",
      "52:\tlearn: 0.3492399\ttotal: 477ms\tremaining: 8.52s\n",
      "53:\tlearn: 0.3485384\ttotal: 482ms\tremaining: 8.44s\n",
      "54:\tlearn: 0.3481687\ttotal: 490ms\tremaining: 8.42s\n",
      "55:\tlearn: 0.3468390\ttotal: 496ms\tremaining: 8.36s\n",
      "56:\tlearn: 0.3461064\ttotal: 501ms\tremaining: 8.29s\n",
      "57:\tlearn: 0.3457401\ttotal: 509ms\tremaining: 8.27s\n",
      "58:\tlearn: 0.3454825\ttotal: 516ms\tremaining: 8.22s\n",
      "59:\tlearn: 0.3450677\ttotal: 522ms\tremaining: 8.18s\n",
      "60:\tlearn: 0.3446009\ttotal: 528ms\tremaining: 8.13s\n",
      "61:\tlearn: 0.3440533\ttotal: 533ms\tremaining: 8.06s\n",
      "62:\tlearn: 0.3436920\ttotal: 539ms\tremaining: 8.01s\n",
      "63:\tlearn: 0.3429020\ttotal: 544ms\tremaining: 7.96s\n",
      "64:\tlearn: 0.3421539\ttotal: 550ms\tremaining: 7.91s\n",
      "65:\tlearn: 0.3417199\ttotal: 560ms\tremaining: 7.92s\n",
      "66:\tlearn: 0.3413776\ttotal: 566ms\tremaining: 7.88s\n",
      "67:\tlearn: 0.3411111\ttotal: 572ms\tremaining: 7.83s\n",
      "68:\tlearn: 0.3408813\ttotal: 578ms\tremaining: 7.79s\n",
      "69:\tlearn: 0.3402647\ttotal: 584ms\tremaining: 7.76s\n",
      "70:\tlearn: 0.3394840\ttotal: 590ms\tremaining: 7.72s\n",
      "71:\tlearn: 0.3388649\ttotal: 597ms\tremaining: 7.69s\n",
      "72:\tlearn: 0.3382221\ttotal: 603ms\tremaining: 7.66s\n",
      "73:\tlearn: 0.3377686\ttotal: 610ms\tremaining: 7.64s\n",
      "74:\tlearn: 0.3368204\ttotal: 620ms\tremaining: 7.64s\n",
      "75:\tlearn: 0.3366720\ttotal: 625ms\tremaining: 7.6s\n",
      "76:\tlearn: 0.3365072\ttotal: 632ms\tremaining: 7.57s\n",
      "77:\tlearn: 0.3358478\ttotal: 637ms\tremaining: 7.53s\n",
      "78:\tlearn: 0.3355673\ttotal: 643ms\tremaining: 7.49s\n",
      "79:\tlearn: 0.3352580\ttotal: 648ms\tremaining: 7.46s\n",
      "80:\tlearn: 0.3351339\ttotal: 664ms\tremaining: 7.54s\n",
      "81:\tlearn: 0.3341645\ttotal: 671ms\tremaining: 7.51s\n",
      "82:\tlearn: 0.3337525\ttotal: 679ms\tremaining: 7.5s\n",
      "83:\tlearn: 0.3335665\ttotal: 686ms\tremaining: 7.48s\n",
      "84:\tlearn: 0.3329872\ttotal: 694ms\tremaining: 7.47s\n",
      "85:\tlearn: 0.3325005\ttotal: 700ms\tremaining: 7.44s\n",
      "86:\tlearn: 0.3323342\ttotal: 705ms\tremaining: 7.4s\n",
      "87:\tlearn: 0.3322109\ttotal: 713ms\tremaining: 7.39s\n",
      "88:\tlearn: 0.3317342\ttotal: 719ms\tremaining: 7.36s\n",
      "89:\tlearn: 0.3312369\ttotal: 727ms\tremaining: 7.35s\n",
      "90:\tlearn: 0.3305807\ttotal: 733ms\tremaining: 7.33s\n",
      "91:\tlearn: 0.3301937\ttotal: 741ms\tremaining: 7.31s\n",
      "92:\tlearn: 0.3300020\ttotal: 746ms\tremaining: 7.28s\n",
      "93:\tlearn: 0.3292877\ttotal: 752ms\tremaining: 7.25s\n",
      "94:\tlearn: 0.3288816\ttotal: 763ms\tremaining: 7.27s\n",
      "95:\tlearn: 0.3286218\ttotal: 773ms\tremaining: 7.28s\n",
      "96:\tlearn: 0.3284506\ttotal: 779ms\tremaining: 7.25s\n",
      "97:\tlearn: 0.3278220\ttotal: 784ms\tremaining: 7.22s\n",
      "98:\tlearn: 0.3275764\ttotal: 793ms\tremaining: 7.22s\n",
      "99:\tlearn: 0.3271918\ttotal: 799ms\tremaining: 7.19s\n",
      "100:\tlearn: 0.3269660\ttotal: 808ms\tremaining: 7.19s\n",
      "101:\tlearn: 0.3264683\ttotal: 813ms\tremaining: 7.16s\n",
      "102:\tlearn: 0.3262438\ttotal: 820ms\tremaining: 7.14s\n",
      "103:\tlearn: 0.3257965\ttotal: 826ms\tremaining: 7.12s\n",
      "104:\tlearn: 0.3253733\ttotal: 831ms\tremaining: 7.09s\n",
      "105:\tlearn: 0.3251064\ttotal: 842ms\tremaining: 7.1s\n",
      "106:\tlearn: 0.3249320\ttotal: 851ms\tremaining: 7.1s\n",
      "107:\tlearn: 0.3246992\ttotal: 860ms\tremaining: 7.11s\n",
      "108:\tlearn: 0.3242540\ttotal: 872ms\tremaining: 7.13s\n",
      "109:\tlearn: 0.3237451\ttotal: 880ms\tremaining: 7.12s\n",
      "110:\tlearn: 0.3235308\ttotal: 889ms\tremaining: 7.12s\n",
      "111:\tlearn: 0.3232364\ttotal: 897ms\tremaining: 7.11s\n",
      "112:\tlearn: 0.3230765\ttotal: 911ms\tremaining: 7.15s\n",
      "113:\tlearn: 0.3228105\ttotal: 919ms\tremaining: 7.14s\n",
      "114:\tlearn: 0.3222773\ttotal: 928ms\tremaining: 7.14s\n",
      "115:\tlearn: 0.3219376\ttotal: 938ms\tremaining: 7.15s\n",
      "116:\tlearn: 0.3216883\ttotal: 947ms\tremaining: 7.14s\n",
      "117:\tlearn: 0.3213941\ttotal: 953ms\tremaining: 7.12s\n",
      "118:\tlearn: 0.3212229\ttotal: 961ms\tremaining: 7.11s\n",
      "119:\tlearn: 0.3210009\ttotal: 967ms\tremaining: 7.09s\n",
      "120:\tlearn: 0.3208915\ttotal: 975ms\tremaining: 7.08s\n",
      "121:\tlearn: 0.3207841\ttotal: 981ms\tremaining: 7.06s\n",
      "122:\tlearn: 0.3203559\ttotal: 988ms\tremaining: 7.04s\n",
      "123:\tlearn: 0.3197615\ttotal: 995ms\tremaining: 7.03s\n",
      "124:\tlearn: 0.3193094\ttotal: 1s\tremaining: 7.01s\n",
      "125:\tlearn: 0.3190076\ttotal: 1.01s\tremaining: 6.99s\n",
      "126:\tlearn: 0.3187361\ttotal: 1.02s\tremaining: 7.05s\n",
      "127:\tlearn: 0.3182145\ttotal: 1.05s\tremaining: 7.14s\n",
      "128:\tlearn: 0.3179801\ttotal: 1.07s\tremaining: 7.2s\n",
      "129:\tlearn: 0.3175838\ttotal: 1.08s\tremaining: 7.23s\n",
      "130:\tlearn: 0.3172066\ttotal: 1.09s\tremaining: 7.25s\n",
      "131:\tlearn: 0.3171455\ttotal: 1.1s\tremaining: 7.25s\n",
      "132:\tlearn: 0.3170833\ttotal: 1.11s\tremaining: 7.23s\n",
      "133:\tlearn: 0.3167974\ttotal: 1.12s\tremaining: 7.24s\n",
      "134:\tlearn: 0.3165545\ttotal: 1.13s\tremaining: 7.24s\n",
      "135:\tlearn: 0.3163380\ttotal: 1.16s\tremaining: 7.35s\n",
      "136:\tlearn: 0.3161524\ttotal: 1.17s\tremaining: 7.37s\n",
      "137:\tlearn: 0.3159915\ttotal: 1.19s\tremaining: 7.43s\n",
      "138:\tlearn: 0.3158740\ttotal: 1.2s\tremaining: 7.45s\n",
      "139:\tlearn: 0.3154695\ttotal: 1.23s\tremaining: 7.58s\n",
      "140:\tlearn: 0.3152153\ttotal: 1.25s\tremaining: 7.6s\n",
      "141:\tlearn: 0.3151243\ttotal: 1.27s\tremaining: 7.67s\n",
      "142:\tlearn: 0.3148671\ttotal: 1.28s\tremaining: 7.69s\n",
      "143:\tlearn: 0.3147279\ttotal: 1.3s\tremaining: 7.72s\n",
      "144:\tlearn: 0.3140917\ttotal: 1.31s\tremaining: 7.76s\n",
      "145:\tlearn: 0.3139001\ttotal: 1.33s\tremaining: 7.77s\n",
      "146:\tlearn: 0.3136755\ttotal: 1.34s\tremaining: 7.77s\n",
      "147:\tlearn: 0.3133383\ttotal: 1.36s\tremaining: 7.81s\n",
      "148:\tlearn: 0.3131926\ttotal: 1.37s\tremaining: 7.83s\n",
      "149:\tlearn: 0.3130308\ttotal: 1.38s\tremaining: 7.85s\n",
      "150:\tlearn: 0.3128318\ttotal: 1.4s\tremaining: 7.85s\n",
      "151:\tlearn: 0.3125374\ttotal: 1.41s\tremaining: 7.87s\n",
      "152:\tlearn: 0.3123559\ttotal: 1.42s\tremaining: 7.87s\n",
      "153:\tlearn: 0.3120697\ttotal: 1.43s\tremaining: 7.88s\n",
      "154:\tlearn: 0.3118596\ttotal: 1.45s\tremaining: 7.91s\n",
      "155:\tlearn: 0.3116385\ttotal: 1.46s\tremaining: 7.92s\n",
      "156:\tlearn: 0.3114228\ttotal: 1.48s\tremaining: 7.94s\n",
      "157:\tlearn: 0.3112734\ttotal: 1.51s\tremaining: 8.05s\n",
      "158:\tlearn: 0.3111852\ttotal: 1.52s\tremaining: 8.06s\n",
      "159:\tlearn: 0.3108893\ttotal: 1.54s\tremaining: 8.09s\n",
      "160:\tlearn: 0.3107942\ttotal: 1.55s\tremaining: 8.09s\n",
      "161:\tlearn: 0.3104168\ttotal: 1.56s\tremaining: 8.08s\n",
      "162:\tlearn: 0.3100571\ttotal: 1.58s\tremaining: 8.1s\n",
      "163:\tlearn: 0.3097426\ttotal: 1.59s\tremaining: 8.11s\n",
      "164:\tlearn: 0.3096498\ttotal: 1.6s\tremaining: 8.1s\n",
      "165:\tlearn: 0.3094903\ttotal: 1.61s\tremaining: 8.1s\n"
     ]
    },
    {
     "name": "stdout",
     "output_type": "stream",
     "text": [
      "166:\tlearn: 0.3093630\ttotal: 1.63s\tremaining: 8.12s\n",
      "167:\tlearn: 0.3092331\ttotal: 1.65s\tremaining: 8.19s\n",
      "168:\tlearn: 0.3089181\ttotal: 1.67s\tremaining: 8.19s\n",
      "169:\tlearn: 0.3086656\ttotal: 1.68s\tremaining: 8.19s\n",
      "170:\tlearn: 0.3084973\ttotal: 1.69s\tremaining: 8.2s\n",
      "171:\tlearn: 0.3083659\ttotal: 1.7s\tremaining: 8.2s\n",
      "172:\tlearn: 0.3082688\ttotal: 1.71s\tremaining: 8.2s\n",
      "173:\tlearn: 0.3080092\ttotal: 1.72s\tremaining: 8.18s\n",
      "174:\tlearn: 0.3078883\ttotal: 1.73s\tremaining: 8.16s\n",
      "175:\tlearn: 0.3074312\ttotal: 1.74s\tremaining: 8.15s\n",
      "176:\tlearn: 0.3072738\ttotal: 1.75s\tremaining: 8.15s\n",
      "177:\tlearn: 0.3070322\ttotal: 1.76s\tremaining: 8.15s\n",
      "178:\tlearn: 0.3067569\ttotal: 1.77s\tremaining: 8.13s\n",
      "179:\tlearn: 0.3065341\ttotal: 1.78s\tremaining: 8.11s\n",
      "180:\tlearn: 0.3064343\ttotal: 1.79s\tremaining: 8.09s\n",
      "181:\tlearn: 0.3060899\ttotal: 1.79s\tremaining: 8.06s\n",
      "182:\tlearn: 0.3058541\ttotal: 1.81s\tremaining: 8.07s\n",
      "183:\tlearn: 0.3057541\ttotal: 1.82s\tremaining: 8.09s\n",
      "184:\tlearn: 0.3054957\ttotal: 1.84s\tremaining: 8.09s\n",
      "185:\tlearn: 0.3054120\ttotal: 1.85s\tremaining: 8.09s\n",
      "186:\tlearn: 0.3052444\ttotal: 1.87s\tremaining: 8.11s\n",
      "187:\tlearn: 0.3050480\ttotal: 1.88s\tremaining: 8.12s\n",
      "188:\tlearn: 0.3049091\ttotal: 1.9s\tremaining: 8.14s\n",
      "189:\tlearn: 0.3048406\ttotal: 1.91s\tremaining: 8.14s\n",
      "190:\tlearn: 0.3047590\ttotal: 1.92s\tremaining: 8.14s\n",
      "191:\tlearn: 0.3046064\ttotal: 1.94s\tremaining: 8.15s\n",
      "192:\tlearn: 0.3043765\ttotal: 1.95s\tremaining: 8.15s\n",
      "193:\tlearn: 0.3041947\ttotal: 1.96s\tremaining: 8.16s\n",
      "194:\tlearn: 0.3041230\ttotal: 1.98s\tremaining: 8.18s\n",
      "195:\tlearn: 0.3039408\ttotal: 2s\tremaining: 8.21s\n",
      "196:\tlearn: 0.3038621\ttotal: 2.01s\tremaining: 8.2s\n",
      "197:\tlearn: 0.3038090\ttotal: 2.03s\tremaining: 8.21s\n",
      "198:\tlearn: 0.3035254\ttotal: 2.03s\tremaining: 8.19s\n",
      "199:\tlearn: 0.3033152\ttotal: 2.04s\tremaining: 8.17s\n",
      "200:\tlearn: 0.3031224\ttotal: 2.05s\tremaining: 8.15s\n",
      "201:\tlearn: 0.3029579\ttotal: 2.06s\tremaining: 8.13s\n",
      "202:\tlearn: 0.3026711\ttotal: 2.06s\tremaining: 8.1s\n",
      "203:\tlearn: 0.3025477\ttotal: 2.07s\tremaining: 8.08s\n",
      "204:\tlearn: 0.3022315\ttotal: 2.08s\tremaining: 8.05s\n",
      "205:\tlearn: 0.3021048\ttotal: 2.08s\tremaining: 8.03s\n",
      "206:\tlearn: 0.3019382\ttotal: 2.09s\tremaining: 8s\n",
      "207:\tlearn: 0.3018272\ttotal: 2.1s\tremaining: 7.98s\n",
      "208:\tlearn: 0.3016543\ttotal: 2.1s\tremaining: 7.95s\n",
      "209:\tlearn: 0.3013747\ttotal: 2.11s\tremaining: 7.93s\n",
      "210:\tlearn: 0.3013233\ttotal: 2.11s\tremaining: 7.9s\n",
      "211:\tlearn: 0.3011353\ttotal: 2.12s\tremaining: 7.88s\n",
      "212:\tlearn: 0.3009967\ttotal: 2.12s\tremaining: 7.85s\n",
      "213:\tlearn: 0.3006340\ttotal: 2.13s\tremaining: 7.82s\n",
      "214:\tlearn: 0.3005297\ttotal: 2.14s\tremaining: 7.8s\n",
      "215:\tlearn: 0.3002512\ttotal: 2.14s\tremaining: 7.77s\n",
      "216:\tlearn: 0.2999652\ttotal: 2.15s\tremaining: 7.75s\n",
      "217:\tlearn: 0.2997497\ttotal: 2.15s\tremaining: 7.72s\n",
      "218:\tlearn: 0.2996274\ttotal: 2.16s\tremaining: 7.7s\n",
      "219:\tlearn: 0.2995275\ttotal: 2.17s\tremaining: 7.68s\n",
      "220:\tlearn: 0.2992959\ttotal: 2.17s\tremaining: 7.65s\n",
      "221:\tlearn: 0.2992330\ttotal: 2.18s\tremaining: 7.63s\n",
      "222:\tlearn: 0.2990754\ttotal: 2.18s\tremaining: 7.61s\n",
      "223:\tlearn: 0.2988838\ttotal: 2.19s\tremaining: 7.59s\n",
      "224:\tlearn: 0.2987824\ttotal: 2.2s\tremaining: 7.57s\n",
      "225:\tlearn: 0.2984594\ttotal: 2.21s\tremaining: 7.57s\n",
      "226:\tlearn: 0.2982445\ttotal: 2.22s\tremaining: 7.55s\n",
      "227:\tlearn: 0.2980187\ttotal: 2.23s\tremaining: 7.55s\n",
      "228:\tlearn: 0.2979567\ttotal: 2.23s\tremaining: 7.53s\n",
      "229:\tlearn: 0.2977180\ttotal: 2.25s\tremaining: 7.53s\n",
      "230:\tlearn: 0.2976656\ttotal: 2.26s\tremaining: 7.52s\n",
      "231:\tlearn: 0.2974676\ttotal: 2.27s\tremaining: 7.51s\n",
      "232:\tlearn: 0.2971424\ttotal: 2.29s\tremaining: 7.53s\n",
      "233:\tlearn: 0.2968927\ttotal: 2.3s\tremaining: 7.53s\n",
      "234:\tlearn: 0.2963585\ttotal: 2.31s\tremaining: 7.53s\n",
      "235:\tlearn: 0.2961769\ttotal: 2.33s\tremaining: 7.54s\n",
      "236:\tlearn: 0.2959664\ttotal: 2.34s\tremaining: 7.55s\n",
      "237:\tlearn: 0.2958983\ttotal: 2.36s\tremaining: 7.55s\n",
      "238:\tlearn: 0.2957917\ttotal: 2.37s\tremaining: 7.55s\n",
      "239:\tlearn: 0.2957086\ttotal: 2.38s\tremaining: 7.55s\n",
      "240:\tlearn: 0.2956657\ttotal: 2.39s\tremaining: 7.53s\n",
      "241:\tlearn: 0.2955471\ttotal: 2.4s\tremaining: 7.51s\n",
      "242:\tlearn: 0.2953831\ttotal: 2.4s\tremaining: 7.49s\n",
      "243:\tlearn: 0.2953436\ttotal: 2.41s\tremaining: 7.47s\n",
      "244:\tlearn: 0.2951669\ttotal: 2.42s\tremaining: 7.46s\n",
      "245:\tlearn: 0.2949024\ttotal: 2.43s\tremaining: 7.44s\n",
      "246:\tlearn: 0.2948527\ttotal: 2.43s\tremaining: 7.42s\n",
      "247:\tlearn: 0.2946018\ttotal: 2.44s\tremaining: 7.4s\n",
      "248:\tlearn: 0.2945655\ttotal: 2.44s\tremaining: 7.37s\n",
      "249:\tlearn: 0.2943343\ttotal: 2.45s\tremaining: 7.35s\n",
      "250:\tlearn: 0.2941413\ttotal: 2.46s\tremaining: 7.33s\n",
      "251:\tlearn: 0.2940626\ttotal: 2.46s\tremaining: 7.31s\n",
      "252:\tlearn: 0.2939120\ttotal: 2.47s\tremaining: 7.29s\n",
      "253:\tlearn: 0.2938174\ttotal: 2.47s\tremaining: 7.26s\n",
      "254:\tlearn: 0.2936292\ttotal: 2.48s\tremaining: 7.24s\n",
      "255:\tlearn: 0.2935440\ttotal: 2.48s\tremaining: 7.22s\n",
      "256:\tlearn: 0.2933657\ttotal: 2.49s\tremaining: 7.2s\n",
      "257:\tlearn: 0.2931581\ttotal: 2.5s\tremaining: 7.18s\n",
      "258:\tlearn: 0.2931234\ttotal: 2.5s\tremaining: 7.16s\n",
      "259:\tlearn: 0.2930365\ttotal: 2.51s\tremaining: 7.14s\n",
      "260:\tlearn: 0.2928609\ttotal: 2.51s\tremaining: 7.12s\n",
      "261:\tlearn: 0.2927739\ttotal: 2.52s\tremaining: 7.1s\n",
      "262:\tlearn: 0.2925667\ttotal: 2.52s\tremaining: 7.08s\n",
      "263:\tlearn: 0.2924090\ttotal: 2.53s\tremaining: 7.05s\n",
      "264:\tlearn: 0.2922352\ttotal: 2.54s\tremaining: 7.03s\n",
      "265:\tlearn: 0.2921232\ttotal: 2.54s\tremaining: 7.01s\n",
      "266:\tlearn: 0.2918525\ttotal: 2.54s\tremaining: 6.99s\n",
      "267:\tlearn: 0.2917275\ttotal: 2.55s\tremaining: 6.96s\n",
      "268:\tlearn: 0.2915163\ttotal: 2.55s\tremaining: 6.94s\n",
      "269:\tlearn: 0.2912825\ttotal: 2.56s\tremaining: 6.92s\n",
      "270:\tlearn: 0.2912147\ttotal: 2.57s\tremaining: 6.91s\n",
      "271:\tlearn: 0.2910247\ttotal: 2.57s\tremaining: 6.89s\n",
      "272:\tlearn: 0.2909784\ttotal: 2.58s\tremaining: 6.87s\n",
      "273:\tlearn: 0.2909351\ttotal: 2.58s\tremaining: 6.85s\n",
      "274:\tlearn: 0.2907481\ttotal: 2.59s\tremaining: 6.83s\n",
      "275:\tlearn: 0.2906360\ttotal: 2.6s\tremaining: 6.82s\n",
      "276:\tlearn: 0.2904157\ttotal: 2.6s\tremaining: 6.8s\n",
      "277:\tlearn: 0.2903390\ttotal: 2.61s\tremaining: 6.79s\n",
      "278:\tlearn: 0.2901190\ttotal: 2.62s\tremaining: 6.77s\n",
      "279:\tlearn: 0.2898631\ttotal: 2.63s\tremaining: 6.76s\n",
      "280:\tlearn: 0.2896902\ttotal: 2.63s\tremaining: 6.74s\n",
      "281:\tlearn: 0.2893533\ttotal: 2.64s\tremaining: 6.72s\n",
      "282:\tlearn: 0.2892856\ttotal: 2.65s\tremaining: 6.71s\n",
      "283:\tlearn: 0.2892121\ttotal: 2.65s\tremaining: 6.69s\n",
      "284:\tlearn: 0.2889935\ttotal: 2.66s\tremaining: 6.67s\n",
      "285:\tlearn: 0.2889075\ttotal: 2.67s\tremaining: 6.66s\n",
      "286:\tlearn: 0.2886850\ttotal: 2.67s\tremaining: 6.64s\n",
      "287:\tlearn: 0.2885541\ttotal: 2.68s\tremaining: 6.63s\n",
      "288:\tlearn: 0.2885202\ttotal: 2.69s\tremaining: 6.62s\n",
      "289:\tlearn: 0.2882107\ttotal: 2.69s\tremaining: 6.6s\n",
      "290:\tlearn: 0.2880436\ttotal: 2.7s\tremaining: 6.58s\n",
      "291:\tlearn: 0.2879048\ttotal: 2.71s\tremaining: 6.57s\n",
      "292:\tlearn: 0.2877748\ttotal: 2.72s\tremaining: 6.56s\n",
      "293:\tlearn: 0.2876194\ttotal: 2.72s\tremaining: 6.54s\n",
      "294:\tlearn: 0.2873973\ttotal: 2.73s\tremaining: 6.52s\n",
      "295:\tlearn: 0.2871815\ttotal: 2.74s\tremaining: 6.51s\n",
      "296:\tlearn: 0.2870719\ttotal: 2.74s\tremaining: 6.49s\n",
      "297:\tlearn: 0.2869081\ttotal: 2.75s\tremaining: 6.48s\n",
      "298:\tlearn: 0.2868593\ttotal: 2.75s\tremaining: 6.46s\n",
      "299:\tlearn: 0.2867072\ttotal: 2.76s\tremaining: 6.45s\n",
      "300:\tlearn: 0.2864885\ttotal: 2.77s\tremaining: 6.43s\n",
      "301:\tlearn: 0.2863799\ttotal: 2.78s\tremaining: 6.42s\n",
      "302:\tlearn: 0.2863346\ttotal: 2.78s\tremaining: 6.4s\n",
      "303:\tlearn: 0.2861662\ttotal: 2.79s\tremaining: 6.38s\n",
      "304:\tlearn: 0.2860196\ttotal: 2.79s\tremaining: 6.37s\n",
      "305:\tlearn: 0.2858454\ttotal: 2.8s\tremaining: 6.35s\n",
      "306:\tlearn: 0.2857585\ttotal: 2.81s\tremaining: 6.34s\n",
      "307:\tlearn: 0.2856883\ttotal: 2.82s\tremaining: 6.33s\n",
      "308:\tlearn: 0.2855116\ttotal: 2.82s\tremaining: 6.32s\n",
      "309:\tlearn: 0.2853491\ttotal: 2.83s\tremaining: 6.3s\n",
      "310:\tlearn: 0.2853035\ttotal: 2.84s\tremaining: 6.29s\n",
      "311:\tlearn: 0.2850260\ttotal: 2.85s\tremaining: 6.28s\n",
      "312:\tlearn: 0.2848505\ttotal: 2.85s\tremaining: 6.26s\n",
      "313:\tlearn: 0.2847071\ttotal: 2.85s\tremaining: 6.24s\n",
      "314:\tlearn: 0.2844015\ttotal: 2.86s\tremaining: 6.22s\n",
      "315:\tlearn: 0.2843024\ttotal: 2.87s\tremaining: 6.2s\n",
      "316:\tlearn: 0.2841669\ttotal: 2.87s\tremaining: 6.19s\n",
      "317:\tlearn: 0.2840991\ttotal: 2.88s\tremaining: 6.17s\n",
      "318:\tlearn: 0.2839673\ttotal: 2.88s\tremaining: 6.15s\n",
      "319:\tlearn: 0.2839256\ttotal: 2.88s\tremaining: 6.13s\n",
      "320:\tlearn: 0.2838826\ttotal: 2.89s\tremaining: 6.11s\n",
      "321:\tlearn: 0.2837325\ttotal: 2.9s\tremaining: 6.1s\n",
      "322:\tlearn: 0.2835146\ttotal: 2.9s\tremaining: 6.08s\n",
      "323:\tlearn: 0.2833959\ttotal: 2.92s\tremaining: 6.08s\n",
      "324:\tlearn: 0.2832034\ttotal: 2.93s\tremaining: 6.08s\n",
      "325:\tlearn: 0.2831041\ttotal: 2.95s\tremaining: 6.09s\n",
      "326:\tlearn: 0.2829944\ttotal: 2.96s\tremaining: 6.1s\n",
      "327:\tlearn: 0.2828781\ttotal: 2.98s\tremaining: 6.1s\n",
      "328:\tlearn: 0.2828116\ttotal: 2.99s\tremaining: 6.1s\n",
      "329:\tlearn: 0.2826338\ttotal: 3s\tremaining: 6.1s\n",
      "330:\tlearn: 0.2824414\ttotal: 3.02s\tremaining: 6.11s\n",
      "331:\tlearn: 0.2822456\ttotal: 3.03s\tremaining: 6.11s\n",
      "332:\tlearn: 0.2819803\ttotal: 3.05s\tremaining: 6.11s\n",
      "333:\tlearn: 0.2818653\ttotal: 3.07s\tremaining: 6.11s\n",
      "334:\tlearn: 0.2818325\ttotal: 3.09s\tremaining: 6.13s\n",
      "335:\tlearn: 0.2817248\ttotal: 3.1s\tremaining: 6.13s\n"
     ]
    },
    {
     "name": "stdout",
     "output_type": "stream",
     "text": [
      "336:\tlearn: 0.2814793\ttotal: 3.12s\tremaining: 6.13s\n",
      "337:\tlearn: 0.2812289\ttotal: 3.13s\tremaining: 6.13s\n",
      "338:\tlearn: 0.2811665\ttotal: 3.14s\tremaining: 6.13s\n",
      "339:\tlearn: 0.2809062\ttotal: 3.15s\tremaining: 6.12s\n",
      "340:\tlearn: 0.2807875\ttotal: 3.17s\tremaining: 6.12s\n",
      "341:\tlearn: 0.2806778\ttotal: 3.18s\tremaining: 6.11s\n",
      "342:\tlearn: 0.2805904\ttotal: 3.19s\tremaining: 6.11s\n",
      "343:\tlearn: 0.2803178\ttotal: 3.2s\tremaining: 6.11s\n",
      "344:\tlearn: 0.2802155\ttotal: 3.21s\tremaining: 6.1s\n",
      "345:\tlearn: 0.2801576\ttotal: 3.22s\tremaining: 6.09s\n",
      "346:\tlearn: 0.2799543\ttotal: 3.24s\tremaining: 6.09s\n",
      "347:\tlearn: 0.2797538\ttotal: 3.25s\tremaining: 6.08s\n",
      "348:\tlearn: 0.2796232\ttotal: 3.26s\tremaining: 6.08s\n",
      "349:\tlearn: 0.2795269\ttotal: 3.27s\tremaining: 6.07s\n",
      "350:\tlearn: 0.2793800\ttotal: 3.28s\tremaining: 6.07s\n",
      "351:\tlearn: 0.2792981\ttotal: 3.29s\tremaining: 6.06s\n",
      "352:\tlearn: 0.2791006\ttotal: 3.31s\tremaining: 6.06s\n",
      "353:\tlearn: 0.2790516\ttotal: 3.32s\tremaining: 6.07s\n",
      "354:\tlearn: 0.2787168\ttotal: 3.34s\tremaining: 6.07s\n",
      "355:\tlearn: 0.2785910\ttotal: 3.36s\tremaining: 6.07s\n",
      "356:\tlearn: 0.2785502\ttotal: 3.37s\tremaining: 6.07s\n",
      "357:\tlearn: 0.2783545\ttotal: 3.39s\tremaining: 6.08s\n",
      "358:\tlearn: 0.2781960\ttotal: 3.4s\tremaining: 6.08s\n",
      "359:\tlearn: 0.2781292\ttotal: 3.42s\tremaining: 6.07s\n",
      "360:\tlearn: 0.2780422\ttotal: 3.43s\tremaining: 6.07s\n",
      "361:\tlearn: 0.2779804\ttotal: 3.44s\tremaining: 6.07s\n",
      "362:\tlearn: 0.2779395\ttotal: 3.46s\tremaining: 6.06s\n",
      "363:\tlearn: 0.2778175\ttotal: 3.48s\tremaining: 6.08s\n",
      "364:\tlearn: 0.2777325\ttotal: 3.49s\tremaining: 6.08s\n",
      "365:\tlearn: 0.2776066\ttotal: 3.5s\tremaining: 6.07s\n",
      "366:\tlearn: 0.2775197\ttotal: 3.52s\tremaining: 6.07s\n",
      "367:\tlearn: 0.2774808\ttotal: 3.53s\tremaining: 6.07s\n",
      "368:\tlearn: 0.2774429\ttotal: 3.54s\tremaining: 6.06s\n",
      "369:\tlearn: 0.2773394\ttotal: 3.55s\tremaining: 6.05s\n",
      "370:\tlearn: 0.2772722\ttotal: 3.56s\tremaining: 6.04s\n",
      "371:\tlearn: 0.2770211\ttotal: 3.57s\tremaining: 6.03s\n",
      "372:\tlearn: 0.2768980\ttotal: 3.58s\tremaining: 6.01s\n",
      "373:\tlearn: 0.2768163\ttotal: 3.58s\tremaining: 5.99s\n",
      "374:\tlearn: 0.2767205\ttotal: 3.59s\tremaining: 5.98s\n",
      "375:\tlearn: 0.2764663\ttotal: 3.59s\tremaining: 5.96s\n",
      "376:\tlearn: 0.2764020\ttotal: 3.6s\tremaining: 5.96s\n",
      "377:\tlearn: 0.2763399\ttotal: 3.61s\tremaining: 5.94s\n",
      "378:\tlearn: 0.2762561\ttotal: 3.61s\tremaining: 5.92s\n",
      "379:\tlearn: 0.2761828\ttotal: 3.62s\tremaining: 5.91s\n",
      "380:\tlearn: 0.2758926\ttotal: 3.62s\tremaining: 5.89s\n",
      "381:\tlearn: 0.2758262\ttotal: 3.63s\tremaining: 5.87s\n",
      "382:\tlearn: 0.2757680\ttotal: 3.63s\tremaining: 5.85s\n",
      "383:\tlearn: 0.2756590\ttotal: 3.64s\tremaining: 5.84s\n",
      "384:\tlearn: 0.2754324\ttotal: 3.64s\tremaining: 5.82s\n",
      "385:\tlearn: 0.2753852\ttotal: 3.65s\tremaining: 5.8s\n",
      "386:\tlearn: 0.2753050\ttotal: 3.65s\tremaining: 5.79s\n",
      "387:\tlearn: 0.2752584\ttotal: 3.66s\tremaining: 5.77s\n",
      "388:\tlearn: 0.2750793\ttotal: 3.66s\tremaining: 5.75s\n",
      "389:\tlearn: 0.2749394\ttotal: 3.67s\tremaining: 5.74s\n",
      "390:\tlearn: 0.2748988\ttotal: 3.67s\tremaining: 5.72s\n",
      "391:\tlearn: 0.2748351\ttotal: 3.68s\tremaining: 5.71s\n",
      "392:\tlearn: 0.2746237\ttotal: 3.69s\tremaining: 5.69s\n",
      "393:\tlearn: 0.2744497\ttotal: 3.69s\tremaining: 5.68s\n",
      "394:\tlearn: 0.2743442\ttotal: 3.7s\tremaining: 5.67s\n",
      "395:\tlearn: 0.2742115\ttotal: 3.7s\tremaining: 5.65s\n",
      "396:\tlearn: 0.2740679\ttotal: 3.71s\tremaining: 5.63s\n",
      "397:\tlearn: 0.2740078\ttotal: 3.73s\tremaining: 5.63s\n",
      "398:\tlearn: 0.2738524\ttotal: 3.73s\tremaining: 5.62s\n",
      "399:\tlearn: 0.2737782\ttotal: 3.74s\tremaining: 5.61s\n",
      "400:\tlearn: 0.2736716\ttotal: 3.75s\tremaining: 5.59s\n",
      "401:\tlearn: 0.2736365\ttotal: 3.75s\tremaining: 5.58s\n",
      "402:\tlearn: 0.2734735\ttotal: 3.76s\tremaining: 5.57s\n",
      "403:\tlearn: 0.2733990\ttotal: 3.77s\tremaining: 5.56s\n",
      "404:\tlearn: 0.2733534\ttotal: 3.78s\tremaining: 5.55s\n",
      "405:\tlearn: 0.2730974\ttotal: 3.79s\tremaining: 5.54s\n",
      "406:\tlearn: 0.2729888\ttotal: 3.79s\tremaining: 5.53s\n",
      "407:\tlearn: 0.2729567\ttotal: 3.8s\tremaining: 5.51s\n",
      "408:\tlearn: 0.2728886\ttotal: 3.81s\tremaining: 5.5s\n",
      "409:\tlearn: 0.2728047\ttotal: 3.81s\tremaining: 5.48s\n",
      "410:\tlearn: 0.2726531\ttotal: 3.82s\tremaining: 5.47s\n",
      "411:\tlearn: 0.2726128\ttotal: 3.83s\tremaining: 5.46s\n",
      "412:\tlearn: 0.2725565\ttotal: 3.83s\tremaining: 5.44s\n",
      "413:\tlearn: 0.2723944\ttotal: 3.84s\tremaining: 5.43s\n",
      "414:\tlearn: 0.2722724\ttotal: 3.85s\tremaining: 5.42s\n",
      "415:\tlearn: 0.2721234\ttotal: 3.85s\tremaining: 5.41s\n",
      "416:\tlearn: 0.2720387\ttotal: 3.86s\tremaining: 5.4s\n",
      "417:\tlearn: 0.2719468\ttotal: 3.87s\tremaining: 5.39s\n",
      "418:\tlearn: 0.2718475\ttotal: 3.88s\tremaining: 5.38s\n",
      "419:\tlearn: 0.2717096\ttotal: 3.88s\tremaining: 5.37s\n",
      "420:\tlearn: 0.2715790\ttotal: 3.89s\tremaining: 5.35s\n",
      "421:\tlearn: 0.2714668\ttotal: 3.9s\tremaining: 5.34s\n",
      "422:\tlearn: 0.2713377\ttotal: 3.9s\tremaining: 5.32s\n",
      "423:\tlearn: 0.2711611\ttotal: 3.91s\tremaining: 5.31s\n",
      "424:\tlearn: 0.2710425\ttotal: 3.92s\tremaining: 5.3s\n",
      "425:\tlearn: 0.2709617\ttotal: 3.92s\tremaining: 5.29s\n",
      "426:\tlearn: 0.2708983\ttotal: 3.93s\tremaining: 5.28s\n",
      "427:\tlearn: 0.2708359\ttotal: 3.94s\tremaining: 5.26s\n",
      "428:\tlearn: 0.2706887\ttotal: 3.94s\tremaining: 5.25s\n",
      "429:\tlearn: 0.2706443\ttotal: 3.95s\tremaining: 5.23s\n",
      "430:\tlearn: 0.2705580\ttotal: 3.96s\tremaining: 5.23s\n",
      "431:\tlearn: 0.2704753\ttotal: 3.98s\tremaining: 5.23s\n",
      "432:\tlearn: 0.2703406\ttotal: 3.98s\tremaining: 5.22s\n",
      "433:\tlearn: 0.2702315\ttotal: 3.99s\tremaining: 5.2s\n",
      "434:\tlearn: 0.2701590\ttotal: 3.99s\tremaining: 5.19s\n",
      "435:\tlearn: 0.2700942\ttotal: 4s\tremaining: 5.17s\n",
      "436:\tlearn: 0.2700538\ttotal: 4s\tremaining: 5.16s\n",
      "437:\tlearn: 0.2699538\ttotal: 4.01s\tremaining: 5.14s\n",
      "438:\tlearn: 0.2698661\ttotal: 4.01s\tremaining: 5.13s\n",
      "439:\tlearn: 0.2698118\ttotal: 4.02s\tremaining: 5.11s\n",
      "440:\tlearn: 0.2697161\ttotal: 4.02s\tremaining: 5.1s\n",
      "441:\tlearn: 0.2695064\ttotal: 4.03s\tremaining: 5.09s\n",
      "442:\tlearn: 0.2693540\ttotal: 4.03s\tremaining: 5.07s\n",
      "443:\tlearn: 0.2692002\ttotal: 4.04s\tremaining: 5.06s\n",
      "444:\tlearn: 0.2690990\ttotal: 4.05s\tremaining: 5.05s\n",
      "445:\tlearn: 0.2690454\ttotal: 4.05s\tremaining: 5.03s\n",
      "446:\tlearn: 0.2689712\ttotal: 4.06s\tremaining: 5.02s\n",
      "447:\tlearn: 0.2689080\ttotal: 4.06s\tremaining: 5.01s\n",
      "448:\tlearn: 0.2688245\ttotal: 4.07s\tremaining: 5s\n",
      "449:\tlearn: 0.2687375\ttotal: 4.08s\tremaining: 4.98s\n",
      "450:\tlearn: 0.2686733\ttotal: 4.08s\tremaining: 4.97s\n",
      "451:\tlearn: 0.2686473\ttotal: 4.09s\tremaining: 4.95s\n",
      "452:\tlearn: 0.2685543\ttotal: 4.09s\tremaining: 4.94s\n",
      "453:\tlearn: 0.2684922\ttotal: 4.1s\tremaining: 4.93s\n",
      "454:\tlearn: 0.2684461\ttotal: 4.11s\tremaining: 4.92s\n",
      "455:\tlearn: 0.2682396\ttotal: 4.11s\tremaining: 4.91s\n",
      "456:\tlearn: 0.2681430\ttotal: 4.12s\tremaining: 4.9s\n",
      "457:\tlearn: 0.2680884\ttotal: 4.13s\tremaining: 4.88s\n",
      "458:\tlearn: 0.2680325\ttotal: 4.13s\tremaining: 4.87s\n",
      "459:\tlearn: 0.2679755\ttotal: 4.14s\tremaining: 4.86s\n",
      "460:\tlearn: 0.2678244\ttotal: 4.15s\tremaining: 4.85s\n",
      "461:\tlearn: 0.2677891\ttotal: 4.16s\tremaining: 4.84s\n",
      "462:\tlearn: 0.2676719\ttotal: 4.17s\tremaining: 4.83s\n",
      "463:\tlearn: 0.2675956\ttotal: 4.17s\tremaining: 4.82s\n",
      "464:\tlearn: 0.2675047\ttotal: 4.18s\tremaining: 4.81s\n",
      "465:\tlearn: 0.2673941\ttotal: 4.19s\tremaining: 4.8s\n",
      "466:\tlearn: 0.2672747\ttotal: 4.19s\tremaining: 4.79s\n",
      "467:\tlearn: 0.2672305\ttotal: 4.2s\tremaining: 4.77s\n",
      "468:\tlearn: 0.2671534\ttotal: 4.21s\tremaining: 4.76s\n",
      "469:\tlearn: 0.2670542\ttotal: 4.22s\tremaining: 4.75s\n",
      "470:\tlearn: 0.2669851\ttotal: 4.22s\tremaining: 4.74s\n",
      "471:\tlearn: 0.2667911\ttotal: 4.23s\tremaining: 4.73s\n",
      "472:\tlearn: 0.2666761\ttotal: 4.24s\tremaining: 4.72s\n",
      "473:\tlearn: 0.2666096\ttotal: 4.24s\tremaining: 4.71s\n",
      "474:\tlearn: 0.2665387\ttotal: 4.25s\tremaining: 4.7s\n",
      "475:\tlearn: 0.2664764\ttotal: 4.25s\tremaining: 4.68s\n",
      "476:\tlearn: 0.2663288\ttotal: 4.26s\tremaining: 4.67s\n",
      "477:\tlearn: 0.2662390\ttotal: 4.27s\tremaining: 4.66s\n",
      "478:\tlearn: 0.2662121\ttotal: 4.28s\tremaining: 4.65s\n",
      "479:\tlearn: 0.2661280\ttotal: 4.28s\tremaining: 4.64s\n",
      "480:\tlearn: 0.2660819\ttotal: 4.29s\tremaining: 4.63s\n",
      "481:\tlearn: 0.2659323\ttotal: 4.29s\tremaining: 4.61s\n",
      "482:\tlearn: 0.2658304\ttotal: 4.3s\tremaining: 4.6s\n",
      "483:\tlearn: 0.2657419\ttotal: 4.3s\tremaining: 4.59s\n",
      "484:\tlearn: 0.2656730\ttotal: 4.32s\tremaining: 4.59s\n",
      "485:\tlearn: 0.2656453\ttotal: 4.33s\tremaining: 4.58s\n",
      "486:\tlearn: 0.2655648\ttotal: 4.33s\tremaining: 4.56s\n",
      "487:\tlearn: 0.2654657\ttotal: 4.34s\tremaining: 4.55s\n",
      "488:\tlearn: 0.2653860\ttotal: 4.34s\tremaining: 4.54s\n",
      "489:\tlearn: 0.2651471\ttotal: 4.34s\tremaining: 4.52s\n",
      "490:\tlearn: 0.2650955\ttotal: 4.35s\tremaining: 4.51s\n",
      "491:\tlearn: 0.2649619\ttotal: 4.36s\tremaining: 4.5s\n",
      "492:\tlearn: 0.2648685\ttotal: 4.36s\tremaining: 4.48s\n",
      "493:\tlearn: 0.2647769\ttotal: 4.37s\tremaining: 4.47s\n",
      "494:\tlearn: 0.2646922\ttotal: 4.37s\tremaining: 4.46s\n",
      "495:\tlearn: 0.2646071\ttotal: 4.37s\tremaining: 4.45s\n",
      "496:\tlearn: 0.2645203\ttotal: 4.38s\tremaining: 4.43s\n"
     ]
    },
    {
     "name": "stdout",
     "output_type": "stream",
     "text": [
      "497:\tlearn: 0.2644226\ttotal: 4.39s\tremaining: 4.42s\n",
      "498:\tlearn: 0.2642783\ttotal: 4.39s\tremaining: 4.41s\n",
      "499:\tlearn: 0.2642157\ttotal: 4.4s\tremaining: 4.4s\n",
      "500:\tlearn: 0.2641290\ttotal: 4.4s\tremaining: 4.38s\n",
      "501:\tlearn: 0.2640858\ttotal: 4.41s\tremaining: 4.37s\n",
      "502:\tlearn: 0.2640482\ttotal: 4.41s\tremaining: 4.36s\n",
      "503:\tlearn: 0.2638959\ttotal: 4.42s\tremaining: 4.35s\n",
      "504:\tlearn: 0.2638190\ttotal: 4.43s\tremaining: 4.34s\n",
      "505:\tlearn: 0.2638018\ttotal: 4.43s\tremaining: 4.33s\n",
      "506:\tlearn: 0.2637562\ttotal: 4.44s\tremaining: 4.32s\n",
      "507:\tlearn: 0.2637241\ttotal: 4.44s\tremaining: 4.3s\n",
      "508:\tlearn: 0.2636872\ttotal: 4.46s\tremaining: 4.3s\n",
      "509:\tlearn: 0.2636567\ttotal: 4.46s\tremaining: 4.29s\n",
      "510:\tlearn: 0.2636432\ttotal: 4.47s\tremaining: 4.27s\n",
      "511:\tlearn: 0.2634943\ttotal: 4.47s\tremaining: 4.26s\n",
      "512:\tlearn: 0.2633279\ttotal: 4.48s\tremaining: 4.25s\n",
      "513:\tlearn: 0.2632288\ttotal: 4.48s\tremaining: 4.24s\n",
      "514:\tlearn: 0.2631720\ttotal: 4.49s\tremaining: 4.22s\n",
      "515:\tlearn: 0.2631261\ttotal: 4.49s\tremaining: 4.21s\n",
      "516:\tlearn: 0.2629856\ttotal: 4.5s\tremaining: 4.2s\n",
      "517:\tlearn: 0.2629201\ttotal: 4.51s\tremaining: 4.19s\n",
      "518:\tlearn: 0.2628648\ttotal: 4.51s\tremaining: 4.18s\n",
      "519:\tlearn: 0.2627577\ttotal: 4.52s\tremaining: 4.17s\n",
      "520:\tlearn: 0.2627050\ttotal: 4.53s\tremaining: 4.16s\n",
      "521:\tlearn: 0.2626500\ttotal: 4.53s\tremaining: 4.15s\n",
      "522:\tlearn: 0.2625034\ttotal: 4.54s\tremaining: 4.14s\n",
      "523:\tlearn: 0.2624328\ttotal: 4.55s\tremaining: 4.13s\n",
      "524:\tlearn: 0.2622801\ttotal: 4.55s\tremaining: 4.12s\n",
      "525:\tlearn: 0.2621926\ttotal: 4.56s\tremaining: 4.11s\n",
      "526:\tlearn: 0.2620984\ttotal: 4.57s\tremaining: 4.1s\n",
      "527:\tlearn: 0.2620299\ttotal: 4.58s\tremaining: 4.09s\n",
      "528:\tlearn: 0.2619997\ttotal: 4.58s\tremaining: 4.08s\n",
      "529:\tlearn: 0.2617669\ttotal: 4.59s\tremaining: 4.07s\n",
      "530:\tlearn: 0.2616771\ttotal: 4.59s\tremaining: 4.06s\n",
      "531:\tlearn: 0.2615076\ttotal: 4.6s\tremaining: 4.05s\n",
      "532:\tlearn: 0.2613682\ttotal: 4.61s\tremaining: 4.04s\n",
      "533:\tlearn: 0.2612351\ttotal: 4.62s\tremaining: 4.03s\n",
      "534:\tlearn: 0.2611203\ttotal: 4.63s\tremaining: 4.02s\n",
      "535:\tlearn: 0.2610582\ttotal: 4.63s\tremaining: 4.01s\n",
      "536:\tlearn: 0.2610067\ttotal: 4.64s\tremaining: 4s\n",
      "537:\tlearn: 0.2609092\ttotal: 4.64s\tremaining: 3.99s\n",
      "538:\tlearn: 0.2608419\ttotal: 4.65s\tremaining: 3.98s\n",
      "539:\tlearn: 0.2607919\ttotal: 4.66s\tremaining: 3.97s\n",
      "540:\tlearn: 0.2606857\ttotal: 4.66s\tremaining: 3.96s\n",
      "541:\tlearn: 0.2604949\ttotal: 4.67s\tremaining: 3.94s\n",
      "542:\tlearn: 0.2604374\ttotal: 4.67s\tremaining: 3.93s\n",
      "543:\tlearn: 0.2602519\ttotal: 4.68s\tremaining: 3.92s\n",
      "544:\tlearn: 0.2602001\ttotal: 4.68s\tremaining: 3.91s\n",
      "545:\tlearn: 0.2601070\ttotal: 4.69s\tremaining: 3.9s\n",
      "546:\tlearn: 0.2600146\ttotal: 4.7s\tremaining: 3.89s\n",
      "547:\tlearn: 0.2599625\ttotal: 4.7s\tremaining: 3.88s\n",
      "548:\tlearn: 0.2598305\ttotal: 4.71s\tremaining: 3.87s\n",
      "549:\tlearn: 0.2597555\ttotal: 4.71s\tremaining: 3.85s\n",
      "550:\tlearn: 0.2596950\ttotal: 4.72s\tremaining: 3.84s\n",
      "551:\tlearn: 0.2596028\ttotal: 4.72s\tremaining: 3.83s\n",
      "552:\tlearn: 0.2595563\ttotal: 4.72s\tremaining: 3.82s\n",
      "553:\tlearn: 0.2594084\ttotal: 4.73s\tremaining: 3.81s\n",
      "554:\tlearn: 0.2593406\ttotal: 4.74s\tremaining: 3.8s\n",
      "555:\tlearn: 0.2592200\ttotal: 4.74s\tremaining: 3.79s\n",
      "556:\tlearn: 0.2591951\ttotal: 4.75s\tremaining: 3.78s\n",
      "557:\tlearn: 0.2589930\ttotal: 4.76s\tremaining: 3.77s\n",
      "558:\tlearn: 0.2589546\ttotal: 4.77s\tremaining: 3.76s\n",
      "559:\tlearn: 0.2588427\ttotal: 4.77s\tremaining: 3.75s\n",
      "560:\tlearn: 0.2587786\ttotal: 4.78s\tremaining: 3.74s\n",
      "561:\tlearn: 0.2587230\ttotal: 4.78s\tremaining: 3.73s\n",
      "562:\tlearn: 0.2586067\ttotal: 4.79s\tremaining: 3.72s\n",
      "563:\tlearn: 0.2585746\ttotal: 4.8s\tremaining: 3.71s\n",
      "564:\tlearn: 0.2585251\ttotal: 4.8s\tremaining: 3.7s\n",
      "565:\tlearn: 0.2584602\ttotal: 4.81s\tremaining: 3.69s\n",
      "566:\tlearn: 0.2583120\ttotal: 4.81s\tremaining: 3.68s\n",
      "567:\tlearn: 0.2581945\ttotal: 4.82s\tremaining: 3.67s\n",
      "568:\tlearn: 0.2581254\ttotal: 4.83s\tremaining: 3.65s\n",
      "569:\tlearn: 0.2580704\ttotal: 4.83s\tremaining: 3.64s\n",
      "570:\tlearn: 0.2580268\ttotal: 4.83s\tremaining: 3.63s\n",
      "571:\tlearn: 0.2579614\ttotal: 4.85s\tremaining: 3.63s\n",
      "572:\tlearn: 0.2579166\ttotal: 4.86s\tremaining: 3.62s\n",
      "573:\tlearn: 0.2578877\ttotal: 4.86s\tremaining: 3.61s\n",
      "574:\tlearn: 0.2577674\ttotal: 4.88s\tremaining: 3.61s\n",
      "575:\tlearn: 0.2576765\ttotal: 4.89s\tremaining: 3.6s\n",
      "576:\tlearn: 0.2575986\ttotal: 4.89s\tremaining: 3.59s\n",
      "577:\tlearn: 0.2575670\ttotal: 4.9s\tremaining: 3.58s\n",
      "578:\tlearn: 0.2574425\ttotal: 4.9s\tremaining: 3.56s\n",
      "579:\tlearn: 0.2573205\ttotal: 4.91s\tremaining: 3.55s\n",
      "580:\tlearn: 0.2572535\ttotal: 4.91s\tremaining: 3.54s\n",
      "581:\tlearn: 0.2571650\ttotal: 4.92s\tremaining: 3.53s\n",
      "582:\tlearn: 0.2570539\ttotal: 4.92s\tremaining: 3.52s\n",
      "583:\tlearn: 0.2569800\ttotal: 4.93s\tremaining: 3.51s\n",
      "584:\tlearn: 0.2568670\ttotal: 4.93s\tremaining: 3.5s\n",
      "585:\tlearn: 0.2567867\ttotal: 4.94s\tremaining: 3.49s\n",
      "586:\tlearn: 0.2567287\ttotal: 4.95s\tremaining: 3.48s\n",
      "587:\tlearn: 0.2566365\ttotal: 4.95s\tremaining: 3.47s\n",
      "588:\tlearn: 0.2565353\ttotal: 4.96s\tremaining: 3.46s\n",
      "589:\tlearn: 0.2564721\ttotal: 4.96s\tremaining: 3.45s\n",
      "590:\tlearn: 0.2564400\ttotal: 4.97s\tremaining: 3.44s\n",
      "591:\tlearn: 0.2563451\ttotal: 4.97s\tremaining: 3.43s\n",
      "592:\tlearn: 0.2562781\ttotal: 4.98s\tremaining: 3.42s\n",
      "593:\tlearn: 0.2562266\ttotal: 4.98s\tremaining: 3.41s\n",
      "594:\tlearn: 0.2560578\ttotal: 4.99s\tremaining: 3.4s\n",
      "595:\tlearn: 0.2559710\ttotal: 4.99s\tremaining: 3.38s\n",
      "596:\tlearn: 0.2558854\ttotal: 5s\tremaining: 3.37s\n",
      "597:\tlearn: 0.2557171\ttotal: 5s\tremaining: 3.36s\n",
      "598:\tlearn: 0.2555877\ttotal: 5.01s\tremaining: 3.35s\n",
      "599:\tlearn: 0.2554970\ttotal: 5.01s\tremaining: 3.34s\n",
      "600:\tlearn: 0.2554038\ttotal: 5.02s\tremaining: 3.33s\n",
      "601:\tlearn: 0.2553162\ttotal: 5.03s\tremaining: 3.32s\n",
      "602:\tlearn: 0.2552749\ttotal: 5.03s\tremaining: 3.31s\n",
      "603:\tlearn: 0.2552103\ttotal: 5.04s\tremaining: 3.3s\n",
      "604:\tlearn: 0.2551282\ttotal: 5.04s\tremaining: 3.29s\n",
      "605:\tlearn: 0.2549674\ttotal: 5.05s\tremaining: 3.28s\n",
      "606:\tlearn: 0.2549196\ttotal: 5.05s\tremaining: 3.27s\n",
      "607:\tlearn: 0.2548183\ttotal: 5.06s\tremaining: 3.26s\n",
      "608:\tlearn: 0.2547810\ttotal: 5.07s\tremaining: 3.25s\n",
      "609:\tlearn: 0.2546773\ttotal: 5.07s\tremaining: 3.24s\n",
      "610:\tlearn: 0.2546157\ttotal: 5.08s\tremaining: 3.23s\n",
      "611:\tlearn: 0.2545865\ttotal: 5.09s\tremaining: 3.22s\n",
      "612:\tlearn: 0.2545003\ttotal: 5.09s\tremaining: 3.21s\n",
      "613:\tlearn: 0.2544511\ttotal: 5.1s\tremaining: 3.21s\n",
      "614:\tlearn: 0.2543836\ttotal: 5.11s\tremaining: 3.2s\n",
      "615:\tlearn: 0.2543364\ttotal: 5.12s\tremaining: 3.19s\n",
      "616:\tlearn: 0.2542039\ttotal: 5.13s\tremaining: 3.18s\n",
      "617:\tlearn: 0.2541513\ttotal: 5.13s\tremaining: 3.17s\n",
      "618:\tlearn: 0.2541099\ttotal: 5.14s\tremaining: 3.16s\n",
      "619:\tlearn: 0.2539529\ttotal: 5.15s\tremaining: 3.16s\n",
      "620:\tlearn: 0.2538755\ttotal: 5.16s\tremaining: 3.15s\n",
      "621:\tlearn: 0.2538232\ttotal: 5.17s\tremaining: 3.14s\n",
      "622:\tlearn: 0.2537718\ttotal: 5.17s\tremaining: 3.13s\n",
      "623:\tlearn: 0.2536784\ttotal: 5.18s\tremaining: 3.12s\n",
      "624:\tlearn: 0.2536140\ttotal: 5.19s\tremaining: 3.11s\n",
      "625:\tlearn: 0.2535162\ttotal: 5.2s\tremaining: 3.1s\n",
      "626:\tlearn: 0.2534468\ttotal: 5.2s\tremaining: 3.1s\n",
      "627:\tlearn: 0.2533193\ttotal: 5.21s\tremaining: 3.09s\n",
      "628:\tlearn: 0.2532803\ttotal: 5.22s\tremaining: 3.08s\n",
      "629:\tlearn: 0.2532033\ttotal: 5.22s\tremaining: 3.07s\n",
      "630:\tlearn: 0.2531379\ttotal: 5.23s\tremaining: 3.06s\n",
      "631:\tlearn: 0.2530296\ttotal: 5.24s\tremaining: 3.05s\n",
      "632:\tlearn: 0.2529415\ttotal: 5.25s\tremaining: 3.04s\n",
      "633:\tlearn: 0.2528824\ttotal: 5.26s\tremaining: 3.04s\n",
      "634:\tlearn: 0.2528107\ttotal: 5.27s\tremaining: 3.03s\n",
      "635:\tlearn: 0.2527838\ttotal: 5.28s\tremaining: 3.02s\n",
      "636:\tlearn: 0.2526829\ttotal: 5.29s\tremaining: 3.01s\n",
      "637:\tlearn: 0.2526405\ttotal: 5.29s\tremaining: 3s\n",
      "638:\tlearn: 0.2525553\ttotal: 5.3s\tremaining: 3s\n",
      "639:\tlearn: 0.2524291\ttotal: 5.31s\tremaining: 2.99s\n",
      "640:\tlearn: 0.2523795\ttotal: 5.32s\tremaining: 2.98s\n",
      "641:\tlearn: 0.2523373\ttotal: 5.32s\tremaining: 2.97s\n",
      "642:\tlearn: 0.2522145\ttotal: 5.33s\tremaining: 2.96s\n",
      "643:\tlearn: 0.2521256\ttotal: 5.34s\tremaining: 2.95s\n",
      "644:\tlearn: 0.2520271\ttotal: 5.35s\tremaining: 2.94s\n",
      "645:\tlearn: 0.2519409\ttotal: 5.35s\tremaining: 2.93s\n",
      "646:\tlearn: 0.2519081\ttotal: 5.36s\tremaining: 2.92s\n",
      "647:\tlearn: 0.2518338\ttotal: 5.37s\tremaining: 2.92s\n",
      "648:\tlearn: 0.2517820\ttotal: 5.37s\tremaining: 2.91s\n",
      "649:\tlearn: 0.2516605\ttotal: 5.38s\tremaining: 2.9s\n",
      "650:\tlearn: 0.2515912\ttotal: 5.38s\tremaining: 2.89s\n",
      "651:\tlearn: 0.2515063\ttotal: 5.39s\tremaining: 2.88s\n",
      "652:\tlearn: 0.2514649\ttotal: 5.4s\tremaining: 2.87s\n",
      "653:\tlearn: 0.2514121\ttotal: 5.4s\tremaining: 2.86s\n",
      "654:\tlearn: 0.2513241\ttotal: 5.41s\tremaining: 2.85s\n",
      "655:\tlearn: 0.2512283\ttotal: 5.42s\tremaining: 2.84s\n",
      "656:\tlearn: 0.2511888\ttotal: 5.42s\tremaining: 2.83s\n",
      "657:\tlearn: 0.2511417\ttotal: 5.43s\tremaining: 2.82s\n",
      "658:\tlearn: 0.2510877\ttotal: 5.44s\tremaining: 2.82s\n",
      "659:\tlearn: 0.2509961\ttotal: 5.45s\tremaining: 2.81s\n"
     ]
    },
    {
     "name": "stdout",
     "output_type": "stream",
     "text": [
      "660:\tlearn: 0.2509484\ttotal: 5.46s\tremaining: 2.8s\n",
      "661:\tlearn: 0.2509010\ttotal: 5.46s\tremaining: 2.79s\n",
      "662:\tlearn: 0.2508120\ttotal: 5.47s\tremaining: 2.78s\n",
      "663:\tlearn: 0.2507528\ttotal: 5.48s\tremaining: 2.77s\n",
      "664:\tlearn: 0.2506701\ttotal: 5.49s\tremaining: 2.76s\n",
      "665:\tlearn: 0.2505962\ttotal: 5.49s\tremaining: 2.75s\n",
      "666:\tlearn: 0.2505543\ttotal: 5.5s\tremaining: 2.75s\n",
      "667:\tlearn: 0.2504860\ttotal: 5.51s\tremaining: 2.74s\n",
      "668:\tlearn: 0.2503847\ttotal: 5.51s\tremaining: 2.73s\n",
      "669:\tlearn: 0.2503574\ttotal: 5.52s\tremaining: 2.72s\n",
      "670:\tlearn: 0.2503063\ttotal: 5.53s\tremaining: 2.71s\n",
      "671:\tlearn: 0.2502559\ttotal: 5.54s\tremaining: 2.7s\n",
      "672:\tlearn: 0.2502122\ttotal: 5.54s\tremaining: 2.69s\n",
      "673:\tlearn: 0.2501730\ttotal: 5.55s\tremaining: 2.68s\n",
      "674:\tlearn: 0.2501133\ttotal: 5.55s\tremaining: 2.67s\n",
      "675:\tlearn: 0.2500657\ttotal: 5.56s\tremaining: 2.67s\n",
      "676:\tlearn: 0.2500134\ttotal: 5.57s\tremaining: 2.65s\n",
      "677:\tlearn: 0.2499127\ttotal: 5.57s\tremaining: 2.65s\n",
      "678:\tlearn: 0.2498517\ttotal: 5.58s\tremaining: 2.64s\n",
      "679:\tlearn: 0.2497942\ttotal: 5.58s\tremaining: 2.63s\n",
      "680:\tlearn: 0.2497253\ttotal: 5.59s\tremaining: 2.62s\n",
      "681:\tlearn: 0.2496897\ttotal: 5.59s\tremaining: 2.61s\n",
      "682:\tlearn: 0.2496292\ttotal: 5.6s\tremaining: 2.6s\n",
      "683:\tlearn: 0.2495877\ttotal: 5.61s\tremaining: 2.59s\n",
      "684:\tlearn: 0.2494956\ttotal: 5.61s\tremaining: 2.58s\n",
      "685:\tlearn: 0.2494525\ttotal: 5.62s\tremaining: 2.57s\n",
      "686:\tlearn: 0.2494192\ttotal: 5.62s\tremaining: 2.56s\n",
      "687:\tlearn: 0.2493766\ttotal: 5.63s\tremaining: 2.55s\n",
      "688:\tlearn: 0.2493114\ttotal: 5.64s\tremaining: 2.54s\n",
      "689:\tlearn: 0.2492436\ttotal: 5.64s\tremaining: 2.53s\n",
      "690:\tlearn: 0.2491488\ttotal: 5.65s\tremaining: 2.52s\n",
      "691:\tlearn: 0.2490601\ttotal: 5.66s\tremaining: 2.52s\n",
      "692:\tlearn: 0.2489678\ttotal: 5.66s\tremaining: 2.51s\n",
      "693:\tlearn: 0.2489058\ttotal: 5.67s\tremaining: 2.5s\n",
      "694:\tlearn: 0.2488507\ttotal: 5.68s\tremaining: 2.49s\n",
      "695:\tlearn: 0.2487912\ttotal: 5.68s\tremaining: 2.48s\n",
      "696:\tlearn: 0.2487504\ttotal: 5.69s\tremaining: 2.47s\n",
      "697:\tlearn: 0.2487030\ttotal: 5.69s\tremaining: 2.46s\n",
      "698:\tlearn: 0.2486656\ttotal: 5.7s\tremaining: 2.45s\n",
      "699:\tlearn: 0.2485950\ttotal: 5.7s\tremaining: 2.44s\n",
      "700:\tlearn: 0.2485375\ttotal: 5.71s\tremaining: 2.44s\n",
      "701:\tlearn: 0.2485027\ttotal: 5.71s\tremaining: 2.43s\n",
      "702:\tlearn: 0.2484636\ttotal: 5.72s\tremaining: 2.42s\n",
      "703:\tlearn: 0.2484216\ttotal: 5.72s\tremaining: 2.41s\n",
      "704:\tlearn: 0.2483724\ttotal: 5.73s\tremaining: 2.4s\n",
      "705:\tlearn: 0.2482970\ttotal: 5.74s\tremaining: 2.39s\n",
      "706:\tlearn: 0.2482313\ttotal: 5.74s\tremaining: 2.38s\n",
      "707:\tlearn: 0.2480682\ttotal: 5.75s\tremaining: 2.37s\n",
      "708:\tlearn: 0.2480021\ttotal: 5.76s\tremaining: 2.36s\n",
      "709:\tlearn: 0.2479668\ttotal: 5.76s\tremaining: 2.35s\n",
      "710:\tlearn: 0.2479434\ttotal: 5.77s\tremaining: 2.34s\n",
      "711:\tlearn: 0.2479100\ttotal: 5.77s\tremaining: 2.33s\n",
      "712:\tlearn: 0.2478424\ttotal: 5.78s\tremaining: 2.33s\n",
      "713:\tlearn: 0.2477859\ttotal: 5.78s\tremaining: 2.32s\n",
      "714:\tlearn: 0.2477207\ttotal: 5.79s\tremaining: 2.31s\n",
      "715:\tlearn: 0.2476709\ttotal: 5.79s\tremaining: 2.3s\n",
      "716:\tlearn: 0.2476159\ttotal: 5.8s\tremaining: 2.29s\n",
      "717:\tlearn: 0.2475478\ttotal: 5.81s\tremaining: 2.28s\n",
      "718:\tlearn: 0.2474875\ttotal: 5.82s\tremaining: 2.27s\n",
      "719:\tlearn: 0.2474223\ttotal: 5.82s\tremaining: 2.26s\n",
      "720:\tlearn: 0.2473771\ttotal: 5.83s\tremaining: 2.25s\n",
      "721:\tlearn: 0.2473096\ttotal: 5.83s\tremaining: 2.25s\n",
      "722:\tlearn: 0.2472333\ttotal: 5.84s\tremaining: 2.24s\n",
      "723:\tlearn: 0.2471976\ttotal: 5.85s\tremaining: 2.23s\n",
      "724:\tlearn: 0.2471790\ttotal: 5.86s\tremaining: 2.22s\n",
      "725:\tlearn: 0.2471168\ttotal: 5.86s\tremaining: 2.21s\n",
      "726:\tlearn: 0.2470817\ttotal: 5.87s\tremaining: 2.2s\n",
      "727:\tlearn: 0.2469802\ttotal: 5.87s\tremaining: 2.19s\n",
      "728:\tlearn: 0.2469460\ttotal: 5.88s\tremaining: 2.19s\n",
      "729:\tlearn: 0.2468646\ttotal: 5.88s\tremaining: 2.18s\n",
      "730:\tlearn: 0.2468112\ttotal: 5.89s\tremaining: 2.17s\n",
      "731:\tlearn: 0.2467911\ttotal: 5.9s\tremaining: 2.16s\n",
      "732:\tlearn: 0.2467587\ttotal: 5.9s\tremaining: 2.15s\n",
      "733:\tlearn: 0.2467137\ttotal: 5.91s\tremaining: 2.14s\n",
      "734:\tlearn: 0.2466886\ttotal: 5.91s\tremaining: 2.13s\n",
      "735:\tlearn: 0.2466506\ttotal: 5.92s\tremaining: 2.12s\n",
      "736:\tlearn: 0.2465888\ttotal: 5.93s\tremaining: 2.12s\n",
      "737:\tlearn: 0.2465058\ttotal: 5.93s\tremaining: 2.11s\n",
      "738:\tlearn: 0.2464497\ttotal: 5.94s\tremaining: 2.1s\n",
      "739:\tlearn: 0.2463702\ttotal: 5.95s\tremaining: 2.09s\n",
      "740:\tlearn: 0.2463388\ttotal: 5.95s\tremaining: 2.08s\n",
      "741:\tlearn: 0.2462645\ttotal: 5.96s\tremaining: 2.07s\n",
      "742:\tlearn: 0.2462156\ttotal: 5.97s\tremaining: 2.06s\n",
      "743:\tlearn: 0.2461342\ttotal: 5.97s\tremaining: 2.06s\n",
      "744:\tlearn: 0.2460567\ttotal: 5.98s\tremaining: 2.05s\n",
      "745:\tlearn: 0.2459639\ttotal: 5.98s\tremaining: 2.04s\n",
      "746:\tlearn: 0.2458903\ttotal: 5.99s\tremaining: 2.03s\n",
      "747:\tlearn: 0.2458534\ttotal: 6s\tremaining: 2.02s\n",
      "748:\tlearn: 0.2457229\ttotal: 6s\tremaining: 2.01s\n",
      "749:\tlearn: 0.2457006\ttotal: 6.01s\tremaining: 2s\n",
      "750:\tlearn: 0.2456265\ttotal: 6.02s\tremaining: 1.99s\n",
      "751:\tlearn: 0.2455266\ttotal: 6.03s\tremaining: 1.99s\n",
      "752:\tlearn: 0.2454770\ttotal: 6.03s\tremaining: 1.98s\n",
      "753:\tlearn: 0.2454300\ttotal: 6.04s\tremaining: 1.97s\n",
      "754:\tlearn: 0.2453443\ttotal: 6.05s\tremaining: 1.96s\n",
      "755:\tlearn: 0.2452982\ttotal: 6.05s\tremaining: 1.95s\n",
      "756:\tlearn: 0.2451764\ttotal: 6.06s\tremaining: 1.95s\n",
      "757:\tlearn: 0.2451322\ttotal: 6.07s\tremaining: 1.94s\n",
      "758:\tlearn: 0.2450828\ttotal: 6.07s\tremaining: 1.93s\n",
      "759:\tlearn: 0.2449709\ttotal: 6.08s\tremaining: 1.92s\n",
      "760:\tlearn: 0.2449284\ttotal: 6.08s\tremaining: 1.91s\n",
      "761:\tlearn: 0.2448956\ttotal: 6.09s\tremaining: 1.9s\n",
      "762:\tlearn: 0.2448113\ttotal: 6.09s\tremaining: 1.89s\n",
      "763:\tlearn: 0.2447665\ttotal: 6.1s\tremaining: 1.88s\n",
      "764:\tlearn: 0.2447168\ttotal: 6.1s\tremaining: 1.87s\n",
      "765:\tlearn: 0.2446515\ttotal: 6.11s\tremaining: 1.86s\n",
      "766:\tlearn: 0.2445129\ttotal: 6.11s\tremaining: 1.86s\n",
      "767:\tlearn: 0.2444743\ttotal: 6.12s\tremaining: 1.85s\n",
      "768:\tlearn: 0.2443968\ttotal: 6.12s\tremaining: 1.84s\n",
      "769:\tlearn: 0.2443399\ttotal: 6.13s\tremaining: 1.83s\n",
      "770:\tlearn: 0.2442974\ttotal: 6.13s\tremaining: 1.82s\n",
      "771:\tlearn: 0.2442635\ttotal: 6.14s\tremaining: 1.81s\n",
      "772:\tlearn: 0.2442259\ttotal: 6.14s\tremaining: 1.8s\n",
      "773:\tlearn: 0.2442028\ttotal: 6.15s\tremaining: 1.79s\n",
      "774:\tlearn: 0.2441537\ttotal: 6.15s\tremaining: 1.78s\n",
      "775:\tlearn: 0.2441280\ttotal: 6.16s\tremaining: 1.78s\n",
      "776:\tlearn: 0.2440786\ttotal: 6.16s\tremaining: 1.77s\n",
      "777:\tlearn: 0.2439972\ttotal: 6.17s\tremaining: 1.76s\n",
      "778:\tlearn: 0.2439633\ttotal: 6.17s\tremaining: 1.75s\n",
      "779:\tlearn: 0.2439249\ttotal: 6.17s\tremaining: 1.74s\n",
      "780:\tlearn: 0.2438939\ttotal: 6.18s\tremaining: 1.73s\n",
      "781:\tlearn: 0.2438642\ttotal: 6.18s\tremaining: 1.72s\n",
      "782:\tlearn: 0.2438251\ttotal: 6.19s\tremaining: 1.72s\n",
      "783:\tlearn: 0.2437302\ttotal: 6.2s\tremaining: 1.71s\n",
      "784:\tlearn: 0.2436510\ttotal: 6.2s\tremaining: 1.7s\n",
      "785:\tlearn: 0.2436162\ttotal: 6.21s\tremaining: 1.69s\n",
      "786:\tlearn: 0.2435716\ttotal: 6.21s\tremaining: 1.68s\n",
      "787:\tlearn: 0.2434773\ttotal: 6.22s\tremaining: 1.67s\n",
      "788:\tlearn: 0.2434201\ttotal: 6.22s\tremaining: 1.66s\n",
      "789:\tlearn: 0.2433201\ttotal: 6.23s\tremaining: 1.66s\n",
      "790:\tlearn: 0.2432571\ttotal: 6.24s\tremaining: 1.65s\n",
      "791:\tlearn: 0.2432017\ttotal: 6.24s\tremaining: 1.64s\n",
      "792:\tlearn: 0.2431253\ttotal: 6.25s\tremaining: 1.63s\n",
      "793:\tlearn: 0.2430990\ttotal: 6.25s\tremaining: 1.62s\n",
      "794:\tlearn: 0.2430311\ttotal: 6.26s\tremaining: 1.61s\n",
      "795:\tlearn: 0.2429747\ttotal: 6.26s\tremaining: 1.6s\n",
      "796:\tlearn: 0.2429602\ttotal: 6.27s\tremaining: 1.6s\n",
      "797:\tlearn: 0.2429104\ttotal: 6.27s\tremaining: 1.59s\n",
      "798:\tlearn: 0.2428636\ttotal: 6.28s\tremaining: 1.58s\n",
      "799:\tlearn: 0.2428203\ttotal: 6.28s\tremaining: 1.57s\n",
      "800:\tlearn: 0.2427607\ttotal: 6.29s\tremaining: 1.56s\n",
      "801:\tlearn: 0.2427235\ttotal: 6.29s\tremaining: 1.55s\n",
      "802:\tlearn: 0.2426373\ttotal: 6.3s\tremaining: 1.54s\n",
      "803:\tlearn: 0.2426054\ttotal: 6.3s\tremaining: 1.53s\n",
      "804:\tlearn: 0.2425289\ttotal: 6.3s\tremaining: 1.53s\n",
      "805:\tlearn: 0.2424901\ttotal: 6.31s\tremaining: 1.52s\n",
      "806:\tlearn: 0.2424019\ttotal: 6.31s\tremaining: 1.51s\n",
      "807:\tlearn: 0.2423146\ttotal: 6.32s\tremaining: 1.5s\n",
      "808:\tlearn: 0.2422173\ttotal: 6.32s\tremaining: 1.49s\n",
      "809:\tlearn: 0.2421902\ttotal: 6.33s\tremaining: 1.48s\n",
      "810:\tlearn: 0.2421131\ttotal: 6.33s\tremaining: 1.48s\n",
      "811:\tlearn: 0.2420654\ttotal: 6.34s\tremaining: 1.47s\n",
      "812:\tlearn: 0.2420238\ttotal: 6.34s\tremaining: 1.46s\n",
      "813:\tlearn: 0.2419489\ttotal: 6.35s\tremaining: 1.45s\n",
      "814:\tlearn: 0.2418795\ttotal: 6.35s\tremaining: 1.44s\n",
      "815:\tlearn: 0.2418009\ttotal: 6.36s\tremaining: 1.43s\n",
      "816:\tlearn: 0.2417893\ttotal: 6.36s\tremaining: 1.43s\n",
      "817:\tlearn: 0.2417392\ttotal: 6.37s\tremaining: 1.42s\n",
      "818:\tlearn: 0.2416848\ttotal: 6.37s\tremaining: 1.41s\n"
     ]
    },
    {
     "name": "stdout",
     "output_type": "stream",
     "text": [
      "819:\tlearn: 0.2416403\ttotal: 6.38s\tremaining: 1.4s\n",
      "820:\tlearn: 0.2416072\ttotal: 6.38s\tremaining: 1.39s\n",
      "821:\tlearn: 0.2415801\ttotal: 6.39s\tremaining: 1.38s\n",
      "822:\tlearn: 0.2414984\ttotal: 6.39s\tremaining: 1.38s\n",
      "823:\tlearn: 0.2414519\ttotal: 6.4s\tremaining: 1.37s\n",
      "824:\tlearn: 0.2413997\ttotal: 6.41s\tremaining: 1.36s\n",
      "825:\tlearn: 0.2413377\ttotal: 6.41s\tremaining: 1.35s\n",
      "826:\tlearn: 0.2413054\ttotal: 6.42s\tremaining: 1.34s\n",
      "827:\tlearn: 0.2412703\ttotal: 6.42s\tremaining: 1.33s\n",
      "828:\tlearn: 0.2412204\ttotal: 6.43s\tremaining: 1.33s\n",
      "829:\tlearn: 0.2411195\ttotal: 6.43s\tremaining: 1.32s\n",
      "830:\tlearn: 0.2410913\ttotal: 6.44s\tremaining: 1.31s\n",
      "831:\tlearn: 0.2409945\ttotal: 6.44s\tremaining: 1.3s\n",
      "832:\tlearn: 0.2409723\ttotal: 6.45s\tremaining: 1.29s\n",
      "833:\tlearn: 0.2409309\ttotal: 6.46s\tremaining: 1.28s\n",
      "834:\tlearn: 0.2408813\ttotal: 6.46s\tremaining: 1.28s\n",
      "835:\tlearn: 0.2408114\ttotal: 6.46s\tremaining: 1.27s\n",
      "836:\tlearn: 0.2407745\ttotal: 6.47s\tremaining: 1.26s\n",
      "837:\tlearn: 0.2407501\ttotal: 6.47s\tremaining: 1.25s\n",
      "838:\tlearn: 0.2406956\ttotal: 6.48s\tremaining: 1.24s\n",
      "839:\tlearn: 0.2406657\ttotal: 6.48s\tremaining: 1.24s\n",
      "840:\tlearn: 0.2406367\ttotal: 6.49s\tremaining: 1.23s\n",
      "841:\tlearn: 0.2406058\ttotal: 6.49s\tremaining: 1.22s\n",
      "842:\tlearn: 0.2405398\ttotal: 6.5s\tremaining: 1.21s\n",
      "843:\tlearn: 0.2404684\ttotal: 6.52s\tremaining: 1.2s\n",
      "844:\tlearn: 0.2403658\ttotal: 6.52s\tremaining: 1.2s\n",
      "845:\tlearn: 0.2403163\ttotal: 6.53s\tremaining: 1.19s\n",
      "846:\tlearn: 0.2402554\ttotal: 6.53s\tremaining: 1.18s\n",
      "847:\tlearn: 0.2402336\ttotal: 6.54s\tremaining: 1.17s\n",
      "848:\tlearn: 0.2402000\ttotal: 6.54s\tremaining: 1.16s\n",
      "849:\tlearn: 0.2401512\ttotal: 6.55s\tremaining: 1.16s\n",
      "850:\tlearn: 0.2401254\ttotal: 6.55s\tremaining: 1.15s\n",
      "851:\tlearn: 0.2400357\ttotal: 6.56s\tremaining: 1.14s\n",
      "852:\tlearn: 0.2399637\ttotal: 6.58s\tremaining: 1.13s\n",
      "853:\tlearn: 0.2399134\ttotal: 6.58s\tremaining: 1.13s\n",
      "854:\tlearn: 0.2398792\ttotal: 6.59s\tremaining: 1.12s\n",
      "855:\tlearn: 0.2398232\ttotal: 6.59s\tremaining: 1.11s\n",
      "856:\tlearn: 0.2397943\ttotal: 6.61s\tremaining: 1.1s\n",
      "857:\tlearn: 0.2397318\ttotal: 6.61s\tremaining: 1.09s\n",
      "858:\tlearn: 0.2396217\ttotal: 6.62s\tremaining: 1.09s\n",
      "859:\tlearn: 0.2395981\ttotal: 6.62s\tremaining: 1.08s\n",
      "860:\tlearn: 0.2395763\ttotal: 6.63s\tremaining: 1.07s\n",
      "861:\tlearn: 0.2395164\ttotal: 6.63s\tremaining: 1.06s\n",
      "862:\tlearn: 0.2394478\ttotal: 6.64s\tremaining: 1.05s\n",
      "863:\tlearn: 0.2393902\ttotal: 6.64s\tremaining: 1.04s\n",
      "864:\tlearn: 0.2393535\ttotal: 6.65s\tremaining: 1.04s\n",
      "865:\tlearn: 0.2393177\ttotal: 6.65s\tremaining: 1.03s\n",
      "866:\tlearn: 0.2392704\ttotal: 6.66s\tremaining: 1.02s\n",
      "867:\tlearn: 0.2392247\ttotal: 6.66s\tremaining: 1.01s\n",
      "868:\tlearn: 0.2391522\ttotal: 6.67s\tremaining: 1s\n",
      "869:\tlearn: 0.2390734\ttotal: 6.67s\tremaining: 997ms\n",
      "870:\tlearn: 0.2390338\ttotal: 6.68s\tremaining: 989ms\n",
      "871:\tlearn: 0.2389969\ttotal: 6.68s\tremaining: 981ms\n",
      "872:\tlearn: 0.2389731\ttotal: 6.69s\tremaining: 973ms\n",
      "873:\tlearn: 0.2389382\ttotal: 6.69s\tremaining: 965ms\n",
      "874:\tlearn: 0.2388825\ttotal: 6.7s\tremaining: 957ms\n",
      "875:\tlearn: 0.2388568\ttotal: 6.7s\tremaining: 949ms\n",
      "876:\tlearn: 0.2387814\ttotal: 6.71s\tremaining: 941ms\n",
      "877:\tlearn: 0.2387218\ttotal: 6.71s\tremaining: 933ms\n",
      "878:\tlearn: 0.2386200\ttotal: 6.72s\tremaining: 925ms\n",
      "879:\tlearn: 0.2385609\ttotal: 6.72s\tremaining: 917ms\n",
      "880:\tlearn: 0.2384894\ttotal: 6.73s\tremaining: 909ms\n",
      "881:\tlearn: 0.2384658\ttotal: 6.73s\tremaining: 901ms\n",
      "882:\tlearn: 0.2384412\ttotal: 6.74s\tremaining: 893ms\n",
      "883:\tlearn: 0.2383490\ttotal: 6.74s\tremaining: 885ms\n",
      "884:\tlearn: 0.2382996\ttotal: 6.75s\tremaining: 877ms\n",
      "885:\tlearn: 0.2382664\ttotal: 6.76s\tremaining: 870ms\n",
      "886:\tlearn: 0.2382233\ttotal: 6.77s\tremaining: 862ms\n",
      "887:\tlearn: 0.2381860\ttotal: 6.77s\tremaining: 854ms\n",
      "888:\tlearn: 0.2381145\ttotal: 6.78s\tremaining: 846ms\n",
      "889:\tlearn: 0.2380875\ttotal: 6.78s\tremaining: 838ms\n",
      "890:\tlearn: 0.2380383\ttotal: 6.79s\tremaining: 831ms\n",
      "891:\tlearn: 0.2379790\ttotal: 6.8s\tremaining: 823ms\n",
      "892:\tlearn: 0.2379351\ttotal: 6.8s\tremaining: 815ms\n",
      "893:\tlearn: 0.2379040\ttotal: 6.81s\tremaining: 807ms\n",
      "894:\tlearn: 0.2378721\ttotal: 6.81s\tremaining: 799ms\n",
      "895:\tlearn: 0.2378452\ttotal: 6.82s\tremaining: 792ms\n",
      "896:\tlearn: 0.2378065\ttotal: 6.82s\tremaining: 784ms\n",
      "897:\tlearn: 0.2377758\ttotal: 6.83s\tremaining: 776ms\n",
      "898:\tlearn: 0.2377365\ttotal: 6.83s\tremaining: 768ms\n",
      "899:\tlearn: 0.2376420\ttotal: 6.84s\tremaining: 760ms\n",
      "900:\tlearn: 0.2375540\ttotal: 6.84s\tremaining: 752ms\n",
      "901:\tlearn: 0.2375285\ttotal: 6.85s\tremaining: 744ms\n",
      "902:\tlearn: 0.2374859\ttotal: 6.85s\tremaining: 736ms\n",
      "903:\tlearn: 0.2374040\ttotal: 6.86s\tremaining: 728ms\n",
      "904:\tlearn: 0.2373492\ttotal: 6.86s\tremaining: 721ms\n",
      "905:\tlearn: 0.2373330\ttotal: 6.87s\tremaining: 713ms\n",
      "906:\tlearn: 0.2372375\ttotal: 6.87s\tremaining: 705ms\n",
      "907:\tlearn: 0.2371443\ttotal: 6.88s\tremaining: 697ms\n",
      "908:\tlearn: 0.2370887\ttotal: 6.88s\tremaining: 689ms\n",
      "909:\tlearn: 0.2370628\ttotal: 6.89s\tremaining: 681ms\n",
      "910:\tlearn: 0.2370330\ttotal: 6.89s\tremaining: 674ms\n",
      "911:\tlearn: 0.2369998\ttotal: 6.9s\tremaining: 666ms\n",
      "912:\tlearn: 0.2369776\ttotal: 6.9s\tremaining: 658ms\n",
      "913:\tlearn: 0.2369534\ttotal: 6.91s\tremaining: 650ms\n",
      "914:\tlearn: 0.2369318\ttotal: 6.91s\tremaining: 642ms\n",
      "915:\tlearn: 0.2369060\ttotal: 6.92s\tremaining: 634ms\n",
      "916:\tlearn: 0.2368051\ttotal: 6.92s\tremaining: 627ms\n",
      "917:\tlearn: 0.2367287\ttotal: 6.93s\tremaining: 619ms\n",
      "918:\tlearn: 0.2367106\ttotal: 6.93s\tremaining: 611ms\n",
      "919:\tlearn: 0.2366622\ttotal: 6.94s\tremaining: 603ms\n",
      "920:\tlearn: 0.2365864\ttotal: 6.94s\tremaining: 596ms\n",
      "921:\tlearn: 0.2365560\ttotal: 6.95s\tremaining: 588ms\n",
      "922:\tlearn: 0.2364657\ttotal: 6.96s\tremaining: 580ms\n",
      "923:\tlearn: 0.2363982\ttotal: 6.96s\tremaining: 573ms\n",
      "924:\tlearn: 0.2363488\ttotal: 6.97s\tremaining: 565ms\n",
      "925:\tlearn: 0.2363167\ttotal: 6.97s\tremaining: 557ms\n",
      "926:\tlearn: 0.2362702\ttotal: 6.98s\tremaining: 550ms\n",
      "927:\tlearn: 0.2361843\ttotal: 6.99s\tremaining: 542ms\n",
      "928:\tlearn: 0.2360948\ttotal: 6.99s\tremaining: 534ms\n",
      "929:\tlearn: 0.2360620\ttotal: 7s\tremaining: 527ms\n",
      "930:\tlearn: 0.2360246\ttotal: 7s\tremaining: 519ms\n",
      "931:\tlearn: 0.2359952\ttotal: 7.01s\tremaining: 511ms\n",
      "932:\tlearn: 0.2359733\ttotal: 7.01s\tremaining: 504ms\n",
      "933:\tlearn: 0.2359516\ttotal: 7.02s\tremaining: 496ms\n",
      "934:\tlearn: 0.2359379\ttotal: 7.02s\tremaining: 488ms\n",
      "935:\tlearn: 0.2358984\ttotal: 7.03s\tremaining: 481ms\n",
      "936:\tlearn: 0.2358668\ttotal: 7.03s\tremaining: 473ms\n",
      "937:\tlearn: 0.2358289\ttotal: 7.04s\tremaining: 465ms\n",
      "938:\tlearn: 0.2357705\ttotal: 7.04s\tremaining: 458ms\n",
      "939:\tlearn: 0.2357209\ttotal: 7.05s\tremaining: 450ms\n",
      "940:\tlearn: 0.2356578\ttotal: 7.05s\tremaining: 442ms\n",
      "941:\tlearn: 0.2356295\ttotal: 7.06s\tremaining: 435ms\n",
      "942:\tlearn: 0.2355701\ttotal: 7.06s\tremaining: 427ms\n",
      "943:\tlearn: 0.2355505\ttotal: 7.07s\tremaining: 419ms\n",
      "944:\tlearn: 0.2355055\ttotal: 7.07s\tremaining: 412ms\n",
      "945:\tlearn: 0.2354485\ttotal: 7.08s\tremaining: 404ms\n",
      "946:\tlearn: 0.2353724\ttotal: 7.08s\tremaining: 396ms\n",
      "947:\tlearn: 0.2353404\ttotal: 7.09s\tremaining: 389ms\n",
      "948:\tlearn: 0.2353164\ttotal: 7.09s\tremaining: 381ms\n",
      "949:\tlearn: 0.2352582\ttotal: 7.1s\tremaining: 373ms\n",
      "950:\tlearn: 0.2351884\ttotal: 7.1s\tremaining: 366ms\n",
      "951:\tlearn: 0.2351697\ttotal: 7.11s\tremaining: 358ms\n",
      "952:\tlearn: 0.2351273\ttotal: 7.11s\tremaining: 351ms\n",
      "953:\tlearn: 0.2351047\ttotal: 7.12s\tremaining: 343ms\n",
      "954:\tlearn: 0.2350360\ttotal: 7.12s\tremaining: 336ms\n",
      "955:\tlearn: 0.2349816\ttotal: 7.13s\tremaining: 328ms\n",
      "956:\tlearn: 0.2349438\ttotal: 7.13s\tremaining: 320ms\n",
      "957:\tlearn: 0.2348988\ttotal: 7.14s\tremaining: 313ms\n",
      "958:\tlearn: 0.2348368\ttotal: 7.14s\tremaining: 305ms\n",
      "959:\tlearn: 0.2347817\ttotal: 7.15s\tremaining: 298ms\n",
      "960:\tlearn: 0.2347208\ttotal: 7.16s\tremaining: 290ms\n",
      "961:\tlearn: 0.2346909\ttotal: 7.16s\tremaining: 283ms\n",
      "962:\tlearn: 0.2346584\ttotal: 7.17s\tremaining: 275ms\n",
      "963:\tlearn: 0.2346002\ttotal: 7.17s\tremaining: 268ms\n",
      "964:\tlearn: 0.2345206\ttotal: 7.18s\tremaining: 260ms\n",
      "965:\tlearn: 0.2344956\ttotal: 7.18s\tremaining: 253ms\n",
      "966:\tlearn: 0.2344608\ttotal: 7.19s\tremaining: 245ms\n",
      "967:\tlearn: 0.2344311\ttotal: 7.19s\tremaining: 238ms\n",
      "968:\tlearn: 0.2344066\ttotal: 7.2s\tremaining: 230ms\n",
      "969:\tlearn: 0.2343538\ttotal: 7.2s\tremaining: 223ms\n",
      "970:\tlearn: 0.2342645\ttotal: 7.21s\tremaining: 215ms\n",
      "971:\tlearn: 0.2342292\ttotal: 7.21s\tremaining: 208ms\n",
      "972:\tlearn: 0.2341650\ttotal: 7.22s\tremaining: 200ms\n",
      "973:\tlearn: 0.2341083\ttotal: 7.22s\tremaining: 193ms\n",
      "974:\tlearn: 0.2340948\ttotal: 7.23s\tremaining: 185ms\n",
      "975:\tlearn: 0.2340176\ttotal: 7.23s\tremaining: 178ms\n",
      "976:\tlearn: 0.2339351\ttotal: 7.24s\tremaining: 170ms\n",
      "977:\tlearn: 0.2339097\ttotal: 7.24s\tremaining: 163ms\n",
      "978:\tlearn: 0.2338312\ttotal: 7.25s\tremaining: 155ms\n",
      "979:\tlearn: 0.2337950\ttotal: 7.25s\tremaining: 148ms\n",
      "980:\tlearn: 0.2337506\ttotal: 7.26s\tremaining: 141ms\n",
      "981:\tlearn: 0.2337000\ttotal: 7.26s\tremaining: 133ms\n",
      "982:\tlearn: 0.2336757\ttotal: 7.27s\tremaining: 126ms\n",
      "983:\tlearn: 0.2336549\ttotal: 7.27s\tremaining: 118ms\n",
      "984:\tlearn: 0.2336159\ttotal: 7.28s\tremaining: 111ms\n",
      "985:\tlearn: 0.2335876\ttotal: 7.28s\tremaining: 103ms\n",
      "986:\tlearn: 0.2335673\ttotal: 7.29s\tremaining: 96ms\n",
      "987:\tlearn: 0.2335399\ttotal: 7.29s\tremaining: 88.6ms\n",
      "988:\tlearn: 0.2334876\ttotal: 7.3s\tremaining: 81.2ms\n",
      "989:\tlearn: 0.2334621\ttotal: 7.3s\tremaining: 73.8ms\n",
      "990:\tlearn: 0.2333794\ttotal: 7.31s\tremaining: 66.4ms\n",
      "991:\tlearn: 0.2333482\ttotal: 7.31s\tremaining: 59ms\n"
     ]
    },
    {
     "name": "stdout",
     "output_type": "stream",
     "text": [
      "992:\tlearn: 0.2333238\ttotal: 7.32s\tremaining: 51.6ms\n",
      "993:\tlearn: 0.2332951\ttotal: 7.32s\tremaining: 44.2ms\n",
      "994:\tlearn: 0.2332430\ttotal: 7.33s\tremaining: 36.8ms\n",
      "995:\tlearn: 0.2332104\ttotal: 7.33s\tremaining: 29.5ms\n",
      "996:\tlearn: 0.2331781\ttotal: 7.34s\tremaining: 22.1ms\n",
      "997:\tlearn: 0.2331642\ttotal: 7.35s\tremaining: 14.7ms\n",
      "998:\tlearn: 0.2331259\ttotal: 7.35s\tremaining: 7.36ms\n",
      "999:\tlearn: 0.2330924\ttotal: 7.36s\tremaining: 0us\n"
     ]
    }
   ],
   "source": [
    "%%capture\n",
    "model = CatBoostRegressor()\n",
    "model.fit(x_train_21, y_train_21)"
   ]
  },
  {
   "cell_type": "code",
   "execution_count": 111,
   "id": "2541db2b",
   "metadata": {},
   "outputs": [
    {
     "name": "stdout",
     "output_type": "stream",
     "text": [
      "MSE for CatBoost 2021 is: 0.11119579774492655\n"
     ]
    }
   ],
   "source": [
    "y_pred_21 = model.predict(x_test_21)\n",
    "# Calculation of Mean Squared Error (MSE)\n",
    "mse = mean_squared_error(y_test_21, y_pred_21)\n",
    "print('MSE for CatBoost 2021 is: ' + str(mse))"
   ]
  },
  {
   "cell_type": "code",
   "execution_count": 112,
   "id": "745d9507",
   "metadata": {},
   "outputs": [
    {
     "name": "stdout",
     "output_type": "stream",
     "text": [
      "Accuracy of properties at +- 10% of actual prices is 0.34662503002642325\n"
     ]
    }
   ],
   "source": [
    "acc = accuracy_threshold(y_test_21, y_pred_21, 0.1)\n",
    "print('Accuracy of properties at +- 10% of actual prices is ' + str(acc))"
   ]
  },
  {
   "cell_type": "code",
   "execution_count": 113,
   "id": "99227aa2",
   "metadata": {},
   "outputs": [
    {
     "name": "stdout",
     "output_type": "stream",
     "text": [
      "Median Absolute Error:\n",
      "\n",
      "0.15573468028927806\n"
     ]
    }
   ],
   "source": [
    "median_se = np.square(np.subtract(y_test_21, y_pred_21)).median() \n",
    " \n",
    "med = math.sqrt(median_se)\n",
    "print(\"Median Absolute Error:\\n\")\n",
    "print(med)"
   ]
  },
  {
   "cell_type": "code",
   "execution_count": 114,
   "id": "f51d9a36",
   "metadata": {},
   "outputs": [
    {
     "name": "stdout",
     "output_type": "stream",
     "text": [
      "Root Mean Square Error:\n",
      "\n",
      "0.33346033908836364\n"
     ]
    }
   ],
   "source": [
    "mean = np.square(np.subtract(y_test_21, y_pred_21)).mean() \n",
    " \n",
    "mean = math.sqrt(mean)\n",
    "print(\"Root Mean Square Error:\\n\")\n",
    "print(mean)"
   ]
  },
  {
   "cell_type": "code",
   "execution_count": 115,
   "id": "6cf9500d",
   "metadata": {},
   "outputs": [
    {
     "name": "stdout",
     "output_type": "stream",
     "text": [
      "MAPE for CatBoost 2021 is: 0.017700422395745073\n"
     ]
    }
   ],
   "source": [
    "mape = mean_absolute_percentage_error(y_test_21, y_pred_21)\n",
    "print(\"MAPE for CatBoost 2021 is: \" + str(mape))"
   ]
  },
  {
   "cell_type": "code",
   "execution_count": 116,
   "id": "e9b65a1c",
   "metadata": {},
   "outputs": [],
   "source": [
    "cnames=['Algorithm', 'Year', 'RMSE', 'MSE', 'MEDAE', 'Accuracy', 'MAPE']\n",
    "df3 = pd.DataFrame(columns=cnames)\n",
    "\n",
    "df3 = df3.append({'Algorithm': 'CatBoost',\n",
    "            'Year': 2021,\n",
    "           'RMSE': mean,\n",
    "           'MSE': mse,\n",
    "           'MEDAE': med,\n",
    "           'Accuracy': acc,\n",
    "           'MAPE': mape       \n",
    "          }, ignore_index=True)"
   ]
  },
  {
   "cell_type": "markdown",
   "id": "f395f049",
   "metadata": {},
   "source": [
    "#### 2020"
   ]
  },
  {
   "cell_type": "code",
   "execution_count": 117,
   "id": "3efced64",
   "metadata": {},
   "outputs": [
    {
     "name": "stdout",
     "output_type": "stream",
     "text": [
      "Learning rate set to 0.065306\n",
      "0:\tlearn: 0.5720913\ttotal: 5.87ms\tremaining: 5.86s\n",
      "1:\tlearn: 0.5548045\ttotal: 12.9ms\tremaining: 6.46s\n",
      "2:\tlearn: 0.5376330\ttotal: 18.8ms\tremaining: 6.26s\n",
      "3:\tlearn: 0.5225290\ttotal: 28.1ms\tremaining: 7s\n",
      "4:\tlearn: 0.5089898\ttotal: 34.5ms\tremaining: 6.86s\n",
      "5:\tlearn: 0.4961205\ttotal: 41.3ms\tremaining: 6.83s\n",
      "6:\tlearn: 0.4846120\ttotal: 52.1ms\tremaining: 7.38s\n",
      "7:\tlearn: 0.4743342\ttotal: 64.2ms\tremaining: 7.96s\n",
      "8:\tlearn: 0.4646582\ttotal: 72.3ms\tremaining: 7.96s\n",
      "9:\tlearn: 0.4549726\ttotal: 80.5ms\tremaining: 7.96s\n",
      "10:\tlearn: 0.4470279\ttotal: 87.3ms\tremaining: 7.85s\n",
      "11:\tlearn: 0.4399426\ttotal: 94.5ms\tremaining: 7.78s\n",
      "12:\tlearn: 0.4337444\ttotal: 102ms\tremaining: 7.77s\n",
      "13:\tlearn: 0.4272696\ttotal: 109ms\tremaining: 7.7s\n",
      "14:\tlearn: 0.4220995\ttotal: 115ms\tremaining: 7.58s\n",
      "15:\tlearn: 0.4163232\ttotal: 121ms\tremaining: 7.45s\n",
      "16:\tlearn: 0.4113499\ttotal: 128ms\tremaining: 7.39s\n",
      "17:\tlearn: 0.4070268\ttotal: 134ms\tremaining: 7.29s\n",
      "18:\tlearn: 0.4032370\ttotal: 139ms\tremaining: 7.19s\n",
      "19:\tlearn: 0.3997600\ttotal: 145ms\tremaining: 7.11s\n",
      "20:\tlearn: 0.3967577\ttotal: 151ms\tremaining: 7.04s\n",
      "21:\tlearn: 0.3937289\ttotal: 157ms\tremaining: 6.98s\n",
      "22:\tlearn: 0.3902810\ttotal: 163ms\tremaining: 6.92s\n",
      "23:\tlearn: 0.3878083\ttotal: 170ms\tremaining: 6.92s\n",
      "24:\tlearn: 0.3848806\ttotal: 180ms\tremaining: 7.03s\n",
      "25:\tlearn: 0.3815061\ttotal: 187ms\tremaining: 7.02s\n",
      "26:\tlearn: 0.3789273\ttotal: 194ms\tremaining: 7s\n",
      "27:\tlearn: 0.3769435\ttotal: 201ms\tremaining: 6.99s\n",
      "28:\tlearn: 0.3754394\ttotal: 207ms\tremaining: 6.92s\n",
      "29:\tlearn: 0.3736070\ttotal: 213ms\tremaining: 6.88s\n",
      "30:\tlearn: 0.3716681\ttotal: 220ms\tremaining: 6.87s\n",
      "31:\tlearn: 0.3705605\ttotal: 226ms\tremaining: 6.82s\n",
      "32:\tlearn: 0.3683158\ttotal: 231ms\tremaining: 6.78s\n",
      "33:\tlearn: 0.3660242\ttotal: 240ms\tremaining: 6.8s\n",
      "34:\tlearn: 0.3649722\ttotal: 252ms\tremaining: 6.94s\n",
      "35:\tlearn: 0.3636574\ttotal: 257ms\tremaining: 6.89s\n",
      "36:\tlearn: 0.3624954\ttotal: 264ms\tremaining: 6.86s\n",
      "37:\tlearn: 0.3614674\ttotal: 269ms\tremaining: 6.82s\n",
      "38:\tlearn: 0.3606891\ttotal: 275ms\tremaining: 6.78s\n",
      "39:\tlearn: 0.3593823\ttotal: 281ms\tremaining: 6.74s\n",
      "40:\tlearn: 0.3587584\ttotal: 287ms\tremaining: 6.71s\n",
      "41:\tlearn: 0.3580463\ttotal: 294ms\tremaining: 6.7s\n",
      "42:\tlearn: 0.3575596\ttotal: 301ms\tremaining: 6.7s\n",
      "43:\tlearn: 0.3563308\ttotal: 311ms\tremaining: 6.76s\n",
      "44:\tlearn: 0.3557066\ttotal: 317ms\tremaining: 6.73s\n",
      "45:\tlearn: 0.3552829\ttotal: 323ms\tremaining: 6.69s\n",
      "46:\tlearn: 0.3539415\ttotal: 329ms\tremaining: 6.67s\n",
      "47:\tlearn: 0.3531206\ttotal: 334ms\tremaining: 6.63s\n",
      "48:\tlearn: 0.3518614\ttotal: 340ms\tremaining: 6.6s\n",
      "49:\tlearn: 0.3514461\ttotal: 346ms\tremaining: 6.57s\n",
      "50:\tlearn: 0.3502162\ttotal: 353ms\tremaining: 6.57s\n",
      "51:\tlearn: 0.3489696\ttotal: 359ms\tremaining: 6.54s\n",
      "52:\tlearn: 0.3487072\ttotal: 371ms\tremaining: 6.62s\n",
      "53:\tlearn: 0.3479601\ttotal: 377ms\tremaining: 6.6s\n",
      "54:\tlearn: 0.3472715\ttotal: 382ms\tremaining: 6.57s\n",
      "55:\tlearn: 0.3468983\ttotal: 389ms\tremaining: 6.56s\n",
      "56:\tlearn: 0.3458567\ttotal: 396ms\tremaining: 6.54s\n",
      "57:\tlearn: 0.3453357\ttotal: 402ms\tremaining: 6.52s\n",
      "58:\tlearn: 0.3450747\ttotal: 407ms\tremaining: 6.49s\n",
      "59:\tlearn: 0.3444103\ttotal: 413ms\tremaining: 6.47s\n",
      "60:\tlearn: 0.3436799\ttotal: 419ms\tremaining: 6.44s\n",
      "61:\tlearn: 0.3431110\ttotal: 427ms\tremaining: 6.46s\n",
      "62:\tlearn: 0.3428977\ttotal: 437ms\tremaining: 6.49s\n",
      "63:\tlearn: 0.3422094\ttotal: 442ms\tremaining: 6.47s\n",
      "64:\tlearn: 0.3418240\ttotal: 449ms\tremaining: 6.45s\n",
      "65:\tlearn: 0.3413837\ttotal: 454ms\tremaining: 6.43s\n",
      "66:\tlearn: 0.3408032\ttotal: 460ms\tremaining: 6.4s\n",
      "67:\tlearn: 0.3394527\ttotal: 466ms\tremaining: 6.38s\n",
      "68:\tlearn: 0.3388761\ttotal: 471ms\tremaining: 6.36s\n",
      "69:\tlearn: 0.3385991\ttotal: 477ms\tremaining: 6.33s\n",
      "70:\tlearn: 0.3381134\ttotal: 483ms\tremaining: 6.32s\n",
      "71:\tlearn: 0.3377716\ttotal: 493ms\tremaining: 6.35s\n",
      "72:\tlearn: 0.3375741\ttotal: 500ms\tremaining: 6.35s\n",
      "73:\tlearn: 0.3367747\ttotal: 506ms\tremaining: 6.33s\n",
      "74:\tlearn: 0.3365365\ttotal: 513ms\tremaining: 6.32s\n",
      "75:\tlearn: 0.3355174\ttotal: 518ms\tremaining: 6.3s\n",
      "76:\tlearn: 0.3353807\ttotal: 525ms\tremaining: 6.3s\n",
      "77:\tlearn: 0.3349936\ttotal: 531ms\tremaining: 6.28s\n",
      "78:\tlearn: 0.3346815\ttotal: 537ms\tremaining: 6.26s\n",
      "79:\tlearn: 0.3342157\ttotal: 544ms\tremaining: 6.25s\n",
      "80:\tlearn: 0.3336790\ttotal: 549ms\tremaining: 6.23s\n",
      "81:\tlearn: 0.3328226\ttotal: 555ms\tremaining: 6.22s\n",
      "82:\tlearn: 0.3323430\ttotal: 562ms\tremaining: 6.21s\n",
      "83:\tlearn: 0.3319159\ttotal: 574ms\tremaining: 6.26s\n",
      "84:\tlearn: 0.3318088\ttotal: 579ms\tremaining: 6.24s\n",
      "85:\tlearn: 0.3313768\ttotal: 586ms\tremaining: 6.22s\n",
      "86:\tlearn: 0.3302796\ttotal: 592ms\tremaining: 6.21s\n",
      "87:\tlearn: 0.3301145\ttotal: 599ms\tremaining: 6.2s\n",
      "88:\tlearn: 0.3297075\ttotal: 607ms\tremaining: 6.21s\n",
      "89:\tlearn: 0.3288115\ttotal: 612ms\tremaining: 6.19s\n",
      "90:\tlearn: 0.3283934\ttotal: 618ms\tremaining: 6.18s\n",
      "91:\tlearn: 0.3279113\ttotal: 624ms\tremaining: 6.16s\n",
      "92:\tlearn: 0.3277388\ttotal: 631ms\tremaining: 6.16s\n",
      "93:\tlearn: 0.3275066\ttotal: 644ms\tremaining: 6.21s\n",
      "94:\tlearn: 0.3271042\ttotal: 662ms\tremaining: 6.31s\n",
      "95:\tlearn: 0.3267863\ttotal: 690ms\tremaining: 6.5s\n",
      "96:\tlearn: 0.3262886\ttotal: 704ms\tremaining: 6.55s\n",
      "97:\tlearn: 0.3261385\ttotal: 725ms\tremaining: 6.67s\n",
      "98:\tlearn: 0.3254470\ttotal: 740ms\tremaining: 6.74s\n",
      "99:\tlearn: 0.3249502\ttotal: 758ms\tremaining: 6.82s\n",
      "100:\tlearn: 0.3242817\ttotal: 774ms\tremaining: 6.89s\n",
      "101:\tlearn: 0.3236171\ttotal: 789ms\tremaining: 6.95s\n",
      "102:\tlearn: 0.3234247\ttotal: 815ms\tremaining: 7.09s\n",
      "103:\tlearn: 0.3228153\ttotal: 834ms\tremaining: 7.19s\n",
      "104:\tlearn: 0.3223861\ttotal: 852ms\tremaining: 7.26s\n",
      "105:\tlearn: 0.3219331\ttotal: 863ms\tremaining: 7.28s\n",
      "106:\tlearn: 0.3216088\ttotal: 878ms\tremaining: 7.33s\n",
      "107:\tlearn: 0.3209955\ttotal: 899ms\tremaining: 7.42s\n",
      "108:\tlearn: 0.3204228\ttotal: 913ms\tremaining: 7.46s\n",
      "109:\tlearn: 0.3202936\ttotal: 930ms\tremaining: 7.52s\n",
      "110:\tlearn: 0.3200662\ttotal: 944ms\tremaining: 7.56s\n",
      "111:\tlearn: 0.3198733\ttotal: 957ms\tremaining: 7.59s\n",
      "112:\tlearn: 0.3197512\ttotal: 970ms\tremaining: 7.61s\n",
      "113:\tlearn: 0.3196398\ttotal: 984ms\tremaining: 7.65s\n",
      "114:\tlearn: 0.3195374\ttotal: 997ms\tremaining: 7.67s\n",
      "115:\tlearn: 0.3191503\ttotal: 1.02s\tremaining: 7.79s\n",
      "116:\tlearn: 0.3189940\ttotal: 1.03s\tremaining: 7.82s\n",
      "117:\tlearn: 0.3188004\ttotal: 1.05s\tremaining: 7.84s\n",
      "118:\tlearn: 0.3185070\ttotal: 1.06s\tremaining: 7.85s\n",
      "119:\tlearn: 0.3182212\ttotal: 1.08s\tremaining: 7.89s\n",
      "120:\tlearn: 0.3181100\ttotal: 1.09s\tremaining: 7.92s\n",
      "121:\tlearn: 0.3178800\ttotal: 1.1s\tremaining: 7.92s\n",
      "122:\tlearn: 0.3175274\ttotal: 1.12s\tremaining: 7.98s\n",
      "123:\tlearn: 0.3171143\ttotal: 1.14s\tremaining: 8.02s\n",
      "124:\tlearn: 0.3167322\ttotal: 1.15s\tremaining: 8.05s\n",
      "125:\tlearn: 0.3163773\ttotal: 1.17s\tremaining: 8.09s\n",
      "126:\tlearn: 0.3160817\ttotal: 1.18s\tremaining: 8.11s\n",
      "127:\tlearn: 0.3157491\ttotal: 1.19s\tremaining: 8.13s\n",
      "128:\tlearn: 0.3154465\ttotal: 1.21s\tremaining: 8.15s\n",
      "129:\tlearn: 0.3151224\ttotal: 1.22s\tremaining: 8.19s\n",
      "130:\tlearn: 0.3149668\ttotal: 1.24s\tremaining: 8.22s\n",
      "131:\tlearn: 0.3148163\ttotal: 1.25s\tremaining: 8.25s\n",
      "132:\tlearn: 0.3146573\ttotal: 1.27s\tremaining: 8.32s\n",
      "133:\tlearn: 0.3143065\ttotal: 1.29s\tremaining: 8.36s\n",
      "134:\tlearn: 0.3135997\ttotal: 1.33s\tremaining: 8.5s\n",
      "135:\tlearn: 0.3133950\ttotal: 1.34s\tremaining: 8.51s\n",
      "136:\tlearn: 0.3132222\ttotal: 1.36s\tremaining: 8.55s\n",
      "137:\tlearn: 0.3131128\ttotal: 1.38s\tremaining: 8.63s\n",
      "138:\tlearn: 0.3130316\ttotal: 1.39s\tremaining: 8.63s\n",
      "139:\tlearn: 0.3126858\ttotal: 1.41s\tremaining: 8.64s\n",
      "140:\tlearn: 0.3125521\ttotal: 1.42s\tremaining: 8.63s\n",
      "141:\tlearn: 0.3124215\ttotal: 1.43s\tremaining: 8.62s\n",
      "142:\tlearn: 0.3120748\ttotal: 1.44s\tremaining: 8.63s\n",
      "143:\tlearn: 0.3118795\ttotal: 1.45s\tremaining: 8.61s\n",
      "144:\tlearn: 0.3116508\ttotal: 1.46s\tremaining: 8.59s\n",
      "145:\tlearn: 0.3113918\ttotal: 1.46s\tremaining: 8.56s\n",
      "146:\tlearn: 0.3112664\ttotal: 1.47s\tremaining: 8.53s\n",
      "147:\tlearn: 0.3108961\ttotal: 1.48s\tremaining: 8.51s\n",
      "148:\tlearn: 0.3104370\ttotal: 1.49s\tremaining: 8.5s\n",
      "149:\tlearn: 0.3100425\ttotal: 1.5s\tremaining: 8.47s\n",
      "150:\tlearn: 0.3096743\ttotal: 1.5s\tremaining: 8.45s\n",
      "151:\tlearn: 0.3092872\ttotal: 1.51s\tremaining: 8.42s\n",
      "152:\tlearn: 0.3091621\ttotal: 1.51s\tremaining: 8.38s\n",
      "153:\tlearn: 0.3088628\ttotal: 1.52s\tremaining: 8.35s\n",
      "154:\tlearn: 0.3087352\ttotal: 1.53s\tremaining: 8.32s\n",
      "155:\tlearn: 0.3087011\ttotal: 1.53s\tremaining: 8.29s\n",
      "156:\tlearn: 0.3085871\ttotal: 1.54s\tremaining: 8.28s\n",
      "157:\tlearn: 0.3082194\ttotal: 1.55s\tremaining: 8.25s\n",
      "158:\tlearn: 0.3080220\ttotal: 1.55s\tremaining: 8.22s\n",
      "159:\tlearn: 0.3077614\ttotal: 1.56s\tremaining: 8.19s\n",
      "160:\tlearn: 0.3076469\ttotal: 1.56s\tremaining: 8.16s\n",
      "161:\tlearn: 0.3073839\ttotal: 1.57s\tremaining: 8.13s\n",
      "162:\tlearn: 0.3071186\ttotal: 1.58s\tremaining: 8.1s\n",
      "163:\tlearn: 0.3070311\ttotal: 1.58s\tremaining: 8.08s\n",
      "164:\tlearn: 0.3069623\ttotal: 1.59s\tremaining: 8.06s\n",
      "165:\tlearn: 0.3068284\ttotal: 1.6s\tremaining: 8.04s\n",
      "166:\tlearn: 0.3066138\ttotal: 1.6s\tremaining: 8.01s\n",
      "167:\tlearn: 0.3064189\ttotal: 1.61s\tremaining: 7.98s\n"
     ]
    },
    {
     "name": "stdout",
     "output_type": "stream",
     "text": [
      "168:\tlearn: 0.3061782\ttotal: 1.62s\tremaining: 7.96s\n",
      "169:\tlearn: 0.3060977\ttotal: 1.62s\tremaining: 7.93s\n",
      "170:\tlearn: 0.3058734\ttotal: 1.63s\tremaining: 7.9s\n",
      "171:\tlearn: 0.3057288\ttotal: 1.64s\tremaining: 7.89s\n",
      "172:\tlearn: 0.3054795\ttotal: 1.65s\tremaining: 7.88s\n",
      "173:\tlearn: 0.3052439\ttotal: 1.65s\tremaining: 7.85s\n",
      "174:\tlearn: 0.3051441\ttotal: 1.66s\tremaining: 7.82s\n",
      "175:\tlearn: 0.3049464\ttotal: 1.67s\tremaining: 7.8s\n",
      "176:\tlearn: 0.3048176\ttotal: 1.67s\tremaining: 7.77s\n",
      "177:\tlearn: 0.3045537\ttotal: 1.68s\tremaining: 7.75s\n",
      "178:\tlearn: 0.3043600\ttotal: 1.68s\tremaining: 7.73s\n",
      "179:\tlearn: 0.3041499\ttotal: 1.69s\tremaining: 7.71s\n",
      "180:\tlearn: 0.3040910\ttotal: 1.7s\tremaining: 7.69s\n",
      "181:\tlearn: 0.3038919\ttotal: 1.7s\tremaining: 7.66s\n",
      "182:\tlearn: 0.3037066\ttotal: 1.71s\tremaining: 7.63s\n",
      "183:\tlearn: 0.3034849\ttotal: 1.72s\tremaining: 7.61s\n",
      "184:\tlearn: 0.3030589\ttotal: 1.72s\tremaining: 7.59s\n",
      "185:\tlearn: 0.3029622\ttotal: 1.73s\tremaining: 7.58s\n",
      "186:\tlearn: 0.3027545\ttotal: 1.74s\tremaining: 7.55s\n",
      "187:\tlearn: 0.3024687\ttotal: 1.74s\tremaining: 7.53s\n",
      "188:\tlearn: 0.3022156\ttotal: 1.75s\tremaining: 7.51s\n",
      "189:\tlearn: 0.3021613\ttotal: 1.75s\tremaining: 7.48s\n",
      "190:\tlearn: 0.3020090\ttotal: 1.76s\tremaining: 7.46s\n",
      "191:\tlearn: 0.3018197\ttotal: 1.77s\tremaining: 7.44s\n",
      "192:\tlearn: 0.3015948\ttotal: 1.77s\tremaining: 7.42s\n",
      "193:\tlearn: 0.3014553\ttotal: 1.78s\tremaining: 7.39s\n",
      "194:\tlearn: 0.3013361\ttotal: 1.78s\tremaining: 7.37s\n",
      "195:\tlearn: 0.3011693\ttotal: 1.79s\tremaining: 7.35s\n",
      "196:\tlearn: 0.3007145\ttotal: 1.8s\tremaining: 7.32s\n",
      "197:\tlearn: 0.3004888\ttotal: 1.8s\tremaining: 7.3s\n",
      "198:\tlearn: 0.3000417\ttotal: 1.81s\tremaining: 7.28s\n",
      "199:\tlearn: 0.2999507\ttotal: 1.81s\tremaining: 7.25s\n",
      "200:\tlearn: 0.2998452\ttotal: 1.82s\tremaining: 7.24s\n",
      "201:\tlearn: 0.2993939\ttotal: 1.83s\tremaining: 7.21s\n",
      "202:\tlearn: 0.2992951\ttotal: 1.83s\tremaining: 7.19s\n",
      "203:\tlearn: 0.2989646\ttotal: 1.84s\tremaining: 7.18s\n",
      "204:\tlearn: 0.2987963\ttotal: 1.85s\tremaining: 7.17s\n",
      "205:\tlearn: 0.2983975\ttotal: 1.85s\tremaining: 7.15s\n",
      "206:\tlearn: 0.2982691\ttotal: 1.86s\tremaining: 7.13s\n",
      "207:\tlearn: 0.2981481\ttotal: 1.87s\tremaining: 7.11s\n",
      "208:\tlearn: 0.2980087\ttotal: 1.87s\tremaining: 7.09s\n",
      "209:\tlearn: 0.2977553\ttotal: 1.88s\tremaining: 7.08s\n",
      "210:\tlearn: 0.2975178\ttotal: 1.89s\tremaining: 7.06s\n",
      "211:\tlearn: 0.2974630\ttotal: 1.89s\tremaining: 7.04s\n",
      "212:\tlearn: 0.2972805\ttotal: 1.9s\tremaining: 7.02s\n",
      "213:\tlearn: 0.2971771\ttotal: 1.9s\tremaining: 7s\n",
      "214:\tlearn: 0.2969977\ttotal: 1.91s\tremaining: 6.98s\n",
      "215:\tlearn: 0.2969203\ttotal: 1.92s\tremaining: 6.96s\n",
      "216:\tlearn: 0.2967543\ttotal: 1.92s\tremaining: 6.94s\n",
      "217:\tlearn: 0.2964753\ttotal: 1.93s\tremaining: 6.92s\n",
      "218:\tlearn: 0.2964163\ttotal: 1.93s\tremaining: 6.9s\n",
      "219:\tlearn: 0.2962982\ttotal: 1.94s\tremaining: 6.88s\n",
      "220:\tlearn: 0.2961234\ttotal: 1.94s\tremaining: 6.86s\n",
      "221:\tlearn: 0.2960234\ttotal: 1.95s\tremaining: 6.83s\n",
      "222:\tlearn: 0.2958743\ttotal: 1.95s\tremaining: 6.81s\n",
      "223:\tlearn: 0.2956864\ttotal: 1.96s\tremaining: 6.79s\n",
      "224:\tlearn: 0.2953433\ttotal: 1.97s\tremaining: 6.77s\n",
      "225:\tlearn: 0.2952005\ttotal: 1.97s\tremaining: 6.75s\n",
      "226:\tlearn: 0.2950597\ttotal: 1.98s\tremaining: 6.73s\n",
      "227:\tlearn: 0.2948548\ttotal: 1.98s\tremaining: 6.71s\n",
      "228:\tlearn: 0.2946887\ttotal: 1.99s\tremaining: 6.7s\n",
      "229:\tlearn: 0.2945730\ttotal: 2s\tremaining: 6.68s\n",
      "230:\tlearn: 0.2944668\ttotal: 2s\tremaining: 6.66s\n",
      "231:\tlearn: 0.2942515\ttotal: 2.01s\tremaining: 6.64s\n",
      "232:\tlearn: 0.2940282\ttotal: 2.02s\tremaining: 6.64s\n",
      "233:\tlearn: 0.2938298\ttotal: 2.02s\tremaining: 6.62s\n",
      "234:\tlearn: 0.2937202\ttotal: 2.03s\tremaining: 6.61s\n",
      "235:\tlearn: 0.2935623\ttotal: 2.04s\tremaining: 6.59s\n",
      "236:\tlearn: 0.2934729\ttotal: 2.04s\tremaining: 6.57s\n",
      "237:\tlearn: 0.2932808\ttotal: 2.05s\tremaining: 6.55s\n",
      "238:\tlearn: 0.2932334\ttotal: 2.05s\tremaining: 6.54s\n",
      "239:\tlearn: 0.2931093\ttotal: 2.06s\tremaining: 6.53s\n",
      "240:\tlearn: 0.2927506\ttotal: 2.07s\tremaining: 6.51s\n",
      "241:\tlearn: 0.2926414\ttotal: 2.07s\tremaining: 6.5s\n",
      "242:\tlearn: 0.2925742\ttotal: 2.08s\tremaining: 6.48s\n",
      "243:\tlearn: 0.2922296\ttotal: 2.08s\tremaining: 6.46s\n",
      "244:\tlearn: 0.2920872\ttotal: 2.09s\tremaining: 6.44s\n",
      "245:\tlearn: 0.2920043\ttotal: 2.1s\tremaining: 6.43s\n",
      "246:\tlearn: 0.2916853\ttotal: 2.1s\tremaining: 6.41s\n",
      "247:\tlearn: 0.2915658\ttotal: 2.11s\tremaining: 6.4s\n",
      "248:\tlearn: 0.2914763\ttotal: 2.12s\tremaining: 6.38s\n",
      "249:\tlearn: 0.2912658\ttotal: 2.12s\tremaining: 6.36s\n",
      "250:\tlearn: 0.2911251\ttotal: 2.13s\tremaining: 6.35s\n",
      "251:\tlearn: 0.2909614\ttotal: 2.13s\tremaining: 6.33s\n",
      "252:\tlearn: 0.2909158\ttotal: 2.14s\tremaining: 6.31s\n",
      "253:\tlearn: 0.2908394\ttotal: 2.14s\tremaining: 6.29s\n",
      "254:\tlearn: 0.2907644\ttotal: 2.15s\tremaining: 6.27s\n",
      "255:\tlearn: 0.2906730\ttotal: 2.16s\tremaining: 6.28s\n",
      "256:\tlearn: 0.2905123\ttotal: 2.17s\tremaining: 6.27s\n",
      "257:\tlearn: 0.2904118\ttotal: 2.17s\tremaining: 6.25s\n",
      "258:\tlearn: 0.2903213\ttotal: 2.18s\tremaining: 6.24s\n",
      "259:\tlearn: 0.2901727\ttotal: 2.19s\tremaining: 6.22s\n",
      "260:\tlearn: 0.2900271\ttotal: 2.19s\tremaining: 6.2s\n",
      "261:\tlearn: 0.2899250\ttotal: 2.2s\tremaining: 6.19s\n",
      "262:\tlearn: 0.2898300\ttotal: 2.2s\tremaining: 6.17s\n",
      "263:\tlearn: 0.2897651\ttotal: 2.21s\tremaining: 6.16s\n",
      "264:\tlearn: 0.2894506\ttotal: 2.22s\tremaining: 6.15s\n",
      "265:\tlearn: 0.2893388\ttotal: 2.22s\tremaining: 6.13s\n",
      "266:\tlearn: 0.2890522\ttotal: 2.23s\tremaining: 6.12s\n",
      "267:\tlearn: 0.2889224\ttotal: 2.23s\tremaining: 6.1s\n",
      "268:\tlearn: 0.2886839\ttotal: 2.24s\tremaining: 6.09s\n",
      "269:\tlearn: 0.2885143\ttotal: 2.25s\tremaining: 6.08s\n",
      "270:\tlearn: 0.2882497\ttotal: 2.25s\tremaining: 6.07s\n",
      "271:\tlearn: 0.2881129\ttotal: 2.26s\tremaining: 6.05s\n",
      "272:\tlearn: 0.2879219\ttotal: 2.27s\tremaining: 6.04s\n",
      "273:\tlearn: 0.2878523\ttotal: 2.27s\tremaining: 6.02s\n",
      "274:\tlearn: 0.2877699\ttotal: 2.28s\tremaining: 6.01s\n",
      "275:\tlearn: 0.2876024\ttotal: 2.28s\tremaining: 5.99s\n",
      "276:\tlearn: 0.2874896\ttotal: 2.29s\tremaining: 5.98s\n",
      "277:\tlearn: 0.2872289\ttotal: 2.3s\tremaining: 5.97s\n",
      "278:\tlearn: 0.2871735\ttotal: 2.3s\tremaining: 5.95s\n",
      "279:\tlearn: 0.2868116\ttotal: 2.31s\tremaining: 5.94s\n",
      "280:\tlearn: 0.2866669\ttotal: 2.31s\tremaining: 5.92s\n",
      "281:\tlearn: 0.2865512\ttotal: 2.32s\tremaining: 5.9s\n",
      "282:\tlearn: 0.2864858\ttotal: 2.32s\tremaining: 5.89s\n",
      "283:\tlearn: 0.2864501\ttotal: 2.33s\tremaining: 5.87s\n",
      "284:\tlearn: 0.2863592\ttotal: 2.33s\tremaining: 5.86s\n",
      "285:\tlearn: 0.2861696\ttotal: 2.34s\tremaining: 5.84s\n",
      "286:\tlearn: 0.2859731\ttotal: 2.35s\tremaining: 5.83s\n",
      "287:\tlearn: 0.2857460\ttotal: 2.35s\tremaining: 5.82s\n",
      "288:\tlearn: 0.2855910\ttotal: 2.36s\tremaining: 5.8s\n",
      "289:\tlearn: 0.2855134\ttotal: 2.36s\tremaining: 5.79s\n",
      "290:\tlearn: 0.2854276\ttotal: 2.37s\tremaining: 5.78s\n",
      "291:\tlearn: 0.2853168\ttotal: 2.38s\tremaining: 5.77s\n",
      "292:\tlearn: 0.2851993\ttotal: 2.38s\tremaining: 5.76s\n",
      "293:\tlearn: 0.2850223\ttotal: 2.39s\tremaining: 5.75s\n",
      "294:\tlearn: 0.2848890\ttotal: 2.4s\tremaining: 5.73s\n",
      "295:\tlearn: 0.2846691\ttotal: 2.4s\tremaining: 5.72s\n",
      "296:\tlearn: 0.2845265\ttotal: 2.41s\tremaining: 5.71s\n",
      "297:\tlearn: 0.2842614\ttotal: 2.42s\tremaining: 5.69s\n",
      "298:\tlearn: 0.2840904\ttotal: 2.42s\tremaining: 5.69s\n",
      "299:\tlearn: 0.2839529\ttotal: 2.43s\tremaining: 5.67s\n",
      "300:\tlearn: 0.2838469\ttotal: 2.44s\tremaining: 5.66s\n",
      "301:\tlearn: 0.2836736\ttotal: 2.44s\tremaining: 5.65s\n",
      "302:\tlearn: 0.2834131\ttotal: 2.45s\tremaining: 5.63s\n",
      "303:\tlearn: 0.2833757\ttotal: 2.45s\tremaining: 5.62s\n",
      "304:\tlearn: 0.2832511\ttotal: 2.46s\tremaining: 5.61s\n",
      "305:\tlearn: 0.2831921\ttotal: 2.46s\tremaining: 5.59s\n",
      "306:\tlearn: 0.2830474\ttotal: 2.47s\tremaining: 5.58s\n",
      "307:\tlearn: 0.2828682\ttotal: 2.48s\tremaining: 5.57s\n",
      "308:\tlearn: 0.2827412\ttotal: 2.48s\tremaining: 5.55s\n",
      "309:\tlearn: 0.2825453\ttotal: 2.49s\tremaining: 5.54s\n",
      "310:\tlearn: 0.2823951\ttotal: 2.49s\tremaining: 5.53s\n",
      "311:\tlearn: 0.2821903\ttotal: 2.5s\tremaining: 5.52s\n",
      "312:\tlearn: 0.2820006\ttotal: 2.51s\tremaining: 5.5s\n",
      "313:\tlearn: 0.2818186\ttotal: 2.51s\tremaining: 5.49s\n",
      "314:\tlearn: 0.2816921\ttotal: 2.52s\tremaining: 5.47s\n",
      "315:\tlearn: 0.2816038\ttotal: 2.52s\tremaining: 5.46s\n",
      "316:\tlearn: 0.2814678\ttotal: 2.53s\tremaining: 5.45s\n",
      "317:\tlearn: 0.2813413\ttotal: 2.54s\tremaining: 5.44s\n",
      "318:\tlearn: 0.2812603\ttotal: 2.54s\tremaining: 5.43s\n",
      "319:\tlearn: 0.2812109\ttotal: 2.55s\tremaining: 5.42s\n",
      "320:\tlearn: 0.2810576\ttotal: 2.56s\tremaining: 5.41s\n",
      "321:\tlearn: 0.2808928\ttotal: 2.56s\tremaining: 5.39s\n",
      "322:\tlearn: 0.2807514\ttotal: 2.57s\tremaining: 5.39s\n",
      "323:\tlearn: 0.2806746\ttotal: 2.58s\tremaining: 5.37s\n",
      "324:\tlearn: 0.2805421\ttotal: 2.58s\tremaining: 5.36s\n",
      "325:\tlearn: 0.2804175\ttotal: 2.59s\tremaining: 5.35s\n",
      "326:\tlearn: 0.2802580\ttotal: 2.59s\tremaining: 5.34s\n",
      "327:\tlearn: 0.2801872\ttotal: 2.6s\tremaining: 5.33s\n",
      "328:\tlearn: 0.2801132\ttotal: 2.6s\tremaining: 5.31s\n",
      "329:\tlearn: 0.2799843\ttotal: 2.61s\tremaining: 5.3s\n",
      "330:\tlearn: 0.2798674\ttotal: 2.62s\tremaining: 5.29s\n",
      "331:\tlearn: 0.2797517\ttotal: 2.63s\tremaining: 5.28s\n",
      "332:\tlearn: 0.2796390\ttotal: 2.63s\tremaining: 5.27s\n",
      "333:\tlearn: 0.2795707\ttotal: 2.64s\tremaining: 5.26s\n",
      "334:\tlearn: 0.2793393\ttotal: 2.64s\tremaining: 5.25s\n",
      "335:\tlearn: 0.2792309\ttotal: 2.65s\tremaining: 5.24s\n",
      "336:\tlearn: 0.2791643\ttotal: 2.65s\tremaining: 5.22s\n",
      "337:\tlearn: 0.2789828\ttotal: 2.67s\tremaining: 5.24s\n",
      "338:\tlearn: 0.2788724\ttotal: 2.68s\tremaining: 5.23s\n",
      "339:\tlearn: 0.2787174\ttotal: 2.69s\tremaining: 5.21s\n",
      "340:\tlearn: 0.2785442\ttotal: 2.69s\tremaining: 5.2s\n",
      "341:\tlearn: 0.2783908\ttotal: 2.69s\tremaining: 5.18s\n",
      "342:\tlearn: 0.2783245\ttotal: 2.7s\tremaining: 5.17s\n"
     ]
    },
    {
     "name": "stdout",
     "output_type": "stream",
     "text": [
      "343:\tlearn: 0.2781542\ttotal: 2.71s\tremaining: 5.16s\n",
      "344:\tlearn: 0.2780121\ttotal: 2.71s\tremaining: 5.15s\n",
      "345:\tlearn: 0.2778990\ttotal: 2.72s\tremaining: 5.14s\n",
      "346:\tlearn: 0.2777753\ttotal: 2.72s\tremaining: 5.13s\n",
      "347:\tlearn: 0.2776600\ttotal: 2.73s\tremaining: 5.12s\n",
      "348:\tlearn: 0.2775770\ttotal: 2.74s\tremaining: 5.11s\n",
      "349:\tlearn: 0.2774176\ttotal: 2.74s\tremaining: 5.09s\n",
      "350:\tlearn: 0.2772384\ttotal: 2.75s\tremaining: 5.09s\n",
      "351:\tlearn: 0.2771245\ttotal: 2.76s\tremaining: 5.08s\n",
      "352:\tlearn: 0.2768672\ttotal: 2.76s\tremaining: 5.07s\n",
      "353:\tlearn: 0.2767426\ttotal: 2.77s\tremaining: 5.06s\n",
      "354:\tlearn: 0.2766689\ttotal: 2.78s\tremaining: 5.05s\n",
      "355:\tlearn: 0.2764967\ttotal: 2.79s\tremaining: 5.04s\n",
      "356:\tlearn: 0.2764160\ttotal: 2.79s\tremaining: 5.03s\n",
      "357:\tlearn: 0.2762961\ttotal: 2.8s\tremaining: 5.03s\n",
      "358:\tlearn: 0.2761487\ttotal: 2.81s\tremaining: 5.01s\n",
      "359:\tlearn: 0.2760213\ttotal: 2.81s\tremaining: 5s\n",
      "360:\tlearn: 0.2758800\ttotal: 2.82s\tremaining: 4.99s\n",
      "361:\tlearn: 0.2758138\ttotal: 2.83s\tremaining: 4.99s\n",
      "362:\tlearn: 0.2756831\ttotal: 2.84s\tremaining: 4.98s\n",
      "363:\tlearn: 0.2755649\ttotal: 2.85s\tremaining: 4.97s\n",
      "364:\tlearn: 0.2754544\ttotal: 2.85s\tremaining: 4.96s\n",
      "365:\tlearn: 0.2753243\ttotal: 2.86s\tremaining: 4.95s\n",
      "366:\tlearn: 0.2751539\ttotal: 2.87s\tremaining: 4.94s\n",
      "367:\tlearn: 0.2749738\ttotal: 2.87s\tremaining: 4.93s\n",
      "368:\tlearn: 0.2748830\ttotal: 2.88s\tremaining: 4.92s\n",
      "369:\tlearn: 0.2747099\ttotal: 2.88s\tremaining: 4.91s\n",
      "370:\tlearn: 0.2746510\ttotal: 2.89s\tremaining: 4.9s\n",
      "371:\tlearn: 0.2745200\ttotal: 2.9s\tremaining: 4.89s\n",
      "372:\tlearn: 0.2744114\ttotal: 2.9s\tremaining: 4.88s\n",
      "373:\tlearn: 0.2743038\ttotal: 2.91s\tremaining: 4.87s\n",
      "374:\tlearn: 0.2742217\ttotal: 2.92s\tremaining: 4.86s\n",
      "375:\tlearn: 0.2741907\ttotal: 2.92s\tremaining: 4.85s\n",
      "376:\tlearn: 0.2740992\ttotal: 2.93s\tremaining: 4.85s\n",
      "377:\tlearn: 0.2740198\ttotal: 2.94s\tremaining: 4.84s\n",
      "378:\tlearn: 0.2739018\ttotal: 2.94s\tremaining: 4.83s\n",
      "379:\tlearn: 0.2737717\ttotal: 2.95s\tremaining: 4.82s\n",
      "380:\tlearn: 0.2736888\ttotal: 2.96s\tremaining: 4.81s\n",
      "381:\tlearn: 0.2736301\ttotal: 2.96s\tremaining: 4.79s\n",
      "382:\tlearn: 0.2735093\ttotal: 2.97s\tremaining: 4.79s\n",
      "383:\tlearn: 0.2733683\ttotal: 2.98s\tremaining: 4.79s\n",
      "384:\tlearn: 0.2732093\ttotal: 2.99s\tremaining: 4.78s\n",
      "385:\tlearn: 0.2729895\ttotal: 3s\tremaining: 4.76s\n",
      "386:\tlearn: 0.2729393\ttotal: 3s\tremaining: 4.75s\n",
      "387:\tlearn: 0.2728161\ttotal: 3.01s\tremaining: 4.75s\n",
      "388:\tlearn: 0.2727021\ttotal: 3.01s\tremaining: 4.73s\n",
      "389:\tlearn: 0.2726350\ttotal: 3.02s\tremaining: 4.73s\n",
      "390:\tlearn: 0.2724760\ttotal: 3.03s\tremaining: 4.71s\n",
      "391:\tlearn: 0.2723839\ttotal: 3.03s\tremaining: 4.71s\n",
      "392:\tlearn: 0.2722528\ttotal: 3.04s\tremaining: 4.7s\n",
      "393:\tlearn: 0.2721980\ttotal: 3.05s\tremaining: 4.69s\n",
      "394:\tlearn: 0.2721492\ttotal: 3.05s\tremaining: 4.68s\n",
      "395:\tlearn: 0.2719938\ttotal: 3.06s\tremaining: 4.67s\n",
      "396:\tlearn: 0.2718469\ttotal: 3.07s\tremaining: 4.66s\n",
      "397:\tlearn: 0.2717617\ttotal: 3.08s\tremaining: 4.65s\n",
      "398:\tlearn: 0.2717366\ttotal: 3.08s\tremaining: 4.65s\n",
      "399:\tlearn: 0.2715042\ttotal: 3.09s\tremaining: 4.64s\n",
      "400:\tlearn: 0.2713747\ttotal: 3.1s\tremaining: 4.64s\n",
      "401:\tlearn: 0.2712746\ttotal: 3.12s\tremaining: 4.63s\n",
      "402:\tlearn: 0.2711799\ttotal: 3.12s\tremaining: 4.63s\n",
      "403:\tlearn: 0.2711282\ttotal: 3.13s\tremaining: 4.62s\n",
      "404:\tlearn: 0.2710850\ttotal: 3.14s\tremaining: 4.61s\n",
      "405:\tlearn: 0.2709367\ttotal: 3.15s\tremaining: 4.6s\n",
      "406:\tlearn: 0.2707678\ttotal: 3.15s\tremaining: 4.59s\n",
      "407:\tlearn: 0.2706659\ttotal: 3.16s\tremaining: 4.59s\n",
      "408:\tlearn: 0.2705747\ttotal: 3.17s\tremaining: 4.57s\n",
      "409:\tlearn: 0.2705343\ttotal: 3.17s\tremaining: 4.57s\n",
      "410:\tlearn: 0.2704413\ttotal: 3.18s\tremaining: 4.56s\n",
      "411:\tlearn: 0.2703849\ttotal: 3.19s\tremaining: 4.55s\n",
      "412:\tlearn: 0.2703414\ttotal: 3.2s\tremaining: 4.55s\n",
      "413:\tlearn: 0.2703141\ttotal: 3.21s\tremaining: 4.54s\n",
      "414:\tlearn: 0.2702240\ttotal: 3.21s\tremaining: 4.53s\n",
      "415:\tlearn: 0.2701316\ttotal: 3.22s\tremaining: 4.52s\n",
      "416:\tlearn: 0.2700331\ttotal: 3.23s\tremaining: 4.51s\n",
      "417:\tlearn: 0.2699604\ttotal: 3.23s\tremaining: 4.5s\n",
      "418:\tlearn: 0.2698246\ttotal: 3.24s\tremaining: 4.5s\n",
      "419:\tlearn: 0.2697613\ttotal: 3.25s\tremaining: 4.49s\n",
      "420:\tlearn: 0.2696586\ttotal: 3.26s\tremaining: 4.48s\n",
      "421:\tlearn: 0.2695759\ttotal: 3.27s\tremaining: 4.47s\n",
      "422:\tlearn: 0.2694944\ttotal: 3.27s\tremaining: 4.46s\n",
      "423:\tlearn: 0.2693602\ttotal: 3.28s\tremaining: 4.45s\n",
      "424:\tlearn: 0.2693070\ttotal: 3.29s\tremaining: 4.45s\n",
      "425:\tlearn: 0.2692828\ttotal: 3.3s\tremaining: 4.44s\n",
      "426:\tlearn: 0.2692218\ttotal: 3.3s\tremaining: 4.43s\n",
      "427:\tlearn: 0.2690409\ttotal: 3.31s\tremaining: 4.43s\n",
      "428:\tlearn: 0.2688675\ttotal: 3.32s\tremaining: 4.42s\n",
      "429:\tlearn: 0.2688239\ttotal: 3.33s\tremaining: 4.41s\n",
      "430:\tlearn: 0.2687659\ttotal: 3.33s\tremaining: 4.4s\n",
      "431:\tlearn: 0.2686781\ttotal: 3.34s\tremaining: 4.39s\n",
      "432:\tlearn: 0.2686370\ttotal: 3.35s\tremaining: 4.38s\n",
      "433:\tlearn: 0.2685872\ttotal: 3.37s\tremaining: 4.39s\n",
      "434:\tlearn: 0.2684482\ttotal: 3.37s\tremaining: 4.38s\n",
      "435:\tlearn: 0.2683735\ttotal: 3.38s\tremaining: 4.37s\n",
      "436:\tlearn: 0.2682778\ttotal: 3.38s\tremaining: 4.36s\n",
      "437:\tlearn: 0.2682376\ttotal: 3.39s\tremaining: 4.35s\n",
      "438:\tlearn: 0.2681435\ttotal: 3.4s\tremaining: 4.34s\n",
      "439:\tlearn: 0.2681107\ttotal: 3.4s\tremaining: 4.33s\n",
      "440:\tlearn: 0.2680403\ttotal: 3.41s\tremaining: 4.32s\n",
      "441:\tlearn: 0.2679449\ttotal: 3.42s\tremaining: 4.31s\n",
      "442:\tlearn: 0.2678305\ttotal: 3.42s\tremaining: 4.31s\n",
      "443:\tlearn: 0.2677831\ttotal: 3.43s\tremaining: 4.3s\n",
      "444:\tlearn: 0.2676570\ttotal: 3.44s\tremaining: 4.29s\n",
      "445:\tlearn: 0.2675703\ttotal: 3.44s\tremaining: 4.28s\n",
      "446:\tlearn: 0.2674819\ttotal: 3.45s\tremaining: 4.27s\n",
      "447:\tlearn: 0.2673397\ttotal: 3.46s\tremaining: 4.27s\n",
      "448:\tlearn: 0.2672798\ttotal: 3.47s\tremaining: 4.26s\n",
      "449:\tlearn: 0.2671861\ttotal: 3.48s\tremaining: 4.25s\n",
      "450:\tlearn: 0.2671444\ttotal: 3.49s\tremaining: 4.25s\n",
      "451:\tlearn: 0.2671070\ttotal: 3.49s\tremaining: 4.24s\n",
      "452:\tlearn: 0.2669698\ttotal: 3.5s\tremaining: 4.23s\n",
      "453:\tlearn: 0.2668426\ttotal: 3.51s\tremaining: 4.22s\n",
      "454:\tlearn: 0.2667360\ttotal: 3.51s\tremaining: 4.21s\n",
      "455:\tlearn: 0.2666722\ttotal: 3.52s\tremaining: 4.2s\n",
      "456:\tlearn: 0.2665958\ttotal: 3.53s\tremaining: 4.19s\n",
      "457:\tlearn: 0.2665281\ttotal: 3.53s\tremaining: 4.18s\n",
      "458:\tlearn: 0.2664123\ttotal: 3.54s\tremaining: 4.17s\n",
      "459:\tlearn: 0.2663370\ttotal: 3.54s\tremaining: 4.16s\n",
      "460:\tlearn: 0.2662865\ttotal: 3.55s\tremaining: 4.15s\n",
      "461:\tlearn: 0.2661845\ttotal: 3.55s\tremaining: 4.14s\n",
      "462:\tlearn: 0.2660951\ttotal: 3.56s\tremaining: 4.13s\n",
      "463:\tlearn: 0.2659676\ttotal: 3.56s\tremaining: 4.12s\n",
      "464:\tlearn: 0.2658952\ttotal: 3.57s\tremaining: 4.11s\n",
      "465:\tlearn: 0.2658366\ttotal: 3.58s\tremaining: 4.1s\n",
      "466:\tlearn: 0.2657577\ttotal: 3.58s\tremaining: 4.09s\n",
      "467:\tlearn: 0.2656101\ttotal: 3.59s\tremaining: 4.08s\n",
      "468:\tlearn: 0.2655358\ttotal: 3.6s\tremaining: 4.07s\n",
      "469:\tlearn: 0.2654726\ttotal: 3.6s\tremaining: 4.06s\n",
      "470:\tlearn: 0.2653557\ttotal: 3.61s\tremaining: 4.06s\n",
      "471:\tlearn: 0.2652716\ttotal: 3.62s\tremaining: 4.05s\n",
      "472:\tlearn: 0.2652202\ttotal: 3.63s\tremaining: 4.04s\n",
      "473:\tlearn: 0.2651709\ttotal: 3.63s\tremaining: 4.03s\n",
      "474:\tlearn: 0.2650749\ttotal: 3.64s\tremaining: 4.03s\n",
      "475:\tlearn: 0.2650243\ttotal: 3.65s\tremaining: 4.02s\n",
      "476:\tlearn: 0.2649762\ttotal: 3.66s\tremaining: 4.01s\n",
      "477:\tlearn: 0.2649340\ttotal: 3.66s\tremaining: 4s\n",
      "478:\tlearn: 0.2648957\ttotal: 3.67s\tremaining: 3.99s\n",
      "479:\tlearn: 0.2648691\ttotal: 3.68s\tremaining: 3.98s\n",
      "480:\tlearn: 0.2648319\ttotal: 3.69s\tremaining: 3.98s\n",
      "481:\tlearn: 0.2647389\ttotal: 3.69s\tremaining: 3.97s\n",
      "482:\tlearn: 0.2646441\ttotal: 3.71s\tremaining: 3.97s\n",
      "483:\tlearn: 0.2645508\ttotal: 3.71s\tremaining: 3.96s\n",
      "484:\tlearn: 0.2644685\ttotal: 3.72s\tremaining: 3.95s\n",
      "485:\tlearn: 0.2643600\ttotal: 3.73s\tremaining: 3.94s\n",
      "486:\tlearn: 0.2642645\ttotal: 3.74s\tremaining: 3.94s\n",
      "487:\tlearn: 0.2641879\ttotal: 3.75s\tremaining: 3.93s\n",
      "488:\tlearn: 0.2641289\ttotal: 3.75s\tremaining: 3.92s\n",
      "489:\tlearn: 0.2640841\ttotal: 3.76s\tremaining: 3.91s\n",
      "490:\tlearn: 0.2640310\ttotal: 3.76s\tremaining: 3.9s\n",
      "491:\tlearn: 0.2639696\ttotal: 3.77s\tremaining: 3.9s\n",
      "492:\tlearn: 0.2638699\ttotal: 3.78s\tremaining: 3.89s\n",
      "493:\tlearn: 0.2637755\ttotal: 3.79s\tremaining: 3.88s\n",
      "494:\tlearn: 0.2635626\ttotal: 3.79s\tremaining: 3.87s\n",
      "495:\tlearn: 0.2635131\ttotal: 3.8s\tremaining: 3.86s\n",
      "496:\tlearn: 0.2634419\ttotal: 3.81s\tremaining: 3.85s\n",
      "497:\tlearn: 0.2633930\ttotal: 3.82s\tremaining: 3.85s\n",
      "498:\tlearn: 0.2633080\ttotal: 3.82s\tremaining: 3.84s\n",
      "499:\tlearn: 0.2632640\ttotal: 3.83s\tremaining: 3.83s\n",
      "500:\tlearn: 0.2631345\ttotal: 3.84s\tremaining: 3.82s\n",
      "501:\tlearn: 0.2629879\ttotal: 3.85s\tremaining: 3.82s\n",
      "502:\tlearn: 0.2629119\ttotal: 3.85s\tremaining: 3.81s\n",
      "503:\tlearn: 0.2627830\ttotal: 3.86s\tremaining: 3.8s\n",
      "504:\tlearn: 0.2626612\ttotal: 3.87s\tremaining: 3.79s\n",
      "505:\tlearn: 0.2626041\ttotal: 3.87s\tremaining: 3.78s\n",
      "506:\tlearn: 0.2625605\ttotal: 3.88s\tremaining: 3.77s\n",
      "507:\tlearn: 0.2625177\ttotal: 3.88s\tremaining: 3.76s\n",
      "508:\tlearn: 0.2623848\ttotal: 3.89s\tremaining: 3.75s\n",
      "509:\tlearn: 0.2623342\ttotal: 3.89s\tremaining: 3.74s\n",
      "510:\tlearn: 0.2622632\ttotal: 3.9s\tremaining: 3.73s\n",
      "511:\tlearn: 0.2621870\ttotal: 3.9s\tremaining: 3.72s\n",
      "512:\tlearn: 0.2619977\ttotal: 3.91s\tremaining: 3.71s\n",
      "513:\tlearn: 0.2619633\ttotal: 3.92s\tremaining: 3.71s\n",
      "514:\tlearn: 0.2619148\ttotal: 3.92s\tremaining: 3.69s\n",
      "515:\tlearn: 0.2618352\ttotal: 3.93s\tremaining: 3.69s\n",
      "516:\tlearn: 0.2617683\ttotal: 3.93s\tremaining: 3.67s\n",
      "517:\tlearn: 0.2617056\ttotal: 3.94s\tremaining: 3.67s\n"
     ]
    },
    {
     "name": "stdout",
     "output_type": "stream",
     "text": [
      "518:\tlearn: 0.2616356\ttotal: 3.95s\tremaining: 3.66s\n",
      "519:\tlearn: 0.2615617\ttotal: 3.95s\tremaining: 3.65s\n",
      "520:\tlearn: 0.2615110\ttotal: 3.96s\tremaining: 3.64s\n",
      "521:\tlearn: 0.2614602\ttotal: 3.96s\tremaining: 3.63s\n",
      "522:\tlearn: 0.2614092\ttotal: 3.97s\tremaining: 3.62s\n",
      "523:\tlearn: 0.2612946\ttotal: 3.98s\tremaining: 3.61s\n",
      "524:\tlearn: 0.2611390\ttotal: 3.98s\tremaining: 3.6s\n",
      "525:\tlearn: 0.2610755\ttotal: 3.99s\tremaining: 3.6s\n",
      "526:\tlearn: 0.2610198\ttotal: 4s\tremaining: 3.59s\n",
      "527:\tlearn: 0.2609017\ttotal: 4s\tremaining: 3.58s\n",
      "528:\tlearn: 0.2607494\ttotal: 4.01s\tremaining: 3.57s\n",
      "529:\tlearn: 0.2607097\ttotal: 4.03s\tremaining: 3.57s\n",
      "530:\tlearn: 0.2605278\ttotal: 4.04s\tremaining: 3.57s\n",
      "531:\tlearn: 0.2603846\ttotal: 4.05s\tremaining: 3.56s\n",
      "532:\tlearn: 0.2603238\ttotal: 4.16s\tremaining: 3.64s\n",
      "533:\tlearn: 0.2602858\ttotal: 4.18s\tremaining: 3.64s\n",
      "534:\tlearn: 0.2602022\ttotal: 4.2s\tremaining: 3.65s\n",
      "535:\tlearn: 0.2601726\ttotal: 4.22s\tremaining: 3.65s\n",
      "536:\tlearn: 0.2600190\ttotal: 4.23s\tremaining: 3.65s\n",
      "537:\tlearn: 0.2599787\ttotal: 4.24s\tremaining: 3.64s\n",
      "538:\tlearn: 0.2599181\ttotal: 4.24s\tremaining: 3.63s\n",
      "539:\tlearn: 0.2598856\ttotal: 4.25s\tremaining: 3.62s\n",
      "540:\tlearn: 0.2598485\ttotal: 4.26s\tremaining: 3.61s\n",
      "541:\tlearn: 0.2598177\ttotal: 4.27s\tremaining: 3.61s\n",
      "542:\tlearn: 0.2597343\ttotal: 4.28s\tremaining: 3.6s\n",
      "543:\tlearn: 0.2596541\ttotal: 4.29s\tremaining: 3.59s\n",
      "544:\tlearn: 0.2595421\ttotal: 4.29s\tremaining: 3.58s\n",
      "545:\tlearn: 0.2595108\ttotal: 4.3s\tremaining: 3.58s\n",
      "546:\tlearn: 0.2594409\ttotal: 4.31s\tremaining: 3.57s\n",
      "547:\tlearn: 0.2593652\ttotal: 4.32s\tremaining: 3.56s\n",
      "548:\tlearn: 0.2593289\ttotal: 4.33s\tremaining: 3.56s\n",
      "549:\tlearn: 0.2592710\ttotal: 4.34s\tremaining: 3.55s\n",
      "550:\tlearn: 0.2592163\ttotal: 4.35s\tremaining: 3.54s\n",
      "551:\tlearn: 0.2591533\ttotal: 4.36s\tremaining: 3.54s\n",
      "552:\tlearn: 0.2590369\ttotal: 4.37s\tremaining: 3.53s\n",
      "553:\tlearn: 0.2589481\ttotal: 4.37s\tremaining: 3.52s\n",
      "554:\tlearn: 0.2589073\ttotal: 4.38s\tremaining: 3.51s\n",
      "555:\tlearn: 0.2588169\ttotal: 4.39s\tremaining: 3.5s\n",
      "556:\tlearn: 0.2587352\ttotal: 4.4s\tremaining: 3.5s\n",
      "557:\tlearn: 0.2586762\ttotal: 4.4s\tremaining: 3.49s\n",
      "558:\tlearn: 0.2586182\ttotal: 4.41s\tremaining: 3.48s\n",
      "559:\tlearn: 0.2585549\ttotal: 4.42s\tremaining: 3.47s\n",
      "560:\tlearn: 0.2583942\ttotal: 4.42s\tremaining: 3.46s\n",
      "561:\tlearn: 0.2583439\ttotal: 4.43s\tremaining: 3.45s\n",
      "562:\tlearn: 0.2582359\ttotal: 4.43s\tremaining: 3.44s\n",
      "563:\tlearn: 0.2581909\ttotal: 4.44s\tremaining: 3.43s\n",
      "564:\tlearn: 0.2581485\ttotal: 4.44s\tremaining: 3.42s\n",
      "565:\tlearn: 0.2580981\ttotal: 4.45s\tremaining: 3.41s\n",
      "566:\tlearn: 0.2579733\ttotal: 4.45s\tremaining: 3.4s\n",
      "567:\tlearn: 0.2578898\ttotal: 4.46s\tremaining: 3.39s\n",
      "568:\tlearn: 0.2578587\ttotal: 4.46s\tremaining: 3.38s\n",
      "569:\tlearn: 0.2577621\ttotal: 4.47s\tremaining: 3.37s\n",
      "570:\tlearn: 0.2577239\ttotal: 4.47s\tremaining: 3.36s\n",
      "571:\tlearn: 0.2576904\ttotal: 4.48s\tremaining: 3.35s\n",
      "572:\tlearn: 0.2576610\ttotal: 4.48s\tremaining: 3.34s\n",
      "573:\tlearn: 0.2575980\ttotal: 4.49s\tremaining: 3.33s\n",
      "574:\tlearn: 0.2575306\ttotal: 4.5s\tremaining: 3.32s\n",
      "575:\tlearn: 0.2574603\ttotal: 4.5s\tremaining: 3.31s\n",
      "576:\tlearn: 0.2573676\ttotal: 4.51s\tremaining: 3.3s\n",
      "577:\tlearn: 0.2573100\ttotal: 4.51s\tremaining: 3.29s\n",
      "578:\tlearn: 0.2571508\ttotal: 4.52s\tremaining: 3.29s\n",
      "579:\tlearn: 0.2570617\ttotal: 4.52s\tremaining: 3.28s\n",
      "580:\tlearn: 0.2569902\ttotal: 4.53s\tremaining: 3.27s\n",
      "581:\tlearn: 0.2569338\ttotal: 4.53s\tremaining: 3.26s\n",
      "582:\tlearn: 0.2569136\ttotal: 4.54s\tremaining: 3.25s\n",
      "583:\tlearn: 0.2568422\ttotal: 4.54s\tremaining: 3.24s\n",
      "584:\tlearn: 0.2567839\ttotal: 4.55s\tremaining: 3.23s\n",
      "585:\tlearn: 0.2567201\ttotal: 4.56s\tremaining: 3.22s\n",
      "586:\tlearn: 0.2566738\ttotal: 4.56s\tremaining: 3.21s\n",
      "587:\tlearn: 0.2566321\ttotal: 4.57s\tremaining: 3.2s\n",
      "588:\tlearn: 0.2566035\ttotal: 4.57s\tremaining: 3.19s\n",
      "589:\tlearn: 0.2565409\ttotal: 4.58s\tremaining: 3.18s\n",
      "590:\tlearn: 0.2564455\ttotal: 4.58s\tremaining: 3.17s\n",
      "591:\tlearn: 0.2564067\ttotal: 4.59s\tremaining: 3.16s\n",
      "592:\tlearn: 0.2563491\ttotal: 4.59s\tremaining: 3.15s\n",
      "593:\tlearn: 0.2562512\ttotal: 4.6s\tremaining: 3.15s\n",
      "594:\tlearn: 0.2561755\ttotal: 4.61s\tremaining: 3.14s\n",
      "595:\tlearn: 0.2560038\ttotal: 4.61s\tremaining: 3.13s\n",
      "596:\tlearn: 0.2559439\ttotal: 4.62s\tremaining: 3.12s\n",
      "597:\tlearn: 0.2558717\ttotal: 4.63s\tremaining: 3.11s\n",
      "598:\tlearn: 0.2558351\ttotal: 4.63s\tremaining: 3.1s\n",
      "599:\tlearn: 0.2556925\ttotal: 4.64s\tremaining: 3.1s\n",
      "600:\tlearn: 0.2556357\ttotal: 4.65s\tremaining: 3.09s\n",
      "601:\tlearn: 0.2555097\ttotal: 4.66s\tremaining: 3.08s\n",
      "602:\tlearn: 0.2553800\ttotal: 4.66s\tremaining: 3.07s\n",
      "603:\tlearn: 0.2553390\ttotal: 4.67s\tremaining: 3.06s\n",
      "604:\tlearn: 0.2552065\ttotal: 4.68s\tremaining: 3.06s\n",
      "605:\tlearn: 0.2551381\ttotal: 4.69s\tremaining: 3.05s\n",
      "606:\tlearn: 0.2550742\ttotal: 4.7s\tremaining: 3.04s\n",
      "607:\tlearn: 0.2550390\ttotal: 4.71s\tremaining: 3.03s\n",
      "608:\tlearn: 0.2549983\ttotal: 4.71s\tremaining: 3.03s\n",
      "609:\tlearn: 0.2549447\ttotal: 4.72s\tremaining: 3.02s\n",
      "610:\tlearn: 0.2549179\ttotal: 4.72s\tremaining: 3.01s\n",
      "611:\tlearn: 0.2548015\ttotal: 4.73s\tremaining: 3s\n",
      "612:\tlearn: 0.2547486\ttotal: 4.74s\tremaining: 2.99s\n",
      "613:\tlearn: 0.2547152\ttotal: 4.74s\tremaining: 2.98s\n",
      "614:\tlearn: 0.2545842\ttotal: 4.75s\tremaining: 2.97s\n",
      "615:\tlearn: 0.2544658\ttotal: 4.75s\tremaining: 2.96s\n",
      "616:\tlearn: 0.2544015\ttotal: 4.76s\tremaining: 2.96s\n",
      "617:\tlearn: 0.2543358\ttotal: 4.76s\tremaining: 2.94s\n",
      "618:\tlearn: 0.2542840\ttotal: 4.77s\tremaining: 2.94s\n",
      "619:\tlearn: 0.2541991\ttotal: 4.78s\tremaining: 2.93s\n",
      "620:\tlearn: 0.2541456\ttotal: 4.78s\tremaining: 2.92s\n",
      "621:\tlearn: 0.2540242\ttotal: 4.79s\tremaining: 2.91s\n",
      "622:\tlearn: 0.2539665\ttotal: 4.79s\tremaining: 2.9s\n",
      "623:\tlearn: 0.2538791\ttotal: 4.8s\tremaining: 2.89s\n",
      "624:\tlearn: 0.2538321\ttotal: 4.8s\tremaining: 2.88s\n",
      "625:\tlearn: 0.2537366\ttotal: 4.81s\tremaining: 2.87s\n",
      "626:\tlearn: 0.2537168\ttotal: 4.81s\tremaining: 2.86s\n",
      "627:\tlearn: 0.2536192\ttotal: 4.82s\tremaining: 2.85s\n",
      "628:\tlearn: 0.2535186\ttotal: 4.83s\tremaining: 2.85s\n",
      "629:\tlearn: 0.2534703\ttotal: 4.83s\tremaining: 2.84s\n",
      "630:\tlearn: 0.2534284\ttotal: 4.84s\tremaining: 2.83s\n",
      "631:\tlearn: 0.2533636\ttotal: 4.84s\tremaining: 2.82s\n",
      "632:\tlearn: 0.2532708\ttotal: 4.85s\tremaining: 2.81s\n",
      "633:\tlearn: 0.2531975\ttotal: 4.85s\tremaining: 2.8s\n",
      "634:\tlearn: 0.2531419\ttotal: 4.86s\tremaining: 2.79s\n",
      "635:\tlearn: 0.2530148\ttotal: 4.87s\tremaining: 2.78s\n",
      "636:\tlearn: 0.2529430\ttotal: 4.87s\tremaining: 2.78s\n",
      "637:\tlearn: 0.2528263\ttotal: 4.88s\tremaining: 2.77s\n",
      "638:\tlearn: 0.2527829\ttotal: 4.88s\tremaining: 2.76s\n",
      "639:\tlearn: 0.2527468\ttotal: 4.89s\tremaining: 2.75s\n",
      "640:\tlearn: 0.2526919\ttotal: 4.89s\tremaining: 2.74s\n",
      "641:\tlearn: 0.2526432\ttotal: 4.9s\tremaining: 2.73s\n",
      "642:\tlearn: 0.2526110\ttotal: 4.9s\tremaining: 2.72s\n",
      "643:\tlearn: 0.2525680\ttotal: 4.91s\tremaining: 2.71s\n",
      "644:\tlearn: 0.2525368\ttotal: 4.91s\tremaining: 2.7s\n",
      "645:\tlearn: 0.2524362\ttotal: 4.92s\tremaining: 2.7s\n",
      "646:\tlearn: 0.2523976\ttotal: 4.94s\tremaining: 2.69s\n",
      "647:\tlearn: 0.2523371\ttotal: 4.95s\tremaining: 2.69s\n",
      "648:\tlearn: 0.2523118\ttotal: 4.96s\tremaining: 2.68s\n",
      "649:\tlearn: 0.2522661\ttotal: 4.98s\tremaining: 2.68s\n",
      "650:\tlearn: 0.2522314\ttotal: 4.99s\tremaining: 2.67s\n",
      "651:\tlearn: 0.2521504\ttotal: 5s\tremaining: 2.67s\n",
      "652:\tlearn: 0.2520921\ttotal: 5.01s\tremaining: 2.66s\n",
      "653:\tlearn: 0.2520360\ttotal: 5.01s\tremaining: 2.65s\n",
      "654:\tlearn: 0.2519933\ttotal: 5.02s\tremaining: 2.65s\n",
      "655:\tlearn: 0.2519384\ttotal: 5.03s\tremaining: 2.64s\n",
      "656:\tlearn: 0.2518929\ttotal: 5.04s\tremaining: 2.63s\n",
      "657:\tlearn: 0.2518675\ttotal: 5.05s\tremaining: 2.62s\n",
      "658:\tlearn: 0.2516590\ttotal: 5.05s\tremaining: 2.62s\n",
      "659:\tlearn: 0.2516352\ttotal: 5.06s\tremaining: 2.61s\n",
      "660:\tlearn: 0.2515615\ttotal: 5.07s\tremaining: 2.6s\n",
      "661:\tlearn: 0.2515014\ttotal: 5.08s\tremaining: 2.59s\n",
      "662:\tlearn: 0.2514715\ttotal: 5.08s\tremaining: 2.58s\n",
      "663:\tlearn: 0.2514141\ttotal: 5.09s\tremaining: 2.58s\n",
      "664:\tlearn: 0.2513628\ttotal: 5.1s\tremaining: 2.57s\n",
      "665:\tlearn: 0.2513059\ttotal: 5.14s\tremaining: 2.58s\n",
      "666:\tlearn: 0.2512331\ttotal: 5.14s\tremaining: 2.57s\n",
      "667:\tlearn: 0.2512029\ttotal: 5.15s\tremaining: 2.56s\n",
      "668:\tlearn: 0.2511651\ttotal: 5.16s\tremaining: 2.55s\n",
      "669:\tlearn: 0.2511360\ttotal: 5.16s\tremaining: 2.54s\n",
      "670:\tlearn: 0.2510711\ttotal: 5.17s\tremaining: 2.54s\n",
      "671:\tlearn: 0.2509779\ttotal: 5.18s\tremaining: 2.53s\n",
      "672:\tlearn: 0.2509455\ttotal: 5.19s\tremaining: 2.52s\n",
      "673:\tlearn: 0.2508690\ttotal: 5.2s\tremaining: 2.51s\n",
      "674:\tlearn: 0.2508474\ttotal: 5.2s\tremaining: 2.5s\n",
      "675:\tlearn: 0.2508144\ttotal: 5.21s\tremaining: 2.5s\n",
      "676:\tlearn: 0.2507771\ttotal: 5.22s\tremaining: 2.49s\n",
      "677:\tlearn: 0.2507213\ttotal: 5.23s\tremaining: 2.48s\n",
      "678:\tlearn: 0.2506674\ttotal: 5.23s\tremaining: 2.47s\n",
      "679:\tlearn: 0.2506473\ttotal: 5.24s\tremaining: 2.46s\n",
      "680:\tlearn: 0.2505483\ttotal: 5.25s\tremaining: 2.46s\n",
      "681:\tlearn: 0.2505068\ttotal: 5.25s\tremaining: 2.45s\n",
      "682:\tlearn: 0.2504782\ttotal: 5.26s\tremaining: 2.44s\n",
      "683:\tlearn: 0.2504600\ttotal: 5.26s\tremaining: 2.43s\n",
      "684:\tlearn: 0.2503345\ttotal: 5.27s\tremaining: 2.42s\n"
     ]
    },
    {
     "name": "stdout",
     "output_type": "stream",
     "text": [
      "685:\tlearn: 0.2503048\ttotal: 5.28s\tremaining: 2.42s\n",
      "686:\tlearn: 0.2502683\ttotal: 5.28s\tremaining: 2.41s\n",
      "687:\tlearn: 0.2502345\ttotal: 5.29s\tremaining: 2.4s\n",
      "688:\tlearn: 0.2501836\ttotal: 5.29s\tremaining: 2.39s\n",
      "689:\tlearn: 0.2500425\ttotal: 5.3s\tremaining: 2.38s\n",
      "690:\tlearn: 0.2499893\ttotal: 5.3s\tremaining: 2.37s\n",
      "691:\tlearn: 0.2498766\ttotal: 5.31s\tremaining: 2.36s\n",
      "692:\tlearn: 0.2498279\ttotal: 5.32s\tremaining: 2.36s\n",
      "693:\tlearn: 0.2497894\ttotal: 5.39s\tremaining: 2.38s\n",
      "694:\tlearn: 0.2496951\ttotal: 5.4s\tremaining: 2.37s\n",
      "695:\tlearn: 0.2496373\ttotal: 5.42s\tremaining: 2.37s\n",
      "696:\tlearn: 0.2495878\ttotal: 5.44s\tremaining: 2.36s\n",
      "697:\tlearn: 0.2494970\ttotal: 5.45s\tremaining: 2.36s\n",
      "698:\tlearn: 0.2494634\ttotal: 5.46s\tremaining: 2.35s\n",
      "699:\tlearn: 0.2493989\ttotal: 5.48s\tremaining: 2.35s\n",
      "700:\tlearn: 0.2493588\ttotal: 5.49s\tremaining: 2.34s\n",
      "701:\tlearn: 0.2493025\ttotal: 5.5s\tremaining: 2.33s\n",
      "702:\tlearn: 0.2492151\ttotal: 5.51s\tremaining: 2.33s\n",
      "703:\tlearn: 0.2491437\ttotal: 5.51s\tremaining: 2.32s\n",
      "704:\tlearn: 0.2490876\ttotal: 5.53s\tremaining: 2.31s\n",
      "705:\tlearn: 0.2490639\ttotal: 5.54s\tremaining: 2.31s\n",
      "706:\tlearn: 0.2490158\ttotal: 5.54s\tremaining: 2.3s\n",
      "707:\tlearn: 0.2489869\ttotal: 5.55s\tremaining: 2.29s\n",
      "708:\tlearn: 0.2489353\ttotal: 5.56s\tremaining: 2.28s\n",
      "709:\tlearn: 0.2488739\ttotal: 5.56s\tremaining: 2.27s\n",
      "710:\tlearn: 0.2488519\ttotal: 5.57s\tremaining: 2.26s\n",
      "711:\tlearn: 0.2488005\ttotal: 5.58s\tremaining: 2.26s\n",
      "712:\tlearn: 0.2487140\ttotal: 5.58s\tremaining: 2.25s\n",
      "713:\tlearn: 0.2486505\ttotal: 5.59s\tremaining: 2.24s\n",
      "714:\tlearn: 0.2485807\ttotal: 5.6s\tremaining: 2.23s\n",
      "715:\tlearn: 0.2485475\ttotal: 5.6s\tremaining: 2.22s\n",
      "716:\tlearn: 0.2484898\ttotal: 5.61s\tremaining: 2.21s\n",
      "717:\tlearn: 0.2483773\ttotal: 5.62s\tremaining: 2.21s\n",
      "718:\tlearn: 0.2483169\ttotal: 5.62s\tremaining: 2.2s\n",
      "719:\tlearn: 0.2482680\ttotal: 5.63s\tremaining: 2.19s\n",
      "720:\tlearn: 0.2481447\ttotal: 5.63s\tremaining: 2.18s\n",
      "721:\tlearn: 0.2481124\ttotal: 5.64s\tremaining: 2.17s\n",
      "722:\tlearn: 0.2480354\ttotal: 5.64s\tremaining: 2.16s\n",
      "723:\tlearn: 0.2479156\ttotal: 5.65s\tremaining: 2.15s\n",
      "724:\tlearn: 0.2478845\ttotal: 5.66s\tremaining: 2.15s\n",
      "725:\tlearn: 0.2478245\ttotal: 5.66s\tremaining: 2.14s\n",
      "726:\tlearn: 0.2477759\ttotal: 5.67s\tremaining: 2.13s\n",
      "727:\tlearn: 0.2477161\ttotal: 5.67s\tremaining: 2.12s\n",
      "728:\tlearn: 0.2476012\ttotal: 5.68s\tremaining: 2.11s\n",
      "729:\tlearn: 0.2475783\ttotal: 5.68s\tremaining: 2.1s\n",
      "730:\tlearn: 0.2475053\ttotal: 5.69s\tremaining: 2.09s\n",
      "731:\tlearn: 0.2474445\ttotal: 5.69s\tremaining: 2.08s\n",
      "732:\tlearn: 0.2474031\ttotal: 5.7s\tremaining: 2.08s\n",
      "733:\tlearn: 0.2473299\ttotal: 5.71s\tremaining: 2.07s\n",
      "734:\tlearn: 0.2472757\ttotal: 5.71s\tremaining: 2.06s\n",
      "735:\tlearn: 0.2472358\ttotal: 5.72s\tremaining: 2.05s\n",
      "736:\tlearn: 0.2471301\ttotal: 5.73s\tremaining: 2.04s\n",
      "737:\tlearn: 0.2470885\ttotal: 5.73s\tremaining: 2.04s\n",
      "738:\tlearn: 0.2470453\ttotal: 5.74s\tremaining: 2.03s\n",
      "739:\tlearn: 0.2469792\ttotal: 5.75s\tremaining: 2.02s\n",
      "740:\tlearn: 0.2469432\ttotal: 5.75s\tremaining: 2.01s\n",
      "741:\tlearn: 0.2469029\ttotal: 5.76s\tremaining: 2s\n",
      "742:\tlearn: 0.2468584\ttotal: 5.77s\tremaining: 1.99s\n",
      "743:\tlearn: 0.2468274\ttotal: 5.78s\tremaining: 1.99s\n",
      "744:\tlearn: 0.2467566\ttotal: 5.79s\tremaining: 1.98s\n",
      "745:\tlearn: 0.2467199\ttotal: 5.79s\tremaining: 1.97s\n",
      "746:\tlearn: 0.2466668\ttotal: 5.81s\tremaining: 1.97s\n",
      "747:\tlearn: 0.2466127\ttotal: 5.83s\tremaining: 1.96s\n",
      "748:\tlearn: 0.2465778\ttotal: 5.83s\tremaining: 1.96s\n",
      "749:\tlearn: 0.2465231\ttotal: 5.85s\tremaining: 1.95s\n",
      "750:\tlearn: 0.2465116\ttotal: 5.86s\tremaining: 1.94s\n",
      "751:\tlearn: 0.2464837\ttotal: 5.87s\tremaining: 1.94s\n",
      "752:\tlearn: 0.2464312\ttotal: 5.88s\tremaining: 1.93s\n",
      "753:\tlearn: 0.2463933\ttotal: 5.89s\tremaining: 1.92s\n",
      "754:\tlearn: 0.2463547\ttotal: 5.89s\tremaining: 1.91s\n",
      "755:\tlearn: 0.2463152\ttotal: 5.9s\tremaining: 1.91s\n",
      "756:\tlearn: 0.2462271\ttotal: 5.91s\tremaining: 1.9s\n",
      "757:\tlearn: 0.2461373\ttotal: 5.94s\tremaining: 1.9s\n",
      "758:\tlearn: 0.2460565\ttotal: 5.95s\tremaining: 1.89s\n",
      "759:\tlearn: 0.2459894\ttotal: 5.96s\tremaining: 1.88s\n",
      "760:\tlearn: 0.2459628\ttotal: 5.97s\tremaining: 1.88s\n",
      "761:\tlearn: 0.2459268\ttotal: 5.98s\tremaining: 1.87s\n",
      "762:\tlearn: 0.2458647\ttotal: 5.99s\tremaining: 1.86s\n",
      "763:\tlearn: 0.2457409\ttotal: 6s\tremaining: 1.85s\n",
      "764:\tlearn: 0.2457032\ttotal: 6s\tremaining: 1.84s\n",
      "765:\tlearn: 0.2456738\ttotal: 6.01s\tremaining: 1.83s\n",
      "766:\tlearn: 0.2456486\ttotal: 6.01s\tremaining: 1.83s\n",
      "767:\tlearn: 0.2455711\ttotal: 6.02s\tremaining: 1.82s\n",
      "768:\tlearn: 0.2455179\ttotal: 6.03s\tremaining: 1.81s\n",
      "769:\tlearn: 0.2454957\ttotal: 6.04s\tremaining: 1.8s\n",
      "770:\tlearn: 0.2454633\ttotal: 6.04s\tremaining: 1.79s\n",
      "771:\tlearn: 0.2454333\ttotal: 6.05s\tremaining: 1.79s\n",
      "772:\tlearn: 0.2453912\ttotal: 6.05s\tremaining: 1.78s\n",
      "773:\tlearn: 0.2453523\ttotal: 6.06s\tremaining: 1.77s\n",
      "774:\tlearn: 0.2453174\ttotal: 6.07s\tremaining: 1.76s\n",
      "775:\tlearn: 0.2452687\ttotal: 6.08s\tremaining: 1.75s\n",
      "776:\tlearn: 0.2452223\ttotal: 6.09s\tremaining: 1.75s\n",
      "777:\tlearn: 0.2451662\ttotal: 6.1s\tremaining: 1.74s\n",
      "778:\tlearn: 0.2451253\ttotal: 6.11s\tremaining: 1.73s\n",
      "779:\tlearn: 0.2450595\ttotal: 6.11s\tremaining: 1.72s\n",
      "780:\tlearn: 0.2449799\ttotal: 6.12s\tremaining: 1.72s\n",
      "781:\tlearn: 0.2448691\ttotal: 6.13s\tremaining: 1.71s\n",
      "782:\tlearn: 0.2448353\ttotal: 6.13s\tremaining: 1.7s\n",
      "783:\tlearn: 0.2448009\ttotal: 6.14s\tremaining: 1.69s\n",
      "784:\tlearn: 0.2447132\ttotal: 6.15s\tremaining: 1.68s\n",
      "785:\tlearn: 0.2446932\ttotal: 6.17s\tremaining: 1.68s\n",
      "786:\tlearn: 0.2446317\ttotal: 6.18s\tremaining: 1.67s\n",
      "787:\tlearn: 0.2445512\ttotal: 6.19s\tremaining: 1.66s\n",
      "788:\tlearn: 0.2444783\ttotal: 6.2s\tremaining: 1.66s\n",
      "789:\tlearn: 0.2444386\ttotal: 6.21s\tremaining: 1.65s\n",
      "790:\tlearn: 0.2444225\ttotal: 6.21s\tremaining: 1.64s\n",
      "791:\tlearn: 0.2443615\ttotal: 6.22s\tremaining: 1.63s\n",
      "792:\tlearn: 0.2443201\ttotal: 6.24s\tremaining: 1.63s\n",
      "793:\tlearn: 0.2442352\ttotal: 6.25s\tremaining: 1.62s\n",
      "794:\tlearn: 0.2441954\ttotal: 6.28s\tremaining: 1.62s\n",
      "795:\tlearn: 0.2441748\ttotal: 6.29s\tremaining: 1.61s\n",
      "796:\tlearn: 0.2441532\ttotal: 6.31s\tremaining: 1.61s\n",
      "797:\tlearn: 0.2441043\ttotal: 6.33s\tremaining: 1.6s\n",
      "798:\tlearn: 0.2440244\ttotal: 6.34s\tremaining: 1.59s\n",
      "799:\tlearn: 0.2439265\ttotal: 6.35s\tremaining: 1.59s\n",
      "800:\tlearn: 0.2438811\ttotal: 6.36s\tremaining: 1.58s\n",
      "801:\tlearn: 0.2438591\ttotal: 6.37s\tremaining: 1.57s\n",
      "802:\tlearn: 0.2438158\ttotal: 6.38s\tremaining: 1.57s\n",
      "803:\tlearn: 0.2437637\ttotal: 6.39s\tremaining: 1.56s\n",
      "804:\tlearn: 0.2437027\ttotal: 6.41s\tremaining: 1.55s\n",
      "805:\tlearn: 0.2436598\ttotal: 6.42s\tremaining: 1.54s\n",
      "806:\tlearn: 0.2436171\ttotal: 6.43s\tremaining: 1.54s\n",
      "807:\tlearn: 0.2434812\ttotal: 6.44s\tremaining: 1.53s\n",
      "808:\tlearn: 0.2434298\ttotal: 6.45s\tremaining: 1.52s\n",
      "809:\tlearn: 0.2433964\ttotal: 6.46s\tremaining: 1.52s\n",
      "810:\tlearn: 0.2433203\ttotal: 6.47s\tremaining: 1.51s\n",
      "811:\tlearn: 0.2432897\ttotal: 6.48s\tremaining: 1.5s\n",
      "812:\tlearn: 0.2432357\ttotal: 6.5s\tremaining: 1.49s\n",
      "813:\tlearn: 0.2431911\ttotal: 6.51s\tremaining: 1.49s\n",
      "814:\tlearn: 0.2431125\ttotal: 6.52s\tremaining: 1.48s\n",
      "815:\tlearn: 0.2430295\ttotal: 6.54s\tremaining: 1.47s\n",
      "816:\tlearn: 0.2429979\ttotal: 6.55s\tremaining: 1.47s\n",
      "817:\tlearn: 0.2429275\ttotal: 6.56s\tremaining: 1.46s\n",
      "818:\tlearn: 0.2428849\ttotal: 6.58s\tremaining: 1.45s\n",
      "819:\tlearn: 0.2428562\ttotal: 6.59s\tremaining: 1.45s\n",
      "820:\tlearn: 0.2428054\ttotal: 6.6s\tremaining: 1.44s\n",
      "821:\tlearn: 0.2426900\ttotal: 6.61s\tremaining: 1.43s\n",
      "822:\tlearn: 0.2426532\ttotal: 6.62s\tremaining: 1.42s\n",
      "823:\tlearn: 0.2426370\ttotal: 6.63s\tremaining: 1.42s\n",
      "824:\tlearn: 0.2425448\ttotal: 6.64s\tremaining: 1.41s\n",
      "825:\tlearn: 0.2424944\ttotal: 6.64s\tremaining: 1.4s\n",
      "826:\tlearn: 0.2424844\ttotal: 6.65s\tremaining: 1.39s\n",
      "827:\tlearn: 0.2424014\ttotal: 6.65s\tremaining: 1.38s\n",
      "828:\tlearn: 0.2423511\ttotal: 6.66s\tremaining: 1.37s\n",
      "829:\tlearn: 0.2422025\ttotal: 6.67s\tremaining: 1.36s\n",
      "830:\tlearn: 0.2421803\ttotal: 6.67s\tremaining: 1.36s\n",
      "831:\tlearn: 0.2421432\ttotal: 6.68s\tremaining: 1.35s\n",
      "832:\tlearn: 0.2421222\ttotal: 6.69s\tremaining: 1.34s\n",
      "833:\tlearn: 0.2421025\ttotal: 6.69s\tremaining: 1.33s\n",
      "834:\tlearn: 0.2420837\ttotal: 6.7s\tremaining: 1.32s\n",
      "835:\tlearn: 0.2420443\ttotal: 6.7s\tremaining: 1.31s\n",
      "836:\tlearn: 0.2418843\ttotal: 6.71s\tremaining: 1.31s\n",
      "837:\tlearn: 0.2418522\ttotal: 6.71s\tremaining: 1.3s\n",
      "838:\tlearn: 0.2417182\ttotal: 6.72s\tremaining: 1.29s\n",
      "839:\tlearn: 0.2416589\ttotal: 6.72s\tremaining: 1.28s\n",
      "840:\tlearn: 0.2416121\ttotal: 6.73s\tremaining: 1.27s\n",
      "841:\tlearn: 0.2415412\ttotal: 6.74s\tremaining: 1.26s\n",
      "842:\tlearn: 0.2415190\ttotal: 6.74s\tremaining: 1.26s\n",
      "843:\tlearn: 0.2414490\ttotal: 6.75s\tremaining: 1.25s\n",
      "844:\tlearn: 0.2414303\ttotal: 6.75s\tremaining: 1.24s\n",
      "845:\tlearn: 0.2414122\ttotal: 6.76s\tremaining: 1.23s\n",
      "846:\tlearn: 0.2413412\ttotal: 6.76s\tremaining: 1.22s\n",
      "847:\tlearn: 0.2412130\ttotal: 6.77s\tremaining: 1.21s\n",
      "848:\tlearn: 0.2411927\ttotal: 6.77s\tremaining: 1.2s\n",
      "849:\tlearn: 0.2411542\ttotal: 6.78s\tremaining: 1.2s\n",
      "850:\tlearn: 0.2410760\ttotal: 6.78s\tremaining: 1.19s\n",
      "851:\tlearn: 0.2410164\ttotal: 6.79s\tremaining: 1.18s\n",
      "852:\tlearn: 0.2409762\ttotal: 6.79s\tremaining: 1.17s\n",
      "853:\tlearn: 0.2408969\ttotal: 6.8s\tremaining: 1.16s\n",
      "854:\tlearn: 0.2408245\ttotal: 6.8s\tremaining: 1.15s\n",
      "855:\tlearn: 0.2407588\ttotal: 6.81s\tremaining: 1.15s\n",
      "856:\tlearn: 0.2407195\ttotal: 6.82s\tremaining: 1.14s\n",
      "857:\tlearn: 0.2406220\ttotal: 6.82s\tremaining: 1.13s\n",
      "858:\tlearn: 0.2405664\ttotal: 6.83s\tremaining: 1.12s\n",
      "859:\tlearn: 0.2405338\ttotal: 6.83s\tremaining: 1.11s\n",
      "860:\tlearn: 0.2405003\ttotal: 6.85s\tremaining: 1.11s\n",
      "861:\tlearn: 0.2404257\ttotal: 6.86s\tremaining: 1.1s\n",
      "862:\tlearn: 0.2403734\ttotal: 6.87s\tremaining: 1.09s\n"
     ]
    },
    {
     "name": "stdout",
     "output_type": "stream",
     "text": [
      "863:\tlearn: 0.2402885\ttotal: 6.87s\tremaining: 1.08s\n",
      "864:\tlearn: 0.2402363\ttotal: 6.88s\tremaining: 1.07s\n",
      "865:\tlearn: 0.2401918\ttotal: 6.88s\tremaining: 1.06s\n",
      "866:\tlearn: 0.2401620\ttotal: 6.89s\tremaining: 1.06s\n",
      "867:\tlearn: 0.2401424\ttotal: 6.9s\tremaining: 1.05s\n",
      "868:\tlearn: 0.2400707\ttotal: 6.9s\tremaining: 1.04s\n",
      "869:\tlearn: 0.2400417\ttotal: 6.91s\tremaining: 1.03s\n",
      "870:\tlearn: 0.2399926\ttotal: 6.91s\tremaining: 1.02s\n",
      "871:\tlearn: 0.2399435\ttotal: 6.92s\tremaining: 1.02s\n",
      "872:\tlearn: 0.2399065\ttotal: 6.93s\tremaining: 1.01s\n",
      "873:\tlearn: 0.2398765\ttotal: 6.95s\tremaining: 1s\n",
      "874:\tlearn: 0.2398406\ttotal: 6.96s\tremaining: 994ms\n",
      "875:\tlearn: 0.2398003\ttotal: 6.96s\tremaining: 986ms\n",
      "876:\tlearn: 0.2397212\ttotal: 6.97s\tremaining: 978ms\n",
      "877:\tlearn: 0.2397042\ttotal: 6.97s\tremaining: 969ms\n",
      "878:\tlearn: 0.2396347\ttotal: 6.98s\tremaining: 961ms\n",
      "879:\tlearn: 0.2395890\ttotal: 6.99s\tremaining: 953ms\n",
      "880:\tlearn: 0.2395704\ttotal: 6.99s\tremaining: 944ms\n",
      "881:\tlearn: 0.2395288\ttotal: 7s\tremaining: 936ms\n",
      "882:\tlearn: 0.2395050\ttotal: 7s\tremaining: 928ms\n",
      "883:\tlearn: 0.2394821\ttotal: 7s\tremaining: 919ms\n",
      "884:\tlearn: 0.2394514\ttotal: 7.01s\tremaining: 911ms\n",
      "885:\tlearn: 0.2394270\ttotal: 7.01s\tremaining: 903ms\n",
      "886:\tlearn: 0.2393866\ttotal: 7.02s\tremaining: 894ms\n",
      "887:\tlearn: 0.2393481\ttotal: 7.03s\tremaining: 886ms\n",
      "888:\tlearn: 0.2393115\ttotal: 7.03s\tremaining: 878ms\n",
      "889:\tlearn: 0.2392768\ttotal: 7.04s\tremaining: 870ms\n",
      "890:\tlearn: 0.2392350\ttotal: 7.04s\tremaining: 862ms\n",
      "891:\tlearn: 0.2391222\ttotal: 7.05s\tremaining: 854ms\n",
      "892:\tlearn: 0.2390618\ttotal: 7.05s\tremaining: 845ms\n",
      "893:\tlearn: 0.2389909\ttotal: 7.07s\tremaining: 839ms\n",
      "894:\tlearn: 0.2389215\ttotal: 7.09s\tremaining: 831ms\n",
      "895:\tlearn: 0.2388579\ttotal: 7.09s\tremaining: 824ms\n",
      "896:\tlearn: 0.2388155\ttotal: 7.1s\tremaining: 816ms\n",
      "897:\tlearn: 0.2387028\ttotal: 7.11s\tremaining: 808ms\n",
      "898:\tlearn: 0.2386253\ttotal: 7.13s\tremaining: 801ms\n",
      "899:\tlearn: 0.2385827\ttotal: 7.13s\tremaining: 793ms\n",
      "900:\tlearn: 0.2385508\ttotal: 7.14s\tremaining: 785ms\n",
      "901:\tlearn: 0.2385138\ttotal: 7.15s\tremaining: 777ms\n",
      "902:\tlearn: 0.2384441\ttotal: 7.16s\tremaining: 769ms\n",
      "903:\tlearn: 0.2383955\ttotal: 7.17s\tremaining: 761ms\n",
      "904:\tlearn: 0.2383653\ttotal: 7.17s\tremaining: 753ms\n",
      "905:\tlearn: 0.2383460\ttotal: 7.19s\tremaining: 746ms\n",
      "906:\tlearn: 0.2383012\ttotal: 7.2s\tremaining: 738ms\n",
      "907:\tlearn: 0.2382677\ttotal: 7.22s\tremaining: 732ms\n",
      "908:\tlearn: 0.2382470\ttotal: 7.23s\tremaining: 724ms\n",
      "909:\tlearn: 0.2382318\ttotal: 7.24s\tremaining: 716ms\n",
      "910:\tlearn: 0.2382046\ttotal: 7.24s\tremaining: 707ms\n",
      "911:\tlearn: 0.2381848\ttotal: 7.25s\tremaining: 699ms\n",
      "912:\tlearn: 0.2381240\ttotal: 7.25s\tremaining: 691ms\n",
      "913:\tlearn: 0.2380703\ttotal: 7.26s\tremaining: 683ms\n",
      "914:\tlearn: 0.2380118\ttotal: 7.26s\tremaining: 675ms\n",
      "915:\tlearn: 0.2379736\ttotal: 7.27s\tremaining: 667ms\n",
      "916:\tlearn: 0.2379569\ttotal: 7.27s\tremaining: 658ms\n",
      "917:\tlearn: 0.2379268\ttotal: 7.28s\tremaining: 650ms\n",
      "918:\tlearn: 0.2378900\ttotal: 7.3s\tremaining: 643ms\n",
      "919:\tlearn: 0.2378804\ttotal: 7.3s\tremaining: 635ms\n",
      "920:\tlearn: 0.2378108\ttotal: 7.31s\tremaining: 627ms\n",
      "921:\tlearn: 0.2377860\ttotal: 7.31s\tremaining: 619ms\n",
      "922:\tlearn: 0.2377671\ttotal: 7.32s\tremaining: 611ms\n",
      "923:\tlearn: 0.2377104\ttotal: 7.32s\tremaining: 602ms\n",
      "924:\tlearn: 0.2376764\ttotal: 7.33s\tremaining: 594ms\n",
      "925:\tlearn: 0.2376149\ttotal: 7.34s\tremaining: 586ms\n",
      "926:\tlearn: 0.2375960\ttotal: 7.34s\tremaining: 578ms\n",
      "927:\tlearn: 0.2375560\ttotal: 7.35s\tremaining: 570ms\n",
      "928:\tlearn: 0.2375223\ttotal: 7.35s\tremaining: 562ms\n",
      "929:\tlearn: 0.2374493\ttotal: 7.36s\tremaining: 554ms\n",
      "930:\tlearn: 0.2373888\ttotal: 7.36s\tremaining: 546ms\n",
      "931:\tlearn: 0.2373636\ttotal: 7.37s\tremaining: 538ms\n",
      "932:\tlearn: 0.2373150\ttotal: 7.38s\tremaining: 530ms\n",
      "933:\tlearn: 0.2372382\ttotal: 7.38s\tremaining: 522ms\n",
      "934:\tlearn: 0.2371972\ttotal: 7.39s\tremaining: 514ms\n",
      "935:\tlearn: 0.2371599\ttotal: 7.4s\tremaining: 506ms\n",
      "936:\tlearn: 0.2371297\ttotal: 7.41s\tremaining: 498ms\n",
      "937:\tlearn: 0.2369972\ttotal: 7.42s\tremaining: 490ms\n",
      "938:\tlearn: 0.2369598\ttotal: 7.43s\tremaining: 482ms\n",
      "939:\tlearn: 0.2369200\ttotal: 7.43s\tremaining: 474ms\n",
      "940:\tlearn: 0.2368940\ttotal: 7.44s\tremaining: 466ms\n",
      "941:\tlearn: 0.2368402\ttotal: 7.44s\tremaining: 458ms\n",
      "942:\tlearn: 0.2367730\ttotal: 7.45s\tremaining: 450ms\n",
      "943:\tlearn: 0.2367126\ttotal: 7.46s\tremaining: 442ms\n",
      "944:\tlearn: 0.2366914\ttotal: 7.46s\tremaining: 434ms\n",
      "945:\tlearn: 0.2366627\ttotal: 7.48s\tremaining: 427ms\n",
      "946:\tlearn: 0.2366455\ttotal: 7.49s\tremaining: 419ms\n",
      "947:\tlearn: 0.2366329\ttotal: 7.49s\tremaining: 411ms\n",
      "948:\tlearn: 0.2365913\ttotal: 7.51s\tremaining: 404ms\n",
      "949:\tlearn: 0.2365657\ttotal: 7.52s\tremaining: 396ms\n",
      "950:\tlearn: 0.2365076\ttotal: 7.53s\tremaining: 388ms\n",
      "951:\tlearn: 0.2364653\ttotal: 7.54s\tremaining: 380ms\n",
      "952:\tlearn: 0.2364364\ttotal: 7.55s\tremaining: 372ms\n",
      "953:\tlearn: 0.2363792\ttotal: 7.55s\tremaining: 364ms\n",
      "954:\tlearn: 0.2363550\ttotal: 7.56s\tremaining: 356ms\n",
      "955:\tlearn: 0.2363332\ttotal: 7.56s\tremaining: 348ms\n",
      "956:\tlearn: 0.2363056\ttotal: 7.57s\tremaining: 340ms\n",
      "957:\tlearn: 0.2362706\ttotal: 7.58s\tremaining: 332ms\n",
      "958:\tlearn: 0.2362439\ttotal: 7.58s\tremaining: 324ms\n",
      "959:\tlearn: 0.2361879\ttotal: 7.6s\tremaining: 317ms\n",
      "960:\tlearn: 0.2361554\ttotal: 7.61s\tremaining: 309ms\n",
      "961:\tlearn: 0.2360941\ttotal: 7.62s\tremaining: 301ms\n",
      "962:\tlearn: 0.2360537\ttotal: 7.62s\tremaining: 293ms\n",
      "963:\tlearn: 0.2360240\ttotal: 7.63s\tremaining: 285ms\n",
      "964:\tlearn: 0.2359509\ttotal: 7.63s\tremaining: 277ms\n",
      "965:\tlearn: 0.2358992\ttotal: 7.64s\tremaining: 269ms\n",
      "966:\tlearn: 0.2358536\ttotal: 7.65s\tremaining: 261ms\n",
      "967:\tlearn: 0.2358389\ttotal: 7.65s\tremaining: 253ms\n",
      "968:\tlearn: 0.2358038\ttotal: 7.66s\tremaining: 245ms\n",
      "969:\tlearn: 0.2357853\ttotal: 7.66s\tremaining: 237ms\n",
      "970:\tlearn: 0.2357267\ttotal: 7.67s\tremaining: 229ms\n",
      "971:\tlearn: 0.2356834\ttotal: 7.67s\tremaining: 221ms\n",
      "972:\tlearn: 0.2356019\ttotal: 7.68s\tremaining: 213ms\n",
      "973:\tlearn: 0.2355528\ttotal: 7.68s\tremaining: 205ms\n",
      "974:\tlearn: 0.2355326\ttotal: 7.69s\tremaining: 197ms\n",
      "975:\tlearn: 0.2355071\ttotal: 7.7s\tremaining: 189ms\n",
      "976:\tlearn: 0.2354517\ttotal: 7.7s\tremaining: 181ms\n",
      "977:\tlearn: 0.2353673\ttotal: 7.71s\tremaining: 173ms\n",
      "978:\tlearn: 0.2353433\ttotal: 7.71s\tremaining: 165ms\n",
      "979:\tlearn: 0.2352484\ttotal: 7.72s\tremaining: 158ms\n",
      "980:\tlearn: 0.2352162\ttotal: 7.72s\tremaining: 150ms\n",
      "981:\tlearn: 0.2351790\ttotal: 7.73s\tremaining: 142ms\n",
      "982:\tlearn: 0.2351272\ttotal: 7.73s\tremaining: 134ms\n",
      "983:\tlearn: 0.2350826\ttotal: 7.74s\tremaining: 126ms\n",
      "984:\tlearn: 0.2350631\ttotal: 7.75s\tremaining: 118ms\n",
      "985:\tlearn: 0.2350319\ttotal: 7.75s\tremaining: 110ms\n",
      "986:\tlearn: 0.2349741\ttotal: 7.76s\tremaining: 102ms\n",
      "987:\tlearn: 0.2349605\ttotal: 7.76s\tremaining: 94.3ms\n",
      "988:\tlearn: 0.2349289\ttotal: 7.77s\tremaining: 86.4ms\n",
      "989:\tlearn: 0.2348626\ttotal: 7.78s\tremaining: 78.6ms\n",
      "990:\tlearn: 0.2348334\ttotal: 7.78s\tremaining: 70.7ms\n",
      "991:\tlearn: 0.2348065\ttotal: 7.79s\tremaining: 62.8ms\n",
      "992:\tlearn: 0.2347697\ttotal: 7.79s\tremaining: 54.9ms\n",
      "993:\tlearn: 0.2347538\ttotal: 7.8s\tremaining: 47.1ms\n",
      "994:\tlearn: 0.2347255\ttotal: 7.8s\tremaining: 39.2ms\n",
      "995:\tlearn: 0.2346921\ttotal: 7.81s\tremaining: 31.4ms\n",
      "996:\tlearn: 0.2346195\ttotal: 7.82s\tremaining: 23.5ms\n",
      "997:\tlearn: 0.2345420\ttotal: 7.82s\tremaining: 15.7ms\n",
      "998:\tlearn: 0.2344979\ttotal: 7.83s\tremaining: 7.84ms\n",
      "999:\tlearn: 0.2344608\ttotal: 7.84s\tremaining: 0us\n"
     ]
    }
   ],
   "source": [
    "%%capture\n",
    "model = CatBoostRegressor()\n",
    "model.fit(x_train_20, y_train_20)"
   ]
  },
  {
   "cell_type": "code",
   "execution_count": 118,
   "id": "d76be8b6",
   "metadata": {},
   "outputs": [
    {
     "name": "stdout",
     "output_type": "stream",
     "text": [
      "0.11040445928652741\n"
     ]
    }
   ],
   "source": [
    "y_pred_20 = model.predict(x_test_20)\n",
    "# Calculation of Mean Squared Error (MSE)\n",
    "mse = mean_squared_error(y_test_20, y_pred_20)\n",
    "print(mse)"
   ]
  },
  {
   "cell_type": "code",
   "execution_count": 119,
   "id": "f663aab7",
   "metadata": {},
   "outputs": [
    {
     "name": "stdout",
     "output_type": "stream",
     "text": [
      "0.3712956159686505\n"
     ]
    }
   ],
   "source": [
    "acc = accuracy_threshold(y_test_20, y_pred_20, 0.1)\n",
    "print(acc)"
   ]
  },
  {
   "cell_type": "code",
   "execution_count": 120,
   "id": "71f5ba51",
   "metadata": {},
   "outputs": [
    {
     "name": "stdout",
     "output_type": "stream",
     "text": [
      "Median Absolute Error:\n",
      "\n",
      "0.1416679873715676\n"
     ]
    }
   ],
   "source": [
    "median_se = np.square(np.subtract(y_test_20, y_pred_20)).median() \n",
    " \n",
    "med = math.sqrt(median_se)\n",
    "print(\"Median Absolute Error:\\n\")\n",
    "print(med)"
   ]
  },
  {
   "cell_type": "code",
   "execution_count": 121,
   "id": "0df8593f",
   "metadata": {},
   "outputs": [
    {
     "name": "stdout",
     "output_type": "stream",
     "text": [
      "Root Mean Square Error:\n",
      "\n",
      "0.33227166488662147\n"
     ]
    }
   ],
   "source": [
    "mean = np.square(np.subtract(y_test_20, y_pred_20)).mean() \n",
    " \n",
    "mean = math.sqrt(mean)\n",
    "print(\"Root Mean Square Error:\\n\")\n",
    "print(mean)"
   ]
  },
  {
   "cell_type": "code",
   "execution_count": 122,
   "id": "806840da",
   "metadata": {},
   "outputs": [
    {
     "name": "stdout",
     "output_type": "stream",
     "text": [
      "MAPE for CatBoost 2020 is: 0.016893134049152922\n"
     ]
    }
   ],
   "source": [
    "mape = mean_absolute_percentage_error(y_test_20, y_pred_20)\n",
    "print(\"MAPE for CatBoost 2020 is: \" + str(mape))"
   ]
  },
  {
   "cell_type": "code",
   "execution_count": 123,
   "id": "0d585c1e",
   "metadata": {},
   "outputs": [],
   "source": [
    "cnames=['Algorithm', 'Year', 'RMSE', 'MSE', 'MEDAE', 'Accuracy', 'MAPE']\n",
    "df2 = pd.DataFrame(columns=cnames)\n",
    "\n",
    "df2 = df2.append({'Algorithm': 'CatBoost',\n",
    "            'Year': 2020,\n",
    "           'RMSE': mean,\n",
    "           'MSE': mse,\n",
    "           'MEDAE': med,\n",
    "           'Accuracy': acc,\n",
    "           'MAPE': mape       \n",
    "          }, ignore_index=True)"
   ]
  },
  {
   "cell_type": "markdown",
   "id": "9e1bd141",
   "metadata": {},
   "source": [
    "### Bayesian Ridge"
   ]
  },
  {
   "cell_type": "markdown",
   "id": "1421f212",
   "metadata": {},
   "source": [
    "#### 2021"
   ]
  },
  {
   "cell_type": "code",
   "execution_count": 124,
   "id": "35158c1f",
   "metadata": {},
   "outputs": [],
   "source": [
    "from sklearn.linear_model import BayesianRidge, LinearRegression"
   ]
  },
  {
   "cell_type": "code",
   "execution_count": 125,
   "id": "00491334",
   "metadata": {},
   "outputs": [
    {
     "data": {
      "text/plain": [
       "BayesianRidge()"
      ]
     },
     "execution_count": 125,
     "metadata": {},
     "output_type": "execute_result"
    }
   ],
   "source": [
    "clf = BayesianRidge()\n",
    "clf.fit(x_train_21, y_train_21)"
   ]
  },
  {
   "cell_type": "code",
   "execution_count": 126,
   "id": "1380ed38",
   "metadata": {},
   "outputs": [
    {
     "name": "stdout",
     "output_type": "stream",
     "text": [
      "0.12543182660494895\n"
     ]
    }
   ],
   "source": [
    "y_pred_21 = clf.predict(x_test_21)\n",
    "# Calculation of Mean Squared Error (MSE)\n",
    "mse = mean_squared_error(y_test_21, y_pred_21)\n",
    "print(mse)"
   ]
  },
  {
   "cell_type": "code",
   "execution_count": 127,
   "id": "3a48b954",
   "metadata": {},
   "outputs": [
    {
     "name": "stdout",
     "output_type": "stream",
     "text": [
      "0.31996156617823684\n"
     ]
    }
   ],
   "source": [
    "acc = accuracy_threshold(y_test_21, y_pred_21, 0.1)\n",
    "print(acc)"
   ]
  },
  {
   "cell_type": "code",
   "execution_count": 128,
   "id": "e38bd984",
   "metadata": {},
   "outputs": [
    {
     "name": "stdout",
     "output_type": "stream",
     "text": [
      "Median Absolute Error:\n",
      "\n",
      "0.16386536959626774\n"
     ]
    }
   ],
   "source": [
    "median_se = np.square(np.subtract(y_test_21, y_pred_21)).median() \n",
    " \n",
    "med = math.sqrt(median_se)\n",
    "print(\"Median Absolute Error:\\n\")\n",
    "print(med)"
   ]
  },
  {
   "cell_type": "code",
   "execution_count": 129,
   "id": "5e38e2ed",
   "metadata": {},
   "outputs": [
    {
     "name": "stdout",
     "output_type": "stream",
     "text": [
      "Root Mean Square Error:\n",
      "\n",
      "0.35416355911492203\n"
     ]
    }
   ],
   "source": [
    "mean = np.square(np.subtract(y_test_21, y_pred_21)).mean() \n",
    " \n",
    "mean = math.sqrt(mean)\n",
    "print(\"Root Mean Square Error:\\n\")\n",
    "print(mean)"
   ]
  },
  {
   "cell_type": "code",
   "execution_count": 130,
   "id": "63f02c5c",
   "metadata": {},
   "outputs": [
    {
     "name": "stdout",
     "output_type": "stream",
     "text": [
      "MAPE for BayesianRidge 2021 is: 0.018922308115674278\n"
     ]
    }
   ],
   "source": [
    "mape = mean_absolute_percentage_error(y_test_21, y_pred_21)\n",
    "print(\"MAPE for BayesianRidge 2021 is: \" + str(mape))"
   ]
  },
  {
   "cell_type": "code",
   "execution_count": 131,
   "id": "9c1019b2",
   "metadata": {},
   "outputs": [],
   "source": [
    "cnames=['Algorithm', 'Year', 'RMSE', 'MSE', 'MEDAE', 'Accuracy', 'MAPE']\n",
    "df1 = pd.DataFrame(columns=cnames)\n",
    "\n",
    "df1 = df1.append({'Algorithm': 'Bayesian',\n",
    "            'Year': 2021,\n",
    "           'RMSE': mean,\n",
    "           'MSE': mse,\n",
    "           'MEDAE': med,\n",
    "           'Accuracy': acc,\n",
    "           'MAPE': mape       \n",
    "          }, ignore_index=True)"
   ]
  },
  {
   "cell_type": "markdown",
   "id": "bd4b02bb",
   "metadata": {},
   "source": [
    "#### 2020"
   ]
  },
  {
   "cell_type": "code",
   "execution_count": 132,
   "id": "583e22dc",
   "metadata": {},
   "outputs": [
    {
     "data": {
      "text/plain": [
       "BayesianRidge()"
      ]
     },
     "execution_count": 132,
     "metadata": {},
     "output_type": "execute_result"
    }
   ],
   "source": [
    "clf = BayesianRidge()\n",
    "clf.fit(x_train_20, y_train_20)"
   ]
  },
  {
   "cell_type": "code",
   "execution_count": 133,
   "id": "8db9cb3e",
   "metadata": {},
   "outputs": [
    {
     "name": "stdout",
     "output_type": "stream",
     "text": [
      "0.1290174636967731\n"
     ]
    }
   ],
   "source": [
    "y_pred_20 = clf.predict(x_test_20)\n",
    "# Calculation of Mean Squared Error (MSE)\n",
    "mse = mean_squared_error(y_test_20, y_pred_20)\n",
    "print(mse)"
   ]
  },
  {
   "cell_type": "code",
   "execution_count": 134,
   "id": "d52ba61f",
   "metadata": {},
   "outputs": [
    {
     "name": "stdout",
     "output_type": "stream",
     "text": [
      "0.34215037962282635\n"
     ]
    }
   ],
   "source": [
    "acc = accuracy_threshold(y_test_20, y_pred_20, 0.1)\n",
    "print(acc)"
   ]
  },
  {
   "cell_type": "code",
   "execution_count": 135,
   "id": "d4500d2d",
   "metadata": {},
   "outputs": [
    {
     "name": "stdout",
     "output_type": "stream",
     "text": [
      "Median Absolute Error:\n",
      "\n",
      "0.1584423236364252\n"
     ]
    }
   ],
   "source": [
    "median_se = np.square(np.subtract(y_test_20, y_pred_20)).median() \n",
    " \n",
    "med = math.sqrt(median_se)\n",
    "print(\"Median Absolute Error:\\n\")\n",
    "print(med)"
   ]
  },
  {
   "cell_type": "code",
   "execution_count": 136,
   "id": "ce5624d8",
   "metadata": {},
   "outputs": [
    {
     "name": "stdout",
     "output_type": "stream",
     "text": [
      "Root Mean Square Error:\n",
      "\n",
      "0.35919001057486716\n"
     ]
    }
   ],
   "source": [
    "mean = np.square(np.subtract(y_test_20, y_pred_20)).mean() \n",
    " \n",
    "mean = math.sqrt(mean)\n",
    "print(\"Root Mean Square Error:\\n\")\n",
    "print(mean)"
   ]
  },
  {
   "cell_type": "code",
   "execution_count": 137,
   "id": "47802a1e",
   "metadata": {},
   "outputs": [
    {
     "name": "stdout",
     "output_type": "stream",
     "text": [
      "MAPE for BayesianRidge 2021 is: 0.018894259945875607\n"
     ]
    }
   ],
   "source": [
    "mape = mean_absolute_percentage_error(y_test_20, y_pred_20)\n",
    "print(\"MAPE for BayesianRidge 2021 is: \" + str(mape))"
   ]
  },
  {
   "cell_type": "code",
   "execution_count": 138,
   "id": "8c6caf77",
   "metadata": {},
   "outputs": [],
   "source": [
    "cnames=['Algorithm', 'Year', 'RMSE', 'MSE', 'MEDAE', 'Accuracy', 'MAPE']\n",
    "df = pd.DataFrame(columns=cnames)\n",
    "\n",
    "df = df.append({'Algorithm': 'Bayesian',\n",
    "           'Year': 2020,\n",
    "           'RMSE': mean,\n",
    "           'MSE': mse,\n",
    "           'MEDAE': med,\n",
    "           'Accuracy': acc,\n",
    "           'MAPE': mape     \n",
    "          }, ignore_index=True)"
   ]
  },
  {
   "cell_type": "code",
   "execution_count": 139,
   "id": "001ed65f",
   "metadata": {},
   "outputs": [],
   "source": [
    "vis = pd.concat([df, df1, df2, df3, df4, df5, df6, df7, df8, df9, df10, df11], ignore_index=True)"
   ]
  },
  {
   "cell_type": "markdown",
   "id": "ebe84e60",
   "metadata": {},
   "source": [
    "## Let's test on more years of data now\n",
    "### 2019"
   ]
  },
  {
   "cell_type": "code",
   "execution_count": 140,
   "id": "a28e082d",
   "metadata": {},
   "outputs": [],
   "source": [
    "specific19 = irl[irl['Year'] > 2015]"
   ]
  },
  {
   "cell_type": "code",
   "execution_count": 141,
   "id": "8f1319f8",
   "metadata": {},
   "outputs": [],
   "source": [
    "test_19 = specific19[specific19['Year'] == 2019]\n",
    "train_19 = specific19[specific19['Year'] < 2019]"
   ]
  },
  {
   "cell_type": "code",
   "execution_count": 142,
   "id": "8417a368",
   "metadata": {},
   "outputs": [],
   "source": [
    "x_train_19 = train_19.loc[:, train_19.columns != 'PriceLog']\n",
    "y_train_19 = train_19['PriceLog']\n",
    "x_test_19 = test_19.loc[:, test_19.columns != 'PriceLog']\n",
    "y_test_19 = test_19['PriceLog']"
   ]
  },
  {
   "cell_type": "markdown",
   "id": "c3a2cce4",
   "metadata": {},
   "source": [
    "#### AutoML"
   ]
  },
  {
   "cell_type": "code",
   "execution_count": 143,
   "id": "4828a079",
   "metadata": {},
   "outputs": [
    {
     "name": "stdout",
     "output_type": "stream",
     "text": [
      "Linear algorithm was disabled.\n",
      "AutoML directory: AutoML_3\n",
      "The task is regression with evaluation metric rmse\n",
      "AutoML will use algorithms: ['Baseline', 'Decision Tree', 'Random Forest', 'Xgboost', 'Neural Network']\n",
      "AutoML will ensemble available models\n",
      "AutoML steps: ['simple_algorithms', 'default_algorithms', 'ensemble']\n",
      "* Step simple_algorithms will try to check up to 2 models\n",
      "1_Baseline rmse 0.602206 trained in 1.45 seconds\n",
      "2_DecisionTree rmse 0.434189 trained in 7.87 seconds\n",
      "* Step default_algorithms will try to check up to 3 models\n",
      "3_Default_Xgboost rmse 0.292794 trained in 14.91 seconds\n",
      "4_Default_NeuralNetwork rmse 0.375956 trained in 2.86 seconds\n",
      "5_Default_RandomForest rmse 0.385708 trained in 6.22 seconds\n",
      "* Step ensemble will try to check up to 1 model\n",
      "Ensemble rmse 0.292794 trained in 0.32 seconds\n",
      "AutoML fit time: 51.51 seconds\n",
      "AutoML best model: 3_Default_Xgboost\n"
     ]
    },
    {
     "data": {
      "text/plain": [
       "AutoML(explain_level=2, total_time_limit=300)"
      ]
     },
     "execution_count": 143,
     "metadata": {},
     "output_type": "execute_result"
    }
   ],
   "source": [
    "automl = AutoML(total_time_limit = 5 * 60, explain_level = 2)\n",
    "automl.fit(x_train_19, y_train_19)"
   ]
  },
  {
   "cell_type": "code",
   "execution_count": 144,
   "id": "b4537cbc",
   "metadata": {},
   "outputs": [
    {
     "name": "stdout",
     "output_type": "stream",
     "text": [
      "MSE for AutoML 2019 is: 0.152035510663555\n"
     ]
    }
   ],
   "source": [
    "y_pred_19 = automl.predict(x_test_19)\n",
    "# Calculation of Mean Squared Error (MSE)\n",
    "mse = mean_squared_error(y_test_19, y_pred_19)\n",
    "print('MSE for AutoML 2019 is: ' + str(mse))"
   ]
  },
  {
   "cell_type": "code",
   "execution_count": 145,
   "id": "f339b06f",
   "metadata": {},
   "outputs": [
    {
     "name": "stdout",
     "output_type": "stream",
     "text": [
      "Accuracy of properties at +- 10% of actual prices is 0.3904382470119522\n"
     ]
    }
   ],
   "source": [
    "acc = accuracy_threshold(y_test_19, y_pred_19, 0.1)\n",
    "print('Accuracy of properties at +- 10% of actual prices is ' + str(acc))"
   ]
  },
  {
   "cell_type": "code",
   "execution_count": 146,
   "id": "c4efa50f",
   "metadata": {},
   "outputs": [
    {
     "name": "stdout",
     "output_type": "stream",
     "text": [
      "RMSE for AutoML 2019 is: 0.38991731259788276\n"
     ]
    }
   ],
   "source": [
    "rmse = mean_squared_error(y_test_19, y_pred_19, squared=False)\n",
    "print('RMSE for AutoML 2019 is: ' + str(rmse))"
   ]
  },
  {
   "cell_type": "code",
   "execution_count": 147,
   "id": "27785851",
   "metadata": {},
   "outputs": [
    {
     "name": "stdout",
     "output_type": "stream",
     "text": [
      "Median Absolute Error:\n",
      "\n",
      "0.13404596887474618\n"
     ]
    }
   ],
   "source": [
    "median_se = np.square(np.subtract(y_test_19, y_pred_19)).median() \n",
    " \n",
    "med = math.sqrt(median_se)\n",
    "print(\"Median Absolute Error:\\n\")\n",
    "print(med)"
   ]
  },
  {
   "cell_type": "code",
   "execution_count": 148,
   "id": "6f9d464d",
   "metadata": {},
   "outputs": [
    {
     "name": "stdout",
     "output_type": "stream",
     "text": [
      "MAPE for AutoML 2019 is: 0.017983648445562793\n"
     ]
    }
   ],
   "source": [
    "mape = mean_absolute_percentage_error(y_test_19, y_pred_19)\n",
    "print(\"MAPE for AutoML 2019 is: \" + str(mape))"
   ]
  },
  {
   "cell_type": "code",
   "execution_count": 149,
   "id": "8721e6a7",
   "metadata": {},
   "outputs": [],
   "source": [
    "cnames = ['Algorithm', 'Year', 'RMSE', 'MSE', 'MEDAE', 'Accuracy', 'MAPE']\n",
    "df12 = pd.DataFrame(columns = cnames)\n",
    "\n",
    "df12 = df12.append({'Algorithm': 'AutoML',\n",
    "           'Year': 2019,\n",
    "           'RMSE': rmse,\n",
    "           'MSE': mse,\n",
    "           'MEDAE': med,\n",
    "           'Accuracy': acc,\n",
    "           'MAPE': mape         \n",
    "          }, ignore_index = True)"
   ]
  },
  {
   "cell_type": "code",
   "execution_count": 150,
   "id": "3d0997f5",
   "metadata": {},
   "outputs": [],
   "source": [
    "#cnames = ['Actual', 'Predicted']\n",
    "#dfreal3 = pd.DataFrame(columns = cnames)\n",
    "dfreal3 = pd.DataFrame(y_test_19.values)\n",
    "dfpred3 = pd.DataFrame(y_pred_19)\n",
    "#dfreal3 = pd.concat([z1, z2], ignore_index=True)"
   ]
  },
  {
   "cell_type": "markdown",
   "id": "ca2efb79",
   "metadata": {},
   "source": [
    "### MLR"
   ]
  },
  {
   "cell_type": "code",
   "execution_count": 151,
   "id": "275ddaff",
   "metadata": {},
   "outputs": [
    {
     "name": "stdout",
     "output_type": "stream",
     "text": [
      "MSE for MLR 2019 is: 0.16675034048679482\n"
     ]
    }
   ],
   "source": [
    "lm = linear_model.LinearRegression()\n",
    "lm.fit(x_train_19, y_train_19) # fitting the model\n",
    "y_pred_19 = lm.predict(x_test_19)\n",
    "# Calculation of Mean Squared Error (MSE)\n",
    "mse = mean_squared_error(y_test_19, y_pred_19)\n",
    "print('MSE for MLR 2019 is: ' + str(mse))"
   ]
  },
  {
   "cell_type": "code",
   "execution_count": 152,
   "id": "7b81a829",
   "metadata": {},
   "outputs": [
    {
     "name": "stdout",
     "output_type": "stream",
     "text": [
      "RMSE for MLR 2019 is: 0.408350756686938\n"
     ]
    }
   ],
   "source": [
    "rmse = mean_squared_error(y_test_19, y_pred_19, squared = False)\n",
    "print('RMSE for MLR 2019 is: ' + str(rmse))"
   ]
  },
  {
   "cell_type": "code",
   "execution_count": 153,
   "id": "667a1d99",
   "metadata": {},
   "outputs": [
    {
     "name": "stdout",
     "output_type": "stream",
     "text": [
      "Median Absolute Error:\n",
      "\n",
      "0.15184578296245732\n"
     ]
    }
   ],
   "source": [
    "median_se = np.square(np.subtract(y_test_19, y_pred_19)).median() \n",
    " \n",
    "med = math.sqrt(median_se)\n",
    "print(\"Median Absolute Error:\\n\")\n",
    "print(med)"
   ]
  },
  {
   "cell_type": "code",
   "execution_count": 154,
   "id": "7677f5ef",
   "metadata": {},
   "outputs": [
    {
     "name": "stdout",
     "output_type": "stream",
     "text": [
      "Accuracy of properties at +- 10% of actual prices is 0.35101698469280773\n"
     ]
    }
   ],
   "source": [
    "acc = accuracy_threshold(y_test_19, y_pred_19, 0.1)\n",
    "print('Accuracy of properties at +- 10% of actual prices is ' + str(acc))"
   ]
  },
  {
   "cell_type": "code",
   "execution_count": 155,
   "id": "bf56c4b5",
   "metadata": {},
   "outputs": [
    {
     "name": "stdout",
     "output_type": "stream",
     "text": [
      "MAPE for MLR 2021 is: 0.01978454503060817\n"
     ]
    }
   ],
   "source": [
    "mape = mean_absolute_percentage_error(y_test_19, y_pred_19)\n",
    "print(\"MAPE for MLR 2021 is: \" + str(mape))"
   ]
  },
  {
   "cell_type": "code",
   "execution_count": 156,
   "id": "73c874fe",
   "metadata": {},
   "outputs": [],
   "source": [
    "cnames = ['Algorithm', 'Year', 'RMSE', 'MSE', 'MEDAE', 'Accuracy', 'MAPE']\n",
    "df13 = pd.DataFrame(columns = cnames)\n",
    "\n",
    "df13 = df13.append({'Algorithm': 'MLR',\n",
    "           'Year': 2019,\n",
    "           'RMSE': rmse,\n",
    "           'MSE': mse,\n",
    "           'MEDAE': med,\n",
    "           'Accuracy': acc,\n",
    "           'MAPE': mape         \n",
    "          }, ignore_index = True)"
   ]
  },
  {
   "cell_type": "markdown",
   "id": "7d2dfd92",
   "metadata": {},
   "source": [
    "### AdaBoost"
   ]
  },
  {
   "cell_type": "code",
   "execution_count": 157,
   "id": "38c87d78",
   "metadata": {},
   "outputs": [
    {
     "name": "stdout",
     "output_type": "stream",
     "text": [
      "MSE for AdaBoost 2019 is: 0.21417281920732048\n"
     ]
    }
   ],
   "source": [
    "model = AdaBoostRegressor()\n",
    "model.fit(x_train_19, y_train_19)\n",
    "y_pred_19 = model.predict(x_test_19)\n",
    "# Calculation of Mean Squared Error (MSE)\n",
    "mse = mean_squared_error(y_test_19, y_pred_19)\n",
    "print('MSE for AdaBoost 2019 is: ' + str(mse))"
   ]
  },
  {
   "cell_type": "code",
   "execution_count": 158,
   "id": "74084674",
   "metadata": {},
   "outputs": [
    {
     "name": "stdout",
     "output_type": "stream",
     "text": [
      "RMSE for MLR 2019 is: 0.46278809319959874\n"
     ]
    }
   ],
   "source": [
    "rmse = mean_squared_error(y_test_19, y_pred_19, squared = False)\n",
    "print('RMSE for MLR 2019 is: ' + str(rmse))"
   ]
  },
  {
   "cell_type": "code",
   "execution_count": 159,
   "id": "1ad6d4b4",
   "metadata": {},
   "outputs": [
    {
     "name": "stdout",
     "output_type": "stream",
     "text": [
      "Median Absolute Error:\n",
      "\n",
      "0.19070120461189433\n"
     ]
    }
   ],
   "source": [
    "median_se = np.square(np.subtract(y_test_19, y_pred_19)).median() \n",
    " \n",
    "med = math.sqrt(median_se)\n",
    "print(\"Median Absolute Error:\\n\")\n",
    "print(med)"
   ]
  },
  {
   "cell_type": "code",
   "execution_count": 160,
   "id": "8597e974",
   "metadata": {},
   "outputs": [
    {
     "name": "stdout",
     "output_type": "stream",
     "text": [
      "Accuracy of properties at +- 10% of actual prices is 0.2746907108408471\n"
     ]
    }
   ],
   "source": [
    "acc = accuracy_threshold(y_test_19, y_pred_19, 0.1)\n",
    "print('Accuracy of properties at +- 10% of actual prices is ' + str(acc))"
   ]
  },
  {
   "cell_type": "code",
   "execution_count": 161,
   "id": "c6d16020",
   "metadata": {},
   "outputs": [
    {
     "name": "stdout",
     "output_type": "stream",
     "text": [
      "MAPE for AdaBoost 2019 is: 0.02375451614073551\n"
     ]
    }
   ],
   "source": [
    "mape = mean_absolute_percentage_error(y_test_19, y_pred_19)\n",
    "print(\"MAPE for AdaBoost 2019 is: \" + str(mape))"
   ]
  },
  {
   "cell_type": "code",
   "execution_count": 162,
   "id": "e1bef803",
   "metadata": {},
   "outputs": [],
   "source": [
    "cnames = ['Algorithm', 'Year', 'RMSE', 'MSE', 'MEDAE', 'Accuracy', 'MAPE']\n",
    "df14 = pd.DataFrame(columns = cnames)\n",
    "\n",
    "df14 = df14.append({'Algorithm': 'AdaBoost',\n",
    "           'Year': 2019,\n",
    "           'RMSE': rmse,\n",
    "           'MSE': mse,\n",
    "           'MEDAE': med,\n",
    "           'Accuracy': acc,\n",
    "           'MAPE': mape         \n",
    "          }, ignore_index = True)"
   ]
  },
  {
   "cell_type": "markdown",
   "id": "1938ea84",
   "metadata": {},
   "source": [
    "### LightGBM"
   ]
  },
  {
   "cell_type": "code",
   "execution_count": 163,
   "id": "32f45b77",
   "metadata": {},
   "outputs": [
    {
     "name": "stdout",
     "output_type": "stream",
     "text": [
      "MSE for LightGBM 2019 is: 0.14278648492827517\n"
     ]
    }
   ],
   "source": [
    "model = LGBMRegressor()\n",
    "model.fit(x_train_19, y_train_19)\n",
    "y_pred_19 = model.predict(x_test_19)\n",
    "# Calculation of Mean Squared Error (MSE)\n",
    "mse = mean_squared_error(y_test_19, y_pred_19)\n",
    "print('MSE for LightGBM 2019 is: ' + str(mse))"
   ]
  },
  {
   "cell_type": "code",
   "execution_count": 164,
   "id": "5b08f229",
   "metadata": {},
   "outputs": [
    {
     "name": "stdout",
     "output_type": "stream",
     "text": [
      "RMSE for LightGBM 2019 is: 0.37787098979450007\n"
     ]
    }
   ],
   "source": [
    "rmse = mean_squared_error(y_test_19, y_pred_19, squared = False)\n",
    "print('RMSE for LightGBM 2019 is: ' + str(rmse))"
   ]
  },
  {
   "cell_type": "code",
   "execution_count": 165,
   "id": "6e81490b",
   "metadata": {},
   "outputs": [
    {
     "name": "stdout",
     "output_type": "stream",
     "text": [
      "Median Absolute Error:\n",
      "\n",
      "0.13926169820193657\n"
     ]
    }
   ],
   "source": [
    "median_se = np.square(np.subtract(y_test_19, y_pred_19)).median() \n",
    " \n",
    "med = math.sqrt(median_se)\n",
    "print(\"Median Absolute Error:\\n\")\n",
    "print(med)"
   ]
  },
  {
   "cell_type": "code",
   "execution_count": 166,
   "id": "620c3251",
   "metadata": {},
   "outputs": [
    {
     "name": "stdout",
     "output_type": "stream",
     "text": [
      "Accuracy of properties at +- 10% of actual prices is 0.3797441811700566\n"
     ]
    }
   ],
   "source": [
    "acc = accuracy_threshold(y_test_19, y_pred_19, 0.1)\n",
    "print('Accuracy of properties at +- 10% of actual prices is ' + str(acc))"
   ]
  },
  {
   "cell_type": "code",
   "execution_count": 167,
   "id": "8bab1881",
   "metadata": {},
   "outputs": [
    {
     "name": "stdout",
     "output_type": "stream",
     "text": [
      "MAPE for LightGBM 2019 is: 0.018046908644365367\n"
     ]
    }
   ],
   "source": [
    "mape = mean_absolute_percentage_error(y_test_19, y_pred_19)\n",
    "print(\"MAPE for LightGBM 2019 is: \" + str(mape))"
   ]
  },
  {
   "cell_type": "code",
   "execution_count": 168,
   "id": "68e44550",
   "metadata": {},
   "outputs": [],
   "source": [
    "cnames = ['Algorithm', 'Year', 'RMSE', 'MSE', 'MEDAE', 'Accuracy', 'MAPE']\n",
    "df15 = pd.DataFrame(columns = cnames)\n",
    "\n",
    "df15 = df15.append({'Algorithm': 'LightGBM',\n",
    "           'Year': 2019,\n",
    "           'RMSE': rmse,\n",
    "           'MSE': mse,\n",
    "           'MEDAE': med,\n",
    "           'Accuracy': acc,\n",
    "           'MAPE': mape         \n",
    "          }, ignore_index = True)"
   ]
  },
  {
   "cell_type": "markdown",
   "id": "0c32398d",
   "metadata": {},
   "source": [
    "### CatBoost"
   ]
  },
  {
   "cell_type": "code",
   "execution_count": 169,
   "id": "18c72840",
   "metadata": {},
   "outputs": [
    {
     "name": "stdout",
     "output_type": "stream",
     "text": [
      "Learning rate set to 0.065242\n",
      "0:\tlearn: 0.5723513\ttotal: 5.55ms\tremaining: 5.55s\n",
      "1:\tlearn: 0.5541408\ttotal: 11.3ms\tremaining: 5.63s\n",
      "2:\tlearn: 0.5377662\ttotal: 26.1ms\tremaining: 8.69s\n",
      "3:\tlearn: 0.5224566\ttotal: 35.6ms\tremaining: 8.85s\n",
      "4:\tlearn: 0.5081181\ttotal: 42.4ms\tremaining: 8.44s\n",
      "5:\tlearn: 0.4954851\ttotal: 50.4ms\tremaining: 8.36s\n",
      "6:\tlearn: 0.4838880\ttotal: 56.5ms\tremaining: 8.02s\n",
      "7:\tlearn: 0.4735183\ttotal: 64.2ms\tremaining: 7.96s\n",
      "8:\tlearn: 0.4639889\ttotal: 69.9ms\tremaining: 7.7s\n",
      "9:\tlearn: 0.4549772\ttotal: 76.6ms\tremaining: 7.58s\n",
      "10:\tlearn: 0.4473105\ttotal: 82.4ms\tremaining: 7.41s\n",
      "11:\tlearn: 0.4401622\ttotal: 89.5ms\tremaining: 7.37s\n",
      "12:\tlearn: 0.4335074\ttotal: 95.4ms\tremaining: 7.24s\n",
      "13:\tlearn: 0.4275938\ttotal: 101ms\tremaining: 7.13s\n",
      "14:\tlearn: 0.4219777\ttotal: 107ms\tremaining: 7.03s\n",
      "15:\tlearn: 0.4169048\ttotal: 113ms\tremaining: 6.95s\n",
      "16:\tlearn: 0.4123741\ttotal: 119ms\tremaining: 6.87s\n",
      "17:\tlearn: 0.4085375\ttotal: 126ms\tremaining: 6.85s\n",
      "18:\tlearn: 0.4048853\ttotal: 136ms\tremaining: 7.01s\n",
      "19:\tlearn: 0.4014349\ttotal: 141ms\tremaining: 6.93s\n",
      "20:\tlearn: 0.3985629\ttotal: 148ms\tremaining: 6.9s\n",
      "21:\tlearn: 0.3955153\ttotal: 154ms\tremaining: 6.85s\n",
      "22:\tlearn: 0.3930250\ttotal: 160ms\tremaining: 6.8s\n",
      "23:\tlearn: 0.3894176\ttotal: 166ms\tremaining: 6.75s\n",
      "24:\tlearn: 0.3857128\ttotal: 172ms\tremaining: 6.7s\n",
      "25:\tlearn: 0.3837574\ttotal: 179ms\tremaining: 6.7s\n",
      "26:\tlearn: 0.3815037\ttotal: 190ms\tremaining: 6.84s\n",
      "27:\tlearn: 0.3791689\ttotal: 196ms\tremaining: 6.8s\n",
      "28:\tlearn: 0.3766620\ttotal: 203ms\tremaining: 6.78s\n",
      "29:\tlearn: 0.3750519\ttotal: 209ms\tremaining: 6.76s\n",
      "30:\tlearn: 0.3733565\ttotal: 215ms\tremaining: 6.72s\n",
      "31:\tlearn: 0.3720062\ttotal: 221ms\tremaining: 6.67s\n",
      "32:\tlearn: 0.3697742\ttotal: 226ms\tremaining: 6.63s\n",
      "33:\tlearn: 0.3672742\ttotal: 234ms\tremaining: 6.64s\n",
      "34:\tlearn: 0.3662935\ttotal: 241ms\tremaining: 6.64s\n",
      "35:\tlearn: 0.3646733\ttotal: 250ms\tremaining: 6.7s\n",
      "36:\tlearn: 0.3637153\ttotal: 256ms\tremaining: 6.67s\n",
      "37:\tlearn: 0.3628060\ttotal: 265ms\tremaining: 6.7s\n",
      "38:\tlearn: 0.3616941\ttotal: 270ms\tremaining: 6.66s\n",
      "39:\tlearn: 0.3610919\ttotal: 276ms\tremaining: 6.62s\n",
      "40:\tlearn: 0.3604460\ttotal: 282ms\tremaining: 6.59s\n",
      "41:\tlearn: 0.3596157\ttotal: 287ms\tremaining: 6.55s\n",
      "42:\tlearn: 0.3589008\ttotal: 293ms\tremaining: 6.53s\n",
      "43:\tlearn: 0.3581908\ttotal: 300ms\tremaining: 6.53s\n",
      "44:\tlearn: 0.3565976\ttotal: 310ms\tremaining: 6.58s\n",
      "45:\tlearn: 0.3561408\ttotal: 317ms\tremaining: 6.57s\n",
      "46:\tlearn: 0.3550257\ttotal: 325ms\tremaining: 6.58s\n",
      "47:\tlearn: 0.3546161\ttotal: 331ms\tremaining: 6.56s\n",
      "48:\tlearn: 0.3542382\ttotal: 337ms\tremaining: 6.53s\n",
      "49:\tlearn: 0.3531817\ttotal: 343ms\tremaining: 6.51s\n",
      "50:\tlearn: 0.3521172\ttotal: 349ms\tremaining: 6.49s\n",
      "51:\tlearn: 0.3513039\ttotal: 355ms\tremaining: 6.47s\n",
      "52:\tlearn: 0.3507454\ttotal: 360ms\tremaining: 6.44s\n",
      "53:\tlearn: 0.3500923\ttotal: 371ms\tremaining: 6.5s\n",
      "54:\tlearn: 0.3498174\ttotal: 376ms\tremaining: 6.47s\n",
      "55:\tlearn: 0.3494170\ttotal: 383ms\tremaining: 6.45s\n",
      "56:\tlearn: 0.3490084\ttotal: 389ms\tremaining: 6.44s\n",
      "57:\tlearn: 0.3480836\ttotal: 395ms\tremaining: 6.41s\n",
      "58:\tlearn: 0.3472640\ttotal: 401ms\tremaining: 6.39s\n",
      "59:\tlearn: 0.3466929\ttotal: 406ms\tremaining: 6.37s\n",
      "60:\tlearn: 0.3461502\ttotal: 413ms\tremaining: 6.36s\n",
      "61:\tlearn: 0.3456499\ttotal: 419ms\tremaining: 6.34s\n",
      "62:\tlearn: 0.3450043\ttotal: 429ms\tremaining: 6.39s\n",
      "63:\tlearn: 0.3445997\ttotal: 436ms\tremaining: 6.38s\n",
      "64:\tlearn: 0.3439680\ttotal: 443ms\tremaining: 6.37s\n",
      "65:\tlearn: 0.3434517\ttotal: 449ms\tremaining: 6.36s\n",
      "66:\tlearn: 0.3431132\ttotal: 455ms\tremaining: 6.33s\n",
      "67:\tlearn: 0.3421693\ttotal: 461ms\tremaining: 6.31s\n",
      "68:\tlearn: 0.3416688\ttotal: 466ms\tremaining: 6.29s\n",
      "69:\tlearn: 0.3412673\ttotal: 471ms\tremaining: 6.26s\n",
      "70:\tlearn: 0.3409018\ttotal: 477ms\tremaining: 6.24s\n",
      "71:\tlearn: 0.3406243\ttotal: 484ms\tremaining: 6.24s\n",
      "72:\tlearn: 0.3403108\ttotal: 493ms\tremaining: 6.26s\n",
      "73:\tlearn: 0.3395211\ttotal: 500ms\tremaining: 6.25s\n",
      "74:\tlearn: 0.3392512\ttotal: 505ms\tremaining: 6.23s\n",
      "75:\tlearn: 0.3385945\ttotal: 511ms\tremaining: 6.22s\n",
      "76:\tlearn: 0.3383060\ttotal: 517ms\tremaining: 6.2s\n",
      "77:\tlearn: 0.3380736\ttotal: 523ms\tremaining: 6.18s\n",
      "78:\tlearn: 0.3377681\ttotal: 530ms\tremaining: 6.18s\n",
      "79:\tlearn: 0.3372544\ttotal: 536ms\tremaining: 6.16s\n",
      "80:\tlearn: 0.3371264\ttotal: 541ms\tremaining: 6.14s\n",
      "81:\tlearn: 0.3365166\ttotal: 547ms\tremaining: 6.13s\n",
      "82:\tlearn: 0.3360274\ttotal: 553ms\tremaining: 6.11s\n",
      "83:\tlearn: 0.3354292\ttotal: 560ms\tremaining: 6.1s\n",
      "84:\tlearn: 0.3348940\ttotal: 572ms\tremaining: 6.16s\n",
      "85:\tlearn: 0.3345095\ttotal: 578ms\tremaining: 6.14s\n",
      "86:\tlearn: 0.3339085\ttotal: 585ms\tremaining: 6.14s\n",
      "87:\tlearn: 0.3335439\ttotal: 591ms\tremaining: 6.13s\n",
      "88:\tlearn: 0.3327674\ttotal: 597ms\tremaining: 6.11s\n",
      "89:\tlearn: 0.3323566\ttotal: 603ms\tremaining: 6.09s\n",
      "90:\tlearn: 0.3322521\ttotal: 608ms\tremaining: 6.08s\n",
      "91:\tlearn: 0.3319376\ttotal: 615ms\tremaining: 6.07s\n",
      "92:\tlearn: 0.3317635\ttotal: 621ms\tremaining: 6.05s\n",
      "93:\tlearn: 0.3314631\ttotal: 628ms\tremaining: 6.05s\n",
      "94:\tlearn: 0.3312130\ttotal: 638ms\tremaining: 6.08s\n",
      "95:\tlearn: 0.3310242\ttotal: 644ms\tremaining: 6.06s\n",
      "96:\tlearn: 0.3305129\ttotal: 649ms\tremaining: 6.04s\n",
      "97:\tlearn: 0.3300190\ttotal: 656ms\tremaining: 6.03s\n",
      "98:\tlearn: 0.3291466\ttotal: 661ms\tremaining: 6.02s\n",
      "99:\tlearn: 0.3288464\ttotal: 667ms\tremaining: 6s\n",
      "100:\tlearn: 0.3282837\ttotal: 674ms\tremaining: 6s\n",
      "101:\tlearn: 0.3279811\ttotal: 679ms\tremaining: 5.98s\n",
      "102:\tlearn: 0.3277500\ttotal: 685ms\tremaining: 5.96s\n",
      "103:\tlearn: 0.3276767\ttotal: 690ms\tremaining: 5.95s\n",
      "104:\tlearn: 0.3273739\ttotal: 696ms\tremaining: 5.93s\n",
      "105:\tlearn: 0.3272717\ttotal: 703ms\tremaining: 5.93s\n",
      "106:\tlearn: 0.3270833\ttotal: 714ms\tremaining: 5.96s\n",
      "107:\tlearn: 0.3265430\ttotal: 720ms\tremaining: 5.95s\n",
      "108:\tlearn: 0.3261349\ttotal: 726ms\tremaining: 5.93s\n",
      "109:\tlearn: 0.3257931\ttotal: 733ms\tremaining: 5.93s\n",
      "110:\tlearn: 0.3256387\ttotal: 739ms\tremaining: 5.92s\n",
      "111:\tlearn: 0.3252407\ttotal: 745ms\tremaining: 5.91s\n",
      "112:\tlearn: 0.3250806\ttotal: 751ms\tremaining: 5.89s\n",
      "113:\tlearn: 0.3247620\ttotal: 756ms\tremaining: 5.88s\n",
      "114:\tlearn: 0.3247569\ttotal: 761ms\tremaining: 5.85s\n",
      "115:\tlearn: 0.3245910\ttotal: 766ms\tremaining: 5.84s\n",
      "116:\tlearn: 0.3241000\ttotal: 778ms\tremaining: 5.87s\n",
      "117:\tlearn: 0.3238474\ttotal: 783ms\tremaining: 5.85s\n",
      "118:\tlearn: 0.3236113\ttotal: 791ms\tremaining: 5.86s\n",
      "119:\tlearn: 0.3235534\ttotal: 797ms\tremaining: 5.84s\n",
      "120:\tlearn: 0.3233513\ttotal: 802ms\tremaining: 5.83s\n",
      "121:\tlearn: 0.3230193\ttotal: 808ms\tremaining: 5.82s\n",
      "122:\tlearn: 0.3226906\ttotal: 814ms\tremaining: 5.8s\n",
      "123:\tlearn: 0.3224894\ttotal: 820ms\tremaining: 5.79s\n",
      "124:\tlearn: 0.3222535\ttotal: 826ms\tremaining: 5.78s\n",
      "125:\tlearn: 0.3218762\ttotal: 831ms\tremaining: 5.77s\n",
      "126:\tlearn: 0.3216524\ttotal: 842ms\tremaining: 5.79s\n",
      "127:\tlearn: 0.3214443\ttotal: 848ms\tremaining: 5.77s\n",
      "128:\tlearn: 0.3213454\ttotal: 854ms\tremaining: 5.77s\n",
      "129:\tlearn: 0.3211426\ttotal: 860ms\tremaining: 5.75s\n",
      "130:\tlearn: 0.3209068\ttotal: 866ms\tremaining: 5.74s\n",
      "131:\tlearn: 0.3205852\ttotal: 872ms\tremaining: 5.73s\n",
      "132:\tlearn: 0.3202279\ttotal: 879ms\tremaining: 5.73s\n",
      "133:\tlearn: 0.3198310\ttotal: 885ms\tremaining: 5.72s\n",
      "134:\tlearn: 0.3196533\ttotal: 890ms\tremaining: 5.71s\n",
      "135:\tlearn: 0.3193096\ttotal: 897ms\tremaining: 5.7s\n",
      "136:\tlearn: 0.3191140\ttotal: 902ms\tremaining: 5.68s\n",
      "137:\tlearn: 0.3187429\ttotal: 910ms\tremaining: 5.68s\n",
      "138:\tlearn: 0.3183666\ttotal: 917ms\tremaining: 5.68s\n",
      "139:\tlearn: 0.3180182\ttotal: 924ms\tremaining: 5.68s\n",
      "140:\tlearn: 0.3179531\ttotal: 942ms\tremaining: 5.74s\n",
      "141:\tlearn: 0.3177227\ttotal: 956ms\tremaining: 5.78s\n",
      "142:\tlearn: 0.3175259\ttotal: 964ms\tremaining: 5.78s\n",
      "143:\tlearn: 0.3173590\ttotal: 973ms\tremaining: 5.78s\n",
      "144:\tlearn: 0.3171103\ttotal: 980ms\tremaining: 5.78s\n",
      "145:\tlearn: 0.3167587\ttotal: 988ms\tremaining: 5.78s\n",
      "146:\tlearn: 0.3164319\ttotal: 1000ms\tremaining: 5.8s\n",
      "147:\tlearn: 0.3163311\ttotal: 1.01s\tremaining: 5.8s\n",
      "148:\tlearn: 0.3161828\ttotal: 1.02s\tremaining: 5.8s\n",
      "149:\tlearn: 0.3159202\ttotal: 1.02s\tremaining: 5.8s\n",
      "150:\tlearn: 0.3156969\ttotal: 1.03s\tremaining: 5.79s\n",
      "151:\tlearn: 0.3154726\ttotal: 1.04s\tremaining: 5.79s\n",
      "152:\tlearn: 0.3151882\ttotal: 1.04s\tremaining: 5.79s\n",
      "153:\tlearn: 0.3149252\ttotal: 1.05s\tremaining: 5.78s\n",
      "154:\tlearn: 0.3146815\ttotal: 1.06s\tremaining: 5.79s\n",
      "155:\tlearn: 0.3144914\ttotal: 1.07s\tremaining: 5.79s\n",
      "156:\tlearn: 0.3143600\ttotal: 1.08s\tremaining: 5.78s\n",
      "157:\tlearn: 0.3141960\ttotal: 1.09s\tremaining: 5.79s\n",
      "158:\tlearn: 0.3141051\ttotal: 1.09s\tremaining: 5.77s\n",
      "159:\tlearn: 0.3138393\ttotal: 1.1s\tremaining: 5.76s\n",
      "160:\tlearn: 0.3137513\ttotal: 1.1s\tremaining: 5.75s\n",
      "161:\tlearn: 0.3134806\ttotal: 1.11s\tremaining: 5.74s\n"
     ]
    },
    {
     "name": "stdout",
     "output_type": "stream",
     "text": [
      "162:\tlearn: 0.3132320\ttotal: 1.12s\tremaining: 5.73s\n",
      "163:\tlearn: 0.3130743\ttotal: 1.12s\tremaining: 5.72s\n",
      "164:\tlearn: 0.3129487\ttotal: 1.13s\tremaining: 5.71s\n",
      "165:\tlearn: 0.3127696\ttotal: 1.13s\tremaining: 5.7s\n",
      "166:\tlearn: 0.3121308\ttotal: 1.14s\tremaining: 5.69s\n",
      "167:\tlearn: 0.3118840\ttotal: 1.15s\tremaining: 5.68s\n",
      "168:\tlearn: 0.3117343\ttotal: 1.15s\tremaining: 5.67s\n",
      "169:\tlearn: 0.3115496\ttotal: 1.16s\tremaining: 5.66s\n",
      "170:\tlearn: 0.3113604\ttotal: 1.17s\tremaining: 5.65s\n",
      "171:\tlearn: 0.3111742\ttotal: 1.17s\tremaining: 5.63s\n",
      "172:\tlearn: 0.3110507\ttotal: 1.18s\tremaining: 5.62s\n",
      "173:\tlearn: 0.3109646\ttotal: 1.18s\tremaining: 5.61s\n",
      "174:\tlearn: 0.3106960\ttotal: 1.19s\tremaining: 5.59s\n",
      "175:\tlearn: 0.3106302\ttotal: 1.19s\tremaining: 5.59s\n",
      "176:\tlearn: 0.3102501\ttotal: 1.2s\tremaining: 5.58s\n",
      "177:\tlearn: 0.3101906\ttotal: 1.21s\tremaining: 5.57s\n",
      "178:\tlearn: 0.3098249\ttotal: 1.21s\tremaining: 5.56s\n",
      "179:\tlearn: 0.3094610\ttotal: 1.22s\tremaining: 5.55s\n",
      "180:\tlearn: 0.3093544\ttotal: 1.22s\tremaining: 5.54s\n",
      "181:\tlearn: 0.3091372\ttotal: 1.23s\tremaining: 5.54s\n",
      "182:\tlearn: 0.3090134\ttotal: 1.24s\tremaining: 5.53s\n",
      "183:\tlearn: 0.3088510\ttotal: 1.24s\tremaining: 5.52s\n",
      "184:\tlearn: 0.3085075\ttotal: 1.25s\tremaining: 5.51s\n",
      "185:\tlearn: 0.3084265\ttotal: 1.26s\tremaining: 5.5s\n",
      "186:\tlearn: 0.3081742\ttotal: 1.26s\tremaining: 5.49s\n",
      "187:\tlearn: 0.3079760\ttotal: 1.27s\tremaining: 5.48s\n",
      "188:\tlearn: 0.3077889\ttotal: 1.27s\tremaining: 5.47s\n",
      "189:\tlearn: 0.3077095\ttotal: 1.28s\tremaining: 5.46s\n",
      "190:\tlearn: 0.3074600\ttotal: 1.29s\tremaining: 5.45s\n",
      "191:\tlearn: 0.3071503\ttotal: 1.29s\tremaining: 5.44s\n",
      "192:\tlearn: 0.3070953\ttotal: 1.3s\tremaining: 5.43s\n",
      "193:\tlearn: 0.3069425\ttotal: 1.3s\tremaining: 5.42s\n",
      "194:\tlearn: 0.3068860\ttotal: 1.31s\tremaining: 5.41s\n",
      "195:\tlearn: 0.3064526\ttotal: 1.32s\tremaining: 5.41s\n",
      "196:\tlearn: 0.3061576\ttotal: 1.32s\tremaining: 5.4s\n",
      "197:\tlearn: 0.3060399\ttotal: 1.33s\tremaining: 5.38s\n",
      "198:\tlearn: 0.3057587\ttotal: 1.33s\tremaining: 5.38s\n",
      "199:\tlearn: 0.3055909\ttotal: 1.34s\tremaining: 5.37s\n",
      "200:\tlearn: 0.3054637\ttotal: 1.35s\tremaining: 5.36s\n",
      "201:\tlearn: 0.3052083\ttotal: 1.35s\tremaining: 5.35s\n",
      "202:\tlearn: 0.3050671\ttotal: 1.36s\tremaining: 5.34s\n",
      "203:\tlearn: 0.3048181\ttotal: 1.36s\tremaining: 5.33s\n",
      "204:\tlearn: 0.3043790\ttotal: 1.37s\tremaining: 5.32s\n",
      "205:\tlearn: 0.3039206\ttotal: 1.38s\tremaining: 5.3s\n",
      "206:\tlearn: 0.3036996\ttotal: 1.38s\tremaining: 5.29s\n",
      "207:\tlearn: 0.3035799\ttotal: 1.39s\tremaining: 5.28s\n",
      "208:\tlearn: 0.3032194\ttotal: 1.39s\tremaining: 5.27s\n",
      "209:\tlearn: 0.3028917\ttotal: 1.4s\tremaining: 5.26s\n",
      "210:\tlearn: 0.3024681\ttotal: 1.4s\tremaining: 5.25s\n",
      "211:\tlearn: 0.3021904\ttotal: 1.41s\tremaining: 5.24s\n",
      "212:\tlearn: 0.3020371\ttotal: 1.42s\tremaining: 5.23s\n",
      "213:\tlearn: 0.3018614\ttotal: 1.42s\tremaining: 5.22s\n",
      "214:\tlearn: 0.3017570\ttotal: 1.43s\tremaining: 5.21s\n",
      "215:\tlearn: 0.3016069\ttotal: 1.44s\tremaining: 5.21s\n",
      "216:\tlearn: 0.3015072\ttotal: 1.44s\tremaining: 5.21s\n",
      "217:\tlearn: 0.3014225\ttotal: 1.45s\tremaining: 5.2s\n",
      "218:\tlearn: 0.3013286\ttotal: 1.45s\tremaining: 5.18s\n",
      "219:\tlearn: 0.3011941\ttotal: 1.46s\tremaining: 5.18s\n",
      "220:\tlearn: 0.3009715\ttotal: 1.47s\tremaining: 5.17s\n",
      "221:\tlearn: 0.3008047\ttotal: 1.47s\tremaining: 5.16s\n",
      "222:\tlearn: 0.3006993\ttotal: 1.48s\tremaining: 5.15s\n",
      "223:\tlearn: 0.3003475\ttotal: 1.49s\tremaining: 5.15s\n",
      "224:\tlearn: 0.3002503\ttotal: 1.49s\tremaining: 5.14s\n",
      "225:\tlearn: 0.3001436\ttotal: 1.5s\tremaining: 5.13s\n",
      "226:\tlearn: 0.2998996\ttotal: 1.5s\tremaining: 5.12s\n",
      "227:\tlearn: 0.2996895\ttotal: 1.51s\tremaining: 5.11s\n",
      "228:\tlearn: 0.2994202\ttotal: 1.52s\tremaining: 5.1s\n",
      "229:\tlearn: 0.2992262\ttotal: 1.52s\tremaining: 5.09s\n",
      "230:\tlearn: 0.2990526\ttotal: 1.53s\tremaining: 5.08s\n",
      "231:\tlearn: 0.2988660\ttotal: 1.53s\tremaining: 5.08s\n",
      "232:\tlearn: 0.2986305\ttotal: 1.55s\tremaining: 5.1s\n",
      "233:\tlearn: 0.2984967\ttotal: 1.55s\tremaining: 5.09s\n",
      "234:\tlearn: 0.2982943\ttotal: 1.56s\tremaining: 5.08s\n",
      "235:\tlearn: 0.2981373\ttotal: 1.56s\tremaining: 5.06s\n",
      "236:\tlearn: 0.2980945\ttotal: 1.57s\tremaining: 5.05s\n",
      "237:\tlearn: 0.2979228\ttotal: 1.57s\tremaining: 5.04s\n",
      "238:\tlearn: 0.2976994\ttotal: 1.58s\tremaining: 5.03s\n",
      "239:\tlearn: 0.2975510\ttotal: 1.58s\tremaining: 5.02s\n",
      "240:\tlearn: 0.2973987\ttotal: 1.59s\tremaining: 5.01s\n",
      "241:\tlearn: 0.2972979\ttotal: 1.6s\tremaining: 5.01s\n",
      "242:\tlearn: 0.2971158\ttotal: 1.6s\tremaining: 5s\n",
      "243:\tlearn: 0.2970286\ttotal: 1.61s\tremaining: 4.99s\n",
      "244:\tlearn: 0.2969008\ttotal: 1.62s\tremaining: 4.99s\n",
      "245:\tlearn: 0.2967371\ttotal: 1.62s\tremaining: 4.98s\n",
      "246:\tlearn: 0.2966341\ttotal: 1.63s\tremaining: 4.97s\n",
      "247:\tlearn: 0.2964876\ttotal: 1.64s\tremaining: 4.96s\n",
      "248:\tlearn: 0.2963239\ttotal: 1.64s\tremaining: 4.95s\n",
      "249:\tlearn: 0.2962665\ttotal: 1.65s\tremaining: 4.94s\n",
      "250:\tlearn: 0.2961013\ttotal: 1.65s\tremaining: 4.93s\n",
      "251:\tlearn: 0.2959690\ttotal: 1.66s\tremaining: 4.92s\n",
      "252:\tlearn: 0.2958209\ttotal: 1.67s\tremaining: 4.92s\n",
      "253:\tlearn: 0.2956261\ttotal: 1.67s\tremaining: 4.91s\n",
      "254:\tlearn: 0.2954645\ttotal: 1.68s\tremaining: 4.91s\n",
      "255:\tlearn: 0.2953961\ttotal: 1.69s\tremaining: 4.9s\n",
      "256:\tlearn: 0.2952870\ttotal: 1.69s\tremaining: 4.89s\n",
      "257:\tlearn: 0.2951994\ttotal: 1.7s\tremaining: 4.88s\n",
      "258:\tlearn: 0.2950773\ttotal: 1.7s\tremaining: 4.87s\n",
      "259:\tlearn: 0.2947594\ttotal: 1.71s\tremaining: 4.86s\n",
      "260:\tlearn: 0.2947277\ttotal: 1.71s\tremaining: 4.85s\n",
      "261:\tlearn: 0.2945957\ttotal: 1.72s\tremaining: 4.85s\n",
      "262:\tlearn: 0.2943728\ttotal: 1.73s\tremaining: 4.84s\n",
      "263:\tlearn: 0.2942497\ttotal: 1.73s\tremaining: 4.83s\n",
      "264:\tlearn: 0.2941250\ttotal: 1.74s\tremaining: 4.82s\n",
      "265:\tlearn: 0.2939630\ttotal: 1.74s\tremaining: 4.81s\n",
      "266:\tlearn: 0.2938347\ttotal: 1.75s\tremaining: 4.8s\n",
      "267:\tlearn: 0.2937364\ttotal: 1.75s\tremaining: 4.79s\n",
      "268:\tlearn: 0.2936614\ttotal: 1.76s\tremaining: 4.78s\n",
      "269:\tlearn: 0.2934719\ttotal: 1.76s\tremaining: 4.77s\n",
      "270:\tlearn: 0.2933176\ttotal: 1.77s\tremaining: 4.75s\n",
      "271:\tlearn: 0.2929850\ttotal: 1.77s\tremaining: 4.75s\n",
      "272:\tlearn: 0.2928805\ttotal: 1.78s\tremaining: 4.74s\n",
      "273:\tlearn: 0.2927191\ttotal: 1.79s\tremaining: 4.73s\n",
      "274:\tlearn: 0.2926091\ttotal: 1.79s\tremaining: 4.72s\n",
      "275:\tlearn: 0.2924923\ttotal: 1.8s\tremaining: 4.71s\n",
      "276:\tlearn: 0.2923212\ttotal: 1.8s\tremaining: 4.71s\n",
      "277:\tlearn: 0.2922218\ttotal: 1.81s\tremaining: 4.7s\n",
      "278:\tlearn: 0.2919770\ttotal: 1.81s\tremaining: 4.69s\n",
      "279:\tlearn: 0.2919117\ttotal: 1.82s\tremaining: 4.69s\n",
      "280:\tlearn: 0.2918784\ttotal: 1.83s\tremaining: 4.68s\n",
      "281:\tlearn: 0.2917523\ttotal: 1.83s\tremaining: 4.67s\n",
      "282:\tlearn: 0.2916273\ttotal: 1.84s\tremaining: 4.66s\n",
      "283:\tlearn: 0.2915588\ttotal: 1.84s\tremaining: 4.65s\n",
      "284:\tlearn: 0.2914534\ttotal: 1.85s\tremaining: 4.64s\n",
      "285:\tlearn: 0.2913066\ttotal: 1.86s\tremaining: 4.64s\n",
      "286:\tlearn: 0.2912370\ttotal: 1.86s\tremaining: 4.63s\n",
      "287:\tlearn: 0.2910001\ttotal: 1.87s\tremaining: 4.63s\n",
      "288:\tlearn: 0.2907610\ttotal: 1.89s\tremaining: 4.65s\n",
      "289:\tlearn: 0.2905835\ttotal: 1.91s\tremaining: 4.67s\n",
      "290:\tlearn: 0.2905447\ttotal: 1.92s\tremaining: 4.68s\n",
      "291:\tlearn: 0.2904194\ttotal: 1.94s\tremaining: 4.7s\n",
      "292:\tlearn: 0.2903295\ttotal: 1.96s\tremaining: 4.72s\n",
      "293:\tlearn: 0.2901782\ttotal: 1.97s\tremaining: 4.74s\n",
      "294:\tlearn: 0.2899632\ttotal: 1.99s\tremaining: 4.76s\n",
      "295:\tlearn: 0.2899073\ttotal: 2s\tremaining: 4.77s\n",
      "296:\tlearn: 0.2898759\ttotal: 2.02s\tremaining: 4.78s\n",
      "297:\tlearn: 0.2897424\ttotal: 2.03s\tremaining: 4.79s\n",
      "298:\tlearn: 0.2895135\ttotal: 2.04s\tremaining: 4.79s\n",
      "299:\tlearn: 0.2893226\ttotal: 2.06s\tremaining: 4.8s\n",
      "300:\tlearn: 0.2892154\ttotal: 2.07s\tremaining: 4.81s\n",
      "301:\tlearn: 0.2891487\ttotal: 2.08s\tremaining: 4.81s\n",
      "302:\tlearn: 0.2890361\ttotal: 2.09s\tremaining: 4.81s\n",
      "303:\tlearn: 0.2888211\ttotal: 2.1s\tremaining: 4.82s\n",
      "304:\tlearn: 0.2887021\ttotal: 2.12s\tremaining: 4.82s\n",
      "305:\tlearn: 0.2886638\ttotal: 2.13s\tremaining: 4.82s\n",
      "306:\tlearn: 0.2886075\ttotal: 2.16s\tremaining: 4.87s\n",
      "307:\tlearn: 0.2885214\ttotal: 2.17s\tremaining: 4.87s\n",
      "308:\tlearn: 0.2883395\ttotal: 2.18s\tremaining: 4.88s\n",
      "309:\tlearn: 0.2882545\ttotal: 2.2s\tremaining: 4.89s\n",
      "310:\tlearn: 0.2880700\ttotal: 2.21s\tremaining: 4.91s\n",
      "311:\tlearn: 0.2878980\ttotal: 2.23s\tremaining: 4.93s\n",
      "312:\tlearn: 0.2877474\ttotal: 2.25s\tremaining: 4.93s\n",
      "313:\tlearn: 0.2876151\ttotal: 2.26s\tremaining: 4.94s\n",
      "314:\tlearn: 0.2874452\ttotal: 2.28s\tremaining: 4.95s\n",
      "315:\tlearn: 0.2873947\ttotal: 2.29s\tremaining: 4.96s\n",
      "316:\tlearn: 0.2873284\ttotal: 2.3s\tremaining: 4.96s\n",
      "317:\tlearn: 0.2872310\ttotal: 2.31s\tremaining: 4.96s\n",
      "318:\tlearn: 0.2871416\ttotal: 2.33s\tremaining: 4.96s\n",
      "319:\tlearn: 0.2870514\ttotal: 2.34s\tremaining: 4.96s\n",
      "320:\tlearn: 0.2869888\ttotal: 2.35s\tremaining: 4.97s\n"
     ]
    },
    {
     "name": "stdout",
     "output_type": "stream",
     "text": [
      "321:\tlearn: 0.2869579\ttotal: 2.36s\tremaining: 4.97s\n",
      "322:\tlearn: 0.2868354\ttotal: 2.38s\tremaining: 4.98s\n",
      "323:\tlearn: 0.2866850\ttotal: 2.39s\tremaining: 4.99s\n",
      "324:\tlearn: 0.2864113\ttotal: 2.41s\tremaining: 5s\n",
      "325:\tlearn: 0.2861947\ttotal: 2.42s\tremaining: 5s\n",
      "326:\tlearn: 0.2859187\ttotal: 2.43s\tremaining: 5s\n",
      "327:\tlearn: 0.2858099\ttotal: 2.45s\tremaining: 5.01s\n",
      "328:\tlearn: 0.2856177\ttotal: 2.45s\tremaining: 5s\n",
      "329:\tlearn: 0.2854061\ttotal: 2.46s\tremaining: 5s\n",
      "330:\tlearn: 0.2852730\ttotal: 2.47s\tremaining: 4.99s\n",
      "331:\tlearn: 0.2851346\ttotal: 2.47s\tremaining: 4.98s\n",
      "332:\tlearn: 0.2849412\ttotal: 2.48s\tremaining: 4.97s\n",
      "333:\tlearn: 0.2848215\ttotal: 2.49s\tremaining: 4.96s\n",
      "334:\tlearn: 0.2845640\ttotal: 2.49s\tremaining: 4.95s\n",
      "335:\tlearn: 0.2844891\ttotal: 2.5s\tremaining: 4.94s\n",
      "336:\tlearn: 0.2843534\ttotal: 2.5s\tremaining: 4.93s\n",
      "337:\tlearn: 0.2841675\ttotal: 2.51s\tremaining: 4.92s\n",
      "338:\tlearn: 0.2840903\ttotal: 2.52s\tremaining: 4.91s\n",
      "339:\tlearn: 0.2840524\ttotal: 2.52s\tremaining: 4.9s\n",
      "340:\tlearn: 0.2839426\ttotal: 2.53s\tremaining: 4.89s\n",
      "341:\tlearn: 0.2838469\ttotal: 2.54s\tremaining: 4.88s\n",
      "342:\tlearn: 0.2835586\ttotal: 2.55s\tremaining: 4.88s\n",
      "343:\tlearn: 0.2834094\ttotal: 2.55s\tremaining: 4.87s\n",
      "344:\tlearn: 0.2832432\ttotal: 2.56s\tremaining: 4.86s\n",
      "345:\tlearn: 0.2831354\ttotal: 2.57s\tremaining: 4.86s\n",
      "346:\tlearn: 0.2830861\ttotal: 2.58s\tremaining: 4.85s\n",
      "347:\tlearn: 0.2830285\ttotal: 2.58s\tremaining: 4.84s\n",
      "348:\tlearn: 0.2829128\ttotal: 2.59s\tremaining: 4.83s\n",
      "349:\tlearn: 0.2828216\ttotal: 2.6s\tremaining: 4.83s\n",
      "350:\tlearn: 0.2827357\ttotal: 2.6s\tremaining: 4.82s\n",
      "351:\tlearn: 0.2825282\ttotal: 2.61s\tremaining: 4.8s\n",
      "352:\tlearn: 0.2825049\ttotal: 2.62s\tremaining: 4.79s\n",
      "353:\tlearn: 0.2823981\ttotal: 2.62s\tremaining: 4.78s\n",
      "354:\tlearn: 0.2822554\ttotal: 2.63s\tremaining: 4.77s\n",
      "355:\tlearn: 0.2821578\ttotal: 2.63s\tremaining: 4.76s\n",
      "356:\tlearn: 0.2818164\ttotal: 2.64s\tremaining: 4.76s\n",
      "357:\tlearn: 0.2816595\ttotal: 2.65s\tremaining: 4.75s\n",
      "358:\tlearn: 0.2816363\ttotal: 2.65s\tremaining: 4.74s\n",
      "359:\tlearn: 0.2814826\ttotal: 2.66s\tremaining: 4.73s\n",
      "360:\tlearn: 0.2814121\ttotal: 2.67s\tremaining: 4.72s\n",
      "361:\tlearn: 0.2812860\ttotal: 2.67s\tremaining: 4.71s\n",
      "362:\tlearn: 0.2811762\ttotal: 2.68s\tremaining: 4.7s\n",
      "363:\tlearn: 0.2809938\ttotal: 2.68s\tremaining: 4.69s\n",
      "364:\tlearn: 0.2808469\ttotal: 2.69s\tremaining: 4.68s\n",
      "365:\tlearn: 0.2807779\ttotal: 2.69s\tremaining: 4.67s\n",
      "366:\tlearn: 0.2806059\ttotal: 2.7s\tremaining: 4.66s\n",
      "367:\tlearn: 0.2804362\ttotal: 2.71s\tremaining: 4.65s\n",
      "368:\tlearn: 0.2802726\ttotal: 2.71s\tremaining: 4.64s\n",
      "369:\tlearn: 0.2801545\ttotal: 2.72s\tremaining: 4.63s\n",
      "370:\tlearn: 0.2800828\ttotal: 2.73s\tremaining: 4.62s\n",
      "371:\tlearn: 0.2800244\ttotal: 2.73s\tremaining: 4.62s\n",
      "372:\tlearn: 0.2797716\ttotal: 2.74s\tremaining: 4.61s\n",
      "373:\tlearn: 0.2796343\ttotal: 2.75s\tremaining: 4.6s\n",
      "374:\tlearn: 0.2795432\ttotal: 2.75s\tremaining: 4.59s\n",
      "375:\tlearn: 0.2794296\ttotal: 2.76s\tremaining: 4.58s\n",
      "376:\tlearn: 0.2793659\ttotal: 2.77s\tremaining: 4.57s\n",
      "377:\tlearn: 0.2790588\ttotal: 2.77s\tremaining: 4.57s\n",
      "378:\tlearn: 0.2789525\ttotal: 2.78s\tremaining: 4.55s\n",
      "379:\tlearn: 0.2788984\ttotal: 2.79s\tremaining: 4.54s\n",
      "380:\tlearn: 0.2787998\ttotal: 2.79s\tremaining: 4.54s\n",
      "381:\tlearn: 0.2787545\ttotal: 2.8s\tremaining: 4.53s\n",
      "382:\tlearn: 0.2785791\ttotal: 2.8s\tremaining: 4.52s\n",
      "383:\tlearn: 0.2784698\ttotal: 2.81s\tremaining: 4.51s\n",
      "384:\tlearn: 0.2783854\ttotal: 2.82s\tremaining: 4.5s\n",
      "385:\tlearn: 0.2782032\ttotal: 2.82s\tremaining: 4.49s\n",
      "386:\tlearn: 0.2781114\ttotal: 2.83s\tremaining: 4.48s\n",
      "387:\tlearn: 0.2780171\ttotal: 2.83s\tremaining: 4.47s\n",
      "388:\tlearn: 0.2779681\ttotal: 2.84s\tremaining: 4.46s\n",
      "389:\tlearn: 0.2778552\ttotal: 2.84s\tremaining: 4.45s\n",
      "390:\tlearn: 0.2777929\ttotal: 2.85s\tremaining: 4.44s\n",
      "391:\tlearn: 0.2777323\ttotal: 2.86s\tremaining: 4.43s\n",
      "392:\tlearn: 0.2776272\ttotal: 2.86s\tremaining: 4.42s\n",
      "393:\tlearn: 0.2775067\ttotal: 2.87s\tremaining: 4.41s\n",
      "394:\tlearn: 0.2774606\ttotal: 2.87s\tremaining: 4.4s\n",
      "395:\tlearn: 0.2772560\ttotal: 2.88s\tremaining: 4.39s\n",
      "396:\tlearn: 0.2770867\ttotal: 2.89s\tremaining: 4.39s\n",
      "397:\tlearn: 0.2770209\ttotal: 2.89s\tremaining: 4.38s\n",
      "398:\tlearn: 0.2769164\ttotal: 2.9s\tremaining: 4.37s\n",
      "399:\tlearn: 0.2768030\ttotal: 2.91s\tremaining: 4.36s\n",
      "400:\tlearn: 0.2766597\ttotal: 2.91s\tremaining: 4.35s\n",
      "401:\tlearn: 0.2766073\ttotal: 2.92s\tremaining: 4.34s\n",
      "402:\tlearn: 0.2765099\ttotal: 2.92s\tremaining: 4.33s\n",
      "403:\tlearn: 0.2764184\ttotal: 2.93s\tremaining: 4.32s\n",
      "404:\tlearn: 0.2763151\ttotal: 2.94s\tremaining: 4.32s\n",
      "405:\tlearn: 0.2762687\ttotal: 2.94s\tremaining: 4.31s\n",
      "406:\tlearn: 0.2759170\ttotal: 2.95s\tremaining: 4.3s\n",
      "407:\tlearn: 0.2758649\ttotal: 2.95s\tremaining: 4.29s\n",
      "408:\tlearn: 0.2757547\ttotal: 2.96s\tremaining: 4.28s\n",
      "409:\tlearn: 0.2754792\ttotal: 2.97s\tremaining: 4.27s\n",
      "410:\tlearn: 0.2754143\ttotal: 2.97s\tremaining: 4.26s\n",
      "411:\tlearn: 0.2752850\ttotal: 2.98s\tremaining: 4.25s\n",
      "412:\tlearn: 0.2750313\ttotal: 2.98s\tremaining: 4.24s\n",
      "413:\tlearn: 0.2749366\ttotal: 2.99s\tremaining: 4.23s\n",
      "414:\tlearn: 0.2747340\ttotal: 3s\tremaining: 4.22s\n",
      "415:\tlearn: 0.2746437\ttotal: 3s\tremaining: 4.21s\n",
      "416:\tlearn: 0.2745881\ttotal: 3.01s\tremaining: 4.2s\n",
      "417:\tlearn: 0.2743945\ttotal: 3.01s\tremaining: 4.19s\n",
      "418:\tlearn: 0.2742781\ttotal: 3.02s\tremaining: 4.18s\n",
      "419:\tlearn: 0.2741030\ttotal: 3.02s\tremaining: 4.17s\n",
      "420:\tlearn: 0.2738684\ttotal: 3.03s\tremaining: 4.16s\n",
      "421:\tlearn: 0.2737449\ttotal: 3.03s\tremaining: 4.15s\n",
      "422:\tlearn: 0.2735563\ttotal: 3.04s\tremaining: 4.14s\n",
      "423:\tlearn: 0.2734601\ttotal: 3.04s\tremaining: 4.13s\n",
      "424:\tlearn: 0.2732885\ttotal: 3.05s\tremaining: 4.13s\n",
      "425:\tlearn: 0.2732111\ttotal: 3.06s\tremaining: 4.12s\n",
      "426:\tlearn: 0.2730483\ttotal: 3.06s\tremaining: 4.11s\n",
      "427:\tlearn: 0.2730004\ttotal: 3.07s\tremaining: 4.1s\n",
      "428:\tlearn: 0.2728274\ttotal: 3.07s\tremaining: 4.09s\n",
      "429:\tlearn: 0.2726646\ttotal: 3.08s\tremaining: 4.08s\n",
      "430:\tlearn: 0.2725951\ttotal: 3.09s\tremaining: 4.08s\n",
      "431:\tlearn: 0.2724684\ttotal: 3.09s\tremaining: 4.07s\n",
      "432:\tlearn: 0.2724076\ttotal: 3.1s\tremaining: 4.06s\n",
      "433:\tlearn: 0.2723557\ttotal: 3.11s\tremaining: 4.05s\n",
      "434:\tlearn: 0.2723024\ttotal: 3.11s\tremaining: 4.04s\n",
      "435:\tlearn: 0.2722009\ttotal: 3.12s\tremaining: 4.04s\n",
      "436:\tlearn: 0.2721096\ttotal: 3.13s\tremaining: 4.03s\n",
      "437:\tlearn: 0.2720737\ttotal: 3.13s\tremaining: 4.02s\n",
      "438:\tlearn: 0.2720201\ttotal: 3.14s\tremaining: 4.01s\n",
      "439:\tlearn: 0.2718920\ttotal: 3.14s\tremaining: 4s\n",
      "440:\tlearn: 0.2717995\ttotal: 3.15s\tremaining: 3.99s\n",
      "441:\tlearn: 0.2715753\ttotal: 3.15s\tremaining: 3.98s\n",
      "442:\tlearn: 0.2714278\ttotal: 3.16s\tremaining: 3.97s\n",
      "443:\tlearn: 0.2713664\ttotal: 3.17s\tremaining: 3.96s\n",
      "444:\tlearn: 0.2713142\ttotal: 3.17s\tremaining: 3.96s\n",
      "445:\tlearn: 0.2711440\ttotal: 3.18s\tremaining: 3.95s\n",
      "446:\tlearn: 0.2709704\ttotal: 3.18s\tremaining: 3.94s\n",
      "447:\tlearn: 0.2708664\ttotal: 3.19s\tremaining: 3.93s\n",
      "448:\tlearn: 0.2708419\ttotal: 3.19s\tremaining: 3.92s\n",
      "449:\tlearn: 0.2707449\ttotal: 3.2s\tremaining: 3.91s\n",
      "450:\tlearn: 0.2706882\ttotal: 3.2s\tremaining: 3.9s\n",
      "451:\tlearn: 0.2706033\ttotal: 3.21s\tremaining: 3.89s\n",
      "452:\tlearn: 0.2705421\ttotal: 3.21s\tremaining: 3.88s\n",
      "453:\tlearn: 0.2704328\ttotal: 3.22s\tremaining: 3.87s\n",
      "454:\tlearn: 0.2702809\ttotal: 3.22s\tremaining: 3.86s\n",
      "455:\tlearn: 0.2701836\ttotal: 3.23s\tremaining: 3.85s\n",
      "456:\tlearn: 0.2700999\ttotal: 3.24s\tremaining: 3.85s\n",
      "457:\tlearn: 0.2700324\ttotal: 3.24s\tremaining: 3.84s\n",
      "458:\tlearn: 0.2699274\ttotal: 3.25s\tremaining: 3.83s\n",
      "459:\tlearn: 0.2697890\ttotal: 3.25s\tremaining: 3.82s\n",
      "460:\tlearn: 0.2696815\ttotal: 3.26s\tremaining: 3.81s\n",
      "461:\tlearn: 0.2695908\ttotal: 3.27s\tremaining: 3.8s\n",
      "462:\tlearn: 0.2695150\ttotal: 3.27s\tremaining: 3.79s\n",
      "463:\tlearn: 0.2694335\ttotal: 3.28s\tremaining: 3.79s\n",
      "464:\tlearn: 0.2693566\ttotal: 3.29s\tremaining: 3.78s\n",
      "465:\tlearn: 0.2690297\ttotal: 3.29s\tremaining: 3.77s\n",
      "466:\tlearn: 0.2689887\ttotal: 3.3s\tremaining: 3.76s\n",
      "467:\tlearn: 0.2688667\ttotal: 3.3s\tremaining: 3.75s\n",
      "468:\tlearn: 0.2686827\ttotal: 3.31s\tremaining: 3.75s\n",
      "469:\tlearn: 0.2685404\ttotal: 3.32s\tremaining: 3.74s\n",
      "470:\tlearn: 0.2684000\ttotal: 3.32s\tremaining: 3.73s\n",
      "471:\tlearn: 0.2682639\ttotal: 3.33s\tremaining: 3.72s\n",
      "472:\tlearn: 0.2682389\ttotal: 3.33s\tremaining: 3.71s\n",
      "473:\tlearn: 0.2680968\ttotal: 3.34s\tremaining: 3.71s\n",
      "474:\tlearn: 0.2679894\ttotal: 3.35s\tremaining: 3.7s\n",
      "475:\tlearn: 0.2679069\ttotal: 3.35s\tremaining: 3.69s\n",
      "476:\tlearn: 0.2678330\ttotal: 3.36s\tremaining: 3.68s\n",
      "477:\tlearn: 0.2677899\ttotal: 3.36s\tremaining: 3.67s\n",
      "478:\tlearn: 0.2676356\ttotal: 3.37s\tremaining: 3.66s\n",
      "479:\tlearn: 0.2675163\ttotal: 3.37s\tremaining: 3.65s\n",
      "480:\tlearn: 0.2674757\ttotal: 3.38s\tremaining: 3.65s\n",
      "481:\tlearn: 0.2674422\ttotal: 3.38s\tremaining: 3.64s\n",
      "482:\tlearn: 0.2673248\ttotal: 3.39s\tremaining: 3.63s\n",
      "483:\tlearn: 0.2672338\ttotal: 3.39s\tremaining: 3.62s\n",
      "484:\tlearn: 0.2671236\ttotal: 3.4s\tremaining: 3.61s\n",
      "485:\tlearn: 0.2670536\ttotal: 3.4s\tremaining: 3.6s\n",
      "486:\tlearn: 0.2669624\ttotal: 3.41s\tremaining: 3.59s\n"
     ]
    },
    {
     "name": "stdout",
     "output_type": "stream",
     "text": [
      "487:\tlearn: 0.2668786\ttotal: 3.42s\tremaining: 3.58s\n",
      "488:\tlearn: 0.2668186\ttotal: 3.42s\tremaining: 3.58s\n",
      "489:\tlearn: 0.2667467\ttotal: 3.43s\tremaining: 3.57s\n",
      "490:\tlearn: 0.2666624\ttotal: 3.43s\tremaining: 3.56s\n",
      "491:\tlearn: 0.2665531\ttotal: 3.44s\tremaining: 3.55s\n",
      "492:\tlearn: 0.2663827\ttotal: 3.44s\tremaining: 3.54s\n",
      "493:\tlearn: 0.2663046\ttotal: 3.45s\tremaining: 3.53s\n",
      "494:\tlearn: 0.2662242\ttotal: 3.46s\tremaining: 3.53s\n",
      "495:\tlearn: 0.2661501\ttotal: 3.46s\tremaining: 3.52s\n",
      "496:\tlearn: 0.2660303\ttotal: 3.47s\tremaining: 3.51s\n",
      "497:\tlearn: 0.2659795\ttotal: 3.48s\tremaining: 3.51s\n",
      "498:\tlearn: 0.2658171\ttotal: 3.48s\tremaining: 3.5s\n",
      "499:\tlearn: 0.2657619\ttotal: 3.49s\tremaining: 3.49s\n",
      "500:\tlearn: 0.2656794\ttotal: 3.5s\tremaining: 3.48s\n",
      "501:\tlearn: 0.2654893\ttotal: 3.5s\tremaining: 3.47s\n",
      "502:\tlearn: 0.2654068\ttotal: 3.51s\tremaining: 3.46s\n",
      "503:\tlearn: 0.2653365\ttotal: 3.51s\tremaining: 3.46s\n",
      "504:\tlearn: 0.2652541\ttotal: 3.52s\tremaining: 3.45s\n",
      "505:\tlearn: 0.2651607\ttotal: 3.52s\tremaining: 3.44s\n",
      "506:\tlearn: 0.2651211\ttotal: 3.53s\tremaining: 3.43s\n",
      "507:\tlearn: 0.2650299\ttotal: 3.53s\tremaining: 3.42s\n",
      "508:\tlearn: 0.2649653\ttotal: 3.54s\tremaining: 3.41s\n",
      "509:\tlearn: 0.2649290\ttotal: 3.54s\tremaining: 3.4s\n",
      "510:\tlearn: 0.2648644\ttotal: 3.55s\tremaining: 3.39s\n",
      "511:\tlearn: 0.2647860\ttotal: 3.55s\tremaining: 3.38s\n",
      "512:\tlearn: 0.2647279\ttotal: 3.56s\tremaining: 3.38s\n",
      "513:\tlearn: 0.2646529\ttotal: 3.56s\tremaining: 3.37s\n",
      "514:\tlearn: 0.2644851\ttotal: 3.57s\tremaining: 3.36s\n",
      "515:\tlearn: 0.2644037\ttotal: 3.57s\tremaining: 3.35s\n",
      "516:\tlearn: 0.2643667\ttotal: 3.58s\tremaining: 3.34s\n",
      "517:\tlearn: 0.2642860\ttotal: 3.58s\tremaining: 3.33s\n",
      "518:\tlearn: 0.2642174\ttotal: 3.59s\tremaining: 3.33s\n",
      "519:\tlearn: 0.2641842\ttotal: 3.6s\tremaining: 3.32s\n",
      "520:\tlearn: 0.2640166\ttotal: 3.6s\tremaining: 3.31s\n",
      "521:\tlearn: 0.2639689\ttotal: 3.61s\tremaining: 3.3s\n",
      "522:\tlearn: 0.2638921\ttotal: 3.61s\tremaining: 3.29s\n",
      "523:\tlearn: 0.2637327\ttotal: 3.62s\tremaining: 3.29s\n",
      "524:\tlearn: 0.2636736\ttotal: 3.62s\tremaining: 3.28s\n",
      "525:\tlearn: 0.2636192\ttotal: 3.63s\tremaining: 3.27s\n",
      "526:\tlearn: 0.2635651\ttotal: 3.64s\tremaining: 3.26s\n",
      "527:\tlearn: 0.2635005\ttotal: 3.64s\tremaining: 3.26s\n",
      "528:\tlearn: 0.2634337\ttotal: 3.65s\tremaining: 3.25s\n",
      "529:\tlearn: 0.2633795\ttotal: 3.65s\tremaining: 3.24s\n",
      "530:\tlearn: 0.2633021\ttotal: 3.66s\tremaining: 3.23s\n",
      "531:\tlearn: 0.2632095\ttotal: 3.67s\tremaining: 3.23s\n",
      "532:\tlearn: 0.2631294\ttotal: 3.67s\tremaining: 3.22s\n",
      "533:\tlearn: 0.2630625\ttotal: 3.68s\tremaining: 3.21s\n",
      "534:\tlearn: 0.2629621\ttotal: 3.68s\tremaining: 3.2s\n",
      "535:\tlearn: 0.2628983\ttotal: 3.69s\tremaining: 3.19s\n",
      "536:\tlearn: 0.2628386\ttotal: 3.69s\tremaining: 3.18s\n",
      "537:\tlearn: 0.2627231\ttotal: 3.7s\tremaining: 3.18s\n",
      "538:\tlearn: 0.2625446\ttotal: 3.7s\tremaining: 3.17s\n",
      "539:\tlearn: 0.2624705\ttotal: 3.71s\tremaining: 3.16s\n",
      "540:\tlearn: 0.2624217\ttotal: 3.71s\tremaining: 3.15s\n",
      "541:\tlearn: 0.2623507\ttotal: 3.72s\tremaining: 3.14s\n",
      "542:\tlearn: 0.2622804\ttotal: 3.72s\tremaining: 3.13s\n",
      "543:\tlearn: 0.2621917\ttotal: 3.73s\tremaining: 3.13s\n",
      "544:\tlearn: 0.2621477\ttotal: 3.73s\tremaining: 3.12s\n",
      "545:\tlearn: 0.2620857\ttotal: 3.74s\tremaining: 3.11s\n",
      "546:\tlearn: 0.2620211\ttotal: 3.75s\tremaining: 3.11s\n",
      "547:\tlearn: 0.2619731\ttotal: 3.76s\tremaining: 3.1s\n",
      "548:\tlearn: 0.2618541\ttotal: 3.76s\tremaining: 3.09s\n",
      "549:\tlearn: 0.2616903\ttotal: 3.77s\tremaining: 3.08s\n",
      "550:\tlearn: 0.2616570\ttotal: 3.77s\tremaining: 3.08s\n",
      "551:\tlearn: 0.2615956\ttotal: 3.78s\tremaining: 3.07s\n",
      "552:\tlearn: 0.2615677\ttotal: 3.79s\tremaining: 3.06s\n",
      "553:\tlearn: 0.2615334\ttotal: 3.79s\tremaining: 3.05s\n",
      "554:\tlearn: 0.2614472\ttotal: 3.8s\tremaining: 3.04s\n",
      "555:\tlearn: 0.2612745\ttotal: 3.8s\tremaining: 3.04s\n",
      "556:\tlearn: 0.2612188\ttotal: 3.81s\tremaining: 3.03s\n",
      "557:\tlearn: 0.2611089\ttotal: 3.82s\tremaining: 3.02s\n",
      "558:\tlearn: 0.2610738\ttotal: 3.82s\tremaining: 3.02s\n",
      "559:\tlearn: 0.2609939\ttotal: 3.83s\tremaining: 3.01s\n",
      "560:\tlearn: 0.2609431\ttotal: 3.83s\tremaining: 3s\n",
      "561:\tlearn: 0.2608807\ttotal: 3.84s\tremaining: 2.99s\n",
      "562:\tlearn: 0.2608216\ttotal: 3.85s\tremaining: 2.98s\n",
      "563:\tlearn: 0.2607684\ttotal: 3.85s\tremaining: 2.98s\n",
      "564:\tlearn: 0.2606307\ttotal: 3.86s\tremaining: 2.97s\n",
      "565:\tlearn: 0.2605287\ttotal: 3.86s\tremaining: 2.96s\n",
      "566:\tlearn: 0.2604294\ttotal: 3.87s\tremaining: 2.95s\n",
      "567:\tlearn: 0.2603401\ttotal: 3.87s\tremaining: 2.95s\n",
      "568:\tlearn: 0.2602827\ttotal: 3.88s\tremaining: 2.94s\n",
      "569:\tlearn: 0.2601536\ttotal: 3.88s\tremaining: 2.93s\n",
      "570:\tlearn: 0.2600558\ttotal: 3.89s\tremaining: 2.92s\n",
      "571:\tlearn: 0.2599154\ttotal: 3.89s\tremaining: 2.91s\n",
      "572:\tlearn: 0.2598446\ttotal: 3.9s\tremaining: 2.9s\n",
      "573:\tlearn: 0.2597722\ttotal: 3.9s\tremaining: 2.9s\n",
      "574:\tlearn: 0.2596980\ttotal: 3.91s\tremaining: 2.89s\n",
      "575:\tlearn: 0.2595742\ttotal: 3.91s\tremaining: 2.88s\n",
      "576:\tlearn: 0.2594614\ttotal: 3.92s\tremaining: 2.87s\n",
      "577:\tlearn: 0.2594160\ttotal: 3.92s\tremaining: 2.86s\n",
      "578:\tlearn: 0.2593658\ttotal: 3.93s\tremaining: 2.86s\n",
      "579:\tlearn: 0.2592957\ttotal: 3.93s\tremaining: 2.85s\n",
      "580:\tlearn: 0.2592281\ttotal: 3.94s\tremaining: 2.84s\n",
      "581:\tlearn: 0.2591674\ttotal: 3.94s\tremaining: 2.83s\n",
      "582:\tlearn: 0.2591057\ttotal: 3.95s\tremaining: 2.82s\n",
      "583:\tlearn: 0.2590816\ttotal: 3.95s\tremaining: 2.82s\n",
      "584:\tlearn: 0.2589578\ttotal: 3.96s\tremaining: 2.81s\n",
      "585:\tlearn: 0.2588965\ttotal: 3.97s\tremaining: 2.8s\n",
      "586:\tlearn: 0.2588363\ttotal: 3.97s\tremaining: 2.79s\n",
      "587:\tlearn: 0.2587812\ttotal: 3.98s\tremaining: 2.79s\n",
      "588:\tlearn: 0.2586590\ttotal: 3.98s\tremaining: 2.78s\n",
      "589:\tlearn: 0.2586054\ttotal: 3.99s\tremaining: 2.77s\n",
      "590:\tlearn: 0.2584246\ttotal: 4s\tremaining: 2.77s\n",
      "591:\tlearn: 0.2583573\ttotal: 4s\tremaining: 2.76s\n",
      "592:\tlearn: 0.2582875\ttotal: 4.01s\tremaining: 2.75s\n",
      "593:\tlearn: 0.2582166\ttotal: 4.01s\tremaining: 2.74s\n",
      "594:\tlearn: 0.2581893\ttotal: 4.02s\tremaining: 2.74s\n",
      "595:\tlearn: 0.2581388\ttotal: 4.03s\tremaining: 2.73s\n",
      "596:\tlearn: 0.2580022\ttotal: 4.03s\tremaining: 2.72s\n",
      "597:\tlearn: 0.2578432\ttotal: 4.04s\tremaining: 2.71s\n",
      "598:\tlearn: 0.2577130\ttotal: 4.04s\tremaining: 2.71s\n",
      "599:\tlearn: 0.2576666\ttotal: 4.05s\tremaining: 2.7s\n",
      "600:\tlearn: 0.2576239\ttotal: 4.05s\tremaining: 2.69s\n",
      "601:\tlearn: 0.2575808\ttotal: 4.06s\tremaining: 2.68s\n",
      "602:\tlearn: 0.2575203\ttotal: 4.06s\tremaining: 2.68s\n",
      "603:\tlearn: 0.2574515\ttotal: 4.07s\tremaining: 2.67s\n",
      "604:\tlearn: 0.2574169\ttotal: 4.08s\tremaining: 2.66s\n",
      "605:\tlearn: 0.2573433\ttotal: 4.08s\tremaining: 2.65s\n",
      "606:\tlearn: 0.2572946\ttotal: 4.08s\tremaining: 2.65s\n",
      "607:\tlearn: 0.2571732\ttotal: 4.09s\tremaining: 2.64s\n",
      "608:\tlearn: 0.2571069\ttotal: 4.09s\tremaining: 2.63s\n",
      "609:\tlearn: 0.2570634\ttotal: 4.1s\tremaining: 2.62s\n",
      "610:\tlearn: 0.2570060\ttotal: 4.11s\tremaining: 2.61s\n",
      "611:\tlearn: 0.2568795\ttotal: 4.11s\tremaining: 2.61s\n",
      "612:\tlearn: 0.2568024\ttotal: 4.12s\tremaining: 2.6s\n",
      "613:\tlearn: 0.2567362\ttotal: 4.12s\tremaining: 2.59s\n",
      "614:\tlearn: 0.2566500\ttotal: 4.13s\tremaining: 2.58s\n",
      "615:\tlearn: 0.2565328\ttotal: 4.13s\tremaining: 2.58s\n",
      "616:\tlearn: 0.2564105\ttotal: 4.13s\tremaining: 2.57s\n",
      "617:\tlearn: 0.2563462\ttotal: 4.14s\tremaining: 2.56s\n",
      "618:\tlearn: 0.2562291\ttotal: 4.15s\tremaining: 2.55s\n",
      "619:\tlearn: 0.2561597\ttotal: 4.15s\tremaining: 2.54s\n",
      "620:\tlearn: 0.2561044\ttotal: 4.16s\tremaining: 2.54s\n",
      "621:\tlearn: 0.2559722\ttotal: 4.17s\tremaining: 2.53s\n",
      "622:\tlearn: 0.2559330\ttotal: 4.17s\tremaining: 2.52s\n",
      "623:\tlearn: 0.2558807\ttotal: 4.18s\tremaining: 2.52s\n",
      "624:\tlearn: 0.2558307\ttotal: 4.18s\tremaining: 2.51s\n",
      "625:\tlearn: 0.2557637\ttotal: 4.19s\tremaining: 2.5s\n",
      "626:\tlearn: 0.2557169\ttotal: 4.2s\tremaining: 2.5s\n",
      "627:\tlearn: 0.2556364\ttotal: 4.2s\tremaining: 2.49s\n",
      "628:\tlearn: 0.2555171\ttotal: 4.21s\tremaining: 2.48s\n",
      "629:\tlearn: 0.2554581\ttotal: 4.21s\tremaining: 2.47s\n",
      "630:\tlearn: 0.2554252\ttotal: 4.22s\tremaining: 2.47s\n",
      "631:\tlearn: 0.2553000\ttotal: 4.22s\tremaining: 2.46s\n",
      "632:\tlearn: 0.2552693\ttotal: 4.23s\tremaining: 2.45s\n",
      "633:\tlearn: 0.2552329\ttotal: 4.24s\tremaining: 2.45s\n",
      "634:\tlearn: 0.2551766\ttotal: 4.24s\tremaining: 2.44s\n",
      "635:\tlearn: 0.2551119\ttotal: 4.25s\tremaining: 2.43s\n",
      "636:\tlearn: 0.2550106\ttotal: 4.25s\tremaining: 2.42s\n",
      "637:\tlearn: 0.2549330\ttotal: 4.26s\tremaining: 2.42s\n",
      "638:\tlearn: 0.2548398\ttotal: 4.26s\tremaining: 2.41s\n",
      "639:\tlearn: 0.2547738\ttotal: 4.27s\tremaining: 2.4s\n",
      "640:\tlearn: 0.2546973\ttotal: 4.27s\tremaining: 2.39s\n",
      "641:\tlearn: 0.2545914\ttotal: 4.28s\tremaining: 2.39s\n",
      "642:\tlearn: 0.2544735\ttotal: 4.29s\tremaining: 2.38s\n",
      "643:\tlearn: 0.2544088\ttotal: 4.29s\tremaining: 2.37s\n",
      "644:\tlearn: 0.2543527\ttotal: 4.29s\tremaining: 2.36s\n",
      "645:\tlearn: 0.2543122\ttotal: 4.3s\tremaining: 2.36s\n",
      "646:\tlearn: 0.2542332\ttotal: 4.3s\tremaining: 2.35s\n",
      "647:\tlearn: 0.2541699\ttotal: 4.31s\tremaining: 2.34s\n",
      "648:\tlearn: 0.2540604\ttotal: 4.31s\tremaining: 2.33s\n"
     ]
    },
    {
     "name": "stdout",
     "output_type": "stream",
     "text": [
      "649:\tlearn: 0.2540353\ttotal: 4.32s\tremaining: 2.33s\n",
      "650:\tlearn: 0.2539720\ttotal: 4.33s\tremaining: 2.32s\n",
      "651:\tlearn: 0.2538608\ttotal: 4.33s\tremaining: 2.31s\n",
      "652:\tlearn: 0.2537925\ttotal: 4.34s\tremaining: 2.31s\n",
      "653:\tlearn: 0.2536597\ttotal: 4.35s\tremaining: 2.3s\n",
      "654:\tlearn: 0.2535184\ttotal: 4.35s\tremaining: 2.29s\n",
      "655:\tlearn: 0.2534629\ttotal: 4.36s\tremaining: 2.29s\n",
      "656:\tlearn: 0.2534251\ttotal: 4.37s\tremaining: 2.28s\n",
      "657:\tlearn: 0.2533942\ttotal: 4.37s\tremaining: 2.27s\n",
      "658:\tlearn: 0.2533507\ttotal: 4.38s\tremaining: 2.26s\n",
      "659:\tlearn: 0.2533070\ttotal: 4.38s\tremaining: 2.26s\n",
      "660:\tlearn: 0.2531940\ttotal: 4.39s\tremaining: 2.25s\n",
      "661:\tlearn: 0.2531521\ttotal: 4.39s\tremaining: 2.24s\n",
      "662:\tlearn: 0.2531193\ttotal: 4.4s\tremaining: 2.24s\n",
      "663:\tlearn: 0.2530826\ttotal: 4.41s\tremaining: 2.23s\n",
      "664:\tlearn: 0.2530307\ttotal: 4.41s\tremaining: 2.22s\n",
      "665:\tlearn: 0.2529207\ttotal: 4.42s\tremaining: 2.21s\n",
      "666:\tlearn: 0.2528277\ttotal: 4.42s\tremaining: 2.21s\n",
      "667:\tlearn: 0.2527640\ttotal: 4.43s\tremaining: 2.2s\n",
      "668:\tlearn: 0.2527170\ttotal: 4.43s\tremaining: 2.19s\n",
      "669:\tlearn: 0.2526505\ttotal: 4.44s\tremaining: 2.19s\n",
      "670:\tlearn: 0.2526137\ttotal: 4.44s\tremaining: 2.18s\n",
      "671:\tlearn: 0.2525814\ttotal: 4.45s\tremaining: 2.17s\n",
      "672:\tlearn: 0.2524903\ttotal: 4.45s\tremaining: 2.16s\n",
      "673:\tlearn: 0.2523948\ttotal: 4.46s\tremaining: 2.16s\n",
      "674:\tlearn: 0.2523476\ttotal: 4.46s\tremaining: 2.15s\n",
      "675:\tlearn: 0.2522869\ttotal: 4.47s\tremaining: 2.14s\n",
      "676:\tlearn: 0.2522544\ttotal: 4.47s\tremaining: 2.13s\n",
      "677:\tlearn: 0.2521289\ttotal: 4.48s\tremaining: 2.13s\n",
      "678:\tlearn: 0.2520917\ttotal: 4.49s\tremaining: 2.12s\n",
      "679:\tlearn: 0.2520239\ttotal: 4.49s\tremaining: 2.11s\n",
      "680:\tlearn: 0.2519389\ttotal: 4.5s\tremaining: 2.11s\n",
      "681:\tlearn: 0.2518685\ttotal: 4.5s\tremaining: 2.1s\n",
      "682:\tlearn: 0.2518204\ttotal: 4.51s\tremaining: 2.09s\n",
      "683:\tlearn: 0.2517661\ttotal: 4.51s\tremaining: 2.09s\n",
      "684:\tlearn: 0.2517367\ttotal: 4.52s\tremaining: 2.08s\n",
      "685:\tlearn: 0.2517041\ttotal: 4.53s\tremaining: 2.07s\n",
      "686:\tlearn: 0.2516210\ttotal: 4.53s\tremaining: 2.06s\n",
      "687:\tlearn: 0.2515500\ttotal: 4.54s\tremaining: 2.06s\n",
      "688:\tlearn: 0.2515072\ttotal: 4.54s\tremaining: 2.05s\n",
      "689:\tlearn: 0.2514399\ttotal: 4.55s\tremaining: 2.04s\n",
      "690:\tlearn: 0.2513847\ttotal: 4.55s\tremaining: 2.04s\n",
      "691:\tlearn: 0.2513198\ttotal: 4.56s\tremaining: 2.03s\n",
      "692:\tlearn: 0.2512791\ttotal: 4.57s\tremaining: 2.02s\n",
      "693:\tlearn: 0.2511781\ttotal: 4.57s\tremaining: 2.02s\n",
      "694:\tlearn: 0.2511281\ttotal: 4.58s\tremaining: 2.01s\n",
      "695:\tlearn: 0.2510519\ttotal: 4.59s\tremaining: 2s\n",
      "696:\tlearn: 0.2510081\ttotal: 4.59s\tremaining: 2s\n",
      "697:\tlearn: 0.2509218\ttotal: 4.6s\tremaining: 1.99s\n",
      "698:\tlearn: 0.2508801\ttotal: 4.6s\tremaining: 1.98s\n",
      "699:\tlearn: 0.2508338\ttotal: 4.61s\tremaining: 1.97s\n",
      "700:\tlearn: 0.2508041\ttotal: 4.61s\tremaining: 1.97s\n",
      "701:\tlearn: 0.2507191\ttotal: 4.62s\tremaining: 1.96s\n",
      "702:\tlearn: 0.2506898\ttotal: 4.62s\tremaining: 1.95s\n",
      "703:\tlearn: 0.2505610\ttotal: 4.63s\tremaining: 1.95s\n",
      "704:\tlearn: 0.2505221\ttotal: 4.63s\tremaining: 1.94s\n",
      "705:\tlearn: 0.2504808\ttotal: 4.64s\tremaining: 1.93s\n",
      "706:\tlearn: 0.2504301\ttotal: 4.64s\tremaining: 1.92s\n",
      "707:\tlearn: 0.2504028\ttotal: 4.65s\tremaining: 1.92s\n",
      "708:\tlearn: 0.2503104\ttotal: 4.65s\tremaining: 1.91s\n",
      "709:\tlearn: 0.2502509\ttotal: 4.66s\tremaining: 1.9s\n",
      "710:\tlearn: 0.2502049\ttotal: 4.66s\tremaining: 1.9s\n",
      "711:\tlearn: 0.2500892\ttotal: 4.67s\tremaining: 1.89s\n",
      "712:\tlearn: 0.2500279\ttotal: 4.67s\tremaining: 1.88s\n",
      "713:\tlearn: 0.2499646\ttotal: 4.68s\tremaining: 1.87s\n",
      "714:\tlearn: 0.2498722\ttotal: 4.68s\tremaining: 1.87s\n",
      "715:\tlearn: 0.2498466\ttotal: 4.69s\tremaining: 1.86s\n",
      "716:\tlearn: 0.2498067\ttotal: 4.7s\tremaining: 1.85s\n",
      "717:\tlearn: 0.2496751\ttotal: 4.7s\tremaining: 1.85s\n",
      "718:\tlearn: 0.2496096\ttotal: 4.71s\tremaining: 1.84s\n",
      "719:\tlearn: 0.2495573\ttotal: 4.71s\tremaining: 1.83s\n",
      "720:\tlearn: 0.2495114\ttotal: 4.72s\tremaining: 1.83s\n",
      "721:\tlearn: 0.2494662\ttotal: 4.72s\tremaining: 1.82s\n",
      "722:\tlearn: 0.2494308\ttotal: 4.73s\tremaining: 1.81s\n",
      "723:\tlearn: 0.2493464\ttotal: 4.74s\tremaining: 1.8s\n",
      "724:\tlearn: 0.2493074\ttotal: 4.74s\tremaining: 1.8s\n",
      "725:\tlearn: 0.2492766\ttotal: 4.75s\tremaining: 1.79s\n",
      "726:\tlearn: 0.2491619\ttotal: 4.75s\tremaining: 1.78s\n",
      "727:\tlearn: 0.2490914\ttotal: 4.76s\tremaining: 1.78s\n",
      "728:\tlearn: 0.2489794\ttotal: 4.76s\tremaining: 1.77s\n",
      "729:\tlearn: 0.2488632\ttotal: 4.77s\tremaining: 1.76s\n",
      "730:\tlearn: 0.2488239\ttotal: 4.77s\tremaining: 1.75s\n",
      "731:\tlearn: 0.2487835\ttotal: 4.78s\tremaining: 1.75s\n",
      "732:\tlearn: 0.2487267\ttotal: 4.78s\tremaining: 1.74s\n",
      "733:\tlearn: 0.2486493\ttotal: 4.79s\tremaining: 1.73s\n",
      "734:\tlearn: 0.2486183\ttotal: 4.79s\tremaining: 1.73s\n",
      "735:\tlearn: 0.2485929\ttotal: 4.8s\tremaining: 1.72s\n",
      "736:\tlearn: 0.2485365\ttotal: 4.8s\tremaining: 1.71s\n",
      "737:\tlearn: 0.2484537\ttotal: 4.81s\tremaining: 1.71s\n",
      "738:\tlearn: 0.2483991\ttotal: 4.81s\tremaining: 1.7s\n",
      "739:\tlearn: 0.2483478\ttotal: 4.82s\tremaining: 1.69s\n",
      "740:\tlearn: 0.2482810\ttotal: 4.82s\tremaining: 1.69s\n",
      "741:\tlearn: 0.2482466\ttotal: 4.83s\tremaining: 1.68s\n",
      "742:\tlearn: 0.2482116\ttotal: 4.83s\tremaining: 1.67s\n",
      "743:\tlearn: 0.2481603\ttotal: 4.83s\tremaining: 1.66s\n",
      "744:\tlearn: 0.2480523\ttotal: 4.84s\tremaining: 1.66s\n",
      "745:\tlearn: 0.2480219\ttotal: 4.84s\tremaining: 1.65s\n",
      "746:\tlearn: 0.2479972\ttotal: 4.85s\tremaining: 1.64s\n",
      "747:\tlearn: 0.2479486\ttotal: 4.86s\tremaining: 1.64s\n",
      "748:\tlearn: 0.2478965\ttotal: 4.86s\tremaining: 1.63s\n",
      "749:\tlearn: 0.2478655\ttotal: 4.87s\tremaining: 1.62s\n",
      "750:\tlearn: 0.2478058\ttotal: 4.87s\tremaining: 1.61s\n",
      "751:\tlearn: 0.2477518\ttotal: 4.88s\tremaining: 1.61s\n",
      "752:\tlearn: 0.2476953\ttotal: 4.88s\tremaining: 1.6s\n",
      "753:\tlearn: 0.2476496\ttotal: 4.89s\tremaining: 1.59s\n",
      "754:\tlearn: 0.2475571\ttotal: 4.89s\tremaining: 1.59s\n",
      "755:\tlearn: 0.2474802\ttotal: 4.9s\tremaining: 1.58s\n",
      "756:\tlearn: 0.2474478\ttotal: 4.91s\tremaining: 1.57s\n",
      "757:\tlearn: 0.2474097\ttotal: 4.91s\tremaining: 1.57s\n",
      "758:\tlearn: 0.2473570\ttotal: 4.92s\tremaining: 1.56s\n",
      "759:\tlearn: 0.2473164\ttotal: 4.92s\tremaining: 1.55s\n",
      "760:\tlearn: 0.2472506\ttotal: 4.93s\tremaining: 1.55s\n",
      "761:\tlearn: 0.2472035\ttotal: 4.93s\tremaining: 1.54s\n",
      "762:\tlearn: 0.2471471\ttotal: 4.94s\tremaining: 1.53s\n",
      "763:\tlearn: 0.2471270\ttotal: 4.94s\tremaining: 1.53s\n",
      "764:\tlearn: 0.2470587\ttotal: 4.95s\tremaining: 1.52s\n",
      "765:\tlearn: 0.2469774\ttotal: 4.95s\tremaining: 1.51s\n",
      "766:\tlearn: 0.2469556\ttotal: 4.96s\tremaining: 1.51s\n",
      "767:\tlearn: 0.2469272\ttotal: 4.96s\tremaining: 1.5s\n",
      "768:\tlearn: 0.2468621\ttotal: 4.97s\tremaining: 1.49s\n",
      "769:\tlearn: 0.2468081\ttotal: 4.97s\tremaining: 1.49s\n",
      "770:\tlearn: 0.2466858\ttotal: 4.98s\tremaining: 1.48s\n",
      "771:\tlearn: 0.2466554\ttotal: 4.98s\tremaining: 1.47s\n",
      "772:\tlearn: 0.2465846\ttotal: 4.99s\tremaining: 1.47s\n",
      "773:\tlearn: 0.2464744\ttotal: 4.99s\tremaining: 1.46s\n",
      "774:\tlearn: 0.2464354\ttotal: 5s\tremaining: 1.45s\n",
      "775:\tlearn: 0.2463877\ttotal: 5s\tremaining: 1.44s\n",
      "776:\tlearn: 0.2463372\ttotal: 5.01s\tremaining: 1.44s\n",
      "777:\tlearn: 0.2462423\ttotal: 5.01s\tremaining: 1.43s\n",
      "778:\tlearn: 0.2461276\ttotal: 5.02s\tremaining: 1.42s\n",
      "779:\tlearn: 0.2460517\ttotal: 5.02s\tremaining: 1.42s\n",
      "780:\tlearn: 0.2459904\ttotal: 5.03s\tremaining: 1.41s\n",
      "781:\tlearn: 0.2459541\ttotal: 5.03s\tremaining: 1.4s\n",
      "782:\tlearn: 0.2458781\ttotal: 5.04s\tremaining: 1.4s\n",
      "783:\tlearn: 0.2458466\ttotal: 5.04s\tremaining: 1.39s\n",
      "784:\tlearn: 0.2458009\ttotal: 5.05s\tremaining: 1.38s\n",
      "785:\tlearn: 0.2457576\ttotal: 5.05s\tremaining: 1.38s\n",
      "786:\tlearn: 0.2456913\ttotal: 5.06s\tremaining: 1.37s\n",
      "787:\tlearn: 0.2456224\ttotal: 5.06s\tremaining: 1.36s\n",
      "788:\tlearn: 0.2455690\ttotal: 5.07s\tremaining: 1.36s\n",
      "789:\tlearn: 0.2455045\ttotal: 5.08s\tremaining: 1.35s\n",
      "790:\tlearn: 0.2454356\ttotal: 5.08s\tremaining: 1.34s\n",
      "791:\tlearn: 0.2453504\ttotal: 5.09s\tremaining: 1.34s\n",
      "792:\tlearn: 0.2452940\ttotal: 5.09s\tremaining: 1.33s\n",
      "793:\tlearn: 0.2451741\ttotal: 5.1s\tremaining: 1.32s\n",
      "794:\tlearn: 0.2451349\ttotal: 5.1s\tremaining: 1.32s\n",
      "795:\tlearn: 0.2450747\ttotal: 5.11s\tremaining: 1.31s\n",
      "796:\tlearn: 0.2450544\ttotal: 5.11s\tremaining: 1.3s\n",
      "797:\tlearn: 0.2450182\ttotal: 5.12s\tremaining: 1.3s\n",
      "798:\tlearn: 0.2449574\ttotal: 5.12s\tremaining: 1.29s\n",
      "799:\tlearn: 0.2449286\ttotal: 5.13s\tremaining: 1.28s\n",
      "800:\tlearn: 0.2449211\ttotal: 5.13s\tremaining: 1.27s\n",
      "801:\tlearn: 0.2448651\ttotal: 5.14s\tremaining: 1.27s\n",
      "802:\tlearn: 0.2448317\ttotal: 5.14s\tremaining: 1.26s\n",
      "803:\tlearn: 0.2447684\ttotal: 5.15s\tremaining: 1.25s\n",
      "804:\tlearn: 0.2446653\ttotal: 5.15s\tremaining: 1.25s\n",
      "805:\tlearn: 0.2446246\ttotal: 5.16s\tremaining: 1.24s\n",
      "806:\tlearn: 0.2445661\ttotal: 5.16s\tremaining: 1.24s\n",
      "807:\tlearn: 0.2445247\ttotal: 5.17s\tremaining: 1.23s\n",
      "808:\tlearn: 0.2444930\ttotal: 5.17s\tremaining: 1.22s\n",
      "809:\tlearn: 0.2444440\ttotal: 5.18s\tremaining: 1.21s\n",
      "810:\tlearn: 0.2444070\ttotal: 5.18s\tremaining: 1.21s\n",
      "811:\tlearn: 0.2443599\ttotal: 5.19s\tremaining: 1.2s\n",
      "812:\tlearn: 0.2442853\ttotal: 5.19s\tremaining: 1.19s\n",
      "813:\tlearn: 0.2442588\ttotal: 5.21s\tremaining: 1.19s\n",
      "814:\tlearn: 0.2442198\ttotal: 5.21s\tremaining: 1.18s\n",
      "815:\tlearn: 0.2441435\ttotal: 5.22s\tremaining: 1.18s\n",
      "816:\tlearn: 0.2441103\ttotal: 5.22s\tremaining: 1.17s\n",
      "817:\tlearn: 0.2440411\ttotal: 5.23s\tremaining: 1.16s\n",
      "818:\tlearn: 0.2439355\ttotal: 5.23s\tremaining: 1.16s\n",
      "819:\tlearn: 0.2438804\ttotal: 5.24s\tremaining: 1.15s\n"
     ]
    },
    {
     "name": "stdout",
     "output_type": "stream",
     "text": [
      "820:\tlearn: 0.2438424\ttotal: 5.24s\tremaining: 1.14s\n",
      "821:\tlearn: 0.2437990\ttotal: 5.25s\tremaining: 1.14s\n",
      "822:\tlearn: 0.2437794\ttotal: 5.26s\tremaining: 1.13s\n",
      "823:\tlearn: 0.2437497\ttotal: 5.26s\tremaining: 1.12s\n",
      "824:\tlearn: 0.2437339\ttotal: 5.27s\tremaining: 1.12s\n",
      "825:\tlearn: 0.2436999\ttotal: 5.27s\tremaining: 1.11s\n",
      "826:\tlearn: 0.2436505\ttotal: 5.28s\tremaining: 1.1s\n",
      "827:\tlearn: 0.2435795\ttotal: 5.29s\tremaining: 1.1s\n",
      "828:\tlearn: 0.2434899\ttotal: 5.3s\tremaining: 1.09s\n",
      "829:\tlearn: 0.2434401\ttotal: 5.3s\tremaining: 1.09s\n",
      "830:\tlearn: 0.2433751\ttotal: 5.31s\tremaining: 1.08s\n",
      "831:\tlearn: 0.2432750\ttotal: 5.31s\tremaining: 1.07s\n",
      "832:\tlearn: 0.2432287\ttotal: 5.32s\tremaining: 1.07s\n",
      "833:\tlearn: 0.2431920\ttotal: 5.32s\tremaining: 1.06s\n",
      "834:\tlearn: 0.2431339\ttotal: 5.33s\tremaining: 1.05s\n",
      "835:\tlearn: 0.2430729\ttotal: 5.33s\tremaining: 1.05s\n",
      "836:\tlearn: 0.2428958\ttotal: 5.34s\tremaining: 1.04s\n",
      "837:\tlearn: 0.2428571\ttotal: 5.34s\tremaining: 1.03s\n",
      "838:\tlearn: 0.2428089\ttotal: 5.35s\tremaining: 1.03s\n",
      "839:\tlearn: 0.2427740\ttotal: 5.36s\tremaining: 1.02s\n",
      "840:\tlearn: 0.2427185\ttotal: 5.36s\tremaining: 1.01s\n",
      "841:\tlearn: 0.2426301\ttotal: 5.37s\tremaining: 1.01s\n",
      "842:\tlearn: 0.2426025\ttotal: 5.37s\tremaining: 1s\n",
      "843:\tlearn: 0.2425764\ttotal: 5.38s\tremaining: 994ms\n",
      "844:\tlearn: 0.2425449\ttotal: 5.38s\tremaining: 987ms\n",
      "845:\tlearn: 0.2424873\ttotal: 5.39s\tremaining: 980ms\n",
      "846:\tlearn: 0.2424437\ttotal: 5.39s\tremaining: 974ms\n",
      "847:\tlearn: 0.2424133\ttotal: 5.4s\tremaining: 967ms\n",
      "848:\tlearn: 0.2423576\ttotal: 5.4s\tremaining: 961ms\n",
      "849:\tlearn: 0.2422774\ttotal: 5.41s\tremaining: 954ms\n",
      "850:\tlearn: 0.2422137\ttotal: 5.41s\tremaining: 947ms\n",
      "851:\tlearn: 0.2421445\ttotal: 5.42s\tremaining: 941ms\n",
      "852:\tlearn: 0.2420465\ttotal: 5.42s\tremaining: 934ms\n",
      "853:\tlearn: 0.2420251\ttotal: 5.43s\tremaining: 928ms\n",
      "854:\tlearn: 0.2419990\ttotal: 5.43s\tremaining: 922ms\n",
      "855:\tlearn: 0.2419364\ttotal: 5.44s\tremaining: 915ms\n",
      "856:\tlearn: 0.2418683\ttotal: 5.45s\tremaining: 909ms\n",
      "857:\tlearn: 0.2418036\ttotal: 5.45s\tremaining: 902ms\n",
      "858:\tlearn: 0.2417754\ttotal: 5.46s\tremaining: 896ms\n",
      "859:\tlearn: 0.2417372\ttotal: 5.46s\tremaining: 889ms\n",
      "860:\tlearn: 0.2416996\ttotal: 5.47s\tremaining: 883ms\n",
      "861:\tlearn: 0.2415689\ttotal: 5.47s\tremaining: 877ms\n",
      "862:\tlearn: 0.2414857\ttotal: 5.48s\tremaining: 870ms\n",
      "863:\tlearn: 0.2414456\ttotal: 5.49s\tremaining: 863ms\n",
      "864:\tlearn: 0.2414110\ttotal: 5.49s\tremaining: 857ms\n",
      "865:\tlearn: 0.2413361\ttotal: 5.5s\tremaining: 850ms\n",
      "866:\tlearn: 0.2413189\ttotal: 5.5s\tremaining: 844ms\n",
      "867:\tlearn: 0.2412808\ttotal: 5.51s\tremaining: 837ms\n",
      "868:\tlearn: 0.2411788\ttotal: 5.51s\tremaining: 831ms\n",
      "869:\tlearn: 0.2411532\ttotal: 5.52s\tremaining: 824ms\n",
      "870:\tlearn: 0.2409959\ttotal: 5.52s\tremaining: 818ms\n",
      "871:\tlearn: 0.2408803\ttotal: 5.53s\tremaining: 811ms\n",
      "872:\tlearn: 0.2408463\ttotal: 5.53s\tremaining: 805ms\n",
      "873:\tlearn: 0.2407939\ttotal: 5.54s\tremaining: 798ms\n",
      "874:\tlearn: 0.2407536\ttotal: 5.54s\tremaining: 792ms\n",
      "875:\tlearn: 0.2407033\ttotal: 5.55s\tremaining: 785ms\n",
      "876:\tlearn: 0.2406840\ttotal: 5.55s\tremaining: 779ms\n",
      "877:\tlearn: 0.2406543\ttotal: 5.56s\tremaining: 772ms\n",
      "878:\tlearn: 0.2405149\ttotal: 5.56s\tremaining: 766ms\n",
      "879:\tlearn: 0.2404603\ttotal: 5.57s\tremaining: 759ms\n",
      "880:\tlearn: 0.2404113\ttotal: 5.57s\tremaining: 753ms\n",
      "881:\tlearn: 0.2403615\ttotal: 5.58s\tremaining: 746ms\n",
      "882:\tlearn: 0.2403203\ttotal: 5.58s\tremaining: 740ms\n",
      "883:\tlearn: 0.2402656\ttotal: 5.59s\tremaining: 733ms\n",
      "884:\tlearn: 0.2401632\ttotal: 5.59s\tremaining: 727ms\n",
      "885:\tlearn: 0.2400779\ttotal: 5.6s\tremaining: 720ms\n",
      "886:\tlearn: 0.2399847\ttotal: 5.6s\tremaining: 714ms\n",
      "887:\tlearn: 0.2399491\ttotal: 5.61s\tremaining: 708ms\n",
      "888:\tlearn: 0.2399195\ttotal: 5.62s\tremaining: 701ms\n",
      "889:\tlearn: 0.2398616\ttotal: 5.62s\tremaining: 695ms\n",
      "890:\tlearn: 0.2398116\ttotal: 5.63s\tremaining: 689ms\n",
      "891:\tlearn: 0.2397696\ttotal: 5.63s\tremaining: 682ms\n",
      "892:\tlearn: 0.2397298\ttotal: 5.64s\tremaining: 676ms\n",
      "893:\tlearn: 0.2396853\ttotal: 5.64s\tremaining: 669ms\n",
      "894:\tlearn: 0.2396380\ttotal: 5.65s\tremaining: 663ms\n",
      "895:\tlearn: 0.2394714\ttotal: 5.66s\tremaining: 657ms\n",
      "896:\tlearn: 0.2394391\ttotal: 5.66s\tremaining: 650ms\n",
      "897:\tlearn: 0.2393852\ttotal: 5.67s\tremaining: 644ms\n",
      "898:\tlearn: 0.2393357\ttotal: 5.67s\tremaining: 637ms\n",
      "899:\tlearn: 0.2392589\ttotal: 5.68s\tremaining: 631ms\n",
      "900:\tlearn: 0.2392196\ttotal: 5.68s\tremaining: 624ms\n",
      "901:\tlearn: 0.2391788\ttotal: 5.69s\tremaining: 618ms\n",
      "902:\tlearn: 0.2391408\ttotal: 5.69s\tremaining: 611ms\n",
      "903:\tlearn: 0.2390982\ttotal: 5.7s\tremaining: 605ms\n",
      "904:\tlearn: 0.2390703\ttotal: 5.7s\tremaining: 599ms\n",
      "905:\tlearn: 0.2390042\ttotal: 5.71s\tremaining: 592ms\n",
      "906:\tlearn: 0.2389729\ttotal: 5.71s\tremaining: 586ms\n",
      "907:\tlearn: 0.2389415\ttotal: 5.72s\tremaining: 579ms\n",
      "908:\tlearn: 0.2388768\ttotal: 5.72s\tremaining: 573ms\n",
      "909:\tlearn: 0.2387826\ttotal: 5.73s\tremaining: 566ms\n",
      "910:\tlearn: 0.2387096\ttotal: 5.73s\tremaining: 560ms\n",
      "911:\tlearn: 0.2386964\ttotal: 5.74s\tremaining: 553ms\n",
      "912:\tlearn: 0.2386658\ttotal: 5.74s\tremaining: 547ms\n",
      "913:\tlearn: 0.2386107\ttotal: 5.75s\tremaining: 541ms\n",
      "914:\tlearn: 0.2385576\ttotal: 5.75s\tremaining: 534ms\n",
      "915:\tlearn: 0.2385186\ttotal: 5.75s\tremaining: 528ms\n",
      "916:\tlearn: 0.2384752\ttotal: 5.76s\tremaining: 521ms\n",
      "917:\tlearn: 0.2384502\ttotal: 5.76s\tremaining: 515ms\n",
      "918:\tlearn: 0.2383672\ttotal: 5.77s\tremaining: 509ms\n",
      "919:\tlearn: 0.2383184\ttotal: 5.78s\tremaining: 502ms\n",
      "920:\tlearn: 0.2380429\ttotal: 5.78s\tremaining: 496ms\n",
      "921:\tlearn: 0.2380165\ttotal: 5.79s\tremaining: 490ms\n",
      "922:\tlearn: 0.2379638\ttotal: 5.79s\tremaining: 483ms\n",
      "923:\tlearn: 0.2379344\ttotal: 5.8s\tremaining: 477ms\n",
      "924:\tlearn: 0.2378624\ttotal: 5.8s\tremaining: 471ms\n",
      "925:\tlearn: 0.2378133\ttotal: 5.81s\tremaining: 464ms\n",
      "926:\tlearn: 0.2377387\ttotal: 5.82s\tremaining: 458ms\n",
      "927:\tlearn: 0.2376878\ttotal: 5.82s\tremaining: 452ms\n",
      "928:\tlearn: 0.2376395\ttotal: 5.83s\tremaining: 445ms\n",
      "929:\tlearn: 0.2375983\ttotal: 5.83s\tremaining: 439ms\n",
      "930:\tlearn: 0.2375771\ttotal: 5.84s\tremaining: 433ms\n",
      "931:\tlearn: 0.2375000\ttotal: 5.84s\tremaining: 426ms\n",
      "932:\tlearn: 0.2374659\ttotal: 5.85s\tremaining: 420ms\n",
      "933:\tlearn: 0.2373934\ttotal: 5.86s\tremaining: 414ms\n",
      "934:\tlearn: 0.2373690\ttotal: 5.86s\tremaining: 407ms\n",
      "935:\tlearn: 0.2373205\ttotal: 5.87s\tremaining: 401ms\n",
      "936:\tlearn: 0.2372422\ttotal: 5.87s\tremaining: 395ms\n",
      "937:\tlearn: 0.2371964\ttotal: 5.88s\tremaining: 388ms\n",
      "938:\tlearn: 0.2371318\ttotal: 5.88s\tremaining: 382ms\n",
      "939:\tlearn: 0.2370964\ttotal: 5.88s\tremaining: 376ms\n",
      "940:\tlearn: 0.2370714\ttotal: 5.89s\tremaining: 369ms\n",
      "941:\tlearn: 0.2370409\ttotal: 5.89s\tremaining: 363ms\n",
      "942:\tlearn: 0.2370169\ttotal: 5.9s\tremaining: 357ms\n",
      "943:\tlearn: 0.2369861\ttotal: 5.91s\tremaining: 350ms\n",
      "944:\tlearn: 0.2369283\ttotal: 5.91s\tremaining: 344ms\n",
      "945:\tlearn: 0.2368850\ttotal: 5.92s\tremaining: 338ms\n",
      "946:\tlearn: 0.2368444\ttotal: 5.92s\tremaining: 331ms\n",
      "947:\tlearn: 0.2367582\ttotal: 5.92s\tremaining: 325ms\n",
      "948:\tlearn: 0.2367182\ttotal: 5.93s\tremaining: 319ms\n",
      "949:\tlearn: 0.2366589\ttotal: 5.93s\tremaining: 312ms\n",
      "950:\tlearn: 0.2366095\ttotal: 5.94s\tremaining: 306ms\n",
      "951:\tlearn: 0.2365786\ttotal: 5.95s\tremaining: 300ms\n",
      "952:\tlearn: 0.2365440\ttotal: 5.95s\tremaining: 293ms\n",
      "953:\tlearn: 0.2365275\ttotal: 5.96s\tremaining: 287ms\n",
      "954:\tlearn: 0.2364902\ttotal: 5.96s\tremaining: 281ms\n",
      "955:\tlearn: 0.2364645\ttotal: 5.96s\tremaining: 275ms\n",
      "956:\tlearn: 0.2364197\ttotal: 5.97s\tremaining: 268ms\n",
      "957:\tlearn: 0.2363935\ttotal: 5.98s\tremaining: 262ms\n",
      "958:\tlearn: 0.2363718\ttotal: 5.98s\tremaining: 256ms\n",
      "959:\tlearn: 0.2363272\ttotal: 5.99s\tremaining: 250ms\n",
      "960:\tlearn: 0.2362691\ttotal: 5.99s\tremaining: 243ms\n",
      "961:\tlearn: 0.2362214\ttotal: 6s\tremaining: 237ms\n",
      "962:\tlearn: 0.2361807\ttotal: 6s\tremaining: 231ms\n",
      "963:\tlearn: 0.2361532\ttotal: 6.01s\tremaining: 225ms\n",
      "964:\tlearn: 0.2361331\ttotal: 6.02s\tremaining: 218ms\n",
      "965:\tlearn: 0.2360747\ttotal: 6.02s\tremaining: 212ms\n",
      "966:\tlearn: 0.2360383\ttotal: 6.03s\tremaining: 206ms\n",
      "967:\tlearn: 0.2360055\ttotal: 6.03s\tremaining: 199ms\n",
      "968:\tlearn: 0.2359414\ttotal: 6.04s\tremaining: 193ms\n",
      "969:\tlearn: 0.2358950\ttotal: 6.04s\tremaining: 187ms\n",
      "970:\tlearn: 0.2358218\ttotal: 6.05s\tremaining: 181ms\n",
      "971:\tlearn: 0.2357706\ttotal: 6.05s\tremaining: 174ms\n",
      "972:\tlearn: 0.2357419\ttotal: 6.06s\tremaining: 168ms\n",
      "973:\tlearn: 0.2356939\ttotal: 6.06s\tremaining: 162ms\n",
      "974:\tlearn: 0.2356652\ttotal: 6.07s\tremaining: 156ms\n",
      "975:\tlearn: 0.2356273\ttotal: 6.07s\tremaining: 149ms\n",
      "976:\tlearn: 0.2355883\ttotal: 6.08s\tremaining: 143ms\n",
      "977:\tlearn: 0.2355514\ttotal: 6.08s\tremaining: 137ms\n",
      "978:\tlearn: 0.2355138\ttotal: 6.09s\tremaining: 131ms\n",
      "979:\tlearn: 0.2354330\ttotal: 6.09s\tremaining: 124ms\n",
      "980:\tlearn: 0.2353803\ttotal: 6.1s\tremaining: 118ms\n",
      "981:\tlearn: 0.2353619\ttotal: 6.1s\tremaining: 112ms\n",
      "982:\tlearn: 0.2353259\ttotal: 6.11s\tremaining: 106ms\n",
      "983:\tlearn: 0.2352931\ttotal: 6.11s\tremaining: 99.4ms\n",
      "984:\tlearn: 0.2352113\ttotal: 6.12s\tremaining: 93.2ms\n",
      "985:\tlearn: 0.2351452\ttotal: 6.12s\tremaining: 87ms\n",
      "986:\tlearn: 0.2350547\ttotal: 6.13s\tremaining: 80.7ms\n",
      "987:\tlearn: 0.2350102\ttotal: 6.13s\tremaining: 74.5ms\n",
      "988:\tlearn: 0.2349883\ttotal: 6.14s\tremaining: 68.3ms\n",
      "989:\tlearn: 0.2349074\ttotal: 6.14s\tremaining: 62.1ms\n",
      "990:\tlearn: 0.2348501\ttotal: 6.15s\tremaining: 55.9ms\n",
      "991:\tlearn: 0.2348017\ttotal: 6.15s\tremaining: 49.6ms\n",
      "992:\tlearn: 0.2347587\ttotal: 6.16s\tremaining: 43.4ms\n"
     ]
    },
    {
     "name": "stdout",
     "output_type": "stream",
     "text": [
      "993:\tlearn: 0.2347340\ttotal: 6.17s\tremaining: 37.2ms\n",
      "994:\tlearn: 0.2347175\ttotal: 6.17s\tremaining: 31ms\n",
      "995:\tlearn: 0.2346819\ttotal: 6.18s\tremaining: 24.8ms\n",
      "996:\tlearn: 0.2346571\ttotal: 6.18s\tremaining: 18.6ms\n",
      "997:\tlearn: 0.2346329\ttotal: 6.19s\tremaining: 12.4ms\n",
      "998:\tlearn: 0.2345955\ttotal: 6.2s\tremaining: 6.2ms\n",
      "999:\tlearn: 0.2345504\ttotal: 6.2s\tremaining: 0us\n"
     ]
    }
   ],
   "source": [
    "%%capture\n",
    "model = CatBoostRegressor()\n",
    "model.fit(x_train_19, y_train_19)\n",
    "y_pred_19 = model.predict(x_test_19)\n",
    "# Calculation of Mean Squared Error (MSE)\n",
    "mse = mean_squared_error(y_test_19, y_pred_19)\n",
    "print('MSE for CatBoost 2019 is: ' + str(mse))"
   ]
  },
  {
   "cell_type": "code",
   "execution_count": 170,
   "id": "f0207e79",
   "metadata": {},
   "outputs": [
    {
     "name": "stdout",
     "output_type": "stream",
     "text": [
      "RMSE for LightGBM 2019 is: 0.3802341814589412\n"
     ]
    }
   ],
   "source": [
    "rmse = mean_squared_error(y_test_19, y_pred_19, squared = False)\n",
    "print('RMSE for LightGBM 2019 is: ' + str(rmse))"
   ]
  },
  {
   "cell_type": "code",
   "execution_count": 171,
   "id": "aa550157",
   "metadata": {},
   "outputs": [
    {
     "name": "stdout",
     "output_type": "stream",
     "text": [
      "Median Absolute Error:\n",
      "\n",
      "0.13385328434469557\n"
     ]
    }
   ],
   "source": [
    "median_se = np.square(np.subtract(y_test_19, y_pred_19)).median() \n",
    " \n",
    "med = math.sqrt(median_se)\n",
    "print(\"Median Absolute Error:\\n\")\n",
    "print(med)"
   ]
  },
  {
   "cell_type": "code",
   "execution_count": 172,
   "id": "953208a1",
   "metadata": {},
   "outputs": [
    {
     "name": "stdout",
     "output_type": "stream",
     "text": [
      "Accuracy of properties at +- 10% of actual prices is 0.38142168169427554\n"
     ]
    }
   ],
   "source": [
    "acc = accuracy_threshold(y_test_19, y_pred_19, 0.1)\n",
    "print('Accuracy of properties at +- 10% of actual prices is ' + str(acc))"
   ]
  },
  {
   "cell_type": "code",
   "execution_count": 173,
   "id": "a11409ef",
   "metadata": {},
   "outputs": [
    {
     "name": "stdout",
     "output_type": "stream",
     "text": [
      "MAPE for CatBoost 2019 is: 0.017920949201692404\n"
     ]
    }
   ],
   "source": [
    "mape = mean_absolute_percentage_error(y_test_19, y_pred_19)\n",
    "print(\"MAPE for CatBoost 2019 is: \" + str(mape))"
   ]
  },
  {
   "cell_type": "code",
   "execution_count": 174,
   "id": "62ab734b",
   "metadata": {},
   "outputs": [],
   "source": [
    "cnames = ['Algorithm', 'Year', 'RMSE', 'MSE', 'MEDAE', 'Accuracy', 'MAPE']\n",
    "df16 = pd.DataFrame(columns = cnames)\n",
    "\n",
    "df16 = df16.append({'Algorithm': 'CatBoost',\n",
    "           'Year': 2019,\n",
    "           'RMSE': rmse,\n",
    "           'MSE': mse,\n",
    "           'MEDAE': med,\n",
    "           'Accuracy': acc,\n",
    "           'MAPE': mape         \n",
    "          }, ignore_index = True)"
   ]
  },
  {
   "cell_type": "markdown",
   "id": "03917aff",
   "metadata": {},
   "source": [
    "### BayesianRidge"
   ]
  },
  {
   "cell_type": "code",
   "execution_count": 175,
   "id": "bb47ee44",
   "metadata": {},
   "outputs": [
    {
     "name": "stdout",
     "output_type": "stream",
     "text": [
      "MSE for BayesianRidge 2019 is: 0.16674391887061166\n"
     ]
    }
   ],
   "source": [
    "clf = BayesianRidge()\n",
    "clf.fit(x_train_19, y_train_19)\n",
    "y_pred_19 = clf.predict(x_test_19)\n",
    "# Calculation of Mean Squared Error (MSE)\n",
    "mse = mean_squared_error(y_test_19, y_pred_19)\n",
    "print('MSE for BayesianRidge 2019 is: ' + str(mse))"
   ]
  },
  {
   "cell_type": "code",
   "execution_count": 176,
   "id": "f2c9faf8",
   "metadata": {},
   "outputs": [
    {
     "name": "stdout",
     "output_type": "stream",
     "text": [
      "RMSE for LightGBM 2019 is: 0.4083428937432506\n"
     ]
    }
   ],
   "source": [
    "rmse = mean_squared_error(y_test_19, y_pred_19, squared = False)\n",
    "print('RMSE for LightGBM 2019 is: ' + str(rmse))"
   ]
  },
  {
   "cell_type": "code",
   "execution_count": 177,
   "id": "8c56c82e",
   "metadata": {},
   "outputs": [
    {
     "name": "stdout",
     "output_type": "stream",
     "text": [
      "Median Absolute Error:\n",
      "\n",
      "0.15171752741053446\n"
     ]
    }
   ],
   "source": [
    "median_se = np.square(np.subtract(y_test_19, y_pred_19)).median() \n",
    " \n",
    "med = math.sqrt(median_se)\n",
    "print(\"Median Absolute Error:\\n\")\n",
    "print(med)"
   ]
  },
  {
   "cell_type": "code",
   "execution_count": 178,
   "id": "5a59de31",
   "metadata": {},
   "outputs": [
    {
     "name": "stdout",
     "output_type": "stream",
     "text": [
      "Accuracy of properties at +- 10% of actual prices is 0.35101698469280773\n"
     ]
    }
   ],
   "source": [
    "acc = accuracy_threshold(y_test_19, y_pred_19, 0.1)\n",
    "print('Accuracy of properties at +- 10% of actual prices is ' + str(acc))"
   ]
  },
  {
   "cell_type": "code",
   "execution_count": 179,
   "id": "89f14d4e",
   "metadata": {},
   "outputs": [
    {
     "name": "stdout",
     "output_type": "stream",
     "text": [
      "MAPE for BayesianRidge 2019 is: 0.019782133339984444\n"
     ]
    }
   ],
   "source": [
    "mape = mean_absolute_percentage_error(y_test_19, y_pred_19)\n",
    "print(\"MAPE for BayesianRidge 2019 is: \" + str(mape))"
   ]
  },
  {
   "cell_type": "code",
   "execution_count": 180,
   "id": "98a6ba59",
   "metadata": {},
   "outputs": [],
   "source": [
    "cnames = ['Algorithm', 'Year', 'RMSE', 'MSE', 'MEDAE', 'Accuracy', 'MAPE']\n",
    "df17 = pd.DataFrame(columns = cnames)\n",
    "\n",
    "df17 = df17.append({'Algorithm': 'Bayesian',\n",
    "           'Year': 2019,\n",
    "           'RMSE': rmse,\n",
    "           'MSE': mse,\n",
    "           'MEDAE': med,\n",
    "           'Accuracy': acc,\n",
    "           'MAPE': mape         \n",
    "          }, ignore_index = True)"
   ]
  },
  {
   "cell_type": "markdown",
   "id": "c20aed69",
   "metadata": {},
   "source": [
    "## 2018"
   ]
  },
  {
   "cell_type": "code",
   "execution_count": 181,
   "id": "70eac5c9",
   "metadata": {},
   "outputs": [],
   "source": [
    "specific18 = irl[irl['Year'] > 2014]\n",
    "test_18 = specific18[specific18['Year'] == 2018]\n",
    "train_18 = specific18[specific18['Year'] < 2018]\n",
    "\n",
    "x_train_18 = train_18.loc[:, train_18.columns != 'PriceLog']\n",
    "y_train_18 = train_18['PriceLog']\n",
    "x_test_18 = test_18.loc[:, test_18.columns != 'PriceLog']\n",
    "y_test_18 = test_18['PriceLog']"
   ]
  },
  {
   "cell_type": "markdown",
   "id": "b65f0852",
   "metadata": {},
   "source": [
    "### AutoML"
   ]
  },
  {
   "cell_type": "code",
   "execution_count": 182,
   "id": "fa364063",
   "metadata": {},
   "outputs": [
    {
     "name": "stdout",
     "output_type": "stream",
     "text": [
      "Linear algorithm was disabled.\n",
      "AutoML directory: AutoML_4\n",
      "The task is regression with evaluation metric rmse\n",
      "AutoML will use algorithms: ['Baseline', 'Decision Tree', 'Random Forest', 'Xgboost', 'Neural Network']\n",
      "AutoML will ensemble available models\n",
      "AutoML steps: ['simple_algorithms', 'default_algorithms', 'ensemble']\n",
      "* Step simple_algorithms will try to check up to 2 models\n",
      "1_Baseline rmse 0.570843 trained in 1.56 seconds\n",
      "2_DecisionTree rmse 0.390957 trained in 5.28 seconds\n",
      "* Step default_algorithms will try to check up to 3 models\n",
      "3_Default_Xgboost rmse 0.334541 trained in 8.12 seconds\n",
      "4_Default_NeuralNetwork rmse 0.352769 trained in 2.84 seconds\n",
      "5_Default_RandomForest rmse 0.365614 trained in 8.84 seconds\n",
      "* Step ensemble will try to check up to 1 model\n",
      "Ensemble rmse 0.333497 trained in 0.52 seconds\n",
      "AutoML fit time: 41.79 seconds\n",
      "AutoML best model: Ensemble\n"
     ]
    },
    {
     "data": {
      "text/plain": [
       "AutoML(explain_level=2, total_time_limit=300)"
      ]
     },
     "execution_count": 182,
     "metadata": {},
     "output_type": "execute_result"
    }
   ],
   "source": [
    "automl = AutoML(total_time_limit = 5 * 60, explain_level = 2)\n",
    "automl.fit(x_train_18, y_train_18)"
   ]
  },
  {
   "cell_type": "code",
   "execution_count": 183,
   "id": "b94a4be7",
   "metadata": {},
   "outputs": [
    {
     "name": "stdout",
     "output_type": "stream",
     "text": [
      "MSE for AutoML 2018 is: 0.16973403155003397\n"
     ]
    }
   ],
   "source": [
    "y_pred_18 = automl.predict(x_test_18)\n",
    "# Calculation of Mean Squared Error (MSE)\n",
    "mse = mean_squared_error(y_test_18, y_pred_18)\n",
    "print('MSE for AutoML 2018 is: ' + str(mse))"
   ]
  },
  {
   "cell_type": "code",
   "execution_count": 184,
   "id": "bb3f67a0",
   "metadata": {},
   "outputs": [
    {
     "name": "stdout",
     "output_type": "stream",
     "text": [
      "Accuracy of properties at +- 10% of actual prices is 0.37906440109083284\n"
     ]
    }
   ],
   "source": [
    "acc = accuracy_threshold(y_test_18, y_pred_18, 0.1)\n",
    "print('Accuracy of properties at +- 10% of actual prices is ' + str(acc))"
   ]
  },
  {
   "cell_type": "code",
   "execution_count": 185,
   "id": "4ac9ef36",
   "metadata": {},
   "outputs": [
    {
     "name": "stdout",
     "output_type": "stream",
     "text": [
      "RMSE for AutoML 2018 is: 0.41198790218892833\n"
     ]
    }
   ],
   "source": [
    "rmse = mean_squared_error(y_test_18, y_pred_18, squared = False)\n",
    "print('RMSE for AutoML 2018 is: ' + str(rmse))"
   ]
  },
  {
   "cell_type": "code",
   "execution_count": 186,
   "id": "86bd10ad",
   "metadata": {},
   "outputs": [
    {
     "name": "stdout",
     "output_type": "stream",
     "text": [
      "Median Absolute Error:\n",
      "\n",
      "0.13881251944209083\n"
     ]
    }
   ],
   "source": [
    "median_se = np.square(np.subtract(y_test_18, y_pred_18)).median() \n",
    " \n",
    "med = math.sqrt(median_se)\n",
    "print(\"Median Absolute Error:\\n\")\n",
    "print(med)"
   ]
  },
  {
   "cell_type": "code",
   "execution_count": 187,
   "id": "ce57f425",
   "metadata": {},
   "outputs": [
    {
     "name": "stdout",
     "output_type": "stream",
     "text": [
      "MAPE for AutoML 2018 is: 0.018381925697867223\n"
     ]
    }
   ],
   "source": [
    "mape = mean_absolute_percentage_error(y_test_18, y_pred_18)\n",
    "print(\"MAPE for AutoML 2018 is: \" + str(mape))"
   ]
  },
  {
   "cell_type": "code",
   "execution_count": 188,
   "id": "f4c913fe",
   "metadata": {},
   "outputs": [],
   "source": [
    "cnames = ['Algorithm', 'Year', 'RMSE', 'MSE', 'MEDAE', 'Accuracy','MAPE']\n",
    "df18 = pd.DataFrame(columns = cnames)\n",
    "\n",
    "df18 = df18.append({'Algorithm': 'AutoML',\n",
    "           'Year': 2018,\n",
    "           'RMSE': rmse,\n",
    "           'MSE': mse,\n",
    "           'MEDAE': med,\n",
    "           'Accuracy': acc,\n",
    "           'MAPE': mape         \n",
    "          }, ignore_index = True)"
   ]
  },
  {
   "cell_type": "code",
   "execution_count": 189,
   "id": "2fb97643",
   "metadata": {},
   "outputs": [],
   "source": [
    "#cnames = ['Actual', 'Predicted']\n",
    "#dfreal4 = pd.DataFrame(columns = cnames)\n",
    "dfreal4 = pd.DataFrame(y_test_18.values)\n",
    "dfpred4 = pd.DataFrame(y_pred_18)\n",
    "#dfreal4 = pd.concat([z1, z2], ignore_index=True)"
   ]
  },
  {
   "cell_type": "markdown",
   "id": "41eb5867",
   "metadata": {},
   "source": [
    "### MLR"
   ]
  },
  {
   "cell_type": "code",
   "execution_count": 190,
   "id": "e5483603",
   "metadata": {},
   "outputs": [
    {
     "name": "stdout",
     "output_type": "stream",
     "text": [
      "MSE for MLR 2018 is: 0.19186559153350102\n"
     ]
    }
   ],
   "source": [
    "lm = linear_model.LinearRegression()\n",
    "lm.fit(x_train_18, y_train_18) # fitting the model\n",
    "y_pred_18 = lm.predict(x_test_18)\n",
    "# Calculation of Mean Squared Error (MSE)\n",
    "mse = mean_squared_error(y_test_18, y_pred_18)\n",
    "print('MSE for MLR 2018 is: ' + str(mse))"
   ]
  },
  {
   "cell_type": "code",
   "execution_count": 191,
   "id": "9792680e",
   "metadata": {},
   "outputs": [
    {
     "name": "stdout",
     "output_type": "stream",
     "text": [
      "Accuracy of properties at +- 10% of actual prices is 0.34780784560520245\n"
     ]
    }
   ],
   "source": [
    "acc = accuracy_threshold(y_test_18, y_pred_18, 0.1)\n",
    "print('Accuracy of properties at +- 10% of actual prices is ' + str(acc))"
   ]
  },
  {
   "cell_type": "code",
   "execution_count": 192,
   "id": "2daab6dc",
   "metadata": {},
   "outputs": [
    {
     "name": "stdout",
     "output_type": "stream",
     "text": [
      "RMSE for MLR 2018 is: 0.43802464717581935\n"
     ]
    }
   ],
   "source": [
    "rmse = mean_squared_error(y_test_18, y_pred_18, squared = False)\n",
    "print('RMSE for MLR 2018 is: ' + str(rmse))"
   ]
  },
  {
   "cell_type": "code",
   "execution_count": 193,
   "id": "a236271b",
   "metadata": {},
   "outputs": [
    {
     "name": "stdout",
     "output_type": "stream",
     "text": [
      "Median Absolute Error:\n",
      "\n",
      "0.1557030028338584\n"
     ]
    }
   ],
   "source": [
    "median_se = np.square(np.subtract(y_test_18, y_pred_18)).median() \n",
    " \n",
    "med = math.sqrt(median_se)\n",
    "print(\"Median Absolute Error:\\n\")\n",
    "print(med)"
   ]
  },
  {
   "cell_type": "code",
   "execution_count": 194,
   "id": "8b04f02b",
   "metadata": {},
   "outputs": [
    {
     "name": "stdout",
     "output_type": "stream",
     "text": [
      "MAPE for MLR 2018 is: 0.020458168423510635\n"
     ]
    }
   ],
   "source": [
    "mape = mean_absolute_percentage_error(y_test_18, y_pred_18)\n",
    "print(\"MAPE for MLR 2018 is: \" + str(mape))"
   ]
  },
  {
   "cell_type": "code",
   "execution_count": 195,
   "id": "9781eb0f",
   "metadata": {},
   "outputs": [],
   "source": [
    "cnames = ['Algorithm', 'Year', 'RMSE', 'MSE', 'MEDAE', 'Accuracy', 'MAPE']\n",
    "df19 = pd.DataFrame(columns = cnames)\n",
    "\n",
    "df19 = df19.append({'Algorithm': 'MLR',\n",
    "           'Year': 2018,\n",
    "           'RMSE': rmse,\n",
    "           'MSE': mse,\n",
    "           'MEDAE': med,\n",
    "           'Accuracy': acc,\n",
    "           'MAPE': mape         \n",
    "          }, ignore_index = True)"
   ]
  },
  {
   "cell_type": "markdown",
   "id": "18d02369",
   "metadata": {},
   "source": [
    "### AdaBoost"
   ]
  },
  {
   "cell_type": "code",
   "execution_count": 196,
   "id": "d8820d35",
   "metadata": {},
   "outputs": [
    {
     "name": "stdout",
     "output_type": "stream",
     "text": [
      "MSE for AdaBoost 2018 is: 0.22855153721219895\n"
     ]
    }
   ],
   "source": [
    "model = AdaBoostRegressor()\n",
    "model.fit(x_train_18, y_train_18)\n",
    "y_pred_18 = model.predict(x_test_18)\n",
    "# Calculation of Mean Squared Error (MSE)\n",
    "mse = mean_squared_error(y_test_18, y_pred_18)\n",
    "print('MSE for AdaBoost 2018 is: ' + str(mse))"
   ]
  },
  {
   "cell_type": "code",
   "execution_count": 197,
   "id": "bee989ee",
   "metadata": {},
   "outputs": [
    {
     "name": "stdout",
     "output_type": "stream",
     "text": [
      "Accuracy of properties at +- 10% of actual prices is 0.2143906020558003\n"
     ]
    }
   ],
   "source": [
    "acc = accuracy_threshold(y_test_18, y_pred_18, 0.1)\n",
    "print('Accuracy of properties at +- 10% of actual prices is ' + str(acc))"
   ]
  },
  {
   "cell_type": "code",
   "execution_count": 198,
   "id": "13a6c017",
   "metadata": {},
   "outputs": [
    {
     "name": "stdout",
     "output_type": "stream",
     "text": [
      "Median Absolute Error:\n",
      "\n",
      "0.24479253629050568\n"
     ]
    }
   ],
   "source": [
    "median_se = np.square(np.subtract(y_test_18, y_pred_18)).median() \n",
    " \n",
    "med = math.sqrt(median_se)\n",
    "print(\"Median Absolute Error:\\n\")\n",
    "print(med)"
   ]
  },
  {
   "cell_type": "code",
   "execution_count": 199,
   "id": "0c737b65",
   "metadata": {},
   "outputs": [
    {
     "name": "stdout",
     "output_type": "stream",
     "text": [
      "RMSE for MLR 2018 is: 0.4780706403997206\n"
     ]
    }
   ],
   "source": [
    "rmse = mean_squared_error(y_test_18, y_pred_18, squared = False)\n",
    "print('RMSE for MLR 2018 is: ' + str(rmse))"
   ]
  },
  {
   "cell_type": "code",
   "execution_count": 200,
   "id": "7c403a5e",
   "metadata": {},
   "outputs": [
    {
     "name": "stdout",
     "output_type": "stream",
     "text": [
      "MAPE for MLR 2018 is: 0.02644925166336547\n"
     ]
    }
   ],
   "source": [
    "mape = mean_absolute_percentage_error(y_test_18, y_pred_18)\n",
    "print(\"MAPE for MLR 2018 is: \" + str(mape))"
   ]
  },
  {
   "cell_type": "code",
   "execution_count": 201,
   "id": "e92f003a",
   "metadata": {},
   "outputs": [],
   "source": [
    "cnames = ['Algorithm', 'Year', 'RMSE', 'MSE', 'MEDAE', 'Accuracy', 'MAPE']\n",
    "df20 = pd.DataFrame(columns = cnames)\n",
    "\n",
    "df20 = df20.append({'Algorithm': 'AdaBoost',\n",
    "           'Year': 2018,\n",
    "           'RMSE': rmse,\n",
    "           'MSE': mse,\n",
    "           'MEDAE': med,\n",
    "           'Accuracy': acc,\n",
    "           'MAPE': mape         \n",
    "          }, ignore_index = True)"
   ]
  },
  {
   "cell_type": "markdown",
   "id": "ee4e29ce",
   "metadata": {},
   "source": [
    "### LightGBM"
   ]
  },
  {
   "cell_type": "code",
   "execution_count": 202,
   "id": "2408dc22",
   "metadata": {},
   "outputs": [
    {
     "name": "stdout",
     "output_type": "stream",
     "text": [
      "MSE for LightGBM 2018 is: 0.17196948839583714\n"
     ]
    }
   ],
   "source": [
    "model = LGBMRegressor()\n",
    "model.fit(x_train_18, y_train_18)\n",
    "y_pred_18 = model.predict(x_test_18)\n",
    "# Calculation of Mean Squared Error (MSE)\n",
    "mse = mean_squared_error(y_test_18, y_pred_18)\n",
    "print('MSE for LightGBM 2018 is: ' + str(mse))"
   ]
  },
  {
   "cell_type": "code",
   "execution_count": 203,
   "id": "e468b773",
   "metadata": {},
   "outputs": [
    {
     "name": "stdout",
     "output_type": "stream",
     "text": [
      "Accuracy of properties at +- 10% of actual prices is 0.395217117684078\n"
     ]
    }
   ],
   "source": [
    "acc = accuracy_threshold(y_test_18, y_pred_18, 0.1)\n",
    "print('Accuracy of properties at +- 10% of actual prices is ' + str(acc))"
   ]
  },
  {
   "cell_type": "code",
   "execution_count": 204,
   "id": "96ebc9e9",
   "metadata": {},
   "outputs": [
    {
     "name": "stdout",
     "output_type": "stream",
     "text": [
      "Median Absolute Error:\n",
      "\n",
      "0.13280049078103495\n"
     ]
    }
   ],
   "source": [
    "median_se = np.square(np.subtract(y_test_18, y_pred_18)).median() \n",
    " \n",
    "med = math.sqrt(median_se)\n",
    "print(\"Median Absolute Error:\\n\")\n",
    "print(med)"
   ]
  },
  {
   "cell_type": "code",
   "execution_count": 205,
   "id": "c7f18b29",
   "metadata": {},
   "outputs": [
    {
     "name": "stdout",
     "output_type": "stream",
     "text": [
      "RMSE for LightGBM 2018 is: 0.41469204042980756\n"
     ]
    }
   ],
   "source": [
    "rmse = mean_squared_error(y_test_18, y_pred_18, squared = False)\n",
    "print('RMSE for LightGBM 2018 is: ' + str(rmse))"
   ]
  },
  {
   "cell_type": "code",
   "execution_count": 206,
   "id": "79c37007",
   "metadata": {},
   "outputs": [
    {
     "name": "stdout",
     "output_type": "stream",
     "text": [
      "MAPE for LightGBM 2021 is: 0.018171913907532665\n"
     ]
    }
   ],
   "source": [
    "mape = mean_absolute_percentage_error(y_test_18, y_pred_18)\n",
    "print(\"MAPE for LightGBM 2021 is: \" + str(mape))"
   ]
  },
  {
   "cell_type": "code",
   "execution_count": 207,
   "id": "7bf927d1",
   "metadata": {},
   "outputs": [],
   "source": [
    "cnames = ['Algorithm', 'Year', 'RMSE', 'MSE', 'MEDAE', 'Accuracy', 'MAPE']\n",
    "df21 = pd.DataFrame(columns = cnames)\n",
    "\n",
    "df21 = df21.append({'Algorithm': 'LightGBM',\n",
    "           'Year': 2018,\n",
    "           'RMSE': rmse,\n",
    "           'MSE': mse,\n",
    "           'MEDAE': med,\n",
    "           'Accuracy': acc,\n",
    "           'MAPE': mape         \n",
    "          }, ignore_index = True)"
   ]
  },
  {
   "cell_type": "markdown",
   "id": "55517a01",
   "metadata": {},
   "source": [
    "### CatBoost"
   ]
  },
  {
   "cell_type": "code",
   "execution_count": 208,
   "id": "1c21a0a3",
   "metadata": {},
   "outputs": [
    {
     "name": "stdout",
     "output_type": "stream",
     "text": [
      "Learning rate set to 0.062141\n",
      "0:\tlearn: 0.5429822\ttotal: 5.63ms\tremaining: 5.63s\n",
      "1:\tlearn: 0.5249529\ttotal: 10.9ms\tremaining: 5.44s\n",
      "2:\tlearn: 0.5085184\ttotal: 16.4ms\tremaining: 5.46s\n",
      "3:\tlearn: 0.4937770\ttotal: 21.4ms\tremaining: 5.34s\n",
      "4:\tlearn: 0.4805416\ttotal: 26.4ms\tremaining: 5.26s\n",
      "5:\tlearn: 0.4681427\ttotal: 32.5ms\tremaining: 5.39s\n",
      "6:\tlearn: 0.4566098\ttotal: 37.5ms\tremaining: 5.32s\n",
      "7:\tlearn: 0.4461276\ttotal: 43.7ms\tremaining: 5.42s\n",
      "8:\tlearn: 0.4367704\ttotal: 54.7ms\tremaining: 6.03s\n",
      "9:\tlearn: 0.4279095\ttotal: 60ms\tremaining: 5.94s\n",
      "10:\tlearn: 0.4196945\ttotal: 67.1ms\tremaining: 6.03s\n",
      "11:\tlearn: 0.4123253\ttotal: 72.4ms\tremaining: 5.96s\n",
      "12:\tlearn: 0.4054878\ttotal: 78.7ms\tremaining: 5.98s\n",
      "13:\tlearn: 0.3995359\ttotal: 83.8ms\tremaining: 5.9s\n",
      "14:\tlearn: 0.3938969\ttotal: 88.8ms\tremaining: 5.83s\n",
      "15:\tlearn: 0.3883518\ttotal: 98.6ms\tremaining: 6.06s\n",
      "16:\tlearn: 0.3839410\ttotal: 104ms\tremaining: 6.01s\n",
      "17:\tlearn: 0.3796702\ttotal: 111ms\tremaining: 6.05s\n",
      "18:\tlearn: 0.3759230\ttotal: 115ms\tremaining: 5.96s\n",
      "19:\tlearn: 0.3719161\ttotal: 120ms\tremaining: 5.9s\n",
      "20:\tlearn: 0.3688187\ttotal: 126ms\tremaining: 5.86s\n",
      "21:\tlearn: 0.3655733\ttotal: 131ms\tremaining: 5.82s\n",
      "22:\tlearn: 0.3628790\ttotal: 141ms\tremaining: 6.01s\n",
      "23:\tlearn: 0.3605261\ttotal: 147ms\tremaining: 5.96s\n",
      "24:\tlearn: 0.3580364\ttotal: 152ms\tremaining: 5.93s\n",
      "25:\tlearn: 0.3553032\ttotal: 158ms\tremaining: 5.92s\n",
      "26:\tlearn: 0.3530301\ttotal: 164ms\tremaining: 5.9s\n",
      "27:\tlearn: 0.3508868\ttotal: 169ms\tremaining: 5.86s\n",
      "28:\tlearn: 0.3490678\ttotal: 174ms\tremaining: 5.83s\n",
      "29:\tlearn: 0.3470432\ttotal: 180ms\tremaining: 5.83s\n",
      "30:\tlearn: 0.3455018\ttotal: 192ms\tremaining: 5.99s\n",
      "31:\tlearn: 0.3438627\ttotal: 197ms\tremaining: 5.97s\n",
      "32:\tlearn: 0.3422696\ttotal: 205ms\tremaining: 6.02s\n",
      "33:\tlearn: 0.3409176\ttotal: 211ms\tremaining: 6.01s\n",
      "34:\tlearn: 0.3392295\ttotal: 217ms\tremaining: 5.98s\n",
      "35:\tlearn: 0.3377361\ttotal: 224ms\tremaining: 5.99s\n",
      "36:\tlearn: 0.3364589\ttotal: 229ms\tremaining: 5.95s\n",
      "37:\tlearn: 0.3355092\ttotal: 239ms\tremaining: 6.04s\n",
      "38:\tlearn: 0.3344506\ttotal: 245ms\tremaining: 6.04s\n",
      "39:\tlearn: 0.3332219\ttotal: 255ms\tremaining: 6.11s\n",
      "40:\tlearn: 0.3317645\ttotal: 260ms\tremaining: 6.08s\n",
      "41:\tlearn: 0.3308556\ttotal: 269ms\tremaining: 6.13s\n",
      "42:\tlearn: 0.3301519\ttotal: 274ms\tremaining: 6.09s\n",
      "43:\tlearn: 0.3295407\ttotal: 279ms\tremaining: 6.06s\n",
      "44:\tlearn: 0.3289465\ttotal: 288ms\tremaining: 6.11s\n",
      "45:\tlearn: 0.3283673\ttotal: 294ms\tremaining: 6.09s\n",
      "46:\tlearn: 0.3277725\ttotal: 302ms\tremaining: 6.13s\n",
      "47:\tlearn: 0.3272164\ttotal: 307ms\tremaining: 6.09s\n",
      "48:\tlearn: 0.3266048\ttotal: 315ms\tremaining: 6.12s\n",
      "49:\tlearn: 0.3257703\ttotal: 320ms\tremaining: 6.08s\n",
      "50:\tlearn: 0.3253539\ttotal: 325ms\tremaining: 6.05s\n",
      "51:\tlearn: 0.3247087\ttotal: 334ms\tremaining: 6.08s\n",
      "52:\tlearn: 0.3238641\ttotal: 345ms\tremaining: 6.16s\n",
      "53:\tlearn: 0.3234124\ttotal: 352ms\tremaining: 6.17s\n",
      "54:\tlearn: 0.3229067\ttotal: 359ms\tremaining: 6.17s\n",
      "55:\tlearn: 0.3223427\ttotal: 364ms\tremaining: 6.14s\n",
      "56:\tlearn: 0.3218020\ttotal: 369ms\tremaining: 6.11s\n",
      "57:\tlearn: 0.3212812\ttotal: 377ms\tremaining: 6.12s\n",
      "58:\tlearn: 0.3207763\ttotal: 383ms\tremaining: 6.1s\n",
      "59:\tlearn: 0.3204613\ttotal: 393ms\tremaining: 6.16s\n",
      "60:\tlearn: 0.3201454\ttotal: 399ms\tremaining: 6.14s\n",
      "61:\tlearn: 0.3197357\ttotal: 406ms\tremaining: 6.14s\n",
      "62:\tlearn: 0.3193971\ttotal: 413ms\tremaining: 6.14s\n",
      "63:\tlearn: 0.3188451\ttotal: 422ms\tremaining: 6.17s\n",
      "64:\tlearn: 0.3185581\ttotal: 429ms\tremaining: 6.16s\n",
      "65:\tlearn: 0.3178940\ttotal: 438ms\tremaining: 6.19s\n",
      "66:\tlearn: 0.3173820\ttotal: 445ms\tremaining: 6.2s\n",
      "67:\tlearn: 0.3170489\ttotal: 453ms\tremaining: 6.21s\n",
      "68:\tlearn: 0.3165607\ttotal: 459ms\tremaining: 6.19s\n",
      "69:\tlearn: 0.3159266\ttotal: 464ms\tremaining: 6.17s\n",
      "70:\tlearn: 0.3151926\ttotal: 471ms\tremaining: 6.16s\n",
      "71:\tlearn: 0.3148989\ttotal: 476ms\tremaining: 6.13s\n",
      "72:\tlearn: 0.3146600\ttotal: 482ms\tremaining: 6.12s\n",
      "73:\tlearn: 0.3141839\ttotal: 487ms\tremaining: 6.09s\n",
      "74:\tlearn: 0.3137868\ttotal: 492ms\tremaining: 6.06s\n",
      "75:\tlearn: 0.3135209\ttotal: 498ms\tremaining: 6.05s\n",
      "76:\tlearn: 0.3133187\ttotal: 506ms\tremaining: 6.06s\n",
      "77:\tlearn: 0.3129621\ttotal: 513ms\tremaining: 6.06s\n",
      "78:\tlearn: 0.3127611\ttotal: 518ms\tremaining: 6.03s\n",
      "79:\tlearn: 0.3124246\ttotal: 523ms\tremaining: 6.01s\n",
      "80:\tlearn: 0.3118950\ttotal: 528ms\tremaining: 5.99s\n",
      "81:\tlearn: 0.3117153\ttotal: 533ms\tremaining: 5.97s\n",
      "82:\tlearn: 0.3115513\ttotal: 540ms\tremaining: 5.96s\n",
      "83:\tlearn: 0.3114307\ttotal: 547ms\tremaining: 5.96s\n",
      "84:\tlearn: 0.3110170\ttotal: 555ms\tremaining: 5.97s\n",
      "85:\tlearn: 0.3104846\ttotal: 562ms\tremaining: 5.97s\n",
      "86:\tlearn: 0.3103652\ttotal: 567ms\tremaining: 5.95s\n",
      "87:\tlearn: 0.3098390\ttotal: 572ms\tremaining: 5.93s\n",
      "88:\tlearn: 0.3096276\ttotal: 577ms\tremaining: 5.9s\n",
      "89:\tlearn: 0.3094020\ttotal: 582ms\tremaining: 5.88s\n",
      "90:\tlearn: 0.3091603\ttotal: 587ms\tremaining: 5.86s\n",
      "91:\tlearn: 0.3088508\ttotal: 598ms\tremaining: 5.9s\n",
      "92:\tlearn: 0.3085551\ttotal: 605ms\tremaining: 5.9s\n",
      "93:\tlearn: 0.3083799\ttotal: 610ms\tremaining: 5.88s\n",
      "94:\tlearn: 0.3081808\ttotal: 616ms\tremaining: 5.87s\n",
      "95:\tlearn: 0.3078525\ttotal: 622ms\tremaining: 5.86s\n",
      "96:\tlearn: 0.3074759\ttotal: 628ms\tremaining: 5.84s\n",
      "97:\tlearn: 0.3070026\ttotal: 637ms\tremaining: 5.86s\n",
      "98:\tlearn: 0.3064552\ttotal: 648ms\tremaining: 5.89s\n",
      "99:\tlearn: 0.3062043\ttotal: 654ms\tremaining: 5.88s\n",
      "100:\tlearn: 0.3059267\ttotal: 659ms\tremaining: 5.87s\n",
      "101:\tlearn: 0.3054622\ttotal: 664ms\tremaining: 5.85s\n",
      "102:\tlearn: 0.3053022\ttotal: 669ms\tremaining: 5.83s\n",
      "103:\tlearn: 0.3049965\ttotal: 675ms\tremaining: 5.81s\n",
      "104:\tlearn: 0.3047145\ttotal: 680ms\tremaining: 5.8s\n",
      "105:\tlearn: 0.3042833\ttotal: 686ms\tremaining: 5.79s\n",
      "106:\tlearn: 0.3041744\ttotal: 694ms\tremaining: 5.79s\n",
      "107:\tlearn: 0.3039607\ttotal: 701ms\tremaining: 5.79s\n",
      "108:\tlearn: 0.3036190\ttotal: 706ms\tremaining: 5.77s\n",
      "109:\tlearn: 0.3033610\ttotal: 711ms\tremaining: 5.75s\n",
      "110:\tlearn: 0.3031664\ttotal: 718ms\tremaining: 5.75s\n",
      "111:\tlearn: 0.3028937\ttotal: 723ms\tremaining: 5.73s\n",
      "112:\tlearn: 0.3025554\ttotal: 729ms\tremaining: 5.72s\n",
      "113:\tlearn: 0.3023559\ttotal: 734ms\tremaining: 5.7s\n",
      "114:\tlearn: 0.3020669\ttotal: 740ms\tremaining: 5.69s\n",
      "115:\tlearn: 0.3018178\ttotal: 748ms\tremaining: 5.7s\n",
      "116:\tlearn: 0.3014019\ttotal: 753ms\tremaining: 5.68s\n",
      "117:\tlearn: 0.3009251\ttotal: 758ms\tremaining: 5.67s\n",
      "118:\tlearn: 0.3007406\ttotal: 764ms\tremaining: 5.65s\n",
      "119:\tlearn: 0.3006083\ttotal: 769ms\tremaining: 5.64s\n",
      "120:\tlearn: 0.3004079\ttotal: 776ms\tremaining: 5.63s\n",
      "121:\tlearn: 0.3001543\ttotal: 781ms\tremaining: 5.62s\n",
      "122:\tlearn: 0.3000164\ttotal: 787ms\tremaining: 5.61s\n",
      "123:\tlearn: 0.2998932\ttotal: 797ms\tremaining: 5.63s\n",
      "124:\tlearn: 0.2996827\ttotal: 802ms\tremaining: 5.61s\n",
      "125:\tlearn: 0.2992260\ttotal: 809ms\tremaining: 5.61s\n",
      "126:\tlearn: 0.2991730\ttotal: 813ms\tremaining: 5.59s\n",
      "127:\tlearn: 0.2989156\ttotal: 819ms\tremaining: 5.58s\n",
      "128:\tlearn: 0.2986232\ttotal: 825ms\tremaining: 5.57s\n",
      "129:\tlearn: 0.2984406\ttotal: 830ms\tremaining: 5.55s\n",
      "130:\tlearn: 0.2982678\ttotal: 835ms\tremaining: 5.54s\n",
      "131:\tlearn: 0.2980301\ttotal: 840ms\tremaining: 5.52s\n",
      "132:\tlearn: 0.2979114\ttotal: 845ms\tremaining: 5.51s\n",
      "133:\tlearn: 0.2977236\ttotal: 850ms\tremaining: 5.5s\n",
      "134:\tlearn: 0.2972737\ttotal: 860ms\tremaining: 5.51s\n",
      "135:\tlearn: 0.2971331\ttotal: 866ms\tremaining: 5.5s\n",
      "136:\tlearn: 0.2970596\ttotal: 872ms\tremaining: 5.49s\n",
      "137:\tlearn: 0.2970009\ttotal: 877ms\tremaining: 5.48s\n",
      "138:\tlearn: 0.2968931\ttotal: 882ms\tremaining: 5.46s\n",
      "139:\tlearn: 0.2965124\ttotal: 888ms\tremaining: 5.45s\n",
      "140:\tlearn: 0.2962217\ttotal: 894ms\tremaining: 5.45s\n",
      "141:\tlearn: 0.2961547\ttotal: 902ms\tremaining: 5.45s\n",
      "142:\tlearn: 0.2960961\ttotal: 908ms\tremaining: 5.44s\n",
      "143:\tlearn: 0.2959557\ttotal: 917ms\tremaining: 5.45s\n",
      "144:\tlearn: 0.2957444\ttotal: 924ms\tremaining: 5.45s\n",
      "145:\tlearn: 0.2956185\ttotal: 929ms\tremaining: 5.43s\n",
      "146:\tlearn: 0.2953869\ttotal: 936ms\tremaining: 5.43s\n",
      "147:\tlearn: 0.2951668\ttotal: 949ms\tremaining: 5.46s\n",
      "148:\tlearn: 0.2949467\ttotal: 958ms\tremaining: 5.47s\n",
      "149:\tlearn: 0.2946255\ttotal: 965ms\tremaining: 5.47s\n",
      "150:\tlearn: 0.2944828\ttotal: 970ms\tremaining: 5.46s\n",
      "151:\tlearn: 0.2943844\ttotal: 978ms\tremaining: 5.45s\n",
      "152:\tlearn: 0.2942506\ttotal: 984ms\tremaining: 5.44s\n",
      "153:\tlearn: 0.2941700\ttotal: 994ms\tremaining: 5.46s\n",
      "154:\tlearn: 0.2940116\ttotal: 1.01s\tremaining: 5.5s\n",
      "155:\tlearn: 0.2939075\ttotal: 1.02s\tremaining: 5.5s\n",
      "156:\tlearn: 0.2937401\ttotal: 1.03s\tremaining: 5.54s\n",
      "157:\tlearn: 0.2935128\ttotal: 1.04s\tremaining: 5.56s\n",
      "158:\tlearn: 0.2933966\ttotal: 1.05s\tremaining: 5.58s\n",
      "159:\tlearn: 0.2930732\ttotal: 1.08s\tremaining: 5.67s\n"
     ]
    },
    {
     "name": "stdout",
     "output_type": "stream",
     "text": [
      "160:\tlearn: 0.2927644\ttotal: 1.09s\tremaining: 5.69s\n",
      "161:\tlearn: 0.2926330\ttotal: 1.1s\tremaining: 5.69s\n",
      "162:\tlearn: 0.2924569\ttotal: 1.1s\tremaining: 5.68s\n",
      "163:\tlearn: 0.2922361\ttotal: 1.12s\tremaining: 5.69s\n",
      "164:\tlearn: 0.2920622\ttotal: 1.12s\tremaining: 5.68s\n",
      "165:\tlearn: 0.2920053\ttotal: 1.13s\tremaining: 5.68s\n",
      "166:\tlearn: 0.2917021\ttotal: 1.14s\tremaining: 5.67s\n",
      "167:\tlearn: 0.2915033\ttotal: 1.15s\tremaining: 5.68s\n",
      "168:\tlearn: 0.2912968\ttotal: 1.15s\tremaining: 5.66s\n",
      "169:\tlearn: 0.2911708\ttotal: 1.16s\tremaining: 5.65s\n",
      "170:\tlearn: 0.2909357\ttotal: 1.16s\tremaining: 5.63s\n",
      "171:\tlearn: 0.2908179\ttotal: 1.17s\tremaining: 5.62s\n",
      "172:\tlearn: 0.2905815\ttotal: 1.17s\tremaining: 5.6s\n",
      "173:\tlearn: 0.2904421\ttotal: 1.18s\tremaining: 5.59s\n",
      "174:\tlearn: 0.2902064\ttotal: 1.18s\tremaining: 5.58s\n",
      "175:\tlearn: 0.2900598\ttotal: 1.19s\tremaining: 5.56s\n",
      "176:\tlearn: 0.2898000\ttotal: 1.2s\tremaining: 5.56s\n",
      "177:\tlearn: 0.2896939\ttotal: 1.2s\tremaining: 5.56s\n",
      "178:\tlearn: 0.2896104\ttotal: 1.21s\tremaining: 5.55s\n",
      "179:\tlearn: 0.2895039\ttotal: 1.22s\tremaining: 5.54s\n",
      "180:\tlearn: 0.2892484\ttotal: 1.22s\tremaining: 5.54s\n",
      "181:\tlearn: 0.2889836\ttotal: 1.23s\tremaining: 5.52s\n",
      "182:\tlearn: 0.2889036\ttotal: 1.23s\tremaining: 5.51s\n",
      "183:\tlearn: 0.2888098\ttotal: 1.24s\tremaining: 5.5s\n",
      "184:\tlearn: 0.2887143\ttotal: 1.24s\tremaining: 5.48s\n",
      "185:\tlearn: 0.2886161\ttotal: 1.25s\tremaining: 5.49s\n",
      "186:\tlearn: 0.2885296\ttotal: 1.26s\tremaining: 5.47s\n",
      "187:\tlearn: 0.2884332\ttotal: 1.26s\tremaining: 5.46s\n",
      "188:\tlearn: 0.2883457\ttotal: 1.27s\tremaining: 5.45s\n",
      "189:\tlearn: 0.2882018\ttotal: 1.27s\tremaining: 5.44s\n",
      "190:\tlearn: 0.2881094\ttotal: 1.28s\tremaining: 5.42s\n",
      "191:\tlearn: 0.2879862\ttotal: 1.28s\tremaining: 5.41s\n",
      "192:\tlearn: 0.2878826\ttotal: 1.29s\tremaining: 5.41s\n",
      "193:\tlearn: 0.2877803\ttotal: 1.3s\tremaining: 5.4s\n",
      "194:\tlearn: 0.2876600\ttotal: 1.3s\tremaining: 5.39s\n",
      "195:\tlearn: 0.2875006\ttotal: 1.31s\tremaining: 5.38s\n",
      "196:\tlearn: 0.2872420\ttotal: 1.32s\tremaining: 5.37s\n",
      "197:\tlearn: 0.2871561\ttotal: 1.32s\tremaining: 5.35s\n",
      "198:\tlearn: 0.2870820\ttotal: 1.33s\tremaining: 5.34s\n",
      "199:\tlearn: 0.2868167\ttotal: 1.33s\tremaining: 5.34s\n",
      "200:\tlearn: 0.2867112\ttotal: 1.34s\tremaining: 5.32s\n",
      "201:\tlearn: 0.2866347\ttotal: 1.35s\tremaining: 5.34s\n",
      "202:\tlearn: 0.2864521\ttotal: 1.36s\tremaining: 5.34s\n",
      "203:\tlearn: 0.2863363\ttotal: 1.36s\tremaining: 5.33s\n",
      "204:\tlearn: 0.2862428\ttotal: 1.37s\tremaining: 5.31s\n",
      "205:\tlearn: 0.2859506\ttotal: 1.38s\tremaining: 5.3s\n",
      "206:\tlearn: 0.2858924\ttotal: 1.38s\tremaining: 5.3s\n",
      "207:\tlearn: 0.2858040\ttotal: 1.39s\tremaining: 5.29s\n",
      "208:\tlearn: 0.2856626\ttotal: 1.4s\tremaining: 5.29s\n",
      "209:\tlearn: 0.2854690\ttotal: 1.4s\tremaining: 5.27s\n",
      "210:\tlearn: 0.2853383\ttotal: 1.41s\tremaining: 5.26s\n",
      "211:\tlearn: 0.2852598\ttotal: 1.41s\tremaining: 5.25s\n",
      "212:\tlearn: 0.2850676\ttotal: 1.42s\tremaining: 5.24s\n",
      "213:\tlearn: 0.2849854\ttotal: 1.43s\tremaining: 5.25s\n",
      "214:\tlearn: 0.2848634\ttotal: 1.43s\tremaining: 5.23s\n",
      "215:\tlearn: 0.2847216\ttotal: 1.44s\tremaining: 5.24s\n",
      "216:\tlearn: 0.2846367\ttotal: 1.45s\tremaining: 5.22s\n",
      "217:\tlearn: 0.2845230\ttotal: 1.46s\tremaining: 5.22s\n",
      "218:\tlearn: 0.2842751\ttotal: 1.46s\tremaining: 5.21s\n",
      "219:\tlearn: 0.2842112\ttotal: 1.47s\tremaining: 5.2s\n",
      "220:\tlearn: 0.2841225\ttotal: 1.48s\tremaining: 5.21s\n",
      "221:\tlearn: 0.2839760\ttotal: 1.49s\tremaining: 5.21s\n",
      "222:\tlearn: 0.2838794\ttotal: 1.49s\tremaining: 5.2s\n",
      "223:\tlearn: 0.2838523\ttotal: 1.5s\tremaining: 5.19s\n",
      "224:\tlearn: 0.2836805\ttotal: 1.51s\tremaining: 5.19s\n",
      "225:\tlearn: 0.2835633\ttotal: 1.51s\tremaining: 5.18s\n",
      "226:\tlearn: 0.2834250\ttotal: 1.52s\tremaining: 5.18s\n",
      "227:\tlearn: 0.2832602\ttotal: 1.53s\tremaining: 5.17s\n",
      "228:\tlearn: 0.2831953\ttotal: 1.53s\tremaining: 5.16s\n",
      "229:\tlearn: 0.2831118\ttotal: 1.54s\tremaining: 5.15s\n",
      "230:\tlearn: 0.2829766\ttotal: 1.54s\tremaining: 5.14s\n",
      "231:\tlearn: 0.2827719\ttotal: 1.55s\tremaining: 5.14s\n",
      "232:\tlearn: 0.2826334\ttotal: 1.56s\tremaining: 5.13s\n",
      "233:\tlearn: 0.2824002\ttotal: 1.57s\tremaining: 5.13s\n",
      "234:\tlearn: 0.2821548\ttotal: 1.57s\tremaining: 5.12s\n",
      "235:\tlearn: 0.2820113\ttotal: 1.58s\tremaining: 5.12s\n",
      "236:\tlearn: 0.2819084\ttotal: 1.59s\tremaining: 5.11s\n",
      "237:\tlearn: 0.2817861\ttotal: 1.59s\tremaining: 5.09s\n",
      "238:\tlearn: 0.2816669\ttotal: 1.6s\tremaining: 5.09s\n",
      "239:\tlearn: 0.2815276\ttotal: 1.6s\tremaining: 5.08s\n",
      "240:\tlearn: 0.2814394\ttotal: 1.61s\tremaining: 5.09s\n",
      "241:\tlearn: 0.2813248\ttotal: 1.63s\tremaining: 5.09s\n",
      "242:\tlearn: 0.2812547\ttotal: 1.63s\tremaining: 5.08s\n",
      "243:\tlearn: 0.2811314\ttotal: 1.64s\tremaining: 5.07s\n",
      "244:\tlearn: 0.2810361\ttotal: 1.64s\tremaining: 5.06s\n",
      "245:\tlearn: 0.2808983\ttotal: 1.65s\tremaining: 5.05s\n",
      "246:\tlearn: 0.2807753\ttotal: 1.65s\tremaining: 5.03s\n",
      "247:\tlearn: 0.2806902\ttotal: 1.66s\tremaining: 5.02s\n",
      "248:\tlearn: 0.2805702\ttotal: 1.66s\tremaining: 5.01s\n",
      "249:\tlearn: 0.2804295\ttotal: 1.67s\tremaining: 5s\n",
      "250:\tlearn: 0.2803425\ttotal: 1.67s\tremaining: 4.99s\n",
      "251:\tlearn: 0.2802535\ttotal: 1.68s\tremaining: 4.98s\n",
      "252:\tlearn: 0.2800522\ttotal: 1.68s\tremaining: 4.97s\n",
      "253:\tlearn: 0.2797770\ttotal: 1.69s\tremaining: 4.96s\n",
      "254:\tlearn: 0.2796292\ttotal: 1.69s\tremaining: 4.95s\n",
      "255:\tlearn: 0.2794033\ttotal: 1.7s\tremaining: 4.94s\n",
      "256:\tlearn: 0.2793607\ttotal: 1.7s\tremaining: 4.92s\n",
      "257:\tlearn: 0.2792849\ttotal: 1.71s\tremaining: 4.92s\n",
      "258:\tlearn: 0.2791713\ttotal: 1.71s\tremaining: 4.91s\n",
      "259:\tlearn: 0.2790143\ttotal: 1.72s\tremaining: 4.9s\n",
      "260:\tlearn: 0.2789180\ttotal: 1.73s\tremaining: 4.88s\n",
      "261:\tlearn: 0.2788117\ttotal: 1.73s\tremaining: 4.88s\n",
      "262:\tlearn: 0.2787267\ttotal: 1.74s\tremaining: 4.86s\n",
      "263:\tlearn: 0.2785051\ttotal: 1.74s\tremaining: 4.85s\n",
      "264:\tlearn: 0.2783753\ttotal: 1.75s\tremaining: 4.84s\n",
      "265:\tlearn: 0.2781618\ttotal: 1.75s\tremaining: 4.83s\n",
      "266:\tlearn: 0.2780056\ttotal: 1.76s\tremaining: 4.82s\n",
      "267:\tlearn: 0.2779070\ttotal: 1.76s\tremaining: 4.81s\n",
      "268:\tlearn: 0.2778215\ttotal: 1.77s\tremaining: 4.8s\n",
      "269:\tlearn: 0.2777309\ttotal: 1.77s\tremaining: 4.79s\n",
      "270:\tlearn: 0.2776119\ttotal: 1.78s\tremaining: 4.78s\n",
      "271:\tlearn: 0.2775088\ttotal: 1.78s\tremaining: 4.77s\n",
      "272:\tlearn: 0.2773506\ttotal: 1.79s\tremaining: 4.76s\n",
      "273:\tlearn: 0.2772168\ttotal: 1.79s\tremaining: 4.75s\n",
      "274:\tlearn: 0.2769699\ttotal: 1.8s\tremaining: 4.74s\n",
      "275:\tlearn: 0.2768457\ttotal: 1.8s\tremaining: 4.74s\n",
      "276:\tlearn: 0.2767749\ttotal: 1.81s\tremaining: 4.73s\n",
      "277:\tlearn: 0.2766578\ttotal: 1.82s\tremaining: 4.72s\n",
      "278:\tlearn: 0.2765594\ttotal: 1.82s\tremaining: 4.71s\n",
      "279:\tlearn: 0.2763248\ttotal: 1.83s\tremaining: 4.7s\n",
      "280:\tlearn: 0.2762592\ttotal: 1.83s\tremaining: 4.69s\n",
      "281:\tlearn: 0.2761316\ttotal: 1.84s\tremaining: 4.68s\n",
      "282:\tlearn: 0.2760360\ttotal: 1.84s\tremaining: 4.67s\n",
      "283:\tlearn: 0.2759288\ttotal: 1.85s\tremaining: 4.66s\n",
      "284:\tlearn: 0.2758865\ttotal: 1.86s\tremaining: 4.66s\n",
      "285:\tlearn: 0.2755914\ttotal: 1.86s\tremaining: 4.65s\n",
      "286:\tlearn: 0.2754712\ttotal: 1.87s\tremaining: 4.64s\n",
      "287:\tlearn: 0.2752009\ttotal: 1.87s\tremaining: 4.63s\n",
      "288:\tlearn: 0.2750853\ttotal: 1.88s\tremaining: 4.62s\n",
      "289:\tlearn: 0.2748638\ttotal: 1.88s\tremaining: 4.61s\n",
      "290:\tlearn: 0.2746726\ttotal: 1.89s\tremaining: 4.6s\n",
      "291:\tlearn: 0.2745185\ttotal: 1.89s\tremaining: 4.59s\n",
      "292:\tlearn: 0.2743902\ttotal: 1.9s\tremaining: 4.59s\n",
      "293:\tlearn: 0.2743028\ttotal: 1.91s\tremaining: 4.58s\n",
      "294:\tlearn: 0.2742293\ttotal: 1.92s\tremaining: 4.58s\n",
      "295:\tlearn: 0.2741262\ttotal: 1.92s\tremaining: 4.57s\n",
      "296:\tlearn: 0.2740233\ttotal: 1.93s\tremaining: 4.56s\n",
      "297:\tlearn: 0.2739077\ttotal: 1.93s\tremaining: 4.56s\n",
      "298:\tlearn: 0.2738421\ttotal: 1.94s\tremaining: 4.55s\n",
      "299:\tlearn: 0.2737648\ttotal: 1.94s\tremaining: 4.54s\n",
      "300:\tlearn: 0.2736404\ttotal: 1.95s\tremaining: 4.54s\n",
      "301:\tlearn: 0.2735418\ttotal: 1.96s\tremaining: 4.53s\n",
      "302:\tlearn: 0.2734064\ttotal: 1.97s\tremaining: 4.53s\n",
      "303:\tlearn: 0.2732920\ttotal: 1.97s\tremaining: 4.52s\n",
      "304:\tlearn: 0.2731940\ttotal: 1.98s\tremaining: 4.51s\n",
      "305:\tlearn: 0.2730581\ttotal: 1.99s\tremaining: 4.5s\n",
      "306:\tlearn: 0.2729687\ttotal: 1.99s\tremaining: 4.49s\n",
      "307:\tlearn: 0.2728567\ttotal: 2s\tremaining: 4.49s\n",
      "308:\tlearn: 0.2728129\ttotal: 2.01s\tremaining: 4.49s\n",
      "309:\tlearn: 0.2726671\ttotal: 2.02s\tremaining: 4.49s\n",
      "310:\tlearn: 0.2725677\ttotal: 2.02s\tremaining: 4.48s\n",
      "311:\tlearn: 0.2725240\ttotal: 2.04s\tremaining: 4.5s\n",
      "312:\tlearn: 0.2723720\ttotal: 2.05s\tremaining: 4.49s\n",
      "313:\tlearn: 0.2723505\ttotal: 2.05s\tremaining: 4.48s\n",
      "314:\tlearn: 0.2722387\ttotal: 2.06s\tremaining: 4.47s\n",
      "315:\tlearn: 0.2721682\ttotal: 2.06s\tremaining: 4.47s\n",
      "316:\tlearn: 0.2720578\ttotal: 2.07s\tremaining: 4.46s\n",
      "317:\tlearn: 0.2719995\ttotal: 2.08s\tremaining: 4.45s\n",
      "318:\tlearn: 0.2719086\ttotal: 2.08s\tremaining: 4.45s\n",
      "319:\tlearn: 0.2717755\ttotal: 2.09s\tremaining: 4.44s\n",
      "320:\tlearn: 0.2716927\ttotal: 2.09s\tremaining: 4.43s\n",
      "321:\tlearn: 0.2715273\ttotal: 2.1s\tremaining: 4.42s\n",
      "322:\tlearn: 0.2714542\ttotal: 2.11s\tremaining: 4.42s\n",
      "323:\tlearn: 0.2713539\ttotal: 2.11s\tremaining: 4.41s\n",
      "324:\tlearn: 0.2712653\ttotal: 2.12s\tremaining: 4.4s\n"
     ]
    },
    {
     "name": "stdout",
     "output_type": "stream",
     "text": [
      "325:\tlearn: 0.2710916\ttotal: 2.13s\tremaining: 4.4s\n",
      "326:\tlearn: 0.2710545\ttotal: 2.13s\tremaining: 4.39s\n",
      "327:\tlearn: 0.2709509\ttotal: 2.14s\tremaining: 4.38s\n",
      "328:\tlearn: 0.2708293\ttotal: 2.15s\tremaining: 4.38s\n",
      "329:\tlearn: 0.2707203\ttotal: 2.15s\tremaining: 4.38s\n",
      "330:\tlearn: 0.2703582\ttotal: 2.16s\tremaining: 4.37s\n",
      "331:\tlearn: 0.2702518\ttotal: 2.17s\tremaining: 4.36s\n",
      "332:\tlearn: 0.2701665\ttotal: 2.17s\tremaining: 4.35s\n",
      "333:\tlearn: 0.2700078\ttotal: 2.18s\tremaining: 4.34s\n",
      "334:\tlearn: 0.2699142\ttotal: 2.18s\tremaining: 4.33s\n",
      "335:\tlearn: 0.2698158\ttotal: 2.19s\tremaining: 4.32s\n",
      "336:\tlearn: 0.2697722\ttotal: 2.19s\tremaining: 4.32s\n",
      "337:\tlearn: 0.2696511\ttotal: 2.2s\tremaining: 4.31s\n",
      "338:\tlearn: 0.2695729\ttotal: 2.2s\tremaining: 4.3s\n",
      "339:\tlearn: 0.2694477\ttotal: 2.21s\tremaining: 4.29s\n",
      "340:\tlearn: 0.2694137\ttotal: 2.21s\tremaining: 4.28s\n",
      "341:\tlearn: 0.2693767\ttotal: 2.22s\tremaining: 4.28s\n",
      "342:\tlearn: 0.2693261\ttotal: 2.23s\tremaining: 4.26s\n",
      "343:\tlearn: 0.2693063\ttotal: 2.23s\tremaining: 4.26s\n",
      "344:\tlearn: 0.2692406\ttotal: 2.24s\tremaining: 4.25s\n",
      "345:\tlearn: 0.2691735\ttotal: 2.24s\tremaining: 4.24s\n",
      "346:\tlearn: 0.2690856\ttotal: 2.25s\tremaining: 4.23s\n",
      "347:\tlearn: 0.2689916\ttotal: 2.25s\tremaining: 4.22s\n",
      "348:\tlearn: 0.2688109\ttotal: 2.26s\tremaining: 4.22s\n",
      "349:\tlearn: 0.2687352\ttotal: 2.27s\tremaining: 4.21s\n",
      "350:\tlearn: 0.2686093\ttotal: 2.28s\tremaining: 4.21s\n",
      "351:\tlearn: 0.2685259\ttotal: 2.28s\tremaining: 4.2s\n",
      "352:\tlearn: 0.2684904\ttotal: 2.29s\tremaining: 4.19s\n",
      "353:\tlearn: 0.2682642\ttotal: 2.29s\tremaining: 4.18s\n",
      "354:\tlearn: 0.2681168\ttotal: 2.3s\tremaining: 4.18s\n",
      "355:\tlearn: 0.2680341\ttotal: 2.3s\tremaining: 4.17s\n",
      "356:\tlearn: 0.2680086\ttotal: 2.31s\tremaining: 4.16s\n",
      "357:\tlearn: 0.2679402\ttotal: 2.31s\tremaining: 4.15s\n",
      "358:\tlearn: 0.2679220\ttotal: 2.32s\tremaining: 4.14s\n",
      "359:\tlearn: 0.2678281\ttotal: 2.33s\tremaining: 4.13s\n",
      "360:\tlearn: 0.2677968\ttotal: 2.33s\tremaining: 4.13s\n",
      "361:\tlearn: 0.2676282\ttotal: 2.34s\tremaining: 4.13s\n",
      "362:\tlearn: 0.2675482\ttotal: 2.35s\tremaining: 4.12s\n",
      "363:\tlearn: 0.2673947\ttotal: 2.35s\tremaining: 4.11s\n",
      "364:\tlearn: 0.2672880\ttotal: 2.36s\tremaining: 4.11s\n",
      "365:\tlearn: 0.2671867\ttotal: 2.37s\tremaining: 4.1s\n",
      "366:\tlearn: 0.2671729\ttotal: 2.38s\tremaining: 4.1s\n",
      "367:\tlearn: 0.2669790\ttotal: 2.38s\tremaining: 4.09s\n",
      "368:\tlearn: 0.2668662\ttotal: 2.39s\tremaining: 4.09s\n",
      "369:\tlearn: 0.2668269\ttotal: 2.4s\tremaining: 4.08s\n",
      "370:\tlearn: 0.2667999\ttotal: 2.4s\tremaining: 4.08s\n",
      "371:\tlearn: 0.2666788\ttotal: 2.41s\tremaining: 4.07s\n",
      "372:\tlearn: 0.2666134\ttotal: 2.42s\tremaining: 4.06s\n",
      "373:\tlearn: 0.2662987\ttotal: 2.42s\tremaining: 4.06s\n",
      "374:\tlearn: 0.2662165\ttotal: 2.43s\tremaining: 4.05s\n",
      "375:\tlearn: 0.2661990\ttotal: 2.44s\tremaining: 4.05s\n",
      "376:\tlearn: 0.2661749\ttotal: 2.44s\tremaining: 4.04s\n",
      "377:\tlearn: 0.2660942\ttotal: 2.45s\tremaining: 4.03s\n",
      "378:\tlearn: 0.2660254\ttotal: 2.46s\tremaining: 4.03s\n",
      "379:\tlearn: 0.2659422\ttotal: 2.46s\tremaining: 4.02s\n",
      "380:\tlearn: 0.2658342\ttotal: 2.47s\tremaining: 4.01s\n",
      "381:\tlearn: 0.2656660\ttotal: 2.47s\tremaining: 4s\n",
      "382:\tlearn: 0.2655994\ttotal: 2.48s\tremaining: 4s\n",
      "383:\tlearn: 0.2655666\ttotal: 2.49s\tremaining: 3.99s\n",
      "384:\tlearn: 0.2654108\ttotal: 2.5s\tremaining: 3.99s\n",
      "385:\tlearn: 0.2653024\ttotal: 2.5s\tremaining: 3.98s\n",
      "386:\tlearn: 0.2652683\ttotal: 2.51s\tremaining: 3.97s\n",
      "387:\tlearn: 0.2652076\ttotal: 2.51s\tremaining: 3.97s\n",
      "388:\tlearn: 0.2651019\ttotal: 2.52s\tremaining: 3.96s\n",
      "389:\tlearn: 0.2650387\ttotal: 2.53s\tremaining: 3.95s\n",
      "390:\tlearn: 0.2648717\ttotal: 2.53s\tremaining: 3.94s\n",
      "391:\tlearn: 0.2647936\ttotal: 2.54s\tremaining: 3.94s\n",
      "392:\tlearn: 0.2646634\ttotal: 2.54s\tremaining: 3.93s\n",
      "393:\tlearn: 0.2646120\ttotal: 2.55s\tremaining: 3.92s\n",
      "394:\tlearn: 0.2645165\ttotal: 2.56s\tremaining: 3.92s\n",
      "395:\tlearn: 0.2644286\ttotal: 2.56s\tremaining: 3.91s\n",
      "396:\tlearn: 0.2643461\ttotal: 2.57s\tremaining: 3.9s\n",
      "397:\tlearn: 0.2642749\ttotal: 2.57s\tremaining: 3.89s\n",
      "398:\tlearn: 0.2642204\ttotal: 2.58s\tremaining: 3.88s\n",
      "399:\tlearn: 0.2642045\ttotal: 2.58s\tremaining: 3.88s\n",
      "400:\tlearn: 0.2641111\ttotal: 2.59s\tremaining: 3.88s\n",
      "401:\tlearn: 0.2640022\ttotal: 2.6s\tremaining: 3.87s\n",
      "402:\tlearn: 0.2639278\ttotal: 2.61s\tremaining: 3.86s\n",
      "403:\tlearn: 0.2638586\ttotal: 2.62s\tremaining: 3.86s\n",
      "404:\tlearn: 0.2637748\ttotal: 2.63s\tremaining: 3.86s\n",
      "405:\tlearn: 0.2636596\ttotal: 2.64s\tremaining: 3.86s\n",
      "406:\tlearn: 0.2635554\ttotal: 2.66s\tremaining: 3.87s\n",
      "407:\tlearn: 0.2634848\ttotal: 2.67s\tremaining: 3.88s\n",
      "408:\tlearn: 0.2634345\ttotal: 2.68s\tremaining: 3.88s\n",
      "409:\tlearn: 0.2632648\ttotal: 2.7s\tremaining: 3.88s\n",
      "410:\tlearn: 0.2631529\ttotal: 2.71s\tremaining: 3.88s\n",
      "411:\tlearn: 0.2631234\ttotal: 2.73s\tremaining: 3.89s\n",
      "412:\tlearn: 0.2630603\ttotal: 2.74s\tremaining: 3.9s\n",
      "413:\tlearn: 0.2630521\ttotal: 2.75s\tremaining: 3.9s\n",
      "414:\tlearn: 0.2629925\ttotal: 2.77s\tremaining: 3.9s\n",
      "415:\tlearn: 0.2627719\ttotal: 2.79s\tremaining: 3.91s\n",
      "416:\tlearn: 0.2626799\ttotal: 2.8s\tremaining: 3.92s\n",
      "417:\tlearn: 0.2626537\ttotal: 2.81s\tremaining: 3.92s\n",
      "418:\tlearn: 0.2626102\ttotal: 2.83s\tremaining: 3.93s\n",
      "419:\tlearn: 0.2625447\ttotal: 2.85s\tremaining: 3.93s\n",
      "420:\tlearn: 0.2624143\ttotal: 2.86s\tremaining: 3.93s\n",
      "421:\tlearn: 0.2623203\ttotal: 2.87s\tremaining: 3.93s\n",
      "422:\tlearn: 0.2622527\ttotal: 2.88s\tremaining: 3.94s\n",
      "423:\tlearn: 0.2621462\ttotal: 2.9s\tremaining: 3.93s\n",
      "424:\tlearn: 0.2620643\ttotal: 2.9s\tremaining: 3.93s\n",
      "425:\tlearn: 0.2619550\ttotal: 2.91s\tremaining: 3.93s\n",
      "426:\tlearn: 0.2618166\ttotal: 2.92s\tremaining: 3.92s\n",
      "427:\tlearn: 0.2617664\ttotal: 2.94s\tremaining: 3.92s\n",
      "428:\tlearn: 0.2617498\ttotal: 2.94s\tremaining: 3.92s\n",
      "429:\tlearn: 0.2617489\ttotal: 2.95s\tremaining: 3.91s\n",
      "430:\tlearn: 0.2617016\ttotal: 2.96s\tremaining: 3.91s\n",
      "431:\tlearn: 0.2616475\ttotal: 2.98s\tremaining: 3.92s\n",
      "432:\tlearn: 0.2615586\ttotal: 3s\tremaining: 3.93s\n",
      "433:\tlearn: 0.2614816\ttotal: 3.01s\tremaining: 3.92s\n",
      "434:\tlearn: 0.2613684\ttotal: 3.02s\tremaining: 3.92s\n",
      "435:\tlearn: 0.2613058\ttotal: 3.03s\tremaining: 3.92s\n",
      "436:\tlearn: 0.2612998\ttotal: 3.04s\tremaining: 3.92s\n",
      "437:\tlearn: 0.2612547\ttotal: 3.05s\tremaining: 3.91s\n",
      "438:\tlearn: 0.2610896\ttotal: 3.06s\tremaining: 3.92s\n",
      "439:\tlearn: 0.2610162\ttotal: 3.08s\tremaining: 3.91s\n",
      "440:\tlearn: 0.2608988\ttotal: 3.09s\tremaining: 3.92s\n",
      "441:\tlearn: 0.2608411\ttotal: 3.1s\tremaining: 3.92s\n",
      "442:\tlearn: 0.2607237\ttotal: 3.12s\tremaining: 3.92s\n",
      "443:\tlearn: 0.2606506\ttotal: 3.13s\tremaining: 3.92s\n",
      "444:\tlearn: 0.2605882\ttotal: 3.14s\tremaining: 3.92s\n",
      "445:\tlearn: 0.2605149\ttotal: 3.15s\tremaining: 3.92s\n",
      "446:\tlearn: 0.2604094\ttotal: 3.17s\tremaining: 3.92s\n",
      "447:\tlearn: 0.2603262\ttotal: 3.18s\tremaining: 3.92s\n",
      "448:\tlearn: 0.2602195\ttotal: 3.2s\tremaining: 3.92s\n",
      "449:\tlearn: 0.2602078\ttotal: 3.21s\tremaining: 3.92s\n",
      "450:\tlearn: 0.2601207\ttotal: 3.22s\tremaining: 3.92s\n",
      "451:\tlearn: 0.2600287\ttotal: 3.23s\tremaining: 3.92s\n",
      "452:\tlearn: 0.2599274\ttotal: 3.24s\tremaining: 3.92s\n",
      "453:\tlearn: 0.2597768\ttotal: 3.25s\tremaining: 3.91s\n",
      "454:\tlearn: 0.2596464\ttotal: 3.26s\tremaining: 3.9s\n",
      "455:\tlearn: 0.2595720\ttotal: 3.27s\tremaining: 3.9s\n",
      "456:\tlearn: 0.2595331\ttotal: 3.27s\tremaining: 3.89s\n",
      "457:\tlearn: 0.2594426\ttotal: 3.28s\tremaining: 3.88s\n",
      "458:\tlearn: 0.2593052\ttotal: 3.29s\tremaining: 3.87s\n",
      "459:\tlearn: 0.2592785\ttotal: 3.29s\tremaining: 3.87s\n",
      "460:\tlearn: 0.2592316\ttotal: 3.3s\tremaining: 3.86s\n",
      "461:\tlearn: 0.2591968\ttotal: 3.31s\tremaining: 3.85s\n",
      "462:\tlearn: 0.2591424\ttotal: 3.31s\tremaining: 3.84s\n",
      "463:\tlearn: 0.2590558\ttotal: 3.32s\tremaining: 3.83s\n",
      "464:\tlearn: 0.2589578\ttotal: 3.33s\tremaining: 3.83s\n",
      "465:\tlearn: 0.2588645\ttotal: 3.33s\tremaining: 3.82s\n",
      "466:\tlearn: 0.2588029\ttotal: 3.34s\tremaining: 3.82s\n",
      "467:\tlearn: 0.2587368\ttotal: 3.35s\tremaining: 3.81s\n",
      "468:\tlearn: 0.2586446\ttotal: 3.36s\tremaining: 3.8s\n",
      "469:\tlearn: 0.2585468\ttotal: 3.36s\tremaining: 3.79s\n",
      "470:\tlearn: 0.2584693\ttotal: 3.37s\tremaining: 3.78s\n",
      "471:\tlearn: 0.2583746\ttotal: 3.37s\tremaining: 3.77s\n",
      "472:\tlearn: 0.2583057\ttotal: 3.38s\tremaining: 3.77s\n",
      "473:\tlearn: 0.2582266\ttotal: 3.39s\tremaining: 3.76s\n",
      "474:\tlearn: 0.2581447\ttotal: 3.39s\tremaining: 3.75s\n",
      "475:\tlearn: 0.2580620\ttotal: 3.4s\tremaining: 3.74s\n",
      "476:\tlearn: 0.2580082\ttotal: 3.4s\tremaining: 3.73s\n",
      "477:\tlearn: 0.2579253\ttotal: 3.41s\tremaining: 3.72s\n",
      "478:\tlearn: 0.2578391\ttotal: 3.41s\tremaining: 3.71s\n",
      "479:\tlearn: 0.2577748\ttotal: 3.42s\tremaining: 3.7s\n",
      "480:\tlearn: 0.2577542\ttotal: 3.43s\tremaining: 3.7s\n",
      "481:\tlearn: 0.2576539\ttotal: 3.43s\tremaining: 3.69s\n",
      "482:\tlearn: 0.2576162\ttotal: 3.44s\tremaining: 3.68s\n",
      "483:\tlearn: 0.2575422\ttotal: 3.44s\tremaining: 3.67s\n",
      "484:\tlearn: 0.2574699\ttotal: 3.45s\tremaining: 3.66s\n",
      "485:\tlearn: 0.2573953\ttotal: 3.45s\tremaining: 3.65s\n",
      "486:\tlearn: 0.2573419\ttotal: 3.46s\tremaining: 3.64s\n",
      "487:\tlearn: 0.2571667\ttotal: 3.46s\tremaining: 3.63s\n",
      "488:\tlearn: 0.2570120\ttotal: 3.47s\tremaining: 3.62s\n",
      "489:\tlearn: 0.2569961\ttotal: 3.47s\tremaining: 3.62s\n",
      "490:\tlearn: 0.2569043\ttotal: 3.48s\tremaining: 3.61s\n",
      "491:\tlearn: 0.2568138\ttotal: 3.48s\tremaining: 3.6s\n",
      "492:\tlearn: 0.2567629\ttotal: 3.49s\tremaining: 3.59s\n",
      "493:\tlearn: 0.2566749\ttotal: 3.49s\tremaining: 3.58s\n",
      "494:\tlearn: 0.2566093\ttotal: 3.5s\tremaining: 3.57s\n",
      "495:\tlearn: 0.2565576\ttotal: 3.5s\tremaining: 3.56s\n",
      "496:\tlearn: 0.2564779\ttotal: 3.51s\tremaining: 3.55s\n"
     ]
    },
    {
     "name": "stdout",
     "output_type": "stream",
     "text": [
      "497:\tlearn: 0.2564067\ttotal: 3.51s\tremaining: 3.54s\n",
      "498:\tlearn: 0.2563888\ttotal: 3.52s\tremaining: 3.53s\n",
      "499:\tlearn: 0.2563046\ttotal: 3.52s\tremaining: 3.52s\n",
      "500:\tlearn: 0.2562567\ttotal: 3.53s\tremaining: 3.52s\n",
      "501:\tlearn: 0.2561956\ttotal: 3.53s\tremaining: 3.5s\n",
      "502:\tlearn: 0.2561213\ttotal: 3.54s\tremaining: 3.5s\n",
      "503:\tlearn: 0.2560280\ttotal: 3.54s\tremaining: 3.49s\n",
      "504:\tlearn: 0.2559683\ttotal: 3.55s\tremaining: 3.48s\n",
      "505:\tlearn: 0.2558342\ttotal: 3.56s\tremaining: 3.47s\n",
      "506:\tlearn: 0.2557885\ttotal: 3.56s\tremaining: 3.46s\n",
      "507:\tlearn: 0.2557109\ttotal: 3.57s\tremaining: 3.46s\n",
      "508:\tlearn: 0.2556582\ttotal: 3.57s\tremaining: 3.45s\n",
      "509:\tlearn: 0.2556024\ttotal: 3.58s\tremaining: 3.44s\n",
      "510:\tlearn: 0.2555217\ttotal: 3.59s\tremaining: 3.43s\n",
      "511:\tlearn: 0.2554783\ttotal: 3.59s\tremaining: 3.42s\n",
      "512:\tlearn: 0.2554253\ttotal: 3.6s\tremaining: 3.41s\n",
      "513:\tlearn: 0.2553946\ttotal: 3.6s\tremaining: 3.41s\n",
      "514:\tlearn: 0.2553941\ttotal: 3.61s\tremaining: 3.4s\n",
      "515:\tlearn: 0.2553464\ttotal: 3.61s\tremaining: 3.39s\n",
      "516:\tlearn: 0.2552835\ttotal: 3.62s\tremaining: 3.38s\n",
      "517:\tlearn: 0.2551908\ttotal: 3.62s\tremaining: 3.37s\n",
      "518:\tlearn: 0.2551473\ttotal: 3.63s\tremaining: 3.36s\n",
      "519:\tlearn: 0.2551249\ttotal: 3.64s\tremaining: 3.36s\n",
      "520:\tlearn: 0.2550975\ttotal: 3.64s\tremaining: 3.35s\n",
      "521:\tlearn: 0.2550400\ttotal: 3.65s\tremaining: 3.34s\n",
      "522:\tlearn: 0.2549719\ttotal: 3.65s\tremaining: 3.33s\n",
      "523:\tlearn: 0.2548865\ttotal: 3.66s\tremaining: 3.32s\n",
      "524:\tlearn: 0.2548449\ttotal: 3.67s\tremaining: 3.32s\n",
      "525:\tlearn: 0.2547451\ttotal: 3.67s\tremaining: 3.31s\n",
      "526:\tlearn: 0.2546508\ttotal: 3.68s\tremaining: 3.3s\n",
      "527:\tlearn: 0.2545709\ttotal: 3.68s\tremaining: 3.29s\n",
      "528:\tlearn: 0.2545171\ttotal: 3.69s\tremaining: 3.29s\n",
      "529:\tlearn: 0.2544392\ttotal: 3.7s\tremaining: 3.28s\n",
      "530:\tlearn: 0.2544043\ttotal: 3.7s\tremaining: 3.27s\n",
      "531:\tlearn: 0.2543271\ttotal: 3.71s\tremaining: 3.26s\n",
      "532:\tlearn: 0.2542936\ttotal: 3.71s\tremaining: 3.25s\n",
      "533:\tlearn: 0.2542590\ttotal: 3.72s\tremaining: 3.25s\n",
      "534:\tlearn: 0.2542030\ttotal: 3.73s\tremaining: 3.24s\n",
      "535:\tlearn: 0.2541297\ttotal: 3.73s\tremaining: 3.23s\n",
      "536:\tlearn: 0.2540554\ttotal: 3.74s\tremaining: 3.23s\n",
      "537:\tlearn: 0.2539669\ttotal: 3.75s\tremaining: 3.22s\n",
      "538:\tlearn: 0.2538707\ttotal: 3.75s\tremaining: 3.21s\n",
      "539:\tlearn: 0.2538194\ttotal: 3.76s\tremaining: 3.21s\n",
      "540:\tlearn: 0.2537505\ttotal: 3.77s\tremaining: 3.2s\n",
      "541:\tlearn: 0.2537192\ttotal: 3.78s\tremaining: 3.19s\n",
      "542:\tlearn: 0.2536508\ttotal: 3.78s\tremaining: 3.18s\n",
      "543:\tlearn: 0.2535881\ttotal: 3.79s\tremaining: 3.18s\n",
      "544:\tlearn: 0.2535616\ttotal: 3.8s\tremaining: 3.17s\n",
      "545:\tlearn: 0.2535307\ttotal: 3.8s\tremaining: 3.16s\n",
      "546:\tlearn: 0.2534499\ttotal: 3.81s\tremaining: 3.15s\n",
      "547:\tlearn: 0.2534366\ttotal: 3.81s\tremaining: 3.14s\n",
      "548:\tlearn: 0.2533970\ttotal: 3.82s\tremaining: 3.14s\n",
      "549:\tlearn: 0.2533064\ttotal: 3.84s\tremaining: 3.14s\n",
      "550:\tlearn: 0.2532683\ttotal: 3.84s\tremaining: 3.13s\n",
      "551:\tlearn: 0.2532191\ttotal: 3.85s\tremaining: 3.12s\n",
      "552:\tlearn: 0.2532114\ttotal: 3.85s\tremaining: 3.11s\n",
      "553:\tlearn: 0.2531062\ttotal: 3.87s\tremaining: 3.11s\n",
      "554:\tlearn: 0.2530624\ttotal: 3.87s\tremaining: 3.11s\n",
      "555:\tlearn: 0.2529784\ttotal: 3.88s\tremaining: 3.1s\n",
      "556:\tlearn: 0.2529098\ttotal: 3.88s\tremaining: 3.09s\n",
      "557:\tlearn: 0.2528566\ttotal: 3.89s\tremaining: 3.08s\n",
      "558:\tlearn: 0.2528089\ttotal: 3.9s\tremaining: 3.07s\n",
      "559:\tlearn: 0.2527327\ttotal: 3.9s\tremaining: 3.06s\n",
      "560:\tlearn: 0.2526998\ttotal: 3.91s\tremaining: 3.06s\n",
      "561:\tlearn: 0.2526268\ttotal: 3.91s\tremaining: 3.05s\n",
      "562:\tlearn: 0.2525576\ttotal: 3.92s\tremaining: 3.04s\n",
      "563:\tlearn: 0.2524990\ttotal: 3.92s\tremaining: 3.03s\n",
      "564:\tlearn: 0.2524587\ttotal: 3.93s\tremaining: 3.02s\n",
      "565:\tlearn: 0.2524378\ttotal: 3.94s\tremaining: 3.02s\n",
      "566:\tlearn: 0.2523734\ttotal: 3.94s\tremaining: 3.01s\n",
      "567:\tlearn: 0.2523095\ttotal: 3.94s\tremaining: 3s\n",
      "568:\tlearn: 0.2522503\ttotal: 3.95s\tremaining: 2.99s\n",
      "569:\tlearn: 0.2522400\ttotal: 3.96s\tremaining: 2.98s\n",
      "570:\tlearn: 0.2521623\ttotal: 3.96s\tremaining: 2.98s\n",
      "571:\tlearn: 0.2520659\ttotal: 3.97s\tremaining: 2.97s\n",
      "572:\tlearn: 0.2520131\ttotal: 3.97s\tremaining: 2.96s\n",
      "573:\tlearn: 0.2519506\ttotal: 3.98s\tremaining: 2.95s\n",
      "574:\tlearn: 0.2519144\ttotal: 3.98s\tremaining: 2.94s\n",
      "575:\tlearn: 0.2519062\ttotal: 3.99s\tremaining: 2.94s\n",
      "576:\tlearn: 0.2518837\ttotal: 3.99s\tremaining: 2.93s\n",
      "577:\tlearn: 0.2517810\ttotal: 4s\tremaining: 2.92s\n",
      "578:\tlearn: 0.2515952\ttotal: 4s\tremaining: 2.91s\n",
      "579:\tlearn: 0.2515424\ttotal: 4.01s\tremaining: 2.9s\n",
      "580:\tlearn: 0.2514847\ttotal: 4.01s\tremaining: 2.89s\n",
      "581:\tlearn: 0.2514411\ttotal: 4.04s\tremaining: 2.9s\n",
      "582:\tlearn: 0.2513884\ttotal: 4.05s\tremaining: 2.89s\n",
      "583:\tlearn: 0.2513445\ttotal: 4.05s\tremaining: 2.89s\n",
      "584:\tlearn: 0.2512620\ttotal: 4.06s\tremaining: 2.88s\n",
      "585:\tlearn: 0.2512099\ttotal: 4.06s\tremaining: 2.87s\n",
      "586:\tlearn: 0.2511787\ttotal: 4.07s\tremaining: 2.86s\n",
      "587:\tlearn: 0.2510997\ttotal: 4.07s\tremaining: 2.85s\n",
      "588:\tlearn: 0.2510367\ttotal: 4.08s\tremaining: 2.85s\n",
      "589:\tlearn: 0.2510114\ttotal: 4.08s\tremaining: 2.84s\n",
      "590:\tlearn: 0.2509940\ttotal: 4.09s\tremaining: 2.83s\n",
      "591:\tlearn: 0.2509455\ttotal: 4.09s\tremaining: 2.82s\n",
      "592:\tlearn: 0.2508582\ttotal: 4.1s\tremaining: 2.81s\n",
      "593:\tlearn: 0.2507228\ttotal: 4.11s\tremaining: 2.81s\n",
      "594:\tlearn: 0.2506928\ttotal: 4.11s\tremaining: 2.8s\n",
      "595:\tlearn: 0.2506396\ttotal: 4.12s\tremaining: 2.79s\n",
      "596:\tlearn: 0.2506207\ttotal: 4.12s\tremaining: 2.78s\n",
      "597:\tlearn: 0.2506054\ttotal: 4.13s\tremaining: 2.77s\n",
      "598:\tlearn: 0.2505611\ttotal: 4.13s\tremaining: 2.77s\n",
      "599:\tlearn: 0.2504984\ttotal: 4.14s\tremaining: 2.76s\n",
      "600:\tlearn: 0.2504350\ttotal: 4.15s\tremaining: 2.75s\n",
      "601:\tlearn: 0.2503429\ttotal: 4.15s\tremaining: 2.75s\n",
      "602:\tlearn: 0.2503130\ttotal: 4.16s\tremaining: 2.74s\n",
      "603:\tlearn: 0.2502521\ttotal: 4.16s\tremaining: 2.73s\n",
      "604:\tlearn: 0.2502447\ttotal: 4.17s\tremaining: 2.72s\n",
      "605:\tlearn: 0.2501869\ttotal: 4.17s\tremaining: 2.71s\n",
      "606:\tlearn: 0.2501161\ttotal: 4.18s\tremaining: 2.71s\n",
      "607:\tlearn: 0.2500754\ttotal: 4.18s\tremaining: 2.7s\n",
      "608:\tlearn: 0.2500139\ttotal: 4.19s\tremaining: 2.69s\n",
      "609:\tlearn: 0.2499584\ttotal: 4.19s\tremaining: 2.68s\n",
      "610:\tlearn: 0.2498909\ttotal: 4.2s\tremaining: 2.67s\n",
      "611:\tlearn: 0.2498169\ttotal: 4.2s\tremaining: 2.67s\n",
      "612:\tlearn: 0.2497405\ttotal: 4.21s\tremaining: 2.66s\n",
      "613:\tlearn: 0.2496665\ttotal: 4.23s\tremaining: 2.66s\n",
      "614:\tlearn: 0.2496614\ttotal: 4.23s\tremaining: 2.65s\n",
      "615:\tlearn: 0.2496247\ttotal: 4.24s\tremaining: 2.64s\n",
      "616:\tlearn: 0.2495824\ttotal: 4.24s\tremaining: 2.63s\n",
      "617:\tlearn: 0.2495246\ttotal: 4.26s\tremaining: 2.63s\n",
      "618:\tlearn: 0.2493955\ttotal: 4.26s\tremaining: 2.63s\n",
      "619:\tlearn: 0.2493772\ttotal: 4.27s\tremaining: 2.62s\n",
      "620:\tlearn: 0.2493681\ttotal: 4.28s\tremaining: 2.61s\n",
      "621:\tlearn: 0.2493161\ttotal: 4.28s\tremaining: 2.6s\n",
      "622:\tlearn: 0.2492676\ttotal: 4.29s\tremaining: 2.6s\n",
      "623:\tlearn: 0.2492447\ttotal: 4.29s\tremaining: 2.59s\n",
      "624:\tlearn: 0.2491494\ttotal: 4.3s\tremaining: 2.58s\n",
      "625:\tlearn: 0.2491039\ttotal: 4.3s\tremaining: 2.57s\n",
      "626:\tlearn: 0.2490411\ttotal: 4.31s\tremaining: 2.56s\n",
      "627:\tlearn: 0.2490154\ttotal: 4.32s\tremaining: 2.56s\n",
      "628:\tlearn: 0.2489905\ttotal: 4.32s\tremaining: 2.55s\n",
      "629:\tlearn: 0.2489591\ttotal: 4.33s\tremaining: 2.54s\n",
      "630:\tlearn: 0.2489430\ttotal: 4.33s\tremaining: 2.53s\n",
      "631:\tlearn: 0.2488966\ttotal: 4.34s\tremaining: 2.52s\n",
      "632:\tlearn: 0.2488404\ttotal: 4.34s\tremaining: 2.52s\n",
      "633:\tlearn: 0.2487707\ttotal: 4.35s\tremaining: 2.51s\n",
      "634:\tlearn: 0.2487219\ttotal: 4.36s\tremaining: 2.5s\n",
      "635:\tlearn: 0.2486926\ttotal: 4.36s\tremaining: 2.5s\n",
      "636:\tlearn: 0.2486516\ttotal: 4.37s\tremaining: 2.49s\n",
      "637:\tlearn: 0.2485885\ttotal: 4.37s\tremaining: 2.48s\n",
      "638:\tlearn: 0.2485440\ttotal: 4.38s\tremaining: 2.47s\n",
      "639:\tlearn: 0.2484263\ttotal: 4.38s\tremaining: 2.46s\n",
      "640:\tlearn: 0.2483502\ttotal: 4.39s\tremaining: 2.46s\n",
      "641:\tlearn: 0.2483151\ttotal: 4.39s\tremaining: 2.45s\n",
      "642:\tlearn: 0.2481305\ttotal: 4.41s\tremaining: 2.45s\n",
      "643:\tlearn: 0.2481091\ttotal: 4.41s\tremaining: 2.44s\n",
      "644:\tlearn: 0.2480071\ttotal: 4.42s\tremaining: 2.43s\n",
      "645:\tlearn: 0.2479667\ttotal: 4.42s\tremaining: 2.42s\n",
      "646:\tlearn: 0.2479178\ttotal: 4.42s\tremaining: 2.41s\n",
      "647:\tlearn: 0.2478851\ttotal: 4.43s\tremaining: 2.41s\n",
      "648:\tlearn: 0.2478481\ttotal: 4.44s\tremaining: 2.4s\n",
      "649:\tlearn: 0.2477926\ttotal: 4.45s\tremaining: 2.39s\n",
      "650:\tlearn: 0.2477302\ttotal: 4.45s\tremaining: 2.39s\n",
      "651:\tlearn: 0.2476746\ttotal: 4.46s\tremaining: 2.38s\n",
      "652:\tlearn: 0.2476499\ttotal: 4.46s\tremaining: 2.37s\n",
      "653:\tlearn: 0.2475467\ttotal: 4.47s\tremaining: 2.36s\n",
      "654:\tlearn: 0.2474991\ttotal: 4.47s\tremaining: 2.35s\n",
      "655:\tlearn: 0.2474737\ttotal: 4.48s\tremaining: 2.35s\n"
     ]
    },
    {
     "name": "stdout",
     "output_type": "stream",
     "text": [
      "656:\tlearn: 0.2474145\ttotal: 4.48s\tremaining: 2.34s\n",
      "657:\tlearn: 0.2473568\ttotal: 4.49s\tremaining: 2.33s\n",
      "658:\tlearn: 0.2473058\ttotal: 4.5s\tremaining: 2.33s\n",
      "659:\tlearn: 0.2472475\ttotal: 4.5s\tremaining: 2.32s\n",
      "660:\tlearn: 0.2471733\ttotal: 4.51s\tremaining: 2.31s\n",
      "661:\tlearn: 0.2471251\ttotal: 4.51s\tremaining: 2.3s\n",
      "662:\tlearn: 0.2469671\ttotal: 4.52s\tremaining: 2.29s\n",
      "663:\tlearn: 0.2469079\ttotal: 4.52s\tremaining: 2.29s\n",
      "664:\tlearn: 0.2468701\ttotal: 4.53s\tremaining: 2.28s\n",
      "665:\tlearn: 0.2467980\ttotal: 4.53s\tremaining: 2.27s\n",
      "666:\tlearn: 0.2467745\ttotal: 4.54s\tremaining: 2.27s\n",
      "667:\tlearn: 0.2467367\ttotal: 4.54s\tremaining: 2.26s\n",
      "668:\tlearn: 0.2466934\ttotal: 4.55s\tremaining: 2.25s\n",
      "669:\tlearn: 0.2466494\ttotal: 4.55s\tremaining: 2.24s\n",
      "670:\tlearn: 0.2465887\ttotal: 4.56s\tremaining: 2.23s\n",
      "671:\tlearn: 0.2465458\ttotal: 4.56s\tremaining: 2.23s\n",
      "672:\tlearn: 0.2464448\ttotal: 4.57s\tremaining: 2.22s\n",
      "673:\tlearn: 0.2463832\ttotal: 4.57s\tremaining: 2.21s\n",
      "674:\tlearn: 0.2463465\ttotal: 4.58s\tremaining: 2.2s\n",
      "675:\tlearn: 0.2462538\ttotal: 4.58s\tremaining: 2.19s\n",
      "676:\tlearn: 0.2461926\ttotal: 4.59s\tremaining: 2.19s\n",
      "677:\tlearn: 0.2461301\ttotal: 4.59s\tremaining: 2.18s\n",
      "678:\tlearn: 0.2461089\ttotal: 4.59s\tremaining: 2.17s\n",
      "679:\tlearn: 0.2460732\ttotal: 4.6s\tremaining: 2.16s\n",
      "680:\tlearn: 0.2460605\ttotal: 4.6s\tremaining: 2.16s\n",
      "681:\tlearn: 0.2460296\ttotal: 4.61s\tremaining: 2.15s\n",
      "682:\tlearn: 0.2459810\ttotal: 4.61s\tremaining: 2.14s\n",
      "683:\tlearn: 0.2459807\ttotal: 4.62s\tremaining: 2.13s\n",
      "684:\tlearn: 0.2459006\ttotal: 4.62s\tremaining: 2.13s\n",
      "685:\tlearn: 0.2458180\ttotal: 4.63s\tremaining: 2.12s\n",
      "686:\tlearn: 0.2458026\ttotal: 4.63s\tremaining: 2.11s\n",
      "687:\tlearn: 0.2457047\ttotal: 4.64s\tremaining: 2.1s\n",
      "688:\tlearn: 0.2456925\ttotal: 4.64s\tremaining: 2.1s\n",
      "689:\tlearn: 0.2456257\ttotal: 4.65s\tremaining: 2.09s\n",
      "690:\tlearn: 0.2455865\ttotal: 4.66s\tremaining: 2.08s\n",
      "691:\tlearn: 0.2455218\ttotal: 4.67s\tremaining: 2.08s\n",
      "692:\tlearn: 0.2454652\ttotal: 4.67s\tremaining: 2.07s\n",
      "693:\tlearn: 0.2454588\ttotal: 4.67s\tremaining: 2.06s\n",
      "694:\tlearn: 0.2454500\ttotal: 4.68s\tremaining: 2.06s\n",
      "695:\tlearn: 0.2453802\ttotal: 4.69s\tremaining: 2.05s\n",
      "696:\tlearn: 0.2453213\ttotal: 4.7s\tremaining: 2.04s\n",
      "697:\tlearn: 0.2453130\ttotal: 4.7s\tremaining: 2.03s\n",
      "698:\tlearn: 0.2452003\ttotal: 4.71s\tremaining: 2.03s\n",
      "699:\tlearn: 0.2451522\ttotal: 4.71s\tremaining: 2.02s\n",
      "700:\tlearn: 0.2451162\ttotal: 4.72s\tremaining: 2.01s\n",
      "701:\tlearn: 0.2450656\ttotal: 4.73s\tremaining: 2.01s\n",
      "702:\tlearn: 0.2450572\ttotal: 4.73s\tremaining: 2s\n",
      "703:\tlearn: 0.2450113\ttotal: 4.74s\tremaining: 1.99s\n",
      "704:\tlearn: 0.2449880\ttotal: 4.75s\tremaining: 1.99s\n",
      "705:\tlearn: 0.2449623\ttotal: 4.75s\tremaining: 1.98s\n",
      "706:\tlearn: 0.2449500\ttotal: 4.77s\tremaining: 1.98s\n",
      "707:\tlearn: 0.2449063\ttotal: 4.78s\tremaining: 1.97s\n",
      "708:\tlearn: 0.2448440\ttotal: 4.78s\tremaining: 1.96s\n",
      "709:\tlearn: 0.2448048\ttotal: 4.79s\tremaining: 1.96s\n",
      "710:\tlearn: 0.2447610\ttotal: 4.79s\tremaining: 1.95s\n",
      "711:\tlearn: 0.2447561\ttotal: 4.8s\tremaining: 1.94s\n",
      "712:\tlearn: 0.2446954\ttotal: 4.8s\tremaining: 1.93s\n",
      "713:\tlearn: 0.2446206\ttotal: 4.81s\tremaining: 1.93s\n",
      "714:\tlearn: 0.2445826\ttotal: 4.82s\tremaining: 1.92s\n",
      "715:\tlearn: 0.2445324\ttotal: 4.82s\tremaining: 1.91s\n",
      "716:\tlearn: 0.2444967\ttotal: 4.83s\tremaining: 1.91s\n",
      "717:\tlearn: 0.2444553\ttotal: 4.84s\tremaining: 1.9s\n",
      "718:\tlearn: 0.2443796\ttotal: 4.84s\tremaining: 1.89s\n",
      "719:\tlearn: 0.2443752\ttotal: 4.85s\tremaining: 1.89s\n",
      "720:\tlearn: 0.2443376\ttotal: 4.86s\tremaining: 1.88s\n",
      "721:\tlearn: 0.2443285\ttotal: 4.86s\tremaining: 1.87s\n",
      "722:\tlearn: 0.2442684\ttotal: 4.87s\tremaining: 1.86s\n",
      "723:\tlearn: 0.2442303\ttotal: 4.87s\tremaining: 1.86s\n",
      "724:\tlearn: 0.2442000\ttotal: 4.88s\tremaining: 1.85s\n",
      "725:\tlearn: 0.2441689\ttotal: 4.88s\tremaining: 1.84s\n",
      "726:\tlearn: 0.2441183\ttotal: 4.89s\tremaining: 1.83s\n",
      "727:\tlearn: 0.2440763\ttotal: 4.91s\tremaining: 1.83s\n",
      "728:\tlearn: 0.2439802\ttotal: 4.91s\tremaining: 1.83s\n",
      "729:\tlearn: 0.2439573\ttotal: 4.92s\tremaining: 1.82s\n",
      "730:\tlearn: 0.2439536\ttotal: 4.92s\tremaining: 1.81s\n",
      "731:\tlearn: 0.2439102\ttotal: 4.93s\tremaining: 1.8s\n",
      "732:\tlearn: 0.2438715\ttotal: 4.93s\tremaining: 1.8s\n",
      "733:\tlearn: 0.2438228\ttotal: 4.94s\tremaining: 1.79s\n",
      "734:\tlearn: 0.2437564\ttotal: 4.94s\tremaining: 1.78s\n",
      "735:\tlearn: 0.2436969\ttotal: 4.95s\tremaining: 1.77s\n",
      "736:\tlearn: 0.2436651\ttotal: 4.95s\tremaining: 1.77s\n",
      "737:\tlearn: 0.2436573\ttotal: 4.95s\tremaining: 1.76s\n",
      "738:\tlearn: 0.2436163\ttotal: 4.96s\tremaining: 1.75s\n",
      "739:\tlearn: 0.2435587\ttotal: 4.96s\tremaining: 1.74s\n",
      "740:\tlearn: 0.2435147\ttotal: 4.97s\tremaining: 1.74s\n",
      "741:\tlearn: 0.2434766\ttotal: 4.98s\tremaining: 1.73s\n",
      "742:\tlearn: 0.2434512\ttotal: 4.99s\tremaining: 1.73s\n",
      "743:\tlearn: 0.2434150\ttotal: 5s\tremaining: 1.72s\n",
      "744:\tlearn: 0.2433863\ttotal: 5s\tremaining: 1.71s\n",
      "745:\tlearn: 0.2433298\ttotal: 5.01s\tremaining: 1.7s\n",
      "746:\tlearn: 0.2432687\ttotal: 5.01s\tremaining: 1.7s\n",
      "747:\tlearn: 0.2432404\ttotal: 5.02s\tremaining: 1.69s\n",
      "748:\tlearn: 0.2432063\ttotal: 5.03s\tremaining: 1.68s\n",
      "749:\tlearn: 0.2431780\ttotal: 5.03s\tremaining: 1.68s\n",
      "750:\tlearn: 0.2431242\ttotal: 5.04s\tremaining: 1.67s\n",
      "751:\tlearn: 0.2430894\ttotal: 5.04s\tremaining: 1.66s\n",
      "752:\tlearn: 0.2430602\ttotal: 5.05s\tremaining: 1.66s\n",
      "753:\tlearn: 0.2430034\ttotal: 5.06s\tremaining: 1.65s\n",
      "754:\tlearn: 0.2429578\ttotal: 5.07s\tremaining: 1.64s\n",
      "755:\tlearn: 0.2428865\ttotal: 5.07s\tremaining: 1.64s\n",
      "756:\tlearn: 0.2427999\ttotal: 5.08s\tremaining: 1.63s\n",
      "757:\tlearn: 0.2427571\ttotal: 5.08s\tremaining: 1.62s\n",
      "758:\tlearn: 0.2427325\ttotal: 5.09s\tremaining: 1.62s\n",
      "759:\tlearn: 0.2426647\ttotal: 5.1s\tremaining: 1.61s\n",
      "760:\tlearn: 0.2426366\ttotal: 5.1s\tremaining: 1.6s\n",
      "761:\tlearn: 0.2426065\ttotal: 5.11s\tremaining: 1.59s\n",
      "762:\tlearn: 0.2425492\ttotal: 5.12s\tremaining: 1.59s\n",
      "763:\tlearn: 0.2425320\ttotal: 5.12s\tremaining: 1.58s\n",
      "764:\tlearn: 0.2424778\ttotal: 5.13s\tremaining: 1.58s\n",
      "765:\tlearn: 0.2424457\ttotal: 5.14s\tremaining: 1.57s\n",
      "766:\tlearn: 0.2423533\ttotal: 5.14s\tremaining: 1.56s\n",
      "767:\tlearn: 0.2423054\ttotal: 5.15s\tremaining: 1.55s\n",
      "768:\tlearn: 0.2422280\ttotal: 5.16s\tremaining: 1.55s\n",
      "769:\tlearn: 0.2421834\ttotal: 5.17s\tremaining: 1.54s\n",
      "770:\tlearn: 0.2421154\ttotal: 5.17s\tremaining: 1.53s\n",
      "771:\tlearn: 0.2420800\ttotal: 5.18s\tremaining: 1.53s\n",
      "772:\tlearn: 0.2420331\ttotal: 5.18s\tremaining: 1.52s\n",
      "773:\tlearn: 0.2419984\ttotal: 5.19s\tremaining: 1.52s\n",
      "774:\tlearn: 0.2419137\ttotal: 5.2s\tremaining: 1.51s\n",
      "775:\tlearn: 0.2418964\ttotal: 5.2s\tremaining: 1.5s\n",
      "776:\tlearn: 0.2418458\ttotal: 5.21s\tremaining: 1.49s\n",
      "777:\tlearn: 0.2418035\ttotal: 5.21s\tremaining: 1.49s\n",
      "778:\tlearn: 0.2417579\ttotal: 5.22s\tremaining: 1.48s\n",
      "779:\tlearn: 0.2417183\ttotal: 5.22s\tremaining: 1.47s\n",
      "780:\tlearn: 0.2416898\ttotal: 5.23s\tremaining: 1.47s\n",
      "781:\tlearn: 0.2416580\ttotal: 5.24s\tremaining: 1.46s\n",
      "782:\tlearn: 0.2416238\ttotal: 5.24s\tremaining: 1.45s\n",
      "783:\tlearn: 0.2416085\ttotal: 5.25s\tremaining: 1.45s\n",
      "784:\tlearn: 0.2415957\ttotal: 5.25s\tremaining: 1.44s\n",
      "785:\tlearn: 0.2415813\ttotal: 5.26s\tremaining: 1.43s\n",
      "786:\tlearn: 0.2415435\ttotal: 5.26s\tremaining: 1.42s\n",
      "787:\tlearn: 0.2414944\ttotal: 5.27s\tremaining: 1.42s\n",
      "788:\tlearn: 0.2414501\ttotal: 5.27s\tremaining: 1.41s\n",
      "789:\tlearn: 0.2414053\ttotal: 5.28s\tremaining: 1.4s\n",
      "790:\tlearn: 0.2413318\ttotal: 5.29s\tremaining: 1.4s\n",
      "791:\tlearn: 0.2412757\ttotal: 5.3s\tremaining: 1.39s\n",
      "792:\tlearn: 0.2412481\ttotal: 5.3s\tremaining: 1.38s\n",
      "793:\tlearn: 0.2411410\ttotal: 5.31s\tremaining: 1.38s\n",
      "794:\tlearn: 0.2410747\ttotal: 5.31s\tremaining: 1.37s\n",
      "795:\tlearn: 0.2410444\ttotal: 5.32s\tremaining: 1.36s\n",
      "796:\tlearn: 0.2410090\ttotal: 5.32s\tremaining: 1.35s\n",
      "797:\tlearn: 0.2409609\ttotal: 5.33s\tremaining: 1.35s\n",
      "798:\tlearn: 0.2409003\ttotal: 5.33s\tremaining: 1.34s\n",
      "799:\tlearn: 0.2408431\ttotal: 5.34s\tremaining: 1.33s\n",
      "800:\tlearn: 0.2407264\ttotal: 5.34s\tremaining: 1.33s\n",
      "801:\tlearn: 0.2406826\ttotal: 5.34s\tremaining: 1.32s\n",
      "802:\tlearn: 0.2406504\ttotal: 5.35s\tremaining: 1.31s\n",
      "803:\tlearn: 0.2405978\ttotal: 5.36s\tremaining: 1.31s\n",
      "804:\tlearn: 0.2405546\ttotal: 5.36s\tremaining: 1.3s\n",
      "805:\tlearn: 0.2404621\ttotal: 5.37s\tremaining: 1.29s\n",
      "806:\tlearn: 0.2404115\ttotal: 5.37s\tremaining: 1.28s\n",
      "807:\tlearn: 0.2403791\ttotal: 5.38s\tremaining: 1.28s\n",
      "808:\tlearn: 0.2403176\ttotal: 5.38s\tremaining: 1.27s\n",
      "809:\tlearn: 0.2402700\ttotal: 5.39s\tremaining: 1.26s\n",
      "810:\tlearn: 0.2402327\ttotal: 5.39s\tremaining: 1.26s\n",
      "811:\tlearn: 0.2402050\ttotal: 5.4s\tremaining: 1.25s\n",
      "812:\tlearn: 0.2401827\ttotal: 5.4s\tremaining: 1.24s\n",
      "813:\tlearn: 0.2401668\ttotal: 5.41s\tremaining: 1.24s\n",
      "814:\tlearn: 0.2401343\ttotal: 5.42s\tremaining: 1.23s\n",
      "815:\tlearn: 0.2400957\ttotal: 5.42s\tremaining: 1.22s\n",
      "816:\tlearn: 0.2400305\ttotal: 5.42s\tremaining: 1.22s\n",
      "817:\tlearn: 0.2399382\ttotal: 5.43s\tremaining: 1.21s\n",
      "818:\tlearn: 0.2398767\ttotal: 5.43s\tremaining: 1.2s\n",
      "819:\tlearn: 0.2398203\ttotal: 5.44s\tremaining: 1.19s\n",
      "820:\tlearn: 0.2397386\ttotal: 5.45s\tremaining: 1.19s\n",
      "821:\tlearn: 0.2397103\ttotal: 5.45s\tremaining: 1.18s\n",
      "822:\tlearn: 0.2396707\ttotal: 5.46s\tremaining: 1.17s\n",
      "823:\tlearn: 0.2396251\ttotal: 5.46s\tremaining: 1.17s\n",
      "824:\tlearn: 0.2395888\ttotal: 5.46s\tremaining: 1.16s\n",
      "825:\tlearn: 0.2395297\ttotal: 5.47s\tremaining: 1.15s\n",
      "826:\tlearn: 0.2394888\ttotal: 5.47s\tremaining: 1.15s\n",
      "827:\tlearn: 0.2394553\ttotal: 5.48s\tremaining: 1.14s\n",
      "828:\tlearn: 0.2394217\ttotal: 5.48s\tremaining: 1.13s\n",
      "829:\tlearn: 0.2393688\ttotal: 5.49s\tremaining: 1.12s\n",
      "830:\tlearn: 0.2393627\ttotal: 5.49s\tremaining: 1.12s\n",
      "831:\tlearn: 0.2393256\ttotal: 5.5s\tremaining: 1.11s\n",
      "832:\tlearn: 0.2392658\ttotal: 5.5s\tremaining: 1.1s\n",
      "833:\tlearn: 0.2392159\ttotal: 5.51s\tremaining: 1.1s\n",
      "834:\tlearn: 0.2391223\ttotal: 5.51s\tremaining: 1.09s\n",
      "835:\tlearn: 0.2390777\ttotal: 5.52s\tremaining: 1.08s\n"
     ]
    },
    {
     "name": "stdout",
     "output_type": "stream",
     "text": [
      "836:\tlearn: 0.2390579\ttotal: 5.53s\tremaining: 1.08s\n",
      "837:\tlearn: 0.2390256\ttotal: 5.53s\tremaining: 1.07s\n",
      "838:\tlearn: 0.2389772\ttotal: 5.54s\tremaining: 1.06s\n",
      "839:\tlearn: 0.2389538\ttotal: 5.55s\tremaining: 1.06s\n",
      "840:\tlearn: 0.2389316\ttotal: 5.55s\tremaining: 1.05s\n",
      "841:\tlearn: 0.2388948\ttotal: 5.56s\tremaining: 1.04s\n",
      "842:\tlearn: 0.2388343\ttotal: 5.57s\tremaining: 1.04s\n",
      "843:\tlearn: 0.2387729\ttotal: 5.57s\tremaining: 1.03s\n",
      "844:\tlearn: 0.2387433\ttotal: 5.58s\tremaining: 1.02s\n",
      "845:\tlearn: 0.2387124\ttotal: 5.58s\tremaining: 1.02s\n",
      "846:\tlearn: 0.2386651\ttotal: 5.59s\tremaining: 1.01s\n",
      "847:\tlearn: 0.2386410\ttotal: 5.6s\tremaining: 1s\n",
      "848:\tlearn: 0.2385643\ttotal: 5.6s\tremaining: 997ms\n",
      "849:\tlearn: 0.2385079\ttotal: 5.61s\tremaining: 990ms\n",
      "850:\tlearn: 0.2384641\ttotal: 5.62s\tremaining: 984ms\n",
      "851:\tlearn: 0.2384209\ttotal: 5.63s\tremaining: 977ms\n",
      "852:\tlearn: 0.2383318\ttotal: 5.63s\tremaining: 971ms\n",
      "853:\tlearn: 0.2383054\ttotal: 5.64s\tremaining: 964ms\n",
      "854:\tlearn: 0.2382676\ttotal: 5.64s\tremaining: 957ms\n",
      "855:\tlearn: 0.2382429\ttotal: 5.65s\tremaining: 951ms\n",
      "856:\tlearn: 0.2381428\ttotal: 5.66s\tremaining: 944ms\n",
      "857:\tlearn: 0.2381371\ttotal: 5.66s\tremaining: 937ms\n",
      "858:\tlearn: 0.2381173\ttotal: 5.67s\tremaining: 931ms\n",
      "859:\tlearn: 0.2380703\ttotal: 5.68s\tremaining: 924ms\n",
      "860:\tlearn: 0.2380575\ttotal: 5.68s\tremaining: 918ms\n",
      "861:\tlearn: 0.2380205\ttotal: 5.69s\tremaining: 911ms\n",
      "862:\tlearn: 0.2380084\ttotal: 5.7s\tremaining: 904ms\n",
      "863:\tlearn: 0.2379938\ttotal: 5.7s\tremaining: 898ms\n",
      "864:\tlearn: 0.2379703\ttotal: 5.71s\tremaining: 891ms\n",
      "865:\tlearn: 0.2379518\ttotal: 5.71s\tremaining: 884ms\n",
      "866:\tlearn: 0.2379394\ttotal: 5.72s\tremaining: 877ms\n",
      "867:\tlearn: 0.2379102\ttotal: 5.72s\tremaining: 870ms\n",
      "868:\tlearn: 0.2378797\ttotal: 5.73s\tremaining: 863ms\n",
      "869:\tlearn: 0.2378189\ttotal: 5.73s\tremaining: 857ms\n",
      "870:\tlearn: 0.2377995\ttotal: 5.74s\tremaining: 850ms\n",
      "871:\tlearn: 0.2377493\ttotal: 5.75s\tremaining: 843ms\n",
      "872:\tlearn: 0.2377171\ttotal: 5.75s\tremaining: 837ms\n",
      "873:\tlearn: 0.2376824\ttotal: 5.75s\tremaining: 830ms\n",
      "874:\tlearn: 0.2376489\ttotal: 5.76s\tremaining: 823ms\n",
      "875:\tlearn: 0.2376024\ttotal: 5.76s\tremaining: 816ms\n",
      "876:\tlearn: 0.2375726\ttotal: 5.77s\tremaining: 809ms\n",
      "877:\tlearn: 0.2375132\ttotal: 5.77s\tremaining: 802ms\n",
      "878:\tlearn: 0.2374887\ttotal: 5.79s\tremaining: 798ms\n",
      "879:\tlearn: 0.2374667\ttotal: 5.8s\tremaining: 791ms\n",
      "880:\tlearn: 0.2374350\ttotal: 5.8s\tremaining: 784ms\n",
      "881:\tlearn: 0.2373643\ttotal: 5.81s\tremaining: 777ms\n",
      "882:\tlearn: 0.2373184\ttotal: 5.81s\tremaining: 770ms\n",
      "883:\tlearn: 0.2372628\ttotal: 5.82s\tremaining: 763ms\n",
      "884:\tlearn: 0.2372621\ttotal: 5.82s\tremaining: 757ms\n",
      "885:\tlearn: 0.2372141\ttotal: 5.83s\tremaining: 750ms\n",
      "886:\tlearn: 0.2371741\ttotal: 5.83s\tremaining: 743ms\n",
      "887:\tlearn: 0.2371400\ttotal: 5.83s\tremaining: 736ms\n",
      "888:\tlearn: 0.2371226\ttotal: 5.84s\tremaining: 729ms\n",
      "889:\tlearn: 0.2370930\ttotal: 5.84s\tremaining: 722ms\n",
      "890:\tlearn: 0.2370687\ttotal: 5.85s\tremaining: 716ms\n",
      "891:\tlearn: 0.2369899\ttotal: 5.85s\tremaining: 709ms\n",
      "892:\tlearn: 0.2369630\ttotal: 5.86s\tremaining: 702ms\n",
      "893:\tlearn: 0.2368938\ttotal: 5.86s\tremaining: 695ms\n",
      "894:\tlearn: 0.2368325\ttotal: 5.87s\tremaining: 688ms\n",
      "895:\tlearn: 0.2367594\ttotal: 5.87s\tremaining: 682ms\n",
      "896:\tlearn: 0.2366732\ttotal: 5.88s\tremaining: 675ms\n",
      "897:\tlearn: 0.2366386\ttotal: 5.88s\tremaining: 668ms\n",
      "898:\tlearn: 0.2366046\ttotal: 5.89s\tremaining: 662ms\n",
      "899:\tlearn: 0.2365568\ttotal: 5.89s\tremaining: 655ms\n",
      "900:\tlearn: 0.2365417\ttotal: 5.9s\tremaining: 648ms\n",
      "901:\tlearn: 0.2365097\ttotal: 5.9s\tremaining: 642ms\n",
      "902:\tlearn: 0.2364831\ttotal: 5.91s\tremaining: 635ms\n",
      "903:\tlearn: 0.2364314\ttotal: 5.92s\tremaining: 628ms\n",
      "904:\tlearn: 0.2363969\ttotal: 5.92s\tremaining: 622ms\n",
      "905:\tlearn: 0.2363772\ttotal: 5.93s\tremaining: 615ms\n",
      "906:\tlearn: 0.2363113\ttotal: 5.94s\tremaining: 609ms\n",
      "907:\tlearn: 0.2362681\ttotal: 5.94s\tremaining: 602ms\n",
      "908:\tlearn: 0.2362507\ttotal: 5.95s\tremaining: 595ms\n",
      "909:\tlearn: 0.2361928\ttotal: 5.96s\tremaining: 589ms\n",
      "910:\tlearn: 0.2361923\ttotal: 5.96s\tremaining: 582ms\n",
      "911:\tlearn: 0.2361529\ttotal: 5.97s\tremaining: 576ms\n",
      "912:\tlearn: 0.2361181\ttotal: 5.97s\tremaining: 569ms\n",
      "913:\tlearn: 0.2360667\ttotal: 5.98s\tremaining: 563ms\n",
      "914:\tlearn: 0.2360492\ttotal: 5.99s\tremaining: 556ms\n",
      "915:\tlearn: 0.2359602\ttotal: 5.99s\tremaining: 549ms\n",
      "916:\tlearn: 0.2359295\ttotal: 6s\tremaining: 543ms\n",
      "917:\tlearn: 0.2358890\ttotal: 6.01s\tremaining: 536ms\n",
      "918:\tlearn: 0.2358083\ttotal: 6.01s\tremaining: 530ms\n",
      "919:\tlearn: 0.2357437\ttotal: 6.02s\tremaining: 523ms\n",
      "920:\tlearn: 0.2357228\ttotal: 6.02s\tremaining: 517ms\n",
      "921:\tlearn: 0.2356870\ttotal: 6.03s\tremaining: 510ms\n",
      "922:\tlearn: 0.2356590\ttotal: 6.04s\tremaining: 504ms\n",
      "923:\tlearn: 0.2356064\ttotal: 6.04s\tremaining: 497ms\n",
      "924:\tlearn: 0.2355725\ttotal: 6.05s\tremaining: 491ms\n",
      "925:\tlearn: 0.2355498\ttotal: 6.05s\tremaining: 484ms\n",
      "926:\tlearn: 0.2355177\ttotal: 6.06s\tremaining: 477ms\n",
      "927:\tlearn: 0.2354532\ttotal: 6.07s\tremaining: 471ms\n",
      "928:\tlearn: 0.2353565\ttotal: 6.08s\tremaining: 465ms\n",
      "929:\tlearn: 0.2352713\ttotal: 6.08s\tremaining: 458ms\n",
      "930:\tlearn: 0.2352265\ttotal: 6.09s\tremaining: 451ms\n",
      "931:\tlearn: 0.2351864\ttotal: 6.1s\tremaining: 445ms\n",
      "932:\tlearn: 0.2351617\ttotal: 6.1s\tremaining: 438ms\n",
      "933:\tlearn: 0.2351329\ttotal: 6.11s\tremaining: 432ms\n",
      "934:\tlearn: 0.2351069\ttotal: 6.11s\tremaining: 425ms\n",
      "935:\tlearn: 0.2350437\ttotal: 6.12s\tremaining: 418ms\n",
      "936:\tlearn: 0.2349972\ttotal: 6.13s\tremaining: 412ms\n",
      "937:\tlearn: 0.2349675\ttotal: 6.13s\tremaining: 405ms\n",
      "938:\tlearn: 0.2349133\ttotal: 6.13s\tremaining: 399ms\n",
      "939:\tlearn: 0.2348748\ttotal: 6.14s\tremaining: 392ms\n",
      "940:\tlearn: 0.2347987\ttotal: 6.14s\tremaining: 385ms\n",
      "941:\tlearn: 0.2347761\ttotal: 6.15s\tremaining: 379ms\n",
      "942:\tlearn: 0.2347466\ttotal: 6.16s\tremaining: 372ms\n",
      "943:\tlearn: 0.2347275\ttotal: 6.16s\tremaining: 365ms\n",
      "944:\tlearn: 0.2346904\ttotal: 6.16s\tremaining: 359ms\n",
      "945:\tlearn: 0.2346272\ttotal: 6.17s\tremaining: 352ms\n",
      "946:\tlearn: 0.2345762\ttotal: 6.17s\tremaining: 346ms\n",
      "947:\tlearn: 0.2345464\ttotal: 6.18s\tremaining: 339ms\n",
      "948:\tlearn: 0.2345089\ttotal: 6.18s\tremaining: 332ms\n",
      "949:\tlearn: 0.2344487\ttotal: 6.19s\tremaining: 326ms\n",
      "950:\tlearn: 0.2344172\ttotal: 6.19s\tremaining: 319ms\n",
      "951:\tlearn: 0.2343939\ttotal: 6.2s\tremaining: 312ms\n",
      "952:\tlearn: 0.2343604\ttotal: 6.2s\tremaining: 306ms\n",
      "953:\tlearn: 0.2342808\ttotal: 6.21s\tremaining: 299ms\n",
      "954:\tlearn: 0.2342446\ttotal: 6.21s\tremaining: 293ms\n",
      "955:\tlearn: 0.2341870\ttotal: 6.22s\tremaining: 286ms\n",
      "956:\tlearn: 0.2341266\ttotal: 6.23s\tremaining: 280ms\n",
      "957:\tlearn: 0.2341080\ttotal: 6.23s\tremaining: 273ms\n",
      "958:\tlearn: 0.2340423\ttotal: 6.24s\tremaining: 267ms\n",
      "959:\tlearn: 0.2340346\ttotal: 6.25s\tremaining: 260ms\n",
      "960:\tlearn: 0.2340097\ttotal: 6.25s\tremaining: 254ms\n",
      "961:\tlearn: 0.2339394\ttotal: 6.26s\tremaining: 247ms\n",
      "962:\tlearn: 0.2339185\ttotal: 6.27s\tremaining: 241ms\n",
      "963:\tlearn: 0.2338777\ttotal: 6.27s\tremaining: 234ms\n",
      "964:\tlearn: 0.2338495\ttotal: 6.28s\tremaining: 228ms\n",
      "965:\tlearn: 0.2338348\ttotal: 6.29s\tremaining: 221ms\n",
      "966:\tlearn: 0.2337960\ttotal: 6.29s\tremaining: 215ms\n",
      "967:\tlearn: 0.2337687\ttotal: 6.3s\tremaining: 208ms\n",
      "968:\tlearn: 0.2337281\ttotal: 6.3s\tremaining: 202ms\n",
      "969:\tlearn: 0.2337074\ttotal: 6.31s\tremaining: 195ms\n",
      "970:\tlearn: 0.2336888\ttotal: 6.32s\tremaining: 189ms\n",
      "971:\tlearn: 0.2336594\ttotal: 6.32s\tremaining: 182ms\n",
      "972:\tlearn: 0.2336225\ttotal: 6.33s\tremaining: 176ms\n",
      "973:\tlearn: 0.2335854\ttotal: 6.33s\tremaining: 169ms\n",
      "974:\tlearn: 0.2335400\ttotal: 6.34s\tremaining: 163ms\n",
      "975:\tlearn: 0.2335020\ttotal: 6.35s\tremaining: 156ms\n",
      "976:\tlearn: 0.2334702\ttotal: 6.36s\tremaining: 150ms\n",
      "977:\tlearn: 0.2334110\ttotal: 6.36s\tremaining: 143ms\n",
      "978:\tlearn: 0.2333426\ttotal: 6.37s\tremaining: 137ms\n",
      "979:\tlearn: 0.2333157\ttotal: 6.38s\tremaining: 130ms\n",
      "980:\tlearn: 0.2332869\ttotal: 6.38s\tremaining: 124ms\n",
      "981:\tlearn: 0.2332422\ttotal: 6.39s\tremaining: 117ms\n",
      "982:\tlearn: 0.2331941\ttotal: 6.39s\tremaining: 111ms\n",
      "983:\tlearn: 0.2331417\ttotal: 6.4s\tremaining: 104ms\n",
      "984:\tlearn: 0.2331231\ttotal: 6.41s\tremaining: 97.6ms\n",
      "985:\tlearn: 0.2330864\ttotal: 6.41s\tremaining: 91ms\n",
      "986:\tlearn: 0.2330236\ttotal: 6.42s\tremaining: 84.6ms\n",
      "987:\tlearn: 0.2329825\ttotal: 6.43s\tremaining: 78.1ms\n",
      "988:\tlearn: 0.2329306\ttotal: 6.43s\tremaining: 71.6ms\n",
      "989:\tlearn: 0.2329071\ttotal: 6.44s\tremaining: 65ms\n",
      "990:\tlearn: 0.2329067\ttotal: 6.44s\tremaining: 58.5ms\n",
      "991:\tlearn: 0.2328552\ttotal: 6.45s\tremaining: 52ms\n",
      "992:\tlearn: 0.2328454\ttotal: 6.45s\tremaining: 45.5ms\n",
      "993:\tlearn: 0.2328076\ttotal: 6.46s\tremaining: 39ms\n",
      "994:\tlearn: 0.2327783\ttotal: 6.47s\tremaining: 32.5ms\n",
      "995:\tlearn: 0.2327196\ttotal: 6.47s\tremaining: 26ms\n",
      "996:\tlearn: 0.2326580\ttotal: 6.48s\tremaining: 19.5ms\n",
      "997:\tlearn: 0.2326516\ttotal: 6.48s\tremaining: 13ms\n",
      "998:\tlearn: 0.2326110\ttotal: 6.49s\tremaining: 6.49ms\n",
      "999:\tlearn: 0.2325384\ttotal: 6.49s\tremaining: 0us\n"
     ]
    }
   ],
   "source": [
    "%%capture\n",
    "model = CatBoostRegressor()\n",
    "model.fit(x_train_18, y_train_18)\n",
    "y_pred_18 = model.predict(x_test_18)"
   ]
  },
  {
   "cell_type": "code",
   "execution_count": 209,
   "id": "ac5955c8",
   "metadata": {},
   "outputs": [
    {
     "name": "stdout",
     "output_type": "stream",
     "text": [
      "MSE for CatBoost 2018 is: 0.17180825058071694\n"
     ]
    }
   ],
   "source": [
    "# Calculation of Mean Squared Error (MSE)\n",
    "mse = mean_squared_error(y_test_18, y_pred_18)\n",
    "print('MSE for CatBoost 2018 is: ' + str(mse))"
   ]
  },
  {
   "cell_type": "code",
   "execution_count": 210,
   "id": "4b0d621c",
   "metadata": {},
   "outputs": [
    {
     "name": "stdout",
     "output_type": "stream",
     "text": [
      "Accuracy of properties at +- 10% of actual prices is 0.3973148730857982\n"
     ]
    }
   ],
   "source": [
    "acc = accuracy_threshold(y_test_18, y_pred_18, 0.1)\n",
    "print('Accuracy of properties at +- 10% of actual prices is ' + str(acc))"
   ]
  },
  {
   "cell_type": "code",
   "execution_count": 211,
   "id": "57e165de",
   "metadata": {},
   "outputs": [
    {
     "name": "stdout",
     "output_type": "stream",
     "text": [
      "Median Absolute Error:\n",
      "\n",
      "0.13404095230882795\n"
     ]
    }
   ],
   "source": [
    "median_se = np.square(np.subtract(y_test_18, y_pred_18)).median() \n",
    " \n",
    "med = math.sqrt(median_se)\n",
    "print(\"Median Absolute Error:\\n\")\n",
    "print(med)"
   ]
  },
  {
   "cell_type": "code",
   "execution_count": 212,
   "id": "4a6d15a7",
   "metadata": {},
   "outputs": [
    {
     "name": "stdout",
     "output_type": "stream",
     "text": [
      "RMSE for CatBoost 2018 is: 0.4144975881482508\n"
     ]
    }
   ],
   "source": [
    "rmse = mean_squared_error(y_test_18, y_pred_18, squared = False)\n",
    "print('RMSE for CatBoost 2018 is: ' + str(rmse))"
   ]
  },
  {
   "cell_type": "code",
   "execution_count": 213,
   "id": "077985a3",
   "metadata": {},
   "outputs": [
    {
     "name": "stdout",
     "output_type": "stream",
     "text": [
      "MAPE for CatBoost 2018 is: 0.018176770545584666\n"
     ]
    }
   ],
   "source": [
    "mape = mean_absolute_percentage_error(y_test_18, y_pred_18)\n",
    "print(\"MAPE for CatBoost 2018 is: \" + str(mape))"
   ]
  },
  {
   "cell_type": "code",
   "execution_count": 214,
   "id": "efdfd2f1",
   "metadata": {},
   "outputs": [],
   "source": [
    "cnames = ['Algorithm', 'Year', 'RMSE', 'MSE', 'MEDAE', 'Accuracy', 'MAPE']\n",
    "df22 = pd.DataFrame(columns = cnames)\n",
    "\n",
    "df22 = df22.append({'Algorithm': 'CatBoost',\n",
    "           'Year': 2018,\n",
    "           'RMSE': rmse,\n",
    "           'MSE': mse,\n",
    "           'MEDAE': med,\n",
    "           'Accuracy': acc,\n",
    "           'MAPE': mape         \n",
    "          }, ignore_index = True)"
   ]
  },
  {
   "cell_type": "markdown",
   "id": "32ba1ce8",
   "metadata": {},
   "source": [
    "### BayesianRidge"
   ]
  },
  {
   "cell_type": "code",
   "execution_count": 215,
   "id": "be7faf55",
   "metadata": {},
   "outputs": [
    {
     "name": "stdout",
     "output_type": "stream",
     "text": [
      "MSE for BayesianRidge 2018 is: 0.19163358407071812\n"
     ]
    }
   ],
   "source": [
    "clf = BayesianRidge()\n",
    "clf.fit(x_train_18, y_train_18)\n",
    "y_pred_18 = clf.predict(x_test_18)\n",
    "# Calculation of Mean Squared Error (MSE)\n",
    "mse = mean_squared_error(y_test_18, y_pred_18)\n",
    "print('MSE for BayesianRidge 2018 is: ' + str(mse))"
   ]
  },
  {
   "cell_type": "code",
   "execution_count": 216,
   "id": "dcac2a1a",
   "metadata": {},
   "outputs": [
    {
     "name": "stdout",
     "output_type": "stream",
     "text": [
      "Accuracy of properties at +- 10% of actual prices is 0.3482273966855465\n"
     ]
    }
   ],
   "source": [
    "acc = accuracy_threshold(y_test_18, y_pred_18, 0.1)\n",
    "print('Accuracy of properties at +- 10% of actual prices is ' + str(acc))"
   ]
  },
  {
   "cell_type": "code",
   "execution_count": 217,
   "id": "c36fbb4d",
   "metadata": {},
   "outputs": [
    {
     "name": "stdout",
     "output_type": "stream",
     "text": [
      "MAPE for BayesianRidge 2018 is: 0.020452132527555976\n"
     ]
    }
   ],
   "source": [
    "mape = mean_absolute_percentage_error(y_test_18, y_pred_18)\n",
    "print(\"MAPE for BayesianRidge 2018 is: \" + str(mape))"
   ]
  },
  {
   "cell_type": "code",
   "execution_count": 218,
   "id": "8f51cb14",
   "metadata": {},
   "outputs": [
    {
     "name": "stdout",
     "output_type": "stream",
     "text": [
      "Median Absolute Error:\n",
      "\n",
      "0.15521238056556008\n"
     ]
    }
   ],
   "source": [
    "median_se = np.square(np.subtract(y_test_18, y_pred_18)).median() \n",
    " \n",
    "med = math.sqrt(median_se)\n",
    "print(\"Median Absolute Error:\\n\")\n",
    "print(med)"
   ]
  },
  {
   "cell_type": "code",
   "execution_count": 219,
   "id": "dd7ded2a",
   "metadata": {},
   "outputs": [
    {
     "name": "stdout",
     "output_type": "stream",
     "text": [
      "RMSE for MLR 2018 is: 0.43775973326782597\n"
     ]
    }
   ],
   "source": [
    "rmse = mean_squared_error(y_test_18, y_pred_18, squared = False)\n",
    "print('RMSE for MLR 2018 is: ' + str(rmse))"
   ]
  },
  {
   "cell_type": "code",
   "execution_count": 220,
   "id": "739c52c5",
   "metadata": {},
   "outputs": [],
   "source": [
    "cnames = ['Algorithm', 'Year', 'RMSE', 'MSE', 'MEDAE', 'Accuracy', 'MAPE']\n",
    "df23 = pd.DataFrame(columns = cnames)\n",
    "\n",
    "df23 = df23.append({'Algorithm': 'Bayesian',\n",
    "           'Year': 2018,\n",
    "           'RMSE': rmse,\n",
    "           'MSE': mse,\n",
    "           'MEDAE': med,\n",
    "           'Accuracy': acc,\n",
    "           'MAPE': mape         \n",
    "          }, ignore_index = True)"
   ]
  },
  {
   "cell_type": "markdown",
   "id": "3603e079",
   "metadata": {},
   "source": [
    "## 2017"
   ]
  },
  {
   "cell_type": "code",
   "execution_count": 221,
   "id": "e0c02467",
   "metadata": {},
   "outputs": [],
   "source": [
    "specific17 = irl[irl['Year'] > 2013]\n",
    "test_17 = specific17[specific17['Year'] == 2017]\n",
    "train_17 = specific17[specific17['Year'] < 2017]\n",
    "\n",
    "x_train_17 = train_17.loc[:, train_17.columns != 'PriceLog']\n",
    "y_train_17 = train_17['PriceLog']\n",
    "x_test_17 = test_17.loc[:, test_17.columns != 'PriceLog']\n",
    "y_test_17 = test_17['PriceLog']"
   ]
  },
  {
   "cell_type": "code",
   "execution_count": 222,
   "id": "519a5218",
   "metadata": {},
   "outputs": [
    {
     "name": "stdout",
     "output_type": "stream",
     "text": [
      "Linear algorithm was disabled.\n",
      "AutoML directory: AutoML_5\n",
      "The task is regression with evaluation metric rmse\n",
      "AutoML will use algorithms: ['Baseline', 'Decision Tree', 'Random Forest', 'Xgboost', 'Neural Network']\n",
      "AutoML will ensemble available models\n",
      "AutoML steps: ['simple_algorithms', 'default_algorithms', 'ensemble']\n",
      "* Step simple_algorithms will try to check up to 2 models\n",
      "1_Baseline rmse 0.558287 trained in 1.12 seconds\n",
      "2_DecisionTree rmse 0.370309 trained in 6.21 seconds\n",
      "* Step default_algorithms will try to check up to 3 models\n",
      "3_Default_Xgboost rmse 0.29136 trained in 10.07 seconds\n",
      "4_Default_NeuralNetwork rmse 0.308835 trained in 4.0 seconds\n",
      "5_Default_RandomForest rmse 0.339503 trained in 8.45 seconds\n",
      "* Step ensemble will try to check up to 1 model\n",
      "Ensemble rmse 0.289697 trained in 0.31 seconds\n",
      "AutoML fit time: 45.97 seconds\n",
      "AutoML best model: Ensemble\n"
     ]
    },
    {
     "data": {
      "text/plain": [
       "AutoML(explain_level=2, total_time_limit=300)"
      ]
     },
     "execution_count": 222,
     "metadata": {},
     "output_type": "execute_result"
    }
   ],
   "source": [
    "automl = AutoML(total_time_limit = 5 * 60, explain_level = 2)\n",
    "automl.fit(x_train_17, y_train_17)"
   ]
  },
  {
   "cell_type": "code",
   "execution_count": 223,
   "id": "ae607b39",
   "metadata": {},
   "outputs": [
    {
     "name": "stdout",
     "output_type": "stream",
     "text": [
      "MSE for AutoML 2017 is: 0.11124314399536647\n"
     ]
    }
   ],
   "source": [
    "y_pred_17 = automl.predict(x_test_17)\n",
    "# Calculation of Mean Squared Error (MSE)\n",
    "mse = mean_squared_error(y_test_17, y_pred_17)\n",
    "print('MSE for AutoML 2017 is: ' + str(mse))"
   ]
  },
  {
   "cell_type": "code",
   "execution_count": 224,
   "id": "89808aa5",
   "metadata": {},
   "outputs": [
    {
     "name": "stdout",
     "output_type": "stream",
     "text": [
      "RMSE for AutoML 2017 is: 0.3335313238593438\n"
     ]
    }
   ],
   "source": [
    "rmse = mean_squared_error(y_test_17, y_pred_17, squared = False)\n",
    "print('RMSE for AutoML 2017 is: ' + str(rmse))"
   ]
  },
  {
   "cell_type": "code",
   "execution_count": 225,
   "id": "1c9b63ba",
   "metadata": {},
   "outputs": [
    {
     "name": "stdout",
     "output_type": "stream",
     "text": [
      "Accuracy of properties at +- 10% of actual prices is 0.37795918367346937\n"
     ]
    }
   ],
   "source": [
    "acc = accuracy_threshold(y_test_17, y_pred_17, 0.1)\n",
    "print('Accuracy of properties at +- 10% of actual prices is ' + str(acc))"
   ]
  },
  {
   "cell_type": "code",
   "execution_count": 226,
   "id": "b244d0d9",
   "metadata": {},
   "outputs": [
    {
     "name": "stdout",
     "output_type": "stream",
     "text": [
      "Median Absolute Error:\n",
      "\n",
      "0.1412369815968001\n"
     ]
    }
   ],
   "source": [
    "median_se = np.square(np.subtract(y_test_17, y_pred_17)).median() \n",
    " \n",
    "med = math.sqrt(median_se)\n",
    "print(\"Median Absolute Error:\\n\")\n",
    "print(med)"
   ]
  },
  {
   "cell_type": "code",
   "execution_count": 227,
   "id": "3656aeed",
   "metadata": {},
   "outputs": [
    {
     "name": "stdout",
     "output_type": "stream",
     "text": [
      "MAPE for AutoML 2017 is: 0.016840792924465074\n"
     ]
    }
   ],
   "source": [
    "mape = mean_absolute_percentage_error(y_test_17, y_pred_17)\n",
    "print(\"MAPE for AutoML 2017 is: \" + str(mape))"
   ]
  },
  {
   "cell_type": "code",
   "execution_count": 228,
   "id": "de32e7b8",
   "metadata": {},
   "outputs": [],
   "source": [
    "cnames = ['Algorithm', 'Year', 'RMSE', 'MSE', 'MEDAE', 'Accuracy', 'MAPE']\n",
    "df24 = pd.DataFrame(columns = cnames)\n",
    "\n",
    "df24 = df24.append({'Algorithm': 'AutoML',\n",
    "           'Year': 2017,\n",
    "           'RMSE': rmse,\n",
    "           'MSE': mse,\n",
    "           'MEDAE': med,\n",
    "           'Accuracy': acc,\n",
    "           'MAPE': mape         \n",
    "          }, ignore_index = True)"
   ]
  },
  {
   "cell_type": "code",
   "execution_count": 229,
   "id": "290ccd72",
   "metadata": {},
   "outputs": [],
   "source": [
    "#cnames = ['Actual', 'Predicted']\n",
    "#dfreal5 = pd.DataFrame(columns = cnames)\n",
    "dfreal5 = pd.DataFrame(y_test_17.values)\n",
    "dfpred5 = pd.DataFrame(y_pred_17)\n",
    "#dfreal5 = pd.concat([z1, z2], ignore_index=True)"
   ]
  },
  {
   "cell_type": "markdown",
   "id": "e44a748f",
   "metadata": {},
   "source": [
    "### MLR"
   ]
  },
  {
   "cell_type": "code",
   "execution_count": 230,
   "id": "900d1850",
   "metadata": {},
   "outputs": [
    {
     "name": "stdout",
     "output_type": "stream",
     "text": [
      "MSE for MLR 2017 is: 0.11185275006198467\n"
     ]
    }
   ],
   "source": [
    "lm = linear_model.LinearRegression()\n",
    "lm.fit(x_train_17, y_train_17) # fitting the model\n",
    "y_pred_17 = lm.predict(x_test_17)\n",
    "# Calculation of Mean Squared Error (MSE)\n",
    "mse = mean_squared_error(y_test_17, y_pred_17)\n",
    "print('MSE for MLR 2017 is: ' + str(mse))"
   ]
  },
  {
   "cell_type": "code",
   "execution_count": 231,
   "id": "38e7f871",
   "metadata": {},
   "outputs": [
    {
     "name": "stdout",
     "output_type": "stream",
     "text": [
      "RMSE for MLR 2017 is: 0.3344439415836153\n"
     ]
    }
   ],
   "source": [
    "rmse = mean_squared_error(y_test_17, y_pred_17, squared = False)\n",
    "print('RMSE for MLR 2017 is: ' + str(rmse))"
   ]
  },
  {
   "cell_type": "code",
   "execution_count": 232,
   "id": "bf7320be",
   "metadata": {},
   "outputs": [
    {
     "name": "stdout",
     "output_type": "stream",
     "text": [
      "Accuracy of properties at +- 10% of actual prices is 0.3361224489795918\n"
     ]
    }
   ],
   "source": [
    "acc = accuracy_threshold(y_test_17, y_pred_17, 0.1)\n",
    "print('Accuracy of properties at +- 10% of actual prices is ' + str(acc))"
   ]
  },
  {
   "cell_type": "code",
   "execution_count": 233,
   "id": "79216519",
   "metadata": {},
   "outputs": [
    {
     "name": "stdout",
     "output_type": "stream",
     "text": [
      "Median Absolute Error:\n",
      "\n",
      "0.16048786408932\n"
     ]
    }
   ],
   "source": [
    "median_se = np.square(np.subtract(y_test_17, y_pred_17)).median() \n",
    " \n",
    "med = math.sqrt(median_se)\n",
    "print(\"Median Absolute Error:\\n\")\n",
    "print(med)"
   ]
  },
  {
   "cell_type": "code",
   "execution_count": 234,
   "id": "a81013e4",
   "metadata": {},
   "outputs": [
    {
     "name": "stdout",
     "output_type": "stream",
     "text": [
      "MAPE for MLR 2017 is: 0.018423627937272383\n"
     ]
    }
   ],
   "source": [
    "mape = mean_absolute_percentage_error(y_test_17, y_pred_17)\n",
    "print(\"MAPE for MLR 2017 is: \" + str(mape))"
   ]
  },
  {
   "cell_type": "code",
   "execution_count": 235,
   "id": "fe7d6ec2",
   "metadata": {},
   "outputs": [],
   "source": [
    "cnames = ['Algorithm', 'Year', 'RMSE', 'MSE', 'MEDAE', 'Accuracy', 'MAPE']\n",
    "df25 = pd.DataFrame(columns = cnames)\n",
    "\n",
    "df25 = df25.append({'Algorithm': 'MLR',\n",
    "           'Year': 2017,\n",
    "           'RMSE': rmse,\n",
    "           'MSE': mse,\n",
    "           'MEDAE': med,\n",
    "           'Accuracy': acc,\n",
    "           'MAPE': mape         \n",
    "          }, ignore_index = True)"
   ]
  },
  {
   "cell_type": "markdown",
   "id": "02520000",
   "metadata": {},
   "source": [
    "### AdaBoost"
   ]
  },
  {
   "cell_type": "code",
   "execution_count": 236,
   "id": "6bd671b0",
   "metadata": {},
   "outputs": [
    {
     "name": "stdout",
     "output_type": "stream",
     "text": [
      "MSE for AdaBoost 2017 is: 0.21359183468804216\n"
     ]
    }
   ],
   "source": [
    "model = AdaBoostRegressor()\n",
    "model.fit(x_train_17, y_train_17)\n",
    "y_pred_17 = model.predict(x_test_17)\n",
    "# Calculation of Mean Squared Error (MSE)\n",
    "mse = mean_squared_error(y_test_17, y_pred_17)\n",
    "print('MSE for AdaBoost 2017 is: ' + str(mse))"
   ]
  },
  {
   "cell_type": "code",
   "execution_count": 237,
   "id": "4fbed0ce",
   "metadata": {},
   "outputs": [
    {
     "name": "stdout",
     "output_type": "stream",
     "text": [
      "RMSE for Adaboost 2017 is: 0.4621599665570809\n"
     ]
    }
   ],
   "source": [
    "rmse = mean_squared_error(y_test_17, y_pred_17, squared = False)\n",
    "print('RMSE for Adaboost 2017 is: ' + str(rmse))"
   ]
  },
  {
   "cell_type": "code",
   "execution_count": 238,
   "id": "9f322152",
   "metadata": {},
   "outputs": [
    {
     "name": "stdout",
     "output_type": "stream",
     "text": [
      "Accuracy of properties at +- 10% of actual prices is 0.19285714285714287\n"
     ]
    }
   ],
   "source": [
    "acc = accuracy_threshold(y_test_17, y_pred_17, 0.1)\n",
    "print('Accuracy of properties at +- 10% of actual prices is ' + str(acc))"
   ]
  },
  {
   "cell_type": "code",
   "execution_count": 239,
   "id": "39b1630b",
   "metadata": {},
   "outputs": [
    {
     "name": "stdout",
     "output_type": "stream",
     "text": [
      "Median Absolute Error:\n",
      "\n",
      "0.26548058964285887\n"
     ]
    }
   ],
   "source": [
    "median_se = np.square(np.subtract(y_test_17, y_pred_17)).median() \n",
    " \n",
    "med = math.sqrt(median_se)\n",
    "print(\"Median Absolute Error:\\n\")\n",
    "print(med)"
   ]
  },
  {
   "cell_type": "code",
   "execution_count": 240,
   "id": "c5c7a745",
   "metadata": {},
   "outputs": [
    {
     "name": "stdout",
     "output_type": "stream",
     "text": [
      "MAPE for AdaBoost 2017 is: 0.02729311582708968\n"
     ]
    }
   ],
   "source": [
    "mape = mean_absolute_percentage_error(y_test_17, y_pred_17)\n",
    "print(\"MAPE for AdaBoost 2017 is: \" + str(mape))"
   ]
  },
  {
   "cell_type": "code",
   "execution_count": 241,
   "id": "07ef9181",
   "metadata": {},
   "outputs": [],
   "source": [
    "cnames = ['Algorithm', 'Year', 'RMSE', 'MSE', 'MEDAE', 'Accuracy', 'MAPE']\n",
    "df26 = pd.DataFrame(columns = cnames)\n",
    "\n",
    "df26 = df26.append({'Algorithm': 'AdaBoost',\n",
    "           'Year': 2017,\n",
    "           'RMSE': rmse,\n",
    "           'MSE': mse,\n",
    "           'MEDAE': med,\n",
    "           'Accuracy': acc,\n",
    "           'MAPE': mape         \n",
    "          }, ignore_index = True)"
   ]
  },
  {
   "cell_type": "markdown",
   "id": "a8bbf8de",
   "metadata": {},
   "source": [
    "### LightGBM"
   ]
  },
  {
   "cell_type": "code",
   "execution_count": 242,
   "id": "8bdf11c8",
   "metadata": {},
   "outputs": [
    {
     "name": "stdout",
     "output_type": "stream",
     "text": [
      "MSE for LightGBM 2017 is: 0.10635988578064466\n"
     ]
    }
   ],
   "source": [
    "model = LGBMRegressor()\n",
    "model.fit(x_train_17, y_train_17)\n",
    "y_pred_17 = model.predict(x_test_17)\n",
    "# Calculation of Mean Squared Error (MSE)\n",
    "mse = mean_squared_error(y_test_17, y_pred_17)\n",
    "print('MSE for LightGBM 2017 is: ' + str(mse))"
   ]
  },
  {
   "cell_type": "code",
   "execution_count": 243,
   "id": "70c2101b",
   "metadata": {},
   "outputs": [
    {
     "name": "stdout",
     "output_type": "stream",
     "text": [
      "RMSE for LightGBM 2017 is: 0.3261286337944656\n"
     ]
    }
   ],
   "source": [
    "rmse = mean_squared_error(y_test_17, y_pred_17, squared = False)\n",
    "print('RMSE for LightGBM 2017 is: ' + str(rmse))"
   ]
  },
  {
   "cell_type": "code",
   "execution_count": 244,
   "id": "09740eef",
   "metadata": {},
   "outputs": [
    {
     "name": "stdout",
     "output_type": "stream",
     "text": [
      "Accuracy of properties at +- 10% of actual prices is 0.38142857142857145\n"
     ]
    }
   ],
   "source": [
    "acc = accuracy_threshold(y_test_17, y_pred_17, 0.1)\n",
    "print('Accuracy of properties at +- 10% of actual prices is ' + str(acc))"
   ]
  },
  {
   "cell_type": "code",
   "execution_count": 245,
   "id": "09c947c3",
   "metadata": {},
   "outputs": [
    {
     "name": "stdout",
     "output_type": "stream",
     "text": [
      "Median Absolute Error:\n",
      "\n",
      "0.14233426201737545\n"
     ]
    }
   ],
   "source": [
    "median_se = np.square(np.subtract(y_test_17, y_pred_17)).median() \n",
    " \n",
    "med = math.sqrt(median_se)\n",
    "print(\"Median Absolute Error:\\n\")\n",
    "print(med)"
   ]
  },
  {
   "cell_type": "code",
   "execution_count": 246,
   "id": "5d44cfb8",
   "metadata": {},
   "outputs": [
    {
     "name": "stdout",
     "output_type": "stream",
     "text": [
      "MAPE for LightGBM 2017 is: 0.016998740389570267\n"
     ]
    }
   ],
   "source": [
    "mape = mean_absolute_percentage_error(y_test_17, y_pred_17)\n",
    "print(\"MAPE for LightGBM 2017 is: \" + str(mape))"
   ]
  },
  {
   "cell_type": "code",
   "execution_count": 247,
   "id": "00ea8e81",
   "metadata": {},
   "outputs": [],
   "source": [
    "cnames = ['Algorithm', 'Year', 'RMSE', 'MSE', 'MEDAE', 'Accuracy', 'MAPE']\n",
    "df27 = pd.DataFrame(columns = cnames)\n",
    "\n",
    "df27 = df27.append({'Algorithm': 'LightGBM',\n",
    "           'Year': 2017,\n",
    "           'RMSE': rmse,\n",
    "           'MSE': mse,\n",
    "           'MEDAE': med,\n",
    "           'Accuracy': acc,\n",
    "           'MAPE': mape         \n",
    "          }, ignore_index = True)"
   ]
  },
  {
   "cell_type": "markdown",
   "id": "5c37b554",
   "metadata": {},
   "source": [
    "### CatBoost"
   ]
  },
  {
   "cell_type": "code",
   "execution_count": 248,
   "id": "28007eed",
   "metadata": {},
   "outputs": [
    {
     "name": "stdout",
     "output_type": "stream",
     "text": [
      "Learning rate set to 0.061781\n",
      "0:\tlearn: 0.5371887\ttotal: 4.84ms\tremaining: 4.84s\n",
      "1:\tlearn: 0.5199014\ttotal: 9.95ms\tremaining: 4.96s\n",
      "2:\tlearn: 0.5034307\ttotal: 15.8ms\tremaining: 5.26s\n",
      "3:\tlearn: 0.4888697\ttotal: 20.5ms\tremaining: 5.1s\n",
      "4:\tlearn: 0.4754369\ttotal: 25.3ms\tremaining: 5.03s\n",
      "5:\tlearn: 0.4629763\ttotal: 30.8ms\tremaining: 5.1s\n",
      "6:\tlearn: 0.4509161\ttotal: 37.2ms\tremaining: 5.28s\n",
      "7:\tlearn: 0.4401213\ttotal: 46.3ms\tremaining: 5.74s\n",
      "8:\tlearn: 0.4302343\ttotal: 52.9ms\tremaining: 5.83s\n",
      "9:\tlearn: 0.4210623\ttotal: 59.5ms\tremaining: 5.89s\n",
      "10:\tlearn: 0.4129497\ttotal: 65.6ms\tremaining: 5.89s\n",
      "11:\tlearn: 0.4053947\ttotal: 70.6ms\tremaining: 5.81s\n",
      "12:\tlearn: 0.3987375\ttotal: 75.9ms\tremaining: 5.76s\n",
      "13:\tlearn: 0.3923246\ttotal: 81.9ms\tremaining: 5.77s\n",
      "14:\tlearn: 0.3865362\ttotal: 91.3ms\tremaining: 6s\n",
      "15:\tlearn: 0.3813656\ttotal: 98ms\tremaining: 6.03s\n",
      "16:\tlearn: 0.3767930\ttotal: 103ms\tremaining: 5.96s\n",
      "17:\tlearn: 0.3726155\ttotal: 108ms\tremaining: 5.91s\n",
      "18:\tlearn: 0.3682212\ttotal: 114ms\tremaining: 5.87s\n",
      "19:\tlearn: 0.3645708\ttotal: 118ms\tremaining: 5.8s\n",
      "20:\tlearn: 0.3613549\ttotal: 128ms\tremaining: 5.97s\n",
      "21:\tlearn: 0.3579289\ttotal: 133ms\tremaining: 5.92s\n",
      "22:\tlearn: 0.3550836\ttotal: 140ms\tremaining: 5.93s\n",
      "23:\tlearn: 0.3525983\ttotal: 144ms\tremaining: 5.87s\n",
      "24:\tlearn: 0.3499252\ttotal: 149ms\tremaining: 5.81s\n",
      "25:\tlearn: 0.3477665\ttotal: 154ms\tremaining: 5.77s\n",
      "26:\tlearn: 0.3453159\ttotal: 161ms\tremaining: 5.8s\n",
      "27:\tlearn: 0.3429067\ttotal: 170ms\tremaining: 5.91s\n",
      "28:\tlearn: 0.3411002\ttotal: 176ms\tremaining: 5.9s\n",
      "29:\tlearn: 0.3388855\ttotal: 182ms\tremaining: 5.87s\n",
      "30:\tlearn: 0.3368332\ttotal: 188ms\tremaining: 5.87s\n",
      "31:\tlearn: 0.3350025\ttotal: 193ms\tremaining: 5.84s\n",
      "32:\tlearn: 0.3335119\ttotal: 199ms\tremaining: 5.84s\n",
      "33:\tlearn: 0.3319565\ttotal: 208ms\tremaining: 5.9s\n",
      "34:\tlearn: 0.3307668\ttotal: 213ms\tremaining: 5.87s\n",
      "35:\tlearn: 0.3289706\ttotal: 218ms\tremaining: 5.85s\n",
      "36:\tlearn: 0.3276866\ttotal: 223ms\tremaining: 5.81s\n",
      "37:\tlearn: 0.3267255\ttotal: 229ms\tremaining: 5.8s\n",
      "38:\tlearn: 0.3255142\ttotal: 234ms\tremaining: 5.76s\n",
      "39:\tlearn: 0.3247064\ttotal: 241ms\tremaining: 5.77s\n",
      "40:\tlearn: 0.3239635\ttotal: 251ms\tremaining: 5.88s\n",
      "41:\tlearn: 0.3227344\ttotal: 256ms\tremaining: 5.85s\n",
      "42:\tlearn: 0.3215488\ttotal: 262ms\tremaining: 5.84s\n",
      "43:\tlearn: 0.3208254\ttotal: 267ms\tremaining: 5.8s\n",
      "44:\tlearn: 0.3198910\ttotal: 274ms\tremaining: 5.81s\n",
      "45:\tlearn: 0.3188873\ttotal: 279ms\tremaining: 5.78s\n",
      "46:\tlearn: 0.3181970\ttotal: 288ms\tremaining: 5.85s\n",
      "47:\tlearn: 0.3172592\ttotal: 295ms\tremaining: 5.84s\n",
      "48:\tlearn: 0.3165258\ttotal: 300ms\tremaining: 5.81s\n",
      "49:\tlearn: 0.3156868\ttotal: 304ms\tremaining: 5.78s\n",
      "50:\tlearn: 0.3149756\ttotal: 310ms\tremaining: 5.76s\n",
      "51:\tlearn: 0.3140742\ttotal: 315ms\tremaining: 5.73s\n",
      "52:\tlearn: 0.3133442\ttotal: 320ms\tremaining: 5.71s\n",
      "53:\tlearn: 0.3126812\ttotal: 329ms\tremaining: 5.77s\n",
      "54:\tlearn: 0.3122022\ttotal: 334ms\tremaining: 5.74s\n",
      "55:\tlearn: 0.3116716\ttotal: 340ms\tremaining: 5.73s\n",
      "56:\tlearn: 0.3111600\ttotal: 346ms\tremaining: 5.72s\n",
      "57:\tlearn: 0.3104847\ttotal: 351ms\tremaining: 5.69s\n",
      "58:\tlearn: 0.3099241\ttotal: 356ms\tremaining: 5.67s\n",
      "59:\tlearn: 0.3092843\ttotal: 361ms\tremaining: 5.66s\n",
      "60:\tlearn: 0.3087197\ttotal: 371ms\tremaining: 5.71s\n",
      "61:\tlearn: 0.3082842\ttotal: 376ms\tremaining: 5.68s\n",
      "62:\tlearn: 0.3078583\ttotal: 381ms\tremaining: 5.66s\n",
      "63:\tlearn: 0.3072638\ttotal: 387ms\tremaining: 5.66s\n",
      "64:\tlearn: 0.3070471\ttotal: 392ms\tremaining: 5.64s\n",
      "65:\tlearn: 0.3066194\ttotal: 397ms\tremaining: 5.62s\n",
      "66:\tlearn: 0.3060380\ttotal: 405ms\tremaining: 5.63s\n",
      "67:\tlearn: 0.3054674\ttotal: 413ms\tremaining: 5.66s\n",
      "68:\tlearn: 0.3050563\ttotal: 420ms\tremaining: 5.67s\n",
      "69:\tlearn: 0.3047652\ttotal: 425ms\tremaining: 5.64s\n",
      "70:\tlearn: 0.3045058\ttotal: 431ms\tremaining: 5.64s\n",
      "71:\tlearn: 0.3039462\ttotal: 437ms\tremaining: 5.63s\n",
      "72:\tlearn: 0.3036665\ttotal: 442ms\tremaining: 5.62s\n",
      "73:\tlearn: 0.3033341\ttotal: 452ms\tremaining: 5.66s\n",
      "74:\tlearn: 0.3031354\ttotal: 458ms\tremaining: 5.64s\n",
      "75:\tlearn: 0.3027791\ttotal: 464ms\tremaining: 5.64s\n",
      "76:\tlearn: 0.3025629\ttotal: 469ms\tremaining: 5.62s\n",
      "77:\tlearn: 0.3022606\ttotal: 475ms\tremaining: 5.61s\n",
      "78:\tlearn: 0.3019060\ttotal: 480ms\tremaining: 5.59s\n",
      "79:\tlearn: 0.3015770\ttotal: 485ms\tremaining: 5.58s\n",
      "80:\tlearn: 0.3014572\ttotal: 490ms\tremaining: 5.56s\n",
      "81:\tlearn: 0.3008766\ttotal: 500ms\tremaining: 5.6s\n",
      "82:\tlearn: 0.3004050\ttotal: 505ms\tremaining: 5.58s\n",
      "83:\tlearn: 0.3000520\ttotal: 511ms\tremaining: 5.58s\n",
      "84:\tlearn: 0.2997167\ttotal: 518ms\tremaining: 5.57s\n",
      "85:\tlearn: 0.2994191\ttotal: 523ms\tremaining: 5.55s\n",
      "86:\tlearn: 0.2993162\ttotal: 527ms\tremaining: 5.54s\n",
      "87:\tlearn: 0.2990929\ttotal: 534ms\tremaining: 5.53s\n",
      "88:\tlearn: 0.2988434\ttotal: 544ms\tremaining: 5.57s\n",
      "89:\tlearn: 0.2986447\ttotal: 549ms\tremaining: 5.55s\n",
      "90:\tlearn: 0.2984014\ttotal: 556ms\tremaining: 5.55s\n",
      "91:\tlearn: 0.2978608\ttotal: 561ms\tremaining: 5.54s\n",
      "92:\tlearn: 0.2976357\ttotal: 566ms\tremaining: 5.52s\n",
      "93:\tlearn: 0.2974929\ttotal: 571ms\tremaining: 5.5s\n",
      "94:\tlearn: 0.2973426\ttotal: 577ms\tremaining: 5.49s\n",
      "95:\tlearn: 0.2972429\ttotal: 583ms\tremaining: 5.49s\n",
      "96:\tlearn: 0.2968532\ttotal: 591ms\tremaining: 5.5s\n",
      "97:\tlearn: 0.2964156\ttotal: 596ms\tremaining: 5.49s\n",
      "98:\tlearn: 0.2960446\ttotal: 602ms\tremaining: 5.48s\n",
      "99:\tlearn: 0.2958073\ttotal: 608ms\tremaining: 5.47s\n",
      "100:\tlearn: 0.2954765\ttotal: 613ms\tremaining: 5.46s\n",
      "101:\tlearn: 0.2951789\ttotal: 618ms\tremaining: 5.44s\n",
      "102:\tlearn: 0.2949548\ttotal: 623ms\tremaining: 5.43s\n",
      "103:\tlearn: 0.2947037\ttotal: 633ms\tremaining: 5.45s\n",
      "104:\tlearn: 0.2944066\ttotal: 639ms\tremaining: 5.45s\n",
      "105:\tlearn: 0.2941495\ttotal: 644ms\tremaining: 5.43s\n",
      "106:\tlearn: 0.2939671\ttotal: 650ms\tremaining: 5.42s\n",
      "107:\tlearn: 0.2936836\ttotal: 655ms\tremaining: 5.41s\n",
      "108:\tlearn: 0.2932256\ttotal: 660ms\tremaining: 5.39s\n",
      "109:\tlearn: 0.2930460\ttotal: 665ms\tremaining: 5.38s\n",
      "110:\tlearn: 0.2928853\ttotal: 672ms\tremaining: 5.38s\n",
      "111:\tlearn: 0.2925756\ttotal: 682ms\tremaining: 5.41s\n",
      "112:\tlearn: 0.2921919\ttotal: 687ms\tremaining: 5.39s\n",
      "113:\tlearn: 0.2920899\ttotal: 693ms\tremaining: 5.39s\n",
      "114:\tlearn: 0.2918364\ttotal: 701ms\tremaining: 5.39s\n",
      "115:\tlearn: 0.2915301\ttotal: 707ms\tremaining: 5.38s\n",
      "116:\tlearn: 0.2912696\ttotal: 715ms\tremaining: 5.39s\n",
      "117:\tlearn: 0.2911635\ttotal: 720ms\tremaining: 5.38s\n",
      "118:\tlearn: 0.2909782\ttotal: 731ms\tremaining: 5.41s\n",
      "119:\tlearn: 0.2907677\ttotal: 738ms\tremaining: 5.41s\n",
      "120:\tlearn: 0.2906299\ttotal: 751ms\tremaining: 5.46s\n",
      "121:\tlearn: 0.2905289\ttotal: 761ms\tremaining: 5.47s\n",
      "122:\tlearn: 0.2903864\ttotal: 766ms\tremaining: 5.46s\n",
      "123:\tlearn: 0.2901990\ttotal: 772ms\tremaining: 5.45s\n",
      "124:\tlearn: 0.2900882\ttotal: 780ms\tremaining: 5.46s\n",
      "125:\tlearn: 0.2895494\ttotal: 793ms\tremaining: 5.5s\n",
      "126:\tlearn: 0.2894152\ttotal: 799ms\tremaining: 5.49s\n",
      "127:\tlearn: 0.2892517\ttotal: 809ms\tremaining: 5.51s\n",
      "128:\tlearn: 0.2889874\ttotal: 815ms\tremaining: 5.5s\n",
      "129:\tlearn: 0.2888233\ttotal: 824ms\tremaining: 5.51s\n",
      "130:\tlearn: 0.2885573\ttotal: 830ms\tremaining: 5.5s\n",
      "131:\tlearn: 0.2884201\ttotal: 838ms\tremaining: 5.51s\n",
      "132:\tlearn: 0.2882591\ttotal: 845ms\tremaining: 5.5s\n",
      "133:\tlearn: 0.2880586\ttotal: 851ms\tremaining: 5.5s\n",
      "134:\tlearn: 0.2877780\ttotal: 859ms\tremaining: 5.51s\n",
      "135:\tlearn: 0.2875243\ttotal: 867ms\tremaining: 5.51s\n",
      "136:\tlearn: 0.2873965\ttotal: 879ms\tremaining: 5.54s\n",
      "137:\tlearn: 0.2871057\ttotal: 890ms\tremaining: 5.56s\n",
      "138:\tlearn: 0.2869883\ttotal: 895ms\tremaining: 5.55s\n",
      "139:\tlearn: 0.2866050\ttotal: 904ms\tremaining: 5.55s\n",
      "140:\tlearn: 0.2863163\ttotal: 909ms\tremaining: 5.54s\n",
      "141:\tlearn: 0.2861901\ttotal: 918ms\tremaining: 5.54s\n",
      "142:\tlearn: 0.2860870\ttotal: 926ms\tremaining: 5.55s\n",
      "143:\tlearn: 0.2860064\ttotal: 935ms\tremaining: 5.56s\n",
      "144:\tlearn: 0.2859220\ttotal: 941ms\tremaining: 5.55s\n",
      "145:\tlearn: 0.2857725\ttotal: 950ms\tremaining: 5.56s\n",
      "146:\tlearn: 0.2856548\ttotal: 956ms\tremaining: 5.55s\n",
      "147:\tlearn: 0.2855118\ttotal: 962ms\tremaining: 5.54s\n",
      "148:\tlearn: 0.2854366\ttotal: 969ms\tremaining: 5.53s\n",
      "149:\tlearn: 0.2851925\ttotal: 981ms\tremaining: 5.56s\n",
      "150:\tlearn: 0.2850295\ttotal: 988ms\tremaining: 5.55s\n",
      "151:\tlearn: 0.2848223\ttotal: 994ms\tremaining: 5.55s\n",
      "152:\tlearn: 0.2846362\ttotal: 1s\tremaining: 5.54s\n",
      "153:\tlearn: 0.2844349\ttotal: 1.01s\tremaining: 5.53s\n",
      "154:\tlearn: 0.2842693\ttotal: 1.01s\tremaining: 5.53s\n",
      "155:\tlearn: 0.2839296\ttotal: 1.02s\tremaining: 5.51s\n",
      "156:\tlearn: 0.2835770\ttotal: 1.03s\tremaining: 5.53s\n",
      "157:\tlearn: 0.2834497\ttotal: 1.04s\tremaining: 5.53s\n",
      "158:\tlearn: 0.2833059\ttotal: 1.04s\tremaining: 5.52s\n",
      "159:\tlearn: 0.2830871\ttotal: 1.05s\tremaining: 5.51s\n",
      "160:\tlearn: 0.2828102\ttotal: 1.05s\tremaining: 5.5s\n"
     ]
    },
    {
     "name": "stdout",
     "output_type": "stream",
     "text": [
      "161:\tlearn: 0.2827103\ttotal: 1.06s\tremaining: 5.5s\n",
      "162:\tlearn: 0.2825613\ttotal: 1.07s\tremaining: 5.49s\n",
      "163:\tlearn: 0.2824104\ttotal: 1.07s\tremaining: 5.48s\n",
      "164:\tlearn: 0.2820979\ttotal: 1.08s\tremaining: 5.48s\n",
      "165:\tlearn: 0.2820242\ttotal: 1.09s\tremaining: 5.47s\n",
      "166:\tlearn: 0.2817374\ttotal: 1.09s\tremaining: 5.46s\n",
      "167:\tlearn: 0.2815715\ttotal: 1.1s\tremaining: 5.45s\n",
      "168:\tlearn: 0.2814318\ttotal: 1.11s\tremaining: 5.44s\n",
      "169:\tlearn: 0.2812383\ttotal: 1.11s\tremaining: 5.43s\n",
      "170:\tlearn: 0.2810524\ttotal: 1.12s\tremaining: 5.43s\n",
      "171:\tlearn: 0.2808930\ttotal: 1.13s\tremaining: 5.42s\n",
      "172:\tlearn: 0.2807983\ttotal: 1.13s\tremaining: 5.41s\n",
      "173:\tlearn: 0.2806221\ttotal: 1.17s\tremaining: 5.56s\n",
      "174:\tlearn: 0.2803869\ttotal: 1.18s\tremaining: 5.57s\n",
      "175:\tlearn: 0.2802079\ttotal: 1.19s\tremaining: 5.57s\n",
      "176:\tlearn: 0.2801586\ttotal: 1.2s\tremaining: 5.57s\n",
      "177:\tlearn: 0.2799815\ttotal: 1.2s\tremaining: 5.56s\n",
      "178:\tlearn: 0.2797647\ttotal: 1.21s\tremaining: 5.55s\n",
      "179:\tlearn: 0.2795681\ttotal: 1.22s\tremaining: 5.55s\n",
      "180:\tlearn: 0.2794519\ttotal: 1.22s\tremaining: 5.54s\n",
      "181:\tlearn: 0.2793435\ttotal: 1.23s\tremaining: 5.54s\n",
      "182:\tlearn: 0.2791768\ttotal: 1.24s\tremaining: 5.55s\n",
      "183:\tlearn: 0.2790262\ttotal: 1.25s\tremaining: 5.55s\n",
      "184:\tlearn: 0.2788261\ttotal: 1.26s\tremaining: 5.54s\n",
      "185:\tlearn: 0.2787454\ttotal: 1.27s\tremaining: 5.54s\n",
      "186:\tlearn: 0.2785830\ttotal: 1.27s\tremaining: 5.54s\n",
      "187:\tlearn: 0.2784367\ttotal: 1.28s\tremaining: 5.54s\n",
      "188:\tlearn: 0.2783542\ttotal: 1.29s\tremaining: 5.53s\n",
      "189:\tlearn: 0.2781855\ttotal: 1.3s\tremaining: 5.54s\n",
      "190:\tlearn: 0.2781130\ttotal: 1.3s\tremaining: 5.53s\n",
      "191:\tlearn: 0.2780463\ttotal: 1.31s\tremaining: 5.53s\n",
      "192:\tlearn: 0.2778542\ttotal: 1.32s\tremaining: 5.52s\n",
      "193:\tlearn: 0.2776903\ttotal: 1.33s\tremaining: 5.52s\n",
      "194:\tlearn: 0.2775581\ttotal: 1.33s\tremaining: 5.51s\n",
      "195:\tlearn: 0.2774724\ttotal: 1.37s\tremaining: 5.61s\n",
      "196:\tlearn: 0.2773026\ttotal: 1.38s\tremaining: 5.63s\n",
      "197:\tlearn: 0.2771262\ttotal: 1.39s\tremaining: 5.64s\n",
      "198:\tlearn: 0.2770628\ttotal: 1.42s\tremaining: 5.72s\n",
      "199:\tlearn: 0.2769233\ttotal: 1.44s\tremaining: 5.77s\n",
      "200:\tlearn: 0.2768516\ttotal: 1.45s\tremaining: 5.78s\n",
      "201:\tlearn: 0.2767573\ttotal: 1.47s\tremaining: 5.82s\n",
      "202:\tlearn: 0.2766459\ttotal: 1.48s\tremaining: 5.82s\n",
      "203:\tlearn: 0.2765751\ttotal: 1.49s\tremaining: 5.83s\n",
      "204:\tlearn: 0.2764592\ttotal: 1.51s\tremaining: 5.85s\n",
      "205:\tlearn: 0.2763666\ttotal: 1.52s\tremaining: 5.86s\n",
      "206:\tlearn: 0.2762599\ttotal: 1.52s\tremaining: 5.84s\n",
      "207:\tlearn: 0.2761618\ttotal: 1.53s\tremaining: 5.85s\n",
      "208:\tlearn: 0.2760437\ttotal: 1.54s\tremaining: 5.84s\n",
      "209:\tlearn: 0.2759040\ttotal: 1.56s\tremaining: 5.88s\n",
      "210:\tlearn: 0.2756731\ttotal: 1.57s\tremaining: 5.88s\n",
      "211:\tlearn: 0.2755623\ttotal: 1.58s\tremaining: 5.87s\n",
      "212:\tlearn: 0.2755011\ttotal: 1.58s\tremaining: 5.85s\n",
      "213:\tlearn: 0.2754170\ttotal: 1.59s\tremaining: 5.85s\n",
      "214:\tlearn: 0.2752788\ttotal: 1.6s\tremaining: 5.85s\n",
      "215:\tlearn: 0.2752152\ttotal: 1.61s\tremaining: 5.83s\n",
      "216:\tlearn: 0.2751644\ttotal: 1.61s\tremaining: 5.82s\n",
      "217:\tlearn: 0.2749642\ttotal: 1.62s\tremaining: 5.81s\n",
      "218:\tlearn: 0.2748510\ttotal: 1.63s\tremaining: 5.8s\n",
      "219:\tlearn: 0.2747268\ttotal: 1.64s\tremaining: 5.8s\n",
      "220:\tlearn: 0.2744311\ttotal: 1.64s\tremaining: 5.79s\n",
      "221:\tlearn: 0.2741945\ttotal: 1.65s\tremaining: 5.78s\n",
      "222:\tlearn: 0.2740835\ttotal: 1.66s\tremaining: 5.77s\n",
      "223:\tlearn: 0.2739837\ttotal: 1.67s\tremaining: 5.77s\n",
      "224:\tlearn: 0.2738706\ttotal: 1.67s\tremaining: 5.77s\n",
      "225:\tlearn: 0.2738131\ttotal: 1.68s\tremaining: 5.77s\n",
      "226:\tlearn: 0.2735107\ttotal: 1.69s\tremaining: 5.76s\n",
      "227:\tlearn: 0.2734608\ttotal: 1.7s\tremaining: 5.75s\n",
      "228:\tlearn: 0.2733250\ttotal: 1.71s\tremaining: 5.75s\n",
      "229:\tlearn: 0.2732045\ttotal: 1.71s\tremaining: 5.74s\n",
      "230:\tlearn: 0.2730466\ttotal: 1.72s\tremaining: 5.74s\n",
      "231:\tlearn: 0.2729669\ttotal: 1.73s\tremaining: 5.73s\n",
      "232:\tlearn: 0.2728819\ttotal: 1.74s\tremaining: 5.72s\n",
      "233:\tlearn: 0.2726962\ttotal: 1.75s\tremaining: 5.72s\n",
      "234:\tlearn: 0.2724995\ttotal: 1.76s\tremaining: 5.72s\n",
      "235:\tlearn: 0.2724136\ttotal: 1.76s\tremaining: 5.7s\n",
      "236:\tlearn: 0.2723207\ttotal: 1.77s\tremaining: 5.71s\n",
      "237:\tlearn: 0.2722685\ttotal: 1.78s\tremaining: 5.7s\n",
      "238:\tlearn: 0.2721482\ttotal: 1.79s\tremaining: 5.71s\n",
      "239:\tlearn: 0.2718768\ttotal: 1.81s\tremaining: 5.74s\n",
      "240:\tlearn: 0.2717048\ttotal: 1.82s\tremaining: 5.74s\n",
      "241:\tlearn: 0.2715467\ttotal: 1.83s\tremaining: 5.73s\n",
      "242:\tlearn: 0.2714109\ttotal: 1.84s\tremaining: 5.73s\n",
      "243:\tlearn: 0.2713004\ttotal: 1.85s\tremaining: 5.74s\n",
      "244:\tlearn: 0.2711565\ttotal: 1.86s\tremaining: 5.73s\n",
      "245:\tlearn: 0.2710209\ttotal: 1.87s\tremaining: 5.74s\n",
      "246:\tlearn: 0.2709307\ttotal: 1.88s\tremaining: 5.73s\n",
      "247:\tlearn: 0.2708312\ttotal: 1.89s\tremaining: 5.72s\n",
      "248:\tlearn: 0.2707234\ttotal: 1.89s\tremaining: 5.71s\n",
      "249:\tlearn: 0.2705822\ttotal: 1.9s\tremaining: 5.71s\n",
      "250:\tlearn: 0.2704607\ttotal: 1.91s\tremaining: 5.69s\n",
      "251:\tlearn: 0.2703774\ttotal: 1.92s\tremaining: 5.7s\n",
      "252:\tlearn: 0.2702250\ttotal: 1.93s\tremaining: 5.69s\n",
      "253:\tlearn: 0.2701214\ttotal: 1.94s\tremaining: 5.68s\n",
      "254:\tlearn: 0.2700287\ttotal: 1.94s\tremaining: 5.67s\n",
      "255:\tlearn: 0.2698455\ttotal: 1.95s\tremaining: 5.66s\n",
      "256:\tlearn: 0.2696991\ttotal: 1.95s\tremaining: 5.64s\n",
      "257:\tlearn: 0.2694286\ttotal: 1.96s\tremaining: 5.64s\n",
      "258:\tlearn: 0.2693470\ttotal: 1.97s\tremaining: 5.64s\n",
      "259:\tlearn: 0.2692895\ttotal: 1.98s\tremaining: 5.63s\n",
      "260:\tlearn: 0.2692323\ttotal: 1.98s\tremaining: 5.62s\n",
      "261:\tlearn: 0.2691634\ttotal: 1.99s\tremaining: 5.61s\n",
      "262:\tlearn: 0.2690610\ttotal: 2s\tremaining: 5.59s\n",
      "263:\tlearn: 0.2688693\ttotal: 2s\tremaining: 5.58s\n",
      "264:\tlearn: 0.2687715\ttotal: 2.01s\tremaining: 5.57s\n",
      "265:\tlearn: 0.2687079\ttotal: 2.01s\tremaining: 5.55s\n",
      "266:\tlearn: 0.2686180\ttotal: 2.02s\tremaining: 5.54s\n",
      "267:\tlearn: 0.2684519\ttotal: 2.02s\tremaining: 5.53s\n",
      "268:\tlearn: 0.2683720\ttotal: 2.03s\tremaining: 5.51s\n",
      "269:\tlearn: 0.2683108\ttotal: 2.03s\tremaining: 5.5s\n",
      "270:\tlearn: 0.2680655\ttotal: 2.04s\tremaining: 5.49s\n",
      "271:\tlearn: 0.2679001\ttotal: 2.04s\tremaining: 5.47s\n",
      "272:\tlearn: 0.2678256\ttotal: 2.05s\tremaining: 5.46s\n",
      "273:\tlearn: 0.2677212\ttotal: 2.05s\tremaining: 5.44s\n",
      "274:\tlearn: 0.2676082\ttotal: 2.06s\tremaining: 5.43s\n",
      "275:\tlearn: 0.2675333\ttotal: 2.06s\tremaining: 5.42s\n",
      "276:\tlearn: 0.2674465\ttotal: 2.07s\tremaining: 5.4s\n",
      "277:\tlearn: 0.2673712\ttotal: 2.07s\tremaining: 5.39s\n",
      "278:\tlearn: 0.2672654\ttotal: 2.08s\tremaining: 5.38s\n",
      "279:\tlearn: 0.2672031\ttotal: 2.09s\tremaining: 5.37s\n",
      "280:\tlearn: 0.2670990\ttotal: 2.1s\tremaining: 5.38s\n",
      "281:\tlearn: 0.2670222\ttotal: 2.11s\tremaining: 5.37s\n",
      "282:\tlearn: 0.2668922\ttotal: 2.12s\tremaining: 5.36s\n",
      "283:\tlearn: 0.2668308\ttotal: 2.12s\tremaining: 5.35s\n",
      "284:\tlearn: 0.2666607\ttotal: 2.13s\tremaining: 5.34s\n",
      "285:\tlearn: 0.2665297\ttotal: 2.13s\tremaining: 5.33s\n",
      "286:\tlearn: 0.2663707\ttotal: 2.14s\tremaining: 5.32s\n",
      "287:\tlearn: 0.2662148\ttotal: 2.15s\tremaining: 5.31s\n",
      "288:\tlearn: 0.2659212\ttotal: 2.15s\tremaining: 5.29s\n",
      "289:\tlearn: 0.2657917\ttotal: 2.16s\tremaining: 5.29s\n",
      "290:\tlearn: 0.2657258\ttotal: 2.17s\tremaining: 5.28s\n",
      "291:\tlearn: 0.2656502\ttotal: 2.17s\tremaining: 5.27s\n",
      "292:\tlearn: 0.2655909\ttotal: 2.18s\tremaining: 5.26s\n",
      "293:\tlearn: 0.2653142\ttotal: 2.19s\tremaining: 5.25s\n",
      "294:\tlearn: 0.2652003\ttotal: 2.19s\tremaining: 5.24s\n",
      "295:\tlearn: 0.2650772\ttotal: 2.2s\tremaining: 5.23s\n",
      "296:\tlearn: 0.2649137\ttotal: 2.21s\tremaining: 5.23s\n",
      "297:\tlearn: 0.2647993\ttotal: 2.21s\tremaining: 5.21s\n",
      "298:\tlearn: 0.2647556\ttotal: 2.22s\tremaining: 5.21s\n",
      "299:\tlearn: 0.2646242\ttotal: 2.23s\tremaining: 5.2s\n",
      "300:\tlearn: 0.2645516\ttotal: 2.23s\tremaining: 5.18s\n",
      "301:\tlearn: 0.2644415\ttotal: 2.24s\tremaining: 5.18s\n",
      "302:\tlearn: 0.2643023\ttotal: 2.25s\tremaining: 5.17s\n",
      "303:\tlearn: 0.2642552\ttotal: 2.25s\tremaining: 5.15s\n",
      "304:\tlearn: 0.2642030\ttotal: 2.25s\tremaining: 5.14s\n",
      "305:\tlearn: 0.2640792\ttotal: 2.26s\tremaining: 5.13s\n",
      "306:\tlearn: 0.2639307\ttotal: 2.27s\tremaining: 5.12s\n",
      "307:\tlearn: 0.2637571\ttotal: 2.27s\tremaining: 5.11s\n",
      "308:\tlearn: 0.2636956\ttotal: 2.28s\tremaining: 5.1s\n",
      "309:\tlearn: 0.2636657\ttotal: 2.29s\tremaining: 5.09s\n",
      "310:\tlearn: 0.2635437\ttotal: 2.29s\tremaining: 5.08s\n",
      "311:\tlearn: 0.2635080\ttotal: 2.3s\tremaining: 5.07s\n",
      "312:\tlearn: 0.2633748\ttotal: 2.3s\tremaining: 5.06s\n",
      "313:\tlearn: 0.2632545\ttotal: 2.31s\tremaining: 5.04s\n",
      "314:\tlearn: 0.2631470\ttotal: 2.32s\tremaining: 5.04s\n",
      "315:\tlearn: 0.2630254\ttotal: 2.32s\tremaining: 5.03s\n",
      "316:\tlearn: 0.2629232\ttotal: 2.33s\tremaining: 5.02s\n",
      "317:\tlearn: 0.2628727\ttotal: 2.34s\tremaining: 5.01s\n",
      "318:\tlearn: 0.2627460\ttotal: 2.34s\tremaining: 5s\n",
      "319:\tlearn: 0.2626174\ttotal: 2.35s\tremaining: 4.99s\n",
      "320:\tlearn: 0.2625069\ttotal: 2.35s\tremaining: 4.98s\n",
      "321:\tlearn: 0.2623678\ttotal: 2.36s\tremaining: 4.96s\n",
      "322:\tlearn: 0.2622066\ttotal: 2.36s\tremaining: 4.95s\n",
      "323:\tlearn: 0.2621003\ttotal: 2.37s\tremaining: 4.94s\n"
     ]
    },
    {
     "name": "stdout",
     "output_type": "stream",
     "text": [
      "324:\tlearn: 0.2620141\ttotal: 2.38s\tremaining: 4.94s\n",
      "325:\tlearn: 0.2619391\ttotal: 2.38s\tremaining: 4.93s\n",
      "326:\tlearn: 0.2617778\ttotal: 2.39s\tremaining: 4.92s\n",
      "327:\tlearn: 0.2616284\ttotal: 2.39s\tremaining: 4.9s\n",
      "328:\tlearn: 0.2614565\ttotal: 2.4s\tremaining: 4.89s\n",
      "329:\tlearn: 0.2613784\ttotal: 2.4s\tremaining: 4.88s\n",
      "330:\tlearn: 0.2612544\ttotal: 2.41s\tremaining: 4.87s\n",
      "331:\tlearn: 0.2612143\ttotal: 2.41s\tremaining: 4.86s\n",
      "332:\tlearn: 0.2611142\ttotal: 2.42s\tremaining: 4.86s\n",
      "333:\tlearn: 0.2610069\ttotal: 2.43s\tremaining: 4.84s\n",
      "334:\tlearn: 0.2609335\ttotal: 2.44s\tremaining: 4.83s\n",
      "335:\tlearn: 0.2608216\ttotal: 2.44s\tremaining: 4.83s\n",
      "336:\tlearn: 0.2607169\ttotal: 2.45s\tremaining: 4.82s\n",
      "337:\tlearn: 0.2606252\ttotal: 2.45s\tremaining: 4.81s\n",
      "338:\tlearn: 0.2604901\ttotal: 2.46s\tremaining: 4.8s\n",
      "339:\tlearn: 0.2604323\ttotal: 2.47s\tremaining: 4.79s\n",
      "340:\tlearn: 0.2602791\ttotal: 2.47s\tremaining: 4.78s\n",
      "341:\tlearn: 0.2601982\ttotal: 2.48s\tremaining: 4.77s\n",
      "342:\tlearn: 0.2600870\ttotal: 2.49s\tremaining: 4.76s\n",
      "343:\tlearn: 0.2599877\ttotal: 2.49s\tremaining: 4.75s\n",
      "344:\tlearn: 0.2599062\ttotal: 2.5s\tremaining: 4.74s\n",
      "345:\tlearn: 0.2598639\ttotal: 2.51s\tremaining: 4.74s\n",
      "346:\tlearn: 0.2597960\ttotal: 2.53s\tremaining: 4.75s\n",
      "347:\tlearn: 0.2597531\ttotal: 2.53s\tremaining: 4.75s\n",
      "348:\tlearn: 0.2596384\ttotal: 2.54s\tremaining: 4.74s\n",
      "349:\tlearn: 0.2595307\ttotal: 2.54s\tremaining: 4.72s\n",
      "350:\tlearn: 0.2594743\ttotal: 2.55s\tremaining: 4.72s\n",
      "351:\tlearn: 0.2593737\ttotal: 2.56s\tremaining: 4.71s\n",
      "352:\tlearn: 0.2592476\ttotal: 2.56s\tremaining: 4.7s\n",
      "353:\tlearn: 0.2591406\ttotal: 2.57s\tremaining: 4.69s\n",
      "354:\tlearn: 0.2590264\ttotal: 2.58s\tremaining: 4.68s\n",
      "355:\tlearn: 0.2588331\ttotal: 2.58s\tremaining: 4.67s\n",
      "356:\tlearn: 0.2587349\ttotal: 2.59s\tremaining: 4.67s\n",
      "357:\tlearn: 0.2586363\ttotal: 2.6s\tremaining: 4.66s\n",
      "358:\tlearn: 0.2585868\ttotal: 2.6s\tremaining: 4.65s\n",
      "359:\tlearn: 0.2585410\ttotal: 2.61s\tremaining: 4.64s\n",
      "360:\tlearn: 0.2584409\ttotal: 2.61s\tremaining: 4.63s\n",
      "361:\tlearn: 0.2583451\ttotal: 2.62s\tremaining: 4.62s\n",
      "362:\tlearn: 0.2582718\ttotal: 2.63s\tremaining: 4.61s\n",
      "363:\tlearn: 0.2581437\ttotal: 2.63s\tremaining: 4.59s\n",
      "364:\tlearn: 0.2580134\ttotal: 2.63s\tremaining: 4.58s\n",
      "365:\tlearn: 0.2579289\ttotal: 2.64s\tremaining: 4.57s\n",
      "366:\tlearn: 0.2578284\ttotal: 2.65s\tremaining: 4.56s\n",
      "367:\tlearn: 0.2577501\ttotal: 2.65s\tremaining: 4.55s\n",
      "368:\tlearn: 0.2577085\ttotal: 2.65s\tremaining: 4.54s\n",
      "369:\tlearn: 0.2576612\ttotal: 2.66s\tremaining: 4.53s\n",
      "370:\tlearn: 0.2575967\ttotal: 2.67s\tremaining: 4.52s\n",
      "371:\tlearn: 0.2575571\ttotal: 2.67s\tremaining: 4.51s\n",
      "372:\tlearn: 0.2574638\ttotal: 2.68s\tremaining: 4.5s\n",
      "373:\tlearn: 0.2573031\ttotal: 2.68s\tremaining: 4.49s\n",
      "374:\tlearn: 0.2572457\ttotal: 2.69s\tremaining: 4.48s\n",
      "375:\tlearn: 0.2571552\ttotal: 2.69s\tremaining: 4.47s\n",
      "376:\tlearn: 0.2570951\ttotal: 2.7s\tremaining: 4.46s\n",
      "377:\tlearn: 0.2570648\ttotal: 2.7s\tremaining: 4.45s\n",
      "378:\tlearn: 0.2569682\ttotal: 2.71s\tremaining: 4.44s\n",
      "379:\tlearn: 0.2568476\ttotal: 2.71s\tremaining: 4.43s\n",
      "380:\tlearn: 0.2566754\ttotal: 2.72s\tremaining: 4.42s\n",
      "381:\tlearn: 0.2565916\ttotal: 2.73s\tremaining: 4.41s\n",
      "382:\tlearn: 0.2564999\ttotal: 2.73s\tremaining: 4.4s\n",
      "383:\tlearn: 0.2563694\ttotal: 2.74s\tremaining: 4.39s\n",
      "384:\tlearn: 0.2562871\ttotal: 2.74s\tremaining: 4.38s\n",
      "385:\tlearn: 0.2562430\ttotal: 2.75s\tremaining: 4.38s\n",
      "386:\tlearn: 0.2561707\ttotal: 2.76s\tremaining: 4.37s\n",
      "387:\tlearn: 0.2561090\ttotal: 2.77s\tremaining: 4.36s\n",
      "388:\tlearn: 0.2560375\ttotal: 2.77s\tremaining: 4.35s\n",
      "389:\tlearn: 0.2559881\ttotal: 2.78s\tremaining: 4.34s\n",
      "390:\tlearn: 0.2558904\ttotal: 2.78s\tremaining: 4.33s\n",
      "391:\tlearn: 0.2557816\ttotal: 2.79s\tremaining: 4.32s\n",
      "392:\tlearn: 0.2556871\ttotal: 2.8s\tremaining: 4.32s\n",
      "393:\tlearn: 0.2556288\ttotal: 2.8s\tremaining: 4.31s\n",
      "394:\tlearn: 0.2554760\ttotal: 2.81s\tremaining: 4.3s\n",
      "395:\tlearn: 0.2554130\ttotal: 2.81s\tremaining: 4.29s\n",
      "396:\tlearn: 0.2553607\ttotal: 2.82s\tremaining: 4.29s\n",
      "397:\tlearn: 0.2552620\ttotal: 2.83s\tremaining: 4.28s\n",
      "398:\tlearn: 0.2551703\ttotal: 2.83s\tremaining: 4.27s\n",
      "399:\tlearn: 0.2551175\ttotal: 2.84s\tremaining: 4.26s\n",
      "400:\tlearn: 0.2550350\ttotal: 2.85s\tremaining: 4.25s\n",
      "401:\tlearn: 0.2548828\ttotal: 2.86s\tremaining: 4.25s\n",
      "402:\tlearn: 0.2548439\ttotal: 2.87s\tremaining: 4.24s\n",
      "403:\tlearn: 0.2547799\ttotal: 2.87s\tremaining: 4.24s\n",
      "404:\tlearn: 0.2546885\ttotal: 2.88s\tremaining: 4.23s\n",
      "405:\tlearn: 0.2546409\ttotal: 2.88s\tremaining: 4.22s\n",
      "406:\tlearn: 0.2545924\ttotal: 2.89s\tremaining: 4.21s\n",
      "407:\tlearn: 0.2545425\ttotal: 2.9s\tremaining: 4.2s\n",
      "408:\tlearn: 0.2544458\ttotal: 2.9s\tremaining: 4.2s\n",
      "409:\tlearn: 0.2543354\ttotal: 2.91s\tremaining: 4.19s\n",
      "410:\tlearn: 0.2543015\ttotal: 2.91s\tremaining: 4.18s\n",
      "411:\tlearn: 0.2542218\ttotal: 2.92s\tremaining: 4.17s\n",
      "412:\tlearn: 0.2541598\ttotal: 2.93s\tremaining: 4.16s\n",
      "413:\tlearn: 0.2541283\ttotal: 2.93s\tremaining: 4.15s\n",
      "414:\tlearn: 0.2540807\ttotal: 2.94s\tremaining: 4.14s\n",
      "415:\tlearn: 0.2539522\ttotal: 2.94s\tremaining: 4.13s\n",
      "416:\tlearn: 0.2539030\ttotal: 2.95s\tremaining: 4.13s\n",
      "417:\tlearn: 0.2537982\ttotal: 2.96s\tremaining: 4.12s\n",
      "418:\tlearn: 0.2537050\ttotal: 2.96s\tremaining: 4.11s\n",
      "419:\tlearn: 0.2536301\ttotal: 2.97s\tremaining: 4.1s\n",
      "420:\tlearn: 0.2535387\ttotal: 2.97s\tremaining: 4.08s\n",
      "421:\tlearn: 0.2534608\ttotal: 2.98s\tremaining: 4.08s\n",
      "422:\tlearn: 0.2533734\ttotal: 2.98s\tremaining: 4.07s\n",
      "423:\tlearn: 0.2533239\ttotal: 2.99s\tremaining: 4.06s\n",
      "424:\tlearn: 0.2532089\ttotal: 2.99s\tremaining: 4.05s\n",
      "425:\tlearn: 0.2531483\ttotal: 3s\tremaining: 4.04s\n",
      "426:\tlearn: 0.2531162\ttotal: 3s\tremaining: 4.03s\n",
      "427:\tlearn: 0.2530668\ttotal: 3s\tremaining: 4.02s\n",
      "428:\tlearn: 0.2529735\ttotal: 3.01s\tremaining: 4.01s\n",
      "429:\tlearn: 0.2528973\ttotal: 3.02s\tremaining: 4s\n",
      "430:\tlearn: 0.2527943\ttotal: 3.02s\tremaining: 3.99s\n",
      "431:\tlearn: 0.2527382\ttotal: 3.03s\tremaining: 3.98s\n",
      "432:\tlearn: 0.2526451\ttotal: 3.03s\tremaining: 3.97s\n",
      "433:\tlearn: 0.2525835\ttotal: 3.04s\tremaining: 3.96s\n",
      "434:\tlearn: 0.2525076\ttotal: 3.04s\tremaining: 3.95s\n",
      "435:\tlearn: 0.2524410\ttotal: 3.05s\tremaining: 3.94s\n",
      "436:\tlearn: 0.2523457\ttotal: 3.05s\tremaining: 3.93s\n",
      "437:\tlearn: 0.2522751\ttotal: 3.06s\tremaining: 3.92s\n",
      "438:\tlearn: 0.2521997\ttotal: 3.06s\tremaining: 3.92s\n",
      "439:\tlearn: 0.2521376\ttotal: 3.07s\tremaining: 3.91s\n",
      "440:\tlearn: 0.2520532\ttotal: 3.08s\tremaining: 3.9s\n",
      "441:\tlearn: 0.2519777\ttotal: 3.08s\tremaining: 3.89s\n",
      "442:\tlearn: 0.2518859\ttotal: 3.09s\tremaining: 3.88s\n",
      "443:\tlearn: 0.2517866\ttotal: 3.09s\tremaining: 3.87s\n",
      "444:\tlearn: 0.2517273\ttotal: 3.1s\tremaining: 3.86s\n",
      "445:\tlearn: 0.2516725\ttotal: 3.1s\tremaining: 3.85s\n",
      "446:\tlearn: 0.2515872\ttotal: 3.11s\tremaining: 3.84s\n",
      "447:\tlearn: 0.2515104\ttotal: 3.11s\tremaining: 3.83s\n",
      "448:\tlearn: 0.2514503\ttotal: 3.12s\tremaining: 3.83s\n",
      "449:\tlearn: 0.2513647\ttotal: 3.12s\tremaining: 3.82s\n",
      "450:\tlearn: 0.2513271\ttotal: 3.13s\tremaining: 3.81s\n",
      "451:\tlearn: 0.2512352\ttotal: 3.13s\tremaining: 3.8s\n",
      "452:\tlearn: 0.2511196\ttotal: 3.14s\tremaining: 3.79s\n",
      "453:\tlearn: 0.2510361\ttotal: 3.14s\tremaining: 3.78s\n",
      "454:\tlearn: 0.2509298\ttotal: 3.15s\tremaining: 3.78s\n",
      "455:\tlearn: 0.2507951\ttotal: 3.16s\tremaining: 3.77s\n",
      "456:\tlearn: 0.2507343\ttotal: 3.16s\tremaining: 3.76s\n",
      "457:\tlearn: 0.2506631\ttotal: 3.17s\tremaining: 3.75s\n",
      "458:\tlearn: 0.2505741\ttotal: 3.17s\tremaining: 3.74s\n",
      "459:\tlearn: 0.2505067\ttotal: 3.18s\tremaining: 3.74s\n",
      "460:\tlearn: 0.2504049\ttotal: 3.19s\tremaining: 3.73s\n",
      "461:\tlearn: 0.2502832\ttotal: 3.19s\tremaining: 3.72s\n",
      "462:\tlearn: 0.2502320\ttotal: 3.2s\tremaining: 3.71s\n",
      "463:\tlearn: 0.2501349\ttotal: 3.2s\tremaining: 3.7s\n",
      "464:\tlearn: 0.2500585\ttotal: 3.21s\tremaining: 3.7s\n",
      "465:\tlearn: 0.2500102\ttotal: 3.22s\tremaining: 3.69s\n",
      "466:\tlearn: 0.2499481\ttotal: 3.23s\tremaining: 3.68s\n",
      "467:\tlearn: 0.2498679\ttotal: 3.23s\tremaining: 3.67s\n",
      "468:\tlearn: 0.2498053\ttotal: 3.24s\tremaining: 3.67s\n",
      "469:\tlearn: 0.2497353\ttotal: 3.25s\tremaining: 3.67s\n",
      "470:\tlearn: 0.2496644\ttotal: 3.26s\tremaining: 3.66s\n",
      "471:\tlearn: 0.2495875\ttotal: 3.27s\tremaining: 3.65s\n",
      "472:\tlearn: 0.2495352\ttotal: 3.27s\tremaining: 3.65s\n",
      "473:\tlearn: 0.2494584\ttotal: 3.28s\tremaining: 3.64s\n",
      "474:\tlearn: 0.2493735\ttotal: 3.29s\tremaining: 3.63s\n",
      "475:\tlearn: 0.2492609\ttotal: 3.29s\tremaining: 3.63s\n",
      "476:\tlearn: 0.2491945\ttotal: 3.3s\tremaining: 3.62s\n",
      "477:\tlearn: 0.2491220\ttotal: 3.31s\tremaining: 3.61s\n",
      "478:\tlearn: 0.2490604\ttotal: 3.31s\tremaining: 3.6s\n",
      "479:\tlearn: 0.2489821\ttotal: 3.32s\tremaining: 3.6s\n",
      "480:\tlearn: 0.2489159\ttotal: 3.33s\tremaining: 3.59s\n",
      "481:\tlearn: 0.2488409\ttotal: 3.33s\tremaining: 3.58s\n",
      "482:\tlearn: 0.2487933\ttotal: 3.34s\tremaining: 3.57s\n",
      "483:\tlearn: 0.2487156\ttotal: 3.34s\tremaining: 3.56s\n",
      "484:\tlearn: 0.2485943\ttotal: 3.35s\tremaining: 3.56s\n",
      "485:\tlearn: 0.2485088\ttotal: 3.36s\tremaining: 3.55s\n",
      "486:\tlearn: 0.2484429\ttotal: 3.37s\tremaining: 3.54s\n"
     ]
    },
    {
     "name": "stdout",
     "output_type": "stream",
     "text": [
      "487:\tlearn: 0.2484201\ttotal: 3.38s\tremaining: 3.54s\n",
      "488:\tlearn: 0.2483444\ttotal: 3.38s\tremaining: 3.53s\n",
      "489:\tlearn: 0.2482503\ttotal: 3.39s\tremaining: 3.53s\n",
      "490:\tlearn: 0.2481847\ttotal: 3.4s\tremaining: 3.52s\n",
      "491:\tlearn: 0.2481105\ttotal: 3.4s\tremaining: 3.51s\n",
      "492:\tlearn: 0.2480299\ttotal: 3.4s\tremaining: 3.5s\n",
      "493:\tlearn: 0.2479844\ttotal: 3.41s\tremaining: 3.49s\n",
      "494:\tlearn: 0.2478705\ttotal: 3.42s\tremaining: 3.49s\n",
      "495:\tlearn: 0.2478032\ttotal: 3.42s\tremaining: 3.48s\n",
      "496:\tlearn: 0.2477652\ttotal: 3.43s\tremaining: 3.47s\n",
      "497:\tlearn: 0.2477037\ttotal: 3.43s\tremaining: 3.46s\n",
      "498:\tlearn: 0.2476348\ttotal: 3.44s\tremaining: 3.46s\n",
      "499:\tlearn: 0.2475691\ttotal: 3.45s\tremaining: 3.45s\n",
      "500:\tlearn: 0.2475291\ttotal: 3.45s\tremaining: 3.44s\n",
      "501:\tlearn: 0.2474505\ttotal: 3.46s\tremaining: 3.43s\n",
      "502:\tlearn: 0.2474007\ttotal: 3.46s\tremaining: 3.42s\n",
      "503:\tlearn: 0.2473734\ttotal: 3.47s\tremaining: 3.41s\n",
      "504:\tlearn: 0.2472868\ttotal: 3.47s\tremaining: 3.4s\n",
      "505:\tlearn: 0.2472522\ttotal: 3.48s\tremaining: 3.4s\n",
      "506:\tlearn: 0.2471055\ttotal: 3.48s\tremaining: 3.39s\n",
      "507:\tlearn: 0.2470395\ttotal: 3.49s\tremaining: 3.38s\n",
      "508:\tlearn: 0.2468765\ttotal: 3.49s\tremaining: 3.37s\n",
      "509:\tlearn: 0.2468151\ttotal: 3.5s\tremaining: 3.36s\n",
      "510:\tlearn: 0.2467704\ttotal: 3.5s\tremaining: 3.35s\n",
      "511:\tlearn: 0.2467065\ttotal: 3.51s\tremaining: 3.34s\n",
      "512:\tlearn: 0.2466630\ttotal: 3.51s\tremaining: 3.33s\n",
      "513:\tlearn: 0.2466004\ttotal: 3.52s\tremaining: 3.33s\n",
      "514:\tlearn: 0.2465527\ttotal: 3.52s\tremaining: 3.32s\n",
      "515:\tlearn: 0.2464886\ttotal: 3.53s\tremaining: 3.31s\n",
      "516:\tlearn: 0.2464737\ttotal: 3.53s\tremaining: 3.3s\n",
      "517:\tlearn: 0.2463994\ttotal: 3.54s\tremaining: 3.29s\n",
      "518:\tlearn: 0.2463285\ttotal: 3.54s\tremaining: 3.29s\n",
      "519:\tlearn: 0.2462898\ttotal: 3.55s\tremaining: 3.28s\n",
      "520:\tlearn: 0.2462455\ttotal: 3.56s\tremaining: 3.27s\n",
      "521:\tlearn: 0.2462073\ttotal: 3.56s\tremaining: 3.27s\n",
      "522:\tlearn: 0.2461364\ttotal: 3.57s\tremaining: 3.26s\n",
      "523:\tlearn: 0.2461126\ttotal: 3.58s\tremaining: 3.25s\n",
      "524:\tlearn: 0.2460487\ttotal: 3.58s\tremaining: 3.24s\n",
      "525:\tlearn: 0.2459464\ttotal: 3.59s\tremaining: 3.23s\n",
      "526:\tlearn: 0.2458984\ttotal: 3.59s\tremaining: 3.23s\n",
      "527:\tlearn: 0.2458328\ttotal: 3.6s\tremaining: 3.22s\n",
      "528:\tlearn: 0.2457810\ttotal: 3.6s\tremaining: 3.21s\n",
      "529:\tlearn: 0.2457168\ttotal: 3.61s\tremaining: 3.2s\n",
      "530:\tlearn: 0.2456390\ttotal: 3.61s\tremaining: 3.19s\n",
      "531:\tlearn: 0.2455967\ttotal: 3.62s\tremaining: 3.18s\n",
      "532:\tlearn: 0.2455039\ttotal: 3.63s\tremaining: 3.18s\n",
      "533:\tlearn: 0.2454424\ttotal: 3.63s\tremaining: 3.17s\n",
      "534:\tlearn: 0.2453924\ttotal: 3.64s\tremaining: 3.16s\n",
      "535:\tlearn: 0.2453562\ttotal: 3.64s\tremaining: 3.15s\n",
      "536:\tlearn: 0.2453055\ttotal: 3.65s\tremaining: 3.14s\n",
      "537:\tlearn: 0.2452471\ttotal: 3.65s\tremaining: 3.13s\n",
      "538:\tlearn: 0.2451681\ttotal: 3.66s\tremaining: 3.13s\n",
      "539:\tlearn: 0.2451278\ttotal: 3.66s\tremaining: 3.12s\n",
      "540:\tlearn: 0.2450575\ttotal: 3.67s\tremaining: 3.11s\n",
      "541:\tlearn: 0.2449991\ttotal: 3.67s\tremaining: 3.1s\n",
      "542:\tlearn: 0.2449513\ttotal: 3.68s\tremaining: 3.1s\n",
      "543:\tlearn: 0.2448975\ttotal: 3.68s\tremaining: 3.09s\n",
      "544:\tlearn: 0.2448446\ttotal: 3.69s\tremaining: 3.08s\n",
      "545:\tlearn: 0.2447627\ttotal: 3.69s\tremaining: 3.07s\n",
      "546:\tlearn: 0.2446987\ttotal: 3.7s\tremaining: 3.06s\n",
      "547:\tlearn: 0.2446218\ttotal: 3.7s\tremaining: 3.05s\n",
      "548:\tlearn: 0.2445710\ttotal: 3.71s\tremaining: 3.05s\n",
      "549:\tlearn: 0.2445473\ttotal: 3.71s\tremaining: 3.04s\n",
      "550:\tlearn: 0.2444883\ttotal: 3.72s\tremaining: 3.03s\n",
      "551:\tlearn: 0.2444074\ttotal: 3.73s\tremaining: 3.02s\n",
      "552:\tlearn: 0.2443680\ttotal: 3.73s\tremaining: 3.02s\n",
      "553:\tlearn: 0.2443457\ttotal: 3.74s\tremaining: 3.01s\n",
      "554:\tlearn: 0.2442659\ttotal: 3.74s\tremaining: 3s\n",
      "555:\tlearn: 0.2442077\ttotal: 3.75s\tremaining: 2.99s\n",
      "556:\tlearn: 0.2441832\ttotal: 3.75s\tremaining: 2.99s\n",
      "557:\tlearn: 0.2441350\ttotal: 3.76s\tremaining: 2.98s\n",
      "558:\tlearn: 0.2441147\ttotal: 3.77s\tremaining: 2.97s\n",
      "559:\tlearn: 0.2440792\ttotal: 3.77s\tremaining: 2.96s\n",
      "560:\tlearn: 0.2440260\ttotal: 3.78s\tremaining: 2.96s\n",
      "561:\tlearn: 0.2439705\ttotal: 3.79s\tremaining: 2.95s\n",
      "562:\tlearn: 0.2439251\ttotal: 3.79s\tremaining: 2.94s\n",
      "563:\tlearn: 0.2438802\ttotal: 3.8s\tremaining: 2.94s\n",
      "564:\tlearn: 0.2438346\ttotal: 3.81s\tremaining: 2.93s\n",
      "565:\tlearn: 0.2437662\ttotal: 3.81s\tremaining: 2.92s\n",
      "566:\tlearn: 0.2437261\ttotal: 3.82s\tremaining: 2.92s\n",
      "567:\tlearn: 0.2436781\ttotal: 3.83s\tremaining: 2.91s\n",
      "568:\tlearn: 0.2436259\ttotal: 3.83s\tremaining: 2.9s\n",
      "569:\tlearn: 0.2435674\ttotal: 3.84s\tremaining: 2.9s\n",
      "570:\tlearn: 0.2435548\ttotal: 3.85s\tremaining: 2.89s\n",
      "571:\tlearn: 0.2435229\ttotal: 3.86s\tremaining: 2.89s\n",
      "572:\tlearn: 0.2434648\ttotal: 3.87s\tremaining: 2.88s\n",
      "573:\tlearn: 0.2434296\ttotal: 3.88s\tremaining: 2.88s\n",
      "574:\tlearn: 0.2433920\ttotal: 3.88s\tremaining: 2.87s\n",
      "575:\tlearn: 0.2433176\ttotal: 3.89s\tremaining: 2.86s\n",
      "576:\tlearn: 0.2432592\ttotal: 3.9s\tremaining: 2.85s\n",
      "577:\tlearn: 0.2431859\ttotal: 3.9s\tremaining: 2.85s\n",
      "578:\tlearn: 0.2431325\ttotal: 3.91s\tremaining: 2.84s\n",
      "579:\tlearn: 0.2430771\ttotal: 3.92s\tremaining: 2.83s\n",
      "580:\tlearn: 0.2429979\ttotal: 3.92s\tremaining: 2.83s\n",
      "581:\tlearn: 0.2429717\ttotal: 3.93s\tremaining: 2.82s\n",
      "582:\tlearn: 0.2429025\ttotal: 3.93s\tremaining: 2.81s\n",
      "583:\tlearn: 0.2428509\ttotal: 3.94s\tremaining: 2.81s\n",
      "584:\tlearn: 0.2428297\ttotal: 3.94s\tremaining: 2.8s\n",
      "585:\tlearn: 0.2427623\ttotal: 3.95s\tremaining: 2.79s\n",
      "586:\tlearn: 0.2426628\ttotal: 3.96s\tremaining: 2.79s\n",
      "587:\tlearn: 0.2426247\ttotal: 3.97s\tremaining: 2.78s\n",
      "588:\tlearn: 0.2425600\ttotal: 3.98s\tremaining: 2.77s\n",
      "589:\tlearn: 0.2425040\ttotal: 3.98s\tremaining: 2.77s\n",
      "590:\tlearn: 0.2424675\ttotal: 3.99s\tremaining: 2.76s\n",
      "591:\tlearn: 0.2424114\ttotal: 4s\tremaining: 2.75s\n",
      "592:\tlearn: 0.2423588\ttotal: 4s\tremaining: 2.75s\n",
      "593:\tlearn: 0.2422978\ttotal: 4.01s\tremaining: 2.74s\n",
      "594:\tlearn: 0.2422635\ttotal: 4.01s\tremaining: 2.73s\n",
      "595:\tlearn: 0.2422044\ttotal: 4.02s\tremaining: 2.72s\n",
      "596:\tlearn: 0.2421393\ttotal: 4.03s\tremaining: 2.72s\n",
      "597:\tlearn: 0.2420704\ttotal: 4.03s\tremaining: 2.71s\n",
      "598:\tlearn: 0.2419786\ttotal: 4.04s\tremaining: 2.7s\n",
      "599:\tlearn: 0.2419219\ttotal: 4.04s\tremaining: 2.7s\n",
      "600:\tlearn: 0.2418705\ttotal: 4.05s\tremaining: 2.69s\n",
      "601:\tlearn: 0.2418151\ttotal: 4.06s\tremaining: 2.68s\n",
      "602:\tlearn: 0.2417567\ttotal: 4.06s\tremaining: 2.67s\n",
      "603:\tlearn: 0.2416931\ttotal: 4.07s\tremaining: 2.67s\n",
      "604:\tlearn: 0.2416267\ttotal: 4.08s\tremaining: 2.66s\n",
      "605:\tlearn: 0.2415491\ttotal: 4.08s\tremaining: 2.65s\n",
      "606:\tlearn: 0.2414999\ttotal: 4.09s\tremaining: 2.65s\n",
      "607:\tlearn: 0.2414511\ttotal: 4.1s\tremaining: 2.64s\n",
      "608:\tlearn: 0.2414298\ttotal: 4.1s\tremaining: 2.63s\n",
      "609:\tlearn: 0.2413551\ttotal: 4.11s\tremaining: 2.63s\n",
      "610:\tlearn: 0.2413002\ttotal: 4.12s\tremaining: 2.62s\n",
      "611:\tlearn: 0.2412772\ttotal: 4.12s\tremaining: 2.61s\n",
      "612:\tlearn: 0.2412088\ttotal: 4.13s\tremaining: 2.6s\n",
      "613:\tlearn: 0.2411444\ttotal: 4.13s\tremaining: 2.6s\n",
      "614:\tlearn: 0.2410997\ttotal: 4.14s\tremaining: 2.59s\n",
      "615:\tlearn: 0.2410692\ttotal: 4.15s\tremaining: 2.58s\n",
      "616:\tlearn: 0.2410248\ttotal: 4.15s\tremaining: 2.58s\n",
      "617:\tlearn: 0.2409682\ttotal: 4.16s\tremaining: 2.57s\n",
      "618:\tlearn: 0.2408869\ttotal: 4.17s\tremaining: 2.57s\n",
      "619:\tlearn: 0.2408486\ttotal: 4.17s\tremaining: 2.56s\n",
      "620:\tlearn: 0.2408122\ttotal: 4.18s\tremaining: 2.55s\n",
      "621:\tlearn: 0.2407561\ttotal: 4.18s\tremaining: 2.54s\n",
      "622:\tlearn: 0.2407049\ttotal: 4.19s\tremaining: 2.54s\n",
      "623:\tlearn: 0.2406280\ttotal: 4.2s\tremaining: 2.53s\n",
      "624:\tlearn: 0.2405723\ttotal: 4.2s\tremaining: 2.52s\n",
      "625:\tlearn: 0.2405183\ttotal: 4.22s\tremaining: 2.52s\n",
      "626:\tlearn: 0.2404985\ttotal: 4.23s\tremaining: 2.52s\n",
      "627:\tlearn: 0.2404433\ttotal: 4.25s\tremaining: 2.52s\n",
      "628:\tlearn: 0.2404348\ttotal: 4.26s\tremaining: 2.51s\n",
      "629:\tlearn: 0.2403871\ttotal: 4.27s\tremaining: 2.51s\n",
      "630:\tlearn: 0.2403833\ttotal: 4.28s\tremaining: 2.5s\n",
      "631:\tlearn: 0.2403501\ttotal: 4.3s\tremaining: 2.5s\n",
      "632:\tlearn: 0.2402665\ttotal: 4.31s\tremaining: 2.5s\n",
      "633:\tlearn: 0.2402054\ttotal: 4.32s\tremaining: 2.5s\n",
      "634:\tlearn: 0.2401692\ttotal: 4.34s\tremaining: 2.5s\n",
      "635:\tlearn: 0.2401261\ttotal: 4.35s\tremaining: 2.49s\n",
      "636:\tlearn: 0.2400923\ttotal: 4.36s\tremaining: 2.49s\n",
      "637:\tlearn: 0.2400289\ttotal: 4.38s\tremaining: 2.48s\n",
      "638:\tlearn: 0.2399578\ttotal: 4.39s\tremaining: 2.48s\n",
      "639:\tlearn: 0.2398873\ttotal: 4.4s\tremaining: 2.48s\n",
      "640:\tlearn: 0.2397941\ttotal: 4.41s\tremaining: 2.47s\n",
      "641:\tlearn: 0.2397435\ttotal: 4.43s\tremaining: 2.47s\n",
      "642:\tlearn: 0.2396987\ttotal: 4.44s\tremaining: 2.46s\n",
      "643:\tlearn: 0.2396515\ttotal: 4.45s\tremaining: 2.46s\n",
      "644:\tlearn: 0.2395766\ttotal: 4.46s\tremaining: 2.46s\n",
      "645:\tlearn: 0.2395290\ttotal: 4.47s\tremaining: 2.45s\n"
     ]
    },
    {
     "name": "stdout",
     "output_type": "stream",
     "text": [
      "646:\tlearn: 0.2394724\ttotal: 4.49s\tremaining: 2.45s\n",
      "647:\tlearn: 0.2394012\ttotal: 4.5s\tremaining: 2.44s\n",
      "648:\tlearn: 0.2393599\ttotal: 4.5s\tremaining: 2.44s\n",
      "649:\tlearn: 0.2393029\ttotal: 4.51s\tremaining: 2.43s\n",
      "650:\tlearn: 0.2392515\ttotal: 4.52s\tremaining: 2.42s\n",
      "651:\tlearn: 0.2391776\ttotal: 4.53s\tremaining: 2.42s\n",
      "652:\tlearn: 0.2391066\ttotal: 4.54s\tremaining: 2.41s\n",
      "653:\tlearn: 0.2390828\ttotal: 4.55s\tremaining: 2.41s\n",
      "654:\tlearn: 0.2390355\ttotal: 4.56s\tremaining: 2.4s\n",
      "655:\tlearn: 0.2389956\ttotal: 4.57s\tremaining: 2.4s\n",
      "656:\tlearn: 0.2389448\ttotal: 4.58s\tremaining: 2.39s\n",
      "657:\tlearn: 0.2389050\ttotal: 4.59s\tremaining: 2.38s\n",
      "658:\tlearn: 0.2388701\ttotal: 4.6s\tremaining: 2.38s\n",
      "659:\tlearn: 0.2388172\ttotal: 4.61s\tremaining: 2.38s\n",
      "660:\tlearn: 0.2387962\ttotal: 4.62s\tremaining: 2.37s\n",
      "661:\tlearn: 0.2387246\ttotal: 4.63s\tremaining: 2.36s\n",
      "662:\tlearn: 0.2386786\ttotal: 4.64s\tremaining: 2.36s\n",
      "663:\tlearn: 0.2386439\ttotal: 4.65s\tremaining: 2.35s\n",
      "664:\tlearn: 0.2385836\ttotal: 4.66s\tremaining: 2.35s\n",
      "665:\tlearn: 0.2385336\ttotal: 4.67s\tremaining: 2.34s\n",
      "666:\tlearn: 0.2384882\ttotal: 4.68s\tremaining: 2.33s\n",
      "667:\tlearn: 0.2384321\ttotal: 4.68s\tremaining: 2.33s\n",
      "668:\tlearn: 0.2383944\ttotal: 4.69s\tremaining: 2.32s\n",
      "669:\tlearn: 0.2383418\ttotal: 4.7s\tremaining: 2.32s\n",
      "670:\tlearn: 0.2382708\ttotal: 4.71s\tremaining: 2.31s\n",
      "671:\tlearn: 0.2382307\ttotal: 4.72s\tremaining: 2.31s\n",
      "672:\tlearn: 0.2381939\ttotal: 4.73s\tremaining: 2.3s\n",
      "673:\tlearn: 0.2381374\ttotal: 4.74s\tremaining: 2.29s\n",
      "674:\tlearn: 0.2380965\ttotal: 4.75s\tremaining: 2.29s\n",
      "675:\tlearn: 0.2380671\ttotal: 4.76s\tremaining: 2.28s\n",
      "676:\tlearn: 0.2379559\ttotal: 4.77s\tremaining: 2.27s\n",
      "677:\tlearn: 0.2379068\ttotal: 4.78s\tremaining: 2.27s\n",
      "678:\tlearn: 0.2378641\ttotal: 4.78s\tremaining: 2.26s\n",
      "679:\tlearn: 0.2378364\ttotal: 4.79s\tremaining: 2.25s\n",
      "680:\tlearn: 0.2377874\ttotal: 4.8s\tremaining: 2.25s\n",
      "681:\tlearn: 0.2377617\ttotal: 4.81s\tremaining: 2.24s\n",
      "682:\tlearn: 0.2377318\ttotal: 4.81s\tremaining: 2.23s\n",
      "683:\tlearn: 0.2376707\ttotal: 4.82s\tremaining: 2.23s\n",
      "684:\tlearn: 0.2376065\ttotal: 4.83s\tremaining: 2.22s\n",
      "685:\tlearn: 0.2375451\ttotal: 4.83s\tremaining: 2.21s\n",
      "686:\tlearn: 0.2375083\ttotal: 4.84s\tremaining: 2.21s\n",
      "687:\tlearn: 0.2374443\ttotal: 4.85s\tremaining: 2.2s\n",
      "688:\tlearn: 0.2374130\ttotal: 4.86s\tremaining: 2.19s\n",
      "689:\tlearn: 0.2373238\ttotal: 4.87s\tremaining: 2.19s\n",
      "690:\tlearn: 0.2372980\ttotal: 4.87s\tremaining: 2.18s\n",
      "691:\tlearn: 0.2372562\ttotal: 4.88s\tremaining: 2.17s\n",
      "692:\tlearn: 0.2371678\ttotal: 4.89s\tremaining: 2.17s\n",
      "693:\tlearn: 0.2370876\ttotal: 4.89s\tremaining: 2.16s\n",
      "694:\tlearn: 0.2370333\ttotal: 4.91s\tremaining: 2.15s\n",
      "695:\tlearn: 0.2369730\ttotal: 4.91s\tremaining: 2.15s\n",
      "696:\tlearn: 0.2369394\ttotal: 4.92s\tremaining: 2.14s\n",
      "697:\tlearn: 0.2368789\ttotal: 4.93s\tremaining: 2.13s\n",
      "698:\tlearn: 0.2368293\ttotal: 4.94s\tremaining: 2.13s\n",
      "699:\tlearn: 0.2367715\ttotal: 4.94s\tremaining: 2.12s\n",
      "700:\tlearn: 0.2367408\ttotal: 4.95s\tremaining: 2.11s\n",
      "701:\tlearn: 0.2367270\ttotal: 4.96s\tremaining: 2.1s\n",
      "702:\tlearn: 0.2366647\ttotal: 4.97s\tremaining: 2.1s\n",
      "703:\tlearn: 0.2366125\ttotal: 4.97s\tremaining: 2.09s\n",
      "704:\tlearn: 0.2365713\ttotal: 4.98s\tremaining: 2.08s\n",
      "705:\tlearn: 0.2365371\ttotal: 4.99s\tremaining: 2.08s\n",
      "706:\tlearn: 0.2364760\ttotal: 4.99s\tremaining: 2.07s\n",
      "707:\tlearn: 0.2364198\ttotal: 5s\tremaining: 2.06s\n",
      "708:\tlearn: 0.2363748\ttotal: 5s\tremaining: 2.05s\n",
      "709:\tlearn: 0.2363561\ttotal: 5.01s\tremaining: 2.05s\n",
      "710:\tlearn: 0.2363068\ttotal: 5.02s\tremaining: 2.04s\n",
      "711:\tlearn: 0.2362677\ttotal: 5.03s\tremaining: 2.03s\n",
      "712:\tlearn: 0.2362241\ttotal: 5.03s\tremaining: 2.02s\n",
      "713:\tlearn: 0.2361978\ttotal: 5.04s\tremaining: 2.02s\n",
      "714:\tlearn: 0.2361564\ttotal: 5.04s\tremaining: 2.01s\n",
      "715:\tlearn: 0.2360904\ttotal: 5.05s\tremaining: 2s\n",
      "716:\tlearn: 0.2360379\ttotal: 5.05s\tremaining: 1.99s\n",
      "717:\tlearn: 0.2359894\ttotal: 5.06s\tremaining: 1.99s\n",
      "718:\tlearn: 0.2359344\ttotal: 5.06s\tremaining: 1.98s\n",
      "719:\tlearn: 0.2358952\ttotal: 5.07s\tremaining: 1.97s\n",
      "720:\tlearn: 0.2358243\ttotal: 5.07s\tremaining: 1.96s\n",
      "721:\tlearn: 0.2357819\ttotal: 5.08s\tremaining: 1.96s\n",
      "722:\tlearn: 0.2357295\ttotal: 5.08s\tremaining: 1.95s\n",
      "723:\tlearn: 0.2356689\ttotal: 5.09s\tremaining: 1.94s\n",
      "724:\tlearn: 0.2355781\ttotal: 5.09s\tremaining: 1.93s\n",
      "725:\tlearn: 0.2355434\ttotal: 5.1s\tremaining: 1.92s\n",
      "726:\tlearn: 0.2355016\ttotal: 5.11s\tremaining: 1.92s\n",
      "727:\tlearn: 0.2354621\ttotal: 5.11s\tremaining: 1.91s\n",
      "728:\tlearn: 0.2354020\ttotal: 5.12s\tremaining: 1.9s\n",
      "729:\tlearn: 0.2353802\ttotal: 5.12s\tremaining: 1.89s\n",
      "730:\tlearn: 0.2353511\ttotal: 5.13s\tremaining: 1.89s\n",
      "731:\tlearn: 0.2353074\ttotal: 5.13s\tremaining: 1.88s\n",
      "732:\tlearn: 0.2352396\ttotal: 5.14s\tremaining: 1.87s\n",
      "733:\tlearn: 0.2351885\ttotal: 5.14s\tremaining: 1.86s\n",
      "734:\tlearn: 0.2351428\ttotal: 5.15s\tremaining: 1.85s\n",
      "735:\tlearn: 0.2351072\ttotal: 5.15s\tremaining: 1.85s\n",
      "736:\tlearn: 0.2350537\ttotal: 5.16s\tremaining: 1.84s\n",
      "737:\tlearn: 0.2350127\ttotal: 5.16s\tremaining: 1.83s\n",
      "738:\tlearn: 0.2349571\ttotal: 5.17s\tremaining: 1.82s\n",
      "739:\tlearn: 0.2349267\ttotal: 5.17s\tremaining: 1.82s\n",
      "740:\tlearn: 0.2348770\ttotal: 5.17s\tremaining: 1.81s\n",
      "741:\tlearn: 0.2348215\ttotal: 5.18s\tremaining: 1.8s\n",
      "742:\tlearn: 0.2347956\ttotal: 5.19s\tremaining: 1.79s\n",
      "743:\tlearn: 0.2347645\ttotal: 5.19s\tremaining: 1.79s\n",
      "744:\tlearn: 0.2347309\ttotal: 5.2s\tremaining: 1.78s\n",
      "745:\tlearn: 0.2346949\ttotal: 5.2s\tremaining: 1.77s\n",
      "746:\tlearn: 0.2346618\ttotal: 5.21s\tremaining: 1.76s\n",
      "747:\tlearn: 0.2346086\ttotal: 5.21s\tremaining: 1.76s\n",
      "748:\tlearn: 0.2345802\ttotal: 5.22s\tremaining: 1.75s\n",
      "749:\tlearn: 0.2345534\ttotal: 5.22s\tremaining: 1.74s\n",
      "750:\tlearn: 0.2344649\ttotal: 5.23s\tremaining: 1.73s\n",
      "751:\tlearn: 0.2343835\ttotal: 5.23s\tremaining: 1.73s\n",
      "752:\tlearn: 0.2343539\ttotal: 5.24s\tremaining: 1.72s\n",
      "753:\tlearn: 0.2343062\ttotal: 5.25s\tremaining: 1.71s\n",
      "754:\tlearn: 0.2342425\ttotal: 5.25s\tremaining: 1.7s\n",
      "755:\tlearn: 0.2341885\ttotal: 5.26s\tremaining: 1.7s\n",
      "756:\tlearn: 0.2341644\ttotal: 5.26s\tremaining: 1.69s\n",
      "757:\tlearn: 0.2341148\ttotal: 5.27s\tremaining: 1.68s\n",
      "758:\tlearn: 0.2341014\ttotal: 5.27s\tremaining: 1.67s\n",
      "759:\tlearn: 0.2340713\ttotal: 5.28s\tremaining: 1.67s\n",
      "760:\tlearn: 0.2340075\ttotal: 5.28s\tremaining: 1.66s\n",
      "761:\tlearn: 0.2339734\ttotal: 5.29s\tremaining: 1.65s\n",
      "762:\tlearn: 0.2339041\ttotal: 5.29s\tremaining: 1.64s\n",
      "763:\tlearn: 0.2338582\ttotal: 5.3s\tremaining: 1.64s\n",
      "764:\tlearn: 0.2338051\ttotal: 5.3s\tremaining: 1.63s\n",
      "765:\tlearn: 0.2337077\ttotal: 5.31s\tremaining: 1.62s\n",
      "766:\tlearn: 0.2336514\ttotal: 5.31s\tremaining: 1.61s\n",
      "767:\tlearn: 0.2336127\ttotal: 5.32s\tremaining: 1.61s\n",
      "768:\tlearn: 0.2335358\ttotal: 5.32s\tremaining: 1.6s\n",
      "769:\tlearn: 0.2335120\ttotal: 5.33s\tremaining: 1.59s\n",
      "770:\tlearn: 0.2334418\ttotal: 5.33s\tremaining: 1.58s\n",
      "771:\tlearn: 0.2333935\ttotal: 5.34s\tremaining: 1.58s\n",
      "772:\tlearn: 0.2333438\ttotal: 5.34s\tremaining: 1.57s\n",
      "773:\tlearn: 0.2333114\ttotal: 5.35s\tremaining: 1.56s\n",
      "774:\tlearn: 0.2333016\ttotal: 5.35s\tremaining: 1.55s\n",
      "775:\tlearn: 0.2332660\ttotal: 5.36s\tremaining: 1.55s\n",
      "776:\tlearn: 0.2332149\ttotal: 5.36s\tremaining: 1.54s\n",
      "777:\tlearn: 0.2332025\ttotal: 5.37s\tremaining: 1.53s\n",
      "778:\tlearn: 0.2331504\ttotal: 5.38s\tremaining: 1.52s\n",
      "779:\tlearn: 0.2330827\ttotal: 5.38s\tremaining: 1.52s\n",
      "780:\tlearn: 0.2330184\ttotal: 5.39s\tremaining: 1.51s\n",
      "781:\tlearn: 0.2329831\ttotal: 5.39s\tremaining: 1.5s\n",
      "782:\tlearn: 0.2329235\ttotal: 5.4s\tremaining: 1.5s\n",
      "783:\tlearn: 0.2328460\ttotal: 5.4s\tremaining: 1.49s\n",
      "784:\tlearn: 0.2328091\ttotal: 5.41s\tremaining: 1.48s\n",
      "785:\tlearn: 0.2327605\ttotal: 5.42s\tremaining: 1.47s\n",
      "786:\tlearn: 0.2327103\ttotal: 5.42s\tremaining: 1.47s\n",
      "787:\tlearn: 0.2326508\ttotal: 5.43s\tremaining: 1.46s\n",
      "788:\tlearn: 0.2325915\ttotal: 5.43s\tremaining: 1.45s\n",
      "789:\tlearn: 0.2325625\ttotal: 5.44s\tremaining: 1.45s\n",
      "790:\tlearn: 0.2325200\ttotal: 5.45s\tremaining: 1.44s\n",
      "791:\tlearn: 0.2324787\ttotal: 5.45s\tremaining: 1.43s\n",
      "792:\tlearn: 0.2324275\ttotal: 5.46s\tremaining: 1.43s\n",
      "793:\tlearn: 0.2323711\ttotal: 5.47s\tremaining: 1.42s\n",
      "794:\tlearn: 0.2323223\ttotal: 5.47s\tremaining: 1.41s\n",
      "795:\tlearn: 0.2322580\ttotal: 5.48s\tremaining: 1.4s\n",
      "796:\tlearn: 0.2322082\ttotal: 5.48s\tremaining: 1.4s\n",
      "797:\tlearn: 0.2321632\ttotal: 5.49s\tremaining: 1.39s\n",
      "798:\tlearn: 0.2321239\ttotal: 5.5s\tremaining: 1.38s\n",
      "799:\tlearn: 0.2320847\ttotal: 5.5s\tremaining: 1.38s\n",
      "800:\tlearn: 0.2320374\ttotal: 5.51s\tremaining: 1.37s\n",
      "801:\tlearn: 0.2320155\ttotal: 5.51s\tremaining: 1.36s\n",
      "802:\tlearn: 0.2319902\ttotal: 5.52s\tremaining: 1.35s\n",
      "803:\tlearn: 0.2319608\ttotal: 5.53s\tremaining: 1.35s\n",
      "804:\tlearn: 0.2319200\ttotal: 5.53s\tremaining: 1.34s\n"
     ]
    },
    {
     "name": "stdout",
     "output_type": "stream",
     "text": [
      "805:\tlearn: 0.2318597\ttotal: 5.54s\tremaining: 1.33s\n",
      "806:\tlearn: 0.2318446\ttotal: 5.54s\tremaining: 1.33s\n",
      "807:\tlearn: 0.2318297\ttotal: 5.55s\tremaining: 1.32s\n",
      "808:\tlearn: 0.2317943\ttotal: 5.56s\tremaining: 1.31s\n",
      "809:\tlearn: 0.2317344\ttotal: 5.56s\tremaining: 1.3s\n",
      "810:\tlearn: 0.2316796\ttotal: 5.57s\tremaining: 1.3s\n",
      "811:\tlearn: 0.2316322\ttotal: 5.57s\tremaining: 1.29s\n",
      "812:\tlearn: 0.2315785\ttotal: 5.58s\tremaining: 1.28s\n",
      "813:\tlearn: 0.2315355\ttotal: 5.59s\tremaining: 1.28s\n",
      "814:\tlearn: 0.2315158\ttotal: 5.59s\tremaining: 1.27s\n",
      "815:\tlearn: 0.2314446\ttotal: 5.6s\tremaining: 1.26s\n",
      "816:\tlearn: 0.2314081\ttotal: 5.6s\tremaining: 1.25s\n",
      "817:\tlearn: 0.2313615\ttotal: 5.61s\tremaining: 1.25s\n",
      "818:\tlearn: 0.2312999\ttotal: 5.62s\tremaining: 1.24s\n",
      "819:\tlearn: 0.2312648\ttotal: 5.62s\tremaining: 1.23s\n",
      "820:\tlearn: 0.2312252\ttotal: 5.63s\tremaining: 1.23s\n",
      "821:\tlearn: 0.2311746\ttotal: 5.63s\tremaining: 1.22s\n",
      "822:\tlearn: 0.2311462\ttotal: 5.64s\tremaining: 1.21s\n",
      "823:\tlearn: 0.2310963\ttotal: 5.65s\tremaining: 1.21s\n",
      "824:\tlearn: 0.2310460\ttotal: 5.65s\tremaining: 1.2s\n",
      "825:\tlearn: 0.2310009\ttotal: 5.66s\tremaining: 1.19s\n",
      "826:\tlearn: 0.2309413\ttotal: 5.66s\tremaining: 1.18s\n",
      "827:\tlearn: 0.2309020\ttotal: 5.67s\tremaining: 1.18s\n",
      "828:\tlearn: 0.2308723\ttotal: 5.67s\tremaining: 1.17s\n",
      "829:\tlearn: 0.2308107\ttotal: 5.68s\tremaining: 1.16s\n",
      "830:\tlearn: 0.2307601\ttotal: 5.68s\tremaining: 1.16s\n",
      "831:\tlearn: 0.2306990\ttotal: 5.69s\tremaining: 1.15s\n",
      "832:\tlearn: 0.2306525\ttotal: 5.69s\tremaining: 1.14s\n",
      "833:\tlearn: 0.2306453\ttotal: 5.7s\tremaining: 1.13s\n",
      "834:\tlearn: 0.2306087\ttotal: 5.7s\tremaining: 1.13s\n",
      "835:\tlearn: 0.2305755\ttotal: 5.71s\tremaining: 1.12s\n",
      "836:\tlearn: 0.2305502\ttotal: 5.71s\tremaining: 1.11s\n",
      "837:\tlearn: 0.2305152\ttotal: 5.72s\tremaining: 1.11s\n",
      "838:\tlearn: 0.2304862\ttotal: 5.73s\tremaining: 1.1s\n",
      "839:\tlearn: 0.2304220\ttotal: 5.73s\tremaining: 1.09s\n",
      "840:\tlearn: 0.2303867\ttotal: 5.74s\tremaining: 1.08s\n",
      "841:\tlearn: 0.2303708\ttotal: 5.74s\tremaining: 1.08s\n",
      "842:\tlearn: 0.2303031\ttotal: 5.75s\tremaining: 1.07s\n",
      "843:\tlearn: 0.2302660\ttotal: 5.75s\tremaining: 1.06s\n",
      "844:\tlearn: 0.2302590\ttotal: 5.75s\tremaining: 1.05s\n",
      "845:\tlearn: 0.2302087\ttotal: 5.76s\tremaining: 1.05s\n",
      "846:\tlearn: 0.2301774\ttotal: 5.76s\tremaining: 1.04s\n",
      "847:\tlearn: 0.2301270\ttotal: 5.77s\tremaining: 1.03s\n",
      "848:\tlearn: 0.2300822\ttotal: 5.77s\tremaining: 1.03s\n",
      "849:\tlearn: 0.2300516\ttotal: 5.78s\tremaining: 1.02s\n",
      "850:\tlearn: 0.2300006\ttotal: 5.78s\tremaining: 1.01s\n",
      "851:\tlearn: 0.2299464\ttotal: 5.79s\tremaining: 1s\n",
      "852:\tlearn: 0.2298992\ttotal: 5.79s\tremaining: 998ms\n",
      "853:\tlearn: 0.2298897\ttotal: 5.8s\tremaining: 991ms\n",
      "854:\tlearn: 0.2298601\ttotal: 5.8s\tremaining: 984ms\n",
      "855:\tlearn: 0.2298155\ttotal: 5.81s\tremaining: 977ms\n",
      "856:\tlearn: 0.2298098\ttotal: 5.81s\tremaining: 970ms\n",
      "857:\tlearn: 0.2297604\ttotal: 5.82s\tremaining: 963ms\n",
      "858:\tlearn: 0.2297020\ttotal: 5.82s\tremaining: 956ms\n",
      "859:\tlearn: 0.2296735\ttotal: 5.83s\tremaining: 949ms\n",
      "860:\tlearn: 0.2296266\ttotal: 5.83s\tremaining: 942ms\n",
      "861:\tlearn: 0.2295761\ttotal: 5.84s\tremaining: 934ms\n",
      "862:\tlearn: 0.2295125\ttotal: 5.84s\tremaining: 927ms\n",
      "863:\tlearn: 0.2294706\ttotal: 5.85s\tremaining: 920ms\n",
      "864:\tlearn: 0.2294151\ttotal: 5.85s\tremaining: 913ms\n",
      "865:\tlearn: 0.2293726\ttotal: 5.86s\tremaining: 906ms\n",
      "866:\tlearn: 0.2293668\ttotal: 5.86s\tremaining: 899ms\n",
      "867:\tlearn: 0.2293264\ttotal: 5.86s\tremaining: 892ms\n",
      "868:\tlearn: 0.2292874\ttotal: 5.87s\tremaining: 885ms\n",
      "869:\tlearn: 0.2292435\ttotal: 5.87s\tremaining: 878ms\n",
      "870:\tlearn: 0.2292096\ttotal: 5.88s\tremaining: 871ms\n",
      "871:\tlearn: 0.2291458\ttotal: 5.88s\tremaining: 864ms\n",
      "872:\tlearn: 0.2291015\ttotal: 5.89s\tremaining: 857ms\n",
      "873:\tlearn: 0.2290533\ttotal: 5.9s\tremaining: 850ms\n",
      "874:\tlearn: 0.2290300\ttotal: 5.9s\tremaining: 843ms\n",
      "875:\tlearn: 0.2290092\ttotal: 5.91s\tremaining: 836ms\n",
      "876:\tlearn: 0.2289597\ttotal: 5.91s\tremaining: 829ms\n",
      "877:\tlearn: 0.2289248\ttotal: 5.92s\tremaining: 822ms\n",
      "878:\tlearn: 0.2288947\ttotal: 5.92s\tremaining: 815ms\n",
      "879:\tlearn: 0.2288426\ttotal: 5.93s\tremaining: 809ms\n",
      "880:\tlearn: 0.2287592\ttotal: 5.94s\tremaining: 802ms\n",
      "881:\tlearn: 0.2287063\ttotal: 5.94s\tremaining: 795ms\n",
      "882:\tlearn: 0.2286682\ttotal: 5.95s\tremaining: 788ms\n",
      "883:\tlearn: 0.2286265\ttotal: 5.95s\tremaining: 781ms\n",
      "884:\tlearn: 0.2286112\ttotal: 5.95s\tremaining: 774ms\n",
      "885:\tlearn: 0.2285828\ttotal: 5.96s\tremaining: 767ms\n",
      "886:\tlearn: 0.2285349\ttotal: 5.97s\tremaining: 760ms\n",
      "887:\tlearn: 0.2285057\ttotal: 5.97s\tremaining: 753ms\n",
      "888:\tlearn: 0.2284398\ttotal: 5.97s\tremaining: 746ms\n",
      "889:\tlearn: 0.2284147\ttotal: 5.98s\tremaining: 739ms\n",
      "890:\tlearn: 0.2283939\ttotal: 5.99s\tremaining: 732ms\n",
      "891:\tlearn: 0.2283625\ttotal: 5.99s\tremaining: 725ms\n",
      "892:\tlearn: 0.2283275\ttotal: 6s\tremaining: 718ms\n",
      "893:\tlearn: 0.2282730\ttotal: 6s\tremaining: 712ms\n",
      "894:\tlearn: 0.2282352\ttotal: 6s\tremaining: 705ms\n",
      "895:\tlearn: 0.2281999\ttotal: 6.01s\tremaining: 698ms\n",
      "896:\tlearn: 0.2281349\ttotal: 6.01s\tremaining: 691ms\n",
      "897:\tlearn: 0.2280810\ttotal: 6.02s\tremaining: 684ms\n",
      "898:\tlearn: 0.2280216\ttotal: 6.02s\tremaining: 677ms\n",
      "899:\tlearn: 0.2279611\ttotal: 6.03s\tremaining: 670ms\n",
      "900:\tlearn: 0.2279246\ttotal: 6.04s\tremaining: 664ms\n",
      "901:\tlearn: 0.2278551\ttotal: 6.04s\tremaining: 657ms\n",
      "902:\tlearn: 0.2278251\ttotal: 6.05s\tremaining: 650ms\n",
      "903:\tlearn: 0.2277770\ttotal: 6.05s\tremaining: 643ms\n",
      "904:\tlearn: 0.2277350\ttotal: 6.06s\tremaining: 636ms\n",
      "905:\tlearn: 0.2277030\ttotal: 6.07s\tremaining: 629ms\n",
      "906:\tlearn: 0.2276828\ttotal: 6.07s\tremaining: 623ms\n",
      "907:\tlearn: 0.2276286\ttotal: 6.08s\tremaining: 616ms\n",
      "908:\tlearn: 0.2275264\ttotal: 6.08s\tremaining: 609ms\n",
      "909:\tlearn: 0.2274629\ttotal: 6.09s\tremaining: 602ms\n",
      "910:\tlearn: 0.2274214\ttotal: 6.09s\tremaining: 595ms\n",
      "911:\tlearn: 0.2274155\ttotal: 6.1s\tremaining: 588ms\n",
      "912:\tlearn: 0.2274133\ttotal: 6.1s\tremaining: 581ms\n",
      "913:\tlearn: 0.2273568\ttotal: 6.1s\tremaining: 574ms\n",
      "914:\tlearn: 0.2273268\ttotal: 6.11s\tremaining: 568ms\n",
      "915:\tlearn: 0.2272832\ttotal: 6.12s\tremaining: 561ms\n",
      "916:\tlearn: 0.2272577\ttotal: 6.12s\tremaining: 554ms\n",
      "917:\tlearn: 0.2272225\ttotal: 6.13s\tremaining: 547ms\n",
      "918:\tlearn: 0.2271861\ttotal: 6.13s\tremaining: 540ms\n",
      "919:\tlearn: 0.2271551\ttotal: 6.14s\tremaining: 534ms\n",
      "920:\tlearn: 0.2270950\ttotal: 6.14s\tremaining: 527ms\n",
      "921:\tlearn: 0.2270565\ttotal: 6.15s\tremaining: 520ms\n",
      "922:\tlearn: 0.2269757\ttotal: 6.15s\tremaining: 513ms\n",
      "923:\tlearn: 0.2269456\ttotal: 6.16s\tremaining: 506ms\n",
      "924:\tlearn: 0.2269124\ttotal: 6.16s\tremaining: 500ms\n",
      "925:\tlearn: 0.2268853\ttotal: 6.17s\tremaining: 493ms\n",
      "926:\tlearn: 0.2268590\ttotal: 6.17s\tremaining: 486ms\n",
      "927:\tlearn: 0.2268251\ttotal: 6.18s\tremaining: 479ms\n",
      "928:\tlearn: 0.2267824\ttotal: 6.19s\tremaining: 473ms\n",
      "929:\tlearn: 0.2267323\ttotal: 6.19s\tremaining: 466ms\n",
      "930:\tlearn: 0.2266939\ttotal: 6.2s\tremaining: 459ms\n",
      "931:\tlearn: 0.2266650\ttotal: 6.21s\tremaining: 453ms\n",
      "932:\tlearn: 0.2266391\ttotal: 6.21s\tremaining: 446ms\n",
      "933:\tlearn: 0.2265956\ttotal: 6.22s\tremaining: 439ms\n",
      "934:\tlearn: 0.2265569\ttotal: 6.22s\tremaining: 433ms\n",
      "935:\tlearn: 0.2265335\ttotal: 6.23s\tremaining: 426ms\n",
      "936:\tlearn: 0.2265027\ttotal: 6.24s\tremaining: 419ms\n",
      "937:\tlearn: 0.2264899\ttotal: 6.24s\tremaining: 413ms\n",
      "938:\tlearn: 0.2264066\ttotal: 6.25s\tremaining: 406ms\n",
      "939:\tlearn: 0.2263701\ttotal: 6.25s\tremaining: 399ms\n",
      "940:\tlearn: 0.2263318\ttotal: 6.26s\tremaining: 393ms\n",
      "941:\tlearn: 0.2262942\ttotal: 6.27s\tremaining: 386ms\n",
      "942:\tlearn: 0.2262578\ttotal: 6.27s\tremaining: 379ms\n",
      "943:\tlearn: 0.2261990\ttotal: 6.28s\tremaining: 372ms\n",
      "944:\tlearn: 0.2261724\ttotal: 6.29s\tremaining: 366ms\n",
      "945:\tlearn: 0.2261174\ttotal: 6.29s\tremaining: 359ms\n",
      "946:\tlearn: 0.2260809\ttotal: 6.3s\tremaining: 353ms\n",
      "947:\tlearn: 0.2260297\ttotal: 6.31s\tremaining: 346ms\n",
      "948:\tlearn: 0.2259861\ttotal: 6.31s\tremaining: 339ms\n",
      "949:\tlearn: 0.2259823\ttotal: 6.32s\tremaining: 333ms\n",
      "950:\tlearn: 0.2259297\ttotal: 6.33s\tremaining: 326ms\n",
      "951:\tlearn: 0.2259277\ttotal: 6.33s\tremaining: 319ms\n",
      "952:\tlearn: 0.2259023\ttotal: 6.33s\tremaining: 312ms\n",
      "953:\tlearn: 0.2258339\ttotal: 6.34s\tremaining: 306ms\n",
      "954:\tlearn: 0.2258098\ttotal: 6.34s\tremaining: 299ms\n",
      "955:\tlearn: 0.2257762\ttotal: 6.35s\tremaining: 292ms\n",
      "956:\tlearn: 0.2257327\ttotal: 6.36s\tremaining: 286ms\n",
      "957:\tlearn: 0.2257055\ttotal: 6.36s\tremaining: 279ms\n",
      "958:\tlearn: 0.2256589\ttotal: 6.37s\tremaining: 272ms\n",
      "959:\tlearn: 0.2256168\ttotal: 6.37s\tremaining: 266ms\n",
      "960:\tlearn: 0.2255786\ttotal: 6.38s\tremaining: 259ms\n",
      "961:\tlearn: 0.2255525\ttotal: 6.39s\tremaining: 252ms\n",
      "962:\tlearn: 0.2255108\ttotal: 6.39s\tremaining: 246ms\n",
      "963:\tlearn: 0.2254879\ttotal: 6.4s\tremaining: 239ms\n",
      "964:\tlearn: 0.2254504\ttotal: 6.41s\tremaining: 232ms\n"
     ]
    },
    {
     "name": "stdout",
     "output_type": "stream",
     "text": [
      "965:\tlearn: 0.2254294\ttotal: 6.41s\tremaining: 226ms\n",
      "966:\tlearn: 0.2253783\ttotal: 6.42s\tremaining: 219ms\n",
      "967:\tlearn: 0.2253439\ttotal: 6.42s\tremaining: 212ms\n",
      "968:\tlearn: 0.2253191\ttotal: 6.43s\tremaining: 206ms\n",
      "969:\tlearn: 0.2252742\ttotal: 6.43s\tremaining: 199ms\n",
      "970:\tlearn: 0.2252296\ttotal: 6.44s\tremaining: 192ms\n",
      "971:\tlearn: 0.2252130\ttotal: 6.44s\tremaining: 186ms\n",
      "972:\tlearn: 0.2251901\ttotal: 6.45s\tremaining: 179ms\n",
      "973:\tlearn: 0.2251900\ttotal: 6.45s\tremaining: 172ms\n",
      "974:\tlearn: 0.2251561\ttotal: 6.46s\tremaining: 166ms\n",
      "975:\tlearn: 0.2251207\ttotal: 6.46s\tremaining: 159ms\n",
      "976:\tlearn: 0.2250738\ttotal: 6.47s\tremaining: 152ms\n",
      "977:\tlearn: 0.2250429\ttotal: 6.47s\tremaining: 146ms\n",
      "978:\tlearn: 0.2250091\ttotal: 6.48s\tremaining: 139ms\n",
      "979:\tlearn: 0.2249700\ttotal: 6.48s\tremaining: 132ms\n",
      "980:\tlearn: 0.2249413\ttotal: 6.49s\tremaining: 126ms\n",
      "981:\tlearn: 0.2249108\ttotal: 6.49s\tremaining: 119ms\n",
      "982:\tlearn: 0.2248831\ttotal: 6.5s\tremaining: 112ms\n",
      "983:\tlearn: 0.2248578\ttotal: 6.5s\tremaining: 106ms\n",
      "984:\tlearn: 0.2248285\ttotal: 6.51s\tremaining: 99.1ms\n",
      "985:\tlearn: 0.2247880\ttotal: 6.51s\tremaining: 92.5ms\n",
      "986:\tlearn: 0.2247647\ttotal: 6.52s\tremaining: 85.9ms\n",
      "987:\tlearn: 0.2247367\ttotal: 6.52s\tremaining: 79.2ms\n",
      "988:\tlearn: 0.2246543\ttotal: 6.53s\tremaining: 72.6ms\n",
      "989:\tlearn: 0.2246203\ttotal: 6.53s\tremaining: 66ms\n",
      "990:\tlearn: 0.2246027\ttotal: 6.54s\tremaining: 59.4ms\n",
      "991:\tlearn: 0.2245570\ttotal: 6.54s\tremaining: 52.8ms\n",
      "992:\tlearn: 0.2245368\ttotal: 6.55s\tremaining: 46.2ms\n",
      "993:\tlearn: 0.2245166\ttotal: 6.55s\tremaining: 39.6ms\n",
      "994:\tlearn: 0.2244737\ttotal: 6.56s\tremaining: 33ms\n",
      "995:\tlearn: 0.2244662\ttotal: 6.57s\tremaining: 26.4ms\n",
      "996:\tlearn: 0.2244306\ttotal: 6.57s\tremaining: 19.8ms\n",
      "997:\tlearn: 0.2244139\ttotal: 6.58s\tremaining: 13.2ms\n",
      "998:\tlearn: 0.2243769\ttotal: 6.58s\tremaining: 6.59ms\n",
      "999:\tlearn: 0.2243258\ttotal: 6.59s\tremaining: 0us\n"
     ]
    }
   ],
   "source": [
    "%%capture\n",
    "model = CatBoostRegressor()\n",
    "model.fit(x_train_17, y_train_17)\n",
    "y_pred_17 = model.predict(x_test_17)"
   ]
  },
  {
   "cell_type": "code",
   "execution_count": 249,
   "id": "082649d0",
   "metadata": {},
   "outputs": [
    {
     "name": "stdout",
     "output_type": "stream",
     "text": [
      "MSE for CatBoost 2017 is: 0.11877709254460435\n"
     ]
    }
   ],
   "source": [
    "mse = mean_squared_error(y_test_17, y_pred_17)\n",
    "print('MSE for CatBoost 2017 is: ' + str(mse))"
   ]
  },
  {
   "cell_type": "code",
   "execution_count": 250,
   "id": "a3c47125",
   "metadata": {},
   "outputs": [
    {
     "name": "stdout",
     "output_type": "stream",
     "text": [
      "RMSE for CatBoost 2017 is: 0.3446405265557206\n"
     ]
    }
   ],
   "source": [
    "rmse = mean_squared_error(y_test_17, y_pred_17, squared = False)\n",
    "print('RMSE for CatBoost 2017 is: ' + str(rmse))"
   ]
  },
  {
   "cell_type": "code",
   "execution_count": 251,
   "id": "64d71e25",
   "metadata": {},
   "outputs": [
    {
     "name": "stdout",
     "output_type": "stream",
     "text": [
      "Accuracy of properties at +- 10% of actual prices is 0.37489795918367347\n"
     ]
    }
   ],
   "source": [
    "acc = accuracy_threshold(y_test_17, y_pred_17, 0.1)\n",
    "print('Accuracy of properties at +- 10% of actual prices is ' + str(acc))"
   ]
  },
  {
   "cell_type": "code",
   "execution_count": 252,
   "id": "f6984666",
   "metadata": {},
   "outputs": [
    {
     "name": "stdout",
     "output_type": "stream",
     "text": [
      "Median Absolute Error:\n",
      "\n",
      "0.14123190444658829\n"
     ]
    }
   ],
   "source": [
    "median_se = np.square(np.subtract(y_test_17, y_pred_17)).median() \n",
    " \n",
    "med = math.sqrt(median_se)\n",
    "print(\"Median Absolute Error:\\n\")\n",
    "print(med)"
   ]
  },
  {
   "cell_type": "code",
   "execution_count": 253,
   "id": "cb802c7d",
   "metadata": {},
   "outputs": [
    {
     "name": "stdout",
     "output_type": "stream",
     "text": [
      "MAPE for CatBoost 2017 is: 0.017120489571246022\n"
     ]
    }
   ],
   "source": [
    "mape = mean_absolute_percentage_error(y_test_17, y_pred_17)\n",
    "print(\"MAPE for CatBoost 2017 is: \" + str(mape))"
   ]
  },
  {
   "cell_type": "code",
   "execution_count": 254,
   "id": "5b1cf780",
   "metadata": {},
   "outputs": [],
   "source": [
    "cnames = ['Algorithm', 'Year', 'RMSE', 'MSE', 'MEDAE', 'Accuracy', 'MAPE']\n",
    "df28 = pd.DataFrame(columns = cnames)\n",
    "\n",
    "df28 = df28.append({'Algorithm': 'CatBoost',\n",
    "           'Year': 2017,\n",
    "           'RMSE': rmse,\n",
    "           'MSE': mse,\n",
    "           'MEDAE': med,\n",
    "           'Accuracy': acc,\n",
    "           'MAPE': mape         \n",
    "          }, ignore_index = True)"
   ]
  },
  {
   "cell_type": "markdown",
   "id": "72562a1a",
   "metadata": {},
   "source": [
    "### BayesianRidge"
   ]
  },
  {
   "cell_type": "code",
   "execution_count": 255,
   "id": "59e9f148",
   "metadata": {},
   "outputs": [
    {
     "name": "stdout",
     "output_type": "stream",
     "text": [
      "MSE for BayesianRidge 2017 is: 0.11184422008192402\n"
     ]
    }
   ],
   "source": [
    "clf = BayesianRidge()\n",
    "clf.fit(x_train_17, y_train_17)\n",
    "y_pred_17 = clf.predict(x_test_17)\n",
    "# Calculation of Mean Squared Error (MSE)\n",
    "mse = mean_squared_error(y_test_17, y_pred_17)\n",
    "print('MSE for BayesianRidge 2017 is: ' + str(mse))"
   ]
  },
  {
   "cell_type": "code",
   "execution_count": 256,
   "id": "1dff6d36",
   "metadata": {},
   "outputs": [
    {
     "name": "stdout",
     "output_type": "stream",
     "text": [
      "RMSE for BayesianRidge 2017 is: 0.33443118885941847\n"
     ]
    }
   ],
   "source": [
    "rmse = mean_squared_error(y_test_17, y_pred_17, squared = False)\n",
    "print('RMSE for BayesianRidge 2017 is: ' + str(rmse))"
   ]
  },
  {
   "cell_type": "code",
   "execution_count": 257,
   "id": "432254a9",
   "metadata": {},
   "outputs": [
    {
     "name": "stdout",
     "output_type": "stream",
     "text": [
      "Accuracy of properties at +- 10% of actual prices is 0.3361224489795918\n"
     ]
    }
   ],
   "source": [
    "acc = accuracy_threshold(y_test_17, y_pred_17, 0.1)\n",
    "print('Accuracy of properties at +- 10% of actual prices is ' + str(acc))"
   ]
  },
  {
   "cell_type": "code",
   "execution_count": 258,
   "id": "5e73847c",
   "metadata": {},
   "outputs": [
    {
     "name": "stdout",
     "output_type": "stream",
     "text": [
      "Median Absolute Error:\n",
      "\n",
      "0.16028489903647833\n"
     ]
    }
   ],
   "source": [
    "median_se = np.square(np.subtract(y_test_17, y_pred_17)).median() \n",
    " \n",
    "med = math.sqrt(median_se)\n",
    "print(\"Median Absolute Error:\\n\")\n",
    "print(med)"
   ]
  },
  {
   "cell_type": "code",
   "execution_count": 259,
   "id": "27b263d2",
   "metadata": {},
   "outputs": [
    {
     "name": "stdout",
     "output_type": "stream",
     "text": [
      "MAPE for BayesianRidge 2017 is: 0.01842321185314638\n"
     ]
    }
   ],
   "source": [
    "mape = mean_absolute_percentage_error(y_test_17, y_pred_17)\n",
    "print(\"MAPE for BayesianRidge 2017 is: \" + str(mape))"
   ]
  },
  {
   "cell_type": "code",
   "execution_count": 260,
   "id": "f56a5c0c",
   "metadata": {},
   "outputs": [],
   "source": [
    "cnames = ['Algorithm', 'Year', 'RMSE', 'MSE', 'MEDAE', 'Accuracy', 'MAPE']\n",
    "df29 = pd.DataFrame(columns = cnames)\n",
    "\n",
    "df29 = df29.append({'Algorithm': 'Bayesian',\n",
    "           'Year': 2017,\n",
    "           'RMSE': rmse,\n",
    "           'MSE': mse,\n",
    "           'MEDAE': med,\n",
    "           'Accuracy': acc,\n",
    "           'MAPE': mape         \n",
    "          }, ignore_index = True)"
   ]
  },
  {
   "cell_type": "code",
   "execution_count": 261,
   "id": "e004552a",
   "metadata": {},
   "outputs": [],
   "source": [
    "vis1 = pd.concat([df12, df13, df14, df15, df16, df17, df18, df19, df20, df21, df22, df23,\n",
    "                df24, df25, df26, df27, df28, df29], ignore_index=True)"
   ]
  },
  {
   "cell_type": "code",
   "execution_count": 262,
   "id": "6d8c9d08",
   "metadata": {},
   "outputs": [],
   "source": [
    "vis2 = pd.concat([vis, vis1], ignore_index=True)"
   ]
  },
  {
   "cell_type": "markdown",
   "id": "ad20c8a7",
   "metadata": {},
   "source": [
    "## Let's Visualize all our results "
   ]
  },
  {
   "cell_type": "code",
   "execution_count": 263,
   "id": "7c3e9111",
   "metadata": {},
   "outputs": [
    {
     "data": {
      "text/plain": [
       "<AxesSubplot:title={'center':'Mean RMSE Values 2013-21 Predictions'}, xlabel='Algorithm', ylabel='Mean RMSE'>"
      ]
     },
     "execution_count": 263,
     "metadata": {},
     "output_type": "execute_result"
    },
    {
     "data": {
      "image/png": "[encoded data removed]",
      "text/plain": [
       "<Figure size 1296x432 with 1 Axes>"
      ]
     },
     "metadata": {
      "needs_background": "light"
     },
     "output_type": "display_data"
    }
   ],
   "source": [
    "# rmse results\n",
    "grouped_multiple1 = vis2.groupby(['Algorithm']).agg({'RMSE': ['mean', 'median', 'max', 'sum']})\n",
    "grouped_multiple1.columns = ['mean','median','max','sum']\n",
    "grouped_multiple1.reset_index(inplace = True)\n",
    "distdf = grouped_multiple1.sort_values(by = ['mean'], ascending = True)\n",
    "distdf.plot.bar(x = 'Algorithm', y = 'mean', rot = 40, figsize=(18, 6), color='goldenrod', xlabel='Algorithm', ylabel='Mean RMSE', title='Mean RMSE Values 2013-21 Predictions')"
   ]
  },
  {
   "cell_type": "code",
   "execution_count": 264,
   "id": "9f8b253a",
   "metadata": {},
   "outputs": [
    {
     "data": {
      "text/plain": [
       "<AxesSubplot:title={'center':'Mean MEDAE Values 2013-21 Predictions'}, xlabel='Algorithm', ylabel='Mean MEDAE'>"
      ]
     },
     "execution_count": 264,
     "metadata": {},
     "output_type": "execute_result"
    },
    {
     "data": {
      "image/png": "[encoded data removed]",
      "text/plain": [
       "<Figure size 1296x432 with 1 Axes>"
      ]
     },
     "metadata": {
      "needs_background": "light"
     },
     "output_type": "display_data"
    }
   ],
   "source": [
    "# median results\n",
    "grouped_multiple2 = vis2.groupby(['Algorithm']).agg({'MEDAE': ['mean', 'median', 'max', 'sum']})\n",
    "grouped_multiple2.columns = ['mean','median','max','sum']\n",
    "grouped_multiple2.reset_index(inplace = True)\n",
    "distdf = grouped_multiple2.sort_values(by = ['mean'], ascending = True)\n",
    "distdf.plot.bar(x = 'Algorithm', y = 'mean', rot = 40, figsize=(18, 6), color='peru', xlabel='Algorithm', ylabel='Mean MEDAE', title='Mean MEDAE Values 2013-21 Predictions')"
   ]
  },
  {
   "cell_type": "code",
   "execution_count": 265,
   "id": "e733b52c",
   "metadata": {},
   "outputs": [
    {
     "data": {
      "text/plain": [
       "<AxesSubplot:title={'center':'Mean Accuracy Values 2013-21 Predictions'}, xlabel='Algorithm', ylabel='Average Accuracy'>"
      ]
     },
     "execution_count": 265,
     "metadata": {},
     "output_type": "execute_result"
    },
    {
     "data": {
      "image/png": "[encoded data removed]",
      "text/plain": [
       "<Figure size 1296x432 with 1 Axes>"
      ]
     },
     "metadata": {
      "needs_background": "light"
     },
     "output_type": "display_data"
    }
   ],
   "source": [
    "grouped_multiple3 = vis2.groupby(['Algorithm']).agg({'Accuracy': ['mean', 'median', 'max', 'sum', 'min']})\n",
    "grouped_multiple3.columns = ['mean','median','max','sum', 'min']\n",
    "grouped_multiple3.reset_index(inplace = True)\n",
    "distdf = grouped_multiple3.sort_values(by = ['mean'], ascending = False)\n",
    "distdf.plot.bar(x = 'Algorithm', y = 'mean', rot = 40, figsize=(18, 6), color='midnightblue', xlabel='Algorithm', ylabel='Average Accuracy', title='Mean Accuracy Values 2013-21 Predictions')"
   ]
  },
  {
   "cell_type": "code",
   "execution_count": 266,
   "id": "74541158",
   "metadata": {},
   "outputs": [
    {
     "data": {
      "text/plain": [
       "<AxesSubplot:title={'center':'Mean MSE Values 2013-21 Predictions'}, xlabel='Algorithm', ylabel='Mean MSE'>"
      ]
     },
     "execution_count": 266,
     "metadata": {},
     "output_type": "execute_result"
    },
    {
     "data": {
      "image/png": "[encoded data removed]",
      "text/plain": [
       "<Figure size 1296x432 with 1 Axes>"
      ]
     },
     "metadata": {
      "needs_background": "light"
     },
     "output_type": "display_data"
    }
   ],
   "source": [
    "# mse results\n",
    "grouped_multiple4 = vis2.groupby(['Algorithm']).agg({'MSE': ['mean', 'median', 'max', 'sum']})\n",
    "grouped_multiple4.columns = ['mean','median','max','sum']\n",
    "grouped_multiple4.reset_index(inplace = True)\n",
    "distdf = grouped_multiple4.sort_values(by = ['mean'], ascending = True)\n",
    "distdf.plot.bar(x = 'Algorithm', y = 'mean', rot = 40, figsize=(18, 6), color='forestgreen', xlabel='Algorithm', ylabel='Mean MSE', title='Mean MSE Values 2013-21 Predictions')"
   ]
  },
  {
   "cell_type": "code",
   "execution_count": 267,
   "id": "d2343c63",
   "metadata": {},
   "outputs": [
    {
     "data": {
      "text/plain": [
       "<AxesSubplot:title={'center':'Mean MAPE Values 2013-21 Predictions'}, xlabel='Algorithm', ylabel='Mean MAPE'>"
      ]
     },
     "execution_count": 267,
     "metadata": {},
     "output_type": "execute_result"
    },
    {
     "data": {
      "image/png": "[encoded data removed]",
      "text/plain": [
       "<Figure size 1296x432 with 1 Axes>"
      ]
     },
     "metadata": {
      "needs_background": "light"
     },
     "output_type": "display_data"
    }
   ],
   "source": [
    "# mape results\n",
    "grouped_multiple5 = vis2.groupby(['Algorithm']).agg({'MAPE': ['mean', 'median', 'max', 'sum']})\n",
    "grouped_multiple5.columns = ['mean','median','max','sum']\n",
    "grouped_multiple5.reset_index(inplace = True)\n",
    "distdf = grouped_multiple5.sort_values(by = ['mean'], ascending = True)\n",
    "distdf.plot.bar(x = 'Algorithm', y = 'mean', rot = 40, figsize=(18, 6), color='seagreen', xlabel='Algorithm', ylabel='Mean MAPE', title='Mean MAPE Values 2013-21 Predictions')"
   ]
  },
  {
   "cell_type": "markdown",
   "id": "f05b1903",
   "metadata": {},
   "source": [
    "Result that can be compared around 6/7 % off [this](https://arxiv.org/pdf/2108.09175.pdf), (slightly diff approach taken by me predicting yearly however!)"
   ]
  },
  {
   "cell_type": "code",
   "execution_count": 268,
   "id": "7278a64b",
   "metadata": {},
   "outputs": [
    {
     "data": {
      "text/html": [
       "<div>\n",
       "<style scoped>\n",
       "    .dataframe tbody tr th:only-of-type {\n",
       "        vertical-align: middle;\n",
       "    }\n",
       "\n",
       "    .dataframe tbody tr th {\n",
       "        vertical-align: top;\n",
       "    }\n",
       "\n",
       "    .dataframe thead th {\n",
       "        text-align: right;\n",
       "    }\n",
       "</style>\n",
       "<table border=\"1\" class=\"dataframe\">\n",
       "  <thead>\n",
       "    <tr style=\"text-align: right;\">\n",
       "      <th></th>\n",
       "      <th>Algorithm</th>\n",
       "      <th>mean</th>\n",
       "      <th>median</th>\n",
       "      <th>max</th>\n",
       "      <th>sum</th>\n",
       "      <th>min</th>\n",
       "    </tr>\n",
       "  </thead>\n",
       "  <tbody>\n",
       "    <tr>\n",
       "      <th>3</th>\n",
       "      <td>CatBoost</td>\n",
       "      <td>0.374311</td>\n",
       "      <td>0.374898</td>\n",
       "      <td>0.397315</td>\n",
       "      <td>1.871555</td>\n",
       "      <td>0.346625</td>\n",
       "    </tr>\n",
       "    <tr>\n",
       "      <th>1</th>\n",
       "      <td>AutoML</td>\n",
       "      <td>0.374217</td>\n",
       "      <td>0.377959</td>\n",
       "      <td>0.390438</td>\n",
       "      <td>1.871086</td>\n",
       "      <td>0.355513</td>\n",
       "    </tr>\n",
       "    <tr>\n",
       "      <th>4</th>\n",
       "      <td>LightGBM</td>\n",
       "      <td>0.371392</td>\n",
       "      <td>0.379744</td>\n",
       "      <td>0.395217</td>\n",
       "      <td>1.856959</td>\n",
       "      <td>0.332212</td>\n",
       "    </tr>\n",
       "    <tr>\n",
       "      <th>5</th>\n",
       "      <td>MLR</td>\n",
       "      <td>0.339749</td>\n",
       "      <td>0.342395</td>\n",
       "      <td>0.351017</td>\n",
       "      <td>1.698745</td>\n",
       "      <td>0.321403</td>\n",
       "    </tr>\n",
       "    <tr>\n",
       "      <th>2</th>\n",
       "      <td>Bayesian</td>\n",
       "      <td>0.339496</td>\n",
       "      <td>0.342150</td>\n",
       "      <td>0.351017</td>\n",
       "      <td>1.697479</td>\n",
       "      <td>0.319962</td>\n",
       "    </tr>\n",
       "    <tr>\n",
       "      <th>0</th>\n",
       "      <td>AdaBoost</td>\n",
       "      <td>0.230821</td>\n",
       "      <td>0.214391</td>\n",
       "      <td>0.274691</td>\n",
       "      <td>1.154106</td>\n",
       "      <td>0.192857</td>\n",
       "    </tr>\n",
       "  </tbody>\n",
       "</table>\n",
       "</div>"
      ],
      "text/plain": [
       "  Algorithm      mean    median       max       sum       min\n",
       "3  CatBoost  0.374311  0.374898  0.397315  1.871555  0.346625\n",
       "1    AutoML  0.374217  0.377959  0.390438  1.871086  0.355513\n",
       "4  LightGBM  0.371392  0.379744  0.395217  1.856959  0.332212\n",
       "5       MLR  0.339749  0.342395  0.351017  1.698745  0.321403\n",
       "2  Bayesian  0.339496  0.342150  0.351017  1.697479  0.319962\n",
       "0  AdaBoost  0.230821  0.214391  0.274691  1.154106  0.192857"
      ]
     },
     "execution_count": 268,
     "metadata": {},
     "output_type": "execute_result"
    }
   ],
   "source": [
    "grouped_multiple3.sort_values(by = 'mean', ascending = False)"
   ]
  },
  {
   "cell_type": "code",
   "execution_count": 269,
   "id": "224ad6d2",
   "metadata": {},
   "outputs": [
    {
     "data": {
      "text/plain": [
       "<AxesSubplot:title={'center':'Performance of ML algorithms accuracy from 2017-2021 Predictions'}, xlabel='Year'>"
      ]
     },
     "execution_count": 269,
     "metadata": {},
     "output_type": "execute_result"
    },
    {
     "data": {
      "image/png": "[encoded data removed]",
      "text/plain": [
       "<Figure size 1296x432 with 1 Axes>"
      ]
     },
     "metadata": {
      "needs_background": "light"
     },
     "output_type": "display_data"
    }
   ],
   "source": [
    "# yearly accuracy results\n",
    "df = vis2.pivot(index = 'Year', columns = 'Algorithm', values = 'Accuracy')\n",
    "df.plot(figsize = (18, 6), title = 'Performance of ML algorithms accuracy from 2017-2021 Predictions')"
   ]
  }
 ],
 "metadata": {
  "kernelspec": {
   "display_name": "Python 3 (ipykernel)",
   "language": "python",
   "name": "python3"
  },
  "language_info": {
   "codemirror_mode": {
    "name": "ipython",
    "version": 3
   },
   "file_extension": ".py",
   "mimetype": "text/x-python",
   "name": "python",
   "nbconvert_exporter": "python",
   "pygments_lexer": "ipython3",
   "version": "3.8.12"
  }
 },
 "nbformat": 4,
 "nbformat_minor": 5
}
