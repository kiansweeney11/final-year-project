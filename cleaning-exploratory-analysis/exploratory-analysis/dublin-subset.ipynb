{
 "cells": [
  {
   "cell_type": "code",
   "execution_count": 1,
   "id": "3fc47091",
   "metadata": {},
   "outputs": [
    {
     "name": "stdout",
     "output_type": "stream",
     "text": [
      "Packages for Mathematical Computation and visualization imported!\n",
      "Pipeline and preprocessing packages imported!\n"
     ]
    }
   ],
   "source": [
    "import pandas as pd\n",
    "import numpy as np\n",
    "\n",
    "from IPython.display import display\n",
    "\n",
    "%matplotlib inline\n",
    "import matplotlib.pyplot as plt  # Matlab-style plotting\n",
    "from IPython.display import display\n",
    "import seaborn as sns\n",
    "color = sns.color_palette()\n",
    "sns.set_style('darkgrid')\n",
    "print('Packages for Mathematical Computation and visualization imported!')\n",
    "\n",
    "from scipy import stats\n",
    "from scipy.stats import norm, skew\n",
    "from scipy.special import boxcox1p\n",
    "from scipy.stats.stats import pearsonr\n",
    "\n",
    "from sklearn.pipeline import make_pipeline\n",
    "from sklearn.preprocessing import RobustScaler\n",
    "from sklearn.preprocessing import StandardScaler\n",
    "from sklearn.preprocessing import LabelEncoder\n",
    "from sklearn.feature_selection import SelectFromModel\n",
    "from sklearn.feature_selection import SelectKBest\n",
    "from sklearn.feature_selection import chi2\n",
    "print('Pipeline and preprocessing packages imported!')"
   ]
  },
  {
   "cell_type": "code",
   "execution_count": 2,
   "id": "0dcb910c",
   "metadata": {},
   "outputs": [],
   "source": [
    "dub = pd.read_csv('dublin-subset.csv', index_col = 'Unnamed: 0')"
   ]
  },
  {
   "cell_type": "code",
   "execution_count": 3,
   "id": "e06e3633",
   "metadata": {},
   "outputs": [
    {
     "data": {
      "text/html": [
       "<div>\n",
       "<style scoped>\n",
       "    .dataframe tbody tr th:only-of-type {\n",
       "        vertical-align: middle;\n",
       "    }\n",
       "\n",
       "    .dataframe tbody tr th {\n",
       "        vertical-align: top;\n",
       "    }\n",
       "\n",
       "    .dataframe thead th {\n",
       "        text-align: right;\n",
       "    }\n",
       "</style>\n",
       "<table border=\"1\" class=\"dataframe\">\n",
       "  <thead>\n",
       "    <tr style=\"text-align: right;\">\n",
       "      <th></th>\n",
       "      <th>Address</th>\n",
       "      <th>County</th>\n",
       "      <th>Price (€)</th>\n",
       "      <th>Not Full Market Price</th>\n",
       "      <th>VAT Exclusive</th>\n",
       "      <th>Description of Property</th>\n",
       "      <th>Property Size Description</th>\n",
       "      <th>Year</th>\n",
       "      <th>Month</th>\n",
       "      <th>Town</th>\n",
       "      <th>Region</th>\n",
       "      <th>Apartment</th>\n",
       "      <th>Neighbourhood</th>\n",
       "      <th>Province</th>\n",
       "      <th>Estate</th>\n",
       "      <th>PriceInflation</th>\n",
       "      <th>Eircode</th>\n",
       "    </tr>\n",
       "  </thead>\n",
       "  <tbody>\n",
       "    <tr>\n",
       "      <th>207901</th>\n",
       "      <td>55 College Square, Terenure</td>\n",
       "      <td>Dublin</td>\n",
       "      <td>447200.0</td>\n",
       "      <td>1</td>\n",
       "      <td>0</td>\n",
       "      <td>0</td>\n",
       "      <td>1</td>\n",
       "      <td>2014</td>\n",
       "      <td>1</td>\n",
       "      <td>Terenure</td>\n",
       "      <td>Dublin</td>\n",
       "      <td>0</td>\n",
       "      <td>College Square Terenure</td>\n",
       "      <td>Leinster</td>\n",
       "      <td>Estate</td>\n",
       "      <td>846407.80</td>\n",
       "      <td>D6W</td>\n",
       "    </tr>\n",
       "    <tr>\n",
       "      <th>207905</th>\n",
       "      <td>Number 7 Belfort House, Sydenham Villas, Dundrum</td>\n",
       "      <td>Dublin</td>\n",
       "      <td>398000.0</td>\n",
       "      <td>1</td>\n",
       "      <td>1</td>\n",
       "      <td>1</td>\n",
       "      <td>0</td>\n",
       "      <td>2014</td>\n",
       "      <td>1</td>\n",
       "      <td>Dundrum Dublin</td>\n",
       "      <td>Dublin</td>\n",
       "      <td>0</td>\n",
       "      <td>Sydenham Villas Dundrum Dublin</td>\n",
       "      <td>Leinster</td>\n",
       "      <td>Other</td>\n",
       "      <td>753287.80</td>\n",
       "      <td>A45</td>\n",
       "    </tr>\n",
       "    <tr>\n",
       "      <th>207908</th>\n",
       "      <td>4 Millers Lane, Hillside, Skerries</td>\n",
       "      <td>Dublin</td>\n",
       "      <td>271000.0</td>\n",
       "      <td>1</td>\n",
       "      <td>1</td>\n",
       "      <td>1</td>\n",
       "      <td>1</td>\n",
       "      <td>2014</td>\n",
       "      <td>1</td>\n",
       "      <td>Skerries</td>\n",
       "      <td>Dublin</td>\n",
       "      <td>0</td>\n",
       "      <td>Hillside Skerries</td>\n",
       "      <td>Leinster</td>\n",
       "      <td>Estate</td>\n",
       "      <td>512917.07</td>\n",
       "      <td>K34</td>\n",
       "    </tr>\n",
       "    <tr>\n",
       "      <th>207912</th>\n",
       "      <td>16 Castleland Park Avenue, Balbriggan</td>\n",
       "      <td>Dublin</td>\n",
       "      <td>185022.0</td>\n",
       "      <td>1</td>\n",
       "      <td>0</td>\n",
       "      <td>0</td>\n",
       "      <td>1</td>\n",
       "      <td>2014</td>\n",
       "      <td>1</td>\n",
       "      <td>Balbriggan</td>\n",
       "      <td>Dublin</td>\n",
       "      <td>0</td>\n",
       "      <td>Castleland Park Avenue Balbriggan</td>\n",
       "      <td>Leinster</td>\n",
       "      <td>Estate</td>\n",
       "      <td>350187.98</td>\n",
       "      <td>K32</td>\n",
       "    </tr>\n",
       "    <tr>\n",
       "      <th>207913</th>\n",
       "      <td>33 Castlegate Green, Adamstown Castle, Adamstown</td>\n",
       "      <td>Dublin</td>\n",
       "      <td>193000.0</td>\n",
       "      <td>1</td>\n",
       "      <td>1</td>\n",
       "      <td>1</td>\n",
       "      <td>2</td>\n",
       "      <td>2014</td>\n",
       "      <td>1</td>\n",
       "      <td>Adamstown Dublin</td>\n",
       "      <td>Dublin</td>\n",
       "      <td>0</td>\n",
       "      <td>Adamstown Castle Adamstown Dublin</td>\n",
       "      <td>Leinster</td>\n",
       "      <td>Estate</td>\n",
       "      <td>365287.80</td>\n",
       "      <td>A42</td>\n",
       "    </tr>\n",
       "  </tbody>\n",
       "</table>\n",
       "</div>"
      ],
      "text/plain": [
       "                                                 Address  County  Price (€)  \\\n",
       "207901                       55 College Square, Terenure  Dublin   447200.0   \n",
       "207905  Number 7 Belfort House, Sydenham Villas, Dundrum  Dublin   398000.0   \n",
       "207908                4 Millers Lane, Hillside, Skerries  Dublin   271000.0   \n",
       "207912             16 Castleland Park Avenue, Balbriggan  Dublin   185022.0   \n",
       "207913  33 Castlegate Green, Adamstown Castle, Adamstown  Dublin   193000.0   \n",
       "\n",
       "        Not Full Market Price  VAT Exclusive  Description of Property  \\\n",
       "207901                      1              0                        0   \n",
       "207905                      1              1                        1   \n",
       "207908                      1              1                        1   \n",
       "207912                      1              0                        0   \n",
       "207913                      1              1                        1   \n",
       "\n",
       "        Property Size Description  Year  Month              Town  Region  \\\n",
       "207901                          1  2014      1          Terenure  Dublin   \n",
       "207905                          0  2014      1    Dundrum Dublin  Dublin   \n",
       "207908                          1  2014      1          Skerries  Dublin   \n",
       "207912                          1  2014      1        Balbriggan  Dublin   \n",
       "207913                          2  2014      1  Adamstown Dublin  Dublin   \n",
       "\n",
       "        Apartment                      Neighbourhood  Province  Estate  \\\n",
       "207901          0            College Square Terenure  Leinster  Estate   \n",
       "207905          0     Sydenham Villas Dundrum Dublin  Leinster   Other   \n",
       "207908          0                  Hillside Skerries  Leinster  Estate   \n",
       "207912          0  Castleland Park Avenue Balbriggan  Leinster  Estate   \n",
       "207913          0  Adamstown Castle Adamstown Dublin  Leinster  Estate   \n",
       "\n",
       "        PriceInflation Eircode  \n",
       "207901       846407.80     D6W  \n",
       "207905       753287.80     A45  \n",
       "207908       512917.07     K34  \n",
       "207912       350187.98     K32  \n",
       "207913       365287.80     A42  "
      ]
     },
     "execution_count": 3,
     "metadata": {},
     "output_type": "execute_result"
    }
   ],
   "source": [
    "dub.head()"
   ]
  },
  {
   "cell_type": "markdown",
   "id": "2b104440",
   "metadata": {},
   "source": [
    "### Let's investigate our data a little bit further here"
   ]
  },
  {
   "cell_type": "code",
   "execution_count": 4,
   "id": "cd0d79ac",
   "metadata": {},
   "outputs": [],
   "source": [
    "### new property (description of property) is down as 0, 1 means second hand dwelling"
   ]
  },
  {
   "cell_type": "code",
   "execution_count": 5,
   "id": "cbfc3df5",
   "metadata": {},
   "outputs": [],
   "source": [
    "mon = pd.read_csv('dub-increases.csv', index_col = 'Unnamed: 0')"
   ]
  },
  {
   "cell_type": "code",
   "execution_count": 6,
   "id": "15cf86a8",
   "metadata": {},
   "outputs": [
    {
     "data": {
      "image/png": "[encoded data removed]",
      "text/plain": [
       "<Figure size 1440x576 with 2 Axes>"
      ]
     },
     "metadata": {},
     "output_type": "display_data"
    }
   ],
   "source": [
    "fig, (ax1, ax2) = plt.subplots(1,2, figsize=(20,8))\n",
    "dub['Town'].value_counts().plot(kind='barh', color='blueviolet',\n",
    "                                 title='Number of properties sold in each selected area of Dublin 2014-2021', ax=ax1)\n",
    "mon.plot.barh(x = 'Town', y = 'Change', ax= ax2, title='Mean Change in Price of Properties sold in each selected area of Dublin 2014-2021',\n",
    "             color='yellowgreen')\n",
    "plt.show()"
   ]
  },
  {
   "cell_type": "markdown",
   "id": "64e42813",
   "metadata": {},
   "source": [
    "It is very interesting to note some of our outliers here. Ballyboden had a massive change in mean price but that is essentially down to the lack of properties sold with the town designated as \"Ballyboden\". Most of the rises in means appear to contain a lesser number of properties here. Let's remove some of the areas with lower numbers of properties and plot again."
   ]
  },
  {
   "cell_type": "code",
   "execution_count": 7,
   "id": "d7f91e39",
   "metadata": {},
   "outputs": [
    {
     "data": {
      "text/plain": [
       "Balbriggan          1914\n",
       "Donabate            1128\n",
       "Skerries             956\n",
       "Sandyford            829\n",
       "Citywest             680\n",
       "Adamstown Dublin     525\n",
       "Santry               470\n",
       "Clongriffin          404\n",
       "Balgriffin           359\n",
       "Terenure             320\n",
       "Clondalkin           302\n",
       "Ashtown              292\n",
       "Drumcondra           282\n",
       "Cabinteely           267\n",
       "Dundrum Dublin       249\n",
       "Ballymun             234\n",
       "Palmerstown          232\n",
       "Ballsbridge          222\n",
       "Baldoyle             209\n",
       "Sandycove            198\n",
       "Clonsilla            197\n",
       "Glasnevin            101\n",
       "Loughlinstown         78\n",
       "Ringsend              71\n",
       "Tyrrelstown           68\n",
       "Templeogue            66\n",
       "Ballyfermot           65\n",
       "Chapelizod            62\n",
       "Smithfield            50\n",
       "Naul                  44\n",
       "Drimnagh              43\n",
       "Rialto                40\n",
       "Fairview              37\n",
       "Portrane              35\n",
       "Stoneybatter          35\n",
       "Ongar                 30\n",
       "East Wall             26\n",
       "Firhouse              25\n",
       "Killester             24\n",
       "North Strand          22\n",
       "Donnycarney           17\n",
       "Islandbridge          10\n",
       "Ballyboden             3\n",
       "Name: Town, dtype: int64"
      ]
     },
     "execution_count": 7,
     "metadata": {},
     "output_type": "execute_result"
    }
   ],
   "source": [
    "dub['Town'].value_counts()"
   ]
  },
  {
   "cell_type": "code",
   "execution_count": 8,
   "id": "e0d96ac6",
   "metadata": {},
   "outputs": [],
   "source": [
    "dub1 = dub.groupby(\"Town\").filter(lambda x: len(x) > 50)\n",
    "lst = list(set(dub1['Town']))"
   ]
  },
  {
   "cell_type": "code",
   "execution_count": 9,
   "id": "6fa394c6",
   "metadata": {},
   "outputs": [],
   "source": [
    "mon1 = mon.loc[mon['Town'].isin(lst)]"
   ]
  },
  {
   "cell_type": "markdown",
   "id": "f45029d7",
   "metadata": {},
   "source": [
    "### Plot again..."
   ]
  },
  {
   "cell_type": "code",
   "execution_count": 10,
   "id": "c3aa2f05",
   "metadata": {},
   "outputs": [
    {
     "data": {
      "image/png": "[encoded data removed]",
      "text/plain": [
       "<Figure size 1440x576 with 2 Axes>"
      ]
     },
     "metadata": {},
     "output_type": "display_data"
    }
   ],
   "source": [
    "fig, (ax1, ax2) = plt.subplots(1,2, figsize=(20,8))\n",
    "dub1['Town'].value_counts().plot(kind='barh', color='goldenrod',\n",
    "                                 title='Number of properties sold in each selected area of Dublin 2014-2021', ax=ax1)\n",
    "mon1.plot.barh(x = 'Town', y = 'Change', ax= ax2, title='Mean Change in Price of Properties sold in each selected area of Dublin 2014-2021',\n",
    "             color='slateblue')\n",
    "plt.show()"
   ]
  },
  {
   "cell_type": "markdown",
   "id": "be9f2396",
   "metadata": {},
   "source": [
    "It definitely highlights that the lesser value counts of a town the seemingly larger increase in mean over this period. This would certainly fit into the issue of supply and demand with regards to housing here. We could maybe seek to trim this data even further down now."
   ]
  },
  {
   "cell_type": "code",
   "execution_count": 11,
   "id": "75aef521",
   "metadata": {},
   "outputs": [],
   "source": [
    "# 20000 is definitely a more noticeable increase\n",
    "mon2 = mon1.loc[mon1['Change'] > 10000]\n",
    "lst1 = list(set(mon2['Town']))"
   ]
  },
  {
   "cell_type": "code",
   "execution_count": 12,
   "id": "dacd509e",
   "metadata": {},
   "outputs": [],
   "source": [
    "dub2 = dub1.loc[dub1['Town'].isin(lst1)]"
   ]
  },
  {
   "cell_type": "markdown",
   "id": "82df9b31",
   "metadata": {},
   "source": [
    "### Let's plot again..."
   ]
  },
  {
   "cell_type": "code",
   "execution_count": 13,
   "id": "008400d9",
   "metadata": {},
   "outputs": [
    {
     "data": {
      "image/png": "[encoded data removed]",
      "text/plain": [
       "<Figure size 1440x576 with 2 Axes>"
      ]
     },
     "metadata": {},
     "output_type": "display_data"
    }
   ],
   "source": [
    "fig, (ax1, ax2) = plt.subplots(1,2, figsize=(20,8))\n",
    "dub2['Town'].value_counts().plot(kind='barh', color='mediumaquamarine',\n",
    "                                 title='Number of properties sold in each selected area of Dublin 2014-2021', ax=ax1)\n",
    "mon2.plot.barh(x = 'Town', y = 'Change', ax= ax2, title='Mean Change in Price of Properties sold in each selected area of Dublin 2014-2021',\n",
    "             color='lightskyblue')\n",
    "plt.show()"
   ]
  },
  {
   "cell_type": "markdown",
   "id": "42f44bfa",
   "metadata": {},
   "source": [
    "This should be definitely enough to work with going forward with reasonable numbers at both lower ends in each plot here."
   ]
  },
  {
   "cell_type": "code",
   "execution_count": 14,
   "id": "e438d98f",
   "metadata": {},
   "outputs": [
    {
     "data": {
      "text/html": [
       "<div>\n",
       "<style scoped>\n",
       "    .dataframe tbody tr th:only-of-type {\n",
       "        vertical-align: middle;\n",
       "    }\n",
       "\n",
       "    .dataframe tbody tr th {\n",
       "        vertical-align: top;\n",
       "    }\n",
       "\n",
       "    .dataframe thead th {\n",
       "        text-align: right;\n",
       "    }\n",
       "</style>\n",
       "<table border=\"1\" class=\"dataframe\">\n",
       "  <thead>\n",
       "    <tr style=\"text-align: right;\">\n",
       "      <th></th>\n",
       "      <th>Address</th>\n",
       "      <th>County</th>\n",
       "      <th>Price (€)</th>\n",
       "      <th>Not Full Market Price</th>\n",
       "      <th>VAT Exclusive</th>\n",
       "      <th>Description of Property</th>\n",
       "      <th>Property Size Description</th>\n",
       "      <th>Year</th>\n",
       "      <th>Month</th>\n",
       "      <th>Town</th>\n",
       "      <th>Region</th>\n",
       "      <th>Apartment</th>\n",
       "      <th>Neighbourhood</th>\n",
       "      <th>Province</th>\n",
       "      <th>Estate</th>\n",
       "      <th>PriceInflation</th>\n",
       "      <th>Eircode</th>\n",
       "    </tr>\n",
       "  </thead>\n",
       "  <tbody>\n",
       "    <tr>\n",
       "      <th>207901</th>\n",
       "      <td>55 College Square, Terenure</td>\n",
       "      <td>Dublin</td>\n",
       "      <td>447200.00</td>\n",
       "      <td>1</td>\n",
       "      <td>0</td>\n",
       "      <td>0</td>\n",
       "      <td>1</td>\n",
       "      <td>2014</td>\n",
       "      <td>1</td>\n",
       "      <td>Terenure</td>\n",
       "      <td>Dublin</td>\n",
       "      <td>0</td>\n",
       "      <td>College Square Terenure</td>\n",
       "      <td>Leinster</td>\n",
       "      <td>Estate</td>\n",
       "      <td>846407.80</td>\n",
       "      <td>D6W</td>\n",
       "    </tr>\n",
       "    <tr>\n",
       "      <th>207905</th>\n",
       "      <td>Number 7 Belfort House, Sydenham Villas, Dundrum</td>\n",
       "      <td>Dublin</td>\n",
       "      <td>398000.00</td>\n",
       "      <td>1</td>\n",
       "      <td>1</td>\n",
       "      <td>1</td>\n",
       "      <td>0</td>\n",
       "      <td>2014</td>\n",
       "      <td>1</td>\n",
       "      <td>Dundrum Dublin</td>\n",
       "      <td>Dublin</td>\n",
       "      <td>0</td>\n",
       "      <td>Sydenham Villas Dundrum Dublin</td>\n",
       "      <td>Leinster</td>\n",
       "      <td>Other</td>\n",
       "      <td>753287.80</td>\n",
       "      <td>A45</td>\n",
       "    </tr>\n",
       "    <tr>\n",
       "      <th>207913</th>\n",
       "      <td>33 Castlegate Green, Adamstown Castle, Adamstown</td>\n",
       "      <td>Dublin</td>\n",
       "      <td>193000.00</td>\n",
       "      <td>1</td>\n",
       "      <td>1</td>\n",
       "      <td>1</td>\n",
       "      <td>2</td>\n",
       "      <td>2014</td>\n",
       "      <td>1</td>\n",
       "      <td>Adamstown Dublin</td>\n",
       "      <td>Dublin</td>\n",
       "      <td>0</td>\n",
       "      <td>Adamstown Castle Adamstown Dublin</td>\n",
       "      <td>Leinster</td>\n",
       "      <td>Estate</td>\n",
       "      <td>365287.80</td>\n",
       "      <td>A42</td>\n",
       "    </tr>\n",
       "    <tr>\n",
       "      <th>207916</th>\n",
       "      <td>Apartment 16 Cedar Grove, Firhouse Road, Templ...</td>\n",
       "      <td>Dublin</td>\n",
       "      <td>196035.24</td>\n",
       "      <td>1</td>\n",
       "      <td>0</td>\n",
       "      <td>0</td>\n",
       "      <td>1</td>\n",
       "      <td>2014</td>\n",
       "      <td>1</td>\n",
       "      <td>Templeogue</td>\n",
       "      <td>Dublin</td>\n",
       "      <td>1</td>\n",
       "      <td>Firhouse Road Templeogue</td>\n",
       "      <td>Leinster</td>\n",
       "      <td>Other</td>\n",
       "      <td>371032.55</td>\n",
       "      <td>D6W</td>\n",
       "    </tr>\n",
       "    <tr>\n",
       "      <th>207922</th>\n",
       "      <td>3 Beverton Court, Donabate</td>\n",
       "      <td>Dublin</td>\n",
       "      <td>75000.00</td>\n",
       "      <td>1</td>\n",
       "      <td>1</td>\n",
       "      <td>1</td>\n",
       "      <td>1</td>\n",
       "      <td>2014</td>\n",
       "      <td>1</td>\n",
       "      <td>Donabate</td>\n",
       "      <td>Dublin</td>\n",
       "      <td>0</td>\n",
       "      <td>Beverton Court Donabate</td>\n",
       "      <td>Leinster</td>\n",
       "      <td>Estate</td>\n",
       "      <td>141951.22</td>\n",
       "      <td>K36</td>\n",
       "    </tr>\n",
       "  </tbody>\n",
       "</table>\n",
       "</div>"
      ],
      "text/plain": [
       "                                                  Address  County  Price (€)  \\\n",
       "207901                        55 College Square, Terenure  Dublin  447200.00   \n",
       "207905   Number 7 Belfort House, Sydenham Villas, Dundrum  Dublin  398000.00   \n",
       "207913   33 Castlegate Green, Adamstown Castle, Adamstown  Dublin  193000.00   \n",
       "207916  Apartment 16 Cedar Grove, Firhouse Road, Templ...  Dublin  196035.24   \n",
       "207922                         3 Beverton Court, Donabate  Dublin   75000.00   \n",
       "\n",
       "        Not Full Market Price  VAT Exclusive  Description of Property  \\\n",
       "207901                      1              0                        0   \n",
       "207905                      1              1                        1   \n",
       "207913                      1              1                        1   \n",
       "207916                      1              0                        0   \n",
       "207922                      1              1                        1   \n",
       "\n",
       "        Property Size Description  Year  Month              Town  Region  \\\n",
       "207901                          1  2014      1          Terenure  Dublin   \n",
       "207905                          0  2014      1    Dundrum Dublin  Dublin   \n",
       "207913                          2  2014      1  Adamstown Dublin  Dublin   \n",
       "207916                          1  2014      1        Templeogue  Dublin   \n",
       "207922                          1  2014      1          Donabate  Dublin   \n",
       "\n",
       "        Apartment                      Neighbourhood  Province  Estate  \\\n",
       "207901          0            College Square Terenure  Leinster  Estate   \n",
       "207905          0     Sydenham Villas Dundrum Dublin  Leinster   Other   \n",
       "207913          0  Adamstown Castle Adamstown Dublin  Leinster  Estate   \n",
       "207916          1           Firhouse Road Templeogue  Leinster   Other   \n",
       "207922          0            Beverton Court Donabate  Leinster  Estate   \n",
       "\n",
       "        PriceInflation Eircode  \n",
       "207901       846407.80     D6W  \n",
       "207905       753287.80     A45  \n",
       "207913       365287.80     A42  \n",
       "207916       371032.55     D6W  \n",
       "207922       141951.22     K36  "
      ]
     },
     "execution_count": 14,
     "metadata": {},
     "output_type": "execute_result"
    }
   ],
   "source": [
    "dub2.head()"
   ]
  },
  {
   "cell_type": "code",
   "execution_count": 15,
   "id": "2915de1f",
   "metadata": {},
   "outputs": [
    {
     "data": {
      "text/plain": [
       "(7587, 17)"
      ]
     },
     "execution_count": 15,
     "metadata": {},
     "output_type": "execute_result"
    }
   ],
   "source": [
    "dub2.shape"
   ]
  },
  {
   "cell_type": "code",
   "execution_count": 16,
   "id": "e9a37157",
   "metadata": {},
   "outputs": [],
   "source": [
    "# run again tonight\n",
    "from geopy.geocoders import Nominatim\n",
    "import time\n",
    "geolocator = Nominatim(user_agent = \"fyp\")\n",
    "add = np.array(dub2['Address'])\n",
    "add1 = np.array(dub2['Neighbourhood'])\n",
    "lat2 = []\n",
    "lon2 = []\n",
    "for i in range(len(add)):\n",
    "    time.sleep(1.6)\n",
    "    location = geolocator.geocode(add[i])\n",
    "    #print(location.address)\n",
    "    if location != None:\n",
    "        #print((location.latitude, location.longitude))\n",
    "        lat2.append(location.latitude)\n",
    "        lon2.append(location.longitude)\n",
    "    else:\n",
    "        location1 = geolocator.geocode(add1[i])\n",
    "        if location1 != None:\n",
    "            lat2.append(location1.latitude)\n",
    "            lon2.append(location1.longitude)\n",
    "        else:\n",
    "            lat2.append(\"None\")\n",
    "            lon2.append(\"None\")"
   ]
  },
  {
   "cell_type": "code",
   "execution_count": 17,
   "id": "cfc1372d",
   "metadata": {},
   "outputs": [],
   "source": [
    "#test11 = dub2.iloc[3439:]\n",
    "#test11['Latitude'] = lat2\n",
    "#test11['Longitude'] = lon2\n",
    "\n",
    "test11 = dub2.copy()\n",
    "test11['Latitude'] = lat2\n",
    "test11['Longitude'] = lon2"
   ]
  },
  {
   "cell_type": "code",
   "execution_count": 18,
   "id": "2d764915",
   "metadata": {},
   "outputs": [
    {
     "data": {
      "text/html": [
       "<div>\n",
       "<style scoped>\n",
       "    .dataframe tbody tr th:only-of-type {\n",
       "        vertical-align: middle;\n",
       "    }\n",
       "\n",
       "    .dataframe tbody tr th {\n",
       "        vertical-align: top;\n",
       "    }\n",
       "\n",
       "    .dataframe thead th {\n",
       "        text-align: right;\n",
       "    }\n",
       "</style>\n",
       "<table border=\"1\" class=\"dataframe\">\n",
       "  <thead>\n",
       "    <tr style=\"text-align: right;\">\n",
       "      <th></th>\n",
       "      <th>Address</th>\n",
       "      <th>County</th>\n",
       "      <th>Price (€)</th>\n",
       "      <th>Not Full Market Price</th>\n",
       "      <th>VAT Exclusive</th>\n",
       "      <th>Description of Property</th>\n",
       "      <th>Property Size Description</th>\n",
       "      <th>Year</th>\n",
       "      <th>Month</th>\n",
       "      <th>Town</th>\n",
       "      <th>Region</th>\n",
       "      <th>Apartment</th>\n",
       "      <th>Neighbourhood</th>\n",
       "      <th>Province</th>\n",
       "      <th>Estate</th>\n",
       "      <th>PriceInflation</th>\n",
       "      <th>Eircode</th>\n",
       "      <th>Latitude</th>\n",
       "      <th>Longitude</th>\n",
       "    </tr>\n",
       "  </thead>\n",
       "  <tbody>\n",
       "    <tr>\n",
       "      <th>207901</th>\n",
       "      <td>55 College Square, Terenure</td>\n",
       "      <td>Dublin</td>\n",
       "      <td>447200.00</td>\n",
       "      <td>1</td>\n",
       "      <td>0</td>\n",
       "      <td>0</td>\n",
       "      <td>1</td>\n",
       "      <td>2014</td>\n",
       "      <td>1</td>\n",
       "      <td>Terenure</td>\n",
       "      <td>Dublin</td>\n",
       "      <td>0</td>\n",
       "      <td>College Square Terenure</td>\n",
       "      <td>Leinster</td>\n",
       "      <td>Estate</td>\n",
       "      <td>846407.80</td>\n",
       "      <td>D6W</td>\n",
       "      <td>53.307878</td>\n",
       "      <td>-6.335665</td>\n",
       "    </tr>\n",
       "    <tr>\n",
       "      <th>207905</th>\n",
       "      <td>Number 7 Belfort House, Sydenham Villas, Dundrum</td>\n",
       "      <td>Dublin</td>\n",
       "      <td>398000.00</td>\n",
       "      <td>1</td>\n",
       "      <td>1</td>\n",
       "      <td>1</td>\n",
       "      <td>0</td>\n",
       "      <td>2014</td>\n",
       "      <td>1</td>\n",
       "      <td>Dundrum Dublin</td>\n",
       "      <td>Dublin</td>\n",
       "      <td>0</td>\n",
       "      <td>Sydenham Villas Dundrum Dublin</td>\n",
       "      <td>Leinster</td>\n",
       "      <td>Other</td>\n",
       "      <td>753287.80</td>\n",
       "      <td>A45</td>\n",
       "      <td>53.288227</td>\n",
       "      <td>-6.238896</td>\n",
       "    </tr>\n",
       "    <tr>\n",
       "      <th>207913</th>\n",
       "      <td>33 Castlegate Green, Adamstown Castle, Adamstown</td>\n",
       "      <td>Dublin</td>\n",
       "      <td>193000.00</td>\n",
       "      <td>1</td>\n",
       "      <td>1</td>\n",
       "      <td>1</td>\n",
       "      <td>2</td>\n",
       "      <td>2014</td>\n",
       "      <td>1</td>\n",
       "      <td>Adamstown Dublin</td>\n",
       "      <td>Dublin</td>\n",
       "      <td>0</td>\n",
       "      <td>Adamstown Castle Adamstown Dublin</td>\n",
       "      <td>Leinster</td>\n",
       "      <td>Estate</td>\n",
       "      <td>365287.80</td>\n",
       "      <td>A42</td>\n",
       "      <td>52.401129</td>\n",
       "      <td>-6.723196</td>\n",
       "    </tr>\n",
       "    <tr>\n",
       "      <th>207916</th>\n",
       "      <td>Apartment 16 Cedar Grove, Firhouse Road, Templ...</td>\n",
       "      <td>Dublin</td>\n",
       "      <td>196035.24</td>\n",
       "      <td>1</td>\n",
       "      <td>0</td>\n",
       "      <td>0</td>\n",
       "      <td>1</td>\n",
       "      <td>2014</td>\n",
       "      <td>1</td>\n",
       "      <td>Templeogue</td>\n",
       "      <td>Dublin</td>\n",
       "      <td>1</td>\n",
       "      <td>Firhouse Road Templeogue</td>\n",
       "      <td>Leinster</td>\n",
       "      <td>Other</td>\n",
       "      <td>371032.55</td>\n",
       "      <td>D6W</td>\n",
       "      <td>53.2916</td>\n",
       "      <td>-6.3124</td>\n",
       "    </tr>\n",
       "    <tr>\n",
       "      <th>207922</th>\n",
       "      <td>3 Beverton Court, Donabate</td>\n",
       "      <td>Dublin</td>\n",
       "      <td>75000.00</td>\n",
       "      <td>1</td>\n",
       "      <td>1</td>\n",
       "      <td>1</td>\n",
       "      <td>1</td>\n",
       "      <td>2014</td>\n",
       "      <td>1</td>\n",
       "      <td>Donabate</td>\n",
       "      <td>Dublin</td>\n",
       "      <td>0</td>\n",
       "      <td>Beverton Court Donabate</td>\n",
       "      <td>Leinster</td>\n",
       "      <td>Estate</td>\n",
       "      <td>141951.22</td>\n",
       "      <td>K36</td>\n",
       "      <td>None</td>\n",
       "      <td>None</td>\n",
       "    </tr>\n",
       "  </tbody>\n",
       "</table>\n",
       "</div>"
      ],
      "text/plain": [
       "                                                  Address  County  Price (€)  \\\n",
       "207901                        55 College Square, Terenure  Dublin  447200.00   \n",
       "207905   Number 7 Belfort House, Sydenham Villas, Dundrum  Dublin  398000.00   \n",
       "207913   33 Castlegate Green, Adamstown Castle, Adamstown  Dublin  193000.00   \n",
       "207916  Apartment 16 Cedar Grove, Firhouse Road, Templ...  Dublin  196035.24   \n",
       "207922                         3 Beverton Court, Donabate  Dublin   75000.00   \n",
       "\n",
       "        Not Full Market Price  VAT Exclusive  Description of Property  \\\n",
       "207901                      1              0                        0   \n",
       "207905                      1              1                        1   \n",
       "207913                      1              1                        1   \n",
       "207916                      1              0                        0   \n",
       "207922                      1              1                        1   \n",
       "\n",
       "        Property Size Description  Year  Month              Town  Region  \\\n",
       "207901                          1  2014      1          Terenure  Dublin   \n",
       "207905                          0  2014      1    Dundrum Dublin  Dublin   \n",
       "207913                          2  2014      1  Adamstown Dublin  Dublin   \n",
       "207916                          1  2014      1        Templeogue  Dublin   \n",
       "207922                          1  2014      1          Donabate  Dublin   \n",
       "\n",
       "        Apartment                      Neighbourhood  Province  Estate  \\\n",
       "207901          0            College Square Terenure  Leinster  Estate   \n",
       "207905          0     Sydenham Villas Dundrum Dublin  Leinster   Other   \n",
       "207913          0  Adamstown Castle Adamstown Dublin  Leinster  Estate   \n",
       "207916          1           Firhouse Road Templeogue  Leinster   Other   \n",
       "207922          0            Beverton Court Donabate  Leinster  Estate   \n",
       "\n",
       "        PriceInflation Eircode   Latitude Longitude  \n",
       "207901       846407.80     D6W  53.307878 -6.335665  \n",
       "207905       753287.80     A45  53.288227 -6.238896  \n",
       "207913       365287.80     A42  52.401129 -6.723196  \n",
       "207916       371032.55     D6W    53.2916   -6.3124  \n",
       "207922       141951.22     K36       None      None  "
      ]
     },
     "execution_count": 18,
     "metadata": {},
     "output_type": "execute_result"
    }
   ],
   "source": [
    "test11.head()"
   ]
  },
  {
   "cell_type": "code",
   "execution_count": 19,
   "id": "3aca402e",
   "metadata": {},
   "outputs": [],
   "source": [
    "#d14.to_csv('dubs-geo.csv')"
   ]
  },
  {
   "cell_type": "code",
   "execution_count": 20,
   "id": "016aef81",
   "metadata": {},
   "outputs": [
    {
     "data": {
      "text/plain": [
       "(2181, 19)"
      ]
     },
     "execution_count": 20,
     "metadata": {},
     "output_type": "execute_result"
    }
   ],
   "source": [
    "test11.loc[test11['Longitude'] == 'None'].shape"
   ]
  },
  {
   "cell_type": "code",
   "execution_count": 21,
   "id": "e9371027",
   "metadata": {},
   "outputs": [],
   "source": [
    "test12 = test11.loc[test11['Longitude'] != 'None']"
   ]
  },
  {
   "cell_type": "code",
   "execution_count": 22,
   "id": "ba5523ba",
   "metadata": {},
   "outputs": [
    {
     "data": {
      "text/plain": [
       "(5406, 19)"
      ]
     },
     "execution_count": 22,
     "metadata": {},
     "output_type": "execute_result"
    }
   ],
   "source": [
    "test12.shape"
   ]
  },
  {
   "cell_type": "code",
   "execution_count": 23,
   "id": "0bc0b349",
   "metadata": {},
   "outputs": [],
   "source": [
    "#test12.rename(columns={'Longitude': 'Latitude', 'Latitude': 'Longitude'}, inplace = True)"
   ]
  },
  {
   "cell_type": "code",
   "execution_count": 24,
   "id": "2487b186",
   "metadata": {},
   "outputs": [
    {
     "data": {
      "text/plain": [
       "-6.723196450000004"
      ]
     },
     "execution_count": 24,
     "metadata": {},
     "output_type": "execute_result"
    }
   ],
   "source": [
    "test12['Longitude'].min()"
   ]
  },
  {
   "cell_type": "markdown",
   "id": "5c71ec2b",
   "metadata": {},
   "source": [
    "### Distance IFSC"
   ]
  },
  {
   "cell_type": "code",
   "execution_count": 25,
   "id": "5d925cc8",
   "metadata": {},
   "outputs": [],
   "source": [
    "from math import radians, cos, sin, asin, sqrt\n",
    "def haversine(lon1, lat1, lon2, lat2):\n",
    "    \"\"\"\n",
    "    Calculate the great circle distance between two points \n",
    "    on the earth (specified in decimal degrees)\n",
    "    \"\"\"\n",
    "    # convert decimal degrees to radians \n",
    "    lon1, lat1, lon2, lat2 = map(radians, [lon1, lat1, lon2, lat2])\n",
    "    # haversine formula \n",
    "    dlon = lon2 - lon1 \n",
    "    dlat = lat2 - lat1 \n",
    "    a = sin(dlat/2)**2 + cos(lat1) * cos(lat2) * sin(dlon/2)**2\n",
    "    c = 2 * asin(sqrt(a)) \n",
    "    # Radius of earth in kilometers is 6371\n",
    "    km = 6371 * c\n",
    "    return km"
   ]
  },
  {
   "cell_type": "code",
   "execution_count": 26,
   "id": "46486368",
   "metadata": {},
   "outputs": [],
   "source": [
    "import geopy.distance\n",
    "lat_ifsc = 53.349394\n",
    "lon_ifsc = -6.245863\n",
    "vals = np.array(test12['Longitude'])\n",
    "vals1 = np.array(test12['Latitude'])\n",
    "distance = []\n",
    "for i in range(len(vals)):\n",
    "    co_ords_2 = (vals[i], vals1[i])\n",
    "    dist = haversine(lon_ifsc, lat_ifsc, vals[i], vals1[i])\n",
    "    distance.append(dist)"
   ]
  },
  {
   "cell_type": "code",
   "execution_count": 27,
   "id": "618deaed",
   "metadata": {},
   "outputs": [
    {
     "data": {
      "text/plain": [
       "351.9067475736433"
      ]
     },
     "execution_count": 27,
     "metadata": {},
     "output_type": "execute_result"
    }
   ],
   "source": [
    "max(distance)"
   ]
  },
  {
   "cell_type": "code",
   "execution_count": 28,
   "id": "39bb7985",
   "metadata": {},
   "outputs": [
    {
     "name": "stderr",
     "output_type": "stream",
     "text": [
      "C:\\Users\\user\\AppData\\Local\\Temp/ipykernel_14292/1839790477.py:1: SettingWithCopyWarning: \n",
      "A value is trying to be set on a copy of a slice from a DataFrame.\n",
      "Try using .loc[row_indexer,col_indexer] = value instead\n",
      "\n",
      "See the caveats in the documentation: https://pandas.pydata.org/pandas-docs/stable/user_guide/indexing.html#returning-a-view-versus-a-copy\n",
      "  test12['DistanceIFSC'] = distance\n"
     ]
    }
   ],
   "source": [
    "test12['DistanceIFSC'] = distance"
   ]
  },
  {
   "cell_type": "code",
   "execution_count": null,
   "id": "f173d02f",
   "metadata": {},
   "outputs": [],
   "source": [
    "test12 = test12.loc[test12['DistanceIFSC'] < 25]"
   ]
  },
  {
   "cell_type": "code",
   "execution_count": 29,
   "id": "66e033a8",
   "metadata": {},
   "outputs": [],
   "source": [
    "#test12.loc[test12['DistanceIFSC'] < 5]"
   ]
  },
  {
   "cell_type": "markdown",
   "id": "414dac1b",
   "metadata": {},
   "source": [
    "### Closest School"
   ]
  },
  {
   "cell_type": "code",
   "execution_count": 30,
   "id": "26538ec9",
   "metadata": {},
   "outputs": [],
   "source": [
    "prim = pd.read_csv('primary_schools_2013_2014.csv')"
   ]
  },
  {
   "cell_type": "code",
   "execution_count": 31,
   "id": "fd62cbd2",
   "metadata": {},
   "outputs": [
    {
     "data": {
      "text/html": [
       "<div>\n",
       "<style scoped>\n",
       "    .dataframe tbody tr th:only-of-type {\n",
       "        vertical-align: middle;\n",
       "    }\n",
       "\n",
       "    .dataframe tbody tr th {\n",
       "        vertical-align: top;\n",
       "    }\n",
       "\n",
       "    .dataframe thead th {\n",
       "        text-align: right;\n",
       "    }\n",
       "</style>\n",
       "<table border=\"1\" class=\"dataframe\">\n",
       "  <thead>\n",
       "    <tr style=\"text-align: right;\">\n",
       "      <th></th>\n",
       "      <th>AIRO_ID</th>\n",
       "      <th>Roll_No</th>\n",
       "      <th>Off_Name</th>\n",
       "      <th>Add_1</th>\n",
       "      <th>Add_2</th>\n",
       "      <th>Add_3</th>\n",
       "      <th>Add_4</th>\n",
       "      <th>County</th>\n",
       "      <th>Ethos</th>\n",
       "      <th>Island</th>\n",
       "      <th>DEIS</th>\n",
       "      <th>Gaeltacht</th>\n",
       "      <th>M_13_14</th>\n",
       "      <th>F_13_14</th>\n",
       "      <th>T_13_14</th>\n",
       "      <th>xcoord</th>\n",
       "      <th>ycoord</th>\n",
       "      <th>Long</th>\n",
       "      <th>Lat</th>\n",
       "    </tr>\n",
       "  </thead>\n",
       "  <tbody>\n",
       "    <tr>\n",
       "      <th>0</th>\n",
       "      <td>1</td>\n",
       "      <td>00651R</td>\n",
       "      <td>BORRIS MXD N S</td>\n",
       "      <td>BORRIS</td>\n",
       "      <td>CO CARLOW</td>\n",
       "      <td>NaN</td>\n",
       "      <td>NaN</td>\n",
       "      <td>Carlow</td>\n",
       "      <td>CATHOLIC</td>\n",
       "      <td>N</td>\n",
       "      <td>N</td>\n",
       "      <td>N</td>\n",
       "      <td>100</td>\n",
       "      <td>94</td>\n",
       "      <td>194</td>\n",
       "      <td>273199.0</td>\n",
       "      <td>150324.0</td>\n",
       "      <td>-6.91956</td>\n",
       "      <td>52.5993</td>\n",
       "    </tr>\n",
       "    <tr>\n",
       "      <th>1</th>\n",
       "      <td>2</td>\n",
       "      <td>00977B</td>\n",
       "      <td>BALLYCONNELL N S</td>\n",
       "      <td>Ballyconnell</td>\n",
       "      <td>Tullow</td>\n",
       "      <td>Co Carlow</td>\n",
       "      <td>NaN</td>\n",
       "      <td>Carlow</td>\n",
       "      <td>CATHOLIC</td>\n",
       "      <td>N</td>\n",
       "      <td>N</td>\n",
       "      <td>N</td>\n",
       "      <td>80</td>\n",
       "      <td>79</td>\n",
       "      <td>159</td>\n",
       "      <td>292481.0</td>\n",
       "      <td>174367.0</td>\n",
       "      <td>-6.62828</td>\n",
       "      <td>52.8124</td>\n",
       "    </tr>\n",
       "    <tr>\n",
       "      <th>2</th>\n",
       "      <td>3</td>\n",
       "      <td>01116A</td>\n",
       "      <td>BAILE AN CHUILINN N S</td>\n",
       "      <td>MUINEBEAG</td>\n",
       "      <td>CO CARLOW</td>\n",
       "      <td>NaN</td>\n",
       "      <td>NaN</td>\n",
       "      <td>Carlow</td>\n",
       "      <td>CATHOLIC</td>\n",
       "      <td>N</td>\n",
       "      <td>N</td>\n",
       "      <td>N</td>\n",
       "      <td>56</td>\n",
       "      <td>55</td>\n",
       "      <td>111</td>\n",
       "      <td>272463.0</td>\n",
       "      <td>155784.0</td>\n",
       "      <td>-6.92923</td>\n",
       "      <td>52.6485</td>\n",
       "    </tr>\n",
       "    <tr>\n",
       "      <th>3</th>\n",
       "      <td>4</td>\n",
       "      <td>01215C</td>\n",
       "      <td>NEWTOWN DUNLECKNEY MXD</td>\n",
       "      <td>MUINEBEAG</td>\n",
       "      <td>CO CARLOW</td>\n",
       "      <td>NaN</td>\n",
       "      <td>NaN</td>\n",
       "      <td>Carlow</td>\n",
       "      <td>CATHOLIC</td>\n",
       "      <td>N</td>\n",
       "      <td>N</td>\n",
       "      <td>N</td>\n",
       "      <td>69</td>\n",
       "      <td>61</td>\n",
       "      <td>130</td>\n",
       "      <td>275959.0</td>\n",
       "      <td>164072.0</td>\n",
       "      <td>-6.87567</td>\n",
       "      <td>52.7225</td>\n",
       "    </tr>\n",
       "    <tr>\n",
       "      <th>4</th>\n",
       "      <td>5</td>\n",
       "      <td>01415K</td>\n",
       "      <td>RATHOE NS</td>\n",
       "      <td>RATHOE</td>\n",
       "      <td>CO CARLOW</td>\n",
       "      <td>NaN</td>\n",
       "      <td>NaN</td>\n",
       "      <td>Carlow</td>\n",
       "      <td>CATHOLIC</td>\n",
       "      <td>N</td>\n",
       "      <td>N</td>\n",
       "      <td>N</td>\n",
       "      <td>92</td>\n",
       "      <td>86</td>\n",
       "      <td>178</td>\n",
       "      <td>281027.0</td>\n",
       "      <td>171359.0</td>\n",
       "      <td>-6.79887</td>\n",
       "      <td>52.7872</td>\n",
       "    </tr>\n",
       "  </tbody>\n",
       "</table>\n",
       "</div>"
      ],
      "text/plain": [
       "   AIRO_ID Roll_No                Off_Name         Add_1      Add_2  \\\n",
       "0        1  00651R          BORRIS MXD N S        BORRIS  CO CARLOW   \n",
       "1        2  00977B        BALLYCONNELL N S  Ballyconnell     Tullow   \n",
       "2        3  01116A   BAILE AN CHUILINN N S     MUINEBEAG  CO CARLOW   \n",
       "3        4  01215C  NEWTOWN DUNLECKNEY MXD     MUINEBEAG  CO CARLOW   \n",
       "4        5  01415K               RATHOE NS        RATHOE  CO CARLOW   \n",
       "\n",
       "       Add_3 Add_4  County     Ethos Island DEIS Gaeltacht  M_13_14  F_13_14  \\\n",
       "0        NaN   NaN  Carlow  CATHOLIC      N    N         N      100       94   \n",
       "1  Co Carlow   NaN  Carlow  CATHOLIC      N    N         N       80       79   \n",
       "2        NaN   NaN  Carlow  CATHOLIC      N    N         N       56       55   \n",
       "3        NaN   NaN  Carlow  CATHOLIC      N    N         N       69       61   \n",
       "4        NaN   NaN  Carlow  CATHOLIC      N    N         N       92       86   \n",
       "\n",
       "   T_13_14    xcoord    ycoord     Long      Lat  \n",
       "0      194  273199.0  150324.0 -6.91956  52.5993  \n",
       "1      159  292481.0  174367.0 -6.62828  52.8124  \n",
       "2      111  272463.0  155784.0 -6.92923  52.6485  \n",
       "3      130  275959.0  164072.0 -6.87567  52.7225  \n",
       "4      178  281027.0  171359.0 -6.79887  52.7872  "
      ]
     },
     "execution_count": 31,
     "metadata": {},
     "output_type": "execute_result"
    }
   ],
   "source": [
    "prim.head()"
   ]
  },
  {
   "cell_type": "code",
   "execution_count": 32,
   "id": "b08c5135",
   "metadata": {},
   "outputs": [],
   "source": [
    "prim = prim.loc[prim['County'] == 'Dublin']"
   ]
  },
  {
   "cell_type": "code",
   "execution_count": 33,
   "id": "09a2cb96",
   "metadata": {},
   "outputs": [],
   "source": [
    "prim = prim[['Off_Name', 'Add_1', 'County', 'Ethos', 'Long', 'Lat']]"
   ]
  },
  {
   "cell_type": "code",
   "execution_count": 34,
   "id": "40982107",
   "metadata": {},
   "outputs": [
    {
     "data": {
      "text/html": [
       "<div>\n",
       "<style scoped>\n",
       "    .dataframe tbody tr th:only-of-type {\n",
       "        vertical-align: middle;\n",
       "    }\n",
       "\n",
       "    .dataframe tbody tr th {\n",
       "        vertical-align: top;\n",
       "    }\n",
       "\n",
       "    .dataframe thead th {\n",
       "        text-align: right;\n",
       "    }\n",
       "</style>\n",
       "<table border=\"1\" class=\"dataframe\">\n",
       "  <thead>\n",
       "    <tr style=\"text-align: right;\">\n",
       "      <th></th>\n",
       "      <th>Off_Name</th>\n",
       "      <th>Add_1</th>\n",
       "      <th>County</th>\n",
       "      <th>Ethos</th>\n",
       "      <th>Long</th>\n",
       "      <th>Lat</th>\n",
       "    </tr>\n",
       "  </thead>\n",
       "  <tbody>\n",
       "    <tr>\n",
       "      <th>752</th>\n",
       "      <td>CENTRAL SENIOR MXD N S</td>\n",
       "      <td>MARLBORO ST</td>\n",
       "      <td>Dublin</td>\n",
       "      <td>CATHOLIC</td>\n",
       "      <td>-6.25505</td>\n",
       "      <td>53.3512</td>\n",
       "    </tr>\n",
       "    <tr>\n",
       "      <th>753</th>\n",
       "      <td>CENTRAL INFS SCHOOL</td>\n",
       "      <td>MARLBORO ST</td>\n",
       "      <td>Dublin</td>\n",
       "      <td>CATHOLIC</td>\n",
       "      <td>-6.25492</td>\n",
       "      <td>53.3510</td>\n",
       "    </tr>\n",
       "    <tr>\n",
       "      <th>754</th>\n",
       "      <td>NAOMH PADRAIG BOYS</td>\n",
       "      <td>CAMBRIDGE ROAD</td>\n",
       "      <td>Dublin</td>\n",
       "      <td>CATHOLIC</td>\n",
       "      <td>-6.22435</td>\n",
       "      <td>53.3432</td>\n",
       "    </tr>\n",
       "    <tr>\n",
       "      <th>755</th>\n",
       "      <td>SCOIL AN CROI NAOFA</td>\n",
       "      <td>GLASNEVIN</td>\n",
       "      <td>Dublin</td>\n",
       "      <td>CATHOLIC</td>\n",
       "      <td>-6.27337</td>\n",
       "      <td>53.3839</td>\n",
       "    </tr>\n",
       "    <tr>\n",
       "      <th>756</th>\n",
       "      <td>PRESENTATION PRIMARY SCHOOL</td>\n",
       "      <td>GEORGES HILL</td>\n",
       "      <td>Dublin</td>\n",
       "      <td>CATHOLIC</td>\n",
       "      <td>-6.27083</td>\n",
       "      <td>53.3481</td>\n",
       "    </tr>\n",
       "    <tr>\n",
       "      <th>...</th>\n",
       "      <td>...</td>\n",
       "      <td>...</td>\n",
       "      <td>...</td>\n",
       "      <td>...</td>\n",
       "      <td>...</td>\n",
       "      <td>...</td>\n",
       "    </tr>\n",
       "    <tr>\n",
       "      <th>1187</th>\n",
       "      <td>Scoil Niamh Community National School</td>\n",
       "      <td>Fortunestown Lane</td>\n",
       "      <td>Dublin</td>\n",
       "      <td>MULTI DENOMINATIONAL</td>\n",
       "      <td>-6.43635</td>\n",
       "      <td>53.2838</td>\n",
       "    </tr>\n",
       "    <tr>\n",
       "      <th>1188</th>\n",
       "      <td>City West Educate Together National School</td>\n",
       "      <td>City West</td>\n",
       "      <td>Dublin</td>\n",
       "      <td>MULTI DENOMINATIONAL</td>\n",
       "      <td>-6.43635</td>\n",
       "      <td>53.2838</td>\n",
       "    </tr>\n",
       "    <tr>\n",
       "      <th>1189</th>\n",
       "      <td>Firhouse Educate Together National School</td>\n",
       "      <td>c/o Tymon Bawn Community Centre</td>\n",
       "      <td>Dublin</td>\n",
       "      <td>MULTI DENOMINATIONAL</td>\n",
       "      <td>-6.36575</td>\n",
       "      <td>53.2754</td>\n",
       "    </tr>\n",
       "    <tr>\n",
       "      <th>1190</th>\n",
       "      <td>Gaelscoil na Giúise</td>\n",
       "      <td>Ionad Pobail Theach na Giúise</td>\n",
       "      <td>Dublin</td>\n",
       "      <td>MULTI DENOMINATIONAL</td>\n",
       "      <td>-6.33773</td>\n",
       "      <td>53.2767</td>\n",
       "    </tr>\n",
       "    <tr>\n",
       "      <th>1191</th>\n",
       "      <td>Scoil Oscair</td>\n",
       "      <td>Tor na Rí Walk</td>\n",
       "      <td>Dublin</td>\n",
       "      <td>MULTI DENOMINATIONAL</td>\n",
       "      <td>-6.41909</td>\n",
       "      <td>53.3389</td>\n",
       "    </tr>\n",
       "  </tbody>\n",
       "</table>\n",
       "<p>440 rows × 6 columns</p>\n",
       "</div>"
      ],
      "text/plain": [
       "                                        Off_Name  \\\n",
       "752                       CENTRAL SENIOR MXD N S   \n",
       "753                          CENTRAL INFS SCHOOL   \n",
       "754                           NAOMH PADRAIG BOYS   \n",
       "755                          SCOIL AN CROI NAOFA   \n",
       "756                  PRESENTATION PRIMARY SCHOOL   \n",
       "...                                          ...   \n",
       "1187       Scoil Niamh Community National School   \n",
       "1188  City West Educate Together National School   \n",
       "1189   Firhouse Educate Together National School   \n",
       "1190                         Gaelscoil na Giúise   \n",
       "1191                                Scoil Oscair   \n",
       "\n",
       "                                Add_1  County                 Ethos     Long  \\\n",
       "752                       MARLBORO ST  Dublin              CATHOLIC -6.25505   \n",
       "753                       MARLBORO ST  Dublin              CATHOLIC -6.25492   \n",
       "754                    CAMBRIDGE ROAD  Dublin              CATHOLIC -6.22435   \n",
       "755                         GLASNEVIN  Dublin              CATHOLIC -6.27337   \n",
       "756                      GEORGES HILL  Dublin              CATHOLIC -6.27083   \n",
       "...                               ...     ...                   ...      ...   \n",
       "1187                Fortunestown Lane  Dublin  MULTI DENOMINATIONAL -6.43635   \n",
       "1188                        City West  Dublin  MULTI DENOMINATIONAL -6.43635   \n",
       "1189  c/o Tymon Bawn Community Centre  Dublin  MULTI DENOMINATIONAL -6.36575   \n",
       "1190    Ionad Pobail Theach na Giúise  Dublin  MULTI DENOMINATIONAL -6.33773   \n",
       "1191                   Tor na Rí Walk  Dublin  MULTI DENOMINATIONAL -6.41909   \n",
       "\n",
       "          Lat  \n",
       "752   53.3512  \n",
       "753   53.3510  \n",
       "754   53.3432  \n",
       "755   53.3839  \n",
       "756   53.3481  \n",
       "...       ...  \n",
       "1187  53.2838  \n",
       "1188  53.2838  \n",
       "1189  53.2754  \n",
       "1190  53.2767  \n",
       "1191  53.3389  \n",
       "\n",
       "[440 rows x 6 columns]"
      ]
     },
     "execution_count": 34,
     "metadata": {},
     "output_type": "execute_result"
    }
   ],
   "source": [
    "prim"
   ]
  },
  {
   "cell_type": "code",
   "execution_count": 56,
   "id": "70e9fa22",
   "metadata": {},
   "outputs": [],
   "source": [
    "vals = np.array(test12['Longitude'])\n",
    "vals1 = np.array(test12['Latitude'])\n",
    "schoollon = np.array(prim['Long'])\n",
    "schoollat = np.array(prim['Lat'])\n",
    "distance = []\n",
    "for i in range(len(vals)):\n",
    "    lat1 = vals1[i]\n",
    "    lon1 = vals[i]\n",
    "    distances = []\n",
    "    for j in range(len(schoollat)): # B\n",
    "        lat2 = schoollat[j]\n",
    "        lon2 = schoollon[j]\n",
    "        dist = haversine(lon1, lat1, lon2, lat2)\n",
    "        distances.append(dist)\n",
    "\n",
    "    min_distance = min(distances)\n",
    "    distance.append(min_distance)\n",
    "    #min_index = distances.index(min_distance)"
   ]
  },
  {
   "cell_type": "code",
   "execution_count": 57,
   "id": "3c2edb7a",
   "metadata": {},
   "outputs": [
    {
     "data": {
      "text/plain": [
       "5386"
      ]
     },
     "execution_count": 57,
     "metadata": {},
     "output_type": "execute_result"
    }
   ],
   "source": [
    "len(distance)"
   ]
  },
  {
   "cell_type": "code",
   "execution_count": 58,
   "id": "77abaecb",
   "metadata": {},
   "outputs": [
    {
     "data": {
      "text/plain": [
       "(5386, 17)"
      ]
     },
     "execution_count": 58,
     "metadata": {},
     "output_type": "execute_result"
    }
   ],
   "source": [
    "test12.shape"
   ]
  },
  {
   "cell_type": "code",
   "execution_count": 59,
   "id": "59b58a64",
   "metadata": {},
   "outputs": [],
   "source": [
    "test12['DistanceSchool'] = distance"
   ]
  },
  {
   "cell_type": "code",
   "execution_count": 60,
   "id": "d50e15ba",
   "metadata": {},
   "outputs": [
    {
     "data": {
      "text/html": [
       "<div>\n",
       "<style scoped>\n",
       "    .dataframe tbody tr th:only-of-type {\n",
       "        vertical-align: middle;\n",
       "    }\n",
       "\n",
       "    .dataframe tbody tr th {\n",
       "        vertical-align: top;\n",
       "    }\n",
       "\n",
       "    .dataframe thead th {\n",
       "        text-align: right;\n",
       "    }\n",
       "</style>\n",
       "<table border=\"1\" class=\"dataframe\">\n",
       "  <thead>\n",
       "    <tr style=\"text-align: right;\">\n",
       "      <th></th>\n",
       "      <th>Address</th>\n",
       "      <th>County</th>\n",
       "      <th>Price (€)</th>\n",
       "      <th>VAT Exclusive</th>\n",
       "      <th>Description of Property</th>\n",
       "      <th>Property Size Description</th>\n",
       "      <th>Year</th>\n",
       "      <th>Month</th>\n",
       "      <th>Town</th>\n",
       "      <th>Apartment</th>\n",
       "      <th>Neighbourhood</th>\n",
       "      <th>PriceInflation</th>\n",
       "      <th>Eircode</th>\n",
       "      <th>Latitude</th>\n",
       "      <th>Longitude</th>\n",
       "      <th>DistanceIFSC</th>\n",
       "      <th>DistanceSchool</th>\n",
       "    </tr>\n",
       "  </thead>\n",
       "  <tbody>\n",
       "    <tr>\n",
       "      <th>207901</th>\n",
       "      <td>55 College Square, Terenure</td>\n",
       "      <td>Dublin</td>\n",
       "      <td>447200.00</td>\n",
       "      <td>0</td>\n",
       "      <td>0</td>\n",
       "      <td>1</td>\n",
       "      <td>2014</td>\n",
       "      <td>1</td>\n",
       "      <td>Terenure</td>\n",
       "      <td>0</td>\n",
       "      <td>College Square Terenure</td>\n",
       "      <td>846407.80</td>\n",
       "      <td>D6W</td>\n",
       "      <td>53.307878</td>\n",
       "      <td>-6.335665</td>\n",
       "      <td>7.541595</td>\n",
       "      <td>0.492120</td>\n",
       "    </tr>\n",
       "    <tr>\n",
       "      <th>207905</th>\n",
       "      <td>Number 7 Belfort House, Sydenham Villas, Dundrum</td>\n",
       "      <td>Dublin</td>\n",
       "      <td>398000.00</td>\n",
       "      <td>1</td>\n",
       "      <td>1</td>\n",
       "      <td>0</td>\n",
       "      <td>2014</td>\n",
       "      <td>1</td>\n",
       "      <td>Dundrum Dublin</td>\n",
       "      <td>0</td>\n",
       "      <td>Sydenham Villas Dundrum Dublin</td>\n",
       "      <td>753287.80</td>\n",
       "      <td>A45</td>\n",
       "      <td>53.288227</td>\n",
       "      <td>-6.238896</td>\n",
       "      <td>6.817210</td>\n",
       "      <td>0.100996</td>\n",
       "    </tr>\n",
       "    <tr>\n",
       "      <th>207916</th>\n",
       "      <td>Apartment 16 Cedar Grove, Firhouse Road, Templ...</td>\n",
       "      <td>Dublin</td>\n",
       "      <td>196035.24</td>\n",
       "      <td>0</td>\n",
       "      <td>0</td>\n",
       "      <td>1</td>\n",
       "      <td>2014</td>\n",
       "      <td>1</td>\n",
       "      <td>Templeogue</td>\n",
       "      <td>1</td>\n",
       "      <td>Firhouse Road Templeogue</td>\n",
       "      <td>371032.55</td>\n",
       "      <td>D6W</td>\n",
       "      <td>53.2916</td>\n",
       "      <td>-6.3124</td>\n",
       "      <td>7.799393</td>\n",
       "      <td>0.683556</td>\n",
       "    </tr>\n",
       "    <tr>\n",
       "      <th>207925</th>\n",
       "      <td>75 Palmerstown Avenue, Palmerstown</td>\n",
       "      <td>Dublin</td>\n",
       "      <td>95000.00</td>\n",
       "      <td>1</td>\n",
       "      <td>1</td>\n",
       "      <td>1</td>\n",
       "      <td>2014</td>\n",
       "      <td>1</td>\n",
       "      <td>Palmerstown</td>\n",
       "      <td>0</td>\n",
       "      <td>Palmerstown Avenue Palmerstown</td>\n",
       "      <td>179804.88</td>\n",
       "      <td>D20</td>\n",
       "      <td>53.353853</td>\n",
       "      <td>-6.372213</td>\n",
       "      <td>8.400802</td>\n",
       "      <td>0.319564</td>\n",
       "    </tr>\n",
       "    <tr>\n",
       "      <th>207929</th>\n",
       "      <td>17 Churchview Apts, Church Rd, Drumcondra</td>\n",
       "      <td>Dublin</td>\n",
       "      <td>152000.00</td>\n",
       "      <td>1</td>\n",
       "      <td>1</td>\n",
       "      <td>2</td>\n",
       "      <td>2014</td>\n",
       "      <td>1</td>\n",
       "      <td>Drumcondra</td>\n",
       "      <td>1</td>\n",
       "      <td>Church Road Drumcondra</td>\n",
       "      <td>287687.80</td>\n",
       "      <td>D09</td>\n",
       "      <td>53.366311</td>\n",
       "      <td>-6.263792</td>\n",
       "      <td>2.225835</td>\n",
       "      <td>0.085034</td>\n",
       "    </tr>\n",
       "  </tbody>\n",
       "</table>\n",
       "</div>"
      ],
      "text/plain": [
       "                                                  Address  County  Price (€)  \\\n",
       "207901                        55 College Square, Terenure  Dublin  447200.00   \n",
       "207905   Number 7 Belfort House, Sydenham Villas, Dundrum  Dublin  398000.00   \n",
       "207916  Apartment 16 Cedar Grove, Firhouse Road, Templ...  Dublin  196035.24   \n",
       "207925                 75 Palmerstown Avenue, Palmerstown  Dublin   95000.00   \n",
       "207929          17 Churchview Apts, Church Rd, Drumcondra  Dublin  152000.00   \n",
       "\n",
       "        VAT Exclusive  Description of Property  Property Size Description  \\\n",
       "207901              0                        0                          1   \n",
       "207905              1                        1                          0   \n",
       "207916              0                        0                          1   \n",
       "207925              1                        1                          1   \n",
       "207929              1                        1                          2   \n",
       "\n",
       "        Year  Month            Town  Apartment  \\\n",
       "207901  2014      1        Terenure          0   \n",
       "207905  2014      1  Dundrum Dublin          0   \n",
       "207916  2014      1      Templeogue          1   \n",
       "207925  2014      1     Palmerstown          0   \n",
       "207929  2014      1      Drumcondra          1   \n",
       "\n",
       "                         Neighbourhood  PriceInflation Eircode   Latitude  \\\n",
       "207901         College Square Terenure       846407.80     D6W  53.307878   \n",
       "207905  Sydenham Villas Dundrum Dublin       753287.80     A45  53.288227   \n",
       "207916        Firhouse Road Templeogue       371032.55     D6W    53.2916   \n",
       "207925  Palmerstown Avenue Palmerstown       179804.88     D20  53.353853   \n",
       "207929          Church Road Drumcondra       287687.80     D09  53.366311   \n",
       "\n",
       "       Longitude  DistanceIFSC  DistanceSchool  \n",
       "207901 -6.335665      7.541595        0.492120  \n",
       "207905 -6.238896      6.817210        0.100996  \n",
       "207916   -6.3124      7.799393        0.683556  \n",
       "207925 -6.372213      8.400802        0.319564  \n",
       "207929 -6.263792      2.225835        0.085034  "
      ]
     },
     "execution_count": 60,
     "metadata": {},
     "output_type": "execute_result"
    }
   ],
   "source": [
    "test12.head()"
   ]
  },
  {
   "cell_type": "code",
   "execution_count": 61,
   "id": "8dace170",
   "metadata": {},
   "outputs": [
    {
     "data": {
      "text/plain": [
       "Index(['Address', 'County', 'Price (€)', 'VAT Exclusive',\n",
       "       'Description of Property', 'Property Size Description', 'Year', 'Month',\n",
       "       'Town', 'Apartment', 'Neighbourhood', 'PriceInflation', 'Eircode',\n",
       "       'Latitude', 'Longitude', 'DistanceIFSC', 'DistanceSchool'],\n",
       "      dtype='object')"
      ]
     },
     "execution_count": 61,
     "metadata": {},
     "output_type": "execute_result"
    }
   ],
   "source": [
    "test12.columns"
   ]
  },
  {
   "cell_type": "code",
   "execution_count": 41,
   "id": "ef621107",
   "metadata": {},
   "outputs": [
    {
     "name": "stderr",
     "output_type": "stream",
     "text": [
      "C:\\Users\\user\\anaconda3\\lib\\site-packages\\pandas\\core\\frame.py:4906: SettingWithCopyWarning: \n",
      "A value is trying to be set on a copy of a slice from a DataFrame\n",
      "\n",
      "See the caveats in the documentation: https://pandas.pydata.org/pandas-docs/stable/user_guide/indexing.html#returning-a-view-versus-a-copy\n",
      "  return super().drop(\n"
     ]
    }
   ],
   "source": [
    "test12.drop(columns = ['Estate', 'Not Full Market Price', 'Region', 'Province'], inplace = True)"
   ]
  },
  {
   "cell_type": "code",
   "execution_count": 62,
   "id": "f7974f0f",
   "metadata": {},
   "outputs": [
    {
     "data": {
      "text/html": [
       "<div>\n",
       "<style scoped>\n",
       "    .dataframe tbody tr th:only-of-type {\n",
       "        vertical-align: middle;\n",
       "    }\n",
       "\n",
       "    .dataframe tbody tr th {\n",
       "        vertical-align: top;\n",
       "    }\n",
       "\n",
       "    .dataframe thead th {\n",
       "        text-align: right;\n",
       "    }\n",
       "</style>\n",
       "<table border=\"1\" class=\"dataframe\">\n",
       "  <thead>\n",
       "    <tr style=\"text-align: right;\">\n",
       "      <th></th>\n",
       "      <th>Address</th>\n",
       "      <th>County</th>\n",
       "      <th>Price (€)</th>\n",
       "      <th>VAT Exclusive</th>\n",
       "      <th>Description of Property</th>\n",
       "      <th>Property Size Description</th>\n",
       "      <th>Year</th>\n",
       "      <th>Month</th>\n",
       "      <th>Town</th>\n",
       "      <th>Apartment</th>\n",
       "      <th>Neighbourhood</th>\n",
       "      <th>PriceInflation</th>\n",
       "      <th>Eircode</th>\n",
       "      <th>Latitude</th>\n",
       "      <th>Longitude</th>\n",
       "      <th>DistanceIFSC</th>\n",
       "      <th>DistanceSchool</th>\n",
       "    </tr>\n",
       "  </thead>\n",
       "  <tbody>\n",
       "    <tr>\n",
       "      <th>207901</th>\n",
       "      <td>55 College Square, Terenure</td>\n",
       "      <td>Dublin</td>\n",
       "      <td>447200.00</td>\n",
       "      <td>0</td>\n",
       "      <td>0</td>\n",
       "      <td>1</td>\n",
       "      <td>2014</td>\n",
       "      <td>1</td>\n",
       "      <td>Terenure</td>\n",
       "      <td>0</td>\n",
       "      <td>College Square Terenure</td>\n",
       "      <td>846407.80</td>\n",
       "      <td>D6W</td>\n",
       "      <td>53.307878</td>\n",
       "      <td>-6.335665</td>\n",
       "      <td>7.541595</td>\n",
       "      <td>0.492120</td>\n",
       "    </tr>\n",
       "    <tr>\n",
       "      <th>207905</th>\n",
       "      <td>Number 7 Belfort House, Sydenham Villas, Dundrum</td>\n",
       "      <td>Dublin</td>\n",
       "      <td>398000.00</td>\n",
       "      <td>1</td>\n",
       "      <td>1</td>\n",
       "      <td>0</td>\n",
       "      <td>2014</td>\n",
       "      <td>1</td>\n",
       "      <td>Dundrum Dublin</td>\n",
       "      <td>0</td>\n",
       "      <td>Sydenham Villas Dundrum Dublin</td>\n",
       "      <td>753287.80</td>\n",
       "      <td>A45</td>\n",
       "      <td>53.288227</td>\n",
       "      <td>-6.238896</td>\n",
       "      <td>6.817210</td>\n",
       "      <td>0.100996</td>\n",
       "    </tr>\n",
       "    <tr>\n",
       "      <th>207916</th>\n",
       "      <td>Apartment 16 Cedar Grove, Firhouse Road, Templ...</td>\n",
       "      <td>Dublin</td>\n",
       "      <td>196035.24</td>\n",
       "      <td>0</td>\n",
       "      <td>0</td>\n",
       "      <td>1</td>\n",
       "      <td>2014</td>\n",
       "      <td>1</td>\n",
       "      <td>Templeogue</td>\n",
       "      <td>1</td>\n",
       "      <td>Firhouse Road Templeogue</td>\n",
       "      <td>371032.55</td>\n",
       "      <td>D6W</td>\n",
       "      <td>53.2916</td>\n",
       "      <td>-6.3124</td>\n",
       "      <td>7.799393</td>\n",
       "      <td>0.683556</td>\n",
       "    </tr>\n",
       "    <tr>\n",
       "      <th>207925</th>\n",
       "      <td>75 Palmerstown Avenue, Palmerstown</td>\n",
       "      <td>Dublin</td>\n",
       "      <td>95000.00</td>\n",
       "      <td>1</td>\n",
       "      <td>1</td>\n",
       "      <td>1</td>\n",
       "      <td>2014</td>\n",
       "      <td>1</td>\n",
       "      <td>Palmerstown</td>\n",
       "      <td>0</td>\n",
       "      <td>Palmerstown Avenue Palmerstown</td>\n",
       "      <td>179804.88</td>\n",
       "      <td>D20</td>\n",
       "      <td>53.353853</td>\n",
       "      <td>-6.372213</td>\n",
       "      <td>8.400802</td>\n",
       "      <td>0.319564</td>\n",
       "    </tr>\n",
       "    <tr>\n",
       "      <th>207929</th>\n",
       "      <td>17 Churchview Apts, Church Rd, Drumcondra</td>\n",
       "      <td>Dublin</td>\n",
       "      <td>152000.00</td>\n",
       "      <td>1</td>\n",
       "      <td>1</td>\n",
       "      <td>2</td>\n",
       "      <td>2014</td>\n",
       "      <td>1</td>\n",
       "      <td>Drumcondra</td>\n",
       "      <td>1</td>\n",
       "      <td>Church Road Drumcondra</td>\n",
       "      <td>287687.80</td>\n",
       "      <td>D09</td>\n",
       "      <td>53.366311</td>\n",
       "      <td>-6.263792</td>\n",
       "      <td>2.225835</td>\n",
       "      <td>0.085034</td>\n",
       "    </tr>\n",
       "  </tbody>\n",
       "</table>\n",
       "</div>"
      ],
      "text/plain": [
       "                                                  Address  County  Price (€)  \\\n",
       "207901                        55 College Square, Terenure  Dublin  447200.00   \n",
       "207905   Number 7 Belfort House, Sydenham Villas, Dundrum  Dublin  398000.00   \n",
       "207916  Apartment 16 Cedar Grove, Firhouse Road, Templ...  Dublin  196035.24   \n",
       "207925                 75 Palmerstown Avenue, Palmerstown  Dublin   95000.00   \n",
       "207929          17 Churchview Apts, Church Rd, Drumcondra  Dublin  152000.00   \n",
       "\n",
       "        VAT Exclusive  Description of Property  Property Size Description  \\\n",
       "207901              0                        0                          1   \n",
       "207905              1                        1                          0   \n",
       "207916              0                        0                          1   \n",
       "207925              1                        1                          1   \n",
       "207929              1                        1                          2   \n",
       "\n",
       "        Year  Month            Town  Apartment  \\\n",
       "207901  2014      1        Terenure          0   \n",
       "207905  2014      1  Dundrum Dublin          0   \n",
       "207916  2014      1      Templeogue          1   \n",
       "207925  2014      1     Palmerstown          0   \n",
       "207929  2014      1      Drumcondra          1   \n",
       "\n",
       "                         Neighbourhood  PriceInflation Eircode   Latitude  \\\n",
       "207901         College Square Terenure       846407.80     D6W  53.307878   \n",
       "207905  Sydenham Villas Dundrum Dublin       753287.80     A45  53.288227   \n",
       "207916        Firhouse Road Templeogue       371032.55     D6W    53.2916   \n",
       "207925  Palmerstown Avenue Palmerstown       179804.88     D20  53.353853   \n",
       "207929          Church Road Drumcondra       287687.80     D09  53.366311   \n",
       "\n",
       "       Longitude  DistanceIFSC  DistanceSchool  \n",
       "207901 -6.335665      7.541595        0.492120  \n",
       "207905 -6.238896      6.817210        0.100996  \n",
       "207916   -6.3124      7.799393        0.683556  \n",
       "207925 -6.372213      8.400802        0.319564  \n",
       "207929 -6.263792      2.225835        0.085034  "
      ]
     },
     "execution_count": 62,
     "metadata": {},
     "output_type": "execute_result"
    }
   ],
   "source": [
    "test12.head()"
   ]
  },
  {
   "cell_type": "markdown",
   "id": "8b09d11c",
   "metadata": {},
   "source": [
    "### Bus Stops"
   ]
  },
  {
   "cell_type": "code",
   "execution_count": 44,
   "id": "6208a93e",
   "metadata": {},
   "outputs": [],
   "source": [
    "bus = pd.read_csv('dublinbusstops.csv')"
   ]
  },
  {
   "cell_type": "code",
   "execution_count": 45,
   "id": "01b8b6f7",
   "metadata": {},
   "outputs": [],
   "source": [
    "bus = bus[['Name without locality', 'Name', 'Easting', 'Northing']]"
   ]
  },
  {
   "cell_type": "code",
   "execution_count": 46,
   "id": "9c89ddfe",
   "metadata": {},
   "outputs": [],
   "source": [
    "bus = bus.dropna()"
   ]
  },
  {
   "cell_type": "code",
   "execution_count": 47,
   "id": "274c15a2",
   "metadata": {},
   "outputs": [
    {
     "data": {
      "text/html": [
       "<div>\n",
       "<style scoped>\n",
       "    .dataframe tbody tr th:only-of-type {\n",
       "        vertical-align: middle;\n",
       "    }\n",
       "\n",
       "    .dataframe tbody tr th {\n",
       "        vertical-align: top;\n",
       "    }\n",
       "\n",
       "    .dataframe thead th {\n",
       "        text-align: right;\n",
       "    }\n",
       "</style>\n",
       "<table border=\"1\" class=\"dataframe\">\n",
       "  <thead>\n",
       "    <tr style=\"text-align: right;\">\n",
       "      <th></th>\n",
       "      <th>Name without locality</th>\n",
       "      <th>Name</th>\n",
       "      <th>Easting</th>\n",
       "      <th>Northing</th>\n",
       "    </tr>\n",
       "  </thead>\n",
       "  <tbody>\n",
       "    <tr>\n",
       "      <th>0</th>\n",
       "      <td>National Museum</td>\n",
       "      <td>Wolfe Tone Quay</td>\n",
       "      <td>714120.0</td>\n",
       "      <td>734355</td>\n",
       "    </tr>\n",
       "    <tr>\n",
       "      <th>1</th>\n",
       "      <td>Law Society</td>\n",
       "      <td>Blackhall Place</td>\n",
       "      <td>714370.0</td>\n",
       "      <td>734501</td>\n",
       "    </tr>\n",
       "    <tr>\n",
       "      <th>2</th>\n",
       "      <td>Ophaly Court</td>\n",
       "      <td>Dundrum Road</td>\n",
       "      <td>716921.0</td>\n",
       "      <td>728676</td>\n",
       "    </tr>\n",
       "    <tr>\n",
       "      <th>3</th>\n",
       "      <td>Ophaly Court</td>\n",
       "      <td>Dundrum Road</td>\n",
       "      <td>716915.0</td>\n",
       "      <td>728663</td>\n",
       "    </tr>\n",
       "    <tr>\n",
       "      <th>4</th>\n",
       "      <td>Hospital</td>\n",
       "      <td>Dundrum Road</td>\n",
       "      <td>716916.0</td>\n",
       "      <td>729284</td>\n",
       "    </tr>\n",
       "    <tr>\n",
       "      <th>...</th>\n",
       "      <td>...</td>\n",
       "      <td>...</td>\n",
       "      <td>...</td>\n",
       "      <td>...</td>\n",
       "    </tr>\n",
       "    <tr>\n",
       "      <th>5363</th>\n",
       "      <td>Castlegate Way</td>\n",
       "      <td>Adamstown Ave</td>\n",
       "      <td>702328.0</td>\n",
       "      <td>733025</td>\n",
       "    </tr>\n",
       "    <tr>\n",
       "      <th>5364</th>\n",
       "      <td>Castlegate Way</td>\n",
       "      <td>Adamstown</td>\n",
       "      <td>702774.0</td>\n",
       "      <td>733107</td>\n",
       "    </tr>\n",
       "    <tr>\n",
       "      <th>5365</th>\n",
       "      <td>Castlegate Way</td>\n",
       "      <td>Adamstown</td>\n",
       "      <td>702759.0</td>\n",
       "      <td>733097</td>\n",
       "    </tr>\n",
       "    <tr>\n",
       "      <th>5366</th>\n",
       "      <td>Grange Manor Close</td>\n",
       "      <td>Griffeen Avenue</td>\n",
       "      <td>703538.0</td>\n",
       "      <td>733467</td>\n",
       "    </tr>\n",
       "    <tr>\n",
       "      <th>5367</th>\n",
       "      <td>Rosberry Avenue</td>\n",
       "      <td>Griffeen Avenue</td>\n",
       "      <td>704063.0</td>\n",
       "      <td>733249</td>\n",
       "    </tr>\n",
       "  </tbody>\n",
       "</table>\n",
       "<p>5365 rows × 4 columns</p>\n",
       "</div>"
      ],
      "text/plain": [
       "     Name without locality             Name   Easting Northing\n",
       "0          National Museum  Wolfe Tone Quay  714120.0   734355\n",
       "1              Law Society  Blackhall Place  714370.0   734501\n",
       "2             Ophaly Court     Dundrum Road  716921.0   728676\n",
       "3             Ophaly Court     Dundrum Road  716915.0   728663\n",
       "4                 Hospital     Dundrum Road  716916.0   729284\n",
       "...                    ...              ...       ...      ...\n",
       "5363        Castlegate Way    Adamstown Ave  702328.0   733025\n",
       "5364        Castlegate Way        Adamstown  702774.0   733107\n",
       "5365        Castlegate Way        Adamstown  702759.0   733097\n",
       "5366    Grange Manor Close  Griffeen Avenue  703538.0   733467\n",
       "5367       Rosberry Avenue  Griffeen Avenue  704063.0   733249\n",
       "\n",
       "[5365 rows x 4 columns]"
      ]
     },
     "execution_count": 47,
     "metadata": {},
     "output_type": "execute_result"
    }
   ],
   "source": [
    "bus"
   ]
  },
  {
   "cell_type": "code",
   "execution_count": 141,
   "id": "193d8843",
   "metadata": {},
   "outputs": [],
   "source": [
    "bus = bus.loc[bus['Northing'] != '#VALUE!']"
   ]
  },
  {
   "cell_type": "code",
   "execution_count": 142,
   "id": "3109b051",
   "metadata": {},
   "outputs": [
    {
     "name": "stderr",
     "output_type": "stream",
     "text": [
      "C:\\Users\\user\\AppData\\Local\\Temp/ipykernel_14292/3707681131.py:1: SettingWithCopyWarning: \n",
      "A value is trying to be set on a copy of a slice from a DataFrame.\n",
      "Try using .loc[row_indexer,col_indexer] = value instead\n",
      "\n",
      "See the caveats in the documentation: https://pandas.pydata.org/pandas-docs/stable/user_guide/indexing.html#returning-a-view-versus-a-copy\n",
      "  bus['Northing'] = bus['Northing'].astype('float64')\n"
     ]
    }
   ],
   "source": [
    "bus['Northing'] = bus['Northing'].astype('float64')"
   ]
  },
  {
   "cell_type": "code",
   "execution_count": 162,
   "id": "48e229e6",
   "metadata": {},
   "outputs": [
    {
     "data": {
      "text/html": [
       "<div>\n",
       "<style scoped>\n",
       "    .dataframe tbody tr th:only-of-type {\n",
       "        vertical-align: middle;\n",
       "    }\n",
       "\n",
       "    .dataframe tbody tr th {\n",
       "        vertical-align: top;\n",
       "    }\n",
       "\n",
       "    .dataframe thead th {\n",
       "        text-align: right;\n",
       "    }\n",
       "</style>\n",
       "<table border=\"1\" class=\"dataframe\">\n",
       "  <thead>\n",
       "    <tr style=\"text-align: right;\">\n",
       "      <th></th>\n",
       "      <th>Name without locality</th>\n",
       "      <th>Name</th>\n",
       "      <th>Easting</th>\n",
       "      <th>Northing</th>\n",
       "      <th>geometry</th>\n",
       "    </tr>\n",
       "  </thead>\n",
       "  <tbody>\n",
       "    <tr>\n",
       "      <th>0</th>\n",
       "      <td>National Museum</td>\n",
       "      <td>Wolfe Tone Quay</td>\n",
       "      <td>714120.0</td>\n",
       "      <td>734355.0</td>\n",
       "      <td>POINT (714120.000 734355.000)</td>\n",
       "    </tr>\n",
       "    <tr>\n",
       "      <th>1</th>\n",
       "      <td>Law Society</td>\n",
       "      <td>Blackhall Place</td>\n",
       "      <td>714370.0</td>\n",
       "      <td>734501.0</td>\n",
       "      <td>POINT (714370.000 734501.000)</td>\n",
       "    </tr>\n",
       "    <tr>\n",
       "      <th>2</th>\n",
       "      <td>Ophaly Court</td>\n",
       "      <td>Dundrum Road</td>\n",
       "      <td>716921.0</td>\n",
       "      <td>728676.0</td>\n",
       "      <td>POINT (716921.000 728676.000)</td>\n",
       "    </tr>\n",
       "    <tr>\n",
       "      <th>3</th>\n",
       "      <td>Ophaly Court</td>\n",
       "      <td>Dundrum Road</td>\n",
       "      <td>716915.0</td>\n",
       "      <td>728663.0</td>\n",
       "      <td>POINT (716915.000 728663.000)</td>\n",
       "    </tr>\n",
       "    <tr>\n",
       "      <th>4</th>\n",
       "      <td>Hospital</td>\n",
       "      <td>Dundrum Road</td>\n",
       "      <td>716916.0</td>\n",
       "      <td>729284.0</td>\n",
       "      <td>POINT (716916.000 729284.000)</td>\n",
       "    </tr>\n",
       "    <tr>\n",
       "      <th>...</th>\n",
       "      <td>...</td>\n",
       "      <td>...</td>\n",
       "      <td>...</td>\n",
       "      <td>...</td>\n",
       "      <td>...</td>\n",
       "    </tr>\n",
       "    <tr>\n",
       "      <th>5363</th>\n",
       "      <td>Castlegate Way</td>\n",
       "      <td>Adamstown Ave</td>\n",
       "      <td>702328.0</td>\n",
       "      <td>733025.0</td>\n",
       "      <td>POINT (702328.000 733025.000)</td>\n",
       "    </tr>\n",
       "    <tr>\n",
       "      <th>5364</th>\n",
       "      <td>Castlegate Way</td>\n",
       "      <td>Adamstown</td>\n",
       "      <td>702774.0</td>\n",
       "      <td>733107.0</td>\n",
       "      <td>POINT (702774.000 733107.000)</td>\n",
       "    </tr>\n",
       "    <tr>\n",
       "      <th>5365</th>\n",
       "      <td>Castlegate Way</td>\n",
       "      <td>Adamstown</td>\n",
       "      <td>702759.0</td>\n",
       "      <td>733097.0</td>\n",
       "      <td>POINT (702759.000 733097.000)</td>\n",
       "    </tr>\n",
       "    <tr>\n",
       "      <th>5366</th>\n",
       "      <td>Grange Manor Close</td>\n",
       "      <td>Griffeen Avenue</td>\n",
       "      <td>703538.0</td>\n",
       "      <td>733467.0</td>\n",
       "      <td>POINT (703538.000 733467.000)</td>\n",
       "    </tr>\n",
       "    <tr>\n",
       "      <th>5367</th>\n",
       "      <td>Rosberry Avenue</td>\n",
       "      <td>Griffeen Avenue</td>\n",
       "      <td>704063.0</td>\n",
       "      <td>733249.0</td>\n",
       "      <td>POINT (704063.000 733249.000)</td>\n",
       "    </tr>\n",
       "  </tbody>\n",
       "</table>\n",
       "<p>5352 rows × 5 columns</p>\n",
       "</div>"
      ],
      "text/plain": [
       "     Name without locality             Name   Easting  Northing  \\\n",
       "0          National Museum  Wolfe Tone Quay  714120.0  734355.0   \n",
       "1              Law Society  Blackhall Place  714370.0  734501.0   \n",
       "2             Ophaly Court     Dundrum Road  716921.0  728676.0   \n",
       "3             Ophaly Court     Dundrum Road  716915.0  728663.0   \n",
       "4                 Hospital     Dundrum Road  716916.0  729284.0   \n",
       "...                    ...              ...       ...       ...   \n",
       "5363        Castlegate Way    Adamstown Ave  702328.0  733025.0   \n",
       "5364        Castlegate Way        Adamstown  702774.0  733107.0   \n",
       "5365        Castlegate Way        Adamstown  702759.0  733097.0   \n",
       "5366    Grange Manor Close  Griffeen Avenue  703538.0  733467.0   \n",
       "5367       Rosberry Avenue  Griffeen Avenue  704063.0  733249.0   \n",
       "\n",
       "                           geometry  \n",
       "0     POINT (714120.000 734355.000)  \n",
       "1     POINT (714370.000 734501.000)  \n",
       "2     POINT (716921.000 728676.000)  \n",
       "3     POINT (716915.000 728663.000)  \n",
       "4     POINT (716916.000 729284.000)  \n",
       "...                             ...  \n",
       "5363  POINT (702328.000 733025.000)  \n",
       "5364  POINT (702774.000 733107.000)  \n",
       "5365  POINT (702759.000 733097.000)  \n",
       "5366  POINT (703538.000 733467.000)  \n",
       "5367  POINT (704063.000 733249.000)  \n",
       "\n",
       "[5352 rows x 5 columns]"
      ]
     },
     "execution_count": 162,
     "metadata": {},
     "output_type": "execute_result"
    }
   ],
   "source": [
    "# useless\n",
    "from shapely.geometry import Point\n",
    "import geopandas as gpd\n",
    "from geopandas import GeoDataFrame\n",
    "geometry = [Point(xy) for xy in zip(bus['Easting'], bus['Northing'])]\n",
    "gdf = GeoDataFrame(bus, geometry = geometry, crs = 'EPSG:29903') \n",
    "gdf"
   ]
  },
  {
   "cell_type": "code",
   "execution_count": 458,
   "id": "7202f7d1",
   "metadata": {},
   "outputs": [],
   "source": [
    "import utm\n",
    "def rule(row):\n",
    "    lat, lon = utm.to_latlon(row[\"Easting\"], row[\"Northing\"], zone_number = 10, zone_letter = 'N')\n",
    "    return pd.Series({\"lat\": lat, \"long\": lon})"
   ]
  },
  {
   "cell_type": "code",
   "execution_count": 459,
   "id": "6ea90b58",
   "metadata": {},
   "outputs": [
    {
     "data": {
      "text/html": [
       "<div>\n",
       "<style scoped>\n",
       "    .dataframe tbody tr th:only-of-type {\n",
       "        vertical-align: middle;\n",
       "    }\n",
       "\n",
       "    .dataframe tbody tr th {\n",
       "        vertical-align: top;\n",
       "    }\n",
       "\n",
       "    .dataframe thead th {\n",
       "        text-align: right;\n",
       "    }\n",
       "</style>\n",
       "<table border=\"1\" class=\"dataframe\">\n",
       "  <thead>\n",
       "    <tr style=\"text-align: right;\">\n",
       "      <th></th>\n",
       "      <th>Name without locality</th>\n",
       "      <th>Name</th>\n",
       "      <th>Easting</th>\n",
       "      <th>Northing</th>\n",
       "      <th>geometry</th>\n",
       "      <th>lat</th>\n",
       "      <th>long</th>\n",
       "    </tr>\n",
       "  </thead>\n",
       "  <tbody>\n",
       "    <tr>\n",
       "      <th>0</th>\n",
       "      <td>National Museum</td>\n",
       "      <td>Wolfe Tone Quay</td>\n",
       "      <td>714120.0</td>\n",
       "      <td>734355.0</td>\n",
       "      <td>POINT (714120.000 734355.000)</td>\n",
       "      <td>6.639855</td>\n",
       "      <td>-121.063212</td>\n",
       "    </tr>\n",
       "    <tr>\n",
       "      <th>1</th>\n",
       "      <td>Law Society</td>\n",
       "      <td>Blackhall Place</td>\n",
       "      <td>714370.0</td>\n",
       "      <td>734501.0</td>\n",
       "      <td>POINT (714370.000 734501.000)</td>\n",
       "      <td>6.641166</td>\n",
       "      <td>-121.060946</td>\n",
       "    </tr>\n",
       "    <tr>\n",
       "      <th>2</th>\n",
       "      <td>Ophaly Court</td>\n",
       "      <td>Dundrum Road</td>\n",
       "      <td>716921.0</td>\n",
       "      <td>728676.0</td>\n",
       "      <td>POINT (716921.000 728676.000)</td>\n",
       "      <td>6.588413</td>\n",
       "      <td>-121.038089</td>\n",
       "    </tr>\n",
       "    <tr>\n",
       "      <th>3</th>\n",
       "      <td>Ophaly Court</td>\n",
       "      <td>Dundrum Road</td>\n",
       "      <td>716915.0</td>\n",
       "      <td>728663.0</td>\n",
       "      <td>POINT (716915.000 728663.000)</td>\n",
       "      <td>6.588296</td>\n",
       "      <td>-121.038143</td>\n",
       "    </tr>\n",
       "    <tr>\n",
       "      <th>4</th>\n",
       "      <td>Hospital</td>\n",
       "      <td>Dundrum Road</td>\n",
       "      <td>716916.0</td>\n",
       "      <td>729284.0</td>\n",
       "      <td>POINT (716916.000 729284.000)</td>\n",
       "      <td>6.593910</td>\n",
       "      <td>-121.038112</td>\n",
       "    </tr>\n",
       "    <tr>\n",
       "      <th>...</th>\n",
       "      <td>...</td>\n",
       "      <td>...</td>\n",
       "      <td>...</td>\n",
       "      <td>...</td>\n",
       "      <td>...</td>\n",
       "      <td>...</td>\n",
       "      <td>...</td>\n",
       "    </tr>\n",
       "    <tr>\n",
       "      <th>5363</th>\n",
       "      <td>Castlegate Way</td>\n",
       "      <td>Adamstown Ave</td>\n",
       "      <td>702328.0</td>\n",
       "      <td>733025.0</td>\n",
       "      <td>POINT (702328.000 733025.000)</td>\n",
       "      <td>6.628236</td>\n",
       "      <td>-121.169881</td>\n",
       "    </tr>\n",
       "    <tr>\n",
       "      <th>5364</th>\n",
       "      <td>Castlegate Way</td>\n",
       "      <td>Adamstown</td>\n",
       "      <td>702774.0</td>\n",
       "      <td>733107.0</td>\n",
       "      <td>POINT (702774.000 733107.000)</td>\n",
       "      <td>6.628962</td>\n",
       "      <td>-121.165845</td>\n",
       "    </tr>\n",
       "    <tr>\n",
       "      <th>5365</th>\n",
       "      <td>Castlegate Way</td>\n",
       "      <td>Adamstown</td>\n",
       "      <td>702759.0</td>\n",
       "      <td>733097.0</td>\n",
       "      <td>POINT (702759.000 733097.000)</td>\n",
       "      <td>6.628872</td>\n",
       "      <td>-121.165981</td>\n",
       "    </tr>\n",
       "    <tr>\n",
       "      <th>5366</th>\n",
       "      <td>Grange Manor Close</td>\n",
       "      <td>Griffeen Avenue</td>\n",
       "      <td>703538.0</td>\n",
       "      <td>733467.0</td>\n",
       "      <td>POINT (703538.000 733467.000)</td>\n",
       "      <td>6.632191</td>\n",
       "      <td>-121.158925</td>\n",
       "    </tr>\n",
       "    <tr>\n",
       "      <th>5367</th>\n",
       "      <td>Rosberry Avenue</td>\n",
       "      <td>Griffeen Avenue</td>\n",
       "      <td>704063.0</td>\n",
       "      <td>733249.0</td>\n",
       "      <td>POINT (704063.000 733249.000)</td>\n",
       "      <td>6.630203</td>\n",
       "      <td>-121.154185</td>\n",
       "    </tr>\n",
       "  </tbody>\n",
       "</table>\n",
       "<p>5352 rows × 7 columns</p>\n",
       "</div>"
      ],
      "text/plain": [
       "     Name without locality             Name   Easting  Northing  \\\n",
       "0          National Museum  Wolfe Tone Quay  714120.0  734355.0   \n",
       "1              Law Society  Blackhall Place  714370.0  734501.0   \n",
       "2             Ophaly Court     Dundrum Road  716921.0  728676.0   \n",
       "3             Ophaly Court     Dundrum Road  716915.0  728663.0   \n",
       "4                 Hospital     Dundrum Road  716916.0  729284.0   \n",
       "...                    ...              ...       ...       ...   \n",
       "5363        Castlegate Way    Adamstown Ave  702328.0  733025.0   \n",
       "5364        Castlegate Way        Adamstown  702774.0  733107.0   \n",
       "5365        Castlegate Way        Adamstown  702759.0  733097.0   \n",
       "5366    Grange Manor Close  Griffeen Avenue  703538.0  733467.0   \n",
       "5367       Rosberry Avenue  Griffeen Avenue  704063.0  733249.0   \n",
       "\n",
       "                           geometry       lat        long  \n",
       "0     POINT (714120.000 734355.000)  6.639855 -121.063212  \n",
       "1     POINT (714370.000 734501.000)  6.641166 -121.060946  \n",
       "2     POINT (716921.000 728676.000)  6.588413 -121.038089  \n",
       "3     POINT (716915.000 728663.000)  6.588296 -121.038143  \n",
       "4     POINT (716916.000 729284.000)  6.593910 -121.038112  \n",
       "...                             ...       ...         ...  \n",
       "5363  POINT (702328.000 733025.000)  6.628236 -121.169881  \n",
       "5364  POINT (702774.000 733107.000)  6.628962 -121.165845  \n",
       "5365  POINT (702759.000 733097.000)  6.628872 -121.165981  \n",
       "5366  POINT (703538.000 733467.000)  6.632191 -121.158925  \n",
       "5367  POINT (704063.000 733249.000)  6.630203 -121.154185  \n",
       "\n",
       "[5352 rows x 7 columns]"
      ]
     },
     "execution_count": 459,
     "metadata": {},
     "output_type": "execute_result"
    }
   ],
   "source": [
    "#rule(bus)\n",
    "bus.merge(bus.apply(rule, axis=1), left_index= True, right_index= True)"
   ]
  },
  {
   "cell_type": "code",
   "execution_count": 136,
   "id": "2e1a3ac7",
   "metadata": {},
   "outputs": [
    {
     "data": {
      "text/html": [
       "<div>\n",
       "<style scoped>\n",
       "    .dataframe tbody tr th:only-of-type {\n",
       "        vertical-align: middle;\n",
       "    }\n",
       "\n",
       "    .dataframe tbody tr th {\n",
       "        vertical-align: top;\n",
       "    }\n",
       "\n",
       "    .dataframe thead th {\n",
       "        text-align: right;\n",
       "    }\n",
       "</style>\n",
       "<table border=\"1\" class=\"dataframe\">\n",
       "  <thead>\n",
       "    <tr style=\"text-align: right;\">\n",
       "      <th></th>\n",
       "      <th>Address</th>\n",
       "      <th>County</th>\n",
       "      <th>Price (€)</th>\n",
       "      <th>VAT Exclusive</th>\n",
       "      <th>Description of Property</th>\n",
       "      <th>Property Size Description</th>\n",
       "      <th>Year</th>\n",
       "      <th>Month</th>\n",
       "      <th>Town</th>\n",
       "      <th>Apartment</th>\n",
       "      <th>Neighbourhood</th>\n",
       "      <th>PriceInflation</th>\n",
       "      <th>Eircode</th>\n",
       "      <th>Latitude</th>\n",
       "      <th>Longitude</th>\n",
       "      <th>DistanceIFSC</th>\n",
       "      <th>DistanceSchool</th>\n",
       "      <th>DistancePark</th>\n",
       "      <th>DistanceLuas</th>\n",
       "    </tr>\n",
       "  </thead>\n",
       "  <tbody>\n",
       "    <tr>\n",
       "      <th>207901</th>\n",
       "      <td>55 College Square, Terenure</td>\n",
       "      <td>Dublin</td>\n",
       "      <td>447200.00</td>\n",
       "      <td>0</td>\n",
       "      <td>0</td>\n",
       "      <td>1</td>\n",
       "      <td>2014</td>\n",
       "      <td>1</td>\n",
       "      <td>Terenure</td>\n",
       "      <td>0</td>\n",
       "      <td>College Square Terenure</td>\n",
       "      <td>846407.80</td>\n",
       "      <td>D6W</td>\n",
       "      <td>53.307878</td>\n",
       "      <td>-6.335665</td>\n",
       "      <td>7.541595</td>\n",
       "      <td>0.492120</td>\n",
       "      <td>1.438826</td>\n",
       "      <td>2.020029</td>\n",
       "    </tr>\n",
       "    <tr>\n",
       "      <th>207905</th>\n",
       "      <td>Number 7 Belfort House, Sydenham Villas, Dundrum</td>\n",
       "      <td>Dublin</td>\n",
       "      <td>398000.00</td>\n",
       "      <td>1</td>\n",
       "      <td>1</td>\n",
       "      <td>0</td>\n",
       "      <td>2014</td>\n",
       "      <td>1</td>\n",
       "      <td>Dundrum Dublin</td>\n",
       "      <td>0</td>\n",
       "      <td>Sydenham Villas Dundrum Dublin</td>\n",
       "      <td>753287.80</td>\n",
       "      <td>A45</td>\n",
       "      <td>53.288227</td>\n",
       "      <td>-6.238896</td>\n",
       "      <td>6.817210</td>\n",
       "      <td>0.100996</td>\n",
       "      <td>2.784711</td>\n",
       "      <td>0.274841</td>\n",
       "    </tr>\n",
       "    <tr>\n",
       "      <th>207916</th>\n",
       "      <td>Apartment 16 Cedar Grove, Firhouse Road, Templ...</td>\n",
       "      <td>Dublin</td>\n",
       "      <td>196035.24</td>\n",
       "      <td>0</td>\n",
       "      <td>0</td>\n",
       "      <td>1</td>\n",
       "      <td>2014</td>\n",
       "      <td>1</td>\n",
       "      <td>Templeogue</td>\n",
       "      <td>1</td>\n",
       "      <td>Firhouse Road Templeogue</td>\n",
       "      <td>371032.55</td>\n",
       "      <td>D6W</td>\n",
       "      <td>53.2916</td>\n",
       "      <td>-6.3124</td>\n",
       "      <td>7.799393</td>\n",
       "      <td>0.683556</td>\n",
       "      <td>3.098765</td>\n",
       "      <td>3.760897</td>\n",
       "    </tr>\n",
       "    <tr>\n",
       "      <th>207925</th>\n",
       "      <td>75 Palmerstown Avenue, Palmerstown</td>\n",
       "      <td>Dublin</td>\n",
       "      <td>95000.00</td>\n",
       "      <td>1</td>\n",
       "      <td>1</td>\n",
       "      <td>1</td>\n",
       "      <td>2014</td>\n",
       "      <td>1</td>\n",
       "      <td>Palmerstown</td>\n",
       "      <td>0</td>\n",
       "      <td>Palmerstown Avenue Palmerstown</td>\n",
       "      <td>179804.88</td>\n",
       "      <td>D20</td>\n",
       "      <td>53.353853</td>\n",
       "      <td>-6.372213</td>\n",
       "      <td>8.400802</td>\n",
       "      <td>0.319564</td>\n",
       "      <td>1.909348</td>\n",
       "      <td>3.576775</td>\n",
       "    </tr>\n",
       "    <tr>\n",
       "      <th>207929</th>\n",
       "      <td>17 Churchview Apts, Church Rd, Drumcondra</td>\n",
       "      <td>Dublin</td>\n",
       "      <td>152000.00</td>\n",
       "      <td>1</td>\n",
       "      <td>1</td>\n",
       "      <td>2</td>\n",
       "      <td>2014</td>\n",
       "      <td>1</td>\n",
       "      <td>Drumcondra</td>\n",
       "      <td>1</td>\n",
       "      <td>Church Road Drumcondra</td>\n",
       "      <td>287687.80</td>\n",
       "      <td>D09</td>\n",
       "      <td>53.366311</td>\n",
       "      <td>-6.263792</td>\n",
       "      <td>2.225835</td>\n",
       "      <td>0.085034</td>\n",
       "      <td>0.909828</td>\n",
       "      <td>1.942439</td>\n",
       "    </tr>\n",
       "  </tbody>\n",
       "</table>\n",
       "</div>"
      ],
      "text/plain": [
       "                                                  Address  County  Price (€)  \\\n",
       "207901                        55 College Square, Terenure  Dublin  447200.00   \n",
       "207905   Number 7 Belfort House, Sydenham Villas, Dundrum  Dublin  398000.00   \n",
       "207916  Apartment 16 Cedar Grove, Firhouse Road, Templ...  Dublin  196035.24   \n",
       "207925                 75 Palmerstown Avenue, Palmerstown  Dublin   95000.00   \n",
       "207929          17 Churchview Apts, Church Rd, Drumcondra  Dublin  152000.00   \n",
       "\n",
       "        VAT Exclusive  Description of Property  Property Size Description  \\\n",
       "207901              0                        0                          1   \n",
       "207905              1                        1                          0   \n",
       "207916              0                        0                          1   \n",
       "207925              1                        1                          1   \n",
       "207929              1                        1                          2   \n",
       "\n",
       "        Year  Month            Town  Apartment  \\\n",
       "207901  2014      1        Terenure          0   \n",
       "207905  2014      1  Dundrum Dublin          0   \n",
       "207916  2014      1      Templeogue          1   \n",
       "207925  2014      1     Palmerstown          0   \n",
       "207929  2014      1      Drumcondra          1   \n",
       "\n",
       "                         Neighbourhood  PriceInflation Eircode   Latitude  \\\n",
       "207901         College Square Terenure       846407.80     D6W  53.307878   \n",
       "207905  Sydenham Villas Dundrum Dublin       753287.80     A45  53.288227   \n",
       "207916        Firhouse Road Templeogue       371032.55     D6W    53.2916   \n",
       "207925  Palmerstown Avenue Palmerstown       179804.88     D20  53.353853   \n",
       "207929          Church Road Drumcondra       287687.80     D09  53.366311   \n",
       "\n",
       "       Longitude  DistanceIFSC  DistanceSchool  DistancePark  DistanceLuas  \n",
       "207901 -6.335665      7.541595        0.492120      1.438826      2.020029  \n",
       "207905 -6.238896      6.817210        0.100996      2.784711      0.274841  \n",
       "207916   -6.3124      7.799393        0.683556      3.098765      3.760897  \n",
       "207925 -6.372213      8.400802        0.319564      1.909348      3.576775  \n",
       "207929 -6.263792      2.225835        0.085034      0.909828      1.942439  "
      ]
     },
     "execution_count": 136,
     "metadata": {},
     "output_type": "execute_result"
    }
   ],
   "source": [
    "test12.head()"
   ]
  },
  {
   "cell_type": "code",
   "execution_count": 65,
   "id": "e99728b2",
   "metadata": {},
   "outputs": [],
   "source": [
    "#test12.to_csv('initial-ml-test-dub-1.csv')"
   ]
  },
  {
   "cell_type": "markdown",
   "id": "12164772",
   "metadata": {},
   "source": [
    "### Nearest Park\n",
    "With lockdowns and restrictions meaning public spaces for excerise and leisure gained importance over time, let's add this to our data and see what impact it has\n",
    "\n",
    "(0.5% improvement)"
   ]
  },
  {
   "cell_type": "code",
   "execution_count": 67,
   "id": "5f2eff01",
   "metadata": {},
   "outputs": [],
   "source": [
    "dcc = pd.read_csv('dccplayingpitches.csv')"
   ]
  },
  {
   "cell_type": "code",
   "execution_count": 68,
   "id": "6516627b",
   "metadata": {},
   "outputs": [
    {
     "data": {
      "text/html": [
       "<div>\n",
       "<style scoped>\n",
       "    .dataframe tbody tr th:only-of-type {\n",
       "        vertical-align: middle;\n",
       "    }\n",
       "\n",
       "    .dataframe tbody tr th {\n",
       "        vertical-align: top;\n",
       "    }\n",
       "\n",
       "    .dataframe thead th {\n",
       "        text-align: right;\n",
       "    }\n",
       "</style>\n",
       "<table border=\"1\" class=\"dataframe\">\n",
       "  <thead>\n",
       "    <tr style=\"text-align: right;\">\n",
       "      <th></th>\n",
       "      <th>PARK</th>\n",
       "      <th>AREA</th>\n",
       "      <th>CLUBNAME</th>\n",
       "      <th>LEAGUE</th>\n",
       "    </tr>\n",
       "  </thead>\n",
       "  <tbody>\n",
       "    <tr>\n",
       "      <th>0</th>\n",
       "      <td>ALBERT COLLEGE</td>\n",
       "      <td>NORTH WEST</td>\n",
       "      <td>DRUMCONDRA F.C (Snr)</td>\n",
       "      <td>AMATEUR FOOTBALL LEAGUE</td>\n",
       "    </tr>\n",
       "    <tr>\n",
       "      <th>1</th>\n",
       "      <td>ALBERT COLLEGE</td>\n",
       "      <td>NORTH WEST</td>\n",
       "      <td>GLASNEVIN AFC</td>\n",
       "      <td>AMATEUR FOOTBALL LEAGUE</td>\n",
       "    </tr>\n",
       "    <tr>\n",
       "      <th>2</th>\n",
       "      <td>BEECHILL</td>\n",
       "      <td>SOUTH EAST</td>\n",
       "      <td>BALLSBRIDGE FC</td>\n",
       "      <td>AMATEUR FOOTBALL LEAGUE</td>\n",
       "    </tr>\n",
       "    <tr>\n",
       "      <th>3</th>\n",
       "      <td>BELCAMP</td>\n",
       "      <td>NORTH CENTRAL</td>\n",
       "      <td>NEWTOWN CELTIC</td>\n",
       "      <td>AMATEUR FOOTBALL LEAGUE</td>\n",
       "    </tr>\n",
       "    <tr>\n",
       "      <th>4</th>\n",
       "      <td>BELCAMP</td>\n",
       "      <td>NORTH CENTRAL</td>\n",
       "      <td>VIANNEY BOYS</td>\n",
       "      <td>AMATEUR FOOTBALL LEAGUE</td>\n",
       "    </tr>\n",
       "  </tbody>\n",
       "</table>\n",
       "</div>"
      ],
      "text/plain": [
       "             PARK           AREA              CLUBNAME  \\\n",
       "0  ALBERT COLLEGE     NORTH WEST  DRUMCONDRA F.C (Snr)   \n",
       "1  ALBERT COLLEGE     NORTH WEST         GLASNEVIN AFC   \n",
       "2       BEECHILL      SOUTH EAST        BALLSBRIDGE FC   \n",
       "3         BELCAMP  NORTH CENTRAL        NEWTOWN CELTIC   \n",
       "4         BELCAMP  NORTH CENTRAL          VIANNEY BOYS   \n",
       "\n",
       "                    LEAGUE  \n",
       "0  AMATEUR FOOTBALL LEAGUE  \n",
       "1  AMATEUR FOOTBALL LEAGUE  \n",
       "2  AMATEUR FOOTBALL LEAGUE  \n",
       "3  AMATEUR FOOTBALL LEAGUE  \n",
       "4  AMATEUR FOOTBALL LEAGUE  "
      ]
     },
     "execution_count": 68,
     "metadata": {},
     "output_type": "execute_result"
    }
   ],
   "source": [
    "dcc.head()"
   ]
  },
  {
   "cell_type": "code",
   "execution_count": 70,
   "id": "e3a4b449",
   "metadata": {},
   "outputs": [
    {
     "data": {
      "text/plain": [
       "ST ANNES        19\n",
       "ST ANNES        15\n",
       "BRICKFIELDS     11\n",
       "JOHN PAUL        9\n",
       "WALKINSTOWN      8\n",
       "                ..\n",
       "SPRINGDALE       1\n",
       "ST. ANNES        1\n",
       "DONNYCARNEY      1\n",
       "GALTYMORE        1\n",
       "ST ANNES         1\n",
       "Name: PARK, Length: 90, dtype: int64"
      ]
     },
     "execution_count": 70,
     "metadata": {},
     "output_type": "execute_result"
    }
   ],
   "source": [
    "dcc['PARK'].value_counts()"
   ]
  },
  {
   "cell_type": "code",
   "execution_count": 71,
   "id": "c82dae7f",
   "metadata": {},
   "outputs": [],
   "source": [
    "dcc['PARK'] = dcc['PARK'].str.strip()"
   ]
  },
  {
   "cell_type": "code",
   "execution_count": 73,
   "id": "577fa5d9",
   "metadata": {},
   "outputs": [
    {
     "data": {
      "text/plain": [
       "ST ANNES            35\n",
       "BRICKFIELDS         15\n",
       "BELCAMP             11\n",
       "ALBERT COLLEGE      10\n",
       "BUSHY               10\n",
       "                    ..\n",
       "POPPINTREE NORTH     1\n",
       "BENMADIGAN           1\n",
       "TOLKA VALLEY         1\n",
       "SUNDRIVE             1\n",
       "CHERRY ORCHARD       1\n",
       "Name: PARK, Length: 65, dtype: int64"
      ]
     },
     "execution_count": 73,
     "metadata": {},
     "output_type": "execute_result"
    }
   ],
   "source": [
    "dcc['PARK'].value_counts()"
   ]
  },
  {
   "cell_type": "code",
   "execution_count": 74,
   "id": "170fd48d",
   "metadata": {},
   "outputs": [],
   "source": [
    "dcc['PARK'] = dcc['PARK'].str.title()"
   ]
  },
  {
   "cell_type": "code",
   "execution_count": 75,
   "id": "62d4bbe7",
   "metadata": {},
   "outputs": [
    {
     "data": {
      "text/plain": [
       "St Annes            35\n",
       "Brickfields         15\n",
       "Belcamp             11\n",
       "Albert College      10\n",
       "Bushy               10\n",
       "                    ..\n",
       "Poppintree North     1\n",
       "Benmadigan           1\n",
       "Tolka Valley         1\n",
       "Sundrive             1\n",
       "Cherry Orchard       1\n",
       "Name: PARK, Length: 65, dtype: int64"
      ]
     },
     "execution_count": 75,
     "metadata": {},
     "output_type": "execute_result"
    }
   ],
   "source": [
    "dcc['PARK'].value_counts()"
   ]
  },
  {
   "cell_type": "code",
   "execution_count": 85,
   "id": "0874b72c",
   "metadata": {},
   "outputs": [
    {
     "data": {
      "text/html": [
       "<div>\n",
       "<style scoped>\n",
       "    .dataframe tbody tr th:only-of-type {\n",
       "        vertical-align: middle;\n",
       "    }\n",
       "\n",
       "    .dataframe tbody tr th {\n",
       "        vertical-align: top;\n",
       "    }\n",
       "\n",
       "    .dataframe thead th {\n",
       "        text-align: right;\n",
       "    }\n",
       "</style>\n",
       "<table border=\"1\" class=\"dataframe\">\n",
       "  <thead>\n",
       "    <tr style=\"text-align: right;\">\n",
       "      <th></th>\n",
       "      <th>Park</th>\n",
       "    </tr>\n",
       "  </thead>\n",
       "  <tbody>\n",
       "    <tr>\n",
       "      <th>0</th>\n",
       "      <td>Sundrive</td>\n",
       "    </tr>\n",
       "    <tr>\n",
       "      <th>1</th>\n",
       "      <td>Dundaniel</td>\n",
       "    </tr>\n",
       "    <tr>\n",
       "      <th>2</th>\n",
       "      <td>Oscar Traynor</td>\n",
       "    </tr>\n",
       "    <tr>\n",
       "      <th>3</th>\n",
       "      <td>Ringsend</td>\n",
       "    </tr>\n",
       "    <tr>\n",
       "      <th>4</th>\n",
       "      <td>St. Annes</td>\n",
       "    </tr>\n",
       "    <tr>\n",
       "      <th>...</th>\n",
       "      <td>...</td>\n",
       "    </tr>\n",
       "    <tr>\n",
       "      <th>60</th>\n",
       "      <td>Fr. Collins</td>\n",
       "    </tr>\n",
       "    <tr>\n",
       "      <th>61</th>\n",
       "      <td>Plunkett Avenue</td>\n",
       "    </tr>\n",
       "    <tr>\n",
       "      <th>62</th>\n",
       "      <td>Clonturk</td>\n",
       "    </tr>\n",
       "    <tr>\n",
       "      <th>63</th>\n",
       "      <td>Naul</td>\n",
       "    </tr>\n",
       "    <tr>\n",
       "      <th>64</th>\n",
       "      <td>Johnstown</td>\n",
       "    </tr>\n",
       "  </tbody>\n",
       "</table>\n",
       "<p>65 rows × 1 columns</p>\n",
       "</div>"
      ],
      "text/plain": [
       "               Park\n",
       "0          Sundrive\n",
       "1         Dundaniel\n",
       "2     Oscar Traynor\n",
       "3          Ringsend\n",
       "4         St. Annes\n",
       "..              ...\n",
       "60      Fr. Collins\n",
       "61  Plunkett Avenue\n",
       "62         Clonturk\n",
       "63             Naul\n",
       "64        Johnstown\n",
       "\n",
       "[65 rows x 1 columns]"
      ]
     },
     "execution_count": 85,
     "metadata": {},
     "output_type": "execute_result"
    }
   ],
   "source": [
    "val = pd.DataFrame(list(set(dcc['PARK'])))\n",
    "val.rename(columns={0: 'Park'}, inplace = True)\n",
    "val"
   ]
  },
  {
   "cell_type": "code",
   "execution_count": 212,
   "id": "3ab6aede",
   "metadata": {},
   "outputs": [],
   "source": [
    "geolocator = Nominatim(user_agent = \"fyp\")\n",
    "values = np.array(val['Park'])\n",
    "latpark = []\n",
    "lonpark = []\n",
    "for i in range(len(values)):\n",
    "    string = values[i] + \" Park\"\n",
    "    location = geolocator.geocode(string)\n",
    "    if location != None:\n",
    "        latpark.append(location.latitude)\n",
    "        lonpark.append(location.longitude)\n",
    "    else:\n",
    "        latpark.append('None')\n",
    "        lonpark.append('None')"
   ]
  },
  {
   "cell_type": "code",
   "execution_count": 405,
   "id": "a1aa4127",
   "metadata": {},
   "outputs": [],
   "source": [
    "#latpark"
   ]
  },
  {
   "cell_type": "code",
   "execution_count": 96,
   "id": "43c8ee8a",
   "metadata": {},
   "outputs": [],
   "source": [
    "val['Latitude'] = latpark\n",
    "val['Longitude'] = lonpark"
   ]
  },
  {
   "cell_type": "code",
   "execution_count": 98,
   "id": "90f9f681",
   "metadata": {},
   "outputs": [
    {
     "data": {
      "text/html": [
       "<div>\n",
       "<style scoped>\n",
       "    .dataframe tbody tr th:only-of-type {\n",
       "        vertical-align: middle;\n",
       "    }\n",
       "\n",
       "    .dataframe tbody tr th {\n",
       "        vertical-align: top;\n",
       "    }\n",
       "\n",
       "    .dataframe thead th {\n",
       "        text-align: right;\n",
       "    }\n",
       "</style>\n",
       "<table border=\"1\" class=\"dataframe\">\n",
       "  <thead>\n",
       "    <tr style=\"text-align: right;\">\n",
       "      <th></th>\n",
       "      <th>Park</th>\n",
       "      <th>Latitude</th>\n",
       "      <th>Longitude</th>\n",
       "    </tr>\n",
       "  </thead>\n",
       "  <tbody>\n",
       "    <tr>\n",
       "      <th>0</th>\n",
       "      <td>Sundrive</td>\n",
       "      <td>53.321002</td>\n",
       "      <td>-6.291304</td>\n",
       "    </tr>\n",
       "    <tr>\n",
       "      <th>1</th>\n",
       "      <td>Dundaniel</td>\n",
       "      <td>53.400079</td>\n",
       "      <td>-6.226484</td>\n",
       "    </tr>\n",
       "    <tr>\n",
       "      <th>2</th>\n",
       "      <td>Oscar Traynor</td>\n",
       "      <td>53.397337</td>\n",
       "      <td>-6.217526</td>\n",
       "    </tr>\n",
       "    <tr>\n",
       "      <th>3</th>\n",
       "      <td>Ringsend</td>\n",
       "      <td>53.341613</td>\n",
       "      <td>-6.221503</td>\n",
       "    </tr>\n",
       "    <tr>\n",
       "      <th>4</th>\n",
       "      <td>St. Annes</td>\n",
       "      <td>52.211641</td>\n",
       "      <td>-6.496885</td>\n",
       "    </tr>\n",
       "    <tr>\n",
       "      <th>...</th>\n",
       "      <td>...</td>\n",
       "      <td>...</td>\n",
       "      <td>...</td>\n",
       "    </tr>\n",
       "    <tr>\n",
       "      <th>60</th>\n",
       "      <td>Fr. Collins</td>\n",
       "      <td>53.405412</td>\n",
       "      <td>-6.160651</td>\n",
       "    </tr>\n",
       "    <tr>\n",
       "      <th>61</th>\n",
       "      <td>Plunkett Avenue</td>\n",
       "      <td>-26.187508</td>\n",
       "      <td>27.989036</td>\n",
       "    </tr>\n",
       "    <tr>\n",
       "      <th>62</th>\n",
       "      <td>Clonturk</td>\n",
       "      <td>53.368229</td>\n",
       "      <td>-6.250461</td>\n",
       "    </tr>\n",
       "    <tr>\n",
       "      <th>63</th>\n",
       "      <td>Naul</td>\n",
       "      <td>52.414193</td>\n",
       "      <td>-1.518399</td>\n",
       "    </tr>\n",
       "    <tr>\n",
       "      <th>64</th>\n",
       "      <td>Johnstown</td>\n",
       "      <td>53.268611</td>\n",
       "      <td>-6.146051</td>\n",
       "    </tr>\n",
       "  </tbody>\n",
       "</table>\n",
       "<p>64 rows × 3 columns</p>\n",
       "</div>"
      ],
      "text/plain": [
       "               Park   Latitude  Longitude\n",
       "0          Sundrive  53.321002  -6.291304\n",
       "1         Dundaniel  53.400079  -6.226484\n",
       "2     Oscar Traynor  53.397337  -6.217526\n",
       "3          Ringsend  53.341613  -6.221503\n",
       "4         St. Annes  52.211641  -6.496885\n",
       "..              ...        ...        ...\n",
       "60      Fr. Collins  53.405412  -6.160651\n",
       "61  Plunkett Avenue -26.187508  27.989036\n",
       "62         Clonturk  53.368229  -6.250461\n",
       "63             Naul  52.414193  -1.518399\n",
       "64        Johnstown  53.268611  -6.146051\n",
       "\n",
       "[64 rows x 3 columns]"
      ]
     },
     "execution_count": 98,
     "metadata": {},
     "output_type": "execute_result"
    }
   ],
   "source": [
    "val = val.loc[val['Latitude'] != 'None']\n",
    "val"
   ]
  },
  {
   "cell_type": "code",
   "execution_count": 101,
   "id": "7d6f45b9",
   "metadata": {},
   "outputs": [],
   "source": [
    "val1 = val.loc[(val['Latitude'] > 53) & (val['Latitude'] < 54)]"
   ]
  },
  {
   "cell_type": "code",
   "execution_count": 102,
   "id": "b12ac3c2",
   "metadata": {},
   "outputs": [],
   "source": [
    "vals = np.array(test12['Longitude'])\n",
    "vals1 = np.array(test12['Latitude'])\n",
    "parklon = np.array(val1['Longitude'])\n",
    "parklat = np.array(val1['Latitude'])\n",
    "distance_park = []\n",
    "for i in range(len(vals)):\n",
    "    lat1 = vals1[i]\n",
    "    lon1 = vals[i]\n",
    "    distances_park = []\n",
    "    for j in range(len(parklat)): # B\n",
    "        lat2 = parklat[j]\n",
    "        lon2 = parklon[j]\n",
    "        dist = haversine(lon1, lat1, lon2, lat2)\n",
    "        distances_park.append(dist)\n",
    "\n",
    "    min_distance = min(distances_park)\n",
    "    distance_park.append(min_distance)\n",
    "    #min_index = distances.index(min_distance)"
   ]
  },
  {
   "cell_type": "code",
   "execution_count": 105,
   "id": "5d7fd563",
   "metadata": {},
   "outputs": [
    {
     "data": {
      "text/plain": [
       "5386"
      ]
     },
     "execution_count": 105,
     "metadata": {},
     "output_type": "execute_result"
    }
   ],
   "source": [
    "len(distance_park)"
   ]
  },
  {
   "cell_type": "code",
   "execution_count": 107,
   "id": "b73b152c",
   "metadata": {},
   "outputs": [
    {
     "data": {
      "text/plain": [
       "10.479233194327191"
      ]
     },
     "execution_count": 107,
     "metadata": {},
     "output_type": "execute_result"
    }
   ],
   "source": [
    "max(distance_park)"
   ]
  },
  {
   "cell_type": "code",
   "execution_count": 109,
   "id": "8e7825f6",
   "metadata": {},
   "outputs": [],
   "source": [
    "test12['DistancePark'] = distance_park"
   ]
  },
  {
   "cell_type": "code",
   "execution_count": 111,
   "id": "e1eb51e2",
   "metadata": {},
   "outputs": [],
   "source": [
    "#test12.to_csv('initial-ml-test-dub-1.csv')"
   ]
  },
  {
   "cell_type": "markdown",
   "id": "785d8af2",
   "metadata": {},
   "source": [
    "### Luas Stops\n",
    "\n",
    "(accuracy drops 1%)"
   ]
  },
  {
   "cell_type": "code",
   "execution_count": 118,
   "id": "eb8139cd",
   "metadata": {},
   "outputs": [
    {
     "data": {
      "text/html": [
       "<div>\n",
       "<style scoped>\n",
       "    .dataframe tbody tr th:only-of-type {\n",
       "        vertical-align: middle;\n",
       "    }\n",
       "\n",
       "    .dataframe tbody tr th {\n",
       "        vertical-align: top;\n",
       "    }\n",
       "\n",
       "    .dataframe thead th {\n",
       "        text-align: right;\n",
       "    }\n",
       "</style>\n",
       "<table border=\"1\" class=\"dataframe\">\n",
       "  <thead>\n",
       "    <tr style=\"text-align: right;\">\n",
       "      <th></th>\n",
       "      <th>Stop_English</th>\n",
       "      <th>Stop_Irish</th>\n",
       "      <th>Latitude</th>\n",
       "      <th>Longitude</th>\n",
       "    </tr>\n",
       "  </thead>\n",
       "  <tbody>\n",
       "    <tr>\n",
       "      <th>0</th>\n",
       "      <td>Saggart</td>\n",
       "      <td>Teach Sagard</td>\n",
       "      <td>53.284679</td>\n",
       "      <td>-6.437763</td>\n",
       "    </tr>\n",
       "    <tr>\n",
       "      <th>1</th>\n",
       "      <td>Fortunestown</td>\n",
       "      <td>Baile Uí Fhoirtcheirn</td>\n",
       "      <td>53.284251</td>\n",
       "      <td>-6.424602</td>\n",
       "    </tr>\n",
       "    <tr>\n",
       "      <th>2</th>\n",
       "      <td>Citywest Campus</td>\n",
       "      <td>Campas Gnó Iarthar na Cathrach</td>\n",
       "      <td>53.287833</td>\n",
       "      <td>-6.418915</td>\n",
       "    </tr>\n",
       "    <tr>\n",
       "      <th>3</th>\n",
       "      <td>Cheeverstown</td>\n",
       "      <td>Baile an tSíbhrigh</td>\n",
       "      <td>53.290982</td>\n",
       "      <td>-6.406849</td>\n",
       "    </tr>\n",
       "    <tr>\n",
       "      <th>4</th>\n",
       "      <td>Fettercairn</td>\n",
       "      <td>Fothair Chardain</td>\n",
       "      <td>53.293519</td>\n",
       "      <td>-6.395554</td>\n",
       "    </tr>\n",
       "  </tbody>\n",
       "</table>\n",
       "</div>"
      ],
      "text/plain": [
       "      Stop_English                      Stop_Irish   Latitude  Longitude\n",
       "0          Saggart                    Teach Sagard  53.284679  -6.437763\n",
       "1     Fortunestown           Baile Uí Fhoirtcheirn  53.284251  -6.424602\n",
       "2  Citywest Campus  Campas Gnó Iarthar na Cathrach  53.287833  -6.418915\n",
       "3     Cheeverstown              Baile an tSíbhrigh  53.290982  -6.406849\n",
       "4      Fettercairn                Fothair Chardain  53.293519  -6.395554"
      ]
     },
     "execution_count": 118,
     "metadata": {},
     "output_type": "execute_result"
    }
   ],
   "source": [
    "luas = pd.read_csv('luasstopnames.csv')\n",
    "luas.head()"
   ]
  },
  {
   "cell_type": "code",
   "execution_count": 113,
   "id": "8e917276",
   "metadata": {},
   "outputs": [],
   "source": [
    "vals = np.array(test12['Longitude'])\n",
    "vals1 = np.array(test12['Latitude'])\n",
    "luaslon = np.array(luas['Longitude'])\n",
    "luaslat = np.array(luas['Latitude'])\n",
    "distance_luas = []\n",
    "for i in range(len(vals)):\n",
    "    lat1 = vals1[i]\n",
    "    lon1 = vals[i]\n",
    "    distances_luas = []\n",
    "    for j in range(len(luaslat)): # B\n",
    "        lat2 = luaslat[j]\n",
    "        lon2 = luaslon[j]\n",
    "        dist = haversine(lon1, lat1, lon2, lat2)\n",
    "        distances_luas.append(dist)\n",
    "\n",
    "    min_distance = min(distances_luas)\n",
    "    distance_luas.append(min_distance)"
   ]
  },
  {
   "cell_type": "code",
   "execution_count": 115,
   "id": "e2284808",
   "metadata": {},
   "outputs": [],
   "source": [
    "#distance_luas"
   ]
  },
  {
   "cell_type": "code",
   "execution_count": 117,
   "id": "3c292e78",
   "metadata": {},
   "outputs": [],
   "source": [
    "test12['DistanceLuas'] = distance_luas"
   ]
  },
  {
   "cell_type": "code",
   "execution_count": 119,
   "id": "64bca50b",
   "metadata": {},
   "outputs": [],
   "source": [
    "#test12.to_csv('initial-ml-test-dub-1.csv')"
   ]
  },
  {
   "cell_type": "markdown",
   "id": "0da79281",
   "metadata": {},
   "source": [
    "### Secondary Schools\n",
    "1% improvement"
   ]
  },
  {
   "cell_type": "code",
   "execution_count": 192,
   "id": "e87c2b10",
   "metadata": {},
   "outputs": [],
   "source": [
    "sec = pd.read_csv('post-primary-schools-2019-2020-dub.csv')"
   ]
  },
  {
   "cell_type": "code",
   "execution_count": 216,
   "id": "4d879daa",
   "metadata": {},
   "outputs": [
    {
     "data": {
      "text/html": [
       "<div>\n",
       "<style scoped>\n",
       "    .dataframe tbody tr th:only-of-type {\n",
       "        vertical-align: middle;\n",
       "    }\n",
       "\n",
       "    .dataframe tbody tr th {\n",
       "        vertical-align: top;\n",
       "    }\n",
       "\n",
       "    .dataframe thead th {\n",
       "        text-align: right;\n",
       "    }\n",
       "</style>\n",
       "<table border=\"1\" class=\"dataframe\">\n",
       "  <thead>\n",
       "    <tr style=\"text-align: right;\">\n",
       "      <th></th>\n",
       "      <th>Official School Name</th>\n",
       "      <th>Address 1</th>\n",
       "      <th>Address 2</th>\n",
       "      <th>Address 3</th>\n",
       "      <th>County</th>\n",
       "      <th>Local Authority</th>\n",
       "      <th>Eircode</th>\n",
       "      <th>Fee Paying School (Y/N)</th>\n",
       "      <th>School Gender - Post Primary</th>\n",
       "      <th>Post Primary School Type</th>\n",
       "      <th>Ethos/Religion</th>\n",
       "    </tr>\n",
       "  </thead>\n",
       "  <tbody>\n",
       "    <tr>\n",
       "      <th>0</th>\n",
       "      <td>Loreto Secondary School</td>\n",
       "      <td>Brick Lane</td>\n",
       "      <td>Balbriggan</td>\n",
       "      <td>Co Dublin</td>\n",
       "      <td>Dublin</td>\n",
       "      <td>Fingal County Council</td>\n",
       "      <td>K32R248</td>\n",
       "      <td>N</td>\n",
       "      <td>Girls</td>\n",
       "      <td>Secondary</td>\n",
       "      <td>CATHOLIC</td>\n",
       "    </tr>\n",
       "    <tr>\n",
       "      <th>1</th>\n",
       "      <td>St Marys Secondary School</td>\n",
       "      <td>Baldoyle</td>\n",
       "      <td>D13 W208</td>\n",
       "      <td>NaN</td>\n",
       "      <td>Dublin</td>\n",
       "      <td>Fingal County Council</td>\n",
       "      <td>D13W208</td>\n",
       "      <td>N</td>\n",
       "      <td>Girls</td>\n",
       "      <td>Secondary</td>\n",
       "      <td>CATHOLIC</td>\n",
       "    </tr>\n",
       "    <tr>\n",
       "      <th>2</th>\n",
       "      <td>Blackrock College</td>\n",
       "      <td>Blackrock College</td>\n",
       "      <td>Co Dublin</td>\n",
       "      <td>NaN</td>\n",
       "      <td>Dublin</td>\n",
       "      <td>Dun Laoghaire Rathdown</td>\n",
       "      <td>A94FK84</td>\n",
       "      <td>Y</td>\n",
       "      <td>Boys</td>\n",
       "      <td>Secondary</td>\n",
       "      <td>CATHOLIC</td>\n",
       "    </tr>\n",
       "    <tr>\n",
       "      <th>3</th>\n",
       "      <td>Willow Park School</td>\n",
       "      <td>Rock Road</td>\n",
       "      <td>Blackrock</td>\n",
       "      <td>Co Dublin</td>\n",
       "      <td>Dublin</td>\n",
       "      <td>Dun Laoghaire Rathdown</td>\n",
       "      <td>A94TW98</td>\n",
       "      <td>Y</td>\n",
       "      <td>Boys</td>\n",
       "      <td>Secondary</td>\n",
       "      <td>CATHOLIC</td>\n",
       "    </tr>\n",
       "    <tr>\n",
       "      <th>4</th>\n",
       "      <td>Coláiste Eoin</td>\n",
       "      <td>Baile an Bhóthair</td>\n",
       "      <td>Bóthair Stigh Lorgan</td>\n",
       "      <td>Co. Átha Cliath</td>\n",
       "      <td>Dublin</td>\n",
       "      <td>Dun Laoghaire Rathdown</td>\n",
       "      <td>A94E122</td>\n",
       "      <td>N</td>\n",
       "      <td>Boys</td>\n",
       "      <td>Secondary</td>\n",
       "      <td>CATHOLIC</td>\n",
       "    </tr>\n",
       "  </tbody>\n",
       "</table>\n",
       "</div>"
      ],
      "text/plain": [
       "        Official School Name          Address 1             Address 2  \\\n",
       "0    Loreto Secondary School         Brick Lane            Balbriggan   \n",
       "1  St Marys Secondary School           Baldoyle              D13 W208   \n",
       "2          Blackrock College  Blackrock College             Co Dublin   \n",
       "3         Willow Park School          Rock Road             Blackrock   \n",
       "4              Coláiste Eoin  Baile an Bhóthair  Bóthair Stigh Lorgan   \n",
       "\n",
       "         Address 3  County         Local Authority  Eircode  \\\n",
       "0        Co Dublin  Dublin   Fingal County Council  K32R248   \n",
       "1              NaN  Dublin   Fingal County Council  D13W208   \n",
       "2              NaN  Dublin  Dun Laoghaire Rathdown  A94FK84   \n",
       "3        Co Dublin  Dublin  Dun Laoghaire Rathdown  A94TW98   \n",
       "4  Co. Átha Cliath  Dublin  Dun Laoghaire Rathdown  A94E122   \n",
       "\n",
       "  Fee Paying School (Y/N) School Gender - Post Primary  \\\n",
       "0                       N                        Girls   \n",
       "1                       N                        Girls   \n",
       "2                       Y                         Boys   \n",
       "3                       Y                         Boys   \n",
       "4                       N                         Boys   \n",
       "\n",
       "  Post Primary School Type Ethos/Religion  \n",
       "0                Secondary       CATHOLIC  \n",
       "1                Secondary       CATHOLIC  \n",
       "2                Secondary       CATHOLIC  \n",
       "3                Secondary       CATHOLIC  \n",
       "4                Secondary       CATHOLIC  "
      ]
     },
     "execution_count": 216,
     "metadata": {},
     "output_type": "execute_result"
    }
   ],
   "source": [
    "sec.head()"
   ]
  },
  {
   "cell_type": "code",
   "execution_count": 250,
   "id": "5baf46ef",
   "metadata": {},
   "outputs": [
    {
     "data": {
      "text/plain": [
       "Location(Rock Road, Intake, Blackrock-Williamstown ED, Blackrock, Dún Laoghaire-Rathdown, County Dublin, Leinster, A94 X2C6, Éire / Ireland, (53.308149, -6.1949437, 0.0))"
      ]
     },
     "execution_count": 250,
     "metadata": {},
     "output_type": "execute_result"
    }
   ],
   "source": [
    "geolocator.geocode('Rock Road Blackrock Dublin')"
   ]
  },
  {
   "cell_type": "code",
   "execution_count": 302,
   "id": "dd609f7c",
   "metadata": {},
   "outputs": [],
   "source": [
    "add = []\n",
    "#add1 = np.array(sec['Official School Name'])\n",
    "add2 = np.array(sec['Address 1'])\n",
    "for i in range(len(add2)):\n",
    "    string = str(add2[i]) + \" \" + \" Dublin\"\n",
    "    add.append(string.title())"
   ]
  },
  {
   "cell_type": "code",
   "execution_count": 303,
   "id": "10e069f0",
   "metadata": {},
   "outputs": [],
   "source": [
    "#add"
   ]
  },
  {
   "cell_type": "code",
   "execution_count": 304,
   "id": "acc7aa43",
   "metadata": {},
   "outputs": [],
   "source": [
    "sec['Full Address'] = add"
   ]
  },
  {
   "cell_type": "code",
   "execution_count": 305,
   "id": "e2abd07c",
   "metadata": {},
   "outputs": [
    {
     "data": {
      "text/html": [
       "<div>\n",
       "<style scoped>\n",
       "    .dataframe tbody tr th:only-of-type {\n",
       "        vertical-align: middle;\n",
       "    }\n",
       "\n",
       "    .dataframe tbody tr th {\n",
       "        vertical-align: top;\n",
       "    }\n",
       "\n",
       "    .dataframe thead th {\n",
       "        text-align: right;\n",
       "    }\n",
       "</style>\n",
       "<table border=\"1\" class=\"dataframe\">\n",
       "  <thead>\n",
       "    <tr style=\"text-align: right;\">\n",
       "      <th></th>\n",
       "      <th>Official School Name</th>\n",
       "      <th>Address 1</th>\n",
       "      <th>Address 2</th>\n",
       "      <th>Address 3</th>\n",
       "      <th>County</th>\n",
       "      <th>Local Authority</th>\n",
       "      <th>Eircode</th>\n",
       "      <th>Fee Paying School (Y/N)</th>\n",
       "      <th>School Gender - Post Primary</th>\n",
       "      <th>Post Primary School Type</th>\n",
       "      <th>Ethos/Religion</th>\n",
       "      <th>Full Address</th>\n",
       "      <th>Latitude</th>\n",
       "      <th>Longitude</th>\n",
       "    </tr>\n",
       "  </thead>\n",
       "  <tbody>\n",
       "    <tr>\n",
       "      <th>0</th>\n",
       "      <td>Loreto Secondary School</td>\n",
       "      <td>Brick Lane</td>\n",
       "      <td>Balbriggan</td>\n",
       "      <td>Co Dublin</td>\n",
       "      <td>Dublin</td>\n",
       "      <td>Fingal County Council</td>\n",
       "      <td>K32R248</td>\n",
       "      <td>N</td>\n",
       "      <td>Girls</td>\n",
       "      <td>Secondary</td>\n",
       "      <td>CATHOLIC</td>\n",
       "      <td>Brick Lane  Dublin</td>\n",
       "      <td>53.612818</td>\n",
       "      <td>-6.184802</td>\n",
       "    </tr>\n",
       "    <tr>\n",
       "      <th>1</th>\n",
       "      <td>St Marys Secondary School</td>\n",
       "      <td>Baldoyle</td>\n",
       "      <td>D13 W208</td>\n",
       "      <td>NaN</td>\n",
       "      <td>Dublin</td>\n",
       "      <td>Fingal County Council</td>\n",
       "      <td>D13W208</td>\n",
       "      <td>N</td>\n",
       "      <td>Girls</td>\n",
       "      <td>Secondary</td>\n",
       "      <td>CATHOLIC</td>\n",
       "      <td>Baldoyle  Dublin</td>\n",
       "      <td>None</td>\n",
       "      <td>None</td>\n",
       "    </tr>\n",
       "    <tr>\n",
       "      <th>2</th>\n",
       "      <td>Blackrock College</td>\n",
       "      <td>Blackrock College</td>\n",
       "      <td>Co Dublin</td>\n",
       "      <td>NaN</td>\n",
       "      <td>Dublin</td>\n",
       "      <td>Dun Laoghaire Rathdown</td>\n",
       "      <td>A94FK84</td>\n",
       "      <td>Y</td>\n",
       "      <td>Boys</td>\n",
       "      <td>Secondary</td>\n",
       "      <td>CATHOLIC</td>\n",
       "      <td>Blackrock College  Dublin</td>\n",
       "      <td>53.304715</td>\n",
       "      <td>-6.192405</td>\n",
       "    </tr>\n",
       "    <tr>\n",
       "      <th>3</th>\n",
       "      <td>Willow Park School</td>\n",
       "      <td>Rock Road</td>\n",
       "      <td>Blackrock</td>\n",
       "      <td>Co Dublin</td>\n",
       "      <td>Dublin</td>\n",
       "      <td>Dun Laoghaire Rathdown</td>\n",
       "      <td>A94TW98</td>\n",
       "      <td>Y</td>\n",
       "      <td>Boys</td>\n",
       "      <td>Secondary</td>\n",
       "      <td>CATHOLIC</td>\n",
       "      <td>Rock Road  Dublin</td>\n",
       "      <td>None</td>\n",
       "      <td>None</td>\n",
       "    </tr>\n",
       "    <tr>\n",
       "      <th>4</th>\n",
       "      <td>Coláiste Eoin</td>\n",
       "      <td>Baile an Bhóthair</td>\n",
       "      <td>Bóthair Stigh Lorgan</td>\n",
       "      <td>Co. Átha Cliath</td>\n",
       "      <td>Dublin</td>\n",
       "      <td>Dun Laoghaire Rathdown</td>\n",
       "      <td>A94E122</td>\n",
       "      <td>N</td>\n",
       "      <td>Boys</td>\n",
       "      <td>Secondary</td>\n",
       "      <td>CATHOLIC</td>\n",
       "      <td>Baile An Bhóthair  Dublin</td>\n",
       "      <td>53.301951</td>\n",
       "      <td>-6.204838</td>\n",
       "    </tr>\n",
       "  </tbody>\n",
       "</table>\n",
       "</div>"
      ],
      "text/plain": [
       "        Official School Name          Address 1             Address 2  \\\n",
       "0    Loreto Secondary School         Brick Lane            Balbriggan   \n",
       "1  St Marys Secondary School           Baldoyle              D13 W208   \n",
       "2          Blackrock College  Blackrock College             Co Dublin   \n",
       "3         Willow Park School          Rock Road             Blackrock   \n",
       "4              Coláiste Eoin  Baile an Bhóthair  Bóthair Stigh Lorgan   \n",
       "\n",
       "         Address 3  County         Local Authority  Eircode  \\\n",
       "0        Co Dublin  Dublin   Fingal County Council  K32R248   \n",
       "1              NaN  Dublin   Fingal County Council  D13W208   \n",
       "2              NaN  Dublin  Dun Laoghaire Rathdown  A94FK84   \n",
       "3        Co Dublin  Dublin  Dun Laoghaire Rathdown  A94TW98   \n",
       "4  Co. Átha Cliath  Dublin  Dun Laoghaire Rathdown  A94E122   \n",
       "\n",
       "  Fee Paying School (Y/N) School Gender - Post Primary  \\\n",
       "0                       N                        Girls   \n",
       "1                       N                        Girls   \n",
       "2                       Y                         Boys   \n",
       "3                       Y                         Boys   \n",
       "4                       N                         Boys   \n",
       "\n",
       "  Post Primary School Type Ethos/Religion               Full Address  \\\n",
       "0                Secondary       CATHOLIC         Brick Lane  Dublin   \n",
       "1                Secondary       CATHOLIC           Baldoyle  Dublin   \n",
       "2                Secondary       CATHOLIC  Blackrock College  Dublin   \n",
       "3                Secondary       CATHOLIC          Rock Road  Dublin   \n",
       "4                Secondary       CATHOLIC  Baile An Bhóthair  Dublin   \n",
       "\n",
       "    Latitude Longitude  \n",
       "0  53.612818 -6.184802  \n",
       "1       None      None  \n",
       "2  53.304715 -6.192405  \n",
       "3       None      None  \n",
       "4  53.301951 -6.204838  "
      ]
     },
     "execution_count": 305,
     "metadata": {},
     "output_type": "execute_result"
    }
   ],
   "source": [
    "sec.head()"
   ]
  },
  {
   "cell_type": "code",
   "execution_count": 306,
   "id": "e35b07de",
   "metadata": {},
   "outputs": [],
   "source": [
    "geolocator = Nominatim(user_agent = \"fyp\")\n",
    "sec_school = np.array(sec['Full Address'])\n",
    "latsec = []\n",
    "lonsec = []\n",
    "for i in range(len(sec_school)):\n",
    "    string = sec_school[i]\n",
    "    location = geolocator.geocode(string)\n",
    "    if location != None:\n",
    "        latsec.append(location.latitude)\n",
    "        lonsec.append(location.longitude)\n",
    "    else:\n",
    "        latsec.append('None')\n",
    "        lonsec.append('None')"
   ]
  },
  {
   "cell_type": "code",
   "execution_count": 307,
   "id": "02e010c2",
   "metadata": {},
   "outputs": [],
   "source": [
    "#latsec"
   ]
  },
  {
   "cell_type": "code",
   "execution_count": 308,
   "id": "5a196033",
   "metadata": {},
   "outputs": [
    {
     "data": {
      "text/plain": [
       "(183, 14)"
      ]
     },
     "execution_count": 308,
     "metadata": {},
     "output_type": "execute_result"
    }
   ],
   "source": [
    "sec.shape"
   ]
  },
  {
   "cell_type": "code",
   "execution_count": 309,
   "id": "b6b7286d",
   "metadata": {},
   "outputs": [],
   "source": [
    "sec['Latitude'] = latsec\n",
    "sec['Longitude'] = lonsec"
   ]
  },
  {
   "cell_type": "code",
   "execution_count": 310,
   "id": "181580ec",
   "metadata": {},
   "outputs": [],
   "source": [
    "sec1 = sec.loc[sec['Latitude'] != 'None']"
   ]
  },
  {
   "cell_type": "code",
   "execution_count": 311,
   "id": "9464528d",
   "metadata": {},
   "outputs": [
    {
     "data": {
      "text/plain": [
       "(170, 14)"
      ]
     },
     "execution_count": 311,
     "metadata": {},
     "output_type": "execute_result"
    }
   ],
   "source": [
    "sec1.shape"
   ]
  },
  {
   "cell_type": "code",
   "execution_count": 319,
   "id": "388fd6e4",
   "metadata": {},
   "outputs": [
    {
     "data": {
      "text/html": [
       "<div>\n",
       "<style scoped>\n",
       "    .dataframe tbody tr th:only-of-type {\n",
       "        vertical-align: middle;\n",
       "    }\n",
       "\n",
       "    .dataframe tbody tr th {\n",
       "        vertical-align: top;\n",
       "    }\n",
       "\n",
       "    .dataframe thead th {\n",
       "        text-align: right;\n",
       "    }\n",
       "</style>\n",
       "<table border=\"1\" class=\"dataframe\">\n",
       "  <thead>\n",
       "    <tr style=\"text-align: right;\">\n",
       "      <th></th>\n",
       "      <th>Official School Name</th>\n",
       "      <th>Address 1</th>\n",
       "      <th>Address 2</th>\n",
       "      <th>Address 3</th>\n",
       "      <th>County</th>\n",
       "      <th>Local Authority</th>\n",
       "      <th>Eircode</th>\n",
       "      <th>Fee Paying School (Y/N)</th>\n",
       "      <th>School Gender - Post Primary</th>\n",
       "      <th>Post Primary School Type</th>\n",
       "      <th>Ethos/Religion</th>\n",
       "      <th>Full Address</th>\n",
       "      <th>Latitude</th>\n",
       "      <th>Longitude</th>\n",
       "    </tr>\n",
       "  </thead>\n",
       "  <tbody>\n",
       "    <tr>\n",
       "      <th>0</th>\n",
       "      <td>Loreto Secondary School</td>\n",
       "      <td>Brick Lane</td>\n",
       "      <td>Balbriggan</td>\n",
       "      <td>Co Dublin</td>\n",
       "      <td>Dublin</td>\n",
       "      <td>Fingal County Council</td>\n",
       "      <td>K32R248</td>\n",
       "      <td>N</td>\n",
       "      <td>Girls</td>\n",
       "      <td>Secondary</td>\n",
       "      <td>CATHOLIC</td>\n",
       "      <td>Brick Lane  Dublin</td>\n",
       "      <td>53.612206</td>\n",
       "      <td>-6.186540</td>\n",
       "    </tr>\n",
       "    <tr>\n",
       "      <th>1</th>\n",
       "      <td>St Marys Secondary School</td>\n",
       "      <td>Baldoyle</td>\n",
       "      <td>D13 W208</td>\n",
       "      <td>NaN</td>\n",
       "      <td>Dublin</td>\n",
       "      <td>Fingal County Council</td>\n",
       "      <td>D13W208</td>\n",
       "      <td>N</td>\n",
       "      <td>Girls</td>\n",
       "      <td>Secondary</td>\n",
       "      <td>CATHOLIC</td>\n",
       "      <td>Baldoyle  Dublin</td>\n",
       "      <td>53.395830</td>\n",
       "      <td>-6.128550</td>\n",
       "    </tr>\n",
       "    <tr>\n",
       "      <th>2</th>\n",
       "      <td>Blackrock College</td>\n",
       "      <td>Blackrock College</td>\n",
       "      <td>Co Dublin</td>\n",
       "      <td>NaN</td>\n",
       "      <td>Dublin</td>\n",
       "      <td>Dun Laoghaire Rathdown</td>\n",
       "      <td>A94FK84</td>\n",
       "      <td>Y</td>\n",
       "      <td>Boys</td>\n",
       "      <td>Secondary</td>\n",
       "      <td>CATHOLIC</td>\n",
       "      <td>Blackrock College  Dublin</td>\n",
       "      <td>53.304715</td>\n",
       "      <td>-6.192405</td>\n",
       "    </tr>\n",
       "    <tr>\n",
       "      <th>3</th>\n",
       "      <td>Willow Park School</td>\n",
       "      <td>Rock Road</td>\n",
       "      <td>Blackrock</td>\n",
       "      <td>Co Dublin</td>\n",
       "      <td>Dublin</td>\n",
       "      <td>Dun Laoghaire Rathdown</td>\n",
       "      <td>A94TW98</td>\n",
       "      <td>Y</td>\n",
       "      <td>Boys</td>\n",
       "      <td>Secondary</td>\n",
       "      <td>CATHOLIC</td>\n",
       "      <td>Rock Road  Dublin</td>\n",
       "      <td>53.308149</td>\n",
       "      <td>-6.194944</td>\n",
       "    </tr>\n",
       "    <tr>\n",
       "      <th>4</th>\n",
       "      <td>Coláiste Eoin</td>\n",
       "      <td>Baile an Bhóthair</td>\n",
       "      <td>Bóthair Stigh Lorgan</td>\n",
       "      <td>Co. Átha Cliath</td>\n",
       "      <td>Dublin</td>\n",
       "      <td>Dun Laoghaire Rathdown</td>\n",
       "      <td>A94E122</td>\n",
       "      <td>N</td>\n",
       "      <td>Boys</td>\n",
       "      <td>Secondary</td>\n",
       "      <td>CATHOLIC</td>\n",
       "      <td>Baile An Bhóthair  Dublin</td>\n",
       "      <td>53.308629</td>\n",
       "      <td>-6.196652</td>\n",
       "    </tr>\n",
       "  </tbody>\n",
       "</table>\n",
       "</div>"
      ],
      "text/plain": [
       "        Official School Name          Address 1             Address 2  \\\n",
       "0    Loreto Secondary School         Brick Lane            Balbriggan   \n",
       "1  St Marys Secondary School           Baldoyle              D13 W208   \n",
       "2          Blackrock College  Blackrock College             Co Dublin   \n",
       "3         Willow Park School          Rock Road             Blackrock   \n",
       "4              Coláiste Eoin  Baile an Bhóthair  Bóthair Stigh Lorgan   \n",
       "\n",
       "         Address 3  County         Local Authority  Eircode  \\\n",
       "0        Co Dublin  Dublin   Fingal County Council  K32R248   \n",
       "1              NaN  Dublin   Fingal County Council  D13W208   \n",
       "2              NaN  Dublin  Dun Laoghaire Rathdown  A94FK84   \n",
       "3        Co Dublin  Dublin  Dun Laoghaire Rathdown  A94TW98   \n",
       "4  Co. Átha Cliath  Dublin  Dun Laoghaire Rathdown  A94E122   \n",
       "\n",
       "  Fee Paying School (Y/N) School Gender - Post Primary  \\\n",
       "0                       N                        Girls   \n",
       "1                       N                        Girls   \n",
       "2                       Y                         Boys   \n",
       "3                       Y                         Boys   \n",
       "4                       N                         Boys   \n",
       "\n",
       "  Post Primary School Type Ethos/Religion               Full Address  \\\n",
       "0                Secondary       CATHOLIC         Brick Lane  Dublin   \n",
       "1                Secondary       CATHOLIC           Baldoyle  Dublin   \n",
       "2                Secondary       CATHOLIC  Blackrock College  Dublin   \n",
       "3                Secondary       CATHOLIC          Rock Road  Dublin   \n",
       "4                Secondary       CATHOLIC  Baile An Bhóthair  Dublin   \n",
       "\n",
       "    Latitude  Longitude  \n",
       "0  53.612206  -6.186540  \n",
       "1  53.395830  -6.128550  \n",
       "2  53.304715  -6.192405  \n",
       "3  53.308149  -6.194944  \n",
       "4  53.308629  -6.196652  "
      ]
     },
     "execution_count": 319,
     "metadata": {},
     "output_type": "execute_result"
    }
   ],
   "source": [
    "sec1.head()"
   ]
  },
  {
   "cell_type": "code",
   "execution_count": 313,
   "id": "69ece780",
   "metadata": {},
   "outputs": [
    {
     "name": "stderr",
     "output_type": "stream",
     "text": [
      "C:\\Users\\user\\AppData\\Local\\Temp/ipykernel_14292/4069311069.py:1: SettingWithCopyWarning: \n",
      "A value is trying to be set on a copy of a slice from a DataFrame.\n",
      "Try using .loc[row_indexer,col_indexer] = value instead\n",
      "\n",
      "See the caveats in the documentation: https://pandas.pydata.org/pandas-docs/stable/user_guide/indexing.html#returning-a-view-versus-a-copy\n",
      "  sec1['Latitude'] = sec1['Latitude'].astype('float64')\n",
      "C:\\Users\\user\\AppData\\Local\\Temp/ipykernel_14292/4069311069.py:2: SettingWithCopyWarning: \n",
      "A value is trying to be set on a copy of a slice from a DataFrame.\n",
      "Try using .loc[row_indexer,col_indexer] = value instead\n",
      "\n",
      "See the caveats in the documentation: https://pandas.pydata.org/pandas-docs/stable/user_guide/indexing.html#returning-a-view-versus-a-copy\n",
      "  sec1['Longitude'] = sec1['Longitude'].astype('float64')\n"
     ]
    }
   ],
   "source": [
    "sec1['Latitude'] = sec1['Latitude'].astype('float64')\n",
    "sec1['Longitude'] = sec1['Longitude'].astype('float64')"
   ]
  },
  {
   "cell_type": "code",
   "execution_count": 314,
   "id": "53db8f6c",
   "metadata": {},
   "outputs": [],
   "source": [
    "vals = np.array(test12['Longitude'])\n",
    "vals1 = np.array(test12['Latitude'])\n",
    "seclon = np.array(sec1['Longitude'])\n",
    "seclat = np.array(sec1['Latitude'])\n",
    "distance_sec = []\n",
    "for i in range(len(vals)):\n",
    "    lat1 = vals1[i]\n",
    "    lon1 = vals[i]\n",
    "    distances_sec = []\n",
    "    for j in range(len(seclat)): # B\n",
    "        lat2 = seclat[j]\n",
    "        lon2 = seclon[j]\n",
    "        dist = haversine(lon1, lat1, lon2, lat2)\n",
    "        distances_sec.append(dist)\n",
    "\n",
    "    min_distance = min(distances_sec)\n",
    "    distance_sec.append(min_distance)"
   ]
  },
  {
   "cell_type": "code",
   "execution_count": 315,
   "id": "e1bc2695",
   "metadata": {},
   "outputs": [],
   "source": [
    "test12['DistanceSecSchool'] = distance_sec"
   ]
  },
  {
   "cell_type": "code",
   "execution_count": 317,
   "id": "f7d26a7d",
   "metadata": {},
   "outputs": [
    {
     "data": {
      "text/plain": [
       "3.532329838016618"
      ]
     },
     "execution_count": 317,
     "metadata": {},
     "output_type": "execute_result"
    }
   ],
   "source": [
    "max(distance_sec)"
   ]
  },
  {
   "cell_type": "code",
   "execution_count": 318,
   "id": "90f46cf9",
   "metadata": {},
   "outputs": [],
   "source": [
    "#test12.to_csv('initial-ml-test-dub-1.csv')"
   ]
  },
  {
   "cell_type": "markdown",
   "id": "9de35f6a",
   "metadata": {},
   "source": [
    "### Distance GPO\n",
    "Essentially city centre , check importance of distance to main shopping areas etc."
   ]
  },
  {
   "cell_type": "code",
   "execution_count": 320,
   "id": "614962b4",
   "metadata": {},
   "outputs": [],
   "source": [
    "lat_gpo = 53.350140\n",
    "lon_gpo = -6.266155\n",
    "vals = np.array(test12['Longitude'])\n",
    "vals1 = np.array(test12['Latitude'])\n",
    "distance_gpo = []\n",
    "for i in range(len(vals)):\n",
    "    dist = haversine(lon_gpo, lat_gpo, vals[i], vals1[i])\n",
    "    distance_gpo.append(dist)"
   ]
  },
  {
   "cell_type": "code",
   "execution_count": 322,
   "id": "d55dbb61",
   "metadata": {},
   "outputs": [
    {
     "data": {
      "text/plain": [
       "1.3638696657229459"
      ]
     },
     "execution_count": 322,
     "metadata": {},
     "output_type": "execute_result"
    }
   ],
   "source": [
    "min(distance_gpo)"
   ]
  },
  {
   "cell_type": "code",
   "execution_count": 323,
   "id": "c5097be4",
   "metadata": {},
   "outputs": [
    {
     "data": {
      "text/plain": [
       "19.10470856794134"
      ]
     },
     "execution_count": 323,
     "metadata": {},
     "output_type": "execute_result"
    }
   ],
   "source": [
    "max(distance_gpo)"
   ]
  },
  {
   "cell_type": "code",
   "execution_count": 324,
   "id": "74b9574f",
   "metadata": {},
   "outputs": [],
   "source": [
    "test12['DistanceGPO'] = distance_gpo"
   ]
  },
  {
   "cell_type": "code",
   "execution_count": 341,
   "id": "adc68129",
   "metadata": {},
   "outputs": [],
   "source": [
    "#test12.to_csv('initial-ml-test-dub-1.csv')"
   ]
  },
  {
   "cell_type": "code",
   "execution_count": 342,
   "id": "161dc4fc",
   "metadata": {},
   "outputs": [],
   "source": [
    "### new property (description of property) is down as 0, 1 means second hand dwelling"
   ]
  },
  {
   "cell_type": "code",
   "execution_count": 365,
   "id": "40811fc9",
   "metadata": {},
   "outputs": [],
   "source": [
    "test12.rename(columns={'New/Old': 'UsedProperty'}, inplace = True)"
   ]
  },
  {
   "cell_type": "code",
   "execution_count": 366,
   "id": "82431b8f",
   "metadata": {},
   "outputs": [
    {
     "data": {
      "text/html": [
       "<div>\n",
       "<style scoped>\n",
       "    .dataframe tbody tr th:only-of-type {\n",
       "        vertical-align: middle;\n",
       "    }\n",
       "\n",
       "    .dataframe tbody tr th {\n",
       "        vertical-align: top;\n",
       "    }\n",
       "\n",
       "    .dataframe thead th {\n",
       "        text-align: right;\n",
       "    }\n",
       "</style>\n",
       "<table border=\"1\" class=\"dataframe\">\n",
       "  <thead>\n",
       "    <tr style=\"text-align: right;\">\n",
       "      <th></th>\n",
       "      <th>Address</th>\n",
       "      <th>County</th>\n",
       "      <th>Price (€)</th>\n",
       "      <th>VAT Exclusive</th>\n",
       "      <th>UsedProperty</th>\n",
       "      <th>Property Size Description</th>\n",
       "      <th>Year</th>\n",
       "      <th>Month</th>\n",
       "      <th>Town</th>\n",
       "      <th>Apartment</th>\n",
       "      <th>...</th>\n",
       "      <th>PriceInflation</th>\n",
       "      <th>Eircode</th>\n",
       "      <th>Latitude</th>\n",
       "      <th>Longitude</th>\n",
       "      <th>DistanceIFSC</th>\n",
       "      <th>DistanceSchool</th>\n",
       "      <th>DistancePark</th>\n",
       "      <th>DistanceLuas</th>\n",
       "      <th>DistanceSecSchool</th>\n",
       "      <th>DistanceGPO</th>\n",
       "    </tr>\n",
       "  </thead>\n",
       "  <tbody>\n",
       "    <tr>\n",
       "      <th>207901</th>\n",
       "      <td>55 College Square, Terenure</td>\n",
       "      <td>Dublin</td>\n",
       "      <td>447200.0</td>\n",
       "      <td>0</td>\n",
       "      <td>0</td>\n",
       "      <td>1</td>\n",
       "      <td>2014</td>\n",
       "      <td>1</td>\n",
       "      <td>Terenure</td>\n",
       "      <td>0</td>\n",
       "      <td>...</td>\n",
       "      <td>846407.8</td>\n",
       "      <td>D6W</td>\n",
       "      <td>53.307878</td>\n",
       "      <td>-6.335665</td>\n",
       "      <td>7.541595</td>\n",
       "      <td>0.49212</td>\n",
       "      <td>1.438826</td>\n",
       "      <td>2.020029</td>\n",
       "      <td>0.156609</td>\n",
       "      <td>6.587209</td>\n",
       "    </tr>\n",
       "  </tbody>\n",
       "</table>\n",
       "<p>1 rows × 21 columns</p>\n",
       "</div>"
      ],
      "text/plain": [
       "                            Address  County  Price (€)  VAT Exclusive  \\\n",
       "207901  55 College Square, Terenure  Dublin   447200.0              0   \n",
       "\n",
       "        UsedProperty  Property Size Description  Year  Month      Town  \\\n",
       "207901             0                          1  2014      1  Terenure   \n",
       "\n",
       "        Apartment  ... PriceInflation  Eircode   Latitude Longitude  \\\n",
       "207901          0  ...       846407.8      D6W  53.307878 -6.335665   \n",
       "\n",
       "       DistanceIFSC  DistanceSchool  DistancePark  DistanceLuas  \\\n",
       "207901     7.541595         0.49212      1.438826      2.020029   \n",
       "\n",
       "        DistanceSecSchool  DistanceGPO  \n",
       "207901           0.156609     6.587209  \n",
       "\n",
       "[1 rows x 21 columns]"
      ]
     },
     "execution_count": 366,
     "metadata": {},
     "output_type": "execute_result"
    }
   ],
   "source": [
    "test12.head(1)"
   ]
  },
  {
   "cell_type": "code",
   "execution_count": 367,
   "id": "36eedd98",
   "metadata": {},
   "outputs": [],
   "source": [
    "#test12.to_csv('initial-ml-test-dub-1.csv')"
   ]
  },
  {
   "cell_type": "markdown",
   "id": "87d56cb0",
   "metadata": {},
   "source": [
    "### Nearest Hospital"
   ]
  },
  {
   "cell_type": "code",
   "execution_count": 368,
   "id": "920ecebb",
   "metadata": {},
   "outputs": [],
   "source": [
    "hos = pd.read_csv('hospitals.csv')"
   ]
  },
  {
   "cell_type": "code",
   "execution_count": 369,
   "id": "4d1a5a2b",
   "metadata": {},
   "outputs": [
    {
     "data": {
      "text/html": [
       "<div>\n",
       "<style scoped>\n",
       "    .dataframe tbody tr th:only-of-type {\n",
       "        vertical-align: middle;\n",
       "    }\n",
       "\n",
       "    .dataframe tbody tr th {\n",
       "        vertical-align: top;\n",
       "    }\n",
       "\n",
       "    .dataframe thead th {\n",
       "        text-align: right;\n",
       "    }\n",
       "</style>\n",
       "<table border=\"1\" class=\"dataframe\">\n",
       "  <thead>\n",
       "    <tr style=\"text-align: right;\">\n",
       "      <th></th>\n",
       "      <th>Hospital</th>\n",
       "      <th>Lat</th>\n",
       "      <th>Long</th>\n",
       "    </tr>\n",
       "  </thead>\n",
       "  <tbody>\n",
       "    <tr>\n",
       "      <th>0</th>\n",
       "      <td>Children's Health Ireland</td>\n",
       "      <td>53.388</td>\n",
       "      <td>-6.3672</td>\n",
       "    </tr>\n",
       "  </tbody>\n",
       "</table>\n",
       "</div>"
      ],
      "text/plain": [
       "                    Hospital     Lat    Long\n",
       "0  Children's Health Ireland  53.388 -6.3672"
      ]
     },
     "execution_count": 369,
     "metadata": {},
     "output_type": "execute_result"
    }
   ],
   "source": [
    "hos.head(1)"
   ]
  },
  {
   "cell_type": "code",
   "execution_count": 382,
   "id": "066117d6",
   "metadata": {},
   "outputs": [],
   "source": [
    "vals = np.array(test12['Longitude'])\n",
    "vals1 = np.array(test12['Latitude'])\n",
    "hoslon = np.array(hos['Long'])\n",
    "hoslat = np.array(hos['Lat'])\n",
    "distance_hos = []\n",
    "for i in range(len(vals)):\n",
    "    lat1 = vals1[i]\n",
    "    lon1 = vals[i]\n",
    "    distances_hos = []\n",
    "    for j in range(len(hoslat)): # B\n",
    "        lat2 = hoslat[j]\n",
    "        lon2 = hoslon[j]\n",
    "        dist = haversine(lon1, lat1, lon2, lat2)\n",
    "        distances_hos.append(dist)\n",
    "\n",
    "    min_distance = min(distances_hos)\n",
    "    distance_hos.append(min_distance)"
   ]
  },
  {
   "cell_type": "code",
   "execution_count": 383,
   "id": "4e8237af",
   "metadata": {},
   "outputs": [],
   "source": [
    "test12['DistanceHospital'] = distance_hos"
   ]
  },
  {
   "cell_type": "code",
   "execution_count": 385,
   "id": "958cc839",
   "metadata": {},
   "outputs": [
    {
     "data": {
      "text/plain": [
       "13.792135072853485"
      ]
     },
     "execution_count": 385,
     "metadata": {},
     "output_type": "execute_result"
    }
   ],
   "source": [
    "max(distance_hos)"
   ]
  },
  {
   "cell_type": "code",
   "execution_count": 386,
   "id": "f254dd02",
   "metadata": {},
   "outputs": [],
   "source": [
    "#test12.to_csv('initial-ml-test-dub-1.csv')"
   ]
  },
  {
   "cell_type": "markdown",
   "id": "7172d483",
   "metadata": {},
   "source": [
    "### Nearest Beach"
   ]
  },
  {
   "cell_type": "code",
   "execution_count": 387,
   "id": "7f8a4216",
   "metadata": {},
   "outputs": [],
   "source": [
    "be = pd.read_csv('fccbeaches.csv')"
   ]
  },
  {
   "cell_type": "code",
   "execution_count": 404,
   "id": "687a83ed",
   "metadata": {},
   "outputs": [
    {
     "data": {
      "text/html": [
       "<div>\n",
       "<style scoped>\n",
       "    .dataframe tbody tr th:only-of-type {\n",
       "        vertical-align: middle;\n",
       "    }\n",
       "\n",
       "    .dataframe tbody tr th {\n",
       "        vertical-align: top;\n",
       "    }\n",
       "\n",
       "    .dataframe thead th {\n",
       "        text-align: right;\n",
       "    }\n",
       "</style>\n",
       "<table border=\"1\" class=\"dataframe\">\n",
       "  <thead>\n",
       "    <tr style=\"text-align: right;\">\n",
       "      <th></th>\n",
       "      <th>NAME</th>\n",
       "      <th>LAT</th>\n",
       "      <th>LONG</th>\n",
       "    </tr>\n",
       "  </thead>\n",
       "  <tbody>\n",
       "    <tr>\n",
       "      <th>0</th>\n",
       "      <td>Loughshinny</td>\n",
       "      <td>53.545531</td>\n",
       "      <td>-6.079579</td>\n",
       "    </tr>\n",
       "  </tbody>\n",
       "</table>\n",
       "</div>"
      ],
      "text/plain": [
       "          NAME        LAT      LONG\n",
       "0  Loughshinny  53.545531 -6.079579"
      ]
     },
     "execution_count": 404,
     "metadata": {},
     "output_type": "execute_result"
    }
   ],
   "source": [
    "be.head(1)"
   ]
  },
  {
   "cell_type": "code",
   "execution_count": 390,
   "id": "d070029b",
   "metadata": {},
   "outputs": [],
   "source": [
    "vals = np.array(test12['Longitude'])\n",
    "vals1 = np.array(test12['Latitude'])\n",
    "belon = np.array(be['LONG'])\n",
    "belat = np.array(be['LAT'])\n",
    "distance_be = []\n",
    "for i in range(len(vals)):\n",
    "    lat1 = vals1[i]\n",
    "    lon1 = vals[i]\n",
    "    distances_be = []\n",
    "    for j in range(len(belat)): # B\n",
    "        lat2 = belat[j]\n",
    "        lon2 = belon[j]\n",
    "        dist = haversine(lon1, lat1, lon2, lat2)\n",
    "        distances_be.append(dist)\n",
    "\n",
    "    min_distance = min(distances_be)\n",
    "    distance_be.append(min_distance)"
   ]
  },
  {
   "cell_type": "code",
   "execution_count": 391,
   "id": "100fe225",
   "metadata": {},
   "outputs": [],
   "source": [
    "test12['DistanceBeach'] = distance_be"
   ]
  },
  {
   "cell_type": "code",
   "execution_count": 392,
   "id": "6f7ce270",
   "metadata": {},
   "outputs": [
    {
     "data": {
      "text/plain": [
       "1.0913266075411827"
      ]
     },
     "execution_count": 392,
     "metadata": {},
     "output_type": "execute_result"
    }
   ],
   "source": [
    "min(distance_be)"
   ]
  },
  {
   "cell_type": "code",
   "execution_count": 393,
   "id": "aad6fceb",
   "metadata": {},
   "outputs": [
    {
     "data": {
      "text/plain": [
       "24.905897865600902"
      ]
     },
     "execution_count": 393,
     "metadata": {},
     "output_type": "execute_result"
    }
   ],
   "source": [
    "max(distance_be)"
   ]
  },
  {
   "cell_type": "code",
   "execution_count": 394,
   "id": "f8d2deab",
   "metadata": {},
   "outputs": [],
   "source": [
    "#test12.to_csv('initial-ml-test-dub-1.csv')"
   ]
  },
  {
   "cell_type": "markdown",
   "id": "5a9fc784",
   "metadata": {},
   "source": [
    "### Multistorey Car Parks\n",
    "- no real change"
   ]
  },
  {
   "cell_type": "code",
   "execution_count": 396,
   "id": "a97e8d16",
   "metadata": {},
   "outputs": [],
   "source": [
    "car = pd.read_csv('car_parks_location.csv')"
   ]
  },
  {
   "cell_type": "code",
   "execution_count": 397,
   "id": "5221c85e",
   "metadata": {},
   "outputs": [
    {
     "data": {
      "text/html": [
       "<div>\n",
       "<style scoped>\n",
       "    .dataframe tbody tr th:only-of-type {\n",
       "        vertical-align: middle;\n",
       "    }\n",
       "\n",
       "    .dataframe tbody tr th {\n",
       "        vertical-align: top;\n",
       "    }\n",
       "\n",
       "    .dataframe thead th {\n",
       "        text-align: right;\n",
       "    }\n",
       "</style>\n",
       "<table border=\"1\" class=\"dataframe\">\n",
       "  <thead>\n",
       "    <tr style=\"text-align: right;\">\n",
       "      <th></th>\n",
       "      <th>Site</th>\n",
       "      <th>Latitude</th>\n",
       "      <th>Longitude</th>\n",
       "    </tr>\n",
       "  </thead>\n",
       "  <tbody>\n",
       "    <tr>\n",
       "      <th>0</th>\n",
       "      <td>BTHOMAS</td>\n",
       "      <td>53.342633</td>\n",
       "      <td>-6.261467</td>\n",
       "    </tr>\n",
       "  </tbody>\n",
       "</table>\n",
       "</div>"
      ],
      "text/plain": [
       "      Site   Latitude  Longitude\n",
       "0  BTHOMAS  53.342633  -6.261467"
      ]
     },
     "execution_count": 397,
     "metadata": {},
     "output_type": "execute_result"
    }
   ],
   "source": [
    "car.head(1)"
   ]
  },
  {
   "cell_type": "code",
   "execution_count": 399,
   "id": "9f2752b4",
   "metadata": {},
   "outputs": [],
   "source": [
    "vals = np.array(test12['Longitude'])\n",
    "vals1 = np.array(test12['Latitude'])\n",
    "carlon = np.array(car['Longitude'])\n",
    "carlat = np.array(car['Latitude'])\n",
    "distance_car = []\n",
    "for i in range(len(vals)):\n",
    "    lat1 = vals1[i]\n",
    "    lon1 = vals[i]\n",
    "    distances_car = []\n",
    "    for j in range(len(carlat)):\n",
    "        lat2 = carlat[j]\n",
    "        lon2 = carlon[j]\n",
    "        dist = haversine(lon1, lat1, lon2, lat2)\n",
    "        distances_car.append(dist)\n",
    "\n",
    "    min_distance = min(distances_car)\n",
    "    distance_car.append(min_distance)"
   ]
  },
  {
   "cell_type": "code",
   "execution_count": 400,
   "id": "cab8ee03",
   "metadata": {},
   "outputs": [],
   "source": [
    "test12['DistanceCar'] = distance_car"
   ]
  },
  {
   "cell_type": "code",
   "execution_count": 401,
   "id": "b0de5213",
   "metadata": {},
   "outputs": [
    {
     "data": {
      "text/plain": [
       "0.8994405520441338"
      ]
     },
     "execution_count": 401,
     "metadata": {},
     "output_type": "execute_result"
    }
   ],
   "source": [
    "min(distance_car)"
   ]
  },
  {
   "cell_type": "code",
   "execution_count": 402,
   "id": "6bdf33d1",
   "metadata": {},
   "outputs": [
    {
     "data": {
      "text/plain": [
       "18.540254128690652"
      ]
     },
     "execution_count": 402,
     "metadata": {},
     "output_type": "execute_result"
    }
   ],
   "source": [
    "max(distance_car)"
   ]
  },
  {
   "cell_type": "code",
   "execution_count": 414,
   "id": "70ed4820",
   "metadata": {},
   "outputs": [],
   "source": [
    "#test12.to_csv('initial-ml-test-dub-1.csv')"
   ]
  },
  {
   "cell_type": "code",
   "execution_count": 415,
   "id": "616688f2",
   "metadata": {},
   "outputs": [],
   "source": [
    "#cleanup_nums_prop = {\"Property Size Description\": {\"less than 38 sq metres\": 0, \"greater than or equal to 38 sq metres and less than 125 sq metres\": 1,\n",
    "#                                                  \"greater than or equal to 125 sq metres\": 2}}\n",
    "\n",
    "## These were interpolated, might be best to remove?"
   ]
  },
  {
   "cell_type": "markdown",
   "id": "d6614190",
   "metadata": {},
   "source": [
    "### Shopping centres"
   ]
  },
  {
   "cell_type": "code",
   "execution_count": 461,
   "id": "61bf0dd7",
   "metadata": {},
   "outputs": [],
   "source": [
    "shop = pd.read_csv('shop-centres.csv')\n",
    "vals = np.array(test12['Longitude'])\n",
    "vals1 = np.array(test12['Latitude'])\n",
    "shoplon = np.array(shop['Longitude'])\n",
    "shoplat = np.array(shop['Latitude'])\n",
    "distance_shop = []\n",
    "for i in range(len(vals)):\n",
    "    lat1 = vals1[i]\n",
    "    lon1 = vals[i]\n",
    "    distances_shop = []\n",
    "    for j in range(len(shoplat)):\n",
    "        lat2 = shoplat[j]\n",
    "        lon2 = shoplon[j]\n",
    "        dist = haversine(lon1, lat1, lon2, lat2)\n",
    "        distances_shop.append(dist)\n",
    "\n",
    "    min_distance = min(distances_shop)\n",
    "    distance_shop.append(min_distance)"
   ]
  },
  {
   "cell_type": "code",
   "execution_count": 463,
   "id": "73d852e8",
   "metadata": {},
   "outputs": [
    {
     "data": {
      "text/plain": [
       "8.47891720462965"
      ]
     },
     "execution_count": 463,
     "metadata": {},
     "output_type": "execute_result"
    }
   ],
   "source": [
    "max(distance_shop)"
   ]
  },
  {
   "cell_type": "code",
   "execution_count": 464,
   "id": "cf54bc6f",
   "metadata": {},
   "outputs": [],
   "source": [
    "test12['DistanceShops'] = distance_shop"
   ]
  },
  {
   "cell_type": "code",
   "execution_count": 465,
   "id": "266283bf",
   "metadata": {},
   "outputs": [],
   "source": [
    "#test12.to_csv('initial-ml-test-dub-1.csv')"
   ]
  },
  {
   "cell_type": "markdown",
   "id": "8a4d354f",
   "metadata": {},
   "source": [
    "### Plot locations of our rows"
   ]
  },
  {
   "cell_type": "code",
   "execution_count": 418,
   "id": "203549d4",
   "metadata": {},
   "outputs": [
    {
     "data": {
      "text/html": [
       "<div>\n",
       "<style scoped>\n",
       "    .dataframe tbody tr th:only-of-type {\n",
       "        vertical-align: middle;\n",
       "    }\n",
       "\n",
       "    .dataframe tbody tr th {\n",
       "        vertical-align: top;\n",
       "    }\n",
       "\n",
       "    .dataframe thead th {\n",
       "        text-align: right;\n",
       "    }\n",
       "</style>\n",
       "<table border=\"1\" class=\"dataframe\">\n",
       "  <thead>\n",
       "    <tr style=\"text-align: right;\">\n",
       "      <th></th>\n",
       "      <th>COUNTY</th>\n",
       "      <th>geometry</th>\n",
       "    </tr>\n",
       "  </thead>\n",
       "  <tbody>\n",
       "    <tr>\n",
       "      <th>0</th>\n",
       "      <td>DUBLIN</td>\n",
       "      <td>MULTIPOLYGON (((720000.737 730675.616, 720011....</td>\n",
       "    </tr>\n",
       "  </tbody>\n",
       "</table>\n",
       "</div>"
      ],
      "text/plain": [
       "   COUNTY                                           geometry\n",
       "0  DUBLIN  MULTIPOLYGON (((720000.737 730675.616, 720011...."
      ]
     },
     "execution_count": 418,
     "metadata": {},
     "output_type": "execute_result"
    }
   ],
   "source": [
    "import geopandas as gpd\n",
    "dub_map = gpd.read_file('dublin_boundary_shape\\dublin_boundary_epsg_2157.shp')  #reading the shape file for our maps \n",
    "dub_map.head()"
   ]
  },
  {
   "cell_type": "code",
   "execution_count": 419,
   "id": "1b5b012f",
   "metadata": {},
   "outputs": [
    {
     "data": {
      "text/html": [
       "<div>\n",
       "<style scoped>\n",
       "    .dataframe tbody tr th:only-of-type {\n",
       "        vertical-align: middle;\n",
       "    }\n",
       "\n",
       "    .dataframe tbody tr th {\n",
       "        vertical-align: top;\n",
       "    }\n",
       "\n",
       "    .dataframe thead th {\n",
       "        text-align: right;\n",
       "    }\n",
       "</style>\n",
       "<table border=\"1\" class=\"dataframe\">\n",
       "  <thead>\n",
       "    <tr style=\"text-align: right;\">\n",
       "      <th></th>\n",
       "      <th>Address</th>\n",
       "      <th>County</th>\n",
       "      <th>Price (€)</th>\n",
       "      <th>VAT Exclusive</th>\n",
       "      <th>UsedProperty</th>\n",
       "      <th>Property Size Description</th>\n",
       "      <th>Year</th>\n",
       "      <th>Month</th>\n",
       "      <th>Town</th>\n",
       "      <th>Apartment</th>\n",
       "      <th>...</th>\n",
       "      <th>Longitude</th>\n",
       "      <th>DistanceIFSC</th>\n",
       "      <th>DistanceSchool</th>\n",
       "      <th>DistancePark</th>\n",
       "      <th>DistanceLuas</th>\n",
       "      <th>DistanceSecSchool</th>\n",
       "      <th>DistanceGPO</th>\n",
       "      <th>DistanceHospital</th>\n",
       "      <th>DistanceBeach</th>\n",
       "      <th>DistanceCar</th>\n",
       "    </tr>\n",
       "  </thead>\n",
       "  <tbody>\n",
       "    <tr>\n",
       "      <th>207901</th>\n",
       "      <td>55 College Square, Terenure</td>\n",
       "      <td>Dublin</td>\n",
       "      <td>447200.0</td>\n",
       "      <td>0</td>\n",
       "      <td>0</td>\n",
       "      <td>1</td>\n",
       "      <td>2014</td>\n",
       "      <td>1</td>\n",
       "      <td>Terenure</td>\n",
       "      <td>0</td>\n",
       "      <td>...</td>\n",
       "      <td>-6.335665</td>\n",
       "      <td>7.541595</td>\n",
       "      <td>0.49212</td>\n",
       "      <td>1.438826</td>\n",
       "      <td>2.020029</td>\n",
       "      <td>0.156609</td>\n",
       "      <td>6.587209</td>\n",
       "      <td>2.344404</td>\n",
       "      <td>18.071721</td>\n",
       "      <td>5.4279</td>\n",
       "    </tr>\n",
       "  </tbody>\n",
       "</table>\n",
       "<p>1 rows × 24 columns</p>\n",
       "</div>"
      ],
      "text/plain": [
       "                            Address  County  Price (€)  VAT Exclusive  \\\n",
       "207901  55 College Square, Terenure  Dublin   447200.0              0   \n",
       "\n",
       "        UsedProperty  Property Size Description  Year  Month      Town  \\\n",
       "207901             0                          1  2014      1  Terenure   \n",
       "\n",
       "        Apartment  ... Longitude  DistanceIFSC DistanceSchool DistancePark  \\\n",
       "207901          0  ... -6.335665      7.541595        0.49212     1.438826   \n",
       "\n",
       "       DistanceLuas  DistanceSecSchool  DistanceGPO  DistanceHospital  \\\n",
       "207901     2.020029           0.156609     6.587209          2.344404   \n",
       "\n",
       "        DistanceBeach  DistanceCar  \n",
       "207901      18.071721       5.4279  \n",
       "\n",
       "[1 rows x 24 columns]"
      ]
     },
     "execution_count": 419,
     "metadata": {},
     "output_type": "execute_result"
    }
   ],
   "source": [
    "test12.head(1)"
   ]
  },
  {
   "cell_type": "code",
   "execution_count": 420,
   "id": "9cdae41d",
   "metadata": {},
   "outputs": [],
   "source": [
    "i = test12[['County', 'PriceInflation', 'Longitude', 'Latitude']]"
   ]
  },
  {
   "cell_type": "code",
   "execution_count": 427,
   "id": "06941dac",
   "metadata": {},
   "outputs": [
    {
     "data": {
      "text/plain": [
       "<AxesSubplot:>"
      ]
     },
     "execution_count": 427,
     "metadata": {},
     "output_type": "execute_result"
    },
    {
     "data": {
      "image/png": "[encoded data removed]",
      "text/plain": [
       "<Figure size 1080x1080 with 1 Axes>"
      ]
     },
     "metadata": {},
     "output_type": "display_data"
    }
   ],
   "source": [
    "fig, ax = plt.subplots(figsize = (15,15))\n",
    "dub_map.plot(ax = ax)"
   ]
  },
  {
   "cell_type": "code",
   "execution_count": 429,
   "id": "9d0c0909",
   "metadata": {},
   "outputs": [],
   "source": [
    "crs = {'init': 'epsg: 29902'}"
   ]
  },
  {
   "cell_type": "code",
   "execution_count": 430,
   "id": "7feb14cf",
   "metadata": {},
   "outputs": [
    {
     "data": {
      "text/plain": [
       "[<shapely.geometry.point.Point at 0x193c2cd6490>,\n",
       " <shapely.geometry.point.Point at 0x193c24c1460>,\n",
       " <shapely.geometry.point.Point at 0x193c24c1280>,\n",
       " <shapely.geometry.point.Point at 0x193c24400d0>,\n",
       " <shapely.geometry.point.Point at 0x193c2600ca0>]"
      ]
     },
     "execution_count": 430,
     "metadata": {},
     "output_type": "execute_result"
    }
   ],
   "source": [
    "geometry = [Point(xy) for xy in zip( i['Longitude'], i['Latitude'])]\n",
    "geometry[:5]"
   ]
  },
  {
   "cell_type": "code",
   "execution_count": 431,
   "id": "f921c394",
   "metadata": {},
   "outputs": [
    {
     "data": {
      "text/html": [
       "<div>\n",
       "<style scoped>\n",
       "    .dataframe tbody tr th:only-of-type {\n",
       "        vertical-align: middle;\n",
       "    }\n",
       "\n",
       "    .dataframe tbody tr th {\n",
       "        vertical-align: top;\n",
       "    }\n",
       "\n",
       "    .dataframe thead th {\n",
       "        text-align: right;\n",
       "    }\n",
       "</style>\n",
       "<table border=\"1\" class=\"dataframe\">\n",
       "  <thead>\n",
       "    <tr style=\"text-align: right;\">\n",
       "      <th></th>\n",
       "      <th>County</th>\n",
       "      <th>PriceInflation</th>\n",
       "      <th>Longitude</th>\n",
       "      <th>Latitude</th>\n",
       "      <th>geometry</th>\n",
       "    </tr>\n",
       "  </thead>\n",
       "  <tbody>\n",
       "    <tr>\n",
       "      <th>207901</th>\n",
       "      <td>Dublin</td>\n",
       "      <td>846407.80</td>\n",
       "      <td>-6.335665</td>\n",
       "      <td>53.307878</td>\n",
       "      <td>POINT (-6.33567 53.30788)</td>\n",
       "    </tr>\n",
       "    <tr>\n",
       "      <th>207905</th>\n",
       "      <td>Dublin</td>\n",
       "      <td>753287.80</td>\n",
       "      <td>-6.238896</td>\n",
       "      <td>53.288227</td>\n",
       "      <td>POINT (-6.23890 53.28823)</td>\n",
       "    </tr>\n",
       "    <tr>\n",
       "      <th>207916</th>\n",
       "      <td>Dublin</td>\n",
       "      <td>371032.55</td>\n",
       "      <td>-6.3124</td>\n",
       "      <td>53.2916</td>\n",
       "      <td>POINT (-6.31240 53.29160)</td>\n",
       "    </tr>\n",
       "    <tr>\n",
       "      <th>207925</th>\n",
       "      <td>Dublin</td>\n",
       "      <td>179804.88</td>\n",
       "      <td>-6.372213</td>\n",
       "      <td>53.353853</td>\n",
       "      <td>POINT (-6.37221 53.35385)</td>\n",
       "    </tr>\n",
       "    <tr>\n",
       "      <th>207929</th>\n",
       "      <td>Dublin</td>\n",
       "      <td>287687.80</td>\n",
       "      <td>-6.263792</td>\n",
       "      <td>53.366311</td>\n",
       "      <td>POINT (-6.26379 53.36631)</td>\n",
       "    </tr>\n",
       "  </tbody>\n",
       "</table>\n",
       "</div>"
      ],
      "text/plain": [
       "        County  PriceInflation Longitude   Latitude                   geometry\n",
       "207901  Dublin       846407.80 -6.335665  53.307878  POINT (-6.33567 53.30788)\n",
       "207905  Dublin       753287.80 -6.238896  53.288227  POINT (-6.23890 53.28823)\n",
       "207916  Dublin       371032.55   -6.3124    53.2916  POINT (-6.31240 53.29160)\n",
       "207925  Dublin       179804.88 -6.372213  53.353853  POINT (-6.37221 53.35385)\n",
       "207929  Dublin       287687.80 -6.263792  53.366311  POINT (-6.26379 53.36631)"
      ]
     },
     "execution_count": 431,
     "metadata": {},
     "output_type": "execute_result"
    }
   ],
   "source": [
    "geo_df = gpd.GeoDataFrame(i, crs = crs, geometry = geometry)\n",
    "geo_df.head()"
   ]
  },
  {
   "cell_type": "code",
   "execution_count": null,
   "id": "9922cf94",
   "metadata": {},
   "outputs": [],
   "source": []
  }
 ],
 "metadata": {
  "kernelspec": {
   "display_name": "Python 3 (ipykernel)",
   "language": "python",
   "name": "python3"
  },
  "language_info": {
   "codemirror_mode": {
    "name": "ipython",
    "version": 3
   },
   "file_extension": ".py",
   "mimetype": "text/x-python",
   "name": "python",
   "nbconvert_exporter": "python",
   "pygments_lexer": "ipython3",
   "version": "3.8.12"
  }
 },
 "nbformat": 4,
 "nbformat_minor": 5
}
