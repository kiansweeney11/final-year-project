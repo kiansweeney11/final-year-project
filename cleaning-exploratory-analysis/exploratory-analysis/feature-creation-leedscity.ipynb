{
 "cells": [
  {
   "cell_type": "code",
   "execution_count": 1,
   "id": "dd2e47c6",
   "metadata": {},
   "outputs": [
    {
     "name": "stdout",
     "output_type": "stream",
     "text": [
      "Necessary libraries imported!\n"
     ]
    }
   ],
   "source": [
    "import pandas as pd\n",
    "import numpy as np\n",
    "from sklearn.datasets import make_classification\n",
    "from sklearn.model_selection import train_test_split\n",
    "import os\n",
    "import category_encoders as ce\n",
    "import math\n",
    "\n",
    "# visualization\n",
    "import seaborn as sns\n",
    "import matplotlib.pyplot as plt\n",
    "\n",
    "print('Necessary libraries imported!')"
   ]
  },
  {
   "cell_type": "code",
   "execution_count": 2,
   "id": "54a34347",
   "metadata": {},
   "outputs": [
    {
     "data": {
      "text/html": [
       "<div>\n",
       "<style scoped>\n",
       "    .dataframe tbody tr th:only-of-type {\n",
       "        vertical-align: middle;\n",
       "    }\n",
       "\n",
       "    .dataframe tbody tr th {\n",
       "        vertical-align: top;\n",
       "    }\n",
       "\n",
       "    .dataframe thead th {\n",
       "        text-align: right;\n",
       "    }\n",
       "</style>\n",
       "<table border=\"1\" class=\"dataframe\">\n",
       "  <thead>\n",
       "    <tr style=\"text-align: right;\">\n",
       "      <th></th>\n",
       "      <th>Transaction unique identifier</th>\n",
       "      <th>Price</th>\n",
       "      <th>Postcode</th>\n",
       "      <th>Property Type</th>\n",
       "      <th>Old/New</th>\n",
       "      <th>Duration</th>\n",
       "      <th>HouseNum</th>\n",
       "      <th>Add1</th>\n",
       "      <th>Add2</th>\n",
       "      <th>Add3</th>\n",
       "      <th>Town/City</th>\n",
       "      <th>District</th>\n",
       "      <th>County</th>\n",
       "      <th>PPDCategory Type</th>\n",
       "      <th>Month</th>\n",
       "      <th>Year</th>\n",
       "      <th>geocode</th>\n",
       "      <th>Latitude</th>\n",
       "      <th>Longitude</th>\n",
       "    </tr>\n",
       "  </thead>\n",
       "  <tbody>\n",
       "    <tr>\n",
       "      <th>0</th>\n",
       "      <td>{50F18103-63C0-9FD5-E050-A8C063054923}</td>\n",
       "      <td>210000</td>\n",
       "      <td>LS25 6NJ</td>\n",
       "      <td>D</td>\n",
       "      <td>N</td>\n",
       "      <td>F</td>\n",
       "      <td>6</td>\n",
       "      <td>NaN</td>\n",
       "      <td>BOND INGS RISE</td>\n",
       "      <td>SHERBURN IN ELMET</td>\n",
       "      <td>LEEDS</td>\n",
       "      <td>SELBY</td>\n",
       "      <td>NORTH YORKSHIRE</td>\n",
       "      <td>A</td>\n",
       "      <td>5</td>\n",
       "      <td>2017</td>\n",
       "      <td>Sherburn in Elmet, Little Fenton, Selby, North...</td>\n",
       "      <td>53.79569</td>\n",
       "      <td>-1.24147</td>\n",
       "    </tr>\n",
       "    <tr>\n",
       "      <th>1</th>\n",
       "      <td>{50F18103-63D7-9FD5-E050-A8C063054923}</td>\n",
       "      <td>180000</td>\n",
       "      <td>LS25 6BN</td>\n",
       "      <td>D</td>\n",
       "      <td>N</td>\n",
       "      <td>F</td>\n",
       "      <td>1</td>\n",
       "      <td>NaN</td>\n",
       "      <td>RUDSTONE GROVE</td>\n",
       "      <td>SHERBURN IN ELMET</td>\n",
       "      <td>LEEDS</td>\n",
       "      <td>SELBY</td>\n",
       "      <td>NORTH YORKSHIRE</td>\n",
       "      <td>A</td>\n",
       "      <td>4</td>\n",
       "      <td>2017</td>\n",
       "      <td>Sherburn in Elmet, Little Fenton, Selby, North...</td>\n",
       "      <td>53.79803</td>\n",
       "      <td>-1.25588</td>\n",
       "    </tr>\n",
       "    <tr>\n",
       "      <th>2</th>\n",
       "      <td>{68FEB20C-3CBE-38DA-E053-6C04A8C051AE}</td>\n",
       "      <td>142500</td>\n",
       "      <td>LS19 7GL</td>\n",
       "      <td>F</td>\n",
       "      <td>Y</td>\n",
       "      <td>L</td>\n",
       "      <td>61</td>\n",
       "      <td>NaN</td>\n",
       "      <td>DYEHOUSE WALK</td>\n",
       "      <td>YEADON</td>\n",
       "      <td>LEEDS</td>\n",
       "      <td>LEEDS</td>\n",
       "      <td>WEST YORKSHIRE</td>\n",
       "      <td>A</td>\n",
       "      <td>12</td>\n",
       "      <td>2017</td>\n",
       "      <td>Leeds, West Yorkshire, Yorkshire and the Humbe...</td>\n",
       "      <td>53.85906</td>\n",
       "      <td>-1.68457</td>\n",
       "    </tr>\n",
       "    <tr>\n",
       "      <th>3</th>\n",
       "      <td>{68FEB20C-3CCF-38DA-E053-6C04A8C051AE}</td>\n",
       "      <td>102000</td>\n",
       "      <td>LS18 5NP</td>\n",
       "      <td>F</td>\n",
       "      <td>N</td>\n",
       "      <td>L</td>\n",
       "      <td>GRESLEY HOUSE</td>\n",
       "      <td>2</td>\n",
       "      <td>SUSSEX AVENUE</td>\n",
       "      <td>HORSFORTH</td>\n",
       "      <td>LEEDS</td>\n",
       "      <td>LEEDS</td>\n",
       "      <td>WEST YORKSHIRE</td>\n",
       "      <td>A</td>\n",
       "      <td>12</td>\n",
       "      <td>2017</td>\n",
       "      <td>Horsforth, Leeds, West Yorkshire, Yorkshire an...</td>\n",
       "      <td>53.84793</td>\n",
       "      <td>-1.63152</td>\n",
       "    </tr>\n",
       "    <tr>\n",
       "      <th>4</th>\n",
       "      <td>{68FEB20C-3CD2-38DA-E053-6C04A8C051AE}</td>\n",
       "      <td>250000</td>\n",
       "      <td>LS19 7FU</td>\n",
       "      <td>S</td>\n",
       "      <td>Y</td>\n",
       "      <td>F</td>\n",
       "      <td>3</td>\n",
       "      <td>NaN</td>\n",
       "      <td>WEAVERS BECK WAY</td>\n",
       "      <td>YEADON</td>\n",
       "      <td>LEEDS</td>\n",
       "      <td>LEEDS</td>\n",
       "      <td>WEST YORKSHIRE</td>\n",
       "      <td>A</td>\n",
       "      <td>9</td>\n",
       "      <td>2017</td>\n",
       "      <td>Leeds, West Yorkshire, Yorkshire and the Humbe...</td>\n",
       "      <td>53.85909</td>\n",
       "      <td>-1.6838</td>\n",
       "    </tr>\n",
       "  </tbody>\n",
       "</table>\n",
       "</div>"
      ],
      "text/plain": [
       "            Transaction unique identifier   Price  Postcode Property Type  \\\n",
       "0  {50F18103-63C0-9FD5-E050-A8C063054923}  210000  LS25 6NJ             D   \n",
       "1  {50F18103-63D7-9FD5-E050-A8C063054923}  180000  LS25 6BN             D   \n",
       "2  {68FEB20C-3CBE-38DA-E053-6C04A8C051AE}  142500  LS19 7GL             F   \n",
       "3  {68FEB20C-3CCF-38DA-E053-6C04A8C051AE}  102000  LS18 5NP             F   \n",
       "4  {68FEB20C-3CD2-38DA-E053-6C04A8C051AE}  250000  LS19 7FU             S   \n",
       "\n",
       "  Old/New Duration       HouseNum Add1              Add2               Add3  \\\n",
       "0       N        F              6  NaN    BOND INGS RISE  SHERBURN IN ELMET   \n",
       "1       N        F              1  NaN    RUDSTONE GROVE  SHERBURN IN ELMET   \n",
       "2       Y        L             61  NaN     DYEHOUSE WALK             YEADON   \n",
       "3       N        L  GRESLEY HOUSE    2     SUSSEX AVENUE          HORSFORTH   \n",
       "4       Y        F              3  NaN  WEAVERS BECK WAY             YEADON   \n",
       "\n",
       "  Town/City District           County PPDCategory Type  Month  Year  \\\n",
       "0     LEEDS    SELBY  NORTH YORKSHIRE                A      5  2017   \n",
       "1     LEEDS    SELBY  NORTH YORKSHIRE                A      4  2017   \n",
       "2     LEEDS    LEEDS   WEST YORKSHIRE                A     12  2017   \n",
       "3     LEEDS    LEEDS   WEST YORKSHIRE                A     12  2017   \n",
       "4     LEEDS    LEEDS   WEST YORKSHIRE                A      9  2017   \n",
       "\n",
       "                                             geocode  Latitude Longitude  \n",
       "0  Sherburn in Elmet, Little Fenton, Selby, North...  53.79569  -1.24147  \n",
       "1  Sherburn in Elmet, Little Fenton, Selby, North...  53.79803  -1.25588  \n",
       "2  Leeds, West Yorkshire, Yorkshire and the Humbe...  53.85906  -1.68457  \n",
       "3  Horsforth, Leeds, West Yorkshire, Yorkshire an...  53.84793  -1.63152  \n",
       "4  Leeds, West Yorkshire, Yorkshire and the Humbe...  53.85909   -1.6838  "
      ]
     },
     "execution_count": 2,
     "metadata": {},
     "output_type": "execute_result"
    }
   ],
   "source": [
    "lee = pd.read_csv('leedsallgeo.csv', index_col = 'Unnamed: 0')\n",
    "lee.head()"
   ]
  },
  {
   "cell_type": "markdown",
   "id": "a6828088",
   "metadata": {},
   "source": [
    "## Feature Creation\n",
    "\n",
    "We are now going to create more features for our dataset covering Leeds City. This is to:\n",
    "\n",
    "- get better accuracy from our ML models and\n",
    "- see if similar locational attributes have a crossover like our Dublin / Cork data.\n",
    "\n",
    "We will be using data comprised from the following [website](https://data.gov.uk/search?filters%5Bformat%5D=&filters%5Bpublisher%5D=&filters%5Btopic%5D=&q=leeds+city&sort=best). There is a lot more public data here available than the Irish government website which should be of benefit to us. Let's start generating new features. The reasoning for selecting Leeds as our selected UK city boils down to a few things:\n",
    "\n",
    "- we want a similar sized city as comparison to our Dublin model. As per [here](https://en.wikipedia.org/wiki/Leeds), \"The city region has a population of over 3 million, making it the second most populated metropolitan city region in the United Kingdom, behind Greater London.\"\n",
    "- although bigger it is a similar size. The prices are not as extreme as they would be in London for example also."
   ]
  },
  {
   "cell_type": "code",
   "execution_count": 3,
   "id": "80c9ee74",
   "metadata": {},
   "outputs": [],
   "source": [
    "schools = pd.read_csv('SchoolsSept2019.csv')"
   ]
  },
  {
   "cell_type": "code",
   "execution_count": 4,
   "id": "1cee7c4a",
   "metadata": {},
   "outputs": [
    {
     "data": {
      "text/html": [
       "<div>\n",
       "<style scoped>\n",
       "    .dataframe tbody tr th:only-of-type {\n",
       "        vertical-align: middle;\n",
       "    }\n",
       "\n",
       "    .dataframe tbody tr th {\n",
       "        vertical-align: top;\n",
       "    }\n",
       "\n",
       "    .dataframe thead th {\n",
       "        text-align: right;\n",
       "    }\n",
       "</style>\n",
       "<table border=\"1\" class=\"dataframe\">\n",
       "  <thead>\n",
       "    <tr style=\"text-align: right;\">\n",
       "      <th></th>\n",
       "      <th>DfE</th>\n",
       "      <th>DfE_Old</th>\n",
       "      <th>URN</th>\n",
       "      <th>URN_Old</th>\n",
       "      <th>School</th>\n",
       "      <th>OpenOrClosed</th>\n",
       "      <th>Phase</th>\n",
       "      <th>TypeDetail</th>\n",
       "      <th>ReligiousCharacter</th>\n",
       "      <th>Years</th>\n",
       "      <th>Postcode</th>\n",
       "      <th>lsoa01</th>\n",
       "      <th>lsoa11</th>\n",
       "      <th>Ward_new</th>\n",
       "      <th>Constituency</th>\n",
       "      <th>ClusterThisYear</th>\n",
       "      <th>X</th>\n",
       "      <th>Y</th>\n",
       "    </tr>\n",
       "  </thead>\n",
       "  <tbody>\n",
       "    <tr>\n",
       "      <th>0</th>\n",
       "      <td>5400</td>\n",
       "      <td>5400.0</td>\n",
       "      <td>137083.0</td>\n",
       "      <td>108101.0</td>\n",
       "      <td>Abbey Grange Church of England Academy</td>\n",
       "      <td>Open</td>\n",
       "      <td>Secondary</td>\n",
       "      <td>Academies</td>\n",
       "      <td>Church of England</td>\n",
       "      <td>Year7-Year13</td>\n",
       "      <td>LS165EA</td>\n",
       "      <td>NaN</td>\n",
       "      <td>E01011686</td>\n",
       "      <td>Kirkstall</td>\n",
       "      <td>Leeds West</td>\n",
       "      <td>Headingley-Kirkstall partnership</td>\n",
       "      <td>425647.0</td>\n",
       "      <td>437660.0</td>\n",
       "    </tr>\n",
       "    <tr>\n",
       "      <th>1</th>\n",
       "      <td>3030</td>\n",
       "      <td>3030.0</td>\n",
       "      <td>107985.0</td>\n",
       "      <td>107985.0</td>\n",
       "      <td>Aberford Church of England Voluntary Controlle...</td>\n",
       "      <td>Open</td>\n",
       "      <td>Primary</td>\n",
       "      <td>Local authority maintained schools</td>\n",
       "      <td>Church of England</td>\n",
       "      <td>Reception-Year6</td>\n",
       "      <td>LS253BU</td>\n",
       "      <td>NaN</td>\n",
       "      <td>E01011297</td>\n",
       "      <td>Harewood</td>\n",
       "      <td>Elmet and Rothwell</td>\n",
       "      <td>Garforth</td>\n",
       "      <td>443232.0</td>\n",
       "      <td>437054.0</td>\n",
       "    </tr>\n",
       "    <tr>\n",
       "      <th>2</th>\n",
       "      <td>2416</td>\n",
       "      <td>2416.0</td>\n",
       "      <td>107892.0</td>\n",
       "      <td>107892.0</td>\n",
       "      <td>Adel Primary School</td>\n",
       "      <td>Open</td>\n",
       "      <td>Primary</td>\n",
       "      <td>Local authority maintained schools</td>\n",
       "      <td>Does not apply</td>\n",
       "      <td>Nursery-Year6</td>\n",
       "      <td>LS168DY</td>\n",
       "      <td>NaN</td>\n",
       "      <td>E01011385</td>\n",
       "      <td>Adel &amp; Wharfedale</td>\n",
       "      <td>Leeds North West</td>\n",
       "      <td>ESNW</td>\n",
       "      <td>428005.0</td>\n",
       "      <td>439325.0</td>\n",
       "    </tr>\n",
       "    <tr>\n",
       "      <th>3</th>\n",
       "      <td>3902</td>\n",
       "      <td>3902.0</td>\n",
       "      <td>108041.0</td>\n",
       "      <td>108041.0</td>\n",
       "      <td>Adel St John the Baptist Church of England Pri...</td>\n",
       "      <td>Open</td>\n",
       "      <td>Primary</td>\n",
       "      <td>Local authority maintained schools</td>\n",
       "      <td>Church of England</td>\n",
       "      <td>Reception-Year6</td>\n",
       "      <td>LS168EX</td>\n",
       "      <td>NaN</td>\n",
       "      <td>E01011380</td>\n",
       "      <td>Adel &amp; Wharfedale</td>\n",
       "      <td>Leeds North West</td>\n",
       "      <td>ESNW</td>\n",
       "      <td>427666.0</td>\n",
       "      <td>439696.0</td>\n",
       "    </tr>\n",
       "    <tr>\n",
       "      <th>4</th>\n",
       "      <td>3909</td>\n",
       "      <td>3909.0</td>\n",
       "      <td>108048.0</td>\n",
       "      <td>108048.0</td>\n",
       "      <td>All Saint's Richmond Hill Church of England Pr...</td>\n",
       "      <td>Open</td>\n",
       "      <td>Primary</td>\n",
       "      <td>Local authority maintained schools</td>\n",
       "      <td>Church of England</td>\n",
       "      <td>Nursery-Year6</td>\n",
       "      <td>LS99AD</td>\n",
       "      <td>NaN</td>\n",
       "      <td>E01033021</td>\n",
       "      <td>Burmantofts &amp; Richmond Hill</td>\n",
       "      <td>Leeds Central</td>\n",
       "      <td>Inner East</td>\n",
       "      <td>431762.0</td>\n",
       "      <td>433529.0</td>\n",
       "    </tr>\n",
       "  </tbody>\n",
       "</table>\n",
       "</div>"
      ],
      "text/plain": [
       "    DfE  DfE_Old       URN   URN_Old  \\\n",
       "0  5400   5400.0  137083.0  108101.0   \n",
       "1  3030   3030.0  107985.0  107985.0   \n",
       "2  2416   2416.0  107892.0  107892.0   \n",
       "3  3902   3902.0  108041.0  108041.0   \n",
       "4  3909   3909.0  108048.0  108048.0   \n",
       "\n",
       "                                              School OpenOrClosed      Phase  \\\n",
       "0             Abbey Grange Church of England Academy         Open  Secondary   \n",
       "1  Aberford Church of England Voluntary Controlle...         Open    Primary   \n",
       "2                                Adel Primary School         Open    Primary   \n",
       "3  Adel St John the Baptist Church of England Pri...         Open    Primary   \n",
       "4  All Saint's Richmond Hill Church of England Pr...         Open    Primary   \n",
       "\n",
       "                           TypeDetail ReligiousCharacter            Years  \\\n",
       "0                           Academies  Church of England     Year7-Year13   \n",
       "1  Local authority maintained schools  Church of England  Reception-Year6   \n",
       "2  Local authority maintained schools     Does not apply    Nursery-Year6   \n",
       "3  Local authority maintained schools  Church of England  Reception-Year6   \n",
       "4  Local authority maintained schools  Church of England    Nursery-Year6   \n",
       "\n",
       "  Postcode lsoa01     lsoa11                     Ward_new        Constituency  \\\n",
       "0  LS165EA    NaN  E01011686                    Kirkstall          Leeds West   \n",
       "1  LS253BU    NaN  E01011297                     Harewood  Elmet and Rothwell   \n",
       "2  LS168DY    NaN  E01011385            Adel & Wharfedale    Leeds North West   \n",
       "3  LS168EX    NaN  E01011380            Adel & Wharfedale    Leeds North West   \n",
       "4   LS99AD    NaN  E01033021  Burmantofts & Richmond Hill       Leeds Central   \n",
       "\n",
       "                    ClusterThisYear         X         Y  \n",
       "0  Headingley-Kirkstall partnership  425647.0  437660.0  \n",
       "1                          Garforth  443232.0  437054.0  \n",
       "2                              ESNW  428005.0  439325.0  \n",
       "3                              ESNW  427666.0  439696.0  \n",
       "4                        Inner East  431762.0  433529.0  "
      ]
     },
     "execution_count": 4,
     "metadata": {},
     "output_type": "execute_result"
    }
   ],
   "source": [
    "schools.head()"
   ]
  },
  {
   "cell_type": "code",
   "execution_count": 5,
   "id": "97f6ae1a",
   "metadata": {},
   "outputs": [
    {
     "data": {
      "text/plain": [
       "Primary                       435\n",
       "Secondary                     113\n",
       "Middle Deemed Secondary        50\n",
       "Not applicable                 43\n",
       "Special                        19\n",
       "Middle Deemed Primary           5\n",
       "PRU                             4\n",
       "Secondary (Through School)      3\n",
       "Primary (Through School)        3\n",
       "Nursery                         3\n",
       "Infant                          2\n",
       "Special Through School          2\n",
       "Junior                          2\n",
       "14-19                           2\n",
       "Special (Free school)           1\n",
       "Further education               1\n",
       "Special Secondary               1\n",
       "Special (Academy)               1\n",
       "Special Primary                 1\n",
       "Name: Phase, dtype: int64"
      ]
     },
     "execution_count": 5,
     "metadata": {},
     "output_type": "execute_result"
    }
   ],
   "source": [
    "schools['Phase'].value_counts()"
   ]
  },
  {
   "cell_type": "markdown",
   "id": "7a576a4c",
   "metadata": {},
   "source": [
    "Let's just focus on primary and secondary for consistency with our Irish data."
   ]
  },
  {
   "cell_type": "code",
   "execution_count": 6,
   "id": "64911690",
   "metadata": {},
   "outputs": [],
   "source": [
    "prim = schools.loc[schools['Phase'] == 'Primary']\n",
    "sec = schools.loc[schools['Phase'] == 'Secondary']"
   ]
  },
  {
   "cell_type": "code",
   "execution_count": 7,
   "id": "db285d1c",
   "metadata": {},
   "outputs": [
    {
     "data": {
      "text/html": [
       "<div>\n",
       "<style scoped>\n",
       "    .dataframe tbody tr th:only-of-type {\n",
       "        vertical-align: middle;\n",
       "    }\n",
       "\n",
       "    .dataframe tbody tr th {\n",
       "        vertical-align: top;\n",
       "    }\n",
       "\n",
       "    .dataframe thead th {\n",
       "        text-align: right;\n",
       "    }\n",
       "</style>\n",
       "<table border=\"1\" class=\"dataframe\">\n",
       "  <thead>\n",
       "    <tr style=\"text-align: right;\">\n",
       "      <th></th>\n",
       "      <th>DfE</th>\n",
       "      <th>DfE_Old</th>\n",
       "      <th>URN</th>\n",
       "      <th>URN_Old</th>\n",
       "      <th>School</th>\n",
       "      <th>OpenOrClosed</th>\n",
       "      <th>Phase</th>\n",
       "      <th>TypeDetail</th>\n",
       "      <th>ReligiousCharacter</th>\n",
       "      <th>Years</th>\n",
       "      <th>Postcode</th>\n",
       "      <th>lsoa01</th>\n",
       "      <th>lsoa11</th>\n",
       "      <th>Ward_new</th>\n",
       "      <th>Constituency</th>\n",
       "      <th>ClusterThisYear</th>\n",
       "      <th>X</th>\n",
       "      <th>Y</th>\n",
       "    </tr>\n",
       "  </thead>\n",
       "  <tbody>\n",
       "    <tr>\n",
       "      <th>0</th>\n",
       "      <td>5400</td>\n",
       "      <td>5400.0</td>\n",
       "      <td>137083.0</td>\n",
       "      <td>108101.0</td>\n",
       "      <td>Abbey Grange Church of England Academy</td>\n",
       "      <td>Open</td>\n",
       "      <td>Secondary</td>\n",
       "      <td>Academies</td>\n",
       "      <td>Church of England</td>\n",
       "      <td>Year7-Year13</td>\n",
       "      <td>LS165EA</td>\n",
       "      <td>NaN</td>\n",
       "      <td>E01011686</td>\n",
       "      <td>Kirkstall</td>\n",
       "      <td>Leeds West</td>\n",
       "      <td>Headingley-Kirkstall partnership</td>\n",
       "      <td>425647.0</td>\n",
       "      <td>437660.0</td>\n",
       "    </tr>\n",
       "    <tr>\n",
       "      <th>7</th>\n",
       "      <td>4040</td>\n",
       "      <td>4040.0</td>\n",
       "      <td>108058.0</td>\n",
       "      <td>108058.0</td>\n",
       "      <td>Allerton Grange School</td>\n",
       "      <td>Open</td>\n",
       "      <td>Secondary</td>\n",
       "      <td>Local authority maintained schools</td>\n",
       "      <td>Does not apply</td>\n",
       "      <td>Year7-Year13</td>\n",
       "      <td>LS176SF</td>\n",
       "      <td>NaN</td>\n",
       "      <td>E01011511</td>\n",
       "      <td>Roundhay</td>\n",
       "      <td>Leeds North East</td>\n",
       "      <td>ARM</td>\n",
       "      <td>431591.0</td>\n",
       "      <td>438408.0</td>\n",
       "    </tr>\n",
       "    <tr>\n",
       "      <th>8</th>\n",
       "      <td>4032</td>\n",
       "      <td>4032.0</td>\n",
       "      <td>108057.0</td>\n",
       "      <td>108057.0</td>\n",
       "      <td>Allerton High School</td>\n",
       "      <td>Open</td>\n",
       "      <td>Secondary</td>\n",
       "      <td>Local authority maintained schools</td>\n",
       "      <td>Does not apply</td>\n",
       "      <td>Year7-Year13</td>\n",
       "      <td>LS177AG</td>\n",
       "      <td>NaN</td>\n",
       "      <td>E01011559</td>\n",
       "      <td>Alwoodley</td>\n",
       "      <td>Leeds North East</td>\n",
       "      <td>ARM</td>\n",
       "      <td>429500.0</td>\n",
       "      <td>439471.0</td>\n",
       "    </tr>\n",
       "    <tr>\n",
       "      <th>21</th>\n",
       "      <td>4106</td>\n",
       "      <td>4106.0</td>\n",
       "      <td>108083.0</td>\n",
       "      <td>108083.0</td>\n",
       "      <td>Benton Park School</td>\n",
       "      <td>Open</td>\n",
       "      <td>Secondary</td>\n",
       "      <td>Local authority maintained schools</td>\n",
       "      <td>Does not apply</td>\n",
       "      <td>Year7-Year13</td>\n",
       "      <td>LS196LX</td>\n",
       "      <td>NaN</td>\n",
       "      <td>E01011278</td>\n",
       "      <td>Guiseley &amp; Rawdon</td>\n",
       "      <td>Pudsey</td>\n",
       "      <td>Aireborough</td>\n",
       "      <td>420896.0</td>\n",
       "      <td>440158.0</td>\n",
       "    </tr>\n",
       "    <tr>\n",
       "      <th>23</th>\n",
       "      <td>4076</td>\n",
       "      <td>6905.0</td>\n",
       "      <td>144809.0</td>\n",
       "      <td>131898.0</td>\n",
       "      <td>Bishop Young Church of England Academy</td>\n",
       "      <td>Open</td>\n",
       "      <td>Secondary</td>\n",
       "      <td>Academies</td>\n",
       "      <td>Church of England</td>\n",
       "      <td>Year7-Year13</td>\n",
       "      <td>LS146NU</td>\n",
       "      <td>NaN</td>\n",
       "      <td>E01011662</td>\n",
       "      <td>Killingbeck &amp; Seacroft</td>\n",
       "      <td>Leeds East</td>\n",
       "      <td>Seacroft Manston</td>\n",
       "      <td>434527.0</td>\n",
       "      <td>436067.0</td>\n",
       "    </tr>\n",
       "  </tbody>\n",
       "</table>\n",
       "</div>"
      ],
      "text/plain": [
       "     DfE  DfE_Old       URN   URN_Old                                  School  \\\n",
       "0   5400   5400.0  137083.0  108101.0  Abbey Grange Church of England Academy   \n",
       "7   4040   4040.0  108058.0  108058.0                  Allerton Grange School   \n",
       "8   4032   4032.0  108057.0  108057.0                    Allerton High School   \n",
       "21  4106   4106.0  108083.0  108083.0                      Benton Park School   \n",
       "23  4076   6905.0  144809.0  131898.0  Bishop Young Church of England Academy   \n",
       "\n",
       "   OpenOrClosed      Phase                          TypeDetail  \\\n",
       "0          Open  Secondary                           Academies   \n",
       "7          Open  Secondary  Local authority maintained schools   \n",
       "8          Open  Secondary  Local authority maintained schools   \n",
       "21         Open  Secondary  Local authority maintained schools   \n",
       "23         Open  Secondary                           Academies   \n",
       "\n",
       "   ReligiousCharacter         Years Postcode lsoa01     lsoa11  \\\n",
       "0   Church of England  Year7-Year13  LS165EA    NaN  E01011686   \n",
       "7      Does not apply  Year7-Year13  LS176SF    NaN  E01011511   \n",
       "8      Does not apply  Year7-Year13  LS177AG    NaN  E01011559   \n",
       "21     Does not apply  Year7-Year13  LS196LX    NaN  E01011278   \n",
       "23  Church of England  Year7-Year13  LS146NU    NaN  E01011662   \n",
       "\n",
       "                  Ward_new      Constituency  \\\n",
       "0                Kirkstall        Leeds West   \n",
       "7                 Roundhay  Leeds North East   \n",
       "8                Alwoodley  Leeds North East   \n",
       "21       Guiseley & Rawdon            Pudsey   \n",
       "23  Killingbeck & Seacroft        Leeds East   \n",
       "\n",
       "                     ClusterThisYear         X         Y  \n",
       "0   Headingley-Kirkstall partnership  425647.0  437660.0  \n",
       "7                                ARM  431591.0  438408.0  \n",
       "8                                ARM  429500.0  439471.0  \n",
       "21                       Aireborough  420896.0  440158.0  \n",
       "23                  Seacroft Manston  434527.0  436067.0  "
      ]
     },
     "execution_count": 7,
     "metadata": {},
     "output_type": "execute_result"
    }
   ],
   "source": [
    "sec.head()"
   ]
  },
  {
   "cell_type": "code",
   "execution_count": 8,
   "id": "8da569e6",
   "metadata": {},
   "outputs": [
    {
     "data": {
      "text/html": [
       "<div>\n",
       "<style scoped>\n",
       "    .dataframe tbody tr th:only-of-type {\n",
       "        vertical-align: middle;\n",
       "    }\n",
       "\n",
       "    .dataframe tbody tr th {\n",
       "        vertical-align: top;\n",
       "    }\n",
       "\n",
       "    .dataframe thead th {\n",
       "        text-align: right;\n",
       "    }\n",
       "</style>\n",
       "<table border=\"1\" class=\"dataframe\">\n",
       "  <thead>\n",
       "    <tr style=\"text-align: right;\">\n",
       "      <th></th>\n",
       "      <th>DfE</th>\n",
       "      <th>DfE_Old</th>\n",
       "      <th>URN</th>\n",
       "      <th>URN_Old</th>\n",
       "      <th>School</th>\n",
       "      <th>OpenOrClosed</th>\n",
       "      <th>Phase</th>\n",
       "      <th>TypeDetail</th>\n",
       "      <th>ReligiousCharacter</th>\n",
       "      <th>Years</th>\n",
       "      <th>Postcode</th>\n",
       "      <th>lsoa01</th>\n",
       "      <th>lsoa11</th>\n",
       "      <th>Ward_new</th>\n",
       "      <th>Constituency</th>\n",
       "      <th>ClusterThisYear</th>\n",
       "      <th>X</th>\n",
       "      <th>Y</th>\n",
       "    </tr>\n",
       "  </thead>\n",
       "  <tbody>\n",
       "    <tr>\n",
       "      <th>1</th>\n",
       "      <td>3030</td>\n",
       "      <td>3030.0</td>\n",
       "      <td>107985.0</td>\n",
       "      <td>107985.0</td>\n",
       "      <td>Aberford Church of England Voluntary Controlle...</td>\n",
       "      <td>Open</td>\n",
       "      <td>Primary</td>\n",
       "      <td>Local authority maintained schools</td>\n",
       "      <td>Church of England</td>\n",
       "      <td>Reception-Year6</td>\n",
       "      <td>LS253BU</td>\n",
       "      <td>NaN</td>\n",
       "      <td>E01011297</td>\n",
       "      <td>Harewood</td>\n",
       "      <td>Elmet and Rothwell</td>\n",
       "      <td>Garforth</td>\n",
       "      <td>443232.0</td>\n",
       "      <td>437054.0</td>\n",
       "    </tr>\n",
       "    <tr>\n",
       "      <th>2</th>\n",
       "      <td>2416</td>\n",
       "      <td>2416.0</td>\n",
       "      <td>107892.0</td>\n",
       "      <td>107892.0</td>\n",
       "      <td>Adel Primary School</td>\n",
       "      <td>Open</td>\n",
       "      <td>Primary</td>\n",
       "      <td>Local authority maintained schools</td>\n",
       "      <td>Does not apply</td>\n",
       "      <td>Nursery-Year6</td>\n",
       "      <td>LS168DY</td>\n",
       "      <td>NaN</td>\n",
       "      <td>E01011385</td>\n",
       "      <td>Adel &amp; Wharfedale</td>\n",
       "      <td>Leeds North West</td>\n",
       "      <td>ESNW</td>\n",
       "      <td>428005.0</td>\n",
       "      <td>439325.0</td>\n",
       "    </tr>\n",
       "    <tr>\n",
       "      <th>3</th>\n",
       "      <td>3902</td>\n",
       "      <td>3902.0</td>\n",
       "      <td>108041.0</td>\n",
       "      <td>108041.0</td>\n",
       "      <td>Adel St John the Baptist Church of England Pri...</td>\n",
       "      <td>Open</td>\n",
       "      <td>Primary</td>\n",
       "      <td>Local authority maintained schools</td>\n",
       "      <td>Church of England</td>\n",
       "      <td>Reception-Year6</td>\n",
       "      <td>LS168EX</td>\n",
       "      <td>NaN</td>\n",
       "      <td>E01011380</td>\n",
       "      <td>Adel &amp; Wharfedale</td>\n",
       "      <td>Leeds North West</td>\n",
       "      <td>ESNW</td>\n",
       "      <td>427666.0</td>\n",
       "      <td>439696.0</td>\n",
       "    </tr>\n",
       "    <tr>\n",
       "      <th>4</th>\n",
       "      <td>3909</td>\n",
       "      <td>3909.0</td>\n",
       "      <td>108048.0</td>\n",
       "      <td>108048.0</td>\n",
       "      <td>All Saint's Richmond Hill Church of England Pr...</td>\n",
       "      <td>Open</td>\n",
       "      <td>Primary</td>\n",
       "      <td>Local authority maintained schools</td>\n",
       "      <td>Church of England</td>\n",
       "      <td>Nursery-Year6</td>\n",
       "      <td>LS99AD</td>\n",
       "      <td>NaN</td>\n",
       "      <td>E01033021</td>\n",
       "      <td>Burmantofts &amp; Richmond Hill</td>\n",
       "      <td>Leeds Central</td>\n",
       "      <td>Inner East</td>\n",
       "      <td>431762.0</td>\n",
       "      <td>433529.0</td>\n",
       "    </tr>\n",
       "    <tr>\n",
       "      <th>5</th>\n",
       "      <td>2507</td>\n",
       "      <td>2507.0</td>\n",
       "      <td>143242.0</td>\n",
       "      <td>107983.0</td>\n",
       "      <td>Allerton Bywater Primary School</td>\n",
       "      <td>Open</td>\n",
       "      <td>Primary</td>\n",
       "      <td>Academies</td>\n",
       "      <td>None</td>\n",
       "      <td>Nursery-Year6</td>\n",
       "      <td>WF102DR</td>\n",
       "      <td>NaN</td>\n",
       "      <td>E01011307</td>\n",
       "      <td>Kippax &amp; Methley</td>\n",
       "      <td>Elmet and Rothwell</td>\n",
       "      <td>Brigshaw</td>\n",
       "      <td>441632.0</td>\n",
       "      <td>428057.0</td>\n",
       "    </tr>\n",
       "  </tbody>\n",
       "</table>\n",
       "</div>"
      ],
      "text/plain": [
       "    DfE  DfE_Old       URN   URN_Old  \\\n",
       "1  3030   3030.0  107985.0  107985.0   \n",
       "2  2416   2416.0  107892.0  107892.0   \n",
       "3  3902   3902.0  108041.0  108041.0   \n",
       "4  3909   3909.0  108048.0  108048.0   \n",
       "5  2507   2507.0  143242.0  107983.0   \n",
       "\n",
       "                                              School OpenOrClosed    Phase  \\\n",
       "1  Aberford Church of England Voluntary Controlle...         Open  Primary   \n",
       "2                                Adel Primary School         Open  Primary   \n",
       "3  Adel St John the Baptist Church of England Pri...         Open  Primary   \n",
       "4  All Saint's Richmond Hill Church of England Pr...         Open  Primary   \n",
       "5                    Allerton Bywater Primary School         Open  Primary   \n",
       "\n",
       "                           TypeDetail ReligiousCharacter            Years  \\\n",
       "1  Local authority maintained schools  Church of England  Reception-Year6   \n",
       "2  Local authority maintained schools     Does not apply    Nursery-Year6   \n",
       "3  Local authority maintained schools  Church of England  Reception-Year6   \n",
       "4  Local authority maintained schools  Church of England    Nursery-Year6   \n",
       "5                           Academies               None    Nursery-Year6   \n",
       "\n",
       "  Postcode lsoa01     lsoa11                     Ward_new        Constituency  \\\n",
       "1  LS253BU    NaN  E01011297                     Harewood  Elmet and Rothwell   \n",
       "2  LS168DY    NaN  E01011385            Adel & Wharfedale    Leeds North West   \n",
       "3  LS168EX    NaN  E01011380            Adel & Wharfedale    Leeds North West   \n",
       "4   LS99AD    NaN  E01033021  Burmantofts & Richmond Hill       Leeds Central   \n",
       "5  WF102DR    NaN  E01011307             Kippax & Methley  Elmet and Rothwell   \n",
       "\n",
       "  ClusterThisYear         X         Y  \n",
       "1        Garforth  443232.0  437054.0  \n",
       "2            ESNW  428005.0  439325.0  \n",
       "3            ESNW  427666.0  439696.0  \n",
       "4      Inner East  431762.0  433529.0  \n",
       "5        Brigshaw  441632.0  428057.0  "
      ]
     },
     "execution_count": 8,
     "metadata": {},
     "output_type": "execute_result"
    }
   ],
   "source": [
    "prim.head()"
   ]
  },
  {
   "cell_type": "code",
   "execution_count": 9,
   "id": "17f6e64d",
   "metadata": {},
   "outputs": [],
   "source": [
    "sec = sec[['School', 'OpenOrClosed', 'Phase', 'TypeDetail', 'ReligiousCharacter', 'Years', 'Postcode', 'X' , 'Y']]\n",
    "prim = prim[['School', 'OpenOrClosed', 'Phase', 'TypeDetail', 'ReligiousCharacter', 'Years', 'Postcode', 'X' , 'Y']]"
   ]
  },
  {
   "cell_type": "code",
   "execution_count": 10,
   "id": "bbd49fe8",
   "metadata": {},
   "outputs": [
    {
     "data": {
      "text/plain": [
       "Closed    73\n",
       "Open      38\n",
       "open       1\n",
       "closed     1\n",
       "Name: OpenOrClosed, dtype: int64"
      ]
     },
     "execution_count": 10,
     "metadata": {},
     "output_type": "execute_result"
    }
   ],
   "source": [
    "sec['OpenOrClosed'].value_counts()"
   ]
  },
  {
   "cell_type": "code",
   "execution_count": 11,
   "id": "1884d64e",
   "metadata": {},
   "outputs": [],
   "source": [
    "opens = ['Open', 'open']\n",
    "sec = sec.loc[sec['OpenOrClosed'].isin(opens)]"
   ]
  },
  {
   "cell_type": "code",
   "execution_count": 12,
   "id": "d61743f5",
   "metadata": {},
   "outputs": [
    {
     "data": {
      "text/plain": [
       "Open      217\n",
       "Closed    214\n",
       "closed      2\n",
       "open        1\n",
       "Open        1\n",
       "Name: OpenOrClosed, dtype: int64"
      ]
     },
     "execution_count": 12,
     "metadata": {},
     "output_type": "execute_result"
    }
   ],
   "source": [
    "prim['OpenOrClosed'].value_counts()"
   ]
  },
  {
   "cell_type": "code",
   "execution_count": 13,
   "id": "6dcd7bec",
   "metadata": {},
   "outputs": [],
   "source": [
    "prim = prim.loc[prim['OpenOrClosed'].isin(opens)]"
   ]
  },
  {
   "cell_type": "code",
   "execution_count": 14,
   "id": "cb86b215",
   "metadata": {},
   "outputs": [],
   "source": [
    "from geopy.geocoders import Nominatim\n",
    "import time\n",
    "geolocator = Nominatim(user_agent = \"fypLeeds-ts\", timeout = None)"
   ]
  },
  {
   "cell_type": "code",
   "execution_count": 15,
   "id": "9374452a",
   "metadata": {},
   "outputs": [
    {
     "data": {
      "text/html": [
       "<div>\n",
       "<style scoped>\n",
       "    .dataframe tbody tr th:only-of-type {\n",
       "        vertical-align: middle;\n",
       "    }\n",
       "\n",
       "    .dataframe tbody tr th {\n",
       "        vertical-align: top;\n",
       "    }\n",
       "\n",
       "    .dataframe thead th {\n",
       "        text-align: right;\n",
       "    }\n",
       "</style>\n",
       "<table border=\"1\" class=\"dataframe\">\n",
       "  <thead>\n",
       "    <tr style=\"text-align: right;\">\n",
       "      <th></th>\n",
       "      <th>School</th>\n",
       "      <th>OpenOrClosed</th>\n",
       "      <th>Phase</th>\n",
       "      <th>TypeDetail</th>\n",
       "      <th>ReligiousCharacter</th>\n",
       "      <th>Years</th>\n",
       "      <th>Postcode</th>\n",
       "      <th>X</th>\n",
       "      <th>Y</th>\n",
       "    </tr>\n",
       "  </thead>\n",
       "  <tbody>\n",
       "    <tr>\n",
       "      <th>0</th>\n",
       "      <td>Abbey Grange Church of England Academy</td>\n",
       "      <td>Open</td>\n",
       "      <td>Secondary</td>\n",
       "      <td>Academies</td>\n",
       "      <td>Church of England</td>\n",
       "      <td>Year7-Year13</td>\n",
       "      <td>LS165EA</td>\n",
       "      <td>425647.0</td>\n",
       "      <td>437660.0</td>\n",
       "    </tr>\n",
       "    <tr>\n",
       "      <th>1</th>\n",
       "      <td>Allerton Grange School</td>\n",
       "      <td>Open</td>\n",
       "      <td>Secondary</td>\n",
       "      <td>Local authority maintained schools</td>\n",
       "      <td>Does not apply</td>\n",
       "      <td>Year7-Year13</td>\n",
       "      <td>LS176SF</td>\n",
       "      <td>431591.0</td>\n",
       "      <td>438408.0</td>\n",
       "    </tr>\n",
       "    <tr>\n",
       "      <th>2</th>\n",
       "      <td>Allerton High School</td>\n",
       "      <td>Open</td>\n",
       "      <td>Secondary</td>\n",
       "      <td>Local authority maintained schools</td>\n",
       "      <td>Does not apply</td>\n",
       "      <td>Year7-Year13</td>\n",
       "      <td>LS177AG</td>\n",
       "      <td>429500.0</td>\n",
       "      <td>439471.0</td>\n",
       "    </tr>\n",
       "    <tr>\n",
       "      <th>3</th>\n",
       "      <td>Benton Park School</td>\n",
       "      <td>Open</td>\n",
       "      <td>Secondary</td>\n",
       "      <td>Local authority maintained schools</td>\n",
       "      <td>Does not apply</td>\n",
       "      <td>Year7-Year13</td>\n",
       "      <td>LS196LX</td>\n",
       "      <td>420896.0</td>\n",
       "      <td>440158.0</td>\n",
       "    </tr>\n",
       "    <tr>\n",
       "      <th>4</th>\n",
       "      <td>Bishop Young Church of England Academy</td>\n",
       "      <td>Open</td>\n",
       "      <td>Secondary</td>\n",
       "      <td>Academies</td>\n",
       "      <td>Church of England</td>\n",
       "      <td>Year7-Year13</td>\n",
       "      <td>LS146NU</td>\n",
       "      <td>434527.0</td>\n",
       "      <td>436067.0</td>\n",
       "    </tr>\n",
       "  </tbody>\n",
       "</table>\n",
       "</div>"
      ],
      "text/plain": [
       "                                   School OpenOrClosed      Phase  \\\n",
       "0  Abbey Grange Church of England Academy         Open  Secondary   \n",
       "1                  Allerton Grange School         Open  Secondary   \n",
       "2                    Allerton High School         Open  Secondary   \n",
       "3                      Benton Park School         Open  Secondary   \n",
       "4  Bishop Young Church of England Academy         Open  Secondary   \n",
       "\n",
       "                           TypeDetail ReligiousCharacter         Years  \\\n",
       "0                           Academies  Church of England  Year7-Year13   \n",
       "1  Local authority maintained schools     Does not apply  Year7-Year13   \n",
       "2  Local authority maintained schools     Does not apply  Year7-Year13   \n",
       "3  Local authority maintained schools     Does not apply  Year7-Year13   \n",
       "4                           Academies  Church of England  Year7-Year13   \n",
       "\n",
       "  Postcode         X         Y  \n",
       "0  LS165EA  425647.0  437660.0  \n",
       "1  LS176SF  431591.0  438408.0  \n",
       "2  LS177AG  429500.0  439471.0  \n",
       "3  LS196LX  420896.0  440158.0  \n",
       "4  LS146NU  434527.0  436067.0  "
      ]
     },
     "execution_count": 15,
     "metadata": {},
     "output_type": "execute_result"
    }
   ],
   "source": [
    "sec = sec.reset_index()\n",
    "sec.drop(columns = ['index'], inplace = True)\n",
    "sec.head()"
   ]
  },
  {
   "cell_type": "code",
   "execution_count": 16,
   "id": "50e46380",
   "metadata": {},
   "outputs": [
    {
     "data": {
      "text/html": [
       "<div>\n",
       "<style scoped>\n",
       "    .dataframe tbody tr th:only-of-type {\n",
       "        vertical-align: middle;\n",
       "    }\n",
       "\n",
       "    .dataframe tbody tr th {\n",
       "        vertical-align: top;\n",
       "    }\n",
       "\n",
       "    .dataframe thead th {\n",
       "        text-align: right;\n",
       "    }\n",
       "</style>\n",
       "<table border=\"1\" class=\"dataframe\">\n",
       "  <thead>\n",
       "    <tr style=\"text-align: right;\">\n",
       "      <th></th>\n",
       "      <th>School</th>\n",
       "      <th>OpenOrClosed</th>\n",
       "      <th>Phase</th>\n",
       "      <th>TypeDetail</th>\n",
       "      <th>ReligiousCharacter</th>\n",
       "      <th>Years</th>\n",
       "      <th>Postcode</th>\n",
       "      <th>X</th>\n",
       "      <th>Y</th>\n",
       "    </tr>\n",
       "  </thead>\n",
       "  <tbody>\n",
       "    <tr>\n",
       "      <th>0</th>\n",
       "      <td>Aberford Church of England Voluntary Controlle...</td>\n",
       "      <td>Open</td>\n",
       "      <td>Primary</td>\n",
       "      <td>Local authority maintained schools</td>\n",
       "      <td>Church of England</td>\n",
       "      <td>Reception-Year6</td>\n",
       "      <td>LS253BU</td>\n",
       "      <td>443232.0</td>\n",
       "      <td>437054.0</td>\n",
       "    </tr>\n",
       "    <tr>\n",
       "      <th>1</th>\n",
       "      <td>Adel Primary School</td>\n",
       "      <td>Open</td>\n",
       "      <td>Primary</td>\n",
       "      <td>Local authority maintained schools</td>\n",
       "      <td>Does not apply</td>\n",
       "      <td>Nursery-Year6</td>\n",
       "      <td>LS168DY</td>\n",
       "      <td>428005.0</td>\n",
       "      <td>439325.0</td>\n",
       "    </tr>\n",
       "    <tr>\n",
       "      <th>2</th>\n",
       "      <td>Adel St John the Baptist Church of England Pri...</td>\n",
       "      <td>Open</td>\n",
       "      <td>Primary</td>\n",
       "      <td>Local authority maintained schools</td>\n",
       "      <td>Church of England</td>\n",
       "      <td>Reception-Year6</td>\n",
       "      <td>LS168EX</td>\n",
       "      <td>427666.0</td>\n",
       "      <td>439696.0</td>\n",
       "    </tr>\n",
       "    <tr>\n",
       "      <th>3</th>\n",
       "      <td>All Saint's Richmond Hill Church of England Pr...</td>\n",
       "      <td>Open</td>\n",
       "      <td>Primary</td>\n",
       "      <td>Local authority maintained schools</td>\n",
       "      <td>Church of England</td>\n",
       "      <td>Nursery-Year6</td>\n",
       "      <td>LS99AD</td>\n",
       "      <td>431762.0</td>\n",
       "      <td>433529.0</td>\n",
       "    </tr>\n",
       "    <tr>\n",
       "      <th>4</th>\n",
       "      <td>Allerton Bywater Primary School</td>\n",
       "      <td>Open</td>\n",
       "      <td>Primary</td>\n",
       "      <td>Academies</td>\n",
       "      <td>None</td>\n",
       "      <td>Nursery-Year6</td>\n",
       "      <td>WF102DR</td>\n",
       "      <td>441632.0</td>\n",
       "      <td>428057.0</td>\n",
       "    </tr>\n",
       "  </tbody>\n",
       "</table>\n",
       "</div>"
      ],
      "text/plain": [
       "                                              School OpenOrClosed    Phase  \\\n",
       "0  Aberford Church of England Voluntary Controlle...         Open  Primary   \n",
       "1                                Adel Primary School         Open  Primary   \n",
       "2  Adel St John the Baptist Church of England Pri...         Open  Primary   \n",
       "3  All Saint's Richmond Hill Church of England Pr...         Open  Primary   \n",
       "4                    Allerton Bywater Primary School         Open  Primary   \n",
       "\n",
       "                           TypeDetail ReligiousCharacter            Years  \\\n",
       "0  Local authority maintained schools  Church of England  Reception-Year6   \n",
       "1  Local authority maintained schools     Does not apply    Nursery-Year6   \n",
       "2  Local authority maintained schools  Church of England  Reception-Year6   \n",
       "3  Local authority maintained schools  Church of England    Nursery-Year6   \n",
       "4                           Academies               None    Nursery-Year6   \n",
       "\n",
       "  Postcode         X         Y  \n",
       "0  LS253BU  443232.0  437054.0  \n",
       "1  LS168DY  428005.0  439325.0  \n",
       "2  LS168EX  427666.0  439696.0  \n",
       "3   LS99AD  431762.0  433529.0  \n",
       "4  WF102DR  441632.0  428057.0  "
      ]
     },
     "execution_count": 16,
     "metadata": {},
     "output_type": "execute_result"
    }
   ],
   "source": [
    "prim = prim.reset_index()\n",
    "prim.drop(columns = ['index'], inplace = True)\n",
    "prim.head()"
   ]
  },
  {
   "cell_type": "code",
   "execution_count": 17,
   "id": "667a2ac6",
   "metadata": {},
   "outputs": [],
   "source": [
    "update = []\n",
    "for i in range(len(prim['Postcode'])):\n",
    "    string = prim['Postcode'][i][:4] + \" \" + prim['Postcode'][i][4:]\n",
    "    update.append(string)"
   ]
  },
  {
   "cell_type": "code",
   "execution_count": 18,
   "id": "044c4aeb",
   "metadata": {},
   "outputs": [
    {
     "data": {
      "text/plain": [
       "'LS25 3BU'"
      ]
     },
     "execution_count": 18,
     "metadata": {},
     "output_type": "execute_result"
    }
   ],
   "source": [
    "update[0]"
   ]
  },
  {
   "cell_type": "code",
   "execution_count": 19,
   "id": "ad6e3f61",
   "metadata": {},
   "outputs": [],
   "source": [
    "prim['Postcode'] = update"
   ]
  },
  {
   "cell_type": "code",
   "execution_count": 20,
   "id": "9a83afc1",
   "metadata": {},
   "outputs": [],
   "source": [
    "update1 = []\n",
    "for i in range(len(sec['Postcode'])):\n",
    "    string = sec['Postcode'][i][:4] + \" \" + sec['Postcode'][i][4:]\n",
    "    update1.append(string)"
   ]
  },
  {
   "cell_type": "code",
   "execution_count": 21,
   "id": "cead99f8",
   "metadata": {},
   "outputs": [],
   "source": [
    "sec['Postcode'] = update1"
   ]
  },
  {
   "cell_type": "code",
   "execution_count": 22,
   "id": "c8b39d61",
   "metadata": {},
   "outputs": [],
   "source": [
    "prim['geocode'] = prim['Postcode'].apply(geolocator.geocode)"
   ]
  },
  {
   "cell_type": "code",
   "execution_count": 23,
   "id": "55fbc49e",
   "metadata": {},
   "outputs": [],
   "source": [
    "sec['geocode'] = sec['Postcode'].apply(geolocator.geocode)"
   ]
  },
  {
   "cell_type": "code",
   "execution_count": 24,
   "id": "e8901e07",
   "metadata": {},
   "outputs": [],
   "source": [
    "def longlat(irl1):\n",
    "    lat = []\n",
    "    long = []\n",
    "    for i in range(len(irl1['geocode'])):\n",
    "        if irl1['geocode'][i] != None:\n",
    "            latitude = irl1['geocode'][i].latitude\n",
    "            longitude = irl1['geocode'][i].longitude\n",
    "            lat.append(latitude)\n",
    "            long.append(longitude)\n",
    "        else:\n",
    "            lat.append('None')\n",
    "            long.append('None')\n",
    "    return lat, long"
   ]
  },
  {
   "cell_type": "code",
   "execution_count": 25,
   "id": "ecd53c57",
   "metadata": {},
   "outputs": [],
   "source": [
    "lat = longlat(prim)[0]\n",
    "long = longlat(prim)[1]"
   ]
  },
  {
   "cell_type": "code",
   "execution_count": 26,
   "id": "81d97233",
   "metadata": {},
   "outputs": [],
   "source": [
    "lat1 = longlat(sec)[0]\n",
    "long1 = longlat(sec)[1]"
   ]
  },
  {
   "cell_type": "code",
   "execution_count": 27,
   "id": "f106aee0",
   "metadata": {},
   "outputs": [],
   "source": [
    "sec['Latitude'] = lat1\n",
    "sec['Longitude'] = long1\n",
    "\n",
    "prim['Longitude'] = long\n",
    "prim['Latitude'] = lat"
   ]
  },
  {
   "cell_type": "code",
   "execution_count": 28,
   "id": "c1a1b970",
   "metadata": {},
   "outputs": [],
   "source": [
    "#lat"
   ]
  },
  {
   "cell_type": "code",
   "execution_count": 29,
   "id": "2523865d",
   "metadata": {},
   "outputs": [
    {
     "data": {
      "text/plain": [
       "(39, 12)"
      ]
     },
     "execution_count": 29,
     "metadata": {},
     "output_type": "execute_result"
    }
   ],
   "source": [
    "sec.shape"
   ]
  },
  {
   "cell_type": "code",
   "execution_count": 30,
   "id": "042930fa",
   "metadata": {},
   "outputs": [
    {
     "data": {
      "text/plain": [
       "(36, 12)"
      ]
     },
     "execution_count": 30,
     "metadata": {},
     "output_type": "execute_result"
    }
   ],
   "source": [
    "sec.loc[(sec['Latitude'] != 'None')].shape"
   ]
  },
  {
   "cell_type": "code",
   "execution_count": 31,
   "id": "3406b040",
   "metadata": {},
   "outputs": [],
   "source": [
    "sec = sec.loc[(sec['Latitude'] != 'None')]\n",
    "sec['Latitude'] = sec['Latitude'].astype('float')"
   ]
  },
  {
   "cell_type": "code",
   "execution_count": 32,
   "id": "21149324",
   "metadata": {},
   "outputs": [],
   "source": [
    "sec = sec.loc[sec['Latitude'] >= 53]"
   ]
  },
  {
   "cell_type": "code",
   "execution_count": 33,
   "id": "503ef51d",
   "metadata": {},
   "outputs": [],
   "source": [
    "#lat"
   ]
  },
  {
   "cell_type": "code",
   "execution_count": 34,
   "id": "6315d4e0",
   "metadata": {},
   "outputs": [
    {
     "data": {
      "text/plain": [
       "(218, 12)"
      ]
     },
     "execution_count": 34,
     "metadata": {},
     "output_type": "execute_result"
    }
   ],
   "source": [
    "prim.shape"
   ]
  },
  {
   "cell_type": "code",
   "execution_count": 35,
   "id": "e9472ffd",
   "metadata": {},
   "outputs": [
    {
     "data": {
      "text/plain": [
       "(198, 12)"
      ]
     },
     "execution_count": 35,
     "metadata": {},
     "output_type": "execute_result"
    }
   ],
   "source": [
    "prim.loc[(prim['Latitude'] != 'None')].shape"
   ]
  },
  {
   "cell_type": "code",
   "execution_count": 36,
   "id": "953ff457",
   "metadata": {},
   "outputs": [],
   "source": [
    "prim = prim.loc[(prim['Latitude'] != 'None')]\n",
    "prim['Latitude'] = prim['Latitude'].astype('float')"
   ]
  },
  {
   "cell_type": "code",
   "execution_count": 37,
   "id": "a918a4a6",
   "metadata": {},
   "outputs": [],
   "source": [
    "prim = prim.loc[prim['Latitude'] >= 53]"
   ]
  },
  {
   "cell_type": "code",
   "execution_count": 38,
   "id": "5d77d612",
   "metadata": {},
   "outputs": [
    {
     "data": {
      "text/plain": [
       "61.1614102"
      ]
     },
     "execution_count": 38,
     "metadata": {},
     "output_type": "execute_result"
    }
   ],
   "source": [
    "prim['Latitude'].max()"
   ]
  },
  {
   "cell_type": "code",
   "execution_count": 39,
   "id": "7f6984b2",
   "metadata": {},
   "outputs": [],
   "source": [
    "prim = prim.loc[prim['Latitude'] < 55]"
   ]
  },
  {
   "cell_type": "code",
   "execution_count": 40,
   "id": "a7a62941",
   "metadata": {},
   "outputs": [],
   "source": [
    "prim['Longitude'] = prim['Longitude'].astype('float')\n",
    "sec['Longitude'] = sec['Longitude'].astype('float')"
   ]
  },
  {
   "cell_type": "code",
   "execution_count": 41,
   "id": "8b3028cb",
   "metadata": {},
   "outputs": [
    {
     "data": {
      "text/plain": [
       "(163, 12)"
      ]
     },
     "execution_count": 41,
     "metadata": {},
     "output_type": "execute_result"
    }
   ],
   "source": [
    "prim.shape"
   ]
  },
  {
   "cell_type": "markdown",
   "id": "04cf2f37",
   "metadata": {},
   "source": [
    "## Nearest Primary School"
   ]
  },
  {
   "cell_type": "code",
   "execution_count": 42,
   "id": "4264277a",
   "metadata": {},
   "outputs": [
    {
     "data": {
      "text/plain": [
       "(40995, 19)"
      ]
     },
     "execution_count": 42,
     "metadata": {},
     "output_type": "execute_result"
    }
   ],
   "source": [
    "lee.shape"
   ]
  },
  {
   "cell_type": "code",
   "execution_count": 43,
   "id": "b4cd2a93",
   "metadata": {},
   "outputs": [
    {
     "data": {
      "text/plain": [
       "(40973, 19)"
      ]
     },
     "execution_count": 43,
     "metadata": {},
     "output_type": "execute_result"
    }
   ],
   "source": [
    "lee.loc[lee['Longitude'] != 'None'].shape"
   ]
  },
  {
   "cell_type": "code",
   "execution_count": 44,
   "id": "4622fcc9",
   "metadata": {},
   "outputs": [],
   "source": [
    "lee = lee.loc[lee['Longitude'] != 'None']"
   ]
  },
  {
   "cell_type": "code",
   "execution_count": 45,
   "id": "4d85f7ff",
   "metadata": {},
   "outputs": [],
   "source": [
    "lee['Longitude'] = lee['Longitude'].astype('float')\n",
    "lee['Latitude'] = lee['Latitude'].astype('float')"
   ]
  },
  {
   "cell_type": "code",
   "execution_count": 46,
   "id": "abe8d7ab",
   "metadata": {},
   "outputs": [],
   "source": [
    "from math import radians, cos, sin, asin, sqrt\n",
    "def haversine(lon1, lat1, lon2, lat2):\n",
    "    \"\"\"\n",
    "    Calculate the great circle distance between two points \n",
    "    on the earth (specified in decimal degrees)\n",
    "    \"\"\"\n",
    "    # convert decimal degrees to radians \n",
    "    lon1, lat1, lon2, lat2 = map(radians, [lon1, lat1, lon2, lat2])\n",
    "    # haversine formula \n",
    "    dlon = lon2 - lon1 \n",
    "    dlat = lat2 - lat1 \n",
    "    a = sin(dlat/2)**2 + cos(lat1) * cos(lat2) * sin(dlon/2)**2\n",
    "    c = 2 * asin(sqrt(a)) \n",
    "    # Radius of earth in kilometers is 6371\n",
    "    km = 6371 * c\n",
    "    return km"
   ]
  },
  {
   "cell_type": "code",
   "execution_count": 47,
   "id": "6bf2f2b8",
   "metadata": {},
   "outputs": [
    {
     "data": {
      "text/html": [
       "<div>\n",
       "<style scoped>\n",
       "    .dataframe tbody tr th:only-of-type {\n",
       "        vertical-align: middle;\n",
       "    }\n",
       "\n",
       "    .dataframe tbody tr th {\n",
       "        vertical-align: top;\n",
       "    }\n",
       "\n",
       "    .dataframe thead th {\n",
       "        text-align: right;\n",
       "    }\n",
       "</style>\n",
       "<table border=\"1\" class=\"dataframe\">\n",
       "  <thead>\n",
       "    <tr style=\"text-align: right;\">\n",
       "      <th></th>\n",
       "      <th>School</th>\n",
       "      <th>OpenOrClosed</th>\n",
       "      <th>Phase</th>\n",
       "      <th>TypeDetail</th>\n",
       "      <th>ReligiousCharacter</th>\n",
       "      <th>Years</th>\n",
       "      <th>Postcode</th>\n",
       "      <th>X</th>\n",
       "      <th>Y</th>\n",
       "      <th>geocode</th>\n",
       "      <th>Longitude</th>\n",
       "      <th>Latitude</th>\n",
       "    </tr>\n",
       "  </thead>\n",
       "  <tbody>\n",
       "    <tr>\n",
       "      <th>0</th>\n",
       "      <td>Aberford Church of England Voluntary Controlle...</td>\n",
       "      <td>Open</td>\n",
       "      <td>Primary</td>\n",
       "      <td>Local authority maintained schools</td>\n",
       "      <td>Church of England</td>\n",
       "      <td>Reception-Year6</td>\n",
       "      <td>LS25 3BU</td>\n",
       "      <td>443232.0</td>\n",
       "      <td>437054.0</td>\n",
       "      <td>(Aberford, Leeds, West Yorkshire, Yorkshire an...</td>\n",
       "      <td>-1.344655</td>\n",
       "      <td>53.827929</td>\n",
       "    </tr>\n",
       "    <tr>\n",
       "      <th>1</th>\n",
       "      <td>Adel Primary School</td>\n",
       "      <td>Open</td>\n",
       "      <td>Primary</td>\n",
       "      <td>Local authority maintained schools</td>\n",
       "      <td>Does not apply</td>\n",
       "      <td>Nursery-Year6</td>\n",
       "      <td>LS16 8DY</td>\n",
       "      <td>428005.0</td>\n",
       "      <td>439325.0</td>\n",
       "      <td>(Leeds, West Yorkshire, Yorkshire and the Humb...</td>\n",
       "      <td>-1.576497</td>\n",
       "      <td>53.849105</td>\n",
       "    </tr>\n",
       "    <tr>\n",
       "      <th>2</th>\n",
       "      <td>Adel St John the Baptist Church of England Pri...</td>\n",
       "      <td>Open</td>\n",
       "      <td>Primary</td>\n",
       "      <td>Local authority maintained schools</td>\n",
       "      <td>Church of England</td>\n",
       "      <td>Reception-Year6</td>\n",
       "      <td>LS16 8EX</td>\n",
       "      <td>427666.0</td>\n",
       "      <td>439696.0</td>\n",
       "      <td>(Leeds, West Yorkshire, Yorkshire and the Humb...</td>\n",
       "      <td>-1.580772</td>\n",
       "      <td>53.852587</td>\n",
       "    </tr>\n",
       "    <tr>\n",
       "      <th>3</th>\n",
       "      <td>Allerton Bywater Primary School</td>\n",
       "      <td>Open</td>\n",
       "      <td>Primary</td>\n",
       "      <td>Academies</td>\n",
       "      <td>None</td>\n",
       "      <td>Nursery-Year6</td>\n",
       "      <td>WF10 2DR</td>\n",
       "      <td>441632.0</td>\n",
       "      <td>428057.0</td>\n",
       "      <td>(Allerton Bywater, Leeds, West Yorkshire, York...</td>\n",
       "      <td>-1.370141</td>\n",
       "      <td>53.747510</td>\n",
       "    </tr>\n",
       "    <tr>\n",
       "      <th>4</th>\n",
       "      <td>Allerton CofE Primary School</td>\n",
       "      <td>Open</td>\n",
       "      <td>Primary</td>\n",
       "      <td>Local authority maintained schools</td>\n",
       "      <td>Church of England</td>\n",
       "      <td>Nursery-Year6</td>\n",
       "      <td>LS17 7HL</td>\n",
       "      <td>429837.0</td>\n",
       "      <td>439357.2</td>\n",
       "      <td>(Leeds, West Yorkshire, Yorkshire and the Humb...</td>\n",
       "      <td>-1.547552</td>\n",
       "      <td>53.849600</td>\n",
       "    </tr>\n",
       "  </tbody>\n",
       "</table>\n",
       "</div>"
      ],
      "text/plain": [
       "                                              School OpenOrClosed    Phase  \\\n",
       "0  Aberford Church of England Voluntary Controlle...         Open  Primary   \n",
       "1                                Adel Primary School         Open  Primary   \n",
       "2  Adel St John the Baptist Church of England Pri...         Open  Primary   \n",
       "3                    Allerton Bywater Primary School         Open  Primary   \n",
       "4                       Allerton CofE Primary School         Open  Primary   \n",
       "\n",
       "                           TypeDetail ReligiousCharacter            Years  \\\n",
       "0  Local authority maintained schools  Church of England  Reception-Year6   \n",
       "1  Local authority maintained schools     Does not apply    Nursery-Year6   \n",
       "2  Local authority maintained schools  Church of England  Reception-Year6   \n",
       "3                           Academies               None    Nursery-Year6   \n",
       "4  Local authority maintained schools  Church of England    Nursery-Year6   \n",
       "\n",
       "   Postcode         X         Y  \\\n",
       "0  LS25 3BU  443232.0  437054.0   \n",
       "1  LS16 8DY  428005.0  439325.0   \n",
       "2  LS16 8EX  427666.0  439696.0   \n",
       "3  WF10 2DR  441632.0  428057.0   \n",
       "4  LS17 7HL  429837.0  439357.2   \n",
       "\n",
       "                                             geocode  Longitude   Latitude  \n",
       "0  (Aberford, Leeds, West Yorkshire, Yorkshire an...  -1.344655  53.827929  \n",
       "1  (Leeds, West Yorkshire, Yorkshire and the Humb...  -1.576497  53.849105  \n",
       "2  (Leeds, West Yorkshire, Yorkshire and the Humb...  -1.580772  53.852587  \n",
       "3  (Allerton Bywater, Leeds, West Yorkshire, York...  -1.370141  53.747510  \n",
       "4  (Leeds, West Yorkshire, Yorkshire and the Humb...  -1.547552  53.849600  "
      ]
     },
     "execution_count": 47,
     "metadata": {},
     "output_type": "execute_result"
    }
   ],
   "source": [
    "prim = prim.reset_index()\n",
    "prim.drop(columns = ['index'], inplace = True)\n",
    "prim.head()"
   ]
  },
  {
   "cell_type": "code",
   "execution_count": 48,
   "id": "e029d5dc",
   "metadata": {},
   "outputs": [],
   "source": [
    "vals = np.array(lee['Longitude'])\n",
    "vals1 = np.array(lee['Latitude'])\n",
    "schoollon = np.array(prim['Longitude'])\n",
    "schoollat = np.array(prim['Latitude'])\n",
    "distance = []\n",
    "for i in range(len(vals)):\n",
    "    lat1 = vals1[i]\n",
    "    lon1 = vals[i]\n",
    "    distances = []\n",
    "    for j in range(len(schoollat)): # B\n",
    "        lat2 = schoollat[j]\n",
    "        lon2 = schoollon[j]\n",
    "        dist = haversine(lon1, lat1, lon2, lat2)\n",
    "        distances.append(dist)\n",
    "\n",
    "    min_distance = min(distances)\n",
    "    distance.append(min_distance)"
   ]
  },
  {
   "cell_type": "code",
   "execution_count": 49,
   "id": "1b391cb0",
   "metadata": {},
   "outputs": [],
   "source": [
    "lee['PrimaryDistance'] = distance"
   ]
  },
  {
   "cell_type": "code",
   "execution_count": 50,
   "id": "7e16ec91",
   "metadata": {},
   "outputs": [
    {
     "data": {
      "text/plain": [
       "8562.532359178347"
      ]
     },
     "execution_count": 50,
     "metadata": {},
     "output_type": "execute_result"
    }
   ],
   "source": [
    "lee['PrimaryDistance'].max()"
   ]
  },
  {
   "cell_type": "code",
   "execution_count": 51,
   "id": "01647940",
   "metadata": {},
   "outputs": [],
   "source": [
    "lee = lee.loc[lee['PrimaryDistance'] < 10]"
   ]
  },
  {
   "cell_type": "code",
   "execution_count": 52,
   "id": "b7e4f5ec",
   "metadata": {},
   "outputs": [
    {
     "data": {
      "text/plain": [
       "9.827978809715752"
      ]
     },
     "execution_count": 52,
     "metadata": {},
     "output_type": "execute_result"
    }
   ],
   "source": [
    "lee['PrimaryDistance'].max()"
   ]
  },
  {
   "cell_type": "code",
   "execution_count": 53,
   "id": "d6ec93dd",
   "metadata": {},
   "outputs": [
    {
     "data": {
      "text/plain": [
       "(40943, 20)"
      ]
     },
     "execution_count": 53,
     "metadata": {},
     "output_type": "execute_result"
    }
   ],
   "source": [
    "lee.shape"
   ]
  },
  {
   "cell_type": "markdown",
   "id": "9f38b029",
   "metadata": {},
   "source": [
    "## Secondary School"
   ]
  },
  {
   "cell_type": "code",
   "execution_count": 54,
   "id": "fbe3a3d6",
   "metadata": {},
   "outputs": [
    {
     "data": {
      "text/html": [
       "<div>\n",
       "<style scoped>\n",
       "    .dataframe tbody tr th:only-of-type {\n",
       "        vertical-align: middle;\n",
       "    }\n",
       "\n",
       "    .dataframe tbody tr th {\n",
       "        vertical-align: top;\n",
       "    }\n",
       "\n",
       "    .dataframe thead th {\n",
       "        text-align: right;\n",
       "    }\n",
       "</style>\n",
       "<table border=\"1\" class=\"dataframe\">\n",
       "  <thead>\n",
       "    <tr style=\"text-align: right;\">\n",
       "      <th></th>\n",
       "      <th>School</th>\n",
       "      <th>OpenOrClosed</th>\n",
       "      <th>Phase</th>\n",
       "      <th>TypeDetail</th>\n",
       "      <th>ReligiousCharacter</th>\n",
       "      <th>Years</th>\n",
       "      <th>Postcode</th>\n",
       "      <th>X</th>\n",
       "      <th>Y</th>\n",
       "      <th>geocode</th>\n",
       "      <th>Latitude</th>\n",
       "      <th>Longitude</th>\n",
       "    </tr>\n",
       "  </thead>\n",
       "  <tbody>\n",
       "    <tr>\n",
       "      <th>0</th>\n",
       "      <td>Abbey Grange Church of England Academy</td>\n",
       "      <td>Open</td>\n",
       "      <td>Secondary</td>\n",
       "      <td>Academies</td>\n",
       "      <td>Church of England</td>\n",
       "      <td>Year7-Year13</td>\n",
       "      <td>LS16 5EA</td>\n",
       "      <td>425647.0</td>\n",
       "      <td>437660.0</td>\n",
       "      <td>(Leeds, West Yorkshire, Yorkshire and the Humb...</td>\n",
       "      <td>53.834237</td>\n",
       "      <td>-1.610190</td>\n",
       "    </tr>\n",
       "    <tr>\n",
       "      <th>1</th>\n",
       "      <td>Allerton Grange School</td>\n",
       "      <td>Open</td>\n",
       "      <td>Secondary</td>\n",
       "      <td>Local authority maintained schools</td>\n",
       "      <td>Does not apply</td>\n",
       "      <td>Year7-Year13</td>\n",
       "      <td>LS17 6SF</td>\n",
       "      <td>431591.0</td>\n",
       "      <td>438408.0</td>\n",
       "      <td>(Leeds, West Yorkshire, Yorkshire and the Humb...</td>\n",
       "      <td>53.840451</td>\n",
       "      <td>-1.520626</td>\n",
       "    </tr>\n",
       "    <tr>\n",
       "      <th>2</th>\n",
       "      <td>Allerton High School</td>\n",
       "      <td>Open</td>\n",
       "      <td>Secondary</td>\n",
       "      <td>Local authority maintained schools</td>\n",
       "      <td>Does not apply</td>\n",
       "      <td>Year7-Year13</td>\n",
       "      <td>LS17 7AG</td>\n",
       "      <td>429500.0</td>\n",
       "      <td>439471.0</td>\n",
       "      <td>(Leeds, West Yorkshire, Yorkshire and the Humb...</td>\n",
       "      <td>53.850500</td>\n",
       "      <td>-1.551406</td>\n",
       "    </tr>\n",
       "    <tr>\n",
       "      <th>3</th>\n",
       "      <td>Benton Park School</td>\n",
       "      <td>Open</td>\n",
       "      <td>Secondary</td>\n",
       "      <td>Local authority maintained schools</td>\n",
       "      <td>Does not apply</td>\n",
       "      <td>Year7-Year13</td>\n",
       "      <td>LS19 6LX</td>\n",
       "      <td>420896.0</td>\n",
       "      <td>440158.0</td>\n",
       "      <td>(Rawdon, Leeds, West Yorkshire, Yorkshire and ...</td>\n",
       "      <td>53.857033</td>\n",
       "      <td>-1.682820</td>\n",
       "    </tr>\n",
       "    <tr>\n",
       "      <th>4</th>\n",
       "      <td>Bishop Young Church of England Academy</td>\n",
       "      <td>Open</td>\n",
       "      <td>Secondary</td>\n",
       "      <td>Academies</td>\n",
       "      <td>Church of England</td>\n",
       "      <td>Year7-Year13</td>\n",
       "      <td>LS14 6NU</td>\n",
       "      <td>434527.0</td>\n",
       "      <td>436067.0</td>\n",
       "      <td>(Leeds, West Yorkshire, Yorkshire and the Humb...</td>\n",
       "      <td>53.819187</td>\n",
       "      <td>-1.475548</td>\n",
       "    </tr>\n",
       "  </tbody>\n",
       "</table>\n",
       "</div>"
      ],
      "text/plain": [
       "                                   School OpenOrClosed      Phase  \\\n",
       "0  Abbey Grange Church of England Academy         Open  Secondary   \n",
       "1                  Allerton Grange School         Open  Secondary   \n",
       "2                    Allerton High School         Open  Secondary   \n",
       "3                      Benton Park School         Open  Secondary   \n",
       "4  Bishop Young Church of England Academy         Open  Secondary   \n",
       "\n",
       "                           TypeDetail ReligiousCharacter         Years  \\\n",
       "0                           Academies  Church of England  Year7-Year13   \n",
       "1  Local authority maintained schools     Does not apply  Year7-Year13   \n",
       "2  Local authority maintained schools     Does not apply  Year7-Year13   \n",
       "3  Local authority maintained schools     Does not apply  Year7-Year13   \n",
       "4                           Academies  Church of England  Year7-Year13   \n",
       "\n",
       "   Postcode         X         Y  \\\n",
       "0  LS16 5EA  425647.0  437660.0   \n",
       "1  LS17 6SF  431591.0  438408.0   \n",
       "2  LS17 7AG  429500.0  439471.0   \n",
       "3  LS19 6LX  420896.0  440158.0   \n",
       "4  LS14 6NU  434527.0  436067.0   \n",
       "\n",
       "                                             geocode   Latitude  Longitude  \n",
       "0  (Leeds, West Yorkshire, Yorkshire and the Humb...  53.834237  -1.610190  \n",
       "1  (Leeds, West Yorkshire, Yorkshire and the Humb...  53.840451  -1.520626  \n",
       "2  (Leeds, West Yorkshire, Yorkshire and the Humb...  53.850500  -1.551406  \n",
       "3  (Rawdon, Leeds, West Yorkshire, Yorkshire and ...  53.857033  -1.682820  \n",
       "4  (Leeds, West Yorkshire, Yorkshire and the Humb...  53.819187  -1.475548  "
      ]
     },
     "execution_count": 54,
     "metadata": {},
     "output_type": "execute_result"
    }
   ],
   "source": [
    "sec = sec.reset_index()\n",
    "sec.drop(columns = ['index'], inplace = True)\n",
    "sec.head()"
   ]
  },
  {
   "cell_type": "code",
   "execution_count": 59,
   "id": "fff7715c",
   "metadata": {},
   "outputs": [],
   "source": [
    "vals = np.array(lee['Longitude'])\n",
    "vals1 = np.array(lee['Latitude'])\n",
    "schoollon = np.array(sec['Longitude'])\n",
    "schoollat = np.array(sec['Latitude'])\n",
    "distance1 = []\n",
    "for i in range(len(vals)):\n",
    "    lat1 = vals1[i]\n",
    "    lon1 = vals[i]\n",
    "    distances1 = []\n",
    "    for j in range(len(schoollat)):\n",
    "        lat2 = schoollat[j]\n",
    "        lon2 = schoollon[j]\n",
    "        dist = haversine(lon1, lat1, lon2, lat2)\n",
    "        distances1.append(dist)\n",
    "\n",
    "    min_distance = min(distances1)\n",
    "    distance1.append(min_distance)"
   ]
  },
  {
   "cell_type": "code",
   "execution_count": 60,
   "id": "84a7b65d",
   "metadata": {},
   "outputs": [],
   "source": [
    "lee['SecondaryDistance'] = distance1"
   ]
  },
  {
   "cell_type": "code",
   "execution_count": 63,
   "id": "a392b63e",
   "metadata": {},
   "outputs": [
    {
     "data": {
      "text/plain": [
       "13.940212508445802"
      ]
     },
     "execution_count": 63,
     "metadata": {},
     "output_type": "execute_result"
    }
   ],
   "source": [
    "lee['SecondaryDistance'].max()"
   ]
  },
  {
   "cell_type": "markdown",
   "id": "78324e1d",
   "metadata": {},
   "source": [
    "## Attractions"
   ]
  },
  {
   "cell_type": "code",
   "execution_count": 64,
   "id": "218e69d6",
   "metadata": {},
   "outputs": [],
   "source": [
    "att = pd.read_csv('Attractions.csv')"
   ]
  },
  {
   "cell_type": "code",
   "execution_count": 66,
   "id": "9f5949aa",
   "metadata": {},
   "outputs": [
    {
     "data": {
      "text/plain": [
       "(132, 7)"
      ]
     },
     "execution_count": 66,
     "metadata": {},
     "output_type": "execute_result"
    }
   ],
   "source": [
    "att.shape"
   ]
  },
  {
   "cell_type": "code",
   "execution_count": 73,
   "id": "988b2de7",
   "metadata": {},
   "outputs": [
    {
     "data": {
      "text/html": [
       "<div>\n",
       "<style scoped>\n",
       "    .dataframe tbody tr th:only-of-type {\n",
       "        vertical-align: middle;\n",
       "    }\n",
       "\n",
       "    .dataframe tbody tr th {\n",
       "        vertical-align: top;\n",
       "    }\n",
       "\n",
       "    .dataframe thead th {\n",
       "        text-align: right;\n",
       "    }\n",
       "</style>\n",
       "<table border=\"1\" class=\"dataframe\">\n",
       "  <thead>\n",
       "    <tr style=\"text-align: right;\">\n",
       "      <th></th>\n",
       "      <th>Venue Name</th>\n",
       "      <th>Venue Address 1</th>\n",
       "      <th>Venue Address 2</th>\n",
       "      <th>Venue Address 3</th>\n",
       "      <th>Venue Address 4</th>\n",
       "      <th>Venue Postcode</th>\n",
       "      <th>Website</th>\n",
       "    </tr>\n",
       "  </thead>\n",
       "  <tbody>\n",
       "    <tr>\n",
       "      <th>17</th>\n",
       "      <td>Holy Trinity Church</td>\n",
       "      <td>Boar Lane</td>\n",
       "      <td>Leeds</td>\n",
       "      <td>NaN</td>\n",
       "      <td>NaN</td>\n",
       "      <td>LS1 6HW</td>\n",
       "      <td>http://holytrinityleeds.co.uk/</td>\n",
       "    </tr>\n",
       "    <tr>\n",
       "      <th>113</th>\n",
       "      <td>Holy Trinity Meanwood</td>\n",
       "      <td>Church Lane</td>\n",
       "      <td>Meanwood</td>\n",
       "      <td>Leeds</td>\n",
       "      <td>NaN</td>\n",
       "      <td>LS6 4NP</td>\n",
       "      <td>http://www.holytrinitymeanwood.org.uk/</td>\n",
       "    </tr>\n",
       "  </tbody>\n",
       "</table>\n",
       "</div>"
      ],
      "text/plain": [
       "                Venue Name Venue Address 1 Venue Address 2 Venue Address 3  \\\n",
       "17     Holy Trinity Church       Boar Lane           Leeds             NaN   \n",
       "113  Holy Trinity Meanwood     Church Lane        Meanwood           Leeds   \n",
       "\n",
       "    Venue Address 4 Venue Postcode                                 Website  \n",
       "17              NaN        LS1 6HW          http://holytrinityleeds.co.uk/  \n",
       "113             NaN        LS6 4NP  http://www.holytrinitymeanwood.org.uk/  "
      ]
     },
     "execution_count": 73,
     "metadata": {},
     "output_type": "execute_result"
    }
   ],
   "source": [
    "## boar lane city center\n",
    "att.loc[att['Venue Name'].str.contains('Trinity')]"
   ]
  },
  {
   "cell_type": "code",
   "execution_count": 74,
   "id": "42e78a79",
   "metadata": {},
   "outputs": [
    {
     "data": {
      "text/plain": [
       "Location(Leeds, West Yorkshire, Yorkshire and the Humber, England, LS1 6HW, United Kingdom, (53.7960809875, -1.5439649999999998, 0.0))"
      ]
     },
     "execution_count": 74,
     "metadata": {},
     "output_type": "execute_result"
    }
   ],
   "source": [
    "locationlee = geolocator.geocode('LS1 6HW')\n",
    "locationlee"
   ]
  },
  {
   "cell_type": "code",
   "execution_count": 76,
   "id": "25467136",
   "metadata": {},
   "outputs": [],
   "source": [
    "latcenter = locationlee.latitude\n",
    "longcenter = locationlee.longitude"
   ]
  },
  {
   "cell_type": "code",
   "execution_count": 77,
   "id": "5d431bd9",
   "metadata": {},
   "outputs": [],
   "source": [
    "vals = np.array(lee['Longitude'])\n",
    "vals1 = np.array(lee['Latitude'])\n",
    "distance_cen = []\n",
    "for i in range(len(vals)):\n",
    "    dist = haversine(longcenter, latcenter, vals[i], vals1[i])\n",
    "    distance_cen.append(dist)"
   ]
  },
  {
   "cell_type": "code",
   "execution_count": 80,
   "id": "6751a4c3",
   "metadata": {},
   "outputs": [],
   "source": [
    "lee['CityCenterDist'] = distance_cen"
   ]
  },
  {
   "cell_type": "code",
   "execution_count": 81,
   "id": "84680c65",
   "metadata": {},
   "outputs": [
    {
     "data": {
      "text/plain": [
       "23.989442136661495"
      ]
     },
     "execution_count": 81,
     "metadata": {},
     "output_type": "execute_result"
    }
   ],
   "source": [
    "lee['CityCenterDist'].max()"
   ]
  },
  {
   "cell_type": "code",
   "execution_count": 83,
   "id": "7439cd0a",
   "metadata": {},
   "outputs": [],
   "source": [
    "#lee.to_csv('leethreefeatures.csv')"
   ]
  },
  {
   "cell_type": "markdown",
   "id": "732aa5e4",
   "metadata": {},
   "source": [
    "## Playing Pitches"
   ]
  },
  {
   "cell_type": "code",
   "execution_count": 91,
   "id": "c90fdee0",
   "metadata": {},
   "outputs": [],
   "source": [
    "pitch = pd.read_csv('outdoorsportsfacilities.csv', encoding='cp1252')"
   ]
  },
  {
   "cell_type": "code",
   "execution_count": 92,
   "id": "f6816dff",
   "metadata": {},
   "outputs": [
    {
     "data": {
      "text/plain": [
       "(496, 11)"
      ]
     },
     "execution_count": 92,
     "metadata": {},
     "output_type": "execute_result"
    }
   ],
   "source": [
    "pitch.shape"
   ]
  },
  {
   "cell_type": "code",
   "execution_count": 93,
   "id": "afab7276",
   "metadata": {},
   "outputs": [
    {
     "data": {
      "text/plain": [
       "(474, 11)"
      ]
     },
     "execution_count": 93,
     "metadata": {},
     "output_type": "execute_result"
    }
   ],
   "source": [
    "pitch.dropna(subset = ['Postcode'], inplace = True)\n",
    "pitch.shape"
   ]
  },
  {
   "cell_type": "code",
   "execution_count": 94,
   "id": "ed244824",
   "metadata": {},
   "outputs": [
    {
     "data": {
      "text/html": [
       "<div>\n",
       "<style scoped>\n",
       "    .dataframe tbody tr th:only-of-type {\n",
       "        vertical-align: middle;\n",
       "    }\n",
       "\n",
       "    .dataframe tbody tr th {\n",
       "        vertical-align: top;\n",
       "    }\n",
       "\n",
       "    .dataframe thead th {\n",
       "        text-align: right;\n",
       "    }\n",
       "</style>\n",
       "<table border=\"1\" class=\"dataframe\">\n",
       "  <thead>\n",
       "    <tr style=\"text-align: right;\">\n",
       "      <th></th>\n",
       "      <th>ExtractDate</th>\n",
       "      <th>OrganisationURI</th>\n",
       "      <th>OrganisationLabel</th>\n",
       "      <th>ServiceTypeURI</th>\n",
       "      <th>ServiceTypeLabel</th>\n",
       "      <th>FacilityName</th>\n",
       "      <th>ActivityType</th>\n",
       "      <th>ManagedBy</th>\n",
       "      <th>Ward</th>\n",
       "      <th>Address</th>\n",
       "      <th>Postcode</th>\n",
       "    </tr>\n",
       "  </thead>\n",
       "  <tbody>\n",
       "    <tr>\n",
       "      <th>0</th>\n",
       "      <td>30/10/2014</td>\n",
       "      <td>http://opendatacommunities.org/id/metropolitan...</td>\n",
       "      <td>Leeds</td>\n",
       "      <td>http://id.esd.org.uk/service/644</td>\n",
       "      <td>Sports - facilities - information</td>\n",
       "      <td>Aberford Bowling Green</td>\n",
       "      <td>Bowling Green</td>\n",
       "      <td>Parks and Countryside</td>\n",
       "      <td>Harewood</td>\n",
       "      <td>Parlington Drive</td>\n",
       "      <td>LS25 3EP</td>\n",
       "    </tr>\n",
       "    <tr>\n",
       "      <th>1</th>\n",
       "      <td>30/10/2014</td>\n",
       "      <td>http://opendatacommunities.org/id/metropolitan...</td>\n",
       "      <td>Leeds</td>\n",
       "      <td>http://id.esd.org.uk/service/644</td>\n",
       "      <td>Sports - facilities - information</td>\n",
       "      <td>Acre Close Bowling Green</td>\n",
       "      <td>Bowling Green</td>\n",
       "      <td>Parks and Countryside</td>\n",
       "      <td>Middleton Park</td>\n",
       "      <td>NaN</td>\n",
       "      <td>LS10 4HX</td>\n",
       "    </tr>\n",
       "    <tr>\n",
       "      <th>2</th>\n",
       "      <td>30/10/2014</td>\n",
       "      <td>http://opendatacommunities.org/id/metropolitan...</td>\n",
       "      <td>Leeds</td>\n",
       "      <td>http://id.esd.org.uk/service/644</td>\n",
       "      <td>Sports - facilities - information</td>\n",
       "      <td>Adwalton Moor</td>\n",
       "      <td>Senior</td>\n",
       "      <td>Parks and Countryside</td>\n",
       "      <td>Morley North</td>\n",
       "      <td>Moorland Road, Adwalton</td>\n",
       "      <td>BD11 1JZ</td>\n",
       "    </tr>\n",
       "    <tr>\n",
       "      <th>3</th>\n",
       "      <td>30/10/2014</td>\n",
       "      <td>http://opendatacommunities.org/id/metropolitan...</td>\n",
       "      <td>Leeds</td>\n",
       "      <td>http://id.esd.org.uk/service/644</td>\n",
       "      <td>Sports - facilities - information</td>\n",
       "      <td>Adwalton Moor</td>\n",
       "      <td>Senior</td>\n",
       "      <td>Parks and Countryside</td>\n",
       "      <td>Morley North</td>\n",
       "      <td>Moorland Road, Adwalton</td>\n",
       "      <td>BD11 1JZ</td>\n",
       "    </tr>\n",
       "    <tr>\n",
       "      <th>4</th>\n",
       "      <td>30/10/2014</td>\n",
       "      <td>http://opendatacommunities.org/id/metropolitan...</td>\n",
       "      <td>Leeds</td>\n",
       "      <td>http://id.esd.org.uk/service/644</td>\n",
       "      <td>Sports - facilities - information</td>\n",
       "      <td>Adwalton Moor</td>\n",
       "      <td>Mini (7v7)</td>\n",
       "      <td>Parks and Countryside</td>\n",
       "      <td>Morley North</td>\n",
       "      <td>Moorland Road, Adwalton</td>\n",
       "      <td>BD11 1JZ</td>\n",
       "    </tr>\n",
       "  </tbody>\n",
       "</table>\n",
       "</div>"
      ],
      "text/plain": [
       "  ExtractDate                                    OrganisationURI  \\\n",
       "0  30/10/2014  http://opendatacommunities.org/id/metropolitan...   \n",
       "1  30/10/2014  http://opendatacommunities.org/id/metropolitan...   \n",
       "2  30/10/2014  http://opendatacommunities.org/id/metropolitan...   \n",
       "3  30/10/2014  http://opendatacommunities.org/id/metropolitan...   \n",
       "4  30/10/2014  http://opendatacommunities.org/id/metropolitan...   \n",
       "\n",
       "  OrganisationLabel                    ServiceTypeURI  \\\n",
       "0             Leeds  http://id.esd.org.uk/service/644   \n",
       "1             Leeds  http://id.esd.org.uk/service/644   \n",
       "2             Leeds  http://id.esd.org.uk/service/644   \n",
       "3             Leeds  http://id.esd.org.uk/service/644   \n",
       "4             Leeds  http://id.esd.org.uk/service/644   \n",
       "\n",
       "                    ServiceTypeLabel               FacilityName  \\\n",
       "0  Sports - facilities - information     Aberford Bowling Green   \n",
       "1  Sports - facilities - information  Acre Close Bowling Green    \n",
       "2  Sports - facilities - information              Adwalton Moor   \n",
       "3  Sports - facilities - information              Adwalton Moor   \n",
       "4  Sports - facilities - information              Adwalton Moor   \n",
       "\n",
       "    ActivityType              ManagedBy            Ward  \\\n",
       "0  Bowling Green  Parks and Countryside        Harewood   \n",
       "1  Bowling Green  Parks and Countryside  Middleton Park   \n",
       "2         Senior  Parks and Countryside    Morley North   \n",
       "3         Senior  Parks and Countryside    Morley North   \n",
       "4     Mini (7v7)  Parks and Countryside    Morley North   \n",
       "\n",
       "                   Address  Postcode  \n",
       "0         Parlington Drive  LS25 3EP  \n",
       "1                      NaN  LS10 4HX  \n",
       "2  Moorland Road, Adwalton  BD11 1JZ  \n",
       "3  Moorland Road, Adwalton  BD11 1JZ  \n",
       "4  Moorland Road, Adwalton  BD11 1JZ  "
      ]
     },
     "execution_count": 94,
     "metadata": {},
     "output_type": "execute_result"
    }
   ],
   "source": [
    "pitch = pitch.reset_index()\n",
    "pitch.drop(columns = ['index'], inplace = True)\n",
    "pitch.head()"
   ]
  },
  {
   "cell_type": "code",
   "execution_count": 96,
   "id": "2c2f90f9",
   "metadata": {},
   "outputs": [],
   "source": [
    "pitch['geocode'] = pitch['Postcode'].apply(geolocator.geocode)"
   ]
  },
  {
   "cell_type": "code",
   "execution_count": 97,
   "id": "a1065d2a",
   "metadata": {},
   "outputs": [],
   "source": [
    "latpitch = longlat(pitch)[0]\n",
    "longpitch = longlat(pitch)[1]"
   ]
  },
  {
   "cell_type": "code",
   "execution_count": 100,
   "id": "2ecacf30",
   "metadata": {},
   "outputs": [],
   "source": [
    "pitch['Latitude'] = latpitch\n",
    "pitch['Longitude'] = longpitch"
   ]
  },
  {
   "cell_type": "code",
   "execution_count": 103,
   "id": "d59ba22e",
   "metadata": {},
   "outputs": [
    {
     "data": {
      "text/plain": [
       "(474, 14)"
      ]
     },
     "execution_count": 103,
     "metadata": {},
     "output_type": "execute_result"
    }
   ],
   "source": [
    "pitch.shape"
   ]
  },
  {
   "cell_type": "code",
   "execution_count": 104,
   "id": "102d3f8e",
   "metadata": {},
   "outputs": [
    {
     "data": {
      "text/plain": [
       "(473, 14)"
      ]
     },
     "execution_count": 104,
     "metadata": {},
     "output_type": "execute_result"
    }
   ],
   "source": [
    "pitch = pitch.loc[(pitch['Latitude'] != 'None')]\n",
    "pitch.shape"
   ]
  },
  {
   "cell_type": "code",
   "execution_count": 105,
   "id": "0c1fd946",
   "metadata": {},
   "outputs": [
    {
     "name": "stderr",
     "output_type": "stream",
     "text": [
      "C:\\Users\\user\\AppData\\Local\\Temp/ipykernel_16260/847028335.py:1: SettingWithCopyWarning: \n",
      "A value is trying to be set on a copy of a slice from a DataFrame.\n",
      "Try using .loc[row_indexer,col_indexer] = value instead\n",
      "\n",
      "See the caveats in the documentation: https://pandas.pydata.org/pandas-docs/stable/user_guide/indexing.html#returning-a-view-versus-a-copy\n",
      "  pitch['Longitude'] = pitch['Longitude'].astype('float')\n",
      "C:\\Users\\user\\AppData\\Local\\Temp/ipykernel_16260/847028335.py:2: SettingWithCopyWarning: \n",
      "A value is trying to be set on a copy of a slice from a DataFrame.\n",
      "Try using .loc[row_indexer,col_indexer] = value instead\n",
      "\n",
      "See the caveats in the documentation: https://pandas.pydata.org/pandas-docs/stable/user_guide/indexing.html#returning-a-view-versus-a-copy\n",
      "  pitch['Latitude'] = pitch['Latitude'].astype('float')\n"
     ]
    }
   ],
   "source": [
    "pitch['Longitude'] = pitch['Longitude'].astype('float')\n",
    "pitch['Latitude'] = pitch['Latitude'].astype('float')"
   ]
  },
  {
   "cell_type": "code",
   "execution_count": 107,
   "id": "28af7aac",
   "metadata": {},
   "outputs": [
    {
     "data": {
      "text/plain": [
       "-17.4333281"
      ]
     },
     "execution_count": 107,
     "metadata": {},
     "output_type": "execute_result"
    }
   ],
   "source": [
    "pitch['Latitude'].min()"
   ]
  },
  {
   "cell_type": "code",
   "execution_count": 108,
   "id": "81e544d5",
   "metadata": {},
   "outputs": [],
   "source": [
    "pitch = pitch.loc[pitch['Latitude'] >= 53]"
   ]
  },
  {
   "cell_type": "code",
   "execution_count": 109,
   "id": "6952e66f",
   "metadata": {},
   "outputs": [
    {
     "data": {
      "text/plain": [
       "(453, 14)"
      ]
     },
     "execution_count": 109,
     "metadata": {},
     "output_type": "execute_result"
    }
   ],
   "source": [
    "pitch.shape"
   ]
  },
  {
   "cell_type": "code",
   "execution_count": 110,
   "id": "8992aba3",
   "metadata": {},
   "outputs": [],
   "source": [
    "vals = np.array(lee['Longitude'])\n",
    "vals1 = np.array(lee['Latitude'])\n",
    "pitchlon = np.array(pitch['Longitude'])\n",
    "pitchlat = np.array(pitch['Latitude'])\n",
    "distance2 = []\n",
    "for i in range(len(vals)):\n",
    "    lat1 = vals1[i]\n",
    "    lon1 = vals[i]\n",
    "    distances2 = []\n",
    "    for j in range(len(pitchlat)):\n",
    "        lat2 = pitchlat[j]\n",
    "        lon2 = pitchlon[j]\n",
    "        dist = haversine(lon1, lat1, lon2, lat2)\n",
    "        distances2.append(dist)\n",
    "\n",
    "    min_distance = min(distances2)\n",
    "    distance2.append(min_distance)"
   ]
  },
  {
   "cell_type": "code",
   "execution_count": 111,
   "id": "cb41aeef",
   "metadata": {},
   "outputs": [],
   "source": [
    "lee['ClosestPitch'] = distance2"
   ]
  },
  {
   "cell_type": "code",
   "execution_count": 112,
   "id": "92bda9af",
   "metadata": {},
   "outputs": [
    {
     "data": {
      "text/plain": [
       "11.431586731518136"
      ]
     },
     "execution_count": 112,
     "metadata": {},
     "output_type": "execute_result"
    }
   ],
   "source": [
    "lee['ClosestPitch'].max()"
   ]
  },
  {
   "cell_type": "code",
   "execution_count": 114,
   "id": "1b55aa27",
   "metadata": {},
   "outputs": [],
   "source": [
    "#lee.to_csv('leefourfeatures.csv')"
   ]
  },
  {
   "cell_type": "code",
   "execution_count": null,
   "id": "a4e0a6c2",
   "metadata": {},
   "outputs": [],
   "source": []
  }
 ],
 "metadata": {
  "kernelspec": {
   "display_name": "Python 3 (ipykernel)",
   "language": "python",
   "name": "python3"
  },
  "language_info": {
   "codemirror_mode": {
    "name": "ipython",
    "version": 3
   },
   "file_extension": ".py",
   "mimetype": "text/x-python",
   "name": "python",
   "nbconvert_exporter": "python",
   "pygments_lexer": "ipython3",
   "version": "3.8.12"
  }
 },
 "nbformat": 4,
 "nbformat_minor": 5
}
