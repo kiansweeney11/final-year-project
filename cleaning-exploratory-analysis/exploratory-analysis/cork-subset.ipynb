{
 "cells": [
  {
   "cell_type": "code",
   "execution_count": 1,
   "id": "e4209e86",
   "metadata": {},
   "outputs": [
    {
     "name": "stdout",
     "output_type": "stream",
     "text": [
      "Packages for Mathematical Computation and visualization imported!\n",
      "Pipeline and preprocessing packages imported!\n"
     ]
    }
   ],
   "source": [
    " import pandas as pd\n",
    "import numpy as np\n",
    "\n",
    "from IPython.display import display\n",
    "\n",
    "%matplotlib inline\n",
    "import matplotlib.pyplot as plt  # Matlab-style plotting\n",
    "from IPython.display import display\n",
    "import seaborn as sns\n",
    "color = sns.color_palette()\n",
    "sns.set_style('darkgrid')\n",
    "print('Packages for Mathematical Computation and visualization imported!')\n",
    "\n",
    "from scipy import stats\n",
    "from scipy.stats import norm, skew\n",
    "from scipy.special import boxcox1p\n",
    "from scipy.stats.stats import pearsonr\n",
    "\n",
    "from sklearn.pipeline import make_pipeline\n",
    "from sklearn.preprocessing import RobustScaler\n",
    "from sklearn.preprocessing import StandardScaler\n",
    "from sklearn.preprocessing import LabelEncoder\n",
    "from sklearn.feature_selection import SelectFromModel\n",
    "from sklearn.feature_selection import SelectKBest\n",
    "from sklearn.feature_selection import chi2\n",
    "print('Pipeline and preprocessing packages imported!')"
   ]
  },
  {
   "cell_type": "code",
   "execution_count": 4,
   "id": "7a7ead06",
   "metadata": {},
   "outputs": [],
   "source": [
    "cork = pd.read_csv('cork-subset.csv', index_col = 'Unnamed: 0')"
   ]
  },
  {
   "cell_type": "code",
   "execution_count": 7,
   "id": "74538b24",
   "metadata": {},
   "outputs": [
    {
     "data": {
      "text/plain": [
       "(5846, 17)"
      ]
     },
     "execution_count": 7,
     "metadata": {},
     "output_type": "execute_result"
    }
   ],
   "source": [
    "cork.shape"
   ]
  },
  {
   "cell_type": "code",
   "execution_count": 8,
   "id": "8ed1c60f",
   "metadata": {},
   "outputs": [],
   "source": [
    "from geopy.geocoders import Nominatim\n",
    "import time\n",
    "geolocator = Nominatim(user_agent = \"fyp-cork\")\n",
    "add = np.array(cork['Address'])\n",
    "add1 = np.array(cork['Neighbourhood'])\n",
    "lat2 = []\n",
    "lon2 = []\n",
    "for i in range(len(add)):\n",
    "    time.sleep(1.6)\n",
    "    location = geolocator.geocode(add[i])\n",
    "    #print(location.address)\n",
    "    if location != None:\n",
    "        #print((location.latitude, location.longitude))\n",
    "        lat2.append(location.latitude)\n",
    "        lon2.append(location.longitude)\n",
    "    else:\n",
    "        location1 = geolocator.geocode(add1[i])\n",
    "        if location1 != None:\n",
    "            lat2.append(location1.latitude)\n",
    "            lon2.append(location1.longitude)\n",
    "        else:\n",
    "            lat2.append(\"None\")\n",
    "            lon2.append(\"None\")"
   ]
  },
  {
   "cell_type": "code",
   "execution_count": 9,
   "id": "ad54a609",
   "metadata": {},
   "outputs": [],
   "source": [
    "test11 = cork.copy()\n",
    "test11['Latitude'] = lat2\n",
    "test11['Longitude'] = lon2"
   ]
  },
  {
   "cell_type": "code",
   "execution_count": 11,
   "id": "9b58e49b",
   "metadata": {},
   "outputs": [],
   "source": [
    "test12 = test11.loc[test11['Latitude'] != 'None']"
   ]
  },
  {
   "cell_type": "code",
   "execution_count": 12,
   "id": "910a4772",
   "metadata": {},
   "outputs": [
    {
     "data": {
      "text/plain": [
       "(5275, 19)"
      ]
     },
     "execution_count": 12,
     "metadata": {},
     "output_type": "execute_result"
    }
   ],
   "source": [
    "test12.shape"
   ]
  },
  {
   "cell_type": "code",
   "execution_count": 14,
   "id": "cfd5cdb7",
   "metadata": {},
   "outputs": [],
   "source": [
    "#test12.to_csv('cork-subset-geo.csv')"
   ]
  },
  {
   "cell_type": "code",
   "execution_count": 15,
   "id": "be5225a2",
   "metadata": {},
   "outputs": [
    {
     "data": {
      "text/html": [
       "<div>\n",
       "<style scoped>\n",
       "    .dataframe tbody tr th:only-of-type {\n",
       "        vertical-align: middle;\n",
       "    }\n",
       "\n",
       "    .dataframe tbody tr th {\n",
       "        vertical-align: top;\n",
       "    }\n",
       "\n",
       "    .dataframe thead th {\n",
       "        text-align: right;\n",
       "    }\n",
       "</style>\n",
       "<table border=\"1\" class=\"dataframe\">\n",
       "  <thead>\n",
       "    <tr style=\"text-align: right;\">\n",
       "      <th></th>\n",
       "      <th>Address</th>\n",
       "      <th>County</th>\n",
       "      <th>Price (€)</th>\n",
       "      <th>Not Full Market Price</th>\n",
       "      <th>VAT Exclusive</th>\n",
       "      <th>Description of Property</th>\n",
       "      <th>Property Size Description</th>\n",
       "      <th>Year</th>\n",
       "      <th>Month</th>\n",
       "      <th>Town</th>\n",
       "      <th>Region</th>\n",
       "      <th>Apartment</th>\n",
       "      <th>Neighbourhood</th>\n",
       "      <th>Province</th>\n",
       "      <th>Estate</th>\n",
       "      <th>PriceInflation</th>\n",
       "      <th>Eircode</th>\n",
       "      <th>Latitude</th>\n",
       "      <th>Longitude</th>\n",
       "    </tr>\n",
       "  </thead>\n",
       "  <tbody>\n",
       "    <tr>\n",
       "      <th>94122</th>\n",
       "      <td>Main St, Castletownsend, Cork</td>\n",
       "      <td>Cork</td>\n",
       "      <td>312500.0</td>\n",
       "      <td>1</td>\n",
       "      <td>1</td>\n",
       "      <td>1</td>\n",
       "      <td>2</td>\n",
       "      <td>2014</td>\n",
       "      <td>1</td>\n",
       "      <td>Cork City</td>\n",
       "      <td>South-West (IE)</td>\n",
       "      <td>0</td>\n",
       "      <td>Castletownsend Cork</td>\n",
       "      <td>Munster</td>\n",
       "      <td>Other</td>\n",
       "      <td>591463.41</td>\n",
       "      <td>T12</td>\n",
       "      <td>51.535997</td>\n",
       "      <td>-9.181571</td>\n",
       "    </tr>\n",
       "    <tr>\n",
       "      <th>94123</th>\n",
       "      <td>10 Deerpark Court, Friars Walk, Cork</td>\n",
       "      <td>Cork</td>\n",
       "      <td>280000.0</td>\n",
       "      <td>1</td>\n",
       "      <td>1</td>\n",
       "      <td>1</td>\n",
       "      <td>2</td>\n",
       "      <td>2014</td>\n",
       "      <td>1</td>\n",
       "      <td>Cork City</td>\n",
       "      <td>South-West (IE)</td>\n",
       "      <td>0</td>\n",
       "      <td>Friars Walk Cork</td>\n",
       "      <td>Munster</td>\n",
       "      <td>Estate</td>\n",
       "      <td>529951.22</td>\n",
       "      <td>T12</td>\n",
       "      <td>51.891104</td>\n",
       "      <td>-8.474261</td>\n",
       "    </tr>\n",
       "    <tr>\n",
       "      <th>94124</th>\n",
       "      <td>30 Whitepoint Ave Cobh, Cork</td>\n",
       "      <td>Cork</td>\n",
       "      <td>370000.0</td>\n",
       "      <td>1</td>\n",
       "      <td>1</td>\n",
       "      <td>1</td>\n",
       "      <td>1</td>\n",
       "      <td>2014</td>\n",
       "      <td>1</td>\n",
       "      <td>Cork City</td>\n",
       "      <td>South-West (IE)</td>\n",
       "      <td>0</td>\n",
       "      <td>Whitepoint Ave Cobh Cork</td>\n",
       "      <td>Munster</td>\n",
       "      <td>Estate</td>\n",
       "      <td>700292.68</td>\n",
       "      <td>T12</td>\n",
       "      <td>51.844802</td>\n",
       "      <td>-8.312442</td>\n",
       "    </tr>\n",
       "    <tr>\n",
       "      <th>94125</th>\n",
       "      <td>43 Richmond Hill, Cork</td>\n",
       "      <td>Cork</td>\n",
       "      <td>130000.0</td>\n",
       "      <td>1</td>\n",
       "      <td>1</td>\n",
       "      <td>1</td>\n",
       "      <td>1</td>\n",
       "      <td>2014</td>\n",
       "      <td>1</td>\n",
       "      <td>Cork City</td>\n",
       "      <td>South-West (IE)</td>\n",
       "      <td>0</td>\n",
       "      <td>Richmond Hill Cork</td>\n",
       "      <td>Munster</td>\n",
       "      <td>Estate</td>\n",
       "      <td>246048.78</td>\n",
       "      <td>T12</td>\n",
       "      <td>51.903869</td>\n",
       "      <td>-8.471192</td>\n",
       "    </tr>\n",
       "    <tr>\n",
       "      <th>94126</th>\n",
       "      <td>Vermont, Ballyhooly Rd, Cork</td>\n",
       "      <td>Cork</td>\n",
       "      <td>155000.0</td>\n",
       "      <td>1</td>\n",
       "      <td>1</td>\n",
       "      <td>1</td>\n",
       "      <td>1</td>\n",
       "      <td>2014</td>\n",
       "      <td>1</td>\n",
       "      <td>Cork City</td>\n",
       "      <td>South-West (IE)</td>\n",
       "      <td>0</td>\n",
       "      <td>Ballyhooly Road Cork</td>\n",
       "      <td>Munster</td>\n",
       "      <td>Other</td>\n",
       "      <td>293365.85</td>\n",
       "      <td>T12</td>\n",
       "      <td>51.91138</td>\n",
       "      <td>-8.450581</td>\n",
       "    </tr>\n",
       "  </tbody>\n",
       "</table>\n",
       "</div>"
      ],
      "text/plain": [
       "                                    Address County  Price (€)  \\\n",
       "94122         Main St, Castletownsend, Cork   Cork   312500.0   \n",
       "94123  10 Deerpark Court, Friars Walk, Cork   Cork   280000.0   \n",
       "94124          30 Whitepoint Ave Cobh, Cork   Cork   370000.0   \n",
       "94125                43 Richmond Hill, Cork   Cork   130000.0   \n",
       "94126          Vermont, Ballyhooly Rd, Cork   Cork   155000.0   \n",
       "\n",
       "       Not Full Market Price  VAT Exclusive  Description of Property  \\\n",
       "94122                      1              1                        1   \n",
       "94123                      1              1                        1   \n",
       "94124                      1              1                        1   \n",
       "94125                      1              1                        1   \n",
       "94126                      1              1                        1   \n",
       "\n",
       "       Property Size Description  Year  Month       Town           Region  \\\n",
       "94122                          2  2014      1  Cork City  South-West (IE)   \n",
       "94123                          2  2014      1  Cork City  South-West (IE)   \n",
       "94124                          1  2014      1  Cork City  South-West (IE)   \n",
       "94125                          1  2014      1  Cork City  South-West (IE)   \n",
       "94126                          1  2014      1  Cork City  South-West (IE)   \n",
       "\n",
       "       Apartment             Neighbourhood Province  Estate  PriceInflation  \\\n",
       "94122          0       Castletownsend Cork  Munster   Other       591463.41   \n",
       "94123          0          Friars Walk Cork  Munster  Estate       529951.22   \n",
       "94124          0  Whitepoint Ave Cobh Cork  Munster  Estate       700292.68   \n",
       "94125          0        Richmond Hill Cork  Munster  Estate       246048.78   \n",
       "94126          0      Ballyhooly Road Cork  Munster   Other       293365.85   \n",
       "\n",
       "      Eircode   Latitude Longitude  \n",
       "94122     T12  51.535997 -9.181571  \n",
       "94123     T12  51.891104 -8.474261  \n",
       "94124     T12  51.844802 -8.312442  \n",
       "94125     T12  51.903869 -8.471192  \n",
       "94126     T12   51.91138 -8.450581  "
      ]
     },
     "execution_count": 15,
     "metadata": {},
     "output_type": "execute_result"
    }
   ],
   "source": [
    "test12.head()"
   ]
  },
  {
   "cell_type": "code",
   "execution_count": 16,
   "id": "50aeb98c",
   "metadata": {},
   "outputs": [
    {
     "data": {
      "text/plain": [
       "53.344058"
      ]
     },
     "execution_count": 16,
     "metadata": {},
     "output_type": "execute_result"
    }
   ],
   "source": [
    "test12['Latitude'].max()"
   ]
  },
  {
   "cell_type": "code",
   "execution_count": 17,
   "id": "8d79f7cf",
   "metadata": {},
   "outputs": [
    {
     "data": {
      "text/plain": [
       "-33.733273"
      ]
     },
     "execution_count": 17,
     "metadata": {},
     "output_type": "execute_result"
    }
   ],
   "source": [
    "test12['Latitude'].min()"
   ]
  },
  {
   "cell_type": "markdown",
   "id": "1b4317d6",
   "metadata": {},
   "source": [
    "## Distance to Major Points "
   ]
  },
  {
   "cell_type": "code",
   "execution_count": 18,
   "id": "bd3aabff",
   "metadata": {},
   "outputs": [],
   "source": [
    "from math import radians, cos, sin, asin, sqrt\n",
    "def haversine(lon1, lat1, lon2, lat2):\n",
    "    \"\"\"\n",
    "    Calculate the great circle distance between two points \n",
    "    on the earth (specified in decimal degrees)\n",
    "    \"\"\"\n",
    "    # convert decimal degrees to radians \n",
    "    lon1, lat1, lon2, lat2 = map(radians, [lon1, lat1, lon2, lat2])\n",
    "    # haversine formula \n",
    "    dlon = lon2 - lon1 \n",
    "    dlat = lat2 - lat1 \n",
    "    a = sin(dlat/2)**2 + cos(lat1) * cos(lat2) * sin(dlon/2)**2\n",
    "    c = 2 * asin(sqrt(a)) \n",
    "    # Radius of earth in kilometers is 6371\n",
    "    km = 6371 * c\n",
    "    return km "
   ]
  },
  {
   "cell_type": "code",
   "execution_count": 39,
   "id": "677c6bb8",
   "metadata": {},
   "outputs": [],
   "source": [
    "## city centre latitude, longitude\n",
    "# 51.8983° N, 8.4726° W\n",
    "import geopy.distance\n",
    "center_latitude = 51.8983\n",
    "center_longitude = -8.4726\n",
    "vals_lon = np.array(test12['Longitude'])\n",
    "vals_lat = np.array(test12['Latitude'])\n",
    "distance = []\n",
    "for i in range(len(vals_lon)):\n",
    "    co_ords_2 = (vals_lon[i], vals_lat[i])\n",
    "    dist = haversine(center_longitude, center_latitude, vals_lon[i], vals_lat[i])\n",
    "    distance.append(dist)"
   ]
  },
  {
   "cell_type": "code",
   "execution_count": 40,
   "id": "6e5ebee4",
   "metadata": {},
   "outputs": [
    {
     "data": {
      "text/plain": [
       "13.707300094912206"
      ]
     },
     "execution_count": 40,
     "metadata": {},
     "output_type": "execute_result"
    }
   ],
   "source": [
    "max(distance)"
   ]
  },
  {
   "cell_type": "code",
   "execution_count": 41,
   "id": "2e6d9e20",
   "metadata": {},
   "outputs": [
    {
     "data": {
      "text/plain": [
       "0.08488144383611412"
      ]
     },
     "execution_count": 41,
     "metadata": {},
     "output_type": "execute_result"
    }
   ],
   "source": [
    "min(distance)"
   ]
  },
  {
   "cell_type": "code",
   "execution_count": 42,
   "id": "2bad4bee",
   "metadata": {},
   "outputs": [],
   "source": [
    "test12['DistanceCenter'] = distance"
   ]
  },
  {
   "cell_type": "code",
   "execution_count": 43,
   "id": "037dc35c",
   "metadata": {},
   "outputs": [],
   "source": [
    "test12 = test12.loc[test12['DistanceCenter'] <= 15]"
   ]
  },
  {
   "cell_type": "code",
   "execution_count": 44,
   "id": "4fb8e053",
   "metadata": {},
   "outputs": [
    {
     "data": {
      "text/plain": [
       "(4821, 20)"
      ]
     },
     "execution_count": 44,
     "metadata": {},
     "output_type": "execute_result"
    }
   ],
   "source": [
    "test12.shape"
   ]
  },
  {
   "cell_type": "markdown",
   "id": "34cc39c8",
   "metadata": {},
   "source": [
    "## Closest School"
   ]
  },
  {
   "cell_type": "code",
   "execution_count": 45,
   "id": "6a880c28",
   "metadata": {},
   "outputs": [],
   "source": [
    "prim = pd.read_csv('primary_schools_2013_2014.csv')"
   ]
  },
  {
   "cell_type": "code",
   "execution_count": 46,
   "id": "89885216",
   "metadata": {},
   "outputs": [],
   "source": [
    "prim = prim.loc[prim['County'] == 'Cork']"
   ]
  },
  {
   "cell_type": "code",
   "execution_count": 47,
   "id": "e5eb865f",
   "metadata": {},
   "outputs": [],
   "source": [
    "prim = prim[['Off_Name', 'Add_1', 'County', 'Ethos', 'Long', 'Lat']]"
   ]
  },
  {
   "cell_type": "code",
   "execution_count": 48,
   "id": "58a893e8",
   "metadata": {},
   "outputs": [],
   "source": [
    "vals = np.array(test12['Longitude'])\n",
    "vals1 = np.array(test12['Latitude'])\n",
    "schoollon = np.array(prim['Long'])\n",
    "schoollat = np.array(prim['Lat'])\n",
    "distance_school = []\n",
    "for i in range(len(vals)):\n",
    "    lat1 = vals1[i]\n",
    "    lon1 = vals[i]\n",
    "    distances = []\n",
    "    for j in range(len(schoollat)): # B\n",
    "        lat2 = schoollat[j]\n",
    "        lon2 = schoollon[j]\n",
    "        dist = haversine(lon1, lat1, lon2, lat2)\n",
    "        distances.append(dist)\n",
    "\n",
    "    min_distance = min(distances)\n",
    "    distance_school.append(min_distance)"
   ]
  },
  {
   "cell_type": "code",
   "execution_count": 49,
   "id": "458c65be",
   "metadata": {},
   "outputs": [],
   "source": [
    "test12['DistanceSchool'] = distance_school"
   ]
  },
  {
   "cell_type": "code",
   "execution_count": 52,
   "id": "494ec8d0",
   "metadata": {},
   "outputs": [
    {
     "data": {
      "text/plain": [
       "3.1433438966294367"
      ]
     },
     "execution_count": 52,
     "metadata": {},
     "output_type": "execute_result"
    }
   ],
   "source": [
    "## reasonable values\n",
    "test12['DistanceSchool'].max()"
   ]
  },
  {
   "cell_type": "code",
   "execution_count": 53,
   "id": "7b086e90",
   "metadata": {},
   "outputs": [],
   "source": [
    "test12.drop(columns = ['Estate', 'Not Full Market Price', 'Region', 'Province'], inplace = True)"
   ]
  },
  {
   "cell_type": "markdown",
   "id": "11f94cec",
   "metadata": {},
   "source": [
    "## Nearest Park\n",
    "\n",
    "Using this [website.](https://data.corkcity.ie/dataset/cork-city-parks)"
   ]
  },
  {
   "cell_type": "code",
   "execution_count": 54,
   "id": "0fcc10dc",
   "metadata": {},
   "outputs": [
    {
     "data": {
      "text/html": [
       "<div>\n",
       "<style scoped>\n",
       "    .dataframe tbody tr th:only-of-type {\n",
       "        vertical-align: middle;\n",
       "    }\n",
       "\n",
       "    .dataframe tbody tr th {\n",
       "        vertical-align: top;\n",
       "    }\n",
       "\n",
       "    .dataframe thead th {\n",
       "        text-align: right;\n",
       "    }\n",
       "</style>\n",
       "<table border=\"1\" class=\"dataframe\">\n",
       "  <thead>\n",
       "    <tr style=\"text-align: right;\">\n",
       "      <th></th>\n",
       "      <th>OBJECTID</th>\n",
       "      <th>Name</th>\n",
       "      <th>Address</th>\n",
       "      <th>Website</th>\n",
       "      <th>Type</th>\n",
       "      <th>MUGA</th>\n",
       "      <th>Longitude</th>\n",
       "      <th>Latitude</th>\n",
       "    </tr>\n",
       "  </thead>\n",
       "  <tbody>\n",
       "    <tr>\n",
       "      <th>0</th>\n",
       "      <td>1</td>\n",
       "      <td>Atlantic Pond</td>\n",
       "      <td>Ballintemple, Cork</td>\n",
       "      <td>https://www.corkcity.ie/corkcityco/en/things-t...</td>\n",
       "      <td>Walk</td>\n",
       "      <td>NaN</td>\n",
       "      <td>-8.430833</td>\n",
       "      <td>51.900248</td>\n",
       "    </tr>\n",
       "    <tr>\n",
       "      <th>1</th>\n",
       "      <td>2</td>\n",
       "      <td>Blackrock Amenity Walk</td>\n",
       "      <td>Castle Road, Blackrock, Cork</td>\n",
       "      <td>https://www.corkcity.ie/corkcityco/en/things-t...</td>\n",
       "      <td>Walk</td>\n",
       "      <td>NaN</td>\n",
       "      <td>-8.402421</td>\n",
       "      <td>51.900298</td>\n",
       "    </tr>\n",
       "    <tr>\n",
       "      <th>2</th>\n",
       "      <td>3</td>\n",
       "      <td>South Parish Walk</td>\n",
       "      <td>Queens Old Castle, Grand Parade, Cork</td>\n",
       "      <td>https://www.corkcity.ie/corkcityco/en/things-t...</td>\n",
       "      <td>Walk</td>\n",
       "      <td>NaN</td>\n",
       "      <td>-8.475779</td>\n",
       "      <td>51.898477</td>\n",
       "    </tr>\n",
       "    <tr>\n",
       "      <th>3</th>\n",
       "      <td>4</td>\n",
       "      <td>Central Island Walk</td>\n",
       "      <td>Daunt Square, Cork</td>\n",
       "      <td>https://www.corkcity.ie/corkcityco/en/things-t...</td>\n",
       "      <td>Walk</td>\n",
       "      <td>NaN</td>\n",
       "      <td>-8.475857</td>\n",
       "      <td>51.898563</td>\n",
       "    </tr>\n",
       "    <tr>\n",
       "      <th>4</th>\n",
       "      <td>5</td>\n",
       "      <td>Shandon Walk</td>\n",
       "      <td>Shandon, Cork</td>\n",
       "      <td>https://www.corkcity.ie/corkcityco/en/things-t...</td>\n",
       "      <td>Walk</td>\n",
       "      <td>NaN</td>\n",
       "      <td>-8.476350</td>\n",
       "      <td>51.902808</td>\n",
       "    </tr>\n",
       "  </tbody>\n",
       "</table>\n",
       "</div>"
      ],
      "text/plain": [
       "   OBJECTID                    Name                                Address  \\\n",
       "0         1           Atlantic Pond                     Ballintemple, Cork   \n",
       "1         2  Blackrock Amenity Walk           Castle Road, Blackrock, Cork   \n",
       "2         3       South Parish Walk  Queens Old Castle, Grand Parade, Cork   \n",
       "3         4     Central Island Walk                     Daunt Square, Cork   \n",
       "4         5            Shandon Walk                          Shandon, Cork   \n",
       "\n",
       "                                             Website  Type MUGA  Longitude  \\\n",
       "0  https://www.corkcity.ie/corkcityco/en/things-t...  Walk  NaN  -8.430833   \n",
       "1  https://www.corkcity.ie/corkcityco/en/things-t...  Walk  NaN  -8.402421   \n",
       "2  https://www.corkcity.ie/corkcityco/en/things-t...  Walk  NaN  -8.475779   \n",
       "3  https://www.corkcity.ie/corkcityco/en/things-t...  Walk  NaN  -8.475857   \n",
       "4  https://www.corkcity.ie/corkcityco/en/things-t...  Walk  NaN  -8.476350   \n",
       "\n",
       "    Latitude  \n",
       "0  51.900248  \n",
       "1  51.900298  \n",
       "2  51.898477  \n",
       "3  51.898563  \n",
       "4  51.902808  "
      ]
     },
     "execution_count": 54,
     "metadata": {},
     "output_type": "execute_result"
    }
   ],
   "source": [
    "parks = pd.read_csv('cork-parks.csv')\n",
    "parks.head()"
   ]
  },
  {
   "cell_type": "code",
   "execution_count": 55,
   "id": "c224039e",
   "metadata": {},
   "outputs": [],
   "source": [
    "parks = parks[['Name', 'Address', 'Longitude', 'Latitude']]"
   ]
  },
  {
   "cell_type": "code",
   "execution_count": 56,
   "id": "1bab9723",
   "metadata": {},
   "outputs": [],
   "source": [
    "vals = np.array(test12['Longitude'])\n",
    "vals1 = np.array(test12['Latitude'])\n",
    "parklon = np.array(parks['Longitude'])\n",
    "parklat = np.array(parks['Latitude'])\n",
    "distance_park = []\n",
    "for i in range(len(vals)):\n",
    "    lat1 = vals1[i]\n",
    "    lon1 = vals[i]\n",
    "    distances_park = []\n",
    "    for j in range(len(parklat)):\n",
    "        lat2 = parklat[j]\n",
    "        lon2 = parklon[j]\n",
    "        dist = haversine(lon1, lat1, lon2, lat2)\n",
    "        distances_park.append(dist)\n",
    "\n",
    "    min_distance = min(distances_park)\n",
    "    distance_park.append(min_distance)"
   ]
  },
  {
   "cell_type": "code",
   "execution_count": 57,
   "id": "ee43cb91",
   "metadata": {},
   "outputs": [
    {
     "data": {
      "text/plain": [
       "6.100679342924176"
      ]
     },
     "execution_count": 57,
     "metadata": {},
     "output_type": "execute_result"
    }
   ],
   "source": [
    "max(distance_park)"
   ]
  },
  {
   "cell_type": "code",
   "execution_count": 58,
   "id": "5b149f1f",
   "metadata": {},
   "outputs": [],
   "source": [
    "test12['DistancePark'] = distance_park"
   ]
  },
  {
   "cell_type": "markdown",
   "id": "d8945c60",
   "metadata": {},
   "source": [
    "### Parking Locations"
   ]
  },
  {
   "cell_type": "code",
   "execution_count": 59,
   "id": "fec3c6bd",
   "metadata": {},
   "outputs": [],
   "source": [
    "parking = pd.read_csv('cork-parking.csv')"
   ]
  },
  {
   "cell_type": "code",
   "execution_count": 60,
   "id": "20fe60c5",
   "metadata": {},
   "outputs": [
    {
     "data": {
      "text/html": [
       "<div>\n",
       "<style scoped>\n",
       "    .dataframe tbody tr th:only-of-type {\n",
       "        vertical-align: middle;\n",
       "    }\n",
       "\n",
       "    .dataframe tbody tr th {\n",
       "        vertical-align: top;\n",
       "    }\n",
       "\n",
       "    .dataframe thead th {\n",
       "        text-align: right;\n",
       "    }\n",
       "</style>\n",
       "<table border=\"1\" class=\"dataframe\">\n",
       "  <thead>\n",
       "    <tr style=\"text-align: right;\">\n",
       "      <th></th>\n",
       "      <th>_id</th>\n",
       "      <th>identifier</th>\n",
       "      <th>name</th>\n",
       "      <th>spaces</th>\n",
       "      <th>free_spaces</th>\n",
       "      <th>opening_times</th>\n",
       "      <th>notes</th>\n",
       "      <th>latitude</th>\n",
       "      <th>longitude</th>\n",
       "      <th>date</th>\n",
       "      <th>price</th>\n",
       "      <th>height_restrictions</th>\n",
       "    </tr>\n",
       "  </thead>\n",
       "  <tbody>\n",
       "    <tr>\n",
       "      <th>0</th>\n",
       "      <td>1</td>\n",
       "      <td>1</td>\n",
       "      <td>Paul Street</td>\n",
       "      <td>749</td>\n",
       "      <td>362</td>\n",
       "      <td>Monday - Saturday 07.30 -00.00, Sunday 11.30 -...</td>\n",
       "      <td>NaN</td>\n",
       "      <td>51.900542</td>\n",
       "      <td>-8.475415</td>\n",
       "      <td>2022-03-31T11:50:03</td>\n",
       "      <td>€2.30 per hour; Flat rate €3.50 from 18.30-24.00</td>\n",
       "      <td>2m</td>\n",
       "    </tr>\n",
       "    <tr>\n",
       "      <th>1</th>\n",
       "      <td>2</td>\n",
       "      <td>2</td>\n",
       "      <td>North Main Street</td>\n",
       "      <td>330</td>\n",
       "      <td>88</td>\n",
       "      <td>Monday - Saturday 07.30 - 21.30, Sunday 11.30 ...</td>\n",
       "      <td>NaN</td>\n",
       "      <td>51.901008</td>\n",
       "      <td>-8.477804</td>\n",
       "      <td>2022-03-31T11:50:03</td>\n",
       "      <td>€1.70 per hour; Flat rate €2.00 from 18.30-21.30</td>\n",
       "      <td>2m</td>\n",
       "    </tr>\n",
       "    <tr>\n",
       "      <th>2</th>\n",
       "      <td>3</td>\n",
       "      <td>9</td>\n",
       "      <td>Black Ash Park &amp; Ride</td>\n",
       "      <td>935</td>\n",
       "      <td>817</td>\n",
       "      <td>Monday - Saturday 06:45 - 20:00</td>\n",
       "      <td>NaN</td>\n",
       "      <td>51.878279</td>\n",
       "      <td>-8.466956</td>\n",
       "      <td>2022-03-31T11:50:00</td>\n",
       "      <td>€5 per day</td>\n",
       "      <td>2.1m</td>\n",
       "    </tr>\n",
       "    <tr>\n",
       "      <th>3</th>\n",
       "      <td>4</td>\n",
       "      <td>103</td>\n",
       "      <td>City Hall - Eglington Street</td>\n",
       "      <td>436</td>\n",
       "      <td>108</td>\n",
       "      <td>24/7</td>\n",
       "      <td>NaN</td>\n",
       "      <td>51.896579</td>\n",
       "      <td>-8.464302</td>\n",
       "      <td>2022-03-31T10:54:02</td>\n",
       "      <td>€2.90 per hour, max. €13 per day</td>\n",
       "      <td>2m</td>\n",
       "    </tr>\n",
       "    <tr>\n",
       "      <th>4</th>\n",
       "      <td>5</td>\n",
       "      <td>102</td>\n",
       "      <td>Carrolls Quay</td>\n",
       "      <td>376</td>\n",
       "      <td>122</td>\n",
       "      <td>24/7</td>\n",
       "      <td>NaN</td>\n",
       "      <td>51.901788</td>\n",
       "      <td>-8.472013</td>\n",
       "      <td>2022-03-31T10:54:02</td>\n",
       "      <td>€2.80 per hour</td>\n",
       "      <td>2m</td>\n",
       "    </tr>\n",
       "    <tr>\n",
       "      <th>5</th>\n",
       "      <td>6</td>\n",
       "      <td>101</td>\n",
       "      <td>Grand Parade</td>\n",
       "      <td>352</td>\n",
       "      <td>245</td>\n",
       "      <td>24/7</td>\n",
       "      <td>NaN</td>\n",
       "      <td>51.896562</td>\n",
       "      <td>-8.474557</td>\n",
       "      <td>2022-02-16T11:34:02</td>\n",
       "      <td>€3 per hour</td>\n",
       "      <td>1.85m</td>\n",
       "    </tr>\n",
       "    <tr>\n",
       "      <th>6</th>\n",
       "      <td>7</td>\n",
       "      <td>108</td>\n",
       "      <td>Merchants Quay</td>\n",
       "      <td>710</td>\n",
       "      <td>432</td>\n",
       "      <td>Monday - Thursday and Saturday 08.00 - 19.00, ...</td>\n",
       "      <td>NaN</td>\n",
       "      <td>51.899577</td>\n",
       "      <td>-8.468648</td>\n",
       "      <td>2022-03-31T11:50:15</td>\n",
       "      <td>€3 per hour</td>\n",
       "      <td>1.98m</td>\n",
       "    </tr>\n",
       "    <tr>\n",
       "      <th>7</th>\n",
       "      <td>8</td>\n",
       "      <td>104</td>\n",
       "      <td>Saint Finbarr's</td>\n",
       "      <td>350</td>\n",
       "      <td>2</td>\n",
       "      <td>24/7</td>\n",
       "      <td>NaN</td>\n",
       "      <td>51.896723</td>\n",
       "      <td>-8.482056</td>\n",
       "      <td>2022-03-04T02:11:01</td>\n",
       "      <td>€2.80 per hour</td>\n",
       "      <td>2m</td>\n",
       "    </tr>\n",
       "  </tbody>\n",
       "</table>\n",
       "</div>"
      ],
      "text/plain": [
       "   _id  identifier                          name  spaces  free_spaces  \\\n",
       "0    1           1                   Paul Street     749          362   \n",
       "1    2           2             North Main Street     330           88   \n",
       "2    3           9         Black Ash Park & Ride     935          817   \n",
       "3    4         103  City Hall - Eglington Street     436          108   \n",
       "4    5         102                 Carrolls Quay     376          122   \n",
       "5    6         101                  Grand Parade     352          245   \n",
       "6    7         108                Merchants Quay     710          432   \n",
       "7    8         104               Saint Finbarr's     350            2   \n",
       "\n",
       "                                       opening_times  notes   latitude  \\\n",
       "0  Monday - Saturday 07.30 -00.00, Sunday 11.30 -...    NaN  51.900542   \n",
       "1  Monday - Saturday 07.30 - 21.30, Sunday 11.30 ...    NaN  51.901008   \n",
       "2                    Monday - Saturday 06:45 - 20:00    NaN  51.878279   \n",
       "3                                               24/7    NaN  51.896579   \n",
       "4                                               24/7    NaN  51.901788   \n",
       "5                                               24/7    NaN  51.896562   \n",
       "6  Monday - Thursday and Saturday 08.00 - 19.00, ...    NaN  51.899577   \n",
       "7                                               24/7    NaN  51.896723   \n",
       "\n",
       "   longitude                 date  \\\n",
       "0  -8.475415  2022-03-31T11:50:03   \n",
       "1  -8.477804  2022-03-31T11:50:03   \n",
       "2  -8.466956  2022-03-31T11:50:00   \n",
       "3  -8.464302  2022-03-31T10:54:02   \n",
       "4  -8.472013  2022-03-31T10:54:02   \n",
       "5  -8.474557  2022-02-16T11:34:02   \n",
       "6  -8.468648  2022-03-31T11:50:15   \n",
       "7  -8.482056  2022-03-04T02:11:01   \n",
       "\n",
       "                                              price height_restrictions  \n",
       "0  €2.30 per hour; Flat rate €3.50 from 18.30-24.00                  2m  \n",
       "1  €1.70 per hour; Flat rate €2.00 from 18.30-21.30                  2m  \n",
       "2                                        €5 per day                2.1m  \n",
       "3                  €2.90 per hour, max. €13 per day                  2m  \n",
       "4                                    €2.80 per hour                  2m  \n",
       "5                                       €3 per hour               1.85m  \n",
       "6                                       €3 per hour               1.98m  \n",
       "7                                    €2.80 per hour                  2m  "
      ]
     },
     "execution_count": 60,
     "metadata": {},
     "output_type": "execute_result"
    }
   ],
   "source": [
    "parking"
   ]
  },
  {
   "cell_type": "code",
   "execution_count": 61,
   "id": "8d5c8031",
   "metadata": {},
   "outputs": [],
   "source": [
    "vals = np.array(test12['Longitude'])\n",
    "vals1 = np.array(test12['Latitude'])\n",
    "carlon = np.array(parking['longitude'])\n",
    "carlat = np.array(parking['latitude'])\n",
    "distance_car = []\n",
    "for i in range(len(vals)):\n",
    "    lat1 = vals1[i]\n",
    "    lon1 = vals[i]\n",
    "    distances_car = []\n",
    "    for j in range(len(carlat)):\n",
    "        lat2 = carlat[j]\n",
    "        lon2 = carlon[j]\n",
    "        dist = haversine(lon1, lat1, lon2, lat2)\n",
    "        distances_car.append(dist)\n",
    "\n",
    "    min_distance = min(distances_car)\n",
    "    distance_car.append(min_distance)"
   ]
  },
  {
   "cell_type": "code",
   "execution_count": 63,
   "id": "afe7ebf2",
   "metadata": {},
   "outputs": [
    {
     "data": {
      "text/plain": [
       "13.16961300656681"
      ]
     },
     "execution_count": 63,
     "metadata": {},
     "output_type": "execute_result"
    }
   ],
   "source": [
    "max(distance_car)"
   ]
  },
  {
   "cell_type": "code",
   "execution_count": 64,
   "id": "1f88e0fb",
   "metadata": {},
   "outputs": [],
   "source": [
    "test12['DistanceCar'] = distance_car"
   ]
  },
  {
   "cell_type": "code",
   "execution_count": 65,
   "id": "199caa3c",
   "metadata": {},
   "outputs": [],
   "source": [
    "#test12.to_csv('corkgeo-features.csv')"
   ]
  },
  {
   "cell_type": "markdown",
   "id": "cd9b1b82",
   "metadata": {},
   "source": [
    "### Plot Points\n",
    "\n",
    "City boundary downloaded from [here](https://data.corkcity.ie/dataset/cork-city-boundary)."
   ]
  },
  {
   "cell_type": "code",
   "execution_count": 66,
   "id": "1332a053",
   "metadata": {},
   "outputs": [
    {
     "data": {
      "text/html": [
       "<div>\n",
       "<style scoped>\n",
       "    .dataframe tbody tr th:only-of-type {\n",
       "        vertical-align: middle;\n",
       "    }\n",
       "\n",
       "    .dataframe tbody tr th {\n",
       "        vertical-align: top;\n",
       "    }\n",
       "\n",
       "    .dataframe thead th {\n",
       "        text-align: right;\n",
       "    }\n",
       "</style>\n",
       "<table border=\"1\" class=\"dataframe\">\n",
       "  <thead>\n",
       "    <tr style=\"text-align: right;\">\n",
       "      <th></th>\n",
       "      <th>Latitude</th>\n",
       "      <th>Longtitude</th>\n",
       "      <th>ENGLISH</th>\n",
       "      <th>CONTAE</th>\n",
       "      <th>COUNTY</th>\n",
       "      <th>AREA</th>\n",
       "      <th>PROVINCE</th>\n",
       "      <th>geometry</th>\n",
       "    </tr>\n",
       "  </thead>\n",
       "  <tbody>\n",
       "    <tr>\n",
       "      <th>0</th>\n",
       "      <td>51.905</td>\n",
       "      <td>-8.384</td>\n",
       "      <td>CORK CITY COUNCIL</td>\n",
       "      <td>Corcaigh</td>\n",
       "      <td>CORK</td>\n",
       "      <td>186597605.50694406</td>\n",
       "      <td>Munster</td>\n",
       "      <td>POLYGON ((-8.38436 51.90533, -8.38425 51.90529...</td>\n",
       "    </tr>\n",
       "  </tbody>\n",
       "</table>\n",
       "</div>"
      ],
      "text/plain": [
       "   Latitude  Longtitude            ENGLISH    CONTAE COUNTY  \\\n",
       "0    51.905      -8.384  CORK CITY COUNCIL  Corcaigh   CORK   \n",
       "\n",
       "                 AREA PROVINCE  \\\n",
       "0  186597605.50694406  Munster   \n",
       "\n",
       "                                            geometry  \n",
       "0  POLYGON ((-8.38436 51.90533, -8.38425 51.90529...  "
      ]
     },
     "execution_count": 66,
     "metadata": {},
     "output_type": "execute_result"
    }
   ],
   "source": [
    "import geopandas as gpd\n",
    "cork_map = gpd.read_file('cork-city-boundary\\Cork City BoundaryWGS84.shp')  #reading the shape file for our maps \n",
    "cork_map.head(1)"
   ]
  },
  {
   "cell_type": "code",
   "execution_count": 69,
   "id": "b9894d37",
   "metadata": {},
   "outputs": [
    {
     "data": {
      "text/plain": [
       "Text(0.5, 1.0, 'Plot of the Locations of Properties used in this dataset')"
      ]
     },
     "execution_count": 69,
     "metadata": {},
     "output_type": "execute_result"
    },
    {
     "data": {
      "image/png": "[encoded data removed]",
      "text/plain": [
       "<Figure size 1080x1080 with 1 Axes>"
      ]
     },
     "metadata": {},
     "output_type": "display_data"
    }
   ],
   "source": [
    "fig, ax = plt.subplots(figsize = (15, 15))\n",
    "cork_map.plot(ax = ax, color = 'silver')\n",
    "plt.scatter(x = test12['Longitude'], y = test12['Latitude'], color = 'dodgerblue')\n",
    "plt.title('Plot of the Locations of Properties used in this dataset')"
   ]
  },
  {
   "cell_type": "markdown",
   "id": "24177e5d",
   "metadata": {},
   "source": [
    "### Missing Values"
   ]
  },
  {
   "cell_type": "code",
   "execution_count": 71,
   "id": "0bba30e7",
   "metadata": {},
   "outputs": [],
   "source": [
    "extra = pd.read_csv('cork-all.csv', index_col = 'Unnamed: 0')"
   ]
  },
  {
   "cell_type": "code",
   "execution_count": 87,
   "id": "87150d85",
   "metadata": {},
   "outputs": [],
   "source": [
    "from geopy.geocoders import Nominatim\n",
    "import time\n",
    "#geolocator = Nominatim(user_agent = \"fyp-c\")\n",
    "#add = np.array(extra['Address'])\n",
    "#add1 = np.array(extra['Neighbourhood'])\n",
    "#lat2 = []\n",
    "#lon2 = []\n",
    "#for i in range(len(add)):\n",
    "#    time.sleep(3)\n",
    "#    location = geolocator.geocode(add[i], timeout = None)\n",
    "#    #print(location.address)\n",
    "#    if location != None:\n",
    "        #print((location.latitude, location.longitude))\n",
    "#        lat2.append(location.latitude)\n",
    "#        lon2.append(location.longitude)\n",
    "#    else:\n",
    "#        location1 = geolocator.geocode(add1[i], timeout = None)\n",
    "#        if location1 != None:\n",
    "#            lat2.append(location1.latitude)\n",
    "#            lon2.append(location1.longitude)\n",
    "#        else:\n",
    "#            lat2.append(\"None\")\n",
    "#            lon2.append(\"None\")"
   ]
  },
  {
   "cell_type": "code",
   "execution_count": 88,
   "id": "2d5fb367",
   "metadata": {},
   "outputs": [
    {
     "data": {
      "text/plain": [
       "1199"
      ]
     },
     "execution_count": 88,
     "metadata": {},
     "output_type": "execute_result"
    }
   ],
   "source": [
    "len(lat2)"
   ]
  },
  {
   "cell_type": "code",
   "execution_count": 89,
   "id": "13734db1",
   "metadata": {},
   "outputs": [
    {
     "name": "stderr",
     "output_type": "stream",
     "text": [
      "C:\\Users\\user\\AppData\\Local\\Temp/ipykernel_6484/2745247643.py:2: SettingWithCopyWarning: \n",
      "A value is trying to be set on a copy of a slice from a DataFrame.\n",
      "Try using .loc[row_indexer,col_indexer] = value instead\n",
      "\n",
      "See the caveats in the documentation: https://pandas.pydata.org/pandas-docs/stable/user_guide/indexing.html#returning-a-view-versus-a-copy\n",
      "  done1['Longitude'] = lon2\n",
      "C:\\Users\\user\\AppData\\Local\\Temp/ipykernel_6484/2745247643.py:3: SettingWithCopyWarning: \n",
      "A value is trying to be set on a copy of a slice from a DataFrame.\n",
      "Try using .loc[row_indexer,col_indexer] = value instead\n",
      "\n",
      "See the caveats in the documentation: https://pandas.pydata.org/pandas-docs/stable/user_guide/indexing.html#returning-a-view-versus-a-copy\n",
      "  done1['Latitude'] = lat2\n"
     ]
    }
   ],
   "source": [
    "#done1 = extra.iloc[1114:]\n",
    "#done1['Longitude'] = lon2\n",
    "#done1['Latitude'] = lat2"
   ]
  },
  {
   "cell_type": "code",
   "execution_count": 90,
   "id": "71512fd8",
   "metadata": {},
   "outputs": [
    {
     "data": {
      "text/html": [
       "<div>\n",
       "<style scoped>\n",
       "    .dataframe tbody tr th:only-of-type {\n",
       "        vertical-align: middle;\n",
       "    }\n",
       "\n",
       "    .dataframe tbody tr th {\n",
       "        vertical-align: top;\n",
       "    }\n",
       "\n",
       "    .dataframe thead th {\n",
       "        text-align: right;\n",
       "    }\n",
       "</style>\n",
       "<table border=\"1\" class=\"dataframe\">\n",
       "  <thead>\n",
       "    <tr style=\"text-align: right;\">\n",
       "      <th></th>\n",
       "      <th>Address</th>\n",
       "      <th>County</th>\n",
       "      <th>Price (€)</th>\n",
       "      <th>Not Full Market Price</th>\n",
       "      <th>VAT Exclusive</th>\n",
       "      <th>Description of Property</th>\n",
       "      <th>Property Size Description</th>\n",
       "      <th>Year</th>\n",
       "      <th>Month</th>\n",
       "      <th>Town</th>\n",
       "      <th>Region</th>\n",
       "      <th>Apartment</th>\n",
       "      <th>Neighbourhood</th>\n",
       "      <th>Province</th>\n",
       "      <th>Estate</th>\n",
       "      <th>PriceInflation</th>\n",
       "      <th>Eircode</th>\n",
       "      <th>Longitude</th>\n",
       "      <th>Latitude</th>\n",
       "    </tr>\n",
       "  </thead>\n",
       "  <tbody>\n",
       "    <tr>\n",
       "      <th>94261</th>\n",
       "      <td>Fatima House, Grange Road, Douglas</td>\n",
       "      <td>Cork</td>\n",
       "      <td>240000.0</td>\n",
       "      <td>1</td>\n",
       "      <td>1</td>\n",
       "      <td>1</td>\n",
       "      <td>1</td>\n",
       "      <td>2014</td>\n",
       "      <td>1</td>\n",
       "      <td>Douglas</td>\n",
       "      <td>South-West (IE)</td>\n",
       "      <td>0</td>\n",
       "      <td>Grange Road Douglas</td>\n",
       "      <td>Munster</td>\n",
       "      <td>Other</td>\n",
       "      <td>454243.9</td>\n",
       "      <td>T12</td>\n",
       "      <td>-8.438834</td>\n",
       "      <td>51.870688</td>\n",
       "    </tr>\n",
       "  </tbody>\n",
       "</table>\n",
       "</div>"
      ],
      "text/plain": [
       "                                  Address County  Price (€)  \\\n",
       "94261  Fatima House, Grange Road, Douglas   Cork   240000.0   \n",
       "\n",
       "       Not Full Market Price  VAT Exclusive  Description of Property  \\\n",
       "94261                      1              1                        1   \n",
       "\n",
       "       Property Size Description  Year  Month     Town           Region  \\\n",
       "94261                          1  2014      1  Douglas  South-West (IE)   \n",
       "\n",
       "       Apartment        Neighbourhood Province Estate  PriceInflation Eircode  \\\n",
       "94261          0  Grange Road Douglas  Munster  Other        454243.9     T12   \n",
       "\n",
       "      Longitude   Latitude  \n",
       "94261 -8.438834  51.870688  "
      ]
     },
     "execution_count": 90,
     "metadata": {},
     "output_type": "execute_result"
    }
   ],
   "source": [
    "done.head(1)"
   ]
  },
  {
   "cell_type": "code",
   "execution_count": 91,
   "id": "f7340c8e",
   "metadata": {},
   "outputs": [
    {
     "data": {
      "text/html": [
       "<div>\n",
       "<style scoped>\n",
       "    .dataframe tbody tr th:only-of-type {\n",
       "        vertical-align: middle;\n",
       "    }\n",
       "\n",
       "    .dataframe tbody tr th {\n",
       "        vertical-align: top;\n",
       "    }\n",
       "\n",
       "    .dataframe thead th {\n",
       "        text-align: right;\n",
       "    }\n",
       "</style>\n",
       "<table border=\"1\" class=\"dataframe\">\n",
       "  <thead>\n",
       "    <tr style=\"text-align: right;\">\n",
       "      <th></th>\n",
       "      <th>Address</th>\n",
       "      <th>County</th>\n",
       "      <th>Price (€)</th>\n",
       "      <th>Not Full Market Price</th>\n",
       "      <th>VAT Exclusive</th>\n",
       "      <th>Description of Property</th>\n",
       "      <th>Property Size Description</th>\n",
       "      <th>Year</th>\n",
       "      <th>Month</th>\n",
       "      <th>Town</th>\n",
       "      <th>Region</th>\n",
       "      <th>Apartment</th>\n",
       "      <th>Neighbourhood</th>\n",
       "      <th>Province</th>\n",
       "      <th>Estate</th>\n",
       "      <th>PriceInflation</th>\n",
       "      <th>Eircode</th>\n",
       "      <th>Longitude</th>\n",
       "      <th>Latitude</th>\n",
       "    </tr>\n",
       "  </thead>\n",
       "  <tbody>\n",
       "    <tr>\n",
       "      <th>114536</th>\n",
       "      <td>3 Church Court, Church Rd, Douglas</td>\n",
       "      <td>Cork</td>\n",
       "      <td>235000.0</td>\n",
       "      <td>1</td>\n",
       "      <td>1</td>\n",
       "      <td>1</td>\n",
       "      <td>1</td>\n",
       "      <td>2016</td>\n",
       "      <td>9</td>\n",
       "      <td>Douglas</td>\n",
       "      <td>South-West (IE)</td>\n",
       "      <td>0</td>\n",
       "      <td>Church Road Douglas</td>\n",
       "      <td>Munster</td>\n",
       "      <td>Estate</td>\n",
       "      <td>333687.1</td>\n",
       "      <td>T12</td>\n",
       "      <td>-8.434447</td>\n",
       "      <td>51.873974</td>\n",
       "    </tr>\n",
       "  </tbody>\n",
       "</table>\n",
       "</div>"
      ],
      "text/plain": [
       "                                   Address County  Price (€)  \\\n",
       "114536  3 Church Court, Church Rd, Douglas   Cork   235000.0   \n",
       "\n",
       "        Not Full Market Price  VAT Exclusive  Description of Property  \\\n",
       "114536                      1              1                        1   \n",
       "\n",
       "        Property Size Description  Year  Month     Town           Region  \\\n",
       "114536                          1  2016      9  Douglas  South-West (IE)   \n",
       "\n",
       "        Apartment        Neighbourhood Province  Estate  PriceInflation  \\\n",
       "114536          0  Church Road Douglas  Munster  Estate        333687.1   \n",
       "\n",
       "       Eircode Longitude   Latitude  \n",
       "114536     T12 -8.434447  51.873974  "
      ]
     },
     "execution_count": 91,
     "metadata": {},
     "output_type": "execute_result"
    }
   ],
   "source": [
    "done1.head(1)"
   ]
  },
  {
   "cell_type": "code",
   "execution_count": 95,
   "id": "774fe552",
   "metadata": {},
   "outputs": [],
   "source": [
    "extrac = done.append(done1)"
   ]
  },
  {
   "cell_type": "code",
   "execution_count": 96,
   "id": "8726b2ae",
   "metadata": {},
   "outputs": [],
   "source": [
    "extrac = extrac.loc[extrac['Longitude'] != 'None']"
   ]
  },
  {
   "cell_type": "code",
   "execution_count": 125,
   "id": "723b7cf6",
   "metadata": {},
   "outputs": [],
   "source": [
    "#extrac.to_csv('outskirts-cork-geo.csv')"
   ]
  },
  {
   "cell_type": "code",
   "execution_count": 99,
   "id": "6f300e6b",
   "metadata": {},
   "outputs": [],
   "source": [
    "## center\n",
    "import geopy.distance\n",
    "center_latitude = 51.8983\n",
    "center_longitude = -8.4726\n",
    "vals_lon = np.array(extrac['Longitude'])\n",
    "vals_lat = np.array(extrac['Latitude'])\n",
    "distancec = []\n",
    "for i in range(len(vals_lon)):\n",
    "    co_ords_2 = (vals_lon[i], vals_lat[i])\n",
    "    dist = haversine(center_longitude, center_latitude, vals_lon[i], vals_lat[i])\n",
    "    distancec.append(dist)"
   ]
  },
  {
   "cell_type": "code",
   "execution_count": 100,
   "id": "a8f75629",
   "metadata": {},
   "outputs": [
    {
     "data": {
      "text/plain": [
       "15457.267467798394"
      ]
     },
     "execution_count": 100,
     "metadata": {},
     "output_type": "execute_result"
    }
   ],
   "source": [
    "max(distancec)"
   ]
  },
  {
   "cell_type": "code",
   "execution_count": 101,
   "id": "13c06886",
   "metadata": {},
   "outputs": [],
   "source": [
    "extrac['DistanceCenter'] = distancec"
   ]
  },
  {
   "cell_type": "code",
   "execution_count": 106,
   "id": "36c42048",
   "metadata": {},
   "outputs": [],
   "source": [
    "extrac = extrac.loc[extrac['DistanceCenter'] < 10]"
   ]
  },
  {
   "cell_type": "code",
   "execution_count": 107,
   "id": "0d2813ff",
   "metadata": {},
   "outputs": [],
   "source": [
    "## schools\n",
    "vals = np.array(extrac['Longitude'])\n",
    "vals1 = np.array(extrac['Latitude'])\n",
    "schoollon = np.array(prim['Long'])\n",
    "schoollat = np.array(prim['Lat'])\n",
    "distance_schools = []\n",
    "for i in range(len(vals)):\n",
    "    lat1 = vals1[i]\n",
    "    lon1 = vals[i]\n",
    "    distances = []\n",
    "    for j in range(len(schoollat)): # B\n",
    "        lat2 = schoollat[j]\n",
    "        lon2 = schoollon[j]\n",
    "        dist = haversine(lon1, lat1, lon2, lat2)\n",
    "        distances.append(dist)\n",
    "\n",
    "    min_distance = min(distances)\n",
    "    distance_schools.append(min_distance)"
   ]
  },
  {
   "cell_type": "code",
   "execution_count": 108,
   "id": "dcac1b2b",
   "metadata": {},
   "outputs": [],
   "source": [
    "extrac['DistanceSchool'] = distance_schools"
   ]
  },
  {
   "cell_type": "code",
   "execution_count": 109,
   "id": "48ed6fcc",
   "metadata": {},
   "outputs": [],
   "source": [
    "## parks\n",
    "vals = np.array(extrac['Longitude'])\n",
    "vals1 = np.array(extrac['Latitude'])\n",
    "parklon = np.array(parks['Longitude'])\n",
    "parklat = np.array(parks['Latitude'])\n",
    "distance_parkc = []\n",
    "for i in range(len(vals)):\n",
    "    lat1 = vals1[i]\n",
    "    lon1 = vals[i]\n",
    "    distances_park = []\n",
    "    for j in range(len(parklat)):\n",
    "        lat2 = parklat[j]\n",
    "        lon2 = parklon[j]\n",
    "        dist = haversine(lon1, lat1, lon2, lat2)\n",
    "        distances_park.append(dist)\n",
    "\n",
    "    min_distance = min(distances_park)\n",
    "    distance_parkc.append(min_distance)"
   ]
  },
  {
   "cell_type": "code",
   "execution_count": 110,
   "id": "3d9e9564",
   "metadata": {},
   "outputs": [],
   "source": [
    "extrac['DistancePark'] = distance_parkc"
   ]
  },
  {
   "cell_type": "code",
   "execution_count": 111,
   "id": "aab11532",
   "metadata": {},
   "outputs": [],
   "source": [
    "## parking\n",
    "vals = np.array(extrac['Longitude'])\n",
    "vals1 = np.array(extrac['Latitude'])\n",
    "carlon = np.array(parking['longitude'])\n",
    "carlat = np.array(parking['latitude'])\n",
    "distance_carc = []\n",
    "for i in range(len(vals)):\n",
    "    lat1 = vals1[i]\n",
    "    lon1 = vals[i]\n",
    "    distances_car = []\n",
    "    for j in range(len(carlat)):\n",
    "        lat2 = carlat[j]\n",
    "        lon2 = carlon[j]\n",
    "        dist = haversine(lon1, lat1, lon2, lat2)\n",
    "        distances_car.append(dist)\n",
    "\n",
    "    min_distance = min(distances_car)\n",
    "    distance_carc.append(min_distance)"
   ]
  },
  {
   "cell_type": "code",
   "execution_count": 112,
   "id": "2717ed86",
   "metadata": {},
   "outputs": [],
   "source": [
    "extrac['DistanceCar'] = distance_carc"
   ]
  },
  {
   "cell_type": "code",
   "execution_count": 113,
   "id": "73e89830",
   "metadata": {},
   "outputs": [],
   "source": [
    "vals = np.array(extrac['Longitude'])\n",
    "vals1 = np.array(extrac['Latitude'])\n",
    "carlon = np.array(parking['longitude'])\n",
    "carlat = np.array(parking['latitude'])\n",
    "distance_car_ex = []\n",
    "for i in range(len(vals)):\n",
    "    lat1 = vals1[i]\n",
    "    lon1 = vals[i]\n",
    "    distances_car = []\n",
    "    for j in range(len(carlat)):\n",
    "        lat2 = carlat[j]\n",
    "        lon2 = carlon[j]\n",
    "        dist = haversine(lon1, lat1, lon2, lat2)\n",
    "        distances_car.append(dist)\n",
    "\n",
    "    min_distance = min(distances_car)\n",
    "    distance_car_ex.append(min_distance)"
   ]
  },
  {
   "cell_type": "code",
   "execution_count": 121,
   "id": "b2a0ae23",
   "metadata": {},
   "outputs": [],
   "source": [
    "extrac.drop(columns=['Estate', 'Not Full Market Price', 'Region', 'Province'], inplace = True)"
   ]
  },
  {
   "cell_type": "code",
   "execution_count": 123,
   "id": "52216d96",
   "metadata": {},
   "outputs": [],
   "source": [
    "finaldf = test12.append(extrac)"
   ]
  },
  {
   "cell_type": "code",
   "execution_count": 124,
   "id": "b43de64e",
   "metadata": {},
   "outputs": [],
   "source": [
    "#finaldf.to_csv('extra-cork-coded.csv')"
   ]
  },
  {
   "cell_type": "code",
   "execution_count": 128,
   "id": "e68d50d0",
   "metadata": {},
   "outputs": [
    {
     "data": {
      "text/plain": [
       "Text(0.5, 1.0, 'Plot of the Locations of Properties used in extended dataset')"
      ]
     },
     "execution_count": 128,
     "metadata": {},
     "output_type": "execute_result"
    },
    {
     "data": {
      "image/png": "[encoded data removed]",
      "text/plain": [
       "<Figure size 1080x1080 with 1 Axes>"
      ]
     },
     "metadata": {},
     "output_type": "display_data"
    }
   ],
   "source": [
    "fig, ax = plt.subplots(figsize = (15, 15))\n",
    "cork_map.plot(ax = ax, color = 'silver')\n",
    "plt.scatter(x = finaldf['Longitude'], y = finaldf['Latitude'], color = 'dodgerblue')\n",
    "plt.title('Plot of the Locations of Properties used in extended dataset')"
   ]
  },
  {
   "cell_type": "code",
   "execution_count": 129,
   "id": "6bde15ad",
   "metadata": {},
   "outputs": [
    {
     "data": {
      "text/plain": [
       "Cork City         4821\n",
       "Douglas            950\n",
       "Bishopstown        307\n",
       "Blackrock Cork     243\n",
       "Togher              82\n",
       "Montenotte          41\n",
       "Ballintemple         9\n",
       "Name: Town, dtype: int64"
      ]
     },
     "execution_count": 129,
     "metadata": {},
     "output_type": "execute_result"
    }
   ],
   "source": [
    "finaldf['Town'].value_counts()"
   ]
  },
  {
   "cell_type": "code",
   "execution_count": 131,
   "id": "abcdeb1b",
   "metadata": {},
   "outputs": [],
   "source": [
    "change = finaldf.loc[finaldf['Town'] == 'Cork City']"
   ]
  },
  {
   "cell_type": "code",
   "execution_count": 135,
   "id": "a7b24229",
   "metadata": {},
   "outputs": [
    {
     "data": {
      "text/html": [
       "<div>\n",
       "<style scoped>\n",
       "    .dataframe tbody tr th:only-of-type {\n",
       "        vertical-align: middle;\n",
       "    }\n",
       "\n",
       "    .dataframe tbody tr th {\n",
       "        vertical-align: top;\n",
       "    }\n",
       "\n",
       "    .dataframe thead th {\n",
       "        text-align: right;\n",
       "    }\n",
       "</style>\n",
       "<table border=\"1\" class=\"dataframe\">\n",
       "  <thead>\n",
       "    <tr style=\"text-align: right;\">\n",
       "      <th></th>\n",
       "      <th>Address</th>\n",
       "      <th>County</th>\n",
       "      <th>Price (€)</th>\n",
       "      <th>VAT Exclusive</th>\n",
       "      <th>Description of Property</th>\n",
       "      <th>Property Size Description</th>\n",
       "      <th>Year</th>\n",
       "      <th>Month</th>\n",
       "      <th>Town</th>\n",
       "      <th>Apartment</th>\n",
       "      <th>Neighbourhood</th>\n",
       "      <th>PriceInflation</th>\n",
       "      <th>Eircode</th>\n",
       "      <th>Latitude</th>\n",
       "      <th>Longitude</th>\n",
       "      <th>DistanceCenter</th>\n",
       "      <th>DistanceSchool</th>\n",
       "      <th>DistancePark</th>\n",
       "      <th>DistanceCar</th>\n",
       "    </tr>\n",
       "  </thead>\n",
       "  <tbody>\n",
       "    <tr>\n",
       "      <th>94123</th>\n",
       "      <td>10 Deerpark Court, Friars Walk, Cork</td>\n",
       "      <td>Cork</td>\n",
       "      <td>280000.0</td>\n",
       "      <td>1</td>\n",
       "      <td>1</td>\n",
       "      <td>2</td>\n",
       "      <td>2014</td>\n",
       "      <td>1</td>\n",
       "      <td>Cork City</td>\n",
       "      <td>0</td>\n",
       "      <td>Friars Walk Cork</td>\n",
       "      <td>529951.22</td>\n",
       "      <td>T12</td>\n",
       "      <td>51.891104</td>\n",
       "      <td>-8.474261</td>\n",
       "      <td>0.808257</td>\n",
       "      <td>0.371367</td>\n",
       "      <td>0.334321</td>\n",
       "      <td>0.607264</td>\n",
       "    </tr>\n",
       "    <tr>\n",
       "      <th>94124</th>\n",
       "      <td>30 Whitepoint Ave Cobh, Cork</td>\n",
       "      <td>Cork</td>\n",
       "      <td>370000.0</td>\n",
       "      <td>1</td>\n",
       "      <td>1</td>\n",
       "      <td>1</td>\n",
       "      <td>2014</td>\n",
       "      <td>1</td>\n",
       "      <td>Cork City</td>\n",
       "      <td>0</td>\n",
       "      <td>Whitepoint Ave Cobh Cork</td>\n",
       "      <td>700292.68</td>\n",
       "      <td>T12</td>\n",
       "      <td>51.844802</td>\n",
       "      <td>-8.312442</td>\n",
       "      <td>12.501636</td>\n",
       "      <td>0.597510</td>\n",
       "      <td>5.440909</td>\n",
       "      <td>11.244529</td>\n",
       "    </tr>\n",
       "    <tr>\n",
       "      <th>94125</th>\n",
       "      <td>43 Richmond Hill, Cork</td>\n",
       "      <td>Cork</td>\n",
       "      <td>130000.0</td>\n",
       "      <td>1</td>\n",
       "      <td>1</td>\n",
       "      <td>1</td>\n",
       "      <td>2014</td>\n",
       "      <td>1</td>\n",
       "      <td>Cork City</td>\n",
       "      <td>0</td>\n",
       "      <td>Richmond Hill Cork</td>\n",
       "      <td>246048.78</td>\n",
       "      <td>T12</td>\n",
       "      <td>51.903869</td>\n",
       "      <td>-8.471192</td>\n",
       "      <td>0.626745</td>\n",
       "      <td>0.323214</td>\n",
       "      <td>0.129914</td>\n",
       "      <td>0.238164</td>\n",
       "    </tr>\n",
       "    <tr>\n",
       "      <th>94126</th>\n",
       "      <td>Vermont, Ballyhooly Rd, Cork</td>\n",
       "      <td>Cork</td>\n",
       "      <td>155000.0</td>\n",
       "      <td>1</td>\n",
       "      <td>1</td>\n",
       "      <td>1</td>\n",
       "      <td>2014</td>\n",
       "      <td>1</td>\n",
       "      <td>Cork City</td>\n",
       "      <td>0</td>\n",
       "      <td>Ballyhooly Road Cork</td>\n",
       "      <td>293365.85</td>\n",
       "      <td>T12</td>\n",
       "      <td>51.91138</td>\n",
       "      <td>-8.450581</td>\n",
       "      <td>2.096941</td>\n",
       "      <td>0.447549</td>\n",
       "      <td>0.669517</td>\n",
       "      <td>1.805214</td>\n",
       "    </tr>\n",
       "    <tr>\n",
       "      <th>94127</th>\n",
       "      <td>22 Fernwood, Wilton, Cork</td>\n",
       "      <td>Cork</td>\n",
       "      <td>210000.0</td>\n",
       "      <td>1</td>\n",
       "      <td>1</td>\n",
       "      <td>1</td>\n",
       "      <td>2014</td>\n",
       "      <td>1</td>\n",
       "      <td>Cork City</td>\n",
       "      <td>0</td>\n",
       "      <td>Wilton Cork</td>\n",
       "      <td>397463.41</td>\n",
       "      <td>T12</td>\n",
       "      <td>51.882655</td>\n",
       "      <td>-8.507208</td>\n",
       "      <td>2.943974</td>\n",
       "      <td>0.503091</td>\n",
       "      <td>0.823622</td>\n",
       "      <td>2.329469</td>\n",
       "    </tr>\n",
       "  </tbody>\n",
       "</table>\n",
       "</div>"
      ],
      "text/plain": [
       "                                    Address County  Price (€)  VAT Exclusive  \\\n",
       "94123  10 Deerpark Court, Friars Walk, Cork   Cork   280000.0              1   \n",
       "94124          30 Whitepoint Ave Cobh, Cork   Cork   370000.0              1   \n",
       "94125                43 Richmond Hill, Cork   Cork   130000.0              1   \n",
       "94126          Vermont, Ballyhooly Rd, Cork   Cork   155000.0              1   \n",
       "94127             22 Fernwood, Wilton, Cork   Cork   210000.0              1   \n",
       "\n",
       "       Description of Property  Property Size Description  Year  Month  \\\n",
       "94123                        1                          2  2014      1   \n",
       "94124                        1                          1  2014      1   \n",
       "94125                        1                          1  2014      1   \n",
       "94126                        1                          1  2014      1   \n",
       "94127                        1                          1  2014      1   \n",
       "\n",
       "            Town  Apartment             Neighbourhood  PriceInflation Eircode  \\\n",
       "94123  Cork City          0          Friars Walk Cork       529951.22     T12   \n",
       "94124  Cork City          0  Whitepoint Ave Cobh Cork       700292.68     T12   \n",
       "94125  Cork City          0        Richmond Hill Cork       246048.78     T12   \n",
       "94126  Cork City          0      Ballyhooly Road Cork       293365.85     T12   \n",
       "94127  Cork City          0               Wilton Cork       397463.41     T12   \n",
       "\n",
       "        Latitude Longitude  DistanceCenter  DistanceSchool  DistancePark  \\\n",
       "94123  51.891104 -8.474261        0.808257        0.371367      0.334321   \n",
       "94124  51.844802 -8.312442       12.501636        0.597510      5.440909   \n",
       "94125  51.903869 -8.471192        0.626745        0.323214      0.129914   \n",
       "94126   51.91138 -8.450581        2.096941        0.447549      0.669517   \n",
       "94127  51.882655 -8.507208        2.943974        0.503091      0.823622   \n",
       "\n",
       "       DistanceCar  \n",
       "94123     0.607264  \n",
       "94124    11.244529  \n",
       "94125     0.238164  \n",
       "94126     1.805214  \n",
       "94127     2.329469  "
      ]
     },
     "execution_count": 135,
     "metadata": {},
     "output_type": "execute_result"
    }
   ],
   "source": [
    "finaldf.head()"
   ]
  },
  {
   "cell_type": "code",
   "execution_count": 174,
   "id": "5b71bdd6",
   "metadata": {},
   "outputs": [],
   "source": [
    "areas = ['Ballinlough', 'Wilton', 'Ballyphehane', 'Rochestown', 'Farranree', 'Hollyhill', 'Blackpool', 'Grange', 'Shandon',\n",
    "        \"Turner's Cross\", 'Turners Cross', 'Greenmount', 'Frankfield', 'Churchfield', 'Grange', 'Mahon', 'Mayfield',\n",
    "        'Knocknaheeny']\n",
    "adds = list(finaldf['Address'])\n",
    "ts = list(finaldf['Town'])\n",
    "fix = []\n",
    "for i in range(len(adds)):\n",
    "    st = adds[i].strip()\n",
    "    spl = st.split(',')\n",
    "    #print(spl)\n",
    "    if spl[-1].strip() in areas:\n",
    "        fix.append(spl[-1].strip())\n",
    "    elif spl[-2].strip() in areas:\n",
    "        fix.append(spl[-2].strip())\n",
    "    else:\n",
    "        fix.append(ts[i])"
   ]
  },
  {
   "cell_type": "code",
   "execution_count": 175,
   "id": "d0cc4af8",
   "metadata": {},
   "outputs": [],
   "source": [
    "#fix"
   ]
  },
  {
   "cell_type": "code",
   "execution_count": 176,
   "id": "8efd4af6",
   "metadata": {},
   "outputs": [],
   "source": [
    "finaldf['Town'] = fix"
   ]
  },
  {
   "cell_type": "code",
   "execution_count": 177,
   "id": "625bd552",
   "metadata": {},
   "outputs": [
    {
     "data": {
      "text/plain": [
       "Cork City         3844\n",
       "Douglas            766\n",
       "Bishopstown        307\n",
       "Blackrock Cork     236\n",
       "Wilton             157\n",
       "Ballyphehane       137\n",
       "Blackpool          136\n",
       "Grange             130\n",
       "Ballinlough        107\n",
       "Frankfield         104\n",
       "Turners Cross      101\n",
       "Farranree           92\n",
       "Togher              82\n",
       "Rochestown          72\n",
       "Montenotte          41\n",
       "Greenmount          39\n",
       "Mahon               32\n",
       "Hollyhill           20\n",
       "Turner's Cross      14\n",
       "Shandon             10\n",
       "Churchfield         10\n",
       "Ballintemple         9\n",
       "Knocknaheeny         7\n",
       "Name: Town, dtype: int64"
      ]
     },
     "execution_count": 177,
     "metadata": {},
     "output_type": "execute_result"
    }
   ],
   "source": [
    "finaldf['Town'].value_counts()"
   ]
  },
  {
   "cell_type": "code",
   "execution_count": 178,
   "id": "6de39984",
   "metadata": {},
   "outputs": [],
   "source": [
    "adds = list(finaldf['Neighbourhood'])\n",
    "fixs = []\n",
    "for i in range(len(adds)):\n",
    "    st = adds[i].strip()\n",
    "    spl = st.split()\n",
    "    if spl[-1].strip() == 'Cork':\n",
    "        txt = adds[i] + \" City\"\n",
    "        fixs.append(txt)\n",
    "    else:\n",
    "        fixs.append(adds[i])"
   ]
  },
  {
   "cell_type": "code",
   "execution_count": 180,
   "id": "f74c115f",
   "metadata": {},
   "outputs": [],
   "source": [
    "finaldf['Neighbourhood'] = fixs"
   ]
  },
  {
   "cell_type": "code",
   "execution_count": 181,
   "id": "5ead402d",
   "metadata": {},
   "outputs": [],
   "source": [
    "#finaldf.to_csv('cork-more-fixed.csv')"
   ]
  },
  {
   "cell_type": "code",
   "execution_count": null,
   "id": "5cd25b75",
   "metadata": {},
   "outputs": [],
   "source": []
  }
 ],
 "metadata": {
  "kernelspec": {
   "display_name": "Python 3 (ipykernel)",
   "language": "python",
   "name": "python3"
  },
  "language_info": {
   "codemirror_mode": {
    "name": "ipython",
    "version": 3
   },
   "file_extension": ".py",
   "mimetype": "text/x-python",
   "name": "python",
   "nbconvert_exporter": "python",
   "pygments_lexer": "ipython3",
   "version": "3.8.12"
  }
 },
 "nbformat": 4,
 "nbformat_minor": 5
}
