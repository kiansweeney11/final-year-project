{
 "cells": [
  {
   "cell_type": "code",
   "execution_count": 1,
   "id": "8e6890a6",
   "metadata": {},
   "outputs": [],
   "source": [
    "import pandas as pd\n",
    "import numpy as np\n",
    "import os\n",
    "import category_encoders as ce\n",
    "import math\n",
    "\n",
    "# visualization\n",
    "import seaborn as sns\n",
    "import matplotlib.pyplot as plt"
   ]
  },
  {
   "cell_type": "markdown",
   "id": "549dc475",
   "metadata": {},
   "source": [
    "## Postcode adding\n",
    "I am now going to add each towns respective eircode routing key. This is the first 3 characters of an eircode. Here is an example:\n",
    "\n",
    "***F52 NN88***\n",
    "\n",
    "The F52 here signalling what area this address is a part of (in this case the general Boyle area)"
   ]
  },
  {
   "cell_type": "markdown",
   "id": "c9d3a643",
   "metadata": {},
   "source": [
    "[Reading](https://autoaddress.com/en-ie/blog/autoaddressblog/2017/06/17/it-is-surprisingly-easy-to-determine-the-eircode-routing-key-for-any-address)\n",
    "\n",
    "Small number of towns have multiple eircodes. We will pick the one with largest percentage as per:\n",
    "\n",
    "- Eircodes [Percentages](https://autoaddress.com/en-ie/blog/autoaddressblog/2017/06/17/it-is-surprisingly-easy-to-determine-the-eircode-routing-key-for-any-address)\n",
    "\n",
    "We will also be using this website [here](https://thepostalcodelookup.com/?address=Ireland%2C%20Galway%2C%20Menlough%2C%20Ballinastoe%2C%20Cloonkeen%20Abbert%2C%20ireland,+ireland) to help us."
   ]
  },
  {
   "cell_type": "code",
   "execution_count": 2,
   "id": "ae6af2f3",
   "metadata": {},
   "outputs": [],
   "source": [
    "irl = pd.read_csv('inflated-prices-1.csv', index_col = 'Unnamed: 0')"
   ]
  },
  {
   "cell_type": "code",
   "execution_count": 3,
   "id": "0a6eafae",
   "metadata": {},
   "outputs": [
    {
     "data": {
      "text/html": [
       "<div>\n",
       "<style scoped>\n",
       "    .dataframe tbody tr th:only-of-type {\n",
       "        vertical-align: middle;\n",
       "    }\n",
       "\n",
       "    .dataframe tbody tr th {\n",
       "        vertical-align: top;\n",
       "    }\n",
       "\n",
       "    .dataframe thead th {\n",
       "        text-align: right;\n",
       "    }\n",
       "</style>\n",
       "<table border=\"1\" class=\"dataframe\">\n",
       "  <thead>\n",
       "    <tr style=\"text-align: right;\">\n",
       "      <th></th>\n",
       "      <th>Address</th>\n",
       "      <th>Postal Code</th>\n",
       "      <th>County</th>\n",
       "      <th>Price (€)</th>\n",
       "      <th>Not Full Market Price</th>\n",
       "      <th>VAT Exclusive</th>\n",
       "      <th>Description of Property</th>\n",
       "      <th>Property Size Description</th>\n",
       "      <th>Year</th>\n",
       "      <th>Month</th>\n",
       "      <th>Town</th>\n",
       "      <th>Region</th>\n",
       "      <th>Apartment</th>\n",
       "      <th>Neighbourhood</th>\n",
       "      <th>Province</th>\n",
       "      <th>Estate</th>\n",
       "      <th>Quarter</th>\n",
       "      <th>RPPI</th>\n",
       "      <th>PriceInflation</th>\n",
       "    </tr>\n",
       "  </thead>\n",
       "  <tbody>\n",
       "    <tr>\n",
       "      <th>0</th>\n",
       "      <td>14 Nuncio Road, Kilkenny, Co Kilkenny</td>\n",
       "      <td>NaN</td>\n",
       "      <td>Kilkenny</td>\n",
       "      <td>154000.0</td>\n",
       "      <td>1</td>\n",
       "      <td>1</td>\n",
       "      <td>1</td>\n",
       "      <td>1</td>\n",
       "      <td>2014</td>\n",
       "      <td>2</td>\n",
       "      <td>Kilkenny City</td>\n",
       "      <td>South East (IE)</td>\n",
       "      <td>0</td>\n",
       "      <td>Nuncio Road Kilkenny</td>\n",
       "      <td>Leinster</td>\n",
       "      <td>Estate</td>\n",
       "      <td>1</td>\n",
       "      <td>82.0</td>\n",
       "      <td>279453.66</td>\n",
       "    </tr>\n",
       "    <tr>\n",
       "      <th>1</th>\n",
       "      <td>25 Lintown Drive, Johnswell Road, Kilkenny</td>\n",
       "      <td>NaN</td>\n",
       "      <td>Kilkenny</td>\n",
       "      <td>70000.0</td>\n",
       "      <td>0</td>\n",
       "      <td>1</td>\n",
       "      <td>1</td>\n",
       "      <td>1</td>\n",
       "      <td>2014</td>\n",
       "      <td>1</td>\n",
       "      <td>Kilkenny City</td>\n",
       "      <td>South East (IE)</td>\n",
       "      <td>0</td>\n",
       "      <td>Johnswell Road Kilkenny</td>\n",
       "      <td>Leinster</td>\n",
       "      <td>Estate</td>\n",
       "      <td>1</td>\n",
       "      <td>82.0</td>\n",
       "      <td>127024.39</td>\n",
       "    </tr>\n",
       "    <tr>\n",
       "      <th>2</th>\n",
       "      <td>Archer's Mount, Castle Road, Kilkenny</td>\n",
       "      <td>NaN</td>\n",
       "      <td>Kilkenny</td>\n",
       "      <td>200000.0</td>\n",
       "      <td>1</td>\n",
       "      <td>1</td>\n",
       "      <td>1</td>\n",
       "      <td>0</td>\n",
       "      <td>2014</td>\n",
       "      <td>1</td>\n",
       "      <td>Kilkenny City</td>\n",
       "      <td>South East (IE)</td>\n",
       "      <td>0</td>\n",
       "      <td>Castle Road Kilkenny</td>\n",
       "      <td>Leinster</td>\n",
       "      <td>Other</td>\n",
       "      <td>1</td>\n",
       "      <td>82.0</td>\n",
       "      <td>362926.83</td>\n",
       "    </tr>\n",
       "    <tr>\n",
       "      <th>3</th>\n",
       "      <td>3 Wesley Court, William St, Kilkenny</td>\n",
       "      <td>NaN</td>\n",
       "      <td>Kilkenny</td>\n",
       "      <td>60000.0</td>\n",
       "      <td>1</td>\n",
       "      <td>1</td>\n",
       "      <td>1</td>\n",
       "      <td>1</td>\n",
       "      <td>2014</td>\n",
       "      <td>1</td>\n",
       "      <td>Kilkenny City</td>\n",
       "      <td>South East (IE)</td>\n",
       "      <td>0</td>\n",
       "      <td>William Street Kilkenny</td>\n",
       "      <td>Leinster</td>\n",
       "      <td>Estate</td>\n",
       "      <td>1</td>\n",
       "      <td>82.0</td>\n",
       "      <td>108878.05</td>\n",
       "    </tr>\n",
       "    <tr>\n",
       "      <th>4</th>\n",
       "      <td>4 The Parks, Weir View Castlecomer Road, Kilkenny</td>\n",
       "      <td>NaN</td>\n",
       "      <td>Kilkenny</td>\n",
       "      <td>100000.0</td>\n",
       "      <td>1</td>\n",
       "      <td>1</td>\n",
       "      <td>1</td>\n",
       "      <td>2</td>\n",
       "      <td>2014</td>\n",
       "      <td>2</td>\n",
       "      <td>Kilkenny City</td>\n",
       "      <td>South East (IE)</td>\n",
       "      <td>0</td>\n",
       "      <td>Weir View Castlecomer Road Kilkenny</td>\n",
       "      <td>Leinster</td>\n",
       "      <td>Estate</td>\n",
       "      <td>1</td>\n",
       "      <td>82.0</td>\n",
       "      <td>181463.41</td>\n",
       "    </tr>\n",
       "  </tbody>\n",
       "</table>\n",
       "</div>"
      ],
      "text/plain": [
       "                                             Address Postal Code    County  \\\n",
       "0              14 Nuncio Road, Kilkenny, Co Kilkenny         NaN  Kilkenny   \n",
       "1         25 Lintown Drive, Johnswell Road, Kilkenny         NaN  Kilkenny   \n",
       "2              Archer's Mount, Castle Road, Kilkenny         NaN  Kilkenny   \n",
       "3               3 Wesley Court, William St, Kilkenny         NaN  Kilkenny   \n",
       "4  4 The Parks, Weir View Castlecomer Road, Kilkenny         NaN  Kilkenny   \n",
       "\n",
       "   Price (€)  Not Full Market Price  VAT Exclusive  Description of Property  \\\n",
       "0   154000.0                      1              1                        1   \n",
       "1    70000.0                      0              1                        1   \n",
       "2   200000.0                      1              1                        1   \n",
       "3    60000.0                      1              1                        1   \n",
       "4   100000.0                      1              1                        1   \n",
       "\n",
       "   Property Size Description  Year  Month           Town           Region  \\\n",
       "0                          1  2014      2  Kilkenny City  South East (IE)   \n",
       "1                          1  2014      1  Kilkenny City  South East (IE)   \n",
       "2                          0  2014      1  Kilkenny City  South East (IE)   \n",
       "3                          1  2014      1  Kilkenny City  South East (IE)   \n",
       "4                          2  2014      2  Kilkenny City  South East (IE)   \n",
       "\n",
       "   Apartment                        Neighbourhood  Province  Estate  Quarter  \\\n",
       "0          0                 Nuncio Road Kilkenny  Leinster  Estate        1   \n",
       "1          0              Johnswell Road Kilkenny  Leinster  Estate        1   \n",
       "2          0                 Castle Road Kilkenny  Leinster   Other        1   \n",
       "3          0              William Street Kilkenny  Leinster  Estate        1   \n",
       "4          0  Weir View Castlecomer Road Kilkenny  Leinster  Estate        1   \n",
       "\n",
       "   RPPI  PriceInflation  \n",
       "0  82.0       279453.66  \n",
       "1  82.0       127024.39  \n",
       "2  82.0       362926.83  \n",
       "3  82.0       108878.05  \n",
       "4  82.0       181463.41  "
      ]
     },
     "execution_count": 3,
     "metadata": {},
     "output_type": "execute_result"
    }
   ],
   "source": [
    "irl.head()"
   ]
  },
  {
   "cell_type": "code",
   "execution_count": 4,
   "id": "d72f6283",
   "metadata": {},
   "outputs": [],
   "source": [
    "ros = irl.loc[irl['County'] == 'Roscommon']"
   ]
  },
  {
   "cell_type": "code",
   "execution_count": 5,
   "id": "1453921a",
   "metadata": {},
   "outputs": [
    {
     "data": {
      "text/plain": [
       "['Roscommon Town',\n",
       " 'Castlerea',\n",
       " 'Boyle',\n",
       " 'Athlone Roscommon',\n",
       " 'Tarmonbarry',\n",
       " 'Elphin',\n",
       " 'Ballaghaderreen Roscommon',\n",
       " 'Ballinlough',\n",
       " 'Ballyforan',\n",
       " 'Ballyleague',\n",
       " 'Ballintober',\n",
       " 'Tulsk',\n",
       " 'Arigna',\n",
       " 'Cloonfad',\n",
       " 'Croghan Roscommon',\n",
       " 'Frenchpark',\n",
       " 'Strokestown',\n",
       " 'Rahara',\n",
       " 'Ballyfarnon',\n",
       " 'Creggs',\n",
       " 'Carrick-On-Shannon Roscommon',\n",
       " 'Lecarrow',\n",
       " 'Knockcroghery',\n",
       " 'Roosky Roscommon',\n",
       " 'Mount Talbot',\n",
       " 'Kilteevan',\n",
       " 'Monksland',\n",
       " 'Fuerty',\n",
       " 'Curraghboy',\n",
       " 'Athleague',\n",
       " 'Kilglass Roscommon',\n",
       " 'Loughglynn',\n",
       " 'Lisacul',\n",
       " 'Knockvicar',\n",
       " 'Fairymount']"
      ]
     },
     "execution_count": 5,
     "metadata": {},
     "output_type": "execute_result"
    }
   ],
   "source": [
    "roscommon_towns = list(ros['Town'].unique())\n",
    "roscommon_towns"
   ]
  },
  {
   "cell_type": "code",
   "execution_count": 6,
   "id": "423d0f71",
   "metadata": {},
   "outputs": [],
   "source": [
    "f52 = ['Boyle', 'Knockvicar', 'Keadue', 'Ballyfarnon', 'Croghan Roscommon']\n",
    "n41 = ['Arigna', 'Roosky Roscommon', 'Carrick-On-Shannon Roscommon', 'Cortober']\n",
    "f45 = ['Tulsk', 'Elphin', 'Frenchpark', 'Castlerea', 'Ballintober', 'Ballinlough', 'Loughglynn', 'Lisacul', 'Bellanagare'\n",
    "      'Ballaghaderreen Roscommon', 'Cloonfad', 'Fairymount']\n",
    "f42 = ['Strokestown', 'Knockcroghery', 'Kilteevan', 'Fuerty', 'Athleague', 'Lecarrow', 'Rahara', 'Rockfield',\n",
    "      'Kilglass Roscommon', 'Ballyleague', 'Roscommon Town', 'Creggs']\n",
    "n39 = ['Tarmonbarry']\n",
    "h53 = ['Ballyforan', 'Taghmaconnell', 'Mount Talbot']\n",
    "n37 = ['Monksland', 'Brideswell', 'Curraghboy', 'Athlone Roscommon']"
   ]
  },
  {
   "cell_type": "code",
   "execution_count": 7,
   "id": "e963eff7",
   "metadata": {},
   "outputs": [
    {
     "data": {
      "text/plain": [
       "(3436, 19)"
      ]
     },
     "execution_count": 7,
     "metadata": {},
     "output_type": "execute_result"
    }
   ],
   "source": [
    "ros.shape"
   ]
  },
  {
   "cell_type": "code",
   "execution_count": 8,
   "id": "72efced2",
   "metadata": {},
   "outputs": [],
   "source": [
    "rost = np.array(ros['Town'])\n",
    "ros_post = []\n",
    "for i in range(len(rost)):\n",
    "    if rost[i] in f52:\n",
    "        ros_post.append('F52')\n",
    "    elif rost[i] in n41:\n",
    "        ros_post.append('N41')\n",
    "    elif rost[i] in f45:\n",
    "        ros_post.append('F45')\n",
    "    elif rost[i] in f42:\n",
    "        ros_post.append('F42')\n",
    "    elif rost[i] in n39:\n",
    "        ros_post.append('N39')\n",
    "    elif rost[i] in h53:\n",
    "        ros_post.append('H53')\n",
    "    else:\n",
    "        ros_post.append('N37')"
   ]
  },
  {
   "cell_type": "code",
   "execution_count": 9,
   "id": "4c09b07a",
   "metadata": {},
   "outputs": [
    {
     "data": {
      "text/plain": [
       "3436"
      ]
     },
     "execution_count": 9,
     "metadata": {},
     "output_type": "execute_result"
    }
   ],
   "source": [
    "len(ros_post)"
   ]
  },
  {
   "cell_type": "code",
   "execution_count": 10,
   "id": "0ffb60e7",
   "metadata": {},
   "outputs": [
    {
     "name": "stderr",
     "output_type": "stream",
     "text": [
      "C:\\Users\\user\\AppData\\Local\\Temp/ipykernel_17884/3176591411.py:1: SettingWithCopyWarning: \n",
      "A value is trying to be set on a copy of a slice from a DataFrame.\n",
      "Try using .loc[row_indexer,col_indexer] = value instead\n",
      "\n",
      "See the caveats in the documentation: https://pandas.pydata.org/pandas-docs/stable/user_guide/indexing.html#returning-a-view-versus-a-copy\n",
      "  ros['Eircode'] = ros_post\n"
     ]
    }
   ],
   "source": [
    "ros['Eircode'] = ros_post"
   ]
  },
  {
   "cell_type": "code",
   "execution_count": 11,
   "id": "1067ef34",
   "metadata": {},
   "outputs": [
    {
     "data": {
      "text/html": [
       "<div>\n",
       "<style scoped>\n",
       "    .dataframe tbody tr th:only-of-type {\n",
       "        vertical-align: middle;\n",
       "    }\n",
       "\n",
       "    .dataframe tbody tr th {\n",
       "        vertical-align: top;\n",
       "    }\n",
       "\n",
       "    .dataframe thead th {\n",
       "        text-align: right;\n",
       "    }\n",
       "</style>\n",
       "<table border=\"1\" class=\"dataframe\">\n",
       "  <thead>\n",
       "    <tr style=\"text-align: right;\">\n",
       "      <th></th>\n",
       "      <th>Address</th>\n",
       "      <th>Postal Code</th>\n",
       "      <th>County</th>\n",
       "      <th>Price (€)</th>\n",
       "      <th>Not Full Market Price</th>\n",
       "      <th>VAT Exclusive</th>\n",
       "      <th>Description of Property</th>\n",
       "      <th>Property Size Description</th>\n",
       "      <th>Year</th>\n",
       "      <th>Month</th>\n",
       "      <th>Town</th>\n",
       "      <th>Region</th>\n",
       "      <th>Apartment</th>\n",
       "      <th>Neighbourhood</th>\n",
       "      <th>Province</th>\n",
       "      <th>Estate</th>\n",
       "      <th>Quarter</th>\n",
       "      <th>RPPI</th>\n",
       "      <th>PriceInflation</th>\n",
       "      <th>Eircode</th>\n",
       "    </tr>\n",
       "  </thead>\n",
       "  <tbody>\n",
       "    <tr>\n",
       "      <th>193</th>\n",
       "      <td>Ballinturley, Four Mile House, Roscommon</td>\n",
       "      <td>NaN</td>\n",
       "      <td>Roscommon</td>\n",
       "      <td>46560.0</td>\n",
       "      <td>0</td>\n",
       "      <td>1</td>\n",
       "      <td>1</td>\n",
       "      <td>1</td>\n",
       "      <td>2014</td>\n",
       "      <td>1</td>\n",
       "      <td>Roscommon Town</td>\n",
       "      <td>West</td>\n",
       "      <td>0</td>\n",
       "      <td>Four Mile House Roscommon</td>\n",
       "      <td>Connacht</td>\n",
       "      <td>Other</td>\n",
       "      <td>1</td>\n",
       "      <td>82.0</td>\n",
       "      <td>84489.37</td>\n",
       "      <td>F42</td>\n",
       "    </tr>\n",
       "    <tr>\n",
       "      <th>194</th>\n",
       "      <td>2 Hyde Court, Golf Links Rd, Roscommon</td>\n",
       "      <td>NaN</td>\n",
       "      <td>Roscommon</td>\n",
       "      <td>157000.0</td>\n",
       "      <td>1</td>\n",
       "      <td>1</td>\n",
       "      <td>1</td>\n",
       "      <td>1</td>\n",
       "      <td>2014</td>\n",
       "      <td>1</td>\n",
       "      <td>Roscommon Town</td>\n",
       "      <td>West</td>\n",
       "      <td>0</td>\n",
       "      <td>Golf Links Road Roscommon</td>\n",
       "      <td>Connacht</td>\n",
       "      <td>Estate</td>\n",
       "      <td>1</td>\n",
       "      <td>82.0</td>\n",
       "      <td>284897.56</td>\n",
       "      <td>F42</td>\n",
       "    </tr>\n",
       "    <tr>\n",
       "      <th>195</th>\n",
       "      <td>32 Convent Court, Convent Rd, Roscommon</td>\n",
       "      <td>NaN</td>\n",
       "      <td>Roscommon</td>\n",
       "      <td>56000.0</td>\n",
       "      <td>1</td>\n",
       "      <td>1</td>\n",
       "      <td>1</td>\n",
       "      <td>0</td>\n",
       "      <td>2014</td>\n",
       "      <td>1</td>\n",
       "      <td>Roscommon Town</td>\n",
       "      <td>West</td>\n",
       "      <td>0</td>\n",
       "      <td>Convent Road Roscommon</td>\n",
       "      <td>Connacht</td>\n",
       "      <td>Estate</td>\n",
       "      <td>1</td>\n",
       "      <td>82.0</td>\n",
       "      <td>101619.51</td>\n",
       "      <td>F42</td>\n",
       "    </tr>\n",
       "    <tr>\n",
       "      <th>196</th>\n",
       "      <td>35 Abbeyville, Galway Rd, Roscommon</td>\n",
       "      <td>NaN</td>\n",
       "      <td>Roscommon</td>\n",
       "      <td>125000.0</td>\n",
       "      <td>1</td>\n",
       "      <td>1</td>\n",
       "      <td>1</td>\n",
       "      <td>0</td>\n",
       "      <td>2014</td>\n",
       "      <td>1</td>\n",
       "      <td>Roscommon Town</td>\n",
       "      <td>West</td>\n",
       "      <td>0</td>\n",
       "      <td>Galway Road Roscommon</td>\n",
       "      <td>Connacht</td>\n",
       "      <td>Estate</td>\n",
       "      <td>1</td>\n",
       "      <td>82.0</td>\n",
       "      <td>226829.27</td>\n",
       "      <td>F42</td>\n",
       "    </tr>\n",
       "    <tr>\n",
       "      <th>197</th>\n",
       "      <td>3 The Orchard, The Walk, Roscommon</td>\n",
       "      <td>NaN</td>\n",
       "      <td>Roscommon</td>\n",
       "      <td>106000.0</td>\n",
       "      <td>1</td>\n",
       "      <td>1</td>\n",
       "      <td>1</td>\n",
       "      <td>1</td>\n",
       "      <td>2014</td>\n",
       "      <td>1</td>\n",
       "      <td>Roscommon Town</td>\n",
       "      <td>West</td>\n",
       "      <td>0</td>\n",
       "      <td>The Walk Roscommon</td>\n",
       "      <td>Connacht</td>\n",
       "      <td>Estate</td>\n",
       "      <td>1</td>\n",
       "      <td>82.0</td>\n",
       "      <td>192351.22</td>\n",
       "      <td>F42</td>\n",
       "    </tr>\n",
       "  </tbody>\n",
       "</table>\n",
       "</div>"
      ],
      "text/plain": [
       "                                      Address Postal Code     County  \\\n",
       "193  Ballinturley, Four Mile House, Roscommon         NaN  Roscommon   \n",
       "194    2 Hyde Court, Golf Links Rd, Roscommon         NaN  Roscommon   \n",
       "195   32 Convent Court, Convent Rd, Roscommon         NaN  Roscommon   \n",
       "196       35 Abbeyville, Galway Rd, Roscommon         NaN  Roscommon   \n",
       "197        3 The Orchard, The Walk, Roscommon         NaN  Roscommon   \n",
       "\n",
       "     Price (€)  Not Full Market Price  VAT Exclusive  Description of Property  \\\n",
       "193    46560.0                      0              1                        1   \n",
       "194   157000.0                      1              1                        1   \n",
       "195    56000.0                      1              1                        1   \n",
       "196   125000.0                      1              1                        1   \n",
       "197   106000.0                      1              1                        1   \n",
       "\n",
       "     Property Size Description  Year  Month            Town Region  Apartment  \\\n",
       "193                          1  2014      1  Roscommon Town   West          0   \n",
       "194                          1  2014      1  Roscommon Town   West          0   \n",
       "195                          0  2014      1  Roscommon Town   West          0   \n",
       "196                          0  2014      1  Roscommon Town   West          0   \n",
       "197                          1  2014      1  Roscommon Town   West          0   \n",
       "\n",
       "                 Neighbourhood  Province  Estate  Quarter  RPPI  \\\n",
       "193  Four Mile House Roscommon  Connacht   Other        1  82.0   \n",
       "194  Golf Links Road Roscommon  Connacht  Estate        1  82.0   \n",
       "195     Convent Road Roscommon  Connacht  Estate        1  82.0   \n",
       "196      Galway Road Roscommon  Connacht  Estate        1  82.0   \n",
       "197         The Walk Roscommon  Connacht  Estate        1  82.0   \n",
       "\n",
       "     PriceInflation Eircode  \n",
       "193        84489.37     F42  \n",
       "194       284897.56     F42  \n",
       "195       101619.51     F42  \n",
       "196       226829.27     F42  \n",
       "197       192351.22     F42  "
      ]
     },
     "execution_count": 11,
     "metadata": {},
     "output_type": "execute_result"
    }
   ],
   "source": [
    "ros.head()"
   ]
  },
  {
   "cell_type": "code",
   "execution_count": 12,
   "id": "23983071",
   "metadata": {},
   "outputs": [
    {
     "data": {
      "text/plain": [
       "False"
      ]
     },
     "execution_count": 12,
     "metadata": {},
     "output_type": "execute_result"
    }
   ],
   "source": [
    "ros['Eircode'].isna().any()"
   ]
  },
  {
   "cell_type": "markdown",
   "id": "9e25cd9f",
   "metadata": {},
   "source": [
    "### Leitrim"
   ]
  },
  {
   "cell_type": "code",
   "execution_count": 13,
   "id": "30640e8b",
   "metadata": {},
   "outputs": [],
   "source": [
    "lei = irl.loc[irl['County'] == 'Leitrim']"
   ]
  },
  {
   "cell_type": "code",
   "execution_count": 14,
   "id": "4535ad2b",
   "metadata": {},
   "outputs": [
    {
     "data": {
      "text/plain": [
       "['Manorhamilton',\n",
       " 'Dromahair',\n",
       " 'Drumshanbo',\n",
       " 'Ballinamore',\n",
       " 'Tullaghan',\n",
       " 'Carrick-On-Shannon Leitrim',\n",
       " 'Carrigallen',\n",
       " 'Mohill',\n",
       " 'Kinlough',\n",
       " 'Fenagh',\n",
       " 'Leitrim Village',\n",
       " 'Kiltyclogher',\n",
       " 'Keshcarrigan',\n",
       " 'Cloone',\n",
       " 'Newtowngore',\n",
       " 'Dromod',\n",
       " 'Drumsna',\n",
       " 'Dowra Leitrim',\n",
       " 'Drumkeeran',\n",
       " 'Bornacoola',\n",
       " 'Rossinver',\n",
       " 'Drumcong',\n",
       " 'Glenfarne',\n",
       " 'Fivemilebourne',\n",
       " 'Ballinaglera',\n",
       " 'Jamestown Leitrim',\n",
       " 'Aghacashel',\n",
       " 'Roosky Leitrim']"
      ]
     },
     "execution_count": 14,
     "metadata": {},
     "output_type": "execute_result"
    }
   ],
   "source": [
    "leitrim_towns = list(lei['Town'].unique())\n",
    "leitrim_towns"
   ]
  },
  {
   "cell_type": "code",
   "execution_count": 15,
   "id": "f76ab5c2",
   "metadata": {},
   "outputs": [],
   "source": [
    "n41 = ['Carrick-On-Shannon Leitrim', 'Aghamore', 'Ballinaglera', 'Ballinamore', 'Bornacoola', 'Cloone', 'Dromod', 'Drumcong',\n",
    "      'Drumkeeran', 'Drumshanbo', 'Drumsna', 'Dowra Leitrim', 'Fenagh', 'Keshcarrigan', 'Leitrim Village', 'Mohill',\n",
    "       'Newtowngore', 'Rossinver', 'Tullaghan', 'Aghacashel', 'Roosky Leitrim', 'Jamestown Leitrim']\n",
    "#h12 = ['Carrigallen']\n",
    "f91 = ['Dromahair', 'Fivemilebourne', 'Glenfarne', 'Kiltyclogher', 'Kinlough', 'Manorhamilton']"
   ]
  },
  {
   "cell_type": "code",
   "execution_count": 16,
   "id": "c34fbc27",
   "metadata": {},
   "outputs": [],
   "source": [
    "leit = np.array(lei['Town'])\n",
    "lei_post = []\n",
    "for i in range(len(leit)):\n",
    "    if leit[i] in n41:\n",
    "        lei_post.append('N41')\n",
    "    elif leit[i] in f91:\n",
    "        lei_post.append('F91')\n",
    "    else:\n",
    "        lei_post.append('H12')"
   ]
  },
  {
   "cell_type": "code",
   "execution_count": 17,
   "id": "c5ef99c1",
   "metadata": {},
   "outputs": [
    {
     "data": {
      "text/plain": [
       "1999"
      ]
     },
     "execution_count": 17,
     "metadata": {},
     "output_type": "execute_result"
    }
   ],
   "source": [
    "len(lei_post)"
   ]
  },
  {
   "cell_type": "code",
   "execution_count": 18,
   "id": "80c2c896",
   "metadata": {},
   "outputs": [
    {
     "data": {
      "text/plain": [
       "(1999, 19)"
      ]
     },
     "execution_count": 18,
     "metadata": {},
     "output_type": "execute_result"
    }
   ],
   "source": [
    "lei.shape"
   ]
  },
  {
   "cell_type": "code",
   "execution_count": 19,
   "id": "a3e61be0",
   "metadata": {},
   "outputs": [
    {
     "name": "stderr",
     "output_type": "stream",
     "text": [
      "C:\\Users\\user\\AppData\\Local\\Temp/ipykernel_17884/3824855931.py:1: SettingWithCopyWarning: \n",
      "A value is trying to be set on a copy of a slice from a DataFrame.\n",
      "Try using .loc[row_indexer,col_indexer] = value instead\n",
      "\n",
      "See the caveats in the documentation: https://pandas.pydata.org/pandas-docs/stable/user_guide/indexing.html#returning-a-view-versus-a-copy\n",
      "  lei['Eircode'] = lei_post\n"
     ]
    }
   ],
   "source": [
    "lei['Eircode'] = lei_post"
   ]
  },
  {
   "cell_type": "code",
   "execution_count": 20,
   "id": "3e9eb6d2",
   "metadata": {},
   "outputs": [
    {
     "data": {
      "text/plain": [
       "False"
      ]
     },
     "execution_count": 20,
     "metadata": {},
     "output_type": "execute_result"
    }
   ],
   "source": [
    "lei['Eircode'].isna().any()"
   ]
  },
  {
   "cell_type": "markdown",
   "id": "a3e2fc2d",
   "metadata": {},
   "source": [
    "### Sligo"
   ]
  },
  {
   "cell_type": "code",
   "execution_count": 21,
   "id": "6c4a393f",
   "metadata": {},
   "outputs": [],
   "source": [
    "sli = irl.loc[irl['County'] == 'Sligo']"
   ]
  },
  {
   "cell_type": "code",
   "execution_count": 22,
   "id": "23075b86",
   "metadata": {},
   "outputs": [
    {
     "data": {
      "text/plain": [
       "(3798, 19)"
      ]
     },
     "execution_count": 22,
     "metadata": {},
     "output_type": "execute_result"
    }
   ],
   "source": [
    "sli.shape"
   ]
  },
  {
   "cell_type": "code",
   "execution_count": 23,
   "id": "103e5f07",
   "metadata": {},
   "outputs": [],
   "source": [
    "sligo_towns = list(sli['Town'].unique())"
   ]
  },
  {
   "cell_type": "code",
   "execution_count": 24,
   "id": "6431faf6",
   "metadata": {},
   "outputs": [
    {
     "data": {
      "text/plain": [
       "['Sligo Town',\n",
       " 'Ballymote',\n",
       " 'Coolaney',\n",
       " 'Strandhill',\n",
       " 'Mullaghmore',\n",
       " 'Enniscrone',\n",
       " 'Rosses Point',\n",
       " 'Grange Sligo',\n",
       " 'Tubbercurry',\n",
       " 'Ballisodare',\n",
       " 'Ballintogher',\n",
       " 'Riverstown Sligo',\n",
       " 'Collooney',\n",
       " 'Carney',\n",
       " 'Monasteraden',\n",
       " 'Tourlestrane',\n",
       " 'Geevagh',\n",
       " 'Ballinode Sligo',\n",
       " 'Dromore West',\n",
       " 'Cliffoney',\n",
       " 'Carraroe Sligo',\n",
       " 'Ballincar',\n",
       " 'Aclare',\n",
       " 'Gurteen',\n",
       " 'Beltra',\n",
       " 'Castlebaldwin',\n",
       " 'Skreen',\n",
       " 'Sooey',\n",
       " 'Ballygawley',\n",
       " 'Knocknahur',\n",
       " 'Ballinafad',\n",
       " 'Kilglass Sligo',\n",
       " 'Bellaghy',\n",
       " 'Cloonacool']"
      ]
     },
     "execution_count": 24,
     "metadata": {},
     "output_type": "execute_result"
    }
   ],
   "source": [
    "sligo_towns"
   ]
  },
  {
   "cell_type": "code",
   "execution_count": 25,
   "id": "4d2d999e",
   "metadata": {},
   "outputs": [],
   "source": [
    "f91 = ['Sligo Town', 'Strandhill', 'Grange Sligo', 'Carney', 'Tubbercurry', 'Ballintogher', 'Cliffoney', 'Colloney',\n",
    "      'Rosses Point', 'Mullaghmore', 'Ballisodare', 'Carraroe Sligo', 'Ballinode Sligo', 'Ballincar', 'Aclare', 'Beltra',\n",
    "      'Ballygawley', 'Knocknahur', 'Cloonacool', 'Skreen', 'Tourlestrane']\n",
    "f26 = ['Enniscrone', 'Dromore West', 'Kilglass Sligo']\n",
    "f56 = ['Coolaney', 'Ballymote', 'Gurteen']\n",
    "f45 = ['Monasteraden']\n",
    "f52 = ['Riverstown Sligo', 'Castlebaldwin', 'Geevagh', 'Sooey', 'Ballinafad']\n",
    "f12 = ['Bellaghy']"
   ]
  },
  {
   "cell_type": "code",
   "execution_count": 26,
   "id": "90b486cc",
   "metadata": {},
   "outputs": [],
   "source": [
    "slig = np.array(sli['Town'])\n",
    "sli_post = []\n",
    "for i in range(len(slig)):\n",
    "    if slig[i] in f52:\n",
    "        sli_post.append('F52')\n",
    "    elif slig[i] in f91:\n",
    "        sli_post.append('F91')\n",
    "    elif slig[i] in f26:\n",
    "        sli_post.append('F26')\n",
    "    elif slig[i] in f56:\n",
    "        sli_post.append('F56')\n",
    "    elif slig[i] in f45:\n",
    "        sli_post.append('F45')\n",
    "    else:\n",
    "        sli_post.append('F12')"
   ]
  },
  {
   "cell_type": "code",
   "execution_count": 27,
   "id": "d3a8b0de",
   "metadata": {},
   "outputs": [
    {
     "data": {
      "text/plain": [
       "3798"
      ]
     },
     "execution_count": 27,
     "metadata": {},
     "output_type": "execute_result"
    }
   ],
   "source": [
    "len(sli_post)"
   ]
  },
  {
   "cell_type": "code",
   "execution_count": 28,
   "id": "28906814",
   "metadata": {},
   "outputs": [
    {
     "name": "stderr",
     "output_type": "stream",
     "text": [
      "C:\\Users\\user\\AppData\\Local\\Temp/ipykernel_17884/2294443118.py:1: SettingWithCopyWarning: \n",
      "A value is trying to be set on a copy of a slice from a DataFrame.\n",
      "Try using .loc[row_indexer,col_indexer] = value instead\n",
      "\n",
      "See the caveats in the documentation: https://pandas.pydata.org/pandas-docs/stable/user_guide/indexing.html#returning-a-view-versus-a-copy\n",
      "  sli['Eircode'] = sli_post\n"
     ]
    }
   ],
   "source": [
    "sli['Eircode'] = sli_post"
   ]
  },
  {
   "cell_type": "markdown",
   "id": "ce2fbdc9",
   "metadata": {},
   "source": [
    "### Mayo"
   ]
  },
  {
   "cell_type": "code",
   "execution_count": 29,
   "id": "e0466d8c",
   "metadata": {},
   "outputs": [],
   "source": [
    "may = irl.loc[irl['County'] == 'Mayo']"
   ]
  },
  {
   "cell_type": "code",
   "execution_count": 30,
   "id": "ae554665",
   "metadata": {},
   "outputs": [
    {
     "data": {
      "text/plain": [
       "(7513, 19)"
      ]
     },
     "execution_count": 30,
     "metadata": {},
     "output_type": "execute_result"
    }
   ],
   "source": [
    "may.shape"
   ]
  },
  {
   "cell_type": "code",
   "execution_count": 31,
   "id": "e7f622e4",
   "metadata": {},
   "outputs": [
    {
     "data": {
      "text/plain": [
       "['Castlebar',\n",
       " 'Knock Mayo',\n",
       " 'Ballina Mayo',\n",
       " 'Westport',\n",
       " 'Claremorris',\n",
       " 'Belmullet',\n",
       " 'Ballyhaunis',\n",
       " 'Ballycastle',\n",
       " 'Turlough',\n",
       " 'Foxford',\n",
       " 'Ballindine',\n",
       " 'Swinford',\n",
       " 'Ballinrobe',\n",
       " 'Newport Mayo',\n",
       " 'Kiltimagh',\n",
       " 'Kilkelly',\n",
       " 'Balla',\n",
       " 'Charlestown',\n",
       " 'Louisburgh',\n",
       " 'Crossmolina',\n",
       " 'Mayo',\n",
       " 'Achill Sound',\n",
       " 'Kilmaine',\n",
       " 'Kilmeena',\n",
       " 'Killala',\n",
       " 'Mulranny',\n",
       " 'Kilmovee',\n",
       " 'Hollymount',\n",
       " 'Shrule',\n",
       " 'Ballaghaderreen Mayo',\n",
       " 'Bohola',\n",
       " 'Irishtown Mayo',\n",
       " 'Cong',\n",
       " 'Lahardane',\n",
       " 'Finny',\n",
       " 'Castlehill',\n",
       " 'Bonniconlon',\n",
       " 'Knockmore',\n",
       " 'Cross Mayo',\n",
       " 'Bangor Erris']"
      ]
     },
     "execution_count": 31,
     "metadata": {},
     "output_type": "execute_result"
    }
   ],
   "source": [
    "mayo_towns = list(may['Town'].unique())\n",
    "mayo_towns"
   ]
  },
  {
   "cell_type": "code",
   "execution_count": 32,
   "id": "b7381f5a",
   "metadata": {},
   "outputs": [],
   "source": [
    "f12 = ['Knock Mayo', 'Claremorris', 'Kiltimagh', 'Swinford', 'Charlestown', 'Ballindine', 'Mayo', 'Hollymount', 'Cross Mayo',\n",
    "      'Bohola']\n",
    "f26 = ['Ballina Mayo', 'Foxford', 'Killala', 'Belmullet', 'Crossmolina', 'Lahardane', 'Ballycastle', 'Bangor Erris',\n",
    "      'Castlehill', 'Irishtown Mayo', 'Bonniconlon', 'Knockmore']\n",
    "f28 = ['Westport', 'Newport Mayo', 'Louisburgh', 'Mulranny', 'Kilmeena', 'Achill Sound']\n",
    "f23 = ['Castlebar', 'Balla', 'Turlough']\n",
    "f35 = ['Ballyhaunis', 'Kilkelly']\n",
    "f31 = ['Ballinrobe', 'Cong', 'Kilmaine', 'Finny']\n",
    "f45 = ['Kilmovee', 'Ballaghaderreen Mayo']\n",
    "h91 = ['Shrule']"
   ]
  },
  {
   "cell_type": "code",
   "execution_count": 33,
   "id": "c1522b2c",
   "metadata": {},
   "outputs": [],
   "source": [
    "mayo_t = np.array(may['Town'])\n",
    "mayo_post = []\n",
    "for i in range(len(mayo_t)):\n",
    "    if mayo_t[i] in f12:\n",
    "        mayo_post.append('F12')\n",
    "    elif mayo_t[i] in f26:\n",
    "        mayo_post.append('F26')\n",
    "    elif mayo_t[i] in f28:\n",
    "        mayo_post.append('F28')\n",
    "    elif mayo_t[i] in f23:\n",
    "        mayo_post.append('F23')\n",
    "    elif mayo_t[i] in f35:\n",
    "        mayo_post.append('F35')\n",
    "    elif mayo_t[i] in f31:\n",
    "        mayo_post.append('F31')\n",
    "    elif mayo_t[i] in f45:\n",
    "        mayo_post.append('F45')\n",
    "    else:\n",
    "        mayo_post.append('H91')"
   ]
  },
  {
   "cell_type": "code",
   "execution_count": 34,
   "id": "8ffcb03e",
   "metadata": {},
   "outputs": [
    {
     "name": "stderr",
     "output_type": "stream",
     "text": [
      "C:\\Users\\user\\AppData\\Local\\Temp/ipykernel_17884/749411524.py:1: SettingWithCopyWarning: \n",
      "A value is trying to be set on a copy of a slice from a DataFrame.\n",
      "Try using .loc[row_indexer,col_indexer] = value instead\n",
      "\n",
      "See the caveats in the documentation: https://pandas.pydata.org/pandas-docs/stable/user_guide/indexing.html#returning-a-view-versus-a-copy\n",
      "  may['Eircode'] = mayo_post\n"
     ]
    }
   ],
   "source": [
    "may['Eircode'] = mayo_post"
   ]
  },
  {
   "cell_type": "markdown",
   "id": "8d40e0dd",
   "metadata": {},
   "source": [
    "## Galway"
   ]
  },
  {
   "cell_type": "code",
   "execution_count": 35,
   "id": "dec96b37",
   "metadata": {},
   "outputs": [
    {
     "data": {
      "text/plain": [
       "(9740, 19)"
      ]
     },
     "execution_count": 35,
     "metadata": {},
     "output_type": "execute_result"
    }
   ],
   "source": [
    "gway = irl.loc[irl['County'] == 'Galway']\n",
    "gway.shape"
   ]
  },
  {
   "cell_type": "code",
   "execution_count": 36,
   "id": "1e627206",
   "metadata": {},
   "outputs": [
    {
     "data": {
      "text/plain": [
       "['Headford',\n",
       " 'Moycullen',\n",
       " 'Athenry',\n",
       " 'Barna',\n",
       " 'Gort',\n",
       " 'Tuam',\n",
       " 'Loughrea',\n",
       " 'Kilcolgan',\n",
       " 'Oranmore',\n",
       " 'Ballinasloe',\n",
       " 'Clifden',\n",
       " 'Inverin',\n",
       " 'Claregalway',\n",
       " 'Turloughmore',\n",
       " 'Clarinbridge',\n",
       " 'Ballygar',\n",
       " 'Knocknacarra',\n",
       " 'Portumna',\n",
       " 'Carraroe Galway',\n",
       " 'Letterfrack',\n",
       " 'Galway City',\n",
       " 'Craughwell',\n",
       " 'Dunmore',\n",
       " 'Oughterard',\n",
       " 'Kinvara',\n",
       " 'Corrandulla',\n",
       " 'Ardrahan',\n",
       " 'Cleggan',\n",
       " 'Ballyconneely',\n",
       " 'Corofin Galway',\n",
       " 'Williamstown',\n",
       " 'Roundstone',\n",
       " 'Furbo',\n",
       " 'Monivea',\n",
       " 'Mountbellew',\n",
       " 'Woodford',\n",
       " 'Glenamaddy',\n",
       " 'Spiddal',\n",
       " 'Clonbur',\n",
       " 'Eyrecourt',\n",
       " 'New Inn Galway',\n",
       " 'Castlegar',\n",
       " 'Ahascragh',\n",
       " 'Milltown Galway',\n",
       " 'Lettermore',\n",
       " 'Belclare',\n",
       " 'Ballymoe',\n",
       " 'Peterswell',\n",
       " 'Carna',\n",
       " 'Menlough',\n",
       " 'Ballinderreen',\n",
       " 'Carnmore',\n",
       " 'Camus',\n",
       " 'Killimor',\n",
       " 'Recess']"
      ]
     },
     "execution_count": 36,
     "metadata": {},
     "output_type": "execute_result"
    }
   ],
   "source": [
    "galway_towns = list(gway['Town'].unique())\n",
    "galway_towns"
   ]
  },
  {
   "cell_type": "code",
   "execution_count": 37,
   "id": "74a22825",
   "metadata": {},
   "outputs": [],
   "source": [
    "h53 = ['Ballinasloe', 'Eyrecourt', 'New Inn Galway', 'Portumna', 'Ahascragh', 'Mountbellew', 'Menlough', 'Killimor']\n",
    "h91 = ['Knocknacarra', 'Oranmore', 'Moycullen', 'Galway City', 'Barna', 'Claregalway', 'Headford', 'Craughwell',\n",
    "      'Oughterard', 'Ardrahan', 'Roundstone', 'Clarinbridge', 'Kinvara', 'Inverin', 'Kilcolgan', 'Corrandulla',\n",
    "      'Castlegar', 'Monivea', 'Spiddal', 'Letterfrack', 'Carraroe Galway', 'Ballinderreen', 'Lettermore', 'Carna',\n",
    "      'Camus', 'Carnmore', 'Peterswell', 'Furbo', 'Recess']\n",
    "h65 = ['Athenry', 'Gort', 'Turloughmore']\n",
    "h62 = ['Loughrea', 'Woodford']\n",
    "h54 = ['Tuam', 'Corofin Galway', 'Dunmore', 'Milltown Galway', 'Belclare']\n",
    "h71 = ['Clifden', 'Ballyconneely', 'Cleggan']\n",
    "f45 = ['Williamstown', 'Glenamaddy', 'Ballymoe']\n",
    "f12 = ['Clonbur']\n",
    "f42 = ['Ballygar']"
   ]
  },
  {
   "cell_type": "code",
   "execution_count": 38,
   "id": "4bde9a37",
   "metadata": {},
   "outputs": [],
   "source": [
    "galway_t = np.array(gway['Town'])\n",
    "galway_post = []\n",
    "for i in range(len(galway_t)):\n",
    "    if galway_t[i] in h53:\n",
    "        galway_post.append('H53')\n",
    "    elif galway_t[i] in h91:\n",
    "        galway_post.append('H91')\n",
    "    elif galway_t[i] in h65:\n",
    "        galway_post.append('H65')\n",
    "    elif galway_t[i] in h62:\n",
    "        galway_post.append('H62')\n",
    "    elif galway_t[i] in h54:\n",
    "        galway_post.append('H54')\n",
    "    elif galway_t[i] in h71:\n",
    "        galway_post.append('H71')\n",
    "    elif galway_t[i] in f45:\n",
    "        galway_post.append('F45')\n",
    "    elif galway_t[i] in f12:\n",
    "        galway_post.append('F12')\n",
    "    else:\n",
    "        galway_post.append('F42')"
   ]
  },
  {
   "cell_type": "code",
   "execution_count": 39,
   "id": "904f5c16",
   "metadata": {},
   "outputs": [
    {
     "name": "stderr",
     "output_type": "stream",
     "text": [
      "C:\\Users\\user\\AppData\\Local\\Temp/ipykernel_17884/3012979648.py:1: SettingWithCopyWarning: \n",
      "A value is trying to be set on a copy of a slice from a DataFrame.\n",
      "Try using .loc[row_indexer,col_indexer] = value instead\n",
      "\n",
      "See the caveats in the documentation: https://pandas.pydata.org/pandas-docs/stable/user_guide/indexing.html#returning-a-view-versus-a-copy\n",
      "  gway['Eircode'] = galway_post\n"
     ]
    }
   ],
   "source": [
    "gway['Eircode'] = galway_post"
   ]
  },
  {
   "cell_type": "markdown",
   "id": "d2d186b6",
   "metadata": {},
   "source": [
    "## Cavan"
   ]
  },
  {
   "cell_type": "code",
   "execution_count": 40,
   "id": "534960e1",
   "metadata": {},
   "outputs": [
    {
     "data": {
      "text/plain": [
       "(3840, 19)"
      ]
     },
     "execution_count": 40,
     "metadata": {},
     "output_type": "execute_result"
    }
   ],
   "source": [
    "cav = irl.loc[irl['County'] == 'Cavan']\n",
    "cav.shape"
   ]
  },
  {
   "cell_type": "code",
   "execution_count": 41,
   "id": "aeddccde",
   "metadata": {},
   "outputs": [
    {
     "data": {
      "text/plain": [
       "['Cavan Town',\n",
       " 'Ballinagh',\n",
       " 'Virginia',\n",
       " 'Ballyjamesduff',\n",
       " 'Cootehill',\n",
       " 'Belturbet',\n",
       " 'Mullagh Cavan',\n",
       " 'Kilnaleck',\n",
       " 'Ballyconnell',\n",
       " 'Blacklion',\n",
       " 'Stradone',\n",
       " 'Bailieborough',\n",
       " 'Kingscourt',\n",
       " 'Bawnboy',\n",
       " 'Kilcogy',\n",
       " 'Mountnugent',\n",
       " 'Ballyhaise',\n",
       " 'Killeshandra',\n",
       " 'Crossdoney',\n",
       " 'Shercock',\n",
       " 'Redhills',\n",
       " 'Swanlinbar',\n",
       " 'Butlersbridge',\n",
       " 'Dowra Cavan']"
      ]
     },
     "execution_count": 41,
     "metadata": {},
     "output_type": "execute_result"
    }
   ],
   "source": [
    "cav_towns = list(cav['Town'].unique())\n",
    "cav_towns"
   ]
  },
  {
   "cell_type": "code",
   "execution_count": 42,
   "id": "180b1868",
   "metadata": {},
   "outputs": [],
   "source": [
    "h12 = ['Cavan Town', 'Ballinagh', 'Ballyhaise', 'Killeshandra', 'Crossdoney', 'Stradone', 'Butlersbridge']\n",
    "h14 = ['Ballyconnell', 'Belturbet', 'Bawnboy', 'Redhills', 'Swanlinbar']\n",
    "a82 = ['Mullagh Cavan', 'Bailieborough', 'Virginia', 'Kingscourt', 'Ballyjamesduff', 'Kilnaleck', 'Mountnugent']\n",
    "h16 = ['Cootehill']\n",
    "f91 = ['Blacklion']\n",
    "a81 =['Shercock']\n",
    "n41 = ['Dowra Cavan']\n",
    "n39 = ['Kilcogy']"
   ]
  },
  {
   "cell_type": "code",
   "execution_count": 43,
   "id": "d8719036",
   "metadata": {},
   "outputs": [],
   "source": [
    "cavan_t = np.array(cav['Town'])\n",
    "cavan_post = []\n",
    "for i in range(len(cavan_t)):\n",
    "    if cavan_t[i] in h12:\n",
    "        cavan_post.append('H12')\n",
    "    elif cavan_t[i] in h14:\n",
    "        cavan_post.append('H14')\n",
    "    elif cavan_t[i] in a82:\n",
    "        cavan_post.append('A82')\n",
    "    elif cavan_t[i] in h16:\n",
    "        cavan_post.append('H16')\n",
    "    elif cavan_t[i] in f91:\n",
    "        cavan_post.append('F91')\n",
    "    elif cavan_t[i] in a81:\n",
    "        cavan_post.append('A81')\n",
    "    elif cavan_t[i] in n41:\n",
    "        cavan_post.append('N41')\n",
    "    else:\n",
    "        cavan_post.append('N39')"
   ]
  },
  {
   "cell_type": "code",
   "execution_count": 44,
   "id": "a780086c",
   "metadata": {},
   "outputs": [
    {
     "name": "stderr",
     "output_type": "stream",
     "text": [
      "C:\\Users\\user\\AppData\\Local\\Temp/ipykernel_17884/830075380.py:1: SettingWithCopyWarning: \n",
      "A value is trying to be set on a copy of a slice from a DataFrame.\n",
      "Try using .loc[row_indexer,col_indexer] = value instead\n",
      "\n",
      "See the caveats in the documentation: https://pandas.pydata.org/pandas-docs/stable/user_guide/indexing.html#returning-a-view-versus-a-copy\n",
      "  cav['Eircode'] = cavan_post\n"
     ]
    }
   ],
   "source": [
    "cav['Eircode'] = cavan_post"
   ]
  },
  {
   "cell_type": "markdown",
   "id": "26f15da7",
   "metadata": {},
   "source": [
    "## Monaghan "
   ]
  },
  {
   "cell_type": "code",
   "execution_count": 45,
   "id": "6706f3c6",
   "metadata": {},
   "outputs": [
    {
     "data": {
      "text/plain": [
       "(1961, 19)"
      ]
     },
     "execution_count": 45,
     "metadata": {},
     "output_type": "execute_result"
    }
   ],
   "source": [
    "mon = irl.loc[irl['County'] == 'Monaghan']\n",
    "mon.shape"
   ]
  },
  {
   "cell_type": "code",
   "execution_count": 46,
   "id": "3c9b943d",
   "metadata": {},
   "outputs": [
    {
     "data": {
      "text/plain": [
       "['Monaghan Town',\n",
       " 'Carrickmacross',\n",
       " 'Castleblayney',\n",
       " 'Glaslough',\n",
       " 'Clones',\n",
       " 'Smithborough',\n",
       " 'Inniskeen',\n",
       " 'Newbliss',\n",
       " 'Ballybay',\n",
       " 'Emyvale',\n",
       " 'Scotstown',\n",
       " 'Clontibret',\n",
       " 'Annyalla',\n",
       " 'Scotshouse',\n",
       " 'Threemilehouse',\n",
       " 'Ballinode Monaghan',\n",
       " 'Castleshane',\n",
       " 'Tydavnet',\n",
       " 'Rockcorry']"
      ]
     },
     "execution_count": 46,
     "metadata": {},
     "output_type": "execute_result"
    }
   ],
   "source": [
    "mon_towns = list(mon['Town'].unique())\n",
    "mon_towns"
   ]
  },
  {
   "cell_type": "code",
   "execution_count": 47,
   "id": "7311eefd",
   "metadata": {},
   "outputs": [],
   "source": [
    "h18 = ['Monaghan Town', 'Glaslough', 'Newbliss', 'Emyvale', 'Scotstown', 'Clontibret', 'Smithborough', 'Tydavnet',\n",
    "      'Ballinode Monaghan', 'Threemilehouse', 'Rockcorry', 'Castleshane']\n",
    "a81 = ['Carrickmacross']\n",
    "h23 = ['Clones', 'Scotshouse']\n",
    "a91 = ['Inniskeen']\n",
    "a75 = ['Annyalla', 'Castleblayney', 'Ballybay']"
   ]
  },
  {
   "cell_type": "code",
   "execution_count": 48,
   "id": "8f8fc32f",
   "metadata": {},
   "outputs": [],
   "source": [
    "monaghan_t = np.array(mon['Town'])\n",
    "monaghan_post = []\n",
    "for i in range(len(monaghan_t)):\n",
    "    if monaghan_t[i] in h18:\n",
    "        monaghan_post.append('H18')\n",
    "    elif monaghan_t[i] in a75:\n",
    "        monaghan_post.append('A75')\n",
    "    elif monaghan_t[i] in h23:\n",
    "        monaghan_post.append('H23')\n",
    "    elif monaghan_t[i] in a91:\n",
    "        monaghan_post.append('A91')\n",
    "    else:\n",
    "        monaghan_post.append('A81')"
   ]
  },
  {
   "cell_type": "code",
   "execution_count": 49,
   "id": "260d283b",
   "metadata": {},
   "outputs": [
    {
     "name": "stderr",
     "output_type": "stream",
     "text": [
      "C:\\Users\\user\\AppData\\Local\\Temp/ipykernel_17884/3676768477.py:1: SettingWithCopyWarning: \n",
      "A value is trying to be set on a copy of a slice from a DataFrame.\n",
      "Try using .loc[row_indexer,col_indexer] = value instead\n",
      "\n",
      "See the caveats in the documentation: https://pandas.pydata.org/pandas-docs/stable/user_guide/indexing.html#returning-a-view-versus-a-copy\n",
      "  mon['Eircode'] = monaghan_post\n"
     ]
    }
   ],
   "source": [
    "mon['Eircode'] = monaghan_post"
   ]
  },
  {
   "cell_type": "markdown",
   "id": "c3ed9472",
   "metadata": {},
   "source": [
    "## Donegal"
   ]
  },
  {
   "cell_type": "code",
   "execution_count": 50,
   "id": "9187ef17",
   "metadata": {},
   "outputs": [
    {
     "data": {
      "text/plain": [
       "(7932, 19)"
      ]
     },
     "execution_count": 50,
     "metadata": {},
     "output_type": "execute_result"
    }
   ],
   "source": [
    "don = irl.loc[irl['County'] == 'Donegal']\n",
    "don.shape"
   ]
  },
  {
   "cell_type": "code",
   "execution_count": 51,
   "id": "54952079",
   "metadata": {},
   "outputs": [
    {
     "data": {
      "text/plain": [
       "['Donegal Town',\n",
       " 'Rathmullan',\n",
       " 'Milford Donegal',\n",
       " 'Buncrana',\n",
       " 'Ramelton',\n",
       " 'Dunfanaghy',\n",
       " 'Letterkenny',\n",
       " 'Kerrykeel',\n",
       " 'Carndonagh',\n",
       " 'Ballyshannon',\n",
       " 'Dungloe',\n",
       " 'Annagry',\n",
       " 'Stranorlar',\n",
       " 'Greencastle',\n",
       " 'Ballybofey',\n",
       " 'Bundoran',\n",
       " 'Malin',\n",
       " 'Burnfoot',\n",
       " 'Convoy',\n",
       " 'Lifford',\n",
       " 'Killea',\n",
       " 'Falcarragh',\n",
       " 'Raphoe',\n",
       " 'Rossnowlagh',\n",
       " 'Bridgend',\n",
       " 'Muff',\n",
       " 'Burtonport',\n",
       " 'Ballintra',\n",
       " 'Kilcar',\n",
       " 'Ardara',\n",
       " 'Gleneely',\n",
       " 'Inver',\n",
       " 'Glenties',\n",
       " 'Moville',\n",
       " 'Dunkineely',\n",
       " 'Clonmany',\n",
       " 'Redcastle',\n",
       " 'Culdaff',\n",
       " 'Ballyliffin',\n",
       " 'St Johnston',\n",
       " 'Carrick',\n",
       " 'Fahan',\n",
       " 'Gweedore',\n",
       " 'Carrigart',\n",
       " 'Lettermacaward',\n",
       " 'Killybegs',\n",
       " 'Downings',\n",
       " 'Castlefin',\n",
       " 'Creeslough',\n",
       " 'Kincasslagh',\n",
       " 'Kilmacrennan',\n",
       " 'Manorcunningham',\n",
       " 'Portnablagh',\n",
       " 'Killygordon',\n",
       " 'Carrigans',\n",
       " 'Mountcharles',\n",
       " 'Glencolmcille',\n",
       " 'Glen',\n",
       " 'Bruckless',\n",
       " 'Burt',\n",
       " 'Pettigo',\n",
       " 'Frosses',\n",
       " 'Bunbeg',\n",
       " 'Doochary',\n",
       " 'Cloghan Donegal',\n",
       " 'Crolly',\n",
       " 'Cranford',\n",
       " 'Termon',\n",
       " 'Ballindrait',\n",
       " 'Keadue Donegal',\n",
       " 'Fintown',\n",
       " 'Dunlewey']"
      ]
     },
     "execution_count": 51,
     "metadata": {},
     "output_type": "execute_result"
    }
   ],
   "source": [
    "don_towns = list(don['Town'].unique())\n",
    "don_towns"
   ]
  },
  {
   "cell_type": "code",
   "execution_count": 52,
   "id": "b88b1f7d",
   "metadata": {},
   "outputs": [],
   "source": [
    "f93 = ['Carndonagh', 'Buncrana', 'Castlefin', 'Lifford', 'Moville', 'Muff', 'Ballybofey', 'Carrigans', 'Fahan', 'Culdaff',\n",
    "      'Killea', 'Convoy', 'Killygordon', 'Burnfoot', 'Stranorlar', 'Clonmany', 'Redcastle', 'Greencastle', 'Malin',\n",
    "      'Raphoe', 'Ballyliffin', 'St Johnston', 'Gleneely', 'Burt', 'Ballindrait', 'Cloghan Donegal']\n",
    "f94 = ['Glenties', 'Bundoran', 'Donegal Town', 'Glencolmcille', 'Burtonport', 'Ballyshannon', 'Glen', 'Dungloe', 'Killybegs',\n",
    "      'Bridgend', 'Annagry', 'Kincasslagh', 'Portnablagh', 'Carrick', 'Lettermacaward', 'Ballintra', 'Rossnowlagh',\n",
    "      'Mountcharles', 'Inver', 'Ardara', 'Bruckless', 'Kilcar', 'Dunkineely', 'Pettigo', 'Doochary', 'Frosses', 'Fintown']\n",
    "f92 = ['Letterkenny', 'Rathmullan', 'Dunfanaghy', 'Carrigart', 'Ramelton', 'Kerrykeel', 'Milford Donegal', 'Manorcunningham',\n",
    "      'Downings', 'Falcarragh', 'Creeslough', 'Kilmacrennan', 'Bunbeg', 'Gweedore', 'Crolly', 'Keadue Donegal', 'Termon',\n",
    "      'Dunlewey', 'Cranford']"
   ]
  },
  {
   "cell_type": "code",
   "execution_count": 53,
   "id": "7c8fa455",
   "metadata": {},
   "outputs": [],
   "source": [
    "donegal_t = np.array(don['Town'])\n",
    "donegal_post = []\n",
    "for i in range(len(donegal_t)):\n",
    "    if donegal_t[i] in f93:\n",
    "        donegal_post.append('F93')\n",
    "    elif donegal_t[i] in f94:\n",
    "        donegal_post.append('f94')\n",
    "    else:\n",
    "        donegal_post.append('F92')"
   ]
  },
  {
   "cell_type": "code",
   "execution_count": 54,
   "id": "3fbffbf5",
   "metadata": {},
   "outputs": [
    {
     "name": "stderr",
     "output_type": "stream",
     "text": [
      "C:\\Users\\user\\AppData\\Local\\Temp/ipykernel_17884/2554596347.py:1: SettingWithCopyWarning: \n",
      "A value is trying to be set on a copy of a slice from a DataFrame.\n",
      "Try using .loc[row_indexer,col_indexer] = value instead\n",
      "\n",
      "See the caveats in the documentation: https://pandas.pydata.org/pandas-docs/stable/user_guide/indexing.html#returning-a-view-versus-a-copy\n",
      "  don['Eircode'] = donegal_post\n"
     ]
    }
   ],
   "source": [
    "don['Eircode'] = donegal_post"
   ]
  },
  {
   "cell_type": "markdown",
   "id": "4514f72d",
   "metadata": {},
   "source": [
    "## Louth"
   ]
  },
  {
   "cell_type": "code",
   "execution_count": 55,
   "id": "a5b2cf7e",
   "metadata": {},
   "outputs": [
    {
     "data": {
      "text/plain": [
       "(9698, 19)"
      ]
     },
     "execution_count": 55,
     "metadata": {},
     "output_type": "execute_result"
    }
   ],
   "source": [
    "lu = irl.loc[irl['County'] == 'Louth']\n",
    "lu.shape"
   ]
  },
  {
   "cell_type": "code",
   "execution_count": 56,
   "id": "dc6196f7",
   "metadata": {},
   "outputs": [
    {
     "data": {
      "text/plain": [
       "['Dundalk',\n",
       " 'Omeath',\n",
       " 'Blackrock Louth',\n",
       " 'Drogheda Louth',\n",
       " 'Dunleer',\n",
       " 'Ardee',\n",
       " 'Carlingford',\n",
       " 'Baltray',\n",
       " 'Greenore',\n",
       " 'Castlebellingham',\n",
       " 'Clogherhead',\n",
       " 'Collon',\n",
       " 'Termonfeckin',\n",
       " 'Louth',\n",
       " 'Tullyallen',\n",
       " 'Tinure',\n",
       " 'Tallanstown',\n",
       " 'Dromiskin',\n",
       " 'Annagassan',\n",
       " 'Knockbridge',\n",
       " 'Jenkinstown']"
      ]
     },
     "execution_count": 56,
     "metadata": {},
     "output_type": "execute_result"
    }
   ],
   "source": [
    "lu_towns = list(lu['Town'].unique())\n",
    "lu_towns"
   ]
  },
  {
   "cell_type": "code",
   "execution_count": 57,
   "id": "1d7e0746",
   "metadata": {},
   "outputs": [],
   "source": [
    "a92 = ['Drogheda Louth', 'Termonfeckin', 'Ardee', 'Clogherhead', 'Dunleer', 'Collon', 'Tullyallen', 'Baltray', 'Tinure']\n",
    "a91 = ['Dundalk', 'Annagassan', 'Castlebellingham', 'Blackrock Louth', 'Carlingford', 'Omeath', 'Louth', 'Knockbridge',\n",
    "      'Dromiskin', 'Tallanstown', 'Greenore', 'Jenkinstown']"
   ]
  },
  {
   "cell_type": "code",
   "execution_count": 58,
   "id": "2e2cde00",
   "metadata": {},
   "outputs": [],
   "source": [
    "louth_t = np.array(lu['Town'])\n",
    "louth_post = []\n",
    "for i in range(len(louth_t)):\n",
    "    if louth_t[i] in a92:\n",
    "        louth_post.append('A92')\n",
    "    else:\n",
    "        louth_post.append('A91')"
   ]
  },
  {
   "cell_type": "code",
   "execution_count": 59,
   "id": "3f8fb532",
   "metadata": {},
   "outputs": [
    {
     "name": "stderr",
     "output_type": "stream",
     "text": [
      "C:\\Users\\user\\AppData\\Local\\Temp/ipykernel_17884/354774699.py:1: SettingWithCopyWarning: \n",
      "A value is trying to be set on a copy of a slice from a DataFrame.\n",
      "Try using .loc[row_indexer,col_indexer] = value instead\n",
      "\n",
      "See the caveats in the documentation: https://pandas.pydata.org/pandas-docs/stable/user_guide/indexing.html#returning-a-view-versus-a-copy\n",
      "  lu['Eircode'] = louth_post\n"
     ]
    }
   ],
   "source": [
    "lu['Eircode'] = louth_post"
   ]
  },
  {
   "cell_type": "markdown",
   "id": "1805fec8",
   "metadata": {},
   "source": [
    "## Limerick"
   ]
  },
  {
   "cell_type": "code",
   "execution_count": 60,
   "id": "ee7581fd",
   "metadata": {},
   "outputs": [
    {
     "data": {
      "text/plain": [
       "(9208, 19)"
      ]
     },
     "execution_count": 60,
     "metadata": {},
     "output_type": "execute_result"
    }
   ],
   "source": [
    "lim = irl.loc[irl['County'] == 'Limerick']\n",
    "lim.shape"
   ]
  },
  {
   "cell_type": "code",
   "execution_count": 61,
   "id": "2564f732",
   "metadata": {},
   "outputs": [
    {
     "data": {
      "text/plain": [
       "['Limerick City',\n",
       " 'Doon Limerick',\n",
       " 'Kilmallock',\n",
       " 'Athea',\n",
       " 'Ballyneety',\n",
       " 'Clarina',\n",
       " 'Shanagolden',\n",
       " 'Annacotty',\n",
       " 'Raheen Limerick',\n",
       " 'Castleconnell',\n",
       " 'Bruff',\n",
       " 'Murroe',\n",
       " 'Kilteely',\n",
       " 'Patrickswell',\n",
       " 'Mungret',\n",
       " 'Abbeyfeale',\n",
       " 'Crecora',\n",
       " 'Lisnagry',\n",
       " 'Herbertstown',\n",
       " 'Newcastle West',\n",
       " 'Adare',\n",
       " 'Hospital',\n",
       " 'Dromcollogher',\n",
       " 'Askeaton',\n",
       " 'Kildimo',\n",
       " 'Caherconlish',\n",
       " 'Bruree',\n",
       " 'Rathkeale',\n",
       " 'Feohanagh',\n",
       " 'Granagh',\n",
       " 'Galbally',\n",
       " 'Ballylanders',\n",
       " 'Pallasgreen',\n",
       " 'Knocklong',\n",
       " 'Cappamore',\n",
       " 'Grange Limerick',\n",
       " 'Croagh',\n",
       " 'Templeglantine',\n",
       " 'Kilfinnane',\n",
       " 'Croom',\n",
       " 'Oola',\n",
       " 'Fedamore',\n",
       " 'Ballingarry Limerick',\n",
       " 'Glin',\n",
       " 'Ardagh Limerick',\n",
       " 'Broadford Limerick',\n",
       " 'Pallaskenry',\n",
       " 'Foynes',\n",
       " 'Tournafulla',\n",
       " 'Kilmeedy',\n",
       " 'Ashford Limerick',\n",
       " 'Mountcollins',\n",
       " 'Elton',\n",
       " 'Ballyhahill',\n",
       " 'Brittas Limerick',\n",
       " 'Ballyorgan',\n",
       " 'Strand',\n",
       " 'Feenagh',\n",
       " 'Ardpatrick',\n",
       " 'Meanus',\n",
       " 'Athlacca',\n",
       " 'Kilbehenny',\n",
       " 'Kilfinny',\n",
       " 'Glenroe',\n",
       " 'Effin',\n",
       " 'Ballyagran']"
      ]
     },
     "execution_count": 61,
     "metadata": {},
     "output_type": "execute_result"
    }
   ],
   "source": [
    "lim_towns = list(lim['Town'].unique())\n",
    "lim_towns"
   ]
  },
  {
   "cell_type": "code",
   "execution_count": 62,
   "id": "9fdbf074",
   "metadata": {},
   "outputs": [],
   "source": [
    "v94 = ['Limerick City', 'Raheen Limerick', 'Rathkeale', 'Abbeyfeale', 'Mungret', 'Adare', 'Castleconnell', 'Lisnagry',\n",
    "      'Annacotty', 'Croagh', 'Caherconlish', 'Pallaskenry', 'Clarina', 'Murroe', 'Ballyneety', 'Askeaton', 'Ballingarry Limerick',\n",
    "      'Foynes', 'Cappamore', 'Patrickswell', 'Crecora', 'Pallasgreen', 'Kildimo', 'Kilteely', 'Athea', 'Glin', 'Shanagolden',\n",
    "      'Mountcollins', 'Ballyhahill', 'Templeglantine', 'Doon Limerick', 'Kilfinny', 'Brittas Limerick']\n",
    "v42 = ['Newcastle West', 'Feohanagh', 'Tournafulla', 'Kilmeedy', 'Ardagh Limerick', 'Strand', 'Ashford Limerick']\n",
    "v35 = ['Bruff', 'Kilmallock', 'Croom', 'Herbertstown', 'Fedamore', 'Ballylanders', 'Knocklong', 'Hospital', 'Bruree',\n",
    "      'Ardpatrick', 'Ballyorgan', 'Feenagh', 'Kilfinnane', 'Ballyagran', 'Meanus', 'Athlacca', 'Elton', 'Grange Limerick',\n",
    "      'Glenroe', 'Effin', 'Granagh']\n",
    "e34 = ['Oola', 'Galbally']\n",
    "p56 = ['Dromcollogher', 'Broadford Limerick']\n",
    "p67 = ['Kilbehenny']"
   ]
  },
  {
   "cell_type": "code",
   "execution_count": 63,
   "id": "799d847c",
   "metadata": {},
   "outputs": [],
   "source": [
    "lim_t = np.array(lim['Town'])\n",
    "lim_post = []\n",
    "for i in range(len(lim_t)):\n",
    "    if lim_t[i] in v94:\n",
    "        lim_post.append('V94')\n",
    "    elif lim_t[i] in v42:\n",
    "        lim_post.append('V42')\n",
    "    elif lim_t[i] in v35:\n",
    "        lim_post.append('V35')\n",
    "    elif lim_t[i] in e34:\n",
    "        lim_post.append('E34')\n",
    "    elif lim_t[i] in p56:\n",
    "        lim_post.append('P56')\n",
    "    else:\n",
    "        lim_post.append('P67')"
   ]
  },
  {
   "cell_type": "code",
   "execution_count": 64,
   "id": "5d4e0910",
   "metadata": {},
   "outputs": [
    {
     "name": "stderr",
     "output_type": "stream",
     "text": [
      "C:\\Users\\user\\AppData\\Local\\Temp/ipykernel_17884/519894190.py:1: SettingWithCopyWarning: \n",
      "A value is trying to be set on a copy of a slice from a DataFrame.\n",
      "Try using .loc[row_indexer,col_indexer] = value instead\n",
      "\n",
      "See the caveats in the documentation: https://pandas.pydata.org/pandas-docs/stable/user_guide/indexing.html#returning-a-view-versus-a-copy\n",
      "  lim['Eircode'] = lim_post\n"
     ]
    }
   ],
   "source": [
    "lim['Eircode'] = lim_post"
   ]
  },
  {
   "cell_type": "markdown",
   "id": "7d45193f",
   "metadata": {},
   "source": [
    "## Clare"
   ]
  },
  {
   "cell_type": "code",
   "execution_count": 65,
   "id": "085bc3f3",
   "metadata": {},
   "outputs": [
    {
     "data": {
      "text/plain": [
       "(6904, 19)"
      ]
     },
     "execution_count": 65,
     "metadata": {},
     "output_type": "execute_result"
    }
   ],
   "source": [
    "clar = irl.loc[irl['County'] == 'Clare']\n",
    "clar.shape"
   ]
  },
  {
   "cell_type": "code",
   "execution_count": 66,
   "id": "28f1b29c",
   "metadata": {},
   "outputs": [
    {
     "data": {
      "text/plain": [
       "['Ennis',\n",
       " 'Lahinch',\n",
       " 'Kilrush',\n",
       " 'Carrigaholt',\n",
       " 'Kildysart',\n",
       " 'Lissycasey',\n",
       " 'Clarecastle',\n",
       " 'Killaloe',\n",
       " 'Clonlara',\n",
       " 'Ennistymon',\n",
       " 'Doonbeg',\n",
       " 'Meelick',\n",
       " 'Kilkee',\n",
       " 'Inagh',\n",
       " 'Parteen',\n",
       " 'Crusheen',\n",
       " 'Cratloe',\n",
       " 'Shannon',\n",
       " 'Doolin',\n",
       " 'Liscannor',\n",
       " 'Bunratty',\n",
       " 'Kilmihil',\n",
       " 'Corofin Clare',\n",
       " 'Mountshannon',\n",
       " 'Bodyke',\n",
       " 'Doora',\n",
       " 'Ardnacrusha',\n",
       " 'Tuamgraney',\n",
       " 'Lisdoonvarna',\n",
       " 'Inch Clare',\n",
       " 'Sixmilebridge',\n",
       " 'Quin',\n",
       " 'Tulla',\n",
       " 'Scarriff',\n",
       " 'Mullagh Clare',\n",
       " 'Whitegate Clare',\n",
       " 'Ruan',\n",
       " 'Broadford Clare',\n",
       " 'Tubber Clare',\n",
       " 'Ballyvaughan',\n",
       " 'Kilkishen',\n",
       " 'Spanish Point',\n",
       " 'Kilmaley',\n",
       " 'Kilfenora',\n",
       " 'Milltown Malbay',\n",
       " 'Cree',\n",
       " 'Feakle',\n",
       " 'Connolly',\n",
       " 'Ballynacally',\n",
       " 'Quilty',\n",
       " 'Bridgetown Clare',\n",
       " 'Fanore',\n",
       " 'Kilnaboy',\n",
       " 'Kilshanny',\n",
       " 'Cross Clare',\n",
       " 'Kilbaha',\n",
       " 'Labasheeda']"
      ]
     },
     "execution_count": 66,
     "metadata": {},
     "output_type": "execute_result"
    }
   ],
   "source": [
    "clare_towns = list(clar['Town'].unique())\n",
    "clare_towns"
   ]
  },
  {
   "cell_type": "code",
   "execution_count": 67,
   "id": "32dabbd1",
   "metadata": {},
   "outputs": [],
   "source": [
    "v95 = ['Ennis', 'Lahinch', 'Cratloe', 'Corofin Clare', 'Liscannor', 'Clarecastle', 'Quin', 'Sixmilebridge', 'Kilkishen',\n",
    "      'Milltown Malbay', 'Kilmaley', 'Bunratty', 'Kildysart', 'Mullagh Clare', 'Ennistymon', 'Doolin', 'Lisdoonvarna', 'Inagh',\n",
    "      'Tulla', 'Crusheen', 'Lissycasey', 'Kilshanny', 'Quilty', 'Spanish Point', 'Ruan', 'Connolly', 'Doora', 'Ballynacally',\n",
    "      'Kilnaboy', 'Kilfenora', 'Inch Clare']\n",
    "v15 = ['Kilkee', 'Kilrush', 'Doonbeg', 'Carrigaholt', 'Kilmihil', 'Cree', 'Labasheeda', 'Kilbaha', 'Cross Clare']\n",
    "v94 = ['Killaloe', 'Mountshannon', 'Scarriff', 'Clonlara', 'Ardnacrusha', 'Meelick', 'Parteen', 'Bodyke', 'Whitegate Clare',\n",
    "      'Tuamgraney', 'Feakle', 'Bridgetown Clare', 'Broadford Clare']\n",
    "v14 = ['Shannon']\n",
    "h91 = ['Ballyvaughan', 'Fanore', 'Tubber Clare']"
   ]
  },
  {
   "cell_type": "code",
   "execution_count": 68,
   "id": "9a5c2e00",
   "metadata": {},
   "outputs": [],
   "source": [
    "clar_t = np.array(clar['Town'])\n",
    "clar_post = []\n",
    "for i in range(len(clar_t)):\n",
    "    if clar_t[i] in v95:\n",
    "        clar_post.append('V95')\n",
    "    elif clar_t[i] in v15:\n",
    "        clar_post.append('V15')\n",
    "    elif clar_t[i] in v94:\n",
    "        clar_post.append('V94')\n",
    "    elif clar_t[i] in h91:\n",
    "        clar_post.append('H91')\n",
    "    else:\n",
    "        clar_post.append('V14')"
   ]
  },
  {
   "cell_type": "code",
   "execution_count": 69,
   "id": "4f98e17d",
   "metadata": {},
   "outputs": [
    {
     "name": "stderr",
     "output_type": "stream",
     "text": [
      "C:\\Users\\user\\AppData\\Local\\Temp/ipykernel_17884/1246317912.py:1: SettingWithCopyWarning: \n",
      "A value is trying to be set on a copy of a slice from a DataFrame.\n",
      "Try using .loc[row_indexer,col_indexer] = value instead\n",
      "\n",
      "See the caveats in the documentation: https://pandas.pydata.org/pandas-docs/stable/user_guide/indexing.html#returning-a-view-versus-a-copy\n",
      "  clar['Eircode'] = clar_post\n"
     ]
    }
   ],
   "source": [
    "clar['Eircode'] = clar_post"
   ]
  },
  {
   "cell_type": "markdown",
   "id": "ec8bd8c7",
   "metadata": {},
   "source": [
    "## Tipperary"
   ]
  },
  {
   "cell_type": "code",
   "execution_count": 70,
   "id": "f41207e2",
   "metadata": {},
   "outputs": [
    {
     "data": {
      "text/plain": [
       "(8102, 19)"
      ]
     },
     "execution_count": 70,
     "metadata": {},
     "output_type": "execute_result"
    }
   ],
   "source": [
    "tipp = irl.loc[irl['County'] == 'Tipperary']\n",
    "tipp.shape"
   ]
  },
  {
   "cell_type": "code",
   "execution_count": 71,
   "id": "4d85a648",
   "metadata": {},
   "outputs": [
    {
     "data": {
      "text/plain": [
       "['Clonmel',\n",
       " 'Newport Tipperary',\n",
       " 'Cahir',\n",
       " 'Nenagh',\n",
       " 'Thurles',\n",
       " 'Templemore',\n",
       " 'Cashel',\n",
       " 'Roscrea',\n",
       " 'Lorrha',\n",
       " 'Borrisokane',\n",
       " 'Ballina Tipperary',\n",
       " 'Tipperary',\n",
       " 'Clonoulty',\n",
       " 'Cappawhite',\n",
       " 'Dundrum Tipperary',\n",
       " 'Borrisoleigh',\n",
       " 'Portroe',\n",
       " 'Bansha',\n",
       " 'Birdhill',\n",
       " 'Golden',\n",
       " 'Burncourt',\n",
       " 'Terryglass',\n",
       " 'Fethard',\n",
       " 'Clogheen',\n",
       " 'Donohill',\n",
       " 'Ballyporeen',\n",
       " 'Emly',\n",
       " 'Cullen Tipperary',\n",
       " 'Cloughjordan',\n",
       " 'Ardfinnan',\n",
       " 'Rosegreen',\n",
       " 'Mullinahone',\n",
       " 'Rathcabbin',\n",
       " 'Silvermines',\n",
       " 'Kilsheelan',\n",
       " 'Killenaule',\n",
       " 'Holycross',\n",
       " 'Lattin',\n",
       " 'Loughmore',\n",
       " 'Newcastle Tipperary',\n",
       " 'Boherlahan',\n",
       " 'Rearcross',\n",
       " 'Dromineer',\n",
       " 'Newtown Tipperary',\n",
       " 'Littleton',\n",
       " 'Ballycommon',\n",
       " 'Hollyford',\n",
       " 'Gortnahoe',\n",
       " 'Riverstown Tipperary']"
      ]
     },
     "execution_count": 71,
     "metadata": {},
     "output_type": "execute_result"
    }
   ],
   "source": [
    "tipp_towns = list(tipp['Town'].unique())\n",
    "tipp_towns"
   ]
  },
  {
   "cell_type": "code",
   "execution_count": 72,
   "id": "04e2cddd",
   "metadata": {},
   "outputs": [
    {
     "data": {
      "text/plain": [
       "49"
      ]
     },
     "execution_count": 72,
     "metadata": {},
     "output_type": "execute_result"
    }
   ],
   "source": [
    "len(tipp_towns)"
   ]
  },
  {
   "cell_type": "code",
   "execution_count": 73,
   "id": "d44413bb",
   "metadata": {},
   "outputs": [],
   "source": [
    "e45 = ['Nenagh', 'Borrisokane', 'Terryglass', 'Ballycommon', 'Portroe', 'Silvermines', 'Dromineer', 'Lorrha', 'Newtown Tipperary']\n",
    "e91 = ['Clonmel', 'Fethard', 'Ardfinnan', 'Kilsheelan', 'Newcastle Tipperary']\n",
    "e41 = ['Thurles', 'Templemore', 'Mullinahone', 'Killenaule', 'Borrisoleigh', 'Loughmore', 'Holycross', 'Gortnahoe',\n",
    "      'Littleton']\n",
    "v94 = ['Ballina Tipperary', 'Newport Tipperary', 'Birdhill', 'Rearcross']\n",
    "e25 = ['Cashel', 'Golden', 'Rosegreen', 'Boherlahan', 'Clonoulty']\n",
    "e53 = ['Roscrea', 'Cloughjordan']\n",
    "e34 = ['Cappawhite', 'Cullen Tipperary', 'Tipperary', 'Donohill', 'Bansha', 'Emly', 'Dundrum Tipperary', 'Hollyford', 'Lattin']\n",
    "e21 = ['Cahir', 'Clogheen', 'Ballyporeen', 'Burncourt']\n",
    "r42 = ['Riverstown Tipperary', 'Rathcabbin']"
   ]
  },
  {
   "cell_type": "code",
   "execution_count": 74,
   "id": "e91da4b1",
   "metadata": {},
   "outputs": [],
   "source": [
    "tipp_t = np.array(tipp['Town'])\n",
    "tipp_post = []\n",
    "for i in range(len(tipp_t)):\n",
    "    if tipp_t[i] in e45:\n",
    "        tipp_post.append('E45')\n",
    "    elif tipp_t[i] in e91:\n",
    "        tipp_post.append('E91')\n",
    "    elif tipp_t[i] in e41:\n",
    "        tipp_post.append('E41')\n",
    "    elif tipp_t[i] in v94:\n",
    "        tipp_post.append('V94')\n",
    "    elif tipp_t[i] in e25:\n",
    "        tipp_post.append('E25')\n",
    "    elif tipp_t[i] in e53:\n",
    "        tipp_post.append('E53')\n",
    "    elif tipp_t[i] in e34:\n",
    "        tipp_post.append('E34')\n",
    "    elif tipp_t[i] in e21:\n",
    "        tipp_post.append('E21')\n",
    "    else:\n",
    "        tipp_post.append('R42')"
   ]
  },
  {
   "cell_type": "code",
   "execution_count": 75,
   "id": "83d041ee",
   "metadata": {},
   "outputs": [
    {
     "name": "stderr",
     "output_type": "stream",
     "text": [
      "C:\\Users\\user\\AppData\\Local\\Temp/ipykernel_17884/4145527976.py:1: SettingWithCopyWarning: \n",
      "A value is trying to be set on a copy of a slice from a DataFrame.\n",
      "Try using .loc[row_indexer,col_indexer] = value instead\n",
      "\n",
      "See the caveats in the documentation: https://pandas.pydata.org/pandas-docs/stable/user_guide/indexing.html#returning-a-view-versus-a-copy\n",
      "  tipp['Eircode'] = tipp_post\n"
     ]
    }
   ],
   "source": [
    "tipp['Eircode'] = tipp_post"
   ]
  },
  {
   "cell_type": "markdown",
   "id": "b9b9338f",
   "metadata": {},
   "source": [
    "## Kerry"
   ]
  },
  {
   "cell_type": "code",
   "execution_count": 76,
   "id": "de9a45f8",
   "metadata": {},
   "outputs": [
    {
     "data": {
      "text/plain": [
       "(8776, 19)"
      ]
     },
     "execution_count": 76,
     "metadata": {},
     "output_type": "execute_result"
    }
   ],
   "source": [
    "ker = irl.loc[irl['County'] == 'Kerry']\n",
    "ker.shape"
   ]
  },
  {
   "cell_type": "code",
   "execution_count": 77,
   "id": "2891e3e7",
   "metadata": {},
   "outputs": [
    {
     "data": {
      "text/plain": [
       "['Tralee',\n",
       " 'Abbeydorney',\n",
       " 'Kenmare',\n",
       " 'Gneeveguilla',\n",
       " 'Killarney',\n",
       " 'Glenbeigh',\n",
       " 'Castleisland',\n",
       " 'Ballyheigue',\n",
       " 'Waterville',\n",
       " 'Castlemaine',\n",
       " 'Ballybunion',\n",
       " 'Castlegregory',\n",
       " 'Listowel',\n",
       " 'Dingle',\n",
       " 'Ardfert',\n",
       " 'Beaufort',\n",
       " 'Milltown Kerry',\n",
       " 'Caherdaniel',\n",
       " 'Lisselton',\n",
       " 'Killorglin',\n",
       " 'Knocknagoshel',\n",
       " 'Rathmore Kerry',\n",
       " 'Sneem',\n",
       " 'Annascaul',\n",
       " 'Lixnaw',\n",
       " 'Ballyferriter',\n",
       " 'Ballinskelligs',\n",
       " 'Ballylongford',\n",
       " 'Tarbert',\n",
       " 'Farranfore',\n",
       " 'Blennerville',\n",
       " 'Duagh',\n",
       " 'Moyvane',\n",
       " 'Asdee',\n",
       " 'Castlecove',\n",
       " 'Scartaglen',\n",
       " 'Kilgarvan',\n",
       " 'Ballyseedy',\n",
       " 'Portmagee',\n",
       " 'Fenit',\n",
       " 'Cahersiveen',\n",
       " 'Firies',\n",
       " 'Lispole',\n",
       " 'Kilflynn',\n",
       " 'Ballyduff Kerry',\n",
       " 'Dunquin',\n",
       " 'Causeway',\n",
       " 'Camp',\n",
       " 'Ballydavid',\n",
       " 'Kilmoyley',\n",
       " 'Ventry',\n",
       " 'Kilcummin']"
      ]
     },
     "execution_count": 77,
     "metadata": {},
     "output_type": "execute_result"
    }
   ],
   "source": [
    "ker_towns = list(ker['Town'].unique())\n",
    "ker_towns"
   ]
  },
  {
   "cell_type": "code",
   "execution_count": 78,
   "id": "b90a978a",
   "metadata": {},
   "outputs": [
    {
     "data": {
      "text/plain": [
       "52"
      ]
     },
     "execution_count": 78,
     "metadata": {},
     "output_type": "execute_result"
    }
   ],
   "source": [
    "len(ker_towns)"
   ]
  },
  {
   "cell_type": "code",
   "execution_count": 79,
   "id": "7336debf",
   "metadata": {},
   "outputs": [],
   "source": [
    "v93 = ['Killarney', 'Kenmare', 'Killorglin', 'Caherdaniel', 'Castlemaine', 'Castlecove', 'Beaufort', 'Milltown Kerry',\n",
    "      'Glenbeigh', 'Scartaglen', 'Kilgarvan', 'Sneem', 'Farranfore', 'Firies', 'Kilcummin']\n",
    "v92 = ['Lixnaw', 'Tralee', 'Ballyheigue', 'Dingle', 'Abbeydorney', 'Ardfert', 'Castleisland', 'Castlegregory', 'Annascaul',\n",
    "      'Ballyseedy', 'Ballyferriter', 'Fenit', 'Knocknagoshel', 'Camp', 'Lispole', 'Causeway', 'Ballydavid', 'Kilflynn',\n",
    "      'Ballyduff Kerry', 'Ventry', 'Dunquin', 'Blennerville', 'Kilmoyley']\n",
    "v23 = ['Waterville', 'Ballinskelligs', 'Portmagee', 'Cahersiveen']\n",
    "v31 = ['Listowel', 'Ballybunion', 'Moyvane', 'Tarbert', 'Ballylongford', 'Lisselton', 'Duagh', 'Asdee']\n",
    "p51 = ['Rathmore Kerry', 'Gneeveguilla']"
   ]
  },
  {
   "cell_type": "code",
   "execution_count": 80,
   "id": "450828b4",
   "metadata": {},
   "outputs": [],
   "source": [
    "kerr_t = np.array(ker['Town'])\n",
    "kerr_post = []\n",
    "for i in range(len(kerr_t)):\n",
    "    if kerr_t[i] in v93:\n",
    "        kerr_post.append('V93')\n",
    "    elif kerr_t[i] in v92:\n",
    "        kerr_post.append('V92')\n",
    "    elif kerr_t[i] in v23:\n",
    "        kerr_post.append('V23')\n",
    "    elif kerr_t[i] in v31:\n",
    "        kerr_post.append('V31')\n",
    "    else:\n",
    "        kerr_post.append('P51')"
   ]
  },
  {
   "cell_type": "code",
   "execution_count": 81,
   "id": "0ffb2421",
   "metadata": {},
   "outputs": [
    {
     "name": "stderr",
     "output_type": "stream",
     "text": [
      "C:\\Users\\user\\AppData\\Local\\Temp/ipykernel_17884/1315788427.py:1: SettingWithCopyWarning: \n",
      "A value is trying to be set on a copy of a slice from a DataFrame.\n",
      "Try using .loc[row_indexer,col_indexer] = value instead\n",
      "\n",
      "See the caveats in the documentation: https://pandas.pydata.org/pandas-docs/stable/user_guide/indexing.html#returning-a-view-versus-a-copy\n",
      "  ker['Eircode'] = kerr_post\n"
     ]
    }
   ],
   "source": [
    "ker['Eircode'] = kerr_post"
   ]
  },
  {
   "cell_type": "markdown",
   "id": "2622d0d1",
   "metadata": {},
   "source": [
    "## Waterford"
   ]
  },
  {
   "cell_type": "code",
   "execution_count": 82,
   "id": "b35f4390",
   "metadata": {},
   "outputs": [
    {
     "data": {
      "text/plain": [
       "(7674, 19)"
      ]
     },
     "execution_count": 82,
     "metadata": {},
     "output_type": "execute_result"
    }
   ],
   "source": [
    "wat = irl.loc[irl['County'] == 'Waterford']\n",
    "wat.shape"
   ]
  },
  {
   "cell_type": "code",
   "execution_count": 83,
   "id": "9e6444ea",
   "metadata": {},
   "outputs": [
    {
     "data": {
      "text/plain": [
       "['Waterford City',\n",
       " 'Dungarvan Waterford',\n",
       " 'Dunmore East',\n",
       " 'Kilmacthomas',\n",
       " 'Tramore',\n",
       " 'Stradbally Waterford',\n",
       " 'Ardmore',\n",
       " 'Passage East',\n",
       " 'Lismore',\n",
       " 'Cappoquin',\n",
       " 'Portlaw',\n",
       " 'Kill Waterford',\n",
       " 'Tallow',\n",
       " 'Dunhill',\n",
       " 'Newtown Waterford',\n",
       " 'Kilmeaden',\n",
       " 'Lisduggan',\n",
       " 'Rathgormack',\n",
       " 'Clashmore',\n",
       " 'Fenor',\n",
       " 'Aglish',\n",
       " 'Ballinamult',\n",
       " 'Old Parish',\n",
       " 'Ballymacarbry',\n",
       " 'Annestown',\n",
       " 'Ballytruckle',\n",
       " 'Knockanore',\n",
       " 'Cheekpoint',\n",
       " 'Lemybrien',\n",
       " 'Villierstown',\n",
       " 'Kinsalebeg',\n",
       " 'Glencairn']"
      ]
     },
     "execution_count": 83,
     "metadata": {},
     "output_type": "execute_result"
    }
   ],
   "source": [
    "wat_towns = list(wat['Town'].unique())\n",
    "wat_towns"
   ]
  },
  {
   "cell_type": "code",
   "execution_count": 84,
   "id": "c7ead8d1",
   "metadata": {},
   "outputs": [],
   "source": [
    "x91 = ['Waterford City', 'Tramore', 'Portlaw', 'Passage East', 'Fenor', 'Dunmore East', 'Kilmeaden', 'Dunhill', 'Lisduggan',\n",
    "      'Annestown', 'Kinsalebeg', 'Ballytruckle', 'Ballytruckle', 'Newtown Waterford', 'Cheekpoint']\n",
    "x35 = ['Dungarvan Waterford', 'Old Parish']\n",
    "p51 = ['Lismore', 'Aglish', 'Cappoquin', 'Tallow', 'Knockanore', 'Villierstown', 'Glencairn']\n",
    "x42 = ['Kilmacthomas', 'Kill Waterford', 'Stradbally Waterford', 'Lemybrien']\n",
    "e91 = ['Ballinamult', 'Ballymacarbry']\n",
    "p36 = ['Ardmore', 'Clashmore']\n",
    "e32 = ['Rathgormack']"
   ]
  },
  {
   "cell_type": "code",
   "execution_count": 85,
   "id": "bd0dd5f7",
   "metadata": {},
   "outputs": [],
   "source": [
    "wat_t = np.array(wat['Town'])\n",
    "wat_post = []\n",
    "for i in range(len(wat_t)):\n",
    "    if wat_t[i] in x91:\n",
    "        wat_post.append('X91')\n",
    "    elif wat_t[i] in x35:\n",
    "        wat_post.append('X35')\n",
    "    elif wat_t[i] in p51:\n",
    "        wat_post.append('P51')\n",
    "    elif wat_t[i] in x42:\n",
    "        wat_post.append('X42')\n",
    "    elif wat_t[i] in e91:\n",
    "        wat_post.append('E91')\n",
    "    elif wat_t[i] in p36:\n",
    "        wat_post.append('P36')\n",
    "    else:\n",
    "        wat_post.append('E32')"
   ]
  },
  {
   "cell_type": "code",
   "execution_count": 86,
   "id": "38deca48",
   "metadata": {},
   "outputs": [
    {
     "name": "stderr",
     "output_type": "stream",
     "text": [
      "C:\\Users\\user\\AppData\\Local\\Temp/ipykernel_17884/2016504323.py:1: SettingWithCopyWarning: \n",
      "A value is trying to be set on a copy of a slice from a DataFrame.\n",
      "Try using .loc[row_indexer,col_indexer] = value instead\n",
      "\n",
      "See the caveats in the documentation: https://pandas.pydata.org/pandas-docs/stable/user_guide/indexing.html#returning-a-view-versus-a-copy\n",
      "  wat['Eircode'] = wat_post\n"
     ]
    }
   ],
   "source": [
    "wat['Eircode'] = wat_post"
   ]
  },
  {
   "cell_type": "markdown",
   "id": "d20a6dc3",
   "metadata": {},
   "source": [
    "## Cork"
   ]
  },
  {
   "cell_type": "code",
   "execution_count": 142,
   "id": "512a8883",
   "metadata": {},
   "outputs": [
    {
     "data": {
      "text/plain": [
       "(32510, 19)"
      ]
     },
     "execution_count": 142,
     "metadata": {},
     "output_type": "execute_result"
    }
   ],
   "source": [
    "cork = irl.loc[irl['County'] == 'Cork']\n",
    "cork.shape"
   ]
  },
  {
   "cell_type": "code",
   "execution_count": 148,
   "id": "ffa91b63",
   "metadata": {},
   "outputs": [],
   "source": [
    "cork_towns = list(cork['Town'].unique())\n",
    "#cork_towns"
   ]
  },
  {
   "cell_type": "code",
   "execution_count": 144,
   "id": "6366bbed",
   "metadata": {},
   "outputs": [
    {
     "data": {
      "text/plain": [
       "127"
      ]
     },
     "execution_count": 144,
     "metadata": {},
     "output_type": "execute_result"
    }
   ],
   "source": [
    "len(cork_towns)"
   ]
  },
  {
   "cell_type": "code",
   "execution_count": 145,
   "id": "5ad684d4",
   "metadata": {},
   "outputs": [],
   "source": [
    "t12 = ['Cork City', 'Douglas', 'Blackrock Cork', 'Bishopstown', 'Waterfall', 'Monkstown Cork', 'Togher', 'Ballygarvan',\n",
    "      'Glasheen', 'Ballinhassig', 'Innishannon', 'Ballintemple', 'Tower', 'Shanbally', 'Glenbrook', 'Crossbarry']\n",
    "p24 = ['Cobh']\n",
    "p81 = ['Skibbereen', 'Baltimore', 'Schull', 'Glandore', 'Ballydehob', 'Leap', 'Goleen', 'Crookhaven', 'Castletownshend']\n",
    "p25 = ['Midleton', 'Whitegate Cork', 'Castlemartyr', 'Cloyne', 'Ladysbridge', 'Shanagarry', 'Ballymacoda', 'Ballinacurra',\n",
    "      'Dungourney']\n",
    "p61 = ['Fermoy', 'Kilworth', 'Castlelyons', 'Rathcormac', 'Clondulane']\n",
    "p72 = ['Bandon', 'Courtmacsherry', 'Kilbrittain', 'Timoleague', 'Ballinadee']\n",
    "t45 = ['Carrigtwohill', 'Glanmire', 'Glounthaune', 'Little Island', 'Fota Island']\n",
    "p67 = ['Mitchelstown']\n",
    "\n",
    "p17 = ['Kinsale', 'Belgooly', 'Minane Bridge', 'Nohoval', 'Ballinspittle']\n",
    "p36 = ['Youghal', 'Killeagh']\n",
    "p31 = ['Ballincollig', 'Ovens', 'Aherla']\n",
    "p43 = ['Carrigaline', 'Crosshaven', 'Ringaskiddy', 'Riverstick', 'Fountainstown']\n",
    "p51 = ['Mallow', 'Banteer', 'Kanturk', 'Doneraile', 'Newmarket', 'Liscarroll', 'Buttevant', 'Castletownroche', 'Conna',\n",
    "      'Glanworth', 'Lombardstown', 'Meelin', 'Bweeng', 'Shanballymore', 'Rockchapel', 'Dromahane', 'Churchtown Cork',\n",
    "      'Ballydesmond', 'Lismire']\n",
    "\n",
    "p85 = ['Clonakilty', 'Rosscarbery', 'Ardfield', 'Lyre']\n",
    "p12 = ['Macroom', 'Dripsey', 'Ballingeary', 'Ballymakeera', 'Millstreet', 'Coachford', 'Aghabullogue', 'Carrigadrohid',\n",
    "      'Ballyvourney', 'Coolea']\n",
    "p47 = ['Drimoleague', 'Dunmanway', 'Drinagh', 'Ballineen']\n",
    "p56 = ['Charleville', 'Milford Cork']\n",
    "\n",
    "p75 = ['Bantry', 'Castletownbere', 'Union Hall', 'Durrus', 'Allihies', 'Adrigole', 'Kealkill', 'Kilcrohane', 'Ballylickey']\n",
    "t23 = ['Blarney', 'Cloghroe', 'Glengarriff', 'Montenotte', 'Mayfield', 'Farran']\n",
    "t34 = ['Whitechurch']\n",
    "t56 = ['Knockraha', 'Watergrasshill']\n",
    "p32 = ['Donoughmore']\n",
    "p14 = ['Crookstown Cork', 'Cloughduv']"
   ]
  },
  {
   "cell_type": "code",
   "execution_count": 149,
   "id": "340fb54c",
   "metadata": {},
   "outputs": [],
   "source": [
    "cork_t = np.array(cork['Town'])\n",
    "cork_post = []\n",
    "for i in range(len(cork_t)):\n",
    "    if cork_t[i] in t12:\n",
    "        cork_post.append('T12')\n",
    "    elif cork_t[i] in p24:\n",
    "        cork_post.append('P24')\n",
    "    elif cork_t[i] in p81:\n",
    "        cork_post.append('P81')\n",
    "    elif cork_t[i] in p25:\n",
    "        cork_post.append('P25')\n",
    "    elif cork_t[i] in p61:\n",
    "        cork_post.append('P61')\n",
    "    elif cork_t[i] in p72:\n",
    "        cork_post.append('P72')\n",
    "    elif cork_t[i] in t45:\n",
    "        cork_post.append('T45')\n",
    "    elif cork_t[i] in p67:\n",
    "        cork_post.append('P67')\n",
    "    elif cork_t[i] in p17:\n",
    "        cork_post.append('P17')\n",
    "    elif cork_t[i] in p36:\n",
    "        cork_post.append('P36')\n",
    "    elif cork_t[i] in p31:\n",
    "        cork_post.append('P31')\n",
    "    elif cork_t[i] in p43:\n",
    "        cork_post.append('P43')\n",
    "    elif cork_t[i] in p51:\n",
    "        cork_post.append('P51')\n",
    "    elif cork_t[i] in p85:\n",
    "        cork_post.append('P85')\n",
    "    elif cork_t[i] in p12:\n",
    "        cork_post.append('P12')\n",
    "    elif cork_t[i] in p47:\n",
    "        cork_post.append('P47')\n",
    "    elif cork_t[i] in p56:\n",
    "        cork_post.append('P56')\n",
    "    elif cork_t[i] in p75:\n",
    "        cork_post.append('P75')\n",
    "    elif cork_t[i] in t23:\n",
    "        cork_post.append('T23')\n",
    "    elif cork_t[i] in t34:\n",
    "        cork_post.append('T34')\n",
    "    elif cork_t[i] in t56:\n",
    "        cork_post.append('T56')\n",
    "    elif cork_t[i] in p32:\n",
    "        cork_post.append('P32')\n",
    "    else:\n",
    "        cork_post.append('P14')"
   ]
  },
  {
   "cell_type": "code",
   "execution_count": 150,
   "id": "e792479d",
   "metadata": {},
   "outputs": [
    {
     "name": "stderr",
     "output_type": "stream",
     "text": [
      "C:\\Users\\user\\AppData\\Local\\Temp/ipykernel_17884/1574716197.py:1: SettingWithCopyWarning: \n",
      "A value is trying to be set on a copy of a slice from a DataFrame.\n",
      "Try using .loc[row_indexer,col_indexer] = value instead\n",
      "\n",
      "See the caveats in the documentation: https://pandas.pydata.org/pandas-docs/stable/user_guide/indexing.html#returning-a-view-versus-a-copy\n",
      "  cork['Eircode'] = cork_post\n"
     ]
    }
   ],
   "source": [
    "cork['Eircode'] = cork_post"
   ]
  },
  {
   "cell_type": "markdown",
   "id": "79aefd3c",
   "metadata": {},
   "source": [
    "## Longford"
   ]
  },
  {
   "cell_type": "code",
   "execution_count": 87,
   "id": "758944a2",
   "metadata": {},
   "outputs": [
    {
     "data": {
      "text/plain": [
       "(2093, 19)"
      ]
     },
     "execution_count": 87,
     "metadata": {},
     "output_type": "execute_result"
    }
   ],
   "source": [
    "lon = irl.loc[irl['County'] == 'Longford']\n",
    "lon.shape"
   ]
  },
  {
   "cell_type": "code",
   "execution_count": 88,
   "id": "95b7029b",
   "metadata": {},
   "outputs": [
    {
     "data": {
      "text/plain": [
       "['Longford Town',\n",
       " 'Edgeworthstown',\n",
       " 'Ballymahon',\n",
       " 'Legan',\n",
       " 'Moydow',\n",
       " 'Granard',\n",
       " 'Aughnacliffe',\n",
       " 'Newtownforbes',\n",
       " 'Ballinalee',\n",
       " 'Newtowncashel',\n",
       " 'Drumlish',\n",
       " 'Abbeylara',\n",
       " 'Killashee',\n",
       " 'Ballinamuck',\n",
       " 'Abbeyshrule',\n",
       " 'Lisryan',\n",
       " 'Colehill',\n",
       " 'Killoe',\n",
       " 'Ardagh Longford',\n",
       " 'Lanesborough',\n",
       " 'Keenagh']"
      ]
     },
     "execution_count": 88,
     "metadata": {},
     "output_type": "execute_result"
    }
   ],
   "source": [
    "lon_towns = list(lon['Town'].unique())\n",
    "lon_towns"
   ]
  },
  {
   "cell_type": "code",
   "execution_count": 89,
   "id": "132a8883",
   "metadata": {},
   "outputs": [],
   "source": [
    "n39 = ['Longford Town', 'Ballymahon', 'Edgeworthstown', 'Newtownforbes', 'Drumlish', 'Killashee', 'Granard', 'Newtowncashel',\n",
    "      'Ballinalee', 'Aughnacliffe', 'Legan', 'Lisryan', 'Colehill', 'Abbeylara', 'Killoe', 'Abbeyshrule', 'Ardagh Longford',\n",
    "      'Lanesborough', 'Ballinamuck', 'Moydow', 'Keenagh']"
   ]
  },
  {
   "cell_type": "code",
   "execution_count": 90,
   "id": "28de2ea6",
   "metadata": {},
   "outputs": [],
   "source": [
    "lon_t = np.array(lon['Town'])\n",
    "lon_post = []\n",
    "for i in range(len(lon_t)):\n",
    "    lon_post.append('N39')"
   ]
  },
  {
   "cell_type": "code",
   "execution_count": 91,
   "id": "a8e7ef1f",
   "metadata": {},
   "outputs": [
    {
     "name": "stderr",
     "output_type": "stream",
     "text": [
      "C:\\Users\\user\\AppData\\Local\\Temp/ipykernel_17884/348769471.py:1: SettingWithCopyWarning: \n",
      "A value is trying to be set on a copy of a slice from a DataFrame.\n",
      "Try using .loc[row_indexer,col_indexer] = value instead\n",
      "\n",
      "See the caveats in the documentation: https://pandas.pydata.org/pandas-docs/stable/user_guide/indexing.html#returning-a-view-versus-a-copy\n",
      "  lon['Eircode'] = lon_post\n"
     ]
    }
   ],
   "source": [
    "lon['Eircode'] = lon_post"
   ]
  },
  {
   "cell_type": "markdown",
   "id": "34539d42",
   "metadata": {},
   "source": [
    "## Westmeath"
   ]
  },
  {
   "cell_type": "code",
   "execution_count": 92,
   "id": "13f88c67",
   "metadata": {},
   "outputs": [
    {
     "data": {
      "text/plain": [
       "(6416, 19)"
      ]
     },
     "execution_count": 92,
     "metadata": {},
     "output_type": "execute_result"
    }
   ],
   "source": [
    "wmeath = irl.loc[irl['County'] == 'Westmeath']\n",
    "wmeath.shape"
   ]
  },
  {
   "cell_type": "code",
   "execution_count": 93,
   "id": "e44379d5",
   "metadata": {},
   "outputs": [
    {
     "data": {
      "text/plain": [
       "['Mullingar',\n",
       " 'Athlone Westmeath',\n",
       " 'Moate',\n",
       " 'Castlepollard',\n",
       " 'Kilbeggan',\n",
       " 'Ballynacargy',\n",
       " 'Rochfortbridge',\n",
       " 'Delvin',\n",
       " 'Multyfarnham',\n",
       " 'Kinnegad',\n",
       " 'Mount Temple',\n",
       " 'Tyrrellspass',\n",
       " 'Raharney',\n",
       " 'Castletown Geoghegan',\n",
       " 'Collinstown',\n",
       " 'Clonmellon',\n",
       " 'Ballymore Westmeath',\n",
       " 'Rathowen',\n",
       " 'Milltownpass',\n",
       " 'Rathconrath',\n",
       " 'Ballinea',\n",
       " 'Streamstown',\n",
       " 'Drumraney',\n",
       " 'Coole',\n",
       " 'Tang',\n",
       " 'Rosemount Westmeath']"
      ]
     },
     "execution_count": 93,
     "metadata": {},
     "output_type": "execute_result"
    }
   ],
   "source": [
    "wmeath_towns = list(wmeath['Town'].unique())\n",
    "wmeath_towns"
   ]
  },
  {
   "cell_type": "code",
   "execution_count": 94,
   "id": "d8be974e",
   "metadata": {},
   "outputs": [],
   "source": [
    "n37 = ['Athlone Westmeath', 'Moate', 'Mount Temple', 'Drumraney', 'Rosemount Westmeath']\n",
    "n91 = ['Mullingar', 'Castlepollard', 'Kilbeggan', 'Ballymore Westmeath', 'Kinnegad', 'Rathowen', 'Rochfortbridge',\n",
    "      'Multyfarnham', 'Collinstown', 'Tyrrellspass', 'Delvin', 'Streamstown', 'Ballinea', 'Ballynacargy', 'Raharney',\n",
    "      'Coole', 'Milltownpass', 'Rathconrath', 'Castletown Geoghegan']\n",
    "c15 = ['Clonmellon']\n",
    "n39 = ['Tang']"
   ]
  },
  {
   "cell_type": "code",
   "execution_count": 95,
   "id": "bf8b48f6",
   "metadata": {},
   "outputs": [],
   "source": [
    "wmeath_t = np.array(wmeath['Town'])\n",
    "wmeath_post = []\n",
    "for i in range(len(wmeath_t)):\n",
    "    if wmeath_t[i] in n37:\n",
    "        wmeath_post.append('N37')\n",
    "    elif wmeath_t[i] in n91:\n",
    "        wmeath_post.append('N91')\n",
    "    elif wmeath_t[i] in c15:\n",
    "        wmeath_post.append('C15')\n",
    "    else:\n",
    "        wmeath_post.append('N39')"
   ]
  },
  {
   "cell_type": "code",
   "execution_count": 96,
   "id": "50740ece",
   "metadata": {},
   "outputs": [
    {
     "name": "stderr",
     "output_type": "stream",
     "text": [
      "C:\\Users\\user\\AppData\\Local\\Temp/ipykernel_17884/1712840505.py:1: SettingWithCopyWarning: \n",
      "A value is trying to be set on a copy of a slice from a DataFrame.\n",
      "Try using .loc[row_indexer,col_indexer] = value instead\n",
      "\n",
      "See the caveats in the documentation: https://pandas.pydata.org/pandas-docs/stable/user_guide/indexing.html#returning-a-view-versus-a-copy\n",
      "  wmeath['Eircode'] = wmeath_post\n"
     ]
    }
   ],
   "source": [
    "wmeath['Eircode'] = wmeath_post"
   ]
  },
  {
   "cell_type": "markdown",
   "id": "4d0827f2",
   "metadata": {},
   "source": [
    "## Offaly"
   ]
  },
  {
   "cell_type": "code",
   "execution_count": 97,
   "id": "d6c96ce5",
   "metadata": {},
   "outputs": [
    {
     "data": {
      "text/plain": [
       "(3932, 19)"
      ]
     },
     "execution_count": 97,
     "metadata": {},
     "output_type": "execute_result"
    }
   ],
   "source": [
    "off = irl.loc[irl['County'] == 'Offaly']\n",
    "off.shape"
   ]
  },
  {
   "cell_type": "code",
   "execution_count": 98,
   "id": "8f750a0a",
   "metadata": {},
   "outputs": [
    {
     "data": {
      "text/plain": [
       "['Tullamore',\n",
       " 'Edenderry',\n",
       " 'Birr',\n",
       " 'Banagher',\n",
       " 'Portarlington Offaly',\n",
       " 'Shinrone',\n",
       " 'Clara Offaly',\n",
       " 'Kinnitty',\n",
       " 'Moneygall',\n",
       " 'Daingean',\n",
       " 'Geashill',\n",
       " 'Kilcormac',\n",
       " 'Rhode',\n",
       " 'Ferbane',\n",
       " 'Ballycumber',\n",
       " 'Killeigh',\n",
       " 'Bracknagh',\n",
       " 'Cloghan Offaly',\n",
       " 'Ballinagar',\n",
       " 'Belmont',\n",
       " 'Walsh Island',\n",
       " 'Mucklagh',\n",
       " 'Rahan',\n",
       " 'Horseleap Offaly',\n",
       " 'Clonygowan',\n",
       " 'Shannonbridge']"
      ]
     },
     "execution_count": 98,
     "metadata": {},
     "output_type": "execute_result"
    }
   ],
   "source": [
    "off_towns = list(off['Town'].unique())\n",
    "off_towns"
   ]
  },
  {
   "cell_type": "code",
   "execution_count": 99,
   "id": "d182ca6e",
   "metadata": {},
   "outputs": [],
   "source": [
    "r42 = ['Birr', 'Banagher', 'Shinrone', 'Belmont', 'Ferbane', 'Kilcormac', 'Cloghan Offaly', 'Kinnitty']\n",
    "r32 = ['Portarlington Offaly']\n",
    "r35 = ['Tullamore', 'Killeigh', 'Clara Offaly', 'Daingean', 'Ballinagar', 'Geashill', 'Rhode', 'Ballycumber', 'Walsh Island',\n",
    "      'Mucklagh', 'Clonygowan', 'Rahan']\n",
    "r45 = ['Edenderry']\n",
    "r51 = ['Bracknagh']\n",
    "e53 = ['Moneygall']\n",
    "n37 = ['Shannonbridge', 'Horseleap Offaly']"
   ]
  },
  {
   "cell_type": "code",
   "execution_count": 100,
   "id": "692258b6",
   "metadata": {},
   "outputs": [],
   "source": [
    "off_t = np.array(off['Town'])\n",
    "off_post = []\n",
    "for i in range(len(off_t)):\n",
    "    if off_t[i] in n37:\n",
    "        off_post.append('N37')\n",
    "    elif off_t[i] in r42:\n",
    "        off_post.append('R42')\n",
    "    elif off_t[i] in r32:\n",
    "        off_post.append('R32')\n",
    "    elif off_t[i] in r35:\n",
    "        off_post.append('R35')\n",
    "    elif off_t[i] in r45:\n",
    "        off_post.append('R45')\n",
    "    elif off_t[i] in r51:\n",
    "        off_post.append('R51')\n",
    "    else:\n",
    "        off_post.append('E53')"
   ]
  },
  {
   "cell_type": "code",
   "execution_count": 101,
   "id": "5d2e2f1c",
   "metadata": {},
   "outputs": [
    {
     "name": "stderr",
     "output_type": "stream",
     "text": [
      "C:\\Users\\user\\AppData\\Local\\Temp/ipykernel_17884/2565711037.py:1: SettingWithCopyWarning: \n",
      "A value is trying to be set on a copy of a slice from a DataFrame.\n",
      "Try using .loc[row_indexer,col_indexer] = value instead\n",
      "\n",
      "See the caveats in the documentation: https://pandas.pydata.org/pandas-docs/stable/user_guide/indexing.html#returning-a-view-versus-a-copy\n",
      "  off['Eircode'] = off_post\n"
     ]
    }
   ],
   "source": [
    "off['Eircode'] = off_post"
   ]
  },
  {
   "cell_type": "markdown",
   "id": "e72d1267",
   "metadata": {},
   "source": [
    "## Carlow"
   ]
  },
  {
   "cell_type": "code",
   "execution_count": 102,
   "id": "b655b405",
   "metadata": {},
   "outputs": [
    {
     "data": {
      "text/plain": [
       "(2622, 19)"
      ]
     },
     "execution_count": 102,
     "metadata": {},
     "output_type": "execute_result"
    }
   ],
   "source": [
    "car = irl.loc[irl['County'] == 'Carlow']\n",
    "car.shape"
   ]
  },
  {
   "cell_type": "code",
   "execution_count": 103,
   "id": "9581084a",
   "metadata": {},
   "outputs": [
    {
     "data": {
      "text/plain": [
       "['Carlow Town',\n",
       " 'Tullow',\n",
       " 'Hacketstown',\n",
       " 'Ballinabranna',\n",
       " 'Ballon',\n",
       " 'Borris',\n",
       " 'Myshall',\n",
       " 'Ardattin',\n",
       " 'Kildavin',\n",
       " 'Leighlinbridge',\n",
       " 'Rathvilly',\n",
       " 'Clonegal',\n",
       " 'Muine Bheag',\n",
       " 'Nurney Carlow',\n",
       " 'Palatine',\n",
       " 'St Mullins',\n",
       " 'Tinryland',\n",
       " 'Graiguenamanagh Carlow',\n",
       " 'Old Leighlin',\n",
       " 'Bilboa',\n",
       " 'Ballymurphy']"
      ]
     },
     "execution_count": 103,
     "metadata": {},
     "output_type": "execute_result"
    }
   ],
   "source": [
    "car_towns = list(car['Town'].unique())\n",
    "car_towns"
   ]
  },
  {
   "cell_type": "code",
   "execution_count": 104,
   "id": "555c24aa",
   "metadata": {},
   "outputs": [],
   "source": [
    "r93 = ['Tullow', 'Graiguenamanagh Carlow', 'Carlow Town', 'Ballon', 'Palatine', 'Nurney Carlow', 'Leighlinbridge', 'Hacketstown',\n",
    "      'Rathvilly', 'Old Leighlin', 'Ballinabranna', 'Ardattin', 'Tinryland', 'Bilboa']\n",
    "y21 = ['Clonegal', 'Kildavin']\n",
    "r95 = ['Borris', 'St Mullins', 'Ballymurphy']\n",
    "r21 = ['Myshall', 'Muine Bheag']"
   ]
  },
  {
   "cell_type": "code",
   "execution_count": 105,
   "id": "ddb12bc4",
   "metadata": {},
   "outputs": [],
   "source": [
    "car_t = np.array(car['Town'])\n",
    "car_post = []\n",
    "for i in range(len(car_t)):\n",
    "    if car_t[i] in r93:\n",
    "        car_post.append('R93')\n",
    "    elif car_t[i] in y21:\n",
    "        car_post.append('Y21')\n",
    "    elif car_t[i] in r95:\n",
    "        car_post.append('R95')\n",
    "    else:\n",
    "        car_post.append('R21')"
   ]
  },
  {
   "cell_type": "code",
   "execution_count": 106,
   "id": "900fb451",
   "metadata": {},
   "outputs": [
    {
     "name": "stderr",
     "output_type": "stream",
     "text": [
      "C:\\Users\\user\\AppData\\Local\\Temp/ipykernel_17884/1541190376.py:1: SettingWithCopyWarning: \n",
      "A value is trying to be set on a copy of a slice from a DataFrame.\n",
      "Try using .loc[row_indexer,col_indexer] = value instead\n",
      "\n",
      "See the caveats in the documentation: https://pandas.pydata.org/pandas-docs/stable/user_guide/indexing.html#returning-a-view-versus-a-copy\n",
      "  car['Eircode'] = car_post\n"
     ]
    }
   ],
   "source": [
    "car['Eircode'] = car_post"
   ]
  },
  {
   "cell_type": "markdown",
   "id": "e75d05d9",
   "metadata": {},
   "source": [
    "## Laois"
   ]
  },
  {
   "cell_type": "code",
   "execution_count": 107,
   "id": "8629d82f",
   "metadata": {},
   "outputs": [
    {
     "data": {
      "text/plain": [
       "(4752, 19)"
      ]
     },
     "execution_count": 107,
     "metadata": {},
     "output_type": "execute_result"
    }
   ],
   "source": [
    "laois = irl.loc[irl['County'] == 'Laois']\n",
    "laois.shape"
   ]
  },
  {
   "cell_type": "code",
   "execution_count": 108,
   "id": "0bfc0855",
   "metadata": {},
   "outputs": [
    {
     "data": {
      "text/plain": [
       "['Portlaoise',\n",
       " 'Portarlington Laois',\n",
       " 'Killenard',\n",
       " 'Mountmellick',\n",
       " 'Rathdowney',\n",
       " 'Stradbally Laois',\n",
       " 'Mountrath',\n",
       " 'Abbeyleix',\n",
       " 'Durrow Laois',\n",
       " 'Ballinakill',\n",
       " 'Ballyroan',\n",
       " 'Ballacolla',\n",
       " 'Castletown Laois',\n",
       " 'Ballybrittas',\n",
       " 'Emo',\n",
       " 'Ballickmoyler',\n",
       " 'Ballylinan',\n",
       " 'Clonaslee',\n",
       " 'Crettyard',\n",
       " 'Timahoe',\n",
       " 'Killeshin',\n",
       " 'Rosenallis',\n",
       " 'The Swan',\n",
       " 'Vicarstown',\n",
       " 'Clough',\n",
       " 'Ballyhide',\n",
       " 'Kilbricken',\n",
       " 'Errill',\n",
       " 'Newtown Laois',\n",
       " 'Ballybrophy',\n",
       " 'Spink']"
      ]
     },
     "execution_count": 108,
     "metadata": {},
     "output_type": "execute_result"
    }
   ],
   "source": [
    "laois_towns = list(laois['Town'].unique())\n",
    "laois_towns"
   ]
  },
  {
   "cell_type": "code",
   "execution_count": 109,
   "id": "830d4cb4",
   "metadata": {},
   "outputs": [],
   "source": [
    "r32 = ['Portlaoise', 'Stradbally Laois', 'Mountmellick', 'Rathdowney', 'Mountrath', 'Ballybrittas', 'Killenard',\n",
    "      'Portarlington Laois', 'Durrow Laois', 'Ballacolla', 'Ballinakill', 'Abbeyleix', 'Emo', 'Clonaslee', 'Ballyroan',\n",
    "      'Timahoe', 'Castletown Laois', 'Newtown Laois', 'Rosenallis', 'Spink', 'Vicarstown', 'Errill', 'Ballybrophy',\n",
    "      'Kilbricken', 'Clough']\n",
    "r14 = ['Ballylinan', 'The Swan']\n",
    "r93 = ['Crettyard', 'Ballickmoyler', 'Killeshin', 'Ballyhide']"
   ]
  },
  {
   "cell_type": "code",
   "execution_count": 110,
   "id": "a0894819",
   "metadata": {},
   "outputs": [],
   "source": [
    "laois_t = np.array(laois['Town'])\n",
    "laois_post = []\n",
    "for i in range(len(laois_t)):\n",
    "    if laois_t[i] in r32:\n",
    "        laois_post.append('R32')\n",
    "    elif laois_t[i] in r14:\n",
    "        laois_post.append('R14')\n",
    "    else:\n",
    "        laois_post.append('R93')"
   ]
  },
  {
   "cell_type": "code",
   "execution_count": 111,
   "id": "7e4e33a2",
   "metadata": {},
   "outputs": [
    {
     "name": "stderr",
     "output_type": "stream",
     "text": [
      "C:\\Users\\user\\AppData\\Local\\Temp/ipykernel_17884/3455821781.py:1: SettingWithCopyWarning: \n",
      "A value is trying to be set on a copy of a slice from a DataFrame.\n",
      "Try using .loc[row_indexer,col_indexer] = value instead\n",
      "\n",
      "See the caveats in the documentation: https://pandas.pydata.org/pandas-docs/stable/user_guide/indexing.html#returning-a-view-versus-a-copy\n",
      "  laois['Eircode'] = laois_post\n"
     ]
    }
   ],
   "source": [
    "laois['Eircode'] = laois_post"
   ]
  },
  {
   "cell_type": "markdown",
   "id": "af327110",
   "metadata": {},
   "source": [
    "## Kilkenny"
   ]
  },
  {
   "cell_type": "code",
   "execution_count": 112,
   "id": "5ec99218",
   "metadata": {},
   "outputs": [
    {
     "data": {
      "text/plain": [
       "(4037, 19)"
      ]
     },
     "execution_count": 112,
     "metadata": {},
     "output_type": "execute_result"
    }
   ],
   "source": [
    "kilk = irl.loc[irl['County'] == 'Kilkenny']\n",
    "kilk.shape"
   ]
  },
  {
   "cell_type": "code",
   "execution_count": 113,
   "id": "2d0f8b0a",
   "metadata": {},
   "outputs": [
    {
     "data": {
      "text/plain": [
       "['Kilkenny City',\n",
       " 'Ferrybank Kilkenny',\n",
       " 'Thomastown',\n",
       " 'Kilmacow',\n",
       " 'Kilmoganny',\n",
       " 'Gowran',\n",
       " 'Piltown',\n",
       " 'Graiguenamanagh Kilkenny',\n",
       " 'Callan',\n",
       " 'Mooncoin',\n",
       " 'Castlecomer',\n",
       " 'Paulstown',\n",
       " 'Goresbridge',\n",
       " 'Urlingford',\n",
       " 'Stoneyford',\n",
       " 'Bennettsbridge',\n",
       " 'Inistioge',\n",
       " 'Freshford',\n",
       " 'Ballyragget',\n",
       " 'Fiddown',\n",
       " 'Mullinavat',\n",
       " 'Slieverue',\n",
       " 'Ballyhale',\n",
       " 'Johnstown Kilkenny',\n",
       " 'Dunnamaggin',\n",
       " 'Windgap',\n",
       " 'Tullaroan',\n",
       " 'Hugginstown',\n",
       " 'Glenmore',\n",
       " 'Kells Kilkenny',\n",
       " 'Galmoy',\n",
       " 'Knocktopher',\n",
       " 'Tullogher',\n",
       " 'Carrigeen',\n",
       " 'The Rower',\n",
       " 'Johnswell',\n",
       " 'Clogh',\n",
       " 'Castlewarren',\n",
       " 'Dungarvan Kilkenny',\n",
       " 'Moneenroe']"
      ]
     },
     "execution_count": 113,
     "metadata": {},
     "output_type": "execute_result"
    }
   ],
   "source": [
    "kilk_towns = list(kilk['Town'].unique())\n",
    "kilk_towns"
   ]
  },
  {
   "cell_type": "code",
   "execution_count": 114,
   "id": "1ada20b8",
   "metadata": {},
   "outputs": [],
   "source": [
    "r95 = ['Castlecomer', 'Ballyragget', 'Inistioge', 'Callan', 'Knocktopher', 'Gowran', 'Goresbridge', 'Paulstown',\n",
    "      'Thomastown', 'Castlewarren', 'Kells Kilkenny', 'Kilkenny', 'Kilkenny City', 'Graiguenamanagh Kilkenny', 'Bennettsbridge',\n",
    "      'Freshford', 'Stoneyford', 'The Rower', 'Dunnamaggin', 'Tullaroan', 'Hugginstown', 'Johnswell', 'Ballyhale',\n",
    "      'Kilmoganny', 'Dungarvan Kilkenny', 'Moneenroe', 'Windgap', 'Clogh']\n",
    "e32 = ['Fiddown', 'Piltown']\n",
    "x91 = ['Ferrybank Kilkenny', 'Mullinavat', 'Mooncoin', 'Carrigeen', 'Kilmacow', 'Slieverue', 'Tullogher']\n",
    "e41 = ['Johnstown Kilkenny', 'Urlingford', 'Galmoy']\n",
    "y34 = ['Glenmore']"
   ]
  },
  {
   "cell_type": "code",
   "execution_count": 115,
   "id": "43d4db0c",
   "metadata": {},
   "outputs": [],
   "source": [
    "kilk_t = np.array(kilk['Town'])\n",
    "kilk_post = []\n",
    "for i in range(len(kilk_t)):\n",
    "    if kilk_t[i] in r95:\n",
    "        kilk_post.append('R95')\n",
    "    elif kilk_t[i] in e32:\n",
    "        kilk_post.append('E32')\n",
    "    elif kilk_t[i] in x91:\n",
    "        kilk_post.append('X91')\n",
    "    elif kilk_t[i] in e41:\n",
    "        kilk_post.append('E41')\n",
    "    else:\n",
    "        kilk_post.append('Y34')"
   ]
  },
  {
   "cell_type": "code",
   "execution_count": 116,
   "id": "5d8c7343",
   "metadata": {},
   "outputs": [
    {
     "name": "stderr",
     "output_type": "stream",
     "text": [
      "C:\\Users\\user\\AppData\\Local\\Temp/ipykernel_17884/445531358.py:1: SettingWithCopyWarning: \n",
      "A value is trying to be set on a copy of a slice from a DataFrame.\n",
      "Try using .loc[row_indexer,col_indexer] = value instead\n",
      "\n",
      "See the caveats in the documentation: https://pandas.pydata.org/pandas-docs/stable/user_guide/indexing.html#returning-a-view-versus-a-copy\n",
      "  kilk['Eircode'] = kilk_post\n"
     ]
    }
   ],
   "source": [
    "kilk['Eircode'] = kilk_post"
   ]
  },
  {
   "cell_type": "markdown",
   "id": "b058cfbf",
   "metadata": {},
   "source": [
    "## Meath"
   ]
  },
  {
   "cell_type": "code",
   "execution_count": 117,
   "id": "cc98d679",
   "metadata": {},
   "outputs": [
    {
     "data": {
      "text/plain": [
       "(14064, 19)"
      ]
     },
     "execution_count": 117,
     "metadata": {},
     "output_type": "execute_result"
    }
   ],
   "source": [
    "mea = irl.loc[irl['County'] == 'Meath']\n",
    "mea.shape"
   ]
  },
  {
   "cell_type": "code",
   "execution_count": 118,
   "id": "10006c03",
   "metadata": {},
   "outputs": [
    {
     "data": {
      "text/plain": [
       "['Navan',\n",
       " 'Ashbourne',\n",
       " 'Ratoath',\n",
       " 'Dunshaughlin',\n",
       " 'Dunboyne',\n",
       " 'Summerhill',\n",
       " 'Drogheda Meath',\n",
       " 'Trim',\n",
       " 'Athboy',\n",
       " 'Laytown',\n",
       " 'Kells Meath',\n",
       " 'Oldcastle',\n",
       " 'Donacarney',\n",
       " 'Julianstown',\n",
       " 'Bettystown',\n",
       " 'Enfield',\n",
       " 'Ballivor',\n",
       " 'Longwood',\n",
       " 'Mornington',\n",
       " 'Stamullen',\n",
       " 'Duleek',\n",
       " 'Slane',\n",
       " 'Drumree',\n",
       " 'Clonee',\n",
       " 'Ardcath',\n",
       " 'Donore',\n",
       " 'Kilmessan',\n",
       " 'Nobber',\n",
       " 'Clonard',\n",
       " 'Batterstown',\n",
       " 'Carlanstown',\n",
       " 'Kildalkey',\n",
       " 'Drumconrath',\n",
       " 'Kilcloon',\n",
       " 'Kentstown',\n",
       " 'Rathmolyon',\n",
       " 'Robinstown',\n",
       " 'Gormanston',\n",
       " 'Carnaross',\n",
       " 'Bellewstown',\n",
       " 'Moynalty',\n",
       " 'Bective']"
      ]
     },
     "execution_count": 118,
     "metadata": {},
     "output_type": "execute_result"
    }
   ],
   "source": [
    "mea_towns = list(mea['Town'].unique())\n",
    "mea_towns"
   ]
  },
  {
   "cell_type": "code",
   "execution_count": 119,
   "id": "9da3cc67",
   "metadata": {},
   "outputs": [],
   "source": [
    "a85 = ['Dunshaughlin', 'Ratoath', 'Kilcloon', 'Drumree']\n",
    "c15 = ['Navan', 'Trim', 'Athboy', 'Ballivor', 'Slane', 'Kildalkey', 'Kilmessan', 'Kentstown', 'Bective', 'Drumconrath',\n",
    "      'Robinstown']\n",
    "a82 = ['Kells Meath', 'Donore', 'Nobber', 'Oldcastle', 'Carnaross', 'Carlanstown', 'Moynalty']\n",
    "a86 = ['Betterstown', 'Dunboyne']\n",
    "a84 = ['Ashbourne']\n",
    "k32 = ['Stamullen', 'Gormanston']\n",
    "a92 = ['Drogheda Meath', 'Bettystown', 'Mornington', 'Laytown', 'Duleek', 'Julianstown', 'Donacarney', 'Bellewstown']\n",
    "a83 = ['Enfield', 'Longwood', 'Summerhill', 'Clonard', 'Rathmolyon']\n",
    "d15 = ['Clonee']\n",
    "a42 = ['Ardcath']"
   ]
  },
  {
   "cell_type": "code",
   "execution_count": 120,
   "id": "60550ff8",
   "metadata": {},
   "outputs": [],
   "source": [
    "meath_t = np.array(mea['Town'])\n",
    "meath_post = []\n",
    "for i in range(len(meath_t)):\n",
    "    if meath_t[i] in a85:\n",
    "        meath_post.append('A85')\n",
    "    elif meath_t[i] in c15:\n",
    "        meath_post.append('C15')\n",
    "    elif meath_t[i] in a82:\n",
    "        meath_post.append('A82')\n",
    "    elif meath_t[i] in a86:\n",
    "        meath_post.append('A86')\n",
    "    elif meath_t[i] in a84:\n",
    "        meath_post.append('A84')\n",
    "    elif meath_t[i] in k32:\n",
    "        meath_post.append('K32')\n",
    "    elif meath_t[i] in a92:\n",
    "        meath_post.append('A92')\n",
    "    elif meath_t[i] in a83:\n",
    "        meath_post.append('A83')\n",
    "    elif meath_t[i] in d15:\n",
    "        meath_post.append('D15')\n",
    "    else:\n",
    "        meath_post.append('D42')"
   ]
  },
  {
   "cell_type": "code",
   "execution_count": 121,
   "id": "cda78efd",
   "metadata": {},
   "outputs": [
    {
     "name": "stderr",
     "output_type": "stream",
     "text": [
      "C:\\Users\\user\\AppData\\Local\\Temp/ipykernel_17884/2902502723.py:1: SettingWithCopyWarning: \n",
      "A value is trying to be set on a copy of a slice from a DataFrame.\n",
      "Try using .loc[row_indexer,col_indexer] = value instead\n",
      "\n",
      "See the caveats in the documentation: https://pandas.pydata.org/pandas-docs/stable/user_guide/indexing.html#returning-a-view-versus-a-copy\n",
      "  mea['Eircode'] = meath_post\n"
     ]
    }
   ],
   "source": [
    "mea['Eircode'] = meath_post"
   ]
  },
  {
   "cell_type": "markdown",
   "id": "0427c326",
   "metadata": {},
   "source": [
    "## Kildare"
   ]
  },
  {
   "cell_type": "code",
   "execution_count": 122,
   "id": "fc7f1f82",
   "metadata": {},
   "outputs": [
    {
     "data": {
      "text/plain": [
       "(17708, 19)"
      ]
     },
     "execution_count": 122,
     "metadata": {},
     "output_type": "execute_result"
    }
   ],
   "source": [
    "kil = irl.loc[irl['County'] == 'Kildare']\n",
    "kil.shape"
   ]
  },
  {
   "cell_type": "code",
   "execution_count": 123,
   "id": "55af93f0",
   "metadata": {},
   "outputs": [
    {
     "data": {
      "text/plain": [
       "['Rathangan',\n",
       " 'Naas',\n",
       " 'Celbridge',\n",
       " 'Newbridge Kildare',\n",
       " 'Straffan',\n",
       " 'Clane',\n",
       " 'Leixlip',\n",
       " 'Kilcullen',\n",
       " 'Maynooth',\n",
       " 'Calverstown',\n",
       " 'Athy',\n",
       " 'Sallins',\n",
       " 'Castledermot',\n",
       " 'Kilcock',\n",
       " 'Coill Dubh',\n",
       " 'Kill Kildare',\n",
       " 'Derrinturn',\n",
       " 'Monasterevin',\n",
       " 'Athgarvan',\n",
       " 'Nurney Kildare',\n",
       " 'Kildare',\n",
       " 'Carbury Kildare',\n",
       " 'Ballymore Eustace',\n",
       " 'Prosperous',\n",
       " 'Johnstown Kildare',\n",
       " 'Kildangan',\n",
       " 'Allenwood',\n",
       " 'Robertstown',\n",
       " 'Rathcoffey',\n",
       " 'Crookstown Kildare',\n",
       " 'Kilkea',\n",
       " 'Johnstownbridge',\n",
       " 'Ballitore',\n",
       " 'Suncroft',\n",
       " 'Moone',\n",
       " 'Narraghmore',\n",
       " 'Caragh',\n",
       " 'Allen',\n",
       " 'Staplestown',\n",
       " 'Timolin',\n",
       " 'Ardclough',\n",
       " 'Brownstown',\n",
       " 'Kilteel']"
      ]
     },
     "execution_count": 123,
     "metadata": {},
     "output_type": "execute_result"
    }
   ],
   "source": [
    "kild_towns = list(kil['Town'].unique())\n",
    "kild_towns"
   ]
  },
  {
   "cell_type": "code",
   "execution_count": 124,
   "id": "a521a0ca",
   "metadata": {},
   "outputs": [],
   "source": [
    "w23 = ['Maynooth', 'Straffan', 'Celbridge', 'Leixlip', 'Kilcock', 'Ardclough']\n",
    "r14 = ['Athy', 'Timolin', 'Ballitore', 'Castledermot', 'Crookstown Kildare', 'Kilkea', 'Narraghmore', 'Moone']\n",
    "w12 = ['Newbridge Kildare']\n",
    "w91 = ['Clane', 'Naas', 'Caragh', 'Kill Kildare', 'Johnstown Kildare', 'Sallins', 'Allenwood', 'Carbury', 'Ballymore Eustace',\n",
    "      'Derrinturn', 'Prosperous', 'Coill Dubh', 'Rathcoffey', 'Robertstown', 'Allen', 'Kilteel', 'Staplestown']\n",
    "r56 = ['Kilcullen', 'Athgarvan', 'Suncroft', 'Calverstown', 'Brownstown']\n",
    "r51 = ['Rathangan', 'Kildare', 'Kildare Village', 'Nurney Kildare']\n",
    "w34 = ['Monasterevin', 'Kildangan']\n",
    "a83 = ['Johnstownbridge']"
   ]
  },
  {
   "cell_type": "code",
   "execution_count": 125,
   "id": "892dab9b",
   "metadata": {},
   "outputs": [],
   "source": [
    "kild_t = np.array(kil['Town'])\n",
    "kild_post = []\n",
    "for i in range(len(kild_t)):\n",
    "    if kild_t[i] in w23:\n",
    "        kild_post.append('W23')\n",
    "    elif kild_t[i] in r14:\n",
    "        kild_post.append('R14')\n",
    "    elif kild_t[i] in w12:\n",
    "        kild_post.append('W12')\n",
    "    elif kild_t[i] in w91:\n",
    "        kild_post.append('W91')\n",
    "    elif kild_t[i] in r56:\n",
    "        kild_post.append('R56')\n",
    "    elif kild_t[i] in r51:\n",
    "        kild_post.append('R51')\n",
    "    elif kild_t[i] in a92:\n",
    "        kild_post.append('W34')\n",
    "    else:\n",
    "        kild_post.append('A83')"
   ]
  },
  {
   "cell_type": "code",
   "execution_count": 126,
   "id": "9cf780b0",
   "metadata": {},
   "outputs": [
    {
     "name": "stderr",
     "output_type": "stream",
     "text": [
      "C:\\Users\\user\\AppData\\Local\\Temp/ipykernel_17884/2849659743.py:1: SettingWithCopyWarning: \n",
      "A value is trying to be set on a copy of a slice from a DataFrame.\n",
      "Try using .loc[row_indexer,col_indexer] = value instead\n",
      "\n",
      "See the caveats in the documentation: https://pandas.pydata.org/pandas-docs/stable/user_guide/indexing.html#returning-a-view-versus-a-copy\n",
      "  kil['Eircode'] = kild_post\n"
     ]
    }
   ],
   "source": [
    "kil['Eircode'] = kild_post"
   ]
  },
  {
   "cell_type": "markdown",
   "id": "2dcebee2",
   "metadata": {},
   "source": [
    "## Wexford"
   ]
  },
  {
   "cell_type": "code",
   "execution_count": 127,
   "id": "9eefcac2",
   "metadata": {},
   "outputs": [
    {
     "data": {
      "text/plain": [
       "(10337, 19)"
      ]
     },
     "execution_count": 127,
     "metadata": {},
     "output_type": "execute_result"
    }
   ],
   "source": [
    "wex = irl.loc[irl['County'] == 'Wexford']\n",
    "wex.shape"
   ]
  },
  {
   "cell_type": "code",
   "execution_count": 128,
   "id": "7c5e8c67",
   "metadata": {},
   "outputs": [
    {
     "data": {
      "text/plain": [
       "['Gorey',\n",
       " 'Enniscorthy',\n",
       " 'Murrintown',\n",
       " 'Saltmills',\n",
       " 'Ballindaggin',\n",
       " 'Kilmuckridge',\n",
       " 'New Ross',\n",
       " 'Courtown',\n",
       " 'Kilmore Quay',\n",
       " 'Kilrane',\n",
       " 'Castlebridge',\n",
       " 'Rosslare Strand',\n",
       " 'Curracloe',\n",
       " 'Taghmon',\n",
       " 'Duncormick',\n",
       " 'Bridgetown Wexford',\n",
       " 'Wellingtonbridge',\n",
       " 'Oylegate',\n",
       " 'Blackwater',\n",
       " 'Ballyhack',\n",
       " 'Riverchapel',\n",
       " 'Barntown',\n",
       " 'Ferns',\n",
       " 'Wexford',\n",
       " 'Kilmore Wexford',\n",
       " 'Tagoat',\n",
       " 'Campile',\n",
       " 'Bunclody',\n",
       " 'Arthurstown',\n",
       " 'Rosslare Harbour',\n",
       " 'Adamstown Wexford',\n",
       " 'Cleariestown',\n",
       " 'Ballymurn',\n",
       " 'Inch Wexford',\n",
       " 'Bannow',\n",
       " 'Ballygarrett',\n",
       " 'Newbawn',\n",
       " 'Camolin',\n",
       " 'Oulart',\n",
       " 'Clonroche',\n",
       " 'Clohamon',\n",
       " 'Crossabeg',\n",
       " 'Duncannon',\n",
       " 'Ballycanew',\n",
       " 'Killurin',\n",
       " 'Bree',\n",
       " 'Ballycullane',\n",
       " 'Broadway',\n",
       " 'Rosbercon Wexford',\n",
       " 'Craanford',\n",
       " 'Hollyfort',\n",
       " 'The Ballagh',\n",
       " 'Tacumshane',\n",
       " 'Kiltealy',\n",
       " 'Castletown Wexford',\n",
       " 'Morriscastle',\n",
       " 'Rathnure',\n",
       " 'Ballywilliam',\n",
       " 'Coolgreany',\n",
       " 'Ballyhogue',\n",
       " 'Monageer']"
      ]
     },
     "execution_count": 128,
     "metadata": {},
     "output_type": "execute_result"
    }
   ],
   "source": [
    "wex_towns = list(wex['Town'].unique())\n",
    "wex_towns"
   ]
  },
  {
   "cell_type": "code",
   "execution_count": 129,
   "id": "c7b718c5",
   "metadata": {},
   "outputs": [
    {
     "data": {
      "text/plain": [
       "61"
      ]
     },
     "execution_count": 129,
     "metadata": {},
     "output_type": "execute_result"
    }
   ],
   "source": [
    "len(wex_towns)"
   ]
  },
  {
   "cell_type": "code",
   "execution_count": 133,
   "id": "24a3c82a",
   "metadata": {},
   "outputs": [],
   "source": [
    "y25 = ['Gorey', 'Kilmuckridge', 'Courtown', 'Riverchapel', 'Inch Wexford', 'Ballygarrett', 'Oulart', 'Ballycanew',\n",
    "      'Craanford', 'Hollyfort', 'Castletown Wexford', 'Morriscastle', 'Coolgreany']\n",
    "y21 = ['Enniscorthy', 'Ballindaggin', 'Curracloe', 'Oylegate', 'Blackwater', 'Ferns', 'Bunclody', 'Adamstown Wexford',\n",
    "      'Ballymurn', 'Camolin', 'Clonroche', 'Clohamon', 'Killurin', 'Bree', 'The Ballagh', 'Kiltealy', 'Rathnure',\n",
    "      'Ballywilliam', 'Ballyhogue', 'Monageer']\n",
    "y35 = ['Murrintown', 'Kilmore Quay', 'Kilrane', 'Castlebridge', 'Rosslare Strand', 'Taghmon', 'Duncormick', 'Bridgetown Wexford',\n",
    "      'Wellingtonbridge', 'Barntown', 'Wexford', 'Wexford Town', 'Kilmore Wexford', 'Tagoat', 'Rosslare Harbour', 'Cleariestown',\n",
    "      'Bannow', 'Newbawn', 'Crossabeg', 'Broadway', 'Tacumshane']\n",
    "y34 = ['Saltmills', 'New Ross', 'Ballyhack', 'Campile', 'Arthurstown', 'Duncannon', 'Ballycullane', 'Rosbercon Wexford']"
   ]
  },
  {
   "cell_type": "code",
   "execution_count": 134,
   "id": "b00fd90f",
   "metadata": {},
   "outputs": [],
   "source": [
    "wex_t = np.array(wex['Town'])\n",
    "wex_post = []\n",
    "for i in range(len(wex_t)):\n",
    "    if wex_t[i] in y25:\n",
    "        wex_post.append('Y25')\n",
    "    elif wex_t[i] in y21:\n",
    "        wex_post.append('Y21')\n",
    "    elif wex_t[i] in y35:\n",
    "        wex_post.append('Y35')\n",
    "    else:\n",
    "        wex_post.append('Y34')"
   ]
  },
  {
   "cell_type": "code",
   "execution_count": 135,
   "id": "69dd826a",
   "metadata": {},
   "outputs": [
    {
     "name": "stderr",
     "output_type": "stream",
     "text": [
      "C:\\Users\\user\\AppData\\Local\\Temp/ipykernel_17884/142115142.py:1: SettingWithCopyWarning: \n",
      "A value is trying to be set on a copy of a slice from a DataFrame.\n",
      "Try using .loc[row_indexer,col_indexer] = value instead\n",
      "\n",
      "See the caveats in the documentation: https://pandas.pydata.org/pandas-docs/stable/user_guide/indexing.html#returning-a-view-versus-a-copy\n",
      "  wex['Eircode'] = wex_post\n"
     ]
    }
   ],
   "source": [
    "wex['Eircode'] = wex_post"
   ]
  },
  {
   "cell_type": "markdown",
   "id": "96cb41a1",
   "metadata": {},
   "source": [
    "## Wicklow"
   ]
  },
  {
   "cell_type": "code",
   "execution_count": 130,
   "id": "80f56036",
   "metadata": {},
   "outputs": [
    {
     "data": {
      "text/plain": [
       "(10642, 19)"
      ]
     },
     "execution_count": 130,
     "metadata": {},
     "output_type": "execute_result"
    }
   ],
   "source": [
    "wick = irl.loc[irl['County'] == 'Wicklow']\n",
    "wick.shape"
   ]
  },
  {
   "cell_type": "code",
   "execution_count": 131,
   "id": "bea76626",
   "metadata": {},
   "outputs": [
    {
     "data": {
      "text/plain": [
       "['Arklow',\n",
       " 'Kilquade',\n",
       " 'Greystones',\n",
       " 'Delgany',\n",
       " 'Blessington',\n",
       " 'Bray',\n",
       " 'Rathnew',\n",
       " 'Aughrim Wicklow',\n",
       " 'Ashford Wicklow',\n",
       " 'Redcross',\n",
       " 'Glenealy',\n",
       " 'Kilcoole',\n",
       " 'Dunlavin',\n",
       " 'Kilmacanogue',\n",
       " 'Rathdrum',\n",
       " 'Newtownmountkennedy',\n",
       " 'Shillelagh',\n",
       " 'Avoca',\n",
       " 'Roundwood',\n",
       " 'Hollywood',\n",
       " 'Wicklow',\n",
       " 'Enniskerry',\n",
       " 'Tinahely',\n",
       " 'Kilpedder',\n",
       " 'Grangecon',\n",
       " 'Carnew',\n",
       " 'Newcastle Wicklow',\n",
       " 'Donard',\n",
       " 'Baltinglass',\n",
       " 'Barndarrig',\n",
       " 'Kiltegan',\n",
       " 'Woodenbridge',\n",
       " 'Laragh',\n",
       " 'Kilbride',\n",
       " 'Knockananna',\n",
       " 'Valleymount',\n",
       " 'Glendalough',\n",
       " 'Ballinaclash',\n",
       " 'Coolboy',\n",
       " 'Annamoe',\n",
       " 'Killincarrig']"
      ]
     },
     "execution_count": 131,
     "metadata": {},
     "output_type": "execute_result"
    }
   ],
   "source": [
    "wick_towns = list(wick['Town'].unique())\n",
    "wick_towns"
   ]
  },
  {
   "cell_type": "code",
   "execution_count": 132,
   "id": "41cdfda3",
   "metadata": {},
   "outputs": [
    {
     "data": {
      "text/plain": [
       "41"
      ]
     },
     "execution_count": 132,
     "metadata": {},
     "output_type": "execute_result"
    }
   ],
   "source": [
    "len(wick_towns)"
   ]
  },
  {
   "cell_type": "code",
   "execution_count": 136,
   "id": "b2090928",
   "metadata": {},
   "outputs": [],
   "source": [
    "y14 = ['Arklow', 'Aughrim Wicklow', 'Shillelagh', 'Avoca', 'Tinahely', 'Carnew', 'Woodenbridge', 'Knockananna', 'Coolboy']\n",
    "a63 = ['Kilquade', 'Greystones', 'Delgany', 'Kilcoole', 'Newtownmountkennedy', 'Kilpedder', 'Newcastle Wicklow', 'Killincarrig']\n",
    "w91 = ['Blessington', 'Dunlavin', 'Hollywood', 'Grangecon', 'Donard', 'Baltinglass', 'Kiltegan', 'Valleymount']\n",
    "a98 = ['Bray', 'Kilmacanogue', 'Roundwood', 'Enniskerry', 'Laragh', 'Glendalough', 'Annamoe']\n",
    "a67 = ['Rathnew', 'Ashford Wicklow', 'Redcross', 'Glenealy', 'Rathdrum', 'Wicklow', 'Wicklow Town', 'Kilbride', 'Ballinaclash']"
   ]
  },
  {
   "cell_type": "code",
   "execution_count": 137,
   "id": "04da66aa",
   "metadata": {},
   "outputs": [],
   "source": [
    "wick_t = np.array(wick['Town'])\n",
    "wick_post = []\n",
    "for i in range(len(wick_t)):\n",
    "    if wick_t[i] in y14:\n",
    "        wick_post.append('Y14')\n",
    "    elif wick_t[i] in a63:\n",
    "        wick_post.append('A63')\n",
    "    elif wick_t[i] in w91:\n",
    "        wick_post.append('W91')\n",
    "    elif wick_t[i] in a98:\n",
    "        wick_post.append('A98')\n",
    "    else:\n",
    "        wick_post.append('A67')"
   ]
  },
  {
   "cell_type": "code",
   "execution_count": 138,
   "id": "7b3e6f45",
   "metadata": {},
   "outputs": [
    {
     "name": "stderr",
     "output_type": "stream",
     "text": [
      "C:\\Users\\user\\AppData\\Local\\Temp/ipykernel_17884/2861942926.py:1: SettingWithCopyWarning: \n",
      "A value is trying to be set on a copy of a slice from a DataFrame.\n",
      "Try using .loc[row_indexer,col_indexer] = value instead\n",
      "\n",
      "See the caveats in the documentation: https://pandas.pydata.org/pandas-docs/stable/user_guide/indexing.html#returning-a-view-versus-a-copy\n",
      "  wick['Eircode'] = wick_post\n"
     ]
    }
   ],
   "source": [
    "wick['Eircode'] = wick_post"
   ]
  },
  {
   "cell_type": "markdown",
   "id": "f68b7bc0",
   "metadata": {},
   "source": [
    "## Dublin"
   ]
  },
  {
   "cell_type": "code",
   "execution_count": 139,
   "id": "abe02a91",
   "metadata": {},
   "outputs": [
    {
     "data": {
      "text/plain": [
       "(52777, 19)"
      ]
     },
     "execution_count": 139,
     "metadata": {},
     "output_type": "execute_result"
    }
   ],
   "source": [
    "dub = irl.loc[irl['County'] == 'Dublin']\n",
    "dub.shape"
   ]
  },
  {
   "cell_type": "code",
   "execution_count": 147,
   "id": "eae5f0af",
   "metadata": {},
   "outputs": [],
   "source": [
    "dub_towns = list(dub['Town'].unique())\n",
    "#dub_towns"
   ]
  },
  {
   "cell_type": "code",
   "execution_count": 141,
   "id": "79063942",
   "metadata": {},
   "outputs": [
    {
     "data": {
      "text/plain": [
       "136"
      ]
     },
     "execution_count": 141,
     "metadata": {},
     "output_type": "execute_result"
    }
   ],
   "source": [
    "len(dub_towns)"
   ]
  },
  {
   "cell_type": "code",
   "execution_count": 146,
   "id": "dd86936e",
   "metadata": {},
   "outputs": [],
   "source": [
    "d6w = ['Terenure', 'Templeogue', 'Kimmage']\n",
    "a94 = ['Blackrock Dublin', 'Mount Merrion', 'Stillorgan', 'Monkstown Dublin', 'Booterstown', 'Deansgrange', 'Merrion']\n",
    "d24 = ['Saggart', 'Rathcoole', 'Citywest', 'Tallaght', 'Brittas Dublin', 'Ballyboden']\n",
    "k67 = ['Swords']\n",
    "d16 = ['Dundrum', 'Sandyford', 'Ballinteer', 'Rathfarnham', 'Knocklyon', 'Firhouse']\n",
    "d12 = ['Walkinstown', 'Crumlin', 'Drimnagh', 'Bluebell', 'Kilnamanagh']\n",
    "k34 = ['Skerries', 'Loughshinny']\n",
    "\n",
    "d18 = ['Stepaside', 'Carrickmines', 'Foxrock', 'Ballybrack', 'Shankill', 'Leopardstown', 'Glencullen', 'Rathmichael',\n",
    "      'Kilternan']\n",
    "d14 = ['Milltown Dublin', 'Churchtown Dublin', 'Clonskeagh', 'Kilmacud', 'Goatstown']\n",
    "k32 = ['Balbriggan', 'Balrothery', 'Naul']\n",
    "\n",
    "a42 = ['Adamstown Dublin', 'Garristown']\n",
    "k78 = ['Lucan']\n",
    "d04 = ['Donnybrook', 'Ballsbridge', 'Sandymount', 'Ringsend', 'Irishtown Dublin']\n",
    "d13 = ['Portmarnock', 'Howth', 'Clongriffin', 'Sutton', 'Baldoyle', 'Donaghmede', 'Kilbarrack', 'Balgriffin', 'Bayside']\n",
    "k56 = ['Rush']\n",
    "k36 = ['Malahide', 'Donabate', 'Portrane']\n",
    "d08 = ['Rialto', 'Inchicore', 'Portobello', 'Kilmainham', 'The Coombe', 'Islandbridge']\n",
    "d07 = ['Stoneybatter', 'Cabra', 'Smithfield', 'Phibsborough', 'Ashtown', 'Grangegorman', 'Broadstone']\n",
    "d20 = ['Palmerstown', 'Chapelizod']\n",
    "\n",
    "d06 = ['Rathgar', 'Rathmines', 'Dartry', 'Harolds Cross', 'Ranelagh']\n",
    "d09 = ['Drumcondra', 'Santry', 'Whitehall', 'Beaumont']\n",
    "a96 = ['Dalkey', 'Loughlinstown', 'Killiney', 'Cabinteely', 'Sandycove', 'Glenageary', 'Glasthule', 'Sallynoggin',\n",
    "      'Dún Laoghaire', 'Cherrywood']\n",
    "d05 = ['Coolock', 'Killester', 'Raheny', 'Donnycarney', 'Artane']\n",
    "d10 = ['Ballyfermot', 'Cherry Orchard']\n",
    "d15 = ['Castleknock', 'Hollystown', 'Clonsilla', 'Blanchardstown', 'Ongar', 'Mulhuddart', 'Tyrrelstown']\n",
    "d22 = ['Clondalkin', 'Newcastle Dublin', 'Ballymount']\n",
    "d11 = ['Finglas', 'Glasnevin', 'Ballymun', 'Poppintree']\n",
    "d03 = ['Fairview', 'East Wall', 'Clontarf', 'Marino']\n",
    "\n",
    "a41 = ['Ballyboughal']\n",
    "k45 = ['Lusk',]\n",
    "d17 = ['Kinsealy', 'Darndale', 'Clare Hall']\n",
    "d01 = ['North Strand', 'Ballybough', 'North Wall']\n",
    "a45 = ['Oldtown']"
   ]
  },
  {
   "cell_type": "code",
   "execution_count": 151,
   "id": "1e4dcebc",
   "metadata": {},
   "outputs": [],
   "source": [
    "dub_t = np.array(dub['Town'])\n",
    "dub_post = []\n",
    "for i in range(len(dub_t)):\n",
    "    if dub_t[i] in d6w:\n",
    "        dub_post.append('D6W')\n",
    "    elif dub_t[i] in a94:\n",
    "        dub_post.append('A94')\n",
    "    elif dub_t[i] in d24:\n",
    "        dub_post.append('D24')\n",
    "    elif dub_t[i] in k67:\n",
    "        dub_post.append('K67')\n",
    "    elif dub_t[i] in d16:\n",
    "        dub_post.append('D16')\n",
    "    elif dub_t[i] in d12:\n",
    "        dub_post.append('D12')\n",
    "    elif dub_t[i] in k34:\n",
    "        dub_post.append('K34')\n",
    "    elif dub_t[i] in d18:\n",
    "        dub_post.append('D18')\n",
    "    elif dub_t[i] in d14:\n",
    "        dub_post.append('D14')\n",
    "    elif dub_t[i] in k32:\n",
    "        dub_post.append('K32')\n",
    "    elif dub_t[i] in a42:\n",
    "        dub_post.append('A42')\n",
    "    elif dub_t[i] in k78:\n",
    "        dub_post.append('K78')\n",
    "    elif dub_t[i] in d04:\n",
    "        dub_post.append('D04')\n",
    "    elif dub_t[i] in d13:\n",
    "        dub_post.append('D13')\n",
    "    elif dub_t[i] in k56:\n",
    "        dub_post.append('K56')\n",
    "    elif dub_t[i] in k36:\n",
    "        dub_post.append('K36')\n",
    "    elif dub_t[i] in d08:\n",
    "        dub_post.append('D08')\n",
    "    elif dub_t[i] in d07:\n",
    "        dub_post.append('D07')\n",
    "    elif dub_t[i] in d20:\n",
    "        dub_post.append('D20')\n",
    "    elif dub_t[i] in d06:\n",
    "        dub_post.append('D06')\n",
    "    elif dub_t[i] in d09:\n",
    "        dub_post.append('D09')\n",
    "    elif dub_t[i] in a96:\n",
    "        dub_post.append('A96')\n",
    "    elif dub_t[i] in d05:\n",
    "        dub_post.append('D05')\n",
    "    elif dub_t[i] in d10:\n",
    "        dub_post.append('D10')\n",
    "    elif dub_t[i] in d15:\n",
    "        dub_post.append('D15')\n",
    "    elif dub_t[i] in d22:\n",
    "        dub_post.append('D22')\n",
    "    elif dub_t[i] in d11:\n",
    "        dub_post.append('D11')\n",
    "    elif dub_t[i] in d03:\n",
    "        dub_post.append('D03')\n",
    "    elif dub_t[i] in a41:\n",
    "        dub_post.append('A41')\n",
    "    elif dub_t[i] in k45:\n",
    "        dub_post.append('K45')\n",
    "    elif dub_t[i] in d17:\n",
    "        dub_post.append('D17')\n",
    "    elif dub_t[i] in d01:\n",
    "        dub_post.append('D01')\n",
    "    else:\n",
    "        dub_post.append('A45')"
   ]
  },
  {
   "cell_type": "code",
   "execution_count": 152,
   "id": "891d0d25",
   "metadata": {},
   "outputs": [
    {
     "name": "stderr",
     "output_type": "stream",
     "text": [
      "C:\\Users\\user\\AppData\\Local\\Temp/ipykernel_17884/623330143.py:1: SettingWithCopyWarning: \n",
      "A value is trying to be set on a copy of a slice from a DataFrame.\n",
      "Try using .loc[row_indexer,col_indexer] = value instead\n",
      "\n",
      "See the caveats in the documentation: https://pandas.pydata.org/pandas-docs/stable/user_guide/indexing.html#returning-a-view-versus-a-copy\n",
      "  dub['Eircode'] = dub_post\n"
     ]
    }
   ],
   "source": [
    "dub['Eircode'] = dub_post"
   ]
  },
  {
   "cell_type": "markdown",
   "id": "458e080f",
   "metadata": {},
   "source": [
    "### Join it all together..."
   ]
  },
  {
   "cell_type": "code",
   "execution_count": 159,
   "id": "5dffc4ee",
   "metadata": {},
   "outputs": [],
   "source": [
    "lll = pd.concat([ros, lei, sli, may, gway, cav, mon, don, lu, lim, clar, tipp, ker, wat, cork,\n",
    "                lon, wmeath, off, car, laois, kilk, mea, kil, wex, wick, dub], ignore_index=True)"
   ]
  },
  {
   "cell_type": "code",
   "execution_count": 166,
   "id": "08c2403f",
   "metadata": {},
   "outputs": [
    {
     "data": {
      "text/html": [
       "<div>\n",
       "<style scoped>\n",
       "    .dataframe tbody tr th:only-of-type {\n",
       "        vertical-align: middle;\n",
       "    }\n",
       "\n",
       "    .dataframe tbody tr th {\n",
       "        vertical-align: top;\n",
       "    }\n",
       "\n",
       "    .dataframe thead th {\n",
       "        text-align: right;\n",
       "    }\n",
       "</style>\n",
       "<table border=\"1\" class=\"dataframe\">\n",
       "  <thead>\n",
       "    <tr style=\"text-align: right;\">\n",
       "      <th></th>\n",
       "      <th>Address</th>\n",
       "      <th>County</th>\n",
       "      <th>Price (€)</th>\n",
       "      <th>Not Full Market Price</th>\n",
       "      <th>VAT Exclusive</th>\n",
       "      <th>Property Size Description</th>\n",
       "      <th>Year</th>\n",
       "      <th>Month</th>\n",
       "      <th>Town</th>\n",
       "      <th>Region</th>\n",
       "      <th>Neighbourhood</th>\n",
       "      <th>PriceInflation</th>\n",
       "      <th>Eircode</th>\n",
       "    </tr>\n",
       "  </thead>\n",
       "  <tbody>\n",
       "    <tr>\n",
       "      <th>0</th>\n",
       "      <td>Ballinturley, Four Mile House, Roscommon</td>\n",
       "      <td>Roscommon</td>\n",
       "      <td>46560.0</td>\n",
       "      <td>0</td>\n",
       "      <td>1</td>\n",
       "      <td>1</td>\n",
       "      <td>2014</td>\n",
       "      <td>1</td>\n",
       "      <td>Roscommon Town</td>\n",
       "      <td>West</td>\n",
       "      <td>Four Mile House Roscommon</td>\n",
       "      <td>84489.37</td>\n",
       "      <td>F42</td>\n",
       "    </tr>\n",
       "    <tr>\n",
       "      <th>1</th>\n",
       "      <td>2 Hyde Court, Golf Links Rd, Roscommon</td>\n",
       "      <td>Roscommon</td>\n",
       "      <td>157000.0</td>\n",
       "      <td>1</td>\n",
       "      <td>1</td>\n",
       "      <td>1</td>\n",
       "      <td>2014</td>\n",
       "      <td>1</td>\n",
       "      <td>Roscommon Town</td>\n",
       "      <td>West</td>\n",
       "      <td>Golf Links Road Roscommon</td>\n",
       "      <td>284897.56</td>\n",
       "      <td>F42</td>\n",
       "    </tr>\n",
       "    <tr>\n",
       "      <th>2</th>\n",
       "      <td>32 Convent Court, Convent Rd, Roscommon</td>\n",
       "      <td>Roscommon</td>\n",
       "      <td>56000.0</td>\n",
       "      <td>1</td>\n",
       "      <td>1</td>\n",
       "      <td>0</td>\n",
       "      <td>2014</td>\n",
       "      <td>1</td>\n",
       "      <td>Roscommon Town</td>\n",
       "      <td>West</td>\n",
       "      <td>Convent Road Roscommon</td>\n",
       "      <td>101619.51</td>\n",
       "      <td>F42</td>\n",
       "    </tr>\n",
       "    <tr>\n",
       "      <th>3</th>\n",
       "      <td>35 Abbeyville, Galway Rd, Roscommon</td>\n",
       "      <td>Roscommon</td>\n",
       "      <td>125000.0</td>\n",
       "      <td>1</td>\n",
       "      <td>1</td>\n",
       "      <td>0</td>\n",
       "      <td>2014</td>\n",
       "      <td>1</td>\n",
       "      <td>Roscommon Town</td>\n",
       "      <td>West</td>\n",
       "      <td>Galway Road Roscommon</td>\n",
       "      <td>226829.27</td>\n",
       "      <td>F42</td>\n",
       "    </tr>\n",
       "    <tr>\n",
       "      <th>4</th>\n",
       "      <td>3 The Orchard, The Walk, Roscommon</td>\n",
       "      <td>Roscommon</td>\n",
       "      <td>106000.0</td>\n",
       "      <td>1</td>\n",
       "      <td>1</td>\n",
       "      <td>1</td>\n",
       "      <td>2014</td>\n",
       "      <td>1</td>\n",
       "      <td>Roscommon Town</td>\n",
       "      <td>West</td>\n",
       "      <td>The Walk Roscommon</td>\n",
       "      <td>192351.22</td>\n",
       "      <td>F42</td>\n",
       "    </tr>\n",
       "  </tbody>\n",
       "</table>\n",
       "</div>"
      ],
      "text/plain": [
       "                                    Address     County  Price (€)  \\\n",
       "0  Ballinturley, Four Mile House, Roscommon  Roscommon    46560.0   \n",
       "1    2 Hyde Court, Golf Links Rd, Roscommon  Roscommon   157000.0   \n",
       "2   32 Convent Court, Convent Rd, Roscommon  Roscommon    56000.0   \n",
       "3       35 Abbeyville, Galway Rd, Roscommon  Roscommon   125000.0   \n",
       "4        3 The Orchard, The Walk, Roscommon  Roscommon   106000.0   \n",
       "\n",
       "   Not Full Market Price  VAT Exclusive  Property Size Description  Year  \\\n",
       "0                      0              1                          1  2014   \n",
       "1                      1              1                          1  2014   \n",
       "2                      1              1                          0  2014   \n",
       "3                      1              1                          0  2014   \n",
       "4                      1              1                          1  2014   \n",
       "\n",
       "   Month            Town Region              Neighbourhood  PriceInflation  \\\n",
       "0      1  Roscommon Town   West  Four Mile House Roscommon        84489.37   \n",
       "1      1  Roscommon Town   West  Golf Links Road Roscommon       284897.56   \n",
       "2      1  Roscommon Town   West     Convent Road Roscommon       101619.51   \n",
       "3      1  Roscommon Town   West      Galway Road Roscommon       226829.27   \n",
       "4      1  Roscommon Town   West         The Walk Roscommon       192351.22   \n",
       "\n",
       "  Eircode  \n",
       "0     F42  \n",
       "1     F42  \n",
       "2     F42  \n",
       "3     F42  \n",
       "4     F42  "
      ]
     },
     "execution_count": 166,
     "metadata": {},
     "output_type": "execute_result"
    }
   ],
   "source": [
    "lll.head()"
   ]
  },
  {
   "cell_type": "code",
   "execution_count": 161,
   "id": "c1df954a",
   "metadata": {},
   "outputs": [],
   "source": [
    "#lll.to_csv('eircodes-all-cols.csv')"
   ]
  },
  {
   "cell_type": "code",
   "execution_count": 162,
   "id": "5077fa16",
   "metadata": {},
   "outputs": [],
   "source": [
    "lll.drop(columns=['RPPI', 'Estate', 'Apartment', 'Province', 'Quarter', 'Postal Code', 'Description of Property'],\n",
    "        inplace = True)"
   ]
  },
  {
   "cell_type": "code",
   "execution_count": 165,
   "id": "02b24773",
   "metadata": {},
   "outputs": [
    {
     "data": {
      "text/html": [
       "<div>\n",
       "<style scoped>\n",
       "    .dataframe tbody tr th:only-of-type {\n",
       "        vertical-align: middle;\n",
       "    }\n",
       "\n",
       "    .dataframe tbody tr th {\n",
       "        vertical-align: top;\n",
       "    }\n",
       "\n",
       "    .dataframe thead th {\n",
       "        text-align: right;\n",
       "    }\n",
       "</style>\n",
       "<table border=\"1\" class=\"dataframe\">\n",
       "  <thead>\n",
       "    <tr style=\"text-align: right;\">\n",
       "      <th></th>\n",
       "      <th>Address</th>\n",
       "      <th>County</th>\n",
       "      <th>Price (€)</th>\n",
       "      <th>Not Full Market Price</th>\n",
       "      <th>VAT Exclusive</th>\n",
       "      <th>Property Size Description</th>\n",
       "      <th>Year</th>\n",
       "      <th>Month</th>\n",
       "      <th>Town</th>\n",
       "      <th>Region</th>\n",
       "      <th>Neighbourhood</th>\n",
       "      <th>PriceInflation</th>\n",
       "      <th>Eircode</th>\n",
       "    </tr>\n",
       "  </thead>\n",
       "  <tbody>\n",
       "    <tr>\n",
       "      <th>0</th>\n",
       "      <td>Ballinturley, Four Mile House, Roscommon</td>\n",
       "      <td>Roscommon</td>\n",
       "      <td>46560.0</td>\n",
       "      <td>0</td>\n",
       "      <td>1</td>\n",
       "      <td>1</td>\n",
       "      <td>2014</td>\n",
       "      <td>1</td>\n",
       "      <td>Roscommon Town</td>\n",
       "      <td>West</td>\n",
       "      <td>Four Mile House Roscommon</td>\n",
       "      <td>84489.37</td>\n",
       "      <td>F42</td>\n",
       "    </tr>\n",
       "    <tr>\n",
       "      <th>1</th>\n",
       "      <td>2 Hyde Court, Golf Links Rd, Roscommon</td>\n",
       "      <td>Roscommon</td>\n",
       "      <td>157000.0</td>\n",
       "      <td>1</td>\n",
       "      <td>1</td>\n",
       "      <td>1</td>\n",
       "      <td>2014</td>\n",
       "      <td>1</td>\n",
       "      <td>Roscommon Town</td>\n",
       "      <td>West</td>\n",
       "      <td>Golf Links Road Roscommon</td>\n",
       "      <td>284897.56</td>\n",
       "      <td>F42</td>\n",
       "    </tr>\n",
       "    <tr>\n",
       "      <th>2</th>\n",
       "      <td>32 Convent Court, Convent Rd, Roscommon</td>\n",
       "      <td>Roscommon</td>\n",
       "      <td>56000.0</td>\n",
       "      <td>1</td>\n",
       "      <td>1</td>\n",
       "      <td>0</td>\n",
       "      <td>2014</td>\n",
       "      <td>1</td>\n",
       "      <td>Roscommon Town</td>\n",
       "      <td>West</td>\n",
       "      <td>Convent Road Roscommon</td>\n",
       "      <td>101619.51</td>\n",
       "      <td>F42</td>\n",
       "    </tr>\n",
       "    <tr>\n",
       "      <th>3</th>\n",
       "      <td>35 Abbeyville, Galway Rd, Roscommon</td>\n",
       "      <td>Roscommon</td>\n",
       "      <td>125000.0</td>\n",
       "      <td>1</td>\n",
       "      <td>1</td>\n",
       "      <td>0</td>\n",
       "      <td>2014</td>\n",
       "      <td>1</td>\n",
       "      <td>Roscommon Town</td>\n",
       "      <td>West</td>\n",
       "      <td>Galway Road Roscommon</td>\n",
       "      <td>226829.27</td>\n",
       "      <td>F42</td>\n",
       "    </tr>\n",
       "    <tr>\n",
       "      <th>4</th>\n",
       "      <td>3 The Orchard, The Walk, Roscommon</td>\n",
       "      <td>Roscommon</td>\n",
       "      <td>106000.0</td>\n",
       "      <td>1</td>\n",
       "      <td>1</td>\n",
       "      <td>1</td>\n",
       "      <td>2014</td>\n",
       "      <td>1</td>\n",
       "      <td>Roscommon Town</td>\n",
       "      <td>West</td>\n",
       "      <td>The Walk Roscommon</td>\n",
       "      <td>192351.22</td>\n",
       "      <td>F42</td>\n",
       "    </tr>\n",
       "  </tbody>\n",
       "</table>\n",
       "</div>"
      ],
      "text/plain": [
       "                                    Address     County  Price (€)  \\\n",
       "0  Ballinturley, Four Mile House, Roscommon  Roscommon    46560.0   \n",
       "1    2 Hyde Court, Golf Links Rd, Roscommon  Roscommon   157000.0   \n",
       "2   32 Convent Court, Convent Rd, Roscommon  Roscommon    56000.0   \n",
       "3       35 Abbeyville, Galway Rd, Roscommon  Roscommon   125000.0   \n",
       "4        3 The Orchard, The Walk, Roscommon  Roscommon   106000.0   \n",
       "\n",
       "   Not Full Market Price  VAT Exclusive  Property Size Description  Year  \\\n",
       "0                      0              1                          1  2014   \n",
       "1                      1              1                          1  2014   \n",
       "2                      1              1                          0  2014   \n",
       "3                      1              1                          0  2014   \n",
       "4                      1              1                          1  2014   \n",
       "\n",
       "   Month            Town Region              Neighbourhood  PriceInflation  \\\n",
       "0      1  Roscommon Town   West  Four Mile House Roscommon        84489.37   \n",
       "1      1  Roscommon Town   West  Golf Links Road Roscommon       284897.56   \n",
       "2      1  Roscommon Town   West     Convent Road Roscommon       101619.51   \n",
       "3      1  Roscommon Town   West      Galway Road Roscommon       226829.27   \n",
       "4      1  Roscommon Town   West         The Walk Roscommon       192351.22   \n",
       "\n",
       "  Eircode  \n",
       "0     F42  \n",
       "1     F42  \n",
       "2     F42  \n",
       "3     F42  \n",
       "4     F42  "
      ]
     },
     "execution_count": 165,
     "metadata": {},
     "output_type": "execute_result"
    }
   ],
   "source": [
    "lll.head()"
   ]
  },
  {
   "cell_type": "code",
   "execution_count": 164,
   "id": "7d510b60",
   "metadata": {},
   "outputs": [],
   "source": [
    "#lll.to_csv('less-columns-eircodes.csv')"
   ]
  }
 ],
 "metadata": {
  "kernelspec": {
   "display_name": "Python 3 (ipykernel)",
   "language": "python",
   "name": "python3"
  },
  "language_info": {
   "codemirror_mode": {
    "name": "ipython",
    "version": 3
   },
   "file_extension": ".py",
   "mimetype": "text/x-python",
   "name": "python",
   "nbconvert_exporter": "python",
   "pygments_lexer": "ipython3",
   "version": "3.8.12"
  }
 },
 "nbformat": 4,
 "nbformat_minor": 5
}
