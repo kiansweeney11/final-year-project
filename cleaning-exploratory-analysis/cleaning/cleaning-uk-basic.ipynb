{
 "cells": [
  {
   "cell_type": "code",
   "execution_count": 1,
   "id": "dfbd23c8",
   "metadata": {},
   "outputs": [],
   "source": [
    "import pandas as pd"
   ]
  },
  {
   "cell_type": "code",
   "execution_count": 2,
   "id": "6e51780a",
   "metadata": {},
   "outputs": [],
   "source": [
    "data = pd.read_csv('price_paid_records.csv')"
   ]
  },
  {
   "cell_type": "code",
   "execution_count": 3,
   "id": "2cfef8e9",
   "metadata": {},
   "outputs": [
    {
     "data": {
      "text/html": [
       "<div>\n",
       "<style scoped>\n",
       "    .dataframe tbody tr th:only-of-type {\n",
       "        vertical-align: middle;\n",
       "    }\n",
       "\n",
       "    .dataframe tbody tr th {\n",
       "        vertical-align: top;\n",
       "    }\n",
       "\n",
       "    .dataframe thead th {\n",
       "        text-align: right;\n",
       "    }\n",
       "</style>\n",
       "<table border=\"1\" class=\"dataframe\">\n",
       "  <thead>\n",
       "    <tr style=\"text-align: right;\">\n",
       "      <th></th>\n",
       "      <th>Transaction unique identifier</th>\n",
       "      <th>Price</th>\n",
       "      <th>Date of Transfer</th>\n",
       "      <th>Property Type</th>\n",
       "      <th>Old/New</th>\n",
       "      <th>Duration</th>\n",
       "      <th>Town/City</th>\n",
       "      <th>District</th>\n",
       "      <th>County</th>\n",
       "      <th>PPDCategory Type</th>\n",
       "      <th>Record Status - monthly file only</th>\n",
       "    </tr>\n",
       "  </thead>\n",
       "  <tbody>\n",
       "    <tr>\n",
       "      <th>0</th>\n",
       "      <td>{81B82214-7FBC-4129-9F6B-4956B4A663AD}</td>\n",
       "      <td>25000</td>\n",
       "      <td>1995-08-18 00:00</td>\n",
       "      <td>T</td>\n",
       "      <td>N</td>\n",
       "      <td>F</td>\n",
       "      <td>OLDHAM</td>\n",
       "      <td>OLDHAM</td>\n",
       "      <td>GREATER MANCHESTER</td>\n",
       "      <td>A</td>\n",
       "      <td>A</td>\n",
       "    </tr>\n",
       "    <tr>\n",
       "      <th>1</th>\n",
       "      <td>{8046EC72-1466-42D6-A753-4956BF7CD8A2}</td>\n",
       "      <td>42500</td>\n",
       "      <td>1995-08-09 00:00</td>\n",
       "      <td>S</td>\n",
       "      <td>N</td>\n",
       "      <td>F</td>\n",
       "      <td>GRAYS</td>\n",
       "      <td>THURROCK</td>\n",
       "      <td>THURROCK</td>\n",
       "      <td>A</td>\n",
       "      <td>A</td>\n",
       "    </tr>\n",
       "    <tr>\n",
       "      <th>2</th>\n",
       "      <td>{278D581A-5BF3-4FCE-AF62-4956D87691E6}</td>\n",
       "      <td>45000</td>\n",
       "      <td>1995-06-30 00:00</td>\n",
       "      <td>T</td>\n",
       "      <td>N</td>\n",
       "      <td>F</td>\n",
       "      <td>HIGHBRIDGE</td>\n",
       "      <td>SEDGEMOOR</td>\n",
       "      <td>SOMERSET</td>\n",
       "      <td>A</td>\n",
       "      <td>A</td>\n",
       "    </tr>\n",
       "    <tr>\n",
       "      <th>3</th>\n",
       "      <td>{1D861C06-A416-4865-973C-4956DB12CD12}</td>\n",
       "      <td>43150</td>\n",
       "      <td>1995-11-24 00:00</td>\n",
       "      <td>T</td>\n",
       "      <td>N</td>\n",
       "      <td>F</td>\n",
       "      <td>BEDFORD</td>\n",
       "      <td>NORTH BEDFORDSHIRE</td>\n",
       "      <td>BEDFORDSHIRE</td>\n",
       "      <td>A</td>\n",
       "      <td>A</td>\n",
       "    </tr>\n",
       "    <tr>\n",
       "      <th>4</th>\n",
       "      <td>{DD8645FD-A815-43A6-A7BA-4956E58F1874}</td>\n",
       "      <td>18899</td>\n",
       "      <td>1995-06-23 00:00</td>\n",
       "      <td>S</td>\n",
       "      <td>N</td>\n",
       "      <td>F</td>\n",
       "      <td>WAKEFIELD</td>\n",
       "      <td>LEEDS</td>\n",
       "      <td>WEST YORKSHIRE</td>\n",
       "      <td>A</td>\n",
       "      <td>A</td>\n",
       "    </tr>\n",
       "  </tbody>\n",
       "</table>\n",
       "</div>"
      ],
      "text/plain": [
       "            Transaction unique identifier  Price  Date of Transfer  \\\n",
       "0  {81B82214-7FBC-4129-9F6B-4956B4A663AD}  25000  1995-08-18 00:00   \n",
       "1  {8046EC72-1466-42D6-A753-4956BF7CD8A2}  42500  1995-08-09 00:00   \n",
       "2  {278D581A-5BF3-4FCE-AF62-4956D87691E6}  45000  1995-06-30 00:00   \n",
       "3  {1D861C06-A416-4865-973C-4956DB12CD12}  43150  1995-11-24 00:00   \n",
       "4  {DD8645FD-A815-43A6-A7BA-4956E58F1874}  18899  1995-06-23 00:00   \n",
       "\n",
       "  Property Type Old/New Duration   Town/City            District  \\\n",
       "0             T       N        F      OLDHAM              OLDHAM   \n",
       "1             S       N        F       GRAYS            THURROCK   \n",
       "2             T       N        F  HIGHBRIDGE           SEDGEMOOR   \n",
       "3             T       N        F     BEDFORD  NORTH BEDFORDSHIRE   \n",
       "4             S       N        F   WAKEFIELD               LEEDS   \n",
       "\n",
       "               County PPDCategory Type Record Status - monthly file only  \n",
       "0  GREATER MANCHESTER                A                                 A  \n",
       "1            THURROCK                A                                 A  \n",
       "2            SOMERSET                A                                 A  \n",
       "3        BEDFORDSHIRE                A                                 A  \n",
       "4      WEST YORKSHIRE                A                                 A  "
      ]
     },
     "execution_count": 3,
     "metadata": {},
     "output_type": "execute_result"
    }
   ],
   "source": [
    "data.head()"
   ]
  },
  {
   "cell_type": "code",
   "execution_count": 4,
   "id": "7a139d3d",
   "metadata": {},
   "outputs": [],
   "source": [
    "data['date'] = pd.to_datetime(data['Date of Transfer'].str.slice(0, 4), format='%Y')"
   ]
  },
  {
   "cell_type": "code",
   "execution_count": 5,
   "id": "f191c2e7",
   "metadata": {},
   "outputs": [
    {
     "data": {
      "text/html": [
       "<div>\n",
       "<style scoped>\n",
       "    .dataframe tbody tr th:only-of-type {\n",
       "        vertical-align: middle;\n",
       "    }\n",
       "\n",
       "    .dataframe tbody tr th {\n",
       "        vertical-align: top;\n",
       "    }\n",
       "\n",
       "    .dataframe thead th {\n",
       "        text-align: right;\n",
       "    }\n",
       "</style>\n",
       "<table border=\"1\" class=\"dataframe\">\n",
       "  <thead>\n",
       "    <tr style=\"text-align: right;\">\n",
       "      <th></th>\n",
       "      <th>Transaction unique identifier</th>\n",
       "      <th>Price</th>\n",
       "      <th>Date of Transfer</th>\n",
       "      <th>Property Type</th>\n",
       "      <th>Old/New</th>\n",
       "      <th>Duration</th>\n",
       "      <th>Town/City</th>\n",
       "      <th>District</th>\n",
       "      <th>County</th>\n",
       "      <th>PPDCategory Type</th>\n",
       "      <th>Record Status - monthly file only</th>\n",
       "      <th>date</th>\n",
       "    </tr>\n",
       "  </thead>\n",
       "  <tbody>\n",
       "    <tr>\n",
       "      <th>0</th>\n",
       "      <td>{81B82214-7FBC-4129-9F6B-4956B4A663AD}</td>\n",
       "      <td>25000</td>\n",
       "      <td>1995-08-18 00:00</td>\n",
       "      <td>T</td>\n",
       "      <td>N</td>\n",
       "      <td>F</td>\n",
       "      <td>OLDHAM</td>\n",
       "      <td>OLDHAM</td>\n",
       "      <td>GREATER MANCHESTER</td>\n",
       "      <td>A</td>\n",
       "      <td>A</td>\n",
       "      <td>1995-01-01</td>\n",
       "    </tr>\n",
       "    <tr>\n",
       "      <th>1</th>\n",
       "      <td>{8046EC72-1466-42D6-A753-4956BF7CD8A2}</td>\n",
       "      <td>42500</td>\n",
       "      <td>1995-08-09 00:00</td>\n",
       "      <td>S</td>\n",
       "      <td>N</td>\n",
       "      <td>F</td>\n",
       "      <td>GRAYS</td>\n",
       "      <td>THURROCK</td>\n",
       "      <td>THURROCK</td>\n",
       "      <td>A</td>\n",
       "      <td>A</td>\n",
       "      <td>1995-01-01</td>\n",
       "    </tr>\n",
       "    <tr>\n",
       "      <th>2</th>\n",
       "      <td>{278D581A-5BF3-4FCE-AF62-4956D87691E6}</td>\n",
       "      <td>45000</td>\n",
       "      <td>1995-06-30 00:00</td>\n",
       "      <td>T</td>\n",
       "      <td>N</td>\n",
       "      <td>F</td>\n",
       "      <td>HIGHBRIDGE</td>\n",
       "      <td>SEDGEMOOR</td>\n",
       "      <td>SOMERSET</td>\n",
       "      <td>A</td>\n",
       "      <td>A</td>\n",
       "      <td>1995-01-01</td>\n",
       "    </tr>\n",
       "    <tr>\n",
       "      <th>3</th>\n",
       "      <td>{1D861C06-A416-4865-973C-4956DB12CD12}</td>\n",
       "      <td>43150</td>\n",
       "      <td>1995-11-24 00:00</td>\n",
       "      <td>T</td>\n",
       "      <td>N</td>\n",
       "      <td>F</td>\n",
       "      <td>BEDFORD</td>\n",
       "      <td>NORTH BEDFORDSHIRE</td>\n",
       "      <td>BEDFORDSHIRE</td>\n",
       "      <td>A</td>\n",
       "      <td>A</td>\n",
       "      <td>1995-01-01</td>\n",
       "    </tr>\n",
       "    <tr>\n",
       "      <th>4</th>\n",
       "      <td>{DD8645FD-A815-43A6-A7BA-4956E58F1874}</td>\n",
       "      <td>18899</td>\n",
       "      <td>1995-06-23 00:00</td>\n",
       "      <td>S</td>\n",
       "      <td>N</td>\n",
       "      <td>F</td>\n",
       "      <td>WAKEFIELD</td>\n",
       "      <td>LEEDS</td>\n",
       "      <td>WEST YORKSHIRE</td>\n",
       "      <td>A</td>\n",
       "      <td>A</td>\n",
       "      <td>1995-01-01</td>\n",
       "    </tr>\n",
       "  </tbody>\n",
       "</table>\n",
       "</div>"
      ],
      "text/plain": [
       "            Transaction unique identifier  Price  Date of Transfer  \\\n",
       "0  {81B82214-7FBC-4129-9F6B-4956B4A663AD}  25000  1995-08-18 00:00   \n",
       "1  {8046EC72-1466-42D6-A753-4956BF7CD8A2}  42500  1995-08-09 00:00   \n",
       "2  {278D581A-5BF3-4FCE-AF62-4956D87691E6}  45000  1995-06-30 00:00   \n",
       "3  {1D861C06-A416-4865-973C-4956DB12CD12}  43150  1995-11-24 00:00   \n",
       "4  {DD8645FD-A815-43A6-A7BA-4956E58F1874}  18899  1995-06-23 00:00   \n",
       "\n",
       "  Property Type Old/New Duration   Town/City            District  \\\n",
       "0             T       N        F      OLDHAM              OLDHAM   \n",
       "1             S       N        F       GRAYS            THURROCK   \n",
       "2             T       N        F  HIGHBRIDGE           SEDGEMOOR   \n",
       "3             T       N        F     BEDFORD  NORTH BEDFORDSHIRE   \n",
       "4             S       N        F   WAKEFIELD               LEEDS   \n",
       "\n",
       "               County PPDCategory Type Record Status - monthly file only  \\\n",
       "0  GREATER MANCHESTER                A                                 A   \n",
       "1            THURROCK                A                                 A   \n",
       "2            SOMERSET                A                                 A   \n",
       "3        BEDFORDSHIRE                A                                 A   \n",
       "4      WEST YORKSHIRE                A                                 A   \n",
       "\n",
       "        date  \n",
       "0 1995-01-01  \n",
       "1 1995-01-01  \n",
       "2 1995-01-01  \n",
       "3 1995-01-01  \n",
       "4 1995-01-01  "
      ]
     },
     "execution_count": 5,
     "metadata": {},
     "output_type": "execute_result"
    }
   ],
   "source": [
    "data.head()"
   ]
  },
  {
   "cell_type": "code",
   "execution_count": 6,
   "id": "3a353011",
   "metadata": {},
   "outputs": [],
   "source": [
    "df = data.loc[ data['date'].dt.year >= 2010 ]"
   ]
  },
  {
   "cell_type": "code",
   "execution_count": 7,
   "id": "9aa94d36",
   "metadata": {},
   "outputs": [
    {
     "data": {
      "text/html": [
       "<div>\n",
       "<style scoped>\n",
       "    .dataframe tbody tr th:only-of-type {\n",
       "        vertical-align: middle;\n",
       "    }\n",
       "\n",
       "    .dataframe tbody tr th {\n",
       "        vertical-align: top;\n",
       "    }\n",
       "\n",
       "    .dataframe thead th {\n",
       "        text-align: right;\n",
       "    }\n",
       "</style>\n",
       "<table border=\"1\" class=\"dataframe\">\n",
       "  <thead>\n",
       "    <tr style=\"text-align: right;\">\n",
       "      <th></th>\n",
       "      <th>Transaction unique identifier</th>\n",
       "      <th>Price</th>\n",
       "      <th>Date of Transfer</th>\n",
       "      <th>Property Type</th>\n",
       "      <th>Old/New</th>\n",
       "      <th>Duration</th>\n",
       "      <th>Town/City</th>\n",
       "      <th>District</th>\n",
       "      <th>County</th>\n",
       "      <th>PPDCategory Type</th>\n",
       "      <th>Record Status - monthly file only</th>\n",
       "      <th>date</th>\n",
       "    </tr>\n",
       "  </thead>\n",
       "  <tbody>\n",
       "    <tr>\n",
       "      <th>16288525</th>\n",
       "      <td>{0909AF4E-FCDF-4A1F-8F2B-2E72B95FD344}</td>\n",
       "      <td>54000</td>\n",
       "      <td>2010-12-15 00:00</td>\n",
       "      <td>T</td>\n",
       "      <td>N</td>\n",
       "      <td>L</td>\n",
       "      <td>SWANSEA</td>\n",
       "      <td>SWANSEA</td>\n",
       "      <td>SWANSEA</td>\n",
       "      <td>A</td>\n",
       "      <td>A</td>\n",
       "      <td>2010-01-01</td>\n",
       "    </tr>\n",
       "    <tr>\n",
       "      <th>16288526</th>\n",
       "      <td>{C19EE7DE-83F7-446B-B80A-2E72D1013976}</td>\n",
       "      <td>242950</td>\n",
       "      <td>2010-12-03 00:00</td>\n",
       "      <td>F</td>\n",
       "      <td>Y</td>\n",
       "      <td>L</td>\n",
       "      <td>FERNDOWN</td>\n",
       "      <td>EAST DORSET</td>\n",
       "      <td>DORSET</td>\n",
       "      <td>A</td>\n",
       "      <td>A</td>\n",
       "      <td>2010-01-01</td>\n",
       "    </tr>\n",
       "    <tr>\n",
       "      <th>16288527</th>\n",
       "      <td>{89D89B61-0437-413A-A9D1-2E72DBA45D23}</td>\n",
       "      <td>220000</td>\n",
       "      <td>2010-02-19 00:00</td>\n",
       "      <td>D</td>\n",
       "      <td>Y</td>\n",
       "      <td>F</td>\n",
       "      <td>BRIDGNORTH</td>\n",
       "      <td>SHROPSHIRE</td>\n",
       "      <td>SHROPSHIRE</td>\n",
       "      <td>A</td>\n",
       "      <td>A</td>\n",
       "      <td>2010-01-01</td>\n",
       "    </tr>\n",
       "    <tr>\n",
       "      <th>16288528</th>\n",
       "      <td>{23190476-2BF5-47FC-BE79-275388275836}</td>\n",
       "      <td>72000</td>\n",
       "      <td>2010-12-20 00:00</td>\n",
       "      <td>T</td>\n",
       "      <td>N</td>\n",
       "      <td>F</td>\n",
       "      <td>SUNDERLAND</td>\n",
       "      <td>SUNDERLAND</td>\n",
       "      <td>TYNE AND WEAR</td>\n",
       "      <td>A</td>\n",
       "      <td>A</td>\n",
       "      <td>2010-01-01</td>\n",
       "    </tr>\n",
       "    <tr>\n",
       "      <th>16288529</th>\n",
       "      <td>{BD55330D-8F32-4162-9DA4-2753920A35B8}</td>\n",
       "      <td>159500</td>\n",
       "      <td>2010-12-20 00:00</td>\n",
       "      <td>S</td>\n",
       "      <td>N</td>\n",
       "      <td>F</td>\n",
       "      <td>BURNHAM-ON-SEA</td>\n",
       "      <td>SEDGEMOOR</td>\n",
       "      <td>SOMERSET</td>\n",
       "      <td>A</td>\n",
       "      <td>A</td>\n",
       "      <td>2010-01-01</td>\n",
       "    </tr>\n",
       "    <tr>\n",
       "      <th>...</th>\n",
       "      <td>...</td>\n",
       "      <td>...</td>\n",
       "      <td>...</td>\n",
       "      <td>...</td>\n",
       "      <td>...</td>\n",
       "      <td>...</td>\n",
       "      <td>...</td>\n",
       "      <td>...</td>\n",
       "      <td>...</td>\n",
       "      <td>...</td>\n",
       "      <td>...</td>\n",
       "      <td>...</td>\n",
       "    </tr>\n",
       "    <tr>\n",
       "      <th>22489343</th>\n",
       "      <td>{4C4EE000-291A-1854-E050-A8C063054F34}</td>\n",
       "      <td>175000</td>\n",
       "      <td>2017-02-20 00:00</td>\n",
       "      <td>S</td>\n",
       "      <td>N</td>\n",
       "      <td>F</td>\n",
       "      <td>LEEDS</td>\n",
       "      <td>LEEDS</td>\n",
       "      <td>WEST YORKSHIRE</td>\n",
       "      <td>A</td>\n",
       "      <td>A</td>\n",
       "      <td>2017-01-01</td>\n",
       "    </tr>\n",
       "    <tr>\n",
       "      <th>22489344</th>\n",
       "      <td>{4C4EE000-291B-1854-E050-A8C063054F34}</td>\n",
       "      <td>586945</td>\n",
       "      <td>2017-02-15 00:00</td>\n",
       "      <td>D</td>\n",
       "      <td>N</td>\n",
       "      <td>F</td>\n",
       "      <td>WETHERBY</td>\n",
       "      <td>LEEDS</td>\n",
       "      <td>WEST YORKSHIRE</td>\n",
       "      <td>A</td>\n",
       "      <td>A</td>\n",
       "      <td>2017-01-01</td>\n",
       "    </tr>\n",
       "    <tr>\n",
       "      <th>22489345</th>\n",
       "      <td>{4C4EE000-291C-1854-E050-A8C063054F34}</td>\n",
       "      <td>274000</td>\n",
       "      <td>2017-02-24 00:00</td>\n",
       "      <td>D</td>\n",
       "      <td>N</td>\n",
       "      <td>L</td>\n",
       "      <td>HUDDERSFIELD</td>\n",
       "      <td>KIRKLEES</td>\n",
       "      <td>WEST YORKSHIRE</td>\n",
       "      <td>A</td>\n",
       "      <td>A</td>\n",
       "      <td>2017-01-01</td>\n",
       "    </tr>\n",
       "    <tr>\n",
       "      <th>22489346</th>\n",
       "      <td>{4C4EE000-291D-1854-E050-A8C063054F34}</td>\n",
       "      <td>36000</td>\n",
       "      <td>2017-02-22 00:00</td>\n",
       "      <td>T</td>\n",
       "      <td>N</td>\n",
       "      <td>F</td>\n",
       "      <td>HALIFAX</td>\n",
       "      <td>CALDERDALE</td>\n",
       "      <td>WEST YORKSHIRE</td>\n",
       "      <td>A</td>\n",
       "      <td>A</td>\n",
       "      <td>2017-01-01</td>\n",
       "    </tr>\n",
       "    <tr>\n",
       "      <th>22489347</th>\n",
       "      <td>{4C4EE000-291E-1854-E050-A8C063054F34}</td>\n",
       "      <td>145000</td>\n",
       "      <td>2017-03-03 00:00</td>\n",
       "      <td>T</td>\n",
       "      <td>N</td>\n",
       "      <td>F</td>\n",
       "      <td>LEEDS</td>\n",
       "      <td>LEEDS</td>\n",
       "      <td>WEST YORKSHIRE</td>\n",
       "      <td>A</td>\n",
       "      <td>A</td>\n",
       "      <td>2017-01-01</td>\n",
       "    </tr>\n",
       "  </tbody>\n",
       "</table>\n",
       "<p>6200823 rows × 12 columns</p>\n",
       "</div>"
      ],
      "text/plain": [
       "                   Transaction unique identifier   Price  Date of Transfer  \\\n",
       "16288525  {0909AF4E-FCDF-4A1F-8F2B-2E72B95FD344}   54000  2010-12-15 00:00   \n",
       "16288526  {C19EE7DE-83F7-446B-B80A-2E72D1013976}  242950  2010-12-03 00:00   \n",
       "16288527  {89D89B61-0437-413A-A9D1-2E72DBA45D23}  220000  2010-02-19 00:00   \n",
       "16288528  {23190476-2BF5-47FC-BE79-275388275836}   72000  2010-12-20 00:00   \n",
       "16288529  {BD55330D-8F32-4162-9DA4-2753920A35B8}  159500  2010-12-20 00:00   \n",
       "...                                          ...     ...               ...   \n",
       "22489343  {4C4EE000-291A-1854-E050-A8C063054F34}  175000  2017-02-20 00:00   \n",
       "22489344  {4C4EE000-291B-1854-E050-A8C063054F34}  586945  2017-02-15 00:00   \n",
       "22489345  {4C4EE000-291C-1854-E050-A8C063054F34}  274000  2017-02-24 00:00   \n",
       "22489346  {4C4EE000-291D-1854-E050-A8C063054F34}   36000  2017-02-22 00:00   \n",
       "22489347  {4C4EE000-291E-1854-E050-A8C063054F34}  145000  2017-03-03 00:00   \n",
       "\n",
       "         Property Type Old/New Duration       Town/City     District  \\\n",
       "16288525             T       N        L         SWANSEA      SWANSEA   \n",
       "16288526             F       Y        L        FERNDOWN  EAST DORSET   \n",
       "16288527             D       Y        F      BRIDGNORTH   SHROPSHIRE   \n",
       "16288528             T       N        F      SUNDERLAND   SUNDERLAND   \n",
       "16288529             S       N        F  BURNHAM-ON-SEA    SEDGEMOOR   \n",
       "...                ...     ...      ...             ...          ...   \n",
       "22489343             S       N        F           LEEDS        LEEDS   \n",
       "22489344             D       N        F        WETHERBY        LEEDS   \n",
       "22489345             D       N        L    HUDDERSFIELD     KIRKLEES   \n",
       "22489346             T       N        F         HALIFAX   CALDERDALE   \n",
       "22489347             T       N        F           LEEDS        LEEDS   \n",
       "\n",
       "                  County PPDCategory Type Record Status - monthly file only  \\\n",
       "16288525         SWANSEA                A                                 A   \n",
       "16288526          DORSET                A                                 A   \n",
       "16288527      SHROPSHIRE                A                                 A   \n",
       "16288528   TYNE AND WEAR                A                                 A   \n",
       "16288529        SOMERSET                A                                 A   \n",
       "...                  ...              ...                               ...   \n",
       "22489343  WEST YORKSHIRE                A                                 A   \n",
       "22489344  WEST YORKSHIRE                A                                 A   \n",
       "22489345  WEST YORKSHIRE                A                                 A   \n",
       "22489346  WEST YORKSHIRE                A                                 A   \n",
       "22489347  WEST YORKSHIRE                A                                 A   \n",
       "\n",
       "               date  \n",
       "16288525 2010-01-01  \n",
       "16288526 2010-01-01  \n",
       "16288527 2010-01-01  \n",
       "16288528 2010-01-01  \n",
       "16288529 2010-01-01  \n",
       "...             ...  \n",
       "22489343 2017-01-01  \n",
       "22489344 2017-01-01  \n",
       "22489345 2017-01-01  \n",
       "22489346 2017-01-01  \n",
       "22489347 2017-01-01  \n",
       "\n",
       "[6200823 rows x 12 columns]"
      ]
     },
     "execution_count": 7,
     "metadata": {},
     "output_type": "execute_result"
    }
   ],
   "source": [
    "df"
   ]
  },
  {
   "cell_type": "code",
   "execution_count": 8,
   "id": "e0798200",
   "metadata": {},
   "outputs": [
    {
     "data": {
      "text/plain": [
       "GREATER LONDON        814558\n",
       "GREATER MANCHESTER    260048\n",
       "WEST MIDLANDS         230168\n",
       "WEST YORKSHIRE        220453\n",
       "KENT                  185963\n",
       "                       ...  \n",
       "MERTHYR TYDFIL          4759\n",
       "ISLES OF SCILLY          136\n",
       "CLEVELAND                  1\n",
       "BEDFORDSHIRE               1\n",
       "CHESHIRE                   1\n",
       "Name: County, Length: 115, dtype: int64"
      ]
     },
     "execution_count": 8,
     "metadata": {},
     "output_type": "execute_result"
    }
   ],
   "source": [
    "df['County'].value_counts()"
   ]
  },
  {
   "cell_type": "code",
   "execution_count": 9,
   "id": "7ace4df7",
   "metadata": {},
   "outputs": [
    {
     "name": "stdout",
     "output_type": "stream",
     "text": [
      "['BATH AND NORTH EAST SOMERSET', 'BEDFORD', 'BEDFORDSHIRE', 'BLACKBURN WITH DARWEN', 'BLACKPOOL', 'BLAENAU GWENT', 'BOURNEMOUTH', 'BRACKNELL FOREST', 'BRIDGEND', 'BRIGHTON AND HOVE', 'BUCKINGHAMSHIRE', 'CAERPHILLY', 'CAMBRIDGESHIRE', 'CARDIFF', 'CARMARTHENSHIRE', 'CENTRAL BEDFORDSHIRE', 'CEREDIGION', 'CHESHIRE', 'CHESHIRE EAST', 'CHESHIRE WEST AND CHESTER', 'CITY OF BRISTOL', 'CITY OF DERBY', 'CITY OF KINGSTON UPON HULL', 'CITY OF NOTTINGHAM', 'CITY OF PETERBOROUGH', 'CITY OF PLYMOUTH', 'CLEVELAND', 'CONWY', 'CORNWALL', 'COUNTY DURHAM', 'CUMBRIA', 'DARLINGTON', 'DENBIGHSHIRE', 'DERBYSHIRE', 'DEVON', 'DORSET', 'EAST RIDING OF YORKSHIRE', 'EAST SUSSEX', 'ESSEX', 'FLINTSHIRE', 'GLOUCESTERSHIRE', 'GREATER LONDON', 'GREATER MANCHESTER', 'GWYNEDD', 'HALTON', 'HAMPSHIRE', 'HARTLEPOOL', 'HEREFORDSHIRE', 'HERTFORDSHIRE', 'ISLE OF ANGLESEY', 'ISLE OF WIGHT', 'ISLES OF SCILLY', 'KENT', 'LANCASHIRE', 'LEICESTER', 'LEICESTERSHIRE', 'LINCOLNSHIRE', 'LUTON', 'MEDWAY', 'MERSEYSIDE', 'MERTHYR TYDFIL', 'MIDDLESBROUGH', 'MILTON KEYNES', 'MONMOUTHSHIRE', 'NEATH PORT TALBOT', 'NEWPORT', 'NORFOLK', 'NORTH EAST LINCOLNSHIRE', 'NORTH LINCOLNSHIRE', 'NORTH SOMERSET', 'NORTH YORKSHIRE', 'NORTHAMPTONSHIRE', 'NORTHUMBERLAND', 'NOTTINGHAMSHIRE', 'OXFORDSHIRE', 'PEMBROKESHIRE', 'POOLE', 'PORTSMOUTH', 'POWYS', 'READING', 'REDCAR AND CLEVELAND', 'RHONDDA CYNON TAFF', 'RUTLAND', 'SHROPSHIRE', 'SLOUGH', 'SOMERSET', 'SOUTH GLOUCESTERSHIRE', 'SOUTH YORKSHIRE', 'SOUTHAMPTON', 'SOUTHEND-ON-SEA', 'STAFFORDSHIRE', 'STOCKTON-ON-TEES', 'STOKE-ON-TRENT', 'SUFFOLK', 'SURREY', 'SWANSEA', 'SWINDON', 'THE VALE OF GLAMORGAN', 'THURROCK', 'TORBAY', 'TORFAEN', 'TYNE AND WEAR', 'WARRINGTON', 'WARWICKSHIRE', 'WEST BERKSHIRE', 'WEST MIDLANDS', 'WEST SUSSEX', 'WEST YORKSHIRE', 'WILTSHIRE', 'WINDSOR AND MAIDENHEAD', 'WOKINGHAM', 'WORCESTERSHIRE', 'WREKIN', 'WREXHAM', 'YORK']\n"
     ]
    }
   ],
   "source": [
    "a = df['County'].unique()\n",
    "print(sorted(a))"
   ]
  },
  {
   "cell_type": "code",
   "execution_count": 10,
   "id": "712804ef",
   "metadata": {},
   "outputs": [],
   "source": [
    "welsh = ['WREXHAM', 'SWANSEA', 'CARDIFF', 'BLAENAU GWENT', 'CONWY', 'GWYNEDD', 'MERTHYR TYDFIL', 'MONMOUTHSHIRE', 'NEATH PORT TALBOT',\n",
    "        'NEWPORT', 'POWYS', 'RHONDDA CYON TAFF', 'THE VALE OF GLAMORGAN', 'TORFAEN', 'FLINTSHIRE', 'BRIDGEND', 'CEREDIGION',\n",
    "        'DENBIGHSHIRE', 'PEMBROKESHIRE', 'CAERPHILLY', 'CARMARTHENSHIRE', 'ISLE OF ANGLESEY']"
   ]
  },
  {
   "cell_type": "code",
   "execution_count": 11,
   "id": "6a2fc87a",
   "metadata": {},
   "outputs": [],
   "source": [
    "welshdf = df[df['County'].isin(welsh)]"
   ]
  },
  {
   "cell_type": "code",
   "execution_count": 12,
   "id": "565652a2",
   "metadata": {},
   "outputs": [
    {
     "data": {
      "text/html": [
       "<div>\n",
       "<style scoped>\n",
       "    .dataframe tbody tr th:only-of-type {\n",
       "        vertical-align: middle;\n",
       "    }\n",
       "\n",
       "    .dataframe tbody tr th {\n",
       "        vertical-align: top;\n",
       "    }\n",
       "\n",
       "    .dataframe thead th {\n",
       "        text-align: right;\n",
       "    }\n",
       "</style>\n",
       "<table border=\"1\" class=\"dataframe\">\n",
       "  <thead>\n",
       "    <tr style=\"text-align: right;\">\n",
       "      <th></th>\n",
       "      <th>Transaction unique identifier</th>\n",
       "      <th>Price</th>\n",
       "      <th>Date of Transfer</th>\n",
       "      <th>Property Type</th>\n",
       "      <th>Old/New</th>\n",
       "      <th>Duration</th>\n",
       "      <th>Town/City</th>\n",
       "      <th>District</th>\n",
       "      <th>County</th>\n",
       "      <th>PPDCategory Type</th>\n",
       "      <th>Record Status - monthly file only</th>\n",
       "      <th>date</th>\n",
       "    </tr>\n",
       "  </thead>\n",
       "  <tbody>\n",
       "    <tr>\n",
       "      <th>16288525</th>\n",
       "      <td>{0909AF4E-FCDF-4A1F-8F2B-2E72B95FD344}</td>\n",
       "      <td>54000</td>\n",
       "      <td>2010-12-15 00:00</td>\n",
       "      <td>T</td>\n",
       "      <td>N</td>\n",
       "      <td>L</td>\n",
       "      <td>SWANSEA</td>\n",
       "      <td>SWANSEA</td>\n",
       "      <td>SWANSEA</td>\n",
       "      <td>A</td>\n",
       "      <td>A</td>\n",
       "      <td>2010-01-01</td>\n",
       "    </tr>\n",
       "    <tr>\n",
       "      <th>16288536</th>\n",
       "      <td>{EB2707B9-5D4B-42FE-BAAA-359A7DFDF6DD}</td>\n",
       "      <td>99750</td>\n",
       "      <td>2010-05-14 00:00</td>\n",
       "      <td>T</td>\n",
       "      <td>N</td>\n",
       "      <td>F</td>\n",
       "      <td>BLACKWOOD</td>\n",
       "      <td>CAERPHILLY</td>\n",
       "      <td>CAERPHILLY</td>\n",
       "      <td>A</td>\n",
       "      <td>A</td>\n",
       "      <td>2010-01-01</td>\n",
       "    </tr>\n",
       "    <tr>\n",
       "      <th>16288551</th>\n",
       "      <td>{D3CD7177-974B-44D5-9CAB-2E739160893E}</td>\n",
       "      <td>67000</td>\n",
       "      <td>2010-11-04 00:00</td>\n",
       "      <td>F</td>\n",
       "      <td>Y</td>\n",
       "      <td>L</td>\n",
       "      <td>PORT TALBOT</td>\n",
       "      <td>NEATH PORT TALBOT</td>\n",
       "      <td>NEATH PORT TALBOT</td>\n",
       "      <td>A</td>\n",
       "      <td>A</td>\n",
       "      <td>2010-01-01</td>\n",
       "    </tr>\n",
       "    <tr>\n",
       "      <th>16288558</th>\n",
       "      <td>{C28EE9F4-6F6E-4F0C-8DF6-359B03B312DB}</td>\n",
       "      <td>272000</td>\n",
       "      <td>2010-11-12 00:00</td>\n",
       "      <td>D</td>\n",
       "      <td>N</td>\n",
       "      <td>F</td>\n",
       "      <td>WREXHAM</td>\n",
       "      <td>WREXHAM</td>\n",
       "      <td>WREXHAM</td>\n",
       "      <td>A</td>\n",
       "      <td>A</td>\n",
       "      <td>2010-01-01</td>\n",
       "    </tr>\n",
       "    <tr>\n",
       "      <th>16288566</th>\n",
       "      <td>{0CDB4F59-928E-459E-8FA8-32031339FC20}</td>\n",
       "      <td>147500</td>\n",
       "      <td>2010-06-30 00:00</td>\n",
       "      <td>S</td>\n",
       "      <td>Y</td>\n",
       "      <td>F</td>\n",
       "      <td>BRIDGEND</td>\n",
       "      <td>BRIDGEND</td>\n",
       "      <td>BRIDGEND</td>\n",
       "      <td>A</td>\n",
       "      <td>A</td>\n",
       "      <td>2010-01-01</td>\n",
       "    </tr>\n",
       "  </tbody>\n",
       "</table>\n",
       "</div>"
      ],
      "text/plain": [
       "                   Transaction unique identifier   Price  Date of Transfer  \\\n",
       "16288525  {0909AF4E-FCDF-4A1F-8F2B-2E72B95FD344}   54000  2010-12-15 00:00   \n",
       "16288536  {EB2707B9-5D4B-42FE-BAAA-359A7DFDF6DD}   99750  2010-05-14 00:00   \n",
       "16288551  {D3CD7177-974B-44D5-9CAB-2E739160893E}   67000  2010-11-04 00:00   \n",
       "16288558  {C28EE9F4-6F6E-4F0C-8DF6-359B03B312DB}  272000  2010-11-12 00:00   \n",
       "16288566  {0CDB4F59-928E-459E-8FA8-32031339FC20}  147500  2010-06-30 00:00   \n",
       "\n",
       "         Property Type Old/New Duration    Town/City           District  \\\n",
       "16288525             T       N        L      SWANSEA            SWANSEA   \n",
       "16288536             T       N        F    BLACKWOOD         CAERPHILLY   \n",
       "16288551             F       Y        L  PORT TALBOT  NEATH PORT TALBOT   \n",
       "16288558             D       N        F      WREXHAM            WREXHAM   \n",
       "16288566             S       Y        F     BRIDGEND           BRIDGEND   \n",
       "\n",
       "                     County PPDCategory Type  \\\n",
       "16288525            SWANSEA                A   \n",
       "16288536         CAERPHILLY                A   \n",
       "16288551  NEATH PORT TALBOT                A   \n",
       "16288558            WREXHAM                A   \n",
       "16288566           BRIDGEND                A   \n",
       "\n",
       "         Record Status - monthly file only       date  \n",
       "16288525                                 A 2010-01-01  \n",
       "16288536                                 A 2010-01-01  \n",
       "16288551                                 A 2010-01-01  \n",
       "16288558                                 A 2010-01-01  \n",
       "16288566                                 A 2010-01-01  "
      ]
     },
     "execution_count": 12,
     "metadata": {},
     "output_type": "execute_result"
    }
   ],
   "source": [
    "welshdf.head()"
   ]
  },
  {
   "cell_type": "code",
   "execution_count": 13,
   "id": "7c5dc82b",
   "metadata": {},
   "outputs": [],
   "source": [
    "#welshdf.to_csv('welsh-data.csv')"
   ]
  },
  {
   "cell_type": "code",
   "execution_count": 14,
   "id": "ce2a3391",
   "metadata": {},
   "outputs": [],
   "source": [
    "#welsh_subset = welshdf.loc[:, :10000]\n",
    "welsh_subset = welshdf[:10000]"
   ]
  },
  {
   "cell_type": "code",
   "execution_count": 15,
   "id": "8f09bcf8",
   "metadata": {},
   "outputs": [],
   "source": [
    "#welsh_subset.to_csv('subset-welsh.csv')"
   ]
  },
  {
   "cell_type": "code",
   "execution_count": 16,
   "id": "26fa01a7",
   "metadata": {},
   "outputs": [
    {
     "data": {
      "text/plain": [
       "<AxesSubplot:>"
      ]
     },
     "execution_count": 16,
     "metadata": {},
     "output_type": "execute_result"
    },
    {
     "data": {
      "image/png": "[encoded data removed]",
      "text/plain": [
       "<Figure size 432x288 with 1 Axes>"
      ]
     },
     "metadata": {
      "needs_background": "light"
     },
     "output_type": "display_data"
    }
   ],
   "source": [
    "welshdf['County'].value_counts()[:20].plot(kind='barh', color='green')"
   ]
  },
  {
   "cell_type": "code",
   "execution_count": 17,
   "id": "19ea6355",
   "metadata": {},
   "outputs": [
    {
     "data": {
      "text/plain": [
       "<AxesSubplot:>"
      ]
     },
     "execution_count": 17,
     "metadata": {},
     "output_type": "execute_result"
    },
    {
     "data": {
      "image/png": "[encoded data removed]",
      "text/plain": [
       "<Figure size 432x288 with 1 Axes>"
      ]
     },
     "metadata": {
      "needs_background": "light"
     },
     "output_type": "display_data"
    }
   ],
   "source": [
    "welshdf['date'].value_counts()[:20].plot(kind='barh', color='green')"
   ]
  },
  {
   "cell_type": "code",
   "execution_count": 18,
   "id": "9ff1016d",
   "metadata": {},
   "outputs": [
    {
     "name": "stderr",
     "output_type": "stream",
     "text": [
      "C:\\Users\\user\\AppData\\Local\\Temp/ipykernel_24288/599715765.py:1: SettingWithCopyWarning: \n",
      "A value is trying to be set on a copy of a slice from a DataFrame.\n",
      "Try using .loc[row_indexer,col_indexer] = value instead\n",
      "\n",
      "See the caveats in the documentation: https://pandas.pydata.org/pandas-docs/stable/user_guide/indexing.html#returning-a-view-versus-a-copy\n",
      "  welshdf['date'] = welshdf['date'].astype(str)\n"
     ]
    }
   ],
   "source": [
    "welshdf['date'] = welshdf['date'].astype(str)"
   ]
  },
  {
   "cell_type": "code",
   "execution_count": 19,
   "id": "8e4f1d40",
   "metadata": {},
   "outputs": [
    {
     "name": "stdout",
     "output_type": "stream",
     "text": [
      "<class 'pandas.core.frame.DataFrame'>\n",
      "Int64Index: 270785 entries, 16288525 to 22487877\n",
      "Data columns (total 12 columns):\n",
      " #   Column                             Non-Null Count   Dtype \n",
      "---  ------                             --------------   ----- \n",
      " 0   Transaction unique identifier      270785 non-null  object\n",
      " 1   Price                              270785 non-null  int64 \n",
      " 2   Date of Transfer                   270785 non-null  object\n",
      " 3   Property Type                      270785 non-null  object\n",
      " 4   Old/New                            270785 non-null  object\n",
      " 5   Duration                           270785 non-null  object\n",
      " 6   Town/City                          270785 non-null  object\n",
      " 7   District                           270785 non-null  object\n",
      " 8   County                             270785 non-null  object\n",
      " 9   PPDCategory Type                   270785 non-null  object\n",
      " 10  Record Status - monthly file only  270785 non-null  object\n",
      " 11  date                               270785 non-null  object\n",
      "dtypes: int64(1), object(11)\n",
      "memory usage: 26.9+ MB\n"
     ]
    }
   ],
   "source": [
    "welshdf.info()"
   ]
  },
  {
   "cell_type": "code",
   "execution_count": 20,
   "id": "ab39c1cf",
   "metadata": {},
   "outputs": [],
   "source": [
    "import numpy as np\n",
    "shas = np.array(welshdf['date'])\n",
    "i = 0\n",
    "while i < len(welshdf):\n",
    "    string = shas[i].split('-')\n",
    "    shas[i] = string[0]\n",
    "    i += 1"
   ]
  },
  {
   "cell_type": "code",
   "execution_count": 21,
   "id": "a4018e84",
   "metadata": {},
   "outputs": [
    {
     "data": {
      "text/plain": [
       "array(['2010', '2010', '2010', ..., '2017', '2017', '2017'], dtype=object)"
      ]
     },
     "execution_count": 21,
     "metadata": {},
     "output_type": "execute_result"
    }
   ],
   "source": [
    "shas"
   ]
  },
  {
   "cell_type": "code",
   "execution_count": 22,
   "id": "f345f7c0",
   "metadata": {},
   "outputs": [
    {
     "name": "stderr",
     "output_type": "stream",
     "text": [
      "C:\\Users\\user\\AppData\\Local\\Temp/ipykernel_24288/3116944323.py:1: SettingWithCopyWarning: \n",
      "A value is trying to be set on a copy of a slice from a DataFrame.\n",
      "Try using .loc[row_indexer,col_indexer] = value instead\n",
      "\n",
      "See the caveats in the documentation: https://pandas.pydata.org/pandas-docs/stable/user_guide/indexing.html#returning-a-view-versus-a-copy\n",
      "  welshdf['Year'] = shas.tolist()\n"
     ]
    }
   ],
   "source": [
    "welshdf['Year'] = shas.tolist()"
   ]
  },
  {
   "cell_type": "code",
   "execution_count": 23,
   "id": "d9a4bad8",
   "metadata": {},
   "outputs": [
    {
     "data": {
      "text/html": [
       "<div>\n",
       "<style scoped>\n",
       "    .dataframe tbody tr th:only-of-type {\n",
       "        vertical-align: middle;\n",
       "    }\n",
       "\n",
       "    .dataframe tbody tr th {\n",
       "        vertical-align: top;\n",
       "    }\n",
       "\n",
       "    .dataframe thead th {\n",
       "        text-align: right;\n",
       "    }\n",
       "</style>\n",
       "<table border=\"1\" class=\"dataframe\">\n",
       "  <thead>\n",
       "    <tr style=\"text-align: right;\">\n",
       "      <th></th>\n",
       "      <th>Transaction unique identifier</th>\n",
       "      <th>Price</th>\n",
       "      <th>Date of Transfer</th>\n",
       "      <th>Property Type</th>\n",
       "      <th>Old/New</th>\n",
       "      <th>Duration</th>\n",
       "      <th>Town/City</th>\n",
       "      <th>District</th>\n",
       "      <th>County</th>\n",
       "      <th>PPDCategory Type</th>\n",
       "      <th>Record Status - monthly file only</th>\n",
       "      <th>date</th>\n",
       "      <th>Year</th>\n",
       "    </tr>\n",
       "  </thead>\n",
       "  <tbody>\n",
       "    <tr>\n",
       "      <th>16288525</th>\n",
       "      <td>{0909AF4E-FCDF-4A1F-8F2B-2E72B95FD344}</td>\n",
       "      <td>54000</td>\n",
       "      <td>2010-12-15 00:00</td>\n",
       "      <td>T</td>\n",
       "      <td>N</td>\n",
       "      <td>L</td>\n",
       "      <td>SWANSEA</td>\n",
       "      <td>SWANSEA</td>\n",
       "      <td>SWANSEA</td>\n",
       "      <td>A</td>\n",
       "      <td>A</td>\n",
       "      <td>2010-01-01</td>\n",
       "      <td>2010</td>\n",
       "    </tr>\n",
       "    <tr>\n",
       "      <th>16288536</th>\n",
       "      <td>{EB2707B9-5D4B-42FE-BAAA-359A7DFDF6DD}</td>\n",
       "      <td>99750</td>\n",
       "      <td>2010-05-14 00:00</td>\n",
       "      <td>T</td>\n",
       "      <td>N</td>\n",
       "      <td>F</td>\n",
       "      <td>BLACKWOOD</td>\n",
       "      <td>CAERPHILLY</td>\n",
       "      <td>CAERPHILLY</td>\n",
       "      <td>A</td>\n",
       "      <td>A</td>\n",
       "      <td>2010-01-01</td>\n",
       "      <td>2010</td>\n",
       "    </tr>\n",
       "    <tr>\n",
       "      <th>16288551</th>\n",
       "      <td>{D3CD7177-974B-44D5-9CAB-2E739160893E}</td>\n",
       "      <td>67000</td>\n",
       "      <td>2010-11-04 00:00</td>\n",
       "      <td>F</td>\n",
       "      <td>Y</td>\n",
       "      <td>L</td>\n",
       "      <td>PORT TALBOT</td>\n",
       "      <td>NEATH PORT TALBOT</td>\n",
       "      <td>NEATH PORT TALBOT</td>\n",
       "      <td>A</td>\n",
       "      <td>A</td>\n",
       "      <td>2010-01-01</td>\n",
       "      <td>2010</td>\n",
       "    </tr>\n",
       "    <tr>\n",
       "      <th>16288558</th>\n",
       "      <td>{C28EE9F4-6F6E-4F0C-8DF6-359B03B312DB}</td>\n",
       "      <td>272000</td>\n",
       "      <td>2010-11-12 00:00</td>\n",
       "      <td>D</td>\n",
       "      <td>N</td>\n",
       "      <td>F</td>\n",
       "      <td>WREXHAM</td>\n",
       "      <td>WREXHAM</td>\n",
       "      <td>WREXHAM</td>\n",
       "      <td>A</td>\n",
       "      <td>A</td>\n",
       "      <td>2010-01-01</td>\n",
       "      <td>2010</td>\n",
       "    </tr>\n",
       "    <tr>\n",
       "      <th>16288566</th>\n",
       "      <td>{0CDB4F59-928E-459E-8FA8-32031339FC20}</td>\n",
       "      <td>147500</td>\n",
       "      <td>2010-06-30 00:00</td>\n",
       "      <td>S</td>\n",
       "      <td>Y</td>\n",
       "      <td>F</td>\n",
       "      <td>BRIDGEND</td>\n",
       "      <td>BRIDGEND</td>\n",
       "      <td>BRIDGEND</td>\n",
       "      <td>A</td>\n",
       "      <td>A</td>\n",
       "      <td>2010-01-01</td>\n",
       "      <td>2010</td>\n",
       "    </tr>\n",
       "  </tbody>\n",
       "</table>\n",
       "</div>"
      ],
      "text/plain": [
       "                   Transaction unique identifier   Price  Date of Transfer  \\\n",
       "16288525  {0909AF4E-FCDF-4A1F-8F2B-2E72B95FD344}   54000  2010-12-15 00:00   \n",
       "16288536  {EB2707B9-5D4B-42FE-BAAA-359A7DFDF6DD}   99750  2010-05-14 00:00   \n",
       "16288551  {D3CD7177-974B-44D5-9CAB-2E739160893E}   67000  2010-11-04 00:00   \n",
       "16288558  {C28EE9F4-6F6E-4F0C-8DF6-359B03B312DB}  272000  2010-11-12 00:00   \n",
       "16288566  {0CDB4F59-928E-459E-8FA8-32031339FC20}  147500  2010-06-30 00:00   \n",
       "\n",
       "         Property Type Old/New Duration    Town/City           District  \\\n",
       "16288525             T       N        L      SWANSEA            SWANSEA   \n",
       "16288536             T       N        F    BLACKWOOD         CAERPHILLY   \n",
       "16288551             F       Y        L  PORT TALBOT  NEATH PORT TALBOT   \n",
       "16288558             D       N        F      WREXHAM            WREXHAM   \n",
       "16288566             S       Y        F     BRIDGEND           BRIDGEND   \n",
       "\n",
       "                     County PPDCategory Type  \\\n",
       "16288525            SWANSEA                A   \n",
       "16288536         CAERPHILLY                A   \n",
       "16288551  NEATH PORT TALBOT                A   \n",
       "16288558            WREXHAM                A   \n",
       "16288566           BRIDGEND                A   \n",
       "\n",
       "         Record Status - monthly file only        date  Year  \n",
       "16288525                                 A  2010-01-01  2010  \n",
       "16288536                                 A  2010-01-01  2010  \n",
       "16288551                                 A  2010-01-01  2010  \n",
       "16288558                                 A  2010-01-01  2010  \n",
       "16288566                                 A  2010-01-01  2010  "
      ]
     },
     "execution_count": 23,
     "metadata": {},
     "output_type": "execute_result"
    }
   ],
   "source": [
    "welshdf.head()"
   ]
  },
  {
   "cell_type": "code",
   "execution_count": 24,
   "id": "22e8c9d9",
   "metadata": {},
   "outputs": [],
   "source": [
    "welshdf = welshdf.drop(columns=['date'])"
   ]
  },
  {
   "cell_type": "code",
   "execution_count": 25,
   "id": "16d62e17",
   "metadata": {},
   "outputs": [
    {
     "data": {
      "text/html": [
       "<div>\n",
       "<style scoped>\n",
       "    .dataframe tbody tr th:only-of-type {\n",
       "        vertical-align: middle;\n",
       "    }\n",
       "\n",
       "    .dataframe tbody tr th {\n",
       "        vertical-align: top;\n",
       "    }\n",
       "\n",
       "    .dataframe thead th {\n",
       "        text-align: right;\n",
       "    }\n",
       "</style>\n",
       "<table border=\"1\" class=\"dataframe\">\n",
       "  <thead>\n",
       "    <tr style=\"text-align: right;\">\n",
       "      <th></th>\n",
       "      <th>Transaction unique identifier</th>\n",
       "      <th>Price</th>\n",
       "      <th>Date of Transfer</th>\n",
       "      <th>Property Type</th>\n",
       "      <th>Old/New</th>\n",
       "      <th>Duration</th>\n",
       "      <th>Town/City</th>\n",
       "      <th>District</th>\n",
       "      <th>County</th>\n",
       "      <th>PPDCategory Type</th>\n",
       "      <th>Record Status - monthly file only</th>\n",
       "      <th>Year</th>\n",
       "    </tr>\n",
       "  </thead>\n",
       "  <tbody>\n",
       "    <tr>\n",
       "      <th>16288525</th>\n",
       "      <td>{0909AF4E-FCDF-4A1F-8F2B-2E72B95FD344}</td>\n",
       "      <td>54000</td>\n",
       "      <td>2010-12-15 00:00</td>\n",
       "      <td>T</td>\n",
       "      <td>N</td>\n",
       "      <td>L</td>\n",
       "      <td>SWANSEA</td>\n",
       "      <td>SWANSEA</td>\n",
       "      <td>SWANSEA</td>\n",
       "      <td>A</td>\n",
       "      <td>A</td>\n",
       "      <td>2010</td>\n",
       "    </tr>\n",
       "    <tr>\n",
       "      <th>16288536</th>\n",
       "      <td>{EB2707B9-5D4B-42FE-BAAA-359A7DFDF6DD}</td>\n",
       "      <td>99750</td>\n",
       "      <td>2010-05-14 00:00</td>\n",
       "      <td>T</td>\n",
       "      <td>N</td>\n",
       "      <td>F</td>\n",
       "      <td>BLACKWOOD</td>\n",
       "      <td>CAERPHILLY</td>\n",
       "      <td>CAERPHILLY</td>\n",
       "      <td>A</td>\n",
       "      <td>A</td>\n",
       "      <td>2010</td>\n",
       "    </tr>\n",
       "    <tr>\n",
       "      <th>16288551</th>\n",
       "      <td>{D3CD7177-974B-44D5-9CAB-2E739160893E}</td>\n",
       "      <td>67000</td>\n",
       "      <td>2010-11-04 00:00</td>\n",
       "      <td>F</td>\n",
       "      <td>Y</td>\n",
       "      <td>L</td>\n",
       "      <td>PORT TALBOT</td>\n",
       "      <td>NEATH PORT TALBOT</td>\n",
       "      <td>NEATH PORT TALBOT</td>\n",
       "      <td>A</td>\n",
       "      <td>A</td>\n",
       "      <td>2010</td>\n",
       "    </tr>\n",
       "    <tr>\n",
       "      <th>16288558</th>\n",
       "      <td>{C28EE9F4-6F6E-4F0C-8DF6-359B03B312DB}</td>\n",
       "      <td>272000</td>\n",
       "      <td>2010-11-12 00:00</td>\n",
       "      <td>D</td>\n",
       "      <td>N</td>\n",
       "      <td>F</td>\n",
       "      <td>WREXHAM</td>\n",
       "      <td>WREXHAM</td>\n",
       "      <td>WREXHAM</td>\n",
       "      <td>A</td>\n",
       "      <td>A</td>\n",
       "      <td>2010</td>\n",
       "    </tr>\n",
       "    <tr>\n",
       "      <th>16288566</th>\n",
       "      <td>{0CDB4F59-928E-459E-8FA8-32031339FC20}</td>\n",
       "      <td>147500</td>\n",
       "      <td>2010-06-30 00:00</td>\n",
       "      <td>S</td>\n",
       "      <td>Y</td>\n",
       "      <td>F</td>\n",
       "      <td>BRIDGEND</td>\n",
       "      <td>BRIDGEND</td>\n",
       "      <td>BRIDGEND</td>\n",
       "      <td>A</td>\n",
       "      <td>A</td>\n",
       "      <td>2010</td>\n",
       "    </tr>\n",
       "  </tbody>\n",
       "</table>\n",
       "</div>"
      ],
      "text/plain": [
       "                   Transaction unique identifier   Price  Date of Transfer  \\\n",
       "16288525  {0909AF4E-FCDF-4A1F-8F2B-2E72B95FD344}   54000  2010-12-15 00:00   \n",
       "16288536  {EB2707B9-5D4B-42FE-BAAA-359A7DFDF6DD}   99750  2010-05-14 00:00   \n",
       "16288551  {D3CD7177-974B-44D5-9CAB-2E739160893E}   67000  2010-11-04 00:00   \n",
       "16288558  {C28EE9F4-6F6E-4F0C-8DF6-359B03B312DB}  272000  2010-11-12 00:00   \n",
       "16288566  {0CDB4F59-928E-459E-8FA8-32031339FC20}  147500  2010-06-30 00:00   \n",
       "\n",
       "         Property Type Old/New Duration    Town/City           District  \\\n",
       "16288525             T       N        L      SWANSEA            SWANSEA   \n",
       "16288536             T       N        F    BLACKWOOD         CAERPHILLY   \n",
       "16288551             F       Y        L  PORT TALBOT  NEATH PORT TALBOT   \n",
       "16288558             D       N        F      WREXHAM            WREXHAM   \n",
       "16288566             S       Y        F     BRIDGEND           BRIDGEND   \n",
       "\n",
       "                     County PPDCategory Type  \\\n",
       "16288525            SWANSEA                A   \n",
       "16288536         CAERPHILLY                A   \n",
       "16288551  NEATH PORT TALBOT                A   \n",
       "16288558            WREXHAM                A   \n",
       "16288566           BRIDGEND                A   \n",
       "\n",
       "         Record Status - monthly file only  Year  \n",
       "16288525                                 A  2010  \n",
       "16288536                                 A  2010  \n",
       "16288551                                 A  2010  \n",
       "16288558                                 A  2010  \n",
       "16288566                                 A  2010  "
      ]
     },
     "execution_count": 25,
     "metadata": {},
     "output_type": "execute_result"
    }
   ],
   "source": [
    "welshdf.head()"
   ]
  },
  {
   "cell_type": "code",
   "execution_count": 26,
   "id": "b99b0cfb",
   "metadata": {},
   "outputs": [],
   "source": [
    "#welshdf.to_csv('year-welsh-data.csv')"
   ]
  },
  {
   "cell_type": "code",
   "execution_count": 27,
   "id": "fea964e9",
   "metadata": {},
   "outputs": [
    {
     "data": {
      "text/plain": [
       "CARDIFF          37945\n",
       "SWANSEA          25271\n",
       "NEWPORT          17833\n",
       "BRIDGEND         11751\n",
       "WREXHAM          10858\n",
       "                 ...  \n",
       "TREORCHY             2\n",
       "PORT DINORWIC        1\n",
       "HOOK                 1\n",
       "COLEFORD             1\n",
       "TONYPANDY            1\n",
       "Name: Town/City, Length: 181, dtype: int64"
      ]
     },
     "execution_count": 27,
     "metadata": {},
     "output_type": "execute_result"
    }
   ],
   "source": [
    "welshdf['Town/City'].value_counts()"
   ]
  },
  {
   "cell_type": "code",
   "execution_count": 28,
   "id": "1dd00e5a",
   "metadata": {},
   "outputs": [
    {
     "data": {
      "text/plain": [
       "<AxesSubplot:>"
      ]
     },
     "execution_count": 28,
     "metadata": {},
     "output_type": "execute_result"
    },
    {
     "data": {
      "image/png": "[encoded data removed]",
      "text/plain": [
       "<Figure size 432x288 with 1 Axes>"
      ]
     },
     "metadata": {
      "needs_background": "light"
     },
     "output_type": "display_data"
    }
   ],
   "source": [
    "welshdf['Town/City'].value_counts()[:20].plot(kind='barh', color='blue')"
   ]
  },
  {
   "cell_type": "code",
   "execution_count": 29,
   "id": "3ac005f2",
   "metadata": {},
   "outputs": [
    {
     "data": {
      "image/png": "[encoded data removed]",
      "text/plain": [
       "<Figure size 1296x432 with 1 Axes>"
      ]
     },
     "metadata": {
      "needs_background": "light"
     },
     "output_type": "display_data"
    }
   ],
   "source": [
    "import matplotlib.pyplot as plt  # Matlab-style plotting\n",
    "from IPython.display import display\n",
    "import seaborn as sns\n",
    "\n",
    "plt.subplots(figsize=(18, 6))\n",
    "median = plt.plot(welshdf['Price'].groupby(welshdf['Town/City']).median()[:10], label='Median', color='turquoise')\n",
    "mean = plt.plot(welshdf['Price'].groupby(welshdf['Town/City']).mean()[:10], label='Mean', color='green')\n",
    "plt.xlabel('Town/City', fontsize=15)\n",
    "plt.ylabel('Price (in £)', fontsize=15)\n",
    "plt.title('Median and Mean Price for top Welsh Towns/Cities')\n",
    "plt.legend()\n",
    "plt.show()"
   ]
  },
  {
   "cell_type": "code",
   "execution_count": 30,
   "id": "f83d8ce3",
   "metadata": {},
   "outputs": [
    {
     "data": {
      "image/png": "[encoded data removed]",
      "text/plain": [
       "<Figure size 1296x432 with 1 Axes>"
      ]
     },
     "metadata": {
      "needs_background": "light"
     },
     "output_type": "display_data"
    }
   ],
   "source": [
    "import matplotlib.pyplot as plt  # Matlab-style plotting\n",
    "from IPython.display import display\n",
    "import seaborn as sns\n",
    "\n",
    "plt.subplots(figsize=(18, 6))\n",
    "median = plt.plot(welshdf['Price'].groupby(welshdf['Year']).median()[:10], label='Median', color='turquoise')\n",
    "mean = plt.plot(welshdf['Price'].groupby(welshdf['Year']).mean()[:10], label='Mean', color='green')\n",
    "plt.xlabel('Year', fontsize=15)\n",
    "plt.ylabel('Price (in £)', fontsize=15)\n",
    "plt.title('Median and Mean Price for Welsh housing sales 2010-2017')\n",
    "plt.legend()\n",
    "plt.show()"
   ]
  },
  {
   "cell_type": "code",
   "execution_count": 31,
   "id": "5f91f9ae",
   "metadata": {},
   "outputs": [
    {
     "data": {
      "text/plain": [
       "<AxesSubplot:>"
      ]
     },
     "execution_count": 31,
     "metadata": {},
     "output_type": "execute_result"
    },
    {
     "data": {
      "image/png": "[encoded data removed]",
      "text/plain": [
       "<Figure size 432x288 with 1 Axes>"
      ]
     },
     "metadata": {
      "needs_background": "light"
     },
     "output_type": "display_data"
    }
   ],
   "source": [
    "welshdf['County'].value_counts()[:20].plot(kind='barh', color='yellowgreen')"
   ]
  },
  {
   "cell_type": "code",
   "execution_count": 32,
   "id": "b9425620",
   "metadata": {},
   "outputs": [
    {
     "data": {
      "image/png": "[encoded data removed]",
      "text/plain": [
       "<Figure size 1296x432 with 1 Axes>"
      ]
     },
     "metadata": {
      "needs_background": "light"
     },
     "output_type": "display_data"
    }
   ],
   "source": [
    "import matplotlib.pyplot as plt  # Matlab-style plotting\n",
    "from IPython.display import display\n",
    "import seaborn as sns\n",
    "\n",
    "plt.subplots(figsize=(18, 6))\n",
    "median = plt.plot(welshdf['Price'].groupby(welshdf['County']).median()[:10], label='Median', color='turquoise')\n",
    "mean = plt.plot(welshdf['Price'].groupby(welshdf['County']).mean()[:10], label='Mean', color='green')\n",
    "plt.xlabel('Year', fontsize=15)\n",
    "plt.ylabel('Price (in £)', fontsize=15)\n",
    "plt.title('Median and Mean Price for Welsh housing sales 2010-2017 per County')\n",
    "plt.legend()\n",
    "plt.show()"
   ]
  },
  {
   "cell_type": "code",
   "execution_count": 33,
   "id": "936098e5",
   "metadata": {},
   "outputs": [
    {
     "data": {
      "text/plain": [
       "83500000"
      ]
     },
     "execution_count": 33,
     "metadata": {},
     "output_type": "execute_result"
    }
   ],
   "source": [
    "welshdf['Price'].max()"
   ]
  },
  {
   "cell_type": "code",
   "execution_count": 34,
   "id": "f8cb2fed",
   "metadata": {},
   "outputs": [
    {
     "data": {
      "text/html": [
       "<div>\n",
       "<style scoped>\n",
       "    .dataframe tbody tr th:only-of-type {\n",
       "        vertical-align: middle;\n",
       "    }\n",
       "\n",
       "    .dataframe tbody tr th {\n",
       "        vertical-align: top;\n",
       "    }\n",
       "\n",
       "    .dataframe thead th {\n",
       "        text-align: right;\n",
       "    }\n",
       "</style>\n",
       "<table border=\"1\" class=\"dataframe\">\n",
       "  <thead>\n",
       "    <tr style=\"text-align: right;\">\n",
       "      <th></th>\n",
       "      <th>Transaction unique identifier</th>\n",
       "      <th>Price</th>\n",
       "      <th>Date of Transfer</th>\n",
       "      <th>Property Type</th>\n",
       "      <th>Old/New</th>\n",
       "      <th>Duration</th>\n",
       "      <th>Town/City</th>\n",
       "      <th>District</th>\n",
       "      <th>County</th>\n",
       "      <th>PPDCategory Type</th>\n",
       "      <th>Record Status - monthly file only</th>\n",
       "      <th>Year</th>\n",
       "    </tr>\n",
       "  </thead>\n",
       "  <tbody>\n",
       "    <tr>\n",
       "      <th>17010309</th>\n",
       "      <td>{EA0C397B-1487-46A0-9603-BF7C3323FEE4}</td>\n",
       "      <td>1900000</td>\n",
       "      <td>2011-09-16 00:00</td>\n",
       "      <td>D</td>\n",
       "      <td>N</td>\n",
       "      <td>F</td>\n",
       "      <td>CARDIFF</td>\n",
       "      <td>THE VALE OF GLAMORGAN</td>\n",
       "      <td>THE VALE OF GLAMORGAN</td>\n",
       "      <td>A</td>\n",
       "      <td>A</td>\n",
       "      <td>2011</td>\n",
       "    </tr>\n",
       "    <tr>\n",
       "      <th>17859143</th>\n",
       "      <td>{3E0330EF-8559-8D89-E050-A8C062052140}</td>\n",
       "      <td>1999900</td>\n",
       "      <td>2012-04-25 00:00</td>\n",
       "      <td>D</td>\n",
       "      <td>N</td>\n",
       "      <td>F</td>\n",
       "      <td>SWANSEA</td>\n",
       "      <td>SWANSEA</td>\n",
       "      <td>SWANSEA</td>\n",
       "      <td>A</td>\n",
       "      <td>A</td>\n",
       "      <td>2012</td>\n",
       "    </tr>\n",
       "    <tr>\n",
       "      <th>18275379</th>\n",
       "      <td>{FCCAC960-1D41-4472-8543-EAC4B6624DD2}</td>\n",
       "      <td>1775000</td>\n",
       "      <td>2012-11-30 00:00</td>\n",
       "      <td>D</td>\n",
       "      <td>N</td>\n",
       "      <td>F</td>\n",
       "      <td>CALDICOT</td>\n",
       "      <td>NEWPORT</td>\n",
       "      <td>NEWPORT</td>\n",
       "      <td>A</td>\n",
       "      <td>A</td>\n",
       "      <td>2012</td>\n",
       "    </tr>\n",
       "    <tr>\n",
       "      <th>18406037</th>\n",
       "      <td>{21E5FEB6-844B-2439-E050-A8C06205342E}</td>\n",
       "      <td>5000000</td>\n",
       "      <td>2013-09-02 00:00</td>\n",
       "      <td>O</td>\n",
       "      <td>N</td>\n",
       "      <td>F</td>\n",
       "      <td>BANGOR</td>\n",
       "      <td>GWYNEDD</td>\n",
       "      <td>GWYNEDD</td>\n",
       "      <td>B</td>\n",
       "      <td>A</td>\n",
       "      <td>2013</td>\n",
       "    </tr>\n",
       "    <tr>\n",
       "      <th>18417585</th>\n",
       "      <td>{21E5FEB6-A129-2439-E050-A8C06205342E}</td>\n",
       "      <td>7935000</td>\n",
       "      <td>2013-12-03 00:00</td>\n",
       "      <td>O</td>\n",
       "      <td>N</td>\n",
       "      <td>F</td>\n",
       "      <td>WREXHAM</td>\n",
       "      <td>WREXHAM</td>\n",
       "      <td>WREXHAM</td>\n",
       "      <td>B</td>\n",
       "      <td>A</td>\n",
       "      <td>2013</td>\n",
       "    </tr>\n",
       "    <tr>\n",
       "      <th>...</th>\n",
       "      <td>...</td>\n",
       "      <td>...</td>\n",
       "      <td>...</td>\n",
       "      <td>...</td>\n",
       "      <td>...</td>\n",
       "      <td>...</td>\n",
       "      <td>...</td>\n",
       "      <td>...</td>\n",
       "      <td>...</td>\n",
       "      <td>...</td>\n",
       "      <td>...</td>\n",
       "      <td>...</td>\n",
       "    </tr>\n",
       "    <tr>\n",
       "      <th>22372035</th>\n",
       "      <td>{5376B386-4342-34C1-E053-6B04A8C09FF6}</td>\n",
       "      <td>3150000</td>\n",
       "      <td>2017-05-02 00:00</td>\n",
       "      <td>O</td>\n",
       "      <td>N</td>\n",
       "      <td>F</td>\n",
       "      <td>CARDIFF</td>\n",
       "      <td>CARDIFF</td>\n",
       "      <td>CARDIFF</td>\n",
       "      <td>B</td>\n",
       "      <td>A</td>\n",
       "      <td>2017</td>\n",
       "    </tr>\n",
       "    <tr>\n",
       "      <th>22376469</th>\n",
       "      <td>{5376B386-438B-34C1-E053-6B04A8C09FF6}</td>\n",
       "      <td>1800000</td>\n",
       "      <td>2017-06-14 00:00</td>\n",
       "      <td>D</td>\n",
       "      <td>N</td>\n",
       "      <td>F</td>\n",
       "      <td>PENARTH</td>\n",
       "      <td>THE VALE OF GLAMORGAN</td>\n",
       "      <td>THE VALE OF GLAMORGAN</td>\n",
       "      <td>B</td>\n",
       "      <td>A</td>\n",
       "      <td>2017</td>\n",
       "    </tr>\n",
       "    <tr>\n",
       "      <th>22376488</th>\n",
       "      <td>{5376B386-43A1-34C1-E053-6B04A8C09FF6}</td>\n",
       "      <td>2400000</td>\n",
       "      <td>2017-05-24 00:00</td>\n",
       "      <td>O</td>\n",
       "      <td>N</td>\n",
       "      <td>F</td>\n",
       "      <td>CARDIFF</td>\n",
       "      <td>CARDIFF</td>\n",
       "      <td>CARDIFF</td>\n",
       "      <td>B</td>\n",
       "      <td>A</td>\n",
       "      <td>2017</td>\n",
       "    </tr>\n",
       "    <tr>\n",
       "      <th>22486870</th>\n",
       "      <td>{50F18103-D2D6-9FD5-E050-A8C063054923}</td>\n",
       "      <td>2950000</td>\n",
       "      <td>2017-04-03 00:00</td>\n",
       "      <td>O</td>\n",
       "      <td>N</td>\n",
       "      <td>F</td>\n",
       "      <td>CAERPHILLY</td>\n",
       "      <td>CAERPHILLY</td>\n",
       "      <td>CAERPHILLY</td>\n",
       "      <td>B</td>\n",
       "      <td>A</td>\n",
       "      <td>2017</td>\n",
       "    </tr>\n",
       "    <tr>\n",
       "      <th>22487872</th>\n",
       "      <td>{50F18103-D2F8-9FD5-E050-A8C063054923}</td>\n",
       "      <td>2950000</td>\n",
       "      <td>2017-04-03 00:00</td>\n",
       "      <td>O</td>\n",
       "      <td>N</td>\n",
       "      <td>F</td>\n",
       "      <td>LLANELLI</td>\n",
       "      <td>CARMARTHENSHIRE</td>\n",
       "      <td>CARMARTHENSHIRE</td>\n",
       "      <td>B</td>\n",
       "      <td>A</td>\n",
       "      <td>2017</td>\n",
       "    </tr>\n",
       "  </tbody>\n",
       "</table>\n",
       "<p>291 rows × 12 columns</p>\n",
       "</div>"
      ],
      "text/plain": [
       "                   Transaction unique identifier    Price  Date of Transfer  \\\n",
       "17010309  {EA0C397B-1487-46A0-9603-BF7C3323FEE4}  1900000  2011-09-16 00:00   \n",
       "17859143  {3E0330EF-8559-8D89-E050-A8C062052140}  1999900  2012-04-25 00:00   \n",
       "18275379  {FCCAC960-1D41-4472-8543-EAC4B6624DD2}  1775000  2012-11-30 00:00   \n",
       "18406037  {21E5FEB6-844B-2439-E050-A8C06205342E}  5000000  2013-09-02 00:00   \n",
       "18417585  {21E5FEB6-A129-2439-E050-A8C06205342E}  7935000  2013-12-03 00:00   \n",
       "...                                          ...      ...               ...   \n",
       "22372035  {5376B386-4342-34C1-E053-6B04A8C09FF6}  3150000  2017-05-02 00:00   \n",
       "22376469  {5376B386-438B-34C1-E053-6B04A8C09FF6}  1800000  2017-06-14 00:00   \n",
       "22376488  {5376B386-43A1-34C1-E053-6B04A8C09FF6}  2400000  2017-05-24 00:00   \n",
       "22486870  {50F18103-D2D6-9FD5-E050-A8C063054923}  2950000  2017-04-03 00:00   \n",
       "22487872  {50F18103-D2F8-9FD5-E050-A8C063054923}  2950000  2017-04-03 00:00   \n",
       "\n",
       "         Property Type Old/New Duration   Town/City               District  \\\n",
       "17010309             D       N        F     CARDIFF  THE VALE OF GLAMORGAN   \n",
       "17859143             D       N        F     SWANSEA                SWANSEA   \n",
       "18275379             D       N        F    CALDICOT                NEWPORT   \n",
       "18406037             O       N        F      BANGOR                GWYNEDD   \n",
       "18417585             O       N        F     WREXHAM                WREXHAM   \n",
       "...                ...     ...      ...         ...                    ...   \n",
       "22372035             O       N        F     CARDIFF                CARDIFF   \n",
       "22376469             D       N        F     PENARTH  THE VALE OF GLAMORGAN   \n",
       "22376488             O       N        F     CARDIFF                CARDIFF   \n",
       "22486870             O       N        F  CAERPHILLY             CAERPHILLY   \n",
       "22487872             O       N        F    LLANELLI        CARMARTHENSHIRE   \n",
       "\n",
       "                         County PPDCategory Type  \\\n",
       "17010309  THE VALE OF GLAMORGAN                A   \n",
       "17859143                SWANSEA                A   \n",
       "18275379                NEWPORT                A   \n",
       "18406037                GWYNEDD                B   \n",
       "18417585                WREXHAM                B   \n",
       "...                         ...              ...   \n",
       "22372035                CARDIFF                B   \n",
       "22376469  THE VALE OF GLAMORGAN                B   \n",
       "22376488                CARDIFF                B   \n",
       "22486870             CAERPHILLY                B   \n",
       "22487872        CARMARTHENSHIRE                B   \n",
       "\n",
       "         Record Status - monthly file only  Year  \n",
       "17010309                                 A  2011  \n",
       "17859143                                 A  2012  \n",
       "18275379                                 A  2012  \n",
       "18406037                                 A  2013  \n",
       "18417585                                 A  2013  \n",
       "...                                    ...   ...  \n",
       "22372035                                 A  2017  \n",
       "22376469                                 A  2017  \n",
       "22376488                                 A  2017  \n",
       "22486870                                 A  2017  \n",
       "22487872                                 A  2017  \n",
       "\n",
       "[291 rows x 12 columns]"
      ]
     },
     "execution_count": 34,
     "metadata": {},
     "output_type": "execute_result"
    }
   ],
   "source": [
    "welshdf[welshdf['Price'] > 1750000]"
   ]
  },
  {
   "cell_type": "code",
   "execution_count": 35,
   "id": "044e83e2",
   "metadata": {},
   "outputs": [
    {
     "data": {
      "image/png": "[encoded data removed]",
      "text/plain": [
       "<Figure size 1296x432 with 1 Axes>"
      ]
     },
     "metadata": {
      "needs_background": "light"
     },
     "output_type": "display_data"
    }
   ],
   "source": [
    "import matplotlib.pyplot as plt  # Matlab-style plotting\n",
    "from IPython.display import display\n",
    "import seaborn as sns\n",
    "\n",
    "plt.subplots(figsize=(18, 6))\n",
    "median = plt.plot(welshdf['Price'].groupby(welshdf['Year']).median()[:10], label='Median', color='turquoise')\n",
    "mean = plt.plot(welshdf['Price'].groupby(welshdf['Year']).mean()[:10], label='Mean', color='green')\n",
    "plt.xlabel('Year', fontsize=15)\n",
    "plt.ylabel('Price (in £)', fontsize=15)\n",
    "plt.title('Median and Mean Price for Welsh housing sales 2010-2017 per County')\n",
    "plt.legend()\n",
    "plt.show()"
   ]
  },
  {
   "cell_type": "code",
   "execution_count": 36,
   "id": "9bf922aa",
   "metadata": {},
   "outputs": [],
   "source": [
    "engdf = df[~df['County'].isin(welsh)]"
   ]
  },
  {
   "cell_type": "code",
   "execution_count": 37,
   "id": "743d8b23",
   "metadata": {},
   "outputs": [
    {
     "data": {
      "text/html": [
       "<div>\n",
       "<style scoped>\n",
       "    .dataframe tbody tr th:only-of-type {\n",
       "        vertical-align: middle;\n",
       "    }\n",
       "\n",
       "    .dataframe tbody tr th {\n",
       "        vertical-align: top;\n",
       "    }\n",
       "\n",
       "    .dataframe thead th {\n",
       "        text-align: right;\n",
       "    }\n",
       "</style>\n",
       "<table border=\"1\" class=\"dataframe\">\n",
       "  <thead>\n",
       "    <tr style=\"text-align: right;\">\n",
       "      <th></th>\n",
       "      <th>Transaction unique identifier</th>\n",
       "      <th>Price</th>\n",
       "      <th>Date of Transfer</th>\n",
       "      <th>Property Type</th>\n",
       "      <th>Old/New</th>\n",
       "      <th>Duration</th>\n",
       "      <th>Town/City</th>\n",
       "      <th>District</th>\n",
       "      <th>County</th>\n",
       "      <th>PPDCategory Type</th>\n",
       "      <th>Record Status - monthly file only</th>\n",
       "      <th>date</th>\n",
       "    </tr>\n",
       "  </thead>\n",
       "  <tbody>\n",
       "    <tr>\n",
       "      <th>16288526</th>\n",
       "      <td>{C19EE7DE-83F7-446B-B80A-2E72D1013976}</td>\n",
       "      <td>242950</td>\n",
       "      <td>2010-12-03 00:00</td>\n",
       "      <td>F</td>\n",
       "      <td>Y</td>\n",
       "      <td>L</td>\n",
       "      <td>FERNDOWN</td>\n",
       "      <td>EAST DORSET</td>\n",
       "      <td>DORSET</td>\n",
       "      <td>A</td>\n",
       "      <td>A</td>\n",
       "      <td>2010-01-01</td>\n",
       "    </tr>\n",
       "    <tr>\n",
       "      <th>16288527</th>\n",
       "      <td>{89D89B61-0437-413A-A9D1-2E72DBA45D23}</td>\n",
       "      <td>220000</td>\n",
       "      <td>2010-02-19 00:00</td>\n",
       "      <td>D</td>\n",
       "      <td>Y</td>\n",
       "      <td>F</td>\n",
       "      <td>BRIDGNORTH</td>\n",
       "      <td>SHROPSHIRE</td>\n",
       "      <td>SHROPSHIRE</td>\n",
       "      <td>A</td>\n",
       "      <td>A</td>\n",
       "      <td>2010-01-01</td>\n",
       "    </tr>\n",
       "    <tr>\n",
       "      <th>16288528</th>\n",
       "      <td>{23190476-2BF5-47FC-BE79-275388275836}</td>\n",
       "      <td>72000</td>\n",
       "      <td>2010-12-20 00:00</td>\n",
       "      <td>T</td>\n",
       "      <td>N</td>\n",
       "      <td>F</td>\n",
       "      <td>SUNDERLAND</td>\n",
       "      <td>SUNDERLAND</td>\n",
       "      <td>TYNE AND WEAR</td>\n",
       "      <td>A</td>\n",
       "      <td>A</td>\n",
       "      <td>2010-01-01</td>\n",
       "    </tr>\n",
       "    <tr>\n",
       "      <th>16288529</th>\n",
       "      <td>{BD55330D-8F32-4162-9DA4-2753920A35B8}</td>\n",
       "      <td>159500</td>\n",
       "      <td>2010-12-20 00:00</td>\n",
       "      <td>S</td>\n",
       "      <td>N</td>\n",
       "      <td>F</td>\n",
       "      <td>BURNHAM-ON-SEA</td>\n",
       "      <td>SEDGEMOOR</td>\n",
       "      <td>SOMERSET</td>\n",
       "      <td>A</td>\n",
       "      <td>A</td>\n",
       "      <td>2010-01-01</td>\n",
       "    </tr>\n",
       "    <tr>\n",
       "      <th>16288530</th>\n",
       "      <td>{50D7D682-62EC-4161-80C8-2ADE2AEEBE0B}</td>\n",
       "      <td>225000</td>\n",
       "      <td>2010-04-23 00:00</td>\n",
       "      <td>T</td>\n",
       "      <td>N</td>\n",
       "      <td>F</td>\n",
       "      <td>BRISTOL</td>\n",
       "      <td>NORTH SOMERSET</td>\n",
       "      <td>NORTH SOMERSET</td>\n",
       "      <td>A</td>\n",
       "      <td>A</td>\n",
       "      <td>2010-01-01</td>\n",
       "    </tr>\n",
       "  </tbody>\n",
       "</table>\n",
       "</div>"
      ],
      "text/plain": [
       "                   Transaction unique identifier   Price  Date of Transfer  \\\n",
       "16288526  {C19EE7DE-83F7-446B-B80A-2E72D1013976}  242950  2010-12-03 00:00   \n",
       "16288527  {89D89B61-0437-413A-A9D1-2E72DBA45D23}  220000  2010-02-19 00:00   \n",
       "16288528  {23190476-2BF5-47FC-BE79-275388275836}   72000  2010-12-20 00:00   \n",
       "16288529  {BD55330D-8F32-4162-9DA4-2753920A35B8}  159500  2010-12-20 00:00   \n",
       "16288530  {50D7D682-62EC-4161-80C8-2ADE2AEEBE0B}  225000  2010-04-23 00:00   \n",
       "\n",
       "         Property Type Old/New Duration       Town/City        District  \\\n",
       "16288526             F       Y        L        FERNDOWN     EAST DORSET   \n",
       "16288527             D       Y        F      BRIDGNORTH      SHROPSHIRE   \n",
       "16288528             T       N        F      SUNDERLAND      SUNDERLAND   \n",
       "16288529             S       N        F  BURNHAM-ON-SEA       SEDGEMOOR   \n",
       "16288530             T       N        F         BRISTOL  NORTH SOMERSET   \n",
       "\n",
       "                  County PPDCategory Type Record Status - monthly file only  \\\n",
       "16288526          DORSET                A                                 A   \n",
       "16288527      SHROPSHIRE                A                                 A   \n",
       "16288528   TYNE AND WEAR                A                                 A   \n",
       "16288529        SOMERSET                A                                 A   \n",
       "16288530  NORTH SOMERSET                A                                 A   \n",
       "\n",
       "               date  \n",
       "16288526 2010-01-01  \n",
       "16288527 2010-01-01  \n",
       "16288528 2010-01-01  \n",
       "16288529 2010-01-01  \n",
       "16288530 2010-01-01  "
      ]
     },
     "execution_count": 37,
     "metadata": {},
     "output_type": "execute_result"
    }
   ],
   "source": [
    "engdf.head()"
   ]
  },
  {
   "cell_type": "code",
   "execution_count": 38,
   "id": "901f2502",
   "metadata": {},
   "outputs": [
    {
     "name": "stderr",
     "output_type": "stream",
     "text": [
      "C:\\Users\\user\\AppData\\Local\\Temp/ipykernel_24288/1071921378.py:2: SettingWithCopyWarning: \n",
      "A value is trying to be set on a copy of a slice from a DataFrame.\n",
      "Try using .loc[row_indexer,col_indexer] = value instead\n",
      "\n",
      "See the caveats in the documentation: https://pandas.pydata.org/pandas-docs/stable/user_guide/indexing.html#returning-a-view-versus-a-copy\n",
      "  engdf['date'] = engdf['date'].astype(str)\n"
     ]
    }
   ],
   "source": [
    "import numpy as np\n",
    "engdf['date'] = engdf['date'].astype(str)\n",
    "shas = np.array(engdf['date'])\n",
    "i = 0\n",
    "while i < len(engdf):\n",
    "    string = shas[i].split('-')\n",
    "    shas[i] = string[0]\n",
    "    i += 1"
   ]
  },
  {
   "cell_type": "code",
   "execution_count": 39,
   "id": "d6f9d98d",
   "metadata": {},
   "outputs": [
    {
     "name": "stderr",
     "output_type": "stream",
     "text": [
      "C:\\Users\\user\\AppData\\Local\\Temp/ipykernel_24288/1110357745.py:1: SettingWithCopyWarning: \n",
      "A value is trying to be set on a copy of a slice from a DataFrame.\n",
      "Try using .loc[row_indexer,col_indexer] = value instead\n",
      "\n",
      "See the caveats in the documentation: https://pandas.pydata.org/pandas-docs/stable/user_guide/indexing.html#returning-a-view-versus-a-copy\n",
      "  engdf['Year'] = shas.tolist()\n"
     ]
    }
   ],
   "source": [
    "engdf['Year'] = shas.tolist()"
   ]
  },
  {
   "cell_type": "code",
   "execution_count": 45,
   "id": "f7c938c0",
   "metadata": {},
   "outputs": [],
   "source": [
    "leedsdf = engdf.loc[engdf['Town/City'] == 'LEEDS']"
   ]
  },
  {
   "cell_type": "code",
   "execution_count": 51,
   "id": "575b2bfe",
   "metadata": {},
   "outputs": [],
   "source": [
    "engdf.drop(columns=['Date of Transfer'], inplace=True)\n",
    "leedsdf.drop(columns=['Date of Transfer'], inplace=True)"
   ]
  },
  {
   "cell_type": "code",
   "execution_count": 42,
   "id": "1b024d80",
   "metadata": {},
   "outputs": [
    {
     "data": {
      "text/html": [
       "<div>\n",
       "<style scoped>\n",
       "    .dataframe tbody tr th:only-of-type {\n",
       "        vertical-align: middle;\n",
       "    }\n",
       "\n",
       "    .dataframe tbody tr th {\n",
       "        vertical-align: top;\n",
       "    }\n",
       "\n",
       "    .dataframe thead th {\n",
       "        text-align: right;\n",
       "    }\n",
       "</style>\n",
       "<table border=\"1\" class=\"dataframe\">\n",
       "  <thead>\n",
       "    <tr style=\"text-align: right;\">\n",
       "      <th></th>\n",
       "      <th>Transaction unique identifier</th>\n",
       "      <th>Price</th>\n",
       "      <th>Property Type</th>\n",
       "      <th>Old/New</th>\n",
       "      <th>Duration</th>\n",
       "      <th>Town/City</th>\n",
       "      <th>District</th>\n",
       "      <th>County</th>\n",
       "      <th>PPDCategory Type</th>\n",
       "      <th>Record Status - monthly file only</th>\n",
       "      <th>date</th>\n",
       "      <th>Year</th>\n",
       "    </tr>\n",
       "  </thead>\n",
       "  <tbody>\n",
       "    <tr>\n",
       "      <th>16288526</th>\n",
       "      <td>{C19EE7DE-83F7-446B-B80A-2E72D1013976}</td>\n",
       "      <td>242950</td>\n",
       "      <td>F</td>\n",
       "      <td>Y</td>\n",
       "      <td>L</td>\n",
       "      <td>FERNDOWN</td>\n",
       "      <td>EAST DORSET</td>\n",
       "      <td>DORSET</td>\n",
       "      <td>A</td>\n",
       "      <td>A</td>\n",
       "      <td>2010-01-01</td>\n",
       "      <td>2010</td>\n",
       "    </tr>\n",
       "    <tr>\n",
       "      <th>16288527</th>\n",
       "      <td>{89D89B61-0437-413A-A9D1-2E72DBA45D23}</td>\n",
       "      <td>220000</td>\n",
       "      <td>D</td>\n",
       "      <td>Y</td>\n",
       "      <td>F</td>\n",
       "      <td>BRIDGNORTH</td>\n",
       "      <td>SHROPSHIRE</td>\n",
       "      <td>SHROPSHIRE</td>\n",
       "      <td>A</td>\n",
       "      <td>A</td>\n",
       "      <td>2010-01-01</td>\n",
       "      <td>2010</td>\n",
       "    </tr>\n",
       "    <tr>\n",
       "      <th>16288528</th>\n",
       "      <td>{23190476-2BF5-47FC-BE79-275388275836}</td>\n",
       "      <td>72000</td>\n",
       "      <td>T</td>\n",
       "      <td>N</td>\n",
       "      <td>F</td>\n",
       "      <td>SUNDERLAND</td>\n",
       "      <td>SUNDERLAND</td>\n",
       "      <td>TYNE AND WEAR</td>\n",
       "      <td>A</td>\n",
       "      <td>A</td>\n",
       "      <td>2010-01-01</td>\n",
       "      <td>2010</td>\n",
       "    </tr>\n",
       "    <tr>\n",
       "      <th>16288529</th>\n",
       "      <td>{BD55330D-8F32-4162-9DA4-2753920A35B8}</td>\n",
       "      <td>159500</td>\n",
       "      <td>S</td>\n",
       "      <td>N</td>\n",
       "      <td>F</td>\n",
       "      <td>BURNHAM-ON-SEA</td>\n",
       "      <td>SEDGEMOOR</td>\n",
       "      <td>SOMERSET</td>\n",
       "      <td>A</td>\n",
       "      <td>A</td>\n",
       "      <td>2010-01-01</td>\n",
       "      <td>2010</td>\n",
       "    </tr>\n",
       "    <tr>\n",
       "      <th>16288530</th>\n",
       "      <td>{50D7D682-62EC-4161-80C8-2ADE2AEEBE0B}</td>\n",
       "      <td>225000</td>\n",
       "      <td>T</td>\n",
       "      <td>N</td>\n",
       "      <td>F</td>\n",
       "      <td>BRISTOL</td>\n",
       "      <td>NORTH SOMERSET</td>\n",
       "      <td>NORTH SOMERSET</td>\n",
       "      <td>A</td>\n",
       "      <td>A</td>\n",
       "      <td>2010-01-01</td>\n",
       "      <td>2010</td>\n",
       "    </tr>\n",
       "  </tbody>\n",
       "</table>\n",
       "</div>"
      ],
      "text/plain": [
       "                   Transaction unique identifier   Price Property Type  \\\n",
       "16288526  {C19EE7DE-83F7-446B-B80A-2E72D1013976}  242950             F   \n",
       "16288527  {89D89B61-0437-413A-A9D1-2E72DBA45D23}  220000             D   \n",
       "16288528  {23190476-2BF5-47FC-BE79-275388275836}   72000             T   \n",
       "16288529  {BD55330D-8F32-4162-9DA4-2753920A35B8}  159500             S   \n",
       "16288530  {50D7D682-62EC-4161-80C8-2ADE2AEEBE0B}  225000             T   \n",
       "\n",
       "         Old/New Duration       Town/City        District          County  \\\n",
       "16288526       Y        L        FERNDOWN     EAST DORSET          DORSET   \n",
       "16288527       Y        F      BRIDGNORTH      SHROPSHIRE      SHROPSHIRE   \n",
       "16288528       N        F      SUNDERLAND      SUNDERLAND   TYNE AND WEAR   \n",
       "16288529       N        F  BURNHAM-ON-SEA       SEDGEMOOR        SOMERSET   \n",
       "16288530       N        F         BRISTOL  NORTH SOMERSET  NORTH SOMERSET   \n",
       "\n",
       "         PPDCategory Type Record Status - monthly file only        date  Year  \n",
       "16288526                A                                 A  2010-01-01  2010  \n",
       "16288527                A                                 A  2010-01-01  2010  \n",
       "16288528                A                                 A  2010-01-01  2010  \n",
       "16288529                A                                 A  2010-01-01  2010  \n",
       "16288530                A                                 A  2010-01-01  2010  "
      ]
     },
     "execution_count": 42,
     "metadata": {},
     "output_type": "execute_result"
    }
   ],
   "source": [
    "engdf.head()"
   ]
  },
  {
   "cell_type": "code",
   "execution_count": 48,
   "id": "49fca554",
   "metadata": {},
   "outputs": [
    {
     "data": {
      "image/png": "[encoded data removed]",
      "text/plain": [
       "<Figure size 1296x432 with 1 Axes>"
      ]
     },
     "metadata": {
      "needs_background": "light"
     },
     "output_type": "display_data"
    }
   ],
   "source": [
    "import matplotlib.pyplot as plt  # Matlab-style plotting\n",
    "from IPython.display import display\n",
    "import seaborn as sns\n",
    "\n",
    "plt.subplots(figsize=(18, 6))\n",
    "median = plt.plot(leedsdf['Price'].groupby(leedsdf['Year']).median()[:10], label='Median', color='turquoise')\n",
    "mean = plt.plot(leedsdf['Price'].groupby(leedsdf['Year']).mean()[:10], label='Mean', color='green')\n",
    "plt.xlabel('Year', fontsize=15)\n",
    "plt.ylabel('Price (in £)', fontsize=15)\n",
    "plt.title('Median and Mean Price for Leeds City housing sales 2010-2017')\n",
    "plt.legend()\n",
    "plt.show()"
   ]
  },
  {
   "cell_type": "code",
   "execution_count": 53,
   "id": "1a7ed304",
   "metadata": {},
   "outputs": [
    {
     "data": {
      "text/plain": [
       "Transaction unique identifier        object\n",
       "Price                                 int64\n",
       "Property Type                        object\n",
       "Old/New                              object\n",
       "Duration                             object\n",
       "Town/City                            object\n",
       "District                             object\n",
       "County                               object\n",
       "PPDCategory Type                     object\n",
       "Record Status - monthly file only    object\n",
       "date                                 object\n",
       "Year                                 object\n",
       "dtype: object"
      ]
     },
     "execution_count": 53,
     "metadata": {},
     "output_type": "execute_result"
    }
   ],
   "source": [
    "leedsdf.dtypes"
   ]
  },
  {
   "cell_type": "code",
   "execution_count": 55,
   "id": "4429014f",
   "metadata": {},
   "outputs": [
    {
     "name": "stderr",
     "output_type": "stream",
     "text": [
      "C:\\Users\\user\\AppData\\Local\\Temp/ipykernel_24288/3310096036.py:1: SettingWithCopyWarning: \n",
      "A value is trying to be set on a copy of a slice from a DataFrame.\n",
      "Try using .loc[row_indexer,col_indexer] = value instead\n",
      "\n",
      "See the caveats in the documentation: https://pandas.pydata.org/pandas-docs/stable/user_guide/indexing.html#returning-a-view-versus-a-copy\n",
      "  leedsdf['Year'] = leedsdf['Year'].astype('int64')\n"
     ]
    },
    {
     "data": {
      "text/plain": [
       "Transaction unique identifier        object\n",
       "Price                                 int64\n",
       "Property Type                        object\n",
       "Old/New                              object\n",
       "Duration                             object\n",
       "Town/City                            object\n",
       "District                             object\n",
       "County                               object\n",
       "PPDCategory Type                     object\n",
       "Record Status - monthly file only    object\n",
       "date                                 object\n",
       "Year                                  int64\n",
       "dtype: object"
      ]
     },
     "execution_count": 55,
     "metadata": {},
     "output_type": "execute_result"
    }
   ],
   "source": [
    "leedsdf['Year'] = leedsdf['Year'].astype('int64')\n",
    "leedsdf.dtypes"
   ]
  },
  {
   "cell_type": "code",
   "execution_count": 57,
   "id": "5519cd4a",
   "metadata": {},
   "outputs": [],
   "source": [
    "leedsdf = leedsdf.loc[leedsdf['Year'] >= 2014]"
   ]
  },
  {
   "cell_type": "code",
   "execution_count": 58,
   "id": "b7316bcf",
   "metadata": {},
   "outputs": [
    {
     "data": {
      "text/html": [
       "<div>\n",
       "<style scoped>\n",
       "    .dataframe tbody tr th:only-of-type {\n",
       "        vertical-align: middle;\n",
       "    }\n",
       "\n",
       "    .dataframe tbody tr th {\n",
       "        vertical-align: top;\n",
       "    }\n",
       "\n",
       "    .dataframe thead th {\n",
       "        text-align: right;\n",
       "    }\n",
       "</style>\n",
       "<table border=\"1\" class=\"dataframe\">\n",
       "  <thead>\n",
       "    <tr style=\"text-align: right;\">\n",
       "      <th></th>\n",
       "      <th>Transaction unique identifier</th>\n",
       "      <th>Price</th>\n",
       "      <th>Property Type</th>\n",
       "      <th>Old/New</th>\n",
       "      <th>Duration</th>\n",
       "      <th>Town/City</th>\n",
       "      <th>District</th>\n",
       "      <th>County</th>\n",
       "      <th>PPDCategory Type</th>\n",
       "      <th>Record Status - monthly file only</th>\n",
       "      <th>date</th>\n",
       "      <th>Year</th>\n",
       "    </tr>\n",
       "  </thead>\n",
       "  <tbody>\n",
       "    <tr>\n",
       "      <th>19091336</th>\n",
       "      <td>{D8E371C4-6E65-4971-BFF4-CAB1251562B0}</td>\n",
       "      <td>71000</td>\n",
       "      <td>F</td>\n",
       "      <td>N</td>\n",
       "      <td>L</td>\n",
       "      <td>LEEDS</td>\n",
       "      <td>LEEDS</td>\n",
       "      <td>WEST YORKSHIRE</td>\n",
       "      <td>A</td>\n",
       "      <td>A</td>\n",
       "      <td>2014-01-01</td>\n",
       "      <td>2014</td>\n",
       "    </tr>\n",
       "    <tr>\n",
       "      <th>19091473</th>\n",
       "      <td>{DFDB99E4-51FA-4DD0-A8AD-A054F3069F68}</td>\n",
       "      <td>140000</td>\n",
       "      <td>S</td>\n",
       "      <td>N</td>\n",
       "      <td>F</td>\n",
       "      <td>LEEDS</td>\n",
       "      <td>LEEDS</td>\n",
       "      <td>WEST YORKSHIRE</td>\n",
       "      <td>A</td>\n",
       "      <td>A</td>\n",
       "      <td>2014-01-01</td>\n",
       "      <td>2014</td>\n",
       "    </tr>\n",
       "    <tr>\n",
       "      <th>19091485</th>\n",
       "      <td>{9E0E08F4-CC77-4B62-99C5-9CC74ADFE344}</td>\n",
       "      <td>187000</td>\n",
       "      <td>T</td>\n",
       "      <td>N</td>\n",
       "      <td>F</td>\n",
       "      <td>LEEDS</td>\n",
       "      <td>LEEDS</td>\n",
       "      <td>WEST YORKSHIRE</td>\n",
       "      <td>A</td>\n",
       "      <td>A</td>\n",
       "      <td>2014-01-01</td>\n",
       "      <td>2014</td>\n",
       "    </tr>\n",
       "    <tr>\n",
       "      <th>19091599</th>\n",
       "      <td>{816612BB-1B7D-421E-8BD2-E2101B871F37}</td>\n",
       "      <td>65000</td>\n",
       "      <td>T</td>\n",
       "      <td>N</td>\n",
       "      <td>F</td>\n",
       "      <td>LEEDS</td>\n",
       "      <td>LEEDS</td>\n",
       "      <td>WEST YORKSHIRE</td>\n",
       "      <td>A</td>\n",
       "      <td>A</td>\n",
       "      <td>2014-01-01</td>\n",
       "      <td>2014</td>\n",
       "    </tr>\n",
       "    <tr>\n",
       "      <th>19091654</th>\n",
       "      <td>{9DF0857B-6276-468C-84A3-A1ED463EED91}</td>\n",
       "      <td>238000</td>\n",
       "      <td>S</td>\n",
       "      <td>N</td>\n",
       "      <td>F</td>\n",
       "      <td>LEEDS</td>\n",
       "      <td>LEEDS</td>\n",
       "      <td>WEST YORKSHIRE</td>\n",
       "      <td>A</td>\n",
       "      <td>A</td>\n",
       "      <td>2014-01-01</td>\n",
       "      <td>2014</td>\n",
       "    </tr>\n",
       "  </tbody>\n",
       "</table>\n",
       "</div>"
      ],
      "text/plain": [
       "                   Transaction unique identifier   Price Property Type  \\\n",
       "19091336  {D8E371C4-6E65-4971-BFF4-CAB1251562B0}   71000             F   \n",
       "19091473  {DFDB99E4-51FA-4DD0-A8AD-A054F3069F68}  140000             S   \n",
       "19091485  {9E0E08F4-CC77-4B62-99C5-9CC74ADFE344}  187000             T   \n",
       "19091599  {816612BB-1B7D-421E-8BD2-E2101B871F37}   65000             T   \n",
       "19091654  {9DF0857B-6276-468C-84A3-A1ED463EED91}  238000             S   \n",
       "\n",
       "         Old/New Duration Town/City District          County PPDCategory Type  \\\n",
       "19091336       N        L     LEEDS    LEEDS  WEST YORKSHIRE                A   \n",
       "19091473       N        F     LEEDS    LEEDS  WEST YORKSHIRE                A   \n",
       "19091485       N        F     LEEDS    LEEDS  WEST YORKSHIRE                A   \n",
       "19091599       N        F     LEEDS    LEEDS  WEST YORKSHIRE                A   \n",
       "19091654       N        F     LEEDS    LEEDS  WEST YORKSHIRE                A   \n",
       "\n",
       "         Record Status - monthly file only        date  Year  \n",
       "19091336                                 A  2014-01-01  2014  \n",
       "19091473                                 A  2014-01-01  2014  \n",
       "19091485                                 A  2014-01-01  2014  \n",
       "19091599                                 A  2014-01-01  2014  \n",
       "19091654                                 A  2014-01-01  2014  "
      ]
     },
     "execution_count": 58,
     "metadata": {},
     "output_type": "execute_result"
    }
   ],
   "source": [
    "leedsdf.head()"
   ]
  },
  {
   "cell_type": "code",
   "execution_count": 59,
   "id": "69d10c77",
   "metadata": {},
   "outputs": [
    {
     "name": "stderr",
     "output_type": "stream",
     "text": [
      "C:\\Users\\user\\AppData\\Local\\Temp/ipykernel_24288/2255169383.py:1: SettingWithCopyWarning: \n",
      "A value is trying to be set on a copy of a slice from a DataFrame.\n",
      "Try using .loc[row_indexer,col_indexer] = value instead\n",
      "\n",
      "See the caveats in the documentation: https://pandas.pydata.org/pandas-docs/stable/user_guide/indexing.html#returning-a-view-versus-a-copy\n",
      "  leedsdf['date'] = leedsdf['date'].astype(str)\n"
     ]
    }
   ],
   "source": [
    "leedsdf['date'] = leedsdf['date'].astype(str)\n",
    "shas = np.array(leedsdf['date'])\n",
    "month = []\n",
    "i = 0\n",
    "while i < len(leedsdf):\n",
    "    string = shas[i].split('-')\n",
    "    shas[i] = string[1]\n",
    "    month.append(shas[i])\n",
    "    i += 1"
   ]
  },
  {
   "cell_type": "code",
   "execution_count": 60,
   "id": "d359246d",
   "metadata": {},
   "outputs": [
    {
     "data": {
      "text/plain": [
       "'01'"
      ]
     },
     "execution_count": 60,
     "metadata": {},
     "output_type": "execute_result"
    }
   ],
   "source": [
    "month[0]"
   ]
  },
  {
   "cell_type": "code",
   "execution_count": 62,
   "id": "6590c3b5",
   "metadata": {},
   "outputs": [],
   "source": [
    "leedsdf['Month'] = month"
   ]
  },
  {
   "cell_type": "code",
   "execution_count": 63,
   "id": "22f203ae",
   "metadata": {},
   "outputs": [],
   "source": [
    "change = ['01', '02', '03', '04', '05', '06', '07', '08', '09']\n",
    "vals = list(leedsdf['Month'])\n",
    "monthfix = []\n",
    "for i in range(len(leedsdf)):\n",
    "    if vals[i] in change:\n",
    "        monthfix.append(vals[i][-1])\n",
    "    else:\n",
    "        monthfix.append(vals[i])"
   ]
  },
  {
   "cell_type": "code",
   "execution_count": 64,
   "id": "264436c6",
   "metadata": {},
   "outputs": [
    {
     "data": {
      "text/plain": [
       "'1'"
      ]
     },
     "execution_count": 64,
     "metadata": {},
     "output_type": "execute_result"
    }
   ],
   "source": [
    "monthfix[0]"
   ]
  },
  {
   "cell_type": "code",
   "execution_count": 65,
   "id": "503e493c",
   "metadata": {},
   "outputs": [],
   "source": [
    "leedsdf['Month'] = monthfix"
   ]
  },
  {
   "cell_type": "code",
   "execution_count": 66,
   "id": "254afc8f",
   "metadata": {},
   "outputs": [
    {
     "data": {
      "text/plain": [
       "Transaction unique identifier        object\n",
       "Price                                 int64\n",
       "Property Type                        object\n",
       "Old/New                              object\n",
       "Duration                             object\n",
       "Town/City                            object\n",
       "District                             object\n",
       "County                               object\n",
       "PPDCategory Type                     object\n",
       "Record Status - monthly file only    object\n",
       "date                                 object\n",
       "Year                                  int64\n",
       "Month                                 int64\n",
       "dtype: object"
      ]
     },
     "execution_count": 66,
     "metadata": {},
     "output_type": "execute_result"
    }
   ],
   "source": [
    "leedsdf['Month'] = leedsdf['Month'].astype('int64')\n",
    "leedsdf.dtypes"
   ]
  },
  {
   "cell_type": "code",
   "execution_count": 67,
   "id": "6c015887",
   "metadata": {},
   "outputs": [],
   "source": [
    "leedsdf.drop(columns = ['date'], inplace = True)"
   ]
  },
  {
   "cell_type": "code",
   "execution_count": 68,
   "id": "8b234a94",
   "metadata": {},
   "outputs": [],
   "source": [
    "#leedsdf.to_csv('leeds-data-1417.csv')"
   ]
  }
 ],
 "metadata": {
  "kernelspec": {
   "display_name": "Python 3 (ipykernel)",
   "language": "python",
   "name": "python3"
  },
  "language_info": {
   "codemirror_mode": {
    "name": "ipython",
    "version": 3
   },
   "file_extension": ".py",
   "mimetype": "text/x-python",
   "name": "python",
   "nbconvert_exporter": "python",
   "pygments_lexer": "ipython3",
   "version": "3.8.12"
  }
 },
 "nbformat": 4,
 "nbformat_minor": 5
}
